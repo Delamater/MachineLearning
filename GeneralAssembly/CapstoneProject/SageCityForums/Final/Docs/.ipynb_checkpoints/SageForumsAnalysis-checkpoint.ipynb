{
 "cells": [
  {
   "cell_type": "markdown",
   "metadata": {},
   "source": [
    "# Read Sage City Forum Data And Output Topics"
   ]
  },
  {
   "cell_type": "markdown",
   "metadata": {},
   "source": [
    "## Requirements Setup"
   ]
  },
  {
   "cell_type": "code",
   "execution_count": 1,
   "metadata": {},
   "outputs": [
    {
     "name": "stdout",
     "output_type": "stream",
     "text": [
      "Requirement already satisfied: lxml in c:\\users\\bdelamater\\anaconda3\\lib\\site-packages (4.6.3)\n",
      "Requirement already satisfied: nltk in c:\\users\\bdelamater\\anaconda3\\lib\\site-packages (3.6.1)\n",
      "Requirement already satisfied: joblib in c:\\users\\bdelamater\\anaconda3\\lib\\site-packages (from nltk) (1.0.1)\n",
      "Requirement already satisfied: tqdm in c:\\users\\bdelamater\\anaconda3\\lib\\site-packages (from nltk) (4.59.0)\n",
      "Requirement already satisfied: regex in c:\\users\\bdelamater\\anaconda3\\lib\\site-packages (from nltk) (2021.4.4)\n",
      "Requirement already satisfied: click in c:\\users\\bdelamater\\anaconda3\\lib\\site-packages (from nltk) (7.1.2)\n",
      "Requirement already satisfied: seaborn in c:\\users\\bdelamater\\anaconda3\\lib\\site-packages (0.11.1)\n",
      "Requirement already satisfied: scipy>=1.0 in c:\\users\\bdelamater\\anaconda3\\lib\\site-packages (from seaborn) (1.6.2)\n",
      "Requirement already satisfied: matplotlib>=2.2 in c:\\users\\bdelamater\\anaconda3\\lib\\site-packages (from seaborn) (3.4.2)\n",
      "Requirement already satisfied: pandas>=0.23 in c:\\users\\bdelamater\\anaconda3\\lib\\site-packages (from seaborn) (1.2.4)\n",
      "Requirement already satisfied: numpy>=1.15 in c:\\users\\bdelamater\\anaconda3\\lib\\site-packages (from seaborn) (1.20.1)\n",
      "Requirement already satisfied: cycler>=0.10 in c:\\users\\bdelamater\\anaconda3\\lib\\site-packages (from matplotlib>=2.2->seaborn) (0.10.0)\n",
      "Requirement already satisfied: python-dateutil>=2.7 in c:\\users\\bdelamater\\anaconda3\\lib\\site-packages (from matplotlib>=2.2->seaborn) (2.8.1)\n",
      "Requirement already satisfied: pillow>=6.2.0 in c:\\users\\bdelamater\\anaconda3\\lib\\site-packages (from matplotlib>=2.2->seaborn) (8.2.0)\n",
      "Requirement already satisfied: pyparsing>=2.2.1 in c:\\users\\bdelamater\\anaconda3\\lib\\site-packages (from matplotlib>=2.2->seaborn) (2.4.7)\n",
      "Requirement already satisfied: kiwisolver>=1.0.1 in c:\\users\\bdelamater\\anaconda3\\lib\\site-packages (from matplotlib>=2.2->seaborn) (1.3.1)\n",
      "Requirement already satisfied: six in c:\\users\\bdelamater\\anaconda3\\lib\\site-packages (from cycler>=0.10->matplotlib>=2.2->seaborn) (1.15.0)\n",
      "Requirement already satisfied: pytz>=2017.3 in c:\\users\\bdelamater\\anaconda3\\lib\\site-packages (from pandas>=0.23->seaborn) (2021.1)\n",
      "Requirement already satisfied: textblob in c:\\users\\bdelamater\\anaconda3\\lib\\site-packages (0.15.3)\n",
      "Requirement already satisfied: nltk>=3.1 in c:\\users\\bdelamater\\anaconda3\\lib\\site-packages (from textblob) (3.6.1)\n",
      "Requirement already satisfied: click in c:\\users\\bdelamater\\anaconda3\\lib\\site-packages (from nltk>=3.1->textblob) (7.1.2)\n",
      "Requirement already satisfied: regex in c:\\users\\bdelamater\\anaconda3\\lib\\site-packages (from nltk>=3.1->textblob) (2021.4.4)\n",
      "Requirement already satisfied: tqdm in c:\\users\\bdelamater\\anaconda3\\lib\\site-packages (from nltk>=3.1->textblob) (4.59.0)\n",
      "Requirement already satisfied: joblib in c:\\users\\bdelamater\\anaconda3\\lib\\site-packages (from nltk>=3.1->textblob) (1.0.1)\n",
      "Requirement already satisfied: bs4 in c:\\users\\bdelamater\\anaconda3\\lib\\site-packages (0.0.1)\n",
      "Requirement already satisfied: beautifulsoup4 in c:\\users\\bdelamater\\anaconda3\\lib\\site-packages (from bs4) (4.9.3)\n",
      "Requirement already satisfied: soupsieve>1.2 in c:\\users\\bdelamater\\anaconda3\\lib\\site-packages (from beautifulsoup4->bs4) (2.2.1)\n",
      "Requirement already satisfied: xlrd in c:\\users\\bdelamater\\anaconda3\\lib\\site-packages (2.0.1)\n",
      "Requirement already satisfied: openpyxl in c:\\users\\bdelamater\\anaconda3\\lib\\site-packages (3.0.7)\n",
      "Requirement already satisfied: et-xmlfile in c:\\users\\bdelamater\\anaconda3\\lib\\site-packages (from openpyxl) (1.0.1)\n",
      "Requirement already satisfied: nbformat in c:\\users\\bdelamater\\anaconda3\\lib\\site-packages (5.1.3)\n",
      "Requirement already satisfied: ipython-genutils in c:\\users\\bdelamater\\anaconda3\\lib\\site-packages (from nbformat) (0.2.0)\n",
      "Requirement already satisfied: jupyter-core in c:\\users\\bdelamater\\anaconda3\\lib\\site-packages (from nbformat) (4.7.1)\n",
      "Requirement already satisfied: jsonschema!=2.5.0,>=2.4 in c:\\users\\bdelamater\\anaconda3\\lib\\site-packages (from nbformat) (3.2.0)\n",
      "Requirement already satisfied: traitlets>=4.1 in c:\\users\\bdelamater\\anaconda3\\lib\\site-packages (from nbformat) (5.0.5)\n",
      "Requirement already satisfied: attrs>=17.4.0 in c:\\users\\bdelamater\\anaconda3\\lib\\site-packages (from jsonschema!=2.5.0,>=2.4->nbformat) (20.3.0)\n",
      "Requirement already satisfied: setuptools in c:\\users\\bdelamater\\anaconda3\\lib\\site-packages (from jsonschema!=2.5.0,>=2.4->nbformat) (52.0.0.post20210125)\n",
      "Requirement already satisfied: pyrsistent>=0.14.0 in c:\\users\\bdelamater\\anaconda3\\lib\\site-packages (from jsonschema!=2.5.0,>=2.4->nbformat) (0.17.3)\n",
      "Requirement already satisfied: six>=1.11.0 in c:\\users\\bdelamater\\anaconda3\\lib\\site-packages (from jsonschema!=2.5.0,>=2.4->nbformat) (1.15.0)\n",
      "Requirement already satisfied: pywin32>=1.0 in c:\\users\\bdelamater\\anaconda3\\lib\\site-packages (from jupyter-core->nbformat) (227)\n",
      "Requirement already satisfied: gensim in c:\\users\\bdelamater\\anaconda3\\lib\\site-packages (4.0.1)\n",
      "Requirement already satisfied: smart-open>=1.8.1 in c:\\users\\bdelamater\\anaconda3\\lib\\site-packages (from gensim) (5.1.0)\n",
      "Requirement already satisfied: Cython==0.29.21 in c:\\users\\bdelamater\\anaconda3\\lib\\site-packages (from gensim) (0.29.21)\n",
      "Requirement already satisfied: scipy>=0.18.1 in c:\\users\\bdelamater\\anaconda3\\lib\\site-packages (from gensim) (1.6.2)\n",
      "Requirement already satisfied: numpy>=1.11.3 in c:\\users\\bdelamater\\anaconda3\\lib\\site-packages (from gensim) (1.20.1)\n",
      "Requirement already satisfied: langdetect in c:\\users\\bdelamater\\anaconda3\\lib\\site-packages (1.0.9)\n",
      "Requirement already satisfied: six in c:\\users\\bdelamater\\anaconda3\\lib\\site-packages (from langdetect) (1.15.0)\n",
      "Requirement already satisfied: ipywidgets in c:\\users\\bdelamater\\anaconda3\\lib\\site-packages (7.6.3)\n",
      "Requirement already satisfied: ipython>=4.0.0 in c:\\users\\bdelamater\\anaconda3\\lib\\site-packages (from ipywidgets) (7.22.0)\n",
      "Requirement already satisfied: ipykernel>=4.5.1 in c:\\users\\bdelamater\\anaconda3\\lib\\site-packages (from ipywidgets) (5.3.4)\n",
      "Requirement already satisfied: nbformat>=4.2.0 in c:\\users\\bdelamater\\anaconda3\\lib\\site-packages (from ipywidgets) (5.1.3)\n",
      "Requirement already satisfied: jupyterlab-widgets>=1.0.0 in c:\\users\\bdelamater\\anaconda3\\lib\\site-packages (from ipywidgets) (1.0.0)\n",
      "Requirement already satisfied: widgetsnbextension~=3.5.0 in c:\\users\\bdelamater\\anaconda3\\lib\\site-packages (from ipywidgets) (3.5.1)\n",
      "Requirement already satisfied: traitlets>=4.3.1 in c:\\users\\bdelamater\\anaconda3\\lib\\site-packages (from ipywidgets) (5.0.5)\n",
      "Requirement already satisfied: jupyter-client in c:\\users\\bdelamater\\anaconda3\\lib\\site-packages (from ipykernel>=4.5.1->ipywidgets) (6.1.12)\n",
      "Requirement already satisfied: tornado>=4.2 in c:\\users\\bdelamater\\anaconda3\\lib\\site-packages (from ipykernel>=4.5.1->ipywidgets) (6.1)\n",
      "Requirement already satisfied: prompt-toolkit!=3.0.0,!=3.0.1,<3.1.0,>=2.0.0 in c:\\users\\bdelamater\\anaconda3\\lib\\site-packages (from ipython>=4.0.0->ipywidgets) (3.0.17)\n",
      "Requirement already satisfied: jedi>=0.16 in c:\\users\\bdelamater\\anaconda3\\lib\\site-packages (from ipython>=4.0.0->ipywidgets) (0.17.2)\n",
      "Requirement already satisfied: pygments in c:\\users\\bdelamater\\anaconda3\\lib\\site-packages (from ipython>=4.0.0->ipywidgets) (2.8.1)\n",
      "Requirement already satisfied: decorator in c:\\users\\bdelamater\\anaconda3\\lib\\site-packages (from ipython>=4.0.0->ipywidgets) (5.0.6)\n",
      "Requirement already satisfied: setuptools>=18.5 in c:\\users\\bdelamater\\anaconda3\\lib\\site-packages (from ipython>=4.0.0->ipywidgets) (52.0.0.post20210125)\n",
      "Requirement already satisfied: backcall in c:\\users\\bdelamater\\anaconda3\\lib\\site-packages (from ipython>=4.0.0->ipywidgets) (0.2.0)\n",
      "Requirement already satisfied: colorama in c:\\users\\bdelamater\\anaconda3\\lib\\site-packages (from ipython>=4.0.0->ipywidgets) (0.4.4)\n",
      "Requirement already satisfied: pickleshare in c:\\users\\bdelamater\\anaconda3\\lib\\site-packages (from ipython>=4.0.0->ipywidgets) (0.7.5)\n",
      "Requirement already satisfied: parso<0.8.0,>=0.7.0 in c:\\users\\bdelamater\\anaconda3\\lib\\site-packages (from jedi>=0.16->ipython>=4.0.0->ipywidgets) (0.7.0)\n",
      "Requirement already satisfied: jupyter-core in c:\\users\\bdelamater\\anaconda3\\lib\\site-packages (from nbformat>=4.2.0->ipywidgets) (4.7.1)\n",
      "Requirement already satisfied: jsonschema!=2.5.0,>=2.4 in c:\\users\\bdelamater\\anaconda3\\lib\\site-packages (from nbformat>=4.2.0->ipywidgets) (3.2.0)\n",
      "Requirement already satisfied: ipython-genutils in c:\\users\\bdelamater\\anaconda3\\lib\\site-packages (from nbformat>=4.2.0->ipywidgets) (0.2.0)\n",
      "Requirement already satisfied: attrs>=17.4.0 in c:\\users\\bdelamater\\anaconda3\\lib\\site-packages (from jsonschema!=2.5.0,>=2.4->nbformat>=4.2.0->ipywidgets) (20.3.0)\n",
      "Requirement already satisfied: six>=1.11.0 in c:\\users\\bdelamater\\anaconda3\\lib\\site-packages (from jsonschema!=2.5.0,>=2.4->nbformat>=4.2.0->ipywidgets) (1.15.0)\n",
      "Requirement already satisfied: pyrsistent>=0.14.0 in c:\\users\\bdelamater\\anaconda3\\lib\\site-packages (from jsonschema!=2.5.0,>=2.4->nbformat>=4.2.0->ipywidgets) (0.17.3)\n",
      "Requirement already satisfied: wcwidth in c:\\users\\bdelamater\\anaconda3\\lib\\site-packages (from prompt-toolkit!=3.0.0,!=3.0.1,<3.1.0,>=2.0.0->ipython>=4.0.0->ipywidgets) (0.2.5)\n",
      "Requirement already satisfied: notebook>=4.4.1 in c:\\users\\bdelamater\\anaconda3\\lib\\site-packages (from widgetsnbextension~=3.5.0->ipywidgets) (6.3.0)\n",
      "Requirement already satisfied: Send2Trash>=1.5.0 in c:\\users\\bdelamater\\anaconda3\\lib\\site-packages (from notebook>=4.4.1->widgetsnbextension~=3.5.0->ipywidgets) (1.5.0)\n",
      "Requirement already satisfied: prometheus-client in c:\\users\\bdelamater\\anaconda3\\lib\\site-packages (from notebook>=4.4.1->widgetsnbextension~=3.5.0->ipywidgets) (0.10.1)\n",
      "Requirement already satisfied: terminado>=0.8.3 in c:\\users\\bdelamater\\anaconda3\\lib\\site-packages (from notebook>=4.4.1->widgetsnbextension~=3.5.0->ipywidgets) (0.9.4)\n",
      "Requirement already satisfied: jinja2 in c:\\users\\bdelamater\\anaconda3\\lib\\site-packages (from notebook>=4.4.1->widgetsnbextension~=3.5.0->ipywidgets) (2.11.3)\n",
      "Requirement already satisfied: pyzmq>=17 in c:\\users\\bdelamater\\anaconda3\\lib\\site-packages (from notebook>=4.4.1->widgetsnbextension~=3.5.0->ipywidgets) (20.0.0)\n",
      "Requirement already satisfied: nbconvert in c:\\users\\bdelamater\\anaconda3\\lib\\site-packages (from notebook>=4.4.1->widgetsnbextension~=3.5.0->ipywidgets) (6.0.7)\n",
      "Requirement already satisfied: argon2-cffi in c:\\users\\bdelamater\\anaconda3\\lib\\site-packages (from notebook>=4.4.1->widgetsnbextension~=3.5.0->ipywidgets) (20.1.0)\n",
      "Requirement already satisfied: python-dateutil>=2.1 in c:\\users\\bdelamater\\anaconda3\\lib\\site-packages (from jupyter-client->ipykernel>=4.5.1->ipywidgets) (2.8.1)\n",
      "Requirement already satisfied: pywin32>=1.0 in c:\\users\\bdelamater\\anaconda3\\lib\\site-packages (from jupyter-core->nbformat>=4.2.0->ipywidgets) (227)\n",
      "Requirement already satisfied: pywinpty>=0.5 in c:\\users\\bdelamater\\anaconda3\\lib\\site-packages (from terminado>=0.8.3->notebook>=4.4.1->widgetsnbextension~=3.5.0->ipywidgets) (0.5.7)\n",
      "Requirement already satisfied: cffi>=1.0.0 in c:\\users\\bdelamater\\anaconda3\\lib\\site-packages (from argon2-cffi->notebook>=4.4.1->widgetsnbextension~=3.5.0->ipywidgets) (1.14.5)\n",
      "Requirement already satisfied: pycparser in c:\\users\\bdelamater\\anaconda3\\lib\\site-packages (from cffi>=1.0.0->argon2-cffi->notebook>=4.4.1->widgetsnbextension~=3.5.0->ipywidgets) (2.20)\n",
      "Requirement already satisfied: MarkupSafe>=0.23 in c:\\users\\bdelamater\\anaconda3\\lib\\site-packages (from jinja2->notebook>=4.4.1->widgetsnbextension~=3.5.0->ipywidgets) (1.1.1)\n",
      "Requirement already satisfied: jupyterlab-pygments in c:\\users\\bdelamater\\anaconda3\\lib\\site-packages (from nbconvert->notebook>=4.4.1->widgetsnbextension~=3.5.0->ipywidgets) (0.1.2)\n",
      "Requirement already satisfied: nbclient<0.6.0,>=0.5.0 in c:\\users\\bdelamater\\anaconda3\\lib\\site-packages (from nbconvert->notebook>=4.4.1->widgetsnbextension~=3.5.0->ipywidgets) (0.5.3)\n",
      "Requirement already satisfied: mistune<2,>=0.8.1 in c:\\users\\bdelamater\\anaconda3\\lib\\site-packages (from nbconvert->notebook>=4.4.1->widgetsnbextension~=3.5.0->ipywidgets) (0.8.4)\n",
      "Requirement already satisfied: pandocfilters>=1.4.1 in c:\\users\\bdelamater\\anaconda3\\lib\\site-packages (from nbconvert->notebook>=4.4.1->widgetsnbextension~=3.5.0->ipywidgets) (1.4.3)\n",
      "Requirement already satisfied: testpath in c:\\users\\bdelamater\\anaconda3\\lib\\site-packages (from nbconvert->notebook>=4.4.1->widgetsnbextension~=3.5.0->ipywidgets) (0.4.4)\n",
      "Requirement already satisfied: entrypoints>=0.2.2 in c:\\users\\bdelamater\\anaconda3\\lib\\site-packages (from nbconvert->notebook>=4.4.1->widgetsnbextension~=3.5.0->ipywidgets) (0.3)\n",
      "Requirement already satisfied: bleach in c:\\users\\bdelamater\\anaconda3\\lib\\site-packages (from nbconvert->notebook>=4.4.1->widgetsnbextension~=3.5.0->ipywidgets) (3.3.0)\n",
      "Requirement already satisfied: defusedxml in c:\\users\\bdelamater\\anaconda3\\lib\\site-packages (from nbconvert->notebook>=4.4.1->widgetsnbextension~=3.5.0->ipywidgets) (0.7.1)\n",
      "Requirement already satisfied: async-generator in c:\\users\\bdelamater\\anaconda3\\lib\\site-packages (from nbclient<0.6.0,>=0.5.0->nbconvert->notebook>=4.4.1->widgetsnbextension~=3.5.0->ipywidgets) (1.10)\n",
      "Requirement already satisfied: nest-asyncio in c:\\users\\bdelamater\\anaconda3\\lib\\site-packages (from nbclient<0.6.0,>=0.5.0->nbconvert->notebook>=4.4.1->widgetsnbextension~=3.5.0->ipywidgets) (1.5.1)\n",
      "Requirement already satisfied: packaging in c:\\users\\bdelamater\\anaconda3\\lib\\site-packages (from bleach->nbconvert->notebook>=4.4.1->widgetsnbextension~=3.5.0->ipywidgets) (20.9)\n",
      "Requirement already satisfied: webencodings in c:\\users\\bdelamater\\anaconda3\\lib\\site-packages (from bleach->nbconvert->notebook>=4.4.1->widgetsnbextension~=3.5.0->ipywidgets) (0.5.1)\n",
      "Requirement already satisfied: pyparsing>=2.0.2 in c:\\users\\bdelamater\\anaconda3\\lib\\site-packages (from packaging->bleach->nbconvert->notebook>=4.4.1->widgetsnbextension~=3.5.0->ipywidgets) (2.4.7)\n"
     ]
    }
   ],
   "source": [
    "! pip install lxml\n",
    "! pip install nltk\n",
    "! pip install seaborn\n",
    "! pip install textblob\n",
    "! pip install bs4\n",
    "! pip install xlrd\n",
    "! pip install openpyxl \n",
    "! pip install --upgrade nbformat\n",
    "! pip install gensim\n",
    "! pip install langdetect\n",
    "! pip install ipywidgets\n",
    "\n",
    "import warnings\n",
    "warnings.filterwarnings('ignore')"
   ]
  },
  {
   "cell_type": "code",
   "execution_count": 2,
   "metadata": {},
   "outputs": [
    {
     "name": "stderr",
     "output_type": "stream",
     "text": [
      "[nltk_data] Downloading package wordnet to\n",
      "[nltk_data]     C:\\Users\\BDelamater\\AppData\\Roaming\\nltk_data...\n",
      "[nltk_data]   Package wordnet is already up-to-date!\n",
      "[nltk_data] Downloading package stopwords to\n",
      "[nltk_data]     C:\\Users\\BDelamater\\AppData\\Roaming\\nltk_data...\n",
      "[nltk_data]   Package stopwords is already up-to-date!\n",
      "[nltk_data] Downloading package punkt to\n",
      "[nltk_data]     C:\\Users\\BDelamater\\AppData\\Roaming\\nltk_data...\n",
      "[nltk_data]   Package punkt is already up-to-date!\n",
      "[nltk_data] Downloading package vader_lexicon to\n",
      "[nltk_data]     C:\\Users\\BDelamater\\AppData\\Roaming\\nltk_data...\n",
      "[nltk_data]   Package vader_lexicon is already up-to-date!\n"
     ]
    }
   ],
   "source": [
    "import nltk\n",
    "nltk.download('wordnet')\n",
    "nltk.download('stopwords')\n",
    "nltk.download('punkt')\n",
    "nltk.download('vader_lexicon')\n",
    "\n",
    "import pandas as pd\n",
    "import numpy as np\n",
    "from sklearn.metrics import classification_report, confusion_matrix, accuracy_score, \\\n",
    "precision_score, recall_score\n",
    "import seaborn as sns\n",
    "import matplotlib.pyplot as plt\n",
    "\n",
    "# For graphing charts\n",
    "import plotly.graph_objects as go\n",
    "from plotly.subplots import make_subplots\n",
    "import re\n",
    "import plotly.express as px\n",
    "\n",
    "\n",
    "import pandas as pd\n",
    "import numpy as np\n",
    "import scipy as sp\n",
    "from sklearn.model_selection import train_test_split\n",
    "from sklearn.feature_extraction.text import CountVectorizer, TfidfVectorizer\n",
    "from sklearn.naive_bayes import MultinomialNB         # Naive Bayes\n",
    "from sklearn.linear_model import LogisticRegression\n",
    "from sklearn import metrics\n",
    "from textblob import TextBlob, Word\n",
    "from nltk.stem.snowball import SnowballStemmer\n",
    "from bs4 import BeautifulSoup\n",
    "\n",
    "# Dataset to process\n",
    "myFile = '../data/SageCityForumData.xlsx'\n",
    "GraphTitle = 'Sage City Forum Sentiment'"
   ]
  },
  {
   "cell_type": "markdown",
   "metadata": {},
   "source": [
    "## Data Exploration and Cleaning"
   ]
  },
  {
   "cell_type": "code",
   "execution_count": 3,
   "metadata": {},
   "outputs": [
    {
     "name": "stdout",
     "output_type": "stream",
     "text": [
      "(2943, 10)\n"
     ]
    },
    {
     "data": {
      "text/html": [
       "<div>\n",
       "<style scoped>\n",
       "    .dataframe tbody tr th:only-of-type {\n",
       "        vertical-align: middle;\n",
       "    }\n",
       "\n",
       "    .dataframe tbody tr th {\n",
       "        vertical-align: top;\n",
       "    }\n",
       "\n",
       "    .dataframe thead th {\n",
       "        text-align: right;\n",
       "    }\n",
       "</style>\n",
       "<table border=\"1\" class=\"dataframe\">\n",
       "  <thead>\n",
       "    <tr style=\"text-align: right;\">\n",
       "      <th></th>\n",
       "      <th>ID</th>\n",
       "      <th>Forum ID</th>\n",
       "      <th>Forum Name</th>\n",
       "      <th>Body</th>\n",
       "      <th>Subject</th>\n",
       "      <th>Post Date</th>\n",
       "      <th>User DisplayName</th>\n",
       "      <th>Is Question</th>\n",
       "      <th>Tags</th>\n",
       "      <th>Likes</th>\n",
       "    </tr>\n",
       "  </thead>\n",
       "  <tbody>\n",
       "    <tr>\n",
       "      <th>0</th>\n",
       "      <td>133741</td>\n",
       "      <td>40</td>\n",
       "      <td>Sage X3 General Discussion</td>\n",
       "      <td>&lt;p class=\"_1qeIAgB0cPwnLhDF9XSiJM\"&gt;Company upg...</td>\n",
       "      <td>ERP help urgently needed</td>\n",
       "      <td>2019-10-10T05:58:05.73</td>\n",
       "      <td>ChinusGomes</td>\n",
       "      <td>QuestionAndAnswer</td>\n",
       "      <td>NaN</td>\n",
       "      <td>NaN</td>\n",
       "    </tr>\n",
       "    <tr>\n",
       "      <th>1</th>\n",
       "      <td>133741</td>\n",
       "      <td>40</td>\n",
       "      <td>Sage X3 General Discussion</td>\n",
       "      <td>&lt;p class=\"_1qeIAgB0cPwnLhDF9XSiJM\"&gt;Company upg...</td>\n",
       "      <td>ERP help urgently needed</td>\n",
       "      <td>2019-10-10T05:58:05.73</td>\n",
       "      <td>ChinusGomes</td>\n",
       "      <td>QuestionAndAnswer</td>\n",
       "      <td>NaN</td>\n",
       "      <td>NaN</td>\n",
       "    </tr>\n",
       "    <tr>\n",
       "      <th>2</th>\n",
       "      <td>133741</td>\n",
       "      <td>40</td>\n",
       "      <td>Sage X3 General Discussion</td>\n",
       "      <td>&lt;p class=\"_1qeIAgB0cPwnLhDF9XSiJM\"&gt;Company upg...</td>\n",
       "      <td>ERP help urgently needed</td>\n",
       "      <td>2019-10-10T05:58:05.73</td>\n",
       "      <td>ChinusGomes</td>\n",
       "      <td>QuestionAndAnswer</td>\n",
       "      <td>NaN</td>\n",
       "      <td>NaN</td>\n",
       "    </tr>\n",
       "    <tr>\n",
       "      <th>3</th>\n",
       "      <td>133741</td>\n",
       "      <td>40</td>\n",
       "      <td>Sage X3 General Discussion</td>\n",
       "      <td>&lt;p class=\"_1qeIAgB0cPwnLhDF9XSiJM\"&gt;Company upg...</td>\n",
       "      <td>ERP help urgently needed</td>\n",
       "      <td>2019-10-10T05:58:05.73</td>\n",
       "      <td>ChinusGomes</td>\n",
       "      <td>QuestionAndAnswer</td>\n",
       "      <td>NaN</td>\n",
       "      <td>NaN</td>\n",
       "    </tr>\n",
       "    <tr>\n",
       "      <th>4</th>\n",
       "      <td>133741</td>\n",
       "      <td>40</td>\n",
       "      <td>Sage X3 General Discussion</td>\n",
       "      <td>&lt;p class=\"_1qeIAgB0cPwnLhDF9XSiJM\"&gt;Company upg...</td>\n",
       "      <td>ERP help urgently needed</td>\n",
       "      <td>2019-10-10T05:58:05.73</td>\n",
       "      <td>ChinusGomes</td>\n",
       "      <td>QuestionAndAnswer</td>\n",
       "      <td>NaN</td>\n",
       "      <td>NaN</td>\n",
       "    </tr>\n",
       "    <tr>\n",
       "      <th>5</th>\n",
       "      <td>133741</td>\n",
       "      <td>40</td>\n",
       "      <td>Sage X3 General Discussion</td>\n",
       "      <td>&lt;p class=\"_1qeIAgB0cPwnLhDF9XSiJM\"&gt;Company upg...</td>\n",
       "      <td>ERP help urgently needed</td>\n",
       "      <td>2019-10-10T05:58:05.73</td>\n",
       "      <td>ChinusGomes</td>\n",
       "      <td>QuestionAndAnswer</td>\n",
       "      <td>NaN</td>\n",
       "      <td>NaN</td>\n",
       "    </tr>\n",
       "    <tr>\n",
       "      <th>6</th>\n",
       "      <td>133741</td>\n",
       "      <td>40</td>\n",
       "      <td>Sage X3 General Discussion</td>\n",
       "      <td>&lt;p class=\"_1qeIAgB0cPwnLhDF9XSiJM\"&gt;Company upg...</td>\n",
       "      <td>ERP help urgently needed</td>\n",
       "      <td>2019-10-10T05:58:05.73</td>\n",
       "      <td>ChinusGomes</td>\n",
       "      <td>QuestionAndAnswer</td>\n",
       "      <td>NaN</td>\n",
       "      <td>NaN</td>\n",
       "    </tr>\n",
       "    <tr>\n",
       "      <th>7</th>\n",
       "      <td>133741</td>\n",
       "      <td>40</td>\n",
       "      <td>Sage X3 General Discussion</td>\n",
       "      <td>&lt;p class=\"_1qeIAgB0cPwnLhDF9XSiJM\"&gt;Company upg...</td>\n",
       "      <td>ERP help urgently needed</td>\n",
       "      <td>2019-10-10T05:58:05.73</td>\n",
       "      <td>ChinusGomes</td>\n",
       "      <td>QuestionAndAnswer</td>\n",
       "      <td>NaN</td>\n",
       "      <td>NaN</td>\n",
       "    </tr>\n",
       "    <tr>\n",
       "      <th>8</th>\n",
       "      <td>133741</td>\n",
       "      <td>40</td>\n",
       "      <td>Sage X3 General Discussion</td>\n",
       "      <td>&lt;p class=\"_1qeIAgB0cPwnLhDF9XSiJM\"&gt;Company upg...</td>\n",
       "      <td>ERP help urgently needed</td>\n",
       "      <td>2019-10-10T05:58:05.73</td>\n",
       "      <td>ChinusGomes</td>\n",
       "      <td>QuestionAndAnswer</td>\n",
       "      <td>NaN</td>\n",
       "      <td>NaN</td>\n",
       "    </tr>\n",
       "    <tr>\n",
       "      <th>9</th>\n",
       "      <td>133741</td>\n",
       "      <td>40</td>\n",
       "      <td>Sage X3 General Discussion</td>\n",
       "      <td>&lt;p class=\"_1qeIAgB0cPwnLhDF9XSiJM\"&gt;Company upg...</td>\n",
       "      <td>ERP help urgently needed</td>\n",
       "      <td>2019-10-10T05:58:05.73</td>\n",
       "      <td>ChinusGomes</td>\n",
       "      <td>QuestionAndAnswer</td>\n",
       "      <td>NaN</td>\n",
       "      <td>NaN</td>\n",
       "    </tr>\n",
       "  </tbody>\n",
       "</table>\n",
       "</div>"
      ],
      "text/plain": [
       "       ID  Forum ID                  Forum Name  \\\n",
       "0  133741        40  Sage X3 General Discussion   \n",
       "1  133741        40  Sage X3 General Discussion   \n",
       "2  133741        40  Sage X3 General Discussion   \n",
       "3  133741        40  Sage X3 General Discussion   \n",
       "4  133741        40  Sage X3 General Discussion   \n",
       "5  133741        40  Sage X3 General Discussion   \n",
       "6  133741        40  Sage X3 General Discussion   \n",
       "7  133741        40  Sage X3 General Discussion   \n",
       "8  133741        40  Sage X3 General Discussion   \n",
       "9  133741        40  Sage X3 General Discussion   \n",
       "\n",
       "                                                Body  \\\n",
       "0  <p class=\"_1qeIAgB0cPwnLhDF9XSiJM\">Company upg...   \n",
       "1  <p class=\"_1qeIAgB0cPwnLhDF9XSiJM\">Company upg...   \n",
       "2  <p class=\"_1qeIAgB0cPwnLhDF9XSiJM\">Company upg...   \n",
       "3  <p class=\"_1qeIAgB0cPwnLhDF9XSiJM\">Company upg...   \n",
       "4  <p class=\"_1qeIAgB0cPwnLhDF9XSiJM\">Company upg...   \n",
       "5  <p class=\"_1qeIAgB0cPwnLhDF9XSiJM\">Company upg...   \n",
       "6  <p class=\"_1qeIAgB0cPwnLhDF9XSiJM\">Company upg...   \n",
       "7  <p class=\"_1qeIAgB0cPwnLhDF9XSiJM\">Company upg...   \n",
       "8  <p class=\"_1qeIAgB0cPwnLhDF9XSiJM\">Company upg...   \n",
       "9  <p class=\"_1qeIAgB0cPwnLhDF9XSiJM\">Company upg...   \n",
       "\n",
       "                    Subject               Post Date User DisplayName  \\\n",
       "0  ERP help urgently needed  2019-10-10T05:58:05.73      ChinusGomes   \n",
       "1  ERP help urgently needed  2019-10-10T05:58:05.73      ChinusGomes   \n",
       "2  ERP help urgently needed  2019-10-10T05:58:05.73      ChinusGomes   \n",
       "3  ERP help urgently needed  2019-10-10T05:58:05.73      ChinusGomes   \n",
       "4  ERP help urgently needed  2019-10-10T05:58:05.73      ChinusGomes   \n",
       "5  ERP help urgently needed  2019-10-10T05:58:05.73      ChinusGomes   \n",
       "6  ERP help urgently needed  2019-10-10T05:58:05.73      ChinusGomes   \n",
       "7  ERP help urgently needed  2019-10-10T05:58:05.73      ChinusGomes   \n",
       "8  ERP help urgently needed  2019-10-10T05:58:05.73      ChinusGomes   \n",
       "9  ERP help urgently needed  2019-10-10T05:58:05.73      ChinusGomes   \n",
       "\n",
       "         Is Question Tags  Likes  \n",
       "0  QuestionAndAnswer  NaN    NaN  \n",
       "1  QuestionAndAnswer  NaN    NaN  \n",
       "2  QuestionAndAnswer  NaN    NaN  \n",
       "3  QuestionAndAnswer  NaN    NaN  \n",
       "4  QuestionAndAnswer  NaN    NaN  \n",
       "5  QuestionAndAnswer  NaN    NaN  \n",
       "6  QuestionAndAnswer  NaN    NaN  \n",
       "7  QuestionAndAnswer  NaN    NaN  \n",
       "8  QuestionAndAnswer  NaN    NaN  \n",
       "9  QuestionAndAnswer  NaN    NaN  "
      ]
     },
     "execution_count": 3,
     "metadata": {},
     "output_type": "execute_result"
    }
   ],
   "source": [
    "# Read yelp.csv into a DataFrame.\n",
    "df_Forum = pd.read_excel(myFile, sheet_name='Forum List')\n",
    "print(df_Forum.shape)\n",
    "df_Forum.head(10)"
   ]
  },
  {
   "cell_type": "markdown",
   "metadata": {},
   "source": [
    "# Clean the html"
   ]
  },
  {
   "cell_type": "markdown",
   "metadata": {},
   "source": [
    "## Option 1"
   ]
  },
  {
   "cell_type": "code",
   "execution_count": 4,
   "metadata": {},
   "outputs": [],
   "source": [
    "# def cleanhtml(raw_html):\n",
    "#     cleanr = re.compile('<.*?>')\n",
    "#     cleantext = re.sub(cleanr,'',raw_html)\n",
    "#     return cleantext\n",
    "# cleanhtml(df_Forum['Body'][0])"
   ]
  },
  {
   "cell_type": "markdown",
   "metadata": {},
   "source": [
    "## Option 2: BeautifulSoup"
   ]
  },
  {
   "cell_type": "code",
   "execution_count": 5,
   "metadata": {},
   "outputs": [],
   "source": [
    "def cleanhtml(raw_html):\n",
    "    return BeautifulSoup(raw_html, \"lxml\").text"
   ]
  },
  {
   "cell_type": "code",
   "execution_count": 102,
   "metadata": {},
   "outputs": [
    {
     "name": "stderr",
     "output_type": "stream",
     "text": [
      "C:\\Users\\BDelamater\\Anaconda3\\lib\\site-packages\\ipykernel\\ipkernel.py:287: DeprecationWarning:\n",
      "\n",
      "`should_run_async` will not call `transform_cell` automatically in the future. Please pass the result to `transformed_cell` argument and any exception that happen during thetransform in `preprocessing_exc_tuple` in IPython 7.17 and above.\n",
      "\n"
     ]
    },
    {
     "data": {
      "text/html": [
       "<div>\n",
       "<style scoped>\n",
       "    .dataframe tbody tr th:only-of-type {\n",
       "        vertical-align: middle;\n",
       "    }\n",
       "\n",
       "    .dataframe tbody tr th {\n",
       "        vertical-align: top;\n",
       "    }\n",
       "\n",
       "    .dataframe thead th {\n",
       "        text-align: right;\n",
       "    }\n",
       "</style>\n",
       "<table border=\"1\" class=\"dataframe\">\n",
       "  <thead>\n",
       "    <tr style=\"text-align: right;\">\n",
       "      <th></th>\n",
       "      <th>ID</th>\n",
       "      <th>Forum ID</th>\n",
       "      <th>Forum Name</th>\n",
       "      <th>Body</th>\n",
       "      <th>Subject</th>\n",
       "      <th>Post Date</th>\n",
       "      <th>User DisplayName</th>\n",
       "      <th>Is Question</th>\n",
       "      <th>Tags</th>\n",
       "      <th>Likes</th>\n",
       "      <th>Forum_Post_Raw</th>\n",
       "    </tr>\n",
       "  </thead>\n",
       "  <tbody>\n",
       "    <tr>\n",
       "      <th>0</th>\n",
       "      <td>133741</td>\n",
       "      <td>40</td>\n",
       "      <td>Sage X3 General Discussion</td>\n",
       "      <td>&lt;p class=\"_1qeIAgB0cPwnLhDF9XSiJM\"&gt;Company upg...</td>\n",
       "      <td>ERP help urgently needed</td>\n",
       "      <td>2019-10-10T05:58:05.73</td>\n",
       "      <td>ChinusGomes</td>\n",
       "      <td>QuestionAndAnswer</td>\n",
       "      <td>NaN</td>\n",
       "      <td>NaN</td>\n",
       "      <td>Company upgraded to windows 10. Used to run an...</td>\n",
       "    </tr>\n",
       "    <tr>\n",
       "      <th>1</th>\n",
       "      <td>133741</td>\n",
       "      <td>40</td>\n",
       "      <td>Sage X3 General Discussion</td>\n",
       "      <td>&lt;p class=\"_1qeIAgB0cPwnLhDF9XSiJM\"&gt;Company upg...</td>\n",
       "      <td>ERP help urgently needed</td>\n",
       "      <td>2019-10-10T05:58:05.73</td>\n",
       "      <td>ChinusGomes</td>\n",
       "      <td>QuestionAndAnswer</td>\n",
       "      <td>NaN</td>\n",
       "      <td>NaN</td>\n",
       "      <td>Company upgraded to windows 10. Used to run an...</td>\n",
       "    </tr>\n",
       "    <tr>\n",
       "      <th>2</th>\n",
       "      <td>133741</td>\n",
       "      <td>40</td>\n",
       "      <td>Sage X3 General Discussion</td>\n",
       "      <td>&lt;p class=\"_1qeIAgB0cPwnLhDF9XSiJM\"&gt;Company upg...</td>\n",
       "      <td>ERP help urgently needed</td>\n",
       "      <td>2019-10-10T05:58:05.73</td>\n",
       "      <td>ChinusGomes</td>\n",
       "      <td>QuestionAndAnswer</td>\n",
       "      <td>NaN</td>\n",
       "      <td>NaN</td>\n",
       "      <td>Company upgraded to windows 10. Used to run an...</td>\n",
       "    </tr>\n",
       "    <tr>\n",
       "      <th>3</th>\n",
       "      <td>133741</td>\n",
       "      <td>40</td>\n",
       "      <td>Sage X3 General Discussion</td>\n",
       "      <td>&lt;p class=\"_1qeIAgB0cPwnLhDF9XSiJM\"&gt;Company upg...</td>\n",
       "      <td>ERP help urgently needed</td>\n",
       "      <td>2019-10-10T05:58:05.73</td>\n",
       "      <td>ChinusGomes</td>\n",
       "      <td>QuestionAndAnswer</td>\n",
       "      <td>NaN</td>\n",
       "      <td>NaN</td>\n",
       "      <td>Company upgraded to windows 10. Used to run an...</td>\n",
       "    </tr>\n",
       "    <tr>\n",
       "      <th>4</th>\n",
       "      <td>133741</td>\n",
       "      <td>40</td>\n",
       "      <td>Sage X3 General Discussion</td>\n",
       "      <td>&lt;p class=\"_1qeIAgB0cPwnLhDF9XSiJM\"&gt;Company upg...</td>\n",
       "      <td>ERP help urgently needed</td>\n",
       "      <td>2019-10-10T05:58:05.73</td>\n",
       "      <td>ChinusGomes</td>\n",
       "      <td>QuestionAndAnswer</td>\n",
       "      <td>NaN</td>\n",
       "      <td>NaN</td>\n",
       "      <td>Company upgraded to windows 10. Used to run an...</td>\n",
       "    </tr>\n",
       "  </tbody>\n",
       "</table>\n",
       "</div>"
      ],
      "text/plain": [
       "       ID  Forum ID                  Forum Name  \\\n",
       "0  133741        40  Sage X3 General Discussion   \n",
       "1  133741        40  Sage X3 General Discussion   \n",
       "2  133741        40  Sage X3 General Discussion   \n",
       "3  133741        40  Sage X3 General Discussion   \n",
       "4  133741        40  Sage X3 General Discussion   \n",
       "\n",
       "                                                Body  \\\n",
       "0  <p class=\"_1qeIAgB0cPwnLhDF9XSiJM\">Company upg...   \n",
       "1  <p class=\"_1qeIAgB0cPwnLhDF9XSiJM\">Company upg...   \n",
       "2  <p class=\"_1qeIAgB0cPwnLhDF9XSiJM\">Company upg...   \n",
       "3  <p class=\"_1qeIAgB0cPwnLhDF9XSiJM\">Company upg...   \n",
       "4  <p class=\"_1qeIAgB0cPwnLhDF9XSiJM\">Company upg...   \n",
       "\n",
       "                    Subject               Post Date User DisplayName  \\\n",
       "0  ERP help urgently needed  2019-10-10T05:58:05.73      ChinusGomes   \n",
       "1  ERP help urgently needed  2019-10-10T05:58:05.73      ChinusGomes   \n",
       "2  ERP help urgently needed  2019-10-10T05:58:05.73      ChinusGomes   \n",
       "3  ERP help urgently needed  2019-10-10T05:58:05.73      ChinusGomes   \n",
       "4  ERP help urgently needed  2019-10-10T05:58:05.73      ChinusGomes   \n",
       "\n",
       "         Is Question Tags  Likes  \\\n",
       "0  QuestionAndAnswer  NaN    NaN   \n",
       "1  QuestionAndAnswer  NaN    NaN   \n",
       "2  QuestionAndAnswer  NaN    NaN   \n",
       "3  QuestionAndAnswer  NaN    NaN   \n",
       "4  QuestionAndAnswer  NaN    NaN   \n",
       "\n",
       "                                      Forum_Post_Raw  \n",
       "0  Company upgraded to windows 10. Used to run an...  \n",
       "1  Company upgraded to windows 10. Used to run an...  \n",
       "2  Company upgraded to windows 10. Used to run an...  \n",
       "3  Company upgraded to windows 10. Used to run an...  \n",
       "4  Company upgraded to windows 10. Used to run an...  "
      ]
     },
     "execution_count": 102,
     "metadata": {},
     "output_type": "execute_result"
    }
   ],
   "source": [
    "# Create a neutral, positive, negative column\n",
    "\n",
    "df_Forum['Forum_Post_Raw'] = df_Forum.apply(lambda row: cleanhtml(row['Body']), axis=1)\n",
    "df_Forum.head(5)"
   ]
  },
  {
   "cell_type": "code",
   "execution_count": 103,
   "metadata": {},
   "outputs": [
    {
     "name": "stdout",
     "output_type": "stream",
     "text": [
      "Distinct records:  (1086, 6)\n",
      "Original Dataset:  (2943, 11)\n"
     ]
    },
    {
     "name": "stderr",
     "output_type": "stream",
     "text": [
      "C:\\Users\\BDelamater\\Anaconda3\\lib\\site-packages\\ipykernel\\ipkernel.py:287: DeprecationWarning:\n",
      "\n",
      "`should_run_async` will not call `transform_cell` automatically in the future. Please pass the result to `transformed_cell` argument and any exception that happen during thetransform in `preprocessing_exc_tuple` in IPython 7.17 and above.\n",
      "\n"
     ]
    }
   ],
   "source": [
    "df_distinct = df_Forum[['Forum ID', 'Forum Name', 'Subject', 'Post Date', 'User DisplayName', 'Forum_Post_Raw']].drop_duplicates(inplace=False).copy()\n",
    "print('Distinct records: ', df_distinct.shape)\n",
    "print('Original Dataset: ', df_Forum.shape)\n"
   ]
  },
  {
   "cell_type": "markdown",
   "metadata": {},
   "source": [
    "# Sentiment Analysis \n",
    "Code to generate sentiment analysis"
   ]
  },
  {
   "cell_type": "code",
   "execution_count": 104,
   "metadata": {},
   "outputs": [
    {
     "name": "stderr",
     "output_type": "stream",
     "text": [
      "C:\\Users\\BDelamater\\Anaconda3\\lib\\site-packages\\ipykernel\\ipkernel.py:287: DeprecationWarning:\n",
      "\n",
      "`should_run_async` will not call `transform_cell` automatically in the future. Please pass the result to `transformed_cell` argument and any exception that happen during thetransform in `preprocessing_exc_tuple` in IPython 7.17 and above.\n",
      "\n"
     ]
    }
   ],
   "source": [
    "from nltk.sentiment.vader import SentimentIntensityAnalyzer\n",
    "sia = SentimentIntensityAnalyzer()\n",
    "\n",
    "compound= []\n",
    "neg = []\n",
    "neu = []\n",
    "pos = []\n",
    "for entry in df_distinct['Forum_Post_Raw']:\n",
    "    sent = sia.polarity_scores(entry)\n",
    "    compound.append(sent['compound'])\n",
    "    neg.append(sent['neg'])\n",
    "    neu.append(sent['neu'])\n",
    "    pos.append(sent['pos'])"
   ]
  },
  {
   "cell_type": "code",
   "execution_count": 105,
   "metadata": {},
   "outputs": [
    {
     "name": "stderr",
     "output_type": "stream",
     "text": [
      "C:\\Users\\BDelamater\\Anaconda3\\lib\\site-packages\\ipykernel\\ipkernel.py:287: DeprecationWarning:\n",
      "\n",
      "`should_run_async` will not call `transform_cell` automatically in the future. Please pass the result to `transformed_cell` argument and any exception that happen during thetransform in `preprocessing_exc_tuple` in IPython 7.17 and above.\n",
      "\n"
     ]
    },
    {
     "data": {
      "text/html": [
       "<div>\n",
       "<style scoped>\n",
       "    .dataframe tbody tr th:only-of-type {\n",
       "        vertical-align: middle;\n",
       "    }\n",
       "\n",
       "    .dataframe tbody tr th {\n",
       "        vertical-align: top;\n",
       "    }\n",
       "\n",
       "    .dataframe thead th {\n",
       "        text-align: right;\n",
       "    }\n",
       "</style>\n",
       "<table border=\"1\" class=\"dataframe\">\n",
       "  <thead>\n",
       "    <tr style=\"text-align: right;\">\n",
       "      <th></th>\n",
       "      <th>Forum ID</th>\n",
       "      <th>Forum Name</th>\n",
       "      <th>Subject</th>\n",
       "      <th>Post Date</th>\n",
       "      <th>User DisplayName</th>\n",
       "      <th>Forum_Post_Raw</th>\n",
       "      <th>compound</th>\n",
       "      <th>neg</th>\n",
       "      <th>neu</th>\n",
       "      <th>pos</th>\n",
       "    </tr>\n",
       "  </thead>\n",
       "  <tbody>\n",
       "    <tr>\n",
       "      <th>0</th>\n",
       "      <td>40</td>\n",
       "      <td>Sage X3 General Discussion</td>\n",
       "      <td>ERP help urgently needed</td>\n",
       "      <td>2019-10-10T05:58:05.73</td>\n",
       "      <td>ChinusGomes</td>\n",
       "      <td>Company upgraded to windows 10. Used to run an...</td>\n",
       "      <td>0.0387</td>\n",
       "      <td>0.063</td>\n",
       "      <td>0.873</td>\n",
       "      <td>0.064</td>\n",
       "    </tr>\n",
       "    <tr>\n",
       "      <th>31</th>\n",
       "      <td>40</td>\n",
       "      <td>Sage X3 General Discussion</td>\n",
       "      <td>Sage V11 patch 14 - release soon?</td>\n",
       "      <td>2019-10-10T12:44:35.957</td>\n",
       "      <td>AnikB</td>\n",
       "      <td>Hello!\\n\\nI see that Sage V11 patch 14 was com...</td>\n",
       "      <td>0.7044</td>\n",
       "      <td>0.022</td>\n",
       "      <td>0.915</td>\n",
       "      <td>0.063</td>\n",
       "    </tr>\n",
       "    <tr>\n",
       "      <th>62</th>\n",
       "      <td>673</td>\n",
       "      <td>Sage X3 Announcements, News, and Alerts</td>\n",
       "      <td>Sage X3 12.0.19 and Patch 19 Add-ons Updates h...</td>\n",
       "      <td>2019-10-10T14:56:52.947</td>\n",
       "      <td>Alecia</td>\n",
       "      <td>To access this download, log into https://supp...</td>\n",
       "      <td>0.9359</td>\n",
       "      <td>0.000</td>\n",
       "      <td>0.898</td>\n",
       "      <td>0.102</td>\n",
       "    </tr>\n",
       "    <tr>\n",
       "      <th>63</th>\n",
       "      <td>673</td>\n",
       "      <td>Sage X3 Announcements, News, and Alerts</td>\n",
       "      <td>Sage X3 Warehousing (GEODE) v12.0.19 has been ...</td>\n",
       "      <td>2019-10-10T20:56:53.483</td>\n",
       "      <td>pnightingale</td>\n",
       "      <td>To access this download, log into https://supp...</td>\n",
       "      <td>0.9359</td>\n",
       "      <td>0.000</td>\n",
       "      <td>0.898</td>\n",
       "      <td>0.102</td>\n",
       "    </tr>\n",
       "    <tr>\n",
       "      <th>64</th>\n",
       "      <td>40</td>\n",
       "      <td>Sage X3 General Discussion</td>\n",
       "      <td>Modifying Stock Change ST2 object</td>\n",
       "      <td>2019-10-11T13:10:28.983</td>\n",
       "      <td>ChrisCC</td>\n",
       "      <td>I am trying to remove some of the columns on t...</td>\n",
       "      <td>0.5980</td>\n",
       "      <td>0.046</td>\n",
       "      <td>0.865</td>\n",
       "      <td>0.090</td>\n",
       "    </tr>\n",
       "  </tbody>\n",
       "</table>\n",
       "</div>"
      ],
      "text/plain": [
       "    Forum ID                               Forum Name  \\\n",
       "0         40               Sage X3 General Discussion   \n",
       "31        40               Sage X3 General Discussion   \n",
       "62       673  Sage X3 Announcements, News, and Alerts   \n",
       "63       673  Sage X3 Announcements, News, and Alerts   \n",
       "64        40               Sage X3 General Discussion   \n",
       "\n",
       "                                              Subject  \\\n",
       "0                            ERP help urgently needed   \n",
       "31                  Sage V11 patch 14 - release soon?   \n",
       "62  Sage X3 12.0.19 and Patch 19 Add-ons Updates h...   \n",
       "63  Sage X3 Warehousing (GEODE) v12.0.19 has been ...   \n",
       "64                  Modifying Stock Change ST2 object   \n",
       "\n",
       "                  Post Date User DisplayName  \\\n",
       "0    2019-10-10T05:58:05.73      ChinusGomes   \n",
       "31  2019-10-10T12:44:35.957            AnikB   \n",
       "62  2019-10-10T14:56:52.947           Alecia   \n",
       "63  2019-10-10T20:56:53.483     pnightingale   \n",
       "64  2019-10-11T13:10:28.983          ChrisCC   \n",
       "\n",
       "                                       Forum_Post_Raw  compound    neg    neu  \\\n",
       "0   Company upgraded to windows 10. Used to run an...    0.0387  0.063  0.873   \n",
       "31  Hello!\\n\\nI see that Sage V11 patch 14 was com...    0.7044  0.022  0.915   \n",
       "62  To access this download, log into https://supp...    0.9359  0.000  0.898   \n",
       "63  To access this download, log into https://supp...    0.9359  0.000  0.898   \n",
       "64  I am trying to remove some of the columns on t...    0.5980  0.046  0.865   \n",
       "\n",
       "      pos  \n",
       "0   0.064  \n",
       "31  0.063  \n",
       "62  0.102  \n",
       "63  0.102  \n",
       "64  0.090  "
      ]
     },
     "execution_count": 105,
     "metadata": {},
     "output_type": "execute_result"
    }
   ],
   "source": [
    "df_distinct['compound'] = compound\n",
    "df_distinct['neg'] = neg\n",
    "df_distinct['neu'] = neu\n",
    "df_distinct['pos'] = pos\n",
    "df_distinct.head()"
   ]
  },
  {
   "cell_type": "code",
   "execution_count": 106,
   "metadata": {},
   "outputs": [
    {
     "name": "stderr",
     "output_type": "stream",
     "text": [
      "C:\\Users\\BDelamater\\Anaconda3\\lib\\site-packages\\ipykernel\\ipkernel.py:287: DeprecationWarning:\n",
      "\n",
      "`should_run_async` will not call `transform_cell` automatically in the future. Please pass the result to `transformed_cell` argument and any exception that happen during thetransform in `preprocessing_exc_tuple` in IPython 7.17 and above.\n",
      "\n"
     ]
    }
   ],
   "source": [
    "def getSentiment(compoundScore):\n",
    "    retVal = \"Neutral\"\n",
    "    if (compoundScore > 0.05):\n",
    "        retVal = \"Positive\"\n",
    "    elif (compoundScore <= - 0.05):\n",
    "        retVal = \"Negative\"\n",
    "    \n",
    "    return retVal"
   ]
  },
  {
   "cell_type": "code",
   "execution_count": 107,
   "metadata": {},
   "outputs": [
    {
     "name": "stderr",
     "output_type": "stream",
     "text": [
      "C:\\Users\\BDelamater\\Anaconda3\\lib\\site-packages\\ipykernel\\ipkernel.py:287: DeprecationWarning:\n",
      "\n",
      "`should_run_async` will not call `transform_cell` automatically in the future. Please pass the result to `transformed_cell` argument and any exception that happen during thetransform in `preprocessing_exc_tuple` in IPython 7.17 and above.\n",
      "\n"
     ]
    },
    {
     "data": {
      "text/html": [
       "<div>\n",
       "<style scoped>\n",
       "    .dataframe tbody tr th:only-of-type {\n",
       "        vertical-align: middle;\n",
       "    }\n",
       "\n",
       "    .dataframe tbody tr th {\n",
       "        vertical-align: top;\n",
       "    }\n",
       "\n",
       "    .dataframe thead th {\n",
       "        text-align: right;\n",
       "    }\n",
       "</style>\n",
       "<table border=\"1\" class=\"dataframe\">\n",
       "  <thead>\n",
       "    <tr style=\"text-align: right;\">\n",
       "      <th></th>\n",
       "      <th>Forum ID</th>\n",
       "      <th>Forum Name</th>\n",
       "      <th>Subject</th>\n",
       "      <th>Post Date</th>\n",
       "      <th>User DisplayName</th>\n",
       "      <th>Forum_Post_Raw</th>\n",
       "      <th>compound</th>\n",
       "      <th>neg</th>\n",
       "      <th>neu</th>\n",
       "      <th>pos</th>\n",
       "      <th>Sentiment</th>\n",
       "    </tr>\n",
       "  </thead>\n",
       "  <tbody>\n",
       "    <tr>\n",
       "      <th>0</th>\n",
       "      <td>40</td>\n",
       "      <td>Sage X3 General Discussion</td>\n",
       "      <td>ERP help urgently needed</td>\n",
       "      <td>2019-10-10T05:58:05.73</td>\n",
       "      <td>ChinusGomes</td>\n",
       "      <td>Company upgraded to windows 10. Used to run an...</td>\n",
       "      <td>0.0387</td>\n",
       "      <td>0.063</td>\n",
       "      <td>0.873</td>\n",
       "      <td>0.064</td>\n",
       "      <td>Neutral</td>\n",
       "    </tr>\n",
       "    <tr>\n",
       "      <th>31</th>\n",
       "      <td>40</td>\n",
       "      <td>Sage X3 General Discussion</td>\n",
       "      <td>Sage V11 patch 14 - release soon?</td>\n",
       "      <td>2019-10-10T12:44:35.957</td>\n",
       "      <td>AnikB</td>\n",
       "      <td>Hello!\\n\\nI see that Sage V11 patch 14 was com...</td>\n",
       "      <td>0.7044</td>\n",
       "      <td>0.022</td>\n",
       "      <td>0.915</td>\n",
       "      <td>0.063</td>\n",
       "      <td>Positive</td>\n",
       "    </tr>\n",
       "    <tr>\n",
       "      <th>62</th>\n",
       "      <td>673</td>\n",
       "      <td>Sage X3 Announcements, News, and Alerts</td>\n",
       "      <td>Sage X3 12.0.19 and Patch 19 Add-ons Updates h...</td>\n",
       "      <td>2019-10-10T14:56:52.947</td>\n",
       "      <td>Alecia</td>\n",
       "      <td>To access this download, log into https://supp...</td>\n",
       "      <td>0.9359</td>\n",
       "      <td>0.000</td>\n",
       "      <td>0.898</td>\n",
       "      <td>0.102</td>\n",
       "      <td>Positive</td>\n",
       "    </tr>\n",
       "    <tr>\n",
       "      <th>63</th>\n",
       "      <td>673</td>\n",
       "      <td>Sage X3 Announcements, News, and Alerts</td>\n",
       "      <td>Sage X3 Warehousing (GEODE) v12.0.19 has been ...</td>\n",
       "      <td>2019-10-10T20:56:53.483</td>\n",
       "      <td>pnightingale</td>\n",
       "      <td>To access this download, log into https://supp...</td>\n",
       "      <td>0.9359</td>\n",
       "      <td>0.000</td>\n",
       "      <td>0.898</td>\n",
       "      <td>0.102</td>\n",
       "      <td>Positive</td>\n",
       "    </tr>\n",
       "    <tr>\n",
       "      <th>64</th>\n",
       "      <td>40</td>\n",
       "      <td>Sage X3 General Discussion</td>\n",
       "      <td>Modifying Stock Change ST2 object</td>\n",
       "      <td>2019-10-11T13:10:28.983</td>\n",
       "      <td>ChrisCC</td>\n",
       "      <td>I am trying to remove some of the columns on t...</td>\n",
       "      <td>0.5980</td>\n",
       "      <td>0.046</td>\n",
       "      <td>0.865</td>\n",
       "      <td>0.090</td>\n",
       "      <td>Positive</td>\n",
       "    </tr>\n",
       "  </tbody>\n",
       "</table>\n",
       "</div>"
      ],
      "text/plain": [
       "    Forum ID                               Forum Name  \\\n",
       "0         40               Sage X3 General Discussion   \n",
       "31        40               Sage X3 General Discussion   \n",
       "62       673  Sage X3 Announcements, News, and Alerts   \n",
       "63       673  Sage X3 Announcements, News, and Alerts   \n",
       "64        40               Sage X3 General Discussion   \n",
       "\n",
       "                                              Subject  \\\n",
       "0                            ERP help urgently needed   \n",
       "31                  Sage V11 patch 14 - release soon?   \n",
       "62  Sage X3 12.0.19 and Patch 19 Add-ons Updates h...   \n",
       "63  Sage X3 Warehousing (GEODE) v12.0.19 has been ...   \n",
       "64                  Modifying Stock Change ST2 object   \n",
       "\n",
       "                  Post Date User DisplayName  \\\n",
       "0    2019-10-10T05:58:05.73      ChinusGomes   \n",
       "31  2019-10-10T12:44:35.957            AnikB   \n",
       "62  2019-10-10T14:56:52.947           Alecia   \n",
       "63  2019-10-10T20:56:53.483     pnightingale   \n",
       "64  2019-10-11T13:10:28.983          ChrisCC   \n",
       "\n",
       "                                       Forum_Post_Raw  compound    neg    neu  \\\n",
       "0   Company upgraded to windows 10. Used to run an...    0.0387  0.063  0.873   \n",
       "31  Hello!\\n\\nI see that Sage V11 patch 14 was com...    0.7044  0.022  0.915   \n",
       "62  To access this download, log into https://supp...    0.9359  0.000  0.898   \n",
       "63  To access this download, log into https://supp...    0.9359  0.000  0.898   \n",
       "64  I am trying to remove some of the columns on t...    0.5980  0.046  0.865   \n",
       "\n",
       "      pos Sentiment  \n",
       "0   0.064   Neutral  \n",
       "31  0.063  Positive  \n",
       "62  0.102  Positive  \n",
       "63  0.102  Positive  \n",
       "64  0.090  Positive  "
      ]
     },
     "execution_count": 107,
     "metadata": {},
     "output_type": "execute_result"
    }
   ],
   "source": [
    "# Create a neutral, positive, negative column\n",
    "\n",
    "df_distinct['Sentiment'] = df_distinct.apply(lambda row: getSentiment(row['compound']), axis=1)\n",
    "df_distinct.head(5)"
   ]
  },
  {
   "cell_type": "code",
   "execution_count": 108,
   "metadata": {},
   "outputs": [
    {
     "name": "stderr",
     "output_type": "stream",
     "text": [
      "C:\\Users\\BDelamater\\Anaconda3\\lib\\site-packages\\ipykernel\\ipkernel.py:287: DeprecationWarning:\n",
      "\n",
      "`should_run_async` will not call `transform_cell` automatically in the future. Please pass the result to `transformed_cell` argument and any exception that happen during thetransform in `preprocessing_exc_tuple` in IPython 7.17 and above.\n",
      "\n"
     ]
    },
    {
     "data": {
      "text/plain": [
       "Forum ID                     int64\n",
       "Forum Name                  object\n",
       "Subject                     object\n",
       "Post Date                   object\n",
       "User DisplayName            object\n",
       "Forum_Post_Raw              object\n",
       "compound                   float64\n",
       "neg                        float64\n",
       "neu                        float64\n",
       "pos                        float64\n",
       "Sentiment                   object\n",
       "PostDate            datetime64[ns]\n",
       "DayName                     object\n",
       "DayOfMonth                   int64\n",
       "dtype: object"
      ]
     },
     "execution_count": 108,
     "metadata": {},
     "output_type": "execute_result"
    }
   ],
   "source": [
    "# Make a day column in numeric format so we can use it for linear regression later\n",
    "df_distinct['PostDate'] = pd.to_datetime(df_Forum['Post Date'])\n",
    "df_distinct['DayName'] = df_distinct['PostDate'].dt.day_name()\n",
    "df_distinct['DayOfMonth'] = df_distinct['PostDate'].dt.day\n",
    "df_distinct.dtypes\n"
   ]
  },
  {
   "cell_type": "code",
   "execution_count": 109,
   "metadata": {},
   "outputs": [
    {
     "name": "stderr",
     "output_type": "stream",
     "text": [
      "C:\\Users\\BDelamater\\Anaconda3\\lib\\site-packages\\ipykernel\\ipkernel.py:287: DeprecationWarning:\n",
      "\n",
      "`should_run_async` will not call `transform_cell` automatically in the future. Please pass the result to `transformed_cell` argument and any exception that happen during thetransform in `preprocessing_exc_tuple` in IPython 7.17 and above.\n",
      "\n"
     ]
    },
    {
     "data": {
      "text/html": [
       "<div>\n",
       "<style scoped>\n",
       "    .dataframe tbody tr th:only-of-type {\n",
       "        vertical-align: middle;\n",
       "    }\n",
       "\n",
       "    .dataframe tbody tr th {\n",
       "        vertical-align: top;\n",
       "    }\n",
       "\n",
       "    .dataframe thead th {\n",
       "        text-align: right;\n",
       "    }\n",
       "</style>\n",
       "<table border=\"1\" class=\"dataframe\">\n",
       "  <thead>\n",
       "    <tr style=\"text-align: right;\">\n",
       "      <th></th>\n",
       "      <th>Forum ID</th>\n",
       "      <th>Forum Name</th>\n",
       "      <th>Subject</th>\n",
       "      <th>Post Date</th>\n",
       "      <th>User DisplayName</th>\n",
       "      <th>Forum_Post_Raw</th>\n",
       "      <th>compound</th>\n",
       "      <th>neg</th>\n",
       "      <th>neu</th>\n",
       "      <th>pos</th>\n",
       "      <th>Sentiment</th>\n",
       "      <th>PostDate</th>\n",
       "      <th>DayName</th>\n",
       "      <th>DayOfMonth</th>\n",
       "    </tr>\n",
       "  </thead>\n",
       "  <tbody>\n",
       "    <tr>\n",
       "      <th>0</th>\n",
       "      <td>40</td>\n",
       "      <td>Sage X3 General Discussion</td>\n",
       "      <td>ERP help urgently needed</td>\n",
       "      <td>2019-10-10T05:58:05.73</td>\n",
       "      <td>ChinusGomes</td>\n",
       "      <td>Company upgraded to windows 10. Used to run an...</td>\n",
       "      <td>0.0387</td>\n",
       "      <td>0.063</td>\n",
       "      <td>0.873</td>\n",
       "      <td>0.064</td>\n",
       "      <td>Neutral</td>\n",
       "      <td>2019-10-10 05:58:05.730</td>\n",
       "      <td>Thursday</td>\n",
       "      <td>10</td>\n",
       "    </tr>\n",
       "    <tr>\n",
       "      <th>31</th>\n",
       "      <td>40</td>\n",
       "      <td>Sage X3 General Discussion</td>\n",
       "      <td>Sage V11 patch 14 - release soon?</td>\n",
       "      <td>2019-10-10T12:44:35.957</td>\n",
       "      <td>AnikB</td>\n",
       "      <td>Hello!\\n\\nI see that Sage V11 patch 14 was com...</td>\n",
       "      <td>0.7044</td>\n",
       "      <td>0.022</td>\n",
       "      <td>0.915</td>\n",
       "      <td>0.063</td>\n",
       "      <td>Positive</td>\n",
       "      <td>2019-10-10 12:44:35.957</td>\n",
       "      <td>Thursday</td>\n",
       "      <td>10</td>\n",
       "    </tr>\n",
       "    <tr>\n",
       "      <th>62</th>\n",
       "      <td>673</td>\n",
       "      <td>Sage X3 Announcements, News, and Alerts</td>\n",
       "      <td>Sage X3 12.0.19 and Patch 19 Add-ons Updates h...</td>\n",
       "      <td>2019-10-10T14:56:52.947</td>\n",
       "      <td>Alecia</td>\n",
       "      <td>To access this download, log into https://supp...</td>\n",
       "      <td>0.9359</td>\n",
       "      <td>0.000</td>\n",
       "      <td>0.898</td>\n",
       "      <td>0.102</td>\n",
       "      <td>Positive</td>\n",
       "      <td>2019-10-10 14:56:52.947</td>\n",
       "      <td>Thursday</td>\n",
       "      <td>10</td>\n",
       "    </tr>\n",
       "  </tbody>\n",
       "</table>\n",
       "</div>"
      ],
      "text/plain": [
       "    Forum ID                               Forum Name  \\\n",
       "0         40               Sage X3 General Discussion   \n",
       "31        40               Sage X3 General Discussion   \n",
       "62       673  Sage X3 Announcements, News, and Alerts   \n",
       "\n",
       "                                              Subject  \\\n",
       "0                            ERP help urgently needed   \n",
       "31                  Sage V11 patch 14 - release soon?   \n",
       "62  Sage X3 12.0.19 and Patch 19 Add-ons Updates h...   \n",
       "\n",
       "                  Post Date User DisplayName  \\\n",
       "0    2019-10-10T05:58:05.73      ChinusGomes   \n",
       "31  2019-10-10T12:44:35.957            AnikB   \n",
       "62  2019-10-10T14:56:52.947           Alecia   \n",
       "\n",
       "                                       Forum_Post_Raw  compound    neg    neu  \\\n",
       "0   Company upgraded to windows 10. Used to run an...    0.0387  0.063  0.873   \n",
       "31  Hello!\\n\\nI see that Sage V11 patch 14 was com...    0.7044  0.022  0.915   \n",
       "62  To access this download, log into https://supp...    0.9359  0.000  0.898   \n",
       "\n",
       "      pos Sentiment                PostDate   DayName  DayOfMonth  \n",
       "0   0.064   Neutral 2019-10-10 05:58:05.730  Thursday          10  \n",
       "31  0.063  Positive 2019-10-10 12:44:35.957  Thursday          10  \n",
       "62  0.102  Positive 2019-10-10 14:56:52.947  Thursday          10  "
      ]
     },
     "execution_count": 109,
     "metadata": {},
     "output_type": "execute_result"
    }
   ],
   "source": [
    "df_distinct.head(3)"
   ]
  },
  {
   "cell_type": "markdown",
   "metadata": {},
   "source": [
    "## Train The Sentiment Analyzer"
   ]
  },
  {
   "cell_type": "code",
   "execution_count": 110,
   "metadata": {},
   "outputs": [
    {
     "name": "stderr",
     "output_type": "stream",
     "text": [
      "C:\\Users\\BDelamater\\Anaconda3\\lib\\site-packages\\ipykernel\\ipkernel.py:287: DeprecationWarning:\n",
      "\n",
      "`should_run_async` will not call `transform_cell` automatically in the future. Please pass the result to `transformed_cell` argument and any exception that happen during thetransform in `preprocessing_exc_tuple` in IPython 7.17 and above.\n",
      "\n"
     ]
    },
    {
     "data": {
      "text/plain": [
       "['01/01/2021 12:12:10']"
      ]
     },
     "execution_count": 110,
     "metadata": {},
     "output_type": "execute_result"
    }
   ],
   "source": [
    "p = re.compile(\" 00:00:00\")\n",
    "p.split('01/01/2021 12:12:10')"
   ]
  },
  {
   "cell_type": "code",
   "execution_count": 111,
   "metadata": {},
   "outputs": [
    {
     "name": "stderr",
     "output_type": "stream",
     "text": [
      "C:\\Users\\BDelamater\\Anaconda3\\lib\\site-packages\\ipykernel\\ipkernel.py:287: DeprecationWarning:\n",
      "\n",
      "`should_run_async` will not call `transform_cell` automatically in the future. Please pass the result to `transformed_cell` argument and any exception that happen during thetransform in `preprocessing_exc_tuple` in IPython 7.17 and above.\n",
      "\n"
     ]
    }
   ],
   "source": [
    "y = df_distinct['Sentiment']\n",
    "X = df_distinct[['compound', 'neg', 'neu', 'pos']]"
   ]
  },
  {
   "cell_type": "code",
   "execution_count": 112,
   "metadata": {},
   "outputs": [
    {
     "name": "stderr",
     "output_type": "stream",
     "text": [
      "C:\\Users\\BDelamater\\Anaconda3\\lib\\site-packages\\ipykernel\\ipkernel.py:287: DeprecationWarning:\n",
      "\n",
      "`should_run_async` will not call `transform_cell` automatically in the future. Please pass the result to `transformed_cell` argument and any exception that happen during thetransform in `preprocessing_exc_tuple` in IPython 7.17 and above.\n",
      "\n"
     ]
    }
   ],
   "source": [
    "from sklearn.ensemble import RandomForestClassifier\n",
    "rf = RandomForestClassifier()\n",
    "from sklearn.model_selection import cross_val_score, train_test_split"
   ]
  },
  {
   "cell_type": "code",
   "execution_count": 113,
   "metadata": {},
   "outputs": [
    {
     "name": "stderr",
     "output_type": "stream",
     "text": [
      "C:\\Users\\BDelamater\\Anaconda3\\lib\\site-packages\\ipykernel\\ipkernel.py:287: DeprecationWarning:\n",
      "\n",
      "`should_run_async` will not call `transform_cell` automatically in the future. Please pass the result to `transformed_cell` argument and any exception that happen during thetransform in `preprocessing_exc_tuple` in IPython 7.17 and above.\n",
      "\n"
     ]
    },
    {
     "data": {
      "text/plain": [
       "RandomForestClassifier()"
      ]
     },
     "execution_count": 113,
     "metadata": {},
     "output_type": "execute_result"
    }
   ],
   "source": [
    "rf.fit(X,y)"
   ]
  },
  {
   "cell_type": "code",
   "execution_count": 114,
   "metadata": {},
   "outputs": [
    {
     "name": "stderr",
     "output_type": "stream",
     "text": [
      "C:\\Users\\BDelamater\\Anaconda3\\lib\\site-packages\\ipykernel\\ipkernel.py:287: DeprecationWarning:\n",
      "\n",
      "`should_run_async` will not call `transform_cell` automatically in the future. Please pass the result to `transformed_cell` argument and any exception that happen during thetransform in `preprocessing_exc_tuple` in IPython 7.17 and above.\n",
      "\n"
     ]
    },
    {
     "data": {
      "text/plain": [
       "array([1.        , 1.        , 1.        , 0.99539171, 1.        ])"
      ]
     },
     "execution_count": 114,
     "metadata": {},
     "output_type": "execute_result"
    }
   ],
   "source": [
    "cross_val_score(rf, X, y)\n",
    "# versus the baseline (63%), this is a little weak."
   ]
  },
  {
   "cell_type": "code",
   "execution_count": 115,
   "metadata": {},
   "outputs": [
    {
     "name": "stderr",
     "output_type": "stream",
     "text": [
      "C:\\Users\\BDelamater\\Anaconda3\\lib\\site-packages\\ipykernel\\ipkernel.py:287: DeprecationWarning:\n",
      "\n",
      "`should_run_async` will not call `transform_cell` automatically in the future. Please pass the result to `transformed_cell` argument and any exception that happen during thetransform in `preprocessing_exc_tuple` in IPython 7.17 and above.\n",
      "\n"
     ]
    },
    {
     "data": {
      "text/plain": [
       "RandomForestClassifier()"
      ]
     },
     "execution_count": 115,
     "metadata": {},
     "output_type": "execute_result"
    }
   ],
   "source": [
    "X_train, X_test, y_train, y_test = train_test_split(X, y, \n",
    "                                                        test_size=0.30,\n",
    "                                                        random_state=14)\n",
    "rf.fit(X_train,y_train)"
   ]
  },
  {
   "cell_type": "code",
   "execution_count": 116,
   "metadata": {},
   "outputs": [
    {
     "name": "stderr",
     "output_type": "stream",
     "text": [
      "C:\\Users\\BDelamater\\Anaconda3\\lib\\site-packages\\ipykernel\\ipkernel.py:287: DeprecationWarning:\n",
      "\n",
      "`should_run_async` will not call `transform_cell` automatically in the future. Please pass the result to `transformed_cell` argument and any exception that happen during thetransform in `preprocessing_exc_tuple` in IPython 7.17 and above.\n",
      "\n"
     ]
    },
    {
     "data": {
      "image/png": "[encoded data removed]",
      "text/plain": [
       "<Figure size 432x432 with 1 Axes>"
      ]
     },
     "metadata": {
      "needs_background": "light"
     },
     "output_type": "display_data"
    }
   ],
   "source": [
    "\n",
    "conmat = np.array(confusion_matrix(y_test, rf.predict(X_test)))\n",
    "confusion = pd.DataFrame(conmat, index=['negative', 'neutral', 'positive'],\\\n",
    "                     columns=['Pred neg', 'Pred neutral', 'Pred pos'])\n",
    "\n",
    "plt.figure(figsize = (6,6))\n",
    "heat = sns.heatmap(confusion, annot=True, annot_kws={\"size\": 20},cmap='Blues',fmt='g', cbar=False)\n",
    "plt.xticks(rotation=0, fontsize=14)\n",
    "plt.yticks(fontsize=14)\n",
    "plt.title(\"Confusion Matrix\", fontsize=20)\n",
    "plt.savefig('ConfusionMatric.png')\n"
   ]
  },
  {
   "cell_type": "code",
   "execution_count": 203,
   "metadata": {},
   "outputs": [
    {
     "name": "stdout",
     "output_type": "stream",
     "text": [
      "              precision    recall  f1-score   support\n",
      "\n",
      "    Negative       1.00      1.00      1.00        50\n",
      "     Neutral       1.00      1.00      1.00        33\n",
      "    Positive       1.00      1.00      1.00       243\n",
      "\n",
      "    accuracy                           1.00       326\n",
      "   macro avg       1.00      1.00      1.00       326\n",
      "weighted avg       1.00      1.00      1.00       326\n",
      "\n"
     ]
    },
    {
     "name": "stderr",
     "output_type": "stream",
     "text": [
      "C:\\Users\\BDelamater\\Anaconda3\\lib\\site-packages\\ipykernel\\ipkernel.py:287: DeprecationWarning:\n",
      "\n",
      "`should_run_async` will not call `transform_cell` automatically in the future. Please pass the result to `transformed_cell` argument and any exception that happen during thetransform in `preprocessing_exc_tuple` in IPython 7.17 and above.\n",
      "\n"
     ]
    }
   ],
   "source": [
    "# SAVE THIS MANUALLY TO A PICTURE\n",
    "print(classification_report(y_test, rf.predict(X_test)))"
   ]
  },
  {
   "cell_type": "code",
   "execution_count": 204,
   "metadata": {},
   "outputs": [
    {
     "name": "stderr",
     "output_type": "stream",
     "text": [
      "C:\\Users\\BDelamater\\Anaconda3\\lib\\site-packages\\ipykernel\\ipkernel.py:287: DeprecationWarning:\n",
      "\n",
      "`should_run_async` will not call `transform_cell` automatically in the future. Please pass the result to `transformed_cell` argument and any exception that happen during thetransform in `preprocessing_exc_tuple` in IPython 7.17 and above.\n",
      "\n"
     ]
    },
    {
     "data": {
      "text/plain": [
       "Forum ID            0\n",
       "Forum Name          0\n",
       "Subject             0\n",
       "Post Date           0\n",
       "User DisplayName    0\n",
       "Forum_Post_Raw      0\n",
       "compound            0\n",
       "neg                 0\n",
       "neu                 0\n",
       "pos                 0\n",
       "Sentiment           0\n",
       "PostDate            0\n",
       "DayName             0\n",
       "DayOfMonth          0\n",
       "dtype: int64"
      ]
     },
     "execution_count": 204,
     "metadata": {},
     "output_type": "execute_result"
    }
   ],
   "source": [
    "df_distinct.isnull().sum()"
   ]
  },
  {
   "cell_type": "code",
   "execution_count": 205,
   "metadata": {},
   "outputs": [
    {
     "name": "stderr",
     "output_type": "stream",
     "text": [
      "C:\\Users\\BDelamater\\Anaconda3\\lib\\site-packages\\ipykernel\\ipkernel.py:287: DeprecationWarning:\n",
      "\n",
      "`should_run_async` will not call `transform_cell` automatically in the future. Please pass the result to `transformed_cell` argument and any exception that happen during thetransform in `preprocessing_exc_tuple` in IPython 7.17 and above.\n",
      "\n"
     ]
    }
   ],
   "source": [
    "# df_distinct"
   ]
  },
  {
   "cell_type": "code",
   "execution_count": 206,
   "metadata": {},
   "outputs": [
    {
     "name": "stderr",
     "output_type": "stream",
     "text": [
      "C:\\Users\\BDelamater\\Anaconda3\\lib\\site-packages\\ipykernel\\ipkernel.py:287: DeprecationWarning:\n",
      "\n",
      "`should_run_async` will not call `transform_cell` automatically in the future. Please pass the result to `transformed_cell` argument and any exception that happen during thetransform in `preprocessing_exc_tuple` in IPython 7.17 and above.\n",
      "\n"
     ]
    }
   ],
   "source": [
    "df = df_distinct.copy()\n",
    "df['ShortText'] = df['Forum_Post_Raw'].str[:50]\n",
    "df.dtypes\n",
    "dfLDA = df.copy()"
   ]
  },
  {
   "cell_type": "code",
   "execution_count": 207,
   "metadata": {},
   "outputs": [
    {
     "name": "stderr",
     "output_type": "stream",
     "text": [
      "C:\\Users\\BDelamater\\Anaconda3\\lib\\site-packages\\ipykernel\\ipkernel.py:287: DeprecationWarning:\n",
      "\n",
      "`should_run_async` will not call `transform_cell` automatically in the future. Please pass the result to `transformed_cell` argument and any exception that happen during thetransform in `preprocessing_exc_tuple` in IPython 7.17 and above.\n",
      "\n"
     ]
    },
    {
     "data": {
      "text/plain": [
       "0"
      ]
     },
     "execution_count": 207,
     "metadata": {},
     "output_type": "execute_result"
    }
   ],
   "source": [
    "dfLDA['Forum_Post_Raw'].isnull().sum()"
   ]
  },
  {
   "cell_type": "code",
   "execution_count": 208,
   "metadata": {},
   "outputs": [
    {
     "name": "stderr",
     "output_type": "stream",
     "text": [
      "C:\\Users\\BDelamater\\Anaconda3\\lib\\site-packages\\ipykernel\\ipkernel.py:287: DeprecationWarning:\n",
      "\n",
      "`should_run_async` will not call `transform_cell` automatically in the future. Please pass the result to `transformed_cell` argument and any exception that happen during thetransform in `preprocessing_exc_tuple` in IPython 7.17 and above.\n",
      "\n"
     ]
    }
   ],
   "source": [
    "# dfLDA['Forum_Post_Raw'].dropna(inplace=True)"
   ]
  },
  {
   "cell_type": "code",
   "execution_count": 209,
   "metadata": {},
   "outputs": [
    {
     "name": "stderr",
     "output_type": "stream",
     "text": [
      "C:\\Users\\BDelamater\\Anaconda3\\lib\\site-packages\\ipykernel\\ipkernel.py:287: DeprecationWarning:\n",
      "\n",
      "`should_run_async` will not call `transform_cell` automatically in the future. Please pass the result to `transformed_cell` argument and any exception that happen during thetransform in `preprocessing_exc_tuple` in IPython 7.17 and above.\n",
      "\n"
     ]
    }
   ],
   "source": [
    "df.set_index('PostDate', inplace=True)"
   ]
  },
  {
   "cell_type": "code",
   "execution_count": 210,
   "metadata": {},
   "outputs": [
    {
     "name": "stderr",
     "output_type": "stream",
     "text": [
      "C:\\Users\\BDelamater\\Anaconda3\\lib\\site-packages\\ipykernel\\ipkernel.py:287: DeprecationWarning:\n",
      "\n",
      "`should_run_async` will not call `transform_cell` automatically in the future. Please pass the result to `transformed_cell` argument and any exception that happen during thetransform in `preprocessing_exc_tuple` in IPython 7.17 and above.\n",
      "\n"
     ]
    },
    {
     "data": {
      "text/html": [
       "<div>\n",
       "<style scoped>\n",
       "    .dataframe tbody tr th:only-of-type {\n",
       "        vertical-align: middle;\n",
       "    }\n",
       "\n",
       "    .dataframe tbody tr th {\n",
       "        vertical-align: top;\n",
       "    }\n",
       "\n",
       "    .dataframe thead th {\n",
       "        text-align: right;\n",
       "    }\n",
       "</style>\n",
       "<table border=\"1\" class=\"dataframe\">\n",
       "  <thead>\n",
       "    <tr style=\"text-align: right;\">\n",
       "      <th></th>\n",
       "      <th>Forum ID</th>\n",
       "      <th>Forum Name</th>\n",
       "      <th>Subject</th>\n",
       "      <th>Post Date</th>\n",
       "      <th>User DisplayName</th>\n",
       "      <th>Forum_Post_Raw</th>\n",
       "      <th>compound</th>\n",
       "      <th>neg</th>\n",
       "      <th>neu</th>\n",
       "      <th>pos</th>\n",
       "      <th>Sentiment</th>\n",
       "      <th>DayName</th>\n",
       "      <th>DayOfMonth</th>\n",
       "      <th>ShortText</th>\n",
       "    </tr>\n",
       "    <tr>\n",
       "      <th>PostDate</th>\n",
       "      <th></th>\n",
       "      <th></th>\n",
       "      <th></th>\n",
       "      <th></th>\n",
       "      <th></th>\n",
       "      <th></th>\n",
       "      <th></th>\n",
       "      <th></th>\n",
       "      <th></th>\n",
       "      <th></th>\n",
       "      <th></th>\n",
       "      <th></th>\n",
       "      <th></th>\n",
       "      <th></th>\n",
       "    </tr>\n",
       "  </thead>\n",
       "  <tbody>\n",
       "    <tr>\n",
       "      <th>2019-10-10 05:58:05.730</th>\n",
       "      <td>40</td>\n",
       "      <td>Sage X3 General Discussion</td>\n",
       "      <td>ERP help urgently needed</td>\n",
       "      <td>2019-10-10T05:58:05.73</td>\n",
       "      <td>ChinusGomes</td>\n",
       "      <td>Company upgraded to windows 10. Used to run an...</td>\n",
       "      <td>0.0387</td>\n",
       "      <td>0.063</td>\n",
       "      <td>0.873</td>\n",
       "      <td>0.064</td>\n",
       "      <td>Neutral</td>\n",
       "      <td>Thursday</td>\n",
       "      <td>10</td>\n",
       "      <td>Company upgraded to windows 10. Used to run an...</td>\n",
       "    </tr>\n",
       "  </tbody>\n",
       "</table>\n",
       "</div>"
      ],
      "text/plain": [
       "                         Forum ID                  Forum Name  \\\n",
       "PostDate                                                        \n",
       "2019-10-10 05:58:05.730        40  Sage X3 General Discussion   \n",
       "\n",
       "                                          Subject               Post Date  \\\n",
       "PostDate                                                                    \n",
       "2019-10-10 05:58:05.730  ERP help urgently needed  2019-10-10T05:58:05.73   \n",
       "\n",
       "                        User DisplayName  \\\n",
       "PostDate                                   \n",
       "2019-10-10 05:58:05.730      ChinusGomes   \n",
       "\n",
       "                                                            Forum_Post_Raw  \\\n",
       "PostDate                                                                     \n",
       "2019-10-10 05:58:05.730  Company upgraded to windows 10. Used to run an...   \n",
       "\n",
       "                         compound    neg    neu    pos Sentiment   DayName  \\\n",
       "PostDate                                                                     \n",
       "2019-10-10 05:58:05.730    0.0387  0.063  0.873  0.064   Neutral  Thursday   \n",
       "\n",
       "                         DayOfMonth  \\\n",
       "PostDate                              \n",
       "2019-10-10 05:58:05.730          10   \n",
       "\n",
       "                                                                 ShortText  \n",
       "PostDate                                                                    \n",
       "2019-10-10 05:58:05.730  Company upgraded to windows 10. Used to run an...  "
      ]
     },
     "execution_count": 210,
     "metadata": {},
     "output_type": "execute_result"
    }
   ],
   "source": [
    "df.head(1)"
   ]
  },
  {
   "cell_type": "code",
   "execution_count": 211,
   "metadata": {},
   "outputs": [
    {
     "name": "stderr",
     "output_type": "stream",
     "text": [
      "C:\\Users\\BDelamater\\Anaconda3\\lib\\site-packages\\ipykernel\\ipkernel.py:287: DeprecationWarning:\n",
      "\n",
      "`should_run_async` will not call `transform_cell` automatically in the future. Please pass the result to `transformed_cell` argument and any exception that happen during thetransform in `preprocessing_exc_tuple` in IPython 7.17 and above.\n",
      "\n"
     ]
    }
   ],
   "source": [
    "df2 = df.sort_values(['PostDate']).copy()\n"
   ]
  },
  {
   "cell_type": "code",
   "execution_count": 212,
   "metadata": {},
   "outputs": [
    {
     "name": "stderr",
     "output_type": "stream",
     "text": [
      "C:\\Users\\BDelamater\\Anaconda3\\lib\\site-packages\\ipykernel\\ipkernel.py:287: DeprecationWarning:\n",
      "\n",
      "`should_run_async` will not call `transform_cell` automatically in the future. Please pass the result to `transformed_cell` argument and any exception that happen during thetransform in `preprocessing_exc_tuple` in IPython 7.17 and above.\n",
      "\n"
     ]
    },
    {
     "data": {
      "application/vnd.plotly.v1+json": {
       "config": {
        "plotlyServerURL": "https://plot.ly"
       },
       "data": [
        {
         "hovertemplate": "Post Date=%{x}<br>neg=%{y}<extra></extra>",
         "legendgroup": "",
         "line": {
          "color": "#636efa",
          "dash": "solid"
         },
         "mode": "lines",
         "name": "",
         "showlegend": false,
         "type": "scattergl",
         "x": [
          "2019-10-10T05:58:05.73",
          "2019-10-10T12:44:35.957",
          "2019-10-10T14:56:52.947",
          "2019-10-10T15:41:06.877",
          "2019-10-10T20:56:53.483",
          "2019-10-11T13:10:28.983",
          "2019-10-11T14:24:15.807",
          "2019-10-11T16:02:41.787",
          "2019-10-13T20:01:08.897",
          "2019-10-14T05:55:32.553",
          "2019-10-14T08:33:18.01",
          "2019-10-14T22:38:08.26",
          "2019-10-16T11:20:54.023",
          "2019-10-16T14:12:45.5",
          "2019-10-17T09:14:34.753",
          "2019-10-17T10:16:15.513",
          "2019-10-17T12:09:02.91",
          "2019-10-17T23:59:14.523",
          "2019-10-18T14:58:06.717",
          "2019-10-21T06:08:38.347",
          "2019-10-21T09:43:33.513",
          "2019-10-21T12:40:40.86",
          "2019-10-21T16:06:55.323",
          "2019-10-22T08:16:13.563",
          "2019-10-22T16:27:23.92",
          "2019-10-22T18:07:48.827",
          "2019-10-23T03:37:35.103",
          "2019-10-23T06:23:11.657",
          "2019-10-23T08:20:38.087",
          "2019-10-23T11:38:26.887",
          "2019-10-23T12:09:17.84",
          "2019-10-24T04:42:08.237",
          "2019-10-24T06:19:46.603",
          "2019-10-24T09:59:56.077",
          "2019-10-24T14:04:33.85",
          "2019-10-24T16:34:04.713",
          "2019-10-25T11:54:33.85",
          "2019-10-28T15:36:47.907",
          "2019-10-29T06:01:19.783",
          "2019-10-29T10:29:47.95",
          "2019-10-29T16:46:32.203",
          "2019-10-29T17:04:40.463",
          "2019-10-30T04:45:07.257",
          "2019-10-30T08:21:45.053",
          "2019-10-30T15:33:07.45",
          "2019-10-30T18:41:07.37",
          "2019-10-30T18:45:20.75",
          "2019-10-31T12:35:06.993",
          "2019-10-31T23:57:45.833",
          "2019-11-01T07:44:02.54",
          "2019-11-01T07:45:56.387",
          "2019-11-04T17:47:37.86",
          "2019-11-06T06:04:59.007",
          "2019-11-06T10:08:50.95",
          "2019-11-06T10:27:39.52",
          "2019-11-08T20:33:59.89",
          "2019-11-09T11:37:29.693",
          "2019-11-10T01:44:11.28",
          "2019-11-11T05:59:42.987",
          "2019-11-11T11:39:44.857",
          "2019-11-11T13:02:34.017",
          "2019-11-12T00:41:34.433",
          "2019-11-12T18:42:03.247",
          "2019-11-13T03:30:36.293",
          "2019-11-13T09:35:33.91",
          "2019-11-13T23:52:26.683",
          "2019-11-14T03:28:57.637",
          "2019-11-14T06:03:35.53",
          "2019-11-14T09:45:03.713",
          "2019-11-14T11:29:20.21",
          "2019-11-14T13:10:08.303",
          "2019-11-18T04:12:03.657",
          "2019-11-18T10:12:47.987",
          "2019-11-18T15:17:49.503",
          "2019-11-18T16:11:15.36",
          "2019-11-18T17:18:32.137",
          "2019-11-18T19:25:44.17",
          "2019-11-19T02:48:28.417",
          "2019-11-19T10:27:37.423",
          "2019-11-19T11:00:35.74",
          "2019-11-19T20:00:10.803",
          "2019-11-20T05:47:36.783",
          "2019-11-20T10:36:40.83",
          "2019-11-20T12:24:54.847",
          "2019-11-21T00:07:58.053",
          "2019-11-21T13:38:42.807",
          "2019-11-21T14:08:12.47",
          "2019-11-21T18:13:29.69",
          "2019-11-22T07:29:58.45",
          "2019-11-22T12:44:01.59",
          "2019-11-23T12:26:35.197",
          "2019-11-26T08:17:12.663",
          "2019-11-27T10:39:18.173",
          "2019-11-27T21:15:11.89",
          "2019-11-28T04:58:07.76",
          "2019-11-29T02:39:25.357",
          "2019-12-02T07:06:03.57",
          "2019-12-02T15:42:44.927",
          "2019-12-02T21:04:51.46",
          "2019-12-03T07:56:40.55",
          "2019-12-03T10:45:44.023",
          "2019-12-03T14:56:05.093",
          "2019-12-03T16:06:57.23",
          "2019-12-04T11:59:55.687",
          "2019-12-05T11:04:33.51",
          "2019-12-05T12:28:17.997",
          "2019-12-09T07:10:55.167",
          "2019-12-09T07:25:39.22",
          "2019-12-09T10:45:09.32",
          "2019-12-09T10:53:03.993",
          "2019-12-09T12:45:56.217",
          "2019-12-10T07:50:29.637",
          "2019-12-10T08:52:36.997",
          "2019-12-10T10:14:02.33",
          "2019-12-10T10:55:22.36",
          "2019-12-10T11:53:33.71",
          "2019-12-10T18:25:49.657",
          "2019-12-11T11:26:46.79",
          "2019-12-11T11:57:54.773",
          "2019-12-12T10:17:39.717",
          "2019-12-12T11:05:43.68",
          "2019-12-13T09:43:03.027",
          "2019-12-17T03:54:27.833",
          "2019-12-17T05:30:55.173",
          "2019-12-17T09:31:11.343",
          "2019-12-17T11:21:51.1",
          "2019-12-17T12:36:10.797",
          "2019-12-17T22:05:31.297",
          "2019-12-18T02:18:53.803",
          "2019-12-18T04:43:33.147",
          "2019-12-18T07:43:12.083",
          "2019-12-18T14:19:48.24",
          "2019-12-20T08:29:43.793",
          "2019-12-20T14:25:22.243",
          "2019-12-21T07:25:05.07",
          "2019-12-21T07:31:20.647",
          "2019-12-24T06:44:49.68",
          "2019-12-24T07:53:51.783",
          "2019-12-26T08:18:44.133",
          "2019-12-26T11:59:21.053",
          "2019-12-27T18:14:34.557",
          "2019-12-28T03:55:55.687",
          "2019-12-30T13:08:12.05",
          "2019-12-30T13:53:51.783",
          "2020-01-02T06:49:33.107",
          "2020-01-02T09:53:02.633",
          "2020-01-02T16:36:17.35",
          "2020-01-03T04:40:24.317",
          "2020-01-03T12:08:04.033",
          "2020-01-03T16:41:12.803",
          "2020-01-05T08:26:52.923",
          "2020-01-06T12:19:26.157",
          "2020-01-06T17:04:29.283",
          "2020-01-06T17:40:07.413",
          "2020-01-07T04:10:45.22",
          "2020-01-07T04:51:00.893",
          "2020-01-07T10:24:06.313",
          "2020-01-07T11:18:19.473",
          "2020-01-07T13:43:06.053",
          "2020-01-07T15:38:23.8",
          "2020-01-07T16:18:56.733",
          "2020-01-08T16:28:49.287",
          "2020-01-09T01:31:01.17",
          "2020-01-09T06:33:51.44",
          "2020-01-09T12:05:38.153",
          "2020-01-10T15:06:17.673",
          "2020-01-10T15:54:12.933",
          "2020-01-11T05:17:09.423",
          "2020-01-13T12:21:50.72",
          "2020-01-13T13:00:29.71",
          "2020-01-14T07:18:24.06",
          "2020-01-14T07:36:27.793",
          "2020-01-14T15:06:33.63",
          "2020-01-15T04:12:20.593",
          "2020-01-15T09:52:42.417",
          "2020-01-15T13:11:10.033",
          "2020-01-15T19:14:38.547",
          "2020-01-16T01:35:18.87",
          "2020-01-16T10:00:09.903",
          "2020-01-16T17:27:43.697",
          "2020-01-16T20:37:57.323",
          "2020-01-18T01:12:31.457",
          "2020-01-18T07:43:39.573",
          "2020-01-20T00:07:25.07",
          "2020-01-20T06:57:25.193",
          "2020-01-20T06:59:28.963",
          "2020-01-20T07:01:58.37",
          "2020-01-20T14:25:20.393",
          "2020-01-20T14:45:16.097",
          "2020-01-20T17:44:58.307",
          "2020-01-22T15:07:27.347",
          "2020-01-22T15:21:03.853",
          "2020-01-23T08:30:02.617",
          "2020-01-23T09:12:43.07",
          "2020-01-24T06:49:45.39",
          "2020-01-24T15:38:37.98",
          "2020-01-25T16:27:33.3",
          "2020-01-27T12:47:35.913",
          "2020-01-27T13:06:07.103",
          "2020-01-27T19:11:17.547",
          "2020-01-29T01:21:00.2",
          "2020-01-29T10:26:02.32",
          "2020-01-30T18:43:33.303",
          "2020-01-31T00:48:04.5",
          "2020-01-31T08:03:58.81",
          "2020-02-01T05:35:29.75",
          "2020-02-02T13:10:27.66",
          "2020-02-02T17:09:13.667",
          "2020-02-03T04:12:16.153",
          "2020-02-03T09:59:10.557",
          "2020-02-03T13:33:12.313",
          "2020-02-04T09:46:39.103",
          "2020-02-04T20:18:44.27",
          "2020-02-05T11:30:08.943",
          "2020-02-05T12:57:51.92",
          "2020-02-05T15:34:55.653",
          "2020-02-07T10:19:14.993",
          "2020-02-10T12:07:23.167",
          "2020-02-10T12:23:06.927",
          "2020-02-10T12:51:43.717",
          "2020-02-10T17:12:39.753",
          "2020-02-11T17:09:02.48",
          "2020-02-11T17:58:49.54",
          "2020-02-12T06:28:17.963",
          "2020-02-12T09:04:32.27",
          "2020-02-12T14:03:31.393",
          "2020-02-12T14:51:42.37",
          "2020-02-12T15:16:51.137",
          "2020-02-12T18:31:25.547",
          "2020-02-13T04:33:31.503",
          "2020-02-13T07:03:33.427",
          "2020-02-14T10:24:51.933",
          "2020-02-14T11:00:46.067",
          "2020-02-17T16:50:09.627",
          "2020-02-18T02:27:54.503",
          "2020-02-18T09:57:28.06",
          "2020-02-18T10:33:31.103",
          "2020-02-18T11:09:26.847",
          "2020-02-20T09:07:37.297",
          "2020-02-20T18:55:20.497",
          "2020-02-21T04:19:57.7",
          "2020-02-21T06:32:06.093",
          "2020-02-21T12:36:02.74",
          "2020-02-21T13:01:12.36",
          "2020-02-21T18:07:34.15",
          "2020-02-23T02:07:04.06",
          "2020-02-24T05:14:04.183",
          "2020-02-24T09:39:05.69",
          "2020-02-24T15:46:47.507",
          "2020-02-25T03:52:03.343",
          "2020-02-26T09:59:17.067",
          "2020-02-26T12:34:35.337",
          "2020-02-26T16:38:14.707",
          "2020-02-27T12:11:29.997",
          "2020-02-28T04:40:42.623",
          "2020-02-28T10:58:22.157",
          "2020-02-28T12:00:12.227",
          "2020-02-28T12:41:38.88",
          "2020-02-29T01:03:40.683",
          "2020-03-01T02:40:06.913",
          "2020-03-01T10:01:48.487",
          "2020-03-01T23:59:56.043",
          "2020-03-02T14:28:29.457",
          "2020-03-03T00:00:27.147",
          "2020-03-03T04:30:14.143",
          "2020-03-03T06:44:29.51",
          "2020-03-03T07:23:34.21",
          "2020-03-04T03:34:45.237",
          "2020-03-04T10:43:21.66",
          "2020-03-04T20:50:43.727",
          "2020-03-05T20:40:47.497",
          "2020-03-06T16:53:23.053",
          "2020-03-07T06:36:24.19",
          "2020-03-08T12:22:18.35",
          "2020-03-08T18:22:20.403",
          "2020-03-09T07:47:26.907",
          "2020-03-10T02:49:49.197",
          "2020-03-10T07:07:09.317",
          "2020-03-10T11:43:30.047",
          "2020-03-10T13:47:55.803",
          "2020-03-11T12:02:24.97",
          "2020-03-12T03:22:56.907",
          "2020-03-12T05:01:18.27",
          "2020-03-12T09:32:11.43",
          "2020-03-12T16:24:51.943",
          "2020-03-13T02:20:48.573",
          "2020-03-13T18:05:09.727",
          "2020-03-16T05:51:59.12",
          "2020-03-16T13:41:01.863",
          "2020-03-17T01:11:48.753",
          "2020-03-17T02:14:25.67",
          "2020-03-17T10:57:57.617",
          "2020-03-17T11:01:28.317",
          "2020-03-17T12:46:10.82",
          "2020-03-17T17:40:54.64",
          "2020-03-18T06:06:20.797",
          "2020-03-19T09:31:32.573",
          "2020-03-20T09:02:42.493",
          "2020-03-20T09:52:08.827",
          "2020-03-22T12:10:06.073",
          "2020-03-22T23:11:53.447",
          "2020-03-23T11:06:50.057",
          "2020-03-23T23:34:21.613",
          "2020-03-24T16:40:36.357",
          "2020-03-25T05:31:26.553",
          "2020-03-25T13:28:17.627",
          "2020-03-25T13:53:46.49",
          "2020-03-27T09:21:56.483",
          "2020-03-28T01:28:47.883",
          "2020-03-30T04:21:56.913",
          "2020-03-30T09:08:24.897",
          "2020-03-30T15:21:41.037",
          "2020-03-30T21:20:56.607",
          "2020-03-31T11:25:34.507",
          "2020-03-31T13:27:36.39",
          "2020-04-01T16:02:10.643",
          "2020-04-02T00:43:12.03",
          "2020-04-03T01:06:02.82",
          "2020-04-07T12:32:04.843",
          "2020-04-07T16:29:10.43",
          "2020-04-08T00:15:17.853",
          "2020-04-08T03:50:11.817",
          "2020-04-08T10:13:33.427",
          "2020-04-08T18:27:22.337",
          "2020-04-09T23:22:33.47",
          "2020-04-10T09:08:10.833",
          "2020-04-10T19:21:56.537",
          "2020-04-13T10:16:13.573",
          "2020-04-13T12:45:52.543",
          "2020-04-13T14:36:36.72",
          "2020-04-14T04:48:03.713",
          "2020-04-14T08:25:03.7",
          "2020-04-14T11:03:59.167",
          "2020-04-15T05:26:43.887",
          "2020-04-16T08:10:59.29",
          "2020-04-16T16:12:38.977",
          "2020-04-16T16:41:02.65",
          "2020-04-16T17:32:12.887",
          "2020-04-17T17:21:10.267",
          "2020-04-17T18:09:09.38",
          "2020-04-17T19:28:32.667",
          "2020-04-20T06:46:13.263",
          "2020-04-20T09:45:40.793",
          "2020-04-21T06:43:58.953",
          "2020-04-22T17:52:12.143",
          "2020-04-23T02:31:29.827",
          "2020-04-23T11:51:48.66",
          "2020-04-23T12:48:56.067",
          "2020-04-23T13:42:27.423",
          "2020-04-23T17:09:27.673",
          "2020-04-23T19:33:37.777",
          "2020-04-24T09:15:41.46",
          "2020-04-24T12:08:53.497",
          "2020-04-24T17:33:44.47",
          "2020-04-27T03:25:15.807",
          "2020-04-27T11:04:11.827",
          "2020-04-27T12:09:32.6",
          "2020-04-28T14:16:24.483",
          "2020-04-28T14:23:25.457",
          "2020-04-28T14:54:09.24",
          "2020-04-28T15:58:10.627",
          "2020-04-29T06:42:53.09",
          "2020-04-29T11:08:12.53",
          "2020-04-30T10:03:05.167",
          "2020-05-01T07:55:41.06",
          "2020-05-01T13:27:08.093",
          "2020-05-01T18:13:11.793",
          "2020-05-03T16:49:31.43",
          "2020-05-05T07:56:04.453",
          "2020-05-05T08:43:05.083",
          "2020-05-05T10:32:52.917",
          "2020-05-05T19:02:17.003",
          "2020-05-06T01:58:51.927",
          "2020-05-06T07:12:28.073",
          "2020-05-06T09:55:41.613",
          "2020-05-06T10:17:41.447",
          "2020-05-06T11:33:27.64",
          "2020-05-07T03:54:23.82",
          "2020-05-07T07:48:02.343",
          "2020-05-07T10:30:47.55",
          "2020-05-07T14:40:24.16",
          "2020-05-07T17:22:42.663",
          "2020-05-07T17:58:50.36",
          "2020-05-08T11:05:30.22",
          "2020-05-08T18:50:29.917",
          "2020-05-10T15:38:34.823",
          "2020-05-10T22:06:56.483",
          "2020-05-11T04:18:33.723",
          "2020-05-11T10:39:05.677",
          "2020-05-11T18:12:14.043",
          "2020-05-12T06:46:53.073",
          "2020-05-12T07:44:49.72",
          "2020-05-12T23:39:37.837",
          "2020-05-13T09:12:49.927",
          "2020-05-13T12:09:34.583",
          "2020-05-13T14:43:08.657",
          "2020-05-13T15:13:24.907",
          "2020-05-14T03:52:10.373",
          "2020-05-14T09:38:15.473",
          "2020-05-14T13:46:07.237",
          "2020-05-14T17:51:27.473",
          "2020-05-19T01:36:19.2",
          "2020-05-19T10:58:19.68",
          "2020-05-19T13:23:05.93",
          "2020-05-19T22:05:27.747",
          "2020-05-19T22:57:51.593",
          "2020-05-19T23:57:36.38",
          "2020-05-20T07:46:08.763",
          "2020-05-21T08:01:48.667",
          "2020-05-21T16:17:26.79",
          "2020-05-22T09:04:36.597",
          "2020-05-22T12:43:12.977",
          "2020-05-22T13:38:46.373",
          "2020-05-24T07:44:59.96",
          "2020-05-25T11:51:41.683",
          "2020-05-25T12:12:56.96",
          "2020-05-26T04:19:19.857",
          "2020-05-26T05:29:41.38",
          "2020-05-27T08:09:30.657",
          "2020-05-27T09:42:57.963",
          "2020-05-27T11:51:09.957",
          "2020-05-27T16:13:12.423",
          "2020-05-28T04:33:45.413",
          "2020-05-28T10:50:38.12",
          "2020-05-28T11:43:06.343",
          "2020-05-28T13:55:04.59",
          "2020-05-28T13:55:17.233",
          "2020-05-28T15:02:38.937",
          "2020-05-28T21:23:28.48",
          "2020-05-31T11:34:13.967",
          "2020-05-31T21:49:48.113",
          "2020-06-01T02:08:55.463",
          "2020-06-01T03:45:36.143",
          "2020-06-01T07:06:15.03",
          "2020-06-01T23:54:24.347",
          "2020-06-02T05:15:07.377",
          "2020-06-02T06:25:02.487",
          "2020-06-03T08:38:37.627",
          "2020-06-04T08:46:29.137",
          "2020-06-04T08:47:30.443",
          "2020-06-05T08:37:45.887",
          "2020-06-08T10:15:40.8",
          "2020-06-08T11:30:52.127",
          "2020-06-10T15:48:56.787",
          "2020-06-11T05:44:23.893",
          "2020-06-11T10:48:33.063",
          "2020-06-11T16:44:25.303",
          "2020-06-12T04:26:21.537",
          "2020-06-13T20:34:20.54",
          "2020-06-15T00:18:26.877",
          "2020-06-15T18:21:18.607",
          "2020-06-17T07:44:27.62",
          "2020-06-17T09:23:08.72",
          "2020-06-17T10:39:43.347",
          "2020-06-17T10:47:18.047",
          "2020-06-17T18:17:42.787",
          "2020-06-17T21:20:44.363",
          "2020-06-18T03:41:34.283",
          "2020-06-18T18:45:45.943",
          "2020-06-19T05:28:43.413",
          "2020-06-19T05:37:59.09",
          "2020-06-19T07:23:48.88",
          "2020-06-19T13:04:31.18",
          "2020-06-19T13:05:50.277",
          "2020-06-20T20:04:07.61",
          "2020-06-21T05:58:52.79",
          "2020-06-22T07:57:18.433",
          "2020-06-22T15:20:53.23",
          "2020-06-22T17:32:37.193",
          "2020-06-25T03:09:04.55",
          "2020-06-26T07:38:55.12",
          "2020-06-29T17:02:31.54",
          "2020-07-01T03:24:12.553",
          "2020-07-01T08:43:32.99",
          "2020-07-02T09:20:12.7",
          "2020-07-02T10:21:06.57",
          "2020-07-02T16:17:26.273",
          "2020-07-06T05:50:50.78",
          "2020-07-06T09:19:59.403",
          "2020-07-08T09:33:24.407",
          "2020-07-08T16:56:19.757",
          "2020-07-09T15:25:26.863",
          "2020-07-09T16:22:26.66",
          "2020-07-09T16:28:26.983",
          "2020-07-10T08:52:51.04",
          "2020-07-10T15:53:37.277",
          "2020-07-10T18:57:48.173",
          "2020-07-11T20:29:03.777",
          "2020-07-13T02:40:11.35",
          "2020-07-14T05:01:01.39",
          "2020-07-15T03:11:16.5",
          "2020-07-15T06:32:14.56",
          "2020-07-15T17:54:55.167",
          "2020-07-16T04:35:29.63",
          "2020-07-16T07:33:35.41",
          "2020-07-16T11:36:35.183",
          "2020-07-16T16:31:52.563",
          "2020-07-17T14:17:43.9",
          "2020-07-20T13:16:24.25",
          "2020-07-20T23:00:15.057",
          "2020-07-21T04:25:05.703",
          "2020-07-21T06:17:01.253",
          "2020-07-21T10:23:05.597",
          "2020-07-21T11:25:17.723",
          "2020-07-21T15:20:11.183",
          "2020-07-22T05:55:52.447",
          "2020-07-22T16:48:52.953",
          "2020-07-22T23:35:16.743",
          "2020-07-23T15:51:45.183",
          "2020-07-23T16:46:00.053",
          "2020-07-24T02:00:04.097",
          "2020-07-24T15:17:29.263",
          "2020-07-27T13:56:35.087",
          "2020-07-28T11:16:57.777",
          "2020-07-28T11:20:26.603",
          "2020-07-28T11:47:30.707",
          "2020-07-29T08:18:11.907",
          "2020-07-29T09:13:44.577",
          "2020-07-29T10:45:28.61",
          "2020-07-30T14:51:34.69",
          "2020-07-30T16:20:18.783",
          "2020-07-31T03:00:29.553",
          "2020-08-01T06:40:03.033",
          "2020-08-02T08:21:09.453",
          "2020-08-03T14:31:32.377",
          "2020-08-03T15:16:16.62",
          "2020-08-05T12:27:19.103",
          "2020-08-05T13:19:23.943",
          "2020-08-06T12:04:03.013",
          "2020-08-06T16:30:31.317",
          "2020-08-07T15:34:48.087",
          "2020-08-10T12:13:23.673",
          "2020-08-11T03:18:56.48",
          "2020-08-11T06:23:35.727",
          "2020-08-11T20:18:22.113",
          "2020-08-12T07:54:44.907",
          "2020-08-13T05:21:38.977",
          "2020-08-13T09:27:35.497",
          "2020-08-13T13:58:17.28",
          "2020-08-13T14:00:56.303",
          "2020-08-13T19:32:19.49",
          "2020-08-14T04:43:10.42",
          "2020-08-14T06:48:55.553",
          "2020-08-14T10:33:47.637",
          "2020-08-14T14:39:35.21",
          "2020-08-17T10:09:37.347",
          "2020-08-17T17:09:22.07",
          "2020-08-18T07:01:56.34",
          "2020-08-18T10:10:32.407",
          "2020-08-19T10:47:49.9",
          "2020-08-19T14:31:13.88",
          "2020-08-20T16:16:04.203",
          "2020-08-20T18:20:03.123",
          "2020-08-21T02:02:10.857",
          "2020-08-21T14:50:21.077",
          "2020-08-21T15:36:03.473",
          "2020-08-24T02:26:12.913",
          "2020-08-24T03:55:16.187",
          "2020-08-24T07:30:08.877",
          "2020-08-24T09:13:29.1",
          "2020-08-25T09:37:23.29",
          "2020-08-25T13:34:40.817",
          "2020-08-26T02:11:50.003",
          "2020-08-26T10:34:15.32",
          "2020-08-26T11:13:50.613",
          "2020-08-27T04:28:56.903",
          "2020-08-27T11:25:26.827",
          "2020-08-27T11:40:36.677",
          "2020-08-27T14:20:01.203",
          "2020-08-27T14:59:03.177",
          "2020-08-28T04:12:14.89",
          "2020-08-28T12:20:32.08",
          "2020-08-31T09:41:46.203",
          "2020-09-01T08:29:04.687",
          "2020-09-01T12:00:23.027",
          "2020-09-02T13:28:25.653",
          "2020-09-03T02:01:33.75",
          "2020-09-03T09:26:58.127",
          "2020-09-03T11:55:40.83",
          "2020-09-03T14:53:10.197",
          "2020-09-03T15:16:17.96",
          "2020-09-04T02:35:33.15",
          "2020-09-04T08:34:40.003",
          "2020-09-07T03:14:01.783",
          "2020-09-08T03:24:11.603",
          "2020-09-08T05:00:37.097",
          "2020-09-08T05:40:25.34",
          "2020-09-08T10:35:57.717",
          "2020-09-08T12:13:05.57",
          "2020-09-08T14:17:04.713",
          "2020-09-09T04:14:26.247",
          "2020-09-09T07:05:09.473",
          "2020-09-09T14:46:03.91",
          "2020-09-09T15:33:09.883",
          "2020-09-09T19:09:12.01",
          "2020-09-10T06:00:56.927",
          "2020-09-10T06:34:35.72",
          "2020-09-10T12:15:08.11",
          "2020-09-10T16:25:03.4",
          "2020-09-11T11:54:43.767",
          "2020-09-11T14:32:09.763",
          "2020-09-11T17:57:16.44",
          "2020-09-13T05:09:37.187",
          "2020-09-13T12:40:21.163",
          "2020-09-14T08:48:44.357",
          "2020-09-15T08:11:30.217",
          "2020-09-15T11:40:17.6",
          "2020-09-15T19:54:20.857",
          "2020-09-16T06:13:11.593",
          "2020-09-16T08:15:45.44",
          "2020-09-16T09:57:44.517",
          "2020-09-16T12:02:57.383",
          "2020-09-16T14:20:14.03",
          "2020-09-16T16:01:59.473",
          "2020-09-16T16:33:38.75",
          "2020-09-16T16:52:38.42",
          "2020-09-17T11:41:44.053",
          "2020-09-17T14:55:23.447",
          "2020-09-17T16:37:00.077",
          "2020-09-18T07:33:41.723",
          "2020-09-18T10:46:34.367",
          "2020-09-20T12:16:21.403",
          "2020-09-21T09:58:43.167",
          "2020-09-21T16:37:39.7",
          "2020-09-21T16:47:19.263",
          "2020-09-22T00:02:42.337",
          "2020-09-22T03:04:06.773",
          "2020-09-22T06:17:08.973",
          "2020-09-22T12:21:03.637",
          "2020-09-22T12:56:21.417",
          "2020-09-23T07:34:25.193",
          "2020-09-23T12:45:54.313",
          "2020-09-23T14:50:02.017",
          "2020-09-23T14:50:53.77",
          "2020-09-23T14:51:39.347",
          "2020-09-23T15:15:00.187",
          "2020-09-24T13:12:57.107",
          "2020-09-24T19:12:48.583",
          "2020-09-25T06:21:34.47",
          "2020-09-25T15:10:56.223",
          "2020-09-25T21:10:47.287",
          "2020-09-27T00:39:00.507",
          "2020-09-27T03:01:48.877",
          "2020-09-28T07:28:53.443",
          "2020-09-28T13:41:47.603",
          "2020-09-29T10:42:52.203",
          "2020-09-29T10:58:24.237",
          "2020-09-29T11:43:39.463",
          "2020-09-29T18:14:05.84",
          "2020-09-29T18:29:04.81",
          "2020-09-30T11:28:12.57",
          "2020-10-01T04:05:51.267",
          "2020-10-01T15:18:19.523",
          "2020-10-02T09:26:32.68",
          "2020-10-04T06:57:42.663",
          "2020-10-05T01:11:31.057",
          "2020-10-05T22:58:21.4",
          "2020-10-06T10:36:52.983",
          "2020-10-06T12:46:04.483",
          "2020-10-07T04:36:43.39",
          "2020-10-07T04:49:35.287",
          "2020-10-07T06:19:26.927",
          "2020-10-07T16:31:35.887",
          "2020-10-07T16:43:08.117",
          "2020-10-08T07:26:39.637",
          "2020-10-08T08:52:50.623",
          "2020-10-08T16:26:59.76",
          "2020-10-09T02:01:00.407",
          "2020-10-09T19:17:29.443",
          "2020-10-12T09:03:36.163",
          "2020-10-12T20:34:39.057",
          "2020-10-13T13:02:42.213",
          "2020-10-13T18:32:15.773",
          "2020-10-14T06:43:01.837",
          "2020-10-14T09:31:09.873",
          "2020-10-14T13:41:44.907",
          "2020-10-14T13:52:09.94",
          "2020-10-15T06:57:57.13",
          "2020-10-15T14:35:43.96",
          "2020-10-16T10:01:41.817",
          "2020-10-16T12:33:29.753",
          "2020-10-16T13:34:13.343",
          "2020-10-16T18:36:31.273",
          "2020-10-17T11:21:17.997",
          "2020-10-17T21:00:48.037",
          "2020-10-19T15:39:33.853",
          "2020-10-19T22:07:22.383",
          "2020-10-19T22:07:38.62",
          "2020-10-20T03:00:27.94",
          "2020-10-20T16:35:09.947",
          "2020-10-21T04:53:38.967",
          "2020-10-21T06:22:02.867",
          "2020-10-21T09:30:56.74",
          "2020-10-21T10:44:23.66",
          "2020-10-21T12:58:42.72",
          "2020-10-21T13:33:08.743",
          "2020-10-21T14:06:01.427",
          "2020-10-22T13:47:42.993",
          "2020-10-22T14:31:26.257",
          "2020-10-22T17:17:54.993",
          "2020-10-22T17:19:54.477",
          "2020-10-23T07:50:08.56",
          "2020-10-23T12:09:06.92",
          "2020-10-23T16:06:11.243",
          "2020-10-24T16:03:56.137",
          "2020-10-25T08:22:12.38",
          "2020-10-25T16:01:58.43",
          "2020-10-26T05:46:15.347",
          "2020-10-27T16:57:39.52",
          "2020-10-28T05:57:09.547",
          "2020-10-28T13:28:28.833",
          "2020-10-28T15:58:04.637",
          "2020-10-29T01:39:26.437",
          "2020-10-29T02:25:33.677",
          "2020-10-29T11:10:06.717",
          "2020-10-29T14:45:52.203",
          "2020-10-30T15:24:32.273",
          "2020-11-02T09:41:44.807",
          "2020-11-02T16:14:49.56",
          "2020-11-03T09:15:35.397",
          "2020-11-03T14:16:21.633",
          "2020-11-04T08:18:34.06",
          "2020-11-05T12:22:50.65",
          "2020-11-05T13:57:09.393",
          "2020-11-06T03:12:33.02",
          "2020-11-07T02:30:08.94",
          "2020-11-08T12:42:54.723",
          "2020-11-08T12:48:07.61",
          "2020-11-09T08:23:02.983",
          "2020-11-09T10:51:40.613",
          "2020-11-11T05:50:59.56",
          "2020-11-11T06:00:38.383",
          "2020-11-11T09:58:05.707",
          "2020-11-11T11:27:29.283",
          "2020-11-11T15:13:05.847",
          "2020-11-11T16:53:07.01",
          "2020-11-12T05:28:55.913",
          "2020-11-12T14:47:17.27",
          "2020-11-12T18:39:57.223",
          "2020-11-13T03:08:25.797",
          "2020-11-13T18:33:05.46",
          "2020-11-14T14:04:27.383",
          "2020-11-16T02:39:45.893",
          "2020-11-16T11:23:16.327",
          "2020-11-16T11:25:19.08",
          "2020-11-18T06:54:44.173",
          "2020-11-18T11:32:37.993",
          "2020-11-18T11:41:37.49",
          "2020-11-18T12:30:24.143",
          "2020-11-18T12:37:55.147",
          "2020-11-18T19:18:53.403",
          "2020-11-19T09:30:41.29",
          "2020-11-19T12:44:09.52",
          "2020-11-19T16:56:39.44",
          "2020-11-20T10:05:42.53",
          "2020-11-20T14:00:44.387",
          "2020-11-20T16:00:00.39",
          "2020-11-21T05:08:51.133",
          "2020-11-22T23:21:07.067",
          "2020-11-23T01:58:09.64",
          "2020-11-24T10:58:17.443",
          "2020-11-24T15:09:06.143",
          "2020-11-24T16:02:26.117",
          "2020-11-24T20:48:57.933",
          "2020-11-25T11:17:47.587",
          "2020-11-25T11:59:22.583",
          "2020-11-25T12:40:55.58",
          "2020-11-25T13:13:05.463",
          "2020-11-25T14:28:28.507",
          "2020-11-25T15:43:04.867",
          "2020-11-26T11:43:14.277",
          "2020-11-30T16:32:19.377",
          "2020-12-02T09:26:16.583",
          "2020-12-02T15:54:46.727",
          "2020-12-03T15:45:18.923",
          "2020-12-04T18:13:27.287",
          "2020-12-06T07:13:50.297",
          "2020-12-06T08:25:07.433",
          "2020-12-06T22:33:26.473",
          "2020-12-08T06:45:13.323",
          "2020-12-08T11:32:56.12",
          "2020-12-08T12:43:05.35",
          "2020-12-08T12:43:52.023",
          "2020-12-08T15:13:24.93",
          "2020-12-09T10:04:40.567",
          "2020-12-10T03:32:44.07",
          "2020-12-10T16:03:19.67",
          "2020-12-10T16:45:56.92",
          "2020-12-11T09:05:13.287",
          "2020-12-15T11:43:28.143",
          "2020-12-15T13:24:34.04",
          "2020-12-16T05:04:16.433",
          "2020-12-16T11:24:45.933",
          "2020-12-16T13:34:06.637",
          "2020-12-16T16:31:08.12",
          "2020-12-16T21:46:56.413",
          "2020-12-18T03:06:14.177",
          "2020-12-18T11:11:07.787",
          "2020-12-21T08:30:12.503",
          "2020-12-21T17:49:39.223",
          "2020-12-22T04:59:41.42",
          "2020-12-22T05:06:26.697",
          "2020-12-23T09:59:10.2",
          "2020-12-23T10:59:14.423",
          "2020-12-24T00:03:53.283",
          "2020-12-26T15:56:58.257",
          "2020-12-27T01:57:08.607",
          "2020-12-27T11:57:47.007",
          "2020-12-27T14:12:00.18",
          "2020-12-28T02:51:24.99",
          "2020-12-28T10:34:01.52",
          "2020-12-28T11:57:21.447",
          "2020-12-28T15:09:46.85",
          "2020-12-29T08:45:35.597",
          "2020-12-29T11:55:09.773",
          "2020-12-29T15:13:04.71",
          "2020-12-29T17:22:22.603",
          "2020-12-30T10:05:14.57",
          "2020-12-31T18:03:21.66",
          "2021-01-01T07:00:15.443",
          "2021-01-03T22:55:07.463",
          "2021-01-04T07:41:29.507",
          "2021-01-04T07:48:38.72",
          "2021-01-04T08:49:11.093",
          "2021-01-04T12:26:12.183",
          "2021-01-05T09:54:38.063",
          "2021-01-05T10:07:21.227",
          "2021-01-05T20:16:38.75",
          "2021-01-06T12:25:16.487",
          "2021-01-06T14:50:39.423",
          "2021-01-07T00:43:54.317",
          "2021-01-08T03:57:53.35",
          "2021-01-09T23:27:17.513",
          "2021-01-11T05:30:23.477",
          "2021-01-11T16:25:58.88",
          "2021-01-11T22:44:21.93",
          "2021-01-12T06:59:45.843",
          "2021-01-12T07:40:27.073",
          "2021-01-12T08:16:59.57",
          "2021-01-12T09:52:23.923",
          "2021-01-12T23:48:05.1",
          "2021-01-14T13:55:54.143",
          "2021-01-15T06:20:18.943",
          "2021-01-15T11:36:31.313",
          "2021-01-16T04:10:22.447",
          "2021-01-16T07:56:33.363",
          "2021-01-16T19:32:13.78",
          "2021-01-18T00:23:54.957",
          "2021-01-18T05:59:41.04",
          "2021-01-19T13:53:44.657",
          "2021-01-19T14:58:12.793",
          "2021-01-20T07:11:18.693",
          "2021-01-20T07:58:12.823",
          "2021-01-20T15:38:36.633",
          "2021-01-20T16:13:02.5",
          "2021-01-21T09:00:33.853",
          "2021-01-21T17:46:44.013",
          "2021-01-22T13:54:36.95",
          "2021-01-22T15:20:52.107",
          "2021-01-23T00:52:07.6",
          "2021-01-25T03:57:52.733",
          "2021-01-25T10:05:26.427",
          "2021-01-25T12:51:33.14",
          "2021-01-25T17:07:17.423",
          "2021-01-27T01:26:58.78",
          "2021-01-27T09:22:55.277",
          "2021-01-27T09:22:55.547",
          "2021-01-27T09:28:32.857",
          "2021-01-27T13:06:46.71",
          "2021-01-28T11:33:34.887",
          "2021-01-29T05:09:45.457",
          "2021-01-29T09:32:23.31",
          "2021-01-30T02:44:24.313",
          "2021-02-01T14:35:54.11",
          "2021-02-02T02:54:29.54",
          "2021-02-02T09:15:33.837",
          "2021-02-03T04:07:38.773",
          "2021-02-03T06:28:55.87",
          "2021-02-03T14:28:38.48",
          "2021-02-04T18:52:41.68",
          "2021-02-05T01:44:05.203",
          "2021-02-05T09:38:55.053",
          "2021-02-07T01:35:51.77",
          "2021-02-07T03:45:35.85",
          "2021-02-07T22:47:17.563",
          "2021-02-08T04:21:46.14",
          "2021-02-08T14:35:14.027",
          "2021-02-08T20:23:34.343",
          "2021-02-09T05:36:55.147",
          "2021-02-09T07:28:04.943",
          "2021-02-10T06:07:45.91",
          "2021-02-10T11:48:40.4",
          "2021-02-10T13:30:52.19",
          "2021-02-10T17:28:34.27",
          "2021-02-11T16:40:26.987",
          "2021-02-11T21:31:20.58",
          "2021-02-12T05:54:48.23",
          "2021-02-12T09:56:04.773",
          "2021-02-12T15:06:05.92",
          "2021-02-12T15:07:52.33",
          "2021-02-13T02:53:30.073",
          "2021-02-14T04:45:31.08",
          "2021-02-14T15:10:09.8",
          "2021-02-15T21:50:52.64",
          "2021-02-16T06:32:23.97",
          "2021-02-16T09:44:47.337",
          "2021-02-16T14:37:14.58",
          "2021-02-17T00:44:34.993",
          "2021-02-17T01:00:17.45",
          "2021-02-17T01:25:49.423",
          "2021-02-17T17:57:59.497",
          "2021-02-18T04:41:42.563",
          "2021-02-19T11:17:25.39",
          "2021-02-22T01:18:39.76",
          "2021-02-22T10:22:26.3",
          "2021-02-23T05:30:07.697",
          "2021-02-23T08:25:50.447",
          "2021-02-23T15:53:46.57",
          "2021-02-24T07:45:06.977",
          "2021-02-24T12:36:00.77",
          "2021-02-25T08:53:44.637",
          "2021-02-25T10:29:48.393",
          "2021-02-25T16:43:06.273",
          "2021-02-26T09:23:09.993",
          "2021-02-26T11:57:02.543",
          "2021-02-26T18:47:43.037",
          "2021-02-27T07:31:29.457",
          "2021-02-27T11:08:57.667",
          "2021-03-01T09:13:33.787",
          "2021-03-01T19:39:59.55",
          "2021-03-02T09:23:36.847",
          "2021-03-02T11:18:39.363",
          "2021-03-02T16:31:12.837",
          "2021-03-03T03:05:35.877",
          "2021-03-03T05:13:37.897",
          "2021-03-03T06:44:32.35",
          "2021-03-03T08:54:25",
          "2021-03-03T09:20:39.307",
          "2021-03-03T16:19:15.397",
          "2021-03-04T02:36:22.257",
          "2021-03-04T11:01:28.96",
          "2021-03-05T08:22:11.3",
          "2021-03-06T06:54:56.57",
          "2021-03-09T07:01:54.71",
          "2021-03-09T11:05:19.053",
          "2021-03-09T11:09:19.763",
          "2021-03-09T14:55:21.58",
          "2021-03-09T17:00:23.213",
          "2021-03-10T04:36:07.837",
          "2021-03-10T15:24:21.857",
          "2021-03-10T16:00:02.613",
          "2021-03-11T04:20:04.103",
          "2021-03-11T09:00:30.913",
          "2021-03-11T17:30:43.753",
          "2021-03-12T02:34:21.683",
          "2021-03-12T03:28:33.083",
          "2021-03-12T11:48:47.203",
          "2021-03-13T10:25:21.143",
          "2021-03-14T17:29:30.287",
          "2021-03-15T10:13:43.667",
          "2021-03-15T10:53:54.233",
          "2021-03-16T07:06:57.6",
          "2021-03-16T15:19:27.047",
          "2021-03-17T17:02:54.86",
          "2021-03-18T02:51:39.69",
          "2021-03-18T13:51:25.81",
          "2021-03-19T07:21:13.43",
          "2021-03-19T11:31:47.557",
          "2021-03-20T01:34:53.61",
          "2021-03-22T03:47:12.6",
          "2021-03-23T12:14:18.863",
          "2021-03-24T09:04:13.813",
          "2021-03-24T12:58:46.5",
          "2021-03-25T03:17:53.38",
          "2021-03-25T14:46:51.637",
          "2021-03-25T16:39:59.577",
          "2021-03-26T14:27:14.173",
          "2021-03-30T12:29:47.413",
          "2021-03-30T12:53:22.887",
          "2021-03-31T05:04:42.15",
          "2021-03-31T06:38:42.34",
          "2021-04-01T08:14:49.057",
          "2021-04-06T19:28:50.28",
          "2021-04-07T14:44:07.22",
          "2021-04-08T17:31:25.08",
          "2021-04-09T14:10:26.533",
          "2021-04-09T18:43:03.997",
          "2021-04-10T02:53:00.28",
          "2021-04-10T03:29:32.747",
          "2021-04-10T15:57:59.943",
          "2021-04-12T10:52:25.73",
          "2021-04-12T12:12:10.283",
          "2021-04-12T15:13:07.097",
          "2021-04-14T03:27:41.803",
          "2021-04-15T08:57:58.05",
          "2021-04-15T12:20:03.933",
          "2021-04-19T09:41:09.173",
          "2021-04-20T07:00:28.707",
          "2021-04-20T11:43:36.217",
          "2021-04-20T15:43:56.607",
          "2021-04-21T11:38:15.18",
          "2021-04-22T04:29:17.66",
          "2021-04-22T04:48:51.64",
          "2021-04-22T06:55:40.56",
          "2021-04-22T07:32:19.79",
          "2021-04-22T16:37:41.357",
          "2021-04-22T16:43:27",
          "2021-04-23T00:03:22.743",
          "2021-04-23T09:14:59.607",
          "2021-04-23T11:09:05.35",
          "2021-04-27T07:40:14.087",
          "2021-04-27T10:25:08.213",
          "2021-04-27T13:53:38.607",
          "2021-04-27T14:05:34.707",
          "2021-04-27T16:17:23.083",
          "2021-04-27T16:38:41.177",
          "2021-04-28T06:07:57.33",
          "2021-04-28T11:44:20.84",
          "2021-04-28T14:08:31.08",
          "2021-04-28T14:15:54.817",
          "2021-04-29T02:16:11.49",
          "2021-04-30T07:03:44.607",
          "2021-04-30T08:43:37.07",
          "2021-04-30T15:41:33.667",
          "2021-05-04T03:26:26.993",
          "2021-05-04T09:31:18.373",
          "2021-05-05T10:48:30.583",
          "2021-05-05T14:59:26.737",
          "2021-05-06T04:52:27.5",
          "2021-05-06T05:44:31.317",
          "2021-05-06T06:08:48.817",
          "2021-05-06T10:55:46.883",
          "2021-05-06T14:47:18.237",
          "2021-05-06T15:36:56.423",
          "2021-05-06T19:21:40.677",
          "2021-05-07T11:58:25.423",
          "2021-05-07T12:44:00.26",
          "2021-05-10T14:33:41.143",
          "2021-05-11T11:11:22.967",
          "2021-05-11T14:33:52.803",
          "2021-05-11T16:15:01.67",
          "2021-05-12T19:29:45.887",
          "2021-05-14T08:27:02.38",
          "2021-05-14T10:04:28.7",
          "2021-05-17T00:14:13.58",
          "2021-05-17T05:24:41.617",
          "2021-05-17T10:22:56.957",
          "2021-05-17T10:44:03.017",
          "2021-05-17T12:12:39.573",
          "2021-05-17T12:41:24.27",
          "2021-05-18T00:14:22.057",
          "2021-05-19T09:46:33.497",
          "2021-05-20T08:11:58.513",
          "2021-05-21T02:17:15.373",
          "2021-05-23T15:49:03.797",
          "2021-05-24T03:14:14.447",
          "2021-05-24T05:55:56.8",
          "2021-05-24T14:55:23.877",
          "2021-05-25T10:09:32.81",
          "2021-05-25T16:41:37.953",
          "2021-05-25T23:18:10.647",
          "2021-05-25T23:21:55.333",
          "2021-05-26T05:39:30.67",
          "2021-05-27T07:12:50.66",
          "2021-05-28T11:21:25.033",
          "2021-05-28T13:33:13.153",
          "2021-05-29T21:45:02.2",
          "2021-05-30T01:41:31.68",
          "2021-05-30T08:11:59.69",
          "2021-06-02T07:44:14.63",
          "2021-06-02T12:18:46.267",
          "2021-06-02T13:14:26.307",
          "2021-06-02T13:40:25.58",
          "2021-06-02T13:53:43.85",
          "2021-06-02T15:54:57.997",
          "2021-06-02T16:37:04.77",
          "2021-06-03T02:17:04.61",
          "2021-06-03T04:46:03.063",
          "2021-06-03T04:52:06.57",
          "2021-06-03T09:19:09.593",
          "2021-06-03T19:44:17.527",
          "2021-06-04T05:25:16.927",
          "2021-06-04T10:11:48.013",
          "2021-06-04T19:14:13.09",
          "2021-06-08T04:53:56.6",
          "2021-06-08T10:57:39.363"
         ],
         "xaxis": "x",
         "y": [
          0.063,
          0.022,
          0,
          0.041,
          0,
          0.046,
          0,
          0,
          0,
          0.081,
          0.05,
          0.102,
          0.025,
          0,
          0.037,
          0,
          0.077,
          0.09,
          0,
          0,
          0.069,
          0.121,
          0.067,
          0.034,
          0.079,
          0,
          0,
          0.062,
          0,
          0.089,
          0.055,
          0,
          0.11,
          0,
          0.118,
          0,
          0.145,
          0,
          0,
          0.035,
          0,
          0.062,
          0,
          0.129,
          0,
          0.038,
          0.249,
          0,
          0.1,
          0.032,
          0.102,
          0,
          0,
          0,
          0.131,
          0,
          0,
          0.073,
          0.122,
          0,
          0.02,
          0,
          0,
          0,
          0,
          0,
          0.057,
          0,
          0,
          0,
          0.029,
          0.065,
          0.079,
          0.035,
          0,
          0,
          0,
          0.043,
          0.067,
          0,
          0,
          0.146,
          0.036,
          0,
          0.011,
          0,
          0.024,
          0,
          0,
          0.041,
          0.073,
          0,
          0,
          0,
          0.047,
          0.166,
          0.049,
          0.033,
          0,
          0,
          0,
          0.14,
          0.158,
          0,
          0,
          0.022,
          0.021,
          0.037,
          0,
          0.088,
          0,
          0.08,
          0.046,
          0,
          0.092,
          0,
          0,
          0,
          0,
          0.059,
          0,
          0,
          0.048,
          0,
          0.023,
          0,
          0,
          0,
          0.074,
          0.102,
          0.06,
          0,
          0.1,
          0,
          0.074,
          0.03,
          0.153,
          0,
          0.047,
          0.036,
          0,
          0.018,
          0,
          0.116,
          0.034,
          0,
          0,
          0.167,
          0.046,
          0.028,
          0.171,
          0,
          0,
          0.072,
          0.052,
          0.039,
          0,
          0,
          0,
          0.057,
          0,
          0.05,
          0,
          0.031,
          0.058,
          0.171,
          0.007,
          0,
          0.056,
          0.011,
          0.146,
          0,
          0.043,
          0,
          0.044,
          0,
          0.03,
          0.046,
          0,
          0,
          0,
          0,
          0.028,
          0.013,
          0.029,
          0,
          0,
          0.073,
          0.05,
          0.077,
          0.022,
          0.052,
          0.025,
          0,
          0.104,
          0,
          0.028,
          0,
          0,
          0,
          0,
          0.041,
          0.046,
          0.077,
          0,
          0,
          0,
          0.09,
          0.07,
          0.067,
          0.124,
          0.047,
          0,
          0.129,
          0.074,
          0,
          0,
          0,
          0,
          0.021,
          0,
          0.061,
          0,
          0.047,
          0.091,
          0,
          0.051,
          0.077,
          0.071,
          0.033,
          0,
          0.194,
          0.043,
          0.014,
          0,
          0,
          0,
          0.028,
          0,
          0.048,
          0.093,
          0.022,
          0.017,
          0.026,
          0,
          0,
          0.053,
          0.085,
          0.055,
          0,
          0,
          0.231,
          0,
          0,
          0,
          0.087,
          0,
          0,
          0,
          0,
          0.022,
          0.03,
          0,
          0,
          0,
          0,
          0.062,
          0,
          0,
          0.19,
          0.058,
          0,
          0,
          0,
          0.049,
          0,
          0,
          0,
          0.131,
          0,
          0,
          0.102,
          0.069,
          0.042,
          0.031,
          0.103,
          0.005,
          0,
          0.027,
          0,
          0.154,
          0.057,
          0,
          0.106,
          0.027,
          0.119,
          0,
          0,
          0,
          0.049,
          0,
          0,
          0.053,
          0.069,
          0,
          0.115,
          0,
          0,
          0.051,
          0.227,
          0,
          0,
          0.17,
          0,
          0,
          0.034,
          0.089,
          0,
          0.022,
          0,
          0.048,
          0.076,
          0.038,
          0.023,
          0.103,
          0,
          0,
          0.015,
          0.022,
          0,
          0.099,
          0,
          0.172,
          0.083,
          0.073,
          0.121,
          0.023,
          0.123,
          0.039,
          0,
          0.059,
          0,
          0,
          0,
          0.021,
          0.07,
          0,
          0,
          0,
          0.162,
          0,
          0,
          0,
          0,
          0,
          0,
          0.154,
          0,
          0,
          0,
          0,
          0,
          0.035,
          0.016,
          0.013,
          0.022,
          0.017,
          0,
          0,
          0,
          0.062,
          0,
          0,
          0.048,
          0,
          0.127,
          0,
          0.117,
          0.02,
          0.083,
          0,
          0,
          0.049,
          0,
          0,
          0,
          0.043,
          0,
          0,
          0,
          0.048,
          0.096,
          0,
          0.186,
          0,
          0.043,
          0,
          0.078,
          0,
          0.084,
          0.12,
          0,
          0.068,
          0,
          0.212,
          0,
          0.078,
          0.155,
          0.015,
          0,
          0.042,
          0.058,
          0,
          0.213,
          0.071,
          0.076,
          0.042,
          0.056,
          0,
          0,
          0.037,
          0,
          0.052,
          0.017,
          0,
          0,
          0.046,
          0.043,
          0.154,
          0.1,
          0.166,
          0.098,
          0.091,
          0,
          0.067,
          0.098,
          0.072,
          0,
          0,
          0,
          0,
          0.164,
          0.062,
          0.059,
          0,
          0.031,
          0,
          0.113,
          0,
          0,
          0.087,
          0,
          0.115,
          0,
          0.118,
          0.035,
          0,
          0,
          0,
          0,
          0.1,
          0.019,
          0,
          0,
          0,
          0,
          0,
          0.031,
          0.062,
          0,
          0.073,
          0.188,
          0,
          0,
          0,
          0.016,
          0,
          0.048,
          0.087,
          0,
          0.052,
          0,
          0.029,
          0,
          0.062,
          0,
          0,
          0.072,
          0.118,
          0,
          0.092,
          0.02,
          0,
          0,
          0.1,
          0.085,
          0,
          0.164,
          0.024,
          0,
          0.237,
          0.069,
          0,
          0.052,
          0.033,
          0,
          0,
          0.033,
          0,
          0.049,
          0.022,
          0.048,
          0,
          0.05,
          0.013,
          0,
          0,
          0,
          0,
          0,
          0.065,
          0.224,
          0.06,
          0.098,
          0,
          0,
          0,
          0.02,
          0.04,
          0.132,
          0,
          0,
          0.048,
          0,
          0.137,
          0.018,
          0.07,
          0.023,
          0.056,
          0,
          0,
          0.04,
          0.095,
          0,
          0.05,
          0.136,
          0.181,
          0,
          0.211,
          0,
          0,
          0,
          0.049,
          0.038,
          0.087,
          0,
          0,
          0.071,
          0.027,
          0,
          0.084,
          0,
          0.091,
          0,
          0.03,
          0,
          0,
          0,
          0.053,
          0.025,
          0.065,
          0,
          0,
          0,
          0,
          0.078,
          0,
          0.012,
          0,
          0.065,
          0,
          0,
          0.089,
          0.029,
          0,
          0,
          0,
          0.06,
          0,
          0,
          0.141,
          0.06,
          0,
          0.047,
          0.026,
          0.065,
          0.089,
          0,
          0.123,
          0,
          0.09,
          0.066,
          0.089,
          0,
          0,
          0,
          0.009,
          0.037,
          0,
          0,
          0,
          0,
          0,
          0,
          0,
          0,
          0.041,
          0.069,
          0,
          0,
          0,
          0,
          0.026,
          0,
          0,
          0,
          0.062,
          0,
          0,
          0.026,
          0.236,
          0.062,
          0,
          0,
          0,
          0.059,
          0.129,
          0,
          0,
          0.028,
          0,
          0.121,
          0,
          0.017,
          0,
          0,
          0,
          0,
          0,
          0,
          0.103,
          0,
          0.065,
          0,
          0.047,
          0.08,
          0.169,
          0,
          0.046,
          0.041,
          0.156,
          0.081,
          0.011,
          0,
          0.03,
          0,
          0.079,
          0,
          0.132,
          0.05,
          0.046,
          0.055,
          0.071,
          0,
          0.067,
          0,
          0.034,
          0,
          0,
          0.087,
          0,
          0,
          0.045,
          0.118,
          0.1,
          0.029,
          0,
          0.074,
          0,
          0.07,
          0,
          0,
          0.044,
          0.004,
          0.182,
          0.086,
          0.092,
          0,
          0,
          0,
          0,
          0.021,
          0,
          0,
          0,
          0.034,
          0.007,
          0.036,
          0,
          0.205,
          0.205,
          0.06,
          0.1,
          0,
          0,
          0,
          0.032,
          0,
          0.026,
          0,
          0,
          0,
          0,
          0,
          0.048,
          0,
          0,
          0.025,
          0.148,
          0.082,
          0.009,
          0.145,
          0.048,
          0.091,
          0,
          0.005,
          0,
          0.023,
          0.111,
          0.015,
          0.075,
          0,
          0,
          0.028,
          0,
          0.074,
          0,
          0.07,
          0.058,
          0,
          0.039,
          0,
          0,
          0.07,
          0.072,
          0.017,
          0,
          0,
          0.031,
          0,
          0.116,
          0,
          0.071,
          0.026,
          0.108,
          0,
          0.016,
          0.136,
          0,
          0,
          0.236,
          0,
          0.045,
          0.086,
          0.133,
          0.041,
          0.156,
          0.013,
          0,
          0.116,
          0.025,
          0.1,
          0.022,
          0,
          0,
          0.054,
          0.115,
          0,
          0.055,
          0.042,
          0.163,
          0.051,
          0.103,
          0,
          0.074,
          0,
          0,
          0.044,
          0.148,
          0.014,
          0.276,
          0,
          0.053,
          0.037,
          0,
          0,
          0.112,
          0,
          0,
          0.102,
          0,
          0,
          0.109,
          0.13,
          0,
          0.231,
          0,
          0.082,
          0.035,
          0,
          0,
          0.045,
          0,
          0.08,
          0,
          0,
          0.023,
          0,
          0,
          0,
          0.044,
          0.029,
          0.125,
          0,
          0.035,
          0,
          0.04,
          0,
          0.091,
          0.086,
          0.143,
          0,
          0.246,
          0.019,
          0,
          0.129,
          0.04,
          0.053,
          0,
          0.015,
          0,
          0.054,
          0.19,
          0,
          0.021,
          0.05,
          0,
          0,
          0,
          0.074,
          0.014,
          0,
          0,
          0,
          0.111,
          0,
          0,
          0,
          0.037,
          0,
          0.059,
          0,
          0.171,
          0,
          0.03,
          0.048,
          0.064,
          0.141,
          0.064,
          0,
          0,
          0.175,
          0.066,
          0.091,
          0,
          0.027,
          0.114,
          0,
          0.079,
          0.079,
          0.17,
          0.052,
          0.065,
          0.039,
          0.098,
          0.018,
          0.06,
          0.046,
          0,
          0,
          0.031,
          0,
          0.047,
          0,
          0.068,
          0,
          0.15,
          0.104,
          0.055,
          0,
          0,
          0.022,
          0,
          0,
          0.026,
          0,
          0.027,
          0,
          0,
          0.105,
          0.015,
          0.056,
          0.057,
          0,
          0.12,
          0,
          0.095,
          0,
          0,
          0.026,
          0.023,
          0,
          0.013,
          0.133,
          0,
          0.053,
          0,
          0.092,
          0.16,
          0,
          0.117,
          0,
          0.074,
          0,
          0.048,
          0,
          0,
          0.415,
          0,
          0.013,
          0.026,
          0,
          0.036,
          0,
          0.046,
          0.067,
          0,
          0,
          0,
          0,
          0,
          0.016,
          0.037,
          0.019,
          0,
          0,
          0,
          0.213,
          0,
          0.065,
          0,
          0.227,
          0.037,
          0.075,
          0,
          0,
          0,
          0,
          0.049,
          0.036,
          0,
          0,
          0,
          0.109,
          0.018,
          0.053,
          0.095,
          0,
          0.231,
          0.147,
          0.041,
          0,
          0.092,
          0.06,
          0.032,
          0.056,
          0,
          0,
          0.147,
          0,
          0,
          0.024,
          0,
          0.06,
          0.093,
          0,
          0.107,
          0.127,
          0,
          0.033,
          0.036,
          0.063,
          0,
          0,
          0,
          0,
          0,
          0.15,
          0.049,
          0.152,
          0.127,
          0,
          0.031,
          0.036,
          0.025,
          0,
          0,
          0,
          0.025,
          0.045,
          0.15,
          0.068,
          0,
          0.045,
          0.026,
          0,
          0,
          0,
          0.047,
          0.061,
          0.131,
          0,
          0.093,
          0.016,
          0.072,
          0,
          0.067,
          0.16,
          0.086,
          0.135,
          0.258,
          0.097,
          0,
          0.067,
          0.103,
          0,
          0,
          0.051,
          0.046,
          0.022,
          0,
          0,
          0,
          0.063,
          0.068,
          0.04,
          0.028,
          0,
          0,
          0,
          0,
          0.043,
          0.025,
          0,
          0,
          0,
          0,
          0.21,
          0.039,
          0,
          0,
          0,
          0,
          0.089,
          0,
          0
         ],
         "yaxis": "y"
        }
       ],
       "layout": {
        "legend": {
         "tracegroupgap": 0
        },
        "margin": {
         "t": 60
        },
        "template": {
         "data": {
          "bar": [
           {
            "error_x": {
             "color": "#2a3f5f"
            },
            "error_y": {
             "color": "#2a3f5f"
            },
            "marker": {
             "line": {
              "color": "#E5ECF6",
              "width": 0.5
             }
            },
            "type": "bar"
           }
          ],
          "barpolar": [
           {
            "marker": {
             "line": {
              "color": "#E5ECF6",
              "width": 0.5
             }
            },
            "type": "barpolar"
           }
          ],
          "carpet": [
           {
            "aaxis": {
             "endlinecolor": "#2a3f5f",
             "gridcolor": "white",
             "linecolor": "white",
             "minorgridcolor": "white",
             "startlinecolor": "#2a3f5f"
            },
            "baxis": {
             "endlinecolor": "#2a3f5f",
             "gridcolor": "white",
             "linecolor": "white",
             "minorgridcolor": "white",
             "startlinecolor": "#2a3f5f"
            },
            "type": "carpet"
           }
          ],
          "choropleth": [
           {
            "colorbar": {
             "outlinewidth": 0,
             "ticks": ""
            },
            "type": "choropleth"
           }
          ],
          "contour": [
           {
            "colorbar": {
             "outlinewidth": 0,
             "ticks": ""
            },
            "colorscale": [
             [
              0,
              "#0d0887"
             ],
             [
              0.1111111111111111,
              "#46039f"
             ],
             [
              0.2222222222222222,
              "#7201a8"
             ],
             [
              0.3333333333333333,
              "#9c179e"
             ],
             [
              0.4444444444444444,
              "#bd3786"
             ],
             [
              0.5555555555555556,
              "#d8576b"
             ],
             [
              0.6666666666666666,
              "#ed7953"
             ],
             [
              0.7777777777777778,
              "#fb9f3a"
             ],
             [
              0.8888888888888888,
              "#fdca26"
             ],
             [
              1,
              "#f0f921"
             ]
            ],
            "type": "contour"
           }
          ],
          "contourcarpet": [
           {
            "colorbar": {
             "outlinewidth": 0,
             "ticks": ""
            },
            "type": "contourcarpet"
           }
          ],
          "heatmap": [
           {
            "colorbar": {
             "outlinewidth": 0,
             "ticks": ""
            },
            "colorscale": [
             [
              0,
              "#0d0887"
             ],
             [
              0.1111111111111111,
              "#46039f"
             ],
             [
              0.2222222222222222,
              "#7201a8"
             ],
             [
              0.3333333333333333,
              "#9c179e"
             ],
             [
              0.4444444444444444,
              "#bd3786"
             ],
             [
              0.5555555555555556,
              "#d8576b"
             ],
             [
              0.6666666666666666,
              "#ed7953"
             ],
             [
              0.7777777777777778,
              "#fb9f3a"
             ],
             [
              0.8888888888888888,
              "#fdca26"
             ],
             [
              1,
              "#f0f921"
             ]
            ],
            "type": "heatmap"
           }
          ],
          "heatmapgl": [
           {
            "colorbar": {
             "outlinewidth": 0,
             "ticks": ""
            },
            "colorscale": [
             [
              0,
              "#0d0887"
             ],
             [
              0.1111111111111111,
              "#46039f"
             ],
             [
              0.2222222222222222,
              "#7201a8"
             ],
             [
              0.3333333333333333,
              "#9c179e"
             ],
             [
              0.4444444444444444,
              "#bd3786"
             ],
             [
              0.5555555555555556,
              "#d8576b"
             ],
             [
              0.6666666666666666,
              "#ed7953"
             ],
             [
              0.7777777777777778,
              "#fb9f3a"
             ],
             [
              0.8888888888888888,
              "#fdca26"
             ],
             [
              1,
              "#f0f921"
             ]
            ],
            "type": "heatmapgl"
           }
          ],
          "histogram": [
           {
            "marker": {
             "colorbar": {
              "outlinewidth": 0,
              "ticks": ""
             }
            },
            "type": "histogram"
           }
          ],
          "histogram2d": [
           {
            "colorbar": {
             "outlinewidth": 0,
             "ticks": ""
            },
            "colorscale": [
             [
              0,
              "#0d0887"
             ],
             [
              0.1111111111111111,
              "#46039f"
             ],
             [
              0.2222222222222222,
              "#7201a8"
             ],
             [
              0.3333333333333333,
              "#9c179e"
             ],
             [
              0.4444444444444444,
              "#bd3786"
             ],
             [
              0.5555555555555556,
              "#d8576b"
             ],
             [
              0.6666666666666666,
              "#ed7953"
             ],
             [
              0.7777777777777778,
              "#fb9f3a"
             ],
             [
              0.8888888888888888,
              "#fdca26"
             ],
             [
              1,
              "#f0f921"
             ]
            ],
            "type": "histogram2d"
           }
          ],
          "histogram2dcontour": [
           {
            "colorbar": {
             "outlinewidth": 0,
             "ticks": ""
            },
            "colorscale": [
             [
              0,
              "#0d0887"
             ],
             [
              0.1111111111111111,
              "#46039f"
             ],
             [
              0.2222222222222222,
              "#7201a8"
             ],
             [
              0.3333333333333333,
              "#9c179e"
             ],
             [
              0.4444444444444444,
              "#bd3786"
             ],
             [
              0.5555555555555556,
              "#d8576b"
             ],
             [
              0.6666666666666666,
              "#ed7953"
             ],
             [
              0.7777777777777778,
              "#fb9f3a"
             ],
             [
              0.8888888888888888,
              "#fdca26"
             ],
             [
              1,
              "#f0f921"
             ]
            ],
            "type": "histogram2dcontour"
           }
          ],
          "mesh3d": [
           {
            "colorbar": {
             "outlinewidth": 0,
             "ticks": ""
            },
            "type": "mesh3d"
           }
          ],
          "parcoords": [
           {
            "line": {
             "colorbar": {
              "outlinewidth": 0,
              "ticks": ""
             }
            },
            "type": "parcoords"
           }
          ],
          "pie": [
           {
            "automargin": true,
            "type": "pie"
           }
          ],
          "scatter": [
           {
            "marker": {
             "colorbar": {
              "outlinewidth": 0,
              "ticks": ""
             }
            },
            "type": "scatter"
           }
          ],
          "scatter3d": [
           {
            "line": {
             "colorbar": {
              "outlinewidth": 0,
              "ticks": ""
             }
            },
            "marker": {
             "colorbar": {
              "outlinewidth": 0,
              "ticks": ""
             }
            },
            "type": "scatter3d"
           }
          ],
          "scattercarpet": [
           {
            "marker": {
             "colorbar": {
              "outlinewidth": 0,
              "ticks": ""
             }
            },
            "type": "scattercarpet"
           }
          ],
          "scattergeo": [
           {
            "marker": {
             "colorbar": {
              "outlinewidth": 0,
              "ticks": ""
             }
            },
            "type": "scattergeo"
           }
          ],
          "scattergl": [
           {
            "marker": {
             "colorbar": {
              "outlinewidth": 0,
              "ticks": ""
             }
            },
            "type": "scattergl"
           }
          ],
          "scattermapbox": [
           {
            "marker": {
             "colorbar": {
              "outlinewidth": 0,
              "ticks": ""
             }
            },
            "type": "scattermapbox"
           }
          ],
          "scatterpolar": [
           {
            "marker": {
             "colorbar": {
              "outlinewidth": 0,
              "ticks": ""
             }
            },
            "type": "scatterpolar"
           }
          ],
          "scatterpolargl": [
           {
            "marker": {
             "colorbar": {
              "outlinewidth": 0,
              "ticks": ""
             }
            },
            "type": "scatterpolargl"
           }
          ],
          "scatterternary": [
           {
            "marker": {
             "colorbar": {
              "outlinewidth": 0,
              "ticks": ""
             }
            },
            "type": "scatterternary"
           }
          ],
          "surface": [
           {
            "colorbar": {
             "outlinewidth": 0,
             "ticks": ""
            },
            "colorscale": [
             [
              0,
              "#0d0887"
             ],
             [
              0.1111111111111111,
              "#46039f"
             ],
             [
              0.2222222222222222,
              "#7201a8"
             ],
             [
              0.3333333333333333,
              "#9c179e"
             ],
             [
              0.4444444444444444,
              "#bd3786"
             ],
             [
              0.5555555555555556,
              "#d8576b"
             ],
             [
              0.6666666666666666,
              "#ed7953"
             ],
             [
              0.7777777777777778,
              "#fb9f3a"
             ],
             [
              0.8888888888888888,
              "#fdca26"
             ],
             [
              1,
              "#f0f921"
             ]
            ],
            "type": "surface"
           }
          ],
          "table": [
           {
            "cells": {
             "fill": {
              "color": "#EBF0F8"
             },
             "line": {
              "color": "white"
             }
            },
            "header": {
             "fill": {
              "color": "#C8D4E3"
             },
             "line": {
              "color": "white"
             }
            },
            "type": "table"
           }
          ]
         },
         "layout": {
          "annotationdefaults": {
           "arrowcolor": "#2a3f5f",
           "arrowhead": 0,
           "arrowwidth": 1
          },
          "autotypenumbers": "strict",
          "coloraxis": {
           "colorbar": {
            "outlinewidth": 0,
            "ticks": ""
           }
          },
          "colorscale": {
           "diverging": [
            [
             0,
             "#8e0152"
            ],
            [
             0.1,
             "#c51b7d"
            ],
            [
             0.2,
             "#de77ae"
            ],
            [
             0.3,
             "#f1b6da"
            ],
            [
             0.4,
             "#fde0ef"
            ],
            [
             0.5,
             "#f7f7f7"
            ],
            [
             0.6,
             "#e6f5d0"
            ],
            [
             0.7,
             "#b8e186"
            ],
            [
             0.8,
             "#7fbc41"
            ],
            [
             0.9,
             "#4d9221"
            ],
            [
             1,
             "#276419"
            ]
           ],
           "sequential": [
            [
             0,
             "#0d0887"
            ],
            [
             0.1111111111111111,
             "#46039f"
            ],
            [
             0.2222222222222222,
             "#7201a8"
            ],
            [
             0.3333333333333333,
             "#9c179e"
            ],
            [
             0.4444444444444444,
             "#bd3786"
            ],
            [
             0.5555555555555556,
             "#d8576b"
            ],
            [
             0.6666666666666666,
             "#ed7953"
            ],
            [
             0.7777777777777778,
             "#fb9f3a"
            ],
            [
             0.8888888888888888,
             "#fdca26"
            ],
            [
             1,
             "#f0f921"
            ]
           ],
           "sequentialminus": [
            [
             0,
             "#0d0887"
            ],
            [
             0.1111111111111111,
             "#46039f"
            ],
            [
             0.2222222222222222,
             "#7201a8"
            ],
            [
             0.3333333333333333,
             "#9c179e"
            ],
            [
             0.4444444444444444,
             "#bd3786"
            ],
            [
             0.5555555555555556,
             "#d8576b"
            ],
            [
             0.6666666666666666,
             "#ed7953"
            ],
            [
             0.7777777777777778,
             "#fb9f3a"
            ],
            [
             0.8888888888888888,
             "#fdca26"
            ],
            [
             1,
             "#f0f921"
            ]
           ]
          },
          "colorway": [
           "#636efa",
           "#EF553B",
           "#00cc96",
           "#ab63fa",
           "#FFA15A",
           "#19d3f3",
           "#FF6692",
           "#B6E880",
           "#FF97FF",
           "#FECB52"
          ],
          "font": {
           "color": "#2a3f5f"
          },
          "geo": {
           "bgcolor": "white",
           "lakecolor": "white",
           "landcolor": "#E5ECF6",
           "showlakes": true,
           "showland": true,
           "subunitcolor": "white"
          },
          "hoverlabel": {
           "align": "left"
          },
          "hovermode": "closest",
          "mapbox": {
           "style": "light"
          },
          "paper_bgcolor": "white",
          "plot_bgcolor": "#E5ECF6",
          "polar": {
           "angularaxis": {
            "gridcolor": "white",
            "linecolor": "white",
            "ticks": ""
           },
           "bgcolor": "#E5ECF6",
           "radialaxis": {
            "gridcolor": "white",
            "linecolor": "white",
            "ticks": ""
           }
          },
          "scene": {
           "xaxis": {
            "backgroundcolor": "#E5ECF6",
            "gridcolor": "white",
            "gridwidth": 2,
            "linecolor": "white",
            "showbackground": true,
            "ticks": "",
            "zerolinecolor": "white"
           },
           "yaxis": {
            "backgroundcolor": "#E5ECF6",
            "gridcolor": "white",
            "gridwidth": 2,
            "linecolor": "white",
            "showbackground": true,
            "ticks": "",
            "zerolinecolor": "white"
           },
           "zaxis": {
            "backgroundcolor": "#E5ECF6",
            "gridcolor": "white",
            "gridwidth": 2,
            "linecolor": "white",
            "showbackground": true,
            "ticks": "",
            "zerolinecolor": "white"
           }
          },
          "shapedefaults": {
           "line": {
            "color": "#2a3f5f"
           }
          },
          "ternary": {
           "aaxis": {
            "gridcolor": "white",
            "linecolor": "white",
            "ticks": ""
           },
           "baxis": {
            "gridcolor": "white",
            "linecolor": "white",
            "ticks": ""
           },
           "bgcolor": "#E5ECF6",
           "caxis": {
            "gridcolor": "white",
            "linecolor": "white",
            "ticks": ""
           }
          },
          "title": {
           "x": 0.05
          },
          "xaxis": {
           "automargin": true,
           "gridcolor": "white",
           "linecolor": "white",
           "ticks": "",
           "title": {
            "standoff": 15
           },
           "zerolinecolor": "white",
           "zerolinewidth": 2
          },
          "yaxis": {
           "automargin": true,
           "gridcolor": "white",
           "linecolor": "white",
           "ticks": "",
           "title": {
            "standoff": 15
           },
           "zerolinecolor": "white",
           "zerolinewidth": 2
          }
         }
        },
        "xaxis": {
         "anchor": "y",
         "domain": [
          0,
          1
         ],
         "title": {
          "text": "Post Date"
         }
        },
        "yaxis": {
         "anchor": "x",
         "domain": [
          0,
          1
         ],
         "title": {
          "text": "neg"
         }
        }
       }
      },
      "text/html": [
       "<div>                            <div id=\"36b6eb32-0602-407d-ac53-7740f1bc457f\" class=\"plotly-graph-div\" style=\"height:525px; width:100%;\"></div>            <script type=\"text/javascript\">                require([\"plotly\"], function(Plotly) {                    window.PLOTLYENV=window.PLOTLYENV || {};                                    if (document.getElementById(\"36b6eb32-0602-407d-ac53-7740f1bc457f\")) {                    Plotly.newPlot(                        \"36b6eb32-0602-407d-ac53-7740f1bc457f\",                        [{\"hovertemplate\": \"Post Date=%{x}<br>neg=%{y}<extra></extra>\", \"legendgroup\": \"\", \"line\": {\"color\": \"#636efa\", \"dash\": \"solid\"}, \"mode\": \"lines\", \"name\": \"\", \"showlegend\": false, \"type\": \"scattergl\", \"x\": [\"2019-10-10T05:58:05.73\", \"2019-10-10T12:44:35.957\", \"2019-10-10T14:56:52.947\", \"2019-10-10T15:41:06.877\", \"2019-10-10T20:56:53.483\", \"2019-10-11T13:10:28.983\", \"2019-10-11T14:24:15.807\", \"2019-10-11T16:02:41.787\", \"2019-10-13T20:01:08.897\", \"2019-10-14T05:55:32.553\", \"2019-10-14T08:33:18.01\", \"2019-10-14T22:38:08.26\", \"2019-10-16T11:20:54.023\", \"2019-10-16T14:12:45.5\", \"2019-10-17T09:14:34.753\", \"2019-10-17T10:16:15.513\", \"2019-10-17T12:09:02.91\", \"2019-10-17T23:59:14.523\", \"2019-10-18T14:58:06.717\", \"2019-10-21T06:08:38.347\", \"2019-10-21T09:43:33.513\", \"2019-10-21T12:40:40.86\", \"2019-10-21T16:06:55.323\", \"2019-10-22T08:16:13.563\", \"2019-10-22T16:27:23.92\", \"2019-10-22T18:07:48.827\", \"2019-10-23T03:37:35.103\", \"2019-10-23T06:23:11.657\", \"2019-10-23T08:20:38.087\", \"2019-10-23T11:38:26.887\", \"2019-10-23T12:09:17.84\", \"2019-10-24T04:42:08.237\", \"2019-10-24T06:19:46.603\", \"2019-10-24T09:59:56.077\", \"2019-10-24T14:04:33.85\", \"2019-10-24T16:34:04.713\", \"2019-10-25T11:54:33.85\", \"2019-10-28T15:36:47.907\", \"2019-10-29T06:01:19.783\", \"2019-10-29T10:29:47.95\", \"2019-10-29T16:46:32.203\", \"2019-10-29T17:04:40.463\", \"2019-10-30T04:45:07.257\", \"2019-10-30T08:21:45.053\", \"2019-10-30T15:33:07.45\", \"2019-10-30T18:41:07.37\", \"2019-10-30T18:45:20.75\", \"2019-10-31T12:35:06.993\", \"2019-10-31T23:57:45.833\", \"2019-11-01T07:44:02.54\", \"2019-11-01T07:45:56.387\", \"2019-11-04T17:47:37.86\", \"2019-11-06T06:04:59.007\", \"2019-11-06T10:08:50.95\", \"2019-11-06T10:27:39.52\", \"2019-11-08T20:33:59.89\", \"2019-11-09T11:37:29.693\", \"2019-11-10T01:44:11.28\", \"2019-11-11T05:59:42.987\", \"2019-11-11T11:39:44.857\", \"2019-11-11T13:02:34.017\", \"2019-11-12T00:41:34.433\", \"2019-11-12T18:42:03.247\", \"2019-11-13T03:30:36.293\", \"2019-11-13T09:35:33.91\", \"2019-11-13T23:52:26.683\", \"2019-11-14T03:28:57.637\", \"2019-11-14T06:03:35.53\", \"2019-11-14T09:45:03.713\", \"2019-11-14T11:29:20.21\", \"2019-11-14T13:10:08.303\", \"2019-11-18T04:12:03.657\", \"2019-11-18T10:12:47.987\", \"2019-11-18T15:17:49.503\", \"2019-11-18T16:11:15.36\", \"2019-11-18T17:18:32.137\", \"2019-11-18T19:25:44.17\", \"2019-11-19T02:48:28.417\", \"2019-11-19T10:27:37.423\", \"2019-11-19T11:00:35.74\", \"2019-11-19T20:00:10.803\", \"2019-11-20T05:47:36.783\", \"2019-11-20T10:36:40.83\", \"2019-11-20T12:24:54.847\", \"2019-11-21T00:07:58.053\", \"2019-11-21T13:38:42.807\", \"2019-11-21T14:08:12.47\", \"2019-11-21T18:13:29.69\", \"2019-11-22T07:29:58.45\", \"2019-11-22T12:44:01.59\", \"2019-11-23T12:26:35.197\", \"2019-11-26T08:17:12.663\", \"2019-11-27T10:39:18.173\", \"2019-11-27T21:15:11.89\", \"2019-11-28T04:58:07.76\", \"2019-11-29T02:39:25.357\", \"2019-12-02T07:06:03.57\", \"2019-12-02T15:42:44.927\", \"2019-12-02T21:04:51.46\", \"2019-12-03T07:56:40.55\", \"2019-12-03T10:45:44.023\", \"2019-12-03T14:56:05.093\", \"2019-12-03T16:06:57.23\", \"2019-12-04T11:59:55.687\", \"2019-12-05T11:04:33.51\", \"2019-12-05T12:28:17.997\", \"2019-12-09T07:10:55.167\", \"2019-12-09T07:25:39.22\", \"2019-12-09T10:45:09.32\", \"2019-12-09T10:53:03.993\", \"2019-12-09T12:45:56.217\", \"2019-12-10T07:50:29.637\", \"2019-12-10T08:52:36.997\", \"2019-12-10T10:14:02.33\", \"2019-12-10T10:55:22.36\", \"2019-12-10T11:53:33.71\", \"2019-12-10T18:25:49.657\", \"2019-12-11T11:26:46.79\", \"2019-12-11T11:57:54.773\", \"2019-12-12T10:17:39.717\", \"2019-12-12T11:05:43.68\", \"2019-12-13T09:43:03.027\", \"2019-12-17T03:54:27.833\", \"2019-12-17T05:30:55.173\", \"2019-12-17T09:31:11.343\", \"2019-12-17T11:21:51.1\", \"2019-12-17T12:36:10.797\", \"2019-12-17T22:05:31.297\", \"2019-12-18T02:18:53.803\", \"2019-12-18T04:43:33.147\", \"2019-12-18T07:43:12.083\", \"2019-12-18T14:19:48.24\", \"2019-12-20T08:29:43.793\", \"2019-12-20T14:25:22.243\", \"2019-12-21T07:25:05.07\", \"2019-12-21T07:31:20.647\", \"2019-12-24T06:44:49.68\", \"2019-12-24T07:53:51.783\", \"2019-12-26T08:18:44.133\", \"2019-12-26T11:59:21.053\", \"2019-12-27T18:14:34.557\", \"2019-12-28T03:55:55.687\", \"2019-12-30T13:08:12.05\", \"2019-12-30T13:53:51.783\", \"2020-01-02T06:49:33.107\", \"2020-01-02T09:53:02.633\", \"2020-01-02T16:36:17.35\", \"2020-01-03T04:40:24.317\", \"2020-01-03T12:08:04.033\", \"2020-01-03T16:41:12.803\", \"2020-01-05T08:26:52.923\", \"2020-01-06T12:19:26.157\", \"2020-01-06T17:04:29.283\", \"2020-01-06T17:40:07.413\", \"2020-01-07T04:10:45.22\", \"2020-01-07T04:51:00.893\", \"2020-01-07T10:24:06.313\", \"2020-01-07T11:18:19.473\", \"2020-01-07T13:43:06.053\", \"2020-01-07T15:38:23.8\", \"2020-01-07T16:18:56.733\", \"2020-01-08T16:28:49.287\", \"2020-01-09T01:31:01.17\", \"2020-01-09T06:33:51.44\", \"2020-01-09T12:05:38.153\", \"2020-01-10T15:06:17.673\", \"2020-01-10T15:54:12.933\", \"2020-01-11T05:17:09.423\", \"2020-01-13T12:21:50.72\", \"2020-01-13T13:00:29.71\", \"2020-01-14T07:18:24.06\", \"2020-01-14T07:36:27.793\", \"2020-01-14T15:06:33.63\", \"2020-01-15T04:12:20.593\", \"2020-01-15T09:52:42.417\", \"2020-01-15T13:11:10.033\", \"2020-01-15T19:14:38.547\", \"2020-01-16T01:35:18.87\", \"2020-01-16T10:00:09.903\", \"2020-01-16T17:27:43.697\", \"2020-01-16T20:37:57.323\", \"2020-01-18T01:12:31.457\", \"2020-01-18T07:43:39.573\", \"2020-01-20T00:07:25.07\", \"2020-01-20T06:57:25.193\", \"2020-01-20T06:59:28.963\", \"2020-01-20T07:01:58.37\", \"2020-01-20T14:25:20.393\", \"2020-01-20T14:45:16.097\", \"2020-01-20T17:44:58.307\", \"2020-01-22T15:07:27.347\", \"2020-01-22T15:21:03.853\", \"2020-01-23T08:30:02.617\", \"2020-01-23T09:12:43.07\", \"2020-01-24T06:49:45.39\", \"2020-01-24T15:38:37.98\", \"2020-01-25T16:27:33.3\", \"2020-01-27T12:47:35.913\", \"2020-01-27T13:06:07.103\", \"2020-01-27T19:11:17.547\", \"2020-01-29T01:21:00.2\", \"2020-01-29T10:26:02.32\", \"2020-01-30T18:43:33.303\", \"2020-01-31T00:48:04.5\", \"2020-01-31T08:03:58.81\", \"2020-02-01T05:35:29.75\", \"2020-02-02T13:10:27.66\", \"2020-02-02T17:09:13.667\", \"2020-02-03T04:12:16.153\", \"2020-02-03T09:59:10.557\", \"2020-02-03T13:33:12.313\", \"2020-02-04T09:46:39.103\", \"2020-02-04T20:18:44.27\", \"2020-02-05T11:30:08.943\", \"2020-02-05T12:57:51.92\", \"2020-02-05T15:34:55.653\", \"2020-02-07T10:19:14.993\", \"2020-02-10T12:07:23.167\", \"2020-02-10T12:23:06.927\", \"2020-02-10T12:51:43.717\", \"2020-02-10T17:12:39.753\", \"2020-02-11T17:09:02.48\", \"2020-02-11T17:58:49.54\", \"2020-02-12T06:28:17.963\", \"2020-02-12T09:04:32.27\", \"2020-02-12T14:03:31.393\", \"2020-02-12T14:51:42.37\", \"2020-02-12T15:16:51.137\", \"2020-02-12T18:31:25.547\", \"2020-02-13T04:33:31.503\", \"2020-02-13T07:03:33.427\", \"2020-02-14T10:24:51.933\", \"2020-02-14T11:00:46.067\", \"2020-02-17T16:50:09.627\", \"2020-02-18T02:27:54.503\", \"2020-02-18T09:57:28.06\", \"2020-02-18T10:33:31.103\", \"2020-02-18T11:09:26.847\", \"2020-02-20T09:07:37.297\", \"2020-02-20T18:55:20.497\", \"2020-02-21T04:19:57.7\", \"2020-02-21T06:32:06.093\", \"2020-02-21T12:36:02.74\", \"2020-02-21T13:01:12.36\", \"2020-02-21T18:07:34.15\", \"2020-02-23T02:07:04.06\", \"2020-02-24T05:14:04.183\", \"2020-02-24T09:39:05.69\", \"2020-02-24T15:46:47.507\", \"2020-02-25T03:52:03.343\", \"2020-02-26T09:59:17.067\", \"2020-02-26T12:34:35.337\", \"2020-02-26T16:38:14.707\", \"2020-02-27T12:11:29.997\", \"2020-02-28T04:40:42.623\", \"2020-02-28T10:58:22.157\", \"2020-02-28T12:00:12.227\", \"2020-02-28T12:41:38.88\", \"2020-02-29T01:03:40.683\", \"2020-03-01T02:40:06.913\", \"2020-03-01T10:01:48.487\", \"2020-03-01T23:59:56.043\", \"2020-03-02T14:28:29.457\", \"2020-03-03T00:00:27.147\", \"2020-03-03T04:30:14.143\", \"2020-03-03T06:44:29.51\", \"2020-03-03T07:23:34.21\", \"2020-03-04T03:34:45.237\", \"2020-03-04T10:43:21.66\", \"2020-03-04T20:50:43.727\", \"2020-03-05T20:40:47.497\", \"2020-03-06T16:53:23.053\", \"2020-03-07T06:36:24.19\", \"2020-03-08T12:22:18.35\", \"2020-03-08T18:22:20.403\", \"2020-03-09T07:47:26.907\", \"2020-03-10T02:49:49.197\", \"2020-03-10T07:07:09.317\", \"2020-03-10T11:43:30.047\", \"2020-03-10T13:47:55.803\", \"2020-03-11T12:02:24.97\", \"2020-03-12T03:22:56.907\", \"2020-03-12T05:01:18.27\", \"2020-03-12T09:32:11.43\", \"2020-03-12T16:24:51.943\", \"2020-03-13T02:20:48.573\", \"2020-03-13T18:05:09.727\", \"2020-03-16T05:51:59.12\", \"2020-03-16T13:41:01.863\", \"2020-03-17T01:11:48.753\", \"2020-03-17T02:14:25.67\", \"2020-03-17T10:57:57.617\", \"2020-03-17T11:01:28.317\", \"2020-03-17T12:46:10.82\", \"2020-03-17T17:40:54.64\", \"2020-03-18T06:06:20.797\", \"2020-03-19T09:31:32.573\", \"2020-03-20T09:02:42.493\", \"2020-03-20T09:52:08.827\", \"2020-03-22T12:10:06.073\", \"2020-03-22T23:11:53.447\", \"2020-03-23T11:06:50.057\", \"2020-03-23T23:34:21.613\", \"2020-03-24T16:40:36.357\", \"2020-03-25T05:31:26.553\", \"2020-03-25T13:28:17.627\", \"2020-03-25T13:53:46.49\", \"2020-03-27T09:21:56.483\", \"2020-03-28T01:28:47.883\", \"2020-03-30T04:21:56.913\", \"2020-03-30T09:08:24.897\", \"2020-03-30T15:21:41.037\", \"2020-03-30T21:20:56.607\", \"2020-03-31T11:25:34.507\", \"2020-03-31T13:27:36.39\", \"2020-04-01T16:02:10.643\", \"2020-04-02T00:43:12.03\", \"2020-04-03T01:06:02.82\", \"2020-04-07T12:32:04.843\", \"2020-04-07T16:29:10.43\", \"2020-04-08T00:15:17.853\", \"2020-04-08T03:50:11.817\", \"2020-04-08T10:13:33.427\", \"2020-04-08T18:27:22.337\", \"2020-04-09T23:22:33.47\", \"2020-04-10T09:08:10.833\", \"2020-04-10T19:21:56.537\", \"2020-04-13T10:16:13.573\", \"2020-04-13T12:45:52.543\", \"2020-04-13T14:36:36.72\", \"2020-04-14T04:48:03.713\", \"2020-04-14T08:25:03.7\", \"2020-04-14T11:03:59.167\", \"2020-04-15T05:26:43.887\", \"2020-04-16T08:10:59.29\", \"2020-04-16T16:12:38.977\", \"2020-04-16T16:41:02.65\", \"2020-04-16T17:32:12.887\", \"2020-04-17T17:21:10.267\", \"2020-04-17T18:09:09.38\", \"2020-04-17T19:28:32.667\", \"2020-04-20T06:46:13.263\", \"2020-04-20T09:45:40.793\", \"2020-04-21T06:43:58.953\", \"2020-04-22T17:52:12.143\", \"2020-04-23T02:31:29.827\", \"2020-04-23T11:51:48.66\", \"2020-04-23T12:48:56.067\", \"2020-04-23T13:42:27.423\", \"2020-04-23T17:09:27.673\", \"2020-04-23T19:33:37.777\", \"2020-04-24T09:15:41.46\", \"2020-04-24T12:08:53.497\", \"2020-04-24T17:33:44.47\", \"2020-04-27T03:25:15.807\", \"2020-04-27T11:04:11.827\", \"2020-04-27T12:09:32.6\", \"2020-04-28T14:16:24.483\", \"2020-04-28T14:23:25.457\", \"2020-04-28T14:54:09.24\", \"2020-04-28T15:58:10.627\", \"2020-04-29T06:42:53.09\", \"2020-04-29T11:08:12.53\", \"2020-04-30T10:03:05.167\", \"2020-05-01T07:55:41.06\", \"2020-05-01T13:27:08.093\", \"2020-05-01T18:13:11.793\", \"2020-05-03T16:49:31.43\", \"2020-05-05T07:56:04.453\", \"2020-05-05T08:43:05.083\", \"2020-05-05T10:32:52.917\", \"2020-05-05T19:02:17.003\", \"2020-05-06T01:58:51.927\", \"2020-05-06T07:12:28.073\", \"2020-05-06T09:55:41.613\", \"2020-05-06T10:17:41.447\", \"2020-05-06T11:33:27.64\", \"2020-05-07T03:54:23.82\", \"2020-05-07T07:48:02.343\", \"2020-05-07T10:30:47.55\", \"2020-05-07T14:40:24.16\", \"2020-05-07T17:22:42.663\", \"2020-05-07T17:58:50.36\", \"2020-05-08T11:05:30.22\", \"2020-05-08T18:50:29.917\", \"2020-05-10T15:38:34.823\", \"2020-05-10T22:06:56.483\", \"2020-05-11T04:18:33.723\", \"2020-05-11T10:39:05.677\", \"2020-05-11T18:12:14.043\", \"2020-05-12T06:46:53.073\", \"2020-05-12T07:44:49.72\", \"2020-05-12T23:39:37.837\", \"2020-05-13T09:12:49.927\", \"2020-05-13T12:09:34.583\", \"2020-05-13T14:43:08.657\", \"2020-05-13T15:13:24.907\", \"2020-05-14T03:52:10.373\", \"2020-05-14T09:38:15.473\", \"2020-05-14T13:46:07.237\", \"2020-05-14T17:51:27.473\", \"2020-05-19T01:36:19.2\", \"2020-05-19T10:58:19.68\", \"2020-05-19T13:23:05.93\", \"2020-05-19T22:05:27.747\", \"2020-05-19T22:57:51.593\", \"2020-05-19T23:57:36.38\", \"2020-05-20T07:46:08.763\", \"2020-05-21T08:01:48.667\", \"2020-05-21T16:17:26.79\", \"2020-05-22T09:04:36.597\", \"2020-05-22T12:43:12.977\", \"2020-05-22T13:38:46.373\", \"2020-05-24T07:44:59.96\", \"2020-05-25T11:51:41.683\", \"2020-05-25T12:12:56.96\", \"2020-05-26T04:19:19.857\", \"2020-05-26T05:29:41.38\", \"2020-05-27T08:09:30.657\", \"2020-05-27T09:42:57.963\", \"2020-05-27T11:51:09.957\", \"2020-05-27T16:13:12.423\", \"2020-05-28T04:33:45.413\", \"2020-05-28T10:50:38.12\", \"2020-05-28T11:43:06.343\", \"2020-05-28T13:55:04.59\", \"2020-05-28T13:55:17.233\", \"2020-05-28T15:02:38.937\", \"2020-05-28T21:23:28.48\", \"2020-05-31T11:34:13.967\", \"2020-05-31T21:49:48.113\", \"2020-06-01T02:08:55.463\", \"2020-06-01T03:45:36.143\", \"2020-06-01T07:06:15.03\", \"2020-06-01T23:54:24.347\", \"2020-06-02T05:15:07.377\", \"2020-06-02T06:25:02.487\", \"2020-06-03T08:38:37.627\", \"2020-06-04T08:46:29.137\", \"2020-06-04T08:47:30.443\", \"2020-06-05T08:37:45.887\", \"2020-06-08T10:15:40.8\", \"2020-06-08T11:30:52.127\", \"2020-06-10T15:48:56.787\", \"2020-06-11T05:44:23.893\", \"2020-06-11T10:48:33.063\", \"2020-06-11T16:44:25.303\", \"2020-06-12T04:26:21.537\", \"2020-06-13T20:34:20.54\", \"2020-06-15T00:18:26.877\", \"2020-06-15T18:21:18.607\", \"2020-06-17T07:44:27.62\", \"2020-06-17T09:23:08.72\", \"2020-06-17T10:39:43.347\", \"2020-06-17T10:47:18.047\", \"2020-06-17T18:17:42.787\", \"2020-06-17T21:20:44.363\", \"2020-06-18T03:41:34.283\", \"2020-06-18T18:45:45.943\", \"2020-06-19T05:28:43.413\", \"2020-06-19T05:37:59.09\", \"2020-06-19T07:23:48.88\", \"2020-06-19T13:04:31.18\", \"2020-06-19T13:05:50.277\", \"2020-06-20T20:04:07.61\", \"2020-06-21T05:58:52.79\", \"2020-06-22T07:57:18.433\", \"2020-06-22T15:20:53.23\", \"2020-06-22T17:32:37.193\", \"2020-06-25T03:09:04.55\", \"2020-06-26T07:38:55.12\", \"2020-06-29T17:02:31.54\", \"2020-07-01T03:24:12.553\", \"2020-07-01T08:43:32.99\", \"2020-07-02T09:20:12.7\", \"2020-07-02T10:21:06.57\", \"2020-07-02T16:17:26.273\", \"2020-07-06T05:50:50.78\", \"2020-07-06T09:19:59.403\", \"2020-07-08T09:33:24.407\", \"2020-07-08T16:56:19.757\", \"2020-07-09T15:25:26.863\", \"2020-07-09T16:22:26.66\", \"2020-07-09T16:28:26.983\", \"2020-07-10T08:52:51.04\", \"2020-07-10T15:53:37.277\", \"2020-07-10T18:57:48.173\", \"2020-07-11T20:29:03.777\", \"2020-07-13T02:40:11.35\", \"2020-07-14T05:01:01.39\", \"2020-07-15T03:11:16.5\", \"2020-07-15T06:32:14.56\", \"2020-07-15T17:54:55.167\", \"2020-07-16T04:35:29.63\", \"2020-07-16T07:33:35.41\", \"2020-07-16T11:36:35.183\", \"2020-07-16T16:31:52.563\", \"2020-07-17T14:17:43.9\", \"2020-07-20T13:16:24.25\", \"2020-07-20T23:00:15.057\", \"2020-07-21T04:25:05.703\", \"2020-07-21T06:17:01.253\", \"2020-07-21T10:23:05.597\", \"2020-07-21T11:25:17.723\", \"2020-07-21T15:20:11.183\", \"2020-07-22T05:55:52.447\", \"2020-07-22T16:48:52.953\", \"2020-07-22T23:35:16.743\", \"2020-07-23T15:51:45.183\", \"2020-07-23T16:46:00.053\", \"2020-07-24T02:00:04.097\", \"2020-07-24T15:17:29.263\", \"2020-07-27T13:56:35.087\", \"2020-07-28T11:16:57.777\", \"2020-07-28T11:20:26.603\", \"2020-07-28T11:47:30.707\", \"2020-07-29T08:18:11.907\", \"2020-07-29T09:13:44.577\", \"2020-07-29T10:45:28.61\", \"2020-07-30T14:51:34.69\", \"2020-07-30T16:20:18.783\", \"2020-07-31T03:00:29.553\", \"2020-08-01T06:40:03.033\", \"2020-08-02T08:21:09.453\", \"2020-08-03T14:31:32.377\", \"2020-08-03T15:16:16.62\", \"2020-08-05T12:27:19.103\", \"2020-08-05T13:19:23.943\", \"2020-08-06T12:04:03.013\", \"2020-08-06T16:30:31.317\", \"2020-08-07T15:34:48.087\", \"2020-08-10T12:13:23.673\", \"2020-08-11T03:18:56.48\", \"2020-08-11T06:23:35.727\", \"2020-08-11T20:18:22.113\", \"2020-08-12T07:54:44.907\", \"2020-08-13T05:21:38.977\", \"2020-08-13T09:27:35.497\", \"2020-08-13T13:58:17.28\", \"2020-08-13T14:00:56.303\", \"2020-08-13T19:32:19.49\", \"2020-08-14T04:43:10.42\", \"2020-08-14T06:48:55.553\", \"2020-08-14T10:33:47.637\", \"2020-08-14T14:39:35.21\", \"2020-08-17T10:09:37.347\", \"2020-08-17T17:09:22.07\", \"2020-08-18T07:01:56.34\", \"2020-08-18T10:10:32.407\", \"2020-08-19T10:47:49.9\", \"2020-08-19T14:31:13.88\", \"2020-08-20T16:16:04.203\", \"2020-08-20T18:20:03.123\", \"2020-08-21T02:02:10.857\", \"2020-08-21T14:50:21.077\", \"2020-08-21T15:36:03.473\", \"2020-08-24T02:26:12.913\", \"2020-08-24T03:55:16.187\", \"2020-08-24T07:30:08.877\", \"2020-08-24T09:13:29.1\", \"2020-08-25T09:37:23.29\", \"2020-08-25T13:34:40.817\", \"2020-08-26T02:11:50.003\", \"2020-08-26T10:34:15.32\", \"2020-08-26T11:13:50.613\", \"2020-08-27T04:28:56.903\", \"2020-08-27T11:25:26.827\", \"2020-08-27T11:40:36.677\", \"2020-08-27T14:20:01.203\", \"2020-08-27T14:59:03.177\", \"2020-08-28T04:12:14.89\", \"2020-08-28T12:20:32.08\", \"2020-08-31T09:41:46.203\", \"2020-09-01T08:29:04.687\", \"2020-09-01T12:00:23.027\", \"2020-09-02T13:28:25.653\", \"2020-09-03T02:01:33.75\", \"2020-09-03T09:26:58.127\", \"2020-09-03T11:55:40.83\", \"2020-09-03T14:53:10.197\", \"2020-09-03T15:16:17.96\", \"2020-09-04T02:35:33.15\", \"2020-09-04T08:34:40.003\", \"2020-09-07T03:14:01.783\", \"2020-09-08T03:24:11.603\", \"2020-09-08T05:00:37.097\", \"2020-09-08T05:40:25.34\", \"2020-09-08T10:35:57.717\", \"2020-09-08T12:13:05.57\", \"2020-09-08T14:17:04.713\", \"2020-09-09T04:14:26.247\", \"2020-09-09T07:05:09.473\", \"2020-09-09T14:46:03.91\", \"2020-09-09T15:33:09.883\", \"2020-09-09T19:09:12.01\", \"2020-09-10T06:00:56.927\", \"2020-09-10T06:34:35.72\", \"2020-09-10T12:15:08.11\", \"2020-09-10T16:25:03.4\", \"2020-09-11T11:54:43.767\", \"2020-09-11T14:32:09.763\", \"2020-09-11T17:57:16.44\", \"2020-09-13T05:09:37.187\", \"2020-09-13T12:40:21.163\", \"2020-09-14T08:48:44.357\", \"2020-09-15T08:11:30.217\", \"2020-09-15T11:40:17.6\", \"2020-09-15T19:54:20.857\", \"2020-09-16T06:13:11.593\", \"2020-09-16T08:15:45.44\", \"2020-09-16T09:57:44.517\", \"2020-09-16T12:02:57.383\", \"2020-09-16T14:20:14.03\", \"2020-09-16T16:01:59.473\", \"2020-09-16T16:33:38.75\", \"2020-09-16T16:52:38.42\", \"2020-09-17T11:41:44.053\", \"2020-09-17T14:55:23.447\", \"2020-09-17T16:37:00.077\", \"2020-09-18T07:33:41.723\", \"2020-09-18T10:46:34.367\", \"2020-09-20T12:16:21.403\", \"2020-09-21T09:58:43.167\", \"2020-09-21T16:37:39.7\", \"2020-09-21T16:47:19.263\", \"2020-09-22T00:02:42.337\", \"2020-09-22T03:04:06.773\", \"2020-09-22T06:17:08.973\", \"2020-09-22T12:21:03.637\", \"2020-09-22T12:56:21.417\", \"2020-09-23T07:34:25.193\", \"2020-09-23T12:45:54.313\", \"2020-09-23T14:50:02.017\", \"2020-09-23T14:50:53.77\", \"2020-09-23T14:51:39.347\", \"2020-09-23T15:15:00.187\", \"2020-09-24T13:12:57.107\", \"2020-09-24T19:12:48.583\", \"2020-09-25T06:21:34.47\", \"2020-09-25T15:10:56.223\", \"2020-09-25T21:10:47.287\", \"2020-09-27T00:39:00.507\", \"2020-09-27T03:01:48.877\", \"2020-09-28T07:28:53.443\", \"2020-09-28T13:41:47.603\", \"2020-09-29T10:42:52.203\", \"2020-09-29T10:58:24.237\", \"2020-09-29T11:43:39.463\", \"2020-09-29T18:14:05.84\", \"2020-09-29T18:29:04.81\", \"2020-09-30T11:28:12.57\", \"2020-10-01T04:05:51.267\", \"2020-10-01T15:18:19.523\", \"2020-10-02T09:26:32.68\", \"2020-10-04T06:57:42.663\", \"2020-10-05T01:11:31.057\", \"2020-10-05T22:58:21.4\", \"2020-10-06T10:36:52.983\", \"2020-10-06T12:46:04.483\", \"2020-10-07T04:36:43.39\", \"2020-10-07T04:49:35.287\", \"2020-10-07T06:19:26.927\", \"2020-10-07T16:31:35.887\", \"2020-10-07T16:43:08.117\", \"2020-10-08T07:26:39.637\", \"2020-10-08T08:52:50.623\", \"2020-10-08T16:26:59.76\", \"2020-10-09T02:01:00.407\", \"2020-10-09T19:17:29.443\", \"2020-10-12T09:03:36.163\", \"2020-10-12T20:34:39.057\", \"2020-10-13T13:02:42.213\", \"2020-10-13T18:32:15.773\", \"2020-10-14T06:43:01.837\", \"2020-10-14T09:31:09.873\", \"2020-10-14T13:41:44.907\", \"2020-10-14T13:52:09.94\", \"2020-10-15T06:57:57.13\", \"2020-10-15T14:35:43.96\", \"2020-10-16T10:01:41.817\", \"2020-10-16T12:33:29.753\", \"2020-10-16T13:34:13.343\", \"2020-10-16T18:36:31.273\", \"2020-10-17T11:21:17.997\", \"2020-10-17T21:00:48.037\", \"2020-10-19T15:39:33.853\", \"2020-10-19T22:07:22.383\", \"2020-10-19T22:07:38.62\", \"2020-10-20T03:00:27.94\", \"2020-10-20T16:35:09.947\", \"2020-10-21T04:53:38.967\", \"2020-10-21T06:22:02.867\", \"2020-10-21T09:30:56.74\", \"2020-10-21T10:44:23.66\", \"2020-10-21T12:58:42.72\", \"2020-10-21T13:33:08.743\", \"2020-10-21T14:06:01.427\", \"2020-10-22T13:47:42.993\", \"2020-10-22T14:31:26.257\", \"2020-10-22T17:17:54.993\", \"2020-10-22T17:19:54.477\", \"2020-10-23T07:50:08.56\", \"2020-10-23T12:09:06.92\", \"2020-10-23T16:06:11.243\", \"2020-10-24T16:03:56.137\", \"2020-10-25T08:22:12.38\", \"2020-10-25T16:01:58.43\", \"2020-10-26T05:46:15.347\", \"2020-10-27T16:57:39.52\", \"2020-10-28T05:57:09.547\", \"2020-10-28T13:28:28.833\", \"2020-10-28T15:58:04.637\", \"2020-10-29T01:39:26.437\", \"2020-10-29T02:25:33.677\", \"2020-10-29T11:10:06.717\", \"2020-10-29T14:45:52.203\", \"2020-10-30T15:24:32.273\", \"2020-11-02T09:41:44.807\", \"2020-11-02T16:14:49.56\", \"2020-11-03T09:15:35.397\", \"2020-11-03T14:16:21.633\", \"2020-11-04T08:18:34.06\", \"2020-11-05T12:22:50.65\", \"2020-11-05T13:57:09.393\", \"2020-11-06T03:12:33.02\", \"2020-11-07T02:30:08.94\", \"2020-11-08T12:42:54.723\", \"2020-11-08T12:48:07.61\", \"2020-11-09T08:23:02.983\", \"2020-11-09T10:51:40.613\", \"2020-11-11T05:50:59.56\", \"2020-11-11T06:00:38.383\", \"2020-11-11T09:58:05.707\", \"2020-11-11T11:27:29.283\", \"2020-11-11T15:13:05.847\", \"2020-11-11T16:53:07.01\", \"2020-11-12T05:28:55.913\", \"2020-11-12T14:47:17.27\", \"2020-11-12T18:39:57.223\", \"2020-11-13T03:08:25.797\", \"2020-11-13T18:33:05.46\", \"2020-11-14T14:04:27.383\", \"2020-11-16T02:39:45.893\", \"2020-11-16T11:23:16.327\", \"2020-11-16T11:25:19.08\", \"2020-11-18T06:54:44.173\", \"2020-11-18T11:32:37.993\", \"2020-11-18T11:41:37.49\", \"2020-11-18T12:30:24.143\", \"2020-11-18T12:37:55.147\", \"2020-11-18T19:18:53.403\", \"2020-11-19T09:30:41.29\", \"2020-11-19T12:44:09.52\", \"2020-11-19T16:56:39.44\", \"2020-11-20T10:05:42.53\", \"2020-11-20T14:00:44.387\", \"2020-11-20T16:00:00.39\", \"2020-11-21T05:08:51.133\", \"2020-11-22T23:21:07.067\", \"2020-11-23T01:58:09.64\", \"2020-11-24T10:58:17.443\", \"2020-11-24T15:09:06.143\", \"2020-11-24T16:02:26.117\", \"2020-11-24T20:48:57.933\", \"2020-11-25T11:17:47.587\", \"2020-11-25T11:59:22.583\", \"2020-11-25T12:40:55.58\", \"2020-11-25T13:13:05.463\", \"2020-11-25T14:28:28.507\", \"2020-11-25T15:43:04.867\", \"2020-11-26T11:43:14.277\", \"2020-11-30T16:32:19.377\", \"2020-12-02T09:26:16.583\", \"2020-12-02T15:54:46.727\", \"2020-12-03T15:45:18.923\", \"2020-12-04T18:13:27.287\", \"2020-12-06T07:13:50.297\", \"2020-12-06T08:25:07.433\", \"2020-12-06T22:33:26.473\", \"2020-12-08T06:45:13.323\", \"2020-12-08T11:32:56.12\", \"2020-12-08T12:43:05.35\", \"2020-12-08T12:43:52.023\", \"2020-12-08T15:13:24.93\", \"2020-12-09T10:04:40.567\", \"2020-12-10T03:32:44.07\", \"2020-12-10T16:03:19.67\", \"2020-12-10T16:45:56.92\", \"2020-12-11T09:05:13.287\", \"2020-12-15T11:43:28.143\", \"2020-12-15T13:24:34.04\", \"2020-12-16T05:04:16.433\", \"2020-12-16T11:24:45.933\", \"2020-12-16T13:34:06.637\", \"2020-12-16T16:31:08.12\", \"2020-12-16T21:46:56.413\", \"2020-12-18T03:06:14.177\", \"2020-12-18T11:11:07.787\", \"2020-12-21T08:30:12.503\", \"2020-12-21T17:49:39.223\", \"2020-12-22T04:59:41.42\", \"2020-12-22T05:06:26.697\", \"2020-12-23T09:59:10.2\", \"2020-12-23T10:59:14.423\", \"2020-12-24T00:03:53.283\", \"2020-12-26T15:56:58.257\", \"2020-12-27T01:57:08.607\", \"2020-12-27T11:57:47.007\", \"2020-12-27T14:12:00.18\", \"2020-12-28T02:51:24.99\", \"2020-12-28T10:34:01.52\", \"2020-12-28T11:57:21.447\", \"2020-12-28T15:09:46.85\", \"2020-12-29T08:45:35.597\", \"2020-12-29T11:55:09.773\", \"2020-12-29T15:13:04.71\", \"2020-12-29T17:22:22.603\", \"2020-12-30T10:05:14.57\", \"2020-12-31T18:03:21.66\", \"2021-01-01T07:00:15.443\", \"2021-01-03T22:55:07.463\", \"2021-01-04T07:41:29.507\", \"2021-01-04T07:48:38.72\", \"2021-01-04T08:49:11.093\", \"2021-01-04T12:26:12.183\", \"2021-01-05T09:54:38.063\", \"2021-01-05T10:07:21.227\", \"2021-01-05T20:16:38.75\", \"2021-01-06T12:25:16.487\", \"2021-01-06T14:50:39.423\", \"2021-01-07T00:43:54.317\", \"2021-01-08T03:57:53.35\", \"2021-01-09T23:27:17.513\", \"2021-01-11T05:30:23.477\", \"2021-01-11T16:25:58.88\", \"2021-01-11T22:44:21.93\", \"2021-01-12T06:59:45.843\", \"2021-01-12T07:40:27.073\", \"2021-01-12T08:16:59.57\", \"2021-01-12T09:52:23.923\", \"2021-01-12T23:48:05.1\", \"2021-01-14T13:55:54.143\", \"2021-01-15T06:20:18.943\", \"2021-01-15T11:36:31.313\", \"2021-01-16T04:10:22.447\", \"2021-01-16T07:56:33.363\", \"2021-01-16T19:32:13.78\", \"2021-01-18T00:23:54.957\", \"2021-01-18T05:59:41.04\", \"2021-01-19T13:53:44.657\", \"2021-01-19T14:58:12.793\", \"2021-01-20T07:11:18.693\", \"2021-01-20T07:58:12.823\", \"2021-01-20T15:38:36.633\", \"2021-01-20T16:13:02.5\", \"2021-01-21T09:00:33.853\", \"2021-01-21T17:46:44.013\", \"2021-01-22T13:54:36.95\", \"2021-01-22T15:20:52.107\", \"2021-01-23T00:52:07.6\", \"2021-01-25T03:57:52.733\", \"2021-01-25T10:05:26.427\", \"2021-01-25T12:51:33.14\", \"2021-01-25T17:07:17.423\", \"2021-01-27T01:26:58.78\", \"2021-01-27T09:22:55.277\", \"2021-01-27T09:22:55.547\", \"2021-01-27T09:28:32.857\", \"2021-01-27T13:06:46.71\", \"2021-01-28T11:33:34.887\", \"2021-01-29T05:09:45.457\", \"2021-01-29T09:32:23.31\", \"2021-01-30T02:44:24.313\", \"2021-02-01T14:35:54.11\", \"2021-02-02T02:54:29.54\", \"2021-02-02T09:15:33.837\", \"2021-02-03T04:07:38.773\", \"2021-02-03T06:28:55.87\", \"2021-02-03T14:28:38.48\", \"2021-02-04T18:52:41.68\", \"2021-02-05T01:44:05.203\", \"2021-02-05T09:38:55.053\", \"2021-02-07T01:35:51.77\", \"2021-02-07T03:45:35.85\", \"2021-02-07T22:47:17.563\", \"2021-02-08T04:21:46.14\", \"2021-02-08T14:35:14.027\", \"2021-02-08T20:23:34.343\", \"2021-02-09T05:36:55.147\", \"2021-02-09T07:28:04.943\", \"2021-02-10T06:07:45.91\", \"2021-02-10T11:48:40.4\", \"2021-02-10T13:30:52.19\", \"2021-02-10T17:28:34.27\", \"2021-02-11T16:40:26.987\", \"2021-02-11T21:31:20.58\", \"2021-02-12T05:54:48.23\", \"2021-02-12T09:56:04.773\", \"2021-02-12T15:06:05.92\", \"2021-02-12T15:07:52.33\", \"2021-02-13T02:53:30.073\", \"2021-02-14T04:45:31.08\", \"2021-02-14T15:10:09.8\", \"2021-02-15T21:50:52.64\", \"2021-02-16T06:32:23.97\", \"2021-02-16T09:44:47.337\", \"2021-02-16T14:37:14.58\", \"2021-02-17T00:44:34.993\", \"2021-02-17T01:00:17.45\", \"2021-02-17T01:25:49.423\", \"2021-02-17T17:57:59.497\", \"2021-02-18T04:41:42.563\", \"2021-02-19T11:17:25.39\", \"2021-02-22T01:18:39.76\", \"2021-02-22T10:22:26.3\", \"2021-02-23T05:30:07.697\", \"2021-02-23T08:25:50.447\", \"2021-02-23T15:53:46.57\", \"2021-02-24T07:45:06.977\", \"2021-02-24T12:36:00.77\", \"2021-02-25T08:53:44.637\", \"2021-02-25T10:29:48.393\", \"2021-02-25T16:43:06.273\", \"2021-02-26T09:23:09.993\", \"2021-02-26T11:57:02.543\", \"2021-02-26T18:47:43.037\", \"2021-02-27T07:31:29.457\", \"2021-02-27T11:08:57.667\", \"2021-03-01T09:13:33.787\", \"2021-03-01T19:39:59.55\", \"2021-03-02T09:23:36.847\", \"2021-03-02T11:18:39.363\", \"2021-03-02T16:31:12.837\", \"2021-03-03T03:05:35.877\", \"2021-03-03T05:13:37.897\", \"2021-03-03T06:44:32.35\", \"2021-03-03T08:54:25\", \"2021-03-03T09:20:39.307\", \"2021-03-03T16:19:15.397\", \"2021-03-04T02:36:22.257\", \"2021-03-04T11:01:28.96\", \"2021-03-05T08:22:11.3\", \"2021-03-06T06:54:56.57\", \"2021-03-09T07:01:54.71\", \"2021-03-09T11:05:19.053\", \"2021-03-09T11:09:19.763\", \"2021-03-09T14:55:21.58\", \"2021-03-09T17:00:23.213\", \"2021-03-10T04:36:07.837\", \"2021-03-10T15:24:21.857\", \"2021-03-10T16:00:02.613\", \"2021-03-11T04:20:04.103\", \"2021-03-11T09:00:30.913\", \"2021-03-11T17:30:43.753\", \"2021-03-12T02:34:21.683\", \"2021-03-12T03:28:33.083\", \"2021-03-12T11:48:47.203\", \"2021-03-13T10:25:21.143\", \"2021-03-14T17:29:30.287\", \"2021-03-15T10:13:43.667\", \"2021-03-15T10:53:54.233\", \"2021-03-16T07:06:57.6\", \"2021-03-16T15:19:27.047\", \"2021-03-17T17:02:54.86\", \"2021-03-18T02:51:39.69\", \"2021-03-18T13:51:25.81\", \"2021-03-19T07:21:13.43\", \"2021-03-19T11:31:47.557\", \"2021-03-20T01:34:53.61\", \"2021-03-22T03:47:12.6\", \"2021-03-23T12:14:18.863\", \"2021-03-24T09:04:13.813\", \"2021-03-24T12:58:46.5\", \"2021-03-25T03:17:53.38\", \"2021-03-25T14:46:51.637\", \"2021-03-25T16:39:59.577\", \"2021-03-26T14:27:14.173\", \"2021-03-30T12:29:47.413\", \"2021-03-30T12:53:22.887\", \"2021-03-31T05:04:42.15\", \"2021-03-31T06:38:42.34\", \"2021-04-01T08:14:49.057\", \"2021-04-06T19:28:50.28\", \"2021-04-07T14:44:07.22\", \"2021-04-08T17:31:25.08\", \"2021-04-09T14:10:26.533\", \"2021-04-09T18:43:03.997\", \"2021-04-10T02:53:00.28\", \"2021-04-10T03:29:32.747\", \"2021-04-10T15:57:59.943\", \"2021-04-12T10:52:25.73\", \"2021-04-12T12:12:10.283\", \"2021-04-12T15:13:07.097\", \"2021-04-14T03:27:41.803\", \"2021-04-15T08:57:58.05\", \"2021-04-15T12:20:03.933\", \"2021-04-19T09:41:09.173\", \"2021-04-20T07:00:28.707\", \"2021-04-20T11:43:36.217\", \"2021-04-20T15:43:56.607\", \"2021-04-21T11:38:15.18\", \"2021-04-22T04:29:17.66\", \"2021-04-22T04:48:51.64\", \"2021-04-22T06:55:40.56\", \"2021-04-22T07:32:19.79\", \"2021-04-22T16:37:41.357\", \"2021-04-22T16:43:27\", \"2021-04-23T00:03:22.743\", \"2021-04-23T09:14:59.607\", \"2021-04-23T11:09:05.35\", \"2021-04-27T07:40:14.087\", \"2021-04-27T10:25:08.213\", \"2021-04-27T13:53:38.607\", \"2021-04-27T14:05:34.707\", \"2021-04-27T16:17:23.083\", \"2021-04-27T16:38:41.177\", \"2021-04-28T06:07:57.33\", \"2021-04-28T11:44:20.84\", \"2021-04-28T14:08:31.08\", \"2021-04-28T14:15:54.817\", \"2021-04-29T02:16:11.49\", \"2021-04-30T07:03:44.607\", \"2021-04-30T08:43:37.07\", \"2021-04-30T15:41:33.667\", \"2021-05-04T03:26:26.993\", \"2021-05-04T09:31:18.373\", \"2021-05-05T10:48:30.583\", \"2021-05-05T14:59:26.737\", \"2021-05-06T04:52:27.5\", \"2021-05-06T05:44:31.317\", \"2021-05-06T06:08:48.817\", \"2021-05-06T10:55:46.883\", \"2021-05-06T14:47:18.237\", \"2021-05-06T15:36:56.423\", \"2021-05-06T19:21:40.677\", \"2021-05-07T11:58:25.423\", \"2021-05-07T12:44:00.26\", \"2021-05-10T14:33:41.143\", \"2021-05-11T11:11:22.967\", \"2021-05-11T14:33:52.803\", \"2021-05-11T16:15:01.67\", \"2021-05-12T19:29:45.887\", \"2021-05-14T08:27:02.38\", \"2021-05-14T10:04:28.7\", \"2021-05-17T00:14:13.58\", \"2021-05-17T05:24:41.617\", \"2021-05-17T10:22:56.957\", \"2021-05-17T10:44:03.017\", \"2021-05-17T12:12:39.573\", \"2021-05-17T12:41:24.27\", \"2021-05-18T00:14:22.057\", \"2021-05-19T09:46:33.497\", \"2021-05-20T08:11:58.513\", \"2021-05-21T02:17:15.373\", \"2021-05-23T15:49:03.797\", \"2021-05-24T03:14:14.447\", \"2021-05-24T05:55:56.8\", \"2021-05-24T14:55:23.877\", \"2021-05-25T10:09:32.81\", \"2021-05-25T16:41:37.953\", \"2021-05-25T23:18:10.647\", \"2021-05-25T23:21:55.333\", \"2021-05-26T05:39:30.67\", \"2021-05-27T07:12:50.66\", \"2021-05-28T11:21:25.033\", \"2021-05-28T13:33:13.153\", \"2021-05-29T21:45:02.2\", \"2021-05-30T01:41:31.68\", \"2021-05-30T08:11:59.69\", \"2021-06-02T07:44:14.63\", \"2021-06-02T12:18:46.267\", \"2021-06-02T13:14:26.307\", \"2021-06-02T13:40:25.58\", \"2021-06-02T13:53:43.85\", \"2021-06-02T15:54:57.997\", \"2021-06-02T16:37:04.77\", \"2021-06-03T02:17:04.61\", \"2021-06-03T04:46:03.063\", \"2021-06-03T04:52:06.57\", \"2021-06-03T09:19:09.593\", \"2021-06-03T19:44:17.527\", \"2021-06-04T05:25:16.927\", \"2021-06-04T10:11:48.013\", \"2021-06-04T19:14:13.09\", \"2021-06-08T04:53:56.6\", \"2021-06-08T10:57:39.363\"], \"xaxis\": \"x\", \"y\": [0.063, 0.022, 0.0, 0.041, 0.0, 0.046, 0.0, 0.0, 0.0, 0.081, 0.05, 0.102, 0.025, 0.0, 0.037, 0.0, 0.077, 0.09, 0.0, 0.0, 0.069, 0.121, 0.067, 0.034, 0.079, 0.0, 0.0, 0.062, 0.0, 0.089, 0.055, 0.0, 0.11, 0.0, 0.118, 0.0, 0.145, 0.0, 0.0, 0.035, 0.0, 0.062, 0.0, 0.129, 0.0, 0.038, 0.249, 0.0, 0.1, 0.032, 0.102, 0.0, 0.0, 0.0, 0.131, 0.0, 0.0, 0.073, 0.122, 0.0, 0.02, 0.0, 0.0, 0.0, 0.0, 0.0, 0.057, 0.0, 0.0, 0.0, 0.029, 0.065, 0.079, 0.035, 0.0, 0.0, 0.0, 0.043, 0.067, 0.0, 0.0, 0.146, 0.036, 0.0, 0.011, 0.0, 0.024, 0.0, 0.0, 0.041, 0.073, 0.0, 0.0, 0.0, 0.047, 0.166, 0.049, 0.033, 0.0, 0.0, 0.0, 0.14, 0.158, 0.0, 0.0, 0.022, 0.021, 0.037, 0.0, 0.088, 0.0, 0.08, 0.046, 0.0, 0.092, 0.0, 0.0, 0.0, 0.0, 0.059, 0.0, 0.0, 0.048, 0.0, 0.023, 0.0, 0.0, 0.0, 0.074, 0.102, 0.06, 0.0, 0.1, 0.0, 0.074, 0.03, 0.153, 0.0, 0.047, 0.036, 0.0, 0.018, 0.0, 0.116, 0.034, 0.0, 0.0, 0.167, 0.046, 0.028, 0.171, 0.0, 0.0, 0.072, 0.052, 0.039, 0.0, 0.0, 0.0, 0.057, 0.0, 0.05, 0.0, 0.031, 0.058, 0.171, 0.007, 0.0, 0.056, 0.011, 0.146, 0.0, 0.043, 0.0, 0.044, 0.0, 0.03, 0.046, 0.0, 0.0, 0.0, 0.0, 0.028, 0.013, 0.029, 0.0, 0.0, 0.073, 0.05, 0.077, 0.022, 0.052, 0.025, 0.0, 0.104, 0.0, 0.028, 0.0, 0.0, 0.0, 0.0, 0.041, 0.046, 0.077, 0.0, 0.0, 0.0, 0.09, 0.07, 0.067, 0.124, 0.047, 0.0, 0.129, 0.074, 0.0, 0.0, 0.0, 0.0, 0.021, 0.0, 0.061, 0.0, 0.047, 0.091, 0.0, 0.051, 0.077, 0.071, 0.033, 0.0, 0.194, 0.043, 0.014, 0.0, 0.0, 0.0, 0.028, 0.0, 0.048, 0.093, 0.022, 0.017, 0.026, 0.0, 0.0, 0.053, 0.085, 0.055, 0.0, 0.0, 0.231, 0.0, 0.0, 0.0, 0.087, 0.0, 0.0, 0.0, 0.0, 0.022, 0.03, 0.0, 0.0, 0.0, 0.0, 0.062, 0.0, 0.0, 0.19, 0.058, 0.0, 0.0, 0.0, 0.049, 0.0, 0.0, 0.0, 0.131, 0.0, 0.0, 0.102, 0.069, 0.042, 0.031, 0.103, 0.005, 0.0, 0.027, 0.0, 0.154, 0.057, 0.0, 0.106, 0.027, 0.119, 0.0, 0.0, 0.0, 0.049, 0.0, 0.0, 0.053, 0.069, 0.0, 0.115, 0.0, 0.0, 0.051, 0.227, 0.0, 0.0, 0.17, 0.0, 0.0, 0.034, 0.089, 0.0, 0.022, 0.0, 0.048, 0.076, 0.038, 0.023, 0.103, 0.0, 0.0, 0.015, 0.022, 0.0, 0.099, 0.0, 0.172, 0.083, 0.073, 0.121, 0.023, 0.123, 0.039, 0.0, 0.059, 0.0, 0.0, 0.0, 0.021, 0.07, 0.0, 0.0, 0.0, 0.162, 0.0, 0.0, 0.0, 0.0, 0.0, 0.0, 0.154, 0.0, 0.0, 0.0, 0.0, 0.0, 0.035, 0.016, 0.013, 0.022, 0.017, 0.0, 0.0, 0.0, 0.062, 0.0, 0.0, 0.048, 0.0, 0.127, 0.0, 0.117, 0.02, 0.083, 0.0, 0.0, 0.049, 0.0, 0.0, 0.0, 0.043, 0.0, 0.0, 0.0, 0.048, 0.096, 0.0, 0.186, 0.0, 0.043, 0.0, 0.078, 0.0, 0.084, 0.12, 0.0, 0.068, 0.0, 0.212, 0.0, 0.078, 0.155, 0.015, 0.0, 0.042, 0.058, 0.0, 0.213, 0.071, 0.076, 0.042, 0.056, 0.0, 0.0, 0.037, 0.0, 0.052, 0.017, 0.0, 0.0, 0.046, 0.043, 0.154, 0.1, 0.166, 0.098, 0.091, 0.0, 0.067, 0.098, 0.072, 0.0, 0.0, 0.0, 0.0, 0.164, 0.062, 0.059, 0.0, 0.031, 0.0, 0.113, 0.0, 0.0, 0.087, 0.0, 0.115, 0.0, 0.118, 0.035, 0.0, 0.0, 0.0, 0.0, 0.1, 0.019, 0.0, 0.0, 0.0, 0.0, 0.0, 0.031, 0.062, 0.0, 0.073, 0.188, 0.0, 0.0, 0.0, 0.016, 0.0, 0.048, 0.087, 0.0, 0.052, 0.0, 0.029, 0.0, 0.062, 0.0, 0.0, 0.072, 0.118, 0.0, 0.092, 0.02, 0.0, 0.0, 0.1, 0.085, 0.0, 0.164, 0.024, 0.0, 0.237, 0.069, 0.0, 0.052, 0.033, 0.0, 0.0, 0.033, 0.0, 0.049, 0.022, 0.048, 0.0, 0.05, 0.013, 0.0, 0.0, 0.0, 0.0, 0.0, 0.065, 0.224, 0.06, 0.098, 0.0, 0.0, 0.0, 0.02, 0.04, 0.132, 0.0, 0.0, 0.048, 0.0, 0.137, 0.018, 0.07, 0.023, 0.056, 0.0, 0.0, 0.04, 0.095, 0.0, 0.05, 0.136, 0.181, 0.0, 0.211, 0.0, 0.0, 0.0, 0.049, 0.038, 0.087, 0.0, 0.0, 0.071, 0.027, 0.0, 0.084, 0.0, 0.091, 0.0, 0.03, 0.0, 0.0, 0.0, 0.053, 0.025, 0.065, 0.0, 0.0, 0.0, 0.0, 0.078, 0.0, 0.012, 0.0, 0.065, 0.0, 0.0, 0.089, 0.029, 0.0, 0.0, 0.0, 0.06, 0.0, 0.0, 0.141, 0.06, 0.0, 0.047, 0.026, 0.065, 0.089, 0.0, 0.123, 0.0, 0.09, 0.066, 0.089, 0.0, 0.0, 0.0, 0.009, 0.037, 0.0, 0.0, 0.0, 0.0, 0.0, 0.0, 0.0, 0.0, 0.041, 0.069, 0.0, 0.0, 0.0, 0.0, 0.026, 0.0, 0.0, 0.0, 0.062, 0.0, 0.0, 0.026, 0.236, 0.062, 0.0, 0.0, 0.0, 0.059, 0.129, 0.0, 0.0, 0.028, 0.0, 0.121, 0.0, 0.017, 0.0, 0.0, 0.0, 0.0, 0.0, 0.0, 0.103, 0.0, 0.065, 0.0, 0.047, 0.08, 0.169, 0.0, 0.046, 0.041, 0.156, 0.081, 0.011, 0.0, 0.03, 0.0, 0.079, 0.0, 0.132, 0.05, 0.046, 0.055, 0.071, 0.0, 0.067, 0.0, 0.034, 0.0, 0.0, 0.087, 0.0, 0.0, 0.045, 0.118, 0.1, 0.029, 0.0, 0.074, 0.0, 0.07, 0.0, 0.0, 0.044, 0.004, 0.182, 0.086, 0.092, 0.0, 0.0, 0.0, 0.0, 0.021, 0.0, 0.0, 0.0, 0.034, 0.007, 0.036, 0.0, 0.205, 0.205, 0.06, 0.1, 0.0, 0.0, 0.0, 0.032, 0.0, 0.026, 0.0, 0.0, 0.0, 0.0, 0.0, 0.048, 0.0, 0.0, 0.025, 0.148, 0.082, 0.009, 0.145, 0.048, 0.091, 0.0, 0.005, 0.0, 0.023, 0.111, 0.015, 0.075, 0.0, 0.0, 0.028, 0.0, 0.074, 0.0, 0.07, 0.058, 0.0, 0.039, 0.0, 0.0, 0.07, 0.072, 0.017, 0.0, 0.0, 0.031, 0.0, 0.116, 0.0, 0.071, 0.026, 0.108, 0.0, 0.016, 0.136, 0.0, 0.0, 0.236, 0.0, 0.045, 0.086, 0.133, 0.041, 0.156, 0.013, 0.0, 0.116, 0.025, 0.1, 0.022, 0.0, 0.0, 0.054, 0.115, 0.0, 0.055, 0.042, 0.163, 0.051, 0.103, 0.0, 0.074, 0.0, 0.0, 0.044, 0.148, 0.014, 0.276, 0.0, 0.053, 0.037, 0.0, 0.0, 0.112, 0.0, 0.0, 0.102, 0.0, 0.0, 0.109, 0.13, 0.0, 0.231, 0.0, 0.082, 0.035, 0.0, 0.0, 0.045, 0.0, 0.08, 0.0, 0.0, 0.023, 0.0, 0.0, 0.0, 0.044, 0.029, 0.125, 0.0, 0.035, 0.0, 0.04, 0.0, 0.091, 0.086, 0.143, 0.0, 0.246, 0.019, 0.0, 0.129, 0.04, 0.053, 0.0, 0.015, 0.0, 0.054, 0.19, 0.0, 0.021, 0.05, 0.0, 0.0, 0.0, 0.074, 0.014, 0.0, 0.0, 0.0, 0.111, 0.0, 0.0, 0.0, 0.037, 0.0, 0.059, 0.0, 0.171, 0.0, 0.03, 0.048, 0.064, 0.141, 0.064, 0.0, 0.0, 0.175, 0.066, 0.091, 0.0, 0.027, 0.114, 0.0, 0.079, 0.079, 0.17, 0.052, 0.065, 0.039, 0.098, 0.018, 0.06, 0.046, 0.0, 0.0, 0.031, 0.0, 0.047, 0.0, 0.068, 0.0, 0.15, 0.104, 0.055, 0.0, 0.0, 0.022, 0.0, 0.0, 0.026, 0.0, 0.027, 0.0, 0.0, 0.105, 0.015, 0.056, 0.057, 0.0, 0.12, 0.0, 0.095, 0.0, 0.0, 0.026, 0.023, 0.0, 0.013, 0.133, 0.0, 0.053, 0.0, 0.092, 0.16, 0.0, 0.117, 0.0, 0.074, 0.0, 0.048, 0.0, 0.0, 0.415, 0.0, 0.013, 0.026, 0.0, 0.036, 0.0, 0.046, 0.067, 0.0, 0.0, 0.0, 0.0, 0.0, 0.016, 0.037, 0.019, 0.0, 0.0, 0.0, 0.213, 0.0, 0.065, 0.0, 0.227, 0.037, 0.075, 0.0, 0.0, 0.0, 0.0, 0.049, 0.036, 0.0, 0.0, 0.0, 0.109, 0.018, 0.053, 0.095, 0.0, 0.231, 0.147, 0.041, 0.0, 0.092, 0.06, 0.032, 0.056, 0.0, 0.0, 0.147, 0.0, 0.0, 0.024, 0.0, 0.06, 0.093, 0.0, 0.107, 0.127, 0.0, 0.033, 0.036, 0.063, 0.0, 0.0, 0.0, 0.0, 0.0, 0.15, 0.049, 0.152, 0.127, 0.0, 0.031, 0.036, 0.025, 0.0, 0.0, 0.0, 0.025, 0.045, 0.15, 0.068, 0.0, 0.045, 0.026, 0.0, 0.0, 0.0, 0.047, 0.061, 0.131, 0.0, 0.093, 0.016, 0.072, 0.0, 0.067, 0.16, 0.086, 0.135, 0.258, 0.097, 0.0, 0.067, 0.103, 0.0, 0.0, 0.051, 0.046, 0.022, 0.0, 0.0, 0.0, 0.063, 0.068, 0.04, 0.028, 0.0, 0.0, 0.0, 0.0, 0.043, 0.025, 0.0, 0.0, 0.0, 0.0, 0.21, 0.039, 0.0, 0.0, 0.0, 0.0, 0.089, 0.0, 0.0], \"yaxis\": \"y\"}],                        {\"legend\": {\"tracegroupgap\": 0}, \"margin\": {\"t\": 60}, \"template\": {\"data\": {\"bar\": [{\"error_x\": {\"color\": \"#2a3f5f\"}, \"error_y\": {\"color\": \"#2a3f5f\"}, \"marker\": {\"line\": {\"color\": \"#E5ECF6\", \"width\": 0.5}}, \"type\": \"bar\"}], \"barpolar\": [{\"marker\": {\"line\": {\"color\": \"#E5ECF6\", \"width\": 0.5}}, \"type\": \"barpolar\"}], \"carpet\": [{\"aaxis\": {\"endlinecolor\": \"#2a3f5f\", \"gridcolor\": \"white\", \"linecolor\": \"white\", \"minorgridcolor\": \"white\", \"startlinecolor\": \"#2a3f5f\"}, \"baxis\": {\"endlinecolor\": \"#2a3f5f\", \"gridcolor\": \"white\", \"linecolor\": \"white\", \"minorgridcolor\": \"white\", \"startlinecolor\": \"#2a3f5f\"}, \"type\": \"carpet\"}], \"choropleth\": [{\"colorbar\": {\"outlinewidth\": 0, \"ticks\": \"\"}, \"type\": \"choropleth\"}], \"contour\": [{\"colorbar\": {\"outlinewidth\": 0, \"ticks\": \"\"}, \"colorscale\": [[0.0, \"#0d0887\"], [0.1111111111111111, \"#46039f\"], [0.2222222222222222, \"#7201a8\"], [0.3333333333333333, \"#9c179e\"], [0.4444444444444444, \"#bd3786\"], [0.5555555555555556, \"#d8576b\"], [0.6666666666666666, \"#ed7953\"], [0.7777777777777778, \"#fb9f3a\"], [0.8888888888888888, \"#fdca26\"], [1.0, \"#f0f921\"]], \"type\": \"contour\"}], \"contourcarpet\": [{\"colorbar\": {\"outlinewidth\": 0, \"ticks\": \"\"}, \"type\": \"contourcarpet\"}], \"heatmap\": [{\"colorbar\": {\"outlinewidth\": 0, \"ticks\": \"\"}, \"colorscale\": [[0.0, \"#0d0887\"], [0.1111111111111111, \"#46039f\"], [0.2222222222222222, \"#7201a8\"], [0.3333333333333333, \"#9c179e\"], [0.4444444444444444, \"#bd3786\"], [0.5555555555555556, \"#d8576b\"], [0.6666666666666666, \"#ed7953\"], [0.7777777777777778, \"#fb9f3a\"], [0.8888888888888888, \"#fdca26\"], [1.0, \"#f0f921\"]], \"type\": \"heatmap\"}], \"heatmapgl\": [{\"colorbar\": {\"outlinewidth\": 0, \"ticks\": \"\"}, \"colorscale\": [[0.0, \"#0d0887\"], [0.1111111111111111, \"#46039f\"], [0.2222222222222222, \"#7201a8\"], [0.3333333333333333, \"#9c179e\"], [0.4444444444444444, \"#bd3786\"], [0.5555555555555556, \"#d8576b\"], [0.6666666666666666, \"#ed7953\"], [0.7777777777777778, \"#fb9f3a\"], [0.8888888888888888, \"#fdca26\"], [1.0, \"#f0f921\"]], \"type\": \"heatmapgl\"}], \"histogram\": [{\"marker\": {\"colorbar\": {\"outlinewidth\": 0, \"ticks\": \"\"}}, \"type\": \"histogram\"}], \"histogram2d\": [{\"colorbar\": {\"outlinewidth\": 0, \"ticks\": \"\"}, \"colorscale\": [[0.0, \"#0d0887\"], [0.1111111111111111, \"#46039f\"], [0.2222222222222222, \"#7201a8\"], [0.3333333333333333, \"#9c179e\"], [0.4444444444444444, \"#bd3786\"], [0.5555555555555556, \"#d8576b\"], [0.6666666666666666, \"#ed7953\"], [0.7777777777777778, \"#fb9f3a\"], [0.8888888888888888, \"#fdca26\"], [1.0, \"#f0f921\"]], \"type\": \"histogram2d\"}], \"histogram2dcontour\": [{\"colorbar\": {\"outlinewidth\": 0, \"ticks\": \"\"}, \"colorscale\": [[0.0, \"#0d0887\"], [0.1111111111111111, \"#46039f\"], [0.2222222222222222, \"#7201a8\"], [0.3333333333333333, \"#9c179e\"], [0.4444444444444444, \"#bd3786\"], [0.5555555555555556, \"#d8576b\"], [0.6666666666666666, \"#ed7953\"], [0.7777777777777778, \"#fb9f3a\"], [0.8888888888888888, \"#fdca26\"], [1.0, \"#f0f921\"]], \"type\": \"histogram2dcontour\"}], \"mesh3d\": [{\"colorbar\": {\"outlinewidth\": 0, \"ticks\": \"\"}, \"type\": \"mesh3d\"}], \"parcoords\": [{\"line\": {\"colorbar\": {\"outlinewidth\": 0, \"ticks\": \"\"}}, \"type\": \"parcoords\"}], \"pie\": [{\"automargin\": true, \"type\": \"pie\"}], \"scatter\": [{\"marker\": {\"colorbar\": {\"outlinewidth\": 0, \"ticks\": \"\"}}, \"type\": \"scatter\"}], \"scatter3d\": [{\"line\": {\"colorbar\": {\"outlinewidth\": 0, \"ticks\": \"\"}}, \"marker\": {\"colorbar\": {\"outlinewidth\": 0, \"ticks\": \"\"}}, \"type\": \"scatter3d\"}], \"scattercarpet\": [{\"marker\": {\"colorbar\": {\"outlinewidth\": 0, \"ticks\": \"\"}}, \"type\": \"scattercarpet\"}], \"scattergeo\": [{\"marker\": {\"colorbar\": {\"outlinewidth\": 0, \"ticks\": \"\"}}, \"type\": \"scattergeo\"}], \"scattergl\": [{\"marker\": {\"colorbar\": {\"outlinewidth\": 0, \"ticks\": \"\"}}, \"type\": \"scattergl\"}], \"scattermapbox\": [{\"marker\": {\"colorbar\": {\"outlinewidth\": 0, \"ticks\": \"\"}}, \"type\": \"scattermapbox\"}], \"scatterpolar\": [{\"marker\": {\"colorbar\": {\"outlinewidth\": 0, \"ticks\": \"\"}}, \"type\": \"scatterpolar\"}], \"scatterpolargl\": [{\"marker\": {\"colorbar\": {\"outlinewidth\": 0, \"ticks\": \"\"}}, \"type\": \"scatterpolargl\"}], \"scatterternary\": [{\"marker\": {\"colorbar\": {\"outlinewidth\": 0, \"ticks\": \"\"}}, \"type\": \"scatterternary\"}], \"surface\": [{\"colorbar\": {\"outlinewidth\": 0, \"ticks\": \"\"}, \"colorscale\": [[0.0, \"#0d0887\"], [0.1111111111111111, \"#46039f\"], [0.2222222222222222, \"#7201a8\"], [0.3333333333333333, \"#9c179e\"], [0.4444444444444444, \"#bd3786\"], [0.5555555555555556, \"#d8576b\"], [0.6666666666666666, \"#ed7953\"], [0.7777777777777778, \"#fb9f3a\"], [0.8888888888888888, \"#fdca26\"], [1.0, \"#f0f921\"]], \"type\": \"surface\"}], \"table\": [{\"cells\": {\"fill\": {\"color\": \"#EBF0F8\"}, \"line\": {\"color\": \"white\"}}, \"header\": {\"fill\": {\"color\": \"#C8D4E3\"}, \"line\": {\"color\": \"white\"}}, \"type\": \"table\"}]}, \"layout\": {\"annotationdefaults\": {\"arrowcolor\": \"#2a3f5f\", \"arrowhead\": 0, \"arrowwidth\": 1}, \"autotypenumbers\": \"strict\", \"coloraxis\": {\"colorbar\": {\"outlinewidth\": 0, \"ticks\": \"\"}}, \"colorscale\": {\"diverging\": [[0, \"#8e0152\"], [0.1, \"#c51b7d\"], [0.2, \"#de77ae\"], [0.3, \"#f1b6da\"], [0.4, \"#fde0ef\"], [0.5, \"#f7f7f7\"], [0.6, \"#e6f5d0\"], [0.7, \"#b8e186\"], [0.8, \"#7fbc41\"], [0.9, \"#4d9221\"], [1, \"#276419\"]], \"sequential\": [[0.0, \"#0d0887\"], [0.1111111111111111, \"#46039f\"], [0.2222222222222222, \"#7201a8\"], [0.3333333333333333, \"#9c179e\"], [0.4444444444444444, \"#bd3786\"], [0.5555555555555556, \"#d8576b\"], [0.6666666666666666, \"#ed7953\"], [0.7777777777777778, \"#fb9f3a\"], [0.8888888888888888, \"#fdca26\"], [1.0, \"#f0f921\"]], \"sequentialminus\": [[0.0, \"#0d0887\"], [0.1111111111111111, \"#46039f\"], [0.2222222222222222, \"#7201a8\"], [0.3333333333333333, \"#9c179e\"], [0.4444444444444444, \"#bd3786\"], [0.5555555555555556, \"#d8576b\"], [0.6666666666666666, \"#ed7953\"], [0.7777777777777778, \"#fb9f3a\"], [0.8888888888888888, \"#fdca26\"], [1.0, \"#f0f921\"]]}, \"colorway\": [\"#636efa\", \"#EF553B\", \"#00cc96\", \"#ab63fa\", \"#FFA15A\", \"#19d3f3\", \"#FF6692\", \"#B6E880\", \"#FF97FF\", \"#FECB52\"], \"font\": {\"color\": \"#2a3f5f\"}, \"geo\": {\"bgcolor\": \"white\", \"lakecolor\": \"white\", \"landcolor\": \"#E5ECF6\", \"showlakes\": true, \"showland\": true, \"subunitcolor\": \"white\"}, \"hoverlabel\": {\"align\": \"left\"}, \"hovermode\": \"closest\", \"mapbox\": {\"style\": \"light\"}, \"paper_bgcolor\": \"white\", \"plot_bgcolor\": \"#E5ECF6\", \"polar\": {\"angularaxis\": {\"gridcolor\": \"white\", \"linecolor\": \"white\", \"ticks\": \"\"}, \"bgcolor\": \"#E5ECF6\", \"radialaxis\": {\"gridcolor\": \"white\", \"linecolor\": \"white\", \"ticks\": \"\"}}, \"scene\": {\"xaxis\": {\"backgroundcolor\": \"#E5ECF6\", \"gridcolor\": \"white\", \"gridwidth\": 2, \"linecolor\": \"white\", \"showbackground\": true, \"ticks\": \"\", \"zerolinecolor\": \"white\"}, \"yaxis\": {\"backgroundcolor\": \"#E5ECF6\", \"gridcolor\": \"white\", \"gridwidth\": 2, \"linecolor\": \"white\", \"showbackground\": true, \"ticks\": \"\", \"zerolinecolor\": \"white\"}, \"zaxis\": {\"backgroundcolor\": \"#E5ECF6\", \"gridcolor\": \"white\", \"gridwidth\": 2, \"linecolor\": \"white\", \"showbackground\": true, \"ticks\": \"\", \"zerolinecolor\": \"white\"}}, \"shapedefaults\": {\"line\": {\"color\": \"#2a3f5f\"}}, \"ternary\": {\"aaxis\": {\"gridcolor\": \"white\", \"linecolor\": \"white\", \"ticks\": \"\"}, \"baxis\": {\"gridcolor\": \"white\", \"linecolor\": \"white\", \"ticks\": \"\"}, \"bgcolor\": \"#E5ECF6\", \"caxis\": {\"gridcolor\": \"white\", \"linecolor\": \"white\", \"ticks\": \"\"}}, \"title\": {\"x\": 0.05}, \"xaxis\": {\"automargin\": true, \"gridcolor\": \"white\", \"linecolor\": \"white\", \"ticks\": \"\", \"title\": {\"standoff\": 15}, \"zerolinecolor\": \"white\", \"zerolinewidth\": 2}, \"yaxis\": {\"automargin\": true, \"gridcolor\": \"white\", \"linecolor\": \"white\", \"ticks\": \"\", \"title\": {\"standoff\": 15}, \"zerolinecolor\": \"white\", \"zerolinewidth\": 2}}}, \"xaxis\": {\"anchor\": \"y\", \"domain\": [0.0, 1.0], \"title\": {\"text\": \"Post Date\"}}, \"yaxis\": {\"anchor\": \"x\", \"domain\": [0.0, 1.0], \"title\": {\"text\": \"neg\"}}},                        {\"responsive\": true}                    ).then(function(){\n",
       "                            \n",
       "var gd = document.getElementById('36b6eb32-0602-407d-ac53-7740f1bc457f');\n",
       "var x = new MutationObserver(function (mutations, observer) {{\n",
       "        var display = window.getComputedStyle(gd).display;\n",
       "        if (!display || display === 'none') {{\n",
       "            console.log([gd, 'removed!']);\n",
       "            Plotly.purge(gd);\n",
       "            observer.disconnect();\n",
       "        }}\n",
       "}});\n",
       "\n",
       "// Listen for the removal of the full notebook cells\n",
       "var notebookContainer = gd.closest('#notebook-container');\n",
       "if (notebookContainer) {{\n",
       "    x.observe(notebookContainer, {childList: true});\n",
       "}}\n",
       "\n",
       "// Listen for the clearing of the current output cell\n",
       "var outputEl = gd.closest('.output');\n",
       "if (outputEl) {{\n",
       "    x.observe(outputEl, {childList: true});\n",
       "}}\n",
       "\n",
       "                        })                };                });            </script>        </div>"
      ]
     },
     "metadata": {},
     "output_type": "display_data"
    }
   ],
   "source": [
    "fig = px.line(df2, x='Post Date', y='neg')\n",
    "fig.show()"
   ]
  },
  {
   "cell_type": "code",
   "execution_count": 213,
   "metadata": {},
   "outputs": [
    {
     "name": "stderr",
     "output_type": "stream",
     "text": [
      "C:\\Users\\BDelamater\\Anaconda3\\lib\\site-packages\\ipykernel\\ipkernel.py:287: DeprecationWarning:\n",
      "\n",
      "`should_run_async` will not call `transform_cell` automatically in the future. Please pass the result to `transformed_cell` argument and any exception that happen during thetransform in `preprocessing_exc_tuple` in IPython 7.17 and above.\n",
      "\n"
     ]
    },
    {
     "data": {
      "application/vnd.plotly.v1+json": {
       "config": {
        "plotlyServerURL": "https://plot.ly"
       },
       "data": [
        {
         "hovertemplate": "Sentiment=Neutral<br>Post Date=%{x}<br>pos=%{y}<extra></extra>",
         "legendgroup": "Neutral",
         "line": {
          "color": "#636efa",
          "dash": "solid"
         },
         "mode": "lines",
         "name": "Neutral",
         "showlegend": true,
         "type": "scattergl",
         "x": [
          "2019-10-10T05:58:05.73",
          "2019-10-11T14:24:15.807",
          "2019-10-23T03:37:35.103",
          "2019-10-23T12:09:17.84",
          "2019-11-12T00:41:34.433",
          "2019-11-13T03:30:36.293",
          "2019-11-14T11:29:20.21",
          "2019-11-20T10:36:40.83",
          "2019-11-21T13:38:42.807",
          "2019-12-09T10:45:09.32",
          "2019-12-11T11:57:54.773",
          "2019-12-18T14:19:48.24",
          "2019-12-24T07:53:51.783",
          "2019-12-27T18:14:34.557",
          "2020-01-07T13:43:06.053",
          "2020-01-11T05:17:09.423",
          "2020-01-14T07:36:27.793",
          "2020-01-15T13:11:10.033",
          "2020-01-16T20:37:57.323",
          "2020-01-20T07:01:58.37",
          "2020-01-22T15:21:03.853",
          "2020-01-23T09:12:43.07",
          "2020-01-24T15:38:37.98",
          "2020-01-29T01:21:00.2",
          "2020-02-04T20:18:44.27",
          "2020-02-05T15:34:55.653",
          "2020-02-12T18:31:25.547",
          "2020-02-14T11:00:46.067",
          "2020-02-18T09:57:28.06",
          "2020-02-20T09:07:37.297",
          "2020-02-26T09:59:17.067",
          "2020-02-28T04:40:42.623",
          "2020-03-10T07:07:09.317",
          "2020-03-10T13:47:55.803",
          "2020-03-11T12:02:24.97",
          "2020-03-20T09:52:08.827",
          "2020-04-03T01:06:02.82",
          "2020-04-07T16:29:10.43",
          "2020-04-24T09:15:41.46",
          "2020-04-27T03:25:15.807",
          "2020-05-03T16:49:31.43",
          "2020-05-13T15:13:24.907",
          "2020-05-14T09:38:15.473",
          "2020-05-19T13:23:05.93",
          "2020-05-22T12:43:12.977",
          "2020-05-27T08:09:30.657",
          "2020-05-28T11:43:06.343",
          "2020-05-31T21:49:48.113",
          "2020-06-01T07:06:15.03",
          "2020-06-03T08:38:37.627",
          "2020-06-17T10:39:43.347",
          "2020-06-21T05:58:52.79",
          "2020-07-01T03:24:12.553",
          "2020-07-02T16:17:26.273",
          "2020-07-09T15:25:26.863",
          "2020-07-21T10:23:05.597",
          "2020-07-24T02:00:04.097",
          "2020-08-11T06:23:35.727",
          "2020-08-13T05:21:38.977",
          "2020-08-13T14:00:56.303",
          "2020-08-17T17:09:22.07",
          "2020-08-27T04:28:56.903",
          "2020-09-01T12:00:23.027",
          "2020-09-03T15:16:17.96",
          "2020-09-08T05:00:37.097",
          "2020-09-10T06:34:35.72",
          "2020-09-20T12:16:21.403",
          "2020-09-21T16:37:39.7",
          "2020-09-29T18:14:05.84",
          "2020-09-29T18:29:04.81",
          "2020-10-02T09:26:32.68",
          "2020-10-15T14:35:43.96",
          "2020-10-16T13:34:13.343",
          "2020-10-22T13:47:42.993",
          "2020-10-22T17:19:54.477",
          "2020-10-27T16:57:39.52",
          "2020-10-29T11:10:06.717",
          "2020-11-02T09:41:44.807",
          "2020-11-05T12:22:50.65",
          "2020-11-05T13:57:09.393",
          "2020-11-11T11:27:29.283",
          "2020-11-16T02:39:45.893",
          "2020-11-18T06:54:44.173",
          "2020-11-19T12:44:09.52",
          "2020-11-20T10:05:42.53",
          "2020-11-24T16:02:26.117",
          "2020-11-25T11:59:22.583",
          "2020-12-06T22:33:26.473",
          "2020-12-10T16:45:56.92",
          "2020-12-27T01:57:08.607",
          "2020-12-29T11:55:09.773",
          "2021-01-11T05:30:23.477",
          "2021-01-12T09:52:23.923",
          "2021-01-16T04:10:22.447",
          "2021-01-19T14:58:12.793",
          "2021-01-29T09:32:23.31",
          "2021-02-02T02:54:29.54",
          "2021-02-03T04:07:38.773",
          "2021-02-05T01:44:05.203",
          "2021-02-24T07:45:06.977",
          "2021-03-09T07:01:54.71",
          "2021-03-18T02:51:39.69",
          "2021-03-18T13:51:25.81",
          "2021-03-25T14:46:51.637",
          "2021-04-09T18:43:03.997",
          "2021-04-22T16:37:41.357",
          "2021-04-23T09:14:59.607",
          "2021-04-27T16:38:41.177",
          "2021-05-10T14:33:41.143"
         ],
         "xaxis": "x",
         "y": [
          0.064,
          0,
          0,
          0.056,
          0,
          0,
          0,
          0.038,
          0,
          0,
          0,
          0,
          0,
          0,
          0,
          0,
          0,
          0,
          0,
          0,
          0.052,
          0,
          0,
          0,
          0,
          0,
          0.055,
          0.043,
          0.022,
          0,
          0,
          0,
          0,
          0,
          0,
          0,
          0,
          0,
          0,
          0,
          0,
          0,
          0,
          0,
          0.054,
          0,
          0,
          0.16,
          0,
          0,
          0,
          0,
          0,
          0.032,
          0,
          0.022,
          0,
          0,
          0.051,
          0,
          0.179,
          0,
          0,
          0,
          0,
          0.112,
          0,
          0,
          0,
          0,
          0.01,
          0,
          0,
          0,
          0,
          0,
          0,
          0,
          0,
          0,
          0.11,
          0,
          0.056,
          0,
          0.055,
          0.095,
          0,
          0,
          0,
          0.103,
          0,
          0,
          0.09,
          0,
          0,
          0,
          0.025,
          0.061,
          0,
          0,
          0,
          0,
          0,
          0,
          0.092,
          0,
          0,
          0,
          0
         ],
         "yaxis": "y"
        },
        {
         "hovertemplate": "Sentiment=Positive<br>Post Date=%{x}<br>pos=%{y}<extra></extra>",
         "legendgroup": "Positive",
         "line": {
          "color": "#EF553B",
          "dash": "solid"
         },
         "mode": "lines",
         "name": "Positive",
         "showlegend": true,
         "type": "scattergl",
         "x": [
          "2019-10-10T12:44:35.957",
          "2019-10-10T14:56:52.947",
          "2019-10-10T15:41:06.877",
          "2019-10-10T20:56:53.483",
          "2019-10-11T13:10:28.983",
          "2019-10-11T16:02:41.787",
          "2019-10-13T20:01:08.897",
          "2019-10-14T08:33:18.01",
          "2019-10-16T11:20:54.023",
          "2019-10-16T14:12:45.5",
          "2019-10-17T09:14:34.753",
          "2019-10-17T10:16:15.513",
          "2019-10-17T12:09:02.91",
          "2019-10-17T23:59:14.523",
          "2019-10-18T14:58:06.717",
          "2019-10-21T06:08:38.347",
          "2019-10-21T16:06:55.323",
          "2019-10-22T08:16:13.563",
          "2019-10-22T16:27:23.92",
          "2019-10-22T18:07:48.827",
          "2019-10-23T08:20:38.087",
          "2019-10-23T11:38:26.887",
          "2019-10-24T04:42:08.237",
          "2019-10-24T09:59:56.077",
          "2019-10-24T16:34:04.713",
          "2019-10-28T15:36:47.907",
          "2019-10-29T06:01:19.783",
          "2019-10-29T10:29:47.95",
          "2019-10-29T16:46:32.203",
          "2019-10-29T17:04:40.463",
          "2019-10-30T04:45:07.257",
          "2019-10-30T15:33:07.45",
          "2019-10-30T18:41:07.37",
          "2019-10-31T12:35:06.993",
          "2019-11-01T07:44:02.54",
          "2019-11-04T17:47:37.86",
          "2019-11-06T06:04:59.007",
          "2019-11-06T10:08:50.95",
          "2019-11-06T10:27:39.52",
          "2019-11-08T20:33:59.89",
          "2019-11-09T11:37:29.693",
          "2019-11-11T05:59:42.987",
          "2019-11-11T11:39:44.857",
          "2019-11-11T13:02:34.017",
          "2019-11-12T18:42:03.247",
          "2019-11-13T09:35:33.91",
          "2019-11-13T23:52:26.683",
          "2019-11-14T06:03:35.53",
          "2019-11-14T09:45:03.713",
          "2019-11-14T13:10:08.303",
          "2019-11-18T04:12:03.657",
          "2019-11-18T15:17:49.503",
          "2019-11-18T16:11:15.36",
          "2019-11-18T17:18:32.137",
          "2019-11-18T19:25:44.17",
          "2019-11-19T02:48:28.417",
          "2019-11-19T10:27:37.423",
          "2019-11-19T11:00:35.74",
          "2019-11-19T20:00:10.803",
          "2019-11-20T12:24:54.847",
          "2019-11-21T00:07:58.053",
          "2019-11-21T14:08:12.47",
          "2019-11-21T18:13:29.69",
          "2019-11-22T07:29:58.45",
          "2019-11-22T12:44:01.59",
          "2019-11-23T12:26:35.197",
          "2019-11-26T08:17:12.663",
          "2019-11-27T10:39:18.173",
          "2019-11-27T21:15:11.89",
          "2019-11-28T04:58:07.76",
          "2019-12-02T07:06:03.57",
          "2019-12-02T15:42:44.927",
          "2019-12-02T21:04:51.46",
          "2019-12-03T07:56:40.55",
          "2019-12-03T10:45:44.023",
          "2019-12-04T11:59:55.687",
          "2019-12-05T11:04:33.51",
          "2019-12-05T12:28:17.997",
          "2019-12-09T07:25:39.22",
          "2019-12-09T10:53:03.993",
          "2019-12-09T12:45:56.217",
          "2019-12-10T08:52:36.997",
          "2019-12-10T10:14:02.33",
          "2019-12-10T11:53:33.71",
          "2019-12-10T18:25:49.657",
          "2019-12-11T11:26:46.79",
          "2019-12-12T11:05:43.68",
          "2019-12-13T09:43:03.027",
          "2019-12-17T03:54:27.833",
          "2019-12-17T05:30:55.173",
          "2019-12-17T09:31:11.343",
          "2019-12-17T11:21:51.1",
          "2019-12-17T12:36:10.797",
          "2019-12-17T22:05:31.297",
          "2019-12-18T02:18:53.803",
          "2019-12-18T04:43:33.147",
          "2019-12-18T07:43:12.083",
          "2019-12-20T14:25:22.243",
          "2019-12-21T07:31:20.647",
          "2019-12-26T08:18:44.133",
          "2019-12-26T11:59:21.053",
          "2019-12-28T03:55:55.687",
          "2019-12-30T13:08:12.05",
          "2019-12-30T13:53:51.783",
          "2020-01-02T06:49:33.107",
          "2020-01-02T09:53:02.633",
          "2020-01-02T16:36:17.35",
          "2020-01-03T12:08:04.033",
          "2020-01-03T16:41:12.803",
          "2020-01-06T12:19:26.157",
          "2020-01-06T17:04:29.283",
          "2020-01-06T17:40:07.413",
          "2020-01-07T04:10:45.22",
          "2020-01-07T04:51:00.893",
          "2020-01-07T10:24:06.313",
          "2020-01-07T11:18:19.473",
          "2020-01-07T15:38:23.8",
          "2020-01-07T16:18:56.733",
          "2020-01-08T16:28:49.287",
          "2020-01-09T01:31:01.17",
          "2020-01-09T06:33:51.44",
          "2020-01-09T12:05:38.153",
          "2020-01-10T15:06:17.673",
          "2020-01-10T15:54:12.933",
          "2020-01-13T12:21:50.72",
          "2020-01-13T13:00:29.71",
          "2020-01-14T15:06:33.63",
          "2020-01-15T04:12:20.593",
          "2020-01-15T09:52:42.417",
          "2020-01-15T19:14:38.547",
          "2020-01-16T10:00:09.903",
          "2020-01-16T17:27:43.697",
          "2020-01-18T01:12:31.457",
          "2020-01-18T07:43:39.573",
          "2020-01-20T00:07:25.07",
          "2020-01-20T06:57:25.193",
          "2020-01-20T06:59:28.963",
          "2020-01-20T14:25:20.393",
          "2020-01-20T14:45:16.097",
          "2020-01-22T15:07:27.347",
          "2020-01-23T08:30:02.617",
          "2020-01-25T16:27:33.3",
          "2020-01-27T12:47:35.913",
          "2020-01-27T13:06:07.103",
          "2020-01-27T19:11:17.547",
          "2020-01-30T18:43:33.303",
          "2020-01-31T00:48:04.5",
          "2020-01-31T08:03:58.81",
          "2020-02-01T05:35:29.75",
          "2020-02-02T13:10:27.66",
          "2020-02-02T17:09:13.667",
          "2020-02-03T04:12:16.153",
          "2020-02-04T09:46:39.103",
          "2020-02-05T12:57:51.92",
          "2020-02-07T10:19:14.993",
          "2020-02-10T12:07:23.167",
          "2020-02-10T12:23:06.927",
          "2020-02-10T12:51:43.717",
          "2020-02-10T17:12:39.753",
          "2020-02-11T17:58:49.54",
          "2020-02-12T06:28:17.963",
          "2020-02-12T14:03:31.393",
          "2020-02-12T15:16:51.137",
          "2020-02-13T04:33:31.503",
          "2020-02-13T07:03:33.427",
          "2020-02-17T16:50:09.627",
          "2020-02-18T02:27:54.503",
          "2020-02-18T10:33:31.103",
          "2020-02-18T11:09:26.847",
          "2020-02-20T18:55:20.497",
          "2020-02-21T04:19:57.7",
          "2020-02-21T06:32:06.093",
          "2020-02-21T12:36:02.74",
          "2020-02-21T13:01:12.36",
          "2020-02-21T18:07:34.15",
          "2020-02-23T02:07:04.06",
          "2020-02-24T05:14:04.183",
          "2020-02-24T09:39:05.69",
          "2020-02-24T15:46:47.507",
          "2020-02-25T03:52:03.343",
          "2020-02-26T16:38:14.707",
          "2020-02-27T12:11:29.997",
          "2020-02-28T10:58:22.157",
          "2020-02-28T12:00:12.227",
          "2020-02-28T12:41:38.88",
          "2020-02-29T01:03:40.683",
          "2020-03-01T02:40:06.913",
          "2020-03-01T10:01:48.487",
          "2020-03-01T23:59:56.043",
          "2020-03-02T14:28:29.457",
          "2020-03-03T00:00:27.147",
          "2020-03-03T04:30:14.143",
          "2020-03-03T06:44:29.51",
          "2020-03-03T07:23:34.21",
          "2020-03-04T03:34:45.237",
          "2020-03-04T10:43:21.66",
          "2020-03-05T20:40:47.497",
          "2020-03-06T16:53:23.053",
          "2020-03-07T06:36:24.19",
          "2020-03-08T12:22:18.35",
          "2020-03-08T18:22:20.403",
          "2020-03-09T07:47:26.907",
          "2020-03-10T02:49:49.197",
          "2020-03-12T03:22:56.907",
          "2020-03-12T05:01:18.27",
          "2020-03-12T09:32:11.43",
          "2020-03-12T16:24:51.943",
          "2020-03-13T02:20:48.573",
          "2020-03-13T18:05:09.727",
          "2020-03-16T05:51:59.12",
          "2020-03-16T13:41:01.863",
          "2020-03-17T01:11:48.753",
          "2020-03-17T02:14:25.67",
          "2020-03-17T11:01:28.317",
          "2020-03-18T06:06:20.797",
          "2020-03-19T09:31:32.573",
          "2020-03-20T09:02:42.493",
          "2020-03-22T12:10:06.073",
          "2020-03-22T23:11:53.447",
          "2020-03-23T11:06:50.057",
          "2020-03-23T23:34:21.613",
          "2020-03-24T16:40:36.357",
          "2020-03-25T05:31:26.553",
          "2020-03-25T13:28:17.627",
          "2020-03-25T13:53:46.49",
          "2020-03-27T09:21:56.483",
          "2020-03-28T01:28:47.883",
          "2020-03-30T09:08:24.897",
          "2020-03-30T15:21:41.037",
          "2020-03-30T21:20:56.607",
          "2020-03-31T11:25:34.507",
          "2020-03-31T13:27:36.39",
          "2020-04-01T16:02:10.643",
          "2020-04-02T00:43:12.03",
          "2020-04-07T12:32:04.843",
          "2020-04-08T00:15:17.853",
          "2020-04-08T03:50:11.817",
          "2020-04-08T10:13:33.427",
          "2020-04-08T18:27:22.337",
          "2020-04-10T09:08:10.833",
          "2020-04-10T19:21:56.537",
          "2020-04-13T10:16:13.573",
          "2020-04-13T12:45:52.543",
          "2020-04-13T14:36:36.72",
          "2020-04-14T08:25:03.7",
          "2020-04-15T05:26:43.887",
          "2020-04-16T17:32:12.887",
          "2020-04-17T17:21:10.267",
          "2020-04-17T18:09:09.38",
          "2020-04-17T19:28:32.667",
          "2020-04-20T06:46:13.263",
          "2020-04-20T09:45:40.793",
          "2020-04-21T06:43:58.953",
          "2020-04-22T17:52:12.143",
          "2020-04-23T11:51:48.66",
          "2020-04-23T12:48:56.067",
          "2020-04-23T13:42:27.423",
          "2020-04-23T19:33:37.777",
          "2020-04-24T12:08:53.497",
          "2020-04-24T17:33:44.47",
          "2020-04-27T11:04:11.827",
          "2020-04-27T12:09:32.6",
          "2020-04-28T14:16:24.483",
          "2020-04-28T14:23:25.457",
          "2020-04-28T14:54:09.24",
          "2020-04-28T15:58:10.627",
          "2020-04-29T06:42:53.09",
          "2020-04-29T11:08:12.53",
          "2020-04-30T10:03:05.167",
          "2020-05-01T07:55:41.06",
          "2020-05-01T13:27:08.093",
          "2020-05-01T18:13:11.793",
          "2020-05-05T07:56:04.453",
          "2020-05-05T08:43:05.083",
          "2020-05-05T19:02:17.003",
          "2020-05-06T01:58:51.927",
          "2020-05-06T09:55:41.613",
          "2020-05-06T11:33:27.64",
          "2020-05-07T07:48:02.343",
          "2020-05-07T14:40:24.16",
          "2020-05-07T17:22:42.663",
          "2020-05-07T17:58:50.36",
          "2020-05-08T11:05:30.22",
          "2020-05-08T18:50:29.917",
          "2020-05-10T15:38:34.823",
          "2020-05-10T22:06:56.483",
          "2020-05-11T04:18:33.723",
          "2020-05-11T10:39:05.677",
          "2020-05-11T18:12:14.043",
          "2020-05-12T06:46:53.073",
          "2020-05-12T23:39:37.837",
          "2020-05-13T12:09:34.583",
          "2020-05-14T13:46:07.237",
          "2020-05-19T01:36:19.2",
          "2020-05-19T10:58:19.68",
          "2020-05-19T22:57:51.593",
          "2020-05-19T23:57:36.38",
          "2020-05-21T08:01:48.667",
          "2020-05-21T16:17:26.79",
          "2020-05-22T13:38:46.373",
          "2020-05-26T04:19:19.857",
          "2020-05-26T05:29:41.38",
          "2020-05-27T09:42:57.963",
          "2020-05-27T11:51:09.957",
          "2020-05-27T16:13:12.423",
          "2020-05-28T10:50:38.12",
          "2020-05-28T13:55:04.59",
          "2020-05-28T13:55:17.233",
          "2020-05-28T15:02:38.937",
          "2020-06-01T03:45:36.143",
          "2020-06-01T23:54:24.347",
          "2020-06-02T06:25:02.487",
          "2020-06-04T08:46:29.137",
          "2020-06-04T08:47:30.443",
          "2020-06-05T08:37:45.887",
          "2020-06-08T11:30:52.127",
          "2020-06-10T15:48:56.787",
          "2020-06-11T05:44:23.893",
          "2020-06-11T10:48:33.063",
          "2020-06-11T16:44:25.303",
          "2020-06-12T04:26:21.537",
          "2020-06-13T20:34:20.54",
          "2020-06-15T00:18:26.877",
          "2020-06-15T18:21:18.607",
          "2020-06-17T07:44:27.62",
          "2020-06-17T18:17:42.787",
          "2020-06-17T21:20:44.363",
          "2020-06-18T03:41:34.283",
          "2020-06-18T18:45:45.943",
          "2020-06-19T05:28:43.413",
          "2020-06-19T07:23:48.88",
          "2020-06-19T13:04:31.18",
          "2020-06-19T13:05:50.277",
          "2020-06-20T20:04:07.61",
          "2020-06-22T07:57:18.433",
          "2020-06-22T15:20:53.23",
          "2020-06-22T17:32:37.193",
          "2020-06-25T03:09:04.55",
          "2020-06-26T07:38:55.12",
          "2020-07-01T08:43:32.99",
          "2020-07-02T09:20:12.7",
          "2020-07-02T10:21:06.57",
          "2020-07-08T09:33:24.407",
          "2020-07-08T16:56:19.757",
          "2020-07-09T16:22:26.66",
          "2020-07-09T16:28:26.983",
          "2020-07-10T15:53:37.277",
          "2020-07-10T18:57:48.173",
          "2020-07-14T05:01:01.39",
          "2020-07-15T03:11:16.5",
          "2020-07-15T06:32:14.56",
          "2020-07-15T17:54:55.167",
          "2020-07-16T04:35:29.63",
          "2020-07-16T07:33:35.41",
          "2020-07-16T11:36:35.183",
          "2020-07-16T16:31:52.563",
          "2020-07-20T23:00:15.057",
          "2020-07-21T06:17:01.253",
          "2020-07-21T15:20:11.183",
          "2020-07-22T05:55:52.447",
          "2020-07-22T16:48:52.953",
          "2020-07-22T23:35:16.743",
          "2020-07-23T15:51:45.183",
          "2020-07-23T16:46:00.053",
          "2020-07-27T13:56:35.087",
          "2020-07-28T11:16:57.777",
          "2020-07-28T11:20:26.603",
          "2020-07-28T11:47:30.707",
          "2020-07-29T08:18:11.907",
          "2020-07-29T09:13:44.577",
          "2020-07-29T10:45:28.61",
          "2020-07-30T14:51:34.69",
          "2020-07-30T16:20:18.783",
          "2020-08-03T14:31:32.377",
          "2020-08-03T15:16:16.62",
          "2020-08-05T12:27:19.103",
          "2020-08-05T13:19:23.943",
          "2020-08-06T12:04:03.013",
          "2020-08-07T15:34:48.087",
          "2020-08-10T12:13:23.673",
          "2020-08-11T03:18:56.48",
          "2020-08-12T07:54:44.907",
          "2020-08-13T09:27:35.497",
          "2020-08-13T13:58:17.28",
          "2020-08-13T19:32:19.49",
          "2020-08-14T04:43:10.42",
          "2020-08-14T10:33:47.637",
          "2020-08-14T14:39:35.21",
          "2020-08-18T07:01:56.34",
          "2020-08-19T10:47:49.9",
          "2020-08-19T14:31:13.88",
          "2020-08-20T16:16:04.203",
          "2020-08-20T18:20:03.123",
          "2020-08-21T02:02:10.857",
          "2020-08-21T14:50:21.077",
          "2020-08-21T15:36:03.473",
          "2020-08-24T02:26:12.913",
          "2020-08-24T03:55:16.187",
          "2020-08-24T07:30:08.877",
          "2020-08-24T09:13:29.1",
          "2020-08-25T09:37:23.29",
          "2020-08-25T13:34:40.817",
          "2020-08-26T02:11:50.003",
          "2020-08-26T10:34:15.32",
          "2020-08-26T11:13:50.613",
          "2020-08-27T11:25:26.827",
          "2020-08-27T11:40:36.677",
          "2020-08-27T14:20:01.203",
          "2020-08-27T14:59:03.177",
          "2020-08-28T04:12:14.89",
          "2020-08-28T12:20:32.08",
          "2020-08-31T09:41:46.203",
          "2020-09-01T08:29:04.687",
          "2020-09-02T13:28:25.653",
          "2020-09-03T02:01:33.75",
          "2020-09-03T09:26:58.127",
          "2020-09-03T11:55:40.83",
          "2020-09-04T02:35:33.15",
          "2020-09-07T03:14:01.783",
          "2020-09-08T03:24:11.603",
          "2020-09-08T05:40:25.34",
          "2020-09-08T12:13:05.57",
          "2020-09-08T14:17:04.713",
          "2020-09-09T14:46:03.91",
          "2020-09-09T15:33:09.883",
          "2020-09-10T06:00:56.927",
          "2020-09-10T12:15:08.11",
          "2020-09-10T16:25:03.4",
          "2020-09-11T11:54:43.767",
          "2020-09-11T17:57:16.44",
          "2020-09-13T05:09:37.187",
          "2020-09-13T12:40:21.163",
          "2020-09-14T08:48:44.357",
          "2020-09-15T08:11:30.217",
          "2020-09-15T11:40:17.6",
          "2020-09-15T19:54:20.857",
          "2020-09-16T06:13:11.593",
          "2020-09-16T08:15:45.44",
          "2020-09-16T09:57:44.517",
          "2020-09-16T12:02:57.383",
          "2020-09-16T14:20:14.03",
          "2020-09-16T16:01:59.473",
          "2020-09-16T16:33:38.75",
          "2020-09-16T16:52:38.42",
          "2020-09-17T11:41:44.053",
          "2020-09-17T14:55:23.447",
          "2020-09-17T16:37:00.077",
          "2020-09-18T07:33:41.723",
          "2020-09-18T10:46:34.367",
          "2020-09-21T09:58:43.167",
          "2020-09-21T16:47:19.263",
          "2020-09-22T00:02:42.337",
          "2020-09-22T06:17:08.973",
          "2020-09-22T12:21:03.637",
          "2020-09-23T12:45:54.313",
          "2020-09-23T14:50:02.017",
          "2020-09-23T14:50:53.77",
          "2020-09-23T14:51:39.347",
          "2020-09-23T15:15:00.187",
          "2020-09-24T13:12:57.107",
          "2020-09-24T19:12:48.583",
          "2020-09-25T06:21:34.47",
          "2020-09-25T15:10:56.223",
          "2020-09-25T21:10:47.287",
          "2020-09-27T03:01:48.877",
          "2020-09-28T07:28:53.443",
          "2020-09-28T13:41:47.603",
          "2020-09-29T10:42:52.203",
          "2020-09-29T10:58:24.237",
          "2020-09-29T11:43:39.463",
          "2020-10-01T04:05:51.267",
          "2020-10-01T15:18:19.523",
          "2020-10-04T06:57:42.663",
          "2020-10-06T10:36:52.983",
          "2020-10-06T12:46:04.483",
          "2020-10-07T04:36:43.39",
          "2020-10-07T16:31:35.887",
          "2020-10-07T16:43:08.117",
          "2020-10-08T08:52:50.623",
          "2020-10-09T02:01:00.407",
          "2020-10-12T09:03:36.163",
          "2020-10-12T20:34:39.057",
          "2020-10-14T06:43:01.837",
          "2020-10-14T09:31:09.873",
          "2020-10-14T13:41:44.907",
          "2020-10-14T13:52:09.94",
          "2020-10-15T06:57:57.13",
          "2020-10-16T10:01:41.817",
          "2020-10-16T12:33:29.753",
          "2020-10-17T11:21:17.997",
          "2020-10-17T21:00:48.037",
          "2020-10-19T15:39:33.853",
          "2020-10-19T22:07:22.383",
          "2020-10-20T03:00:27.94",
          "2020-10-21T04:53:38.967",
          "2020-10-21T06:22:02.867",
          "2020-10-21T09:30:56.74",
          "2020-10-21T10:44:23.66",
          "2020-10-22T14:31:26.257",
          "2020-10-22T17:17:54.993",
          "2020-10-23T07:50:08.56",
          "2020-10-23T12:09:06.92",
          "2020-10-23T16:06:11.243",
          "2020-10-24T16:03:56.137",
          "2020-10-25T08:22:12.38",
          "2020-10-25T16:01:58.43",
          "2020-10-26T05:46:15.347",
          "2020-10-29T02:25:33.677",
          "2020-10-29T14:45:52.203",
          "2020-10-30T15:24:32.273",
          "2020-11-03T09:15:35.397",
          "2020-11-03T14:16:21.633",
          "2020-11-04T08:18:34.06",
          "2020-11-06T03:12:33.02",
          "2020-11-07T02:30:08.94",
          "2020-11-08T12:42:54.723",
          "2020-11-08T12:48:07.61",
          "2020-11-09T10:51:40.613",
          "2020-11-11T05:50:59.56",
          "2020-11-11T09:58:05.707",
          "2020-11-11T15:13:05.847",
          "2020-11-11T16:53:07.01",
          "2020-11-12T05:28:55.913",
          "2020-11-12T14:47:17.27",
          "2020-11-13T03:08:25.797",
          "2020-11-14T14:04:27.383",
          "2020-11-16T11:23:16.327",
          "2020-11-16T11:25:19.08",
          "2020-11-18T11:32:37.993",
          "2020-11-18T12:30:24.143",
          "2020-11-18T12:37:55.147",
          "2020-11-18T19:18:53.403",
          "2020-11-19T09:30:41.29",
          "2020-11-20T14:00:44.387",
          "2020-11-20T16:00:00.39",
          "2020-11-21T05:08:51.133",
          "2020-11-22T23:21:07.067",
          "2020-11-23T01:58:09.64",
          "2020-11-24T10:58:17.443",
          "2020-11-24T15:09:06.143",
          "2020-11-24T20:48:57.933",
          "2020-11-25T12:40:55.58",
          "2020-11-25T14:28:28.507",
          "2020-11-25T15:43:04.867",
          "2020-11-30T16:32:19.377",
          "2020-12-02T09:26:16.583",
          "2020-12-04T18:13:27.287",
          "2020-12-06T08:25:07.433",
          "2020-12-08T11:32:56.12",
          "2020-12-08T12:43:52.023",
          "2020-12-08T15:13:24.93",
          "2020-12-09T10:04:40.567",
          "2020-12-10T03:32:44.07",
          "2020-12-10T16:03:19.67",
          "2020-12-15T11:43:28.143",
          "2020-12-15T13:24:34.04",
          "2020-12-16T05:04:16.433",
          "2020-12-16T13:34:06.637",
          "2020-12-16T21:46:56.413",
          "2020-12-18T03:06:14.177",
          "2020-12-18T11:11:07.787",
          "2020-12-21T17:49:39.223",
          "2020-12-22T05:06:26.697",
          "2020-12-23T10:59:14.423",
          "2020-12-24T00:03:53.283",
          "2020-12-26T15:56:58.257",
          "2020-12-27T11:57:47.007",
          "2020-12-27T14:12:00.18",
          "2020-12-28T10:34:01.52",
          "2020-12-28T11:57:21.447",
          "2020-12-29T17:22:22.603",
          "2020-12-30T10:05:14.57",
          "2020-12-31T18:03:21.66",
          "2021-01-01T07:00:15.443",
          "2021-01-03T22:55:07.463",
          "2021-01-04T07:41:29.507",
          "2021-01-04T07:48:38.72",
          "2021-01-04T08:49:11.093",
          "2021-01-04T12:26:12.183",
          "2021-01-05T09:54:38.063",
          "2021-01-05T10:07:21.227",
          "2021-01-05T20:16:38.75",
          "2021-01-06T12:25:16.487",
          "2021-01-06T14:50:39.423",
          "2021-01-07T00:43:54.317",
          "2021-01-08T03:57:53.35",
          "2021-01-11T16:25:58.88",
          "2021-01-11T22:44:21.93",
          "2021-01-12T07:40:27.073",
          "2021-01-14T13:55:54.143",
          "2021-01-15T11:36:31.313",
          "2021-01-16T19:32:13.78",
          "2021-01-18T05:59:41.04",
          "2021-01-19T13:53:44.657",
          "2021-01-20T07:11:18.693",
          "2021-01-20T15:38:36.633",
          "2021-01-20T16:13:02.5",
          "2021-01-21T17:46:44.013",
          "2021-01-22T13:54:36.95",
          "2021-01-22T15:20:52.107",
          "2021-01-23T00:52:07.6",
          "2021-01-25T03:57:52.733",
          "2021-01-25T10:05:26.427",
          "2021-01-25T12:51:33.14",
          "2021-01-25T17:07:17.423",
          "2021-01-27T09:22:55.277",
          "2021-01-27T09:22:55.547",
          "2021-01-27T09:28:32.857",
          "2021-01-28T11:33:34.887",
          "2021-01-29T05:09:45.457",
          "2021-01-30T02:44:24.313",
          "2021-02-01T14:35:54.11",
          "2021-02-02T09:15:33.837",
          "2021-02-04T18:52:41.68",
          "2021-02-07T01:35:51.77",
          "2021-02-07T03:45:35.85",
          "2021-02-07T22:47:17.563",
          "2021-02-08T04:21:46.14",
          "2021-02-08T20:23:34.343",
          "2021-02-09T05:36:55.147",
          "2021-02-09T07:28:04.943",
          "2021-02-10T11:48:40.4",
          "2021-02-10T17:28:34.27",
          "2021-02-11T16:40:26.987",
          "2021-02-11T21:31:20.58",
          "2021-02-12T05:54:48.23",
          "2021-02-12T09:56:04.773",
          "2021-02-12T15:06:05.92",
          "2021-02-12T15:07:52.33",
          "2021-02-13T02:53:30.073",
          "2021-02-14T04:45:31.08",
          "2021-02-14T15:10:09.8",
          "2021-02-15T21:50:52.64",
          "2021-02-16T06:32:23.97",
          "2021-02-16T09:44:47.337",
          "2021-02-17T01:00:17.45",
          "2021-02-17T01:25:49.423",
          "2021-02-17T17:57:59.497",
          "2021-02-18T04:41:42.563",
          "2021-02-19T11:17:25.39",
          "2021-02-22T01:18:39.76",
          "2021-02-22T10:22:26.3",
          "2021-02-23T05:30:07.697",
          "2021-02-23T08:25:50.447",
          "2021-02-23T15:53:46.57",
          "2021-02-24T12:36:00.77",
          "2021-02-25T08:53:44.637",
          "2021-02-25T10:29:48.393",
          "2021-02-25T16:43:06.273",
          "2021-02-26T09:23:09.993",
          "2021-02-26T18:47:43.037",
          "2021-02-27T11:08:57.667",
          "2021-03-01T09:13:33.787",
          "2021-03-01T19:39:59.55",
          "2021-03-02T09:23:36.847",
          "2021-03-02T11:18:39.363",
          "2021-03-02T16:31:12.837",
          "2021-03-03T05:13:37.897",
          "2021-03-03T06:44:32.35",
          "2021-03-03T08:54:25",
          "2021-03-04T02:36:22.257",
          "2021-03-05T08:22:11.3",
          "2021-03-09T11:09:19.763",
          "2021-03-09T14:55:21.58",
          "2021-03-10T04:36:07.837",
          "2021-03-10T15:24:21.857",
          "2021-03-10T16:00:02.613",
          "2021-03-11T04:20:04.103",
          "2021-03-11T09:00:30.913",
          "2021-03-11T17:30:43.753",
          "2021-03-12T02:34:21.683",
          "2021-03-12T03:28:33.083",
          "2021-03-12T11:48:47.203",
          "2021-03-13T10:25:21.143",
          "2021-03-14T17:29:30.287",
          "2021-03-15T10:13:43.667",
          "2021-03-15T10:53:54.233",
          "2021-03-17T17:02:54.86",
          "2021-03-19T07:21:13.43",
          "2021-03-20T01:34:53.61",
          "2021-03-23T12:14:18.863",
          "2021-03-24T12:58:46.5",
          "2021-03-25T03:17:53.38",
          "2021-03-25T16:39:59.577",
          "2021-03-26T14:27:14.173",
          "2021-03-30T12:29:47.413",
          "2021-03-30T12:53:22.887",
          "2021-03-31T05:04:42.15",
          "2021-03-31T06:38:42.34",
          "2021-04-01T08:14:49.057",
          "2021-04-06T19:28:50.28",
          "2021-04-08T17:31:25.08",
          "2021-04-10T02:53:00.28",
          "2021-04-12T10:52:25.73",
          "2021-04-12T12:12:10.283",
          "2021-04-12T15:13:07.097",
          "2021-04-14T03:27:41.803",
          "2021-04-15T08:57:58.05",
          "2021-04-15T12:20:03.933",
          "2021-04-19T09:41:09.173",
          "2021-04-20T07:00:28.707",
          "2021-04-20T15:43:56.607",
          "2021-04-21T11:38:15.18",
          "2021-04-22T04:29:17.66",
          "2021-04-22T04:48:51.64",
          "2021-04-22T06:55:40.56",
          "2021-04-22T16:43:27",
          "2021-04-23T00:03:22.743",
          "2021-04-23T11:09:05.35",
          "2021-04-27T07:40:14.087",
          "2021-04-27T10:25:08.213",
          "2021-04-27T13:53:38.607",
          "2021-04-27T14:05:34.707",
          "2021-04-27T16:17:23.083",
          "2021-04-28T06:07:57.33",
          "2021-04-28T11:44:20.84",
          "2021-04-28T14:08:31.08",
          "2021-04-28T14:15:54.817",
          "2021-04-29T02:16:11.49",
          "2021-04-30T07:03:44.607",
          "2021-04-30T08:43:37.07",
          "2021-05-04T03:26:26.993",
          "2021-05-04T09:31:18.373",
          "2021-05-05T10:48:30.583",
          "2021-05-05T14:59:26.737",
          "2021-05-06T04:52:27.5",
          "2021-05-06T05:44:31.317",
          "2021-05-06T14:47:18.237",
          "2021-05-06T15:36:56.423",
          "2021-05-06T19:21:40.677",
          "2021-05-07T11:58:25.423",
          "2021-05-07T12:44:00.26",
          "2021-05-11T11:11:22.967",
          "2021-05-11T14:33:52.803",
          "2021-05-12T19:29:45.887",
          "2021-05-14T10:04:28.7",
          "2021-05-17T00:14:13.58",
          "2021-05-17T05:24:41.617",
          "2021-05-17T10:22:56.957",
          "2021-05-17T12:12:39.573",
          "2021-05-20T08:11:58.513",
          "2021-05-21T02:17:15.373",
          "2021-05-24T03:14:14.447",
          "2021-05-24T05:55:56.8",
          "2021-05-24T14:55:23.877",
          "2021-05-25T10:09:32.81",
          "2021-05-25T23:18:10.647",
          "2021-05-25T23:21:55.333",
          "2021-05-26T05:39:30.67",
          "2021-05-28T11:21:25.033",
          "2021-05-28T13:33:13.153",
          "2021-05-29T21:45:02.2",
          "2021-05-30T01:41:31.68",
          "2021-05-30T08:11:59.69",
          "2021-06-02T07:44:14.63",
          "2021-06-02T12:18:46.267",
          "2021-06-02T13:14:26.307",
          "2021-06-02T13:40:25.58",
          "2021-06-02T13:53:43.85",
          "2021-06-02T15:54:57.997",
          "2021-06-02T16:37:04.77",
          "2021-06-03T02:17:04.61",
          "2021-06-03T04:52:06.57",
          "2021-06-03T09:19:09.593",
          "2021-06-03T19:44:17.527",
          "2021-06-04T05:25:16.927",
          "2021-06-04T10:11:48.013",
          "2021-06-08T04:53:56.6",
          "2021-06-08T10:57:39.363"
         ],
         "xaxis": "x",
         "y": [
          0.063,
          0.102,
          0.198,
          0.102,
          0.09,
          0.184,
          0.094,
          0.075,
          0.054,
          0.082,
          0.105,
          0.158,
          0.071,
          0.255,
          0.102,
          0.236,
          0.114,
          0.106,
          0.135,
          0.244,
          0.204,
          0.185,
          0.058,
          0.088,
          0.102,
          0.115,
          0.067,
          0.047,
          0.221,
          0.115,
          0.172,
          0.154,
          0.093,
          0.159,
          0.086,
          0.24,
          0.161,
          0.185,
          0.096,
          0.102,
          0.153,
          0.203,
          0.057,
          0.041,
          0.139,
          0.101,
          0.095,
          0.151,
          0.11,
          0.142,
          0.256,
          0.124,
          0.134,
          0.203,
          0.077,
          0.091,
          0.177,
          0.209,
          0.028,
          0.091,
          0.085,
          0.075,
          0.168,
          0.335,
          0.071,
          0.358,
          0.122,
          0.097,
          0.087,
          0.136,
          0.059,
          0.179,
          0.102,
          0.211,
          0.129,
          0.113,
          0.253,
          0.035,
          0.223,
          0.11,
          0.195,
          0.082,
          0.056,
          0.033,
          0.017,
          0.208,
          0.13,
          0.079,
          0.173,
          0.174,
          0.07,
          0.189,
          0.331,
          0.152,
          0.112,
          0.125,
          0.181,
          0.236,
          0.213,
          0.104,
          0.17,
          0.055,
          0.094,
          0.216,
          0.089,
          0.149,
          0.102,
          0.138,
          0.091,
          0.21,
          0.083,
          0.143,
          0.089,
          0.112,
          0.072,
          0.033,
          0.069,
          0.102,
          0.211,
          0.091,
          0.218,
          0.16,
          0.209,
          0.077,
          0.167,
          0.038,
          0.119,
          0.158,
          0.222,
          0.119,
          0.293,
          0.132,
          0.221,
          0.104,
          0.089,
          0.09,
          0.167,
          0.103,
          0.108,
          0.119,
          0.202,
          0.107,
          0.083,
          0.034,
          0.112,
          0.112,
          0.103,
          0.064,
          0.101,
          0.12,
          0.15,
          0.076,
          0.102,
          0.062,
          0.072,
          0.223,
          0.036,
          0.073,
          0.102,
          0.013,
          0.072,
          0.094,
          0.096,
          0.031,
          0.133,
          0.153,
          0.118,
          0.072,
          0.097,
          0.066,
          0.326,
          0.069,
          0.103,
          0.057,
          0.103,
          0.062,
          0.147,
          0.116,
          0.122,
          0.128,
          0.147,
          0.057,
          0.116,
          0.167,
          0.101,
          0.081,
          0.278,
          0.142,
          0.108,
          0.102,
          0.074,
          0.086,
          0.08,
          0.225,
          0.157,
          0.282,
          0.13,
          0.102,
          0.122,
          0.272,
          0.168,
          0.136,
          0.116,
          0.192,
          0.138,
          0.119,
          0.08,
          0.112,
          0.086,
          0.143,
          0.04,
          0.119,
          0.172,
          0.286,
          0.177,
          0.137,
          0.182,
          0.134,
          0.134,
          0.211,
          0.238,
          0.092,
          0.152,
          0.155,
          0.217,
          0.126,
          0.133,
          0.244,
          0.302,
          0.234,
          0.205,
          0.335,
          0.096,
          0.165,
          0.078,
          0.192,
          0.13,
          0.069,
          0.122,
          0.22,
          0.102,
          0.118,
          0.104,
          0.172,
          0.078,
          0.116,
          0.265,
          0.042,
          0.075,
          0.129,
          0.033,
          0.086,
          0.042,
          0.029,
          0.3,
          0.202,
          0.155,
          0.156,
          0.085,
          0.078,
          0.102,
          0.19,
          0.102,
          0.102,
          0.156,
          0.16,
          0.141,
          0.103,
          0.194,
          0.194,
          0.086,
          0.099,
          0.142,
          0.09,
          0.09,
          0.154,
          0.071,
          0.101,
          0.108,
          0.045,
          0.046,
          0.166,
          0.184,
          0.1,
          0.22,
          0.14,
          0.131,
          0.079,
          0.336,
          0.058,
          0.12,
          0.077,
          0.105,
          0.068,
          0.245,
          0.144,
          0.123,
          0.02,
          0.078,
          0.101,
          0.069,
          0.095,
          0.113,
          0.044,
          0.077,
          0.038,
          0.173,
          0.14,
          0.111,
          0.236,
          0.078,
          0.093,
          0.107,
          0.102,
          0.102,
          0.068,
          0.095,
          0.085,
          0.101,
          0.153,
          0.08,
          0.133,
          0.254,
          0.124,
          0.071,
          0.089,
          0.096,
          0.143,
          0.173,
          0.239,
          0.06,
          0.075,
          0.075,
          0.321,
          0.133,
          0.143,
          0.097,
          0.182,
          0.134,
          0.046,
          0.094,
          0.159,
          0.067,
          0.148,
          0.088,
          0.077,
          0.186,
          0.102,
          0.131,
          0.191,
          0.102,
          0.16,
          0.043,
          0.161,
          0.132,
          0.156,
          0.152,
          0.101,
          0.221,
          0.1,
          0.282,
          0.05,
          0.129,
          0.079,
          0.231,
          0.122,
          0.206,
          0.24,
          0.256,
          0.234,
          0.086,
          0.101,
          0.091,
          0.197,
          0.32,
          0.064,
          0.136,
          0.138,
          0.106,
          0.142,
          0.078,
          0.114,
          0.064,
          0.097,
          0.102,
          0.043,
          0.049,
          0.12,
          0.055,
          0.167,
          0.064,
          0.081,
          0.11,
          0.201,
          0.133,
          0.091,
          0.221,
          0.135,
          0.166,
          0.151,
          0.092,
          0.143,
          0.138,
          0.098,
          0.16,
          0.185,
          0.23,
          0.069,
          0.116,
          0.106,
          0.094,
          0.157,
          0.093,
          0.188,
          0.054,
          0.034,
          0.21,
          0.127,
          0.124,
          0.16,
          0.203,
          0.115,
          0.046,
          0.271,
          0.077,
          0.088,
          0.161,
          0.143,
          0.161,
          0.079,
          0.08,
          0.183,
          0.076,
          0.098,
          0.091,
          0.134,
          0.07,
          0.146,
          0.112,
          0.153,
          0.25,
          0.103,
          0.216,
          0.227,
          0.088,
          0.107,
          0.059,
          0.249,
          0.119,
          0.133,
          0.076,
          0.038,
          0.161,
          0.162,
          0.255,
          0.075,
          0.075,
          0.075,
          0.115,
          0.188,
          0.18,
          0.207,
          0.09,
          0.044,
          0.084,
          0.231,
          0.101,
          0.237,
          0.073,
          0.243,
          0.038,
          0.053,
          0.062,
          0.356,
          0.181,
          0.167,
          0.11,
          0.102,
          0.084,
          0.062,
          0.159,
          0.141,
          0.09,
          0.096,
          0.276,
          0.164,
          0.179,
          0.112,
          0.097,
          0.265,
          0.222,
          0.094,
          0.04,
          0.129,
          0.22,
          0.167,
          0.065,
          0.169,
          0.2,
          0.036,
          0.067,
          0.083,
          0.102,
          0.055,
          0.041,
          0.047,
          0.052,
          0.159,
          0.123,
          0.136,
          0.19,
          0.042,
          0.121,
          0.193,
          0.04,
          0.138,
          0.087,
          0.284,
          0.1,
          0.153,
          0.172,
          0.041,
          0.219,
          0.072,
          0.047,
          0.122,
          0.165,
          0.115,
          0.079,
          0.081,
          0.098,
          0.079,
          0.171,
          0.076,
          0.189,
          0.263,
          0.135,
          0.16,
          0.27,
          0.102,
          0.112,
          0.063,
          0.114,
          0.084,
          0.102,
          0.209,
          0.156,
          0.071,
          0.033,
          0.213,
          0.255,
          0.157,
          0.073,
          0.113,
          0.107,
          0.206,
          0.079,
          0.174,
          0.105,
          0.213,
          0.103,
          0.063,
          0.213,
          0.17,
          0.174,
          0.253,
          0.331,
          0.11,
          0.213,
          0.22,
          0.061,
          0.112,
          0.058,
          0.079,
          0.079,
          0.372,
          0.048,
          0.152,
          0.18,
          0.302,
          0.141,
          0.178,
          0.116,
          0.149,
          0.052,
          0.158,
          0.22,
          0.227,
          0.184,
          0.2,
          0.166,
          0.087,
          0.076,
          0.094,
          0.382,
          0.116,
          0.15,
          0.162,
          0.197,
          0.065,
          0.212,
          0.047,
          0.044,
          0.213,
          0.028,
          0.123,
          0.173,
          0.077,
          0.118,
          0.093,
          0.267,
          0.197,
          0.085,
          0.125,
          0.122,
          0.174,
          0.062,
          0.131,
          0.111,
          0.163,
          0.134,
          0.204,
          0.197,
          0.128,
          0.032,
          0.203,
          0.129,
          0.068,
          0.068,
          0.127,
          0.067,
          0.146,
          0.288,
          0.087,
          0.243,
          0.097,
          0.216,
          0.201,
          0.088,
          0.119,
          0.186,
          0.235,
          0.129,
          0.071,
          0.061,
          0.135,
          0.192,
          0.129,
          0.173,
          0.134,
          0.12,
          0.181,
          0.135,
          0.058,
          0.062,
          0.205,
          0.18,
          0.153,
          0.073,
          0.173,
          0.077,
          0.199,
          0.033,
          0.394,
          0.121,
          0.109,
          0.099,
          0.05,
          0.045,
          0.035,
          0.093,
          0.137,
          0.199,
          0.145,
          0.104,
          0.099,
          0.182,
          0.2,
          0.154,
          0.071,
          0.186,
          0.18,
          0.105,
          0.333,
          0.156,
          0.081,
          0.135,
          0.148,
          0.204,
          0.195,
          0.148,
          0.022,
          0.278,
          0.083,
          0.106,
          0.232,
          0.292,
          0.171,
          0.259,
          0.038,
          0.246,
          0.051,
          0.077,
          0.053,
          0.071,
          0.152,
          0.119,
          0.357,
          0.118,
          0.148,
          0.121,
          0.134,
          0.18,
          0.059,
          0.349,
          0.277,
          0.097,
          0.234,
          0.171,
          0.143,
          0.14,
          0.104,
          0.114,
          0.224,
          0.101,
          0.046,
          0.089,
          0.11,
          0.121,
          0.049,
          0.187,
          0.164,
          0.156,
          0.087,
          0.068,
          0.162,
          0.129,
          0.331,
          0.125,
          0.114,
          0.116,
          0.114,
          0.067,
          0.292,
          0.078,
          0.248,
          0.104,
          0.104,
          0.184,
          0.127,
          0.127,
          0.077,
          0.036,
          0.211,
          0.08,
          0.294,
          0.135,
          0.056,
          0.163,
          0.074,
          0.107,
          0.123,
          0.138,
          0.211,
          0.105,
          0.174,
          0.048,
          0.23,
          0.06
         ],
         "yaxis": "y"
        },
        {
         "hovertemplate": "Sentiment=Negative<br>Post Date=%{x}<br>pos=%{y}<extra></extra>",
         "legendgroup": "Negative",
         "line": {
          "color": "#00cc96",
          "dash": "solid"
         },
         "mode": "lines",
         "name": "Negative",
         "showlegend": true,
         "type": "scattergl",
         "x": [
          "2019-10-14T05:55:32.553",
          "2019-10-14T22:38:08.26",
          "2019-10-21T09:43:33.513",
          "2019-10-21T12:40:40.86",
          "2019-10-23T06:23:11.657",
          "2019-10-24T06:19:46.603",
          "2019-10-24T14:04:33.85",
          "2019-10-25T11:54:33.85",
          "2019-10-30T08:21:45.053",
          "2019-10-30T18:45:20.75",
          "2019-10-31T23:57:45.833",
          "2019-11-01T07:45:56.387",
          "2019-11-10T01:44:11.28",
          "2019-11-14T03:28:57.637",
          "2019-11-18T10:12:47.987",
          "2019-11-20T05:47:36.783",
          "2019-11-29T02:39:25.357",
          "2019-12-03T14:56:05.093",
          "2019-12-03T16:06:57.23",
          "2019-12-09T07:10:55.167",
          "2019-12-10T07:50:29.637",
          "2019-12-10T10:55:22.36",
          "2019-12-12T10:17:39.717",
          "2019-12-20T08:29:43.793",
          "2019-12-21T07:25:05.07",
          "2019-12-24T06:44:49.68",
          "2020-01-03T04:40:24.317",
          "2020-01-05T08:26:52.923",
          "2020-01-14T07:18:24.06",
          "2020-01-16T01:35:18.87",
          "2020-01-20T17:44:58.307",
          "2020-01-24T06:49:45.39",
          "2020-01-29T10:26:02.32",
          "2020-02-03T09:59:10.557",
          "2020-02-03T13:33:12.313",
          "2020-02-05T11:30:08.943",
          "2020-02-11T17:09:02.48",
          "2020-02-12T09:04:32.27",
          "2020-02-12T14:51:42.37",
          "2020-02-14T10:24:51.933",
          "2020-02-26T12:34:35.337",
          "2020-03-04T20:50:43.727",
          "2020-03-10T11:43:30.047",
          "2020-03-17T10:57:57.617",
          "2020-03-17T12:46:10.82",
          "2020-03-17T17:40:54.64",
          "2020-03-30T04:21:56.913",
          "2020-04-09T23:22:33.47",
          "2020-04-14T04:48:03.713",
          "2020-04-14T11:03:59.167",
          "2020-04-16T08:10:59.29",
          "2020-04-16T16:12:38.977",
          "2020-04-16T16:41:02.65",
          "2020-04-23T02:31:29.827",
          "2020-04-23T17:09:27.673",
          "2020-05-05T10:32:52.917",
          "2020-05-06T07:12:28.073",
          "2020-05-06T10:17:41.447",
          "2020-05-07T03:54:23.82",
          "2020-05-07T10:30:47.55",
          "2020-05-12T07:44:49.72",
          "2020-05-13T09:12:49.927",
          "2020-05-13T14:43:08.657",
          "2020-05-14T03:52:10.373",
          "2020-05-14T17:51:27.473",
          "2020-05-19T22:05:27.747",
          "2020-05-20T07:46:08.763",
          "2020-05-22T09:04:36.597",
          "2020-05-24T07:44:59.96",
          "2020-05-25T11:51:41.683",
          "2020-05-25T12:12:56.96",
          "2020-05-28T04:33:45.413",
          "2020-05-28T21:23:28.48",
          "2020-05-31T11:34:13.967",
          "2020-06-01T02:08:55.463",
          "2020-06-02T05:15:07.377",
          "2020-06-08T10:15:40.8",
          "2020-06-17T09:23:08.72",
          "2020-06-17T10:47:18.047",
          "2020-06-19T05:37:59.09",
          "2020-06-29T17:02:31.54",
          "2020-07-06T05:50:50.78",
          "2020-07-06T09:19:59.403",
          "2020-07-10T08:52:51.04",
          "2020-07-11T20:29:03.777",
          "2020-07-13T02:40:11.35",
          "2020-07-17T14:17:43.9",
          "2020-07-20T13:16:24.25",
          "2020-07-21T04:25:05.703",
          "2020-07-21T11:25:17.723",
          "2020-07-24T15:17:29.263",
          "2020-07-31T03:00:29.553",
          "2020-08-01T06:40:03.033",
          "2020-08-02T08:21:09.453",
          "2020-08-06T16:30:31.317",
          "2020-08-11T20:18:22.113",
          "2020-08-14T06:48:55.553",
          "2020-08-17T10:09:37.347",
          "2020-08-18T10:10:32.407",
          "2020-09-03T14:53:10.197",
          "2020-09-04T08:34:40.003",
          "2020-09-08T10:35:57.717",
          "2020-09-09T04:14:26.247",
          "2020-09-09T07:05:09.473",
          "2020-09-09T19:09:12.01",
          "2020-09-11T14:32:09.763",
          "2020-09-22T03:04:06.773",
          "2020-09-22T12:56:21.417",
          "2020-09-23T07:34:25.193",
          "2020-09-27T00:39:00.507",
          "2020-09-30T11:28:12.57",
          "2020-10-05T01:11:31.057",
          "2020-10-05T22:58:21.4",
          "2020-10-07T04:49:35.287",
          "2020-10-07T06:19:26.927",
          "2020-10-08T07:26:39.637",
          "2020-10-08T16:26:59.76",
          "2020-10-09T19:17:29.443",
          "2020-10-13T13:02:42.213",
          "2020-10-13T18:32:15.773",
          "2020-10-16T18:36:31.273",
          "2020-10-19T22:07:38.62",
          "2020-10-20T16:35:09.947",
          "2020-10-21T12:58:42.72",
          "2020-10-21T13:33:08.743",
          "2020-10-21T14:06:01.427",
          "2020-10-28T05:57:09.547",
          "2020-10-28T13:28:28.833",
          "2020-10-28T15:58:04.637",
          "2020-10-29T01:39:26.437",
          "2020-11-02T16:14:49.56",
          "2020-11-09T08:23:02.983",
          "2020-11-11T06:00:38.383",
          "2020-11-12T18:39:57.223",
          "2020-11-13T18:33:05.46",
          "2020-11-18T11:41:37.49",
          "2020-11-19T16:56:39.44",
          "2020-11-25T11:17:47.587",
          "2020-11-25T13:13:05.463",
          "2020-11-26T11:43:14.277",
          "2020-12-02T15:54:46.727",
          "2020-12-03T15:45:18.923",
          "2020-12-06T07:13:50.297",
          "2020-12-08T06:45:13.323",
          "2020-12-08T12:43:05.35",
          "2020-12-11T09:05:13.287",
          "2020-12-16T11:24:45.933",
          "2020-12-16T16:31:08.12",
          "2020-12-21T08:30:12.503",
          "2020-12-22T04:59:41.42",
          "2020-12-23T09:59:10.2",
          "2020-12-28T02:51:24.99",
          "2020-12-28T15:09:46.85",
          "2020-12-29T08:45:35.597",
          "2020-12-29T15:13:04.71",
          "2021-01-09T23:27:17.513",
          "2021-01-12T06:59:45.843",
          "2021-01-12T08:16:59.57",
          "2021-01-12T23:48:05.1",
          "2021-01-15T06:20:18.943",
          "2021-01-16T07:56:33.363",
          "2021-01-18T00:23:54.957",
          "2021-01-20T07:58:12.823",
          "2021-01-21T09:00:33.853",
          "2021-01-27T01:26:58.78",
          "2021-01-27T13:06:46.71",
          "2021-02-03T06:28:55.87",
          "2021-02-03T14:28:38.48",
          "2021-02-05T09:38:55.053",
          "2021-02-08T14:35:14.027",
          "2021-02-10T06:07:45.91",
          "2021-02-10T13:30:52.19",
          "2021-02-16T14:37:14.58",
          "2021-02-17T00:44:34.993",
          "2021-02-26T11:57:02.543",
          "2021-02-27T07:31:29.457",
          "2021-03-03T03:05:35.877",
          "2021-03-03T09:20:39.307",
          "2021-03-03T16:19:15.397",
          "2021-03-04T11:01:28.96",
          "2021-03-06T06:54:56.57",
          "2021-03-09T11:05:19.053",
          "2021-03-09T17:00:23.213",
          "2021-03-16T07:06:57.6",
          "2021-03-16T15:19:27.047",
          "2021-03-19T11:31:47.557",
          "2021-03-22T03:47:12.6",
          "2021-03-24T09:04:13.813",
          "2021-04-07T14:44:07.22",
          "2021-04-09T14:10:26.533",
          "2021-04-10T03:29:32.747",
          "2021-04-10T15:57:59.943",
          "2021-04-20T11:43:36.217",
          "2021-04-22T07:32:19.79",
          "2021-04-30T15:41:33.667",
          "2021-05-06T06:08:48.817",
          "2021-05-06T10:55:46.883",
          "2021-05-11T16:15:01.67",
          "2021-05-14T08:27:02.38",
          "2021-05-17T10:44:03.017",
          "2021-05-17T12:41:24.27",
          "2021-05-18T00:14:22.057",
          "2021-05-19T09:46:33.497",
          "2021-05-23T15:49:03.797",
          "2021-05-25T16:41:37.953",
          "2021-05-27T07:12:50.66",
          "2021-06-03T04:46:03.063",
          "2021-06-04T19:14:13.09"
         ],
         "xaxis": "x",
         "y": [
          0.017,
          0.052,
          0.034,
          0.021,
          0.044,
          0.049,
          0.106,
          0.057,
          0.11,
          0.058,
          0.027,
          0.052,
          0.038,
          0.028,
          0.038,
          0.055,
          0.107,
          0.066,
          0,
          0.026,
          0.049,
          0.042,
          0,
          0,
          0.031,
          0,
          0.113,
          0.038,
          0.102,
          0.016,
          0.079,
          0.046,
          0.033,
          0.058,
          0.017,
          0,
          0.03,
          0.031,
          0.017,
          0.09,
          0,
          0.061,
          0.101,
          0,
          0.073,
          0.022,
          0.078,
          0.095,
          0.068,
          0,
          0.029,
          0,
          0.014,
          0,
          0,
          0,
          0.031,
          0.049,
          0.12,
          0,
          0.115,
          0,
          0.026,
          0,
          0.046,
          0.198,
          0.113,
          0,
          0.065,
          0,
          0,
          0.027,
          0.074,
          0.047,
          0,
          0.029,
          0.045,
          0.028,
          0.046,
          0,
          0,
          0.014,
          0,
          0.015,
          0.043,
          0.051,
          0.092,
          0.039,
          0,
          0.065,
          0.028,
          0.058,
          0.041,
          0.091,
          0.048,
          0.142,
          0.106,
          0.056,
          0.064,
          0,
          0.052,
          0.049,
          0.053,
          0.049,
          0.026,
          0.053,
          0,
          0.018,
          0.042,
          0.04,
          0.024,
          0.065,
          0.077,
          0,
          0,
          0.034,
          0.036,
          0,
          0,
          0.037,
          0.012,
          0.045,
          0.033,
          0.043,
          0.082,
          0.077,
          0.159,
          0,
          0.038,
          0.048,
          0,
          0.041,
          0,
          0.027,
          0.043,
          0.066,
          0.042,
          0.103,
          0.059,
          0.126,
          0.092,
          0,
          0.107,
          0.066,
          0.063,
          0.014,
          0.062,
          0,
          0.041,
          0.11,
          0.032,
          0.087,
          0.052,
          0,
          0,
          0.069,
          0,
          0.079,
          0.094,
          0.204,
          0.105,
          0.055,
          0.14,
          0,
          0.059,
          0.034,
          0.107,
          0.039,
          0.058,
          0.059,
          0,
          0.049,
          0.192,
          0.015,
          0,
          0.107,
          0.03,
          0,
          0,
          0.054,
          0.048,
          0.024,
          0,
          0,
          0.066,
          0,
          0.057,
          0.108,
          0.066,
          0.035,
          0.07,
          0.039,
          0.129,
          0.078,
          0.03,
          0.115,
          0.072,
          0.092,
          0.042,
          0.076,
          0.032,
          0.102,
          0,
          0.092,
          0.016,
          0,
          0.1,
          0.02
         ],
         "yaxis": "y"
        }
       ],
       "layout": {
        "legend": {
         "title": {
          "text": "Sentiment"
         },
         "tracegroupgap": 0
        },
        "margin": {
         "t": 60
        },
        "template": {
         "data": {
          "bar": [
           {
            "error_x": {
             "color": "#2a3f5f"
            },
            "error_y": {
             "color": "#2a3f5f"
            },
            "marker": {
             "line": {
              "color": "#E5ECF6",
              "width": 0.5
             }
            },
            "type": "bar"
           }
          ],
          "barpolar": [
           {
            "marker": {
             "line": {
              "color": "#E5ECF6",
              "width": 0.5
             }
            },
            "type": "barpolar"
           }
          ],
          "carpet": [
           {
            "aaxis": {
             "endlinecolor": "#2a3f5f",
             "gridcolor": "white",
             "linecolor": "white",
             "minorgridcolor": "white",
             "startlinecolor": "#2a3f5f"
            },
            "baxis": {
             "endlinecolor": "#2a3f5f",
             "gridcolor": "white",
             "linecolor": "white",
             "minorgridcolor": "white",
             "startlinecolor": "#2a3f5f"
            },
            "type": "carpet"
           }
          ],
          "choropleth": [
           {
            "colorbar": {
             "outlinewidth": 0,
             "ticks": ""
            },
            "type": "choropleth"
           }
          ],
          "contour": [
           {
            "colorbar": {
             "outlinewidth": 0,
             "ticks": ""
            },
            "colorscale": [
             [
              0,
              "#0d0887"
             ],
             [
              0.1111111111111111,
              "#46039f"
             ],
             [
              0.2222222222222222,
              "#7201a8"
             ],
             [
              0.3333333333333333,
              "#9c179e"
             ],
             [
              0.4444444444444444,
              "#bd3786"
             ],
             [
              0.5555555555555556,
              "#d8576b"
             ],
             [
              0.6666666666666666,
              "#ed7953"
             ],
             [
              0.7777777777777778,
              "#fb9f3a"
             ],
             [
              0.8888888888888888,
              "#fdca26"
             ],
             [
              1,
              "#f0f921"
             ]
            ],
            "type": "contour"
           }
          ],
          "contourcarpet": [
           {
            "colorbar": {
             "outlinewidth": 0,
             "ticks": ""
            },
            "type": "contourcarpet"
           }
          ],
          "heatmap": [
           {
            "colorbar": {
             "outlinewidth": 0,
             "ticks": ""
            },
            "colorscale": [
             [
              0,
              "#0d0887"
             ],
             [
              0.1111111111111111,
              "#46039f"
             ],
             [
              0.2222222222222222,
              "#7201a8"
             ],
             [
              0.3333333333333333,
              "#9c179e"
             ],
             [
              0.4444444444444444,
              "#bd3786"
             ],
             [
              0.5555555555555556,
              "#d8576b"
             ],
             [
              0.6666666666666666,
              "#ed7953"
             ],
             [
              0.7777777777777778,
              "#fb9f3a"
             ],
             [
              0.8888888888888888,
              "#fdca26"
             ],
             [
              1,
              "#f0f921"
             ]
            ],
            "type": "heatmap"
           }
          ],
          "heatmapgl": [
           {
            "colorbar": {
             "outlinewidth": 0,
             "ticks": ""
            },
            "colorscale": [
             [
              0,
              "#0d0887"
             ],
             [
              0.1111111111111111,
              "#46039f"
             ],
             [
              0.2222222222222222,
              "#7201a8"
             ],
             [
              0.3333333333333333,
              "#9c179e"
             ],
             [
              0.4444444444444444,
              "#bd3786"
             ],
             [
              0.5555555555555556,
              "#d8576b"
             ],
             [
              0.6666666666666666,
              "#ed7953"
             ],
             [
              0.7777777777777778,
              "#fb9f3a"
             ],
             [
              0.8888888888888888,
              "#fdca26"
             ],
             [
              1,
              "#f0f921"
             ]
            ],
            "type": "heatmapgl"
           }
          ],
          "histogram": [
           {
            "marker": {
             "colorbar": {
              "outlinewidth": 0,
              "ticks": ""
             }
            },
            "type": "histogram"
           }
          ],
          "histogram2d": [
           {
            "colorbar": {
             "outlinewidth": 0,
             "ticks": ""
            },
            "colorscale": [
             [
              0,
              "#0d0887"
             ],
             [
              0.1111111111111111,
              "#46039f"
             ],
             [
              0.2222222222222222,
              "#7201a8"
             ],
             [
              0.3333333333333333,
              "#9c179e"
             ],
             [
              0.4444444444444444,
              "#bd3786"
             ],
             [
              0.5555555555555556,
              "#d8576b"
             ],
             [
              0.6666666666666666,
              "#ed7953"
             ],
             [
              0.7777777777777778,
              "#fb9f3a"
             ],
             [
              0.8888888888888888,
              "#fdca26"
             ],
             [
              1,
              "#f0f921"
             ]
            ],
            "type": "histogram2d"
           }
          ],
          "histogram2dcontour": [
           {
            "colorbar": {
             "outlinewidth": 0,
             "ticks": ""
            },
            "colorscale": [
             [
              0,
              "#0d0887"
             ],
             [
              0.1111111111111111,
              "#46039f"
             ],
             [
              0.2222222222222222,
              "#7201a8"
             ],
             [
              0.3333333333333333,
              "#9c179e"
             ],
             [
              0.4444444444444444,
              "#bd3786"
             ],
             [
              0.5555555555555556,
              "#d8576b"
             ],
             [
              0.6666666666666666,
              "#ed7953"
             ],
             [
              0.7777777777777778,
              "#fb9f3a"
             ],
             [
              0.8888888888888888,
              "#fdca26"
             ],
             [
              1,
              "#f0f921"
             ]
            ],
            "type": "histogram2dcontour"
           }
          ],
          "mesh3d": [
           {
            "colorbar": {
             "outlinewidth": 0,
             "ticks": ""
            },
            "type": "mesh3d"
           }
          ],
          "parcoords": [
           {
            "line": {
             "colorbar": {
              "outlinewidth": 0,
              "ticks": ""
             }
            },
            "type": "parcoords"
           }
          ],
          "pie": [
           {
            "automargin": true,
            "type": "pie"
           }
          ],
          "scatter": [
           {
            "marker": {
             "colorbar": {
              "outlinewidth": 0,
              "ticks": ""
             }
            },
            "type": "scatter"
           }
          ],
          "scatter3d": [
           {
            "line": {
             "colorbar": {
              "outlinewidth": 0,
              "ticks": ""
             }
            },
            "marker": {
             "colorbar": {
              "outlinewidth": 0,
              "ticks": ""
             }
            },
            "type": "scatter3d"
           }
          ],
          "scattercarpet": [
           {
            "marker": {
             "colorbar": {
              "outlinewidth": 0,
              "ticks": ""
             }
            },
            "type": "scattercarpet"
           }
          ],
          "scattergeo": [
           {
            "marker": {
             "colorbar": {
              "outlinewidth": 0,
              "ticks": ""
             }
            },
            "type": "scattergeo"
           }
          ],
          "scattergl": [
           {
            "marker": {
             "colorbar": {
              "outlinewidth": 0,
              "ticks": ""
             }
            },
            "type": "scattergl"
           }
          ],
          "scattermapbox": [
           {
            "marker": {
             "colorbar": {
              "outlinewidth": 0,
              "ticks": ""
             }
            },
            "type": "scattermapbox"
           }
          ],
          "scatterpolar": [
           {
            "marker": {
             "colorbar": {
              "outlinewidth": 0,
              "ticks": ""
             }
            },
            "type": "scatterpolar"
           }
          ],
          "scatterpolargl": [
           {
            "marker": {
             "colorbar": {
              "outlinewidth": 0,
              "ticks": ""
             }
            },
            "type": "scatterpolargl"
           }
          ],
          "scatterternary": [
           {
            "marker": {
             "colorbar": {
              "outlinewidth": 0,
              "ticks": ""
             }
            },
            "type": "scatterternary"
           }
          ],
          "surface": [
           {
            "colorbar": {
             "outlinewidth": 0,
             "ticks": ""
            },
            "colorscale": [
             [
              0,
              "#0d0887"
             ],
             [
              0.1111111111111111,
              "#46039f"
             ],
             [
              0.2222222222222222,
              "#7201a8"
             ],
             [
              0.3333333333333333,
              "#9c179e"
             ],
             [
              0.4444444444444444,
              "#bd3786"
             ],
             [
              0.5555555555555556,
              "#d8576b"
             ],
             [
              0.6666666666666666,
              "#ed7953"
             ],
             [
              0.7777777777777778,
              "#fb9f3a"
             ],
             [
              0.8888888888888888,
              "#fdca26"
             ],
             [
              1,
              "#f0f921"
             ]
            ],
            "type": "surface"
           }
          ],
          "table": [
           {
            "cells": {
             "fill": {
              "color": "#EBF0F8"
             },
             "line": {
              "color": "white"
             }
            },
            "header": {
             "fill": {
              "color": "#C8D4E3"
             },
             "line": {
              "color": "white"
             }
            },
            "type": "table"
           }
          ]
         },
         "layout": {
          "annotationdefaults": {
           "arrowcolor": "#2a3f5f",
           "arrowhead": 0,
           "arrowwidth": 1
          },
          "autotypenumbers": "strict",
          "coloraxis": {
           "colorbar": {
            "outlinewidth": 0,
            "ticks": ""
           }
          },
          "colorscale": {
           "diverging": [
            [
             0,
             "#8e0152"
            ],
            [
             0.1,
             "#c51b7d"
            ],
            [
             0.2,
             "#de77ae"
            ],
            [
             0.3,
             "#f1b6da"
            ],
            [
             0.4,
             "#fde0ef"
            ],
            [
             0.5,
             "#f7f7f7"
            ],
            [
             0.6,
             "#e6f5d0"
            ],
            [
             0.7,
             "#b8e186"
            ],
            [
             0.8,
             "#7fbc41"
            ],
            [
             0.9,
             "#4d9221"
            ],
            [
             1,
             "#276419"
            ]
           ],
           "sequential": [
            [
             0,
             "#0d0887"
            ],
            [
             0.1111111111111111,
             "#46039f"
            ],
            [
             0.2222222222222222,
             "#7201a8"
            ],
            [
             0.3333333333333333,
             "#9c179e"
            ],
            [
             0.4444444444444444,
             "#bd3786"
            ],
            [
             0.5555555555555556,
             "#d8576b"
            ],
            [
             0.6666666666666666,
             "#ed7953"
            ],
            [
             0.7777777777777778,
             "#fb9f3a"
            ],
            [
             0.8888888888888888,
             "#fdca26"
            ],
            [
             1,
             "#f0f921"
            ]
           ],
           "sequentialminus": [
            [
             0,
             "#0d0887"
            ],
            [
             0.1111111111111111,
             "#46039f"
            ],
            [
             0.2222222222222222,
             "#7201a8"
            ],
            [
             0.3333333333333333,
             "#9c179e"
            ],
            [
             0.4444444444444444,
             "#bd3786"
            ],
            [
             0.5555555555555556,
             "#d8576b"
            ],
            [
             0.6666666666666666,
             "#ed7953"
            ],
            [
             0.7777777777777778,
             "#fb9f3a"
            ],
            [
             0.8888888888888888,
             "#fdca26"
            ],
            [
             1,
             "#f0f921"
            ]
           ]
          },
          "colorway": [
           "#636efa",
           "#EF553B",
           "#00cc96",
           "#ab63fa",
           "#FFA15A",
           "#19d3f3",
           "#FF6692",
           "#B6E880",
           "#FF97FF",
           "#FECB52"
          ],
          "font": {
           "color": "#2a3f5f"
          },
          "geo": {
           "bgcolor": "white",
           "lakecolor": "white",
           "landcolor": "#E5ECF6",
           "showlakes": true,
           "showland": true,
           "subunitcolor": "white"
          },
          "hoverlabel": {
           "align": "left"
          },
          "hovermode": "closest",
          "mapbox": {
           "style": "light"
          },
          "paper_bgcolor": "white",
          "plot_bgcolor": "#E5ECF6",
          "polar": {
           "angularaxis": {
            "gridcolor": "white",
            "linecolor": "white",
            "ticks": ""
           },
           "bgcolor": "#E5ECF6",
           "radialaxis": {
            "gridcolor": "white",
            "linecolor": "white",
            "ticks": ""
           }
          },
          "scene": {
           "xaxis": {
            "backgroundcolor": "#E5ECF6",
            "gridcolor": "white",
            "gridwidth": 2,
            "linecolor": "white",
            "showbackground": true,
            "ticks": "",
            "zerolinecolor": "white"
           },
           "yaxis": {
            "backgroundcolor": "#E5ECF6",
            "gridcolor": "white",
            "gridwidth": 2,
            "linecolor": "white",
            "showbackground": true,
            "ticks": "",
            "zerolinecolor": "white"
           },
           "zaxis": {
            "backgroundcolor": "#E5ECF6",
            "gridcolor": "white",
            "gridwidth": 2,
            "linecolor": "white",
            "showbackground": true,
            "ticks": "",
            "zerolinecolor": "white"
           }
          },
          "shapedefaults": {
           "line": {
            "color": "#2a3f5f"
           }
          },
          "ternary": {
           "aaxis": {
            "gridcolor": "white",
            "linecolor": "white",
            "ticks": ""
           },
           "baxis": {
            "gridcolor": "white",
            "linecolor": "white",
            "ticks": ""
           },
           "bgcolor": "#E5ECF6",
           "caxis": {
            "gridcolor": "white",
            "linecolor": "white",
            "ticks": ""
           }
          },
          "title": {
           "x": 0.05
          },
          "xaxis": {
           "automargin": true,
           "gridcolor": "white",
           "linecolor": "white",
           "ticks": "",
           "title": {
            "standoff": 15
           },
           "zerolinecolor": "white",
           "zerolinewidth": 2
          },
          "yaxis": {
           "automargin": true,
           "gridcolor": "white",
           "linecolor": "white",
           "ticks": "",
           "title": {
            "standoff": 15
           },
           "zerolinecolor": "white",
           "zerolinewidth": 2
          }
         }
        },
        "xaxis": {
         "anchor": "y",
         "domain": [
          0,
          1
         ],
         "title": {
          "text": "Post Date"
         }
        },
        "yaxis": {
         "anchor": "x",
         "domain": [
          0,
          1
         ],
         "title": {
          "text": "pos"
         }
        }
       }
      },
      "text/html": [
       "<div>                            <div id=\"9f5d5f33-26b9-477e-aea2-6374557deb5b\" class=\"plotly-graph-div\" style=\"height:525px; width:100%;\"></div>            <script type=\"text/javascript\">                require([\"plotly\"], function(Plotly) {                    window.PLOTLYENV=window.PLOTLYENV || {};                                    if (document.getElementById(\"9f5d5f33-26b9-477e-aea2-6374557deb5b\")) {                    Plotly.newPlot(                        \"9f5d5f33-26b9-477e-aea2-6374557deb5b\",                        [{\"hovertemplate\": \"Sentiment=Neutral<br>Post Date=%{x}<br>pos=%{y}<extra></extra>\", \"legendgroup\": \"Neutral\", \"line\": {\"color\": \"#636efa\", \"dash\": \"solid\"}, \"mode\": \"lines\", \"name\": \"Neutral\", \"showlegend\": true, \"type\": \"scattergl\", \"x\": [\"2019-10-10T05:58:05.73\", \"2019-10-11T14:24:15.807\", \"2019-10-23T03:37:35.103\", \"2019-10-23T12:09:17.84\", \"2019-11-12T00:41:34.433\", \"2019-11-13T03:30:36.293\", \"2019-11-14T11:29:20.21\", \"2019-11-20T10:36:40.83\", \"2019-11-21T13:38:42.807\", \"2019-12-09T10:45:09.32\", \"2019-12-11T11:57:54.773\", \"2019-12-18T14:19:48.24\", \"2019-12-24T07:53:51.783\", \"2019-12-27T18:14:34.557\", \"2020-01-07T13:43:06.053\", \"2020-01-11T05:17:09.423\", \"2020-01-14T07:36:27.793\", \"2020-01-15T13:11:10.033\", \"2020-01-16T20:37:57.323\", \"2020-01-20T07:01:58.37\", \"2020-01-22T15:21:03.853\", \"2020-01-23T09:12:43.07\", \"2020-01-24T15:38:37.98\", \"2020-01-29T01:21:00.2\", \"2020-02-04T20:18:44.27\", \"2020-02-05T15:34:55.653\", \"2020-02-12T18:31:25.547\", \"2020-02-14T11:00:46.067\", \"2020-02-18T09:57:28.06\", \"2020-02-20T09:07:37.297\", \"2020-02-26T09:59:17.067\", \"2020-02-28T04:40:42.623\", \"2020-03-10T07:07:09.317\", \"2020-03-10T13:47:55.803\", \"2020-03-11T12:02:24.97\", \"2020-03-20T09:52:08.827\", \"2020-04-03T01:06:02.82\", \"2020-04-07T16:29:10.43\", \"2020-04-24T09:15:41.46\", \"2020-04-27T03:25:15.807\", \"2020-05-03T16:49:31.43\", \"2020-05-13T15:13:24.907\", \"2020-05-14T09:38:15.473\", \"2020-05-19T13:23:05.93\", \"2020-05-22T12:43:12.977\", \"2020-05-27T08:09:30.657\", \"2020-05-28T11:43:06.343\", \"2020-05-31T21:49:48.113\", \"2020-06-01T07:06:15.03\", \"2020-06-03T08:38:37.627\", \"2020-06-17T10:39:43.347\", \"2020-06-21T05:58:52.79\", \"2020-07-01T03:24:12.553\", \"2020-07-02T16:17:26.273\", \"2020-07-09T15:25:26.863\", \"2020-07-21T10:23:05.597\", \"2020-07-24T02:00:04.097\", \"2020-08-11T06:23:35.727\", \"2020-08-13T05:21:38.977\", \"2020-08-13T14:00:56.303\", \"2020-08-17T17:09:22.07\", \"2020-08-27T04:28:56.903\", \"2020-09-01T12:00:23.027\", \"2020-09-03T15:16:17.96\", \"2020-09-08T05:00:37.097\", \"2020-09-10T06:34:35.72\", \"2020-09-20T12:16:21.403\", \"2020-09-21T16:37:39.7\", \"2020-09-29T18:14:05.84\", \"2020-09-29T18:29:04.81\", \"2020-10-02T09:26:32.68\", \"2020-10-15T14:35:43.96\", \"2020-10-16T13:34:13.343\", \"2020-10-22T13:47:42.993\", \"2020-10-22T17:19:54.477\", \"2020-10-27T16:57:39.52\", \"2020-10-29T11:10:06.717\", \"2020-11-02T09:41:44.807\", \"2020-11-05T12:22:50.65\", \"2020-11-05T13:57:09.393\", \"2020-11-11T11:27:29.283\", \"2020-11-16T02:39:45.893\", \"2020-11-18T06:54:44.173\", \"2020-11-19T12:44:09.52\", \"2020-11-20T10:05:42.53\", \"2020-11-24T16:02:26.117\", \"2020-11-25T11:59:22.583\", \"2020-12-06T22:33:26.473\", \"2020-12-10T16:45:56.92\", \"2020-12-27T01:57:08.607\", \"2020-12-29T11:55:09.773\", \"2021-01-11T05:30:23.477\", \"2021-01-12T09:52:23.923\", \"2021-01-16T04:10:22.447\", \"2021-01-19T14:58:12.793\", \"2021-01-29T09:32:23.31\", \"2021-02-02T02:54:29.54\", \"2021-02-03T04:07:38.773\", \"2021-02-05T01:44:05.203\", \"2021-02-24T07:45:06.977\", \"2021-03-09T07:01:54.71\", \"2021-03-18T02:51:39.69\", \"2021-03-18T13:51:25.81\", \"2021-03-25T14:46:51.637\", \"2021-04-09T18:43:03.997\", \"2021-04-22T16:37:41.357\", \"2021-04-23T09:14:59.607\", \"2021-04-27T16:38:41.177\", \"2021-05-10T14:33:41.143\"], \"xaxis\": \"x\", \"y\": [0.064, 0.0, 0.0, 0.056, 0.0, 0.0, 0.0, 0.038, 0.0, 0.0, 0.0, 0.0, 0.0, 0.0, 0.0, 0.0, 0.0, 0.0, 0.0, 0.0, 0.052, 0.0, 0.0, 0.0, 0.0, 0.0, 0.055, 0.043, 0.022, 0.0, 0.0, 0.0, 0.0, 0.0, 0.0, 0.0, 0.0, 0.0, 0.0, 0.0, 0.0, 0.0, 0.0, 0.0, 0.054, 0.0, 0.0, 0.16, 0.0, 0.0, 0.0, 0.0, 0.0, 0.032, 0.0, 0.022, 0.0, 0.0, 0.051, 0.0, 0.179, 0.0, 0.0, 0.0, 0.0, 0.112, 0.0, 0.0, 0.0, 0.0, 0.01, 0.0, 0.0, 0.0, 0.0, 0.0, 0.0, 0.0, 0.0, 0.0, 0.11, 0.0, 0.056, 0.0, 0.055, 0.095, 0.0, 0.0, 0.0, 0.103, 0.0, 0.0, 0.09, 0.0, 0.0, 0.0, 0.025, 0.061, 0.0, 0.0, 0.0, 0.0, 0.0, 0.0, 0.092, 0.0, 0.0, 0.0, 0.0], \"yaxis\": \"y\"}, {\"hovertemplate\": \"Sentiment=Positive<br>Post Date=%{x}<br>pos=%{y}<extra></extra>\", \"legendgroup\": \"Positive\", \"line\": {\"color\": \"#EF553B\", \"dash\": \"solid\"}, \"mode\": \"lines\", \"name\": \"Positive\", \"showlegend\": true, \"type\": \"scattergl\", \"x\": [\"2019-10-10T12:44:35.957\", \"2019-10-10T14:56:52.947\", \"2019-10-10T15:41:06.877\", \"2019-10-10T20:56:53.483\", \"2019-10-11T13:10:28.983\", \"2019-10-11T16:02:41.787\", \"2019-10-13T20:01:08.897\", \"2019-10-14T08:33:18.01\", \"2019-10-16T11:20:54.023\", \"2019-10-16T14:12:45.5\", \"2019-10-17T09:14:34.753\", \"2019-10-17T10:16:15.513\", \"2019-10-17T12:09:02.91\", \"2019-10-17T23:59:14.523\", \"2019-10-18T14:58:06.717\", \"2019-10-21T06:08:38.347\", \"2019-10-21T16:06:55.323\", \"2019-10-22T08:16:13.563\", \"2019-10-22T16:27:23.92\", \"2019-10-22T18:07:48.827\", \"2019-10-23T08:20:38.087\", \"2019-10-23T11:38:26.887\", \"2019-10-24T04:42:08.237\", \"2019-10-24T09:59:56.077\", \"2019-10-24T16:34:04.713\", \"2019-10-28T15:36:47.907\", \"2019-10-29T06:01:19.783\", \"2019-10-29T10:29:47.95\", \"2019-10-29T16:46:32.203\", \"2019-10-29T17:04:40.463\", \"2019-10-30T04:45:07.257\", \"2019-10-30T15:33:07.45\", \"2019-10-30T18:41:07.37\", \"2019-10-31T12:35:06.993\", \"2019-11-01T07:44:02.54\", \"2019-11-04T17:47:37.86\", \"2019-11-06T06:04:59.007\", \"2019-11-06T10:08:50.95\", \"2019-11-06T10:27:39.52\", \"2019-11-08T20:33:59.89\", \"2019-11-09T11:37:29.693\", \"2019-11-11T05:59:42.987\", \"2019-11-11T11:39:44.857\", \"2019-11-11T13:02:34.017\", \"2019-11-12T18:42:03.247\", \"2019-11-13T09:35:33.91\", \"2019-11-13T23:52:26.683\", \"2019-11-14T06:03:35.53\", \"2019-11-14T09:45:03.713\", \"2019-11-14T13:10:08.303\", \"2019-11-18T04:12:03.657\", \"2019-11-18T15:17:49.503\", \"2019-11-18T16:11:15.36\", \"2019-11-18T17:18:32.137\", \"2019-11-18T19:25:44.17\", \"2019-11-19T02:48:28.417\", \"2019-11-19T10:27:37.423\", \"2019-11-19T11:00:35.74\", \"2019-11-19T20:00:10.803\", \"2019-11-20T12:24:54.847\", \"2019-11-21T00:07:58.053\", \"2019-11-21T14:08:12.47\", \"2019-11-21T18:13:29.69\", \"2019-11-22T07:29:58.45\", \"2019-11-22T12:44:01.59\", \"2019-11-23T12:26:35.197\", \"2019-11-26T08:17:12.663\", \"2019-11-27T10:39:18.173\", \"2019-11-27T21:15:11.89\", \"2019-11-28T04:58:07.76\", \"2019-12-02T07:06:03.57\", \"2019-12-02T15:42:44.927\", \"2019-12-02T21:04:51.46\", \"2019-12-03T07:56:40.55\", \"2019-12-03T10:45:44.023\", \"2019-12-04T11:59:55.687\", \"2019-12-05T11:04:33.51\", \"2019-12-05T12:28:17.997\", \"2019-12-09T07:25:39.22\", \"2019-12-09T10:53:03.993\", \"2019-12-09T12:45:56.217\", \"2019-12-10T08:52:36.997\", \"2019-12-10T10:14:02.33\", \"2019-12-10T11:53:33.71\", \"2019-12-10T18:25:49.657\", \"2019-12-11T11:26:46.79\", \"2019-12-12T11:05:43.68\", \"2019-12-13T09:43:03.027\", \"2019-12-17T03:54:27.833\", \"2019-12-17T05:30:55.173\", \"2019-12-17T09:31:11.343\", \"2019-12-17T11:21:51.1\", \"2019-12-17T12:36:10.797\", \"2019-12-17T22:05:31.297\", \"2019-12-18T02:18:53.803\", \"2019-12-18T04:43:33.147\", \"2019-12-18T07:43:12.083\", \"2019-12-20T14:25:22.243\", \"2019-12-21T07:31:20.647\", \"2019-12-26T08:18:44.133\", \"2019-12-26T11:59:21.053\", \"2019-12-28T03:55:55.687\", \"2019-12-30T13:08:12.05\", \"2019-12-30T13:53:51.783\", \"2020-01-02T06:49:33.107\", \"2020-01-02T09:53:02.633\", \"2020-01-02T16:36:17.35\", \"2020-01-03T12:08:04.033\", \"2020-01-03T16:41:12.803\", \"2020-01-06T12:19:26.157\", \"2020-01-06T17:04:29.283\", \"2020-01-06T17:40:07.413\", \"2020-01-07T04:10:45.22\", \"2020-01-07T04:51:00.893\", \"2020-01-07T10:24:06.313\", \"2020-01-07T11:18:19.473\", \"2020-01-07T15:38:23.8\", \"2020-01-07T16:18:56.733\", \"2020-01-08T16:28:49.287\", \"2020-01-09T01:31:01.17\", \"2020-01-09T06:33:51.44\", \"2020-01-09T12:05:38.153\", \"2020-01-10T15:06:17.673\", \"2020-01-10T15:54:12.933\", \"2020-01-13T12:21:50.72\", \"2020-01-13T13:00:29.71\", \"2020-01-14T15:06:33.63\", \"2020-01-15T04:12:20.593\", \"2020-01-15T09:52:42.417\", \"2020-01-15T19:14:38.547\", \"2020-01-16T10:00:09.903\", \"2020-01-16T17:27:43.697\", \"2020-01-18T01:12:31.457\", \"2020-01-18T07:43:39.573\", \"2020-01-20T00:07:25.07\", \"2020-01-20T06:57:25.193\", \"2020-01-20T06:59:28.963\", \"2020-01-20T14:25:20.393\", \"2020-01-20T14:45:16.097\", \"2020-01-22T15:07:27.347\", \"2020-01-23T08:30:02.617\", \"2020-01-25T16:27:33.3\", \"2020-01-27T12:47:35.913\", \"2020-01-27T13:06:07.103\", \"2020-01-27T19:11:17.547\", \"2020-01-30T18:43:33.303\", \"2020-01-31T00:48:04.5\", \"2020-01-31T08:03:58.81\", \"2020-02-01T05:35:29.75\", \"2020-02-02T13:10:27.66\", \"2020-02-02T17:09:13.667\", \"2020-02-03T04:12:16.153\", \"2020-02-04T09:46:39.103\", \"2020-02-05T12:57:51.92\", \"2020-02-07T10:19:14.993\", \"2020-02-10T12:07:23.167\", \"2020-02-10T12:23:06.927\", \"2020-02-10T12:51:43.717\", \"2020-02-10T17:12:39.753\", \"2020-02-11T17:58:49.54\", \"2020-02-12T06:28:17.963\", \"2020-02-12T14:03:31.393\", \"2020-02-12T15:16:51.137\", \"2020-02-13T04:33:31.503\", \"2020-02-13T07:03:33.427\", \"2020-02-17T16:50:09.627\", \"2020-02-18T02:27:54.503\", \"2020-02-18T10:33:31.103\", \"2020-02-18T11:09:26.847\", \"2020-02-20T18:55:20.497\", \"2020-02-21T04:19:57.7\", \"2020-02-21T06:32:06.093\", \"2020-02-21T12:36:02.74\", \"2020-02-21T13:01:12.36\", \"2020-02-21T18:07:34.15\", \"2020-02-23T02:07:04.06\", \"2020-02-24T05:14:04.183\", \"2020-02-24T09:39:05.69\", \"2020-02-24T15:46:47.507\", \"2020-02-25T03:52:03.343\", \"2020-02-26T16:38:14.707\", \"2020-02-27T12:11:29.997\", \"2020-02-28T10:58:22.157\", \"2020-02-28T12:00:12.227\", \"2020-02-28T12:41:38.88\", \"2020-02-29T01:03:40.683\", \"2020-03-01T02:40:06.913\", \"2020-03-01T10:01:48.487\", \"2020-03-01T23:59:56.043\", \"2020-03-02T14:28:29.457\", \"2020-03-03T00:00:27.147\", \"2020-03-03T04:30:14.143\", \"2020-03-03T06:44:29.51\", \"2020-03-03T07:23:34.21\", \"2020-03-04T03:34:45.237\", \"2020-03-04T10:43:21.66\", \"2020-03-05T20:40:47.497\", \"2020-03-06T16:53:23.053\", \"2020-03-07T06:36:24.19\", \"2020-03-08T12:22:18.35\", \"2020-03-08T18:22:20.403\", \"2020-03-09T07:47:26.907\", \"2020-03-10T02:49:49.197\", \"2020-03-12T03:22:56.907\", \"2020-03-12T05:01:18.27\", \"2020-03-12T09:32:11.43\", \"2020-03-12T16:24:51.943\", \"2020-03-13T02:20:48.573\", \"2020-03-13T18:05:09.727\", \"2020-03-16T05:51:59.12\", \"2020-03-16T13:41:01.863\", \"2020-03-17T01:11:48.753\", \"2020-03-17T02:14:25.67\", \"2020-03-17T11:01:28.317\", \"2020-03-18T06:06:20.797\", \"2020-03-19T09:31:32.573\", \"2020-03-20T09:02:42.493\", \"2020-03-22T12:10:06.073\", \"2020-03-22T23:11:53.447\", \"2020-03-23T11:06:50.057\", \"2020-03-23T23:34:21.613\", \"2020-03-24T16:40:36.357\", \"2020-03-25T05:31:26.553\", \"2020-03-25T13:28:17.627\", \"2020-03-25T13:53:46.49\", \"2020-03-27T09:21:56.483\", \"2020-03-28T01:28:47.883\", \"2020-03-30T09:08:24.897\", \"2020-03-30T15:21:41.037\", \"2020-03-30T21:20:56.607\", \"2020-03-31T11:25:34.507\", \"2020-03-31T13:27:36.39\", \"2020-04-01T16:02:10.643\", \"2020-04-02T00:43:12.03\", \"2020-04-07T12:32:04.843\", \"2020-04-08T00:15:17.853\", \"2020-04-08T03:50:11.817\", \"2020-04-08T10:13:33.427\", \"2020-04-08T18:27:22.337\", \"2020-04-10T09:08:10.833\", \"2020-04-10T19:21:56.537\", \"2020-04-13T10:16:13.573\", \"2020-04-13T12:45:52.543\", \"2020-04-13T14:36:36.72\", \"2020-04-14T08:25:03.7\", \"2020-04-15T05:26:43.887\", \"2020-04-16T17:32:12.887\", \"2020-04-17T17:21:10.267\", \"2020-04-17T18:09:09.38\", \"2020-04-17T19:28:32.667\", \"2020-04-20T06:46:13.263\", \"2020-04-20T09:45:40.793\", \"2020-04-21T06:43:58.953\", \"2020-04-22T17:52:12.143\", \"2020-04-23T11:51:48.66\", \"2020-04-23T12:48:56.067\", \"2020-04-23T13:42:27.423\", \"2020-04-23T19:33:37.777\", \"2020-04-24T12:08:53.497\", \"2020-04-24T17:33:44.47\", \"2020-04-27T11:04:11.827\", \"2020-04-27T12:09:32.6\", \"2020-04-28T14:16:24.483\", \"2020-04-28T14:23:25.457\", \"2020-04-28T14:54:09.24\", \"2020-04-28T15:58:10.627\", \"2020-04-29T06:42:53.09\", \"2020-04-29T11:08:12.53\", \"2020-04-30T10:03:05.167\", \"2020-05-01T07:55:41.06\", \"2020-05-01T13:27:08.093\", \"2020-05-01T18:13:11.793\", \"2020-05-05T07:56:04.453\", \"2020-05-05T08:43:05.083\", \"2020-05-05T19:02:17.003\", \"2020-05-06T01:58:51.927\", \"2020-05-06T09:55:41.613\", \"2020-05-06T11:33:27.64\", \"2020-05-07T07:48:02.343\", \"2020-05-07T14:40:24.16\", \"2020-05-07T17:22:42.663\", \"2020-05-07T17:58:50.36\", \"2020-05-08T11:05:30.22\", \"2020-05-08T18:50:29.917\", \"2020-05-10T15:38:34.823\", \"2020-05-10T22:06:56.483\", \"2020-05-11T04:18:33.723\", \"2020-05-11T10:39:05.677\", \"2020-05-11T18:12:14.043\", \"2020-05-12T06:46:53.073\", \"2020-05-12T23:39:37.837\", \"2020-05-13T12:09:34.583\", \"2020-05-14T13:46:07.237\", \"2020-05-19T01:36:19.2\", \"2020-05-19T10:58:19.68\", \"2020-05-19T22:57:51.593\", \"2020-05-19T23:57:36.38\", \"2020-05-21T08:01:48.667\", \"2020-05-21T16:17:26.79\", \"2020-05-22T13:38:46.373\", \"2020-05-26T04:19:19.857\", \"2020-05-26T05:29:41.38\", \"2020-05-27T09:42:57.963\", \"2020-05-27T11:51:09.957\", \"2020-05-27T16:13:12.423\", \"2020-05-28T10:50:38.12\", \"2020-05-28T13:55:04.59\", \"2020-05-28T13:55:17.233\", \"2020-05-28T15:02:38.937\", \"2020-06-01T03:45:36.143\", \"2020-06-01T23:54:24.347\", \"2020-06-02T06:25:02.487\", \"2020-06-04T08:46:29.137\", \"2020-06-04T08:47:30.443\", \"2020-06-05T08:37:45.887\", \"2020-06-08T11:30:52.127\", \"2020-06-10T15:48:56.787\", \"2020-06-11T05:44:23.893\", \"2020-06-11T10:48:33.063\", \"2020-06-11T16:44:25.303\", \"2020-06-12T04:26:21.537\", \"2020-06-13T20:34:20.54\", \"2020-06-15T00:18:26.877\", \"2020-06-15T18:21:18.607\", \"2020-06-17T07:44:27.62\", \"2020-06-17T18:17:42.787\", \"2020-06-17T21:20:44.363\", \"2020-06-18T03:41:34.283\", \"2020-06-18T18:45:45.943\", \"2020-06-19T05:28:43.413\", \"2020-06-19T07:23:48.88\", \"2020-06-19T13:04:31.18\", \"2020-06-19T13:05:50.277\", \"2020-06-20T20:04:07.61\", \"2020-06-22T07:57:18.433\", \"2020-06-22T15:20:53.23\", \"2020-06-22T17:32:37.193\", \"2020-06-25T03:09:04.55\", \"2020-06-26T07:38:55.12\", \"2020-07-01T08:43:32.99\", \"2020-07-02T09:20:12.7\", \"2020-07-02T10:21:06.57\", \"2020-07-08T09:33:24.407\", \"2020-07-08T16:56:19.757\", \"2020-07-09T16:22:26.66\", \"2020-07-09T16:28:26.983\", \"2020-07-10T15:53:37.277\", \"2020-07-10T18:57:48.173\", \"2020-07-14T05:01:01.39\", \"2020-07-15T03:11:16.5\", \"2020-07-15T06:32:14.56\", \"2020-07-15T17:54:55.167\", \"2020-07-16T04:35:29.63\", \"2020-07-16T07:33:35.41\", \"2020-07-16T11:36:35.183\", \"2020-07-16T16:31:52.563\", \"2020-07-20T23:00:15.057\", \"2020-07-21T06:17:01.253\", \"2020-07-21T15:20:11.183\", \"2020-07-22T05:55:52.447\", \"2020-07-22T16:48:52.953\", \"2020-07-22T23:35:16.743\", \"2020-07-23T15:51:45.183\", \"2020-07-23T16:46:00.053\", \"2020-07-27T13:56:35.087\", \"2020-07-28T11:16:57.777\", \"2020-07-28T11:20:26.603\", \"2020-07-28T11:47:30.707\", \"2020-07-29T08:18:11.907\", \"2020-07-29T09:13:44.577\", \"2020-07-29T10:45:28.61\", \"2020-07-30T14:51:34.69\", \"2020-07-30T16:20:18.783\", \"2020-08-03T14:31:32.377\", \"2020-08-03T15:16:16.62\", \"2020-08-05T12:27:19.103\", \"2020-08-05T13:19:23.943\", \"2020-08-06T12:04:03.013\", \"2020-08-07T15:34:48.087\", \"2020-08-10T12:13:23.673\", \"2020-08-11T03:18:56.48\", \"2020-08-12T07:54:44.907\", \"2020-08-13T09:27:35.497\", \"2020-08-13T13:58:17.28\", \"2020-08-13T19:32:19.49\", \"2020-08-14T04:43:10.42\", \"2020-08-14T10:33:47.637\", \"2020-08-14T14:39:35.21\", \"2020-08-18T07:01:56.34\", \"2020-08-19T10:47:49.9\", \"2020-08-19T14:31:13.88\", \"2020-08-20T16:16:04.203\", \"2020-08-20T18:20:03.123\", \"2020-08-21T02:02:10.857\", \"2020-08-21T14:50:21.077\", \"2020-08-21T15:36:03.473\", \"2020-08-24T02:26:12.913\", \"2020-08-24T03:55:16.187\", \"2020-08-24T07:30:08.877\", \"2020-08-24T09:13:29.1\", \"2020-08-25T09:37:23.29\", \"2020-08-25T13:34:40.817\", \"2020-08-26T02:11:50.003\", \"2020-08-26T10:34:15.32\", \"2020-08-26T11:13:50.613\", \"2020-08-27T11:25:26.827\", \"2020-08-27T11:40:36.677\", \"2020-08-27T14:20:01.203\", \"2020-08-27T14:59:03.177\", \"2020-08-28T04:12:14.89\", \"2020-08-28T12:20:32.08\", \"2020-08-31T09:41:46.203\", \"2020-09-01T08:29:04.687\", \"2020-09-02T13:28:25.653\", \"2020-09-03T02:01:33.75\", \"2020-09-03T09:26:58.127\", \"2020-09-03T11:55:40.83\", \"2020-09-04T02:35:33.15\", \"2020-09-07T03:14:01.783\", \"2020-09-08T03:24:11.603\", \"2020-09-08T05:40:25.34\", \"2020-09-08T12:13:05.57\", \"2020-09-08T14:17:04.713\", \"2020-09-09T14:46:03.91\", \"2020-09-09T15:33:09.883\", \"2020-09-10T06:00:56.927\", \"2020-09-10T12:15:08.11\", \"2020-09-10T16:25:03.4\", \"2020-09-11T11:54:43.767\", \"2020-09-11T17:57:16.44\", \"2020-09-13T05:09:37.187\", \"2020-09-13T12:40:21.163\", \"2020-09-14T08:48:44.357\", \"2020-09-15T08:11:30.217\", \"2020-09-15T11:40:17.6\", \"2020-09-15T19:54:20.857\", \"2020-09-16T06:13:11.593\", \"2020-09-16T08:15:45.44\", \"2020-09-16T09:57:44.517\", \"2020-09-16T12:02:57.383\", \"2020-09-16T14:20:14.03\", \"2020-09-16T16:01:59.473\", \"2020-09-16T16:33:38.75\", \"2020-09-16T16:52:38.42\", \"2020-09-17T11:41:44.053\", \"2020-09-17T14:55:23.447\", \"2020-09-17T16:37:00.077\", \"2020-09-18T07:33:41.723\", \"2020-09-18T10:46:34.367\", \"2020-09-21T09:58:43.167\", \"2020-09-21T16:47:19.263\", \"2020-09-22T00:02:42.337\", \"2020-09-22T06:17:08.973\", \"2020-09-22T12:21:03.637\", \"2020-09-23T12:45:54.313\", \"2020-09-23T14:50:02.017\", \"2020-09-23T14:50:53.77\", \"2020-09-23T14:51:39.347\", \"2020-09-23T15:15:00.187\", \"2020-09-24T13:12:57.107\", \"2020-09-24T19:12:48.583\", \"2020-09-25T06:21:34.47\", \"2020-09-25T15:10:56.223\", \"2020-09-25T21:10:47.287\", \"2020-09-27T03:01:48.877\", \"2020-09-28T07:28:53.443\", \"2020-09-28T13:41:47.603\", \"2020-09-29T10:42:52.203\", \"2020-09-29T10:58:24.237\", \"2020-09-29T11:43:39.463\", \"2020-10-01T04:05:51.267\", \"2020-10-01T15:18:19.523\", \"2020-10-04T06:57:42.663\", \"2020-10-06T10:36:52.983\", \"2020-10-06T12:46:04.483\", \"2020-10-07T04:36:43.39\", \"2020-10-07T16:31:35.887\", \"2020-10-07T16:43:08.117\", \"2020-10-08T08:52:50.623\", \"2020-10-09T02:01:00.407\", \"2020-10-12T09:03:36.163\", \"2020-10-12T20:34:39.057\", \"2020-10-14T06:43:01.837\", \"2020-10-14T09:31:09.873\", \"2020-10-14T13:41:44.907\", \"2020-10-14T13:52:09.94\", \"2020-10-15T06:57:57.13\", \"2020-10-16T10:01:41.817\", \"2020-10-16T12:33:29.753\", \"2020-10-17T11:21:17.997\", \"2020-10-17T21:00:48.037\", \"2020-10-19T15:39:33.853\", \"2020-10-19T22:07:22.383\", \"2020-10-20T03:00:27.94\", \"2020-10-21T04:53:38.967\", \"2020-10-21T06:22:02.867\", \"2020-10-21T09:30:56.74\", \"2020-10-21T10:44:23.66\", \"2020-10-22T14:31:26.257\", \"2020-10-22T17:17:54.993\", \"2020-10-23T07:50:08.56\", \"2020-10-23T12:09:06.92\", \"2020-10-23T16:06:11.243\", \"2020-10-24T16:03:56.137\", \"2020-10-25T08:22:12.38\", \"2020-10-25T16:01:58.43\", \"2020-10-26T05:46:15.347\", \"2020-10-29T02:25:33.677\", \"2020-10-29T14:45:52.203\", \"2020-10-30T15:24:32.273\", \"2020-11-03T09:15:35.397\", \"2020-11-03T14:16:21.633\", \"2020-11-04T08:18:34.06\", \"2020-11-06T03:12:33.02\", \"2020-11-07T02:30:08.94\", \"2020-11-08T12:42:54.723\", \"2020-11-08T12:48:07.61\", \"2020-11-09T10:51:40.613\", \"2020-11-11T05:50:59.56\", \"2020-11-11T09:58:05.707\", \"2020-11-11T15:13:05.847\", \"2020-11-11T16:53:07.01\", \"2020-11-12T05:28:55.913\", \"2020-11-12T14:47:17.27\", \"2020-11-13T03:08:25.797\", \"2020-11-14T14:04:27.383\", \"2020-11-16T11:23:16.327\", \"2020-11-16T11:25:19.08\", \"2020-11-18T11:32:37.993\", \"2020-11-18T12:30:24.143\", \"2020-11-18T12:37:55.147\", \"2020-11-18T19:18:53.403\", \"2020-11-19T09:30:41.29\", \"2020-11-20T14:00:44.387\", \"2020-11-20T16:00:00.39\", \"2020-11-21T05:08:51.133\", \"2020-11-22T23:21:07.067\", \"2020-11-23T01:58:09.64\", \"2020-11-24T10:58:17.443\", \"2020-11-24T15:09:06.143\", \"2020-11-24T20:48:57.933\", \"2020-11-25T12:40:55.58\", \"2020-11-25T14:28:28.507\", \"2020-11-25T15:43:04.867\", \"2020-11-30T16:32:19.377\", \"2020-12-02T09:26:16.583\", \"2020-12-04T18:13:27.287\", \"2020-12-06T08:25:07.433\", \"2020-12-08T11:32:56.12\", \"2020-12-08T12:43:52.023\", \"2020-12-08T15:13:24.93\", \"2020-12-09T10:04:40.567\", \"2020-12-10T03:32:44.07\", \"2020-12-10T16:03:19.67\", \"2020-12-15T11:43:28.143\", \"2020-12-15T13:24:34.04\", \"2020-12-16T05:04:16.433\", \"2020-12-16T13:34:06.637\", \"2020-12-16T21:46:56.413\", \"2020-12-18T03:06:14.177\", \"2020-12-18T11:11:07.787\", \"2020-12-21T17:49:39.223\", \"2020-12-22T05:06:26.697\", \"2020-12-23T10:59:14.423\", \"2020-12-24T00:03:53.283\", \"2020-12-26T15:56:58.257\", \"2020-12-27T11:57:47.007\", \"2020-12-27T14:12:00.18\", \"2020-12-28T10:34:01.52\", \"2020-12-28T11:57:21.447\", \"2020-12-29T17:22:22.603\", \"2020-12-30T10:05:14.57\", \"2020-12-31T18:03:21.66\", \"2021-01-01T07:00:15.443\", \"2021-01-03T22:55:07.463\", \"2021-01-04T07:41:29.507\", \"2021-01-04T07:48:38.72\", \"2021-01-04T08:49:11.093\", \"2021-01-04T12:26:12.183\", \"2021-01-05T09:54:38.063\", \"2021-01-05T10:07:21.227\", \"2021-01-05T20:16:38.75\", \"2021-01-06T12:25:16.487\", \"2021-01-06T14:50:39.423\", \"2021-01-07T00:43:54.317\", \"2021-01-08T03:57:53.35\", \"2021-01-11T16:25:58.88\", \"2021-01-11T22:44:21.93\", \"2021-01-12T07:40:27.073\", \"2021-01-14T13:55:54.143\", \"2021-01-15T11:36:31.313\", \"2021-01-16T19:32:13.78\", \"2021-01-18T05:59:41.04\", \"2021-01-19T13:53:44.657\", \"2021-01-20T07:11:18.693\", \"2021-01-20T15:38:36.633\", \"2021-01-20T16:13:02.5\", \"2021-01-21T17:46:44.013\", \"2021-01-22T13:54:36.95\", \"2021-01-22T15:20:52.107\", \"2021-01-23T00:52:07.6\", \"2021-01-25T03:57:52.733\", \"2021-01-25T10:05:26.427\", \"2021-01-25T12:51:33.14\", \"2021-01-25T17:07:17.423\", \"2021-01-27T09:22:55.277\", \"2021-01-27T09:22:55.547\", \"2021-01-27T09:28:32.857\", \"2021-01-28T11:33:34.887\", \"2021-01-29T05:09:45.457\", \"2021-01-30T02:44:24.313\", \"2021-02-01T14:35:54.11\", \"2021-02-02T09:15:33.837\", \"2021-02-04T18:52:41.68\", \"2021-02-07T01:35:51.77\", \"2021-02-07T03:45:35.85\", \"2021-02-07T22:47:17.563\", \"2021-02-08T04:21:46.14\", \"2021-02-08T20:23:34.343\", \"2021-02-09T05:36:55.147\", \"2021-02-09T07:28:04.943\", \"2021-02-10T11:48:40.4\", \"2021-02-10T17:28:34.27\", \"2021-02-11T16:40:26.987\", \"2021-02-11T21:31:20.58\", \"2021-02-12T05:54:48.23\", \"2021-02-12T09:56:04.773\", \"2021-02-12T15:06:05.92\", \"2021-02-12T15:07:52.33\", \"2021-02-13T02:53:30.073\", \"2021-02-14T04:45:31.08\", \"2021-02-14T15:10:09.8\", \"2021-02-15T21:50:52.64\", \"2021-02-16T06:32:23.97\", \"2021-02-16T09:44:47.337\", \"2021-02-17T01:00:17.45\", \"2021-02-17T01:25:49.423\", \"2021-02-17T17:57:59.497\", \"2021-02-18T04:41:42.563\", \"2021-02-19T11:17:25.39\", \"2021-02-22T01:18:39.76\", \"2021-02-22T10:22:26.3\", \"2021-02-23T05:30:07.697\", \"2021-02-23T08:25:50.447\", \"2021-02-23T15:53:46.57\", \"2021-02-24T12:36:00.77\", \"2021-02-25T08:53:44.637\", \"2021-02-25T10:29:48.393\", \"2021-02-25T16:43:06.273\", \"2021-02-26T09:23:09.993\", \"2021-02-26T18:47:43.037\", \"2021-02-27T11:08:57.667\", \"2021-03-01T09:13:33.787\", \"2021-03-01T19:39:59.55\", \"2021-03-02T09:23:36.847\", \"2021-03-02T11:18:39.363\", \"2021-03-02T16:31:12.837\", \"2021-03-03T05:13:37.897\", \"2021-03-03T06:44:32.35\", \"2021-03-03T08:54:25\", \"2021-03-04T02:36:22.257\", \"2021-03-05T08:22:11.3\", \"2021-03-09T11:09:19.763\", \"2021-03-09T14:55:21.58\", \"2021-03-10T04:36:07.837\", \"2021-03-10T15:24:21.857\", \"2021-03-10T16:00:02.613\", \"2021-03-11T04:20:04.103\", \"2021-03-11T09:00:30.913\", \"2021-03-11T17:30:43.753\", \"2021-03-12T02:34:21.683\", \"2021-03-12T03:28:33.083\", \"2021-03-12T11:48:47.203\", \"2021-03-13T10:25:21.143\", \"2021-03-14T17:29:30.287\", \"2021-03-15T10:13:43.667\", \"2021-03-15T10:53:54.233\", \"2021-03-17T17:02:54.86\", \"2021-03-19T07:21:13.43\", \"2021-03-20T01:34:53.61\", \"2021-03-23T12:14:18.863\", \"2021-03-24T12:58:46.5\", \"2021-03-25T03:17:53.38\", \"2021-03-25T16:39:59.577\", \"2021-03-26T14:27:14.173\", \"2021-03-30T12:29:47.413\", \"2021-03-30T12:53:22.887\", \"2021-03-31T05:04:42.15\", \"2021-03-31T06:38:42.34\", \"2021-04-01T08:14:49.057\", \"2021-04-06T19:28:50.28\", \"2021-04-08T17:31:25.08\", \"2021-04-10T02:53:00.28\", \"2021-04-12T10:52:25.73\", \"2021-04-12T12:12:10.283\", \"2021-04-12T15:13:07.097\", \"2021-04-14T03:27:41.803\", \"2021-04-15T08:57:58.05\", \"2021-04-15T12:20:03.933\", \"2021-04-19T09:41:09.173\", \"2021-04-20T07:00:28.707\", \"2021-04-20T15:43:56.607\", \"2021-04-21T11:38:15.18\", \"2021-04-22T04:29:17.66\", \"2021-04-22T04:48:51.64\", \"2021-04-22T06:55:40.56\", \"2021-04-22T16:43:27\", \"2021-04-23T00:03:22.743\", \"2021-04-23T11:09:05.35\", \"2021-04-27T07:40:14.087\", \"2021-04-27T10:25:08.213\", \"2021-04-27T13:53:38.607\", \"2021-04-27T14:05:34.707\", \"2021-04-27T16:17:23.083\", \"2021-04-28T06:07:57.33\", \"2021-04-28T11:44:20.84\", \"2021-04-28T14:08:31.08\", \"2021-04-28T14:15:54.817\", \"2021-04-29T02:16:11.49\", \"2021-04-30T07:03:44.607\", \"2021-04-30T08:43:37.07\", \"2021-05-04T03:26:26.993\", \"2021-05-04T09:31:18.373\", \"2021-05-05T10:48:30.583\", \"2021-05-05T14:59:26.737\", \"2021-05-06T04:52:27.5\", \"2021-05-06T05:44:31.317\", \"2021-05-06T14:47:18.237\", \"2021-05-06T15:36:56.423\", \"2021-05-06T19:21:40.677\", \"2021-05-07T11:58:25.423\", \"2021-05-07T12:44:00.26\", \"2021-05-11T11:11:22.967\", \"2021-05-11T14:33:52.803\", \"2021-05-12T19:29:45.887\", \"2021-05-14T10:04:28.7\", \"2021-05-17T00:14:13.58\", \"2021-05-17T05:24:41.617\", \"2021-05-17T10:22:56.957\", \"2021-05-17T12:12:39.573\", \"2021-05-20T08:11:58.513\", \"2021-05-21T02:17:15.373\", \"2021-05-24T03:14:14.447\", \"2021-05-24T05:55:56.8\", \"2021-05-24T14:55:23.877\", \"2021-05-25T10:09:32.81\", \"2021-05-25T23:18:10.647\", \"2021-05-25T23:21:55.333\", \"2021-05-26T05:39:30.67\", \"2021-05-28T11:21:25.033\", \"2021-05-28T13:33:13.153\", \"2021-05-29T21:45:02.2\", \"2021-05-30T01:41:31.68\", \"2021-05-30T08:11:59.69\", \"2021-06-02T07:44:14.63\", \"2021-06-02T12:18:46.267\", \"2021-06-02T13:14:26.307\", \"2021-06-02T13:40:25.58\", \"2021-06-02T13:53:43.85\", \"2021-06-02T15:54:57.997\", \"2021-06-02T16:37:04.77\", \"2021-06-03T02:17:04.61\", \"2021-06-03T04:52:06.57\", \"2021-06-03T09:19:09.593\", \"2021-06-03T19:44:17.527\", \"2021-06-04T05:25:16.927\", \"2021-06-04T10:11:48.013\", \"2021-06-08T04:53:56.6\", \"2021-06-08T10:57:39.363\"], \"xaxis\": \"x\", \"y\": [0.063, 0.102, 0.198, 0.102, 0.09, 0.184, 0.094, 0.075, 0.054, 0.082, 0.105, 0.158, 0.071, 0.255, 0.102, 0.236, 0.114, 0.106, 0.135, 0.244, 0.204, 0.185, 0.058, 0.088, 0.102, 0.115, 0.067, 0.047, 0.221, 0.115, 0.172, 0.154, 0.093, 0.159, 0.086, 0.24, 0.161, 0.185, 0.096, 0.102, 0.153, 0.203, 0.057, 0.041, 0.139, 0.101, 0.095, 0.151, 0.11, 0.142, 0.256, 0.124, 0.134, 0.203, 0.077, 0.091, 0.177, 0.209, 0.028, 0.091, 0.085, 0.075, 0.168, 0.335, 0.071, 0.358, 0.122, 0.097, 0.087, 0.136, 0.059, 0.179, 0.102, 0.211, 0.129, 0.113, 0.253, 0.035, 0.223, 0.11, 0.195, 0.082, 0.056, 0.033, 0.017, 0.208, 0.13, 0.079, 0.173, 0.174, 0.07, 0.189, 0.331, 0.152, 0.112, 0.125, 0.181, 0.236, 0.213, 0.104, 0.17, 0.055, 0.094, 0.216, 0.089, 0.149, 0.102, 0.138, 0.091, 0.21, 0.083, 0.143, 0.089, 0.112, 0.072, 0.033, 0.069, 0.102, 0.211, 0.091, 0.218, 0.16, 0.209, 0.077, 0.167, 0.038, 0.119, 0.158, 0.222, 0.119, 0.293, 0.132, 0.221, 0.104, 0.089, 0.09, 0.167, 0.103, 0.108, 0.119, 0.202, 0.107, 0.083, 0.034, 0.112, 0.112, 0.103, 0.064, 0.101, 0.12, 0.15, 0.076, 0.102, 0.062, 0.072, 0.223, 0.036, 0.073, 0.102, 0.013, 0.072, 0.094, 0.096, 0.031, 0.133, 0.153, 0.118, 0.072, 0.097, 0.066, 0.326, 0.069, 0.103, 0.057, 0.103, 0.062, 0.147, 0.116, 0.122, 0.128, 0.147, 0.057, 0.116, 0.167, 0.101, 0.081, 0.278, 0.142, 0.108, 0.102, 0.074, 0.086, 0.08, 0.225, 0.157, 0.282, 0.13, 0.102, 0.122, 0.272, 0.168, 0.136, 0.116, 0.192, 0.138, 0.119, 0.08, 0.112, 0.086, 0.143, 0.04, 0.119, 0.172, 0.286, 0.177, 0.137, 0.182, 0.134, 0.134, 0.211, 0.238, 0.092, 0.152, 0.155, 0.217, 0.126, 0.133, 0.244, 0.302, 0.234, 0.205, 0.335, 0.096, 0.165, 0.078, 0.192, 0.13, 0.069, 0.122, 0.22, 0.102, 0.118, 0.104, 0.172, 0.078, 0.116, 0.265, 0.042, 0.075, 0.129, 0.033, 0.086, 0.042, 0.029, 0.3, 0.202, 0.155, 0.156, 0.085, 0.078, 0.102, 0.19, 0.102, 0.102, 0.156, 0.16, 0.141, 0.103, 0.194, 0.194, 0.086, 0.099, 0.142, 0.09, 0.09, 0.154, 0.071, 0.101, 0.108, 0.045, 0.046, 0.166, 0.184, 0.1, 0.22, 0.14, 0.131, 0.079, 0.336, 0.058, 0.12, 0.077, 0.105, 0.068, 0.245, 0.144, 0.123, 0.02, 0.078, 0.101, 0.069, 0.095, 0.113, 0.044, 0.077, 0.038, 0.173, 0.14, 0.111, 0.236, 0.078, 0.093, 0.107, 0.102, 0.102, 0.068, 0.095, 0.085, 0.101, 0.153, 0.08, 0.133, 0.254, 0.124, 0.071, 0.089, 0.096, 0.143, 0.173, 0.239, 0.06, 0.075, 0.075, 0.321, 0.133, 0.143, 0.097, 0.182, 0.134, 0.046, 0.094, 0.159, 0.067, 0.148, 0.088, 0.077, 0.186, 0.102, 0.131, 0.191, 0.102, 0.16, 0.043, 0.161, 0.132, 0.156, 0.152, 0.101, 0.221, 0.1, 0.282, 0.05, 0.129, 0.079, 0.231, 0.122, 0.206, 0.24, 0.256, 0.234, 0.086, 0.101, 0.091, 0.197, 0.32, 0.064, 0.136, 0.138, 0.106, 0.142, 0.078, 0.114, 0.064, 0.097, 0.102, 0.043, 0.049, 0.12, 0.055, 0.167, 0.064, 0.081, 0.11, 0.201, 0.133, 0.091, 0.221, 0.135, 0.166, 0.151, 0.092, 0.143, 0.138, 0.098, 0.16, 0.185, 0.23, 0.069, 0.116, 0.106, 0.094, 0.157, 0.093, 0.188, 0.054, 0.034, 0.21, 0.127, 0.124, 0.16, 0.203, 0.115, 0.046, 0.271, 0.077, 0.088, 0.161, 0.143, 0.161, 0.079, 0.08, 0.183, 0.076, 0.098, 0.091, 0.134, 0.07, 0.146, 0.112, 0.153, 0.25, 0.103, 0.216, 0.227, 0.088, 0.107, 0.059, 0.249, 0.119, 0.133, 0.076, 0.038, 0.161, 0.162, 0.255, 0.075, 0.075, 0.075, 0.115, 0.188, 0.18, 0.207, 0.09, 0.044, 0.084, 0.231, 0.101, 0.237, 0.073, 0.243, 0.038, 0.053, 0.062, 0.356, 0.181, 0.167, 0.11, 0.102, 0.084, 0.062, 0.159, 0.141, 0.09, 0.096, 0.276, 0.164, 0.179, 0.112, 0.097, 0.265, 0.222, 0.094, 0.04, 0.129, 0.22, 0.167, 0.065, 0.169, 0.2, 0.036, 0.067, 0.083, 0.102, 0.055, 0.041, 0.047, 0.052, 0.159, 0.123, 0.136, 0.19, 0.042, 0.121, 0.193, 0.04, 0.138, 0.087, 0.284, 0.1, 0.153, 0.172, 0.041, 0.219, 0.072, 0.047, 0.122, 0.165, 0.115, 0.079, 0.081, 0.098, 0.079, 0.171, 0.076, 0.189, 0.263, 0.135, 0.16, 0.27, 0.102, 0.112, 0.063, 0.114, 0.084, 0.102, 0.209, 0.156, 0.071, 0.033, 0.213, 0.255, 0.157, 0.073, 0.113, 0.107, 0.206, 0.079, 0.174, 0.105, 0.213, 0.103, 0.063, 0.213, 0.17, 0.174, 0.253, 0.331, 0.11, 0.213, 0.22, 0.061, 0.112, 0.058, 0.079, 0.079, 0.372, 0.048, 0.152, 0.18, 0.302, 0.141, 0.178, 0.116, 0.149, 0.052, 0.158, 0.22, 0.227, 0.184, 0.2, 0.166, 0.087, 0.076, 0.094, 0.382, 0.116, 0.15, 0.162, 0.197, 0.065, 0.212, 0.047, 0.044, 0.213, 0.028, 0.123, 0.173, 0.077, 0.118, 0.093, 0.267, 0.197, 0.085, 0.125, 0.122, 0.174, 0.062, 0.131, 0.111, 0.163, 0.134, 0.204, 0.197, 0.128, 0.032, 0.203, 0.129, 0.068, 0.068, 0.127, 0.067, 0.146, 0.288, 0.087, 0.243, 0.097, 0.216, 0.201, 0.088, 0.119, 0.186, 0.235, 0.129, 0.071, 0.061, 0.135, 0.192, 0.129, 0.173, 0.134, 0.12, 0.181, 0.135, 0.058, 0.062, 0.205, 0.18, 0.153, 0.073, 0.173, 0.077, 0.199, 0.033, 0.394, 0.121, 0.109, 0.099, 0.05, 0.045, 0.035, 0.093, 0.137, 0.199, 0.145, 0.104, 0.099, 0.182, 0.2, 0.154, 0.071, 0.186, 0.18, 0.105, 0.333, 0.156, 0.081, 0.135, 0.148, 0.204, 0.195, 0.148, 0.022, 0.278, 0.083, 0.106, 0.232, 0.292, 0.171, 0.259, 0.038, 0.246, 0.051, 0.077, 0.053, 0.071, 0.152, 0.119, 0.357, 0.118, 0.148, 0.121, 0.134, 0.18, 0.059, 0.349, 0.277, 0.097, 0.234, 0.171, 0.143, 0.14, 0.104, 0.114, 0.224, 0.101, 0.046, 0.089, 0.11, 0.121, 0.049, 0.187, 0.164, 0.156, 0.087, 0.068, 0.162, 0.129, 0.331, 0.125, 0.114, 0.116, 0.114, 0.067, 0.292, 0.078, 0.248, 0.104, 0.104, 0.184, 0.127, 0.127, 0.077, 0.036, 0.211, 0.08, 0.294, 0.135, 0.056, 0.163, 0.074, 0.107, 0.123, 0.138, 0.211, 0.105, 0.174, 0.048, 0.23, 0.06], \"yaxis\": \"y\"}, {\"hovertemplate\": \"Sentiment=Negative<br>Post Date=%{x}<br>pos=%{y}<extra></extra>\", \"legendgroup\": \"Negative\", \"line\": {\"color\": \"#00cc96\", \"dash\": \"solid\"}, \"mode\": \"lines\", \"name\": \"Negative\", \"showlegend\": true, \"type\": \"scattergl\", \"x\": [\"2019-10-14T05:55:32.553\", \"2019-10-14T22:38:08.26\", \"2019-10-21T09:43:33.513\", \"2019-10-21T12:40:40.86\", \"2019-10-23T06:23:11.657\", \"2019-10-24T06:19:46.603\", \"2019-10-24T14:04:33.85\", \"2019-10-25T11:54:33.85\", \"2019-10-30T08:21:45.053\", \"2019-10-30T18:45:20.75\", \"2019-10-31T23:57:45.833\", \"2019-11-01T07:45:56.387\", \"2019-11-10T01:44:11.28\", \"2019-11-14T03:28:57.637\", \"2019-11-18T10:12:47.987\", \"2019-11-20T05:47:36.783\", \"2019-11-29T02:39:25.357\", \"2019-12-03T14:56:05.093\", \"2019-12-03T16:06:57.23\", \"2019-12-09T07:10:55.167\", \"2019-12-10T07:50:29.637\", \"2019-12-10T10:55:22.36\", \"2019-12-12T10:17:39.717\", \"2019-12-20T08:29:43.793\", \"2019-12-21T07:25:05.07\", \"2019-12-24T06:44:49.68\", \"2020-01-03T04:40:24.317\", \"2020-01-05T08:26:52.923\", \"2020-01-14T07:18:24.06\", \"2020-01-16T01:35:18.87\", \"2020-01-20T17:44:58.307\", \"2020-01-24T06:49:45.39\", \"2020-01-29T10:26:02.32\", \"2020-02-03T09:59:10.557\", \"2020-02-03T13:33:12.313\", \"2020-02-05T11:30:08.943\", \"2020-02-11T17:09:02.48\", \"2020-02-12T09:04:32.27\", \"2020-02-12T14:51:42.37\", \"2020-02-14T10:24:51.933\", \"2020-02-26T12:34:35.337\", \"2020-03-04T20:50:43.727\", \"2020-03-10T11:43:30.047\", \"2020-03-17T10:57:57.617\", \"2020-03-17T12:46:10.82\", \"2020-03-17T17:40:54.64\", \"2020-03-30T04:21:56.913\", \"2020-04-09T23:22:33.47\", \"2020-04-14T04:48:03.713\", \"2020-04-14T11:03:59.167\", \"2020-04-16T08:10:59.29\", \"2020-04-16T16:12:38.977\", \"2020-04-16T16:41:02.65\", \"2020-04-23T02:31:29.827\", \"2020-04-23T17:09:27.673\", \"2020-05-05T10:32:52.917\", \"2020-05-06T07:12:28.073\", \"2020-05-06T10:17:41.447\", \"2020-05-07T03:54:23.82\", \"2020-05-07T10:30:47.55\", \"2020-05-12T07:44:49.72\", \"2020-05-13T09:12:49.927\", \"2020-05-13T14:43:08.657\", \"2020-05-14T03:52:10.373\", \"2020-05-14T17:51:27.473\", \"2020-05-19T22:05:27.747\", \"2020-05-20T07:46:08.763\", \"2020-05-22T09:04:36.597\", \"2020-05-24T07:44:59.96\", \"2020-05-25T11:51:41.683\", \"2020-05-25T12:12:56.96\", \"2020-05-28T04:33:45.413\", \"2020-05-28T21:23:28.48\", \"2020-05-31T11:34:13.967\", \"2020-06-01T02:08:55.463\", \"2020-06-02T05:15:07.377\", \"2020-06-08T10:15:40.8\", \"2020-06-17T09:23:08.72\", \"2020-06-17T10:47:18.047\", \"2020-06-19T05:37:59.09\", \"2020-06-29T17:02:31.54\", \"2020-07-06T05:50:50.78\", \"2020-07-06T09:19:59.403\", \"2020-07-10T08:52:51.04\", \"2020-07-11T20:29:03.777\", \"2020-07-13T02:40:11.35\", \"2020-07-17T14:17:43.9\", \"2020-07-20T13:16:24.25\", \"2020-07-21T04:25:05.703\", \"2020-07-21T11:25:17.723\", \"2020-07-24T15:17:29.263\", \"2020-07-31T03:00:29.553\", \"2020-08-01T06:40:03.033\", \"2020-08-02T08:21:09.453\", \"2020-08-06T16:30:31.317\", \"2020-08-11T20:18:22.113\", \"2020-08-14T06:48:55.553\", \"2020-08-17T10:09:37.347\", \"2020-08-18T10:10:32.407\", \"2020-09-03T14:53:10.197\", \"2020-09-04T08:34:40.003\", \"2020-09-08T10:35:57.717\", \"2020-09-09T04:14:26.247\", \"2020-09-09T07:05:09.473\", \"2020-09-09T19:09:12.01\", \"2020-09-11T14:32:09.763\", \"2020-09-22T03:04:06.773\", \"2020-09-22T12:56:21.417\", \"2020-09-23T07:34:25.193\", \"2020-09-27T00:39:00.507\", \"2020-09-30T11:28:12.57\", \"2020-10-05T01:11:31.057\", \"2020-10-05T22:58:21.4\", \"2020-10-07T04:49:35.287\", \"2020-10-07T06:19:26.927\", \"2020-10-08T07:26:39.637\", \"2020-10-08T16:26:59.76\", \"2020-10-09T19:17:29.443\", \"2020-10-13T13:02:42.213\", \"2020-10-13T18:32:15.773\", \"2020-10-16T18:36:31.273\", \"2020-10-19T22:07:38.62\", \"2020-10-20T16:35:09.947\", \"2020-10-21T12:58:42.72\", \"2020-10-21T13:33:08.743\", \"2020-10-21T14:06:01.427\", \"2020-10-28T05:57:09.547\", \"2020-10-28T13:28:28.833\", \"2020-10-28T15:58:04.637\", \"2020-10-29T01:39:26.437\", \"2020-11-02T16:14:49.56\", \"2020-11-09T08:23:02.983\", \"2020-11-11T06:00:38.383\", \"2020-11-12T18:39:57.223\", \"2020-11-13T18:33:05.46\", \"2020-11-18T11:41:37.49\", \"2020-11-19T16:56:39.44\", \"2020-11-25T11:17:47.587\", \"2020-11-25T13:13:05.463\", \"2020-11-26T11:43:14.277\", \"2020-12-02T15:54:46.727\", \"2020-12-03T15:45:18.923\", \"2020-12-06T07:13:50.297\", \"2020-12-08T06:45:13.323\", \"2020-12-08T12:43:05.35\", \"2020-12-11T09:05:13.287\", \"2020-12-16T11:24:45.933\", \"2020-12-16T16:31:08.12\", \"2020-12-21T08:30:12.503\", \"2020-12-22T04:59:41.42\", \"2020-12-23T09:59:10.2\", \"2020-12-28T02:51:24.99\", \"2020-12-28T15:09:46.85\", \"2020-12-29T08:45:35.597\", \"2020-12-29T15:13:04.71\", \"2021-01-09T23:27:17.513\", \"2021-01-12T06:59:45.843\", \"2021-01-12T08:16:59.57\", \"2021-01-12T23:48:05.1\", \"2021-01-15T06:20:18.943\", \"2021-01-16T07:56:33.363\", \"2021-01-18T00:23:54.957\", \"2021-01-20T07:58:12.823\", \"2021-01-21T09:00:33.853\", \"2021-01-27T01:26:58.78\", \"2021-01-27T13:06:46.71\", \"2021-02-03T06:28:55.87\", \"2021-02-03T14:28:38.48\", \"2021-02-05T09:38:55.053\", \"2021-02-08T14:35:14.027\", \"2021-02-10T06:07:45.91\", \"2021-02-10T13:30:52.19\", \"2021-02-16T14:37:14.58\", \"2021-02-17T00:44:34.993\", \"2021-02-26T11:57:02.543\", \"2021-02-27T07:31:29.457\", \"2021-03-03T03:05:35.877\", \"2021-03-03T09:20:39.307\", \"2021-03-03T16:19:15.397\", \"2021-03-04T11:01:28.96\", \"2021-03-06T06:54:56.57\", \"2021-03-09T11:05:19.053\", \"2021-03-09T17:00:23.213\", \"2021-03-16T07:06:57.6\", \"2021-03-16T15:19:27.047\", \"2021-03-19T11:31:47.557\", \"2021-03-22T03:47:12.6\", \"2021-03-24T09:04:13.813\", \"2021-04-07T14:44:07.22\", \"2021-04-09T14:10:26.533\", \"2021-04-10T03:29:32.747\", \"2021-04-10T15:57:59.943\", \"2021-04-20T11:43:36.217\", \"2021-04-22T07:32:19.79\", \"2021-04-30T15:41:33.667\", \"2021-05-06T06:08:48.817\", \"2021-05-06T10:55:46.883\", \"2021-05-11T16:15:01.67\", \"2021-05-14T08:27:02.38\", \"2021-05-17T10:44:03.017\", \"2021-05-17T12:41:24.27\", \"2021-05-18T00:14:22.057\", \"2021-05-19T09:46:33.497\", \"2021-05-23T15:49:03.797\", \"2021-05-25T16:41:37.953\", \"2021-05-27T07:12:50.66\", \"2021-06-03T04:46:03.063\", \"2021-06-04T19:14:13.09\"], \"xaxis\": \"x\", \"y\": [0.017, 0.052, 0.034, 0.021, 0.044, 0.049, 0.106, 0.057, 0.11, 0.058, 0.027, 0.052, 0.038, 0.028, 0.038, 0.055, 0.107, 0.066, 0.0, 0.026, 0.049, 0.042, 0.0, 0.0, 0.031, 0.0, 0.113, 0.038, 0.102, 0.016, 0.079, 0.046, 0.033, 0.058, 0.017, 0.0, 0.03, 0.031, 0.017, 0.09, 0.0, 0.061, 0.101, 0.0, 0.073, 0.022, 0.078, 0.095, 0.068, 0.0, 0.029, 0.0, 0.014, 0.0, 0.0, 0.0, 0.031, 0.049, 0.12, 0.0, 0.115, 0.0, 0.026, 0.0, 0.046, 0.198, 0.113, 0.0, 0.065, 0.0, 0.0, 0.027, 0.074, 0.047, 0.0, 0.029, 0.045, 0.028, 0.046, 0.0, 0.0, 0.014, 0.0, 0.015, 0.043, 0.051, 0.092, 0.039, 0.0, 0.065, 0.028, 0.058, 0.041, 0.091, 0.048, 0.142, 0.106, 0.056, 0.064, 0.0, 0.052, 0.049, 0.053, 0.049, 0.026, 0.053, 0.0, 0.018, 0.042, 0.04, 0.024, 0.065, 0.077, 0.0, 0.0, 0.034, 0.036, 0.0, 0.0, 0.037, 0.012, 0.045, 0.033, 0.043, 0.082, 0.077, 0.159, 0.0, 0.038, 0.048, 0.0, 0.041, 0.0, 0.027, 0.043, 0.066, 0.042, 0.103, 0.059, 0.126, 0.092, 0.0, 0.107, 0.066, 0.063, 0.014, 0.062, 0.0, 0.041, 0.11, 0.032, 0.087, 0.052, 0.0, 0.0, 0.069, 0.0, 0.079, 0.094, 0.204, 0.105, 0.055, 0.14, 0.0, 0.059, 0.034, 0.107, 0.039, 0.058, 0.059, 0.0, 0.049, 0.192, 0.015, 0.0, 0.107, 0.03, 0.0, 0.0, 0.054, 0.048, 0.024, 0.0, 0.0, 0.066, 0.0, 0.057, 0.108, 0.066, 0.035, 0.07, 0.039, 0.129, 0.078, 0.03, 0.115, 0.072, 0.092, 0.042, 0.076, 0.032, 0.102, 0.0, 0.092, 0.016, 0.0, 0.1, 0.02], \"yaxis\": \"y\"}],                        {\"legend\": {\"title\": {\"text\": \"Sentiment\"}, \"tracegroupgap\": 0}, \"margin\": {\"t\": 60}, \"template\": {\"data\": {\"bar\": [{\"error_x\": {\"color\": \"#2a3f5f\"}, \"error_y\": {\"color\": \"#2a3f5f\"}, \"marker\": {\"line\": {\"color\": \"#E5ECF6\", \"width\": 0.5}}, \"type\": \"bar\"}], \"barpolar\": [{\"marker\": {\"line\": {\"color\": \"#E5ECF6\", \"width\": 0.5}}, \"type\": \"barpolar\"}], \"carpet\": [{\"aaxis\": {\"endlinecolor\": \"#2a3f5f\", \"gridcolor\": \"white\", \"linecolor\": \"white\", \"minorgridcolor\": \"white\", \"startlinecolor\": \"#2a3f5f\"}, \"baxis\": {\"endlinecolor\": \"#2a3f5f\", \"gridcolor\": \"white\", \"linecolor\": \"white\", \"minorgridcolor\": \"white\", \"startlinecolor\": \"#2a3f5f\"}, \"type\": \"carpet\"}], \"choropleth\": [{\"colorbar\": {\"outlinewidth\": 0, \"ticks\": \"\"}, \"type\": \"choropleth\"}], \"contour\": [{\"colorbar\": {\"outlinewidth\": 0, \"ticks\": \"\"}, \"colorscale\": [[0.0, \"#0d0887\"], [0.1111111111111111, \"#46039f\"], [0.2222222222222222, \"#7201a8\"], [0.3333333333333333, \"#9c179e\"], [0.4444444444444444, \"#bd3786\"], [0.5555555555555556, \"#d8576b\"], [0.6666666666666666, \"#ed7953\"], [0.7777777777777778, \"#fb9f3a\"], [0.8888888888888888, \"#fdca26\"], [1.0, \"#f0f921\"]], \"type\": \"contour\"}], \"contourcarpet\": [{\"colorbar\": {\"outlinewidth\": 0, \"ticks\": \"\"}, \"type\": \"contourcarpet\"}], \"heatmap\": [{\"colorbar\": {\"outlinewidth\": 0, \"ticks\": \"\"}, \"colorscale\": [[0.0, \"#0d0887\"], [0.1111111111111111, \"#46039f\"], [0.2222222222222222, \"#7201a8\"], [0.3333333333333333, \"#9c179e\"], [0.4444444444444444, \"#bd3786\"], [0.5555555555555556, \"#d8576b\"], [0.6666666666666666, \"#ed7953\"], [0.7777777777777778, \"#fb9f3a\"], [0.8888888888888888, \"#fdca26\"], [1.0, \"#f0f921\"]], \"type\": \"heatmap\"}], \"heatmapgl\": [{\"colorbar\": {\"outlinewidth\": 0, \"ticks\": \"\"}, \"colorscale\": [[0.0, \"#0d0887\"], [0.1111111111111111, \"#46039f\"], [0.2222222222222222, \"#7201a8\"], [0.3333333333333333, \"#9c179e\"], [0.4444444444444444, \"#bd3786\"], [0.5555555555555556, \"#d8576b\"], [0.6666666666666666, \"#ed7953\"], [0.7777777777777778, \"#fb9f3a\"], [0.8888888888888888, \"#fdca26\"], [1.0, \"#f0f921\"]], \"type\": \"heatmapgl\"}], \"histogram\": [{\"marker\": {\"colorbar\": {\"outlinewidth\": 0, \"ticks\": \"\"}}, \"type\": \"histogram\"}], \"histogram2d\": [{\"colorbar\": {\"outlinewidth\": 0, \"ticks\": \"\"}, \"colorscale\": [[0.0, \"#0d0887\"], [0.1111111111111111, \"#46039f\"], [0.2222222222222222, \"#7201a8\"], [0.3333333333333333, \"#9c179e\"], [0.4444444444444444, \"#bd3786\"], [0.5555555555555556, \"#d8576b\"], [0.6666666666666666, \"#ed7953\"], [0.7777777777777778, \"#fb9f3a\"], [0.8888888888888888, \"#fdca26\"], [1.0, \"#f0f921\"]], \"type\": \"histogram2d\"}], \"histogram2dcontour\": [{\"colorbar\": {\"outlinewidth\": 0, \"ticks\": \"\"}, \"colorscale\": [[0.0, \"#0d0887\"], [0.1111111111111111, \"#46039f\"], [0.2222222222222222, \"#7201a8\"], [0.3333333333333333, \"#9c179e\"], [0.4444444444444444, \"#bd3786\"], [0.5555555555555556, \"#d8576b\"], [0.6666666666666666, \"#ed7953\"], [0.7777777777777778, \"#fb9f3a\"], [0.8888888888888888, \"#fdca26\"], [1.0, \"#f0f921\"]], \"type\": \"histogram2dcontour\"}], \"mesh3d\": [{\"colorbar\": {\"outlinewidth\": 0, \"ticks\": \"\"}, \"type\": \"mesh3d\"}], \"parcoords\": [{\"line\": {\"colorbar\": {\"outlinewidth\": 0, \"ticks\": \"\"}}, \"type\": \"parcoords\"}], \"pie\": [{\"automargin\": true, \"type\": \"pie\"}], \"scatter\": [{\"marker\": {\"colorbar\": {\"outlinewidth\": 0, \"ticks\": \"\"}}, \"type\": \"scatter\"}], \"scatter3d\": [{\"line\": {\"colorbar\": {\"outlinewidth\": 0, \"ticks\": \"\"}}, \"marker\": {\"colorbar\": {\"outlinewidth\": 0, \"ticks\": \"\"}}, \"type\": \"scatter3d\"}], \"scattercarpet\": [{\"marker\": {\"colorbar\": {\"outlinewidth\": 0, \"ticks\": \"\"}}, \"type\": \"scattercarpet\"}], \"scattergeo\": [{\"marker\": {\"colorbar\": {\"outlinewidth\": 0, \"ticks\": \"\"}}, \"type\": \"scattergeo\"}], \"scattergl\": [{\"marker\": {\"colorbar\": {\"outlinewidth\": 0, \"ticks\": \"\"}}, \"type\": \"scattergl\"}], \"scattermapbox\": [{\"marker\": {\"colorbar\": {\"outlinewidth\": 0, \"ticks\": \"\"}}, \"type\": \"scattermapbox\"}], \"scatterpolar\": [{\"marker\": {\"colorbar\": {\"outlinewidth\": 0, \"ticks\": \"\"}}, \"type\": \"scatterpolar\"}], \"scatterpolargl\": [{\"marker\": {\"colorbar\": {\"outlinewidth\": 0, \"ticks\": \"\"}}, \"type\": \"scatterpolargl\"}], \"scatterternary\": [{\"marker\": {\"colorbar\": {\"outlinewidth\": 0, \"ticks\": \"\"}}, \"type\": \"scatterternary\"}], \"surface\": [{\"colorbar\": {\"outlinewidth\": 0, \"ticks\": \"\"}, \"colorscale\": [[0.0, \"#0d0887\"], [0.1111111111111111, \"#46039f\"], [0.2222222222222222, \"#7201a8\"], [0.3333333333333333, \"#9c179e\"], [0.4444444444444444, \"#bd3786\"], [0.5555555555555556, \"#d8576b\"], [0.6666666666666666, \"#ed7953\"], [0.7777777777777778, \"#fb9f3a\"], [0.8888888888888888, \"#fdca26\"], [1.0, \"#f0f921\"]], \"type\": \"surface\"}], \"table\": [{\"cells\": {\"fill\": {\"color\": \"#EBF0F8\"}, \"line\": {\"color\": \"white\"}}, \"header\": {\"fill\": {\"color\": \"#C8D4E3\"}, \"line\": {\"color\": \"white\"}}, \"type\": \"table\"}]}, \"layout\": {\"annotationdefaults\": {\"arrowcolor\": \"#2a3f5f\", \"arrowhead\": 0, \"arrowwidth\": 1}, \"autotypenumbers\": \"strict\", \"coloraxis\": {\"colorbar\": {\"outlinewidth\": 0, \"ticks\": \"\"}}, \"colorscale\": {\"diverging\": [[0, \"#8e0152\"], [0.1, \"#c51b7d\"], [0.2, \"#de77ae\"], [0.3, \"#f1b6da\"], [0.4, \"#fde0ef\"], [0.5, \"#f7f7f7\"], [0.6, \"#e6f5d0\"], [0.7, \"#b8e186\"], [0.8, \"#7fbc41\"], [0.9, \"#4d9221\"], [1, \"#276419\"]], \"sequential\": [[0.0, \"#0d0887\"], [0.1111111111111111, \"#46039f\"], [0.2222222222222222, \"#7201a8\"], [0.3333333333333333, \"#9c179e\"], [0.4444444444444444, \"#bd3786\"], [0.5555555555555556, \"#d8576b\"], [0.6666666666666666, \"#ed7953\"], [0.7777777777777778, \"#fb9f3a\"], [0.8888888888888888, \"#fdca26\"], [1.0, \"#f0f921\"]], \"sequentialminus\": [[0.0, \"#0d0887\"], [0.1111111111111111, \"#46039f\"], [0.2222222222222222, \"#7201a8\"], [0.3333333333333333, \"#9c179e\"], [0.4444444444444444, \"#bd3786\"], [0.5555555555555556, \"#d8576b\"], [0.6666666666666666, \"#ed7953\"], [0.7777777777777778, \"#fb9f3a\"], [0.8888888888888888, \"#fdca26\"], [1.0, \"#f0f921\"]]}, \"colorway\": [\"#636efa\", \"#EF553B\", \"#00cc96\", \"#ab63fa\", \"#FFA15A\", \"#19d3f3\", \"#FF6692\", \"#B6E880\", \"#FF97FF\", \"#FECB52\"], \"font\": {\"color\": \"#2a3f5f\"}, \"geo\": {\"bgcolor\": \"white\", \"lakecolor\": \"white\", \"landcolor\": \"#E5ECF6\", \"showlakes\": true, \"showland\": true, \"subunitcolor\": \"white\"}, \"hoverlabel\": {\"align\": \"left\"}, \"hovermode\": \"closest\", \"mapbox\": {\"style\": \"light\"}, \"paper_bgcolor\": \"white\", \"plot_bgcolor\": \"#E5ECF6\", \"polar\": {\"angularaxis\": {\"gridcolor\": \"white\", \"linecolor\": \"white\", \"ticks\": \"\"}, \"bgcolor\": \"#E5ECF6\", \"radialaxis\": {\"gridcolor\": \"white\", \"linecolor\": \"white\", \"ticks\": \"\"}}, \"scene\": {\"xaxis\": {\"backgroundcolor\": \"#E5ECF6\", \"gridcolor\": \"white\", \"gridwidth\": 2, \"linecolor\": \"white\", \"showbackground\": true, \"ticks\": \"\", \"zerolinecolor\": \"white\"}, \"yaxis\": {\"backgroundcolor\": \"#E5ECF6\", \"gridcolor\": \"white\", \"gridwidth\": 2, \"linecolor\": \"white\", \"showbackground\": true, \"ticks\": \"\", \"zerolinecolor\": \"white\"}, \"zaxis\": {\"backgroundcolor\": \"#E5ECF6\", \"gridcolor\": \"white\", \"gridwidth\": 2, \"linecolor\": \"white\", \"showbackground\": true, \"ticks\": \"\", \"zerolinecolor\": \"white\"}}, \"shapedefaults\": {\"line\": {\"color\": \"#2a3f5f\"}}, \"ternary\": {\"aaxis\": {\"gridcolor\": \"white\", \"linecolor\": \"white\", \"ticks\": \"\"}, \"baxis\": {\"gridcolor\": \"white\", \"linecolor\": \"white\", \"ticks\": \"\"}, \"bgcolor\": \"#E5ECF6\", \"caxis\": {\"gridcolor\": \"white\", \"linecolor\": \"white\", \"ticks\": \"\"}}, \"title\": {\"x\": 0.05}, \"xaxis\": {\"automargin\": true, \"gridcolor\": \"white\", \"linecolor\": \"white\", \"ticks\": \"\", \"title\": {\"standoff\": 15}, \"zerolinecolor\": \"white\", \"zerolinewidth\": 2}, \"yaxis\": {\"automargin\": true, \"gridcolor\": \"white\", \"linecolor\": \"white\", \"ticks\": \"\", \"title\": {\"standoff\": 15}, \"zerolinecolor\": \"white\", \"zerolinewidth\": 2}}}, \"xaxis\": {\"anchor\": \"y\", \"domain\": [0.0, 1.0], \"title\": {\"text\": \"Post Date\"}}, \"yaxis\": {\"anchor\": \"x\", \"domain\": [0.0, 1.0], \"title\": {\"text\": \"pos\"}}},                        {\"responsive\": true}                    ).then(function(){\n",
       "                            \n",
       "var gd = document.getElementById('9f5d5f33-26b9-477e-aea2-6374557deb5b');\n",
       "var x = new MutationObserver(function (mutations, observer) {{\n",
       "        var display = window.getComputedStyle(gd).display;\n",
       "        if (!display || display === 'none') {{\n",
       "            console.log([gd, 'removed!']);\n",
       "            Plotly.purge(gd);\n",
       "            observer.disconnect();\n",
       "        }}\n",
       "}});\n",
       "\n",
       "// Listen for the removal of the full notebook cells\n",
       "var notebookContainer = gd.closest('#notebook-container');\n",
       "if (notebookContainer) {{\n",
       "    x.observe(notebookContainer, {childList: true});\n",
       "}}\n",
       "\n",
       "// Listen for the clearing of the current output cell\n",
       "var outputEl = gd.closest('.output');\n",
       "if (outputEl) {{\n",
       "    x.observe(outputEl, {childList: true});\n",
       "}}\n",
       "\n",
       "                        })                };                });            </script>        </div>"
      ]
     },
     "metadata": {},
     "output_type": "display_data"
    }
   ],
   "source": [
    "fig = px.line(df2, x='Post Date', y='pos', color='Sentiment')\n",
    "fig.show()"
   ]
  },
  {
   "cell_type": "code",
   "execution_count": 214,
   "metadata": {},
   "outputs": [
    {
     "name": "stderr",
     "output_type": "stream",
     "text": [
      "C:\\Users\\BDelamater\\Anaconda3\\lib\\site-packages\\ipykernel\\ipkernel.py:287: DeprecationWarning:\n",
      "\n",
      "`should_run_async` will not call `transform_cell` automatically in the future. Please pass the result to `transformed_cell` argument and any exception that happen during thetransform in `preprocessing_exc_tuple` in IPython 7.17 and above.\n",
      "\n"
     ]
    }
   ],
   "source": [
    "# fig = go.figure(\n",
    "#     go.Table(\n",
    "#         columnwidth = [50,300,60,40,40],\n",
    "#         header=dict(\n",
    "#             values=[\"Timestamp\", \"Forum_Post_Raw\", \"User DisplayName\", \"Negative\", \"Neutral\", \"Positive\"],\n",
    "#             font=dict(size=10),\n",
    "#             align=\"left\"\n",
    "#         ),\n",
    "#         # cells=dict(\n",
    "#         #     values=[tweets[[\"created_at\",\"text\", \"screen_name\", \"neg\", \"neu\", \"pos\"]]],\n",
    "#         #     align = \"left\")\n",
    "#         cells=dict(values=[df['Post Date'], df.Forum_Post_Raw, df['User DisplayName'], df.neg, df.neu, df.pos],\n",
    "#                 fill_color = [[rowOddColor,rowEvenColor,rowOddColor, rowEvenColor,rowOddColor]*5],\n",
    "#                 align=['left', 'left', 'left', 'center', 'center', 'center'])        \n",
    "#     ),\n",
    "#     row=1, col=1\n",
    "# )\n",
    "# fig.update_layout(\n",
    "#     height=800,\n",
    "#     showlegend=False,\n",
    "#     title_text=\"Twitter Sentiment for \" + GraphTitle,\n",
    "# )\n",
    "\n",
    "\n",
    "\n",
    "\n",
    "# headerColor = 'grey'\n",
    "# rowEvenColor = 'lightgrey'\n",
    "# rowOddColor = 'white'\n",
    "# alignment = ['left', 'left', 'left', 'center', 'center', 'center']\n",
    "\n",
    "# fig = go.Figure(data=[go.Table(\n",
    "#     columnwidth = [30,300,60,40,40],\n",
    "#     header=dict(values=[\"Timestamp\", \"Forum_Post_Raw\", \"User DisplayName\", \"Negative\", \"Neutral\", \"Positive\"],\n",
    "#                 fill_color=headerColor,\n",
    "#                 align=alignment),\n",
    "#     cells=dict(values=[df['PostDate'].dt.strftime(\"%m/%d/%y %H:%M:%S\"), df.Forum_Post_Raw, df['User DisplayName'], df.neg, df.neu, df.pos],\n",
    "#                fill_color = [[rowOddColor,rowEvenColor]*df.shape[0]],\n",
    "#                align=alignment))\n",
    "# ])\n",
    "\n",
    "# fig.show()"
   ]
  },
  {
   "cell_type": "code",
   "execution_count": 215,
   "metadata": {},
   "outputs": [
    {
     "name": "stderr",
     "output_type": "stream",
     "text": [
      "C:\\Users\\BDelamater\\Anaconda3\\lib\\site-packages\\ipykernel\\ipkernel.py:287: DeprecationWarning:\n",
      "\n",
      "`should_run_async` will not call `transform_cell` automatically in the future. Please pass the result to `transformed_cell` argument and any exception that happen during thetransform in `preprocessing_exc_tuple` in IPython 7.17 and above.\n",
      "\n"
     ]
    }
   ],
   "source": [
    "# headerColor = 'grey'\n",
    "# rowEvenColor = 'lightgrey'\n",
    "# rowOddColor = 'white'\n",
    "\n",
    "# # for i, row in enumerate(df_Forum[\"Post Date\"]):\n",
    "# #     p = re.compile(\" 00:00:00\")\n",
    "# #     datetime = p.split(df[\"Post Date\"][i])[0]\n",
    "# #     df.iloc[i, 1] = datetime\n",
    "\n",
    "# fig = make_subplots(\n",
    "#     rows=3, cols=1,\n",
    "#     shared_xaxes=True,\n",
    "#     vertical_spacing=0.03,\n",
    "#     specs=[[{\"type\": \"table\"}],\n",
    "#            [{\"type\": \"scatter\"}],\n",
    "#            [{\"type\": \"scatter\"}]]\n",
    "# )\n",
    "\n",
    "# fig.add_trace(\n",
    "#     go.Scatter(\n",
    "#         x=df[\"Post Date\"],\n",
    "#         y=df[\"pos\"],\n",
    "#         mode=\"lines\",\n",
    "#         name=\"Positive Sentiment\"\n",
    "#     ),\n",
    "#     row=3, col=1\n",
    "# )\n",
    "\n",
    "# fig.add_trace(\n",
    "#     go.Scatter(\n",
    "#         x=df[\"Post Date\"],\n",
    "#         y=df[\"neg\"],\n",
    "#         mode=\"lines\",\n",
    "#         name=\"Negative Sentiment\"\n",
    "#     ),\n",
    "#     row=2, col=1\n",
    "# )\n",
    "\n",
    "# fig.add_trace(\n",
    "#     go.Table(\n",
    "#         columnwidth = [50,300,60,40,40],\n",
    "#         header=dict(\n",
    "#             values=[\"Timestamp\", \"Forum_Post_Raw\", \"User DisplayName\", \"Negative\", \"Neutral\", \"Positive\"],\n",
    "#             font=dict(size=10),\n",
    "#             align=\"left\"\n",
    "#         ),\n",
    "#         # cells=dict(\n",
    "#         #     values=[tweets[[\"created_at\",\"text\", \"screen_name\", \"neg\", \"neu\", \"pos\"]]],\n",
    "#         #     align = \"left\")\n",
    "#         cells=dict(values=[df['Post Date'], df.Forum_Post_Raw, df['User DisplayName'], df.neg, df.neu, df.pos],\n",
    "#                 fill_color = [[rowOddColor,rowEvenColor,rowOddColor, rowEvenColor,rowOddColor]*5],\n",
    "#                 align=['left', 'left', 'left', 'center', 'center', 'center'])        \n",
    "#     ),\n",
    "#     row=1, col=1\n",
    "# )\n",
    "# fig.update_layout(\n",
    "#     height=800,\n",
    "#     showlegend=False,\n",
    "#     title_text=\"Twitter Sentiment for \" + GraphTitle,\n",
    "# )\n",
    "\n",
    "# fig.write_html('Sentiment.html')\n",
    "# fig.show()"
   ]
  },
  {
   "cell_type": "code",
   "execution_count": 216,
   "metadata": {},
   "outputs": [
    {
     "name": "stderr",
     "output_type": "stream",
     "text": [
      "C:\\Users\\BDelamater\\Anaconda3\\lib\\site-packages\\ipykernel\\ipkernel.py:287: DeprecationWarning:\n",
      "\n",
      "`should_run_async` will not call `transform_cell` automatically in the future. Please pass the result to `transformed_cell` argument and any exception that happen during thetransform in `preprocessing_exc_tuple` in IPython 7.17 and above.\n",
      "\n"
     ]
    }
   ],
   "source": [
    "features = ['Forum_Post_Raw','neg','neu','pos']\n",
    "\n",
    "# Top 5 Neutral Tweets\n",
    "dfNeu = df[features].sort_values(\"neu\", ascending=False).head(5)\n",
    "dfNeu.name = \"Neutral\"\n",
    "\n",
    "# Top 5 Negative Tweets\n",
    "dfNeg = df[features].sort_values(\"neg\", ascending=False).head(5)\n",
    "dfNeg.name = \"Negative\"\n",
    "\n",
    "# Top 5 Positive Tweets\n",
    "dfPos = df[features].sort_values(\"pos\", ascending=False).head(5)\n",
    "dfPos.name = \"Positive\"\n",
    "dataSets = [dfNeu,dfPos, dfNeg]\n"
   ]
  },
  {
   "cell_type": "code",
   "execution_count": 217,
   "metadata": {},
   "outputs": [
    {
     "name": "stderr",
     "output_type": "stream",
     "text": [
      "C:\\Users\\BDelamater\\Anaconda3\\lib\\site-packages\\ipykernel\\ipkernel.py:287: DeprecationWarning:\n",
      "\n",
      "`should_run_async` will not call `transform_cell` automatically in the future. Please pass the result to `transformed_cell` argument and any exception that happen during thetransform in `preprocessing_exc_tuple` in IPython 7.17 and above.\n",
      "\n"
     ]
    },
    {
     "data": {
      "text/html": [
       "<div>\n",
       "<style scoped>\n",
       "    .dataframe tbody tr th:only-of-type {\n",
       "        vertical-align: middle;\n",
       "    }\n",
       "\n",
       "    .dataframe tbody tr th {\n",
       "        vertical-align: top;\n",
       "    }\n",
       "\n",
       "    .dataframe thead th {\n",
       "        text-align: right;\n",
       "    }\n",
       "</style>\n",
       "<table border=\"1\" class=\"dataframe\">\n",
       "  <thead>\n",
       "    <tr style=\"text-align: right;\">\n",
       "      <th></th>\n",
       "      <th>Forum ID</th>\n",
       "      <th>compound</th>\n",
       "      <th>neg</th>\n",
       "      <th>neu</th>\n",
       "      <th>pos</th>\n",
       "      <th>DayOfMonth</th>\n",
       "    </tr>\n",
       "  </thead>\n",
       "  <tbody>\n",
       "    <tr>\n",
       "      <th>count</th>\n",
       "      <td>1086.000000</td>\n",
       "      <td>1086.000000</td>\n",
       "      <td>1086.000000</td>\n",
       "      <td>1086.000000</td>\n",
       "      <td>1086.000000</td>\n",
       "      <td>1086.000000</td>\n",
       "    </tr>\n",
       "    <tr>\n",
       "      <th>mean</th>\n",
       "      <td>91.429098</td>\n",
       "      <td>0.358396</td>\n",
       "      <td>0.039499</td>\n",
       "      <td>0.853801</td>\n",
       "      <td>0.105767</td>\n",
       "      <td>15.840700</td>\n",
       "    </tr>\n",
       "    <tr>\n",
       "      <th>std</th>\n",
       "      <td>155.599403</td>\n",
       "      <td>0.520617</td>\n",
       "      <td>0.053476</td>\n",
       "      <td>0.091070</td>\n",
       "      <td>0.076172</td>\n",
       "      <td>8.454238</td>\n",
       "    </tr>\n",
       "    <tr>\n",
       "      <th>min</th>\n",
       "      <td>40.000000</td>\n",
       "      <td>-0.997200</td>\n",
       "      <td>0.000000</td>\n",
       "      <td>0.000000</td>\n",
       "      <td>0.000000</td>\n",
       "      <td>1.000000</td>\n",
       "    </tr>\n",
       "    <tr>\n",
       "      <th>25%</th>\n",
       "      <td>40.000000</td>\n",
       "      <td>0.000000</td>\n",
       "      <td>0.000000</td>\n",
       "      <td>0.802000</td>\n",
       "      <td>0.050000</td>\n",
       "      <td>9.000000</td>\n",
       "    </tr>\n",
       "    <tr>\n",
       "      <th>50%</th>\n",
       "      <td>40.000000</td>\n",
       "      <td>0.495150</td>\n",
       "      <td>0.018000</td>\n",
       "      <td>0.862500</td>\n",
       "      <td>0.098000</td>\n",
       "      <td>16.000000</td>\n",
       "    </tr>\n",
       "    <tr>\n",
       "      <th>75%</th>\n",
       "      <td>40.000000</td>\n",
       "      <td>0.805275</td>\n",
       "      <td>0.064000</td>\n",
       "      <td>0.916000</td>\n",
       "      <td>0.152000</td>\n",
       "      <td>23.000000</td>\n",
       "    </tr>\n",
       "    <tr>\n",
       "      <th>max</th>\n",
       "      <td>673.000000</td>\n",
       "      <td>0.989500</td>\n",
       "      <td>0.415000</td>\n",
       "      <td>1.000000</td>\n",
       "      <td>0.394000</td>\n",
       "      <td>31.000000</td>\n",
       "    </tr>\n",
       "  </tbody>\n",
       "</table>\n",
       "</div>"
      ],
      "text/plain": [
       "          Forum ID     compound          neg          neu          pos  \\\n",
       "count  1086.000000  1086.000000  1086.000000  1086.000000  1086.000000   \n",
       "mean     91.429098     0.358396     0.039499     0.853801     0.105767   \n",
       "std     155.599403     0.520617     0.053476     0.091070     0.076172   \n",
       "min      40.000000    -0.997200     0.000000     0.000000     0.000000   \n",
       "25%      40.000000     0.000000     0.000000     0.802000     0.050000   \n",
       "50%      40.000000     0.495150     0.018000     0.862500     0.098000   \n",
       "75%      40.000000     0.805275     0.064000     0.916000     0.152000   \n",
       "max     673.000000     0.989500     0.415000     1.000000     0.394000   \n",
       "\n",
       "        DayOfMonth  \n",
       "count  1086.000000  \n",
       "mean     15.840700  \n",
       "std       8.454238  \n",
       "min       1.000000  \n",
       "25%       9.000000  \n",
       "50%      16.000000  \n",
       "75%      23.000000  \n",
       "max      31.000000  "
      ]
     },
     "execution_count": 217,
     "metadata": {},
     "output_type": "execute_result"
    }
   ],
   "source": [
    "df.describe()"
   ]
  },
  {
   "cell_type": "code",
   "execution_count": 218,
   "metadata": {},
   "outputs": [
    {
     "name": "stderr",
     "output_type": "stream",
     "text": [
      "C:\\Users\\BDelamater\\Anaconda3\\lib\\site-packages\\ipykernel\\ipkernel.py:287: DeprecationWarning:\n",
      "\n",
      "`should_run_async` will not call `transform_cell` automatically in the future. Please pass the result to `transformed_cell` argument and any exception that happen during thetransform in `preprocessing_exc_tuple` in IPython 7.17 and above.\n",
      "\n"
     ]
    }
   ],
   "source": [
    "# Alternative way to make tables, doesn't work as well!\n",
    "# import plotly.figure_factory as ff\n",
    "\n",
    "# def WriteTable(dataSets):\n",
    "#     for frame in dataSets:\n",
    "#         fig =  ff.create_table(frame)\n",
    "#         fig.write_html(frame.name+\".html\")\n",
    "#         fig.show()\n",
    "\n",
    "# WriteTable(dataSets)"
   ]
  },
  {
   "cell_type": "code",
   "execution_count": 219,
   "metadata": {},
   "outputs": [
    {
     "name": "stderr",
     "output_type": "stream",
     "text": [
      "C:\\Users\\BDelamater\\Anaconda3\\lib\\site-packages\\ipykernel\\ipkernel.py:287: DeprecationWarning:\n",
      "\n",
      "`should_run_async` will not call `transform_cell` automatically in the future. Please pass the result to `transformed_cell` argument and any exception that happen during thetransform in `preprocessing_exc_tuple` in IPython 7.17 and above.\n",
      "\n"
     ]
    },
    {
     "data": {
      "application/vnd.plotly.v1+json": {
       "config": {
        "plotlyServerURL": "https://plot.ly"
       },
       "data": [
        {
         "cells": {
          "align": [
           "left",
           "center",
           "center",
           "center"
          ],
          "fill": {
           "color": [
            [
             "white",
             "lightgrey",
             "white",
             "lightgrey",
             "white",
             "white",
             "lightgrey",
             "white",
             "lightgrey",
             "white",
             "white",
             "lightgrey",
             "white",
             "lightgrey",
             "white",
             "white",
             "lightgrey",
             "white",
             "lightgrey",
             "white",
             "white",
             "lightgrey",
             "white",
             "lightgrey",
             "white"
            ]
           ]
          },
          "values": [
           [
            "Is there a way to force unique records only?",
            "I saw the posts about the parameter setting that would turn on this table being populated, but my parameters say \"no\", yet I'm seeing user transactions populate in this table.  Where are the settings that would prompt user transactions to populate in AESPION?",
            "Is there a way to reload all the default landing pages, for some reason I have a user that only shows a few, and he has admin rights so they should all be available.....",
            "Has anybody put the stock valuation report (FUNSTVA) on the batch server. \nI was wondering what the file box is used for and if somebody could give me an example path so I have an idea of what would go in there. ",
            "Hi,\nWhy does a purchase receipt take the closed state?"
           ],
           [
            0,
            0,
            0,
            0,
            0
           ],
           [
            1,
            1,
            1,
            1,
            1
           ],
           [
            0,
            0,
            0,
            0,
            0
           ]
          ]
         },
         "columnwidth": [
          300,
          40,
          40,
          40
         ],
         "header": {
          "align": [
           "left",
           "center",
           "center",
           "center"
          ],
          "fill": {
           "color": "#39416C"
          },
          "font": {
           "color": "white",
           "size": 12
          },
          "values": [
           "Forum_Post_Raw",
           "neg",
           "neu",
           "pos"
          ]
         },
         "type": "table"
        }
       ],
       "layout": {
        "height": 400,
        "template": {
         "data": {
          "bar": [
           {
            "error_x": {
             "color": "#2a3f5f"
            },
            "error_y": {
             "color": "#2a3f5f"
            },
            "marker": {
             "line": {
              "color": "#E5ECF6",
              "width": 0.5
             }
            },
            "type": "bar"
           }
          ],
          "barpolar": [
           {
            "marker": {
             "line": {
              "color": "#E5ECF6",
              "width": 0.5
             }
            },
            "type": "barpolar"
           }
          ],
          "carpet": [
           {
            "aaxis": {
             "endlinecolor": "#2a3f5f",
             "gridcolor": "white",
             "linecolor": "white",
             "minorgridcolor": "white",
             "startlinecolor": "#2a3f5f"
            },
            "baxis": {
             "endlinecolor": "#2a3f5f",
             "gridcolor": "white",
             "linecolor": "white",
             "minorgridcolor": "white",
             "startlinecolor": "#2a3f5f"
            },
            "type": "carpet"
           }
          ],
          "choropleth": [
           {
            "colorbar": {
             "outlinewidth": 0,
             "ticks": ""
            },
            "type": "choropleth"
           }
          ],
          "contour": [
           {
            "colorbar": {
             "outlinewidth": 0,
             "ticks": ""
            },
            "colorscale": [
             [
              0,
              "#0d0887"
             ],
             [
              0.1111111111111111,
              "#46039f"
             ],
             [
              0.2222222222222222,
              "#7201a8"
             ],
             [
              0.3333333333333333,
              "#9c179e"
             ],
             [
              0.4444444444444444,
              "#bd3786"
             ],
             [
              0.5555555555555556,
              "#d8576b"
             ],
             [
              0.6666666666666666,
              "#ed7953"
             ],
             [
              0.7777777777777778,
              "#fb9f3a"
             ],
             [
              0.8888888888888888,
              "#fdca26"
             ],
             [
              1,
              "#f0f921"
             ]
            ],
            "type": "contour"
           }
          ],
          "contourcarpet": [
           {
            "colorbar": {
             "outlinewidth": 0,
             "ticks": ""
            },
            "type": "contourcarpet"
           }
          ],
          "heatmap": [
           {
            "colorbar": {
             "outlinewidth": 0,
             "ticks": ""
            },
            "colorscale": [
             [
              0,
              "#0d0887"
             ],
             [
              0.1111111111111111,
              "#46039f"
             ],
             [
              0.2222222222222222,
              "#7201a8"
             ],
             [
              0.3333333333333333,
              "#9c179e"
             ],
             [
              0.4444444444444444,
              "#bd3786"
             ],
             [
              0.5555555555555556,
              "#d8576b"
             ],
             [
              0.6666666666666666,
              "#ed7953"
             ],
             [
              0.7777777777777778,
              "#fb9f3a"
             ],
             [
              0.8888888888888888,
              "#fdca26"
             ],
             [
              1,
              "#f0f921"
             ]
            ],
            "type": "heatmap"
           }
          ],
          "heatmapgl": [
           {
            "colorbar": {
             "outlinewidth": 0,
             "ticks": ""
            },
            "colorscale": [
             [
              0,
              "#0d0887"
             ],
             [
              0.1111111111111111,
              "#46039f"
             ],
             [
              0.2222222222222222,
              "#7201a8"
             ],
             [
              0.3333333333333333,
              "#9c179e"
             ],
             [
              0.4444444444444444,
              "#bd3786"
             ],
             [
              0.5555555555555556,
              "#d8576b"
             ],
             [
              0.6666666666666666,
              "#ed7953"
             ],
             [
              0.7777777777777778,
              "#fb9f3a"
             ],
             [
              0.8888888888888888,
              "#fdca26"
             ],
             [
              1,
              "#f0f921"
             ]
            ],
            "type": "heatmapgl"
           }
          ],
          "histogram": [
           {
            "marker": {
             "colorbar": {
              "outlinewidth": 0,
              "ticks": ""
             }
            },
            "type": "histogram"
           }
          ],
          "histogram2d": [
           {
            "colorbar": {
             "outlinewidth": 0,
             "ticks": ""
            },
            "colorscale": [
             [
              0,
              "#0d0887"
             ],
             [
              0.1111111111111111,
              "#46039f"
             ],
             [
              0.2222222222222222,
              "#7201a8"
             ],
             [
              0.3333333333333333,
              "#9c179e"
             ],
             [
              0.4444444444444444,
              "#bd3786"
             ],
             [
              0.5555555555555556,
              "#d8576b"
             ],
             [
              0.6666666666666666,
              "#ed7953"
             ],
             [
              0.7777777777777778,
              "#fb9f3a"
             ],
             [
              0.8888888888888888,
              "#fdca26"
             ],
             [
              1,
              "#f0f921"
             ]
            ],
            "type": "histogram2d"
           }
          ],
          "histogram2dcontour": [
           {
            "colorbar": {
             "outlinewidth": 0,
             "ticks": ""
            },
            "colorscale": [
             [
              0,
              "#0d0887"
             ],
             [
              0.1111111111111111,
              "#46039f"
             ],
             [
              0.2222222222222222,
              "#7201a8"
             ],
             [
              0.3333333333333333,
              "#9c179e"
             ],
             [
              0.4444444444444444,
              "#bd3786"
             ],
             [
              0.5555555555555556,
              "#d8576b"
             ],
             [
              0.6666666666666666,
              "#ed7953"
             ],
             [
              0.7777777777777778,
              "#fb9f3a"
             ],
             [
              0.8888888888888888,
              "#fdca26"
             ],
             [
              1,
              "#f0f921"
             ]
            ],
            "type": "histogram2dcontour"
           }
          ],
          "mesh3d": [
           {
            "colorbar": {
             "outlinewidth": 0,
             "ticks": ""
            },
            "type": "mesh3d"
           }
          ],
          "parcoords": [
           {
            "line": {
             "colorbar": {
              "outlinewidth": 0,
              "ticks": ""
             }
            },
            "type": "parcoords"
           }
          ],
          "pie": [
           {
            "automargin": true,
            "type": "pie"
           }
          ],
          "scatter": [
           {
            "marker": {
             "colorbar": {
              "outlinewidth": 0,
              "ticks": ""
             }
            },
            "type": "scatter"
           }
          ],
          "scatter3d": [
           {
            "line": {
             "colorbar": {
              "outlinewidth": 0,
              "ticks": ""
             }
            },
            "marker": {
             "colorbar": {
              "outlinewidth": 0,
              "ticks": ""
             }
            },
            "type": "scatter3d"
           }
          ],
          "scattercarpet": [
           {
            "marker": {
             "colorbar": {
              "outlinewidth": 0,
              "ticks": ""
             }
            },
            "type": "scattercarpet"
           }
          ],
          "scattergeo": [
           {
            "marker": {
             "colorbar": {
              "outlinewidth": 0,
              "ticks": ""
             }
            },
            "type": "scattergeo"
           }
          ],
          "scattergl": [
           {
            "marker": {
             "colorbar": {
              "outlinewidth": 0,
              "ticks": ""
             }
            },
            "type": "scattergl"
           }
          ],
          "scattermapbox": [
           {
            "marker": {
             "colorbar": {
              "outlinewidth": 0,
              "ticks": ""
             }
            },
            "type": "scattermapbox"
           }
          ],
          "scatterpolar": [
           {
            "marker": {
             "colorbar": {
              "outlinewidth": 0,
              "ticks": ""
             }
            },
            "type": "scatterpolar"
           }
          ],
          "scatterpolargl": [
           {
            "marker": {
             "colorbar": {
              "outlinewidth": 0,
              "ticks": ""
             }
            },
            "type": "scatterpolargl"
           }
          ],
          "scatterternary": [
           {
            "marker": {
             "colorbar": {
              "outlinewidth": 0,
              "ticks": ""
             }
            },
            "type": "scatterternary"
           }
          ],
          "surface": [
           {
            "colorbar": {
             "outlinewidth": 0,
             "ticks": ""
            },
            "colorscale": [
             [
              0,
              "#0d0887"
             ],
             [
              0.1111111111111111,
              "#46039f"
             ],
             [
              0.2222222222222222,
              "#7201a8"
             ],
             [
              0.3333333333333333,
              "#9c179e"
             ],
             [
              0.4444444444444444,
              "#bd3786"
             ],
             [
              0.5555555555555556,
              "#d8576b"
             ],
             [
              0.6666666666666666,
              "#ed7953"
             ],
             [
              0.7777777777777778,
              "#fb9f3a"
             ],
             [
              0.8888888888888888,
              "#fdca26"
             ],
             [
              1,
              "#f0f921"
             ]
            ],
            "type": "surface"
           }
          ],
          "table": [
           {
            "cells": {
             "fill": {
              "color": "#EBF0F8"
             },
             "line": {
              "color": "white"
             }
            },
            "header": {
             "fill": {
              "color": "#C8D4E3"
             },
             "line": {
              "color": "white"
             }
            },
            "type": "table"
           }
          ]
         },
         "layout": {
          "annotationdefaults": {
           "arrowcolor": "#2a3f5f",
           "arrowhead": 0,
           "arrowwidth": 1
          },
          "autotypenumbers": "strict",
          "coloraxis": {
           "colorbar": {
            "outlinewidth": 0,
            "ticks": ""
           }
          },
          "colorscale": {
           "diverging": [
            [
             0,
             "#8e0152"
            ],
            [
             0.1,
             "#c51b7d"
            ],
            [
             0.2,
             "#de77ae"
            ],
            [
             0.3,
             "#f1b6da"
            ],
            [
             0.4,
             "#fde0ef"
            ],
            [
             0.5,
             "#f7f7f7"
            ],
            [
             0.6,
             "#e6f5d0"
            ],
            [
             0.7,
             "#b8e186"
            ],
            [
             0.8,
             "#7fbc41"
            ],
            [
             0.9,
             "#4d9221"
            ],
            [
             1,
             "#276419"
            ]
           ],
           "sequential": [
            [
             0,
             "#0d0887"
            ],
            [
             0.1111111111111111,
             "#46039f"
            ],
            [
             0.2222222222222222,
             "#7201a8"
            ],
            [
             0.3333333333333333,
             "#9c179e"
            ],
            [
             0.4444444444444444,
             "#bd3786"
            ],
            [
             0.5555555555555556,
             "#d8576b"
            ],
            [
             0.6666666666666666,
             "#ed7953"
            ],
            [
             0.7777777777777778,
             "#fb9f3a"
            ],
            [
             0.8888888888888888,
             "#fdca26"
            ],
            [
             1,
             "#f0f921"
            ]
           ],
           "sequentialminus": [
            [
             0,
             "#0d0887"
            ],
            [
             0.1111111111111111,
             "#46039f"
            ],
            [
             0.2222222222222222,
             "#7201a8"
            ],
            [
             0.3333333333333333,
             "#9c179e"
            ],
            [
             0.4444444444444444,
             "#bd3786"
            ],
            [
             0.5555555555555556,
             "#d8576b"
            ],
            [
             0.6666666666666666,
             "#ed7953"
            ],
            [
             0.7777777777777778,
             "#fb9f3a"
            ],
            [
             0.8888888888888888,
             "#fdca26"
            ],
            [
             1,
             "#f0f921"
            ]
           ]
          },
          "colorway": [
           "#636efa",
           "#EF553B",
           "#00cc96",
           "#ab63fa",
           "#FFA15A",
           "#19d3f3",
           "#FF6692",
           "#B6E880",
           "#FF97FF",
           "#FECB52"
          ],
          "font": {
           "color": "#2a3f5f"
          },
          "geo": {
           "bgcolor": "white",
           "lakecolor": "white",
           "landcolor": "#E5ECF6",
           "showlakes": true,
           "showland": true,
           "subunitcolor": "white"
          },
          "hoverlabel": {
           "align": "left"
          },
          "hovermode": "closest",
          "mapbox": {
           "style": "light"
          },
          "paper_bgcolor": "white",
          "plot_bgcolor": "#E5ECF6",
          "polar": {
           "angularaxis": {
            "gridcolor": "white",
            "linecolor": "white",
            "ticks": ""
           },
           "bgcolor": "#E5ECF6",
           "radialaxis": {
            "gridcolor": "white",
            "linecolor": "white",
            "ticks": ""
           }
          },
          "scene": {
           "xaxis": {
            "backgroundcolor": "#E5ECF6",
            "gridcolor": "white",
            "gridwidth": 2,
            "linecolor": "white",
            "showbackground": true,
            "ticks": "",
            "zerolinecolor": "white"
           },
           "yaxis": {
            "backgroundcolor": "#E5ECF6",
            "gridcolor": "white",
            "gridwidth": 2,
            "linecolor": "white",
            "showbackground": true,
            "ticks": "",
            "zerolinecolor": "white"
           },
           "zaxis": {
            "backgroundcolor": "#E5ECF6",
            "gridcolor": "white",
            "gridwidth": 2,
            "linecolor": "white",
            "showbackground": true,
            "ticks": "",
            "zerolinecolor": "white"
           }
          },
          "shapedefaults": {
           "line": {
            "color": "#2a3f5f"
           }
          },
          "ternary": {
           "aaxis": {
            "gridcolor": "white",
            "linecolor": "white",
            "ticks": ""
           },
           "baxis": {
            "gridcolor": "white",
            "linecolor": "white",
            "ticks": ""
           },
           "bgcolor": "#E5ECF6",
           "caxis": {
            "gridcolor": "white",
            "linecolor": "white",
            "ticks": ""
           }
          },
          "title": {
           "x": 0.05
          },
          "xaxis": {
           "automargin": true,
           "gridcolor": "white",
           "linecolor": "white",
           "ticks": "",
           "title": {
            "standoff": 15
           },
           "zerolinecolor": "white",
           "zerolinewidth": 2
          },
          "yaxis": {
           "automargin": true,
           "gridcolor": "white",
           "linecolor": "white",
           "ticks": "",
           "title": {
            "standoff": 15
           },
           "zerolinecolor": "white",
           "zerolinewidth": 2
          }
         }
        },
        "title": {
         "text": "Neutral"
        },
        "width": 1000
       }
      },
      "text/html": [
       "<div>                            <div id=\"5362d14f-5331-41b4-b16c-40a6563f3b44\" class=\"plotly-graph-div\" style=\"height:400px; width:1000px;\"></div>            <script type=\"text/javascript\">                require([\"plotly\"], function(Plotly) {                    window.PLOTLYENV=window.PLOTLYENV || {};                                    if (document.getElementById(\"5362d14f-5331-41b4-b16c-40a6563f3b44\")) {                    Plotly.newPlot(                        \"5362d14f-5331-41b4-b16c-40a6563f3b44\",                        [{\"cells\": {\"align\": [\"left\", \"center\", \"center\", \"center\"], \"fill\": {\"color\": [[\"white\", \"lightgrey\", \"white\", \"lightgrey\", \"white\", \"white\", \"lightgrey\", \"white\", \"lightgrey\", \"white\", \"white\", \"lightgrey\", \"white\", \"lightgrey\", \"white\", \"white\", \"lightgrey\", \"white\", \"lightgrey\", \"white\", \"white\", \"lightgrey\", \"white\", \"lightgrey\", \"white\"]]}, \"values\": [[\"Is there a way to force unique records only?\", \"I saw the posts about the parameter setting that would turn on this table being populated, but my parameters say \\\"no\\\", yet I'm seeing user transactions populate in this table.\\u00a0 Where are the settings that would prompt user transactions to populate in\\u00a0AESPION?\", \"Is there a way to reload all the default landing pages, for some reason I have a user that only shows a few, and he has admin rights so they should all be available.....\", \"Has anybody put the stock valuation report (FUNSTVA) on the batch server.\\u00a0\\nI was wondering what the file box is used for and if somebody could give me an example path so I have an idea of what would go in there.\\u00a0\", \"Hi,\\nWhy does a purchase receipt take the closed state?\"], [0.0, 0.0, 0.0, 0.0, 0.0], [1.0, 1.0, 1.0, 1.0, 1.0], [0.0, 0.0, 0.0, 0.0, 0.0]]}, \"columnwidth\": [300, 40, 40, 40], \"header\": {\"align\": [\"left\", \"center\", \"center\", \"center\"], \"fill\": {\"color\": \"#39416C\"}, \"font\": {\"color\": \"white\", \"size\": 12}, \"values\": [\"Forum_Post_Raw\", \"neg\", \"neu\", \"pos\"]}, \"type\": \"table\"}],                        {\"height\": 400, \"template\": {\"data\": {\"bar\": [{\"error_x\": {\"color\": \"#2a3f5f\"}, \"error_y\": {\"color\": \"#2a3f5f\"}, \"marker\": {\"line\": {\"color\": \"#E5ECF6\", \"width\": 0.5}}, \"type\": \"bar\"}], \"barpolar\": [{\"marker\": {\"line\": {\"color\": \"#E5ECF6\", \"width\": 0.5}}, \"type\": \"barpolar\"}], \"carpet\": [{\"aaxis\": {\"endlinecolor\": \"#2a3f5f\", \"gridcolor\": \"white\", \"linecolor\": \"white\", \"minorgridcolor\": \"white\", \"startlinecolor\": \"#2a3f5f\"}, \"baxis\": {\"endlinecolor\": \"#2a3f5f\", \"gridcolor\": \"white\", \"linecolor\": \"white\", \"minorgridcolor\": \"white\", \"startlinecolor\": \"#2a3f5f\"}, \"type\": \"carpet\"}], \"choropleth\": [{\"colorbar\": {\"outlinewidth\": 0, \"ticks\": \"\"}, \"type\": \"choropleth\"}], \"contour\": [{\"colorbar\": {\"outlinewidth\": 0, \"ticks\": \"\"}, \"colorscale\": [[0.0, \"#0d0887\"], [0.1111111111111111, \"#46039f\"], [0.2222222222222222, \"#7201a8\"], [0.3333333333333333, \"#9c179e\"], [0.4444444444444444, \"#bd3786\"], [0.5555555555555556, \"#d8576b\"], [0.6666666666666666, \"#ed7953\"], [0.7777777777777778, \"#fb9f3a\"], [0.8888888888888888, \"#fdca26\"], [1.0, \"#f0f921\"]], \"type\": \"contour\"}], \"contourcarpet\": [{\"colorbar\": {\"outlinewidth\": 0, \"ticks\": \"\"}, \"type\": \"contourcarpet\"}], \"heatmap\": [{\"colorbar\": {\"outlinewidth\": 0, \"ticks\": \"\"}, \"colorscale\": [[0.0, \"#0d0887\"], [0.1111111111111111, \"#46039f\"], [0.2222222222222222, \"#7201a8\"], [0.3333333333333333, \"#9c179e\"], [0.4444444444444444, \"#bd3786\"], [0.5555555555555556, \"#d8576b\"], [0.6666666666666666, \"#ed7953\"], [0.7777777777777778, \"#fb9f3a\"], [0.8888888888888888, \"#fdca26\"], [1.0, \"#f0f921\"]], \"type\": \"heatmap\"}], \"heatmapgl\": [{\"colorbar\": {\"outlinewidth\": 0, \"ticks\": \"\"}, \"colorscale\": [[0.0, \"#0d0887\"], [0.1111111111111111, \"#46039f\"], [0.2222222222222222, \"#7201a8\"], [0.3333333333333333, \"#9c179e\"], [0.4444444444444444, \"#bd3786\"], [0.5555555555555556, \"#d8576b\"], [0.6666666666666666, \"#ed7953\"], [0.7777777777777778, \"#fb9f3a\"], [0.8888888888888888, \"#fdca26\"], [1.0, \"#f0f921\"]], \"type\": \"heatmapgl\"}], \"histogram\": [{\"marker\": {\"colorbar\": {\"outlinewidth\": 0, \"ticks\": \"\"}}, \"type\": \"histogram\"}], \"histogram2d\": [{\"colorbar\": {\"outlinewidth\": 0, \"ticks\": \"\"}, \"colorscale\": [[0.0, \"#0d0887\"], [0.1111111111111111, \"#46039f\"], [0.2222222222222222, \"#7201a8\"], [0.3333333333333333, \"#9c179e\"], [0.4444444444444444, \"#bd3786\"], [0.5555555555555556, \"#d8576b\"], [0.6666666666666666, \"#ed7953\"], [0.7777777777777778, \"#fb9f3a\"], [0.8888888888888888, \"#fdca26\"], [1.0, \"#f0f921\"]], \"type\": \"histogram2d\"}], \"histogram2dcontour\": [{\"colorbar\": {\"outlinewidth\": 0, \"ticks\": \"\"}, \"colorscale\": [[0.0, \"#0d0887\"], [0.1111111111111111, \"#46039f\"], [0.2222222222222222, \"#7201a8\"], [0.3333333333333333, \"#9c179e\"], [0.4444444444444444, \"#bd3786\"], [0.5555555555555556, \"#d8576b\"], [0.6666666666666666, \"#ed7953\"], [0.7777777777777778, \"#fb9f3a\"], [0.8888888888888888, \"#fdca26\"], [1.0, \"#f0f921\"]], \"type\": \"histogram2dcontour\"}], \"mesh3d\": [{\"colorbar\": {\"outlinewidth\": 0, \"ticks\": \"\"}, \"type\": \"mesh3d\"}], \"parcoords\": [{\"line\": {\"colorbar\": {\"outlinewidth\": 0, \"ticks\": \"\"}}, \"type\": \"parcoords\"}], \"pie\": [{\"automargin\": true, \"type\": \"pie\"}], \"scatter\": [{\"marker\": {\"colorbar\": {\"outlinewidth\": 0, \"ticks\": \"\"}}, \"type\": \"scatter\"}], \"scatter3d\": [{\"line\": {\"colorbar\": {\"outlinewidth\": 0, \"ticks\": \"\"}}, \"marker\": {\"colorbar\": {\"outlinewidth\": 0, \"ticks\": \"\"}}, \"type\": \"scatter3d\"}], \"scattercarpet\": [{\"marker\": {\"colorbar\": {\"outlinewidth\": 0, \"ticks\": \"\"}}, \"type\": \"scattercarpet\"}], \"scattergeo\": [{\"marker\": {\"colorbar\": {\"outlinewidth\": 0, \"ticks\": \"\"}}, \"type\": \"scattergeo\"}], \"scattergl\": [{\"marker\": {\"colorbar\": {\"outlinewidth\": 0, \"ticks\": \"\"}}, \"type\": \"scattergl\"}], \"scattermapbox\": [{\"marker\": {\"colorbar\": {\"outlinewidth\": 0, \"ticks\": \"\"}}, \"type\": \"scattermapbox\"}], \"scatterpolar\": [{\"marker\": {\"colorbar\": {\"outlinewidth\": 0, \"ticks\": \"\"}}, \"type\": \"scatterpolar\"}], \"scatterpolargl\": [{\"marker\": {\"colorbar\": {\"outlinewidth\": 0, \"ticks\": \"\"}}, \"type\": \"scatterpolargl\"}], \"scatterternary\": [{\"marker\": {\"colorbar\": {\"outlinewidth\": 0, \"ticks\": \"\"}}, \"type\": \"scatterternary\"}], \"surface\": [{\"colorbar\": {\"outlinewidth\": 0, \"ticks\": \"\"}, \"colorscale\": [[0.0, \"#0d0887\"], [0.1111111111111111, \"#46039f\"], [0.2222222222222222, \"#7201a8\"], [0.3333333333333333, \"#9c179e\"], [0.4444444444444444, \"#bd3786\"], [0.5555555555555556, \"#d8576b\"], [0.6666666666666666, \"#ed7953\"], [0.7777777777777778, \"#fb9f3a\"], [0.8888888888888888, \"#fdca26\"], [1.0, \"#f0f921\"]], \"type\": \"surface\"}], \"table\": [{\"cells\": {\"fill\": {\"color\": \"#EBF0F8\"}, \"line\": {\"color\": \"white\"}}, \"header\": {\"fill\": {\"color\": \"#C8D4E3\"}, \"line\": {\"color\": \"white\"}}, \"type\": \"table\"}]}, \"layout\": {\"annotationdefaults\": {\"arrowcolor\": \"#2a3f5f\", \"arrowhead\": 0, \"arrowwidth\": 1}, \"autotypenumbers\": \"strict\", \"coloraxis\": {\"colorbar\": {\"outlinewidth\": 0, \"ticks\": \"\"}}, \"colorscale\": {\"diverging\": [[0, \"#8e0152\"], [0.1, \"#c51b7d\"], [0.2, \"#de77ae\"], [0.3, \"#f1b6da\"], [0.4, \"#fde0ef\"], [0.5, \"#f7f7f7\"], [0.6, \"#e6f5d0\"], [0.7, \"#b8e186\"], [0.8, \"#7fbc41\"], [0.9, \"#4d9221\"], [1, \"#276419\"]], \"sequential\": [[0.0, \"#0d0887\"], [0.1111111111111111, \"#46039f\"], [0.2222222222222222, \"#7201a8\"], [0.3333333333333333, \"#9c179e\"], [0.4444444444444444, \"#bd3786\"], [0.5555555555555556, \"#d8576b\"], [0.6666666666666666, \"#ed7953\"], [0.7777777777777778, \"#fb9f3a\"], [0.8888888888888888, \"#fdca26\"], [1.0, \"#f0f921\"]], \"sequentialminus\": [[0.0, \"#0d0887\"], [0.1111111111111111, \"#46039f\"], [0.2222222222222222, \"#7201a8\"], [0.3333333333333333, \"#9c179e\"], [0.4444444444444444, \"#bd3786\"], [0.5555555555555556, \"#d8576b\"], [0.6666666666666666, \"#ed7953\"], [0.7777777777777778, \"#fb9f3a\"], [0.8888888888888888, \"#fdca26\"], [1.0, \"#f0f921\"]]}, \"colorway\": [\"#636efa\", \"#EF553B\", \"#00cc96\", \"#ab63fa\", \"#FFA15A\", \"#19d3f3\", \"#FF6692\", \"#B6E880\", \"#FF97FF\", \"#FECB52\"], \"font\": {\"color\": \"#2a3f5f\"}, \"geo\": {\"bgcolor\": \"white\", \"lakecolor\": \"white\", \"landcolor\": \"#E5ECF6\", \"showlakes\": true, \"showland\": true, \"subunitcolor\": \"white\"}, \"hoverlabel\": {\"align\": \"left\"}, \"hovermode\": \"closest\", \"mapbox\": {\"style\": \"light\"}, \"paper_bgcolor\": \"white\", \"plot_bgcolor\": \"#E5ECF6\", \"polar\": {\"angularaxis\": {\"gridcolor\": \"white\", \"linecolor\": \"white\", \"ticks\": \"\"}, \"bgcolor\": \"#E5ECF6\", \"radialaxis\": {\"gridcolor\": \"white\", \"linecolor\": \"white\", \"ticks\": \"\"}}, \"scene\": {\"xaxis\": {\"backgroundcolor\": \"#E5ECF6\", \"gridcolor\": \"white\", \"gridwidth\": 2, \"linecolor\": \"white\", \"showbackground\": true, \"ticks\": \"\", \"zerolinecolor\": \"white\"}, \"yaxis\": {\"backgroundcolor\": \"#E5ECF6\", \"gridcolor\": \"white\", \"gridwidth\": 2, \"linecolor\": \"white\", \"showbackground\": true, \"ticks\": \"\", \"zerolinecolor\": \"white\"}, \"zaxis\": {\"backgroundcolor\": \"#E5ECF6\", \"gridcolor\": \"white\", \"gridwidth\": 2, \"linecolor\": \"white\", \"showbackground\": true, \"ticks\": \"\", \"zerolinecolor\": \"white\"}}, \"shapedefaults\": {\"line\": {\"color\": \"#2a3f5f\"}}, \"ternary\": {\"aaxis\": {\"gridcolor\": \"white\", \"linecolor\": \"white\", \"ticks\": \"\"}, \"baxis\": {\"gridcolor\": \"white\", \"linecolor\": \"white\", \"ticks\": \"\"}, \"bgcolor\": \"#E5ECF6\", \"caxis\": {\"gridcolor\": \"white\", \"linecolor\": \"white\", \"ticks\": \"\"}}, \"title\": {\"x\": 0.05}, \"xaxis\": {\"automargin\": true, \"gridcolor\": \"white\", \"linecolor\": \"white\", \"ticks\": \"\", \"title\": {\"standoff\": 15}, \"zerolinecolor\": \"white\", \"zerolinewidth\": 2}, \"yaxis\": {\"automargin\": true, \"gridcolor\": \"white\", \"linecolor\": \"white\", \"ticks\": \"\", \"title\": {\"standoff\": 15}, \"zerolinecolor\": \"white\", \"zerolinewidth\": 2}}}, \"title\": {\"text\": \"Neutral\"}, \"width\": 1000},                        {\"responsive\": true}                    ).then(function(){\n",
       "                            \n",
       "var gd = document.getElementById('5362d14f-5331-41b4-b16c-40a6563f3b44');\n",
       "var x = new MutationObserver(function (mutations, observer) {{\n",
       "        var display = window.getComputedStyle(gd).display;\n",
       "        if (!display || display === 'none') {{\n",
       "            console.log([gd, 'removed!']);\n",
       "            Plotly.purge(gd);\n",
       "            observer.disconnect();\n",
       "        }}\n",
       "}});\n",
       "\n",
       "// Listen for the removal of the full notebook cells\n",
       "var notebookContainer = gd.closest('#notebook-container');\n",
       "if (notebookContainer) {{\n",
       "    x.observe(notebookContainer, {childList: true});\n",
       "}}\n",
       "\n",
       "// Listen for the clearing of the current output cell\n",
       "var outputEl = gd.closest('.output');\n",
       "if (outputEl) {{\n",
       "    x.observe(outputEl, {childList: true});\n",
       "}}\n",
       "\n",
       "                        })                };                });            </script>        </div>"
      ]
     },
     "metadata": {},
     "output_type": "display_data"
    },
    {
     "data": {
      "application/vnd.plotly.v1+json": {
       "config": {
        "plotlyServerURL": "https://plot.ly"
       },
       "data": [
        {
         "cells": {
          "align": [
           "left",
           "center",
           "center",
           "center"
          ],
          "fill": {
           "color": [
            [
             "white",
             "lightgrey",
             "white",
             "lightgrey",
             "white",
             "white",
             "lightgrey",
             "white",
             "lightgrey",
             "white",
             "white",
             "lightgrey",
             "white",
             "lightgrey",
             "white",
             "white",
             "lightgrey",
             "white",
             "lightgrey",
             "white",
             "white",
             "lightgrey",
             "white",
             "lightgrey",
             "white"
            ]
           ]
          },
          "values": [
           [
            "Has anyone created an import template for overseas containers?  Thanks!",
            "Hello All,\nHappy new year.\nPlease i notice on payment screen E.g Bank transfer - if i try to search for a transaction using amount field i get an error message. \nPlease kindly find screen shot below..\n\n\nPlease help.\n\nThank you.",
            "Hi Everyone! Wish you all an great 2021!\nI'm new to SAGE X3.\nHow can I refresh a query on \"landing page\"?\nI've tried with parameters \"portview\" and \"frequency\" but no success. \n\nAm I using the parameters correctly?\nThank you, for your help.\nBest regards,\nDaniel",
            "\n\nI have a problem in the transport counter despite the counter has been well created and well affect the counter allocation level, thank you for helping me to find a solution\n\n\n",
            "EAM JOB CARD Error occurs when trying to save on step 4 'Create transactions'\nPlease advise\n\n'"
           ],
           [
            0,
            0.054,
            0.045,
            0.073,
            0.127
           ],
           [
            0.606,
            0.563,
            0.583,
            0.569,
            0.516
           ],
           [
            0.394,
            0.382,
            0.372,
            0.358,
            0.357
           ]
          ]
         },
         "columnwidth": [
          300,
          40,
          40,
          40
         ],
         "header": {
          "align": [
           "left",
           "center",
           "center",
           "center"
          ],
          "fill": {
           "color": "#39416C"
          },
          "font": {
           "color": "white",
           "size": 12
          },
          "values": [
           "Forum_Post_Raw",
           "neg",
           "neu",
           "pos"
          ]
         },
         "type": "table"
        }
       ],
       "layout": {
        "height": 400,
        "template": {
         "data": {
          "bar": [
           {
            "error_x": {
             "color": "#2a3f5f"
            },
            "error_y": {
             "color": "#2a3f5f"
            },
            "marker": {
             "line": {
              "color": "#E5ECF6",
              "width": 0.5
             }
            },
            "type": "bar"
           }
          ],
          "barpolar": [
           {
            "marker": {
             "line": {
              "color": "#E5ECF6",
              "width": 0.5
             }
            },
            "type": "barpolar"
           }
          ],
          "carpet": [
           {
            "aaxis": {
             "endlinecolor": "#2a3f5f",
             "gridcolor": "white",
             "linecolor": "white",
             "minorgridcolor": "white",
             "startlinecolor": "#2a3f5f"
            },
            "baxis": {
             "endlinecolor": "#2a3f5f",
             "gridcolor": "white",
             "linecolor": "white",
             "minorgridcolor": "white",
             "startlinecolor": "#2a3f5f"
            },
            "type": "carpet"
           }
          ],
          "choropleth": [
           {
            "colorbar": {
             "outlinewidth": 0,
             "ticks": ""
            },
            "type": "choropleth"
           }
          ],
          "contour": [
           {
            "colorbar": {
             "outlinewidth": 0,
             "ticks": ""
            },
            "colorscale": [
             [
              0,
              "#0d0887"
             ],
             [
              0.1111111111111111,
              "#46039f"
             ],
             [
              0.2222222222222222,
              "#7201a8"
             ],
             [
              0.3333333333333333,
              "#9c179e"
             ],
             [
              0.4444444444444444,
              "#bd3786"
             ],
             [
              0.5555555555555556,
              "#d8576b"
             ],
             [
              0.6666666666666666,
              "#ed7953"
             ],
             [
              0.7777777777777778,
              "#fb9f3a"
             ],
             [
              0.8888888888888888,
              "#fdca26"
             ],
             [
              1,
              "#f0f921"
             ]
            ],
            "type": "contour"
           }
          ],
          "contourcarpet": [
           {
            "colorbar": {
             "outlinewidth": 0,
             "ticks": ""
            },
            "type": "contourcarpet"
           }
          ],
          "heatmap": [
           {
            "colorbar": {
             "outlinewidth": 0,
             "ticks": ""
            },
            "colorscale": [
             [
              0,
              "#0d0887"
             ],
             [
              0.1111111111111111,
              "#46039f"
             ],
             [
              0.2222222222222222,
              "#7201a8"
             ],
             [
              0.3333333333333333,
              "#9c179e"
             ],
             [
              0.4444444444444444,
              "#bd3786"
             ],
             [
              0.5555555555555556,
              "#d8576b"
             ],
             [
              0.6666666666666666,
              "#ed7953"
             ],
             [
              0.7777777777777778,
              "#fb9f3a"
             ],
             [
              0.8888888888888888,
              "#fdca26"
             ],
             [
              1,
              "#f0f921"
             ]
            ],
            "type": "heatmap"
           }
          ],
          "heatmapgl": [
           {
            "colorbar": {
             "outlinewidth": 0,
             "ticks": ""
            },
            "colorscale": [
             [
              0,
              "#0d0887"
             ],
             [
              0.1111111111111111,
              "#46039f"
             ],
             [
              0.2222222222222222,
              "#7201a8"
             ],
             [
              0.3333333333333333,
              "#9c179e"
             ],
             [
              0.4444444444444444,
              "#bd3786"
             ],
             [
              0.5555555555555556,
              "#d8576b"
             ],
             [
              0.6666666666666666,
              "#ed7953"
             ],
             [
              0.7777777777777778,
              "#fb9f3a"
             ],
             [
              0.8888888888888888,
              "#fdca26"
             ],
             [
              1,
              "#f0f921"
             ]
            ],
            "type": "heatmapgl"
           }
          ],
          "histogram": [
           {
            "marker": {
             "colorbar": {
              "outlinewidth": 0,
              "ticks": ""
             }
            },
            "type": "histogram"
           }
          ],
          "histogram2d": [
           {
            "colorbar": {
             "outlinewidth": 0,
             "ticks": ""
            },
            "colorscale": [
             [
              0,
              "#0d0887"
             ],
             [
              0.1111111111111111,
              "#46039f"
             ],
             [
              0.2222222222222222,
              "#7201a8"
             ],
             [
              0.3333333333333333,
              "#9c179e"
             ],
             [
              0.4444444444444444,
              "#bd3786"
             ],
             [
              0.5555555555555556,
              "#d8576b"
             ],
             [
              0.6666666666666666,
              "#ed7953"
             ],
             [
              0.7777777777777778,
              "#fb9f3a"
             ],
             [
              0.8888888888888888,
              "#fdca26"
             ],
             [
              1,
              "#f0f921"
             ]
            ],
            "type": "histogram2d"
           }
          ],
          "histogram2dcontour": [
           {
            "colorbar": {
             "outlinewidth": 0,
             "ticks": ""
            },
            "colorscale": [
             [
              0,
              "#0d0887"
             ],
             [
              0.1111111111111111,
              "#46039f"
             ],
             [
              0.2222222222222222,
              "#7201a8"
             ],
             [
              0.3333333333333333,
              "#9c179e"
             ],
             [
              0.4444444444444444,
              "#bd3786"
             ],
             [
              0.5555555555555556,
              "#d8576b"
             ],
             [
              0.6666666666666666,
              "#ed7953"
             ],
             [
              0.7777777777777778,
              "#fb9f3a"
             ],
             [
              0.8888888888888888,
              "#fdca26"
             ],
             [
              1,
              "#f0f921"
             ]
            ],
            "type": "histogram2dcontour"
           }
          ],
          "mesh3d": [
           {
            "colorbar": {
             "outlinewidth": 0,
             "ticks": ""
            },
            "type": "mesh3d"
           }
          ],
          "parcoords": [
           {
            "line": {
             "colorbar": {
              "outlinewidth": 0,
              "ticks": ""
             }
            },
            "type": "parcoords"
           }
          ],
          "pie": [
           {
            "automargin": true,
            "type": "pie"
           }
          ],
          "scatter": [
           {
            "marker": {
             "colorbar": {
              "outlinewidth": 0,
              "ticks": ""
             }
            },
            "type": "scatter"
           }
          ],
          "scatter3d": [
           {
            "line": {
             "colorbar": {
              "outlinewidth": 0,
              "ticks": ""
             }
            },
            "marker": {
             "colorbar": {
              "outlinewidth": 0,
              "ticks": ""
             }
            },
            "type": "scatter3d"
           }
          ],
          "scattercarpet": [
           {
            "marker": {
             "colorbar": {
              "outlinewidth": 0,
              "ticks": ""
             }
            },
            "type": "scattercarpet"
           }
          ],
          "scattergeo": [
           {
            "marker": {
             "colorbar": {
              "outlinewidth": 0,
              "ticks": ""
             }
            },
            "type": "scattergeo"
           }
          ],
          "scattergl": [
           {
            "marker": {
             "colorbar": {
              "outlinewidth": 0,
              "ticks": ""
             }
            },
            "type": "scattergl"
           }
          ],
          "scattermapbox": [
           {
            "marker": {
             "colorbar": {
              "outlinewidth": 0,
              "ticks": ""
             }
            },
            "type": "scattermapbox"
           }
          ],
          "scatterpolar": [
           {
            "marker": {
             "colorbar": {
              "outlinewidth": 0,
              "ticks": ""
             }
            },
            "type": "scatterpolar"
           }
          ],
          "scatterpolargl": [
           {
            "marker": {
             "colorbar": {
              "outlinewidth": 0,
              "ticks": ""
             }
            },
            "type": "scatterpolargl"
           }
          ],
          "scatterternary": [
           {
            "marker": {
             "colorbar": {
              "outlinewidth": 0,
              "ticks": ""
             }
            },
            "type": "scatterternary"
           }
          ],
          "surface": [
           {
            "colorbar": {
             "outlinewidth": 0,
             "ticks": ""
            },
            "colorscale": [
             [
              0,
              "#0d0887"
             ],
             [
              0.1111111111111111,
              "#46039f"
             ],
             [
              0.2222222222222222,
              "#7201a8"
             ],
             [
              0.3333333333333333,
              "#9c179e"
             ],
             [
              0.4444444444444444,
              "#bd3786"
             ],
             [
              0.5555555555555556,
              "#d8576b"
             ],
             [
              0.6666666666666666,
              "#ed7953"
             ],
             [
              0.7777777777777778,
              "#fb9f3a"
             ],
             [
              0.8888888888888888,
              "#fdca26"
             ],
             [
              1,
              "#f0f921"
             ]
            ],
            "type": "surface"
           }
          ],
          "table": [
           {
            "cells": {
             "fill": {
              "color": "#EBF0F8"
             },
             "line": {
              "color": "white"
             }
            },
            "header": {
             "fill": {
              "color": "#C8D4E3"
             },
             "line": {
              "color": "white"
             }
            },
            "type": "table"
           }
          ]
         },
         "layout": {
          "annotationdefaults": {
           "arrowcolor": "#2a3f5f",
           "arrowhead": 0,
           "arrowwidth": 1
          },
          "autotypenumbers": "strict",
          "coloraxis": {
           "colorbar": {
            "outlinewidth": 0,
            "ticks": ""
           }
          },
          "colorscale": {
           "diverging": [
            [
             0,
             "#8e0152"
            ],
            [
             0.1,
             "#c51b7d"
            ],
            [
             0.2,
             "#de77ae"
            ],
            [
             0.3,
             "#f1b6da"
            ],
            [
             0.4,
             "#fde0ef"
            ],
            [
             0.5,
             "#f7f7f7"
            ],
            [
             0.6,
             "#e6f5d0"
            ],
            [
             0.7,
             "#b8e186"
            ],
            [
             0.8,
             "#7fbc41"
            ],
            [
             0.9,
             "#4d9221"
            ],
            [
             1,
             "#276419"
            ]
           ],
           "sequential": [
            [
             0,
             "#0d0887"
            ],
            [
             0.1111111111111111,
             "#46039f"
            ],
            [
             0.2222222222222222,
             "#7201a8"
            ],
            [
             0.3333333333333333,
             "#9c179e"
            ],
            [
             0.4444444444444444,
             "#bd3786"
            ],
            [
             0.5555555555555556,
             "#d8576b"
            ],
            [
             0.6666666666666666,
             "#ed7953"
            ],
            [
             0.7777777777777778,
             "#fb9f3a"
            ],
            [
             0.8888888888888888,
             "#fdca26"
            ],
            [
             1,
             "#f0f921"
            ]
           ],
           "sequentialminus": [
            [
             0,
             "#0d0887"
            ],
            [
             0.1111111111111111,
             "#46039f"
            ],
            [
             0.2222222222222222,
             "#7201a8"
            ],
            [
             0.3333333333333333,
             "#9c179e"
            ],
            [
             0.4444444444444444,
             "#bd3786"
            ],
            [
             0.5555555555555556,
             "#d8576b"
            ],
            [
             0.6666666666666666,
             "#ed7953"
            ],
            [
             0.7777777777777778,
             "#fb9f3a"
            ],
            [
             0.8888888888888888,
             "#fdca26"
            ],
            [
             1,
             "#f0f921"
            ]
           ]
          },
          "colorway": [
           "#636efa",
           "#EF553B",
           "#00cc96",
           "#ab63fa",
           "#FFA15A",
           "#19d3f3",
           "#FF6692",
           "#B6E880",
           "#FF97FF",
           "#FECB52"
          ],
          "font": {
           "color": "#2a3f5f"
          },
          "geo": {
           "bgcolor": "white",
           "lakecolor": "white",
           "landcolor": "#E5ECF6",
           "showlakes": true,
           "showland": true,
           "subunitcolor": "white"
          },
          "hoverlabel": {
           "align": "left"
          },
          "hovermode": "closest",
          "mapbox": {
           "style": "light"
          },
          "paper_bgcolor": "white",
          "plot_bgcolor": "#E5ECF6",
          "polar": {
           "angularaxis": {
            "gridcolor": "white",
            "linecolor": "white",
            "ticks": ""
           },
           "bgcolor": "#E5ECF6",
           "radialaxis": {
            "gridcolor": "white",
            "linecolor": "white",
            "ticks": ""
           }
          },
          "scene": {
           "xaxis": {
            "backgroundcolor": "#E5ECF6",
            "gridcolor": "white",
            "gridwidth": 2,
            "linecolor": "white",
            "showbackground": true,
            "ticks": "",
            "zerolinecolor": "white"
           },
           "yaxis": {
            "backgroundcolor": "#E5ECF6",
            "gridcolor": "white",
            "gridwidth": 2,
            "linecolor": "white",
            "showbackground": true,
            "ticks": "",
            "zerolinecolor": "white"
           },
           "zaxis": {
            "backgroundcolor": "#E5ECF6",
            "gridcolor": "white",
            "gridwidth": 2,
            "linecolor": "white",
            "showbackground": true,
            "ticks": "",
            "zerolinecolor": "white"
           }
          },
          "shapedefaults": {
           "line": {
            "color": "#2a3f5f"
           }
          },
          "ternary": {
           "aaxis": {
            "gridcolor": "white",
            "linecolor": "white",
            "ticks": ""
           },
           "baxis": {
            "gridcolor": "white",
            "linecolor": "white",
            "ticks": ""
           },
           "bgcolor": "#E5ECF6",
           "caxis": {
            "gridcolor": "white",
            "linecolor": "white",
            "ticks": ""
           }
          },
          "title": {
           "x": 0.05
          },
          "xaxis": {
           "automargin": true,
           "gridcolor": "white",
           "linecolor": "white",
           "ticks": "",
           "title": {
            "standoff": 15
           },
           "zerolinecolor": "white",
           "zerolinewidth": 2
          },
          "yaxis": {
           "automargin": true,
           "gridcolor": "white",
           "linecolor": "white",
           "ticks": "",
           "title": {
            "standoff": 15
           },
           "zerolinecolor": "white",
           "zerolinewidth": 2
          }
         }
        },
        "title": {
         "text": "Positive"
        },
        "width": 1000
       }
      },
      "text/html": [
       "<div>                            <div id=\"245828d0-6d3f-4d63-90a7-38874e9afb32\" class=\"plotly-graph-div\" style=\"height:400px; width:1000px;\"></div>            <script type=\"text/javascript\">                require([\"plotly\"], function(Plotly) {                    window.PLOTLYENV=window.PLOTLYENV || {};                                    if (document.getElementById(\"245828d0-6d3f-4d63-90a7-38874e9afb32\")) {                    Plotly.newPlot(                        \"245828d0-6d3f-4d63-90a7-38874e9afb32\",                        [{\"cells\": {\"align\": [\"left\", \"center\", \"center\", \"center\"], \"fill\": {\"color\": [[\"white\", \"lightgrey\", \"white\", \"lightgrey\", \"white\", \"white\", \"lightgrey\", \"white\", \"lightgrey\", \"white\", \"white\", \"lightgrey\", \"white\", \"lightgrey\", \"white\", \"white\", \"lightgrey\", \"white\", \"lightgrey\", \"white\", \"white\", \"lightgrey\", \"white\", \"lightgrey\", \"white\"]]}, \"values\": [[\"Has anyone created an import template for overseas containers?\\u00a0 Thanks!\", \"Hello All,\\nHappy new year.\\nPlease i notice on payment screen E.g Bank transfer - if i try to search for a transaction using amount field i get an error message.\\u00a0\\nPlease kindly find screen shot below..\\n\\n\\nPlease help.\\n\\nThank you.\", \"Hi Everyone! Wish you all an great 2021!\\nI'm new to SAGE X3.\\nHow can I refresh a query on \\\"landing page\\\"?\\nI've tried with parameters \\\"portview\\\" and \\\"frequency\\\" but no success.\\u00a0\\n\\nAm I using the parameters correctly?\\nThank you, for your help.\\nBest regards,\\nDaniel\", \"\\n\\nI have a problem in the transport counter despite the counter has been well created and well affect the counter allocation level, thank you for helping me to find a solution\\n\\n\\n\", \"EAM JOB CARD Error occurs when trying to save on step 4 'Create transactions'\\nPlease advise\\n\\n'\"], [0.0, 0.054, 0.045, 0.073, 0.127], [0.606, 0.563, 0.583, 0.569, 0.516], [0.394, 0.382, 0.372, 0.358, 0.357]]}, \"columnwidth\": [300, 40, 40, 40], \"header\": {\"align\": [\"left\", \"center\", \"center\", \"center\"], \"fill\": {\"color\": \"#39416C\"}, \"font\": {\"color\": \"white\", \"size\": 12}, \"values\": [\"Forum_Post_Raw\", \"neg\", \"neu\", \"pos\"]}, \"type\": \"table\"}],                        {\"height\": 400, \"template\": {\"data\": {\"bar\": [{\"error_x\": {\"color\": \"#2a3f5f\"}, \"error_y\": {\"color\": \"#2a3f5f\"}, \"marker\": {\"line\": {\"color\": \"#E5ECF6\", \"width\": 0.5}}, \"type\": \"bar\"}], \"barpolar\": [{\"marker\": {\"line\": {\"color\": \"#E5ECF6\", \"width\": 0.5}}, \"type\": \"barpolar\"}], \"carpet\": [{\"aaxis\": {\"endlinecolor\": \"#2a3f5f\", \"gridcolor\": \"white\", \"linecolor\": \"white\", \"minorgridcolor\": \"white\", \"startlinecolor\": \"#2a3f5f\"}, \"baxis\": {\"endlinecolor\": \"#2a3f5f\", \"gridcolor\": \"white\", \"linecolor\": \"white\", \"minorgridcolor\": \"white\", \"startlinecolor\": \"#2a3f5f\"}, \"type\": \"carpet\"}], \"choropleth\": [{\"colorbar\": {\"outlinewidth\": 0, \"ticks\": \"\"}, \"type\": \"choropleth\"}], \"contour\": [{\"colorbar\": {\"outlinewidth\": 0, \"ticks\": \"\"}, \"colorscale\": [[0.0, \"#0d0887\"], [0.1111111111111111, \"#46039f\"], [0.2222222222222222, \"#7201a8\"], [0.3333333333333333, \"#9c179e\"], [0.4444444444444444, \"#bd3786\"], [0.5555555555555556, \"#d8576b\"], [0.6666666666666666, \"#ed7953\"], [0.7777777777777778, \"#fb9f3a\"], [0.8888888888888888, \"#fdca26\"], [1.0, \"#f0f921\"]], \"type\": \"contour\"}], \"contourcarpet\": [{\"colorbar\": {\"outlinewidth\": 0, \"ticks\": \"\"}, \"type\": \"contourcarpet\"}], \"heatmap\": [{\"colorbar\": {\"outlinewidth\": 0, \"ticks\": \"\"}, \"colorscale\": [[0.0, \"#0d0887\"], [0.1111111111111111, \"#46039f\"], [0.2222222222222222, \"#7201a8\"], [0.3333333333333333, \"#9c179e\"], [0.4444444444444444, \"#bd3786\"], [0.5555555555555556, \"#d8576b\"], [0.6666666666666666, \"#ed7953\"], [0.7777777777777778, \"#fb9f3a\"], [0.8888888888888888, \"#fdca26\"], [1.0, \"#f0f921\"]], \"type\": \"heatmap\"}], \"heatmapgl\": [{\"colorbar\": {\"outlinewidth\": 0, \"ticks\": \"\"}, \"colorscale\": [[0.0, \"#0d0887\"], [0.1111111111111111, \"#46039f\"], [0.2222222222222222, \"#7201a8\"], [0.3333333333333333, \"#9c179e\"], [0.4444444444444444, \"#bd3786\"], [0.5555555555555556, \"#d8576b\"], [0.6666666666666666, \"#ed7953\"], [0.7777777777777778, \"#fb9f3a\"], [0.8888888888888888, \"#fdca26\"], [1.0, \"#f0f921\"]], \"type\": \"heatmapgl\"}], \"histogram\": [{\"marker\": {\"colorbar\": {\"outlinewidth\": 0, \"ticks\": \"\"}}, \"type\": \"histogram\"}], \"histogram2d\": [{\"colorbar\": {\"outlinewidth\": 0, \"ticks\": \"\"}, \"colorscale\": [[0.0, \"#0d0887\"], [0.1111111111111111, \"#46039f\"], [0.2222222222222222, \"#7201a8\"], [0.3333333333333333, \"#9c179e\"], [0.4444444444444444, \"#bd3786\"], [0.5555555555555556, \"#d8576b\"], [0.6666666666666666, \"#ed7953\"], [0.7777777777777778, \"#fb9f3a\"], [0.8888888888888888, \"#fdca26\"], [1.0, \"#f0f921\"]], \"type\": \"histogram2d\"}], \"histogram2dcontour\": [{\"colorbar\": {\"outlinewidth\": 0, \"ticks\": \"\"}, \"colorscale\": [[0.0, \"#0d0887\"], [0.1111111111111111, \"#46039f\"], [0.2222222222222222, \"#7201a8\"], [0.3333333333333333, \"#9c179e\"], [0.4444444444444444, \"#bd3786\"], [0.5555555555555556, \"#d8576b\"], [0.6666666666666666, \"#ed7953\"], [0.7777777777777778, \"#fb9f3a\"], [0.8888888888888888, \"#fdca26\"], [1.0, \"#f0f921\"]], \"type\": \"histogram2dcontour\"}], \"mesh3d\": [{\"colorbar\": {\"outlinewidth\": 0, \"ticks\": \"\"}, \"type\": \"mesh3d\"}], \"parcoords\": [{\"line\": {\"colorbar\": {\"outlinewidth\": 0, \"ticks\": \"\"}}, \"type\": \"parcoords\"}], \"pie\": [{\"automargin\": true, \"type\": \"pie\"}], \"scatter\": [{\"marker\": {\"colorbar\": {\"outlinewidth\": 0, \"ticks\": \"\"}}, \"type\": \"scatter\"}], \"scatter3d\": [{\"line\": {\"colorbar\": {\"outlinewidth\": 0, \"ticks\": \"\"}}, \"marker\": {\"colorbar\": {\"outlinewidth\": 0, \"ticks\": \"\"}}, \"type\": \"scatter3d\"}], \"scattercarpet\": [{\"marker\": {\"colorbar\": {\"outlinewidth\": 0, \"ticks\": \"\"}}, \"type\": \"scattercarpet\"}], \"scattergeo\": [{\"marker\": {\"colorbar\": {\"outlinewidth\": 0, \"ticks\": \"\"}}, \"type\": \"scattergeo\"}], \"scattergl\": [{\"marker\": {\"colorbar\": {\"outlinewidth\": 0, \"ticks\": \"\"}}, \"type\": \"scattergl\"}], \"scattermapbox\": [{\"marker\": {\"colorbar\": {\"outlinewidth\": 0, \"ticks\": \"\"}}, \"type\": \"scattermapbox\"}], \"scatterpolar\": [{\"marker\": {\"colorbar\": {\"outlinewidth\": 0, \"ticks\": \"\"}}, \"type\": \"scatterpolar\"}], \"scatterpolargl\": [{\"marker\": {\"colorbar\": {\"outlinewidth\": 0, \"ticks\": \"\"}}, \"type\": \"scatterpolargl\"}], \"scatterternary\": [{\"marker\": {\"colorbar\": {\"outlinewidth\": 0, \"ticks\": \"\"}}, \"type\": \"scatterternary\"}], \"surface\": [{\"colorbar\": {\"outlinewidth\": 0, \"ticks\": \"\"}, \"colorscale\": [[0.0, \"#0d0887\"], [0.1111111111111111, \"#46039f\"], [0.2222222222222222, \"#7201a8\"], [0.3333333333333333, \"#9c179e\"], [0.4444444444444444, \"#bd3786\"], [0.5555555555555556, \"#d8576b\"], [0.6666666666666666, \"#ed7953\"], [0.7777777777777778, \"#fb9f3a\"], [0.8888888888888888, \"#fdca26\"], [1.0, \"#f0f921\"]], \"type\": \"surface\"}], \"table\": [{\"cells\": {\"fill\": {\"color\": \"#EBF0F8\"}, \"line\": {\"color\": \"white\"}}, \"header\": {\"fill\": {\"color\": \"#C8D4E3\"}, \"line\": {\"color\": \"white\"}}, \"type\": \"table\"}]}, \"layout\": {\"annotationdefaults\": {\"arrowcolor\": \"#2a3f5f\", \"arrowhead\": 0, \"arrowwidth\": 1}, \"autotypenumbers\": \"strict\", \"coloraxis\": {\"colorbar\": {\"outlinewidth\": 0, \"ticks\": \"\"}}, \"colorscale\": {\"diverging\": [[0, \"#8e0152\"], [0.1, \"#c51b7d\"], [0.2, \"#de77ae\"], [0.3, \"#f1b6da\"], [0.4, \"#fde0ef\"], [0.5, \"#f7f7f7\"], [0.6, \"#e6f5d0\"], [0.7, \"#b8e186\"], [0.8, \"#7fbc41\"], [0.9, \"#4d9221\"], [1, \"#276419\"]], \"sequential\": [[0.0, \"#0d0887\"], [0.1111111111111111, \"#46039f\"], [0.2222222222222222, \"#7201a8\"], [0.3333333333333333, \"#9c179e\"], [0.4444444444444444, \"#bd3786\"], [0.5555555555555556, \"#d8576b\"], [0.6666666666666666, \"#ed7953\"], [0.7777777777777778, \"#fb9f3a\"], [0.8888888888888888, \"#fdca26\"], [1.0, \"#f0f921\"]], \"sequentialminus\": [[0.0, \"#0d0887\"], [0.1111111111111111, \"#46039f\"], [0.2222222222222222, \"#7201a8\"], [0.3333333333333333, \"#9c179e\"], [0.4444444444444444, \"#bd3786\"], [0.5555555555555556, \"#d8576b\"], [0.6666666666666666, \"#ed7953\"], [0.7777777777777778, \"#fb9f3a\"], [0.8888888888888888, \"#fdca26\"], [1.0, \"#f0f921\"]]}, \"colorway\": [\"#636efa\", \"#EF553B\", \"#00cc96\", \"#ab63fa\", \"#FFA15A\", \"#19d3f3\", \"#FF6692\", \"#B6E880\", \"#FF97FF\", \"#FECB52\"], \"font\": {\"color\": \"#2a3f5f\"}, \"geo\": {\"bgcolor\": \"white\", \"lakecolor\": \"white\", \"landcolor\": \"#E5ECF6\", \"showlakes\": true, \"showland\": true, \"subunitcolor\": \"white\"}, \"hoverlabel\": {\"align\": \"left\"}, \"hovermode\": \"closest\", \"mapbox\": {\"style\": \"light\"}, \"paper_bgcolor\": \"white\", \"plot_bgcolor\": \"#E5ECF6\", \"polar\": {\"angularaxis\": {\"gridcolor\": \"white\", \"linecolor\": \"white\", \"ticks\": \"\"}, \"bgcolor\": \"#E5ECF6\", \"radialaxis\": {\"gridcolor\": \"white\", \"linecolor\": \"white\", \"ticks\": \"\"}}, \"scene\": {\"xaxis\": {\"backgroundcolor\": \"#E5ECF6\", \"gridcolor\": \"white\", \"gridwidth\": 2, \"linecolor\": \"white\", \"showbackground\": true, \"ticks\": \"\", \"zerolinecolor\": \"white\"}, \"yaxis\": {\"backgroundcolor\": \"#E5ECF6\", \"gridcolor\": \"white\", \"gridwidth\": 2, \"linecolor\": \"white\", \"showbackground\": true, \"ticks\": \"\", \"zerolinecolor\": \"white\"}, \"zaxis\": {\"backgroundcolor\": \"#E5ECF6\", \"gridcolor\": \"white\", \"gridwidth\": 2, \"linecolor\": \"white\", \"showbackground\": true, \"ticks\": \"\", \"zerolinecolor\": \"white\"}}, \"shapedefaults\": {\"line\": {\"color\": \"#2a3f5f\"}}, \"ternary\": {\"aaxis\": {\"gridcolor\": \"white\", \"linecolor\": \"white\", \"ticks\": \"\"}, \"baxis\": {\"gridcolor\": \"white\", \"linecolor\": \"white\", \"ticks\": \"\"}, \"bgcolor\": \"#E5ECF6\", \"caxis\": {\"gridcolor\": \"white\", \"linecolor\": \"white\", \"ticks\": \"\"}}, \"title\": {\"x\": 0.05}, \"xaxis\": {\"automargin\": true, \"gridcolor\": \"white\", \"linecolor\": \"white\", \"ticks\": \"\", \"title\": {\"standoff\": 15}, \"zerolinecolor\": \"white\", \"zerolinewidth\": 2}, \"yaxis\": {\"automargin\": true, \"gridcolor\": \"white\", \"linecolor\": \"white\", \"ticks\": \"\", \"title\": {\"standoff\": 15}, \"zerolinecolor\": \"white\", \"zerolinewidth\": 2}}}, \"title\": {\"text\": \"Positive\"}, \"width\": 1000},                        {\"responsive\": true}                    ).then(function(){\n",
       "                            \n",
       "var gd = document.getElementById('245828d0-6d3f-4d63-90a7-38874e9afb32');\n",
       "var x = new MutationObserver(function (mutations, observer) {{\n",
       "        var display = window.getComputedStyle(gd).display;\n",
       "        if (!display || display === 'none') {{\n",
       "            console.log([gd, 'removed!']);\n",
       "            Plotly.purge(gd);\n",
       "            observer.disconnect();\n",
       "        }}\n",
       "}});\n",
       "\n",
       "// Listen for the removal of the full notebook cells\n",
       "var notebookContainer = gd.closest('#notebook-container');\n",
       "if (notebookContainer) {{\n",
       "    x.observe(notebookContainer, {childList: true});\n",
       "}}\n",
       "\n",
       "// Listen for the clearing of the current output cell\n",
       "var outputEl = gd.closest('.output');\n",
       "if (outputEl) {{\n",
       "    x.observe(outputEl, {childList: true});\n",
       "}}\n",
       "\n",
       "                        })                };                });            </script>        </div>"
      ]
     },
     "metadata": {},
     "output_type": "display_data"
    },
    {
     "data": {
      "application/vnd.plotly.v1+json": {
       "config": {
        "plotlyServerURL": "https://plot.ly"
       },
       "data": [
        {
         "cells": {
          "align": [
           "left",
           "center",
           "center",
           "center"
          ],
          "fill": {
           "color": [
            [
             "white",
             "lightgrey",
             "white",
             "lightgrey",
             "white",
             "white",
             "lightgrey",
             "white",
             "lightgrey",
             "white",
             "white",
             "lightgrey",
             "white",
             "lightgrey",
             "white",
             "white",
             "lightgrey",
             "white",
             "lightgrey",
             "white",
             "white",
             "lightgrey",
             "white",
             "lightgrey",
             "white"
            ]
           ]
          },
          "values": [
           [
            "Error message:\n@X3.TRT/SUBITM$adx (2569) Error 8 : Index Incorrect ISAU(500)\n\nGetting this error after adding a new site.\n",
            "When trying to generate the positive pay file - we experience the following error - file return error - no checks selected. There are checks generated and printed.",
            "Sage X3 allows a parameter to warn user for duplicate values in BPRVCR. \n\nHow can this warning be change to an error? \n",
            "We run Sage X3 Update 9 Patch 9.\n\nThe cost of a product we buy is going negative.\nThis occurs from time to time because the product is a by-product- sometimes the supplier can sell the by-product, but other times they have to pay us to take it.\nDepending on how extremely below zero the costs go, we may even start charging our customers a negative price. \nThis will occur in both back-to-back and stock orders.\n\nCan we support this in X3?\n\nThought process;\n(The following all reads bizarrely to me, but here goes...;)\n1. We raise PO to supplier with negative cost (-$20/ton)\n2. Supplier sends us their invoice with negative cost (-$20/ton)\n3. Supplier pays us based on their (negative) invoice. Is a supplier invoice therefore handled by Accounts Receivable rather than Accounts Payable functions in X3?\n4. We receive goods into inventory at a negative cost (-$20/ton). Average Unit Cost (AUC) goes negative.\n5. We create Sales Order with negative gross price (-$5) and negative cost ($-20) to Customer (Margin = +$15)\n6. We create Sales Delivery with negative gross price (-$5) to Customer.\n7. We create Sales Invoice with negative gross price (-$5) and negative cost ($-20) to Customer (Margin = +$15) \n8. We pay Customer based on our Sales Invoice with negative gross price. Is our Invoice to Customer therefore managed by our Accounts Payable rather than Accounts Receivable functions in X3?\n\nIs this high level process supportable/logical/sensible in X3?\nSteps 3 and 8 are standing out to me the most in consideration of \"How will that work?\"\nAny advice would be appreciated. Thanks in advance.",
            "D:\\Sage\\SAGEX3V7\\X3V71\\folders\\TEST\\TRT\\WGWMSFCSTD.adx : File Non-existent\n\nHow to resolve this error.\n\nRegards\n"
           ],
           [
            0.415,
            0.276,
            0.258,
            0.249,
            0.246
           ],
           [
            0.585,
            0.613,
            0.64,
            0.693,
            0.55
           ],
           [
            0,
            0.11,
            0.102,
            0.058,
            0.204
           ]
          ]
         },
         "columnwidth": [
          300,
          40,
          40,
          40
         ],
         "header": {
          "align": [
           "left",
           "center",
           "center",
           "center"
          ],
          "fill": {
           "color": "#39416C"
          },
          "font": {
           "color": "white",
           "size": 12
          },
          "values": [
           "Forum_Post_Raw",
           "neg",
           "neu",
           "pos"
          ]
         },
         "type": "table"
        }
       ],
       "layout": {
        "height": 400,
        "template": {
         "data": {
          "bar": [
           {
            "error_x": {
             "color": "#2a3f5f"
            },
            "error_y": {
             "color": "#2a3f5f"
            },
            "marker": {
             "line": {
              "color": "#E5ECF6",
              "width": 0.5
             }
            },
            "type": "bar"
           }
          ],
          "barpolar": [
           {
            "marker": {
             "line": {
              "color": "#E5ECF6",
              "width": 0.5
             }
            },
            "type": "barpolar"
           }
          ],
          "carpet": [
           {
            "aaxis": {
             "endlinecolor": "#2a3f5f",
             "gridcolor": "white",
             "linecolor": "white",
             "minorgridcolor": "white",
             "startlinecolor": "#2a3f5f"
            },
            "baxis": {
             "endlinecolor": "#2a3f5f",
             "gridcolor": "white",
             "linecolor": "white",
             "minorgridcolor": "white",
             "startlinecolor": "#2a3f5f"
            },
            "type": "carpet"
           }
          ],
          "choropleth": [
           {
            "colorbar": {
             "outlinewidth": 0,
             "ticks": ""
            },
            "type": "choropleth"
           }
          ],
          "contour": [
           {
            "colorbar": {
             "outlinewidth": 0,
             "ticks": ""
            },
            "colorscale": [
             [
              0,
              "#0d0887"
             ],
             [
              0.1111111111111111,
              "#46039f"
             ],
             [
              0.2222222222222222,
              "#7201a8"
             ],
             [
              0.3333333333333333,
              "#9c179e"
             ],
             [
              0.4444444444444444,
              "#bd3786"
             ],
             [
              0.5555555555555556,
              "#d8576b"
             ],
             [
              0.6666666666666666,
              "#ed7953"
             ],
             [
              0.7777777777777778,
              "#fb9f3a"
             ],
             [
              0.8888888888888888,
              "#fdca26"
             ],
             [
              1,
              "#f0f921"
             ]
            ],
            "type": "contour"
           }
          ],
          "contourcarpet": [
           {
            "colorbar": {
             "outlinewidth": 0,
             "ticks": ""
            },
            "type": "contourcarpet"
           }
          ],
          "heatmap": [
           {
            "colorbar": {
             "outlinewidth": 0,
             "ticks": ""
            },
            "colorscale": [
             [
              0,
              "#0d0887"
             ],
             [
              0.1111111111111111,
              "#46039f"
             ],
             [
              0.2222222222222222,
              "#7201a8"
             ],
             [
              0.3333333333333333,
              "#9c179e"
             ],
             [
              0.4444444444444444,
              "#bd3786"
             ],
             [
              0.5555555555555556,
              "#d8576b"
             ],
             [
              0.6666666666666666,
              "#ed7953"
             ],
             [
              0.7777777777777778,
              "#fb9f3a"
             ],
             [
              0.8888888888888888,
              "#fdca26"
             ],
             [
              1,
              "#f0f921"
             ]
            ],
            "type": "heatmap"
           }
          ],
          "heatmapgl": [
           {
            "colorbar": {
             "outlinewidth": 0,
             "ticks": ""
            },
            "colorscale": [
             [
              0,
              "#0d0887"
             ],
             [
              0.1111111111111111,
              "#46039f"
             ],
             [
              0.2222222222222222,
              "#7201a8"
             ],
             [
              0.3333333333333333,
              "#9c179e"
             ],
             [
              0.4444444444444444,
              "#bd3786"
             ],
             [
              0.5555555555555556,
              "#d8576b"
             ],
             [
              0.6666666666666666,
              "#ed7953"
             ],
             [
              0.7777777777777778,
              "#fb9f3a"
             ],
             [
              0.8888888888888888,
              "#fdca26"
             ],
             [
              1,
              "#f0f921"
             ]
            ],
            "type": "heatmapgl"
           }
          ],
          "histogram": [
           {
            "marker": {
             "colorbar": {
              "outlinewidth": 0,
              "ticks": ""
             }
            },
            "type": "histogram"
           }
          ],
          "histogram2d": [
           {
            "colorbar": {
             "outlinewidth": 0,
             "ticks": ""
            },
            "colorscale": [
             [
              0,
              "#0d0887"
             ],
             [
              0.1111111111111111,
              "#46039f"
             ],
             [
              0.2222222222222222,
              "#7201a8"
             ],
             [
              0.3333333333333333,
              "#9c179e"
             ],
             [
              0.4444444444444444,
              "#bd3786"
             ],
             [
              0.5555555555555556,
              "#d8576b"
             ],
             [
              0.6666666666666666,
              "#ed7953"
             ],
             [
              0.7777777777777778,
              "#fb9f3a"
             ],
             [
              0.8888888888888888,
              "#fdca26"
             ],
             [
              1,
              "#f0f921"
             ]
            ],
            "type": "histogram2d"
           }
          ],
          "histogram2dcontour": [
           {
            "colorbar": {
             "outlinewidth": 0,
             "ticks": ""
            },
            "colorscale": [
             [
              0,
              "#0d0887"
             ],
             [
              0.1111111111111111,
              "#46039f"
             ],
             [
              0.2222222222222222,
              "#7201a8"
             ],
             [
              0.3333333333333333,
              "#9c179e"
             ],
             [
              0.4444444444444444,
              "#bd3786"
             ],
             [
              0.5555555555555556,
              "#d8576b"
             ],
             [
              0.6666666666666666,
              "#ed7953"
             ],
             [
              0.7777777777777778,
              "#fb9f3a"
             ],
             [
              0.8888888888888888,
              "#fdca26"
             ],
             [
              1,
              "#f0f921"
             ]
            ],
            "type": "histogram2dcontour"
           }
          ],
          "mesh3d": [
           {
            "colorbar": {
             "outlinewidth": 0,
             "ticks": ""
            },
            "type": "mesh3d"
           }
          ],
          "parcoords": [
           {
            "line": {
             "colorbar": {
              "outlinewidth": 0,
              "ticks": ""
             }
            },
            "type": "parcoords"
           }
          ],
          "pie": [
           {
            "automargin": true,
            "type": "pie"
           }
          ],
          "scatter": [
           {
            "marker": {
             "colorbar": {
              "outlinewidth": 0,
              "ticks": ""
             }
            },
            "type": "scatter"
           }
          ],
          "scatter3d": [
           {
            "line": {
             "colorbar": {
              "outlinewidth": 0,
              "ticks": ""
             }
            },
            "marker": {
             "colorbar": {
              "outlinewidth": 0,
              "ticks": ""
             }
            },
            "type": "scatter3d"
           }
          ],
          "scattercarpet": [
           {
            "marker": {
             "colorbar": {
              "outlinewidth": 0,
              "ticks": ""
             }
            },
            "type": "scattercarpet"
           }
          ],
          "scattergeo": [
           {
            "marker": {
             "colorbar": {
              "outlinewidth": 0,
              "ticks": ""
             }
            },
            "type": "scattergeo"
           }
          ],
          "scattergl": [
           {
            "marker": {
             "colorbar": {
              "outlinewidth": 0,
              "ticks": ""
             }
            },
            "type": "scattergl"
           }
          ],
          "scattermapbox": [
           {
            "marker": {
             "colorbar": {
              "outlinewidth": 0,
              "ticks": ""
             }
            },
            "type": "scattermapbox"
           }
          ],
          "scatterpolar": [
           {
            "marker": {
             "colorbar": {
              "outlinewidth": 0,
              "ticks": ""
             }
            },
            "type": "scatterpolar"
           }
          ],
          "scatterpolargl": [
           {
            "marker": {
             "colorbar": {
              "outlinewidth": 0,
              "ticks": ""
             }
            },
            "type": "scatterpolargl"
           }
          ],
          "scatterternary": [
           {
            "marker": {
             "colorbar": {
              "outlinewidth": 0,
              "ticks": ""
             }
            },
            "type": "scatterternary"
           }
          ],
          "surface": [
           {
            "colorbar": {
             "outlinewidth": 0,
             "ticks": ""
            },
            "colorscale": [
             [
              0,
              "#0d0887"
             ],
             [
              0.1111111111111111,
              "#46039f"
             ],
             [
              0.2222222222222222,
              "#7201a8"
             ],
             [
              0.3333333333333333,
              "#9c179e"
             ],
             [
              0.4444444444444444,
              "#bd3786"
             ],
             [
              0.5555555555555556,
              "#d8576b"
             ],
             [
              0.6666666666666666,
              "#ed7953"
             ],
             [
              0.7777777777777778,
              "#fb9f3a"
             ],
             [
              0.8888888888888888,
              "#fdca26"
             ],
             [
              1,
              "#f0f921"
             ]
            ],
            "type": "surface"
           }
          ],
          "table": [
           {
            "cells": {
             "fill": {
              "color": "#EBF0F8"
             },
             "line": {
              "color": "white"
             }
            },
            "header": {
             "fill": {
              "color": "#C8D4E3"
             },
             "line": {
              "color": "white"
             }
            },
            "type": "table"
           }
          ]
         },
         "layout": {
          "annotationdefaults": {
           "arrowcolor": "#2a3f5f",
           "arrowhead": 0,
           "arrowwidth": 1
          },
          "autotypenumbers": "strict",
          "coloraxis": {
           "colorbar": {
            "outlinewidth": 0,
            "ticks": ""
           }
          },
          "colorscale": {
           "diverging": [
            [
             0,
             "#8e0152"
            ],
            [
             0.1,
             "#c51b7d"
            ],
            [
             0.2,
             "#de77ae"
            ],
            [
             0.3,
             "#f1b6da"
            ],
            [
             0.4,
             "#fde0ef"
            ],
            [
             0.5,
             "#f7f7f7"
            ],
            [
             0.6,
             "#e6f5d0"
            ],
            [
             0.7,
             "#b8e186"
            ],
            [
             0.8,
             "#7fbc41"
            ],
            [
             0.9,
             "#4d9221"
            ],
            [
             1,
             "#276419"
            ]
           ],
           "sequential": [
            [
             0,
             "#0d0887"
            ],
            [
             0.1111111111111111,
             "#46039f"
            ],
            [
             0.2222222222222222,
             "#7201a8"
            ],
            [
             0.3333333333333333,
             "#9c179e"
            ],
            [
             0.4444444444444444,
             "#bd3786"
            ],
            [
             0.5555555555555556,
             "#d8576b"
            ],
            [
             0.6666666666666666,
             "#ed7953"
            ],
            [
             0.7777777777777778,
             "#fb9f3a"
            ],
            [
             0.8888888888888888,
             "#fdca26"
            ],
            [
             1,
             "#f0f921"
            ]
           ],
           "sequentialminus": [
            [
             0,
             "#0d0887"
            ],
            [
             0.1111111111111111,
             "#46039f"
            ],
            [
             0.2222222222222222,
             "#7201a8"
            ],
            [
             0.3333333333333333,
             "#9c179e"
            ],
            [
             0.4444444444444444,
             "#bd3786"
            ],
            [
             0.5555555555555556,
             "#d8576b"
            ],
            [
             0.6666666666666666,
             "#ed7953"
            ],
            [
             0.7777777777777778,
             "#fb9f3a"
            ],
            [
             0.8888888888888888,
             "#fdca26"
            ],
            [
             1,
             "#f0f921"
            ]
           ]
          },
          "colorway": [
           "#636efa",
           "#EF553B",
           "#00cc96",
           "#ab63fa",
           "#FFA15A",
           "#19d3f3",
           "#FF6692",
           "#B6E880",
           "#FF97FF",
           "#FECB52"
          ],
          "font": {
           "color": "#2a3f5f"
          },
          "geo": {
           "bgcolor": "white",
           "lakecolor": "white",
           "landcolor": "#E5ECF6",
           "showlakes": true,
           "showland": true,
           "subunitcolor": "white"
          },
          "hoverlabel": {
           "align": "left"
          },
          "hovermode": "closest",
          "mapbox": {
           "style": "light"
          },
          "paper_bgcolor": "white",
          "plot_bgcolor": "#E5ECF6",
          "polar": {
           "angularaxis": {
            "gridcolor": "white",
            "linecolor": "white",
            "ticks": ""
           },
           "bgcolor": "#E5ECF6",
           "radialaxis": {
            "gridcolor": "white",
            "linecolor": "white",
            "ticks": ""
           }
          },
          "scene": {
           "xaxis": {
            "backgroundcolor": "#E5ECF6",
            "gridcolor": "white",
            "gridwidth": 2,
            "linecolor": "white",
            "showbackground": true,
            "ticks": "",
            "zerolinecolor": "white"
           },
           "yaxis": {
            "backgroundcolor": "#E5ECF6",
            "gridcolor": "white",
            "gridwidth": 2,
            "linecolor": "white",
            "showbackground": true,
            "ticks": "",
            "zerolinecolor": "white"
           },
           "zaxis": {
            "backgroundcolor": "#E5ECF6",
            "gridcolor": "white",
            "gridwidth": 2,
            "linecolor": "white",
            "showbackground": true,
            "ticks": "",
            "zerolinecolor": "white"
           }
          },
          "shapedefaults": {
           "line": {
            "color": "#2a3f5f"
           }
          },
          "ternary": {
           "aaxis": {
            "gridcolor": "white",
            "linecolor": "white",
            "ticks": ""
           },
           "baxis": {
            "gridcolor": "white",
            "linecolor": "white",
            "ticks": ""
           },
           "bgcolor": "#E5ECF6",
           "caxis": {
            "gridcolor": "white",
            "linecolor": "white",
            "ticks": ""
           }
          },
          "title": {
           "x": 0.05
          },
          "xaxis": {
           "automargin": true,
           "gridcolor": "white",
           "linecolor": "white",
           "ticks": "",
           "title": {
            "standoff": 15
           },
           "zerolinecolor": "white",
           "zerolinewidth": 2
          },
          "yaxis": {
           "automargin": true,
           "gridcolor": "white",
           "linecolor": "white",
           "ticks": "",
           "title": {
            "standoff": 15
           },
           "zerolinecolor": "white",
           "zerolinewidth": 2
          }
         }
        },
        "title": {
         "text": "Negative"
        },
        "width": 1000
       }
      },
      "text/html": [
       "<div>                            <div id=\"e3b751b6-7be0-4f12-91e6-7b63218a541e\" class=\"plotly-graph-div\" style=\"height:400px; width:1000px;\"></div>            <script type=\"text/javascript\">                require([\"plotly\"], function(Plotly) {                    window.PLOTLYENV=window.PLOTLYENV || {};                                    if (document.getElementById(\"e3b751b6-7be0-4f12-91e6-7b63218a541e\")) {                    Plotly.newPlot(                        \"e3b751b6-7be0-4f12-91e6-7b63218a541e\",                        [{\"cells\": {\"align\": [\"left\", \"center\", \"center\", \"center\"], \"fill\": {\"color\": [[\"white\", \"lightgrey\", \"white\", \"lightgrey\", \"white\", \"white\", \"lightgrey\", \"white\", \"lightgrey\", \"white\", \"white\", \"lightgrey\", \"white\", \"lightgrey\", \"white\", \"white\", \"lightgrey\", \"white\", \"lightgrey\", \"white\", \"white\", \"lightgrey\", \"white\", \"lightgrey\", \"white\"]]}, \"values\": [[\"Error message:\\n@X3.TRT/SUBITM$adx (2569) Error 8 : Index Incorrect ISAU(500)\\n\\nGetting this error after adding a new site.\\n\", \"When trying to generate the positive pay file - we experience the following error - file return error - no checks selected. There are checks generated and printed.\", \"Sage X3 allows a parameter to warn user for duplicate values in BPRVCR.\\u00a0\\n\\nHow can this warning be change to an error?\\u00a0\\n\", \"We run Sage X3 Update 9 Patch 9.\\n\\nThe cost of a product we buy is going negative.\\nThis occurs from time to time because the product is a by-product- sometimes the supplier can sell the by-product, but other times they have to pay us to take it.\\nDepending on how extremely below zero the costs go, we may even start charging our customers a negative price.\\u00a0\\nThis will occur in both back-to-back and stock orders.\\n\\nCan we support this in X3?\\n\\nThought process;\\n(The following all reads\\u00a0bizarrely to me, but\\u00a0here goes...;)\\n1. We raise PO to supplier with negative cost (-$20/ton)\\n2. Supplier sends us their invoice with negative cost (-$20/ton)\\n3. Supplier pays us based on their (negative) invoice. Is a supplier invoice therefore\\u00a0handled by Accounts Receivable rather than Accounts Payable functions in X3?\\n4. We receive goods into inventory at a negative cost (-$20/ton). Average Unit Cost (AUC) goes negative.\\n5. We create Sales Order with negative gross price (-$5) and negative cost ($-20) to Customer (Margin = +$15)\\n6.\\u00a0We create Sales Delivery with negative gross price (-$5) to Customer.\\n7. We create Sales Invoice with negative gross price (-$5) and negative cost ($-20) to Customer (Margin = +$15)\\u00a0\\n8. We pay Customer based on our Sales Invoice with negative gross price. Is our Invoice to\\u00a0Customer therefore\\u00a0managed\\u00a0by our Accounts Payable rather than Accounts Receivable functions in X3?\\n\\nIs this high level process supportable/logical/sensible in X3?\\nSteps 3 and 8 are standing out to me the most\\u00a0in consideration of \\\"How will that work?\\\"\\nAny advice would be appreciated. Thanks in advance.\", \"D:\\\\Sage\\\\SAGEX3V7\\\\X3V71\\\\folders\\\\TEST\\\\TRT\\\\WGWMSFCSTD.adx : File Non-existent\\n\\nHow to resolve this error.\\n\\nRegards\\n\"], [0.415, 0.276, 0.258, 0.249, 0.246], [0.585, 0.613, 0.64, 0.693, 0.55], [0.0, 0.11, 0.102, 0.058, 0.204]]}, \"columnwidth\": [300, 40, 40, 40], \"header\": {\"align\": [\"left\", \"center\", \"center\", \"center\"], \"fill\": {\"color\": \"#39416C\"}, \"font\": {\"color\": \"white\", \"size\": 12}, \"values\": [\"Forum_Post_Raw\", \"neg\", \"neu\", \"pos\"]}, \"type\": \"table\"}],                        {\"height\": 400, \"template\": {\"data\": {\"bar\": [{\"error_x\": {\"color\": \"#2a3f5f\"}, \"error_y\": {\"color\": \"#2a3f5f\"}, \"marker\": {\"line\": {\"color\": \"#E5ECF6\", \"width\": 0.5}}, \"type\": \"bar\"}], \"barpolar\": [{\"marker\": {\"line\": {\"color\": \"#E5ECF6\", \"width\": 0.5}}, \"type\": \"barpolar\"}], \"carpet\": [{\"aaxis\": {\"endlinecolor\": \"#2a3f5f\", \"gridcolor\": \"white\", \"linecolor\": \"white\", \"minorgridcolor\": \"white\", \"startlinecolor\": \"#2a3f5f\"}, \"baxis\": {\"endlinecolor\": \"#2a3f5f\", \"gridcolor\": \"white\", \"linecolor\": \"white\", \"minorgridcolor\": \"white\", \"startlinecolor\": \"#2a3f5f\"}, \"type\": \"carpet\"}], \"choropleth\": [{\"colorbar\": {\"outlinewidth\": 0, \"ticks\": \"\"}, \"type\": \"choropleth\"}], \"contour\": [{\"colorbar\": {\"outlinewidth\": 0, \"ticks\": \"\"}, \"colorscale\": [[0.0, \"#0d0887\"], [0.1111111111111111, \"#46039f\"], [0.2222222222222222, \"#7201a8\"], [0.3333333333333333, \"#9c179e\"], [0.4444444444444444, \"#bd3786\"], [0.5555555555555556, \"#d8576b\"], [0.6666666666666666, \"#ed7953\"], [0.7777777777777778, \"#fb9f3a\"], [0.8888888888888888, \"#fdca26\"], [1.0, \"#f0f921\"]], \"type\": \"contour\"}], \"contourcarpet\": [{\"colorbar\": {\"outlinewidth\": 0, \"ticks\": \"\"}, \"type\": \"contourcarpet\"}], \"heatmap\": [{\"colorbar\": {\"outlinewidth\": 0, \"ticks\": \"\"}, \"colorscale\": [[0.0, \"#0d0887\"], [0.1111111111111111, \"#46039f\"], [0.2222222222222222, \"#7201a8\"], [0.3333333333333333, \"#9c179e\"], [0.4444444444444444, \"#bd3786\"], [0.5555555555555556, \"#d8576b\"], [0.6666666666666666, \"#ed7953\"], [0.7777777777777778, \"#fb9f3a\"], [0.8888888888888888, \"#fdca26\"], [1.0, \"#f0f921\"]], \"type\": \"heatmap\"}], \"heatmapgl\": [{\"colorbar\": {\"outlinewidth\": 0, \"ticks\": \"\"}, \"colorscale\": [[0.0, \"#0d0887\"], [0.1111111111111111, \"#46039f\"], [0.2222222222222222, \"#7201a8\"], [0.3333333333333333, \"#9c179e\"], [0.4444444444444444, \"#bd3786\"], [0.5555555555555556, \"#d8576b\"], [0.6666666666666666, \"#ed7953\"], [0.7777777777777778, \"#fb9f3a\"], [0.8888888888888888, \"#fdca26\"], [1.0, \"#f0f921\"]], \"type\": \"heatmapgl\"}], \"histogram\": [{\"marker\": {\"colorbar\": {\"outlinewidth\": 0, \"ticks\": \"\"}}, \"type\": \"histogram\"}], \"histogram2d\": [{\"colorbar\": {\"outlinewidth\": 0, \"ticks\": \"\"}, \"colorscale\": [[0.0, \"#0d0887\"], [0.1111111111111111, \"#46039f\"], [0.2222222222222222, \"#7201a8\"], [0.3333333333333333, \"#9c179e\"], [0.4444444444444444, \"#bd3786\"], [0.5555555555555556, \"#d8576b\"], [0.6666666666666666, \"#ed7953\"], [0.7777777777777778, \"#fb9f3a\"], [0.8888888888888888, \"#fdca26\"], [1.0, \"#f0f921\"]], \"type\": \"histogram2d\"}], \"histogram2dcontour\": [{\"colorbar\": {\"outlinewidth\": 0, \"ticks\": \"\"}, \"colorscale\": [[0.0, \"#0d0887\"], [0.1111111111111111, \"#46039f\"], [0.2222222222222222, \"#7201a8\"], [0.3333333333333333, \"#9c179e\"], [0.4444444444444444, \"#bd3786\"], [0.5555555555555556, \"#d8576b\"], [0.6666666666666666, \"#ed7953\"], [0.7777777777777778, \"#fb9f3a\"], [0.8888888888888888, \"#fdca26\"], [1.0, \"#f0f921\"]], \"type\": \"histogram2dcontour\"}], \"mesh3d\": [{\"colorbar\": {\"outlinewidth\": 0, \"ticks\": \"\"}, \"type\": \"mesh3d\"}], \"parcoords\": [{\"line\": {\"colorbar\": {\"outlinewidth\": 0, \"ticks\": \"\"}}, \"type\": \"parcoords\"}], \"pie\": [{\"automargin\": true, \"type\": \"pie\"}], \"scatter\": [{\"marker\": {\"colorbar\": {\"outlinewidth\": 0, \"ticks\": \"\"}}, \"type\": \"scatter\"}], \"scatter3d\": [{\"line\": {\"colorbar\": {\"outlinewidth\": 0, \"ticks\": \"\"}}, \"marker\": {\"colorbar\": {\"outlinewidth\": 0, \"ticks\": \"\"}}, \"type\": \"scatter3d\"}], \"scattercarpet\": [{\"marker\": {\"colorbar\": {\"outlinewidth\": 0, \"ticks\": \"\"}}, \"type\": \"scattercarpet\"}], \"scattergeo\": [{\"marker\": {\"colorbar\": {\"outlinewidth\": 0, \"ticks\": \"\"}}, \"type\": \"scattergeo\"}], \"scattergl\": [{\"marker\": {\"colorbar\": {\"outlinewidth\": 0, \"ticks\": \"\"}}, \"type\": \"scattergl\"}], \"scattermapbox\": [{\"marker\": {\"colorbar\": {\"outlinewidth\": 0, \"ticks\": \"\"}}, \"type\": \"scattermapbox\"}], \"scatterpolar\": [{\"marker\": {\"colorbar\": {\"outlinewidth\": 0, \"ticks\": \"\"}}, \"type\": \"scatterpolar\"}], \"scatterpolargl\": [{\"marker\": {\"colorbar\": {\"outlinewidth\": 0, \"ticks\": \"\"}}, \"type\": \"scatterpolargl\"}], \"scatterternary\": [{\"marker\": {\"colorbar\": {\"outlinewidth\": 0, \"ticks\": \"\"}}, \"type\": \"scatterternary\"}], \"surface\": [{\"colorbar\": {\"outlinewidth\": 0, \"ticks\": \"\"}, \"colorscale\": [[0.0, \"#0d0887\"], [0.1111111111111111, \"#46039f\"], [0.2222222222222222, \"#7201a8\"], [0.3333333333333333, \"#9c179e\"], [0.4444444444444444, \"#bd3786\"], [0.5555555555555556, \"#d8576b\"], [0.6666666666666666, \"#ed7953\"], [0.7777777777777778, \"#fb9f3a\"], [0.8888888888888888, \"#fdca26\"], [1.0, \"#f0f921\"]], \"type\": \"surface\"}], \"table\": [{\"cells\": {\"fill\": {\"color\": \"#EBF0F8\"}, \"line\": {\"color\": \"white\"}}, \"header\": {\"fill\": {\"color\": \"#C8D4E3\"}, \"line\": {\"color\": \"white\"}}, \"type\": \"table\"}]}, \"layout\": {\"annotationdefaults\": {\"arrowcolor\": \"#2a3f5f\", \"arrowhead\": 0, \"arrowwidth\": 1}, \"autotypenumbers\": \"strict\", \"coloraxis\": {\"colorbar\": {\"outlinewidth\": 0, \"ticks\": \"\"}}, \"colorscale\": {\"diverging\": [[0, \"#8e0152\"], [0.1, \"#c51b7d\"], [0.2, \"#de77ae\"], [0.3, \"#f1b6da\"], [0.4, \"#fde0ef\"], [0.5, \"#f7f7f7\"], [0.6, \"#e6f5d0\"], [0.7, \"#b8e186\"], [0.8, \"#7fbc41\"], [0.9, \"#4d9221\"], [1, \"#276419\"]], \"sequential\": [[0.0, \"#0d0887\"], [0.1111111111111111, \"#46039f\"], [0.2222222222222222, \"#7201a8\"], [0.3333333333333333, \"#9c179e\"], [0.4444444444444444, \"#bd3786\"], [0.5555555555555556, \"#d8576b\"], [0.6666666666666666, \"#ed7953\"], [0.7777777777777778, \"#fb9f3a\"], [0.8888888888888888, \"#fdca26\"], [1.0, \"#f0f921\"]], \"sequentialminus\": [[0.0, \"#0d0887\"], [0.1111111111111111, \"#46039f\"], [0.2222222222222222, \"#7201a8\"], [0.3333333333333333, \"#9c179e\"], [0.4444444444444444, \"#bd3786\"], [0.5555555555555556, \"#d8576b\"], [0.6666666666666666, \"#ed7953\"], [0.7777777777777778, \"#fb9f3a\"], [0.8888888888888888, \"#fdca26\"], [1.0, \"#f0f921\"]]}, \"colorway\": [\"#636efa\", \"#EF553B\", \"#00cc96\", \"#ab63fa\", \"#FFA15A\", \"#19d3f3\", \"#FF6692\", \"#B6E880\", \"#FF97FF\", \"#FECB52\"], \"font\": {\"color\": \"#2a3f5f\"}, \"geo\": {\"bgcolor\": \"white\", \"lakecolor\": \"white\", \"landcolor\": \"#E5ECF6\", \"showlakes\": true, \"showland\": true, \"subunitcolor\": \"white\"}, \"hoverlabel\": {\"align\": \"left\"}, \"hovermode\": \"closest\", \"mapbox\": {\"style\": \"light\"}, \"paper_bgcolor\": \"white\", \"plot_bgcolor\": \"#E5ECF6\", \"polar\": {\"angularaxis\": {\"gridcolor\": \"white\", \"linecolor\": \"white\", \"ticks\": \"\"}, \"bgcolor\": \"#E5ECF6\", \"radialaxis\": {\"gridcolor\": \"white\", \"linecolor\": \"white\", \"ticks\": \"\"}}, \"scene\": {\"xaxis\": {\"backgroundcolor\": \"#E5ECF6\", \"gridcolor\": \"white\", \"gridwidth\": 2, \"linecolor\": \"white\", \"showbackground\": true, \"ticks\": \"\", \"zerolinecolor\": \"white\"}, \"yaxis\": {\"backgroundcolor\": \"#E5ECF6\", \"gridcolor\": \"white\", \"gridwidth\": 2, \"linecolor\": \"white\", \"showbackground\": true, \"ticks\": \"\", \"zerolinecolor\": \"white\"}, \"zaxis\": {\"backgroundcolor\": \"#E5ECF6\", \"gridcolor\": \"white\", \"gridwidth\": 2, \"linecolor\": \"white\", \"showbackground\": true, \"ticks\": \"\", \"zerolinecolor\": \"white\"}}, \"shapedefaults\": {\"line\": {\"color\": \"#2a3f5f\"}}, \"ternary\": {\"aaxis\": {\"gridcolor\": \"white\", \"linecolor\": \"white\", \"ticks\": \"\"}, \"baxis\": {\"gridcolor\": \"white\", \"linecolor\": \"white\", \"ticks\": \"\"}, \"bgcolor\": \"#E5ECF6\", \"caxis\": {\"gridcolor\": \"white\", \"linecolor\": \"white\", \"ticks\": \"\"}}, \"title\": {\"x\": 0.05}, \"xaxis\": {\"automargin\": true, \"gridcolor\": \"white\", \"linecolor\": \"white\", \"ticks\": \"\", \"title\": {\"standoff\": 15}, \"zerolinecolor\": \"white\", \"zerolinewidth\": 2}, \"yaxis\": {\"automargin\": true, \"gridcolor\": \"white\", \"linecolor\": \"white\", \"ticks\": \"\", \"title\": {\"standoff\": 15}, \"zerolinecolor\": \"white\", \"zerolinewidth\": 2}}}, \"title\": {\"text\": \"Negative\"}, \"width\": 1000},                        {\"responsive\": true}                    ).then(function(){\n",
       "                            \n",
       "var gd = document.getElementById('e3b751b6-7be0-4f12-91e6-7b63218a541e');\n",
       "var x = new MutationObserver(function (mutations, observer) {{\n",
       "        var display = window.getComputedStyle(gd).display;\n",
       "        if (!display || display === 'none') {{\n",
       "            console.log([gd, 'removed!']);\n",
       "            Plotly.purge(gd);\n",
       "            observer.disconnect();\n",
       "        }}\n",
       "}});\n",
       "\n",
       "// Listen for the removal of the full notebook cells\n",
       "var notebookContainer = gd.closest('#notebook-container');\n",
       "if (notebookContainer) {{\n",
       "    x.observe(notebookContainer, {childList: true});\n",
       "}}\n",
       "\n",
       "// Listen for the clearing of the current output cell\n",
       "var outputEl = gd.closest('.output');\n",
       "if (outputEl) {{\n",
       "    x.observe(outputEl, {childList: true});\n",
       "}}\n",
       "\n",
       "                        })                };                });            </script>        </div>"
      ]
     },
     "metadata": {},
     "output_type": "display_data"
    }
   ],
   "source": [
    "\n",
    "import plotly.graph_objects as go\n",
    "import pandas as pd\n",
    "\n",
    "def WriteMyTable(dataSets):\n",
    "    for frame in dataSets:\n",
    "        headerColor = 'grey'\n",
    "        rowEvenColor = 'lightgrey'\n",
    "        rowOddColor = 'white'\n",
    "\n",
    "        fig = go.Figure(data=[go.Table(\n",
    "            columnwidth = [300,40,40,40],\n",
    "            header=dict(values=[x for x in features],\n",
    "                        fill_color='#39416C',                \n",
    "                        font=dict(color='white', size=12),\n",
    "                        align=['left', 'center', 'center', 'center']),\n",
    "            cells=dict(values=[frame.Forum_Post_Raw, frame.neg, frame.neu, frame.pos],\n",
    "                    fill_color = [[rowOddColor,rowEvenColor,rowOddColor, rowEvenColor,rowOddColor]*5],\n",
    "                    align=['left', 'center', 'center', 'center']))\n",
    "        ])\n",
    "        fig.update_layout(title=frame.name, width=1000, height=400)\n",
    "        fig.write_html(frame.name+\".html\")\n",
    "        fig.show()\n",
    "\n",
    "WriteMyTable(dataSets)\n"
   ]
  },
  {
   "cell_type": "markdown",
   "metadata": {},
   "source": [
    "# Charting Ideas\n",
    "1. Top pos / neg post by user\n",
    "2. Trend line over time (SNS) color = user\n",
    "- Does it match up to release dates or seasonal timings? \n",
    "- Was there a bad release?\n",
    "- Was there a good release?\n",
    "- Can we classify based on tags?\n",
    "\n",
    "3. PCA analysis\n",
    "4. Felix analysis (lda): https://towardsdatascience.com/the-complete-guide-for-topics-extraction-in-python-a6aaa6cedbbc\n",
    "5. Prediction of nltk accuracy chart?"
   ]
  },
  {
   "cell_type": "markdown",
   "metadata": {},
   "source": [
    "# Latent Dirichlet Allocation (LDA) Analysis"
   ]
  },
  {
   "cell_type": "markdown",
   "metadata": {},
   "source": [
    "Three main parameters of the model\n",
    "1. Number of topics\n",
    "2. Number of words per topic\n",
    "3. Number of topics per document"
   ]
  },
  {
   "cell_type": "code",
   "execution_count": 220,
   "metadata": {},
   "outputs": [
    {
     "name": "stderr",
     "output_type": "stream",
     "text": [
      "C:\\Users\\BDelamater\\Anaconda3\\lib\\site-packages\\ipykernel\\ipkernel.py:287: DeprecationWarning:\n",
      "\n",
      "`should_run_async` will not call `transform_cell` automatically in the future. Please pass the result to `transformed_cell` argument and any exception that happen during thetransform in `preprocessing_exc_tuple` in IPython 7.17 and above.\n",
      "\n",
      "<ipython-input-220-6223f08b0e3e>:4: TqdmDeprecationWarning:\n",
      "\n",
      "This function will be removed in tqdm==5.0.0\n",
      "Please use `tqdm.notebook.tqdm` instead of `tqdm.tqdm_notebook`\n",
      "\n"
     ]
    },
    {
     "data": {
      "application/vnd.jupyter.widget-view+json": {
       "model_id": "34c8ed7db52348ff91d9e1e7eacb4e84",
       "version_major": 2,
       "version_minor": 0
      },
      "text/plain": [
       "0it [00:00, ?it/s]"
      ]
     },
     "metadata": {},
     "output_type": "display_data"
    },
    {
     "name": "stderr",
     "output_type": "stream",
     "text": [
      "[nltk_data] Downloading package averaged_perceptron_tagger to\n",
      "[nltk_data]     C:\\Users\\BDelamater\\AppData\\Roaming\\nltk_data...\n",
      "[nltk_data]   Package averaged_perceptron_tagger is already up-to-\n",
      "[nltk_data]       date!\n"
     ]
    }
   ],
   "source": [
    "from gensim import corpora, models\n",
    "from langdetect import detect\n",
    "from tqdm import tqdm_notebook\n",
    "tqdm_notebook().pandas()\n",
    "from nltk.tokenize import sent_tokenize\n",
    "from nltk.tokenize import word_tokenize\n",
    "from nltk import pos_tag\n",
    "from gensim.models import Phrases\n",
    "from gensim import corpora\n",
    "from gensim import models\n",
    "import numpy as np\n",
    "\n",
    "\n",
    "import nltk\n",
    "nltk.download('averaged_perceptron_tagger')\n",
    "from itertools import chain # to flatten list of sentences of tokens into list of tokens\n",
    "\n"
   ]
  },
  {
   "cell_type": "code",
   "execution_count": 221,
   "metadata": {},
   "outputs": [
    {
     "name": "stderr",
     "output_type": "stream",
     "text": [
      "C:\\Users\\BDelamater\\Anaconda3\\lib\\site-packages\\ipykernel\\ipkernel.py:287: DeprecationWarning:\n",
      "\n",
      "`should_run_async` will not call `transform_cell` automatically in the future. Please pass the result to `transformed_cell` argument and any exception that happen during thetransform in `preprocessing_exc_tuple` in IPython 7.17 and above.\n",
      "\n"
     ]
    }
   ],
   "source": [
    "# dictionary_LDA = corpora.Dictionary(list_of_list_of_tokens)\n",
    "# dictionary_LDA.filter_extremes(no_below=3)\n",
    "# corpus = [dictionary_LDA.doc2bow(list_of_tokens) for list_of_tokens in list_of_list_of_tokens]\n",
    "\n",
    "# num_topics = 20\n",
    "# %time lda_model = models.LdaModel(corpus, num_topics=num_topics, \\\n",
    "#                                   id2word=dictionary_LDA, \\\n",
    "#                                   passes=4, alpha=[0.01]*num_topics, \\\n",
    "#                                   eta=[0.01]*len(dictionary_LDA.keys()))"
   ]
  },
  {
   "cell_type": "markdown",
   "metadata": {},
   "source": [
    "## Tokenization"
   ]
  },
  {
   "cell_type": "code",
   "execution_count": 222,
   "metadata": {},
   "outputs": [
    {
     "name": "stderr",
     "output_type": "stream",
     "text": [
      "C:\\Users\\BDelamater\\Anaconda3\\lib\\site-packages\\ipykernel\\ipkernel.py:287: DeprecationWarning:\n",
      "\n",
      "`should_run_async` will not call `transform_cell` automatically in the future. Please pass the result to `transformed_cell` argument and any exception that happen during thetransform in `preprocessing_exc_tuple` in IPython 7.17 and above.\n",
      "\n"
     ]
    },
    {
     "data": {
      "text/plain": [
       "Forum ID            0\n",
       "Forum Name          0\n",
       "Subject             0\n",
       "Post Date           0\n",
       "User DisplayName    0\n",
       "Forum_Post_Raw      0\n",
       "compound            0\n",
       "neg                 0\n",
       "neu                 0\n",
       "pos                 0\n",
       "Sentiment           0\n",
       "PostDate            0\n",
       "DayName             0\n",
       "DayOfMonth          0\n",
       "ShortText           0\n",
       "dtype: int64"
      ]
     },
     "execution_count": 222,
     "metadata": {},
     "output_type": "execute_result"
    }
   ],
   "source": [
    "dfLDA.isna().sum()"
   ]
  },
  {
   "cell_type": "code",
   "execution_count": 223,
   "metadata": {},
   "outputs": [
    {
     "name": "stderr",
     "output_type": "stream",
     "text": [
      "C:\\Users\\BDelamater\\Anaconda3\\lib\\site-packages\\ipykernel\\ipkernel.py:287: DeprecationWarning:\n",
      "\n",
      "`should_run_async` will not call `transform_cell` automatically in the future. Please pass the result to `transformed_cell` argument and any exception that happen during thetransform in `preprocessing_exc_tuple` in IPython 7.17 and above.\n",
      "\n"
     ]
    },
    {
     "data": {
      "application/vnd.jupyter.widget-view+json": {
       "model_id": "44b71f1f093742b2ab478c3e24003b5b",
       "version_major": 2,
       "version_minor": 0
      },
      "text/plain": [
       "  0%|          | 0/1086 [00:00<?, ?it/s]"
      ]
     },
     "metadata": {},
     "output_type": "display_data"
    },
    {
     "data": {
      "text/plain": [
       "['Company upgraded to windows 10.',\n",
       " 'Used to run an ERP program which no one heard about, made by U8Soft (keep in mind that the company is in China).',\n",
       " 'They are now asking for an insanely high amount of money to get it to work on windows 10.']"
      ]
     },
     "execution_count": 223,
     "metadata": {},
     "output_type": "execute_result"
    }
   ],
   "source": [
    "dfLDA['sentences'] = dfLDA.Forum_Post_Raw.progress_map(sent_tokenize)\n",
    "dfLDA['sentences'].head(1).tolist()[0][:3]"
   ]
  },
  {
   "cell_type": "code",
   "execution_count": 224,
   "metadata": {},
   "outputs": [
    {
     "name": "stderr",
     "output_type": "stream",
     "text": [
      "C:\\Users\\BDelamater\\Anaconda3\\lib\\site-packages\\ipykernel\\ipkernel.py:287: DeprecationWarning:\n",
      "\n",
      "`should_run_async` will not call `transform_cell` automatically in the future. Please pass the result to `transformed_cell` argument and any exception that happen during thetransform in `preprocessing_exc_tuple` in IPython 7.17 and above.\n",
      "\n"
     ]
    },
    {
     "data": {
      "application/vnd.jupyter.widget-view+json": {
       "model_id": "7b05beb53dc84985b85f56012616cf98",
       "version_major": 2,
       "version_minor": 0
      },
      "text/plain": [
       "  0%|          | 0/1086 [00:00<?, ?it/s]"
      ]
     },
     "metadata": {},
     "output_type": "display_data"
    },
    {
     "name": "stdout",
     "output_type": "stream",
     "text": [
      "[['Company', 'upgraded', 'to', 'windows', '10', '.'], ['Used', 'to', 'run', 'an', 'ERP', 'program', 'which', 'no', 'one', 'heard', 'about', ',', 'made', 'by', 'U8Soft', '(', 'keep', 'in', 'mind', 'that', 'the', 'company', 'is', 'in', 'China', ')', '.'], ['They', 'are', 'now', 'asking', 'for', 'an', 'insanely', 'high', 'amount', 'of', 'money', 'to', 'get', 'it', 'to', 'work', 'on', 'windows', '10', '.']]\n"
     ]
    }
   ],
   "source": [
    "dfLDA['token_sentences'] = dfLDA['sentences'].progress_map(lambda sentences: [word_tokenize(sentence) for sentence in sentences])\n",
    "print(dfLDA['token_sentences'].head(1).tolist()[0][:3])"
   ]
  },
  {
   "cell_type": "code",
   "execution_count": 225,
   "metadata": {},
   "outputs": [
    {
     "name": "stderr",
     "output_type": "stream",
     "text": [
      "C:\\Users\\BDelamater\\Anaconda3\\lib\\site-packages\\ipykernel\\ipkernel.py:287: DeprecationWarning:\n",
      "\n",
      "`should_run_async` will not call `transform_cell` automatically in the future. Please pass the result to `transformed_cell` argument and any exception that happen during thetransform in `preprocessing_exc_tuple` in IPython 7.17 and above.\n",
      "\n"
     ]
    },
    {
     "data": {
      "application/vnd.jupyter.widget-view+json": {
       "model_id": "f199eb0fdd86483799f1cdad669c892a",
       "version_major": 2,
       "version_minor": 0
      },
      "text/plain": [
       "  0%|          | 0/1086 [00:00<?, ?it/s]"
      ]
     },
     "metadata": {},
     "output_type": "display_data"
    },
    {
     "name": "stdout",
     "output_type": "stream",
     "text": [
      "[['Company', 'upgraded', 'to', 'windows', '10', '.'], ['Used', 'to', 'run', 'an', 'ERP', 'program', 'which', 'no', 'one', 'heard', 'about', ',', 'made', 'by', 'U8Soft', '(', 'keep', 'in', 'mind', 'that', 'the', 'company', 'is', 'in', 'China', ')', '.'], ['They', 'are', 'now', 'asking', 'for', 'an', 'insanely', 'high', 'amount', 'of', 'money', 'to', 'get', 'it', 'to', 'work', 'on', 'windows', '10', '.']]\n"
     ]
    }
   ],
   "source": [
    "dfLDA['tokens_sentences'] = dfLDA['sentences'].progress_map(lambda sentences: [word_tokenize(sentence) for sentence in sentences])\n",
    "print(dfLDA['tokens_sentences'].head(1).tolist()[0][:3])"
   ]
  },
  {
   "cell_type": "markdown",
   "metadata": {},
   "source": [
    "## Lemmatize with POS tagging"
   ]
  },
  {
   "cell_type": "code",
   "execution_count": 226,
   "metadata": {},
   "outputs": [
    {
     "name": "stderr",
     "output_type": "stream",
     "text": [
      "C:\\Users\\BDelamater\\Anaconda3\\lib\\site-packages\\ipykernel\\ipkernel.py:287: DeprecationWarning:\n",
      "\n",
      "`should_run_async` will not call `transform_cell` automatically in the future. Please pass the result to `transformed_cell` argument and any exception that happen during thetransform in `preprocessing_exc_tuple` in IPython 7.17 and above.\n",
      "\n"
     ]
    },
    {
     "data": {
      "application/vnd.jupyter.widget-view+json": {
       "model_id": "7dca83592bc5455fa2def0b8f8bacb04",
       "version_major": 2,
       "version_minor": 0
      },
      "text/plain": [
       "  0%|          | 0/1086 [00:00<?, ?it/s]"
      ]
     },
     "metadata": {},
     "output_type": "display_data"
    },
    {
     "name": "stdout",
     "output_type": "stream",
     "text": [
      "[[('Company', 'NN'), ('upgraded', 'VBD'), ('to', 'TO'), ('windows', 'VB'), ('10', 'CD'), ('.', '.')], [('Used', 'VBN'), ('to', 'TO'), ('run', 'VB'), ('an', 'DT'), ('ERP', 'NNP'), ('program', 'NN'), ('which', 'WDT'), ('no', 'DT'), ('one', 'NN'), ('heard', 'NN'), ('about', 'IN'), (',', ','), ('made', 'VBN'), ('by', 'IN'), ('U8Soft', 'NNP'), ('(', '('), ('keep', 'VB'), ('in', 'IN'), ('mind', 'NN'), ('that', 'IN'), ('the', 'DT'), ('company', 'NN'), ('is', 'VBZ'), ('in', 'IN'), ('China', 'NNP'), (')', ')'), ('.', '.')], [('They', 'PRP'), ('are', 'VBP'), ('now', 'RB'), ('asking', 'VBG'), ('for', 'IN'), ('an', 'DT'), ('insanely', 'RB'), ('high', 'JJ'), ('amount', 'NN'), ('of', 'IN'), ('money', 'NN'), ('to', 'TO'), ('get', 'VB'), ('it', 'PRP'), ('to', 'TO'), ('work', 'VB'), ('on', 'IN'), ('windows', 'NNS'), ('10', 'CD'), ('.', '.')]]\n"
     ]
    }
   ],
   "source": [
    "dfLDA['POS_tokens'] = dfLDA['tokens_sentences'].progress_map(lambda tokens_sentences: [pos_tag(tokens) for tokens in tokens_sentences])\n",
    "print(dfLDA['POS_tokens'].head(1).tolist()[0][:3])\n"
   ]
  },
  {
   "cell_type": "code",
   "execution_count": 227,
   "metadata": {},
   "outputs": [
    {
     "name": "stderr",
     "output_type": "stream",
     "text": [
      "C:\\Users\\BDelamater\\Anaconda3\\lib\\site-packages\\ipykernel\\ipkernel.py:287: DeprecationWarning:\n",
      "\n",
      "`should_run_async` will not call `transform_cell` automatically in the future. Please pass the result to `transformed_cell` argument and any exception that happen during thetransform in `preprocessing_exc_tuple` in IPython 7.17 and above.\n",
      "\n"
     ]
    }
   ],
   "source": [
    "# Inspired from https://stackoverflow.com/a/15590384\n",
    "from nltk.corpus import wordnet\n",
    "\n",
    "def get_wordnet_pos(treebank_tag):\n",
    "\n",
    "    if treebank_tag.startswith('J'):\n",
    "        return wordnet.ADJ\n",
    "    elif treebank_tag.startswith('V'):\n",
    "        return wordnet.VERB\n",
    "    elif treebank_tag.startswith('N'):\n",
    "        return wordnet.NOUN\n",
    "    elif treebank_tag.startswith('R'):\n",
    "        return wordnet.ADV\n",
    "    else:\n",
    "        return ''\n",
    "\n",
    "from nltk.stem.wordnet import WordNetLemmatizer\n",
    "lemmatizer = WordNetLemmatizer()"
   ]
  },
  {
   "cell_type": "code",
   "execution_count": 228,
   "metadata": {},
   "outputs": [
    {
     "name": "stderr",
     "output_type": "stream",
     "text": [
      "C:\\Users\\BDelamater\\Anaconda3\\lib\\site-packages\\ipykernel\\ipkernel.py:287: DeprecationWarning:\n",
      "\n",
      "`should_run_async` will not call `transform_cell` automatically in the future. Please pass the result to `transformed_cell` argument and any exception that happen during thetransform in `preprocessing_exc_tuple` in IPython 7.17 and above.\n",
      "\n"
     ]
    },
    {
     "data": {
      "application/vnd.jupyter.widget-view+json": {
       "model_id": "9fa60b0428d641f88bf854b6125a4110",
       "version_major": 2,
       "version_minor": 0
      },
      "text/plain": [
       "  0%|          | 0/1086 [00:00<?, ?it/s]"
      ]
     },
     "metadata": {},
     "output_type": "display_data"
    }
   ],
   "source": [
    "# Lemmatizing each word with its POS tag, in each sentence\n",
    "dfLDA['tokens_sentences_lemmatized'] = dfLDA['POS_tokens'].progress_map(\n",
    "    lambda list_tokens_POS: [\n",
    "        [\n",
    "            lemmatizer.lemmatize(el[0], get_wordnet_pos(el[1])) \n",
    "            if get_wordnet_pos(el[1]) != '' else el[0] for el in tokens_POS\n",
    "        ] \n",
    "        for tokens_POS in list_tokens_POS\n",
    "    ]\n",
    ")"
   ]
  },
  {
   "cell_type": "code",
   "execution_count": 229,
   "metadata": {},
   "outputs": [
    {
     "name": "stderr",
     "output_type": "stream",
     "text": [
      "C:\\Users\\BDelamater\\Anaconda3\\lib\\site-packages\\ipykernel\\ipkernel.py:287: DeprecationWarning:\n",
      "\n",
      "`should_run_async` will not call `transform_cell` automatically in the future. Please pass the result to `transformed_cell` argument and any exception that happen during thetransform in `preprocessing_exc_tuple` in IPython 7.17 and above.\n",
      "\n"
     ]
    },
    {
     "data": {
      "text/plain": [
       "[['Company', 'upgrade', 'to', 'windows', '10', '.'],\n",
       " ['Used',\n",
       "  'to',\n",
       "  'run',\n",
       "  'an',\n",
       "  'ERP',\n",
       "  'program',\n",
       "  'which',\n",
       "  'no',\n",
       "  'one',\n",
       "  'heard',\n",
       "  'about',\n",
       "  ',',\n",
       "  'make',\n",
       "  'by',\n",
       "  'U8Soft',\n",
       "  '(',\n",
       "  'keep',\n",
       "  'in',\n",
       "  'mind',\n",
       "  'that',\n",
       "  'the',\n",
       "  'company',\n",
       "  'be',\n",
       "  'in',\n",
       "  'China',\n",
       "  ')',\n",
       "  '.'],\n",
       " ['They',\n",
       "  'be',\n",
       "  'now',\n",
       "  'ask',\n",
       "  'for',\n",
       "  'an',\n",
       "  'insanely',\n",
       "  'high',\n",
       "  'amount',\n",
       "  'of',\n",
       "  'money',\n",
       "  'to',\n",
       "  'get',\n",
       "  'it',\n",
       "  'to',\n",
       "  'work',\n",
       "  'on',\n",
       "  'window',\n",
       "  '10',\n",
       "  '.']]"
      ]
     },
     "execution_count": 229,
     "metadata": {},
     "output_type": "execute_result"
    }
   ],
   "source": [
    "dfLDA['tokens_sentences_lemmatized'].head(1).tolist()[0][:3]\n"
   ]
  },
  {
   "cell_type": "markdown",
   "metadata": {},
   "source": [
    "## Regrouping tokens and removing stop words"
   ]
  },
  {
   "cell_type": "code",
   "execution_count": null,
   "metadata": {},
   "outputs": [],
   "source": []
  },
  {
   "cell_type": "code",
   "execution_count": 230,
   "metadata": {},
   "outputs": [
    {
     "name": "stderr",
     "output_type": "stream",
     "text": [
      "C:\\Users\\BDelamater\\Anaconda3\\lib\\site-packages\\ipykernel\\ipkernel.py:287: DeprecationWarning:\n",
      "\n",
      "`should_run_async` will not call `transform_cell` automatically in the future. Please pass the result to `transformed_cell` argument and any exception that happen during thetransform in `preprocessing_exc_tuple` in IPython 7.17 and above.\n",
      "\n"
     ]
    }
   ],
   "source": [
    "from nltk.corpus import stopwords\n",
    "stopwords_verbs = ['say', 'get', 'go', 'know', 'may', 'need', 'like', 'make', 'see', 'want', 'come', 'take', 'use', 'would', 'can']\n",
    "stopwords_other = ['one', 'mr', 'bbc', 'image', 'getty', 'de', 'en', 'caption', 'also', 'copyright', 'something']\n",
    "stopwords_nonsense = ['hello', 'thanks', 'le', 'la', 'hi', 'try', 'sage', 'however', 'way']\n",
    "my_stopwords = stopwords.words('English') + stopwords_verbs + stopwords_other + stopwords_nonsense\n"
   ]
  },
  {
   "cell_type": "code",
   "execution_count": 231,
   "metadata": {},
   "outputs": [
    {
     "name": "stderr",
     "output_type": "stream",
     "text": [
      "C:\\Users\\BDelamater\\Anaconda3\\lib\\site-packages\\ipykernel\\ipkernel.py:287: DeprecationWarning:\n",
      "\n",
      "`should_run_async` will not call `transform_cell` automatically in the future. Please pass the result to `transformed_cell` argument and any exception that happen during thetransform in `preprocessing_exc_tuple` in IPython 7.17 and above.\n",
      "\n"
     ]
    }
   ],
   "source": [
    "dfLDA['tokens'] = dfLDA['tokens_sentences_lemmatized'].map(lambda sentences: list(chain.from_iterable(sentences)))\n",
    "dfLDA['tokens'] = dfLDA['tokens'].map(lambda tokens: [token.lower() for token in tokens if token.isalpha() \n",
    "                                                    and token.lower() not in my_stopwords and len(token)>1])\n"
   ]
  },
  {
   "cell_type": "code",
   "execution_count": 232,
   "metadata": {},
   "outputs": [
    {
     "name": "stderr",
     "output_type": "stream",
     "text": [
      "C:\\Users\\BDelamater\\Anaconda3\\lib\\site-packages\\ipykernel\\ipkernel.py:287: DeprecationWarning:\n",
      "\n",
      "`should_run_async` will not call `transform_cell` automatically in the future. Please pass the result to `transformed_cell` argument and any exception that happen during thetransform in `preprocessing_exc_tuple` in IPython 7.17 and above.\n",
      "\n"
     ]
    },
    {
     "data": {
      "text/plain": [
       "(1086, 21)"
      ]
     },
     "execution_count": 232,
     "metadata": {},
     "output_type": "execute_result"
    }
   ],
   "source": [
    "dfLDA.shape"
   ]
  },
  {
   "cell_type": "code",
   "execution_count": 233,
   "metadata": {},
   "outputs": [
    {
     "name": "stderr",
     "output_type": "stream",
     "text": [
      "C:\\Users\\BDelamater\\Anaconda3\\lib\\site-packages\\ipykernel\\ipkernel.py:287: DeprecationWarning:\n",
      "\n",
      "`should_run_async` will not call `transform_cell` automatically in the future. Please pass the result to `transformed_cell` argument and any exception that happen during thetransform in `preprocessing_exc_tuple` in IPython 7.17 and above.\n",
      "\n"
     ]
    },
    {
     "data": {
      "text/plain": [
       "['company',\n",
       " 'upgrade',\n",
       " 'windows',\n",
       " 'used',\n",
       " 'run',\n",
       " 'erp',\n",
       " 'program',\n",
       " 'heard',\n",
       " 'keep',\n",
       " 'mind',\n",
       " 'company',\n",
       " 'china',\n",
       " 'ask',\n",
       " 'insanely',\n",
       " 'high',\n",
       " 'amount',\n",
       " 'money',\n",
       " 'work',\n",
       " 'window',\n",
       " 'instal',\n",
       " 'window',\n",
       " 'ca',\n",
       " 'select',\n",
       " 'server',\n",
       " 'drop',\n",
       " 'menu',\n",
       " 'almost',\n",
       " 'network',\n",
       " 'list',\n",
       " 'except']"
      ]
     },
     "execution_count": 233,
     "metadata": {},
     "output_type": "execute_result"
    }
   ],
   "source": [
    "dfLDA['tokens'].head(1).tolist()[0][:30]\n"
   ]
  },
  {
   "cell_type": "markdown",
   "metadata": {},
   "source": [
    "## Data Preparation"
   ]
  },
  {
   "cell_type": "code",
   "execution_count": 234,
   "metadata": {},
   "outputs": [
    {
     "name": "stderr",
     "output_type": "stream",
     "text": [
      "C:\\Users\\BDelamater\\Anaconda3\\lib\\site-packages\\ipykernel\\ipkernel.py:287: DeprecationWarning:\n",
      "\n",
      "`should_run_async` will not call `transform_cell` automatically in the future. Please pass the result to `transformed_cell` argument and any exception that happen during thetransform in `preprocessing_exc_tuple` in IPython 7.17 and above.\n",
      "\n"
     ]
    }
   ],
   "source": [
    "tokens = dfLDA['tokens'].tolist()\n",
    "bigram_model = Phrases(tokens)\n",
    "trigram_model = Phrases(bigram_model[tokens], min_count=1)\n",
    "tokens = list(trigram_model[bigram_model[tokens]])\n"
   ]
  },
  {
   "cell_type": "code",
   "execution_count": 235,
   "metadata": {},
   "outputs": [
    {
     "name": "stderr",
     "output_type": "stream",
     "text": [
      "C:\\Users\\BDelamater\\Anaconda3\\lib\\site-packages\\ipykernel\\ipkernel.py:287: DeprecationWarning:\n",
      "\n",
      "`should_run_async` will not call `transform_cell` automatically in the future. Please pass the result to `transformed_cell` argument and any exception that happen during thetransform in `preprocessing_exc_tuple` in IPython 7.17 and above.\n",
      "\n"
     ]
    },
    {
     "data": {
      "text/plain": [
       "(1086, 21)"
      ]
     },
     "execution_count": 235,
     "metadata": {},
     "output_type": "execute_result"
    }
   ],
   "source": [
    "dfLDA.shape"
   ]
  },
  {
   "cell_type": "code",
   "execution_count": 236,
   "metadata": {},
   "outputs": [
    {
     "name": "stderr",
     "output_type": "stream",
     "text": [
      "C:\\Users\\BDelamater\\Anaconda3\\lib\\site-packages\\ipykernel\\ipkernel.py:287: DeprecationWarning:\n",
      "\n",
      "`should_run_async` will not call `transform_cell` automatically in the future. Please pass the result to `transformed_cell` argument and any exception that happen during thetransform in `preprocessing_exc_tuple` in IPython 7.17 and above.\n",
      "\n"
     ]
    }
   ],
   "source": [
    "dictionary_LDA = corpora.Dictionary(tokens)\n",
    "dictionary_LDA.filter_extremes(no_below=3)\n",
    "corpus = [dictionary_LDA.doc2bow(tok) for tok in tokens]\n"
   ]
  },
  {
   "cell_type": "code",
   "execution_count": 237,
   "metadata": {},
   "outputs": [
    {
     "name": "stderr",
     "output_type": "stream",
     "text": [
      "C:\\Users\\BDelamater\\Anaconda3\\lib\\site-packages\\ipykernel\\ipkernel.py:287: DeprecationWarning:\n",
      "\n",
      "`should_run_async` will not call `transform_cell` automatically in the future. Please pass the result to `transformed_cell` argument and any exception that happen during thetransform in `preprocessing_exc_tuple` in IPython 7.17 and above.\n",
      "\n"
     ]
    },
    {
     "name": "stdout",
     "output_type": "stream",
     "text": [
      "Wall time: 5.86 s\n"
     ]
    }
   ],
   "source": [
    "np.random.seed(123456)\n",
    "num_topics = 3\n",
    "\n",
    "%time lda_model = models.LdaModel(corpus, num_topics=num_topics, id2word=dictionary_LDA, passes=10, alpha=[0.01]*num_topics, eta=[0.01]*len(dictionary_LDA.keys()))\n",
    "\n"
   ]
  },
  {
   "cell_type": "code",
   "execution_count": 238,
   "metadata": {},
   "outputs": [
    {
     "name": "stderr",
     "output_type": "stream",
     "text": [
      "C:\\Users\\BDelamater\\Anaconda3\\lib\\site-packages\\ipykernel\\ipkernel.py:287: DeprecationWarning:\n",
      "\n",
      "`should_run_async` will not call `transform_cell` automatically in the future. Please pass the result to `transformed_cell` argument and any exception that happen during thetransform in `preprocessing_exc_tuple` in IPython 7.17 and above.\n",
      "\n"
     ]
    }
   ],
   "source": [
    "lda_model.save('myLdaModel.model')"
   ]
  },
  {
   "cell_type": "code",
   "execution_count": 239,
   "metadata": {},
   "outputs": [
    {
     "name": "stdout",
     "output_type": "stream",
     "text": [
      "0: 0.016*\"create\" + 0.013*\"invoice\" + 0.012*\"line\" + 0.011*\"file\" + 0.010*\"import\" + 0.009*\"error\" + 0.008*\"customer\" + 0.008*\"folder\" + 0.007*\"work\" + 0.007*\"product\" + 0.007*\"anyone\" + 0.007*\"order\" + 0.007*\"sale_order\" + 0.006*\"find\" + 0.006*\"check\" + 0.006*\"set\" + 0.005*\"run\" + 0.005*\"call\" + 0.005*\"system\" + 0.005*\"help\"\n",
      "\n",
      "1: 0.017*\"error\" + 0.015*\"user\" + 0.010*\"create\" + 0.008*\"table\" + 0.007*\"issue\" + 0.007*\"work\" + 0.007*\"server\" + 0.006*\"find\" + 0.006*\"update\" + 0.005*\"set\" + 0.005*\"record\" + 0.005*\"different\" + 0.005*\"change\" + 0.005*\"problem\" + 0.005*\"data\" + 0.005*\"version\" + 0.005*\"patch\" + 0.005*\"process\" + 0.004*\"please\" + 0.004*\"report\"\n",
      "\n",
      "2: 0.017*\"field\" + 0.015*\"create\" + 0.013*\"product\" + 0.012*\"change\" + 0.010*\"screen\" + 0.009*\"customer\" + 0.009*\"value\" + 0.009*\"run\" + 0.009*\"table\" + 0.008*\"user\" + 0.008*\"function\" + 0.007*\"set\" + 0.007*\"report\" + 0.006*\"add\" + 0.006*\"new\" + 0.006*\"error\" + 0.006*\"code\" + 0.006*\"stock\" + 0.006*\"data\" + 0.006*\"possible\"\n",
      "\n"
     ]
    },
    {
     "name": "stderr",
     "output_type": "stream",
     "text": [
      "C:\\Users\\BDelamater\\Anaconda3\\lib\\site-packages\\ipykernel\\ipkernel.py:287: DeprecationWarning:\n",
      "\n",
      "`should_run_async` will not call `transform_cell` automatically in the future. Please pass the result to `transformed_cell` argument and any exception that happen during thetransform in `preprocessing_exc_tuple` in IPython 7.17 and above.\n",
      "\n"
     ]
    }
   ],
   "source": [
    "for i,topic in lda_model.show_topics(formatted=True, num_topics=num_topics, num_words=20):\n",
    "    print(str(i)+\": \"+ topic)\n",
    "    print()"
   ]
  },
  {
   "cell_type": "code",
   "execution_count": 240,
   "metadata": {},
   "outputs": [
    {
     "name": "stderr",
     "output_type": "stream",
     "text": [
      "C:\\Users\\BDelamater\\Anaconda3\\lib\\site-packages\\ipykernel\\ipkernel.py:287: DeprecationWarning:\n",
      "\n",
      "`should_run_async` will not call `transform_cell` automatically in the future. Please pass the result to `transformed_cell` argument and any exception that happen during thetransform in `preprocessing_exc_tuple` in IPython 7.17 and above.\n",
      "\n"
     ]
    },
    {
     "data": {
      "text/plain": [
       "[['\"create\" ',\n",
       "  '\"invoice\" ',\n",
       "  '\"line\" ',\n",
       "  '\"file\" ',\n",
       "  '\"import\" ',\n",
       "  '\"error\" ',\n",
       "  '\"customer\" ',\n",
       "  '\"folder\" ',\n",
       "  '\"work\" ',\n",
       "  '\"product\" ',\n",
       "  '\"anyone\" ',\n",
       "  '\"order\" ',\n",
       "  '\"sale_order\" ',\n",
       "  '\"find\" ',\n",
       "  '\"check\" ',\n",
       "  '\"set\" ',\n",
       "  '\"run\" ',\n",
       "  '\"call\" ',\n",
       "  '\"system\" ',\n",
       "  '\"help\"'],\n",
       " ['\"error\" ',\n",
       "  '\"user\" ',\n",
       "  '\"create\" ',\n",
       "  '\"table\" ',\n",
       "  '\"issue\" ',\n",
       "  '\"work\" ',\n",
       "  '\"server\" ',\n",
       "  '\"find\" ',\n",
       "  '\"update\" ',\n",
       "  '\"set\" ',\n",
       "  '\"record\" ',\n",
       "  '\"different\" ',\n",
       "  '\"change\" ',\n",
       "  '\"problem\" ',\n",
       "  '\"data\" ',\n",
       "  '\"version\" ',\n",
       "  '\"patch\" ',\n",
       "  '\"process\" ',\n",
       "  '\"please\" ',\n",
       "  '\"report\"']]"
      ]
     },
     "execution_count": 240,
     "metadata": {},
     "output_type": "execute_result"
    }
   ],
   "source": [
    "# for i,topic in lda_model.show_topics(formatted=True, num_topics=num_topics, num_words=20):\n",
    "#     print(str(i)+\": \"+ topic)\n",
    "#     print()\n",
    "\n",
    "model_topic_words =[]\n",
    "for i,topic in lda_model.show_topics(formatted=True, num_topics=num_topics, num_words=20):\n",
    "    t_words =[]\n",
    "    ts =topic.split(\"+\")\n",
    "    for t in range(0, len(ts)):\n",
    "        # print(ts[t].split('*'))\n",
    "        t_words.append(ts[t].split('*')[1])\n",
    "\n",
    "    model_topic_words.append(t_words)\n",
    "\n",
    "model_topic_words[:2]\n",
    "\n"
   ]
  },
  {
   "cell_type": "code",
   "execution_count": 241,
   "metadata": {},
   "outputs": [
    {
     "name": "stderr",
     "output_type": "stream",
     "text": [
      "C:\\Users\\BDelamater\\Anaconda3\\lib\\site-packages\\ipykernel\\ipkernel.py:287: DeprecationWarning:\n",
      "\n",
      "`should_run_async` will not call `transform_cell` automatically in the future. Please pass the result to `transformed_cell` argument and any exception that happen during thetransform in `preprocessing_exc_tuple` in IPython 7.17 and above.\n",
      "\n"
     ]
    },
    {
     "data": {
      "text/html": [
       "<div>\n",
       "<style scoped>\n",
       "    .dataframe tbody tr th:only-of-type {\n",
       "        vertical-align: middle;\n",
       "    }\n",
       "\n",
       "    .dataframe tbody tr th {\n",
       "        vertical-align: top;\n",
       "    }\n",
       "\n",
       "    .dataframe thead th {\n",
       "        text-align: right;\n",
       "    }\n",
       "</style>\n",
       "<table border=\"1\" class=\"dataframe\">\n",
       "  <thead>\n",
       "    <tr style=\"text-align: right;\">\n",
       "      <th></th>\n",
       "      <th>Forum ID</th>\n",
       "      <th>Forum Name</th>\n",
       "      <th>Subject</th>\n",
       "      <th>Post Date</th>\n",
       "      <th>User DisplayName</th>\n",
       "      <th>Forum_Post_Raw</th>\n",
       "      <th>compound</th>\n",
       "      <th>neg</th>\n",
       "      <th>neu</th>\n",
       "      <th>pos</th>\n",
       "      <th>...</th>\n",
       "      <th>PostDate</th>\n",
       "      <th>DayName</th>\n",
       "      <th>DayOfMonth</th>\n",
       "      <th>ShortText</th>\n",
       "      <th>sentences</th>\n",
       "      <th>token_sentences</th>\n",
       "      <th>tokens_sentences</th>\n",
       "      <th>POS_tokens</th>\n",
       "      <th>tokens_sentences_lemmatized</th>\n",
       "      <th>tokens</th>\n",
       "    </tr>\n",
       "  </thead>\n",
       "  <tbody>\n",
       "    <tr>\n",
       "      <th>0</th>\n",
       "      <td>40</td>\n",
       "      <td>Sage X3 General Discussion</td>\n",
       "      <td>ERP help urgently needed</td>\n",
       "      <td>2019-10-10T05:58:05.73</td>\n",
       "      <td>ChinusGomes</td>\n",
       "      <td>Company upgraded to windows 10. Used to run an...</td>\n",
       "      <td>0.0387</td>\n",
       "      <td>0.063</td>\n",
       "      <td>0.873</td>\n",
       "      <td>0.064</td>\n",
       "      <td>...</td>\n",
       "      <td>2019-10-10 05:58:05.730</td>\n",
       "      <td>Thursday</td>\n",
       "      <td>10</td>\n",
       "      <td>Company upgraded to windows 10. Used to run an...</td>\n",
       "      <td>[Company upgraded to windows 10., Used to run ...</td>\n",
       "      <td>[[Company, upgraded, to, windows, 10, .], [Use...</td>\n",
       "      <td>[[Company, upgraded, to, windows, 10, .], [Use...</td>\n",
       "      <td>[[(Company, NN), (upgraded, VBD), (to, TO), (w...</td>\n",
       "      <td>[[Company, upgrade, to, windows, 10, .], [Used...</td>\n",
       "      <td>[company, upgrade, windows, used, run, erp, pr...</td>\n",
       "    </tr>\n",
       "  </tbody>\n",
       "</table>\n",
       "<p>1 rows × 21 columns</p>\n",
       "</div>"
      ],
      "text/plain": [
       "   Forum ID                  Forum Name                   Subject  \\\n",
       "0        40  Sage X3 General Discussion  ERP help urgently needed   \n",
       "\n",
       "                Post Date User DisplayName  \\\n",
       "0  2019-10-10T05:58:05.73      ChinusGomes   \n",
       "\n",
       "                                      Forum_Post_Raw  compound    neg    neu  \\\n",
       "0  Company upgraded to windows 10. Used to run an...    0.0387  0.063  0.873   \n",
       "\n",
       "     pos  ...                PostDate   DayName DayOfMonth  \\\n",
       "0  0.064  ... 2019-10-10 05:58:05.730  Thursday         10   \n",
       "\n",
       "                                           ShortText  \\\n",
       "0  Company upgraded to windows 10. Used to run an...   \n",
       "\n",
       "                                           sentences  \\\n",
       "0  [Company upgraded to windows 10., Used to run ...   \n",
       "\n",
       "                                     token_sentences  \\\n",
       "0  [[Company, upgraded, to, windows, 10, .], [Use...   \n",
       "\n",
       "                                    tokens_sentences  \\\n",
       "0  [[Company, upgraded, to, windows, 10, .], [Use...   \n",
       "\n",
       "                                          POS_tokens  \\\n",
       "0  [[(Company, NN), (upgraded, VBD), (to, TO), (w...   \n",
       "\n",
       "                         tokens_sentences_lemmatized  \\\n",
       "0  [[Company, upgrade, to, windows, 10, .], [Used...   \n",
       "\n",
       "                                              tokens  \n",
       "0  [company, upgrade, windows, used, run, erp, pr...  \n",
       "\n",
       "[1 rows x 21 columns]"
      ]
     },
     "execution_count": 241,
     "metadata": {},
     "output_type": "execute_result"
    }
   ],
   "source": [
    "## Allocation topics to documents\n",
    "dfLDA.head(1)\n"
   ]
  },
  {
   "cell_type": "code",
   "execution_count": 242,
   "metadata": {},
   "outputs": [
    {
     "name": "stderr",
     "output_type": "stream",
     "text": [
      "C:\\Users\\BDelamater\\Anaconda3\\lib\\site-packages\\ipykernel\\ipkernel.py:287: DeprecationWarning:\n",
      "\n",
      "`should_run_async` will not call `transform_cell` automatically in the future. Please pass the result to `transformed_cell` argument and any exception that happen during thetransform in `preprocessing_exc_tuple` in IPython 7.17 and above.\n",
      "\n"
     ]
    },
    {
     "data": {
      "text/plain": [
       "(1086, 21)"
      ]
     },
     "execution_count": 242,
     "metadata": {},
     "output_type": "execute_result"
    }
   ],
   "source": [
    "dfLDA.shape"
   ]
  },
  {
   "cell_type": "code",
   "execution_count": 243,
   "metadata": {},
   "outputs": [
    {
     "name": "stderr",
     "output_type": "stream",
     "text": [
      "C:\\Users\\BDelamater\\Anaconda3\\lib\\site-packages\\ipykernel\\ipkernel.py:287: DeprecationWarning:\n",
      "\n",
      "`should_run_async` will not call `transform_cell` automatically in the future. Please pass the result to `transformed_cell` argument and any exception that happen during thetransform in `preprocessing_exc_tuple` in IPython 7.17 and above.\n",
      "\n"
     ]
    },
    {
     "data": {
      "text/plain": [
       "[(1, 0.9994448)]"
      ]
     },
     "execution_count": 243,
     "metadata": {},
     "output_type": "execute_result"
    }
   ],
   "source": [
    "lda_model[corpus[0]]"
   ]
  },
  {
   "cell_type": "markdown",
   "metadata": {},
   "source": [
    "## Predict based on input"
   ]
  },
  {
   "cell_type": "markdown",
   "metadata": {},
   "source": [
    "# Advanced exploration of LDA result\n",
    "## Allocation of topics in all documents"
   ]
  },
  {
   "cell_type": "code",
   "execution_count": 244,
   "metadata": {},
   "outputs": [
    {
     "name": "stderr",
     "output_type": "stream",
     "text": [
      "C:\\Users\\BDelamater\\Anaconda3\\lib\\site-packages\\ipykernel\\ipkernel.py:287: DeprecationWarning:\n",
      "\n",
      "`should_run_async` will not call `transform_cell` automatically in the future. Please pass the result to `transformed_cell` argument and any exception that happen during thetransform in `preprocessing_exc_tuple` in IPython 7.17 and above.\n",
      "\n"
     ]
    }
   ],
   "source": [
    "topics = [lda_model[corpus[i]] for i in range(len(dfLDA))]"
   ]
  },
  {
   "cell_type": "code",
   "execution_count": 245,
   "metadata": {},
   "outputs": [
    {
     "name": "stderr",
     "output_type": "stream",
     "text": [
      "C:\\Users\\BDelamater\\Anaconda3\\lib\\site-packages\\ipykernel\\ipkernel.py:287: DeprecationWarning:\n",
      "\n",
      "`should_run_async` will not call `transform_cell` automatically in the future. Please pass the result to `transformed_cell` argument and any exception that happen during thetransform in `preprocessing_exc_tuple` in IPython 7.17 and above.\n",
      "\n"
     ]
    }
   ],
   "source": [
    "\n",
    "def topics_document_to_dataframe(topics_document, num_topics):\n",
    "    res = pd.DataFrame(columns=range(num_topics))\n",
    "    for topic_weight in topics_document:\n",
    "        res.loc[0, topic_weight[0]] = topic_weight[1]\n",
    "    return res"
   ]
  },
  {
   "cell_type": "code",
   "execution_count": 246,
   "metadata": {},
   "outputs": [
    {
     "name": "stderr",
     "output_type": "stream",
     "text": [
      "C:\\Users\\BDelamater\\Anaconda3\\lib\\site-packages\\ipykernel\\ipkernel.py:287: DeprecationWarning:\n",
      "\n",
      "`should_run_async` will not call `transform_cell` automatically in the future. Please pass the result to `transformed_cell` argument and any exception that happen during thetransform in `preprocessing_exc_tuple` in IPython 7.17 and above.\n",
      "\n"
     ]
    },
    {
     "data": {
      "text/html": [
       "<div>\n",
       "<style scoped>\n",
       "    .dataframe tbody tr th:only-of-type {\n",
       "        vertical-align: middle;\n",
       "    }\n",
       "\n",
       "    .dataframe tbody tr th {\n",
       "        vertical-align: top;\n",
       "    }\n",
       "\n",
       "    .dataframe thead th {\n",
       "        text-align: right;\n",
       "    }\n",
       "</style>\n",
       "<table border=\"1\" class=\"dataframe\">\n",
       "  <thead>\n",
       "    <tr style=\"text-align: right;\">\n",
       "      <th></th>\n",
       "      <th>0</th>\n",
       "      <th>1</th>\n",
       "      <th>2</th>\n",
       "      <th>3</th>\n",
       "      <th>4</th>\n",
       "      <th>5</th>\n",
       "      <th>6</th>\n",
       "      <th>7</th>\n",
       "      <th>8</th>\n",
       "      <th>9</th>\n",
       "      <th>10</th>\n",
       "      <th>11</th>\n",
       "      <th>12</th>\n",
       "      <th>13</th>\n",
       "      <th>14</th>\n",
       "      <th>15</th>\n",
       "      <th>16</th>\n",
       "      <th>17</th>\n",
       "      <th>18</th>\n",
       "      <th>19</th>\n",
       "    </tr>\n",
       "  </thead>\n",
       "  <tbody>\n",
       "    <tr>\n",
       "      <th>0</th>\n",
       "      <td>NaN</td>\n",
       "      <td>NaN</td>\n",
       "      <td>NaN</td>\n",
       "      <td>NaN</td>\n",
       "      <td>NaN</td>\n",
       "      <td>NaN</td>\n",
       "      <td>NaN</td>\n",
       "      <td>NaN</td>\n",
       "      <td>NaN</td>\n",
       "      <td>0.038537</td>\n",
       "      <td>NaN</td>\n",
       "      <td>NaN</td>\n",
       "      <td>NaN</td>\n",
       "      <td>NaN</td>\n",
       "      <td>NaN</td>\n",
       "      <td>0.091301</td>\n",
       "      <td>NaN</td>\n",
       "      <td>NaN</td>\n",
       "      <td>0.869287</td>\n",
       "      <td>NaN</td>\n",
       "    </tr>\n",
       "  </tbody>\n",
       "</table>\n",
       "</div>"
      ],
      "text/plain": [
       "    0    1    2    3    4    5    6    7    8         9    10   11   12   13  \\\n",
       "0  NaN  NaN  NaN  NaN  NaN  NaN  NaN  NaN  NaN  0.038537  NaN  NaN  NaN  NaN   \n",
       "\n",
       "    14        15   16   17        18   19  \n",
       "0  NaN  0.091301  NaN  NaN  0.869287  NaN  "
      ]
     },
     "execution_count": 246,
     "metadata": {},
     "output_type": "execute_result"
    }
   ],
   "source": [
    "topics_document_to_dataframe([(9, 0.03853655432967504), (15, 0.09130117862212643), (18, 0.8692868808484044)], 20)\n"
   ]
  },
  {
   "cell_type": "code",
   "execution_count": 247,
   "metadata": {},
   "outputs": [
    {
     "name": "stderr",
     "output_type": "stream",
     "text": [
      "C:\\Users\\BDelamater\\Anaconda3\\lib\\site-packages\\ipykernel\\ipkernel.py:287: DeprecationWarning:\n",
      "\n",
      "`should_run_async` will not call `transform_cell` automatically in the future. Please pass the result to `transformed_cell` argument and any exception that happen during thetransform in `preprocessing_exc_tuple` in IPython 7.17 and above.\n",
      "\n"
     ]
    }
   ],
   "source": [
    "\n",
    "# Like TF-IDF, create a matrix of topic weighting, with documents as rows and topics as columns\n",
    "document_topic = \\\n",
    "pd.concat([topics_document_to_dataframe(topics_document, num_topics=num_topics) for topics_document in topics]) \\\n",
    "  .reset_index(drop=True).fillna(0)"
   ]
  },
  {
   "cell_type": "code",
   "execution_count": 248,
   "metadata": {},
   "outputs": [
    {
     "name": "stderr",
     "output_type": "stream",
     "text": [
      "C:\\Users\\BDelamater\\Anaconda3\\lib\\site-packages\\ipykernel\\ipkernel.py:287: DeprecationWarning:\n",
      "\n",
      "`should_run_async` will not call `transform_cell` automatically in the future. Please pass the result to `transformed_cell` argument and any exception that happen during thetransform in `preprocessing_exc_tuple` in IPython 7.17 and above.\n",
      "\n"
     ]
    },
    {
     "data": {
      "text/html": [
       "<div>\n",
       "<style scoped>\n",
       "    .dataframe tbody tr th:only-of-type {\n",
       "        vertical-align: middle;\n",
       "    }\n",
       "\n",
       "    .dataframe tbody tr th {\n",
       "        vertical-align: top;\n",
       "    }\n",
       "\n",
       "    .dataframe thead th {\n",
       "        text-align: right;\n",
       "    }\n",
       "</style>\n",
       "<table border=\"1\" class=\"dataframe\">\n",
       "  <thead>\n",
       "    <tr style=\"text-align: right;\">\n",
       "      <th></th>\n",
       "      <th>0</th>\n",
       "      <th>1</th>\n",
       "      <th>2</th>\n",
       "    </tr>\n",
       "  </thead>\n",
       "  <tbody>\n",
       "    <tr>\n",
       "      <th>0</th>\n",
       "      <td>0.000000</td>\n",
       "      <td>0.999445</td>\n",
       "      <td>0.000000</td>\n",
       "    </tr>\n",
       "    <tr>\n",
       "      <th>1</th>\n",
       "      <td>0.000000</td>\n",
       "      <td>0.796473</td>\n",
       "      <td>0.203224</td>\n",
       "    </tr>\n",
       "    <tr>\n",
       "      <th>2</th>\n",
       "      <td>0.998949</td>\n",
       "      <td>0.000000</td>\n",
       "      <td>0.000000</td>\n",
       "    </tr>\n",
       "    <tr>\n",
       "      <th>3</th>\n",
       "      <td>0.998949</td>\n",
       "      <td>0.000000</td>\n",
       "      <td>0.000000</td>\n",
       "    </tr>\n",
       "    <tr>\n",
       "      <th>4</th>\n",
       "      <td>0.000000</td>\n",
       "      <td>0.150335</td>\n",
       "      <td>0.849211</td>\n",
       "    </tr>\n",
       "    <tr>\n",
       "      <th>...</th>\n",
       "      <td>...</td>\n",
       "      <td>...</td>\n",
       "      <td>...</td>\n",
       "    </tr>\n",
       "    <tr>\n",
       "      <th>1081</th>\n",
       "      <td>0.000000</td>\n",
       "      <td>0.000000</td>\n",
       "      <td>0.999131</td>\n",
       "    </tr>\n",
       "    <tr>\n",
       "      <th>1082</th>\n",
       "      <td>0.998186</td>\n",
       "      <td>0.000000</td>\n",
       "      <td>0.000000</td>\n",
       "    </tr>\n",
       "    <tr>\n",
       "      <th>1083</th>\n",
       "      <td>0.996023</td>\n",
       "      <td>0.000000</td>\n",
       "      <td>0.000000</td>\n",
       "    </tr>\n",
       "    <tr>\n",
       "      <th>1084</th>\n",
       "      <td>0.333333</td>\n",
       "      <td>0.333333</td>\n",
       "      <td>0.333333</td>\n",
       "    </tr>\n",
       "    <tr>\n",
       "      <th>1085</th>\n",
       "      <td>0.358191</td>\n",
       "      <td>0.000000</td>\n",
       "      <td>0.640902</td>\n",
       "    </tr>\n",
       "  </tbody>\n",
       "</table>\n",
       "<p>1086 rows × 3 columns</p>\n",
       "</div>"
      ],
      "text/plain": [
       "             0         1         2\n",
       "0     0.000000  0.999445  0.000000\n",
       "1     0.000000  0.796473  0.203224\n",
       "2     0.998949  0.000000  0.000000\n",
       "3     0.998949  0.000000  0.000000\n",
       "4     0.000000  0.150335  0.849211\n",
       "...        ...       ...       ...\n",
       "1081  0.000000  0.000000  0.999131\n",
       "1082  0.998186  0.000000  0.000000\n",
       "1083  0.996023  0.000000  0.000000\n",
       "1084  0.333333  0.333333  0.333333\n",
       "1085  0.358191  0.000000  0.640902\n",
       "\n",
       "[1086 rows x 3 columns]"
      ]
     },
     "execution_count": 248,
     "metadata": {},
     "output_type": "execute_result"
    }
   ],
   "source": [
    "# Which document are about topic 14\n",
    "# document_topic.sort_values(num_topics-1, ascending=False)[num_topics-1].head(10)\n",
    "document_topic"
   ]
  },
  {
   "cell_type": "code",
   "execution_count": 249,
   "metadata": {},
   "outputs": [
    {
     "name": "stderr",
     "output_type": "stream",
     "text": [
      "C:\\Users\\BDelamater\\Anaconda3\\lib\\site-packages\\ipykernel\\ipkernel.py:287: DeprecationWarning:\n",
      "\n",
      "`should_run_async` will not call `transform_cell` automatically in the future. Please pass the result to `transformed_cell` argument and any exception that happen during thetransform in `preprocessing_exc_tuple` in IPython 7.17 and above.\n",
      "\n"
     ]
    },
    {
     "data": {
      "text/html": [
       "<div>\n",
       "<style scoped>\n",
       "    .dataframe tbody tr th:only-of-type {\n",
       "        vertical-align: middle;\n",
       "    }\n",
       "\n",
       "    .dataframe tbody tr th {\n",
       "        vertical-align: top;\n",
       "    }\n",
       "\n",
       "    .dataframe thead th {\n",
       "        text-align: right;\n",
       "    }\n",
       "</style>\n",
       "<table border=\"1\" class=\"dataframe\">\n",
       "  <thead>\n",
       "    <tr style=\"text-align: right;\">\n",
       "      <th></th>\n",
       "      <th>Forum ID</th>\n",
       "      <th>Forum Name</th>\n",
       "      <th>Subject</th>\n",
       "      <th>Post Date</th>\n",
       "      <th>User DisplayName</th>\n",
       "      <th>Forum_Post_Raw</th>\n",
       "      <th>compound</th>\n",
       "      <th>neg</th>\n",
       "      <th>neu</th>\n",
       "      <th>pos</th>\n",
       "      <th>...</th>\n",
       "      <th>PostDate</th>\n",
       "      <th>DayName</th>\n",
       "      <th>DayOfMonth</th>\n",
       "      <th>ShortText</th>\n",
       "      <th>sentences</th>\n",
       "      <th>token_sentences</th>\n",
       "      <th>tokens_sentences</th>\n",
       "      <th>POS_tokens</th>\n",
       "      <th>tokens_sentences_lemmatized</th>\n",
       "      <th>tokens</th>\n",
       "    </tr>\n",
       "  </thead>\n",
       "  <tbody>\n",
       "    <tr>\n",
       "      <th>0</th>\n",
       "      <td>40</td>\n",
       "      <td>Sage X3 General Discussion</td>\n",
       "      <td>ERP help urgently needed</td>\n",
       "      <td>2019-10-10T05:58:05.73</td>\n",
       "      <td>ChinusGomes</td>\n",
       "      <td>Company upgraded to windows 10. Used to run an...</td>\n",
       "      <td>0.0387</td>\n",
       "      <td>0.063</td>\n",
       "      <td>0.873</td>\n",
       "      <td>0.064</td>\n",
       "      <td>...</td>\n",
       "      <td>2019-10-10 05:58:05.730</td>\n",
       "      <td>Thursday</td>\n",
       "      <td>10</td>\n",
       "      <td>Company upgraded to windows 10. Used to run an...</td>\n",
       "      <td>[Company upgraded to windows 10., Used to run ...</td>\n",
       "      <td>[[Company, upgraded, to, windows, 10, .], [Use...</td>\n",
       "      <td>[[Company, upgraded, to, windows, 10, .], [Use...</td>\n",
       "      <td>[[(Company, NN), (upgraded, VBD), (to, TO), (w...</td>\n",
       "      <td>[[Company, upgrade, to, windows, 10, .], [Used...</td>\n",
       "      <td>[company, upgrade, windows, used, run, erp, pr...</td>\n",
       "    </tr>\n",
       "    <tr>\n",
       "      <th>31</th>\n",
       "      <td>40</td>\n",
       "      <td>Sage X3 General Discussion</td>\n",
       "      <td>Sage V11 patch 14 - release soon?</td>\n",
       "      <td>2019-10-10T12:44:35.957</td>\n",
       "      <td>AnikB</td>\n",
       "      <td>Hello!\\n\\nI see that Sage V11 patch 14 was com...</td>\n",
       "      <td>0.7044</td>\n",
       "      <td>0.022</td>\n",
       "      <td>0.915</td>\n",
       "      <td>0.063</td>\n",
       "      <td>...</td>\n",
       "      <td>2019-10-10 12:44:35.957</td>\n",
       "      <td>Thursday</td>\n",
       "      <td>10</td>\n",
       "      <td>Hello!\\n\\nI see that Sage V11 patch 14 was com...</td>\n",
       "      <td>[Hello!, I see that Sage V11 patch 14 was comp...</td>\n",
       "      <td>[[Hello, !], [I, see, that, Sage, V11, patch, ...</td>\n",
       "      <td>[[Hello, !], [I, see, that, Sage, V11, patch, ...</td>\n",
       "      <td>[[(Hello, NN), (!, .)], [(I, PRP), (see, VBP),...</td>\n",
       "      <td>[[Hello, !], [I, see, that, Sage, V11, patch, ...</td>\n",
       "      <td>[patch, complete, october, least, patch, finde...</td>\n",
       "    </tr>\n",
       "    <tr>\n",
       "      <th>62</th>\n",
       "      <td>673</td>\n",
       "      <td>Sage X3 Announcements, News, and Alerts</td>\n",
       "      <td>Sage X3 12.0.19 and Patch 19 Add-ons Updates h...</td>\n",
       "      <td>2019-10-10T14:56:52.947</td>\n",
       "      <td>Alecia</td>\n",
       "      <td>To access this download, log into https://supp...</td>\n",
       "      <td>0.9359</td>\n",
       "      <td>0.000</td>\n",
       "      <td>0.898</td>\n",
       "      <td>0.102</td>\n",
       "      <td>...</td>\n",
       "      <td>2019-10-10 14:56:52.947</td>\n",
       "      <td>Thursday</td>\n",
       "      <td>10</td>\n",
       "      <td>To access this download, log into https://supp...</td>\n",
       "      <td>[To access this download, log into https://sup...</td>\n",
       "      <td>[[To, access, this, download, ,, log, into, ht...</td>\n",
       "      <td>[[To, access, this, download, ,, log, into, ht...</td>\n",
       "      <td>[[(To, TO), (access, NN), (this, DT), (downloa...</td>\n",
       "      <td>[[To, access, this, download, ,, log, into, ht...</td>\n",
       "      <td>[access, download, log, http, search, field, t...</td>\n",
       "    </tr>\n",
       "    <tr>\n",
       "      <th>63</th>\n",
       "      <td>673</td>\n",
       "      <td>Sage X3 Announcements, News, and Alerts</td>\n",
       "      <td>Sage X3 Warehousing (GEODE) v12.0.19 has been ...</td>\n",
       "      <td>2019-10-10T20:56:53.483</td>\n",
       "      <td>pnightingale</td>\n",
       "      <td>To access this download, log into https://supp...</td>\n",
       "      <td>0.9359</td>\n",
       "      <td>0.000</td>\n",
       "      <td>0.898</td>\n",
       "      <td>0.102</td>\n",
       "      <td>...</td>\n",
       "      <td>2019-10-10 20:56:53.483</td>\n",
       "      <td>Thursday</td>\n",
       "      <td>10</td>\n",
       "      <td>To access this download, log into https://supp...</td>\n",
       "      <td>[To access this download, log into https://sup...</td>\n",
       "      <td>[[To, access, this, download, ,, log, into, ht...</td>\n",
       "      <td>[[To, access, this, download, ,, log, into, ht...</td>\n",
       "      <td>[[(To, TO), (access, NN), (this, DT), (downloa...</td>\n",
       "      <td>[[To, access, this, download, ,, log, into, ht...</td>\n",
       "      <td>[access, download, log, http, search, field, t...</td>\n",
       "    </tr>\n",
       "    <tr>\n",
       "      <th>64</th>\n",
       "      <td>40</td>\n",
       "      <td>Sage X3 General Discussion</td>\n",
       "      <td>Modifying Stock Change ST2 object</td>\n",
       "      <td>2019-10-11T13:10:28.983</td>\n",
       "      <td>ChrisCC</td>\n",
       "      <td>I am trying to remove some of the columns on t...</td>\n",
       "      <td>0.5980</td>\n",
       "      <td>0.046</td>\n",
       "      <td>0.865</td>\n",
       "      <td>0.090</td>\n",
       "      <td>...</td>\n",
       "      <td>2019-10-11 13:10:28.983</td>\n",
       "      <td>Friday</td>\n",
       "      <td>11</td>\n",
       "      <td>I am trying to remove some of the columns on t...</td>\n",
       "      <td>[I am trying to remove some of the columns on ...</td>\n",
       "      <td>[[I, am, trying, to, remove, some, of, the, co...</td>\n",
       "      <td>[[I, am, trying, to, remove, some, of, the, co...</td>\n",
       "      <td>[[(I, PRP), (am, VBP), (trying, VBG), (to, TO)...</td>\n",
       "      <td>[[I, be, try, to, remove, some, of, the, colum...</td>\n",
       "      <td>[remove, column, object, stock, selection, bro...</td>\n",
       "    </tr>\n",
       "  </tbody>\n",
       "</table>\n",
       "<p>5 rows × 21 columns</p>\n",
       "</div>"
      ],
      "text/plain": [
       "    Forum ID                               Forum Name  \\\n",
       "0         40               Sage X3 General Discussion   \n",
       "31        40               Sage X3 General Discussion   \n",
       "62       673  Sage X3 Announcements, News, and Alerts   \n",
       "63       673  Sage X3 Announcements, News, and Alerts   \n",
       "64        40               Sage X3 General Discussion   \n",
       "\n",
       "                                              Subject  \\\n",
       "0                            ERP help urgently needed   \n",
       "31                  Sage V11 patch 14 - release soon?   \n",
       "62  Sage X3 12.0.19 and Patch 19 Add-ons Updates h...   \n",
       "63  Sage X3 Warehousing (GEODE) v12.0.19 has been ...   \n",
       "64                  Modifying Stock Change ST2 object   \n",
       "\n",
       "                  Post Date User DisplayName  \\\n",
       "0    2019-10-10T05:58:05.73      ChinusGomes   \n",
       "31  2019-10-10T12:44:35.957            AnikB   \n",
       "62  2019-10-10T14:56:52.947           Alecia   \n",
       "63  2019-10-10T20:56:53.483     pnightingale   \n",
       "64  2019-10-11T13:10:28.983          ChrisCC   \n",
       "\n",
       "                                       Forum_Post_Raw  compound    neg    neu  \\\n",
       "0   Company upgraded to windows 10. Used to run an...    0.0387  0.063  0.873   \n",
       "31  Hello!\\n\\nI see that Sage V11 patch 14 was com...    0.7044  0.022  0.915   \n",
       "62  To access this download, log into https://supp...    0.9359  0.000  0.898   \n",
       "63  To access this download, log into https://supp...    0.9359  0.000  0.898   \n",
       "64  I am trying to remove some of the columns on t...    0.5980  0.046  0.865   \n",
       "\n",
       "      pos  ...                PostDate   DayName DayOfMonth  \\\n",
       "0   0.064  ... 2019-10-10 05:58:05.730  Thursday         10   \n",
       "31  0.063  ... 2019-10-10 12:44:35.957  Thursday         10   \n",
       "62  0.102  ... 2019-10-10 14:56:52.947  Thursday         10   \n",
       "63  0.102  ... 2019-10-10 20:56:53.483  Thursday         10   \n",
       "64  0.090  ... 2019-10-11 13:10:28.983    Friday         11   \n",
       "\n",
       "                                            ShortText  \\\n",
       "0   Company upgraded to windows 10. Used to run an...   \n",
       "31  Hello!\\n\\nI see that Sage V11 patch 14 was com...   \n",
       "62  To access this download, log into https://supp...   \n",
       "63  To access this download, log into https://supp...   \n",
       "64  I am trying to remove some of the columns on t...   \n",
       "\n",
       "                                            sentences  \\\n",
       "0   [Company upgraded to windows 10., Used to run ...   \n",
       "31  [Hello!, I see that Sage V11 patch 14 was comp...   \n",
       "62  [To access this download, log into https://sup...   \n",
       "63  [To access this download, log into https://sup...   \n",
       "64  [I am trying to remove some of the columns on ...   \n",
       "\n",
       "                                      token_sentences  \\\n",
       "0   [[Company, upgraded, to, windows, 10, .], [Use...   \n",
       "31  [[Hello, !], [I, see, that, Sage, V11, patch, ...   \n",
       "62  [[To, access, this, download, ,, log, into, ht...   \n",
       "63  [[To, access, this, download, ,, log, into, ht...   \n",
       "64  [[I, am, trying, to, remove, some, of, the, co...   \n",
       "\n",
       "                                     tokens_sentences  \\\n",
       "0   [[Company, upgraded, to, windows, 10, .], [Use...   \n",
       "31  [[Hello, !], [I, see, that, Sage, V11, patch, ...   \n",
       "62  [[To, access, this, download, ,, log, into, ht...   \n",
       "63  [[To, access, this, download, ,, log, into, ht...   \n",
       "64  [[I, am, trying, to, remove, some, of, the, co...   \n",
       "\n",
       "                                           POS_tokens  \\\n",
       "0   [[(Company, NN), (upgraded, VBD), (to, TO), (w...   \n",
       "31  [[(Hello, NN), (!, .)], [(I, PRP), (see, VBP),...   \n",
       "62  [[(To, TO), (access, NN), (this, DT), (downloa...   \n",
       "63  [[(To, TO), (access, NN), (this, DT), (downloa...   \n",
       "64  [[(I, PRP), (am, VBP), (trying, VBG), (to, TO)...   \n",
       "\n",
       "                          tokens_sentences_lemmatized  \\\n",
       "0   [[Company, upgrade, to, windows, 10, .], [Used...   \n",
       "31  [[Hello, !], [I, see, that, Sage, V11, patch, ...   \n",
       "62  [[To, access, this, download, ,, log, into, ht...   \n",
       "63  [[To, access, this, download, ,, log, into, ht...   \n",
       "64  [[I, be, try, to, remove, some, of, the, colum...   \n",
       "\n",
       "                                               tokens  \n",
       "0   [company, upgrade, windows, used, run, erp, pr...  \n",
       "31  [patch, complete, october, least, patch, finde...  \n",
       "62  [access, download, log, http, search, field, t...  \n",
       "63  [access, download, log, http, search, field, t...  \n",
       "64  [remove, column, object, stock, selection, bro...  \n",
       "\n",
       "[5 rows x 21 columns]"
      ]
     },
     "execution_count": 249,
     "metadata": {},
     "output_type": "execute_result"
    }
   ],
   "source": [
    "dfLDA.head(5)"
   ]
  },
  {
   "cell_type": "code",
   "execution_count": 250,
   "metadata": {},
   "outputs": [
    {
     "name": "stdout",
     "output_type": "stream",
     "text": [
      "Hello!\n",
      "\n",
      "I see that Sage V11 patch 14 was completed on October 1st. at least in the patch finder. It \n"
     ]
    },
    {
     "name": "stderr",
     "output_type": "stream",
     "text": [
      "C:\\Users\\BDelamater\\Anaconda3\\lib\\site-packages\\ipykernel\\ipkernel.py:287: DeprecationWarning:\n",
      "\n",
      "`should_run_async` will not call `transform_cell` automatically in the future. Please pass the result to `transformed_cell` argument and any exception that happen during thetransform in `preprocessing_exc_tuple` in IPython 7.17 and above.\n",
      "\n"
     ]
    }
   ],
   "source": [
    "print(dfLDA.Forum_Post_Raw.loc[31][:100])"
   ]
  },
  {
   "cell_type": "code",
   "execution_count": 251,
   "metadata": {},
   "outputs": [
    {
     "name": "stderr",
     "output_type": "stream",
     "text": [
      "C:\\Users\\BDelamater\\Anaconda3\\lib\\site-packages\\ipykernel\\ipkernel.py:287: DeprecationWarning:\n",
      "\n",
      "`should_run_async` will not call `transform_cell` automatically in the future. Please pass the result to `transformed_cell` argument and any exception that happen during thetransform in `preprocessing_exc_tuple` in IPython 7.17 and above.\n",
      "\n"
     ]
    },
    {
     "data": {
      "text/plain": [
       "<AxesSubplot:>"
      ]
     },
     "execution_count": 251,
     "metadata": {},
     "output_type": "execute_result"
    },
    {
     "data": {
      "image/png": "[encoded data removed]",
      "text/plain": [
       "<Figure size 720x1440 with 2 Axes>"
      ]
     },
     "metadata": {},
     "output_type": "display_data"
    }
   ],
   "source": [
    "%matplotlib inline\n",
    "import seaborn as sns; sns.set(rc={'figure.figsize':(10,20)})\n",
    "sns.heatmap(document_topic.loc[document_topic.idxmax(axis=1).sort_values().index])"
   ]
  },
  {
   "cell_type": "code",
   "execution_count": 252,
   "metadata": {},
   "outputs": [
    {
     "name": "stderr",
     "output_type": "stream",
     "text": [
      "C:\\Users\\BDelamater\\Anaconda3\\lib\\site-packages\\ipykernel\\ipkernel.py:287: DeprecationWarning:\n",
      "\n",
      "`should_run_async` will not call `transform_cell` automatically in the future. Please pass the result to `transformed_cell` argument and any exception that happen during thetransform in `preprocessing_exc_tuple` in IPython 7.17 and above.\n",
      "\n"
     ]
    },
    {
     "data": {
      "text/plain": [
       "<AxesSubplot:>"
      ]
     },
     "execution_count": 252,
     "metadata": {},
     "output_type": "execute_result"
    },
    {
     "data": {
      "image/png": "[encoded data removed]",
      "text/plain": [
       "<Figure size 720x360 with 1 Axes>"
      ]
     },
     "metadata": {},
     "output_type": "display_data"
    }
   ],
   "source": [
    "sns.set(rc={'figure.figsize':(10,5)})\n",
    "document_topic.idxmax(axis=1).value_counts().plot.bar(color='lightblue')"
   ]
  },
  {
   "cell_type": "markdown",
   "metadata": {},
   "source": [
    "# Visualize the data"
   ]
  },
  {
   "cell_type": "code",
   "execution_count": 253,
   "metadata": {},
   "outputs": [
    {
     "name": "stderr",
     "output_type": "stream",
     "text": [
      "C:\\Users\\BDelamater\\Anaconda3\\lib\\site-packages\\ipykernel\\ipkernel.py:287: DeprecationWarning:\n",
      "\n",
      "`should_run_async` will not call `transform_cell` automatically in the future. Please pass the result to `transformed_cell` argument and any exception that happen during thetransform in `preprocessing_exc_tuple` in IPython 7.17 and above.\n",
      "\n"
     ]
    },
    {
     "name": "stdout",
     "output_type": "stream",
     "text": [
      "Requirement already satisfied: pyLDAvis in c:\\users\\bdelamater\\anaconda3\\lib\\site-packages (3.2.2)\n",
      "Requirement already satisfied: wheel>=0.23.0 in c:\\users\\bdelamater\\anaconda3\\lib\\site-packages (from pyLDAvis) (0.36.2)\n",
      "Requirement already satisfied: funcy in c:\\users\\bdelamater\\anaconda3\\lib\\site-packages (from pyLDAvis) (1.16)\n",
      "Requirement already satisfied: jinja2>=2.7.2 in c:\\users\\bdelamater\\anaconda3\\lib\\site-packages (from pyLDAvis) (2.11.3)\n",
      "Requirement already satisfied: pandas>=0.17.0 in c:\\users\\bdelamater\\anaconda3\\lib\\site-packages (from pyLDAvis) (1.2.4)\n",
      "Requirement already satisfied: numexpr in c:\\users\\bdelamater\\anaconda3\\lib\\site-packages (from pyLDAvis) (2.7.3)\n",
      "Requirement already satisfied: joblib>=0.8.4 in c:\\users\\bdelamater\\anaconda3\\lib\\site-packages (from pyLDAvis) (1.0.1)\n",
      "Requirement already satisfied: future in c:\\users\\bdelamater\\anaconda3\\lib\\site-packages (from pyLDAvis) (0.18.2)\n",
      "Requirement already satisfied: numpy>=1.9.2 in c:\\users\\bdelamater\\anaconda3\\lib\\site-packages (from pyLDAvis) (1.20.1)\n",
      "Requirement already satisfied: scipy>=0.18.0 in c:\\users\\bdelamater\\anaconda3\\lib\\site-packages (from pyLDAvis) (1.6.2)\n",
      "Requirement already satisfied: MarkupSafe>=0.23 in c:\\users\\bdelamater\\anaconda3\\lib\\site-packages (from jinja2>=2.7.2->pyLDAvis) (1.1.1)\n",
      "Requirement already satisfied: pytz>=2017.3 in c:\\users\\bdelamater\\anaconda3\\lib\\site-packages (from pandas>=0.17.0->pyLDAvis) (2021.1)\n",
      "Requirement already satisfied: python-dateutil>=2.7.3 in c:\\users\\bdelamater\\anaconda3\\lib\\site-packages (from pandas>=0.17.0->pyLDAvis) (2.8.1)\n",
      "Requirement already satisfied: six>=1.5 in c:\\users\\bdelamater\\anaconda3\\lib\\site-packages (from python-dateutil>=2.7.3->pandas>=0.17.0->pyLDAvis) (1.15.0)\n"
     ]
    }
   ],
   "source": [
    "! pip install pyLDAvis"
   ]
  },
  {
   "cell_type": "code",
   "execution_count": 254,
   "metadata": {},
   "outputs": [
    {
     "name": "stderr",
     "output_type": "stream",
     "text": [
      "C:\\Users\\BDelamater\\Anaconda3\\lib\\site-packages\\ipykernel\\ipkernel.py:287: DeprecationWarning:\n",
      "\n",
      "`should_run_async` will not call `transform_cell` automatically in the future. Please pass the result to `transformed_cell` argument and any exception that happen during thetransform in `preprocessing_exc_tuple` in IPython 7.17 and above.\n",
      "\n"
     ]
    }
   ],
   "source": [
    "# import scipy\n",
    "# scipy.test()"
   ]
  },
  {
   "cell_type": "code",
   "execution_count": 255,
   "metadata": {},
   "outputs": [
    {
     "name": "stderr",
     "output_type": "stream",
     "text": [
      "C:\\Users\\BDelamater\\Anaconda3\\lib\\site-packages\\ipykernel\\ipkernel.py:287: DeprecationWarning:\n",
      "\n",
      "`should_run_async` will not call `transform_cell` automatically in the future. Please pass the result to `transformed_cell` argument and any exception that happen during thetransform in `preprocessing_exc_tuple` in IPython 7.17 and above.\n",
      "\n"
     ]
    },
    {
     "data": {
      "text/plain": [
       "(1086, 21)"
      ]
     },
     "execution_count": 255,
     "metadata": {},
     "output_type": "execute_result"
    }
   ],
   "source": [
    "dfLDA.shape"
   ]
  },
  {
   "cell_type": "code",
   "execution_count": 256,
   "metadata": {},
   "outputs": [
    {
     "name": "stderr",
     "output_type": "stream",
     "text": [
      "C:\\Users\\BDelamater\\Anaconda3\\lib\\site-packages\\ipykernel\\ipkernel.py:287: DeprecationWarning:\n",
      "\n",
      "`should_run_async` will not call `transform_cell` automatically in the future. Please pass the result to `transformed_cell` argument and any exception that happen during thetransform in `preprocessing_exc_tuple` in IPython 7.17 and above.\n",
      "\n"
     ]
    },
    {
     "data": {
      "text/html": [
       "\n",
       "<link rel=\"stylesheet\" type=\"text/css\" href=\"https://cdn.jsdelivr.net/gh/bmabey/pyLDAvis@3.2.2/pyLDAvis/js/ldavis.v1.0.0.css\">\n",
       "\n",
       "\n",
       "<div id=\"ldavis_el242002108974695360182517963\"></div>\n",
       "<script type=\"text/javascript\">\n",
       "\n",
       "var ldavis_el242002108974695360182517963_data = {\"mdsDat\": {\"x\": [-0.027597924188863796, -0.09403846191885251, 0.12163638610771631], \"y\": [-0.10963347880221096, 0.07585991943041583, 0.033773559371795055], \"topics\": [1, 2, 3], \"cluster\": [1, 1, 1], \"Freq\": [36.9260272318171, 33.42325308490963, 29.650719683273262]}, \"tinfo\": {\"Term\": [\"invoice\", \"import\", \"folder\", \"field\", \"line\", \"file\", \"server\", \"important_product_integrate_isvs\", \"partner_ensure_component_compatible\", \"product_fully_compatible_release\", \"https_enter_log_credential\", \"portal_access_download_portal\", \"upper_right_corner_type\", \"highly_recommended_work_certified\", \"search_complete_list_available\", \"integrate_product_check_business\", \"downloads_patch_update_download\", \"check_vendor_product_ensure\", \"search_field_click_search\", \"supplier\", \"site\", \"error\", \"cost\", \"delivery\", \"customer_additional_resource_include\", \"link_support_option_online\", \"patch_help_visit_city\", \"case_submission_knowledgebase_university\", \"sale_order\", \"partner_professional_services_install\", \"unit_measure\", \"drive\", \"label\", \"printer\", \"udm_finance\", \"whole\", \"label_printer\", \"legislation\", \"depreciation\", \"week\", \"accounting_code\", \"report_parameter\", \"std\", \"expression\", \"lines\", \"credit_memo\", \"endifreturn\", \"expense\", \"add_custom\", \"routings\", \"new_functionality\", \"easily\", \"modifier\", \"using\", \"description_field\", \"kindly_advise\", \"describe\", \"must\", \"ago\", \"june\", \"policy\", \"vat\", \"choose\", \"pi\", \"left_list\", \"none\", \"export_data\", \"subcontract\", \"ideal\", \"hide\", \"screen_window\", \"memory\", \"factor\", \"cost\", \"bom\", \"location\", \"quantity\", \"dimension\", \"action\", \"rate\", \"guys\", \"formula\", \"display\", \"field\", \"site\", \"value\", \"allocation\", \"format\", \"mrp\", \"load\", \"text\", \"product\", \"object\", \"change\", \"screen\", \"column\", \"selection\", \"tab\", \"function\", \"run\", \"stock\", \"create\", \"manage\", \"customer\", \"add\", \"table\", \"lot\", \"code\", \"report\", \"set\", \"data\", \"transaction\", \"possible\", \"new\", \"example\", \"user\", \"number\", \"issue\", \"update\", \"error\", \"order\", \"work\", \"find\", \"help\", \"online_case_submission_knowledgebase\", \"type_search_field_click\", \"city_customer_additional_resource\", \"available_downloads_patch_update\", \"portal_https_enter_log\", \"download_portal_access_download\", \"include_link_support_option\", \"credential_upper_right_corner\", \"budget\", \"sequence_number\", \"fully_compatible_release_integrate\", \"vendor_product_ensure_product\", \"product_integrate_isvs_check\", \"product_check_business_partner\", \"type_click_complete_list\", \"log_http_search_field\", \"detail_access_download\", \"review_hotfix\", \"ensure_component_highly_recommended\", \"services_install_help_visit\", \"work_certified_partner_professional\", \"atextra\", \"newbie\", \"database_server\", \"facet\", \"que\", \"post_journal\", \"body\", \"authentication\", \"work_center\", \"vm\", \"related\", \"except\", \"audit\", \"network\", \"period\", \"web_server\", \"search_note\", \"contact\", \"good_day\", \"online\", \"approve\", \"endpoint\", \"installation\", \"resource\", \"unable\", \"university\", \"server\", \"production_tracking\", \"address\", \"delete\", \"email\", \"error\", \"et\", \"user\", \"web_service\", \"pdf\", \"please\", \"patch\", \"task\", \"issue\", \"instal\", \"http\", \"log\", \"different\", \"record\", \"client\", \"table\", \"database\", \"key\", \"problem\", \"work\", \"update\", \"create\", \"version\", \"find\", \"first\", \"data\", \"company\", \"set\", \"look\", \"process\", \"system\", \"report\", \"change\", \"help\", \"file\", \"new\", \"run\", \"number\", \"anyone\", \"partner_professional_services_install\", \"important_product_integrate_isvs\", \"partner_ensure_component_compatible\", \"product_fully_compatible_release\", \"https_enter_log_credential\", \"portal_access_download_portal\", \"upper_right_corner_type\", \"highly_recommended_work_certified\", \"search_complete_list_available\", \"integrate_product_check_business\", \"downloads_patch_update_download\", \"check_vendor_product_ensure\", \"search_field_click_search\", \"patch_help_visit_city\", \"customer_additional_resource_include\", \"case_submission_knowledgebase_university\", \"link_support_option_online\", \"shortcut\", \"importsil\", \"null\", \"discount\", \"major\", \"anyone_tell\", \"cant\", \"cash\", \"credit_invoice\", \"bank_reconciliation\", \"interface\", \"credit_card\", \"matteos\", \"template\", \"directory\", \"processing\", \"soh\", \"open_order\", \"runtime\", \"test_folder\", \"bulk\", \"believe\", \"eclipse\", \"export\", \"supplier\", \"import\", \"invoice\", \"setting\", \"pay\", \"folder\", \"qty\", \"search_field_type_click\", \"delivery\", \"line\", \"file\", \"sale_order\", \"access_download_log_http\", \"check\", \"create\", \"post\", \"customer\", \"order\", \"anyone\", \"work\", \"error\", \"find\", \"product\", \"call\", \"set\", \"system\", \"help\", \"run\", \"process\", \"new\", \"able\", \"version\", \"change\", \"field\", \"show\", \"update\"], \"Freq\": [118.0, 90.0, 76.0, 193.0, 134.0, 119.0, 61.0, 24.0, 24.0, 24.0, 24.0, 24.0, 24.0, 24.0, 24.0, 24.0, 24.0, 24.0, 24.0, 36.0, 54.0, 237.0, 35.0, 41.0, 19.0, 19.0, 19.0, 19.0, 65.0, 18.0, 6.070013389289505, 8.083547406695669, 14.122873896728139, 7.0753165521505545, 5.060577996013418, 6.064306726176248, 7.072267786925664, 7.07214957338974, 10.085574671048542, 12.096473670605551, 7.067631718980498, 6.061539194766662, 7.066823767595853, 4.050244084530808, 5.05488849292957, 4.04762050670126, 4.046964135576388, 5.051222443313461, 4.045272919344695, 5.049391086841599, 3.0395991475151725, 3.0364147703912074, 3.0314693452492065, 7.05293510712718, 4.04297728874384, 3.0390495499066206, 3.038578364099115, 20.090464790488774, 3.0374331704698467, 4.040139687214169, 9.047344271757694, 10.035597038731577, 9.036954827285882, 9.015156823262393, 9.010158488029717, 5.039182299346058, 5.033021848788447, 6.017901716648613, 6.010682110942517, 5.03161758638186, 5.031123758868886, 7.9449725425431925, 6.974911313412138, 32.69381426976422, 17.123024758304584, 33.70004788755319, 37.6756835008887, 23.57006878040554, 34.209609240825486, 11.42232761527249, 13.986598476516386, 23.90891834778332, 39.47665909401806, 139.42984545772026, 43.67344172634929, 73.00936618812051, 16.794574168748287, 16.827961865967207, 16.722727032285295, 19.599085441709626, 18.7569322117838, 107.37115056973958, 28.514090613334858, 97.72587174659135, 80.9771110430236, 25.035012864319953, 16.823437338213196, 18.01331949740068, 61.82863462688872, 71.9044509612137, 47.823438491833514, 125.80702435130223, 23.79949646692576, 75.20642958005429, 53.03242261884796, 70.36247359861508, 31.493228065565766, 49.26530424286358, 54.635104538813714, 61.099177030097586, 46.839981953079274, 36.34612442232674, 45.52160740035171, 50.43481363380344, 40.267904236698996, 68.73669427906565, 40.26340068231426, 41.94636484653219, 40.93605095508389, 50.372072752946494, 39.83259623734673, 41.78701300010603, 40.5735853739003, 39.30698453656778, 9.089979954012481, 9.089977365305414, 9.089909196019322, 9.089893663776921, 9.089834123514384, 9.08932932563636, 9.088838334196026, 9.088833156781892, 13.10491619539974, 9.079539698412114, 8.073684624075241, 8.073450777536875, 8.073045213429744, 8.071978666118227, 5.055189623776469, 5.0551874665205805, 5.055185740715869, 5.055185740715869, 5.055185309264691, 5.055184446362336, 5.055180994752913, 5.0546524670601105, 5.054513539780859, 5.0532709603888, 5.053098811368858, 9.069939046803743, 6.0545457490221635, 4.0459493834985905, 4.045948952047413, 5.049746004266186, 9.051448775128012, 7.0531809193497566, 6.048919194212494, 6.049282907555378, 6.036094739403612, 10.889980461349946, 7.012995988100786, 6.032101658753088, 12.617109727659606, 7.927231973380978, 6.965603664926692, 8.804906354403352, 15.946633998972684, 24.424458078389385, 14.93638761454818, 14.013164932685624, 13.918941172868575, 49.84839869721956, 8.751226061764024, 25.184925295353384, 29.562844864231906, 26.005296919647634, 128.12382459765533, 11.07012513451849, 108.23823981292455, 26.08317903465439, 16.64912453246884, 33.23517090274355, 33.77843696778025, 20.203205335388326, 54.96178892762515, 17.700248327282683, 20.653812945481032, 23.283987647872326, 37.36641257522758, 38.830405808514456, 28.595419146301545, 61.38928970375985, 24.002831906811753, 11.629554223577879, 35.416487961019286, 54.00340124896731, 41.72991994896292, 71.85167012052437, 34.897472903784276, 42.04784769285905, 23.435214737300107, 35.35201880022793, 30.242414985358696, 40.293843332684325, 31.05405748942373, 33.753350670498335, 30.557947312315687, 32.316676925789665, 35.98119542378786, 30.532388144542907, 31.116562684453747, 28.755515146140148, 28.77124240447326, 27.257501124581513, 27.32164238247774, 18.45327425862771, 24.265304008141076, 24.26523511266817, 24.265209085489513, 24.265117224858972, 24.2651049767749, 24.26497330987112, 24.264935034608392, 24.264743658294762, 24.26466404574829, 24.264506351665858, 24.26432416141528, 24.26391078857784, 19.415454654156648, 19.41546537123021, 19.415425564956973, 19.4154638402197, 6.804154414083579, 5.82741487411882, 5.8252320358855405, 9.690687945617835, 4.859114264079953, 3.8916028899585022, 5.821080700890247, 4.85584670490101, 4.855645759771697, 4.855404625616522, 5.820777943562082, 4.85401217155854, 3.8887199971699586, 18.314945928124413, 6.782705722357023, 6.778343107911481, 5.816179936250774, 6.752544049823457, 5.804152317691666, 7.677303486490158, 8.582037305698465, 6.733571002090038, 6.720581908931246, 16.12814850166801, 30.775022901681695, 67.43023460972921, 85.19511295811961, 16.984392156033646, 20.61260994958326, 55.02503823887938, 18.250462827504187, 24.262067451924942, 31.420714335790038, 81.65226277954419, 71.1421940850924, 43.64146680859343, 22.3345481861869, 38.30210440252898, 103.1990616595194, 32.71421918457227, 55.130341141691936, 43.95868912404785, 44.53467977372112, 47.71861515865963, 59.42488686000139, 41.9401497525362, 47.667283438312154, 33.70685597215776, 37.49571810539061, 33.01635798449152, 32.87712788879839, 34.31398431356412, 30.774208404090878, 30.689387359868416, 28.67017128171176, 28.93092686757135, 31.6908182718179, 29.129841876949342, 26.608037916965376, 27.336354926226203], \"Total\": [118.0, 90.0, 76.0, 193.0, 134.0, 119.0, 61.0, 24.0, 24.0, 24.0, 24.0, 24.0, 24.0, 24.0, 24.0, 24.0, 24.0, 24.0, 24.0, 36.0, 54.0, 237.0, 35.0, 41.0, 19.0, 19.0, 19.0, 19.0, 65.0, 18.0, 6.089813152859033, 8.111021493486067, 14.17274041661325, 7.100454361149587, 5.080377759582946, 6.088489177673829, 7.100656136698343, 7.100537854386556, 10.131866344220498, 12.15203345439059, 7.100657095515288, 6.090677225270283, 7.100801230099136, 4.070043848100337, 5.080146545194004, 4.069737274599745, 4.069910783598095, 5.080331241774696, 4.0699289931288805, 5.08022673551899, 3.0593989110847004, 3.0562145339607354, 3.0512691088187345, 7.099641191311022, 4.0700193378524965, 3.0595743924607812, 3.0596366085887547, 20.231343634106473, 3.058769834495377, 4.069377047553984, 9.120044935531997, 10.128881716424218, 9.121066549820213, 9.119909903746581, 9.121116662810042, 5.079377088064728, 5.079454479587601, 6.089091106749974, 6.088195742087533, 5.078452049450137, 5.079481046610502, 8.105069608653231, 7.096634725538817, 35.372341118563526, 18.209337872718443, 37.35934964111735, 43.31751148872699, 26.2086942409231, 39.40921114939686, 12.148135677287298, 15.179349899875788, 27.283423136655227, 47.36086616508296, 193.80252545871653, 54.565470794534335, 100.55090254299856, 19.131135161698534, 19.177590308471633, 19.14739283225882, 23.215487685686288, 22.119714980860294, 177.8953799091627, 37.34280524206998, 165.39788544219712, 132.25992126853612, 32.20206788495828, 20.103094633579683, 22.13331913329342, 110.11507836293336, 134.9896776792511, 81.17779367398107, 300.85775613134604, 32.10955312719668, 153.34377016508137, 97.06468037219514, 154.61655860624566, 48.25213840760502, 93.9816878940542, 110.17991618248219, 138.8887384681725, 94.45840030443797, 63.06955854733938, 91.90165652766723, 109.879716139812, 75.75900370629068, 202.9346013064564, 78.3602877998235, 114.42901660559411, 110.00232583027302, 237.9207842106032, 102.27819171793834, 143.50902940773295, 124.56158281929555, 102.71650056990907, 9.11189142356758, 9.111890201555562, 9.111897180015445, 9.111894914397341, 9.111890213239203, 9.11187799162201, 9.11188357504962, 9.111885223662808, 13.148560299432706, 9.111249952116015, 8.102675913803907, 8.102678136836776, 8.10267557088123, 8.10267094562398, 5.075000311736513, 5.074998154480625, 5.074996428675913, 5.074996428675913, 5.074995997224735, 5.07499513432238, 5.074991682712957, 5.074463155020155, 5.074324227740903, 5.074997468995407, 5.07499480322976, 9.111835354066741, 6.083717807446042, 4.065760071458635, 4.065759640007457, 5.074529339180998, 9.111023767025808, 7.0919438204422, 6.082981569854804, 6.0842241507361186, 6.083465537744058, 11.12931223150669, 7.090988675820084, 6.084091663000486, 13.129061059088205, 8.096370927914212, 7.0910603142143245, 9.111596188012932, 17.139935520674555, 27.245190700533207, 16.12986181111859, 15.163050979308382, 15.12663459001876, 61.48311536632625, 9.111335107013472, 29.147707065793306, 37.23445294259736, 33.05356118189159, 237.9207842106032, 12.138002108030218, 202.9346013064564, 35.05044604847313, 20.12398594592517, 48.42688542665017, 53.13553210048682, 27.187982341171676, 114.42901660559411, 23.244198210718068, 29.206290566482295, 35.31444202635816, 71.4356425997286, 77.11020951308939, 49.353128793073985, 154.61655860624566, 38.29525194877267, 13.144899869315996, 71.9917921193782, 143.50902940773295, 110.00232583027302, 300.85775613134604, 82.66650464225091, 124.56158281929555, 41.07275264116959, 94.45840030443797, 73.38326798702975, 138.8887384681725, 79.91346519563082, 103.80908956753456, 84.52539132220511, 110.17991618248219, 165.39788544219712, 102.71650056990907, 119.34266619414927, 109.879716139812, 134.9896776792511, 78.3602877998235, 105.27601710995754, 18.473469490441474, 24.298523397671573, 24.29853793575553, 24.298548553275932, 24.29853473980396, 24.29855094053192, 24.298532888543175, 24.298543409397443, 24.298555878597117, 24.29855033239795, 24.298548125904432, 24.298573419851117, 24.298576218752498, 19.444578698995347, 19.44458959471666, 19.44454973788274, 19.44458867886115, 6.824349645897341, 5.853781406523987, 5.852524451694558, 9.737343134207679, 4.8826958511784, 3.911798121772265, 5.85369772998824, 4.883066904003427, 4.883035824672087, 4.883007211121881, 5.853905721592062, 4.883137256261992, 3.9121417295967706, 18.478694802716763, 6.824571060375772, 6.824798693424237, 5.853896750776244, 6.826164122901214, 5.8538515245055285, 7.797910306411886, 8.770940825242775, 6.826332594522286, 6.82718430969124, 17.5557976297492, 36.15530670030373, 90.21046533978142, 118.79350166333776, 19.54220162115733, 24.442869911325502, 76.5689040674926, 21.510920528844615, 30.352828623793528, 41.17886380873508, 134.08228264173957, 119.34266619414927, 65.93173523039749, 28.410794211096245, 64.11535511982285, 300.85775613134604, 56.26715887210132, 153.34377016508137, 102.27819171793834, 105.27601710995754, 143.50902940773295, 237.9207842106032, 124.56158281929555, 177.8953799091627, 79.45973070229377, 138.8887384681725, 84.52539132220511, 102.71650056990907, 134.9896776792511, 103.80908956753456, 109.879716139812, 76.63329339731843, 82.66650464225091, 165.39788544219712, 193.80252545871653, 76.71345248867794, 110.00232583027302], \"Category\": [\"Default\", \"Default\", \"Default\", \"Default\", \"Default\", \"Default\", \"Default\", \"Default\", \"Default\", \"Default\", \"Default\", \"Default\", \"Default\", \"Default\", \"Default\", \"Default\", \"Default\", \"Default\", \"Default\", \"Default\", \"Default\", \"Default\", \"Default\", \"Default\", \"Default\", \"Default\", \"Default\", \"Default\", \"Default\", \"Default\", \"Topic1\", \"Topic1\", \"Topic1\", \"Topic1\", \"Topic1\", \"Topic1\", \"Topic1\", \"Topic1\", \"Topic1\", \"Topic1\", \"Topic1\", \"Topic1\", \"Topic1\", \"Topic1\", \"Topic1\", \"Topic1\", \"Topic1\", \"Topic1\", \"Topic1\", \"Topic1\", \"Topic1\", \"Topic1\", \"Topic1\", \"Topic1\", \"Topic1\", \"Topic1\", \"Topic1\", \"Topic1\", \"Topic1\", \"Topic1\", \"Topic1\", \"Topic1\", \"Topic1\", \"Topic1\", \"Topic1\", \"Topic1\", \"Topic1\", \"Topic1\", \"Topic1\", \"Topic1\", \"Topic1\", \"Topic1\", \"Topic1\", \"Topic1\", \"Topic1\", \"Topic1\", \"Topic1\", \"Topic1\", \"Topic1\", \"Topic1\", \"Topic1\", \"Topic1\", \"Topic1\", \"Topic1\", \"Topic1\", \"Topic1\", \"Topic1\", \"Topic1\", \"Topic1\", \"Topic1\", \"Topic1\", \"Topic1\", \"Topic1\", \"Topic1\", \"Topic1\", \"Topic1\", \"Topic1\", \"Topic1\", \"Topic1\", \"Topic1\", \"Topic1\", \"Topic1\", \"Topic1\", \"Topic1\", \"Topic1\", \"Topic1\", \"Topic1\", \"Topic1\", \"Topic1\", \"Topic1\", \"Topic1\", \"Topic1\", \"Topic1\", \"Topic1\", \"Topic1\", \"Topic1\", \"Topic1\", \"Topic1\", \"Topic1\", \"Topic1\", \"Topic1\", \"Topic1\", \"Topic1\", \"Topic1\", \"Topic2\", \"Topic2\", \"Topic2\", \"Topic2\", \"Topic2\", \"Topic2\", \"Topic2\", \"Topic2\", \"Topic2\", \"Topic2\", \"Topic2\", \"Topic2\", \"Topic2\", \"Topic2\", \"Topic2\", \"Topic2\", \"Topic2\", \"Topic2\", \"Topic2\", \"Topic2\", \"Topic2\", \"Topic2\", \"Topic2\", \"Topic2\", \"Topic2\", \"Topic2\", \"Topic2\", \"Topic2\", \"Topic2\", \"Topic2\", \"Topic2\", \"Topic2\", \"Topic2\", \"Topic2\", \"Topic2\", \"Topic2\", \"Topic2\", \"Topic2\", \"Topic2\", \"Topic2\", \"Topic2\", \"Topic2\", \"Topic2\", \"Topic2\", \"Topic2\", \"Topic2\", \"Topic2\", \"Topic2\", \"Topic2\", \"Topic2\", \"Topic2\", \"Topic2\", \"Topic2\", \"Topic2\", \"Topic2\", \"Topic2\", \"Topic2\", \"Topic2\", \"Topic2\", \"Topic2\", \"Topic2\", \"Topic2\", \"Topic2\", \"Topic2\", \"Topic2\", \"Topic2\", \"Topic2\", \"Topic2\", \"Topic2\", \"Topic2\", \"Topic2\", \"Topic2\", \"Topic2\", \"Topic2\", \"Topic2\", \"Topic2\", \"Topic2\", \"Topic2\", \"Topic2\", \"Topic2\", \"Topic2\", \"Topic2\", \"Topic2\", \"Topic2\", \"Topic2\", \"Topic2\", \"Topic2\", \"Topic2\", \"Topic2\", \"Topic2\", \"Topic2\", \"Topic3\", \"Topic3\", \"Topic3\", \"Topic3\", \"Topic3\", \"Topic3\", \"Topic3\", \"Topic3\", \"Topic3\", \"Topic3\", \"Topic3\", \"Topic3\", \"Topic3\", \"Topic3\", \"Topic3\", \"Topic3\", \"Topic3\", \"Topic3\", \"Topic3\", \"Topic3\", \"Topic3\", \"Topic3\", \"Topic3\", \"Topic3\", \"Topic3\", \"Topic3\", \"Topic3\", \"Topic3\", \"Topic3\", \"Topic3\", \"Topic3\", \"Topic3\", \"Topic3\", \"Topic3\", \"Topic3\", \"Topic3\", \"Topic3\", \"Topic3\", \"Topic3\", \"Topic3\", \"Topic3\", \"Topic3\", \"Topic3\", \"Topic3\", \"Topic3\", \"Topic3\", \"Topic3\", \"Topic3\", \"Topic3\", \"Topic3\", \"Topic3\", \"Topic3\", \"Topic3\", \"Topic3\", \"Topic3\", \"Topic3\", \"Topic3\", \"Topic3\", \"Topic3\", \"Topic3\", \"Topic3\", \"Topic3\", \"Topic3\", \"Topic3\", \"Topic3\", \"Topic3\", \"Topic3\", \"Topic3\", \"Topic3\", \"Topic3\", \"Topic3\", \"Topic3\", \"Topic3\", \"Topic3\", \"Topic3\", \"Topic3\", \"Topic3\"], \"logprob\": [30.0, 29.0, 28.0, 27.0, 26.0, 25.0, 24.0, 23.0, 22.0, 21.0, 20.0, 19.0, 18.0, 17.0, 16.0, 15.0, 14.0, 13.0, 12.0, 11.0, 10.0, 9.0, 8.0, 7.0, 6.0, 5.0, 4.0, 3.0, 2.0, 1.0, -7.2072, -6.9207, -6.3628, -7.0539, -7.3891, -7.2081, -7.0544, -7.0544, -6.6995, -6.5176, -7.055, -7.2086, -7.0551, -7.6118, -7.3902, -7.6124, -7.6126, -7.3909, -7.613, -7.3913, -7.8988, -7.8999, -7.9015, -7.0571, -7.6136, -7.899, -7.8992, -6.0103, -7.8995, -7.6143, -6.8081, -6.7044, -6.8092, -6.8117, -6.8122, -7.3933, -7.3945, -7.2158, -7.217, -7.3948, -7.3949, -6.938, -7.0682, -5.5234, -6.1701, -5.4931, -5.3815, -5.8506, -5.4781, -6.575, -6.3725, -5.8363, -5.3348, -4.073, -5.2338, -4.72, -6.1895, -6.1875, -6.1938, -6.0351, -6.079, -4.3343, -5.6602, -4.4284, -4.6164, -5.7903, -6.1878, -6.1194, -4.8862, -4.7352, -5.143, -4.1758, -5.8409, -4.6903, -5.0397, -4.7569, -5.5608, -5.1133, -5.0099, -4.8981, -5.1638, -5.4175, -5.1924, -5.0899, -5.315, -4.7803, -5.3151, -5.2742, -5.2985, -5.0911, -5.3259, -5.278, -5.3074, -5.3392, -6.7037, -6.7037, -6.7037, -6.7037, -6.7037, -6.7038, -6.7038, -6.7038, -6.3379, -6.7049, -6.8223, -6.8223, -6.8224, -6.8225, -7.2905, -7.2905, -7.2905, -7.2905, -7.2905, -7.2905, -7.2905, -7.2906, -7.2906, -7.2909, -7.2909, -6.7059, -7.1101, -7.5132, -7.5132, -7.2916, -6.708, -6.9574, -7.111, -7.111, -7.1131, -6.523, -6.9631, -7.1138, -6.3758, -6.8406, -6.9699, -6.7356, -6.1416, -5.7153, -6.2071, -6.2709, -6.2776, -5.0019, -6.7417, -5.6846, -5.5244, -5.6526, -4.0579, -6.5066, -4.2266, -5.6496, -6.0985, -5.4073, -5.3911, -5.9051, -4.9043, -6.0373, -5.883, -5.7631, -5.2901, -5.2517, -5.5576, -4.7937, -5.7327, -6.4573, -5.3437, -4.9218, -5.1797, -4.6363, -5.3585, -5.1721, -5.7567, -5.3455, -5.5016, -5.2147, -5.4752, -5.3918, -5.4913, -5.4353, -5.3279, -5.4921, -5.4732, -5.5521, -5.5515, -5.6056, -5.6032, -5.8759, -5.6021, -5.6021, -5.6021, -5.6021, -5.6021, -5.6021, -5.6021, -5.6021, -5.6021, -5.6021, -5.6021, -5.6021, -5.8251, -5.8251, -5.8251, -5.8251, -6.8736, -7.0286, -7.0289, -6.52, -7.2103, -7.4323, -7.0296, -7.2109, -7.211, -7.211, -7.0297, -7.2113, -7.433, -5.8834, -6.8768, -6.8774, -7.0305, -6.8812, -7.0326, -6.7529, -6.6415, -6.884, -6.886, -6.0106, -5.3644, -4.58, -4.3462, -5.9588, -5.7652, -4.7833, -5.8869, -5.6022, -5.3437, -4.3887, -4.5264, -5.0151, -5.685, -5.1456, -4.1545, -5.3033, -4.7814, -5.0079, -4.9949, -4.9258, -4.7064, -5.0549, -4.9269, -5.2734, -5.1669, -5.2941, -5.2983, -5.2556, -5.3645, -5.3672, -5.4353, -5.4262, -5.3351, -5.4194, -5.5099, -5.4829], \"loglift\": [30.0, 29.0, 28.0, 27.0, 26.0, 25.0, 24.0, 23.0, 22.0, 21.0, 20.0, 19.0, 18.0, 17.0, 16.0, 15.0, 14.0, 13.0, 12.0, 11.0, 10.0, 9.0, 8.0, 7.0, 6.0, 5.0, 4.0, 3.0, 2.0, 1.0, 0.993, 0.9929, 0.9927, 0.9927, 0.9923, 0.9923, 0.9922, 0.9922, 0.9917, 0.9917, 0.9916, 0.9915, 0.9915, 0.9914, 0.9913, 0.9908, 0.9906, 0.9905, 0.9902, 0.9902, 0.9898, 0.9898, 0.9897, 0.9897, 0.9896, 0.9895, 0.9893, 0.9893, 0.9893, 0.989, 0.9883, 0.987, 0.987, 0.9847, 0.984, 0.9883, 0.9871, 0.9845, 0.9834, 0.987, 0.9867, 0.9763, 0.979, 0.9175, 0.9347, 0.8932, 0.8567, 0.8901, 0.8548, 0.9346, 0.9144, 0.8642, 0.8142, 0.667, 0.7736, 0.6762, 0.866, 0.8656, 0.8609, 0.8269, 0.8313, 0.4913, 0.7265, 0.4701, 0.5057, 0.7445, 0.8182, 0.7903, 0.4191, 0.3664, 0.4671, 0.1244, 0.6968, 0.2838, 0.3918, 0.209, 0.5696, 0.3504, 0.2948, 0.1751, 0.2948, 0.4451, 0.2937, 0.2175, 0.3643, -0.0863, 0.3304, -0.0073, 0.0078, -0.5562, 0.0532, -0.2376, -0.1254, 0.0357, 1.0935, 1.0935, 1.0935, 1.0935, 1.0935, 1.0934, 1.0934, 1.0934, 1.0926, 1.0924, 1.0923, 1.0923, 1.0923, 1.0921, 1.092, 1.092, 1.092, 1.092, 1.092, 1.092, 1.092, 1.092, 1.092, 1.0916, 1.0916, 1.0913, 1.0911, 1.091, 1.091, 1.091, 1.0894, 1.0904, 1.0903, 1.0902, 1.0881, 1.0742, 1.0849, 1.0873, 1.0561, 1.0748, 1.0781, 1.0617, 1.0238, 0.9866, 1.019, 1.0171, 1.0127, 0.8861, 1.0556, 0.9498, 0.8652, 0.8561, 0.477, 1.0038, 0.4674, 0.8004, 0.9064, 0.7195, 0.6429, 0.799, 0.3626, 0.8234, 0.7494, 0.6794, 0.4479, 0.4099, 0.5502, 0.1722, 0.6288, 0.9734, 0.3865, 0.1186, 0.1266, -0.3361, 0.2335, 0.0099, 0.5348, 0.1131, 0.2095, -0.1416, 0.1507, -0.0276, 0.0785, -0.1306, -0.4294, -0.1173, -0.2483, -0.2446, -0.4499, 0.0399, -0.253, 1.2146, 1.2143, 1.2143, 1.2143, 1.2143, 1.2143, 1.2143, 1.2143, 1.2143, 1.2143, 1.2143, 1.2143, 1.2143, 1.2142, 1.2142, 1.2142, 1.2142, 1.2127, 1.2112, 1.211, 1.2109, 1.2108, 1.2105, 1.2101, 1.2101, 1.2101, 1.21, 1.21, 1.2097, 1.2097, 1.2068, 1.2095, 1.2089, 1.2092, 1.2048, 1.2072, 1.2001, 1.1939, 1.202, 1.1999, 1.1309, 1.0546, 0.9246, 0.8832, 1.0754, 1.0452, 0.8853, 1.0513, 0.9917, 0.9452, 0.7197, 0.6984, 0.8031, 0.975, 0.7005, 0.1457, 0.6734, 0.1927, 0.3712, 0.3554, 0.1146, -0.1715, 0.1271, -0.1013, 0.3581, -0.0938, 0.2756, 0.0765, -0.154, -0.0002, -0.0598, 0.2325, 0.1658, -0.4366, -0.6794, 0.1568, -0.1766]}, \"token.table\": {\"Topic\": [1, 2, 3, 2, 3, 1, 1, 2, 1, 2, 3, 1, 2, 3, 1, 1, 3, 1, 2, 3, 3, 2, 2, 2, 2, 2, 3, 3, 2, 1, 2, 2, 3, 1, 2, 3, 3, 3, 3, 1, 2, 3, 1, 2, 3, 3, 1, 2, 1, 2, 3, 1, 2, 3, 1, 2, 3, 1, 2, 3, 2, 1, 2, 1, 2, 3, 2, 3, 3, 1, 1, 2, 3, 3, 1, 2, 3, 1, 2, 3, 2, 1, 2, 3, 1, 2, 3, 1, 1, 1, 2, 1, 2, 3, 1, 2, 3, 3, 3, 1, 2, 3, 2, 3, 1, 1, 3, 2, 3, 1, 2, 3, 2, 1, 2, 3, 1, 2, 1, 2, 3, 2, 1, 1, 2, 3, 1, 1, 2, 1, 1, 2, 3, 1, 2, 3, 1, 2, 3, 1, 2, 3, 1, 2, 3, 1, 2, 3, 1, 2, 2, 1, 2, 3, 2, 1, 2, 1, 2, 3, 1, 3, 1, 2, 3, 3, 1, 1, 2, 3, 3, 3, 2, 1, 2, 1, 2, 3, 3, 3, 1, 2, 3, 1, 2, 3, 1, 1, 2, 1, 1, 1, 1, 1, 1, 2, 3, 1, 3, 1, 2, 3, 1, 2, 3, 1, 2, 3, 2, 1, 2, 3, 1, 2, 3, 3, 1, 2, 3, 3, 1, 1, 1, 2, 3, 1, 2, 1, 2, 3, 1, 2, 1, 3, 1, 2, 3, 1, 2, 3, 2, 2, 3, 1, 2, 3, 3, 3, 1, 2, 3, 3, 1, 2, 3, 1, 2, 3, 2, 1, 1, 2, 3, 1, 3, 2, 1, 2, 3, 1, 2, 3, 2, 1, 1, 2, 3, 1, 2, 3, 3, 1, 2, 3, 2, 3, 2, 2, 1, 3, 1, 2, 3, 2, 1, 2, 1, 2, 3, 2, 1, 2, 3, 1, 2, 3, 2, 1, 1, 2, 3, 3, 1, 2, 3, 1, 2, 3, 1, 3, 3, 2, 3, 2, 1, 3, 2, 1, 2, 3, 2, 1, 2, 3, 1, 3, 3, 1, 2, 3, 1, 2, 3, 1, 1, 2, 3, 1, 1, 3, 1, 2, 3, 1, 2, 3, 1, 2, 3, 1, 2, 3, 3, 3, 1, 3, 1, 2, 3, 2, 2, 1, 1, 2, 1, 2, 3, 1, 2, 3, 3, 1, 2, 3, 1, 1, 2, 3, 1, 2, 1, 2, 3, 2, 2, 1, 2, 3, 1, 1, 1, 2, 3, 2, 2], \"Freq\": [0.39147475816365956, 0.23488485489819574, 0.37842559955820426, 0.21118733800326545, 0.7743535726786399, 0.9858242562397693, 0.8627424657425642, 0.12687389202096533, 0.5460276569888363, 0.21635058107104835, 0.2369553983159101, 0.9828181294447792, 0.8577003996770332, 0.1372320639483253, 0.9807864475997513, 0.8886038312057315, 0.1045416272006743, 0.31346170672027346, 0.2564686691347692, 0.427447781891282, 1.0225476559582207, 0.9877522899709114, 0.9853259048799106, 0.9861569612411587, 0.9838259892787622, 0.9877199072806974, 1.0239591677463937, 1.0254408063294589, 0.98382588487691, 0.9335869386810437, 0.05491687874594375, 0.9887014018227444, 1.0261156903599205, 0.3523797494973353, 0.2265298389625727, 0.42788969581819286, 1.0249931371178016, 0.9771375658539089, 1.0239466503931585, 0.59251059793173, 0.21765695434226817, 0.19347284830423836, 0.09358132679428849, 0.31193775598096163, 0.5926817363638271, 0.9877123066160257, 0.9867267112723128, 0.9877196616901185, 0.3444563782628045, 0.5876020570365488, 0.08104855959124811, 0.5213781652361663, 0.21280741438210868, 0.2553688972585304, 0.7763476584582197, 0.09316171901498638, 0.12421562535331516, 0.46332087589788706, 0.4088125375569592, 0.12264376126708774, 0.9901698180465948, 0.9329323125486169, 0.05654135227567375, 0.4188025651065214, 0.23931575148944081, 0.3423544778251723, 0.9877209577473329, 1.0239318982050212, 1.0239531675636986, 0.9828644283661767, 0.4890971437526231, 0.14998979075080443, 0.35867123875192364, 0.9771355629517909, 0.49757353341280103, 0.3705334823286816, 0.1270400510841194, 0.3133547734860794, 0.6267095469721587, 0.05222579558101323, 0.9852221662269612, 0.10742738737605775, 0.8057054053204332, 0.08057054053204332, 0.19427442284852448, 0.04856860571213112, 0.7528133885380324, 0.9869849897599845, 0.980508597517317, 0.98279631322601, 0.9852223681868718, 0.37796258306637787, 0.5179487249428141, 0.09799029931350538, 0.9157266584660911, 0.03815527743608713, 0.07631055487217427, 1.0257054894838429, 1.0269741819890887, 0.8234646694184184, 0.08445791481214548, 0.08445791481214548, 0.987721741695304, 0.987713334790314, 0.9863122673789944, 0.9816064830082842, 1.025312878995144, 0.7866020806933237, 0.21177748326358717, 0.9828225267541888, 0.9334924265438723, 0.05834327665899202, 0.9852224519456277, 0.21015398114920847, 0.5379941917419737, 0.247981697756066, 0.08238588122656722, 0.9062446934922394, 0.5279900479562217, 0.13199751198905543, 0.34319353117154416, 0.9863584051830713, 0.984187794466206, 0.05696123987584869, 0.05696123987584869, 0.911379838013579, 0.984357674646579, 0.9827903947194502, 0.985222683739098, 0.9863830210689786, 0.717224915779591, 0.1289972870107178, 0.14963685293243265, 0.14244696001968002, 0.2597562212123577, 0.5949255389057224, 0.3291544557480429, 0.33718261320531223, 0.33718261320531223, 0.2191233706352269, 0.5599819471789133, 0.2191233706352269, 0.026120264151058968, 0.2612026415105897, 0.7183072641541216, 0.8864513073099862, 0.052144194547646246, 0.052144194547646246, 0.8796550154205557, 0.10995687692756946, 0.9873281475285238, 0.5630473221446689, 0.2088723936988288, 0.2270352105422052, 0.9880970216443581, 0.9223056384064617, 0.06587897417189012, 0.379685832204306, 0.30180155893162786, 0.3212726272497974, 0.9845519759394733, 0.9877135265119644, 0.20543519507697142, 0.7190231827693999, 0.06847839835899047, 0.987713878923122, 0.9855136487353983, 0.06651113013773684, 0.18844820205692103, 0.7427076198713947, 0.9877143399709556, 1.0249784854133865, 0.987721136455696, 0.21510744120631634, 0.7743867883427388, 0.07340745095099879, 0.8808894114119856, 0.036703725475499396, 0.987713245098417, 1.0249567187030484, 0.20203125309005784, 0.0841796887875241, 0.7155273546939549, 0.36703977055717124, 0.48064731858677184, 0.15730275881021624, 0.9829514329236989, 0.07607513255648982, 0.9129015906778778, 0.9805285360579625, 0.9878117843454775, 0.9858243893577494, 0.9867212900253894, 0.9858408114359328, 0.24611752835513825, 0.14170403147720081, 0.6115647674279193, 0.9842235761348607, 0.9771356089756489, 0.8614938557733239, 0.08614938557733239, 0.04307469278866619, 0.910080082405394, 0.053534122494434934, 0.026767061247217467, 0.3114872943989818, 0.6512916155615075, 0.028317026763543803, 0.9852220331519904, 0.33786546402290407, 0.38791960684111204, 0.27529778550014405, 0.6424585732995015, 0.20724470106435533, 0.1243468206386132, 1.0240244636153795, 0.7474411090346842, 0.06228675908622368, 0.18686027725867105, 1.0224578444432495, 0.9870365569049455, 0.9831974476880596, 0.8878493353601138, 0.0522264314917714, 0.1044528629835428, 0.9885650879995698, 0.9862799357987307, 0.4550430393939089, 0.26392496284846717, 0.2821266844242235, 0.9805847773333878, 0.9853528816044944, 0.984372672733583, 1.025198621470559, 0.5104626478935685, 0.3445622873281588, 0.14037722817073137, 0.7765886845407354, 0.18745244109603956, 0.02677892015657708, 0.9871584346798192, 0.9877202856831485, 1.0254661144925568, 0.3910902151097035, 0.17599059679936657, 0.43019923662067383, 0.9877137490105432, 0.9743702994888721, 0.16937818525990714, 0.6398731443152048, 0.18819798362211906, 0.9771361104872734, 0.0409117261445905, 0.12273517843377149, 0.8591462490364005, 0.04969194486057998, 0.8447630626298597, 0.09938388972115995, 0.9883809323687935, 0.9868518543481092, 0.28909561035481235, 0.6814396529792006, 0.02064968645391517, 0.9868372429762602, 0.9877132203783431, 0.9877204168816004, 0.5005350473323795, 0.2285051303039124, 0.2829111137096058, 0.17772356380620905, 0.24881298932869267, 0.5864877605604898, 0.9862390383486267, 0.9858524037983785, 0.25002850283476824, 0.4861665332898272, 0.25002850283476824, 0.37568964492871276, 0.3275243058352881, 0.29862510237923323, 1.0256712782963946, 0.6014771156768465, 0.12928947346324737, 0.26982150983634234, 0.9873287529120962, 0.9877133174180611, 0.9873281893143769, 0.9877805935457503, 0.13946404552874497, 0.8367842731724697, 0.8772433755777769, 0.046170703977777734, 0.09234140795555547, 0.9877263636006298, 0.9054887344208787, 0.08231715767462534, 0.2853059295120385, 0.5057696023167955, 0.2074952214633007, 0.9870354556141328, 0.49918353458272646, 0.2904340564844954, 0.20874947809823108, 0.9851121276146334, 0.9299521704308863, 0.06199681136205908, 0.9852223681868718, 0.9842080403699158, 0.5333741159904031, 0.21483124116280125, 0.2518711103288015, 1.0249662081251398, 0.22750804218306583, 0.1213376224976351, 0.6673569237369931, 0.6124304265654318, 0.1814608671304983, 0.20414347552181059, 0.9843525261968369, 0.9877130196506825, 0.9877121928435432, 0.19767515160997584, 0.7907006064399034, 0.9861784358851992, 0.8456409478172403, 0.14923075549716006, 0.9877898254684387, 0.1463816520418095, 0.8132314002322749, 0.0487938840139365, 0.9852226194631822, 0.43920047566692133, 0.2880003119127353, 0.26640028851928016, 0.15351392121305593, 0.869912220207317, 1.0257387682661097, 0.3649946533710302, 0.2867815133629523, 0.35195913003635054, 0.806370757171353, 0.20159268929283825, 1.024958289400028, 0.985804245629091, 0.5912947103831532, 0.2094168765940334, 0.19709823679438437, 0.9853687348098285, 0.13829228559574067, 0.8574121706935921, 0.2484460547476132, 0.36675369986552425, 0.39041522888910646, 0.8132535338056915, 0.04518075187809398, 0.13554225563428193, 0.4527328808181893, 0.3945243675701364, 0.14875508941169077, 0.18390478326993512, 0.7356191330797405, 0.07356191330797404, 0.974094771961579, 1.0259158781836648, 0.8589622432495303, 0.135625617355189, 0.5707983507285651, 0.19026611690952172, 0.23783264613690214, 0.9852216143587093, 0.9877204181480962, 0.9841787828805973, 0.06594978816364912, 0.9232970342910876, 0.9852519033663836, 0.9255198118712958, 0.06610855799080685, 0.37271939198140713, 0.38181010885900246, 0.245449355695073, 0.9877139541752361, 0.34001101613914253, 0.5321911556960492, 0.12812009303793778, 0.9859653201301258, 0.7260004450858413, 0.1491781736477756, 0.11934253891822048, 0.9872758197763103, 0.987327876647355, 0.22983916015591502, 0.42338792660300134, 0.35080713918534395, 0.9878143477764135, 0.9871684076819428, 0.028530307392295288, 0.7417879921996775, 0.2282424591383623, 0.9874890523498633, 0.985466151767451, 0.29266451158742796, 0.3762829434695502, 0.3344737275284891, 0.9853130538421467, 0.9852232895339705], \"Term\": [\"able\", \"able\", \"able\", \"access_download_log_http\", \"access_download_log_http\", \"accounting_code\", \"action\", \"action\", \"add\", \"add\", \"add\", \"add_custom\", \"address\", \"address\", \"ago\", \"allocation\", \"allocation\", \"anyone\", \"anyone\", \"anyone\", \"anyone_tell\", \"approve\", \"atextra\", \"audit\", \"authentication\", \"available_downloads_patch_update\", \"bank_reconciliation\", \"believe\", \"body\", \"bom\", \"bom\", \"budget\", \"bulk\", \"call\", \"call\", \"call\", \"cant\", \"case_submission_knowledgebase_university\", \"cash\", \"change\", \"change\", \"change\", \"check\", \"check\", \"check\", \"check_vendor_product_ensure\", \"choose\", \"city_customer_additional_resource\", \"client\", \"client\", \"client\", \"code\", \"code\", \"code\", \"column\", \"column\", \"column\", \"company\", \"company\", \"company\", \"contact\", \"cost\", \"cost\", \"create\", \"create\", \"create\", \"credential_upper_right_corner\", \"credit_card\", \"credit_invoice\", \"credit_memo\", \"customer\", \"customer\", \"customer\", \"customer_additional_resource_include\", \"data\", \"data\", \"data\", \"database\", \"database\", \"database\", \"database_server\", \"delete\", \"delete\", \"delete\", \"delivery\", \"delivery\", \"delivery\", \"depreciation\", \"describe\", \"description_field\", \"detail_access_download\", \"different\", \"different\", \"different\", \"dimension\", \"dimension\", \"dimension\", \"directory\", \"discount\", \"display\", \"display\", \"display\", \"download_portal_access_download\", \"downloads_patch_update_download\", \"drive\", \"easily\", \"eclipse\", \"email\", \"email\", \"endifreturn\", \"endpoint\", \"endpoint\", \"ensure_component_highly_recommended\", \"error\", \"error\", \"error\", \"et\", \"et\", \"example\", \"example\", \"example\", \"except\", \"expense\", \"export\", \"export\", \"export\", \"export_data\", \"expression\", \"facet\", \"factor\", \"field\", \"field\", \"field\", \"file\", \"file\", \"file\", \"find\", \"find\", \"find\", \"first\", \"first\", \"first\", \"folder\", \"folder\", \"folder\", \"format\", \"format\", \"format\", \"formula\", \"formula\", \"fully_compatible_release_integrate\", \"function\", \"function\", \"function\", \"good_day\", \"guys\", \"guys\", \"help\", \"help\", \"help\", \"hide\", \"highly_recommended_work_certified\", \"http\", \"http\", \"http\", \"https_enter_log_credential\", \"ideal\", \"import\", \"import\", \"import\", \"important_product_integrate_isvs\", \"importsil\", \"include_link_support_option\", \"instal\", \"instal\", \"installation\", \"installation\", \"installation\", \"integrate_product_check_business\", \"interface\", \"invoice\", \"invoice\", \"invoice\", \"issue\", \"issue\", \"issue\", \"june\", \"key\", \"key\", \"kindly_advise\", \"label\", \"label_printer\", \"left_list\", \"legislation\", \"line\", \"line\", \"line\", \"lines\", \"link_support_option_online\", \"load\", \"load\", \"load\", \"location\", \"location\", \"location\", \"log\", \"log\", \"log\", \"log_http_search_field\", \"look\", \"look\", \"look\", \"lot\", \"lot\", \"lot\", \"major\", \"manage\", \"manage\", \"manage\", \"matteos\", \"memory\", \"modifier\", \"mrp\", \"mrp\", \"mrp\", \"must\", \"network\", \"new\", \"new\", \"new\", \"new_functionality\", \"newbie\", \"none\", \"null\", \"number\", \"number\", \"number\", \"object\", \"object\", \"object\", \"online\", \"online_case_submission_knowledgebase\", \"open_order\", \"order\", \"order\", \"order\", \"partner_ensure_component_compatible\", \"partner_professional_services_install\", \"patch\", \"patch\", \"patch\", \"patch_help_visit_city\", \"pay\", \"pay\", \"pay\", \"pdf\", \"pdf\", \"pdf\", \"period\", \"pi\", \"please\", \"please\", \"please\", \"policy\", \"portal_access_download_portal\", \"portal_https_enter_log\", \"possible\", \"possible\", \"possible\", \"post\", \"post\", \"post\", \"post_journal\", \"printer\", \"problem\", \"problem\", \"problem\", \"process\", \"process\", \"process\", \"processing\", \"product\", \"product\", \"product\", \"product_check_business_partner\", \"product_fully_compatible_release\", \"product_integrate_isvs_check\", \"production_tracking\", \"qty\", \"qty\", \"quantity\", \"quantity\", \"quantity\", \"que\", \"rate\", \"rate\", \"record\", \"record\", \"record\", \"related\", \"report\", \"report\", \"report\", \"report_parameter\", \"resource\", \"resource\", \"review_hotfix\", \"routings\", \"run\", \"run\", \"run\", \"runtime\", \"sale_order\", \"sale_order\", \"sale_order\", \"screen\", \"screen\", \"screen\", \"screen_window\", \"search_complete_list_available\", \"search_field_click_search\", \"search_field_type_click\", \"search_field_type_click\", \"search_note\", \"selection\", \"selection\", \"sequence_number\", \"server\", \"server\", \"server\", \"services_install_help_visit\", \"set\", \"set\", \"set\", \"setting\", \"setting\", \"shortcut\", \"show\", \"show\", \"show\", \"site\", \"site\", \"soh\", \"std\", \"stock\", \"stock\", \"stock\", \"subcontract\", \"supplier\", \"supplier\", \"system\", \"system\", \"system\", \"tab\", \"tab\", \"tab\", \"table\", \"table\", \"table\", \"task\", \"task\", \"task\", \"template\", \"test_folder\", \"text\", \"text\", \"transaction\", \"transaction\", \"transaction\", \"type_click_complete_list\", \"type_search_field_click\", \"udm_finance\", \"unable\", \"unable\", \"unit_measure\", \"university\", \"university\", \"update\", \"update\", \"update\", \"upper_right_corner_type\", \"user\", \"user\", \"user\", \"using\", \"value\", \"value\", \"value\", \"vat\", \"vendor_product_ensure_product\", \"version\", \"version\", \"version\", \"vm\", \"web_server\", \"web_service\", \"web_service\", \"web_service\", \"week\", \"whole\", \"work\", \"work\", \"work\", \"work_center\", \"work_certified_partner_professional\"]}, \"R\": 30, \"lambda.step\": 0.01, \"plot.opts\": {\"xlab\": \"PC1\", \"ylab\": \"PC2\"}, \"topic.order\": [3, 2, 1]};\n",
       "\n",
       "function LDAvis_load_lib(url, callback){\n",
       "  var s = document.createElement('script');\n",
       "  s.src = url;\n",
       "  s.async = true;\n",
       "  s.onreadystatechange = s.onload = callback;\n",
       "  s.onerror = function(){console.warn(\"failed to load library \" + url);};\n",
       "  document.getElementsByTagName(\"head\")[0].appendChild(s);\n",
       "}\n",
       "\n",
       "if(typeof(LDAvis) !== \"undefined\"){\n",
       "   // already loaded: just create the visualization\n",
       "   !function(LDAvis){\n",
       "       new LDAvis(\"#\" + \"ldavis_el242002108974695360182517963\", ldavis_el242002108974695360182517963_data);\n",
       "   }(LDAvis);\n",
       "}else if(typeof define === \"function\" && define.amd){\n",
       "   // require.js is available: use it to load d3/LDAvis\n",
       "   require.config({paths: {d3: \"https://d3js.org/d3.v5\"}});\n",
       "   require([\"d3\"], function(d3){\n",
       "      window.d3 = d3;\n",
       "      LDAvis_load_lib(\"https://cdn.jsdelivr.net/gh/bmabey/pyLDAvis@3.2.2/pyLDAvis/js/ldavis.v3.0.0.js\", function(){\n",
       "        new LDAvis(\"#\" + \"ldavis_el242002108974695360182517963\", ldavis_el242002108974695360182517963_data);\n",
       "      });\n",
       "    });\n",
       "}else{\n",
       "    // require.js not available: dynamically load d3 & LDAvis\n",
       "    LDAvis_load_lib(\"https://d3js.org/d3.v5.js\", function(){\n",
       "         LDAvis_load_lib(\"https://cdn.jsdelivr.net/gh/bmabey/pyLDAvis@3.2.2/pyLDAvis/js/ldavis.v3.0.0.js\", function(){\n",
       "                 new LDAvis(\"#\" + \"ldavis_el242002108974695360182517963\", ldavis_el242002108974695360182517963_data);\n",
       "            })\n",
       "         });\n",
       "}\n",
       "</script>"
      ],
      "text/plain": [
       "<IPython.core.display.HTML object>"
      ]
     },
     "execution_count": 256,
     "metadata": {},
     "output_type": "execute_result"
    }
   ],
   "source": [
    "# https://cran.r-project.org/web/packages/LDAvis/vignettes/details.pdf\n",
    "# Here a short legend to explain the vis:\n",
    "# size of bubble: proportional to the proportions of the topics across the N total tokens in the corpus\n",
    "# red bars: estimated number of times a given term was generated by a given topic\n",
    "# blue bars: overall frequency of each term in the corpus\n",
    "# -- Relevance of words is computed with a    parameter lambda\n",
    "# -- Lambda optimal value ~0.6 (https://nlp.stanford.edu/events/illvi2014/papers/sievert-illvi2014.pdf)\n",
    "\n",
    "\n",
    "%matplotlib inline\n",
    "import pyLDAvis\n",
    "import pyLDAvis.gensim\n",
    "vis = pyLDAvis.gensim.prepare(topic_model=lda_model, corpus=corpus, dictionary=dictionary_LDA)\n",
    "pyLDAvis.enable_notebook()\n",
    "pyLDAvis.save_html(vis, 'myBook.html')\n",
    "pyLDAvis.display(vis)"
   ]
  },
  {
   "cell_type": "code",
   "execution_count": 257,
   "metadata": {},
   "outputs": [
    {
     "name": "stderr",
     "output_type": "stream",
     "text": [
      "C:\\Users\\BDelamater\\Anaconda3\\lib\\site-packages\\ipykernel\\ipkernel.py:287: DeprecationWarning:\n",
      "\n",
      "`should_run_async` will not call `transform_cell` automatically in the future. Please pass the result to `transformed_cell` argument and any exception that happen during thetransform in `preprocessing_exc_tuple` in IPython 7.17 and above.\n",
      "\n"
     ]
    },
    {
     "data": {
      "text/html": [
       "<div>\n",
       "<style scoped>\n",
       "    .dataframe tbody tr th:only-of-type {\n",
       "        vertical-align: middle;\n",
       "    }\n",
       "\n",
       "    .dataframe tbody tr th {\n",
       "        vertical-align: top;\n",
       "    }\n",
       "\n",
       "    .dataframe thead th {\n",
       "        text-align: right;\n",
       "    }\n",
       "</style>\n",
       "<table border=\"1\" class=\"dataframe\">\n",
       "  <thead>\n",
       "    <tr style=\"text-align: right;\">\n",
       "      <th></th>\n",
       "      <th>Forum ID</th>\n",
       "      <th>Forum Name</th>\n",
       "      <th>Subject</th>\n",
       "      <th>Post Date</th>\n",
       "      <th>User DisplayName</th>\n",
       "      <th>Forum_Post_Raw</th>\n",
       "      <th>compound</th>\n",
       "      <th>neg</th>\n",
       "      <th>neu</th>\n",
       "      <th>pos</th>\n",
       "      <th>...</th>\n",
       "      <th>PostDate</th>\n",
       "      <th>DayName</th>\n",
       "      <th>DayOfMonth</th>\n",
       "      <th>ShortText</th>\n",
       "      <th>sentences</th>\n",
       "      <th>token_sentences</th>\n",
       "      <th>tokens_sentences</th>\n",
       "      <th>POS_tokens</th>\n",
       "      <th>tokens_sentences_lemmatized</th>\n",
       "      <th>tokens</th>\n",
       "    </tr>\n",
       "  </thead>\n",
       "  <tbody>\n",
       "    <tr>\n",
       "      <th>0</th>\n",
       "      <td>40</td>\n",
       "      <td>Sage X3 General Discussion</td>\n",
       "      <td>ERP help urgently needed</td>\n",
       "      <td>2019-10-10T05:58:05.73</td>\n",
       "      <td>ChinusGomes</td>\n",
       "      <td>Company upgraded to windows 10. Used to run an...</td>\n",
       "      <td>0.0387</td>\n",
       "      <td>0.063</td>\n",
       "      <td>0.873</td>\n",
       "      <td>0.064</td>\n",
       "      <td>...</td>\n",
       "      <td>2019-10-10 05:58:05.730</td>\n",
       "      <td>Thursday</td>\n",
       "      <td>10</td>\n",
       "      <td>Company upgraded to windows 10. Used to run an...</td>\n",
       "      <td>[Company upgraded to windows 10., Used to run ...</td>\n",
       "      <td>[[Company, upgraded, to, windows, 10, .], [Use...</td>\n",
       "      <td>[[Company, upgraded, to, windows, 10, .], [Use...</td>\n",
       "      <td>[[(Company, NN), (upgraded, VBD), (to, TO), (w...</td>\n",
       "      <td>[[Company, upgrade, to, windows, 10, .], [Used...</td>\n",
       "      <td>[company, upgrade, windows, used, run, erp, pr...</td>\n",
       "    </tr>\n",
       "    <tr>\n",
       "      <th>31</th>\n",
       "      <td>40</td>\n",
       "      <td>Sage X3 General Discussion</td>\n",
       "      <td>Sage V11 patch 14 - release soon?</td>\n",
       "      <td>2019-10-10T12:44:35.957</td>\n",
       "      <td>AnikB</td>\n",
       "      <td>Hello!\\n\\nI see that Sage V11 patch 14 was com...</td>\n",
       "      <td>0.7044</td>\n",
       "      <td>0.022</td>\n",
       "      <td>0.915</td>\n",
       "      <td>0.063</td>\n",
       "      <td>...</td>\n",
       "      <td>2019-10-10 12:44:35.957</td>\n",
       "      <td>Thursday</td>\n",
       "      <td>10</td>\n",
       "      <td>Hello!\\n\\nI see that Sage V11 patch 14 was com...</td>\n",
       "      <td>[Hello!, I see that Sage V11 patch 14 was comp...</td>\n",
       "      <td>[[Hello, !], [I, see, that, Sage, V11, patch, ...</td>\n",
       "      <td>[[Hello, !], [I, see, that, Sage, V11, patch, ...</td>\n",
       "      <td>[[(Hello, NN), (!, .)], [(I, PRP), (see, VBP),...</td>\n",
       "      <td>[[Hello, !], [I, see, that, Sage, V11, patch, ...</td>\n",
       "      <td>[patch, complete, october, least, patch, finde...</td>\n",
       "    </tr>\n",
       "    <tr>\n",
       "      <th>62</th>\n",
       "      <td>673</td>\n",
       "      <td>Sage X3 Announcements, News, and Alerts</td>\n",
       "      <td>Sage X3 12.0.19 and Patch 19 Add-ons Updates h...</td>\n",
       "      <td>2019-10-10T14:56:52.947</td>\n",
       "      <td>Alecia</td>\n",
       "      <td>To access this download, log into https://supp...</td>\n",
       "      <td>0.9359</td>\n",
       "      <td>0.000</td>\n",
       "      <td>0.898</td>\n",
       "      <td>0.102</td>\n",
       "      <td>...</td>\n",
       "      <td>2019-10-10 14:56:52.947</td>\n",
       "      <td>Thursday</td>\n",
       "      <td>10</td>\n",
       "      <td>To access this download, log into https://supp...</td>\n",
       "      <td>[To access this download, log into https://sup...</td>\n",
       "      <td>[[To, access, this, download, ,, log, into, ht...</td>\n",
       "      <td>[[To, access, this, download, ,, log, into, ht...</td>\n",
       "      <td>[[(To, TO), (access, NN), (this, DT), (downloa...</td>\n",
       "      <td>[[To, access, this, download, ,, log, into, ht...</td>\n",
       "      <td>[access, download, log, http, search, field, t...</td>\n",
       "    </tr>\n",
       "    <tr>\n",
       "      <th>63</th>\n",
       "      <td>673</td>\n",
       "      <td>Sage X3 Announcements, News, and Alerts</td>\n",
       "      <td>Sage X3 Warehousing (GEODE) v12.0.19 has been ...</td>\n",
       "      <td>2019-10-10T20:56:53.483</td>\n",
       "      <td>pnightingale</td>\n",
       "      <td>To access this download, log into https://supp...</td>\n",
       "      <td>0.9359</td>\n",
       "      <td>0.000</td>\n",
       "      <td>0.898</td>\n",
       "      <td>0.102</td>\n",
       "      <td>...</td>\n",
       "      <td>2019-10-10 20:56:53.483</td>\n",
       "      <td>Thursday</td>\n",
       "      <td>10</td>\n",
       "      <td>To access this download, log into https://supp...</td>\n",
       "      <td>[To access this download, log into https://sup...</td>\n",
       "      <td>[[To, access, this, download, ,, log, into, ht...</td>\n",
       "      <td>[[To, access, this, download, ,, log, into, ht...</td>\n",
       "      <td>[[(To, TO), (access, NN), (this, DT), (downloa...</td>\n",
       "      <td>[[To, access, this, download, ,, log, into, ht...</td>\n",
       "      <td>[access, download, log, http, search, field, t...</td>\n",
       "    </tr>\n",
       "    <tr>\n",
       "      <th>64</th>\n",
       "      <td>40</td>\n",
       "      <td>Sage X3 General Discussion</td>\n",
       "      <td>Modifying Stock Change ST2 object</td>\n",
       "      <td>2019-10-11T13:10:28.983</td>\n",
       "      <td>ChrisCC</td>\n",
       "      <td>I am trying to remove some of the columns on t...</td>\n",
       "      <td>0.5980</td>\n",
       "      <td>0.046</td>\n",
       "      <td>0.865</td>\n",
       "      <td>0.090</td>\n",
       "      <td>...</td>\n",
       "      <td>2019-10-11 13:10:28.983</td>\n",
       "      <td>Friday</td>\n",
       "      <td>11</td>\n",
       "      <td>I am trying to remove some of the columns on t...</td>\n",
       "      <td>[I am trying to remove some of the columns on ...</td>\n",
       "      <td>[[I, am, trying, to, remove, some, of, the, co...</td>\n",
       "      <td>[[I, am, trying, to, remove, some, of, the, co...</td>\n",
       "      <td>[[(I, PRP), (am, VBP), (trying, VBG), (to, TO)...</td>\n",
       "      <td>[[I, be, try, to, remove, some, of, the, colum...</td>\n",
       "      <td>[remove, column, object, stock, selection, bro...</td>\n",
       "    </tr>\n",
       "  </tbody>\n",
       "</table>\n",
       "<p>5 rows × 21 columns</p>\n",
       "</div>"
      ],
      "text/plain": [
       "    Forum ID                               Forum Name  \\\n",
       "0         40               Sage X3 General Discussion   \n",
       "31        40               Sage X3 General Discussion   \n",
       "62       673  Sage X3 Announcements, News, and Alerts   \n",
       "63       673  Sage X3 Announcements, News, and Alerts   \n",
       "64        40               Sage X3 General Discussion   \n",
       "\n",
       "                                              Subject  \\\n",
       "0                            ERP help urgently needed   \n",
       "31                  Sage V11 patch 14 - release soon?   \n",
       "62  Sage X3 12.0.19 and Patch 19 Add-ons Updates h...   \n",
       "63  Sage X3 Warehousing (GEODE) v12.0.19 has been ...   \n",
       "64                  Modifying Stock Change ST2 object   \n",
       "\n",
       "                  Post Date User DisplayName  \\\n",
       "0    2019-10-10T05:58:05.73      ChinusGomes   \n",
       "31  2019-10-10T12:44:35.957            AnikB   \n",
       "62  2019-10-10T14:56:52.947           Alecia   \n",
       "63  2019-10-10T20:56:53.483     pnightingale   \n",
       "64  2019-10-11T13:10:28.983          ChrisCC   \n",
       "\n",
       "                                       Forum_Post_Raw  compound    neg    neu  \\\n",
       "0   Company upgraded to windows 10. Used to run an...    0.0387  0.063  0.873   \n",
       "31  Hello!\\n\\nI see that Sage V11 patch 14 was com...    0.7044  0.022  0.915   \n",
       "62  To access this download, log into https://supp...    0.9359  0.000  0.898   \n",
       "63  To access this download, log into https://supp...    0.9359  0.000  0.898   \n",
       "64  I am trying to remove some of the columns on t...    0.5980  0.046  0.865   \n",
       "\n",
       "      pos  ...                PostDate   DayName DayOfMonth  \\\n",
       "0   0.064  ... 2019-10-10 05:58:05.730  Thursday         10   \n",
       "31  0.063  ... 2019-10-10 12:44:35.957  Thursday         10   \n",
       "62  0.102  ... 2019-10-10 14:56:52.947  Thursday         10   \n",
       "63  0.102  ... 2019-10-10 20:56:53.483  Thursday         10   \n",
       "64  0.090  ... 2019-10-11 13:10:28.983    Friday         11   \n",
       "\n",
       "                                            ShortText  \\\n",
       "0   Company upgraded to windows 10. Used to run an...   \n",
       "31  Hello!\\n\\nI see that Sage V11 patch 14 was com...   \n",
       "62  To access this download, log into https://supp...   \n",
       "63  To access this download, log into https://supp...   \n",
       "64  I am trying to remove some of the columns on t...   \n",
       "\n",
       "                                            sentences  \\\n",
       "0   [Company upgraded to windows 10., Used to run ...   \n",
       "31  [Hello!, I see that Sage V11 patch 14 was comp...   \n",
       "62  [To access this download, log into https://sup...   \n",
       "63  [To access this download, log into https://sup...   \n",
       "64  [I am trying to remove some of the columns on ...   \n",
       "\n",
       "                                      token_sentences  \\\n",
       "0   [[Company, upgraded, to, windows, 10, .], [Use...   \n",
       "31  [[Hello, !], [I, see, that, Sage, V11, patch, ...   \n",
       "62  [[To, access, this, download, ,, log, into, ht...   \n",
       "63  [[To, access, this, download, ,, log, into, ht...   \n",
       "64  [[I, am, trying, to, remove, some, of, the, co...   \n",
       "\n",
       "                                     tokens_sentences  \\\n",
       "0   [[Company, upgraded, to, windows, 10, .], [Use...   \n",
       "31  [[Hello, !], [I, see, that, Sage, V11, patch, ...   \n",
       "62  [[To, access, this, download, ,, log, into, ht...   \n",
       "63  [[To, access, this, download, ,, log, into, ht...   \n",
       "64  [[I, am, trying, to, remove, some, of, the, co...   \n",
       "\n",
       "                                           POS_tokens  \\\n",
       "0   [[(Company, NN), (upgraded, VBD), (to, TO), (w...   \n",
       "31  [[(Hello, NN), (!, .)], [(I, PRP), (see, VBP),...   \n",
       "62  [[(To, TO), (access, NN), (this, DT), (downloa...   \n",
       "63  [[(To, TO), (access, NN), (this, DT), (downloa...   \n",
       "64  [[(I, PRP), (am, VBP), (trying, VBG), (to, TO)...   \n",
       "\n",
       "                          tokens_sentences_lemmatized  \\\n",
       "0   [[Company, upgrade, to, windows, 10, .], [Used...   \n",
       "31  [[Hello, !], [I, see, that, Sage, V11, patch, ...   \n",
       "62  [[To, access, this, download, ,, log, into, ht...   \n",
       "63  [[To, access, this, download, ,, log, into, ht...   \n",
       "64  [[I, be, try, to, remove, some, of, the, colum...   \n",
       "\n",
       "                                               tokens  \n",
       "0   [company, upgrade, windows, used, run, erp, pr...  \n",
       "31  [patch, complete, october, least, patch, finde...  \n",
       "62  [access, download, log, http, search, field, t...  \n",
       "63  [access, download, log, http, search, field, t...  \n",
       "64  [remove, column, object, stock, selection, bro...  \n",
       "\n",
       "[5 rows x 21 columns]"
      ]
     },
     "execution_count": 257,
     "metadata": {},
     "output_type": "execute_result"
    }
   ],
   "source": [
    "dfLDA.head()"
   ]
  },
  {
   "cell_type": "code",
   "execution_count": 258,
   "metadata": {},
   "outputs": [
    {
     "name": "stdout",
     "output_type": "stream",
     "text": [
      "(1086, 21)\n",
      "1086\n"
     ]
    },
    {
     "name": "stderr",
     "output_type": "stream",
     "text": [
      "C:\\Users\\BDelamater\\Anaconda3\\lib\\site-packages\\ipykernel\\ipkernel.py:287: DeprecationWarning:\n",
      "\n",
      "`should_run_async` will not call `transform_cell` automatically in the future. Please pass the result to `transformed_cell` argument and any exception that happen during thetransform in `preprocessing_exc_tuple` in IPython 7.17 and above.\n",
      "\n"
     ]
    }
   ],
   "source": [
    "print(dfLDA.shape)\n",
    "print(len(document_topic))"
   ]
  },
  {
   "cell_type": "code",
   "execution_count": 259,
   "metadata": {},
   "outputs": [
    {
     "name": "stderr",
     "output_type": "stream",
     "text": [
      "C:\\Users\\BDelamater\\Anaconda3\\lib\\site-packages\\ipykernel\\ipkernel.py:287: DeprecationWarning:\n",
      "\n",
      "`should_run_async` will not call `transform_cell` automatically in the future. Please pass the result to `transformed_cell` argument and any exception that happen during thetransform in `preprocessing_exc_tuple` in IPython 7.17 and above.\n",
      "\n"
     ]
    }
   ],
   "source": [
    "dfBob = dfLDA.copy()"
   ]
  },
  {
   "cell_type": "code",
   "execution_count": 271,
   "metadata": {},
   "outputs": [
    {
     "name": "stderr",
     "output_type": "stream",
     "text": [
      "C:\\Users\\BDelamater\\Anaconda3\\lib\\site-packages\\ipykernel\\ipkernel.py:287: DeprecationWarning:\n",
      "\n",
      "`should_run_async` will not call `transform_cell` automatically in the future. Please pass the result to `transformed_cell` argument and any exception that happen during thetransform in `preprocessing_exc_tuple` in IPython 7.17 and above.\n",
      "\n"
     ]
    },
    {
     "data": {
      "text/html": [
       "<div>\n",
       "<style scoped>\n",
       "    .dataframe tbody tr th:only-of-type {\n",
       "        vertical-align: middle;\n",
       "    }\n",
       "\n",
       "    .dataframe tbody tr th {\n",
       "        vertical-align: top;\n",
       "    }\n",
       "\n",
       "    .dataframe thead th {\n",
       "        text-align: right;\n",
       "    }\n",
       "</style>\n",
       "<table border=\"1\" class=\"dataframe\">\n",
       "  <thead>\n",
       "    <tr style=\"text-align: right;\">\n",
       "      <th></th>\n",
       "      <th>level_0</th>\n",
       "      <th>index</th>\n",
       "      <th>Forum ID</th>\n",
       "      <th>Forum Name</th>\n",
       "      <th>Subject</th>\n",
       "      <th>Post Date</th>\n",
       "      <th>User DisplayName</th>\n",
       "      <th>Forum_Post_Raw</th>\n",
       "      <th>compound</th>\n",
       "      <th>neg</th>\n",
       "      <th>...</th>\n",
       "      <th>PostDate</th>\n",
       "      <th>DayName</th>\n",
       "      <th>DayOfMonth</th>\n",
       "      <th>ShortText</th>\n",
       "      <th>sentences</th>\n",
       "      <th>token_sentences</th>\n",
       "      <th>tokens_sentences</th>\n",
       "      <th>POS_tokens</th>\n",
       "      <th>tokens_sentences_lemmatized</th>\n",
       "      <th>tokens</th>\n",
       "    </tr>\n",
       "  </thead>\n",
       "  <tbody>\n",
       "    <tr>\n",
       "      <th>0</th>\n",
       "      <td>0</td>\n",
       "      <td>0</td>\n",
       "      <td>40</td>\n",
       "      <td>Sage X3 General Discussion</td>\n",
       "      <td>ERP help urgently needed</td>\n",
       "      <td>2019-10-10T05:58:05.73</td>\n",
       "      <td>ChinusGomes</td>\n",
       "      <td>Company upgraded to windows 10. Used to run an...</td>\n",
       "      <td>0.0387</td>\n",
       "      <td>0.063</td>\n",
       "      <td>...</td>\n",
       "      <td>2019-10-10 05:58:05.730</td>\n",
       "      <td>Thursday</td>\n",
       "      <td>10</td>\n",
       "      <td>Company upgraded to windows 10. Used to run an...</td>\n",
       "      <td>[Company upgraded to windows 10., Used to run ...</td>\n",
       "      <td>[[Company, upgraded, to, windows, 10, .], [Use...</td>\n",
       "      <td>[[Company, upgraded, to, windows, 10, .], [Use...</td>\n",
       "      <td>[[(Company, NN), (upgraded, VBD), (to, TO), (w...</td>\n",
       "      <td>[[Company, upgrade, to, windows, 10, .], [Used...</td>\n",
       "      <td>[company, upgrade, windows, used, run, erp, pr...</td>\n",
       "    </tr>\n",
       "    <tr>\n",
       "      <th>1</th>\n",
       "      <td>1</td>\n",
       "      <td>31</td>\n",
       "      <td>40</td>\n",
       "      <td>Sage X3 General Discussion</td>\n",
       "      <td>Sage V11 patch 14 - release soon?</td>\n",
       "      <td>2019-10-10T12:44:35.957</td>\n",
       "      <td>AnikB</td>\n",
       "      <td>Hello!\\n\\nI see that Sage V11 patch 14 was com...</td>\n",
       "      <td>0.7044</td>\n",
       "      <td>0.022</td>\n",
       "      <td>...</td>\n",
       "      <td>2019-10-10 12:44:35.957</td>\n",
       "      <td>Thursday</td>\n",
       "      <td>10</td>\n",
       "      <td>Hello!\\n\\nI see that Sage V11 patch 14 was com...</td>\n",
       "      <td>[Hello!, I see that Sage V11 patch 14 was comp...</td>\n",
       "      <td>[[Hello, !], [I, see, that, Sage, V11, patch, ...</td>\n",
       "      <td>[[Hello, !], [I, see, that, Sage, V11, patch, ...</td>\n",
       "      <td>[[(Hello, NN), (!, .)], [(I, PRP), (see, VBP),...</td>\n",
       "      <td>[[Hello, !], [I, see, that, Sage, V11, patch, ...</td>\n",
       "      <td>[patch, complete, october, least, patch, finde...</td>\n",
       "    </tr>\n",
       "    <tr>\n",
       "      <th>2</th>\n",
       "      <td>2</td>\n",
       "      <td>62</td>\n",
       "      <td>673</td>\n",
       "      <td>Sage X3 Announcements, News, and Alerts</td>\n",
       "      <td>Sage X3 12.0.19 and Patch 19 Add-ons Updates h...</td>\n",
       "      <td>2019-10-10T14:56:52.947</td>\n",
       "      <td>Alecia</td>\n",
       "      <td>To access this download, log into https://supp...</td>\n",
       "      <td>0.9359</td>\n",
       "      <td>0.000</td>\n",
       "      <td>...</td>\n",
       "      <td>2019-10-10 14:56:52.947</td>\n",
       "      <td>Thursday</td>\n",
       "      <td>10</td>\n",
       "      <td>To access this download, log into https://supp...</td>\n",
       "      <td>[To access this download, log into https://sup...</td>\n",
       "      <td>[[To, access, this, download, ,, log, into, ht...</td>\n",
       "      <td>[[To, access, this, download, ,, log, into, ht...</td>\n",
       "      <td>[[(To, TO), (access, NN), (this, DT), (downloa...</td>\n",
       "      <td>[[To, access, this, download, ,, log, into, ht...</td>\n",
       "      <td>[access, download, log, http, search, field, t...</td>\n",
       "    </tr>\n",
       "    <tr>\n",
       "      <th>3</th>\n",
       "      <td>3</td>\n",
       "      <td>63</td>\n",
       "      <td>673</td>\n",
       "      <td>Sage X3 Announcements, News, and Alerts</td>\n",
       "      <td>Sage X3 Warehousing (GEODE) v12.0.19 has been ...</td>\n",
       "      <td>2019-10-10T20:56:53.483</td>\n",
       "      <td>pnightingale</td>\n",
       "      <td>To access this download, log into https://supp...</td>\n",
       "      <td>0.9359</td>\n",
       "      <td>0.000</td>\n",
       "      <td>...</td>\n",
       "      <td>2019-10-10 20:56:53.483</td>\n",
       "      <td>Thursday</td>\n",
       "      <td>10</td>\n",
       "      <td>To access this download, log into https://supp...</td>\n",
       "      <td>[To access this download, log into https://sup...</td>\n",
       "      <td>[[To, access, this, download, ,, log, into, ht...</td>\n",
       "      <td>[[To, access, this, download, ,, log, into, ht...</td>\n",
       "      <td>[[(To, TO), (access, NN), (this, DT), (downloa...</td>\n",
       "      <td>[[To, access, this, download, ,, log, into, ht...</td>\n",
       "      <td>[access, download, log, http, search, field, t...</td>\n",
       "    </tr>\n",
       "    <tr>\n",
       "      <th>4</th>\n",
       "      <td>4</td>\n",
       "      <td>64</td>\n",
       "      <td>40</td>\n",
       "      <td>Sage X3 General Discussion</td>\n",
       "      <td>Modifying Stock Change ST2 object</td>\n",
       "      <td>2019-10-11T13:10:28.983</td>\n",
       "      <td>ChrisCC</td>\n",
       "      <td>I am trying to remove some of the columns on t...</td>\n",
       "      <td>0.5980</td>\n",
       "      <td>0.046</td>\n",
       "      <td>...</td>\n",
       "      <td>2019-10-11 13:10:28.983</td>\n",
       "      <td>Friday</td>\n",
       "      <td>11</td>\n",
       "      <td>I am trying to remove some of the columns on t...</td>\n",
       "      <td>[I am trying to remove some of the columns on ...</td>\n",
       "      <td>[[I, am, trying, to, remove, some, of, the, co...</td>\n",
       "      <td>[[I, am, trying, to, remove, some, of, the, co...</td>\n",
       "      <td>[[(I, PRP), (am, VBP), (trying, VBG), (to, TO)...</td>\n",
       "      <td>[[I, be, try, to, remove, some, of, the, colum...</td>\n",
       "      <td>[remove, column, object, stock, selection, bro...</td>\n",
       "    </tr>\n",
       "    <tr>\n",
       "      <th>...</th>\n",
       "      <td>...</td>\n",
       "      <td>...</td>\n",
       "      <td>...</td>\n",
       "      <td>...</td>\n",
       "      <td>...</td>\n",
       "      <td>...</td>\n",
       "      <td>...</td>\n",
       "      <td>...</td>\n",
       "      <td>...</td>\n",
       "      <td>...</td>\n",
       "      <td>...</td>\n",
       "      <td>...</td>\n",
       "      <td>...</td>\n",
       "      <td>...</td>\n",
       "      <td>...</td>\n",
       "      <td>...</td>\n",
       "      <td>...</td>\n",
       "      <td>...</td>\n",
       "      <td>...</td>\n",
       "      <td>...</td>\n",
       "      <td>...</td>\n",
       "    </tr>\n",
       "    <tr>\n",
       "      <th>1081</th>\n",
       "      <td>1081</td>\n",
       "      <td>2938</td>\n",
       "      <td>332</td>\n",
       "      <td>Sage Data &amp;amp; Analytics</td>\n",
       "      <td>dimension type setting</td>\n",
       "      <td>2020-04-29T11:08:12.53</td>\n",
       "      <td>Afrosage</td>\n",
       "      <td>\\nThe above pic is  carry forward selection ch...</td>\n",
       "      <td>0.5770</td>\n",
       "      <td>0.035</td>\n",
       "      <td>...</td>\n",
       "      <td>2020-04-29 11:08:12.530</td>\n",
       "      <td>Wednesday</td>\n",
       "      <td>29</td>\n",
       "      <td>\\nThe above pic is  carry forward selection ch...</td>\n",
       "      <td>[\\nThe above pic is  carry forward selection c...</td>\n",
       "      <td>[[The, above, pic, is, carry, forward, selecti...</td>\n",
       "      <td>[[The, above, pic, is, carry, forward, selecti...</td>\n",
       "      <td>[[(The, DT), (above, JJ), (pic, NN), (is, VBZ)...</td>\n",
       "      <td>[[The, above, pic, be, carry, forward, selecti...</td>\n",
       "      <td>[pic, carry, forward, selection, check, unchec...</td>\n",
       "    </tr>\n",
       "    <tr>\n",
       "      <th>1082</th>\n",
       "      <td>1082</td>\n",
       "      <td>2939</td>\n",
       "      <td>332</td>\n",
       "      <td>Sage Data &amp;amp; Analytics</td>\n",
       "      <td>PORDERQ - RETRCPDAT field ?</td>\n",
       "      <td>2020-04-23T11:51:48.66</td>\n",
       "      <td>Nicolasson</td>\n",
       "      <td>Hello guys, \\n\\nI hope you are well. \\n\\nI mad...</td>\n",
       "      <td>0.9136</td>\n",
       "      <td>0.000</td>\n",
       "      <td>...</td>\n",
       "      <td>2020-04-23 11:51:48.660</td>\n",
       "      <td>Thursday</td>\n",
       "      <td>23</td>\n",
       "      <td>Hello guys, \\n\\nI hope you are well. \\n\\nI mad...</td>\n",
       "      <td>[Hello guys, \\n\\nI hope you are well., I made ...</td>\n",
       "      <td>[[Hello, guys, ,, I, hope, you, are, well, .],...</td>\n",
       "      <td>[[Hello, guys, ,, I, hope, you, are, well, .],...</td>\n",
       "      <td>[[(Hello, NNP), (guys, NNS), (,, ,), (I, PRP),...</td>\n",
       "      <td>[[Hello, guy, ,, I, hope, you, be, well, .], [...</td>\n",
       "      <td>[guy, hope, well, research, surprisingly, find...</td>\n",
       "    </tr>\n",
       "    <tr>\n",
       "      <th>1083</th>\n",
       "      <td>1083</td>\n",
       "      <td>2940</td>\n",
       "      <td>332</td>\n",
       "      <td>Sage Data &amp;amp; Analytics</td>\n",
       "      <td>Supplier Invoice/Memo Import</td>\n",
       "      <td>2020-04-23T19:33:37.777</td>\n",
       "      <td>Warren Guan</td>\n",
       "      <td>It says all the lines are converted but it did...</td>\n",
       "      <td>0.4497</td>\n",
       "      <td>0.000</td>\n",
       "      <td>...</td>\n",
       "      <td>2020-04-23 19:33:37.777</td>\n",
       "      <td>Thursday</td>\n",
       "      <td>23</td>\n",
       "      <td>It says all the lines are converted but it did...</td>\n",
       "      <td>[It says all the lines are converted but it di...</td>\n",
       "      <td>[[It, says, all, the, lines, are, converted, b...</td>\n",
       "      <td>[[It, says, all, the, lines, are, converted, b...</td>\n",
       "      <td>[[(It, PRP), (says, VBZ), (all, PDT), (the, DT...</td>\n",
       "      <td>[[It, say, all, the, line, be, convert, but, i...</td>\n",
       "      <td>[line, convert, generate, dat, file, idea, ple...</td>\n",
       "    </tr>\n",
       "    <tr>\n",
       "      <th>1084</th>\n",
       "      <td>1084</td>\n",
       "      <td>2941</td>\n",
       "      <td>332</td>\n",
       "      <td>Sage Data &amp;amp; Analytics</td>\n",
       "      <td>year closing</td>\n",
       "      <td>2020-01-20T07:01:58.37</td>\n",
       "      <td>info@epochholland.nl</td>\n",
       "      <td></td>\n",
       "      <td>0.0000</td>\n",
       "      <td>0.000</td>\n",
       "      <td>...</td>\n",
       "      <td>2020-01-20 07:01:58.370</td>\n",
       "      <td>Monday</td>\n",
       "      <td>20</td>\n",
       "      <td></td>\n",
       "      <td>[]</td>\n",
       "      <td>[]</td>\n",
       "      <td>[]</td>\n",
       "      <td>[]</td>\n",
       "      <td>[]</td>\n",
       "      <td>[]</td>\n",
       "    </tr>\n",
       "    <tr>\n",
       "      <th>1085</th>\n",
       "      <td>1085</td>\n",
       "      <td>2942</td>\n",
       "      <td>332</td>\n",
       "      <td>Sage Data &amp;amp; Analytics</td>\n",
       "      <td>add CPTANALIN table to requester</td>\n",
       "      <td>2019-10-10T15:41:06.877</td>\n",
       "      <td>Christine T.</td>\n",
       "      <td>requester links aren't my strong suit- I can h...</td>\n",
       "      <td>0.7905</td>\n",
       "      <td>0.041</td>\n",
       "      <td>...</td>\n",
       "      <td>2019-10-10 15:41:06.877</td>\n",
       "      <td>Thursday</td>\n",
       "      <td>10</td>\n",
       "      <td>requester links aren't my strong suit- I can h...</td>\n",
       "      <td>[requester links aren't my strong suit- I can ...</td>\n",
       "      <td>[[requester, links, are, n't, my, strong, suit...</td>\n",
       "      <td>[[requester, links, are, n't, my, strong, suit...</td>\n",
       "      <td>[[(requester, NN), (links, NNS), (are, VBP), (...</td>\n",
       "      <td>[[requester, link, be, n't, my, strong, suit-,...</td>\n",
       "      <td>[requester, link, strong, handle, crystal, rep...</td>\n",
       "    </tr>\n",
       "  </tbody>\n",
       "</table>\n",
       "<p>1086 rows × 23 columns</p>\n",
       "</div>"
      ],
      "text/plain": [
       "      level_0  index  Forum ID                               Forum Name  \\\n",
       "0           0      0        40               Sage X3 General Discussion   \n",
       "1           1     31        40               Sage X3 General Discussion   \n",
       "2           2     62       673  Sage X3 Announcements, News, and Alerts   \n",
       "3           3     63       673  Sage X3 Announcements, News, and Alerts   \n",
       "4           4     64        40               Sage X3 General Discussion   \n",
       "...       ...    ...       ...                                      ...   \n",
       "1081     1081   2938       332                Sage Data &amp; Analytics   \n",
       "1082     1082   2939       332                Sage Data &amp; Analytics   \n",
       "1083     1083   2940       332                Sage Data &amp; Analytics   \n",
       "1084     1084   2941       332                Sage Data &amp; Analytics   \n",
       "1085     1085   2942       332                Sage Data &amp; Analytics   \n",
       "\n",
       "                                                Subject  \\\n",
       "0                              ERP help urgently needed   \n",
       "1                     Sage V11 patch 14 - release soon?   \n",
       "2     Sage X3 12.0.19 and Patch 19 Add-ons Updates h...   \n",
       "3     Sage X3 Warehousing (GEODE) v12.0.19 has been ...   \n",
       "4                     Modifying Stock Change ST2 object   \n",
       "...                                                 ...   \n",
       "1081                             dimension type setting   \n",
       "1082                        PORDERQ - RETRCPDAT field ?   \n",
       "1083                       Supplier Invoice/Memo Import   \n",
       "1084                                       year closing   \n",
       "1085                   add CPTANALIN table to requester   \n",
       "\n",
       "                    Post Date      User DisplayName  \\\n",
       "0      2019-10-10T05:58:05.73           ChinusGomes   \n",
       "1     2019-10-10T12:44:35.957                 AnikB   \n",
       "2     2019-10-10T14:56:52.947                Alecia   \n",
       "3     2019-10-10T20:56:53.483          pnightingale   \n",
       "4     2019-10-11T13:10:28.983               ChrisCC   \n",
       "...                       ...                   ...   \n",
       "1081   2020-04-29T11:08:12.53              Afrosage   \n",
       "1082   2020-04-23T11:51:48.66            Nicolasson   \n",
       "1083  2020-04-23T19:33:37.777           Warren Guan   \n",
       "1084   2020-01-20T07:01:58.37  info@epochholland.nl   \n",
       "1085  2019-10-10T15:41:06.877          Christine T.   \n",
       "\n",
       "                                         Forum_Post_Raw  compound    neg  ...  \\\n",
       "0     Company upgraded to windows 10. Used to run an...    0.0387  0.063  ...   \n",
       "1     Hello!\\n\\nI see that Sage V11 patch 14 was com...    0.7044  0.022  ...   \n",
       "2     To access this download, log into https://supp...    0.9359  0.000  ...   \n",
       "3     To access this download, log into https://supp...    0.9359  0.000  ...   \n",
       "4     I am trying to remove some of the columns on t...    0.5980  0.046  ...   \n",
       "...                                                 ...       ...    ...  ...   \n",
       "1081  \\nThe above pic is  carry forward selection ch...    0.5770  0.035  ...   \n",
       "1082  Hello guys, \\n\\nI hope you are well. \\n\\nI mad...    0.9136  0.000  ...   \n",
       "1083  It says all the lines are converted but it did...    0.4497  0.000  ...   \n",
       "1084                                                       0.0000  0.000  ...   \n",
       "1085  requester links aren't my strong suit- I can h...    0.7905  0.041  ...   \n",
       "\n",
       "                    PostDate    DayName DayOfMonth  \\\n",
       "0    2019-10-10 05:58:05.730   Thursday         10   \n",
       "1    2019-10-10 12:44:35.957   Thursday         10   \n",
       "2    2019-10-10 14:56:52.947   Thursday         10   \n",
       "3    2019-10-10 20:56:53.483   Thursday         10   \n",
       "4    2019-10-11 13:10:28.983     Friday         11   \n",
       "...                      ...        ...        ...   \n",
       "1081 2020-04-29 11:08:12.530  Wednesday         29   \n",
       "1082 2020-04-23 11:51:48.660   Thursday         23   \n",
       "1083 2020-04-23 19:33:37.777   Thursday         23   \n",
       "1084 2020-01-20 07:01:58.370     Monday         20   \n",
       "1085 2019-10-10 15:41:06.877   Thursday         10   \n",
       "\n",
       "                                              ShortText  \\\n",
       "0     Company upgraded to windows 10. Used to run an...   \n",
       "1     Hello!\\n\\nI see that Sage V11 patch 14 was com...   \n",
       "2     To access this download, log into https://supp...   \n",
       "3     To access this download, log into https://supp...   \n",
       "4     I am trying to remove some of the columns on t...   \n",
       "...                                                 ...   \n",
       "1081  \\nThe above pic is  carry forward selection ch...   \n",
       "1082  Hello guys, \\n\\nI hope you are well. \\n\\nI mad...   \n",
       "1083  It says all the lines are converted but it did...   \n",
       "1084                                                      \n",
       "1085  requester links aren't my strong suit- I can h...   \n",
       "\n",
       "                                              sentences  \\\n",
       "0     [Company upgraded to windows 10., Used to run ...   \n",
       "1     [Hello!, I see that Sage V11 patch 14 was comp...   \n",
       "2     [To access this download, log into https://sup...   \n",
       "3     [To access this download, log into https://sup...   \n",
       "4     [I am trying to remove some of the columns on ...   \n",
       "...                                                 ...   \n",
       "1081  [\\nThe above pic is  carry forward selection c...   \n",
       "1082  [Hello guys, \\n\\nI hope you are well., I made ...   \n",
       "1083  [It says all the lines are converted but it di...   \n",
       "1084                                                 []   \n",
       "1085  [requester links aren't my strong suit- I can ...   \n",
       "\n",
       "                                        token_sentences  \\\n",
       "0     [[Company, upgraded, to, windows, 10, .], [Use...   \n",
       "1     [[Hello, !], [I, see, that, Sage, V11, patch, ...   \n",
       "2     [[To, access, this, download, ,, log, into, ht...   \n",
       "3     [[To, access, this, download, ,, log, into, ht...   \n",
       "4     [[I, am, trying, to, remove, some, of, the, co...   \n",
       "...                                                 ...   \n",
       "1081  [[The, above, pic, is, carry, forward, selecti...   \n",
       "1082  [[Hello, guys, ,, I, hope, you, are, well, .],...   \n",
       "1083  [[It, says, all, the, lines, are, converted, b...   \n",
       "1084                                                 []   \n",
       "1085  [[requester, links, are, n't, my, strong, suit...   \n",
       "\n",
       "                                       tokens_sentences  \\\n",
       "0     [[Company, upgraded, to, windows, 10, .], [Use...   \n",
       "1     [[Hello, !], [I, see, that, Sage, V11, patch, ...   \n",
       "2     [[To, access, this, download, ,, log, into, ht...   \n",
       "3     [[To, access, this, download, ,, log, into, ht...   \n",
       "4     [[I, am, trying, to, remove, some, of, the, co...   \n",
       "...                                                 ...   \n",
       "1081  [[The, above, pic, is, carry, forward, selecti...   \n",
       "1082  [[Hello, guys, ,, I, hope, you, are, well, .],...   \n",
       "1083  [[It, says, all, the, lines, are, converted, b...   \n",
       "1084                                                 []   \n",
       "1085  [[requester, links, are, n't, my, strong, suit...   \n",
       "\n",
       "                                             POS_tokens  \\\n",
       "0     [[(Company, NN), (upgraded, VBD), (to, TO), (w...   \n",
       "1     [[(Hello, NN), (!, .)], [(I, PRP), (see, VBP),...   \n",
       "2     [[(To, TO), (access, NN), (this, DT), (downloa...   \n",
       "3     [[(To, TO), (access, NN), (this, DT), (downloa...   \n",
       "4     [[(I, PRP), (am, VBP), (trying, VBG), (to, TO)...   \n",
       "...                                                 ...   \n",
       "1081  [[(The, DT), (above, JJ), (pic, NN), (is, VBZ)...   \n",
       "1082  [[(Hello, NNP), (guys, NNS), (,, ,), (I, PRP),...   \n",
       "1083  [[(It, PRP), (says, VBZ), (all, PDT), (the, DT...   \n",
       "1084                                                 []   \n",
       "1085  [[(requester, NN), (links, NNS), (are, VBP), (...   \n",
       "\n",
       "                            tokens_sentences_lemmatized  \\\n",
       "0     [[Company, upgrade, to, windows, 10, .], [Used...   \n",
       "1     [[Hello, !], [I, see, that, Sage, V11, patch, ...   \n",
       "2     [[To, access, this, download, ,, log, into, ht...   \n",
       "3     [[To, access, this, download, ,, log, into, ht...   \n",
       "4     [[I, be, try, to, remove, some, of, the, colum...   \n",
       "...                                                 ...   \n",
       "1081  [[The, above, pic, be, carry, forward, selecti...   \n",
       "1082  [[Hello, guy, ,, I, hope, you, be, well, .], [...   \n",
       "1083  [[It, say, all, the, line, be, convert, but, i...   \n",
       "1084                                                 []   \n",
       "1085  [[requester, link, be, n't, my, strong, suit-,...   \n",
       "\n",
       "                                                 tokens  \n",
       "0     [company, upgrade, windows, used, run, erp, pr...  \n",
       "1     [patch, complete, october, least, patch, finde...  \n",
       "2     [access, download, log, http, search, field, t...  \n",
       "3     [access, download, log, http, search, field, t...  \n",
       "4     [remove, column, object, stock, selection, bro...  \n",
       "...                                                 ...  \n",
       "1081  [pic, carry, forward, selection, check, unchec...  \n",
       "1082  [guy, hope, well, research, surprisingly, find...  \n",
       "1083  [line, convert, generate, dat, file, idea, ple...  \n",
       "1084                                                 []  \n",
       "1085  [requester, link, strong, handle, crystal, rep...  \n",
       "\n",
       "[1086 rows x 23 columns]"
      ]
     },
     "execution_count": 271,
     "metadata": {},
     "output_type": "execute_result"
    }
   ],
   "source": [
    "dfBob = dfBob.reset_index()\n",
    "dfBob"
   ]
  },
  {
   "cell_type": "code",
   "execution_count": 272,
   "metadata": {},
   "outputs": [
    {
     "name": "stderr",
     "output_type": "stream",
     "text": [
      "C:\\Users\\BDelamater\\Anaconda3\\lib\\site-packages\\ipykernel\\ipkernel.py:287: DeprecationWarning:\n",
      "\n",
      "`should_run_async` will not call `transform_cell` automatically in the future. Please pass the result to `transformed_cell` argument and any exception that happen during thetransform in `preprocessing_exc_tuple` in IPython 7.17 and above.\n",
      "\n"
     ]
    },
    {
     "data": {
      "text/html": [
       "<div>\n",
       "<style scoped>\n",
       "    .dataframe tbody tr th:only-of-type {\n",
       "        vertical-align: middle;\n",
       "    }\n",
       "\n",
       "    .dataframe tbody tr th {\n",
       "        vertical-align: top;\n",
       "    }\n",
       "\n",
       "    .dataframe thead th {\n",
       "        text-align: right;\n",
       "    }\n",
       "</style>\n",
       "<table border=\"1\" class=\"dataframe\">\n",
       "  <thead>\n",
       "    <tr style=\"text-align: right;\">\n",
       "      <th></th>\n",
       "      <th>0</th>\n",
       "      <th>1</th>\n",
       "      <th>2</th>\n",
       "    </tr>\n",
       "  </thead>\n",
       "  <tbody>\n",
       "    <tr>\n",
       "      <th>0</th>\n",
       "      <td>0.000000</td>\n",
       "      <td>0.999445</td>\n",
       "      <td>0.000000</td>\n",
       "    </tr>\n",
       "    <tr>\n",
       "      <th>1</th>\n",
       "      <td>0.000000</td>\n",
       "      <td>0.796473</td>\n",
       "      <td>0.203224</td>\n",
       "    </tr>\n",
       "    <tr>\n",
       "      <th>2</th>\n",
       "      <td>0.998949</td>\n",
       "      <td>0.000000</td>\n",
       "      <td>0.000000</td>\n",
       "    </tr>\n",
       "    <tr>\n",
       "      <th>3</th>\n",
       "      <td>0.998949</td>\n",
       "      <td>0.000000</td>\n",
       "      <td>0.000000</td>\n",
       "    </tr>\n",
       "    <tr>\n",
       "      <th>4</th>\n",
       "      <td>0.000000</td>\n",
       "      <td>0.150335</td>\n",
       "      <td>0.849211</td>\n",
       "    </tr>\n",
       "    <tr>\n",
       "      <th>...</th>\n",
       "      <td>...</td>\n",
       "      <td>...</td>\n",
       "      <td>...</td>\n",
       "    </tr>\n",
       "    <tr>\n",
       "      <th>1081</th>\n",
       "      <td>0.000000</td>\n",
       "      <td>0.000000</td>\n",
       "      <td>0.999131</td>\n",
       "    </tr>\n",
       "    <tr>\n",
       "      <th>1082</th>\n",
       "      <td>0.998186</td>\n",
       "      <td>0.000000</td>\n",
       "      <td>0.000000</td>\n",
       "    </tr>\n",
       "    <tr>\n",
       "      <th>1083</th>\n",
       "      <td>0.996023</td>\n",
       "      <td>0.000000</td>\n",
       "      <td>0.000000</td>\n",
       "    </tr>\n",
       "    <tr>\n",
       "      <th>1084</th>\n",
       "      <td>0.333333</td>\n",
       "      <td>0.333333</td>\n",
       "      <td>0.333333</td>\n",
       "    </tr>\n",
       "    <tr>\n",
       "      <th>1085</th>\n",
       "      <td>0.358191</td>\n",
       "      <td>0.000000</td>\n",
       "      <td>0.640902</td>\n",
       "    </tr>\n",
       "  </tbody>\n",
       "</table>\n",
       "<p>1086 rows × 3 columns</p>\n",
       "</div>"
      ],
      "text/plain": [
       "             0         1         2\n",
       "0     0.000000  0.999445  0.000000\n",
       "1     0.000000  0.796473  0.203224\n",
       "2     0.998949  0.000000  0.000000\n",
       "3     0.998949  0.000000  0.000000\n",
       "4     0.000000  0.150335  0.849211\n",
       "...        ...       ...       ...\n",
       "1081  0.000000  0.000000  0.999131\n",
       "1082  0.998186  0.000000  0.000000\n",
       "1083  0.996023  0.000000  0.000000\n",
       "1084  0.333333  0.333333  0.333333\n",
       "1085  0.358191  0.000000  0.640902\n",
       "\n",
       "[1086 rows x 3 columns]"
      ]
     },
     "execution_count": 272,
     "metadata": {},
     "output_type": "execute_result"
    }
   ],
   "source": [
    "document_topic"
   ]
  },
  {
   "cell_type": "code",
   "execution_count": 273,
   "metadata": {},
   "outputs": [
    {
     "name": "stdout",
     "output_type": "stream",
     "text": [
      "(1086, 23)\n"
     ]
    },
    {
     "name": "stderr",
     "output_type": "stream",
     "text": [
      "C:\\Users\\BDelamater\\Anaconda3\\lib\\site-packages\\ipykernel\\ipkernel.py:287: DeprecationWarning:\n",
      "\n",
      "`should_run_async` will not call `transform_cell` automatically in the future. Please pass the result to `transformed_cell` argument and any exception that happen during thetransform in `preprocessing_exc_tuple` in IPython 7.17 and above.\n",
      "\n"
     ]
    }
   ],
   "source": [
    "dfLDA = dfBob.copy()\n",
    "print(dfLDA.shape)"
   ]
  },
  {
   "cell_type": "code",
   "execution_count": 276,
   "metadata": {},
   "outputs": [
    {
     "name": "stderr",
     "output_type": "stream",
     "text": [
      "C:\\Users\\BDelamater\\Anaconda3\\lib\\site-packages\\ipykernel\\ipkernel.py:287: DeprecationWarning:\n",
      "\n",
      "`should_run_async` will not call `transform_cell` automatically in the future. Please pass the result to `transformed_cell` argument and any exception that happen during thetransform in `preprocessing_exc_tuple` in IPython 7.17 and above.\n",
      "\n"
     ]
    },
    {
     "data": {
      "text/html": [
       "<div>\n",
       "<style scoped>\n",
       "    .dataframe tbody tr th:only-of-type {\n",
       "        vertical-align: middle;\n",
       "    }\n",
       "\n",
       "    .dataframe tbody tr th {\n",
       "        vertical-align: top;\n",
       "    }\n",
       "\n",
       "    .dataframe thead th {\n",
       "        text-align: right;\n",
       "    }\n",
       "</style>\n",
       "<table border=\"1\" class=\"dataframe\">\n",
       "  <thead>\n",
       "    <tr style=\"text-align: right;\">\n",
       "      <th></th>\n",
       "      <th>level_0</th>\n",
       "      <th>index</th>\n",
       "      <th>Forum ID</th>\n",
       "      <th>Forum Name</th>\n",
       "      <th>Subject</th>\n",
       "      <th>Post Date</th>\n",
       "      <th>User DisplayName</th>\n",
       "      <th>Forum_Post_Raw</th>\n",
       "      <th>compound</th>\n",
       "      <th>neg</th>\n",
       "      <th>...</th>\n",
       "      <th>tokens_sentences</th>\n",
       "      <th>POS_tokens</th>\n",
       "      <th>tokens_sentences_lemmatized</th>\n",
       "      <th>tokens</th>\n",
       "      <th>topic0</th>\n",
       "      <th>topic0_pct</th>\n",
       "      <th>topic1</th>\n",
       "      <th>topic1_pct</th>\n",
       "      <th>topic2</th>\n",
       "      <th>topic2_pct</th>\n",
       "    </tr>\n",
       "  </thead>\n",
       "  <tbody>\n",
       "    <tr>\n",
       "      <th>0</th>\n",
       "      <td>0</td>\n",
       "      <td>0</td>\n",
       "      <td>40</td>\n",
       "      <td>Sage X3 General Discussion</td>\n",
       "      <td>ERP help urgently needed</td>\n",
       "      <td>2019-10-10T05:58:05.73</td>\n",
       "      <td>ChinusGomes</td>\n",
       "      <td>Company upgraded to windows 10. Used to run an...</td>\n",
       "      <td>0.0387</td>\n",
       "      <td>0.063</td>\n",
       "      <td>...</td>\n",
       "      <td>[[Company, upgraded, to, windows, 10, .], [Use...</td>\n",
       "      <td>[[(Company, NN), (upgraded, VBD), (to, TO), (w...</td>\n",
       "      <td>[[Company, upgrade, to, windows, 10, .], [Used...</td>\n",
       "      <td>[company, upgrade, windows, used, run, erp, pr...</td>\n",
       "      <td>1</td>\n",
       "      <td>0.999445</td>\n",
       "      <td>0</td>\n",
       "      <td>0.0</td>\n",
       "      <td>2</td>\n",
       "      <td>0.0</td>\n",
       "    </tr>\n",
       "    <tr>\n",
       "      <th>1</th>\n",
       "      <td>1</td>\n",
       "      <td>31</td>\n",
       "      <td>40</td>\n",
       "      <td>Sage X3 General Discussion</td>\n",
       "      <td>Sage V11 patch 14 - release soon?</td>\n",
       "      <td>2019-10-10T12:44:35.957</td>\n",
       "      <td>AnikB</td>\n",
       "      <td>Hello!\\n\\nI see that Sage V11 patch 14 was com...</td>\n",
       "      <td>0.7044</td>\n",
       "      <td>0.022</td>\n",
       "      <td>...</td>\n",
       "      <td>[[Hello, !], [I, see, that, Sage, V11, patch, ...</td>\n",
       "      <td>[[(Hello, NN), (!, .)], [(I, PRP), (see, VBP),...</td>\n",
       "      <td>[[Hello, !], [I, see, that, Sage, V11, patch, ...</td>\n",
       "      <td>[patch, complete, october, least, patch, finde...</td>\n",
       "      <td>1</td>\n",
       "      <td>0.796473</td>\n",
       "      <td>2</td>\n",
       "      <td>0.203224</td>\n",
       "      <td>0</td>\n",
       "      <td>0.0</td>\n",
       "    </tr>\n",
       "    <tr>\n",
       "      <th>2</th>\n",
       "      <td>2</td>\n",
       "      <td>62</td>\n",
       "      <td>673</td>\n",
       "      <td>Sage X3 Announcements, News, and Alerts</td>\n",
       "      <td>Sage X3 12.0.19 and Patch 19 Add-ons Updates h...</td>\n",
       "      <td>2019-10-10T14:56:52.947</td>\n",
       "      <td>Alecia</td>\n",
       "      <td>To access this download, log into https://supp...</td>\n",
       "      <td>0.9359</td>\n",
       "      <td>0.000</td>\n",
       "      <td>...</td>\n",
       "      <td>[[To, access, this, download, ,, log, into, ht...</td>\n",
       "      <td>[[(To, TO), (access, NN), (this, DT), (downloa...</td>\n",
       "      <td>[[To, access, this, download, ,, log, into, ht...</td>\n",
       "      <td>[access, download, log, http, search, field, t...</td>\n",
       "      <td>0</td>\n",
       "      <td>0.998949</td>\n",
       "      <td>1</td>\n",
       "      <td>0.0</td>\n",
       "      <td>2</td>\n",
       "      <td>0.0</td>\n",
       "    </tr>\n",
       "    <tr>\n",
       "      <th>3</th>\n",
       "      <td>3</td>\n",
       "      <td>63</td>\n",
       "      <td>673</td>\n",
       "      <td>Sage X3 Announcements, News, and Alerts</td>\n",
       "      <td>Sage X3 Warehousing (GEODE) v12.0.19 has been ...</td>\n",
       "      <td>2019-10-10T20:56:53.483</td>\n",
       "      <td>pnightingale</td>\n",
       "      <td>To access this download, log into https://supp...</td>\n",
       "      <td>0.9359</td>\n",
       "      <td>0.000</td>\n",
       "      <td>...</td>\n",
       "      <td>[[To, access, this, download, ,, log, into, ht...</td>\n",
       "      <td>[[(To, TO), (access, NN), (this, DT), (downloa...</td>\n",
       "      <td>[[To, access, this, download, ,, log, into, ht...</td>\n",
       "      <td>[access, download, log, http, search, field, t...</td>\n",
       "      <td>0</td>\n",
       "      <td>0.998949</td>\n",
       "      <td>1</td>\n",
       "      <td>0.0</td>\n",
       "      <td>2</td>\n",
       "      <td>0.0</td>\n",
       "    </tr>\n",
       "    <tr>\n",
       "      <th>4</th>\n",
       "      <td>4</td>\n",
       "      <td>64</td>\n",
       "      <td>40</td>\n",
       "      <td>Sage X3 General Discussion</td>\n",
       "      <td>Modifying Stock Change ST2 object</td>\n",
       "      <td>2019-10-11T13:10:28.983</td>\n",
       "      <td>ChrisCC</td>\n",
       "      <td>I am trying to remove some of the columns on t...</td>\n",
       "      <td>0.5980</td>\n",
       "      <td>0.046</td>\n",
       "      <td>...</td>\n",
       "      <td>[[I, am, trying, to, remove, some, of, the, co...</td>\n",
       "      <td>[[(I, PRP), (am, VBP), (trying, VBG), (to, TO)...</td>\n",
       "      <td>[[I, be, try, to, remove, some, of, the, colum...</td>\n",
       "      <td>[remove, column, object, stock, selection, bro...</td>\n",
       "      <td>2</td>\n",
       "      <td>0.849211</td>\n",
       "      <td>1</td>\n",
       "      <td>0.150335</td>\n",
       "      <td>0</td>\n",
       "      <td>0.0</td>\n",
       "    </tr>\n",
       "    <tr>\n",
       "      <th>5</th>\n",
       "      <td>5</td>\n",
       "      <td>95</td>\n",
       "      <td>40</td>\n",
       "      <td>Sage X3 General Discussion</td>\n",
       "      <td>Deliveries</td>\n",
       "      <td>2019-10-11T14:24:15.807</td>\n",
       "      <td>Juan Pablo G</td>\n",
       "      <td>Just to confirm, is not possible to change the...</td>\n",
       "      <td>0.0000</td>\n",
       "      <td>0.000</td>\n",
       "      <td>...</td>\n",
       "      <td>[[Just, to, confirm, ,, is, not, possible, to,...</td>\n",
       "      <td>[[(Just, RB), (to, TO), (confirm, VB), (,, ,),...</td>\n",
       "      <td>[[Just, to, confirm, ,, be, not, possible, to,...</td>\n",
       "      <td>[confirm, possible, change, uom, delivery, right]</td>\n",
       "      <td>0</td>\n",
       "      <td>0.995035</td>\n",
       "      <td>1</td>\n",
       "      <td>0.0</td>\n",
       "      <td>2</td>\n",
       "      <td>0.0</td>\n",
       "    </tr>\n",
       "    <tr>\n",
       "      <th>6</th>\n",
       "      <td>6</td>\n",
       "      <td>126</td>\n",
       "      <td>40</td>\n",
       "      <td>Sage X3 General Discussion</td>\n",
       "      <td>V12 Data Model</td>\n",
       "      <td>2019-10-11T16:02:41.787</td>\n",
       "      <td>Juan Pablo G</td>\n",
       "      <td>Is the online help data model correct for V12?...</td>\n",
       "      <td>0.4019</td>\n",
       "      <td>0.000</td>\n",
       "      <td>...</td>\n",
       "      <td>[[Is, the, online, help, data, model, correct,...</td>\n",
       "      <td>[[(Is, VBZ), (the, DT), (online, NN), (help, N...</td>\n",
       "      <td>[[Is, the, online, help, data, model, correct,...</td>\n",
       "      <td>[online, help, data, model, correct, file, show]</td>\n",
       "      <td>0</td>\n",
       "      <td>0.996023</td>\n",
       "      <td>1</td>\n",
       "      <td>0.0</td>\n",
       "      <td>2</td>\n",
       "      <td>0.0</td>\n",
       "    </tr>\n",
       "    <tr>\n",
       "      <th>7</th>\n",
       "      <td>7</td>\n",
       "      <td>157</td>\n",
       "      <td>40</td>\n",
       "      <td>Sage X3 General Discussion</td>\n",
       "      <td>Entering a manual check that is already in g/l</td>\n",
       "      <td>2019-10-13T20:01:08.897</td>\n",
       "      <td>JeffW-SageX3</td>\n",
       "      <td>Hi,\\nI am fairly new to X3 and I entered g/l d...</td>\n",
       "      <td>0.6124</td>\n",
       "      <td>0.000</td>\n",
       "      <td>...</td>\n",
       "      <td>[[Hi, ,, I, am, fairly, new, to, X3, and, I, e...</td>\n",
       "      <td>[[(Hi, NNP), (,, ,), (I, PRP), (am, VBP), (fai...</td>\n",
       "      <td>[[Hi, ,, I, be, fairly, new, to, X3, and, I, e...</td>\n",
       "      <td>[fairly, new, enter, data, payroll, already, e...</td>\n",
       "      <td>0</td>\n",
       "      <td>0.633222</td>\n",
       "      <td>2</td>\n",
       "      <td>0.365533</td>\n",
       "      <td>1</td>\n",
       "      <td>0.0</td>\n",
       "    </tr>\n",
       "    <tr>\n",
       "      <th>8</th>\n",
       "      <td>8</td>\n",
       "      <td>188</td>\n",
       "      <td>40</td>\n",
       "      <td>Sage X3 General Discussion</td>\n",
       "      <td>Field Option for Capitals</td>\n",
       "      <td>2019-10-14T05:55:32.553</td>\n",
       "      <td>JohannRSA</td>\n",
       "      <td>I am trying to make the Company Name field on ...</td>\n",
       "      <td>-0.6718</td>\n",
       "      <td>0.081</td>\n",
       "      <td>...</td>\n",
       "      <td>[[I, am, trying, to, make, the, Company, Name,...</td>\n",
       "      <td>[[(I, PRP), (am, VBP), (trying, VBG), (to, TO)...</td>\n",
       "      <td>[[I, be, try, to, make, the, Company, Name, fi...</td>\n",
       "      <td>[company, name, field, screen, case, option, c...</td>\n",
       "      <td>2</td>\n",
       "      <td>0.999311</td>\n",
       "      <td>0</td>\n",
       "      <td>0.0</td>\n",
       "      <td>1</td>\n",
       "      <td>0.0</td>\n",
       "    </tr>\n",
       "    <tr>\n",
       "      <th>9</th>\n",
       "      <td>9</td>\n",
       "      <td>219</td>\n",
       "      <td>40</td>\n",
       "      <td>Sage X3 General Discussion</td>\n",
       "      <td>Subtracting ADATIM</td>\n",
       "      <td>2019-10-14T08:33:18.01</td>\n",
       "      <td>ChrisCC</td>\n",
       "      <td>I created a alpha numeric field on the screen ...</td>\n",
       "      <td>0.2023</td>\n",
       "      <td>0.050</td>\n",
       "      <td>...</td>\n",
       "      <td>[[I, created, a, alpha, numeric, field, on, th...</td>\n",
       "      <td>[[(I, PRP), (created, VBD), (a, DT), (alpha, J...</td>\n",
       "      <td>[[I, create, a, alpha, numeric, field, on, the...</td>\n",
       "      <td>[create, alpha, numeric, field, screen, suppos...</td>\n",
       "      <td>2</td>\n",
       "      <td>0.522826</td>\n",
       "      <td>0</td>\n",
       "      <td>0.476698</td>\n",
       "      <td>1</td>\n",
       "      <td>0.0</td>\n",
       "    </tr>\n",
       "  </tbody>\n",
       "</table>\n",
       "<p>10 rows × 29 columns</p>\n",
       "</div>"
      ],
      "text/plain": [
       "   level_0  index  Forum ID                               Forum Name  \\\n",
       "0        0      0        40               Sage X3 General Discussion   \n",
       "1        1     31        40               Sage X3 General Discussion   \n",
       "2        2     62       673  Sage X3 Announcements, News, and Alerts   \n",
       "3        3     63       673  Sage X3 Announcements, News, and Alerts   \n",
       "4        4     64        40               Sage X3 General Discussion   \n",
       "5        5     95        40               Sage X3 General Discussion   \n",
       "6        6    126        40               Sage X3 General Discussion   \n",
       "7        7    157        40               Sage X3 General Discussion   \n",
       "8        8    188        40               Sage X3 General Discussion   \n",
       "9        9    219        40               Sage X3 General Discussion   \n",
       "\n",
       "                                             Subject                Post Date  \\\n",
       "0                           ERP help urgently needed   2019-10-10T05:58:05.73   \n",
       "1                  Sage V11 patch 14 - release soon?  2019-10-10T12:44:35.957   \n",
       "2  Sage X3 12.0.19 and Patch 19 Add-ons Updates h...  2019-10-10T14:56:52.947   \n",
       "3  Sage X3 Warehousing (GEODE) v12.0.19 has been ...  2019-10-10T20:56:53.483   \n",
       "4                  Modifying Stock Change ST2 object  2019-10-11T13:10:28.983   \n",
       "5                                         Deliveries  2019-10-11T14:24:15.807   \n",
       "6                                     V12 Data Model  2019-10-11T16:02:41.787   \n",
       "7     Entering a manual check that is already in g/l  2019-10-13T20:01:08.897   \n",
       "8                          Field Option for Capitals  2019-10-14T05:55:32.553   \n",
       "9                                 Subtracting ADATIM   2019-10-14T08:33:18.01   \n",
       "\n",
       "  User DisplayName                                     Forum_Post_Raw  \\\n",
       "0      ChinusGomes  Company upgraded to windows 10. Used to run an...   \n",
       "1            AnikB  Hello!\\n\\nI see that Sage V11 patch 14 was com...   \n",
       "2           Alecia  To access this download, log into https://supp...   \n",
       "3     pnightingale  To access this download, log into https://supp...   \n",
       "4          ChrisCC  I am trying to remove some of the columns on t...   \n",
       "5     Juan Pablo G  Just to confirm, is not possible to change the...   \n",
       "6     Juan Pablo G  Is the online help data model correct for V12?...   \n",
       "7     JeffW-SageX3  Hi,\\nI am fairly new to X3 and I entered g/l d...   \n",
       "8        JohannRSA  I am trying to make the Company Name field on ...   \n",
       "9          ChrisCC  I created a alpha numeric field on the screen ...   \n",
       "\n",
       "   compound    neg  ...                                   tokens_sentences  \\\n",
       "0    0.0387  0.063  ...  [[Company, upgraded, to, windows, 10, .], [Use...   \n",
       "1    0.7044  0.022  ...  [[Hello, !], [I, see, that, Sage, V11, patch, ...   \n",
       "2    0.9359  0.000  ...  [[To, access, this, download, ,, log, into, ht...   \n",
       "3    0.9359  0.000  ...  [[To, access, this, download, ,, log, into, ht...   \n",
       "4    0.5980  0.046  ...  [[I, am, trying, to, remove, some, of, the, co...   \n",
       "5    0.0000  0.000  ...  [[Just, to, confirm, ,, is, not, possible, to,...   \n",
       "6    0.4019  0.000  ...  [[Is, the, online, help, data, model, correct,...   \n",
       "7    0.6124  0.000  ...  [[Hi, ,, I, am, fairly, new, to, X3, and, I, e...   \n",
       "8   -0.6718  0.081  ...  [[I, am, trying, to, make, the, Company, Name,...   \n",
       "9    0.2023  0.050  ...  [[I, created, a, alpha, numeric, field, on, th...   \n",
       "\n",
       "                                          POS_tokens  \\\n",
       "0  [[(Company, NN), (upgraded, VBD), (to, TO), (w...   \n",
       "1  [[(Hello, NN), (!, .)], [(I, PRP), (see, VBP),...   \n",
       "2  [[(To, TO), (access, NN), (this, DT), (downloa...   \n",
       "3  [[(To, TO), (access, NN), (this, DT), (downloa...   \n",
       "4  [[(I, PRP), (am, VBP), (trying, VBG), (to, TO)...   \n",
       "5  [[(Just, RB), (to, TO), (confirm, VB), (,, ,),...   \n",
       "6  [[(Is, VBZ), (the, DT), (online, NN), (help, N...   \n",
       "7  [[(Hi, NNP), (,, ,), (I, PRP), (am, VBP), (fai...   \n",
       "8  [[(I, PRP), (am, VBP), (trying, VBG), (to, TO)...   \n",
       "9  [[(I, PRP), (created, VBD), (a, DT), (alpha, J...   \n",
       "\n",
       "                         tokens_sentences_lemmatized  \\\n",
       "0  [[Company, upgrade, to, windows, 10, .], [Used...   \n",
       "1  [[Hello, !], [I, see, that, Sage, V11, patch, ...   \n",
       "2  [[To, access, this, download, ,, log, into, ht...   \n",
       "3  [[To, access, this, download, ,, log, into, ht...   \n",
       "4  [[I, be, try, to, remove, some, of, the, colum...   \n",
       "5  [[Just, to, confirm, ,, be, not, possible, to,...   \n",
       "6  [[Is, the, online, help, data, model, correct,...   \n",
       "7  [[Hi, ,, I, be, fairly, new, to, X3, and, I, e...   \n",
       "8  [[I, be, try, to, make, the, Company, Name, fi...   \n",
       "9  [[I, create, a, alpha, numeric, field, on, the...   \n",
       "\n",
       "                                              tokens topic0  topic0_pct  \\\n",
       "0  [company, upgrade, windows, used, run, erp, pr...      1    0.999445   \n",
       "1  [patch, complete, october, least, patch, finde...      1    0.796473   \n",
       "2  [access, download, log, http, search, field, t...      0    0.998949   \n",
       "3  [access, download, log, http, search, field, t...      0    0.998949   \n",
       "4  [remove, column, object, stock, selection, bro...      2    0.849211   \n",
       "5  [confirm, possible, change, uom, delivery, right]      0    0.995035   \n",
       "6   [online, help, data, model, correct, file, show]      0    0.996023   \n",
       "7  [fairly, new, enter, data, payroll, already, e...      0    0.633222   \n",
       "8  [company, name, field, screen, case, option, c...      2    0.999311   \n",
       "9  [create, alpha, numeric, field, screen, suppos...      2    0.522826   \n",
       "\n",
       "  topic1 topic1_pct topic2 topic2_pct  \n",
       "0      0        0.0      2        0.0  \n",
       "1      2   0.203224      0        0.0  \n",
       "2      1        0.0      2        0.0  \n",
       "3      1        0.0      2        0.0  \n",
       "4      1   0.150335      0        0.0  \n",
       "5      1        0.0      2        0.0  \n",
       "6      1        0.0      2        0.0  \n",
       "7      2   0.365533      1        0.0  \n",
       "8      0        0.0      1        0.0  \n",
       "9      0   0.476698      1        0.0  \n",
       "\n",
       "[10 rows x 29 columns]"
      ]
     },
     "execution_count": 276,
     "metadata": {},
     "output_type": "execute_result"
    }
   ],
   "source": [
    "for i in range(0,3):\n",
    "    dfLDA['topic'+ str(i)]=None\n",
    "    dfLDA['topic'+str(i)+'_pct']=None\n",
    "\n",
    "for r in range(0,len(document_topic)):\n",
    "    ts = document_topic.loc[r].sort_values(ascending=False)[:3]\n",
    "    topic_nums = list(ts.index)\n",
    "    topic_pcts = list(ts)\n",
    "    for i in range(0,3):\n",
    "        dfLDA.at[r,'topic'+ str(i)]=topic_nums[i]\n",
    "        dfLDA.at[r,'topic'+ str(i)+'_pct']=topic_pcts[i]\n",
    "\n",
    "dfLDA.head(10)"
   ]
  },
  {
   "cell_type": "code",
   "execution_count": 275,
   "metadata": {},
   "outputs": [
    {
     "name": "stderr",
     "output_type": "stream",
     "text": [
      "C:\\Users\\BDelamater\\Anaconda3\\lib\\site-packages\\ipykernel\\ipkernel.py:287: DeprecationWarning:\n",
      "\n",
      "`should_run_async` will not call `transform_cell` automatically in the future. Please pass the result to `transformed_cell` argument and any exception that happen during thetransform in `preprocessing_exc_tuple` in IPython 7.17 and above.\n",
      "\n"
     ]
    },
    {
     "data": {
      "text/html": [
       "<div>\n",
       "<style scoped>\n",
       "    .dataframe tbody tr th:only-of-type {\n",
       "        vertical-align: middle;\n",
       "    }\n",
       "\n",
       "    .dataframe tbody tr th {\n",
       "        vertical-align: top;\n",
       "    }\n",
       "\n",
       "    .dataframe thead th {\n",
       "        text-align: right;\n",
       "    }\n",
       "</style>\n",
       "<table border=\"1\" class=\"dataframe\">\n",
       "  <thead>\n",
       "    <tr style=\"text-align: right;\">\n",
       "      <th></th>\n",
       "      <th>level_0</th>\n",
       "      <th>index</th>\n",
       "      <th>Forum ID</th>\n",
       "      <th>Forum Name</th>\n",
       "      <th>Subject</th>\n",
       "      <th>Post Date</th>\n",
       "      <th>User DisplayName</th>\n",
       "      <th>Forum_Post_Raw</th>\n",
       "      <th>compound</th>\n",
       "      <th>neg</th>\n",
       "      <th>...</th>\n",
       "      <th>tokens_sentences</th>\n",
       "      <th>POS_tokens</th>\n",
       "      <th>tokens_sentences_lemmatized</th>\n",
       "      <th>tokens</th>\n",
       "      <th>topic0</th>\n",
       "      <th>topic0_pct</th>\n",
       "      <th>topic1</th>\n",
       "      <th>topic1_pct</th>\n",
       "      <th>topic2</th>\n",
       "      <th>topic2_pct</th>\n",
       "    </tr>\n",
       "  </thead>\n",
       "  <tbody>\n",
       "    <tr>\n",
       "      <th>1081</th>\n",
       "      <td>1081</td>\n",
       "      <td>2938</td>\n",
       "      <td>332</td>\n",
       "      <td>Sage Data &amp;amp; Analytics</td>\n",
       "      <td>dimension type setting</td>\n",
       "      <td>2020-04-29T11:08:12.53</td>\n",
       "      <td>Afrosage</td>\n",
       "      <td>\\nThe above pic is  carry forward selection ch...</td>\n",
       "      <td>0.5770</td>\n",
       "      <td>0.035</td>\n",
       "      <td>...</td>\n",
       "      <td>[[The, above, pic, is, carry, forward, selecti...</td>\n",
       "      <td>[[(The, DT), (above, JJ), (pic, NN), (is, VBZ)...</td>\n",
       "      <td>[[The, above, pic, be, carry, forward, selecti...</td>\n",
       "      <td>[pic, carry, forward, selection, check, unchec...</td>\n",
       "      <td>2</td>\n",
       "      <td>0.999131</td>\n",
       "      <td>0</td>\n",
       "      <td>0.0</td>\n",
       "      <td>1</td>\n",
       "      <td>0.0</td>\n",
       "    </tr>\n",
       "    <tr>\n",
       "      <th>1082</th>\n",
       "      <td>1082</td>\n",
       "      <td>2939</td>\n",
       "      <td>332</td>\n",
       "      <td>Sage Data &amp;amp; Analytics</td>\n",
       "      <td>PORDERQ - RETRCPDAT field ?</td>\n",
       "      <td>2020-04-23T11:51:48.66</td>\n",
       "      <td>Nicolasson</td>\n",
       "      <td>Hello guys, \\n\\nI hope you are well. \\n\\nI mad...</td>\n",
       "      <td>0.9136</td>\n",
       "      <td>0.000</td>\n",
       "      <td>...</td>\n",
       "      <td>[[Hello, guys, ,, I, hope, you, are, well, .],...</td>\n",
       "      <td>[[(Hello, NNP), (guys, NNS), (,, ,), (I, PRP),...</td>\n",
       "      <td>[[Hello, guy, ,, I, hope, you, be, well, .], [...</td>\n",
       "      <td>[guy, hope, well, research, surprisingly, find...</td>\n",
       "      <td>0</td>\n",
       "      <td>0.998186</td>\n",
       "      <td>1</td>\n",
       "      <td>0.0</td>\n",
       "      <td>2</td>\n",
       "      <td>0.0</td>\n",
       "    </tr>\n",
       "    <tr>\n",
       "      <th>1083</th>\n",
       "      <td>1083</td>\n",
       "      <td>2940</td>\n",
       "      <td>332</td>\n",
       "      <td>Sage Data &amp;amp; Analytics</td>\n",
       "      <td>Supplier Invoice/Memo Import</td>\n",
       "      <td>2020-04-23T19:33:37.777</td>\n",
       "      <td>Warren Guan</td>\n",
       "      <td>It says all the lines are converted but it did...</td>\n",
       "      <td>0.4497</td>\n",
       "      <td>0.000</td>\n",
       "      <td>...</td>\n",
       "      <td>[[It, says, all, the, lines, are, converted, b...</td>\n",
       "      <td>[[(It, PRP), (says, VBZ), (all, PDT), (the, DT...</td>\n",
       "      <td>[[It, say, all, the, line, be, convert, but, i...</td>\n",
       "      <td>[line, convert, generate, dat, file, idea, ple...</td>\n",
       "      <td>0</td>\n",
       "      <td>0.996023</td>\n",
       "      <td>1</td>\n",
       "      <td>0.0</td>\n",
       "      <td>2</td>\n",
       "      <td>0.0</td>\n",
       "    </tr>\n",
       "    <tr>\n",
       "      <th>1084</th>\n",
       "      <td>1084</td>\n",
       "      <td>2941</td>\n",
       "      <td>332</td>\n",
       "      <td>Sage Data &amp;amp; Analytics</td>\n",
       "      <td>year closing</td>\n",
       "      <td>2020-01-20T07:01:58.37</td>\n",
       "      <td>info@epochholland.nl</td>\n",
       "      <td></td>\n",
       "      <td>0.0000</td>\n",
       "      <td>0.000</td>\n",
       "      <td>...</td>\n",
       "      <td>[]</td>\n",
       "      <td>[]</td>\n",
       "      <td>[]</td>\n",
       "      <td>[]</td>\n",
       "      <td>0</td>\n",
       "      <td>0.333333</td>\n",
       "      <td>1</td>\n",
       "      <td>0.333333</td>\n",
       "      <td>2</td>\n",
       "      <td>0.333333</td>\n",
       "    </tr>\n",
       "    <tr>\n",
       "      <th>1085</th>\n",
       "      <td>1085</td>\n",
       "      <td>2942</td>\n",
       "      <td>332</td>\n",
       "      <td>Sage Data &amp;amp; Analytics</td>\n",
       "      <td>add CPTANALIN table to requester</td>\n",
       "      <td>2019-10-10T15:41:06.877</td>\n",
       "      <td>Christine T.</td>\n",
       "      <td>requester links aren't my strong suit- I can h...</td>\n",
       "      <td>0.7905</td>\n",
       "      <td>0.041</td>\n",
       "      <td>...</td>\n",
       "      <td>[[requester, links, are, n't, my, strong, suit...</td>\n",
       "      <td>[[(requester, NN), (links, NNS), (are, VBP), (...</td>\n",
       "      <td>[[requester, link, be, n't, my, strong, suit-,...</td>\n",
       "      <td>[requester, link, strong, handle, crystal, rep...</td>\n",
       "      <td>2</td>\n",
       "      <td>0.640902</td>\n",
       "      <td>0</td>\n",
       "      <td>0.358191</td>\n",
       "      <td>1</td>\n",
       "      <td>0.0</td>\n",
       "    </tr>\n",
       "  </tbody>\n",
       "</table>\n",
       "<p>5 rows × 29 columns</p>\n",
       "</div>"
      ],
      "text/plain": [
       "      level_0  index  Forum ID                 Forum Name  \\\n",
       "1081     1081   2938       332  Sage Data &amp; Analytics   \n",
       "1082     1082   2939       332  Sage Data &amp; Analytics   \n",
       "1083     1083   2940       332  Sage Data &amp; Analytics   \n",
       "1084     1084   2941       332  Sage Data &amp; Analytics   \n",
       "1085     1085   2942       332  Sage Data &amp; Analytics   \n",
       "\n",
       "                               Subject                Post Date  \\\n",
       "1081            dimension type setting   2020-04-29T11:08:12.53   \n",
       "1082       PORDERQ - RETRCPDAT field ?   2020-04-23T11:51:48.66   \n",
       "1083      Supplier Invoice/Memo Import  2020-04-23T19:33:37.777   \n",
       "1084                      year closing   2020-01-20T07:01:58.37   \n",
       "1085  add CPTANALIN table to requester  2019-10-10T15:41:06.877   \n",
       "\n",
       "          User DisplayName                                     Forum_Post_Raw  \\\n",
       "1081              Afrosage  \\nThe above pic is  carry forward selection ch...   \n",
       "1082            Nicolasson  Hello guys, \\n\\nI hope you are well. \\n\\nI mad...   \n",
       "1083           Warren Guan  It says all the lines are converted but it did...   \n",
       "1084  info@epochholland.nl                                                      \n",
       "1085          Christine T.  requester links aren't my strong suit- I can h...   \n",
       "\n",
       "      compound    neg  ...                                   tokens_sentences  \\\n",
       "1081    0.5770  0.035  ...  [[The, above, pic, is, carry, forward, selecti...   \n",
       "1082    0.9136  0.000  ...  [[Hello, guys, ,, I, hope, you, are, well, .],...   \n",
       "1083    0.4497  0.000  ...  [[It, says, all, the, lines, are, converted, b...   \n",
       "1084    0.0000  0.000  ...                                                 []   \n",
       "1085    0.7905  0.041  ...  [[requester, links, are, n't, my, strong, suit...   \n",
       "\n",
       "                                             POS_tokens  \\\n",
       "1081  [[(The, DT), (above, JJ), (pic, NN), (is, VBZ)...   \n",
       "1082  [[(Hello, NNP), (guys, NNS), (,, ,), (I, PRP),...   \n",
       "1083  [[(It, PRP), (says, VBZ), (all, PDT), (the, DT...   \n",
       "1084                                                 []   \n",
       "1085  [[(requester, NN), (links, NNS), (are, VBP), (...   \n",
       "\n",
       "                            tokens_sentences_lemmatized  \\\n",
       "1081  [[The, above, pic, be, carry, forward, selecti...   \n",
       "1082  [[Hello, guy, ,, I, hope, you, be, well, .], [...   \n",
       "1083  [[It, say, all, the, line, be, convert, but, i...   \n",
       "1084                                                 []   \n",
       "1085  [[requester, link, be, n't, my, strong, suit-,...   \n",
       "\n",
       "                                                 tokens topic0  topic0_pct  \\\n",
       "1081  [pic, carry, forward, selection, check, unchec...      2    0.999131   \n",
       "1082  [guy, hope, well, research, surprisingly, find...      0    0.998186   \n",
       "1083  [line, convert, generate, dat, file, idea, ple...      0    0.996023   \n",
       "1084                                                 []      0    0.333333   \n",
       "1085  [requester, link, strong, handle, crystal, rep...      2    0.640902   \n",
       "\n",
       "     topic1 topic1_pct topic2 topic2_pct  \n",
       "1081      0        0.0      1        0.0  \n",
       "1082      1        0.0      2        0.0  \n",
       "1083      1        0.0      2        0.0  \n",
       "1084      1   0.333333      2   0.333333  \n",
       "1085      0   0.358191      1        0.0  \n",
       "\n",
       "[5 rows x 29 columns]"
      ]
     },
     "execution_count": 275,
     "metadata": {},
     "output_type": "execute_result"
    }
   ],
   "source": [
    "dfLDA.tail()\n"
   ]
  },
  {
   "cell_type": "code",
   "execution_count": 266,
   "metadata": {},
   "outputs": [
    {
     "name": "stderr",
     "output_type": "stream",
     "text": [
      "C:\\Users\\BDelamater\\Anaconda3\\lib\\site-packages\\ipykernel\\ipkernel.py:287: DeprecationWarning:\n",
      "\n",
      "`should_run_async` will not call `transform_cell` automatically in the future. Please pass the result to `transformed_cell` argument and any exception that happen during thetransform in `preprocessing_exc_tuple` in IPython 7.17 and above.\n",
      "\n"
     ]
    },
    {
     "data": {
      "text/plain": [
       "(2126, 27)"
      ]
     },
     "execution_count": 266,
     "metadata": {},
     "output_type": "execute_result"
    }
   ],
   "source": [
    "dfLDA.shape"
   ]
  },
  {
   "cell_type": "code",
   "execution_count": 267,
   "metadata": {},
   "outputs": [
    {
     "name": "stderr",
     "output_type": "stream",
     "text": [
      "C:\\Users\\BDelamater\\Anaconda3\\lib\\site-packages\\ipykernel\\ipkernel.py:287: DeprecationWarning:\n",
      "\n",
      "`should_run_async` will not call `transform_cell` automatically in the future. Please pass the result to `transformed_cell` argument and any exception that happen during thetransform in `preprocessing_exc_tuple` in IPython 7.17 and above.\n",
      "\n"
     ]
    },
    {
     "data": {
      "text/html": [
       "<div>\n",
       "<style scoped>\n",
       "    .dataframe tbody tr th:only-of-type {\n",
       "        vertical-align: middle;\n",
       "    }\n",
       "\n",
       "    .dataframe tbody tr th {\n",
       "        vertical-align: top;\n",
       "    }\n",
       "\n",
       "    .dataframe thead th {\n",
       "        text-align: right;\n",
       "    }\n",
       "</style>\n",
       "<table border=\"1\" class=\"dataframe\">\n",
       "  <thead>\n",
       "    <tr style=\"text-align: right;\">\n",
       "      <th></th>\n",
       "      <th>Forum ID</th>\n",
       "      <th>Forum Name</th>\n",
       "      <th>Subject</th>\n",
       "      <th>Post Date</th>\n",
       "      <th>User DisplayName</th>\n",
       "      <th>Forum_Post_Raw</th>\n",
       "      <th>compound</th>\n",
       "      <th>neg</th>\n",
       "      <th>neu</th>\n",
       "      <th>pos</th>\n",
       "      <th>...</th>\n",
       "      <th>tokens_sentences</th>\n",
       "      <th>POS_tokens</th>\n",
       "      <th>tokens_sentences_lemmatized</th>\n",
       "      <th>tokens</th>\n",
       "      <th>topic0</th>\n",
       "      <th>topic0_pct</th>\n",
       "      <th>topic1</th>\n",
       "      <th>topic1_pct</th>\n",
       "      <th>topic2</th>\n",
       "      <th>topic2_pct</th>\n",
       "    </tr>\n",
       "  </thead>\n",
       "  <tbody>\n",
       "    <tr>\n",
       "      <th>157</th>\n",
       "      <td>40.0</td>\n",
       "      <td>Sage X3 General Discussion</td>\n",
       "      <td>Entering a manual check that is already in g/l</td>\n",
       "      <td>2019-10-13T20:01:08.897</td>\n",
       "      <td>JeffW-SageX3</td>\n",
       "      <td>Hi,\\nI am fairly new to X3 and I entered g/l d...</td>\n",
       "      <td>0.6124</td>\n",
       "      <td>0.000</td>\n",
       "      <td>0.906</td>\n",
       "      <td>0.094</td>\n",
       "      <td>...</td>\n",
       "      <td>[[Hi, ,, I, am, fairly, new, to, X3, and, I, e...</td>\n",
       "      <td>[[(Hi, NNP), (,, ,), (I, PRP), (am, VBP), (fai...</td>\n",
       "      <td>[[Hi, ,, I, be, fairly, new, to, X3, and, I, e...</td>\n",
       "      <td>[fairly, new, enter, data, payroll, already, e...</td>\n",
       "      <td>2</td>\n",
       "      <td>0.507448</td>\n",
       "      <td>0</td>\n",
       "      <td>0.492343</td>\n",
       "      <td>1</td>\n",
       "      <td>0.0</td>\n",
       "    </tr>\n",
       "    <tr>\n",
       "      <th>188</th>\n",
       "      <td>40.0</td>\n",
       "      <td>Sage X3 General Discussion</td>\n",
       "      <td>Field Option for Capitals</td>\n",
       "      <td>2019-10-14T05:55:32.553</td>\n",
       "      <td>JohannRSA</td>\n",
       "      <td>I am trying to make the Company Name field on ...</td>\n",
       "      <td>-0.6718</td>\n",
       "      <td>0.081</td>\n",
       "      <td>0.902</td>\n",
       "      <td>0.017</td>\n",
       "      <td>...</td>\n",
       "      <td>[[I, am, trying, to, make, the, Company, Name,...</td>\n",
       "      <td>[[(I, PRP), (am, VBP), (trying, VBG), (to, TO)...</td>\n",
       "      <td>[[I, be, try, to, make, the, Company, Name, fi...</td>\n",
       "      <td>[company, name, field, screen, case, option, c...</td>\n",
       "      <td>2</td>\n",
       "      <td>0.788441</td>\n",
       "      <td>0</td>\n",
       "      <td>0.210846</td>\n",
       "      <td>1</td>\n",
       "      <td>0.0</td>\n",
       "    </tr>\n",
       "    <tr>\n",
       "      <th>219</th>\n",
       "      <td>40.0</td>\n",
       "      <td>Sage X3 General Discussion</td>\n",
       "      <td>Subtracting ADATIM</td>\n",
       "      <td>2019-10-14T08:33:18.01</td>\n",
       "      <td>ChrisCC</td>\n",
       "      <td>I created a alpha numeric field on the screen ...</td>\n",
       "      <td>0.2023</td>\n",
       "      <td>0.050</td>\n",
       "      <td>0.874</td>\n",
       "      <td>0.075</td>\n",
       "      <td>...</td>\n",
       "      <td>[[I, created, a, alpha, numeric, field, on, th...</td>\n",
       "      <td>[[(I, PRP), (created, VBD), (a, DT), (alpha, J...</td>\n",
       "      <td>[[I, create, a, alpha, numeric, field, on, the...</td>\n",
       "      <td>[create, alpha, numeric, field, screen, suppos...</td>\n",
       "      <td>2</td>\n",
       "      <td>0.998752</td>\n",
       "      <td>0</td>\n",
       "      <td>0.0</td>\n",
       "      <td>1</td>\n",
       "      <td>0.0</td>\n",
       "    </tr>\n",
       "    <tr>\n",
       "      <th>250</th>\n",
       "      <td>40.0</td>\n",
       "      <td>Sage X3 General Discussion</td>\n",
       "      <td>X3 Price list activation/deactivation</td>\n",
       "      <td>2019-10-14T22:38:08.26</td>\n",
       "      <td>garry@kbm.net.au</td>\n",
       "      <td>Hi all.\\nI have unchecked the Active box on a ...</td>\n",
       "      <td>-0.3818</td>\n",
       "      <td>0.102</td>\n",
       "      <td>0.846</td>\n",
       "      <td>0.052</td>\n",
       "      <td>...</td>\n",
       "      <td>[[Hi, all, .], [I, have, unchecked, the, Activ...</td>\n",
       "      <td>[[(Hi, NNP), (all, DT), (., .)], [(I, PRP), (h...</td>\n",
       "      <td>[[Hi, all, .], [I, have, unchecked, the, Activ...</td>\n",
       "      <td>[unchecked, active, box, sale, price, list, ve...</td>\n",
       "      <td>2</td>\n",
       "      <td>0.998574</td>\n",
       "      <td>0</td>\n",
       "      <td>0.0</td>\n",
       "      <td>1</td>\n",
       "      <td>0.0</td>\n",
       "    </tr>\n",
       "    <tr>\n",
       "      <th>467</th>\n",
       "      <td>673.0</td>\n",
       "      <td>Sage X3 Announcements, News, and Alerts</td>\n",
       "      <td>Sage X3 11.0.14 and Patch 14 Add-on Updates ha...</td>\n",
       "      <td>2019-10-18T14:58:06.717</td>\n",
       "      <td>trbaron</td>\n",
       "      <td>To access this download, log into https://supp...</td>\n",
       "      <td>0.9359</td>\n",
       "      <td>0.000</td>\n",
       "      <td>0.898</td>\n",
       "      <td>0.102</td>\n",
       "      <td>...</td>\n",
       "      <td>[[To, access, this, download, ,, log, into, ht...</td>\n",
       "      <td>[[(To, TO), (access, NN), (this, DT), (downloa...</td>\n",
       "      <td>[[To, access, this, download, ,, log, into, ht...</td>\n",
       "      <td>[access, download, log, http, search, field, t...</td>\n",
       "      <td>2</td>\n",
       "      <td>0.998752</td>\n",
       "      <td>0</td>\n",
       "      <td>0.0</td>\n",
       "      <td>1</td>\n",
       "      <td>0.0</td>\n",
       "    </tr>\n",
       "    <tr>\n",
       "      <th>...</th>\n",
       "      <td>...</td>\n",
       "      <td>...</td>\n",
       "      <td>...</td>\n",
       "      <td>...</td>\n",
       "      <td>...</td>\n",
       "      <td>...</td>\n",
       "      <td>...</td>\n",
       "      <td>...</td>\n",
       "      <td>...</td>\n",
       "      <td>...</td>\n",
       "      <td>...</td>\n",
       "      <td>...</td>\n",
       "      <td>...</td>\n",
       "      <td>...</td>\n",
       "      <td>...</td>\n",
       "      <td>...</td>\n",
       "      <td>...</td>\n",
       "      <td>...</td>\n",
       "      <td>...</td>\n",
       "      <td>...</td>\n",
       "      <td>...</td>\n",
       "    </tr>\n",
       "    <tr>\n",
       "      <th>1073</th>\n",
       "      <td>NaN</td>\n",
       "      <td>NaN</td>\n",
       "      <td>NaN</td>\n",
       "      <td>NaN</td>\n",
       "      <td>NaN</td>\n",
       "      <td>NaN</td>\n",
       "      <td>NaN</td>\n",
       "      <td>NaN</td>\n",
       "      <td>NaN</td>\n",
       "      <td>NaN</td>\n",
       "      <td>...</td>\n",
       "      <td>NaN</td>\n",
       "      <td>NaN</td>\n",
       "      <td>NaN</td>\n",
       "      <td>NaN</td>\n",
       "      <td>2</td>\n",
       "      <td>0.926828</td>\n",
       "      <td>0</td>\n",
       "      <td>0.072902</td>\n",
       "      <td>1</td>\n",
       "      <td>0.0</td>\n",
       "    </tr>\n",
       "    <tr>\n",
       "      <th>1076</th>\n",
       "      <td>NaN</td>\n",
       "      <td>NaN</td>\n",
       "      <td>NaN</td>\n",
       "      <td>NaN</td>\n",
       "      <td>NaN</td>\n",
       "      <td>NaN</td>\n",
       "      <td>NaN</td>\n",
       "      <td>NaN</td>\n",
       "      <td>NaN</td>\n",
       "      <td>NaN</td>\n",
       "      <td>...</td>\n",
       "      <td>NaN</td>\n",
       "      <td>NaN</td>\n",
       "      <td>NaN</td>\n",
       "      <td>NaN</td>\n",
       "      <td>2</td>\n",
       "      <td>0.999429</td>\n",
       "      <td>0</td>\n",
       "      <td>0.0</td>\n",
       "      <td>1</td>\n",
       "      <td>0.0</td>\n",
       "    </tr>\n",
       "    <tr>\n",
       "      <th>1079</th>\n",
       "      <td>NaN</td>\n",
       "      <td>NaN</td>\n",
       "      <td>NaN</td>\n",
       "      <td>NaN</td>\n",
       "      <td>NaN</td>\n",
       "      <td>NaN</td>\n",
       "      <td>NaN</td>\n",
       "      <td>NaN</td>\n",
       "      <td>NaN</td>\n",
       "      <td>NaN</td>\n",
       "      <td>...</td>\n",
       "      <td>NaN</td>\n",
       "      <td>NaN</td>\n",
       "      <td>NaN</td>\n",
       "      <td>NaN</td>\n",
       "      <td>2</td>\n",
       "      <td>0.997155</td>\n",
       "      <td>0</td>\n",
       "      <td>0.0</td>\n",
       "      <td>1</td>\n",
       "      <td>0.0</td>\n",
       "    </tr>\n",
       "    <tr>\n",
       "      <th>1081</th>\n",
       "      <td>NaN</td>\n",
       "      <td>NaN</td>\n",
       "      <td>NaN</td>\n",
       "      <td>NaN</td>\n",
       "      <td>NaN</td>\n",
       "      <td>NaN</td>\n",
       "      <td>NaN</td>\n",
       "      <td>NaN</td>\n",
       "      <td>NaN</td>\n",
       "      <td>NaN</td>\n",
       "      <td>...</td>\n",
       "      <td>NaN</td>\n",
       "      <td>NaN</td>\n",
       "      <td>NaN</td>\n",
       "      <td>NaN</td>\n",
       "      <td>2</td>\n",
       "      <td>0.999131</td>\n",
       "      <td>0</td>\n",
       "      <td>0.0</td>\n",
       "      <td>1</td>\n",
       "      <td>0.0</td>\n",
       "    </tr>\n",
       "    <tr>\n",
       "      <th>1085</th>\n",
       "      <td>NaN</td>\n",
       "      <td>NaN</td>\n",
       "      <td>NaN</td>\n",
       "      <td>NaN</td>\n",
       "      <td>NaN</td>\n",
       "      <td>NaN</td>\n",
       "      <td>NaN</td>\n",
       "      <td>NaN</td>\n",
       "      <td>NaN</td>\n",
       "      <td>NaN</td>\n",
       "      <td>...</td>\n",
       "      <td>NaN</td>\n",
       "      <td>NaN</td>\n",
       "      <td>NaN</td>\n",
       "      <td>NaN</td>\n",
       "      <td>2</td>\n",
       "      <td>0.640902</td>\n",
       "      <td>0</td>\n",
       "      <td>0.358191</td>\n",
       "      <td>1</td>\n",
       "      <td>0.0</td>\n",
       "    </tr>\n",
       "  </tbody>\n",
       "</table>\n",
       "<p>422 rows × 27 columns</p>\n",
       "</div>"
      ],
      "text/plain": [
       "      Forum ID                               Forum Name  \\\n",
       "157       40.0               Sage X3 General Discussion   \n",
       "188       40.0               Sage X3 General Discussion   \n",
       "219       40.0               Sage X3 General Discussion   \n",
       "250       40.0               Sage X3 General Discussion   \n",
       "467      673.0  Sage X3 Announcements, News, and Alerts   \n",
       "...        ...                                      ...   \n",
       "1073       NaN                                      NaN   \n",
       "1076       NaN                                      NaN   \n",
       "1079       NaN                                      NaN   \n",
       "1081       NaN                                      NaN   \n",
       "1085       NaN                                      NaN   \n",
       "\n",
       "                                                Subject  \\\n",
       "157      Entering a manual check that is already in g/l   \n",
       "188                           Field Option for Capitals   \n",
       "219                                  Subtracting ADATIM   \n",
       "250               X3 Price list activation/deactivation   \n",
       "467   Sage X3 11.0.14 and Patch 14 Add-on Updates ha...   \n",
       "...                                                 ...   \n",
       "1073                                                NaN   \n",
       "1076                                                NaN   \n",
       "1079                                                NaN   \n",
       "1081                                                NaN   \n",
       "1085                                                NaN   \n",
       "\n",
       "                    Post Date  User DisplayName  \\\n",
       "157   2019-10-13T20:01:08.897      JeffW-SageX3   \n",
       "188   2019-10-14T05:55:32.553         JohannRSA   \n",
       "219    2019-10-14T08:33:18.01           ChrisCC   \n",
       "250    2019-10-14T22:38:08.26  garry@kbm.net.au   \n",
       "467   2019-10-18T14:58:06.717           trbaron   \n",
       "...                       ...               ...   \n",
       "1073                      NaN               NaN   \n",
       "1076                      NaN               NaN   \n",
       "1079                      NaN               NaN   \n",
       "1081                      NaN               NaN   \n",
       "1085                      NaN               NaN   \n",
       "\n",
       "                                         Forum_Post_Raw  compound    neg  \\\n",
       "157   Hi,\\nI am fairly new to X3 and I entered g/l d...    0.6124  0.000   \n",
       "188   I am trying to make the Company Name field on ...   -0.6718  0.081   \n",
       "219   I created a alpha numeric field on the screen ...    0.2023  0.050   \n",
       "250   Hi all.\\nI have unchecked the Active box on a ...   -0.3818  0.102   \n",
       "467   To access this download, log into https://supp...    0.9359  0.000   \n",
       "...                                                 ...       ...    ...   \n",
       "1073                                                NaN       NaN    NaN   \n",
       "1076                                                NaN       NaN    NaN   \n",
       "1079                                                NaN       NaN    NaN   \n",
       "1081                                                NaN       NaN    NaN   \n",
       "1085                                                NaN       NaN    NaN   \n",
       "\n",
       "        neu    pos  ...                                   tokens_sentences  \\\n",
       "157   0.906  0.094  ...  [[Hi, ,, I, am, fairly, new, to, X3, and, I, e...   \n",
       "188   0.902  0.017  ...  [[I, am, trying, to, make, the, Company, Name,...   \n",
       "219   0.874  0.075  ...  [[I, created, a, alpha, numeric, field, on, th...   \n",
       "250   0.846  0.052  ...  [[Hi, all, .], [I, have, unchecked, the, Activ...   \n",
       "467   0.898  0.102  ...  [[To, access, this, download, ,, log, into, ht...   \n",
       "...     ...    ...  ...                                                ...   \n",
       "1073    NaN    NaN  ...                                                NaN   \n",
       "1076    NaN    NaN  ...                                                NaN   \n",
       "1079    NaN    NaN  ...                                                NaN   \n",
       "1081    NaN    NaN  ...                                                NaN   \n",
       "1085    NaN    NaN  ...                                                NaN   \n",
       "\n",
       "                                             POS_tokens  \\\n",
       "157   [[(Hi, NNP), (,, ,), (I, PRP), (am, VBP), (fai...   \n",
       "188   [[(I, PRP), (am, VBP), (trying, VBG), (to, TO)...   \n",
       "219   [[(I, PRP), (created, VBD), (a, DT), (alpha, J...   \n",
       "250   [[(Hi, NNP), (all, DT), (., .)], [(I, PRP), (h...   \n",
       "467   [[(To, TO), (access, NN), (this, DT), (downloa...   \n",
       "...                                                 ...   \n",
       "1073                                                NaN   \n",
       "1076                                                NaN   \n",
       "1079                                                NaN   \n",
       "1081                                                NaN   \n",
       "1085                                                NaN   \n",
       "\n",
       "                            tokens_sentences_lemmatized  \\\n",
       "157   [[Hi, ,, I, be, fairly, new, to, X3, and, I, e...   \n",
       "188   [[I, be, try, to, make, the, Company, Name, fi...   \n",
       "219   [[I, create, a, alpha, numeric, field, on, the...   \n",
       "250   [[Hi, all, .], [I, have, unchecked, the, Activ...   \n",
       "467   [[To, access, this, download, ,, log, into, ht...   \n",
       "...                                                 ...   \n",
       "1073                                                NaN   \n",
       "1076                                                NaN   \n",
       "1079                                                NaN   \n",
       "1081                                                NaN   \n",
       "1085                                                NaN   \n",
       "\n",
       "                                                 tokens topic0 topic0_pct  \\\n",
       "157   [fairly, new, enter, data, payroll, already, e...      2   0.507448   \n",
       "188   [company, name, field, screen, case, option, c...      2   0.788441   \n",
       "219   [create, alpha, numeric, field, screen, suppos...      2   0.998752   \n",
       "250   [unchecked, active, box, sale, price, list, ve...      2   0.998574   \n",
       "467   [access, download, log, http, search, field, t...      2   0.998752   \n",
       "...                                                 ...    ...        ...   \n",
       "1073                                                NaN      2   0.926828   \n",
       "1076                                                NaN      2   0.999429   \n",
       "1079                                                NaN      2   0.997155   \n",
       "1081                                                NaN      2   0.999131   \n",
       "1085                                                NaN      2   0.640902   \n",
       "\n",
       "     topic1 topic1_pct topic2 topic2_pct  \n",
       "157       0   0.492343      1        0.0  \n",
       "188       0   0.210846      1        0.0  \n",
       "219       0        0.0      1        0.0  \n",
       "250       0        0.0      1        0.0  \n",
       "467       0        0.0      1        0.0  \n",
       "...     ...        ...    ...        ...  \n",
       "1073      0   0.072902      1        0.0  \n",
       "1076      0        0.0      1        0.0  \n",
       "1079      0        0.0      1        0.0  \n",
       "1081      0        0.0      1        0.0  \n",
       "1085      0   0.358191      1        0.0  \n",
       "\n",
       "[422 rows x 27 columns]"
      ]
     },
     "execution_count": 267,
     "metadata": {},
     "output_type": "execute_result"
    }
   ],
   "source": [
    "dfLDA[dfLDA['topic0']==2]"
   ]
  },
  {
   "cell_type": "code",
   "execution_count": 268,
   "metadata": {},
   "outputs": [
    {
     "name": "stderr",
     "output_type": "stream",
     "text": [
      "C:\\Users\\BDelamater\\Anaconda3\\lib\\site-packages\\ipykernel\\ipkernel.py:287: DeprecationWarning:\n",
      "\n",
      "`should_run_async` will not call `transform_cell` automatically in the future. Please pass the result to `transformed_cell` argument and any exception that happen during thetransform in `preprocessing_exc_tuple` in IPython 7.17 and above.\n",
      "\n"
     ]
    },
    {
     "name": "stdout",
     "output_type": "stream",
     "text": [
      "To access this download, log into https://support.na.sage.com/ and in the search field type 101238. Click Search.\n",
      "For a complete list of available Sage X3 full-product downloads and patch updates, see the Sage X3 Download Portal. To access the Sage X3 Download Portal, go to https://support.na.sage.com/, enter your Log on credentials (in upper right corner), and type 23522 in the Search field. Click Search. \n",
      "Important: If you use third-party products that integrate with Sage X3 or ISVs, check with the vendor of your third-party product to ensure their product is fully compatible with this release. If you integrate with other Sage products, check with your business partner or Sage to ensure that these components are compatible. \n",
      "It is highly recommended that you work with a certified partner or Sage Professional Services to install this patch.  \n",
      "Need more help? Visit ourâ€¯Sage City Customer Resourcesâ€¯page for additional resources, including links to support options like Online Case submission, the Sage Knowledgebase, Sage University, and more \n",
      "\n",
      "\n",
      "I am trying to remove some of the columns on the ST2 object which is the stock selection browser on the stock change screen. When I remove the columns from the ST2 object, validate, and validate the entry transaction, the field is still showing on the screen. Can somebody tell me how to modify the columns showing on the ST2 object since it doesnt seem like deleting the field from the object is making it disappear?\n",
      "We are on v11 patch 4\n",
      "\n",
      "Thanks,\n",
      "Chris  \n",
      "\n",
      "\n",
      "Hello,\n",
      "\n",
      "We are setting up a new client that has a company on UK, and he required to submit his VAT returns to HMRC\n",
      "If we go on parameter values (ADPVAL)  we have the parameter MTDURL\n",
      "\n",
      "\n",
      "\n",
      "This parameter is set by default as production, is there any way to perform a test submission to the sandbox environment on X3?\n",
      "\n",
      "Thank you in advance.\n",
      " \n",
      "\n",
      "\n",
      "Hi All \n",
      "I created  and a direct sales  invoice and forgot  to set stock transaction to yes. I s there a way to correct this so that the stock movement is generated. \n",
      "\n",
      "\n",
      "Has anyone had issues with new users ability to see their landing pages?  Newer users seem to have issues when clicking the Home Icon -- they get redirected to a blank screen without their landing pages on the left side.  My own landing pages come and go sporadically with no indication as to why I can access them one day and not the next.  Thanks. \n",
      "\n",
      "\n",
      "Hi,\n",
      "I see this question without solution posted 1 year ago.\n",
      "On  X3 V11, i created a web service and published it\n",
      "As you see, the groupe GRP is present.\n",
      "\n",
      "X3 return \"Cannot read property 'GRP' of undefined\" \n",
      "\n",
      "\n",
      "We are on V12 P14.\n",
      "In version 11, you could go into Parameters > Financials > Accounting Interface > Accounting tasks and amend the number of lots to process. In Version 12 this is now a recurring task. How do adjust the times the accounting tasks take to process journals, number of lots to select etc.\n",
      "This is causing an issue with a customer.\n",
      "\n",
      "Thanks \n",
      "\n",
      "\n",
      "To access this download, log into https://support.na.sage.com/ and in the search field type 101471. Click Search.\n",
      "\n",
      "For a complete list of available Sage X3 full-product downloads and patch updates, see the Sage X3 Download Portal. To access the Sage X3 Download Portal, go to https://support.na.sage.com/, enter your Log on credentials (in upper right corner), and type 23522 in the Search field. Click Search. \n",
      "Important: If you use third-party products that integrate with Sage X3 or ISVs, check with the vendor of your third-party product to ensure their product is fully compatible with this release. If you integrate with other Sage products, check with your business partner or Sage to ensure that these components are compatible. \n",
      "It is highly recommended that you work with a certified partner or Sage Professional Services to install this patch.  \n",
      "Need more help? Visit ourâ€¯Sage City Customer Resourcesâ€¯page for additional resources, including links to support options like Online Case submission, the Sage Knowledgebase, Sage University, and more. \n",
      " \n",
      "\n",
      "\n",
      "X3 v8 patch 10.\n",
      "We are UK based, and have been told to upgrade, but was wondering whether it is possible to ignore companies with no VAT number when extracting companies in the MTD Submissions module.\n",
      "Basically we have a customer that has over 100 companies in X3.  Of which 89 are dormant or have no VAT number. The MTD Submissions module looks at the company list and pulls all of the companies over. Or so we thought. As it turns out, it is limited to 100 companies. So anyone know anyway of getting the MTD module to ignore companies with no VAT numbers\n",
      "thanks \n",
      "\n",
      "\n",
      "Can I get an example XML view of how the deleteLines and InsertLines for SOAP web services will look like?\n",
      "Thanks,\n",
      "Chris  \n",
      "\n",
      "\n",
      "Hi,\n",
      "Is there a way to synchronize X3 crm Task and Appointments with Google Calendar?\n",
      "Thanks \n",
      "\n",
      "\n",
      "We run Sage X3 Update 9 Patch 9.\n",
      "\n",
      "The cost of a product we buy is going negative.\n",
      "This occurs from time to time because the product is a by-product- sometimes the supplier can sell the by-product, but other times they have to pay us to take it.\n",
      "Depending on how extremely below zero the costs go, we may even start charging our customers a negative price. \n",
      "This will occur in both back-to-back and stock orders.\n",
      "\n",
      "Can we support this in X3?\n",
      "\n",
      "Thought process;\n",
      "(The following all reads bizarrely to me, but here goes...;)\n",
      "1. We raise PO to supplier with negative cost (-$20/ton)\n",
      "2. Supplier sends us their invoice with negative cost (-$20/ton)\n",
      "3. Supplier pays us based on their (negative) invoice. Is a supplier invoice therefore handled by Accounts Receivable rather than Accounts Payable functions in X3?\n",
      "4. We receive goods into inventory at a negative cost (-$20/ton). Average Unit Cost (AUC) goes negative.\n",
      "5. We create Sales Order with negative gross price (-$5) and negative cost ($-20) to Customer (Margin = +$15)\n",
      "6. We create Sales Delivery with negative gross price (-$5) to Customer.\n",
      "7. We create Sales Invoice with negative gross price (-$5) and negative cost ($-20) to Customer (Margin = +$15) \n",
      "8. We pay Customer based on our Sales Invoice with negative gross price. Is our Invoice to Customer therefore managed by our Accounts Payable rather than Accounts Receivable functions in X3?\n",
      "\n",
      "Is this high level process supportable/logical/sensible in X3?\n",
      "Steps 3 and 8 are standing out to me the most in consideration of \"How will that work?\"\n",
      "Any advice would be appreciated. Thanks in advance. \n",
      "\n",
      "\n",
      "Hi Sagians,\n",
      "\n",
      "We have around 5000 locations to create. I have checked the default import template but couldn't find any. I have created my own template but it is not working.\n",
      "Below is my template.\n",
      "If Any one have idea please share..\n",
      " \n",
      "\n",
      "\n",
      "We got a virtual machine from client with Sage X3 v65 Application server.\n",
      "The database server was on a different server.\n",
      "In this local copy of VM we have updated the configuration files to point to local database.\n",
      "When we try to log into Sage X3 we get the error below.\n",
      "Any ideas what  might be causing the  error\n",
      "\n",
      "[Microsoft][SQL Server Native Client 11.0][SQL Server]Invalid object name 'SCHEMACODE.SEQ_ALOGIN'. : SQL Server Error\n",
      " Click Ok we then get \n",
      "@X3.TRT/GESUSER$adx(1558) : \n",
      "\n",
      "\n",
      "\n",
      "Hello, \n",
      "I'm working on a new install of V12, and I remember from Sage Sessions several people telling me that the new Best Practice is to put a processing runtime on the DBMS server.  That it would speed up batch processes exponentially. Can anyone confirm this?  If so, should it be the main runtime?  Seems like a lot for one VM, but I've been mistaken often before.   reverse phone lookup nba reddit pcpartpicker\n",
      "\n",
      "Also, does anyone have any good migration steps for upgrading V11 to V12 by copying the folder from the V11 environment to a separate V12 environment? \n",
      "\n",
      "\n",
      "\n",
      "\n",
      "\n",
      "\n",
      " \n",
      "\n",
      "\n",
      "nan \n",
      "\n",
      "\n",
      "nan \n",
      "\n",
      "\n",
      "nan \n",
      "\n",
      "\n",
      "nan \n",
      "\n",
      "\n",
      "nan \n",
      "\n",
      "\n",
      "nan \n",
      "\n",
      "\n",
      "nan \n",
      "\n",
      "\n",
      "nan \n",
      "\n",
      "\n",
      "nan \n",
      "\n",
      "\n",
      "nan \n",
      "\n",
      "\n",
      "nan \n",
      "\n",
      "\n",
      "nan \n",
      "\n",
      "\n",
      "nan \n",
      "\n",
      "\n",
      "nan \n",
      "\n",
      "\n",
      "nan \n",
      "\n",
      "\n",
      "nan \n",
      "\n",
      "\n",
      "nan \n",
      "\n",
      "\n",
      "nan \n",
      "\n",
      "\n",
      "nan \n",
      "\n",
      "\n",
      "nan \n",
      "\n",
      "\n",
      "nan \n",
      "\n",
      "\n",
      "nan \n",
      "\n",
      "\n",
      "nan \n",
      "\n",
      "\n",
      "nan \n",
      "\n",
      "\n",
      "nan \n",
      "\n",
      "\n",
      "nan \n",
      "\n",
      "\n",
      "nan \n",
      "\n",
      "\n",
      "nan \n",
      "\n",
      "\n",
      "nan \n",
      "\n",
      "\n",
      "nan \n",
      "\n",
      "\n",
      "nan \n",
      "\n",
      "\n",
      "nan \n",
      "\n",
      "\n",
      "nan \n",
      "\n",
      "\n",
      "nan \n",
      "\n",
      "\n",
      "nan \n",
      "\n",
      "\n",
      "nan \n",
      "\n",
      "\n",
      "nan \n",
      "\n",
      "\n",
      "nan \n",
      "\n",
      "\n",
      "nan \n",
      "\n",
      "\n",
      "nan \n",
      "\n",
      "\n",
      "nan \n",
      "\n",
      "\n",
      "nan \n",
      "\n",
      "\n",
      "nan \n",
      "\n",
      "\n",
      "nan \n",
      "\n",
      "\n",
      "nan \n",
      "\n",
      "\n",
      "nan \n",
      "\n",
      "\n",
      "nan \n",
      "\n",
      "\n",
      "nan \n",
      "\n",
      "\n",
      "nan \n",
      "\n",
      "\n",
      "nan \n",
      "\n",
      "\n",
      "nan \n",
      "\n",
      "\n",
      "nan \n",
      "\n",
      "\n",
      "nan \n",
      "\n",
      "\n",
      "nan \n",
      "\n",
      "\n",
      "nan \n",
      "\n",
      "\n",
      "nan \n",
      "\n",
      "\n",
      "nan \n",
      "\n",
      "\n",
      "nan \n",
      "\n",
      "\n",
      "nan \n",
      "\n",
      "\n",
      "nan \n",
      "\n",
      "\n",
      "nan \n",
      "\n",
      "\n",
      "nan \n",
      "\n",
      "\n",
      "nan \n",
      "\n",
      "\n",
      "nan \n",
      "\n",
      "\n",
      "nan \n",
      "\n",
      "\n",
      "nan \n",
      "\n",
      "\n",
      "nan \n",
      "\n",
      "\n",
      "nan \n",
      "\n",
      "\n",
      "nan \n",
      "\n",
      "\n",
      "nan \n",
      "\n",
      "\n",
      "nan \n",
      "\n",
      "\n",
      "nan \n",
      "\n",
      "\n",
      "nan \n",
      "\n",
      "\n",
      "nan \n",
      "\n",
      "\n",
      "nan \n",
      "\n",
      "\n",
      "nan \n",
      "\n",
      "\n",
      "nan \n",
      "\n",
      "\n",
      "nan \n",
      "\n",
      "\n",
      "nan \n",
      "\n",
      "\n",
      "nan \n",
      "\n",
      "\n",
      "nan \n",
      "\n",
      "\n",
      "nan \n",
      "\n",
      "\n",
      "nan \n",
      "\n",
      "\n",
      "nan \n",
      "\n",
      "\n",
      "nan \n",
      "\n",
      "\n",
      "nan \n",
      "\n",
      "\n",
      "nan \n",
      "\n",
      "\n",
      "nan \n",
      "\n",
      "\n",
      "nan \n",
      "\n",
      "\n",
      "nan \n",
      "\n",
      "\n",
      "nan \n",
      "\n",
      "\n",
      "nan \n",
      "\n",
      "\n",
      "nan \n",
      "\n",
      "\n",
      "nan \n",
      "\n",
      "\n",
      "nan \n",
      "\n",
      "\n",
      "nan \n",
      "\n",
      "\n",
      "nan \n",
      "\n",
      "\n",
      "nan \n",
      "\n",
      "\n",
      "nan \n",
      "\n",
      "\n",
      "nan \n",
      "\n",
      "\n",
      "nan \n",
      "\n",
      "\n",
      "nan \n",
      "\n",
      "\n",
      "nan \n",
      "\n",
      "\n",
      "nan \n",
      "\n",
      "\n",
      "nan \n",
      "\n",
      "\n",
      "nan \n",
      "\n",
      "\n",
      "nan \n",
      "\n",
      "\n",
      "nan \n",
      "\n",
      "\n",
      "nan \n",
      "\n",
      "\n",
      "nan \n",
      "\n",
      "\n",
      "nan \n",
      "\n",
      "\n",
      "nan \n",
      "\n",
      "\n",
      "nan \n",
      "\n",
      "\n",
      "nan \n",
      "\n",
      "\n",
      "nan \n",
      "\n",
      "\n",
      "nan \n",
      "\n",
      "\n",
      "nan \n",
      "\n",
      "\n",
      "nan \n",
      "\n",
      "\n",
      "nan \n",
      "\n",
      "\n",
      "nan \n",
      "\n",
      "\n",
      "nan \n",
      "\n",
      "\n",
      "nan \n",
      "\n",
      "\n",
      "nan \n",
      "\n",
      "\n",
      "nan \n",
      "\n",
      "\n",
      "nan \n",
      "\n",
      "\n",
      "nan \n",
      "\n",
      "\n",
      "nan \n",
      "\n",
      "\n",
      "nan \n",
      "\n",
      "\n",
      "nan \n",
      "\n",
      "\n",
      "nan \n",
      "\n",
      "\n",
      "nan \n",
      "\n",
      "\n",
      "nan \n",
      "\n",
      "\n",
      "nan \n",
      "\n",
      "\n",
      "nan \n",
      "\n",
      "\n",
      "nan \n",
      "\n",
      "\n",
      "nan \n",
      "\n",
      "\n",
      "nan \n",
      "\n",
      "\n",
      "nan \n",
      "\n",
      "\n",
      "nan \n",
      "\n",
      "\n",
      "nan \n",
      "\n",
      "\n",
      "nan \n",
      "\n",
      "\n",
      "nan \n",
      "\n",
      "\n",
      "nan \n",
      "\n",
      "\n",
      "nan \n",
      "\n",
      "\n",
      "nan \n",
      "\n",
      "\n",
      "nan \n",
      "\n",
      "\n",
      "nan \n",
      "\n",
      "\n",
      "nan \n",
      "\n",
      "\n",
      "nan \n",
      "\n",
      "\n",
      "nan \n",
      "\n",
      "\n",
      "nan \n",
      "\n",
      "\n",
      "nan \n",
      "\n",
      "\n",
      "nan \n",
      "\n",
      "\n",
      "nan \n",
      "\n",
      "\n",
      "nan \n",
      "\n",
      "\n",
      "nan \n",
      "\n",
      "\n",
      "nan \n",
      "\n",
      "\n",
      "nan \n",
      "\n",
      "\n",
      "nan \n",
      "\n",
      "\n",
      "nan \n",
      "\n",
      "\n",
      "nan \n",
      "\n",
      "\n",
      "nan \n",
      "\n",
      "\n",
      "nan \n",
      "\n",
      "\n",
      "nan \n",
      "\n",
      "\n",
      "nan \n",
      "\n",
      "\n",
      "nan \n",
      "\n",
      "\n",
      "nan \n",
      "\n",
      "\n",
      "nan \n",
      "\n",
      "\n",
      "nan \n",
      "\n",
      "\n",
      "nan \n",
      "\n",
      "\n",
      "nan \n",
      "\n",
      "\n",
      "nan \n",
      "\n",
      "\n",
      "nan \n",
      "\n",
      "\n",
      "nan \n",
      "\n",
      "\n",
      "nan \n",
      "\n",
      "\n",
      "nan \n",
      "\n",
      "\n",
      "nan \n",
      "\n",
      "\n",
      "nan \n",
      "\n",
      "\n",
      "nan \n",
      "\n",
      "\n",
      "nan \n",
      "\n",
      "\n",
      "nan \n",
      "\n",
      "\n",
      "nan \n",
      "\n",
      "\n",
      "nan \n",
      "\n",
      "\n",
      "nan \n",
      "\n",
      "\n",
      "nan \n",
      "\n",
      "\n",
      "nan \n",
      "\n",
      "\n",
      "nan \n",
      "\n",
      "\n",
      "nan \n",
      "\n",
      "\n",
      "nan \n",
      "\n",
      "\n",
      "nan \n",
      "\n",
      "\n",
      "nan \n",
      "\n",
      "\n",
      "nan \n",
      "\n",
      "\n",
      "nan \n",
      "\n",
      "\n",
      "nan \n",
      "\n",
      "\n",
      "nan \n",
      "\n",
      "\n",
      "nan \n",
      "\n",
      "\n",
      "nan \n",
      "\n",
      "\n",
      "nan \n",
      "\n",
      "\n",
      "nan \n",
      "\n",
      "\n",
      "nan \n",
      "\n",
      "\n",
      "nan \n",
      "\n",
      "\n",
      "nan \n",
      "\n",
      "\n",
      "nan \n",
      "\n",
      "\n",
      "nan \n",
      "\n",
      "\n",
      "nan \n",
      "\n",
      "\n",
      "nan \n",
      "\n",
      "\n",
      "nan \n",
      "\n",
      "\n",
      "nan \n",
      "\n",
      "\n",
      "nan \n",
      "\n",
      "\n",
      "nan \n",
      "\n",
      "\n",
      "nan \n",
      "\n",
      "\n",
      "nan \n",
      "\n",
      "\n",
      "nan \n",
      "\n",
      "\n",
      "nan \n",
      "\n",
      "\n",
      "nan \n",
      "\n",
      "\n",
      "nan \n",
      "\n",
      "\n",
      "nan \n",
      "\n",
      "\n",
      "nan \n",
      "\n",
      "\n",
      "nan \n",
      "\n",
      "\n",
      "nan \n",
      "\n",
      "\n",
      "nan \n",
      "\n",
      "\n",
      "nan \n",
      "\n",
      "\n",
      "nan \n",
      "\n",
      "\n",
      "nan \n",
      "\n",
      "\n",
      "nan \n",
      "\n",
      "\n",
      "nan \n",
      "\n",
      "\n",
      "nan \n",
      "\n",
      "\n",
      "nan \n",
      "\n",
      "\n",
      "nan \n",
      "\n",
      "\n",
      "nan \n",
      "\n",
      "\n",
      "nan \n",
      "\n",
      "\n",
      "nan \n",
      "\n",
      "\n",
      "nan \n",
      "\n",
      "\n",
      "nan \n",
      "\n",
      "\n",
      "nan \n",
      "\n",
      "\n",
      "nan \n",
      "\n",
      "\n",
      "nan \n",
      "\n",
      "\n",
      "nan \n",
      "\n",
      "\n",
      "nan \n",
      "\n",
      "\n",
      "nan \n",
      "\n",
      "\n",
      "nan \n",
      "\n",
      "\n",
      "nan \n",
      "\n",
      "\n",
      "nan \n",
      "\n",
      "\n",
      "nan \n",
      "\n",
      "\n",
      "nan \n",
      "\n",
      "\n",
      "nan \n",
      "\n",
      "\n",
      "nan \n",
      "\n",
      "\n",
      "nan \n",
      "\n",
      "\n",
      "nan \n",
      "\n",
      "\n",
      "nan \n",
      "\n",
      "\n",
      "nan \n",
      "\n",
      "\n",
      "nan \n",
      "\n",
      "\n",
      "nan \n",
      "\n",
      "\n",
      "nan \n",
      "\n",
      "\n",
      "nan \n",
      "\n",
      "\n",
      "nan \n",
      "\n",
      "\n",
      "nan \n",
      "\n",
      "\n",
      "nan \n",
      "\n",
      "\n",
      "nan \n",
      "\n",
      "\n",
      "nan \n",
      "\n",
      "\n",
      "nan \n",
      "\n",
      "\n",
      "nan \n",
      "\n",
      "\n",
      "nan \n",
      "\n",
      "\n",
      "nan \n",
      "\n",
      "\n",
      "nan \n",
      "\n",
      "\n",
      "nan \n",
      "\n",
      "\n",
      "nan \n",
      "\n",
      "\n",
      "nan \n",
      "\n",
      "\n",
      "nan \n",
      "\n",
      "\n",
      "nan \n",
      "\n",
      "\n",
      "nan \n",
      "\n",
      "\n",
      "nan \n",
      "\n",
      "\n",
      "nan \n",
      "\n",
      "\n",
      "nan \n",
      "\n",
      "\n",
      "nan \n",
      "\n",
      "\n",
      "nan \n",
      "\n",
      "\n",
      "nan \n",
      "\n",
      "\n",
      "nan \n",
      "\n",
      "\n",
      "nan \n",
      "\n",
      "\n",
      "nan \n",
      "\n",
      "\n",
      "nan \n",
      "\n",
      "\n",
      "nan \n",
      "\n",
      "\n",
      "nan \n",
      "\n",
      "\n",
      "nan \n",
      "\n",
      "\n",
      "nan \n",
      "\n",
      "\n",
      "nan \n",
      "\n",
      "\n",
      "nan \n",
      "\n",
      "\n",
      "nan \n",
      "\n",
      "\n",
      "nan \n",
      "\n",
      "\n",
      "nan \n",
      "\n",
      "\n",
      "nan \n",
      "\n",
      "\n",
      "nan \n",
      "\n",
      "\n",
      "nan \n",
      "\n",
      "\n",
      "nan \n",
      "\n",
      "\n",
      "nan \n",
      "\n",
      "\n",
      "nan \n",
      "\n",
      "\n"
     ]
    },
    {
     "data": {
      "text/plain": [
       "63      None\n",
       "64      None\n",
       "312     None\n",
       "374     None\n",
       "499     None\n",
       "        ... \n",
       "1055    None\n",
       "1070    None\n",
       "1082    None\n",
       "1083    None\n",
       "1084    None\n",
       "Name: Forum_Post_Raw, Length: 311, dtype: object"
      ]
     },
     "execution_count": 268,
     "metadata": {},
     "output_type": "execute_result"
    }
   ],
   "source": [
    "dfLDA[dfLDA['topic0']==0].Forum_Post_Raw.apply(lambda t: print(t, '\\n\\n'))"
   ]
  },
  {
   "cell_type": "code",
   "execution_count": 269,
   "metadata": {},
   "outputs": [
    {
     "name": "stderr",
     "output_type": "stream",
     "text": [
      "C:\\Users\\BDelamater\\Anaconda3\\lib\\site-packages\\ipykernel\\ipkernel.py:287: DeprecationWarning:\n",
      "\n",
      "`should_run_async` will not call `transform_cell` automatically in the future. Please pass the result to `transformed_cell` argument and any exception that happen during thetransform in `preprocessing_exc_tuple` in IPython 7.17 and above.\n",
      "\n"
     ]
    },
    {
     "data": {
      "text/html": [
       "<div>\n",
       "<style scoped>\n",
       "    .dataframe tbody tr th:only-of-type {\n",
       "        vertical-align: middle;\n",
       "    }\n",
       "\n",
       "    .dataframe tbody tr th {\n",
       "        vertical-align: top;\n",
       "    }\n",
       "\n",
       "    .dataframe thead th {\n",
       "        text-align: right;\n",
       "    }\n",
       "</style>\n",
       "<table border=\"1\" class=\"dataframe\">\n",
       "  <thead>\n",
       "    <tr style=\"text-align: right;\">\n",
       "      <th></th>\n",
       "      <th>Forum Name</th>\n",
       "      <th>Forum_Post_Raw</th>\n",
       "      <th>topic0</th>\n",
       "    </tr>\n",
       "  </thead>\n",
       "  <tbody>\n",
       "    <tr>\n",
       "      <th>0</th>\n",
       "      <td>Sage X3 General Discussion</td>\n",
       "      <td>Company upgraded to windows 10. Used to run an...</td>\n",
       "      <td>1</td>\n",
       "    </tr>\n",
       "    <tr>\n",
       "      <th>31</th>\n",
       "      <td>Sage X3 General Discussion</td>\n",
       "      <td>Hello!\\n\\nI see that Sage V11 patch 14 was com...</td>\n",
       "      <td>1</td>\n",
       "    </tr>\n",
       "    <tr>\n",
       "      <th>62</th>\n",
       "      <td>Sage X3 Announcements, News, and Alerts</td>\n",
       "      <td>To access this download, log into https://supp...</td>\n",
       "      <td>1</td>\n",
       "    </tr>\n",
       "    <tr>\n",
       "      <th>63</th>\n",
       "      <td>Sage X3 Announcements, News, and Alerts</td>\n",
       "      <td>To access this download, log into https://supp...</td>\n",
       "      <td>0</td>\n",
       "    </tr>\n",
       "    <tr>\n",
       "      <th>64</th>\n",
       "      <td>Sage X3 General Discussion</td>\n",
       "      <td>I am trying to remove some of the columns on t...</td>\n",
       "      <td>0</td>\n",
       "    </tr>\n",
       "    <tr>\n",
       "      <th>...</th>\n",
       "      <td>...</td>\n",
       "      <td>...</td>\n",
       "      <td>...</td>\n",
       "    </tr>\n",
       "    <tr>\n",
       "      <th>1081</th>\n",
       "      <td>NaN</td>\n",
       "      <td>NaN</td>\n",
       "      <td>2</td>\n",
       "    </tr>\n",
       "    <tr>\n",
       "      <th>1082</th>\n",
       "      <td>NaN</td>\n",
       "      <td>NaN</td>\n",
       "      <td>0</td>\n",
       "    </tr>\n",
       "    <tr>\n",
       "      <th>1083</th>\n",
       "      <td>NaN</td>\n",
       "      <td>NaN</td>\n",
       "      <td>0</td>\n",
       "    </tr>\n",
       "    <tr>\n",
       "      <th>1084</th>\n",
       "      <td>NaN</td>\n",
       "      <td>NaN</td>\n",
       "      <td>0</td>\n",
       "    </tr>\n",
       "    <tr>\n",
       "      <th>1085</th>\n",
       "      <td>NaN</td>\n",
       "      <td>NaN</td>\n",
       "      <td>2</td>\n",
       "    </tr>\n",
       "  </tbody>\n",
       "</table>\n",
       "<p>2126 rows × 3 columns</p>\n",
       "</div>"
      ],
      "text/plain": [
       "                                   Forum Name  \\\n",
       "0                  Sage X3 General Discussion   \n",
       "31                 Sage X3 General Discussion   \n",
       "62    Sage X3 Announcements, News, and Alerts   \n",
       "63    Sage X3 Announcements, News, and Alerts   \n",
       "64                 Sage X3 General Discussion   \n",
       "...                                       ...   \n",
       "1081                                      NaN   \n",
       "1082                                      NaN   \n",
       "1083                                      NaN   \n",
       "1084                                      NaN   \n",
       "1085                                      NaN   \n",
       "\n",
       "                                         Forum_Post_Raw topic0  \n",
       "0     Company upgraded to windows 10. Used to run an...      1  \n",
       "31    Hello!\\n\\nI see that Sage V11 patch 14 was com...      1  \n",
       "62    To access this download, log into https://supp...      1  \n",
       "63    To access this download, log into https://supp...      0  \n",
       "64    I am trying to remove some of the columns on t...      0  \n",
       "...                                                 ...    ...  \n",
       "1081                                                NaN      2  \n",
       "1082                                                NaN      0  \n",
       "1083                                                NaN      0  \n",
       "1084                                                NaN      0  \n",
       "1085                                                NaN      2  \n",
       "\n",
       "[2126 rows x 3 columns]"
      ]
     },
     "execution_count": 269,
     "metadata": {},
     "output_type": "execute_result"
    }
   ],
   "source": [
    "dfResults = dfLDA[['Forum Name','Forum_Post_Raw', 'topic0']].copy()\n",
    "# dfResults = dfResults[dfResults['Forum_Post_Raw'].notna()]\n",
    "# dfResults = dfResults[dfResults['topic0'].notna()]\n",
    "dfResults"
   ]
  },
  {
   "cell_type": "code",
   "execution_count": 281,
   "metadata": {},
   "outputs": [
    {
     "name": "stderr",
     "output_type": "stream",
     "text": [
      "C:\\Users\\BDelamater\\Anaconda3\\lib\\site-packages\\ipykernel\\ipkernel.py:287: DeprecationWarning:\n",
      "\n",
      "`should_run_async` will not call `transform_cell` automatically in the future. Please pass the result to `transformed_cell` argument and any exception that happen during thetransform in `preprocessing_exc_tuple` in IPython 7.17 and above.\n",
      "\n"
     ]
    }
   ],
   "source": []
  },
  {
   "cell_type": "code",
   "execution_count": 293,
   "metadata": {
    "scrolled": true
   },
   "outputs": [],
   "source": [
    "# frame.Forum_Post_Raw, frame.neg, frame.neu, frame.pos\n",
    "dfResults.to_html(open('results.html', 'w'))\n"
   ]
  },
  {
   "cell_type": "code",
   "execution_count": null,
   "metadata": {},
   "outputs": [],
   "source": []
  }
 ],
 "metadata": {
  "interpreter": {
   "hash": "6a17a13407a242fa5e52f5f0d84ee969a8e600591a999235f1645da9e037e8a0"
  },
  "kernelspec": {
   "display_name": "Python 3",
   "language": "python",
   "name": "python3"
  },
  "language_info": {
   "codemirror_mode": {
    "name": "ipython",
    "version": 3
   },
   "file_extension": ".py",
   "mimetype": "text/x-python",
   "name": "python",
   "nbconvert_exporter": "python",
   "pygments_lexer": "ipython3",
   "version": "3.8.8"
  }
 },
 "nbformat": 4,
 "nbformat_minor": 2
}
