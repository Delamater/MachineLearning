{
 "cells": [
  {
   "cell_type": "markdown",
   "metadata": {},
   "source": [
    "# Read Sage City Forum Data And Output Topics"
   ]
  },
  {
   "cell_type": "markdown",
   "metadata": {},
   "source": [
    "## Requirements Setup"
   ]
  },
  {
   "cell_type": "code",
   "execution_count": 1,
   "metadata": {},
   "outputs": [
    {
     "name": "stdout",
     "output_type": "stream",
     "text": [
      "Requirement already satisfied: lxml in c:\\users\\bdelamater\\anaconda3\\lib\\site-packages (4.6.3)\n",
      "Requirement already satisfied: nltk in c:\\users\\bdelamater\\anaconda3\\lib\\site-packages (3.6.1)\n",
      "Requirement already satisfied: regex in c:\\users\\bdelamater\\anaconda3\\lib\\site-packages (from nltk) (2021.4.4)\n",
      "Requirement already satisfied: tqdm in c:\\users\\bdelamater\\anaconda3\\lib\\site-packages (from nltk) (4.59.0)\n",
      "Requirement already satisfied: click in c:\\users\\bdelamater\\anaconda3\\lib\\site-packages (from nltk) (7.1.2)\n",
      "Requirement already satisfied: joblib in c:\\users\\bdelamater\\anaconda3\\lib\\site-packages (from nltk) (1.0.1)\n",
      "Requirement already satisfied: seaborn in c:\\users\\bdelamater\\anaconda3\\lib\\site-packages (0.11.1)\n",
      "Requirement already satisfied: pandas>=0.23 in c:\\users\\bdelamater\\anaconda3\\lib\\site-packages (from seaborn) (1.2.4)\n",
      "Requirement already satisfied: numpy>=1.15 in c:\\users\\bdelamater\\anaconda3\\lib\\site-packages (from seaborn) (1.20.1)\n",
      "Requirement already satisfied: scipy>=1.0 in c:\\users\\bdelamater\\anaconda3\\lib\\site-packages (from seaborn) (1.6.2)\n",
      "Requirement already satisfied: matplotlib>=2.2 in c:\\users\\bdelamater\\anaconda3\\lib\\site-packages (from seaborn) (3.4.2)\n",
      "Requirement already satisfied: pyparsing>=2.2.1 in c:\\users\\bdelamater\\anaconda3\\lib\\site-packages (from matplotlib>=2.2->seaborn) (2.4.7)\n",
      "Requirement already satisfied: pillow>=6.2.0 in c:\\users\\bdelamater\\anaconda3\\lib\\site-packages (from matplotlib>=2.2->seaborn) (8.2.0)\n",
      "Requirement already satisfied: kiwisolver>=1.0.1 in c:\\users\\bdelamater\\anaconda3\\lib\\site-packages (from matplotlib>=2.2->seaborn) (1.3.1)\n",
      "Requirement already satisfied: cycler>=0.10 in c:\\users\\bdelamater\\anaconda3\\lib\\site-packages (from matplotlib>=2.2->seaborn) (0.10.0)\n",
      "Requirement already satisfied: python-dateutil>=2.7 in c:\\users\\bdelamater\\anaconda3\\lib\\site-packages (from matplotlib>=2.2->seaborn) (2.8.1)\n",
      "Requirement already satisfied: six in c:\\users\\bdelamater\\anaconda3\\lib\\site-packages (from cycler>=0.10->matplotlib>=2.2->seaborn) (1.15.0)\n",
      "Requirement already satisfied: pytz>=2017.3 in c:\\users\\bdelamater\\anaconda3\\lib\\site-packages (from pandas>=0.23->seaborn) (2021.1)\n",
      "Requirement already satisfied: textblob in c:\\users\\bdelamater\\anaconda3\\lib\\site-packages (0.15.3)\n",
      "Requirement already satisfied: nltk>=3.1 in c:\\users\\bdelamater\\anaconda3\\lib\\site-packages (from textblob) (3.6.1)\n",
      "Requirement already satisfied: tqdm in c:\\users\\bdelamater\\anaconda3\\lib\\site-packages (from nltk>=3.1->textblob) (4.59.0)\n",
      "Requirement already satisfied: regex in c:\\users\\bdelamater\\anaconda3\\lib\\site-packages (from nltk>=3.1->textblob) (2021.4.4)\n",
      "Requirement already satisfied: joblib in c:\\users\\bdelamater\\anaconda3\\lib\\site-packages (from nltk>=3.1->textblob) (1.0.1)\n",
      "Requirement already satisfied: click in c:\\users\\bdelamater\\anaconda3\\lib\\site-packages (from nltk>=3.1->textblob) (7.1.2)\n",
      "Requirement already satisfied: bs4 in c:\\users\\bdelamater\\anaconda3\\lib\\site-packages (0.0.1)\n",
      "Requirement already satisfied: beautifulsoup4 in c:\\users\\bdelamater\\anaconda3\\lib\\site-packages (from bs4) (4.9.3)\n",
      "Requirement already satisfied: soupsieve>1.2 in c:\\users\\bdelamater\\anaconda3\\lib\\site-packages (from beautifulsoup4->bs4) (2.2.1)\n",
      "Requirement already satisfied: xlrd in c:\\users\\bdelamater\\anaconda3\\lib\\site-packages (2.0.1)\n",
      "Requirement already satisfied: openpyxl in c:\\users\\bdelamater\\anaconda3\\lib\\site-packages (3.0.7)\n",
      "Requirement already satisfied: et-xmlfile in c:\\users\\bdelamater\\anaconda3\\lib\\site-packages (from openpyxl) (1.0.1)\n",
      "Requirement already satisfied: nbformat in c:\\users\\bdelamater\\anaconda3\\lib\\site-packages (5.1.3)\n",
      "Requirement already satisfied: jupyter-core in c:\\users\\bdelamater\\anaconda3\\lib\\site-packages (from nbformat) (4.7.1)\n",
      "Requirement already satisfied: jsonschema!=2.5.0,>=2.4 in c:\\users\\bdelamater\\anaconda3\\lib\\site-packages (from nbformat) (3.2.0)\n",
      "Requirement already satisfied: ipython-genutils in c:\\users\\bdelamater\\anaconda3\\lib\\site-packages (from nbformat) (0.2.0)\n",
      "Requirement already satisfied: traitlets>=4.1 in c:\\users\\bdelamater\\anaconda3\\lib\\site-packages (from nbformat) (5.0.5)\n",
      "Requirement already satisfied: setuptools in c:\\users\\bdelamater\\anaconda3\\lib\\site-packages (from jsonschema!=2.5.0,>=2.4->nbformat) (52.0.0.post20210125)\n",
      "Requirement already satisfied: pyrsistent>=0.14.0 in c:\\users\\bdelamater\\anaconda3\\lib\\site-packages (from jsonschema!=2.5.0,>=2.4->nbformat) (0.17.3)\n",
      "Requirement already satisfied: attrs>=17.4.0 in c:\\users\\bdelamater\\anaconda3\\lib\\site-packages (from jsonschema!=2.5.0,>=2.4->nbformat) (20.3.0)\n",
      "Requirement already satisfied: six>=1.11.0 in c:\\users\\bdelamater\\anaconda3\\lib\\site-packages (from jsonschema!=2.5.0,>=2.4->nbformat) (1.15.0)\n",
      "Requirement already satisfied: pywin32>=1.0 in c:\\users\\bdelamater\\anaconda3\\lib\\site-packages (from jupyter-core->nbformat) (227)\n",
      "Requirement already satisfied: gensim in c:\\users\\bdelamater\\anaconda3\\lib\\site-packages (4.0.1)\n",
      "Requirement already satisfied: smart-open>=1.8.1 in c:\\users\\bdelamater\\anaconda3\\lib\\site-packages (from gensim) (5.1.0)\n",
      "Requirement already satisfied: numpy>=1.11.3 in c:\\users\\bdelamater\\anaconda3\\lib\\site-packages (from gensim) (1.20.1)\n",
      "Requirement already satisfied: Cython==0.29.21 in c:\\users\\bdelamater\\anaconda3\\lib\\site-packages (from gensim) (0.29.21)\n",
      "Requirement already satisfied: scipy>=0.18.1 in c:\\users\\bdelamater\\anaconda3\\lib\\site-packages (from gensim) (1.6.2)\n",
      "Requirement already satisfied: langdetect in c:\\users\\bdelamater\\anaconda3\\lib\\site-packages (1.0.9)\n",
      "Requirement already satisfied: six in c:\\users\\bdelamater\\anaconda3\\lib\\site-packages (from langdetect) (1.15.0)\n",
      "Requirement already satisfied: ipywidgets in c:\\users\\bdelamater\\anaconda3\\lib\\site-packages (7.6.3)\n",
      "Requirement already satisfied: ipython>=4.0.0 in c:\\users\\bdelamater\\anaconda3\\lib\\site-packages (from ipywidgets) (7.22.0)\n",
      "Requirement already satisfied: ipykernel>=4.5.1 in c:\\users\\bdelamater\\anaconda3\\lib\\site-packages (from ipywidgets) (5.3.4)\n",
      "Requirement already satisfied: traitlets>=4.3.1 in c:\\users\\bdelamater\\anaconda3\\lib\\site-packages (from ipywidgets) (5.0.5)\n",
      "Requirement already satisfied: widgetsnbextension~=3.5.0 in c:\\users\\bdelamater\\anaconda3\\lib\\site-packages (from ipywidgets) (3.5.1)\n",
      "Requirement already satisfied: nbformat>=4.2.0 in c:\\users\\bdelamater\\anaconda3\\lib\\site-packages (from ipywidgets) (5.1.3)\n",
      "Requirement already satisfied: jupyterlab-widgets>=1.0.0 in c:\\users\\bdelamater\\anaconda3\\lib\\site-packages (from ipywidgets) (1.0.0)\n",
      "Requirement already satisfied: tornado>=4.2 in c:\\users\\bdelamater\\anaconda3\\lib\\site-packages (from ipykernel>=4.5.1->ipywidgets) (6.1)\n",
      "Requirement already satisfied: jupyter-client in c:\\users\\bdelamater\\anaconda3\\lib\\site-packages (from ipykernel>=4.5.1->ipywidgets) (6.1.12)\n",
      "Requirement already satisfied: pygments in c:\\users\\bdelamater\\anaconda3\\lib\\site-packages (from ipython>=4.0.0->ipywidgets) (2.8.1)\n",
      "Requirement already satisfied: decorator in c:\\users\\bdelamater\\anaconda3\\lib\\site-packages (from ipython>=4.0.0->ipywidgets) (5.0.6)\n",
      "Requirement already satisfied: pickleshare in c:\\users\\bdelamater\\anaconda3\\lib\\site-packages (from ipython>=4.0.0->ipywidgets) (0.7.5)\n",
      "Requirement already satisfied: colorama in c:\\users\\bdelamater\\anaconda3\\lib\\site-packages (from ipython>=4.0.0->ipywidgets) (0.4.4)\n",
      "Requirement already satisfied: setuptools>=18.5 in c:\\users\\bdelamater\\anaconda3\\lib\\site-packages (from ipython>=4.0.0->ipywidgets) (52.0.0.post20210125)\n",
      "Requirement already satisfied: prompt-toolkit!=3.0.0,!=3.0.1,<3.1.0,>=2.0.0 in c:\\users\\bdelamater\\anaconda3\\lib\\site-packages (from ipython>=4.0.0->ipywidgets) (3.0.17)\n",
      "Requirement already satisfied: jedi>=0.16 in c:\\users\\bdelamater\\anaconda3\\lib\\site-packages (from ipython>=4.0.0->ipywidgets) (0.17.2)\n",
      "Requirement already satisfied: backcall in c:\\users\\bdelamater\\anaconda3\\lib\\site-packages (from ipython>=4.0.0->ipywidgets) (0.2.0)\n",
      "Requirement already satisfied: parso<0.8.0,>=0.7.0 in c:\\users\\bdelamater\\anaconda3\\lib\\site-packages (from jedi>=0.16->ipython>=4.0.0->ipywidgets) (0.7.0)\n",
      "Requirement already satisfied: ipython-genutils in c:\\users\\bdelamater\\anaconda3\\lib\\site-packages (from nbformat>=4.2.0->ipywidgets) (0.2.0)\n",
      "Requirement already satisfied: jsonschema!=2.5.0,>=2.4 in c:\\users\\bdelamater\\anaconda3\\lib\\site-packages (from nbformat>=4.2.0->ipywidgets) (3.2.0)\n",
      "Requirement already satisfied: jupyter-core in c:\\users\\bdelamater\\anaconda3\\lib\\site-packages (from nbformat>=4.2.0->ipywidgets) (4.7.1)\n",
      "Requirement already satisfied: attrs>=17.4.0 in c:\\users\\bdelamater\\anaconda3\\lib\\site-packages (from jsonschema!=2.5.0,>=2.4->nbformat>=4.2.0->ipywidgets) (20.3.0)\n",
      "Requirement already satisfied: pyrsistent>=0.14.0 in c:\\users\\bdelamater\\anaconda3\\lib\\site-packages (from jsonschema!=2.5.0,>=2.4->nbformat>=4.2.0->ipywidgets) (0.17.3)\n",
      "Requirement already satisfied: six>=1.11.0 in c:\\users\\bdelamater\\anaconda3\\lib\\site-packages (from jsonschema!=2.5.0,>=2.4->nbformat>=4.2.0->ipywidgets) (1.15.0)\n",
      "Requirement already satisfied: wcwidth in c:\\users\\bdelamater\\anaconda3\\lib\\site-packages (from prompt-toolkit!=3.0.0,!=3.0.1,<3.1.0,>=2.0.0->ipython>=4.0.0->ipywidgets) (0.2.5)\n",
      "Requirement already satisfied: notebook>=4.4.1 in c:\\users\\bdelamater\\anaconda3\\lib\\site-packages (from widgetsnbextension~=3.5.0->ipywidgets) (6.3.0)\n",
      "Requirement already satisfied: pyzmq>=17 in c:\\users\\bdelamater\\anaconda3\\lib\\site-packages (from notebook>=4.4.1->widgetsnbextension~=3.5.0->ipywidgets) (20.0.0)\n",
      "Requirement already satisfied: jinja2 in c:\\users\\bdelamater\\anaconda3\\lib\\site-packages (from notebook>=4.4.1->widgetsnbextension~=3.5.0->ipywidgets) (2.11.3)\n",
      "Requirement already satisfied: nbconvert in c:\\users\\bdelamater\\anaconda3\\lib\\site-packages (from notebook>=4.4.1->widgetsnbextension~=3.5.0->ipywidgets) (6.0.7)\n",
      "Requirement already satisfied: Send2Trash>=1.5.0 in c:\\users\\bdelamater\\anaconda3\\lib\\site-packages (from notebook>=4.4.1->widgetsnbextension~=3.5.0->ipywidgets) (1.5.0)\n",
      "Requirement already satisfied: terminado>=0.8.3 in c:\\users\\bdelamater\\anaconda3\\lib\\site-packages (from notebook>=4.4.1->widgetsnbextension~=3.5.0->ipywidgets) (0.9.4)\n",
      "Requirement already satisfied: argon2-cffi in c:\\users\\bdelamater\\anaconda3\\lib\\site-packages (from notebook>=4.4.1->widgetsnbextension~=3.5.0->ipywidgets) (20.1.0)\n",
      "Requirement already satisfied: prometheus-client in c:\\users\\bdelamater\\anaconda3\\lib\\site-packages (from notebook>=4.4.1->widgetsnbextension~=3.5.0->ipywidgets) (0.10.1)\n",
      "Requirement already satisfied: python-dateutil>=2.1 in c:\\users\\bdelamater\\anaconda3\\lib\\site-packages (from jupyter-client->ipykernel>=4.5.1->ipywidgets) (2.8.1)\n",
      "Requirement already satisfied: pywin32>=1.0 in c:\\users\\bdelamater\\anaconda3\\lib\\site-packages (from jupyter-core->nbformat>=4.2.0->ipywidgets) (227)\n",
      "Requirement already satisfied: pywinpty>=0.5 in c:\\users\\bdelamater\\anaconda3\\lib\\site-packages (from terminado>=0.8.3->notebook>=4.4.1->widgetsnbextension~=3.5.0->ipywidgets) (0.5.7)\n",
      "Requirement already satisfied: cffi>=1.0.0 in c:\\users\\bdelamater\\anaconda3\\lib\\site-packages (from argon2-cffi->notebook>=4.4.1->widgetsnbextension~=3.5.0->ipywidgets) (1.14.5)\n",
      "Requirement already satisfied: pycparser in c:\\users\\bdelamater\\anaconda3\\lib\\site-packages (from cffi>=1.0.0->argon2-cffi->notebook>=4.4.1->widgetsnbextension~=3.5.0->ipywidgets) (2.20)\n",
      "Requirement already satisfied: MarkupSafe>=0.23 in c:\\users\\bdelamater\\anaconda3\\lib\\site-packages (from jinja2->notebook>=4.4.1->widgetsnbextension~=3.5.0->ipywidgets) (1.1.1)\n",
      "Requirement already satisfied: jupyterlab-pygments in c:\\users\\bdelamater\\anaconda3\\lib\\site-packages (from nbconvert->notebook>=4.4.1->widgetsnbextension~=3.5.0->ipywidgets) (0.1.2)\n",
      "Requirement already satisfied: testpath in c:\\users\\bdelamater\\anaconda3\\lib\\site-packages (from nbconvert->notebook>=4.4.1->widgetsnbextension~=3.5.0->ipywidgets) (0.4.4)\n",
      "Requirement already satisfied: mistune<2,>=0.8.1 in c:\\users\\bdelamater\\anaconda3\\lib\\site-packages (from nbconvert->notebook>=4.4.1->widgetsnbextension~=3.5.0->ipywidgets) (0.8.4)\n",
      "Requirement already satisfied: defusedxml in c:\\users\\bdelamater\\anaconda3\\lib\\site-packages (from nbconvert->notebook>=4.4.1->widgetsnbextension~=3.5.0->ipywidgets) (0.7.1)\n",
      "Requirement already satisfied: bleach in c:\\users\\bdelamater\\anaconda3\\lib\\site-packages (from nbconvert->notebook>=4.4.1->widgetsnbextension~=3.5.0->ipywidgets) (3.3.0)\n",
      "Requirement already satisfied: entrypoints>=0.2.2 in c:\\users\\bdelamater\\anaconda3\\lib\\site-packages (from nbconvert->notebook>=4.4.1->widgetsnbextension~=3.5.0->ipywidgets) (0.3)\n",
      "Requirement already satisfied: pandocfilters>=1.4.1 in c:\\users\\bdelamater\\anaconda3\\lib\\site-packages (from nbconvert->notebook>=4.4.1->widgetsnbextension~=3.5.0->ipywidgets) (1.4.3)\n",
      "Requirement already satisfied: nbclient<0.6.0,>=0.5.0 in c:\\users\\bdelamater\\anaconda3\\lib\\site-packages (from nbconvert->notebook>=4.4.1->widgetsnbextension~=3.5.0->ipywidgets) (0.5.3)\n",
      "Requirement already satisfied: nest-asyncio in c:\\users\\bdelamater\\anaconda3\\lib\\site-packages (from nbclient<0.6.0,>=0.5.0->nbconvert->notebook>=4.4.1->widgetsnbextension~=3.5.0->ipywidgets) (1.5.1)\n",
      "Requirement already satisfied: async-generator in c:\\users\\bdelamater\\anaconda3\\lib\\site-packages (from nbclient<0.6.0,>=0.5.0->nbconvert->notebook>=4.4.1->widgetsnbextension~=3.5.0->ipywidgets) (1.10)\n",
      "Requirement already satisfied: packaging in c:\\users\\bdelamater\\anaconda3\\lib\\site-packages (from bleach->nbconvert->notebook>=4.4.1->widgetsnbextension~=3.5.0->ipywidgets) (20.9)\n",
      "Requirement already satisfied: webencodings in c:\\users\\bdelamater\\anaconda3\\lib\\site-packages (from bleach->nbconvert->notebook>=4.4.1->widgetsnbextension~=3.5.0->ipywidgets) (0.5.1)\n",
      "Requirement already satisfied: pyparsing>=2.0.2 in c:\\users\\bdelamater\\anaconda3\\lib\\site-packages (from packaging->bleach->nbconvert->notebook>=4.4.1->widgetsnbextension~=3.5.0->ipywidgets) (2.4.7)\n"
     ]
    }
   ],
   "source": [
    "! pip install lxml\n",
    "! pip install nltk\n",
    "! pip install seaborn\n",
    "! pip install textblob\n",
    "! pip install bs4\n",
    "! pip install xlrd\n",
    "! pip install openpyxl \n",
    "! pip install --upgrade nbformat\n",
    "! pip install gensim\n",
    "! pip install langdetect\n",
    "! pip install ipywidgets"
   ]
  },
  {
   "cell_type": "code",
   "execution_count": 2,
   "metadata": {},
   "outputs": [
    {
     "name": "stderr",
     "output_type": "stream",
     "text": [
      "[nltk_data] Downloading package wordnet to\n",
      "[nltk_data]     C:\\Users\\BDelamater\\AppData\\Roaming\\nltk_data...\n",
      "[nltk_data]   Package wordnet is already up-to-date!\n",
      "[nltk_data] Downloading package stopwords to\n",
      "[nltk_data]     C:\\Users\\BDelamater\\AppData\\Roaming\\nltk_data...\n",
      "[nltk_data]   Package stopwords is already up-to-date!\n",
      "[nltk_data] Downloading package punkt to\n",
      "[nltk_data]     C:\\Users\\BDelamater\\AppData\\Roaming\\nltk_data...\n",
      "[nltk_data]   Package punkt is already up-to-date!\n",
      "[nltk_data] Downloading package vader_lexicon to\n",
      "[nltk_data]     C:\\Users\\BDelamater\\AppData\\Roaming\\nltk_data...\n",
      "[nltk_data]   Package vader_lexicon is already up-to-date!\n"
     ]
    }
   ],
   "source": [
    "import nltk\n",
    "nltk.download('wordnet')\n",
    "nltk.download('stopwords')\n",
    "nltk.download('punkt')\n",
    "nltk.download('vader_lexicon')\n",
    "\n",
    "import pandas as pd\n",
    "import numpy as np\n",
    "from sklearn.metrics import classification_report, confusion_matrix, accuracy_score, \\\n",
    "precision_score, recall_score\n",
    "import seaborn as sns\n",
    "import matplotlib.pyplot as plt\n",
    "\n",
    "# For graphing charts\n",
    "import plotly.graph_objects as go\n",
    "from plotly.subplots import make_subplots\n",
    "import re\n",
    "import plotly.express as px\n",
    "\n",
    "\n",
    "import pandas as pd\n",
    "import numpy as np\n",
    "import scipy as sp\n",
    "from sklearn.model_selection import train_test_split\n",
    "from sklearn.feature_extraction.text import CountVectorizer, TfidfVectorizer\n",
    "from sklearn.naive_bayes import MultinomialNB         # Naive Bayes\n",
    "from sklearn.linear_model import LogisticRegression\n",
    "from sklearn import metrics\n",
    "from textblob import TextBlob, Word\n",
    "from nltk.stem.snowball import SnowballStemmer\n",
    "from bs4 import BeautifulSoup\n",
    "\n",
    "# Dataset to process\n",
    "myFile = '../data/SageCityForumData.xlsx'\n",
    "GraphTitle = 'Sage City Forum Sentiment'"
   ]
  },
  {
   "cell_type": "markdown",
   "metadata": {},
   "source": [
    "## Data Exploration and Cleaning"
   ]
  },
  {
   "cell_type": "code",
   "execution_count": 3,
   "metadata": {},
   "outputs": [
    {
     "name": "stdout",
     "output_type": "stream",
     "text": [
      "(2943, 10)\n"
     ]
    },
    {
     "data": {
      "text/html": [
       "<div>\n",
       "<style scoped>\n",
       "    .dataframe tbody tr th:only-of-type {\n",
       "        vertical-align: middle;\n",
       "    }\n",
       "\n",
       "    .dataframe tbody tr th {\n",
       "        vertical-align: top;\n",
       "    }\n",
       "\n",
       "    .dataframe thead th {\n",
       "        text-align: right;\n",
       "    }\n",
       "</style>\n",
       "<table border=\"1\" class=\"dataframe\">\n",
       "  <thead>\n",
       "    <tr style=\"text-align: right;\">\n",
       "      <th></th>\n",
       "      <th>ID</th>\n",
       "      <th>Forum ID</th>\n",
       "      <th>Forum Name</th>\n",
       "      <th>Body</th>\n",
       "      <th>Subject</th>\n",
       "      <th>Post Date</th>\n",
       "      <th>User DisplayName</th>\n",
       "      <th>Is Question</th>\n",
       "      <th>Tags</th>\n",
       "      <th>Likes</th>\n",
       "    </tr>\n",
       "  </thead>\n",
       "  <tbody>\n",
       "    <tr>\n",
       "      <th>0</th>\n",
       "      <td>133741</td>\n",
       "      <td>40</td>\n",
       "      <td>Sage X3 General Discussion</td>\n",
       "      <td>&lt;p class=\"_1qeIAgB0cPwnLhDF9XSiJM\"&gt;Company upg...</td>\n",
       "      <td>ERP help urgently needed</td>\n",
       "      <td>2019-10-10T05:58:05.73</td>\n",
       "      <td>ChinusGomes</td>\n",
       "      <td>QuestionAndAnswer</td>\n",
       "      <td>NaN</td>\n",
       "      <td>NaN</td>\n",
       "    </tr>\n",
       "    <tr>\n",
       "      <th>1</th>\n",
       "      <td>133741</td>\n",
       "      <td>40</td>\n",
       "      <td>Sage X3 General Discussion</td>\n",
       "      <td>&lt;p class=\"_1qeIAgB0cPwnLhDF9XSiJM\"&gt;Company upg...</td>\n",
       "      <td>ERP help urgently needed</td>\n",
       "      <td>2019-10-10T05:58:05.73</td>\n",
       "      <td>ChinusGomes</td>\n",
       "      <td>QuestionAndAnswer</td>\n",
       "      <td>NaN</td>\n",
       "      <td>NaN</td>\n",
       "    </tr>\n",
       "    <tr>\n",
       "      <th>2</th>\n",
       "      <td>133741</td>\n",
       "      <td>40</td>\n",
       "      <td>Sage X3 General Discussion</td>\n",
       "      <td>&lt;p class=\"_1qeIAgB0cPwnLhDF9XSiJM\"&gt;Company upg...</td>\n",
       "      <td>ERP help urgently needed</td>\n",
       "      <td>2019-10-10T05:58:05.73</td>\n",
       "      <td>ChinusGomes</td>\n",
       "      <td>QuestionAndAnswer</td>\n",
       "      <td>NaN</td>\n",
       "      <td>NaN</td>\n",
       "    </tr>\n",
       "    <tr>\n",
       "      <th>3</th>\n",
       "      <td>133741</td>\n",
       "      <td>40</td>\n",
       "      <td>Sage X3 General Discussion</td>\n",
       "      <td>&lt;p class=\"_1qeIAgB0cPwnLhDF9XSiJM\"&gt;Company upg...</td>\n",
       "      <td>ERP help urgently needed</td>\n",
       "      <td>2019-10-10T05:58:05.73</td>\n",
       "      <td>ChinusGomes</td>\n",
       "      <td>QuestionAndAnswer</td>\n",
       "      <td>NaN</td>\n",
       "      <td>NaN</td>\n",
       "    </tr>\n",
       "    <tr>\n",
       "      <th>4</th>\n",
       "      <td>133741</td>\n",
       "      <td>40</td>\n",
       "      <td>Sage X3 General Discussion</td>\n",
       "      <td>&lt;p class=\"_1qeIAgB0cPwnLhDF9XSiJM\"&gt;Company upg...</td>\n",
       "      <td>ERP help urgently needed</td>\n",
       "      <td>2019-10-10T05:58:05.73</td>\n",
       "      <td>ChinusGomes</td>\n",
       "      <td>QuestionAndAnswer</td>\n",
       "      <td>NaN</td>\n",
       "      <td>NaN</td>\n",
       "    </tr>\n",
       "    <tr>\n",
       "      <th>5</th>\n",
       "      <td>133741</td>\n",
       "      <td>40</td>\n",
       "      <td>Sage X3 General Discussion</td>\n",
       "      <td>&lt;p class=\"_1qeIAgB0cPwnLhDF9XSiJM\"&gt;Company upg...</td>\n",
       "      <td>ERP help urgently needed</td>\n",
       "      <td>2019-10-10T05:58:05.73</td>\n",
       "      <td>ChinusGomes</td>\n",
       "      <td>QuestionAndAnswer</td>\n",
       "      <td>NaN</td>\n",
       "      <td>NaN</td>\n",
       "    </tr>\n",
       "    <tr>\n",
       "      <th>6</th>\n",
       "      <td>133741</td>\n",
       "      <td>40</td>\n",
       "      <td>Sage X3 General Discussion</td>\n",
       "      <td>&lt;p class=\"_1qeIAgB0cPwnLhDF9XSiJM\"&gt;Company upg...</td>\n",
       "      <td>ERP help urgently needed</td>\n",
       "      <td>2019-10-10T05:58:05.73</td>\n",
       "      <td>ChinusGomes</td>\n",
       "      <td>QuestionAndAnswer</td>\n",
       "      <td>NaN</td>\n",
       "      <td>NaN</td>\n",
       "    </tr>\n",
       "    <tr>\n",
       "      <th>7</th>\n",
       "      <td>133741</td>\n",
       "      <td>40</td>\n",
       "      <td>Sage X3 General Discussion</td>\n",
       "      <td>&lt;p class=\"_1qeIAgB0cPwnLhDF9XSiJM\"&gt;Company upg...</td>\n",
       "      <td>ERP help urgently needed</td>\n",
       "      <td>2019-10-10T05:58:05.73</td>\n",
       "      <td>ChinusGomes</td>\n",
       "      <td>QuestionAndAnswer</td>\n",
       "      <td>NaN</td>\n",
       "      <td>NaN</td>\n",
       "    </tr>\n",
       "    <tr>\n",
       "      <th>8</th>\n",
       "      <td>133741</td>\n",
       "      <td>40</td>\n",
       "      <td>Sage X3 General Discussion</td>\n",
       "      <td>&lt;p class=\"_1qeIAgB0cPwnLhDF9XSiJM\"&gt;Company upg...</td>\n",
       "      <td>ERP help urgently needed</td>\n",
       "      <td>2019-10-10T05:58:05.73</td>\n",
       "      <td>ChinusGomes</td>\n",
       "      <td>QuestionAndAnswer</td>\n",
       "      <td>NaN</td>\n",
       "      <td>NaN</td>\n",
       "    </tr>\n",
       "    <tr>\n",
       "      <th>9</th>\n",
       "      <td>133741</td>\n",
       "      <td>40</td>\n",
       "      <td>Sage X3 General Discussion</td>\n",
       "      <td>&lt;p class=\"_1qeIAgB0cPwnLhDF9XSiJM\"&gt;Company upg...</td>\n",
       "      <td>ERP help urgently needed</td>\n",
       "      <td>2019-10-10T05:58:05.73</td>\n",
       "      <td>ChinusGomes</td>\n",
       "      <td>QuestionAndAnswer</td>\n",
       "      <td>NaN</td>\n",
       "      <td>NaN</td>\n",
       "    </tr>\n",
       "  </tbody>\n",
       "</table>\n",
       "</div>"
      ],
      "text/plain": [
       "       ID  Forum ID                  Forum Name  \\\n",
       "0  133741        40  Sage X3 General Discussion   \n",
       "1  133741        40  Sage X3 General Discussion   \n",
       "2  133741        40  Sage X3 General Discussion   \n",
       "3  133741        40  Sage X3 General Discussion   \n",
       "4  133741        40  Sage X3 General Discussion   \n",
       "5  133741        40  Sage X3 General Discussion   \n",
       "6  133741        40  Sage X3 General Discussion   \n",
       "7  133741        40  Sage X3 General Discussion   \n",
       "8  133741        40  Sage X3 General Discussion   \n",
       "9  133741        40  Sage X3 General Discussion   \n",
       "\n",
       "                                                Body  \\\n",
       "0  <p class=\"_1qeIAgB0cPwnLhDF9XSiJM\">Company upg...   \n",
       "1  <p class=\"_1qeIAgB0cPwnLhDF9XSiJM\">Company upg...   \n",
       "2  <p class=\"_1qeIAgB0cPwnLhDF9XSiJM\">Company upg...   \n",
       "3  <p class=\"_1qeIAgB0cPwnLhDF9XSiJM\">Company upg...   \n",
       "4  <p class=\"_1qeIAgB0cPwnLhDF9XSiJM\">Company upg...   \n",
       "5  <p class=\"_1qeIAgB0cPwnLhDF9XSiJM\">Company upg...   \n",
       "6  <p class=\"_1qeIAgB0cPwnLhDF9XSiJM\">Company upg...   \n",
       "7  <p class=\"_1qeIAgB0cPwnLhDF9XSiJM\">Company upg...   \n",
       "8  <p class=\"_1qeIAgB0cPwnLhDF9XSiJM\">Company upg...   \n",
       "9  <p class=\"_1qeIAgB0cPwnLhDF9XSiJM\">Company upg...   \n",
       "\n",
       "                    Subject               Post Date User DisplayName  \\\n",
       "0  ERP help urgently needed  2019-10-10T05:58:05.73      ChinusGomes   \n",
       "1  ERP help urgently needed  2019-10-10T05:58:05.73      ChinusGomes   \n",
       "2  ERP help urgently needed  2019-10-10T05:58:05.73      ChinusGomes   \n",
       "3  ERP help urgently needed  2019-10-10T05:58:05.73      ChinusGomes   \n",
       "4  ERP help urgently needed  2019-10-10T05:58:05.73      ChinusGomes   \n",
       "5  ERP help urgently needed  2019-10-10T05:58:05.73      ChinusGomes   \n",
       "6  ERP help urgently needed  2019-10-10T05:58:05.73      ChinusGomes   \n",
       "7  ERP help urgently needed  2019-10-10T05:58:05.73      ChinusGomes   \n",
       "8  ERP help urgently needed  2019-10-10T05:58:05.73      ChinusGomes   \n",
       "9  ERP help urgently needed  2019-10-10T05:58:05.73      ChinusGomes   \n",
       "\n",
       "         Is Question Tags  Likes  \n",
       "0  QuestionAndAnswer  NaN    NaN  \n",
       "1  QuestionAndAnswer  NaN    NaN  \n",
       "2  QuestionAndAnswer  NaN    NaN  \n",
       "3  QuestionAndAnswer  NaN    NaN  \n",
       "4  QuestionAndAnswer  NaN    NaN  \n",
       "5  QuestionAndAnswer  NaN    NaN  \n",
       "6  QuestionAndAnswer  NaN    NaN  \n",
       "7  QuestionAndAnswer  NaN    NaN  \n",
       "8  QuestionAndAnswer  NaN    NaN  \n",
       "9  QuestionAndAnswer  NaN    NaN  "
      ]
     },
     "execution_count": 3,
     "metadata": {},
     "output_type": "execute_result"
    }
   ],
   "source": [
    "# Read yelp.csv into a DataFrame.\n",
    "df_Forum = pd.read_excel(myFile, sheet_name='Forum List')\n",
    "print(df_Forum.shape)\n",
    "df_Forum.head(10)"
   ]
  },
  {
   "cell_type": "markdown",
   "metadata": {},
   "source": [
    "# Clean the html"
   ]
  },
  {
   "cell_type": "markdown",
   "metadata": {},
   "source": [
    "## Option 1"
   ]
  },
  {
   "cell_type": "code",
   "execution_count": 4,
   "metadata": {},
   "outputs": [],
   "source": [
    "# def cleanhtml(raw_html):\n",
    "#     cleanr = re.compile('<.*?>')\n",
    "#     cleantext = re.sub(cleanr,'',raw_html)\n",
    "#     return cleantext\n",
    "# cleanhtml(df_Forum['Body'][0])"
   ]
  },
  {
   "cell_type": "markdown",
   "metadata": {},
   "source": [
    "## Option 2: BeautifulSoup"
   ]
  },
  {
   "cell_type": "code",
   "execution_count": 5,
   "metadata": {},
   "outputs": [],
   "source": [
    "def cleanhtml(raw_html):\n",
    "    return BeautifulSoup(raw_html, \"lxml\").text"
   ]
  },
  {
   "cell_type": "code",
   "execution_count": 6,
   "metadata": {},
   "outputs": [
    {
     "data": {
      "text/html": [
       "<div>\n",
       "<style scoped>\n",
       "    .dataframe tbody tr th:only-of-type {\n",
       "        vertical-align: middle;\n",
       "    }\n",
       "\n",
       "    .dataframe tbody tr th {\n",
       "        vertical-align: top;\n",
       "    }\n",
       "\n",
       "    .dataframe thead th {\n",
       "        text-align: right;\n",
       "    }\n",
       "</style>\n",
       "<table border=\"1\" class=\"dataframe\">\n",
       "  <thead>\n",
       "    <tr style=\"text-align: right;\">\n",
       "      <th></th>\n",
       "      <th>ID</th>\n",
       "      <th>Forum ID</th>\n",
       "      <th>Forum Name</th>\n",
       "      <th>Body</th>\n",
       "      <th>Subject</th>\n",
       "      <th>Post Date</th>\n",
       "      <th>User DisplayName</th>\n",
       "      <th>Is Question</th>\n",
       "      <th>Tags</th>\n",
       "      <th>Likes</th>\n",
       "      <th>Forum_Post_Raw</th>\n",
       "    </tr>\n",
       "  </thead>\n",
       "  <tbody>\n",
       "    <tr>\n",
       "      <th>0</th>\n",
       "      <td>133741</td>\n",
       "      <td>40</td>\n",
       "      <td>Sage X3 General Discussion</td>\n",
       "      <td>&lt;p class=\"_1qeIAgB0cPwnLhDF9XSiJM\"&gt;Company upg...</td>\n",
       "      <td>ERP help urgently needed</td>\n",
       "      <td>2019-10-10T05:58:05.73</td>\n",
       "      <td>ChinusGomes</td>\n",
       "      <td>QuestionAndAnswer</td>\n",
       "      <td>NaN</td>\n",
       "      <td>NaN</td>\n",
       "      <td>Company upgraded to windows 10. Used to run an...</td>\n",
       "    </tr>\n",
       "    <tr>\n",
       "      <th>1</th>\n",
       "      <td>133741</td>\n",
       "      <td>40</td>\n",
       "      <td>Sage X3 General Discussion</td>\n",
       "      <td>&lt;p class=\"_1qeIAgB0cPwnLhDF9XSiJM\"&gt;Company upg...</td>\n",
       "      <td>ERP help urgently needed</td>\n",
       "      <td>2019-10-10T05:58:05.73</td>\n",
       "      <td>ChinusGomes</td>\n",
       "      <td>QuestionAndAnswer</td>\n",
       "      <td>NaN</td>\n",
       "      <td>NaN</td>\n",
       "      <td>Company upgraded to windows 10. Used to run an...</td>\n",
       "    </tr>\n",
       "    <tr>\n",
       "      <th>2</th>\n",
       "      <td>133741</td>\n",
       "      <td>40</td>\n",
       "      <td>Sage X3 General Discussion</td>\n",
       "      <td>&lt;p class=\"_1qeIAgB0cPwnLhDF9XSiJM\"&gt;Company upg...</td>\n",
       "      <td>ERP help urgently needed</td>\n",
       "      <td>2019-10-10T05:58:05.73</td>\n",
       "      <td>ChinusGomes</td>\n",
       "      <td>QuestionAndAnswer</td>\n",
       "      <td>NaN</td>\n",
       "      <td>NaN</td>\n",
       "      <td>Company upgraded to windows 10. Used to run an...</td>\n",
       "    </tr>\n",
       "    <tr>\n",
       "      <th>3</th>\n",
       "      <td>133741</td>\n",
       "      <td>40</td>\n",
       "      <td>Sage X3 General Discussion</td>\n",
       "      <td>&lt;p class=\"_1qeIAgB0cPwnLhDF9XSiJM\"&gt;Company upg...</td>\n",
       "      <td>ERP help urgently needed</td>\n",
       "      <td>2019-10-10T05:58:05.73</td>\n",
       "      <td>ChinusGomes</td>\n",
       "      <td>QuestionAndAnswer</td>\n",
       "      <td>NaN</td>\n",
       "      <td>NaN</td>\n",
       "      <td>Company upgraded to windows 10. Used to run an...</td>\n",
       "    </tr>\n",
       "    <tr>\n",
       "      <th>4</th>\n",
       "      <td>133741</td>\n",
       "      <td>40</td>\n",
       "      <td>Sage X3 General Discussion</td>\n",
       "      <td>&lt;p class=\"_1qeIAgB0cPwnLhDF9XSiJM\"&gt;Company upg...</td>\n",
       "      <td>ERP help urgently needed</td>\n",
       "      <td>2019-10-10T05:58:05.73</td>\n",
       "      <td>ChinusGomes</td>\n",
       "      <td>QuestionAndAnswer</td>\n",
       "      <td>NaN</td>\n",
       "      <td>NaN</td>\n",
       "      <td>Company upgraded to windows 10. Used to run an...</td>\n",
       "    </tr>\n",
       "  </tbody>\n",
       "</table>\n",
       "</div>"
      ],
      "text/plain": [
       "       ID  Forum ID                  Forum Name  \\\n",
       "0  133741        40  Sage X3 General Discussion   \n",
       "1  133741        40  Sage X3 General Discussion   \n",
       "2  133741        40  Sage X3 General Discussion   \n",
       "3  133741        40  Sage X3 General Discussion   \n",
       "4  133741        40  Sage X3 General Discussion   \n",
       "\n",
       "                                                Body  \\\n",
       "0  <p class=\"_1qeIAgB0cPwnLhDF9XSiJM\">Company upg...   \n",
       "1  <p class=\"_1qeIAgB0cPwnLhDF9XSiJM\">Company upg...   \n",
       "2  <p class=\"_1qeIAgB0cPwnLhDF9XSiJM\">Company upg...   \n",
       "3  <p class=\"_1qeIAgB0cPwnLhDF9XSiJM\">Company upg...   \n",
       "4  <p class=\"_1qeIAgB0cPwnLhDF9XSiJM\">Company upg...   \n",
       "\n",
       "                    Subject               Post Date User DisplayName  \\\n",
       "0  ERP help urgently needed  2019-10-10T05:58:05.73      ChinusGomes   \n",
       "1  ERP help urgently needed  2019-10-10T05:58:05.73      ChinusGomes   \n",
       "2  ERP help urgently needed  2019-10-10T05:58:05.73      ChinusGomes   \n",
       "3  ERP help urgently needed  2019-10-10T05:58:05.73      ChinusGomes   \n",
       "4  ERP help urgently needed  2019-10-10T05:58:05.73      ChinusGomes   \n",
       "\n",
       "         Is Question Tags  Likes  \\\n",
       "0  QuestionAndAnswer  NaN    NaN   \n",
       "1  QuestionAndAnswer  NaN    NaN   \n",
       "2  QuestionAndAnswer  NaN    NaN   \n",
       "3  QuestionAndAnswer  NaN    NaN   \n",
       "4  QuestionAndAnswer  NaN    NaN   \n",
       "\n",
       "                                      Forum_Post_Raw  \n",
       "0  Company upgraded to windows 10. Used to run an...  \n",
       "1  Company upgraded to windows 10. Used to run an...  \n",
       "2  Company upgraded to windows 10. Used to run an...  \n",
       "3  Company upgraded to windows 10. Used to run an...  \n",
       "4  Company upgraded to windows 10. Used to run an...  "
      ]
     },
     "execution_count": 6,
     "metadata": {},
     "output_type": "execute_result"
    }
   ],
   "source": [
    "# Create a neutral, positive, negative column\n",
    "\n",
    "df_Forum['Forum_Post_Raw'] = df_Forum.apply(lambda row: cleanhtml(row['Body']), axis=1)\n",
    "df_Forum.head(5)"
   ]
  },
  {
   "cell_type": "code",
   "execution_count": 7,
   "metadata": {},
   "outputs": [
    {
     "name": "stdout",
     "output_type": "stream",
     "text": [
      "Distinct records:  (1086, 6)\n",
      "Original Dataset:  (2943, 11)\n"
     ]
    }
   ],
   "source": [
    "df_distinct = df_Forum[['Forum ID', 'Forum Name', 'Subject', 'Post Date', 'User DisplayName', 'Forum_Post_Raw']].drop_duplicates(inplace=False).copy()\n",
    "print('Distinct records: ', df_distinct.shape)\n",
    "print('Original Dataset: ', df_Forum.shape)\n"
   ]
  },
  {
   "cell_type": "markdown",
   "metadata": {},
   "source": [
    "# Sentiment Analysis \n",
    "Code to generate sentiment analysis"
   ]
  },
  {
   "cell_type": "code",
   "execution_count": 8,
   "metadata": {},
   "outputs": [],
   "source": [
    "from nltk.sentiment.vader import SentimentIntensityAnalyzer\n",
    "sia = SentimentIntensityAnalyzer()\n",
    "\n",
    "compound= []\n",
    "neg = []\n",
    "neu = []\n",
    "pos = []\n",
    "for entry in df_distinct['Forum_Post_Raw']:\n",
    "    sent = sia.polarity_scores(entry)\n",
    "    compound.append(sent['compound'])\n",
    "    neg.append(sent['neg'])\n",
    "    neu.append(sent['neu'])\n",
    "    pos.append(sent['pos'])"
   ]
  },
  {
   "cell_type": "code",
   "execution_count": 9,
   "metadata": {},
   "outputs": [
    {
     "data": {
      "text/html": [
       "<div>\n",
       "<style scoped>\n",
       "    .dataframe tbody tr th:only-of-type {\n",
       "        vertical-align: middle;\n",
       "    }\n",
       "\n",
       "    .dataframe tbody tr th {\n",
       "        vertical-align: top;\n",
       "    }\n",
       "\n",
       "    .dataframe thead th {\n",
       "        text-align: right;\n",
       "    }\n",
       "</style>\n",
       "<table border=\"1\" class=\"dataframe\">\n",
       "  <thead>\n",
       "    <tr style=\"text-align: right;\">\n",
       "      <th></th>\n",
       "      <th>Forum ID</th>\n",
       "      <th>Forum Name</th>\n",
       "      <th>Subject</th>\n",
       "      <th>Post Date</th>\n",
       "      <th>User DisplayName</th>\n",
       "      <th>Forum_Post_Raw</th>\n",
       "      <th>compound</th>\n",
       "      <th>neg</th>\n",
       "      <th>neu</th>\n",
       "      <th>pos</th>\n",
       "    </tr>\n",
       "  </thead>\n",
       "  <tbody>\n",
       "    <tr>\n",
       "      <th>0</th>\n",
       "      <td>40</td>\n",
       "      <td>Sage X3 General Discussion</td>\n",
       "      <td>ERP help urgently needed</td>\n",
       "      <td>2019-10-10T05:58:05.73</td>\n",
       "      <td>ChinusGomes</td>\n",
       "      <td>Company upgraded to windows 10. Used to run an...</td>\n",
       "      <td>0.0387</td>\n",
       "      <td>0.063</td>\n",
       "      <td>0.873</td>\n",
       "      <td>0.064</td>\n",
       "    </tr>\n",
       "    <tr>\n",
       "      <th>31</th>\n",
       "      <td>40</td>\n",
       "      <td>Sage X3 General Discussion</td>\n",
       "      <td>Sage V11 patch 14 - release soon?</td>\n",
       "      <td>2019-10-10T12:44:35.957</td>\n",
       "      <td>AnikB</td>\n",
       "      <td>Hello!\\n\\nI see that Sage V11 patch 14 was com...</td>\n",
       "      <td>0.7044</td>\n",
       "      <td>0.022</td>\n",
       "      <td>0.915</td>\n",
       "      <td>0.063</td>\n",
       "    </tr>\n",
       "    <tr>\n",
       "      <th>62</th>\n",
       "      <td>673</td>\n",
       "      <td>Sage X3 Announcements, News, and Alerts</td>\n",
       "      <td>Sage X3 12.0.19 and Patch 19 Add-ons Updates h...</td>\n",
       "      <td>2019-10-10T14:56:52.947</td>\n",
       "      <td>Alecia</td>\n",
       "      <td>To access this download, log into https://supp...</td>\n",
       "      <td>0.9359</td>\n",
       "      <td>0.000</td>\n",
       "      <td>0.898</td>\n",
       "      <td>0.102</td>\n",
       "    </tr>\n",
       "    <tr>\n",
       "      <th>63</th>\n",
       "      <td>673</td>\n",
       "      <td>Sage X3 Announcements, News, and Alerts</td>\n",
       "      <td>Sage X3 Warehousing (GEODE) v12.0.19 has been ...</td>\n",
       "      <td>2019-10-10T20:56:53.483</td>\n",
       "      <td>pnightingale</td>\n",
       "      <td>To access this download, log into https://supp...</td>\n",
       "      <td>0.9359</td>\n",
       "      <td>0.000</td>\n",
       "      <td>0.898</td>\n",
       "      <td>0.102</td>\n",
       "    </tr>\n",
       "    <tr>\n",
       "      <th>64</th>\n",
       "      <td>40</td>\n",
       "      <td>Sage X3 General Discussion</td>\n",
       "      <td>Modifying Stock Change ST2 object</td>\n",
       "      <td>2019-10-11T13:10:28.983</td>\n",
       "      <td>ChrisCC</td>\n",
       "      <td>I am trying to remove some of the columns on t...</td>\n",
       "      <td>0.5980</td>\n",
       "      <td>0.046</td>\n",
       "      <td>0.865</td>\n",
       "      <td>0.090</td>\n",
       "    </tr>\n",
       "  </tbody>\n",
       "</table>\n",
       "</div>"
      ],
      "text/plain": [
       "    Forum ID                               Forum Name  \\\n",
       "0         40               Sage X3 General Discussion   \n",
       "31        40               Sage X3 General Discussion   \n",
       "62       673  Sage X3 Announcements, News, and Alerts   \n",
       "63       673  Sage X3 Announcements, News, and Alerts   \n",
       "64        40               Sage X3 General Discussion   \n",
       "\n",
       "                                              Subject  \\\n",
       "0                            ERP help urgently needed   \n",
       "31                  Sage V11 patch 14 - release soon?   \n",
       "62  Sage X3 12.0.19 and Patch 19 Add-ons Updates h...   \n",
       "63  Sage X3 Warehousing (GEODE) v12.0.19 has been ...   \n",
       "64                  Modifying Stock Change ST2 object   \n",
       "\n",
       "                  Post Date User DisplayName  \\\n",
       "0    2019-10-10T05:58:05.73      ChinusGomes   \n",
       "31  2019-10-10T12:44:35.957            AnikB   \n",
       "62  2019-10-10T14:56:52.947           Alecia   \n",
       "63  2019-10-10T20:56:53.483     pnightingale   \n",
       "64  2019-10-11T13:10:28.983          ChrisCC   \n",
       "\n",
       "                                       Forum_Post_Raw  compound    neg    neu  \\\n",
       "0   Company upgraded to windows 10. Used to run an...    0.0387  0.063  0.873   \n",
       "31  Hello!\\n\\nI see that Sage V11 patch 14 was com...    0.7044  0.022  0.915   \n",
       "62  To access this download, log into https://supp...    0.9359  0.000  0.898   \n",
       "63  To access this download, log into https://supp...    0.9359  0.000  0.898   \n",
       "64  I am trying to remove some of the columns on t...    0.5980  0.046  0.865   \n",
       "\n",
       "      pos  \n",
       "0   0.064  \n",
       "31  0.063  \n",
       "62  0.102  \n",
       "63  0.102  \n",
       "64  0.090  "
      ]
     },
     "execution_count": 9,
     "metadata": {},
     "output_type": "execute_result"
    }
   ],
   "source": [
    "df_distinct['compound'] = compound\n",
    "df_distinct['neg'] = neg\n",
    "df_distinct['neu'] = neu\n",
    "df_distinct['pos'] = pos\n",
    "df_distinct.head()"
   ]
  },
  {
   "cell_type": "code",
   "execution_count": 10,
   "metadata": {},
   "outputs": [],
   "source": [
    "def getSentiment(compoundScore):\n",
    "    retVal = \"Neutral\"\n",
    "    if (compoundScore > 0.05):\n",
    "        retVal = \"Positive\"\n",
    "    elif (compoundScore <= - 0.05):\n",
    "        retVal = \"Negative\"\n",
    "    \n",
    "    return retVal"
   ]
  },
  {
   "cell_type": "code",
   "execution_count": 11,
   "metadata": {},
   "outputs": [
    {
     "data": {
      "text/html": [
       "<div>\n",
       "<style scoped>\n",
       "    .dataframe tbody tr th:only-of-type {\n",
       "        vertical-align: middle;\n",
       "    }\n",
       "\n",
       "    .dataframe tbody tr th {\n",
       "        vertical-align: top;\n",
       "    }\n",
       "\n",
       "    .dataframe thead th {\n",
       "        text-align: right;\n",
       "    }\n",
       "</style>\n",
       "<table border=\"1\" class=\"dataframe\">\n",
       "  <thead>\n",
       "    <tr style=\"text-align: right;\">\n",
       "      <th></th>\n",
       "      <th>Forum ID</th>\n",
       "      <th>Forum Name</th>\n",
       "      <th>Subject</th>\n",
       "      <th>Post Date</th>\n",
       "      <th>User DisplayName</th>\n",
       "      <th>Forum_Post_Raw</th>\n",
       "      <th>compound</th>\n",
       "      <th>neg</th>\n",
       "      <th>neu</th>\n",
       "      <th>pos</th>\n",
       "      <th>Sentiment</th>\n",
       "    </tr>\n",
       "  </thead>\n",
       "  <tbody>\n",
       "    <tr>\n",
       "      <th>0</th>\n",
       "      <td>40</td>\n",
       "      <td>Sage X3 General Discussion</td>\n",
       "      <td>ERP help urgently needed</td>\n",
       "      <td>2019-10-10T05:58:05.73</td>\n",
       "      <td>ChinusGomes</td>\n",
       "      <td>Company upgraded to windows 10. Used to run an...</td>\n",
       "      <td>0.0387</td>\n",
       "      <td>0.063</td>\n",
       "      <td>0.873</td>\n",
       "      <td>0.064</td>\n",
       "      <td>Neutral</td>\n",
       "    </tr>\n",
       "    <tr>\n",
       "      <th>31</th>\n",
       "      <td>40</td>\n",
       "      <td>Sage X3 General Discussion</td>\n",
       "      <td>Sage V11 patch 14 - release soon?</td>\n",
       "      <td>2019-10-10T12:44:35.957</td>\n",
       "      <td>AnikB</td>\n",
       "      <td>Hello!\\n\\nI see that Sage V11 patch 14 was com...</td>\n",
       "      <td>0.7044</td>\n",
       "      <td>0.022</td>\n",
       "      <td>0.915</td>\n",
       "      <td>0.063</td>\n",
       "      <td>Positive</td>\n",
       "    </tr>\n",
       "    <tr>\n",
       "      <th>62</th>\n",
       "      <td>673</td>\n",
       "      <td>Sage X3 Announcements, News, and Alerts</td>\n",
       "      <td>Sage X3 12.0.19 and Patch 19 Add-ons Updates h...</td>\n",
       "      <td>2019-10-10T14:56:52.947</td>\n",
       "      <td>Alecia</td>\n",
       "      <td>To access this download, log into https://supp...</td>\n",
       "      <td>0.9359</td>\n",
       "      <td>0.000</td>\n",
       "      <td>0.898</td>\n",
       "      <td>0.102</td>\n",
       "      <td>Positive</td>\n",
       "    </tr>\n",
       "    <tr>\n",
       "      <th>63</th>\n",
       "      <td>673</td>\n",
       "      <td>Sage X3 Announcements, News, and Alerts</td>\n",
       "      <td>Sage X3 Warehousing (GEODE) v12.0.19 has been ...</td>\n",
       "      <td>2019-10-10T20:56:53.483</td>\n",
       "      <td>pnightingale</td>\n",
       "      <td>To access this download, log into https://supp...</td>\n",
       "      <td>0.9359</td>\n",
       "      <td>0.000</td>\n",
       "      <td>0.898</td>\n",
       "      <td>0.102</td>\n",
       "      <td>Positive</td>\n",
       "    </tr>\n",
       "    <tr>\n",
       "      <th>64</th>\n",
       "      <td>40</td>\n",
       "      <td>Sage X3 General Discussion</td>\n",
       "      <td>Modifying Stock Change ST2 object</td>\n",
       "      <td>2019-10-11T13:10:28.983</td>\n",
       "      <td>ChrisCC</td>\n",
       "      <td>I am trying to remove some of the columns on t...</td>\n",
       "      <td>0.5980</td>\n",
       "      <td>0.046</td>\n",
       "      <td>0.865</td>\n",
       "      <td>0.090</td>\n",
       "      <td>Positive</td>\n",
       "    </tr>\n",
       "  </tbody>\n",
       "</table>\n",
       "</div>"
      ],
      "text/plain": [
       "    Forum ID                               Forum Name  \\\n",
       "0         40               Sage X3 General Discussion   \n",
       "31        40               Sage X3 General Discussion   \n",
       "62       673  Sage X3 Announcements, News, and Alerts   \n",
       "63       673  Sage X3 Announcements, News, and Alerts   \n",
       "64        40               Sage X3 General Discussion   \n",
       "\n",
       "                                              Subject  \\\n",
       "0                            ERP help urgently needed   \n",
       "31                  Sage V11 patch 14 - release soon?   \n",
       "62  Sage X3 12.0.19 and Patch 19 Add-ons Updates h...   \n",
       "63  Sage X3 Warehousing (GEODE) v12.0.19 has been ...   \n",
       "64                  Modifying Stock Change ST2 object   \n",
       "\n",
       "                  Post Date User DisplayName  \\\n",
       "0    2019-10-10T05:58:05.73      ChinusGomes   \n",
       "31  2019-10-10T12:44:35.957            AnikB   \n",
       "62  2019-10-10T14:56:52.947           Alecia   \n",
       "63  2019-10-10T20:56:53.483     pnightingale   \n",
       "64  2019-10-11T13:10:28.983          ChrisCC   \n",
       "\n",
       "                                       Forum_Post_Raw  compound    neg    neu  \\\n",
       "0   Company upgraded to windows 10. Used to run an...    0.0387  0.063  0.873   \n",
       "31  Hello!\\n\\nI see that Sage V11 patch 14 was com...    0.7044  0.022  0.915   \n",
       "62  To access this download, log into https://supp...    0.9359  0.000  0.898   \n",
       "63  To access this download, log into https://supp...    0.9359  0.000  0.898   \n",
       "64  I am trying to remove some of the columns on t...    0.5980  0.046  0.865   \n",
       "\n",
       "      pos Sentiment  \n",
       "0   0.064   Neutral  \n",
       "31  0.063  Positive  \n",
       "62  0.102  Positive  \n",
       "63  0.102  Positive  \n",
       "64  0.090  Positive  "
      ]
     },
     "execution_count": 11,
     "metadata": {},
     "output_type": "execute_result"
    }
   ],
   "source": [
    "# Create a neutral, positive, negative column\n",
    "\n",
    "df_distinct['Sentiment'] = df_distinct.apply(lambda row: getSentiment(row['compound']), axis=1)\n",
    "df_distinct.head(5)"
   ]
  },
  {
   "cell_type": "code",
   "execution_count": 12,
   "metadata": {},
   "outputs": [
    {
     "data": {
      "text/plain": [
       "Forum ID                     int64\n",
       "Forum Name                  object\n",
       "Subject                     object\n",
       "Post Date                   object\n",
       "User DisplayName            object\n",
       "Forum_Post_Raw              object\n",
       "compound                   float64\n",
       "neg                        float64\n",
       "neu                        float64\n",
       "pos                        float64\n",
       "Sentiment                   object\n",
       "PostDate            datetime64[ns]\n",
       "DayName                     object\n",
       "DayOfMonth                   int64\n",
       "dtype: object"
      ]
     },
     "execution_count": 12,
     "metadata": {},
     "output_type": "execute_result"
    }
   ],
   "source": [
    "# Make a day column in numeric format so we can use it for linear regression later\n",
    "df_distinct['PostDate'] = pd.to_datetime(df_Forum['Post Date'])\n",
    "df_distinct['DayName'] = df_distinct['PostDate'].dt.day_name()\n",
    "df_distinct['DayOfMonth'] = df_distinct['PostDate'].dt.day\n",
    "df_distinct.dtypes\n"
   ]
  },
  {
   "cell_type": "code",
   "execution_count": 13,
   "metadata": {},
   "outputs": [
    {
     "data": {
      "text/html": [
       "<div>\n",
       "<style scoped>\n",
       "    .dataframe tbody tr th:only-of-type {\n",
       "        vertical-align: middle;\n",
       "    }\n",
       "\n",
       "    .dataframe tbody tr th {\n",
       "        vertical-align: top;\n",
       "    }\n",
       "\n",
       "    .dataframe thead th {\n",
       "        text-align: right;\n",
       "    }\n",
       "</style>\n",
       "<table border=\"1\" class=\"dataframe\">\n",
       "  <thead>\n",
       "    <tr style=\"text-align: right;\">\n",
       "      <th></th>\n",
       "      <th>Forum ID</th>\n",
       "      <th>Forum Name</th>\n",
       "      <th>Subject</th>\n",
       "      <th>Post Date</th>\n",
       "      <th>User DisplayName</th>\n",
       "      <th>Forum_Post_Raw</th>\n",
       "      <th>compound</th>\n",
       "      <th>neg</th>\n",
       "      <th>neu</th>\n",
       "      <th>pos</th>\n",
       "      <th>Sentiment</th>\n",
       "      <th>PostDate</th>\n",
       "      <th>DayName</th>\n",
       "      <th>DayOfMonth</th>\n",
       "    </tr>\n",
       "  </thead>\n",
       "  <tbody>\n",
       "    <tr>\n",
       "      <th>0</th>\n",
       "      <td>40</td>\n",
       "      <td>Sage X3 General Discussion</td>\n",
       "      <td>ERP help urgently needed</td>\n",
       "      <td>2019-10-10T05:58:05.73</td>\n",
       "      <td>ChinusGomes</td>\n",
       "      <td>Company upgraded to windows 10. Used to run an...</td>\n",
       "      <td>0.0387</td>\n",
       "      <td>0.063</td>\n",
       "      <td>0.873</td>\n",
       "      <td>0.064</td>\n",
       "      <td>Neutral</td>\n",
       "      <td>2019-10-10 05:58:05.730</td>\n",
       "      <td>Thursday</td>\n",
       "      <td>10</td>\n",
       "    </tr>\n",
       "    <tr>\n",
       "      <th>31</th>\n",
       "      <td>40</td>\n",
       "      <td>Sage X3 General Discussion</td>\n",
       "      <td>Sage V11 patch 14 - release soon?</td>\n",
       "      <td>2019-10-10T12:44:35.957</td>\n",
       "      <td>AnikB</td>\n",
       "      <td>Hello!\\n\\nI see that Sage V11 patch 14 was com...</td>\n",
       "      <td>0.7044</td>\n",
       "      <td>0.022</td>\n",
       "      <td>0.915</td>\n",
       "      <td>0.063</td>\n",
       "      <td>Positive</td>\n",
       "      <td>2019-10-10 12:44:35.957</td>\n",
       "      <td>Thursday</td>\n",
       "      <td>10</td>\n",
       "    </tr>\n",
       "    <tr>\n",
       "      <th>62</th>\n",
       "      <td>673</td>\n",
       "      <td>Sage X3 Announcements, News, and Alerts</td>\n",
       "      <td>Sage X3 12.0.19 and Patch 19 Add-ons Updates h...</td>\n",
       "      <td>2019-10-10T14:56:52.947</td>\n",
       "      <td>Alecia</td>\n",
       "      <td>To access this download, log into https://supp...</td>\n",
       "      <td>0.9359</td>\n",
       "      <td>0.000</td>\n",
       "      <td>0.898</td>\n",
       "      <td>0.102</td>\n",
       "      <td>Positive</td>\n",
       "      <td>2019-10-10 14:56:52.947</td>\n",
       "      <td>Thursday</td>\n",
       "      <td>10</td>\n",
       "    </tr>\n",
       "  </tbody>\n",
       "</table>\n",
       "</div>"
      ],
      "text/plain": [
       "    Forum ID                               Forum Name  \\\n",
       "0         40               Sage X3 General Discussion   \n",
       "31        40               Sage X3 General Discussion   \n",
       "62       673  Sage X3 Announcements, News, and Alerts   \n",
       "\n",
       "                                              Subject  \\\n",
       "0                            ERP help urgently needed   \n",
       "31                  Sage V11 patch 14 - release soon?   \n",
       "62  Sage X3 12.0.19 and Patch 19 Add-ons Updates h...   \n",
       "\n",
       "                  Post Date User DisplayName  \\\n",
       "0    2019-10-10T05:58:05.73      ChinusGomes   \n",
       "31  2019-10-10T12:44:35.957            AnikB   \n",
       "62  2019-10-10T14:56:52.947           Alecia   \n",
       "\n",
       "                                       Forum_Post_Raw  compound    neg    neu  \\\n",
       "0   Company upgraded to windows 10. Used to run an...    0.0387  0.063  0.873   \n",
       "31  Hello!\\n\\nI see that Sage V11 patch 14 was com...    0.7044  0.022  0.915   \n",
       "62  To access this download, log into https://supp...    0.9359  0.000  0.898   \n",
       "\n",
       "      pos Sentiment                PostDate   DayName  DayOfMonth  \n",
       "0   0.064   Neutral 2019-10-10 05:58:05.730  Thursday          10  \n",
       "31  0.063  Positive 2019-10-10 12:44:35.957  Thursday          10  \n",
       "62  0.102  Positive 2019-10-10 14:56:52.947  Thursday          10  "
      ]
     },
     "execution_count": 13,
     "metadata": {},
     "output_type": "execute_result"
    }
   ],
   "source": [
    "df_distinct.head(3)"
   ]
  },
  {
   "cell_type": "markdown",
   "metadata": {},
   "source": [
    "## Train The Sentiment Analyzer"
   ]
  },
  {
   "cell_type": "code",
   "execution_count": 14,
   "metadata": {},
   "outputs": [
    {
     "data": {
      "text/plain": [
       "['01/01/2021 12:12:10']"
      ]
     },
     "execution_count": 14,
     "metadata": {},
     "output_type": "execute_result"
    }
   ],
   "source": [
    "p = re.compile(\" 00:00:00\")\n",
    "p.split('01/01/2021 12:12:10')"
   ]
  },
  {
   "cell_type": "code",
   "execution_count": 15,
   "metadata": {},
   "outputs": [],
   "source": [
    "y = df_distinct['Sentiment']\n",
    "X = df_distinct[['compound', 'neg', 'neu', 'pos']]"
   ]
  },
  {
   "cell_type": "code",
   "execution_count": 16,
   "metadata": {},
   "outputs": [],
   "source": [
    "from sklearn.ensemble import RandomForestClassifier\n",
    "rf = RandomForestClassifier()\n",
    "from sklearn.model_selection import cross_val_score, train_test_split"
   ]
  },
  {
   "cell_type": "code",
   "execution_count": 17,
   "metadata": {},
   "outputs": [
    {
     "data": {
      "text/plain": [
       "RandomForestClassifier()"
      ]
     },
     "execution_count": 17,
     "metadata": {},
     "output_type": "execute_result"
    }
   ],
   "source": [
    "rf.fit(X,y)"
   ]
  },
  {
   "cell_type": "code",
   "execution_count": 18,
   "metadata": {},
   "outputs": [
    {
     "data": {
      "text/plain": [
       "array([1.        , 1.        , 1.        , 0.99539171, 1.        ])"
      ]
     },
     "execution_count": 18,
     "metadata": {},
     "output_type": "execute_result"
    }
   ],
   "source": [
    "cross_val_score(rf, X, y)\n",
    "# versus the baseline (63%), this is a little weak."
   ]
  },
  {
   "cell_type": "code",
   "execution_count": 19,
   "metadata": {},
   "outputs": [
    {
     "data": {
      "text/plain": [
       "RandomForestClassifier()"
      ]
     },
     "execution_count": 19,
     "metadata": {},
     "output_type": "execute_result"
    }
   ],
   "source": [
    "X_train, X_test, y_train, y_test = train_test_split(X, y, \n",
    "                                                        test_size=0.30,\n",
    "                                                        random_state=14)\n",
    "rf.fit(X_train,y_train)"
   ]
  },
  {
   "cell_type": "code",
   "execution_count": 20,
   "metadata": {},
   "outputs": [
    {
     "data": {
      "image/png": "[encoded data removed]",
      "text/plain": [
       "<Figure size 432x432 with 1 Axes>"
      ]
     },
     "metadata": {
      "needs_background": "light"
     },
     "output_type": "display_data"
    }
   ],
   "source": [
    "\n",
    "conmat = np.array(confusion_matrix(y_test, rf.predict(X_test)))\n",
    "confusion = pd.DataFrame(conmat, index=['negative', 'neutral', 'positive'],\\\n",
    "                     columns=['Pred neg', 'Pred neutral', 'Pred pos'])\n",
    "\n",
    "plt.figure(figsize = (6,6))\n",
    "heat = sns.heatmap(confusion, annot=True, annot_kws={\"size\": 20},cmap='Blues',fmt='g', cbar=False)\n",
    "plt.xticks(rotation=0, fontsize=14)\n",
    "plt.yticks(fontsize=14)\n",
    "plt.title(\"Confusion Matrix\", fontsize=20)\n",
    "plt.savefig('ConfusionMatric.png')\n"
   ]
  },
  {
   "cell_type": "code",
   "execution_count": 116,
   "metadata": {},
   "outputs": [
    {
     "name": "stdout",
     "output_type": "stream",
     "text": [
      "              precision    recall  f1-score   support\n",
      "\n",
      "    Negative       0.98      1.00      0.99        50\n",
      "     Neutral       1.00      0.97      0.98        33\n",
      "    Positive       1.00      1.00      1.00       243\n",
      "\n",
      "    accuracy                           1.00       326\n",
      "   macro avg       0.99      0.99      0.99       326\n",
      "weighted avg       1.00      1.00      1.00       326\n",
      "\n"
     ]
    },
    {
     "name": "stderr",
     "output_type": "stream",
     "text": [
      "C:\\Users\\BDelamater\\Anaconda3\\lib\\site-packages\\ipykernel\\ipkernel.py:287: DeprecationWarning:\n",
      "\n",
      "`should_run_async` will not call `transform_cell` automatically in the future. Please pass the result to `transformed_cell` argument and any exception that happen during thetransform in `preprocessing_exc_tuple` in IPython 7.17 and above.\n",
      "\n"
     ]
    }
   ],
   "source": [
    "# SAVE THIS MANUALLY TO A PICTURE\n",
    "print(classification_report(y_test, rf.predict(X_test)))"
   ]
  },
  {
   "cell_type": "code",
   "execution_count": 117,
   "metadata": {},
   "outputs": [
    {
     "name": "stderr",
     "output_type": "stream",
     "text": [
      "C:\\Users\\BDelamater\\Anaconda3\\lib\\site-packages\\ipykernel\\ipkernel.py:287: DeprecationWarning:\n",
      "\n",
      "`should_run_async` will not call `transform_cell` automatically in the future. Please pass the result to `transformed_cell` argument and any exception that happen during thetransform in `preprocessing_exc_tuple` in IPython 7.17 and above.\n",
      "\n"
     ]
    }
   ],
   "source": [
    "df = df_distinct.copy()\n",
    "df['ShortText'] = df['Forum_Post_Raw'].str[:50]\n",
    "df.dtypes\n",
    "dfLDA = df.copy()"
   ]
  },
  {
   "cell_type": "code",
   "execution_count": 118,
   "metadata": {},
   "outputs": [
    {
     "name": "stderr",
     "output_type": "stream",
     "text": [
      "C:\\Users\\BDelamater\\Anaconda3\\lib\\site-packages\\ipykernel\\ipkernel.py:287: DeprecationWarning:\n",
      "\n",
      "`should_run_async` will not call `transform_cell` automatically in the future. Please pass the result to `transformed_cell` argument and any exception that happen during thetransform in `preprocessing_exc_tuple` in IPython 7.17 and above.\n",
      "\n"
     ]
    },
    {
     "data": {
      "text/plain": [
       "0"
      ]
     },
     "execution_count": 118,
     "metadata": {},
     "output_type": "execute_result"
    }
   ],
   "source": [
    "dfLDA['Forum_Post_Raw'].isnull().sum()"
   ]
  },
  {
   "cell_type": "code",
   "execution_count": 119,
   "metadata": {},
   "outputs": [
    {
     "name": "stderr",
     "output_type": "stream",
     "text": [
      "C:\\Users\\BDelamater\\Anaconda3\\lib\\site-packages\\ipykernel\\ipkernel.py:287: DeprecationWarning:\n",
      "\n",
      "`should_run_async` will not call `transform_cell` automatically in the future. Please pass the result to `transformed_cell` argument and any exception that happen during thetransform in `preprocessing_exc_tuple` in IPython 7.17 and above.\n",
      "\n"
     ]
    }
   ],
   "source": [
    "# dfLDA['Forum_Post_Raw'].dropna(inplace=True)"
   ]
  },
  {
   "cell_type": "code",
   "execution_count": 120,
   "metadata": {},
   "outputs": [
    {
     "name": "stderr",
     "output_type": "stream",
     "text": [
      "C:\\Users\\BDelamater\\Anaconda3\\lib\\site-packages\\ipykernel\\ipkernel.py:287: DeprecationWarning:\n",
      "\n",
      "`should_run_async` will not call `transform_cell` automatically in the future. Please pass the result to `transformed_cell` argument and any exception that happen during thetransform in `preprocessing_exc_tuple` in IPython 7.17 and above.\n",
      "\n"
     ]
    }
   ],
   "source": [
    "df.set_index('PostDate', inplace=True)"
   ]
  },
  {
   "cell_type": "code",
   "execution_count": 121,
   "metadata": {},
   "outputs": [
    {
     "name": "stderr",
     "output_type": "stream",
     "text": [
      "C:\\Users\\BDelamater\\Anaconda3\\lib\\site-packages\\ipykernel\\ipkernel.py:287: DeprecationWarning:\n",
      "\n",
      "`should_run_async` will not call `transform_cell` automatically in the future. Please pass the result to `transformed_cell` argument and any exception that happen during thetransform in `preprocessing_exc_tuple` in IPython 7.17 and above.\n",
      "\n"
     ]
    },
    {
     "data": {
      "text/html": [
       "<div>\n",
       "<style scoped>\n",
       "    .dataframe tbody tr th:only-of-type {\n",
       "        vertical-align: middle;\n",
       "    }\n",
       "\n",
       "    .dataframe tbody tr th {\n",
       "        vertical-align: top;\n",
       "    }\n",
       "\n",
       "    .dataframe thead th {\n",
       "        text-align: right;\n",
       "    }\n",
       "</style>\n",
       "<table border=\"1\" class=\"dataframe\">\n",
       "  <thead>\n",
       "    <tr style=\"text-align: right;\">\n",
       "      <th></th>\n",
       "      <th>Forum ID</th>\n",
       "      <th>Forum Name</th>\n",
       "      <th>Subject</th>\n",
       "      <th>Post Date</th>\n",
       "      <th>User DisplayName</th>\n",
       "      <th>Forum_Post_Raw</th>\n",
       "      <th>compound</th>\n",
       "      <th>neg</th>\n",
       "      <th>neu</th>\n",
       "      <th>pos</th>\n",
       "      <th>Sentiment</th>\n",
       "      <th>DayName</th>\n",
       "      <th>DayOfMonth</th>\n",
       "      <th>ShortText</th>\n",
       "    </tr>\n",
       "    <tr>\n",
       "      <th>PostDate</th>\n",
       "      <th></th>\n",
       "      <th></th>\n",
       "      <th></th>\n",
       "      <th></th>\n",
       "      <th></th>\n",
       "      <th></th>\n",
       "      <th></th>\n",
       "      <th></th>\n",
       "      <th></th>\n",
       "      <th></th>\n",
       "      <th></th>\n",
       "      <th></th>\n",
       "      <th></th>\n",
       "      <th></th>\n",
       "    </tr>\n",
       "  </thead>\n",
       "  <tbody>\n",
       "    <tr>\n",
       "      <th>2019-10-10 05:58:05.730</th>\n",
       "      <td>40</td>\n",
       "      <td>Sage X3 General Discussion</td>\n",
       "      <td>ERP help urgently needed</td>\n",
       "      <td>2019-10-10T05:58:05.73</td>\n",
       "      <td>ChinusGomes</td>\n",
       "      <td>Company upgraded to windows 10. Used to run an...</td>\n",
       "      <td>0.0387</td>\n",
       "      <td>0.063</td>\n",
       "      <td>0.873</td>\n",
       "      <td>0.064</td>\n",
       "      <td>Neutral</td>\n",
       "      <td>Thursday</td>\n",
       "      <td>10</td>\n",
       "      <td>Company upgraded to windows 10. Used to run an...</td>\n",
       "    </tr>\n",
       "  </tbody>\n",
       "</table>\n",
       "</div>"
      ],
      "text/plain": [
       "                         Forum ID                  Forum Name  \\\n",
       "PostDate                                                        \n",
       "2019-10-10 05:58:05.730        40  Sage X3 General Discussion   \n",
       "\n",
       "                                          Subject               Post Date  \\\n",
       "PostDate                                                                    \n",
       "2019-10-10 05:58:05.730  ERP help urgently needed  2019-10-10T05:58:05.73   \n",
       "\n",
       "                        User DisplayName  \\\n",
       "PostDate                                   \n",
       "2019-10-10 05:58:05.730      ChinusGomes   \n",
       "\n",
       "                                                            Forum_Post_Raw  \\\n",
       "PostDate                                                                     \n",
       "2019-10-10 05:58:05.730  Company upgraded to windows 10. Used to run an...   \n",
       "\n",
       "                         compound    neg    neu    pos Sentiment   DayName  \\\n",
       "PostDate                                                                     \n",
       "2019-10-10 05:58:05.730    0.0387  0.063  0.873  0.064   Neutral  Thursday   \n",
       "\n",
       "                         DayOfMonth  \\\n",
       "PostDate                              \n",
       "2019-10-10 05:58:05.730          10   \n",
       "\n",
       "                                                                 ShortText  \n",
       "PostDate                                                                    \n",
       "2019-10-10 05:58:05.730  Company upgraded to windows 10. Used to run an...  "
      ]
     },
     "execution_count": 121,
     "metadata": {},
     "output_type": "execute_result"
    }
   ],
   "source": [
    "df.head(1)"
   ]
  },
  {
   "cell_type": "code",
   "execution_count": 122,
   "metadata": {},
   "outputs": [
    {
     "name": "stderr",
     "output_type": "stream",
     "text": [
      "C:\\Users\\BDelamater\\Anaconda3\\lib\\site-packages\\ipykernel\\ipkernel.py:287: DeprecationWarning:\n",
      "\n",
      "`should_run_async` will not call `transform_cell` automatically in the future. Please pass the result to `transformed_cell` argument and any exception that happen during thetransform in `preprocessing_exc_tuple` in IPython 7.17 and above.\n",
      "\n"
     ]
    }
   ],
   "source": [
    "df2 = df.sort_values(['PostDate']).copy()\n"
   ]
  },
  {
   "cell_type": "code",
   "execution_count": 123,
   "metadata": {},
   "outputs": [
    {
     "name": "stderr",
     "output_type": "stream",
     "text": [
      "C:\\Users\\BDelamater\\Anaconda3\\lib\\site-packages\\ipykernel\\ipkernel.py:287: DeprecationWarning:\n",
      "\n",
      "`should_run_async` will not call `transform_cell` automatically in the future. Please pass the result to `transformed_cell` argument and any exception that happen during thetransform in `preprocessing_exc_tuple` in IPython 7.17 and above.\n",
      "\n"
     ]
    },
    {
     "data": {
      "application/vnd.plotly.v1+json": {
       "config": {
        "plotlyServerURL": "https://plot.ly"
       },
       "data": [
        {
         "hovertemplate": "Post Date=%{x}<br>neg=%{y}<extra></extra>",
         "legendgroup": "",
         "line": {
          "color": "#636efa",
          "dash": "solid"
         },
         "mode": "lines",
         "name": "",
         "showlegend": false,
         "type": "scattergl",
         "x": [
          "2019-10-10T05:58:05.73",
          "2019-10-10T12:44:35.957",
          "2019-10-10T14:56:52.947",
          "2019-10-10T15:41:06.877",
          "2019-10-10T20:56:53.483",
          "2019-10-11T13:10:28.983",
          "2019-10-11T14:24:15.807",
          "2019-10-11T16:02:41.787",
          "2019-10-13T20:01:08.897",
          "2019-10-14T05:55:32.553",
          "2019-10-14T08:33:18.01",
          "2019-10-14T22:38:08.26",
          "2019-10-16T11:20:54.023",
          "2019-10-16T14:12:45.5",
          "2019-10-17T09:14:34.753",
          "2019-10-17T10:16:15.513",
          "2019-10-17T12:09:02.91",
          "2019-10-17T23:59:14.523",
          "2019-10-18T14:58:06.717",
          "2019-10-21T06:08:38.347",
          "2019-10-21T09:43:33.513",
          "2019-10-21T12:40:40.86",
          "2019-10-21T16:06:55.323",
          "2019-10-22T08:16:13.563",
          "2019-10-22T16:27:23.92",
          "2019-10-22T18:07:48.827",
          "2019-10-23T03:37:35.103",
          "2019-10-23T06:23:11.657",
          "2019-10-23T08:20:38.087",
          "2019-10-23T11:38:26.887",
          "2019-10-23T12:09:17.84",
          "2019-10-24T04:42:08.237",
          "2019-10-24T06:19:46.603",
          "2019-10-24T09:59:56.077",
          "2019-10-24T14:04:33.85",
          "2019-10-24T16:34:04.713",
          "2019-10-25T11:54:33.85",
          "2019-10-28T15:36:47.907",
          "2019-10-29T06:01:19.783",
          "2019-10-29T10:29:47.95",
          "2019-10-29T16:46:32.203",
          "2019-10-29T17:04:40.463",
          "2019-10-30T04:45:07.257",
          "2019-10-30T08:21:45.053",
          "2019-10-30T15:33:07.45",
          "2019-10-30T18:41:07.37",
          "2019-10-30T18:45:20.75",
          "2019-10-31T12:35:06.993",
          "2019-10-31T23:57:45.833",
          "2019-11-01T07:44:02.54",
          "2019-11-01T07:45:56.387",
          "2019-11-04T17:47:37.86",
          "2019-11-06T06:04:59.007",
          "2019-11-06T10:08:50.95",
          "2019-11-06T10:27:39.52",
          "2019-11-08T20:33:59.89",
          "2019-11-09T11:37:29.693",
          "2019-11-10T01:44:11.28",
          "2019-11-11T05:59:42.987",
          "2019-11-11T11:39:44.857",
          "2019-11-11T13:02:34.017",
          "2019-11-12T00:41:34.433",
          "2019-11-12T18:42:03.247",
          "2019-11-13T03:30:36.293",
          "2019-11-13T09:35:33.91",
          "2019-11-13T23:52:26.683",
          "2019-11-14T03:28:57.637",
          "2019-11-14T06:03:35.53",
          "2019-11-14T09:45:03.713",
          "2019-11-14T11:29:20.21",
          "2019-11-14T13:10:08.303",
          "2019-11-18T04:12:03.657",
          "2019-11-18T10:12:47.987",
          "2019-11-18T15:17:49.503",
          "2019-11-18T16:11:15.36",
          "2019-11-18T17:18:32.137",
          "2019-11-18T19:25:44.17",
          "2019-11-19T02:48:28.417",
          "2019-11-19T10:27:37.423",
          "2019-11-19T11:00:35.74",
          "2019-11-19T20:00:10.803",
          "2019-11-20T05:47:36.783",
          "2019-11-20T10:36:40.83",
          "2019-11-20T12:24:54.847",
          "2019-11-21T00:07:58.053",
          "2019-11-21T13:38:42.807",
          "2019-11-21T14:08:12.47",
          "2019-11-21T18:13:29.69",
          "2019-11-22T07:29:58.45",
          "2019-11-22T12:44:01.59",
          "2019-11-23T12:26:35.197",
          "2019-11-26T08:17:12.663",
          "2019-11-27T10:39:18.173",
          "2019-11-27T21:15:11.89",
          "2019-11-28T04:58:07.76",
          "2019-11-29T02:39:25.357",
          "2019-12-02T07:06:03.57",
          "2019-12-02T15:42:44.927",
          "2019-12-02T21:04:51.46",
          "2019-12-03T07:56:40.55",
          "2019-12-03T10:45:44.023",
          "2019-12-03T14:56:05.093",
          "2019-12-03T16:06:57.23",
          "2019-12-04T11:59:55.687",
          "2019-12-05T11:04:33.51",
          "2019-12-05T12:28:17.997",
          "2019-12-09T07:10:55.167",
          "2019-12-09T07:25:39.22",
          "2019-12-09T10:45:09.32",
          "2019-12-09T10:53:03.993",
          "2019-12-09T12:45:56.217",
          "2019-12-10T07:50:29.637",
          "2019-12-10T08:52:36.997",
          "2019-12-10T10:14:02.33",
          "2019-12-10T10:55:22.36",
          "2019-12-10T11:53:33.71",
          "2019-12-10T18:25:49.657",
          "2019-12-11T11:26:46.79",
          "2019-12-11T11:57:54.773",
          "2019-12-12T10:17:39.717",
          "2019-12-12T11:05:43.68",
          "2019-12-13T09:43:03.027",
          "2019-12-17T03:54:27.833",
          "2019-12-17T05:30:55.173",
          "2019-12-17T09:31:11.343",
          "2019-12-17T11:21:51.1",
          "2019-12-17T12:36:10.797",
          "2019-12-17T22:05:31.297",
          "2019-12-18T02:18:53.803",
          "2019-12-18T04:43:33.147",
          "2019-12-18T07:43:12.083",
          "2019-12-18T14:19:48.24",
          "2019-12-20T08:29:43.793",
          "2019-12-20T14:25:22.243",
          "2019-12-21T07:25:05.07",
          "2019-12-21T07:31:20.647",
          "2019-12-24T06:44:49.68",
          "2019-12-24T07:53:51.783",
          "2019-12-26T08:18:44.133",
          "2019-12-26T11:59:21.053",
          "2019-12-27T18:14:34.557",
          "2019-12-28T03:55:55.687",
          "2019-12-30T13:08:12.05",
          "2019-12-30T13:53:51.783",
          "2020-01-02T06:49:33.107",
          "2020-01-02T09:53:02.633",
          "2020-01-02T16:36:17.35",
          "2020-01-03T04:40:24.317",
          "2020-01-03T12:08:04.033",
          "2020-01-03T16:41:12.803",
          "2020-01-05T08:26:52.923",
          "2020-01-06T12:19:26.157",
          "2020-01-06T17:04:29.283",
          "2020-01-06T17:40:07.413",
          "2020-01-07T04:10:45.22",
          "2020-01-07T04:51:00.893",
          "2020-01-07T10:24:06.313",
          "2020-01-07T11:18:19.473",
          "2020-01-07T13:43:06.053",
          "2020-01-07T15:38:23.8",
          "2020-01-07T16:18:56.733",
          "2020-01-08T16:28:49.287",
          "2020-01-09T01:31:01.17",
          "2020-01-09T06:33:51.44",
          "2020-01-09T12:05:38.153",
          "2020-01-10T15:06:17.673",
          "2020-01-10T15:54:12.933",
          "2020-01-11T05:17:09.423",
          "2020-01-13T12:21:50.72",
          "2020-01-13T13:00:29.71",
          "2020-01-14T07:18:24.06",
          "2020-01-14T07:36:27.793",
          "2020-01-14T15:06:33.63",
          "2020-01-15T04:12:20.593",
          "2020-01-15T09:52:42.417",
          "2020-01-15T13:11:10.033",
          "2020-01-15T19:14:38.547",
          "2020-01-16T01:35:18.87",
          "2020-01-16T10:00:09.903",
          "2020-01-16T17:27:43.697",
          "2020-01-16T20:37:57.323",
          "2020-01-18T01:12:31.457",
          "2020-01-18T07:43:39.573",
          "2020-01-20T00:07:25.07",
          "2020-01-20T06:57:25.193",
          "2020-01-20T06:59:28.963",
          "2020-01-20T07:01:58.37",
          "2020-01-20T14:25:20.393",
          "2020-01-20T14:45:16.097",
          "2020-01-20T17:44:58.307",
          "2020-01-22T15:07:27.347",
          "2020-01-22T15:21:03.853",
          "2020-01-23T08:30:02.617",
          "2020-01-23T09:12:43.07",
          "2020-01-24T06:49:45.39",
          "2020-01-24T15:38:37.98",
          "2020-01-25T16:27:33.3",
          "2020-01-27T12:47:35.913",
          "2020-01-27T13:06:07.103",
          "2020-01-27T19:11:17.547",
          "2020-01-29T01:21:00.2",
          "2020-01-29T10:26:02.32",
          "2020-01-30T18:43:33.303",
          "2020-01-31T00:48:04.5",
          "2020-01-31T08:03:58.81",
          "2020-02-01T05:35:29.75",
          "2020-02-02T13:10:27.66",
          "2020-02-02T17:09:13.667",
          "2020-02-03T04:12:16.153",
          "2020-02-03T09:59:10.557",
          "2020-02-03T13:33:12.313",
          "2020-02-04T09:46:39.103",
          "2020-02-04T20:18:44.27",
          "2020-02-05T11:30:08.943",
          "2020-02-05T12:57:51.92",
          "2020-02-05T15:34:55.653",
          "2020-02-07T10:19:14.993",
          "2020-02-10T12:07:23.167",
          "2020-02-10T12:23:06.927",
          "2020-02-10T12:51:43.717",
          "2020-02-10T17:12:39.753",
          "2020-02-11T17:09:02.48",
          "2020-02-11T17:58:49.54",
          "2020-02-12T06:28:17.963",
          "2020-02-12T09:04:32.27",
          "2020-02-12T14:03:31.393",
          "2020-02-12T14:51:42.37",
          "2020-02-12T15:16:51.137",
          "2020-02-12T18:31:25.547",
          "2020-02-13T04:33:31.503",
          "2020-02-13T07:03:33.427",
          "2020-02-14T10:24:51.933",
          "2020-02-14T11:00:46.067",
          "2020-02-17T16:50:09.627",
          "2020-02-18T02:27:54.503",
          "2020-02-18T09:57:28.06",
          "2020-02-18T10:33:31.103",
          "2020-02-18T11:09:26.847",
          "2020-02-20T09:07:37.297",
          "2020-02-20T18:55:20.497",
          "2020-02-21T04:19:57.7",
          "2020-02-21T06:32:06.093",
          "2020-02-21T12:36:02.74",
          "2020-02-21T13:01:12.36",
          "2020-02-21T18:07:34.15",
          "2020-02-23T02:07:04.06",
          "2020-02-24T05:14:04.183",
          "2020-02-24T09:39:05.69",
          "2020-02-24T15:46:47.507",
          "2020-02-25T03:52:03.343",
          "2020-02-26T09:59:17.067",
          "2020-02-26T12:34:35.337",
          "2020-02-26T16:38:14.707",
          "2020-02-27T12:11:29.997",
          "2020-02-28T04:40:42.623",
          "2020-02-28T10:58:22.157",
          "2020-02-28T12:00:12.227",
          "2020-02-28T12:41:38.88",
          "2020-02-29T01:03:40.683",
          "2020-03-01T02:40:06.913",
          "2020-03-01T10:01:48.487",
          "2020-03-01T23:59:56.043",
          "2020-03-02T14:28:29.457",
          "2020-03-03T00:00:27.147",
          "2020-03-03T04:30:14.143",
          "2020-03-03T06:44:29.51",
          "2020-03-03T07:23:34.21",
          "2020-03-04T03:34:45.237",
          "2020-03-04T10:43:21.66",
          "2020-03-04T20:50:43.727",
          "2020-03-05T20:40:47.497",
          "2020-03-06T16:53:23.053",
          "2020-03-07T06:36:24.19",
          "2020-03-08T12:22:18.35",
          "2020-03-08T18:22:20.403",
          "2020-03-09T07:47:26.907",
          "2020-03-10T02:49:49.197",
          "2020-03-10T07:07:09.317",
          "2020-03-10T11:43:30.047",
          "2020-03-10T13:47:55.803",
          "2020-03-11T12:02:24.97",
          "2020-03-12T03:22:56.907",
          "2020-03-12T05:01:18.27",
          "2020-03-12T09:32:11.43",
          "2020-03-12T16:24:51.943",
          "2020-03-13T02:20:48.573",
          "2020-03-13T18:05:09.727",
          "2020-03-16T05:51:59.12",
          "2020-03-16T13:41:01.863",
          "2020-03-17T01:11:48.753",
          "2020-03-17T02:14:25.67",
          "2020-03-17T10:57:57.617",
          "2020-03-17T11:01:28.317",
          "2020-03-17T12:46:10.82",
          "2020-03-17T17:40:54.64",
          "2020-03-18T06:06:20.797",
          "2020-03-19T09:31:32.573",
          "2020-03-20T09:02:42.493",
          "2020-03-20T09:52:08.827",
          "2020-03-22T12:10:06.073",
          "2020-03-22T23:11:53.447",
          "2020-03-23T11:06:50.057",
          "2020-03-23T23:34:21.613",
          "2020-03-24T16:40:36.357",
          "2020-03-25T05:31:26.553",
          "2020-03-25T13:28:17.627",
          "2020-03-25T13:53:46.49",
          "2020-03-27T09:21:56.483",
          "2020-03-28T01:28:47.883",
          "2020-03-30T04:21:56.913",
          "2020-03-30T09:08:24.897",
          "2020-03-30T15:21:41.037",
          "2020-03-30T21:20:56.607",
          "2020-03-31T11:25:34.507",
          "2020-03-31T13:27:36.39",
          "2020-04-01T16:02:10.643",
          "2020-04-02T00:43:12.03",
          "2020-04-03T01:06:02.82",
          "2020-04-07T12:32:04.843",
          "2020-04-07T16:29:10.43",
          "2020-04-08T00:15:17.853",
          "2020-04-08T03:50:11.817",
          "2020-04-08T10:13:33.427",
          "2020-04-08T18:27:22.337",
          "2020-04-09T23:22:33.47",
          "2020-04-10T09:08:10.833",
          "2020-04-10T19:21:56.537",
          "2020-04-13T10:16:13.573",
          "2020-04-13T12:45:52.543",
          "2020-04-13T14:36:36.72",
          "2020-04-14T04:48:03.713",
          "2020-04-14T08:25:03.7",
          "2020-04-14T11:03:59.167",
          "2020-04-15T05:26:43.887",
          "2020-04-16T08:10:59.29",
          "2020-04-16T16:12:38.977",
          "2020-04-16T16:41:02.65",
          "2020-04-16T17:32:12.887",
          "2020-04-17T17:21:10.267",
          "2020-04-17T18:09:09.38",
          "2020-04-17T19:28:32.667",
          "2020-04-20T06:46:13.263",
          "2020-04-20T09:45:40.793",
          "2020-04-21T06:43:58.953",
          "2020-04-22T17:52:12.143",
          "2020-04-23T02:31:29.827",
          "2020-04-23T11:51:48.66",
          "2020-04-23T12:48:56.067",
          "2020-04-23T13:42:27.423",
          "2020-04-23T17:09:27.673",
          "2020-04-23T19:33:37.777",
          "2020-04-24T09:15:41.46",
          "2020-04-24T12:08:53.497",
          "2020-04-24T17:33:44.47",
          "2020-04-27T03:25:15.807",
          "2020-04-27T11:04:11.827",
          "2020-04-27T12:09:32.6",
          "2020-04-28T14:16:24.483",
          "2020-04-28T14:23:25.457",
          "2020-04-28T14:54:09.24",
          "2020-04-28T15:58:10.627",
          "2020-04-29T06:42:53.09",
          "2020-04-29T11:08:12.53",
          "2020-04-30T10:03:05.167",
          "2020-05-01T07:55:41.06",
          "2020-05-01T13:27:08.093",
          "2020-05-01T18:13:11.793",
          "2020-05-03T16:49:31.43",
          "2020-05-05T07:56:04.453",
          "2020-05-05T08:43:05.083",
          "2020-05-05T10:32:52.917",
          "2020-05-05T19:02:17.003",
          "2020-05-06T01:58:51.927",
          "2020-05-06T07:12:28.073",
          "2020-05-06T09:55:41.613",
          "2020-05-06T10:17:41.447",
          "2020-05-06T11:33:27.64",
          "2020-05-07T03:54:23.82",
          "2020-05-07T07:48:02.343",
          "2020-05-07T10:30:47.55",
          "2020-05-07T14:40:24.16",
          "2020-05-07T17:22:42.663",
          "2020-05-07T17:58:50.36",
          "2020-05-08T11:05:30.22",
          "2020-05-08T18:50:29.917",
          "2020-05-10T15:38:34.823",
          "2020-05-10T22:06:56.483",
          "2020-05-11T04:18:33.723",
          "2020-05-11T10:39:05.677",
          "2020-05-11T18:12:14.043",
          "2020-05-12T06:46:53.073",
          "2020-05-12T07:44:49.72",
          "2020-05-12T23:39:37.837",
          "2020-05-13T09:12:49.927",
          "2020-05-13T12:09:34.583",
          "2020-05-13T14:43:08.657",
          "2020-05-13T15:13:24.907",
          "2020-05-14T03:52:10.373",
          "2020-05-14T09:38:15.473",
          "2020-05-14T13:46:07.237",
          "2020-05-14T17:51:27.473",
          "2020-05-19T01:36:19.2",
          "2020-05-19T10:58:19.68",
          "2020-05-19T13:23:05.93",
          "2020-05-19T22:05:27.747",
          "2020-05-19T22:57:51.593",
          "2020-05-19T23:57:36.38",
          "2020-05-20T07:46:08.763",
          "2020-05-21T08:01:48.667",
          "2020-05-21T16:17:26.79",
          "2020-05-22T09:04:36.597",
          "2020-05-22T12:43:12.977",
          "2020-05-22T13:38:46.373",
          "2020-05-24T07:44:59.96",
          "2020-05-25T11:51:41.683",
          "2020-05-25T12:12:56.96",
          "2020-05-26T04:19:19.857",
          "2020-05-26T05:29:41.38",
          "2020-05-27T08:09:30.657",
          "2020-05-27T09:42:57.963",
          "2020-05-27T11:51:09.957",
          "2020-05-27T16:13:12.423",
          "2020-05-28T04:33:45.413",
          "2020-05-28T10:50:38.12",
          "2020-05-28T11:43:06.343",
          "2020-05-28T13:55:04.59",
          "2020-05-28T13:55:17.233",
          "2020-05-28T15:02:38.937",
          "2020-05-28T21:23:28.48",
          "2020-05-31T11:34:13.967",
          "2020-05-31T21:49:48.113",
          "2020-06-01T02:08:55.463",
          "2020-06-01T03:45:36.143",
          "2020-06-01T07:06:15.03",
          "2020-06-01T23:54:24.347",
          "2020-06-02T05:15:07.377",
          "2020-06-02T06:25:02.487",
          "2020-06-03T08:38:37.627",
          "2020-06-04T08:46:29.137",
          "2020-06-04T08:47:30.443",
          "2020-06-05T08:37:45.887",
          "2020-06-08T10:15:40.8",
          "2020-06-08T11:30:52.127",
          "2020-06-10T15:48:56.787",
          "2020-06-11T05:44:23.893",
          "2020-06-11T10:48:33.063",
          "2020-06-11T16:44:25.303",
          "2020-06-12T04:26:21.537",
          "2020-06-13T20:34:20.54",
          "2020-06-15T00:18:26.877",
          "2020-06-15T18:21:18.607",
          "2020-06-17T07:44:27.62",
          "2020-06-17T09:23:08.72",
          "2020-06-17T10:39:43.347",
          "2020-06-17T10:47:18.047",
          "2020-06-17T18:17:42.787",
          "2020-06-17T21:20:44.363",
          "2020-06-18T03:41:34.283",
          "2020-06-18T18:45:45.943",
          "2020-06-19T05:28:43.413",
          "2020-06-19T05:37:59.09",
          "2020-06-19T07:23:48.88",
          "2020-06-19T13:04:31.18",
          "2020-06-19T13:05:50.277",
          "2020-06-20T20:04:07.61",
          "2020-06-21T05:58:52.79",
          "2020-06-22T07:57:18.433",
          "2020-06-22T15:20:53.23",
          "2020-06-22T17:32:37.193",
          "2020-06-25T03:09:04.55",
          "2020-06-26T07:38:55.12",
          "2020-06-29T17:02:31.54",
          "2020-07-01T03:24:12.553",
          "2020-07-01T08:43:32.99",
          "2020-07-02T09:20:12.7",
          "2020-07-02T10:21:06.57",
          "2020-07-02T16:17:26.273",
          "2020-07-06T05:50:50.78",
          "2020-07-06T09:19:59.403",
          "2020-07-08T09:33:24.407",
          "2020-07-08T16:56:19.757",
          "2020-07-09T15:25:26.863",
          "2020-07-09T16:22:26.66",
          "2020-07-09T16:28:26.983",
          "2020-07-10T08:52:51.04",
          "2020-07-10T15:53:37.277",
          "2020-07-10T18:57:48.173",
          "2020-07-11T20:29:03.777",
          "2020-07-13T02:40:11.35",
          "2020-07-14T05:01:01.39",
          "2020-07-15T03:11:16.5",
          "2020-07-15T06:32:14.56",
          "2020-07-15T17:54:55.167",
          "2020-07-16T04:35:29.63",
          "2020-07-16T07:33:35.41",
          "2020-07-16T11:36:35.183",
          "2020-07-16T16:31:52.563",
          "2020-07-17T14:17:43.9",
          "2020-07-20T13:16:24.25",
          "2020-07-20T23:00:15.057",
          "2020-07-21T04:25:05.703",
          "2020-07-21T06:17:01.253",
          "2020-07-21T10:23:05.597",
          "2020-07-21T11:25:17.723",
          "2020-07-21T15:20:11.183",
          "2020-07-22T05:55:52.447",
          "2020-07-22T16:48:52.953",
          "2020-07-22T23:35:16.743",
          "2020-07-23T15:51:45.183",
          "2020-07-23T16:46:00.053",
          "2020-07-24T02:00:04.097",
          "2020-07-24T15:17:29.263",
          "2020-07-27T13:56:35.087",
          "2020-07-28T11:16:57.777",
          "2020-07-28T11:20:26.603",
          "2020-07-28T11:47:30.707",
          "2020-07-29T08:18:11.907",
          "2020-07-29T09:13:44.577",
          "2020-07-29T10:45:28.61",
          "2020-07-30T14:51:34.69",
          "2020-07-30T16:20:18.783",
          "2020-07-31T03:00:29.553",
          "2020-08-01T06:40:03.033",
          "2020-08-02T08:21:09.453",
          "2020-08-03T14:31:32.377",
          "2020-08-03T15:16:16.62",
          "2020-08-05T12:27:19.103",
          "2020-08-05T13:19:23.943",
          "2020-08-06T12:04:03.013",
          "2020-08-06T16:30:31.317",
          "2020-08-07T15:34:48.087",
          "2020-08-10T12:13:23.673",
          "2020-08-11T03:18:56.48",
          "2020-08-11T06:23:35.727",
          "2020-08-11T20:18:22.113",
          "2020-08-12T07:54:44.907",
          "2020-08-13T05:21:38.977",
          "2020-08-13T09:27:35.497",
          "2020-08-13T13:58:17.28",
          "2020-08-13T14:00:56.303",
          "2020-08-13T19:32:19.49",
          "2020-08-14T04:43:10.42",
          "2020-08-14T06:48:55.553",
          "2020-08-14T10:33:47.637",
          "2020-08-14T14:39:35.21",
          "2020-08-17T10:09:37.347",
          "2020-08-17T17:09:22.07",
          "2020-08-18T07:01:56.34",
          "2020-08-18T10:10:32.407",
          "2020-08-19T10:47:49.9",
          "2020-08-19T14:31:13.88",
          "2020-08-20T16:16:04.203",
          "2020-08-20T18:20:03.123",
          "2020-08-21T02:02:10.857",
          "2020-08-21T14:50:21.077",
          "2020-08-21T15:36:03.473",
          "2020-08-24T02:26:12.913",
          "2020-08-24T03:55:16.187",
          "2020-08-24T07:30:08.877",
          "2020-08-24T09:13:29.1",
          "2020-08-25T09:37:23.29",
          "2020-08-25T13:34:40.817",
          "2020-08-26T02:11:50.003",
          "2020-08-26T10:34:15.32",
          "2020-08-26T11:13:50.613",
          "2020-08-27T04:28:56.903",
          "2020-08-27T11:25:26.827",
          "2020-08-27T11:40:36.677",
          "2020-08-27T14:20:01.203",
          "2020-08-27T14:59:03.177",
          "2020-08-28T04:12:14.89",
          "2020-08-28T12:20:32.08",
          "2020-08-31T09:41:46.203",
          "2020-09-01T08:29:04.687",
          "2020-09-01T12:00:23.027",
          "2020-09-02T13:28:25.653",
          "2020-09-03T02:01:33.75",
          "2020-09-03T09:26:58.127",
          "2020-09-03T11:55:40.83",
          "2020-09-03T14:53:10.197",
          "2020-09-03T15:16:17.96",
          "2020-09-04T02:35:33.15",
          "2020-09-04T08:34:40.003",
          "2020-09-07T03:14:01.783",
          "2020-09-08T03:24:11.603",
          "2020-09-08T05:00:37.097",
          "2020-09-08T05:40:25.34",
          "2020-09-08T10:35:57.717",
          "2020-09-08T12:13:05.57",
          "2020-09-08T14:17:04.713",
          "2020-09-09T04:14:26.247",
          "2020-09-09T07:05:09.473",
          "2020-09-09T14:46:03.91",
          "2020-09-09T15:33:09.883",
          "2020-09-09T19:09:12.01",
          "2020-09-10T06:00:56.927",
          "2020-09-10T06:34:35.72",
          "2020-09-10T12:15:08.11",
          "2020-09-10T16:25:03.4",
          "2020-09-11T11:54:43.767",
          "2020-09-11T14:32:09.763",
          "2020-09-11T17:57:16.44",
          "2020-09-13T05:09:37.187",
          "2020-09-13T12:40:21.163",
          "2020-09-14T08:48:44.357",
          "2020-09-15T08:11:30.217",
          "2020-09-15T11:40:17.6",
          "2020-09-15T19:54:20.857",
          "2020-09-16T06:13:11.593",
          "2020-09-16T08:15:45.44",
          "2020-09-16T09:57:44.517",
          "2020-09-16T12:02:57.383",
          "2020-09-16T14:20:14.03",
          "2020-09-16T16:01:59.473",
          "2020-09-16T16:33:38.75",
          "2020-09-16T16:52:38.42",
          "2020-09-17T11:41:44.053",
          "2020-09-17T14:55:23.447",
          "2020-09-17T16:37:00.077",
          "2020-09-18T07:33:41.723",
          "2020-09-18T10:46:34.367",
          "2020-09-20T12:16:21.403",
          "2020-09-21T09:58:43.167",
          "2020-09-21T16:37:39.7",
          "2020-09-21T16:47:19.263",
          "2020-09-22T00:02:42.337",
          "2020-09-22T03:04:06.773",
          "2020-09-22T06:17:08.973",
          "2020-09-22T12:21:03.637",
          "2020-09-22T12:56:21.417",
          "2020-09-23T07:34:25.193",
          "2020-09-23T12:45:54.313",
          "2020-09-23T14:50:02.017",
          "2020-09-23T14:50:53.77",
          "2020-09-23T14:51:39.347",
          "2020-09-23T15:15:00.187",
          "2020-09-24T13:12:57.107",
          "2020-09-24T19:12:48.583",
          "2020-09-25T06:21:34.47",
          "2020-09-25T15:10:56.223",
          "2020-09-25T21:10:47.287",
          "2020-09-27T00:39:00.507",
          "2020-09-27T03:01:48.877",
          "2020-09-28T07:28:53.443",
          "2020-09-28T13:41:47.603",
          "2020-09-29T10:42:52.203",
          "2020-09-29T10:58:24.237",
          "2020-09-29T11:43:39.463",
          "2020-09-29T18:14:05.84",
          "2020-09-29T18:29:04.81",
          "2020-09-30T11:28:12.57",
          "2020-10-01T04:05:51.267",
          "2020-10-01T15:18:19.523",
          "2020-10-02T09:26:32.68",
          "2020-10-04T06:57:42.663",
          "2020-10-05T01:11:31.057",
          "2020-10-05T22:58:21.4",
          "2020-10-06T10:36:52.983",
          "2020-10-06T12:46:04.483",
          "2020-10-07T04:36:43.39",
          "2020-10-07T04:49:35.287",
          "2020-10-07T06:19:26.927",
          "2020-10-07T16:31:35.887",
          "2020-10-07T16:43:08.117",
          "2020-10-08T07:26:39.637",
          "2020-10-08T08:52:50.623",
          "2020-10-08T16:26:59.76",
          "2020-10-09T02:01:00.407",
          "2020-10-09T19:17:29.443",
          "2020-10-12T09:03:36.163",
          "2020-10-12T20:34:39.057",
          "2020-10-13T13:02:42.213",
          "2020-10-13T18:32:15.773",
          "2020-10-14T06:43:01.837",
          "2020-10-14T09:31:09.873",
          "2020-10-14T13:41:44.907",
          "2020-10-14T13:52:09.94",
          "2020-10-15T06:57:57.13",
          "2020-10-15T14:35:43.96",
          "2020-10-16T10:01:41.817",
          "2020-10-16T12:33:29.753",
          "2020-10-16T13:34:13.343",
          "2020-10-16T18:36:31.273",
          "2020-10-17T11:21:17.997",
          "2020-10-17T21:00:48.037",
          "2020-10-19T15:39:33.853",
          "2020-10-19T22:07:22.383",
          "2020-10-19T22:07:38.62",
          "2020-10-20T03:00:27.94",
          "2020-10-20T16:35:09.947",
          "2020-10-21T04:53:38.967",
          "2020-10-21T06:22:02.867",
          "2020-10-21T09:30:56.74",
          "2020-10-21T10:44:23.66",
          "2020-10-21T12:58:42.72",
          "2020-10-21T13:33:08.743",
          "2020-10-21T14:06:01.427",
          "2020-10-22T13:47:42.993",
          "2020-10-22T14:31:26.257",
          "2020-10-22T17:17:54.993",
          "2020-10-22T17:19:54.477",
          "2020-10-23T07:50:08.56",
          "2020-10-23T12:09:06.92",
          "2020-10-23T16:06:11.243",
          "2020-10-24T16:03:56.137",
          "2020-10-25T08:22:12.38",
          "2020-10-25T16:01:58.43",
          "2020-10-26T05:46:15.347",
          "2020-10-27T16:57:39.52",
          "2020-10-28T05:57:09.547",
          "2020-10-28T13:28:28.833",
          "2020-10-28T15:58:04.637",
          "2020-10-29T01:39:26.437",
          "2020-10-29T02:25:33.677",
          "2020-10-29T11:10:06.717",
          "2020-10-29T14:45:52.203",
          "2020-10-30T15:24:32.273",
          "2020-11-02T09:41:44.807",
          "2020-11-02T16:14:49.56",
          "2020-11-03T09:15:35.397",
          "2020-11-03T14:16:21.633",
          "2020-11-04T08:18:34.06",
          "2020-11-05T12:22:50.65",
          "2020-11-05T13:57:09.393",
          "2020-11-06T03:12:33.02",
          "2020-11-07T02:30:08.94",
          "2020-11-08T12:42:54.723",
          "2020-11-08T12:48:07.61",
          "2020-11-09T08:23:02.983",
          "2020-11-09T10:51:40.613",
          "2020-11-11T05:50:59.56",
          "2020-11-11T06:00:38.383",
          "2020-11-11T09:58:05.707",
          "2020-11-11T11:27:29.283",
          "2020-11-11T15:13:05.847",
          "2020-11-11T16:53:07.01",
          "2020-11-12T05:28:55.913",
          "2020-11-12T14:47:17.27",
          "2020-11-12T18:39:57.223",
          "2020-11-13T03:08:25.797",
          "2020-11-13T18:33:05.46",
          "2020-11-14T14:04:27.383",
          "2020-11-16T02:39:45.893",
          "2020-11-16T11:23:16.327",
          "2020-11-16T11:25:19.08",
          "2020-11-18T06:54:44.173",
          "2020-11-18T11:32:37.993",
          "2020-11-18T11:41:37.49",
          "2020-11-18T12:30:24.143",
          "2020-11-18T12:37:55.147",
          "2020-11-18T19:18:53.403",
          "2020-11-19T09:30:41.29",
          "2020-11-19T12:44:09.52",
          "2020-11-19T16:56:39.44",
          "2020-11-20T10:05:42.53",
          "2020-11-20T14:00:44.387",
          "2020-11-20T16:00:00.39",
          "2020-11-21T05:08:51.133",
          "2020-11-22T23:21:07.067",
          "2020-11-23T01:58:09.64",
          "2020-11-24T10:58:17.443",
          "2020-11-24T15:09:06.143",
          "2020-11-24T16:02:26.117",
          "2020-11-24T20:48:57.933",
          "2020-11-25T11:17:47.587",
          "2020-11-25T11:59:22.583",
          "2020-11-25T12:40:55.58",
          "2020-11-25T13:13:05.463",
          "2020-11-25T14:28:28.507",
          "2020-11-25T15:43:04.867",
          "2020-11-26T11:43:14.277",
          "2020-11-30T16:32:19.377",
          "2020-12-02T09:26:16.583",
          "2020-12-02T15:54:46.727",
          "2020-12-03T15:45:18.923",
          "2020-12-04T18:13:27.287",
          "2020-12-06T07:13:50.297",
          "2020-12-06T08:25:07.433",
          "2020-12-06T22:33:26.473",
          "2020-12-08T06:45:13.323",
          "2020-12-08T11:32:56.12",
          "2020-12-08T12:43:05.35",
          "2020-12-08T12:43:52.023",
          "2020-12-08T15:13:24.93",
          "2020-12-09T10:04:40.567",
          "2020-12-10T03:32:44.07",
          "2020-12-10T16:03:19.67",
          "2020-12-10T16:45:56.92",
          "2020-12-11T09:05:13.287",
          "2020-12-15T11:43:28.143",
          "2020-12-15T13:24:34.04",
          "2020-12-16T05:04:16.433",
          "2020-12-16T11:24:45.933",
          "2020-12-16T13:34:06.637",
          "2020-12-16T16:31:08.12",
          "2020-12-16T21:46:56.413",
          "2020-12-18T03:06:14.177",
          "2020-12-18T11:11:07.787",
          "2020-12-21T08:30:12.503",
          "2020-12-21T17:49:39.223",
          "2020-12-22T04:59:41.42",
          "2020-12-22T05:06:26.697",
          "2020-12-23T09:59:10.2",
          "2020-12-23T10:59:14.423",
          "2020-12-24T00:03:53.283",
          "2020-12-26T15:56:58.257",
          "2020-12-27T01:57:08.607",
          "2020-12-27T11:57:47.007",
          "2020-12-27T14:12:00.18",
          "2020-12-28T02:51:24.99",
          "2020-12-28T10:34:01.52",
          "2020-12-28T11:57:21.447",
          "2020-12-28T15:09:46.85",
          "2020-12-29T08:45:35.597",
          "2020-12-29T11:55:09.773",
          "2020-12-29T15:13:04.71",
          "2020-12-29T17:22:22.603",
          "2020-12-30T10:05:14.57",
          "2020-12-31T18:03:21.66",
          "2021-01-01T07:00:15.443",
          "2021-01-03T22:55:07.463",
          "2021-01-04T07:41:29.507",
          "2021-01-04T07:48:38.72",
          "2021-01-04T08:49:11.093",
          "2021-01-04T12:26:12.183",
          "2021-01-05T09:54:38.063",
          "2021-01-05T10:07:21.227",
          "2021-01-05T20:16:38.75",
          "2021-01-06T12:25:16.487",
          "2021-01-06T14:50:39.423",
          "2021-01-07T00:43:54.317",
          "2021-01-08T03:57:53.35",
          "2021-01-09T23:27:17.513",
          "2021-01-11T05:30:23.477",
          "2021-01-11T16:25:58.88",
          "2021-01-11T22:44:21.93",
          "2021-01-12T06:59:45.843",
          "2021-01-12T07:40:27.073",
          "2021-01-12T08:16:59.57",
          "2021-01-12T09:52:23.923",
          "2021-01-12T23:48:05.1",
          "2021-01-14T13:55:54.143",
          "2021-01-15T06:20:18.943",
          "2021-01-15T11:36:31.313",
          "2021-01-16T04:10:22.447",
          "2021-01-16T07:56:33.363",
          "2021-01-16T19:32:13.78",
          "2021-01-18T00:23:54.957",
          "2021-01-18T05:59:41.04",
          "2021-01-19T13:53:44.657",
          "2021-01-19T14:58:12.793",
          "2021-01-20T07:11:18.693",
          "2021-01-20T07:58:12.823",
          "2021-01-20T15:38:36.633",
          "2021-01-20T16:13:02.5",
          "2021-01-21T09:00:33.853",
          "2021-01-21T17:46:44.013",
          "2021-01-22T13:54:36.95",
          "2021-01-22T15:20:52.107",
          "2021-01-23T00:52:07.6",
          "2021-01-25T03:57:52.733",
          "2021-01-25T10:05:26.427",
          "2021-01-25T12:51:33.14",
          "2021-01-25T17:07:17.423",
          "2021-01-27T01:26:58.78",
          "2021-01-27T09:22:55.277",
          "2021-01-27T09:22:55.547",
          "2021-01-27T09:28:32.857",
          "2021-01-27T13:06:46.71",
          "2021-01-28T11:33:34.887",
          "2021-01-29T05:09:45.457",
          "2021-01-29T09:32:23.31",
          "2021-01-30T02:44:24.313",
          "2021-02-01T14:35:54.11",
          "2021-02-02T02:54:29.54",
          "2021-02-02T09:15:33.837",
          "2021-02-03T04:07:38.773",
          "2021-02-03T06:28:55.87",
          "2021-02-03T14:28:38.48",
          "2021-02-04T18:52:41.68",
          "2021-02-05T01:44:05.203",
          "2021-02-05T09:38:55.053",
          "2021-02-07T01:35:51.77",
          "2021-02-07T03:45:35.85",
          "2021-02-07T22:47:17.563",
          "2021-02-08T04:21:46.14",
          "2021-02-08T14:35:14.027",
          "2021-02-08T20:23:34.343",
          "2021-02-09T05:36:55.147",
          "2021-02-09T07:28:04.943",
          "2021-02-10T06:07:45.91",
          "2021-02-10T11:48:40.4",
          "2021-02-10T13:30:52.19",
          "2021-02-10T17:28:34.27",
          "2021-02-11T16:40:26.987",
          "2021-02-11T21:31:20.58",
          "2021-02-12T05:54:48.23",
          "2021-02-12T09:56:04.773",
          "2021-02-12T15:06:05.92",
          "2021-02-12T15:07:52.33",
          "2021-02-13T02:53:30.073",
          "2021-02-14T04:45:31.08",
          "2021-02-14T15:10:09.8",
          "2021-02-15T21:50:52.64",
          "2021-02-16T06:32:23.97",
          "2021-02-16T09:44:47.337",
          "2021-02-16T14:37:14.58",
          "2021-02-17T00:44:34.993",
          "2021-02-17T01:00:17.45",
          "2021-02-17T01:25:49.423",
          "2021-02-17T17:57:59.497",
          "2021-02-18T04:41:42.563",
          "2021-02-19T11:17:25.39",
          "2021-02-22T01:18:39.76",
          "2021-02-22T10:22:26.3",
          "2021-02-23T05:30:07.697",
          "2021-02-23T08:25:50.447",
          "2021-02-23T15:53:46.57",
          "2021-02-24T07:45:06.977",
          "2021-02-24T12:36:00.77",
          "2021-02-25T08:53:44.637",
          "2021-02-25T10:29:48.393",
          "2021-02-25T16:43:06.273",
          "2021-02-26T09:23:09.993",
          "2021-02-26T11:57:02.543",
          "2021-02-26T18:47:43.037",
          "2021-02-27T07:31:29.457",
          "2021-02-27T11:08:57.667",
          "2021-03-01T09:13:33.787",
          "2021-03-01T19:39:59.55",
          "2021-03-02T09:23:36.847",
          "2021-03-02T11:18:39.363",
          "2021-03-02T16:31:12.837",
          "2021-03-03T03:05:35.877",
          "2021-03-03T05:13:37.897",
          "2021-03-03T06:44:32.35",
          "2021-03-03T08:54:25",
          "2021-03-03T09:20:39.307",
          "2021-03-03T16:19:15.397",
          "2021-03-04T02:36:22.257",
          "2021-03-04T11:01:28.96",
          "2021-03-05T08:22:11.3",
          "2021-03-06T06:54:56.57",
          "2021-03-09T07:01:54.71",
          "2021-03-09T11:05:19.053",
          "2021-03-09T11:09:19.763",
          "2021-03-09T14:55:21.58",
          "2021-03-09T17:00:23.213",
          "2021-03-10T04:36:07.837",
          "2021-03-10T15:24:21.857",
          "2021-03-10T16:00:02.613",
          "2021-03-11T04:20:04.103",
          "2021-03-11T09:00:30.913",
          "2021-03-11T17:30:43.753",
          "2021-03-12T02:34:21.683",
          "2021-03-12T03:28:33.083",
          "2021-03-12T11:48:47.203",
          "2021-03-13T10:25:21.143",
          "2021-03-14T17:29:30.287",
          "2021-03-15T10:13:43.667",
          "2021-03-15T10:53:54.233",
          "2021-03-16T07:06:57.6",
          "2021-03-16T15:19:27.047",
          "2021-03-17T17:02:54.86",
          "2021-03-18T02:51:39.69",
          "2021-03-18T13:51:25.81",
          "2021-03-19T07:21:13.43",
          "2021-03-19T11:31:47.557",
          "2021-03-20T01:34:53.61",
          "2021-03-22T03:47:12.6",
          "2021-03-23T12:14:18.863",
          "2021-03-24T09:04:13.813",
          "2021-03-24T12:58:46.5",
          "2021-03-25T03:17:53.38",
          "2021-03-25T14:46:51.637",
          "2021-03-25T16:39:59.577",
          "2021-03-26T14:27:14.173",
          "2021-03-30T12:29:47.413",
          "2021-03-30T12:53:22.887",
          "2021-03-31T05:04:42.15",
          "2021-03-31T06:38:42.34",
          "2021-04-01T08:14:49.057",
          "2021-04-06T19:28:50.28",
          "2021-04-07T14:44:07.22",
          "2021-04-08T17:31:25.08",
          "2021-04-09T14:10:26.533",
          "2021-04-09T18:43:03.997",
          "2021-04-10T02:53:00.28",
          "2021-04-10T03:29:32.747",
          "2021-04-10T15:57:59.943",
          "2021-04-12T10:52:25.73",
          "2021-04-12T12:12:10.283",
          "2021-04-12T15:13:07.097",
          "2021-04-14T03:27:41.803",
          "2021-04-15T08:57:58.05",
          "2021-04-15T12:20:03.933",
          "2021-04-19T09:41:09.173",
          "2021-04-20T07:00:28.707",
          "2021-04-20T11:43:36.217",
          "2021-04-20T15:43:56.607",
          "2021-04-21T11:38:15.18",
          "2021-04-22T04:29:17.66",
          "2021-04-22T04:48:51.64",
          "2021-04-22T06:55:40.56",
          "2021-04-22T07:32:19.79",
          "2021-04-22T16:37:41.357",
          "2021-04-22T16:43:27",
          "2021-04-23T00:03:22.743",
          "2021-04-23T09:14:59.607",
          "2021-04-23T11:09:05.35",
          "2021-04-27T07:40:14.087",
          "2021-04-27T10:25:08.213",
          "2021-04-27T13:53:38.607",
          "2021-04-27T14:05:34.707",
          "2021-04-27T16:17:23.083",
          "2021-04-27T16:38:41.177",
          "2021-04-28T06:07:57.33",
          "2021-04-28T11:44:20.84",
          "2021-04-28T14:08:31.08",
          "2021-04-28T14:15:54.817",
          "2021-04-29T02:16:11.49",
          "2021-04-30T07:03:44.607",
          "2021-04-30T08:43:37.07",
          "2021-04-30T15:41:33.667",
          "2021-05-04T03:26:26.993",
          "2021-05-04T09:31:18.373",
          "2021-05-05T10:48:30.583",
          "2021-05-05T14:59:26.737",
          "2021-05-06T04:52:27.5",
          "2021-05-06T05:44:31.317",
          "2021-05-06T06:08:48.817",
          "2021-05-06T10:55:46.883",
          "2021-05-06T14:47:18.237",
          "2021-05-06T15:36:56.423",
          "2021-05-06T19:21:40.677",
          "2021-05-07T11:58:25.423",
          "2021-05-07T12:44:00.26",
          "2021-05-10T14:33:41.143",
          "2021-05-11T11:11:22.967",
          "2021-05-11T14:33:52.803",
          "2021-05-11T16:15:01.67",
          "2021-05-12T19:29:45.887",
          "2021-05-14T08:27:02.38",
          "2021-05-14T10:04:28.7",
          "2021-05-17T00:14:13.58",
          "2021-05-17T05:24:41.617",
          "2021-05-17T10:22:56.957",
          "2021-05-17T10:44:03.017",
          "2021-05-17T12:12:39.573",
          "2021-05-17T12:41:24.27",
          "2021-05-18T00:14:22.057",
          "2021-05-19T09:46:33.497",
          "2021-05-20T08:11:58.513",
          "2021-05-21T02:17:15.373",
          "2021-05-23T15:49:03.797",
          "2021-05-24T03:14:14.447",
          "2021-05-24T05:55:56.8",
          "2021-05-24T14:55:23.877",
          "2021-05-25T10:09:32.81",
          "2021-05-25T16:41:37.953",
          "2021-05-25T23:18:10.647",
          "2021-05-25T23:21:55.333",
          "2021-05-26T05:39:30.67",
          "2021-05-27T07:12:50.66",
          "2021-05-28T11:21:25.033",
          "2021-05-28T13:33:13.153",
          "2021-05-29T21:45:02.2",
          "2021-05-30T01:41:31.68",
          "2021-05-30T08:11:59.69",
          "2021-06-02T07:44:14.63",
          "2021-06-02T12:18:46.267",
          "2021-06-02T13:14:26.307",
          "2021-06-02T13:40:25.58",
          "2021-06-02T13:53:43.85",
          "2021-06-02T15:54:57.997",
          "2021-06-02T16:37:04.77",
          "2021-06-03T02:17:04.61",
          "2021-06-03T04:46:03.063",
          "2021-06-03T04:52:06.57",
          "2021-06-03T09:19:09.593",
          "2021-06-03T19:44:17.527",
          "2021-06-04T05:25:16.927",
          "2021-06-04T10:11:48.013",
          "2021-06-04T19:14:13.09",
          "2021-06-08T04:53:56.6",
          "2021-06-08T10:57:39.363"
         ],
         "xaxis": "x",
         "y": [
          0.063,
          0.022,
          0,
          0.041,
          0,
          0.046,
          0,
          0,
          0,
          0.081,
          0.05,
          0.102,
          0.025,
          0,
          0.037,
          0,
          0.077,
          0.09,
          0,
          0,
          0.069,
          0.121,
          0.067,
          0.034,
          0.079,
          0,
          0,
          0.062,
          0,
          0.089,
          0.055,
          0,
          0.11,
          0,
          0.118,
          0,
          0.145,
          0,
          0,
          0.035,
          0,
          0.062,
          0,
          0.129,
          0,
          0.038,
          0.249,
          0,
          0.1,
          0.032,
          0.102,
          0,
          0,
          0,
          0.131,
          0,
          0,
          0.073,
          0.122,
          0,
          0.02,
          0,
          0,
          0,
          0,
          0,
          0.057,
          0,
          0,
          0,
          0.029,
          0.065,
          0.079,
          0.035,
          0,
          0,
          0,
          0.043,
          0.067,
          0,
          0,
          0.146,
          0.036,
          0,
          0.011,
          0,
          0.024,
          0,
          0,
          0.041,
          0.073,
          0,
          0,
          0,
          0.047,
          0.166,
          0.049,
          0.033,
          0,
          0,
          0,
          0.14,
          0.158,
          0,
          0,
          0.022,
          0.021,
          0.037,
          0,
          0.088,
          0,
          0.08,
          0.046,
          0,
          0.092,
          0,
          0,
          0,
          0,
          0.059,
          0,
          0,
          0.048,
          0,
          0.023,
          0,
          0,
          0,
          0.074,
          0.102,
          0.06,
          0,
          0.1,
          0,
          0.074,
          0.03,
          0.153,
          0,
          0.047,
          0.036,
          0,
          0.018,
          0,
          0.116,
          0.034,
          0,
          0,
          0.167,
          0.046,
          0.028,
          0.171,
          0,
          0,
          0.072,
          0.052,
          0.039,
          0,
          0,
          0,
          0.057,
          0,
          0.05,
          0,
          0.031,
          0.058,
          0.171,
          0.007,
          0,
          0.056,
          0.011,
          0.146,
          0,
          0.043,
          0,
          0.044,
          0,
          0.03,
          0.046,
          0,
          0,
          0,
          0,
          0.028,
          0.013,
          0.029,
          0,
          0,
          0.073,
          0.05,
          0.077,
          0.022,
          0.052,
          0.025,
          0,
          0.104,
          0,
          0.028,
          0,
          0,
          0,
          0,
          0.041,
          0.046,
          0.077,
          0,
          0,
          0,
          0.09,
          0.07,
          0.067,
          0.124,
          0.047,
          0,
          0.129,
          0.074,
          0,
          0,
          0,
          0,
          0.021,
          0,
          0.061,
          0,
          0.047,
          0.091,
          0,
          0.051,
          0.077,
          0.071,
          0.033,
          0,
          0.194,
          0.043,
          0.014,
          0,
          0,
          0,
          0.028,
          0,
          0.048,
          0.093,
          0.022,
          0.017,
          0.026,
          0,
          0,
          0.053,
          0.085,
          0.055,
          0,
          0,
          0.231,
          0,
          0,
          0,
          0.087,
          0,
          0,
          0,
          0,
          0.022,
          0.03,
          0,
          0,
          0,
          0,
          0.062,
          0,
          0,
          0.19,
          0.058,
          0,
          0,
          0,
          0.049,
          0,
          0,
          0,
          0.131,
          0,
          0,
          0.102,
          0.069,
          0.042,
          0.031,
          0.103,
          0.005,
          0,
          0.027,
          0,
          0.154,
          0.057,
          0,
          0.106,
          0.027,
          0.119,
          0,
          0,
          0,
          0.049,
          0,
          0,
          0.053,
          0.069,
          0,
          0.115,
          0,
          0,
          0.051,
          0.227,
          0,
          0,
          0.17,
          0,
          0,
          0.034,
          0.089,
          0,
          0.022,
          0,
          0.048,
          0.076,
          0.038,
          0.023,
          0.103,
          0,
          0,
          0.015,
          0.022,
          0,
          0.099,
          0,
          0.172,
          0.083,
          0.073,
          0.121,
          0.023,
          0.123,
          0.039,
          0,
          0.059,
          0,
          0,
          0,
          0.021,
          0.07,
          0,
          0,
          0,
          0.162,
          0,
          0,
          0,
          0,
          0,
          0,
          0.154,
          0,
          0,
          0,
          0,
          0,
          0.035,
          0.016,
          0.013,
          0.022,
          0.017,
          0,
          0,
          0,
          0.062,
          0,
          0,
          0.048,
          0,
          0.127,
          0,
          0.117,
          0.02,
          0.083,
          0,
          0,
          0.049,
          0,
          0,
          0,
          0.043,
          0,
          0,
          0,
          0.048,
          0.096,
          0,
          0.186,
          0,
          0.043,
          0,
          0.078,
          0,
          0.084,
          0.12,
          0,
          0.068,
          0,
          0.212,
          0,
          0.078,
          0.155,
          0.015,
          0,
          0.042,
          0.058,
          0,
          0.213,
          0.071,
          0.076,
          0.042,
          0.056,
          0,
          0,
          0.037,
          0,
          0.052,
          0.017,
          0,
          0,
          0.046,
          0.043,
          0.154,
          0.1,
          0.166,
          0.098,
          0.091,
          0,
          0.067,
          0.098,
          0.072,
          0,
          0,
          0,
          0,
          0.164,
          0.062,
          0.059,
          0,
          0.031,
          0,
          0.113,
          0,
          0,
          0.087,
          0,
          0.115,
          0,
          0.118,
          0.035,
          0,
          0,
          0,
          0,
          0.1,
          0.019,
          0,
          0,
          0,
          0,
          0,
          0.031,
          0.062,
          0,
          0.073,
          0.188,
          0,
          0,
          0,
          0.016,
          0,
          0.048,
          0.087,
          0,
          0.052,
          0,
          0.029,
          0,
          0.062,
          0,
          0,
          0.072,
          0.118,
          0,
          0.092,
          0.02,
          0,
          0,
          0.1,
          0.085,
          0,
          0.164,
          0.024,
          0,
          0.237,
          0.069,
          0,
          0.052,
          0.033,
          0,
          0,
          0.033,
          0,
          0.049,
          0.022,
          0.048,
          0,
          0.05,
          0.013,
          0,
          0,
          0,
          0,
          0,
          0.065,
          0.224,
          0.06,
          0.098,
          0,
          0,
          0,
          0.02,
          0.04,
          0.132,
          0,
          0,
          0.048,
          0,
          0.137,
          0.018,
          0.07,
          0.023,
          0.056,
          0,
          0,
          0.04,
          0.095,
          0,
          0.05,
          0.136,
          0.181,
          0,
          0.211,
          0,
          0,
          0,
          0.049,
          0.038,
          0.087,
          0,
          0,
          0.071,
          0.027,
          0,
          0.084,
          0,
          0.091,
          0,
          0.03,
          0,
          0,
          0,
          0.053,
          0.025,
          0.065,
          0,
          0,
          0,
          0,
          0.078,
          0,
          0.012,
          0,
          0.065,
          0,
          0,
          0.089,
          0.029,
          0,
          0,
          0,
          0.06,
          0,
          0,
          0.141,
          0.06,
          0,
          0.047,
          0.026,
          0.065,
          0.089,
          0,
          0.123,
          0,
          0.09,
          0.066,
          0.089,
          0,
          0,
          0,
          0.009,
          0.037,
          0,
          0,
          0,
          0,
          0,
          0,
          0,
          0,
          0.041,
          0.069,
          0,
          0,
          0,
          0,
          0.026,
          0,
          0,
          0,
          0.062,
          0,
          0,
          0.026,
          0.236,
          0.062,
          0,
          0,
          0,
          0.059,
          0.129,
          0,
          0,
          0.028,
          0,
          0.121,
          0,
          0.017,
          0,
          0,
          0,
          0,
          0,
          0,
          0.103,
          0,
          0.065,
          0,
          0.047,
          0.08,
          0.169,
          0,
          0.046,
          0.041,
          0.156,
          0.081,
          0.011,
          0,
          0.03,
          0,
          0.079,
          0,
          0.132,
          0.05,
          0.046,
          0.055,
          0.071,
          0,
          0.067,
          0,
          0.034,
          0,
          0,
          0.087,
          0,
          0,
          0.045,
          0.118,
          0.1,
          0.029,
          0,
          0.074,
          0,
          0.07,
          0,
          0,
          0.044,
          0.004,
          0.182,
          0.086,
          0.092,
          0,
          0,
          0,
          0,
          0.021,
          0,
          0,
          0,
          0.034,
          0.007,
          0.036,
          0,
          0.205,
          0.205,
          0.06,
          0.1,
          0,
          0,
          0,
          0.032,
          0,
          0.026,
          0,
          0,
          0,
          0,
          0,
          0.048,
          0,
          0,
          0.025,
          0.148,
          0.082,
          0.009,
          0.145,
          0.048,
          0.091,
          0,
          0.005,
          0,
          0.023,
          0.111,
          0.015,
          0.075,
          0,
          0,
          0.028,
          0,
          0.074,
          0,
          0.07,
          0.058,
          0,
          0.039,
          0,
          0,
          0.07,
          0.072,
          0.017,
          0,
          0,
          0.031,
          0,
          0.116,
          0,
          0.071,
          0.026,
          0.108,
          0,
          0.016,
          0.136,
          0,
          0,
          0.236,
          0,
          0.045,
          0.086,
          0.133,
          0.041,
          0.156,
          0.013,
          0,
          0.116,
          0.025,
          0.1,
          0.022,
          0,
          0,
          0.054,
          0.115,
          0,
          0.055,
          0.042,
          0.163,
          0.051,
          0.103,
          0,
          0.074,
          0,
          0,
          0.044,
          0.148,
          0.014,
          0.276,
          0,
          0.053,
          0.037,
          0,
          0,
          0.112,
          0,
          0,
          0.102,
          0,
          0,
          0.109,
          0.13,
          0,
          0.231,
          0,
          0.082,
          0.035,
          0,
          0,
          0.045,
          0,
          0.08,
          0,
          0,
          0.023,
          0,
          0,
          0,
          0.044,
          0.029,
          0.125,
          0,
          0.035,
          0,
          0.04,
          0,
          0.091,
          0.086,
          0.143,
          0,
          0.246,
          0.019,
          0,
          0.129,
          0.04,
          0.053,
          0,
          0.015,
          0,
          0.054,
          0.19,
          0,
          0.021,
          0.05,
          0,
          0,
          0,
          0.074,
          0.014,
          0,
          0,
          0,
          0.111,
          0,
          0,
          0,
          0.037,
          0,
          0.059,
          0,
          0.171,
          0,
          0.03,
          0.048,
          0.064,
          0.141,
          0.064,
          0,
          0,
          0.175,
          0.066,
          0.091,
          0,
          0.027,
          0.114,
          0,
          0.079,
          0.079,
          0.17,
          0.052,
          0.065,
          0.039,
          0.098,
          0.018,
          0.06,
          0.046,
          0,
          0,
          0.031,
          0,
          0.047,
          0,
          0.068,
          0,
          0.15,
          0.104,
          0.055,
          0,
          0,
          0.022,
          0,
          0,
          0.026,
          0,
          0.027,
          0,
          0,
          0.105,
          0.015,
          0.056,
          0.057,
          0,
          0.12,
          0,
          0.095,
          0,
          0,
          0.026,
          0.023,
          0,
          0.013,
          0.133,
          0,
          0.053,
          0,
          0.092,
          0.16,
          0,
          0.117,
          0,
          0.074,
          0,
          0.048,
          0,
          0,
          0.415,
          0,
          0.013,
          0.026,
          0,
          0.036,
          0,
          0.046,
          0.067,
          0,
          0,
          0,
          0,
          0,
          0.016,
          0.037,
          0.019,
          0,
          0,
          0,
          0.213,
          0,
          0.065,
          0,
          0.227,
          0.037,
          0.075,
          0,
          0,
          0,
          0,
          0.049,
          0.036,
          0,
          0,
          0,
          0.109,
          0.018,
          0.053,
          0.095,
          0,
          0.231,
          0.147,
          0.041,
          0,
          0.092,
          0.06,
          0.032,
          0.056,
          0,
          0,
          0.147,
          0,
          0,
          0.024,
          0,
          0.06,
          0.093,
          0,
          0.107,
          0.127,
          0,
          0.033,
          0.036,
          0.063,
          0,
          0,
          0,
          0,
          0,
          0.15,
          0.049,
          0.152,
          0.127,
          0,
          0.031,
          0.036,
          0.025,
          0,
          0,
          0,
          0.025,
          0.045,
          0.15,
          0.068,
          0,
          0.045,
          0.026,
          0,
          0,
          0,
          0.047,
          0.061,
          0.131,
          0,
          0.093,
          0.016,
          0.072,
          0,
          0.067,
          0.16,
          0.086,
          0.135,
          0.258,
          0.097,
          0,
          0.067,
          0.103,
          0,
          0,
          0.051,
          0.046,
          0.022,
          0,
          0,
          0,
          0.063,
          0.068,
          0.04,
          0.028,
          0,
          0,
          0,
          0,
          0.043,
          0.025,
          0,
          0,
          0,
          0,
          0.21,
          0.039,
          0,
          0,
          0,
          0,
          0.089,
          0,
          0
         ],
         "yaxis": "y"
        }
       ],
       "layout": {
        "legend": {
         "tracegroupgap": 0
        },
        "margin": {
         "t": 60
        },
        "template": {
         "data": {
          "bar": [
           {
            "error_x": {
             "color": "#2a3f5f"
            },
            "error_y": {
             "color": "#2a3f5f"
            },
            "marker": {
             "line": {
              "color": "#E5ECF6",
              "width": 0.5
             }
            },
            "type": "bar"
           }
          ],
          "barpolar": [
           {
            "marker": {
             "line": {
              "color": "#E5ECF6",
              "width": 0.5
             }
            },
            "type": "barpolar"
           }
          ],
          "carpet": [
           {
            "aaxis": {
             "endlinecolor": "#2a3f5f",
             "gridcolor": "white",
             "linecolor": "white",
             "minorgridcolor": "white",
             "startlinecolor": "#2a3f5f"
            },
            "baxis": {
             "endlinecolor": "#2a3f5f",
             "gridcolor": "white",
             "linecolor": "white",
             "minorgridcolor": "white",
             "startlinecolor": "#2a3f5f"
            },
            "type": "carpet"
           }
          ],
          "choropleth": [
           {
            "colorbar": {
             "outlinewidth": 0,
             "ticks": ""
            },
            "type": "choropleth"
           }
          ],
          "contour": [
           {
            "colorbar": {
             "outlinewidth": 0,
             "ticks": ""
            },
            "colorscale": [
             [
              0,
              "#0d0887"
             ],
             [
              0.1111111111111111,
              "#46039f"
             ],
             [
              0.2222222222222222,
              "#7201a8"
             ],
             [
              0.3333333333333333,
              "#9c179e"
             ],
             [
              0.4444444444444444,
              "#bd3786"
             ],
             [
              0.5555555555555556,
              "#d8576b"
             ],
             [
              0.6666666666666666,
              "#ed7953"
             ],
             [
              0.7777777777777778,
              "#fb9f3a"
             ],
             [
              0.8888888888888888,
              "#fdca26"
             ],
             [
              1,
              "#f0f921"
             ]
            ],
            "type": "contour"
           }
          ],
          "contourcarpet": [
           {
            "colorbar": {
             "outlinewidth": 0,
             "ticks": ""
            },
            "type": "contourcarpet"
           }
          ],
          "heatmap": [
           {
            "colorbar": {
             "outlinewidth": 0,
             "ticks": ""
            },
            "colorscale": [
             [
              0,
              "#0d0887"
             ],
             [
              0.1111111111111111,
              "#46039f"
             ],
             [
              0.2222222222222222,
              "#7201a8"
             ],
             [
              0.3333333333333333,
              "#9c179e"
             ],
             [
              0.4444444444444444,
              "#bd3786"
             ],
             [
              0.5555555555555556,
              "#d8576b"
             ],
             [
              0.6666666666666666,
              "#ed7953"
             ],
             [
              0.7777777777777778,
              "#fb9f3a"
             ],
             [
              0.8888888888888888,
              "#fdca26"
             ],
             [
              1,
              "#f0f921"
             ]
            ],
            "type": "heatmap"
           }
          ],
          "heatmapgl": [
           {
            "colorbar": {
             "outlinewidth": 0,
             "ticks": ""
            },
            "colorscale": [
             [
              0,
              "#0d0887"
             ],
             [
              0.1111111111111111,
              "#46039f"
             ],
             [
              0.2222222222222222,
              "#7201a8"
             ],
             [
              0.3333333333333333,
              "#9c179e"
             ],
             [
              0.4444444444444444,
              "#bd3786"
             ],
             [
              0.5555555555555556,
              "#d8576b"
             ],
             [
              0.6666666666666666,
              "#ed7953"
             ],
             [
              0.7777777777777778,
              "#fb9f3a"
             ],
             [
              0.8888888888888888,
              "#fdca26"
             ],
             [
              1,
              "#f0f921"
             ]
            ],
            "type": "heatmapgl"
           }
          ],
          "histogram": [
           {
            "marker": {
             "colorbar": {
              "outlinewidth": 0,
              "ticks": ""
             }
            },
            "type": "histogram"
           }
          ],
          "histogram2d": [
           {
            "colorbar": {
             "outlinewidth": 0,
             "ticks": ""
            },
            "colorscale": [
             [
              0,
              "#0d0887"
             ],
             [
              0.1111111111111111,
              "#46039f"
             ],
             [
              0.2222222222222222,
              "#7201a8"
             ],
             [
              0.3333333333333333,
              "#9c179e"
             ],
             [
              0.4444444444444444,
              "#bd3786"
             ],
             [
              0.5555555555555556,
              "#d8576b"
             ],
             [
              0.6666666666666666,
              "#ed7953"
             ],
             [
              0.7777777777777778,
              "#fb9f3a"
             ],
             [
              0.8888888888888888,
              "#fdca26"
             ],
             [
              1,
              "#f0f921"
             ]
            ],
            "type": "histogram2d"
           }
          ],
          "histogram2dcontour": [
           {
            "colorbar": {
             "outlinewidth": 0,
             "ticks": ""
            },
            "colorscale": [
             [
              0,
              "#0d0887"
             ],
             [
              0.1111111111111111,
              "#46039f"
             ],
             [
              0.2222222222222222,
              "#7201a8"
             ],
             [
              0.3333333333333333,
              "#9c179e"
             ],
             [
              0.4444444444444444,
              "#bd3786"
             ],
             [
              0.5555555555555556,
              "#d8576b"
             ],
             [
              0.6666666666666666,
              "#ed7953"
             ],
             [
              0.7777777777777778,
              "#fb9f3a"
             ],
             [
              0.8888888888888888,
              "#fdca26"
             ],
             [
              1,
              "#f0f921"
             ]
            ],
            "type": "histogram2dcontour"
           }
          ],
          "mesh3d": [
           {
            "colorbar": {
             "outlinewidth": 0,
             "ticks": ""
            },
            "type": "mesh3d"
           }
          ],
          "parcoords": [
           {
            "line": {
             "colorbar": {
              "outlinewidth": 0,
              "ticks": ""
             }
            },
            "type": "parcoords"
           }
          ],
          "pie": [
           {
            "automargin": true,
            "type": "pie"
           }
          ],
          "scatter": [
           {
            "marker": {
             "colorbar": {
              "outlinewidth": 0,
              "ticks": ""
             }
            },
            "type": "scatter"
           }
          ],
          "scatter3d": [
           {
            "line": {
             "colorbar": {
              "outlinewidth": 0,
              "ticks": ""
             }
            },
            "marker": {
             "colorbar": {
              "outlinewidth": 0,
              "ticks": ""
             }
            },
            "type": "scatter3d"
           }
          ],
          "scattercarpet": [
           {
            "marker": {
             "colorbar": {
              "outlinewidth": 0,
              "ticks": ""
             }
            },
            "type": "scattercarpet"
           }
          ],
          "scattergeo": [
           {
            "marker": {
             "colorbar": {
              "outlinewidth": 0,
              "ticks": ""
             }
            },
            "type": "scattergeo"
           }
          ],
          "scattergl": [
           {
            "marker": {
             "colorbar": {
              "outlinewidth": 0,
              "ticks": ""
             }
            },
            "type": "scattergl"
           }
          ],
          "scattermapbox": [
           {
            "marker": {
             "colorbar": {
              "outlinewidth": 0,
              "ticks": ""
             }
            },
            "type": "scattermapbox"
           }
          ],
          "scatterpolar": [
           {
            "marker": {
             "colorbar": {
              "outlinewidth": 0,
              "ticks": ""
             }
            },
            "type": "scatterpolar"
           }
          ],
          "scatterpolargl": [
           {
            "marker": {
             "colorbar": {
              "outlinewidth": 0,
              "ticks": ""
             }
            },
            "type": "scatterpolargl"
           }
          ],
          "scatterternary": [
           {
            "marker": {
             "colorbar": {
              "outlinewidth": 0,
              "ticks": ""
             }
            },
            "type": "scatterternary"
           }
          ],
          "surface": [
           {
            "colorbar": {
             "outlinewidth": 0,
             "ticks": ""
            },
            "colorscale": [
             [
              0,
              "#0d0887"
             ],
             [
              0.1111111111111111,
              "#46039f"
             ],
             [
              0.2222222222222222,
              "#7201a8"
             ],
             [
              0.3333333333333333,
              "#9c179e"
             ],
             [
              0.4444444444444444,
              "#bd3786"
             ],
             [
              0.5555555555555556,
              "#d8576b"
             ],
             [
              0.6666666666666666,
              "#ed7953"
             ],
             [
              0.7777777777777778,
              "#fb9f3a"
             ],
             [
              0.8888888888888888,
              "#fdca26"
             ],
             [
              1,
              "#f0f921"
             ]
            ],
            "type": "surface"
           }
          ],
          "table": [
           {
            "cells": {
             "fill": {
              "color": "#EBF0F8"
             },
             "line": {
              "color": "white"
             }
            },
            "header": {
             "fill": {
              "color": "#C8D4E3"
             },
             "line": {
              "color": "white"
             }
            },
            "type": "table"
           }
          ]
         },
         "layout": {
          "annotationdefaults": {
           "arrowcolor": "#2a3f5f",
           "arrowhead": 0,
           "arrowwidth": 1
          },
          "autotypenumbers": "strict",
          "coloraxis": {
           "colorbar": {
            "outlinewidth": 0,
            "ticks": ""
           }
          },
          "colorscale": {
           "diverging": [
            [
             0,
             "#8e0152"
            ],
            [
             0.1,
             "#c51b7d"
            ],
            [
             0.2,
             "#de77ae"
            ],
            [
             0.3,
             "#f1b6da"
            ],
            [
             0.4,
             "#fde0ef"
            ],
            [
             0.5,
             "#f7f7f7"
            ],
            [
             0.6,
             "#e6f5d0"
            ],
            [
             0.7,
             "#b8e186"
            ],
            [
             0.8,
             "#7fbc41"
            ],
            [
             0.9,
             "#4d9221"
            ],
            [
             1,
             "#276419"
            ]
           ],
           "sequential": [
            [
             0,
             "#0d0887"
            ],
            [
             0.1111111111111111,
             "#46039f"
            ],
            [
             0.2222222222222222,
             "#7201a8"
            ],
            [
             0.3333333333333333,
             "#9c179e"
            ],
            [
             0.4444444444444444,
             "#bd3786"
            ],
            [
             0.5555555555555556,
             "#d8576b"
            ],
            [
             0.6666666666666666,
             "#ed7953"
            ],
            [
             0.7777777777777778,
             "#fb9f3a"
            ],
            [
             0.8888888888888888,
             "#fdca26"
            ],
            [
             1,
             "#f0f921"
            ]
           ],
           "sequentialminus": [
            [
             0,
             "#0d0887"
            ],
            [
             0.1111111111111111,
             "#46039f"
            ],
            [
             0.2222222222222222,
             "#7201a8"
            ],
            [
             0.3333333333333333,
             "#9c179e"
            ],
            [
             0.4444444444444444,
             "#bd3786"
            ],
            [
             0.5555555555555556,
             "#d8576b"
            ],
            [
             0.6666666666666666,
             "#ed7953"
            ],
            [
             0.7777777777777778,
             "#fb9f3a"
            ],
            [
             0.8888888888888888,
             "#fdca26"
            ],
            [
             1,
             "#f0f921"
            ]
           ]
          },
          "colorway": [
           "#636efa",
           "#EF553B",
           "#00cc96",
           "#ab63fa",
           "#FFA15A",
           "#19d3f3",
           "#FF6692",
           "#B6E880",
           "#FF97FF",
           "#FECB52"
          ],
          "font": {
           "color": "#2a3f5f"
          },
          "geo": {
           "bgcolor": "white",
           "lakecolor": "white",
           "landcolor": "#E5ECF6",
           "showlakes": true,
           "showland": true,
           "subunitcolor": "white"
          },
          "hoverlabel": {
           "align": "left"
          },
          "hovermode": "closest",
          "mapbox": {
           "style": "light"
          },
          "paper_bgcolor": "white",
          "plot_bgcolor": "#E5ECF6",
          "polar": {
           "angularaxis": {
            "gridcolor": "white",
            "linecolor": "white",
            "ticks": ""
           },
           "bgcolor": "#E5ECF6",
           "radialaxis": {
            "gridcolor": "white",
            "linecolor": "white",
            "ticks": ""
           }
          },
          "scene": {
           "xaxis": {
            "backgroundcolor": "#E5ECF6",
            "gridcolor": "white",
            "gridwidth": 2,
            "linecolor": "white",
            "showbackground": true,
            "ticks": "",
            "zerolinecolor": "white"
           },
           "yaxis": {
            "backgroundcolor": "#E5ECF6",
            "gridcolor": "white",
            "gridwidth": 2,
            "linecolor": "white",
            "showbackground": true,
            "ticks": "",
            "zerolinecolor": "white"
           },
           "zaxis": {
            "backgroundcolor": "#E5ECF6",
            "gridcolor": "white",
            "gridwidth": 2,
            "linecolor": "white",
            "showbackground": true,
            "ticks": "",
            "zerolinecolor": "white"
           }
          },
          "shapedefaults": {
           "line": {
            "color": "#2a3f5f"
           }
          },
          "ternary": {
           "aaxis": {
            "gridcolor": "white",
            "linecolor": "white",
            "ticks": ""
           },
           "baxis": {
            "gridcolor": "white",
            "linecolor": "white",
            "ticks": ""
           },
           "bgcolor": "#E5ECF6",
           "caxis": {
            "gridcolor": "white",
            "linecolor": "white",
            "ticks": ""
           }
          },
          "title": {
           "x": 0.05
          },
          "xaxis": {
           "automargin": true,
           "gridcolor": "white",
           "linecolor": "white",
           "ticks": "",
           "title": {
            "standoff": 15
           },
           "zerolinecolor": "white",
           "zerolinewidth": 2
          },
          "yaxis": {
           "automargin": true,
           "gridcolor": "white",
           "linecolor": "white",
           "ticks": "",
           "title": {
            "standoff": 15
           },
           "zerolinecolor": "white",
           "zerolinewidth": 2
          }
         }
        },
        "xaxis": {
         "anchor": "y",
         "domain": [
          0,
          1
         ],
         "title": {
          "text": "Post Date"
         }
        },
        "yaxis": {
         "anchor": "x",
         "domain": [
          0,
          1
         ],
         "title": {
          "text": "neg"
         }
        }
       }
      },
      "text/html": [
       "<div>                            <div id=\"48e7a270-c568-49f9-924b-e8e472550142\" class=\"plotly-graph-div\" style=\"height:525px; width:100%;\"></div>            <script type=\"text/javascript\">                require([\"plotly\"], function(Plotly) {                    window.PLOTLYENV=window.PLOTLYENV || {};                                    if (document.getElementById(\"48e7a270-c568-49f9-924b-e8e472550142\")) {                    Plotly.newPlot(                        \"48e7a270-c568-49f9-924b-e8e472550142\",                        [{\"hovertemplate\": \"Post Date=%{x}<br>neg=%{y}<extra></extra>\", \"legendgroup\": \"\", \"line\": {\"color\": \"#636efa\", \"dash\": \"solid\"}, \"mode\": \"lines\", \"name\": \"\", \"showlegend\": false, \"type\": \"scattergl\", \"x\": [\"2019-10-10T05:58:05.73\", \"2019-10-10T12:44:35.957\", \"2019-10-10T14:56:52.947\", \"2019-10-10T15:41:06.877\", \"2019-10-10T20:56:53.483\", \"2019-10-11T13:10:28.983\", \"2019-10-11T14:24:15.807\", \"2019-10-11T16:02:41.787\", \"2019-10-13T20:01:08.897\", \"2019-10-14T05:55:32.553\", \"2019-10-14T08:33:18.01\", \"2019-10-14T22:38:08.26\", \"2019-10-16T11:20:54.023\", \"2019-10-16T14:12:45.5\", \"2019-10-17T09:14:34.753\", \"2019-10-17T10:16:15.513\", \"2019-10-17T12:09:02.91\", \"2019-10-17T23:59:14.523\", \"2019-10-18T14:58:06.717\", \"2019-10-21T06:08:38.347\", \"2019-10-21T09:43:33.513\", \"2019-10-21T12:40:40.86\", \"2019-10-21T16:06:55.323\", \"2019-10-22T08:16:13.563\", \"2019-10-22T16:27:23.92\", \"2019-10-22T18:07:48.827\", \"2019-10-23T03:37:35.103\", \"2019-10-23T06:23:11.657\", \"2019-10-23T08:20:38.087\", \"2019-10-23T11:38:26.887\", \"2019-10-23T12:09:17.84\", \"2019-10-24T04:42:08.237\", \"2019-10-24T06:19:46.603\", \"2019-10-24T09:59:56.077\", \"2019-10-24T14:04:33.85\", \"2019-10-24T16:34:04.713\", \"2019-10-25T11:54:33.85\", \"2019-10-28T15:36:47.907\", \"2019-10-29T06:01:19.783\", \"2019-10-29T10:29:47.95\", \"2019-10-29T16:46:32.203\", \"2019-10-29T17:04:40.463\", \"2019-10-30T04:45:07.257\", \"2019-10-30T08:21:45.053\", \"2019-10-30T15:33:07.45\", \"2019-10-30T18:41:07.37\", \"2019-10-30T18:45:20.75\", \"2019-10-31T12:35:06.993\", \"2019-10-31T23:57:45.833\", \"2019-11-01T07:44:02.54\", \"2019-11-01T07:45:56.387\", \"2019-11-04T17:47:37.86\", \"2019-11-06T06:04:59.007\", \"2019-11-06T10:08:50.95\", \"2019-11-06T10:27:39.52\", \"2019-11-08T20:33:59.89\", \"2019-11-09T11:37:29.693\", \"2019-11-10T01:44:11.28\", \"2019-11-11T05:59:42.987\", \"2019-11-11T11:39:44.857\", \"2019-11-11T13:02:34.017\", \"2019-11-12T00:41:34.433\", \"2019-11-12T18:42:03.247\", \"2019-11-13T03:30:36.293\", \"2019-11-13T09:35:33.91\", \"2019-11-13T23:52:26.683\", \"2019-11-14T03:28:57.637\", \"2019-11-14T06:03:35.53\", \"2019-11-14T09:45:03.713\", \"2019-11-14T11:29:20.21\", \"2019-11-14T13:10:08.303\", \"2019-11-18T04:12:03.657\", \"2019-11-18T10:12:47.987\", \"2019-11-18T15:17:49.503\", \"2019-11-18T16:11:15.36\", \"2019-11-18T17:18:32.137\", \"2019-11-18T19:25:44.17\", \"2019-11-19T02:48:28.417\", \"2019-11-19T10:27:37.423\", \"2019-11-19T11:00:35.74\", \"2019-11-19T20:00:10.803\", \"2019-11-20T05:47:36.783\", \"2019-11-20T10:36:40.83\", \"2019-11-20T12:24:54.847\", \"2019-11-21T00:07:58.053\", \"2019-11-21T13:38:42.807\", \"2019-11-21T14:08:12.47\", \"2019-11-21T18:13:29.69\", \"2019-11-22T07:29:58.45\", \"2019-11-22T12:44:01.59\", \"2019-11-23T12:26:35.197\", \"2019-11-26T08:17:12.663\", \"2019-11-27T10:39:18.173\", \"2019-11-27T21:15:11.89\", \"2019-11-28T04:58:07.76\", \"2019-11-29T02:39:25.357\", \"2019-12-02T07:06:03.57\", \"2019-12-02T15:42:44.927\", \"2019-12-02T21:04:51.46\", \"2019-12-03T07:56:40.55\", \"2019-12-03T10:45:44.023\", \"2019-12-03T14:56:05.093\", \"2019-12-03T16:06:57.23\", \"2019-12-04T11:59:55.687\", \"2019-12-05T11:04:33.51\", \"2019-12-05T12:28:17.997\", \"2019-12-09T07:10:55.167\", \"2019-12-09T07:25:39.22\", \"2019-12-09T10:45:09.32\", \"2019-12-09T10:53:03.993\", \"2019-12-09T12:45:56.217\", \"2019-12-10T07:50:29.637\", \"2019-12-10T08:52:36.997\", \"2019-12-10T10:14:02.33\", \"2019-12-10T10:55:22.36\", \"2019-12-10T11:53:33.71\", \"2019-12-10T18:25:49.657\", \"2019-12-11T11:26:46.79\", \"2019-12-11T11:57:54.773\", \"2019-12-12T10:17:39.717\", \"2019-12-12T11:05:43.68\", \"2019-12-13T09:43:03.027\", \"2019-12-17T03:54:27.833\", \"2019-12-17T05:30:55.173\", \"2019-12-17T09:31:11.343\", \"2019-12-17T11:21:51.1\", \"2019-12-17T12:36:10.797\", \"2019-12-17T22:05:31.297\", \"2019-12-18T02:18:53.803\", \"2019-12-18T04:43:33.147\", \"2019-12-18T07:43:12.083\", \"2019-12-18T14:19:48.24\", \"2019-12-20T08:29:43.793\", \"2019-12-20T14:25:22.243\", \"2019-12-21T07:25:05.07\", \"2019-12-21T07:31:20.647\", \"2019-12-24T06:44:49.68\", \"2019-12-24T07:53:51.783\", \"2019-12-26T08:18:44.133\", \"2019-12-26T11:59:21.053\", \"2019-12-27T18:14:34.557\", \"2019-12-28T03:55:55.687\", \"2019-12-30T13:08:12.05\", \"2019-12-30T13:53:51.783\", \"2020-01-02T06:49:33.107\", \"2020-01-02T09:53:02.633\", \"2020-01-02T16:36:17.35\", \"2020-01-03T04:40:24.317\", \"2020-01-03T12:08:04.033\", \"2020-01-03T16:41:12.803\", \"2020-01-05T08:26:52.923\", \"2020-01-06T12:19:26.157\", \"2020-01-06T17:04:29.283\", \"2020-01-06T17:40:07.413\", \"2020-01-07T04:10:45.22\", \"2020-01-07T04:51:00.893\", \"2020-01-07T10:24:06.313\", \"2020-01-07T11:18:19.473\", \"2020-01-07T13:43:06.053\", \"2020-01-07T15:38:23.8\", \"2020-01-07T16:18:56.733\", \"2020-01-08T16:28:49.287\", \"2020-01-09T01:31:01.17\", \"2020-01-09T06:33:51.44\", \"2020-01-09T12:05:38.153\", \"2020-01-10T15:06:17.673\", \"2020-01-10T15:54:12.933\", \"2020-01-11T05:17:09.423\", \"2020-01-13T12:21:50.72\", \"2020-01-13T13:00:29.71\", \"2020-01-14T07:18:24.06\", \"2020-01-14T07:36:27.793\", \"2020-01-14T15:06:33.63\", \"2020-01-15T04:12:20.593\", \"2020-01-15T09:52:42.417\", \"2020-01-15T13:11:10.033\", \"2020-01-15T19:14:38.547\", \"2020-01-16T01:35:18.87\", \"2020-01-16T10:00:09.903\", \"2020-01-16T17:27:43.697\", \"2020-01-16T20:37:57.323\", \"2020-01-18T01:12:31.457\", \"2020-01-18T07:43:39.573\", \"2020-01-20T00:07:25.07\", \"2020-01-20T06:57:25.193\", \"2020-01-20T06:59:28.963\", \"2020-01-20T07:01:58.37\", \"2020-01-20T14:25:20.393\", \"2020-01-20T14:45:16.097\", \"2020-01-20T17:44:58.307\", \"2020-01-22T15:07:27.347\", \"2020-01-22T15:21:03.853\", \"2020-01-23T08:30:02.617\", \"2020-01-23T09:12:43.07\", \"2020-01-24T06:49:45.39\", \"2020-01-24T15:38:37.98\", \"2020-01-25T16:27:33.3\", \"2020-01-27T12:47:35.913\", \"2020-01-27T13:06:07.103\", \"2020-01-27T19:11:17.547\", \"2020-01-29T01:21:00.2\", \"2020-01-29T10:26:02.32\", \"2020-01-30T18:43:33.303\", \"2020-01-31T00:48:04.5\", \"2020-01-31T08:03:58.81\", \"2020-02-01T05:35:29.75\", \"2020-02-02T13:10:27.66\", \"2020-02-02T17:09:13.667\", \"2020-02-03T04:12:16.153\", \"2020-02-03T09:59:10.557\", \"2020-02-03T13:33:12.313\", \"2020-02-04T09:46:39.103\", \"2020-02-04T20:18:44.27\", \"2020-02-05T11:30:08.943\", \"2020-02-05T12:57:51.92\", \"2020-02-05T15:34:55.653\", \"2020-02-07T10:19:14.993\", \"2020-02-10T12:07:23.167\", \"2020-02-10T12:23:06.927\", \"2020-02-10T12:51:43.717\", \"2020-02-10T17:12:39.753\", \"2020-02-11T17:09:02.48\", \"2020-02-11T17:58:49.54\", \"2020-02-12T06:28:17.963\", \"2020-02-12T09:04:32.27\", \"2020-02-12T14:03:31.393\", \"2020-02-12T14:51:42.37\", \"2020-02-12T15:16:51.137\", \"2020-02-12T18:31:25.547\", \"2020-02-13T04:33:31.503\", \"2020-02-13T07:03:33.427\", \"2020-02-14T10:24:51.933\", \"2020-02-14T11:00:46.067\", \"2020-02-17T16:50:09.627\", \"2020-02-18T02:27:54.503\", \"2020-02-18T09:57:28.06\", \"2020-02-18T10:33:31.103\", \"2020-02-18T11:09:26.847\", \"2020-02-20T09:07:37.297\", \"2020-02-20T18:55:20.497\", \"2020-02-21T04:19:57.7\", \"2020-02-21T06:32:06.093\", \"2020-02-21T12:36:02.74\", \"2020-02-21T13:01:12.36\", \"2020-02-21T18:07:34.15\", \"2020-02-23T02:07:04.06\", \"2020-02-24T05:14:04.183\", \"2020-02-24T09:39:05.69\", \"2020-02-24T15:46:47.507\", \"2020-02-25T03:52:03.343\", \"2020-02-26T09:59:17.067\", \"2020-02-26T12:34:35.337\", \"2020-02-26T16:38:14.707\", \"2020-02-27T12:11:29.997\", \"2020-02-28T04:40:42.623\", \"2020-02-28T10:58:22.157\", \"2020-02-28T12:00:12.227\", \"2020-02-28T12:41:38.88\", \"2020-02-29T01:03:40.683\", \"2020-03-01T02:40:06.913\", \"2020-03-01T10:01:48.487\", \"2020-03-01T23:59:56.043\", \"2020-03-02T14:28:29.457\", \"2020-03-03T00:00:27.147\", \"2020-03-03T04:30:14.143\", \"2020-03-03T06:44:29.51\", \"2020-03-03T07:23:34.21\", \"2020-03-04T03:34:45.237\", \"2020-03-04T10:43:21.66\", \"2020-03-04T20:50:43.727\", \"2020-03-05T20:40:47.497\", \"2020-03-06T16:53:23.053\", \"2020-03-07T06:36:24.19\", \"2020-03-08T12:22:18.35\", \"2020-03-08T18:22:20.403\", \"2020-03-09T07:47:26.907\", \"2020-03-10T02:49:49.197\", \"2020-03-10T07:07:09.317\", \"2020-03-10T11:43:30.047\", \"2020-03-10T13:47:55.803\", \"2020-03-11T12:02:24.97\", \"2020-03-12T03:22:56.907\", \"2020-03-12T05:01:18.27\", \"2020-03-12T09:32:11.43\", \"2020-03-12T16:24:51.943\", \"2020-03-13T02:20:48.573\", \"2020-03-13T18:05:09.727\", \"2020-03-16T05:51:59.12\", \"2020-03-16T13:41:01.863\", \"2020-03-17T01:11:48.753\", \"2020-03-17T02:14:25.67\", \"2020-03-17T10:57:57.617\", \"2020-03-17T11:01:28.317\", \"2020-03-17T12:46:10.82\", \"2020-03-17T17:40:54.64\", \"2020-03-18T06:06:20.797\", \"2020-03-19T09:31:32.573\", \"2020-03-20T09:02:42.493\", \"2020-03-20T09:52:08.827\", \"2020-03-22T12:10:06.073\", \"2020-03-22T23:11:53.447\", \"2020-03-23T11:06:50.057\", \"2020-03-23T23:34:21.613\", \"2020-03-24T16:40:36.357\", \"2020-03-25T05:31:26.553\", \"2020-03-25T13:28:17.627\", \"2020-03-25T13:53:46.49\", \"2020-03-27T09:21:56.483\", \"2020-03-28T01:28:47.883\", \"2020-03-30T04:21:56.913\", \"2020-03-30T09:08:24.897\", \"2020-03-30T15:21:41.037\", \"2020-03-30T21:20:56.607\", \"2020-03-31T11:25:34.507\", \"2020-03-31T13:27:36.39\", \"2020-04-01T16:02:10.643\", \"2020-04-02T00:43:12.03\", \"2020-04-03T01:06:02.82\", \"2020-04-07T12:32:04.843\", \"2020-04-07T16:29:10.43\", \"2020-04-08T00:15:17.853\", \"2020-04-08T03:50:11.817\", \"2020-04-08T10:13:33.427\", \"2020-04-08T18:27:22.337\", \"2020-04-09T23:22:33.47\", \"2020-04-10T09:08:10.833\", \"2020-04-10T19:21:56.537\", \"2020-04-13T10:16:13.573\", \"2020-04-13T12:45:52.543\", \"2020-04-13T14:36:36.72\", \"2020-04-14T04:48:03.713\", \"2020-04-14T08:25:03.7\", \"2020-04-14T11:03:59.167\", \"2020-04-15T05:26:43.887\", \"2020-04-16T08:10:59.29\", \"2020-04-16T16:12:38.977\", \"2020-04-16T16:41:02.65\", \"2020-04-16T17:32:12.887\", \"2020-04-17T17:21:10.267\", \"2020-04-17T18:09:09.38\", \"2020-04-17T19:28:32.667\", \"2020-04-20T06:46:13.263\", \"2020-04-20T09:45:40.793\", \"2020-04-21T06:43:58.953\", \"2020-04-22T17:52:12.143\", \"2020-04-23T02:31:29.827\", \"2020-04-23T11:51:48.66\", \"2020-04-23T12:48:56.067\", \"2020-04-23T13:42:27.423\", \"2020-04-23T17:09:27.673\", \"2020-04-23T19:33:37.777\", \"2020-04-24T09:15:41.46\", \"2020-04-24T12:08:53.497\", \"2020-04-24T17:33:44.47\", \"2020-04-27T03:25:15.807\", \"2020-04-27T11:04:11.827\", \"2020-04-27T12:09:32.6\", \"2020-04-28T14:16:24.483\", \"2020-04-28T14:23:25.457\", \"2020-04-28T14:54:09.24\", \"2020-04-28T15:58:10.627\", \"2020-04-29T06:42:53.09\", \"2020-04-29T11:08:12.53\", \"2020-04-30T10:03:05.167\", \"2020-05-01T07:55:41.06\", \"2020-05-01T13:27:08.093\", \"2020-05-01T18:13:11.793\", \"2020-05-03T16:49:31.43\", \"2020-05-05T07:56:04.453\", \"2020-05-05T08:43:05.083\", \"2020-05-05T10:32:52.917\", \"2020-05-05T19:02:17.003\", \"2020-05-06T01:58:51.927\", \"2020-05-06T07:12:28.073\", \"2020-05-06T09:55:41.613\", \"2020-05-06T10:17:41.447\", \"2020-05-06T11:33:27.64\", \"2020-05-07T03:54:23.82\", \"2020-05-07T07:48:02.343\", \"2020-05-07T10:30:47.55\", \"2020-05-07T14:40:24.16\", \"2020-05-07T17:22:42.663\", \"2020-05-07T17:58:50.36\", \"2020-05-08T11:05:30.22\", \"2020-05-08T18:50:29.917\", \"2020-05-10T15:38:34.823\", \"2020-05-10T22:06:56.483\", \"2020-05-11T04:18:33.723\", \"2020-05-11T10:39:05.677\", \"2020-05-11T18:12:14.043\", \"2020-05-12T06:46:53.073\", \"2020-05-12T07:44:49.72\", \"2020-05-12T23:39:37.837\", \"2020-05-13T09:12:49.927\", \"2020-05-13T12:09:34.583\", \"2020-05-13T14:43:08.657\", \"2020-05-13T15:13:24.907\", \"2020-05-14T03:52:10.373\", \"2020-05-14T09:38:15.473\", \"2020-05-14T13:46:07.237\", \"2020-05-14T17:51:27.473\", \"2020-05-19T01:36:19.2\", \"2020-05-19T10:58:19.68\", \"2020-05-19T13:23:05.93\", \"2020-05-19T22:05:27.747\", \"2020-05-19T22:57:51.593\", \"2020-05-19T23:57:36.38\", \"2020-05-20T07:46:08.763\", \"2020-05-21T08:01:48.667\", \"2020-05-21T16:17:26.79\", \"2020-05-22T09:04:36.597\", \"2020-05-22T12:43:12.977\", \"2020-05-22T13:38:46.373\", \"2020-05-24T07:44:59.96\", \"2020-05-25T11:51:41.683\", \"2020-05-25T12:12:56.96\", \"2020-05-26T04:19:19.857\", \"2020-05-26T05:29:41.38\", \"2020-05-27T08:09:30.657\", \"2020-05-27T09:42:57.963\", \"2020-05-27T11:51:09.957\", \"2020-05-27T16:13:12.423\", \"2020-05-28T04:33:45.413\", \"2020-05-28T10:50:38.12\", \"2020-05-28T11:43:06.343\", \"2020-05-28T13:55:04.59\", \"2020-05-28T13:55:17.233\", \"2020-05-28T15:02:38.937\", \"2020-05-28T21:23:28.48\", \"2020-05-31T11:34:13.967\", \"2020-05-31T21:49:48.113\", \"2020-06-01T02:08:55.463\", \"2020-06-01T03:45:36.143\", \"2020-06-01T07:06:15.03\", \"2020-06-01T23:54:24.347\", \"2020-06-02T05:15:07.377\", \"2020-06-02T06:25:02.487\", \"2020-06-03T08:38:37.627\", \"2020-06-04T08:46:29.137\", \"2020-06-04T08:47:30.443\", \"2020-06-05T08:37:45.887\", \"2020-06-08T10:15:40.8\", \"2020-06-08T11:30:52.127\", \"2020-06-10T15:48:56.787\", \"2020-06-11T05:44:23.893\", \"2020-06-11T10:48:33.063\", \"2020-06-11T16:44:25.303\", \"2020-06-12T04:26:21.537\", \"2020-06-13T20:34:20.54\", \"2020-06-15T00:18:26.877\", \"2020-06-15T18:21:18.607\", \"2020-06-17T07:44:27.62\", \"2020-06-17T09:23:08.72\", \"2020-06-17T10:39:43.347\", \"2020-06-17T10:47:18.047\", \"2020-06-17T18:17:42.787\", \"2020-06-17T21:20:44.363\", \"2020-06-18T03:41:34.283\", \"2020-06-18T18:45:45.943\", \"2020-06-19T05:28:43.413\", \"2020-06-19T05:37:59.09\", \"2020-06-19T07:23:48.88\", \"2020-06-19T13:04:31.18\", \"2020-06-19T13:05:50.277\", \"2020-06-20T20:04:07.61\", \"2020-06-21T05:58:52.79\", \"2020-06-22T07:57:18.433\", \"2020-06-22T15:20:53.23\", \"2020-06-22T17:32:37.193\", \"2020-06-25T03:09:04.55\", \"2020-06-26T07:38:55.12\", \"2020-06-29T17:02:31.54\", \"2020-07-01T03:24:12.553\", \"2020-07-01T08:43:32.99\", \"2020-07-02T09:20:12.7\", \"2020-07-02T10:21:06.57\", \"2020-07-02T16:17:26.273\", \"2020-07-06T05:50:50.78\", \"2020-07-06T09:19:59.403\", \"2020-07-08T09:33:24.407\", \"2020-07-08T16:56:19.757\", \"2020-07-09T15:25:26.863\", \"2020-07-09T16:22:26.66\", \"2020-07-09T16:28:26.983\", \"2020-07-10T08:52:51.04\", \"2020-07-10T15:53:37.277\", \"2020-07-10T18:57:48.173\", \"2020-07-11T20:29:03.777\", \"2020-07-13T02:40:11.35\", \"2020-07-14T05:01:01.39\", \"2020-07-15T03:11:16.5\", \"2020-07-15T06:32:14.56\", \"2020-07-15T17:54:55.167\", \"2020-07-16T04:35:29.63\", \"2020-07-16T07:33:35.41\", \"2020-07-16T11:36:35.183\", \"2020-07-16T16:31:52.563\", \"2020-07-17T14:17:43.9\", \"2020-07-20T13:16:24.25\", \"2020-07-20T23:00:15.057\", \"2020-07-21T04:25:05.703\", \"2020-07-21T06:17:01.253\", \"2020-07-21T10:23:05.597\", \"2020-07-21T11:25:17.723\", \"2020-07-21T15:20:11.183\", \"2020-07-22T05:55:52.447\", \"2020-07-22T16:48:52.953\", \"2020-07-22T23:35:16.743\", \"2020-07-23T15:51:45.183\", \"2020-07-23T16:46:00.053\", \"2020-07-24T02:00:04.097\", \"2020-07-24T15:17:29.263\", \"2020-07-27T13:56:35.087\", \"2020-07-28T11:16:57.777\", \"2020-07-28T11:20:26.603\", \"2020-07-28T11:47:30.707\", \"2020-07-29T08:18:11.907\", \"2020-07-29T09:13:44.577\", \"2020-07-29T10:45:28.61\", \"2020-07-30T14:51:34.69\", \"2020-07-30T16:20:18.783\", \"2020-07-31T03:00:29.553\", \"2020-08-01T06:40:03.033\", \"2020-08-02T08:21:09.453\", \"2020-08-03T14:31:32.377\", \"2020-08-03T15:16:16.62\", \"2020-08-05T12:27:19.103\", \"2020-08-05T13:19:23.943\", \"2020-08-06T12:04:03.013\", \"2020-08-06T16:30:31.317\", \"2020-08-07T15:34:48.087\", \"2020-08-10T12:13:23.673\", \"2020-08-11T03:18:56.48\", \"2020-08-11T06:23:35.727\", \"2020-08-11T20:18:22.113\", \"2020-08-12T07:54:44.907\", \"2020-08-13T05:21:38.977\", \"2020-08-13T09:27:35.497\", \"2020-08-13T13:58:17.28\", \"2020-08-13T14:00:56.303\", \"2020-08-13T19:32:19.49\", \"2020-08-14T04:43:10.42\", \"2020-08-14T06:48:55.553\", \"2020-08-14T10:33:47.637\", \"2020-08-14T14:39:35.21\", \"2020-08-17T10:09:37.347\", \"2020-08-17T17:09:22.07\", \"2020-08-18T07:01:56.34\", \"2020-08-18T10:10:32.407\", \"2020-08-19T10:47:49.9\", \"2020-08-19T14:31:13.88\", \"2020-08-20T16:16:04.203\", \"2020-08-20T18:20:03.123\", \"2020-08-21T02:02:10.857\", \"2020-08-21T14:50:21.077\", \"2020-08-21T15:36:03.473\", \"2020-08-24T02:26:12.913\", \"2020-08-24T03:55:16.187\", \"2020-08-24T07:30:08.877\", \"2020-08-24T09:13:29.1\", \"2020-08-25T09:37:23.29\", \"2020-08-25T13:34:40.817\", \"2020-08-26T02:11:50.003\", \"2020-08-26T10:34:15.32\", \"2020-08-26T11:13:50.613\", \"2020-08-27T04:28:56.903\", \"2020-08-27T11:25:26.827\", \"2020-08-27T11:40:36.677\", \"2020-08-27T14:20:01.203\", \"2020-08-27T14:59:03.177\", \"2020-08-28T04:12:14.89\", \"2020-08-28T12:20:32.08\", \"2020-08-31T09:41:46.203\", \"2020-09-01T08:29:04.687\", \"2020-09-01T12:00:23.027\", \"2020-09-02T13:28:25.653\", \"2020-09-03T02:01:33.75\", \"2020-09-03T09:26:58.127\", \"2020-09-03T11:55:40.83\", \"2020-09-03T14:53:10.197\", \"2020-09-03T15:16:17.96\", \"2020-09-04T02:35:33.15\", \"2020-09-04T08:34:40.003\", \"2020-09-07T03:14:01.783\", \"2020-09-08T03:24:11.603\", \"2020-09-08T05:00:37.097\", \"2020-09-08T05:40:25.34\", \"2020-09-08T10:35:57.717\", \"2020-09-08T12:13:05.57\", \"2020-09-08T14:17:04.713\", \"2020-09-09T04:14:26.247\", \"2020-09-09T07:05:09.473\", \"2020-09-09T14:46:03.91\", \"2020-09-09T15:33:09.883\", \"2020-09-09T19:09:12.01\", \"2020-09-10T06:00:56.927\", \"2020-09-10T06:34:35.72\", \"2020-09-10T12:15:08.11\", \"2020-09-10T16:25:03.4\", \"2020-09-11T11:54:43.767\", \"2020-09-11T14:32:09.763\", \"2020-09-11T17:57:16.44\", \"2020-09-13T05:09:37.187\", \"2020-09-13T12:40:21.163\", \"2020-09-14T08:48:44.357\", \"2020-09-15T08:11:30.217\", \"2020-09-15T11:40:17.6\", \"2020-09-15T19:54:20.857\", \"2020-09-16T06:13:11.593\", \"2020-09-16T08:15:45.44\", \"2020-09-16T09:57:44.517\", \"2020-09-16T12:02:57.383\", \"2020-09-16T14:20:14.03\", \"2020-09-16T16:01:59.473\", \"2020-09-16T16:33:38.75\", \"2020-09-16T16:52:38.42\", \"2020-09-17T11:41:44.053\", \"2020-09-17T14:55:23.447\", \"2020-09-17T16:37:00.077\", \"2020-09-18T07:33:41.723\", \"2020-09-18T10:46:34.367\", \"2020-09-20T12:16:21.403\", \"2020-09-21T09:58:43.167\", \"2020-09-21T16:37:39.7\", \"2020-09-21T16:47:19.263\", \"2020-09-22T00:02:42.337\", \"2020-09-22T03:04:06.773\", \"2020-09-22T06:17:08.973\", \"2020-09-22T12:21:03.637\", \"2020-09-22T12:56:21.417\", \"2020-09-23T07:34:25.193\", \"2020-09-23T12:45:54.313\", \"2020-09-23T14:50:02.017\", \"2020-09-23T14:50:53.77\", \"2020-09-23T14:51:39.347\", \"2020-09-23T15:15:00.187\", \"2020-09-24T13:12:57.107\", \"2020-09-24T19:12:48.583\", \"2020-09-25T06:21:34.47\", \"2020-09-25T15:10:56.223\", \"2020-09-25T21:10:47.287\", \"2020-09-27T00:39:00.507\", \"2020-09-27T03:01:48.877\", \"2020-09-28T07:28:53.443\", \"2020-09-28T13:41:47.603\", \"2020-09-29T10:42:52.203\", \"2020-09-29T10:58:24.237\", \"2020-09-29T11:43:39.463\", \"2020-09-29T18:14:05.84\", \"2020-09-29T18:29:04.81\", \"2020-09-30T11:28:12.57\", \"2020-10-01T04:05:51.267\", \"2020-10-01T15:18:19.523\", \"2020-10-02T09:26:32.68\", \"2020-10-04T06:57:42.663\", \"2020-10-05T01:11:31.057\", \"2020-10-05T22:58:21.4\", \"2020-10-06T10:36:52.983\", \"2020-10-06T12:46:04.483\", \"2020-10-07T04:36:43.39\", \"2020-10-07T04:49:35.287\", \"2020-10-07T06:19:26.927\", \"2020-10-07T16:31:35.887\", \"2020-10-07T16:43:08.117\", \"2020-10-08T07:26:39.637\", \"2020-10-08T08:52:50.623\", \"2020-10-08T16:26:59.76\", \"2020-10-09T02:01:00.407\", \"2020-10-09T19:17:29.443\", \"2020-10-12T09:03:36.163\", \"2020-10-12T20:34:39.057\", \"2020-10-13T13:02:42.213\", \"2020-10-13T18:32:15.773\", \"2020-10-14T06:43:01.837\", \"2020-10-14T09:31:09.873\", \"2020-10-14T13:41:44.907\", \"2020-10-14T13:52:09.94\", \"2020-10-15T06:57:57.13\", \"2020-10-15T14:35:43.96\", \"2020-10-16T10:01:41.817\", \"2020-10-16T12:33:29.753\", \"2020-10-16T13:34:13.343\", \"2020-10-16T18:36:31.273\", \"2020-10-17T11:21:17.997\", \"2020-10-17T21:00:48.037\", \"2020-10-19T15:39:33.853\", \"2020-10-19T22:07:22.383\", \"2020-10-19T22:07:38.62\", \"2020-10-20T03:00:27.94\", \"2020-10-20T16:35:09.947\", \"2020-10-21T04:53:38.967\", \"2020-10-21T06:22:02.867\", \"2020-10-21T09:30:56.74\", \"2020-10-21T10:44:23.66\", \"2020-10-21T12:58:42.72\", \"2020-10-21T13:33:08.743\", \"2020-10-21T14:06:01.427\", \"2020-10-22T13:47:42.993\", \"2020-10-22T14:31:26.257\", \"2020-10-22T17:17:54.993\", \"2020-10-22T17:19:54.477\", \"2020-10-23T07:50:08.56\", \"2020-10-23T12:09:06.92\", \"2020-10-23T16:06:11.243\", \"2020-10-24T16:03:56.137\", \"2020-10-25T08:22:12.38\", \"2020-10-25T16:01:58.43\", \"2020-10-26T05:46:15.347\", \"2020-10-27T16:57:39.52\", \"2020-10-28T05:57:09.547\", \"2020-10-28T13:28:28.833\", \"2020-10-28T15:58:04.637\", \"2020-10-29T01:39:26.437\", \"2020-10-29T02:25:33.677\", \"2020-10-29T11:10:06.717\", \"2020-10-29T14:45:52.203\", \"2020-10-30T15:24:32.273\", \"2020-11-02T09:41:44.807\", \"2020-11-02T16:14:49.56\", \"2020-11-03T09:15:35.397\", \"2020-11-03T14:16:21.633\", \"2020-11-04T08:18:34.06\", \"2020-11-05T12:22:50.65\", \"2020-11-05T13:57:09.393\", \"2020-11-06T03:12:33.02\", \"2020-11-07T02:30:08.94\", \"2020-11-08T12:42:54.723\", \"2020-11-08T12:48:07.61\", \"2020-11-09T08:23:02.983\", \"2020-11-09T10:51:40.613\", \"2020-11-11T05:50:59.56\", \"2020-11-11T06:00:38.383\", \"2020-11-11T09:58:05.707\", \"2020-11-11T11:27:29.283\", \"2020-11-11T15:13:05.847\", \"2020-11-11T16:53:07.01\", \"2020-11-12T05:28:55.913\", \"2020-11-12T14:47:17.27\", \"2020-11-12T18:39:57.223\", \"2020-11-13T03:08:25.797\", \"2020-11-13T18:33:05.46\", \"2020-11-14T14:04:27.383\", \"2020-11-16T02:39:45.893\", \"2020-11-16T11:23:16.327\", \"2020-11-16T11:25:19.08\", \"2020-11-18T06:54:44.173\", \"2020-11-18T11:32:37.993\", \"2020-11-18T11:41:37.49\", \"2020-11-18T12:30:24.143\", \"2020-11-18T12:37:55.147\", \"2020-11-18T19:18:53.403\", \"2020-11-19T09:30:41.29\", \"2020-11-19T12:44:09.52\", \"2020-11-19T16:56:39.44\", \"2020-11-20T10:05:42.53\", \"2020-11-20T14:00:44.387\", \"2020-11-20T16:00:00.39\", \"2020-11-21T05:08:51.133\", \"2020-11-22T23:21:07.067\", \"2020-11-23T01:58:09.64\", \"2020-11-24T10:58:17.443\", \"2020-11-24T15:09:06.143\", \"2020-11-24T16:02:26.117\", \"2020-11-24T20:48:57.933\", \"2020-11-25T11:17:47.587\", \"2020-11-25T11:59:22.583\", \"2020-11-25T12:40:55.58\", \"2020-11-25T13:13:05.463\", \"2020-11-25T14:28:28.507\", \"2020-11-25T15:43:04.867\", \"2020-11-26T11:43:14.277\", \"2020-11-30T16:32:19.377\", \"2020-12-02T09:26:16.583\", \"2020-12-02T15:54:46.727\", \"2020-12-03T15:45:18.923\", \"2020-12-04T18:13:27.287\", \"2020-12-06T07:13:50.297\", \"2020-12-06T08:25:07.433\", \"2020-12-06T22:33:26.473\", \"2020-12-08T06:45:13.323\", \"2020-12-08T11:32:56.12\", \"2020-12-08T12:43:05.35\", \"2020-12-08T12:43:52.023\", \"2020-12-08T15:13:24.93\", \"2020-12-09T10:04:40.567\", \"2020-12-10T03:32:44.07\", \"2020-12-10T16:03:19.67\", \"2020-12-10T16:45:56.92\", \"2020-12-11T09:05:13.287\", \"2020-12-15T11:43:28.143\", \"2020-12-15T13:24:34.04\", \"2020-12-16T05:04:16.433\", \"2020-12-16T11:24:45.933\", \"2020-12-16T13:34:06.637\", \"2020-12-16T16:31:08.12\", \"2020-12-16T21:46:56.413\", \"2020-12-18T03:06:14.177\", \"2020-12-18T11:11:07.787\", \"2020-12-21T08:30:12.503\", \"2020-12-21T17:49:39.223\", \"2020-12-22T04:59:41.42\", \"2020-12-22T05:06:26.697\", \"2020-12-23T09:59:10.2\", \"2020-12-23T10:59:14.423\", \"2020-12-24T00:03:53.283\", \"2020-12-26T15:56:58.257\", \"2020-12-27T01:57:08.607\", \"2020-12-27T11:57:47.007\", \"2020-12-27T14:12:00.18\", \"2020-12-28T02:51:24.99\", \"2020-12-28T10:34:01.52\", \"2020-12-28T11:57:21.447\", \"2020-12-28T15:09:46.85\", \"2020-12-29T08:45:35.597\", \"2020-12-29T11:55:09.773\", \"2020-12-29T15:13:04.71\", \"2020-12-29T17:22:22.603\", \"2020-12-30T10:05:14.57\", \"2020-12-31T18:03:21.66\", \"2021-01-01T07:00:15.443\", \"2021-01-03T22:55:07.463\", \"2021-01-04T07:41:29.507\", \"2021-01-04T07:48:38.72\", \"2021-01-04T08:49:11.093\", \"2021-01-04T12:26:12.183\", \"2021-01-05T09:54:38.063\", \"2021-01-05T10:07:21.227\", \"2021-01-05T20:16:38.75\", \"2021-01-06T12:25:16.487\", \"2021-01-06T14:50:39.423\", \"2021-01-07T00:43:54.317\", \"2021-01-08T03:57:53.35\", \"2021-01-09T23:27:17.513\", \"2021-01-11T05:30:23.477\", \"2021-01-11T16:25:58.88\", \"2021-01-11T22:44:21.93\", \"2021-01-12T06:59:45.843\", \"2021-01-12T07:40:27.073\", \"2021-01-12T08:16:59.57\", \"2021-01-12T09:52:23.923\", \"2021-01-12T23:48:05.1\", \"2021-01-14T13:55:54.143\", \"2021-01-15T06:20:18.943\", \"2021-01-15T11:36:31.313\", \"2021-01-16T04:10:22.447\", \"2021-01-16T07:56:33.363\", \"2021-01-16T19:32:13.78\", \"2021-01-18T00:23:54.957\", \"2021-01-18T05:59:41.04\", \"2021-01-19T13:53:44.657\", \"2021-01-19T14:58:12.793\", \"2021-01-20T07:11:18.693\", \"2021-01-20T07:58:12.823\", \"2021-01-20T15:38:36.633\", \"2021-01-20T16:13:02.5\", \"2021-01-21T09:00:33.853\", \"2021-01-21T17:46:44.013\", \"2021-01-22T13:54:36.95\", \"2021-01-22T15:20:52.107\", \"2021-01-23T00:52:07.6\", \"2021-01-25T03:57:52.733\", \"2021-01-25T10:05:26.427\", \"2021-01-25T12:51:33.14\", \"2021-01-25T17:07:17.423\", \"2021-01-27T01:26:58.78\", \"2021-01-27T09:22:55.277\", \"2021-01-27T09:22:55.547\", \"2021-01-27T09:28:32.857\", \"2021-01-27T13:06:46.71\", \"2021-01-28T11:33:34.887\", \"2021-01-29T05:09:45.457\", \"2021-01-29T09:32:23.31\", \"2021-01-30T02:44:24.313\", \"2021-02-01T14:35:54.11\", \"2021-02-02T02:54:29.54\", \"2021-02-02T09:15:33.837\", \"2021-02-03T04:07:38.773\", \"2021-02-03T06:28:55.87\", \"2021-02-03T14:28:38.48\", \"2021-02-04T18:52:41.68\", \"2021-02-05T01:44:05.203\", \"2021-02-05T09:38:55.053\", \"2021-02-07T01:35:51.77\", \"2021-02-07T03:45:35.85\", \"2021-02-07T22:47:17.563\", \"2021-02-08T04:21:46.14\", \"2021-02-08T14:35:14.027\", \"2021-02-08T20:23:34.343\", \"2021-02-09T05:36:55.147\", \"2021-02-09T07:28:04.943\", \"2021-02-10T06:07:45.91\", \"2021-02-10T11:48:40.4\", \"2021-02-10T13:30:52.19\", \"2021-02-10T17:28:34.27\", \"2021-02-11T16:40:26.987\", \"2021-02-11T21:31:20.58\", \"2021-02-12T05:54:48.23\", \"2021-02-12T09:56:04.773\", \"2021-02-12T15:06:05.92\", \"2021-02-12T15:07:52.33\", \"2021-02-13T02:53:30.073\", \"2021-02-14T04:45:31.08\", \"2021-02-14T15:10:09.8\", \"2021-02-15T21:50:52.64\", \"2021-02-16T06:32:23.97\", \"2021-02-16T09:44:47.337\", \"2021-02-16T14:37:14.58\", \"2021-02-17T00:44:34.993\", \"2021-02-17T01:00:17.45\", \"2021-02-17T01:25:49.423\", \"2021-02-17T17:57:59.497\", \"2021-02-18T04:41:42.563\", \"2021-02-19T11:17:25.39\", \"2021-02-22T01:18:39.76\", \"2021-02-22T10:22:26.3\", \"2021-02-23T05:30:07.697\", \"2021-02-23T08:25:50.447\", \"2021-02-23T15:53:46.57\", \"2021-02-24T07:45:06.977\", \"2021-02-24T12:36:00.77\", \"2021-02-25T08:53:44.637\", \"2021-02-25T10:29:48.393\", \"2021-02-25T16:43:06.273\", \"2021-02-26T09:23:09.993\", \"2021-02-26T11:57:02.543\", \"2021-02-26T18:47:43.037\", \"2021-02-27T07:31:29.457\", \"2021-02-27T11:08:57.667\", \"2021-03-01T09:13:33.787\", \"2021-03-01T19:39:59.55\", \"2021-03-02T09:23:36.847\", \"2021-03-02T11:18:39.363\", \"2021-03-02T16:31:12.837\", \"2021-03-03T03:05:35.877\", \"2021-03-03T05:13:37.897\", \"2021-03-03T06:44:32.35\", \"2021-03-03T08:54:25\", \"2021-03-03T09:20:39.307\", \"2021-03-03T16:19:15.397\", \"2021-03-04T02:36:22.257\", \"2021-03-04T11:01:28.96\", \"2021-03-05T08:22:11.3\", \"2021-03-06T06:54:56.57\", \"2021-03-09T07:01:54.71\", \"2021-03-09T11:05:19.053\", \"2021-03-09T11:09:19.763\", \"2021-03-09T14:55:21.58\", \"2021-03-09T17:00:23.213\", \"2021-03-10T04:36:07.837\", \"2021-03-10T15:24:21.857\", \"2021-03-10T16:00:02.613\", \"2021-03-11T04:20:04.103\", \"2021-03-11T09:00:30.913\", \"2021-03-11T17:30:43.753\", \"2021-03-12T02:34:21.683\", \"2021-03-12T03:28:33.083\", \"2021-03-12T11:48:47.203\", \"2021-03-13T10:25:21.143\", \"2021-03-14T17:29:30.287\", \"2021-03-15T10:13:43.667\", \"2021-03-15T10:53:54.233\", \"2021-03-16T07:06:57.6\", \"2021-03-16T15:19:27.047\", \"2021-03-17T17:02:54.86\", \"2021-03-18T02:51:39.69\", \"2021-03-18T13:51:25.81\", \"2021-03-19T07:21:13.43\", \"2021-03-19T11:31:47.557\", \"2021-03-20T01:34:53.61\", \"2021-03-22T03:47:12.6\", \"2021-03-23T12:14:18.863\", \"2021-03-24T09:04:13.813\", \"2021-03-24T12:58:46.5\", \"2021-03-25T03:17:53.38\", \"2021-03-25T14:46:51.637\", \"2021-03-25T16:39:59.577\", \"2021-03-26T14:27:14.173\", \"2021-03-30T12:29:47.413\", \"2021-03-30T12:53:22.887\", \"2021-03-31T05:04:42.15\", \"2021-03-31T06:38:42.34\", \"2021-04-01T08:14:49.057\", \"2021-04-06T19:28:50.28\", \"2021-04-07T14:44:07.22\", \"2021-04-08T17:31:25.08\", \"2021-04-09T14:10:26.533\", \"2021-04-09T18:43:03.997\", \"2021-04-10T02:53:00.28\", \"2021-04-10T03:29:32.747\", \"2021-04-10T15:57:59.943\", \"2021-04-12T10:52:25.73\", \"2021-04-12T12:12:10.283\", \"2021-04-12T15:13:07.097\", \"2021-04-14T03:27:41.803\", \"2021-04-15T08:57:58.05\", \"2021-04-15T12:20:03.933\", \"2021-04-19T09:41:09.173\", \"2021-04-20T07:00:28.707\", \"2021-04-20T11:43:36.217\", \"2021-04-20T15:43:56.607\", \"2021-04-21T11:38:15.18\", \"2021-04-22T04:29:17.66\", \"2021-04-22T04:48:51.64\", \"2021-04-22T06:55:40.56\", \"2021-04-22T07:32:19.79\", \"2021-04-22T16:37:41.357\", \"2021-04-22T16:43:27\", \"2021-04-23T00:03:22.743\", \"2021-04-23T09:14:59.607\", \"2021-04-23T11:09:05.35\", \"2021-04-27T07:40:14.087\", \"2021-04-27T10:25:08.213\", \"2021-04-27T13:53:38.607\", \"2021-04-27T14:05:34.707\", \"2021-04-27T16:17:23.083\", \"2021-04-27T16:38:41.177\", \"2021-04-28T06:07:57.33\", \"2021-04-28T11:44:20.84\", \"2021-04-28T14:08:31.08\", \"2021-04-28T14:15:54.817\", \"2021-04-29T02:16:11.49\", \"2021-04-30T07:03:44.607\", \"2021-04-30T08:43:37.07\", \"2021-04-30T15:41:33.667\", \"2021-05-04T03:26:26.993\", \"2021-05-04T09:31:18.373\", \"2021-05-05T10:48:30.583\", \"2021-05-05T14:59:26.737\", \"2021-05-06T04:52:27.5\", \"2021-05-06T05:44:31.317\", \"2021-05-06T06:08:48.817\", \"2021-05-06T10:55:46.883\", \"2021-05-06T14:47:18.237\", \"2021-05-06T15:36:56.423\", \"2021-05-06T19:21:40.677\", \"2021-05-07T11:58:25.423\", \"2021-05-07T12:44:00.26\", \"2021-05-10T14:33:41.143\", \"2021-05-11T11:11:22.967\", \"2021-05-11T14:33:52.803\", \"2021-05-11T16:15:01.67\", \"2021-05-12T19:29:45.887\", \"2021-05-14T08:27:02.38\", \"2021-05-14T10:04:28.7\", \"2021-05-17T00:14:13.58\", \"2021-05-17T05:24:41.617\", \"2021-05-17T10:22:56.957\", \"2021-05-17T10:44:03.017\", \"2021-05-17T12:12:39.573\", \"2021-05-17T12:41:24.27\", \"2021-05-18T00:14:22.057\", \"2021-05-19T09:46:33.497\", \"2021-05-20T08:11:58.513\", \"2021-05-21T02:17:15.373\", \"2021-05-23T15:49:03.797\", \"2021-05-24T03:14:14.447\", \"2021-05-24T05:55:56.8\", \"2021-05-24T14:55:23.877\", \"2021-05-25T10:09:32.81\", \"2021-05-25T16:41:37.953\", \"2021-05-25T23:18:10.647\", \"2021-05-25T23:21:55.333\", \"2021-05-26T05:39:30.67\", \"2021-05-27T07:12:50.66\", \"2021-05-28T11:21:25.033\", \"2021-05-28T13:33:13.153\", \"2021-05-29T21:45:02.2\", \"2021-05-30T01:41:31.68\", \"2021-05-30T08:11:59.69\", \"2021-06-02T07:44:14.63\", \"2021-06-02T12:18:46.267\", \"2021-06-02T13:14:26.307\", \"2021-06-02T13:40:25.58\", \"2021-06-02T13:53:43.85\", \"2021-06-02T15:54:57.997\", \"2021-06-02T16:37:04.77\", \"2021-06-03T02:17:04.61\", \"2021-06-03T04:46:03.063\", \"2021-06-03T04:52:06.57\", \"2021-06-03T09:19:09.593\", \"2021-06-03T19:44:17.527\", \"2021-06-04T05:25:16.927\", \"2021-06-04T10:11:48.013\", \"2021-06-04T19:14:13.09\", \"2021-06-08T04:53:56.6\", \"2021-06-08T10:57:39.363\"], \"xaxis\": \"x\", \"y\": [0.063, 0.022, 0.0, 0.041, 0.0, 0.046, 0.0, 0.0, 0.0, 0.081, 0.05, 0.102, 0.025, 0.0, 0.037, 0.0, 0.077, 0.09, 0.0, 0.0, 0.069, 0.121, 0.067, 0.034, 0.079, 0.0, 0.0, 0.062, 0.0, 0.089, 0.055, 0.0, 0.11, 0.0, 0.118, 0.0, 0.145, 0.0, 0.0, 0.035, 0.0, 0.062, 0.0, 0.129, 0.0, 0.038, 0.249, 0.0, 0.1, 0.032, 0.102, 0.0, 0.0, 0.0, 0.131, 0.0, 0.0, 0.073, 0.122, 0.0, 0.02, 0.0, 0.0, 0.0, 0.0, 0.0, 0.057, 0.0, 0.0, 0.0, 0.029, 0.065, 0.079, 0.035, 0.0, 0.0, 0.0, 0.043, 0.067, 0.0, 0.0, 0.146, 0.036, 0.0, 0.011, 0.0, 0.024, 0.0, 0.0, 0.041, 0.073, 0.0, 0.0, 0.0, 0.047, 0.166, 0.049, 0.033, 0.0, 0.0, 0.0, 0.14, 0.158, 0.0, 0.0, 0.022, 0.021, 0.037, 0.0, 0.088, 0.0, 0.08, 0.046, 0.0, 0.092, 0.0, 0.0, 0.0, 0.0, 0.059, 0.0, 0.0, 0.048, 0.0, 0.023, 0.0, 0.0, 0.0, 0.074, 0.102, 0.06, 0.0, 0.1, 0.0, 0.074, 0.03, 0.153, 0.0, 0.047, 0.036, 0.0, 0.018, 0.0, 0.116, 0.034, 0.0, 0.0, 0.167, 0.046, 0.028, 0.171, 0.0, 0.0, 0.072, 0.052, 0.039, 0.0, 0.0, 0.0, 0.057, 0.0, 0.05, 0.0, 0.031, 0.058, 0.171, 0.007, 0.0, 0.056, 0.011, 0.146, 0.0, 0.043, 0.0, 0.044, 0.0, 0.03, 0.046, 0.0, 0.0, 0.0, 0.0, 0.028, 0.013, 0.029, 0.0, 0.0, 0.073, 0.05, 0.077, 0.022, 0.052, 0.025, 0.0, 0.104, 0.0, 0.028, 0.0, 0.0, 0.0, 0.0, 0.041, 0.046, 0.077, 0.0, 0.0, 0.0, 0.09, 0.07, 0.067, 0.124, 0.047, 0.0, 0.129, 0.074, 0.0, 0.0, 0.0, 0.0, 0.021, 0.0, 0.061, 0.0, 0.047, 0.091, 0.0, 0.051, 0.077, 0.071, 0.033, 0.0, 0.194, 0.043, 0.014, 0.0, 0.0, 0.0, 0.028, 0.0, 0.048, 0.093, 0.022, 0.017, 0.026, 0.0, 0.0, 0.053, 0.085, 0.055, 0.0, 0.0, 0.231, 0.0, 0.0, 0.0, 0.087, 0.0, 0.0, 0.0, 0.0, 0.022, 0.03, 0.0, 0.0, 0.0, 0.0, 0.062, 0.0, 0.0, 0.19, 0.058, 0.0, 0.0, 0.0, 0.049, 0.0, 0.0, 0.0, 0.131, 0.0, 0.0, 0.102, 0.069, 0.042, 0.031, 0.103, 0.005, 0.0, 0.027, 0.0, 0.154, 0.057, 0.0, 0.106, 0.027, 0.119, 0.0, 0.0, 0.0, 0.049, 0.0, 0.0, 0.053, 0.069, 0.0, 0.115, 0.0, 0.0, 0.051, 0.227, 0.0, 0.0, 0.17, 0.0, 0.0, 0.034, 0.089, 0.0, 0.022, 0.0, 0.048, 0.076, 0.038, 0.023, 0.103, 0.0, 0.0, 0.015, 0.022, 0.0, 0.099, 0.0, 0.172, 0.083, 0.073, 0.121, 0.023, 0.123, 0.039, 0.0, 0.059, 0.0, 0.0, 0.0, 0.021, 0.07, 0.0, 0.0, 0.0, 0.162, 0.0, 0.0, 0.0, 0.0, 0.0, 0.0, 0.154, 0.0, 0.0, 0.0, 0.0, 0.0, 0.035, 0.016, 0.013, 0.022, 0.017, 0.0, 0.0, 0.0, 0.062, 0.0, 0.0, 0.048, 0.0, 0.127, 0.0, 0.117, 0.02, 0.083, 0.0, 0.0, 0.049, 0.0, 0.0, 0.0, 0.043, 0.0, 0.0, 0.0, 0.048, 0.096, 0.0, 0.186, 0.0, 0.043, 0.0, 0.078, 0.0, 0.084, 0.12, 0.0, 0.068, 0.0, 0.212, 0.0, 0.078, 0.155, 0.015, 0.0, 0.042, 0.058, 0.0, 0.213, 0.071, 0.076, 0.042, 0.056, 0.0, 0.0, 0.037, 0.0, 0.052, 0.017, 0.0, 0.0, 0.046, 0.043, 0.154, 0.1, 0.166, 0.098, 0.091, 0.0, 0.067, 0.098, 0.072, 0.0, 0.0, 0.0, 0.0, 0.164, 0.062, 0.059, 0.0, 0.031, 0.0, 0.113, 0.0, 0.0, 0.087, 0.0, 0.115, 0.0, 0.118, 0.035, 0.0, 0.0, 0.0, 0.0, 0.1, 0.019, 0.0, 0.0, 0.0, 0.0, 0.0, 0.031, 0.062, 0.0, 0.073, 0.188, 0.0, 0.0, 0.0, 0.016, 0.0, 0.048, 0.087, 0.0, 0.052, 0.0, 0.029, 0.0, 0.062, 0.0, 0.0, 0.072, 0.118, 0.0, 0.092, 0.02, 0.0, 0.0, 0.1, 0.085, 0.0, 0.164, 0.024, 0.0, 0.237, 0.069, 0.0, 0.052, 0.033, 0.0, 0.0, 0.033, 0.0, 0.049, 0.022, 0.048, 0.0, 0.05, 0.013, 0.0, 0.0, 0.0, 0.0, 0.0, 0.065, 0.224, 0.06, 0.098, 0.0, 0.0, 0.0, 0.02, 0.04, 0.132, 0.0, 0.0, 0.048, 0.0, 0.137, 0.018, 0.07, 0.023, 0.056, 0.0, 0.0, 0.04, 0.095, 0.0, 0.05, 0.136, 0.181, 0.0, 0.211, 0.0, 0.0, 0.0, 0.049, 0.038, 0.087, 0.0, 0.0, 0.071, 0.027, 0.0, 0.084, 0.0, 0.091, 0.0, 0.03, 0.0, 0.0, 0.0, 0.053, 0.025, 0.065, 0.0, 0.0, 0.0, 0.0, 0.078, 0.0, 0.012, 0.0, 0.065, 0.0, 0.0, 0.089, 0.029, 0.0, 0.0, 0.0, 0.06, 0.0, 0.0, 0.141, 0.06, 0.0, 0.047, 0.026, 0.065, 0.089, 0.0, 0.123, 0.0, 0.09, 0.066, 0.089, 0.0, 0.0, 0.0, 0.009, 0.037, 0.0, 0.0, 0.0, 0.0, 0.0, 0.0, 0.0, 0.0, 0.041, 0.069, 0.0, 0.0, 0.0, 0.0, 0.026, 0.0, 0.0, 0.0, 0.062, 0.0, 0.0, 0.026, 0.236, 0.062, 0.0, 0.0, 0.0, 0.059, 0.129, 0.0, 0.0, 0.028, 0.0, 0.121, 0.0, 0.017, 0.0, 0.0, 0.0, 0.0, 0.0, 0.0, 0.103, 0.0, 0.065, 0.0, 0.047, 0.08, 0.169, 0.0, 0.046, 0.041, 0.156, 0.081, 0.011, 0.0, 0.03, 0.0, 0.079, 0.0, 0.132, 0.05, 0.046, 0.055, 0.071, 0.0, 0.067, 0.0, 0.034, 0.0, 0.0, 0.087, 0.0, 0.0, 0.045, 0.118, 0.1, 0.029, 0.0, 0.074, 0.0, 0.07, 0.0, 0.0, 0.044, 0.004, 0.182, 0.086, 0.092, 0.0, 0.0, 0.0, 0.0, 0.021, 0.0, 0.0, 0.0, 0.034, 0.007, 0.036, 0.0, 0.205, 0.205, 0.06, 0.1, 0.0, 0.0, 0.0, 0.032, 0.0, 0.026, 0.0, 0.0, 0.0, 0.0, 0.0, 0.048, 0.0, 0.0, 0.025, 0.148, 0.082, 0.009, 0.145, 0.048, 0.091, 0.0, 0.005, 0.0, 0.023, 0.111, 0.015, 0.075, 0.0, 0.0, 0.028, 0.0, 0.074, 0.0, 0.07, 0.058, 0.0, 0.039, 0.0, 0.0, 0.07, 0.072, 0.017, 0.0, 0.0, 0.031, 0.0, 0.116, 0.0, 0.071, 0.026, 0.108, 0.0, 0.016, 0.136, 0.0, 0.0, 0.236, 0.0, 0.045, 0.086, 0.133, 0.041, 0.156, 0.013, 0.0, 0.116, 0.025, 0.1, 0.022, 0.0, 0.0, 0.054, 0.115, 0.0, 0.055, 0.042, 0.163, 0.051, 0.103, 0.0, 0.074, 0.0, 0.0, 0.044, 0.148, 0.014, 0.276, 0.0, 0.053, 0.037, 0.0, 0.0, 0.112, 0.0, 0.0, 0.102, 0.0, 0.0, 0.109, 0.13, 0.0, 0.231, 0.0, 0.082, 0.035, 0.0, 0.0, 0.045, 0.0, 0.08, 0.0, 0.0, 0.023, 0.0, 0.0, 0.0, 0.044, 0.029, 0.125, 0.0, 0.035, 0.0, 0.04, 0.0, 0.091, 0.086, 0.143, 0.0, 0.246, 0.019, 0.0, 0.129, 0.04, 0.053, 0.0, 0.015, 0.0, 0.054, 0.19, 0.0, 0.021, 0.05, 0.0, 0.0, 0.0, 0.074, 0.014, 0.0, 0.0, 0.0, 0.111, 0.0, 0.0, 0.0, 0.037, 0.0, 0.059, 0.0, 0.171, 0.0, 0.03, 0.048, 0.064, 0.141, 0.064, 0.0, 0.0, 0.175, 0.066, 0.091, 0.0, 0.027, 0.114, 0.0, 0.079, 0.079, 0.17, 0.052, 0.065, 0.039, 0.098, 0.018, 0.06, 0.046, 0.0, 0.0, 0.031, 0.0, 0.047, 0.0, 0.068, 0.0, 0.15, 0.104, 0.055, 0.0, 0.0, 0.022, 0.0, 0.0, 0.026, 0.0, 0.027, 0.0, 0.0, 0.105, 0.015, 0.056, 0.057, 0.0, 0.12, 0.0, 0.095, 0.0, 0.0, 0.026, 0.023, 0.0, 0.013, 0.133, 0.0, 0.053, 0.0, 0.092, 0.16, 0.0, 0.117, 0.0, 0.074, 0.0, 0.048, 0.0, 0.0, 0.415, 0.0, 0.013, 0.026, 0.0, 0.036, 0.0, 0.046, 0.067, 0.0, 0.0, 0.0, 0.0, 0.0, 0.016, 0.037, 0.019, 0.0, 0.0, 0.0, 0.213, 0.0, 0.065, 0.0, 0.227, 0.037, 0.075, 0.0, 0.0, 0.0, 0.0, 0.049, 0.036, 0.0, 0.0, 0.0, 0.109, 0.018, 0.053, 0.095, 0.0, 0.231, 0.147, 0.041, 0.0, 0.092, 0.06, 0.032, 0.056, 0.0, 0.0, 0.147, 0.0, 0.0, 0.024, 0.0, 0.06, 0.093, 0.0, 0.107, 0.127, 0.0, 0.033, 0.036, 0.063, 0.0, 0.0, 0.0, 0.0, 0.0, 0.15, 0.049, 0.152, 0.127, 0.0, 0.031, 0.036, 0.025, 0.0, 0.0, 0.0, 0.025, 0.045, 0.15, 0.068, 0.0, 0.045, 0.026, 0.0, 0.0, 0.0, 0.047, 0.061, 0.131, 0.0, 0.093, 0.016, 0.072, 0.0, 0.067, 0.16, 0.086, 0.135, 0.258, 0.097, 0.0, 0.067, 0.103, 0.0, 0.0, 0.051, 0.046, 0.022, 0.0, 0.0, 0.0, 0.063, 0.068, 0.04, 0.028, 0.0, 0.0, 0.0, 0.0, 0.043, 0.025, 0.0, 0.0, 0.0, 0.0, 0.21, 0.039, 0.0, 0.0, 0.0, 0.0, 0.089, 0.0, 0.0], \"yaxis\": \"y\"}],                        {\"legend\": {\"tracegroupgap\": 0}, \"margin\": {\"t\": 60}, \"template\": {\"data\": {\"bar\": [{\"error_x\": {\"color\": \"#2a3f5f\"}, \"error_y\": {\"color\": \"#2a3f5f\"}, \"marker\": {\"line\": {\"color\": \"#E5ECF6\", \"width\": 0.5}}, \"type\": \"bar\"}], \"barpolar\": [{\"marker\": {\"line\": {\"color\": \"#E5ECF6\", \"width\": 0.5}}, \"type\": \"barpolar\"}], \"carpet\": [{\"aaxis\": {\"endlinecolor\": \"#2a3f5f\", \"gridcolor\": \"white\", \"linecolor\": \"white\", \"minorgridcolor\": \"white\", \"startlinecolor\": \"#2a3f5f\"}, \"baxis\": {\"endlinecolor\": \"#2a3f5f\", \"gridcolor\": \"white\", \"linecolor\": \"white\", \"minorgridcolor\": \"white\", \"startlinecolor\": \"#2a3f5f\"}, \"type\": \"carpet\"}], \"choropleth\": [{\"colorbar\": {\"outlinewidth\": 0, \"ticks\": \"\"}, \"type\": \"choropleth\"}], \"contour\": [{\"colorbar\": {\"outlinewidth\": 0, \"ticks\": \"\"}, \"colorscale\": [[0.0, \"#0d0887\"], [0.1111111111111111, \"#46039f\"], [0.2222222222222222, \"#7201a8\"], [0.3333333333333333, \"#9c179e\"], [0.4444444444444444, \"#bd3786\"], [0.5555555555555556, \"#d8576b\"], [0.6666666666666666, \"#ed7953\"], [0.7777777777777778, \"#fb9f3a\"], [0.8888888888888888, \"#fdca26\"], [1.0, \"#f0f921\"]], \"type\": \"contour\"}], \"contourcarpet\": [{\"colorbar\": {\"outlinewidth\": 0, \"ticks\": \"\"}, \"type\": \"contourcarpet\"}], \"heatmap\": [{\"colorbar\": {\"outlinewidth\": 0, \"ticks\": \"\"}, \"colorscale\": [[0.0, \"#0d0887\"], [0.1111111111111111, \"#46039f\"], [0.2222222222222222, \"#7201a8\"], [0.3333333333333333, \"#9c179e\"], [0.4444444444444444, \"#bd3786\"], [0.5555555555555556, \"#d8576b\"], [0.6666666666666666, \"#ed7953\"], [0.7777777777777778, \"#fb9f3a\"], [0.8888888888888888, \"#fdca26\"], [1.0, \"#f0f921\"]], \"type\": \"heatmap\"}], \"heatmapgl\": [{\"colorbar\": {\"outlinewidth\": 0, \"ticks\": \"\"}, \"colorscale\": [[0.0, \"#0d0887\"], [0.1111111111111111, \"#46039f\"], [0.2222222222222222, \"#7201a8\"], [0.3333333333333333, \"#9c179e\"], [0.4444444444444444, \"#bd3786\"], [0.5555555555555556, \"#d8576b\"], [0.6666666666666666, \"#ed7953\"], [0.7777777777777778, \"#fb9f3a\"], [0.8888888888888888, \"#fdca26\"], [1.0, \"#f0f921\"]], \"type\": \"heatmapgl\"}], \"histogram\": [{\"marker\": {\"colorbar\": {\"outlinewidth\": 0, \"ticks\": \"\"}}, \"type\": \"histogram\"}], \"histogram2d\": [{\"colorbar\": {\"outlinewidth\": 0, \"ticks\": \"\"}, \"colorscale\": [[0.0, \"#0d0887\"], [0.1111111111111111, \"#46039f\"], [0.2222222222222222, \"#7201a8\"], [0.3333333333333333, \"#9c179e\"], [0.4444444444444444, \"#bd3786\"], [0.5555555555555556, \"#d8576b\"], [0.6666666666666666, \"#ed7953\"], [0.7777777777777778, \"#fb9f3a\"], [0.8888888888888888, \"#fdca26\"], [1.0, \"#f0f921\"]], \"type\": \"histogram2d\"}], \"histogram2dcontour\": [{\"colorbar\": {\"outlinewidth\": 0, \"ticks\": \"\"}, \"colorscale\": [[0.0, \"#0d0887\"], [0.1111111111111111, \"#46039f\"], [0.2222222222222222, \"#7201a8\"], [0.3333333333333333, \"#9c179e\"], [0.4444444444444444, \"#bd3786\"], [0.5555555555555556, \"#d8576b\"], [0.6666666666666666, \"#ed7953\"], [0.7777777777777778, \"#fb9f3a\"], [0.8888888888888888, \"#fdca26\"], [1.0, \"#f0f921\"]], \"type\": \"histogram2dcontour\"}], \"mesh3d\": [{\"colorbar\": {\"outlinewidth\": 0, \"ticks\": \"\"}, \"type\": \"mesh3d\"}], \"parcoords\": [{\"line\": {\"colorbar\": {\"outlinewidth\": 0, \"ticks\": \"\"}}, \"type\": \"parcoords\"}], \"pie\": [{\"automargin\": true, \"type\": \"pie\"}], \"scatter\": [{\"marker\": {\"colorbar\": {\"outlinewidth\": 0, \"ticks\": \"\"}}, \"type\": \"scatter\"}], \"scatter3d\": [{\"line\": {\"colorbar\": {\"outlinewidth\": 0, \"ticks\": \"\"}}, \"marker\": {\"colorbar\": {\"outlinewidth\": 0, \"ticks\": \"\"}}, \"type\": \"scatter3d\"}], \"scattercarpet\": [{\"marker\": {\"colorbar\": {\"outlinewidth\": 0, \"ticks\": \"\"}}, \"type\": \"scattercarpet\"}], \"scattergeo\": [{\"marker\": {\"colorbar\": {\"outlinewidth\": 0, \"ticks\": \"\"}}, \"type\": \"scattergeo\"}], \"scattergl\": [{\"marker\": {\"colorbar\": {\"outlinewidth\": 0, \"ticks\": \"\"}}, \"type\": \"scattergl\"}], \"scattermapbox\": [{\"marker\": {\"colorbar\": {\"outlinewidth\": 0, \"ticks\": \"\"}}, \"type\": \"scattermapbox\"}], \"scatterpolar\": [{\"marker\": {\"colorbar\": {\"outlinewidth\": 0, \"ticks\": \"\"}}, \"type\": \"scatterpolar\"}], \"scatterpolargl\": [{\"marker\": {\"colorbar\": {\"outlinewidth\": 0, \"ticks\": \"\"}}, \"type\": \"scatterpolargl\"}], \"scatterternary\": [{\"marker\": {\"colorbar\": {\"outlinewidth\": 0, \"ticks\": \"\"}}, \"type\": \"scatterternary\"}], \"surface\": [{\"colorbar\": {\"outlinewidth\": 0, \"ticks\": \"\"}, \"colorscale\": [[0.0, \"#0d0887\"], [0.1111111111111111, \"#46039f\"], [0.2222222222222222, \"#7201a8\"], [0.3333333333333333, \"#9c179e\"], [0.4444444444444444, \"#bd3786\"], [0.5555555555555556, \"#d8576b\"], [0.6666666666666666, \"#ed7953\"], [0.7777777777777778, \"#fb9f3a\"], [0.8888888888888888, \"#fdca26\"], [1.0, \"#f0f921\"]], \"type\": \"surface\"}], \"table\": [{\"cells\": {\"fill\": {\"color\": \"#EBF0F8\"}, \"line\": {\"color\": \"white\"}}, \"header\": {\"fill\": {\"color\": \"#C8D4E3\"}, \"line\": {\"color\": \"white\"}}, \"type\": \"table\"}]}, \"layout\": {\"annotationdefaults\": {\"arrowcolor\": \"#2a3f5f\", \"arrowhead\": 0, \"arrowwidth\": 1}, \"autotypenumbers\": \"strict\", \"coloraxis\": {\"colorbar\": {\"outlinewidth\": 0, \"ticks\": \"\"}}, \"colorscale\": {\"diverging\": [[0, \"#8e0152\"], [0.1, \"#c51b7d\"], [0.2, \"#de77ae\"], [0.3, \"#f1b6da\"], [0.4, \"#fde0ef\"], [0.5, \"#f7f7f7\"], [0.6, \"#e6f5d0\"], [0.7, \"#b8e186\"], [0.8, \"#7fbc41\"], [0.9, \"#4d9221\"], [1, \"#276419\"]], \"sequential\": [[0.0, \"#0d0887\"], [0.1111111111111111, \"#46039f\"], [0.2222222222222222, \"#7201a8\"], [0.3333333333333333, \"#9c179e\"], [0.4444444444444444, \"#bd3786\"], [0.5555555555555556, \"#d8576b\"], [0.6666666666666666, \"#ed7953\"], [0.7777777777777778, \"#fb9f3a\"], [0.8888888888888888, \"#fdca26\"], [1.0, \"#f0f921\"]], \"sequentialminus\": [[0.0, \"#0d0887\"], [0.1111111111111111, \"#46039f\"], [0.2222222222222222, \"#7201a8\"], [0.3333333333333333, \"#9c179e\"], [0.4444444444444444, \"#bd3786\"], [0.5555555555555556, \"#d8576b\"], [0.6666666666666666, \"#ed7953\"], [0.7777777777777778, \"#fb9f3a\"], [0.8888888888888888, \"#fdca26\"], [1.0, \"#f0f921\"]]}, \"colorway\": [\"#636efa\", \"#EF553B\", \"#00cc96\", \"#ab63fa\", \"#FFA15A\", \"#19d3f3\", \"#FF6692\", \"#B6E880\", \"#FF97FF\", \"#FECB52\"], \"font\": {\"color\": \"#2a3f5f\"}, \"geo\": {\"bgcolor\": \"white\", \"lakecolor\": \"white\", \"landcolor\": \"#E5ECF6\", \"showlakes\": true, \"showland\": true, \"subunitcolor\": \"white\"}, \"hoverlabel\": {\"align\": \"left\"}, \"hovermode\": \"closest\", \"mapbox\": {\"style\": \"light\"}, \"paper_bgcolor\": \"white\", \"plot_bgcolor\": \"#E5ECF6\", \"polar\": {\"angularaxis\": {\"gridcolor\": \"white\", \"linecolor\": \"white\", \"ticks\": \"\"}, \"bgcolor\": \"#E5ECF6\", \"radialaxis\": {\"gridcolor\": \"white\", \"linecolor\": \"white\", \"ticks\": \"\"}}, \"scene\": {\"xaxis\": {\"backgroundcolor\": \"#E5ECF6\", \"gridcolor\": \"white\", \"gridwidth\": 2, \"linecolor\": \"white\", \"showbackground\": true, \"ticks\": \"\", \"zerolinecolor\": \"white\"}, \"yaxis\": {\"backgroundcolor\": \"#E5ECF6\", \"gridcolor\": \"white\", \"gridwidth\": 2, \"linecolor\": \"white\", \"showbackground\": true, \"ticks\": \"\", \"zerolinecolor\": \"white\"}, \"zaxis\": {\"backgroundcolor\": \"#E5ECF6\", \"gridcolor\": \"white\", \"gridwidth\": 2, \"linecolor\": \"white\", \"showbackground\": true, \"ticks\": \"\", \"zerolinecolor\": \"white\"}}, \"shapedefaults\": {\"line\": {\"color\": \"#2a3f5f\"}}, \"ternary\": {\"aaxis\": {\"gridcolor\": \"white\", \"linecolor\": \"white\", \"ticks\": \"\"}, \"baxis\": {\"gridcolor\": \"white\", \"linecolor\": \"white\", \"ticks\": \"\"}, \"bgcolor\": \"#E5ECF6\", \"caxis\": {\"gridcolor\": \"white\", \"linecolor\": \"white\", \"ticks\": \"\"}}, \"title\": {\"x\": 0.05}, \"xaxis\": {\"automargin\": true, \"gridcolor\": \"white\", \"linecolor\": \"white\", \"ticks\": \"\", \"title\": {\"standoff\": 15}, \"zerolinecolor\": \"white\", \"zerolinewidth\": 2}, \"yaxis\": {\"automargin\": true, \"gridcolor\": \"white\", \"linecolor\": \"white\", \"ticks\": \"\", \"title\": {\"standoff\": 15}, \"zerolinecolor\": \"white\", \"zerolinewidth\": 2}}}, \"xaxis\": {\"anchor\": \"y\", \"domain\": [0.0, 1.0], \"title\": {\"text\": \"Post Date\"}}, \"yaxis\": {\"anchor\": \"x\", \"domain\": [0.0, 1.0], \"title\": {\"text\": \"neg\"}}},                        {\"responsive\": true}                    ).then(function(){\n",
       "                            \n",
       "var gd = document.getElementById('48e7a270-c568-49f9-924b-e8e472550142');\n",
       "var x = new MutationObserver(function (mutations, observer) {{\n",
       "        var display = window.getComputedStyle(gd).display;\n",
       "        if (!display || display === 'none') {{\n",
       "            console.log([gd, 'removed!']);\n",
       "            Plotly.purge(gd);\n",
       "            observer.disconnect();\n",
       "        }}\n",
       "}});\n",
       "\n",
       "// Listen for the removal of the full notebook cells\n",
       "var notebookContainer = gd.closest('#notebook-container');\n",
       "if (notebookContainer) {{\n",
       "    x.observe(notebookContainer, {childList: true});\n",
       "}}\n",
       "\n",
       "// Listen for the clearing of the current output cell\n",
       "var outputEl = gd.closest('.output');\n",
       "if (outputEl) {{\n",
       "    x.observe(outputEl, {childList: true});\n",
       "}}\n",
       "\n",
       "                        })                };                });            </script>        </div>"
      ]
     },
     "metadata": {},
     "output_type": "display_data"
    }
   ],
   "source": [
    "fig = px.line(df2, x='Post Date', y='neg')\n",
    "fig.show()"
   ]
  },
  {
   "cell_type": "code",
   "execution_count": 124,
   "metadata": {},
   "outputs": [
    {
     "name": "stderr",
     "output_type": "stream",
     "text": [
      "C:\\Users\\BDelamater\\Anaconda3\\lib\\site-packages\\ipykernel\\ipkernel.py:287: DeprecationWarning:\n",
      "\n",
      "`should_run_async` will not call `transform_cell` automatically in the future. Please pass the result to `transformed_cell` argument and any exception that happen during thetransform in `preprocessing_exc_tuple` in IPython 7.17 and above.\n",
      "\n"
     ]
    },
    {
     "data": {
      "application/vnd.plotly.v1+json": {
       "config": {
        "plotlyServerURL": "https://plot.ly"
       },
       "data": [
        {
         "hovertemplate": "Sentiment=Neutral<br>Post Date=%{x}<br>pos=%{y}<extra></extra>",
         "legendgroup": "Neutral",
         "line": {
          "color": "#636efa",
          "dash": "solid"
         },
         "mode": "lines",
         "name": "Neutral",
         "showlegend": true,
         "type": "scattergl",
         "x": [
          "2019-10-10T05:58:05.73",
          "2019-10-11T14:24:15.807",
          "2019-10-23T03:37:35.103",
          "2019-10-23T12:09:17.84",
          "2019-11-12T00:41:34.433",
          "2019-11-13T03:30:36.293",
          "2019-11-14T11:29:20.21",
          "2019-11-20T10:36:40.83",
          "2019-11-21T13:38:42.807",
          "2019-12-09T10:45:09.32",
          "2019-12-11T11:57:54.773",
          "2019-12-18T14:19:48.24",
          "2019-12-24T07:53:51.783",
          "2019-12-27T18:14:34.557",
          "2020-01-07T13:43:06.053",
          "2020-01-11T05:17:09.423",
          "2020-01-14T07:36:27.793",
          "2020-01-15T13:11:10.033",
          "2020-01-16T20:37:57.323",
          "2020-01-20T07:01:58.37",
          "2020-01-22T15:21:03.853",
          "2020-01-23T09:12:43.07",
          "2020-01-24T15:38:37.98",
          "2020-01-29T01:21:00.2",
          "2020-02-04T20:18:44.27",
          "2020-02-05T15:34:55.653",
          "2020-02-12T18:31:25.547",
          "2020-02-14T11:00:46.067",
          "2020-02-18T09:57:28.06",
          "2020-02-20T09:07:37.297",
          "2020-02-26T09:59:17.067",
          "2020-02-28T04:40:42.623",
          "2020-03-10T07:07:09.317",
          "2020-03-10T13:47:55.803",
          "2020-03-11T12:02:24.97",
          "2020-03-20T09:52:08.827",
          "2020-04-03T01:06:02.82",
          "2020-04-07T16:29:10.43",
          "2020-04-24T09:15:41.46",
          "2020-04-27T03:25:15.807",
          "2020-05-03T16:49:31.43",
          "2020-05-13T15:13:24.907",
          "2020-05-14T09:38:15.473",
          "2020-05-19T13:23:05.93",
          "2020-05-22T12:43:12.977",
          "2020-05-27T08:09:30.657",
          "2020-05-28T11:43:06.343",
          "2020-05-31T21:49:48.113",
          "2020-06-01T07:06:15.03",
          "2020-06-03T08:38:37.627",
          "2020-06-17T10:39:43.347",
          "2020-06-21T05:58:52.79",
          "2020-07-01T03:24:12.553",
          "2020-07-02T16:17:26.273",
          "2020-07-09T15:25:26.863",
          "2020-07-21T10:23:05.597",
          "2020-07-24T02:00:04.097",
          "2020-08-11T06:23:35.727",
          "2020-08-13T05:21:38.977",
          "2020-08-13T14:00:56.303",
          "2020-08-17T17:09:22.07",
          "2020-08-27T04:28:56.903",
          "2020-09-01T12:00:23.027",
          "2020-09-03T15:16:17.96",
          "2020-09-08T05:00:37.097",
          "2020-09-10T06:34:35.72",
          "2020-09-20T12:16:21.403",
          "2020-09-21T16:37:39.7",
          "2020-09-29T18:14:05.84",
          "2020-09-29T18:29:04.81",
          "2020-10-02T09:26:32.68",
          "2020-10-15T14:35:43.96",
          "2020-10-16T13:34:13.343",
          "2020-10-22T13:47:42.993",
          "2020-10-22T17:19:54.477",
          "2020-10-27T16:57:39.52",
          "2020-10-29T11:10:06.717",
          "2020-11-02T09:41:44.807",
          "2020-11-05T12:22:50.65",
          "2020-11-05T13:57:09.393",
          "2020-11-11T11:27:29.283",
          "2020-11-16T02:39:45.893",
          "2020-11-18T06:54:44.173",
          "2020-11-19T12:44:09.52",
          "2020-11-20T10:05:42.53",
          "2020-11-24T16:02:26.117",
          "2020-11-25T11:59:22.583",
          "2020-12-06T22:33:26.473",
          "2020-12-10T16:45:56.92",
          "2020-12-27T01:57:08.607",
          "2020-12-29T11:55:09.773",
          "2021-01-11T05:30:23.477",
          "2021-01-12T09:52:23.923",
          "2021-01-16T04:10:22.447",
          "2021-01-19T14:58:12.793",
          "2021-01-29T09:32:23.31",
          "2021-02-02T02:54:29.54",
          "2021-02-03T04:07:38.773",
          "2021-02-05T01:44:05.203",
          "2021-02-24T07:45:06.977",
          "2021-03-09T07:01:54.71",
          "2021-03-18T02:51:39.69",
          "2021-03-18T13:51:25.81",
          "2021-03-25T14:46:51.637",
          "2021-04-09T18:43:03.997",
          "2021-04-22T16:37:41.357",
          "2021-04-23T09:14:59.607",
          "2021-04-27T16:38:41.177",
          "2021-05-10T14:33:41.143"
         ],
         "xaxis": "x",
         "y": [
          0.064,
          0,
          0,
          0.056,
          0,
          0,
          0,
          0.038,
          0,
          0,
          0,
          0,
          0,
          0,
          0,
          0,
          0,
          0,
          0,
          0,
          0.052,
          0,
          0,
          0,
          0,
          0,
          0.055,
          0.043,
          0.022,
          0,
          0,
          0,
          0,
          0,
          0,
          0,
          0,
          0,
          0,
          0,
          0,
          0,
          0,
          0,
          0.054,
          0,
          0,
          0.16,
          0,
          0,
          0,
          0,
          0,
          0.032,
          0,
          0.022,
          0,
          0,
          0.051,
          0,
          0.179,
          0,
          0,
          0,
          0,
          0.112,
          0,
          0,
          0,
          0,
          0.01,
          0,
          0,
          0,
          0,
          0,
          0,
          0,
          0,
          0,
          0.11,
          0,
          0.056,
          0,
          0.055,
          0.095,
          0,
          0,
          0,
          0.103,
          0,
          0,
          0.09,
          0,
          0,
          0,
          0.025,
          0.061,
          0,
          0,
          0,
          0,
          0,
          0,
          0.092,
          0,
          0,
          0,
          0
         ],
         "yaxis": "y"
        },
        {
         "hovertemplate": "Sentiment=Positive<br>Post Date=%{x}<br>pos=%{y}<extra></extra>",
         "legendgroup": "Positive",
         "line": {
          "color": "#EF553B",
          "dash": "solid"
         },
         "mode": "lines",
         "name": "Positive",
         "showlegend": true,
         "type": "scattergl",
         "x": [
          "2019-10-10T12:44:35.957",
          "2019-10-10T14:56:52.947",
          "2019-10-10T15:41:06.877",
          "2019-10-10T20:56:53.483",
          "2019-10-11T13:10:28.983",
          "2019-10-11T16:02:41.787",
          "2019-10-13T20:01:08.897",
          "2019-10-14T08:33:18.01",
          "2019-10-16T11:20:54.023",
          "2019-10-16T14:12:45.5",
          "2019-10-17T09:14:34.753",
          "2019-10-17T10:16:15.513",
          "2019-10-17T12:09:02.91",
          "2019-10-17T23:59:14.523",
          "2019-10-18T14:58:06.717",
          "2019-10-21T06:08:38.347",
          "2019-10-21T16:06:55.323",
          "2019-10-22T08:16:13.563",
          "2019-10-22T16:27:23.92",
          "2019-10-22T18:07:48.827",
          "2019-10-23T08:20:38.087",
          "2019-10-23T11:38:26.887",
          "2019-10-24T04:42:08.237",
          "2019-10-24T09:59:56.077",
          "2019-10-24T16:34:04.713",
          "2019-10-28T15:36:47.907",
          "2019-10-29T06:01:19.783",
          "2019-10-29T10:29:47.95",
          "2019-10-29T16:46:32.203",
          "2019-10-29T17:04:40.463",
          "2019-10-30T04:45:07.257",
          "2019-10-30T15:33:07.45",
          "2019-10-30T18:41:07.37",
          "2019-10-31T12:35:06.993",
          "2019-11-01T07:44:02.54",
          "2019-11-04T17:47:37.86",
          "2019-11-06T06:04:59.007",
          "2019-11-06T10:08:50.95",
          "2019-11-06T10:27:39.52",
          "2019-11-08T20:33:59.89",
          "2019-11-09T11:37:29.693",
          "2019-11-11T05:59:42.987",
          "2019-11-11T11:39:44.857",
          "2019-11-11T13:02:34.017",
          "2019-11-12T18:42:03.247",
          "2019-11-13T09:35:33.91",
          "2019-11-13T23:52:26.683",
          "2019-11-14T06:03:35.53",
          "2019-11-14T09:45:03.713",
          "2019-11-14T13:10:08.303",
          "2019-11-18T04:12:03.657",
          "2019-11-18T15:17:49.503",
          "2019-11-18T16:11:15.36",
          "2019-11-18T17:18:32.137",
          "2019-11-18T19:25:44.17",
          "2019-11-19T02:48:28.417",
          "2019-11-19T10:27:37.423",
          "2019-11-19T11:00:35.74",
          "2019-11-19T20:00:10.803",
          "2019-11-20T12:24:54.847",
          "2019-11-21T00:07:58.053",
          "2019-11-21T14:08:12.47",
          "2019-11-21T18:13:29.69",
          "2019-11-22T07:29:58.45",
          "2019-11-22T12:44:01.59",
          "2019-11-23T12:26:35.197",
          "2019-11-26T08:17:12.663",
          "2019-11-27T10:39:18.173",
          "2019-11-27T21:15:11.89",
          "2019-11-28T04:58:07.76",
          "2019-12-02T07:06:03.57",
          "2019-12-02T15:42:44.927",
          "2019-12-02T21:04:51.46",
          "2019-12-03T07:56:40.55",
          "2019-12-03T10:45:44.023",
          "2019-12-04T11:59:55.687",
          "2019-12-05T11:04:33.51",
          "2019-12-05T12:28:17.997",
          "2019-12-09T07:25:39.22",
          "2019-12-09T10:53:03.993",
          "2019-12-09T12:45:56.217",
          "2019-12-10T08:52:36.997",
          "2019-12-10T10:14:02.33",
          "2019-12-10T11:53:33.71",
          "2019-12-10T18:25:49.657",
          "2019-12-11T11:26:46.79",
          "2019-12-12T11:05:43.68",
          "2019-12-13T09:43:03.027",
          "2019-12-17T03:54:27.833",
          "2019-12-17T05:30:55.173",
          "2019-12-17T09:31:11.343",
          "2019-12-17T11:21:51.1",
          "2019-12-17T12:36:10.797",
          "2019-12-17T22:05:31.297",
          "2019-12-18T02:18:53.803",
          "2019-12-18T04:43:33.147",
          "2019-12-18T07:43:12.083",
          "2019-12-20T14:25:22.243",
          "2019-12-21T07:31:20.647",
          "2019-12-26T08:18:44.133",
          "2019-12-26T11:59:21.053",
          "2019-12-28T03:55:55.687",
          "2019-12-30T13:08:12.05",
          "2019-12-30T13:53:51.783",
          "2020-01-02T06:49:33.107",
          "2020-01-02T09:53:02.633",
          "2020-01-02T16:36:17.35",
          "2020-01-03T12:08:04.033",
          "2020-01-03T16:41:12.803",
          "2020-01-06T12:19:26.157",
          "2020-01-06T17:04:29.283",
          "2020-01-06T17:40:07.413",
          "2020-01-07T04:10:45.22",
          "2020-01-07T04:51:00.893",
          "2020-01-07T10:24:06.313",
          "2020-01-07T11:18:19.473",
          "2020-01-07T15:38:23.8",
          "2020-01-07T16:18:56.733",
          "2020-01-08T16:28:49.287",
          "2020-01-09T01:31:01.17",
          "2020-01-09T06:33:51.44",
          "2020-01-09T12:05:38.153",
          "2020-01-10T15:06:17.673",
          "2020-01-10T15:54:12.933",
          "2020-01-13T12:21:50.72",
          "2020-01-13T13:00:29.71",
          "2020-01-14T15:06:33.63",
          "2020-01-15T04:12:20.593",
          "2020-01-15T09:52:42.417",
          "2020-01-15T19:14:38.547",
          "2020-01-16T10:00:09.903",
          "2020-01-16T17:27:43.697",
          "2020-01-18T01:12:31.457",
          "2020-01-18T07:43:39.573",
          "2020-01-20T00:07:25.07",
          "2020-01-20T06:57:25.193",
          "2020-01-20T06:59:28.963",
          "2020-01-20T14:25:20.393",
          "2020-01-20T14:45:16.097",
          "2020-01-22T15:07:27.347",
          "2020-01-23T08:30:02.617",
          "2020-01-25T16:27:33.3",
          "2020-01-27T12:47:35.913",
          "2020-01-27T13:06:07.103",
          "2020-01-27T19:11:17.547",
          "2020-01-30T18:43:33.303",
          "2020-01-31T00:48:04.5",
          "2020-01-31T08:03:58.81",
          "2020-02-01T05:35:29.75",
          "2020-02-02T13:10:27.66",
          "2020-02-02T17:09:13.667",
          "2020-02-03T04:12:16.153",
          "2020-02-04T09:46:39.103",
          "2020-02-05T12:57:51.92",
          "2020-02-07T10:19:14.993",
          "2020-02-10T12:07:23.167",
          "2020-02-10T12:23:06.927",
          "2020-02-10T12:51:43.717",
          "2020-02-10T17:12:39.753",
          "2020-02-11T17:58:49.54",
          "2020-02-12T06:28:17.963",
          "2020-02-12T14:03:31.393",
          "2020-02-12T15:16:51.137",
          "2020-02-13T04:33:31.503",
          "2020-02-13T07:03:33.427",
          "2020-02-17T16:50:09.627",
          "2020-02-18T02:27:54.503",
          "2020-02-18T10:33:31.103",
          "2020-02-18T11:09:26.847",
          "2020-02-20T18:55:20.497",
          "2020-02-21T04:19:57.7",
          "2020-02-21T06:32:06.093",
          "2020-02-21T12:36:02.74",
          "2020-02-21T13:01:12.36",
          "2020-02-21T18:07:34.15",
          "2020-02-23T02:07:04.06",
          "2020-02-24T05:14:04.183",
          "2020-02-24T09:39:05.69",
          "2020-02-24T15:46:47.507",
          "2020-02-25T03:52:03.343",
          "2020-02-26T16:38:14.707",
          "2020-02-27T12:11:29.997",
          "2020-02-28T10:58:22.157",
          "2020-02-28T12:00:12.227",
          "2020-02-28T12:41:38.88",
          "2020-02-29T01:03:40.683",
          "2020-03-01T02:40:06.913",
          "2020-03-01T10:01:48.487",
          "2020-03-01T23:59:56.043",
          "2020-03-02T14:28:29.457",
          "2020-03-03T00:00:27.147",
          "2020-03-03T04:30:14.143",
          "2020-03-03T06:44:29.51",
          "2020-03-03T07:23:34.21",
          "2020-03-04T03:34:45.237",
          "2020-03-04T10:43:21.66",
          "2020-03-05T20:40:47.497",
          "2020-03-06T16:53:23.053",
          "2020-03-07T06:36:24.19",
          "2020-03-08T12:22:18.35",
          "2020-03-08T18:22:20.403",
          "2020-03-09T07:47:26.907",
          "2020-03-10T02:49:49.197",
          "2020-03-12T03:22:56.907",
          "2020-03-12T05:01:18.27",
          "2020-03-12T09:32:11.43",
          "2020-03-12T16:24:51.943",
          "2020-03-13T02:20:48.573",
          "2020-03-13T18:05:09.727",
          "2020-03-16T05:51:59.12",
          "2020-03-16T13:41:01.863",
          "2020-03-17T01:11:48.753",
          "2020-03-17T02:14:25.67",
          "2020-03-17T11:01:28.317",
          "2020-03-18T06:06:20.797",
          "2020-03-19T09:31:32.573",
          "2020-03-20T09:02:42.493",
          "2020-03-22T12:10:06.073",
          "2020-03-22T23:11:53.447",
          "2020-03-23T11:06:50.057",
          "2020-03-23T23:34:21.613",
          "2020-03-24T16:40:36.357",
          "2020-03-25T05:31:26.553",
          "2020-03-25T13:28:17.627",
          "2020-03-25T13:53:46.49",
          "2020-03-27T09:21:56.483",
          "2020-03-28T01:28:47.883",
          "2020-03-30T09:08:24.897",
          "2020-03-30T15:21:41.037",
          "2020-03-30T21:20:56.607",
          "2020-03-31T11:25:34.507",
          "2020-03-31T13:27:36.39",
          "2020-04-01T16:02:10.643",
          "2020-04-02T00:43:12.03",
          "2020-04-07T12:32:04.843",
          "2020-04-08T00:15:17.853",
          "2020-04-08T03:50:11.817",
          "2020-04-08T10:13:33.427",
          "2020-04-08T18:27:22.337",
          "2020-04-10T09:08:10.833",
          "2020-04-10T19:21:56.537",
          "2020-04-13T10:16:13.573",
          "2020-04-13T12:45:52.543",
          "2020-04-13T14:36:36.72",
          "2020-04-14T08:25:03.7",
          "2020-04-15T05:26:43.887",
          "2020-04-16T17:32:12.887",
          "2020-04-17T17:21:10.267",
          "2020-04-17T18:09:09.38",
          "2020-04-17T19:28:32.667",
          "2020-04-20T06:46:13.263",
          "2020-04-20T09:45:40.793",
          "2020-04-21T06:43:58.953",
          "2020-04-22T17:52:12.143",
          "2020-04-23T11:51:48.66",
          "2020-04-23T12:48:56.067",
          "2020-04-23T13:42:27.423",
          "2020-04-23T19:33:37.777",
          "2020-04-24T12:08:53.497",
          "2020-04-24T17:33:44.47",
          "2020-04-27T11:04:11.827",
          "2020-04-27T12:09:32.6",
          "2020-04-28T14:16:24.483",
          "2020-04-28T14:23:25.457",
          "2020-04-28T14:54:09.24",
          "2020-04-28T15:58:10.627",
          "2020-04-29T06:42:53.09",
          "2020-04-29T11:08:12.53",
          "2020-04-30T10:03:05.167",
          "2020-05-01T07:55:41.06",
          "2020-05-01T13:27:08.093",
          "2020-05-01T18:13:11.793",
          "2020-05-05T07:56:04.453",
          "2020-05-05T08:43:05.083",
          "2020-05-05T19:02:17.003",
          "2020-05-06T01:58:51.927",
          "2020-05-06T09:55:41.613",
          "2020-05-06T11:33:27.64",
          "2020-05-07T07:48:02.343",
          "2020-05-07T14:40:24.16",
          "2020-05-07T17:22:42.663",
          "2020-05-07T17:58:50.36",
          "2020-05-08T11:05:30.22",
          "2020-05-08T18:50:29.917",
          "2020-05-10T15:38:34.823",
          "2020-05-10T22:06:56.483",
          "2020-05-11T04:18:33.723",
          "2020-05-11T10:39:05.677",
          "2020-05-11T18:12:14.043",
          "2020-05-12T06:46:53.073",
          "2020-05-12T23:39:37.837",
          "2020-05-13T12:09:34.583",
          "2020-05-14T13:46:07.237",
          "2020-05-19T01:36:19.2",
          "2020-05-19T10:58:19.68",
          "2020-05-19T22:57:51.593",
          "2020-05-19T23:57:36.38",
          "2020-05-21T08:01:48.667",
          "2020-05-21T16:17:26.79",
          "2020-05-22T13:38:46.373",
          "2020-05-26T04:19:19.857",
          "2020-05-26T05:29:41.38",
          "2020-05-27T09:42:57.963",
          "2020-05-27T11:51:09.957",
          "2020-05-27T16:13:12.423",
          "2020-05-28T10:50:38.12",
          "2020-05-28T13:55:04.59",
          "2020-05-28T13:55:17.233",
          "2020-05-28T15:02:38.937",
          "2020-06-01T03:45:36.143",
          "2020-06-01T23:54:24.347",
          "2020-06-02T06:25:02.487",
          "2020-06-04T08:46:29.137",
          "2020-06-04T08:47:30.443",
          "2020-06-05T08:37:45.887",
          "2020-06-08T11:30:52.127",
          "2020-06-10T15:48:56.787",
          "2020-06-11T05:44:23.893",
          "2020-06-11T10:48:33.063",
          "2020-06-11T16:44:25.303",
          "2020-06-12T04:26:21.537",
          "2020-06-13T20:34:20.54",
          "2020-06-15T00:18:26.877",
          "2020-06-15T18:21:18.607",
          "2020-06-17T07:44:27.62",
          "2020-06-17T18:17:42.787",
          "2020-06-17T21:20:44.363",
          "2020-06-18T03:41:34.283",
          "2020-06-18T18:45:45.943",
          "2020-06-19T05:28:43.413",
          "2020-06-19T07:23:48.88",
          "2020-06-19T13:04:31.18",
          "2020-06-19T13:05:50.277",
          "2020-06-20T20:04:07.61",
          "2020-06-22T07:57:18.433",
          "2020-06-22T15:20:53.23",
          "2020-06-22T17:32:37.193",
          "2020-06-25T03:09:04.55",
          "2020-06-26T07:38:55.12",
          "2020-07-01T08:43:32.99",
          "2020-07-02T09:20:12.7",
          "2020-07-02T10:21:06.57",
          "2020-07-08T09:33:24.407",
          "2020-07-08T16:56:19.757",
          "2020-07-09T16:22:26.66",
          "2020-07-09T16:28:26.983",
          "2020-07-10T15:53:37.277",
          "2020-07-10T18:57:48.173",
          "2020-07-14T05:01:01.39",
          "2020-07-15T03:11:16.5",
          "2020-07-15T06:32:14.56",
          "2020-07-15T17:54:55.167",
          "2020-07-16T04:35:29.63",
          "2020-07-16T07:33:35.41",
          "2020-07-16T11:36:35.183",
          "2020-07-16T16:31:52.563",
          "2020-07-20T23:00:15.057",
          "2020-07-21T06:17:01.253",
          "2020-07-21T15:20:11.183",
          "2020-07-22T05:55:52.447",
          "2020-07-22T16:48:52.953",
          "2020-07-22T23:35:16.743",
          "2020-07-23T15:51:45.183",
          "2020-07-23T16:46:00.053",
          "2020-07-27T13:56:35.087",
          "2020-07-28T11:16:57.777",
          "2020-07-28T11:20:26.603",
          "2020-07-28T11:47:30.707",
          "2020-07-29T08:18:11.907",
          "2020-07-29T09:13:44.577",
          "2020-07-29T10:45:28.61",
          "2020-07-30T14:51:34.69",
          "2020-07-30T16:20:18.783",
          "2020-08-03T14:31:32.377",
          "2020-08-03T15:16:16.62",
          "2020-08-05T12:27:19.103",
          "2020-08-05T13:19:23.943",
          "2020-08-06T12:04:03.013",
          "2020-08-07T15:34:48.087",
          "2020-08-10T12:13:23.673",
          "2020-08-11T03:18:56.48",
          "2020-08-12T07:54:44.907",
          "2020-08-13T09:27:35.497",
          "2020-08-13T13:58:17.28",
          "2020-08-13T19:32:19.49",
          "2020-08-14T04:43:10.42",
          "2020-08-14T10:33:47.637",
          "2020-08-14T14:39:35.21",
          "2020-08-18T07:01:56.34",
          "2020-08-19T10:47:49.9",
          "2020-08-19T14:31:13.88",
          "2020-08-20T16:16:04.203",
          "2020-08-20T18:20:03.123",
          "2020-08-21T02:02:10.857",
          "2020-08-21T14:50:21.077",
          "2020-08-21T15:36:03.473",
          "2020-08-24T02:26:12.913",
          "2020-08-24T03:55:16.187",
          "2020-08-24T07:30:08.877",
          "2020-08-24T09:13:29.1",
          "2020-08-25T09:37:23.29",
          "2020-08-25T13:34:40.817",
          "2020-08-26T02:11:50.003",
          "2020-08-26T10:34:15.32",
          "2020-08-26T11:13:50.613",
          "2020-08-27T11:25:26.827",
          "2020-08-27T11:40:36.677",
          "2020-08-27T14:20:01.203",
          "2020-08-27T14:59:03.177",
          "2020-08-28T04:12:14.89",
          "2020-08-28T12:20:32.08",
          "2020-08-31T09:41:46.203",
          "2020-09-01T08:29:04.687",
          "2020-09-02T13:28:25.653",
          "2020-09-03T02:01:33.75",
          "2020-09-03T09:26:58.127",
          "2020-09-03T11:55:40.83",
          "2020-09-04T02:35:33.15",
          "2020-09-07T03:14:01.783",
          "2020-09-08T03:24:11.603",
          "2020-09-08T05:40:25.34",
          "2020-09-08T12:13:05.57",
          "2020-09-08T14:17:04.713",
          "2020-09-09T14:46:03.91",
          "2020-09-09T15:33:09.883",
          "2020-09-10T06:00:56.927",
          "2020-09-10T12:15:08.11",
          "2020-09-10T16:25:03.4",
          "2020-09-11T11:54:43.767",
          "2020-09-11T17:57:16.44",
          "2020-09-13T05:09:37.187",
          "2020-09-13T12:40:21.163",
          "2020-09-14T08:48:44.357",
          "2020-09-15T08:11:30.217",
          "2020-09-15T11:40:17.6",
          "2020-09-15T19:54:20.857",
          "2020-09-16T06:13:11.593",
          "2020-09-16T08:15:45.44",
          "2020-09-16T09:57:44.517",
          "2020-09-16T12:02:57.383",
          "2020-09-16T14:20:14.03",
          "2020-09-16T16:01:59.473",
          "2020-09-16T16:33:38.75",
          "2020-09-16T16:52:38.42",
          "2020-09-17T11:41:44.053",
          "2020-09-17T14:55:23.447",
          "2020-09-17T16:37:00.077",
          "2020-09-18T07:33:41.723",
          "2020-09-18T10:46:34.367",
          "2020-09-21T09:58:43.167",
          "2020-09-21T16:47:19.263",
          "2020-09-22T00:02:42.337",
          "2020-09-22T06:17:08.973",
          "2020-09-22T12:21:03.637",
          "2020-09-23T12:45:54.313",
          "2020-09-23T14:50:02.017",
          "2020-09-23T14:50:53.77",
          "2020-09-23T14:51:39.347",
          "2020-09-23T15:15:00.187",
          "2020-09-24T13:12:57.107",
          "2020-09-24T19:12:48.583",
          "2020-09-25T06:21:34.47",
          "2020-09-25T15:10:56.223",
          "2020-09-25T21:10:47.287",
          "2020-09-27T03:01:48.877",
          "2020-09-28T07:28:53.443",
          "2020-09-28T13:41:47.603",
          "2020-09-29T10:42:52.203",
          "2020-09-29T10:58:24.237",
          "2020-09-29T11:43:39.463",
          "2020-10-01T04:05:51.267",
          "2020-10-01T15:18:19.523",
          "2020-10-04T06:57:42.663",
          "2020-10-06T10:36:52.983",
          "2020-10-06T12:46:04.483",
          "2020-10-07T04:36:43.39",
          "2020-10-07T16:31:35.887",
          "2020-10-07T16:43:08.117",
          "2020-10-08T08:52:50.623",
          "2020-10-09T02:01:00.407",
          "2020-10-12T09:03:36.163",
          "2020-10-12T20:34:39.057",
          "2020-10-14T06:43:01.837",
          "2020-10-14T09:31:09.873",
          "2020-10-14T13:41:44.907",
          "2020-10-14T13:52:09.94",
          "2020-10-15T06:57:57.13",
          "2020-10-16T10:01:41.817",
          "2020-10-16T12:33:29.753",
          "2020-10-17T11:21:17.997",
          "2020-10-17T21:00:48.037",
          "2020-10-19T15:39:33.853",
          "2020-10-19T22:07:22.383",
          "2020-10-20T03:00:27.94",
          "2020-10-21T04:53:38.967",
          "2020-10-21T06:22:02.867",
          "2020-10-21T09:30:56.74",
          "2020-10-21T10:44:23.66",
          "2020-10-22T14:31:26.257",
          "2020-10-22T17:17:54.993",
          "2020-10-23T07:50:08.56",
          "2020-10-23T12:09:06.92",
          "2020-10-23T16:06:11.243",
          "2020-10-24T16:03:56.137",
          "2020-10-25T08:22:12.38",
          "2020-10-25T16:01:58.43",
          "2020-10-26T05:46:15.347",
          "2020-10-29T02:25:33.677",
          "2020-10-29T14:45:52.203",
          "2020-10-30T15:24:32.273",
          "2020-11-03T09:15:35.397",
          "2020-11-03T14:16:21.633",
          "2020-11-04T08:18:34.06",
          "2020-11-06T03:12:33.02",
          "2020-11-07T02:30:08.94",
          "2020-11-08T12:42:54.723",
          "2020-11-08T12:48:07.61",
          "2020-11-09T10:51:40.613",
          "2020-11-11T05:50:59.56",
          "2020-11-11T09:58:05.707",
          "2020-11-11T15:13:05.847",
          "2020-11-11T16:53:07.01",
          "2020-11-12T05:28:55.913",
          "2020-11-12T14:47:17.27",
          "2020-11-13T03:08:25.797",
          "2020-11-14T14:04:27.383",
          "2020-11-16T11:23:16.327",
          "2020-11-16T11:25:19.08",
          "2020-11-18T11:32:37.993",
          "2020-11-18T12:30:24.143",
          "2020-11-18T12:37:55.147",
          "2020-11-18T19:18:53.403",
          "2020-11-19T09:30:41.29",
          "2020-11-20T14:00:44.387",
          "2020-11-20T16:00:00.39",
          "2020-11-21T05:08:51.133",
          "2020-11-22T23:21:07.067",
          "2020-11-23T01:58:09.64",
          "2020-11-24T10:58:17.443",
          "2020-11-24T15:09:06.143",
          "2020-11-24T20:48:57.933",
          "2020-11-25T12:40:55.58",
          "2020-11-25T14:28:28.507",
          "2020-11-25T15:43:04.867",
          "2020-11-30T16:32:19.377",
          "2020-12-02T09:26:16.583",
          "2020-12-04T18:13:27.287",
          "2020-12-06T08:25:07.433",
          "2020-12-08T11:32:56.12",
          "2020-12-08T12:43:52.023",
          "2020-12-08T15:13:24.93",
          "2020-12-09T10:04:40.567",
          "2020-12-10T03:32:44.07",
          "2020-12-10T16:03:19.67",
          "2020-12-15T11:43:28.143",
          "2020-12-15T13:24:34.04",
          "2020-12-16T05:04:16.433",
          "2020-12-16T13:34:06.637",
          "2020-12-16T21:46:56.413",
          "2020-12-18T03:06:14.177",
          "2020-12-18T11:11:07.787",
          "2020-12-21T17:49:39.223",
          "2020-12-22T05:06:26.697",
          "2020-12-23T10:59:14.423",
          "2020-12-24T00:03:53.283",
          "2020-12-26T15:56:58.257",
          "2020-12-27T11:57:47.007",
          "2020-12-27T14:12:00.18",
          "2020-12-28T10:34:01.52",
          "2020-12-28T11:57:21.447",
          "2020-12-29T17:22:22.603",
          "2020-12-30T10:05:14.57",
          "2020-12-31T18:03:21.66",
          "2021-01-01T07:00:15.443",
          "2021-01-03T22:55:07.463",
          "2021-01-04T07:41:29.507",
          "2021-01-04T07:48:38.72",
          "2021-01-04T08:49:11.093",
          "2021-01-04T12:26:12.183",
          "2021-01-05T09:54:38.063",
          "2021-01-05T10:07:21.227",
          "2021-01-05T20:16:38.75",
          "2021-01-06T12:25:16.487",
          "2021-01-06T14:50:39.423",
          "2021-01-07T00:43:54.317",
          "2021-01-08T03:57:53.35",
          "2021-01-11T16:25:58.88",
          "2021-01-11T22:44:21.93",
          "2021-01-12T07:40:27.073",
          "2021-01-14T13:55:54.143",
          "2021-01-15T11:36:31.313",
          "2021-01-16T19:32:13.78",
          "2021-01-18T05:59:41.04",
          "2021-01-19T13:53:44.657",
          "2021-01-20T07:11:18.693",
          "2021-01-20T15:38:36.633",
          "2021-01-20T16:13:02.5",
          "2021-01-21T17:46:44.013",
          "2021-01-22T13:54:36.95",
          "2021-01-22T15:20:52.107",
          "2021-01-23T00:52:07.6",
          "2021-01-25T03:57:52.733",
          "2021-01-25T10:05:26.427",
          "2021-01-25T12:51:33.14",
          "2021-01-25T17:07:17.423",
          "2021-01-27T09:22:55.277",
          "2021-01-27T09:22:55.547",
          "2021-01-27T09:28:32.857",
          "2021-01-28T11:33:34.887",
          "2021-01-29T05:09:45.457",
          "2021-01-30T02:44:24.313",
          "2021-02-01T14:35:54.11",
          "2021-02-02T09:15:33.837",
          "2021-02-04T18:52:41.68",
          "2021-02-07T01:35:51.77",
          "2021-02-07T03:45:35.85",
          "2021-02-07T22:47:17.563",
          "2021-02-08T04:21:46.14",
          "2021-02-08T20:23:34.343",
          "2021-02-09T05:36:55.147",
          "2021-02-09T07:28:04.943",
          "2021-02-10T11:48:40.4",
          "2021-02-10T17:28:34.27",
          "2021-02-11T16:40:26.987",
          "2021-02-11T21:31:20.58",
          "2021-02-12T05:54:48.23",
          "2021-02-12T09:56:04.773",
          "2021-02-12T15:06:05.92",
          "2021-02-12T15:07:52.33",
          "2021-02-13T02:53:30.073",
          "2021-02-14T04:45:31.08",
          "2021-02-14T15:10:09.8",
          "2021-02-15T21:50:52.64",
          "2021-02-16T06:32:23.97",
          "2021-02-16T09:44:47.337",
          "2021-02-17T01:00:17.45",
          "2021-02-17T01:25:49.423",
          "2021-02-17T17:57:59.497",
          "2021-02-18T04:41:42.563",
          "2021-02-19T11:17:25.39",
          "2021-02-22T01:18:39.76",
          "2021-02-22T10:22:26.3",
          "2021-02-23T05:30:07.697",
          "2021-02-23T08:25:50.447",
          "2021-02-23T15:53:46.57",
          "2021-02-24T12:36:00.77",
          "2021-02-25T08:53:44.637",
          "2021-02-25T10:29:48.393",
          "2021-02-25T16:43:06.273",
          "2021-02-26T09:23:09.993",
          "2021-02-26T18:47:43.037",
          "2021-02-27T11:08:57.667",
          "2021-03-01T09:13:33.787",
          "2021-03-01T19:39:59.55",
          "2021-03-02T09:23:36.847",
          "2021-03-02T11:18:39.363",
          "2021-03-02T16:31:12.837",
          "2021-03-03T05:13:37.897",
          "2021-03-03T06:44:32.35",
          "2021-03-03T08:54:25",
          "2021-03-04T02:36:22.257",
          "2021-03-05T08:22:11.3",
          "2021-03-09T11:09:19.763",
          "2021-03-09T14:55:21.58",
          "2021-03-10T04:36:07.837",
          "2021-03-10T15:24:21.857",
          "2021-03-10T16:00:02.613",
          "2021-03-11T04:20:04.103",
          "2021-03-11T09:00:30.913",
          "2021-03-11T17:30:43.753",
          "2021-03-12T02:34:21.683",
          "2021-03-12T03:28:33.083",
          "2021-03-12T11:48:47.203",
          "2021-03-13T10:25:21.143",
          "2021-03-14T17:29:30.287",
          "2021-03-15T10:13:43.667",
          "2021-03-15T10:53:54.233",
          "2021-03-17T17:02:54.86",
          "2021-03-19T07:21:13.43",
          "2021-03-20T01:34:53.61",
          "2021-03-23T12:14:18.863",
          "2021-03-24T12:58:46.5",
          "2021-03-25T03:17:53.38",
          "2021-03-25T16:39:59.577",
          "2021-03-26T14:27:14.173",
          "2021-03-30T12:29:47.413",
          "2021-03-30T12:53:22.887",
          "2021-03-31T05:04:42.15",
          "2021-03-31T06:38:42.34",
          "2021-04-01T08:14:49.057",
          "2021-04-06T19:28:50.28",
          "2021-04-08T17:31:25.08",
          "2021-04-10T02:53:00.28",
          "2021-04-12T10:52:25.73",
          "2021-04-12T12:12:10.283",
          "2021-04-12T15:13:07.097",
          "2021-04-14T03:27:41.803",
          "2021-04-15T08:57:58.05",
          "2021-04-15T12:20:03.933",
          "2021-04-19T09:41:09.173",
          "2021-04-20T07:00:28.707",
          "2021-04-20T15:43:56.607",
          "2021-04-21T11:38:15.18",
          "2021-04-22T04:29:17.66",
          "2021-04-22T04:48:51.64",
          "2021-04-22T06:55:40.56",
          "2021-04-22T16:43:27",
          "2021-04-23T00:03:22.743",
          "2021-04-23T11:09:05.35",
          "2021-04-27T07:40:14.087",
          "2021-04-27T10:25:08.213",
          "2021-04-27T13:53:38.607",
          "2021-04-27T14:05:34.707",
          "2021-04-27T16:17:23.083",
          "2021-04-28T06:07:57.33",
          "2021-04-28T11:44:20.84",
          "2021-04-28T14:08:31.08",
          "2021-04-28T14:15:54.817",
          "2021-04-29T02:16:11.49",
          "2021-04-30T07:03:44.607",
          "2021-04-30T08:43:37.07",
          "2021-05-04T03:26:26.993",
          "2021-05-04T09:31:18.373",
          "2021-05-05T10:48:30.583",
          "2021-05-05T14:59:26.737",
          "2021-05-06T04:52:27.5",
          "2021-05-06T05:44:31.317",
          "2021-05-06T14:47:18.237",
          "2021-05-06T15:36:56.423",
          "2021-05-06T19:21:40.677",
          "2021-05-07T11:58:25.423",
          "2021-05-07T12:44:00.26",
          "2021-05-11T11:11:22.967",
          "2021-05-11T14:33:52.803",
          "2021-05-12T19:29:45.887",
          "2021-05-14T10:04:28.7",
          "2021-05-17T00:14:13.58",
          "2021-05-17T05:24:41.617",
          "2021-05-17T10:22:56.957",
          "2021-05-17T12:12:39.573",
          "2021-05-20T08:11:58.513",
          "2021-05-21T02:17:15.373",
          "2021-05-24T03:14:14.447",
          "2021-05-24T05:55:56.8",
          "2021-05-24T14:55:23.877",
          "2021-05-25T10:09:32.81",
          "2021-05-25T23:18:10.647",
          "2021-05-25T23:21:55.333",
          "2021-05-26T05:39:30.67",
          "2021-05-28T11:21:25.033",
          "2021-05-28T13:33:13.153",
          "2021-05-29T21:45:02.2",
          "2021-05-30T01:41:31.68",
          "2021-05-30T08:11:59.69",
          "2021-06-02T07:44:14.63",
          "2021-06-02T12:18:46.267",
          "2021-06-02T13:14:26.307",
          "2021-06-02T13:40:25.58",
          "2021-06-02T13:53:43.85",
          "2021-06-02T15:54:57.997",
          "2021-06-02T16:37:04.77",
          "2021-06-03T02:17:04.61",
          "2021-06-03T04:52:06.57",
          "2021-06-03T09:19:09.593",
          "2021-06-03T19:44:17.527",
          "2021-06-04T05:25:16.927",
          "2021-06-04T10:11:48.013",
          "2021-06-08T04:53:56.6",
          "2021-06-08T10:57:39.363"
         ],
         "xaxis": "x",
         "y": [
          0.063,
          0.102,
          0.198,
          0.102,
          0.09,
          0.184,
          0.094,
          0.075,
          0.054,
          0.082,
          0.105,
          0.158,
          0.071,
          0.255,
          0.102,
          0.236,
          0.114,
          0.106,
          0.135,
          0.244,
          0.204,
          0.185,
          0.058,
          0.088,
          0.102,
          0.115,
          0.067,
          0.047,
          0.221,
          0.115,
          0.172,
          0.154,
          0.093,
          0.159,
          0.086,
          0.24,
          0.161,
          0.185,
          0.096,
          0.102,
          0.153,
          0.203,
          0.057,
          0.041,
          0.139,
          0.101,
          0.095,
          0.151,
          0.11,
          0.142,
          0.256,
          0.124,
          0.134,
          0.203,
          0.077,
          0.091,
          0.177,
          0.209,
          0.028,
          0.091,
          0.085,
          0.075,
          0.168,
          0.335,
          0.071,
          0.358,
          0.122,
          0.097,
          0.087,
          0.136,
          0.059,
          0.179,
          0.102,
          0.211,
          0.129,
          0.113,
          0.253,
          0.035,
          0.223,
          0.11,
          0.195,
          0.082,
          0.056,
          0.033,
          0.017,
          0.208,
          0.13,
          0.079,
          0.173,
          0.174,
          0.07,
          0.189,
          0.331,
          0.152,
          0.112,
          0.125,
          0.181,
          0.236,
          0.213,
          0.104,
          0.17,
          0.055,
          0.094,
          0.216,
          0.089,
          0.149,
          0.102,
          0.138,
          0.091,
          0.21,
          0.083,
          0.143,
          0.089,
          0.112,
          0.072,
          0.033,
          0.069,
          0.102,
          0.211,
          0.091,
          0.218,
          0.16,
          0.209,
          0.077,
          0.167,
          0.038,
          0.119,
          0.158,
          0.222,
          0.119,
          0.293,
          0.132,
          0.221,
          0.104,
          0.089,
          0.09,
          0.167,
          0.103,
          0.108,
          0.119,
          0.202,
          0.107,
          0.083,
          0.034,
          0.112,
          0.112,
          0.103,
          0.064,
          0.101,
          0.12,
          0.15,
          0.076,
          0.102,
          0.062,
          0.072,
          0.223,
          0.036,
          0.073,
          0.102,
          0.013,
          0.072,
          0.094,
          0.096,
          0.031,
          0.133,
          0.153,
          0.118,
          0.072,
          0.097,
          0.066,
          0.326,
          0.069,
          0.103,
          0.057,
          0.103,
          0.062,
          0.147,
          0.116,
          0.122,
          0.128,
          0.147,
          0.057,
          0.116,
          0.167,
          0.101,
          0.081,
          0.278,
          0.142,
          0.108,
          0.102,
          0.074,
          0.086,
          0.08,
          0.225,
          0.157,
          0.282,
          0.13,
          0.102,
          0.122,
          0.272,
          0.168,
          0.136,
          0.116,
          0.192,
          0.138,
          0.119,
          0.08,
          0.112,
          0.086,
          0.143,
          0.04,
          0.119,
          0.172,
          0.286,
          0.177,
          0.137,
          0.182,
          0.134,
          0.134,
          0.211,
          0.238,
          0.092,
          0.152,
          0.155,
          0.217,
          0.126,
          0.133,
          0.244,
          0.302,
          0.234,
          0.205,
          0.335,
          0.096,
          0.165,
          0.078,
          0.192,
          0.13,
          0.069,
          0.122,
          0.22,
          0.102,
          0.118,
          0.104,
          0.172,
          0.078,
          0.116,
          0.265,
          0.042,
          0.075,
          0.129,
          0.033,
          0.086,
          0.042,
          0.029,
          0.3,
          0.202,
          0.155,
          0.156,
          0.085,
          0.078,
          0.102,
          0.19,
          0.102,
          0.102,
          0.156,
          0.16,
          0.141,
          0.103,
          0.194,
          0.194,
          0.086,
          0.099,
          0.142,
          0.09,
          0.09,
          0.154,
          0.071,
          0.101,
          0.108,
          0.045,
          0.046,
          0.166,
          0.184,
          0.1,
          0.22,
          0.14,
          0.131,
          0.079,
          0.336,
          0.058,
          0.12,
          0.077,
          0.105,
          0.068,
          0.245,
          0.144,
          0.123,
          0.02,
          0.078,
          0.101,
          0.069,
          0.095,
          0.113,
          0.044,
          0.077,
          0.038,
          0.173,
          0.14,
          0.111,
          0.236,
          0.078,
          0.093,
          0.107,
          0.102,
          0.102,
          0.068,
          0.095,
          0.085,
          0.101,
          0.153,
          0.08,
          0.133,
          0.254,
          0.124,
          0.071,
          0.089,
          0.096,
          0.143,
          0.173,
          0.239,
          0.06,
          0.075,
          0.075,
          0.321,
          0.133,
          0.143,
          0.097,
          0.182,
          0.134,
          0.046,
          0.094,
          0.159,
          0.067,
          0.148,
          0.088,
          0.077,
          0.186,
          0.102,
          0.131,
          0.191,
          0.102,
          0.16,
          0.043,
          0.161,
          0.132,
          0.156,
          0.152,
          0.101,
          0.221,
          0.1,
          0.282,
          0.05,
          0.129,
          0.079,
          0.231,
          0.122,
          0.206,
          0.24,
          0.256,
          0.234,
          0.086,
          0.101,
          0.091,
          0.197,
          0.32,
          0.064,
          0.136,
          0.138,
          0.106,
          0.142,
          0.078,
          0.114,
          0.064,
          0.097,
          0.102,
          0.043,
          0.049,
          0.12,
          0.055,
          0.167,
          0.064,
          0.081,
          0.11,
          0.201,
          0.133,
          0.091,
          0.221,
          0.135,
          0.166,
          0.151,
          0.092,
          0.143,
          0.138,
          0.098,
          0.16,
          0.185,
          0.23,
          0.069,
          0.116,
          0.106,
          0.094,
          0.157,
          0.093,
          0.188,
          0.054,
          0.034,
          0.21,
          0.127,
          0.124,
          0.16,
          0.203,
          0.115,
          0.046,
          0.271,
          0.077,
          0.088,
          0.161,
          0.143,
          0.161,
          0.079,
          0.08,
          0.183,
          0.076,
          0.098,
          0.091,
          0.134,
          0.07,
          0.146,
          0.112,
          0.153,
          0.25,
          0.103,
          0.216,
          0.227,
          0.088,
          0.107,
          0.059,
          0.249,
          0.119,
          0.133,
          0.076,
          0.038,
          0.161,
          0.162,
          0.255,
          0.075,
          0.075,
          0.075,
          0.115,
          0.188,
          0.18,
          0.207,
          0.09,
          0.044,
          0.084,
          0.231,
          0.101,
          0.237,
          0.073,
          0.243,
          0.038,
          0.053,
          0.062,
          0.356,
          0.181,
          0.167,
          0.11,
          0.102,
          0.084,
          0.062,
          0.159,
          0.141,
          0.09,
          0.096,
          0.276,
          0.164,
          0.179,
          0.112,
          0.097,
          0.265,
          0.222,
          0.094,
          0.04,
          0.129,
          0.22,
          0.167,
          0.065,
          0.169,
          0.2,
          0.036,
          0.067,
          0.083,
          0.102,
          0.055,
          0.041,
          0.047,
          0.052,
          0.159,
          0.123,
          0.136,
          0.19,
          0.042,
          0.121,
          0.193,
          0.04,
          0.138,
          0.087,
          0.284,
          0.1,
          0.153,
          0.172,
          0.041,
          0.219,
          0.072,
          0.047,
          0.122,
          0.165,
          0.115,
          0.079,
          0.081,
          0.098,
          0.079,
          0.171,
          0.076,
          0.189,
          0.263,
          0.135,
          0.16,
          0.27,
          0.102,
          0.112,
          0.063,
          0.114,
          0.084,
          0.102,
          0.209,
          0.156,
          0.071,
          0.033,
          0.213,
          0.255,
          0.157,
          0.073,
          0.113,
          0.107,
          0.206,
          0.079,
          0.174,
          0.105,
          0.213,
          0.103,
          0.063,
          0.213,
          0.17,
          0.174,
          0.253,
          0.331,
          0.11,
          0.213,
          0.22,
          0.061,
          0.112,
          0.058,
          0.079,
          0.079,
          0.372,
          0.048,
          0.152,
          0.18,
          0.302,
          0.141,
          0.178,
          0.116,
          0.149,
          0.052,
          0.158,
          0.22,
          0.227,
          0.184,
          0.2,
          0.166,
          0.087,
          0.076,
          0.094,
          0.382,
          0.116,
          0.15,
          0.162,
          0.197,
          0.065,
          0.212,
          0.047,
          0.044,
          0.213,
          0.028,
          0.123,
          0.173,
          0.077,
          0.118,
          0.093,
          0.267,
          0.197,
          0.085,
          0.125,
          0.122,
          0.174,
          0.062,
          0.131,
          0.111,
          0.163,
          0.134,
          0.204,
          0.197,
          0.128,
          0.032,
          0.203,
          0.129,
          0.068,
          0.068,
          0.127,
          0.067,
          0.146,
          0.288,
          0.087,
          0.243,
          0.097,
          0.216,
          0.201,
          0.088,
          0.119,
          0.186,
          0.235,
          0.129,
          0.071,
          0.061,
          0.135,
          0.192,
          0.129,
          0.173,
          0.134,
          0.12,
          0.181,
          0.135,
          0.058,
          0.062,
          0.205,
          0.18,
          0.153,
          0.073,
          0.173,
          0.077,
          0.199,
          0.033,
          0.394,
          0.121,
          0.109,
          0.099,
          0.05,
          0.045,
          0.035,
          0.093,
          0.137,
          0.199,
          0.145,
          0.104,
          0.099,
          0.182,
          0.2,
          0.154,
          0.071,
          0.186,
          0.18,
          0.105,
          0.333,
          0.156,
          0.081,
          0.135,
          0.148,
          0.204,
          0.195,
          0.148,
          0.022,
          0.278,
          0.083,
          0.106,
          0.232,
          0.292,
          0.171,
          0.259,
          0.038,
          0.246,
          0.051,
          0.077,
          0.053,
          0.071,
          0.152,
          0.119,
          0.357,
          0.118,
          0.148,
          0.121,
          0.134,
          0.18,
          0.059,
          0.349,
          0.277,
          0.097,
          0.234,
          0.171,
          0.143,
          0.14,
          0.104,
          0.114,
          0.224,
          0.101,
          0.046,
          0.089,
          0.11,
          0.121,
          0.049,
          0.187,
          0.164,
          0.156,
          0.087,
          0.068,
          0.162,
          0.129,
          0.331,
          0.125,
          0.114,
          0.116,
          0.114,
          0.067,
          0.292,
          0.078,
          0.248,
          0.104,
          0.104,
          0.184,
          0.127,
          0.127,
          0.077,
          0.036,
          0.211,
          0.08,
          0.294,
          0.135,
          0.056,
          0.163,
          0.074,
          0.107,
          0.123,
          0.138,
          0.211,
          0.105,
          0.174,
          0.048,
          0.23,
          0.06
         ],
         "yaxis": "y"
        },
        {
         "hovertemplate": "Sentiment=Negative<br>Post Date=%{x}<br>pos=%{y}<extra></extra>",
         "legendgroup": "Negative",
         "line": {
          "color": "#00cc96",
          "dash": "solid"
         },
         "mode": "lines",
         "name": "Negative",
         "showlegend": true,
         "type": "scattergl",
         "x": [
          "2019-10-14T05:55:32.553",
          "2019-10-14T22:38:08.26",
          "2019-10-21T09:43:33.513",
          "2019-10-21T12:40:40.86",
          "2019-10-23T06:23:11.657",
          "2019-10-24T06:19:46.603",
          "2019-10-24T14:04:33.85",
          "2019-10-25T11:54:33.85",
          "2019-10-30T08:21:45.053",
          "2019-10-30T18:45:20.75",
          "2019-10-31T23:57:45.833",
          "2019-11-01T07:45:56.387",
          "2019-11-10T01:44:11.28",
          "2019-11-14T03:28:57.637",
          "2019-11-18T10:12:47.987",
          "2019-11-20T05:47:36.783",
          "2019-11-29T02:39:25.357",
          "2019-12-03T14:56:05.093",
          "2019-12-03T16:06:57.23",
          "2019-12-09T07:10:55.167",
          "2019-12-10T07:50:29.637",
          "2019-12-10T10:55:22.36",
          "2019-12-12T10:17:39.717",
          "2019-12-20T08:29:43.793",
          "2019-12-21T07:25:05.07",
          "2019-12-24T06:44:49.68",
          "2020-01-03T04:40:24.317",
          "2020-01-05T08:26:52.923",
          "2020-01-14T07:18:24.06",
          "2020-01-16T01:35:18.87",
          "2020-01-20T17:44:58.307",
          "2020-01-24T06:49:45.39",
          "2020-01-29T10:26:02.32",
          "2020-02-03T09:59:10.557",
          "2020-02-03T13:33:12.313",
          "2020-02-05T11:30:08.943",
          "2020-02-11T17:09:02.48",
          "2020-02-12T09:04:32.27",
          "2020-02-12T14:51:42.37",
          "2020-02-14T10:24:51.933",
          "2020-02-26T12:34:35.337",
          "2020-03-04T20:50:43.727",
          "2020-03-10T11:43:30.047",
          "2020-03-17T10:57:57.617",
          "2020-03-17T12:46:10.82",
          "2020-03-17T17:40:54.64",
          "2020-03-30T04:21:56.913",
          "2020-04-09T23:22:33.47",
          "2020-04-14T04:48:03.713",
          "2020-04-14T11:03:59.167",
          "2020-04-16T08:10:59.29",
          "2020-04-16T16:12:38.977",
          "2020-04-16T16:41:02.65",
          "2020-04-23T02:31:29.827",
          "2020-04-23T17:09:27.673",
          "2020-05-05T10:32:52.917",
          "2020-05-06T07:12:28.073",
          "2020-05-06T10:17:41.447",
          "2020-05-07T03:54:23.82",
          "2020-05-07T10:30:47.55",
          "2020-05-12T07:44:49.72",
          "2020-05-13T09:12:49.927",
          "2020-05-13T14:43:08.657",
          "2020-05-14T03:52:10.373",
          "2020-05-14T17:51:27.473",
          "2020-05-19T22:05:27.747",
          "2020-05-20T07:46:08.763",
          "2020-05-22T09:04:36.597",
          "2020-05-24T07:44:59.96",
          "2020-05-25T11:51:41.683",
          "2020-05-25T12:12:56.96",
          "2020-05-28T04:33:45.413",
          "2020-05-28T21:23:28.48",
          "2020-05-31T11:34:13.967",
          "2020-06-01T02:08:55.463",
          "2020-06-02T05:15:07.377",
          "2020-06-08T10:15:40.8",
          "2020-06-17T09:23:08.72",
          "2020-06-17T10:47:18.047",
          "2020-06-19T05:37:59.09",
          "2020-06-29T17:02:31.54",
          "2020-07-06T05:50:50.78",
          "2020-07-06T09:19:59.403",
          "2020-07-10T08:52:51.04",
          "2020-07-11T20:29:03.777",
          "2020-07-13T02:40:11.35",
          "2020-07-17T14:17:43.9",
          "2020-07-20T13:16:24.25",
          "2020-07-21T04:25:05.703",
          "2020-07-21T11:25:17.723",
          "2020-07-24T15:17:29.263",
          "2020-07-31T03:00:29.553",
          "2020-08-01T06:40:03.033",
          "2020-08-02T08:21:09.453",
          "2020-08-06T16:30:31.317",
          "2020-08-11T20:18:22.113",
          "2020-08-14T06:48:55.553",
          "2020-08-17T10:09:37.347",
          "2020-08-18T10:10:32.407",
          "2020-09-03T14:53:10.197",
          "2020-09-04T08:34:40.003",
          "2020-09-08T10:35:57.717",
          "2020-09-09T04:14:26.247",
          "2020-09-09T07:05:09.473",
          "2020-09-09T19:09:12.01",
          "2020-09-11T14:32:09.763",
          "2020-09-22T03:04:06.773",
          "2020-09-22T12:56:21.417",
          "2020-09-23T07:34:25.193",
          "2020-09-27T00:39:00.507",
          "2020-09-30T11:28:12.57",
          "2020-10-05T01:11:31.057",
          "2020-10-05T22:58:21.4",
          "2020-10-07T04:49:35.287",
          "2020-10-07T06:19:26.927",
          "2020-10-08T07:26:39.637",
          "2020-10-08T16:26:59.76",
          "2020-10-09T19:17:29.443",
          "2020-10-13T13:02:42.213",
          "2020-10-13T18:32:15.773",
          "2020-10-16T18:36:31.273",
          "2020-10-19T22:07:38.62",
          "2020-10-20T16:35:09.947",
          "2020-10-21T12:58:42.72",
          "2020-10-21T13:33:08.743",
          "2020-10-21T14:06:01.427",
          "2020-10-28T05:57:09.547",
          "2020-10-28T13:28:28.833",
          "2020-10-28T15:58:04.637",
          "2020-10-29T01:39:26.437",
          "2020-11-02T16:14:49.56",
          "2020-11-09T08:23:02.983",
          "2020-11-11T06:00:38.383",
          "2020-11-12T18:39:57.223",
          "2020-11-13T18:33:05.46",
          "2020-11-18T11:41:37.49",
          "2020-11-19T16:56:39.44",
          "2020-11-25T11:17:47.587",
          "2020-11-25T13:13:05.463",
          "2020-11-26T11:43:14.277",
          "2020-12-02T15:54:46.727",
          "2020-12-03T15:45:18.923",
          "2020-12-06T07:13:50.297",
          "2020-12-08T06:45:13.323",
          "2020-12-08T12:43:05.35",
          "2020-12-11T09:05:13.287",
          "2020-12-16T11:24:45.933",
          "2020-12-16T16:31:08.12",
          "2020-12-21T08:30:12.503",
          "2020-12-22T04:59:41.42",
          "2020-12-23T09:59:10.2",
          "2020-12-28T02:51:24.99",
          "2020-12-28T15:09:46.85",
          "2020-12-29T08:45:35.597",
          "2020-12-29T15:13:04.71",
          "2021-01-09T23:27:17.513",
          "2021-01-12T06:59:45.843",
          "2021-01-12T08:16:59.57",
          "2021-01-12T23:48:05.1",
          "2021-01-15T06:20:18.943",
          "2021-01-16T07:56:33.363",
          "2021-01-18T00:23:54.957",
          "2021-01-20T07:58:12.823",
          "2021-01-21T09:00:33.853",
          "2021-01-27T01:26:58.78",
          "2021-01-27T13:06:46.71",
          "2021-02-03T06:28:55.87",
          "2021-02-03T14:28:38.48",
          "2021-02-05T09:38:55.053",
          "2021-02-08T14:35:14.027",
          "2021-02-10T06:07:45.91",
          "2021-02-10T13:30:52.19",
          "2021-02-16T14:37:14.58",
          "2021-02-17T00:44:34.993",
          "2021-02-26T11:57:02.543",
          "2021-02-27T07:31:29.457",
          "2021-03-03T03:05:35.877",
          "2021-03-03T09:20:39.307",
          "2021-03-03T16:19:15.397",
          "2021-03-04T11:01:28.96",
          "2021-03-06T06:54:56.57",
          "2021-03-09T11:05:19.053",
          "2021-03-09T17:00:23.213",
          "2021-03-16T07:06:57.6",
          "2021-03-16T15:19:27.047",
          "2021-03-19T11:31:47.557",
          "2021-03-22T03:47:12.6",
          "2021-03-24T09:04:13.813",
          "2021-04-07T14:44:07.22",
          "2021-04-09T14:10:26.533",
          "2021-04-10T03:29:32.747",
          "2021-04-10T15:57:59.943",
          "2021-04-20T11:43:36.217",
          "2021-04-22T07:32:19.79",
          "2021-04-30T15:41:33.667",
          "2021-05-06T06:08:48.817",
          "2021-05-06T10:55:46.883",
          "2021-05-11T16:15:01.67",
          "2021-05-14T08:27:02.38",
          "2021-05-17T10:44:03.017",
          "2021-05-17T12:41:24.27",
          "2021-05-18T00:14:22.057",
          "2021-05-19T09:46:33.497",
          "2021-05-23T15:49:03.797",
          "2021-05-25T16:41:37.953",
          "2021-05-27T07:12:50.66",
          "2021-06-03T04:46:03.063",
          "2021-06-04T19:14:13.09"
         ],
         "xaxis": "x",
         "y": [
          0.017,
          0.052,
          0.034,
          0.021,
          0.044,
          0.049,
          0.106,
          0.057,
          0.11,
          0.058,
          0.027,
          0.052,
          0.038,
          0.028,
          0.038,
          0.055,
          0.107,
          0.066,
          0,
          0.026,
          0.049,
          0.042,
          0,
          0,
          0.031,
          0,
          0.113,
          0.038,
          0.102,
          0.016,
          0.079,
          0.046,
          0.033,
          0.058,
          0.017,
          0,
          0.03,
          0.031,
          0.017,
          0.09,
          0,
          0.061,
          0.101,
          0,
          0.073,
          0.022,
          0.078,
          0.095,
          0.068,
          0,
          0.029,
          0,
          0.014,
          0,
          0,
          0,
          0.031,
          0.049,
          0.12,
          0,
          0.115,
          0,
          0.026,
          0,
          0.046,
          0.198,
          0.113,
          0,
          0.065,
          0,
          0,
          0.027,
          0.074,
          0.047,
          0,
          0.029,
          0.045,
          0.028,
          0.046,
          0,
          0,
          0.014,
          0,
          0.015,
          0.043,
          0.051,
          0.092,
          0.039,
          0,
          0.065,
          0.028,
          0.058,
          0.041,
          0.091,
          0.048,
          0.142,
          0.106,
          0.056,
          0.064,
          0,
          0.052,
          0.049,
          0.053,
          0.049,
          0.026,
          0.053,
          0,
          0.018,
          0.042,
          0.04,
          0.024,
          0.065,
          0.077,
          0,
          0,
          0.034,
          0.036,
          0,
          0,
          0.037,
          0.012,
          0.045,
          0.033,
          0.043,
          0.082,
          0.077,
          0.159,
          0,
          0.038,
          0.048,
          0,
          0.041,
          0,
          0.027,
          0.043,
          0.066,
          0.042,
          0.103,
          0.059,
          0.126,
          0.092,
          0,
          0.107,
          0.066,
          0.063,
          0.014,
          0.062,
          0,
          0.041,
          0.11,
          0.032,
          0.087,
          0.052,
          0,
          0,
          0.069,
          0,
          0.079,
          0.094,
          0.204,
          0.105,
          0.055,
          0.14,
          0,
          0.059,
          0.034,
          0.107,
          0.039,
          0.058,
          0.059,
          0,
          0.049,
          0.192,
          0.015,
          0,
          0.107,
          0.03,
          0,
          0,
          0.054,
          0.048,
          0.024,
          0,
          0,
          0.066,
          0,
          0.057,
          0.108,
          0.066,
          0.035,
          0.07,
          0.039,
          0.129,
          0.078,
          0.03,
          0.115,
          0.072,
          0.092,
          0.042,
          0.076,
          0.032,
          0.102,
          0,
          0.092,
          0.016,
          0,
          0.1,
          0.02
         ],
         "yaxis": "y"
        }
       ],
       "layout": {
        "legend": {
         "title": {
          "text": "Sentiment"
         },
         "tracegroupgap": 0
        },
        "margin": {
         "t": 60
        },
        "template": {
         "data": {
          "bar": [
           {
            "error_x": {
             "color": "#2a3f5f"
            },
            "error_y": {
             "color": "#2a3f5f"
            },
            "marker": {
             "line": {
              "color": "#E5ECF6",
              "width": 0.5
             }
            },
            "type": "bar"
           }
          ],
          "barpolar": [
           {
            "marker": {
             "line": {
              "color": "#E5ECF6",
              "width": 0.5
             }
            },
            "type": "barpolar"
           }
          ],
          "carpet": [
           {
            "aaxis": {
             "endlinecolor": "#2a3f5f",
             "gridcolor": "white",
             "linecolor": "white",
             "minorgridcolor": "white",
             "startlinecolor": "#2a3f5f"
            },
            "baxis": {
             "endlinecolor": "#2a3f5f",
             "gridcolor": "white",
             "linecolor": "white",
             "minorgridcolor": "white",
             "startlinecolor": "#2a3f5f"
            },
            "type": "carpet"
           }
          ],
          "choropleth": [
           {
            "colorbar": {
             "outlinewidth": 0,
             "ticks": ""
            },
            "type": "choropleth"
           }
          ],
          "contour": [
           {
            "colorbar": {
             "outlinewidth": 0,
             "ticks": ""
            },
            "colorscale": [
             [
              0,
              "#0d0887"
             ],
             [
              0.1111111111111111,
              "#46039f"
             ],
             [
              0.2222222222222222,
              "#7201a8"
             ],
             [
              0.3333333333333333,
              "#9c179e"
             ],
             [
              0.4444444444444444,
              "#bd3786"
             ],
             [
              0.5555555555555556,
              "#d8576b"
             ],
             [
              0.6666666666666666,
              "#ed7953"
             ],
             [
              0.7777777777777778,
              "#fb9f3a"
             ],
             [
              0.8888888888888888,
              "#fdca26"
             ],
             [
              1,
              "#f0f921"
             ]
            ],
            "type": "contour"
           }
          ],
          "contourcarpet": [
           {
            "colorbar": {
             "outlinewidth": 0,
             "ticks": ""
            },
            "type": "contourcarpet"
           }
          ],
          "heatmap": [
           {
            "colorbar": {
             "outlinewidth": 0,
             "ticks": ""
            },
            "colorscale": [
             [
              0,
              "#0d0887"
             ],
             [
              0.1111111111111111,
              "#46039f"
             ],
             [
              0.2222222222222222,
              "#7201a8"
             ],
             [
              0.3333333333333333,
              "#9c179e"
             ],
             [
              0.4444444444444444,
              "#bd3786"
             ],
             [
              0.5555555555555556,
              "#d8576b"
             ],
             [
              0.6666666666666666,
              "#ed7953"
             ],
             [
              0.7777777777777778,
              "#fb9f3a"
             ],
             [
              0.8888888888888888,
              "#fdca26"
             ],
             [
              1,
              "#f0f921"
             ]
            ],
            "type": "heatmap"
           }
          ],
          "heatmapgl": [
           {
            "colorbar": {
             "outlinewidth": 0,
             "ticks": ""
            },
            "colorscale": [
             [
              0,
              "#0d0887"
             ],
             [
              0.1111111111111111,
              "#46039f"
             ],
             [
              0.2222222222222222,
              "#7201a8"
             ],
             [
              0.3333333333333333,
              "#9c179e"
             ],
             [
              0.4444444444444444,
              "#bd3786"
             ],
             [
              0.5555555555555556,
              "#d8576b"
             ],
             [
              0.6666666666666666,
              "#ed7953"
             ],
             [
              0.7777777777777778,
              "#fb9f3a"
             ],
             [
              0.8888888888888888,
              "#fdca26"
             ],
             [
              1,
              "#f0f921"
             ]
            ],
            "type": "heatmapgl"
           }
          ],
          "histogram": [
           {
            "marker": {
             "colorbar": {
              "outlinewidth": 0,
              "ticks": ""
             }
            },
            "type": "histogram"
           }
          ],
          "histogram2d": [
           {
            "colorbar": {
             "outlinewidth": 0,
             "ticks": ""
            },
            "colorscale": [
             [
              0,
              "#0d0887"
             ],
             [
              0.1111111111111111,
              "#46039f"
             ],
             [
              0.2222222222222222,
              "#7201a8"
             ],
             [
              0.3333333333333333,
              "#9c179e"
             ],
             [
              0.4444444444444444,
              "#bd3786"
             ],
             [
              0.5555555555555556,
              "#d8576b"
             ],
             [
              0.6666666666666666,
              "#ed7953"
             ],
             [
              0.7777777777777778,
              "#fb9f3a"
             ],
             [
              0.8888888888888888,
              "#fdca26"
             ],
             [
              1,
              "#f0f921"
             ]
            ],
            "type": "histogram2d"
           }
          ],
          "histogram2dcontour": [
           {
            "colorbar": {
             "outlinewidth": 0,
             "ticks": ""
            },
            "colorscale": [
             [
              0,
              "#0d0887"
             ],
             [
              0.1111111111111111,
              "#46039f"
             ],
             [
              0.2222222222222222,
              "#7201a8"
             ],
             [
              0.3333333333333333,
              "#9c179e"
             ],
             [
              0.4444444444444444,
              "#bd3786"
             ],
             [
              0.5555555555555556,
              "#d8576b"
             ],
             [
              0.6666666666666666,
              "#ed7953"
             ],
             [
              0.7777777777777778,
              "#fb9f3a"
             ],
             [
              0.8888888888888888,
              "#fdca26"
             ],
             [
              1,
              "#f0f921"
             ]
            ],
            "type": "histogram2dcontour"
           }
          ],
          "mesh3d": [
           {
            "colorbar": {
             "outlinewidth": 0,
             "ticks": ""
            },
            "type": "mesh3d"
           }
          ],
          "parcoords": [
           {
            "line": {
             "colorbar": {
              "outlinewidth": 0,
              "ticks": ""
             }
            },
            "type": "parcoords"
           }
          ],
          "pie": [
           {
            "automargin": true,
            "type": "pie"
           }
          ],
          "scatter": [
           {
            "marker": {
             "colorbar": {
              "outlinewidth": 0,
              "ticks": ""
             }
            },
            "type": "scatter"
           }
          ],
          "scatter3d": [
           {
            "line": {
             "colorbar": {
              "outlinewidth": 0,
              "ticks": ""
             }
            },
            "marker": {
             "colorbar": {
              "outlinewidth": 0,
              "ticks": ""
             }
            },
            "type": "scatter3d"
           }
          ],
          "scattercarpet": [
           {
            "marker": {
             "colorbar": {
              "outlinewidth": 0,
              "ticks": ""
             }
            },
            "type": "scattercarpet"
           }
          ],
          "scattergeo": [
           {
            "marker": {
             "colorbar": {
              "outlinewidth": 0,
              "ticks": ""
             }
            },
            "type": "scattergeo"
           }
          ],
          "scattergl": [
           {
            "marker": {
             "colorbar": {
              "outlinewidth": 0,
              "ticks": ""
             }
            },
            "type": "scattergl"
           }
          ],
          "scattermapbox": [
           {
            "marker": {
             "colorbar": {
              "outlinewidth": 0,
              "ticks": ""
             }
            },
            "type": "scattermapbox"
           }
          ],
          "scatterpolar": [
           {
            "marker": {
             "colorbar": {
              "outlinewidth": 0,
              "ticks": ""
             }
            },
            "type": "scatterpolar"
           }
          ],
          "scatterpolargl": [
           {
            "marker": {
             "colorbar": {
              "outlinewidth": 0,
              "ticks": ""
             }
            },
            "type": "scatterpolargl"
           }
          ],
          "scatterternary": [
           {
            "marker": {
             "colorbar": {
              "outlinewidth": 0,
              "ticks": ""
             }
            },
            "type": "scatterternary"
           }
          ],
          "surface": [
           {
            "colorbar": {
             "outlinewidth": 0,
             "ticks": ""
            },
            "colorscale": [
             [
              0,
              "#0d0887"
             ],
             [
              0.1111111111111111,
              "#46039f"
             ],
             [
              0.2222222222222222,
              "#7201a8"
             ],
             [
              0.3333333333333333,
              "#9c179e"
             ],
             [
              0.4444444444444444,
              "#bd3786"
             ],
             [
              0.5555555555555556,
              "#d8576b"
             ],
             [
              0.6666666666666666,
              "#ed7953"
             ],
             [
              0.7777777777777778,
              "#fb9f3a"
             ],
             [
              0.8888888888888888,
              "#fdca26"
             ],
             [
              1,
              "#f0f921"
             ]
            ],
            "type": "surface"
           }
          ],
          "table": [
           {
            "cells": {
             "fill": {
              "color": "#EBF0F8"
             },
             "line": {
              "color": "white"
             }
            },
            "header": {
             "fill": {
              "color": "#C8D4E3"
             },
             "line": {
              "color": "white"
             }
            },
            "type": "table"
           }
          ]
         },
         "layout": {
          "annotationdefaults": {
           "arrowcolor": "#2a3f5f",
           "arrowhead": 0,
           "arrowwidth": 1
          },
          "autotypenumbers": "strict",
          "coloraxis": {
           "colorbar": {
            "outlinewidth": 0,
            "ticks": ""
           }
          },
          "colorscale": {
           "diverging": [
            [
             0,
             "#8e0152"
            ],
            [
             0.1,
             "#c51b7d"
            ],
            [
             0.2,
             "#de77ae"
            ],
            [
             0.3,
             "#f1b6da"
            ],
            [
             0.4,
             "#fde0ef"
            ],
            [
             0.5,
             "#f7f7f7"
            ],
            [
             0.6,
             "#e6f5d0"
            ],
            [
             0.7,
             "#b8e186"
            ],
            [
             0.8,
             "#7fbc41"
            ],
            [
             0.9,
             "#4d9221"
            ],
            [
             1,
             "#276419"
            ]
           ],
           "sequential": [
            [
             0,
             "#0d0887"
            ],
            [
             0.1111111111111111,
             "#46039f"
            ],
            [
             0.2222222222222222,
             "#7201a8"
            ],
            [
             0.3333333333333333,
             "#9c179e"
            ],
            [
             0.4444444444444444,
             "#bd3786"
            ],
            [
             0.5555555555555556,
             "#d8576b"
            ],
            [
             0.6666666666666666,
             "#ed7953"
            ],
            [
             0.7777777777777778,
             "#fb9f3a"
            ],
            [
             0.8888888888888888,
             "#fdca26"
            ],
            [
             1,
             "#f0f921"
            ]
           ],
           "sequentialminus": [
            [
             0,
             "#0d0887"
            ],
            [
             0.1111111111111111,
             "#46039f"
            ],
            [
             0.2222222222222222,
             "#7201a8"
            ],
            [
             0.3333333333333333,
             "#9c179e"
            ],
            [
             0.4444444444444444,
             "#bd3786"
            ],
            [
             0.5555555555555556,
             "#d8576b"
            ],
            [
             0.6666666666666666,
             "#ed7953"
            ],
            [
             0.7777777777777778,
             "#fb9f3a"
            ],
            [
             0.8888888888888888,
             "#fdca26"
            ],
            [
             1,
             "#f0f921"
            ]
           ]
          },
          "colorway": [
           "#636efa",
           "#EF553B",
           "#00cc96",
           "#ab63fa",
           "#FFA15A",
           "#19d3f3",
           "#FF6692",
           "#B6E880",
           "#FF97FF",
           "#FECB52"
          ],
          "font": {
           "color": "#2a3f5f"
          },
          "geo": {
           "bgcolor": "white",
           "lakecolor": "white",
           "landcolor": "#E5ECF6",
           "showlakes": true,
           "showland": true,
           "subunitcolor": "white"
          },
          "hoverlabel": {
           "align": "left"
          },
          "hovermode": "closest",
          "mapbox": {
           "style": "light"
          },
          "paper_bgcolor": "white",
          "plot_bgcolor": "#E5ECF6",
          "polar": {
           "angularaxis": {
            "gridcolor": "white",
            "linecolor": "white",
            "ticks": ""
           },
           "bgcolor": "#E5ECF6",
           "radialaxis": {
            "gridcolor": "white",
            "linecolor": "white",
            "ticks": ""
           }
          },
          "scene": {
           "xaxis": {
            "backgroundcolor": "#E5ECF6",
            "gridcolor": "white",
            "gridwidth": 2,
            "linecolor": "white",
            "showbackground": true,
            "ticks": "",
            "zerolinecolor": "white"
           },
           "yaxis": {
            "backgroundcolor": "#E5ECF6",
            "gridcolor": "white",
            "gridwidth": 2,
            "linecolor": "white",
            "showbackground": true,
            "ticks": "",
            "zerolinecolor": "white"
           },
           "zaxis": {
            "backgroundcolor": "#E5ECF6",
            "gridcolor": "white",
            "gridwidth": 2,
            "linecolor": "white",
            "showbackground": true,
            "ticks": "",
            "zerolinecolor": "white"
           }
          },
          "shapedefaults": {
           "line": {
            "color": "#2a3f5f"
           }
          },
          "ternary": {
           "aaxis": {
            "gridcolor": "white",
            "linecolor": "white",
            "ticks": ""
           },
           "baxis": {
            "gridcolor": "white",
            "linecolor": "white",
            "ticks": ""
           },
           "bgcolor": "#E5ECF6",
           "caxis": {
            "gridcolor": "white",
            "linecolor": "white",
            "ticks": ""
           }
          },
          "title": {
           "x": 0.05
          },
          "xaxis": {
           "automargin": true,
           "gridcolor": "white",
           "linecolor": "white",
           "ticks": "",
           "title": {
            "standoff": 15
           },
           "zerolinecolor": "white",
           "zerolinewidth": 2
          },
          "yaxis": {
           "automargin": true,
           "gridcolor": "white",
           "linecolor": "white",
           "ticks": "",
           "title": {
            "standoff": 15
           },
           "zerolinecolor": "white",
           "zerolinewidth": 2
          }
         }
        },
        "xaxis": {
         "anchor": "y",
         "domain": [
          0,
          1
         ],
         "title": {
          "text": "Post Date"
         }
        },
        "yaxis": {
         "anchor": "x",
         "domain": [
          0,
          1
         ],
         "title": {
          "text": "pos"
         }
        }
       }
      },
      "text/html": [
       "<div>                            <div id=\"170f6c70-9c7e-4546-9d1d-e728acf7dc15\" class=\"plotly-graph-div\" style=\"height:525px; width:100%;\"></div>            <script type=\"text/javascript\">                require([\"plotly\"], function(Plotly) {                    window.PLOTLYENV=window.PLOTLYENV || {};                                    if (document.getElementById(\"170f6c70-9c7e-4546-9d1d-e728acf7dc15\")) {                    Plotly.newPlot(                        \"170f6c70-9c7e-4546-9d1d-e728acf7dc15\",                        [{\"hovertemplate\": \"Sentiment=Neutral<br>Post Date=%{x}<br>pos=%{y}<extra></extra>\", \"legendgroup\": \"Neutral\", \"line\": {\"color\": \"#636efa\", \"dash\": \"solid\"}, \"mode\": \"lines\", \"name\": \"Neutral\", \"showlegend\": true, \"type\": \"scattergl\", \"x\": [\"2019-10-10T05:58:05.73\", \"2019-10-11T14:24:15.807\", \"2019-10-23T03:37:35.103\", \"2019-10-23T12:09:17.84\", \"2019-11-12T00:41:34.433\", \"2019-11-13T03:30:36.293\", \"2019-11-14T11:29:20.21\", \"2019-11-20T10:36:40.83\", \"2019-11-21T13:38:42.807\", \"2019-12-09T10:45:09.32\", \"2019-12-11T11:57:54.773\", \"2019-12-18T14:19:48.24\", \"2019-12-24T07:53:51.783\", \"2019-12-27T18:14:34.557\", \"2020-01-07T13:43:06.053\", \"2020-01-11T05:17:09.423\", \"2020-01-14T07:36:27.793\", \"2020-01-15T13:11:10.033\", \"2020-01-16T20:37:57.323\", \"2020-01-20T07:01:58.37\", \"2020-01-22T15:21:03.853\", \"2020-01-23T09:12:43.07\", \"2020-01-24T15:38:37.98\", \"2020-01-29T01:21:00.2\", \"2020-02-04T20:18:44.27\", \"2020-02-05T15:34:55.653\", \"2020-02-12T18:31:25.547\", \"2020-02-14T11:00:46.067\", \"2020-02-18T09:57:28.06\", \"2020-02-20T09:07:37.297\", \"2020-02-26T09:59:17.067\", \"2020-02-28T04:40:42.623\", \"2020-03-10T07:07:09.317\", \"2020-03-10T13:47:55.803\", \"2020-03-11T12:02:24.97\", \"2020-03-20T09:52:08.827\", \"2020-04-03T01:06:02.82\", \"2020-04-07T16:29:10.43\", \"2020-04-24T09:15:41.46\", \"2020-04-27T03:25:15.807\", \"2020-05-03T16:49:31.43\", \"2020-05-13T15:13:24.907\", \"2020-05-14T09:38:15.473\", \"2020-05-19T13:23:05.93\", \"2020-05-22T12:43:12.977\", \"2020-05-27T08:09:30.657\", \"2020-05-28T11:43:06.343\", \"2020-05-31T21:49:48.113\", \"2020-06-01T07:06:15.03\", \"2020-06-03T08:38:37.627\", \"2020-06-17T10:39:43.347\", \"2020-06-21T05:58:52.79\", \"2020-07-01T03:24:12.553\", \"2020-07-02T16:17:26.273\", \"2020-07-09T15:25:26.863\", \"2020-07-21T10:23:05.597\", \"2020-07-24T02:00:04.097\", \"2020-08-11T06:23:35.727\", \"2020-08-13T05:21:38.977\", \"2020-08-13T14:00:56.303\", \"2020-08-17T17:09:22.07\", \"2020-08-27T04:28:56.903\", \"2020-09-01T12:00:23.027\", \"2020-09-03T15:16:17.96\", \"2020-09-08T05:00:37.097\", \"2020-09-10T06:34:35.72\", \"2020-09-20T12:16:21.403\", \"2020-09-21T16:37:39.7\", \"2020-09-29T18:14:05.84\", \"2020-09-29T18:29:04.81\", \"2020-10-02T09:26:32.68\", \"2020-10-15T14:35:43.96\", \"2020-10-16T13:34:13.343\", \"2020-10-22T13:47:42.993\", \"2020-10-22T17:19:54.477\", \"2020-10-27T16:57:39.52\", \"2020-10-29T11:10:06.717\", \"2020-11-02T09:41:44.807\", \"2020-11-05T12:22:50.65\", \"2020-11-05T13:57:09.393\", \"2020-11-11T11:27:29.283\", \"2020-11-16T02:39:45.893\", \"2020-11-18T06:54:44.173\", \"2020-11-19T12:44:09.52\", \"2020-11-20T10:05:42.53\", \"2020-11-24T16:02:26.117\", \"2020-11-25T11:59:22.583\", \"2020-12-06T22:33:26.473\", \"2020-12-10T16:45:56.92\", \"2020-12-27T01:57:08.607\", \"2020-12-29T11:55:09.773\", \"2021-01-11T05:30:23.477\", \"2021-01-12T09:52:23.923\", \"2021-01-16T04:10:22.447\", \"2021-01-19T14:58:12.793\", \"2021-01-29T09:32:23.31\", \"2021-02-02T02:54:29.54\", \"2021-02-03T04:07:38.773\", \"2021-02-05T01:44:05.203\", \"2021-02-24T07:45:06.977\", \"2021-03-09T07:01:54.71\", \"2021-03-18T02:51:39.69\", \"2021-03-18T13:51:25.81\", \"2021-03-25T14:46:51.637\", \"2021-04-09T18:43:03.997\", \"2021-04-22T16:37:41.357\", \"2021-04-23T09:14:59.607\", \"2021-04-27T16:38:41.177\", \"2021-05-10T14:33:41.143\"], \"xaxis\": \"x\", \"y\": [0.064, 0.0, 0.0, 0.056, 0.0, 0.0, 0.0, 0.038, 0.0, 0.0, 0.0, 0.0, 0.0, 0.0, 0.0, 0.0, 0.0, 0.0, 0.0, 0.0, 0.052, 0.0, 0.0, 0.0, 0.0, 0.0, 0.055, 0.043, 0.022, 0.0, 0.0, 0.0, 0.0, 0.0, 0.0, 0.0, 0.0, 0.0, 0.0, 0.0, 0.0, 0.0, 0.0, 0.0, 0.054, 0.0, 0.0, 0.16, 0.0, 0.0, 0.0, 0.0, 0.0, 0.032, 0.0, 0.022, 0.0, 0.0, 0.051, 0.0, 0.179, 0.0, 0.0, 0.0, 0.0, 0.112, 0.0, 0.0, 0.0, 0.0, 0.01, 0.0, 0.0, 0.0, 0.0, 0.0, 0.0, 0.0, 0.0, 0.0, 0.11, 0.0, 0.056, 0.0, 0.055, 0.095, 0.0, 0.0, 0.0, 0.103, 0.0, 0.0, 0.09, 0.0, 0.0, 0.0, 0.025, 0.061, 0.0, 0.0, 0.0, 0.0, 0.0, 0.0, 0.092, 0.0, 0.0, 0.0, 0.0], \"yaxis\": \"y\"}, {\"hovertemplate\": \"Sentiment=Positive<br>Post Date=%{x}<br>pos=%{y}<extra></extra>\", \"legendgroup\": \"Positive\", \"line\": {\"color\": \"#EF553B\", \"dash\": \"solid\"}, \"mode\": \"lines\", \"name\": \"Positive\", \"showlegend\": true, \"type\": \"scattergl\", \"x\": [\"2019-10-10T12:44:35.957\", \"2019-10-10T14:56:52.947\", \"2019-10-10T15:41:06.877\", \"2019-10-10T20:56:53.483\", \"2019-10-11T13:10:28.983\", \"2019-10-11T16:02:41.787\", \"2019-10-13T20:01:08.897\", \"2019-10-14T08:33:18.01\", \"2019-10-16T11:20:54.023\", \"2019-10-16T14:12:45.5\", \"2019-10-17T09:14:34.753\", \"2019-10-17T10:16:15.513\", \"2019-10-17T12:09:02.91\", \"2019-10-17T23:59:14.523\", \"2019-10-18T14:58:06.717\", \"2019-10-21T06:08:38.347\", \"2019-10-21T16:06:55.323\", \"2019-10-22T08:16:13.563\", \"2019-10-22T16:27:23.92\", \"2019-10-22T18:07:48.827\", \"2019-10-23T08:20:38.087\", \"2019-10-23T11:38:26.887\", \"2019-10-24T04:42:08.237\", \"2019-10-24T09:59:56.077\", \"2019-10-24T16:34:04.713\", \"2019-10-28T15:36:47.907\", \"2019-10-29T06:01:19.783\", \"2019-10-29T10:29:47.95\", \"2019-10-29T16:46:32.203\", \"2019-10-29T17:04:40.463\", \"2019-10-30T04:45:07.257\", \"2019-10-30T15:33:07.45\", \"2019-10-30T18:41:07.37\", \"2019-10-31T12:35:06.993\", \"2019-11-01T07:44:02.54\", \"2019-11-04T17:47:37.86\", \"2019-11-06T06:04:59.007\", \"2019-11-06T10:08:50.95\", \"2019-11-06T10:27:39.52\", \"2019-11-08T20:33:59.89\", \"2019-11-09T11:37:29.693\", \"2019-11-11T05:59:42.987\", \"2019-11-11T11:39:44.857\", \"2019-11-11T13:02:34.017\", \"2019-11-12T18:42:03.247\", \"2019-11-13T09:35:33.91\", \"2019-11-13T23:52:26.683\", \"2019-11-14T06:03:35.53\", \"2019-11-14T09:45:03.713\", \"2019-11-14T13:10:08.303\", \"2019-11-18T04:12:03.657\", \"2019-11-18T15:17:49.503\", \"2019-11-18T16:11:15.36\", \"2019-11-18T17:18:32.137\", \"2019-11-18T19:25:44.17\", \"2019-11-19T02:48:28.417\", \"2019-11-19T10:27:37.423\", \"2019-11-19T11:00:35.74\", \"2019-11-19T20:00:10.803\", \"2019-11-20T12:24:54.847\", \"2019-11-21T00:07:58.053\", \"2019-11-21T14:08:12.47\", \"2019-11-21T18:13:29.69\", \"2019-11-22T07:29:58.45\", \"2019-11-22T12:44:01.59\", \"2019-11-23T12:26:35.197\", \"2019-11-26T08:17:12.663\", \"2019-11-27T10:39:18.173\", \"2019-11-27T21:15:11.89\", \"2019-11-28T04:58:07.76\", \"2019-12-02T07:06:03.57\", \"2019-12-02T15:42:44.927\", \"2019-12-02T21:04:51.46\", \"2019-12-03T07:56:40.55\", \"2019-12-03T10:45:44.023\", \"2019-12-04T11:59:55.687\", \"2019-12-05T11:04:33.51\", \"2019-12-05T12:28:17.997\", \"2019-12-09T07:25:39.22\", \"2019-12-09T10:53:03.993\", \"2019-12-09T12:45:56.217\", \"2019-12-10T08:52:36.997\", \"2019-12-10T10:14:02.33\", \"2019-12-10T11:53:33.71\", \"2019-12-10T18:25:49.657\", \"2019-12-11T11:26:46.79\", \"2019-12-12T11:05:43.68\", \"2019-12-13T09:43:03.027\", \"2019-12-17T03:54:27.833\", \"2019-12-17T05:30:55.173\", \"2019-12-17T09:31:11.343\", \"2019-12-17T11:21:51.1\", \"2019-12-17T12:36:10.797\", \"2019-12-17T22:05:31.297\", \"2019-12-18T02:18:53.803\", \"2019-12-18T04:43:33.147\", \"2019-12-18T07:43:12.083\", \"2019-12-20T14:25:22.243\", \"2019-12-21T07:31:20.647\", \"2019-12-26T08:18:44.133\", \"2019-12-26T11:59:21.053\", \"2019-12-28T03:55:55.687\", \"2019-12-30T13:08:12.05\", \"2019-12-30T13:53:51.783\", \"2020-01-02T06:49:33.107\", \"2020-01-02T09:53:02.633\", \"2020-01-02T16:36:17.35\", \"2020-01-03T12:08:04.033\", \"2020-01-03T16:41:12.803\", \"2020-01-06T12:19:26.157\", \"2020-01-06T17:04:29.283\", \"2020-01-06T17:40:07.413\", \"2020-01-07T04:10:45.22\", \"2020-01-07T04:51:00.893\", \"2020-01-07T10:24:06.313\", \"2020-01-07T11:18:19.473\", \"2020-01-07T15:38:23.8\", \"2020-01-07T16:18:56.733\", \"2020-01-08T16:28:49.287\", \"2020-01-09T01:31:01.17\", \"2020-01-09T06:33:51.44\", \"2020-01-09T12:05:38.153\", \"2020-01-10T15:06:17.673\", \"2020-01-10T15:54:12.933\", \"2020-01-13T12:21:50.72\", \"2020-01-13T13:00:29.71\", \"2020-01-14T15:06:33.63\", \"2020-01-15T04:12:20.593\", \"2020-01-15T09:52:42.417\", \"2020-01-15T19:14:38.547\", \"2020-01-16T10:00:09.903\", \"2020-01-16T17:27:43.697\", \"2020-01-18T01:12:31.457\", \"2020-01-18T07:43:39.573\", \"2020-01-20T00:07:25.07\", \"2020-01-20T06:57:25.193\", \"2020-01-20T06:59:28.963\", \"2020-01-20T14:25:20.393\", \"2020-01-20T14:45:16.097\", \"2020-01-22T15:07:27.347\", \"2020-01-23T08:30:02.617\", \"2020-01-25T16:27:33.3\", \"2020-01-27T12:47:35.913\", \"2020-01-27T13:06:07.103\", \"2020-01-27T19:11:17.547\", \"2020-01-30T18:43:33.303\", \"2020-01-31T00:48:04.5\", \"2020-01-31T08:03:58.81\", \"2020-02-01T05:35:29.75\", \"2020-02-02T13:10:27.66\", \"2020-02-02T17:09:13.667\", \"2020-02-03T04:12:16.153\", \"2020-02-04T09:46:39.103\", \"2020-02-05T12:57:51.92\", \"2020-02-07T10:19:14.993\", \"2020-02-10T12:07:23.167\", \"2020-02-10T12:23:06.927\", \"2020-02-10T12:51:43.717\", \"2020-02-10T17:12:39.753\", \"2020-02-11T17:58:49.54\", \"2020-02-12T06:28:17.963\", \"2020-02-12T14:03:31.393\", \"2020-02-12T15:16:51.137\", \"2020-02-13T04:33:31.503\", \"2020-02-13T07:03:33.427\", \"2020-02-17T16:50:09.627\", \"2020-02-18T02:27:54.503\", \"2020-02-18T10:33:31.103\", \"2020-02-18T11:09:26.847\", \"2020-02-20T18:55:20.497\", \"2020-02-21T04:19:57.7\", \"2020-02-21T06:32:06.093\", \"2020-02-21T12:36:02.74\", \"2020-02-21T13:01:12.36\", \"2020-02-21T18:07:34.15\", \"2020-02-23T02:07:04.06\", \"2020-02-24T05:14:04.183\", \"2020-02-24T09:39:05.69\", \"2020-02-24T15:46:47.507\", \"2020-02-25T03:52:03.343\", \"2020-02-26T16:38:14.707\", \"2020-02-27T12:11:29.997\", \"2020-02-28T10:58:22.157\", \"2020-02-28T12:00:12.227\", \"2020-02-28T12:41:38.88\", \"2020-02-29T01:03:40.683\", \"2020-03-01T02:40:06.913\", \"2020-03-01T10:01:48.487\", \"2020-03-01T23:59:56.043\", \"2020-03-02T14:28:29.457\", \"2020-03-03T00:00:27.147\", \"2020-03-03T04:30:14.143\", \"2020-03-03T06:44:29.51\", \"2020-03-03T07:23:34.21\", \"2020-03-04T03:34:45.237\", \"2020-03-04T10:43:21.66\", \"2020-03-05T20:40:47.497\", \"2020-03-06T16:53:23.053\", \"2020-03-07T06:36:24.19\", \"2020-03-08T12:22:18.35\", \"2020-03-08T18:22:20.403\", \"2020-03-09T07:47:26.907\", \"2020-03-10T02:49:49.197\", \"2020-03-12T03:22:56.907\", \"2020-03-12T05:01:18.27\", \"2020-03-12T09:32:11.43\", \"2020-03-12T16:24:51.943\", \"2020-03-13T02:20:48.573\", \"2020-03-13T18:05:09.727\", \"2020-03-16T05:51:59.12\", \"2020-03-16T13:41:01.863\", \"2020-03-17T01:11:48.753\", \"2020-03-17T02:14:25.67\", \"2020-03-17T11:01:28.317\", \"2020-03-18T06:06:20.797\", \"2020-03-19T09:31:32.573\", \"2020-03-20T09:02:42.493\", \"2020-03-22T12:10:06.073\", \"2020-03-22T23:11:53.447\", \"2020-03-23T11:06:50.057\", \"2020-03-23T23:34:21.613\", \"2020-03-24T16:40:36.357\", \"2020-03-25T05:31:26.553\", \"2020-03-25T13:28:17.627\", \"2020-03-25T13:53:46.49\", \"2020-03-27T09:21:56.483\", \"2020-03-28T01:28:47.883\", \"2020-03-30T09:08:24.897\", \"2020-03-30T15:21:41.037\", \"2020-03-30T21:20:56.607\", \"2020-03-31T11:25:34.507\", \"2020-03-31T13:27:36.39\", \"2020-04-01T16:02:10.643\", \"2020-04-02T00:43:12.03\", \"2020-04-07T12:32:04.843\", \"2020-04-08T00:15:17.853\", \"2020-04-08T03:50:11.817\", \"2020-04-08T10:13:33.427\", \"2020-04-08T18:27:22.337\", \"2020-04-10T09:08:10.833\", \"2020-04-10T19:21:56.537\", \"2020-04-13T10:16:13.573\", \"2020-04-13T12:45:52.543\", \"2020-04-13T14:36:36.72\", \"2020-04-14T08:25:03.7\", \"2020-04-15T05:26:43.887\", \"2020-04-16T17:32:12.887\", \"2020-04-17T17:21:10.267\", \"2020-04-17T18:09:09.38\", \"2020-04-17T19:28:32.667\", \"2020-04-20T06:46:13.263\", \"2020-04-20T09:45:40.793\", \"2020-04-21T06:43:58.953\", \"2020-04-22T17:52:12.143\", \"2020-04-23T11:51:48.66\", \"2020-04-23T12:48:56.067\", \"2020-04-23T13:42:27.423\", \"2020-04-23T19:33:37.777\", \"2020-04-24T12:08:53.497\", \"2020-04-24T17:33:44.47\", \"2020-04-27T11:04:11.827\", \"2020-04-27T12:09:32.6\", \"2020-04-28T14:16:24.483\", \"2020-04-28T14:23:25.457\", \"2020-04-28T14:54:09.24\", \"2020-04-28T15:58:10.627\", \"2020-04-29T06:42:53.09\", \"2020-04-29T11:08:12.53\", \"2020-04-30T10:03:05.167\", \"2020-05-01T07:55:41.06\", \"2020-05-01T13:27:08.093\", \"2020-05-01T18:13:11.793\", \"2020-05-05T07:56:04.453\", \"2020-05-05T08:43:05.083\", \"2020-05-05T19:02:17.003\", \"2020-05-06T01:58:51.927\", \"2020-05-06T09:55:41.613\", \"2020-05-06T11:33:27.64\", \"2020-05-07T07:48:02.343\", \"2020-05-07T14:40:24.16\", \"2020-05-07T17:22:42.663\", \"2020-05-07T17:58:50.36\", \"2020-05-08T11:05:30.22\", \"2020-05-08T18:50:29.917\", \"2020-05-10T15:38:34.823\", \"2020-05-10T22:06:56.483\", \"2020-05-11T04:18:33.723\", \"2020-05-11T10:39:05.677\", \"2020-05-11T18:12:14.043\", \"2020-05-12T06:46:53.073\", \"2020-05-12T23:39:37.837\", \"2020-05-13T12:09:34.583\", \"2020-05-14T13:46:07.237\", \"2020-05-19T01:36:19.2\", \"2020-05-19T10:58:19.68\", \"2020-05-19T22:57:51.593\", \"2020-05-19T23:57:36.38\", \"2020-05-21T08:01:48.667\", \"2020-05-21T16:17:26.79\", \"2020-05-22T13:38:46.373\", \"2020-05-26T04:19:19.857\", \"2020-05-26T05:29:41.38\", \"2020-05-27T09:42:57.963\", \"2020-05-27T11:51:09.957\", \"2020-05-27T16:13:12.423\", \"2020-05-28T10:50:38.12\", \"2020-05-28T13:55:04.59\", \"2020-05-28T13:55:17.233\", \"2020-05-28T15:02:38.937\", \"2020-06-01T03:45:36.143\", \"2020-06-01T23:54:24.347\", \"2020-06-02T06:25:02.487\", \"2020-06-04T08:46:29.137\", \"2020-06-04T08:47:30.443\", \"2020-06-05T08:37:45.887\", \"2020-06-08T11:30:52.127\", \"2020-06-10T15:48:56.787\", \"2020-06-11T05:44:23.893\", \"2020-06-11T10:48:33.063\", \"2020-06-11T16:44:25.303\", \"2020-06-12T04:26:21.537\", \"2020-06-13T20:34:20.54\", \"2020-06-15T00:18:26.877\", \"2020-06-15T18:21:18.607\", \"2020-06-17T07:44:27.62\", \"2020-06-17T18:17:42.787\", \"2020-06-17T21:20:44.363\", \"2020-06-18T03:41:34.283\", \"2020-06-18T18:45:45.943\", \"2020-06-19T05:28:43.413\", \"2020-06-19T07:23:48.88\", \"2020-06-19T13:04:31.18\", \"2020-06-19T13:05:50.277\", \"2020-06-20T20:04:07.61\", \"2020-06-22T07:57:18.433\", \"2020-06-22T15:20:53.23\", \"2020-06-22T17:32:37.193\", \"2020-06-25T03:09:04.55\", \"2020-06-26T07:38:55.12\", \"2020-07-01T08:43:32.99\", \"2020-07-02T09:20:12.7\", \"2020-07-02T10:21:06.57\", \"2020-07-08T09:33:24.407\", \"2020-07-08T16:56:19.757\", \"2020-07-09T16:22:26.66\", \"2020-07-09T16:28:26.983\", \"2020-07-10T15:53:37.277\", \"2020-07-10T18:57:48.173\", \"2020-07-14T05:01:01.39\", \"2020-07-15T03:11:16.5\", \"2020-07-15T06:32:14.56\", \"2020-07-15T17:54:55.167\", \"2020-07-16T04:35:29.63\", \"2020-07-16T07:33:35.41\", \"2020-07-16T11:36:35.183\", \"2020-07-16T16:31:52.563\", \"2020-07-20T23:00:15.057\", \"2020-07-21T06:17:01.253\", \"2020-07-21T15:20:11.183\", \"2020-07-22T05:55:52.447\", \"2020-07-22T16:48:52.953\", \"2020-07-22T23:35:16.743\", \"2020-07-23T15:51:45.183\", \"2020-07-23T16:46:00.053\", \"2020-07-27T13:56:35.087\", \"2020-07-28T11:16:57.777\", \"2020-07-28T11:20:26.603\", \"2020-07-28T11:47:30.707\", \"2020-07-29T08:18:11.907\", \"2020-07-29T09:13:44.577\", \"2020-07-29T10:45:28.61\", \"2020-07-30T14:51:34.69\", \"2020-07-30T16:20:18.783\", \"2020-08-03T14:31:32.377\", \"2020-08-03T15:16:16.62\", \"2020-08-05T12:27:19.103\", \"2020-08-05T13:19:23.943\", \"2020-08-06T12:04:03.013\", \"2020-08-07T15:34:48.087\", \"2020-08-10T12:13:23.673\", \"2020-08-11T03:18:56.48\", \"2020-08-12T07:54:44.907\", \"2020-08-13T09:27:35.497\", \"2020-08-13T13:58:17.28\", \"2020-08-13T19:32:19.49\", \"2020-08-14T04:43:10.42\", \"2020-08-14T10:33:47.637\", \"2020-08-14T14:39:35.21\", \"2020-08-18T07:01:56.34\", \"2020-08-19T10:47:49.9\", \"2020-08-19T14:31:13.88\", \"2020-08-20T16:16:04.203\", \"2020-08-20T18:20:03.123\", \"2020-08-21T02:02:10.857\", \"2020-08-21T14:50:21.077\", \"2020-08-21T15:36:03.473\", \"2020-08-24T02:26:12.913\", \"2020-08-24T03:55:16.187\", \"2020-08-24T07:30:08.877\", \"2020-08-24T09:13:29.1\", \"2020-08-25T09:37:23.29\", \"2020-08-25T13:34:40.817\", \"2020-08-26T02:11:50.003\", \"2020-08-26T10:34:15.32\", \"2020-08-26T11:13:50.613\", \"2020-08-27T11:25:26.827\", \"2020-08-27T11:40:36.677\", \"2020-08-27T14:20:01.203\", \"2020-08-27T14:59:03.177\", \"2020-08-28T04:12:14.89\", \"2020-08-28T12:20:32.08\", \"2020-08-31T09:41:46.203\", \"2020-09-01T08:29:04.687\", \"2020-09-02T13:28:25.653\", \"2020-09-03T02:01:33.75\", \"2020-09-03T09:26:58.127\", \"2020-09-03T11:55:40.83\", \"2020-09-04T02:35:33.15\", \"2020-09-07T03:14:01.783\", \"2020-09-08T03:24:11.603\", \"2020-09-08T05:40:25.34\", \"2020-09-08T12:13:05.57\", \"2020-09-08T14:17:04.713\", \"2020-09-09T14:46:03.91\", \"2020-09-09T15:33:09.883\", \"2020-09-10T06:00:56.927\", \"2020-09-10T12:15:08.11\", \"2020-09-10T16:25:03.4\", \"2020-09-11T11:54:43.767\", \"2020-09-11T17:57:16.44\", \"2020-09-13T05:09:37.187\", \"2020-09-13T12:40:21.163\", \"2020-09-14T08:48:44.357\", \"2020-09-15T08:11:30.217\", \"2020-09-15T11:40:17.6\", \"2020-09-15T19:54:20.857\", \"2020-09-16T06:13:11.593\", \"2020-09-16T08:15:45.44\", \"2020-09-16T09:57:44.517\", \"2020-09-16T12:02:57.383\", \"2020-09-16T14:20:14.03\", \"2020-09-16T16:01:59.473\", \"2020-09-16T16:33:38.75\", \"2020-09-16T16:52:38.42\", \"2020-09-17T11:41:44.053\", \"2020-09-17T14:55:23.447\", \"2020-09-17T16:37:00.077\", \"2020-09-18T07:33:41.723\", \"2020-09-18T10:46:34.367\", \"2020-09-21T09:58:43.167\", \"2020-09-21T16:47:19.263\", \"2020-09-22T00:02:42.337\", \"2020-09-22T06:17:08.973\", \"2020-09-22T12:21:03.637\", \"2020-09-23T12:45:54.313\", \"2020-09-23T14:50:02.017\", \"2020-09-23T14:50:53.77\", \"2020-09-23T14:51:39.347\", \"2020-09-23T15:15:00.187\", \"2020-09-24T13:12:57.107\", \"2020-09-24T19:12:48.583\", \"2020-09-25T06:21:34.47\", \"2020-09-25T15:10:56.223\", \"2020-09-25T21:10:47.287\", \"2020-09-27T03:01:48.877\", \"2020-09-28T07:28:53.443\", \"2020-09-28T13:41:47.603\", \"2020-09-29T10:42:52.203\", \"2020-09-29T10:58:24.237\", \"2020-09-29T11:43:39.463\", \"2020-10-01T04:05:51.267\", \"2020-10-01T15:18:19.523\", \"2020-10-04T06:57:42.663\", \"2020-10-06T10:36:52.983\", \"2020-10-06T12:46:04.483\", \"2020-10-07T04:36:43.39\", \"2020-10-07T16:31:35.887\", \"2020-10-07T16:43:08.117\", \"2020-10-08T08:52:50.623\", \"2020-10-09T02:01:00.407\", \"2020-10-12T09:03:36.163\", \"2020-10-12T20:34:39.057\", \"2020-10-14T06:43:01.837\", \"2020-10-14T09:31:09.873\", \"2020-10-14T13:41:44.907\", \"2020-10-14T13:52:09.94\", \"2020-10-15T06:57:57.13\", \"2020-10-16T10:01:41.817\", \"2020-10-16T12:33:29.753\", \"2020-10-17T11:21:17.997\", \"2020-10-17T21:00:48.037\", \"2020-10-19T15:39:33.853\", \"2020-10-19T22:07:22.383\", \"2020-10-20T03:00:27.94\", \"2020-10-21T04:53:38.967\", \"2020-10-21T06:22:02.867\", \"2020-10-21T09:30:56.74\", \"2020-10-21T10:44:23.66\", \"2020-10-22T14:31:26.257\", \"2020-10-22T17:17:54.993\", \"2020-10-23T07:50:08.56\", \"2020-10-23T12:09:06.92\", \"2020-10-23T16:06:11.243\", \"2020-10-24T16:03:56.137\", \"2020-10-25T08:22:12.38\", \"2020-10-25T16:01:58.43\", \"2020-10-26T05:46:15.347\", \"2020-10-29T02:25:33.677\", \"2020-10-29T14:45:52.203\", \"2020-10-30T15:24:32.273\", \"2020-11-03T09:15:35.397\", \"2020-11-03T14:16:21.633\", \"2020-11-04T08:18:34.06\", \"2020-11-06T03:12:33.02\", \"2020-11-07T02:30:08.94\", \"2020-11-08T12:42:54.723\", \"2020-11-08T12:48:07.61\", \"2020-11-09T10:51:40.613\", \"2020-11-11T05:50:59.56\", \"2020-11-11T09:58:05.707\", \"2020-11-11T15:13:05.847\", \"2020-11-11T16:53:07.01\", \"2020-11-12T05:28:55.913\", \"2020-11-12T14:47:17.27\", \"2020-11-13T03:08:25.797\", \"2020-11-14T14:04:27.383\", \"2020-11-16T11:23:16.327\", \"2020-11-16T11:25:19.08\", \"2020-11-18T11:32:37.993\", \"2020-11-18T12:30:24.143\", \"2020-11-18T12:37:55.147\", \"2020-11-18T19:18:53.403\", \"2020-11-19T09:30:41.29\", \"2020-11-20T14:00:44.387\", \"2020-11-20T16:00:00.39\", \"2020-11-21T05:08:51.133\", \"2020-11-22T23:21:07.067\", \"2020-11-23T01:58:09.64\", \"2020-11-24T10:58:17.443\", \"2020-11-24T15:09:06.143\", \"2020-11-24T20:48:57.933\", \"2020-11-25T12:40:55.58\", \"2020-11-25T14:28:28.507\", \"2020-11-25T15:43:04.867\", \"2020-11-30T16:32:19.377\", \"2020-12-02T09:26:16.583\", \"2020-12-04T18:13:27.287\", \"2020-12-06T08:25:07.433\", \"2020-12-08T11:32:56.12\", \"2020-12-08T12:43:52.023\", \"2020-12-08T15:13:24.93\", \"2020-12-09T10:04:40.567\", \"2020-12-10T03:32:44.07\", \"2020-12-10T16:03:19.67\", \"2020-12-15T11:43:28.143\", \"2020-12-15T13:24:34.04\", \"2020-12-16T05:04:16.433\", \"2020-12-16T13:34:06.637\", \"2020-12-16T21:46:56.413\", \"2020-12-18T03:06:14.177\", \"2020-12-18T11:11:07.787\", \"2020-12-21T17:49:39.223\", \"2020-12-22T05:06:26.697\", \"2020-12-23T10:59:14.423\", \"2020-12-24T00:03:53.283\", \"2020-12-26T15:56:58.257\", \"2020-12-27T11:57:47.007\", \"2020-12-27T14:12:00.18\", \"2020-12-28T10:34:01.52\", \"2020-12-28T11:57:21.447\", \"2020-12-29T17:22:22.603\", \"2020-12-30T10:05:14.57\", \"2020-12-31T18:03:21.66\", \"2021-01-01T07:00:15.443\", \"2021-01-03T22:55:07.463\", \"2021-01-04T07:41:29.507\", \"2021-01-04T07:48:38.72\", \"2021-01-04T08:49:11.093\", \"2021-01-04T12:26:12.183\", \"2021-01-05T09:54:38.063\", \"2021-01-05T10:07:21.227\", \"2021-01-05T20:16:38.75\", \"2021-01-06T12:25:16.487\", \"2021-01-06T14:50:39.423\", \"2021-01-07T00:43:54.317\", \"2021-01-08T03:57:53.35\", \"2021-01-11T16:25:58.88\", \"2021-01-11T22:44:21.93\", \"2021-01-12T07:40:27.073\", \"2021-01-14T13:55:54.143\", \"2021-01-15T11:36:31.313\", \"2021-01-16T19:32:13.78\", \"2021-01-18T05:59:41.04\", \"2021-01-19T13:53:44.657\", \"2021-01-20T07:11:18.693\", \"2021-01-20T15:38:36.633\", \"2021-01-20T16:13:02.5\", \"2021-01-21T17:46:44.013\", \"2021-01-22T13:54:36.95\", \"2021-01-22T15:20:52.107\", \"2021-01-23T00:52:07.6\", \"2021-01-25T03:57:52.733\", \"2021-01-25T10:05:26.427\", \"2021-01-25T12:51:33.14\", \"2021-01-25T17:07:17.423\", \"2021-01-27T09:22:55.277\", \"2021-01-27T09:22:55.547\", \"2021-01-27T09:28:32.857\", \"2021-01-28T11:33:34.887\", \"2021-01-29T05:09:45.457\", \"2021-01-30T02:44:24.313\", \"2021-02-01T14:35:54.11\", \"2021-02-02T09:15:33.837\", \"2021-02-04T18:52:41.68\", \"2021-02-07T01:35:51.77\", \"2021-02-07T03:45:35.85\", \"2021-02-07T22:47:17.563\", \"2021-02-08T04:21:46.14\", \"2021-02-08T20:23:34.343\", \"2021-02-09T05:36:55.147\", \"2021-02-09T07:28:04.943\", \"2021-02-10T11:48:40.4\", \"2021-02-10T17:28:34.27\", \"2021-02-11T16:40:26.987\", \"2021-02-11T21:31:20.58\", \"2021-02-12T05:54:48.23\", \"2021-02-12T09:56:04.773\", \"2021-02-12T15:06:05.92\", \"2021-02-12T15:07:52.33\", \"2021-02-13T02:53:30.073\", \"2021-02-14T04:45:31.08\", \"2021-02-14T15:10:09.8\", \"2021-02-15T21:50:52.64\", \"2021-02-16T06:32:23.97\", \"2021-02-16T09:44:47.337\", \"2021-02-17T01:00:17.45\", \"2021-02-17T01:25:49.423\", \"2021-02-17T17:57:59.497\", \"2021-02-18T04:41:42.563\", \"2021-02-19T11:17:25.39\", \"2021-02-22T01:18:39.76\", \"2021-02-22T10:22:26.3\", \"2021-02-23T05:30:07.697\", \"2021-02-23T08:25:50.447\", \"2021-02-23T15:53:46.57\", \"2021-02-24T12:36:00.77\", \"2021-02-25T08:53:44.637\", \"2021-02-25T10:29:48.393\", \"2021-02-25T16:43:06.273\", \"2021-02-26T09:23:09.993\", \"2021-02-26T18:47:43.037\", \"2021-02-27T11:08:57.667\", \"2021-03-01T09:13:33.787\", \"2021-03-01T19:39:59.55\", \"2021-03-02T09:23:36.847\", \"2021-03-02T11:18:39.363\", \"2021-03-02T16:31:12.837\", \"2021-03-03T05:13:37.897\", \"2021-03-03T06:44:32.35\", \"2021-03-03T08:54:25\", \"2021-03-04T02:36:22.257\", \"2021-03-05T08:22:11.3\", \"2021-03-09T11:09:19.763\", \"2021-03-09T14:55:21.58\", \"2021-03-10T04:36:07.837\", \"2021-03-10T15:24:21.857\", \"2021-03-10T16:00:02.613\", \"2021-03-11T04:20:04.103\", \"2021-03-11T09:00:30.913\", \"2021-03-11T17:30:43.753\", \"2021-03-12T02:34:21.683\", \"2021-03-12T03:28:33.083\", \"2021-03-12T11:48:47.203\", \"2021-03-13T10:25:21.143\", \"2021-03-14T17:29:30.287\", \"2021-03-15T10:13:43.667\", \"2021-03-15T10:53:54.233\", \"2021-03-17T17:02:54.86\", \"2021-03-19T07:21:13.43\", \"2021-03-20T01:34:53.61\", \"2021-03-23T12:14:18.863\", \"2021-03-24T12:58:46.5\", \"2021-03-25T03:17:53.38\", \"2021-03-25T16:39:59.577\", \"2021-03-26T14:27:14.173\", \"2021-03-30T12:29:47.413\", \"2021-03-30T12:53:22.887\", \"2021-03-31T05:04:42.15\", \"2021-03-31T06:38:42.34\", \"2021-04-01T08:14:49.057\", \"2021-04-06T19:28:50.28\", \"2021-04-08T17:31:25.08\", \"2021-04-10T02:53:00.28\", \"2021-04-12T10:52:25.73\", \"2021-04-12T12:12:10.283\", \"2021-04-12T15:13:07.097\", \"2021-04-14T03:27:41.803\", \"2021-04-15T08:57:58.05\", \"2021-04-15T12:20:03.933\", \"2021-04-19T09:41:09.173\", \"2021-04-20T07:00:28.707\", \"2021-04-20T15:43:56.607\", \"2021-04-21T11:38:15.18\", \"2021-04-22T04:29:17.66\", \"2021-04-22T04:48:51.64\", \"2021-04-22T06:55:40.56\", \"2021-04-22T16:43:27\", \"2021-04-23T00:03:22.743\", \"2021-04-23T11:09:05.35\", \"2021-04-27T07:40:14.087\", \"2021-04-27T10:25:08.213\", \"2021-04-27T13:53:38.607\", \"2021-04-27T14:05:34.707\", \"2021-04-27T16:17:23.083\", \"2021-04-28T06:07:57.33\", \"2021-04-28T11:44:20.84\", \"2021-04-28T14:08:31.08\", \"2021-04-28T14:15:54.817\", \"2021-04-29T02:16:11.49\", \"2021-04-30T07:03:44.607\", \"2021-04-30T08:43:37.07\", \"2021-05-04T03:26:26.993\", \"2021-05-04T09:31:18.373\", \"2021-05-05T10:48:30.583\", \"2021-05-05T14:59:26.737\", \"2021-05-06T04:52:27.5\", \"2021-05-06T05:44:31.317\", \"2021-05-06T14:47:18.237\", \"2021-05-06T15:36:56.423\", \"2021-05-06T19:21:40.677\", \"2021-05-07T11:58:25.423\", \"2021-05-07T12:44:00.26\", \"2021-05-11T11:11:22.967\", \"2021-05-11T14:33:52.803\", \"2021-05-12T19:29:45.887\", \"2021-05-14T10:04:28.7\", \"2021-05-17T00:14:13.58\", \"2021-05-17T05:24:41.617\", \"2021-05-17T10:22:56.957\", \"2021-05-17T12:12:39.573\", \"2021-05-20T08:11:58.513\", \"2021-05-21T02:17:15.373\", \"2021-05-24T03:14:14.447\", \"2021-05-24T05:55:56.8\", \"2021-05-24T14:55:23.877\", \"2021-05-25T10:09:32.81\", \"2021-05-25T23:18:10.647\", \"2021-05-25T23:21:55.333\", \"2021-05-26T05:39:30.67\", \"2021-05-28T11:21:25.033\", \"2021-05-28T13:33:13.153\", \"2021-05-29T21:45:02.2\", \"2021-05-30T01:41:31.68\", \"2021-05-30T08:11:59.69\", \"2021-06-02T07:44:14.63\", \"2021-06-02T12:18:46.267\", \"2021-06-02T13:14:26.307\", \"2021-06-02T13:40:25.58\", \"2021-06-02T13:53:43.85\", \"2021-06-02T15:54:57.997\", \"2021-06-02T16:37:04.77\", \"2021-06-03T02:17:04.61\", \"2021-06-03T04:52:06.57\", \"2021-06-03T09:19:09.593\", \"2021-06-03T19:44:17.527\", \"2021-06-04T05:25:16.927\", \"2021-06-04T10:11:48.013\", \"2021-06-08T04:53:56.6\", \"2021-06-08T10:57:39.363\"], \"xaxis\": \"x\", \"y\": [0.063, 0.102, 0.198, 0.102, 0.09, 0.184, 0.094, 0.075, 0.054, 0.082, 0.105, 0.158, 0.071, 0.255, 0.102, 0.236, 0.114, 0.106, 0.135, 0.244, 0.204, 0.185, 0.058, 0.088, 0.102, 0.115, 0.067, 0.047, 0.221, 0.115, 0.172, 0.154, 0.093, 0.159, 0.086, 0.24, 0.161, 0.185, 0.096, 0.102, 0.153, 0.203, 0.057, 0.041, 0.139, 0.101, 0.095, 0.151, 0.11, 0.142, 0.256, 0.124, 0.134, 0.203, 0.077, 0.091, 0.177, 0.209, 0.028, 0.091, 0.085, 0.075, 0.168, 0.335, 0.071, 0.358, 0.122, 0.097, 0.087, 0.136, 0.059, 0.179, 0.102, 0.211, 0.129, 0.113, 0.253, 0.035, 0.223, 0.11, 0.195, 0.082, 0.056, 0.033, 0.017, 0.208, 0.13, 0.079, 0.173, 0.174, 0.07, 0.189, 0.331, 0.152, 0.112, 0.125, 0.181, 0.236, 0.213, 0.104, 0.17, 0.055, 0.094, 0.216, 0.089, 0.149, 0.102, 0.138, 0.091, 0.21, 0.083, 0.143, 0.089, 0.112, 0.072, 0.033, 0.069, 0.102, 0.211, 0.091, 0.218, 0.16, 0.209, 0.077, 0.167, 0.038, 0.119, 0.158, 0.222, 0.119, 0.293, 0.132, 0.221, 0.104, 0.089, 0.09, 0.167, 0.103, 0.108, 0.119, 0.202, 0.107, 0.083, 0.034, 0.112, 0.112, 0.103, 0.064, 0.101, 0.12, 0.15, 0.076, 0.102, 0.062, 0.072, 0.223, 0.036, 0.073, 0.102, 0.013, 0.072, 0.094, 0.096, 0.031, 0.133, 0.153, 0.118, 0.072, 0.097, 0.066, 0.326, 0.069, 0.103, 0.057, 0.103, 0.062, 0.147, 0.116, 0.122, 0.128, 0.147, 0.057, 0.116, 0.167, 0.101, 0.081, 0.278, 0.142, 0.108, 0.102, 0.074, 0.086, 0.08, 0.225, 0.157, 0.282, 0.13, 0.102, 0.122, 0.272, 0.168, 0.136, 0.116, 0.192, 0.138, 0.119, 0.08, 0.112, 0.086, 0.143, 0.04, 0.119, 0.172, 0.286, 0.177, 0.137, 0.182, 0.134, 0.134, 0.211, 0.238, 0.092, 0.152, 0.155, 0.217, 0.126, 0.133, 0.244, 0.302, 0.234, 0.205, 0.335, 0.096, 0.165, 0.078, 0.192, 0.13, 0.069, 0.122, 0.22, 0.102, 0.118, 0.104, 0.172, 0.078, 0.116, 0.265, 0.042, 0.075, 0.129, 0.033, 0.086, 0.042, 0.029, 0.3, 0.202, 0.155, 0.156, 0.085, 0.078, 0.102, 0.19, 0.102, 0.102, 0.156, 0.16, 0.141, 0.103, 0.194, 0.194, 0.086, 0.099, 0.142, 0.09, 0.09, 0.154, 0.071, 0.101, 0.108, 0.045, 0.046, 0.166, 0.184, 0.1, 0.22, 0.14, 0.131, 0.079, 0.336, 0.058, 0.12, 0.077, 0.105, 0.068, 0.245, 0.144, 0.123, 0.02, 0.078, 0.101, 0.069, 0.095, 0.113, 0.044, 0.077, 0.038, 0.173, 0.14, 0.111, 0.236, 0.078, 0.093, 0.107, 0.102, 0.102, 0.068, 0.095, 0.085, 0.101, 0.153, 0.08, 0.133, 0.254, 0.124, 0.071, 0.089, 0.096, 0.143, 0.173, 0.239, 0.06, 0.075, 0.075, 0.321, 0.133, 0.143, 0.097, 0.182, 0.134, 0.046, 0.094, 0.159, 0.067, 0.148, 0.088, 0.077, 0.186, 0.102, 0.131, 0.191, 0.102, 0.16, 0.043, 0.161, 0.132, 0.156, 0.152, 0.101, 0.221, 0.1, 0.282, 0.05, 0.129, 0.079, 0.231, 0.122, 0.206, 0.24, 0.256, 0.234, 0.086, 0.101, 0.091, 0.197, 0.32, 0.064, 0.136, 0.138, 0.106, 0.142, 0.078, 0.114, 0.064, 0.097, 0.102, 0.043, 0.049, 0.12, 0.055, 0.167, 0.064, 0.081, 0.11, 0.201, 0.133, 0.091, 0.221, 0.135, 0.166, 0.151, 0.092, 0.143, 0.138, 0.098, 0.16, 0.185, 0.23, 0.069, 0.116, 0.106, 0.094, 0.157, 0.093, 0.188, 0.054, 0.034, 0.21, 0.127, 0.124, 0.16, 0.203, 0.115, 0.046, 0.271, 0.077, 0.088, 0.161, 0.143, 0.161, 0.079, 0.08, 0.183, 0.076, 0.098, 0.091, 0.134, 0.07, 0.146, 0.112, 0.153, 0.25, 0.103, 0.216, 0.227, 0.088, 0.107, 0.059, 0.249, 0.119, 0.133, 0.076, 0.038, 0.161, 0.162, 0.255, 0.075, 0.075, 0.075, 0.115, 0.188, 0.18, 0.207, 0.09, 0.044, 0.084, 0.231, 0.101, 0.237, 0.073, 0.243, 0.038, 0.053, 0.062, 0.356, 0.181, 0.167, 0.11, 0.102, 0.084, 0.062, 0.159, 0.141, 0.09, 0.096, 0.276, 0.164, 0.179, 0.112, 0.097, 0.265, 0.222, 0.094, 0.04, 0.129, 0.22, 0.167, 0.065, 0.169, 0.2, 0.036, 0.067, 0.083, 0.102, 0.055, 0.041, 0.047, 0.052, 0.159, 0.123, 0.136, 0.19, 0.042, 0.121, 0.193, 0.04, 0.138, 0.087, 0.284, 0.1, 0.153, 0.172, 0.041, 0.219, 0.072, 0.047, 0.122, 0.165, 0.115, 0.079, 0.081, 0.098, 0.079, 0.171, 0.076, 0.189, 0.263, 0.135, 0.16, 0.27, 0.102, 0.112, 0.063, 0.114, 0.084, 0.102, 0.209, 0.156, 0.071, 0.033, 0.213, 0.255, 0.157, 0.073, 0.113, 0.107, 0.206, 0.079, 0.174, 0.105, 0.213, 0.103, 0.063, 0.213, 0.17, 0.174, 0.253, 0.331, 0.11, 0.213, 0.22, 0.061, 0.112, 0.058, 0.079, 0.079, 0.372, 0.048, 0.152, 0.18, 0.302, 0.141, 0.178, 0.116, 0.149, 0.052, 0.158, 0.22, 0.227, 0.184, 0.2, 0.166, 0.087, 0.076, 0.094, 0.382, 0.116, 0.15, 0.162, 0.197, 0.065, 0.212, 0.047, 0.044, 0.213, 0.028, 0.123, 0.173, 0.077, 0.118, 0.093, 0.267, 0.197, 0.085, 0.125, 0.122, 0.174, 0.062, 0.131, 0.111, 0.163, 0.134, 0.204, 0.197, 0.128, 0.032, 0.203, 0.129, 0.068, 0.068, 0.127, 0.067, 0.146, 0.288, 0.087, 0.243, 0.097, 0.216, 0.201, 0.088, 0.119, 0.186, 0.235, 0.129, 0.071, 0.061, 0.135, 0.192, 0.129, 0.173, 0.134, 0.12, 0.181, 0.135, 0.058, 0.062, 0.205, 0.18, 0.153, 0.073, 0.173, 0.077, 0.199, 0.033, 0.394, 0.121, 0.109, 0.099, 0.05, 0.045, 0.035, 0.093, 0.137, 0.199, 0.145, 0.104, 0.099, 0.182, 0.2, 0.154, 0.071, 0.186, 0.18, 0.105, 0.333, 0.156, 0.081, 0.135, 0.148, 0.204, 0.195, 0.148, 0.022, 0.278, 0.083, 0.106, 0.232, 0.292, 0.171, 0.259, 0.038, 0.246, 0.051, 0.077, 0.053, 0.071, 0.152, 0.119, 0.357, 0.118, 0.148, 0.121, 0.134, 0.18, 0.059, 0.349, 0.277, 0.097, 0.234, 0.171, 0.143, 0.14, 0.104, 0.114, 0.224, 0.101, 0.046, 0.089, 0.11, 0.121, 0.049, 0.187, 0.164, 0.156, 0.087, 0.068, 0.162, 0.129, 0.331, 0.125, 0.114, 0.116, 0.114, 0.067, 0.292, 0.078, 0.248, 0.104, 0.104, 0.184, 0.127, 0.127, 0.077, 0.036, 0.211, 0.08, 0.294, 0.135, 0.056, 0.163, 0.074, 0.107, 0.123, 0.138, 0.211, 0.105, 0.174, 0.048, 0.23, 0.06], \"yaxis\": \"y\"}, {\"hovertemplate\": \"Sentiment=Negative<br>Post Date=%{x}<br>pos=%{y}<extra></extra>\", \"legendgroup\": \"Negative\", \"line\": {\"color\": \"#00cc96\", \"dash\": \"solid\"}, \"mode\": \"lines\", \"name\": \"Negative\", \"showlegend\": true, \"type\": \"scattergl\", \"x\": [\"2019-10-14T05:55:32.553\", \"2019-10-14T22:38:08.26\", \"2019-10-21T09:43:33.513\", \"2019-10-21T12:40:40.86\", \"2019-10-23T06:23:11.657\", \"2019-10-24T06:19:46.603\", \"2019-10-24T14:04:33.85\", \"2019-10-25T11:54:33.85\", \"2019-10-30T08:21:45.053\", \"2019-10-30T18:45:20.75\", \"2019-10-31T23:57:45.833\", \"2019-11-01T07:45:56.387\", \"2019-11-10T01:44:11.28\", \"2019-11-14T03:28:57.637\", \"2019-11-18T10:12:47.987\", \"2019-11-20T05:47:36.783\", \"2019-11-29T02:39:25.357\", \"2019-12-03T14:56:05.093\", \"2019-12-03T16:06:57.23\", \"2019-12-09T07:10:55.167\", \"2019-12-10T07:50:29.637\", \"2019-12-10T10:55:22.36\", \"2019-12-12T10:17:39.717\", \"2019-12-20T08:29:43.793\", \"2019-12-21T07:25:05.07\", \"2019-12-24T06:44:49.68\", \"2020-01-03T04:40:24.317\", \"2020-01-05T08:26:52.923\", \"2020-01-14T07:18:24.06\", \"2020-01-16T01:35:18.87\", \"2020-01-20T17:44:58.307\", \"2020-01-24T06:49:45.39\", \"2020-01-29T10:26:02.32\", \"2020-02-03T09:59:10.557\", \"2020-02-03T13:33:12.313\", \"2020-02-05T11:30:08.943\", \"2020-02-11T17:09:02.48\", \"2020-02-12T09:04:32.27\", \"2020-02-12T14:51:42.37\", \"2020-02-14T10:24:51.933\", \"2020-02-26T12:34:35.337\", \"2020-03-04T20:50:43.727\", \"2020-03-10T11:43:30.047\", \"2020-03-17T10:57:57.617\", \"2020-03-17T12:46:10.82\", \"2020-03-17T17:40:54.64\", \"2020-03-30T04:21:56.913\", \"2020-04-09T23:22:33.47\", \"2020-04-14T04:48:03.713\", \"2020-04-14T11:03:59.167\", \"2020-04-16T08:10:59.29\", \"2020-04-16T16:12:38.977\", \"2020-04-16T16:41:02.65\", \"2020-04-23T02:31:29.827\", \"2020-04-23T17:09:27.673\", \"2020-05-05T10:32:52.917\", \"2020-05-06T07:12:28.073\", \"2020-05-06T10:17:41.447\", \"2020-05-07T03:54:23.82\", \"2020-05-07T10:30:47.55\", \"2020-05-12T07:44:49.72\", \"2020-05-13T09:12:49.927\", \"2020-05-13T14:43:08.657\", \"2020-05-14T03:52:10.373\", \"2020-05-14T17:51:27.473\", \"2020-05-19T22:05:27.747\", \"2020-05-20T07:46:08.763\", \"2020-05-22T09:04:36.597\", \"2020-05-24T07:44:59.96\", \"2020-05-25T11:51:41.683\", \"2020-05-25T12:12:56.96\", \"2020-05-28T04:33:45.413\", \"2020-05-28T21:23:28.48\", \"2020-05-31T11:34:13.967\", \"2020-06-01T02:08:55.463\", \"2020-06-02T05:15:07.377\", \"2020-06-08T10:15:40.8\", \"2020-06-17T09:23:08.72\", \"2020-06-17T10:47:18.047\", \"2020-06-19T05:37:59.09\", \"2020-06-29T17:02:31.54\", \"2020-07-06T05:50:50.78\", \"2020-07-06T09:19:59.403\", \"2020-07-10T08:52:51.04\", \"2020-07-11T20:29:03.777\", \"2020-07-13T02:40:11.35\", \"2020-07-17T14:17:43.9\", \"2020-07-20T13:16:24.25\", \"2020-07-21T04:25:05.703\", \"2020-07-21T11:25:17.723\", \"2020-07-24T15:17:29.263\", \"2020-07-31T03:00:29.553\", \"2020-08-01T06:40:03.033\", \"2020-08-02T08:21:09.453\", \"2020-08-06T16:30:31.317\", \"2020-08-11T20:18:22.113\", \"2020-08-14T06:48:55.553\", \"2020-08-17T10:09:37.347\", \"2020-08-18T10:10:32.407\", \"2020-09-03T14:53:10.197\", \"2020-09-04T08:34:40.003\", \"2020-09-08T10:35:57.717\", \"2020-09-09T04:14:26.247\", \"2020-09-09T07:05:09.473\", \"2020-09-09T19:09:12.01\", \"2020-09-11T14:32:09.763\", \"2020-09-22T03:04:06.773\", \"2020-09-22T12:56:21.417\", \"2020-09-23T07:34:25.193\", \"2020-09-27T00:39:00.507\", \"2020-09-30T11:28:12.57\", \"2020-10-05T01:11:31.057\", \"2020-10-05T22:58:21.4\", \"2020-10-07T04:49:35.287\", \"2020-10-07T06:19:26.927\", \"2020-10-08T07:26:39.637\", \"2020-10-08T16:26:59.76\", \"2020-10-09T19:17:29.443\", \"2020-10-13T13:02:42.213\", \"2020-10-13T18:32:15.773\", \"2020-10-16T18:36:31.273\", \"2020-10-19T22:07:38.62\", \"2020-10-20T16:35:09.947\", \"2020-10-21T12:58:42.72\", \"2020-10-21T13:33:08.743\", \"2020-10-21T14:06:01.427\", \"2020-10-28T05:57:09.547\", \"2020-10-28T13:28:28.833\", \"2020-10-28T15:58:04.637\", \"2020-10-29T01:39:26.437\", \"2020-11-02T16:14:49.56\", \"2020-11-09T08:23:02.983\", \"2020-11-11T06:00:38.383\", \"2020-11-12T18:39:57.223\", \"2020-11-13T18:33:05.46\", \"2020-11-18T11:41:37.49\", \"2020-11-19T16:56:39.44\", \"2020-11-25T11:17:47.587\", \"2020-11-25T13:13:05.463\", \"2020-11-26T11:43:14.277\", \"2020-12-02T15:54:46.727\", \"2020-12-03T15:45:18.923\", \"2020-12-06T07:13:50.297\", \"2020-12-08T06:45:13.323\", \"2020-12-08T12:43:05.35\", \"2020-12-11T09:05:13.287\", \"2020-12-16T11:24:45.933\", \"2020-12-16T16:31:08.12\", \"2020-12-21T08:30:12.503\", \"2020-12-22T04:59:41.42\", \"2020-12-23T09:59:10.2\", \"2020-12-28T02:51:24.99\", \"2020-12-28T15:09:46.85\", \"2020-12-29T08:45:35.597\", \"2020-12-29T15:13:04.71\", \"2021-01-09T23:27:17.513\", \"2021-01-12T06:59:45.843\", \"2021-01-12T08:16:59.57\", \"2021-01-12T23:48:05.1\", \"2021-01-15T06:20:18.943\", \"2021-01-16T07:56:33.363\", \"2021-01-18T00:23:54.957\", \"2021-01-20T07:58:12.823\", \"2021-01-21T09:00:33.853\", \"2021-01-27T01:26:58.78\", \"2021-01-27T13:06:46.71\", \"2021-02-03T06:28:55.87\", \"2021-02-03T14:28:38.48\", \"2021-02-05T09:38:55.053\", \"2021-02-08T14:35:14.027\", \"2021-02-10T06:07:45.91\", \"2021-02-10T13:30:52.19\", \"2021-02-16T14:37:14.58\", \"2021-02-17T00:44:34.993\", \"2021-02-26T11:57:02.543\", \"2021-02-27T07:31:29.457\", \"2021-03-03T03:05:35.877\", \"2021-03-03T09:20:39.307\", \"2021-03-03T16:19:15.397\", \"2021-03-04T11:01:28.96\", \"2021-03-06T06:54:56.57\", \"2021-03-09T11:05:19.053\", \"2021-03-09T17:00:23.213\", \"2021-03-16T07:06:57.6\", \"2021-03-16T15:19:27.047\", \"2021-03-19T11:31:47.557\", \"2021-03-22T03:47:12.6\", \"2021-03-24T09:04:13.813\", \"2021-04-07T14:44:07.22\", \"2021-04-09T14:10:26.533\", \"2021-04-10T03:29:32.747\", \"2021-04-10T15:57:59.943\", \"2021-04-20T11:43:36.217\", \"2021-04-22T07:32:19.79\", \"2021-04-30T15:41:33.667\", \"2021-05-06T06:08:48.817\", \"2021-05-06T10:55:46.883\", \"2021-05-11T16:15:01.67\", \"2021-05-14T08:27:02.38\", \"2021-05-17T10:44:03.017\", \"2021-05-17T12:41:24.27\", \"2021-05-18T00:14:22.057\", \"2021-05-19T09:46:33.497\", \"2021-05-23T15:49:03.797\", \"2021-05-25T16:41:37.953\", \"2021-05-27T07:12:50.66\", \"2021-06-03T04:46:03.063\", \"2021-06-04T19:14:13.09\"], \"xaxis\": \"x\", \"y\": [0.017, 0.052, 0.034, 0.021, 0.044, 0.049, 0.106, 0.057, 0.11, 0.058, 0.027, 0.052, 0.038, 0.028, 0.038, 0.055, 0.107, 0.066, 0.0, 0.026, 0.049, 0.042, 0.0, 0.0, 0.031, 0.0, 0.113, 0.038, 0.102, 0.016, 0.079, 0.046, 0.033, 0.058, 0.017, 0.0, 0.03, 0.031, 0.017, 0.09, 0.0, 0.061, 0.101, 0.0, 0.073, 0.022, 0.078, 0.095, 0.068, 0.0, 0.029, 0.0, 0.014, 0.0, 0.0, 0.0, 0.031, 0.049, 0.12, 0.0, 0.115, 0.0, 0.026, 0.0, 0.046, 0.198, 0.113, 0.0, 0.065, 0.0, 0.0, 0.027, 0.074, 0.047, 0.0, 0.029, 0.045, 0.028, 0.046, 0.0, 0.0, 0.014, 0.0, 0.015, 0.043, 0.051, 0.092, 0.039, 0.0, 0.065, 0.028, 0.058, 0.041, 0.091, 0.048, 0.142, 0.106, 0.056, 0.064, 0.0, 0.052, 0.049, 0.053, 0.049, 0.026, 0.053, 0.0, 0.018, 0.042, 0.04, 0.024, 0.065, 0.077, 0.0, 0.0, 0.034, 0.036, 0.0, 0.0, 0.037, 0.012, 0.045, 0.033, 0.043, 0.082, 0.077, 0.159, 0.0, 0.038, 0.048, 0.0, 0.041, 0.0, 0.027, 0.043, 0.066, 0.042, 0.103, 0.059, 0.126, 0.092, 0.0, 0.107, 0.066, 0.063, 0.014, 0.062, 0.0, 0.041, 0.11, 0.032, 0.087, 0.052, 0.0, 0.0, 0.069, 0.0, 0.079, 0.094, 0.204, 0.105, 0.055, 0.14, 0.0, 0.059, 0.034, 0.107, 0.039, 0.058, 0.059, 0.0, 0.049, 0.192, 0.015, 0.0, 0.107, 0.03, 0.0, 0.0, 0.054, 0.048, 0.024, 0.0, 0.0, 0.066, 0.0, 0.057, 0.108, 0.066, 0.035, 0.07, 0.039, 0.129, 0.078, 0.03, 0.115, 0.072, 0.092, 0.042, 0.076, 0.032, 0.102, 0.0, 0.092, 0.016, 0.0, 0.1, 0.02], \"yaxis\": \"y\"}],                        {\"legend\": {\"title\": {\"text\": \"Sentiment\"}, \"tracegroupgap\": 0}, \"margin\": {\"t\": 60}, \"template\": {\"data\": {\"bar\": [{\"error_x\": {\"color\": \"#2a3f5f\"}, \"error_y\": {\"color\": \"#2a3f5f\"}, \"marker\": {\"line\": {\"color\": \"#E5ECF6\", \"width\": 0.5}}, \"type\": \"bar\"}], \"barpolar\": [{\"marker\": {\"line\": {\"color\": \"#E5ECF6\", \"width\": 0.5}}, \"type\": \"barpolar\"}], \"carpet\": [{\"aaxis\": {\"endlinecolor\": \"#2a3f5f\", \"gridcolor\": \"white\", \"linecolor\": \"white\", \"minorgridcolor\": \"white\", \"startlinecolor\": \"#2a3f5f\"}, \"baxis\": {\"endlinecolor\": \"#2a3f5f\", \"gridcolor\": \"white\", \"linecolor\": \"white\", \"minorgridcolor\": \"white\", \"startlinecolor\": \"#2a3f5f\"}, \"type\": \"carpet\"}], \"choropleth\": [{\"colorbar\": {\"outlinewidth\": 0, \"ticks\": \"\"}, \"type\": \"choropleth\"}], \"contour\": [{\"colorbar\": {\"outlinewidth\": 0, \"ticks\": \"\"}, \"colorscale\": [[0.0, \"#0d0887\"], [0.1111111111111111, \"#46039f\"], [0.2222222222222222, \"#7201a8\"], [0.3333333333333333, \"#9c179e\"], [0.4444444444444444, \"#bd3786\"], [0.5555555555555556, \"#d8576b\"], [0.6666666666666666, \"#ed7953\"], [0.7777777777777778, \"#fb9f3a\"], [0.8888888888888888, \"#fdca26\"], [1.0, \"#f0f921\"]], \"type\": \"contour\"}], \"contourcarpet\": [{\"colorbar\": {\"outlinewidth\": 0, \"ticks\": \"\"}, \"type\": \"contourcarpet\"}], \"heatmap\": [{\"colorbar\": {\"outlinewidth\": 0, \"ticks\": \"\"}, \"colorscale\": [[0.0, \"#0d0887\"], [0.1111111111111111, \"#46039f\"], [0.2222222222222222, \"#7201a8\"], [0.3333333333333333, \"#9c179e\"], [0.4444444444444444, \"#bd3786\"], [0.5555555555555556, \"#d8576b\"], [0.6666666666666666, \"#ed7953\"], [0.7777777777777778, \"#fb9f3a\"], [0.8888888888888888, \"#fdca26\"], [1.0, \"#f0f921\"]], \"type\": \"heatmap\"}], \"heatmapgl\": [{\"colorbar\": {\"outlinewidth\": 0, \"ticks\": \"\"}, \"colorscale\": [[0.0, \"#0d0887\"], [0.1111111111111111, \"#46039f\"], [0.2222222222222222, \"#7201a8\"], [0.3333333333333333, \"#9c179e\"], [0.4444444444444444, \"#bd3786\"], [0.5555555555555556, \"#d8576b\"], [0.6666666666666666, \"#ed7953\"], [0.7777777777777778, \"#fb9f3a\"], [0.8888888888888888, \"#fdca26\"], [1.0, \"#f0f921\"]], \"type\": \"heatmapgl\"}], \"histogram\": [{\"marker\": {\"colorbar\": {\"outlinewidth\": 0, \"ticks\": \"\"}}, \"type\": \"histogram\"}], \"histogram2d\": [{\"colorbar\": {\"outlinewidth\": 0, \"ticks\": \"\"}, \"colorscale\": [[0.0, \"#0d0887\"], [0.1111111111111111, \"#46039f\"], [0.2222222222222222, \"#7201a8\"], [0.3333333333333333, \"#9c179e\"], [0.4444444444444444, \"#bd3786\"], [0.5555555555555556, \"#d8576b\"], [0.6666666666666666, \"#ed7953\"], [0.7777777777777778, \"#fb9f3a\"], [0.8888888888888888, \"#fdca26\"], [1.0, \"#f0f921\"]], \"type\": \"histogram2d\"}], \"histogram2dcontour\": [{\"colorbar\": {\"outlinewidth\": 0, \"ticks\": \"\"}, \"colorscale\": [[0.0, \"#0d0887\"], [0.1111111111111111, \"#46039f\"], [0.2222222222222222, \"#7201a8\"], [0.3333333333333333, \"#9c179e\"], [0.4444444444444444, \"#bd3786\"], [0.5555555555555556, \"#d8576b\"], [0.6666666666666666, \"#ed7953\"], [0.7777777777777778, \"#fb9f3a\"], [0.8888888888888888, \"#fdca26\"], [1.0, \"#f0f921\"]], \"type\": \"histogram2dcontour\"}], \"mesh3d\": [{\"colorbar\": {\"outlinewidth\": 0, \"ticks\": \"\"}, \"type\": \"mesh3d\"}], \"parcoords\": [{\"line\": {\"colorbar\": {\"outlinewidth\": 0, \"ticks\": \"\"}}, \"type\": \"parcoords\"}], \"pie\": [{\"automargin\": true, \"type\": \"pie\"}], \"scatter\": [{\"marker\": {\"colorbar\": {\"outlinewidth\": 0, \"ticks\": \"\"}}, \"type\": \"scatter\"}], \"scatter3d\": [{\"line\": {\"colorbar\": {\"outlinewidth\": 0, \"ticks\": \"\"}}, \"marker\": {\"colorbar\": {\"outlinewidth\": 0, \"ticks\": \"\"}}, \"type\": \"scatter3d\"}], \"scattercarpet\": [{\"marker\": {\"colorbar\": {\"outlinewidth\": 0, \"ticks\": \"\"}}, \"type\": \"scattercarpet\"}], \"scattergeo\": [{\"marker\": {\"colorbar\": {\"outlinewidth\": 0, \"ticks\": \"\"}}, \"type\": \"scattergeo\"}], \"scattergl\": [{\"marker\": {\"colorbar\": {\"outlinewidth\": 0, \"ticks\": \"\"}}, \"type\": \"scattergl\"}], \"scattermapbox\": [{\"marker\": {\"colorbar\": {\"outlinewidth\": 0, \"ticks\": \"\"}}, \"type\": \"scattermapbox\"}], \"scatterpolar\": [{\"marker\": {\"colorbar\": {\"outlinewidth\": 0, \"ticks\": \"\"}}, \"type\": \"scatterpolar\"}], \"scatterpolargl\": [{\"marker\": {\"colorbar\": {\"outlinewidth\": 0, \"ticks\": \"\"}}, \"type\": \"scatterpolargl\"}], \"scatterternary\": [{\"marker\": {\"colorbar\": {\"outlinewidth\": 0, \"ticks\": \"\"}}, \"type\": \"scatterternary\"}], \"surface\": [{\"colorbar\": {\"outlinewidth\": 0, \"ticks\": \"\"}, \"colorscale\": [[0.0, \"#0d0887\"], [0.1111111111111111, \"#46039f\"], [0.2222222222222222, \"#7201a8\"], [0.3333333333333333, \"#9c179e\"], [0.4444444444444444, \"#bd3786\"], [0.5555555555555556, \"#d8576b\"], [0.6666666666666666, \"#ed7953\"], [0.7777777777777778, \"#fb9f3a\"], [0.8888888888888888, \"#fdca26\"], [1.0, \"#f0f921\"]], \"type\": \"surface\"}], \"table\": [{\"cells\": {\"fill\": {\"color\": \"#EBF0F8\"}, \"line\": {\"color\": \"white\"}}, \"header\": {\"fill\": {\"color\": \"#C8D4E3\"}, \"line\": {\"color\": \"white\"}}, \"type\": \"table\"}]}, \"layout\": {\"annotationdefaults\": {\"arrowcolor\": \"#2a3f5f\", \"arrowhead\": 0, \"arrowwidth\": 1}, \"autotypenumbers\": \"strict\", \"coloraxis\": {\"colorbar\": {\"outlinewidth\": 0, \"ticks\": \"\"}}, \"colorscale\": {\"diverging\": [[0, \"#8e0152\"], [0.1, \"#c51b7d\"], [0.2, \"#de77ae\"], [0.3, \"#f1b6da\"], [0.4, \"#fde0ef\"], [0.5, \"#f7f7f7\"], [0.6, \"#e6f5d0\"], [0.7, \"#b8e186\"], [0.8, \"#7fbc41\"], [0.9, \"#4d9221\"], [1, \"#276419\"]], \"sequential\": [[0.0, \"#0d0887\"], [0.1111111111111111, \"#46039f\"], [0.2222222222222222, \"#7201a8\"], [0.3333333333333333, \"#9c179e\"], [0.4444444444444444, \"#bd3786\"], [0.5555555555555556, \"#d8576b\"], [0.6666666666666666, \"#ed7953\"], [0.7777777777777778, \"#fb9f3a\"], [0.8888888888888888, \"#fdca26\"], [1.0, \"#f0f921\"]], \"sequentialminus\": [[0.0, \"#0d0887\"], [0.1111111111111111, \"#46039f\"], [0.2222222222222222, \"#7201a8\"], [0.3333333333333333, \"#9c179e\"], [0.4444444444444444, \"#bd3786\"], [0.5555555555555556, \"#d8576b\"], [0.6666666666666666, \"#ed7953\"], [0.7777777777777778, \"#fb9f3a\"], [0.8888888888888888, \"#fdca26\"], [1.0, \"#f0f921\"]]}, \"colorway\": [\"#636efa\", \"#EF553B\", \"#00cc96\", \"#ab63fa\", \"#FFA15A\", \"#19d3f3\", \"#FF6692\", \"#B6E880\", \"#FF97FF\", \"#FECB52\"], \"font\": {\"color\": \"#2a3f5f\"}, \"geo\": {\"bgcolor\": \"white\", \"lakecolor\": \"white\", \"landcolor\": \"#E5ECF6\", \"showlakes\": true, \"showland\": true, \"subunitcolor\": \"white\"}, \"hoverlabel\": {\"align\": \"left\"}, \"hovermode\": \"closest\", \"mapbox\": {\"style\": \"light\"}, \"paper_bgcolor\": \"white\", \"plot_bgcolor\": \"#E5ECF6\", \"polar\": {\"angularaxis\": {\"gridcolor\": \"white\", \"linecolor\": \"white\", \"ticks\": \"\"}, \"bgcolor\": \"#E5ECF6\", \"radialaxis\": {\"gridcolor\": \"white\", \"linecolor\": \"white\", \"ticks\": \"\"}}, \"scene\": {\"xaxis\": {\"backgroundcolor\": \"#E5ECF6\", \"gridcolor\": \"white\", \"gridwidth\": 2, \"linecolor\": \"white\", \"showbackground\": true, \"ticks\": \"\", \"zerolinecolor\": \"white\"}, \"yaxis\": {\"backgroundcolor\": \"#E5ECF6\", \"gridcolor\": \"white\", \"gridwidth\": 2, \"linecolor\": \"white\", \"showbackground\": true, \"ticks\": \"\", \"zerolinecolor\": \"white\"}, \"zaxis\": {\"backgroundcolor\": \"#E5ECF6\", \"gridcolor\": \"white\", \"gridwidth\": 2, \"linecolor\": \"white\", \"showbackground\": true, \"ticks\": \"\", \"zerolinecolor\": \"white\"}}, \"shapedefaults\": {\"line\": {\"color\": \"#2a3f5f\"}}, \"ternary\": {\"aaxis\": {\"gridcolor\": \"white\", \"linecolor\": \"white\", \"ticks\": \"\"}, \"baxis\": {\"gridcolor\": \"white\", \"linecolor\": \"white\", \"ticks\": \"\"}, \"bgcolor\": \"#E5ECF6\", \"caxis\": {\"gridcolor\": \"white\", \"linecolor\": \"white\", \"ticks\": \"\"}}, \"title\": {\"x\": 0.05}, \"xaxis\": {\"automargin\": true, \"gridcolor\": \"white\", \"linecolor\": \"white\", \"ticks\": \"\", \"title\": {\"standoff\": 15}, \"zerolinecolor\": \"white\", \"zerolinewidth\": 2}, \"yaxis\": {\"automargin\": true, \"gridcolor\": \"white\", \"linecolor\": \"white\", \"ticks\": \"\", \"title\": {\"standoff\": 15}, \"zerolinecolor\": \"white\", \"zerolinewidth\": 2}}}, \"xaxis\": {\"anchor\": \"y\", \"domain\": [0.0, 1.0], \"title\": {\"text\": \"Post Date\"}}, \"yaxis\": {\"anchor\": \"x\", \"domain\": [0.0, 1.0], \"title\": {\"text\": \"pos\"}}},                        {\"responsive\": true}                    ).then(function(){\n",
       "                            \n",
       "var gd = document.getElementById('170f6c70-9c7e-4546-9d1d-e728acf7dc15');\n",
       "var x = new MutationObserver(function (mutations, observer) {{\n",
       "        var display = window.getComputedStyle(gd).display;\n",
       "        if (!display || display === 'none') {{\n",
       "            console.log([gd, 'removed!']);\n",
       "            Plotly.purge(gd);\n",
       "            observer.disconnect();\n",
       "        }}\n",
       "}});\n",
       "\n",
       "// Listen for the removal of the full notebook cells\n",
       "var notebookContainer = gd.closest('#notebook-container');\n",
       "if (notebookContainer) {{\n",
       "    x.observe(notebookContainer, {childList: true});\n",
       "}}\n",
       "\n",
       "// Listen for the clearing of the current output cell\n",
       "var outputEl = gd.closest('.output');\n",
       "if (outputEl) {{\n",
       "    x.observe(outputEl, {childList: true});\n",
       "}}\n",
       "\n",
       "                        })                };                });            </script>        </div>"
      ]
     },
     "metadata": {},
     "output_type": "display_data"
    }
   ],
   "source": [
    "fig = px.line(df2, x='Post Date', y='pos', color='Sentiment')\n",
    "fig.show()"
   ]
  },
  {
   "cell_type": "code",
   "execution_count": 125,
   "metadata": {},
   "outputs": [
    {
     "name": "stderr",
     "output_type": "stream",
     "text": [
      "C:\\Users\\BDelamater\\Anaconda3\\lib\\site-packages\\ipykernel\\ipkernel.py:287: DeprecationWarning:\n",
      "\n",
      "`should_run_async` will not call `transform_cell` automatically in the future. Please pass the result to `transformed_cell` argument and any exception that happen during thetransform in `preprocessing_exc_tuple` in IPython 7.17 and above.\n",
      "\n"
     ]
    }
   ],
   "source": [
    "# fig = go.figure(\n",
    "#     go.Table(\n",
    "#         columnwidth = [50,300,60,40,40],\n",
    "#         header=dict(\n",
    "#             values=[\"Timestamp\", \"Forum_Post_Raw\", \"User DisplayName\", \"Negative\", \"Neutral\", \"Positive\"],\n",
    "#             font=dict(size=10),\n",
    "#             align=\"left\"\n",
    "#         ),\n",
    "#         # cells=dict(\n",
    "#         #     values=[tweets[[\"created_at\",\"text\", \"screen_name\", \"neg\", \"neu\", \"pos\"]]],\n",
    "#         #     align = \"left\")\n",
    "#         cells=dict(values=[df['Post Date'], df.Forum_Post_Raw, df['User DisplayName'], df.neg, df.neu, df.pos],\n",
    "#                 fill_color = [[rowOddColor,rowEvenColor,rowOddColor, rowEvenColor,rowOddColor]*5],\n",
    "#                 align=['left', 'left', 'left', 'center', 'center', 'center'])        \n",
    "#     ),\n",
    "#     row=1, col=1\n",
    "# )\n",
    "# fig.update_layout(\n",
    "#     height=800,\n",
    "#     showlegend=False,\n",
    "#     title_text=\"Twitter Sentiment for \" + GraphTitle,\n",
    "# )\n",
    "\n",
    "\n",
    "\n",
    "\n",
    "# headerColor = 'grey'\n",
    "# rowEvenColor = 'lightgrey'\n",
    "# rowOddColor = 'white'\n",
    "# alignment = ['left', 'left', 'left', 'center', 'center', 'center']\n",
    "\n",
    "# fig = go.Figure(data=[go.Table(\n",
    "#     columnwidth = [30,300,60,40,40],\n",
    "#     header=dict(values=[\"Timestamp\", \"Forum_Post_Raw\", \"User DisplayName\", \"Negative\", \"Neutral\", \"Positive\"],\n",
    "#                 fill_color=headerColor,\n",
    "#                 align=alignment),\n",
    "#     cells=dict(values=[df['PostDate'].dt.strftime(\"%m/%d/%y %H:%M:%S\"), df.Forum_Post_Raw, df['User DisplayName'], df.neg, df.neu, df.pos],\n",
    "#                fill_color = [[rowOddColor,rowEvenColor]*df.shape[0]],\n",
    "#                align=alignment))\n",
    "# ])\n",
    "\n",
    "# fig.show()"
   ]
  },
  {
   "cell_type": "code",
   "execution_count": 126,
   "metadata": {},
   "outputs": [
    {
     "name": "stderr",
     "output_type": "stream",
     "text": [
      "C:\\Users\\BDelamater\\Anaconda3\\lib\\site-packages\\ipykernel\\ipkernel.py:287: DeprecationWarning:\n",
      "\n",
      "`should_run_async` will not call `transform_cell` automatically in the future. Please pass the result to `transformed_cell` argument and any exception that happen during thetransform in `preprocessing_exc_tuple` in IPython 7.17 and above.\n",
      "\n"
     ]
    }
   ],
   "source": [
    "# headerColor = 'grey'\n",
    "# rowEvenColor = 'lightgrey'\n",
    "# rowOddColor = 'white'\n",
    "\n",
    "# # for i, row in enumerate(df_Forum[\"Post Date\"]):\n",
    "# #     p = re.compile(\" 00:00:00\")\n",
    "# #     datetime = p.split(df[\"Post Date\"][i])[0]\n",
    "# #     df.iloc[i, 1] = datetime\n",
    "\n",
    "# fig = make_subplots(\n",
    "#     rows=3, cols=1,\n",
    "#     shared_xaxes=True,\n",
    "#     vertical_spacing=0.03,\n",
    "#     specs=[[{\"type\": \"table\"}],\n",
    "#            [{\"type\": \"scatter\"}],\n",
    "#            [{\"type\": \"scatter\"}]]\n",
    "# )\n",
    "\n",
    "# fig.add_trace(\n",
    "#     go.Scatter(\n",
    "#         x=df[\"Post Date\"],\n",
    "#         y=df[\"pos\"],\n",
    "#         mode=\"lines\",\n",
    "#         name=\"Positive Sentiment\"\n",
    "#     ),\n",
    "#     row=3, col=1\n",
    "# )\n",
    "\n",
    "# fig.add_trace(\n",
    "#     go.Scatter(\n",
    "#         x=df[\"Post Date\"],\n",
    "#         y=df[\"neg\"],\n",
    "#         mode=\"lines\",\n",
    "#         name=\"Negative Sentiment\"\n",
    "#     ),\n",
    "#     row=2, col=1\n",
    "# )\n",
    "\n",
    "# fig.add_trace(\n",
    "#     go.Table(\n",
    "#         columnwidth = [50,300,60,40,40],\n",
    "#         header=dict(\n",
    "#             values=[\"Timestamp\", \"Forum_Post_Raw\", \"User DisplayName\", \"Negative\", \"Neutral\", \"Positive\"],\n",
    "#             font=dict(size=10),\n",
    "#             align=\"left\"\n",
    "#         ),\n",
    "#         # cells=dict(\n",
    "#         #     values=[tweets[[\"created_at\",\"text\", \"screen_name\", \"neg\", \"neu\", \"pos\"]]],\n",
    "#         #     align = \"left\")\n",
    "#         cells=dict(values=[df['Post Date'], df.Forum_Post_Raw, df['User DisplayName'], df.neg, df.neu, df.pos],\n",
    "#                 fill_color = [[rowOddColor,rowEvenColor,rowOddColor, rowEvenColor,rowOddColor]*5],\n",
    "#                 align=['left', 'left', 'left', 'center', 'center', 'center'])        \n",
    "#     ),\n",
    "#     row=1, col=1\n",
    "# )\n",
    "# fig.update_layout(\n",
    "#     height=800,\n",
    "#     showlegend=False,\n",
    "#     title_text=\"Twitter Sentiment for \" + GraphTitle,\n",
    "# )\n",
    "\n",
    "# fig.write_html('Sentiment.html')\n",
    "# fig.show()"
   ]
  },
  {
   "cell_type": "code",
   "execution_count": 127,
   "metadata": {},
   "outputs": [
    {
     "name": "stderr",
     "output_type": "stream",
     "text": [
      "C:\\Users\\BDelamater\\Anaconda3\\lib\\site-packages\\ipykernel\\ipkernel.py:287: DeprecationWarning:\n",
      "\n",
      "`should_run_async` will not call `transform_cell` automatically in the future. Please pass the result to `transformed_cell` argument and any exception that happen during thetransform in `preprocessing_exc_tuple` in IPython 7.17 and above.\n",
      "\n"
     ]
    }
   ],
   "source": [
    "features = ['Forum_Post_Raw','neg','neu','pos']\n",
    "\n",
    "# Top 5 Neutral Tweets\n",
    "dfNeu = df[features].sort_values(\"neu\", ascending=False).head(5)\n",
    "dfNeu.name = \"Neutral\"\n",
    "\n",
    "# Top 5 Negative Tweets\n",
    "dfNeg = df[features].sort_values(\"neg\", ascending=False).head(5)\n",
    "dfNeg.name = \"Negative\"\n",
    "\n",
    "# Top 5 Positive Tweets\n",
    "dfPos = df[features].sort_values(\"pos\", ascending=False).head(5)\n",
    "dfPos.name = \"Positive\"\n",
    "dataSets = [dfNeu,dfPos, dfNeg]\n"
   ]
  },
  {
   "cell_type": "code",
   "execution_count": 128,
   "metadata": {},
   "outputs": [
    {
     "name": "stderr",
     "output_type": "stream",
     "text": [
      "C:\\Users\\BDelamater\\Anaconda3\\lib\\site-packages\\ipykernel\\ipkernel.py:287: DeprecationWarning:\n",
      "\n",
      "`should_run_async` will not call `transform_cell` automatically in the future. Please pass the result to `transformed_cell` argument and any exception that happen during thetransform in `preprocessing_exc_tuple` in IPython 7.17 and above.\n",
      "\n"
     ]
    },
    {
     "data": {
      "text/html": [
       "<div>\n",
       "<style scoped>\n",
       "    .dataframe tbody tr th:only-of-type {\n",
       "        vertical-align: middle;\n",
       "    }\n",
       "\n",
       "    .dataframe tbody tr th {\n",
       "        vertical-align: top;\n",
       "    }\n",
       "\n",
       "    .dataframe thead th {\n",
       "        text-align: right;\n",
       "    }\n",
       "</style>\n",
       "<table border=\"1\" class=\"dataframe\">\n",
       "  <thead>\n",
       "    <tr style=\"text-align: right;\">\n",
       "      <th></th>\n",
       "      <th>Forum ID</th>\n",
       "      <th>compound</th>\n",
       "      <th>neg</th>\n",
       "      <th>neu</th>\n",
       "      <th>pos</th>\n",
       "      <th>DayOfMonth</th>\n",
       "    </tr>\n",
       "  </thead>\n",
       "  <tbody>\n",
       "    <tr>\n",
       "      <th>count</th>\n",
       "      <td>1086.000000</td>\n",
       "      <td>1086.000000</td>\n",
       "      <td>1086.000000</td>\n",
       "      <td>1086.000000</td>\n",
       "      <td>1086.000000</td>\n",
       "      <td>1086.000000</td>\n",
       "    </tr>\n",
       "    <tr>\n",
       "      <th>mean</th>\n",
       "      <td>91.429098</td>\n",
       "      <td>0.358396</td>\n",
       "      <td>0.039499</td>\n",
       "      <td>0.853801</td>\n",
       "      <td>0.105767</td>\n",
       "      <td>15.840700</td>\n",
       "    </tr>\n",
       "    <tr>\n",
       "      <th>std</th>\n",
       "      <td>155.599403</td>\n",
       "      <td>0.520617</td>\n",
       "      <td>0.053476</td>\n",
       "      <td>0.091070</td>\n",
       "      <td>0.076172</td>\n",
       "      <td>8.454238</td>\n",
       "    </tr>\n",
       "    <tr>\n",
       "      <th>min</th>\n",
       "      <td>40.000000</td>\n",
       "      <td>-0.997200</td>\n",
       "      <td>0.000000</td>\n",
       "      <td>0.000000</td>\n",
       "      <td>0.000000</td>\n",
       "      <td>1.000000</td>\n",
       "    </tr>\n",
       "    <tr>\n",
       "      <th>25%</th>\n",
       "      <td>40.000000</td>\n",
       "      <td>0.000000</td>\n",
       "      <td>0.000000</td>\n",
       "      <td>0.802000</td>\n",
       "      <td>0.050000</td>\n",
       "      <td>9.000000</td>\n",
       "    </tr>\n",
       "    <tr>\n",
       "      <th>50%</th>\n",
       "      <td>40.000000</td>\n",
       "      <td>0.495150</td>\n",
       "      <td>0.018000</td>\n",
       "      <td>0.862500</td>\n",
       "      <td>0.098000</td>\n",
       "      <td>16.000000</td>\n",
       "    </tr>\n",
       "    <tr>\n",
       "      <th>75%</th>\n",
       "      <td>40.000000</td>\n",
       "      <td>0.805275</td>\n",
       "      <td>0.064000</td>\n",
       "      <td>0.916000</td>\n",
       "      <td>0.152000</td>\n",
       "      <td>23.000000</td>\n",
       "    </tr>\n",
       "    <tr>\n",
       "      <th>max</th>\n",
       "      <td>673.000000</td>\n",
       "      <td>0.989500</td>\n",
       "      <td>0.415000</td>\n",
       "      <td>1.000000</td>\n",
       "      <td>0.394000</td>\n",
       "      <td>31.000000</td>\n",
       "    </tr>\n",
       "  </tbody>\n",
       "</table>\n",
       "</div>"
      ],
      "text/plain": [
       "          Forum ID     compound          neg          neu          pos  \\\n",
       "count  1086.000000  1086.000000  1086.000000  1086.000000  1086.000000   \n",
       "mean     91.429098     0.358396     0.039499     0.853801     0.105767   \n",
       "std     155.599403     0.520617     0.053476     0.091070     0.076172   \n",
       "min      40.000000    -0.997200     0.000000     0.000000     0.000000   \n",
       "25%      40.000000     0.000000     0.000000     0.802000     0.050000   \n",
       "50%      40.000000     0.495150     0.018000     0.862500     0.098000   \n",
       "75%      40.000000     0.805275     0.064000     0.916000     0.152000   \n",
       "max     673.000000     0.989500     0.415000     1.000000     0.394000   \n",
       "\n",
       "        DayOfMonth  \n",
       "count  1086.000000  \n",
       "mean     15.840700  \n",
       "std       8.454238  \n",
       "min       1.000000  \n",
       "25%       9.000000  \n",
       "50%      16.000000  \n",
       "75%      23.000000  \n",
       "max      31.000000  "
      ]
     },
     "execution_count": 128,
     "metadata": {},
     "output_type": "execute_result"
    }
   ],
   "source": [
    "df.describe()"
   ]
  },
  {
   "cell_type": "code",
   "execution_count": 129,
   "metadata": {},
   "outputs": [
    {
     "name": "stderr",
     "output_type": "stream",
     "text": [
      "C:\\Users\\BDelamater\\Anaconda3\\lib\\site-packages\\ipykernel\\ipkernel.py:287: DeprecationWarning:\n",
      "\n",
      "`should_run_async` will not call `transform_cell` automatically in the future. Please pass the result to `transformed_cell` argument and any exception that happen during thetransform in `preprocessing_exc_tuple` in IPython 7.17 and above.\n",
      "\n"
     ]
    }
   ],
   "source": [
    "# Alternative way to make tables, doesn't work as well!\n",
    "# import plotly.figure_factory as ff\n",
    "\n",
    "# def WriteTable(dataSets):\n",
    "#     for frame in dataSets:\n",
    "#         fig =  ff.create_table(frame)\n",
    "#         fig.write_html(frame.name+\".html\")\n",
    "#         fig.show()\n",
    "\n",
    "# WriteTable(dataSets)"
   ]
  },
  {
   "cell_type": "code",
   "execution_count": 130,
   "metadata": {},
   "outputs": [
    {
     "name": "stderr",
     "output_type": "stream",
     "text": [
      "C:\\Users\\BDelamater\\Anaconda3\\lib\\site-packages\\ipykernel\\ipkernel.py:287: DeprecationWarning:\n",
      "\n",
      "`should_run_async` will not call `transform_cell` automatically in the future. Please pass the result to `transformed_cell` argument and any exception that happen during thetransform in `preprocessing_exc_tuple` in IPython 7.17 and above.\n",
      "\n"
     ]
    },
    {
     "data": {
      "application/vnd.plotly.v1+json": {
       "config": {
        "plotlyServerURL": "https://plot.ly"
       },
       "data": [
        {
         "cells": {
          "align": [
           "left",
           "center",
           "center",
           "center"
          ],
          "fill": {
           "color": [
            [
             "white",
             "lightgrey",
             "white",
             "lightgrey",
             "white",
             "white",
             "lightgrey",
             "white",
             "lightgrey",
             "white",
             "white",
             "lightgrey",
             "white",
             "lightgrey",
             "white",
             "white",
             "lightgrey",
             "white",
             "lightgrey",
             "white",
             "white",
             "lightgrey",
             "white",
             "lightgrey",
             "white"
            ]
           ]
          },
          "values": [
           [
            "Is there a way to force unique records only?",
            "I saw the posts about the parameter setting that would turn on this table being populated, but my parameters say \"no\", yet I'm seeing user transactions populate in this table.  Where are the settings that would prompt user transactions to populate in AESPION?",
            "Is there a way to reload all the default landing pages, for some reason I have a user that only shows a few, and he has admin rights so they should all be available.....",
            "Has anybody put the stock valuation report (FUNSTVA) on the batch server. \nI was wondering what the file box is used for and if somebody could give me an example path so I have an idea of what would go in there. ",
            "Hi,\nWhy does a purchase receipt take the closed state?"
           ],
           [
            0,
            0,
            0,
            0,
            0
           ],
           [
            1,
            1,
            1,
            1,
            1
           ],
           [
            0,
            0,
            0,
            0,
            0
           ]
          ]
         },
         "columnwidth": [
          300,
          40,
          40,
          40
         ],
         "header": {
          "align": [
           "left",
           "center",
           "center",
           "center"
          ],
          "fill": {
           "color": "#39416C"
          },
          "font": {
           "color": "white",
           "size": 12
          },
          "values": [
           "Forum_Post_Raw",
           "neg",
           "neu",
           "pos"
          ]
         },
         "type": "table"
        }
       ],
       "layout": {
        "height": 400,
        "template": {
         "data": {
          "bar": [
           {
            "error_x": {
             "color": "#2a3f5f"
            },
            "error_y": {
             "color": "#2a3f5f"
            },
            "marker": {
             "line": {
              "color": "#E5ECF6",
              "width": 0.5
             }
            },
            "type": "bar"
           }
          ],
          "barpolar": [
           {
            "marker": {
             "line": {
              "color": "#E5ECF6",
              "width": 0.5
             }
            },
            "type": "barpolar"
           }
          ],
          "carpet": [
           {
            "aaxis": {
             "endlinecolor": "#2a3f5f",
             "gridcolor": "white",
             "linecolor": "white",
             "minorgridcolor": "white",
             "startlinecolor": "#2a3f5f"
            },
            "baxis": {
             "endlinecolor": "#2a3f5f",
             "gridcolor": "white",
             "linecolor": "white",
             "minorgridcolor": "white",
             "startlinecolor": "#2a3f5f"
            },
            "type": "carpet"
           }
          ],
          "choropleth": [
           {
            "colorbar": {
             "outlinewidth": 0,
             "ticks": ""
            },
            "type": "choropleth"
           }
          ],
          "contour": [
           {
            "colorbar": {
             "outlinewidth": 0,
             "ticks": ""
            },
            "colorscale": [
             [
              0,
              "#0d0887"
             ],
             [
              0.1111111111111111,
              "#46039f"
             ],
             [
              0.2222222222222222,
              "#7201a8"
             ],
             [
              0.3333333333333333,
              "#9c179e"
             ],
             [
              0.4444444444444444,
              "#bd3786"
             ],
             [
              0.5555555555555556,
              "#d8576b"
             ],
             [
              0.6666666666666666,
              "#ed7953"
             ],
             [
              0.7777777777777778,
              "#fb9f3a"
             ],
             [
              0.8888888888888888,
              "#fdca26"
             ],
             [
              1,
              "#f0f921"
             ]
            ],
            "type": "contour"
           }
          ],
          "contourcarpet": [
           {
            "colorbar": {
             "outlinewidth": 0,
             "ticks": ""
            },
            "type": "contourcarpet"
           }
          ],
          "heatmap": [
           {
            "colorbar": {
             "outlinewidth": 0,
             "ticks": ""
            },
            "colorscale": [
             [
              0,
              "#0d0887"
             ],
             [
              0.1111111111111111,
              "#46039f"
             ],
             [
              0.2222222222222222,
              "#7201a8"
             ],
             [
              0.3333333333333333,
              "#9c179e"
             ],
             [
              0.4444444444444444,
              "#bd3786"
             ],
             [
              0.5555555555555556,
              "#d8576b"
             ],
             [
              0.6666666666666666,
              "#ed7953"
             ],
             [
              0.7777777777777778,
              "#fb9f3a"
             ],
             [
              0.8888888888888888,
              "#fdca26"
             ],
             [
              1,
              "#f0f921"
             ]
            ],
            "type": "heatmap"
           }
          ],
          "heatmapgl": [
           {
            "colorbar": {
             "outlinewidth": 0,
             "ticks": ""
            },
            "colorscale": [
             [
              0,
              "#0d0887"
             ],
             [
              0.1111111111111111,
              "#46039f"
             ],
             [
              0.2222222222222222,
              "#7201a8"
             ],
             [
              0.3333333333333333,
              "#9c179e"
             ],
             [
              0.4444444444444444,
              "#bd3786"
             ],
             [
              0.5555555555555556,
              "#d8576b"
             ],
             [
              0.6666666666666666,
              "#ed7953"
             ],
             [
              0.7777777777777778,
              "#fb9f3a"
             ],
             [
              0.8888888888888888,
              "#fdca26"
             ],
             [
              1,
              "#f0f921"
             ]
            ],
            "type": "heatmapgl"
           }
          ],
          "histogram": [
           {
            "marker": {
             "colorbar": {
              "outlinewidth": 0,
              "ticks": ""
             }
            },
            "type": "histogram"
           }
          ],
          "histogram2d": [
           {
            "colorbar": {
             "outlinewidth": 0,
             "ticks": ""
            },
            "colorscale": [
             [
              0,
              "#0d0887"
             ],
             [
              0.1111111111111111,
              "#46039f"
             ],
             [
              0.2222222222222222,
              "#7201a8"
             ],
             [
              0.3333333333333333,
              "#9c179e"
             ],
             [
              0.4444444444444444,
              "#bd3786"
             ],
             [
              0.5555555555555556,
              "#d8576b"
             ],
             [
              0.6666666666666666,
              "#ed7953"
             ],
             [
              0.7777777777777778,
              "#fb9f3a"
             ],
             [
              0.8888888888888888,
              "#fdca26"
             ],
             [
              1,
              "#f0f921"
             ]
            ],
            "type": "histogram2d"
           }
          ],
          "histogram2dcontour": [
           {
            "colorbar": {
             "outlinewidth": 0,
             "ticks": ""
            },
            "colorscale": [
             [
              0,
              "#0d0887"
             ],
             [
              0.1111111111111111,
              "#46039f"
             ],
             [
              0.2222222222222222,
              "#7201a8"
             ],
             [
              0.3333333333333333,
              "#9c179e"
             ],
             [
              0.4444444444444444,
              "#bd3786"
             ],
             [
              0.5555555555555556,
              "#d8576b"
             ],
             [
              0.6666666666666666,
              "#ed7953"
             ],
             [
              0.7777777777777778,
              "#fb9f3a"
             ],
             [
              0.8888888888888888,
              "#fdca26"
             ],
             [
              1,
              "#f0f921"
             ]
            ],
            "type": "histogram2dcontour"
           }
          ],
          "mesh3d": [
           {
            "colorbar": {
             "outlinewidth": 0,
             "ticks": ""
            },
            "type": "mesh3d"
           }
          ],
          "parcoords": [
           {
            "line": {
             "colorbar": {
              "outlinewidth": 0,
              "ticks": ""
             }
            },
            "type": "parcoords"
           }
          ],
          "pie": [
           {
            "automargin": true,
            "type": "pie"
           }
          ],
          "scatter": [
           {
            "marker": {
             "colorbar": {
              "outlinewidth": 0,
              "ticks": ""
             }
            },
            "type": "scatter"
           }
          ],
          "scatter3d": [
           {
            "line": {
             "colorbar": {
              "outlinewidth": 0,
              "ticks": ""
             }
            },
            "marker": {
             "colorbar": {
              "outlinewidth": 0,
              "ticks": ""
             }
            },
            "type": "scatter3d"
           }
          ],
          "scattercarpet": [
           {
            "marker": {
             "colorbar": {
              "outlinewidth": 0,
              "ticks": ""
             }
            },
            "type": "scattercarpet"
           }
          ],
          "scattergeo": [
           {
            "marker": {
             "colorbar": {
              "outlinewidth": 0,
              "ticks": ""
             }
            },
            "type": "scattergeo"
           }
          ],
          "scattergl": [
           {
            "marker": {
             "colorbar": {
              "outlinewidth": 0,
              "ticks": ""
             }
            },
            "type": "scattergl"
           }
          ],
          "scattermapbox": [
           {
            "marker": {
             "colorbar": {
              "outlinewidth": 0,
              "ticks": ""
             }
            },
            "type": "scattermapbox"
           }
          ],
          "scatterpolar": [
           {
            "marker": {
             "colorbar": {
              "outlinewidth": 0,
              "ticks": ""
             }
            },
            "type": "scatterpolar"
           }
          ],
          "scatterpolargl": [
           {
            "marker": {
             "colorbar": {
              "outlinewidth": 0,
              "ticks": ""
             }
            },
            "type": "scatterpolargl"
           }
          ],
          "scatterternary": [
           {
            "marker": {
             "colorbar": {
              "outlinewidth": 0,
              "ticks": ""
             }
            },
            "type": "scatterternary"
           }
          ],
          "surface": [
           {
            "colorbar": {
             "outlinewidth": 0,
             "ticks": ""
            },
            "colorscale": [
             [
              0,
              "#0d0887"
             ],
             [
              0.1111111111111111,
              "#46039f"
             ],
             [
              0.2222222222222222,
              "#7201a8"
             ],
             [
              0.3333333333333333,
              "#9c179e"
             ],
             [
              0.4444444444444444,
              "#bd3786"
             ],
             [
              0.5555555555555556,
              "#d8576b"
             ],
             [
              0.6666666666666666,
              "#ed7953"
             ],
             [
              0.7777777777777778,
              "#fb9f3a"
             ],
             [
              0.8888888888888888,
              "#fdca26"
             ],
             [
              1,
              "#f0f921"
             ]
            ],
            "type": "surface"
           }
          ],
          "table": [
           {
            "cells": {
             "fill": {
              "color": "#EBF0F8"
             },
             "line": {
              "color": "white"
             }
            },
            "header": {
             "fill": {
              "color": "#C8D4E3"
             },
             "line": {
              "color": "white"
             }
            },
            "type": "table"
           }
          ]
         },
         "layout": {
          "annotationdefaults": {
           "arrowcolor": "#2a3f5f",
           "arrowhead": 0,
           "arrowwidth": 1
          },
          "autotypenumbers": "strict",
          "coloraxis": {
           "colorbar": {
            "outlinewidth": 0,
            "ticks": ""
           }
          },
          "colorscale": {
           "diverging": [
            [
             0,
             "#8e0152"
            ],
            [
             0.1,
             "#c51b7d"
            ],
            [
             0.2,
             "#de77ae"
            ],
            [
             0.3,
             "#f1b6da"
            ],
            [
             0.4,
             "#fde0ef"
            ],
            [
             0.5,
             "#f7f7f7"
            ],
            [
             0.6,
             "#e6f5d0"
            ],
            [
             0.7,
             "#b8e186"
            ],
            [
             0.8,
             "#7fbc41"
            ],
            [
             0.9,
             "#4d9221"
            ],
            [
             1,
             "#276419"
            ]
           ],
           "sequential": [
            [
             0,
             "#0d0887"
            ],
            [
             0.1111111111111111,
             "#46039f"
            ],
            [
             0.2222222222222222,
             "#7201a8"
            ],
            [
             0.3333333333333333,
             "#9c179e"
            ],
            [
             0.4444444444444444,
             "#bd3786"
            ],
            [
             0.5555555555555556,
             "#d8576b"
            ],
            [
             0.6666666666666666,
             "#ed7953"
            ],
            [
             0.7777777777777778,
             "#fb9f3a"
            ],
            [
             0.8888888888888888,
             "#fdca26"
            ],
            [
             1,
             "#f0f921"
            ]
           ],
           "sequentialminus": [
            [
             0,
             "#0d0887"
            ],
            [
             0.1111111111111111,
             "#46039f"
            ],
            [
             0.2222222222222222,
             "#7201a8"
            ],
            [
             0.3333333333333333,
             "#9c179e"
            ],
            [
             0.4444444444444444,
             "#bd3786"
            ],
            [
             0.5555555555555556,
             "#d8576b"
            ],
            [
             0.6666666666666666,
             "#ed7953"
            ],
            [
             0.7777777777777778,
             "#fb9f3a"
            ],
            [
             0.8888888888888888,
             "#fdca26"
            ],
            [
             1,
             "#f0f921"
            ]
           ]
          },
          "colorway": [
           "#636efa",
           "#EF553B",
           "#00cc96",
           "#ab63fa",
           "#FFA15A",
           "#19d3f3",
           "#FF6692",
           "#B6E880",
           "#FF97FF",
           "#FECB52"
          ],
          "font": {
           "color": "#2a3f5f"
          },
          "geo": {
           "bgcolor": "white",
           "lakecolor": "white",
           "landcolor": "#E5ECF6",
           "showlakes": true,
           "showland": true,
           "subunitcolor": "white"
          },
          "hoverlabel": {
           "align": "left"
          },
          "hovermode": "closest",
          "mapbox": {
           "style": "light"
          },
          "paper_bgcolor": "white",
          "plot_bgcolor": "#E5ECF6",
          "polar": {
           "angularaxis": {
            "gridcolor": "white",
            "linecolor": "white",
            "ticks": ""
           },
           "bgcolor": "#E5ECF6",
           "radialaxis": {
            "gridcolor": "white",
            "linecolor": "white",
            "ticks": ""
           }
          },
          "scene": {
           "xaxis": {
            "backgroundcolor": "#E5ECF6",
            "gridcolor": "white",
            "gridwidth": 2,
            "linecolor": "white",
            "showbackground": true,
            "ticks": "",
            "zerolinecolor": "white"
           },
           "yaxis": {
            "backgroundcolor": "#E5ECF6",
            "gridcolor": "white",
            "gridwidth": 2,
            "linecolor": "white",
            "showbackground": true,
            "ticks": "",
            "zerolinecolor": "white"
           },
           "zaxis": {
            "backgroundcolor": "#E5ECF6",
            "gridcolor": "white",
            "gridwidth": 2,
            "linecolor": "white",
            "showbackground": true,
            "ticks": "",
            "zerolinecolor": "white"
           }
          },
          "shapedefaults": {
           "line": {
            "color": "#2a3f5f"
           }
          },
          "ternary": {
           "aaxis": {
            "gridcolor": "white",
            "linecolor": "white",
            "ticks": ""
           },
           "baxis": {
            "gridcolor": "white",
            "linecolor": "white",
            "ticks": ""
           },
           "bgcolor": "#E5ECF6",
           "caxis": {
            "gridcolor": "white",
            "linecolor": "white",
            "ticks": ""
           }
          },
          "title": {
           "x": 0.05
          },
          "xaxis": {
           "automargin": true,
           "gridcolor": "white",
           "linecolor": "white",
           "ticks": "",
           "title": {
            "standoff": 15
           },
           "zerolinecolor": "white",
           "zerolinewidth": 2
          },
          "yaxis": {
           "automargin": true,
           "gridcolor": "white",
           "linecolor": "white",
           "ticks": "",
           "title": {
            "standoff": 15
           },
           "zerolinecolor": "white",
           "zerolinewidth": 2
          }
         }
        },
        "title": {
         "text": "Neutral"
        },
        "width": 1000
       }
      },
      "text/html": [
       "<div>                            <div id=\"05c79dfb-41a9-400e-84bb-d46c10a75a3d\" class=\"plotly-graph-div\" style=\"height:400px; width:1000px;\"></div>            <script type=\"text/javascript\">                require([\"plotly\"], function(Plotly) {                    window.PLOTLYENV=window.PLOTLYENV || {};                                    if (document.getElementById(\"05c79dfb-41a9-400e-84bb-d46c10a75a3d\")) {                    Plotly.newPlot(                        \"05c79dfb-41a9-400e-84bb-d46c10a75a3d\",                        [{\"cells\": {\"align\": [\"left\", \"center\", \"center\", \"center\"], \"fill\": {\"color\": [[\"white\", \"lightgrey\", \"white\", \"lightgrey\", \"white\", \"white\", \"lightgrey\", \"white\", \"lightgrey\", \"white\", \"white\", \"lightgrey\", \"white\", \"lightgrey\", \"white\", \"white\", \"lightgrey\", \"white\", \"lightgrey\", \"white\", \"white\", \"lightgrey\", \"white\", \"lightgrey\", \"white\"]]}, \"values\": [[\"Is there a way to force unique records only?\", \"I saw the posts about the parameter setting that would turn on this table being populated, but my parameters say \\\"no\\\", yet I'm seeing user transactions populate in this table.\\u00a0 Where are the settings that would prompt user transactions to populate in\\u00a0AESPION?\", \"Is there a way to reload all the default landing pages, for some reason I have a user that only shows a few, and he has admin rights so they should all be available.....\", \"Has anybody put the stock valuation report (FUNSTVA) on the batch server.\\u00a0\\nI was wondering what the file box is used for and if somebody could give me an example path so I have an idea of what would go in there.\\u00a0\", \"Hi,\\nWhy does a purchase receipt take the closed state?\"], [0.0, 0.0, 0.0, 0.0, 0.0], [1.0, 1.0, 1.0, 1.0, 1.0], [0.0, 0.0, 0.0, 0.0, 0.0]]}, \"columnwidth\": [300, 40, 40, 40], \"header\": {\"align\": [\"left\", \"center\", \"center\", \"center\"], \"fill\": {\"color\": \"#39416C\"}, \"font\": {\"color\": \"white\", \"size\": 12}, \"values\": [\"Forum_Post_Raw\", \"neg\", \"neu\", \"pos\"]}, \"type\": \"table\"}],                        {\"height\": 400, \"template\": {\"data\": {\"bar\": [{\"error_x\": {\"color\": \"#2a3f5f\"}, \"error_y\": {\"color\": \"#2a3f5f\"}, \"marker\": {\"line\": {\"color\": \"#E5ECF6\", \"width\": 0.5}}, \"type\": \"bar\"}], \"barpolar\": [{\"marker\": {\"line\": {\"color\": \"#E5ECF6\", \"width\": 0.5}}, \"type\": \"barpolar\"}], \"carpet\": [{\"aaxis\": {\"endlinecolor\": \"#2a3f5f\", \"gridcolor\": \"white\", \"linecolor\": \"white\", \"minorgridcolor\": \"white\", \"startlinecolor\": \"#2a3f5f\"}, \"baxis\": {\"endlinecolor\": \"#2a3f5f\", \"gridcolor\": \"white\", \"linecolor\": \"white\", \"minorgridcolor\": \"white\", \"startlinecolor\": \"#2a3f5f\"}, \"type\": \"carpet\"}], \"choropleth\": [{\"colorbar\": {\"outlinewidth\": 0, \"ticks\": \"\"}, \"type\": \"choropleth\"}], \"contour\": [{\"colorbar\": {\"outlinewidth\": 0, \"ticks\": \"\"}, \"colorscale\": [[0.0, \"#0d0887\"], [0.1111111111111111, \"#46039f\"], [0.2222222222222222, \"#7201a8\"], [0.3333333333333333, \"#9c179e\"], [0.4444444444444444, \"#bd3786\"], [0.5555555555555556, \"#d8576b\"], [0.6666666666666666, \"#ed7953\"], [0.7777777777777778, \"#fb9f3a\"], [0.8888888888888888, \"#fdca26\"], [1.0, \"#f0f921\"]], \"type\": \"contour\"}], \"contourcarpet\": [{\"colorbar\": {\"outlinewidth\": 0, \"ticks\": \"\"}, \"type\": \"contourcarpet\"}], \"heatmap\": [{\"colorbar\": {\"outlinewidth\": 0, \"ticks\": \"\"}, \"colorscale\": [[0.0, \"#0d0887\"], [0.1111111111111111, \"#46039f\"], [0.2222222222222222, \"#7201a8\"], [0.3333333333333333, \"#9c179e\"], [0.4444444444444444, \"#bd3786\"], [0.5555555555555556, \"#d8576b\"], [0.6666666666666666, \"#ed7953\"], [0.7777777777777778, \"#fb9f3a\"], [0.8888888888888888, \"#fdca26\"], [1.0, \"#f0f921\"]], \"type\": \"heatmap\"}], \"heatmapgl\": [{\"colorbar\": {\"outlinewidth\": 0, \"ticks\": \"\"}, \"colorscale\": [[0.0, \"#0d0887\"], [0.1111111111111111, \"#46039f\"], [0.2222222222222222, \"#7201a8\"], [0.3333333333333333, \"#9c179e\"], [0.4444444444444444, \"#bd3786\"], [0.5555555555555556, \"#d8576b\"], [0.6666666666666666, \"#ed7953\"], [0.7777777777777778, \"#fb9f3a\"], [0.8888888888888888, \"#fdca26\"], [1.0, \"#f0f921\"]], \"type\": \"heatmapgl\"}], \"histogram\": [{\"marker\": {\"colorbar\": {\"outlinewidth\": 0, \"ticks\": \"\"}}, \"type\": \"histogram\"}], \"histogram2d\": [{\"colorbar\": {\"outlinewidth\": 0, \"ticks\": \"\"}, \"colorscale\": [[0.0, \"#0d0887\"], [0.1111111111111111, \"#46039f\"], [0.2222222222222222, \"#7201a8\"], [0.3333333333333333, \"#9c179e\"], [0.4444444444444444, \"#bd3786\"], [0.5555555555555556, \"#d8576b\"], [0.6666666666666666, \"#ed7953\"], [0.7777777777777778, \"#fb9f3a\"], [0.8888888888888888, \"#fdca26\"], [1.0, \"#f0f921\"]], \"type\": \"histogram2d\"}], \"histogram2dcontour\": [{\"colorbar\": {\"outlinewidth\": 0, \"ticks\": \"\"}, \"colorscale\": [[0.0, \"#0d0887\"], [0.1111111111111111, \"#46039f\"], [0.2222222222222222, \"#7201a8\"], [0.3333333333333333, \"#9c179e\"], [0.4444444444444444, \"#bd3786\"], [0.5555555555555556, \"#d8576b\"], [0.6666666666666666, \"#ed7953\"], [0.7777777777777778, \"#fb9f3a\"], [0.8888888888888888, \"#fdca26\"], [1.0, \"#f0f921\"]], \"type\": \"histogram2dcontour\"}], \"mesh3d\": [{\"colorbar\": {\"outlinewidth\": 0, \"ticks\": \"\"}, \"type\": \"mesh3d\"}], \"parcoords\": [{\"line\": {\"colorbar\": {\"outlinewidth\": 0, \"ticks\": \"\"}}, \"type\": \"parcoords\"}], \"pie\": [{\"automargin\": true, \"type\": \"pie\"}], \"scatter\": [{\"marker\": {\"colorbar\": {\"outlinewidth\": 0, \"ticks\": \"\"}}, \"type\": \"scatter\"}], \"scatter3d\": [{\"line\": {\"colorbar\": {\"outlinewidth\": 0, \"ticks\": \"\"}}, \"marker\": {\"colorbar\": {\"outlinewidth\": 0, \"ticks\": \"\"}}, \"type\": \"scatter3d\"}], \"scattercarpet\": [{\"marker\": {\"colorbar\": {\"outlinewidth\": 0, \"ticks\": \"\"}}, \"type\": \"scattercarpet\"}], \"scattergeo\": [{\"marker\": {\"colorbar\": {\"outlinewidth\": 0, \"ticks\": \"\"}}, \"type\": \"scattergeo\"}], \"scattergl\": [{\"marker\": {\"colorbar\": {\"outlinewidth\": 0, \"ticks\": \"\"}}, \"type\": \"scattergl\"}], \"scattermapbox\": [{\"marker\": {\"colorbar\": {\"outlinewidth\": 0, \"ticks\": \"\"}}, \"type\": \"scattermapbox\"}], \"scatterpolar\": [{\"marker\": {\"colorbar\": {\"outlinewidth\": 0, \"ticks\": \"\"}}, \"type\": \"scatterpolar\"}], \"scatterpolargl\": [{\"marker\": {\"colorbar\": {\"outlinewidth\": 0, \"ticks\": \"\"}}, \"type\": \"scatterpolargl\"}], \"scatterternary\": [{\"marker\": {\"colorbar\": {\"outlinewidth\": 0, \"ticks\": \"\"}}, \"type\": \"scatterternary\"}], \"surface\": [{\"colorbar\": {\"outlinewidth\": 0, \"ticks\": \"\"}, \"colorscale\": [[0.0, \"#0d0887\"], [0.1111111111111111, \"#46039f\"], [0.2222222222222222, \"#7201a8\"], [0.3333333333333333, \"#9c179e\"], [0.4444444444444444, \"#bd3786\"], [0.5555555555555556, \"#d8576b\"], [0.6666666666666666, \"#ed7953\"], [0.7777777777777778, \"#fb9f3a\"], [0.8888888888888888, \"#fdca26\"], [1.0, \"#f0f921\"]], \"type\": \"surface\"}], \"table\": [{\"cells\": {\"fill\": {\"color\": \"#EBF0F8\"}, \"line\": {\"color\": \"white\"}}, \"header\": {\"fill\": {\"color\": \"#C8D4E3\"}, \"line\": {\"color\": \"white\"}}, \"type\": \"table\"}]}, \"layout\": {\"annotationdefaults\": {\"arrowcolor\": \"#2a3f5f\", \"arrowhead\": 0, \"arrowwidth\": 1}, \"autotypenumbers\": \"strict\", \"coloraxis\": {\"colorbar\": {\"outlinewidth\": 0, \"ticks\": \"\"}}, \"colorscale\": {\"diverging\": [[0, \"#8e0152\"], [0.1, \"#c51b7d\"], [0.2, \"#de77ae\"], [0.3, \"#f1b6da\"], [0.4, \"#fde0ef\"], [0.5, \"#f7f7f7\"], [0.6, \"#e6f5d0\"], [0.7, \"#b8e186\"], [0.8, \"#7fbc41\"], [0.9, \"#4d9221\"], [1, \"#276419\"]], \"sequential\": [[0.0, \"#0d0887\"], [0.1111111111111111, \"#46039f\"], [0.2222222222222222, \"#7201a8\"], [0.3333333333333333, \"#9c179e\"], [0.4444444444444444, \"#bd3786\"], [0.5555555555555556, \"#d8576b\"], [0.6666666666666666, \"#ed7953\"], [0.7777777777777778, \"#fb9f3a\"], [0.8888888888888888, \"#fdca26\"], [1.0, \"#f0f921\"]], \"sequentialminus\": [[0.0, \"#0d0887\"], [0.1111111111111111, \"#46039f\"], [0.2222222222222222, \"#7201a8\"], [0.3333333333333333, \"#9c179e\"], [0.4444444444444444, \"#bd3786\"], [0.5555555555555556, \"#d8576b\"], [0.6666666666666666, \"#ed7953\"], [0.7777777777777778, \"#fb9f3a\"], [0.8888888888888888, \"#fdca26\"], [1.0, \"#f0f921\"]]}, \"colorway\": [\"#636efa\", \"#EF553B\", \"#00cc96\", \"#ab63fa\", \"#FFA15A\", \"#19d3f3\", \"#FF6692\", \"#B6E880\", \"#FF97FF\", \"#FECB52\"], \"font\": {\"color\": \"#2a3f5f\"}, \"geo\": {\"bgcolor\": \"white\", \"lakecolor\": \"white\", \"landcolor\": \"#E5ECF6\", \"showlakes\": true, \"showland\": true, \"subunitcolor\": \"white\"}, \"hoverlabel\": {\"align\": \"left\"}, \"hovermode\": \"closest\", \"mapbox\": {\"style\": \"light\"}, \"paper_bgcolor\": \"white\", \"plot_bgcolor\": \"#E5ECF6\", \"polar\": {\"angularaxis\": {\"gridcolor\": \"white\", \"linecolor\": \"white\", \"ticks\": \"\"}, \"bgcolor\": \"#E5ECF6\", \"radialaxis\": {\"gridcolor\": \"white\", \"linecolor\": \"white\", \"ticks\": \"\"}}, \"scene\": {\"xaxis\": {\"backgroundcolor\": \"#E5ECF6\", \"gridcolor\": \"white\", \"gridwidth\": 2, \"linecolor\": \"white\", \"showbackground\": true, \"ticks\": \"\", \"zerolinecolor\": \"white\"}, \"yaxis\": {\"backgroundcolor\": \"#E5ECF6\", \"gridcolor\": \"white\", \"gridwidth\": 2, \"linecolor\": \"white\", \"showbackground\": true, \"ticks\": \"\", \"zerolinecolor\": \"white\"}, \"zaxis\": {\"backgroundcolor\": \"#E5ECF6\", \"gridcolor\": \"white\", \"gridwidth\": 2, \"linecolor\": \"white\", \"showbackground\": true, \"ticks\": \"\", \"zerolinecolor\": \"white\"}}, \"shapedefaults\": {\"line\": {\"color\": \"#2a3f5f\"}}, \"ternary\": {\"aaxis\": {\"gridcolor\": \"white\", \"linecolor\": \"white\", \"ticks\": \"\"}, \"baxis\": {\"gridcolor\": \"white\", \"linecolor\": \"white\", \"ticks\": \"\"}, \"bgcolor\": \"#E5ECF6\", \"caxis\": {\"gridcolor\": \"white\", \"linecolor\": \"white\", \"ticks\": \"\"}}, \"title\": {\"x\": 0.05}, \"xaxis\": {\"automargin\": true, \"gridcolor\": \"white\", \"linecolor\": \"white\", \"ticks\": \"\", \"title\": {\"standoff\": 15}, \"zerolinecolor\": \"white\", \"zerolinewidth\": 2}, \"yaxis\": {\"automargin\": true, \"gridcolor\": \"white\", \"linecolor\": \"white\", \"ticks\": \"\", \"title\": {\"standoff\": 15}, \"zerolinecolor\": \"white\", \"zerolinewidth\": 2}}}, \"title\": {\"text\": \"Neutral\"}, \"width\": 1000},                        {\"responsive\": true}                    ).then(function(){\n",
       "                            \n",
       "var gd = document.getElementById('05c79dfb-41a9-400e-84bb-d46c10a75a3d');\n",
       "var x = new MutationObserver(function (mutations, observer) {{\n",
       "        var display = window.getComputedStyle(gd).display;\n",
       "        if (!display || display === 'none') {{\n",
       "            console.log([gd, 'removed!']);\n",
       "            Plotly.purge(gd);\n",
       "            observer.disconnect();\n",
       "        }}\n",
       "}});\n",
       "\n",
       "// Listen for the removal of the full notebook cells\n",
       "var notebookContainer = gd.closest('#notebook-container');\n",
       "if (notebookContainer) {{\n",
       "    x.observe(notebookContainer, {childList: true});\n",
       "}}\n",
       "\n",
       "// Listen for the clearing of the current output cell\n",
       "var outputEl = gd.closest('.output');\n",
       "if (outputEl) {{\n",
       "    x.observe(outputEl, {childList: true});\n",
       "}}\n",
       "\n",
       "                        })                };                });            </script>        </div>"
      ]
     },
     "metadata": {},
     "output_type": "display_data"
    },
    {
     "data": {
      "application/vnd.plotly.v1+json": {
       "config": {
        "plotlyServerURL": "https://plot.ly"
       },
       "data": [
        {
         "cells": {
          "align": [
           "left",
           "center",
           "center",
           "center"
          ],
          "fill": {
           "color": [
            [
             "white",
             "lightgrey",
             "white",
             "lightgrey",
             "white",
             "white",
             "lightgrey",
             "white",
             "lightgrey",
             "white",
             "white",
             "lightgrey",
             "white",
             "lightgrey",
             "white",
             "white",
             "lightgrey",
             "white",
             "lightgrey",
             "white",
             "white",
             "lightgrey",
             "white",
             "lightgrey",
             "white"
            ]
           ]
          },
          "values": [
           [
            "Has anyone created an import template for overseas containers?  Thanks!",
            "Hello All,\nHappy new year.\nPlease i notice on payment screen E.g Bank transfer - if i try to search for a transaction using amount field i get an error message. \nPlease kindly find screen shot below..\n\n\nPlease help.\n\nThank you.",
            "Hi Everyone! Wish you all an great 2021!\nI'm new to SAGE X3.\nHow can I refresh a query on \"landing page\"?\nI've tried with parameters \"portview\" and \"frequency\" but no success. \n\nAm I using the parameters correctly?\nThank you, for your help.\nBest regards,\nDaniel",
            "\n\nI have a problem in the transport counter despite the counter has been well created and well affect the counter allocation level, thank you for helping me to find a solution\n\n\n",
            "EAM JOB CARD Error occurs when trying to save on step 4 'Create transactions'\nPlease advise\n\n'"
           ],
           [
            0,
            0.054,
            0.045,
            0.073,
            0.127
           ],
           [
            0.606,
            0.563,
            0.583,
            0.569,
            0.516
           ],
           [
            0.394,
            0.382,
            0.372,
            0.358,
            0.357
           ]
          ]
         },
         "columnwidth": [
          300,
          40,
          40,
          40
         ],
         "header": {
          "align": [
           "left",
           "center",
           "center",
           "center"
          ],
          "fill": {
           "color": "#39416C"
          },
          "font": {
           "color": "white",
           "size": 12
          },
          "values": [
           "Forum_Post_Raw",
           "neg",
           "neu",
           "pos"
          ]
         },
         "type": "table"
        }
       ],
       "layout": {
        "height": 400,
        "template": {
         "data": {
          "bar": [
           {
            "error_x": {
             "color": "#2a3f5f"
            },
            "error_y": {
             "color": "#2a3f5f"
            },
            "marker": {
             "line": {
              "color": "#E5ECF6",
              "width": 0.5
             }
            },
            "type": "bar"
           }
          ],
          "barpolar": [
           {
            "marker": {
             "line": {
              "color": "#E5ECF6",
              "width": 0.5
             }
            },
            "type": "barpolar"
           }
          ],
          "carpet": [
           {
            "aaxis": {
             "endlinecolor": "#2a3f5f",
             "gridcolor": "white",
             "linecolor": "white",
             "minorgridcolor": "white",
             "startlinecolor": "#2a3f5f"
            },
            "baxis": {
             "endlinecolor": "#2a3f5f",
             "gridcolor": "white",
             "linecolor": "white",
             "minorgridcolor": "white",
             "startlinecolor": "#2a3f5f"
            },
            "type": "carpet"
           }
          ],
          "choropleth": [
           {
            "colorbar": {
             "outlinewidth": 0,
             "ticks": ""
            },
            "type": "choropleth"
           }
          ],
          "contour": [
           {
            "colorbar": {
             "outlinewidth": 0,
             "ticks": ""
            },
            "colorscale": [
             [
              0,
              "#0d0887"
             ],
             [
              0.1111111111111111,
              "#46039f"
             ],
             [
              0.2222222222222222,
              "#7201a8"
             ],
             [
              0.3333333333333333,
              "#9c179e"
             ],
             [
              0.4444444444444444,
              "#bd3786"
             ],
             [
              0.5555555555555556,
              "#d8576b"
             ],
             [
              0.6666666666666666,
              "#ed7953"
             ],
             [
              0.7777777777777778,
              "#fb9f3a"
             ],
             [
              0.8888888888888888,
              "#fdca26"
             ],
             [
              1,
              "#f0f921"
             ]
            ],
            "type": "contour"
           }
          ],
          "contourcarpet": [
           {
            "colorbar": {
             "outlinewidth": 0,
             "ticks": ""
            },
            "type": "contourcarpet"
           }
          ],
          "heatmap": [
           {
            "colorbar": {
             "outlinewidth": 0,
             "ticks": ""
            },
            "colorscale": [
             [
              0,
              "#0d0887"
             ],
             [
              0.1111111111111111,
              "#46039f"
             ],
             [
              0.2222222222222222,
              "#7201a8"
             ],
             [
              0.3333333333333333,
              "#9c179e"
             ],
             [
              0.4444444444444444,
              "#bd3786"
             ],
             [
              0.5555555555555556,
              "#d8576b"
             ],
             [
              0.6666666666666666,
              "#ed7953"
             ],
             [
              0.7777777777777778,
              "#fb9f3a"
             ],
             [
              0.8888888888888888,
              "#fdca26"
             ],
             [
              1,
              "#f0f921"
             ]
            ],
            "type": "heatmap"
           }
          ],
          "heatmapgl": [
           {
            "colorbar": {
             "outlinewidth": 0,
             "ticks": ""
            },
            "colorscale": [
             [
              0,
              "#0d0887"
             ],
             [
              0.1111111111111111,
              "#46039f"
             ],
             [
              0.2222222222222222,
              "#7201a8"
             ],
             [
              0.3333333333333333,
              "#9c179e"
             ],
             [
              0.4444444444444444,
              "#bd3786"
             ],
             [
              0.5555555555555556,
              "#d8576b"
             ],
             [
              0.6666666666666666,
              "#ed7953"
             ],
             [
              0.7777777777777778,
              "#fb9f3a"
             ],
             [
              0.8888888888888888,
              "#fdca26"
             ],
             [
              1,
              "#f0f921"
             ]
            ],
            "type": "heatmapgl"
           }
          ],
          "histogram": [
           {
            "marker": {
             "colorbar": {
              "outlinewidth": 0,
              "ticks": ""
             }
            },
            "type": "histogram"
           }
          ],
          "histogram2d": [
           {
            "colorbar": {
             "outlinewidth": 0,
             "ticks": ""
            },
            "colorscale": [
             [
              0,
              "#0d0887"
             ],
             [
              0.1111111111111111,
              "#46039f"
             ],
             [
              0.2222222222222222,
              "#7201a8"
             ],
             [
              0.3333333333333333,
              "#9c179e"
             ],
             [
              0.4444444444444444,
              "#bd3786"
             ],
             [
              0.5555555555555556,
              "#d8576b"
             ],
             [
              0.6666666666666666,
              "#ed7953"
             ],
             [
              0.7777777777777778,
              "#fb9f3a"
             ],
             [
              0.8888888888888888,
              "#fdca26"
             ],
             [
              1,
              "#f0f921"
             ]
            ],
            "type": "histogram2d"
           }
          ],
          "histogram2dcontour": [
           {
            "colorbar": {
             "outlinewidth": 0,
             "ticks": ""
            },
            "colorscale": [
             [
              0,
              "#0d0887"
             ],
             [
              0.1111111111111111,
              "#46039f"
             ],
             [
              0.2222222222222222,
              "#7201a8"
             ],
             [
              0.3333333333333333,
              "#9c179e"
             ],
             [
              0.4444444444444444,
              "#bd3786"
             ],
             [
              0.5555555555555556,
              "#d8576b"
             ],
             [
              0.6666666666666666,
              "#ed7953"
             ],
             [
              0.7777777777777778,
              "#fb9f3a"
             ],
             [
              0.8888888888888888,
              "#fdca26"
             ],
             [
              1,
              "#f0f921"
             ]
            ],
            "type": "histogram2dcontour"
           }
          ],
          "mesh3d": [
           {
            "colorbar": {
             "outlinewidth": 0,
             "ticks": ""
            },
            "type": "mesh3d"
           }
          ],
          "parcoords": [
           {
            "line": {
             "colorbar": {
              "outlinewidth": 0,
              "ticks": ""
             }
            },
            "type": "parcoords"
           }
          ],
          "pie": [
           {
            "automargin": true,
            "type": "pie"
           }
          ],
          "scatter": [
           {
            "marker": {
             "colorbar": {
              "outlinewidth": 0,
              "ticks": ""
             }
            },
            "type": "scatter"
           }
          ],
          "scatter3d": [
           {
            "line": {
             "colorbar": {
              "outlinewidth": 0,
              "ticks": ""
             }
            },
            "marker": {
             "colorbar": {
              "outlinewidth": 0,
              "ticks": ""
             }
            },
            "type": "scatter3d"
           }
          ],
          "scattercarpet": [
           {
            "marker": {
             "colorbar": {
              "outlinewidth": 0,
              "ticks": ""
             }
            },
            "type": "scattercarpet"
           }
          ],
          "scattergeo": [
           {
            "marker": {
             "colorbar": {
              "outlinewidth": 0,
              "ticks": ""
             }
            },
            "type": "scattergeo"
           }
          ],
          "scattergl": [
           {
            "marker": {
             "colorbar": {
              "outlinewidth": 0,
              "ticks": ""
             }
            },
            "type": "scattergl"
           }
          ],
          "scattermapbox": [
           {
            "marker": {
             "colorbar": {
              "outlinewidth": 0,
              "ticks": ""
             }
            },
            "type": "scattermapbox"
           }
          ],
          "scatterpolar": [
           {
            "marker": {
             "colorbar": {
              "outlinewidth": 0,
              "ticks": ""
             }
            },
            "type": "scatterpolar"
           }
          ],
          "scatterpolargl": [
           {
            "marker": {
             "colorbar": {
              "outlinewidth": 0,
              "ticks": ""
             }
            },
            "type": "scatterpolargl"
           }
          ],
          "scatterternary": [
           {
            "marker": {
             "colorbar": {
              "outlinewidth": 0,
              "ticks": ""
             }
            },
            "type": "scatterternary"
           }
          ],
          "surface": [
           {
            "colorbar": {
             "outlinewidth": 0,
             "ticks": ""
            },
            "colorscale": [
             [
              0,
              "#0d0887"
             ],
             [
              0.1111111111111111,
              "#46039f"
             ],
             [
              0.2222222222222222,
              "#7201a8"
             ],
             [
              0.3333333333333333,
              "#9c179e"
             ],
             [
              0.4444444444444444,
              "#bd3786"
             ],
             [
              0.5555555555555556,
              "#d8576b"
             ],
             [
              0.6666666666666666,
              "#ed7953"
             ],
             [
              0.7777777777777778,
              "#fb9f3a"
             ],
             [
              0.8888888888888888,
              "#fdca26"
             ],
             [
              1,
              "#f0f921"
             ]
            ],
            "type": "surface"
           }
          ],
          "table": [
           {
            "cells": {
             "fill": {
              "color": "#EBF0F8"
             },
             "line": {
              "color": "white"
             }
            },
            "header": {
             "fill": {
              "color": "#C8D4E3"
             },
             "line": {
              "color": "white"
             }
            },
            "type": "table"
           }
          ]
         },
         "layout": {
          "annotationdefaults": {
           "arrowcolor": "#2a3f5f",
           "arrowhead": 0,
           "arrowwidth": 1
          },
          "autotypenumbers": "strict",
          "coloraxis": {
           "colorbar": {
            "outlinewidth": 0,
            "ticks": ""
           }
          },
          "colorscale": {
           "diverging": [
            [
             0,
             "#8e0152"
            ],
            [
             0.1,
             "#c51b7d"
            ],
            [
             0.2,
             "#de77ae"
            ],
            [
             0.3,
             "#f1b6da"
            ],
            [
             0.4,
             "#fde0ef"
            ],
            [
             0.5,
             "#f7f7f7"
            ],
            [
             0.6,
             "#e6f5d0"
            ],
            [
             0.7,
             "#b8e186"
            ],
            [
             0.8,
             "#7fbc41"
            ],
            [
             0.9,
             "#4d9221"
            ],
            [
             1,
             "#276419"
            ]
           ],
           "sequential": [
            [
             0,
             "#0d0887"
            ],
            [
             0.1111111111111111,
             "#46039f"
            ],
            [
             0.2222222222222222,
             "#7201a8"
            ],
            [
             0.3333333333333333,
             "#9c179e"
            ],
            [
             0.4444444444444444,
             "#bd3786"
            ],
            [
             0.5555555555555556,
             "#d8576b"
            ],
            [
             0.6666666666666666,
             "#ed7953"
            ],
            [
             0.7777777777777778,
             "#fb9f3a"
            ],
            [
             0.8888888888888888,
             "#fdca26"
            ],
            [
             1,
             "#f0f921"
            ]
           ],
           "sequentialminus": [
            [
             0,
             "#0d0887"
            ],
            [
             0.1111111111111111,
             "#46039f"
            ],
            [
             0.2222222222222222,
             "#7201a8"
            ],
            [
             0.3333333333333333,
             "#9c179e"
            ],
            [
             0.4444444444444444,
             "#bd3786"
            ],
            [
             0.5555555555555556,
             "#d8576b"
            ],
            [
             0.6666666666666666,
             "#ed7953"
            ],
            [
             0.7777777777777778,
             "#fb9f3a"
            ],
            [
             0.8888888888888888,
             "#fdca26"
            ],
            [
             1,
             "#f0f921"
            ]
           ]
          },
          "colorway": [
           "#636efa",
           "#EF553B",
           "#00cc96",
           "#ab63fa",
           "#FFA15A",
           "#19d3f3",
           "#FF6692",
           "#B6E880",
           "#FF97FF",
           "#FECB52"
          ],
          "font": {
           "color": "#2a3f5f"
          },
          "geo": {
           "bgcolor": "white",
           "lakecolor": "white",
           "landcolor": "#E5ECF6",
           "showlakes": true,
           "showland": true,
           "subunitcolor": "white"
          },
          "hoverlabel": {
           "align": "left"
          },
          "hovermode": "closest",
          "mapbox": {
           "style": "light"
          },
          "paper_bgcolor": "white",
          "plot_bgcolor": "#E5ECF6",
          "polar": {
           "angularaxis": {
            "gridcolor": "white",
            "linecolor": "white",
            "ticks": ""
           },
           "bgcolor": "#E5ECF6",
           "radialaxis": {
            "gridcolor": "white",
            "linecolor": "white",
            "ticks": ""
           }
          },
          "scene": {
           "xaxis": {
            "backgroundcolor": "#E5ECF6",
            "gridcolor": "white",
            "gridwidth": 2,
            "linecolor": "white",
            "showbackground": true,
            "ticks": "",
            "zerolinecolor": "white"
           },
           "yaxis": {
            "backgroundcolor": "#E5ECF6",
            "gridcolor": "white",
            "gridwidth": 2,
            "linecolor": "white",
            "showbackground": true,
            "ticks": "",
            "zerolinecolor": "white"
           },
           "zaxis": {
            "backgroundcolor": "#E5ECF6",
            "gridcolor": "white",
            "gridwidth": 2,
            "linecolor": "white",
            "showbackground": true,
            "ticks": "",
            "zerolinecolor": "white"
           }
          },
          "shapedefaults": {
           "line": {
            "color": "#2a3f5f"
           }
          },
          "ternary": {
           "aaxis": {
            "gridcolor": "white",
            "linecolor": "white",
            "ticks": ""
           },
           "baxis": {
            "gridcolor": "white",
            "linecolor": "white",
            "ticks": ""
           },
           "bgcolor": "#E5ECF6",
           "caxis": {
            "gridcolor": "white",
            "linecolor": "white",
            "ticks": ""
           }
          },
          "title": {
           "x": 0.05
          },
          "xaxis": {
           "automargin": true,
           "gridcolor": "white",
           "linecolor": "white",
           "ticks": "",
           "title": {
            "standoff": 15
           },
           "zerolinecolor": "white",
           "zerolinewidth": 2
          },
          "yaxis": {
           "automargin": true,
           "gridcolor": "white",
           "linecolor": "white",
           "ticks": "",
           "title": {
            "standoff": 15
           },
           "zerolinecolor": "white",
           "zerolinewidth": 2
          }
         }
        },
        "title": {
         "text": "Positive"
        },
        "width": 1000
       }
      },
      "text/html": [
       "<div>                            <div id=\"15912976-4d40-4e39-a081-68ab3d608bc7\" class=\"plotly-graph-div\" style=\"height:400px; width:1000px;\"></div>            <script type=\"text/javascript\">                require([\"plotly\"], function(Plotly) {                    window.PLOTLYENV=window.PLOTLYENV || {};                                    if (document.getElementById(\"15912976-4d40-4e39-a081-68ab3d608bc7\")) {                    Plotly.newPlot(                        \"15912976-4d40-4e39-a081-68ab3d608bc7\",                        [{\"cells\": {\"align\": [\"left\", \"center\", \"center\", \"center\"], \"fill\": {\"color\": [[\"white\", \"lightgrey\", \"white\", \"lightgrey\", \"white\", \"white\", \"lightgrey\", \"white\", \"lightgrey\", \"white\", \"white\", \"lightgrey\", \"white\", \"lightgrey\", \"white\", \"white\", \"lightgrey\", \"white\", \"lightgrey\", \"white\", \"white\", \"lightgrey\", \"white\", \"lightgrey\", \"white\"]]}, \"values\": [[\"Has anyone created an import template for overseas containers?\\u00a0 Thanks!\", \"Hello All,\\nHappy new year.\\nPlease i notice on payment screen E.g Bank transfer - if i try to search for a transaction using amount field i get an error message.\\u00a0\\nPlease kindly find screen shot below..\\n\\n\\nPlease help.\\n\\nThank you.\", \"Hi Everyone! Wish you all an great 2021!\\nI'm new to SAGE X3.\\nHow can I refresh a query on \\\"landing page\\\"?\\nI've tried with parameters \\\"portview\\\" and \\\"frequency\\\" but no success.\\u00a0\\n\\nAm I using the parameters correctly?\\nThank you, for your help.\\nBest regards,\\nDaniel\", \"\\n\\nI have a problem in the transport counter despite the counter has been well created and well affect the counter allocation level, thank you for helping me to find a solution\\n\\n\\n\", \"EAM JOB CARD Error occurs when trying to save on step 4 'Create transactions'\\nPlease advise\\n\\n'\"], [0.0, 0.054, 0.045, 0.073, 0.127], [0.606, 0.563, 0.583, 0.569, 0.516], [0.394, 0.382, 0.372, 0.358, 0.357]]}, \"columnwidth\": [300, 40, 40, 40], \"header\": {\"align\": [\"left\", \"center\", \"center\", \"center\"], \"fill\": {\"color\": \"#39416C\"}, \"font\": {\"color\": \"white\", \"size\": 12}, \"values\": [\"Forum_Post_Raw\", \"neg\", \"neu\", \"pos\"]}, \"type\": \"table\"}],                        {\"height\": 400, \"template\": {\"data\": {\"bar\": [{\"error_x\": {\"color\": \"#2a3f5f\"}, \"error_y\": {\"color\": \"#2a3f5f\"}, \"marker\": {\"line\": {\"color\": \"#E5ECF6\", \"width\": 0.5}}, \"type\": \"bar\"}], \"barpolar\": [{\"marker\": {\"line\": {\"color\": \"#E5ECF6\", \"width\": 0.5}}, \"type\": \"barpolar\"}], \"carpet\": [{\"aaxis\": {\"endlinecolor\": \"#2a3f5f\", \"gridcolor\": \"white\", \"linecolor\": \"white\", \"minorgridcolor\": \"white\", \"startlinecolor\": \"#2a3f5f\"}, \"baxis\": {\"endlinecolor\": \"#2a3f5f\", \"gridcolor\": \"white\", \"linecolor\": \"white\", \"minorgridcolor\": \"white\", \"startlinecolor\": \"#2a3f5f\"}, \"type\": \"carpet\"}], \"choropleth\": [{\"colorbar\": {\"outlinewidth\": 0, \"ticks\": \"\"}, \"type\": \"choropleth\"}], \"contour\": [{\"colorbar\": {\"outlinewidth\": 0, \"ticks\": \"\"}, \"colorscale\": [[0.0, \"#0d0887\"], [0.1111111111111111, \"#46039f\"], [0.2222222222222222, \"#7201a8\"], [0.3333333333333333, \"#9c179e\"], [0.4444444444444444, \"#bd3786\"], [0.5555555555555556, \"#d8576b\"], [0.6666666666666666, \"#ed7953\"], [0.7777777777777778, \"#fb9f3a\"], [0.8888888888888888, \"#fdca26\"], [1.0, \"#f0f921\"]], \"type\": \"contour\"}], \"contourcarpet\": [{\"colorbar\": {\"outlinewidth\": 0, \"ticks\": \"\"}, \"type\": \"contourcarpet\"}], \"heatmap\": [{\"colorbar\": {\"outlinewidth\": 0, \"ticks\": \"\"}, \"colorscale\": [[0.0, \"#0d0887\"], [0.1111111111111111, \"#46039f\"], [0.2222222222222222, \"#7201a8\"], [0.3333333333333333, \"#9c179e\"], [0.4444444444444444, \"#bd3786\"], [0.5555555555555556, \"#d8576b\"], [0.6666666666666666, \"#ed7953\"], [0.7777777777777778, \"#fb9f3a\"], [0.8888888888888888, \"#fdca26\"], [1.0, \"#f0f921\"]], \"type\": \"heatmap\"}], \"heatmapgl\": [{\"colorbar\": {\"outlinewidth\": 0, \"ticks\": \"\"}, \"colorscale\": [[0.0, \"#0d0887\"], [0.1111111111111111, \"#46039f\"], [0.2222222222222222, \"#7201a8\"], [0.3333333333333333, \"#9c179e\"], [0.4444444444444444, \"#bd3786\"], [0.5555555555555556, \"#d8576b\"], [0.6666666666666666, \"#ed7953\"], [0.7777777777777778, \"#fb9f3a\"], [0.8888888888888888, \"#fdca26\"], [1.0, \"#f0f921\"]], \"type\": \"heatmapgl\"}], \"histogram\": [{\"marker\": {\"colorbar\": {\"outlinewidth\": 0, \"ticks\": \"\"}}, \"type\": \"histogram\"}], \"histogram2d\": [{\"colorbar\": {\"outlinewidth\": 0, \"ticks\": \"\"}, \"colorscale\": [[0.0, \"#0d0887\"], [0.1111111111111111, \"#46039f\"], [0.2222222222222222, \"#7201a8\"], [0.3333333333333333, \"#9c179e\"], [0.4444444444444444, \"#bd3786\"], [0.5555555555555556, \"#d8576b\"], [0.6666666666666666, \"#ed7953\"], [0.7777777777777778, \"#fb9f3a\"], [0.8888888888888888, \"#fdca26\"], [1.0, \"#f0f921\"]], \"type\": \"histogram2d\"}], \"histogram2dcontour\": [{\"colorbar\": {\"outlinewidth\": 0, \"ticks\": \"\"}, \"colorscale\": [[0.0, \"#0d0887\"], [0.1111111111111111, \"#46039f\"], [0.2222222222222222, \"#7201a8\"], [0.3333333333333333, \"#9c179e\"], [0.4444444444444444, \"#bd3786\"], [0.5555555555555556, \"#d8576b\"], [0.6666666666666666, \"#ed7953\"], [0.7777777777777778, \"#fb9f3a\"], [0.8888888888888888, \"#fdca26\"], [1.0, \"#f0f921\"]], \"type\": \"histogram2dcontour\"}], \"mesh3d\": [{\"colorbar\": {\"outlinewidth\": 0, \"ticks\": \"\"}, \"type\": \"mesh3d\"}], \"parcoords\": [{\"line\": {\"colorbar\": {\"outlinewidth\": 0, \"ticks\": \"\"}}, \"type\": \"parcoords\"}], \"pie\": [{\"automargin\": true, \"type\": \"pie\"}], \"scatter\": [{\"marker\": {\"colorbar\": {\"outlinewidth\": 0, \"ticks\": \"\"}}, \"type\": \"scatter\"}], \"scatter3d\": [{\"line\": {\"colorbar\": {\"outlinewidth\": 0, \"ticks\": \"\"}}, \"marker\": {\"colorbar\": {\"outlinewidth\": 0, \"ticks\": \"\"}}, \"type\": \"scatter3d\"}], \"scattercarpet\": [{\"marker\": {\"colorbar\": {\"outlinewidth\": 0, \"ticks\": \"\"}}, \"type\": \"scattercarpet\"}], \"scattergeo\": [{\"marker\": {\"colorbar\": {\"outlinewidth\": 0, \"ticks\": \"\"}}, \"type\": \"scattergeo\"}], \"scattergl\": [{\"marker\": {\"colorbar\": {\"outlinewidth\": 0, \"ticks\": \"\"}}, \"type\": \"scattergl\"}], \"scattermapbox\": [{\"marker\": {\"colorbar\": {\"outlinewidth\": 0, \"ticks\": \"\"}}, \"type\": \"scattermapbox\"}], \"scatterpolar\": [{\"marker\": {\"colorbar\": {\"outlinewidth\": 0, \"ticks\": \"\"}}, \"type\": \"scatterpolar\"}], \"scatterpolargl\": [{\"marker\": {\"colorbar\": {\"outlinewidth\": 0, \"ticks\": \"\"}}, \"type\": \"scatterpolargl\"}], \"scatterternary\": [{\"marker\": {\"colorbar\": {\"outlinewidth\": 0, \"ticks\": \"\"}}, \"type\": \"scatterternary\"}], \"surface\": [{\"colorbar\": {\"outlinewidth\": 0, \"ticks\": \"\"}, \"colorscale\": [[0.0, \"#0d0887\"], [0.1111111111111111, \"#46039f\"], [0.2222222222222222, \"#7201a8\"], [0.3333333333333333, \"#9c179e\"], [0.4444444444444444, \"#bd3786\"], [0.5555555555555556, \"#d8576b\"], [0.6666666666666666, \"#ed7953\"], [0.7777777777777778, \"#fb9f3a\"], [0.8888888888888888, \"#fdca26\"], [1.0, \"#f0f921\"]], \"type\": \"surface\"}], \"table\": [{\"cells\": {\"fill\": {\"color\": \"#EBF0F8\"}, \"line\": {\"color\": \"white\"}}, \"header\": {\"fill\": {\"color\": \"#C8D4E3\"}, \"line\": {\"color\": \"white\"}}, \"type\": \"table\"}]}, \"layout\": {\"annotationdefaults\": {\"arrowcolor\": \"#2a3f5f\", \"arrowhead\": 0, \"arrowwidth\": 1}, \"autotypenumbers\": \"strict\", \"coloraxis\": {\"colorbar\": {\"outlinewidth\": 0, \"ticks\": \"\"}}, \"colorscale\": {\"diverging\": [[0, \"#8e0152\"], [0.1, \"#c51b7d\"], [0.2, \"#de77ae\"], [0.3, \"#f1b6da\"], [0.4, \"#fde0ef\"], [0.5, \"#f7f7f7\"], [0.6, \"#e6f5d0\"], [0.7, \"#b8e186\"], [0.8, \"#7fbc41\"], [0.9, \"#4d9221\"], [1, \"#276419\"]], \"sequential\": [[0.0, \"#0d0887\"], [0.1111111111111111, \"#46039f\"], [0.2222222222222222, \"#7201a8\"], [0.3333333333333333, \"#9c179e\"], [0.4444444444444444, \"#bd3786\"], [0.5555555555555556, \"#d8576b\"], [0.6666666666666666, \"#ed7953\"], [0.7777777777777778, \"#fb9f3a\"], [0.8888888888888888, \"#fdca26\"], [1.0, \"#f0f921\"]], \"sequentialminus\": [[0.0, \"#0d0887\"], [0.1111111111111111, \"#46039f\"], [0.2222222222222222, \"#7201a8\"], [0.3333333333333333, \"#9c179e\"], [0.4444444444444444, \"#bd3786\"], [0.5555555555555556, \"#d8576b\"], [0.6666666666666666, \"#ed7953\"], [0.7777777777777778, \"#fb9f3a\"], [0.8888888888888888, \"#fdca26\"], [1.0, \"#f0f921\"]]}, \"colorway\": [\"#636efa\", \"#EF553B\", \"#00cc96\", \"#ab63fa\", \"#FFA15A\", \"#19d3f3\", \"#FF6692\", \"#B6E880\", \"#FF97FF\", \"#FECB52\"], \"font\": {\"color\": \"#2a3f5f\"}, \"geo\": {\"bgcolor\": \"white\", \"lakecolor\": \"white\", \"landcolor\": \"#E5ECF6\", \"showlakes\": true, \"showland\": true, \"subunitcolor\": \"white\"}, \"hoverlabel\": {\"align\": \"left\"}, \"hovermode\": \"closest\", \"mapbox\": {\"style\": \"light\"}, \"paper_bgcolor\": \"white\", \"plot_bgcolor\": \"#E5ECF6\", \"polar\": {\"angularaxis\": {\"gridcolor\": \"white\", \"linecolor\": \"white\", \"ticks\": \"\"}, \"bgcolor\": \"#E5ECF6\", \"radialaxis\": {\"gridcolor\": \"white\", \"linecolor\": \"white\", \"ticks\": \"\"}}, \"scene\": {\"xaxis\": {\"backgroundcolor\": \"#E5ECF6\", \"gridcolor\": \"white\", \"gridwidth\": 2, \"linecolor\": \"white\", \"showbackground\": true, \"ticks\": \"\", \"zerolinecolor\": \"white\"}, \"yaxis\": {\"backgroundcolor\": \"#E5ECF6\", \"gridcolor\": \"white\", \"gridwidth\": 2, \"linecolor\": \"white\", \"showbackground\": true, \"ticks\": \"\", \"zerolinecolor\": \"white\"}, \"zaxis\": {\"backgroundcolor\": \"#E5ECF6\", \"gridcolor\": \"white\", \"gridwidth\": 2, \"linecolor\": \"white\", \"showbackground\": true, \"ticks\": \"\", \"zerolinecolor\": \"white\"}}, \"shapedefaults\": {\"line\": {\"color\": \"#2a3f5f\"}}, \"ternary\": {\"aaxis\": {\"gridcolor\": \"white\", \"linecolor\": \"white\", \"ticks\": \"\"}, \"baxis\": {\"gridcolor\": \"white\", \"linecolor\": \"white\", \"ticks\": \"\"}, \"bgcolor\": \"#E5ECF6\", \"caxis\": {\"gridcolor\": \"white\", \"linecolor\": \"white\", \"ticks\": \"\"}}, \"title\": {\"x\": 0.05}, \"xaxis\": {\"automargin\": true, \"gridcolor\": \"white\", \"linecolor\": \"white\", \"ticks\": \"\", \"title\": {\"standoff\": 15}, \"zerolinecolor\": \"white\", \"zerolinewidth\": 2}, \"yaxis\": {\"automargin\": true, \"gridcolor\": \"white\", \"linecolor\": \"white\", \"ticks\": \"\", \"title\": {\"standoff\": 15}, \"zerolinecolor\": \"white\", \"zerolinewidth\": 2}}}, \"title\": {\"text\": \"Positive\"}, \"width\": 1000},                        {\"responsive\": true}                    ).then(function(){\n",
       "                            \n",
       "var gd = document.getElementById('15912976-4d40-4e39-a081-68ab3d608bc7');\n",
       "var x = new MutationObserver(function (mutations, observer) {{\n",
       "        var display = window.getComputedStyle(gd).display;\n",
       "        if (!display || display === 'none') {{\n",
       "            console.log([gd, 'removed!']);\n",
       "            Plotly.purge(gd);\n",
       "            observer.disconnect();\n",
       "        }}\n",
       "}});\n",
       "\n",
       "// Listen for the removal of the full notebook cells\n",
       "var notebookContainer = gd.closest('#notebook-container');\n",
       "if (notebookContainer) {{\n",
       "    x.observe(notebookContainer, {childList: true});\n",
       "}}\n",
       "\n",
       "// Listen for the clearing of the current output cell\n",
       "var outputEl = gd.closest('.output');\n",
       "if (outputEl) {{\n",
       "    x.observe(outputEl, {childList: true});\n",
       "}}\n",
       "\n",
       "                        })                };                });            </script>        </div>"
      ]
     },
     "metadata": {},
     "output_type": "display_data"
    },
    {
     "data": {
      "application/vnd.plotly.v1+json": {
       "config": {
        "plotlyServerURL": "https://plot.ly"
       },
       "data": [
        {
         "cells": {
          "align": [
           "left",
           "center",
           "center",
           "center"
          ],
          "fill": {
           "color": [
            [
             "white",
             "lightgrey",
             "white",
             "lightgrey",
             "white",
             "white",
             "lightgrey",
             "white",
             "lightgrey",
             "white",
             "white",
             "lightgrey",
             "white",
             "lightgrey",
             "white",
             "white",
             "lightgrey",
             "white",
             "lightgrey",
             "white",
             "white",
             "lightgrey",
             "white",
             "lightgrey",
             "white"
            ]
           ]
          },
          "values": [
           [
            "Error message:\n@X3.TRT/SUBITM$adx (2569) Error 8 : Index Incorrect ISAU(500)\n\nGetting this error after adding a new site.\n",
            "When trying to generate the positive pay file - we experience the following error - file return error - no checks selected. There are checks generated and printed.",
            "Sage X3 allows a parameter to warn user for duplicate values in BPRVCR. \n\nHow can this warning be change to an error? \n",
            "We run Sage X3 Update 9 Patch 9.\n\nThe cost of a product we buy is going negative.\nThis occurs from time to time because the product is a by-product- sometimes the supplier can sell the by-product, but other times they have to pay us to take it.\nDepending on how extremely below zero the costs go, we may even start charging our customers a negative price. \nThis will occur in both back-to-back and stock orders.\n\nCan we support this in X3?\n\nThought process;\n(The following all reads bizarrely to me, but here goes...;)\n1. We raise PO to supplier with negative cost (-$20/ton)\n2. Supplier sends us their invoice with negative cost (-$20/ton)\n3. Supplier pays us based on their (negative) invoice. Is a supplier invoice therefore handled by Accounts Receivable rather than Accounts Payable functions in X3?\n4. We receive goods into inventory at a negative cost (-$20/ton). Average Unit Cost (AUC) goes negative.\n5. We create Sales Order with negative gross price (-$5) and negative cost ($-20) to Customer (Margin = +$15)\n6. We create Sales Delivery with negative gross price (-$5) to Customer.\n7. We create Sales Invoice with negative gross price (-$5) and negative cost ($-20) to Customer (Margin = +$15) \n8. We pay Customer based on our Sales Invoice with negative gross price. Is our Invoice to Customer therefore managed by our Accounts Payable rather than Accounts Receivable functions in X3?\n\nIs this high level process supportable/logical/sensible in X3?\nSteps 3 and 8 are standing out to me the most in consideration of \"How will that work?\"\nAny advice would be appreciated. Thanks in advance.",
            "D:\\Sage\\SAGEX3V7\\X3V71\\folders\\TEST\\TRT\\WGWMSFCSTD.adx : File Non-existent\n\nHow to resolve this error.\n\nRegards\n"
           ],
           [
            0.415,
            0.276,
            0.258,
            0.249,
            0.246
           ],
           [
            0.585,
            0.613,
            0.64,
            0.693,
            0.55
           ],
           [
            0,
            0.11,
            0.102,
            0.058,
            0.204
           ]
          ]
         },
         "columnwidth": [
          300,
          40,
          40,
          40
         ],
         "header": {
          "align": [
           "left",
           "center",
           "center",
           "center"
          ],
          "fill": {
           "color": "#39416C"
          },
          "font": {
           "color": "white",
           "size": 12
          },
          "values": [
           "Forum_Post_Raw",
           "neg",
           "neu",
           "pos"
          ]
         },
         "type": "table"
        }
       ],
       "layout": {
        "height": 400,
        "template": {
         "data": {
          "bar": [
           {
            "error_x": {
             "color": "#2a3f5f"
            },
            "error_y": {
             "color": "#2a3f5f"
            },
            "marker": {
             "line": {
              "color": "#E5ECF6",
              "width": 0.5
             }
            },
            "type": "bar"
           }
          ],
          "barpolar": [
           {
            "marker": {
             "line": {
              "color": "#E5ECF6",
              "width": 0.5
             }
            },
            "type": "barpolar"
           }
          ],
          "carpet": [
           {
            "aaxis": {
             "endlinecolor": "#2a3f5f",
             "gridcolor": "white",
             "linecolor": "white",
             "minorgridcolor": "white",
             "startlinecolor": "#2a3f5f"
            },
            "baxis": {
             "endlinecolor": "#2a3f5f",
             "gridcolor": "white",
             "linecolor": "white",
             "minorgridcolor": "white",
             "startlinecolor": "#2a3f5f"
            },
            "type": "carpet"
           }
          ],
          "choropleth": [
           {
            "colorbar": {
             "outlinewidth": 0,
             "ticks": ""
            },
            "type": "choropleth"
           }
          ],
          "contour": [
           {
            "colorbar": {
             "outlinewidth": 0,
             "ticks": ""
            },
            "colorscale": [
             [
              0,
              "#0d0887"
             ],
             [
              0.1111111111111111,
              "#46039f"
             ],
             [
              0.2222222222222222,
              "#7201a8"
             ],
             [
              0.3333333333333333,
              "#9c179e"
             ],
             [
              0.4444444444444444,
              "#bd3786"
             ],
             [
              0.5555555555555556,
              "#d8576b"
             ],
             [
              0.6666666666666666,
              "#ed7953"
             ],
             [
              0.7777777777777778,
              "#fb9f3a"
             ],
             [
              0.8888888888888888,
              "#fdca26"
             ],
             [
              1,
              "#f0f921"
             ]
            ],
            "type": "contour"
           }
          ],
          "contourcarpet": [
           {
            "colorbar": {
             "outlinewidth": 0,
             "ticks": ""
            },
            "type": "contourcarpet"
           }
          ],
          "heatmap": [
           {
            "colorbar": {
             "outlinewidth": 0,
             "ticks": ""
            },
            "colorscale": [
             [
              0,
              "#0d0887"
             ],
             [
              0.1111111111111111,
              "#46039f"
             ],
             [
              0.2222222222222222,
              "#7201a8"
             ],
             [
              0.3333333333333333,
              "#9c179e"
             ],
             [
              0.4444444444444444,
              "#bd3786"
             ],
             [
              0.5555555555555556,
              "#d8576b"
             ],
             [
              0.6666666666666666,
              "#ed7953"
             ],
             [
              0.7777777777777778,
              "#fb9f3a"
             ],
             [
              0.8888888888888888,
              "#fdca26"
             ],
             [
              1,
              "#f0f921"
             ]
            ],
            "type": "heatmap"
           }
          ],
          "heatmapgl": [
           {
            "colorbar": {
             "outlinewidth": 0,
             "ticks": ""
            },
            "colorscale": [
             [
              0,
              "#0d0887"
             ],
             [
              0.1111111111111111,
              "#46039f"
             ],
             [
              0.2222222222222222,
              "#7201a8"
             ],
             [
              0.3333333333333333,
              "#9c179e"
             ],
             [
              0.4444444444444444,
              "#bd3786"
             ],
             [
              0.5555555555555556,
              "#d8576b"
             ],
             [
              0.6666666666666666,
              "#ed7953"
             ],
             [
              0.7777777777777778,
              "#fb9f3a"
             ],
             [
              0.8888888888888888,
              "#fdca26"
             ],
             [
              1,
              "#f0f921"
             ]
            ],
            "type": "heatmapgl"
           }
          ],
          "histogram": [
           {
            "marker": {
             "colorbar": {
              "outlinewidth": 0,
              "ticks": ""
             }
            },
            "type": "histogram"
           }
          ],
          "histogram2d": [
           {
            "colorbar": {
             "outlinewidth": 0,
             "ticks": ""
            },
            "colorscale": [
             [
              0,
              "#0d0887"
             ],
             [
              0.1111111111111111,
              "#46039f"
             ],
             [
              0.2222222222222222,
              "#7201a8"
             ],
             [
              0.3333333333333333,
              "#9c179e"
             ],
             [
              0.4444444444444444,
              "#bd3786"
             ],
             [
              0.5555555555555556,
              "#d8576b"
             ],
             [
              0.6666666666666666,
              "#ed7953"
             ],
             [
              0.7777777777777778,
              "#fb9f3a"
             ],
             [
              0.8888888888888888,
              "#fdca26"
             ],
             [
              1,
              "#f0f921"
             ]
            ],
            "type": "histogram2d"
           }
          ],
          "histogram2dcontour": [
           {
            "colorbar": {
             "outlinewidth": 0,
             "ticks": ""
            },
            "colorscale": [
             [
              0,
              "#0d0887"
             ],
             [
              0.1111111111111111,
              "#46039f"
             ],
             [
              0.2222222222222222,
              "#7201a8"
             ],
             [
              0.3333333333333333,
              "#9c179e"
             ],
             [
              0.4444444444444444,
              "#bd3786"
             ],
             [
              0.5555555555555556,
              "#d8576b"
             ],
             [
              0.6666666666666666,
              "#ed7953"
             ],
             [
              0.7777777777777778,
              "#fb9f3a"
             ],
             [
              0.8888888888888888,
              "#fdca26"
             ],
             [
              1,
              "#f0f921"
             ]
            ],
            "type": "histogram2dcontour"
           }
          ],
          "mesh3d": [
           {
            "colorbar": {
             "outlinewidth": 0,
             "ticks": ""
            },
            "type": "mesh3d"
           }
          ],
          "parcoords": [
           {
            "line": {
             "colorbar": {
              "outlinewidth": 0,
              "ticks": ""
             }
            },
            "type": "parcoords"
           }
          ],
          "pie": [
           {
            "automargin": true,
            "type": "pie"
           }
          ],
          "scatter": [
           {
            "marker": {
             "colorbar": {
              "outlinewidth": 0,
              "ticks": ""
             }
            },
            "type": "scatter"
           }
          ],
          "scatter3d": [
           {
            "line": {
             "colorbar": {
              "outlinewidth": 0,
              "ticks": ""
             }
            },
            "marker": {
             "colorbar": {
              "outlinewidth": 0,
              "ticks": ""
             }
            },
            "type": "scatter3d"
           }
          ],
          "scattercarpet": [
           {
            "marker": {
             "colorbar": {
              "outlinewidth": 0,
              "ticks": ""
             }
            },
            "type": "scattercarpet"
           }
          ],
          "scattergeo": [
           {
            "marker": {
             "colorbar": {
              "outlinewidth": 0,
              "ticks": ""
             }
            },
            "type": "scattergeo"
           }
          ],
          "scattergl": [
           {
            "marker": {
             "colorbar": {
              "outlinewidth": 0,
              "ticks": ""
             }
            },
            "type": "scattergl"
           }
          ],
          "scattermapbox": [
           {
            "marker": {
             "colorbar": {
              "outlinewidth": 0,
              "ticks": ""
             }
            },
            "type": "scattermapbox"
           }
          ],
          "scatterpolar": [
           {
            "marker": {
             "colorbar": {
              "outlinewidth": 0,
              "ticks": ""
             }
            },
            "type": "scatterpolar"
           }
          ],
          "scatterpolargl": [
           {
            "marker": {
             "colorbar": {
              "outlinewidth": 0,
              "ticks": ""
             }
            },
            "type": "scatterpolargl"
           }
          ],
          "scatterternary": [
           {
            "marker": {
             "colorbar": {
              "outlinewidth": 0,
              "ticks": ""
             }
            },
            "type": "scatterternary"
           }
          ],
          "surface": [
           {
            "colorbar": {
             "outlinewidth": 0,
             "ticks": ""
            },
            "colorscale": [
             [
              0,
              "#0d0887"
             ],
             [
              0.1111111111111111,
              "#46039f"
             ],
             [
              0.2222222222222222,
              "#7201a8"
             ],
             [
              0.3333333333333333,
              "#9c179e"
             ],
             [
              0.4444444444444444,
              "#bd3786"
             ],
             [
              0.5555555555555556,
              "#d8576b"
             ],
             [
              0.6666666666666666,
              "#ed7953"
             ],
             [
              0.7777777777777778,
              "#fb9f3a"
             ],
             [
              0.8888888888888888,
              "#fdca26"
             ],
             [
              1,
              "#f0f921"
             ]
            ],
            "type": "surface"
           }
          ],
          "table": [
           {
            "cells": {
             "fill": {
              "color": "#EBF0F8"
             },
             "line": {
              "color": "white"
             }
            },
            "header": {
             "fill": {
              "color": "#C8D4E3"
             },
             "line": {
              "color": "white"
             }
            },
            "type": "table"
           }
          ]
         },
         "layout": {
          "annotationdefaults": {
           "arrowcolor": "#2a3f5f",
           "arrowhead": 0,
           "arrowwidth": 1
          },
          "autotypenumbers": "strict",
          "coloraxis": {
           "colorbar": {
            "outlinewidth": 0,
            "ticks": ""
           }
          },
          "colorscale": {
           "diverging": [
            [
             0,
             "#8e0152"
            ],
            [
             0.1,
             "#c51b7d"
            ],
            [
             0.2,
             "#de77ae"
            ],
            [
             0.3,
             "#f1b6da"
            ],
            [
             0.4,
             "#fde0ef"
            ],
            [
             0.5,
             "#f7f7f7"
            ],
            [
             0.6,
             "#e6f5d0"
            ],
            [
             0.7,
             "#b8e186"
            ],
            [
             0.8,
             "#7fbc41"
            ],
            [
             0.9,
             "#4d9221"
            ],
            [
             1,
             "#276419"
            ]
           ],
           "sequential": [
            [
             0,
             "#0d0887"
            ],
            [
             0.1111111111111111,
             "#46039f"
            ],
            [
             0.2222222222222222,
             "#7201a8"
            ],
            [
             0.3333333333333333,
             "#9c179e"
            ],
            [
             0.4444444444444444,
             "#bd3786"
            ],
            [
             0.5555555555555556,
             "#d8576b"
            ],
            [
             0.6666666666666666,
             "#ed7953"
            ],
            [
             0.7777777777777778,
             "#fb9f3a"
            ],
            [
             0.8888888888888888,
             "#fdca26"
            ],
            [
             1,
             "#f0f921"
            ]
           ],
           "sequentialminus": [
            [
             0,
             "#0d0887"
            ],
            [
             0.1111111111111111,
             "#46039f"
            ],
            [
             0.2222222222222222,
             "#7201a8"
            ],
            [
             0.3333333333333333,
             "#9c179e"
            ],
            [
             0.4444444444444444,
             "#bd3786"
            ],
            [
             0.5555555555555556,
             "#d8576b"
            ],
            [
             0.6666666666666666,
             "#ed7953"
            ],
            [
             0.7777777777777778,
             "#fb9f3a"
            ],
            [
             0.8888888888888888,
             "#fdca26"
            ],
            [
             1,
             "#f0f921"
            ]
           ]
          },
          "colorway": [
           "#636efa",
           "#EF553B",
           "#00cc96",
           "#ab63fa",
           "#FFA15A",
           "#19d3f3",
           "#FF6692",
           "#B6E880",
           "#FF97FF",
           "#FECB52"
          ],
          "font": {
           "color": "#2a3f5f"
          },
          "geo": {
           "bgcolor": "white",
           "lakecolor": "white",
           "landcolor": "#E5ECF6",
           "showlakes": true,
           "showland": true,
           "subunitcolor": "white"
          },
          "hoverlabel": {
           "align": "left"
          },
          "hovermode": "closest",
          "mapbox": {
           "style": "light"
          },
          "paper_bgcolor": "white",
          "plot_bgcolor": "#E5ECF6",
          "polar": {
           "angularaxis": {
            "gridcolor": "white",
            "linecolor": "white",
            "ticks": ""
           },
           "bgcolor": "#E5ECF6",
           "radialaxis": {
            "gridcolor": "white",
            "linecolor": "white",
            "ticks": ""
           }
          },
          "scene": {
           "xaxis": {
            "backgroundcolor": "#E5ECF6",
            "gridcolor": "white",
            "gridwidth": 2,
            "linecolor": "white",
            "showbackground": true,
            "ticks": "",
            "zerolinecolor": "white"
           },
           "yaxis": {
            "backgroundcolor": "#E5ECF6",
            "gridcolor": "white",
            "gridwidth": 2,
            "linecolor": "white",
            "showbackground": true,
            "ticks": "",
            "zerolinecolor": "white"
           },
           "zaxis": {
            "backgroundcolor": "#E5ECF6",
            "gridcolor": "white",
            "gridwidth": 2,
            "linecolor": "white",
            "showbackground": true,
            "ticks": "",
            "zerolinecolor": "white"
           }
          },
          "shapedefaults": {
           "line": {
            "color": "#2a3f5f"
           }
          },
          "ternary": {
           "aaxis": {
            "gridcolor": "white",
            "linecolor": "white",
            "ticks": ""
           },
           "baxis": {
            "gridcolor": "white",
            "linecolor": "white",
            "ticks": ""
           },
           "bgcolor": "#E5ECF6",
           "caxis": {
            "gridcolor": "white",
            "linecolor": "white",
            "ticks": ""
           }
          },
          "title": {
           "x": 0.05
          },
          "xaxis": {
           "automargin": true,
           "gridcolor": "white",
           "linecolor": "white",
           "ticks": "",
           "title": {
            "standoff": 15
           },
           "zerolinecolor": "white",
           "zerolinewidth": 2
          },
          "yaxis": {
           "automargin": true,
           "gridcolor": "white",
           "linecolor": "white",
           "ticks": "",
           "title": {
            "standoff": 15
           },
           "zerolinecolor": "white",
           "zerolinewidth": 2
          }
         }
        },
        "title": {
         "text": "Negative"
        },
        "width": 1000
       }
      },
      "text/html": [
       "<div>                            <div id=\"f695189a-7fbe-419e-886e-fc53dc3f6229\" class=\"plotly-graph-div\" style=\"height:400px; width:1000px;\"></div>            <script type=\"text/javascript\">                require([\"plotly\"], function(Plotly) {                    window.PLOTLYENV=window.PLOTLYENV || {};                                    if (document.getElementById(\"f695189a-7fbe-419e-886e-fc53dc3f6229\")) {                    Plotly.newPlot(                        \"f695189a-7fbe-419e-886e-fc53dc3f6229\",                        [{\"cells\": {\"align\": [\"left\", \"center\", \"center\", \"center\"], \"fill\": {\"color\": [[\"white\", \"lightgrey\", \"white\", \"lightgrey\", \"white\", \"white\", \"lightgrey\", \"white\", \"lightgrey\", \"white\", \"white\", \"lightgrey\", \"white\", \"lightgrey\", \"white\", \"white\", \"lightgrey\", \"white\", \"lightgrey\", \"white\", \"white\", \"lightgrey\", \"white\", \"lightgrey\", \"white\"]]}, \"values\": [[\"Error message:\\n@X3.TRT/SUBITM$adx (2569) Error 8 : Index Incorrect ISAU(500)\\n\\nGetting this error after adding a new site.\\n\", \"When trying to generate the positive pay file - we experience the following error - file return error - no checks selected. There are checks generated and printed.\", \"Sage X3 allows a parameter to warn user for duplicate values in BPRVCR.\\u00a0\\n\\nHow can this warning be change to an error?\\u00a0\\n\", \"We run Sage X3 Update 9 Patch 9.\\n\\nThe cost of a product we buy is going negative.\\nThis occurs from time to time because the product is a by-product- sometimes the supplier can sell the by-product, but other times they have to pay us to take it.\\nDepending on how extremely below zero the costs go, we may even start charging our customers a negative price.\\u00a0\\nThis will occur in both back-to-back and stock orders.\\n\\nCan we support this in X3?\\n\\nThought process;\\n(The following all reads\\u00a0bizarrely to me, but\\u00a0here goes...;)\\n1. We raise PO to supplier with negative cost (-$20/ton)\\n2. Supplier sends us their invoice with negative cost (-$20/ton)\\n3. Supplier pays us based on their (negative) invoice. Is a supplier invoice therefore\\u00a0handled by Accounts Receivable rather than Accounts Payable functions in X3?\\n4. We receive goods into inventory at a negative cost (-$20/ton). Average Unit Cost (AUC) goes negative.\\n5. We create Sales Order with negative gross price (-$5) and negative cost ($-20) to Customer (Margin = +$15)\\n6.\\u00a0We create Sales Delivery with negative gross price (-$5) to Customer.\\n7. We create Sales Invoice with negative gross price (-$5) and negative cost ($-20) to Customer (Margin = +$15)\\u00a0\\n8. We pay Customer based on our Sales Invoice with negative gross price. Is our Invoice to\\u00a0Customer therefore\\u00a0managed\\u00a0by our Accounts Payable rather than Accounts Receivable functions in X3?\\n\\nIs this high level process supportable/logical/sensible in X3?\\nSteps 3 and 8 are standing out to me the most\\u00a0in consideration of \\\"How will that work?\\\"\\nAny advice would be appreciated. Thanks in advance.\", \"D:\\\\Sage\\\\SAGEX3V7\\\\X3V71\\\\folders\\\\TEST\\\\TRT\\\\WGWMSFCSTD.adx : File Non-existent\\n\\nHow to resolve this error.\\n\\nRegards\\n\"], [0.415, 0.276, 0.258, 0.249, 0.246], [0.585, 0.613, 0.64, 0.693, 0.55], [0.0, 0.11, 0.102, 0.058, 0.204]]}, \"columnwidth\": [300, 40, 40, 40], \"header\": {\"align\": [\"left\", \"center\", \"center\", \"center\"], \"fill\": {\"color\": \"#39416C\"}, \"font\": {\"color\": \"white\", \"size\": 12}, \"values\": [\"Forum_Post_Raw\", \"neg\", \"neu\", \"pos\"]}, \"type\": \"table\"}],                        {\"height\": 400, \"template\": {\"data\": {\"bar\": [{\"error_x\": {\"color\": \"#2a3f5f\"}, \"error_y\": {\"color\": \"#2a3f5f\"}, \"marker\": {\"line\": {\"color\": \"#E5ECF6\", \"width\": 0.5}}, \"type\": \"bar\"}], \"barpolar\": [{\"marker\": {\"line\": {\"color\": \"#E5ECF6\", \"width\": 0.5}}, \"type\": \"barpolar\"}], \"carpet\": [{\"aaxis\": {\"endlinecolor\": \"#2a3f5f\", \"gridcolor\": \"white\", \"linecolor\": \"white\", \"minorgridcolor\": \"white\", \"startlinecolor\": \"#2a3f5f\"}, \"baxis\": {\"endlinecolor\": \"#2a3f5f\", \"gridcolor\": \"white\", \"linecolor\": \"white\", \"minorgridcolor\": \"white\", \"startlinecolor\": \"#2a3f5f\"}, \"type\": \"carpet\"}], \"choropleth\": [{\"colorbar\": {\"outlinewidth\": 0, \"ticks\": \"\"}, \"type\": \"choropleth\"}], \"contour\": [{\"colorbar\": {\"outlinewidth\": 0, \"ticks\": \"\"}, \"colorscale\": [[0.0, \"#0d0887\"], [0.1111111111111111, \"#46039f\"], [0.2222222222222222, \"#7201a8\"], [0.3333333333333333, \"#9c179e\"], [0.4444444444444444, \"#bd3786\"], [0.5555555555555556, \"#d8576b\"], [0.6666666666666666, \"#ed7953\"], [0.7777777777777778, \"#fb9f3a\"], [0.8888888888888888, \"#fdca26\"], [1.0, \"#f0f921\"]], \"type\": \"contour\"}], \"contourcarpet\": [{\"colorbar\": {\"outlinewidth\": 0, \"ticks\": \"\"}, \"type\": \"contourcarpet\"}], \"heatmap\": [{\"colorbar\": {\"outlinewidth\": 0, \"ticks\": \"\"}, \"colorscale\": [[0.0, \"#0d0887\"], [0.1111111111111111, \"#46039f\"], [0.2222222222222222, \"#7201a8\"], [0.3333333333333333, \"#9c179e\"], [0.4444444444444444, \"#bd3786\"], [0.5555555555555556, \"#d8576b\"], [0.6666666666666666, \"#ed7953\"], [0.7777777777777778, \"#fb9f3a\"], [0.8888888888888888, \"#fdca26\"], [1.0, \"#f0f921\"]], \"type\": \"heatmap\"}], \"heatmapgl\": [{\"colorbar\": {\"outlinewidth\": 0, \"ticks\": \"\"}, \"colorscale\": [[0.0, \"#0d0887\"], [0.1111111111111111, \"#46039f\"], [0.2222222222222222, \"#7201a8\"], [0.3333333333333333, \"#9c179e\"], [0.4444444444444444, \"#bd3786\"], [0.5555555555555556, \"#d8576b\"], [0.6666666666666666, \"#ed7953\"], [0.7777777777777778, \"#fb9f3a\"], [0.8888888888888888, \"#fdca26\"], [1.0, \"#f0f921\"]], \"type\": \"heatmapgl\"}], \"histogram\": [{\"marker\": {\"colorbar\": {\"outlinewidth\": 0, \"ticks\": \"\"}}, \"type\": \"histogram\"}], \"histogram2d\": [{\"colorbar\": {\"outlinewidth\": 0, \"ticks\": \"\"}, \"colorscale\": [[0.0, \"#0d0887\"], [0.1111111111111111, \"#46039f\"], [0.2222222222222222, \"#7201a8\"], [0.3333333333333333, \"#9c179e\"], [0.4444444444444444, \"#bd3786\"], [0.5555555555555556, \"#d8576b\"], [0.6666666666666666, \"#ed7953\"], [0.7777777777777778, \"#fb9f3a\"], [0.8888888888888888, \"#fdca26\"], [1.0, \"#f0f921\"]], \"type\": \"histogram2d\"}], \"histogram2dcontour\": [{\"colorbar\": {\"outlinewidth\": 0, \"ticks\": \"\"}, \"colorscale\": [[0.0, \"#0d0887\"], [0.1111111111111111, \"#46039f\"], [0.2222222222222222, \"#7201a8\"], [0.3333333333333333, \"#9c179e\"], [0.4444444444444444, \"#bd3786\"], [0.5555555555555556, \"#d8576b\"], [0.6666666666666666, \"#ed7953\"], [0.7777777777777778, \"#fb9f3a\"], [0.8888888888888888, \"#fdca26\"], [1.0, \"#f0f921\"]], \"type\": \"histogram2dcontour\"}], \"mesh3d\": [{\"colorbar\": {\"outlinewidth\": 0, \"ticks\": \"\"}, \"type\": \"mesh3d\"}], \"parcoords\": [{\"line\": {\"colorbar\": {\"outlinewidth\": 0, \"ticks\": \"\"}}, \"type\": \"parcoords\"}], \"pie\": [{\"automargin\": true, \"type\": \"pie\"}], \"scatter\": [{\"marker\": {\"colorbar\": {\"outlinewidth\": 0, \"ticks\": \"\"}}, \"type\": \"scatter\"}], \"scatter3d\": [{\"line\": {\"colorbar\": {\"outlinewidth\": 0, \"ticks\": \"\"}}, \"marker\": {\"colorbar\": {\"outlinewidth\": 0, \"ticks\": \"\"}}, \"type\": \"scatter3d\"}], \"scattercarpet\": [{\"marker\": {\"colorbar\": {\"outlinewidth\": 0, \"ticks\": \"\"}}, \"type\": \"scattercarpet\"}], \"scattergeo\": [{\"marker\": {\"colorbar\": {\"outlinewidth\": 0, \"ticks\": \"\"}}, \"type\": \"scattergeo\"}], \"scattergl\": [{\"marker\": {\"colorbar\": {\"outlinewidth\": 0, \"ticks\": \"\"}}, \"type\": \"scattergl\"}], \"scattermapbox\": [{\"marker\": {\"colorbar\": {\"outlinewidth\": 0, \"ticks\": \"\"}}, \"type\": \"scattermapbox\"}], \"scatterpolar\": [{\"marker\": {\"colorbar\": {\"outlinewidth\": 0, \"ticks\": \"\"}}, \"type\": \"scatterpolar\"}], \"scatterpolargl\": [{\"marker\": {\"colorbar\": {\"outlinewidth\": 0, \"ticks\": \"\"}}, \"type\": \"scatterpolargl\"}], \"scatterternary\": [{\"marker\": {\"colorbar\": {\"outlinewidth\": 0, \"ticks\": \"\"}}, \"type\": \"scatterternary\"}], \"surface\": [{\"colorbar\": {\"outlinewidth\": 0, \"ticks\": \"\"}, \"colorscale\": [[0.0, \"#0d0887\"], [0.1111111111111111, \"#46039f\"], [0.2222222222222222, \"#7201a8\"], [0.3333333333333333, \"#9c179e\"], [0.4444444444444444, \"#bd3786\"], [0.5555555555555556, \"#d8576b\"], [0.6666666666666666, \"#ed7953\"], [0.7777777777777778, \"#fb9f3a\"], [0.8888888888888888, \"#fdca26\"], [1.0, \"#f0f921\"]], \"type\": \"surface\"}], \"table\": [{\"cells\": {\"fill\": {\"color\": \"#EBF0F8\"}, \"line\": {\"color\": \"white\"}}, \"header\": {\"fill\": {\"color\": \"#C8D4E3\"}, \"line\": {\"color\": \"white\"}}, \"type\": \"table\"}]}, \"layout\": {\"annotationdefaults\": {\"arrowcolor\": \"#2a3f5f\", \"arrowhead\": 0, \"arrowwidth\": 1}, \"autotypenumbers\": \"strict\", \"coloraxis\": {\"colorbar\": {\"outlinewidth\": 0, \"ticks\": \"\"}}, \"colorscale\": {\"diverging\": [[0, \"#8e0152\"], [0.1, \"#c51b7d\"], [0.2, \"#de77ae\"], [0.3, \"#f1b6da\"], [0.4, \"#fde0ef\"], [0.5, \"#f7f7f7\"], [0.6, \"#e6f5d0\"], [0.7, \"#b8e186\"], [0.8, \"#7fbc41\"], [0.9, \"#4d9221\"], [1, \"#276419\"]], \"sequential\": [[0.0, \"#0d0887\"], [0.1111111111111111, \"#46039f\"], [0.2222222222222222, \"#7201a8\"], [0.3333333333333333, \"#9c179e\"], [0.4444444444444444, \"#bd3786\"], [0.5555555555555556, \"#d8576b\"], [0.6666666666666666, \"#ed7953\"], [0.7777777777777778, \"#fb9f3a\"], [0.8888888888888888, \"#fdca26\"], [1.0, \"#f0f921\"]], \"sequentialminus\": [[0.0, \"#0d0887\"], [0.1111111111111111, \"#46039f\"], [0.2222222222222222, \"#7201a8\"], [0.3333333333333333, \"#9c179e\"], [0.4444444444444444, \"#bd3786\"], [0.5555555555555556, \"#d8576b\"], [0.6666666666666666, \"#ed7953\"], [0.7777777777777778, \"#fb9f3a\"], [0.8888888888888888, \"#fdca26\"], [1.0, \"#f0f921\"]]}, \"colorway\": [\"#636efa\", \"#EF553B\", \"#00cc96\", \"#ab63fa\", \"#FFA15A\", \"#19d3f3\", \"#FF6692\", \"#B6E880\", \"#FF97FF\", \"#FECB52\"], \"font\": {\"color\": \"#2a3f5f\"}, \"geo\": {\"bgcolor\": \"white\", \"lakecolor\": \"white\", \"landcolor\": \"#E5ECF6\", \"showlakes\": true, \"showland\": true, \"subunitcolor\": \"white\"}, \"hoverlabel\": {\"align\": \"left\"}, \"hovermode\": \"closest\", \"mapbox\": {\"style\": \"light\"}, \"paper_bgcolor\": \"white\", \"plot_bgcolor\": \"#E5ECF6\", \"polar\": {\"angularaxis\": {\"gridcolor\": \"white\", \"linecolor\": \"white\", \"ticks\": \"\"}, \"bgcolor\": \"#E5ECF6\", \"radialaxis\": {\"gridcolor\": \"white\", \"linecolor\": \"white\", \"ticks\": \"\"}}, \"scene\": {\"xaxis\": {\"backgroundcolor\": \"#E5ECF6\", \"gridcolor\": \"white\", \"gridwidth\": 2, \"linecolor\": \"white\", \"showbackground\": true, \"ticks\": \"\", \"zerolinecolor\": \"white\"}, \"yaxis\": {\"backgroundcolor\": \"#E5ECF6\", \"gridcolor\": \"white\", \"gridwidth\": 2, \"linecolor\": \"white\", \"showbackground\": true, \"ticks\": \"\", \"zerolinecolor\": \"white\"}, \"zaxis\": {\"backgroundcolor\": \"#E5ECF6\", \"gridcolor\": \"white\", \"gridwidth\": 2, \"linecolor\": \"white\", \"showbackground\": true, \"ticks\": \"\", \"zerolinecolor\": \"white\"}}, \"shapedefaults\": {\"line\": {\"color\": \"#2a3f5f\"}}, \"ternary\": {\"aaxis\": {\"gridcolor\": \"white\", \"linecolor\": \"white\", \"ticks\": \"\"}, \"baxis\": {\"gridcolor\": \"white\", \"linecolor\": \"white\", \"ticks\": \"\"}, \"bgcolor\": \"#E5ECF6\", \"caxis\": {\"gridcolor\": \"white\", \"linecolor\": \"white\", \"ticks\": \"\"}}, \"title\": {\"x\": 0.05}, \"xaxis\": {\"automargin\": true, \"gridcolor\": \"white\", \"linecolor\": \"white\", \"ticks\": \"\", \"title\": {\"standoff\": 15}, \"zerolinecolor\": \"white\", \"zerolinewidth\": 2}, \"yaxis\": {\"automargin\": true, \"gridcolor\": \"white\", \"linecolor\": \"white\", \"ticks\": \"\", \"title\": {\"standoff\": 15}, \"zerolinecolor\": \"white\", \"zerolinewidth\": 2}}}, \"title\": {\"text\": \"Negative\"}, \"width\": 1000},                        {\"responsive\": true}                    ).then(function(){\n",
       "                            \n",
       "var gd = document.getElementById('f695189a-7fbe-419e-886e-fc53dc3f6229');\n",
       "var x = new MutationObserver(function (mutations, observer) {{\n",
       "        var display = window.getComputedStyle(gd).display;\n",
       "        if (!display || display === 'none') {{\n",
       "            console.log([gd, 'removed!']);\n",
       "            Plotly.purge(gd);\n",
       "            observer.disconnect();\n",
       "        }}\n",
       "}});\n",
       "\n",
       "// Listen for the removal of the full notebook cells\n",
       "var notebookContainer = gd.closest('#notebook-container');\n",
       "if (notebookContainer) {{\n",
       "    x.observe(notebookContainer, {childList: true});\n",
       "}}\n",
       "\n",
       "// Listen for the clearing of the current output cell\n",
       "var outputEl = gd.closest('.output');\n",
       "if (outputEl) {{\n",
       "    x.observe(outputEl, {childList: true});\n",
       "}}\n",
       "\n",
       "                        })                };                });            </script>        </div>"
      ]
     },
     "metadata": {},
     "output_type": "display_data"
    }
   ],
   "source": [
    "\n",
    "import plotly.graph_objects as go\n",
    "import pandas as pd\n",
    "\n",
    "def WriteMyTable(dataSets):\n",
    "    for frame in dataSets:\n",
    "        headerColor = 'grey'\n",
    "        rowEvenColor = 'lightgrey'\n",
    "        rowOddColor = 'white'\n",
    "\n",
    "        fig = go.Figure(data=[go.Table(\n",
    "            columnwidth = [300,40,40,40],\n",
    "            header=dict(values=[x for x in features],\n",
    "                        fill_color='#39416C',                \n",
    "                        font=dict(color='white', size=12),\n",
    "                        align=['left', 'center', 'center', 'center']),\n",
    "            cells=dict(values=[frame.Forum_Post_Raw, frame.neg, frame.neu, frame.pos],\n",
    "                    fill_color = [[rowOddColor,rowEvenColor,rowOddColor, rowEvenColor,rowOddColor]*5],\n",
    "                    align=['left', 'center', 'center', 'center']))\n",
    "        ])\n",
    "        fig.update_layout(title=frame.name, width=1000, height=400)\n",
    "        fig.write_html(frame.name+\".html\")\n",
    "        fig.show()\n",
    "\n",
    "WriteMyTable(dataSets)\n"
   ]
  },
  {
   "cell_type": "markdown",
   "metadata": {},
   "source": [
    "# Charting Ideas\n",
    "1. Top pos / neg post by user\n",
    "2. Trend line over time (SNS) color = user\n",
    "- Does it match up to release dates or seasonal timings? \n",
    "- Was there a bad release?\n",
    "- Was there a good release?\n",
    "- Can we classify based on tags?\n",
    "\n",
    "3. PCA analysis\n",
    "4. Felix analysis (lda): https://towardsdatascience.com/the-complete-guide-for-topics-extraction-in-python-a6aaa6cedbbc\n",
    "5. Prediction of nltk accuracy chart?"
   ]
  },
  {
   "cell_type": "markdown",
   "metadata": {},
   "source": [
    "# Latent Dirichlet Allocation (LDA) Analysis"
   ]
  },
  {
   "cell_type": "markdown",
   "metadata": {},
   "source": [
    "Three main parameters of the model\n",
    "1. Number of topics\n",
    "2. Number of words per topic\n",
    "3. Number of topics per document"
   ]
  },
  {
   "cell_type": "code",
   "execution_count": 131,
   "metadata": {},
   "outputs": [
    {
     "name": "stderr",
     "output_type": "stream",
     "text": [
      "C:\\Users\\BDelamater\\Anaconda3\\lib\\site-packages\\ipykernel\\ipkernel.py:287: DeprecationWarning:\n",
      "\n",
      "`should_run_async` will not call `transform_cell` automatically in the future. Please pass the result to `transformed_cell` argument and any exception that happen during thetransform in `preprocessing_exc_tuple` in IPython 7.17 and above.\n",
      "\n",
      "<ipython-input-131-6223f08b0e3e>:4: TqdmDeprecationWarning:\n",
      "\n",
      "This function will be removed in tqdm==5.0.0\n",
      "Please use `tqdm.notebook.tqdm` instead of `tqdm.tqdm_notebook`\n",
      "\n"
     ]
    },
    {
     "data": {
      "application/vnd.jupyter.widget-view+json": {
       "model_id": "c9d41fd2f2914f0caf64382cbc7ea9d4",
       "version_major": 2,
       "version_minor": 0
      },
      "text/plain": [
       "0it [00:00, ?it/s]"
      ]
     },
     "metadata": {},
     "output_type": "display_data"
    },
    {
     "name": "stderr",
     "output_type": "stream",
     "text": [
      "[nltk_data] Downloading package averaged_perceptron_tagger to\n",
      "[nltk_data]     C:\\Users\\BDelamater\\AppData\\Roaming\\nltk_data...\n",
      "[nltk_data]   Package averaged_perceptron_tagger is already up-to-\n",
      "[nltk_data]       date!\n"
     ]
    }
   ],
   "source": [
    "from gensim import corpora, models\n",
    "from langdetect import detect\n",
    "from tqdm import tqdm_notebook\n",
    "tqdm_notebook().pandas()\n",
    "from nltk.tokenize import sent_tokenize\n",
    "from nltk.tokenize import word_tokenize\n",
    "from nltk import pos_tag\n",
    "from gensim.models import Phrases\n",
    "from gensim import corpora\n",
    "from gensim import models\n",
    "import numpy as np\n",
    "\n",
    "\n",
    "import nltk\n",
    "nltk.download('averaged_perceptron_tagger')\n",
    "from itertools import chain # to flatten list of sentences of tokens into list of tokens\n",
    "\n"
   ]
  },
  {
   "cell_type": "code",
   "execution_count": 132,
   "metadata": {},
   "outputs": [
    {
     "name": "stderr",
     "output_type": "stream",
     "text": [
      "C:\\Users\\BDelamater\\Anaconda3\\lib\\site-packages\\ipykernel\\ipkernel.py:287: DeprecationWarning:\n",
      "\n",
      "`should_run_async` will not call `transform_cell` automatically in the future. Please pass the result to `transformed_cell` argument and any exception that happen during thetransform in `preprocessing_exc_tuple` in IPython 7.17 and above.\n",
      "\n"
     ]
    }
   ],
   "source": [
    "# dictionary_LDA = corpora.Dictionary(list_of_list_of_tokens)\n",
    "# dictionary_LDA.filter_extremes(no_below=3)\n",
    "# corpus = [dictionary_LDA.doc2bow(list_of_tokens) for list_of_tokens in list_of_list_of_tokens]\n",
    "\n",
    "# num_topics = 20\n",
    "# %time lda_model = models.LdaModel(corpus, num_topics=num_topics, \\\n",
    "#                                   id2word=dictionary_LDA, \\\n",
    "#                                   passes=4, alpha=[0.01]*num_topics, \\\n",
    "#                                   eta=[0.01]*len(dictionary_LDA.keys()))"
   ]
  },
  {
   "cell_type": "markdown",
   "metadata": {},
   "source": [
    "## Tokenization"
   ]
  },
  {
   "cell_type": "code",
   "execution_count": 133,
   "metadata": {},
   "outputs": [
    {
     "name": "stderr",
     "output_type": "stream",
     "text": [
      "C:\\Users\\BDelamater\\Anaconda3\\lib\\site-packages\\ipykernel\\ipkernel.py:287: DeprecationWarning:\n",
      "\n",
      "`should_run_async` will not call `transform_cell` automatically in the future. Please pass the result to `transformed_cell` argument and any exception that happen during thetransform in `preprocessing_exc_tuple` in IPython 7.17 and above.\n",
      "\n"
     ]
    },
    {
     "data": {
      "application/vnd.jupyter.widget-view+json": {
       "model_id": "8294118bd5a341158d8d3d4bf05eb039",
       "version_major": 2,
       "version_minor": 0
      },
      "text/plain": [
       "  0%|          | 0/1086 [00:00<?, ?it/s]"
      ]
     },
     "metadata": {},
     "output_type": "display_data"
    },
    {
     "data": {
      "text/plain": [
       "['Company upgraded to windows 10.',\n",
       " 'Used to run an ERP program which no one heard about, made by U8Soft (keep in mind that the company is in China).',\n",
       " 'They are now asking for an insanely high amount of money to get it to work on windows 10.']"
      ]
     },
     "execution_count": 133,
     "metadata": {},
     "output_type": "execute_result"
    }
   ],
   "source": [
    "dfLDA['sentences'] = dfLDA.Forum_Post_Raw.progress_map(sent_tokenize)\n",
    "dfLDA['sentences'].head(1).tolist()[0][:3]"
   ]
  },
  {
   "cell_type": "code",
   "execution_count": 134,
   "metadata": {},
   "outputs": [
    {
     "name": "stderr",
     "output_type": "stream",
     "text": [
      "C:\\Users\\BDelamater\\Anaconda3\\lib\\site-packages\\ipykernel\\ipkernel.py:287: DeprecationWarning:\n",
      "\n",
      "`should_run_async` will not call `transform_cell` automatically in the future. Please pass the result to `transformed_cell` argument and any exception that happen during thetransform in `preprocessing_exc_tuple` in IPython 7.17 and above.\n",
      "\n"
     ]
    },
    {
     "data": {
      "application/vnd.jupyter.widget-view+json": {
       "model_id": "410d06cdd7ce44dab1b850ddcc340b4a",
       "version_major": 2,
       "version_minor": 0
      },
      "text/plain": [
       "  0%|          | 0/1086 [00:00<?, ?it/s]"
      ]
     },
     "metadata": {},
     "output_type": "display_data"
    },
    {
     "name": "stdout",
     "output_type": "stream",
     "text": [
      "[['Company', 'upgraded', 'to', 'windows', '10', '.'], ['Used', 'to', 'run', 'an', 'ERP', 'program', 'which', 'no', 'one', 'heard', 'about', ',', 'made', 'by', 'U8Soft', '(', 'keep', 'in', 'mind', 'that', 'the', 'company', 'is', 'in', 'China', ')', '.'], ['They', 'are', 'now', 'asking', 'for', 'an', 'insanely', 'high', 'amount', 'of', 'money', 'to', 'get', 'it', 'to', 'work', 'on', 'windows', '10', '.']]\n"
     ]
    }
   ],
   "source": [
    "dfLDA['token_sentences'] = dfLDA['sentences'].progress_map(lambda sentences: [word_tokenize(sentence) for sentence in sentences])\n",
    "print(dfLDA['token_sentences'].head(1).tolist()[0][:3])"
   ]
  },
  {
   "cell_type": "code",
   "execution_count": 135,
   "metadata": {},
   "outputs": [
    {
     "name": "stderr",
     "output_type": "stream",
     "text": [
      "C:\\Users\\BDelamater\\Anaconda3\\lib\\site-packages\\ipykernel\\ipkernel.py:287: DeprecationWarning:\n",
      "\n",
      "`should_run_async` will not call `transform_cell` automatically in the future. Please pass the result to `transformed_cell` argument and any exception that happen during thetransform in `preprocessing_exc_tuple` in IPython 7.17 and above.\n",
      "\n"
     ]
    },
    {
     "data": {
      "application/vnd.jupyter.widget-view+json": {
       "model_id": "8431213c2f4f4d4490428f84d3dc3790",
       "version_major": 2,
       "version_minor": 0
      },
      "text/plain": [
       "  0%|          | 0/1086 [00:00<?, ?it/s]"
      ]
     },
     "metadata": {},
     "output_type": "display_data"
    },
    {
     "name": "stdout",
     "output_type": "stream",
     "text": [
      "[['Company', 'upgraded', 'to', 'windows', '10', '.'], ['Used', 'to', 'run', 'an', 'ERP', 'program', 'which', 'no', 'one', 'heard', 'about', ',', 'made', 'by', 'U8Soft', '(', 'keep', 'in', 'mind', 'that', 'the', 'company', 'is', 'in', 'China', ')', '.'], ['They', 'are', 'now', 'asking', 'for', 'an', 'insanely', 'high', 'amount', 'of', 'money', 'to', 'get', 'it', 'to', 'work', 'on', 'windows', '10', '.']]\n"
     ]
    }
   ],
   "source": [
    "dfLDA['tokens_sentences'] = dfLDA['sentences'].progress_map(lambda sentences: [word_tokenize(sentence) for sentence in sentences])\n",
    "print(dfLDA['tokens_sentences'].head(1).tolist()[0][:3])"
   ]
  },
  {
   "cell_type": "markdown",
   "metadata": {},
   "source": [
    "## Lemmatize with POS tagging"
   ]
  },
  {
   "cell_type": "code",
   "execution_count": 136,
   "metadata": {},
   "outputs": [
    {
     "name": "stderr",
     "output_type": "stream",
     "text": [
      "C:\\Users\\BDelamater\\Anaconda3\\lib\\site-packages\\ipykernel\\ipkernel.py:287: DeprecationWarning:\n",
      "\n",
      "`should_run_async` will not call `transform_cell` automatically in the future. Please pass the result to `transformed_cell` argument and any exception that happen during thetransform in `preprocessing_exc_tuple` in IPython 7.17 and above.\n",
      "\n"
     ]
    },
    {
     "data": {
      "application/vnd.jupyter.widget-view+json": {
       "model_id": "d6dceb8710d844008c597a27bb1ac950",
       "version_major": 2,
       "version_minor": 0
      },
      "text/plain": [
       "  0%|          | 0/1086 [00:00<?, ?it/s]"
      ]
     },
     "metadata": {},
     "output_type": "display_data"
    },
    {
     "name": "stdout",
     "output_type": "stream",
     "text": [
      "[[('Company', 'NN'), ('upgraded', 'VBD'), ('to', 'TO'), ('windows', 'VB'), ('10', 'CD'), ('.', '.')], [('Used', 'VBN'), ('to', 'TO'), ('run', 'VB'), ('an', 'DT'), ('ERP', 'NNP'), ('program', 'NN'), ('which', 'WDT'), ('no', 'DT'), ('one', 'NN'), ('heard', 'NN'), ('about', 'IN'), (',', ','), ('made', 'VBN'), ('by', 'IN'), ('U8Soft', 'NNP'), ('(', '('), ('keep', 'VB'), ('in', 'IN'), ('mind', 'NN'), ('that', 'IN'), ('the', 'DT'), ('company', 'NN'), ('is', 'VBZ'), ('in', 'IN'), ('China', 'NNP'), (')', ')'), ('.', '.')], [('They', 'PRP'), ('are', 'VBP'), ('now', 'RB'), ('asking', 'VBG'), ('for', 'IN'), ('an', 'DT'), ('insanely', 'RB'), ('high', 'JJ'), ('amount', 'NN'), ('of', 'IN'), ('money', 'NN'), ('to', 'TO'), ('get', 'VB'), ('it', 'PRP'), ('to', 'TO'), ('work', 'VB'), ('on', 'IN'), ('windows', 'NNS'), ('10', 'CD'), ('.', '.')]]\n"
     ]
    }
   ],
   "source": [
    "dfLDA['POS_tokens'] = dfLDA['tokens_sentences'].progress_map(lambda tokens_sentences: [pos_tag(tokens) for tokens in tokens_sentences])\n",
    "print(dfLDA['POS_tokens'].head(1).tolist()[0][:3])\n"
   ]
  },
  {
   "cell_type": "code",
   "execution_count": 137,
   "metadata": {},
   "outputs": [
    {
     "name": "stderr",
     "output_type": "stream",
     "text": [
      "C:\\Users\\BDelamater\\Anaconda3\\lib\\site-packages\\ipykernel\\ipkernel.py:287: DeprecationWarning:\n",
      "\n",
      "`should_run_async` will not call `transform_cell` automatically in the future. Please pass the result to `transformed_cell` argument and any exception that happen during thetransform in `preprocessing_exc_tuple` in IPython 7.17 and above.\n",
      "\n"
     ]
    }
   ],
   "source": [
    "# Inspired from https://stackoverflow.com/a/15590384\n",
    "from nltk.corpus import wordnet\n",
    "\n",
    "def get_wordnet_pos(treebank_tag):\n",
    "\n",
    "    if treebank_tag.startswith('J'):\n",
    "        return wordnet.ADJ\n",
    "    elif treebank_tag.startswith('V'):\n",
    "        return wordnet.VERB\n",
    "    elif treebank_tag.startswith('N'):\n",
    "        return wordnet.NOUN\n",
    "    elif treebank_tag.startswith('R'):\n",
    "        return wordnet.ADV\n",
    "    else:\n",
    "        return ''\n",
    "\n",
    "from nltk.stem.wordnet import WordNetLemmatizer\n",
    "lemmatizer = WordNetLemmatizer()"
   ]
  },
  {
   "cell_type": "code",
   "execution_count": 138,
   "metadata": {},
   "outputs": [
    {
     "name": "stderr",
     "output_type": "stream",
     "text": [
      "C:\\Users\\BDelamater\\Anaconda3\\lib\\site-packages\\ipykernel\\ipkernel.py:287: DeprecationWarning:\n",
      "\n",
      "`should_run_async` will not call `transform_cell` automatically in the future. Please pass the result to `transformed_cell` argument and any exception that happen during thetransform in `preprocessing_exc_tuple` in IPython 7.17 and above.\n",
      "\n"
     ]
    },
    {
     "data": {
      "application/vnd.jupyter.widget-view+json": {
       "model_id": "d5e170e54e1446b99baa9d2f2b0c68b6",
       "version_major": 2,
       "version_minor": 0
      },
      "text/plain": [
       "  0%|          | 0/1086 [00:00<?, ?it/s]"
      ]
     },
     "metadata": {},
     "output_type": "display_data"
    }
   ],
   "source": [
    "# Lemmatizing each word with its POS tag, in each sentence\n",
    "dfLDA['tokens_sentences_lemmatized'] = dfLDA['POS_tokens'].progress_map(\n",
    "    lambda list_tokens_POS: [\n",
    "        [\n",
    "            lemmatizer.lemmatize(el[0], get_wordnet_pos(el[1])) \n",
    "            if get_wordnet_pos(el[1]) != '' else el[0] for el in tokens_POS\n",
    "        ] \n",
    "        for tokens_POS in list_tokens_POS\n",
    "    ]\n",
    ")"
   ]
  },
  {
   "cell_type": "code",
   "execution_count": 139,
   "metadata": {},
   "outputs": [
    {
     "name": "stderr",
     "output_type": "stream",
     "text": [
      "C:\\Users\\BDelamater\\Anaconda3\\lib\\site-packages\\ipykernel\\ipkernel.py:287: DeprecationWarning:\n",
      "\n",
      "`should_run_async` will not call `transform_cell` automatically in the future. Please pass the result to `transformed_cell` argument and any exception that happen during thetransform in `preprocessing_exc_tuple` in IPython 7.17 and above.\n",
      "\n"
     ]
    },
    {
     "data": {
      "text/plain": [
       "[['Company', 'upgrade', 'to', 'windows', '10', '.'],\n",
       " ['Used',\n",
       "  'to',\n",
       "  'run',\n",
       "  'an',\n",
       "  'ERP',\n",
       "  'program',\n",
       "  'which',\n",
       "  'no',\n",
       "  'one',\n",
       "  'heard',\n",
       "  'about',\n",
       "  ',',\n",
       "  'make',\n",
       "  'by',\n",
       "  'U8Soft',\n",
       "  '(',\n",
       "  'keep',\n",
       "  'in',\n",
       "  'mind',\n",
       "  'that',\n",
       "  'the',\n",
       "  'company',\n",
       "  'be',\n",
       "  'in',\n",
       "  'China',\n",
       "  ')',\n",
       "  '.'],\n",
       " ['They',\n",
       "  'be',\n",
       "  'now',\n",
       "  'ask',\n",
       "  'for',\n",
       "  'an',\n",
       "  'insanely',\n",
       "  'high',\n",
       "  'amount',\n",
       "  'of',\n",
       "  'money',\n",
       "  'to',\n",
       "  'get',\n",
       "  'it',\n",
       "  'to',\n",
       "  'work',\n",
       "  'on',\n",
       "  'window',\n",
       "  '10',\n",
       "  '.']]"
      ]
     },
     "execution_count": 139,
     "metadata": {},
     "output_type": "execute_result"
    }
   ],
   "source": [
    "dfLDA['tokens_sentences_lemmatized'].head(1).tolist()[0][:3]\n"
   ]
  },
  {
   "cell_type": "markdown",
   "metadata": {},
   "source": [
    "## Regrouping tokens and removing stop words"
   ]
  },
  {
   "cell_type": "code",
   "execution_count": null,
   "metadata": {},
   "outputs": [],
   "source": []
  },
  {
   "cell_type": "code",
   "execution_count": 140,
   "metadata": {},
   "outputs": [
    {
     "name": "stderr",
     "output_type": "stream",
     "text": [
      "C:\\Users\\BDelamater\\Anaconda3\\lib\\site-packages\\ipykernel\\ipkernel.py:287: DeprecationWarning:\n",
      "\n",
      "`should_run_async` will not call `transform_cell` automatically in the future. Please pass the result to `transformed_cell` argument and any exception that happen during thetransform in `preprocessing_exc_tuple` in IPython 7.17 and above.\n",
      "\n"
     ]
    }
   ],
   "source": [
    "from nltk.corpus import stopwords\n",
    "stopwords_verbs = ['say', 'get', 'go', 'know', 'may', 'need', 'like', 'make', 'see', 'want', 'come', 'take', 'use', 'would', 'can']\n",
    "stopwords_other = ['one', 'mr', 'bbc', 'image', 'getty', 'de', 'en', 'caption', 'also', 'copyright', 'something']\n",
    "stopwords_nonsense = ['hello', 'thanks', 'le', 'la', 'hi', 'try', 'sage', 'however']\n",
    "my_stopwords = stopwords.words('English') + stopwords_verbs + stopwords_other + stopwords_nonsense\n"
   ]
  },
  {
   "cell_type": "code",
   "execution_count": 141,
   "metadata": {},
   "outputs": [
    {
     "name": "stderr",
     "output_type": "stream",
     "text": [
      "C:\\Users\\BDelamater\\Anaconda3\\lib\\site-packages\\ipykernel\\ipkernel.py:287: DeprecationWarning:\n",
      "\n",
      "`should_run_async` will not call `transform_cell` automatically in the future. Please pass the result to `transformed_cell` argument and any exception that happen during thetransform in `preprocessing_exc_tuple` in IPython 7.17 and above.\n",
      "\n"
     ]
    }
   ],
   "source": [
    "dfLDA['tokens'] = dfLDA['tokens_sentences_lemmatized'].map(lambda sentences: list(chain.from_iterable(sentences)))\n",
    "dfLDA['tokens'] = dfLDA['tokens'].map(lambda tokens: [token.lower() for token in tokens if token.isalpha() \n",
    "                                                    and token.lower() not in my_stopwords and len(token)>1])\n"
   ]
  },
  {
   "cell_type": "code",
   "execution_count": 142,
   "metadata": {},
   "outputs": [
    {
     "name": "stderr",
     "output_type": "stream",
     "text": [
      "C:\\Users\\BDelamater\\Anaconda3\\lib\\site-packages\\ipykernel\\ipkernel.py:287: DeprecationWarning:\n",
      "\n",
      "`should_run_async` will not call `transform_cell` automatically in the future. Please pass the result to `transformed_cell` argument and any exception that happen during thetransform in `preprocessing_exc_tuple` in IPython 7.17 and above.\n",
      "\n"
     ]
    },
    {
     "data": {
      "text/plain": [
       "['company',\n",
       " 'upgrade',\n",
       " 'windows',\n",
       " 'used',\n",
       " 'run',\n",
       " 'erp',\n",
       " 'program',\n",
       " 'heard',\n",
       " 'keep',\n",
       " 'mind',\n",
       " 'company',\n",
       " 'china',\n",
       " 'ask',\n",
       " 'insanely',\n",
       " 'high',\n",
       " 'amount',\n",
       " 'money',\n",
       " 'work',\n",
       " 'window',\n",
       " 'instal',\n",
       " 'window',\n",
       " 'ca',\n",
       " 'select',\n",
       " 'server',\n",
       " 'drop',\n",
       " 'menu',\n",
       " 'almost',\n",
       " 'network',\n",
       " 'list',\n",
       " 'except']"
      ]
     },
     "execution_count": 142,
     "metadata": {},
     "output_type": "execute_result"
    }
   ],
   "source": [
    "dfLDA['tokens'].head(1).tolist()[0][:30]\n"
   ]
  },
  {
   "cell_type": "markdown",
   "metadata": {},
   "source": [
    "## Data Preparation"
   ]
  },
  {
   "cell_type": "code",
   "execution_count": 143,
   "metadata": {},
   "outputs": [
    {
     "name": "stderr",
     "output_type": "stream",
     "text": [
      "C:\\Users\\BDelamater\\Anaconda3\\lib\\site-packages\\ipykernel\\ipkernel.py:287: DeprecationWarning:\n",
      "\n",
      "`should_run_async` will not call `transform_cell` automatically in the future. Please pass the result to `transformed_cell` argument and any exception that happen during thetransform in `preprocessing_exc_tuple` in IPython 7.17 and above.\n",
      "\n"
     ]
    }
   ],
   "source": [
    "tokens = dfLDA['tokens'].tolist()\n",
    "bigram_model = Phrases(tokens)\n",
    "trigram_model = Phrases(bigram_model[tokens], min_count=1)\n",
    "tokens = list(trigram_model[bigram_model[tokens]])\n"
   ]
  },
  {
   "cell_type": "code",
   "execution_count": 144,
   "metadata": {},
   "outputs": [
    {
     "name": "stderr",
     "output_type": "stream",
     "text": [
      "C:\\Users\\BDelamater\\Anaconda3\\lib\\site-packages\\ipykernel\\ipkernel.py:287: DeprecationWarning:\n",
      "\n",
      "`should_run_async` will not call `transform_cell` automatically in the future. Please pass the result to `transformed_cell` argument and any exception that happen during thetransform in `preprocessing_exc_tuple` in IPython 7.17 and above.\n",
      "\n"
     ]
    }
   ],
   "source": [
    "dictionary_LDA = corpora.Dictionary(tokens)\n",
    "dictionary_LDA.filter_extremes(no_below=3)\n",
    "corpus = [dictionary_LDA.doc2bow(tok) for tok in tokens]\n"
   ]
  },
  {
   "cell_type": "code",
   "execution_count": 145,
   "metadata": {},
   "outputs": [
    {
     "name": "stderr",
     "output_type": "stream",
     "text": [
      "C:\\Users\\BDelamater\\Anaconda3\\lib\\site-packages\\ipykernel\\ipkernel.py:287: DeprecationWarning:\n",
      "\n",
      "`should_run_async` will not call `transform_cell` automatically in the future. Please pass the result to `transformed_cell` argument and any exception that happen during thetransform in `preprocessing_exc_tuple` in IPython 7.17 and above.\n",
      "\n"
     ]
    },
    {
     "name": "stdout",
     "output_type": "stream",
     "text": [
      "Wall time: 5.28 s\n"
     ]
    }
   ],
   "source": [
    "np.random.seed(123456)\n",
    "num_topics = 10\n",
    "\n",
    "%time lda_model = models.LdaModel(corpus, num_topics=num_topics, id2word=dictionary_LDA, passes=10, alpha=[0.01]*num_topics, eta=[0.01]*len(dictionary_LDA.keys()))\n",
    "\n"
   ]
  },
  {
   "cell_type": "code",
   "execution_count": 146,
   "metadata": {},
   "outputs": [
    {
     "name": "stderr",
     "output_type": "stream",
     "text": [
      "C:\\Users\\BDelamater\\Anaconda3\\lib\\site-packages\\ipykernel\\ipkernel.py:287: DeprecationWarning:\n",
      "\n",
      "`should_run_async` will not call `transform_cell` automatically in the future. Please pass the result to `transformed_cell` argument and any exception that happen during thetransform in `preprocessing_exc_tuple` in IPython 7.17 and above.\n",
      "\n"
     ]
    }
   ],
   "source": [
    "lda_model.save('myLdaModel.model')"
   ]
  },
  {
   "cell_type": "code",
   "execution_count": 147,
   "metadata": {},
   "outputs": [
    {
     "name": "stdout",
     "output_type": "stream",
     "text": [
      "0: 0.017*\"create\" + 0.012*\"product\" + 0.010*\"user\" + 0.010*\"import\" + 0.009*\"customer\" + 0.009*\"work\" + 0.008*\"line\" + 0.008*\"search_field_type_click\" + 0.008*\"product_fully_compatible_release\" + 0.008*\"search_complete_list_available\" + 0.008*\"portal_access_download_portal\" + 0.008*\"partner_ensure_component_compatible\" + 0.008*\"downloads_patch_update_download\" + 0.008*\"important_product_integrate_isvs\" + 0.008*\"check_vendor_product_ensure\" + 0.008*\"highly_recommended_work_certified\" + 0.008*\"https_enter_log_credential\" + 0.008*\"search_field_click_search\" + 0.008*\"integrate_product_check_business\" + 0.008*\"upper_right_corner_type\"\n",
      "\n",
      "1: 0.023*\"error\" + 0.015*\"file\" + 0.011*\"run\" + 0.010*\"report\" + 0.010*\"find\" + 0.009*\"folder\" + 0.009*\"invoice\" + 0.008*\"import\" + 0.008*\"screen\" + 0.008*\"work\" + 0.008*\"create\" + 0.007*\"issue\" + 0.007*\"server\" + 0.007*\"patch\" + 0.006*\"problem\" + 0.006*\"change\" + 0.006*\"new\" + 0.006*\"line\" + 0.006*\"select\" + 0.006*\"date\"\n",
      "\n",
      "2: 0.014*\"user\" + 0.012*\"create\" + 0.012*\"line\" + 0.012*\"set\" + 0.011*\"product\" + 0.009*\"anyone\" + 0.009*\"stock\" + 0.009*\"process\" + 0.009*\"way\" + 0.008*\"number\" + 0.008*\"change\" + 0.008*\"work\" + 0.008*\"issue\" + 0.008*\"setup\" + 0.008*\"field\" + 0.007*\"company\" + 0.006*\"error\" + 0.006*\"order\" + 0.006*\"find\" + 0.006*\"possible\"\n",
      "\n",
      "3: 0.020*\"create\" + 0.019*\"field\" + 0.012*\"table\" + 0.011*\"value\" + 0.011*\"function\" + 0.010*\"screen\" + 0.010*\"change\" + 0.009*\"new\" + 0.008*\"error\" + 0.008*\"order\" + 0.008*\"user\" + 0.008*\"product\" + 0.007*\"code\" + 0.007*\"set\" + 0.007*\"update\" + 0.007*\"data\" + 0.006*\"add\" + 0.006*\"action\" + 0.006*\"possible\" + 0.006*\"time\"\n",
      "\n",
      "4: 0.022*\"customer\" + 0.011*\"table\" + 0.011*\"product\" + 0.010*\"create\" + 0.010*\"user\" + 0.009*\"invoice\" + 0.008*\"change\" + 0.008*\"error\" + 0.008*\"way\" + 0.007*\"report\" + 0.006*\"run\" + 0.006*\"version\" + 0.006*\"supplier\" + 0.005*\"update\" + 0.005*\"process\" + 0.005*\"sale_order\" + 0.005*\"help\" + 0.005*\"information\" + 0.005*\"post\" + 0.005*\"code\"\n",
      "\n"
     ]
    },
    {
     "name": "stderr",
     "output_type": "stream",
     "text": [
      "C:\\Users\\BDelamater\\Anaconda3\\lib\\site-packages\\ipykernel\\ipkernel.py:287: DeprecationWarning:\n",
      "\n",
      "`should_run_async` will not call `transform_cell` automatically in the future. Please pass the result to `transformed_cell` argument and any exception that happen during thetransform in `preprocessing_exc_tuple` in IPython 7.17 and above.\n",
      "\n"
     ]
    }
   ],
   "source": [
    "for i,topic in lda_model.show_topics(formatted=True, num_topics=num_topics, num_words=20):\n",
    "    print(str(i)+\": \"+ topic)\n",
    "    print()"
   ]
  },
  {
   "cell_type": "code",
   "execution_count": 148,
   "metadata": {},
   "outputs": [
    {
     "name": "stderr",
     "output_type": "stream",
     "text": [
      "C:\\Users\\BDelamater\\Anaconda3\\lib\\site-packages\\ipykernel\\ipkernel.py:287: DeprecationWarning:\n",
      "\n",
      "`should_run_async` will not call `transform_cell` automatically in the future. Please pass the result to `transformed_cell` argument and any exception that happen during thetransform in `preprocessing_exc_tuple` in IPython 7.17 and above.\n",
      "\n"
     ]
    },
    {
     "data": {
      "text/plain": [
       "[['\"create\" ',\n",
       "  '\"product\" ',\n",
       "  '\"user\" ',\n",
       "  '\"import\" ',\n",
       "  '\"customer\" ',\n",
       "  '\"work\" ',\n",
       "  '\"line\" ',\n",
       "  '\"search_field_type_click\" ',\n",
       "  '\"product_fully_compatible_release\" ',\n",
       "  '\"search_complete_list_available\" ',\n",
       "  '\"portal_access_download_portal\" ',\n",
       "  '\"partner_ensure_component_compatible\" ',\n",
       "  '\"downloads_patch_update_download\" ',\n",
       "  '\"important_product_integrate_isvs\" ',\n",
       "  '\"check_vendor_product_ensure\" ',\n",
       "  '\"highly_recommended_work_certified\" ',\n",
       "  '\"https_enter_log_credential\" ',\n",
       "  '\"search_field_click_search\" ',\n",
       "  '\"integrate_product_check_business\" ',\n",
       "  '\"upper_right_corner_type\"'],\n",
       " ['\"error\" ',\n",
       "  '\"file\" ',\n",
       "  '\"run\" ',\n",
       "  '\"report\" ',\n",
       "  '\"find\" ',\n",
       "  '\"folder\" ',\n",
       "  '\"invoice\" ',\n",
       "  '\"import\" ',\n",
       "  '\"screen\" ',\n",
       "  '\"work\" ',\n",
       "  '\"create\" ',\n",
       "  '\"issue\" ',\n",
       "  '\"server\" ',\n",
       "  '\"patch\" ',\n",
       "  '\"problem\" ',\n",
       "  '\"change\" ',\n",
       "  '\"new\" ',\n",
       "  '\"line\" ',\n",
       "  '\"select\" ',\n",
       "  '\"date\"']]"
      ]
     },
     "execution_count": 148,
     "metadata": {},
     "output_type": "execute_result"
    }
   ],
   "source": [
    "# for i,topic in lda_model.show_topics(formatted=True, num_topics=num_topics, num_words=20):\n",
    "#     print(str(i)+\": \"+ topic)\n",
    "#     print()\n",
    "\n",
    "model_topic_words =[]\n",
    "for i,topic in lda_model.show_topics(formatted=True, num_topics=num_topics, num_words=20):\n",
    "    t_words =[]\n",
    "    ts =topic.split(\"+\")\n",
    "    for t in range(0, len(ts)):\n",
    "        # print(ts[t].split('*'))\n",
    "        t_words.append(ts[t].split('*')[1])\n",
    "\n",
    "    model_topic_words.append(t_words)\n",
    "\n",
    "model_topic_words[:2]\n",
    "\n"
   ]
  },
  {
   "cell_type": "code",
   "execution_count": 149,
   "metadata": {},
   "outputs": [
    {
     "name": "stderr",
     "output_type": "stream",
     "text": [
      "C:\\Users\\BDelamater\\Anaconda3\\lib\\site-packages\\ipykernel\\ipkernel.py:287: DeprecationWarning:\n",
      "\n",
      "`should_run_async` will not call `transform_cell` automatically in the future. Please pass the result to `transformed_cell` argument and any exception that happen during thetransform in `preprocessing_exc_tuple` in IPython 7.17 and above.\n",
      "\n"
     ]
    },
    {
     "data": {
      "text/html": [
       "<div>\n",
       "<style scoped>\n",
       "    .dataframe tbody tr th:only-of-type {\n",
       "        vertical-align: middle;\n",
       "    }\n",
       "\n",
       "    .dataframe tbody tr th {\n",
       "        vertical-align: top;\n",
       "    }\n",
       "\n",
       "    .dataframe thead th {\n",
       "        text-align: right;\n",
       "    }\n",
       "</style>\n",
       "<table border=\"1\" class=\"dataframe\">\n",
       "  <thead>\n",
       "    <tr style=\"text-align: right;\">\n",
       "      <th></th>\n",
       "      <th>Forum ID</th>\n",
       "      <th>Forum Name</th>\n",
       "      <th>Subject</th>\n",
       "      <th>Post Date</th>\n",
       "      <th>User DisplayName</th>\n",
       "      <th>Forum_Post_Raw</th>\n",
       "      <th>compound</th>\n",
       "      <th>neg</th>\n",
       "      <th>neu</th>\n",
       "      <th>pos</th>\n",
       "      <th>...</th>\n",
       "      <th>PostDate</th>\n",
       "      <th>DayName</th>\n",
       "      <th>DayOfMonth</th>\n",
       "      <th>ShortText</th>\n",
       "      <th>sentences</th>\n",
       "      <th>token_sentences</th>\n",
       "      <th>tokens_sentences</th>\n",
       "      <th>POS_tokens</th>\n",
       "      <th>tokens_sentences_lemmatized</th>\n",
       "      <th>tokens</th>\n",
       "    </tr>\n",
       "  </thead>\n",
       "  <tbody>\n",
       "    <tr>\n",
       "      <th>0</th>\n",
       "      <td>40</td>\n",
       "      <td>Sage X3 General Discussion</td>\n",
       "      <td>ERP help urgently needed</td>\n",
       "      <td>2019-10-10T05:58:05.73</td>\n",
       "      <td>ChinusGomes</td>\n",
       "      <td>Company upgraded to windows 10. Used to run an...</td>\n",
       "      <td>0.0387</td>\n",
       "      <td>0.063</td>\n",
       "      <td>0.873</td>\n",
       "      <td>0.064</td>\n",
       "      <td>...</td>\n",
       "      <td>2019-10-10 05:58:05.730</td>\n",
       "      <td>Thursday</td>\n",
       "      <td>10</td>\n",
       "      <td>Company upgraded to windows 10. Used to run an...</td>\n",
       "      <td>[Company upgraded to windows 10., Used to run ...</td>\n",
       "      <td>[[Company, upgraded, to, windows, 10, .], [Use...</td>\n",
       "      <td>[[Company, upgraded, to, windows, 10, .], [Use...</td>\n",
       "      <td>[[(Company, NN), (upgraded, VBD), (to, TO), (w...</td>\n",
       "      <td>[[Company, upgrade, to, windows, 10, .], [Used...</td>\n",
       "      <td>[company, upgrade, windows, used, run, erp, pr...</td>\n",
       "    </tr>\n",
       "  </tbody>\n",
       "</table>\n",
       "<p>1 rows × 21 columns</p>\n",
       "</div>"
      ],
      "text/plain": [
       "   Forum ID                  Forum Name                   Subject  \\\n",
       "0        40  Sage X3 General Discussion  ERP help urgently needed   \n",
       "\n",
       "                Post Date User DisplayName  \\\n",
       "0  2019-10-10T05:58:05.73      ChinusGomes   \n",
       "\n",
       "                                      Forum_Post_Raw  compound    neg    neu  \\\n",
       "0  Company upgraded to windows 10. Used to run an...    0.0387  0.063  0.873   \n",
       "\n",
       "     pos  ...                PostDate   DayName DayOfMonth  \\\n",
       "0  0.064  ... 2019-10-10 05:58:05.730  Thursday         10   \n",
       "\n",
       "                                           ShortText  \\\n",
       "0  Company upgraded to windows 10. Used to run an...   \n",
       "\n",
       "                                           sentences  \\\n",
       "0  [Company upgraded to windows 10., Used to run ...   \n",
       "\n",
       "                                     token_sentences  \\\n",
       "0  [[Company, upgraded, to, windows, 10, .], [Use...   \n",
       "\n",
       "                                    tokens_sentences  \\\n",
       "0  [[Company, upgraded, to, windows, 10, .], [Use...   \n",
       "\n",
       "                                          POS_tokens  \\\n",
       "0  [[(Company, NN), (upgraded, VBD), (to, TO), (w...   \n",
       "\n",
       "                         tokens_sentences_lemmatized  \\\n",
       "0  [[Company, upgrade, to, windows, 10, .], [Used...   \n",
       "\n",
       "                                              tokens  \n",
       "0  [company, upgrade, windows, used, run, erp, pr...  \n",
       "\n",
       "[1 rows x 21 columns]"
      ]
     },
     "execution_count": 149,
     "metadata": {},
     "output_type": "execute_result"
    }
   ],
   "source": [
    "## Allocation topics to documents\n",
    "dfLDA.head(1)\n"
   ]
  },
  {
   "cell_type": "code",
   "execution_count": 150,
   "metadata": {},
   "outputs": [
    {
     "name": "stderr",
     "output_type": "stream",
     "text": [
      "C:\\Users\\BDelamater\\Anaconda3\\lib\\site-packages\\ipykernel\\ipkernel.py:287: DeprecationWarning:\n",
      "\n",
      "`should_run_async` will not call `transform_cell` automatically in the future. Please pass the result to `transformed_cell` argument and any exception that happen during thetransform in `preprocessing_exc_tuple` in IPython 7.17 and above.\n",
      "\n"
     ]
    },
    {
     "data": {
      "text/plain": [
       "[(1, 0.99889016)]"
      ]
     },
     "execution_count": 150,
     "metadata": {},
     "output_type": "execute_result"
    }
   ],
   "source": [
    "lda_model[corpus[0]]"
   ]
  },
  {
   "cell_type": "markdown",
   "metadata": {},
   "source": [
    "## Predict based on input"
   ]
  },
  {
   "cell_type": "markdown",
   "metadata": {},
   "source": [
    "# Advanced exploration of LDA result\n",
    "## Allocation of topics in all documents"
   ]
  },
  {
   "cell_type": "code",
   "execution_count": 151,
   "metadata": {},
   "outputs": [
    {
     "name": "stderr",
     "output_type": "stream",
     "text": [
      "C:\\Users\\BDelamater\\Anaconda3\\lib\\site-packages\\ipykernel\\ipkernel.py:287: DeprecationWarning:\n",
      "\n",
      "`should_run_async` will not call `transform_cell` automatically in the future. Please pass the result to `transformed_cell` argument and any exception that happen during thetransform in `preprocessing_exc_tuple` in IPython 7.17 and above.\n",
      "\n"
     ]
    }
   ],
   "source": [
    "topics = [lda_model[corpus[i]] for i in range(len(dfLDA))]"
   ]
  },
  {
   "cell_type": "code",
   "execution_count": 152,
   "metadata": {},
   "outputs": [
    {
     "name": "stderr",
     "output_type": "stream",
     "text": [
      "C:\\Users\\BDelamater\\Anaconda3\\lib\\site-packages\\ipykernel\\ipkernel.py:287: DeprecationWarning:\n",
      "\n",
      "`should_run_async` will not call `transform_cell` automatically in the future. Please pass the result to `transformed_cell` argument and any exception that happen during thetransform in `preprocessing_exc_tuple` in IPython 7.17 and above.\n",
      "\n"
     ]
    }
   ],
   "source": [
    "\n",
    "def topics_document_to_dataframe(topics_document, num_topics):\n",
    "    res = pd.DataFrame(columns=range(num_topics))\n",
    "    for topic_weight in topics_document:\n",
    "        res.loc[0, topic_weight[0]] = topic_weight[1]\n",
    "    return res"
   ]
  },
  {
   "cell_type": "code",
   "execution_count": 153,
   "metadata": {},
   "outputs": [
    {
     "name": "stderr",
     "output_type": "stream",
     "text": [
      "C:\\Users\\BDelamater\\Anaconda3\\lib\\site-packages\\ipykernel\\ipkernel.py:287: DeprecationWarning:\n",
      "\n",
      "`should_run_async` will not call `transform_cell` automatically in the future. Please pass the result to `transformed_cell` argument and any exception that happen during thetransform in `preprocessing_exc_tuple` in IPython 7.17 and above.\n",
      "\n"
     ]
    },
    {
     "data": {
      "text/html": [
       "<div>\n",
       "<style scoped>\n",
       "    .dataframe tbody tr th:only-of-type {\n",
       "        vertical-align: middle;\n",
       "    }\n",
       "\n",
       "    .dataframe tbody tr th {\n",
       "        vertical-align: top;\n",
       "    }\n",
       "\n",
       "    .dataframe thead th {\n",
       "        text-align: right;\n",
       "    }\n",
       "</style>\n",
       "<table border=\"1\" class=\"dataframe\">\n",
       "  <thead>\n",
       "    <tr style=\"text-align: right;\">\n",
       "      <th></th>\n",
       "      <th>0</th>\n",
       "      <th>1</th>\n",
       "      <th>2</th>\n",
       "      <th>3</th>\n",
       "      <th>4</th>\n",
       "      <th>5</th>\n",
       "      <th>6</th>\n",
       "      <th>7</th>\n",
       "      <th>8</th>\n",
       "      <th>9</th>\n",
       "      <th>10</th>\n",
       "      <th>11</th>\n",
       "      <th>12</th>\n",
       "      <th>13</th>\n",
       "      <th>14</th>\n",
       "      <th>15</th>\n",
       "      <th>16</th>\n",
       "      <th>17</th>\n",
       "      <th>18</th>\n",
       "      <th>19</th>\n",
       "    </tr>\n",
       "  </thead>\n",
       "  <tbody>\n",
       "    <tr>\n",
       "      <th>0</th>\n",
       "      <td>NaN</td>\n",
       "      <td>NaN</td>\n",
       "      <td>NaN</td>\n",
       "      <td>NaN</td>\n",
       "      <td>NaN</td>\n",
       "      <td>NaN</td>\n",
       "      <td>NaN</td>\n",
       "      <td>NaN</td>\n",
       "      <td>NaN</td>\n",
       "      <td>0.038537</td>\n",
       "      <td>NaN</td>\n",
       "      <td>NaN</td>\n",
       "      <td>NaN</td>\n",
       "      <td>NaN</td>\n",
       "      <td>NaN</td>\n",
       "      <td>0.091301</td>\n",
       "      <td>NaN</td>\n",
       "      <td>NaN</td>\n",
       "      <td>0.869287</td>\n",
       "      <td>NaN</td>\n",
       "    </tr>\n",
       "  </tbody>\n",
       "</table>\n",
       "</div>"
      ],
      "text/plain": [
       "    0    1    2    3    4    5    6    7    8         9    10   11   12   13  \\\n",
       "0  NaN  NaN  NaN  NaN  NaN  NaN  NaN  NaN  NaN  0.038537  NaN  NaN  NaN  NaN   \n",
       "\n",
       "    14        15   16   17        18   19  \n",
       "0  NaN  0.091301  NaN  NaN  0.869287  NaN  "
      ]
     },
     "execution_count": 153,
     "metadata": {},
     "output_type": "execute_result"
    }
   ],
   "source": [
    "topics_document_to_dataframe([(9, 0.03853655432967504), (15, 0.09130117862212643), (18, 0.8692868808484044)], 20)\n"
   ]
  },
  {
   "cell_type": "code",
   "execution_count": 154,
   "metadata": {},
   "outputs": [
    {
     "name": "stderr",
     "output_type": "stream",
     "text": [
      "C:\\Users\\BDelamater\\Anaconda3\\lib\\site-packages\\ipykernel\\ipkernel.py:287: DeprecationWarning:\n",
      "\n",
      "`should_run_async` will not call `transform_cell` automatically in the future. Please pass the result to `transformed_cell` argument and any exception that happen during thetransform in `preprocessing_exc_tuple` in IPython 7.17 and above.\n",
      "\n"
     ]
    }
   ],
   "source": [
    "\n",
    "# Like TF-IDF, create a matrix of topic weighting, with documents as rows and topics as columns\n",
    "document_topic = \\\n",
    "pd.concat([topics_document_to_dataframe(topics_document, num_topics=num_topics) for topics_document in topics]) \\\n",
    "  .reset_index(drop=True).fillna(0)"
   ]
  },
  {
   "cell_type": "code",
   "execution_count": 155,
   "metadata": {},
   "outputs": [
    {
     "name": "stderr",
     "output_type": "stream",
     "text": [
      "C:\\Users\\BDelamater\\Anaconda3\\lib\\site-packages\\ipykernel\\ipkernel.py:287: DeprecationWarning:\n",
      "\n",
      "`should_run_async` will not call `transform_cell` automatically in the future. Please pass the result to `transformed_cell` argument and any exception that happen during thetransform in `preprocessing_exc_tuple` in IPython 7.17 and above.\n",
      "\n"
     ]
    },
    {
     "data": {
      "text/plain": [
       "267     0.999570\n",
       "403     0.999385\n",
       "920     0.999311\n",
       "966     0.999216\n",
       "450     0.999150\n",
       "499     0.999131\n",
       "709     0.999001\n",
       "831     0.998949\n",
       "323     0.998859\n",
       "1012    0.998752\n",
       "Name: 4, dtype: float64"
      ]
     },
     "execution_count": 155,
     "metadata": {},
     "output_type": "execute_result"
    }
   ],
   "source": [
    "# Which document are about topic 14\n",
    "document_topic.sort_values(num_topics-1, ascending=False)[num_topics-1].head(10)"
   ]
  },
  {
   "cell_type": "code",
   "execution_count": 156,
   "metadata": {},
   "outputs": [
    {
     "name": "stderr",
     "output_type": "stream",
     "text": [
      "C:\\Users\\BDelamater\\Anaconda3\\lib\\site-packages\\ipykernel\\ipkernel.py:287: DeprecationWarning:\n",
      "\n",
      "`should_run_async` will not call `transform_cell` automatically in the future. Please pass the result to `transformed_cell` argument and any exception that happen during thetransform in `preprocessing_exc_tuple` in IPython 7.17 and above.\n",
      "\n"
     ]
    },
    {
     "data": {
      "text/html": [
       "<div>\n",
       "<style scoped>\n",
       "    .dataframe tbody tr th:only-of-type {\n",
       "        vertical-align: middle;\n",
       "    }\n",
       "\n",
       "    .dataframe tbody tr th {\n",
       "        vertical-align: top;\n",
       "    }\n",
       "\n",
       "    .dataframe thead th {\n",
       "        text-align: right;\n",
       "    }\n",
       "</style>\n",
       "<table border=\"1\" class=\"dataframe\">\n",
       "  <thead>\n",
       "    <tr style=\"text-align: right;\">\n",
       "      <th></th>\n",
       "      <th>Forum ID</th>\n",
       "      <th>Forum Name</th>\n",
       "      <th>Subject</th>\n",
       "      <th>Post Date</th>\n",
       "      <th>User DisplayName</th>\n",
       "      <th>Forum_Post_Raw</th>\n",
       "      <th>compound</th>\n",
       "      <th>neg</th>\n",
       "      <th>neu</th>\n",
       "      <th>pos</th>\n",
       "      <th>...</th>\n",
       "      <th>PostDate</th>\n",
       "      <th>DayName</th>\n",
       "      <th>DayOfMonth</th>\n",
       "      <th>ShortText</th>\n",
       "      <th>sentences</th>\n",
       "      <th>token_sentences</th>\n",
       "      <th>tokens_sentences</th>\n",
       "      <th>POS_tokens</th>\n",
       "      <th>tokens_sentences_lemmatized</th>\n",
       "      <th>tokens</th>\n",
       "    </tr>\n",
       "  </thead>\n",
       "  <tbody>\n",
       "    <tr>\n",
       "      <th>0</th>\n",
       "      <td>40</td>\n",
       "      <td>Sage X3 General Discussion</td>\n",
       "      <td>ERP help urgently needed</td>\n",
       "      <td>2019-10-10T05:58:05.73</td>\n",
       "      <td>ChinusGomes</td>\n",
       "      <td>Company upgraded to windows 10. Used to run an...</td>\n",
       "      <td>0.0387</td>\n",
       "      <td>0.063</td>\n",
       "      <td>0.873</td>\n",
       "      <td>0.064</td>\n",
       "      <td>...</td>\n",
       "      <td>2019-10-10 05:58:05.730</td>\n",
       "      <td>Thursday</td>\n",
       "      <td>10</td>\n",
       "      <td>Company upgraded to windows 10. Used to run an...</td>\n",
       "      <td>[Company upgraded to windows 10., Used to run ...</td>\n",
       "      <td>[[Company, upgraded, to, windows, 10, .], [Use...</td>\n",
       "      <td>[[Company, upgraded, to, windows, 10, .], [Use...</td>\n",
       "      <td>[[(Company, NN), (upgraded, VBD), (to, TO), (w...</td>\n",
       "      <td>[[Company, upgrade, to, windows, 10, .], [Used...</td>\n",
       "      <td>[company, upgrade, windows, used, run, erp, pr...</td>\n",
       "    </tr>\n",
       "    <tr>\n",
       "      <th>31</th>\n",
       "      <td>40</td>\n",
       "      <td>Sage X3 General Discussion</td>\n",
       "      <td>Sage V11 patch 14 - release soon?</td>\n",
       "      <td>2019-10-10T12:44:35.957</td>\n",
       "      <td>AnikB</td>\n",
       "      <td>Hello!\\n\\nI see that Sage V11 patch 14 was com...</td>\n",
       "      <td>0.7044</td>\n",
       "      <td>0.022</td>\n",
       "      <td>0.915</td>\n",
       "      <td>0.063</td>\n",
       "      <td>...</td>\n",
       "      <td>2019-10-10 12:44:35.957</td>\n",
       "      <td>Thursday</td>\n",
       "      <td>10</td>\n",
       "      <td>Hello!\\n\\nI see that Sage V11 patch 14 was com...</td>\n",
       "      <td>[Hello!, I see that Sage V11 patch 14 was comp...</td>\n",
       "      <td>[[Hello, !], [I, see, that, Sage, V11, patch, ...</td>\n",
       "      <td>[[Hello, !], [I, see, that, Sage, V11, patch, ...</td>\n",
       "      <td>[[(Hello, NN), (!, .)], [(I, PRP), (see, VBP),...</td>\n",
       "      <td>[[Hello, !], [I, see, that, Sage, V11, patch, ...</td>\n",
       "      <td>[patch, complete, october, least, patch, finde...</td>\n",
       "    </tr>\n",
       "    <tr>\n",
       "      <th>62</th>\n",
       "      <td>673</td>\n",
       "      <td>Sage X3 Announcements, News, and Alerts</td>\n",
       "      <td>Sage X3 12.0.19 and Patch 19 Add-ons Updates h...</td>\n",
       "      <td>2019-10-10T14:56:52.947</td>\n",
       "      <td>Alecia</td>\n",
       "      <td>To access this download, log into https://supp...</td>\n",
       "      <td>0.9359</td>\n",
       "      <td>0.000</td>\n",
       "      <td>0.898</td>\n",
       "      <td>0.102</td>\n",
       "      <td>...</td>\n",
       "      <td>2019-10-10 14:56:52.947</td>\n",
       "      <td>Thursday</td>\n",
       "      <td>10</td>\n",
       "      <td>To access this download, log into https://supp...</td>\n",
       "      <td>[To access this download, log into https://sup...</td>\n",
       "      <td>[[To, access, this, download, ,, log, into, ht...</td>\n",
       "      <td>[[To, access, this, download, ,, log, into, ht...</td>\n",
       "      <td>[[(To, TO), (access, NN), (this, DT), (downloa...</td>\n",
       "      <td>[[To, access, this, download, ,, log, into, ht...</td>\n",
       "      <td>[access, download, log, http, search, field, t...</td>\n",
       "    </tr>\n",
       "    <tr>\n",
       "      <th>63</th>\n",
       "      <td>673</td>\n",
       "      <td>Sage X3 Announcements, News, and Alerts</td>\n",
       "      <td>Sage X3 Warehousing (GEODE) v12.0.19 has been ...</td>\n",
       "      <td>2019-10-10T20:56:53.483</td>\n",
       "      <td>pnightingale</td>\n",
       "      <td>To access this download, log into https://supp...</td>\n",
       "      <td>0.9359</td>\n",
       "      <td>0.000</td>\n",
       "      <td>0.898</td>\n",
       "      <td>0.102</td>\n",
       "      <td>...</td>\n",
       "      <td>2019-10-10 20:56:53.483</td>\n",
       "      <td>Thursday</td>\n",
       "      <td>10</td>\n",
       "      <td>To access this download, log into https://supp...</td>\n",
       "      <td>[To access this download, log into https://sup...</td>\n",
       "      <td>[[To, access, this, download, ,, log, into, ht...</td>\n",
       "      <td>[[To, access, this, download, ,, log, into, ht...</td>\n",
       "      <td>[[(To, TO), (access, NN), (this, DT), (downloa...</td>\n",
       "      <td>[[To, access, this, download, ,, log, into, ht...</td>\n",
       "      <td>[access, download, log, http, search, field, t...</td>\n",
       "    </tr>\n",
       "    <tr>\n",
       "      <th>64</th>\n",
       "      <td>40</td>\n",
       "      <td>Sage X3 General Discussion</td>\n",
       "      <td>Modifying Stock Change ST2 object</td>\n",
       "      <td>2019-10-11T13:10:28.983</td>\n",
       "      <td>ChrisCC</td>\n",
       "      <td>I am trying to remove some of the columns on t...</td>\n",
       "      <td>0.5980</td>\n",
       "      <td>0.046</td>\n",
       "      <td>0.865</td>\n",
       "      <td>0.090</td>\n",
       "      <td>...</td>\n",
       "      <td>2019-10-11 13:10:28.983</td>\n",
       "      <td>Friday</td>\n",
       "      <td>11</td>\n",
       "      <td>I am trying to remove some of the columns on t...</td>\n",
       "      <td>[I am trying to remove some of the columns on ...</td>\n",
       "      <td>[[I, am, trying, to, remove, some, of, the, co...</td>\n",
       "      <td>[[I, am, trying, to, remove, some, of, the, co...</td>\n",
       "      <td>[[(I, PRP), (am, VBP), (trying, VBG), (to, TO)...</td>\n",
       "      <td>[[I, be, try, to, remove, some, of, the, colum...</td>\n",
       "      <td>[remove, column, object, stock, selection, bro...</td>\n",
       "    </tr>\n",
       "  </tbody>\n",
       "</table>\n",
       "<p>5 rows × 21 columns</p>\n",
       "</div>"
      ],
      "text/plain": [
       "    Forum ID                               Forum Name  \\\n",
       "0         40               Sage X3 General Discussion   \n",
       "31        40               Sage X3 General Discussion   \n",
       "62       673  Sage X3 Announcements, News, and Alerts   \n",
       "63       673  Sage X3 Announcements, News, and Alerts   \n",
       "64        40               Sage X3 General Discussion   \n",
       "\n",
       "                                              Subject  \\\n",
       "0                            ERP help urgently needed   \n",
       "31                  Sage V11 patch 14 - release soon?   \n",
       "62  Sage X3 12.0.19 and Patch 19 Add-ons Updates h...   \n",
       "63  Sage X3 Warehousing (GEODE) v12.0.19 has been ...   \n",
       "64                  Modifying Stock Change ST2 object   \n",
       "\n",
       "                  Post Date User DisplayName  \\\n",
       "0    2019-10-10T05:58:05.73      ChinusGomes   \n",
       "31  2019-10-10T12:44:35.957            AnikB   \n",
       "62  2019-10-10T14:56:52.947           Alecia   \n",
       "63  2019-10-10T20:56:53.483     pnightingale   \n",
       "64  2019-10-11T13:10:28.983          ChrisCC   \n",
       "\n",
       "                                       Forum_Post_Raw  compound    neg    neu  \\\n",
       "0   Company upgraded to windows 10. Used to run an...    0.0387  0.063  0.873   \n",
       "31  Hello!\\n\\nI see that Sage V11 patch 14 was com...    0.7044  0.022  0.915   \n",
       "62  To access this download, log into https://supp...    0.9359  0.000  0.898   \n",
       "63  To access this download, log into https://supp...    0.9359  0.000  0.898   \n",
       "64  I am trying to remove some of the columns on t...    0.5980  0.046  0.865   \n",
       "\n",
       "      pos  ...                PostDate   DayName DayOfMonth  \\\n",
       "0   0.064  ... 2019-10-10 05:58:05.730  Thursday         10   \n",
       "31  0.063  ... 2019-10-10 12:44:35.957  Thursday         10   \n",
       "62  0.102  ... 2019-10-10 14:56:52.947  Thursday         10   \n",
       "63  0.102  ... 2019-10-10 20:56:53.483  Thursday         10   \n",
       "64  0.090  ... 2019-10-11 13:10:28.983    Friday         11   \n",
       "\n",
       "                                            ShortText  \\\n",
       "0   Company upgraded to windows 10. Used to run an...   \n",
       "31  Hello!\\n\\nI see that Sage V11 patch 14 was com...   \n",
       "62  To access this download, log into https://supp...   \n",
       "63  To access this download, log into https://supp...   \n",
       "64  I am trying to remove some of the columns on t...   \n",
       "\n",
       "                                            sentences  \\\n",
       "0   [Company upgraded to windows 10., Used to run ...   \n",
       "31  [Hello!, I see that Sage V11 patch 14 was comp...   \n",
       "62  [To access this download, log into https://sup...   \n",
       "63  [To access this download, log into https://sup...   \n",
       "64  [I am trying to remove some of the columns on ...   \n",
       "\n",
       "                                      token_sentences  \\\n",
       "0   [[Company, upgraded, to, windows, 10, .], [Use...   \n",
       "31  [[Hello, !], [I, see, that, Sage, V11, patch, ...   \n",
       "62  [[To, access, this, download, ,, log, into, ht...   \n",
       "63  [[To, access, this, download, ,, log, into, ht...   \n",
       "64  [[I, am, trying, to, remove, some, of, the, co...   \n",
       "\n",
       "                                     tokens_sentences  \\\n",
       "0   [[Company, upgraded, to, windows, 10, .], [Use...   \n",
       "31  [[Hello, !], [I, see, that, Sage, V11, patch, ...   \n",
       "62  [[To, access, this, download, ,, log, into, ht...   \n",
       "63  [[To, access, this, download, ,, log, into, ht...   \n",
       "64  [[I, am, trying, to, remove, some, of, the, co...   \n",
       "\n",
       "                                           POS_tokens  \\\n",
       "0   [[(Company, NN), (upgraded, VBD), (to, TO), (w...   \n",
       "31  [[(Hello, NN), (!, .)], [(I, PRP), (see, VBP),...   \n",
       "62  [[(To, TO), (access, NN), (this, DT), (downloa...   \n",
       "63  [[(To, TO), (access, NN), (this, DT), (downloa...   \n",
       "64  [[(I, PRP), (am, VBP), (trying, VBG), (to, TO)...   \n",
       "\n",
       "                          tokens_sentences_lemmatized  \\\n",
       "0   [[Company, upgrade, to, windows, 10, .], [Used...   \n",
       "31  [[Hello, !], [I, see, that, Sage, V11, patch, ...   \n",
       "62  [[To, access, this, download, ,, log, into, ht...   \n",
       "63  [[To, access, this, download, ,, log, into, ht...   \n",
       "64  [[I, be, try, to, remove, some, of, the, colum...   \n",
       "\n",
       "                                               tokens  \n",
       "0   [company, upgrade, windows, used, run, erp, pr...  \n",
       "31  [patch, complete, october, least, patch, finde...  \n",
       "62  [access, download, log, http, search, field, t...  \n",
       "63  [access, download, log, http, search, field, t...  \n",
       "64  [remove, column, object, stock, selection, bro...  \n",
       "\n",
       "[5 rows x 21 columns]"
      ]
     },
     "execution_count": 156,
     "metadata": {},
     "output_type": "execute_result"
    }
   ],
   "source": [
    "dfLDA.head(5)"
   ]
  },
  {
   "cell_type": "code",
   "execution_count": 157,
   "metadata": {},
   "outputs": [
    {
     "name": "stdout",
     "output_type": "stream",
     "text": [
      "Hello!\n",
      "\n",
      "I see that Sage V11 patch 14 was completed on October 1st. at least in the patch finder. It \n"
     ]
    },
    {
     "name": "stderr",
     "output_type": "stream",
     "text": [
      "C:\\Users\\BDelamater\\Anaconda3\\lib\\site-packages\\ipykernel\\ipkernel.py:287: DeprecationWarning:\n",
      "\n",
      "`should_run_async` will not call `transform_cell` automatically in the future. Please pass the result to `transformed_cell` argument and any exception that happen during thetransform in `preprocessing_exc_tuple` in IPython 7.17 and above.\n",
      "\n"
     ]
    }
   ],
   "source": [
    "print(dfLDA.Forum_Post_Raw.loc[31][:100])"
   ]
  },
  {
   "cell_type": "code",
   "execution_count": 158,
   "metadata": {},
   "outputs": [
    {
     "name": "stderr",
     "output_type": "stream",
     "text": [
      "C:\\Users\\BDelamater\\Anaconda3\\lib\\site-packages\\ipykernel\\ipkernel.py:287: DeprecationWarning:\n",
      "\n",
      "`should_run_async` will not call `transform_cell` automatically in the future. Please pass the result to `transformed_cell` argument and any exception that happen during thetransform in `preprocessing_exc_tuple` in IPython 7.17 and above.\n",
      "\n"
     ]
    },
    {
     "data": {
      "text/plain": [
       "<AxesSubplot:>"
      ]
     },
     "execution_count": 158,
     "metadata": {},
     "output_type": "execute_result"
    },
    {
     "data": {
      "image/png": "[encoded data removed]",
      "text/plain": [
       "<Figure size 720x1440 with 2 Axes>"
      ]
     },
     "metadata": {},
     "output_type": "display_data"
    }
   ],
   "source": [
    "%matplotlib inline\n",
    "import seaborn as sns; sns.set(rc={'figure.figsize':(10,20)})\n",
    "sns.heatmap(document_topic.loc[document_topic.idxmax(axis=1).sort_values().index])"
   ]
  },
  {
   "cell_type": "code",
   "execution_count": 159,
   "metadata": {},
   "outputs": [
    {
     "name": "stderr",
     "output_type": "stream",
     "text": [
      "C:\\Users\\BDelamater\\Anaconda3\\lib\\site-packages\\ipykernel\\ipkernel.py:287: DeprecationWarning:\n",
      "\n",
      "`should_run_async` will not call `transform_cell` automatically in the future. Please pass the result to `transformed_cell` argument and any exception that happen during thetransform in `preprocessing_exc_tuple` in IPython 7.17 and above.\n",
      "\n"
     ]
    },
    {
     "data": {
      "text/plain": [
       "<AxesSubplot:>"
      ]
     },
     "execution_count": 159,
     "metadata": {},
     "output_type": "execute_result"
    },
    {
     "data": {
      "image/png": "[encoded data removed]",
      "text/plain": [
       "<Figure size 720x360 with 1 Axes>"
      ]
     },
     "metadata": {},
     "output_type": "display_data"
    }
   ],
   "source": [
    "sns.set(rc={'figure.figsize':(10,5)})\n",
    "document_topic.idxmax(axis=1).value_counts().plot.bar(color='lightblue')"
   ]
  },
  {
   "cell_type": "markdown",
   "metadata": {},
   "source": [
    "# Visualize the data"
   ]
  },
  {
   "cell_type": "code",
   "execution_count": 160,
   "metadata": {},
   "outputs": [
    {
     "name": "stderr",
     "output_type": "stream",
     "text": [
      "C:\\Users\\BDelamater\\Anaconda3\\lib\\site-packages\\ipykernel\\ipkernel.py:287: DeprecationWarning:\n",
      "\n",
      "`should_run_async` will not call `transform_cell` automatically in the future. Please pass the result to `transformed_cell` argument and any exception that happen during thetransform in `preprocessing_exc_tuple` in IPython 7.17 and above.\n",
      "\n"
     ]
    },
    {
     "name": "stdout",
     "output_type": "stream",
     "text": [
      "Requirement already satisfied: pyLDAvis in c:\\users\\bdelamater\\anaconda3\\lib\\site-packages (3.2.2)\n",
      "Requirement already satisfied: numexpr in c:\\users\\bdelamater\\anaconda3\\lib\\site-packages (from pyLDAvis) (2.7.3)\n",
      "Requirement already satisfied: pandas>=0.17.0 in c:\\users\\bdelamater\\anaconda3\\lib\\site-packages (from pyLDAvis) (1.2.4)\n",
      "Requirement already satisfied: jinja2>=2.7.2 in c:\\users\\bdelamater\\anaconda3\\lib\\site-packages (from pyLDAvis) (2.11.3)\n",
      "Requirement already satisfied: wheel>=0.23.0 in c:\\users\\bdelamater\\anaconda3\\lib\\site-packages (from pyLDAvis) (0.36.2)\n",
      "Requirement already satisfied: funcy in c:\\users\\bdelamater\\anaconda3\\lib\\site-packages (from pyLDAvis) (1.16)\n",
      "Requirement already satisfied: future in c:\\users\\bdelamater\\anaconda3\\lib\\site-packages (from pyLDAvis) (0.18.2)\n",
      "Requirement already satisfied: joblib>=0.8.4 in c:\\users\\bdelamater\\anaconda3\\lib\\site-packages (from pyLDAvis) (1.0.1)\n",
      "Requirement already satisfied: scipy>=0.18.0 in c:\\users\\bdelamater\\anaconda3\\lib\\site-packages (from pyLDAvis) (1.6.2)\n",
      "Requirement already satisfied: numpy>=1.9.2 in c:\\users\\bdelamater\\anaconda3\\lib\\site-packages (from pyLDAvis) (1.20.1)\n",
      "Requirement already satisfied: MarkupSafe>=0.23 in c:\\users\\bdelamater\\anaconda3\\lib\\site-packages (from jinja2>=2.7.2->pyLDAvis) (1.1.1)\n",
      "Requirement already satisfied: pytz>=2017.3 in c:\\users\\bdelamater\\anaconda3\\lib\\site-packages (from pandas>=0.17.0->pyLDAvis) (2021.1)\n",
      "Requirement already satisfied: python-dateutil>=2.7.3 in c:\\users\\bdelamater\\anaconda3\\lib\\site-packages (from pandas>=0.17.0->pyLDAvis) (2.8.1)\n",
      "Requirement already satisfied: six>=1.5 in c:\\users\\bdelamater\\anaconda3\\lib\\site-packages (from python-dateutil>=2.7.3->pandas>=0.17.0->pyLDAvis) (1.15.0)\n"
     ]
    }
   ],
   "source": [
    "! pip install pyLDAvis"
   ]
  },
  {
   "cell_type": "code",
   "execution_count": 161,
   "metadata": {},
   "outputs": [
    {
     "name": "stderr",
     "output_type": "stream",
     "text": [
      "C:\\Users\\BDelamater\\Anaconda3\\lib\\site-packages\\ipykernel\\ipkernel.py:287: DeprecationWarning:\n",
      "\n",
      "`should_run_async` will not call `transform_cell` automatically in the future. Please pass the result to `transformed_cell` argument and any exception that happen during thetransform in `preprocessing_exc_tuple` in IPython 7.17 and above.\n",
      "\n"
     ]
    }
   ],
   "source": [
    "# import scipy\n",
    "# scipy.test()"
   ]
  },
  {
   "cell_type": "code",
   "execution_count": 162,
   "metadata": {},
   "outputs": [
    {
     "name": "stderr",
     "output_type": "stream",
     "text": [
      "C:\\Users\\BDelamater\\Anaconda3\\lib\\site-packages\\ipykernel\\ipkernel.py:287: DeprecationWarning:\n",
      "\n",
      "`should_run_async` will not call `transform_cell` automatically in the future. Please pass the result to `transformed_cell` argument and any exception that happen during thetransform in `preprocessing_exc_tuple` in IPython 7.17 and above.\n",
      "\n"
     ]
    },
    {
     "data": {
      "text/html": [
       "\n",
       "<link rel=\"stylesheet\" type=\"text/css\" href=\"https://cdn.jsdelivr.net/gh/bmabey/pyLDAvis@3.2.2/pyLDAvis/js/ldavis.v1.0.0.css\">\n",
       "\n",
       "\n",
       "<div id=\"ldavis_el164027405352712009305649232\"></div>\n",
       "<script type=\"text/javascript\">\n",
       "\n",
       "var ldavis_el164027405352712009305649232_data = {\"mdsDat\": {\"x\": [0.002576770457994338, 0.02544584182258864, 0.02661336013648726, -0.18166870361770238, 0.12703273120063202], \"y\": [0.04275697082542845, 0.07977825584240145, 0.08856359995347618, -0.072300557181401, -0.13879826943990523], \"topics\": [1, 2, 3, 4, 5], \"cluster\": [1, 1, 1, 1, 1], \"Freq\": [27.465829332954755, 24.668321234698027, 21.316772735763305, 14.01592620234227, 12.533150494241644]}, \"tinfo\": {\"Term\": [\"customer\", \"import\", \"product\", \"search_complete_list_available\", \"product_fully_compatible_release\", \"portal_access_download_portal\", \"partner_ensure_component_compatible\", \"important_product_integrate_isvs\", \"downloads_patch_update_download\", \"highly_recommended_work_certified\", \"check_vendor_product_ensure\", \"https_enter_log_credential\", \"integrate_product_check_business\", \"search_field_click_search\", \"upper_right_corner_type\", \"file\", \"search_field_type_click\", \"action\", \"line\", \"access_download_log_http\", \"table\", \"customer_additional_resource_include\", \"link_support_option_online\", \"patch_help_visit_city\", \"case_submission_knowledgebase_university\", \"price\", \"stock\", \"field\", \"partner_professional_services_install\", \"error\", \"param\", \"aclob\", \"carrier\", \"fld\", \"search_help_visit\", \"version_enterprise\", \"intelligence_complete_list\", \"kb_continually\", \"update_current\", \"commit\", \"rollback\", \"production_scheduler\", \"refresh\", \"invoices\", \"control_table\", \"standard_action\", \"create_simple\", \"care\", \"production_folder\", \"among\", \"average_cost\", \"inventory_item\", \"plus\", \"retain\", \"sales_delivery\", \"anyone_advise\", \"functional_profile\", \"troubleshooting\", \"area\", \"meaning\", \"itmmaster\", \"endifreturn\", \"gessoh\", \"action\", \"course\", \"volume\", \"buy\", \"net\", \"atextra\", \"length\", \"object\", \"project\", \"button\", \"stop\", \"entry_transaction\", \"value\", \"field\", \"several\", \"hold\", \"function\", \"quote\", \"deliver\", \"formula\", \"description\", \"gosub\", \"table\", \"create\", \"selection\", \"order\", \"new\", \"screen\", \"code\", \"give\", \"time\", \"modify\", \"create_new\", \"data\", \"change\", \"lot\", \"list\", \"without\", \"update\", \"add\", \"possible\", \"record\", \"set\", \"product\", \"user\", \"transaction\", \"link\", \"error\", \"call\", \"look\", \"run\", \"example\", \"work\", \"find\", \"help\", \"importsil\", \"chrome\", \"special\", \"advance_matteos\", \"maximum\", \"work_correctly\", \"create_customized\", \"behaviour\", \"microsoft\", \"trace\", \"flash\", \"attach_eclipse\", \"google\", \"could_resolve\", \"others_handle\", \"order_level\", \"versus_individual\", \"anyone_else_today\", \"weight_suggestion\", \"total_order\", \"pricing_groups\", \"tiered_pricing\", \"price_break\", \"able_print\", \"drag_drop\", \"regularly\", \"last_step\", \"green\", \"alone\", \"hop_someone\", \"none\", \"provider\", \"martin\", \"overlook\", \"cell\", \"browser\", \"week\", \"excel\", \"file\", \"connection\", \"local\", \"directory\", \"add_new\", \"subprog\", \"patch\", \"parameter_set\", \"import_data\", \"menu\", \"error\", \"core\", \"folder\", \"attachment\", \"server\", \"report\", \"installation\", \"application\", \"run\", \"display\", \"import\", \"find\", \"problem\", \"please_help\", \"instal\", \"date\", \"select\", \"invoice\", \"appear\", \"screen\", \"issue\", \"click\", \"show\", \"work\", \"check\", \"system\", \"two\", \"new\", \"help\", \"line\", \"change\", \"create\", \"customer\", \"post\", \"anyone\", \"update\", \"data\", \"look\", \"user\", \"table\", \"budget\", \"full_pallet\", \"ever\", \"within_system\", \"wip\", \"partial_pallet\", \"occasionally\", \"picking\", \"possible_setup\", \"using\", \"seem_allow\", \"work_order_production_tracking\", \"misc_issue\", \"hear\", \"combine\", \"consumption\", \"signature_circuit\", \"signature_process\", \"clean\", \"create_production_track\", \"mean_lot\", \"link_http\", \"wos\", \"po_po\", \"find_helpful\", \"enquiry\", \"department\", \"intersite\", \"three\", \"mongo\", \"user_assignment\", \"discussion\", \"bank_reconciliation\", \"signature\", \"movement\", \"limit\", \"production_track\", \"either\", \"allocation\", \"ca_seem\", \"vat\", \"log_file\", \"kb\", \"much\", \"statement\", \"workflow\", \"location\", \"stock\", \"setup\", \"number\", \"po\", \"web_service\", \"line\", \"full\", \"set\", \"anyone\", \"process\", \"company\", \"user\", \"product\", \"way\", \"issue\", \"different\", \"work\", \"create\", \"multiple\", \"change\", \"order\", \"suggestion\", \"possible\", \"available\", \"field\", \"example\", \"site\", \"find\", \"error\", \"help\", \"system\", \"customer_additional_resource_include\", \"link_support_option_online\", \"patch_help_visit_city\", \"product_fully_compatible_release\", \"case_submission_knowledgebase_university\", \"partner_professional_services_install\", \"search_complete_list_available\", \"portal_access_download_portal\", \"downloads_patch_update_download\", \"partner_ensure_component_compatible\", \"important_product_integrate_isvs\", \"check_vendor_product_ensure\", \"highly_recommended_work_certified\", \"https_enter_log_credential\", \"search_field_click_search\", \"integrate_product_check_business\", \"upper_right_corner_type\", \"im\", \"pack\", \"price_list\", \"find_screenshot\", \"property\", \"sit\", \"often\", \"based\", \"batch_job\", \"call_numero\", \"partner_install_patch\", \"designate\", \"currently_available\", \"clalev\", \"depreciation_method\", \"search_field_type_click\", \"access_download_log_http\", \"price\", \"packaging\", \"shortcut\", \"depreciation\", \"template\", \"delivery\", \"column\", \"import\", \"currently\", \"create\", \"product\", \"date\", \"customer\", \"work\", \"user\", \"line\", \"version\", \"invoice\", \"screen\", \"fully_compatible_release_integrate\", \"product_check_business_partner\", \"vendor_product_ensure_product\", \"product_integrate_isvs_check\", \"que\", \"help_visit_city_customer\", \"work_certified_partner_professional\", \"type_click_complete_list\", \"review_hotfix\", \"log_http_search_field\", \"detail_access_download\", \"services_install_help_visit\", \"ensure_component_highly_recommended\", \"badge\", \"right_corner_type_search\", \"information_downloading\", \"fix_available\", \"immediate_implementation\", \"support_option_online_case\", \"apply_update\", \"professional_services_install_patch\", \"customers\", \"additional_resource_include_link\", \"ensure_component_compatible_highly\", \"please_refer_knowledgebase_article\", \"field_click_search_important\", \"complete_list_available_downloads\", \"access_download_portal_https\", \"patch_update_download_portal\", \"submission_knowledgebase_university\", \"pour\", \"udm\", \"une\", \"sur\", \"knowledgebase_article\", \"et\", \"ar\", \"available_downloads_patch_update\", \"include_link_support_option\", \"portal_https_enter_log\", \"download_portal_access_download\", \"credential_upper_right_corner\", \"city_customer_additional_resource\", \"online_case_submission_knowledgebase\", \"type_search_field_click\", \"test_folder\", \"customer\", \"policy\", \"good\", \"university\", \"supplier\", \"pay\", \"table\", \"invoice\", \"product\", \"service\", \"best\", \"implement\", \"confirm\", \"user\", \"way\", \"version\", \"change\", \"create\", \"report\", \"error\", \"information\", \"run\", \"specific\", \"post\", \"sale_order\", \"solution\", \"update\", \"process\", \"idea\", \"web_service\", \"sei\", \"help\", \"code\", \"transaction\", \"add\", \"data\", \"different\"], \"Freq\": [151.0, 94.0, 175.0, 23.0, 23.0, 23.0, 23.0, 23.0, 23.0, 23.0, 23.0, 23.0, 23.0, 23.0, 23.0, 122.0, 29.0, 38.0, 136.0, 27.0, 152.0, 19.0, 19.0, 19.0, 19.0, 29.0, 80.0, 192.0, 18.0, 240.0, 9.937755842600822, 4.981184517674257, 5.960438175651992, 3.9867933541133667, 3.983563273518633, 3.98344280929696, 3.9833722414984654, 3.983365469841034, 3.9832022372566374, 3.983130243846052, 5.948988015741696, 3.976864678706978, 7.904715388120103, 3.9749807323289836, 3.9734474865253264, 2.99235122492023, 2.990313668839452, 2.9901604155396906, 2.9885220308443365, 2.988447542612592, 4.9470311288149205, 2.986713463705643, 2.986221449332805, 3.9657620117438146, 5.917340140131944, 3.9615104800860212, 2.9814023458613614, 2.981319125755561, 7.87332483549274, 2.9809639701434403, 14.525649981128183, 3.95546695403009, 3.951240014180863, 36.474479226405926, 5.804223879578214, 10.290369588363898, 3.9225673910046135, 10.943338417477529, 4.813943112078127, 5.696537775478348, 31.253691015421555, 12.506086550547856, 20.172900069791243, 12.824344470534701, 5.646613196461495, 66.29270146902998, 114.94325943114453, 13.493860379186268, 10.776685076868855, 65.17277482518634, 12.646949855627883, 7.83875659351498, 18.952308104991914, 19.396112553755213, 6.935181553377454, 73.2829622583416, 119.94606299977276, 14.378705014868798, 50.41997066473399, 52.50026944721874, 59.79757856864723, 45.77691460477119, 17.585943027071842, 34.15858949224365, 19.088146127451864, 18.031307095462473, 40.50201301004417, 59.25809273879769, 25.215302865465684, 25.627498642951725, 23.245811208350588, 40.516360370126, 36.56873784662555, 34.488094066014824, 30.73422363055105, 41.884463269184764, 47.47449356535932, 50.33834581886305, 27.201822033393317, 27.75636802937009, 50.712129904174525, 30.006365972695512, 28.113059025712857, 30.57084278249681, 26.56624994862374, 28.914395581952498, 28.28943860481103, 27.653860817593085, 6.188058271783162, 4.141545970071162, 5.160436731217036, 3.108529432022032, 5.146705960062801, 5.141755264021971, 3.10472982242649, 3.1046104244164527, 6.157880344720879, 3.1029628599187062, 4.11856777502429, 3.0993716366623976, 3.099264402524697, 3.099371956764301, 3.0993732371719154, 3.099371956764301, 3.099371956764301, 3.0993725969681085, 3.0993709964585903, 3.0993738773757227, 3.0993729170700117, 3.0993729170700117, 3.0993709964585903, 4.115801134271614, 3.0982762479483332, 3.098072663137654, 3.0979036493325616, 3.097863956696517, 3.096362678768708, 3.0940813125018654, 5.069790274160125, 4.078319442075255, 5.998399814521076, 4.076411954831798, 4.072966057839716, 18.44571726470539, 10.824016676729247, 17.014578785602243, 83.16851295342667, 13.719169380841235, 9.807849982782873, 6.544206850729732, 7.212413172423214, 3.964665980800149, 36.065120914683874, 7.175185961240205, 7.893180292813331, 14.853558030430664, 125.28144205165361, 7.838198309446133, 48.07310362382964, 11.120996979613546, 37.44322362999362, 57.000023564892295, 18.414699390248103, 16.753644517876726, 62.69785793520893, 27.338036750805852, 46.1276471729772, 56.62693327259664, 35.66419712166778, 17.43776758662402, 15.13497753957794, 32.59507031336552, 32.66372576964621, 47.36136088243351, 21.69469908937058, 44.565780356857964, 40.70597111692053, 20.426153171173876, 30.837050172360485, 43.15046387464516, 26.82129752825785, 30.68213877673244, 19.850439654317178, 33.37153765966633, 29.781697243581167, 33.14165839821892, 33.67878170998715, 41.34462307005991, 31.179064971856207, 22.5388410997195, 25.884692162447273, 26.02554980410037, 24.52873025560463, 23.565843243102194, 26.195531597349145, 24.81340584131516, 13.051136763216135, 7.050045775542418, 6.033331155901126, 4.037505027186781, 5.031824079276861, 4.034343081968191, 4.034250417140248, 4.0318328332709035, 4.030764283329567, 7.013027974753074, 3.0320352152636345, 3.031392646919414, 4.0236133247265595, 4.022189605713343, 3.028783094719941, 3.028828182382493, 3.0283853274883485, 4.022034979925818, 3.028180358421165, 3.0282326379808113, 3.02735135397535, 3.026064281006922, 6.9977391079765985, 4.017714309440789, 3.0251182699276136, 4.01737739672307, 3.024439188875069, 5.0075276380013785, 7.9766033264341845, 3.0116694223615363, 3.9978704823008706, 3.9981620307446106, 4.946788747704085, 21.191557674883928, 4.922266038281562, 8.583691829397726, 4.86992949668166, 17.614004894125554, 16.39701972899463, 4.823331535740044, 9.020224492773284, 7.841505199188966, 14.07978163369093, 11.984084949367118, 13.071089298646745, 24.983831735285513, 23.702755702588565, 44.43581997970849, 37.631709976866496, 40.19021077142798, 26.47039243886536, 20.887225357447495, 56.579291752476365, 9.690224945402262, 54.73876800283614, 44.53697124622357, 42.70462191746514, 33.02581106597416, 65.58516675087824, 54.64677810677331, 41.81987694983311, 39.003972626043144, 26.89285996441616, 39.54247532575681, 57.22862933153097, 15.958897103138408, 39.67569138885477, 29.12918147229062, 17.94858079851149, 27.139393771021105, 18.85215747207315, 35.748211875974405, 23.88325019073782, 20.42528206196971, 27.70011390052719, 30.825884983178973, 21.729467319698752, 19.965938913902892, 19.07958120214689, 19.07865146259012, 19.07657809972878, 23.82881889737513, 19.072031251348648, 18.120557031826525, 23.82791825764799, 23.827809133286866, 23.82697978814233, 23.827077272571604, 23.82671206970971, 23.82609078834705, 23.825430222214383, 23.82495880497433, 23.824535402453172, 23.82433752361167, 23.823835551550502, 9.542654024309316, 5.743935346695505, 7.60547909314666, 2.8735487034664917, 4.75757770640101, 2.871900743739597, 3.8150996992098802, 2.8703895532119765, 2.8671838432300483, 2.870274063263121, 2.8689536584935307, 2.860148777542373, 2.8412746280425107, 3.7539427697577556, 3.7488881293505307, 24.246768110459808, 22.362607976418005, 22.484907285407438, 6.4329640227249385, 5.746196039710107, 7.615740420570941, 12.095315087061802, 18.58262449661756, 15.103931922886686, 30.23840411697304, 16.195898664884695, 51.88738824135593, 37.386317488972864, 20.06147638356719, 28.488445122240506, 27.647547345340225, 30.775909980104256, 25.282179333566386, 20.533654584164154, 22.711837941824726, 21.150930355276405, 7.6656717103012415, 7.6654934644335535, 7.665524039454653, 7.665280740350582, 8.617738184876554, 3.8443057165234316, 4.787285555040812, 4.787182120394964, 4.78717463927278, 4.786882550241422, 4.7869092220683385, 4.786890356629788, 4.786639251137351, 6.681428603946332, 2.888107060373092, 2.8880114321156096, 2.8879210081170377, 2.887890107829756, 2.8879040942755783, 2.8876575425096878, 2.887423676124892, 2.8861082996852345, 2.887370983003422, 2.8872899917241255, 2.8871859065459136, 2.887164113711725, 2.8871263828346234, 2.8870987352091606, 2.88686909728473, 2.88651553294499, 4.7703648829914975, 3.8150320854174113, 7.448662570649379, 4.725983288267965, 3.8000252795824747, 10.430317160739298, 3.7238586735623693, 7.548181662199954, 7.547205863654214, 7.545986115472039, 7.5455931939242875, 7.545456582127883, 7.545373313985314, 7.545157337240523, 7.544855490223708, 6.730362949418105, 60.61100067452672, 5.70176979915931, 10.993289169459667, 9.1632303889809, 15.946415265277006, 11.711104794612252, 30.623808425013227, 25.002095090143523, 29.903208521343462, 11.92259807035123, 6.418102210522371, 7.64274369713817, 8.093263380382723, 27.64427391989702, 21.936021565732176, 17.22103845447034, 22.911663983704933, 29.134666984589124, 18.643583595744772, 22.84508069520254, 12.925219366516608, 17.770949074389794, 12.522352479987088, 12.724336273631645, 13.102030159810527, 10.99078722198839, 14.908384191483812, 14.200636205193808, 11.747846862521186, 10.819070097103234, 10.576467062661337, 12.975746215215029, 12.577893632145885, 11.412168259592418, 11.898728736857699, 11.209926855131785, 10.882924402339373], \"Total\": [151.0, 94.0, 175.0, 23.0, 23.0, 23.0, 23.0, 23.0, 23.0, 23.0, 23.0, 23.0, 23.0, 23.0, 23.0, 122.0, 29.0, 38.0, 136.0, 27.0, 152.0, 19.0, 19.0, 19.0, 19.0, 29.0, 80.0, 192.0, 18.0, 240.0, 9.993632595697393, 5.020754300115381, 6.014473522329426, 4.02636313655449, 4.025484852429808, 4.025481415422789, 4.0254798358191355, 4.025478377689723, 4.02547213686094, 4.0259105246438205, 6.014586622959144, 4.025536920625636, 8.002323716417813, 4.026714030400396, 4.025470570166112, 3.0319210073613534, 3.0318066868834648, 3.03185942687853, 3.0308111461978293, 3.031802950871814, 5.020409897146224, 3.0315389254551186, 3.0318930515177276, 4.026519786315389, 6.014132670697941, 4.026356611667354, 3.030327520498844, 3.0303423520370814, 8.004498655619537, 3.030816661013726, 14.954518616031777, 4.025021549375039, 4.0256092209795975, 38.90985881251545, 6.0082836549445275, 10.978631938430636, 4.028159517416813, 11.94317693742522, 5.0155951636503096, 6.004359821969476, 36.82630301484206, 13.922733484758247, 23.981056073153177, 14.958614398048821, 6.014409180140688, 99.53666996552624, 192.51686425599166, 16.84734580698452, 12.94621001427293, 109.52702896225975, 15.856496823938414, 9.038789353619713, 26.827724196812806, 28.043722011664382, 7.964851130238708, 152.43686364503512, 299.5413706273087, 20.092732625128907, 102.70188509211391, 110.18295853702159, 132.18505589491394, 93.43133731826245, 26.841640440865003, 69.11473322887295, 30.95456304955315, 28.69870134963714, 93.62259840093179, 164.71881059847505, 47.673907214845755, 49.989717333078964, 43.09812020192137, 109.6431615037809, 96.58685652192722, 93.01038814597395, 76.89960932929894, 136.90477620862694, 175.4325694173583, 200.5392280670917, 62.13064364227874, 65.33310172619215, 240.5505103614579, 80.00347997710234, 80.39301797041381, 135.9706655494698, 75.90298138816514, 144.09254653532116, 126.2861564121094, 102.97279105670975, 6.245457028151587, 4.180730277975171, 5.212951462066161, 3.147713739926041, 5.2118375303540825, 5.211265324682637, 3.1472464572518026, 3.1474815681023784, 6.243981275598988, 3.147387742450459, 4.177756632929286, 3.147015486699533, 3.147247360628547, 3.14746944011539, 3.1474709236595206, 3.147469876642798, 3.1474702180850276, 3.1474709512129864, 3.147469460915833, 3.1474730614548805, 3.1474721465307316, 3.147472539837604, 3.147470608421049, 4.179920883673638, 3.147012659441776, 3.1469668293807813, 3.146904877121068, 3.1470220031497327, 3.1468555676879264, 3.146972029804075, 5.208939624754991, 4.178084950372167, 6.230459736084786, 4.17783254413786, 4.174668914304227, 20.618744496938167, 12.351836506624458, 20.464105783605174, 122.91741873236474, 16.43772447301765, 11.334937961399593, 7.237100474739123, 8.28438183089369, 4.1665941787171805, 54.00744920577335, 8.269799771728259, 9.257214331410742, 19.41367236946712, 240.5505103614579, 9.306250600077076, 78.90556908116086, 14.30678166308009, 62.072291664833735, 110.68214223457203, 27.323940997435226, 24.354833705893178, 135.9706655494698, 47.65084100945233, 94.17767333696885, 126.2861564121094, 72.67920208861779, 27.577458177864997, 23.328143835408767, 68.93693301946266, 70.65556436538009, 120.44901864893593, 43.46313116889981, 132.18505589491394, 115.05125512364907, 40.33585560739644, 77.39628401892689, 144.09254653532116, 65.14814426465044, 85.34653545663019, 39.34059021530937, 110.18295853702159, 102.97279105670975, 136.2384748647386, 164.71881059847505, 299.5413706273087, 151.17622213518996, 56.44979939361291, 106.317305698585, 109.6431615037809, 93.62259840093179, 80.39301797041381, 200.5392280670917, 152.43686364503512, 13.145365353893073, 7.101387046051133, 6.093225078648783, 4.078903238123963, 5.0858033537726515, 4.0789066764961435, 4.078845605006207, 4.078597622021049, 4.0786975670549515, 7.100490320264524, 3.0714737368424894, 3.0715060862964565, 4.079336714421078, 4.078113193723133, 3.071368528426718, 3.0716002350253206, 3.0713792428210396, 4.079350467066469, 3.0713575232457897, 3.0715474354561816, 3.0714698544605588, 3.070795040982057, 7.103002967235803, 4.078367821363959, 3.0713818689769297, 4.079239684529686, 3.07142767203535, 5.087133348761854, 8.108229632231028, 3.070848070426716, 4.076699743796127, 4.077965712938062, 5.081370143858859, 23.161055279739223, 5.083477766899013, 9.125303588449984, 5.090828592623528, 20.246701018102886, 19.142817174899704, 5.083617248053332, 10.148104833291056, 9.099419062088316, 18.03266540913889, 15.226941018640868, 17.120619132064682, 38.12173050947179, 36.748851666284345, 80.94889564039444, 66.33027665925633, 78.000695023422, 45.985776264618856, 34.7945867647925, 136.2384748647386, 13.081468432507688, 136.90477620862694, 106.317305698585, 103.83452985379516, 73.45183008994346, 200.5392280670917, 175.4325694173583, 128.19268432603786, 115.05125512364907, 70.65746981735113, 144.09254653532116, 299.5413706273087, 30.825102178307716, 164.71881059847505, 102.70188509211391, 39.503831527131496, 93.01038814597395, 44.006662538767394, 192.51686425599166, 75.90298138816514, 54.30302351940911, 126.2861564121094, 240.5505103614579, 102.97279105670975, 85.34653545663019, 19.17376879648376, 19.173711673995477, 19.173619489997886, 23.95566181699419, 19.173777348583464, 18.217535198189985, 23.9558314882228, 23.955786315764357, 23.955542860960474, 23.955847926115265, 23.95577754429092, 23.955624119333457, 23.95572187306393, 23.95567434411078, 23.955730227197467, 23.955788827262012, 23.955731050668017, 9.611458233024136, 5.785498221087117, 7.699963090858364, 2.9172429113781977, 4.830657227620568, 2.916355202075289, 3.874398392304295, 2.9163319756290003, 2.9142757464785447, 2.9175695793695002, 2.917909178164784, 2.9174774294814068, 2.9181696081063397, 3.877855854713721, 3.879462435625745, 29.820444802428973, 27.90698445055985, 29.92490186186026, 7.713205601938073, 6.779317272409499, 9.688281567094354, 18.6490752862031, 41.43749041845089, 31.266039716193433, 94.17767333696885, 39.30427659084872, 299.5413706273087, 175.4325694173583, 68.93693301946266, 151.17622213518996, 144.09254653532116, 200.5392280670917, 136.2384748647386, 81.70946966961901, 120.44901864893593, 132.18505589491394, 7.731710426477935, 7.731644224133379, 7.731696127059485, 7.731674982260182, 8.692498361109228, 3.890360195110648, 4.850724936853719, 4.850795715313358, 4.850796193953231, 4.850717894294971, 4.850791774283548, 4.85077957631031, 4.850759257351958, 6.77337481331813, 2.9299352811899704, 2.9299138006084613, 2.9299158228205004, 2.929917711611307, 2.929945201081216, 2.929926191679326, 2.9299660406536763, 2.928667280050167, 2.9299705045292743, 2.9299743810933316, 2.929939210922851, 2.9299789221270798, 2.9299806278275233, 2.9299828812489785, 2.9299927423579932, 2.9300101279881297, 4.851911481893377, 3.890737471185161, 7.7307577052776155, 4.851313539808029, 3.890210009416077, 11.572157994074713, 3.8945881831975133, 8.729861319964964, 8.72986304148779, 8.729926711098988, 8.729971037602965, 8.729968254782445, 8.729888213699741, 8.72996576035803, 8.729984072967214, 7.763962694136367, 151.17622213518996, 6.845620375012513, 18.651928205503193, 14.599839490968357, 36.24775437881854, 24.369557225581485, 152.43686364503512, 120.44901864893593, 175.4325694173583, 29.62588797040057, 8.793812385507774, 12.669352678042653, 14.578769838696777, 200.5392280670917, 128.19268432603786, 81.70946966961901, 164.71881059847505, 299.5413706273087, 110.68214223457203, 240.5505103614579, 47.33062748932744, 135.9706655494698, 47.29267010440964, 56.44979939361291, 65.91246374698653, 34.76426030263881, 109.6431615037809, 103.83452985379516, 48.846014819438224, 34.7945867647925, 34.10727239035761, 102.97279105670975, 93.43133731826245, 62.13064364227874, 96.58685652192722, 93.62259840093179, 70.65746981735113], \"Category\": [\"Default\", \"Default\", \"Default\", \"Default\", \"Default\", \"Default\", \"Default\", \"Default\", \"Default\", \"Default\", \"Default\", \"Default\", \"Default\", \"Default\", \"Default\", \"Default\", \"Default\", \"Default\", \"Default\", \"Default\", \"Default\", \"Default\", \"Default\", \"Default\", \"Default\", \"Default\", \"Default\", \"Default\", \"Default\", \"Default\", \"Topic1\", \"Topic1\", \"Topic1\", \"Topic1\", \"Topic1\", \"Topic1\", \"Topic1\", \"Topic1\", \"Topic1\", \"Topic1\", \"Topic1\", \"Topic1\", \"Topic1\", \"Topic1\", \"Topic1\", \"Topic1\", \"Topic1\", \"Topic1\", \"Topic1\", \"Topic1\", \"Topic1\", \"Topic1\", \"Topic1\", \"Topic1\", \"Topic1\", \"Topic1\", \"Topic1\", \"Topic1\", \"Topic1\", \"Topic1\", \"Topic1\", \"Topic1\", \"Topic1\", \"Topic1\", \"Topic1\", \"Topic1\", \"Topic1\", \"Topic1\", \"Topic1\", \"Topic1\", \"Topic1\", \"Topic1\", \"Topic1\", \"Topic1\", \"Topic1\", \"Topic1\", \"Topic1\", \"Topic1\", \"Topic1\", \"Topic1\", \"Topic1\", \"Topic1\", \"Topic1\", \"Topic1\", \"Topic1\", \"Topic1\", \"Topic1\", \"Topic1\", \"Topic1\", \"Topic1\", \"Topic1\", \"Topic1\", \"Topic1\", \"Topic1\", \"Topic1\", \"Topic1\", \"Topic1\", \"Topic1\", \"Topic1\", \"Topic1\", \"Topic1\", \"Topic1\", \"Topic1\", \"Topic1\", \"Topic1\", \"Topic1\", \"Topic1\", \"Topic1\", \"Topic1\", \"Topic1\", \"Topic1\", \"Topic1\", \"Topic1\", \"Topic1\", \"Topic1\", \"Topic1\", \"Topic1\", \"Topic1\", \"Topic2\", \"Topic2\", \"Topic2\", \"Topic2\", \"Topic2\", \"Topic2\", \"Topic2\", \"Topic2\", \"Topic2\", \"Topic2\", \"Topic2\", \"Topic2\", \"Topic2\", \"Topic2\", \"Topic2\", \"Topic2\", \"Topic2\", \"Topic2\", \"Topic2\", \"Topic2\", \"Topic2\", \"Topic2\", \"Topic2\", \"Topic2\", \"Topic2\", \"Topic2\", \"Topic2\", \"Topic2\", \"Topic2\", \"Topic2\", \"Topic2\", \"Topic2\", \"Topic2\", \"Topic2\", \"Topic2\", \"Topic2\", \"Topic2\", \"Topic2\", \"Topic2\", \"Topic2\", \"Topic2\", \"Topic2\", \"Topic2\", \"Topic2\", \"Topic2\", \"Topic2\", \"Topic2\", \"Topic2\", \"Topic2\", \"Topic2\", \"Topic2\", \"Topic2\", \"Topic2\", \"Topic2\", \"Topic2\", \"Topic2\", \"Topic2\", \"Topic2\", \"Topic2\", \"Topic2\", \"Topic2\", \"Topic2\", \"Topic2\", \"Topic2\", \"Topic2\", \"Topic2\", \"Topic2\", \"Topic2\", \"Topic2\", \"Topic2\", \"Topic2\", \"Topic2\", \"Topic2\", \"Topic2\", \"Topic2\", \"Topic2\", \"Topic2\", \"Topic2\", \"Topic2\", \"Topic2\", \"Topic2\", \"Topic2\", \"Topic2\", \"Topic2\", \"Topic2\", \"Topic2\", \"Topic2\", \"Topic2\", \"Topic3\", \"Topic3\", \"Topic3\", \"Topic3\", \"Topic3\", \"Topic3\", \"Topic3\", \"Topic3\", \"Topic3\", \"Topic3\", \"Topic3\", \"Topic3\", \"Topic3\", \"Topic3\", \"Topic3\", \"Topic3\", \"Topic3\", \"Topic3\", \"Topic3\", \"Topic3\", \"Topic3\", \"Topic3\", \"Topic3\", \"Topic3\", \"Topic3\", \"Topic3\", \"Topic3\", \"Topic3\", \"Topic3\", \"Topic3\", \"Topic3\", \"Topic3\", \"Topic3\", \"Topic3\", \"Topic3\", \"Topic3\", \"Topic3\", \"Topic3\", \"Topic3\", \"Topic3\", \"Topic3\", \"Topic3\", \"Topic3\", \"Topic3\", \"Topic3\", \"Topic3\", \"Topic3\", \"Topic3\", \"Topic3\", \"Topic3\", \"Topic3\", \"Topic3\", \"Topic3\", \"Topic3\", \"Topic3\", \"Topic3\", \"Topic3\", \"Topic3\", \"Topic3\", \"Topic3\", \"Topic3\", \"Topic3\", \"Topic3\", \"Topic3\", \"Topic3\", \"Topic3\", \"Topic3\", \"Topic3\", \"Topic3\", \"Topic3\", \"Topic3\", \"Topic3\", \"Topic3\", \"Topic3\", \"Topic3\", \"Topic3\", \"Topic3\", \"Topic3\", \"Topic4\", \"Topic4\", \"Topic4\", \"Topic4\", \"Topic4\", \"Topic4\", \"Topic4\", \"Topic4\", \"Topic4\", \"Topic4\", \"Topic4\", \"Topic4\", \"Topic4\", \"Topic4\", \"Topic4\", \"Topic4\", \"Topic4\", \"Topic4\", \"Topic4\", \"Topic4\", \"Topic4\", \"Topic4\", \"Topic4\", \"Topic4\", \"Topic4\", \"Topic4\", \"Topic4\", \"Topic4\", \"Topic4\", \"Topic4\", \"Topic4\", \"Topic4\", \"Topic4\", \"Topic4\", \"Topic4\", \"Topic4\", \"Topic4\", \"Topic4\", \"Topic4\", \"Topic4\", \"Topic4\", \"Topic4\", \"Topic4\", \"Topic4\", \"Topic4\", \"Topic4\", \"Topic4\", \"Topic4\", \"Topic4\", \"Topic4\", \"Topic4\", \"Topic4\", \"Topic4\", \"Topic5\", \"Topic5\", \"Topic5\", \"Topic5\", \"Topic5\", \"Topic5\", \"Topic5\", \"Topic5\", \"Topic5\", \"Topic5\", \"Topic5\", \"Topic5\", \"Topic5\", \"Topic5\", \"Topic5\", \"Topic5\", \"Topic5\", \"Topic5\", \"Topic5\", \"Topic5\", \"Topic5\", \"Topic5\", \"Topic5\", \"Topic5\", \"Topic5\", \"Topic5\", \"Topic5\", \"Topic5\", \"Topic5\", \"Topic5\", \"Topic5\", \"Topic5\", \"Topic5\", \"Topic5\", \"Topic5\", \"Topic5\", \"Topic5\", \"Topic5\", \"Topic5\", \"Topic5\", \"Topic5\", \"Topic5\", \"Topic5\", \"Topic5\", \"Topic5\", \"Topic5\", \"Topic5\", \"Topic5\", \"Topic5\", \"Topic5\", \"Topic5\", \"Topic5\", \"Topic5\", \"Topic5\", \"Topic5\", \"Topic5\", \"Topic5\", \"Topic5\", \"Topic5\", \"Topic5\", \"Topic5\", \"Topic5\", \"Topic5\", \"Topic5\", \"Topic5\", \"Topic5\", \"Topic5\", \"Topic5\", \"Topic5\", \"Topic5\", \"Topic5\", \"Topic5\", \"Topic5\", \"Topic5\", \"Topic5\", \"Topic5\", \"Topic5\", \"Topic5\", \"Topic5\", \"Topic5\", \"Topic5\", \"Topic5\", \"Topic5\"], \"logprob\": [30.0, 29.0, 28.0, 27.0, 26.0, 25.0, 24.0, 23.0, 22.0, 21.0, 20.0, 19.0, 18.0, 17.0, 16.0, 15.0, 14.0, 13.0, 12.0, 11.0, 10.0, 9.0, 8.0, 7.0, 6.0, 5.0, 4.0, 3.0, 2.0, 1.0, -6.4235, -7.1141, -6.9347, -7.3368, -7.3376, -7.3377, -7.3377, -7.3377, -7.3377, -7.3377, -6.9366, -7.3393, -6.6523, -7.3398, -7.3402, -7.6237, -7.6244, -7.6245, -7.625, -7.625, -7.121, -7.6256, -7.6258, -7.3421, -6.9419, -7.3432, -7.6274, -7.6274, -6.6563, -7.6276, -6.0439, -7.3447, -7.3458, -5.1232, -6.9612, -6.3886, -7.3531, -6.3271, -7.1483, -6.9799, -5.2777, -6.1936, -5.7155, -6.1685, -6.9887, -4.5257, -3.9754, -6.1176, -6.3424, -4.5428, -6.1824, -6.6607, -5.7779, -5.7547, -6.7832, -4.4255, -3.9328, -6.0541, -4.7994, -4.759, -4.6288, -4.896, -5.8527, -5.1888, -5.7707, -5.8277, -5.0184, -4.6379, -5.4923, -5.4761, -5.5737, -5.0181, -5.1206, -5.1792, -5.2944, -4.9849, -4.8596, -4.801, -5.4165, -5.3963, -4.7936, -5.3184, -5.3836, -5.2998, -5.4402, -5.3555, -5.3773, -5.4, -6.7898, -7.1913, -6.9714, -7.4782, -6.974, -6.975, -7.4795, -7.4795, -6.7946, -7.48, -7.1969, -7.4812, -7.4812, -7.4812, -7.4812, -7.4812, -7.4812, -7.4812, -7.4812, -7.4812, -7.4812, -7.4812, -7.4812, -7.1975, -7.4815, -7.4816, -7.4817, -7.4817, -7.4821, -7.4829, -6.9891, -7.2067, -6.8209, -7.2072, -7.208, -5.6975, -6.2306, -5.7783, -4.1915, -5.9936, -6.3292, -6.7338, -6.6366, -7.235, -5.0271, -6.6417, -6.5464, -5.9141, -3.7818, -6.5534, -4.7397, -6.2035, -4.9896, -4.5693, -5.6992, -5.7938, -4.4741, -5.3041, -4.781, -4.5759, -5.0382, -5.7537, -5.8954, -5.1282, -5.1261, -4.7546, -5.5353, -4.8154, -4.906, -5.5956, -5.1837, -4.8477, -5.3232, -5.1887, -5.6242, -5.1047, -5.2185, -5.1116, -5.0955, -4.8904, -5.1726, -5.4971, -5.3587, -5.3533, -5.4125, -5.4526, -5.3468, -5.401, -5.8975, -6.5133, -6.6691, -7.0707, -6.8506, -7.0715, -7.0715, -7.0721, -7.0724, -6.5186, -7.3571, -7.3573, -7.0742, -7.0745, -7.3582, -7.3582, -7.3583, -7.0746, -7.3584, -7.3584, -7.3587, -7.3591, -6.5208, -7.0756, -7.3594, -7.0757, -7.3596, -6.8554, -6.3898, -7.3639, -7.0806, -7.0805, -6.8676, -5.4127, -6.8726, -6.3165, -6.8833, -5.5977, -5.6693, -6.8929, -6.2669, -6.4069, -5.8216, -5.9828, -5.8959, -5.2481, -5.3008, -4.6723, -4.8385, -4.7727, -5.1903, -5.4272, -4.4307, -6.1952, -4.4638, -4.67, -4.712, -4.9691, -4.283, -4.4655, -4.733, -4.8027, -5.1745, -4.789, -4.4193, -5.6963, -4.7856, -5.0946, -5.5788, -5.1654, -5.5297, -4.8899, -5.2932, -5.4496, -5.1449, -5.038, -5.3877, -5.4723, -5.0984, -5.0985, -5.0986, -4.8762, -5.0988, -5.15, -4.8762, -4.8762, -4.8762, -4.8762, -4.8762, -4.8763, -4.8763, -4.8763, -4.8763, -4.8763, -4.8764, -5.7913, -6.2989, -6.0182, -6.9915, -6.4873, -6.9921, -6.7081, -6.9926, -6.9937, -6.9926, -6.9931, -6.9962, -7.0028, -6.7242, -6.7256, -4.8588, -4.9397, -4.9342, -6.1856, -6.2985, -6.0168, -5.5542, -5.1248, -5.3321, -4.6379, -5.2623, -4.098, -4.4257, -5.0483, -4.6976, -4.7275, -4.6203, -4.817, -5.025, -4.9242, -4.9954, -5.8985, -5.8985, -5.8985, -5.8985, -5.7814, -6.5886, -6.3693, -6.3693, -6.3693, -6.3694, -6.3694, -6.3694, -6.3694, -6.0359, -6.8746, -6.8747, -6.8747, -6.8747, -6.8747, -6.8748, -6.8749, -6.8753, -6.8749, -6.8749, -6.875, -6.875, -6.875, -6.875, -6.8751, -6.8752, -6.3728, -6.5963, -5.9272, -6.3822, -6.6002, -5.5905, -6.6205, -5.9139, -5.9141, -5.9142, -5.9143, -5.9143, -5.9143, -5.9143, -5.9144, -6.0286, -3.8308, -6.1945, -5.5379, -5.72, -5.166, -5.4747, -4.5135, -4.7163, -4.5373, -5.4568, -6.0761, -5.9015, -5.8442, -4.6158, -4.8471, -5.0891, -4.8036, -4.5633, -5.0097, -4.8065, -5.3761, -5.0577, -5.4077, -5.3917, -5.3625, -5.5382, -5.2333, -5.2819, -5.4716, -5.5539, -5.5766, -5.3722, -5.4033, -5.5006, -5.4588, -5.5184, -5.548], \"loglift\": [30.0, 29.0, 28.0, 27.0, 26.0, 25.0, 24.0, 23.0, 22.0, 21.0, 20.0, 19.0, 18.0, 17.0, 16.0, 15.0, 14.0, 13.0, 12.0, 11.0, 10.0, 9.0, 8.0, 7.0, 6.0, 5.0, 4.0, 3.0, 2.0, 1.0, 1.2866, 1.2843, 1.2832, 1.2824, 1.2818, 1.2817, 1.2817, 1.2817, 1.2817, 1.2815, 1.2813, 1.2801, 1.28, 1.2793, 1.2792, 1.2791, 1.2784, 1.2784, 1.2782, 1.2778, 1.2775, 1.2773, 1.277, 1.277, 1.276, 1.276, 1.276, 1.2759, 1.2757, 1.2756, 1.2631, 1.2748, 1.2736, 1.2276, 1.2577, 1.2275, 1.2657, 1.2048, 1.2512, 1.2396, 1.1282, 1.1849, 1.1193, 1.1383, 1.2291, 0.8858, 0.7765, 1.0703, 1.1088, 0.7731, 1.0661, 1.1498, 0.9447, 0.9235, 1.1538, 0.5598, 0.377, 0.9576, 0.5808, 0.5509, 0.499, 0.5788, 0.8694, 0.5875, 0.8088, 0.8275, 0.4543, 0.2699, 0.6553, 0.6241, 0.6749, 0.2967, 0.321, 0.3001, 0.3751, 0.1079, -0.0148, -0.09, 0.4663, 0.4362, -0.2645, 0.3116, 0.2415, -0.2002, 0.2424, -0.3139, -0.2038, -0.0225, 1.3904, 1.3902, 1.3895, 1.3871, 1.3871, 1.3862, 1.386, 1.3859, 1.3858, 1.3854, 1.3854, 1.3844, 1.3843, 1.3843, 1.3843, 1.3843, 1.3843, 1.3843, 1.3843, 1.3843, 1.3843, 1.3843, 1.3843, 1.3842, 1.384, 1.384, 1.384, 1.3839, 1.3835, 1.3827, 1.3726, 1.3755, 1.3617, 1.3751, 1.375, 1.2883, 1.2676, 1.215, 1.009, 1.2189, 1.2549, 1.299, 1.2611, 1.35, 0.9959, 1.2577, 1.2402, 1.1319, 0.7473, 1.228, 0.9041, 1.1478, 0.8942, 0.736, 1.005, 1.0255, 0.6255, 0.844, 0.6859, 0.5976, 0.6877, 0.9413, 0.967, 0.6506, 0.6281, 0.4662, 0.7048, 0.3124, 0.3606, 0.7192, 0.4794, 0.1939, 0.5122, 0.3766, 0.7156, 0.2052, 0.1591, -0.014, -0.1877, -0.5807, -0.179, 0.4815, -0.0131, -0.0385, 0.0602, 0.1725, -0.6358, -0.4157, 1.5385, 1.5384, 1.5358, 1.5355, 1.535, 1.5347, 1.5347, 1.5341, 1.5339, 1.5333, 1.5328, 1.5325, 1.5319, 1.5319, 1.5317, 1.5317, 1.5316, 1.5315, 1.5315, 1.5315, 1.5312, 1.531, 1.5307, 1.5307, 1.5305, 1.5304, 1.5303, 1.5299, 1.5293, 1.5262, 1.5262, 1.5259, 1.5188, 1.4568, 1.5134, 1.4845, 1.5013, 1.4064, 1.3908, 1.4931, 1.4279, 1.3969, 1.2982, 1.3062, 1.2758, 1.1231, 1.1072, 0.9459, 0.9789, 0.8826, 0.9934, 1.0354, 0.6669, 1.2456, 0.629, 0.6756, 0.6572, 0.7463, 0.428, 0.3793, 0.4255, 0.464, 0.5797, 0.2526, -0.1095, 0.8874, 0.1222, 0.2856, 0.7568, 0.314, 0.698, -0.138, 0.3894, 0.5679, 0.0286, -0.5089, -0.0101, 0.093, 1.9601, 1.96, 1.9599, 1.9597, 1.9597, 1.9596, 1.9596, 1.9596, 1.9596, 1.9596, 1.9596, 1.9596, 1.9595, 1.9595, 1.9595, 1.9595, 1.9595, 1.9578, 1.9578, 1.9526, 1.9499, 1.9497, 1.9496, 1.9496, 1.9491, 1.9487, 1.9486, 1.9481, 1.9451, 1.9383, 1.9325, 1.9307, 1.7581, 1.7435, 1.6791, 1.7835, 1.7996, 1.7243, 1.532, 1.163, 1.2374, 0.8289, 1.0784, 0.2118, 0.419, 0.7306, 0.296, 0.3141, 0.0907, 0.2807, 0.5839, 0.2966, 0.1325, 2.0682, 2.0682, 2.0682, 2.0682, 2.0682, 2.0649, 2.0636, 2.0636, 2.0636, 2.0635, 2.0635, 2.0635, 2.0635, 2.0631, 2.0624, 2.0624, 2.0624, 2.0623, 2.0623, 2.0623, 2.0622, 2.0622, 2.0621, 2.0621, 2.0621, 2.0621, 2.0621, 2.062, 2.062, 2.0618, 2.0598, 2.0571, 2.0396, 2.0506, 2.0533, 1.9729, 2.032, 1.9314, 1.9312, 1.9311, 1.931, 1.931, 1.931, 1.9309, 1.9309, 1.9339, 1.1628, 1.894, 1.5481, 1.611, 1.2556, 1.344, 0.4718, 0.5045, 0.3075, 1.1666, 1.7619, 1.5714, 1.4883, 0.0952, 0.3114, 0.5198, 0.1042, -0.2535, 0.2956, -0.2774, 0.7788, 0.0419, 0.748, 0.587, 0.4612, 0.9253, 0.0815, 0.0873, 0.6518, 0.9086, 0.9059, 0.0054, 0.0715, 0.3822, -0.0172, -0.0457, 0.2061]}, \"token.table\": {\"Topic\": [2, 1, 4, 5, 5, 1, 1, 2, 1, 2, 3, 4, 5, 2, 3, 5, 2, 1, 3, 2, 1, 1, 2, 3, 4, 5, 1, 2, 1, 2, 3, 4, 5, 1, 2, 3, 4, 5, 5, 5, 1, 1, 2, 1, 2, 4, 1, 2, 3, 4, 5, 1, 5, 1, 5, 3, 4, 4, 2, 3, 5, 1, 2, 3, 3, 1, 2, 3, 1, 3, 1, 2, 3, 4, 5, 4, 1, 1, 4, 2, 1, 2, 3, 4, 5, 1, 2, 3, 4, 5, 4, 2, 1, 5, 4, 3, 1, 2, 4, 5, 1, 2, 3, 4, 5, 1, 2, 3, 4, 5, 3, 1, 1, 2, 3, 5, 5, 1, 2, 4, 5, 2, 3, 5, 3, 1, 2, 3, 2, 1, 1, 2, 3, 4, 5, 2, 1, 2, 4, 5, 3, 1, 1, 5, 1, 3, 4, 5, 4, 1, 2, 3, 4, 5, 4, 5, 1, 2, 3, 4, 5, 1, 2, 3, 4, 5, 1, 2, 1, 2, 4, 3, 1, 4, 4, 1, 2, 3, 5, 4, 5, 1, 2, 3, 4, 5, 2, 3, 1, 2, 3, 5, 1, 5, 4, 2, 2, 3, 1, 3, 5, 5, 1, 1, 2, 3, 4, 5, 4, 5, 3, 1, 2, 3, 4, 5, 2, 3, 4, 1, 2, 3, 4, 5, 5, 1, 2, 3, 4, 5, 1, 2, 3, 4, 5, 3, 4, 5, 2, 1, 1, 2, 4, 5, 1, 2, 4, 1, 3, 3, 5, 1, 2, 3, 4, 5, 1, 1, 1, 3, 4, 1, 2, 3, 4, 5, 2, 1, 4, 2, 3, 1, 2, 3, 4, 5, 5, 4, 1, 3, 4, 2, 4, 1, 2, 3, 4, 5, 4, 5, 1, 4, 5, 1, 2, 3, 4, 2, 4, 4, 2, 1, 5, 1, 2, 3, 4, 5, 5, 1, 2, 5, 2, 3, 4, 5, 4, 1, 3, 1, 1, 2, 3, 4, 5, 1, 1, 2, 3, 4, 5, 1, 1, 3, 5, 1, 5, 2, 1, 3, 1, 2, 3, 4, 1, 2, 3, 5, 3, 4, 1, 2, 3, 4, 5, 1, 2, 1, 3, 4, 1, 3, 5, 1, 2, 3, 4, 5, 1, 2, 3, 4, 5, 2, 2, 3, 1, 1, 2, 4, 5, 2, 3, 1, 2, 3, 4, 5, 3, 3, 2, 3, 1, 2, 3, 4, 5, 1, 4, 1, 2, 3, 4, 5, 2, 1, 2, 3, 4, 5, 1, 2, 3, 4, 5, 3, 4, 1, 5, 1, 2, 3, 4, 5, 2, 2, 2, 4, 4, 5, 1, 1, 2, 3, 4, 4, 4, 2, 3, 4, 5, 4, 5, 1, 2, 4, 5, 3, 1, 2, 3, 4, 5, 1, 1, 2, 3, 4, 5, 3, 2, 5, 4, 1, 5, 1, 2, 3, 4, 5, 3, 1, 2, 3, 4, 5, 5, 1, 3, 4, 5, 2, 4, 2, 1, 2, 3, 4, 5, 1, 2, 3, 4, 5, 1, 2, 3, 4, 5, 5, 4, 5, 1, 1, 3, 5, 1, 4, 4, 2, 5, 1, 5, 1, 2, 3, 4, 5, 1, 2, 1, 2, 3, 4, 5, 1, 5, 5, 1, 1, 2, 3, 4, 5, 1, 2, 3, 4, 5, 1, 1, 2, 3, 4, 5, 4, 4, 1, 4, 5, 1, 3, 1, 2, 3, 4, 5, 1, 2, 3, 4, 5, 1, 2, 3, 1, 2, 3, 4, 5, 1, 2, 3, 4, 5, 5, 1, 2, 3, 4, 5, 1, 2, 3, 4, 5, 1, 4, 5, 1, 4, 1, 2, 3, 4, 5, 1, 3, 4, 3, 3, 4, 1, 2, 3, 4, 1, 2, 3, 4, 5, 2, 1, 2, 3, 4, 5, 1, 1, 3, 1, 2, 3, 4, 1, 3, 4, 5, 2, 1, 2, 3, 5, 1, 2, 3, 4, 5, 5, 5, 1, 2, 3, 4, 5, 1, 2, 3, 4, 5, 1, 2, 4, 1, 5, 3, 2, 1, 2, 3, 4, 5, 2, 2, 1, 2, 3, 4, 5, 1, 2, 3, 4, 5, 5, 1, 5, 5, 5, 1, 4, 5, 1, 2, 3, 4, 5, 1, 4, 1, 2, 3, 4, 5, 3, 3, 1, 2, 3, 4, 5, 2, 3, 5, 1, 2, 3, 4, 5, 1, 2, 1, 1, 2, 3, 4, 5, 1, 2, 3, 5, 2, 5, 2, 3, 3, 1, 2, 3, 4, 5, 1, 2, 3, 4, 5, 5, 2, 3, 1, 2, 3, 4, 5, 3], \"Freq\": [0.9569559116833068, 0.1074999703144141, 0.7883331156390367, 0.07166664687627607, 1.0238967671787813, 0.9958662983936689, 0.9252153849610092, 0.051400854720056066, 0.3830748958229139, 0.18636076013006622, 0.19671413569284768, 0.11388713119059603, 0.12424050675337747, 0.844963467750359, 0.12070906682147986, 1.0239010923019434, 0.9530726895357672, 0.10447783007730045, 0.8358226406184036, 0.9533325999464841, 0.9895102183792424, 0.16930451615309855, 0.24455096777669788, 0.42326129038274635, 0.10346387098244911, 0.06584064517064943, 0.9934539798111823, 0.9531462073840099, 0.25308807037517556, 0.5061761407503511, 0.11504003198871615, 0.02300800639774323, 0.11504003198871615, 0.041059611084843024, 0.6980133884423314, 0.041059611084843024, 0.12317883325452907, 0.08211922216968605, 1.0239165780078952, 1.0270662293017954, 0.9994379840870635, 0.9968906653863667, 0.9532841553144955, 0.06989692186192986, 0.7688661404812285, 0.13979384372385972, 0.3181336459602404, 0.11361915927151443, 0.43175280523175485, 0.09089532741721154, 0.04544766370860577, 0.11454935689677294, 0.9163948551741835, 0.995934615387117, 1.033458238016929, 0.9839865741807454, 1.0286894719360453, 1.0294152856417378, 0.9531429922904059, 0.2274326438094137, 0.682297931428241, 0.0484995582611006, 0.8729920486998108, 0.0484995582611006, 0.9889417030276741, 0.8339916281831319, 0.04169958140915659, 0.08339916281831318, 0.9930093340904058, 0.9835516239769326, 0.37498368831688633, 0.2624885818218204, 0.1749923878812136, 0.1749923878812136, 0.012499456277229544, 1.028253112183982, 0.9894917862628838, 0.997593551243398, 0.9909367181320533, 0.9581598162896858, 0.35818617063609504, 0.2064123695191056, 0.24283808178718308, 0.05463856840211619, 0.13963189702763026, 0.19954520802910783, 0.4144400474450701, 0.13814668248169004, 0.1841955766422534, 0.07674815693427224, 1.0018524201434071, 0.9567706438926973, 0.11454900401023559, 0.9163920320818847, 1.031497855996325, 0.9767667805829457, 0.3222938947058352, 0.4958367610859003, 0.12395919027147508, 0.024791838054295013, 0.4923401646634535, 0.23546703527382556, 0.010703047057901162, 0.12843656469481396, 0.1391396117527151, 0.35181942132258076, 0.0639671675131965, 0.03198358375659825, 0.4797537563489737, 0.0639671675131965, 0.976763280678898, 0.9935640584942923, 0.3267447519089919, 0.1769867406173706, 0.44927403387486387, 0.040843093988623985, 1.0238975546484734, 0.0685928930262467, 0.0685928930262467, 0.2743715721049868, 0.5487431442099736, 0.8516993956785717, 0.060835671119897974, 0.060835671119897974, 0.9766895984025309, 0.9936726477756709, 0.859637285066635, 0.10745466063332937, 0.9531466649887524, 0.9986212942962986, 0.40061244211005753, 0.13687591772093632, 0.19029091000227732, 0.17359872491435827, 0.09681467350993057, 0.9532141955668831, 0.6272060808851753, 0.06968956454279725, 0.034844782271398624, 0.24391347589979037, 0.9767063875913883, 0.9895089990331275, 0.11454795376285368, 0.9163836301028294, 0.20354019190529135, 0.33075281184609845, 0.4070803838105827, 0.02544252398816142, 1.0280416846458633, 0.14552553099472487, 0.20505870276529414, 0.05953317177056927, 0.1852143121751044, 0.40350260866719173, 0.9909371601207778, 1.0243567169393892, 0.43792845637994965, 0.26702954657314004, 0.053405909314628006, 0.12817418235510722, 0.1174930004921816, 0.11604809859674778, 0.4786984067115846, 0.04351803697378042, 0.29012024649186946, 0.07253006162296737, 0.8850742822982467, 0.11063428528728084, 0.31372556273850705, 0.24132735595269772, 0.4585219763101257, 0.9767444720623955, 0.2064349581656334, 0.8257398326625336, 1.0310706873373328, 0.6775134909730322, 0.1426344191522173, 0.1426344191522173, 0.03565860478805433, 1.0282855900390846, 1.0307595610488745, 0.2972084912506037, 0.09906949708353457, 0.3821252030364905, 0.07076392648823898, 0.15568063827412576, 0.9672381949695579, 0.9808812240155178, 0.2518318616374389, 0.5666216886842376, 0.06295796540935973, 0.1049299423489329, 0.1145479172488269, 0.9163833379906152, 1.001855818475814, 0.9532850117394019, 0.09878152486233531, 0.8890337237610179, 0.9937834992761904, 0.9805748887886637, 1.0238997376081282, 1.0307664707173105, 0.9976042235057325, 0.21201368445806237, 0.5196413834756431, 0.12887106310195948, 0.04572844174585659, 0.09561401455951833, 0.08641430582887216, 0.8641430582887216, 0.9847002076165786, 0.35571725255326875, 0.15809655669034167, 0.31619311338068334, 0.10539770446022778, 0.06587356528764236, 0.8307228363537661, 0.04886604919728036, 0.1465981475918411, 0.5973502656218382, 0.11427570298852557, 0.18699660489031458, 0.08830395230931522, 0.015583050407526215, 1.0238981507150526, 0.056948804101081135, 0.675250105769962, 0.11389760820216227, 0.11389760820216227, 0.04067771721505795, 0.22171868077628118, 0.45135588586600095, 0.22171868077628118, 0.09502229176126337, 0.015837048626877227, 0.9767590381066139, 1.0283682542509651, 1.0239202016090798, 0.9574516544290302, 0.9934523698781302, 0.22812078044181547, 0.6083220811781745, 0.1267337669121197, 0.03802013007363591, 0.7082225782780801, 0.11182461762285474, 0.1863743627047579, 0.22933205209171664, 0.7644401736390555, 0.985722923508653, 1.0346998993396446, 0.5934608161643585, 0.16434299524551466, 0.08217149762275733, 0.09130166402528592, 0.07304133122022874, 0.989991999117689, 0.9936384235096307, 0.6705998480106281, 0.1862777355585078, 0.11176664133510468, 0.10722751974832856, 0.16084127962249284, 0.05361375987416428, 0.05361375987416428, 0.5897513586158071, 0.9532139219590481, 0.8788613729921916, 0.12555162471317022, 0.9532821813757311, 0.9808457514510972, 0.27191649087747544, 0.29133909736872365, 0.2136486714037307, 0.10682433570186535, 0.12624694219311358, 1.0281824302611224, 1.0018483319839282, 0.8496695162424158, 0.07724268329476508, 0.07724268329476508, 0.9532973193240535, 1.001850319688459, 0.26614248978253724, 0.22519749135445458, 0.24566999056849592, 0.04094499842808265, 0.24566999056849592, 1.0404248510013672, 1.0239195415321585, 0.31572252360867886, 0.07893063090216972, 0.6314450472173577, 0.07432759540527101, 0.4884384840917809, 0.11680050706542587, 0.31854683745116147, 0.8641908584589129, 0.10802385730736411, 1.001846003772047, 0.9606983080589327, 0.11454933430772068, 0.9163946744617655, 0.21127968358870575, 0.10563984179435287, 0.23240765194757632, 0.1690237468709646, 0.2746635886653175, 1.0239209083137475, 0.17146670683368195, 0.6430001506263073, 0.17146670683368195, 0.6587629508382257, 0.03659794171323476, 0.03659794171323476, 0.21958765027940855, 1.0018455319111712, 0.9936703605884661, 0.9828718174287566, 0.9895963976611701, 0.14113855131978015, 0.39020658306056866, 0.0664181417975436, 0.19095215766793786, 0.20755669311732375, 0.9933657989619541, 0.21729445691949856, 0.3563629093479776, 0.33897935279441777, 0.026075334830339827, 0.0608424479374596, 1.0030413138086214, 0.05545491902118938, 0.7763688662966514, 0.16636475706356815, 0.9936707205208378, 1.028222124337293, 0.9533176620020802, 0.9992738906230231, 0.9862685567405579, 0.15414147890931246, 0.24222232400034813, 0.4183840141824195, 0.18350176060632434, 0.42857294786564143, 0.2908173574802567, 0.18367412051384635, 0.09183706025692318, 0.976945696460609, 0.9909401123293684, 0.5201069617330163, 0.22004525304089148, 0.1200246834768499, 0.10002056956404158, 0.04000822782561664, 0.08822280310712208, 0.8822280310712208, 0.0816352039308043, 0.6530816314464344, 0.2721173464360143, 0.10989712564908513, 0.879177005192681, 1.0307752602724234, 0.34828895228568907, 0.2985333876734478, 0.2487778230612065, 0.07463334691836195, 0.03731667345918097, 0.5243958689464191, 0.08390333903142706, 0.18878251282071087, 0.14683084330499735, 0.04195166951571353, 0.9630107976221982, 0.9593545406739318, 0.9767310578169061, 0.989832225284317, 0.10302017886865665, 0.7726513415149249, 0.051510089434328325, 0.051510089434328325, 0.960925367192812, 0.9805515651256218, 0.6138028816489554, 0.19383248894177538, 0.06461082964725846, 0.03230541482362923, 0.09691624447088769, 0.9769288259132693, 0.983578610800154, 0.1970192172102979, 0.7880768688411915, 0.162205463945505, 0.032441092789101, 0.519057484625616, 0.064882185578202, 0.194646556734606, 0.9210279691603936, 0.08372981537821761, 0.48101812388884024, 0.29950185072324015, 0.08168232292452005, 0.10890976389936005, 0.027227440974840013, 0.959888261372425, 0.3205099645906106, 0.06410199291812212, 0.5128159433449769, 0.05128159433449769, 0.05128159433449769, 0.841789630295121, 0.05430900840613684, 0.02715450420306842, 0.02715450420306842, 0.02715450420306842, 0.9806696274775796, 1.0324183511807115, 0.11454798649278876, 0.9163838919423101, 0.48684598101733684, 0.09736919620346737, 0.28237066899005536, 0.0778953569627739, 0.048684598101733687, 0.9531465327953846, 0.9531462157280048, 0.9574342575344754, 1.0370757661165744, 0.7778866932436495, 0.1296477822072749, 1.0006371461269596, 0.12092191196921998, 0.8464533837845398, 0.9806549443872234, 1.001843060367594, 1.0281334396730082, 0.9880590213866254, 0.6665747138480229, 0.2221915712826743, 0.07406385709422476, 0.055547892820668576, 0.9909448766265307, 1.0238933211778765, 0.08206960764558076, 0.16413921529116152, 0.28724362675953263, 0.4924176458734845, 0.9807292532127496, 0.1813075000513732, 0.6164455001746688, 0.14504600004109855, 0.03626150001027464, 1.0239120282140877, 0.9894808124904794, 0.21745854506089815, 0.06523756351826944, 0.5653922171583352, 0.08698341802435926, 0.06523756351826944, 0.9807845136102142, 0.14607879859218342, 0.8764727915531005, 1.0018456369435282, 0.11454849886982757, 0.9163879909586206, 0.3655505656705694, 0.1827752828352847, 0.29029015509133455, 0.0645089233536299, 0.08601189780483987, 0.9807052212719524, 0.053144564413446595, 0.40744166050309055, 0.017714854804482198, 0.3011525316761974, 0.23029311245826858, 1.0305216858673674, 0.06683397022427767, 0.10025095533641651, 0.7351736724670543, 0.10025095533641651, 0.95314631119144, 1.0389660191355787, 0.9531458454069939, 0.12383184929612044, 0.49532739718448177, 0.20638641549353406, 0.05503637746494242, 0.12383184929612044, 0.23113698336953367, 0.15409132224635577, 0.41412042853708114, 0.06741495348278065, 0.1348299069655613, 0.26790920383880296, 0.03420117495814506, 0.3135107704496631, 0.2109072455752279, 0.1710058747907253, 1.0347087589763873, 1.0018508435853088, 1.0347046427010282, 0.9898340263673366, 0.9936562696780168, 0.9821583871915985, 1.0239026522405357, 0.9337246894966137, 0.07182497611512413, 1.035055845281501, 0.9573764170696664, 1.0353755187653015, 0.8198532213227586, 0.18919689722832891, 0.4031229842436784, 0.22106744297233977, 0.2080634757386727, 0.13003967233667044, 0.052015868934668176, 0.9997096197929303, 0.9532988946662334, 0.04517440572665596, 0.5149882252838779, 0.17166274176129265, 0.1084185737439743, 0.17166274176129265, 0.9934137201050098, 1.0307586219006188, 1.023913401521133, 0.997574792105668, 0.22799035273326188, 0.4633352329740483, 0.1323814951354424, 0.05148169255267204, 0.1323814951354424, 0.2730894731699806, 0.07585818699166129, 0.2124029235766516, 0.24274619837331612, 0.19723128617831934, 0.9976500899677857, 0.4539091018556554, 0.3404318263917416, 0.04539091018556554, 0.1588681856494794, 0.0075651516975942575, 1.0018437478072475, 1.0018479826071958, 0.10060212112448572, 0.8048169689958857, 0.06706808074965714, 0.9936691222637628, 0.9767298232164064, 0.0879577811343285, 0.49842742642786153, 0.058638520756219004, 0.029319260378109502, 0.3225118641592045, 0.3538291743126962, 0.46705451009275906, 0.0849190018350471, 0.04245950091752355, 0.07076583486253925, 0.696769337511163, 0.19907695357461802, 0.09953847678730901, 0.08055123898112314, 0.5960791684603112, 0.2255434691471448, 0.01611024779622463, 0.08055123898112314, 0.2700341001759291, 0.10126278756597341, 0.20252557513194683, 0.03375426252199114, 0.40505115026389366, 1.0307621530399846, 0.30678257664288416, 0.13878259419559047, 0.40173908846091977, 0.10226085888096138, 0.05113042944048069, 0.045228214792638784, 0.2261410739631939, 0.572890720706758, 0.07538035798773131, 0.07538035798773131, 0.7716349001758188, 0.11871306156551058, 0.05935653078275529, 0.14750747897134203, 0.8850448738280522, 0.28425137303258646, 0.4005360256368264, 0.14212568651629323, 0.038761550868079975, 0.14212568651629323, 0.04317592561832784, 0.9066944379848847, 0.04317592561832784, 0.9767598732758648, 0.9805482594086771, 1.0286812792437592, 0.368303617437647, 0.20256698959070585, 0.368303617437647, 0.0368303617437647, 0.08629552229455267, 0.258886566883658, 0.2301213927854738, 0.08629552229455267, 0.31641691508002645, 0.9591495405979175, 0.31717388692336446, 0.08457970317956384, 0.19030433215401865, 0.14801448056423674, 0.2748840353335825, 0.9894716889774335, 0.23363641052609616, 0.7593183342098124, 0.2964833529862725, 0.03706041912328406, 0.5435528138081662, 0.11118125736985218, 0.8690644503608369, 0.06685111156621823, 0.06685111156621823, 1.0238872457618187, 0.9600167015141197, 0.050628000441587204, 0.40502400353269763, 0.45565200397428485, 0.07594200066238081, 0.386230822844599, 0.05517583183494271, 0.027587915917471353, 0.08276374775241406, 0.44140665467954165, 1.0239099348659941, 1.030648701423214, 0.21090487040504302, 0.363225054586463, 0.23433874489449225, 0.10545243520252151, 0.0937354979577969, 0.4788867879753023, 0.16400232464907613, 0.045920650901741314, 0.11152158076137177, 0.2033628825648544, 0.05362196166046993, 0.26810980830234965, 0.6434635399256392, 0.12880020672371817, 0.9016014470660272, 0.9866518787528162, 0.9531457263022816, 0.4919356324129797, 0.1880930359226099, 0.2170304260645499, 0.028937390141939984, 0.07234347535484996, 0.9531455683415085, 0.9531714060957397, 0.43456816825291994, 0.04828535202810222, 0.17704629076970813, 0.1609511734270074, 0.17704629076970813, 0.9899871537561806, 0.5083807815424439, 0.25419039077122196, 0.1016761563084888, 0.12709519538561098, 1.0307587236080924, 0.11454774620913051, 0.9163819696730441, 1.028082729720018, 0.9054739867505169, 0.273975614764426, 0.0684939036911065, 0.6164451332199585, 0.3739403300459023, 0.23713289222423073, 0.15504842953122777, 0.10032545440255915, 0.13680743782167157, 0.9936722610429486, 1.0018479481689935, 0.24932777732280975, 0.12965044420786107, 0.3291126660661089, 0.15458322194014204, 0.13962355530077347, 0.9811858246580832, 0.9858474111319145, 0.6630722127117432, 0.10046548677450655, 0.1105120354519572, 0.050232743387253274, 0.08037238941960524, 0.09854056658140548, 0.8868650992326493, 1.034701812969796, 0.24476967089453947, 0.12238483544726973, 0.15910028608145066, 0.25700815443926645, 0.20805422026035855, 0.9936699706710452, 0.9531464293966375, 0.9108603017280377, 0.17941741465919483, 0.17941741465919483, 0.3276318006820079, 0.14821438602281312, 0.17161665750009938, 0.02874010278552488, 0.05748020557104976, 0.6035421584960224, 0.3161411306407737, 0.890555829013811, 0.08095962081943736, 0.9531466586897643, 0.9831288495043753, 0.9806557710449014, 0.5336659671521968, 0.3016372857816765, 0.046405736274104076, 0.06960860441115611, 0.046405736274104076, 0.20125954254609055, 0.29841932170627217, 0.2775993690290904, 0.19431955832036327, 0.0346999211286363, 1.0307737637341903, 0.9594598794112439, 0.9767195361860159, 0.15739054654166945, 0.07869527327083473, 0.6557939439236228, 0.05246351551388982, 0.05246351551388982, 0.9854986732075255], \"Term\": [\"able_print\", \"access_download_log_http\", \"access_download_log_http\", \"access_download_log_http\", \"access_download_portal_https\", \"aclob\", \"action\", \"action\", \"add\", \"add\", \"add\", \"add\", \"add\", \"add_new\", \"add_new\", \"additional_resource_include_link\", \"advance_matteos\", \"allocation\", \"allocation\", \"alone\", \"among\", \"anyone\", \"anyone\", \"anyone\", \"anyone\", \"anyone\", \"anyone_advise\", \"anyone_else_today\", \"appear\", \"appear\", \"appear\", \"appear\", \"appear\", \"application\", \"application\", \"application\", \"application\", \"application\", \"apply_update\", \"ar\", \"area\", \"atextra\", \"attach_eclipse\", \"attachment\", \"attachment\", \"attachment\", \"available\", \"available\", \"available\", \"available\", \"available\", \"available_downloads_patch_update\", \"available_downloads_patch_update\", \"average_cost\", \"badge\", \"bank_reconciliation\", \"based\", \"batch_job\", \"behaviour\", \"best\", \"best\", \"browser\", \"browser\", \"browser\", \"budget\", \"button\", \"button\", \"button\", \"buy\", \"ca_seem\", \"call\", \"call\", \"call\", \"call\", \"call\", \"call_numero\", \"care\", \"carrier\", \"case_submission_knowledgebase_university\", \"cell\", \"change\", \"change\", \"change\", \"change\", \"change\", \"check\", \"check\", \"check\", \"check\", \"check\", \"check_vendor_product_ensure\", \"chrome\", \"city_customer_additional_resource\", \"city_customer_additional_resource\", \"clalev\", \"clean\", \"click\", \"click\", \"click\", \"click\", \"code\", \"code\", \"code\", \"code\", \"code\", \"column\", \"column\", \"column\", \"column\", \"column\", \"combine\", \"commit\", \"company\", \"company\", \"company\", \"company\", \"complete_list_available_downloads\", \"confirm\", \"confirm\", \"confirm\", \"confirm\", \"connection\", \"connection\", \"connection\", \"consumption\", \"control_table\", \"core\", \"core\", \"could_resolve\", \"course\", \"create\", \"create\", \"create\", \"create\", \"create\", \"create_customized\", \"create_new\", \"create_new\", \"create_new\", \"create_new\", \"create_production_track\", \"create_simple\", \"credential_upper_right_corner\", \"credential_upper_right_corner\", \"currently\", \"currently\", \"currently\", \"currently\", \"currently_available\", \"customer\", \"customer\", \"customer\", \"customer\", \"customer\", \"customer_additional_resource_include\", \"customers\", \"data\", \"data\", \"data\", \"data\", \"data\", \"date\", \"date\", \"date\", \"date\", \"date\", \"deliver\", \"deliver\", \"delivery\", \"delivery\", \"delivery\", \"department\", \"depreciation\", \"depreciation\", \"depreciation_method\", \"description\", \"description\", \"description\", \"description\", \"designate\", \"detail_access_download\", \"different\", \"different\", \"different\", \"different\", \"different\", \"directory\", \"discussion\", \"display\", \"display\", \"display\", \"display\", \"download_portal_access_download\", \"download_portal_access_download\", \"downloads_patch_update_download\", \"drag_drop\", \"either\", \"either\", \"endifreturn\", \"enquiry\", \"ensure_component_compatible_highly\", \"ensure_component_highly_recommended\", \"entry_transaction\", \"error\", \"error\", \"error\", \"error\", \"error\", \"et\", \"et\", \"ever\", \"example\", \"example\", \"example\", \"example\", \"example\", \"excel\", \"excel\", \"excel\", \"field\", \"field\", \"field\", \"field\", \"field\", \"field_click_search_important\", \"file\", \"file\", \"file\", \"file\", \"file\", \"find\", \"find\", \"find\", \"find\", \"find\", \"find_helpful\", \"find_screenshot\", \"fix_available\", \"flash\", \"fld\", \"folder\", \"folder\", \"folder\", \"folder\", \"formula\", \"formula\", \"formula\", \"full\", \"full\", \"full_pallet\", \"fully_compatible_release_integrate\", \"function\", \"function\", \"function\", \"function\", \"function\", \"functional_profile\", \"gessoh\", \"give\", \"give\", \"give\", \"good\", \"good\", \"good\", \"good\", \"good\", \"google\", \"gosub\", \"gosub\", \"green\", \"hear\", \"help\", \"help\", \"help\", \"help\", \"help\", \"help_visit_city_customer\", \"highly_recommended_work_certified\", \"hold\", \"hold\", \"hold\", \"hop_someone\", \"https_enter_log_credential\", \"idea\", \"idea\", \"idea\", \"idea\", \"idea\", \"im\", \"immediate_implementation\", \"implement\", \"implement\", \"implement\", \"import\", \"import\", \"import\", \"import\", \"import_data\", \"import_data\", \"important_product_integrate_isvs\", \"importsil\", \"include_link_support_option\", \"include_link_support_option\", \"information\", \"information\", \"information\", \"information\", \"information\", \"information_downloading\", \"instal\", \"instal\", \"instal\", \"installation\", \"installation\", \"installation\", \"installation\", \"integrate_product_check_business\", \"intelligence_complete_list\", \"intersite\", \"inventory_item\", \"invoice\", \"invoice\", \"invoice\", \"invoice\", \"invoice\", \"invoices\", \"issue\", \"issue\", \"issue\", \"issue\", \"issue\", \"itmmaster\", \"kb\", \"kb\", \"kb\", \"kb_continually\", \"knowledgebase_article\", \"last_step\", \"length\", \"limit\", \"line\", \"line\", \"line\", \"line\", \"link\", \"link\", \"link\", \"link\", \"link_http\", \"link_support_option_online\", \"list\", \"list\", \"list\", \"list\", \"list\", \"local\", \"local\", \"location\", \"location\", \"location\", \"log_file\", \"log_file\", \"log_http_search_field\", \"look\", \"look\", \"look\", \"look\", \"look\", \"lot\", \"lot\", \"lot\", \"lot\", \"lot\", \"martin\", \"maximum\", \"mean_lot\", \"meaning\", \"menu\", \"menu\", \"menu\", \"menu\", \"microsoft\", \"misc_issue\", \"modify\", \"modify\", \"modify\", \"modify\", \"modify\", \"mongo\", \"movement\", \"much\", \"much\", \"multiple\", \"multiple\", \"multiple\", \"multiple\", \"multiple\", \"net\", \"net\", \"new\", \"new\", \"new\", \"new\", \"new\", \"none\", \"number\", \"number\", \"number\", \"number\", \"number\", \"object\", \"object\", \"object\", \"object\", \"object\", \"occasionally\", \"often\", \"online_case_submission_knowledgebase\", \"online_case_submission_knowledgebase\", \"order\", \"order\", \"order\", \"order\", \"order\", \"order_level\", \"others_handle\", \"overlook\", \"pack\", \"packaging\", \"packaging\", \"param\", \"parameter_set\", \"parameter_set\", \"partial_pallet\", \"partner_ensure_component_compatible\", \"partner_install_patch\", \"partner_professional_services_install\", \"patch\", \"patch\", \"patch\", \"patch\", \"patch_help_visit_city\", \"patch_update_download_portal\", \"pay\", \"pay\", \"pay\", \"pay\", \"picking\", \"please_help\", \"please_help\", \"please_help\", \"please_help\", \"please_refer_knowledgebase_article\", \"plus\", \"po\", \"po\", \"po\", \"po\", \"po\", \"po_po\", \"policy\", \"policy\", \"portal_access_download_portal\", \"portal_https_enter_log\", \"portal_https_enter_log\", \"possible\", \"possible\", \"possible\", \"possible\", \"possible\", \"possible_setup\", \"post\", \"post\", \"post\", \"post\", \"post\", \"pour\", \"price\", \"price\", \"price\", \"price\", \"price_break\", \"price_list\", \"pricing_groups\", \"problem\", \"problem\", \"problem\", \"problem\", \"problem\", \"process\", \"process\", \"process\", \"process\", \"process\", \"product\", \"product\", \"product\", \"product\", \"product\", \"product_check_business_partner\", \"product_fully_compatible_release\", \"product_integrate_isvs_check\", \"production_folder\", \"production_scheduler\", \"production_track\", \"professional_services_install_patch\", \"project\", \"project\", \"property\", \"provider\", \"que\", \"quote\", \"quote\", \"record\", \"record\", \"record\", \"record\", \"record\", \"refresh\", \"regularly\", \"report\", \"report\", \"report\", \"report\", \"report\", \"retain\", \"review_hotfix\", \"right_corner_type_search\", \"rollback\", \"run\", \"run\", \"run\", \"run\", \"run\", \"sale_order\", \"sale_order\", \"sale_order\", \"sale_order\", \"sale_order\", \"sales_delivery\", \"screen\", \"screen\", \"screen\", \"screen\", \"screen\", \"search_complete_list_available\", \"search_field_click_search\", \"search_field_type_click\", \"search_field_type_click\", \"search_field_type_click\", \"search_help_visit\", \"seem_allow\", \"sei\", \"sei\", \"sei\", \"sei\", \"sei\", \"select\", \"select\", \"select\", \"select\", \"select\", \"selection\", \"selection\", \"selection\", \"server\", \"server\", \"server\", \"server\", \"server\", \"service\", \"service\", \"service\", \"service\", \"service\", \"services_install_help_visit\", \"set\", \"set\", \"set\", \"set\", \"set\", \"setup\", \"setup\", \"setup\", \"setup\", \"setup\", \"several\", \"several\", \"several\", \"shortcut\", \"shortcut\", \"show\", \"show\", \"show\", \"show\", \"show\", \"signature\", \"signature\", \"signature\", \"signature_circuit\", \"signature_process\", \"sit\", \"site\", \"site\", \"site\", \"site\", \"solution\", \"solution\", \"solution\", \"solution\", \"solution\", \"special\", \"specific\", \"specific\", \"specific\", \"specific\", \"specific\", \"standard_action\", \"statement\", \"statement\", \"stock\", \"stock\", \"stock\", \"stock\", \"stop\", \"stop\", \"stop\", \"submission_knowledgebase_university\", \"subprog\", \"suggestion\", \"suggestion\", \"suggestion\", \"suggestion\", \"supplier\", \"supplier\", \"supplier\", \"supplier\", \"supplier\", \"support_option_online_case\", \"sur\", \"system\", \"system\", \"system\", \"system\", \"system\", \"table\", \"table\", \"table\", \"table\", \"table\", \"template\", \"template\", \"template\", \"test_folder\", \"test_folder\", \"three\", \"tiered_pricing\", \"time\", \"time\", \"time\", \"time\", \"time\", \"total_order\", \"trace\", \"transaction\", \"transaction\", \"transaction\", \"transaction\", \"transaction\", \"troubleshooting\", \"two\", \"two\", \"two\", \"two\", \"type_click_complete_list\", \"type_search_field_click\", \"type_search_field_click\", \"udm\", \"une\", \"university\", \"university\", \"university\", \"update\", \"update\", \"update\", \"update\", \"update\", \"update_current\", \"upper_right_corner_type\", \"user\", \"user\", \"user\", \"user\", \"user\", \"user_assignment\", \"using\", \"value\", \"value\", \"value\", \"value\", \"value\", \"vat\", \"vat\", \"vendor_product_ensure_product\", \"version\", \"version\", \"version\", \"version\", \"version\", \"version_enterprise\", \"versus_individual\", \"volume\", \"way\", \"way\", \"way\", \"way\", \"way\", \"web_service\", \"web_service\", \"web_service\", \"web_service\", \"week\", \"week\", \"weight_suggestion\", \"wip\", \"within_system\", \"without\", \"without\", \"without\", \"without\", \"without\", \"work\", \"work\", \"work\", \"work\", \"work\", \"work_certified_partner_professional\", \"work_correctly\", \"work_order_production_tracking\", \"workflow\", \"workflow\", \"workflow\", \"workflow\", \"workflow\", \"wos\"]}, \"R\": 30, \"lambda.step\": 0.01, \"plot.opts\": {\"xlab\": \"PC1\", \"ylab\": \"PC2\"}, \"topic.order\": [4, 2, 3, 1, 5]};\n",
       "\n",
       "function LDAvis_load_lib(url, callback){\n",
       "  var s = document.createElement('script');\n",
       "  s.src = url;\n",
       "  s.async = true;\n",
       "  s.onreadystatechange = s.onload = callback;\n",
       "  s.onerror = function(){console.warn(\"failed to load library \" + url);};\n",
       "  document.getElementsByTagName(\"head\")[0].appendChild(s);\n",
       "}\n",
       "\n",
       "if(typeof(LDAvis) !== \"undefined\"){\n",
       "   // already loaded: just create the visualization\n",
       "   !function(LDAvis){\n",
       "       new LDAvis(\"#\" + \"ldavis_el164027405352712009305649232\", ldavis_el164027405352712009305649232_data);\n",
       "   }(LDAvis);\n",
       "}else if(typeof define === \"function\" && define.amd){\n",
       "   // require.js is available: use it to load d3/LDAvis\n",
       "   require.config({paths: {d3: \"https://d3js.org/d3.v5\"}});\n",
       "   require([\"d3\"], function(d3){\n",
       "      window.d3 = d3;\n",
       "      LDAvis_load_lib(\"https://cdn.jsdelivr.net/gh/bmabey/pyLDAvis@3.2.2/pyLDAvis/js/ldavis.v3.0.0.js\", function(){\n",
       "        new LDAvis(\"#\" + \"ldavis_el164027405352712009305649232\", ldavis_el164027405352712009305649232_data);\n",
       "      });\n",
       "    });\n",
       "}else{\n",
       "    // require.js not available: dynamically load d3 & LDAvis\n",
       "    LDAvis_load_lib(\"https://d3js.org/d3.v5.js\", function(){\n",
       "         LDAvis_load_lib(\"https://cdn.jsdelivr.net/gh/bmabey/pyLDAvis@3.2.2/pyLDAvis/js/ldavis.v3.0.0.js\", function(){\n",
       "                 new LDAvis(\"#\" + \"ldavis_el164027405352712009305649232\", ldavis_el164027405352712009305649232_data);\n",
       "            })\n",
       "         });\n",
       "}\n",
       "</script>"
      ],
      "text/plain": [
       "<IPython.core.display.HTML object>"
      ]
     },
     "execution_count": 162,
     "metadata": {},
     "output_type": "execute_result"
    }
   ],
   "source": [
    "# https://cran.r-project.org/web/packages/LDAvis/vignettes/details.pdf\n",
    "# Here a short legend to explain the vis:\n",
    "# size of bubble: proportional to the proportions of the topics across the N total tokens in the corpus\n",
    "# red bars: estimated number of times a given term was generated by a given topic\n",
    "# blue bars: overall frequency of each term in the corpus\n",
    "# -- Relevance of words is computed with a    parameter lambda\n",
    "# -- Lambda optimal value ~0.6 (https://nlp.stanford.edu/events/illvi2014/papers/sievert-illvi2014.pdf)\n",
    "\n",
    "\n",
    "%matplotlib inline\n",
    "import pyLDAvis\n",
    "import pyLDAvis.gensim\n",
    "vis = pyLDAvis.gensim.prepare(topic_model=lda_model, corpus=corpus, dictionary=dictionary_LDA)\n",
    "pyLDAvis.enable_notebook()\n",
    "pyLDAvis.save_html(vis, 'myBook.html')\n",
    "pyLDAvis.display(vis)"
   ]
  },
  {
   "cell_type": "code",
   "execution_count": 163,
   "metadata": {},
   "outputs": [
    {
     "name": "stderr",
     "output_type": "stream",
     "text": [
      "C:\\Users\\BDelamater\\Anaconda3\\lib\\site-packages\\ipykernel\\ipkernel.py:287: DeprecationWarning:\n",
      "\n",
      "`should_run_async` will not call `transform_cell` automatically in the future. Please pass the result to `transformed_cell` argument and any exception that happen during thetransform in `preprocessing_exc_tuple` in IPython 7.17 and above.\n",
      "\n"
     ]
    },
    {
     "data": {
      "text/html": [
       "<div>\n",
       "<style scoped>\n",
       "    .dataframe tbody tr th:only-of-type {\n",
       "        vertical-align: middle;\n",
       "    }\n",
       "\n",
       "    .dataframe tbody tr th {\n",
       "        vertical-align: top;\n",
       "    }\n",
       "\n",
       "    .dataframe thead th {\n",
       "        text-align: right;\n",
       "    }\n",
       "</style>\n",
       "<table border=\"1\" class=\"dataframe\">\n",
       "  <thead>\n",
       "    <tr style=\"text-align: right;\">\n",
       "      <th></th>\n",
       "      <th>Forum ID</th>\n",
       "      <th>Forum Name</th>\n",
       "      <th>Subject</th>\n",
       "      <th>Post Date</th>\n",
       "      <th>User DisplayName</th>\n",
       "      <th>Forum_Post_Raw</th>\n",
       "      <th>compound</th>\n",
       "      <th>neg</th>\n",
       "      <th>neu</th>\n",
       "      <th>pos</th>\n",
       "      <th>...</th>\n",
       "      <th>PostDate</th>\n",
       "      <th>DayName</th>\n",
       "      <th>DayOfMonth</th>\n",
       "      <th>ShortText</th>\n",
       "      <th>sentences</th>\n",
       "      <th>token_sentences</th>\n",
       "      <th>tokens_sentences</th>\n",
       "      <th>POS_tokens</th>\n",
       "      <th>tokens_sentences_lemmatized</th>\n",
       "      <th>tokens</th>\n",
       "    </tr>\n",
       "  </thead>\n",
       "  <tbody>\n",
       "    <tr>\n",
       "      <th>0</th>\n",
       "      <td>40</td>\n",
       "      <td>Sage X3 General Discussion</td>\n",
       "      <td>ERP help urgently needed</td>\n",
       "      <td>2019-10-10T05:58:05.73</td>\n",
       "      <td>ChinusGomes</td>\n",
       "      <td>Company upgraded to windows 10. Used to run an...</td>\n",
       "      <td>0.0387</td>\n",
       "      <td>0.063</td>\n",
       "      <td>0.873</td>\n",
       "      <td>0.064</td>\n",
       "      <td>...</td>\n",
       "      <td>2019-10-10 05:58:05.730</td>\n",
       "      <td>Thursday</td>\n",
       "      <td>10</td>\n",
       "      <td>Company upgraded to windows 10. Used to run an...</td>\n",
       "      <td>[Company upgraded to windows 10., Used to run ...</td>\n",
       "      <td>[[Company, upgraded, to, windows, 10, .], [Use...</td>\n",
       "      <td>[[Company, upgraded, to, windows, 10, .], [Use...</td>\n",
       "      <td>[[(Company, NN), (upgraded, VBD), (to, TO), (w...</td>\n",
       "      <td>[[Company, upgrade, to, windows, 10, .], [Used...</td>\n",
       "      <td>[company, upgrade, windows, used, run, erp, pr...</td>\n",
       "    </tr>\n",
       "    <tr>\n",
       "      <th>31</th>\n",
       "      <td>40</td>\n",
       "      <td>Sage X3 General Discussion</td>\n",
       "      <td>Sage V11 patch 14 - release soon?</td>\n",
       "      <td>2019-10-10T12:44:35.957</td>\n",
       "      <td>AnikB</td>\n",
       "      <td>Hello!\\n\\nI see that Sage V11 patch 14 was com...</td>\n",
       "      <td>0.7044</td>\n",
       "      <td>0.022</td>\n",
       "      <td>0.915</td>\n",
       "      <td>0.063</td>\n",
       "      <td>...</td>\n",
       "      <td>2019-10-10 12:44:35.957</td>\n",
       "      <td>Thursday</td>\n",
       "      <td>10</td>\n",
       "      <td>Hello!\\n\\nI see that Sage V11 patch 14 was com...</td>\n",
       "      <td>[Hello!, I see that Sage V11 patch 14 was comp...</td>\n",
       "      <td>[[Hello, !], [I, see, that, Sage, V11, patch, ...</td>\n",
       "      <td>[[Hello, !], [I, see, that, Sage, V11, patch, ...</td>\n",
       "      <td>[[(Hello, NN), (!, .)], [(I, PRP), (see, VBP),...</td>\n",
       "      <td>[[Hello, !], [I, see, that, Sage, V11, patch, ...</td>\n",
       "      <td>[patch, complete, october, least, patch, finde...</td>\n",
       "    </tr>\n",
       "    <tr>\n",
       "      <th>62</th>\n",
       "      <td>673</td>\n",
       "      <td>Sage X3 Announcements, News, and Alerts</td>\n",
       "      <td>Sage X3 12.0.19 and Patch 19 Add-ons Updates h...</td>\n",
       "      <td>2019-10-10T14:56:52.947</td>\n",
       "      <td>Alecia</td>\n",
       "      <td>To access this download, log into https://supp...</td>\n",
       "      <td>0.9359</td>\n",
       "      <td>0.000</td>\n",
       "      <td>0.898</td>\n",
       "      <td>0.102</td>\n",
       "      <td>...</td>\n",
       "      <td>2019-10-10 14:56:52.947</td>\n",
       "      <td>Thursday</td>\n",
       "      <td>10</td>\n",
       "      <td>To access this download, log into https://supp...</td>\n",
       "      <td>[To access this download, log into https://sup...</td>\n",
       "      <td>[[To, access, this, download, ,, log, into, ht...</td>\n",
       "      <td>[[To, access, this, download, ,, log, into, ht...</td>\n",
       "      <td>[[(To, TO), (access, NN), (this, DT), (downloa...</td>\n",
       "      <td>[[To, access, this, download, ,, log, into, ht...</td>\n",
       "      <td>[access, download, log, http, search, field, t...</td>\n",
       "    </tr>\n",
       "    <tr>\n",
       "      <th>63</th>\n",
       "      <td>673</td>\n",
       "      <td>Sage X3 Announcements, News, and Alerts</td>\n",
       "      <td>Sage X3 Warehousing (GEODE) v12.0.19 has been ...</td>\n",
       "      <td>2019-10-10T20:56:53.483</td>\n",
       "      <td>pnightingale</td>\n",
       "      <td>To access this download, log into https://supp...</td>\n",
       "      <td>0.9359</td>\n",
       "      <td>0.000</td>\n",
       "      <td>0.898</td>\n",
       "      <td>0.102</td>\n",
       "      <td>...</td>\n",
       "      <td>2019-10-10 20:56:53.483</td>\n",
       "      <td>Thursday</td>\n",
       "      <td>10</td>\n",
       "      <td>To access this download, log into https://supp...</td>\n",
       "      <td>[To access this download, log into https://sup...</td>\n",
       "      <td>[[To, access, this, download, ,, log, into, ht...</td>\n",
       "      <td>[[To, access, this, download, ,, log, into, ht...</td>\n",
       "      <td>[[(To, TO), (access, NN), (this, DT), (downloa...</td>\n",
       "      <td>[[To, access, this, download, ,, log, into, ht...</td>\n",
       "      <td>[access, download, log, http, search, field, t...</td>\n",
       "    </tr>\n",
       "    <tr>\n",
       "      <th>64</th>\n",
       "      <td>40</td>\n",
       "      <td>Sage X3 General Discussion</td>\n",
       "      <td>Modifying Stock Change ST2 object</td>\n",
       "      <td>2019-10-11T13:10:28.983</td>\n",
       "      <td>ChrisCC</td>\n",
       "      <td>I am trying to remove some of the columns on t...</td>\n",
       "      <td>0.5980</td>\n",
       "      <td>0.046</td>\n",
       "      <td>0.865</td>\n",
       "      <td>0.090</td>\n",
       "      <td>...</td>\n",
       "      <td>2019-10-11 13:10:28.983</td>\n",
       "      <td>Friday</td>\n",
       "      <td>11</td>\n",
       "      <td>I am trying to remove some of the columns on t...</td>\n",
       "      <td>[I am trying to remove some of the columns on ...</td>\n",
       "      <td>[[I, am, trying, to, remove, some, of, the, co...</td>\n",
       "      <td>[[I, am, trying, to, remove, some, of, the, co...</td>\n",
       "      <td>[[(I, PRP), (am, VBP), (trying, VBG), (to, TO)...</td>\n",
       "      <td>[[I, be, try, to, remove, some, of, the, colum...</td>\n",
       "      <td>[remove, column, object, stock, selection, bro...</td>\n",
       "    </tr>\n",
       "  </tbody>\n",
       "</table>\n",
       "<p>5 rows × 21 columns</p>\n",
       "</div>"
      ],
      "text/plain": [
       "    Forum ID                               Forum Name  \\\n",
       "0         40               Sage X3 General Discussion   \n",
       "31        40               Sage X3 General Discussion   \n",
       "62       673  Sage X3 Announcements, News, and Alerts   \n",
       "63       673  Sage X3 Announcements, News, and Alerts   \n",
       "64        40               Sage X3 General Discussion   \n",
       "\n",
       "                                              Subject  \\\n",
       "0                            ERP help urgently needed   \n",
       "31                  Sage V11 patch 14 - release soon?   \n",
       "62  Sage X3 12.0.19 and Patch 19 Add-ons Updates h...   \n",
       "63  Sage X3 Warehousing (GEODE) v12.0.19 has been ...   \n",
       "64                  Modifying Stock Change ST2 object   \n",
       "\n",
       "                  Post Date User DisplayName  \\\n",
       "0    2019-10-10T05:58:05.73      ChinusGomes   \n",
       "31  2019-10-10T12:44:35.957            AnikB   \n",
       "62  2019-10-10T14:56:52.947           Alecia   \n",
       "63  2019-10-10T20:56:53.483     pnightingale   \n",
       "64  2019-10-11T13:10:28.983          ChrisCC   \n",
       "\n",
       "                                       Forum_Post_Raw  compound    neg    neu  \\\n",
       "0   Company upgraded to windows 10. Used to run an...    0.0387  0.063  0.873   \n",
       "31  Hello!\\n\\nI see that Sage V11 patch 14 was com...    0.7044  0.022  0.915   \n",
       "62  To access this download, log into https://supp...    0.9359  0.000  0.898   \n",
       "63  To access this download, log into https://supp...    0.9359  0.000  0.898   \n",
       "64  I am trying to remove some of the columns on t...    0.5980  0.046  0.865   \n",
       "\n",
       "      pos  ...                PostDate   DayName DayOfMonth  \\\n",
       "0   0.064  ... 2019-10-10 05:58:05.730  Thursday         10   \n",
       "31  0.063  ... 2019-10-10 12:44:35.957  Thursday         10   \n",
       "62  0.102  ... 2019-10-10 14:56:52.947  Thursday         10   \n",
       "63  0.102  ... 2019-10-10 20:56:53.483  Thursday         10   \n",
       "64  0.090  ... 2019-10-11 13:10:28.983    Friday         11   \n",
       "\n",
       "                                            ShortText  \\\n",
       "0   Company upgraded to windows 10. Used to run an...   \n",
       "31  Hello!\\n\\nI see that Sage V11 patch 14 was com...   \n",
       "62  To access this download, log into https://supp...   \n",
       "63  To access this download, log into https://supp...   \n",
       "64  I am trying to remove some of the columns on t...   \n",
       "\n",
       "                                            sentences  \\\n",
       "0   [Company upgraded to windows 10., Used to run ...   \n",
       "31  [Hello!, I see that Sage V11 patch 14 was comp...   \n",
       "62  [To access this download, log into https://sup...   \n",
       "63  [To access this download, log into https://sup...   \n",
       "64  [I am trying to remove some of the columns on ...   \n",
       "\n",
       "                                      token_sentences  \\\n",
       "0   [[Company, upgraded, to, windows, 10, .], [Use...   \n",
       "31  [[Hello, !], [I, see, that, Sage, V11, patch, ...   \n",
       "62  [[To, access, this, download, ,, log, into, ht...   \n",
       "63  [[To, access, this, download, ,, log, into, ht...   \n",
       "64  [[I, am, trying, to, remove, some, of, the, co...   \n",
       "\n",
       "                                     tokens_sentences  \\\n",
       "0   [[Company, upgraded, to, windows, 10, .], [Use...   \n",
       "31  [[Hello, !], [I, see, that, Sage, V11, patch, ...   \n",
       "62  [[To, access, this, download, ,, log, into, ht...   \n",
       "63  [[To, access, this, download, ,, log, into, ht...   \n",
       "64  [[I, am, trying, to, remove, some, of, the, co...   \n",
       "\n",
       "                                           POS_tokens  \\\n",
       "0   [[(Company, NN), (upgraded, VBD), (to, TO), (w...   \n",
       "31  [[(Hello, NN), (!, .)], [(I, PRP), (see, VBP),...   \n",
       "62  [[(To, TO), (access, NN), (this, DT), (downloa...   \n",
       "63  [[(To, TO), (access, NN), (this, DT), (downloa...   \n",
       "64  [[(I, PRP), (am, VBP), (trying, VBG), (to, TO)...   \n",
       "\n",
       "                          tokens_sentences_lemmatized  \\\n",
       "0   [[Company, upgrade, to, windows, 10, .], [Used...   \n",
       "31  [[Hello, !], [I, see, that, Sage, V11, patch, ...   \n",
       "62  [[To, access, this, download, ,, log, into, ht...   \n",
       "63  [[To, access, this, download, ,, log, into, ht...   \n",
       "64  [[I, be, try, to, remove, some, of, the, colum...   \n",
       "\n",
       "                                               tokens  \n",
       "0   [company, upgrade, windows, used, run, erp, pr...  \n",
       "31  [patch, complete, october, least, patch, finde...  \n",
       "62  [access, download, log, http, search, field, t...  \n",
       "63  [access, download, log, http, search, field, t...  \n",
       "64  [remove, column, object, stock, selection, bro...  \n",
       "\n",
       "[5 rows x 21 columns]"
      ]
     },
     "execution_count": 163,
     "metadata": {},
     "output_type": "execute_result"
    }
   ],
   "source": [
    "dfLDA.head()"
   ]
  },
  {
   "cell_type": "code",
   "execution_count": 164,
   "metadata": {},
   "outputs": [
    {
     "name": "stderr",
     "output_type": "stream",
     "text": [
      "C:\\Users\\BDelamater\\Anaconda3\\lib\\site-packages\\ipykernel\\ipkernel.py:287: DeprecationWarning:\n",
      "\n",
      "`should_run_async` will not call `transform_cell` automatically in the future. Please pass the result to `transformed_cell` argument and any exception that happen during thetransform in `preprocessing_exc_tuple` in IPython 7.17 and above.\n",
      "\n"
     ]
    },
    {
     "data": {
      "text/html": [
       "<div>\n",
       "<style scoped>\n",
       "    .dataframe tbody tr th:only-of-type {\n",
       "        vertical-align: middle;\n",
       "    }\n",
       "\n",
       "    .dataframe tbody tr th {\n",
       "        vertical-align: top;\n",
       "    }\n",
       "\n",
       "    .dataframe thead th {\n",
       "        text-align: right;\n",
       "    }\n",
       "</style>\n",
       "<table border=\"1\" class=\"dataframe\">\n",
       "  <thead>\n",
       "    <tr style=\"text-align: right;\">\n",
       "      <th></th>\n",
       "      <th>Forum ID</th>\n",
       "      <th>Forum Name</th>\n",
       "      <th>Subject</th>\n",
       "      <th>Post Date</th>\n",
       "      <th>User DisplayName</th>\n",
       "      <th>Forum_Post_Raw</th>\n",
       "      <th>compound</th>\n",
       "      <th>neg</th>\n",
       "      <th>neu</th>\n",
       "      <th>pos</th>\n",
       "      <th>...</th>\n",
       "      <th>tokens_sentences</th>\n",
       "      <th>POS_tokens</th>\n",
       "      <th>tokens_sentences_lemmatized</th>\n",
       "      <th>tokens</th>\n",
       "      <th>topic0</th>\n",
       "      <th>topic0_pct</th>\n",
       "      <th>topic1</th>\n",
       "      <th>topic1_pct</th>\n",
       "      <th>topic2</th>\n",
       "      <th>topic2_pct</th>\n",
       "    </tr>\n",
       "  </thead>\n",
       "  <tbody>\n",
       "    <tr>\n",
       "      <th>0</th>\n",
       "      <td>40.0</td>\n",
       "      <td>Sage X3 General Discussion</td>\n",
       "      <td>ERP help urgently needed</td>\n",
       "      <td>2019-10-10T05:58:05.73</td>\n",
       "      <td>ChinusGomes</td>\n",
       "      <td>Company upgraded to windows 10. Used to run an...</td>\n",
       "      <td>0.0387</td>\n",
       "      <td>0.063</td>\n",
       "      <td>0.873</td>\n",
       "      <td>0.064</td>\n",
       "      <td>...</td>\n",
       "      <td>[[Company, upgraded, to, windows, 10, .], [Use...</td>\n",
       "      <td>[[(Company, NN), (upgraded, VBD), (to, TO), (w...</td>\n",
       "      <td>[[Company, upgrade, to, windows, 10, .], [Used...</td>\n",
       "      <td>[company, upgrade, windows, used, run, erp, pr...</td>\n",
       "      <td>1.0</td>\n",
       "      <td>0.998890</td>\n",
       "      <td>0.0</td>\n",
       "      <td>0.000000</td>\n",
       "      <td>2.0</td>\n",
       "      <td>0.000000</td>\n",
       "    </tr>\n",
       "    <tr>\n",
       "      <th>31</th>\n",
       "      <td>40.0</td>\n",
       "      <td>Sage X3 General Discussion</td>\n",
       "      <td>Sage V11 patch 14 - release soon?</td>\n",
       "      <td>2019-10-10T12:44:35.957</td>\n",
       "      <td>AnikB</td>\n",
       "      <td>Hello!\\n\\nI see that Sage V11 patch 14 was com...</td>\n",
       "      <td>0.7044</td>\n",
       "      <td>0.022</td>\n",
       "      <td>0.915</td>\n",
       "      <td>0.063</td>\n",
       "      <td>...</td>\n",
       "      <td>[[Hello, !], [I, see, that, Sage, V11, patch, ...</td>\n",
       "      <td>[[(Hello, NN), (!, .)], [(I, PRP), (see, VBP),...</td>\n",
       "      <td>[[Hello, !], [I, see, that, Sage, V11, patch, ...</td>\n",
       "      <td>[patch, complete, october, least, patch, finde...</td>\n",
       "      <td>2.0</td>\n",
       "      <td>0.719468</td>\n",
       "      <td>3.0</td>\n",
       "      <td>0.279230</td>\n",
       "      <td>0.0</td>\n",
       "      <td>0.000000</td>\n",
       "    </tr>\n",
       "    <tr>\n",
       "      <th>62</th>\n",
       "      <td>673.0</td>\n",
       "      <td>Sage X3 Announcements, News, and Alerts</td>\n",
       "      <td>Sage X3 12.0.19 and Patch 19 Add-ons Updates h...</td>\n",
       "      <td>2019-10-10T14:56:52.947</td>\n",
       "      <td>Alecia</td>\n",
       "      <td>To access this download, log into https://supp...</td>\n",
       "      <td>0.9359</td>\n",
       "      <td>0.000</td>\n",
       "      <td>0.898</td>\n",
       "      <td>0.102</td>\n",
       "      <td>...</td>\n",
       "      <td>[[To, access, this, download, ,, log, into, ht...</td>\n",
       "      <td>[[(To, TO), (access, NN), (this, DT), (downloa...</td>\n",
       "      <td>[[To, access, this, download, ,, log, into, ht...</td>\n",
       "      <td>[access, download, log, http, search, field, t...</td>\n",
       "      <td>2.0</td>\n",
       "      <td>0.538728</td>\n",
       "      <td>3.0</td>\n",
       "      <td>0.330893</td>\n",
       "      <td>1.0</td>\n",
       "      <td>0.129429</td>\n",
       "    </tr>\n",
       "    <tr>\n",
       "      <th>63</th>\n",
       "      <td>673.0</td>\n",
       "      <td>Sage X3 Announcements, News, and Alerts</td>\n",
       "      <td>Sage X3 Warehousing (GEODE) v12.0.19 has been ...</td>\n",
       "      <td>2019-10-10T20:56:53.483</td>\n",
       "      <td>pnightingale</td>\n",
       "      <td>To access this download, log into https://supp...</td>\n",
       "      <td>0.9359</td>\n",
       "      <td>0.000</td>\n",
       "      <td>0.898</td>\n",
       "      <td>0.102</td>\n",
       "      <td>...</td>\n",
       "      <td>[[To, access, this, download, ,, log, into, ht...</td>\n",
       "      <td>[[(To, TO), (access, NN), (this, DT), (downloa...</td>\n",
       "      <td>[[To, access, this, download, ,, log, into, ht...</td>\n",
       "      <td>[access, download, log, http, search, field, t...</td>\n",
       "      <td>1.0</td>\n",
       "      <td>0.573986</td>\n",
       "      <td>2.0</td>\n",
       "      <td>0.425016</td>\n",
       "      <td>0.0</td>\n",
       "      <td>0.000000</td>\n",
       "    </tr>\n",
       "    <tr>\n",
       "      <th>64</th>\n",
       "      <td>40.0</td>\n",
       "      <td>Sage X3 General Discussion</td>\n",
       "      <td>Modifying Stock Change ST2 object</td>\n",
       "      <td>2019-10-11T13:10:28.983</td>\n",
       "      <td>ChrisCC</td>\n",
       "      <td>I am trying to remove some of the columns on t...</td>\n",
       "      <td>0.5980</td>\n",
       "      <td>0.046</td>\n",
       "      <td>0.865</td>\n",
       "      <td>0.090</td>\n",
       "      <td>...</td>\n",
       "      <td>[[I, am, trying, to, remove, some, of, the, co...</td>\n",
       "      <td>[[(I, PRP), (am, VBP), (trying, VBG), (to, TO)...</td>\n",
       "      <td>[[I, be, try, to, remove, some, of, the, colum...</td>\n",
       "      <td>[remove, column, object, stock, selection, bro...</td>\n",
       "      <td>1.0</td>\n",
       "      <td>0.748974</td>\n",
       "      <td>3.0</td>\n",
       "      <td>0.248536</td>\n",
       "      <td>0.0</td>\n",
       "      <td>0.000000</td>\n",
       "    </tr>\n",
       "    <tr>\n",
       "      <th>95</th>\n",
       "      <td>40.0</td>\n",
       "      <td>Sage X3 General Discussion</td>\n",
       "      <td>Deliveries</td>\n",
       "      <td>2019-10-11T14:24:15.807</td>\n",
       "      <td>Juan Pablo G</td>\n",
       "      <td>Just to confirm, is not possible to change the...</td>\n",
       "      <td>0.0000</td>\n",
       "      <td>0.000</td>\n",
       "      <td>1.000</td>\n",
       "      <td>0.000</td>\n",
       "      <td>...</td>\n",
       "      <td>[[Just, to, confirm, ,, is, not, possible, to,...</td>\n",
       "      <td>[[(Just, RB), (to, TO), (confirm, VB), (,, ,),...</td>\n",
       "      <td>[[Just, to, confirm, ,, be, not, possible, to,...</td>\n",
       "      <td>[confirm, possible, change, uom, delivery, right]</td>\n",
       "      <td>2.0</td>\n",
       "      <td>0.998623</td>\n",
       "      <td>0.0</td>\n",
       "      <td>0.000000</td>\n",
       "      <td>1.0</td>\n",
       "      <td>0.000000</td>\n",
       "    </tr>\n",
       "    <tr>\n",
       "      <th>126</th>\n",
       "      <td>40.0</td>\n",
       "      <td>Sage X3 General Discussion</td>\n",
       "      <td>V12 Data Model</td>\n",
       "      <td>2019-10-11T16:02:41.787</td>\n",
       "      <td>Juan Pablo G</td>\n",
       "      <td>Is the online help data model correct for V12?...</td>\n",
       "      <td>0.4019</td>\n",
       "      <td>0.000</td>\n",
       "      <td>0.816</td>\n",
       "      <td>0.184</td>\n",
       "      <td>...</td>\n",
       "      <td>[[Is, the, online, help, data, model, correct,...</td>\n",
       "      <td>[[(Is, VBZ), (the, DT), (online, NN), (help, N...</td>\n",
       "      <td>[[Is, the, online, help, data, model, correct,...</td>\n",
       "      <td>[online, help, data, model, correct, file, show]</td>\n",
       "      <td>3.0</td>\n",
       "      <td>0.508000</td>\n",
       "      <td>1.0</td>\n",
       "      <td>0.491552</td>\n",
       "      <td>0.0</td>\n",
       "      <td>0.000000</td>\n",
       "    </tr>\n",
       "    <tr>\n",
       "      <th>157</th>\n",
       "      <td>40.0</td>\n",
       "      <td>Sage X3 General Discussion</td>\n",
       "      <td>Entering a manual check that is already in g/l</td>\n",
       "      <td>2019-10-13T20:01:08.897</td>\n",
       "      <td>JeffW-SageX3</td>\n",
       "      <td>Hi,\\nI am fairly new to X3 and I entered g/l d...</td>\n",
       "      <td>0.6124</td>\n",
       "      <td>0.000</td>\n",
       "      <td>0.906</td>\n",
       "      <td>0.094</td>\n",
       "      <td>...</td>\n",
       "      <td>[[Hi, ,, I, am, fairly, new, to, X3, and, I, e...</td>\n",
       "      <td>[[(Hi, NNP), (,, ,), (I, PRP), (am, VBP), (fai...</td>\n",
       "      <td>[[Hi, ,, I, be, fairly, new, to, X3, and, I, e...</td>\n",
       "      <td>[fairly, new, enter, data, payroll, already, e...</td>\n",
       "      <td>2.0</td>\n",
       "      <td>0.616479</td>\n",
       "      <td>3.0</td>\n",
       "      <td>0.382896</td>\n",
       "      <td>0.0</td>\n",
       "      <td>0.000000</td>\n",
       "    </tr>\n",
       "    <tr>\n",
       "      <th>188</th>\n",
       "      <td>40.0</td>\n",
       "      <td>Sage X3 General Discussion</td>\n",
       "      <td>Field Option for Capitals</td>\n",
       "      <td>2019-10-14T05:55:32.553</td>\n",
       "      <td>JohannRSA</td>\n",
       "      <td>I am trying to make the Company Name field on ...</td>\n",
       "      <td>-0.6718</td>\n",
       "      <td>0.081</td>\n",
       "      <td>0.902</td>\n",
       "      <td>0.017</td>\n",
       "      <td>...</td>\n",
       "      <td>[[I, am, trying, to, make, the, Company, Name,...</td>\n",
       "      <td>[[(I, PRP), (am, VBP), (trying, VBG), (to, TO)...</td>\n",
       "      <td>[[I, be, try, to, make, the, Company, Name, fi...</td>\n",
       "      <td>[company, name, field, screen, case, option, c...</td>\n",
       "      <td>3.0</td>\n",
       "      <td>0.819109</td>\n",
       "      <td>2.0</td>\n",
       "      <td>0.178756</td>\n",
       "      <td>0.0</td>\n",
       "      <td>0.000000</td>\n",
       "    </tr>\n",
       "    <tr>\n",
       "      <th>219</th>\n",
       "      <td>40.0</td>\n",
       "      <td>Sage X3 General Discussion</td>\n",
       "      <td>Subtracting ADATIM</td>\n",
       "      <td>2019-10-14T08:33:18.01</td>\n",
       "      <td>ChrisCC</td>\n",
       "      <td>I created a alpha numeric field on the screen ...</td>\n",
       "      <td>0.2023</td>\n",
       "      <td>0.050</td>\n",
       "      <td>0.874</td>\n",
       "      <td>0.075</td>\n",
       "      <td>...</td>\n",
       "      <td>[[I, created, a, alpha, numeric, field, on, th...</td>\n",
       "      <td>[[(I, PRP), (created, VBD), (a, DT), (alpha, J...</td>\n",
       "      <td>[[I, create, a, alpha, numeric, field, on, the...</td>\n",
       "      <td>[create, alpha, numeric, field, screen, suppos...</td>\n",
       "      <td>0.0</td>\n",
       "      <td>0.696634</td>\n",
       "      <td>1.0</td>\n",
       "      <td>0.301497</td>\n",
       "      <td>2.0</td>\n",
       "      <td>0.000000</td>\n",
       "    </tr>\n",
       "  </tbody>\n",
       "</table>\n",
       "<p>10 rows × 27 columns</p>\n",
       "</div>"
      ],
      "text/plain": [
       "     Forum ID                               Forum Name  \\\n",
       "0        40.0               Sage X3 General Discussion   \n",
       "31       40.0               Sage X3 General Discussion   \n",
       "62      673.0  Sage X3 Announcements, News, and Alerts   \n",
       "63      673.0  Sage X3 Announcements, News, and Alerts   \n",
       "64       40.0               Sage X3 General Discussion   \n",
       "95       40.0               Sage X3 General Discussion   \n",
       "126      40.0               Sage X3 General Discussion   \n",
       "157      40.0               Sage X3 General Discussion   \n",
       "188      40.0               Sage X3 General Discussion   \n",
       "219      40.0               Sage X3 General Discussion   \n",
       "\n",
       "                                               Subject  \\\n",
       "0                             ERP help urgently needed   \n",
       "31                   Sage V11 patch 14 - release soon?   \n",
       "62   Sage X3 12.0.19 and Patch 19 Add-ons Updates h...   \n",
       "63   Sage X3 Warehousing (GEODE) v12.0.19 has been ...   \n",
       "64                   Modifying Stock Change ST2 object   \n",
       "95                                          Deliveries   \n",
       "126                                     V12 Data Model   \n",
       "157     Entering a manual check that is already in g/l   \n",
       "188                          Field Option for Capitals   \n",
       "219                                 Subtracting ADATIM   \n",
       "\n",
       "                   Post Date User DisplayName  \\\n",
       "0     2019-10-10T05:58:05.73      ChinusGomes   \n",
       "31   2019-10-10T12:44:35.957            AnikB   \n",
       "62   2019-10-10T14:56:52.947           Alecia   \n",
       "63   2019-10-10T20:56:53.483     pnightingale   \n",
       "64   2019-10-11T13:10:28.983          ChrisCC   \n",
       "95   2019-10-11T14:24:15.807     Juan Pablo G   \n",
       "126  2019-10-11T16:02:41.787     Juan Pablo G   \n",
       "157  2019-10-13T20:01:08.897     JeffW-SageX3   \n",
       "188  2019-10-14T05:55:32.553        JohannRSA   \n",
       "219   2019-10-14T08:33:18.01          ChrisCC   \n",
       "\n",
       "                                        Forum_Post_Raw  compound    neg  \\\n",
       "0    Company upgraded to windows 10. Used to run an...    0.0387  0.063   \n",
       "31   Hello!\\n\\nI see that Sage V11 patch 14 was com...    0.7044  0.022   \n",
       "62   To access this download, log into https://supp...    0.9359  0.000   \n",
       "63   To access this download, log into https://supp...    0.9359  0.000   \n",
       "64   I am trying to remove some of the columns on t...    0.5980  0.046   \n",
       "95   Just to confirm, is not possible to change the...    0.0000  0.000   \n",
       "126  Is the online help data model correct for V12?...    0.4019  0.000   \n",
       "157  Hi,\\nI am fairly new to X3 and I entered g/l d...    0.6124  0.000   \n",
       "188  I am trying to make the Company Name field on ...   -0.6718  0.081   \n",
       "219  I created a alpha numeric field on the screen ...    0.2023  0.050   \n",
       "\n",
       "       neu    pos  ...                                   tokens_sentences  \\\n",
       "0    0.873  0.064  ...  [[Company, upgraded, to, windows, 10, .], [Use...   \n",
       "31   0.915  0.063  ...  [[Hello, !], [I, see, that, Sage, V11, patch, ...   \n",
       "62   0.898  0.102  ...  [[To, access, this, download, ,, log, into, ht...   \n",
       "63   0.898  0.102  ...  [[To, access, this, download, ,, log, into, ht...   \n",
       "64   0.865  0.090  ...  [[I, am, trying, to, remove, some, of, the, co...   \n",
       "95   1.000  0.000  ...  [[Just, to, confirm, ,, is, not, possible, to,...   \n",
       "126  0.816  0.184  ...  [[Is, the, online, help, data, model, correct,...   \n",
       "157  0.906  0.094  ...  [[Hi, ,, I, am, fairly, new, to, X3, and, I, e...   \n",
       "188  0.902  0.017  ...  [[I, am, trying, to, make, the, Company, Name,...   \n",
       "219  0.874  0.075  ...  [[I, created, a, alpha, numeric, field, on, th...   \n",
       "\n",
       "                                            POS_tokens  \\\n",
       "0    [[(Company, NN), (upgraded, VBD), (to, TO), (w...   \n",
       "31   [[(Hello, NN), (!, .)], [(I, PRP), (see, VBP),...   \n",
       "62   [[(To, TO), (access, NN), (this, DT), (downloa...   \n",
       "63   [[(To, TO), (access, NN), (this, DT), (downloa...   \n",
       "64   [[(I, PRP), (am, VBP), (trying, VBG), (to, TO)...   \n",
       "95   [[(Just, RB), (to, TO), (confirm, VB), (,, ,),...   \n",
       "126  [[(Is, VBZ), (the, DT), (online, NN), (help, N...   \n",
       "157  [[(Hi, NNP), (,, ,), (I, PRP), (am, VBP), (fai...   \n",
       "188  [[(I, PRP), (am, VBP), (trying, VBG), (to, TO)...   \n",
       "219  [[(I, PRP), (created, VBD), (a, DT), (alpha, J...   \n",
       "\n",
       "                           tokens_sentences_lemmatized  \\\n",
       "0    [[Company, upgrade, to, windows, 10, .], [Used...   \n",
       "31   [[Hello, !], [I, see, that, Sage, V11, patch, ...   \n",
       "62   [[To, access, this, download, ,, log, into, ht...   \n",
       "63   [[To, access, this, download, ,, log, into, ht...   \n",
       "64   [[I, be, try, to, remove, some, of, the, colum...   \n",
       "95   [[Just, to, confirm, ,, be, not, possible, to,...   \n",
       "126  [[Is, the, online, help, data, model, correct,...   \n",
       "157  [[Hi, ,, I, be, fairly, new, to, X3, and, I, e...   \n",
       "188  [[I, be, try, to, make, the, Company, Name, fi...   \n",
       "219  [[I, create, a, alpha, numeric, field, on, the...   \n",
       "\n",
       "                                                tokens topic0 topic0_pct  \\\n",
       "0    [company, upgrade, windows, used, run, erp, pr...    1.0   0.998890   \n",
       "31   [patch, complete, october, least, patch, finde...    2.0   0.719468   \n",
       "62   [access, download, log, http, search, field, t...    2.0   0.538728   \n",
       "63   [access, download, log, http, search, field, t...    1.0   0.573986   \n",
       "64   [remove, column, object, stock, selection, bro...    1.0   0.748974   \n",
       "95   [confirm, possible, change, uom, delivery, right]    2.0   0.998623   \n",
       "126   [online, help, data, model, correct, file, show]    3.0   0.508000   \n",
       "157  [fairly, new, enter, data, payroll, already, e...    2.0   0.616479   \n",
       "188  [company, name, field, screen, case, option, c...    3.0   0.819109   \n",
       "219  [create, alpha, numeric, field, screen, suppos...    0.0   0.696634   \n",
       "\n",
       "    topic1 topic1_pct topic2 topic2_pct  \n",
       "0      0.0   0.000000    2.0   0.000000  \n",
       "31     3.0   0.279230    0.0   0.000000  \n",
       "62     3.0   0.330893    1.0   0.129429  \n",
       "63     2.0   0.425016    0.0   0.000000  \n",
       "64     3.0   0.248536    0.0   0.000000  \n",
       "95     0.0   0.000000    1.0   0.000000  \n",
       "126    1.0   0.491552    0.0   0.000000  \n",
       "157    3.0   0.382896    0.0   0.000000  \n",
       "188    2.0   0.178756    0.0   0.000000  \n",
       "219    1.0   0.301497    2.0   0.000000  \n",
       "\n",
       "[10 rows x 27 columns]"
      ]
     },
     "execution_count": 164,
     "metadata": {},
     "output_type": "execute_result"
    }
   ],
   "source": [
    "for r in range(0,len(document_topic)):\n",
    "    ts = document_topic.loc[r].sort_values(ascending=False)[:3]\n",
    "    topic_nums = list(ts.index)\n",
    "    topic_pcts = list(ts)\n",
    "    for i in range(0,3):\n",
    "        dfLDA.at[r,'topic'+ str(i)]=topic_nums[i]\n",
    "        dfLDA.at[r,'topic'+ str(i)+'_pct']=topic_pcts[i]\n",
    "\n",
    "dfLDA.head(10)"
   ]
  },
  {
   "cell_type": "code",
   "execution_count": 165,
   "metadata": {},
   "outputs": [
    {
     "name": "stderr",
     "output_type": "stream",
     "text": [
      "C:\\Users\\BDelamater\\Anaconda3\\lib\\site-packages\\ipykernel\\ipkernel.py:287: DeprecationWarning:\n",
      "\n",
      "`should_run_async` will not call `transform_cell` automatically in the future. Please pass the result to `transformed_cell` argument and any exception that happen during thetransform in `preprocessing_exc_tuple` in IPython 7.17 and above.\n",
      "\n"
     ]
    },
    {
     "data": {
      "text/html": [
       "<div>\n",
       "<style scoped>\n",
       "    .dataframe tbody tr th:only-of-type {\n",
       "        vertical-align: middle;\n",
       "    }\n",
       "\n",
       "    .dataframe tbody tr th {\n",
       "        vertical-align: top;\n",
       "    }\n",
       "\n",
       "    .dataframe thead th {\n",
       "        text-align: right;\n",
       "    }\n",
       "</style>\n",
       "<table border=\"1\" class=\"dataframe\">\n",
       "  <thead>\n",
       "    <tr style=\"text-align: right;\">\n",
       "      <th></th>\n",
       "      <th>Forum ID</th>\n",
       "      <th>Forum Name</th>\n",
       "      <th>Subject</th>\n",
       "      <th>Post Date</th>\n",
       "      <th>User DisplayName</th>\n",
       "      <th>Forum_Post_Raw</th>\n",
       "      <th>compound</th>\n",
       "      <th>neg</th>\n",
       "      <th>neu</th>\n",
       "      <th>pos</th>\n",
       "      <th>...</th>\n",
       "      <th>tokens_sentences</th>\n",
       "      <th>POS_tokens</th>\n",
       "      <th>tokens_sentences_lemmatized</th>\n",
       "      <th>tokens</th>\n",
       "      <th>topic0</th>\n",
       "      <th>topic0_pct</th>\n",
       "      <th>topic1</th>\n",
       "      <th>topic1_pct</th>\n",
       "      <th>topic2</th>\n",
       "      <th>topic2_pct</th>\n",
       "    </tr>\n",
       "  </thead>\n",
       "  <tbody>\n",
       "    <tr>\n",
       "      <th>499</th>\n",
       "      <td>40.0</td>\n",
       "      <td>Sage X3 General Discussion</td>\n",
       "      <td>Issues accessing Landing Pages</td>\n",
       "      <td>2019-10-21T09:43:33.513</td>\n",
       "      <td>jsward9</td>\n",
       "      <td>Has anyone had issues with new users ability t...</td>\n",
       "      <td>-0.3195</td>\n",
       "      <td>0.069</td>\n",
       "      <td>0.897</td>\n",
       "      <td>0.034</td>\n",
       "      <td>...</td>\n",
       "      <td>[[Has, anyone, had, issues, with, new, users, ...</td>\n",
       "      <td>[[(Has, NNP), (anyone, NN), (had, VBD), (issue...</td>\n",
       "      <td>[[Has, anyone, have, issue, with, new, user, a...</td>\n",
       "      <td>[anyone, issue, new, user, ability, landing, p...</td>\n",
       "      <td>4.0</td>\n",
       "      <td>0.999131</td>\n",
       "      <td>0.0</td>\n",
       "      <td>0.000000</td>\n",
       "      <td>1.0</td>\n",
       "      <td>0.0</td>\n",
       "    </tr>\n",
       "    <tr>\n",
       "      <th>624</th>\n",
       "      <td>40.0</td>\n",
       "      <td>Sage X3 General Discussion</td>\n",
       "      <td>Sales Order With order details but Line Need t...</td>\n",
       "      <td>2019-10-23T08:20:38.087</td>\n",
       "      <td>abhiacap</td>\n",
       "      <td>Hi Team,\\n\\nI want to create an advance sale r...</td>\n",
       "      <td>0.7750</td>\n",
       "      <td>0.000</td>\n",
       "      <td>0.796</td>\n",
       "      <td>0.204</td>\n",
       "      <td>...</td>\n",
       "      <td>[[Hi, Team, ,, I, want, to, create, an, advanc...</td>\n",
       "      <td>[[(Hi, NNP), (Team, NNP), (,, ,), (I, PRP), (w...</td>\n",
       "      <td>[[Hi, Team, ,, I, want, to, create, an, advanc...</td>\n",
       "      <td>[team, create, advance, sale, replacement, abl...</td>\n",
       "      <td>4.0</td>\n",
       "      <td>0.995031</td>\n",
       "      <td>0.0</td>\n",
       "      <td>0.000000</td>\n",
       "      <td>1.0</td>\n",
       "      <td>0.0</td>\n",
       "    </tr>\n",
       "    <tr>\n",
       "      <th>688</th>\n",
       "      <td>40.0</td>\n",
       "      <td>Sage X3 General Discussion</td>\n",
       "      <td>Automatic and Manual Matching based on Pay By BP</td>\n",
       "      <td>2019-10-24T06:19:46.603</td>\n",
       "      <td>Vineeth</td>\n",
       "      <td>Hai,\\n\\nCurrently Manual Matching and Automati...</td>\n",
       "      <td>-0.2732</td>\n",
       "      <td>0.110</td>\n",
       "      <td>0.841</td>\n",
       "      <td>0.049</td>\n",
       "      <td>...</td>\n",
       "      <td>[[Hai, ,, Currently, Manual, Matching, and, Au...</td>\n",
       "      <td>[[(Hai, NNP), (,, ,), (Currently, NNP), (Manua...</td>\n",
       "      <td>[[Hai, ,, Currently, Manual, Matching, and, Au...</td>\n",
       "      <td>[hai, currently, manual, matching, automatic, ...</td>\n",
       "      <td>4.0</td>\n",
       "      <td>0.628714</td>\n",
       "      <td>0.0</td>\n",
       "      <td>0.370555</td>\n",
       "      <td>1.0</td>\n",
       "      <td>0.0</td>\n",
       "    </tr>\n",
       "    <tr>\n",
       "      <th>720</th>\n",
       "      <td>673.0</td>\n",
       "      <td>Sage X3 Announcements, News, and Alerts</td>\n",
       "      <td>Product Update 9.0 Syracuse Server 9.17 has be...</td>\n",
       "      <td>2019-10-24T16:34:04.713</td>\n",
       "      <td>pnightingale</td>\n",
       "      <td>To access this download, log into https://supp...</td>\n",
       "      <td>0.9359</td>\n",
       "      <td>0.000</td>\n",
       "      <td>0.898</td>\n",
       "      <td>0.102</td>\n",
       "      <td>...</td>\n",
       "      <td>[[To, access, this, download, ,, log, into, ht...</td>\n",
       "      <td>[[(To, TO), (access, NN), (this, DT), (downloa...</td>\n",
       "      <td>[[To, access, this, download, ,, log, into, ht...</td>\n",
       "      <td>[access, download, log, http, search, field, t...</td>\n",
       "      <td>4.0</td>\n",
       "      <td>0.997342</td>\n",
       "      <td>0.0</td>\n",
       "      <td>0.000000</td>\n",
       "      <td>1.0</td>\n",
       "      <td>0.0</td>\n",
       "    </tr>\n",
       "    <tr>\n",
       "      <th>908</th>\n",
       "      <td>40.0</td>\n",
       "      <td>Sage X3 General Discussion</td>\n",
       "      <td>Lot numbers created based on expiration date</td>\n",
       "      <td>2019-10-30T15:33:07.45</td>\n",
       "      <td>Martin.Bean.Tangerine.Software</td>\n",
       "      <td>Hello members,\\n \\nI'm looking for help on a s...</td>\n",
       "      <td>0.9748</td>\n",
       "      <td>0.000</td>\n",
       "      <td>0.846</td>\n",
       "      <td>0.154</td>\n",
       "      <td>...</td>\n",
       "      <td>[[Hello, members, ,, I, 'm, looking, for, help...</td>\n",
       "      <td>[[(Hello, NNP), (members, NNS), (,, ,), (I, PR...</td>\n",
       "      <td>[[Hello, member, ,, I, 'm, look, for, help, on...</td>\n",
       "      <td>[member, look, help, sequence, number, formula...</td>\n",
       "      <td>4.0</td>\n",
       "      <td>0.739255</td>\n",
       "      <td>1.0</td>\n",
       "      <td>0.258254</td>\n",
       "      <td>0.0</td>\n",
       "      <td>0.0</td>\n",
       "    </tr>\n",
       "    <tr>\n",
       "      <th>...</th>\n",
       "      <td>...</td>\n",
       "      <td>...</td>\n",
       "      <td>...</td>\n",
       "      <td>...</td>\n",
       "      <td>...</td>\n",
       "      <td>...</td>\n",
       "      <td>...</td>\n",
       "      <td>...</td>\n",
       "      <td>...</td>\n",
       "      <td>...</td>\n",
       "      <td>...</td>\n",
       "      <td>...</td>\n",
       "      <td>...</td>\n",
       "      <td>...</td>\n",
       "      <td>...</td>\n",
       "      <td>...</td>\n",
       "      <td>...</td>\n",
       "      <td>...</td>\n",
       "      <td>...</td>\n",
       "      <td>...</td>\n",
       "      <td>...</td>\n",
       "    </tr>\n",
       "    <tr>\n",
       "      <th>1069</th>\n",
       "      <td>NaN</td>\n",
       "      <td>NaN</td>\n",
       "      <td>NaN</td>\n",
       "      <td>NaN</td>\n",
       "      <td>NaN</td>\n",
       "      <td>NaN</td>\n",
       "      <td>NaN</td>\n",
       "      <td>NaN</td>\n",
       "      <td>NaN</td>\n",
       "      <td>NaN</td>\n",
       "      <td>...</td>\n",
       "      <td>NaN</td>\n",
       "      <td>NaN</td>\n",
       "      <td>NaN</td>\n",
       "      <td>NaN</td>\n",
       "      <td>4.0</td>\n",
       "      <td>0.747037</td>\n",
       "      <td>0.0</td>\n",
       "      <td>0.251094</td>\n",
       "      <td>1.0</td>\n",
       "      <td>0.0</td>\n",
       "    </tr>\n",
       "    <tr>\n",
       "      <th>1070</th>\n",
       "      <td>NaN</td>\n",
       "      <td>NaN</td>\n",
       "      <td>NaN</td>\n",
       "      <td>NaN</td>\n",
       "      <td>NaN</td>\n",
       "      <td>NaN</td>\n",
       "      <td>NaN</td>\n",
       "      <td>NaN</td>\n",
       "      <td>NaN</td>\n",
       "      <td>NaN</td>\n",
       "      <td>...</td>\n",
       "      <td>NaN</td>\n",
       "      <td>NaN</td>\n",
       "      <td>NaN</td>\n",
       "      <td>NaN</td>\n",
       "      <td>4.0</td>\n",
       "      <td>0.994326</td>\n",
       "      <td>0.0</td>\n",
       "      <td>0.000000</td>\n",
       "      <td>1.0</td>\n",
       "      <td>0.0</td>\n",
       "    </tr>\n",
       "    <tr>\n",
       "      <th>1076</th>\n",
       "      <td>NaN</td>\n",
       "      <td>NaN</td>\n",
       "      <td>NaN</td>\n",
       "      <td>NaN</td>\n",
       "      <td>NaN</td>\n",
       "      <td>NaN</td>\n",
       "      <td>NaN</td>\n",
       "      <td>NaN</td>\n",
       "      <td>NaN</td>\n",
       "      <td>NaN</td>\n",
       "      <td>...</td>\n",
       "      <td>NaN</td>\n",
       "      <td>NaN</td>\n",
       "      <td>NaN</td>\n",
       "      <td>NaN</td>\n",
       "      <td>4.0</td>\n",
       "      <td>0.593080</td>\n",
       "      <td>1.0</td>\n",
       "      <td>0.406064</td>\n",
       "      <td>0.0</td>\n",
       "      <td>0.0</td>\n",
       "    </tr>\n",
       "    <tr>\n",
       "      <th>1078</th>\n",
       "      <td>NaN</td>\n",
       "      <td>NaN</td>\n",
       "      <td>NaN</td>\n",
       "      <td>NaN</td>\n",
       "      <td>NaN</td>\n",
       "      <td>NaN</td>\n",
       "      <td>NaN</td>\n",
       "      <td>NaN</td>\n",
       "      <td>NaN</td>\n",
       "      <td>NaN</td>\n",
       "      <td>...</td>\n",
       "      <td>NaN</td>\n",
       "      <td>NaN</td>\n",
       "      <td>NaN</td>\n",
       "      <td>NaN</td>\n",
       "      <td>4.0</td>\n",
       "      <td>0.995579</td>\n",
       "      <td>0.0</td>\n",
       "      <td>0.000000</td>\n",
       "      <td>1.0</td>\n",
       "      <td>0.0</td>\n",
       "    </tr>\n",
       "    <tr>\n",
       "      <th>1079</th>\n",
       "      <td>NaN</td>\n",
       "      <td>NaN</td>\n",
       "      <td>NaN</td>\n",
       "      <td>NaN</td>\n",
       "      <td>NaN</td>\n",
       "      <td>NaN</td>\n",
       "      <td>NaN</td>\n",
       "      <td>NaN</td>\n",
       "      <td>NaN</td>\n",
       "      <td>NaN</td>\n",
       "      <td>...</td>\n",
       "      <td>NaN</td>\n",
       "      <td>NaN</td>\n",
       "      <td>NaN</td>\n",
       "      <td>NaN</td>\n",
       "      <td>4.0</td>\n",
       "      <td>0.994326</td>\n",
       "      <td>0.0</td>\n",
       "      <td>0.000000</td>\n",
       "      <td>1.0</td>\n",
       "      <td>0.0</td>\n",
       "    </tr>\n",
       "  </tbody>\n",
       "</table>\n",
       "<p>136 rows × 27 columns</p>\n",
       "</div>"
      ],
      "text/plain": [
       "      Forum ID                               Forum Name  \\\n",
       "499       40.0               Sage X3 General Discussion   \n",
       "624       40.0               Sage X3 General Discussion   \n",
       "688       40.0               Sage X3 General Discussion   \n",
       "720      673.0  Sage X3 Announcements, News, and Alerts   \n",
       "908       40.0               Sage X3 General Discussion   \n",
       "...        ...                                      ...   \n",
       "1069       NaN                                      NaN   \n",
       "1070       NaN                                      NaN   \n",
       "1076       NaN                                      NaN   \n",
       "1078       NaN                                      NaN   \n",
       "1079       NaN                                      NaN   \n",
       "\n",
       "                                                Subject  \\\n",
       "499                      Issues accessing Landing Pages   \n",
       "624   Sales Order With order details but Line Need t...   \n",
       "688    Automatic and Manual Matching based on Pay By BP   \n",
       "720   Product Update 9.0 Syracuse Server 9.17 has be...   \n",
       "908        Lot numbers created based on expiration date   \n",
       "...                                                 ...   \n",
       "1069                                                NaN   \n",
       "1070                                                NaN   \n",
       "1076                                                NaN   \n",
       "1078                                                NaN   \n",
       "1079                                                NaN   \n",
       "\n",
       "                    Post Date                User DisplayName  \\\n",
       "499   2019-10-21T09:43:33.513                         jsward9   \n",
       "624   2019-10-23T08:20:38.087                        abhiacap   \n",
       "688   2019-10-24T06:19:46.603                         Vineeth   \n",
       "720   2019-10-24T16:34:04.713                    pnightingale   \n",
       "908    2019-10-30T15:33:07.45  Martin.Bean.Tangerine.Software   \n",
       "...                       ...                             ...   \n",
       "1069                      NaN                             NaN   \n",
       "1070                      NaN                             NaN   \n",
       "1076                      NaN                             NaN   \n",
       "1078                      NaN                             NaN   \n",
       "1079                      NaN                             NaN   \n",
       "\n",
       "                                         Forum_Post_Raw  compound    neg  \\\n",
       "499   Has anyone had issues with new users ability t...   -0.3195  0.069   \n",
       "624   Hi Team,\\n\\nI want to create an advance sale r...    0.7750  0.000   \n",
       "688   Hai,\\n\\nCurrently Manual Matching and Automati...   -0.2732  0.110   \n",
       "720   To access this download, log into https://supp...    0.9359  0.000   \n",
       "908   Hello members,\\n \\nI'm looking for help on a s...    0.9748  0.000   \n",
       "...                                                 ...       ...    ...   \n",
       "1069                                                NaN       NaN    NaN   \n",
       "1070                                                NaN       NaN    NaN   \n",
       "1076                                                NaN       NaN    NaN   \n",
       "1078                                                NaN       NaN    NaN   \n",
       "1079                                                NaN       NaN    NaN   \n",
       "\n",
       "        neu    pos  ...                                   tokens_sentences  \\\n",
       "499   0.897  0.034  ...  [[Has, anyone, had, issues, with, new, users, ...   \n",
       "624   0.796  0.204  ...  [[Hi, Team, ,, I, want, to, create, an, advanc...   \n",
       "688   0.841  0.049  ...  [[Hai, ,, Currently, Manual, Matching, and, Au...   \n",
       "720   0.898  0.102  ...  [[To, access, this, download, ,, log, into, ht...   \n",
       "908   0.846  0.154  ...  [[Hello, members, ,, I, 'm, looking, for, help...   \n",
       "...     ...    ...  ...                                                ...   \n",
       "1069    NaN    NaN  ...                                                NaN   \n",
       "1070    NaN    NaN  ...                                                NaN   \n",
       "1076    NaN    NaN  ...                                                NaN   \n",
       "1078    NaN    NaN  ...                                                NaN   \n",
       "1079    NaN    NaN  ...                                                NaN   \n",
       "\n",
       "                                             POS_tokens  \\\n",
       "499   [[(Has, NNP), (anyone, NN), (had, VBD), (issue...   \n",
       "624   [[(Hi, NNP), (Team, NNP), (,, ,), (I, PRP), (w...   \n",
       "688   [[(Hai, NNP), (,, ,), (Currently, NNP), (Manua...   \n",
       "720   [[(To, TO), (access, NN), (this, DT), (downloa...   \n",
       "908   [[(Hello, NNP), (members, NNS), (,, ,), (I, PR...   \n",
       "...                                                 ...   \n",
       "1069                                                NaN   \n",
       "1070                                                NaN   \n",
       "1076                                                NaN   \n",
       "1078                                                NaN   \n",
       "1079                                                NaN   \n",
       "\n",
       "                            tokens_sentences_lemmatized  \\\n",
       "499   [[Has, anyone, have, issue, with, new, user, a...   \n",
       "624   [[Hi, Team, ,, I, want, to, create, an, advanc...   \n",
       "688   [[Hai, ,, Currently, Manual, Matching, and, Au...   \n",
       "720   [[To, access, this, download, ,, log, into, ht...   \n",
       "908   [[Hello, member, ,, I, 'm, look, for, help, on...   \n",
       "...                                                 ...   \n",
       "1069                                                NaN   \n",
       "1070                                                NaN   \n",
       "1076                                                NaN   \n",
       "1078                                                NaN   \n",
       "1079                                                NaN   \n",
       "\n",
       "                                                 tokens topic0 topic0_pct  \\\n",
       "499   [anyone, issue, new, user, ability, landing, p...    4.0   0.999131   \n",
       "624   [team, create, advance, sale, replacement, abl...    4.0   0.995031   \n",
       "688   [hai, currently, manual, matching, automatic, ...    4.0   0.628714   \n",
       "720   [access, download, log, http, search, field, t...    4.0   0.997342   \n",
       "908   [member, look, help, sequence, number, formula...    4.0   0.739255   \n",
       "...                                                 ...    ...        ...   \n",
       "1069                                                NaN    4.0   0.747037   \n",
       "1070                                                NaN    4.0   0.994326   \n",
       "1076                                                NaN    4.0   0.593080   \n",
       "1078                                                NaN    4.0   0.995579   \n",
       "1079                                                NaN    4.0   0.994326   \n",
       "\n",
       "     topic1 topic1_pct topic2 topic2_pct  \n",
       "499     0.0   0.000000    1.0        0.0  \n",
       "624     0.0   0.000000    1.0        0.0  \n",
       "688     0.0   0.370555    1.0        0.0  \n",
       "720     0.0   0.000000    1.0        0.0  \n",
       "908     1.0   0.258254    0.0        0.0  \n",
       "...     ...        ...    ...        ...  \n",
       "1069    0.0   0.251094    1.0        0.0  \n",
       "1070    0.0   0.000000    1.0        0.0  \n",
       "1076    1.0   0.406064    0.0        0.0  \n",
       "1078    0.0   0.000000    1.0        0.0  \n",
       "1079    0.0   0.000000    1.0        0.0  \n",
       "\n",
       "[136 rows x 27 columns]"
      ]
     },
     "execution_count": 165,
     "metadata": {},
     "output_type": "execute_result"
    }
   ],
   "source": [
    "dfLDA[dfLDA['topic0']==4]"
   ]
  },
  {
   "cell_type": "code",
   "execution_count": 168,
   "metadata": {},
   "outputs": [
    {
     "name": "stdout",
     "output_type": "stream",
     "text": [
      "Is the online help data model correct for V12? The files show v6..... \n",
      "\n",
      "\n",
      "I am trying to make the Company Name field on a screen Capitals/Upper Case only.\n",
      "There is an Option column on the Screen dictionary that contains Capitals (selection A). When I set it to A and validate the CPYNAM field, it will covert any text entered as Lower case into Upper case.\n",
      "\n",
      "\n",
      "\n",
      "It however does not allow you to enter a space or characters in the field.\n",
      "\n",
      "Is there a combination of Options that I have to choose together with the A, in order for the field to allow spaces and characters?\n",
      "I have tried a few from the available Option list but without any success. \n",
      "\n",
      "\n",
      "I have a left list with a value which is from a misc table.  I want to also display the description for that value.  I added the link to ATEXTRA in the environment tab, as shown below.\n",
      "\n",
      "I then added the TEXTE field to the left list selection, as shown below.\n",
      "\n",
      "I revalidated the object, and I am getting blank values for the description.  I also queried the ATEXTRA table directly in SQL to confirm that there is a description available.\n",
      "Does anybody know what I am doing wrong? \n",
      "\n",
      "\n",
      "To access this download, log into https://support.na.sage.com/ and in the search field type 101369. Click Search.\n",
      "\n",
      "For a complete list of available Sage X3 full-product downloads and patch updates, see the Sage X3 Download Portal. To access the Sage X3 Download Portal, go to https://support.na.sage.com/, enter your Log on credentials (in upper right corner), and type 23522 in the Search field. Click Search. \n",
      "Important: If you use third-party products that integrate with Sage X3 or ISVs, check with the vendor of your third-party product to ensure their product is fully compatible with this release. If you integrate with other Sage products, check with your business partner or Sage to ensure that these components are compatible. \n",
      "It is highly recommended that you work with a certified partner or Sage Professional Services to install this patch.  \n",
      "Need more help? Visit ourâ€¯Sage City Customer Resourcesâ€¯page for additional resources, including links to support options like Online Case submission, the Sage Knowledgebase, Sage University, and more. \n",
      " \n",
      "\n",
      "\n",
      "Good day,\n",
      "Has any one ever worked with the Sage Mobile App in conjunction with ADC functionality in using the device camera as a scanner? \n",
      "Any advice or documents will be highly appreciated. \n",
      "Thanks \n",
      "\n",
      "\n",
      "Hi All\n",
      "While printing standard reports we faced an error as \"print selection didn't return any document\" even after providing correct values. Thanks in advance. \n",
      "\n",
      "\n",
      "\n",
      "Hello, \n",
      "I'm working on a new install of V12, and I remember from Sage Sessions several people telling me that the new Best Practice is to put a processing runtime on the DBMS server.  That it would speed up batch processes exponentially. Can anyone confirm this?  If so, should it be the main runtime?  Seems like a lot for one VM, but I've been mistaken often before.   reverse phone lookup nba reddit pcpartpicker\n",
      "\n",
      "Also, does anyone have any good migration steps for upgrading V11 to V12 by copying the folder from the V11 environment to a separate V12 environment? \n",
      "\n",
      "\n",
      "\n",
      "\n",
      "\n",
      "\n",
      " \n",
      "\n",
      "\n",
      "nan \n",
      "\n",
      "\n",
      "nan \n",
      "\n",
      "\n",
      "nan \n",
      "\n",
      "\n",
      "nan \n",
      "\n",
      "\n",
      "nan \n",
      "\n",
      "\n",
      "nan \n",
      "\n",
      "\n",
      "nan \n",
      "\n",
      "\n",
      "nan \n",
      "\n",
      "\n",
      "nan \n",
      "\n",
      "\n",
      "nan \n",
      "\n",
      "\n",
      "nan \n",
      "\n",
      "\n",
      "nan \n",
      "\n",
      "\n",
      "nan \n",
      "\n",
      "\n",
      "nan \n",
      "\n",
      "\n",
      "nan \n",
      "\n",
      "\n",
      "nan \n",
      "\n",
      "\n",
      "nan \n",
      "\n",
      "\n",
      "nan \n",
      "\n",
      "\n",
      "nan \n",
      "\n",
      "\n",
      "nan \n",
      "\n",
      "\n",
      "nan \n",
      "\n",
      "\n",
      "nan \n",
      "\n",
      "\n",
      "nan \n",
      "\n",
      "\n",
      "nan \n",
      "\n",
      "\n",
      "nan \n",
      "\n",
      "\n",
      "nan \n",
      "\n",
      "\n",
      "nan \n",
      "\n",
      "\n",
      "nan \n",
      "\n",
      "\n",
      "nan \n",
      "\n",
      "\n",
      "nan \n",
      "\n",
      "\n",
      "nan \n",
      "\n",
      "\n",
      "nan \n",
      "\n",
      "\n",
      "nan \n",
      "\n",
      "\n",
      "nan \n",
      "\n",
      "\n",
      "nan \n",
      "\n",
      "\n",
      "nan \n",
      "\n",
      "\n",
      "nan \n",
      "\n",
      "\n",
      "nan \n",
      "\n",
      "\n",
      "nan \n",
      "\n",
      "\n",
      "nan \n",
      "\n",
      "\n",
      "nan \n",
      "\n",
      "\n",
      "nan \n",
      "\n",
      "\n",
      "nan \n",
      "\n",
      "\n",
      "nan \n",
      "\n",
      "\n",
      "nan \n",
      "\n",
      "\n",
      "nan \n",
      "\n",
      "\n",
      "nan \n",
      "\n",
      "\n",
      "nan \n",
      "\n",
      "\n",
      "nan \n",
      "\n",
      "\n",
      "nan \n",
      "\n",
      "\n",
      "nan \n",
      "\n",
      "\n",
      "nan \n",
      "\n",
      "\n",
      "nan \n",
      "\n",
      "\n",
      "nan \n",
      "\n",
      "\n",
      "nan \n",
      "\n",
      "\n",
      "nan \n",
      "\n",
      "\n",
      "nan \n",
      "\n",
      "\n",
      "nan \n",
      "\n",
      "\n",
      "nan \n",
      "\n",
      "\n",
      "nan \n",
      "\n",
      "\n",
      "nan \n",
      "\n",
      "\n",
      "nan \n",
      "\n",
      "\n",
      "nan \n",
      "\n",
      "\n",
      "nan \n",
      "\n",
      "\n",
      "nan \n",
      "\n",
      "\n",
      "nan \n",
      "\n",
      "\n",
      "nan \n",
      "\n",
      "\n",
      "nan \n",
      "\n",
      "\n",
      "nan \n",
      "\n",
      "\n",
      "nan \n",
      "\n",
      "\n",
      "nan \n",
      "\n",
      "\n",
      "nan \n",
      "\n",
      "\n",
      "nan \n",
      "\n",
      "\n",
      "nan \n",
      "\n",
      "\n",
      "nan \n",
      "\n",
      "\n",
      "nan \n",
      "\n",
      "\n",
      "nan \n",
      "\n",
      "\n",
      "nan \n",
      "\n",
      "\n",
      "nan \n",
      "\n",
      "\n",
      "nan \n",
      "\n",
      "\n",
      "nan \n",
      "\n",
      "\n",
      "nan \n",
      "\n",
      "\n",
      "nan \n",
      "\n",
      "\n",
      "nan \n",
      "\n",
      "\n",
      "nan \n",
      "\n",
      "\n",
      "nan \n",
      "\n",
      "\n",
      "nan \n",
      "\n",
      "\n",
      "nan \n",
      "\n",
      "\n",
      "nan \n",
      "\n",
      "\n",
      "nan \n",
      "\n",
      "\n",
      "nan \n",
      "\n",
      "\n",
      "nan \n",
      "\n",
      "\n",
      "nan \n",
      "\n",
      "\n",
      "nan \n",
      "\n",
      "\n",
      "nan \n",
      "\n",
      "\n",
      "nan \n",
      "\n",
      "\n",
      "nan \n",
      "\n",
      "\n",
      "nan \n",
      "\n",
      "\n",
      "nan \n",
      "\n",
      "\n",
      "nan \n",
      "\n",
      "\n",
      "nan \n",
      "\n",
      "\n",
      "nan \n",
      "\n",
      "\n",
      "nan \n",
      "\n",
      "\n",
      "nan \n",
      "\n",
      "\n",
      "nan \n",
      "\n",
      "\n",
      "nan \n",
      "\n",
      "\n",
      "nan \n",
      "\n",
      "\n",
      "nan \n",
      "\n",
      "\n",
      "nan \n",
      "\n",
      "\n",
      "nan \n",
      "\n",
      "\n",
      "nan \n",
      "\n",
      "\n",
      "nan \n",
      "\n",
      "\n",
      "nan \n",
      "\n",
      "\n",
      "nan \n",
      "\n",
      "\n",
      "nan \n",
      "\n",
      "\n",
      "nan \n",
      "\n",
      "\n",
      "nan \n",
      "\n",
      "\n",
      "nan \n",
      "\n",
      "\n",
      "nan \n",
      "\n",
      "\n",
      "nan \n",
      "\n",
      "\n",
      "nan \n",
      "\n",
      "\n",
      "nan \n",
      "\n",
      "\n",
      "nan \n",
      "\n",
      "\n",
      "nan \n",
      "\n",
      "\n",
      "nan \n",
      "\n",
      "\n",
      "nan \n",
      "\n",
      "\n",
      "nan \n",
      "\n",
      "\n",
      "nan \n",
      "\n",
      "\n",
      "nan \n",
      "\n",
      "\n",
      "nan \n",
      "\n",
      "\n",
      "nan \n",
      "\n",
      "\n",
      "nan \n",
      "\n",
      "\n",
      "nan \n",
      "\n",
      "\n",
      "nan \n",
      "\n",
      "\n",
      "nan \n",
      "\n",
      "\n",
      "nan \n",
      "\n",
      "\n",
      "nan \n",
      "\n",
      "\n",
      "nan \n",
      "\n",
      "\n",
      "nan \n",
      "\n",
      "\n",
      "nan \n",
      "\n",
      "\n",
      "nan \n",
      "\n",
      "\n",
      "nan \n",
      "\n",
      "\n",
      "nan \n",
      "\n",
      "\n",
      "nan \n",
      "\n",
      "\n",
      "nan \n",
      "\n",
      "\n",
      "nan \n",
      "\n",
      "\n",
      "nan \n",
      "\n",
      "\n",
      "nan \n",
      "\n",
      "\n",
      "nan \n",
      "\n",
      "\n",
      "nan \n",
      "\n",
      "\n",
      "nan \n",
      "\n",
      "\n",
      "nan \n",
      "\n",
      "\n",
      "nan \n",
      "\n",
      "\n",
      "nan \n",
      "\n",
      "\n",
      "nan \n",
      "\n",
      "\n",
      "nan \n",
      "\n",
      "\n",
      "nan \n",
      "\n",
      "\n",
      "nan \n",
      "\n",
      "\n",
      "nan \n",
      "\n",
      "\n",
      "nan \n",
      "\n",
      "\n",
      "nan \n",
      "\n",
      "\n",
      "nan \n",
      "\n",
      "\n",
      "nan \n",
      "\n",
      "\n",
      "nan \n",
      "\n",
      "\n",
      "nan \n",
      "\n",
      "\n",
      "nan \n",
      "\n",
      "\n",
      "nan \n",
      "\n",
      "\n",
      "nan \n",
      "\n",
      "\n",
      "nan \n",
      "\n",
      "\n",
      "nan \n",
      "\n",
      "\n",
      "nan \n",
      "\n",
      "\n",
      "nan \n",
      "\n",
      "\n",
      "nan \n",
      "\n",
      "\n",
      "nan \n",
      "\n",
      "\n",
      "nan \n",
      "\n",
      "\n",
      "nan \n",
      "\n",
      "\n",
      "nan \n",
      "\n",
      "\n",
      "nan \n",
      "\n",
      "\n",
      "nan \n",
      "\n",
      "\n",
      "nan \n",
      "\n",
      "\n",
      "nan \n",
      "\n",
      "\n",
      "nan \n",
      "\n",
      "\n",
      "nan \n",
      "\n",
      "\n",
      "nan \n",
      "\n",
      "\n",
      "nan \n",
      "\n",
      "\n",
      "nan \n",
      "\n",
      "\n",
      "nan \n",
      "\n",
      "\n",
      "nan \n",
      "\n",
      "\n",
      "nan \n",
      "\n",
      "\n",
      "nan \n",
      "\n",
      "\n",
      "nan \n",
      "\n",
      "\n",
      "nan \n",
      "\n",
      "\n",
      "nan \n",
      "\n",
      "\n",
      "nan \n",
      "\n",
      "\n",
      "nan \n",
      "\n",
      "\n",
      "nan \n",
      "\n",
      "\n",
      "nan \n",
      "\n",
      "\n",
      "nan \n",
      "\n",
      "\n",
      "nan \n",
      "\n",
      "\n",
      "nan \n",
      "\n",
      "\n",
      "nan \n",
      "\n",
      "\n",
      "nan \n",
      "\n",
      "\n",
      "nan \n",
      "\n",
      "\n",
      "nan \n",
      "\n",
      "\n",
      "nan \n",
      "\n",
      "\n",
      "nan \n",
      "\n",
      "\n",
      "nan \n",
      "\n",
      "\n",
      "nan \n",
      "\n",
      "\n",
      "nan \n",
      "\n",
      "\n",
      "nan \n",
      "\n",
      "\n",
      "nan \n",
      "\n",
      "\n",
      "nan \n",
      "\n",
      "\n",
      "nan \n",
      "\n",
      "\n",
      "nan \n",
      "\n",
      "\n",
      "nan \n",
      "\n",
      "\n",
      "nan \n",
      "\n",
      "\n",
      "nan \n",
      "\n",
      "\n",
      "nan \n",
      "\n",
      "\n",
      "nan \n",
      "\n",
      "\n",
      "nan \n",
      "\n",
      "\n",
      "nan \n",
      "\n",
      "\n",
      "nan \n",
      "\n",
      "\n",
      "nan \n",
      "\n",
      "\n",
      "nan \n",
      "\n",
      "\n",
      "nan \n",
      "\n",
      "\n",
      "nan \n",
      "\n",
      "\n",
      "nan \n",
      "\n",
      "\n",
      "nan \n",
      "\n",
      "\n",
      "nan \n",
      "\n",
      "\n",
      "nan \n",
      "\n",
      "\n",
      "nan \n",
      "\n",
      "\n",
      "nan \n",
      "\n",
      "\n",
      "nan \n",
      "\n",
      "\n",
      "nan \n",
      "\n",
      "\n",
      "nan \n",
      "\n",
      "\n",
      "nan \n",
      "\n",
      "\n",
      "nan \n",
      "\n",
      "\n",
      "nan \n",
      "\n",
      "\n",
      "nan \n",
      "\n",
      "\n",
      "nan \n",
      "\n",
      "\n",
      "nan \n",
      "\n",
      "\n",
      "nan \n",
      "\n",
      "\n",
      "nan \n",
      "\n",
      "\n",
      "nan \n",
      "\n",
      "\n",
      "nan \n",
      "\n",
      "\n",
      "nan \n",
      "\n",
      "\n",
      "nan \n",
      "\n",
      "\n",
      "nan \n",
      "\n",
      "\n",
      "nan \n",
      "\n",
      "\n",
      "nan \n",
      "\n",
      "\n",
      "nan \n",
      "\n",
      "\n",
      "nan \n",
      "\n",
      "\n",
      "nan \n",
      "\n",
      "\n",
      "nan \n",
      "\n",
      "\n",
      "nan \n",
      "\n",
      "\n",
      "nan \n",
      "\n",
      "\n",
      "nan \n",
      "\n",
      "\n",
      "nan \n",
      "\n",
      "\n",
      "nan \n",
      "\n",
      "\n",
      "nan \n",
      "\n",
      "\n",
      "nan \n",
      "\n",
      "\n",
      "nan \n",
      "\n",
      "\n",
      "nan \n",
      "\n",
      "\n",
      "nan \n",
      "\n",
      "\n",
      "nan \n",
      "\n",
      "\n",
      "nan \n",
      "\n",
      "\n",
      "nan \n",
      "\n",
      "\n",
      "nan \n",
      "\n",
      "\n",
      "nan \n",
      "\n",
      "\n",
      "nan \n",
      "\n",
      "\n",
      "nan \n",
      "\n",
      "\n",
      "nan \n",
      "\n",
      "\n",
      "nan \n",
      "\n",
      "\n",
      "nan \n",
      "\n",
      "\n",
      "nan \n",
      "\n",
      "\n",
      "nan \n",
      "\n",
      "\n",
      "nan \n",
      "\n",
      "\n",
      "nan \n",
      "\n",
      "\n",
      "nan \n",
      "\n",
      "\n",
      "nan \n",
      "\n",
      "\n",
      "nan \n",
      "\n",
      "\n",
      "nan \n",
      "\n",
      "\n",
      "nan \n",
      "\n",
      "\n",
      "nan \n",
      "\n",
      "\n",
      "nan \n",
      "\n",
      "\n",
      "nan \n",
      "\n",
      "\n",
      "nan \n",
      "\n",
      "\n",
      "nan \n",
      "\n",
      "\n",
      "nan \n",
      "\n",
      "\n",
      "nan \n",
      "\n",
      "\n"
     ]
    },
    {
     "name": "stderr",
     "output_type": "stream",
     "text": [
      "C:\\Users\\BDelamater\\Anaconda3\\lib\\site-packages\\ipykernel\\ipkernel.py:287: DeprecationWarning:\n",
      "\n",
      "`should_run_async` will not call `transform_cell` automatically in the future. Please pass the result to `transformed_cell` argument and any exception that happen during thetransform in `preprocessing_exc_tuple` in IPython 7.17 and above.\n",
      "\n"
     ]
    },
    {
     "data": {
      "text/plain": [
       "126     None\n",
       "188     None\n",
       "343     None\n",
       "467     None\n",
       "561     None\n",
       "        ... \n",
       "1060    None\n",
       "1073    None\n",
       "1075    None\n",
       "1081    None\n",
       "1085    None\n",
       "Name: Forum_Post_Raw, Length: 297, dtype: object"
      ]
     },
     "execution_count": 168,
     "metadata": {},
     "output_type": "execute_result"
    }
   ],
   "source": [
    "dfLDA[dfLDA['topic0']==3].Forum_Post_Raw.apply(lambda t: print(t, '\\n\\n'))"
   ]
  },
  {
   "cell_type": "code",
   "execution_count": null,
   "metadata": {},
   "outputs": [],
   "source": []
  }
 ],
 "metadata": {
  "interpreter": {
   "hash": "6a17a13407a242fa5e52f5f0d84ee969a8e600591a999235f1645da9e037e8a0"
  },
  "kernelspec": {
   "display_name": "Python 3",
   "language": "python",
   "name": "python3"
  },
  "language_info": {
   "codemirror_mode": {
    "name": "ipython",
    "version": 3
   },
   "file_extension": ".py",
   "mimetype": "text/x-python",
   "name": "python",
   "nbconvert_exporter": "python",
   "pygments_lexer": "ipython3",
   "version": "3.8.8"
  }
 },
 "nbformat": 4,
 "nbformat_minor": 2
}
