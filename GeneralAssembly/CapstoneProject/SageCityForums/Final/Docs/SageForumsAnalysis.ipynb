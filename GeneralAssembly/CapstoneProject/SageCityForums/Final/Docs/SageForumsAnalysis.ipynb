{
 "cells": [
  {
   "cell_type": "markdown",
   "metadata": {},
   "source": [
    "# Read Sage City Forum Data And Output Topics"
   ]
  },
  {
   "cell_type": "markdown",
   "metadata": {},
   "source": [
    "## Requirements Setup"
   ]
  },
  {
   "cell_type": "code",
   "execution_count": 1,
   "metadata": {},
   "outputs": [
    {
     "name": "stdout",
     "output_type": "stream",
     "text": [
      "Requirement already satisfied: lxml in c:\\users\\bdelamater\\anaconda3\\lib\\site-packages (4.6.3)\n",
      "Requirement already satisfied: nltk in c:\\users\\bdelamater\\anaconda3\\lib\\site-packages (3.6.1)\n",
      "Requirement already satisfied: joblib in c:\\users\\bdelamater\\anaconda3\\lib\\site-packages (from nltk) (1.0.1)\n",
      "Requirement already satisfied: tqdm in c:\\users\\bdelamater\\anaconda3\\lib\\site-packages (from nltk) (4.59.0)\n",
      "Requirement already satisfied: regex in c:\\users\\bdelamater\\anaconda3\\lib\\site-packages (from nltk) (2021.4.4)\n",
      "Requirement already satisfied: click in c:\\users\\bdelamater\\anaconda3\\lib\\site-packages (from nltk) (7.1.2)\n",
      "Requirement already satisfied: seaborn in c:\\users\\bdelamater\\anaconda3\\lib\\site-packages (0.11.1)\n",
      "Requirement already satisfied: scipy>=1.0 in c:\\users\\bdelamater\\anaconda3\\lib\\site-packages (from seaborn) (1.6.2)\n",
      "Requirement already satisfied: matplotlib>=2.2 in c:\\users\\bdelamater\\anaconda3\\lib\\site-packages (from seaborn) (3.4.2)\n",
      "Requirement already satisfied: pandas>=0.23 in c:\\users\\bdelamater\\anaconda3\\lib\\site-packages (from seaborn) (1.2.4)\n",
      "Requirement already satisfied: numpy>=1.15 in c:\\users\\bdelamater\\anaconda3\\lib\\site-packages (from seaborn) (1.20.1)\n",
      "Requirement already satisfied: cycler>=0.10 in c:\\users\\bdelamater\\anaconda3\\lib\\site-packages (from matplotlib>=2.2->seaborn) (0.10.0)\n",
      "Requirement already satisfied: python-dateutil>=2.7 in c:\\users\\bdelamater\\anaconda3\\lib\\site-packages (from matplotlib>=2.2->seaborn) (2.8.1)\n",
      "Requirement already satisfied: pillow>=6.2.0 in c:\\users\\bdelamater\\anaconda3\\lib\\site-packages (from matplotlib>=2.2->seaborn) (8.2.0)\n",
      "Requirement already satisfied: pyparsing>=2.2.1 in c:\\users\\bdelamater\\anaconda3\\lib\\site-packages (from matplotlib>=2.2->seaborn) (2.4.7)\n",
      "Requirement already satisfied: kiwisolver>=1.0.1 in c:\\users\\bdelamater\\anaconda3\\lib\\site-packages (from matplotlib>=2.2->seaborn) (1.3.1)\n",
      "Requirement already satisfied: six in c:\\users\\bdelamater\\anaconda3\\lib\\site-packages (from cycler>=0.10->matplotlib>=2.2->seaborn) (1.15.0)\n",
      "Requirement already satisfied: pytz>=2017.3 in c:\\users\\bdelamater\\anaconda3\\lib\\site-packages (from pandas>=0.23->seaborn) (2021.1)\n",
      "Requirement already satisfied: textblob in c:\\users\\bdelamater\\anaconda3\\lib\\site-packages (0.15.3)\n",
      "Requirement already satisfied: nltk>=3.1 in c:\\users\\bdelamater\\anaconda3\\lib\\site-packages (from textblob) (3.6.1)\n",
      "Requirement already satisfied: click in c:\\users\\bdelamater\\anaconda3\\lib\\site-packages (from nltk>=3.1->textblob) (7.1.2)\n",
      "Requirement already satisfied: regex in c:\\users\\bdelamater\\anaconda3\\lib\\site-packages (from nltk>=3.1->textblob) (2021.4.4)\n",
      "Requirement already satisfied: tqdm in c:\\users\\bdelamater\\anaconda3\\lib\\site-packages (from nltk>=3.1->textblob) (4.59.0)\n",
      "Requirement already satisfied: joblib in c:\\users\\bdelamater\\anaconda3\\lib\\site-packages (from nltk>=3.1->textblob) (1.0.1)\n",
      "Requirement already satisfied: bs4 in c:\\users\\bdelamater\\anaconda3\\lib\\site-packages (0.0.1)\n",
      "Requirement already satisfied: beautifulsoup4 in c:\\users\\bdelamater\\anaconda3\\lib\\site-packages (from bs4) (4.9.3)\n",
      "Requirement already satisfied: soupsieve>1.2 in c:\\users\\bdelamater\\anaconda3\\lib\\site-packages (from beautifulsoup4->bs4) (2.2.1)\n",
      "Requirement already satisfied: xlrd in c:\\users\\bdelamater\\anaconda3\\lib\\site-packages (2.0.1)\n",
      "Requirement already satisfied: openpyxl in c:\\users\\bdelamater\\anaconda3\\lib\\site-packages (3.0.7)\n",
      "Requirement already satisfied: et-xmlfile in c:\\users\\bdelamater\\anaconda3\\lib\\site-packages (from openpyxl) (1.0.1)\n",
      "Requirement already satisfied: nbformat in c:\\users\\bdelamater\\anaconda3\\lib\\site-packages (5.1.3)\n",
      "Requirement already satisfied: ipython-genutils in c:\\users\\bdelamater\\anaconda3\\lib\\site-packages (from nbformat) (0.2.0)\n",
      "Requirement already satisfied: jupyter-core in c:\\users\\bdelamater\\anaconda3\\lib\\site-packages (from nbformat) (4.7.1)\n",
      "Requirement already satisfied: jsonschema!=2.5.0,>=2.4 in c:\\users\\bdelamater\\anaconda3\\lib\\site-packages (from nbformat) (3.2.0)\n",
      "Requirement already satisfied: traitlets>=4.1 in c:\\users\\bdelamater\\anaconda3\\lib\\site-packages (from nbformat) (5.0.5)\n",
      "Requirement already satisfied: attrs>=17.4.0 in c:\\users\\bdelamater\\anaconda3\\lib\\site-packages (from jsonschema!=2.5.0,>=2.4->nbformat) (20.3.0)\n",
      "Requirement already satisfied: setuptools in c:\\users\\bdelamater\\anaconda3\\lib\\site-packages (from jsonschema!=2.5.0,>=2.4->nbformat) (52.0.0.post20210125)\n",
      "Requirement already satisfied: pyrsistent>=0.14.0 in c:\\users\\bdelamater\\anaconda3\\lib\\site-packages (from jsonschema!=2.5.0,>=2.4->nbformat) (0.17.3)\n",
      "Requirement already satisfied: six>=1.11.0 in c:\\users\\bdelamater\\anaconda3\\lib\\site-packages (from jsonschema!=2.5.0,>=2.4->nbformat) (1.15.0)\n",
      "Requirement already satisfied: pywin32>=1.0 in c:\\users\\bdelamater\\anaconda3\\lib\\site-packages (from jupyter-core->nbformat) (227)\n",
      "Requirement already satisfied: gensim in c:\\users\\bdelamater\\anaconda3\\lib\\site-packages (4.0.1)\n",
      "Requirement already satisfied: smart-open>=1.8.1 in c:\\users\\bdelamater\\anaconda3\\lib\\site-packages (from gensim) (5.1.0)\n",
      "Requirement already satisfied: Cython==0.29.21 in c:\\users\\bdelamater\\anaconda3\\lib\\site-packages (from gensim) (0.29.21)\n",
      "Requirement already satisfied: scipy>=0.18.1 in c:\\users\\bdelamater\\anaconda3\\lib\\site-packages (from gensim) (1.6.2)\n",
      "Requirement already satisfied: numpy>=1.11.3 in c:\\users\\bdelamater\\anaconda3\\lib\\site-packages (from gensim) (1.20.1)\n",
      "Requirement already satisfied: langdetect in c:\\users\\bdelamater\\anaconda3\\lib\\site-packages (1.0.9)\n",
      "Requirement already satisfied: six in c:\\users\\bdelamater\\anaconda3\\lib\\site-packages (from langdetect) (1.15.0)\n",
      "Requirement already satisfied: ipywidgets in c:\\users\\bdelamater\\anaconda3\\lib\\site-packages (7.6.3)\n",
      "Requirement already satisfied: ipython>=4.0.0 in c:\\users\\bdelamater\\anaconda3\\lib\\site-packages (from ipywidgets) (7.22.0)\n",
      "Requirement already satisfied: ipykernel>=4.5.1 in c:\\users\\bdelamater\\anaconda3\\lib\\site-packages (from ipywidgets) (5.3.4)\n",
      "Requirement already satisfied: nbformat>=4.2.0 in c:\\users\\bdelamater\\anaconda3\\lib\\site-packages (from ipywidgets) (5.1.3)\n",
      "Requirement already satisfied: jupyterlab-widgets>=1.0.0 in c:\\users\\bdelamater\\anaconda3\\lib\\site-packages (from ipywidgets) (1.0.0)\n",
      "Requirement already satisfied: widgetsnbextension~=3.5.0 in c:\\users\\bdelamater\\anaconda3\\lib\\site-packages (from ipywidgets) (3.5.1)\n",
      "Requirement already satisfied: traitlets>=4.3.1 in c:\\users\\bdelamater\\anaconda3\\lib\\site-packages (from ipywidgets) (5.0.5)\n",
      "Requirement already satisfied: jupyter-client in c:\\users\\bdelamater\\anaconda3\\lib\\site-packages (from ipykernel>=4.5.1->ipywidgets) (6.1.12)\n",
      "Requirement already satisfied: tornado>=4.2 in c:\\users\\bdelamater\\anaconda3\\lib\\site-packages (from ipykernel>=4.5.1->ipywidgets) (6.1)\n",
      "Requirement already satisfied: prompt-toolkit!=3.0.0,!=3.0.1,<3.1.0,>=2.0.0 in c:\\users\\bdelamater\\anaconda3\\lib\\site-packages (from ipython>=4.0.0->ipywidgets) (3.0.17)\n",
      "Requirement already satisfied: jedi>=0.16 in c:\\users\\bdelamater\\anaconda3\\lib\\site-packages (from ipython>=4.0.0->ipywidgets) (0.17.2)\n",
      "Requirement already satisfied: pygments in c:\\users\\bdelamater\\anaconda3\\lib\\site-packages (from ipython>=4.0.0->ipywidgets) (2.8.1)\n",
      "Requirement already satisfied: decorator in c:\\users\\bdelamater\\anaconda3\\lib\\site-packages (from ipython>=4.0.0->ipywidgets) (5.0.6)\n",
      "Requirement already satisfied: setuptools>=18.5 in c:\\users\\bdelamater\\anaconda3\\lib\\site-packages (from ipython>=4.0.0->ipywidgets) (52.0.0.post20210125)\n",
      "Requirement already satisfied: backcall in c:\\users\\bdelamater\\anaconda3\\lib\\site-packages (from ipython>=4.0.0->ipywidgets) (0.2.0)\n",
      "Requirement already satisfied: colorama in c:\\users\\bdelamater\\anaconda3\\lib\\site-packages (from ipython>=4.0.0->ipywidgets) (0.4.4)\n",
      "Requirement already satisfied: pickleshare in c:\\users\\bdelamater\\anaconda3\\lib\\site-packages (from ipython>=4.0.0->ipywidgets) (0.7.5)\n",
      "Requirement already satisfied: parso<0.8.0,>=0.7.0 in c:\\users\\bdelamater\\anaconda3\\lib\\site-packages (from jedi>=0.16->ipython>=4.0.0->ipywidgets) (0.7.0)\n",
      "Requirement already satisfied: jupyter-core in c:\\users\\bdelamater\\anaconda3\\lib\\site-packages (from nbformat>=4.2.0->ipywidgets) (4.7.1)\n",
      "Requirement already satisfied: jsonschema!=2.5.0,>=2.4 in c:\\users\\bdelamater\\anaconda3\\lib\\site-packages (from nbformat>=4.2.0->ipywidgets) (3.2.0)\n",
      "Requirement already satisfied: ipython-genutils in c:\\users\\bdelamater\\anaconda3\\lib\\site-packages (from nbformat>=4.2.0->ipywidgets) (0.2.0)\n",
      "Requirement already satisfied: attrs>=17.4.0 in c:\\users\\bdelamater\\anaconda3\\lib\\site-packages (from jsonschema!=2.5.0,>=2.4->nbformat>=4.2.0->ipywidgets) (20.3.0)\n",
      "Requirement already satisfied: six>=1.11.0 in c:\\users\\bdelamater\\anaconda3\\lib\\site-packages (from jsonschema!=2.5.0,>=2.4->nbformat>=4.2.0->ipywidgets) (1.15.0)\n",
      "Requirement already satisfied: pyrsistent>=0.14.0 in c:\\users\\bdelamater\\anaconda3\\lib\\site-packages (from jsonschema!=2.5.0,>=2.4->nbformat>=4.2.0->ipywidgets) (0.17.3)\n",
      "Requirement already satisfied: wcwidth in c:\\users\\bdelamater\\anaconda3\\lib\\site-packages (from prompt-toolkit!=3.0.0,!=3.0.1,<3.1.0,>=2.0.0->ipython>=4.0.0->ipywidgets) (0.2.5)\n",
      "Requirement already satisfied: notebook>=4.4.1 in c:\\users\\bdelamater\\anaconda3\\lib\\site-packages (from widgetsnbextension~=3.5.0->ipywidgets) (6.3.0)\n",
      "Requirement already satisfied: Send2Trash>=1.5.0 in c:\\users\\bdelamater\\anaconda3\\lib\\site-packages (from notebook>=4.4.1->widgetsnbextension~=3.5.0->ipywidgets) (1.5.0)\n",
      "Requirement already satisfied: prometheus-client in c:\\users\\bdelamater\\anaconda3\\lib\\site-packages (from notebook>=4.4.1->widgetsnbextension~=3.5.0->ipywidgets) (0.10.1)\n",
      "Requirement already satisfied: terminado>=0.8.3 in c:\\users\\bdelamater\\anaconda3\\lib\\site-packages (from notebook>=4.4.1->widgetsnbextension~=3.5.0->ipywidgets) (0.9.4)\n",
      "Requirement already satisfied: jinja2 in c:\\users\\bdelamater\\anaconda3\\lib\\site-packages (from notebook>=4.4.1->widgetsnbextension~=3.5.0->ipywidgets) (2.11.3)\n",
      "Requirement already satisfied: pyzmq>=17 in c:\\users\\bdelamater\\anaconda3\\lib\\site-packages (from notebook>=4.4.1->widgetsnbextension~=3.5.0->ipywidgets) (20.0.0)\n",
      "Requirement already satisfied: nbconvert in c:\\users\\bdelamater\\anaconda3\\lib\\site-packages (from notebook>=4.4.1->widgetsnbextension~=3.5.0->ipywidgets) (6.0.7)\n",
      "Requirement already satisfied: argon2-cffi in c:\\users\\bdelamater\\anaconda3\\lib\\site-packages (from notebook>=4.4.1->widgetsnbextension~=3.5.0->ipywidgets) (20.1.0)\n",
      "Requirement already satisfied: python-dateutil>=2.1 in c:\\users\\bdelamater\\anaconda3\\lib\\site-packages (from jupyter-client->ipykernel>=4.5.1->ipywidgets) (2.8.1)\n",
      "Requirement already satisfied: pywin32>=1.0 in c:\\users\\bdelamater\\anaconda3\\lib\\site-packages (from jupyter-core->nbformat>=4.2.0->ipywidgets) (227)\n",
      "Requirement already satisfied: pywinpty>=0.5 in c:\\users\\bdelamater\\anaconda3\\lib\\site-packages (from terminado>=0.8.3->notebook>=4.4.1->widgetsnbextension~=3.5.0->ipywidgets) (0.5.7)\n",
      "Requirement already satisfied: cffi>=1.0.0 in c:\\users\\bdelamater\\anaconda3\\lib\\site-packages (from argon2-cffi->notebook>=4.4.1->widgetsnbextension~=3.5.0->ipywidgets) (1.14.5)\n",
      "Requirement already satisfied: pycparser in c:\\users\\bdelamater\\anaconda3\\lib\\site-packages (from cffi>=1.0.0->argon2-cffi->notebook>=4.4.1->widgetsnbextension~=3.5.0->ipywidgets) (2.20)\n",
      "Requirement already satisfied: MarkupSafe>=0.23 in c:\\users\\bdelamater\\anaconda3\\lib\\site-packages (from jinja2->notebook>=4.4.1->widgetsnbextension~=3.5.0->ipywidgets) (1.1.1)\n",
      "Requirement already satisfied: jupyterlab-pygments in c:\\users\\bdelamater\\anaconda3\\lib\\site-packages (from nbconvert->notebook>=4.4.1->widgetsnbextension~=3.5.0->ipywidgets) (0.1.2)\n",
      "Requirement already satisfied: nbclient<0.6.0,>=0.5.0 in c:\\users\\bdelamater\\anaconda3\\lib\\site-packages (from nbconvert->notebook>=4.4.1->widgetsnbextension~=3.5.0->ipywidgets) (0.5.3)\n",
      "Requirement already satisfied: mistune<2,>=0.8.1 in c:\\users\\bdelamater\\anaconda3\\lib\\site-packages (from nbconvert->notebook>=4.4.1->widgetsnbextension~=3.5.0->ipywidgets) (0.8.4)\n",
      "Requirement already satisfied: pandocfilters>=1.4.1 in c:\\users\\bdelamater\\anaconda3\\lib\\site-packages (from nbconvert->notebook>=4.4.1->widgetsnbextension~=3.5.0->ipywidgets) (1.4.3)\n",
      "Requirement already satisfied: testpath in c:\\users\\bdelamater\\anaconda3\\lib\\site-packages (from nbconvert->notebook>=4.4.1->widgetsnbextension~=3.5.0->ipywidgets) (0.4.4)\n",
      "Requirement already satisfied: entrypoints>=0.2.2 in c:\\users\\bdelamater\\anaconda3\\lib\\site-packages (from nbconvert->notebook>=4.4.1->widgetsnbextension~=3.5.0->ipywidgets) (0.3)\n",
      "Requirement already satisfied: bleach in c:\\users\\bdelamater\\anaconda3\\lib\\site-packages (from nbconvert->notebook>=4.4.1->widgetsnbextension~=3.5.0->ipywidgets) (3.3.0)\n",
      "Requirement already satisfied: defusedxml in c:\\users\\bdelamater\\anaconda3\\lib\\site-packages (from nbconvert->notebook>=4.4.1->widgetsnbextension~=3.5.0->ipywidgets) (0.7.1)\n",
      "Requirement already satisfied: async-generator in c:\\users\\bdelamater\\anaconda3\\lib\\site-packages (from nbclient<0.6.0,>=0.5.0->nbconvert->notebook>=4.4.1->widgetsnbextension~=3.5.0->ipywidgets) (1.10)\n",
      "Requirement already satisfied: nest-asyncio in c:\\users\\bdelamater\\anaconda3\\lib\\site-packages (from nbclient<0.6.0,>=0.5.0->nbconvert->notebook>=4.4.1->widgetsnbextension~=3.5.0->ipywidgets) (1.5.1)\n",
      "Requirement already satisfied: packaging in c:\\users\\bdelamater\\anaconda3\\lib\\site-packages (from bleach->nbconvert->notebook>=4.4.1->widgetsnbextension~=3.5.0->ipywidgets) (20.9)\n",
      "Requirement already satisfied: webencodings in c:\\users\\bdelamater\\anaconda3\\lib\\site-packages (from bleach->nbconvert->notebook>=4.4.1->widgetsnbextension~=3.5.0->ipywidgets) (0.5.1)\n",
      "Requirement already satisfied: pyparsing>=2.0.2 in c:\\users\\bdelamater\\anaconda3\\lib\\site-packages (from packaging->bleach->nbconvert->notebook>=4.4.1->widgetsnbextension~=3.5.0->ipywidgets) (2.4.7)\n"
     ]
    }
   ],
   "source": [
    "! pip install lxml\n",
    "! pip install nltk\n",
    "! pip install seaborn\n",
    "! pip install textblob\n",
    "! pip install bs4\n",
    "! pip install xlrd\n",
    "! pip install openpyxl \n",
    "! pip install --upgrade nbformat\n",
    "! pip install gensim\n",
    "! pip install langdetect\n",
    "! pip install ipywidgets\n",
    "\n",
    "import warnings\n",
    "warnings.filterwarnings('ignore')"
   ]
  },
  {
   "cell_type": "code",
   "execution_count": 2,
   "metadata": {},
   "outputs": [
    {
     "name": "stderr",
     "output_type": "stream",
     "text": [
      "[nltk_data] Downloading package wordnet to\n",
      "[nltk_data]     C:\\Users\\BDelamater\\AppData\\Roaming\\nltk_data...\n",
      "[nltk_data]   Package wordnet is already up-to-date!\n",
      "[nltk_data] Downloading package stopwords to\n",
      "[nltk_data]     C:\\Users\\BDelamater\\AppData\\Roaming\\nltk_data...\n",
      "[nltk_data]   Package stopwords is already up-to-date!\n",
      "[nltk_data] Downloading package punkt to\n",
      "[nltk_data]     C:\\Users\\BDelamater\\AppData\\Roaming\\nltk_data...\n",
      "[nltk_data]   Package punkt is already up-to-date!\n",
      "[nltk_data] Downloading package vader_lexicon to\n",
      "[nltk_data]     C:\\Users\\BDelamater\\AppData\\Roaming\\nltk_data...\n",
      "[nltk_data]   Package vader_lexicon is already up-to-date!\n"
     ]
    }
   ],
   "source": [
    "import nltk\n",
    "nltk.download('wordnet')\n",
    "nltk.download('stopwords')\n",
    "nltk.download('punkt')\n",
    "nltk.download('vader_lexicon')\n",
    "\n",
    "import pandas as pd\n",
    "import numpy as np\n",
    "from sklearn.metrics import classification_report, confusion_matrix, accuracy_score, \\\n",
    "precision_score, recall_score\n",
    "import seaborn as sns\n",
    "import matplotlib.pyplot as plt\n",
    "\n",
    "# For graphing charts\n",
    "import plotly.graph_objects as go\n",
    "from plotly.subplots import make_subplots\n",
    "import re\n",
    "import plotly.express as px\n",
    "\n",
    "\n",
    "import pandas as pd\n",
    "import numpy as np\n",
    "import scipy as sp\n",
    "from sklearn.model_selection import train_test_split\n",
    "from sklearn.feature_extraction.text import CountVectorizer, TfidfVectorizer\n",
    "from sklearn.naive_bayes import MultinomialNB         # Naive Bayes\n",
    "from sklearn.linear_model import LogisticRegression\n",
    "from sklearn import metrics\n",
    "from textblob import TextBlob, Word\n",
    "from nltk.stem.snowball import SnowballStemmer\n",
    "from bs4 import BeautifulSoup\n",
    "\n",
    "# Dataset to process\n",
    "myFile = '../data/SageCityForumData.xlsx'\n",
    "GraphTitle = 'Sage City Forum Sentiment'"
   ]
  },
  {
   "cell_type": "markdown",
   "metadata": {},
   "source": [
    "## Data Exploration and Cleaning"
   ]
  },
  {
   "cell_type": "code",
   "execution_count": 3,
   "metadata": {},
   "outputs": [
    {
     "name": "stdout",
     "output_type": "stream",
     "text": [
      "(2943, 10)\n"
     ]
    },
    {
     "data": {
      "text/html": [
       "<div>\n",
       "<style scoped>\n",
       "    .dataframe tbody tr th:only-of-type {\n",
       "        vertical-align: middle;\n",
       "    }\n",
       "\n",
       "    .dataframe tbody tr th {\n",
       "        vertical-align: top;\n",
       "    }\n",
       "\n",
       "    .dataframe thead th {\n",
       "        text-align: right;\n",
       "    }\n",
       "</style>\n",
       "<table border=\"1\" class=\"dataframe\">\n",
       "  <thead>\n",
       "    <tr style=\"text-align: right;\">\n",
       "      <th></th>\n",
       "      <th>ID</th>\n",
       "      <th>Forum ID</th>\n",
       "      <th>Forum Name</th>\n",
       "      <th>Body</th>\n",
       "      <th>Subject</th>\n",
       "      <th>Post Date</th>\n",
       "      <th>User DisplayName</th>\n",
       "      <th>Is Question</th>\n",
       "      <th>Tags</th>\n",
       "      <th>Likes</th>\n",
       "    </tr>\n",
       "  </thead>\n",
       "  <tbody>\n",
       "    <tr>\n",
       "      <th>0</th>\n",
       "      <td>133741</td>\n",
       "      <td>40</td>\n",
       "      <td>Sage X3 General Discussion</td>\n",
       "      <td>&lt;p class=\"_1qeIAgB0cPwnLhDF9XSiJM\"&gt;Company upg...</td>\n",
       "      <td>ERP help urgently needed</td>\n",
       "      <td>2019-10-10T05:58:05.73</td>\n",
       "      <td>ChinusGomes</td>\n",
       "      <td>QuestionAndAnswer</td>\n",
       "      <td>NaN</td>\n",
       "      <td>NaN</td>\n",
       "    </tr>\n",
       "    <tr>\n",
       "      <th>1</th>\n",
       "      <td>133741</td>\n",
       "      <td>40</td>\n",
       "      <td>Sage X3 General Discussion</td>\n",
       "      <td>&lt;p class=\"_1qeIAgB0cPwnLhDF9XSiJM\"&gt;Company upg...</td>\n",
       "      <td>ERP help urgently needed</td>\n",
       "      <td>2019-10-10T05:58:05.73</td>\n",
       "      <td>ChinusGomes</td>\n",
       "      <td>QuestionAndAnswer</td>\n",
       "      <td>NaN</td>\n",
       "      <td>NaN</td>\n",
       "    </tr>\n",
       "    <tr>\n",
       "      <th>2</th>\n",
       "      <td>133741</td>\n",
       "      <td>40</td>\n",
       "      <td>Sage X3 General Discussion</td>\n",
       "      <td>&lt;p class=\"_1qeIAgB0cPwnLhDF9XSiJM\"&gt;Company upg...</td>\n",
       "      <td>ERP help urgently needed</td>\n",
       "      <td>2019-10-10T05:58:05.73</td>\n",
       "      <td>ChinusGomes</td>\n",
       "      <td>QuestionAndAnswer</td>\n",
       "      <td>NaN</td>\n",
       "      <td>NaN</td>\n",
       "    </tr>\n",
       "    <tr>\n",
       "      <th>3</th>\n",
       "      <td>133741</td>\n",
       "      <td>40</td>\n",
       "      <td>Sage X3 General Discussion</td>\n",
       "      <td>&lt;p class=\"_1qeIAgB0cPwnLhDF9XSiJM\"&gt;Company upg...</td>\n",
       "      <td>ERP help urgently needed</td>\n",
       "      <td>2019-10-10T05:58:05.73</td>\n",
       "      <td>ChinusGomes</td>\n",
       "      <td>QuestionAndAnswer</td>\n",
       "      <td>NaN</td>\n",
       "      <td>NaN</td>\n",
       "    </tr>\n",
       "    <tr>\n",
       "      <th>4</th>\n",
       "      <td>133741</td>\n",
       "      <td>40</td>\n",
       "      <td>Sage X3 General Discussion</td>\n",
       "      <td>&lt;p class=\"_1qeIAgB0cPwnLhDF9XSiJM\"&gt;Company upg...</td>\n",
       "      <td>ERP help urgently needed</td>\n",
       "      <td>2019-10-10T05:58:05.73</td>\n",
       "      <td>ChinusGomes</td>\n",
       "      <td>QuestionAndAnswer</td>\n",
       "      <td>NaN</td>\n",
       "      <td>NaN</td>\n",
       "    </tr>\n",
       "    <tr>\n",
       "      <th>5</th>\n",
       "      <td>133741</td>\n",
       "      <td>40</td>\n",
       "      <td>Sage X3 General Discussion</td>\n",
       "      <td>&lt;p class=\"_1qeIAgB0cPwnLhDF9XSiJM\"&gt;Company upg...</td>\n",
       "      <td>ERP help urgently needed</td>\n",
       "      <td>2019-10-10T05:58:05.73</td>\n",
       "      <td>ChinusGomes</td>\n",
       "      <td>QuestionAndAnswer</td>\n",
       "      <td>NaN</td>\n",
       "      <td>NaN</td>\n",
       "    </tr>\n",
       "    <tr>\n",
       "      <th>6</th>\n",
       "      <td>133741</td>\n",
       "      <td>40</td>\n",
       "      <td>Sage X3 General Discussion</td>\n",
       "      <td>&lt;p class=\"_1qeIAgB0cPwnLhDF9XSiJM\"&gt;Company upg...</td>\n",
       "      <td>ERP help urgently needed</td>\n",
       "      <td>2019-10-10T05:58:05.73</td>\n",
       "      <td>ChinusGomes</td>\n",
       "      <td>QuestionAndAnswer</td>\n",
       "      <td>NaN</td>\n",
       "      <td>NaN</td>\n",
       "    </tr>\n",
       "    <tr>\n",
       "      <th>7</th>\n",
       "      <td>133741</td>\n",
       "      <td>40</td>\n",
       "      <td>Sage X3 General Discussion</td>\n",
       "      <td>&lt;p class=\"_1qeIAgB0cPwnLhDF9XSiJM\"&gt;Company upg...</td>\n",
       "      <td>ERP help urgently needed</td>\n",
       "      <td>2019-10-10T05:58:05.73</td>\n",
       "      <td>ChinusGomes</td>\n",
       "      <td>QuestionAndAnswer</td>\n",
       "      <td>NaN</td>\n",
       "      <td>NaN</td>\n",
       "    </tr>\n",
       "    <tr>\n",
       "      <th>8</th>\n",
       "      <td>133741</td>\n",
       "      <td>40</td>\n",
       "      <td>Sage X3 General Discussion</td>\n",
       "      <td>&lt;p class=\"_1qeIAgB0cPwnLhDF9XSiJM\"&gt;Company upg...</td>\n",
       "      <td>ERP help urgently needed</td>\n",
       "      <td>2019-10-10T05:58:05.73</td>\n",
       "      <td>ChinusGomes</td>\n",
       "      <td>QuestionAndAnswer</td>\n",
       "      <td>NaN</td>\n",
       "      <td>NaN</td>\n",
       "    </tr>\n",
       "    <tr>\n",
       "      <th>9</th>\n",
       "      <td>133741</td>\n",
       "      <td>40</td>\n",
       "      <td>Sage X3 General Discussion</td>\n",
       "      <td>&lt;p class=\"_1qeIAgB0cPwnLhDF9XSiJM\"&gt;Company upg...</td>\n",
       "      <td>ERP help urgently needed</td>\n",
       "      <td>2019-10-10T05:58:05.73</td>\n",
       "      <td>ChinusGomes</td>\n",
       "      <td>QuestionAndAnswer</td>\n",
       "      <td>NaN</td>\n",
       "      <td>NaN</td>\n",
       "    </tr>\n",
       "  </tbody>\n",
       "</table>\n",
       "</div>"
      ],
      "text/plain": [
       "       ID  Forum ID                  Forum Name  \\\n",
       "0  133741        40  Sage X3 General Discussion   \n",
       "1  133741        40  Sage X3 General Discussion   \n",
       "2  133741        40  Sage X3 General Discussion   \n",
       "3  133741        40  Sage X3 General Discussion   \n",
       "4  133741        40  Sage X3 General Discussion   \n",
       "5  133741        40  Sage X3 General Discussion   \n",
       "6  133741        40  Sage X3 General Discussion   \n",
       "7  133741        40  Sage X3 General Discussion   \n",
       "8  133741        40  Sage X3 General Discussion   \n",
       "9  133741        40  Sage X3 General Discussion   \n",
       "\n",
       "                                                Body  \\\n",
       "0  <p class=\"_1qeIAgB0cPwnLhDF9XSiJM\">Company upg...   \n",
       "1  <p class=\"_1qeIAgB0cPwnLhDF9XSiJM\">Company upg...   \n",
       "2  <p class=\"_1qeIAgB0cPwnLhDF9XSiJM\">Company upg...   \n",
       "3  <p class=\"_1qeIAgB0cPwnLhDF9XSiJM\">Company upg...   \n",
       "4  <p class=\"_1qeIAgB0cPwnLhDF9XSiJM\">Company upg...   \n",
       "5  <p class=\"_1qeIAgB0cPwnLhDF9XSiJM\">Company upg...   \n",
       "6  <p class=\"_1qeIAgB0cPwnLhDF9XSiJM\">Company upg...   \n",
       "7  <p class=\"_1qeIAgB0cPwnLhDF9XSiJM\">Company upg...   \n",
       "8  <p class=\"_1qeIAgB0cPwnLhDF9XSiJM\">Company upg...   \n",
       "9  <p class=\"_1qeIAgB0cPwnLhDF9XSiJM\">Company upg...   \n",
       "\n",
       "                    Subject               Post Date User DisplayName  \\\n",
       "0  ERP help urgently needed  2019-10-10T05:58:05.73      ChinusGomes   \n",
       "1  ERP help urgently needed  2019-10-10T05:58:05.73      ChinusGomes   \n",
       "2  ERP help urgently needed  2019-10-10T05:58:05.73      ChinusGomes   \n",
       "3  ERP help urgently needed  2019-10-10T05:58:05.73      ChinusGomes   \n",
       "4  ERP help urgently needed  2019-10-10T05:58:05.73      ChinusGomes   \n",
       "5  ERP help urgently needed  2019-10-10T05:58:05.73      ChinusGomes   \n",
       "6  ERP help urgently needed  2019-10-10T05:58:05.73      ChinusGomes   \n",
       "7  ERP help urgently needed  2019-10-10T05:58:05.73      ChinusGomes   \n",
       "8  ERP help urgently needed  2019-10-10T05:58:05.73      ChinusGomes   \n",
       "9  ERP help urgently needed  2019-10-10T05:58:05.73      ChinusGomes   \n",
       "\n",
       "         Is Question Tags  Likes  \n",
       "0  QuestionAndAnswer  NaN    NaN  \n",
       "1  QuestionAndAnswer  NaN    NaN  \n",
       "2  QuestionAndAnswer  NaN    NaN  \n",
       "3  QuestionAndAnswer  NaN    NaN  \n",
       "4  QuestionAndAnswer  NaN    NaN  \n",
       "5  QuestionAndAnswer  NaN    NaN  \n",
       "6  QuestionAndAnswer  NaN    NaN  \n",
       "7  QuestionAndAnswer  NaN    NaN  \n",
       "8  QuestionAndAnswer  NaN    NaN  \n",
       "9  QuestionAndAnswer  NaN    NaN  "
      ]
     },
     "execution_count": 3,
     "metadata": {},
     "output_type": "execute_result"
    }
   ],
   "source": [
    "# Read yelp.csv into a DataFrame.\n",
    "df_Forum = pd.read_excel(myFile, sheet_name='Forum List')\n",
    "print(df_Forum.shape)\n",
    "df_Forum.head(10)"
   ]
  },
  {
   "cell_type": "markdown",
   "metadata": {},
   "source": [
    "# Clean the html"
   ]
  },
  {
   "cell_type": "markdown",
   "metadata": {},
   "source": [
    "## Option 1"
   ]
  },
  {
   "cell_type": "code",
   "execution_count": 4,
   "metadata": {},
   "outputs": [],
   "source": [
    "# def cleanhtml(raw_html):\n",
    "#     cleanr = re.compile('<.*?>')\n",
    "#     cleantext = re.sub(cleanr,'',raw_html)\n",
    "#     return cleantext\n",
    "# cleanhtml(df_Forum['Body'][0])"
   ]
  },
  {
   "cell_type": "markdown",
   "metadata": {},
   "source": [
    "## Option 2: BeautifulSoup"
   ]
  },
  {
   "cell_type": "code",
   "execution_count": 5,
   "metadata": {},
   "outputs": [],
   "source": [
    "def cleanhtml(raw_html):\n",
    "    return BeautifulSoup(raw_html, \"lxml\").text"
   ]
  },
  {
   "cell_type": "code",
   "execution_count": 102,
   "metadata": {},
   "outputs": [
    {
     "name": "stderr",
     "output_type": "stream",
     "text": [
      "C:\\Users\\BDelamater\\Anaconda3\\lib\\site-packages\\ipykernel\\ipkernel.py:287: DeprecationWarning:\n",
      "\n",
      "`should_run_async` will not call `transform_cell` automatically in the future. Please pass the result to `transformed_cell` argument and any exception that happen during thetransform in `preprocessing_exc_tuple` in IPython 7.17 and above.\n",
      "\n"
     ]
    },
    {
     "data": {
      "text/html": [
       "<div>\n",
       "<style scoped>\n",
       "    .dataframe tbody tr th:only-of-type {\n",
       "        vertical-align: middle;\n",
       "    }\n",
       "\n",
       "    .dataframe tbody tr th {\n",
       "        vertical-align: top;\n",
       "    }\n",
       "\n",
       "    .dataframe thead th {\n",
       "        text-align: right;\n",
       "    }\n",
       "</style>\n",
       "<table border=\"1\" class=\"dataframe\">\n",
       "  <thead>\n",
       "    <tr style=\"text-align: right;\">\n",
       "      <th></th>\n",
       "      <th>ID</th>\n",
       "      <th>Forum ID</th>\n",
       "      <th>Forum Name</th>\n",
       "      <th>Body</th>\n",
       "      <th>Subject</th>\n",
       "      <th>Post Date</th>\n",
       "      <th>User DisplayName</th>\n",
       "      <th>Is Question</th>\n",
       "      <th>Tags</th>\n",
       "      <th>Likes</th>\n",
       "      <th>Forum_Post_Raw</th>\n",
       "    </tr>\n",
       "  </thead>\n",
       "  <tbody>\n",
       "    <tr>\n",
       "      <th>0</th>\n",
       "      <td>133741</td>\n",
       "      <td>40</td>\n",
       "      <td>Sage X3 General Discussion</td>\n",
       "      <td>&lt;p class=\"_1qeIAgB0cPwnLhDF9XSiJM\"&gt;Company upg...</td>\n",
       "      <td>ERP help urgently needed</td>\n",
       "      <td>2019-10-10T05:58:05.73</td>\n",
       "      <td>ChinusGomes</td>\n",
       "      <td>QuestionAndAnswer</td>\n",
       "      <td>NaN</td>\n",
       "      <td>NaN</td>\n",
       "      <td>Company upgraded to windows 10. Used to run an...</td>\n",
       "    </tr>\n",
       "    <tr>\n",
       "      <th>1</th>\n",
       "      <td>133741</td>\n",
       "      <td>40</td>\n",
       "      <td>Sage X3 General Discussion</td>\n",
       "      <td>&lt;p class=\"_1qeIAgB0cPwnLhDF9XSiJM\"&gt;Company upg...</td>\n",
       "      <td>ERP help urgently needed</td>\n",
       "      <td>2019-10-10T05:58:05.73</td>\n",
       "      <td>ChinusGomes</td>\n",
       "      <td>QuestionAndAnswer</td>\n",
       "      <td>NaN</td>\n",
       "      <td>NaN</td>\n",
       "      <td>Company upgraded to windows 10. Used to run an...</td>\n",
       "    </tr>\n",
       "    <tr>\n",
       "      <th>2</th>\n",
       "      <td>133741</td>\n",
       "      <td>40</td>\n",
       "      <td>Sage X3 General Discussion</td>\n",
       "      <td>&lt;p class=\"_1qeIAgB0cPwnLhDF9XSiJM\"&gt;Company upg...</td>\n",
       "      <td>ERP help urgently needed</td>\n",
       "      <td>2019-10-10T05:58:05.73</td>\n",
       "      <td>ChinusGomes</td>\n",
       "      <td>QuestionAndAnswer</td>\n",
       "      <td>NaN</td>\n",
       "      <td>NaN</td>\n",
       "      <td>Company upgraded to windows 10. Used to run an...</td>\n",
       "    </tr>\n",
       "    <tr>\n",
       "      <th>3</th>\n",
       "      <td>133741</td>\n",
       "      <td>40</td>\n",
       "      <td>Sage X3 General Discussion</td>\n",
       "      <td>&lt;p class=\"_1qeIAgB0cPwnLhDF9XSiJM\"&gt;Company upg...</td>\n",
       "      <td>ERP help urgently needed</td>\n",
       "      <td>2019-10-10T05:58:05.73</td>\n",
       "      <td>ChinusGomes</td>\n",
       "      <td>QuestionAndAnswer</td>\n",
       "      <td>NaN</td>\n",
       "      <td>NaN</td>\n",
       "      <td>Company upgraded to windows 10. Used to run an...</td>\n",
       "    </tr>\n",
       "    <tr>\n",
       "      <th>4</th>\n",
       "      <td>133741</td>\n",
       "      <td>40</td>\n",
       "      <td>Sage X3 General Discussion</td>\n",
       "      <td>&lt;p class=\"_1qeIAgB0cPwnLhDF9XSiJM\"&gt;Company upg...</td>\n",
       "      <td>ERP help urgently needed</td>\n",
       "      <td>2019-10-10T05:58:05.73</td>\n",
       "      <td>ChinusGomes</td>\n",
       "      <td>QuestionAndAnswer</td>\n",
       "      <td>NaN</td>\n",
       "      <td>NaN</td>\n",
       "      <td>Company upgraded to windows 10. Used to run an...</td>\n",
       "    </tr>\n",
       "  </tbody>\n",
       "</table>\n",
       "</div>"
      ],
      "text/plain": [
       "       ID  Forum ID                  Forum Name  \\\n",
       "0  133741        40  Sage X3 General Discussion   \n",
       "1  133741        40  Sage X3 General Discussion   \n",
       "2  133741        40  Sage X3 General Discussion   \n",
       "3  133741        40  Sage X3 General Discussion   \n",
       "4  133741        40  Sage X3 General Discussion   \n",
       "\n",
       "                                                Body  \\\n",
       "0  <p class=\"_1qeIAgB0cPwnLhDF9XSiJM\">Company upg...   \n",
       "1  <p class=\"_1qeIAgB0cPwnLhDF9XSiJM\">Company upg...   \n",
       "2  <p class=\"_1qeIAgB0cPwnLhDF9XSiJM\">Company upg...   \n",
       "3  <p class=\"_1qeIAgB0cPwnLhDF9XSiJM\">Company upg...   \n",
       "4  <p class=\"_1qeIAgB0cPwnLhDF9XSiJM\">Company upg...   \n",
       "\n",
       "                    Subject               Post Date User DisplayName  \\\n",
       "0  ERP help urgently needed  2019-10-10T05:58:05.73      ChinusGomes   \n",
       "1  ERP help urgently needed  2019-10-10T05:58:05.73      ChinusGomes   \n",
       "2  ERP help urgently needed  2019-10-10T05:58:05.73      ChinusGomes   \n",
       "3  ERP help urgently needed  2019-10-10T05:58:05.73      ChinusGomes   \n",
       "4  ERP help urgently needed  2019-10-10T05:58:05.73      ChinusGomes   \n",
       "\n",
       "         Is Question Tags  Likes  \\\n",
       "0  QuestionAndAnswer  NaN    NaN   \n",
       "1  QuestionAndAnswer  NaN    NaN   \n",
       "2  QuestionAndAnswer  NaN    NaN   \n",
       "3  QuestionAndAnswer  NaN    NaN   \n",
       "4  QuestionAndAnswer  NaN    NaN   \n",
       "\n",
       "                                      Forum_Post_Raw  \n",
       "0  Company upgraded to windows 10. Used to run an...  \n",
       "1  Company upgraded to windows 10. Used to run an...  \n",
       "2  Company upgraded to windows 10. Used to run an...  \n",
       "3  Company upgraded to windows 10. Used to run an...  \n",
       "4  Company upgraded to windows 10. Used to run an...  "
      ]
     },
     "execution_count": 102,
     "metadata": {},
     "output_type": "execute_result"
    }
   ],
   "source": [
    "# Create a neutral, positive, negative column\n",
    "\n",
    "df_Forum['Forum_Post_Raw'] = df_Forum.apply(lambda row: cleanhtml(row['Body']), axis=1)\n",
    "df_Forum.head(5)"
   ]
  },
  {
   "cell_type": "code",
   "execution_count": 103,
   "metadata": {},
   "outputs": [
    {
     "name": "stdout",
     "output_type": "stream",
     "text": [
      "Distinct records:  (1086, 6)\n",
      "Original Dataset:  (2943, 11)\n"
     ]
    },
    {
     "name": "stderr",
     "output_type": "stream",
     "text": [
      "C:\\Users\\BDelamater\\Anaconda3\\lib\\site-packages\\ipykernel\\ipkernel.py:287: DeprecationWarning:\n",
      "\n",
      "`should_run_async` will not call `transform_cell` automatically in the future. Please pass the result to `transformed_cell` argument and any exception that happen during thetransform in `preprocessing_exc_tuple` in IPython 7.17 and above.\n",
      "\n"
     ]
    }
   ],
   "source": [
    "df_distinct = df_Forum[['Forum ID', 'Forum Name', 'Subject', 'Post Date', 'User DisplayName', 'Forum_Post_Raw']].drop_duplicates(inplace=False).copy()\n",
    "print('Distinct records: ', df_distinct.shape)\n",
    "print('Original Dataset: ', df_Forum.shape)\n"
   ]
  },
  {
   "cell_type": "markdown",
   "metadata": {},
   "source": [
    "# Sentiment Analysis \n",
    "Code to generate sentiment analysis"
   ]
  },
  {
   "cell_type": "code",
   "execution_count": 104,
   "metadata": {},
   "outputs": [
    {
     "name": "stderr",
     "output_type": "stream",
     "text": [
      "C:\\Users\\BDelamater\\Anaconda3\\lib\\site-packages\\ipykernel\\ipkernel.py:287: DeprecationWarning:\n",
      "\n",
      "`should_run_async` will not call `transform_cell` automatically in the future. Please pass the result to `transformed_cell` argument and any exception that happen during thetransform in `preprocessing_exc_tuple` in IPython 7.17 and above.\n",
      "\n"
     ]
    }
   ],
   "source": [
    "from nltk.sentiment.vader import SentimentIntensityAnalyzer\n",
    "sia = SentimentIntensityAnalyzer()\n",
    "\n",
    "compound= []\n",
    "neg = []\n",
    "neu = []\n",
    "pos = []\n",
    "for entry in df_distinct['Forum_Post_Raw']:\n",
    "    sent = sia.polarity_scores(entry)\n",
    "    compound.append(sent['compound'])\n",
    "    neg.append(sent['neg'])\n",
    "    neu.append(sent['neu'])\n",
    "    pos.append(sent['pos'])"
   ]
  },
  {
   "cell_type": "code",
   "execution_count": 105,
   "metadata": {},
   "outputs": [
    {
     "name": "stderr",
     "output_type": "stream",
     "text": [
      "C:\\Users\\BDelamater\\Anaconda3\\lib\\site-packages\\ipykernel\\ipkernel.py:287: DeprecationWarning:\n",
      "\n",
      "`should_run_async` will not call `transform_cell` automatically in the future. Please pass the result to `transformed_cell` argument and any exception that happen during thetransform in `preprocessing_exc_tuple` in IPython 7.17 and above.\n",
      "\n"
     ]
    },
    {
     "data": {
      "text/html": [
       "<div>\n",
       "<style scoped>\n",
       "    .dataframe tbody tr th:only-of-type {\n",
       "        vertical-align: middle;\n",
       "    }\n",
       "\n",
       "    .dataframe tbody tr th {\n",
       "        vertical-align: top;\n",
       "    }\n",
       "\n",
       "    .dataframe thead th {\n",
       "        text-align: right;\n",
       "    }\n",
       "</style>\n",
       "<table border=\"1\" class=\"dataframe\">\n",
       "  <thead>\n",
       "    <tr style=\"text-align: right;\">\n",
       "      <th></th>\n",
       "      <th>Forum ID</th>\n",
       "      <th>Forum Name</th>\n",
       "      <th>Subject</th>\n",
       "      <th>Post Date</th>\n",
       "      <th>User DisplayName</th>\n",
       "      <th>Forum_Post_Raw</th>\n",
       "      <th>compound</th>\n",
       "      <th>neg</th>\n",
       "      <th>neu</th>\n",
       "      <th>pos</th>\n",
       "    </tr>\n",
       "  </thead>\n",
       "  <tbody>\n",
       "    <tr>\n",
       "      <th>0</th>\n",
       "      <td>40</td>\n",
       "      <td>Sage X3 General Discussion</td>\n",
       "      <td>ERP help urgently needed</td>\n",
       "      <td>2019-10-10T05:58:05.73</td>\n",
       "      <td>ChinusGomes</td>\n",
       "      <td>Company upgraded to windows 10. Used to run an...</td>\n",
       "      <td>0.0387</td>\n",
       "      <td>0.063</td>\n",
       "      <td>0.873</td>\n",
       "      <td>0.064</td>\n",
       "    </tr>\n",
       "    <tr>\n",
       "      <th>31</th>\n",
       "      <td>40</td>\n",
       "      <td>Sage X3 General Discussion</td>\n",
       "      <td>Sage V11 patch 14 - release soon?</td>\n",
       "      <td>2019-10-10T12:44:35.957</td>\n",
       "      <td>AnikB</td>\n",
       "      <td>Hello!\\n\\nI see that Sage V11 patch 14 was com...</td>\n",
       "      <td>0.7044</td>\n",
       "      <td>0.022</td>\n",
       "      <td>0.915</td>\n",
       "      <td>0.063</td>\n",
       "    </tr>\n",
       "    <tr>\n",
       "      <th>62</th>\n",
       "      <td>673</td>\n",
       "      <td>Sage X3 Announcements, News, and Alerts</td>\n",
       "      <td>Sage X3 12.0.19 and Patch 19 Add-ons Updates h...</td>\n",
       "      <td>2019-10-10T14:56:52.947</td>\n",
       "      <td>Alecia</td>\n",
       "      <td>To access this download, log into https://supp...</td>\n",
       "      <td>0.9359</td>\n",
       "      <td>0.000</td>\n",
       "      <td>0.898</td>\n",
       "      <td>0.102</td>\n",
       "    </tr>\n",
       "    <tr>\n",
       "      <th>63</th>\n",
       "      <td>673</td>\n",
       "      <td>Sage X3 Announcements, News, and Alerts</td>\n",
       "      <td>Sage X3 Warehousing (GEODE) v12.0.19 has been ...</td>\n",
       "      <td>2019-10-10T20:56:53.483</td>\n",
       "      <td>pnightingale</td>\n",
       "      <td>To access this download, log into https://supp...</td>\n",
       "      <td>0.9359</td>\n",
       "      <td>0.000</td>\n",
       "      <td>0.898</td>\n",
       "      <td>0.102</td>\n",
       "    </tr>\n",
       "    <tr>\n",
       "      <th>64</th>\n",
       "      <td>40</td>\n",
       "      <td>Sage X3 General Discussion</td>\n",
       "      <td>Modifying Stock Change ST2 object</td>\n",
       "      <td>2019-10-11T13:10:28.983</td>\n",
       "      <td>ChrisCC</td>\n",
       "      <td>I am trying to remove some of the columns on t...</td>\n",
       "      <td>0.5980</td>\n",
       "      <td>0.046</td>\n",
       "      <td>0.865</td>\n",
       "      <td>0.090</td>\n",
       "    </tr>\n",
       "  </tbody>\n",
       "</table>\n",
       "</div>"
      ],
      "text/plain": [
       "    Forum ID                               Forum Name  \\\n",
       "0         40               Sage X3 General Discussion   \n",
       "31        40               Sage X3 General Discussion   \n",
       "62       673  Sage X3 Announcements, News, and Alerts   \n",
       "63       673  Sage X3 Announcements, News, and Alerts   \n",
       "64        40               Sage X3 General Discussion   \n",
       "\n",
       "                                              Subject  \\\n",
       "0                            ERP help urgently needed   \n",
       "31                  Sage V11 patch 14 - release soon?   \n",
       "62  Sage X3 12.0.19 and Patch 19 Add-ons Updates h...   \n",
       "63  Sage X3 Warehousing (GEODE) v12.0.19 has been ...   \n",
       "64                  Modifying Stock Change ST2 object   \n",
       "\n",
       "                  Post Date User DisplayName  \\\n",
       "0    2019-10-10T05:58:05.73      ChinusGomes   \n",
       "31  2019-10-10T12:44:35.957            AnikB   \n",
       "62  2019-10-10T14:56:52.947           Alecia   \n",
       "63  2019-10-10T20:56:53.483     pnightingale   \n",
       "64  2019-10-11T13:10:28.983          ChrisCC   \n",
       "\n",
       "                                       Forum_Post_Raw  compound    neg    neu  \\\n",
       "0   Company upgraded to windows 10. Used to run an...    0.0387  0.063  0.873   \n",
       "31  Hello!\\n\\nI see that Sage V11 patch 14 was com...    0.7044  0.022  0.915   \n",
       "62  To access this download, log into https://supp...    0.9359  0.000  0.898   \n",
       "63  To access this download, log into https://supp...    0.9359  0.000  0.898   \n",
       "64  I am trying to remove some of the columns on t...    0.5980  0.046  0.865   \n",
       "\n",
       "      pos  \n",
       "0   0.064  \n",
       "31  0.063  \n",
       "62  0.102  \n",
       "63  0.102  \n",
       "64  0.090  "
      ]
     },
     "execution_count": 105,
     "metadata": {},
     "output_type": "execute_result"
    }
   ],
   "source": [
    "df_distinct['compound'] = compound\n",
    "df_distinct['neg'] = neg\n",
    "df_distinct['neu'] = neu\n",
    "df_distinct['pos'] = pos\n",
    "df_distinct.head()"
   ]
  },
  {
   "cell_type": "code",
   "execution_count": 106,
   "metadata": {},
   "outputs": [
    {
     "name": "stderr",
     "output_type": "stream",
     "text": [
      "C:\\Users\\BDelamater\\Anaconda3\\lib\\site-packages\\ipykernel\\ipkernel.py:287: DeprecationWarning:\n",
      "\n",
      "`should_run_async` will not call `transform_cell` automatically in the future. Please pass the result to `transformed_cell` argument and any exception that happen during thetransform in `preprocessing_exc_tuple` in IPython 7.17 and above.\n",
      "\n"
     ]
    }
   ],
   "source": [
    "def getSentiment(compoundScore):\n",
    "    retVal = \"Neutral\"\n",
    "    if (compoundScore > 0.05):\n",
    "        retVal = \"Positive\"\n",
    "    elif (compoundScore <= - 0.05):\n",
    "        retVal = \"Negative\"\n",
    "    \n",
    "    return retVal"
   ]
  },
  {
   "cell_type": "code",
   "execution_count": 107,
   "metadata": {},
   "outputs": [
    {
     "name": "stderr",
     "output_type": "stream",
     "text": [
      "C:\\Users\\BDelamater\\Anaconda3\\lib\\site-packages\\ipykernel\\ipkernel.py:287: DeprecationWarning:\n",
      "\n",
      "`should_run_async` will not call `transform_cell` automatically in the future. Please pass the result to `transformed_cell` argument and any exception that happen during thetransform in `preprocessing_exc_tuple` in IPython 7.17 and above.\n",
      "\n"
     ]
    },
    {
     "data": {
      "text/html": [
       "<div>\n",
       "<style scoped>\n",
       "    .dataframe tbody tr th:only-of-type {\n",
       "        vertical-align: middle;\n",
       "    }\n",
       "\n",
       "    .dataframe tbody tr th {\n",
       "        vertical-align: top;\n",
       "    }\n",
       "\n",
       "    .dataframe thead th {\n",
       "        text-align: right;\n",
       "    }\n",
       "</style>\n",
       "<table border=\"1\" class=\"dataframe\">\n",
       "  <thead>\n",
       "    <tr style=\"text-align: right;\">\n",
       "      <th></th>\n",
       "      <th>Forum ID</th>\n",
       "      <th>Forum Name</th>\n",
       "      <th>Subject</th>\n",
       "      <th>Post Date</th>\n",
       "      <th>User DisplayName</th>\n",
       "      <th>Forum_Post_Raw</th>\n",
       "      <th>compound</th>\n",
       "      <th>neg</th>\n",
       "      <th>neu</th>\n",
       "      <th>pos</th>\n",
       "      <th>Sentiment</th>\n",
       "    </tr>\n",
       "  </thead>\n",
       "  <tbody>\n",
       "    <tr>\n",
       "      <th>0</th>\n",
       "      <td>40</td>\n",
       "      <td>Sage X3 General Discussion</td>\n",
       "      <td>ERP help urgently needed</td>\n",
       "      <td>2019-10-10T05:58:05.73</td>\n",
       "      <td>ChinusGomes</td>\n",
       "      <td>Company upgraded to windows 10. Used to run an...</td>\n",
       "      <td>0.0387</td>\n",
       "      <td>0.063</td>\n",
       "      <td>0.873</td>\n",
       "      <td>0.064</td>\n",
       "      <td>Neutral</td>\n",
       "    </tr>\n",
       "    <tr>\n",
       "      <th>31</th>\n",
       "      <td>40</td>\n",
       "      <td>Sage X3 General Discussion</td>\n",
       "      <td>Sage V11 patch 14 - release soon?</td>\n",
       "      <td>2019-10-10T12:44:35.957</td>\n",
       "      <td>AnikB</td>\n",
       "      <td>Hello!\\n\\nI see that Sage V11 patch 14 was com...</td>\n",
       "      <td>0.7044</td>\n",
       "      <td>0.022</td>\n",
       "      <td>0.915</td>\n",
       "      <td>0.063</td>\n",
       "      <td>Positive</td>\n",
       "    </tr>\n",
       "    <tr>\n",
       "      <th>62</th>\n",
       "      <td>673</td>\n",
       "      <td>Sage X3 Announcements, News, and Alerts</td>\n",
       "      <td>Sage X3 12.0.19 and Patch 19 Add-ons Updates h...</td>\n",
       "      <td>2019-10-10T14:56:52.947</td>\n",
       "      <td>Alecia</td>\n",
       "      <td>To access this download, log into https://supp...</td>\n",
       "      <td>0.9359</td>\n",
       "      <td>0.000</td>\n",
       "      <td>0.898</td>\n",
       "      <td>0.102</td>\n",
       "      <td>Positive</td>\n",
       "    </tr>\n",
       "    <tr>\n",
       "      <th>63</th>\n",
       "      <td>673</td>\n",
       "      <td>Sage X3 Announcements, News, and Alerts</td>\n",
       "      <td>Sage X3 Warehousing (GEODE) v12.0.19 has been ...</td>\n",
       "      <td>2019-10-10T20:56:53.483</td>\n",
       "      <td>pnightingale</td>\n",
       "      <td>To access this download, log into https://supp...</td>\n",
       "      <td>0.9359</td>\n",
       "      <td>0.000</td>\n",
       "      <td>0.898</td>\n",
       "      <td>0.102</td>\n",
       "      <td>Positive</td>\n",
       "    </tr>\n",
       "    <tr>\n",
       "      <th>64</th>\n",
       "      <td>40</td>\n",
       "      <td>Sage X3 General Discussion</td>\n",
       "      <td>Modifying Stock Change ST2 object</td>\n",
       "      <td>2019-10-11T13:10:28.983</td>\n",
       "      <td>ChrisCC</td>\n",
       "      <td>I am trying to remove some of the columns on t...</td>\n",
       "      <td>0.5980</td>\n",
       "      <td>0.046</td>\n",
       "      <td>0.865</td>\n",
       "      <td>0.090</td>\n",
       "      <td>Positive</td>\n",
       "    </tr>\n",
       "  </tbody>\n",
       "</table>\n",
       "</div>"
      ],
      "text/plain": [
       "    Forum ID                               Forum Name  \\\n",
       "0         40               Sage X3 General Discussion   \n",
       "31        40               Sage X3 General Discussion   \n",
       "62       673  Sage X3 Announcements, News, and Alerts   \n",
       "63       673  Sage X3 Announcements, News, and Alerts   \n",
       "64        40               Sage X3 General Discussion   \n",
       "\n",
       "                                              Subject  \\\n",
       "0                            ERP help urgently needed   \n",
       "31                  Sage V11 patch 14 - release soon?   \n",
       "62  Sage X3 12.0.19 and Patch 19 Add-ons Updates h...   \n",
       "63  Sage X3 Warehousing (GEODE) v12.0.19 has been ...   \n",
       "64                  Modifying Stock Change ST2 object   \n",
       "\n",
       "                  Post Date User DisplayName  \\\n",
       "0    2019-10-10T05:58:05.73      ChinusGomes   \n",
       "31  2019-10-10T12:44:35.957            AnikB   \n",
       "62  2019-10-10T14:56:52.947           Alecia   \n",
       "63  2019-10-10T20:56:53.483     pnightingale   \n",
       "64  2019-10-11T13:10:28.983          ChrisCC   \n",
       "\n",
       "                                       Forum_Post_Raw  compound    neg    neu  \\\n",
       "0   Company upgraded to windows 10. Used to run an...    0.0387  0.063  0.873   \n",
       "31  Hello!\\n\\nI see that Sage V11 patch 14 was com...    0.7044  0.022  0.915   \n",
       "62  To access this download, log into https://supp...    0.9359  0.000  0.898   \n",
       "63  To access this download, log into https://supp...    0.9359  0.000  0.898   \n",
       "64  I am trying to remove some of the columns on t...    0.5980  0.046  0.865   \n",
       "\n",
       "      pos Sentiment  \n",
       "0   0.064   Neutral  \n",
       "31  0.063  Positive  \n",
       "62  0.102  Positive  \n",
       "63  0.102  Positive  \n",
       "64  0.090  Positive  "
      ]
     },
     "execution_count": 107,
     "metadata": {},
     "output_type": "execute_result"
    }
   ],
   "source": [
    "# Create a neutral, positive, negative column\n",
    "\n",
    "df_distinct['Sentiment'] = df_distinct.apply(lambda row: getSentiment(row['compound']), axis=1)\n",
    "df_distinct.head(5)"
   ]
  },
  {
   "cell_type": "code",
   "execution_count": 108,
   "metadata": {},
   "outputs": [
    {
     "name": "stderr",
     "output_type": "stream",
     "text": [
      "C:\\Users\\BDelamater\\Anaconda3\\lib\\site-packages\\ipykernel\\ipkernel.py:287: DeprecationWarning:\n",
      "\n",
      "`should_run_async` will not call `transform_cell` automatically in the future. Please pass the result to `transformed_cell` argument and any exception that happen during thetransform in `preprocessing_exc_tuple` in IPython 7.17 and above.\n",
      "\n"
     ]
    },
    {
     "data": {
      "text/plain": [
       "Forum ID                     int64\n",
       "Forum Name                  object\n",
       "Subject                     object\n",
       "Post Date                   object\n",
       "User DisplayName            object\n",
       "Forum_Post_Raw              object\n",
       "compound                   float64\n",
       "neg                        float64\n",
       "neu                        float64\n",
       "pos                        float64\n",
       "Sentiment                   object\n",
       "PostDate            datetime64[ns]\n",
       "DayName                     object\n",
       "DayOfMonth                   int64\n",
       "dtype: object"
      ]
     },
     "execution_count": 108,
     "metadata": {},
     "output_type": "execute_result"
    }
   ],
   "source": [
    "# Make a day column in numeric format so we can use it for linear regression later\n",
    "df_distinct['PostDate'] = pd.to_datetime(df_Forum['Post Date'])\n",
    "df_distinct['DayName'] = df_distinct['PostDate'].dt.day_name()\n",
    "df_distinct['DayOfMonth'] = df_distinct['PostDate'].dt.day\n",
    "df_distinct.dtypes\n"
   ]
  },
  {
   "cell_type": "code",
   "execution_count": 109,
   "metadata": {},
   "outputs": [
    {
     "name": "stderr",
     "output_type": "stream",
     "text": [
      "C:\\Users\\BDelamater\\Anaconda3\\lib\\site-packages\\ipykernel\\ipkernel.py:287: DeprecationWarning:\n",
      "\n",
      "`should_run_async` will not call `transform_cell` automatically in the future. Please pass the result to `transformed_cell` argument and any exception that happen during thetransform in `preprocessing_exc_tuple` in IPython 7.17 and above.\n",
      "\n"
     ]
    },
    {
     "data": {
      "text/html": [
       "<div>\n",
       "<style scoped>\n",
       "    .dataframe tbody tr th:only-of-type {\n",
       "        vertical-align: middle;\n",
       "    }\n",
       "\n",
       "    .dataframe tbody tr th {\n",
       "        vertical-align: top;\n",
       "    }\n",
       "\n",
       "    .dataframe thead th {\n",
       "        text-align: right;\n",
       "    }\n",
       "</style>\n",
       "<table border=\"1\" class=\"dataframe\">\n",
       "  <thead>\n",
       "    <tr style=\"text-align: right;\">\n",
       "      <th></th>\n",
       "      <th>Forum ID</th>\n",
       "      <th>Forum Name</th>\n",
       "      <th>Subject</th>\n",
       "      <th>Post Date</th>\n",
       "      <th>User DisplayName</th>\n",
       "      <th>Forum_Post_Raw</th>\n",
       "      <th>compound</th>\n",
       "      <th>neg</th>\n",
       "      <th>neu</th>\n",
       "      <th>pos</th>\n",
       "      <th>Sentiment</th>\n",
       "      <th>PostDate</th>\n",
       "      <th>DayName</th>\n",
       "      <th>DayOfMonth</th>\n",
       "    </tr>\n",
       "  </thead>\n",
       "  <tbody>\n",
       "    <tr>\n",
       "      <th>0</th>\n",
       "      <td>40</td>\n",
       "      <td>Sage X3 General Discussion</td>\n",
       "      <td>ERP help urgently needed</td>\n",
       "      <td>2019-10-10T05:58:05.73</td>\n",
       "      <td>ChinusGomes</td>\n",
       "      <td>Company upgraded to windows 10. Used to run an...</td>\n",
       "      <td>0.0387</td>\n",
       "      <td>0.063</td>\n",
       "      <td>0.873</td>\n",
       "      <td>0.064</td>\n",
       "      <td>Neutral</td>\n",
       "      <td>2019-10-10 05:58:05.730</td>\n",
       "      <td>Thursday</td>\n",
       "      <td>10</td>\n",
       "    </tr>\n",
       "    <tr>\n",
       "      <th>31</th>\n",
       "      <td>40</td>\n",
       "      <td>Sage X3 General Discussion</td>\n",
       "      <td>Sage V11 patch 14 - release soon?</td>\n",
       "      <td>2019-10-10T12:44:35.957</td>\n",
       "      <td>AnikB</td>\n",
       "      <td>Hello!\\n\\nI see that Sage V11 patch 14 was com...</td>\n",
       "      <td>0.7044</td>\n",
       "      <td>0.022</td>\n",
       "      <td>0.915</td>\n",
       "      <td>0.063</td>\n",
       "      <td>Positive</td>\n",
       "      <td>2019-10-10 12:44:35.957</td>\n",
       "      <td>Thursday</td>\n",
       "      <td>10</td>\n",
       "    </tr>\n",
       "    <tr>\n",
       "      <th>62</th>\n",
       "      <td>673</td>\n",
       "      <td>Sage X3 Announcements, News, and Alerts</td>\n",
       "      <td>Sage X3 12.0.19 and Patch 19 Add-ons Updates h...</td>\n",
       "      <td>2019-10-10T14:56:52.947</td>\n",
       "      <td>Alecia</td>\n",
       "      <td>To access this download, log into https://supp...</td>\n",
       "      <td>0.9359</td>\n",
       "      <td>0.000</td>\n",
       "      <td>0.898</td>\n",
       "      <td>0.102</td>\n",
       "      <td>Positive</td>\n",
       "      <td>2019-10-10 14:56:52.947</td>\n",
       "      <td>Thursday</td>\n",
       "      <td>10</td>\n",
       "    </tr>\n",
       "  </tbody>\n",
       "</table>\n",
       "</div>"
      ],
      "text/plain": [
       "    Forum ID                               Forum Name  \\\n",
       "0         40               Sage X3 General Discussion   \n",
       "31        40               Sage X3 General Discussion   \n",
       "62       673  Sage X3 Announcements, News, and Alerts   \n",
       "\n",
       "                                              Subject  \\\n",
       "0                            ERP help urgently needed   \n",
       "31                  Sage V11 patch 14 - release soon?   \n",
       "62  Sage X3 12.0.19 and Patch 19 Add-ons Updates h...   \n",
       "\n",
       "                  Post Date User DisplayName  \\\n",
       "0    2019-10-10T05:58:05.73      ChinusGomes   \n",
       "31  2019-10-10T12:44:35.957            AnikB   \n",
       "62  2019-10-10T14:56:52.947           Alecia   \n",
       "\n",
       "                                       Forum_Post_Raw  compound    neg    neu  \\\n",
       "0   Company upgraded to windows 10. Used to run an...    0.0387  0.063  0.873   \n",
       "31  Hello!\\n\\nI see that Sage V11 patch 14 was com...    0.7044  0.022  0.915   \n",
       "62  To access this download, log into https://supp...    0.9359  0.000  0.898   \n",
       "\n",
       "      pos Sentiment                PostDate   DayName  DayOfMonth  \n",
       "0   0.064   Neutral 2019-10-10 05:58:05.730  Thursday          10  \n",
       "31  0.063  Positive 2019-10-10 12:44:35.957  Thursday          10  \n",
       "62  0.102  Positive 2019-10-10 14:56:52.947  Thursday          10  "
      ]
     },
     "execution_count": 109,
     "metadata": {},
     "output_type": "execute_result"
    }
   ],
   "source": [
    "df_distinct.head(3)"
   ]
  },
  {
   "cell_type": "markdown",
   "metadata": {},
   "source": [
    "## Train The Sentiment Analyzer"
   ]
  },
  {
   "cell_type": "code",
   "execution_count": 110,
   "metadata": {},
   "outputs": [
    {
     "name": "stderr",
     "output_type": "stream",
     "text": [
      "C:\\Users\\BDelamater\\Anaconda3\\lib\\site-packages\\ipykernel\\ipkernel.py:287: DeprecationWarning:\n",
      "\n",
      "`should_run_async` will not call `transform_cell` automatically in the future. Please pass the result to `transformed_cell` argument and any exception that happen during thetransform in `preprocessing_exc_tuple` in IPython 7.17 and above.\n",
      "\n"
     ]
    },
    {
     "data": {
      "text/plain": [
       "['01/01/2021 12:12:10']"
      ]
     },
     "execution_count": 110,
     "metadata": {},
     "output_type": "execute_result"
    }
   ],
   "source": [
    "p = re.compile(\" 00:00:00\")\n",
    "p.split('01/01/2021 12:12:10')"
   ]
  },
  {
   "cell_type": "code",
   "execution_count": 111,
   "metadata": {},
   "outputs": [
    {
     "name": "stderr",
     "output_type": "stream",
     "text": [
      "C:\\Users\\BDelamater\\Anaconda3\\lib\\site-packages\\ipykernel\\ipkernel.py:287: DeprecationWarning:\n",
      "\n",
      "`should_run_async` will not call `transform_cell` automatically in the future. Please pass the result to `transformed_cell` argument and any exception that happen during thetransform in `preprocessing_exc_tuple` in IPython 7.17 and above.\n",
      "\n"
     ]
    }
   ],
   "source": [
    "y = df_distinct['Sentiment']\n",
    "X = df_distinct[['compound', 'neg', 'neu', 'pos']]"
   ]
  },
  {
   "cell_type": "code",
   "execution_count": 112,
   "metadata": {},
   "outputs": [
    {
     "name": "stderr",
     "output_type": "stream",
     "text": [
      "C:\\Users\\BDelamater\\Anaconda3\\lib\\site-packages\\ipykernel\\ipkernel.py:287: DeprecationWarning:\n",
      "\n",
      "`should_run_async` will not call `transform_cell` automatically in the future. Please pass the result to `transformed_cell` argument and any exception that happen during thetransform in `preprocessing_exc_tuple` in IPython 7.17 and above.\n",
      "\n"
     ]
    }
   ],
   "source": [
    "from sklearn.ensemble import RandomForestClassifier\n",
    "rf = RandomForestClassifier()\n",
    "from sklearn.model_selection import cross_val_score, train_test_split"
   ]
  },
  {
   "cell_type": "code",
   "execution_count": 113,
   "metadata": {},
   "outputs": [
    {
     "name": "stderr",
     "output_type": "stream",
     "text": [
      "C:\\Users\\BDelamater\\Anaconda3\\lib\\site-packages\\ipykernel\\ipkernel.py:287: DeprecationWarning:\n",
      "\n",
      "`should_run_async` will not call `transform_cell` automatically in the future. Please pass the result to `transformed_cell` argument and any exception that happen during thetransform in `preprocessing_exc_tuple` in IPython 7.17 and above.\n",
      "\n"
     ]
    },
    {
     "data": {
      "text/plain": [
       "RandomForestClassifier()"
      ]
     },
     "execution_count": 113,
     "metadata": {},
     "output_type": "execute_result"
    }
   ],
   "source": [
    "rf.fit(X,y)"
   ]
  },
  {
   "cell_type": "code",
   "execution_count": 114,
   "metadata": {},
   "outputs": [
    {
     "name": "stderr",
     "output_type": "stream",
     "text": [
      "C:\\Users\\BDelamater\\Anaconda3\\lib\\site-packages\\ipykernel\\ipkernel.py:287: DeprecationWarning:\n",
      "\n",
      "`should_run_async` will not call `transform_cell` automatically in the future. Please pass the result to `transformed_cell` argument and any exception that happen during thetransform in `preprocessing_exc_tuple` in IPython 7.17 and above.\n",
      "\n"
     ]
    },
    {
     "data": {
      "text/plain": [
       "array([1.        , 1.        , 1.        , 0.99539171, 1.        ])"
      ]
     },
     "execution_count": 114,
     "metadata": {},
     "output_type": "execute_result"
    }
   ],
   "source": [
    "cross_val_score(rf, X, y)\n",
    "# versus the baseline (63%), this is a little weak."
   ]
  },
  {
   "cell_type": "code",
   "execution_count": 115,
   "metadata": {},
   "outputs": [
    {
     "name": "stderr",
     "output_type": "stream",
     "text": [
      "C:\\Users\\BDelamater\\Anaconda3\\lib\\site-packages\\ipykernel\\ipkernel.py:287: DeprecationWarning:\n",
      "\n",
      "`should_run_async` will not call `transform_cell` automatically in the future. Please pass the result to `transformed_cell` argument and any exception that happen during thetransform in `preprocessing_exc_tuple` in IPython 7.17 and above.\n",
      "\n"
     ]
    },
    {
     "data": {
      "text/plain": [
       "RandomForestClassifier()"
      ]
     },
     "execution_count": 115,
     "metadata": {},
     "output_type": "execute_result"
    }
   ],
   "source": [
    "X_train, X_test, y_train, y_test = train_test_split(X, y, \n",
    "                                                        test_size=0.30,\n",
    "                                                        random_state=14)\n",
    "rf.fit(X_train,y_train)"
   ]
  },
  {
   "cell_type": "code",
   "execution_count": 116,
   "metadata": {},
   "outputs": [
    {
     "name": "stderr",
     "output_type": "stream",
     "text": [
      "C:\\Users\\BDelamater\\Anaconda3\\lib\\site-packages\\ipykernel\\ipkernel.py:287: DeprecationWarning:\n",
      "\n",
      "`should_run_async` will not call `transform_cell` automatically in the future. Please pass the result to `transformed_cell` argument and any exception that happen during thetransform in `preprocessing_exc_tuple` in IPython 7.17 and above.\n",
      "\n"
     ]
    },
    {
     "data": {
      "image/png": "[encoded data removed]",
      "text/plain": [
       "<Figure size 432x432 with 1 Axes>"
      ]
     },
     "metadata": {
      "needs_background": "light"
     },
     "output_type": "display_data"
    }
   ],
   "source": [
    "\n",
    "conmat = np.array(confusion_matrix(y_test, rf.predict(X_test)))\n",
    "confusion = pd.DataFrame(conmat, index=['negative', 'neutral', 'positive'],\\\n",
    "                     columns=['Pred neg', 'Pred neutral', 'Pred pos'])\n",
    "\n",
    "plt.figure(figsize = (6,6))\n",
    "heat = sns.heatmap(confusion, annot=True, annot_kws={\"size\": 20},cmap='Blues',fmt='g', cbar=False)\n",
    "plt.xticks(rotation=0, fontsize=14)\n",
    "plt.yticks(fontsize=14)\n",
    "plt.title(\"Confusion Matrix\", fontsize=20)\n",
    "plt.savefig('ConfusionMatric.png')\n"
   ]
  },
  {
   "cell_type": "code",
   "execution_count": 203,
   "metadata": {},
   "outputs": [
    {
     "name": "stdout",
     "output_type": "stream",
     "text": [
      "              precision    recall  f1-score   support\n",
      "\n",
      "    Negative       1.00      1.00      1.00        50\n",
      "     Neutral       1.00      1.00      1.00        33\n",
      "    Positive       1.00      1.00      1.00       243\n",
      "\n",
      "    accuracy                           1.00       326\n",
      "   macro avg       1.00      1.00      1.00       326\n",
      "weighted avg       1.00      1.00      1.00       326\n",
      "\n"
     ]
    },
    {
     "name": "stderr",
     "output_type": "stream",
     "text": [
      "C:\\Users\\BDelamater\\Anaconda3\\lib\\site-packages\\ipykernel\\ipkernel.py:287: DeprecationWarning:\n",
      "\n",
      "`should_run_async` will not call `transform_cell` automatically in the future. Please pass the result to `transformed_cell` argument and any exception that happen during thetransform in `preprocessing_exc_tuple` in IPython 7.17 and above.\n",
      "\n"
     ]
    }
   ],
   "source": [
    "# SAVE THIS MANUALLY TO A PICTURE\n",
    "print(classification_report(y_test, rf.predict(X_test)))"
   ]
  },
  {
   "cell_type": "code",
   "execution_count": 204,
   "metadata": {},
   "outputs": [
    {
     "name": "stderr",
     "output_type": "stream",
     "text": [
      "C:\\Users\\BDelamater\\Anaconda3\\lib\\site-packages\\ipykernel\\ipkernel.py:287: DeprecationWarning:\n",
      "\n",
      "`should_run_async` will not call `transform_cell` automatically in the future. Please pass the result to `transformed_cell` argument and any exception that happen during thetransform in `preprocessing_exc_tuple` in IPython 7.17 and above.\n",
      "\n"
     ]
    },
    {
     "data": {
      "text/plain": [
       "Forum ID            0\n",
       "Forum Name          0\n",
       "Subject             0\n",
       "Post Date           0\n",
       "User DisplayName    0\n",
       "Forum_Post_Raw      0\n",
       "compound            0\n",
       "neg                 0\n",
       "neu                 0\n",
       "pos                 0\n",
       "Sentiment           0\n",
       "PostDate            0\n",
       "DayName             0\n",
       "DayOfMonth          0\n",
       "dtype: int64"
      ]
     },
     "execution_count": 204,
     "metadata": {},
     "output_type": "execute_result"
    }
   ],
   "source": [
    "df_distinct.isnull().sum()"
   ]
  },
  {
   "cell_type": "code",
   "execution_count": 205,
   "metadata": {},
   "outputs": [
    {
     "name": "stderr",
     "output_type": "stream",
     "text": [
      "C:\\Users\\BDelamater\\Anaconda3\\lib\\site-packages\\ipykernel\\ipkernel.py:287: DeprecationWarning:\n",
      "\n",
      "`should_run_async` will not call `transform_cell` automatically in the future. Please pass the result to `transformed_cell` argument and any exception that happen during thetransform in `preprocessing_exc_tuple` in IPython 7.17 and above.\n",
      "\n"
     ]
    }
   ],
   "source": [
    "# df_distinct"
   ]
  },
  {
   "cell_type": "code",
   "execution_count": 206,
   "metadata": {},
   "outputs": [
    {
     "name": "stderr",
     "output_type": "stream",
     "text": [
      "C:\\Users\\BDelamater\\Anaconda3\\lib\\site-packages\\ipykernel\\ipkernel.py:287: DeprecationWarning:\n",
      "\n",
      "`should_run_async` will not call `transform_cell` automatically in the future. Please pass the result to `transformed_cell` argument and any exception that happen during thetransform in `preprocessing_exc_tuple` in IPython 7.17 and above.\n",
      "\n"
     ]
    }
   ],
   "source": [
    "df = df_distinct.copy()\n",
    "df['ShortText'] = df['Forum_Post_Raw'].str[:50]\n",
    "df.dtypes\n",
    "dfLDA = df.copy()"
   ]
  },
  {
   "cell_type": "code",
   "execution_count": 207,
   "metadata": {},
   "outputs": [
    {
     "name": "stderr",
     "output_type": "stream",
     "text": [
      "C:\\Users\\BDelamater\\Anaconda3\\lib\\site-packages\\ipykernel\\ipkernel.py:287: DeprecationWarning:\n",
      "\n",
      "`should_run_async` will not call `transform_cell` automatically in the future. Please pass the result to `transformed_cell` argument and any exception that happen during thetransform in `preprocessing_exc_tuple` in IPython 7.17 and above.\n",
      "\n"
     ]
    },
    {
     "data": {
      "text/plain": [
       "0"
      ]
     },
     "execution_count": 207,
     "metadata": {},
     "output_type": "execute_result"
    }
   ],
   "source": [
    "dfLDA['Forum_Post_Raw'].isnull().sum()"
   ]
  },
  {
   "cell_type": "code",
   "execution_count": 208,
   "metadata": {},
   "outputs": [
    {
     "name": "stderr",
     "output_type": "stream",
     "text": [
      "C:\\Users\\BDelamater\\Anaconda3\\lib\\site-packages\\ipykernel\\ipkernel.py:287: DeprecationWarning:\n",
      "\n",
      "`should_run_async` will not call `transform_cell` automatically in the future. Please pass the result to `transformed_cell` argument and any exception that happen during thetransform in `preprocessing_exc_tuple` in IPython 7.17 and above.\n",
      "\n"
     ]
    }
   ],
   "source": [
    "# dfLDA['Forum_Post_Raw'].dropna(inplace=True)"
   ]
  },
  {
   "cell_type": "code",
   "execution_count": 209,
   "metadata": {},
   "outputs": [
    {
     "name": "stderr",
     "output_type": "stream",
     "text": [
      "C:\\Users\\BDelamater\\Anaconda3\\lib\\site-packages\\ipykernel\\ipkernel.py:287: DeprecationWarning:\n",
      "\n",
      "`should_run_async` will not call `transform_cell` automatically in the future. Please pass the result to `transformed_cell` argument and any exception that happen during thetransform in `preprocessing_exc_tuple` in IPython 7.17 and above.\n",
      "\n"
     ]
    }
   ],
   "source": [
    "df.set_index('PostDate', inplace=True)"
   ]
  },
  {
   "cell_type": "code",
   "execution_count": 210,
   "metadata": {},
   "outputs": [
    {
     "name": "stderr",
     "output_type": "stream",
     "text": [
      "C:\\Users\\BDelamater\\Anaconda3\\lib\\site-packages\\ipykernel\\ipkernel.py:287: DeprecationWarning:\n",
      "\n",
      "`should_run_async` will not call `transform_cell` automatically in the future. Please pass the result to `transformed_cell` argument and any exception that happen during thetransform in `preprocessing_exc_tuple` in IPython 7.17 and above.\n",
      "\n"
     ]
    },
    {
     "data": {
      "text/html": [
       "<div>\n",
       "<style scoped>\n",
       "    .dataframe tbody tr th:only-of-type {\n",
       "        vertical-align: middle;\n",
       "    }\n",
       "\n",
       "    .dataframe tbody tr th {\n",
       "        vertical-align: top;\n",
       "    }\n",
       "\n",
       "    .dataframe thead th {\n",
       "        text-align: right;\n",
       "    }\n",
       "</style>\n",
       "<table border=\"1\" class=\"dataframe\">\n",
       "  <thead>\n",
       "    <tr style=\"text-align: right;\">\n",
       "      <th></th>\n",
       "      <th>Forum ID</th>\n",
       "      <th>Forum Name</th>\n",
       "      <th>Subject</th>\n",
       "      <th>Post Date</th>\n",
       "      <th>User DisplayName</th>\n",
       "      <th>Forum_Post_Raw</th>\n",
       "      <th>compound</th>\n",
       "      <th>neg</th>\n",
       "      <th>neu</th>\n",
       "      <th>pos</th>\n",
       "      <th>Sentiment</th>\n",
       "      <th>DayName</th>\n",
       "      <th>DayOfMonth</th>\n",
       "      <th>ShortText</th>\n",
       "    </tr>\n",
       "    <tr>\n",
       "      <th>PostDate</th>\n",
       "      <th></th>\n",
       "      <th></th>\n",
       "      <th></th>\n",
       "      <th></th>\n",
       "      <th></th>\n",
       "      <th></th>\n",
       "      <th></th>\n",
       "      <th></th>\n",
       "      <th></th>\n",
       "      <th></th>\n",
       "      <th></th>\n",
       "      <th></th>\n",
       "      <th></th>\n",
       "      <th></th>\n",
       "    </tr>\n",
       "  </thead>\n",
       "  <tbody>\n",
       "    <tr>\n",
       "      <th>2019-10-10 05:58:05.730</th>\n",
       "      <td>40</td>\n",
       "      <td>Sage X3 General Discussion</td>\n",
       "      <td>ERP help urgently needed</td>\n",
       "      <td>2019-10-10T05:58:05.73</td>\n",
       "      <td>ChinusGomes</td>\n",
       "      <td>Company upgraded to windows 10. Used to run an...</td>\n",
       "      <td>0.0387</td>\n",
       "      <td>0.063</td>\n",
       "      <td>0.873</td>\n",
       "      <td>0.064</td>\n",
       "      <td>Neutral</td>\n",
       "      <td>Thursday</td>\n",
       "      <td>10</td>\n",
       "      <td>Company upgraded to windows 10. Used to run an...</td>\n",
       "    </tr>\n",
       "  </tbody>\n",
       "</table>\n",
       "</div>"
      ],
      "text/plain": [
       "                         Forum ID                  Forum Name  \\\n",
       "PostDate                                                        \n",
       "2019-10-10 05:58:05.730        40  Sage X3 General Discussion   \n",
       "\n",
       "                                          Subject               Post Date  \\\n",
       "PostDate                                                                    \n",
       "2019-10-10 05:58:05.730  ERP help urgently needed  2019-10-10T05:58:05.73   \n",
       "\n",
       "                        User DisplayName  \\\n",
       "PostDate                                   \n",
       "2019-10-10 05:58:05.730      ChinusGomes   \n",
       "\n",
       "                                                            Forum_Post_Raw  \\\n",
       "PostDate                                                                     \n",
       "2019-10-10 05:58:05.730  Company upgraded to windows 10. Used to run an...   \n",
       "\n",
       "                         compound    neg    neu    pos Sentiment   DayName  \\\n",
       "PostDate                                                                     \n",
       "2019-10-10 05:58:05.730    0.0387  0.063  0.873  0.064   Neutral  Thursday   \n",
       "\n",
       "                         DayOfMonth  \\\n",
       "PostDate                              \n",
       "2019-10-10 05:58:05.730          10   \n",
       "\n",
       "                                                                 ShortText  \n",
       "PostDate                                                                    \n",
       "2019-10-10 05:58:05.730  Company upgraded to windows 10. Used to run an...  "
      ]
     },
     "execution_count": 210,
     "metadata": {},
     "output_type": "execute_result"
    }
   ],
   "source": [
    "df.head(1)"
   ]
  },
  {
   "cell_type": "code",
   "execution_count": 211,
   "metadata": {},
   "outputs": [
    {
     "name": "stderr",
     "output_type": "stream",
     "text": [
      "C:\\Users\\BDelamater\\Anaconda3\\lib\\site-packages\\ipykernel\\ipkernel.py:287: DeprecationWarning:\n",
      "\n",
      "`should_run_async` will not call `transform_cell` automatically in the future. Please pass the result to `transformed_cell` argument and any exception that happen during thetransform in `preprocessing_exc_tuple` in IPython 7.17 and above.\n",
      "\n"
     ]
    }
   ],
   "source": [
    "df2 = df.sort_values(['PostDate']).copy()\n"
   ]
  },
  {
   "cell_type": "code",
   "execution_count": 212,
   "metadata": {},
   "outputs": [
    {
     "name": "stderr",
     "output_type": "stream",
     "text": [
      "C:\\Users\\BDelamater\\Anaconda3\\lib\\site-packages\\ipykernel\\ipkernel.py:287: DeprecationWarning:\n",
      "\n",
      "`should_run_async` will not call `transform_cell` automatically in the future. Please pass the result to `transformed_cell` argument and any exception that happen during thetransform in `preprocessing_exc_tuple` in IPython 7.17 and above.\n",
      "\n"
     ]
    },
    {
     "data": {
      "application/vnd.plotly.v1+json": {
       "config": {
        "plotlyServerURL": "https://plot.ly"
       },
       "data": [
        {
         "hovertemplate": "Post Date=%{x}<br>neg=%{y}<extra></extra>",
         "legendgroup": "",
         "line": {
          "color": "#636efa",
          "dash": "solid"
         },
         "mode": "lines",
         "name": "",
         "showlegend": false,
         "type": "scattergl",
         "x": [
          "2019-10-10T05:58:05.73",
          "2019-10-10T12:44:35.957",
          "2019-10-10T14:56:52.947",
          "2019-10-10T15:41:06.877",
          "2019-10-10T20:56:53.483",
          "2019-10-11T13:10:28.983",
          "2019-10-11T14:24:15.807",
          "2019-10-11T16:02:41.787",
          "2019-10-13T20:01:08.897",
          "2019-10-14T05:55:32.553",
          "2019-10-14T08:33:18.01",
          "2019-10-14T22:38:08.26",
          "2019-10-16T11:20:54.023",
          "2019-10-16T14:12:45.5",
          "2019-10-17T09:14:34.753",
          "2019-10-17T10:16:15.513",
          "2019-10-17T12:09:02.91",
          "2019-10-17T23:59:14.523",
          "2019-10-18T14:58:06.717",
          "2019-10-21T06:08:38.347",
          "2019-10-21T09:43:33.513",
          "2019-10-21T12:40:40.86",
          "2019-10-21T16:06:55.323",
          "2019-10-22T08:16:13.563",
          "2019-10-22T16:27:23.92",
          "2019-10-22T18:07:48.827",
          "2019-10-23T03:37:35.103",
          "2019-10-23T06:23:11.657",
          "2019-10-23T08:20:38.087",
          "2019-10-23T11:38:26.887",
          "2019-10-23T12:09:17.84",
          "2019-10-24T04:42:08.237",
          "2019-10-24T06:19:46.603",
          "2019-10-24T09:59:56.077",
          "2019-10-24T14:04:33.85",
          "2019-10-24T16:34:04.713",
          "2019-10-25T11:54:33.85",
          "2019-10-28T15:36:47.907",
          "2019-10-29T06:01:19.783",
          "2019-10-29T10:29:47.95",
          "2019-10-29T16:46:32.203",
          "2019-10-29T17:04:40.463",
          "2019-10-30T04:45:07.257",
          "2019-10-30T08:21:45.053",
          "2019-10-30T15:33:07.45",
          "2019-10-30T18:41:07.37",
          "2019-10-30T18:45:20.75",
          "2019-10-31T12:35:06.993",
          "2019-10-31T23:57:45.833",
          "2019-11-01T07:44:02.54",
          "2019-11-01T07:45:56.387",
          "2019-11-04T17:47:37.86",
          "2019-11-06T06:04:59.007",
          "2019-11-06T10:08:50.95",
          "2019-11-06T10:27:39.52",
          "2019-11-08T20:33:59.89",
          "2019-11-09T11:37:29.693",
          "2019-11-10T01:44:11.28",
          "2019-11-11T05:59:42.987",
          "2019-11-11T11:39:44.857",
          "2019-11-11T13:02:34.017",
          "2019-11-12T00:41:34.433",
          "2019-11-12T18:42:03.247",
          "2019-11-13T03:30:36.293",
          "2019-11-13T09:35:33.91",
          "2019-11-13T23:52:26.683",
          "2019-11-14T03:28:57.637",
          "2019-11-14T06:03:35.53",
          "2019-11-14T09:45:03.713",
          "2019-11-14T11:29:20.21",
          "2019-11-14T13:10:08.303",
          "2019-11-18T04:12:03.657",
          "2019-11-18T10:12:47.987",
          "2019-11-18T15:17:49.503",
          "2019-11-18T16:11:15.36",
          "2019-11-18T17:18:32.137",
          "2019-11-18T19:25:44.17",
          "2019-11-19T02:48:28.417",
          "2019-11-19T10:27:37.423",
          "2019-11-19T11:00:35.74",
          "2019-11-19T20:00:10.803",
          "2019-11-20T05:47:36.783",
          "2019-11-20T10:36:40.83",
          "2019-11-20T12:24:54.847",
          "2019-11-21T00:07:58.053",
          "2019-11-21T13:38:42.807",
          "2019-11-21T14:08:12.47",
          "2019-11-21T18:13:29.69",
          "2019-11-22T07:29:58.45",
          "2019-11-22T12:44:01.59",
          "2019-11-23T12:26:35.197",
          "2019-11-26T08:17:12.663",
          "2019-11-27T10:39:18.173",
          "2019-11-27T21:15:11.89",
          "2019-11-28T04:58:07.76",
          "2019-11-29T02:39:25.357",
          "2019-12-02T07:06:03.57",
          "2019-12-02T15:42:44.927",
          "2019-12-02T21:04:51.46",
          "2019-12-03T07:56:40.55",
          "2019-12-03T10:45:44.023",
          "2019-12-03T14:56:05.093",
          "2019-12-03T16:06:57.23",
          "2019-12-04T11:59:55.687",
          "2019-12-05T11:04:33.51",
          "2019-12-05T12:28:17.997",
          "2019-12-09T07:10:55.167",
          "2019-12-09T07:25:39.22",
          "2019-12-09T10:45:09.32",
          "2019-12-09T10:53:03.993",
          "2019-12-09T12:45:56.217",
          "2019-12-10T07:50:29.637",
          "2019-12-10T08:52:36.997",
          "2019-12-10T10:14:02.33",
          "2019-12-10T10:55:22.36",
          "2019-12-10T11:53:33.71",
          "2019-12-10T18:25:49.657",
          "2019-12-11T11:26:46.79",
          "2019-12-11T11:57:54.773",
          "2019-12-12T10:17:39.717",
          "2019-12-12T11:05:43.68",
          "2019-12-13T09:43:03.027",
          "2019-12-17T03:54:27.833",
          "2019-12-17T05:30:55.173",
          "2019-12-17T09:31:11.343",
          "2019-12-17T11:21:51.1",
          "2019-12-17T12:36:10.797",
          "2019-12-17T22:05:31.297",
          "2019-12-18T02:18:53.803",
          "2019-12-18T04:43:33.147",
          "2019-12-18T07:43:12.083",
          "2019-12-18T14:19:48.24",
          "2019-12-20T08:29:43.793",
          "2019-12-20T14:25:22.243",
          "2019-12-21T07:25:05.07",
          "2019-12-21T07:31:20.647",
          "2019-12-24T06:44:49.68",
          "2019-12-24T07:53:51.783",
          "2019-12-26T08:18:44.133",
          "2019-12-26T11:59:21.053",
          "2019-12-27T18:14:34.557",
          "2019-12-28T03:55:55.687",
          "2019-12-30T13:08:12.05",
          "2019-12-30T13:53:51.783",
          "2020-01-02T06:49:33.107",
          "2020-01-02T09:53:02.633",
          "2020-01-02T16:36:17.35",
          "2020-01-03T04:40:24.317",
          "2020-01-03T12:08:04.033",
          "2020-01-03T16:41:12.803",
          "2020-01-05T08:26:52.923",
          "2020-01-06T12:19:26.157",
          "2020-01-06T17:04:29.283",
          "2020-01-06T17:40:07.413",
          "2020-01-07T04:10:45.22",
          "2020-01-07T04:51:00.893",
          "2020-01-07T10:24:06.313",
          "2020-01-07T11:18:19.473",
          "2020-01-07T13:43:06.053",
          "2020-01-07T15:38:23.8",
          "2020-01-07T16:18:56.733",
          "2020-01-08T16:28:49.287",
          "2020-01-09T01:31:01.17",
          "2020-01-09T06:33:51.44",
          "2020-01-09T12:05:38.153",
          "2020-01-10T15:06:17.673",
          "2020-01-10T15:54:12.933",
          "2020-01-11T05:17:09.423",
          "2020-01-13T12:21:50.72",
          "2020-01-13T13:00:29.71",
          "2020-01-14T07:18:24.06",
          "2020-01-14T07:36:27.793",
          "2020-01-14T15:06:33.63",
          "2020-01-15T04:12:20.593",
          "2020-01-15T09:52:42.417",
          "2020-01-15T13:11:10.033",
          "2020-01-15T19:14:38.547",
          "2020-01-16T01:35:18.87",
          "2020-01-16T10:00:09.903",
          "2020-01-16T17:27:43.697",
          "2020-01-16T20:37:57.323",
          "2020-01-18T01:12:31.457",
          "2020-01-18T07:43:39.573",
          "2020-01-20T00:07:25.07",
          "2020-01-20T06:57:25.193",
          "2020-01-20T06:59:28.963",
          "2020-01-20T07:01:58.37",
          "2020-01-20T14:25:20.393",
          "2020-01-20T14:45:16.097",
          "2020-01-20T17:44:58.307",
          "2020-01-22T15:07:27.347",
          "2020-01-22T15:21:03.853",
          "2020-01-23T08:30:02.617",
          "2020-01-23T09:12:43.07",
          "2020-01-24T06:49:45.39",
          "2020-01-24T15:38:37.98",
          "2020-01-25T16:27:33.3",
          "2020-01-27T12:47:35.913",
          "2020-01-27T13:06:07.103",
          "2020-01-27T19:11:17.547",
          "2020-01-29T01:21:00.2",
          "2020-01-29T10:26:02.32",
          "2020-01-30T18:43:33.303",
          "2020-01-31T00:48:04.5",
          "2020-01-31T08:03:58.81",
          "2020-02-01T05:35:29.75",
          "2020-02-02T13:10:27.66",
          "2020-02-02T17:09:13.667",
          "2020-02-03T04:12:16.153",
          "2020-02-03T09:59:10.557",
          "2020-02-03T13:33:12.313",
          "2020-02-04T09:46:39.103",
          "2020-02-04T20:18:44.27",
          "2020-02-05T11:30:08.943",
          "2020-02-05T12:57:51.92",
          "2020-02-05T15:34:55.653",
          "2020-02-07T10:19:14.993",
          "2020-02-10T12:07:23.167",
          "2020-02-10T12:23:06.927",
          "2020-02-10T12:51:43.717",
          "2020-02-10T17:12:39.753",
          "2020-02-11T17:09:02.48",
          "2020-02-11T17:58:49.54",
          "2020-02-12T06:28:17.963",
          "2020-02-12T09:04:32.27",
          "2020-02-12T14:03:31.393",
          "2020-02-12T14:51:42.37",
          "2020-02-12T15:16:51.137",
          "2020-02-12T18:31:25.547",
          "2020-02-13T04:33:31.503",
          "2020-02-13T07:03:33.427",
          "2020-02-14T10:24:51.933",
          "2020-02-14T11:00:46.067",
          "2020-02-17T16:50:09.627",
          "2020-02-18T02:27:54.503",
          "2020-02-18T09:57:28.06",
          "2020-02-18T10:33:31.103",
          "2020-02-18T11:09:26.847",
          "2020-02-20T09:07:37.297",
          "2020-02-20T18:55:20.497",
          "2020-02-21T04:19:57.7",
          "2020-02-21T06:32:06.093",
          "2020-02-21T12:36:02.74",
          "2020-02-21T13:01:12.36",
          "2020-02-21T18:07:34.15",
          "2020-02-23T02:07:04.06",
          "2020-02-24T05:14:04.183",
          "2020-02-24T09:39:05.69",
          "2020-02-24T15:46:47.507",
          "2020-02-25T03:52:03.343",
          "2020-02-26T09:59:17.067",
          "2020-02-26T12:34:35.337",
          "2020-02-26T16:38:14.707",
          "2020-02-27T12:11:29.997",
          "2020-02-28T04:40:42.623",
          "2020-02-28T10:58:22.157",
          "2020-02-28T12:00:12.227",
          "2020-02-28T12:41:38.88",
          "2020-02-29T01:03:40.683",
          "2020-03-01T02:40:06.913",
          "2020-03-01T10:01:48.487",
          "2020-03-01T23:59:56.043",
          "2020-03-02T14:28:29.457",
          "2020-03-03T00:00:27.147",
          "2020-03-03T04:30:14.143",
          "2020-03-03T06:44:29.51",
          "2020-03-03T07:23:34.21",
          "2020-03-04T03:34:45.237",
          "2020-03-04T10:43:21.66",
          "2020-03-04T20:50:43.727",
          "2020-03-05T20:40:47.497",
          "2020-03-06T16:53:23.053",
          "2020-03-07T06:36:24.19",
          "2020-03-08T12:22:18.35",
          "2020-03-08T18:22:20.403",
          "2020-03-09T07:47:26.907",
          "2020-03-10T02:49:49.197",
          "2020-03-10T07:07:09.317",
          "2020-03-10T11:43:30.047",
          "2020-03-10T13:47:55.803",
          "2020-03-11T12:02:24.97",
          "2020-03-12T03:22:56.907",
          "2020-03-12T05:01:18.27",
          "2020-03-12T09:32:11.43",
          "2020-03-12T16:24:51.943",
          "2020-03-13T02:20:48.573",
          "2020-03-13T18:05:09.727",
          "2020-03-16T05:51:59.12",
          "2020-03-16T13:41:01.863",
          "2020-03-17T01:11:48.753",
          "2020-03-17T02:14:25.67",
          "2020-03-17T10:57:57.617",
          "2020-03-17T11:01:28.317",
          "2020-03-17T12:46:10.82",
          "2020-03-17T17:40:54.64",
          "2020-03-18T06:06:20.797",
          "2020-03-19T09:31:32.573",
          "2020-03-20T09:02:42.493",
          "2020-03-20T09:52:08.827",
          "2020-03-22T12:10:06.073",
          "2020-03-22T23:11:53.447",
          "2020-03-23T11:06:50.057",
          "2020-03-23T23:34:21.613",
          "2020-03-24T16:40:36.357",
          "2020-03-25T05:31:26.553",
          "2020-03-25T13:28:17.627",
          "2020-03-25T13:53:46.49",
          "2020-03-27T09:21:56.483",
          "2020-03-28T01:28:47.883",
          "2020-03-30T04:21:56.913",
          "2020-03-30T09:08:24.897",
          "2020-03-30T15:21:41.037",
          "2020-03-30T21:20:56.607",
          "2020-03-31T11:25:34.507",
          "2020-03-31T13:27:36.39",
          "2020-04-01T16:02:10.643",
          "2020-04-02T00:43:12.03",
          "2020-04-03T01:06:02.82",
          "2020-04-07T12:32:04.843",
          "2020-04-07T16:29:10.43",
          "2020-04-08T00:15:17.853",
          "2020-04-08T03:50:11.817",
          "2020-04-08T10:13:33.427",
          "2020-04-08T18:27:22.337",
          "2020-04-09T23:22:33.47",
          "2020-04-10T09:08:10.833",
          "2020-04-10T19:21:56.537",
          "2020-04-13T10:16:13.573",
          "2020-04-13T12:45:52.543",
          "2020-04-13T14:36:36.72",
          "2020-04-14T04:48:03.713",
          "2020-04-14T08:25:03.7",
          "2020-04-14T11:03:59.167",
          "2020-04-15T05:26:43.887",
          "2020-04-16T08:10:59.29",
          "2020-04-16T16:12:38.977",
          "2020-04-16T16:41:02.65",
          "2020-04-16T17:32:12.887",
          "2020-04-17T17:21:10.267",
          "2020-04-17T18:09:09.38",
          "2020-04-17T19:28:32.667",
          "2020-04-20T06:46:13.263",
          "2020-04-20T09:45:40.793",
          "2020-04-21T06:43:58.953",
          "2020-04-22T17:52:12.143",
          "2020-04-23T02:31:29.827",
          "2020-04-23T11:51:48.66",
          "2020-04-23T12:48:56.067",
          "2020-04-23T13:42:27.423",
          "2020-04-23T17:09:27.673",
          "2020-04-23T19:33:37.777",
          "2020-04-24T09:15:41.46",
          "2020-04-24T12:08:53.497",
          "2020-04-24T17:33:44.47",
          "2020-04-27T03:25:15.807",
          "2020-04-27T11:04:11.827",
          "2020-04-27T12:09:32.6",
          "2020-04-28T14:16:24.483",
          "2020-04-28T14:23:25.457",
          "2020-04-28T14:54:09.24",
          "2020-04-28T15:58:10.627",
          "2020-04-29T06:42:53.09",
          "2020-04-29T11:08:12.53",
          "2020-04-30T10:03:05.167",
          "2020-05-01T07:55:41.06",
          "2020-05-01T13:27:08.093",
          "2020-05-01T18:13:11.793",
          "2020-05-03T16:49:31.43",
          "2020-05-05T07:56:04.453",
          "2020-05-05T08:43:05.083",
          "2020-05-05T10:32:52.917",
          "2020-05-05T19:02:17.003",
          "2020-05-06T01:58:51.927",
          "2020-05-06T07:12:28.073",
          "2020-05-06T09:55:41.613",
          "2020-05-06T10:17:41.447",
          "2020-05-06T11:33:27.64",
          "2020-05-07T03:54:23.82",
          "2020-05-07T07:48:02.343",
          "2020-05-07T10:30:47.55",
          "2020-05-07T14:40:24.16",
          "2020-05-07T17:22:42.663",
          "2020-05-07T17:58:50.36",
          "2020-05-08T11:05:30.22",
          "2020-05-08T18:50:29.917",
          "2020-05-10T15:38:34.823",
          "2020-05-10T22:06:56.483",
          "2020-05-11T04:18:33.723",
          "2020-05-11T10:39:05.677",
          "2020-05-11T18:12:14.043",
          "2020-05-12T06:46:53.073",
          "2020-05-12T07:44:49.72",
          "2020-05-12T23:39:37.837",
          "2020-05-13T09:12:49.927",
          "2020-05-13T12:09:34.583",
          "2020-05-13T14:43:08.657",
          "2020-05-13T15:13:24.907",
          "2020-05-14T03:52:10.373",
          "2020-05-14T09:38:15.473",
          "2020-05-14T13:46:07.237",
          "2020-05-14T17:51:27.473",
          "2020-05-19T01:36:19.2",
          "2020-05-19T10:58:19.68",
          "2020-05-19T13:23:05.93",
          "2020-05-19T22:05:27.747",
          "2020-05-19T22:57:51.593",
          "2020-05-19T23:57:36.38",
          "2020-05-20T07:46:08.763",
          "2020-05-21T08:01:48.667",
          "2020-05-21T16:17:26.79",
          "2020-05-22T09:04:36.597",
          "2020-05-22T12:43:12.977",
          "2020-05-22T13:38:46.373",
          "2020-05-24T07:44:59.96",
          "2020-05-25T11:51:41.683",
          "2020-05-25T12:12:56.96",
          "2020-05-26T04:19:19.857",
          "2020-05-26T05:29:41.38",
          "2020-05-27T08:09:30.657",
          "2020-05-27T09:42:57.963",
          "2020-05-27T11:51:09.957",
          "2020-05-27T16:13:12.423",
          "2020-05-28T04:33:45.413",
          "2020-05-28T10:50:38.12",
          "2020-05-28T11:43:06.343",
          "2020-05-28T13:55:04.59",
          "2020-05-28T13:55:17.233",
          "2020-05-28T15:02:38.937",
          "2020-05-28T21:23:28.48",
          "2020-05-31T11:34:13.967",
          "2020-05-31T21:49:48.113",
          "2020-06-01T02:08:55.463",
          "2020-06-01T03:45:36.143",
          "2020-06-01T07:06:15.03",
          "2020-06-01T23:54:24.347",
          "2020-06-02T05:15:07.377",
          "2020-06-02T06:25:02.487",
          "2020-06-03T08:38:37.627",
          "2020-06-04T08:46:29.137",
          "2020-06-04T08:47:30.443",
          "2020-06-05T08:37:45.887",
          "2020-06-08T10:15:40.8",
          "2020-06-08T11:30:52.127",
          "2020-06-10T15:48:56.787",
          "2020-06-11T05:44:23.893",
          "2020-06-11T10:48:33.063",
          "2020-06-11T16:44:25.303",
          "2020-06-12T04:26:21.537",
          "2020-06-13T20:34:20.54",
          "2020-06-15T00:18:26.877",
          "2020-06-15T18:21:18.607",
          "2020-06-17T07:44:27.62",
          "2020-06-17T09:23:08.72",
          "2020-06-17T10:39:43.347",
          "2020-06-17T10:47:18.047",
          "2020-06-17T18:17:42.787",
          "2020-06-17T21:20:44.363",
          "2020-06-18T03:41:34.283",
          "2020-06-18T18:45:45.943",
          "2020-06-19T05:28:43.413",
          "2020-06-19T05:37:59.09",
          "2020-06-19T07:23:48.88",
          "2020-06-19T13:04:31.18",
          "2020-06-19T13:05:50.277",
          "2020-06-20T20:04:07.61",
          "2020-06-21T05:58:52.79",
          "2020-06-22T07:57:18.433",
          "2020-06-22T15:20:53.23",
          "2020-06-22T17:32:37.193",
          "2020-06-25T03:09:04.55",
          "2020-06-26T07:38:55.12",
          "2020-06-29T17:02:31.54",
          "2020-07-01T03:24:12.553",
          "2020-07-01T08:43:32.99",
          "2020-07-02T09:20:12.7",
          "2020-07-02T10:21:06.57",
          "2020-07-02T16:17:26.273",
          "2020-07-06T05:50:50.78",
          "2020-07-06T09:19:59.403",
          "2020-07-08T09:33:24.407",
          "2020-07-08T16:56:19.757",
          "2020-07-09T15:25:26.863",
          "2020-07-09T16:22:26.66",
          "2020-07-09T16:28:26.983",
          "2020-07-10T08:52:51.04",
          "2020-07-10T15:53:37.277",
          "2020-07-10T18:57:48.173",
          "2020-07-11T20:29:03.777",
          "2020-07-13T02:40:11.35",
          "2020-07-14T05:01:01.39",
          "2020-07-15T03:11:16.5",
          "2020-07-15T06:32:14.56",
          "2020-07-15T17:54:55.167",
          "2020-07-16T04:35:29.63",
          "2020-07-16T07:33:35.41",
          "2020-07-16T11:36:35.183",
          "2020-07-16T16:31:52.563",
          "2020-07-17T14:17:43.9",
          "2020-07-20T13:16:24.25",
          "2020-07-20T23:00:15.057",
          "2020-07-21T04:25:05.703",
          "2020-07-21T06:17:01.253",
          "2020-07-21T10:23:05.597",
          "2020-07-21T11:25:17.723",
          "2020-07-21T15:20:11.183",
          "2020-07-22T05:55:52.447",
          "2020-07-22T16:48:52.953",
          "2020-07-22T23:35:16.743",
          "2020-07-23T15:51:45.183",
          "2020-07-23T16:46:00.053",
          "2020-07-24T02:00:04.097",
          "2020-07-24T15:17:29.263",
          "2020-07-27T13:56:35.087",
          "2020-07-28T11:16:57.777",
          "2020-07-28T11:20:26.603",
          "2020-07-28T11:47:30.707",
          "2020-07-29T08:18:11.907",
          "2020-07-29T09:13:44.577",
          "2020-07-29T10:45:28.61",
          "2020-07-30T14:51:34.69",
          "2020-07-30T16:20:18.783",
          "2020-07-31T03:00:29.553",
          "2020-08-01T06:40:03.033",
          "2020-08-02T08:21:09.453",
          "2020-08-03T14:31:32.377",
          "2020-08-03T15:16:16.62",
          "2020-08-05T12:27:19.103",
          "2020-08-05T13:19:23.943",
          "2020-08-06T12:04:03.013",
          "2020-08-06T16:30:31.317",
          "2020-08-07T15:34:48.087",
          "2020-08-10T12:13:23.673",
          "2020-08-11T03:18:56.48",
          "2020-08-11T06:23:35.727",
          "2020-08-11T20:18:22.113",
          "2020-08-12T07:54:44.907",
          "2020-08-13T05:21:38.977",
          "2020-08-13T09:27:35.497",
          "2020-08-13T13:58:17.28",
          "2020-08-13T14:00:56.303",
          "2020-08-13T19:32:19.49",
          "2020-08-14T04:43:10.42",
          "2020-08-14T06:48:55.553",
          "2020-08-14T10:33:47.637",
          "2020-08-14T14:39:35.21",
          "2020-08-17T10:09:37.347",
          "2020-08-17T17:09:22.07",
          "2020-08-18T07:01:56.34",
          "2020-08-18T10:10:32.407",
          "2020-08-19T10:47:49.9",
          "2020-08-19T14:31:13.88",
          "2020-08-20T16:16:04.203",
          "2020-08-20T18:20:03.123",
          "2020-08-21T02:02:10.857",
          "2020-08-21T14:50:21.077",
          "2020-08-21T15:36:03.473",
          "2020-08-24T02:26:12.913",
          "2020-08-24T03:55:16.187",
          "2020-08-24T07:30:08.877",
          "2020-08-24T09:13:29.1",
          "2020-08-25T09:37:23.29",
          "2020-08-25T13:34:40.817",
          "2020-08-26T02:11:50.003",
          "2020-08-26T10:34:15.32",
          "2020-08-26T11:13:50.613",
          "2020-08-27T04:28:56.903",
          "2020-08-27T11:25:26.827",
          "2020-08-27T11:40:36.677",
          "2020-08-27T14:20:01.203",
          "2020-08-27T14:59:03.177",
          "2020-08-28T04:12:14.89",
          "2020-08-28T12:20:32.08",
          "2020-08-31T09:41:46.203",
          "2020-09-01T08:29:04.687",
          "2020-09-01T12:00:23.027",
          "2020-09-02T13:28:25.653",
          "2020-09-03T02:01:33.75",
          "2020-09-03T09:26:58.127",
          "2020-09-03T11:55:40.83",
          "2020-09-03T14:53:10.197",
          "2020-09-03T15:16:17.96",
          "2020-09-04T02:35:33.15",
          "2020-09-04T08:34:40.003",
          "2020-09-07T03:14:01.783",
          "2020-09-08T03:24:11.603",
          "2020-09-08T05:00:37.097",
          "2020-09-08T05:40:25.34",
          "2020-09-08T10:35:57.717",
          "2020-09-08T12:13:05.57",
          "2020-09-08T14:17:04.713",
          "2020-09-09T04:14:26.247",
          "2020-09-09T07:05:09.473",
          "2020-09-09T14:46:03.91",
          "2020-09-09T15:33:09.883",
          "2020-09-09T19:09:12.01",
          "2020-09-10T06:00:56.927",
          "2020-09-10T06:34:35.72",
          "2020-09-10T12:15:08.11",
          "2020-09-10T16:25:03.4",
          "2020-09-11T11:54:43.767",
          "2020-09-11T14:32:09.763",
          "2020-09-11T17:57:16.44",
          "2020-09-13T05:09:37.187",
          "2020-09-13T12:40:21.163",
          "2020-09-14T08:48:44.357",
          "2020-09-15T08:11:30.217",
          "2020-09-15T11:40:17.6",
          "2020-09-15T19:54:20.857",
          "2020-09-16T06:13:11.593",
          "2020-09-16T08:15:45.44",
          "2020-09-16T09:57:44.517",
          "2020-09-16T12:02:57.383",
          "2020-09-16T14:20:14.03",
          "2020-09-16T16:01:59.473",
          "2020-09-16T16:33:38.75",
          "2020-09-16T16:52:38.42",
          "2020-09-17T11:41:44.053",
          "2020-09-17T14:55:23.447",
          "2020-09-17T16:37:00.077",
          "2020-09-18T07:33:41.723",
          "2020-09-18T10:46:34.367",
          "2020-09-20T12:16:21.403",
          "2020-09-21T09:58:43.167",
          "2020-09-21T16:37:39.7",
          "2020-09-21T16:47:19.263",
          "2020-09-22T00:02:42.337",
          "2020-09-22T03:04:06.773",
          "2020-09-22T06:17:08.973",
          "2020-09-22T12:21:03.637",
          "2020-09-22T12:56:21.417",
          "2020-09-23T07:34:25.193",
          "2020-09-23T12:45:54.313",
          "2020-09-23T14:50:02.017",
          "2020-09-23T14:50:53.77",
          "2020-09-23T14:51:39.347",
          "2020-09-23T15:15:00.187",
          "2020-09-24T13:12:57.107",
          "2020-09-24T19:12:48.583",
          "2020-09-25T06:21:34.47",
          "2020-09-25T15:10:56.223",
          "2020-09-25T21:10:47.287",
          "2020-09-27T00:39:00.507",
          "2020-09-27T03:01:48.877",
          "2020-09-28T07:28:53.443",
          "2020-09-28T13:41:47.603",
          "2020-09-29T10:42:52.203",
          "2020-09-29T10:58:24.237",
          "2020-09-29T11:43:39.463",
          "2020-09-29T18:14:05.84",
          "2020-09-29T18:29:04.81",
          "2020-09-30T11:28:12.57",
          "2020-10-01T04:05:51.267",
          "2020-10-01T15:18:19.523",
          "2020-10-02T09:26:32.68",
          "2020-10-04T06:57:42.663",
          "2020-10-05T01:11:31.057",
          "2020-10-05T22:58:21.4",
          "2020-10-06T10:36:52.983",
          "2020-10-06T12:46:04.483",
          "2020-10-07T04:36:43.39",
          "2020-10-07T04:49:35.287",
          "2020-10-07T06:19:26.927",
          "2020-10-07T16:31:35.887",
          "2020-10-07T16:43:08.117",
          "2020-10-08T07:26:39.637",
          "2020-10-08T08:52:50.623",
          "2020-10-08T16:26:59.76",
          "2020-10-09T02:01:00.407",
          "2020-10-09T19:17:29.443",
          "2020-10-12T09:03:36.163",
          "2020-10-12T20:34:39.057",
          "2020-10-13T13:02:42.213",
          "2020-10-13T18:32:15.773",
          "2020-10-14T06:43:01.837",
          "2020-10-14T09:31:09.873",
          "2020-10-14T13:41:44.907",
          "2020-10-14T13:52:09.94",
          "2020-10-15T06:57:57.13",
          "2020-10-15T14:35:43.96",
          "2020-10-16T10:01:41.817",
          "2020-10-16T12:33:29.753",
          "2020-10-16T13:34:13.343",
          "2020-10-16T18:36:31.273",
          "2020-10-17T11:21:17.997",
          "2020-10-17T21:00:48.037",
          "2020-10-19T15:39:33.853",
          "2020-10-19T22:07:22.383",
          "2020-10-19T22:07:38.62",
          "2020-10-20T03:00:27.94",
          "2020-10-20T16:35:09.947",
          "2020-10-21T04:53:38.967",
          "2020-10-21T06:22:02.867",
          "2020-10-21T09:30:56.74",
          "2020-10-21T10:44:23.66",
          "2020-10-21T12:58:42.72",
          "2020-10-21T13:33:08.743",
          "2020-10-21T14:06:01.427",
          "2020-10-22T13:47:42.993",
          "2020-10-22T14:31:26.257",
          "2020-10-22T17:17:54.993",
          "2020-10-22T17:19:54.477",
          "2020-10-23T07:50:08.56",
          "2020-10-23T12:09:06.92",
          "2020-10-23T16:06:11.243",
          "2020-10-24T16:03:56.137",
          "2020-10-25T08:22:12.38",
          "2020-10-25T16:01:58.43",
          "2020-10-26T05:46:15.347",
          "2020-10-27T16:57:39.52",
          "2020-10-28T05:57:09.547",
          "2020-10-28T13:28:28.833",
          "2020-10-28T15:58:04.637",
          "2020-10-29T01:39:26.437",
          "2020-10-29T02:25:33.677",
          "2020-10-29T11:10:06.717",
          "2020-10-29T14:45:52.203",
          "2020-10-30T15:24:32.273",
          "2020-11-02T09:41:44.807",
          "2020-11-02T16:14:49.56",
          "2020-11-03T09:15:35.397",
          "2020-11-03T14:16:21.633",
          "2020-11-04T08:18:34.06",
          "2020-11-05T12:22:50.65",
          "2020-11-05T13:57:09.393",
          "2020-11-06T03:12:33.02",
          "2020-11-07T02:30:08.94",
          "2020-11-08T12:42:54.723",
          "2020-11-08T12:48:07.61",
          "2020-11-09T08:23:02.983",
          "2020-11-09T10:51:40.613",
          "2020-11-11T05:50:59.56",
          "2020-11-11T06:00:38.383",
          "2020-11-11T09:58:05.707",
          "2020-11-11T11:27:29.283",
          "2020-11-11T15:13:05.847",
          "2020-11-11T16:53:07.01",
          "2020-11-12T05:28:55.913",
          "2020-11-12T14:47:17.27",
          "2020-11-12T18:39:57.223",
          "2020-11-13T03:08:25.797",
          "2020-11-13T18:33:05.46",
          "2020-11-14T14:04:27.383",
          "2020-11-16T02:39:45.893",
          "2020-11-16T11:23:16.327",
          "2020-11-16T11:25:19.08",
          "2020-11-18T06:54:44.173",
          "2020-11-18T11:32:37.993",
          "2020-11-18T11:41:37.49",
          "2020-11-18T12:30:24.143",
          "2020-11-18T12:37:55.147",
          "2020-11-18T19:18:53.403",
          "2020-11-19T09:30:41.29",
          "2020-11-19T12:44:09.52",
          "2020-11-19T16:56:39.44",
          "2020-11-20T10:05:42.53",
          "2020-11-20T14:00:44.387",
          "2020-11-20T16:00:00.39",
          "2020-11-21T05:08:51.133",
          "2020-11-22T23:21:07.067",
          "2020-11-23T01:58:09.64",
          "2020-11-24T10:58:17.443",
          "2020-11-24T15:09:06.143",
          "2020-11-24T16:02:26.117",
          "2020-11-24T20:48:57.933",
          "2020-11-25T11:17:47.587",
          "2020-11-25T11:59:22.583",
          "2020-11-25T12:40:55.58",
          "2020-11-25T13:13:05.463",
          "2020-11-25T14:28:28.507",
          "2020-11-25T15:43:04.867",
          "2020-11-26T11:43:14.277",
          "2020-11-30T16:32:19.377",
          "2020-12-02T09:26:16.583",
          "2020-12-02T15:54:46.727",
          "2020-12-03T15:45:18.923",
          "2020-12-04T18:13:27.287",
          "2020-12-06T07:13:50.297",
          "2020-12-06T08:25:07.433",
          "2020-12-06T22:33:26.473",
          "2020-12-08T06:45:13.323",
          "2020-12-08T11:32:56.12",
          "2020-12-08T12:43:05.35",
          "2020-12-08T12:43:52.023",
          "2020-12-08T15:13:24.93",
          "2020-12-09T10:04:40.567",
          "2020-12-10T03:32:44.07",
          "2020-12-10T16:03:19.67",
          "2020-12-10T16:45:56.92",
          "2020-12-11T09:05:13.287",
          "2020-12-15T11:43:28.143",
          "2020-12-15T13:24:34.04",
          "2020-12-16T05:04:16.433",
          "2020-12-16T11:24:45.933",
          "2020-12-16T13:34:06.637",
          "2020-12-16T16:31:08.12",
          "2020-12-16T21:46:56.413",
          "2020-12-18T03:06:14.177",
          "2020-12-18T11:11:07.787",
          "2020-12-21T08:30:12.503",
          "2020-12-21T17:49:39.223",
          "2020-12-22T04:59:41.42",
          "2020-12-22T05:06:26.697",
          "2020-12-23T09:59:10.2",
          "2020-12-23T10:59:14.423",
          "2020-12-24T00:03:53.283",
          "2020-12-26T15:56:58.257",
          "2020-12-27T01:57:08.607",
          "2020-12-27T11:57:47.007",
          "2020-12-27T14:12:00.18",
          "2020-12-28T02:51:24.99",
          "2020-12-28T10:34:01.52",
          "2020-12-28T11:57:21.447",
          "2020-12-28T15:09:46.85",
          "2020-12-29T08:45:35.597",
          "2020-12-29T11:55:09.773",
          "2020-12-29T15:13:04.71",
          "2020-12-29T17:22:22.603",
          "2020-12-30T10:05:14.57",
          "2020-12-31T18:03:21.66",
          "2021-01-01T07:00:15.443",
          "2021-01-03T22:55:07.463",
          "2021-01-04T07:41:29.507",
          "2021-01-04T07:48:38.72",
          "2021-01-04T08:49:11.093",
          "2021-01-04T12:26:12.183",
          "2021-01-05T09:54:38.063",
          "2021-01-05T10:07:21.227",
          "2021-01-05T20:16:38.75",
          "2021-01-06T12:25:16.487",
          "2021-01-06T14:50:39.423",
          "2021-01-07T00:43:54.317",
          "2021-01-08T03:57:53.35",
          "2021-01-09T23:27:17.513",
          "2021-01-11T05:30:23.477",
          "2021-01-11T16:25:58.88",
          "2021-01-11T22:44:21.93",
          "2021-01-12T06:59:45.843",
          "2021-01-12T07:40:27.073",
          "2021-01-12T08:16:59.57",
          "2021-01-12T09:52:23.923",
          "2021-01-12T23:48:05.1",
          "2021-01-14T13:55:54.143",
          "2021-01-15T06:20:18.943",
          "2021-01-15T11:36:31.313",
          "2021-01-16T04:10:22.447",
          "2021-01-16T07:56:33.363",
          "2021-01-16T19:32:13.78",
          "2021-01-18T00:23:54.957",
          "2021-01-18T05:59:41.04",
          "2021-01-19T13:53:44.657",
          "2021-01-19T14:58:12.793",
          "2021-01-20T07:11:18.693",
          "2021-01-20T07:58:12.823",
          "2021-01-20T15:38:36.633",
          "2021-01-20T16:13:02.5",
          "2021-01-21T09:00:33.853",
          "2021-01-21T17:46:44.013",
          "2021-01-22T13:54:36.95",
          "2021-01-22T15:20:52.107",
          "2021-01-23T00:52:07.6",
          "2021-01-25T03:57:52.733",
          "2021-01-25T10:05:26.427",
          "2021-01-25T12:51:33.14",
          "2021-01-25T17:07:17.423",
          "2021-01-27T01:26:58.78",
          "2021-01-27T09:22:55.277",
          "2021-01-27T09:22:55.547",
          "2021-01-27T09:28:32.857",
          "2021-01-27T13:06:46.71",
          "2021-01-28T11:33:34.887",
          "2021-01-29T05:09:45.457",
          "2021-01-29T09:32:23.31",
          "2021-01-30T02:44:24.313",
          "2021-02-01T14:35:54.11",
          "2021-02-02T02:54:29.54",
          "2021-02-02T09:15:33.837",
          "2021-02-03T04:07:38.773",
          "2021-02-03T06:28:55.87",
          "2021-02-03T14:28:38.48",
          "2021-02-04T18:52:41.68",
          "2021-02-05T01:44:05.203",
          "2021-02-05T09:38:55.053",
          "2021-02-07T01:35:51.77",
          "2021-02-07T03:45:35.85",
          "2021-02-07T22:47:17.563",
          "2021-02-08T04:21:46.14",
          "2021-02-08T14:35:14.027",
          "2021-02-08T20:23:34.343",
          "2021-02-09T05:36:55.147",
          "2021-02-09T07:28:04.943",
          "2021-02-10T06:07:45.91",
          "2021-02-10T11:48:40.4",
          "2021-02-10T13:30:52.19",
          "2021-02-10T17:28:34.27",
          "2021-02-11T16:40:26.987",
          "2021-02-11T21:31:20.58",
          "2021-02-12T05:54:48.23",
          "2021-02-12T09:56:04.773",
          "2021-02-12T15:06:05.92",
          "2021-02-12T15:07:52.33",
          "2021-02-13T02:53:30.073",
          "2021-02-14T04:45:31.08",
          "2021-02-14T15:10:09.8",
          "2021-02-15T21:50:52.64",
          "2021-02-16T06:32:23.97",
          "2021-02-16T09:44:47.337",
          "2021-02-16T14:37:14.58",
          "2021-02-17T00:44:34.993",
          "2021-02-17T01:00:17.45",
          "2021-02-17T01:25:49.423",
          "2021-02-17T17:57:59.497",
          "2021-02-18T04:41:42.563",
          "2021-02-19T11:17:25.39",
          "2021-02-22T01:18:39.76",
          "2021-02-22T10:22:26.3",
          "2021-02-23T05:30:07.697",
          "2021-02-23T08:25:50.447",
          "2021-02-23T15:53:46.57",
          "2021-02-24T07:45:06.977",
          "2021-02-24T12:36:00.77",
          "2021-02-25T08:53:44.637",
          "2021-02-25T10:29:48.393",
          "2021-02-25T16:43:06.273",
          "2021-02-26T09:23:09.993",
          "2021-02-26T11:57:02.543",
          "2021-02-26T18:47:43.037",
          "2021-02-27T07:31:29.457",
          "2021-02-27T11:08:57.667",
          "2021-03-01T09:13:33.787",
          "2021-03-01T19:39:59.55",
          "2021-03-02T09:23:36.847",
          "2021-03-02T11:18:39.363",
          "2021-03-02T16:31:12.837",
          "2021-03-03T03:05:35.877",
          "2021-03-03T05:13:37.897",
          "2021-03-03T06:44:32.35",
          "2021-03-03T08:54:25",
          "2021-03-03T09:20:39.307",
          "2021-03-03T16:19:15.397",
          "2021-03-04T02:36:22.257",
          "2021-03-04T11:01:28.96",
          "2021-03-05T08:22:11.3",
          "2021-03-06T06:54:56.57",
          "2021-03-09T07:01:54.71",
          "2021-03-09T11:05:19.053",
          "2021-03-09T11:09:19.763",
          "2021-03-09T14:55:21.58",
          "2021-03-09T17:00:23.213",
          "2021-03-10T04:36:07.837",
          "2021-03-10T15:24:21.857",
          "2021-03-10T16:00:02.613",
          "2021-03-11T04:20:04.103",
          "2021-03-11T09:00:30.913",
          "2021-03-11T17:30:43.753",
          "2021-03-12T02:34:21.683",
          "2021-03-12T03:28:33.083",
          "2021-03-12T11:48:47.203",
          "2021-03-13T10:25:21.143",
          "2021-03-14T17:29:30.287",
          "2021-03-15T10:13:43.667",
          "2021-03-15T10:53:54.233",
          "2021-03-16T07:06:57.6",
          "2021-03-16T15:19:27.047",
          "2021-03-17T17:02:54.86",
          "2021-03-18T02:51:39.69",
          "2021-03-18T13:51:25.81",
          "2021-03-19T07:21:13.43",
          "2021-03-19T11:31:47.557",
          "2021-03-20T01:34:53.61",
          "2021-03-22T03:47:12.6",
          "2021-03-23T12:14:18.863",
          "2021-03-24T09:04:13.813",
          "2021-03-24T12:58:46.5",
          "2021-03-25T03:17:53.38",
          "2021-03-25T14:46:51.637",
          "2021-03-25T16:39:59.577",
          "2021-03-26T14:27:14.173",
          "2021-03-30T12:29:47.413",
          "2021-03-30T12:53:22.887",
          "2021-03-31T05:04:42.15",
          "2021-03-31T06:38:42.34",
          "2021-04-01T08:14:49.057",
          "2021-04-06T19:28:50.28",
          "2021-04-07T14:44:07.22",
          "2021-04-08T17:31:25.08",
          "2021-04-09T14:10:26.533",
          "2021-04-09T18:43:03.997",
          "2021-04-10T02:53:00.28",
          "2021-04-10T03:29:32.747",
          "2021-04-10T15:57:59.943",
          "2021-04-12T10:52:25.73",
          "2021-04-12T12:12:10.283",
          "2021-04-12T15:13:07.097",
          "2021-04-14T03:27:41.803",
          "2021-04-15T08:57:58.05",
          "2021-04-15T12:20:03.933",
          "2021-04-19T09:41:09.173",
          "2021-04-20T07:00:28.707",
          "2021-04-20T11:43:36.217",
          "2021-04-20T15:43:56.607",
          "2021-04-21T11:38:15.18",
          "2021-04-22T04:29:17.66",
          "2021-04-22T04:48:51.64",
          "2021-04-22T06:55:40.56",
          "2021-04-22T07:32:19.79",
          "2021-04-22T16:37:41.357",
          "2021-04-22T16:43:27",
          "2021-04-23T00:03:22.743",
          "2021-04-23T09:14:59.607",
          "2021-04-23T11:09:05.35",
          "2021-04-27T07:40:14.087",
          "2021-04-27T10:25:08.213",
          "2021-04-27T13:53:38.607",
          "2021-04-27T14:05:34.707",
          "2021-04-27T16:17:23.083",
          "2021-04-27T16:38:41.177",
          "2021-04-28T06:07:57.33",
          "2021-04-28T11:44:20.84",
          "2021-04-28T14:08:31.08",
          "2021-04-28T14:15:54.817",
          "2021-04-29T02:16:11.49",
          "2021-04-30T07:03:44.607",
          "2021-04-30T08:43:37.07",
          "2021-04-30T15:41:33.667",
          "2021-05-04T03:26:26.993",
          "2021-05-04T09:31:18.373",
          "2021-05-05T10:48:30.583",
          "2021-05-05T14:59:26.737",
          "2021-05-06T04:52:27.5",
          "2021-05-06T05:44:31.317",
          "2021-05-06T06:08:48.817",
          "2021-05-06T10:55:46.883",
          "2021-05-06T14:47:18.237",
          "2021-05-06T15:36:56.423",
          "2021-05-06T19:21:40.677",
          "2021-05-07T11:58:25.423",
          "2021-05-07T12:44:00.26",
          "2021-05-10T14:33:41.143",
          "2021-05-11T11:11:22.967",
          "2021-05-11T14:33:52.803",
          "2021-05-11T16:15:01.67",
          "2021-05-12T19:29:45.887",
          "2021-05-14T08:27:02.38",
          "2021-05-14T10:04:28.7",
          "2021-05-17T00:14:13.58",
          "2021-05-17T05:24:41.617",
          "2021-05-17T10:22:56.957",
          "2021-05-17T10:44:03.017",
          "2021-05-17T12:12:39.573",
          "2021-05-17T12:41:24.27",
          "2021-05-18T00:14:22.057",
          "2021-05-19T09:46:33.497",
          "2021-05-20T08:11:58.513",
          "2021-05-21T02:17:15.373",
          "2021-05-23T15:49:03.797",
          "2021-05-24T03:14:14.447",
          "2021-05-24T05:55:56.8",
          "2021-05-24T14:55:23.877",
          "2021-05-25T10:09:32.81",
          "2021-05-25T16:41:37.953",
          "2021-05-25T23:18:10.647",
          "2021-05-25T23:21:55.333",
          "2021-05-26T05:39:30.67",
          "2021-05-27T07:12:50.66",
          "2021-05-28T11:21:25.033",
          "2021-05-28T13:33:13.153",
          "2021-05-29T21:45:02.2",
          "2021-05-30T01:41:31.68",
          "2021-05-30T08:11:59.69",
          "2021-06-02T07:44:14.63",
          "2021-06-02T12:18:46.267",
          "2021-06-02T13:14:26.307",
          "2021-06-02T13:40:25.58",
          "2021-06-02T13:53:43.85",
          "2021-06-02T15:54:57.997",
          "2021-06-02T16:37:04.77",
          "2021-06-03T02:17:04.61",
          "2021-06-03T04:46:03.063",
          "2021-06-03T04:52:06.57",
          "2021-06-03T09:19:09.593",
          "2021-06-03T19:44:17.527",
          "2021-06-04T05:25:16.927",
          "2021-06-04T10:11:48.013",
          "2021-06-04T19:14:13.09",
          "2021-06-08T04:53:56.6",
          "2021-06-08T10:57:39.363"
         ],
         "xaxis": "x",
         "y": [
          0.063,
          0.022,
          0,
          0.041,
          0,
          0.046,
          0,
          0,
          0,
          0.081,
          0.05,
          0.102,
          0.025,
          0,
          0.037,
          0,
          0.077,
          0.09,
          0,
          0,
          0.069,
          0.121,
          0.067,
          0.034,
          0.079,
          0,
          0,
          0.062,
          0,
          0.089,
          0.055,
          0,
          0.11,
          0,
          0.118,
          0,
          0.145,
          0,
          0,
          0.035,
          0,
          0.062,
          0,
          0.129,
          0,
          0.038,
          0.249,
          0,
          0.1,
          0.032,
          0.102,
          0,
          0,
          0,
          0.131,
          0,
          0,
          0.073,
          0.122,
          0,
          0.02,
          0,
          0,
          0,
          0,
          0,
          0.057,
          0,
          0,
          0,
          0.029,
          0.065,
          0.079,
          0.035,
          0,
          0,
          0,
          0.043,
          0.067,
          0,
          0,
          0.146,
          0.036,
          0,
          0.011,
          0,
          0.024,
          0,
          0,
          0.041,
          0.073,
          0,
          0,
          0,
          0.047,
          0.166,
          0.049,
          0.033,
          0,
          0,
          0,
          0.14,
          0.158,
          0,
          0,
          0.022,
          0.021,
          0.037,
          0,
          0.088,
          0,
          0.08,
          0.046,
          0,
          0.092,
          0,
          0,
          0,
          0,
          0.059,
          0,
          0,
          0.048,
          0,
          0.023,
          0,
          0,
          0,
          0.074,
          0.102,
          0.06,
          0,
          0.1,
          0,
          0.074,
          0.03,
          0.153,
          0,
          0.047,
          0.036,
          0,
          0.018,
          0,
          0.116,
          0.034,
          0,
          0,
          0.167,
          0.046,
          0.028,
          0.171,
          0,
          0,
          0.072,
          0.052,
          0.039,
          0,
          0,
          0,
          0.057,
          0,
          0.05,
          0,
          0.031,
          0.058,
          0.171,
          0.007,
          0,
          0.056,
          0.011,
          0.146,
          0,
          0.043,
          0,
          0.044,
          0,
          0.03,
          0.046,
          0,
          0,
          0,
          0,
          0.028,
          0.013,
          0.029,
          0,
          0,
          0.073,
          0.05,
          0.077,
          0.022,
          0.052,
          0.025,
          0,
          0.104,
          0,
          0.028,
          0,
          0,
          0,
          0,
          0.041,
          0.046,
          0.077,
          0,
          0,
          0,
          0.09,
          0.07,
          0.067,
          0.124,
          0.047,
          0,
          0.129,
          0.074,
          0,
          0,
          0,
          0,
          0.021,
          0,
          0.061,
          0,
          0.047,
          0.091,
          0,
          0.051,
          0.077,
          0.071,
          0.033,
          0,
          0.194,
          0.043,
          0.014,
          0,
          0,
          0,
          0.028,
          0,
          0.048,
          0.093,
          0.022,
          0.017,
          0.026,
          0,
          0,
          0.053,
          0.085,
          0.055,
          0,
          0,
          0.231,
          0,
          0,
          0,
          0.087,
          0,
          0,
          0,
          0,
          0.022,
          0.03,
          0,
          0,
          0,
          0,
          0.062,
          0,
          0,
          0.19,
          0.058,
          0,
          0,
          0,
          0.049,
          0,
          0,
          0,
          0.131,
          0,
          0,
          0.102,
          0.069,
          0.042,
          0.031,
          0.103,
          0.005,
          0,
          0.027,
          0,
          0.154,
          0.057,
          0,
          0.106,
          0.027,
          0.119,
          0,
          0,
          0,
          0.049,
          0,
          0,
          0.053,
          0.069,
          0,
          0.115,
          0,
          0,
          0.051,
          0.227,
          0,
          0,
          0.17,
          0,
          0,
          0.034,
          0.089,
          0,
          0.022,
          0,
          0.048,
          0.076,
          0.038,
          0.023,
          0.103,
          0,
          0,
          0.015,
          0.022,
          0,
          0.099,
          0,
          0.172,
          0.083,
          0.073,
          0.121,
          0.023,
          0.123,
          0.039,
          0,
          0.059,
          0,
          0,
          0,
          0.021,
          0.07,
          0,
          0,
          0,
          0.162,
          0,
          0,
          0,
          0,
          0,
          0,
          0.154,
          0,
          0,
          0,
          0,
          0,
          0.035,
          0.016,
          0.013,
          0.022,
          0.017,
          0,
          0,
          0,
          0.062,
          0,
          0,
          0.048,
          0,
          0.127,
          0,
          0.117,
          0.02,
          0.083,
          0,
          0,
          0.049,
          0,
          0,
          0,
          0.043,
          0,
          0,
          0,
          0.048,
          0.096,
          0,
          0.186,
          0,
          0.043,
          0,
          0.078,
          0,
          0.084,
          0.12,
          0,
          0.068,
          0,
          0.212,
          0,
          0.078,
          0.155,
          0.015,
          0,
          0.042,
          0.058,
          0,
          0.213,
          0.071,
          0.076,
          0.042,
          0.056,
          0,
          0,
          0.037,
          0,
          0.052,
          0.017,
          0,
          0,
          0.046,
          0.043,
          0.154,
          0.1,
          0.166,
          0.098,
          0.091,
          0,
          0.067,
          0.098,
          0.072,
          0,
          0,
          0,
          0,
          0.164,
          0.062,
          0.059,
          0,
          0.031,
          0,
          0.113,
          0,
          0,
          0.087,
          0,
          0.115,
          0,
          0.118,
          0.035,
          0,
          0,
          0,
          0,
          0.1,
          0.019,
          0,
          0,
          0,
          0,
          0,
          0.031,
          0.062,
          0,
          0.073,
          0.188,
          0,
          0,
          0,
          0.016,
          0,
          0.048,
          0.087,
          0,
          0.052,
          0,
          0.029,
          0,
          0.062,
          0,
          0,
          0.072,
          0.118,
          0,
          0.092,
          0.02,
          0,
          0,
          0.1,
          0.085,
          0,
          0.164,
          0.024,
          0,
          0.237,
          0.069,
          0,
          0.052,
          0.033,
          0,
          0,
          0.033,
          0,
          0.049,
          0.022,
          0.048,
          0,
          0.05,
          0.013,
          0,
          0,
          0,
          0,
          0,
          0.065,
          0.224,
          0.06,
          0.098,
          0,
          0,
          0,
          0.02,
          0.04,
          0.132,
          0,
          0,
          0.048,
          0,
          0.137,
          0.018,
          0.07,
          0.023,
          0.056,
          0,
          0,
          0.04,
          0.095,
          0,
          0.05,
          0.136,
          0.181,
          0,
          0.211,
          0,
          0,
          0,
          0.049,
          0.038,
          0.087,
          0,
          0,
          0.071,
          0.027,
          0,
          0.084,
          0,
          0.091,
          0,
          0.03,
          0,
          0,
          0,
          0.053,
          0.025,
          0.065,
          0,
          0,
          0,
          0,
          0.078,
          0,
          0.012,
          0,
          0.065,
          0,
          0,
          0.089,
          0.029,
          0,
          0,
          0,
          0.06,
          0,
          0,
          0.141,
          0.06,
          0,
          0.047,
          0.026,
          0.065,
          0.089,
          0,
          0.123,
          0,
          0.09,
          0.066,
          0.089,
          0,
          0,
          0,
          0.009,
          0.037,
          0,
          0,
          0,
          0,
          0,
          0,
          0,
          0,
          0.041,
          0.069,
          0,
          0,
          0,
          0,
          0.026,
          0,
          0,
          0,
          0.062,
          0,
          0,
          0.026,
          0.236,
          0.062,
          0,
          0,
          0,
          0.059,
          0.129,
          0,
          0,
          0.028,
          0,
          0.121,
          0,
          0.017,
          0,
          0,
          0,
          0,
          0,
          0,
          0.103,
          0,
          0.065,
          0,
          0.047,
          0.08,
          0.169,
          0,
          0.046,
          0.041,
          0.156,
          0.081,
          0.011,
          0,
          0.03,
          0,
          0.079,
          0,
          0.132,
          0.05,
          0.046,
          0.055,
          0.071,
          0,
          0.067,
          0,
          0.034,
          0,
          0,
          0.087,
          0,
          0,
          0.045,
          0.118,
          0.1,
          0.029,
          0,
          0.074,
          0,
          0.07,
          0,
          0,
          0.044,
          0.004,
          0.182,
          0.086,
          0.092,
          0,
          0,
          0,
          0,
          0.021,
          0,
          0,
          0,
          0.034,
          0.007,
          0.036,
          0,
          0.205,
          0.205,
          0.06,
          0.1,
          0,
          0,
          0,
          0.032,
          0,
          0.026,
          0,
          0,
          0,
          0,
          0,
          0.048,
          0,
          0,
          0.025,
          0.148,
          0.082,
          0.009,
          0.145,
          0.048,
          0.091,
          0,
          0.005,
          0,
          0.023,
          0.111,
          0.015,
          0.075,
          0,
          0,
          0.028,
          0,
          0.074,
          0,
          0.07,
          0.058,
          0,
          0.039,
          0,
          0,
          0.07,
          0.072,
          0.017,
          0,
          0,
          0.031,
          0,
          0.116,
          0,
          0.071,
          0.026,
          0.108,
          0,
          0.016,
          0.136,
          0,
          0,
          0.236,
          0,
          0.045,
          0.086,
          0.133,
          0.041,
          0.156,
          0.013,
          0,
          0.116,
          0.025,
          0.1,
          0.022,
          0,
          0,
          0.054,
          0.115,
          0,
          0.055,
          0.042,
          0.163,
          0.051,
          0.103,
          0,
          0.074,
          0,
          0,
          0.044,
          0.148,
          0.014,
          0.276,
          0,
          0.053,
          0.037,
          0,
          0,
          0.112,
          0,
          0,
          0.102,
          0,
          0,
          0.109,
          0.13,
          0,
          0.231,
          0,
          0.082,
          0.035,
          0,
          0,
          0.045,
          0,
          0.08,
          0,
          0,
          0.023,
          0,
          0,
          0,
          0.044,
          0.029,
          0.125,
          0,
          0.035,
          0,
          0.04,
          0,
          0.091,
          0.086,
          0.143,
          0,
          0.246,
          0.019,
          0,
          0.129,
          0.04,
          0.053,
          0,
          0.015,
          0,
          0.054,
          0.19,
          0,
          0.021,
          0.05,
          0,
          0,
          0,
          0.074,
          0.014,
          0,
          0,
          0,
          0.111,
          0,
          0,
          0,
          0.037,
          0,
          0.059,
          0,
          0.171,
          0,
          0.03,
          0.048,
          0.064,
          0.141,
          0.064,
          0,
          0,
          0.175,
          0.066,
          0.091,
          0,
          0.027,
          0.114,
          0,
          0.079,
          0.079,
          0.17,
          0.052,
          0.065,
          0.039,
          0.098,
          0.018,
          0.06,
          0.046,
          0,
          0,
          0.031,
          0,
          0.047,
          0,
          0.068,
          0,
          0.15,
          0.104,
          0.055,
          0,
          0,
          0.022,
          0,
          0,
          0.026,
          0,
          0.027,
          0,
          0,
          0.105,
          0.015,
          0.056,
          0.057,
          0,
          0.12,
          0,
          0.095,
          0,
          0,
          0.026,
          0.023,
          0,
          0.013,
          0.133,
          0,
          0.053,
          0,
          0.092,
          0.16,
          0,
          0.117,
          0,
          0.074,
          0,
          0.048,
          0,
          0,
          0.415,
          0,
          0.013,
          0.026,
          0,
          0.036,
          0,
          0.046,
          0.067,
          0,
          0,
          0,
          0,
          0,
          0.016,
          0.037,
          0.019,
          0,
          0,
          0,
          0.213,
          0,
          0.065,
          0,
          0.227,
          0.037,
          0.075,
          0,
          0,
          0,
          0,
          0.049,
          0.036,
          0,
          0,
          0,
          0.109,
          0.018,
          0.053,
          0.095,
          0,
          0.231,
          0.147,
          0.041,
          0,
          0.092,
          0.06,
          0.032,
          0.056,
          0,
          0,
          0.147,
          0,
          0,
          0.024,
          0,
          0.06,
          0.093,
          0,
          0.107,
          0.127,
          0,
          0.033,
          0.036,
          0.063,
          0,
          0,
          0,
          0,
          0,
          0.15,
          0.049,
          0.152,
          0.127,
          0,
          0.031,
          0.036,
          0.025,
          0,
          0,
          0,
          0.025,
          0.045,
          0.15,
          0.068,
          0,
          0.045,
          0.026,
          0,
          0,
          0,
          0.047,
          0.061,
          0.131,
          0,
          0.093,
          0.016,
          0.072,
          0,
          0.067,
          0.16,
          0.086,
          0.135,
          0.258,
          0.097,
          0,
          0.067,
          0.103,
          0,
          0,
          0.051,
          0.046,
          0.022,
          0,
          0,
          0,
          0.063,
          0.068,
          0.04,
          0.028,
          0,
          0,
          0,
          0,
          0.043,
          0.025,
          0,
          0,
          0,
          0,
          0.21,
          0.039,
          0,
          0,
          0,
          0,
          0.089,
          0,
          0
         ],
         "yaxis": "y"
        }
       ],
       "layout": {
        "legend": {
         "tracegroupgap": 0
        },
        "margin": {
         "t": 60
        },
        "template": {
         "data": {
          "bar": [
           {
            "error_x": {
             "color": "#2a3f5f"
            },
            "error_y": {
             "color": "#2a3f5f"
            },
            "marker": {
             "line": {
              "color": "#E5ECF6",
              "width": 0.5
             }
            },
            "type": "bar"
           }
          ],
          "barpolar": [
           {
            "marker": {
             "line": {
              "color": "#E5ECF6",
              "width": 0.5
             }
            },
            "type": "barpolar"
           }
          ],
          "carpet": [
           {
            "aaxis": {
             "endlinecolor": "#2a3f5f",
             "gridcolor": "white",
             "linecolor": "white",
             "minorgridcolor": "white",
             "startlinecolor": "#2a3f5f"
            },
            "baxis": {
             "endlinecolor": "#2a3f5f",
             "gridcolor": "white",
             "linecolor": "white",
             "minorgridcolor": "white",
             "startlinecolor": "#2a3f5f"
            },
            "type": "carpet"
           }
          ],
          "choropleth": [
           {
            "colorbar": {
             "outlinewidth": 0,
             "ticks": ""
            },
            "type": "choropleth"
           }
          ],
          "contour": [
           {
            "colorbar": {
             "outlinewidth": 0,
             "ticks": ""
            },
            "colorscale": [
             [
              0,
              "#0d0887"
             ],
             [
              0.1111111111111111,
              "#46039f"
             ],
             [
              0.2222222222222222,
              "#7201a8"
             ],
             [
              0.3333333333333333,
              "#9c179e"
             ],
             [
              0.4444444444444444,
              "#bd3786"
             ],
             [
              0.5555555555555556,
              "#d8576b"
             ],
             [
              0.6666666666666666,
              "#ed7953"
             ],
             [
              0.7777777777777778,
              "#fb9f3a"
             ],
             [
              0.8888888888888888,
              "#fdca26"
             ],
             [
              1,
              "#f0f921"
             ]
            ],
            "type": "contour"
           }
          ],
          "contourcarpet": [
           {
            "colorbar": {
             "outlinewidth": 0,
             "ticks": ""
            },
            "type": "contourcarpet"
           }
          ],
          "heatmap": [
           {
            "colorbar": {
             "outlinewidth": 0,
             "ticks": ""
            },
            "colorscale": [
             [
              0,
              "#0d0887"
             ],
             [
              0.1111111111111111,
              "#46039f"
             ],
             [
              0.2222222222222222,
              "#7201a8"
             ],
             [
              0.3333333333333333,
              "#9c179e"
             ],
             [
              0.4444444444444444,
              "#bd3786"
             ],
             [
              0.5555555555555556,
              "#d8576b"
             ],
             [
              0.6666666666666666,
              "#ed7953"
             ],
             [
              0.7777777777777778,
              "#fb9f3a"
             ],
             [
              0.8888888888888888,
              "#fdca26"
             ],
             [
              1,
              "#f0f921"
             ]
            ],
            "type": "heatmap"
           }
          ],
          "heatmapgl": [
           {
            "colorbar": {
             "outlinewidth": 0,
             "ticks": ""
            },
            "colorscale": [
             [
              0,
              "#0d0887"
             ],
             [
              0.1111111111111111,
              "#46039f"
             ],
             [
              0.2222222222222222,
              "#7201a8"
             ],
             [
              0.3333333333333333,
              "#9c179e"
             ],
             [
              0.4444444444444444,
              "#bd3786"
             ],
             [
              0.5555555555555556,
              "#d8576b"
             ],
             [
              0.6666666666666666,
              "#ed7953"
             ],
             [
              0.7777777777777778,
              "#fb9f3a"
             ],
             [
              0.8888888888888888,
              "#fdca26"
             ],
             [
              1,
              "#f0f921"
             ]
            ],
            "type": "heatmapgl"
           }
          ],
          "histogram": [
           {
            "marker": {
             "colorbar": {
              "outlinewidth": 0,
              "ticks": ""
             }
            },
            "type": "histogram"
           }
          ],
          "histogram2d": [
           {
            "colorbar": {
             "outlinewidth": 0,
             "ticks": ""
            },
            "colorscale": [
             [
              0,
              "#0d0887"
             ],
             [
              0.1111111111111111,
              "#46039f"
             ],
             [
              0.2222222222222222,
              "#7201a8"
             ],
             [
              0.3333333333333333,
              "#9c179e"
             ],
             [
              0.4444444444444444,
              "#bd3786"
             ],
             [
              0.5555555555555556,
              "#d8576b"
             ],
             [
              0.6666666666666666,
              "#ed7953"
             ],
             [
              0.7777777777777778,
              "#fb9f3a"
             ],
             [
              0.8888888888888888,
              "#fdca26"
             ],
             [
              1,
              "#f0f921"
             ]
            ],
            "type": "histogram2d"
           }
          ],
          "histogram2dcontour": [
           {
            "colorbar": {
             "outlinewidth": 0,
             "ticks": ""
            },
            "colorscale": [
             [
              0,
              "#0d0887"
             ],
             [
              0.1111111111111111,
              "#46039f"
             ],
             [
              0.2222222222222222,
              "#7201a8"
             ],
             [
              0.3333333333333333,
              "#9c179e"
             ],
             [
              0.4444444444444444,
              "#bd3786"
             ],
             [
              0.5555555555555556,
              "#d8576b"
             ],
             [
              0.6666666666666666,
              "#ed7953"
             ],
             [
              0.7777777777777778,
              "#fb9f3a"
             ],
             [
              0.8888888888888888,
              "#fdca26"
             ],
             [
              1,
              "#f0f921"
             ]
            ],
            "type": "histogram2dcontour"
           }
          ],
          "mesh3d": [
           {
            "colorbar": {
             "outlinewidth": 0,
             "ticks": ""
            },
            "type": "mesh3d"
           }
          ],
          "parcoords": [
           {
            "line": {
             "colorbar": {
              "outlinewidth": 0,
              "ticks": ""
             }
            },
            "type": "parcoords"
           }
          ],
          "pie": [
           {
            "automargin": true,
            "type": "pie"
           }
          ],
          "scatter": [
           {
            "marker": {
             "colorbar": {
              "outlinewidth": 0,
              "ticks": ""
             }
            },
            "type": "scatter"
           }
          ],
          "scatter3d": [
           {
            "line": {
             "colorbar": {
              "outlinewidth": 0,
              "ticks": ""
             }
            },
            "marker": {
             "colorbar": {
              "outlinewidth": 0,
              "ticks": ""
             }
            },
            "type": "scatter3d"
           }
          ],
          "scattercarpet": [
           {
            "marker": {
             "colorbar": {
              "outlinewidth": 0,
              "ticks": ""
             }
            },
            "type": "scattercarpet"
           }
          ],
          "scattergeo": [
           {
            "marker": {
             "colorbar": {
              "outlinewidth": 0,
              "ticks": ""
             }
            },
            "type": "scattergeo"
           }
          ],
          "scattergl": [
           {
            "marker": {
             "colorbar": {
              "outlinewidth": 0,
              "ticks": ""
             }
            },
            "type": "scattergl"
           }
          ],
          "scattermapbox": [
           {
            "marker": {
             "colorbar": {
              "outlinewidth": 0,
              "ticks": ""
             }
            },
            "type": "scattermapbox"
           }
          ],
          "scatterpolar": [
           {
            "marker": {
             "colorbar": {
              "outlinewidth": 0,
              "ticks": ""
             }
            },
            "type": "scatterpolar"
           }
          ],
          "scatterpolargl": [
           {
            "marker": {
             "colorbar": {
              "outlinewidth": 0,
              "ticks": ""
             }
            },
            "type": "scatterpolargl"
           }
          ],
          "scatterternary": [
           {
            "marker": {
             "colorbar": {
              "outlinewidth": 0,
              "ticks": ""
             }
            },
            "type": "scatterternary"
           }
          ],
          "surface": [
           {
            "colorbar": {
             "outlinewidth": 0,
             "ticks": ""
            },
            "colorscale": [
             [
              0,
              "#0d0887"
             ],
             [
              0.1111111111111111,
              "#46039f"
             ],
             [
              0.2222222222222222,
              "#7201a8"
             ],
             [
              0.3333333333333333,
              "#9c179e"
             ],
             [
              0.4444444444444444,
              "#bd3786"
             ],
             [
              0.5555555555555556,
              "#d8576b"
             ],
             [
              0.6666666666666666,
              "#ed7953"
             ],
             [
              0.7777777777777778,
              "#fb9f3a"
             ],
             [
              0.8888888888888888,
              "#fdca26"
             ],
             [
              1,
              "#f0f921"
             ]
            ],
            "type": "surface"
           }
          ],
          "table": [
           {
            "cells": {
             "fill": {
              "color": "#EBF0F8"
             },
             "line": {
              "color": "white"
             }
            },
            "header": {
             "fill": {
              "color": "#C8D4E3"
             },
             "line": {
              "color": "white"
             }
            },
            "type": "table"
           }
          ]
         },
         "layout": {
          "annotationdefaults": {
           "arrowcolor": "#2a3f5f",
           "arrowhead": 0,
           "arrowwidth": 1
          },
          "autotypenumbers": "strict",
          "coloraxis": {
           "colorbar": {
            "outlinewidth": 0,
            "ticks": ""
           }
          },
          "colorscale": {
           "diverging": [
            [
             0,
             "#8e0152"
            ],
            [
             0.1,
             "#c51b7d"
            ],
            [
             0.2,
             "#de77ae"
            ],
            [
             0.3,
             "#f1b6da"
            ],
            [
             0.4,
             "#fde0ef"
            ],
            [
             0.5,
             "#f7f7f7"
            ],
            [
             0.6,
             "#e6f5d0"
            ],
            [
             0.7,
             "#b8e186"
            ],
            [
             0.8,
             "#7fbc41"
            ],
            [
             0.9,
             "#4d9221"
            ],
            [
             1,
             "#276419"
            ]
           ],
           "sequential": [
            [
             0,
             "#0d0887"
            ],
            [
             0.1111111111111111,
             "#46039f"
            ],
            [
             0.2222222222222222,
             "#7201a8"
            ],
            [
             0.3333333333333333,
             "#9c179e"
            ],
            [
             0.4444444444444444,
             "#bd3786"
            ],
            [
             0.5555555555555556,
             "#d8576b"
            ],
            [
             0.6666666666666666,
             "#ed7953"
            ],
            [
             0.7777777777777778,
             "#fb9f3a"
            ],
            [
             0.8888888888888888,
             "#fdca26"
            ],
            [
             1,
             "#f0f921"
            ]
           ],
           "sequentialminus": [
            [
             0,
             "#0d0887"
            ],
            [
             0.1111111111111111,
             "#46039f"
            ],
            [
             0.2222222222222222,
             "#7201a8"
            ],
            [
             0.3333333333333333,
             "#9c179e"
            ],
            [
             0.4444444444444444,
             "#bd3786"
            ],
            [
             0.5555555555555556,
             "#d8576b"
            ],
            [
             0.6666666666666666,
             "#ed7953"
            ],
            [
             0.7777777777777778,
             "#fb9f3a"
            ],
            [
             0.8888888888888888,
             "#fdca26"
            ],
            [
             1,
             "#f0f921"
            ]
           ]
          },
          "colorway": [
           "#636efa",
           "#EF553B",
           "#00cc96",
           "#ab63fa",
           "#FFA15A",
           "#19d3f3",
           "#FF6692",
           "#B6E880",
           "#FF97FF",
           "#FECB52"
          ],
          "font": {
           "color": "#2a3f5f"
          },
          "geo": {
           "bgcolor": "white",
           "lakecolor": "white",
           "landcolor": "#E5ECF6",
           "showlakes": true,
           "showland": true,
           "subunitcolor": "white"
          },
          "hoverlabel": {
           "align": "left"
          },
          "hovermode": "closest",
          "mapbox": {
           "style": "light"
          },
          "paper_bgcolor": "white",
          "plot_bgcolor": "#E5ECF6",
          "polar": {
           "angularaxis": {
            "gridcolor": "white",
            "linecolor": "white",
            "ticks": ""
           },
           "bgcolor": "#E5ECF6",
           "radialaxis": {
            "gridcolor": "white",
            "linecolor": "white",
            "ticks": ""
           }
          },
          "scene": {
           "xaxis": {
            "backgroundcolor": "#E5ECF6",
            "gridcolor": "white",
            "gridwidth": 2,
            "linecolor": "white",
            "showbackground": true,
            "ticks": "",
            "zerolinecolor": "white"
           },
           "yaxis": {
            "backgroundcolor": "#E5ECF6",
            "gridcolor": "white",
            "gridwidth": 2,
            "linecolor": "white",
            "showbackground": true,
            "ticks": "",
            "zerolinecolor": "white"
           },
           "zaxis": {
            "backgroundcolor": "#E5ECF6",
            "gridcolor": "white",
            "gridwidth": 2,
            "linecolor": "white",
            "showbackground": true,
            "ticks": "",
            "zerolinecolor": "white"
           }
          },
          "shapedefaults": {
           "line": {
            "color": "#2a3f5f"
           }
          },
          "ternary": {
           "aaxis": {
            "gridcolor": "white",
            "linecolor": "white",
            "ticks": ""
           },
           "baxis": {
            "gridcolor": "white",
            "linecolor": "white",
            "ticks": ""
           },
           "bgcolor": "#E5ECF6",
           "caxis": {
            "gridcolor": "white",
            "linecolor": "white",
            "ticks": ""
           }
          },
          "title": {
           "x": 0.05
          },
          "xaxis": {
           "automargin": true,
           "gridcolor": "white",
           "linecolor": "white",
           "ticks": "",
           "title": {
            "standoff": 15
           },
           "zerolinecolor": "white",
           "zerolinewidth": 2
          },
          "yaxis": {
           "automargin": true,
           "gridcolor": "white",
           "linecolor": "white",
           "ticks": "",
           "title": {
            "standoff": 15
           },
           "zerolinecolor": "white",
           "zerolinewidth": 2
          }
         }
        },
        "xaxis": {
         "anchor": "y",
         "domain": [
          0,
          1
         ],
         "title": {
          "text": "Post Date"
         }
        },
        "yaxis": {
         "anchor": "x",
         "domain": [
          0,
          1
         ],
         "title": {
          "text": "neg"
         }
        }
       }
      },
      "text/html": [
       "<div>                            <div id=\"36b6eb32-0602-407d-ac53-7740f1bc457f\" class=\"plotly-graph-div\" style=\"height:525px; width:100%;\"></div>            <script type=\"text/javascript\">                require([\"plotly\"], function(Plotly) {                    window.PLOTLYENV=window.PLOTLYENV || {};                                    if (document.getElementById(\"36b6eb32-0602-407d-ac53-7740f1bc457f\")) {                    Plotly.newPlot(                        \"36b6eb32-0602-407d-ac53-7740f1bc457f\",                        [{\"hovertemplate\": \"Post Date=%{x}<br>neg=%{y}<extra></extra>\", \"legendgroup\": \"\", \"line\": {\"color\": \"#636efa\", \"dash\": \"solid\"}, \"mode\": \"lines\", \"name\": \"\", \"showlegend\": false, \"type\": \"scattergl\", \"x\": [\"2019-10-10T05:58:05.73\", \"2019-10-10T12:44:35.957\", \"2019-10-10T14:56:52.947\", \"2019-10-10T15:41:06.877\", \"2019-10-10T20:56:53.483\", \"2019-10-11T13:10:28.983\", \"2019-10-11T14:24:15.807\", \"2019-10-11T16:02:41.787\", \"2019-10-13T20:01:08.897\", \"2019-10-14T05:55:32.553\", \"2019-10-14T08:33:18.01\", \"2019-10-14T22:38:08.26\", \"2019-10-16T11:20:54.023\", \"2019-10-16T14:12:45.5\", \"2019-10-17T09:14:34.753\", \"2019-10-17T10:16:15.513\", \"2019-10-17T12:09:02.91\", \"2019-10-17T23:59:14.523\", \"2019-10-18T14:58:06.717\", \"2019-10-21T06:08:38.347\", \"2019-10-21T09:43:33.513\", \"2019-10-21T12:40:40.86\", \"2019-10-21T16:06:55.323\", \"2019-10-22T08:16:13.563\", \"2019-10-22T16:27:23.92\", \"2019-10-22T18:07:48.827\", \"2019-10-23T03:37:35.103\", \"2019-10-23T06:23:11.657\", \"2019-10-23T08:20:38.087\", \"2019-10-23T11:38:26.887\", \"2019-10-23T12:09:17.84\", \"2019-10-24T04:42:08.237\", \"2019-10-24T06:19:46.603\", \"2019-10-24T09:59:56.077\", \"2019-10-24T14:04:33.85\", \"2019-10-24T16:34:04.713\", \"2019-10-25T11:54:33.85\", \"2019-10-28T15:36:47.907\", \"2019-10-29T06:01:19.783\", \"2019-10-29T10:29:47.95\", \"2019-10-29T16:46:32.203\", \"2019-10-29T17:04:40.463\", \"2019-10-30T04:45:07.257\", \"2019-10-30T08:21:45.053\", \"2019-10-30T15:33:07.45\", \"2019-10-30T18:41:07.37\", \"2019-10-30T18:45:20.75\", \"2019-10-31T12:35:06.993\", \"2019-10-31T23:57:45.833\", \"2019-11-01T07:44:02.54\", \"2019-11-01T07:45:56.387\", \"2019-11-04T17:47:37.86\", \"2019-11-06T06:04:59.007\", \"2019-11-06T10:08:50.95\", \"2019-11-06T10:27:39.52\", \"2019-11-08T20:33:59.89\", \"2019-11-09T11:37:29.693\", \"2019-11-10T01:44:11.28\", \"2019-11-11T05:59:42.987\", \"2019-11-11T11:39:44.857\", \"2019-11-11T13:02:34.017\", \"2019-11-12T00:41:34.433\", \"2019-11-12T18:42:03.247\", \"2019-11-13T03:30:36.293\", \"2019-11-13T09:35:33.91\", \"2019-11-13T23:52:26.683\", \"2019-11-14T03:28:57.637\", \"2019-11-14T06:03:35.53\", \"2019-11-14T09:45:03.713\", \"2019-11-14T11:29:20.21\", \"2019-11-14T13:10:08.303\", \"2019-11-18T04:12:03.657\", \"2019-11-18T10:12:47.987\", \"2019-11-18T15:17:49.503\", \"2019-11-18T16:11:15.36\", \"2019-11-18T17:18:32.137\", \"2019-11-18T19:25:44.17\", \"2019-11-19T02:48:28.417\", \"2019-11-19T10:27:37.423\", \"2019-11-19T11:00:35.74\", \"2019-11-19T20:00:10.803\", \"2019-11-20T05:47:36.783\", \"2019-11-20T10:36:40.83\", \"2019-11-20T12:24:54.847\", \"2019-11-21T00:07:58.053\", \"2019-11-21T13:38:42.807\", \"2019-11-21T14:08:12.47\", \"2019-11-21T18:13:29.69\", \"2019-11-22T07:29:58.45\", \"2019-11-22T12:44:01.59\", \"2019-11-23T12:26:35.197\", \"2019-11-26T08:17:12.663\", \"2019-11-27T10:39:18.173\", \"2019-11-27T21:15:11.89\", \"2019-11-28T04:58:07.76\", \"2019-11-29T02:39:25.357\", \"2019-12-02T07:06:03.57\", \"2019-12-02T15:42:44.927\", \"2019-12-02T21:04:51.46\", \"2019-12-03T07:56:40.55\", \"2019-12-03T10:45:44.023\", \"2019-12-03T14:56:05.093\", \"2019-12-03T16:06:57.23\", \"2019-12-04T11:59:55.687\", \"2019-12-05T11:04:33.51\", \"2019-12-05T12:28:17.997\", \"2019-12-09T07:10:55.167\", \"2019-12-09T07:25:39.22\", \"2019-12-09T10:45:09.32\", \"2019-12-09T10:53:03.993\", \"2019-12-09T12:45:56.217\", \"2019-12-10T07:50:29.637\", \"2019-12-10T08:52:36.997\", \"2019-12-10T10:14:02.33\", \"2019-12-10T10:55:22.36\", \"2019-12-10T11:53:33.71\", \"2019-12-10T18:25:49.657\", \"2019-12-11T11:26:46.79\", \"2019-12-11T11:57:54.773\", \"2019-12-12T10:17:39.717\", \"2019-12-12T11:05:43.68\", \"2019-12-13T09:43:03.027\", \"2019-12-17T03:54:27.833\", \"2019-12-17T05:30:55.173\", \"2019-12-17T09:31:11.343\", \"2019-12-17T11:21:51.1\", \"2019-12-17T12:36:10.797\", \"2019-12-17T22:05:31.297\", \"2019-12-18T02:18:53.803\", \"2019-12-18T04:43:33.147\", \"2019-12-18T07:43:12.083\", \"2019-12-18T14:19:48.24\", \"2019-12-20T08:29:43.793\", \"2019-12-20T14:25:22.243\", \"2019-12-21T07:25:05.07\", \"2019-12-21T07:31:20.647\", \"2019-12-24T06:44:49.68\", \"2019-12-24T07:53:51.783\", \"2019-12-26T08:18:44.133\", \"2019-12-26T11:59:21.053\", \"2019-12-27T18:14:34.557\", \"2019-12-28T03:55:55.687\", \"2019-12-30T13:08:12.05\", \"2019-12-30T13:53:51.783\", \"2020-01-02T06:49:33.107\", \"2020-01-02T09:53:02.633\", \"2020-01-02T16:36:17.35\", \"2020-01-03T04:40:24.317\", \"2020-01-03T12:08:04.033\", \"2020-01-03T16:41:12.803\", \"2020-01-05T08:26:52.923\", \"2020-01-06T12:19:26.157\", \"2020-01-06T17:04:29.283\", \"2020-01-06T17:40:07.413\", \"2020-01-07T04:10:45.22\", \"2020-01-07T04:51:00.893\", \"2020-01-07T10:24:06.313\", \"2020-01-07T11:18:19.473\", \"2020-01-07T13:43:06.053\", \"2020-01-07T15:38:23.8\", \"2020-01-07T16:18:56.733\", \"2020-01-08T16:28:49.287\", \"2020-01-09T01:31:01.17\", \"2020-01-09T06:33:51.44\", \"2020-01-09T12:05:38.153\", \"2020-01-10T15:06:17.673\", \"2020-01-10T15:54:12.933\", \"2020-01-11T05:17:09.423\", \"2020-01-13T12:21:50.72\", \"2020-01-13T13:00:29.71\", \"2020-01-14T07:18:24.06\", \"2020-01-14T07:36:27.793\", \"2020-01-14T15:06:33.63\", \"2020-01-15T04:12:20.593\", \"2020-01-15T09:52:42.417\", \"2020-01-15T13:11:10.033\", \"2020-01-15T19:14:38.547\", \"2020-01-16T01:35:18.87\", \"2020-01-16T10:00:09.903\", \"2020-01-16T17:27:43.697\", \"2020-01-16T20:37:57.323\", \"2020-01-18T01:12:31.457\", \"2020-01-18T07:43:39.573\", \"2020-01-20T00:07:25.07\", \"2020-01-20T06:57:25.193\", \"2020-01-20T06:59:28.963\", \"2020-01-20T07:01:58.37\", \"2020-01-20T14:25:20.393\", \"2020-01-20T14:45:16.097\", \"2020-01-20T17:44:58.307\", \"2020-01-22T15:07:27.347\", \"2020-01-22T15:21:03.853\", \"2020-01-23T08:30:02.617\", \"2020-01-23T09:12:43.07\", \"2020-01-24T06:49:45.39\", \"2020-01-24T15:38:37.98\", \"2020-01-25T16:27:33.3\", \"2020-01-27T12:47:35.913\", \"2020-01-27T13:06:07.103\", \"2020-01-27T19:11:17.547\", \"2020-01-29T01:21:00.2\", \"2020-01-29T10:26:02.32\", \"2020-01-30T18:43:33.303\", \"2020-01-31T00:48:04.5\", \"2020-01-31T08:03:58.81\", \"2020-02-01T05:35:29.75\", \"2020-02-02T13:10:27.66\", \"2020-02-02T17:09:13.667\", \"2020-02-03T04:12:16.153\", \"2020-02-03T09:59:10.557\", \"2020-02-03T13:33:12.313\", \"2020-02-04T09:46:39.103\", \"2020-02-04T20:18:44.27\", \"2020-02-05T11:30:08.943\", \"2020-02-05T12:57:51.92\", \"2020-02-05T15:34:55.653\", \"2020-02-07T10:19:14.993\", \"2020-02-10T12:07:23.167\", \"2020-02-10T12:23:06.927\", \"2020-02-10T12:51:43.717\", \"2020-02-10T17:12:39.753\", \"2020-02-11T17:09:02.48\", \"2020-02-11T17:58:49.54\", \"2020-02-12T06:28:17.963\", \"2020-02-12T09:04:32.27\", \"2020-02-12T14:03:31.393\", \"2020-02-12T14:51:42.37\", \"2020-02-12T15:16:51.137\", \"2020-02-12T18:31:25.547\", \"2020-02-13T04:33:31.503\", \"2020-02-13T07:03:33.427\", \"2020-02-14T10:24:51.933\", \"2020-02-14T11:00:46.067\", \"2020-02-17T16:50:09.627\", \"2020-02-18T02:27:54.503\", \"2020-02-18T09:57:28.06\", \"2020-02-18T10:33:31.103\", \"2020-02-18T11:09:26.847\", \"2020-02-20T09:07:37.297\", \"2020-02-20T18:55:20.497\", \"2020-02-21T04:19:57.7\", \"2020-02-21T06:32:06.093\", \"2020-02-21T12:36:02.74\", \"2020-02-21T13:01:12.36\", \"2020-02-21T18:07:34.15\", \"2020-02-23T02:07:04.06\", \"2020-02-24T05:14:04.183\", \"2020-02-24T09:39:05.69\", \"2020-02-24T15:46:47.507\", \"2020-02-25T03:52:03.343\", \"2020-02-26T09:59:17.067\", \"2020-02-26T12:34:35.337\", \"2020-02-26T16:38:14.707\", \"2020-02-27T12:11:29.997\", \"2020-02-28T04:40:42.623\", \"2020-02-28T10:58:22.157\", \"2020-02-28T12:00:12.227\", \"2020-02-28T12:41:38.88\", \"2020-02-29T01:03:40.683\", \"2020-03-01T02:40:06.913\", \"2020-03-01T10:01:48.487\", \"2020-03-01T23:59:56.043\", \"2020-03-02T14:28:29.457\", \"2020-03-03T00:00:27.147\", \"2020-03-03T04:30:14.143\", \"2020-03-03T06:44:29.51\", \"2020-03-03T07:23:34.21\", \"2020-03-04T03:34:45.237\", \"2020-03-04T10:43:21.66\", \"2020-03-04T20:50:43.727\", \"2020-03-05T20:40:47.497\", \"2020-03-06T16:53:23.053\", \"2020-03-07T06:36:24.19\", \"2020-03-08T12:22:18.35\", \"2020-03-08T18:22:20.403\", \"2020-03-09T07:47:26.907\", \"2020-03-10T02:49:49.197\", \"2020-03-10T07:07:09.317\", \"2020-03-10T11:43:30.047\", \"2020-03-10T13:47:55.803\", \"2020-03-11T12:02:24.97\", \"2020-03-12T03:22:56.907\", \"2020-03-12T05:01:18.27\", \"2020-03-12T09:32:11.43\", \"2020-03-12T16:24:51.943\", \"2020-03-13T02:20:48.573\", \"2020-03-13T18:05:09.727\", \"2020-03-16T05:51:59.12\", \"2020-03-16T13:41:01.863\", \"2020-03-17T01:11:48.753\", \"2020-03-17T02:14:25.67\", \"2020-03-17T10:57:57.617\", \"2020-03-17T11:01:28.317\", \"2020-03-17T12:46:10.82\", \"2020-03-17T17:40:54.64\", \"2020-03-18T06:06:20.797\", \"2020-03-19T09:31:32.573\", \"2020-03-20T09:02:42.493\", \"2020-03-20T09:52:08.827\", \"2020-03-22T12:10:06.073\", \"2020-03-22T23:11:53.447\", \"2020-03-23T11:06:50.057\", \"2020-03-23T23:34:21.613\", \"2020-03-24T16:40:36.357\", \"2020-03-25T05:31:26.553\", \"2020-03-25T13:28:17.627\", \"2020-03-25T13:53:46.49\", \"2020-03-27T09:21:56.483\", \"2020-03-28T01:28:47.883\", \"2020-03-30T04:21:56.913\", \"2020-03-30T09:08:24.897\", \"2020-03-30T15:21:41.037\", \"2020-03-30T21:20:56.607\", \"2020-03-31T11:25:34.507\", \"2020-03-31T13:27:36.39\", \"2020-04-01T16:02:10.643\", \"2020-04-02T00:43:12.03\", \"2020-04-03T01:06:02.82\", \"2020-04-07T12:32:04.843\", \"2020-04-07T16:29:10.43\", \"2020-04-08T00:15:17.853\", \"2020-04-08T03:50:11.817\", \"2020-04-08T10:13:33.427\", \"2020-04-08T18:27:22.337\", \"2020-04-09T23:22:33.47\", \"2020-04-10T09:08:10.833\", \"2020-04-10T19:21:56.537\", \"2020-04-13T10:16:13.573\", \"2020-04-13T12:45:52.543\", \"2020-04-13T14:36:36.72\", \"2020-04-14T04:48:03.713\", \"2020-04-14T08:25:03.7\", \"2020-04-14T11:03:59.167\", \"2020-04-15T05:26:43.887\", \"2020-04-16T08:10:59.29\", \"2020-04-16T16:12:38.977\", \"2020-04-16T16:41:02.65\", \"2020-04-16T17:32:12.887\", \"2020-04-17T17:21:10.267\", \"2020-04-17T18:09:09.38\", \"2020-04-17T19:28:32.667\", \"2020-04-20T06:46:13.263\", \"2020-04-20T09:45:40.793\", \"2020-04-21T06:43:58.953\", \"2020-04-22T17:52:12.143\", \"2020-04-23T02:31:29.827\", \"2020-04-23T11:51:48.66\", \"2020-04-23T12:48:56.067\", \"2020-04-23T13:42:27.423\", \"2020-04-23T17:09:27.673\", \"2020-04-23T19:33:37.777\", \"2020-04-24T09:15:41.46\", \"2020-04-24T12:08:53.497\", \"2020-04-24T17:33:44.47\", \"2020-04-27T03:25:15.807\", \"2020-04-27T11:04:11.827\", \"2020-04-27T12:09:32.6\", \"2020-04-28T14:16:24.483\", \"2020-04-28T14:23:25.457\", \"2020-04-28T14:54:09.24\", \"2020-04-28T15:58:10.627\", \"2020-04-29T06:42:53.09\", \"2020-04-29T11:08:12.53\", \"2020-04-30T10:03:05.167\", \"2020-05-01T07:55:41.06\", \"2020-05-01T13:27:08.093\", \"2020-05-01T18:13:11.793\", \"2020-05-03T16:49:31.43\", \"2020-05-05T07:56:04.453\", \"2020-05-05T08:43:05.083\", \"2020-05-05T10:32:52.917\", \"2020-05-05T19:02:17.003\", \"2020-05-06T01:58:51.927\", \"2020-05-06T07:12:28.073\", \"2020-05-06T09:55:41.613\", \"2020-05-06T10:17:41.447\", \"2020-05-06T11:33:27.64\", \"2020-05-07T03:54:23.82\", \"2020-05-07T07:48:02.343\", \"2020-05-07T10:30:47.55\", \"2020-05-07T14:40:24.16\", \"2020-05-07T17:22:42.663\", \"2020-05-07T17:58:50.36\", \"2020-05-08T11:05:30.22\", \"2020-05-08T18:50:29.917\", \"2020-05-10T15:38:34.823\", \"2020-05-10T22:06:56.483\", \"2020-05-11T04:18:33.723\", \"2020-05-11T10:39:05.677\", \"2020-05-11T18:12:14.043\", \"2020-05-12T06:46:53.073\", \"2020-05-12T07:44:49.72\", \"2020-05-12T23:39:37.837\", \"2020-05-13T09:12:49.927\", \"2020-05-13T12:09:34.583\", \"2020-05-13T14:43:08.657\", \"2020-05-13T15:13:24.907\", \"2020-05-14T03:52:10.373\", \"2020-05-14T09:38:15.473\", \"2020-05-14T13:46:07.237\", \"2020-05-14T17:51:27.473\", \"2020-05-19T01:36:19.2\", \"2020-05-19T10:58:19.68\", \"2020-05-19T13:23:05.93\", \"2020-05-19T22:05:27.747\", \"2020-05-19T22:57:51.593\", \"2020-05-19T23:57:36.38\", \"2020-05-20T07:46:08.763\", \"2020-05-21T08:01:48.667\", \"2020-05-21T16:17:26.79\", \"2020-05-22T09:04:36.597\", \"2020-05-22T12:43:12.977\", \"2020-05-22T13:38:46.373\", \"2020-05-24T07:44:59.96\", \"2020-05-25T11:51:41.683\", \"2020-05-25T12:12:56.96\", \"2020-05-26T04:19:19.857\", \"2020-05-26T05:29:41.38\", \"2020-05-27T08:09:30.657\", \"2020-05-27T09:42:57.963\", \"2020-05-27T11:51:09.957\", \"2020-05-27T16:13:12.423\", \"2020-05-28T04:33:45.413\", \"2020-05-28T10:50:38.12\", \"2020-05-28T11:43:06.343\", \"2020-05-28T13:55:04.59\", \"2020-05-28T13:55:17.233\", \"2020-05-28T15:02:38.937\", \"2020-05-28T21:23:28.48\", \"2020-05-31T11:34:13.967\", \"2020-05-31T21:49:48.113\", \"2020-06-01T02:08:55.463\", \"2020-06-01T03:45:36.143\", \"2020-06-01T07:06:15.03\", \"2020-06-01T23:54:24.347\", \"2020-06-02T05:15:07.377\", \"2020-06-02T06:25:02.487\", \"2020-06-03T08:38:37.627\", \"2020-06-04T08:46:29.137\", \"2020-06-04T08:47:30.443\", \"2020-06-05T08:37:45.887\", \"2020-06-08T10:15:40.8\", \"2020-06-08T11:30:52.127\", \"2020-06-10T15:48:56.787\", \"2020-06-11T05:44:23.893\", \"2020-06-11T10:48:33.063\", \"2020-06-11T16:44:25.303\", \"2020-06-12T04:26:21.537\", \"2020-06-13T20:34:20.54\", \"2020-06-15T00:18:26.877\", \"2020-06-15T18:21:18.607\", \"2020-06-17T07:44:27.62\", \"2020-06-17T09:23:08.72\", \"2020-06-17T10:39:43.347\", \"2020-06-17T10:47:18.047\", \"2020-06-17T18:17:42.787\", \"2020-06-17T21:20:44.363\", \"2020-06-18T03:41:34.283\", \"2020-06-18T18:45:45.943\", \"2020-06-19T05:28:43.413\", \"2020-06-19T05:37:59.09\", \"2020-06-19T07:23:48.88\", \"2020-06-19T13:04:31.18\", \"2020-06-19T13:05:50.277\", \"2020-06-20T20:04:07.61\", \"2020-06-21T05:58:52.79\", \"2020-06-22T07:57:18.433\", \"2020-06-22T15:20:53.23\", \"2020-06-22T17:32:37.193\", \"2020-06-25T03:09:04.55\", \"2020-06-26T07:38:55.12\", \"2020-06-29T17:02:31.54\", \"2020-07-01T03:24:12.553\", \"2020-07-01T08:43:32.99\", \"2020-07-02T09:20:12.7\", \"2020-07-02T10:21:06.57\", \"2020-07-02T16:17:26.273\", \"2020-07-06T05:50:50.78\", \"2020-07-06T09:19:59.403\", \"2020-07-08T09:33:24.407\", \"2020-07-08T16:56:19.757\", \"2020-07-09T15:25:26.863\", \"2020-07-09T16:22:26.66\", \"2020-07-09T16:28:26.983\", \"2020-07-10T08:52:51.04\", \"2020-07-10T15:53:37.277\", \"2020-07-10T18:57:48.173\", \"2020-07-11T20:29:03.777\", \"2020-07-13T02:40:11.35\", \"2020-07-14T05:01:01.39\", \"2020-07-15T03:11:16.5\", \"2020-07-15T06:32:14.56\", \"2020-07-15T17:54:55.167\", \"2020-07-16T04:35:29.63\", \"2020-07-16T07:33:35.41\", \"2020-07-16T11:36:35.183\", \"2020-07-16T16:31:52.563\", \"2020-07-17T14:17:43.9\", \"2020-07-20T13:16:24.25\", \"2020-07-20T23:00:15.057\", \"2020-07-21T04:25:05.703\", \"2020-07-21T06:17:01.253\", \"2020-07-21T10:23:05.597\", \"2020-07-21T11:25:17.723\", \"2020-07-21T15:20:11.183\", \"2020-07-22T05:55:52.447\", \"2020-07-22T16:48:52.953\", \"2020-07-22T23:35:16.743\", \"2020-07-23T15:51:45.183\", \"2020-07-23T16:46:00.053\", \"2020-07-24T02:00:04.097\", \"2020-07-24T15:17:29.263\", \"2020-07-27T13:56:35.087\", \"2020-07-28T11:16:57.777\", \"2020-07-28T11:20:26.603\", \"2020-07-28T11:47:30.707\", \"2020-07-29T08:18:11.907\", \"2020-07-29T09:13:44.577\", \"2020-07-29T10:45:28.61\", \"2020-07-30T14:51:34.69\", \"2020-07-30T16:20:18.783\", \"2020-07-31T03:00:29.553\", \"2020-08-01T06:40:03.033\", \"2020-08-02T08:21:09.453\", \"2020-08-03T14:31:32.377\", \"2020-08-03T15:16:16.62\", \"2020-08-05T12:27:19.103\", \"2020-08-05T13:19:23.943\", \"2020-08-06T12:04:03.013\", \"2020-08-06T16:30:31.317\", \"2020-08-07T15:34:48.087\", \"2020-08-10T12:13:23.673\", \"2020-08-11T03:18:56.48\", \"2020-08-11T06:23:35.727\", \"2020-08-11T20:18:22.113\", \"2020-08-12T07:54:44.907\", \"2020-08-13T05:21:38.977\", \"2020-08-13T09:27:35.497\", \"2020-08-13T13:58:17.28\", \"2020-08-13T14:00:56.303\", \"2020-08-13T19:32:19.49\", \"2020-08-14T04:43:10.42\", \"2020-08-14T06:48:55.553\", \"2020-08-14T10:33:47.637\", \"2020-08-14T14:39:35.21\", \"2020-08-17T10:09:37.347\", \"2020-08-17T17:09:22.07\", \"2020-08-18T07:01:56.34\", \"2020-08-18T10:10:32.407\", \"2020-08-19T10:47:49.9\", \"2020-08-19T14:31:13.88\", \"2020-08-20T16:16:04.203\", \"2020-08-20T18:20:03.123\", \"2020-08-21T02:02:10.857\", \"2020-08-21T14:50:21.077\", \"2020-08-21T15:36:03.473\", \"2020-08-24T02:26:12.913\", \"2020-08-24T03:55:16.187\", \"2020-08-24T07:30:08.877\", \"2020-08-24T09:13:29.1\", \"2020-08-25T09:37:23.29\", \"2020-08-25T13:34:40.817\", \"2020-08-26T02:11:50.003\", \"2020-08-26T10:34:15.32\", \"2020-08-26T11:13:50.613\", \"2020-08-27T04:28:56.903\", \"2020-08-27T11:25:26.827\", \"2020-08-27T11:40:36.677\", \"2020-08-27T14:20:01.203\", \"2020-08-27T14:59:03.177\", \"2020-08-28T04:12:14.89\", \"2020-08-28T12:20:32.08\", \"2020-08-31T09:41:46.203\", \"2020-09-01T08:29:04.687\", \"2020-09-01T12:00:23.027\", \"2020-09-02T13:28:25.653\", \"2020-09-03T02:01:33.75\", \"2020-09-03T09:26:58.127\", \"2020-09-03T11:55:40.83\", \"2020-09-03T14:53:10.197\", \"2020-09-03T15:16:17.96\", \"2020-09-04T02:35:33.15\", \"2020-09-04T08:34:40.003\", \"2020-09-07T03:14:01.783\", \"2020-09-08T03:24:11.603\", \"2020-09-08T05:00:37.097\", \"2020-09-08T05:40:25.34\", \"2020-09-08T10:35:57.717\", \"2020-09-08T12:13:05.57\", \"2020-09-08T14:17:04.713\", \"2020-09-09T04:14:26.247\", \"2020-09-09T07:05:09.473\", \"2020-09-09T14:46:03.91\", \"2020-09-09T15:33:09.883\", \"2020-09-09T19:09:12.01\", \"2020-09-10T06:00:56.927\", \"2020-09-10T06:34:35.72\", \"2020-09-10T12:15:08.11\", \"2020-09-10T16:25:03.4\", \"2020-09-11T11:54:43.767\", \"2020-09-11T14:32:09.763\", \"2020-09-11T17:57:16.44\", \"2020-09-13T05:09:37.187\", \"2020-09-13T12:40:21.163\", \"2020-09-14T08:48:44.357\", \"2020-09-15T08:11:30.217\", \"2020-09-15T11:40:17.6\", \"2020-09-15T19:54:20.857\", \"2020-09-16T06:13:11.593\", \"2020-09-16T08:15:45.44\", \"2020-09-16T09:57:44.517\", \"2020-09-16T12:02:57.383\", \"2020-09-16T14:20:14.03\", \"2020-09-16T16:01:59.473\", \"2020-09-16T16:33:38.75\", \"2020-09-16T16:52:38.42\", \"2020-09-17T11:41:44.053\", \"2020-09-17T14:55:23.447\", \"2020-09-17T16:37:00.077\", \"2020-09-18T07:33:41.723\", \"2020-09-18T10:46:34.367\", \"2020-09-20T12:16:21.403\", \"2020-09-21T09:58:43.167\", \"2020-09-21T16:37:39.7\", \"2020-09-21T16:47:19.263\", \"2020-09-22T00:02:42.337\", \"2020-09-22T03:04:06.773\", \"2020-09-22T06:17:08.973\", \"2020-09-22T12:21:03.637\", \"2020-09-22T12:56:21.417\", \"2020-09-23T07:34:25.193\", \"2020-09-23T12:45:54.313\", \"2020-09-23T14:50:02.017\", \"2020-09-23T14:50:53.77\", \"2020-09-23T14:51:39.347\", \"2020-09-23T15:15:00.187\", \"2020-09-24T13:12:57.107\", \"2020-09-24T19:12:48.583\", \"2020-09-25T06:21:34.47\", \"2020-09-25T15:10:56.223\", \"2020-09-25T21:10:47.287\", \"2020-09-27T00:39:00.507\", \"2020-09-27T03:01:48.877\", \"2020-09-28T07:28:53.443\", \"2020-09-28T13:41:47.603\", \"2020-09-29T10:42:52.203\", \"2020-09-29T10:58:24.237\", \"2020-09-29T11:43:39.463\", \"2020-09-29T18:14:05.84\", \"2020-09-29T18:29:04.81\", \"2020-09-30T11:28:12.57\", \"2020-10-01T04:05:51.267\", \"2020-10-01T15:18:19.523\", \"2020-10-02T09:26:32.68\", \"2020-10-04T06:57:42.663\", \"2020-10-05T01:11:31.057\", \"2020-10-05T22:58:21.4\", \"2020-10-06T10:36:52.983\", \"2020-10-06T12:46:04.483\", \"2020-10-07T04:36:43.39\", \"2020-10-07T04:49:35.287\", \"2020-10-07T06:19:26.927\", \"2020-10-07T16:31:35.887\", \"2020-10-07T16:43:08.117\", \"2020-10-08T07:26:39.637\", \"2020-10-08T08:52:50.623\", \"2020-10-08T16:26:59.76\", \"2020-10-09T02:01:00.407\", \"2020-10-09T19:17:29.443\", \"2020-10-12T09:03:36.163\", \"2020-10-12T20:34:39.057\", \"2020-10-13T13:02:42.213\", \"2020-10-13T18:32:15.773\", \"2020-10-14T06:43:01.837\", \"2020-10-14T09:31:09.873\", \"2020-10-14T13:41:44.907\", \"2020-10-14T13:52:09.94\", \"2020-10-15T06:57:57.13\", \"2020-10-15T14:35:43.96\", \"2020-10-16T10:01:41.817\", \"2020-10-16T12:33:29.753\", \"2020-10-16T13:34:13.343\", \"2020-10-16T18:36:31.273\", \"2020-10-17T11:21:17.997\", \"2020-10-17T21:00:48.037\", \"2020-10-19T15:39:33.853\", \"2020-10-19T22:07:22.383\", \"2020-10-19T22:07:38.62\", \"2020-10-20T03:00:27.94\", \"2020-10-20T16:35:09.947\", \"2020-10-21T04:53:38.967\", \"2020-10-21T06:22:02.867\", \"2020-10-21T09:30:56.74\", \"2020-10-21T10:44:23.66\", \"2020-10-21T12:58:42.72\", \"2020-10-21T13:33:08.743\", \"2020-10-21T14:06:01.427\", \"2020-10-22T13:47:42.993\", \"2020-10-22T14:31:26.257\", \"2020-10-22T17:17:54.993\", \"2020-10-22T17:19:54.477\", \"2020-10-23T07:50:08.56\", \"2020-10-23T12:09:06.92\", \"2020-10-23T16:06:11.243\", \"2020-10-24T16:03:56.137\", \"2020-10-25T08:22:12.38\", \"2020-10-25T16:01:58.43\", \"2020-10-26T05:46:15.347\", \"2020-10-27T16:57:39.52\", \"2020-10-28T05:57:09.547\", \"2020-10-28T13:28:28.833\", \"2020-10-28T15:58:04.637\", \"2020-10-29T01:39:26.437\", \"2020-10-29T02:25:33.677\", \"2020-10-29T11:10:06.717\", \"2020-10-29T14:45:52.203\", \"2020-10-30T15:24:32.273\", \"2020-11-02T09:41:44.807\", \"2020-11-02T16:14:49.56\", \"2020-11-03T09:15:35.397\", \"2020-11-03T14:16:21.633\", \"2020-11-04T08:18:34.06\", \"2020-11-05T12:22:50.65\", \"2020-11-05T13:57:09.393\", \"2020-11-06T03:12:33.02\", \"2020-11-07T02:30:08.94\", \"2020-11-08T12:42:54.723\", \"2020-11-08T12:48:07.61\", \"2020-11-09T08:23:02.983\", \"2020-11-09T10:51:40.613\", \"2020-11-11T05:50:59.56\", \"2020-11-11T06:00:38.383\", \"2020-11-11T09:58:05.707\", \"2020-11-11T11:27:29.283\", \"2020-11-11T15:13:05.847\", \"2020-11-11T16:53:07.01\", \"2020-11-12T05:28:55.913\", \"2020-11-12T14:47:17.27\", \"2020-11-12T18:39:57.223\", \"2020-11-13T03:08:25.797\", \"2020-11-13T18:33:05.46\", \"2020-11-14T14:04:27.383\", \"2020-11-16T02:39:45.893\", \"2020-11-16T11:23:16.327\", \"2020-11-16T11:25:19.08\", \"2020-11-18T06:54:44.173\", \"2020-11-18T11:32:37.993\", \"2020-11-18T11:41:37.49\", \"2020-11-18T12:30:24.143\", \"2020-11-18T12:37:55.147\", \"2020-11-18T19:18:53.403\", \"2020-11-19T09:30:41.29\", \"2020-11-19T12:44:09.52\", \"2020-11-19T16:56:39.44\", \"2020-11-20T10:05:42.53\", \"2020-11-20T14:00:44.387\", \"2020-11-20T16:00:00.39\", \"2020-11-21T05:08:51.133\", \"2020-11-22T23:21:07.067\", \"2020-11-23T01:58:09.64\", \"2020-11-24T10:58:17.443\", \"2020-11-24T15:09:06.143\", \"2020-11-24T16:02:26.117\", \"2020-11-24T20:48:57.933\", \"2020-11-25T11:17:47.587\", \"2020-11-25T11:59:22.583\", \"2020-11-25T12:40:55.58\", \"2020-11-25T13:13:05.463\", \"2020-11-25T14:28:28.507\", \"2020-11-25T15:43:04.867\", \"2020-11-26T11:43:14.277\", \"2020-11-30T16:32:19.377\", \"2020-12-02T09:26:16.583\", \"2020-12-02T15:54:46.727\", \"2020-12-03T15:45:18.923\", \"2020-12-04T18:13:27.287\", \"2020-12-06T07:13:50.297\", \"2020-12-06T08:25:07.433\", \"2020-12-06T22:33:26.473\", \"2020-12-08T06:45:13.323\", \"2020-12-08T11:32:56.12\", \"2020-12-08T12:43:05.35\", \"2020-12-08T12:43:52.023\", \"2020-12-08T15:13:24.93\", \"2020-12-09T10:04:40.567\", \"2020-12-10T03:32:44.07\", \"2020-12-10T16:03:19.67\", \"2020-12-10T16:45:56.92\", \"2020-12-11T09:05:13.287\", \"2020-12-15T11:43:28.143\", \"2020-12-15T13:24:34.04\", \"2020-12-16T05:04:16.433\", \"2020-12-16T11:24:45.933\", \"2020-12-16T13:34:06.637\", \"2020-12-16T16:31:08.12\", \"2020-12-16T21:46:56.413\", \"2020-12-18T03:06:14.177\", \"2020-12-18T11:11:07.787\", \"2020-12-21T08:30:12.503\", \"2020-12-21T17:49:39.223\", \"2020-12-22T04:59:41.42\", \"2020-12-22T05:06:26.697\", \"2020-12-23T09:59:10.2\", \"2020-12-23T10:59:14.423\", \"2020-12-24T00:03:53.283\", \"2020-12-26T15:56:58.257\", \"2020-12-27T01:57:08.607\", \"2020-12-27T11:57:47.007\", \"2020-12-27T14:12:00.18\", \"2020-12-28T02:51:24.99\", \"2020-12-28T10:34:01.52\", \"2020-12-28T11:57:21.447\", \"2020-12-28T15:09:46.85\", \"2020-12-29T08:45:35.597\", \"2020-12-29T11:55:09.773\", \"2020-12-29T15:13:04.71\", \"2020-12-29T17:22:22.603\", \"2020-12-30T10:05:14.57\", \"2020-12-31T18:03:21.66\", \"2021-01-01T07:00:15.443\", \"2021-01-03T22:55:07.463\", \"2021-01-04T07:41:29.507\", \"2021-01-04T07:48:38.72\", \"2021-01-04T08:49:11.093\", \"2021-01-04T12:26:12.183\", \"2021-01-05T09:54:38.063\", \"2021-01-05T10:07:21.227\", \"2021-01-05T20:16:38.75\", \"2021-01-06T12:25:16.487\", \"2021-01-06T14:50:39.423\", \"2021-01-07T00:43:54.317\", \"2021-01-08T03:57:53.35\", \"2021-01-09T23:27:17.513\", \"2021-01-11T05:30:23.477\", \"2021-01-11T16:25:58.88\", \"2021-01-11T22:44:21.93\", \"2021-01-12T06:59:45.843\", \"2021-01-12T07:40:27.073\", \"2021-01-12T08:16:59.57\", \"2021-01-12T09:52:23.923\", \"2021-01-12T23:48:05.1\", \"2021-01-14T13:55:54.143\", \"2021-01-15T06:20:18.943\", \"2021-01-15T11:36:31.313\", \"2021-01-16T04:10:22.447\", \"2021-01-16T07:56:33.363\", \"2021-01-16T19:32:13.78\", \"2021-01-18T00:23:54.957\", \"2021-01-18T05:59:41.04\", \"2021-01-19T13:53:44.657\", \"2021-01-19T14:58:12.793\", \"2021-01-20T07:11:18.693\", \"2021-01-20T07:58:12.823\", \"2021-01-20T15:38:36.633\", \"2021-01-20T16:13:02.5\", \"2021-01-21T09:00:33.853\", \"2021-01-21T17:46:44.013\", \"2021-01-22T13:54:36.95\", \"2021-01-22T15:20:52.107\", \"2021-01-23T00:52:07.6\", \"2021-01-25T03:57:52.733\", \"2021-01-25T10:05:26.427\", \"2021-01-25T12:51:33.14\", \"2021-01-25T17:07:17.423\", \"2021-01-27T01:26:58.78\", \"2021-01-27T09:22:55.277\", \"2021-01-27T09:22:55.547\", \"2021-01-27T09:28:32.857\", \"2021-01-27T13:06:46.71\", \"2021-01-28T11:33:34.887\", \"2021-01-29T05:09:45.457\", \"2021-01-29T09:32:23.31\", \"2021-01-30T02:44:24.313\", \"2021-02-01T14:35:54.11\", \"2021-02-02T02:54:29.54\", \"2021-02-02T09:15:33.837\", \"2021-02-03T04:07:38.773\", \"2021-02-03T06:28:55.87\", \"2021-02-03T14:28:38.48\", \"2021-02-04T18:52:41.68\", \"2021-02-05T01:44:05.203\", \"2021-02-05T09:38:55.053\", \"2021-02-07T01:35:51.77\", \"2021-02-07T03:45:35.85\", \"2021-02-07T22:47:17.563\", \"2021-02-08T04:21:46.14\", \"2021-02-08T14:35:14.027\", \"2021-02-08T20:23:34.343\", \"2021-02-09T05:36:55.147\", \"2021-02-09T07:28:04.943\", \"2021-02-10T06:07:45.91\", \"2021-02-10T11:48:40.4\", \"2021-02-10T13:30:52.19\", \"2021-02-10T17:28:34.27\", \"2021-02-11T16:40:26.987\", \"2021-02-11T21:31:20.58\", \"2021-02-12T05:54:48.23\", \"2021-02-12T09:56:04.773\", \"2021-02-12T15:06:05.92\", \"2021-02-12T15:07:52.33\", \"2021-02-13T02:53:30.073\", \"2021-02-14T04:45:31.08\", \"2021-02-14T15:10:09.8\", \"2021-02-15T21:50:52.64\", \"2021-02-16T06:32:23.97\", \"2021-02-16T09:44:47.337\", \"2021-02-16T14:37:14.58\", \"2021-02-17T00:44:34.993\", \"2021-02-17T01:00:17.45\", \"2021-02-17T01:25:49.423\", \"2021-02-17T17:57:59.497\", \"2021-02-18T04:41:42.563\", \"2021-02-19T11:17:25.39\", \"2021-02-22T01:18:39.76\", \"2021-02-22T10:22:26.3\", \"2021-02-23T05:30:07.697\", \"2021-02-23T08:25:50.447\", \"2021-02-23T15:53:46.57\", \"2021-02-24T07:45:06.977\", \"2021-02-24T12:36:00.77\", \"2021-02-25T08:53:44.637\", \"2021-02-25T10:29:48.393\", \"2021-02-25T16:43:06.273\", \"2021-02-26T09:23:09.993\", \"2021-02-26T11:57:02.543\", \"2021-02-26T18:47:43.037\", \"2021-02-27T07:31:29.457\", \"2021-02-27T11:08:57.667\", \"2021-03-01T09:13:33.787\", \"2021-03-01T19:39:59.55\", \"2021-03-02T09:23:36.847\", \"2021-03-02T11:18:39.363\", \"2021-03-02T16:31:12.837\", \"2021-03-03T03:05:35.877\", \"2021-03-03T05:13:37.897\", \"2021-03-03T06:44:32.35\", \"2021-03-03T08:54:25\", \"2021-03-03T09:20:39.307\", \"2021-03-03T16:19:15.397\", \"2021-03-04T02:36:22.257\", \"2021-03-04T11:01:28.96\", \"2021-03-05T08:22:11.3\", \"2021-03-06T06:54:56.57\", \"2021-03-09T07:01:54.71\", \"2021-03-09T11:05:19.053\", \"2021-03-09T11:09:19.763\", \"2021-03-09T14:55:21.58\", \"2021-03-09T17:00:23.213\", \"2021-03-10T04:36:07.837\", \"2021-03-10T15:24:21.857\", \"2021-03-10T16:00:02.613\", \"2021-03-11T04:20:04.103\", \"2021-03-11T09:00:30.913\", \"2021-03-11T17:30:43.753\", \"2021-03-12T02:34:21.683\", \"2021-03-12T03:28:33.083\", \"2021-03-12T11:48:47.203\", \"2021-03-13T10:25:21.143\", \"2021-03-14T17:29:30.287\", \"2021-03-15T10:13:43.667\", \"2021-03-15T10:53:54.233\", \"2021-03-16T07:06:57.6\", \"2021-03-16T15:19:27.047\", \"2021-03-17T17:02:54.86\", \"2021-03-18T02:51:39.69\", \"2021-03-18T13:51:25.81\", \"2021-03-19T07:21:13.43\", \"2021-03-19T11:31:47.557\", \"2021-03-20T01:34:53.61\", \"2021-03-22T03:47:12.6\", \"2021-03-23T12:14:18.863\", \"2021-03-24T09:04:13.813\", \"2021-03-24T12:58:46.5\", \"2021-03-25T03:17:53.38\", \"2021-03-25T14:46:51.637\", \"2021-03-25T16:39:59.577\", \"2021-03-26T14:27:14.173\", \"2021-03-30T12:29:47.413\", \"2021-03-30T12:53:22.887\", \"2021-03-31T05:04:42.15\", \"2021-03-31T06:38:42.34\", \"2021-04-01T08:14:49.057\", \"2021-04-06T19:28:50.28\", \"2021-04-07T14:44:07.22\", \"2021-04-08T17:31:25.08\", \"2021-04-09T14:10:26.533\", \"2021-04-09T18:43:03.997\", \"2021-04-10T02:53:00.28\", \"2021-04-10T03:29:32.747\", \"2021-04-10T15:57:59.943\", \"2021-04-12T10:52:25.73\", \"2021-04-12T12:12:10.283\", \"2021-04-12T15:13:07.097\", \"2021-04-14T03:27:41.803\", \"2021-04-15T08:57:58.05\", \"2021-04-15T12:20:03.933\", \"2021-04-19T09:41:09.173\", \"2021-04-20T07:00:28.707\", \"2021-04-20T11:43:36.217\", \"2021-04-20T15:43:56.607\", \"2021-04-21T11:38:15.18\", \"2021-04-22T04:29:17.66\", \"2021-04-22T04:48:51.64\", \"2021-04-22T06:55:40.56\", \"2021-04-22T07:32:19.79\", \"2021-04-22T16:37:41.357\", \"2021-04-22T16:43:27\", \"2021-04-23T00:03:22.743\", \"2021-04-23T09:14:59.607\", \"2021-04-23T11:09:05.35\", \"2021-04-27T07:40:14.087\", \"2021-04-27T10:25:08.213\", \"2021-04-27T13:53:38.607\", \"2021-04-27T14:05:34.707\", \"2021-04-27T16:17:23.083\", \"2021-04-27T16:38:41.177\", \"2021-04-28T06:07:57.33\", \"2021-04-28T11:44:20.84\", \"2021-04-28T14:08:31.08\", \"2021-04-28T14:15:54.817\", \"2021-04-29T02:16:11.49\", \"2021-04-30T07:03:44.607\", \"2021-04-30T08:43:37.07\", \"2021-04-30T15:41:33.667\", \"2021-05-04T03:26:26.993\", \"2021-05-04T09:31:18.373\", \"2021-05-05T10:48:30.583\", \"2021-05-05T14:59:26.737\", \"2021-05-06T04:52:27.5\", \"2021-05-06T05:44:31.317\", \"2021-05-06T06:08:48.817\", \"2021-05-06T10:55:46.883\", \"2021-05-06T14:47:18.237\", \"2021-05-06T15:36:56.423\", \"2021-05-06T19:21:40.677\", \"2021-05-07T11:58:25.423\", \"2021-05-07T12:44:00.26\", \"2021-05-10T14:33:41.143\", \"2021-05-11T11:11:22.967\", \"2021-05-11T14:33:52.803\", \"2021-05-11T16:15:01.67\", \"2021-05-12T19:29:45.887\", \"2021-05-14T08:27:02.38\", \"2021-05-14T10:04:28.7\", \"2021-05-17T00:14:13.58\", \"2021-05-17T05:24:41.617\", \"2021-05-17T10:22:56.957\", \"2021-05-17T10:44:03.017\", \"2021-05-17T12:12:39.573\", \"2021-05-17T12:41:24.27\", \"2021-05-18T00:14:22.057\", \"2021-05-19T09:46:33.497\", \"2021-05-20T08:11:58.513\", \"2021-05-21T02:17:15.373\", \"2021-05-23T15:49:03.797\", \"2021-05-24T03:14:14.447\", \"2021-05-24T05:55:56.8\", \"2021-05-24T14:55:23.877\", \"2021-05-25T10:09:32.81\", \"2021-05-25T16:41:37.953\", \"2021-05-25T23:18:10.647\", \"2021-05-25T23:21:55.333\", \"2021-05-26T05:39:30.67\", \"2021-05-27T07:12:50.66\", \"2021-05-28T11:21:25.033\", \"2021-05-28T13:33:13.153\", \"2021-05-29T21:45:02.2\", \"2021-05-30T01:41:31.68\", \"2021-05-30T08:11:59.69\", \"2021-06-02T07:44:14.63\", \"2021-06-02T12:18:46.267\", \"2021-06-02T13:14:26.307\", \"2021-06-02T13:40:25.58\", \"2021-06-02T13:53:43.85\", \"2021-06-02T15:54:57.997\", \"2021-06-02T16:37:04.77\", \"2021-06-03T02:17:04.61\", \"2021-06-03T04:46:03.063\", \"2021-06-03T04:52:06.57\", \"2021-06-03T09:19:09.593\", \"2021-06-03T19:44:17.527\", \"2021-06-04T05:25:16.927\", \"2021-06-04T10:11:48.013\", \"2021-06-04T19:14:13.09\", \"2021-06-08T04:53:56.6\", \"2021-06-08T10:57:39.363\"], \"xaxis\": \"x\", \"y\": [0.063, 0.022, 0.0, 0.041, 0.0, 0.046, 0.0, 0.0, 0.0, 0.081, 0.05, 0.102, 0.025, 0.0, 0.037, 0.0, 0.077, 0.09, 0.0, 0.0, 0.069, 0.121, 0.067, 0.034, 0.079, 0.0, 0.0, 0.062, 0.0, 0.089, 0.055, 0.0, 0.11, 0.0, 0.118, 0.0, 0.145, 0.0, 0.0, 0.035, 0.0, 0.062, 0.0, 0.129, 0.0, 0.038, 0.249, 0.0, 0.1, 0.032, 0.102, 0.0, 0.0, 0.0, 0.131, 0.0, 0.0, 0.073, 0.122, 0.0, 0.02, 0.0, 0.0, 0.0, 0.0, 0.0, 0.057, 0.0, 0.0, 0.0, 0.029, 0.065, 0.079, 0.035, 0.0, 0.0, 0.0, 0.043, 0.067, 0.0, 0.0, 0.146, 0.036, 0.0, 0.011, 0.0, 0.024, 0.0, 0.0, 0.041, 0.073, 0.0, 0.0, 0.0, 0.047, 0.166, 0.049, 0.033, 0.0, 0.0, 0.0, 0.14, 0.158, 0.0, 0.0, 0.022, 0.021, 0.037, 0.0, 0.088, 0.0, 0.08, 0.046, 0.0, 0.092, 0.0, 0.0, 0.0, 0.0, 0.059, 0.0, 0.0, 0.048, 0.0, 0.023, 0.0, 0.0, 0.0, 0.074, 0.102, 0.06, 0.0, 0.1, 0.0, 0.074, 0.03, 0.153, 0.0, 0.047, 0.036, 0.0, 0.018, 0.0, 0.116, 0.034, 0.0, 0.0, 0.167, 0.046, 0.028, 0.171, 0.0, 0.0, 0.072, 0.052, 0.039, 0.0, 0.0, 0.0, 0.057, 0.0, 0.05, 0.0, 0.031, 0.058, 0.171, 0.007, 0.0, 0.056, 0.011, 0.146, 0.0, 0.043, 0.0, 0.044, 0.0, 0.03, 0.046, 0.0, 0.0, 0.0, 0.0, 0.028, 0.013, 0.029, 0.0, 0.0, 0.073, 0.05, 0.077, 0.022, 0.052, 0.025, 0.0, 0.104, 0.0, 0.028, 0.0, 0.0, 0.0, 0.0, 0.041, 0.046, 0.077, 0.0, 0.0, 0.0, 0.09, 0.07, 0.067, 0.124, 0.047, 0.0, 0.129, 0.074, 0.0, 0.0, 0.0, 0.0, 0.021, 0.0, 0.061, 0.0, 0.047, 0.091, 0.0, 0.051, 0.077, 0.071, 0.033, 0.0, 0.194, 0.043, 0.014, 0.0, 0.0, 0.0, 0.028, 0.0, 0.048, 0.093, 0.022, 0.017, 0.026, 0.0, 0.0, 0.053, 0.085, 0.055, 0.0, 0.0, 0.231, 0.0, 0.0, 0.0, 0.087, 0.0, 0.0, 0.0, 0.0, 0.022, 0.03, 0.0, 0.0, 0.0, 0.0, 0.062, 0.0, 0.0, 0.19, 0.058, 0.0, 0.0, 0.0, 0.049, 0.0, 0.0, 0.0, 0.131, 0.0, 0.0, 0.102, 0.069, 0.042, 0.031, 0.103, 0.005, 0.0, 0.027, 0.0, 0.154, 0.057, 0.0, 0.106, 0.027, 0.119, 0.0, 0.0, 0.0, 0.049, 0.0, 0.0, 0.053, 0.069, 0.0, 0.115, 0.0, 0.0, 0.051, 0.227, 0.0, 0.0, 0.17, 0.0, 0.0, 0.034, 0.089, 0.0, 0.022, 0.0, 0.048, 0.076, 0.038, 0.023, 0.103, 0.0, 0.0, 0.015, 0.022, 0.0, 0.099, 0.0, 0.172, 0.083, 0.073, 0.121, 0.023, 0.123, 0.039, 0.0, 0.059, 0.0, 0.0, 0.0, 0.021, 0.07, 0.0, 0.0, 0.0, 0.162, 0.0, 0.0, 0.0, 0.0, 0.0, 0.0, 0.154, 0.0, 0.0, 0.0, 0.0, 0.0, 0.035, 0.016, 0.013, 0.022, 0.017, 0.0, 0.0, 0.0, 0.062, 0.0, 0.0, 0.048, 0.0, 0.127, 0.0, 0.117, 0.02, 0.083, 0.0, 0.0, 0.049, 0.0, 0.0, 0.0, 0.043, 0.0, 0.0, 0.0, 0.048, 0.096, 0.0, 0.186, 0.0, 0.043, 0.0, 0.078, 0.0, 0.084, 0.12, 0.0, 0.068, 0.0, 0.212, 0.0, 0.078, 0.155, 0.015, 0.0, 0.042, 0.058, 0.0, 0.213, 0.071, 0.076, 0.042, 0.056, 0.0, 0.0, 0.037, 0.0, 0.052, 0.017, 0.0, 0.0, 0.046, 0.043, 0.154, 0.1, 0.166, 0.098, 0.091, 0.0, 0.067, 0.098, 0.072, 0.0, 0.0, 0.0, 0.0, 0.164, 0.062, 0.059, 0.0, 0.031, 0.0, 0.113, 0.0, 0.0, 0.087, 0.0, 0.115, 0.0, 0.118, 0.035, 0.0, 0.0, 0.0, 0.0, 0.1, 0.019, 0.0, 0.0, 0.0, 0.0, 0.0, 0.031, 0.062, 0.0, 0.073, 0.188, 0.0, 0.0, 0.0, 0.016, 0.0, 0.048, 0.087, 0.0, 0.052, 0.0, 0.029, 0.0, 0.062, 0.0, 0.0, 0.072, 0.118, 0.0, 0.092, 0.02, 0.0, 0.0, 0.1, 0.085, 0.0, 0.164, 0.024, 0.0, 0.237, 0.069, 0.0, 0.052, 0.033, 0.0, 0.0, 0.033, 0.0, 0.049, 0.022, 0.048, 0.0, 0.05, 0.013, 0.0, 0.0, 0.0, 0.0, 0.0, 0.065, 0.224, 0.06, 0.098, 0.0, 0.0, 0.0, 0.02, 0.04, 0.132, 0.0, 0.0, 0.048, 0.0, 0.137, 0.018, 0.07, 0.023, 0.056, 0.0, 0.0, 0.04, 0.095, 0.0, 0.05, 0.136, 0.181, 0.0, 0.211, 0.0, 0.0, 0.0, 0.049, 0.038, 0.087, 0.0, 0.0, 0.071, 0.027, 0.0, 0.084, 0.0, 0.091, 0.0, 0.03, 0.0, 0.0, 0.0, 0.053, 0.025, 0.065, 0.0, 0.0, 0.0, 0.0, 0.078, 0.0, 0.012, 0.0, 0.065, 0.0, 0.0, 0.089, 0.029, 0.0, 0.0, 0.0, 0.06, 0.0, 0.0, 0.141, 0.06, 0.0, 0.047, 0.026, 0.065, 0.089, 0.0, 0.123, 0.0, 0.09, 0.066, 0.089, 0.0, 0.0, 0.0, 0.009, 0.037, 0.0, 0.0, 0.0, 0.0, 0.0, 0.0, 0.0, 0.0, 0.041, 0.069, 0.0, 0.0, 0.0, 0.0, 0.026, 0.0, 0.0, 0.0, 0.062, 0.0, 0.0, 0.026, 0.236, 0.062, 0.0, 0.0, 0.0, 0.059, 0.129, 0.0, 0.0, 0.028, 0.0, 0.121, 0.0, 0.017, 0.0, 0.0, 0.0, 0.0, 0.0, 0.0, 0.103, 0.0, 0.065, 0.0, 0.047, 0.08, 0.169, 0.0, 0.046, 0.041, 0.156, 0.081, 0.011, 0.0, 0.03, 0.0, 0.079, 0.0, 0.132, 0.05, 0.046, 0.055, 0.071, 0.0, 0.067, 0.0, 0.034, 0.0, 0.0, 0.087, 0.0, 0.0, 0.045, 0.118, 0.1, 0.029, 0.0, 0.074, 0.0, 0.07, 0.0, 0.0, 0.044, 0.004, 0.182, 0.086, 0.092, 0.0, 0.0, 0.0, 0.0, 0.021, 0.0, 0.0, 0.0, 0.034, 0.007, 0.036, 0.0, 0.205, 0.205, 0.06, 0.1, 0.0, 0.0, 0.0, 0.032, 0.0, 0.026, 0.0, 0.0, 0.0, 0.0, 0.0, 0.048, 0.0, 0.0, 0.025, 0.148, 0.082, 0.009, 0.145, 0.048, 0.091, 0.0, 0.005, 0.0, 0.023, 0.111, 0.015, 0.075, 0.0, 0.0, 0.028, 0.0, 0.074, 0.0, 0.07, 0.058, 0.0, 0.039, 0.0, 0.0, 0.07, 0.072, 0.017, 0.0, 0.0, 0.031, 0.0, 0.116, 0.0, 0.071, 0.026, 0.108, 0.0, 0.016, 0.136, 0.0, 0.0, 0.236, 0.0, 0.045, 0.086, 0.133, 0.041, 0.156, 0.013, 0.0, 0.116, 0.025, 0.1, 0.022, 0.0, 0.0, 0.054, 0.115, 0.0, 0.055, 0.042, 0.163, 0.051, 0.103, 0.0, 0.074, 0.0, 0.0, 0.044, 0.148, 0.014, 0.276, 0.0, 0.053, 0.037, 0.0, 0.0, 0.112, 0.0, 0.0, 0.102, 0.0, 0.0, 0.109, 0.13, 0.0, 0.231, 0.0, 0.082, 0.035, 0.0, 0.0, 0.045, 0.0, 0.08, 0.0, 0.0, 0.023, 0.0, 0.0, 0.0, 0.044, 0.029, 0.125, 0.0, 0.035, 0.0, 0.04, 0.0, 0.091, 0.086, 0.143, 0.0, 0.246, 0.019, 0.0, 0.129, 0.04, 0.053, 0.0, 0.015, 0.0, 0.054, 0.19, 0.0, 0.021, 0.05, 0.0, 0.0, 0.0, 0.074, 0.014, 0.0, 0.0, 0.0, 0.111, 0.0, 0.0, 0.0, 0.037, 0.0, 0.059, 0.0, 0.171, 0.0, 0.03, 0.048, 0.064, 0.141, 0.064, 0.0, 0.0, 0.175, 0.066, 0.091, 0.0, 0.027, 0.114, 0.0, 0.079, 0.079, 0.17, 0.052, 0.065, 0.039, 0.098, 0.018, 0.06, 0.046, 0.0, 0.0, 0.031, 0.0, 0.047, 0.0, 0.068, 0.0, 0.15, 0.104, 0.055, 0.0, 0.0, 0.022, 0.0, 0.0, 0.026, 0.0, 0.027, 0.0, 0.0, 0.105, 0.015, 0.056, 0.057, 0.0, 0.12, 0.0, 0.095, 0.0, 0.0, 0.026, 0.023, 0.0, 0.013, 0.133, 0.0, 0.053, 0.0, 0.092, 0.16, 0.0, 0.117, 0.0, 0.074, 0.0, 0.048, 0.0, 0.0, 0.415, 0.0, 0.013, 0.026, 0.0, 0.036, 0.0, 0.046, 0.067, 0.0, 0.0, 0.0, 0.0, 0.0, 0.016, 0.037, 0.019, 0.0, 0.0, 0.0, 0.213, 0.0, 0.065, 0.0, 0.227, 0.037, 0.075, 0.0, 0.0, 0.0, 0.0, 0.049, 0.036, 0.0, 0.0, 0.0, 0.109, 0.018, 0.053, 0.095, 0.0, 0.231, 0.147, 0.041, 0.0, 0.092, 0.06, 0.032, 0.056, 0.0, 0.0, 0.147, 0.0, 0.0, 0.024, 0.0, 0.06, 0.093, 0.0, 0.107, 0.127, 0.0, 0.033, 0.036, 0.063, 0.0, 0.0, 0.0, 0.0, 0.0, 0.15, 0.049, 0.152, 0.127, 0.0, 0.031, 0.036, 0.025, 0.0, 0.0, 0.0, 0.025, 0.045, 0.15, 0.068, 0.0, 0.045, 0.026, 0.0, 0.0, 0.0, 0.047, 0.061, 0.131, 0.0, 0.093, 0.016, 0.072, 0.0, 0.067, 0.16, 0.086, 0.135, 0.258, 0.097, 0.0, 0.067, 0.103, 0.0, 0.0, 0.051, 0.046, 0.022, 0.0, 0.0, 0.0, 0.063, 0.068, 0.04, 0.028, 0.0, 0.0, 0.0, 0.0, 0.043, 0.025, 0.0, 0.0, 0.0, 0.0, 0.21, 0.039, 0.0, 0.0, 0.0, 0.0, 0.089, 0.0, 0.0], \"yaxis\": \"y\"}],                        {\"legend\": {\"tracegroupgap\": 0}, \"margin\": {\"t\": 60}, \"template\": {\"data\": {\"bar\": [{\"error_x\": {\"color\": \"#2a3f5f\"}, \"error_y\": {\"color\": \"#2a3f5f\"}, \"marker\": {\"line\": {\"color\": \"#E5ECF6\", \"width\": 0.5}}, \"type\": \"bar\"}], \"barpolar\": [{\"marker\": {\"line\": {\"color\": \"#E5ECF6\", \"width\": 0.5}}, \"type\": \"barpolar\"}], \"carpet\": [{\"aaxis\": {\"endlinecolor\": \"#2a3f5f\", \"gridcolor\": \"white\", \"linecolor\": \"white\", \"minorgridcolor\": \"white\", \"startlinecolor\": \"#2a3f5f\"}, \"baxis\": {\"endlinecolor\": \"#2a3f5f\", \"gridcolor\": \"white\", \"linecolor\": \"white\", \"minorgridcolor\": \"white\", \"startlinecolor\": \"#2a3f5f\"}, \"type\": \"carpet\"}], \"choropleth\": [{\"colorbar\": {\"outlinewidth\": 0, \"ticks\": \"\"}, \"type\": \"choropleth\"}], \"contour\": [{\"colorbar\": {\"outlinewidth\": 0, \"ticks\": \"\"}, \"colorscale\": [[0.0, \"#0d0887\"], [0.1111111111111111, \"#46039f\"], [0.2222222222222222, \"#7201a8\"], [0.3333333333333333, \"#9c179e\"], [0.4444444444444444, \"#bd3786\"], [0.5555555555555556, \"#d8576b\"], [0.6666666666666666, \"#ed7953\"], [0.7777777777777778, \"#fb9f3a\"], [0.8888888888888888, \"#fdca26\"], [1.0, \"#f0f921\"]], \"type\": \"contour\"}], \"contourcarpet\": [{\"colorbar\": {\"outlinewidth\": 0, \"ticks\": \"\"}, \"type\": \"contourcarpet\"}], \"heatmap\": [{\"colorbar\": {\"outlinewidth\": 0, \"ticks\": \"\"}, \"colorscale\": [[0.0, \"#0d0887\"], [0.1111111111111111, \"#46039f\"], [0.2222222222222222, \"#7201a8\"], [0.3333333333333333, \"#9c179e\"], [0.4444444444444444, \"#bd3786\"], [0.5555555555555556, \"#d8576b\"], [0.6666666666666666, \"#ed7953\"], [0.7777777777777778, \"#fb9f3a\"], [0.8888888888888888, \"#fdca26\"], [1.0, \"#f0f921\"]], \"type\": \"heatmap\"}], \"heatmapgl\": [{\"colorbar\": {\"outlinewidth\": 0, \"ticks\": \"\"}, \"colorscale\": [[0.0, \"#0d0887\"], [0.1111111111111111, \"#46039f\"], [0.2222222222222222, \"#7201a8\"], [0.3333333333333333, \"#9c179e\"], [0.4444444444444444, \"#bd3786\"], [0.5555555555555556, \"#d8576b\"], [0.6666666666666666, \"#ed7953\"], [0.7777777777777778, \"#fb9f3a\"], [0.8888888888888888, \"#fdca26\"], [1.0, \"#f0f921\"]], \"type\": \"heatmapgl\"}], \"histogram\": [{\"marker\": {\"colorbar\": {\"outlinewidth\": 0, \"ticks\": \"\"}}, \"type\": \"histogram\"}], \"histogram2d\": [{\"colorbar\": {\"outlinewidth\": 0, \"ticks\": \"\"}, \"colorscale\": [[0.0, \"#0d0887\"], [0.1111111111111111, \"#46039f\"], [0.2222222222222222, \"#7201a8\"], [0.3333333333333333, \"#9c179e\"], [0.4444444444444444, \"#bd3786\"], [0.5555555555555556, \"#d8576b\"], [0.6666666666666666, \"#ed7953\"], [0.7777777777777778, \"#fb9f3a\"], [0.8888888888888888, \"#fdca26\"], [1.0, \"#f0f921\"]], \"type\": \"histogram2d\"}], \"histogram2dcontour\": [{\"colorbar\": {\"outlinewidth\": 0, \"ticks\": \"\"}, \"colorscale\": [[0.0, \"#0d0887\"], [0.1111111111111111, \"#46039f\"], [0.2222222222222222, \"#7201a8\"], [0.3333333333333333, \"#9c179e\"], [0.4444444444444444, \"#bd3786\"], [0.5555555555555556, \"#d8576b\"], [0.6666666666666666, \"#ed7953\"], [0.7777777777777778, \"#fb9f3a\"], [0.8888888888888888, \"#fdca26\"], [1.0, \"#f0f921\"]], \"type\": \"histogram2dcontour\"}], \"mesh3d\": [{\"colorbar\": {\"outlinewidth\": 0, \"ticks\": \"\"}, \"type\": \"mesh3d\"}], \"parcoords\": [{\"line\": {\"colorbar\": {\"outlinewidth\": 0, \"ticks\": \"\"}}, \"type\": \"parcoords\"}], \"pie\": [{\"automargin\": true, \"type\": \"pie\"}], \"scatter\": [{\"marker\": {\"colorbar\": {\"outlinewidth\": 0, \"ticks\": \"\"}}, \"type\": \"scatter\"}], \"scatter3d\": [{\"line\": {\"colorbar\": {\"outlinewidth\": 0, \"ticks\": \"\"}}, \"marker\": {\"colorbar\": {\"outlinewidth\": 0, \"ticks\": \"\"}}, \"type\": \"scatter3d\"}], \"scattercarpet\": [{\"marker\": {\"colorbar\": {\"outlinewidth\": 0, \"ticks\": \"\"}}, \"type\": \"scattercarpet\"}], \"scattergeo\": [{\"marker\": {\"colorbar\": {\"outlinewidth\": 0, \"ticks\": \"\"}}, \"type\": \"scattergeo\"}], \"scattergl\": [{\"marker\": {\"colorbar\": {\"outlinewidth\": 0, \"ticks\": \"\"}}, \"type\": \"scattergl\"}], \"scattermapbox\": [{\"marker\": {\"colorbar\": {\"outlinewidth\": 0, \"ticks\": \"\"}}, \"type\": \"scattermapbox\"}], \"scatterpolar\": [{\"marker\": {\"colorbar\": {\"outlinewidth\": 0, \"ticks\": \"\"}}, \"type\": \"scatterpolar\"}], \"scatterpolargl\": [{\"marker\": {\"colorbar\": {\"outlinewidth\": 0, \"ticks\": \"\"}}, \"type\": \"scatterpolargl\"}], \"scatterternary\": [{\"marker\": {\"colorbar\": {\"outlinewidth\": 0, \"ticks\": \"\"}}, \"type\": \"scatterternary\"}], \"surface\": [{\"colorbar\": {\"outlinewidth\": 0, \"ticks\": \"\"}, \"colorscale\": [[0.0, \"#0d0887\"], [0.1111111111111111, \"#46039f\"], [0.2222222222222222, \"#7201a8\"], [0.3333333333333333, \"#9c179e\"], [0.4444444444444444, \"#bd3786\"], [0.5555555555555556, \"#d8576b\"], [0.6666666666666666, \"#ed7953\"], [0.7777777777777778, \"#fb9f3a\"], [0.8888888888888888, \"#fdca26\"], [1.0, \"#f0f921\"]], \"type\": \"surface\"}], \"table\": [{\"cells\": {\"fill\": {\"color\": \"#EBF0F8\"}, \"line\": {\"color\": \"white\"}}, \"header\": {\"fill\": {\"color\": \"#C8D4E3\"}, \"line\": {\"color\": \"white\"}}, \"type\": \"table\"}]}, \"layout\": {\"annotationdefaults\": {\"arrowcolor\": \"#2a3f5f\", \"arrowhead\": 0, \"arrowwidth\": 1}, \"autotypenumbers\": \"strict\", \"coloraxis\": {\"colorbar\": {\"outlinewidth\": 0, \"ticks\": \"\"}}, \"colorscale\": {\"diverging\": [[0, \"#8e0152\"], [0.1, \"#c51b7d\"], [0.2, \"#de77ae\"], [0.3, \"#f1b6da\"], [0.4, \"#fde0ef\"], [0.5, \"#f7f7f7\"], [0.6, \"#e6f5d0\"], [0.7, \"#b8e186\"], [0.8, \"#7fbc41\"], [0.9, \"#4d9221\"], [1, \"#276419\"]], \"sequential\": [[0.0, \"#0d0887\"], [0.1111111111111111, \"#46039f\"], [0.2222222222222222, \"#7201a8\"], [0.3333333333333333, \"#9c179e\"], [0.4444444444444444, \"#bd3786\"], [0.5555555555555556, \"#d8576b\"], [0.6666666666666666, \"#ed7953\"], [0.7777777777777778, \"#fb9f3a\"], [0.8888888888888888, \"#fdca26\"], [1.0, \"#f0f921\"]], \"sequentialminus\": [[0.0, \"#0d0887\"], [0.1111111111111111, \"#46039f\"], [0.2222222222222222, \"#7201a8\"], [0.3333333333333333, \"#9c179e\"], [0.4444444444444444, \"#bd3786\"], [0.5555555555555556, \"#d8576b\"], [0.6666666666666666, \"#ed7953\"], [0.7777777777777778, \"#fb9f3a\"], [0.8888888888888888, \"#fdca26\"], [1.0, \"#f0f921\"]]}, \"colorway\": [\"#636efa\", \"#EF553B\", \"#00cc96\", \"#ab63fa\", \"#FFA15A\", \"#19d3f3\", \"#FF6692\", \"#B6E880\", \"#FF97FF\", \"#FECB52\"], \"font\": {\"color\": \"#2a3f5f\"}, \"geo\": {\"bgcolor\": \"white\", \"lakecolor\": \"white\", \"landcolor\": \"#E5ECF6\", \"showlakes\": true, \"showland\": true, \"subunitcolor\": \"white\"}, \"hoverlabel\": {\"align\": \"left\"}, \"hovermode\": \"closest\", \"mapbox\": {\"style\": \"light\"}, \"paper_bgcolor\": \"white\", \"plot_bgcolor\": \"#E5ECF6\", \"polar\": {\"angularaxis\": {\"gridcolor\": \"white\", \"linecolor\": \"white\", \"ticks\": \"\"}, \"bgcolor\": \"#E5ECF6\", \"radialaxis\": {\"gridcolor\": \"white\", \"linecolor\": \"white\", \"ticks\": \"\"}}, \"scene\": {\"xaxis\": {\"backgroundcolor\": \"#E5ECF6\", \"gridcolor\": \"white\", \"gridwidth\": 2, \"linecolor\": \"white\", \"showbackground\": true, \"ticks\": \"\", \"zerolinecolor\": \"white\"}, \"yaxis\": {\"backgroundcolor\": \"#E5ECF6\", \"gridcolor\": \"white\", \"gridwidth\": 2, \"linecolor\": \"white\", \"showbackground\": true, \"ticks\": \"\", \"zerolinecolor\": \"white\"}, \"zaxis\": {\"backgroundcolor\": \"#E5ECF6\", \"gridcolor\": \"white\", \"gridwidth\": 2, \"linecolor\": \"white\", \"showbackground\": true, \"ticks\": \"\", \"zerolinecolor\": \"white\"}}, \"shapedefaults\": {\"line\": {\"color\": \"#2a3f5f\"}}, \"ternary\": {\"aaxis\": {\"gridcolor\": \"white\", \"linecolor\": \"white\", \"ticks\": \"\"}, \"baxis\": {\"gridcolor\": \"white\", \"linecolor\": \"white\", \"ticks\": \"\"}, \"bgcolor\": \"#E5ECF6\", \"caxis\": {\"gridcolor\": \"white\", \"linecolor\": \"white\", \"ticks\": \"\"}}, \"title\": {\"x\": 0.05}, \"xaxis\": {\"automargin\": true, \"gridcolor\": \"white\", \"linecolor\": \"white\", \"ticks\": \"\", \"title\": {\"standoff\": 15}, \"zerolinecolor\": \"white\", \"zerolinewidth\": 2}, \"yaxis\": {\"automargin\": true, \"gridcolor\": \"white\", \"linecolor\": \"white\", \"ticks\": \"\", \"title\": {\"standoff\": 15}, \"zerolinecolor\": \"white\", \"zerolinewidth\": 2}}}, \"xaxis\": {\"anchor\": \"y\", \"domain\": [0.0, 1.0], \"title\": {\"text\": \"Post Date\"}}, \"yaxis\": {\"anchor\": \"x\", \"domain\": [0.0, 1.0], \"title\": {\"text\": \"neg\"}}},                        {\"responsive\": true}                    ).then(function(){\n",
       "                            \n",
       "var gd = document.getElementById('36b6eb32-0602-407d-ac53-7740f1bc457f');\n",
       "var x = new MutationObserver(function (mutations, observer) {{\n",
       "        var display = window.getComputedStyle(gd).display;\n",
       "        if (!display || display === 'none') {{\n",
       "            console.log([gd, 'removed!']);\n",
       "            Plotly.purge(gd);\n",
       "            observer.disconnect();\n",
       "        }}\n",
       "}});\n",
       "\n",
       "// Listen for the removal of the full notebook cells\n",
       "var notebookContainer = gd.closest('#notebook-container');\n",
       "if (notebookContainer) {{\n",
       "    x.observe(notebookContainer, {childList: true});\n",
       "}}\n",
       "\n",
       "// Listen for the clearing of the current output cell\n",
       "var outputEl = gd.closest('.output');\n",
       "if (outputEl) {{\n",
       "    x.observe(outputEl, {childList: true});\n",
       "}}\n",
       "\n",
       "                        })                };                });            </script>        </div>"
      ]
     },
     "metadata": {},
     "output_type": "display_data"
    }
   ],
   "source": [
    "fig = px.line(df2, x='Post Date', y='neg')\n",
    "fig.show()"
   ]
  },
  {
   "cell_type": "code",
   "execution_count": 213,
   "metadata": {},
   "outputs": [
    {
     "name": "stderr",
     "output_type": "stream",
     "text": [
      "C:\\Users\\BDelamater\\Anaconda3\\lib\\site-packages\\ipykernel\\ipkernel.py:287: DeprecationWarning:\n",
      "\n",
      "`should_run_async` will not call `transform_cell` automatically in the future. Please pass the result to `transformed_cell` argument and any exception that happen during thetransform in `preprocessing_exc_tuple` in IPython 7.17 and above.\n",
      "\n"
     ]
    },
    {
     "data": {
      "application/vnd.plotly.v1+json": {
       "config": {
        "plotlyServerURL": "https://plot.ly"
       },
       "data": [
        {
         "hovertemplate": "Sentiment=Neutral<br>Post Date=%{x}<br>pos=%{y}<extra></extra>",
         "legendgroup": "Neutral",
         "line": {
          "color": "#636efa",
          "dash": "solid"
         },
         "mode": "lines",
         "name": "Neutral",
         "showlegend": true,
         "type": "scattergl",
         "x": [
          "2019-10-10T05:58:05.73",
          "2019-10-11T14:24:15.807",
          "2019-10-23T03:37:35.103",
          "2019-10-23T12:09:17.84",
          "2019-11-12T00:41:34.433",
          "2019-11-13T03:30:36.293",
          "2019-11-14T11:29:20.21",
          "2019-11-20T10:36:40.83",
          "2019-11-21T13:38:42.807",
          "2019-12-09T10:45:09.32",
          "2019-12-11T11:57:54.773",
          "2019-12-18T14:19:48.24",
          "2019-12-24T07:53:51.783",
          "2019-12-27T18:14:34.557",
          "2020-01-07T13:43:06.053",
          "2020-01-11T05:17:09.423",
          "2020-01-14T07:36:27.793",
          "2020-01-15T13:11:10.033",
          "2020-01-16T20:37:57.323",
          "2020-01-20T07:01:58.37",
          "2020-01-22T15:21:03.853",
          "2020-01-23T09:12:43.07",
          "2020-01-24T15:38:37.98",
          "2020-01-29T01:21:00.2",
          "2020-02-04T20:18:44.27",
          "2020-02-05T15:34:55.653",
          "2020-02-12T18:31:25.547",
          "2020-02-14T11:00:46.067",
          "2020-02-18T09:57:28.06",
          "2020-02-20T09:07:37.297",
          "2020-02-26T09:59:17.067",
          "2020-02-28T04:40:42.623",
          "2020-03-10T07:07:09.317",
          "2020-03-10T13:47:55.803",
          "2020-03-11T12:02:24.97",
          "2020-03-20T09:52:08.827",
          "2020-04-03T01:06:02.82",
          "2020-04-07T16:29:10.43",
          "2020-04-24T09:15:41.46",
          "2020-04-27T03:25:15.807",
          "2020-05-03T16:49:31.43",
          "2020-05-13T15:13:24.907",
          "2020-05-14T09:38:15.473",
          "2020-05-19T13:23:05.93",
          "2020-05-22T12:43:12.977",
          "2020-05-27T08:09:30.657",
          "2020-05-28T11:43:06.343",
          "2020-05-31T21:49:48.113",
          "2020-06-01T07:06:15.03",
          "2020-06-03T08:38:37.627",
          "2020-06-17T10:39:43.347",
          "2020-06-21T05:58:52.79",
          "2020-07-01T03:24:12.553",
          "2020-07-02T16:17:26.273",
          "2020-07-09T15:25:26.863",
          "2020-07-21T10:23:05.597",
          "2020-07-24T02:00:04.097",
          "2020-08-11T06:23:35.727",
          "2020-08-13T05:21:38.977",
          "2020-08-13T14:00:56.303",
          "2020-08-17T17:09:22.07",
          "2020-08-27T04:28:56.903",
          "2020-09-01T12:00:23.027",
          "2020-09-03T15:16:17.96",
          "2020-09-08T05:00:37.097",
          "2020-09-10T06:34:35.72",
          "2020-09-20T12:16:21.403",
          "2020-09-21T16:37:39.7",
          "2020-09-29T18:14:05.84",
          "2020-09-29T18:29:04.81",
          "2020-10-02T09:26:32.68",
          "2020-10-15T14:35:43.96",
          "2020-10-16T13:34:13.343",
          "2020-10-22T13:47:42.993",
          "2020-10-22T17:19:54.477",
          "2020-10-27T16:57:39.52",
          "2020-10-29T11:10:06.717",
          "2020-11-02T09:41:44.807",
          "2020-11-05T12:22:50.65",
          "2020-11-05T13:57:09.393",
          "2020-11-11T11:27:29.283",
          "2020-11-16T02:39:45.893",
          "2020-11-18T06:54:44.173",
          "2020-11-19T12:44:09.52",
          "2020-11-20T10:05:42.53",
          "2020-11-24T16:02:26.117",
          "2020-11-25T11:59:22.583",
          "2020-12-06T22:33:26.473",
          "2020-12-10T16:45:56.92",
          "2020-12-27T01:57:08.607",
          "2020-12-29T11:55:09.773",
          "2021-01-11T05:30:23.477",
          "2021-01-12T09:52:23.923",
          "2021-01-16T04:10:22.447",
          "2021-01-19T14:58:12.793",
          "2021-01-29T09:32:23.31",
          "2021-02-02T02:54:29.54",
          "2021-02-03T04:07:38.773",
          "2021-02-05T01:44:05.203",
          "2021-02-24T07:45:06.977",
          "2021-03-09T07:01:54.71",
          "2021-03-18T02:51:39.69",
          "2021-03-18T13:51:25.81",
          "2021-03-25T14:46:51.637",
          "2021-04-09T18:43:03.997",
          "2021-04-22T16:37:41.357",
          "2021-04-23T09:14:59.607",
          "2021-04-27T16:38:41.177",
          "2021-05-10T14:33:41.143"
         ],
         "xaxis": "x",
         "y": [
          0.064,
          0,
          0,
          0.056,
          0,
          0,
          0,
          0.038,
          0,
          0,
          0,
          0,
          0,
          0,
          0,
          0,
          0,
          0,
          0,
          0,
          0.052,
          0,
          0,
          0,
          0,
          0,
          0.055,
          0.043,
          0.022,
          0,
          0,
          0,
          0,
          0,
          0,
          0,
          0,
          0,
          0,
          0,
          0,
          0,
          0,
          0,
          0.054,
          0,
          0,
          0.16,
          0,
          0,
          0,
          0,
          0,
          0.032,
          0,
          0.022,
          0,
          0,
          0.051,
          0,
          0.179,
          0,
          0,
          0,
          0,
          0.112,
          0,
          0,
          0,
          0,
          0.01,
          0,
          0,
          0,
          0,
          0,
          0,
          0,
          0,
          0,
          0.11,
          0,
          0.056,
          0,
          0.055,
          0.095,
          0,
          0,
          0,
          0.103,
          0,
          0,
          0.09,
          0,
          0,
          0,
          0.025,
          0.061,
          0,
          0,
          0,
          0,
          0,
          0,
          0.092,
          0,
          0,
          0,
          0
         ],
         "yaxis": "y"
        },
        {
         "hovertemplate": "Sentiment=Positive<br>Post Date=%{x}<br>pos=%{y}<extra></extra>",
         "legendgroup": "Positive",
         "line": {
          "color": "#EF553B",
          "dash": "solid"
         },
         "mode": "lines",
         "name": "Positive",
         "showlegend": true,
         "type": "scattergl",
         "x": [
          "2019-10-10T12:44:35.957",
          "2019-10-10T14:56:52.947",
          "2019-10-10T15:41:06.877",
          "2019-10-10T20:56:53.483",
          "2019-10-11T13:10:28.983",
          "2019-10-11T16:02:41.787",
          "2019-10-13T20:01:08.897",
          "2019-10-14T08:33:18.01",
          "2019-10-16T11:20:54.023",
          "2019-10-16T14:12:45.5",
          "2019-10-17T09:14:34.753",
          "2019-10-17T10:16:15.513",
          "2019-10-17T12:09:02.91",
          "2019-10-17T23:59:14.523",
          "2019-10-18T14:58:06.717",
          "2019-10-21T06:08:38.347",
          "2019-10-21T16:06:55.323",
          "2019-10-22T08:16:13.563",
          "2019-10-22T16:27:23.92",
          "2019-10-22T18:07:48.827",
          "2019-10-23T08:20:38.087",
          "2019-10-23T11:38:26.887",
          "2019-10-24T04:42:08.237",
          "2019-10-24T09:59:56.077",
          "2019-10-24T16:34:04.713",
          "2019-10-28T15:36:47.907",
          "2019-10-29T06:01:19.783",
          "2019-10-29T10:29:47.95",
          "2019-10-29T16:46:32.203",
          "2019-10-29T17:04:40.463",
          "2019-10-30T04:45:07.257",
          "2019-10-30T15:33:07.45",
          "2019-10-30T18:41:07.37",
          "2019-10-31T12:35:06.993",
          "2019-11-01T07:44:02.54",
          "2019-11-04T17:47:37.86",
          "2019-11-06T06:04:59.007",
          "2019-11-06T10:08:50.95",
          "2019-11-06T10:27:39.52",
          "2019-11-08T20:33:59.89",
          "2019-11-09T11:37:29.693",
          "2019-11-11T05:59:42.987",
          "2019-11-11T11:39:44.857",
          "2019-11-11T13:02:34.017",
          "2019-11-12T18:42:03.247",
          "2019-11-13T09:35:33.91",
          "2019-11-13T23:52:26.683",
          "2019-11-14T06:03:35.53",
          "2019-11-14T09:45:03.713",
          "2019-11-14T13:10:08.303",
          "2019-11-18T04:12:03.657",
          "2019-11-18T15:17:49.503",
          "2019-11-18T16:11:15.36",
          "2019-11-18T17:18:32.137",
          "2019-11-18T19:25:44.17",
          "2019-11-19T02:48:28.417",
          "2019-11-19T10:27:37.423",
          "2019-11-19T11:00:35.74",
          "2019-11-19T20:00:10.803",
          "2019-11-20T12:24:54.847",
          "2019-11-21T00:07:58.053",
          "2019-11-21T14:08:12.47",
          "2019-11-21T18:13:29.69",
          "2019-11-22T07:29:58.45",
          "2019-11-22T12:44:01.59",
          "2019-11-23T12:26:35.197",
          "2019-11-26T08:17:12.663",
          "2019-11-27T10:39:18.173",
          "2019-11-27T21:15:11.89",
          "2019-11-28T04:58:07.76",
          "2019-12-02T07:06:03.57",
          "2019-12-02T15:42:44.927",
          "2019-12-02T21:04:51.46",
          "2019-12-03T07:56:40.55",
          "2019-12-03T10:45:44.023",
          "2019-12-04T11:59:55.687",
          "2019-12-05T11:04:33.51",
          "2019-12-05T12:28:17.997",
          "2019-12-09T07:25:39.22",
          "2019-12-09T10:53:03.993",
          "2019-12-09T12:45:56.217",
          "2019-12-10T08:52:36.997",
          "2019-12-10T10:14:02.33",
          "2019-12-10T11:53:33.71",
          "2019-12-10T18:25:49.657",
          "2019-12-11T11:26:46.79",
          "2019-12-12T11:05:43.68",
          "2019-12-13T09:43:03.027",
          "2019-12-17T03:54:27.833",
          "2019-12-17T05:30:55.173",
          "2019-12-17T09:31:11.343",
          "2019-12-17T11:21:51.1",
          "2019-12-17T12:36:10.797",
          "2019-12-17T22:05:31.297",
          "2019-12-18T02:18:53.803",
          "2019-12-18T04:43:33.147",
          "2019-12-18T07:43:12.083",
          "2019-12-20T14:25:22.243",
          "2019-12-21T07:31:20.647",
          "2019-12-26T08:18:44.133",
          "2019-12-26T11:59:21.053",
          "2019-12-28T03:55:55.687",
          "2019-12-30T13:08:12.05",
          "2019-12-30T13:53:51.783",
          "2020-01-02T06:49:33.107",
          "2020-01-02T09:53:02.633",
          "2020-01-02T16:36:17.35",
          "2020-01-03T12:08:04.033",
          "2020-01-03T16:41:12.803",
          "2020-01-06T12:19:26.157",
          "2020-01-06T17:04:29.283",
          "2020-01-06T17:40:07.413",
          "2020-01-07T04:10:45.22",
          "2020-01-07T04:51:00.893",
          "2020-01-07T10:24:06.313",
          "2020-01-07T11:18:19.473",
          "2020-01-07T15:38:23.8",
          "2020-01-07T16:18:56.733",
          "2020-01-08T16:28:49.287",
          "2020-01-09T01:31:01.17",
          "2020-01-09T06:33:51.44",
          "2020-01-09T12:05:38.153",
          "2020-01-10T15:06:17.673",
          "2020-01-10T15:54:12.933",
          "2020-01-13T12:21:50.72",
          "2020-01-13T13:00:29.71",
          "2020-01-14T15:06:33.63",
          "2020-01-15T04:12:20.593",
          "2020-01-15T09:52:42.417",
          "2020-01-15T19:14:38.547",
          "2020-01-16T10:00:09.903",
          "2020-01-16T17:27:43.697",
          "2020-01-18T01:12:31.457",
          "2020-01-18T07:43:39.573",
          "2020-01-20T00:07:25.07",
          "2020-01-20T06:57:25.193",
          "2020-01-20T06:59:28.963",
          "2020-01-20T14:25:20.393",
          "2020-01-20T14:45:16.097",
          "2020-01-22T15:07:27.347",
          "2020-01-23T08:30:02.617",
          "2020-01-25T16:27:33.3",
          "2020-01-27T12:47:35.913",
          "2020-01-27T13:06:07.103",
          "2020-01-27T19:11:17.547",
          "2020-01-30T18:43:33.303",
          "2020-01-31T00:48:04.5",
          "2020-01-31T08:03:58.81",
          "2020-02-01T05:35:29.75",
          "2020-02-02T13:10:27.66",
          "2020-02-02T17:09:13.667",
          "2020-02-03T04:12:16.153",
          "2020-02-04T09:46:39.103",
          "2020-02-05T12:57:51.92",
          "2020-02-07T10:19:14.993",
          "2020-02-10T12:07:23.167",
          "2020-02-10T12:23:06.927",
          "2020-02-10T12:51:43.717",
          "2020-02-10T17:12:39.753",
          "2020-02-11T17:58:49.54",
          "2020-02-12T06:28:17.963",
          "2020-02-12T14:03:31.393",
          "2020-02-12T15:16:51.137",
          "2020-02-13T04:33:31.503",
          "2020-02-13T07:03:33.427",
          "2020-02-17T16:50:09.627",
          "2020-02-18T02:27:54.503",
          "2020-02-18T10:33:31.103",
          "2020-02-18T11:09:26.847",
          "2020-02-20T18:55:20.497",
          "2020-02-21T04:19:57.7",
          "2020-02-21T06:32:06.093",
          "2020-02-21T12:36:02.74",
          "2020-02-21T13:01:12.36",
          "2020-02-21T18:07:34.15",
          "2020-02-23T02:07:04.06",
          "2020-02-24T05:14:04.183",
          "2020-02-24T09:39:05.69",
          "2020-02-24T15:46:47.507",
          "2020-02-25T03:52:03.343",
          "2020-02-26T16:38:14.707",
          "2020-02-27T12:11:29.997",
          "2020-02-28T10:58:22.157",
          "2020-02-28T12:00:12.227",
          "2020-02-28T12:41:38.88",
          "2020-02-29T01:03:40.683",
          "2020-03-01T02:40:06.913",
          "2020-03-01T10:01:48.487",
          "2020-03-01T23:59:56.043",
          "2020-03-02T14:28:29.457",
          "2020-03-03T00:00:27.147",
          "2020-03-03T04:30:14.143",
          "2020-03-03T06:44:29.51",
          "2020-03-03T07:23:34.21",
          "2020-03-04T03:34:45.237",
          "2020-03-04T10:43:21.66",
          "2020-03-05T20:40:47.497",
          "2020-03-06T16:53:23.053",
          "2020-03-07T06:36:24.19",
          "2020-03-08T12:22:18.35",
          "2020-03-08T18:22:20.403",
          "2020-03-09T07:47:26.907",
          "2020-03-10T02:49:49.197",
          "2020-03-12T03:22:56.907",
          "2020-03-12T05:01:18.27",
          "2020-03-12T09:32:11.43",
          "2020-03-12T16:24:51.943",
          "2020-03-13T02:20:48.573",
          "2020-03-13T18:05:09.727",
          "2020-03-16T05:51:59.12",
          "2020-03-16T13:41:01.863",
          "2020-03-17T01:11:48.753",
          "2020-03-17T02:14:25.67",
          "2020-03-17T11:01:28.317",
          "2020-03-18T06:06:20.797",
          "2020-03-19T09:31:32.573",
          "2020-03-20T09:02:42.493",
          "2020-03-22T12:10:06.073",
          "2020-03-22T23:11:53.447",
          "2020-03-23T11:06:50.057",
          "2020-03-23T23:34:21.613",
          "2020-03-24T16:40:36.357",
          "2020-03-25T05:31:26.553",
          "2020-03-25T13:28:17.627",
          "2020-03-25T13:53:46.49",
          "2020-03-27T09:21:56.483",
          "2020-03-28T01:28:47.883",
          "2020-03-30T09:08:24.897",
          "2020-03-30T15:21:41.037",
          "2020-03-30T21:20:56.607",
          "2020-03-31T11:25:34.507",
          "2020-03-31T13:27:36.39",
          "2020-04-01T16:02:10.643",
          "2020-04-02T00:43:12.03",
          "2020-04-07T12:32:04.843",
          "2020-04-08T00:15:17.853",
          "2020-04-08T03:50:11.817",
          "2020-04-08T10:13:33.427",
          "2020-04-08T18:27:22.337",
          "2020-04-10T09:08:10.833",
          "2020-04-10T19:21:56.537",
          "2020-04-13T10:16:13.573",
          "2020-04-13T12:45:52.543",
          "2020-04-13T14:36:36.72",
          "2020-04-14T08:25:03.7",
          "2020-04-15T05:26:43.887",
          "2020-04-16T17:32:12.887",
          "2020-04-17T17:21:10.267",
          "2020-04-17T18:09:09.38",
          "2020-04-17T19:28:32.667",
          "2020-04-20T06:46:13.263",
          "2020-04-20T09:45:40.793",
          "2020-04-21T06:43:58.953",
          "2020-04-22T17:52:12.143",
          "2020-04-23T11:51:48.66",
          "2020-04-23T12:48:56.067",
          "2020-04-23T13:42:27.423",
          "2020-04-23T19:33:37.777",
          "2020-04-24T12:08:53.497",
          "2020-04-24T17:33:44.47",
          "2020-04-27T11:04:11.827",
          "2020-04-27T12:09:32.6",
          "2020-04-28T14:16:24.483",
          "2020-04-28T14:23:25.457",
          "2020-04-28T14:54:09.24",
          "2020-04-28T15:58:10.627",
          "2020-04-29T06:42:53.09",
          "2020-04-29T11:08:12.53",
          "2020-04-30T10:03:05.167",
          "2020-05-01T07:55:41.06",
          "2020-05-01T13:27:08.093",
          "2020-05-01T18:13:11.793",
          "2020-05-05T07:56:04.453",
          "2020-05-05T08:43:05.083",
          "2020-05-05T19:02:17.003",
          "2020-05-06T01:58:51.927",
          "2020-05-06T09:55:41.613",
          "2020-05-06T11:33:27.64",
          "2020-05-07T07:48:02.343",
          "2020-05-07T14:40:24.16",
          "2020-05-07T17:22:42.663",
          "2020-05-07T17:58:50.36",
          "2020-05-08T11:05:30.22",
          "2020-05-08T18:50:29.917",
          "2020-05-10T15:38:34.823",
          "2020-05-10T22:06:56.483",
          "2020-05-11T04:18:33.723",
          "2020-05-11T10:39:05.677",
          "2020-05-11T18:12:14.043",
          "2020-05-12T06:46:53.073",
          "2020-05-12T23:39:37.837",
          "2020-05-13T12:09:34.583",
          "2020-05-14T13:46:07.237",
          "2020-05-19T01:36:19.2",
          "2020-05-19T10:58:19.68",
          "2020-05-19T22:57:51.593",
          "2020-05-19T23:57:36.38",
          "2020-05-21T08:01:48.667",
          "2020-05-21T16:17:26.79",
          "2020-05-22T13:38:46.373",
          "2020-05-26T04:19:19.857",
          "2020-05-26T05:29:41.38",
          "2020-05-27T09:42:57.963",
          "2020-05-27T11:51:09.957",
          "2020-05-27T16:13:12.423",
          "2020-05-28T10:50:38.12",
          "2020-05-28T13:55:04.59",
          "2020-05-28T13:55:17.233",
          "2020-05-28T15:02:38.937",
          "2020-06-01T03:45:36.143",
          "2020-06-01T23:54:24.347",
          "2020-06-02T06:25:02.487",
          "2020-06-04T08:46:29.137",
          "2020-06-04T08:47:30.443",
          "2020-06-05T08:37:45.887",
          "2020-06-08T11:30:52.127",
          "2020-06-10T15:48:56.787",
          "2020-06-11T05:44:23.893",
          "2020-06-11T10:48:33.063",
          "2020-06-11T16:44:25.303",
          "2020-06-12T04:26:21.537",
          "2020-06-13T20:34:20.54",
          "2020-06-15T00:18:26.877",
          "2020-06-15T18:21:18.607",
          "2020-06-17T07:44:27.62",
          "2020-06-17T18:17:42.787",
          "2020-06-17T21:20:44.363",
          "2020-06-18T03:41:34.283",
          "2020-06-18T18:45:45.943",
          "2020-06-19T05:28:43.413",
          "2020-06-19T07:23:48.88",
          "2020-06-19T13:04:31.18",
          "2020-06-19T13:05:50.277",
          "2020-06-20T20:04:07.61",
          "2020-06-22T07:57:18.433",
          "2020-06-22T15:20:53.23",
          "2020-06-22T17:32:37.193",
          "2020-06-25T03:09:04.55",
          "2020-06-26T07:38:55.12",
          "2020-07-01T08:43:32.99",
          "2020-07-02T09:20:12.7",
          "2020-07-02T10:21:06.57",
          "2020-07-08T09:33:24.407",
          "2020-07-08T16:56:19.757",
          "2020-07-09T16:22:26.66",
          "2020-07-09T16:28:26.983",
          "2020-07-10T15:53:37.277",
          "2020-07-10T18:57:48.173",
          "2020-07-14T05:01:01.39",
          "2020-07-15T03:11:16.5",
          "2020-07-15T06:32:14.56",
          "2020-07-15T17:54:55.167",
          "2020-07-16T04:35:29.63",
          "2020-07-16T07:33:35.41",
          "2020-07-16T11:36:35.183",
          "2020-07-16T16:31:52.563",
          "2020-07-20T23:00:15.057",
          "2020-07-21T06:17:01.253",
          "2020-07-21T15:20:11.183",
          "2020-07-22T05:55:52.447",
          "2020-07-22T16:48:52.953",
          "2020-07-22T23:35:16.743",
          "2020-07-23T15:51:45.183",
          "2020-07-23T16:46:00.053",
          "2020-07-27T13:56:35.087",
          "2020-07-28T11:16:57.777",
          "2020-07-28T11:20:26.603",
          "2020-07-28T11:47:30.707",
          "2020-07-29T08:18:11.907",
          "2020-07-29T09:13:44.577",
          "2020-07-29T10:45:28.61",
          "2020-07-30T14:51:34.69",
          "2020-07-30T16:20:18.783",
          "2020-08-03T14:31:32.377",
          "2020-08-03T15:16:16.62",
          "2020-08-05T12:27:19.103",
          "2020-08-05T13:19:23.943",
          "2020-08-06T12:04:03.013",
          "2020-08-07T15:34:48.087",
          "2020-08-10T12:13:23.673",
          "2020-08-11T03:18:56.48",
          "2020-08-12T07:54:44.907",
          "2020-08-13T09:27:35.497",
          "2020-08-13T13:58:17.28",
          "2020-08-13T19:32:19.49",
          "2020-08-14T04:43:10.42",
          "2020-08-14T10:33:47.637",
          "2020-08-14T14:39:35.21",
          "2020-08-18T07:01:56.34",
          "2020-08-19T10:47:49.9",
          "2020-08-19T14:31:13.88",
          "2020-08-20T16:16:04.203",
          "2020-08-20T18:20:03.123",
          "2020-08-21T02:02:10.857",
          "2020-08-21T14:50:21.077",
          "2020-08-21T15:36:03.473",
          "2020-08-24T02:26:12.913",
          "2020-08-24T03:55:16.187",
          "2020-08-24T07:30:08.877",
          "2020-08-24T09:13:29.1",
          "2020-08-25T09:37:23.29",
          "2020-08-25T13:34:40.817",
          "2020-08-26T02:11:50.003",
          "2020-08-26T10:34:15.32",
          "2020-08-26T11:13:50.613",
          "2020-08-27T11:25:26.827",
          "2020-08-27T11:40:36.677",
          "2020-08-27T14:20:01.203",
          "2020-08-27T14:59:03.177",
          "2020-08-28T04:12:14.89",
          "2020-08-28T12:20:32.08",
          "2020-08-31T09:41:46.203",
          "2020-09-01T08:29:04.687",
          "2020-09-02T13:28:25.653",
          "2020-09-03T02:01:33.75",
          "2020-09-03T09:26:58.127",
          "2020-09-03T11:55:40.83",
          "2020-09-04T02:35:33.15",
          "2020-09-07T03:14:01.783",
          "2020-09-08T03:24:11.603",
          "2020-09-08T05:40:25.34",
          "2020-09-08T12:13:05.57",
          "2020-09-08T14:17:04.713",
          "2020-09-09T14:46:03.91",
          "2020-09-09T15:33:09.883",
          "2020-09-10T06:00:56.927",
          "2020-09-10T12:15:08.11",
          "2020-09-10T16:25:03.4",
          "2020-09-11T11:54:43.767",
          "2020-09-11T17:57:16.44",
          "2020-09-13T05:09:37.187",
          "2020-09-13T12:40:21.163",
          "2020-09-14T08:48:44.357",
          "2020-09-15T08:11:30.217",
          "2020-09-15T11:40:17.6",
          "2020-09-15T19:54:20.857",
          "2020-09-16T06:13:11.593",
          "2020-09-16T08:15:45.44",
          "2020-09-16T09:57:44.517",
          "2020-09-16T12:02:57.383",
          "2020-09-16T14:20:14.03",
          "2020-09-16T16:01:59.473",
          "2020-09-16T16:33:38.75",
          "2020-09-16T16:52:38.42",
          "2020-09-17T11:41:44.053",
          "2020-09-17T14:55:23.447",
          "2020-09-17T16:37:00.077",
          "2020-09-18T07:33:41.723",
          "2020-09-18T10:46:34.367",
          "2020-09-21T09:58:43.167",
          "2020-09-21T16:47:19.263",
          "2020-09-22T00:02:42.337",
          "2020-09-22T06:17:08.973",
          "2020-09-22T12:21:03.637",
          "2020-09-23T12:45:54.313",
          "2020-09-23T14:50:02.017",
          "2020-09-23T14:50:53.77",
          "2020-09-23T14:51:39.347",
          "2020-09-23T15:15:00.187",
          "2020-09-24T13:12:57.107",
          "2020-09-24T19:12:48.583",
          "2020-09-25T06:21:34.47",
          "2020-09-25T15:10:56.223",
          "2020-09-25T21:10:47.287",
          "2020-09-27T03:01:48.877",
          "2020-09-28T07:28:53.443",
          "2020-09-28T13:41:47.603",
          "2020-09-29T10:42:52.203",
          "2020-09-29T10:58:24.237",
          "2020-09-29T11:43:39.463",
          "2020-10-01T04:05:51.267",
          "2020-10-01T15:18:19.523",
          "2020-10-04T06:57:42.663",
          "2020-10-06T10:36:52.983",
          "2020-10-06T12:46:04.483",
          "2020-10-07T04:36:43.39",
          "2020-10-07T16:31:35.887",
          "2020-10-07T16:43:08.117",
          "2020-10-08T08:52:50.623",
          "2020-10-09T02:01:00.407",
          "2020-10-12T09:03:36.163",
          "2020-10-12T20:34:39.057",
          "2020-10-14T06:43:01.837",
          "2020-10-14T09:31:09.873",
          "2020-10-14T13:41:44.907",
          "2020-10-14T13:52:09.94",
          "2020-10-15T06:57:57.13",
          "2020-10-16T10:01:41.817",
          "2020-10-16T12:33:29.753",
          "2020-10-17T11:21:17.997",
          "2020-10-17T21:00:48.037",
          "2020-10-19T15:39:33.853",
          "2020-10-19T22:07:22.383",
          "2020-10-20T03:00:27.94",
          "2020-10-21T04:53:38.967",
          "2020-10-21T06:22:02.867",
          "2020-10-21T09:30:56.74",
          "2020-10-21T10:44:23.66",
          "2020-10-22T14:31:26.257",
          "2020-10-22T17:17:54.993",
          "2020-10-23T07:50:08.56",
          "2020-10-23T12:09:06.92",
          "2020-10-23T16:06:11.243",
          "2020-10-24T16:03:56.137",
          "2020-10-25T08:22:12.38",
          "2020-10-25T16:01:58.43",
          "2020-10-26T05:46:15.347",
          "2020-10-29T02:25:33.677",
          "2020-10-29T14:45:52.203",
          "2020-10-30T15:24:32.273",
          "2020-11-03T09:15:35.397",
          "2020-11-03T14:16:21.633",
          "2020-11-04T08:18:34.06",
          "2020-11-06T03:12:33.02",
          "2020-11-07T02:30:08.94",
          "2020-11-08T12:42:54.723",
          "2020-11-08T12:48:07.61",
          "2020-11-09T10:51:40.613",
          "2020-11-11T05:50:59.56",
          "2020-11-11T09:58:05.707",
          "2020-11-11T15:13:05.847",
          "2020-11-11T16:53:07.01",
          "2020-11-12T05:28:55.913",
          "2020-11-12T14:47:17.27",
          "2020-11-13T03:08:25.797",
          "2020-11-14T14:04:27.383",
          "2020-11-16T11:23:16.327",
          "2020-11-16T11:25:19.08",
          "2020-11-18T11:32:37.993",
          "2020-11-18T12:30:24.143",
          "2020-11-18T12:37:55.147",
          "2020-11-18T19:18:53.403",
          "2020-11-19T09:30:41.29",
          "2020-11-20T14:00:44.387",
          "2020-11-20T16:00:00.39",
          "2020-11-21T05:08:51.133",
          "2020-11-22T23:21:07.067",
          "2020-11-23T01:58:09.64",
          "2020-11-24T10:58:17.443",
          "2020-11-24T15:09:06.143",
          "2020-11-24T20:48:57.933",
          "2020-11-25T12:40:55.58",
          "2020-11-25T14:28:28.507",
          "2020-11-25T15:43:04.867",
          "2020-11-30T16:32:19.377",
          "2020-12-02T09:26:16.583",
          "2020-12-04T18:13:27.287",
          "2020-12-06T08:25:07.433",
          "2020-12-08T11:32:56.12",
          "2020-12-08T12:43:52.023",
          "2020-12-08T15:13:24.93",
          "2020-12-09T10:04:40.567",
          "2020-12-10T03:32:44.07",
          "2020-12-10T16:03:19.67",
          "2020-12-15T11:43:28.143",
          "2020-12-15T13:24:34.04",
          "2020-12-16T05:04:16.433",
          "2020-12-16T13:34:06.637",
          "2020-12-16T21:46:56.413",
          "2020-12-18T03:06:14.177",
          "2020-12-18T11:11:07.787",
          "2020-12-21T17:49:39.223",
          "2020-12-22T05:06:26.697",
          "2020-12-23T10:59:14.423",
          "2020-12-24T00:03:53.283",
          "2020-12-26T15:56:58.257",
          "2020-12-27T11:57:47.007",
          "2020-12-27T14:12:00.18",
          "2020-12-28T10:34:01.52",
          "2020-12-28T11:57:21.447",
          "2020-12-29T17:22:22.603",
          "2020-12-30T10:05:14.57",
          "2020-12-31T18:03:21.66",
          "2021-01-01T07:00:15.443",
          "2021-01-03T22:55:07.463",
          "2021-01-04T07:41:29.507",
          "2021-01-04T07:48:38.72",
          "2021-01-04T08:49:11.093",
          "2021-01-04T12:26:12.183",
          "2021-01-05T09:54:38.063",
          "2021-01-05T10:07:21.227",
          "2021-01-05T20:16:38.75",
          "2021-01-06T12:25:16.487",
          "2021-01-06T14:50:39.423",
          "2021-01-07T00:43:54.317",
          "2021-01-08T03:57:53.35",
          "2021-01-11T16:25:58.88",
          "2021-01-11T22:44:21.93",
          "2021-01-12T07:40:27.073",
          "2021-01-14T13:55:54.143",
          "2021-01-15T11:36:31.313",
          "2021-01-16T19:32:13.78",
          "2021-01-18T05:59:41.04",
          "2021-01-19T13:53:44.657",
          "2021-01-20T07:11:18.693",
          "2021-01-20T15:38:36.633",
          "2021-01-20T16:13:02.5",
          "2021-01-21T17:46:44.013",
          "2021-01-22T13:54:36.95",
          "2021-01-22T15:20:52.107",
          "2021-01-23T00:52:07.6",
          "2021-01-25T03:57:52.733",
          "2021-01-25T10:05:26.427",
          "2021-01-25T12:51:33.14",
          "2021-01-25T17:07:17.423",
          "2021-01-27T09:22:55.277",
          "2021-01-27T09:22:55.547",
          "2021-01-27T09:28:32.857",
          "2021-01-28T11:33:34.887",
          "2021-01-29T05:09:45.457",
          "2021-01-30T02:44:24.313",
          "2021-02-01T14:35:54.11",
          "2021-02-02T09:15:33.837",
          "2021-02-04T18:52:41.68",
          "2021-02-07T01:35:51.77",
          "2021-02-07T03:45:35.85",
          "2021-02-07T22:47:17.563",
          "2021-02-08T04:21:46.14",
          "2021-02-08T20:23:34.343",
          "2021-02-09T05:36:55.147",
          "2021-02-09T07:28:04.943",
          "2021-02-10T11:48:40.4",
          "2021-02-10T17:28:34.27",
          "2021-02-11T16:40:26.987",
          "2021-02-11T21:31:20.58",
          "2021-02-12T05:54:48.23",
          "2021-02-12T09:56:04.773",
          "2021-02-12T15:06:05.92",
          "2021-02-12T15:07:52.33",
          "2021-02-13T02:53:30.073",
          "2021-02-14T04:45:31.08",
          "2021-02-14T15:10:09.8",
          "2021-02-15T21:50:52.64",
          "2021-02-16T06:32:23.97",
          "2021-02-16T09:44:47.337",
          "2021-02-17T01:00:17.45",
          "2021-02-17T01:25:49.423",
          "2021-02-17T17:57:59.497",
          "2021-02-18T04:41:42.563",
          "2021-02-19T11:17:25.39",
          "2021-02-22T01:18:39.76",
          "2021-02-22T10:22:26.3",
          "2021-02-23T05:30:07.697",
          "2021-02-23T08:25:50.447",
          "2021-02-23T15:53:46.57",
          "2021-02-24T12:36:00.77",
          "2021-02-25T08:53:44.637",
          "2021-02-25T10:29:48.393",
          "2021-02-25T16:43:06.273",
          "2021-02-26T09:23:09.993",
          "2021-02-26T18:47:43.037",
          "2021-02-27T11:08:57.667",
          "2021-03-01T09:13:33.787",
          "2021-03-01T19:39:59.55",
          "2021-03-02T09:23:36.847",
          "2021-03-02T11:18:39.363",
          "2021-03-02T16:31:12.837",
          "2021-03-03T05:13:37.897",
          "2021-03-03T06:44:32.35",
          "2021-03-03T08:54:25",
          "2021-03-04T02:36:22.257",
          "2021-03-05T08:22:11.3",
          "2021-03-09T11:09:19.763",
          "2021-03-09T14:55:21.58",
          "2021-03-10T04:36:07.837",
          "2021-03-10T15:24:21.857",
          "2021-03-10T16:00:02.613",
          "2021-03-11T04:20:04.103",
          "2021-03-11T09:00:30.913",
          "2021-03-11T17:30:43.753",
          "2021-03-12T02:34:21.683",
          "2021-03-12T03:28:33.083",
          "2021-03-12T11:48:47.203",
          "2021-03-13T10:25:21.143",
          "2021-03-14T17:29:30.287",
          "2021-03-15T10:13:43.667",
          "2021-03-15T10:53:54.233",
          "2021-03-17T17:02:54.86",
          "2021-03-19T07:21:13.43",
          "2021-03-20T01:34:53.61",
          "2021-03-23T12:14:18.863",
          "2021-03-24T12:58:46.5",
          "2021-03-25T03:17:53.38",
          "2021-03-25T16:39:59.577",
          "2021-03-26T14:27:14.173",
          "2021-03-30T12:29:47.413",
          "2021-03-30T12:53:22.887",
          "2021-03-31T05:04:42.15",
          "2021-03-31T06:38:42.34",
          "2021-04-01T08:14:49.057",
          "2021-04-06T19:28:50.28",
          "2021-04-08T17:31:25.08",
          "2021-04-10T02:53:00.28",
          "2021-04-12T10:52:25.73",
          "2021-04-12T12:12:10.283",
          "2021-04-12T15:13:07.097",
          "2021-04-14T03:27:41.803",
          "2021-04-15T08:57:58.05",
          "2021-04-15T12:20:03.933",
          "2021-04-19T09:41:09.173",
          "2021-04-20T07:00:28.707",
          "2021-04-20T15:43:56.607",
          "2021-04-21T11:38:15.18",
          "2021-04-22T04:29:17.66",
          "2021-04-22T04:48:51.64",
          "2021-04-22T06:55:40.56",
          "2021-04-22T16:43:27",
          "2021-04-23T00:03:22.743",
          "2021-04-23T11:09:05.35",
          "2021-04-27T07:40:14.087",
          "2021-04-27T10:25:08.213",
          "2021-04-27T13:53:38.607",
          "2021-04-27T14:05:34.707",
          "2021-04-27T16:17:23.083",
          "2021-04-28T06:07:57.33",
          "2021-04-28T11:44:20.84",
          "2021-04-28T14:08:31.08",
          "2021-04-28T14:15:54.817",
          "2021-04-29T02:16:11.49",
          "2021-04-30T07:03:44.607",
          "2021-04-30T08:43:37.07",
          "2021-05-04T03:26:26.993",
          "2021-05-04T09:31:18.373",
          "2021-05-05T10:48:30.583",
          "2021-05-05T14:59:26.737",
          "2021-05-06T04:52:27.5",
          "2021-05-06T05:44:31.317",
          "2021-05-06T14:47:18.237",
          "2021-05-06T15:36:56.423",
          "2021-05-06T19:21:40.677",
          "2021-05-07T11:58:25.423",
          "2021-05-07T12:44:00.26",
          "2021-05-11T11:11:22.967",
          "2021-05-11T14:33:52.803",
          "2021-05-12T19:29:45.887",
          "2021-05-14T10:04:28.7",
          "2021-05-17T00:14:13.58",
          "2021-05-17T05:24:41.617",
          "2021-05-17T10:22:56.957",
          "2021-05-17T12:12:39.573",
          "2021-05-20T08:11:58.513",
          "2021-05-21T02:17:15.373",
          "2021-05-24T03:14:14.447",
          "2021-05-24T05:55:56.8",
          "2021-05-24T14:55:23.877",
          "2021-05-25T10:09:32.81",
          "2021-05-25T23:18:10.647",
          "2021-05-25T23:21:55.333",
          "2021-05-26T05:39:30.67",
          "2021-05-28T11:21:25.033",
          "2021-05-28T13:33:13.153",
          "2021-05-29T21:45:02.2",
          "2021-05-30T01:41:31.68",
          "2021-05-30T08:11:59.69",
          "2021-06-02T07:44:14.63",
          "2021-06-02T12:18:46.267",
          "2021-06-02T13:14:26.307",
          "2021-06-02T13:40:25.58",
          "2021-06-02T13:53:43.85",
          "2021-06-02T15:54:57.997",
          "2021-06-02T16:37:04.77",
          "2021-06-03T02:17:04.61",
          "2021-06-03T04:52:06.57",
          "2021-06-03T09:19:09.593",
          "2021-06-03T19:44:17.527",
          "2021-06-04T05:25:16.927",
          "2021-06-04T10:11:48.013",
          "2021-06-08T04:53:56.6",
          "2021-06-08T10:57:39.363"
         ],
         "xaxis": "x",
         "y": [
          0.063,
          0.102,
          0.198,
          0.102,
          0.09,
          0.184,
          0.094,
          0.075,
          0.054,
          0.082,
          0.105,
          0.158,
          0.071,
          0.255,
          0.102,
          0.236,
          0.114,
          0.106,
          0.135,
          0.244,
          0.204,
          0.185,
          0.058,
          0.088,
          0.102,
          0.115,
          0.067,
          0.047,
          0.221,
          0.115,
          0.172,
          0.154,
          0.093,
          0.159,
          0.086,
          0.24,
          0.161,
          0.185,
          0.096,
          0.102,
          0.153,
          0.203,
          0.057,
          0.041,
          0.139,
          0.101,
          0.095,
          0.151,
          0.11,
          0.142,
          0.256,
          0.124,
          0.134,
          0.203,
          0.077,
          0.091,
          0.177,
          0.209,
          0.028,
          0.091,
          0.085,
          0.075,
          0.168,
          0.335,
          0.071,
          0.358,
          0.122,
          0.097,
          0.087,
          0.136,
          0.059,
          0.179,
          0.102,
          0.211,
          0.129,
          0.113,
          0.253,
          0.035,
          0.223,
          0.11,
          0.195,
          0.082,
          0.056,
          0.033,
          0.017,
          0.208,
          0.13,
          0.079,
          0.173,
          0.174,
          0.07,
          0.189,
          0.331,
          0.152,
          0.112,
          0.125,
          0.181,
          0.236,
          0.213,
          0.104,
          0.17,
          0.055,
          0.094,
          0.216,
          0.089,
          0.149,
          0.102,
          0.138,
          0.091,
          0.21,
          0.083,
          0.143,
          0.089,
          0.112,
          0.072,
          0.033,
          0.069,
          0.102,
          0.211,
          0.091,
          0.218,
          0.16,
          0.209,
          0.077,
          0.167,
          0.038,
          0.119,
          0.158,
          0.222,
          0.119,
          0.293,
          0.132,
          0.221,
          0.104,
          0.089,
          0.09,
          0.167,
          0.103,
          0.108,
          0.119,
          0.202,
          0.107,
          0.083,
          0.034,
          0.112,
          0.112,
          0.103,
          0.064,
          0.101,
          0.12,
          0.15,
          0.076,
          0.102,
          0.062,
          0.072,
          0.223,
          0.036,
          0.073,
          0.102,
          0.013,
          0.072,
          0.094,
          0.096,
          0.031,
          0.133,
          0.153,
          0.118,
          0.072,
          0.097,
          0.066,
          0.326,
          0.069,
          0.103,
          0.057,
          0.103,
          0.062,
          0.147,
          0.116,
          0.122,
          0.128,
          0.147,
          0.057,
          0.116,
          0.167,
          0.101,
          0.081,
          0.278,
          0.142,
          0.108,
          0.102,
          0.074,
          0.086,
          0.08,
          0.225,
          0.157,
          0.282,
          0.13,
          0.102,
          0.122,
          0.272,
          0.168,
          0.136,
          0.116,
          0.192,
          0.138,
          0.119,
          0.08,
          0.112,
          0.086,
          0.143,
          0.04,
          0.119,
          0.172,
          0.286,
          0.177,
          0.137,
          0.182,
          0.134,
          0.134,
          0.211,
          0.238,
          0.092,
          0.152,
          0.155,
          0.217,
          0.126,
          0.133,
          0.244,
          0.302,
          0.234,
          0.205,
          0.335,
          0.096,
          0.165,
          0.078,
          0.192,
          0.13,
          0.069,
          0.122,
          0.22,
          0.102,
          0.118,
          0.104,
          0.172,
          0.078,
          0.116,
          0.265,
          0.042,
          0.075,
          0.129,
          0.033,
          0.086,
          0.042,
          0.029,
          0.3,
          0.202,
          0.155,
          0.156,
          0.085,
          0.078,
          0.102,
          0.19,
          0.102,
          0.102,
          0.156,
          0.16,
          0.141,
          0.103,
          0.194,
          0.194,
          0.086,
          0.099,
          0.142,
          0.09,
          0.09,
          0.154,
          0.071,
          0.101,
          0.108,
          0.045,
          0.046,
          0.166,
          0.184,
          0.1,
          0.22,
          0.14,
          0.131,
          0.079,
          0.336,
          0.058,
          0.12,
          0.077,
          0.105,
          0.068,
          0.245,
          0.144,
          0.123,
          0.02,
          0.078,
          0.101,
          0.069,
          0.095,
          0.113,
          0.044,
          0.077,
          0.038,
          0.173,
          0.14,
          0.111,
          0.236,
          0.078,
          0.093,
          0.107,
          0.102,
          0.102,
          0.068,
          0.095,
          0.085,
          0.101,
          0.153,
          0.08,
          0.133,
          0.254,
          0.124,
          0.071,
          0.089,
          0.096,
          0.143,
          0.173,
          0.239,
          0.06,
          0.075,
          0.075,
          0.321,
          0.133,
          0.143,
          0.097,
          0.182,
          0.134,
          0.046,
          0.094,
          0.159,
          0.067,
          0.148,
          0.088,
          0.077,
          0.186,
          0.102,
          0.131,
          0.191,
          0.102,
          0.16,
          0.043,
          0.161,
          0.132,
          0.156,
          0.152,
          0.101,
          0.221,
          0.1,
          0.282,
          0.05,
          0.129,
          0.079,
          0.231,
          0.122,
          0.206,
          0.24,
          0.256,
          0.234,
          0.086,
          0.101,
          0.091,
          0.197,
          0.32,
          0.064,
          0.136,
          0.138,
          0.106,
          0.142,
          0.078,
          0.114,
          0.064,
          0.097,
          0.102,
          0.043,
          0.049,
          0.12,
          0.055,
          0.167,
          0.064,
          0.081,
          0.11,
          0.201,
          0.133,
          0.091,
          0.221,
          0.135,
          0.166,
          0.151,
          0.092,
          0.143,
          0.138,
          0.098,
          0.16,
          0.185,
          0.23,
          0.069,
          0.116,
          0.106,
          0.094,
          0.157,
          0.093,
          0.188,
          0.054,
          0.034,
          0.21,
          0.127,
          0.124,
          0.16,
          0.203,
          0.115,
          0.046,
          0.271,
          0.077,
          0.088,
          0.161,
          0.143,
          0.161,
          0.079,
          0.08,
          0.183,
          0.076,
          0.098,
          0.091,
          0.134,
          0.07,
          0.146,
          0.112,
          0.153,
          0.25,
          0.103,
          0.216,
          0.227,
          0.088,
          0.107,
          0.059,
          0.249,
          0.119,
          0.133,
          0.076,
          0.038,
          0.161,
          0.162,
          0.255,
          0.075,
          0.075,
          0.075,
          0.115,
          0.188,
          0.18,
          0.207,
          0.09,
          0.044,
          0.084,
          0.231,
          0.101,
          0.237,
          0.073,
          0.243,
          0.038,
          0.053,
          0.062,
          0.356,
          0.181,
          0.167,
          0.11,
          0.102,
          0.084,
          0.062,
          0.159,
          0.141,
          0.09,
          0.096,
          0.276,
          0.164,
          0.179,
          0.112,
          0.097,
          0.265,
          0.222,
          0.094,
          0.04,
          0.129,
          0.22,
          0.167,
          0.065,
          0.169,
          0.2,
          0.036,
          0.067,
          0.083,
          0.102,
          0.055,
          0.041,
          0.047,
          0.052,
          0.159,
          0.123,
          0.136,
          0.19,
          0.042,
          0.121,
          0.193,
          0.04,
          0.138,
          0.087,
          0.284,
          0.1,
          0.153,
          0.172,
          0.041,
          0.219,
          0.072,
          0.047,
          0.122,
          0.165,
          0.115,
          0.079,
          0.081,
          0.098,
          0.079,
          0.171,
          0.076,
          0.189,
          0.263,
          0.135,
          0.16,
          0.27,
          0.102,
          0.112,
          0.063,
          0.114,
          0.084,
          0.102,
          0.209,
          0.156,
          0.071,
          0.033,
          0.213,
          0.255,
          0.157,
          0.073,
          0.113,
          0.107,
          0.206,
          0.079,
          0.174,
          0.105,
          0.213,
          0.103,
          0.063,
          0.213,
          0.17,
          0.174,
          0.253,
          0.331,
          0.11,
          0.213,
          0.22,
          0.061,
          0.112,
          0.058,
          0.079,
          0.079,
          0.372,
          0.048,
          0.152,
          0.18,
          0.302,
          0.141,
          0.178,
          0.116,
          0.149,
          0.052,
          0.158,
          0.22,
          0.227,
          0.184,
          0.2,
          0.166,
          0.087,
          0.076,
          0.094,
          0.382,
          0.116,
          0.15,
          0.162,
          0.197,
          0.065,
          0.212,
          0.047,
          0.044,
          0.213,
          0.028,
          0.123,
          0.173,
          0.077,
          0.118,
          0.093,
          0.267,
          0.197,
          0.085,
          0.125,
          0.122,
          0.174,
          0.062,
          0.131,
          0.111,
          0.163,
          0.134,
          0.204,
          0.197,
          0.128,
          0.032,
          0.203,
          0.129,
          0.068,
          0.068,
          0.127,
          0.067,
          0.146,
          0.288,
          0.087,
          0.243,
          0.097,
          0.216,
          0.201,
          0.088,
          0.119,
          0.186,
          0.235,
          0.129,
          0.071,
          0.061,
          0.135,
          0.192,
          0.129,
          0.173,
          0.134,
          0.12,
          0.181,
          0.135,
          0.058,
          0.062,
          0.205,
          0.18,
          0.153,
          0.073,
          0.173,
          0.077,
          0.199,
          0.033,
          0.394,
          0.121,
          0.109,
          0.099,
          0.05,
          0.045,
          0.035,
          0.093,
          0.137,
          0.199,
          0.145,
          0.104,
          0.099,
          0.182,
          0.2,
          0.154,
          0.071,
          0.186,
          0.18,
          0.105,
          0.333,
          0.156,
          0.081,
          0.135,
          0.148,
          0.204,
          0.195,
          0.148,
          0.022,
          0.278,
          0.083,
          0.106,
          0.232,
          0.292,
          0.171,
          0.259,
          0.038,
          0.246,
          0.051,
          0.077,
          0.053,
          0.071,
          0.152,
          0.119,
          0.357,
          0.118,
          0.148,
          0.121,
          0.134,
          0.18,
          0.059,
          0.349,
          0.277,
          0.097,
          0.234,
          0.171,
          0.143,
          0.14,
          0.104,
          0.114,
          0.224,
          0.101,
          0.046,
          0.089,
          0.11,
          0.121,
          0.049,
          0.187,
          0.164,
          0.156,
          0.087,
          0.068,
          0.162,
          0.129,
          0.331,
          0.125,
          0.114,
          0.116,
          0.114,
          0.067,
          0.292,
          0.078,
          0.248,
          0.104,
          0.104,
          0.184,
          0.127,
          0.127,
          0.077,
          0.036,
          0.211,
          0.08,
          0.294,
          0.135,
          0.056,
          0.163,
          0.074,
          0.107,
          0.123,
          0.138,
          0.211,
          0.105,
          0.174,
          0.048,
          0.23,
          0.06
         ],
         "yaxis": "y"
        },
        {
         "hovertemplate": "Sentiment=Negative<br>Post Date=%{x}<br>pos=%{y}<extra></extra>",
         "legendgroup": "Negative",
         "line": {
          "color": "#00cc96",
          "dash": "solid"
         },
         "mode": "lines",
         "name": "Negative",
         "showlegend": true,
         "type": "scattergl",
         "x": [
          "2019-10-14T05:55:32.553",
          "2019-10-14T22:38:08.26",
          "2019-10-21T09:43:33.513",
          "2019-10-21T12:40:40.86",
          "2019-10-23T06:23:11.657",
          "2019-10-24T06:19:46.603",
          "2019-10-24T14:04:33.85",
          "2019-10-25T11:54:33.85",
          "2019-10-30T08:21:45.053",
          "2019-10-30T18:45:20.75",
          "2019-10-31T23:57:45.833",
          "2019-11-01T07:45:56.387",
          "2019-11-10T01:44:11.28",
          "2019-11-14T03:28:57.637",
          "2019-11-18T10:12:47.987",
          "2019-11-20T05:47:36.783",
          "2019-11-29T02:39:25.357",
          "2019-12-03T14:56:05.093",
          "2019-12-03T16:06:57.23",
          "2019-12-09T07:10:55.167",
          "2019-12-10T07:50:29.637",
          "2019-12-10T10:55:22.36",
          "2019-12-12T10:17:39.717",
          "2019-12-20T08:29:43.793",
          "2019-12-21T07:25:05.07",
          "2019-12-24T06:44:49.68",
          "2020-01-03T04:40:24.317",
          "2020-01-05T08:26:52.923",
          "2020-01-14T07:18:24.06",
          "2020-01-16T01:35:18.87",
          "2020-01-20T17:44:58.307",
          "2020-01-24T06:49:45.39",
          "2020-01-29T10:26:02.32",
          "2020-02-03T09:59:10.557",
          "2020-02-03T13:33:12.313",
          "2020-02-05T11:30:08.943",
          "2020-02-11T17:09:02.48",
          "2020-02-12T09:04:32.27",
          "2020-02-12T14:51:42.37",
          "2020-02-14T10:24:51.933",
          "2020-02-26T12:34:35.337",
          "2020-03-04T20:50:43.727",
          "2020-03-10T11:43:30.047",
          "2020-03-17T10:57:57.617",
          "2020-03-17T12:46:10.82",
          "2020-03-17T17:40:54.64",
          "2020-03-30T04:21:56.913",
          "2020-04-09T23:22:33.47",
          "2020-04-14T04:48:03.713",
          "2020-04-14T11:03:59.167",
          "2020-04-16T08:10:59.29",
          "2020-04-16T16:12:38.977",
          "2020-04-16T16:41:02.65",
          "2020-04-23T02:31:29.827",
          "2020-04-23T17:09:27.673",
          "2020-05-05T10:32:52.917",
          "2020-05-06T07:12:28.073",
          "2020-05-06T10:17:41.447",
          "2020-05-07T03:54:23.82",
          "2020-05-07T10:30:47.55",
          "2020-05-12T07:44:49.72",
          "2020-05-13T09:12:49.927",
          "2020-05-13T14:43:08.657",
          "2020-05-14T03:52:10.373",
          "2020-05-14T17:51:27.473",
          "2020-05-19T22:05:27.747",
          "2020-05-20T07:46:08.763",
          "2020-05-22T09:04:36.597",
          "2020-05-24T07:44:59.96",
          "2020-05-25T11:51:41.683",
          "2020-05-25T12:12:56.96",
          "2020-05-28T04:33:45.413",
          "2020-05-28T21:23:28.48",
          "2020-05-31T11:34:13.967",
          "2020-06-01T02:08:55.463",
          "2020-06-02T05:15:07.377",
          "2020-06-08T10:15:40.8",
          "2020-06-17T09:23:08.72",
          "2020-06-17T10:47:18.047",
          "2020-06-19T05:37:59.09",
          "2020-06-29T17:02:31.54",
          "2020-07-06T05:50:50.78",
          "2020-07-06T09:19:59.403",
          "2020-07-10T08:52:51.04",
          "2020-07-11T20:29:03.777",
          "2020-07-13T02:40:11.35",
          "2020-07-17T14:17:43.9",
          "2020-07-20T13:16:24.25",
          "2020-07-21T04:25:05.703",
          "2020-07-21T11:25:17.723",
          "2020-07-24T15:17:29.263",
          "2020-07-31T03:00:29.553",
          "2020-08-01T06:40:03.033",
          "2020-08-02T08:21:09.453",
          "2020-08-06T16:30:31.317",
          "2020-08-11T20:18:22.113",
          "2020-08-14T06:48:55.553",
          "2020-08-17T10:09:37.347",
          "2020-08-18T10:10:32.407",
          "2020-09-03T14:53:10.197",
          "2020-09-04T08:34:40.003",
          "2020-09-08T10:35:57.717",
          "2020-09-09T04:14:26.247",
          "2020-09-09T07:05:09.473",
          "2020-09-09T19:09:12.01",
          "2020-09-11T14:32:09.763",
          "2020-09-22T03:04:06.773",
          "2020-09-22T12:56:21.417",
          "2020-09-23T07:34:25.193",
          "2020-09-27T00:39:00.507",
          "2020-09-30T11:28:12.57",
          "2020-10-05T01:11:31.057",
          "2020-10-05T22:58:21.4",
          "2020-10-07T04:49:35.287",
          "2020-10-07T06:19:26.927",
          "2020-10-08T07:26:39.637",
          "2020-10-08T16:26:59.76",
          "2020-10-09T19:17:29.443",
          "2020-10-13T13:02:42.213",
          "2020-10-13T18:32:15.773",
          "2020-10-16T18:36:31.273",
          "2020-10-19T22:07:38.62",
          "2020-10-20T16:35:09.947",
          "2020-10-21T12:58:42.72",
          "2020-10-21T13:33:08.743",
          "2020-10-21T14:06:01.427",
          "2020-10-28T05:57:09.547",
          "2020-10-28T13:28:28.833",
          "2020-10-28T15:58:04.637",
          "2020-10-29T01:39:26.437",
          "2020-11-02T16:14:49.56",
          "2020-11-09T08:23:02.983",
          "2020-11-11T06:00:38.383",
          "2020-11-12T18:39:57.223",
          "2020-11-13T18:33:05.46",
          "2020-11-18T11:41:37.49",
          "2020-11-19T16:56:39.44",
          "2020-11-25T11:17:47.587",
          "2020-11-25T13:13:05.463",
          "2020-11-26T11:43:14.277",
          "2020-12-02T15:54:46.727",
          "2020-12-03T15:45:18.923",
          "2020-12-06T07:13:50.297",
          "2020-12-08T06:45:13.323",
          "2020-12-08T12:43:05.35",
          "2020-12-11T09:05:13.287",
          "2020-12-16T11:24:45.933",
          "2020-12-16T16:31:08.12",
          "2020-12-21T08:30:12.503",
          "2020-12-22T04:59:41.42",
          "2020-12-23T09:59:10.2",
          "2020-12-28T02:51:24.99",
          "2020-12-28T15:09:46.85",
          "2020-12-29T08:45:35.597",
          "2020-12-29T15:13:04.71",
          "2021-01-09T23:27:17.513",
          "2021-01-12T06:59:45.843",
          "2021-01-12T08:16:59.57",
          "2021-01-12T23:48:05.1",
          "2021-01-15T06:20:18.943",
          "2021-01-16T07:56:33.363",
          "2021-01-18T00:23:54.957",
          "2021-01-20T07:58:12.823",
          "2021-01-21T09:00:33.853",
          "2021-01-27T01:26:58.78",
          "2021-01-27T13:06:46.71",
          "2021-02-03T06:28:55.87",
          "2021-02-03T14:28:38.48",
          "2021-02-05T09:38:55.053",
          "2021-02-08T14:35:14.027",
          "2021-02-10T06:07:45.91",
          "2021-02-10T13:30:52.19",
          "2021-02-16T14:37:14.58",
          "2021-02-17T00:44:34.993",
          "2021-02-26T11:57:02.543",
          "2021-02-27T07:31:29.457",
          "2021-03-03T03:05:35.877",
          "2021-03-03T09:20:39.307",
          "2021-03-03T16:19:15.397",
          "2021-03-04T11:01:28.96",
          "2021-03-06T06:54:56.57",
          "2021-03-09T11:05:19.053",
          "2021-03-09T17:00:23.213",
          "2021-03-16T07:06:57.6",
          "2021-03-16T15:19:27.047",
          "2021-03-19T11:31:47.557",
          "2021-03-22T03:47:12.6",
          "2021-03-24T09:04:13.813",
          "2021-04-07T14:44:07.22",
          "2021-04-09T14:10:26.533",
          "2021-04-10T03:29:32.747",
          "2021-04-10T15:57:59.943",
          "2021-04-20T11:43:36.217",
          "2021-04-22T07:32:19.79",
          "2021-04-30T15:41:33.667",
          "2021-05-06T06:08:48.817",
          "2021-05-06T10:55:46.883",
          "2021-05-11T16:15:01.67",
          "2021-05-14T08:27:02.38",
          "2021-05-17T10:44:03.017",
          "2021-05-17T12:41:24.27",
          "2021-05-18T00:14:22.057",
          "2021-05-19T09:46:33.497",
          "2021-05-23T15:49:03.797",
          "2021-05-25T16:41:37.953",
          "2021-05-27T07:12:50.66",
          "2021-06-03T04:46:03.063",
          "2021-06-04T19:14:13.09"
         ],
         "xaxis": "x",
         "y": [
          0.017,
          0.052,
          0.034,
          0.021,
          0.044,
          0.049,
          0.106,
          0.057,
          0.11,
          0.058,
          0.027,
          0.052,
          0.038,
          0.028,
          0.038,
          0.055,
          0.107,
          0.066,
          0,
          0.026,
          0.049,
          0.042,
          0,
          0,
          0.031,
          0,
          0.113,
          0.038,
          0.102,
          0.016,
          0.079,
          0.046,
          0.033,
          0.058,
          0.017,
          0,
          0.03,
          0.031,
          0.017,
          0.09,
          0,
          0.061,
          0.101,
          0,
          0.073,
          0.022,
          0.078,
          0.095,
          0.068,
          0,
          0.029,
          0,
          0.014,
          0,
          0,
          0,
          0.031,
          0.049,
          0.12,
          0,
          0.115,
          0,
          0.026,
          0,
          0.046,
          0.198,
          0.113,
          0,
          0.065,
          0,
          0,
          0.027,
          0.074,
          0.047,
          0,
          0.029,
          0.045,
          0.028,
          0.046,
          0,
          0,
          0.014,
          0,
          0.015,
          0.043,
          0.051,
          0.092,
          0.039,
          0,
          0.065,
          0.028,
          0.058,
          0.041,
          0.091,
          0.048,
          0.142,
          0.106,
          0.056,
          0.064,
          0,
          0.052,
          0.049,
          0.053,
          0.049,
          0.026,
          0.053,
          0,
          0.018,
          0.042,
          0.04,
          0.024,
          0.065,
          0.077,
          0,
          0,
          0.034,
          0.036,
          0,
          0,
          0.037,
          0.012,
          0.045,
          0.033,
          0.043,
          0.082,
          0.077,
          0.159,
          0,
          0.038,
          0.048,
          0,
          0.041,
          0,
          0.027,
          0.043,
          0.066,
          0.042,
          0.103,
          0.059,
          0.126,
          0.092,
          0,
          0.107,
          0.066,
          0.063,
          0.014,
          0.062,
          0,
          0.041,
          0.11,
          0.032,
          0.087,
          0.052,
          0,
          0,
          0.069,
          0,
          0.079,
          0.094,
          0.204,
          0.105,
          0.055,
          0.14,
          0,
          0.059,
          0.034,
          0.107,
          0.039,
          0.058,
          0.059,
          0,
          0.049,
          0.192,
          0.015,
          0,
          0.107,
          0.03,
          0,
          0,
          0.054,
          0.048,
          0.024,
          0,
          0,
          0.066,
          0,
          0.057,
          0.108,
          0.066,
          0.035,
          0.07,
          0.039,
          0.129,
          0.078,
          0.03,
          0.115,
          0.072,
          0.092,
          0.042,
          0.076,
          0.032,
          0.102,
          0,
          0.092,
          0.016,
          0,
          0.1,
          0.02
         ],
         "yaxis": "y"
        }
       ],
       "layout": {
        "legend": {
         "title": {
          "text": "Sentiment"
         },
         "tracegroupgap": 0
        },
        "margin": {
         "t": 60
        },
        "template": {
         "data": {
          "bar": [
           {
            "error_x": {
             "color": "#2a3f5f"
            },
            "error_y": {
             "color": "#2a3f5f"
            },
            "marker": {
             "line": {
              "color": "#E5ECF6",
              "width": 0.5
             }
            },
            "type": "bar"
           }
          ],
          "barpolar": [
           {
            "marker": {
             "line": {
              "color": "#E5ECF6",
              "width": 0.5
             }
            },
            "type": "barpolar"
           }
          ],
          "carpet": [
           {
            "aaxis": {
             "endlinecolor": "#2a3f5f",
             "gridcolor": "white",
             "linecolor": "white",
             "minorgridcolor": "white",
             "startlinecolor": "#2a3f5f"
            },
            "baxis": {
             "endlinecolor": "#2a3f5f",
             "gridcolor": "white",
             "linecolor": "white",
             "minorgridcolor": "white",
             "startlinecolor": "#2a3f5f"
            },
            "type": "carpet"
           }
          ],
          "choropleth": [
           {
            "colorbar": {
             "outlinewidth": 0,
             "ticks": ""
            },
            "type": "choropleth"
           }
          ],
          "contour": [
           {
            "colorbar": {
             "outlinewidth": 0,
             "ticks": ""
            },
            "colorscale": [
             [
              0,
              "#0d0887"
             ],
             [
              0.1111111111111111,
              "#46039f"
             ],
             [
              0.2222222222222222,
              "#7201a8"
             ],
             [
              0.3333333333333333,
              "#9c179e"
             ],
             [
              0.4444444444444444,
              "#bd3786"
             ],
             [
              0.5555555555555556,
              "#d8576b"
             ],
             [
              0.6666666666666666,
              "#ed7953"
             ],
             [
              0.7777777777777778,
              "#fb9f3a"
             ],
             [
              0.8888888888888888,
              "#fdca26"
             ],
             [
              1,
              "#f0f921"
             ]
            ],
            "type": "contour"
           }
          ],
          "contourcarpet": [
           {
            "colorbar": {
             "outlinewidth": 0,
             "ticks": ""
            },
            "type": "contourcarpet"
           }
          ],
          "heatmap": [
           {
            "colorbar": {
             "outlinewidth": 0,
             "ticks": ""
            },
            "colorscale": [
             [
              0,
              "#0d0887"
             ],
             [
              0.1111111111111111,
              "#46039f"
             ],
             [
              0.2222222222222222,
              "#7201a8"
             ],
             [
              0.3333333333333333,
              "#9c179e"
             ],
             [
              0.4444444444444444,
              "#bd3786"
             ],
             [
              0.5555555555555556,
              "#d8576b"
             ],
             [
              0.6666666666666666,
              "#ed7953"
             ],
             [
              0.7777777777777778,
              "#fb9f3a"
             ],
             [
              0.8888888888888888,
              "#fdca26"
             ],
             [
              1,
              "#f0f921"
             ]
            ],
            "type": "heatmap"
           }
          ],
          "heatmapgl": [
           {
            "colorbar": {
             "outlinewidth": 0,
             "ticks": ""
            },
            "colorscale": [
             [
              0,
              "#0d0887"
             ],
             [
              0.1111111111111111,
              "#46039f"
             ],
             [
              0.2222222222222222,
              "#7201a8"
             ],
             [
              0.3333333333333333,
              "#9c179e"
             ],
             [
              0.4444444444444444,
              "#bd3786"
             ],
             [
              0.5555555555555556,
              "#d8576b"
             ],
             [
              0.6666666666666666,
              "#ed7953"
             ],
             [
              0.7777777777777778,
              "#fb9f3a"
             ],
             [
              0.8888888888888888,
              "#fdca26"
             ],
             [
              1,
              "#f0f921"
             ]
            ],
            "type": "heatmapgl"
           }
          ],
          "histogram": [
           {
            "marker": {
             "colorbar": {
              "outlinewidth": 0,
              "ticks": ""
             }
            },
            "type": "histogram"
           }
          ],
          "histogram2d": [
           {
            "colorbar": {
             "outlinewidth": 0,
             "ticks": ""
            },
            "colorscale": [
             [
              0,
              "#0d0887"
             ],
             [
              0.1111111111111111,
              "#46039f"
             ],
             [
              0.2222222222222222,
              "#7201a8"
             ],
             [
              0.3333333333333333,
              "#9c179e"
             ],
             [
              0.4444444444444444,
              "#bd3786"
             ],
             [
              0.5555555555555556,
              "#d8576b"
             ],
             [
              0.6666666666666666,
              "#ed7953"
             ],
             [
              0.7777777777777778,
              "#fb9f3a"
             ],
             [
              0.8888888888888888,
              "#fdca26"
             ],
             [
              1,
              "#f0f921"
             ]
            ],
            "type": "histogram2d"
           }
          ],
          "histogram2dcontour": [
           {
            "colorbar": {
             "outlinewidth": 0,
             "ticks": ""
            },
            "colorscale": [
             [
              0,
              "#0d0887"
             ],
             [
              0.1111111111111111,
              "#46039f"
             ],
             [
              0.2222222222222222,
              "#7201a8"
             ],
             [
              0.3333333333333333,
              "#9c179e"
             ],
             [
              0.4444444444444444,
              "#bd3786"
             ],
             [
              0.5555555555555556,
              "#d8576b"
             ],
             [
              0.6666666666666666,
              "#ed7953"
             ],
             [
              0.7777777777777778,
              "#fb9f3a"
             ],
             [
              0.8888888888888888,
              "#fdca26"
             ],
             [
              1,
              "#f0f921"
             ]
            ],
            "type": "histogram2dcontour"
           }
          ],
          "mesh3d": [
           {
            "colorbar": {
             "outlinewidth": 0,
             "ticks": ""
            },
            "type": "mesh3d"
           }
          ],
          "parcoords": [
           {
            "line": {
             "colorbar": {
              "outlinewidth": 0,
              "ticks": ""
             }
            },
            "type": "parcoords"
           }
          ],
          "pie": [
           {
            "automargin": true,
            "type": "pie"
           }
          ],
          "scatter": [
           {
            "marker": {
             "colorbar": {
              "outlinewidth": 0,
              "ticks": ""
             }
            },
            "type": "scatter"
           }
          ],
          "scatter3d": [
           {
            "line": {
             "colorbar": {
              "outlinewidth": 0,
              "ticks": ""
             }
            },
            "marker": {
             "colorbar": {
              "outlinewidth": 0,
              "ticks": ""
             }
            },
            "type": "scatter3d"
           }
          ],
          "scattercarpet": [
           {
            "marker": {
             "colorbar": {
              "outlinewidth": 0,
              "ticks": ""
             }
            },
            "type": "scattercarpet"
           }
          ],
          "scattergeo": [
           {
            "marker": {
             "colorbar": {
              "outlinewidth": 0,
              "ticks": ""
             }
            },
            "type": "scattergeo"
           }
          ],
          "scattergl": [
           {
            "marker": {
             "colorbar": {
              "outlinewidth": 0,
              "ticks": ""
             }
            },
            "type": "scattergl"
           }
          ],
          "scattermapbox": [
           {
            "marker": {
             "colorbar": {
              "outlinewidth": 0,
              "ticks": ""
             }
            },
            "type": "scattermapbox"
           }
          ],
          "scatterpolar": [
           {
            "marker": {
             "colorbar": {
              "outlinewidth": 0,
              "ticks": ""
             }
            },
            "type": "scatterpolar"
           }
          ],
          "scatterpolargl": [
           {
            "marker": {
             "colorbar": {
              "outlinewidth": 0,
              "ticks": ""
             }
            },
            "type": "scatterpolargl"
           }
          ],
          "scatterternary": [
           {
            "marker": {
             "colorbar": {
              "outlinewidth": 0,
              "ticks": ""
             }
            },
            "type": "scatterternary"
           }
          ],
          "surface": [
           {
            "colorbar": {
             "outlinewidth": 0,
             "ticks": ""
            },
            "colorscale": [
             [
              0,
              "#0d0887"
             ],
             [
              0.1111111111111111,
              "#46039f"
             ],
             [
              0.2222222222222222,
              "#7201a8"
             ],
             [
              0.3333333333333333,
              "#9c179e"
             ],
             [
              0.4444444444444444,
              "#bd3786"
             ],
             [
              0.5555555555555556,
              "#d8576b"
             ],
             [
              0.6666666666666666,
              "#ed7953"
             ],
             [
              0.7777777777777778,
              "#fb9f3a"
             ],
             [
              0.8888888888888888,
              "#fdca26"
             ],
             [
              1,
              "#f0f921"
             ]
            ],
            "type": "surface"
           }
          ],
          "table": [
           {
            "cells": {
             "fill": {
              "color": "#EBF0F8"
             },
             "line": {
              "color": "white"
             }
            },
            "header": {
             "fill": {
              "color": "#C8D4E3"
             },
             "line": {
              "color": "white"
             }
            },
            "type": "table"
           }
          ]
         },
         "layout": {
          "annotationdefaults": {
           "arrowcolor": "#2a3f5f",
           "arrowhead": 0,
           "arrowwidth": 1
          },
          "autotypenumbers": "strict",
          "coloraxis": {
           "colorbar": {
            "outlinewidth": 0,
            "ticks": ""
           }
          },
          "colorscale": {
           "diverging": [
            [
             0,
             "#8e0152"
            ],
            [
             0.1,
             "#c51b7d"
            ],
            [
             0.2,
             "#de77ae"
            ],
            [
             0.3,
             "#f1b6da"
            ],
            [
             0.4,
             "#fde0ef"
            ],
            [
             0.5,
             "#f7f7f7"
            ],
            [
             0.6,
             "#e6f5d0"
            ],
            [
             0.7,
             "#b8e186"
            ],
            [
             0.8,
             "#7fbc41"
            ],
            [
             0.9,
             "#4d9221"
            ],
            [
             1,
             "#276419"
            ]
           ],
           "sequential": [
            [
             0,
             "#0d0887"
            ],
            [
             0.1111111111111111,
             "#46039f"
            ],
            [
             0.2222222222222222,
             "#7201a8"
            ],
            [
             0.3333333333333333,
             "#9c179e"
            ],
            [
             0.4444444444444444,
             "#bd3786"
            ],
            [
             0.5555555555555556,
             "#d8576b"
            ],
            [
             0.6666666666666666,
             "#ed7953"
            ],
            [
             0.7777777777777778,
             "#fb9f3a"
            ],
            [
             0.8888888888888888,
             "#fdca26"
            ],
            [
             1,
             "#f0f921"
            ]
           ],
           "sequentialminus": [
            [
             0,
             "#0d0887"
            ],
            [
             0.1111111111111111,
             "#46039f"
            ],
            [
             0.2222222222222222,
             "#7201a8"
            ],
            [
             0.3333333333333333,
             "#9c179e"
            ],
            [
             0.4444444444444444,
             "#bd3786"
            ],
            [
             0.5555555555555556,
             "#d8576b"
            ],
            [
             0.6666666666666666,
             "#ed7953"
            ],
            [
             0.7777777777777778,
             "#fb9f3a"
            ],
            [
             0.8888888888888888,
             "#fdca26"
            ],
            [
             1,
             "#f0f921"
            ]
           ]
          },
          "colorway": [
           "#636efa",
           "#EF553B",
           "#00cc96",
           "#ab63fa",
           "#FFA15A",
           "#19d3f3",
           "#FF6692",
           "#B6E880",
           "#FF97FF",
           "#FECB52"
          ],
          "font": {
           "color": "#2a3f5f"
          },
          "geo": {
           "bgcolor": "white",
           "lakecolor": "white",
           "landcolor": "#E5ECF6",
           "showlakes": true,
           "showland": true,
           "subunitcolor": "white"
          },
          "hoverlabel": {
           "align": "left"
          },
          "hovermode": "closest",
          "mapbox": {
           "style": "light"
          },
          "paper_bgcolor": "white",
          "plot_bgcolor": "#E5ECF6",
          "polar": {
           "angularaxis": {
            "gridcolor": "white",
            "linecolor": "white",
            "ticks": ""
           },
           "bgcolor": "#E5ECF6",
           "radialaxis": {
            "gridcolor": "white",
            "linecolor": "white",
            "ticks": ""
           }
          },
          "scene": {
           "xaxis": {
            "backgroundcolor": "#E5ECF6",
            "gridcolor": "white",
            "gridwidth": 2,
            "linecolor": "white",
            "showbackground": true,
            "ticks": "",
            "zerolinecolor": "white"
           },
           "yaxis": {
            "backgroundcolor": "#E5ECF6",
            "gridcolor": "white",
            "gridwidth": 2,
            "linecolor": "white",
            "showbackground": true,
            "ticks": "",
            "zerolinecolor": "white"
           },
           "zaxis": {
            "backgroundcolor": "#E5ECF6",
            "gridcolor": "white",
            "gridwidth": 2,
            "linecolor": "white",
            "showbackground": true,
            "ticks": "",
            "zerolinecolor": "white"
           }
          },
          "shapedefaults": {
           "line": {
            "color": "#2a3f5f"
           }
          },
          "ternary": {
           "aaxis": {
            "gridcolor": "white",
            "linecolor": "white",
            "ticks": ""
           },
           "baxis": {
            "gridcolor": "white",
            "linecolor": "white",
            "ticks": ""
           },
           "bgcolor": "#E5ECF6",
           "caxis": {
            "gridcolor": "white",
            "linecolor": "white",
            "ticks": ""
           }
          },
          "title": {
           "x": 0.05
          },
          "xaxis": {
           "automargin": true,
           "gridcolor": "white",
           "linecolor": "white",
           "ticks": "",
           "title": {
            "standoff": 15
           },
           "zerolinecolor": "white",
           "zerolinewidth": 2
          },
          "yaxis": {
           "automargin": true,
           "gridcolor": "white",
           "linecolor": "white",
           "ticks": "",
           "title": {
            "standoff": 15
           },
           "zerolinecolor": "white",
           "zerolinewidth": 2
          }
         }
        },
        "xaxis": {
         "anchor": "y",
         "domain": [
          0,
          1
         ],
         "title": {
          "text": "Post Date"
         }
        },
        "yaxis": {
         "anchor": "x",
         "domain": [
          0,
          1
         ],
         "title": {
          "text": "pos"
         }
        }
       }
      },
      "text/html": [
       "<div>                            <div id=\"9f5d5f33-26b9-477e-aea2-6374557deb5b\" class=\"plotly-graph-div\" style=\"height:525px; width:100%;\"></div>            <script type=\"text/javascript\">                require([\"plotly\"], function(Plotly) {                    window.PLOTLYENV=window.PLOTLYENV || {};                                    if (document.getElementById(\"9f5d5f33-26b9-477e-aea2-6374557deb5b\")) {                    Plotly.newPlot(                        \"9f5d5f33-26b9-477e-aea2-6374557deb5b\",                        [{\"hovertemplate\": \"Sentiment=Neutral<br>Post Date=%{x}<br>pos=%{y}<extra></extra>\", \"legendgroup\": \"Neutral\", \"line\": {\"color\": \"#636efa\", \"dash\": \"solid\"}, \"mode\": \"lines\", \"name\": \"Neutral\", \"showlegend\": true, \"type\": \"scattergl\", \"x\": [\"2019-10-10T05:58:05.73\", \"2019-10-11T14:24:15.807\", \"2019-10-23T03:37:35.103\", \"2019-10-23T12:09:17.84\", \"2019-11-12T00:41:34.433\", \"2019-11-13T03:30:36.293\", \"2019-11-14T11:29:20.21\", \"2019-11-20T10:36:40.83\", \"2019-11-21T13:38:42.807\", \"2019-12-09T10:45:09.32\", \"2019-12-11T11:57:54.773\", \"2019-12-18T14:19:48.24\", \"2019-12-24T07:53:51.783\", \"2019-12-27T18:14:34.557\", \"2020-01-07T13:43:06.053\", \"2020-01-11T05:17:09.423\", \"2020-01-14T07:36:27.793\", \"2020-01-15T13:11:10.033\", \"2020-01-16T20:37:57.323\", \"2020-01-20T07:01:58.37\", \"2020-01-22T15:21:03.853\", \"2020-01-23T09:12:43.07\", \"2020-01-24T15:38:37.98\", \"2020-01-29T01:21:00.2\", \"2020-02-04T20:18:44.27\", \"2020-02-05T15:34:55.653\", \"2020-02-12T18:31:25.547\", \"2020-02-14T11:00:46.067\", \"2020-02-18T09:57:28.06\", \"2020-02-20T09:07:37.297\", \"2020-02-26T09:59:17.067\", \"2020-02-28T04:40:42.623\", \"2020-03-10T07:07:09.317\", \"2020-03-10T13:47:55.803\", \"2020-03-11T12:02:24.97\", \"2020-03-20T09:52:08.827\", \"2020-04-03T01:06:02.82\", \"2020-04-07T16:29:10.43\", \"2020-04-24T09:15:41.46\", \"2020-04-27T03:25:15.807\", \"2020-05-03T16:49:31.43\", \"2020-05-13T15:13:24.907\", \"2020-05-14T09:38:15.473\", \"2020-05-19T13:23:05.93\", \"2020-05-22T12:43:12.977\", \"2020-05-27T08:09:30.657\", \"2020-05-28T11:43:06.343\", \"2020-05-31T21:49:48.113\", \"2020-06-01T07:06:15.03\", \"2020-06-03T08:38:37.627\", \"2020-06-17T10:39:43.347\", \"2020-06-21T05:58:52.79\", \"2020-07-01T03:24:12.553\", \"2020-07-02T16:17:26.273\", \"2020-07-09T15:25:26.863\", \"2020-07-21T10:23:05.597\", \"2020-07-24T02:00:04.097\", \"2020-08-11T06:23:35.727\", \"2020-08-13T05:21:38.977\", \"2020-08-13T14:00:56.303\", \"2020-08-17T17:09:22.07\", \"2020-08-27T04:28:56.903\", \"2020-09-01T12:00:23.027\", \"2020-09-03T15:16:17.96\", \"2020-09-08T05:00:37.097\", \"2020-09-10T06:34:35.72\", \"2020-09-20T12:16:21.403\", \"2020-09-21T16:37:39.7\", \"2020-09-29T18:14:05.84\", \"2020-09-29T18:29:04.81\", \"2020-10-02T09:26:32.68\", \"2020-10-15T14:35:43.96\", \"2020-10-16T13:34:13.343\", \"2020-10-22T13:47:42.993\", \"2020-10-22T17:19:54.477\", \"2020-10-27T16:57:39.52\", \"2020-10-29T11:10:06.717\", \"2020-11-02T09:41:44.807\", \"2020-11-05T12:22:50.65\", \"2020-11-05T13:57:09.393\", \"2020-11-11T11:27:29.283\", \"2020-11-16T02:39:45.893\", \"2020-11-18T06:54:44.173\", \"2020-11-19T12:44:09.52\", \"2020-11-20T10:05:42.53\", \"2020-11-24T16:02:26.117\", \"2020-11-25T11:59:22.583\", \"2020-12-06T22:33:26.473\", \"2020-12-10T16:45:56.92\", \"2020-12-27T01:57:08.607\", \"2020-12-29T11:55:09.773\", \"2021-01-11T05:30:23.477\", \"2021-01-12T09:52:23.923\", \"2021-01-16T04:10:22.447\", \"2021-01-19T14:58:12.793\", \"2021-01-29T09:32:23.31\", \"2021-02-02T02:54:29.54\", \"2021-02-03T04:07:38.773\", \"2021-02-05T01:44:05.203\", \"2021-02-24T07:45:06.977\", \"2021-03-09T07:01:54.71\", \"2021-03-18T02:51:39.69\", \"2021-03-18T13:51:25.81\", \"2021-03-25T14:46:51.637\", \"2021-04-09T18:43:03.997\", \"2021-04-22T16:37:41.357\", \"2021-04-23T09:14:59.607\", \"2021-04-27T16:38:41.177\", \"2021-05-10T14:33:41.143\"], \"xaxis\": \"x\", \"y\": [0.064, 0.0, 0.0, 0.056, 0.0, 0.0, 0.0, 0.038, 0.0, 0.0, 0.0, 0.0, 0.0, 0.0, 0.0, 0.0, 0.0, 0.0, 0.0, 0.0, 0.052, 0.0, 0.0, 0.0, 0.0, 0.0, 0.055, 0.043, 0.022, 0.0, 0.0, 0.0, 0.0, 0.0, 0.0, 0.0, 0.0, 0.0, 0.0, 0.0, 0.0, 0.0, 0.0, 0.0, 0.054, 0.0, 0.0, 0.16, 0.0, 0.0, 0.0, 0.0, 0.0, 0.032, 0.0, 0.022, 0.0, 0.0, 0.051, 0.0, 0.179, 0.0, 0.0, 0.0, 0.0, 0.112, 0.0, 0.0, 0.0, 0.0, 0.01, 0.0, 0.0, 0.0, 0.0, 0.0, 0.0, 0.0, 0.0, 0.0, 0.11, 0.0, 0.056, 0.0, 0.055, 0.095, 0.0, 0.0, 0.0, 0.103, 0.0, 0.0, 0.09, 0.0, 0.0, 0.0, 0.025, 0.061, 0.0, 0.0, 0.0, 0.0, 0.0, 0.0, 0.092, 0.0, 0.0, 0.0, 0.0], \"yaxis\": \"y\"}, {\"hovertemplate\": \"Sentiment=Positive<br>Post Date=%{x}<br>pos=%{y}<extra></extra>\", \"legendgroup\": \"Positive\", \"line\": {\"color\": \"#EF553B\", \"dash\": \"solid\"}, \"mode\": \"lines\", \"name\": \"Positive\", \"showlegend\": true, \"type\": \"scattergl\", \"x\": [\"2019-10-10T12:44:35.957\", \"2019-10-10T14:56:52.947\", \"2019-10-10T15:41:06.877\", \"2019-10-10T20:56:53.483\", \"2019-10-11T13:10:28.983\", \"2019-10-11T16:02:41.787\", \"2019-10-13T20:01:08.897\", \"2019-10-14T08:33:18.01\", \"2019-10-16T11:20:54.023\", \"2019-10-16T14:12:45.5\", \"2019-10-17T09:14:34.753\", \"2019-10-17T10:16:15.513\", \"2019-10-17T12:09:02.91\", \"2019-10-17T23:59:14.523\", \"2019-10-18T14:58:06.717\", \"2019-10-21T06:08:38.347\", \"2019-10-21T16:06:55.323\", \"2019-10-22T08:16:13.563\", \"2019-10-22T16:27:23.92\", \"2019-10-22T18:07:48.827\", \"2019-10-23T08:20:38.087\", \"2019-10-23T11:38:26.887\", \"2019-10-24T04:42:08.237\", \"2019-10-24T09:59:56.077\", \"2019-10-24T16:34:04.713\", \"2019-10-28T15:36:47.907\", \"2019-10-29T06:01:19.783\", \"2019-10-29T10:29:47.95\", \"2019-10-29T16:46:32.203\", \"2019-10-29T17:04:40.463\", \"2019-10-30T04:45:07.257\", \"2019-10-30T15:33:07.45\", \"2019-10-30T18:41:07.37\", \"2019-10-31T12:35:06.993\", \"2019-11-01T07:44:02.54\", \"2019-11-04T17:47:37.86\", \"2019-11-06T06:04:59.007\", \"2019-11-06T10:08:50.95\", \"2019-11-06T10:27:39.52\", \"2019-11-08T20:33:59.89\", \"2019-11-09T11:37:29.693\", \"2019-11-11T05:59:42.987\", \"2019-11-11T11:39:44.857\", \"2019-11-11T13:02:34.017\", \"2019-11-12T18:42:03.247\", \"2019-11-13T09:35:33.91\", \"2019-11-13T23:52:26.683\", \"2019-11-14T06:03:35.53\", \"2019-11-14T09:45:03.713\", \"2019-11-14T13:10:08.303\", \"2019-11-18T04:12:03.657\", \"2019-11-18T15:17:49.503\", \"2019-11-18T16:11:15.36\", \"2019-11-18T17:18:32.137\", \"2019-11-18T19:25:44.17\", \"2019-11-19T02:48:28.417\", \"2019-11-19T10:27:37.423\", \"2019-11-19T11:00:35.74\", \"2019-11-19T20:00:10.803\", \"2019-11-20T12:24:54.847\", \"2019-11-21T00:07:58.053\", \"2019-11-21T14:08:12.47\", \"2019-11-21T18:13:29.69\", \"2019-11-22T07:29:58.45\", \"2019-11-22T12:44:01.59\", \"2019-11-23T12:26:35.197\", \"2019-11-26T08:17:12.663\", \"2019-11-27T10:39:18.173\", \"2019-11-27T21:15:11.89\", \"2019-11-28T04:58:07.76\", \"2019-12-02T07:06:03.57\", \"2019-12-02T15:42:44.927\", \"2019-12-02T21:04:51.46\", \"2019-12-03T07:56:40.55\", \"2019-12-03T10:45:44.023\", \"2019-12-04T11:59:55.687\", \"2019-12-05T11:04:33.51\", \"2019-12-05T12:28:17.997\", \"2019-12-09T07:25:39.22\", \"2019-12-09T10:53:03.993\", \"2019-12-09T12:45:56.217\", \"2019-12-10T08:52:36.997\", \"2019-12-10T10:14:02.33\", \"2019-12-10T11:53:33.71\", \"2019-12-10T18:25:49.657\", \"2019-12-11T11:26:46.79\", \"2019-12-12T11:05:43.68\", \"2019-12-13T09:43:03.027\", \"2019-12-17T03:54:27.833\", \"2019-12-17T05:30:55.173\", \"2019-12-17T09:31:11.343\", \"2019-12-17T11:21:51.1\", \"2019-12-17T12:36:10.797\", \"2019-12-17T22:05:31.297\", \"2019-12-18T02:18:53.803\", \"2019-12-18T04:43:33.147\", \"2019-12-18T07:43:12.083\", \"2019-12-20T14:25:22.243\", \"2019-12-21T07:31:20.647\", \"2019-12-26T08:18:44.133\", \"2019-12-26T11:59:21.053\", \"2019-12-28T03:55:55.687\", \"2019-12-30T13:08:12.05\", \"2019-12-30T13:53:51.783\", \"2020-01-02T06:49:33.107\", \"2020-01-02T09:53:02.633\", \"2020-01-02T16:36:17.35\", \"2020-01-03T12:08:04.033\", \"2020-01-03T16:41:12.803\", \"2020-01-06T12:19:26.157\", \"2020-01-06T17:04:29.283\", \"2020-01-06T17:40:07.413\", \"2020-01-07T04:10:45.22\", \"2020-01-07T04:51:00.893\", \"2020-01-07T10:24:06.313\", \"2020-01-07T11:18:19.473\", \"2020-01-07T15:38:23.8\", \"2020-01-07T16:18:56.733\", \"2020-01-08T16:28:49.287\", \"2020-01-09T01:31:01.17\", \"2020-01-09T06:33:51.44\", \"2020-01-09T12:05:38.153\", \"2020-01-10T15:06:17.673\", \"2020-01-10T15:54:12.933\", \"2020-01-13T12:21:50.72\", \"2020-01-13T13:00:29.71\", \"2020-01-14T15:06:33.63\", \"2020-01-15T04:12:20.593\", \"2020-01-15T09:52:42.417\", \"2020-01-15T19:14:38.547\", \"2020-01-16T10:00:09.903\", \"2020-01-16T17:27:43.697\", \"2020-01-18T01:12:31.457\", \"2020-01-18T07:43:39.573\", \"2020-01-20T00:07:25.07\", \"2020-01-20T06:57:25.193\", \"2020-01-20T06:59:28.963\", \"2020-01-20T14:25:20.393\", \"2020-01-20T14:45:16.097\", \"2020-01-22T15:07:27.347\", \"2020-01-23T08:30:02.617\", \"2020-01-25T16:27:33.3\", \"2020-01-27T12:47:35.913\", \"2020-01-27T13:06:07.103\", \"2020-01-27T19:11:17.547\", \"2020-01-30T18:43:33.303\", \"2020-01-31T00:48:04.5\", \"2020-01-31T08:03:58.81\", \"2020-02-01T05:35:29.75\", \"2020-02-02T13:10:27.66\", \"2020-02-02T17:09:13.667\", \"2020-02-03T04:12:16.153\", \"2020-02-04T09:46:39.103\", \"2020-02-05T12:57:51.92\", \"2020-02-07T10:19:14.993\", \"2020-02-10T12:07:23.167\", \"2020-02-10T12:23:06.927\", \"2020-02-10T12:51:43.717\", \"2020-02-10T17:12:39.753\", \"2020-02-11T17:58:49.54\", \"2020-02-12T06:28:17.963\", \"2020-02-12T14:03:31.393\", \"2020-02-12T15:16:51.137\", \"2020-02-13T04:33:31.503\", \"2020-02-13T07:03:33.427\", \"2020-02-17T16:50:09.627\", \"2020-02-18T02:27:54.503\", \"2020-02-18T10:33:31.103\", \"2020-02-18T11:09:26.847\", \"2020-02-20T18:55:20.497\", \"2020-02-21T04:19:57.7\", \"2020-02-21T06:32:06.093\", \"2020-02-21T12:36:02.74\", \"2020-02-21T13:01:12.36\", \"2020-02-21T18:07:34.15\", \"2020-02-23T02:07:04.06\", \"2020-02-24T05:14:04.183\", \"2020-02-24T09:39:05.69\", \"2020-02-24T15:46:47.507\", \"2020-02-25T03:52:03.343\", \"2020-02-26T16:38:14.707\", \"2020-02-27T12:11:29.997\", \"2020-02-28T10:58:22.157\", \"2020-02-28T12:00:12.227\", \"2020-02-28T12:41:38.88\", \"2020-02-29T01:03:40.683\", \"2020-03-01T02:40:06.913\", \"2020-03-01T10:01:48.487\", \"2020-03-01T23:59:56.043\", \"2020-03-02T14:28:29.457\", \"2020-03-03T00:00:27.147\", \"2020-03-03T04:30:14.143\", \"2020-03-03T06:44:29.51\", \"2020-03-03T07:23:34.21\", \"2020-03-04T03:34:45.237\", \"2020-03-04T10:43:21.66\", \"2020-03-05T20:40:47.497\", \"2020-03-06T16:53:23.053\", \"2020-03-07T06:36:24.19\", \"2020-03-08T12:22:18.35\", \"2020-03-08T18:22:20.403\", \"2020-03-09T07:47:26.907\", \"2020-03-10T02:49:49.197\", \"2020-03-12T03:22:56.907\", \"2020-03-12T05:01:18.27\", \"2020-03-12T09:32:11.43\", \"2020-03-12T16:24:51.943\", \"2020-03-13T02:20:48.573\", \"2020-03-13T18:05:09.727\", \"2020-03-16T05:51:59.12\", \"2020-03-16T13:41:01.863\", \"2020-03-17T01:11:48.753\", \"2020-03-17T02:14:25.67\", \"2020-03-17T11:01:28.317\", \"2020-03-18T06:06:20.797\", \"2020-03-19T09:31:32.573\", \"2020-03-20T09:02:42.493\", \"2020-03-22T12:10:06.073\", \"2020-03-22T23:11:53.447\", \"2020-03-23T11:06:50.057\", \"2020-03-23T23:34:21.613\", \"2020-03-24T16:40:36.357\", \"2020-03-25T05:31:26.553\", \"2020-03-25T13:28:17.627\", \"2020-03-25T13:53:46.49\", \"2020-03-27T09:21:56.483\", \"2020-03-28T01:28:47.883\", \"2020-03-30T09:08:24.897\", \"2020-03-30T15:21:41.037\", \"2020-03-30T21:20:56.607\", \"2020-03-31T11:25:34.507\", \"2020-03-31T13:27:36.39\", \"2020-04-01T16:02:10.643\", \"2020-04-02T00:43:12.03\", \"2020-04-07T12:32:04.843\", \"2020-04-08T00:15:17.853\", \"2020-04-08T03:50:11.817\", \"2020-04-08T10:13:33.427\", \"2020-04-08T18:27:22.337\", \"2020-04-10T09:08:10.833\", \"2020-04-10T19:21:56.537\", \"2020-04-13T10:16:13.573\", \"2020-04-13T12:45:52.543\", \"2020-04-13T14:36:36.72\", \"2020-04-14T08:25:03.7\", \"2020-04-15T05:26:43.887\", \"2020-04-16T17:32:12.887\", \"2020-04-17T17:21:10.267\", \"2020-04-17T18:09:09.38\", \"2020-04-17T19:28:32.667\", \"2020-04-20T06:46:13.263\", \"2020-04-20T09:45:40.793\", \"2020-04-21T06:43:58.953\", \"2020-04-22T17:52:12.143\", \"2020-04-23T11:51:48.66\", \"2020-04-23T12:48:56.067\", \"2020-04-23T13:42:27.423\", \"2020-04-23T19:33:37.777\", \"2020-04-24T12:08:53.497\", \"2020-04-24T17:33:44.47\", \"2020-04-27T11:04:11.827\", \"2020-04-27T12:09:32.6\", \"2020-04-28T14:16:24.483\", \"2020-04-28T14:23:25.457\", \"2020-04-28T14:54:09.24\", \"2020-04-28T15:58:10.627\", \"2020-04-29T06:42:53.09\", \"2020-04-29T11:08:12.53\", \"2020-04-30T10:03:05.167\", \"2020-05-01T07:55:41.06\", \"2020-05-01T13:27:08.093\", \"2020-05-01T18:13:11.793\", \"2020-05-05T07:56:04.453\", \"2020-05-05T08:43:05.083\", \"2020-05-05T19:02:17.003\", \"2020-05-06T01:58:51.927\", \"2020-05-06T09:55:41.613\", \"2020-05-06T11:33:27.64\", \"2020-05-07T07:48:02.343\", \"2020-05-07T14:40:24.16\", \"2020-05-07T17:22:42.663\", \"2020-05-07T17:58:50.36\", \"2020-05-08T11:05:30.22\", \"2020-05-08T18:50:29.917\", \"2020-05-10T15:38:34.823\", \"2020-05-10T22:06:56.483\", \"2020-05-11T04:18:33.723\", \"2020-05-11T10:39:05.677\", \"2020-05-11T18:12:14.043\", \"2020-05-12T06:46:53.073\", \"2020-05-12T23:39:37.837\", \"2020-05-13T12:09:34.583\", \"2020-05-14T13:46:07.237\", \"2020-05-19T01:36:19.2\", \"2020-05-19T10:58:19.68\", \"2020-05-19T22:57:51.593\", \"2020-05-19T23:57:36.38\", \"2020-05-21T08:01:48.667\", \"2020-05-21T16:17:26.79\", \"2020-05-22T13:38:46.373\", \"2020-05-26T04:19:19.857\", \"2020-05-26T05:29:41.38\", \"2020-05-27T09:42:57.963\", \"2020-05-27T11:51:09.957\", \"2020-05-27T16:13:12.423\", \"2020-05-28T10:50:38.12\", \"2020-05-28T13:55:04.59\", \"2020-05-28T13:55:17.233\", \"2020-05-28T15:02:38.937\", \"2020-06-01T03:45:36.143\", \"2020-06-01T23:54:24.347\", \"2020-06-02T06:25:02.487\", \"2020-06-04T08:46:29.137\", \"2020-06-04T08:47:30.443\", \"2020-06-05T08:37:45.887\", \"2020-06-08T11:30:52.127\", \"2020-06-10T15:48:56.787\", \"2020-06-11T05:44:23.893\", \"2020-06-11T10:48:33.063\", \"2020-06-11T16:44:25.303\", \"2020-06-12T04:26:21.537\", \"2020-06-13T20:34:20.54\", \"2020-06-15T00:18:26.877\", \"2020-06-15T18:21:18.607\", \"2020-06-17T07:44:27.62\", \"2020-06-17T18:17:42.787\", \"2020-06-17T21:20:44.363\", \"2020-06-18T03:41:34.283\", \"2020-06-18T18:45:45.943\", \"2020-06-19T05:28:43.413\", \"2020-06-19T07:23:48.88\", \"2020-06-19T13:04:31.18\", \"2020-06-19T13:05:50.277\", \"2020-06-20T20:04:07.61\", \"2020-06-22T07:57:18.433\", \"2020-06-22T15:20:53.23\", \"2020-06-22T17:32:37.193\", \"2020-06-25T03:09:04.55\", \"2020-06-26T07:38:55.12\", \"2020-07-01T08:43:32.99\", \"2020-07-02T09:20:12.7\", \"2020-07-02T10:21:06.57\", \"2020-07-08T09:33:24.407\", \"2020-07-08T16:56:19.757\", \"2020-07-09T16:22:26.66\", \"2020-07-09T16:28:26.983\", \"2020-07-10T15:53:37.277\", \"2020-07-10T18:57:48.173\", \"2020-07-14T05:01:01.39\", \"2020-07-15T03:11:16.5\", \"2020-07-15T06:32:14.56\", \"2020-07-15T17:54:55.167\", \"2020-07-16T04:35:29.63\", \"2020-07-16T07:33:35.41\", \"2020-07-16T11:36:35.183\", \"2020-07-16T16:31:52.563\", \"2020-07-20T23:00:15.057\", \"2020-07-21T06:17:01.253\", \"2020-07-21T15:20:11.183\", \"2020-07-22T05:55:52.447\", \"2020-07-22T16:48:52.953\", \"2020-07-22T23:35:16.743\", \"2020-07-23T15:51:45.183\", \"2020-07-23T16:46:00.053\", \"2020-07-27T13:56:35.087\", \"2020-07-28T11:16:57.777\", \"2020-07-28T11:20:26.603\", \"2020-07-28T11:47:30.707\", \"2020-07-29T08:18:11.907\", \"2020-07-29T09:13:44.577\", \"2020-07-29T10:45:28.61\", \"2020-07-30T14:51:34.69\", \"2020-07-30T16:20:18.783\", \"2020-08-03T14:31:32.377\", \"2020-08-03T15:16:16.62\", \"2020-08-05T12:27:19.103\", \"2020-08-05T13:19:23.943\", \"2020-08-06T12:04:03.013\", \"2020-08-07T15:34:48.087\", \"2020-08-10T12:13:23.673\", \"2020-08-11T03:18:56.48\", \"2020-08-12T07:54:44.907\", \"2020-08-13T09:27:35.497\", \"2020-08-13T13:58:17.28\", \"2020-08-13T19:32:19.49\", \"2020-08-14T04:43:10.42\", \"2020-08-14T10:33:47.637\", \"2020-08-14T14:39:35.21\", \"2020-08-18T07:01:56.34\", \"2020-08-19T10:47:49.9\", \"2020-08-19T14:31:13.88\", \"2020-08-20T16:16:04.203\", \"2020-08-20T18:20:03.123\", \"2020-08-21T02:02:10.857\", \"2020-08-21T14:50:21.077\", \"2020-08-21T15:36:03.473\", \"2020-08-24T02:26:12.913\", \"2020-08-24T03:55:16.187\", \"2020-08-24T07:30:08.877\", \"2020-08-24T09:13:29.1\", \"2020-08-25T09:37:23.29\", \"2020-08-25T13:34:40.817\", \"2020-08-26T02:11:50.003\", \"2020-08-26T10:34:15.32\", \"2020-08-26T11:13:50.613\", \"2020-08-27T11:25:26.827\", \"2020-08-27T11:40:36.677\", \"2020-08-27T14:20:01.203\", \"2020-08-27T14:59:03.177\", \"2020-08-28T04:12:14.89\", \"2020-08-28T12:20:32.08\", \"2020-08-31T09:41:46.203\", \"2020-09-01T08:29:04.687\", \"2020-09-02T13:28:25.653\", \"2020-09-03T02:01:33.75\", \"2020-09-03T09:26:58.127\", \"2020-09-03T11:55:40.83\", \"2020-09-04T02:35:33.15\", \"2020-09-07T03:14:01.783\", \"2020-09-08T03:24:11.603\", \"2020-09-08T05:40:25.34\", \"2020-09-08T12:13:05.57\", \"2020-09-08T14:17:04.713\", \"2020-09-09T14:46:03.91\", \"2020-09-09T15:33:09.883\", \"2020-09-10T06:00:56.927\", \"2020-09-10T12:15:08.11\", \"2020-09-10T16:25:03.4\", \"2020-09-11T11:54:43.767\", \"2020-09-11T17:57:16.44\", \"2020-09-13T05:09:37.187\", \"2020-09-13T12:40:21.163\", \"2020-09-14T08:48:44.357\", \"2020-09-15T08:11:30.217\", \"2020-09-15T11:40:17.6\", \"2020-09-15T19:54:20.857\", \"2020-09-16T06:13:11.593\", \"2020-09-16T08:15:45.44\", \"2020-09-16T09:57:44.517\", \"2020-09-16T12:02:57.383\", \"2020-09-16T14:20:14.03\", \"2020-09-16T16:01:59.473\", \"2020-09-16T16:33:38.75\", \"2020-09-16T16:52:38.42\", \"2020-09-17T11:41:44.053\", \"2020-09-17T14:55:23.447\", \"2020-09-17T16:37:00.077\", \"2020-09-18T07:33:41.723\", \"2020-09-18T10:46:34.367\", \"2020-09-21T09:58:43.167\", \"2020-09-21T16:47:19.263\", \"2020-09-22T00:02:42.337\", \"2020-09-22T06:17:08.973\", \"2020-09-22T12:21:03.637\", \"2020-09-23T12:45:54.313\", \"2020-09-23T14:50:02.017\", \"2020-09-23T14:50:53.77\", \"2020-09-23T14:51:39.347\", \"2020-09-23T15:15:00.187\", \"2020-09-24T13:12:57.107\", \"2020-09-24T19:12:48.583\", \"2020-09-25T06:21:34.47\", \"2020-09-25T15:10:56.223\", \"2020-09-25T21:10:47.287\", \"2020-09-27T03:01:48.877\", \"2020-09-28T07:28:53.443\", \"2020-09-28T13:41:47.603\", \"2020-09-29T10:42:52.203\", \"2020-09-29T10:58:24.237\", \"2020-09-29T11:43:39.463\", \"2020-10-01T04:05:51.267\", \"2020-10-01T15:18:19.523\", \"2020-10-04T06:57:42.663\", \"2020-10-06T10:36:52.983\", \"2020-10-06T12:46:04.483\", \"2020-10-07T04:36:43.39\", \"2020-10-07T16:31:35.887\", \"2020-10-07T16:43:08.117\", \"2020-10-08T08:52:50.623\", \"2020-10-09T02:01:00.407\", \"2020-10-12T09:03:36.163\", \"2020-10-12T20:34:39.057\", \"2020-10-14T06:43:01.837\", \"2020-10-14T09:31:09.873\", \"2020-10-14T13:41:44.907\", \"2020-10-14T13:52:09.94\", \"2020-10-15T06:57:57.13\", \"2020-10-16T10:01:41.817\", \"2020-10-16T12:33:29.753\", \"2020-10-17T11:21:17.997\", \"2020-10-17T21:00:48.037\", \"2020-10-19T15:39:33.853\", \"2020-10-19T22:07:22.383\", \"2020-10-20T03:00:27.94\", \"2020-10-21T04:53:38.967\", \"2020-10-21T06:22:02.867\", \"2020-10-21T09:30:56.74\", \"2020-10-21T10:44:23.66\", \"2020-10-22T14:31:26.257\", \"2020-10-22T17:17:54.993\", \"2020-10-23T07:50:08.56\", \"2020-10-23T12:09:06.92\", \"2020-10-23T16:06:11.243\", \"2020-10-24T16:03:56.137\", \"2020-10-25T08:22:12.38\", \"2020-10-25T16:01:58.43\", \"2020-10-26T05:46:15.347\", \"2020-10-29T02:25:33.677\", \"2020-10-29T14:45:52.203\", \"2020-10-30T15:24:32.273\", \"2020-11-03T09:15:35.397\", \"2020-11-03T14:16:21.633\", \"2020-11-04T08:18:34.06\", \"2020-11-06T03:12:33.02\", \"2020-11-07T02:30:08.94\", \"2020-11-08T12:42:54.723\", \"2020-11-08T12:48:07.61\", \"2020-11-09T10:51:40.613\", \"2020-11-11T05:50:59.56\", \"2020-11-11T09:58:05.707\", \"2020-11-11T15:13:05.847\", \"2020-11-11T16:53:07.01\", \"2020-11-12T05:28:55.913\", \"2020-11-12T14:47:17.27\", \"2020-11-13T03:08:25.797\", \"2020-11-14T14:04:27.383\", \"2020-11-16T11:23:16.327\", \"2020-11-16T11:25:19.08\", \"2020-11-18T11:32:37.993\", \"2020-11-18T12:30:24.143\", \"2020-11-18T12:37:55.147\", \"2020-11-18T19:18:53.403\", \"2020-11-19T09:30:41.29\", \"2020-11-20T14:00:44.387\", \"2020-11-20T16:00:00.39\", \"2020-11-21T05:08:51.133\", \"2020-11-22T23:21:07.067\", \"2020-11-23T01:58:09.64\", \"2020-11-24T10:58:17.443\", \"2020-11-24T15:09:06.143\", \"2020-11-24T20:48:57.933\", \"2020-11-25T12:40:55.58\", \"2020-11-25T14:28:28.507\", \"2020-11-25T15:43:04.867\", \"2020-11-30T16:32:19.377\", \"2020-12-02T09:26:16.583\", \"2020-12-04T18:13:27.287\", \"2020-12-06T08:25:07.433\", \"2020-12-08T11:32:56.12\", \"2020-12-08T12:43:52.023\", \"2020-12-08T15:13:24.93\", \"2020-12-09T10:04:40.567\", \"2020-12-10T03:32:44.07\", \"2020-12-10T16:03:19.67\", \"2020-12-15T11:43:28.143\", \"2020-12-15T13:24:34.04\", \"2020-12-16T05:04:16.433\", \"2020-12-16T13:34:06.637\", \"2020-12-16T21:46:56.413\", \"2020-12-18T03:06:14.177\", \"2020-12-18T11:11:07.787\", \"2020-12-21T17:49:39.223\", \"2020-12-22T05:06:26.697\", \"2020-12-23T10:59:14.423\", \"2020-12-24T00:03:53.283\", \"2020-12-26T15:56:58.257\", \"2020-12-27T11:57:47.007\", \"2020-12-27T14:12:00.18\", \"2020-12-28T10:34:01.52\", \"2020-12-28T11:57:21.447\", \"2020-12-29T17:22:22.603\", \"2020-12-30T10:05:14.57\", \"2020-12-31T18:03:21.66\", \"2021-01-01T07:00:15.443\", \"2021-01-03T22:55:07.463\", \"2021-01-04T07:41:29.507\", \"2021-01-04T07:48:38.72\", \"2021-01-04T08:49:11.093\", \"2021-01-04T12:26:12.183\", \"2021-01-05T09:54:38.063\", \"2021-01-05T10:07:21.227\", \"2021-01-05T20:16:38.75\", \"2021-01-06T12:25:16.487\", \"2021-01-06T14:50:39.423\", \"2021-01-07T00:43:54.317\", \"2021-01-08T03:57:53.35\", \"2021-01-11T16:25:58.88\", \"2021-01-11T22:44:21.93\", \"2021-01-12T07:40:27.073\", \"2021-01-14T13:55:54.143\", \"2021-01-15T11:36:31.313\", \"2021-01-16T19:32:13.78\", \"2021-01-18T05:59:41.04\", \"2021-01-19T13:53:44.657\", \"2021-01-20T07:11:18.693\", \"2021-01-20T15:38:36.633\", \"2021-01-20T16:13:02.5\", \"2021-01-21T17:46:44.013\", \"2021-01-22T13:54:36.95\", \"2021-01-22T15:20:52.107\", \"2021-01-23T00:52:07.6\", \"2021-01-25T03:57:52.733\", \"2021-01-25T10:05:26.427\", \"2021-01-25T12:51:33.14\", \"2021-01-25T17:07:17.423\", \"2021-01-27T09:22:55.277\", \"2021-01-27T09:22:55.547\", \"2021-01-27T09:28:32.857\", \"2021-01-28T11:33:34.887\", \"2021-01-29T05:09:45.457\", \"2021-01-30T02:44:24.313\", \"2021-02-01T14:35:54.11\", \"2021-02-02T09:15:33.837\", \"2021-02-04T18:52:41.68\", \"2021-02-07T01:35:51.77\", \"2021-02-07T03:45:35.85\", \"2021-02-07T22:47:17.563\", \"2021-02-08T04:21:46.14\", \"2021-02-08T20:23:34.343\", \"2021-02-09T05:36:55.147\", \"2021-02-09T07:28:04.943\", \"2021-02-10T11:48:40.4\", \"2021-02-10T17:28:34.27\", \"2021-02-11T16:40:26.987\", \"2021-02-11T21:31:20.58\", \"2021-02-12T05:54:48.23\", \"2021-02-12T09:56:04.773\", \"2021-02-12T15:06:05.92\", \"2021-02-12T15:07:52.33\", \"2021-02-13T02:53:30.073\", \"2021-02-14T04:45:31.08\", \"2021-02-14T15:10:09.8\", \"2021-02-15T21:50:52.64\", \"2021-02-16T06:32:23.97\", \"2021-02-16T09:44:47.337\", \"2021-02-17T01:00:17.45\", \"2021-02-17T01:25:49.423\", \"2021-02-17T17:57:59.497\", \"2021-02-18T04:41:42.563\", \"2021-02-19T11:17:25.39\", \"2021-02-22T01:18:39.76\", \"2021-02-22T10:22:26.3\", \"2021-02-23T05:30:07.697\", \"2021-02-23T08:25:50.447\", \"2021-02-23T15:53:46.57\", \"2021-02-24T12:36:00.77\", \"2021-02-25T08:53:44.637\", \"2021-02-25T10:29:48.393\", \"2021-02-25T16:43:06.273\", \"2021-02-26T09:23:09.993\", \"2021-02-26T18:47:43.037\", \"2021-02-27T11:08:57.667\", \"2021-03-01T09:13:33.787\", \"2021-03-01T19:39:59.55\", \"2021-03-02T09:23:36.847\", \"2021-03-02T11:18:39.363\", \"2021-03-02T16:31:12.837\", \"2021-03-03T05:13:37.897\", \"2021-03-03T06:44:32.35\", \"2021-03-03T08:54:25\", \"2021-03-04T02:36:22.257\", \"2021-03-05T08:22:11.3\", \"2021-03-09T11:09:19.763\", \"2021-03-09T14:55:21.58\", \"2021-03-10T04:36:07.837\", \"2021-03-10T15:24:21.857\", \"2021-03-10T16:00:02.613\", \"2021-03-11T04:20:04.103\", \"2021-03-11T09:00:30.913\", \"2021-03-11T17:30:43.753\", \"2021-03-12T02:34:21.683\", \"2021-03-12T03:28:33.083\", \"2021-03-12T11:48:47.203\", \"2021-03-13T10:25:21.143\", \"2021-03-14T17:29:30.287\", \"2021-03-15T10:13:43.667\", \"2021-03-15T10:53:54.233\", \"2021-03-17T17:02:54.86\", \"2021-03-19T07:21:13.43\", \"2021-03-20T01:34:53.61\", \"2021-03-23T12:14:18.863\", \"2021-03-24T12:58:46.5\", \"2021-03-25T03:17:53.38\", \"2021-03-25T16:39:59.577\", \"2021-03-26T14:27:14.173\", \"2021-03-30T12:29:47.413\", \"2021-03-30T12:53:22.887\", \"2021-03-31T05:04:42.15\", \"2021-03-31T06:38:42.34\", \"2021-04-01T08:14:49.057\", \"2021-04-06T19:28:50.28\", \"2021-04-08T17:31:25.08\", \"2021-04-10T02:53:00.28\", \"2021-04-12T10:52:25.73\", \"2021-04-12T12:12:10.283\", \"2021-04-12T15:13:07.097\", \"2021-04-14T03:27:41.803\", \"2021-04-15T08:57:58.05\", \"2021-04-15T12:20:03.933\", \"2021-04-19T09:41:09.173\", \"2021-04-20T07:00:28.707\", \"2021-04-20T15:43:56.607\", \"2021-04-21T11:38:15.18\", \"2021-04-22T04:29:17.66\", \"2021-04-22T04:48:51.64\", \"2021-04-22T06:55:40.56\", \"2021-04-22T16:43:27\", \"2021-04-23T00:03:22.743\", \"2021-04-23T11:09:05.35\", \"2021-04-27T07:40:14.087\", \"2021-04-27T10:25:08.213\", \"2021-04-27T13:53:38.607\", \"2021-04-27T14:05:34.707\", \"2021-04-27T16:17:23.083\", \"2021-04-28T06:07:57.33\", \"2021-04-28T11:44:20.84\", \"2021-04-28T14:08:31.08\", \"2021-04-28T14:15:54.817\", \"2021-04-29T02:16:11.49\", \"2021-04-30T07:03:44.607\", \"2021-04-30T08:43:37.07\", \"2021-05-04T03:26:26.993\", \"2021-05-04T09:31:18.373\", \"2021-05-05T10:48:30.583\", \"2021-05-05T14:59:26.737\", \"2021-05-06T04:52:27.5\", \"2021-05-06T05:44:31.317\", \"2021-05-06T14:47:18.237\", \"2021-05-06T15:36:56.423\", \"2021-05-06T19:21:40.677\", \"2021-05-07T11:58:25.423\", \"2021-05-07T12:44:00.26\", \"2021-05-11T11:11:22.967\", \"2021-05-11T14:33:52.803\", \"2021-05-12T19:29:45.887\", \"2021-05-14T10:04:28.7\", \"2021-05-17T00:14:13.58\", \"2021-05-17T05:24:41.617\", \"2021-05-17T10:22:56.957\", \"2021-05-17T12:12:39.573\", \"2021-05-20T08:11:58.513\", \"2021-05-21T02:17:15.373\", \"2021-05-24T03:14:14.447\", \"2021-05-24T05:55:56.8\", \"2021-05-24T14:55:23.877\", \"2021-05-25T10:09:32.81\", \"2021-05-25T23:18:10.647\", \"2021-05-25T23:21:55.333\", \"2021-05-26T05:39:30.67\", \"2021-05-28T11:21:25.033\", \"2021-05-28T13:33:13.153\", \"2021-05-29T21:45:02.2\", \"2021-05-30T01:41:31.68\", \"2021-05-30T08:11:59.69\", \"2021-06-02T07:44:14.63\", \"2021-06-02T12:18:46.267\", \"2021-06-02T13:14:26.307\", \"2021-06-02T13:40:25.58\", \"2021-06-02T13:53:43.85\", \"2021-06-02T15:54:57.997\", \"2021-06-02T16:37:04.77\", \"2021-06-03T02:17:04.61\", \"2021-06-03T04:52:06.57\", \"2021-06-03T09:19:09.593\", \"2021-06-03T19:44:17.527\", \"2021-06-04T05:25:16.927\", \"2021-06-04T10:11:48.013\", \"2021-06-08T04:53:56.6\", \"2021-06-08T10:57:39.363\"], \"xaxis\": \"x\", \"y\": [0.063, 0.102, 0.198, 0.102, 0.09, 0.184, 0.094, 0.075, 0.054, 0.082, 0.105, 0.158, 0.071, 0.255, 0.102, 0.236, 0.114, 0.106, 0.135, 0.244, 0.204, 0.185, 0.058, 0.088, 0.102, 0.115, 0.067, 0.047, 0.221, 0.115, 0.172, 0.154, 0.093, 0.159, 0.086, 0.24, 0.161, 0.185, 0.096, 0.102, 0.153, 0.203, 0.057, 0.041, 0.139, 0.101, 0.095, 0.151, 0.11, 0.142, 0.256, 0.124, 0.134, 0.203, 0.077, 0.091, 0.177, 0.209, 0.028, 0.091, 0.085, 0.075, 0.168, 0.335, 0.071, 0.358, 0.122, 0.097, 0.087, 0.136, 0.059, 0.179, 0.102, 0.211, 0.129, 0.113, 0.253, 0.035, 0.223, 0.11, 0.195, 0.082, 0.056, 0.033, 0.017, 0.208, 0.13, 0.079, 0.173, 0.174, 0.07, 0.189, 0.331, 0.152, 0.112, 0.125, 0.181, 0.236, 0.213, 0.104, 0.17, 0.055, 0.094, 0.216, 0.089, 0.149, 0.102, 0.138, 0.091, 0.21, 0.083, 0.143, 0.089, 0.112, 0.072, 0.033, 0.069, 0.102, 0.211, 0.091, 0.218, 0.16, 0.209, 0.077, 0.167, 0.038, 0.119, 0.158, 0.222, 0.119, 0.293, 0.132, 0.221, 0.104, 0.089, 0.09, 0.167, 0.103, 0.108, 0.119, 0.202, 0.107, 0.083, 0.034, 0.112, 0.112, 0.103, 0.064, 0.101, 0.12, 0.15, 0.076, 0.102, 0.062, 0.072, 0.223, 0.036, 0.073, 0.102, 0.013, 0.072, 0.094, 0.096, 0.031, 0.133, 0.153, 0.118, 0.072, 0.097, 0.066, 0.326, 0.069, 0.103, 0.057, 0.103, 0.062, 0.147, 0.116, 0.122, 0.128, 0.147, 0.057, 0.116, 0.167, 0.101, 0.081, 0.278, 0.142, 0.108, 0.102, 0.074, 0.086, 0.08, 0.225, 0.157, 0.282, 0.13, 0.102, 0.122, 0.272, 0.168, 0.136, 0.116, 0.192, 0.138, 0.119, 0.08, 0.112, 0.086, 0.143, 0.04, 0.119, 0.172, 0.286, 0.177, 0.137, 0.182, 0.134, 0.134, 0.211, 0.238, 0.092, 0.152, 0.155, 0.217, 0.126, 0.133, 0.244, 0.302, 0.234, 0.205, 0.335, 0.096, 0.165, 0.078, 0.192, 0.13, 0.069, 0.122, 0.22, 0.102, 0.118, 0.104, 0.172, 0.078, 0.116, 0.265, 0.042, 0.075, 0.129, 0.033, 0.086, 0.042, 0.029, 0.3, 0.202, 0.155, 0.156, 0.085, 0.078, 0.102, 0.19, 0.102, 0.102, 0.156, 0.16, 0.141, 0.103, 0.194, 0.194, 0.086, 0.099, 0.142, 0.09, 0.09, 0.154, 0.071, 0.101, 0.108, 0.045, 0.046, 0.166, 0.184, 0.1, 0.22, 0.14, 0.131, 0.079, 0.336, 0.058, 0.12, 0.077, 0.105, 0.068, 0.245, 0.144, 0.123, 0.02, 0.078, 0.101, 0.069, 0.095, 0.113, 0.044, 0.077, 0.038, 0.173, 0.14, 0.111, 0.236, 0.078, 0.093, 0.107, 0.102, 0.102, 0.068, 0.095, 0.085, 0.101, 0.153, 0.08, 0.133, 0.254, 0.124, 0.071, 0.089, 0.096, 0.143, 0.173, 0.239, 0.06, 0.075, 0.075, 0.321, 0.133, 0.143, 0.097, 0.182, 0.134, 0.046, 0.094, 0.159, 0.067, 0.148, 0.088, 0.077, 0.186, 0.102, 0.131, 0.191, 0.102, 0.16, 0.043, 0.161, 0.132, 0.156, 0.152, 0.101, 0.221, 0.1, 0.282, 0.05, 0.129, 0.079, 0.231, 0.122, 0.206, 0.24, 0.256, 0.234, 0.086, 0.101, 0.091, 0.197, 0.32, 0.064, 0.136, 0.138, 0.106, 0.142, 0.078, 0.114, 0.064, 0.097, 0.102, 0.043, 0.049, 0.12, 0.055, 0.167, 0.064, 0.081, 0.11, 0.201, 0.133, 0.091, 0.221, 0.135, 0.166, 0.151, 0.092, 0.143, 0.138, 0.098, 0.16, 0.185, 0.23, 0.069, 0.116, 0.106, 0.094, 0.157, 0.093, 0.188, 0.054, 0.034, 0.21, 0.127, 0.124, 0.16, 0.203, 0.115, 0.046, 0.271, 0.077, 0.088, 0.161, 0.143, 0.161, 0.079, 0.08, 0.183, 0.076, 0.098, 0.091, 0.134, 0.07, 0.146, 0.112, 0.153, 0.25, 0.103, 0.216, 0.227, 0.088, 0.107, 0.059, 0.249, 0.119, 0.133, 0.076, 0.038, 0.161, 0.162, 0.255, 0.075, 0.075, 0.075, 0.115, 0.188, 0.18, 0.207, 0.09, 0.044, 0.084, 0.231, 0.101, 0.237, 0.073, 0.243, 0.038, 0.053, 0.062, 0.356, 0.181, 0.167, 0.11, 0.102, 0.084, 0.062, 0.159, 0.141, 0.09, 0.096, 0.276, 0.164, 0.179, 0.112, 0.097, 0.265, 0.222, 0.094, 0.04, 0.129, 0.22, 0.167, 0.065, 0.169, 0.2, 0.036, 0.067, 0.083, 0.102, 0.055, 0.041, 0.047, 0.052, 0.159, 0.123, 0.136, 0.19, 0.042, 0.121, 0.193, 0.04, 0.138, 0.087, 0.284, 0.1, 0.153, 0.172, 0.041, 0.219, 0.072, 0.047, 0.122, 0.165, 0.115, 0.079, 0.081, 0.098, 0.079, 0.171, 0.076, 0.189, 0.263, 0.135, 0.16, 0.27, 0.102, 0.112, 0.063, 0.114, 0.084, 0.102, 0.209, 0.156, 0.071, 0.033, 0.213, 0.255, 0.157, 0.073, 0.113, 0.107, 0.206, 0.079, 0.174, 0.105, 0.213, 0.103, 0.063, 0.213, 0.17, 0.174, 0.253, 0.331, 0.11, 0.213, 0.22, 0.061, 0.112, 0.058, 0.079, 0.079, 0.372, 0.048, 0.152, 0.18, 0.302, 0.141, 0.178, 0.116, 0.149, 0.052, 0.158, 0.22, 0.227, 0.184, 0.2, 0.166, 0.087, 0.076, 0.094, 0.382, 0.116, 0.15, 0.162, 0.197, 0.065, 0.212, 0.047, 0.044, 0.213, 0.028, 0.123, 0.173, 0.077, 0.118, 0.093, 0.267, 0.197, 0.085, 0.125, 0.122, 0.174, 0.062, 0.131, 0.111, 0.163, 0.134, 0.204, 0.197, 0.128, 0.032, 0.203, 0.129, 0.068, 0.068, 0.127, 0.067, 0.146, 0.288, 0.087, 0.243, 0.097, 0.216, 0.201, 0.088, 0.119, 0.186, 0.235, 0.129, 0.071, 0.061, 0.135, 0.192, 0.129, 0.173, 0.134, 0.12, 0.181, 0.135, 0.058, 0.062, 0.205, 0.18, 0.153, 0.073, 0.173, 0.077, 0.199, 0.033, 0.394, 0.121, 0.109, 0.099, 0.05, 0.045, 0.035, 0.093, 0.137, 0.199, 0.145, 0.104, 0.099, 0.182, 0.2, 0.154, 0.071, 0.186, 0.18, 0.105, 0.333, 0.156, 0.081, 0.135, 0.148, 0.204, 0.195, 0.148, 0.022, 0.278, 0.083, 0.106, 0.232, 0.292, 0.171, 0.259, 0.038, 0.246, 0.051, 0.077, 0.053, 0.071, 0.152, 0.119, 0.357, 0.118, 0.148, 0.121, 0.134, 0.18, 0.059, 0.349, 0.277, 0.097, 0.234, 0.171, 0.143, 0.14, 0.104, 0.114, 0.224, 0.101, 0.046, 0.089, 0.11, 0.121, 0.049, 0.187, 0.164, 0.156, 0.087, 0.068, 0.162, 0.129, 0.331, 0.125, 0.114, 0.116, 0.114, 0.067, 0.292, 0.078, 0.248, 0.104, 0.104, 0.184, 0.127, 0.127, 0.077, 0.036, 0.211, 0.08, 0.294, 0.135, 0.056, 0.163, 0.074, 0.107, 0.123, 0.138, 0.211, 0.105, 0.174, 0.048, 0.23, 0.06], \"yaxis\": \"y\"}, {\"hovertemplate\": \"Sentiment=Negative<br>Post Date=%{x}<br>pos=%{y}<extra></extra>\", \"legendgroup\": \"Negative\", \"line\": {\"color\": \"#00cc96\", \"dash\": \"solid\"}, \"mode\": \"lines\", \"name\": \"Negative\", \"showlegend\": true, \"type\": \"scattergl\", \"x\": [\"2019-10-14T05:55:32.553\", \"2019-10-14T22:38:08.26\", \"2019-10-21T09:43:33.513\", \"2019-10-21T12:40:40.86\", \"2019-10-23T06:23:11.657\", \"2019-10-24T06:19:46.603\", \"2019-10-24T14:04:33.85\", \"2019-10-25T11:54:33.85\", \"2019-10-30T08:21:45.053\", \"2019-10-30T18:45:20.75\", \"2019-10-31T23:57:45.833\", \"2019-11-01T07:45:56.387\", \"2019-11-10T01:44:11.28\", \"2019-11-14T03:28:57.637\", \"2019-11-18T10:12:47.987\", \"2019-11-20T05:47:36.783\", \"2019-11-29T02:39:25.357\", \"2019-12-03T14:56:05.093\", \"2019-12-03T16:06:57.23\", \"2019-12-09T07:10:55.167\", \"2019-12-10T07:50:29.637\", \"2019-12-10T10:55:22.36\", \"2019-12-12T10:17:39.717\", \"2019-12-20T08:29:43.793\", \"2019-12-21T07:25:05.07\", \"2019-12-24T06:44:49.68\", \"2020-01-03T04:40:24.317\", \"2020-01-05T08:26:52.923\", \"2020-01-14T07:18:24.06\", \"2020-01-16T01:35:18.87\", \"2020-01-20T17:44:58.307\", \"2020-01-24T06:49:45.39\", \"2020-01-29T10:26:02.32\", \"2020-02-03T09:59:10.557\", \"2020-02-03T13:33:12.313\", \"2020-02-05T11:30:08.943\", \"2020-02-11T17:09:02.48\", \"2020-02-12T09:04:32.27\", \"2020-02-12T14:51:42.37\", \"2020-02-14T10:24:51.933\", \"2020-02-26T12:34:35.337\", \"2020-03-04T20:50:43.727\", \"2020-03-10T11:43:30.047\", \"2020-03-17T10:57:57.617\", \"2020-03-17T12:46:10.82\", \"2020-03-17T17:40:54.64\", \"2020-03-30T04:21:56.913\", \"2020-04-09T23:22:33.47\", \"2020-04-14T04:48:03.713\", \"2020-04-14T11:03:59.167\", \"2020-04-16T08:10:59.29\", \"2020-04-16T16:12:38.977\", \"2020-04-16T16:41:02.65\", \"2020-04-23T02:31:29.827\", \"2020-04-23T17:09:27.673\", \"2020-05-05T10:32:52.917\", \"2020-05-06T07:12:28.073\", \"2020-05-06T10:17:41.447\", \"2020-05-07T03:54:23.82\", \"2020-05-07T10:30:47.55\", \"2020-05-12T07:44:49.72\", \"2020-05-13T09:12:49.927\", \"2020-05-13T14:43:08.657\", \"2020-05-14T03:52:10.373\", \"2020-05-14T17:51:27.473\", \"2020-05-19T22:05:27.747\", \"2020-05-20T07:46:08.763\", \"2020-05-22T09:04:36.597\", \"2020-05-24T07:44:59.96\", \"2020-05-25T11:51:41.683\", \"2020-05-25T12:12:56.96\", \"2020-05-28T04:33:45.413\", \"2020-05-28T21:23:28.48\", \"2020-05-31T11:34:13.967\", \"2020-06-01T02:08:55.463\", \"2020-06-02T05:15:07.377\", \"2020-06-08T10:15:40.8\", \"2020-06-17T09:23:08.72\", \"2020-06-17T10:47:18.047\", \"2020-06-19T05:37:59.09\", \"2020-06-29T17:02:31.54\", \"2020-07-06T05:50:50.78\", \"2020-07-06T09:19:59.403\", \"2020-07-10T08:52:51.04\", \"2020-07-11T20:29:03.777\", \"2020-07-13T02:40:11.35\", \"2020-07-17T14:17:43.9\", \"2020-07-20T13:16:24.25\", \"2020-07-21T04:25:05.703\", \"2020-07-21T11:25:17.723\", \"2020-07-24T15:17:29.263\", \"2020-07-31T03:00:29.553\", \"2020-08-01T06:40:03.033\", \"2020-08-02T08:21:09.453\", \"2020-08-06T16:30:31.317\", \"2020-08-11T20:18:22.113\", \"2020-08-14T06:48:55.553\", \"2020-08-17T10:09:37.347\", \"2020-08-18T10:10:32.407\", \"2020-09-03T14:53:10.197\", \"2020-09-04T08:34:40.003\", \"2020-09-08T10:35:57.717\", \"2020-09-09T04:14:26.247\", \"2020-09-09T07:05:09.473\", \"2020-09-09T19:09:12.01\", \"2020-09-11T14:32:09.763\", \"2020-09-22T03:04:06.773\", \"2020-09-22T12:56:21.417\", \"2020-09-23T07:34:25.193\", \"2020-09-27T00:39:00.507\", \"2020-09-30T11:28:12.57\", \"2020-10-05T01:11:31.057\", \"2020-10-05T22:58:21.4\", \"2020-10-07T04:49:35.287\", \"2020-10-07T06:19:26.927\", \"2020-10-08T07:26:39.637\", \"2020-10-08T16:26:59.76\", \"2020-10-09T19:17:29.443\", \"2020-10-13T13:02:42.213\", \"2020-10-13T18:32:15.773\", \"2020-10-16T18:36:31.273\", \"2020-10-19T22:07:38.62\", \"2020-10-20T16:35:09.947\", \"2020-10-21T12:58:42.72\", \"2020-10-21T13:33:08.743\", \"2020-10-21T14:06:01.427\", \"2020-10-28T05:57:09.547\", \"2020-10-28T13:28:28.833\", \"2020-10-28T15:58:04.637\", \"2020-10-29T01:39:26.437\", \"2020-11-02T16:14:49.56\", \"2020-11-09T08:23:02.983\", \"2020-11-11T06:00:38.383\", \"2020-11-12T18:39:57.223\", \"2020-11-13T18:33:05.46\", \"2020-11-18T11:41:37.49\", \"2020-11-19T16:56:39.44\", \"2020-11-25T11:17:47.587\", \"2020-11-25T13:13:05.463\", \"2020-11-26T11:43:14.277\", \"2020-12-02T15:54:46.727\", \"2020-12-03T15:45:18.923\", \"2020-12-06T07:13:50.297\", \"2020-12-08T06:45:13.323\", \"2020-12-08T12:43:05.35\", \"2020-12-11T09:05:13.287\", \"2020-12-16T11:24:45.933\", \"2020-12-16T16:31:08.12\", \"2020-12-21T08:30:12.503\", \"2020-12-22T04:59:41.42\", \"2020-12-23T09:59:10.2\", \"2020-12-28T02:51:24.99\", \"2020-12-28T15:09:46.85\", \"2020-12-29T08:45:35.597\", \"2020-12-29T15:13:04.71\", \"2021-01-09T23:27:17.513\", \"2021-01-12T06:59:45.843\", \"2021-01-12T08:16:59.57\", \"2021-01-12T23:48:05.1\", \"2021-01-15T06:20:18.943\", \"2021-01-16T07:56:33.363\", \"2021-01-18T00:23:54.957\", \"2021-01-20T07:58:12.823\", \"2021-01-21T09:00:33.853\", \"2021-01-27T01:26:58.78\", \"2021-01-27T13:06:46.71\", \"2021-02-03T06:28:55.87\", \"2021-02-03T14:28:38.48\", \"2021-02-05T09:38:55.053\", \"2021-02-08T14:35:14.027\", \"2021-02-10T06:07:45.91\", \"2021-02-10T13:30:52.19\", \"2021-02-16T14:37:14.58\", \"2021-02-17T00:44:34.993\", \"2021-02-26T11:57:02.543\", \"2021-02-27T07:31:29.457\", \"2021-03-03T03:05:35.877\", \"2021-03-03T09:20:39.307\", \"2021-03-03T16:19:15.397\", \"2021-03-04T11:01:28.96\", \"2021-03-06T06:54:56.57\", \"2021-03-09T11:05:19.053\", \"2021-03-09T17:00:23.213\", \"2021-03-16T07:06:57.6\", \"2021-03-16T15:19:27.047\", \"2021-03-19T11:31:47.557\", \"2021-03-22T03:47:12.6\", \"2021-03-24T09:04:13.813\", \"2021-04-07T14:44:07.22\", \"2021-04-09T14:10:26.533\", \"2021-04-10T03:29:32.747\", \"2021-04-10T15:57:59.943\", \"2021-04-20T11:43:36.217\", \"2021-04-22T07:32:19.79\", \"2021-04-30T15:41:33.667\", \"2021-05-06T06:08:48.817\", \"2021-05-06T10:55:46.883\", \"2021-05-11T16:15:01.67\", \"2021-05-14T08:27:02.38\", \"2021-05-17T10:44:03.017\", \"2021-05-17T12:41:24.27\", \"2021-05-18T00:14:22.057\", \"2021-05-19T09:46:33.497\", \"2021-05-23T15:49:03.797\", \"2021-05-25T16:41:37.953\", \"2021-05-27T07:12:50.66\", \"2021-06-03T04:46:03.063\", \"2021-06-04T19:14:13.09\"], \"xaxis\": \"x\", \"y\": [0.017, 0.052, 0.034, 0.021, 0.044, 0.049, 0.106, 0.057, 0.11, 0.058, 0.027, 0.052, 0.038, 0.028, 0.038, 0.055, 0.107, 0.066, 0.0, 0.026, 0.049, 0.042, 0.0, 0.0, 0.031, 0.0, 0.113, 0.038, 0.102, 0.016, 0.079, 0.046, 0.033, 0.058, 0.017, 0.0, 0.03, 0.031, 0.017, 0.09, 0.0, 0.061, 0.101, 0.0, 0.073, 0.022, 0.078, 0.095, 0.068, 0.0, 0.029, 0.0, 0.014, 0.0, 0.0, 0.0, 0.031, 0.049, 0.12, 0.0, 0.115, 0.0, 0.026, 0.0, 0.046, 0.198, 0.113, 0.0, 0.065, 0.0, 0.0, 0.027, 0.074, 0.047, 0.0, 0.029, 0.045, 0.028, 0.046, 0.0, 0.0, 0.014, 0.0, 0.015, 0.043, 0.051, 0.092, 0.039, 0.0, 0.065, 0.028, 0.058, 0.041, 0.091, 0.048, 0.142, 0.106, 0.056, 0.064, 0.0, 0.052, 0.049, 0.053, 0.049, 0.026, 0.053, 0.0, 0.018, 0.042, 0.04, 0.024, 0.065, 0.077, 0.0, 0.0, 0.034, 0.036, 0.0, 0.0, 0.037, 0.012, 0.045, 0.033, 0.043, 0.082, 0.077, 0.159, 0.0, 0.038, 0.048, 0.0, 0.041, 0.0, 0.027, 0.043, 0.066, 0.042, 0.103, 0.059, 0.126, 0.092, 0.0, 0.107, 0.066, 0.063, 0.014, 0.062, 0.0, 0.041, 0.11, 0.032, 0.087, 0.052, 0.0, 0.0, 0.069, 0.0, 0.079, 0.094, 0.204, 0.105, 0.055, 0.14, 0.0, 0.059, 0.034, 0.107, 0.039, 0.058, 0.059, 0.0, 0.049, 0.192, 0.015, 0.0, 0.107, 0.03, 0.0, 0.0, 0.054, 0.048, 0.024, 0.0, 0.0, 0.066, 0.0, 0.057, 0.108, 0.066, 0.035, 0.07, 0.039, 0.129, 0.078, 0.03, 0.115, 0.072, 0.092, 0.042, 0.076, 0.032, 0.102, 0.0, 0.092, 0.016, 0.0, 0.1, 0.02], \"yaxis\": \"y\"}],                        {\"legend\": {\"title\": {\"text\": \"Sentiment\"}, \"tracegroupgap\": 0}, \"margin\": {\"t\": 60}, \"template\": {\"data\": {\"bar\": [{\"error_x\": {\"color\": \"#2a3f5f\"}, \"error_y\": {\"color\": \"#2a3f5f\"}, \"marker\": {\"line\": {\"color\": \"#E5ECF6\", \"width\": 0.5}}, \"type\": \"bar\"}], \"barpolar\": [{\"marker\": {\"line\": {\"color\": \"#E5ECF6\", \"width\": 0.5}}, \"type\": \"barpolar\"}], \"carpet\": [{\"aaxis\": {\"endlinecolor\": \"#2a3f5f\", \"gridcolor\": \"white\", \"linecolor\": \"white\", \"minorgridcolor\": \"white\", \"startlinecolor\": \"#2a3f5f\"}, \"baxis\": {\"endlinecolor\": \"#2a3f5f\", \"gridcolor\": \"white\", \"linecolor\": \"white\", \"minorgridcolor\": \"white\", \"startlinecolor\": \"#2a3f5f\"}, \"type\": \"carpet\"}], \"choropleth\": [{\"colorbar\": {\"outlinewidth\": 0, \"ticks\": \"\"}, \"type\": \"choropleth\"}], \"contour\": [{\"colorbar\": {\"outlinewidth\": 0, \"ticks\": \"\"}, \"colorscale\": [[0.0, \"#0d0887\"], [0.1111111111111111, \"#46039f\"], [0.2222222222222222, \"#7201a8\"], [0.3333333333333333, \"#9c179e\"], [0.4444444444444444, \"#bd3786\"], [0.5555555555555556, \"#d8576b\"], [0.6666666666666666, \"#ed7953\"], [0.7777777777777778, \"#fb9f3a\"], [0.8888888888888888, \"#fdca26\"], [1.0, \"#f0f921\"]], \"type\": \"contour\"}], \"contourcarpet\": [{\"colorbar\": {\"outlinewidth\": 0, \"ticks\": \"\"}, \"type\": \"contourcarpet\"}], \"heatmap\": [{\"colorbar\": {\"outlinewidth\": 0, \"ticks\": \"\"}, \"colorscale\": [[0.0, \"#0d0887\"], [0.1111111111111111, \"#46039f\"], [0.2222222222222222, \"#7201a8\"], [0.3333333333333333, \"#9c179e\"], [0.4444444444444444, \"#bd3786\"], [0.5555555555555556, \"#d8576b\"], [0.6666666666666666, \"#ed7953\"], [0.7777777777777778, \"#fb9f3a\"], [0.8888888888888888, \"#fdca26\"], [1.0, \"#f0f921\"]], \"type\": \"heatmap\"}], \"heatmapgl\": [{\"colorbar\": {\"outlinewidth\": 0, \"ticks\": \"\"}, \"colorscale\": [[0.0, \"#0d0887\"], [0.1111111111111111, \"#46039f\"], [0.2222222222222222, \"#7201a8\"], [0.3333333333333333, \"#9c179e\"], [0.4444444444444444, \"#bd3786\"], [0.5555555555555556, \"#d8576b\"], [0.6666666666666666, \"#ed7953\"], [0.7777777777777778, \"#fb9f3a\"], [0.8888888888888888, \"#fdca26\"], [1.0, \"#f0f921\"]], \"type\": \"heatmapgl\"}], \"histogram\": [{\"marker\": {\"colorbar\": {\"outlinewidth\": 0, \"ticks\": \"\"}}, \"type\": \"histogram\"}], \"histogram2d\": [{\"colorbar\": {\"outlinewidth\": 0, \"ticks\": \"\"}, \"colorscale\": [[0.0, \"#0d0887\"], [0.1111111111111111, \"#46039f\"], [0.2222222222222222, \"#7201a8\"], [0.3333333333333333, \"#9c179e\"], [0.4444444444444444, \"#bd3786\"], [0.5555555555555556, \"#d8576b\"], [0.6666666666666666, \"#ed7953\"], [0.7777777777777778, \"#fb9f3a\"], [0.8888888888888888, \"#fdca26\"], [1.0, \"#f0f921\"]], \"type\": \"histogram2d\"}], \"histogram2dcontour\": [{\"colorbar\": {\"outlinewidth\": 0, \"ticks\": \"\"}, \"colorscale\": [[0.0, \"#0d0887\"], [0.1111111111111111, \"#46039f\"], [0.2222222222222222, \"#7201a8\"], [0.3333333333333333, \"#9c179e\"], [0.4444444444444444, \"#bd3786\"], [0.5555555555555556, \"#d8576b\"], [0.6666666666666666, \"#ed7953\"], [0.7777777777777778, \"#fb9f3a\"], [0.8888888888888888, \"#fdca26\"], [1.0, \"#f0f921\"]], \"type\": \"histogram2dcontour\"}], \"mesh3d\": [{\"colorbar\": {\"outlinewidth\": 0, \"ticks\": \"\"}, \"type\": \"mesh3d\"}], \"parcoords\": [{\"line\": {\"colorbar\": {\"outlinewidth\": 0, \"ticks\": \"\"}}, \"type\": \"parcoords\"}], \"pie\": [{\"automargin\": true, \"type\": \"pie\"}], \"scatter\": [{\"marker\": {\"colorbar\": {\"outlinewidth\": 0, \"ticks\": \"\"}}, \"type\": \"scatter\"}], \"scatter3d\": [{\"line\": {\"colorbar\": {\"outlinewidth\": 0, \"ticks\": \"\"}}, \"marker\": {\"colorbar\": {\"outlinewidth\": 0, \"ticks\": \"\"}}, \"type\": \"scatter3d\"}], \"scattercarpet\": [{\"marker\": {\"colorbar\": {\"outlinewidth\": 0, \"ticks\": \"\"}}, \"type\": \"scattercarpet\"}], \"scattergeo\": [{\"marker\": {\"colorbar\": {\"outlinewidth\": 0, \"ticks\": \"\"}}, \"type\": \"scattergeo\"}], \"scattergl\": [{\"marker\": {\"colorbar\": {\"outlinewidth\": 0, \"ticks\": \"\"}}, \"type\": \"scattergl\"}], \"scattermapbox\": [{\"marker\": {\"colorbar\": {\"outlinewidth\": 0, \"ticks\": \"\"}}, \"type\": \"scattermapbox\"}], \"scatterpolar\": [{\"marker\": {\"colorbar\": {\"outlinewidth\": 0, \"ticks\": \"\"}}, \"type\": \"scatterpolar\"}], \"scatterpolargl\": [{\"marker\": {\"colorbar\": {\"outlinewidth\": 0, \"ticks\": \"\"}}, \"type\": \"scatterpolargl\"}], \"scatterternary\": [{\"marker\": {\"colorbar\": {\"outlinewidth\": 0, \"ticks\": \"\"}}, \"type\": \"scatterternary\"}], \"surface\": [{\"colorbar\": {\"outlinewidth\": 0, \"ticks\": \"\"}, \"colorscale\": [[0.0, \"#0d0887\"], [0.1111111111111111, \"#46039f\"], [0.2222222222222222, \"#7201a8\"], [0.3333333333333333, \"#9c179e\"], [0.4444444444444444, \"#bd3786\"], [0.5555555555555556, \"#d8576b\"], [0.6666666666666666, \"#ed7953\"], [0.7777777777777778, \"#fb9f3a\"], [0.8888888888888888, \"#fdca26\"], [1.0, \"#f0f921\"]], \"type\": \"surface\"}], \"table\": [{\"cells\": {\"fill\": {\"color\": \"#EBF0F8\"}, \"line\": {\"color\": \"white\"}}, \"header\": {\"fill\": {\"color\": \"#C8D4E3\"}, \"line\": {\"color\": \"white\"}}, \"type\": \"table\"}]}, \"layout\": {\"annotationdefaults\": {\"arrowcolor\": \"#2a3f5f\", \"arrowhead\": 0, \"arrowwidth\": 1}, \"autotypenumbers\": \"strict\", \"coloraxis\": {\"colorbar\": {\"outlinewidth\": 0, \"ticks\": \"\"}}, \"colorscale\": {\"diverging\": [[0, \"#8e0152\"], [0.1, \"#c51b7d\"], [0.2, \"#de77ae\"], [0.3, \"#f1b6da\"], [0.4, \"#fde0ef\"], [0.5, \"#f7f7f7\"], [0.6, \"#e6f5d0\"], [0.7, \"#b8e186\"], [0.8, \"#7fbc41\"], [0.9, \"#4d9221\"], [1, \"#276419\"]], \"sequential\": [[0.0, \"#0d0887\"], [0.1111111111111111, \"#46039f\"], [0.2222222222222222, \"#7201a8\"], [0.3333333333333333, \"#9c179e\"], [0.4444444444444444, \"#bd3786\"], [0.5555555555555556, \"#d8576b\"], [0.6666666666666666, \"#ed7953\"], [0.7777777777777778, \"#fb9f3a\"], [0.8888888888888888, \"#fdca26\"], [1.0, \"#f0f921\"]], \"sequentialminus\": [[0.0, \"#0d0887\"], [0.1111111111111111, \"#46039f\"], [0.2222222222222222, \"#7201a8\"], [0.3333333333333333, \"#9c179e\"], [0.4444444444444444, \"#bd3786\"], [0.5555555555555556, \"#d8576b\"], [0.6666666666666666, \"#ed7953\"], [0.7777777777777778, \"#fb9f3a\"], [0.8888888888888888, \"#fdca26\"], [1.0, \"#f0f921\"]]}, \"colorway\": [\"#636efa\", \"#EF553B\", \"#00cc96\", \"#ab63fa\", \"#FFA15A\", \"#19d3f3\", \"#FF6692\", \"#B6E880\", \"#FF97FF\", \"#FECB52\"], \"font\": {\"color\": \"#2a3f5f\"}, \"geo\": {\"bgcolor\": \"white\", \"lakecolor\": \"white\", \"landcolor\": \"#E5ECF6\", \"showlakes\": true, \"showland\": true, \"subunitcolor\": \"white\"}, \"hoverlabel\": {\"align\": \"left\"}, \"hovermode\": \"closest\", \"mapbox\": {\"style\": \"light\"}, \"paper_bgcolor\": \"white\", \"plot_bgcolor\": \"#E5ECF6\", \"polar\": {\"angularaxis\": {\"gridcolor\": \"white\", \"linecolor\": \"white\", \"ticks\": \"\"}, \"bgcolor\": \"#E5ECF6\", \"radialaxis\": {\"gridcolor\": \"white\", \"linecolor\": \"white\", \"ticks\": \"\"}}, \"scene\": {\"xaxis\": {\"backgroundcolor\": \"#E5ECF6\", \"gridcolor\": \"white\", \"gridwidth\": 2, \"linecolor\": \"white\", \"showbackground\": true, \"ticks\": \"\", \"zerolinecolor\": \"white\"}, \"yaxis\": {\"backgroundcolor\": \"#E5ECF6\", \"gridcolor\": \"white\", \"gridwidth\": 2, \"linecolor\": \"white\", \"showbackground\": true, \"ticks\": \"\", \"zerolinecolor\": \"white\"}, \"zaxis\": {\"backgroundcolor\": \"#E5ECF6\", \"gridcolor\": \"white\", \"gridwidth\": 2, \"linecolor\": \"white\", \"showbackground\": true, \"ticks\": \"\", \"zerolinecolor\": \"white\"}}, \"shapedefaults\": {\"line\": {\"color\": \"#2a3f5f\"}}, \"ternary\": {\"aaxis\": {\"gridcolor\": \"white\", \"linecolor\": \"white\", \"ticks\": \"\"}, \"baxis\": {\"gridcolor\": \"white\", \"linecolor\": \"white\", \"ticks\": \"\"}, \"bgcolor\": \"#E5ECF6\", \"caxis\": {\"gridcolor\": \"white\", \"linecolor\": \"white\", \"ticks\": \"\"}}, \"title\": {\"x\": 0.05}, \"xaxis\": {\"automargin\": true, \"gridcolor\": \"white\", \"linecolor\": \"white\", \"ticks\": \"\", \"title\": {\"standoff\": 15}, \"zerolinecolor\": \"white\", \"zerolinewidth\": 2}, \"yaxis\": {\"automargin\": true, \"gridcolor\": \"white\", \"linecolor\": \"white\", \"ticks\": \"\", \"title\": {\"standoff\": 15}, \"zerolinecolor\": \"white\", \"zerolinewidth\": 2}}}, \"xaxis\": {\"anchor\": \"y\", \"domain\": [0.0, 1.0], \"title\": {\"text\": \"Post Date\"}}, \"yaxis\": {\"anchor\": \"x\", \"domain\": [0.0, 1.0], \"title\": {\"text\": \"pos\"}}},                        {\"responsive\": true}                    ).then(function(){\n",
       "                            \n",
       "var gd = document.getElementById('9f5d5f33-26b9-477e-aea2-6374557deb5b');\n",
       "var x = new MutationObserver(function (mutations, observer) {{\n",
       "        var display = window.getComputedStyle(gd).display;\n",
       "        if (!display || display === 'none') {{\n",
       "            console.log([gd, 'removed!']);\n",
       "            Plotly.purge(gd);\n",
       "            observer.disconnect();\n",
       "        }}\n",
       "}});\n",
       "\n",
       "// Listen for the removal of the full notebook cells\n",
       "var notebookContainer = gd.closest('#notebook-container');\n",
       "if (notebookContainer) {{\n",
       "    x.observe(notebookContainer, {childList: true});\n",
       "}}\n",
       "\n",
       "// Listen for the clearing of the current output cell\n",
       "var outputEl = gd.closest('.output');\n",
       "if (outputEl) {{\n",
       "    x.observe(outputEl, {childList: true});\n",
       "}}\n",
       "\n",
       "                        })                };                });            </script>        </div>"
      ]
     },
     "metadata": {},
     "output_type": "display_data"
    }
   ],
   "source": [
    "fig = px.line(df2, x='Post Date', y='pos', color='Sentiment')\n",
    "fig.show()"
   ]
  },
  {
   "cell_type": "code",
   "execution_count": 214,
   "metadata": {},
   "outputs": [
    {
     "name": "stderr",
     "output_type": "stream",
     "text": [
      "C:\\Users\\BDelamater\\Anaconda3\\lib\\site-packages\\ipykernel\\ipkernel.py:287: DeprecationWarning:\n",
      "\n",
      "`should_run_async` will not call `transform_cell` automatically in the future. Please pass the result to `transformed_cell` argument and any exception that happen during thetransform in `preprocessing_exc_tuple` in IPython 7.17 and above.\n",
      "\n"
     ]
    }
   ],
   "source": [
    "# fig = go.figure(\n",
    "#     go.Table(\n",
    "#         columnwidth = [50,300,60,40,40],\n",
    "#         header=dict(\n",
    "#             values=[\"Timestamp\", \"Forum_Post_Raw\", \"User DisplayName\", \"Negative\", \"Neutral\", \"Positive\"],\n",
    "#             font=dict(size=10),\n",
    "#             align=\"left\"\n",
    "#         ),\n",
    "#         # cells=dict(\n",
    "#         #     values=[tweets[[\"created_at\",\"text\", \"screen_name\", \"neg\", \"neu\", \"pos\"]]],\n",
    "#         #     align = \"left\")\n",
    "#         cells=dict(values=[df['Post Date'], df.Forum_Post_Raw, df['User DisplayName'], df.neg, df.neu, df.pos],\n",
    "#                 fill_color = [[rowOddColor,rowEvenColor,rowOddColor, rowEvenColor,rowOddColor]*5],\n",
    "#                 align=['left', 'left', 'left', 'center', 'center', 'center'])        \n",
    "#     ),\n",
    "#     row=1, col=1\n",
    "# )\n",
    "# fig.update_layout(\n",
    "#     height=800,\n",
    "#     showlegend=False,\n",
    "#     title_text=\"Twitter Sentiment for \" + GraphTitle,\n",
    "# )\n",
    "\n",
    "\n",
    "\n",
    "\n",
    "# headerColor = 'grey'\n",
    "# rowEvenColor = 'lightgrey'\n",
    "# rowOddColor = 'white'\n",
    "# alignment = ['left', 'left', 'left', 'center', 'center', 'center']\n",
    "\n",
    "# fig = go.Figure(data=[go.Table(\n",
    "#     columnwidth = [30,300,60,40,40],\n",
    "#     header=dict(values=[\"Timestamp\", \"Forum_Post_Raw\", \"User DisplayName\", \"Negative\", \"Neutral\", \"Positive\"],\n",
    "#                 fill_color=headerColor,\n",
    "#                 align=alignment),\n",
    "#     cells=dict(values=[df['PostDate'].dt.strftime(\"%m/%d/%y %H:%M:%S\"), df.Forum_Post_Raw, df['User DisplayName'], df.neg, df.neu, df.pos],\n",
    "#                fill_color = [[rowOddColor,rowEvenColor]*df.shape[0]],\n",
    "#                align=alignment))\n",
    "# ])\n",
    "\n",
    "# fig.show()"
   ]
  },
  {
   "cell_type": "code",
   "execution_count": 215,
   "metadata": {},
   "outputs": [
    {
     "name": "stderr",
     "output_type": "stream",
     "text": [
      "C:\\Users\\BDelamater\\Anaconda3\\lib\\site-packages\\ipykernel\\ipkernel.py:287: DeprecationWarning:\n",
      "\n",
      "`should_run_async` will not call `transform_cell` automatically in the future. Please pass the result to `transformed_cell` argument and any exception that happen during thetransform in `preprocessing_exc_tuple` in IPython 7.17 and above.\n",
      "\n"
     ]
    }
   ],
   "source": [
    "# headerColor = 'grey'\n",
    "# rowEvenColor = 'lightgrey'\n",
    "# rowOddColor = 'white'\n",
    "\n",
    "# # for i, row in enumerate(df_Forum[\"Post Date\"]):\n",
    "# #     p = re.compile(\" 00:00:00\")\n",
    "# #     datetime = p.split(df[\"Post Date\"][i])[0]\n",
    "# #     df.iloc[i, 1] = datetime\n",
    "\n",
    "# fig = make_subplots(\n",
    "#     rows=3, cols=1,\n",
    "#     shared_xaxes=True,\n",
    "#     vertical_spacing=0.03,\n",
    "#     specs=[[{\"type\": \"table\"}],\n",
    "#            [{\"type\": \"scatter\"}],\n",
    "#            [{\"type\": \"scatter\"}]]\n",
    "# )\n",
    "\n",
    "# fig.add_trace(\n",
    "#     go.Scatter(\n",
    "#         x=df[\"Post Date\"],\n",
    "#         y=df[\"pos\"],\n",
    "#         mode=\"lines\",\n",
    "#         name=\"Positive Sentiment\"\n",
    "#     ),\n",
    "#     row=3, col=1\n",
    "# )\n",
    "\n",
    "# fig.add_trace(\n",
    "#     go.Scatter(\n",
    "#         x=df[\"Post Date\"],\n",
    "#         y=df[\"neg\"],\n",
    "#         mode=\"lines\",\n",
    "#         name=\"Negative Sentiment\"\n",
    "#     ),\n",
    "#     row=2, col=1\n",
    "# )\n",
    "\n",
    "# fig.add_trace(\n",
    "#     go.Table(\n",
    "#         columnwidth = [50,300,60,40,40],\n",
    "#         header=dict(\n",
    "#             values=[\"Timestamp\", \"Forum_Post_Raw\", \"User DisplayName\", \"Negative\", \"Neutral\", \"Positive\"],\n",
    "#             font=dict(size=10),\n",
    "#             align=\"left\"\n",
    "#         ),\n",
    "#         # cells=dict(\n",
    "#         #     values=[tweets[[\"created_at\",\"text\", \"screen_name\", \"neg\", \"neu\", \"pos\"]]],\n",
    "#         #     align = \"left\")\n",
    "#         cells=dict(values=[df['Post Date'], df.Forum_Post_Raw, df['User DisplayName'], df.neg, df.neu, df.pos],\n",
    "#                 fill_color = [[rowOddColor,rowEvenColor,rowOddColor, rowEvenColor,rowOddColor]*5],\n",
    "#                 align=['left', 'left', 'left', 'center', 'center', 'center'])        \n",
    "#     ),\n",
    "#     row=1, col=1\n",
    "# )\n",
    "# fig.update_layout(\n",
    "#     height=800,\n",
    "#     showlegend=False,\n",
    "#     title_text=\"Twitter Sentiment for \" + GraphTitle,\n",
    "# )\n",
    "\n",
    "# fig.write_html('Sentiment.html')\n",
    "# fig.show()"
   ]
  },
  {
   "cell_type": "code",
   "execution_count": 216,
   "metadata": {},
   "outputs": [
    {
     "name": "stderr",
     "output_type": "stream",
     "text": [
      "C:\\Users\\BDelamater\\Anaconda3\\lib\\site-packages\\ipykernel\\ipkernel.py:287: DeprecationWarning:\n",
      "\n",
      "`should_run_async` will not call `transform_cell` automatically in the future. Please pass the result to `transformed_cell` argument and any exception that happen during thetransform in `preprocessing_exc_tuple` in IPython 7.17 and above.\n",
      "\n"
     ]
    }
   ],
   "source": [
    "features = ['Forum_Post_Raw','neg','neu','pos']\n",
    "\n",
    "# Top 5 Neutral Tweets\n",
    "dfNeu = df[features].sort_values(\"neu\", ascending=False).head(5)\n",
    "dfNeu.name = \"Neutral\"\n",
    "\n",
    "# Top 5 Negative Tweets\n",
    "dfNeg = df[features].sort_values(\"neg\", ascending=False).head(5)\n",
    "dfNeg.name = \"Negative\"\n",
    "\n",
    "# Top 5 Positive Tweets\n",
    "dfPos = df[features].sort_values(\"pos\", ascending=False).head(5)\n",
    "dfPos.name = \"Positive\"\n",
    "dataSets = [dfNeu,dfPos, dfNeg]\n"
   ]
  },
  {
   "cell_type": "code",
   "execution_count": 217,
   "metadata": {},
   "outputs": [
    {
     "name": "stderr",
     "output_type": "stream",
     "text": [
      "C:\\Users\\BDelamater\\Anaconda3\\lib\\site-packages\\ipykernel\\ipkernel.py:287: DeprecationWarning:\n",
      "\n",
      "`should_run_async` will not call `transform_cell` automatically in the future. Please pass the result to `transformed_cell` argument and any exception that happen during thetransform in `preprocessing_exc_tuple` in IPython 7.17 and above.\n",
      "\n"
     ]
    },
    {
     "data": {
      "text/html": [
       "<div>\n",
       "<style scoped>\n",
       "    .dataframe tbody tr th:only-of-type {\n",
       "        vertical-align: middle;\n",
       "    }\n",
       "\n",
       "    .dataframe tbody tr th {\n",
       "        vertical-align: top;\n",
       "    }\n",
       "\n",
       "    .dataframe thead th {\n",
       "        text-align: right;\n",
       "    }\n",
       "</style>\n",
       "<table border=\"1\" class=\"dataframe\">\n",
       "  <thead>\n",
       "    <tr style=\"text-align: right;\">\n",
       "      <th></th>\n",
       "      <th>Forum ID</th>\n",
       "      <th>compound</th>\n",
       "      <th>neg</th>\n",
       "      <th>neu</th>\n",
       "      <th>pos</th>\n",
       "      <th>DayOfMonth</th>\n",
       "    </tr>\n",
       "  </thead>\n",
       "  <tbody>\n",
       "    <tr>\n",
       "      <th>count</th>\n",
       "      <td>1086.000000</td>\n",
       "      <td>1086.000000</td>\n",
       "      <td>1086.000000</td>\n",
       "      <td>1086.000000</td>\n",
       "      <td>1086.000000</td>\n",
       "      <td>1086.000000</td>\n",
       "    </tr>\n",
       "    <tr>\n",
       "      <th>mean</th>\n",
       "      <td>91.429098</td>\n",
       "      <td>0.358396</td>\n",
       "      <td>0.039499</td>\n",
       "      <td>0.853801</td>\n",
       "      <td>0.105767</td>\n",
       "      <td>15.840700</td>\n",
       "    </tr>\n",
       "    <tr>\n",
       "      <th>std</th>\n",
       "      <td>155.599403</td>\n",
       "      <td>0.520617</td>\n",
       "      <td>0.053476</td>\n",
       "      <td>0.091070</td>\n",
       "      <td>0.076172</td>\n",
       "      <td>8.454238</td>\n",
       "    </tr>\n",
       "    <tr>\n",
       "      <th>min</th>\n",
       "      <td>40.000000</td>\n",
       "      <td>-0.997200</td>\n",
       "      <td>0.000000</td>\n",
       "      <td>0.000000</td>\n",
       "      <td>0.000000</td>\n",
       "      <td>1.000000</td>\n",
       "    </tr>\n",
       "    <tr>\n",
       "      <th>25%</th>\n",
       "      <td>40.000000</td>\n",
       "      <td>0.000000</td>\n",
       "      <td>0.000000</td>\n",
       "      <td>0.802000</td>\n",
       "      <td>0.050000</td>\n",
       "      <td>9.000000</td>\n",
       "    </tr>\n",
       "    <tr>\n",
       "      <th>50%</th>\n",
       "      <td>40.000000</td>\n",
       "      <td>0.495150</td>\n",
       "      <td>0.018000</td>\n",
       "      <td>0.862500</td>\n",
       "      <td>0.098000</td>\n",
       "      <td>16.000000</td>\n",
       "    </tr>\n",
       "    <tr>\n",
       "      <th>75%</th>\n",
       "      <td>40.000000</td>\n",
       "      <td>0.805275</td>\n",
       "      <td>0.064000</td>\n",
       "      <td>0.916000</td>\n",
       "      <td>0.152000</td>\n",
       "      <td>23.000000</td>\n",
       "    </tr>\n",
       "    <tr>\n",
       "      <th>max</th>\n",
       "      <td>673.000000</td>\n",
       "      <td>0.989500</td>\n",
       "      <td>0.415000</td>\n",
       "      <td>1.000000</td>\n",
       "      <td>0.394000</td>\n",
       "      <td>31.000000</td>\n",
       "    </tr>\n",
       "  </tbody>\n",
       "</table>\n",
       "</div>"
      ],
      "text/plain": [
       "          Forum ID     compound          neg          neu          pos  \\\n",
       "count  1086.000000  1086.000000  1086.000000  1086.000000  1086.000000   \n",
       "mean     91.429098     0.358396     0.039499     0.853801     0.105767   \n",
       "std     155.599403     0.520617     0.053476     0.091070     0.076172   \n",
       "min      40.000000    -0.997200     0.000000     0.000000     0.000000   \n",
       "25%      40.000000     0.000000     0.000000     0.802000     0.050000   \n",
       "50%      40.000000     0.495150     0.018000     0.862500     0.098000   \n",
       "75%      40.000000     0.805275     0.064000     0.916000     0.152000   \n",
       "max     673.000000     0.989500     0.415000     1.000000     0.394000   \n",
       "\n",
       "        DayOfMonth  \n",
       "count  1086.000000  \n",
       "mean     15.840700  \n",
       "std       8.454238  \n",
       "min       1.000000  \n",
       "25%       9.000000  \n",
       "50%      16.000000  \n",
       "75%      23.000000  \n",
       "max      31.000000  "
      ]
     },
     "execution_count": 217,
     "metadata": {},
     "output_type": "execute_result"
    }
   ],
   "source": [
    "df.describe()"
   ]
  },
  {
   "cell_type": "code",
   "execution_count": 218,
   "metadata": {},
   "outputs": [
    {
     "name": "stderr",
     "output_type": "stream",
     "text": [
      "C:\\Users\\BDelamater\\Anaconda3\\lib\\site-packages\\ipykernel\\ipkernel.py:287: DeprecationWarning:\n",
      "\n",
      "`should_run_async` will not call `transform_cell` automatically in the future. Please pass the result to `transformed_cell` argument and any exception that happen during thetransform in `preprocessing_exc_tuple` in IPython 7.17 and above.\n",
      "\n"
     ]
    }
   ],
   "source": [
    "# Alternative way to make tables, doesn't work as well!\n",
    "# import plotly.figure_factory as ff\n",
    "\n",
    "# def WriteTable(dataSets):\n",
    "#     for frame in dataSets:\n",
    "#         fig =  ff.create_table(frame)\n",
    "#         fig.write_html(frame.name+\".html\")\n",
    "#         fig.show()\n",
    "\n",
    "# WriteTable(dataSets)"
   ]
  },
  {
   "cell_type": "code",
   "execution_count": 219,
   "metadata": {},
   "outputs": [
    {
     "name": "stderr",
     "output_type": "stream",
     "text": [
      "C:\\Users\\BDelamater\\Anaconda3\\lib\\site-packages\\ipykernel\\ipkernel.py:287: DeprecationWarning:\n",
      "\n",
      "`should_run_async` will not call `transform_cell` automatically in the future. Please pass the result to `transformed_cell` argument and any exception that happen during thetransform in `preprocessing_exc_tuple` in IPython 7.17 and above.\n",
      "\n"
     ]
    },
    {
     "data": {
      "application/vnd.plotly.v1+json": {
       "config": {
        "plotlyServerURL": "https://plot.ly"
       },
       "data": [
        {
         "cells": {
          "align": [
           "left",
           "center",
           "center",
           "center"
          ],
          "fill": {
           "color": [
            [
             "white",
             "lightgrey",
             "white",
             "lightgrey",
             "white",
             "white",
             "lightgrey",
             "white",
             "lightgrey",
             "white",
             "white",
             "lightgrey",
             "white",
             "lightgrey",
             "white",
             "white",
             "lightgrey",
             "white",
             "lightgrey",
             "white",
             "white",
             "lightgrey",
             "white",
             "lightgrey",
             "white"
            ]
           ]
          },
          "values": [
           [
            "Is there a way to force unique records only?",
            "I saw the posts about the parameter setting that would turn on this table being populated, but my parameters say \"no\", yet I'm seeing user transactions populate in this table.  Where are the settings that would prompt user transactions to populate in AESPION?",
            "Is there a way to reload all the default landing pages, for some reason I have a user that only shows a few, and he has admin rights so they should all be available.....",
            "Has anybody put the stock valuation report (FUNSTVA) on the batch server. \nI was wondering what the file box is used for and if somebody could give me an example path so I have an idea of what would go in there. ",
            "Hi,\nWhy does a purchase receipt take the closed state?"
           ],
           [
            0,
            0,
            0,
            0,
            0
           ],
           [
            1,
            1,
            1,
            1,
            1
           ],
           [
            0,
            0,
            0,
            0,
            0
           ]
          ]
         },
         "columnwidth": [
          300,
          40,
          40,
          40
         ],
         "header": {
          "align": [
           "left",
           "center",
           "center",
           "center"
          ],
          "fill": {
           "color": "#39416C"
          },
          "font": {
           "color": "white",
           "size": 12
          },
          "values": [
           "Forum_Post_Raw",
           "neg",
           "neu",
           "pos"
          ]
         },
         "type": "table"
        }
       ],
       "layout": {
        "height": 400,
        "template": {
         "data": {
          "bar": [
           {
            "error_x": {
             "color": "#2a3f5f"
            },
            "error_y": {
             "color": "#2a3f5f"
            },
            "marker": {
             "line": {
              "color": "#E5ECF6",
              "width": 0.5
             }
            },
            "type": "bar"
           }
          ],
          "barpolar": [
           {
            "marker": {
             "line": {
              "color": "#E5ECF6",
              "width": 0.5
             }
            },
            "type": "barpolar"
           }
          ],
          "carpet": [
           {
            "aaxis": {
             "endlinecolor": "#2a3f5f",
             "gridcolor": "white",
             "linecolor": "white",
             "minorgridcolor": "white",
             "startlinecolor": "#2a3f5f"
            },
            "baxis": {
             "endlinecolor": "#2a3f5f",
             "gridcolor": "white",
             "linecolor": "white",
             "minorgridcolor": "white",
             "startlinecolor": "#2a3f5f"
            },
            "type": "carpet"
           }
          ],
          "choropleth": [
           {
            "colorbar": {
             "outlinewidth": 0,
             "ticks": ""
            },
            "type": "choropleth"
           }
          ],
          "contour": [
           {
            "colorbar": {
             "outlinewidth": 0,
             "ticks": ""
            },
            "colorscale": [
             [
              0,
              "#0d0887"
             ],
             [
              0.1111111111111111,
              "#46039f"
             ],
             [
              0.2222222222222222,
              "#7201a8"
             ],
             [
              0.3333333333333333,
              "#9c179e"
             ],
             [
              0.4444444444444444,
              "#bd3786"
             ],
             [
              0.5555555555555556,
              "#d8576b"
             ],
             [
              0.6666666666666666,
              "#ed7953"
             ],
             [
              0.7777777777777778,
              "#fb9f3a"
             ],
             [
              0.8888888888888888,
              "#fdca26"
             ],
             [
              1,
              "#f0f921"
             ]
            ],
            "type": "contour"
           }
          ],
          "contourcarpet": [
           {
            "colorbar": {
             "outlinewidth": 0,
             "ticks": ""
            },
            "type": "contourcarpet"
           }
          ],
          "heatmap": [
           {
            "colorbar": {
             "outlinewidth": 0,
             "ticks": ""
            },
            "colorscale": [
             [
              0,
              "#0d0887"
             ],
             [
              0.1111111111111111,
              "#46039f"
             ],
             [
              0.2222222222222222,
              "#7201a8"
             ],
             [
              0.3333333333333333,
              "#9c179e"
             ],
             [
              0.4444444444444444,
              "#bd3786"
             ],
             [
              0.5555555555555556,
              "#d8576b"
             ],
             [
              0.6666666666666666,
              "#ed7953"
             ],
             [
              0.7777777777777778,
              "#fb9f3a"
             ],
             [
              0.8888888888888888,
              "#fdca26"
             ],
             [
              1,
              "#f0f921"
             ]
            ],
            "type": "heatmap"
           }
          ],
          "heatmapgl": [
           {
            "colorbar": {
             "outlinewidth": 0,
             "ticks": ""
            },
            "colorscale": [
             [
              0,
              "#0d0887"
             ],
             [
              0.1111111111111111,
              "#46039f"
             ],
             [
              0.2222222222222222,
              "#7201a8"
             ],
             [
              0.3333333333333333,
              "#9c179e"
             ],
             [
              0.4444444444444444,
              "#bd3786"
             ],
             [
              0.5555555555555556,
              "#d8576b"
             ],
             [
              0.6666666666666666,
              "#ed7953"
             ],
             [
              0.7777777777777778,
              "#fb9f3a"
             ],
             [
              0.8888888888888888,
              "#fdca26"
             ],
             [
              1,
              "#f0f921"
             ]
            ],
            "type": "heatmapgl"
           }
          ],
          "histogram": [
           {
            "marker": {
             "colorbar": {
              "outlinewidth": 0,
              "ticks": ""
             }
            },
            "type": "histogram"
           }
          ],
          "histogram2d": [
           {
            "colorbar": {
             "outlinewidth": 0,
             "ticks": ""
            },
            "colorscale": [
             [
              0,
              "#0d0887"
             ],
             [
              0.1111111111111111,
              "#46039f"
             ],
             [
              0.2222222222222222,
              "#7201a8"
             ],
             [
              0.3333333333333333,
              "#9c179e"
             ],
             [
              0.4444444444444444,
              "#bd3786"
             ],
             [
              0.5555555555555556,
              "#d8576b"
             ],
             [
              0.6666666666666666,
              "#ed7953"
             ],
             [
              0.7777777777777778,
              "#fb9f3a"
             ],
             [
              0.8888888888888888,
              "#fdca26"
             ],
             [
              1,
              "#f0f921"
             ]
            ],
            "type": "histogram2d"
           }
          ],
          "histogram2dcontour": [
           {
            "colorbar": {
             "outlinewidth": 0,
             "ticks": ""
            },
            "colorscale": [
             [
              0,
              "#0d0887"
             ],
             [
              0.1111111111111111,
              "#46039f"
             ],
             [
              0.2222222222222222,
              "#7201a8"
             ],
             [
              0.3333333333333333,
              "#9c179e"
             ],
             [
              0.4444444444444444,
              "#bd3786"
             ],
             [
              0.5555555555555556,
              "#d8576b"
             ],
             [
              0.6666666666666666,
              "#ed7953"
             ],
             [
              0.7777777777777778,
              "#fb9f3a"
             ],
             [
              0.8888888888888888,
              "#fdca26"
             ],
             [
              1,
              "#f0f921"
             ]
            ],
            "type": "histogram2dcontour"
           }
          ],
          "mesh3d": [
           {
            "colorbar": {
             "outlinewidth": 0,
             "ticks": ""
            },
            "type": "mesh3d"
           }
          ],
          "parcoords": [
           {
            "line": {
             "colorbar": {
              "outlinewidth": 0,
              "ticks": ""
             }
            },
            "type": "parcoords"
           }
          ],
          "pie": [
           {
            "automargin": true,
            "type": "pie"
           }
          ],
          "scatter": [
           {
            "marker": {
             "colorbar": {
              "outlinewidth": 0,
              "ticks": ""
             }
            },
            "type": "scatter"
           }
          ],
          "scatter3d": [
           {
            "line": {
             "colorbar": {
              "outlinewidth": 0,
              "ticks": ""
             }
            },
            "marker": {
             "colorbar": {
              "outlinewidth": 0,
              "ticks": ""
             }
            },
            "type": "scatter3d"
           }
          ],
          "scattercarpet": [
           {
            "marker": {
             "colorbar": {
              "outlinewidth": 0,
              "ticks": ""
             }
            },
            "type": "scattercarpet"
           }
          ],
          "scattergeo": [
           {
            "marker": {
             "colorbar": {
              "outlinewidth": 0,
              "ticks": ""
             }
            },
            "type": "scattergeo"
           }
          ],
          "scattergl": [
           {
            "marker": {
             "colorbar": {
              "outlinewidth": 0,
              "ticks": ""
             }
            },
            "type": "scattergl"
           }
          ],
          "scattermapbox": [
           {
            "marker": {
             "colorbar": {
              "outlinewidth": 0,
              "ticks": ""
             }
            },
            "type": "scattermapbox"
           }
          ],
          "scatterpolar": [
           {
            "marker": {
             "colorbar": {
              "outlinewidth": 0,
              "ticks": ""
             }
            },
            "type": "scatterpolar"
           }
          ],
          "scatterpolargl": [
           {
            "marker": {
             "colorbar": {
              "outlinewidth": 0,
              "ticks": ""
             }
            },
            "type": "scatterpolargl"
           }
          ],
          "scatterternary": [
           {
            "marker": {
             "colorbar": {
              "outlinewidth": 0,
              "ticks": ""
             }
            },
            "type": "scatterternary"
           }
          ],
          "surface": [
           {
            "colorbar": {
             "outlinewidth": 0,
             "ticks": ""
            },
            "colorscale": [
             [
              0,
              "#0d0887"
             ],
             [
              0.1111111111111111,
              "#46039f"
             ],
             [
              0.2222222222222222,
              "#7201a8"
             ],
             [
              0.3333333333333333,
              "#9c179e"
             ],
             [
              0.4444444444444444,
              "#bd3786"
             ],
             [
              0.5555555555555556,
              "#d8576b"
             ],
             [
              0.6666666666666666,
              "#ed7953"
             ],
             [
              0.7777777777777778,
              "#fb9f3a"
             ],
             [
              0.8888888888888888,
              "#fdca26"
             ],
             [
              1,
              "#f0f921"
             ]
            ],
            "type": "surface"
           }
          ],
          "table": [
           {
            "cells": {
             "fill": {
              "color": "#EBF0F8"
             },
             "line": {
              "color": "white"
             }
            },
            "header": {
             "fill": {
              "color": "#C8D4E3"
             },
             "line": {
              "color": "white"
             }
            },
            "type": "table"
           }
          ]
         },
         "layout": {
          "annotationdefaults": {
           "arrowcolor": "#2a3f5f",
           "arrowhead": 0,
           "arrowwidth": 1
          },
          "autotypenumbers": "strict",
          "coloraxis": {
           "colorbar": {
            "outlinewidth": 0,
            "ticks": ""
           }
          },
          "colorscale": {
           "diverging": [
            [
             0,
             "#8e0152"
            ],
            [
             0.1,
             "#c51b7d"
            ],
            [
             0.2,
             "#de77ae"
            ],
            [
             0.3,
             "#f1b6da"
            ],
            [
             0.4,
             "#fde0ef"
            ],
            [
             0.5,
             "#f7f7f7"
            ],
            [
             0.6,
             "#e6f5d0"
            ],
            [
             0.7,
             "#b8e186"
            ],
            [
             0.8,
             "#7fbc41"
            ],
            [
             0.9,
             "#4d9221"
            ],
            [
             1,
             "#276419"
            ]
           ],
           "sequential": [
            [
             0,
             "#0d0887"
            ],
            [
             0.1111111111111111,
             "#46039f"
            ],
            [
             0.2222222222222222,
             "#7201a8"
            ],
            [
             0.3333333333333333,
             "#9c179e"
            ],
            [
             0.4444444444444444,
             "#bd3786"
            ],
            [
             0.5555555555555556,
             "#d8576b"
            ],
            [
             0.6666666666666666,
             "#ed7953"
            ],
            [
             0.7777777777777778,
             "#fb9f3a"
            ],
            [
             0.8888888888888888,
             "#fdca26"
            ],
            [
             1,
             "#f0f921"
            ]
           ],
           "sequentialminus": [
            [
             0,
             "#0d0887"
            ],
            [
             0.1111111111111111,
             "#46039f"
            ],
            [
             0.2222222222222222,
             "#7201a8"
            ],
            [
             0.3333333333333333,
             "#9c179e"
            ],
            [
             0.4444444444444444,
             "#bd3786"
            ],
            [
             0.5555555555555556,
             "#d8576b"
            ],
            [
             0.6666666666666666,
             "#ed7953"
            ],
            [
             0.7777777777777778,
             "#fb9f3a"
            ],
            [
             0.8888888888888888,
             "#fdca26"
            ],
            [
             1,
             "#f0f921"
            ]
           ]
          },
          "colorway": [
           "#636efa",
           "#EF553B",
           "#00cc96",
           "#ab63fa",
           "#FFA15A",
           "#19d3f3",
           "#FF6692",
           "#B6E880",
           "#FF97FF",
           "#FECB52"
          ],
          "font": {
           "color": "#2a3f5f"
          },
          "geo": {
           "bgcolor": "white",
           "lakecolor": "white",
           "landcolor": "#E5ECF6",
           "showlakes": true,
           "showland": true,
           "subunitcolor": "white"
          },
          "hoverlabel": {
           "align": "left"
          },
          "hovermode": "closest",
          "mapbox": {
           "style": "light"
          },
          "paper_bgcolor": "white",
          "plot_bgcolor": "#E5ECF6",
          "polar": {
           "angularaxis": {
            "gridcolor": "white",
            "linecolor": "white",
            "ticks": ""
           },
           "bgcolor": "#E5ECF6",
           "radialaxis": {
            "gridcolor": "white",
            "linecolor": "white",
            "ticks": ""
           }
          },
          "scene": {
           "xaxis": {
            "backgroundcolor": "#E5ECF6",
            "gridcolor": "white",
            "gridwidth": 2,
            "linecolor": "white",
            "showbackground": true,
            "ticks": "",
            "zerolinecolor": "white"
           },
           "yaxis": {
            "backgroundcolor": "#E5ECF6",
            "gridcolor": "white",
            "gridwidth": 2,
            "linecolor": "white",
            "showbackground": true,
            "ticks": "",
            "zerolinecolor": "white"
           },
           "zaxis": {
            "backgroundcolor": "#E5ECF6",
            "gridcolor": "white",
            "gridwidth": 2,
            "linecolor": "white",
            "showbackground": true,
            "ticks": "",
            "zerolinecolor": "white"
           }
          },
          "shapedefaults": {
           "line": {
            "color": "#2a3f5f"
           }
          },
          "ternary": {
           "aaxis": {
            "gridcolor": "white",
            "linecolor": "white",
            "ticks": ""
           },
           "baxis": {
            "gridcolor": "white",
            "linecolor": "white",
            "ticks": ""
           },
           "bgcolor": "#E5ECF6",
           "caxis": {
            "gridcolor": "white",
            "linecolor": "white",
            "ticks": ""
           }
          },
          "title": {
           "x": 0.05
          },
          "xaxis": {
           "automargin": true,
           "gridcolor": "white",
           "linecolor": "white",
           "ticks": "",
           "title": {
            "standoff": 15
           },
           "zerolinecolor": "white",
           "zerolinewidth": 2
          },
          "yaxis": {
           "automargin": true,
           "gridcolor": "white",
           "linecolor": "white",
           "ticks": "",
           "title": {
            "standoff": 15
           },
           "zerolinecolor": "white",
           "zerolinewidth": 2
          }
         }
        },
        "title": {
         "text": "Neutral"
        },
        "width": 1000
       }
      },
      "text/html": [
       "<div>                            <div id=\"5362d14f-5331-41b4-b16c-40a6563f3b44\" class=\"plotly-graph-div\" style=\"height:400px; width:1000px;\"></div>            <script type=\"text/javascript\">                require([\"plotly\"], function(Plotly) {                    window.PLOTLYENV=window.PLOTLYENV || {};                                    if (document.getElementById(\"5362d14f-5331-41b4-b16c-40a6563f3b44\")) {                    Plotly.newPlot(                        \"5362d14f-5331-41b4-b16c-40a6563f3b44\",                        [{\"cells\": {\"align\": [\"left\", \"center\", \"center\", \"center\"], \"fill\": {\"color\": [[\"white\", \"lightgrey\", \"white\", \"lightgrey\", \"white\", \"white\", \"lightgrey\", \"white\", \"lightgrey\", \"white\", \"white\", \"lightgrey\", \"white\", \"lightgrey\", \"white\", \"white\", \"lightgrey\", \"white\", \"lightgrey\", \"white\", \"white\", \"lightgrey\", \"white\", \"lightgrey\", \"white\"]]}, \"values\": [[\"Is there a way to force unique records only?\", \"I saw the posts about the parameter setting that would turn on this table being populated, but my parameters say \\\"no\\\", yet I'm seeing user transactions populate in this table.\\u00a0 Where are the settings that would prompt user transactions to populate in\\u00a0AESPION?\", \"Is there a way to reload all the default landing pages, for some reason I have a user that only shows a few, and he has admin rights so they should all be available.....\", \"Has anybody put the stock valuation report (FUNSTVA) on the batch server.\\u00a0\\nI was wondering what the file box is used for and if somebody could give me an example path so I have an idea of what would go in there.\\u00a0\", \"Hi,\\nWhy does a purchase receipt take the closed state?\"], [0.0, 0.0, 0.0, 0.0, 0.0], [1.0, 1.0, 1.0, 1.0, 1.0], [0.0, 0.0, 0.0, 0.0, 0.0]]}, \"columnwidth\": [300, 40, 40, 40], \"header\": {\"align\": [\"left\", \"center\", \"center\", \"center\"], \"fill\": {\"color\": \"#39416C\"}, \"font\": {\"color\": \"white\", \"size\": 12}, \"values\": [\"Forum_Post_Raw\", \"neg\", \"neu\", \"pos\"]}, \"type\": \"table\"}],                        {\"height\": 400, \"template\": {\"data\": {\"bar\": [{\"error_x\": {\"color\": \"#2a3f5f\"}, \"error_y\": {\"color\": \"#2a3f5f\"}, \"marker\": {\"line\": {\"color\": \"#E5ECF6\", \"width\": 0.5}}, \"type\": \"bar\"}], \"barpolar\": [{\"marker\": {\"line\": {\"color\": \"#E5ECF6\", \"width\": 0.5}}, \"type\": \"barpolar\"}], \"carpet\": [{\"aaxis\": {\"endlinecolor\": \"#2a3f5f\", \"gridcolor\": \"white\", \"linecolor\": \"white\", \"minorgridcolor\": \"white\", \"startlinecolor\": \"#2a3f5f\"}, \"baxis\": {\"endlinecolor\": \"#2a3f5f\", \"gridcolor\": \"white\", \"linecolor\": \"white\", \"minorgridcolor\": \"white\", \"startlinecolor\": \"#2a3f5f\"}, \"type\": \"carpet\"}], \"choropleth\": [{\"colorbar\": {\"outlinewidth\": 0, \"ticks\": \"\"}, \"type\": \"choropleth\"}], \"contour\": [{\"colorbar\": {\"outlinewidth\": 0, \"ticks\": \"\"}, \"colorscale\": [[0.0, \"#0d0887\"], [0.1111111111111111, \"#46039f\"], [0.2222222222222222, \"#7201a8\"], [0.3333333333333333, \"#9c179e\"], [0.4444444444444444, \"#bd3786\"], [0.5555555555555556, \"#d8576b\"], [0.6666666666666666, \"#ed7953\"], [0.7777777777777778, \"#fb9f3a\"], [0.8888888888888888, \"#fdca26\"], [1.0, \"#f0f921\"]], \"type\": \"contour\"}], \"contourcarpet\": [{\"colorbar\": {\"outlinewidth\": 0, \"ticks\": \"\"}, \"type\": \"contourcarpet\"}], \"heatmap\": [{\"colorbar\": {\"outlinewidth\": 0, \"ticks\": \"\"}, \"colorscale\": [[0.0, \"#0d0887\"], [0.1111111111111111, \"#46039f\"], [0.2222222222222222, \"#7201a8\"], [0.3333333333333333, \"#9c179e\"], [0.4444444444444444, \"#bd3786\"], [0.5555555555555556, \"#d8576b\"], [0.6666666666666666, \"#ed7953\"], [0.7777777777777778, \"#fb9f3a\"], [0.8888888888888888, \"#fdca26\"], [1.0, \"#f0f921\"]], \"type\": \"heatmap\"}], \"heatmapgl\": [{\"colorbar\": {\"outlinewidth\": 0, \"ticks\": \"\"}, \"colorscale\": [[0.0, \"#0d0887\"], [0.1111111111111111, \"#46039f\"], [0.2222222222222222, \"#7201a8\"], [0.3333333333333333, \"#9c179e\"], [0.4444444444444444, \"#bd3786\"], [0.5555555555555556, \"#d8576b\"], [0.6666666666666666, \"#ed7953\"], [0.7777777777777778, \"#fb9f3a\"], [0.8888888888888888, \"#fdca26\"], [1.0, \"#f0f921\"]], \"type\": \"heatmapgl\"}], \"histogram\": [{\"marker\": {\"colorbar\": {\"outlinewidth\": 0, \"ticks\": \"\"}}, \"type\": \"histogram\"}], \"histogram2d\": [{\"colorbar\": {\"outlinewidth\": 0, \"ticks\": \"\"}, \"colorscale\": [[0.0, \"#0d0887\"], [0.1111111111111111, \"#46039f\"], [0.2222222222222222, \"#7201a8\"], [0.3333333333333333, \"#9c179e\"], [0.4444444444444444, \"#bd3786\"], [0.5555555555555556, \"#d8576b\"], [0.6666666666666666, \"#ed7953\"], [0.7777777777777778, \"#fb9f3a\"], [0.8888888888888888, \"#fdca26\"], [1.0, \"#f0f921\"]], \"type\": \"histogram2d\"}], \"histogram2dcontour\": [{\"colorbar\": {\"outlinewidth\": 0, \"ticks\": \"\"}, \"colorscale\": [[0.0, \"#0d0887\"], [0.1111111111111111, \"#46039f\"], [0.2222222222222222, \"#7201a8\"], [0.3333333333333333, \"#9c179e\"], [0.4444444444444444, \"#bd3786\"], [0.5555555555555556, \"#d8576b\"], [0.6666666666666666, \"#ed7953\"], [0.7777777777777778, \"#fb9f3a\"], [0.8888888888888888, \"#fdca26\"], [1.0, \"#f0f921\"]], \"type\": \"histogram2dcontour\"}], \"mesh3d\": [{\"colorbar\": {\"outlinewidth\": 0, \"ticks\": \"\"}, \"type\": \"mesh3d\"}], \"parcoords\": [{\"line\": {\"colorbar\": {\"outlinewidth\": 0, \"ticks\": \"\"}}, \"type\": \"parcoords\"}], \"pie\": [{\"automargin\": true, \"type\": \"pie\"}], \"scatter\": [{\"marker\": {\"colorbar\": {\"outlinewidth\": 0, \"ticks\": \"\"}}, \"type\": \"scatter\"}], \"scatter3d\": [{\"line\": {\"colorbar\": {\"outlinewidth\": 0, \"ticks\": \"\"}}, \"marker\": {\"colorbar\": {\"outlinewidth\": 0, \"ticks\": \"\"}}, \"type\": \"scatter3d\"}], \"scattercarpet\": [{\"marker\": {\"colorbar\": {\"outlinewidth\": 0, \"ticks\": \"\"}}, \"type\": \"scattercarpet\"}], \"scattergeo\": [{\"marker\": {\"colorbar\": {\"outlinewidth\": 0, \"ticks\": \"\"}}, \"type\": \"scattergeo\"}], \"scattergl\": [{\"marker\": {\"colorbar\": {\"outlinewidth\": 0, \"ticks\": \"\"}}, \"type\": \"scattergl\"}], \"scattermapbox\": [{\"marker\": {\"colorbar\": {\"outlinewidth\": 0, \"ticks\": \"\"}}, \"type\": \"scattermapbox\"}], \"scatterpolar\": [{\"marker\": {\"colorbar\": {\"outlinewidth\": 0, \"ticks\": \"\"}}, \"type\": \"scatterpolar\"}], \"scatterpolargl\": [{\"marker\": {\"colorbar\": {\"outlinewidth\": 0, \"ticks\": \"\"}}, \"type\": \"scatterpolargl\"}], \"scatterternary\": [{\"marker\": {\"colorbar\": {\"outlinewidth\": 0, \"ticks\": \"\"}}, \"type\": \"scatterternary\"}], \"surface\": [{\"colorbar\": {\"outlinewidth\": 0, \"ticks\": \"\"}, \"colorscale\": [[0.0, \"#0d0887\"], [0.1111111111111111, \"#46039f\"], [0.2222222222222222, \"#7201a8\"], [0.3333333333333333, \"#9c179e\"], [0.4444444444444444, \"#bd3786\"], [0.5555555555555556, \"#d8576b\"], [0.6666666666666666, \"#ed7953\"], [0.7777777777777778, \"#fb9f3a\"], [0.8888888888888888, \"#fdca26\"], [1.0, \"#f0f921\"]], \"type\": \"surface\"}], \"table\": [{\"cells\": {\"fill\": {\"color\": \"#EBF0F8\"}, \"line\": {\"color\": \"white\"}}, \"header\": {\"fill\": {\"color\": \"#C8D4E3\"}, \"line\": {\"color\": \"white\"}}, \"type\": \"table\"}]}, \"layout\": {\"annotationdefaults\": {\"arrowcolor\": \"#2a3f5f\", \"arrowhead\": 0, \"arrowwidth\": 1}, \"autotypenumbers\": \"strict\", \"coloraxis\": {\"colorbar\": {\"outlinewidth\": 0, \"ticks\": \"\"}}, \"colorscale\": {\"diverging\": [[0, \"#8e0152\"], [0.1, \"#c51b7d\"], [0.2, \"#de77ae\"], [0.3, \"#f1b6da\"], [0.4, \"#fde0ef\"], [0.5, \"#f7f7f7\"], [0.6, \"#e6f5d0\"], [0.7, \"#b8e186\"], [0.8, \"#7fbc41\"], [0.9, \"#4d9221\"], [1, \"#276419\"]], \"sequential\": [[0.0, \"#0d0887\"], [0.1111111111111111, \"#46039f\"], [0.2222222222222222, \"#7201a8\"], [0.3333333333333333, \"#9c179e\"], [0.4444444444444444, \"#bd3786\"], [0.5555555555555556, \"#d8576b\"], [0.6666666666666666, \"#ed7953\"], [0.7777777777777778, \"#fb9f3a\"], [0.8888888888888888, \"#fdca26\"], [1.0, \"#f0f921\"]], \"sequentialminus\": [[0.0, \"#0d0887\"], [0.1111111111111111, \"#46039f\"], [0.2222222222222222, \"#7201a8\"], [0.3333333333333333, \"#9c179e\"], [0.4444444444444444, \"#bd3786\"], [0.5555555555555556, \"#d8576b\"], [0.6666666666666666, \"#ed7953\"], [0.7777777777777778, \"#fb9f3a\"], [0.8888888888888888, \"#fdca26\"], [1.0, \"#f0f921\"]]}, \"colorway\": [\"#636efa\", \"#EF553B\", \"#00cc96\", \"#ab63fa\", \"#FFA15A\", \"#19d3f3\", \"#FF6692\", \"#B6E880\", \"#FF97FF\", \"#FECB52\"], \"font\": {\"color\": \"#2a3f5f\"}, \"geo\": {\"bgcolor\": \"white\", \"lakecolor\": \"white\", \"landcolor\": \"#E5ECF6\", \"showlakes\": true, \"showland\": true, \"subunitcolor\": \"white\"}, \"hoverlabel\": {\"align\": \"left\"}, \"hovermode\": \"closest\", \"mapbox\": {\"style\": \"light\"}, \"paper_bgcolor\": \"white\", \"plot_bgcolor\": \"#E5ECF6\", \"polar\": {\"angularaxis\": {\"gridcolor\": \"white\", \"linecolor\": \"white\", \"ticks\": \"\"}, \"bgcolor\": \"#E5ECF6\", \"radialaxis\": {\"gridcolor\": \"white\", \"linecolor\": \"white\", \"ticks\": \"\"}}, \"scene\": {\"xaxis\": {\"backgroundcolor\": \"#E5ECF6\", \"gridcolor\": \"white\", \"gridwidth\": 2, \"linecolor\": \"white\", \"showbackground\": true, \"ticks\": \"\", \"zerolinecolor\": \"white\"}, \"yaxis\": {\"backgroundcolor\": \"#E5ECF6\", \"gridcolor\": \"white\", \"gridwidth\": 2, \"linecolor\": \"white\", \"showbackground\": true, \"ticks\": \"\", \"zerolinecolor\": \"white\"}, \"zaxis\": {\"backgroundcolor\": \"#E5ECF6\", \"gridcolor\": \"white\", \"gridwidth\": 2, \"linecolor\": \"white\", \"showbackground\": true, \"ticks\": \"\", \"zerolinecolor\": \"white\"}}, \"shapedefaults\": {\"line\": {\"color\": \"#2a3f5f\"}}, \"ternary\": {\"aaxis\": {\"gridcolor\": \"white\", \"linecolor\": \"white\", \"ticks\": \"\"}, \"baxis\": {\"gridcolor\": \"white\", \"linecolor\": \"white\", \"ticks\": \"\"}, \"bgcolor\": \"#E5ECF6\", \"caxis\": {\"gridcolor\": \"white\", \"linecolor\": \"white\", \"ticks\": \"\"}}, \"title\": {\"x\": 0.05}, \"xaxis\": {\"automargin\": true, \"gridcolor\": \"white\", \"linecolor\": \"white\", \"ticks\": \"\", \"title\": {\"standoff\": 15}, \"zerolinecolor\": \"white\", \"zerolinewidth\": 2}, \"yaxis\": {\"automargin\": true, \"gridcolor\": \"white\", \"linecolor\": \"white\", \"ticks\": \"\", \"title\": {\"standoff\": 15}, \"zerolinecolor\": \"white\", \"zerolinewidth\": 2}}}, \"title\": {\"text\": \"Neutral\"}, \"width\": 1000},                        {\"responsive\": true}                    ).then(function(){\n",
       "                            \n",
       "var gd = document.getElementById('5362d14f-5331-41b4-b16c-40a6563f3b44');\n",
       "var x = new MutationObserver(function (mutations, observer) {{\n",
       "        var display = window.getComputedStyle(gd).display;\n",
       "        if (!display || display === 'none') {{\n",
       "            console.log([gd, 'removed!']);\n",
       "            Plotly.purge(gd);\n",
       "            observer.disconnect();\n",
       "        }}\n",
       "}});\n",
       "\n",
       "// Listen for the removal of the full notebook cells\n",
       "var notebookContainer = gd.closest('#notebook-container');\n",
       "if (notebookContainer) {{\n",
       "    x.observe(notebookContainer, {childList: true});\n",
       "}}\n",
       "\n",
       "// Listen for the clearing of the current output cell\n",
       "var outputEl = gd.closest('.output');\n",
       "if (outputEl) {{\n",
       "    x.observe(outputEl, {childList: true});\n",
       "}}\n",
       "\n",
       "                        })                };                });            </script>        </div>"
      ]
     },
     "metadata": {},
     "output_type": "display_data"
    },
    {
     "data": {
      "application/vnd.plotly.v1+json": {
       "config": {
        "plotlyServerURL": "https://plot.ly"
       },
       "data": [
        {
         "cells": {
          "align": [
           "left",
           "center",
           "center",
           "center"
          ],
          "fill": {
           "color": [
            [
             "white",
             "lightgrey",
             "white",
             "lightgrey",
             "white",
             "white",
             "lightgrey",
             "white",
             "lightgrey",
             "white",
             "white",
             "lightgrey",
             "white",
             "lightgrey",
             "white",
             "white",
             "lightgrey",
             "white",
             "lightgrey",
             "white",
             "white",
             "lightgrey",
             "white",
             "lightgrey",
             "white"
            ]
           ]
          },
          "values": [
           [
            "Has anyone created an import template for overseas containers?  Thanks!",
            "Hello All,\nHappy new year.\nPlease i notice on payment screen E.g Bank transfer - if i try to search for a transaction using amount field i get an error message. \nPlease kindly find screen shot below..\n\n\nPlease help.\n\nThank you.",
            "Hi Everyone! Wish you all an great 2021!\nI'm new to SAGE X3.\nHow can I refresh a query on \"landing page\"?\nI've tried with parameters \"portview\" and \"frequency\" but no success. \n\nAm I using the parameters correctly?\nThank you, for your help.\nBest regards,\nDaniel",
            "\n\nI have a problem in the transport counter despite the counter has been well created and well affect the counter allocation level, thank you for helping me to find a solution\n\n\n",
            "EAM JOB CARD Error occurs when trying to save on step 4 'Create transactions'\nPlease advise\n\n'"
           ],
           [
            0,
            0.054,
            0.045,
            0.073,
            0.127
           ],
           [
            0.606,
            0.563,
            0.583,
            0.569,
            0.516
           ],
           [
            0.394,
            0.382,
            0.372,
            0.358,
            0.357
           ]
          ]
         },
         "columnwidth": [
          300,
          40,
          40,
          40
         ],
         "header": {
          "align": [
           "left",
           "center",
           "center",
           "center"
          ],
          "fill": {
           "color": "#39416C"
          },
          "font": {
           "color": "white",
           "size": 12
          },
          "values": [
           "Forum_Post_Raw",
           "neg",
           "neu",
           "pos"
          ]
         },
         "type": "table"
        }
       ],
       "layout": {
        "height": 400,
        "template": {
         "data": {
          "bar": [
           {
            "error_x": {
             "color": "#2a3f5f"
            },
            "error_y": {
             "color": "#2a3f5f"
            },
            "marker": {
             "line": {
              "color": "#E5ECF6",
              "width": 0.5
             }
            },
            "type": "bar"
           }
          ],
          "barpolar": [
           {
            "marker": {
             "line": {
              "color": "#E5ECF6",
              "width": 0.5
             }
            },
            "type": "barpolar"
           }
          ],
          "carpet": [
           {
            "aaxis": {
             "endlinecolor": "#2a3f5f",
             "gridcolor": "white",
             "linecolor": "white",
             "minorgridcolor": "white",
             "startlinecolor": "#2a3f5f"
            },
            "baxis": {
             "endlinecolor": "#2a3f5f",
             "gridcolor": "white",
             "linecolor": "white",
             "minorgridcolor": "white",
             "startlinecolor": "#2a3f5f"
            },
            "type": "carpet"
           }
          ],
          "choropleth": [
           {
            "colorbar": {
             "outlinewidth": 0,
             "ticks": ""
            },
            "type": "choropleth"
           }
          ],
          "contour": [
           {
            "colorbar": {
             "outlinewidth": 0,
             "ticks": ""
            },
            "colorscale": [
             [
              0,
              "#0d0887"
             ],
             [
              0.1111111111111111,
              "#46039f"
             ],
             [
              0.2222222222222222,
              "#7201a8"
             ],
             [
              0.3333333333333333,
              "#9c179e"
             ],
             [
              0.4444444444444444,
              "#bd3786"
             ],
             [
              0.5555555555555556,
              "#d8576b"
             ],
             [
              0.6666666666666666,
              "#ed7953"
             ],
             [
              0.7777777777777778,
              "#fb9f3a"
             ],
             [
              0.8888888888888888,
              "#fdca26"
             ],
             [
              1,
              "#f0f921"
             ]
            ],
            "type": "contour"
           }
          ],
          "contourcarpet": [
           {
            "colorbar": {
             "outlinewidth": 0,
             "ticks": ""
            },
            "type": "contourcarpet"
           }
          ],
          "heatmap": [
           {
            "colorbar": {
             "outlinewidth": 0,
             "ticks": ""
            },
            "colorscale": [
             [
              0,
              "#0d0887"
             ],
             [
              0.1111111111111111,
              "#46039f"
             ],
             [
              0.2222222222222222,
              "#7201a8"
             ],
             [
              0.3333333333333333,
              "#9c179e"
             ],
             [
              0.4444444444444444,
              "#bd3786"
             ],
             [
              0.5555555555555556,
              "#d8576b"
             ],
             [
              0.6666666666666666,
              "#ed7953"
             ],
             [
              0.7777777777777778,
              "#fb9f3a"
             ],
             [
              0.8888888888888888,
              "#fdca26"
             ],
             [
              1,
              "#f0f921"
             ]
            ],
            "type": "heatmap"
           }
          ],
          "heatmapgl": [
           {
            "colorbar": {
             "outlinewidth": 0,
             "ticks": ""
            },
            "colorscale": [
             [
              0,
              "#0d0887"
             ],
             [
              0.1111111111111111,
              "#46039f"
             ],
             [
              0.2222222222222222,
              "#7201a8"
             ],
             [
              0.3333333333333333,
              "#9c179e"
             ],
             [
              0.4444444444444444,
              "#bd3786"
             ],
             [
              0.5555555555555556,
              "#d8576b"
             ],
             [
              0.6666666666666666,
              "#ed7953"
             ],
             [
              0.7777777777777778,
              "#fb9f3a"
             ],
             [
              0.8888888888888888,
              "#fdca26"
             ],
             [
              1,
              "#f0f921"
             ]
            ],
            "type": "heatmapgl"
           }
          ],
          "histogram": [
           {
            "marker": {
             "colorbar": {
              "outlinewidth": 0,
              "ticks": ""
             }
            },
            "type": "histogram"
           }
          ],
          "histogram2d": [
           {
            "colorbar": {
             "outlinewidth": 0,
             "ticks": ""
            },
            "colorscale": [
             [
              0,
              "#0d0887"
             ],
             [
              0.1111111111111111,
              "#46039f"
             ],
             [
              0.2222222222222222,
              "#7201a8"
             ],
             [
              0.3333333333333333,
              "#9c179e"
             ],
             [
              0.4444444444444444,
              "#bd3786"
             ],
             [
              0.5555555555555556,
              "#d8576b"
             ],
             [
              0.6666666666666666,
              "#ed7953"
             ],
             [
              0.7777777777777778,
              "#fb9f3a"
             ],
             [
              0.8888888888888888,
              "#fdca26"
             ],
             [
              1,
              "#f0f921"
             ]
            ],
            "type": "histogram2d"
           }
          ],
          "histogram2dcontour": [
           {
            "colorbar": {
             "outlinewidth": 0,
             "ticks": ""
            },
            "colorscale": [
             [
              0,
              "#0d0887"
             ],
             [
              0.1111111111111111,
              "#46039f"
             ],
             [
              0.2222222222222222,
              "#7201a8"
             ],
             [
              0.3333333333333333,
              "#9c179e"
             ],
             [
              0.4444444444444444,
              "#bd3786"
             ],
             [
              0.5555555555555556,
              "#d8576b"
             ],
             [
              0.6666666666666666,
              "#ed7953"
             ],
             [
              0.7777777777777778,
              "#fb9f3a"
             ],
             [
              0.8888888888888888,
              "#fdca26"
             ],
             [
              1,
              "#f0f921"
             ]
            ],
            "type": "histogram2dcontour"
           }
          ],
          "mesh3d": [
           {
            "colorbar": {
             "outlinewidth": 0,
             "ticks": ""
            },
            "type": "mesh3d"
           }
          ],
          "parcoords": [
           {
            "line": {
             "colorbar": {
              "outlinewidth": 0,
              "ticks": ""
             }
            },
            "type": "parcoords"
           }
          ],
          "pie": [
           {
            "automargin": true,
            "type": "pie"
           }
          ],
          "scatter": [
           {
            "marker": {
             "colorbar": {
              "outlinewidth": 0,
              "ticks": ""
             }
            },
            "type": "scatter"
           }
          ],
          "scatter3d": [
           {
            "line": {
             "colorbar": {
              "outlinewidth": 0,
              "ticks": ""
             }
            },
            "marker": {
             "colorbar": {
              "outlinewidth": 0,
              "ticks": ""
             }
            },
            "type": "scatter3d"
           }
          ],
          "scattercarpet": [
           {
            "marker": {
             "colorbar": {
              "outlinewidth": 0,
              "ticks": ""
             }
            },
            "type": "scattercarpet"
           }
          ],
          "scattergeo": [
           {
            "marker": {
             "colorbar": {
              "outlinewidth": 0,
              "ticks": ""
             }
            },
            "type": "scattergeo"
           }
          ],
          "scattergl": [
           {
            "marker": {
             "colorbar": {
              "outlinewidth": 0,
              "ticks": ""
             }
            },
            "type": "scattergl"
           }
          ],
          "scattermapbox": [
           {
            "marker": {
             "colorbar": {
              "outlinewidth": 0,
              "ticks": ""
             }
            },
            "type": "scattermapbox"
           }
          ],
          "scatterpolar": [
           {
            "marker": {
             "colorbar": {
              "outlinewidth": 0,
              "ticks": ""
             }
            },
            "type": "scatterpolar"
           }
          ],
          "scatterpolargl": [
           {
            "marker": {
             "colorbar": {
              "outlinewidth": 0,
              "ticks": ""
             }
            },
            "type": "scatterpolargl"
           }
          ],
          "scatterternary": [
           {
            "marker": {
             "colorbar": {
              "outlinewidth": 0,
              "ticks": ""
             }
            },
            "type": "scatterternary"
           }
          ],
          "surface": [
           {
            "colorbar": {
             "outlinewidth": 0,
             "ticks": ""
            },
            "colorscale": [
             [
              0,
              "#0d0887"
             ],
             [
              0.1111111111111111,
              "#46039f"
             ],
             [
              0.2222222222222222,
              "#7201a8"
             ],
             [
              0.3333333333333333,
              "#9c179e"
             ],
             [
              0.4444444444444444,
              "#bd3786"
             ],
             [
              0.5555555555555556,
              "#d8576b"
             ],
             [
              0.6666666666666666,
              "#ed7953"
             ],
             [
              0.7777777777777778,
              "#fb9f3a"
             ],
             [
              0.8888888888888888,
              "#fdca26"
             ],
             [
              1,
              "#f0f921"
             ]
            ],
            "type": "surface"
           }
          ],
          "table": [
           {
            "cells": {
             "fill": {
              "color": "#EBF0F8"
             },
             "line": {
              "color": "white"
             }
            },
            "header": {
             "fill": {
              "color": "#C8D4E3"
             },
             "line": {
              "color": "white"
             }
            },
            "type": "table"
           }
          ]
         },
         "layout": {
          "annotationdefaults": {
           "arrowcolor": "#2a3f5f",
           "arrowhead": 0,
           "arrowwidth": 1
          },
          "autotypenumbers": "strict",
          "coloraxis": {
           "colorbar": {
            "outlinewidth": 0,
            "ticks": ""
           }
          },
          "colorscale": {
           "diverging": [
            [
             0,
             "#8e0152"
            ],
            [
             0.1,
             "#c51b7d"
            ],
            [
             0.2,
             "#de77ae"
            ],
            [
             0.3,
             "#f1b6da"
            ],
            [
             0.4,
             "#fde0ef"
            ],
            [
             0.5,
             "#f7f7f7"
            ],
            [
             0.6,
             "#e6f5d0"
            ],
            [
             0.7,
             "#b8e186"
            ],
            [
             0.8,
             "#7fbc41"
            ],
            [
             0.9,
             "#4d9221"
            ],
            [
             1,
             "#276419"
            ]
           ],
           "sequential": [
            [
             0,
             "#0d0887"
            ],
            [
             0.1111111111111111,
             "#46039f"
            ],
            [
             0.2222222222222222,
             "#7201a8"
            ],
            [
             0.3333333333333333,
             "#9c179e"
            ],
            [
             0.4444444444444444,
             "#bd3786"
            ],
            [
             0.5555555555555556,
             "#d8576b"
            ],
            [
             0.6666666666666666,
             "#ed7953"
            ],
            [
             0.7777777777777778,
             "#fb9f3a"
            ],
            [
             0.8888888888888888,
             "#fdca26"
            ],
            [
             1,
             "#f0f921"
            ]
           ],
           "sequentialminus": [
            [
             0,
             "#0d0887"
            ],
            [
             0.1111111111111111,
             "#46039f"
            ],
            [
             0.2222222222222222,
             "#7201a8"
            ],
            [
             0.3333333333333333,
             "#9c179e"
            ],
            [
             0.4444444444444444,
             "#bd3786"
            ],
            [
             0.5555555555555556,
             "#d8576b"
            ],
            [
             0.6666666666666666,
             "#ed7953"
            ],
            [
             0.7777777777777778,
             "#fb9f3a"
            ],
            [
             0.8888888888888888,
             "#fdca26"
            ],
            [
             1,
             "#f0f921"
            ]
           ]
          },
          "colorway": [
           "#636efa",
           "#EF553B",
           "#00cc96",
           "#ab63fa",
           "#FFA15A",
           "#19d3f3",
           "#FF6692",
           "#B6E880",
           "#FF97FF",
           "#FECB52"
          ],
          "font": {
           "color": "#2a3f5f"
          },
          "geo": {
           "bgcolor": "white",
           "lakecolor": "white",
           "landcolor": "#E5ECF6",
           "showlakes": true,
           "showland": true,
           "subunitcolor": "white"
          },
          "hoverlabel": {
           "align": "left"
          },
          "hovermode": "closest",
          "mapbox": {
           "style": "light"
          },
          "paper_bgcolor": "white",
          "plot_bgcolor": "#E5ECF6",
          "polar": {
           "angularaxis": {
            "gridcolor": "white",
            "linecolor": "white",
            "ticks": ""
           },
           "bgcolor": "#E5ECF6",
           "radialaxis": {
            "gridcolor": "white",
            "linecolor": "white",
            "ticks": ""
           }
          },
          "scene": {
           "xaxis": {
            "backgroundcolor": "#E5ECF6",
            "gridcolor": "white",
            "gridwidth": 2,
            "linecolor": "white",
            "showbackground": true,
            "ticks": "",
            "zerolinecolor": "white"
           },
           "yaxis": {
            "backgroundcolor": "#E5ECF6",
            "gridcolor": "white",
            "gridwidth": 2,
            "linecolor": "white",
            "showbackground": true,
            "ticks": "",
            "zerolinecolor": "white"
           },
           "zaxis": {
            "backgroundcolor": "#E5ECF6",
            "gridcolor": "white",
            "gridwidth": 2,
            "linecolor": "white",
            "showbackground": true,
            "ticks": "",
            "zerolinecolor": "white"
           }
          },
          "shapedefaults": {
           "line": {
            "color": "#2a3f5f"
           }
          },
          "ternary": {
           "aaxis": {
            "gridcolor": "white",
            "linecolor": "white",
            "ticks": ""
           },
           "baxis": {
            "gridcolor": "white",
            "linecolor": "white",
            "ticks": ""
           },
           "bgcolor": "#E5ECF6",
           "caxis": {
            "gridcolor": "white",
            "linecolor": "white",
            "ticks": ""
           }
          },
          "title": {
           "x": 0.05
          },
          "xaxis": {
           "automargin": true,
           "gridcolor": "white",
           "linecolor": "white",
           "ticks": "",
           "title": {
            "standoff": 15
           },
           "zerolinecolor": "white",
           "zerolinewidth": 2
          },
          "yaxis": {
           "automargin": true,
           "gridcolor": "white",
           "linecolor": "white",
           "ticks": "",
           "title": {
            "standoff": 15
           },
           "zerolinecolor": "white",
           "zerolinewidth": 2
          }
         }
        },
        "title": {
         "text": "Positive"
        },
        "width": 1000
       }
      },
      "text/html": [
       "<div>                            <div id=\"245828d0-6d3f-4d63-90a7-38874e9afb32\" class=\"plotly-graph-div\" style=\"height:400px; width:1000px;\"></div>            <script type=\"text/javascript\">                require([\"plotly\"], function(Plotly) {                    window.PLOTLYENV=window.PLOTLYENV || {};                                    if (document.getElementById(\"245828d0-6d3f-4d63-90a7-38874e9afb32\")) {                    Plotly.newPlot(                        \"245828d0-6d3f-4d63-90a7-38874e9afb32\",                        [{\"cells\": {\"align\": [\"left\", \"center\", \"center\", \"center\"], \"fill\": {\"color\": [[\"white\", \"lightgrey\", \"white\", \"lightgrey\", \"white\", \"white\", \"lightgrey\", \"white\", \"lightgrey\", \"white\", \"white\", \"lightgrey\", \"white\", \"lightgrey\", \"white\", \"white\", \"lightgrey\", \"white\", \"lightgrey\", \"white\", \"white\", \"lightgrey\", \"white\", \"lightgrey\", \"white\"]]}, \"values\": [[\"Has anyone created an import template for overseas containers?\\u00a0 Thanks!\", \"Hello All,\\nHappy new year.\\nPlease i notice on payment screen E.g Bank transfer - if i try to search for a transaction using amount field i get an error message.\\u00a0\\nPlease kindly find screen shot below..\\n\\n\\nPlease help.\\n\\nThank you.\", \"Hi Everyone! Wish you all an great 2021!\\nI'm new to SAGE X3.\\nHow can I refresh a query on \\\"landing page\\\"?\\nI've tried with parameters \\\"portview\\\" and \\\"frequency\\\" but no success.\\u00a0\\n\\nAm I using the parameters correctly?\\nThank you, for your help.\\nBest regards,\\nDaniel\", \"\\n\\nI have a problem in the transport counter despite the counter has been well created and well affect the counter allocation level, thank you for helping me to find a solution\\n\\n\\n\", \"EAM JOB CARD Error occurs when trying to save on step 4 'Create transactions'\\nPlease advise\\n\\n'\"], [0.0, 0.054, 0.045, 0.073, 0.127], [0.606, 0.563, 0.583, 0.569, 0.516], [0.394, 0.382, 0.372, 0.358, 0.357]]}, \"columnwidth\": [300, 40, 40, 40], \"header\": {\"align\": [\"left\", \"center\", \"center\", \"center\"], \"fill\": {\"color\": \"#39416C\"}, \"font\": {\"color\": \"white\", \"size\": 12}, \"values\": [\"Forum_Post_Raw\", \"neg\", \"neu\", \"pos\"]}, \"type\": \"table\"}],                        {\"height\": 400, \"template\": {\"data\": {\"bar\": [{\"error_x\": {\"color\": \"#2a3f5f\"}, \"error_y\": {\"color\": \"#2a3f5f\"}, \"marker\": {\"line\": {\"color\": \"#E5ECF6\", \"width\": 0.5}}, \"type\": \"bar\"}], \"barpolar\": [{\"marker\": {\"line\": {\"color\": \"#E5ECF6\", \"width\": 0.5}}, \"type\": \"barpolar\"}], \"carpet\": [{\"aaxis\": {\"endlinecolor\": \"#2a3f5f\", \"gridcolor\": \"white\", \"linecolor\": \"white\", \"minorgridcolor\": \"white\", \"startlinecolor\": \"#2a3f5f\"}, \"baxis\": {\"endlinecolor\": \"#2a3f5f\", \"gridcolor\": \"white\", \"linecolor\": \"white\", \"minorgridcolor\": \"white\", \"startlinecolor\": \"#2a3f5f\"}, \"type\": \"carpet\"}], \"choropleth\": [{\"colorbar\": {\"outlinewidth\": 0, \"ticks\": \"\"}, \"type\": \"choropleth\"}], \"contour\": [{\"colorbar\": {\"outlinewidth\": 0, \"ticks\": \"\"}, \"colorscale\": [[0.0, \"#0d0887\"], [0.1111111111111111, \"#46039f\"], [0.2222222222222222, \"#7201a8\"], [0.3333333333333333, \"#9c179e\"], [0.4444444444444444, \"#bd3786\"], [0.5555555555555556, \"#d8576b\"], [0.6666666666666666, \"#ed7953\"], [0.7777777777777778, \"#fb9f3a\"], [0.8888888888888888, \"#fdca26\"], [1.0, \"#f0f921\"]], \"type\": \"contour\"}], \"contourcarpet\": [{\"colorbar\": {\"outlinewidth\": 0, \"ticks\": \"\"}, \"type\": \"contourcarpet\"}], \"heatmap\": [{\"colorbar\": {\"outlinewidth\": 0, \"ticks\": \"\"}, \"colorscale\": [[0.0, \"#0d0887\"], [0.1111111111111111, \"#46039f\"], [0.2222222222222222, \"#7201a8\"], [0.3333333333333333, \"#9c179e\"], [0.4444444444444444, \"#bd3786\"], [0.5555555555555556, \"#d8576b\"], [0.6666666666666666, \"#ed7953\"], [0.7777777777777778, \"#fb9f3a\"], [0.8888888888888888, \"#fdca26\"], [1.0, \"#f0f921\"]], \"type\": \"heatmap\"}], \"heatmapgl\": [{\"colorbar\": {\"outlinewidth\": 0, \"ticks\": \"\"}, \"colorscale\": [[0.0, \"#0d0887\"], [0.1111111111111111, \"#46039f\"], [0.2222222222222222, \"#7201a8\"], [0.3333333333333333, \"#9c179e\"], [0.4444444444444444, \"#bd3786\"], [0.5555555555555556, \"#d8576b\"], [0.6666666666666666, \"#ed7953\"], [0.7777777777777778, \"#fb9f3a\"], [0.8888888888888888, \"#fdca26\"], [1.0, \"#f0f921\"]], \"type\": \"heatmapgl\"}], \"histogram\": [{\"marker\": {\"colorbar\": {\"outlinewidth\": 0, \"ticks\": \"\"}}, \"type\": \"histogram\"}], \"histogram2d\": [{\"colorbar\": {\"outlinewidth\": 0, \"ticks\": \"\"}, \"colorscale\": [[0.0, \"#0d0887\"], [0.1111111111111111, \"#46039f\"], [0.2222222222222222, \"#7201a8\"], [0.3333333333333333, \"#9c179e\"], [0.4444444444444444, \"#bd3786\"], [0.5555555555555556, \"#d8576b\"], [0.6666666666666666, \"#ed7953\"], [0.7777777777777778, \"#fb9f3a\"], [0.8888888888888888, \"#fdca26\"], [1.0, \"#f0f921\"]], \"type\": \"histogram2d\"}], \"histogram2dcontour\": [{\"colorbar\": {\"outlinewidth\": 0, \"ticks\": \"\"}, \"colorscale\": [[0.0, \"#0d0887\"], [0.1111111111111111, \"#46039f\"], [0.2222222222222222, \"#7201a8\"], [0.3333333333333333, \"#9c179e\"], [0.4444444444444444, \"#bd3786\"], [0.5555555555555556, \"#d8576b\"], [0.6666666666666666, \"#ed7953\"], [0.7777777777777778, \"#fb9f3a\"], [0.8888888888888888, \"#fdca26\"], [1.0, \"#f0f921\"]], \"type\": \"histogram2dcontour\"}], \"mesh3d\": [{\"colorbar\": {\"outlinewidth\": 0, \"ticks\": \"\"}, \"type\": \"mesh3d\"}], \"parcoords\": [{\"line\": {\"colorbar\": {\"outlinewidth\": 0, \"ticks\": \"\"}}, \"type\": \"parcoords\"}], \"pie\": [{\"automargin\": true, \"type\": \"pie\"}], \"scatter\": [{\"marker\": {\"colorbar\": {\"outlinewidth\": 0, \"ticks\": \"\"}}, \"type\": \"scatter\"}], \"scatter3d\": [{\"line\": {\"colorbar\": {\"outlinewidth\": 0, \"ticks\": \"\"}}, \"marker\": {\"colorbar\": {\"outlinewidth\": 0, \"ticks\": \"\"}}, \"type\": \"scatter3d\"}], \"scattercarpet\": [{\"marker\": {\"colorbar\": {\"outlinewidth\": 0, \"ticks\": \"\"}}, \"type\": \"scattercarpet\"}], \"scattergeo\": [{\"marker\": {\"colorbar\": {\"outlinewidth\": 0, \"ticks\": \"\"}}, \"type\": \"scattergeo\"}], \"scattergl\": [{\"marker\": {\"colorbar\": {\"outlinewidth\": 0, \"ticks\": \"\"}}, \"type\": \"scattergl\"}], \"scattermapbox\": [{\"marker\": {\"colorbar\": {\"outlinewidth\": 0, \"ticks\": \"\"}}, \"type\": \"scattermapbox\"}], \"scatterpolar\": [{\"marker\": {\"colorbar\": {\"outlinewidth\": 0, \"ticks\": \"\"}}, \"type\": \"scatterpolar\"}], \"scatterpolargl\": [{\"marker\": {\"colorbar\": {\"outlinewidth\": 0, \"ticks\": \"\"}}, \"type\": \"scatterpolargl\"}], \"scatterternary\": [{\"marker\": {\"colorbar\": {\"outlinewidth\": 0, \"ticks\": \"\"}}, \"type\": \"scatterternary\"}], \"surface\": [{\"colorbar\": {\"outlinewidth\": 0, \"ticks\": \"\"}, \"colorscale\": [[0.0, \"#0d0887\"], [0.1111111111111111, \"#46039f\"], [0.2222222222222222, \"#7201a8\"], [0.3333333333333333, \"#9c179e\"], [0.4444444444444444, \"#bd3786\"], [0.5555555555555556, \"#d8576b\"], [0.6666666666666666, \"#ed7953\"], [0.7777777777777778, \"#fb9f3a\"], [0.8888888888888888, \"#fdca26\"], [1.0, \"#f0f921\"]], \"type\": \"surface\"}], \"table\": [{\"cells\": {\"fill\": {\"color\": \"#EBF0F8\"}, \"line\": {\"color\": \"white\"}}, \"header\": {\"fill\": {\"color\": \"#C8D4E3\"}, \"line\": {\"color\": \"white\"}}, \"type\": \"table\"}]}, \"layout\": {\"annotationdefaults\": {\"arrowcolor\": \"#2a3f5f\", \"arrowhead\": 0, \"arrowwidth\": 1}, \"autotypenumbers\": \"strict\", \"coloraxis\": {\"colorbar\": {\"outlinewidth\": 0, \"ticks\": \"\"}}, \"colorscale\": {\"diverging\": [[0, \"#8e0152\"], [0.1, \"#c51b7d\"], [0.2, \"#de77ae\"], [0.3, \"#f1b6da\"], [0.4, \"#fde0ef\"], [0.5, \"#f7f7f7\"], [0.6, \"#e6f5d0\"], [0.7, \"#b8e186\"], [0.8, \"#7fbc41\"], [0.9, \"#4d9221\"], [1, \"#276419\"]], \"sequential\": [[0.0, \"#0d0887\"], [0.1111111111111111, \"#46039f\"], [0.2222222222222222, \"#7201a8\"], [0.3333333333333333, \"#9c179e\"], [0.4444444444444444, \"#bd3786\"], [0.5555555555555556, \"#d8576b\"], [0.6666666666666666, \"#ed7953\"], [0.7777777777777778, \"#fb9f3a\"], [0.8888888888888888, \"#fdca26\"], [1.0, \"#f0f921\"]], \"sequentialminus\": [[0.0, \"#0d0887\"], [0.1111111111111111, \"#46039f\"], [0.2222222222222222, \"#7201a8\"], [0.3333333333333333, \"#9c179e\"], [0.4444444444444444, \"#bd3786\"], [0.5555555555555556, \"#d8576b\"], [0.6666666666666666, \"#ed7953\"], [0.7777777777777778, \"#fb9f3a\"], [0.8888888888888888, \"#fdca26\"], [1.0, \"#f0f921\"]]}, \"colorway\": [\"#636efa\", \"#EF553B\", \"#00cc96\", \"#ab63fa\", \"#FFA15A\", \"#19d3f3\", \"#FF6692\", \"#B6E880\", \"#FF97FF\", \"#FECB52\"], \"font\": {\"color\": \"#2a3f5f\"}, \"geo\": {\"bgcolor\": \"white\", \"lakecolor\": \"white\", \"landcolor\": \"#E5ECF6\", \"showlakes\": true, \"showland\": true, \"subunitcolor\": \"white\"}, \"hoverlabel\": {\"align\": \"left\"}, \"hovermode\": \"closest\", \"mapbox\": {\"style\": \"light\"}, \"paper_bgcolor\": \"white\", \"plot_bgcolor\": \"#E5ECF6\", \"polar\": {\"angularaxis\": {\"gridcolor\": \"white\", \"linecolor\": \"white\", \"ticks\": \"\"}, \"bgcolor\": \"#E5ECF6\", \"radialaxis\": {\"gridcolor\": \"white\", \"linecolor\": \"white\", \"ticks\": \"\"}}, \"scene\": {\"xaxis\": {\"backgroundcolor\": \"#E5ECF6\", \"gridcolor\": \"white\", \"gridwidth\": 2, \"linecolor\": \"white\", \"showbackground\": true, \"ticks\": \"\", \"zerolinecolor\": \"white\"}, \"yaxis\": {\"backgroundcolor\": \"#E5ECF6\", \"gridcolor\": \"white\", \"gridwidth\": 2, \"linecolor\": \"white\", \"showbackground\": true, \"ticks\": \"\", \"zerolinecolor\": \"white\"}, \"zaxis\": {\"backgroundcolor\": \"#E5ECF6\", \"gridcolor\": \"white\", \"gridwidth\": 2, \"linecolor\": \"white\", \"showbackground\": true, \"ticks\": \"\", \"zerolinecolor\": \"white\"}}, \"shapedefaults\": {\"line\": {\"color\": \"#2a3f5f\"}}, \"ternary\": {\"aaxis\": {\"gridcolor\": \"white\", \"linecolor\": \"white\", \"ticks\": \"\"}, \"baxis\": {\"gridcolor\": \"white\", \"linecolor\": \"white\", \"ticks\": \"\"}, \"bgcolor\": \"#E5ECF6\", \"caxis\": {\"gridcolor\": \"white\", \"linecolor\": \"white\", \"ticks\": \"\"}}, \"title\": {\"x\": 0.05}, \"xaxis\": {\"automargin\": true, \"gridcolor\": \"white\", \"linecolor\": \"white\", \"ticks\": \"\", \"title\": {\"standoff\": 15}, \"zerolinecolor\": \"white\", \"zerolinewidth\": 2}, \"yaxis\": {\"automargin\": true, \"gridcolor\": \"white\", \"linecolor\": \"white\", \"ticks\": \"\", \"title\": {\"standoff\": 15}, \"zerolinecolor\": \"white\", \"zerolinewidth\": 2}}}, \"title\": {\"text\": \"Positive\"}, \"width\": 1000},                        {\"responsive\": true}                    ).then(function(){\n",
       "                            \n",
       "var gd = document.getElementById('245828d0-6d3f-4d63-90a7-38874e9afb32');\n",
       "var x = new MutationObserver(function (mutations, observer) {{\n",
       "        var display = window.getComputedStyle(gd).display;\n",
       "        if (!display || display === 'none') {{\n",
       "            console.log([gd, 'removed!']);\n",
       "            Plotly.purge(gd);\n",
       "            observer.disconnect();\n",
       "        }}\n",
       "}});\n",
       "\n",
       "// Listen for the removal of the full notebook cells\n",
       "var notebookContainer = gd.closest('#notebook-container');\n",
       "if (notebookContainer) {{\n",
       "    x.observe(notebookContainer, {childList: true});\n",
       "}}\n",
       "\n",
       "// Listen for the clearing of the current output cell\n",
       "var outputEl = gd.closest('.output');\n",
       "if (outputEl) {{\n",
       "    x.observe(outputEl, {childList: true});\n",
       "}}\n",
       "\n",
       "                        })                };                });            </script>        </div>"
      ]
     },
     "metadata": {},
     "output_type": "display_data"
    },
    {
     "data": {
      "application/vnd.plotly.v1+json": {
       "config": {
        "plotlyServerURL": "https://plot.ly"
       },
       "data": [
        {
         "cells": {
          "align": [
           "left",
           "center",
           "center",
           "center"
          ],
          "fill": {
           "color": [
            [
             "white",
             "lightgrey",
             "white",
             "lightgrey",
             "white",
             "white",
             "lightgrey",
             "white",
             "lightgrey",
             "white",
             "white",
             "lightgrey",
             "white",
             "lightgrey",
             "white",
             "white",
             "lightgrey",
             "white",
             "lightgrey",
             "white",
             "white",
             "lightgrey",
             "white",
             "lightgrey",
             "white"
            ]
           ]
          },
          "values": [
           [
            "Error message:\n@X3.TRT/SUBITM$adx (2569) Error 8 : Index Incorrect ISAU(500)\n\nGetting this error after adding a new site.\n",
            "When trying to generate the positive pay file - we experience the following error - file return error - no checks selected. There are checks generated and printed.",
            "Sage X3 allows a parameter to warn user for duplicate values in BPRVCR. \n\nHow can this warning be change to an error? \n",
            "We run Sage X3 Update 9 Patch 9.\n\nThe cost of a product we buy is going negative.\nThis occurs from time to time because the product is a by-product- sometimes the supplier can sell the by-product, but other times they have to pay us to take it.\nDepending on how extremely below zero the costs go, we may even start charging our customers a negative price. \nThis will occur in both back-to-back and stock orders.\n\nCan we support this in X3?\n\nThought process;\n(The following all reads bizarrely to me, but here goes...;)\n1. We raise PO to supplier with negative cost (-$20/ton)\n2. Supplier sends us their invoice with negative cost (-$20/ton)\n3. Supplier pays us based on their (negative) invoice. Is a supplier invoice therefore handled by Accounts Receivable rather than Accounts Payable functions in X3?\n4. We receive goods into inventory at a negative cost (-$20/ton). Average Unit Cost (AUC) goes negative.\n5. We create Sales Order with negative gross price (-$5) and negative cost ($-20) to Customer (Margin = +$15)\n6. We create Sales Delivery with negative gross price (-$5) to Customer.\n7. We create Sales Invoice with negative gross price (-$5) and negative cost ($-20) to Customer (Margin = +$15) \n8. We pay Customer based on our Sales Invoice with negative gross price. Is our Invoice to Customer therefore managed by our Accounts Payable rather than Accounts Receivable functions in X3?\n\nIs this high level process supportable/logical/sensible in X3?\nSteps 3 and 8 are standing out to me the most in consideration of \"How will that work?\"\nAny advice would be appreciated. Thanks in advance.",
            "D:\\Sage\\SAGEX3V7\\X3V71\\folders\\TEST\\TRT\\WGWMSFCSTD.adx : File Non-existent\n\nHow to resolve this error.\n\nRegards\n"
           ],
           [
            0.415,
            0.276,
            0.258,
            0.249,
            0.246
           ],
           [
            0.585,
            0.613,
            0.64,
            0.693,
            0.55
           ],
           [
            0,
            0.11,
            0.102,
            0.058,
            0.204
           ]
          ]
         },
         "columnwidth": [
          300,
          40,
          40,
          40
         ],
         "header": {
          "align": [
           "left",
           "center",
           "center",
           "center"
          ],
          "fill": {
           "color": "#39416C"
          },
          "font": {
           "color": "white",
           "size": 12
          },
          "values": [
           "Forum_Post_Raw",
           "neg",
           "neu",
           "pos"
          ]
         },
         "type": "table"
        }
       ],
       "layout": {
        "height": 400,
        "template": {
         "data": {
          "bar": [
           {
            "error_x": {
             "color": "#2a3f5f"
            },
            "error_y": {
             "color": "#2a3f5f"
            },
            "marker": {
             "line": {
              "color": "#E5ECF6",
              "width": 0.5
             }
            },
            "type": "bar"
           }
          ],
          "barpolar": [
           {
            "marker": {
             "line": {
              "color": "#E5ECF6",
              "width": 0.5
             }
            },
            "type": "barpolar"
           }
          ],
          "carpet": [
           {
            "aaxis": {
             "endlinecolor": "#2a3f5f",
             "gridcolor": "white",
             "linecolor": "white",
             "minorgridcolor": "white",
             "startlinecolor": "#2a3f5f"
            },
            "baxis": {
             "endlinecolor": "#2a3f5f",
             "gridcolor": "white",
             "linecolor": "white",
             "minorgridcolor": "white",
             "startlinecolor": "#2a3f5f"
            },
            "type": "carpet"
           }
          ],
          "choropleth": [
           {
            "colorbar": {
             "outlinewidth": 0,
             "ticks": ""
            },
            "type": "choropleth"
           }
          ],
          "contour": [
           {
            "colorbar": {
             "outlinewidth": 0,
             "ticks": ""
            },
            "colorscale": [
             [
              0,
              "#0d0887"
             ],
             [
              0.1111111111111111,
              "#46039f"
             ],
             [
              0.2222222222222222,
              "#7201a8"
             ],
             [
              0.3333333333333333,
              "#9c179e"
             ],
             [
              0.4444444444444444,
              "#bd3786"
             ],
             [
              0.5555555555555556,
              "#d8576b"
             ],
             [
              0.6666666666666666,
              "#ed7953"
             ],
             [
              0.7777777777777778,
              "#fb9f3a"
             ],
             [
              0.8888888888888888,
              "#fdca26"
             ],
             [
              1,
              "#f0f921"
             ]
            ],
            "type": "contour"
           }
          ],
          "contourcarpet": [
           {
            "colorbar": {
             "outlinewidth": 0,
             "ticks": ""
            },
            "type": "contourcarpet"
           }
          ],
          "heatmap": [
           {
            "colorbar": {
             "outlinewidth": 0,
             "ticks": ""
            },
            "colorscale": [
             [
              0,
              "#0d0887"
             ],
             [
              0.1111111111111111,
              "#46039f"
             ],
             [
              0.2222222222222222,
              "#7201a8"
             ],
             [
              0.3333333333333333,
              "#9c179e"
             ],
             [
              0.4444444444444444,
              "#bd3786"
             ],
             [
              0.5555555555555556,
              "#d8576b"
             ],
             [
              0.6666666666666666,
              "#ed7953"
             ],
             [
              0.7777777777777778,
              "#fb9f3a"
             ],
             [
              0.8888888888888888,
              "#fdca26"
             ],
             [
              1,
              "#f0f921"
             ]
            ],
            "type": "heatmap"
           }
          ],
          "heatmapgl": [
           {
            "colorbar": {
             "outlinewidth": 0,
             "ticks": ""
            },
            "colorscale": [
             [
              0,
              "#0d0887"
             ],
             [
              0.1111111111111111,
              "#46039f"
             ],
             [
              0.2222222222222222,
              "#7201a8"
             ],
             [
              0.3333333333333333,
              "#9c179e"
             ],
             [
              0.4444444444444444,
              "#bd3786"
             ],
             [
              0.5555555555555556,
              "#d8576b"
             ],
             [
              0.6666666666666666,
              "#ed7953"
             ],
             [
              0.7777777777777778,
              "#fb9f3a"
             ],
             [
              0.8888888888888888,
              "#fdca26"
             ],
             [
              1,
              "#f0f921"
             ]
            ],
            "type": "heatmapgl"
           }
          ],
          "histogram": [
           {
            "marker": {
             "colorbar": {
              "outlinewidth": 0,
              "ticks": ""
             }
            },
            "type": "histogram"
           }
          ],
          "histogram2d": [
           {
            "colorbar": {
             "outlinewidth": 0,
             "ticks": ""
            },
            "colorscale": [
             [
              0,
              "#0d0887"
             ],
             [
              0.1111111111111111,
              "#46039f"
             ],
             [
              0.2222222222222222,
              "#7201a8"
             ],
             [
              0.3333333333333333,
              "#9c179e"
             ],
             [
              0.4444444444444444,
              "#bd3786"
             ],
             [
              0.5555555555555556,
              "#d8576b"
             ],
             [
              0.6666666666666666,
              "#ed7953"
             ],
             [
              0.7777777777777778,
              "#fb9f3a"
             ],
             [
              0.8888888888888888,
              "#fdca26"
             ],
             [
              1,
              "#f0f921"
             ]
            ],
            "type": "histogram2d"
           }
          ],
          "histogram2dcontour": [
           {
            "colorbar": {
             "outlinewidth": 0,
             "ticks": ""
            },
            "colorscale": [
             [
              0,
              "#0d0887"
             ],
             [
              0.1111111111111111,
              "#46039f"
             ],
             [
              0.2222222222222222,
              "#7201a8"
             ],
             [
              0.3333333333333333,
              "#9c179e"
             ],
             [
              0.4444444444444444,
              "#bd3786"
             ],
             [
              0.5555555555555556,
              "#d8576b"
             ],
             [
              0.6666666666666666,
              "#ed7953"
             ],
             [
              0.7777777777777778,
              "#fb9f3a"
             ],
             [
              0.8888888888888888,
              "#fdca26"
             ],
             [
              1,
              "#f0f921"
             ]
            ],
            "type": "histogram2dcontour"
           }
          ],
          "mesh3d": [
           {
            "colorbar": {
             "outlinewidth": 0,
             "ticks": ""
            },
            "type": "mesh3d"
           }
          ],
          "parcoords": [
           {
            "line": {
             "colorbar": {
              "outlinewidth": 0,
              "ticks": ""
             }
            },
            "type": "parcoords"
           }
          ],
          "pie": [
           {
            "automargin": true,
            "type": "pie"
           }
          ],
          "scatter": [
           {
            "marker": {
             "colorbar": {
              "outlinewidth": 0,
              "ticks": ""
             }
            },
            "type": "scatter"
           }
          ],
          "scatter3d": [
           {
            "line": {
             "colorbar": {
              "outlinewidth": 0,
              "ticks": ""
             }
            },
            "marker": {
             "colorbar": {
              "outlinewidth": 0,
              "ticks": ""
             }
            },
            "type": "scatter3d"
           }
          ],
          "scattercarpet": [
           {
            "marker": {
             "colorbar": {
              "outlinewidth": 0,
              "ticks": ""
             }
            },
            "type": "scattercarpet"
           }
          ],
          "scattergeo": [
           {
            "marker": {
             "colorbar": {
              "outlinewidth": 0,
              "ticks": ""
             }
            },
            "type": "scattergeo"
           }
          ],
          "scattergl": [
           {
            "marker": {
             "colorbar": {
              "outlinewidth": 0,
              "ticks": ""
             }
            },
            "type": "scattergl"
           }
          ],
          "scattermapbox": [
           {
            "marker": {
             "colorbar": {
              "outlinewidth": 0,
              "ticks": ""
             }
            },
            "type": "scattermapbox"
           }
          ],
          "scatterpolar": [
           {
            "marker": {
             "colorbar": {
              "outlinewidth": 0,
              "ticks": ""
             }
            },
            "type": "scatterpolar"
           }
          ],
          "scatterpolargl": [
           {
            "marker": {
             "colorbar": {
              "outlinewidth": 0,
              "ticks": ""
             }
            },
            "type": "scatterpolargl"
           }
          ],
          "scatterternary": [
           {
            "marker": {
             "colorbar": {
              "outlinewidth": 0,
              "ticks": ""
             }
            },
            "type": "scatterternary"
           }
          ],
          "surface": [
           {
            "colorbar": {
             "outlinewidth": 0,
             "ticks": ""
            },
            "colorscale": [
             [
              0,
              "#0d0887"
             ],
             [
              0.1111111111111111,
              "#46039f"
             ],
             [
              0.2222222222222222,
              "#7201a8"
             ],
             [
              0.3333333333333333,
              "#9c179e"
             ],
             [
              0.4444444444444444,
              "#bd3786"
             ],
             [
              0.5555555555555556,
              "#d8576b"
             ],
             [
              0.6666666666666666,
              "#ed7953"
             ],
             [
              0.7777777777777778,
              "#fb9f3a"
             ],
             [
              0.8888888888888888,
              "#fdca26"
             ],
             [
              1,
              "#f0f921"
             ]
            ],
            "type": "surface"
           }
          ],
          "table": [
           {
            "cells": {
             "fill": {
              "color": "#EBF0F8"
             },
             "line": {
              "color": "white"
             }
            },
            "header": {
             "fill": {
              "color": "#C8D4E3"
             },
             "line": {
              "color": "white"
             }
            },
            "type": "table"
           }
          ]
         },
         "layout": {
          "annotationdefaults": {
           "arrowcolor": "#2a3f5f",
           "arrowhead": 0,
           "arrowwidth": 1
          },
          "autotypenumbers": "strict",
          "coloraxis": {
           "colorbar": {
            "outlinewidth": 0,
            "ticks": ""
           }
          },
          "colorscale": {
           "diverging": [
            [
             0,
             "#8e0152"
            ],
            [
             0.1,
             "#c51b7d"
            ],
            [
             0.2,
             "#de77ae"
            ],
            [
             0.3,
             "#f1b6da"
            ],
            [
             0.4,
             "#fde0ef"
            ],
            [
             0.5,
             "#f7f7f7"
            ],
            [
             0.6,
             "#e6f5d0"
            ],
            [
             0.7,
             "#b8e186"
            ],
            [
             0.8,
             "#7fbc41"
            ],
            [
             0.9,
             "#4d9221"
            ],
            [
             1,
             "#276419"
            ]
           ],
           "sequential": [
            [
             0,
             "#0d0887"
            ],
            [
             0.1111111111111111,
             "#46039f"
            ],
            [
             0.2222222222222222,
             "#7201a8"
            ],
            [
             0.3333333333333333,
             "#9c179e"
            ],
            [
             0.4444444444444444,
             "#bd3786"
            ],
            [
             0.5555555555555556,
             "#d8576b"
            ],
            [
             0.6666666666666666,
             "#ed7953"
            ],
            [
             0.7777777777777778,
             "#fb9f3a"
            ],
            [
             0.8888888888888888,
             "#fdca26"
            ],
            [
             1,
             "#f0f921"
            ]
           ],
           "sequentialminus": [
            [
             0,
             "#0d0887"
            ],
            [
             0.1111111111111111,
             "#46039f"
            ],
            [
             0.2222222222222222,
             "#7201a8"
            ],
            [
             0.3333333333333333,
             "#9c179e"
            ],
            [
             0.4444444444444444,
             "#bd3786"
            ],
            [
             0.5555555555555556,
             "#d8576b"
            ],
            [
             0.6666666666666666,
             "#ed7953"
            ],
            [
             0.7777777777777778,
             "#fb9f3a"
            ],
            [
             0.8888888888888888,
             "#fdca26"
            ],
            [
             1,
             "#f0f921"
            ]
           ]
          },
          "colorway": [
           "#636efa",
           "#EF553B",
           "#00cc96",
           "#ab63fa",
           "#FFA15A",
           "#19d3f3",
           "#FF6692",
           "#B6E880",
           "#FF97FF",
           "#FECB52"
          ],
          "font": {
           "color": "#2a3f5f"
          },
          "geo": {
           "bgcolor": "white",
           "lakecolor": "white",
           "landcolor": "#E5ECF6",
           "showlakes": true,
           "showland": true,
           "subunitcolor": "white"
          },
          "hoverlabel": {
           "align": "left"
          },
          "hovermode": "closest",
          "mapbox": {
           "style": "light"
          },
          "paper_bgcolor": "white",
          "plot_bgcolor": "#E5ECF6",
          "polar": {
           "angularaxis": {
            "gridcolor": "white",
            "linecolor": "white",
            "ticks": ""
           },
           "bgcolor": "#E5ECF6",
           "radialaxis": {
            "gridcolor": "white",
            "linecolor": "white",
            "ticks": ""
           }
          },
          "scene": {
           "xaxis": {
            "backgroundcolor": "#E5ECF6",
            "gridcolor": "white",
            "gridwidth": 2,
            "linecolor": "white",
            "showbackground": true,
            "ticks": "",
            "zerolinecolor": "white"
           },
           "yaxis": {
            "backgroundcolor": "#E5ECF6",
            "gridcolor": "white",
            "gridwidth": 2,
            "linecolor": "white",
            "showbackground": true,
            "ticks": "",
            "zerolinecolor": "white"
           },
           "zaxis": {
            "backgroundcolor": "#E5ECF6",
            "gridcolor": "white",
            "gridwidth": 2,
            "linecolor": "white",
            "showbackground": true,
            "ticks": "",
            "zerolinecolor": "white"
           }
          },
          "shapedefaults": {
           "line": {
            "color": "#2a3f5f"
           }
          },
          "ternary": {
           "aaxis": {
            "gridcolor": "white",
            "linecolor": "white",
            "ticks": ""
           },
           "baxis": {
            "gridcolor": "white",
            "linecolor": "white",
            "ticks": ""
           },
           "bgcolor": "#E5ECF6",
           "caxis": {
            "gridcolor": "white",
            "linecolor": "white",
            "ticks": ""
           }
          },
          "title": {
           "x": 0.05
          },
          "xaxis": {
           "automargin": true,
           "gridcolor": "white",
           "linecolor": "white",
           "ticks": "",
           "title": {
            "standoff": 15
           },
           "zerolinecolor": "white",
           "zerolinewidth": 2
          },
          "yaxis": {
           "automargin": true,
           "gridcolor": "white",
           "linecolor": "white",
           "ticks": "",
           "title": {
            "standoff": 15
           },
           "zerolinecolor": "white",
           "zerolinewidth": 2
          }
         }
        },
        "title": {
         "text": "Negative"
        },
        "width": 1000
       }
      },
      "text/html": [
       "<div>                            <div id=\"e3b751b6-7be0-4f12-91e6-7b63218a541e\" class=\"plotly-graph-div\" style=\"height:400px; width:1000px;\"></div>            <script type=\"text/javascript\">                require([\"plotly\"], function(Plotly) {                    window.PLOTLYENV=window.PLOTLYENV || {};                                    if (document.getElementById(\"e3b751b6-7be0-4f12-91e6-7b63218a541e\")) {                    Plotly.newPlot(                        \"e3b751b6-7be0-4f12-91e6-7b63218a541e\",                        [{\"cells\": {\"align\": [\"left\", \"center\", \"center\", \"center\"], \"fill\": {\"color\": [[\"white\", \"lightgrey\", \"white\", \"lightgrey\", \"white\", \"white\", \"lightgrey\", \"white\", \"lightgrey\", \"white\", \"white\", \"lightgrey\", \"white\", \"lightgrey\", \"white\", \"white\", \"lightgrey\", \"white\", \"lightgrey\", \"white\", \"white\", \"lightgrey\", \"white\", \"lightgrey\", \"white\"]]}, \"values\": [[\"Error message:\\n@X3.TRT/SUBITM$adx (2569) Error 8 : Index Incorrect ISAU(500)\\n\\nGetting this error after adding a new site.\\n\", \"When trying to generate the positive pay file - we experience the following error - file return error - no checks selected. There are checks generated and printed.\", \"Sage X3 allows a parameter to warn user for duplicate values in BPRVCR.\\u00a0\\n\\nHow can this warning be change to an error?\\u00a0\\n\", \"We run Sage X3 Update 9 Patch 9.\\n\\nThe cost of a product we buy is going negative.\\nThis occurs from time to time because the product is a by-product- sometimes the supplier can sell the by-product, but other times they have to pay us to take it.\\nDepending on how extremely below zero the costs go, we may even start charging our customers a negative price.\\u00a0\\nThis will occur in both back-to-back and stock orders.\\n\\nCan we support this in X3?\\n\\nThought process;\\n(The following all reads\\u00a0bizarrely to me, but\\u00a0here goes...;)\\n1. We raise PO to supplier with negative cost (-$20/ton)\\n2. Supplier sends us their invoice with negative cost (-$20/ton)\\n3. Supplier pays us based on their (negative) invoice. Is a supplier invoice therefore\\u00a0handled by Accounts Receivable rather than Accounts Payable functions in X3?\\n4. We receive goods into inventory at a negative cost (-$20/ton). Average Unit Cost (AUC) goes negative.\\n5. We create Sales Order with negative gross price (-$5) and negative cost ($-20) to Customer (Margin = +$15)\\n6.\\u00a0We create Sales Delivery with negative gross price (-$5) to Customer.\\n7. We create Sales Invoice with negative gross price (-$5) and negative cost ($-20) to Customer (Margin = +$15)\\u00a0\\n8. We pay Customer based on our Sales Invoice with negative gross price. Is our Invoice to\\u00a0Customer therefore\\u00a0managed\\u00a0by our Accounts Payable rather than Accounts Receivable functions in X3?\\n\\nIs this high level process supportable/logical/sensible in X3?\\nSteps 3 and 8 are standing out to me the most\\u00a0in consideration of \\\"How will that work?\\\"\\nAny advice would be appreciated. Thanks in advance.\", \"D:\\\\Sage\\\\SAGEX3V7\\\\X3V71\\\\folders\\\\TEST\\\\TRT\\\\WGWMSFCSTD.adx : File Non-existent\\n\\nHow to resolve this error.\\n\\nRegards\\n\"], [0.415, 0.276, 0.258, 0.249, 0.246], [0.585, 0.613, 0.64, 0.693, 0.55], [0.0, 0.11, 0.102, 0.058, 0.204]]}, \"columnwidth\": [300, 40, 40, 40], \"header\": {\"align\": [\"left\", \"center\", \"center\", \"center\"], \"fill\": {\"color\": \"#39416C\"}, \"font\": {\"color\": \"white\", \"size\": 12}, \"values\": [\"Forum_Post_Raw\", \"neg\", \"neu\", \"pos\"]}, \"type\": \"table\"}],                        {\"height\": 400, \"template\": {\"data\": {\"bar\": [{\"error_x\": {\"color\": \"#2a3f5f\"}, \"error_y\": {\"color\": \"#2a3f5f\"}, \"marker\": {\"line\": {\"color\": \"#E5ECF6\", \"width\": 0.5}}, \"type\": \"bar\"}], \"barpolar\": [{\"marker\": {\"line\": {\"color\": \"#E5ECF6\", \"width\": 0.5}}, \"type\": \"barpolar\"}], \"carpet\": [{\"aaxis\": {\"endlinecolor\": \"#2a3f5f\", \"gridcolor\": \"white\", \"linecolor\": \"white\", \"minorgridcolor\": \"white\", \"startlinecolor\": \"#2a3f5f\"}, \"baxis\": {\"endlinecolor\": \"#2a3f5f\", \"gridcolor\": \"white\", \"linecolor\": \"white\", \"minorgridcolor\": \"white\", \"startlinecolor\": \"#2a3f5f\"}, \"type\": \"carpet\"}], \"choropleth\": [{\"colorbar\": {\"outlinewidth\": 0, \"ticks\": \"\"}, \"type\": \"choropleth\"}], \"contour\": [{\"colorbar\": {\"outlinewidth\": 0, \"ticks\": \"\"}, \"colorscale\": [[0.0, \"#0d0887\"], [0.1111111111111111, \"#46039f\"], [0.2222222222222222, \"#7201a8\"], [0.3333333333333333, \"#9c179e\"], [0.4444444444444444, \"#bd3786\"], [0.5555555555555556, \"#d8576b\"], [0.6666666666666666, \"#ed7953\"], [0.7777777777777778, \"#fb9f3a\"], [0.8888888888888888, \"#fdca26\"], [1.0, \"#f0f921\"]], \"type\": \"contour\"}], \"contourcarpet\": [{\"colorbar\": {\"outlinewidth\": 0, \"ticks\": \"\"}, \"type\": \"contourcarpet\"}], \"heatmap\": [{\"colorbar\": {\"outlinewidth\": 0, \"ticks\": \"\"}, \"colorscale\": [[0.0, \"#0d0887\"], [0.1111111111111111, \"#46039f\"], [0.2222222222222222, \"#7201a8\"], [0.3333333333333333, \"#9c179e\"], [0.4444444444444444, \"#bd3786\"], [0.5555555555555556, \"#d8576b\"], [0.6666666666666666, \"#ed7953\"], [0.7777777777777778, \"#fb9f3a\"], [0.8888888888888888, \"#fdca26\"], [1.0, \"#f0f921\"]], \"type\": \"heatmap\"}], \"heatmapgl\": [{\"colorbar\": {\"outlinewidth\": 0, \"ticks\": \"\"}, \"colorscale\": [[0.0, \"#0d0887\"], [0.1111111111111111, \"#46039f\"], [0.2222222222222222, \"#7201a8\"], [0.3333333333333333, \"#9c179e\"], [0.4444444444444444, \"#bd3786\"], [0.5555555555555556, \"#d8576b\"], [0.6666666666666666, \"#ed7953\"], [0.7777777777777778, \"#fb9f3a\"], [0.8888888888888888, \"#fdca26\"], [1.0, \"#f0f921\"]], \"type\": \"heatmapgl\"}], \"histogram\": [{\"marker\": {\"colorbar\": {\"outlinewidth\": 0, \"ticks\": \"\"}}, \"type\": \"histogram\"}], \"histogram2d\": [{\"colorbar\": {\"outlinewidth\": 0, \"ticks\": \"\"}, \"colorscale\": [[0.0, \"#0d0887\"], [0.1111111111111111, \"#46039f\"], [0.2222222222222222, \"#7201a8\"], [0.3333333333333333, \"#9c179e\"], [0.4444444444444444, \"#bd3786\"], [0.5555555555555556, \"#d8576b\"], [0.6666666666666666, \"#ed7953\"], [0.7777777777777778, \"#fb9f3a\"], [0.8888888888888888, \"#fdca26\"], [1.0, \"#f0f921\"]], \"type\": \"histogram2d\"}], \"histogram2dcontour\": [{\"colorbar\": {\"outlinewidth\": 0, \"ticks\": \"\"}, \"colorscale\": [[0.0, \"#0d0887\"], [0.1111111111111111, \"#46039f\"], [0.2222222222222222, \"#7201a8\"], [0.3333333333333333, \"#9c179e\"], [0.4444444444444444, \"#bd3786\"], [0.5555555555555556, \"#d8576b\"], [0.6666666666666666, \"#ed7953\"], [0.7777777777777778, \"#fb9f3a\"], [0.8888888888888888, \"#fdca26\"], [1.0, \"#f0f921\"]], \"type\": \"histogram2dcontour\"}], \"mesh3d\": [{\"colorbar\": {\"outlinewidth\": 0, \"ticks\": \"\"}, \"type\": \"mesh3d\"}], \"parcoords\": [{\"line\": {\"colorbar\": {\"outlinewidth\": 0, \"ticks\": \"\"}}, \"type\": \"parcoords\"}], \"pie\": [{\"automargin\": true, \"type\": \"pie\"}], \"scatter\": [{\"marker\": {\"colorbar\": {\"outlinewidth\": 0, \"ticks\": \"\"}}, \"type\": \"scatter\"}], \"scatter3d\": [{\"line\": {\"colorbar\": {\"outlinewidth\": 0, \"ticks\": \"\"}}, \"marker\": {\"colorbar\": {\"outlinewidth\": 0, \"ticks\": \"\"}}, \"type\": \"scatter3d\"}], \"scattercarpet\": [{\"marker\": {\"colorbar\": {\"outlinewidth\": 0, \"ticks\": \"\"}}, \"type\": \"scattercarpet\"}], \"scattergeo\": [{\"marker\": {\"colorbar\": {\"outlinewidth\": 0, \"ticks\": \"\"}}, \"type\": \"scattergeo\"}], \"scattergl\": [{\"marker\": {\"colorbar\": {\"outlinewidth\": 0, \"ticks\": \"\"}}, \"type\": \"scattergl\"}], \"scattermapbox\": [{\"marker\": {\"colorbar\": {\"outlinewidth\": 0, \"ticks\": \"\"}}, \"type\": \"scattermapbox\"}], \"scatterpolar\": [{\"marker\": {\"colorbar\": {\"outlinewidth\": 0, \"ticks\": \"\"}}, \"type\": \"scatterpolar\"}], \"scatterpolargl\": [{\"marker\": {\"colorbar\": {\"outlinewidth\": 0, \"ticks\": \"\"}}, \"type\": \"scatterpolargl\"}], \"scatterternary\": [{\"marker\": {\"colorbar\": {\"outlinewidth\": 0, \"ticks\": \"\"}}, \"type\": \"scatterternary\"}], \"surface\": [{\"colorbar\": {\"outlinewidth\": 0, \"ticks\": \"\"}, \"colorscale\": [[0.0, \"#0d0887\"], [0.1111111111111111, \"#46039f\"], [0.2222222222222222, \"#7201a8\"], [0.3333333333333333, \"#9c179e\"], [0.4444444444444444, \"#bd3786\"], [0.5555555555555556, \"#d8576b\"], [0.6666666666666666, \"#ed7953\"], [0.7777777777777778, \"#fb9f3a\"], [0.8888888888888888, \"#fdca26\"], [1.0, \"#f0f921\"]], \"type\": \"surface\"}], \"table\": [{\"cells\": {\"fill\": {\"color\": \"#EBF0F8\"}, \"line\": {\"color\": \"white\"}}, \"header\": {\"fill\": {\"color\": \"#C8D4E3\"}, \"line\": {\"color\": \"white\"}}, \"type\": \"table\"}]}, \"layout\": {\"annotationdefaults\": {\"arrowcolor\": \"#2a3f5f\", \"arrowhead\": 0, \"arrowwidth\": 1}, \"autotypenumbers\": \"strict\", \"coloraxis\": {\"colorbar\": {\"outlinewidth\": 0, \"ticks\": \"\"}}, \"colorscale\": {\"diverging\": [[0, \"#8e0152\"], [0.1, \"#c51b7d\"], [0.2, \"#de77ae\"], [0.3, \"#f1b6da\"], [0.4, \"#fde0ef\"], [0.5, \"#f7f7f7\"], [0.6, \"#e6f5d0\"], [0.7, \"#b8e186\"], [0.8, \"#7fbc41\"], [0.9, \"#4d9221\"], [1, \"#276419\"]], \"sequential\": [[0.0, \"#0d0887\"], [0.1111111111111111, \"#46039f\"], [0.2222222222222222, \"#7201a8\"], [0.3333333333333333, \"#9c179e\"], [0.4444444444444444, \"#bd3786\"], [0.5555555555555556, \"#d8576b\"], [0.6666666666666666, \"#ed7953\"], [0.7777777777777778, \"#fb9f3a\"], [0.8888888888888888, \"#fdca26\"], [1.0, \"#f0f921\"]], \"sequentialminus\": [[0.0, \"#0d0887\"], [0.1111111111111111, \"#46039f\"], [0.2222222222222222, \"#7201a8\"], [0.3333333333333333, \"#9c179e\"], [0.4444444444444444, \"#bd3786\"], [0.5555555555555556, \"#d8576b\"], [0.6666666666666666, \"#ed7953\"], [0.7777777777777778, \"#fb9f3a\"], [0.8888888888888888, \"#fdca26\"], [1.0, \"#f0f921\"]]}, \"colorway\": [\"#636efa\", \"#EF553B\", \"#00cc96\", \"#ab63fa\", \"#FFA15A\", \"#19d3f3\", \"#FF6692\", \"#B6E880\", \"#FF97FF\", \"#FECB52\"], \"font\": {\"color\": \"#2a3f5f\"}, \"geo\": {\"bgcolor\": \"white\", \"lakecolor\": \"white\", \"landcolor\": \"#E5ECF6\", \"showlakes\": true, \"showland\": true, \"subunitcolor\": \"white\"}, \"hoverlabel\": {\"align\": \"left\"}, \"hovermode\": \"closest\", \"mapbox\": {\"style\": \"light\"}, \"paper_bgcolor\": \"white\", \"plot_bgcolor\": \"#E5ECF6\", \"polar\": {\"angularaxis\": {\"gridcolor\": \"white\", \"linecolor\": \"white\", \"ticks\": \"\"}, \"bgcolor\": \"#E5ECF6\", \"radialaxis\": {\"gridcolor\": \"white\", \"linecolor\": \"white\", \"ticks\": \"\"}}, \"scene\": {\"xaxis\": {\"backgroundcolor\": \"#E5ECF6\", \"gridcolor\": \"white\", \"gridwidth\": 2, \"linecolor\": \"white\", \"showbackground\": true, \"ticks\": \"\", \"zerolinecolor\": \"white\"}, \"yaxis\": {\"backgroundcolor\": \"#E5ECF6\", \"gridcolor\": \"white\", \"gridwidth\": 2, \"linecolor\": \"white\", \"showbackground\": true, \"ticks\": \"\", \"zerolinecolor\": \"white\"}, \"zaxis\": {\"backgroundcolor\": \"#E5ECF6\", \"gridcolor\": \"white\", \"gridwidth\": 2, \"linecolor\": \"white\", \"showbackground\": true, \"ticks\": \"\", \"zerolinecolor\": \"white\"}}, \"shapedefaults\": {\"line\": {\"color\": \"#2a3f5f\"}}, \"ternary\": {\"aaxis\": {\"gridcolor\": \"white\", \"linecolor\": \"white\", \"ticks\": \"\"}, \"baxis\": {\"gridcolor\": \"white\", \"linecolor\": \"white\", \"ticks\": \"\"}, \"bgcolor\": \"#E5ECF6\", \"caxis\": {\"gridcolor\": \"white\", \"linecolor\": \"white\", \"ticks\": \"\"}}, \"title\": {\"x\": 0.05}, \"xaxis\": {\"automargin\": true, \"gridcolor\": \"white\", \"linecolor\": \"white\", \"ticks\": \"\", \"title\": {\"standoff\": 15}, \"zerolinecolor\": \"white\", \"zerolinewidth\": 2}, \"yaxis\": {\"automargin\": true, \"gridcolor\": \"white\", \"linecolor\": \"white\", \"ticks\": \"\", \"title\": {\"standoff\": 15}, \"zerolinecolor\": \"white\", \"zerolinewidth\": 2}}}, \"title\": {\"text\": \"Negative\"}, \"width\": 1000},                        {\"responsive\": true}                    ).then(function(){\n",
       "                            \n",
       "var gd = document.getElementById('e3b751b6-7be0-4f12-91e6-7b63218a541e');\n",
       "var x = new MutationObserver(function (mutations, observer) {{\n",
       "        var display = window.getComputedStyle(gd).display;\n",
       "        if (!display || display === 'none') {{\n",
       "            console.log([gd, 'removed!']);\n",
       "            Plotly.purge(gd);\n",
       "            observer.disconnect();\n",
       "        }}\n",
       "}});\n",
       "\n",
       "// Listen for the removal of the full notebook cells\n",
       "var notebookContainer = gd.closest('#notebook-container');\n",
       "if (notebookContainer) {{\n",
       "    x.observe(notebookContainer, {childList: true});\n",
       "}}\n",
       "\n",
       "// Listen for the clearing of the current output cell\n",
       "var outputEl = gd.closest('.output');\n",
       "if (outputEl) {{\n",
       "    x.observe(outputEl, {childList: true});\n",
       "}}\n",
       "\n",
       "                        })                };                });            </script>        </div>"
      ]
     },
     "metadata": {},
     "output_type": "display_data"
    }
   ],
   "source": [
    "\n",
    "import plotly.graph_objects as go\n",
    "import pandas as pd\n",
    "\n",
    "def WriteMyTable(dataSets):\n",
    "    for frame in dataSets:\n",
    "        headerColor = 'grey'\n",
    "        rowEvenColor = 'lightgrey'\n",
    "        rowOddColor = 'white'\n",
    "\n",
    "        fig = go.Figure(data=[go.Table(\n",
    "            columnwidth = [300,40,40,40],\n",
    "            header=dict(values=[x for x in features],\n",
    "                        fill_color='#39416C',                \n",
    "                        font=dict(color='white', size=12),\n",
    "                        align=['left', 'center', 'center', 'center']),\n",
    "            cells=dict(values=[frame.Forum_Post_Raw, frame.neg, frame.neu, frame.pos],\n",
    "                    fill_color = [[rowOddColor,rowEvenColor,rowOddColor, rowEvenColor,rowOddColor]*5],\n",
    "                    align=['left', 'center', 'center', 'center']))\n",
    "        ])\n",
    "        fig.update_layout(title=frame.name, width=1000, height=400)\n",
    "        fig.write_html(frame.name+\".html\")\n",
    "        fig.show()\n",
    "\n",
    "WriteMyTable(dataSets)\n"
   ]
  },
  {
   "cell_type": "markdown",
   "metadata": {},
   "source": [
    "# Charting Ideas\n",
    "1. Top pos / neg post by user\n",
    "2. Trend line over time (SNS) color = user\n",
    "- Does it match up to release dates or seasonal timings? \n",
    "- Was there a bad release?\n",
    "- Was there a good release?\n",
    "- Can we classify based on tags?\n",
    "\n",
    "3. PCA analysis\n",
    "4. Felix analysis (lda): https://towardsdatascience.com/the-complete-guide-for-topics-extraction-in-python-a6aaa6cedbbc\n",
    "5. Prediction of nltk accuracy chart?"
   ]
  },
  {
   "cell_type": "markdown",
   "metadata": {},
   "source": [
    "# Latent Dirichlet Allocation (LDA) Analysis"
   ]
  },
  {
   "cell_type": "markdown",
   "metadata": {},
   "source": [
    "Three main parameters of the model\n",
    "1. Number of topics\n",
    "2. Number of words per topic\n",
    "3. Number of topics per document"
   ]
  },
  {
   "cell_type": "code",
   "execution_count": 220,
   "metadata": {},
   "outputs": [
    {
     "name": "stderr",
     "output_type": "stream",
     "text": [
      "C:\\Users\\BDelamater\\Anaconda3\\lib\\site-packages\\ipykernel\\ipkernel.py:287: DeprecationWarning:\n",
      "\n",
      "`should_run_async` will not call `transform_cell` automatically in the future. Please pass the result to `transformed_cell` argument and any exception that happen during thetransform in `preprocessing_exc_tuple` in IPython 7.17 and above.\n",
      "\n",
      "<ipython-input-220-6223f08b0e3e>:4: TqdmDeprecationWarning:\n",
      "\n",
      "This function will be removed in tqdm==5.0.0\n",
      "Please use `tqdm.notebook.tqdm` instead of `tqdm.tqdm_notebook`\n",
      "\n"
     ]
    },
    {
     "data": {
      "application/vnd.jupyter.widget-view+json": {
       "model_id": "34c8ed7db52348ff91d9e1e7eacb4e84",
       "version_major": 2,
       "version_minor": 0
      },
      "text/plain": [
       "0it [00:00, ?it/s]"
      ]
     },
     "metadata": {},
     "output_type": "display_data"
    },
    {
     "name": "stderr",
     "output_type": "stream",
     "text": [
      "[nltk_data] Downloading package averaged_perceptron_tagger to\n",
      "[nltk_data]     C:\\Users\\BDelamater\\AppData\\Roaming\\nltk_data...\n",
      "[nltk_data]   Package averaged_perceptron_tagger is already up-to-\n",
      "[nltk_data]       date!\n"
     ]
    }
   ],
   "source": [
    "from gensim import corpora, models\n",
    "from langdetect import detect\n",
    "from tqdm import tqdm_notebook\n",
    "tqdm_notebook().pandas()\n",
    "from nltk.tokenize import sent_tokenize\n",
    "from nltk.tokenize import word_tokenize\n",
    "from nltk import pos_tag\n",
    "from gensim.models import Phrases\n",
    "from gensim import corpora\n",
    "from gensim import models\n",
    "import numpy as np\n",
    "\n",
    "\n",
    "import nltk\n",
    "nltk.download('averaged_perceptron_tagger')\n",
    "from itertools import chain # to flatten list of sentences of tokens into list of tokens\n",
    "\n"
   ]
  },
  {
   "cell_type": "code",
   "execution_count": 221,
   "metadata": {},
   "outputs": [
    {
     "name": "stderr",
     "output_type": "stream",
     "text": [
      "C:\\Users\\BDelamater\\Anaconda3\\lib\\site-packages\\ipykernel\\ipkernel.py:287: DeprecationWarning:\n",
      "\n",
      "`should_run_async` will not call `transform_cell` automatically in the future. Please pass the result to `transformed_cell` argument and any exception that happen during thetransform in `preprocessing_exc_tuple` in IPython 7.17 and above.\n",
      "\n"
     ]
    }
   ],
   "source": [
    "# dictionary_LDA = corpora.Dictionary(list_of_list_of_tokens)\n",
    "# dictionary_LDA.filter_extremes(no_below=3)\n",
    "# corpus = [dictionary_LDA.doc2bow(list_of_tokens) for list_of_tokens in list_of_list_of_tokens]\n",
    "\n",
    "# num_topics = 20\n",
    "# %time lda_model = models.LdaModel(corpus, num_topics=num_topics, \\\n",
    "#                                   id2word=dictionary_LDA, \\\n",
    "#                                   passes=4, alpha=[0.01]*num_topics, \\\n",
    "#                                   eta=[0.01]*len(dictionary_LDA.keys()))"
   ]
  },
  {
   "cell_type": "markdown",
   "metadata": {},
   "source": [
    "## Tokenization"
   ]
  },
  {
   "cell_type": "code",
   "execution_count": 222,
   "metadata": {},
   "outputs": [
    {
     "name": "stderr",
     "output_type": "stream",
     "text": [
      "C:\\Users\\BDelamater\\Anaconda3\\lib\\site-packages\\ipykernel\\ipkernel.py:287: DeprecationWarning:\n",
      "\n",
      "`should_run_async` will not call `transform_cell` automatically in the future. Please pass the result to `transformed_cell` argument and any exception that happen during thetransform in `preprocessing_exc_tuple` in IPython 7.17 and above.\n",
      "\n"
     ]
    },
    {
     "data": {
      "text/plain": [
       "Forum ID            0\n",
       "Forum Name          0\n",
       "Subject             0\n",
       "Post Date           0\n",
       "User DisplayName    0\n",
       "Forum_Post_Raw      0\n",
       "compound            0\n",
       "neg                 0\n",
       "neu                 0\n",
       "pos                 0\n",
       "Sentiment           0\n",
       "PostDate            0\n",
       "DayName             0\n",
       "DayOfMonth          0\n",
       "ShortText           0\n",
       "dtype: int64"
      ]
     },
     "execution_count": 222,
     "metadata": {},
     "output_type": "execute_result"
    }
   ],
   "source": [
    "dfLDA.isna().sum()"
   ]
  },
  {
   "cell_type": "code",
   "execution_count": 223,
   "metadata": {},
   "outputs": [
    {
     "name": "stderr",
     "output_type": "stream",
     "text": [
      "C:\\Users\\BDelamater\\Anaconda3\\lib\\site-packages\\ipykernel\\ipkernel.py:287: DeprecationWarning:\n",
      "\n",
      "`should_run_async` will not call `transform_cell` automatically in the future. Please pass the result to `transformed_cell` argument and any exception that happen during thetransform in `preprocessing_exc_tuple` in IPython 7.17 and above.\n",
      "\n"
     ]
    },
    {
     "data": {
      "application/vnd.jupyter.widget-view+json": {
       "model_id": "44b71f1f093742b2ab478c3e24003b5b",
       "version_major": 2,
       "version_minor": 0
      },
      "text/plain": [
       "  0%|          | 0/1086 [00:00<?, ?it/s]"
      ]
     },
     "metadata": {},
     "output_type": "display_data"
    },
    {
     "data": {
      "text/plain": [
       "['Company upgraded to windows 10.',\n",
       " 'Used to run an ERP program which no one heard about, made by U8Soft (keep in mind that the company is in China).',\n",
       " 'They are now asking for an insanely high amount of money to get it to work on windows 10.']"
      ]
     },
     "execution_count": 223,
     "metadata": {},
     "output_type": "execute_result"
    }
   ],
   "source": [
    "dfLDA['sentences'] = dfLDA.Forum_Post_Raw.progress_map(sent_tokenize)\n",
    "dfLDA['sentences'].head(1).tolist()[0][:3]"
   ]
  },
  {
   "cell_type": "code",
   "execution_count": 224,
   "metadata": {},
   "outputs": [
    {
     "name": "stderr",
     "output_type": "stream",
     "text": [
      "C:\\Users\\BDelamater\\Anaconda3\\lib\\site-packages\\ipykernel\\ipkernel.py:287: DeprecationWarning:\n",
      "\n",
      "`should_run_async` will not call `transform_cell` automatically in the future. Please pass the result to `transformed_cell` argument and any exception that happen during thetransform in `preprocessing_exc_tuple` in IPython 7.17 and above.\n",
      "\n"
     ]
    },
    {
     "data": {
      "application/vnd.jupyter.widget-view+json": {
       "model_id": "7b05beb53dc84985b85f56012616cf98",
       "version_major": 2,
       "version_minor": 0
      },
      "text/plain": [
       "  0%|          | 0/1086 [00:00<?, ?it/s]"
      ]
     },
     "metadata": {},
     "output_type": "display_data"
    },
    {
     "name": "stdout",
     "output_type": "stream",
     "text": [
      "[['Company', 'upgraded', 'to', 'windows', '10', '.'], ['Used', 'to', 'run', 'an', 'ERP', 'program', 'which', 'no', 'one', 'heard', 'about', ',', 'made', 'by', 'U8Soft', '(', 'keep', 'in', 'mind', 'that', 'the', 'company', 'is', 'in', 'China', ')', '.'], ['They', 'are', 'now', 'asking', 'for', 'an', 'insanely', 'high', 'amount', 'of', 'money', 'to', 'get', 'it', 'to', 'work', 'on', 'windows', '10', '.']]\n"
     ]
    }
   ],
   "source": [
    "dfLDA['token_sentences'] = dfLDA['sentences'].progress_map(lambda sentences: [word_tokenize(sentence) for sentence in sentences])\n",
    "print(dfLDA['token_sentences'].head(1).tolist()[0][:3])"
   ]
  },
  {
   "cell_type": "code",
   "execution_count": 225,
   "metadata": {},
   "outputs": [
    {
     "name": "stderr",
     "output_type": "stream",
     "text": [
      "C:\\Users\\BDelamater\\Anaconda3\\lib\\site-packages\\ipykernel\\ipkernel.py:287: DeprecationWarning:\n",
      "\n",
      "`should_run_async` will not call `transform_cell` automatically in the future. Please pass the result to `transformed_cell` argument and any exception that happen during thetransform in `preprocessing_exc_tuple` in IPython 7.17 and above.\n",
      "\n"
     ]
    },
    {
     "data": {
      "application/vnd.jupyter.widget-view+json": {
       "model_id": "f199eb0fdd86483799f1cdad669c892a",
       "version_major": 2,
       "version_minor": 0
      },
      "text/plain": [
       "  0%|          | 0/1086 [00:00<?, ?it/s]"
      ]
     },
     "metadata": {},
     "output_type": "display_data"
    },
    {
     "name": "stdout",
     "output_type": "stream",
     "text": [
      "[['Company', 'upgraded', 'to', 'windows', '10', '.'], ['Used', 'to', 'run', 'an', 'ERP', 'program', 'which', 'no', 'one', 'heard', 'about', ',', 'made', 'by', 'U8Soft', '(', 'keep', 'in', 'mind', 'that', 'the', 'company', 'is', 'in', 'China', ')', '.'], ['They', 'are', 'now', 'asking', 'for', 'an', 'insanely', 'high', 'amount', 'of', 'money', 'to', 'get', 'it', 'to', 'work', 'on', 'windows', '10', '.']]\n"
     ]
    }
   ],
   "source": [
    "dfLDA['tokens_sentences'] = dfLDA['sentences'].progress_map(lambda sentences: [word_tokenize(sentence) for sentence in sentences])\n",
    "print(dfLDA['tokens_sentences'].head(1).tolist()[0][:3])"
   ]
  },
  {
   "cell_type": "markdown",
   "metadata": {},
   "source": [
    "## Lemmatize with POS tagging"
   ]
  },
  {
   "cell_type": "code",
   "execution_count": 226,
   "metadata": {},
   "outputs": [
    {
     "name": "stderr",
     "output_type": "stream",
     "text": [
      "C:\\Users\\BDelamater\\Anaconda3\\lib\\site-packages\\ipykernel\\ipkernel.py:287: DeprecationWarning:\n",
      "\n",
      "`should_run_async` will not call `transform_cell` automatically in the future. Please pass the result to `transformed_cell` argument and any exception that happen during thetransform in `preprocessing_exc_tuple` in IPython 7.17 and above.\n",
      "\n"
     ]
    },
    {
     "data": {
      "application/vnd.jupyter.widget-view+json": {
       "model_id": "7dca83592bc5455fa2def0b8f8bacb04",
       "version_major": 2,
       "version_minor": 0
      },
      "text/plain": [
       "  0%|          | 0/1086 [00:00<?, ?it/s]"
      ]
     },
     "metadata": {},
     "output_type": "display_data"
    },
    {
     "name": "stdout",
     "output_type": "stream",
     "text": [
      "[[('Company', 'NN'), ('upgraded', 'VBD'), ('to', 'TO'), ('windows', 'VB'), ('10', 'CD'), ('.', '.')], [('Used', 'VBN'), ('to', 'TO'), ('run', 'VB'), ('an', 'DT'), ('ERP', 'NNP'), ('program', 'NN'), ('which', 'WDT'), ('no', 'DT'), ('one', 'NN'), ('heard', 'NN'), ('about', 'IN'), (',', ','), ('made', 'VBN'), ('by', 'IN'), ('U8Soft', 'NNP'), ('(', '('), ('keep', 'VB'), ('in', 'IN'), ('mind', 'NN'), ('that', 'IN'), ('the', 'DT'), ('company', 'NN'), ('is', 'VBZ'), ('in', 'IN'), ('China', 'NNP'), (')', ')'), ('.', '.')], [('They', 'PRP'), ('are', 'VBP'), ('now', 'RB'), ('asking', 'VBG'), ('for', 'IN'), ('an', 'DT'), ('insanely', 'RB'), ('high', 'JJ'), ('amount', 'NN'), ('of', 'IN'), ('money', 'NN'), ('to', 'TO'), ('get', 'VB'), ('it', 'PRP'), ('to', 'TO'), ('work', 'VB'), ('on', 'IN'), ('windows', 'NNS'), ('10', 'CD'), ('.', '.')]]\n"
     ]
    }
   ],
   "source": [
    "dfLDA['POS_tokens'] = dfLDA['tokens_sentences'].progress_map(lambda tokens_sentences: [pos_tag(tokens) for tokens in tokens_sentences])\n",
    "print(dfLDA['POS_tokens'].head(1).tolist()[0][:3])\n"
   ]
  },
  {
   "cell_type": "code",
   "execution_count": 227,
   "metadata": {},
   "outputs": [
    {
     "name": "stderr",
     "output_type": "stream",
     "text": [
      "C:\\Users\\BDelamater\\Anaconda3\\lib\\site-packages\\ipykernel\\ipkernel.py:287: DeprecationWarning:\n",
      "\n",
      "`should_run_async` will not call `transform_cell` automatically in the future. Please pass the result to `transformed_cell` argument and any exception that happen during thetransform in `preprocessing_exc_tuple` in IPython 7.17 and above.\n",
      "\n"
     ]
    }
   ],
   "source": [
    "# Inspired from https://stackoverflow.com/a/15590384\n",
    "from nltk.corpus import wordnet\n",
    "\n",
    "def get_wordnet_pos(treebank_tag):\n",
    "\n",
    "    if treebank_tag.startswith('J'):\n",
    "        return wordnet.ADJ\n",
    "    elif treebank_tag.startswith('V'):\n",
    "        return wordnet.VERB\n",
    "    elif treebank_tag.startswith('N'):\n",
    "        return wordnet.NOUN\n",
    "    elif treebank_tag.startswith('R'):\n",
    "        return wordnet.ADV\n",
    "    else:\n",
    "        return ''\n",
    "\n",
    "from nltk.stem.wordnet import WordNetLemmatizer\n",
    "lemmatizer = WordNetLemmatizer()"
   ]
  },
  {
   "cell_type": "code",
   "execution_count": 228,
   "metadata": {},
   "outputs": [
    {
     "name": "stderr",
     "output_type": "stream",
     "text": [
      "C:\\Users\\BDelamater\\Anaconda3\\lib\\site-packages\\ipykernel\\ipkernel.py:287: DeprecationWarning:\n",
      "\n",
      "`should_run_async` will not call `transform_cell` automatically in the future. Please pass the result to `transformed_cell` argument and any exception that happen during thetransform in `preprocessing_exc_tuple` in IPython 7.17 and above.\n",
      "\n"
     ]
    },
    {
     "data": {
      "application/vnd.jupyter.widget-view+json": {
       "model_id": "9fa60b0428d641f88bf854b6125a4110",
       "version_major": 2,
       "version_minor": 0
      },
      "text/plain": [
       "  0%|          | 0/1086 [00:00<?, ?it/s]"
      ]
     },
     "metadata": {},
     "output_type": "display_data"
    }
   ],
   "source": [
    "# Lemmatizing each word with its POS tag, in each sentence\n",
    "dfLDA['tokens_sentences_lemmatized'] = dfLDA['POS_tokens'].progress_map(\n",
    "    lambda list_tokens_POS: [\n",
    "        [\n",
    "            lemmatizer.lemmatize(el[0], get_wordnet_pos(el[1])) \n",
    "            if get_wordnet_pos(el[1]) != '' else el[0] for el in tokens_POS\n",
    "        ] \n",
    "        for tokens_POS in list_tokens_POS\n",
    "    ]\n",
    ")"
   ]
  },
  {
   "cell_type": "code",
   "execution_count": 229,
   "metadata": {},
   "outputs": [
    {
     "name": "stderr",
     "output_type": "stream",
     "text": [
      "C:\\Users\\BDelamater\\Anaconda3\\lib\\site-packages\\ipykernel\\ipkernel.py:287: DeprecationWarning:\n",
      "\n",
      "`should_run_async` will not call `transform_cell` automatically in the future. Please pass the result to `transformed_cell` argument and any exception that happen during thetransform in `preprocessing_exc_tuple` in IPython 7.17 and above.\n",
      "\n"
     ]
    },
    {
     "data": {
      "text/plain": [
       "[['Company', 'upgrade', 'to', 'windows', '10', '.'],\n",
       " ['Used',\n",
       "  'to',\n",
       "  'run',\n",
       "  'an',\n",
       "  'ERP',\n",
       "  'program',\n",
       "  'which',\n",
       "  'no',\n",
       "  'one',\n",
       "  'heard',\n",
       "  'about',\n",
       "  ',',\n",
       "  'make',\n",
       "  'by',\n",
       "  'U8Soft',\n",
       "  '(',\n",
       "  'keep',\n",
       "  'in',\n",
       "  'mind',\n",
       "  'that',\n",
       "  'the',\n",
       "  'company',\n",
       "  'be',\n",
       "  'in',\n",
       "  'China',\n",
       "  ')',\n",
       "  '.'],\n",
       " ['They',\n",
       "  'be',\n",
       "  'now',\n",
       "  'ask',\n",
       "  'for',\n",
       "  'an',\n",
       "  'insanely',\n",
       "  'high',\n",
       "  'amount',\n",
       "  'of',\n",
       "  'money',\n",
       "  'to',\n",
       "  'get',\n",
       "  'it',\n",
       "  'to',\n",
       "  'work',\n",
       "  'on',\n",
       "  'window',\n",
       "  '10',\n",
       "  '.']]"
      ]
     },
     "execution_count": 229,
     "metadata": {},
     "output_type": "execute_result"
    }
   ],
   "source": [
    "dfLDA['tokens_sentences_lemmatized'].head(1).tolist()[0][:3]\n"
   ]
  },
  {
   "cell_type": "markdown",
   "metadata": {},
   "source": [
    "## Regrouping tokens and removing stop words"
   ]
  },
  {
   "cell_type": "code",
   "execution_count": null,
   "metadata": {},
   "outputs": [],
   "source": []
  },
  {
   "cell_type": "code",
   "execution_count": 230,
   "metadata": {},
   "outputs": [
    {
     "name": "stderr",
     "output_type": "stream",
     "text": [
      "C:\\Users\\BDelamater\\Anaconda3\\lib\\site-packages\\ipykernel\\ipkernel.py:287: DeprecationWarning:\n",
      "\n",
      "`should_run_async` will not call `transform_cell` automatically in the future. Please pass the result to `transformed_cell` argument and any exception that happen during thetransform in `preprocessing_exc_tuple` in IPython 7.17 and above.\n",
      "\n"
     ]
    }
   ],
   "source": [
    "from nltk.corpus import stopwords\n",
    "stopwords_verbs = ['say', 'get', 'go', 'know', 'may', 'need', 'like', 'make', 'see', 'want', 'come', 'take', 'use', 'would', 'can']\n",
    "stopwords_other = ['one', 'mr', 'bbc', 'image', 'getty', 'de', 'en', 'caption', 'also', 'copyright', 'something']\n",
    "stopwords_nonsense = ['hello', 'thanks', 'le', 'la', 'hi', 'try', 'sage', 'however', 'way']\n",
    "my_stopwords = stopwords.words('English') + stopwords_verbs + stopwords_other + stopwords_nonsense\n"
   ]
  },
  {
   "cell_type": "code",
   "execution_count": 231,
   "metadata": {},
   "outputs": [
    {
     "name": "stderr",
     "output_type": "stream",
     "text": [
      "C:\\Users\\BDelamater\\Anaconda3\\lib\\site-packages\\ipykernel\\ipkernel.py:287: DeprecationWarning:\n",
      "\n",
      "`should_run_async` will not call `transform_cell` automatically in the future. Please pass the result to `transformed_cell` argument and any exception that happen during thetransform in `preprocessing_exc_tuple` in IPython 7.17 and above.\n",
      "\n"
     ]
    }
   ],
   "source": [
    "dfLDA['tokens'] = dfLDA['tokens_sentences_lemmatized'].map(lambda sentences: list(chain.from_iterable(sentences)))\n",
    "dfLDA['tokens'] = dfLDA['tokens'].map(lambda tokens: [token.lower() for token in tokens if token.isalpha() \n",
    "                                                    and token.lower() not in my_stopwords and len(token)>1])\n"
   ]
  },
  {
   "cell_type": "code",
   "execution_count": 232,
   "metadata": {},
   "outputs": [
    {
     "name": "stderr",
     "output_type": "stream",
     "text": [
      "C:\\Users\\BDelamater\\Anaconda3\\lib\\site-packages\\ipykernel\\ipkernel.py:287: DeprecationWarning:\n",
      "\n",
      "`should_run_async` will not call `transform_cell` automatically in the future. Please pass the result to `transformed_cell` argument and any exception that happen during thetransform in `preprocessing_exc_tuple` in IPython 7.17 and above.\n",
      "\n"
     ]
    },
    {
     "data": {
      "text/plain": [
       "(1086, 21)"
      ]
     },
     "execution_count": 232,
     "metadata": {},
     "output_type": "execute_result"
    }
   ],
   "source": [
    "dfLDA.shape"
   ]
  },
  {
   "cell_type": "code",
   "execution_count": 233,
   "metadata": {},
   "outputs": [
    {
     "name": "stderr",
     "output_type": "stream",
     "text": [
      "C:\\Users\\BDelamater\\Anaconda3\\lib\\site-packages\\ipykernel\\ipkernel.py:287: DeprecationWarning:\n",
      "\n",
      "`should_run_async` will not call `transform_cell` automatically in the future. Please pass the result to `transformed_cell` argument and any exception that happen during thetransform in `preprocessing_exc_tuple` in IPython 7.17 and above.\n",
      "\n"
     ]
    },
    {
     "data": {
      "text/plain": [
       "['company',\n",
       " 'upgrade',\n",
       " 'windows',\n",
       " 'used',\n",
       " 'run',\n",
       " 'erp',\n",
       " 'program',\n",
       " 'heard',\n",
       " 'keep',\n",
       " 'mind',\n",
       " 'company',\n",
       " 'china',\n",
       " 'ask',\n",
       " 'insanely',\n",
       " 'high',\n",
       " 'amount',\n",
       " 'money',\n",
       " 'work',\n",
       " 'window',\n",
       " 'instal',\n",
       " 'window',\n",
       " 'ca',\n",
       " 'select',\n",
       " 'server',\n",
       " 'drop',\n",
       " 'menu',\n",
       " 'almost',\n",
       " 'network',\n",
       " 'list',\n",
       " 'except']"
      ]
     },
     "execution_count": 233,
     "metadata": {},
     "output_type": "execute_result"
    }
   ],
   "source": [
    "dfLDA['tokens'].head(1).tolist()[0][:30]\n"
   ]
  },
  {
   "cell_type": "markdown",
   "metadata": {},
   "source": [
    "## Data Preparation"
   ]
  },
  {
   "cell_type": "code",
   "execution_count": 234,
   "metadata": {},
   "outputs": [
    {
     "name": "stderr",
     "output_type": "stream",
     "text": [
      "C:\\Users\\BDelamater\\Anaconda3\\lib\\site-packages\\ipykernel\\ipkernel.py:287: DeprecationWarning:\n",
      "\n",
      "`should_run_async` will not call `transform_cell` automatically in the future. Please pass the result to `transformed_cell` argument and any exception that happen during thetransform in `preprocessing_exc_tuple` in IPython 7.17 and above.\n",
      "\n"
     ]
    }
   ],
   "source": [
    "tokens = dfLDA['tokens'].tolist()\n",
    "bigram_model = Phrases(tokens)\n",
    "trigram_model = Phrases(bigram_model[tokens], min_count=1)\n",
    "tokens = list(trigram_model[bigram_model[tokens]])\n"
   ]
  },
  {
   "cell_type": "code",
   "execution_count": 235,
   "metadata": {},
   "outputs": [
    {
     "name": "stderr",
     "output_type": "stream",
     "text": [
      "C:\\Users\\BDelamater\\Anaconda3\\lib\\site-packages\\ipykernel\\ipkernel.py:287: DeprecationWarning:\n",
      "\n",
      "`should_run_async` will not call `transform_cell` automatically in the future. Please pass the result to `transformed_cell` argument and any exception that happen during thetransform in `preprocessing_exc_tuple` in IPython 7.17 and above.\n",
      "\n"
     ]
    },
    {
     "data": {
      "text/plain": [
       "(1086, 21)"
      ]
     },
     "execution_count": 235,
     "metadata": {},
     "output_type": "execute_result"
    }
   ],
   "source": [
    "dfLDA.shape"
   ]
  },
  {
   "cell_type": "code",
   "execution_count": 236,
   "metadata": {},
   "outputs": [
    {
     "name": "stderr",
     "output_type": "stream",
     "text": [
      "C:\\Users\\BDelamater\\Anaconda3\\lib\\site-packages\\ipykernel\\ipkernel.py:287: DeprecationWarning:\n",
      "\n",
      "`should_run_async` will not call `transform_cell` automatically in the future. Please pass the result to `transformed_cell` argument and any exception that happen during thetransform in `preprocessing_exc_tuple` in IPython 7.17 and above.\n",
      "\n"
     ]
    }
   ],
   "source": [
    "dictionary_LDA = corpora.Dictionary(tokens)\n",
    "dictionary_LDA.filter_extremes(no_below=3)\n",
    "corpus = [dictionary_LDA.doc2bow(tok) for tok in tokens]\n"
   ]
  },
  {
   "cell_type": "code",
   "execution_count": 237,
   "metadata": {},
   "outputs": [
    {
     "name": "stderr",
     "output_type": "stream",
     "text": [
      "C:\\Users\\BDelamater\\Anaconda3\\lib\\site-packages\\ipykernel\\ipkernel.py:287: DeprecationWarning:\n",
      "\n",
      "`should_run_async` will not call `transform_cell` automatically in the future. Please pass the result to `transformed_cell` argument and any exception that happen during thetransform in `preprocessing_exc_tuple` in IPython 7.17 and above.\n",
      "\n"
     ]
    },
    {
     "name": "stdout",
     "output_type": "stream",
     "text": [
      "Wall time: 5.86 s\n"
     ]
    }
   ],
   "source": [
    "np.random.seed(123456)\n",
    "num_topics = 3\n",
    "\n",
    "%time lda_model = models.LdaModel(corpus, num_topics=num_topics, id2word=dictionary_LDA, passes=10, alpha=[0.01]*num_topics, eta=[0.01]*len(dictionary_LDA.keys()))\n",
    "\n"
   ]
  },
  {
   "cell_type": "code",
   "execution_count": 238,
   "metadata": {},
   "outputs": [
    {
     "name": "stderr",
     "output_type": "stream",
     "text": [
      "C:\\Users\\BDelamater\\Anaconda3\\lib\\site-packages\\ipykernel\\ipkernel.py:287: DeprecationWarning:\n",
      "\n",
      "`should_run_async` will not call `transform_cell` automatically in the future. Please pass the result to `transformed_cell` argument and any exception that happen during thetransform in `preprocessing_exc_tuple` in IPython 7.17 and above.\n",
      "\n"
     ]
    }
   ],
   "source": [
    "lda_model.save('myLdaModel.model')"
   ]
  },
  {
   "cell_type": "code",
   "execution_count": 239,
   "metadata": {},
   "outputs": [
    {
     "name": "stdout",
     "output_type": "stream",
     "text": [
      "0: 0.016*\"create\" + 0.013*\"invoice\" + 0.012*\"line\" + 0.011*\"file\" + 0.010*\"import\" + 0.009*\"error\" + 0.008*\"customer\" + 0.008*\"folder\" + 0.007*\"work\" + 0.007*\"product\" + 0.007*\"anyone\" + 0.007*\"order\" + 0.007*\"sale_order\" + 0.006*\"find\" + 0.006*\"check\" + 0.006*\"set\" + 0.005*\"run\" + 0.005*\"call\" + 0.005*\"system\" + 0.005*\"help\"\n",
      "\n",
      "1: 0.017*\"error\" + 0.015*\"user\" + 0.010*\"create\" + 0.008*\"table\" + 0.007*\"issue\" + 0.007*\"work\" + 0.007*\"server\" + 0.006*\"find\" + 0.006*\"update\" + 0.005*\"set\" + 0.005*\"record\" + 0.005*\"different\" + 0.005*\"change\" + 0.005*\"problem\" + 0.005*\"data\" + 0.005*\"version\" + 0.005*\"patch\" + 0.005*\"process\" + 0.004*\"please\" + 0.004*\"report\"\n",
      "\n",
      "2: 0.017*\"field\" + 0.015*\"create\" + 0.013*\"product\" + 0.012*\"change\" + 0.010*\"screen\" + 0.009*\"customer\" + 0.009*\"value\" + 0.009*\"run\" + 0.009*\"table\" + 0.008*\"user\" + 0.008*\"function\" + 0.007*\"set\" + 0.007*\"report\" + 0.006*\"add\" + 0.006*\"new\" + 0.006*\"error\" + 0.006*\"code\" + 0.006*\"stock\" + 0.006*\"data\" + 0.006*\"possible\"\n",
      "\n"
     ]
    },
    {
     "name": "stderr",
     "output_type": "stream",
     "text": [
      "C:\\Users\\BDelamater\\Anaconda3\\lib\\site-packages\\ipykernel\\ipkernel.py:287: DeprecationWarning:\n",
      "\n",
      "`should_run_async` will not call `transform_cell` automatically in the future. Please pass the result to `transformed_cell` argument and any exception that happen during thetransform in `preprocessing_exc_tuple` in IPython 7.17 and above.\n",
      "\n"
     ]
    }
   ],
   "source": [
    "for i,topic in lda_model.show_topics(formatted=True, num_topics=num_topics, num_words=20):\n",
    "    print(str(i)+\": \"+ topic)\n",
    "    print()"
   ]
  },
  {
   "cell_type": "code",
   "execution_count": 240,
   "metadata": {},
   "outputs": [
    {
     "name": "stderr",
     "output_type": "stream",
     "text": [
      "C:\\Users\\BDelamater\\Anaconda3\\lib\\site-packages\\ipykernel\\ipkernel.py:287: DeprecationWarning:\n",
      "\n",
      "`should_run_async` will not call `transform_cell` automatically in the future. Please pass the result to `transformed_cell` argument and any exception that happen during thetransform in `preprocessing_exc_tuple` in IPython 7.17 and above.\n",
      "\n"
     ]
    },
    {
     "data": {
      "text/plain": [
       "[['\"create\" ',\n",
       "  '\"invoice\" ',\n",
       "  '\"line\" ',\n",
       "  '\"file\" ',\n",
       "  '\"import\" ',\n",
       "  '\"error\" ',\n",
       "  '\"customer\" ',\n",
       "  '\"folder\" ',\n",
       "  '\"work\" ',\n",
       "  '\"product\" ',\n",
       "  '\"anyone\" ',\n",
       "  '\"order\" ',\n",
       "  '\"sale_order\" ',\n",
       "  '\"find\" ',\n",
       "  '\"check\" ',\n",
       "  '\"set\" ',\n",
       "  '\"run\" ',\n",
       "  '\"call\" ',\n",
       "  '\"system\" ',\n",
       "  '\"help\"'],\n",
       " ['\"error\" ',\n",
       "  '\"user\" ',\n",
       "  '\"create\" ',\n",
       "  '\"table\" ',\n",
       "  '\"issue\" ',\n",
       "  '\"work\" ',\n",
       "  '\"server\" ',\n",
       "  '\"find\" ',\n",
       "  '\"update\" ',\n",
       "  '\"set\" ',\n",
       "  '\"record\" ',\n",
       "  '\"different\" ',\n",
       "  '\"change\" ',\n",
       "  '\"problem\" ',\n",
       "  '\"data\" ',\n",
       "  '\"version\" ',\n",
       "  '\"patch\" ',\n",
       "  '\"process\" ',\n",
       "  '\"please\" ',\n",
       "  '\"report\"']]"
      ]
     },
     "execution_count": 240,
     "metadata": {},
     "output_type": "execute_result"
    }
   ],
   "source": [
    "# for i,topic in lda_model.show_topics(formatted=True, num_topics=num_topics, num_words=20):\n",
    "#     print(str(i)+\": \"+ topic)\n",
    "#     print()\n",
    "\n",
    "model_topic_words =[]\n",
    "for i,topic in lda_model.show_topics(formatted=True, num_topics=num_topics, num_words=20):\n",
    "    t_words =[]\n",
    "    ts =topic.split(\"+\")\n",
    "    for t in range(0, len(ts)):\n",
    "        # print(ts[t].split('*'))\n",
    "        t_words.append(ts[t].split('*')[1])\n",
    "\n",
    "    model_topic_words.append(t_words)\n",
    "\n",
    "model_topic_words[:2]\n",
    "\n"
   ]
  },
  {
   "cell_type": "code",
   "execution_count": 241,
   "metadata": {},
   "outputs": [
    {
     "name": "stderr",
     "output_type": "stream",
     "text": [
      "C:\\Users\\BDelamater\\Anaconda3\\lib\\site-packages\\ipykernel\\ipkernel.py:287: DeprecationWarning:\n",
      "\n",
      "`should_run_async` will not call `transform_cell` automatically in the future. Please pass the result to `transformed_cell` argument and any exception that happen during thetransform in `preprocessing_exc_tuple` in IPython 7.17 and above.\n",
      "\n"
     ]
    },
    {
     "data": {
      "text/html": [
       "<div>\n",
       "<style scoped>\n",
       "    .dataframe tbody tr th:only-of-type {\n",
       "        vertical-align: middle;\n",
       "    }\n",
       "\n",
       "    .dataframe tbody tr th {\n",
       "        vertical-align: top;\n",
       "    }\n",
       "\n",
       "    .dataframe thead th {\n",
       "        text-align: right;\n",
       "    }\n",
       "</style>\n",
       "<table border=\"1\" class=\"dataframe\">\n",
       "  <thead>\n",
       "    <tr style=\"text-align: right;\">\n",
       "      <th></th>\n",
       "      <th>Forum ID</th>\n",
       "      <th>Forum Name</th>\n",
       "      <th>Subject</th>\n",
       "      <th>Post Date</th>\n",
       "      <th>User DisplayName</th>\n",
       "      <th>Forum_Post_Raw</th>\n",
       "      <th>compound</th>\n",
       "      <th>neg</th>\n",
       "      <th>neu</th>\n",
       "      <th>pos</th>\n",
       "      <th>...</th>\n",
       "      <th>PostDate</th>\n",
       "      <th>DayName</th>\n",
       "      <th>DayOfMonth</th>\n",
       "      <th>ShortText</th>\n",
       "      <th>sentences</th>\n",
       "      <th>token_sentences</th>\n",
       "      <th>tokens_sentences</th>\n",
       "      <th>POS_tokens</th>\n",
       "      <th>tokens_sentences_lemmatized</th>\n",
       "      <th>tokens</th>\n",
       "    </tr>\n",
       "  </thead>\n",
       "  <tbody>\n",
       "    <tr>\n",
       "      <th>0</th>\n",
       "      <td>40</td>\n",
       "      <td>Sage X3 General Discussion</td>\n",
       "      <td>ERP help urgently needed</td>\n",
       "      <td>2019-10-10T05:58:05.73</td>\n",
       "      <td>ChinusGomes</td>\n",
       "      <td>Company upgraded to windows 10. Used to run an...</td>\n",
       "      <td>0.0387</td>\n",
       "      <td>0.063</td>\n",
       "      <td>0.873</td>\n",
       "      <td>0.064</td>\n",
       "      <td>...</td>\n",
       "      <td>2019-10-10 05:58:05.730</td>\n",
       "      <td>Thursday</td>\n",
       "      <td>10</td>\n",
       "      <td>Company upgraded to windows 10. Used to run an...</td>\n",
       "      <td>[Company upgraded to windows 10., Used to run ...</td>\n",
       "      <td>[[Company, upgraded, to, windows, 10, .], [Use...</td>\n",
       "      <td>[[Company, upgraded, to, windows, 10, .], [Use...</td>\n",
       "      <td>[[(Company, NN), (upgraded, VBD), (to, TO), (w...</td>\n",
       "      <td>[[Company, upgrade, to, windows, 10, .], [Used...</td>\n",
       "      <td>[company, upgrade, windows, used, run, erp, pr...</td>\n",
       "    </tr>\n",
       "  </tbody>\n",
       "</table>\n",
       "<p>1 rows × 21 columns</p>\n",
       "</div>"
      ],
      "text/plain": [
       "   Forum ID                  Forum Name                   Subject  \\\n",
       "0        40  Sage X3 General Discussion  ERP help urgently needed   \n",
       "\n",
       "                Post Date User DisplayName  \\\n",
       "0  2019-10-10T05:58:05.73      ChinusGomes   \n",
       "\n",
       "                                      Forum_Post_Raw  compound    neg    neu  \\\n",
       "0  Company upgraded to windows 10. Used to run an...    0.0387  0.063  0.873   \n",
       "\n",
       "     pos  ...                PostDate   DayName DayOfMonth  \\\n",
       "0  0.064  ... 2019-10-10 05:58:05.730  Thursday         10   \n",
       "\n",
       "                                           ShortText  \\\n",
       "0  Company upgraded to windows 10. Used to run an...   \n",
       "\n",
       "                                           sentences  \\\n",
       "0  [Company upgraded to windows 10., Used to run ...   \n",
       "\n",
       "                                     token_sentences  \\\n",
       "0  [[Company, upgraded, to, windows, 10, .], [Use...   \n",
       "\n",
       "                                    tokens_sentences  \\\n",
       "0  [[Company, upgraded, to, windows, 10, .], [Use...   \n",
       "\n",
       "                                          POS_tokens  \\\n",
       "0  [[(Company, NN), (upgraded, VBD), (to, TO), (w...   \n",
       "\n",
       "                         tokens_sentences_lemmatized  \\\n",
       "0  [[Company, upgrade, to, windows, 10, .], [Used...   \n",
       "\n",
       "                                              tokens  \n",
       "0  [company, upgrade, windows, used, run, erp, pr...  \n",
       "\n",
       "[1 rows x 21 columns]"
      ]
     },
     "execution_count": 241,
     "metadata": {},
     "output_type": "execute_result"
    }
   ],
   "source": [
    "## Allocation topics to documents\n",
    "dfLDA.head(1)\n"
   ]
  },
  {
   "cell_type": "code",
   "execution_count": 242,
   "metadata": {},
   "outputs": [
    {
     "name": "stderr",
     "output_type": "stream",
     "text": [
      "C:\\Users\\BDelamater\\Anaconda3\\lib\\site-packages\\ipykernel\\ipkernel.py:287: DeprecationWarning:\n",
      "\n",
      "`should_run_async` will not call `transform_cell` automatically in the future. Please pass the result to `transformed_cell` argument and any exception that happen during thetransform in `preprocessing_exc_tuple` in IPython 7.17 and above.\n",
      "\n"
     ]
    },
    {
     "data": {
      "text/plain": [
       "(1086, 21)"
      ]
     },
     "execution_count": 242,
     "metadata": {},
     "output_type": "execute_result"
    }
   ],
   "source": [
    "dfLDA.shape"
   ]
  },
  {
   "cell_type": "code",
   "execution_count": 243,
   "metadata": {},
   "outputs": [
    {
     "name": "stderr",
     "output_type": "stream",
     "text": [
      "C:\\Users\\BDelamater\\Anaconda3\\lib\\site-packages\\ipykernel\\ipkernel.py:287: DeprecationWarning:\n",
      "\n",
      "`should_run_async` will not call `transform_cell` automatically in the future. Please pass the result to `transformed_cell` argument and any exception that happen during thetransform in `preprocessing_exc_tuple` in IPython 7.17 and above.\n",
      "\n"
     ]
    },
    {
     "data": {
      "text/plain": [
       "[(1, 0.9994448)]"
      ]
     },
     "execution_count": 243,
     "metadata": {},
     "output_type": "execute_result"
    }
   ],
   "source": [
    "lda_model[corpus[0]]"
   ]
  },
  {
   "cell_type": "markdown",
   "metadata": {},
   "source": [
    "## Predict based on input"
   ]
  },
  {
   "cell_type": "markdown",
   "metadata": {},
   "source": [
    "# Advanced exploration of LDA result\n",
    "## Allocation of topics in all documents"
   ]
  },
  {
   "cell_type": "code",
   "execution_count": 244,
   "metadata": {},
   "outputs": [
    {
     "name": "stderr",
     "output_type": "stream",
     "text": [
      "C:\\Users\\BDelamater\\Anaconda3\\lib\\site-packages\\ipykernel\\ipkernel.py:287: DeprecationWarning:\n",
      "\n",
      "`should_run_async` will not call `transform_cell` automatically in the future. Please pass the result to `transformed_cell` argument and any exception that happen during thetransform in `preprocessing_exc_tuple` in IPython 7.17 and above.\n",
      "\n"
     ]
    }
   ],
   "source": [
    "topics = [lda_model[corpus[i]] for i in range(len(dfLDA))]"
   ]
  },
  {
   "cell_type": "code",
   "execution_count": 245,
   "metadata": {},
   "outputs": [
    {
     "name": "stderr",
     "output_type": "stream",
     "text": [
      "C:\\Users\\BDelamater\\Anaconda3\\lib\\site-packages\\ipykernel\\ipkernel.py:287: DeprecationWarning:\n",
      "\n",
      "`should_run_async` will not call `transform_cell` automatically in the future. Please pass the result to `transformed_cell` argument and any exception that happen during thetransform in `preprocessing_exc_tuple` in IPython 7.17 and above.\n",
      "\n"
     ]
    }
   ],
   "source": [
    "\n",
    "def topics_document_to_dataframe(topics_document, num_topics):\n",
    "    res = pd.DataFrame(columns=range(num_topics))\n",
    "    for topic_weight in topics_document:\n",
    "        res.loc[0, topic_weight[0]] = topic_weight[1]\n",
    "    return res"
   ]
  },
  {
   "cell_type": "code",
   "execution_count": 246,
   "metadata": {},
   "outputs": [
    {
     "name": "stderr",
     "output_type": "stream",
     "text": [
      "C:\\Users\\BDelamater\\Anaconda3\\lib\\site-packages\\ipykernel\\ipkernel.py:287: DeprecationWarning:\n",
      "\n",
      "`should_run_async` will not call `transform_cell` automatically in the future. Please pass the result to `transformed_cell` argument and any exception that happen during thetransform in `preprocessing_exc_tuple` in IPython 7.17 and above.\n",
      "\n"
     ]
    },
    {
     "data": {
      "text/html": [
       "<div>\n",
       "<style scoped>\n",
       "    .dataframe tbody tr th:only-of-type {\n",
       "        vertical-align: middle;\n",
       "    }\n",
       "\n",
       "    .dataframe tbody tr th {\n",
       "        vertical-align: top;\n",
       "    }\n",
       "\n",
       "    .dataframe thead th {\n",
       "        text-align: right;\n",
       "    }\n",
       "</style>\n",
       "<table border=\"1\" class=\"dataframe\">\n",
       "  <thead>\n",
       "    <tr style=\"text-align: right;\">\n",
       "      <th></th>\n",
       "      <th>0</th>\n",
       "      <th>1</th>\n",
       "      <th>2</th>\n",
       "      <th>3</th>\n",
       "      <th>4</th>\n",
       "      <th>5</th>\n",
       "      <th>6</th>\n",
       "      <th>7</th>\n",
       "      <th>8</th>\n",
       "      <th>9</th>\n",
       "      <th>10</th>\n",
       "      <th>11</th>\n",
       "      <th>12</th>\n",
       "      <th>13</th>\n",
       "      <th>14</th>\n",
       "      <th>15</th>\n",
       "      <th>16</th>\n",
       "      <th>17</th>\n",
       "      <th>18</th>\n",
       "      <th>19</th>\n",
       "    </tr>\n",
       "  </thead>\n",
       "  <tbody>\n",
       "    <tr>\n",
       "      <th>0</th>\n",
       "      <td>NaN</td>\n",
       "      <td>NaN</td>\n",
       "      <td>NaN</td>\n",
       "      <td>NaN</td>\n",
       "      <td>NaN</td>\n",
       "      <td>NaN</td>\n",
       "      <td>NaN</td>\n",
       "      <td>NaN</td>\n",
       "      <td>NaN</td>\n",
       "      <td>0.038537</td>\n",
       "      <td>NaN</td>\n",
       "      <td>NaN</td>\n",
       "      <td>NaN</td>\n",
       "      <td>NaN</td>\n",
       "      <td>NaN</td>\n",
       "      <td>0.091301</td>\n",
       "      <td>NaN</td>\n",
       "      <td>NaN</td>\n",
       "      <td>0.869287</td>\n",
       "      <td>NaN</td>\n",
       "    </tr>\n",
       "  </tbody>\n",
       "</table>\n",
       "</div>"
      ],
      "text/plain": [
       "    0    1    2    3    4    5    6    7    8         9    10   11   12   13  \\\n",
       "0  NaN  NaN  NaN  NaN  NaN  NaN  NaN  NaN  NaN  0.038537  NaN  NaN  NaN  NaN   \n",
       "\n",
       "    14        15   16   17        18   19  \n",
       "0  NaN  0.091301  NaN  NaN  0.869287  NaN  "
      ]
     },
     "execution_count": 246,
     "metadata": {},
     "output_type": "execute_result"
    }
   ],
   "source": [
    "topics_document_to_dataframe([(9, 0.03853655432967504), (15, 0.09130117862212643), (18, 0.8692868808484044)], 20)\n"
   ]
  },
  {
   "cell_type": "code",
   "execution_count": 247,
   "metadata": {},
   "outputs": [
    {
     "name": "stderr",
     "output_type": "stream",
     "text": [
      "C:\\Users\\BDelamater\\Anaconda3\\lib\\site-packages\\ipykernel\\ipkernel.py:287: DeprecationWarning:\n",
      "\n",
      "`should_run_async` will not call `transform_cell` automatically in the future. Please pass the result to `transformed_cell` argument and any exception that happen during thetransform in `preprocessing_exc_tuple` in IPython 7.17 and above.\n",
      "\n"
     ]
    }
   ],
   "source": [
    "\n",
    "# Like TF-IDF, create a matrix of topic weighting, with documents as rows and topics as columns\n",
    "document_topic = \\\n",
    "pd.concat([topics_document_to_dataframe(topics_document, num_topics=num_topics) for topics_document in topics]) \\\n",
    "  .reset_index(drop=True).fillna(0)"
   ]
  },
  {
   "cell_type": "code",
   "execution_count": 248,
   "metadata": {},
   "outputs": [
    {
     "name": "stderr",
     "output_type": "stream",
     "text": [
      "C:\\Users\\BDelamater\\Anaconda3\\lib\\site-packages\\ipykernel\\ipkernel.py:287: DeprecationWarning:\n",
      "\n",
      "`should_run_async` will not call `transform_cell` automatically in the future. Please pass the result to `transformed_cell` argument and any exception that happen during thetransform in `preprocessing_exc_tuple` in IPython 7.17 and above.\n",
      "\n"
     ]
    },
    {
     "data": {
      "text/html": [
       "<div>\n",
       "<style scoped>\n",
       "    .dataframe tbody tr th:only-of-type {\n",
       "        vertical-align: middle;\n",
       "    }\n",
       "\n",
       "    .dataframe tbody tr th {\n",
       "        vertical-align: top;\n",
       "    }\n",
       "\n",
       "    .dataframe thead th {\n",
       "        text-align: right;\n",
       "    }\n",
       "</style>\n",
       "<table border=\"1\" class=\"dataframe\">\n",
       "  <thead>\n",
       "    <tr style=\"text-align: right;\">\n",
       "      <th></th>\n",
       "      <th>0</th>\n",
       "      <th>1</th>\n",
       "      <th>2</th>\n",
       "    </tr>\n",
       "  </thead>\n",
       "  <tbody>\n",
       "    <tr>\n",
       "      <th>0</th>\n",
       "      <td>0.000000</td>\n",
       "      <td>0.999445</td>\n",
       "      <td>0.000000</td>\n",
       "    </tr>\n",
       "    <tr>\n",
       "      <th>1</th>\n",
       "      <td>0.000000</td>\n",
       "      <td>0.796473</td>\n",
       "      <td>0.203224</td>\n",
       "    </tr>\n",
       "    <tr>\n",
       "      <th>2</th>\n",
       "      <td>0.998949</td>\n",
       "      <td>0.000000</td>\n",
       "      <td>0.000000</td>\n",
       "    </tr>\n",
       "    <tr>\n",
       "      <th>3</th>\n",
       "      <td>0.998949</td>\n",
       "      <td>0.000000</td>\n",
       "      <td>0.000000</td>\n",
       "    </tr>\n",
       "    <tr>\n",
       "      <th>4</th>\n",
       "      <td>0.000000</td>\n",
       "      <td>0.150335</td>\n",
       "      <td>0.849211</td>\n",
       "    </tr>\n",
       "    <tr>\n",
       "      <th>...</th>\n",
       "      <td>...</td>\n",
       "      <td>...</td>\n",
       "      <td>...</td>\n",
       "    </tr>\n",
       "    <tr>\n",
       "      <th>1081</th>\n",
       "      <td>0.000000</td>\n",
       "      <td>0.000000</td>\n",
       "      <td>0.999131</td>\n",
       "    </tr>\n",
       "    <tr>\n",
       "      <th>1082</th>\n",
       "      <td>0.998186</td>\n",
       "      <td>0.000000</td>\n",
       "      <td>0.000000</td>\n",
       "    </tr>\n",
       "    <tr>\n",
       "      <th>1083</th>\n",
       "      <td>0.996023</td>\n",
       "      <td>0.000000</td>\n",
       "      <td>0.000000</td>\n",
       "    </tr>\n",
       "    <tr>\n",
       "      <th>1084</th>\n",
       "      <td>0.333333</td>\n",
       "      <td>0.333333</td>\n",
       "      <td>0.333333</td>\n",
       "    </tr>\n",
       "    <tr>\n",
       "      <th>1085</th>\n",
       "      <td>0.358191</td>\n",
       "      <td>0.000000</td>\n",
       "      <td>0.640902</td>\n",
       "    </tr>\n",
       "  </tbody>\n",
       "</table>\n",
       "<p>1086 rows × 3 columns</p>\n",
       "</div>"
      ],
      "text/plain": [
       "             0         1         2\n",
       "0     0.000000  0.999445  0.000000\n",
       "1     0.000000  0.796473  0.203224\n",
       "2     0.998949  0.000000  0.000000\n",
       "3     0.998949  0.000000  0.000000\n",
       "4     0.000000  0.150335  0.849211\n",
       "...        ...       ...       ...\n",
       "1081  0.000000  0.000000  0.999131\n",
       "1082  0.998186  0.000000  0.000000\n",
       "1083  0.996023  0.000000  0.000000\n",
       "1084  0.333333  0.333333  0.333333\n",
       "1085  0.358191  0.000000  0.640902\n",
       "\n",
       "[1086 rows x 3 columns]"
      ]
     },
     "execution_count": 248,
     "metadata": {},
     "output_type": "execute_result"
    }
   ],
   "source": [
    "# Which document are about topic 14\n",
    "# document_topic.sort_values(num_topics-1, ascending=False)[num_topics-1].head(10)\n",
    "document_topic"
   ]
  },
  {
   "cell_type": "code",
   "execution_count": 249,
   "metadata": {},
   "outputs": [
    {
     "name": "stderr",
     "output_type": "stream",
     "text": [
      "C:\\Users\\BDelamater\\Anaconda3\\lib\\site-packages\\ipykernel\\ipkernel.py:287: DeprecationWarning:\n",
      "\n",
      "`should_run_async` will not call `transform_cell` automatically in the future. Please pass the result to `transformed_cell` argument and any exception that happen during thetransform in `preprocessing_exc_tuple` in IPython 7.17 and above.\n",
      "\n"
     ]
    },
    {
     "data": {
      "text/html": [
       "<div>\n",
       "<style scoped>\n",
       "    .dataframe tbody tr th:only-of-type {\n",
       "        vertical-align: middle;\n",
       "    }\n",
       "\n",
       "    .dataframe tbody tr th {\n",
       "        vertical-align: top;\n",
       "    }\n",
       "\n",
       "    .dataframe thead th {\n",
       "        text-align: right;\n",
       "    }\n",
       "</style>\n",
       "<table border=\"1\" class=\"dataframe\">\n",
       "  <thead>\n",
       "    <tr style=\"text-align: right;\">\n",
       "      <th></th>\n",
       "      <th>Forum ID</th>\n",
       "      <th>Forum Name</th>\n",
       "      <th>Subject</th>\n",
       "      <th>Post Date</th>\n",
       "      <th>User DisplayName</th>\n",
       "      <th>Forum_Post_Raw</th>\n",
       "      <th>compound</th>\n",
       "      <th>neg</th>\n",
       "      <th>neu</th>\n",
       "      <th>pos</th>\n",
       "      <th>...</th>\n",
       "      <th>PostDate</th>\n",
       "      <th>DayName</th>\n",
       "      <th>DayOfMonth</th>\n",
       "      <th>ShortText</th>\n",
       "      <th>sentences</th>\n",
       "      <th>token_sentences</th>\n",
       "      <th>tokens_sentences</th>\n",
       "      <th>POS_tokens</th>\n",
       "      <th>tokens_sentences_lemmatized</th>\n",
       "      <th>tokens</th>\n",
       "    </tr>\n",
       "  </thead>\n",
       "  <tbody>\n",
       "    <tr>\n",
       "      <th>0</th>\n",
       "      <td>40</td>\n",
       "      <td>Sage X3 General Discussion</td>\n",
       "      <td>ERP help urgently needed</td>\n",
       "      <td>2019-10-10T05:58:05.73</td>\n",
       "      <td>ChinusGomes</td>\n",
       "      <td>Company upgraded to windows 10. Used to run an...</td>\n",
       "      <td>0.0387</td>\n",
       "      <td>0.063</td>\n",
       "      <td>0.873</td>\n",
       "      <td>0.064</td>\n",
       "      <td>...</td>\n",
       "      <td>2019-10-10 05:58:05.730</td>\n",
       "      <td>Thursday</td>\n",
       "      <td>10</td>\n",
       "      <td>Company upgraded to windows 10. Used to run an...</td>\n",
       "      <td>[Company upgraded to windows 10., Used to run ...</td>\n",
       "      <td>[[Company, upgraded, to, windows, 10, .], [Use...</td>\n",
       "      <td>[[Company, upgraded, to, windows, 10, .], [Use...</td>\n",
       "      <td>[[(Company, NN), (upgraded, VBD), (to, TO), (w...</td>\n",
       "      <td>[[Company, upgrade, to, windows, 10, .], [Used...</td>\n",
       "      <td>[company, upgrade, windows, used, run, erp, pr...</td>\n",
       "    </tr>\n",
       "    <tr>\n",
       "      <th>31</th>\n",
       "      <td>40</td>\n",
       "      <td>Sage X3 General Discussion</td>\n",
       "      <td>Sage V11 patch 14 - release soon?</td>\n",
       "      <td>2019-10-10T12:44:35.957</td>\n",
       "      <td>AnikB</td>\n",
       "      <td>Hello!\\n\\nI see that Sage V11 patch 14 was com...</td>\n",
       "      <td>0.7044</td>\n",
       "      <td>0.022</td>\n",
       "      <td>0.915</td>\n",
       "      <td>0.063</td>\n",
       "      <td>...</td>\n",
       "      <td>2019-10-10 12:44:35.957</td>\n",
       "      <td>Thursday</td>\n",
       "      <td>10</td>\n",
       "      <td>Hello!\\n\\nI see that Sage V11 patch 14 was com...</td>\n",
       "      <td>[Hello!, I see that Sage V11 patch 14 was comp...</td>\n",
       "      <td>[[Hello, !], [I, see, that, Sage, V11, patch, ...</td>\n",
       "      <td>[[Hello, !], [I, see, that, Sage, V11, patch, ...</td>\n",
       "      <td>[[(Hello, NN), (!, .)], [(I, PRP), (see, VBP),...</td>\n",
       "      <td>[[Hello, !], [I, see, that, Sage, V11, patch, ...</td>\n",
       "      <td>[patch, complete, october, least, patch, finde...</td>\n",
       "    </tr>\n",
       "    <tr>\n",
       "      <th>62</th>\n",
       "      <td>673</td>\n",
       "      <td>Sage X3 Announcements, News, and Alerts</td>\n",
       "      <td>Sage X3 12.0.19 and Patch 19 Add-ons Updates h...</td>\n",
       "      <td>2019-10-10T14:56:52.947</td>\n",
       "      <td>Alecia</td>\n",
       "      <td>To access this download, log into https://supp...</td>\n",
       "      <td>0.9359</td>\n",
       "      <td>0.000</td>\n",
       "      <td>0.898</td>\n",
       "      <td>0.102</td>\n",
       "      <td>...</td>\n",
       "      <td>2019-10-10 14:56:52.947</td>\n",
       "      <td>Thursday</td>\n",
       "      <td>10</td>\n",
       "      <td>To access this download, log into https://supp...</td>\n",
       "      <td>[To access this download, log into https://sup...</td>\n",
       "      <td>[[To, access, this, download, ,, log, into, ht...</td>\n",
       "      <td>[[To, access, this, download, ,, log, into, ht...</td>\n",
       "      <td>[[(To, TO), (access, NN), (this, DT), (downloa...</td>\n",
       "      <td>[[To, access, this, download, ,, log, into, ht...</td>\n",
       "      <td>[access, download, log, http, search, field, t...</td>\n",
       "    </tr>\n",
       "    <tr>\n",
       "      <th>63</th>\n",
       "      <td>673</td>\n",
       "      <td>Sage X3 Announcements, News, and Alerts</td>\n",
       "      <td>Sage X3 Warehousing (GEODE) v12.0.19 has been ...</td>\n",
       "      <td>2019-10-10T20:56:53.483</td>\n",
       "      <td>pnightingale</td>\n",
       "      <td>To access this download, log into https://supp...</td>\n",
       "      <td>0.9359</td>\n",
       "      <td>0.000</td>\n",
       "      <td>0.898</td>\n",
       "      <td>0.102</td>\n",
       "      <td>...</td>\n",
       "      <td>2019-10-10 20:56:53.483</td>\n",
       "      <td>Thursday</td>\n",
       "      <td>10</td>\n",
       "      <td>To access this download, log into https://supp...</td>\n",
       "      <td>[To access this download, log into https://sup...</td>\n",
       "      <td>[[To, access, this, download, ,, log, into, ht...</td>\n",
       "      <td>[[To, access, this, download, ,, log, into, ht...</td>\n",
       "      <td>[[(To, TO), (access, NN), (this, DT), (downloa...</td>\n",
       "      <td>[[To, access, this, download, ,, log, into, ht...</td>\n",
       "      <td>[access, download, log, http, search, field, t...</td>\n",
       "    </tr>\n",
       "    <tr>\n",
       "      <th>64</th>\n",
       "      <td>40</td>\n",
       "      <td>Sage X3 General Discussion</td>\n",
       "      <td>Modifying Stock Change ST2 object</td>\n",
       "      <td>2019-10-11T13:10:28.983</td>\n",
       "      <td>ChrisCC</td>\n",
       "      <td>I am trying to remove some of the columns on t...</td>\n",
       "      <td>0.5980</td>\n",
       "      <td>0.046</td>\n",
       "      <td>0.865</td>\n",
       "      <td>0.090</td>\n",
       "      <td>...</td>\n",
       "      <td>2019-10-11 13:10:28.983</td>\n",
       "      <td>Friday</td>\n",
       "      <td>11</td>\n",
       "      <td>I am trying to remove some of the columns on t...</td>\n",
       "      <td>[I am trying to remove some of the columns on ...</td>\n",
       "      <td>[[I, am, trying, to, remove, some, of, the, co...</td>\n",
       "      <td>[[I, am, trying, to, remove, some, of, the, co...</td>\n",
       "      <td>[[(I, PRP), (am, VBP), (trying, VBG), (to, TO)...</td>\n",
       "      <td>[[I, be, try, to, remove, some, of, the, colum...</td>\n",
       "      <td>[remove, column, object, stock, selection, bro...</td>\n",
       "    </tr>\n",
       "  </tbody>\n",
       "</table>\n",
       "<p>5 rows × 21 columns</p>\n",
       "</div>"
      ],
      "text/plain": [
       "    Forum ID                               Forum Name  \\\n",
       "0         40               Sage X3 General Discussion   \n",
       "31        40               Sage X3 General Discussion   \n",
       "62       673  Sage X3 Announcements, News, and Alerts   \n",
       "63       673  Sage X3 Announcements, News, and Alerts   \n",
       "64        40               Sage X3 General Discussion   \n",
       "\n",
       "                                              Subject  \\\n",
       "0                            ERP help urgently needed   \n",
       "31                  Sage V11 patch 14 - release soon?   \n",
       "62  Sage X3 12.0.19 and Patch 19 Add-ons Updates h...   \n",
       "63  Sage X3 Warehousing (GEODE) v12.0.19 has been ...   \n",
       "64                  Modifying Stock Change ST2 object   \n",
       "\n",
       "                  Post Date User DisplayName  \\\n",
       "0    2019-10-10T05:58:05.73      ChinusGomes   \n",
       "31  2019-10-10T12:44:35.957            AnikB   \n",
       "62  2019-10-10T14:56:52.947           Alecia   \n",
       "63  2019-10-10T20:56:53.483     pnightingale   \n",
       "64  2019-10-11T13:10:28.983          ChrisCC   \n",
       "\n",
       "                                       Forum_Post_Raw  compound    neg    neu  \\\n",
       "0   Company upgraded to windows 10. Used to run an...    0.0387  0.063  0.873   \n",
       "31  Hello!\\n\\nI see that Sage V11 patch 14 was com...    0.7044  0.022  0.915   \n",
       "62  To access this download, log into https://supp...    0.9359  0.000  0.898   \n",
       "63  To access this download, log into https://supp...    0.9359  0.000  0.898   \n",
       "64  I am trying to remove some of the columns on t...    0.5980  0.046  0.865   \n",
       "\n",
       "      pos  ...                PostDate   DayName DayOfMonth  \\\n",
       "0   0.064  ... 2019-10-10 05:58:05.730  Thursday         10   \n",
       "31  0.063  ... 2019-10-10 12:44:35.957  Thursday         10   \n",
       "62  0.102  ... 2019-10-10 14:56:52.947  Thursday         10   \n",
       "63  0.102  ... 2019-10-10 20:56:53.483  Thursday         10   \n",
       "64  0.090  ... 2019-10-11 13:10:28.983    Friday         11   \n",
       "\n",
       "                                            ShortText  \\\n",
       "0   Company upgraded to windows 10. Used to run an...   \n",
       "31  Hello!\\n\\nI see that Sage V11 patch 14 was com...   \n",
       "62  To access this download, log into https://supp...   \n",
       "63  To access this download, log into https://supp...   \n",
       "64  I am trying to remove some of the columns on t...   \n",
       "\n",
       "                                            sentences  \\\n",
       "0   [Company upgraded to windows 10., Used to run ...   \n",
       "31  [Hello!, I see that Sage V11 patch 14 was comp...   \n",
       "62  [To access this download, log into https://sup...   \n",
       "63  [To access this download, log into https://sup...   \n",
       "64  [I am trying to remove some of the columns on ...   \n",
       "\n",
       "                                      token_sentences  \\\n",
       "0   [[Company, upgraded, to, windows, 10, .], [Use...   \n",
       "31  [[Hello, !], [I, see, that, Sage, V11, patch, ...   \n",
       "62  [[To, access, this, download, ,, log, into, ht...   \n",
       "63  [[To, access, this, download, ,, log, into, ht...   \n",
       "64  [[I, am, trying, to, remove, some, of, the, co...   \n",
       "\n",
       "                                     tokens_sentences  \\\n",
       "0   [[Company, upgraded, to, windows, 10, .], [Use...   \n",
       "31  [[Hello, !], [I, see, that, Sage, V11, patch, ...   \n",
       "62  [[To, access, this, download, ,, log, into, ht...   \n",
       "63  [[To, access, this, download, ,, log, into, ht...   \n",
       "64  [[I, am, trying, to, remove, some, of, the, co...   \n",
       "\n",
       "                                           POS_tokens  \\\n",
       "0   [[(Company, NN), (upgraded, VBD), (to, TO), (w...   \n",
       "31  [[(Hello, NN), (!, .)], [(I, PRP), (see, VBP),...   \n",
       "62  [[(To, TO), (access, NN), (this, DT), (downloa...   \n",
       "63  [[(To, TO), (access, NN), (this, DT), (downloa...   \n",
       "64  [[(I, PRP), (am, VBP), (trying, VBG), (to, TO)...   \n",
       "\n",
       "                          tokens_sentences_lemmatized  \\\n",
       "0   [[Company, upgrade, to, windows, 10, .], [Used...   \n",
       "31  [[Hello, !], [I, see, that, Sage, V11, patch, ...   \n",
       "62  [[To, access, this, download, ,, log, into, ht...   \n",
       "63  [[To, access, this, download, ,, log, into, ht...   \n",
       "64  [[I, be, try, to, remove, some, of, the, colum...   \n",
       "\n",
       "                                               tokens  \n",
       "0   [company, upgrade, windows, used, run, erp, pr...  \n",
       "31  [patch, complete, october, least, patch, finde...  \n",
       "62  [access, download, log, http, search, field, t...  \n",
       "63  [access, download, log, http, search, field, t...  \n",
       "64  [remove, column, object, stock, selection, bro...  \n",
       "\n",
       "[5 rows x 21 columns]"
      ]
     },
     "execution_count": 249,
     "metadata": {},
     "output_type": "execute_result"
    }
   ],
   "source": [
    "dfLDA.head(5)"
   ]
  },
  {
   "cell_type": "code",
   "execution_count": 250,
   "metadata": {},
   "outputs": [
    {
     "name": "stdout",
     "output_type": "stream",
     "text": [
      "Hello!\n",
      "\n",
      "I see that Sage V11 patch 14 was completed on October 1st. at least in the patch finder. It \n"
     ]
    },
    {
     "name": "stderr",
     "output_type": "stream",
     "text": [
      "C:\\Users\\BDelamater\\Anaconda3\\lib\\site-packages\\ipykernel\\ipkernel.py:287: DeprecationWarning:\n",
      "\n",
      "`should_run_async` will not call `transform_cell` automatically in the future. Please pass the result to `transformed_cell` argument and any exception that happen during thetransform in `preprocessing_exc_tuple` in IPython 7.17 and above.\n",
      "\n"
     ]
    }
   ],
   "source": [
    "print(dfLDA.Forum_Post_Raw.loc[31][:100])"
   ]
  },
  {
   "cell_type": "code",
   "execution_count": 251,
   "metadata": {},
   "outputs": [
    {
     "name": "stderr",
     "output_type": "stream",
     "text": [
      "C:\\Users\\BDelamater\\Anaconda3\\lib\\site-packages\\ipykernel\\ipkernel.py:287: DeprecationWarning:\n",
      "\n",
      "`should_run_async` will not call `transform_cell` automatically in the future. Please pass the result to `transformed_cell` argument and any exception that happen during thetransform in `preprocessing_exc_tuple` in IPython 7.17 and above.\n",
      "\n"
     ]
    },
    {
     "data": {
      "text/plain": [
       "<AxesSubplot:>"
      ]
     },
     "execution_count": 251,
     "metadata": {},
     "output_type": "execute_result"
    },
    {
     "data": {
      "image/png": "[encoded data removed]",
      "text/plain": [
       "<Figure size 720x1440 with 2 Axes>"
      ]
     },
     "metadata": {},
     "output_type": "display_data"
    }
   ],
   "source": [
    "%matplotlib inline\n",
    "import seaborn as sns; sns.set(rc={'figure.figsize':(10,20)})\n",
    "sns.heatmap(document_topic.loc[document_topic.idxmax(axis=1).sort_values().index])"
   ]
  },
  {
   "cell_type": "code",
   "execution_count": 252,
   "metadata": {},
   "outputs": [
    {
     "name": "stderr",
     "output_type": "stream",
     "text": [
      "C:\\Users\\BDelamater\\Anaconda3\\lib\\site-packages\\ipykernel\\ipkernel.py:287: DeprecationWarning:\n",
      "\n",
      "`should_run_async` will not call `transform_cell` automatically in the future. Please pass the result to `transformed_cell` argument and any exception that happen during thetransform in `preprocessing_exc_tuple` in IPython 7.17 and above.\n",
      "\n"
     ]
    },
    {
     "data": {
      "text/plain": [
       "<AxesSubplot:>"
      ]
     },
     "execution_count": 252,
     "metadata": {},
     "output_type": "execute_result"
    },
    {
     "data": {
      "image/png": "[encoded data removed]",
      "text/plain": [
       "<Figure size 720x360 with 1 Axes>"
      ]
     },
     "metadata": {},
     "output_type": "display_data"
    }
   ],
   "source": [
    "sns.set(rc={'figure.figsize':(10,5)})\n",
    "document_topic.idxmax(axis=1).value_counts().plot.bar(color='lightblue')"
   ]
  },
  {
   "cell_type": "markdown",
   "metadata": {},
   "source": [
    "# Visualize the data"
   ]
  },
  {
   "cell_type": "code",
   "execution_count": 253,
   "metadata": {},
   "outputs": [
    {
     "name": "stderr",
     "output_type": "stream",
     "text": [
      "C:\\Users\\BDelamater\\Anaconda3\\lib\\site-packages\\ipykernel\\ipkernel.py:287: DeprecationWarning:\n",
      "\n",
      "`should_run_async` will not call `transform_cell` automatically in the future. Please pass the result to `transformed_cell` argument and any exception that happen during thetransform in `preprocessing_exc_tuple` in IPython 7.17 and above.\n",
      "\n"
     ]
    },
    {
     "name": "stdout",
     "output_type": "stream",
     "text": [
      "Requirement already satisfied: pyLDAvis in c:\\users\\bdelamater\\anaconda3\\lib\\site-packages (3.2.2)\n",
      "Requirement already satisfied: wheel>=0.23.0 in c:\\users\\bdelamater\\anaconda3\\lib\\site-packages (from pyLDAvis) (0.36.2)\n",
      "Requirement already satisfied: funcy in c:\\users\\bdelamater\\anaconda3\\lib\\site-packages (from pyLDAvis) (1.16)\n",
      "Requirement already satisfied: jinja2>=2.7.2 in c:\\users\\bdelamater\\anaconda3\\lib\\site-packages (from pyLDAvis) (2.11.3)\n",
      "Requirement already satisfied: pandas>=0.17.0 in c:\\users\\bdelamater\\anaconda3\\lib\\site-packages (from pyLDAvis) (1.2.4)\n",
      "Requirement already satisfied: numexpr in c:\\users\\bdelamater\\anaconda3\\lib\\site-packages (from pyLDAvis) (2.7.3)\n",
      "Requirement already satisfied: joblib>=0.8.4 in c:\\users\\bdelamater\\anaconda3\\lib\\site-packages (from pyLDAvis) (1.0.1)\n",
      "Requirement already satisfied: future in c:\\users\\bdelamater\\anaconda3\\lib\\site-packages (from pyLDAvis) (0.18.2)\n",
      "Requirement already satisfied: numpy>=1.9.2 in c:\\users\\bdelamater\\anaconda3\\lib\\site-packages (from pyLDAvis) (1.20.1)\n",
      "Requirement already satisfied: scipy>=0.18.0 in c:\\users\\bdelamater\\anaconda3\\lib\\site-packages (from pyLDAvis) (1.6.2)\n",
      "Requirement already satisfied: MarkupSafe>=0.23 in c:\\users\\bdelamater\\anaconda3\\lib\\site-packages (from jinja2>=2.7.2->pyLDAvis) (1.1.1)\n",
      "Requirement already satisfied: pytz>=2017.3 in c:\\users\\bdelamater\\anaconda3\\lib\\site-packages (from pandas>=0.17.0->pyLDAvis) (2021.1)\n",
      "Requirement already satisfied: python-dateutil>=2.7.3 in c:\\users\\bdelamater\\anaconda3\\lib\\site-packages (from pandas>=0.17.0->pyLDAvis) (2.8.1)\n",
      "Requirement already satisfied: six>=1.5 in c:\\users\\bdelamater\\anaconda3\\lib\\site-packages (from python-dateutil>=2.7.3->pandas>=0.17.0->pyLDAvis) (1.15.0)\n"
     ]
    }
   ],
   "source": [
    "! pip install pyLDAvis"
   ]
  },
  {
   "cell_type": "code",
   "execution_count": 254,
   "metadata": {},
   "outputs": [
    {
     "name": "stderr",
     "output_type": "stream",
     "text": [
      "C:\\Users\\BDelamater\\Anaconda3\\lib\\site-packages\\ipykernel\\ipkernel.py:287: DeprecationWarning:\n",
      "\n",
      "`should_run_async` will not call `transform_cell` automatically in the future. Please pass the result to `transformed_cell` argument and any exception that happen during thetransform in `preprocessing_exc_tuple` in IPython 7.17 and above.\n",
      "\n"
     ]
    }
   ],
   "source": [
    "# import scipy\n",
    "# scipy.test()"
   ]
  },
  {
   "cell_type": "code",
   "execution_count": 255,
   "metadata": {},
   "outputs": [
    {
     "name": "stderr",
     "output_type": "stream",
     "text": [
      "C:\\Users\\BDelamater\\Anaconda3\\lib\\site-packages\\ipykernel\\ipkernel.py:287: DeprecationWarning:\n",
      "\n",
      "`should_run_async` will not call `transform_cell` automatically in the future. Please pass the result to `transformed_cell` argument and any exception that happen during thetransform in `preprocessing_exc_tuple` in IPython 7.17 and above.\n",
      "\n"
     ]
    },
    {
     "data": {
      "text/plain": [
       "(1086, 21)"
      ]
     },
     "execution_count": 255,
     "metadata": {},
     "output_type": "execute_result"
    }
   ],
   "source": [
    "dfLDA.shape"
   ]
  },
  {
   "cell_type": "code",
   "execution_count": 256,
   "metadata": {},
   "outputs": [
    {
     "name": "stderr",
     "output_type": "stream",
     "text": [
      "C:\\Users\\BDelamater\\Anaconda3\\lib\\site-packages\\ipykernel\\ipkernel.py:287: DeprecationWarning:\n",
      "\n",
      "`should_run_async` will not call `transform_cell` automatically in the future. Please pass the result to `transformed_cell` argument and any exception that happen during thetransform in `preprocessing_exc_tuple` in IPython 7.17 and above.\n",
      "\n"
     ]
    },
    {
     "data": {
      "text/html": [
       "\n",
       "<link rel=\"stylesheet\" type=\"text/css\" href=\"https://cdn.jsdelivr.net/gh/bmabey/pyLDAvis@3.2.2/pyLDAvis/js/ldavis.v1.0.0.css\">\n",
       "\n",
       "\n",
       "<div id=\"ldavis_el242002108974695360182517963\"></div>\n",
       "<script type=\"text/javascript\">\n",
       "\n",
       "var ldavis_el242002108974695360182517963_data = {\"mdsDat\": {\"x\": [-0.027597924188863796, -0.09403846191885251, 0.12163638610771631], \"y\": [-0.10963347880221096, 0.07585991943041583, 0.033773559371795055], \"topics\": [1, 2, 3], \"cluster\": [1, 1, 1], \"Freq\": [36.9260272318171, 33.42325308490963, 29.650719683273262]}, \"tinfo\": {\"Term\": [\"invoice\", \"import\", \"folder\", \"field\", \"line\", \"file\", \"server\", \"important_product_integrate_isvs\", \"partner_ensure_component_compatible\", \"product_fully_compatible_release\", \"https_enter_log_credential\", \"portal_access_download_portal\", \"upper_right_corner_type\", \"highly_recommended_work_certified\", \"search_complete_list_available\", \"integrate_product_check_business\", \"downloads_patch_update_download\", \"check_vendor_product_ensure\", \"search_field_click_search\", \"supplier\", \"site\", \"error\", \"cost\", \"delivery\", \"customer_additional_resource_include\", \"link_support_option_online\", \"patch_help_visit_city\", \"case_submission_knowledgebase_university\", \"sale_order\", \"partner_professional_services_install\", \"unit_measure\", \"drive\", \"label\", \"printer\", \"udm_finance\", \"whole\", \"label_printer\", \"legislation\", \"depreciation\", \"week\", \"accounting_code\", \"report_parameter\", \"std\", \"expression\", \"lines\", \"credit_memo\", \"endifreturn\", \"expense\", \"add_custom\", \"routings\", \"new_functionality\", \"easily\", \"modifier\", \"using\", \"description_field\", \"kindly_advise\", \"describe\", \"must\", \"ago\", \"june\", \"policy\", \"vat\", \"choose\", \"pi\", \"left_list\", \"none\", \"export_data\", \"subcontract\", \"ideal\", \"hide\", \"screen_window\", \"memory\", \"factor\", \"cost\", \"bom\", \"location\", \"quantity\", \"dimension\", \"action\", \"rate\", \"guys\", \"formula\", \"display\", \"field\", \"site\", \"value\", \"allocation\", \"format\", \"mrp\", \"load\", \"text\", \"product\", \"object\", \"change\", \"screen\", \"column\", \"selection\", \"tab\", \"function\", \"run\", \"stock\", \"create\", \"manage\", \"customer\", \"add\", \"table\", \"lot\", \"code\", \"report\", \"set\", \"data\", \"transaction\", \"possible\", \"new\", \"example\", \"user\", \"number\", \"issue\", \"update\", \"error\", \"order\", \"work\", \"find\", \"help\", \"online_case_submission_knowledgebase\", \"type_search_field_click\", \"city_customer_additional_resource\", \"available_downloads_patch_update\", \"portal_https_enter_log\", \"download_portal_access_download\", \"include_link_support_option\", \"credential_upper_right_corner\", \"budget\", \"sequence_number\", \"fully_compatible_release_integrate\", \"vendor_product_ensure_product\", \"product_integrate_isvs_check\", \"product_check_business_partner\", \"type_click_complete_list\", \"log_http_search_field\", \"detail_access_download\", \"review_hotfix\", \"ensure_component_highly_recommended\", \"services_install_help_visit\", \"work_certified_partner_professional\", \"atextra\", \"newbie\", \"database_server\", \"facet\", \"que\", \"post_journal\", \"body\", \"authentication\", \"work_center\", \"vm\", \"related\", \"except\", \"audit\", \"network\", \"period\", \"web_server\", \"search_note\", \"contact\", \"good_day\", \"online\", \"approve\", \"endpoint\", \"installation\", \"resource\", \"unable\", \"university\", \"server\", \"production_tracking\", \"address\", \"delete\", \"email\", \"error\", \"et\", \"user\", \"web_service\", \"pdf\", \"please\", \"patch\", \"task\", \"issue\", \"instal\", \"http\", \"log\", \"different\", \"record\", \"client\", \"table\", \"database\", \"key\", \"problem\", \"work\", \"update\", \"create\", \"version\", \"find\", \"first\", \"data\", \"company\", \"set\", \"look\", \"process\", \"system\", \"report\", \"change\", \"help\", \"file\", \"new\", \"run\", \"number\", \"anyone\", \"partner_professional_services_install\", \"important_product_integrate_isvs\", \"partner_ensure_component_compatible\", \"product_fully_compatible_release\", \"https_enter_log_credential\", \"portal_access_download_portal\", \"upper_right_corner_type\", \"highly_recommended_work_certified\", \"search_complete_list_available\", \"integrate_product_check_business\", \"downloads_patch_update_download\", \"check_vendor_product_ensure\", \"search_field_click_search\", \"patch_help_visit_city\", \"customer_additional_resource_include\", \"case_submission_knowledgebase_university\", \"link_support_option_online\", \"shortcut\", \"importsil\", \"null\", \"discount\", \"major\", \"anyone_tell\", \"cant\", \"cash\", \"credit_invoice\", \"bank_reconciliation\", \"interface\", \"credit_card\", \"matteos\", \"template\", \"directory\", \"processing\", \"soh\", \"open_order\", \"runtime\", \"test_folder\", \"bulk\", \"believe\", \"eclipse\", \"export\", \"supplier\", \"import\", \"invoice\", \"setting\", \"pay\", \"folder\", \"qty\", \"search_field_type_click\", \"delivery\", \"line\", \"file\", \"sale_order\", \"access_download_log_http\", \"check\", \"create\", \"post\", \"customer\", \"order\", \"anyone\", \"work\", \"error\", \"find\", \"product\", \"call\", \"set\", \"system\", \"help\", \"run\", \"process\", \"new\", \"able\", \"version\", \"change\", \"field\", \"show\", \"update\"], \"Freq\": [118.0, 90.0, 76.0, 193.0, 134.0, 119.0, 61.0, 24.0, 24.0, 24.0, 24.0, 24.0, 24.0, 24.0, 24.0, 24.0, 24.0, 24.0, 24.0, 36.0, 54.0, 237.0, 35.0, 41.0, 19.0, 19.0, 19.0, 19.0, 65.0, 18.0, 6.070013389289505, 8.083547406695669, 14.122873896728139, 7.0753165521505545, 5.060577996013418, 6.064306726176248, 7.072267786925664, 7.07214957338974, 10.085574671048542, 12.096473670605551, 7.067631718980498, 6.061539194766662, 7.066823767595853, 4.050244084530808, 5.05488849292957, 4.04762050670126, 4.046964135576388, 5.051222443313461, 4.045272919344695, 5.049391086841599, 3.0395991475151725, 3.0364147703912074, 3.0314693452492065, 7.05293510712718, 4.04297728874384, 3.0390495499066206, 3.038578364099115, 20.090464790488774, 3.0374331704698467, 4.040139687214169, 9.047344271757694, 10.035597038731577, 9.036954827285882, 9.015156823262393, 9.010158488029717, 5.039182299346058, 5.033021848788447, 6.017901716648613, 6.010682110942517, 5.03161758638186, 5.031123758868886, 7.9449725425431925, 6.974911313412138, 32.69381426976422, 17.123024758304584, 33.70004788755319, 37.6756835008887, 23.57006878040554, 34.209609240825486, 11.42232761527249, 13.986598476516386, 23.90891834778332, 39.47665909401806, 139.42984545772026, 43.67344172634929, 73.00936618812051, 16.794574168748287, 16.827961865967207, 16.722727032285295, 19.599085441709626, 18.7569322117838, 107.37115056973958, 28.514090613334858, 97.72587174659135, 80.9771110430236, 25.035012864319953, 16.823437338213196, 18.01331949740068, 61.82863462688872, 71.9044509612137, 47.823438491833514, 125.80702435130223, 23.79949646692576, 75.20642958005429, 53.03242261884796, 70.36247359861508, 31.493228065565766, 49.26530424286358, 54.635104538813714, 61.099177030097586, 46.839981953079274, 36.34612442232674, 45.52160740035171, 50.43481363380344, 40.267904236698996, 68.73669427906565, 40.26340068231426, 41.94636484653219, 40.93605095508389, 50.372072752946494, 39.83259623734673, 41.78701300010603, 40.5735853739003, 39.30698453656778, 9.089979954012481, 9.089977365305414, 9.089909196019322, 9.089893663776921, 9.089834123514384, 9.08932932563636, 9.088838334196026, 9.088833156781892, 13.10491619539974, 9.079539698412114, 8.073684624075241, 8.073450777536875, 8.073045213429744, 8.071978666118227, 5.055189623776469, 5.0551874665205805, 5.055185740715869, 5.055185740715869, 5.055185309264691, 5.055184446362336, 5.055180994752913, 5.0546524670601105, 5.054513539780859, 5.0532709603888, 5.053098811368858, 9.069939046803743, 6.0545457490221635, 4.0459493834985905, 4.045948952047413, 5.049746004266186, 9.051448775128012, 7.0531809193497566, 6.048919194212494, 6.049282907555378, 6.036094739403612, 10.889980461349946, 7.012995988100786, 6.032101658753088, 12.617109727659606, 7.927231973380978, 6.965603664926692, 8.804906354403352, 15.946633998972684, 24.424458078389385, 14.93638761454818, 14.013164932685624, 13.918941172868575, 49.84839869721956, 8.751226061764024, 25.184925295353384, 29.562844864231906, 26.005296919647634, 128.12382459765533, 11.07012513451849, 108.23823981292455, 26.08317903465439, 16.64912453246884, 33.23517090274355, 33.77843696778025, 20.203205335388326, 54.96178892762515, 17.700248327282683, 20.653812945481032, 23.283987647872326, 37.36641257522758, 38.830405808514456, 28.595419146301545, 61.38928970375985, 24.002831906811753, 11.629554223577879, 35.416487961019286, 54.00340124896731, 41.72991994896292, 71.85167012052437, 34.897472903784276, 42.04784769285905, 23.435214737300107, 35.35201880022793, 30.242414985358696, 40.293843332684325, 31.05405748942373, 33.753350670498335, 30.557947312315687, 32.316676925789665, 35.98119542378786, 30.532388144542907, 31.116562684453747, 28.755515146140148, 28.77124240447326, 27.257501124581513, 27.32164238247774, 18.45327425862771, 24.265304008141076, 24.26523511266817, 24.265209085489513, 24.265117224858972, 24.2651049767749, 24.26497330987112, 24.264935034608392, 24.264743658294762, 24.26466404574829, 24.264506351665858, 24.26432416141528, 24.26391078857784, 19.415454654156648, 19.41546537123021, 19.415425564956973, 19.4154638402197, 6.804154414083579, 5.82741487411882, 5.8252320358855405, 9.690687945617835, 4.859114264079953, 3.8916028899585022, 5.821080700890247, 4.85584670490101, 4.855645759771697, 4.855404625616522, 5.820777943562082, 4.85401217155854, 3.8887199971699586, 18.314945928124413, 6.782705722357023, 6.778343107911481, 5.816179936250774, 6.752544049823457, 5.804152317691666, 7.677303486490158, 8.582037305698465, 6.733571002090038, 6.720581908931246, 16.12814850166801, 30.775022901681695, 67.43023460972921, 85.19511295811961, 16.984392156033646, 20.61260994958326, 55.02503823887938, 18.250462827504187, 24.262067451924942, 31.420714335790038, 81.65226277954419, 71.1421940850924, 43.64146680859343, 22.3345481861869, 38.30210440252898, 103.1990616595194, 32.71421918457227, 55.130341141691936, 43.95868912404785, 44.53467977372112, 47.71861515865963, 59.42488686000139, 41.9401497525362, 47.667283438312154, 33.70685597215776, 37.49571810539061, 33.01635798449152, 32.87712788879839, 34.31398431356412, 30.774208404090878, 30.689387359868416, 28.67017128171176, 28.93092686757135, 31.6908182718179, 29.129841876949342, 26.608037916965376, 27.336354926226203], \"Total\": [118.0, 90.0, 76.0, 193.0, 134.0, 119.0, 61.0, 24.0, 24.0, 24.0, 24.0, 24.0, 24.0, 24.0, 24.0, 24.0, 24.0, 24.0, 24.0, 36.0, 54.0, 237.0, 35.0, 41.0, 19.0, 19.0, 19.0, 19.0, 65.0, 18.0, 6.089813152859033, 8.111021493486067, 14.17274041661325, 7.100454361149587, 5.080377759582946, 6.088489177673829, 7.100656136698343, 7.100537854386556, 10.131866344220498, 12.15203345439059, 7.100657095515288, 6.090677225270283, 7.100801230099136, 4.070043848100337, 5.080146545194004, 4.069737274599745, 4.069910783598095, 5.080331241774696, 4.0699289931288805, 5.08022673551899, 3.0593989110847004, 3.0562145339607354, 3.0512691088187345, 7.099641191311022, 4.0700193378524965, 3.0595743924607812, 3.0596366085887547, 20.231343634106473, 3.058769834495377, 4.069377047553984, 9.120044935531997, 10.128881716424218, 9.121066549820213, 9.119909903746581, 9.121116662810042, 5.079377088064728, 5.079454479587601, 6.089091106749974, 6.088195742087533, 5.078452049450137, 5.079481046610502, 8.105069608653231, 7.096634725538817, 35.372341118563526, 18.209337872718443, 37.35934964111735, 43.31751148872699, 26.2086942409231, 39.40921114939686, 12.148135677287298, 15.179349899875788, 27.283423136655227, 47.36086616508296, 193.80252545871653, 54.565470794534335, 100.55090254299856, 19.131135161698534, 19.177590308471633, 19.14739283225882, 23.215487685686288, 22.119714980860294, 177.8953799091627, 37.34280524206998, 165.39788544219712, 132.25992126853612, 32.20206788495828, 20.103094633579683, 22.13331913329342, 110.11507836293336, 134.9896776792511, 81.17779367398107, 300.85775613134604, 32.10955312719668, 153.34377016508137, 97.06468037219514, 154.61655860624566, 48.25213840760502, 93.9816878940542, 110.17991618248219, 138.8887384681725, 94.45840030443797, 63.06955854733938, 91.90165652766723, 109.879716139812, 75.75900370629068, 202.9346013064564, 78.3602877998235, 114.42901660559411, 110.00232583027302, 237.9207842106032, 102.27819171793834, 143.50902940773295, 124.56158281929555, 102.71650056990907, 9.11189142356758, 9.111890201555562, 9.111897180015445, 9.111894914397341, 9.111890213239203, 9.11187799162201, 9.11188357504962, 9.111885223662808, 13.148560299432706, 9.111249952116015, 8.102675913803907, 8.102678136836776, 8.10267557088123, 8.10267094562398, 5.075000311736513, 5.074998154480625, 5.074996428675913, 5.074996428675913, 5.074995997224735, 5.07499513432238, 5.074991682712957, 5.074463155020155, 5.074324227740903, 5.074997468995407, 5.07499480322976, 9.111835354066741, 6.083717807446042, 4.065760071458635, 4.065759640007457, 5.074529339180998, 9.111023767025808, 7.0919438204422, 6.082981569854804, 6.0842241507361186, 6.083465537744058, 11.12931223150669, 7.090988675820084, 6.084091663000486, 13.129061059088205, 8.096370927914212, 7.0910603142143245, 9.111596188012932, 17.139935520674555, 27.245190700533207, 16.12986181111859, 15.163050979308382, 15.12663459001876, 61.48311536632625, 9.111335107013472, 29.147707065793306, 37.23445294259736, 33.05356118189159, 237.9207842106032, 12.138002108030218, 202.9346013064564, 35.05044604847313, 20.12398594592517, 48.42688542665017, 53.13553210048682, 27.187982341171676, 114.42901660559411, 23.244198210718068, 29.206290566482295, 35.31444202635816, 71.4356425997286, 77.11020951308939, 49.353128793073985, 154.61655860624566, 38.29525194877267, 13.144899869315996, 71.9917921193782, 143.50902940773295, 110.00232583027302, 300.85775613134604, 82.66650464225091, 124.56158281929555, 41.07275264116959, 94.45840030443797, 73.38326798702975, 138.8887384681725, 79.91346519563082, 103.80908956753456, 84.52539132220511, 110.17991618248219, 165.39788544219712, 102.71650056990907, 119.34266619414927, 109.879716139812, 134.9896776792511, 78.3602877998235, 105.27601710995754, 18.473469490441474, 24.298523397671573, 24.29853793575553, 24.298548553275932, 24.29853473980396, 24.29855094053192, 24.298532888543175, 24.298543409397443, 24.298555878597117, 24.29855033239795, 24.298548125904432, 24.298573419851117, 24.298576218752498, 19.444578698995347, 19.44458959471666, 19.44454973788274, 19.44458867886115, 6.824349645897341, 5.853781406523987, 5.852524451694558, 9.737343134207679, 4.8826958511784, 3.911798121772265, 5.85369772998824, 4.883066904003427, 4.883035824672087, 4.883007211121881, 5.853905721592062, 4.883137256261992, 3.9121417295967706, 18.478694802716763, 6.824571060375772, 6.824798693424237, 5.853896750776244, 6.826164122901214, 5.8538515245055285, 7.797910306411886, 8.770940825242775, 6.826332594522286, 6.82718430969124, 17.5557976297492, 36.15530670030373, 90.21046533978142, 118.79350166333776, 19.54220162115733, 24.442869911325502, 76.5689040674926, 21.510920528844615, 30.352828623793528, 41.17886380873508, 134.08228264173957, 119.34266619414927, 65.93173523039749, 28.410794211096245, 64.11535511982285, 300.85775613134604, 56.26715887210132, 153.34377016508137, 102.27819171793834, 105.27601710995754, 143.50902940773295, 237.9207842106032, 124.56158281929555, 177.8953799091627, 79.45973070229377, 138.8887384681725, 84.52539132220511, 102.71650056990907, 134.9896776792511, 103.80908956753456, 109.879716139812, 76.63329339731843, 82.66650464225091, 165.39788544219712, 193.80252545871653, 76.71345248867794, 110.00232583027302], \"Category\": [\"Default\", \"Default\", \"Default\", \"Default\", \"Default\", \"Default\", \"Default\", \"Default\", \"Default\", \"Default\", \"Default\", \"Default\", \"Default\", \"Default\", \"Default\", \"Default\", \"Default\", \"Default\", \"Default\", \"Default\", \"Default\", \"Default\", \"Default\", \"Default\", \"Default\", \"Default\", \"Default\", \"Default\", \"Default\", \"Default\", \"Topic1\", \"Topic1\", \"Topic1\", \"Topic1\", \"Topic1\", \"Topic1\", \"Topic1\", \"Topic1\", \"Topic1\", \"Topic1\", \"Topic1\", \"Topic1\", \"Topic1\", \"Topic1\", \"Topic1\", \"Topic1\", \"Topic1\", \"Topic1\", \"Topic1\", \"Topic1\", \"Topic1\", \"Topic1\", \"Topic1\", \"Topic1\", \"Topic1\", \"Topic1\", \"Topic1\", \"Topic1\", \"Topic1\", \"Topic1\", \"Topic1\", \"Topic1\", \"Topic1\", \"Topic1\", \"Topic1\", \"Topic1\", \"Topic1\", \"Topic1\", \"Topic1\", \"Topic1\", \"Topic1\", \"Topic1\", \"Topic1\", \"Topic1\", \"Topic1\", \"Topic1\", \"Topic1\", \"Topic1\", \"Topic1\", \"Topic1\", \"Topic1\", \"Topic1\", \"Topic1\", \"Topic1\", \"Topic1\", \"Topic1\", \"Topic1\", \"Topic1\", \"Topic1\", \"Topic1\", \"Topic1\", \"Topic1\", \"Topic1\", \"Topic1\", \"Topic1\", \"Topic1\", \"Topic1\", \"Topic1\", \"Topic1\", \"Topic1\", \"Topic1\", \"Topic1\", \"Topic1\", \"Topic1\", \"Topic1\", \"Topic1\", \"Topic1\", \"Topic1\", \"Topic1\", \"Topic1\", \"Topic1\", \"Topic1\", \"Topic1\", \"Topic1\", \"Topic1\", \"Topic1\", \"Topic1\", \"Topic1\", \"Topic1\", \"Topic1\", \"Topic1\", \"Topic1\", \"Topic1\", \"Topic1\", \"Topic2\", \"Topic2\", \"Topic2\", \"Topic2\", \"Topic2\", \"Topic2\", \"Topic2\", \"Topic2\", \"Topic2\", \"Topic2\", \"Topic2\", \"Topic2\", \"Topic2\", \"Topic2\", \"Topic2\", \"Topic2\", \"Topic2\", \"Topic2\", \"Topic2\", \"Topic2\", \"Topic2\", \"Topic2\", \"Topic2\", \"Topic2\", \"Topic2\", \"Topic2\", \"Topic2\", \"Topic2\", \"Topic2\", \"Topic2\", \"Topic2\", \"Topic2\", \"Topic2\", \"Topic2\", \"Topic2\", \"Topic2\", \"Topic2\", \"Topic2\", \"Topic2\", \"Topic2\", \"Topic2\", \"Topic2\", \"Topic2\", \"Topic2\", \"Topic2\", \"Topic2\", \"Topic2\", \"Topic2\", \"Topic2\", \"Topic2\", \"Topic2\", \"Topic2\", \"Topic2\", \"Topic2\", \"Topic2\", \"Topic2\", \"Topic2\", \"Topic2\", \"Topic2\", \"Topic2\", \"Topic2\", \"Topic2\", \"Topic2\", \"Topic2\", \"Topic2\", \"Topic2\", \"Topic2\", \"Topic2\", \"Topic2\", \"Topic2\", \"Topic2\", \"Topic2\", \"Topic2\", \"Topic2\", \"Topic2\", \"Topic2\", \"Topic2\", \"Topic2\", \"Topic2\", \"Topic2\", \"Topic2\", \"Topic2\", \"Topic2\", \"Topic2\", \"Topic2\", \"Topic2\", \"Topic2\", \"Topic2\", \"Topic2\", \"Topic2\", \"Topic2\", \"Topic3\", \"Topic3\", \"Topic3\", \"Topic3\", \"Topic3\", \"Topic3\", \"Topic3\", \"Topic3\", \"Topic3\", \"Topic3\", \"Topic3\", \"Topic3\", \"Topic3\", \"Topic3\", \"Topic3\", \"Topic3\", \"Topic3\", \"Topic3\", \"Topic3\", \"Topic3\", \"Topic3\", \"Topic3\", \"Topic3\", \"Topic3\", \"Topic3\", \"Topic3\", \"Topic3\", \"Topic3\", \"Topic3\", \"Topic3\", \"Topic3\", \"Topic3\", \"Topic3\", \"Topic3\", \"Topic3\", \"Topic3\", \"Topic3\", \"Topic3\", \"Topic3\", \"Topic3\", \"Topic3\", \"Topic3\", \"Topic3\", \"Topic3\", \"Topic3\", \"Topic3\", \"Topic3\", \"Topic3\", \"Topic3\", \"Topic3\", \"Topic3\", \"Topic3\", \"Topic3\", \"Topic3\", \"Topic3\", \"Topic3\", \"Topic3\", \"Topic3\", \"Topic3\", \"Topic3\", \"Topic3\", \"Topic3\", \"Topic3\", \"Topic3\", \"Topic3\", \"Topic3\", \"Topic3\", \"Topic3\", \"Topic3\", \"Topic3\", \"Topic3\", \"Topic3\", \"Topic3\", \"Topic3\", \"Topic3\", \"Topic3\", \"Topic3\"], \"logprob\": [30.0, 29.0, 28.0, 27.0, 26.0, 25.0, 24.0, 23.0, 22.0, 21.0, 20.0, 19.0, 18.0, 17.0, 16.0, 15.0, 14.0, 13.0, 12.0, 11.0, 10.0, 9.0, 8.0, 7.0, 6.0, 5.0, 4.0, 3.0, 2.0, 1.0, -7.2072, -6.9207, -6.3628, -7.0539, -7.3891, -7.2081, -7.0544, -7.0544, -6.6995, -6.5176, -7.055, -7.2086, -7.0551, -7.6118, -7.3902, -7.6124, -7.6126, -7.3909, -7.613, -7.3913, -7.8988, -7.8999, -7.9015, -7.0571, -7.6136, -7.899, -7.8992, -6.0103, -7.8995, -7.6143, -6.8081, -6.7044, -6.8092, -6.8117, -6.8122, -7.3933, -7.3945, -7.2158, -7.217, -7.3948, -7.3949, -6.938, -7.0682, -5.5234, -6.1701, -5.4931, -5.3815, -5.8506, -5.4781, -6.575, -6.3725, -5.8363, -5.3348, -4.073, -5.2338, -4.72, -6.1895, -6.1875, -6.1938, -6.0351, -6.079, -4.3343, -5.6602, -4.4284, -4.6164, -5.7903, -6.1878, -6.1194, -4.8862, -4.7352, -5.143, -4.1758, -5.8409, -4.6903, -5.0397, -4.7569, -5.5608, -5.1133, -5.0099, -4.8981, -5.1638, -5.4175, -5.1924, -5.0899, -5.315, -4.7803, -5.3151, -5.2742, -5.2985, -5.0911, -5.3259, -5.278, -5.3074, -5.3392, -6.7037, -6.7037, -6.7037, -6.7037, -6.7037, -6.7038, -6.7038, -6.7038, -6.3379, -6.7049, -6.8223, -6.8223, -6.8224, -6.8225, -7.2905, -7.2905, -7.2905, -7.2905, -7.2905, -7.2905, -7.2905, -7.2906, -7.2906, -7.2909, -7.2909, -6.7059, -7.1101, -7.5132, -7.5132, -7.2916, -6.708, -6.9574, -7.111, -7.111, -7.1131, -6.523, -6.9631, -7.1138, -6.3758, -6.8406, -6.9699, -6.7356, -6.1416, -5.7153, -6.2071, -6.2709, -6.2776, -5.0019, -6.7417, -5.6846, -5.5244, -5.6526, -4.0579, -6.5066, -4.2266, -5.6496, -6.0985, -5.4073, -5.3911, -5.9051, -4.9043, -6.0373, -5.883, -5.7631, -5.2901, -5.2517, -5.5576, -4.7937, -5.7327, -6.4573, -5.3437, -4.9218, -5.1797, -4.6363, -5.3585, -5.1721, -5.7567, -5.3455, -5.5016, -5.2147, -5.4752, -5.3918, -5.4913, -5.4353, -5.3279, -5.4921, -5.4732, -5.5521, -5.5515, -5.6056, -5.6032, -5.8759, -5.6021, -5.6021, -5.6021, -5.6021, -5.6021, -5.6021, -5.6021, -5.6021, -5.6021, -5.6021, -5.6021, -5.6021, -5.8251, -5.8251, -5.8251, -5.8251, -6.8736, -7.0286, -7.0289, -6.52, -7.2103, -7.4323, -7.0296, -7.2109, -7.211, -7.211, -7.0297, -7.2113, -7.433, -5.8834, -6.8768, -6.8774, -7.0305, -6.8812, -7.0326, -6.7529, -6.6415, -6.884, -6.886, -6.0106, -5.3644, -4.58, -4.3462, -5.9588, -5.7652, -4.7833, -5.8869, -5.6022, -5.3437, -4.3887, -4.5264, -5.0151, -5.685, -5.1456, -4.1545, -5.3033, -4.7814, -5.0079, -4.9949, -4.9258, -4.7064, -5.0549, -4.9269, -5.2734, -5.1669, -5.2941, -5.2983, -5.2556, -5.3645, -5.3672, -5.4353, -5.4262, -5.3351, -5.4194, -5.5099, -5.4829], \"loglift\": [30.0, 29.0, 28.0, 27.0, 26.0, 25.0, 24.0, 23.0, 22.0, 21.0, 20.0, 19.0, 18.0, 17.0, 16.0, 15.0, 14.0, 13.0, 12.0, 11.0, 10.0, 9.0, 8.0, 7.0, 6.0, 5.0, 4.0, 3.0, 2.0, 1.0, 0.993, 0.9929, 0.9927, 0.9927, 0.9923, 0.9923, 0.9922, 0.9922, 0.9917, 0.9917, 0.9916, 0.9915, 0.9915, 0.9914, 0.9913, 0.9908, 0.9906, 0.9905, 0.9902, 0.9902, 0.9898, 0.9898, 0.9897, 0.9897, 0.9896, 0.9895, 0.9893, 0.9893, 0.9893, 0.989, 0.9883, 0.987, 0.987, 0.9847, 0.984, 0.9883, 0.9871, 0.9845, 0.9834, 0.987, 0.9867, 0.9763, 0.979, 0.9175, 0.9347, 0.8932, 0.8567, 0.8901, 0.8548, 0.9346, 0.9144, 0.8642, 0.8142, 0.667, 0.7736, 0.6762, 0.866, 0.8656, 0.8609, 0.8269, 0.8313, 0.4913, 0.7265, 0.4701, 0.5057, 0.7445, 0.8182, 0.7903, 0.4191, 0.3664, 0.4671, 0.1244, 0.6968, 0.2838, 0.3918, 0.209, 0.5696, 0.3504, 0.2948, 0.1751, 0.2948, 0.4451, 0.2937, 0.2175, 0.3643, -0.0863, 0.3304, -0.0073, 0.0078, -0.5562, 0.0532, -0.2376, -0.1254, 0.0357, 1.0935, 1.0935, 1.0935, 1.0935, 1.0935, 1.0934, 1.0934, 1.0934, 1.0926, 1.0924, 1.0923, 1.0923, 1.0923, 1.0921, 1.092, 1.092, 1.092, 1.092, 1.092, 1.092, 1.092, 1.092, 1.092, 1.0916, 1.0916, 1.0913, 1.0911, 1.091, 1.091, 1.091, 1.0894, 1.0904, 1.0903, 1.0902, 1.0881, 1.0742, 1.0849, 1.0873, 1.0561, 1.0748, 1.0781, 1.0617, 1.0238, 0.9866, 1.019, 1.0171, 1.0127, 0.8861, 1.0556, 0.9498, 0.8652, 0.8561, 0.477, 1.0038, 0.4674, 0.8004, 0.9064, 0.7195, 0.6429, 0.799, 0.3626, 0.8234, 0.7494, 0.6794, 0.4479, 0.4099, 0.5502, 0.1722, 0.6288, 0.9734, 0.3865, 0.1186, 0.1266, -0.3361, 0.2335, 0.0099, 0.5348, 0.1131, 0.2095, -0.1416, 0.1507, -0.0276, 0.0785, -0.1306, -0.4294, -0.1173, -0.2483, -0.2446, -0.4499, 0.0399, -0.253, 1.2146, 1.2143, 1.2143, 1.2143, 1.2143, 1.2143, 1.2143, 1.2143, 1.2143, 1.2143, 1.2143, 1.2143, 1.2143, 1.2142, 1.2142, 1.2142, 1.2142, 1.2127, 1.2112, 1.211, 1.2109, 1.2108, 1.2105, 1.2101, 1.2101, 1.2101, 1.21, 1.21, 1.2097, 1.2097, 1.2068, 1.2095, 1.2089, 1.2092, 1.2048, 1.2072, 1.2001, 1.1939, 1.202, 1.1999, 1.1309, 1.0546, 0.9246, 0.8832, 1.0754, 1.0452, 0.8853, 1.0513, 0.9917, 0.9452, 0.7197, 0.6984, 0.8031, 0.975, 0.7005, 0.1457, 0.6734, 0.1927, 0.3712, 0.3554, 0.1146, -0.1715, 0.1271, -0.1013, 0.3581, -0.0938, 0.2756, 0.0765, -0.154, -0.0002, -0.0598, 0.2325, 0.1658, -0.4366, -0.6794, 0.1568, -0.1766]}, \"token.table\": {\"Topic\": [1, 2, 3, 2, 3, 1, 1, 2, 1, 2, 3, 1, 2, 3, 1, 1, 3, 1, 2, 3, 3, 2, 2, 2, 2, 2, 3, 3, 2, 1, 2, 2, 3, 1, 2, 3, 3, 3, 3, 1, 2, 3, 1, 2, 3, 3, 1, 2, 1, 2, 3, 1, 2, 3, 1, 2, 3, 1, 2, 3, 2, 1, 2, 1, 2, 3, 2, 3, 3, 1, 1, 2, 3, 3, 1, 2, 3, 1, 2, 3, 2, 1, 2, 3, 1, 2, 3, 1, 1, 1, 2, 1, 2, 3, 1, 2, 3, 3, 3, 1, 2, 3, 2, 3, 1, 1, 3, 2, 3, 1, 2, 3, 2, 1, 2, 3, 1, 2, 1, 2, 3, 2, 1, 1, 2, 3, 1, 1, 2, 1, 1, 2, 3, 1, 2, 3, 1, 2, 3, 1, 2, 3, 1, 2, 3, 1, 2, 3, 1, 2, 2, 1, 2, 3, 2, 1, 2, 1, 2, 3, 1, 3, 1, 2, 3, 3, 1, 1, 2, 3, 3, 3, 2, 1, 2, 1, 2, 3, 3, 3, 1, 2, 3, 1, 2, 3, 1, 1, 2, 1, 1, 1, 1, 1, 1, 2, 3, 1, 3, 1, 2, 3, 1, 2, 3, 1, 2, 3, 2, 1, 2, 3, 1, 2, 3, 3, 1, 2, 3, 3, 1, 1, 1, 2, 3, 1, 2, 1, 2, 3, 1, 2, 1, 3, 1, 2, 3, 1, 2, 3, 2, 2, 3, 1, 2, 3, 3, 3, 1, 2, 3, 3, 1, 2, 3, 1, 2, 3, 2, 1, 1, 2, 3, 1, 3, 2, 1, 2, 3, 1, 2, 3, 2, 1, 1, 2, 3, 1, 2, 3, 3, 1, 2, 3, 2, 3, 2, 2, 1, 3, 1, 2, 3, 2, 1, 2, 1, 2, 3, 2, 1, 2, 3, 1, 2, 3, 2, 1, 1, 2, 3, 3, 1, 2, 3, 1, 2, 3, 1, 3, 3, 2, 3, 2, 1, 3, 2, 1, 2, 3, 2, 1, 2, 3, 1, 3, 3, 1, 2, 3, 1, 2, 3, 1, 1, 2, 3, 1, 1, 3, 1, 2, 3, 1, 2, 3, 1, 2, 3, 1, 2, 3, 3, 3, 1, 3, 1, 2, 3, 2, 2, 1, 1, 2, 1, 2, 3, 1, 2, 3, 3, 1, 2, 3, 1, 1, 2, 3, 1, 2, 1, 2, 3, 2, 2, 1, 2, 3, 1, 1, 1, 2, 3, 2, 2], \"Freq\": [0.39147475816365956, 0.23488485489819574, 0.37842559955820426, 0.21118733800326545, 0.7743535726786399, 0.9858242562397693, 0.8627424657425642, 0.12687389202096533, 0.5460276569888363, 0.21635058107104835, 0.2369553983159101, 0.9828181294447792, 0.8577003996770332, 0.1372320639483253, 0.9807864475997513, 0.8886038312057315, 0.1045416272006743, 0.31346170672027346, 0.2564686691347692, 0.427447781891282, 1.0225476559582207, 0.9877522899709114, 0.9853259048799106, 0.9861569612411587, 0.9838259892787622, 0.9877199072806974, 1.0239591677463937, 1.0254408063294589, 0.98382588487691, 0.9335869386810437, 0.05491687874594375, 0.9887014018227444, 1.0261156903599205, 0.3523797494973353, 0.2265298389625727, 0.42788969581819286, 1.0249931371178016, 0.9771375658539089, 1.0239466503931585, 0.59251059793173, 0.21765695434226817, 0.19347284830423836, 0.09358132679428849, 0.31193775598096163, 0.5926817363638271, 0.9877123066160257, 0.9867267112723128, 0.9877196616901185, 0.3444563782628045, 0.5876020570365488, 0.08104855959124811, 0.5213781652361663, 0.21280741438210868, 0.2553688972585304, 0.7763476584582197, 0.09316171901498638, 0.12421562535331516, 0.46332087589788706, 0.4088125375569592, 0.12264376126708774, 0.9901698180465948, 0.9329323125486169, 0.05654135227567375, 0.4188025651065214, 0.23931575148944081, 0.3423544778251723, 0.9877209577473329, 1.0239318982050212, 1.0239531675636986, 0.9828644283661767, 0.4890971437526231, 0.14998979075080443, 0.35867123875192364, 0.9771355629517909, 0.49757353341280103, 0.3705334823286816, 0.1270400510841194, 0.3133547734860794, 0.6267095469721587, 0.05222579558101323, 0.9852221662269612, 0.10742738737605775, 0.8057054053204332, 0.08057054053204332, 0.19427442284852448, 0.04856860571213112, 0.7528133885380324, 0.9869849897599845, 0.980508597517317, 0.98279631322601, 0.9852223681868718, 0.37796258306637787, 0.5179487249428141, 0.09799029931350538, 0.9157266584660911, 0.03815527743608713, 0.07631055487217427, 1.0257054894838429, 1.0269741819890887, 0.8234646694184184, 0.08445791481214548, 0.08445791481214548, 0.987721741695304, 0.987713334790314, 0.9863122673789944, 0.9816064830082842, 1.025312878995144, 0.7866020806933237, 0.21177748326358717, 0.9828225267541888, 0.9334924265438723, 0.05834327665899202, 0.9852224519456277, 0.21015398114920847, 0.5379941917419737, 0.247981697756066, 0.08238588122656722, 0.9062446934922394, 0.5279900479562217, 0.13199751198905543, 0.34319353117154416, 0.9863584051830713, 0.984187794466206, 0.05696123987584869, 0.05696123987584869, 0.911379838013579, 0.984357674646579, 0.9827903947194502, 0.985222683739098, 0.9863830210689786, 0.717224915779591, 0.1289972870107178, 0.14963685293243265, 0.14244696001968002, 0.2597562212123577, 0.5949255389057224, 0.3291544557480429, 0.33718261320531223, 0.33718261320531223, 0.2191233706352269, 0.5599819471789133, 0.2191233706352269, 0.026120264151058968, 0.2612026415105897, 0.7183072641541216, 0.8864513073099862, 0.052144194547646246, 0.052144194547646246, 0.8796550154205557, 0.10995687692756946, 0.9873281475285238, 0.5630473221446689, 0.2088723936988288, 0.2270352105422052, 0.9880970216443581, 0.9223056384064617, 0.06587897417189012, 0.379685832204306, 0.30180155893162786, 0.3212726272497974, 0.9845519759394733, 0.9877135265119644, 0.20543519507697142, 0.7190231827693999, 0.06847839835899047, 0.987713878923122, 0.9855136487353983, 0.06651113013773684, 0.18844820205692103, 0.7427076198713947, 0.9877143399709556, 1.0249784854133865, 0.987721136455696, 0.21510744120631634, 0.7743867883427388, 0.07340745095099879, 0.8808894114119856, 0.036703725475499396, 0.987713245098417, 1.0249567187030484, 0.20203125309005784, 0.0841796887875241, 0.7155273546939549, 0.36703977055717124, 0.48064731858677184, 0.15730275881021624, 0.9829514329236989, 0.07607513255648982, 0.9129015906778778, 0.9805285360579625, 0.9878117843454775, 0.9858243893577494, 0.9867212900253894, 0.9858408114359328, 0.24611752835513825, 0.14170403147720081, 0.6115647674279193, 0.9842235761348607, 0.9771356089756489, 0.8614938557733239, 0.08614938557733239, 0.04307469278866619, 0.910080082405394, 0.053534122494434934, 0.026767061247217467, 0.3114872943989818, 0.6512916155615075, 0.028317026763543803, 0.9852220331519904, 0.33786546402290407, 0.38791960684111204, 0.27529778550014405, 0.6424585732995015, 0.20724470106435533, 0.1243468206386132, 1.0240244636153795, 0.7474411090346842, 0.06228675908622368, 0.18686027725867105, 1.0224578444432495, 0.9870365569049455, 0.9831974476880596, 0.8878493353601138, 0.0522264314917714, 0.1044528629835428, 0.9885650879995698, 0.9862799357987307, 0.4550430393939089, 0.26392496284846717, 0.2821266844242235, 0.9805847773333878, 0.9853528816044944, 0.984372672733583, 1.025198621470559, 0.5104626478935685, 0.3445622873281588, 0.14037722817073137, 0.7765886845407354, 0.18745244109603956, 0.02677892015657708, 0.9871584346798192, 0.9877202856831485, 1.0254661144925568, 0.3910902151097035, 0.17599059679936657, 0.43019923662067383, 0.9877137490105432, 0.9743702994888721, 0.16937818525990714, 0.6398731443152048, 0.18819798362211906, 0.9771361104872734, 0.0409117261445905, 0.12273517843377149, 0.8591462490364005, 0.04969194486057998, 0.8447630626298597, 0.09938388972115995, 0.9883809323687935, 0.9868518543481092, 0.28909561035481235, 0.6814396529792006, 0.02064968645391517, 0.9868372429762602, 0.9877132203783431, 0.9877204168816004, 0.5005350473323795, 0.2285051303039124, 0.2829111137096058, 0.17772356380620905, 0.24881298932869267, 0.5864877605604898, 0.9862390383486267, 0.9858524037983785, 0.25002850283476824, 0.4861665332898272, 0.25002850283476824, 0.37568964492871276, 0.3275243058352881, 0.29862510237923323, 1.0256712782963946, 0.6014771156768465, 0.12928947346324737, 0.26982150983634234, 0.9873287529120962, 0.9877133174180611, 0.9873281893143769, 0.9877805935457503, 0.13946404552874497, 0.8367842731724697, 0.8772433755777769, 0.046170703977777734, 0.09234140795555547, 0.9877263636006298, 0.9054887344208787, 0.08231715767462534, 0.2853059295120385, 0.5057696023167955, 0.2074952214633007, 0.9870354556141328, 0.49918353458272646, 0.2904340564844954, 0.20874947809823108, 0.9851121276146334, 0.9299521704308863, 0.06199681136205908, 0.9852223681868718, 0.9842080403699158, 0.5333741159904031, 0.21483124116280125, 0.2518711103288015, 1.0249662081251398, 0.22750804218306583, 0.1213376224976351, 0.6673569237369931, 0.6124304265654318, 0.1814608671304983, 0.20414347552181059, 0.9843525261968369, 0.9877130196506825, 0.9877121928435432, 0.19767515160997584, 0.7907006064399034, 0.9861784358851992, 0.8456409478172403, 0.14923075549716006, 0.9877898254684387, 0.1463816520418095, 0.8132314002322749, 0.0487938840139365, 0.9852226194631822, 0.43920047566692133, 0.2880003119127353, 0.26640028851928016, 0.15351392121305593, 0.869912220207317, 1.0257387682661097, 0.3649946533710302, 0.2867815133629523, 0.35195913003635054, 0.806370757171353, 0.20159268929283825, 1.024958289400028, 0.985804245629091, 0.5912947103831532, 0.2094168765940334, 0.19709823679438437, 0.9853687348098285, 0.13829228559574067, 0.8574121706935921, 0.2484460547476132, 0.36675369986552425, 0.39041522888910646, 0.8132535338056915, 0.04518075187809398, 0.13554225563428193, 0.4527328808181893, 0.3945243675701364, 0.14875508941169077, 0.18390478326993512, 0.7356191330797405, 0.07356191330797404, 0.974094771961579, 1.0259158781836648, 0.8589622432495303, 0.135625617355189, 0.5707983507285651, 0.19026611690952172, 0.23783264613690214, 0.9852216143587093, 0.9877204181480962, 0.9841787828805973, 0.06594978816364912, 0.9232970342910876, 0.9852519033663836, 0.9255198118712958, 0.06610855799080685, 0.37271939198140713, 0.38181010885900246, 0.245449355695073, 0.9877139541752361, 0.34001101613914253, 0.5321911556960492, 0.12812009303793778, 0.9859653201301258, 0.7260004450858413, 0.1491781736477756, 0.11934253891822048, 0.9872758197763103, 0.987327876647355, 0.22983916015591502, 0.42338792660300134, 0.35080713918534395, 0.9878143477764135, 0.9871684076819428, 0.028530307392295288, 0.7417879921996775, 0.2282424591383623, 0.9874890523498633, 0.985466151767451, 0.29266451158742796, 0.3762829434695502, 0.3344737275284891, 0.9853130538421467, 0.9852232895339705], \"Term\": [\"able\", \"able\", \"able\", \"access_download_log_http\", \"access_download_log_http\", \"accounting_code\", \"action\", \"action\", \"add\", \"add\", \"add\", \"add_custom\", \"address\", \"address\", \"ago\", \"allocation\", \"allocation\", \"anyone\", \"anyone\", \"anyone\", \"anyone_tell\", \"approve\", \"atextra\", \"audit\", \"authentication\", \"available_downloads_patch_update\", \"bank_reconciliation\", \"believe\", \"body\", \"bom\", \"bom\", \"budget\", \"bulk\", \"call\", \"call\", \"call\", \"cant\", \"case_submission_knowledgebase_university\", \"cash\", \"change\", \"change\", \"change\", \"check\", \"check\", \"check\", \"check_vendor_product_ensure\", \"choose\", \"city_customer_additional_resource\", \"client\", \"client\", \"client\", \"code\", \"code\", \"code\", \"column\", \"column\", \"column\", \"company\", \"company\", \"company\", \"contact\", \"cost\", \"cost\", \"create\", \"create\", \"create\", \"credential_upper_right_corner\", \"credit_card\", \"credit_invoice\", \"credit_memo\", \"customer\", \"customer\", \"customer\", \"customer_additional_resource_include\", \"data\", \"data\", \"data\", \"database\", \"database\", \"database\", \"database_server\", \"delete\", \"delete\", \"delete\", \"delivery\", \"delivery\", \"delivery\", \"depreciation\", \"describe\", \"description_field\", \"detail_access_download\", \"different\", \"different\", \"different\", \"dimension\", \"dimension\", \"dimension\", \"directory\", \"discount\", \"display\", \"display\", \"display\", \"download_portal_access_download\", \"downloads_patch_update_download\", \"drive\", \"easily\", \"eclipse\", \"email\", \"email\", \"endifreturn\", \"endpoint\", \"endpoint\", \"ensure_component_highly_recommended\", \"error\", \"error\", \"error\", \"et\", \"et\", \"example\", \"example\", \"example\", \"except\", \"expense\", \"export\", \"export\", \"export\", \"export_data\", \"expression\", \"facet\", \"factor\", \"field\", \"field\", \"field\", \"file\", \"file\", \"file\", \"find\", \"find\", \"find\", \"first\", \"first\", \"first\", \"folder\", \"folder\", \"folder\", \"format\", \"format\", \"format\", \"formula\", \"formula\", \"fully_compatible_release_integrate\", \"function\", \"function\", \"function\", \"good_day\", \"guys\", \"guys\", \"help\", \"help\", \"help\", \"hide\", \"highly_recommended_work_certified\", \"http\", \"http\", \"http\", \"https_enter_log_credential\", \"ideal\", \"import\", \"import\", \"import\", \"important_product_integrate_isvs\", \"importsil\", \"include_link_support_option\", \"instal\", \"instal\", \"installation\", \"installation\", \"installation\", \"integrate_product_check_business\", \"interface\", \"invoice\", \"invoice\", \"invoice\", \"issue\", \"issue\", \"issue\", \"june\", \"key\", \"key\", \"kindly_advise\", \"label\", \"label_printer\", \"left_list\", \"legislation\", \"line\", \"line\", \"line\", \"lines\", \"link_support_option_online\", \"load\", \"load\", \"load\", \"location\", \"location\", \"location\", \"log\", \"log\", \"log\", \"log_http_search_field\", \"look\", \"look\", \"look\", \"lot\", \"lot\", \"lot\", \"major\", \"manage\", \"manage\", \"manage\", \"matteos\", \"memory\", \"modifier\", \"mrp\", \"mrp\", \"mrp\", \"must\", \"network\", \"new\", \"new\", \"new\", \"new_functionality\", \"newbie\", \"none\", \"null\", \"number\", \"number\", \"number\", \"object\", \"object\", \"object\", \"online\", \"online_case_submission_knowledgebase\", \"open_order\", \"order\", \"order\", \"order\", \"partner_ensure_component_compatible\", \"partner_professional_services_install\", \"patch\", \"patch\", \"patch\", \"patch_help_visit_city\", \"pay\", \"pay\", \"pay\", \"pdf\", \"pdf\", \"pdf\", \"period\", \"pi\", \"please\", \"please\", \"please\", \"policy\", \"portal_access_download_portal\", \"portal_https_enter_log\", \"possible\", \"possible\", \"possible\", \"post\", \"post\", \"post\", \"post_journal\", \"printer\", \"problem\", \"problem\", \"problem\", \"process\", \"process\", \"process\", \"processing\", \"product\", \"product\", \"product\", \"product_check_business_partner\", \"product_fully_compatible_release\", \"product_integrate_isvs_check\", \"production_tracking\", \"qty\", \"qty\", \"quantity\", \"quantity\", \"quantity\", \"que\", \"rate\", \"rate\", \"record\", \"record\", \"record\", \"related\", \"report\", \"report\", \"report\", \"report_parameter\", \"resource\", \"resource\", \"review_hotfix\", \"routings\", \"run\", \"run\", \"run\", \"runtime\", \"sale_order\", \"sale_order\", \"sale_order\", \"screen\", \"screen\", \"screen\", \"screen_window\", \"search_complete_list_available\", \"search_field_click_search\", \"search_field_type_click\", \"search_field_type_click\", \"search_note\", \"selection\", \"selection\", \"sequence_number\", \"server\", \"server\", \"server\", \"services_install_help_visit\", \"set\", \"set\", \"set\", \"setting\", \"setting\", \"shortcut\", \"show\", \"show\", \"show\", \"site\", \"site\", \"soh\", \"std\", \"stock\", \"stock\", \"stock\", \"subcontract\", \"supplier\", \"supplier\", \"system\", \"system\", \"system\", \"tab\", \"tab\", \"tab\", \"table\", \"table\", \"table\", \"task\", \"task\", \"task\", \"template\", \"test_folder\", \"text\", \"text\", \"transaction\", \"transaction\", \"transaction\", \"type_click_complete_list\", \"type_search_field_click\", \"udm_finance\", \"unable\", \"unable\", \"unit_measure\", \"university\", \"university\", \"update\", \"update\", \"update\", \"upper_right_corner_type\", \"user\", \"user\", \"user\", \"using\", \"value\", \"value\", \"value\", \"vat\", \"vendor_product_ensure_product\", \"version\", \"version\", \"version\", \"vm\", \"web_server\", \"web_service\", \"web_service\", \"web_service\", \"week\", \"whole\", \"work\", \"work\", \"work\", \"work_center\", \"work_certified_partner_professional\"]}, \"R\": 30, \"lambda.step\": 0.01, \"plot.opts\": {\"xlab\": \"PC1\", \"ylab\": \"PC2\"}, \"topic.order\": [3, 2, 1]};\n",
       "\n",
       "function LDAvis_load_lib(url, callback){\n",
       "  var s = document.createElement('script');\n",
       "  s.src = url;\n",
       "  s.async = true;\n",
       "  s.onreadystatechange = s.onload = callback;\n",
       "  s.onerror = function(){console.warn(\"failed to load library \" + url);};\n",
       "  document.getElementsByTagName(\"head\")[0].appendChild(s);\n",
       "}\n",
       "\n",
       "if(typeof(LDAvis) !== \"undefined\"){\n",
       "   // already loaded: just create the visualization\n",
       "   !function(LDAvis){\n",
       "       new LDAvis(\"#\" + \"ldavis_el242002108974695360182517963\", ldavis_el242002108974695360182517963_data);\n",
       "   }(LDAvis);\n",
       "}else if(typeof define === \"function\" && define.amd){\n",
       "   // require.js is available: use it to load d3/LDAvis\n",
       "   require.config({paths: {d3: \"https://d3js.org/d3.v5\"}});\n",
       "   require([\"d3\"], function(d3){\n",
       "      window.d3 = d3;\n",
       "      LDAvis_load_lib(\"https://cdn.jsdelivr.net/gh/bmabey/pyLDAvis@3.2.2/pyLDAvis/js/ldavis.v3.0.0.js\", function(){\n",
       "        new LDAvis(\"#\" + \"ldavis_el242002108974695360182517963\", ldavis_el242002108974695360182517963_data);\n",
       "      });\n",
       "    });\n",
       "}else{\n",
       "    // require.js not available: dynamically load d3 & LDAvis\n",
       "    LDAvis_load_lib(\"https://d3js.org/d3.v5.js\", function(){\n",
       "         LDAvis_load_lib(\"https://cdn.jsdelivr.net/gh/bmabey/pyLDAvis@3.2.2/pyLDAvis/js/ldavis.v3.0.0.js\", function(){\n",
       "                 new LDAvis(\"#\" + \"ldavis_el242002108974695360182517963\", ldavis_el242002108974695360182517963_data);\n",
       "            })\n",
       "         });\n",
       "}\n",
       "</script>"
      ],
      "text/plain": [
       "<IPython.core.display.HTML object>"
      ]
     },
     "execution_count": 256,
     "metadata": {},
     "output_type": "execute_result"
    }
   ],
   "source": [
    "# https://cran.r-project.org/web/packages/LDAvis/vignettes/details.pdf\n",
    "# Here a short legend to explain the vis:\n",
    "# size of bubble: proportional to the proportions of the topics across the N total tokens in the corpus\n",
    "# red bars: estimated number of times a given term was generated by a given topic\n",
    "# blue bars: overall frequency of each term in the corpus\n",
    "# -- Relevance of words is computed with a    parameter lambda\n",
    "# -- Lambda optimal value ~0.6 (https://nlp.stanford.edu/events/illvi2014/papers/sievert-illvi2014.pdf)\n",
    "\n",
    "\n",
    "%matplotlib inline\n",
    "import pyLDAvis\n",
    "import pyLDAvis.gensim\n",
    "vis = pyLDAvis.gensim.prepare(topic_model=lda_model, corpus=corpus, dictionary=dictionary_LDA)\n",
    "pyLDAvis.enable_notebook()\n",
    "pyLDAvis.save_html(vis, 'myBook.html')\n",
    "pyLDAvis.display(vis)"
   ]
  },
  {
   "cell_type": "code",
   "execution_count": 257,
   "metadata": {},
   "outputs": [
    {
     "name": "stderr",
     "output_type": "stream",
     "text": [
      "C:\\Users\\BDelamater\\Anaconda3\\lib\\site-packages\\ipykernel\\ipkernel.py:287: DeprecationWarning:\n",
      "\n",
      "`should_run_async` will not call `transform_cell` automatically in the future. Please pass the result to `transformed_cell` argument and any exception that happen during thetransform in `preprocessing_exc_tuple` in IPython 7.17 and above.\n",
      "\n"
     ]
    },
    {
     "data": {
      "text/html": [
       "<div>\n",
       "<style scoped>\n",
       "    .dataframe tbody tr th:only-of-type {\n",
       "        vertical-align: middle;\n",
       "    }\n",
       "\n",
       "    .dataframe tbody tr th {\n",
       "        vertical-align: top;\n",
       "    }\n",
       "\n",
       "    .dataframe thead th {\n",
       "        text-align: right;\n",
       "    }\n",
       "</style>\n",
       "<table border=\"1\" class=\"dataframe\">\n",
       "  <thead>\n",
       "    <tr style=\"text-align: right;\">\n",
       "      <th></th>\n",
       "      <th>Forum ID</th>\n",
       "      <th>Forum Name</th>\n",
       "      <th>Subject</th>\n",
       "      <th>Post Date</th>\n",
       "      <th>User DisplayName</th>\n",
       "      <th>Forum_Post_Raw</th>\n",
       "      <th>compound</th>\n",
       "      <th>neg</th>\n",
       "      <th>neu</th>\n",
       "      <th>pos</th>\n",
       "      <th>...</th>\n",
       "      <th>PostDate</th>\n",
       "      <th>DayName</th>\n",
       "      <th>DayOfMonth</th>\n",
       "      <th>ShortText</th>\n",
       "      <th>sentences</th>\n",
       "      <th>token_sentences</th>\n",
       "      <th>tokens_sentences</th>\n",
       "      <th>POS_tokens</th>\n",
       "      <th>tokens_sentences_lemmatized</th>\n",
       "      <th>tokens</th>\n",
       "    </tr>\n",
       "  </thead>\n",
       "  <tbody>\n",
       "    <tr>\n",
       "      <th>0</th>\n",
       "      <td>40</td>\n",
       "      <td>Sage X3 General Discussion</td>\n",
       "      <td>ERP help urgently needed</td>\n",
       "      <td>2019-10-10T05:58:05.73</td>\n",
       "      <td>ChinusGomes</td>\n",
       "      <td>Company upgraded to windows 10. Used to run an...</td>\n",
       "      <td>0.0387</td>\n",
       "      <td>0.063</td>\n",
       "      <td>0.873</td>\n",
       "      <td>0.064</td>\n",
       "      <td>...</td>\n",
       "      <td>2019-10-10 05:58:05.730</td>\n",
       "      <td>Thursday</td>\n",
       "      <td>10</td>\n",
       "      <td>Company upgraded to windows 10. Used to run an...</td>\n",
       "      <td>[Company upgraded to windows 10., Used to run ...</td>\n",
       "      <td>[[Company, upgraded, to, windows, 10, .], [Use...</td>\n",
       "      <td>[[Company, upgraded, to, windows, 10, .], [Use...</td>\n",
       "      <td>[[(Company, NN), (upgraded, VBD), (to, TO), (w...</td>\n",
       "      <td>[[Company, upgrade, to, windows, 10, .], [Used...</td>\n",
       "      <td>[company, upgrade, windows, used, run, erp, pr...</td>\n",
       "    </tr>\n",
       "    <tr>\n",
       "      <th>31</th>\n",
       "      <td>40</td>\n",
       "      <td>Sage X3 General Discussion</td>\n",
       "      <td>Sage V11 patch 14 - release soon?</td>\n",
       "      <td>2019-10-10T12:44:35.957</td>\n",
       "      <td>AnikB</td>\n",
       "      <td>Hello!\\n\\nI see that Sage V11 patch 14 was com...</td>\n",
       "      <td>0.7044</td>\n",
       "      <td>0.022</td>\n",
       "      <td>0.915</td>\n",
       "      <td>0.063</td>\n",
       "      <td>...</td>\n",
       "      <td>2019-10-10 12:44:35.957</td>\n",
       "      <td>Thursday</td>\n",
       "      <td>10</td>\n",
       "      <td>Hello!\\n\\nI see that Sage V11 patch 14 was com...</td>\n",
       "      <td>[Hello!, I see that Sage V11 patch 14 was comp...</td>\n",
       "      <td>[[Hello, !], [I, see, that, Sage, V11, patch, ...</td>\n",
       "      <td>[[Hello, !], [I, see, that, Sage, V11, patch, ...</td>\n",
       "      <td>[[(Hello, NN), (!, .)], [(I, PRP), (see, VBP),...</td>\n",
       "      <td>[[Hello, !], [I, see, that, Sage, V11, patch, ...</td>\n",
       "      <td>[patch, complete, october, least, patch, finde...</td>\n",
       "    </tr>\n",
       "    <tr>\n",
       "      <th>62</th>\n",
       "      <td>673</td>\n",
       "      <td>Sage X3 Announcements, News, and Alerts</td>\n",
       "      <td>Sage X3 12.0.19 and Patch 19 Add-ons Updates h...</td>\n",
       "      <td>2019-10-10T14:56:52.947</td>\n",
       "      <td>Alecia</td>\n",
       "      <td>To access this download, log into https://supp...</td>\n",
       "      <td>0.9359</td>\n",
       "      <td>0.000</td>\n",
       "      <td>0.898</td>\n",
       "      <td>0.102</td>\n",
       "      <td>...</td>\n",
       "      <td>2019-10-10 14:56:52.947</td>\n",
       "      <td>Thursday</td>\n",
       "      <td>10</td>\n",
       "      <td>To access this download, log into https://supp...</td>\n",
       "      <td>[To access this download, log into https://sup...</td>\n",
       "      <td>[[To, access, this, download, ,, log, into, ht...</td>\n",
       "      <td>[[To, access, this, download, ,, log, into, ht...</td>\n",
       "      <td>[[(To, TO), (access, NN), (this, DT), (downloa...</td>\n",
       "      <td>[[To, access, this, download, ,, log, into, ht...</td>\n",
       "      <td>[access, download, log, http, search, field, t...</td>\n",
       "    </tr>\n",
       "    <tr>\n",
       "      <th>63</th>\n",
       "      <td>673</td>\n",
       "      <td>Sage X3 Announcements, News, and Alerts</td>\n",
       "      <td>Sage X3 Warehousing (GEODE) v12.0.19 has been ...</td>\n",
       "      <td>2019-10-10T20:56:53.483</td>\n",
       "      <td>pnightingale</td>\n",
       "      <td>To access this download, log into https://supp...</td>\n",
       "      <td>0.9359</td>\n",
       "      <td>0.000</td>\n",
       "      <td>0.898</td>\n",
       "      <td>0.102</td>\n",
       "      <td>...</td>\n",
       "      <td>2019-10-10 20:56:53.483</td>\n",
       "      <td>Thursday</td>\n",
       "      <td>10</td>\n",
       "      <td>To access this download, log into https://supp...</td>\n",
       "      <td>[To access this download, log into https://sup...</td>\n",
       "      <td>[[To, access, this, download, ,, log, into, ht...</td>\n",
       "      <td>[[To, access, this, download, ,, log, into, ht...</td>\n",
       "      <td>[[(To, TO), (access, NN), (this, DT), (downloa...</td>\n",
       "      <td>[[To, access, this, download, ,, log, into, ht...</td>\n",
       "      <td>[access, download, log, http, search, field, t...</td>\n",
       "    </tr>\n",
       "    <tr>\n",
       "      <th>64</th>\n",
       "      <td>40</td>\n",
       "      <td>Sage X3 General Discussion</td>\n",
       "      <td>Modifying Stock Change ST2 object</td>\n",
       "      <td>2019-10-11T13:10:28.983</td>\n",
       "      <td>ChrisCC</td>\n",
       "      <td>I am trying to remove some of the columns on t...</td>\n",
       "      <td>0.5980</td>\n",
       "      <td>0.046</td>\n",
       "      <td>0.865</td>\n",
       "      <td>0.090</td>\n",
       "      <td>...</td>\n",
       "      <td>2019-10-11 13:10:28.983</td>\n",
       "      <td>Friday</td>\n",
       "      <td>11</td>\n",
       "      <td>I am trying to remove some of the columns on t...</td>\n",
       "      <td>[I am trying to remove some of the columns on ...</td>\n",
       "      <td>[[I, am, trying, to, remove, some, of, the, co...</td>\n",
       "      <td>[[I, am, trying, to, remove, some, of, the, co...</td>\n",
       "      <td>[[(I, PRP), (am, VBP), (trying, VBG), (to, TO)...</td>\n",
       "      <td>[[I, be, try, to, remove, some, of, the, colum...</td>\n",
       "      <td>[remove, column, object, stock, selection, bro...</td>\n",
       "    </tr>\n",
       "  </tbody>\n",
       "</table>\n",
       "<p>5 rows × 21 columns</p>\n",
       "</div>"
      ],
      "text/plain": [
       "    Forum ID                               Forum Name  \\\n",
       "0         40               Sage X3 General Discussion   \n",
       "31        40               Sage X3 General Discussion   \n",
       "62       673  Sage X3 Announcements, News, and Alerts   \n",
       "63       673  Sage X3 Announcements, News, and Alerts   \n",
       "64        40               Sage X3 General Discussion   \n",
       "\n",
       "                                              Subject  \\\n",
       "0                            ERP help urgently needed   \n",
       "31                  Sage V11 patch 14 - release soon?   \n",
       "62  Sage X3 12.0.19 and Patch 19 Add-ons Updates h...   \n",
       "63  Sage X3 Warehousing (GEODE) v12.0.19 has been ...   \n",
       "64                  Modifying Stock Change ST2 object   \n",
       "\n",
       "                  Post Date User DisplayName  \\\n",
       "0    2019-10-10T05:58:05.73      ChinusGomes   \n",
       "31  2019-10-10T12:44:35.957            AnikB   \n",
       "62  2019-10-10T14:56:52.947           Alecia   \n",
       "63  2019-10-10T20:56:53.483     pnightingale   \n",
       "64  2019-10-11T13:10:28.983          ChrisCC   \n",
       "\n",
       "                                       Forum_Post_Raw  compound    neg    neu  \\\n",
       "0   Company upgraded to windows 10. Used to run an...    0.0387  0.063  0.873   \n",
       "31  Hello!\\n\\nI see that Sage V11 patch 14 was com...    0.7044  0.022  0.915   \n",
       "62  To access this download, log into https://supp...    0.9359  0.000  0.898   \n",
       "63  To access this download, log into https://supp...    0.9359  0.000  0.898   \n",
       "64  I am trying to remove some of the columns on t...    0.5980  0.046  0.865   \n",
       "\n",
       "      pos  ...                PostDate   DayName DayOfMonth  \\\n",
       "0   0.064  ... 2019-10-10 05:58:05.730  Thursday         10   \n",
       "31  0.063  ... 2019-10-10 12:44:35.957  Thursday         10   \n",
       "62  0.102  ... 2019-10-10 14:56:52.947  Thursday         10   \n",
       "63  0.102  ... 2019-10-10 20:56:53.483  Thursday         10   \n",
       "64  0.090  ... 2019-10-11 13:10:28.983    Friday         11   \n",
       "\n",
       "                                            ShortText  \\\n",
       "0   Company upgraded to windows 10. Used to run an...   \n",
       "31  Hello!\\n\\nI see that Sage V11 patch 14 was com...   \n",
       "62  To access this download, log into https://supp...   \n",
       "63  To access this download, log into https://supp...   \n",
       "64  I am trying to remove some of the columns on t...   \n",
       "\n",
       "                                            sentences  \\\n",
       "0   [Company upgraded to windows 10., Used to run ...   \n",
       "31  [Hello!, I see that Sage V11 patch 14 was comp...   \n",
       "62  [To access this download, log into https://sup...   \n",
       "63  [To access this download, log into https://sup...   \n",
       "64  [I am trying to remove some of the columns on ...   \n",
       "\n",
       "                                      token_sentences  \\\n",
       "0   [[Company, upgraded, to, windows, 10, .], [Use...   \n",
       "31  [[Hello, !], [I, see, that, Sage, V11, patch, ...   \n",
       "62  [[To, access, this, download, ,, log, into, ht...   \n",
       "63  [[To, access, this, download, ,, log, into, ht...   \n",
       "64  [[I, am, trying, to, remove, some, of, the, co...   \n",
       "\n",
       "                                     tokens_sentences  \\\n",
       "0   [[Company, upgraded, to, windows, 10, .], [Use...   \n",
       "31  [[Hello, !], [I, see, that, Sage, V11, patch, ...   \n",
       "62  [[To, access, this, download, ,, log, into, ht...   \n",
       "63  [[To, access, this, download, ,, log, into, ht...   \n",
       "64  [[I, am, trying, to, remove, some, of, the, co...   \n",
       "\n",
       "                                           POS_tokens  \\\n",
       "0   [[(Company, NN), (upgraded, VBD), (to, TO), (w...   \n",
       "31  [[(Hello, NN), (!, .)], [(I, PRP), (see, VBP),...   \n",
       "62  [[(To, TO), (access, NN), (this, DT), (downloa...   \n",
       "63  [[(To, TO), (access, NN), (this, DT), (downloa...   \n",
       "64  [[(I, PRP), (am, VBP), (trying, VBG), (to, TO)...   \n",
       "\n",
       "                          tokens_sentences_lemmatized  \\\n",
       "0   [[Company, upgrade, to, windows, 10, .], [Used...   \n",
       "31  [[Hello, !], [I, see, that, Sage, V11, patch, ...   \n",
       "62  [[To, access, this, download, ,, log, into, ht...   \n",
       "63  [[To, access, this, download, ,, log, into, ht...   \n",
       "64  [[I, be, try, to, remove, some, of, the, colum...   \n",
       "\n",
       "                                               tokens  \n",
       "0   [company, upgrade, windows, used, run, erp, pr...  \n",
       "31  [patch, complete, october, least, patch, finde...  \n",
       "62  [access, download, log, http, search, field, t...  \n",
       "63  [access, download, log, http, search, field, t...  \n",
       "64  [remove, column, object, stock, selection, bro...  \n",
       "\n",
       "[5 rows x 21 columns]"
      ]
     },
     "execution_count": 257,
     "metadata": {},
     "output_type": "execute_result"
    }
   ],
   "source": [
    "dfLDA.head()"
   ]
  },
  {
   "cell_type": "code",
   "execution_count": 258,
   "metadata": {},
   "outputs": [
    {
     "name": "stdout",
     "output_type": "stream",
     "text": [
      "(1086, 21)\n",
      "1086\n"
     ]
    },
    {
     "name": "stderr",
     "output_type": "stream",
     "text": [
      "C:\\Users\\BDelamater\\Anaconda3\\lib\\site-packages\\ipykernel\\ipkernel.py:287: DeprecationWarning:\n",
      "\n",
      "`should_run_async` will not call `transform_cell` automatically in the future. Please pass the result to `transformed_cell` argument and any exception that happen during thetransform in `preprocessing_exc_tuple` in IPython 7.17 and above.\n",
      "\n"
     ]
    }
   ],
   "source": [
    "print(dfLDA.shape)\n",
    "print(len(document_topic))"
   ]
  },
  {
   "cell_type": "code",
   "execution_count": 259,
   "metadata": {},
   "outputs": [
    {
     "name": "stderr",
     "output_type": "stream",
     "text": [
      "C:\\Users\\BDelamater\\Anaconda3\\lib\\site-packages\\ipykernel\\ipkernel.py:287: DeprecationWarning:\n",
      "\n",
      "`should_run_async` will not call `transform_cell` automatically in the future. Please pass the result to `transformed_cell` argument and any exception that happen during thetransform in `preprocessing_exc_tuple` in IPython 7.17 and above.\n",
      "\n"
     ]
    }
   ],
   "source": [
    "dfBob = dfLDA.copy()"
   ]
  },
  {
   "cell_type": "code",
   "execution_count": 271,
   "metadata": {},
   "outputs": [
    {
     "name": "stderr",
     "output_type": "stream",
     "text": [
      "C:\\Users\\BDelamater\\Anaconda3\\lib\\site-packages\\ipykernel\\ipkernel.py:287: DeprecationWarning:\n",
      "\n",
      "`should_run_async` will not call `transform_cell` automatically in the future. Please pass the result to `transformed_cell` argument and any exception that happen during thetransform in `preprocessing_exc_tuple` in IPython 7.17 and above.\n",
      "\n"
     ]
    },
    {
     "data": {
      "text/html": [
       "<div>\n",
       "<style scoped>\n",
       "    .dataframe tbody tr th:only-of-type {\n",
       "        vertical-align: middle;\n",
       "    }\n",
       "\n",
       "    .dataframe tbody tr th {\n",
       "        vertical-align: top;\n",
       "    }\n",
       "\n",
       "    .dataframe thead th {\n",
       "        text-align: right;\n",
       "    }\n",
       "</style>\n",
       "<table border=\"1\" class=\"dataframe\">\n",
       "  <thead>\n",
       "    <tr style=\"text-align: right;\">\n",
       "      <th></th>\n",
       "      <th>level_0</th>\n",
       "      <th>index</th>\n",
       "      <th>Forum ID</th>\n",
       "      <th>Forum Name</th>\n",
       "      <th>Subject</th>\n",
       "      <th>Post Date</th>\n",
       "      <th>User DisplayName</th>\n",
       "      <th>Forum_Post_Raw</th>\n",
       "      <th>compound</th>\n",
       "      <th>neg</th>\n",
       "      <th>...</th>\n",
       "      <th>PostDate</th>\n",
       "      <th>DayName</th>\n",
       "      <th>DayOfMonth</th>\n",
       "      <th>ShortText</th>\n",
       "      <th>sentences</th>\n",
       "      <th>token_sentences</th>\n",
       "      <th>tokens_sentences</th>\n",
       "      <th>POS_tokens</th>\n",
       "      <th>tokens_sentences_lemmatized</th>\n",
       "      <th>tokens</th>\n",
       "    </tr>\n",
       "  </thead>\n",
       "  <tbody>\n",
       "    <tr>\n",
       "      <th>0</th>\n",
       "      <td>0</td>\n",
       "      <td>0</td>\n",
       "      <td>40</td>\n",
       "      <td>Sage X3 General Discussion</td>\n",
       "      <td>ERP help urgently needed</td>\n",
       "      <td>2019-10-10T05:58:05.73</td>\n",
       "      <td>ChinusGomes</td>\n",
       "      <td>Company upgraded to windows 10. Used to run an...</td>\n",
       "      <td>0.0387</td>\n",
       "      <td>0.063</td>\n",
       "      <td>...</td>\n",
       "      <td>2019-10-10 05:58:05.730</td>\n",
       "      <td>Thursday</td>\n",
       "      <td>10</td>\n",
       "      <td>Company upgraded to windows 10. Used to run an...</td>\n",
       "      <td>[Company upgraded to windows 10., Used to run ...</td>\n",
       "      <td>[[Company, upgraded, to, windows, 10, .], [Use...</td>\n",
       "      <td>[[Company, upgraded, to, windows, 10, .], [Use...</td>\n",
       "      <td>[[(Company, NN), (upgraded, VBD), (to, TO), (w...</td>\n",
       "      <td>[[Company, upgrade, to, windows, 10, .], [Used...</td>\n",
       "      <td>[company, upgrade, windows, used, run, erp, pr...</td>\n",
       "    </tr>\n",
       "    <tr>\n",
       "      <th>1</th>\n",
       "      <td>1</td>\n",
       "      <td>31</td>\n",
       "      <td>40</td>\n",
       "      <td>Sage X3 General Discussion</td>\n",
       "      <td>Sage V11 patch 14 - release soon?</td>\n",
       "      <td>2019-10-10T12:44:35.957</td>\n",
       "      <td>AnikB</td>\n",
       "      <td>Hello!\\n\\nI see that Sage V11 patch 14 was com...</td>\n",
       "      <td>0.7044</td>\n",
       "      <td>0.022</td>\n",
       "      <td>...</td>\n",
       "      <td>2019-10-10 12:44:35.957</td>\n",
       "      <td>Thursday</td>\n",
       "      <td>10</td>\n",
       "      <td>Hello!\\n\\nI see that Sage V11 patch 14 was com...</td>\n",
       "      <td>[Hello!, I see that Sage V11 patch 14 was comp...</td>\n",
       "      <td>[[Hello, !], [I, see, that, Sage, V11, patch, ...</td>\n",
       "      <td>[[Hello, !], [I, see, that, Sage, V11, patch, ...</td>\n",
       "      <td>[[(Hello, NN), (!, .)], [(I, PRP), (see, VBP),...</td>\n",
       "      <td>[[Hello, !], [I, see, that, Sage, V11, patch, ...</td>\n",
       "      <td>[patch, complete, october, least, patch, finde...</td>\n",
       "    </tr>\n",
       "    <tr>\n",
       "      <th>2</th>\n",
       "      <td>2</td>\n",
       "      <td>62</td>\n",
       "      <td>673</td>\n",
       "      <td>Sage X3 Announcements, News, and Alerts</td>\n",
       "      <td>Sage X3 12.0.19 and Patch 19 Add-ons Updates h...</td>\n",
       "      <td>2019-10-10T14:56:52.947</td>\n",
       "      <td>Alecia</td>\n",
       "      <td>To access this download, log into https://supp...</td>\n",
       "      <td>0.9359</td>\n",
       "      <td>0.000</td>\n",
       "      <td>...</td>\n",
       "      <td>2019-10-10 14:56:52.947</td>\n",
       "      <td>Thursday</td>\n",
       "      <td>10</td>\n",
       "      <td>To access this download, log into https://supp...</td>\n",
       "      <td>[To access this download, log into https://sup...</td>\n",
       "      <td>[[To, access, this, download, ,, log, into, ht...</td>\n",
       "      <td>[[To, access, this, download, ,, log, into, ht...</td>\n",
       "      <td>[[(To, TO), (access, NN), (this, DT), (downloa...</td>\n",
       "      <td>[[To, access, this, download, ,, log, into, ht...</td>\n",
       "      <td>[access, download, log, http, search, field, t...</td>\n",
       "    </tr>\n",
       "    <tr>\n",
       "      <th>3</th>\n",
       "      <td>3</td>\n",
       "      <td>63</td>\n",
       "      <td>673</td>\n",
       "      <td>Sage X3 Announcements, News, and Alerts</td>\n",
       "      <td>Sage X3 Warehousing (GEODE) v12.0.19 has been ...</td>\n",
       "      <td>2019-10-10T20:56:53.483</td>\n",
       "      <td>pnightingale</td>\n",
       "      <td>To access this download, log into https://supp...</td>\n",
       "      <td>0.9359</td>\n",
       "      <td>0.000</td>\n",
       "      <td>...</td>\n",
       "      <td>2019-10-10 20:56:53.483</td>\n",
       "      <td>Thursday</td>\n",
       "      <td>10</td>\n",
       "      <td>To access this download, log into https://supp...</td>\n",
       "      <td>[To access this download, log into https://sup...</td>\n",
       "      <td>[[To, access, this, download, ,, log, into, ht...</td>\n",
       "      <td>[[To, access, this, download, ,, log, into, ht...</td>\n",
       "      <td>[[(To, TO), (access, NN), (this, DT), (downloa...</td>\n",
       "      <td>[[To, access, this, download, ,, log, into, ht...</td>\n",
       "      <td>[access, download, log, http, search, field, t...</td>\n",
       "    </tr>\n",
       "    <tr>\n",
       "      <th>4</th>\n",
       "      <td>4</td>\n",
       "      <td>64</td>\n",
       "      <td>40</td>\n",
       "      <td>Sage X3 General Discussion</td>\n",
       "      <td>Modifying Stock Change ST2 object</td>\n",
       "      <td>2019-10-11T13:10:28.983</td>\n",
       "      <td>ChrisCC</td>\n",
       "      <td>I am trying to remove some of the columns on t...</td>\n",
       "      <td>0.5980</td>\n",
       "      <td>0.046</td>\n",
       "      <td>...</td>\n",
       "      <td>2019-10-11 13:10:28.983</td>\n",
       "      <td>Friday</td>\n",
       "      <td>11</td>\n",
       "      <td>I am trying to remove some of the columns on t...</td>\n",
       "      <td>[I am trying to remove some of the columns on ...</td>\n",
       "      <td>[[I, am, trying, to, remove, some, of, the, co...</td>\n",
       "      <td>[[I, am, trying, to, remove, some, of, the, co...</td>\n",
       "      <td>[[(I, PRP), (am, VBP), (trying, VBG), (to, TO)...</td>\n",
       "      <td>[[I, be, try, to, remove, some, of, the, colum...</td>\n",
       "      <td>[remove, column, object, stock, selection, bro...</td>\n",
       "    </tr>\n",
       "    <tr>\n",
       "      <th>...</th>\n",
       "      <td>...</td>\n",
       "      <td>...</td>\n",
       "      <td>...</td>\n",
       "      <td>...</td>\n",
       "      <td>...</td>\n",
       "      <td>...</td>\n",
       "      <td>...</td>\n",
       "      <td>...</td>\n",
       "      <td>...</td>\n",
       "      <td>...</td>\n",
       "      <td>...</td>\n",
       "      <td>...</td>\n",
       "      <td>...</td>\n",
       "      <td>...</td>\n",
       "      <td>...</td>\n",
       "      <td>...</td>\n",
       "      <td>...</td>\n",
       "      <td>...</td>\n",
       "      <td>...</td>\n",
       "      <td>...</td>\n",
       "      <td>...</td>\n",
       "    </tr>\n",
       "    <tr>\n",
       "      <th>1081</th>\n",
       "      <td>1081</td>\n",
       "      <td>2938</td>\n",
       "      <td>332</td>\n",
       "      <td>Sage Data &amp;amp; Analytics</td>\n",
       "      <td>dimension type setting</td>\n",
       "      <td>2020-04-29T11:08:12.53</td>\n",
       "      <td>Afrosage</td>\n",
       "      <td>\\nThe above pic is  carry forward selection ch...</td>\n",
       "      <td>0.5770</td>\n",
       "      <td>0.035</td>\n",
       "      <td>...</td>\n",
       "      <td>2020-04-29 11:08:12.530</td>\n",
       "      <td>Wednesday</td>\n",
       "      <td>29</td>\n",
       "      <td>\\nThe above pic is  carry forward selection ch...</td>\n",
       "      <td>[\\nThe above pic is  carry forward selection c...</td>\n",
       "      <td>[[The, above, pic, is, carry, forward, selecti...</td>\n",
       "      <td>[[The, above, pic, is, carry, forward, selecti...</td>\n",
       "      <td>[[(The, DT), (above, JJ), (pic, NN), (is, VBZ)...</td>\n",
       "      <td>[[The, above, pic, be, carry, forward, selecti...</td>\n",
       "      <td>[pic, carry, forward, selection, check, unchec...</td>\n",
       "    </tr>\n",
       "    <tr>\n",
       "      <th>1082</th>\n",
       "      <td>1082</td>\n",
       "      <td>2939</td>\n",
       "      <td>332</td>\n",
       "      <td>Sage Data &amp;amp; Analytics</td>\n",
       "      <td>PORDERQ - RETRCPDAT field ?</td>\n",
       "      <td>2020-04-23T11:51:48.66</td>\n",
       "      <td>Nicolasson</td>\n",
       "      <td>Hello guys, \\n\\nI hope you are well. \\n\\nI mad...</td>\n",
       "      <td>0.9136</td>\n",
       "      <td>0.000</td>\n",
       "      <td>...</td>\n",
       "      <td>2020-04-23 11:51:48.660</td>\n",
       "      <td>Thursday</td>\n",
       "      <td>23</td>\n",
       "      <td>Hello guys, \\n\\nI hope you are well. \\n\\nI mad...</td>\n",
       "      <td>[Hello guys, \\n\\nI hope you are well., I made ...</td>\n",
       "      <td>[[Hello, guys, ,, I, hope, you, are, well, .],...</td>\n",
       "      <td>[[Hello, guys, ,, I, hope, you, are, well, .],...</td>\n",
       "      <td>[[(Hello, NNP), (guys, NNS), (,, ,), (I, PRP),...</td>\n",
       "      <td>[[Hello, guy, ,, I, hope, you, be, well, .], [...</td>\n",
       "      <td>[guy, hope, well, research, surprisingly, find...</td>\n",
       "    </tr>\n",
       "    <tr>\n",
       "      <th>1083</th>\n",
       "      <td>1083</td>\n",
       "      <td>2940</td>\n",
       "      <td>332</td>\n",
       "      <td>Sage Data &amp;amp; Analytics</td>\n",
       "      <td>Supplier Invoice/Memo Import</td>\n",
       "      <td>2020-04-23T19:33:37.777</td>\n",
       "      <td>Warren Guan</td>\n",
       "      <td>It says all the lines are converted but it did...</td>\n",
       "      <td>0.4497</td>\n",
       "      <td>0.000</td>\n",
       "      <td>...</td>\n",
       "      <td>2020-04-23 19:33:37.777</td>\n",
       "      <td>Thursday</td>\n",
       "      <td>23</td>\n",
       "      <td>It says all the lines are converted but it did...</td>\n",
       "      <td>[It says all the lines are converted but it di...</td>\n",
       "      <td>[[It, says, all, the, lines, are, converted, b...</td>\n",
       "      <td>[[It, says, all, the, lines, are, converted, b...</td>\n",
       "      <td>[[(It, PRP), (says, VBZ), (all, PDT), (the, DT...</td>\n",
       "      <td>[[It, say, all, the, line, be, convert, but, i...</td>\n",
       "      <td>[line, convert, generate, dat, file, idea, ple...</td>\n",
       "    </tr>\n",
       "    <tr>\n",
       "      <th>1084</th>\n",
       "      <td>1084</td>\n",
       "      <td>2941</td>\n",
       "      <td>332</td>\n",
       "      <td>Sage Data &amp;amp; Analytics</td>\n",
       "      <td>year closing</td>\n",
       "      <td>2020-01-20T07:01:58.37</td>\n",
       "      <td>info@epochholland.nl</td>\n",
       "      <td></td>\n",
       "      <td>0.0000</td>\n",
       "      <td>0.000</td>\n",
       "      <td>...</td>\n",
       "      <td>2020-01-20 07:01:58.370</td>\n",
       "      <td>Monday</td>\n",
       "      <td>20</td>\n",
       "      <td></td>\n",
       "      <td>[]</td>\n",
       "      <td>[]</td>\n",
       "      <td>[]</td>\n",
       "      <td>[]</td>\n",
       "      <td>[]</td>\n",
       "      <td>[]</td>\n",
       "    </tr>\n",
       "    <tr>\n",
       "      <th>1085</th>\n",
       "      <td>1085</td>\n",
       "      <td>2942</td>\n",
       "      <td>332</td>\n",
       "      <td>Sage Data &amp;amp; Analytics</td>\n",
       "      <td>add CPTANALIN table to requester</td>\n",
       "      <td>2019-10-10T15:41:06.877</td>\n",
       "      <td>Christine T.</td>\n",
       "      <td>requester links aren't my strong suit- I can h...</td>\n",
       "      <td>0.7905</td>\n",
       "      <td>0.041</td>\n",
       "      <td>...</td>\n",
       "      <td>2019-10-10 15:41:06.877</td>\n",
       "      <td>Thursday</td>\n",
       "      <td>10</td>\n",
       "      <td>requester links aren't my strong suit- I can h...</td>\n",
       "      <td>[requester links aren't my strong suit- I can ...</td>\n",
       "      <td>[[requester, links, are, n't, my, strong, suit...</td>\n",
       "      <td>[[requester, links, are, n't, my, strong, suit...</td>\n",
       "      <td>[[(requester, NN), (links, NNS), (are, VBP), (...</td>\n",
       "      <td>[[requester, link, be, n't, my, strong, suit-,...</td>\n",
       "      <td>[requester, link, strong, handle, crystal, rep...</td>\n",
       "    </tr>\n",
       "  </tbody>\n",
       "</table>\n",
       "<p>1086 rows × 23 columns</p>\n",
       "</div>"
      ],
      "text/plain": [
       "      level_0  index  Forum ID                               Forum Name  \\\n",
       "0           0      0        40               Sage X3 General Discussion   \n",
       "1           1     31        40               Sage X3 General Discussion   \n",
       "2           2     62       673  Sage X3 Announcements, News, and Alerts   \n",
       "3           3     63       673  Sage X3 Announcements, News, and Alerts   \n",
       "4           4     64        40               Sage X3 General Discussion   \n",
       "...       ...    ...       ...                                      ...   \n",
       "1081     1081   2938       332                Sage Data &amp; Analytics   \n",
       "1082     1082   2939       332                Sage Data &amp; Analytics   \n",
       "1083     1083   2940       332                Sage Data &amp; Analytics   \n",
       "1084     1084   2941       332                Sage Data &amp; Analytics   \n",
       "1085     1085   2942       332                Sage Data &amp; Analytics   \n",
       "\n",
       "                                                Subject  \\\n",
       "0                              ERP help urgently needed   \n",
       "1                     Sage V11 patch 14 - release soon?   \n",
       "2     Sage X3 12.0.19 and Patch 19 Add-ons Updates h...   \n",
       "3     Sage X3 Warehousing (GEODE) v12.0.19 has been ...   \n",
       "4                     Modifying Stock Change ST2 object   \n",
       "...                                                 ...   \n",
       "1081                             dimension type setting   \n",
       "1082                        PORDERQ - RETRCPDAT field ?   \n",
       "1083                       Supplier Invoice/Memo Import   \n",
       "1084                                       year closing   \n",
       "1085                   add CPTANALIN table to requester   \n",
       "\n",
       "                    Post Date      User DisplayName  \\\n",
       "0      2019-10-10T05:58:05.73           ChinusGomes   \n",
       "1     2019-10-10T12:44:35.957                 AnikB   \n",
       "2     2019-10-10T14:56:52.947                Alecia   \n",
       "3     2019-10-10T20:56:53.483          pnightingale   \n",
       "4     2019-10-11T13:10:28.983               ChrisCC   \n",
       "...                       ...                   ...   \n",
       "1081   2020-04-29T11:08:12.53              Afrosage   \n",
       "1082   2020-04-23T11:51:48.66            Nicolasson   \n",
       "1083  2020-04-23T19:33:37.777           Warren Guan   \n",
       "1084   2020-01-20T07:01:58.37  info@epochholland.nl   \n",
       "1085  2019-10-10T15:41:06.877          Christine T.   \n",
       "\n",
       "                                         Forum_Post_Raw  compound    neg  ...  \\\n",
       "0     Company upgraded to windows 10. Used to run an...    0.0387  0.063  ...   \n",
       "1     Hello!\\n\\nI see that Sage V11 patch 14 was com...    0.7044  0.022  ...   \n",
       "2     To access this download, log into https://supp...    0.9359  0.000  ...   \n",
       "3     To access this download, log into https://supp...    0.9359  0.000  ...   \n",
       "4     I am trying to remove some of the columns on t...    0.5980  0.046  ...   \n",
       "...                                                 ...       ...    ...  ...   \n",
       "1081  \\nThe above pic is  carry forward selection ch...    0.5770  0.035  ...   \n",
       "1082  Hello guys, \\n\\nI hope you are well. \\n\\nI mad...    0.9136  0.000  ...   \n",
       "1083  It says all the lines are converted but it did...    0.4497  0.000  ...   \n",
       "1084                                                       0.0000  0.000  ...   \n",
       "1085  requester links aren't my strong suit- I can h...    0.7905  0.041  ...   \n",
       "\n",
       "                    PostDate    DayName DayOfMonth  \\\n",
       "0    2019-10-10 05:58:05.730   Thursday         10   \n",
       "1    2019-10-10 12:44:35.957   Thursday         10   \n",
       "2    2019-10-10 14:56:52.947   Thursday         10   \n",
       "3    2019-10-10 20:56:53.483   Thursday         10   \n",
       "4    2019-10-11 13:10:28.983     Friday         11   \n",
       "...                      ...        ...        ...   \n",
       "1081 2020-04-29 11:08:12.530  Wednesday         29   \n",
       "1082 2020-04-23 11:51:48.660   Thursday         23   \n",
       "1083 2020-04-23 19:33:37.777   Thursday         23   \n",
       "1084 2020-01-20 07:01:58.370     Monday         20   \n",
       "1085 2019-10-10 15:41:06.877   Thursday         10   \n",
       "\n",
       "                                              ShortText  \\\n",
       "0     Company upgraded to windows 10. Used to run an...   \n",
       "1     Hello!\\n\\nI see that Sage V11 patch 14 was com...   \n",
       "2     To access this download, log into https://supp...   \n",
       "3     To access this download, log into https://supp...   \n",
       "4     I am trying to remove some of the columns on t...   \n",
       "...                                                 ...   \n",
       "1081  \\nThe above pic is  carry forward selection ch...   \n",
       "1082  Hello guys, \\n\\nI hope you are well. \\n\\nI mad...   \n",
       "1083  It says all the lines are converted but it did...   \n",
       "1084                                                      \n",
       "1085  requester links aren't my strong suit- I can h...   \n",
       "\n",
       "                                              sentences  \\\n",
       "0     [Company upgraded to windows 10., Used to run ...   \n",
       "1     [Hello!, I see that Sage V11 patch 14 was comp...   \n",
       "2     [To access this download, log into https://sup...   \n",
       "3     [To access this download, log into https://sup...   \n",
       "4     [I am trying to remove some of the columns on ...   \n",
       "...                                                 ...   \n",
       "1081  [\\nThe above pic is  carry forward selection c...   \n",
       "1082  [Hello guys, \\n\\nI hope you are well., I made ...   \n",
       "1083  [It says all the lines are converted but it di...   \n",
       "1084                                                 []   \n",
       "1085  [requester links aren't my strong suit- I can ...   \n",
       "\n",
       "                                        token_sentences  \\\n",
       "0     [[Company, upgraded, to, windows, 10, .], [Use...   \n",
       "1     [[Hello, !], [I, see, that, Sage, V11, patch, ...   \n",
       "2     [[To, access, this, download, ,, log, into, ht...   \n",
       "3     [[To, access, this, download, ,, log, into, ht...   \n",
       "4     [[I, am, trying, to, remove, some, of, the, co...   \n",
       "...                                                 ...   \n",
       "1081  [[The, above, pic, is, carry, forward, selecti...   \n",
       "1082  [[Hello, guys, ,, I, hope, you, are, well, .],...   \n",
       "1083  [[It, says, all, the, lines, are, converted, b...   \n",
       "1084                                                 []   \n",
       "1085  [[requester, links, are, n't, my, strong, suit...   \n",
       "\n",
       "                                       tokens_sentences  \\\n",
       "0     [[Company, upgraded, to, windows, 10, .], [Use...   \n",
       "1     [[Hello, !], [I, see, that, Sage, V11, patch, ...   \n",
       "2     [[To, access, this, download, ,, log, into, ht...   \n",
       "3     [[To, access, this, download, ,, log, into, ht...   \n",
       "4     [[I, am, trying, to, remove, some, of, the, co...   \n",
       "...                                                 ...   \n",
       "1081  [[The, above, pic, is, carry, forward, selecti...   \n",
       "1082  [[Hello, guys, ,, I, hope, you, are, well, .],...   \n",
       "1083  [[It, says, all, the, lines, are, converted, b...   \n",
       "1084                                                 []   \n",
       "1085  [[requester, links, are, n't, my, strong, suit...   \n",
       "\n",
       "                                             POS_tokens  \\\n",
       "0     [[(Company, NN), (upgraded, VBD), (to, TO), (w...   \n",
       "1     [[(Hello, NN), (!, .)], [(I, PRP), (see, VBP),...   \n",
       "2     [[(To, TO), (access, NN), (this, DT), (downloa...   \n",
       "3     [[(To, TO), (access, NN), (this, DT), (downloa...   \n",
       "4     [[(I, PRP), (am, VBP), (trying, VBG), (to, TO)...   \n",
       "...                                                 ...   \n",
       "1081  [[(The, DT), (above, JJ), (pic, NN), (is, VBZ)...   \n",
       "1082  [[(Hello, NNP), (guys, NNS), (,, ,), (I, PRP),...   \n",
       "1083  [[(It, PRP), (says, VBZ), (all, PDT), (the, DT...   \n",
       "1084                                                 []   \n",
       "1085  [[(requester, NN), (links, NNS), (are, VBP), (...   \n",
       "\n",
       "                            tokens_sentences_lemmatized  \\\n",
       "0     [[Company, upgrade, to, windows, 10, .], [Used...   \n",
       "1     [[Hello, !], [I, see, that, Sage, V11, patch, ...   \n",
       "2     [[To, access, this, download, ,, log, into, ht...   \n",
       "3     [[To, access, this, download, ,, log, into, ht...   \n",
       "4     [[I, be, try, to, remove, some, of, the, colum...   \n",
       "...                                                 ...   \n",
       "1081  [[The, above, pic, be, carry, forward, selecti...   \n",
       "1082  [[Hello, guy, ,, I, hope, you, be, well, .], [...   \n",
       "1083  [[It, say, all, the, line, be, convert, but, i...   \n",
       "1084                                                 []   \n",
       "1085  [[requester, link, be, n't, my, strong, suit-,...   \n",
       "\n",
       "                                                 tokens  \n",
       "0     [company, upgrade, windows, used, run, erp, pr...  \n",
       "1     [patch, complete, october, least, patch, finde...  \n",
       "2     [access, download, log, http, search, field, t...  \n",
       "3     [access, download, log, http, search, field, t...  \n",
       "4     [remove, column, object, stock, selection, bro...  \n",
       "...                                                 ...  \n",
       "1081  [pic, carry, forward, selection, check, unchec...  \n",
       "1082  [guy, hope, well, research, surprisingly, find...  \n",
       "1083  [line, convert, generate, dat, file, idea, ple...  \n",
       "1084                                                 []  \n",
       "1085  [requester, link, strong, handle, crystal, rep...  \n",
       "\n",
       "[1086 rows x 23 columns]"
      ]
     },
     "execution_count": 271,
     "metadata": {},
     "output_type": "execute_result"
    }
   ],
   "source": [
    "dfBob = dfBob.reset_index()\n",
    "dfBob"
   ]
  },
  {
   "cell_type": "code",
   "execution_count": 272,
   "metadata": {},
   "outputs": [
    {
     "name": "stderr",
     "output_type": "stream",
     "text": [
      "C:\\Users\\BDelamater\\Anaconda3\\lib\\site-packages\\ipykernel\\ipkernel.py:287: DeprecationWarning:\n",
      "\n",
      "`should_run_async` will not call `transform_cell` automatically in the future. Please pass the result to `transformed_cell` argument and any exception that happen during thetransform in `preprocessing_exc_tuple` in IPython 7.17 and above.\n",
      "\n"
     ]
    },
    {
     "data": {
      "text/html": [
       "<div>\n",
       "<style scoped>\n",
       "    .dataframe tbody tr th:only-of-type {\n",
       "        vertical-align: middle;\n",
       "    }\n",
       "\n",
       "    .dataframe tbody tr th {\n",
       "        vertical-align: top;\n",
       "    }\n",
       "\n",
       "    .dataframe thead th {\n",
       "        text-align: right;\n",
       "    }\n",
       "</style>\n",
       "<table border=\"1\" class=\"dataframe\">\n",
       "  <thead>\n",
       "    <tr style=\"text-align: right;\">\n",
       "      <th></th>\n",
       "      <th>0</th>\n",
       "      <th>1</th>\n",
       "      <th>2</th>\n",
       "    </tr>\n",
       "  </thead>\n",
       "  <tbody>\n",
       "    <tr>\n",
       "      <th>0</th>\n",
       "      <td>0.000000</td>\n",
       "      <td>0.999445</td>\n",
       "      <td>0.000000</td>\n",
       "    </tr>\n",
       "    <tr>\n",
       "      <th>1</th>\n",
       "      <td>0.000000</td>\n",
       "      <td>0.796473</td>\n",
       "      <td>0.203224</td>\n",
       "    </tr>\n",
       "    <tr>\n",
       "      <th>2</th>\n",
       "      <td>0.998949</td>\n",
       "      <td>0.000000</td>\n",
       "      <td>0.000000</td>\n",
       "    </tr>\n",
       "    <tr>\n",
       "      <th>3</th>\n",
       "      <td>0.998949</td>\n",
       "      <td>0.000000</td>\n",
       "      <td>0.000000</td>\n",
       "    </tr>\n",
       "    <tr>\n",
       "      <th>4</th>\n",
       "      <td>0.000000</td>\n",
       "      <td>0.150335</td>\n",
       "      <td>0.849211</td>\n",
       "    </tr>\n",
       "    <tr>\n",
       "      <th>...</th>\n",
       "      <td>...</td>\n",
       "      <td>...</td>\n",
       "      <td>...</td>\n",
       "    </tr>\n",
       "    <tr>\n",
       "      <th>1081</th>\n",
       "      <td>0.000000</td>\n",
       "      <td>0.000000</td>\n",
       "      <td>0.999131</td>\n",
       "    </tr>\n",
       "    <tr>\n",
       "      <th>1082</th>\n",
       "      <td>0.998186</td>\n",
       "      <td>0.000000</td>\n",
       "      <td>0.000000</td>\n",
       "    </tr>\n",
       "    <tr>\n",
       "      <th>1083</th>\n",
       "      <td>0.996023</td>\n",
       "      <td>0.000000</td>\n",
       "      <td>0.000000</td>\n",
       "    </tr>\n",
       "    <tr>\n",
       "      <th>1084</th>\n",
       "      <td>0.333333</td>\n",
       "      <td>0.333333</td>\n",
       "      <td>0.333333</td>\n",
       "    </tr>\n",
       "    <tr>\n",
       "      <th>1085</th>\n",
       "      <td>0.358191</td>\n",
       "      <td>0.000000</td>\n",
       "      <td>0.640902</td>\n",
       "    </tr>\n",
       "  </tbody>\n",
       "</table>\n",
       "<p>1086 rows × 3 columns</p>\n",
       "</div>"
      ],
      "text/plain": [
       "             0         1         2\n",
       "0     0.000000  0.999445  0.000000\n",
       "1     0.000000  0.796473  0.203224\n",
       "2     0.998949  0.000000  0.000000\n",
       "3     0.998949  0.000000  0.000000\n",
       "4     0.000000  0.150335  0.849211\n",
       "...        ...       ...       ...\n",
       "1081  0.000000  0.000000  0.999131\n",
       "1082  0.998186  0.000000  0.000000\n",
       "1083  0.996023  0.000000  0.000000\n",
       "1084  0.333333  0.333333  0.333333\n",
       "1085  0.358191  0.000000  0.640902\n",
       "\n",
       "[1086 rows x 3 columns]"
      ]
     },
     "execution_count": 272,
     "metadata": {},
     "output_type": "execute_result"
    }
   ],
   "source": [
    "document_topic"
   ]
  },
  {
   "cell_type": "code",
   "execution_count": 353,
   "metadata": {},
   "outputs": [
    {
     "name": "stdout",
     "output_type": "stream",
     "text": [
      "(1086, 23)\n"
     ]
    }
   ],
   "source": [
    "dfLDA = dfBob.copy()\n",
    "print(dfLDA.shape)"
   ]
  },
  {
   "cell_type": "code",
   "execution_count": 357,
   "metadata": {},
   "outputs": [
    {
     "name": "stdout",
     "output_type": "stream",
     "text": [
      "[1, 0, 2]\n",
      "[1, 2, 0]\n",
      "[0, 1, 2]\n",
      "[0, 1, 2]\n",
      "[2, 1, 0]\n",
      "[0, 1, 2]\n",
      "[0, 1, 2]\n",
      "[0, 2, 1]\n",
      "[2, 0, 1]\n",
      "[2, 0, 1]\n",
      "[0, 1, 2]\n",
      "[1, 0, 2]\n",
      "[0, 2, 1]\n",
      "[2, 1, 0]\n",
      "[0, 1, 2]\n",
      "[0, 1, 2]\n",
      "[1, 0, 2]\n",
      "[0, 1, 2]\n",
      "[2, 0, 1]\n",
      "[1, 0, 2]\n",
      "[2, 0, 1]\n",
      "[1, 0, 2]\n",
      "[0, 1, 2]\n",
      "[2, 0, 1]\n",
      "[0, 1, 2]\n",
      "[0, 2, 1]\n",
      "[0, 1, 2]\n",
      "[2, 0, 1]\n",
      "[0, 1, 2]\n",
      "[1, 0, 2]\n",
      "[0, 1, 2]\n",
      "[1, 0, 2]\n",
      "[1, 0, 2]\n",
      "[2, 1, 0]\n",
      "[1, 0, 2]\n",
      "[0, 1, 2]\n",
      "[1, 0, 2]\n",
      "[1, 0, 2]\n",
      "[2, 1, 0]\n",
      "[1, 0, 2]\n",
      "[2, 0, 1]\n",
      "[0, 2, 1]\n",
      "[1, 0, 2]\n",
      "[1, 0, 2]\n",
      "[0, 1, 2]\n",
      "[1, 0, 2]\n",
      "[2, 0, 1]\n",
      "[0, 1, 2]\n",
      "[0, 1, 2]\n",
      "[0, 1, 2]\n",
      "[2, 0, 1]\n",
      "[0, 1, 2]\n",
      "[2, 0, 1]\n",
      "[0, 1, 2]\n",
      "[1, 0, 2]\n",
      "[1, 0, 2]\n",
      "[0, 1, 2]\n",
      "[2, 0, 1]\n",
      "[1, 0, 2]\n",
      "[1, 0, 2]\n",
      "[2, 0, 1]\n",
      "[2, 0, 1]\n",
      "[1, 0, 2]\n",
      "[0, 1, 2]\n",
      "[0, 1, 2]\n",
      "[0, 1, 2]\n",
      "[0, 1, 2]\n",
      "[0, 1, 2]\n",
      "[1, 0, 2]\n",
      "[0, 1, 2]\n",
      "[0, 1, 2]\n",
      "[0, 1, 2]\n",
      "[2, 0, 1]\n",
      "[1, 0, 2]\n",
      "[2, 1, 0]\n",
      "[1, 0, 2]\n",
      "[1, 0, 2]\n",
      "[1, 0, 2]\n",
      "[0, 1, 2]\n",
      "[1, 0, 2]\n",
      "[1, 0, 2]\n",
      "[2, 0, 1]\n",
      "[1, 0, 2]\n",
      "[2, 0, 1]\n",
      "[2, 0, 1]\n",
      "[2, 0, 1]\n",
      "[1, 0, 2]\n",
      "[1, 0, 2]\n",
      "[0, 1, 2]\n",
      "[2, 0, 1]\n",
      "[2, 0, 1]\n",
      "[1, 0, 2]\n",
      "[2, 0, 1]\n",
      "[2, 0, 1]\n",
      "[2, 0, 1]\n",
      "[1, 2, 0]\n",
      "[1, 0, 2]\n",
      "[0, 1, 2]\n",
      "[1, 0, 2]\n",
      "[2, 1, 0]\n",
      "[0, 1, 2]\n",
      "[1, 0, 2]\n",
      "[1, 0, 2]\n",
      "[2, 0, 1]\n",
      "[1, 2, 0]\n",
      "[1, 2, 0]\n",
      "[0, 1, 2]\n",
      "[0, 1, 2]\n",
      "[2, 0, 1]\n",
      "[1, 0, 2]\n",
      "[2, 0, 1]\n",
      "[1, 0, 2]\n",
      "[1, 0, 2]\n",
      "[1, 2, 0]\n",
      "[2, 1, 0]\n",
      "[0, 1, 2]\n",
      "[2, 1, 0]\n",
      "[2, 0, 1]\n",
      "[0, 1, 2]\n",
      "[2, 0, 1]\n",
      "[0, 2, 1]\n",
      "[1, 0, 2]\n",
      "[1, 0, 2]\n",
      "[2, 1, 0]\n",
      "[1, 0, 2]\n",
      "[1, 2, 0]\n",
      "[1, 2, 0]\n",
      "[0, 1, 2]\n",
      "[1, 0, 2]\n",
      "[0, 2, 1]\n",
      "[0, 1, 2]\n",
      "[1, 0, 2]\n",
      "[0, 2, 1]\n",
      "[1, 2, 0]\n",
      "[0, 1, 2]\n",
      "[0, 1, 2]\n",
      "[1, 0, 2]\n",
      "[1, 0, 2]\n",
      "[1, 0, 2]\n",
      "[2, 0, 1]\n",
      "[2, 0, 1]\n",
      "[2, 0, 1]\n",
      "[2, 1, 0]\n",
      "[0, 1, 2]\n",
      "[1, 0, 2]\n",
      "[0, 2, 1]\n",
      "[2, 0, 1]\n",
      "[2, 0, 1]\n",
      "[0, 1, 2]\n",
      "[2, 0, 1]\n",
      "[2, 0, 1]\n",
      "[1, 2, 0]\n",
      "[0, 1, 2]\n",
      "[2, 0, 1]\n",
      "[2, 1, 0]\n",
      "[2, 0, 1]\n",
      "[2, 0, 1]\n",
      "[2, 0, 1]\n",
      "[2, 1, 0]\n",
      "[1, 0, 2]\n",
      "[0, 1, 2]\n",
      "[1, 2, 0]\n",
      "[2, 0, 1]\n",
      "[1, 0, 2]\n",
      "[2, 0, 1]\n",
      "[0, 1, 2]\n",
      "[0, 1, 2]\n",
      "[0, 1, 2]\n",
      "[2, 0, 1]\n",
      "[2, 0, 1]\n",
      "[1, 0, 2]\n",
      "[0, 1, 2]\n",
      "[0, 1, 2]\n",
      "[0, 1, 2]\n",
      "[1, 0, 2]\n",
      "[2, 0, 1]\n",
      "[1, 2, 0]\n",
      "[2, 0, 1]\n",
      "[2, 0, 1]\n",
      "[1, 0, 2]\n",
      "[2, 0, 1]\n",
      "[1, 0, 2]\n",
      "[0, 1, 2]\n",
      "[1, 0, 2]\n",
      "[1, 0, 2]\n",
      "[1, 0, 2]\n",
      "[2, 0, 1]\n",
      "[1, 0, 2]\n",
      "[2, 0, 1]\n",
      "[0, 1, 2]\n",
      "[1, 2, 0]\n",
      "[2, 0, 1]\n",
      "[2, 0, 1]\n",
      "[0, 1, 2]\n",
      "[2, 0, 1]\n",
      "[2, 0, 1]\n",
      "[2, 0, 1]\n",
      "[1, 0, 2]\n",
      "[2, 0, 1]\n",
      "[1, 0, 2]\n",
      "[2, 0, 1]\n",
      "[0, 1, 2]\n",
      "[0, 1, 2]\n",
      "[2, 0, 1]\n",
      "[1, 0, 2]\n",
      "[1, 0, 2]\n",
      "[0, 1, 2]\n",
      "[0, 2, 1]\n",
      "[2, 1, 0]\n",
      "[0, 1, 2]\n",
      "[1, 0, 2]\n",
      "[2, 0, 1]\n",
      "[0, 1, 2]\n",
      "[2, 0, 1]\n",
      "[2, 0, 1]\n",
      "[0, 1, 2]\n",
      "[2, 0, 1]\n",
      "[2, 1, 0]\n",
      "[1, 0, 2]\n",
      "[2, 0, 1]\n",
      "[0, 1, 2]\n",
      "[2, 0, 1]\n",
      "[1, 0, 2]\n",
      "[0, 1, 2]\n",
      "[1, 0, 2]\n",
      "[1, 0, 2]\n",
      "[1, 0, 2]\n",
      "[2, 0, 1]\n",
      "[2, 0, 1]\n",
      "[1, 0, 2]\n",
      "[1, 0, 2]\n",
      "[1, 0, 2]\n",
      "[2, 0, 1]\n",
      "[2, 0, 1]\n",
      "[0, 1, 2]\n",
      "[0, 1, 2]\n",
      "[2, 0, 1]\n",
      "[0, 1, 2]\n",
      "[2, 0, 1]\n",
      "[0, 2, 1]\n",
      "[2, 0, 1]\n",
      "[1, 0, 2]\n",
      "[2, 1, 0]\n",
      "[0, 1, 2]\n",
      "[1, 0, 2]\n",
      "[0, 1, 2]\n",
      "[0, 1, 2]\n",
      "[1, 0, 2]\n",
      "[2, 0, 1]\n",
      "[2, 0, 1]\n",
      "[2, 0, 1]\n",
      "[2, 0, 1]\n",
      "[1, 2, 0]\n",
      "[0, 1, 2]\n",
      "[0, 1, 2]\n",
      "[2, 0, 1]\n",
      "[2, 0, 1]\n",
      "[0, 1, 2]\n",
      "[0, 1, 2]\n",
      "[0, 1, 2]\n",
      "[1, 2, 0]\n",
      "[1, 0, 2]\n",
      "[1, 2, 0]\n",
      "[2, 0, 1]\n",
      "[0, 2, 1]\n",
      "[0, 1, 2]\n",
      "[1, 2, 0]\n",
      "[1, 0, 2]\n",
      "[1, 0, 2]\n",
      "[2, 0, 1]\n",
      "[2, 0, 1]\n",
      "[0, 1, 2]\n",
      "[0, 1, 2]\n",
      "[0, 1, 2]\n",
      "[1, 0, 2]\n",
      "[1, 2, 0]\n",
      "[2, 0, 1]\n",
      "[2, 0, 1]\n",
      "[1, 0, 2]\n",
      "[2, 0, 1]\n",
      "[0, 1, 2]\n",
      "[1, 2, 0]\n",
      "[0, 1, 2]\n",
      "[2, 0, 1]\n",
      "[1, 2, 0]\n",
      "[1, 0, 2]\n",
      "[1, 0, 2]\n",
      "[0, 1, 2]\n",
      "[0, 1, 2]\n",
      "[1, 0, 2]\n",
      "[1, 0, 2]\n",
      "[2, 0, 1]\n",
      "[0, 1, 2]\n",
      "[0, 1, 2]\n",
      "[0, 1, 2]\n",
      "[0, 1, 2]\n",
      "[1, 0, 2]\n",
      "[2, 0, 1]\n",
      "[2, 1, 0]\n",
      "[2, 1, 0]\n",
      "[1, 0, 2]\n",
      "[2, 1, 0]\n",
      "[2, 0, 1]\n",
      "[2, 0, 1]\n",
      "[2, 1, 0]\n",
      "[0, 1, 2]\n",
      "[1, 0, 2]\n",
      "[0, 1, 2]\n",
      "[2, 1, 0]\n",
      "[1, 0, 2]\n",
      "[1, 0, 2]\n",
      "[1, 0, 2]\n",
      "[0, 1, 2]\n",
      "[0, 1, 2]\n",
      "[1, 0, 2]\n",
      "[2, 0, 1]\n",
      "[2, 0, 1]\n",
      "[0, 1, 2]\n",
      "[2, 0, 1]\n",
      "[2, 0, 1]\n",
      "[0, 2, 1]\n",
      "[1, 0, 2]\n",
      "[2, 0, 1]\n",
      "[0, 1, 2]\n",
      "[0, 1, 2]\n",
      "[2, 0, 1]\n",
      "[1, 0, 2]\n",
      "[2, 0, 1]\n",
      "[0, 1, 2]\n",
      "[1, 0, 2]\n",
      "[2, 1, 0]\n",
      "[0, 1, 2]\n",
      "[0, 1, 2]\n",
      "[0, 1, 2]\n",
      "[1, 0, 2]\n",
      "[1, 0, 2]\n",
      "[1, 0, 2]\n",
      "[0, 1, 2]\n",
      "[1, 0, 2]\n",
      "[2, 0, 1]\n",
      "[0, 1, 2]\n",
      "[2, 0, 1]\n",
      "[0, 1, 2]\n",
      "[1, 0, 2]\n",
      "[0, 1, 2]\n",
      "[2, 0, 1]\n",
      "[0, 1, 2]\n",
      "[2, 0, 1]\n",
      "[0, 1, 2]\n",
      "[1, 0, 2]\n",
      "[1, 0, 2]\n",
      "[2, 0, 1]\n",
      "[1, 0, 2]\n",
      "[1, 0, 2]\n",
      "[2, 0, 1]\n",
      "[1, 0, 2]\n",
      "[2, 0, 1]\n",
      "[1, 2, 0]\n",
      "[2, 0, 1]\n",
      "[0, 1, 2]\n",
      "[0, 1, 2]\n",
      "[0, 1, 2]\n",
      "[1, 0, 2]\n",
      "[1, 0, 2]\n",
      "[2, 0, 1]\n",
      "[0, 1, 2]\n",
      "[2, 0, 1]\n",
      "[2, 0, 1]\n",
      "[1, 0, 2]\n",
      "[1, 0, 2]\n",
      "[2, 0, 1]\n",
      "[0, 1, 2]\n",
      "[2, 0, 1]\n",
      "[2, 0, 1]\n",
      "[0, 1, 2]\n",
      "[2, 0, 1]\n",
      "[2, 0, 1]\n",
      "[2, 0, 1]\n",
      "[2, 1, 0]\n",
      "[1, 0, 2]\n",
      "[2, 0, 1]\n",
      "[2, 0, 1]\n",
      "[1, 0, 2]\n",
      "[1, 0, 2]\n",
      "[1, 2, 0]\n",
      "[1, 0, 2]\n",
      "[2, 0, 1]\n",
      "[0, 1, 2]\n",
      "[0, 1, 2]\n",
      "[1, 0, 2]\n",
      "[1, 0, 2]\n",
      "[1, 0, 2]\n",
      "[1, 0, 2]\n",
      "[2, 0, 1]\n",
      "[1, 0, 2]\n",
      "[2, 0, 1]\n",
      "[0, 1, 2]\n",
      "[2, 0, 1]\n",
      "[0, 1, 2]\n",
      "[1, 0, 2]\n",
      "[0, 2, 1]\n",
      "[1, 0, 2]\n",
      "[2, 0, 1]\n",
      "[2, 0, 1]\n",
      "[1, 0, 2]\n",
      "[1, 0, 2]\n",
      "[1, 0, 2]\n",
      "[1, 0, 2]\n",
      "[1, 0, 2]\n",
      "[2, 0, 1]\n",
      "[1, 0, 2]\n",
      "[2, 0, 1]\n",
      "[0, 1, 2]\n",
      "[2, 0, 1]\n",
      "[2, 0, 1]\n",
      "[0, 1, 2]\n",
      "[0, 1, 2]\n",
      "[1, 0, 2]\n",
      "[1, 0, 2]\n",
      "[0, 1, 2]\n",
      "[0, 2, 1]\n",
      "[1, 2, 0]\n",
      "[1, 0, 2]\n",
      "[2, 0, 1]\n",
      "[0, 1, 2]\n",
      "[2, 0, 1]\n",
      "[2, 0, 1]\n",
      "[1, 0, 2]\n",
      "[1, 0, 2]\n",
      "[0, 1, 2]\n",
      "[2, 0, 1]\n",
      "[2, 0, 1]\n",
      "[1, 0, 2]\n",
      "[2, 0, 1]\n",
      "[2, 0, 1]\n",
      "[2, 0, 1]\n",
      "[1, 0, 2]\n",
      "[2, 1, 0]\n",
      "[1, 0, 2]\n",
      "[1, 0, 2]\n",
      "[0, 1, 2]\n",
      "[0, 1, 2]\n",
      "[2, 0, 1]\n",
      "[2, 0, 1]\n",
      "[2, 0, 1]\n",
      "[1, 0, 2]\n",
      "[0, 1, 2]\n",
      "[2, 0, 1]\n",
      "[0, 1, 2]\n",
      "[0, 1, 2]\n",
      "[0, 2, 1]\n",
      "[1, 0, 2]\n",
      "[0, 1, 2]\n",
      "[0, 1, 2]\n",
      "[2, 0, 1]\n",
      "[1, 0, 2]\n",
      "[1, 0, 2]\n",
      "[0, 1, 2]\n",
      "[2, 0, 1]\n",
      "[0, 1, 2]\n",
      "[2, 0, 1]\n",
      "[1, 0, 2]\n",
      "[0, 1, 2]\n",
      "[0, 1, 2]\n",
      "[2, 0, 1]\n",
      "[2, 0, 1]\n",
      "[2, 1, 0]\n",
      "[2, 0, 1]\n",
      "[1, 0, 2]\n",
      "[2, 0, 1]\n",
      "[2, 0, 1]\n",
      "[1, 0, 2]\n",
      "[0, 1, 2]\n",
      "[2, 0, 1]\n",
      "[1, 0, 2]\n",
      "[2, 1, 0]\n",
      "[0, 1, 2]\n",
      "[0, 1, 2]\n",
      "[0, 2, 1]\n",
      "[0, 1, 2]\n",
      "[2, 0, 1]\n",
      "[1, 0, 2]\n",
      "[2, 0, 1]\n",
      "[1, 0, 2]\n",
      "[0, 2, 1]\n",
      "[2, 0, 1]\n",
      "[2, 0, 1]\n",
      "[2, 0, 1]\n",
      "[2, 0, 1]\n",
      "[2, 0, 1]\n",
      "[1, 0, 2]\n",
      "[0, 1, 2]\n",
      "[1, 0, 2]\n",
      "[0, 1, 2]\n",
      "[2, 0, 1]\n",
      "[2, 0, 1]\n",
      "[2, 1, 0]\n",
      "[2, 0, 1]\n",
      "[0, 1, 2]\n",
      "[0, 1, 2]\n",
      "[1, 0, 2]\n",
      "[2, 1, 0]\n",
      "[2, 0, 1]\n",
      "[2, 1, 0]\n",
      "[2, 0, 1]\n",
      "[2, 1, 0]\n",
      "[1, 0, 2]\n",
      "[2, 0, 1]\n",
      "[2, 0, 1]\n",
      "[0, 1, 2]\n",
      "[0, 1, 2]\n",
      "[2, 0, 1]\n",
      "[1, 0, 2]\n",
      "[0, 1, 2]\n",
      "[2, 0, 1]\n",
      "[2, 1, 0]\n",
      "[2, 1, 0]\n",
      "[1, 0, 2]\n",
      "[0, 1, 2]\n",
      "[2, 0, 1]\n",
      "[0, 1, 2]\n",
      "[1, 0, 2]\n",
      "[0, 1, 2]\n",
      "[1, 0, 2]\n",
      "[0, 1, 2]\n",
      "[1, 0, 2]\n",
      "[1, 0, 2]\n",
      "[0, 1, 2]\n",
      "[2, 0, 1]\n",
      "[2, 0, 1]\n",
      "[1, 0, 2]\n",
      "[0, 1, 2]\n",
      "[2, 0, 1]\n",
      "[2, 1, 0]\n",
      "[2, 0, 1]\n",
      "[2, 0, 1]\n",
      "[2, 0, 1]\n",
      "[0, 1, 2]\n",
      "[0, 1, 2]\n",
      "[2, 0, 1]\n",
      "[2, 0, 1]\n",
      "[2, 0, 1]\n",
      "[0, 1, 2]\n",
      "[1, 0, 2]\n",
      "[1, 0, 2]\n",
      "[0, 1, 2]\n",
      "[2, 1, 0]\n",
      "[2, 0, 1]\n",
      "[1, 0, 2]\n",
      "[0, 1, 2]\n",
      "[0, 1, 2]\n",
      "[2, 0, 1]\n",
      "[2, 0, 1]\n",
      "[1, 0, 2]\n",
      "[0, 1, 2]\n",
      "[1, 2, 0]\n",
      "[0, 1, 2]\n",
      "[0, 1, 2]\n",
      "[1, 0, 2]\n",
      "[2, 0, 1]\n",
      "[2, 0, 1]\n",
      "[2, 1, 0]\n",
      "[2, 0, 1]\n",
      "[1, 0, 2]\n",
      "[1, 0, 2]\n",
      "[2, 1, 0]\n",
      "[0, 1, 2]\n",
      "[2, 0, 1]\n",
      "[1, 2, 0]\n",
      "[2, 0, 1]\n",
      "[2, 1, 0]\n",
      "[2, 0, 1]\n",
      "[2, 0, 1]\n",
      "[1, 0, 2]\n",
      "[2, 0, 1]\n",
      "[2, 0, 1]\n",
      "[0, 1, 2]\n",
      "[2, 0, 1]\n",
      "[0, 1, 2]\n",
      "[2, 0, 1]\n",
      "[2, 0, 1]\n",
      "[0, 1, 2]\n",
      "[2, 1, 0]\n",
      "[0, 1, 2]\n",
      "[0, 1, 2]\n",
      "[0, 1, 2]\n",
      "[1, 0, 2]\n",
      "[1, 0, 2]\n",
      "[1, 0, 2]\n",
      "[1, 0, 2]\n",
      "[0, 1, 2]\n",
      "[2, 0, 1]\n",
      "[1, 0, 2]\n",
      "[1, 0, 2]\n",
      "[1, 2, 0]\n",
      "[1, 0, 2]\n",
      "[1, 0, 2]\n",
      "[1, 0, 2]\n",
      "[2, 0, 1]\n",
      "[2, 0, 1]\n",
      "[0, 1, 2]\n",
      "[2, 0, 1]\n",
      "[1, 0, 2]\n",
      "[1, 2, 0]\n",
      "[1, 0, 2]\n",
      "[2, 0, 1]\n",
      "[2, 0, 1]\n",
      "[1, 0, 2]\n",
      "[0, 1, 2]\n",
      "[2, 0, 1]\n",
      "[2, 0, 1]\n",
      "[1, 0, 2]\n",
      "[0, 2, 1]\n",
      "[1, 0, 2]\n",
      "[2, 0, 1]\n",
      "[0, 1, 2]\n",
      "[0, 1, 2]\n",
      "[1, 0, 2]\n",
      "[1, 0, 2]\n",
      "[0, 1, 2]\n",
      "[0, 1, 2]\n",
      "[2, 0, 1]\n",
      "[1, 0, 2]\n",
      "[2, 0, 1]\n",
      "[2, 0, 1]\n",
      "[2, 0, 1]\n",
      "[2, 0, 1]\n",
      "[1, 0, 2]\n",
      "[2, 1, 0]\n",
      "[1, 0, 2]\n",
      "[0, 1, 2]\n",
      "[2, 0, 1]\n",
      "[1, 0, 2]\n",
      "[2, 0, 1]\n",
      "[2, 0, 1]\n",
      "[1, 0, 2]\n",
      "[1, 0, 2]\n",
      "[1, 0, 2]\n",
      "[2, 0, 1]\n",
      "[1, 0, 2]\n",
      "[2, 0, 1]\n",
      "[2, 0, 1]\n",
      "[1, 0, 2]\n",
      "[1, 0, 2]\n",
      "[2, 1, 0]\n",
      "[1, 0, 2]\n",
      "[1, 2, 0]\n",
      "[1, 2, 0]\n",
      "[0, 1, 2]\n",
      "[2, 0, 1]\n",
      "[2, 0, 1]\n",
      "[0, 1, 2]\n",
      "[2, 0, 1]\n",
      "[0, 1, 2]\n",
      "[2, 0, 1]\n",
      "[1, 0, 2]\n",
      "[0, 1, 2]\n",
      "[2, 0, 1]\n",
      "[1, 0, 2]\n",
      "[1, 0, 2]\n",
      "[1, 0, 2]\n",
      "[0, 1, 2]\n",
      "[1, 0, 2]\n",
      "[0, 1, 2]\n",
      "[2, 0, 1]\n",
      "[2, 0, 1]\n",
      "[1, 0, 2]\n",
      "[2, 0, 1]\n",
      "[2, 0, 1]\n",
      "[2, 1, 0]\n",
      "[1, 2, 0]\n",
      "[0, 1, 2]\n",
      "[2, 0, 1]\n",
      "[2, 0, 1]\n",
      "[0, 1, 2]\n",
      "[2, 0, 1]\n",
      "[2, 1, 0]\n",
      "[0, 1, 2]\n",
      "[2, 0, 1]\n",
      "[0, 1, 2]\n",
      "[2, 0, 1]\n",
      "[2, 0, 1]\n",
      "[1, 0, 2]\n",
      "[2, 0, 1]\n",
      "[0, 1, 2]\n",
      "[1, 0, 2]\n",
      "[1, 0, 2]\n",
      "[0, 1, 2]\n",
      "[2, 0, 1]\n",
      "[0, 1, 2]\n",
      "[2, 0, 1]\n",
      "[2, 0, 1]\n",
      "[2, 1, 0]\n",
      "[0, 1, 2]\n",
      "[2, 0, 1]\n",
      "[1, 2, 0]\n",
      "[2, 0, 1]\n",
      "[2, 0, 1]\n",
      "[0, 1, 2]\n",
      "[2, 0, 1]\n",
      "[2, 0, 1]\n",
      "[2, 0, 1]\n",
      "[1, 0, 2]\n",
      "[1, 0, 2]\n",
      "[2, 0, 1]\n",
      "[0, 1, 2]\n",
      "[1, 0, 2]\n",
      "[2, 0, 1]\n",
      "[0, 2, 1]\n",
      "[1, 0, 2]\n",
      "[2, 0, 1]\n",
      "[2, 0, 1]\n",
      "[2, 0, 1]\n",
      "[2, 0, 1]\n",
      "[0, 1, 2]\n",
      "[2, 0, 1]\n",
      "[2, 0, 1]\n",
      "[0, 1, 2]\n",
      "[0, 1, 2]\n",
      "[0, 1, 2]\n",
      "[0, 1, 2]\n",
      "[0, 1, 2]\n",
      "[1, 2, 0]\n",
      "[2, 1, 0]\n",
      "[2, 0, 1]\n",
      "[0, 1, 2]\n",
      "[2, 0, 1]\n",
      "[1, 0, 2]\n",
      "[0, 1, 2]\n",
      "[1, 0, 2]\n",
      "[0, 1, 2]\n",
      "[2, 0, 1]\n",
      "[0, 1, 2]\n",
      "[2, 0, 1]\n",
      "[1, 0, 2]\n",
      "[1, 0, 2]\n",
      "[2, 0, 1]\n",
      "[1, 2, 0]\n",
      "[1, 0, 2]\n",
      "[2, 0, 1]\n",
      "[2, 1, 0]\n",
      "[0, 2, 1]\n",
      "[1, 2, 0]\n",
      "[1, 0, 2]\n",
      "[1, 0, 2]\n",
      "[1, 0, 2]\n",
      "[1, 2, 0]\n",
      "[0, 1, 2]\n",
      "[0, 1, 2]\n",
      "[0, 1, 2]\n",
      "[0, 1, 2]\n",
      "[2, 0, 1]\n",
      "[2, 0, 1]\n",
      "[2, 0, 1]\n",
      "[0, 2, 1]\n",
      "[0, 1, 2]\n",
      "[1, 2, 0]\n",
      "[2, 1, 0]\n",
      "[0, 1, 2]\n",
      "[1, 0, 2]\n",
      "[2, 0, 1]\n",
      "[0, 1, 2]\n",
      "[2, 0, 1]\n",
      "[2, 0, 1]\n",
      "[1, 0, 2]\n",
      "[2, 1, 0]\n",
      "[0, 1, 2]\n",
      "[2, 0, 1]\n",
      "[0, 1, 2]\n",
      "[1, 0, 2]\n",
      "[1, 2, 0]\n",
      "[1, 0, 2]\n",
      "[2, 0, 1]\n",
      "[0, 1, 2]\n",
      "[0, 1, 2]\n",
      "[2, 0, 1]\n",
      "[2, 0, 1]\n",
      "[1, 0, 2]\n",
      "[1, 0, 2]\n",
      "[1, 0, 2]\n",
      "[1, 2, 0]\n",
      "[2, 0, 1]\n",
      "[2, 1, 0]\n",
      "[1, 2, 0]\n",
      "[0, 1, 2]\n",
      "[2, 1, 0]\n",
      "[1, 0, 2]\n",
      "[2, 0, 1]\n",
      "[0, 1, 2]\n",
      "[0, 2, 1]\n",
      "[2, 0, 1]\n",
      "[1, 2, 0]\n",
      "[1, 0, 2]\n",
      "[1, 0, 2]\n",
      "[1, 0, 2]\n",
      "[1, 0, 2]\n",
      "[0, 1, 2]\n",
      "[0, 2, 1]\n",
      "[0, 1, 2]\n",
      "[0, 1, 2]\n",
      "[1, 0, 2]\n",
      "[0, 1, 2]\n",
      "[0, 2, 1]\n",
      "[2, 0, 1]\n",
      "[1, 0, 2]\n",
      "[2, 1, 0]\n",
      "[1, 2, 0]\n",
      "[1, 2, 0]\n",
      "[0, 1, 2]\n",
      "[0, 1, 2]\n",
      "[0, 1, 2]\n",
      "[2, 0, 1]\n",
      "[0, 1, 2]\n",
      "[1, 2, 0]\n",
      "[1, 0, 2]\n",
      "[0, 1, 2]\n",
      "[2, 0, 1]\n",
      "[1, 0, 2]\n",
      "[2, 0, 1]\n",
      "[2, 0, 1]\n",
      "[2, 0, 1]\n",
      "[2, 0, 1]\n",
      "[1, 0, 2]\n",
      "[1, 0, 2]\n",
      "[2, 1, 0]\n",
      "[2, 0, 1]\n",
      "[2, 0, 1]\n",
      "[1, 0, 2]\n",
      "[1, 2, 0]\n",
      "[0, 1, 2]\n",
      "[1, 0, 2]\n",
      "[0, 1, 2]\n",
      "[2, 0, 1]\n",
      "[2, 1, 0]\n",
      "[0, 1, 2]\n",
      "[1, 0, 2]\n",
      "[2, 0, 1]\n",
      "[0, 2, 1]\n",
      "[2, 0, 1]\n",
      "[2, 0, 1]\n",
      "[1, 2, 0]\n",
      "[1, 0, 2]\n",
      "[0, 1, 2]\n",
      "[1, 0, 2]\n",
      "[0, 1, 2]\n",
      "[0, 1, 2]\n",
      "[0, 1, 2]\n",
      "[1, 0, 2]\n",
      "[2, 0, 1]\n",
      "[0, 1, 2]\n",
      "[0, 1, 2]\n",
      "[1, 0, 2]\n",
      "[0, 1, 2]\n",
      "[1, 2, 0]\n",
      "[1, 0, 2]\n",
      "[0, 1, 2]\n",
      "[0, 1, 2]\n",
      "[2, 0, 1]\n",
      "[0, 1, 2]\n",
      "[2, 0, 1]\n",
      "[1, 0, 2]\n",
      "[1, 0, 2]\n",
      "[0, 1, 2]\n",
      "[2, 0, 1]\n",
      "[2, 1, 0]\n",
      "[0, 2, 1]\n",
      "[1, 0, 2]\n",
      "[2, 0, 1]\n",
      "[2, 0, 1]\n",
      "[2, 0, 1]\n",
      "[0, 1, 2]\n",
      "[2, 0, 1]\n",
      "[2, 0, 1]\n",
      "[0, 1, 2]\n",
      "[1, 0, 2]\n",
      "[2, 0, 1]\n",
      "[1, 0, 2]\n",
      "[1, 0, 2]\n",
      "[2, 0, 1]\n",
      "[1, 0, 2]\n",
      "[2, 0, 1]\n",
      "[0, 1, 2]\n",
      "[2, 0, 1]\n",
      "[1, 2, 0]\n",
      "[1, 0, 2]\n",
      "[2, 1, 0]\n",
      "[1, 0, 2]\n",
      "[2, 0, 1]\n",
      "[1, 2, 0]\n",
      "[2, 0, 1]\n",
      "[1, 0, 2]\n",
      "[1, 0, 2]\n",
      "[1, 2, 0]\n",
      "[0, 1, 2]\n"
     ]
    },
    {
     "name": "stdout",
     "output_type": "stream",
     "text": [
      "[1, 0, 2]\n",
      "[1, 0, 2]\n",
      "[1, 0, 2]\n",
      "[1, 0, 2]\n",
      "[2, 1, 0]\n",
      "[0, 1, 2]\n",
      "[2, 0, 1]\n",
      "[1, 0, 2]\n",
      "[2, 1, 0]\n",
      "[1, 0, 2]\n",
      "[2, 0, 1]\n",
      "[1, 0, 2]\n",
      "[0, 1, 2]\n",
      "[2, 0, 1]\n",
      "[2, 0, 1]\n",
      "[0, 1, 2]\n",
      "[2, 0, 1]\n",
      "[0, 1, 2]\n",
      "[2, 0, 1]\n",
      "[2, 0, 1]\n",
      "[2, 0, 1]\n",
      "[1, 0, 2]\n",
      "[2, 0, 1]\n",
      "[0, 1, 2]\n",
      "[2, 0, 1]\n",
      "[2, 0, 1]\n",
      "[1, 0, 2]\n",
      "[0, 1, 2]\n",
      "[1, 2, 0]\n",
      "[0, 1, 2]\n",
      "[2, 0, 1]\n",
      "[2, 0, 1]\n",
      "[1, 0, 2]\n",
      "[1, 0, 2]\n",
      "[2, 0, 1]\n",
      "[0, 2, 1]\n",
      "[1, 0, 2]\n",
      "[1, 0, 2]\n",
      "[2, 0, 1]\n",
      "[1, 0, 2]\n",
      "[1, 0, 2]\n",
      "[2, 1, 0]\n",
      "[2, 0, 1]\n",
      "[2, 1, 0]\n",
      "[2, 0, 1]\n",
      "[2, 0, 1]\n",
      "[2, 0, 1]\n",
      "[0, 2, 1]\n",
      "[2, 0, 1]\n",
      "[1, 2, 0]\n",
      "[2, 0, 1]\n",
      "[2, 0, 1]\n",
      "[0, 1, 2]\n",
      "[2, 1, 0]\n",
      "[0, 1, 2]\n",
      "[0, 1, 2]\n",
      "[1, 0, 2]\n",
      "[2, 0, 1]\n",
      "[1, 0, 2]\n",
      "[2, 0, 1]\n",
      "[2, 0, 1]\n",
      "[1, 0, 2]\n",
      "[2, 0, 1]\n",
      "[1, 0, 2]\n",
      "[1, 0, 2]\n",
      "[1, 0, 2]\n",
      "[2, 0, 1]\n",
      "[1, 0, 2]\n",
      "[2, 0, 1]\n",
      "[2, 0, 1]\n",
      "[1, 2, 0]\n",
      "[2, 1, 0]\n",
      "[2, 1, 0]\n",
      "[2, 0, 1]\n",
      "[0, 1, 2]\n",
      "[0, 1, 2]\n",
      "[0, 1, 2]\n",
      "[0, 1, 2]\n",
      "[1, 2, 0]\n",
      "[2, 0, 1]\n",
      "[2, 0, 1]\n",
      "[1, 0, 2]\n",
      "[2, 0, 1]\n",
      "[2, 1, 0]\n",
      "[1, 0, 2]\n",
      "[2, 0, 1]\n",
      "[1, 0, 2]\n",
      "[2, 0, 1]\n",
      "[0, 1, 2]\n",
      "[0, 1, 2]\n",
      "[0, 2, 1]\n",
      "[1, 0, 2]\n",
      "[1, 0, 2]\n",
      "[2, 0, 1]\n",
      "[0, 1, 2]\n",
      "[2, 0, 1]\n",
      "[1, 0, 2]\n",
      "[2, 1, 0]\n",
      "[1, 2, 0]\n",
      "[2, 0, 1]\n",
      "[2, 0, 1]\n",
      "[0, 1, 2]\n",
      "[0, 2, 1]\n",
      "[2, 0, 1]\n",
      "[1, 0, 2]\n",
      "[0, 1, 2]\n",
      "[0, 1, 2]\n",
      "[0, 1, 2]\n",
      "[0, 2, 1]\n",
      "[0, 2, 1]\n",
      "[1, 2, 0]\n",
      "[2, 0, 1]\n",
      "[1, 0, 2]\n",
      "[0, 2, 1]\n",
      "[0, 1, 2]\n",
      "[2, 0, 1]\n",
      "[1, 0, 2]\n",
      "[0, 1, 2]\n",
      "[2, 1, 0]\n",
      "[2, 0, 1]\n",
      "[1, 0, 2]\n",
      "[1, 0, 2]\n",
      "[0, 1, 2]\n",
      "[2, 0, 1]\n",
      "[2, 0, 1]\n",
      "[2, 0, 1]\n",
      "[1, 0, 2]\n",
      "[2, 0, 1]\n",
      "[2, 0, 1]\n",
      "[2, 0, 1]\n",
      "[0, 1, 2]\n",
      "[0, 1, 2]\n",
      "[0, 1, 2]\n",
      "[0, 1, 2]\n",
      "[2, 0, 1]\n",
      "[2, 0, 1]\n",
      "[1, 0, 2]\n",
      "[0, 1, 2]\n",
      "[2, 0, 1]\n",
      "[1, 2, 0]\n",
      "[2, 0, 1]\n",
      "[1, 0, 2]\n",
      "[0, 1, 2]\n",
      "[2, 1, 0]\n",
      "[0, 1, 2]\n",
      "[0, 1, 2]\n",
      "[2, 0, 1]\n",
      "[0, 1, 2]\n",
      "[0, 1, 2]\n",
      "[2, 0, 1]\n",
      "[0, 1, 2]\n",
      "[2, 0, 1]\n",
      "[1, 0, 2]\n",
      "[0, 2, 1]\n",
      "[2, 0, 1]\n",
      "[2, 0, 1]\n",
      "[2, 0, 1]\n",
      "[2, 0, 1]\n",
      "[1, 0, 2]\n",
      "[2, 0, 1]\n",
      "[0, 1, 2]\n",
      "[0, 1, 2]\n",
      "[1, 0, 2]\n",
      "[2, 0, 1]\n",
      "[2, 0, 1]\n",
      "[1, 0, 2]\n",
      "[2, 0, 1]\n",
      "[1, 0, 2]\n",
      "[1, 0, 2]\n",
      "[2, 1, 0]\n",
      "[1, 0, 2]\n",
      "[1, 0, 2]\n",
      "[1, 0, 2]\n",
      "[1, 0, 2]\n",
      "[2, 0, 1]\n",
      "[2, 0, 1]\n",
      "[0, 1, 2]\n",
      "[2, 0, 1]\n",
      "[1, 2, 0]\n",
      "[2, 0, 1]\n",
      "[1, 0, 2]\n",
      "[1, 0, 2]\n",
      "[2, 0, 1]\n",
      "[1, 0, 2]\n",
      "[1, 0, 2]\n",
      "[2, 0, 1]\n",
      "[1, 0, 2]\n",
      "[2, 0, 1]\n",
      "[0, 1, 2]\n",
      "[0, 1, 2]\n",
      "[0, 1, 2]\n",
      "[2, 0, 1]\n"
     ]
    },
    {
     "data": {
      "text/html": [
       "<div>\n",
       "<style scoped>\n",
       "    .dataframe tbody tr th:only-of-type {\n",
       "        vertical-align: middle;\n",
       "    }\n",
       "\n",
       "    .dataframe tbody tr th {\n",
       "        vertical-align: top;\n",
       "    }\n",
       "\n",
       "    .dataframe thead th {\n",
       "        text-align: right;\n",
       "    }\n",
       "</style>\n",
       "<table border=\"1\" class=\"dataframe\">\n",
       "  <thead>\n",
       "    <tr style=\"text-align: right;\">\n",
       "      <th></th>\n",
       "      <th>level_0</th>\n",
       "      <th>index</th>\n",
       "      <th>Forum ID</th>\n",
       "      <th>Forum Name</th>\n",
       "      <th>Subject</th>\n",
       "      <th>Post Date</th>\n",
       "      <th>User DisplayName</th>\n",
       "      <th>Forum_Post_Raw</th>\n",
       "      <th>compound</th>\n",
       "      <th>neg</th>\n",
       "      <th>...</th>\n",
       "      <th>tokens_sentences</th>\n",
       "      <th>POS_tokens</th>\n",
       "      <th>tokens_sentences_lemmatized</th>\n",
       "      <th>tokens</th>\n",
       "      <th>topic0</th>\n",
       "      <th>topic0_pct</th>\n",
       "      <th>topic1</th>\n",
       "      <th>topic1_pct</th>\n",
       "      <th>topic2</th>\n",
       "      <th>topic2_pct</th>\n",
       "    </tr>\n",
       "  </thead>\n",
       "  <tbody>\n",
       "    <tr>\n",
       "      <th>0</th>\n",
       "      <td>0</td>\n",
       "      <td>0</td>\n",
       "      <td>40</td>\n",
       "      <td>Sage X3 General Discussion</td>\n",
       "      <td>ERP help urgently needed</td>\n",
       "      <td>2019-10-10T05:58:05.73</td>\n",
       "      <td>ChinusGomes</td>\n",
       "      <td>Company upgraded to windows 10. Used to run an...</td>\n",
       "      <td>0.0387</td>\n",
       "      <td>0.063</td>\n",
       "      <td>...</td>\n",
       "      <td>[[Company, upgraded, to, windows, 10, .], [Use...</td>\n",
       "      <td>[[(Company, NN), (upgraded, VBD), (to, TO), (w...</td>\n",
       "      <td>[[Company, upgrade, to, windows, 10, .], [Used...</td>\n",
       "      <td>[company, upgrade, windows, used, run, erp, pr...</td>\n",
       "      <td>1</td>\n",
       "      <td>0.999445</td>\n",
       "      <td>0</td>\n",
       "      <td>0.0</td>\n",
       "      <td>2</td>\n",
       "      <td>0.0</td>\n",
       "    </tr>\n",
       "    <tr>\n",
       "      <th>1</th>\n",
       "      <td>1</td>\n",
       "      <td>31</td>\n",
       "      <td>40</td>\n",
       "      <td>Sage X3 General Discussion</td>\n",
       "      <td>Sage V11 patch 14 - release soon?</td>\n",
       "      <td>2019-10-10T12:44:35.957</td>\n",
       "      <td>AnikB</td>\n",
       "      <td>Hello!\\n\\nI see that Sage V11 patch 14 was com...</td>\n",
       "      <td>0.7044</td>\n",
       "      <td>0.022</td>\n",
       "      <td>...</td>\n",
       "      <td>[[Hello, !], [I, see, that, Sage, V11, patch, ...</td>\n",
       "      <td>[[(Hello, NN), (!, .)], [(I, PRP), (see, VBP),...</td>\n",
       "      <td>[[Hello, !], [I, see, that, Sage, V11, patch, ...</td>\n",
       "      <td>[patch, complete, october, least, patch, finde...</td>\n",
       "      <td>1</td>\n",
       "      <td>0.796473</td>\n",
       "      <td>2</td>\n",
       "      <td>0.203224</td>\n",
       "      <td>0</td>\n",
       "      <td>0.0</td>\n",
       "    </tr>\n",
       "    <tr>\n",
       "      <th>2</th>\n",
       "      <td>2</td>\n",
       "      <td>62</td>\n",
       "      <td>673</td>\n",
       "      <td>Sage X3 Announcements, News, and Alerts</td>\n",
       "      <td>Sage X3 12.0.19 and Patch 19 Add-ons Updates h...</td>\n",
       "      <td>2019-10-10T14:56:52.947</td>\n",
       "      <td>Alecia</td>\n",
       "      <td>To access this download, log into https://supp...</td>\n",
       "      <td>0.9359</td>\n",
       "      <td>0.000</td>\n",
       "      <td>...</td>\n",
       "      <td>[[To, access, this, download, ,, log, into, ht...</td>\n",
       "      <td>[[(To, TO), (access, NN), (this, DT), (downloa...</td>\n",
       "      <td>[[To, access, this, download, ,, log, into, ht...</td>\n",
       "      <td>[access, download, log, http, search, field, t...</td>\n",
       "      <td>0</td>\n",
       "      <td>0.998949</td>\n",
       "      <td>1</td>\n",
       "      <td>0.0</td>\n",
       "      <td>2</td>\n",
       "      <td>0.0</td>\n",
       "    </tr>\n",
       "    <tr>\n",
       "      <th>3</th>\n",
       "      <td>3</td>\n",
       "      <td>63</td>\n",
       "      <td>673</td>\n",
       "      <td>Sage X3 Announcements, News, and Alerts</td>\n",
       "      <td>Sage X3 Warehousing (GEODE) v12.0.19 has been ...</td>\n",
       "      <td>2019-10-10T20:56:53.483</td>\n",
       "      <td>pnightingale</td>\n",
       "      <td>To access this download, log into https://supp...</td>\n",
       "      <td>0.9359</td>\n",
       "      <td>0.000</td>\n",
       "      <td>...</td>\n",
       "      <td>[[To, access, this, download, ,, log, into, ht...</td>\n",
       "      <td>[[(To, TO), (access, NN), (this, DT), (downloa...</td>\n",
       "      <td>[[To, access, this, download, ,, log, into, ht...</td>\n",
       "      <td>[access, download, log, http, search, field, t...</td>\n",
       "      <td>0</td>\n",
       "      <td>0.998949</td>\n",
       "      <td>1</td>\n",
       "      <td>0.0</td>\n",
       "      <td>2</td>\n",
       "      <td>0.0</td>\n",
       "    </tr>\n",
       "    <tr>\n",
       "      <th>4</th>\n",
       "      <td>4</td>\n",
       "      <td>64</td>\n",
       "      <td>40</td>\n",
       "      <td>Sage X3 General Discussion</td>\n",
       "      <td>Modifying Stock Change ST2 object</td>\n",
       "      <td>2019-10-11T13:10:28.983</td>\n",
       "      <td>ChrisCC</td>\n",
       "      <td>I am trying to remove some of the columns on t...</td>\n",
       "      <td>0.5980</td>\n",
       "      <td>0.046</td>\n",
       "      <td>...</td>\n",
       "      <td>[[I, am, trying, to, remove, some, of, the, co...</td>\n",
       "      <td>[[(I, PRP), (am, VBP), (trying, VBG), (to, TO)...</td>\n",
       "      <td>[[I, be, try, to, remove, some, of, the, colum...</td>\n",
       "      <td>[remove, column, object, stock, selection, bro...</td>\n",
       "      <td>2</td>\n",
       "      <td>0.849211</td>\n",
       "      <td>1</td>\n",
       "      <td>0.150335</td>\n",
       "      <td>0</td>\n",
       "      <td>0.0</td>\n",
       "    </tr>\n",
       "  </tbody>\n",
       "</table>\n",
       "<p>5 rows × 29 columns</p>\n",
       "</div>"
      ],
      "text/plain": [
       "   level_0  index  Forum ID                               Forum Name  \\\n",
       "0        0      0        40               Sage X3 General Discussion   \n",
       "1        1     31        40               Sage X3 General Discussion   \n",
       "2        2     62       673  Sage X3 Announcements, News, and Alerts   \n",
       "3        3     63       673  Sage X3 Announcements, News, and Alerts   \n",
       "4        4     64        40               Sage X3 General Discussion   \n",
       "\n",
       "                                             Subject                Post Date  \\\n",
       "0                           ERP help urgently needed   2019-10-10T05:58:05.73   \n",
       "1                  Sage V11 patch 14 - release soon?  2019-10-10T12:44:35.957   \n",
       "2  Sage X3 12.0.19 and Patch 19 Add-ons Updates h...  2019-10-10T14:56:52.947   \n",
       "3  Sage X3 Warehousing (GEODE) v12.0.19 has been ...  2019-10-10T20:56:53.483   \n",
       "4                  Modifying Stock Change ST2 object  2019-10-11T13:10:28.983   \n",
       "\n",
       "  User DisplayName                                     Forum_Post_Raw  \\\n",
       "0      ChinusGomes  Company upgraded to windows 10. Used to run an...   \n",
       "1            AnikB  Hello!\\n\\nI see that Sage V11 patch 14 was com...   \n",
       "2           Alecia  To access this download, log into https://supp...   \n",
       "3     pnightingale  To access this download, log into https://supp...   \n",
       "4          ChrisCC  I am trying to remove some of the columns on t...   \n",
       "\n",
       "   compound    neg  ...                                   tokens_sentences  \\\n",
       "0    0.0387  0.063  ...  [[Company, upgraded, to, windows, 10, .], [Use...   \n",
       "1    0.7044  0.022  ...  [[Hello, !], [I, see, that, Sage, V11, patch, ...   \n",
       "2    0.9359  0.000  ...  [[To, access, this, download, ,, log, into, ht...   \n",
       "3    0.9359  0.000  ...  [[To, access, this, download, ,, log, into, ht...   \n",
       "4    0.5980  0.046  ...  [[I, am, trying, to, remove, some, of, the, co...   \n",
       "\n",
       "                                          POS_tokens  \\\n",
       "0  [[(Company, NN), (upgraded, VBD), (to, TO), (w...   \n",
       "1  [[(Hello, NN), (!, .)], [(I, PRP), (see, VBP),...   \n",
       "2  [[(To, TO), (access, NN), (this, DT), (downloa...   \n",
       "3  [[(To, TO), (access, NN), (this, DT), (downloa...   \n",
       "4  [[(I, PRP), (am, VBP), (trying, VBG), (to, TO)...   \n",
       "\n",
       "                         tokens_sentences_lemmatized  \\\n",
       "0  [[Company, upgrade, to, windows, 10, .], [Used...   \n",
       "1  [[Hello, !], [I, see, that, Sage, V11, patch, ...   \n",
       "2  [[To, access, this, download, ,, log, into, ht...   \n",
       "3  [[To, access, this, download, ,, log, into, ht...   \n",
       "4  [[I, be, try, to, remove, some, of, the, colum...   \n",
       "\n",
       "                                              tokens topic0  topic0_pct  \\\n",
       "0  [company, upgrade, windows, used, run, erp, pr...      1    0.999445   \n",
       "1  [patch, complete, october, least, patch, finde...      1    0.796473   \n",
       "2  [access, download, log, http, search, field, t...      0    0.998949   \n",
       "3  [access, download, log, http, search, field, t...      0    0.998949   \n",
       "4  [remove, column, object, stock, selection, bro...      2    0.849211   \n",
       "\n",
       "  topic1 topic1_pct topic2 topic2_pct  \n",
       "0      0        0.0      2        0.0  \n",
       "1      2   0.203224      0        0.0  \n",
       "2      1        0.0      2        0.0  \n",
       "3      1        0.0      2        0.0  \n",
       "4      1   0.150335      0        0.0  \n",
       "\n",
       "[5 rows x 29 columns]"
      ]
     },
     "execution_count": 357,
     "metadata": {},
     "output_type": "execute_result"
    }
   ],
   "source": [
    "for i in range(0,3):\n",
    "    dfLDA['topic'+ str(i)]=None\n",
    "    dfLDA['topic'+str(i)+'_pct']=None\n",
    "\n",
    "for r in range(0,len(document_topic)):\n",
    "    ts = document_topic.loc[r].sort_values(ascending=False)[:3]\n",
    "#     print(ts)\n",
    "    topic_nums = list(ts.index)\n",
    "    print(topic_nums)\n",
    "    topic_pcts = list(ts)\n",
    "#     print(topic_pcts)\n",
    "    for i in range(0,3):\n",
    "        dfLDA.at[r,'topic'+ str(i)]=topic_nums[i]\n",
    "        dfLDA.at[r,'topic'+ str(i)+'_pct']=topic_pcts[i]\n",
    "\n",
    "dfLDA.head(5)"
   ]
  },
  {
   "cell_type": "code",
   "execution_count": 358,
   "metadata": {},
   "outputs": [
    {
     "data": {
      "text/plain": [
       "Index(['level_0', 'index', 'Forum ID', 'Forum Name', 'Subject', 'Post Date',\n",
       "       'User DisplayName', 'Forum_Post_Raw', 'compound', 'neg', 'neu', 'pos',\n",
       "       'Sentiment', 'PostDate', 'DayName', 'DayOfMonth', 'ShortText',\n",
       "       'sentences', 'token_sentences', 'tokens_sentences', 'POS_tokens',\n",
       "       'tokens_sentences_lemmatized', 'tokens', 'topic0', 'topic0_pct',\n",
       "       'topic1', 'topic1_pct', 'topic2', 'topic2_pct'],\n",
       "      dtype='object')"
      ]
     },
     "execution_count": 358,
     "metadata": {},
     "output_type": "execute_result"
    }
   ],
   "source": [
    "dfLDA.columns"
   ]
  },
  {
   "cell_type": "code",
   "execution_count": 359,
   "metadata": {},
   "outputs": [
    {
     "data": {
      "text/html": [
       "<div>\n",
       "<style scoped>\n",
       "    .dataframe tbody tr th:only-of-type {\n",
       "        vertical-align: middle;\n",
       "    }\n",
       "\n",
       "    .dataframe tbody tr th {\n",
       "        vertical-align: top;\n",
       "    }\n",
       "\n",
       "    .dataframe thead th {\n",
       "        text-align: right;\n",
       "    }\n",
       "</style>\n",
       "<table border=\"1\" class=\"dataframe\">\n",
       "  <thead>\n",
       "    <tr style=\"text-align: right;\">\n",
       "      <th></th>\n",
       "      <th>level_0</th>\n",
       "      <th>index</th>\n",
       "      <th>Forum ID</th>\n",
       "      <th>Forum Name</th>\n",
       "      <th>Subject</th>\n",
       "      <th>Post Date</th>\n",
       "      <th>User DisplayName</th>\n",
       "      <th>Forum_Post_Raw</th>\n",
       "      <th>compound</th>\n",
       "      <th>neg</th>\n",
       "      <th>...</th>\n",
       "      <th>tokens_sentences</th>\n",
       "      <th>POS_tokens</th>\n",
       "      <th>tokens_sentences_lemmatized</th>\n",
       "      <th>tokens</th>\n",
       "      <th>topic0</th>\n",
       "      <th>topic0_pct</th>\n",
       "      <th>topic1</th>\n",
       "      <th>topic1_pct</th>\n",
       "      <th>topic2</th>\n",
       "      <th>topic2_pct</th>\n",
       "    </tr>\n",
       "  </thead>\n",
       "  <tbody>\n",
       "    <tr>\n",
       "      <th>1081</th>\n",
       "      <td>1081</td>\n",
       "      <td>2938</td>\n",
       "      <td>332</td>\n",
       "      <td>Sage Data &amp;amp; Analytics</td>\n",
       "      <td>dimension type setting</td>\n",
       "      <td>2020-04-29T11:08:12.53</td>\n",
       "      <td>Afrosage</td>\n",
       "      <td>\\nThe above pic is  carry forward selection ch...</td>\n",
       "      <td>0.5770</td>\n",
       "      <td>0.035</td>\n",
       "      <td>...</td>\n",
       "      <td>[[The, above, pic, is, carry, forward, selecti...</td>\n",
       "      <td>[[(The, DT), (above, JJ), (pic, NN), (is, VBZ)...</td>\n",
       "      <td>[[The, above, pic, be, carry, forward, selecti...</td>\n",
       "      <td>[pic, carry, forward, selection, check, unchec...</td>\n",
       "      <td>2</td>\n",
       "      <td>0.999131</td>\n",
       "      <td>0</td>\n",
       "      <td>0.0</td>\n",
       "      <td>1</td>\n",
       "      <td>0.0</td>\n",
       "    </tr>\n",
       "    <tr>\n",
       "      <th>1082</th>\n",
       "      <td>1082</td>\n",
       "      <td>2939</td>\n",
       "      <td>332</td>\n",
       "      <td>Sage Data &amp;amp; Analytics</td>\n",
       "      <td>PORDERQ - RETRCPDAT field ?</td>\n",
       "      <td>2020-04-23T11:51:48.66</td>\n",
       "      <td>Nicolasson</td>\n",
       "      <td>Hello guys, \\n\\nI hope you are well. \\n\\nI mad...</td>\n",
       "      <td>0.9136</td>\n",
       "      <td>0.000</td>\n",
       "      <td>...</td>\n",
       "      <td>[[Hello, guys, ,, I, hope, you, are, well, .],...</td>\n",
       "      <td>[[(Hello, NNP), (guys, NNS), (,, ,), (I, PRP),...</td>\n",
       "      <td>[[Hello, guy, ,, I, hope, you, be, well, .], [...</td>\n",
       "      <td>[guy, hope, well, research, surprisingly, find...</td>\n",
       "      <td>0</td>\n",
       "      <td>0.998186</td>\n",
       "      <td>1</td>\n",
       "      <td>0.0</td>\n",
       "      <td>2</td>\n",
       "      <td>0.0</td>\n",
       "    </tr>\n",
       "    <tr>\n",
       "      <th>1083</th>\n",
       "      <td>1083</td>\n",
       "      <td>2940</td>\n",
       "      <td>332</td>\n",
       "      <td>Sage Data &amp;amp; Analytics</td>\n",
       "      <td>Supplier Invoice/Memo Import</td>\n",
       "      <td>2020-04-23T19:33:37.777</td>\n",
       "      <td>Warren Guan</td>\n",
       "      <td>It says all the lines are converted but it did...</td>\n",
       "      <td>0.4497</td>\n",
       "      <td>0.000</td>\n",
       "      <td>...</td>\n",
       "      <td>[[It, says, all, the, lines, are, converted, b...</td>\n",
       "      <td>[[(It, PRP), (says, VBZ), (all, PDT), (the, DT...</td>\n",
       "      <td>[[It, say, all, the, line, be, convert, but, i...</td>\n",
       "      <td>[line, convert, generate, dat, file, idea, ple...</td>\n",
       "      <td>0</td>\n",
       "      <td>0.996023</td>\n",
       "      <td>1</td>\n",
       "      <td>0.0</td>\n",
       "      <td>2</td>\n",
       "      <td>0.0</td>\n",
       "    </tr>\n",
       "    <tr>\n",
       "      <th>1084</th>\n",
       "      <td>1084</td>\n",
       "      <td>2941</td>\n",
       "      <td>332</td>\n",
       "      <td>Sage Data &amp;amp; Analytics</td>\n",
       "      <td>year closing</td>\n",
       "      <td>2020-01-20T07:01:58.37</td>\n",
       "      <td>info@epochholland.nl</td>\n",
       "      <td></td>\n",
       "      <td>0.0000</td>\n",
       "      <td>0.000</td>\n",
       "      <td>...</td>\n",
       "      <td>[]</td>\n",
       "      <td>[]</td>\n",
       "      <td>[]</td>\n",
       "      <td>[]</td>\n",
       "      <td>0</td>\n",
       "      <td>0.333333</td>\n",
       "      <td>1</td>\n",
       "      <td>0.333333</td>\n",
       "      <td>2</td>\n",
       "      <td>0.333333</td>\n",
       "    </tr>\n",
       "    <tr>\n",
       "      <th>1085</th>\n",
       "      <td>1085</td>\n",
       "      <td>2942</td>\n",
       "      <td>332</td>\n",
       "      <td>Sage Data &amp;amp; Analytics</td>\n",
       "      <td>add CPTANALIN table to requester</td>\n",
       "      <td>2019-10-10T15:41:06.877</td>\n",
       "      <td>Christine T.</td>\n",
       "      <td>requester links aren't my strong suit- I can h...</td>\n",
       "      <td>0.7905</td>\n",
       "      <td>0.041</td>\n",
       "      <td>...</td>\n",
       "      <td>[[requester, links, are, n't, my, strong, suit...</td>\n",
       "      <td>[[(requester, NN), (links, NNS), (are, VBP), (...</td>\n",
       "      <td>[[requester, link, be, n't, my, strong, suit-,...</td>\n",
       "      <td>[requester, link, strong, handle, crystal, rep...</td>\n",
       "      <td>2</td>\n",
       "      <td>0.640902</td>\n",
       "      <td>0</td>\n",
       "      <td>0.358191</td>\n",
       "      <td>1</td>\n",
       "      <td>0.0</td>\n",
       "    </tr>\n",
       "  </tbody>\n",
       "</table>\n",
       "<p>5 rows × 29 columns</p>\n",
       "</div>"
      ],
      "text/plain": [
       "      level_0  index  Forum ID                 Forum Name  \\\n",
       "1081     1081   2938       332  Sage Data &amp; Analytics   \n",
       "1082     1082   2939       332  Sage Data &amp; Analytics   \n",
       "1083     1083   2940       332  Sage Data &amp; Analytics   \n",
       "1084     1084   2941       332  Sage Data &amp; Analytics   \n",
       "1085     1085   2942       332  Sage Data &amp; Analytics   \n",
       "\n",
       "                               Subject                Post Date  \\\n",
       "1081            dimension type setting   2020-04-29T11:08:12.53   \n",
       "1082       PORDERQ - RETRCPDAT field ?   2020-04-23T11:51:48.66   \n",
       "1083      Supplier Invoice/Memo Import  2020-04-23T19:33:37.777   \n",
       "1084                      year closing   2020-01-20T07:01:58.37   \n",
       "1085  add CPTANALIN table to requester  2019-10-10T15:41:06.877   \n",
       "\n",
       "          User DisplayName                                     Forum_Post_Raw  \\\n",
       "1081              Afrosage  \\nThe above pic is  carry forward selection ch...   \n",
       "1082            Nicolasson  Hello guys, \\n\\nI hope you are well. \\n\\nI mad...   \n",
       "1083           Warren Guan  It says all the lines are converted but it did...   \n",
       "1084  info@epochholland.nl                                                      \n",
       "1085          Christine T.  requester links aren't my strong suit- I can h...   \n",
       "\n",
       "      compound    neg  ...                                   tokens_sentences  \\\n",
       "1081    0.5770  0.035  ...  [[The, above, pic, is, carry, forward, selecti...   \n",
       "1082    0.9136  0.000  ...  [[Hello, guys, ,, I, hope, you, are, well, .],...   \n",
       "1083    0.4497  0.000  ...  [[It, says, all, the, lines, are, converted, b...   \n",
       "1084    0.0000  0.000  ...                                                 []   \n",
       "1085    0.7905  0.041  ...  [[requester, links, are, n't, my, strong, suit...   \n",
       "\n",
       "                                             POS_tokens  \\\n",
       "1081  [[(The, DT), (above, JJ), (pic, NN), (is, VBZ)...   \n",
       "1082  [[(Hello, NNP), (guys, NNS), (,, ,), (I, PRP),...   \n",
       "1083  [[(It, PRP), (says, VBZ), (all, PDT), (the, DT...   \n",
       "1084                                                 []   \n",
       "1085  [[(requester, NN), (links, NNS), (are, VBP), (...   \n",
       "\n",
       "                            tokens_sentences_lemmatized  \\\n",
       "1081  [[The, above, pic, be, carry, forward, selecti...   \n",
       "1082  [[Hello, guy, ,, I, hope, you, be, well, .], [...   \n",
       "1083  [[It, say, all, the, line, be, convert, but, i...   \n",
       "1084                                                 []   \n",
       "1085  [[requester, link, be, n't, my, strong, suit-,...   \n",
       "\n",
       "                                                 tokens topic0  topic0_pct  \\\n",
       "1081  [pic, carry, forward, selection, check, unchec...      2    0.999131   \n",
       "1082  [guy, hope, well, research, surprisingly, find...      0    0.998186   \n",
       "1083  [line, convert, generate, dat, file, idea, ple...      0    0.996023   \n",
       "1084                                                 []      0    0.333333   \n",
       "1085  [requester, link, strong, handle, crystal, rep...      2    0.640902   \n",
       "\n",
       "     topic1 topic1_pct topic2 topic2_pct  \n",
       "1081      0        0.0      1        0.0  \n",
       "1082      1        0.0      2        0.0  \n",
       "1083      1        0.0      2        0.0  \n",
       "1084      1   0.333333      2   0.333333  \n",
       "1085      0   0.358191      1        0.0  \n",
       "\n",
       "[5 rows x 29 columns]"
      ]
     },
     "execution_count": 359,
     "metadata": {},
     "output_type": "execute_result"
    }
   ],
   "source": [
    "dfLDA.tail()\n"
   ]
  },
  {
   "cell_type": "code",
   "execution_count": 360,
   "metadata": {},
   "outputs": [
    {
     "data": {
      "text/plain": [
       "(1086, 29)"
      ]
     },
     "execution_count": 360,
     "metadata": {},
     "output_type": "execute_result"
    }
   ],
   "source": [
    "dfLDA.shape"
   ]
  },
  {
   "cell_type": "code",
   "execution_count": 362,
   "metadata": {},
   "outputs": [
    {
     "data": {
      "text/plain": [
       "Index(['level_0', 'index', 'Forum ID', 'Forum Name', 'Subject', 'Post Date',\n",
       "       'User DisplayName', 'Forum_Post_Raw', 'compound', 'neg', 'neu', 'pos',\n",
       "       'Sentiment', 'PostDate', 'DayName', 'DayOfMonth', 'ShortText',\n",
       "       'sentences', 'token_sentences', 'tokens_sentences', 'POS_tokens',\n",
       "       'tokens_sentences_lemmatized', 'tokens', 'topic0', 'topic0_pct',\n",
       "       'topic1', 'topic1_pct', 'topic2', 'topic2_pct'],\n",
       "      dtype='object')"
      ]
     },
     "execution_count": 362,
     "metadata": {},
     "output_type": "execute_result"
    }
   ],
   "source": [
    "dfLDA[dfLDA['topic0']==2].columns"
   ]
  },
  {
   "cell_type": "code",
   "execution_count": 364,
   "metadata": {},
   "outputs": [
    {
     "name": "stdout",
     "output_type": "stream",
     "text": [
      "To access this download, log into https://support.na.sage.com/ and in the search field type 101208. Click Search.\n",
      "\n",
      "For a complete list of available Sage X3 full-product downloads and patch updates, see the Sage X3 Download Portal. To access the Sage X3 Download Portal, go to https://support.na.sage.com/, enter your Log on credentials (in upper right corner), and type 23522 in the Search field. Click Search. \n",
      "Important: If you use third-party products that integrate with Sage X3 or ISVs, check with the vendor of your third-party product to ensure their product is fully compatible with this release. If you integrate with other Sage products, check with your business partner or Sage to ensure that these components are compatible. \n",
      "It is highly recommended that you work with a certified partner or Sage Professional Services to install this patch.  \n",
      "Need more help? Visit ourâ€¯Sage City Customer Resourcesâ€¯page for additional resources, including links to support options like Online Case submission, the Sage Knowledgebase, Sage University, and more. \n",
      " \n",
      "\n",
      "\n",
      "To access this download, log into https://support.na.sage.com/ and in the search field type 101238. Click Search.\n",
      "For a complete list of available Sage X3 full-product downloads and patch updates, see the Sage X3 Download Portal. To access the Sage X3 Download Portal, go to https://support.na.sage.com/, enter your Log on credentials (in upper right corner), and type 23522 in the Search field. Click Search. \n",
      "Important: If you use third-party products that integrate with Sage X3 or ISVs, check with the vendor of your third-party product to ensure their product is fully compatible with this release. If you integrate with other Sage products, check with your business partner or Sage to ensure that these components are compatible. \n",
      "It is highly recommended that you work with a certified partner or Sage Professional Services to install this patch.  \n",
      "Need more help? Visit ourâ€¯Sage City Customer Resourcesâ€¯page for additional resources, including links to support options like Online Case submission, the Sage Knowledgebase, Sage University, and more \n",
      "\n",
      "\n",
      "Just to confirm, is not possible to change the UOM at the delivery right? \n",
      "\n",
      "\n",
      "Is the online help data model correct for V12? The files show v6..... \n",
      "\n",
      "\n",
      "Hi,\n",
      "I am fairly new to X3 and I entered g/l data for our payroll already. I would like to enter manual p/r checks for the bank rec only so they don't affect any g/l accounts. Is there a way to do this? I was able to do this in Sage Pro.\n",
      "Thank you,\n",
      "Jeff \n",
      "\n",
      "\n",
      "Hi all.\n",
      "I have unchecked the Active box on a Sage X3 V11 sales price list and verified that accessing price from Common Data>Products no longer finds that price.     However, a new sales order line still seems to find it.  What could I be doing wrong or what could cause this?Garry \n",
      "\n",
      "\n",
      "Hello,\n",
      "\n",
      "We are setting up a new client that has a company on UK, and he required to submit his VAT returns to HMRC\n",
      "If we go on parameter values (ADPVAL)  we have the parameter MTDURL\n",
      "\n",
      "\n",
      "\n",
      "This parameter is set by default as production, is there any way to perform a test submission to the sandbox environment on X3?\n",
      "\n",
      "Thank you in advance.\n",
      " \n",
      "\n",
      "\n",
      "Hi All \n",
      "I created  and a direct sales  invoice and forgot  to set stock transaction to yes. I s there a way to correct this so that the stock movement is generated. \n",
      "\n",
      "\n",
      "Hello,\n",
      "I have an issue with the Pay Early invoicing element that gets calculated based on the Net Total Price (Gross price - discount 1/2 from the lines).\n",
      "When I changed the structure to No for these discounts, they don't go through the account, but I need to keep these by line, since there are allowances and they post to GL differently \n",
      "based on the customization I did into the sales auto journal.\n",
      "So the customer wants the Pay Early invoicing element to calculate based on the gross total amount before any discounts.\n",
      "Is there a way to have this through the set up ?\n",
      "Thanks in advance.  \n",
      "\n",
      "\n",
      "To access this download, log into https://support.na.sage.com/ and in the search field type 101369. Click Search.\n",
      "\n",
      "For a complete list of available Sage X3 full-product downloads and patch updates, see the Sage X3 Download Portal. To access the Sage X3 Download Portal, go to https://support.na.sage.com/, enter your Log on credentials (in upper right corner), and type 23522 in the Search field. Click Search. \n",
      "Important: If you use third-party products that integrate with Sage X3 or ISVs, check with the vendor of your third-party product to ensure their product is fully compatible with this release. If you integrate with other Sage products, check with your business partner or Sage to ensure that these components are compatible. \n",
      "It is highly recommended that you work with a certified partner or Sage Professional Services to install this patch.  \n",
      "Need more help? Visit ourâ€¯Sage City Customer Resourcesâ€¯page for additional resources, including links to support options like Online Case submission, the Sage Knowledgebase, Sage University, and more. \n",
      " \n",
      "\n",
      "\n",
      "Hi, all is there a way to automatically post an invoice right after it has been signed by the last signer, if so how? \n",
      "\n",
      "\n",
      "Hi Team,\n",
      "\n",
      "I want to create an advance sale replacement and I am able to go Sales Order screen with all info but I need Line Blank so I want to create an order with that Id by eneter another product details into the Line. Please advice \n",
      "\n",
      "\n",
      "Hi All\n",
      "While printing standard reports we faced an error as \"print selection didn't return any document\" even after providing correct values. Thanks in advance. \n",
      "\n",
      "\n",
      "Hi,\n",
      "I see this question without solution posted 1 year ago.\n",
      "On  X3 V11, i created a web service and published it\n",
      "As you see, the groupe GRP is present.\n",
      "\n",
      "X3 return \"Cannot read property 'GRP' of undefined\" \n",
      "\n",
      "\n",
      "Hai,\n",
      "\n",
      "Currently Manual Matching and Automatic matching in Sage X3 is designed for Bill To BP matching. In case on Pay By Customer is different from Bill To, both Matching functionality fails. Is there any option to make it work based on Pay By BP.\n",
      "\n",
      "Thank You \n",
      "\n",
      "\n",
      "To access this download, log into https://support.na.sage.com/ and in the search field type 101471. Click Search.\n",
      "\n",
      "For a complete list of available Sage X3 full-product downloads and patch updates, see the Sage X3 Download Portal. To access the Sage X3 Download Portal, go to https://support.na.sage.com/, enter your Log on credentials (in upper right corner), and type 23522 in the Search field. Click Search. \n",
      "Important: If you use third-party products that integrate with Sage X3 or ISVs, check with the vendor of your third-party product to ensure their product is fully compatible with this release. If you integrate with other Sage products, check with your business partner or Sage to ensure that these components are compatible. \n",
      "It is highly recommended that you work with a certified partner or Sage Professional Services to install this patch.  \n",
      "Need more help? Visit ourâ€¯Sage City Customer Resourcesâ€¯page for additional resources, including links to support options like Online Case submission, the Sage Knowledgebase, Sage University, and more. \n",
      " \n",
      "\n",
      "\n",
      "Can I get an example XML view of how the deleteLines and InsertLines for SOAP web services will look like?\n",
      "Thanks,\n",
      "Chris  \n",
      "\n",
      "\n",
      "Hi Sagians,\n",
      "\n",
      "We have around 5000 locations to create. I have checked the default import template but couldn't find any. I have created my own template but it is not working.\n",
      "Below is my template.\n",
      "If Any one have idea please share..\n",
      " \n",
      "\n",
      "\n",
      "I have unchecked the Active box on a Sage X3 V11 sales priceasybib e list and verified that accessing price from Common Data>Products no longer finds that price.     However, a new sales order line still seems to find it.  What could I be doing wrong or what could cause this? fedloan irs.gov \n",
      "\n",
      "\n",
      "How have you handled pricing for products where the business does not want to allow any discounts for certain products? \n",
      "\n",
      "\n",
      "To access this download, log into https://support.na.sage.com/ and in the search field type 101729. Click Search.\n",
      "\n",
      "For a complete list of available Sage X3 full-product downloads and patch updates, see the Sage X3 Download Portal. To access the Sage X3 Download Portal, go to https://support.na.sage.com/, enter your Log on credentials (in upper right corner), and type 23522 in the Search field. Click Search. \n",
      "Important: If you use third-party products that integrate with Sage X3 or ISVs, check with the vendor of your third-party product to ensure their product is fully compatible with this release. If you integrate with other Sage products, check with your business partner or Sage to ensure that these components are compatible. \n",
      "It is highly recommended that you work with a certified partner or Sage Professional Services to install this patch.  \n",
      "Need more help? Visit ourâ€¯Sage City Customer Resourcesâ€¯page for additional resources, including links to support options like Online Case submission, the Sage Knowledgebase, Sage University, and more. \n",
      " \n",
      "\n",
      "\n",
      "Hello,\n",
      "\n",
      "Has anyone used the \"Bank Statement Entry\" function? I would like to enter some payroll checks into the bank reconciliation without touching the general ledger as there is a separate g/l batch brought in for this purpose. I noticed that if I go to AP/AR Accounting > Bank Transactions > Bank Statement Entry, it looks like I can enter manual debits and credits without touching any g/l accounts. Is this the best way to handle this?\n",
      "\n",
      "Jeff \n",
      "\n",
      "\n",
      "While creating customer return I am getting the below error. Please suggest me some solution.Using patch 9.04 SAGE X3\n",
      "\n",
      "\n",
      " \n",
      "\n",
      "\n",
      "I'm trying to figure out the mechanics of the product-site usage totals where statistical reordering uses this value in its calculation of the EOQ. I have an example that is behaving unexpectedly and messing up the calculated EOQ:\n",
      "Let's take a component that is not sold, only used in a work order. The production BOM takes two of this component and what comes out is a single finished good that is sold. It appears that X3 is using the sales of the parent finished good IN ADDITION to the work order usage to calculate the EOQ. I would not expect that X3 would double dip here but it appears that is what is happening.\n",
      "Note that we do not tie work orders to sales orders (made to order). We build to stock. I see no parameter to turn off this double dipping on usage. \n",
      "\n",
      "\n",
      "How can I reduce price for products in a specific product category? Can I do it using Price List creation?TIA \n",
      "\n",
      "\n",
      "Hi All,\n",
      "\n",
      "Iam facing the below error in Stock accounting interface.\n",
      "\n",
      "STKSD Line 4 : AMT Error in field evaluation\n",
      "V_COURSDEV*[F:SDD]NETPRINOT*[F:SDD]QTY*[F:STJ]QTYSTU/[F:SDD]QTYSTU stat=9 KEY1=ECP-19-DO-002220 KEY2=~ KEY3=~ KEY4=\n",
      "\n",
      "I did the below setup but no luck, please help me anyone ASAP.\n",
      "Change Parameter value:\n",
      "\n",
      "Under Setup,General parameters, Parameters in the STO Module, Group ACC, click the action card on the grid line for the ACC group and select Detail.\n",
      "Change the ACCIFA parameter to “Yes (auto deletion)\"\n",
      "Click OK.\n",
      "Click Save.\n",
      "\n",
      "\n",
      "Thanks\n",
      "Saber.\n",
      " \n",
      "\n",
      "\n",
      "How to change the maximum file size for attachment?Example : I want to attach picture for Purchase Order having the size of 1M.When uploading, error message showing that the image size is too big. \n",
      "\n",
      "\n",
      "Within A/P-A/R accounting>Inquiries>Banking position module, if user fills in information and then search, then goes to Line 2 - Previous open items and clicks on action card, is there a limitation to the # of results before the screen is blank?  I called Sage Support and they were unable to replicate.  In the interim, we are creating a requester for the user.  Thanks. \n",
      "\n",
      "\n",
      "I am new to Sage.  I have been monitoring our batch server and queries.  The past several days our batch server has shown a status of 'Stopped' but yet all jobs are running and finishing as expected.  When I have gone to restart, I get a very clear message saying the batch server is running.  Any thoughts on what could be causing this?  Thanks! \n",
      "\n",
      "\n",
      "Hi \n",
      "Currently we are using 3 charts Legal, analytical and reporting (previously used for consolidation). We would like to disconnect the last one\n",
      "Any idea on how to do this?\n",
      "\n",
      "Thanks to all \n",
      "\n",
      "\n",
      "Hello, I am working in pharmaceutical industry. We management potency and we sale products with potency.\n",
      "But X3 do not allow saling this kind of product. (Error message when I setup the item category)\n",
      "Does anybody have the same need ? How can I do ?\n",
      "\n",
      "Thanks \n",
      "\n",
      "\n",
      "Hi,\n",
      "I setted up the whithholding retention management on X3 V12 (GESRTZ), created a new retention tax, marked the company for retention and associated the retention to the supplier.\n",
      "When I create a new supplier BP invoice for that supplier, in the line it brings automatically the retention but at the end, when saving the document, it gives an error:\n",
      "\n",
      "\n",
      "I´ve tried everything I know to solve this, validating screens, windows, tables, transaction and so on but whith no results.\n",
      "Any help whowld be appreciated. \n",
      "\n",
      "\n",
      "How do I find what version of Syracuse that I am using?\n",
      "Thanks,\n",
      "Chris  \n",
      "\n",
      "\n",
      "I have a task that runs on the batch server from 12 AM to 4AM. I am also restarting sage using the sevicestop and servicestart windows command on the syracuse server at 3am. I noticed that even though I restart sage, my task is still running on the batch server, and everything is accurate. Is the batch server connected to sql server and irrelevant to the syracuse server?\n",
      "I am curious to know how my batch task is still running fine when i stop and start the sage instance. \n",
      "Currently on V11, Patch 4\n",
      "Thanks,\n",
      "Chris \n",
      "\n",
      "\n",
      "To access this download, log into https://support.na.sage.com/ and in the search field type 102031. Click Search.\n",
      "\n",
      "For a complete list of available Sage X3 full-product downloads and patch updates, see the Sage X3 Download Portal. To access the Sage X3 Download Portal, go to https://support.na.sage.com/, enter your Log on credentials (in upper right corner), and type 23522 in the Search field. Click Search. \n",
      "Important: If you use third-party products that integrate with Sage X3 or ISVs, check with the vendor of your third-party product to ensure their product is fully compatible with this release. If you integrate with other Sage products, check with your business partner or Sage to ensure that these components are compatible. \n",
      "It is highly recommended that you work with a certified partner or Sage Professional Services to install this patch.  \n",
      "Need more help? Visit ourâ€¯Sage City Customer Resourcesâ€¯page for additional resources, including links to support options like Online Case submission, the Sage Knowledgebase, Sage University, and more. \n",
      " \n",
      "\n",
      "\n",
      "So I have a SQL query which returns all purchase orders that are over 14 days old, which have still not been signed in Sage from AWRKHISSUI workflow table.\n",
      "What I'd like to do is create a workflow that distributes an email to all of the users in the list periodically, to remind them that the PO is still outstanding.\n",
      "Does anyone know the best way of doing this in X3? Would the best approach be to create a batch job, then a workflow? How would I connect this to the output from the query?\n",
      "Any help is greatly appreciated.\n",
      "Nick \n",
      "\n",
      "\n",
      "We come in a case where the purchase invoice is paid. After a while decide to create Credit invoice. \n",
      "As long invoice was paid - it was matched with a capital letter. After the creation of  Credit invoice - it was matched with a small letter. Is it possible to create setup so, that Purchase invoice stays in matched status, but credit invoice creates a new open item - not connected with purchase invoice? \n",
      "\n",
      "\n",
      "We use X3 9.0.9;\n",
      "We have contracts with Suppliers for bulk products that we ship direct from Supplier to Customer.\n",
      "We currently represent this in X3 with a back to back sales order for each shipment, a purchase order for each shipment, a purchase invoice for each shipment, a sales delivery for each shipment, and a sales invoice for each shipment.\n",
      "Is it possible to create a back to back sales order in X3, and associate it with an Open Order (aka a contract)?\n",
      "The Open Orders screen (Purchasing->Open Order) has Supplier, Product, Price and Date Range fields. (which is perfect)\n",
      "From what I see in testing, the Open Order is assuming a stock purchase, rather than a back to back purchase; It assumes a stock receipt will take place before a sale delivery to customer. \n",
      "\n",
      "\n",
      "Is it possible to force the user to add an attachment before say an order can be created? \n",
      "\n",
      "\n",
      "Is it possible to trigger a certain workflow rule when an attachment is added to a purchase order?\n",
      "We would like for the attachment to be sent via email to an inbox, so this workflow only needs to be triggered when an attachment has been added to an order and the order is fully signed. \n",
      "\n",
      "\n",
      "I get the following error message by posting supplier invoice for fixed assets:\n",
      "\n",
      "PIHI2 line 20: ASSETIT: non existing account code.\n",
      "\n",
      "Line 20 in PIHI2 is document date with the following Formular: [F:PIH]BPRDAT\n",
      "\n",
      "I am thankful for any help.\n",
      "\n",
      "Sabine \n",
      "\n",
      "\n",
      "I am blocked in my formula. Wrong formula to substract two date.\n",
      "any one ?\n",
      "Subprog AM_XSAMO(VALEUR)\n",
      "Variable Char VALEUR()If DON = 1 and STE = \"SAM\" Then VALEUR = 100 + num$(gdat$(day([M:OPP3]ENDDAT(nolign-1)),month([M:OPP3]ENDDAT(nolign-1)),year([M:OPP3]ENDDAT(nolign-1))) - gdat$(day([F:OSB]STRDAT(nolign-1)),month([M:OPP3]STRDAT(nolign-1)),year([M:OPP3]STRDAT(nolign-1)))) GZINSOPP.CRM(1).STPSTB([M:OPP3]COLLIN(nolign-1)).XSAMO = VALEUR Call RECOVERS_ERROR_IN_CLASSIC(GZINSOPP) From SUBOPPA If GERR = 1 Then GZINSOPP.CRM(1).STPSTB([M:OPP3]COLLIN(nolign-1)).XSAMO = GZINSOPP.CRM(1).STPSTB([M:OPP3]COLLIN(nolign-1)).snapshot.XSAMO GERR = 1 mkstat = 2 End Else Call SHOW_OPPOR_OPP3([M:OPP3]COLLIN(nolign-1)) From SUBOPPA Endif Affzo [M:OPP3]1-99End \n",
      "\n",
      "\n",
      "I'm having a bit of trouble trying to configure workflow for when the SO is below margin.   Would I need to configure the user assignment/ user assignment rules for SOHSIG?  or can I just use a workflow and check the signature box or do I need to configure both?  I'm trying all different methods but not getting desired results.\n",
      "I already changed the APPFLG to Yes, mandatory on the general parameter screen. \n",
      "follow up question- if the SO is not signed would users not be able to create the shipment?  Or is that another parameter setting someplace.\n",
      "appreciate any help on this topic.\n",
      "thanks!\n",
      "Christine \n",
      "\n",
      "\n",
      "I am trying to set up a .10 cent bottling surcharge / deposit that would be valid only when certain identified products are sold to customers within certain provinces of Canada. This deposit must be non-taxable (although the price of the bottled product itself will be taxable).  it must also be multiplied on the SOH by the ordered qty.   Example :   Product XYZ has a unit price of 10.00 + tx.  The bottling surcharge is .10 cents.\n",
      "If a customer in a certain sprovince where the bottling deposit is applicable orders 2 of these bottles, the amount exc. tax would be 20.20$.  The total amount would be :  (20.00$ + tx) +0.20$\n",
      "Due to the fact that this requirement is product and region specific, i was trying to set it up using the 'deposit\" line within price structures, and creating a price list setup based on ITMREF AND SAT (subdivision which is our case is used as province). However, even though I have checkmarked that the surcharge should be \"price/qty = yes\" it is not multiplying the amount of the deposit (0.10$) by the ordered qty, nor is the deposit appearing in the total.\n",
      "Has anyone been using a different way to configure this type of deposit ?  I have seen someone post that they set it up as a tax, but i am not entirely positive it would hit the same accounts. \n",
      "Please let me know what has worked for you  \n",
      "\n",
      "\n",
      "Hi\n",
      "\n",
      "Does anyone know how to set up the number of dimention types available on AP/AR invoice header/lines?\n",
      "In my case I've 9 dimention types set up in the leadger.\n",
      "\n",
      "However I only have the first three dimention types available in the AP/AR invoices.\n",
      "\n",
      "Any help? \n",
      "\n",
      "\n",
      "Have been asked to set this up. We are happy with the Parameter setup, and have the How to setup EU VAT ID Check document. However we are getting an error in validation - \n",
      "500 Cannot read property '#<Object>' of null\n",
      "I believe this is down to the firewall? Anyone have any instructions on how to set this up? Or the port we need to open on the firewall to get this to work?.\n",
      "\n",
      "Thanks \n",
      "\n",
      "\n",
      "To access this download, log into https://support.na.sage.com/ and in the search field type 102586. Click Search.\n",
      "\n",
      "For a complete list of available Sage X3 full-product downloads and patch updates, see the Sage X3 Download Portal. To access the Sage X3 Download Portal, go to https://support.na.sage.com/, enter your Log on credentials (in upper right corner), and type 23522 in the Search field. Click Search. \n",
      "Important: If you use third-party products that integrate with Sage X3 or ISVs, check with the vendor of your third-party product to ensure their product is fully compatible with this release. If you integrate with other Sage products, check with your business partner or Sage to ensure that these components are compatible. \n",
      "It is highly recommended that you work with a certified partner or Sage Professional Services to install this patch.  \n",
      "Need more help? Visit ourâ€¯Sage City Customer Resourcesâ€¯page for additional resources, including links to support options like Online Case submission, the Sage Knowledgebase, Sage University, and more.\n",
      " \n",
      "\n",
      "\n",
      "When configuring the Application server on the Safe X3 console I am getting error on first step\n",
      "Which says Main runtime configuration\n",
      "\n",
      "\n",
      "\n",
      "\n",
      "On trace tab\n",
      "\n",
      "\n",
      "\n",
      "The error message in the file says\n",
      "CreateService : Erreur 1072\n",
      "\n",
      "How can we resolve this error? \n",
      "\n",
      "\n",
      "We're having some issues with the emails in Sage X3 in that when the user clicks on the 'Accept' or 'Reject' links, the purchase orders are not being signed in Sage.\n",
      "We have the APPPOH parameter set to Yes in parameter values...\n",
      "\n",
      "... and the WRKRMTDIR parameter is set, so the links can create the files needed for approving/rejecting. However, when we click on the links, it doesn't seem to be creating a file in the directory? This has worked before, but for some reason has stopped working recently.\n",
      "Is there anything we should check? The recurring task AWRKSIG is active so should be picking up the files from the folder, but no files look like they are getting created. \n",
      "\n",
      "\n",
      "we have a posted shipment from 2016 that we are trying to invoice today.  I'm in the invoice function and when I select the shipment the product line is not defaulting the detail and the source is displaying as Direct.   I was able to create an invoice for another old shipment from 2015 without an issue however for this one I'm having an issue.   any ideas?  \n",
      "\n",
      "\n",
      "Hello, \n",
      "\n",
      "I'm working on a migration from X3 V11 to V12 and I have the V5/6 to V7 migration guide, but has it ever been updated for later versions?  If so, can you hook me up with it? \n",
      "\n",
      "Thanks, \n",
      "Kory \n",
      "\n",
      "\n",
      "Hello Everyone,\n",
      "I want to create a purchase invoice for the receipts which are having only \"A\" status.\n",
      "For Q and R status receipts system should not allow us to create an Invoice.\n",
      "\n",
      "Just for your reference, I had done the following setups:-\n",
      "Parameter values--> Purchase-->Invoice billable Quantity (parameter set to A)\n",
      "But still, it is not working.\n",
      "I would appreciate if anyone could help.\n",
      "Thanks in advance.\n",
      "\n",
      "Regards,\n",
      "Murugan \n",
      "\n",
      "\n",
      "We have users who are getting this error when trying to export to excel from the landing page:\n",
      "'Forbidden: You don't have the authorization to create an instance of the entity msoExcelReportMode'\n",
      "I\"ve checked the knowledgebase and tried some options although they weren't the same error but not working.   I can export as I have Admin access.\n",
      "All our main users have this security profile.  Is there something here I need to check?  I checked read, write and execute under the Authoring but that didn't work.\n",
      "\n",
      "\n",
      "any ideas?\n",
      "thanks\n",
      "Christine \n",
      "\n",
      "\n",
      "Hi All,\n",
      "For one of our customer we have written a sub program based web service in which we have used standard import export template to create the sales order in the system. The reason behind using the import export template is, we have sales kit product that needs to be exploded when item is selected. It was working fine, but in a particular scenario we are passing 8 different products and in the return XML we get all the 8 products in web service. But when we check the sales order in sales order entry screen it only shows 6 products. If we import it using the import export template under USAGE-> Import export template, it imports all the 8 products however from the web service it is importing only 6 out of 8. If we pass these 8 products for another customer it import all the products. \n",
      "It doesn’t return any error related to the other two products so we are not sure why it is not importing them. \n",
      "Please let us know if there could be some setting related to this. \n",
      "Regards,Dinesh \n",
      "\n",
      "\n",
      "When quotes are created, I would like a \"Call\" to be created which will be used by a sales team to ensure follow up is completed for all quotes. \n",
      "\n",
      "\n",
      "I want to make a few slight mods to  this report however I do not see anyplace in the reports folder.  I see other like reports like FUPSIM, FUPSIMP but not the one noted above.  The crystal report and report dictionary have the same name so I don't understand how Sage is pulling the data when I don't see the report in the reports folder.\n",
      "anyone have any ideas??   We're on V11 and I checked the X3 directory as well as our production and test directories.\n",
      "thanks\n",
      "Christine \n",
      "\n",
      "\n",
      "Hi\n",
      "Do other Business Partners get feedback from users about the inability to do  decent Customer and Supplier inquiries in Sage X3.\n",
      "Our most recent implementation is advising that it is a major step backwards from their previous system.\n",
      "I tend to agree with them, Sage X3 lacks such a basic feature that renders it nearly useless for looking up history on suppliers and customers.\n",
      "\n",
      "Even Sage 300 has a nice screen where I can include \"Fully Paid Transactions\" - can drill down and see the payment that was allocated to the invoice\n",
      "\n",
      "or  look from the payment perspective and see what invoices where paid with a certain payment\n",
      "\n",
      "\n",
      "There is also all these spots in Sage X3 \n",
      "Path: AR accounting > inquiries > invoices \n",
      "Path: AR accounting > inquiries > Payments\n",
      "Path: AR accounting > inquiries > Payments\n",
      "Path: Purchasing > inquiries > invoices \n",
      "Path: AR accounting > inquiries > Supplier Situation   - Only shows unpaid documents\n",
      "Path: AR accounting > inquiries > Supplier aged bal to date - Only shows unpaid documents\n",
      " \n",
      "But believe it or not to get anything sort of resembling anything useful you have to goto \n",
      "Path: Financials > Inquiries > AccountsSelect companyBP - Enter supplier codeDate range\n",
      "Which most Accounts Payable or Account Receivable users wont have access to, and you have to add lots of fields to make this anywhere near useful.\n",
      "\n",
      "Note that in Australia we have now got access to  (V12) but this should not be a report it should be an inquiry screen.\n",
      "Reports>financials>payments>supplier invoice and payment report(SPAYHIS)  which is a lot better than we had previously.\n",
      "\n",
      "Does anyone else have this issue, or have I still just not found the right screen.\n",
      "\n",
      "I would be interested in any other solutions that people may have come up with.\n",
      "\n",
      "Thanks in advance\n",
      "Stacey\n",
      "\n",
      "\n",
      " \n",
      "\n",
      "\n",
      "Hi,\n",
      "\n",
      "I have created a sale invoice element (Amount Based) for sale order, Delivery, Customer, Invoice. After doing all the required transactions, when I open the sale order screen under the invoice tab then it shows me the value type \"%\" instead of tax excluded next to amount column.\n",
      "For the more information Element position, I select for the new element that was earlier dedicated to a percentage-based invoice element. Does this make any effect?\n",
      "\n",
      "I am using SAGE X3, patch 9.04. \n",
      "\n",
      "\n",
      "Can anyone suggest that what role Syracuse plays in SAGE X3? \n",
      "\n",
      "\n",
      "I saw the posts about the parameter setting that would turn on this table being populated, but my parameters say \"no\", yet I'm seeing user transactions populate in this table.  Where are the settings that would prompt user transactions to populate in AESPION? \n",
      "\n",
      "\n",
      "Is there a way to import lines of cycle count with the INV template?\n",
      "It sounds that the template can update qtys but does not allow to import new lines.\n",
      "Or is there any other template to do this?\n",
      "Thanks \n",
      "\n",
      "\n",
      "Hello,\n",
      "I would like to have a calculated field in SOH4.\n",
      "SUM QTY of all the lines in SORDERQ which has the same PJTNUM (opportunity).\n",
      "Not only the lines on the screen. I would like to Sum all the lines from all the Sales Orders.\n",
      "I need to do same with SDELIVERYD.\n",
      "It is to calculate the Balance contract on each line of SOH4. PJTNUM is our contract number. So we know after picking if we are inside *positive balance or outside *negative balance contract.\n",
      "I think I need Liens or Style. I saw some example on sagecity. But I don't understand it really.\n",
      "Any help would be appreciated. \n",
      "\n",
      "\n",
      "Does anybody have any examples of calling X3 web services in V12, particularly the basic auth portion of the call?  The documentation for V9 and later only includes .net, which I already have working. \n",
      "\n",
      "\n",
      "We are using REST APIs to pull data from X3.  We have discovered that each REST call consumes a badge, and also leaves a session open.  This ends up leaving many session open after successful calls, and ends up locking users out of X3.  Does anybody know how to get around this?   \n",
      "\n",
      "\n",
      "To access this download, log into https://support.na.sage.com/ and in the search field type 102966. Click Search.\n",
      "\n",
      "For a complete list of available Sage X3 full-product downloads and patch updates, see the Sage X3 Download Portal. To access the Sage X3 Download Portal, go to https://support.na.sage.com/, enter your Log on credentials (in upper right corner), and type 23522 in the Search field. Click Search. \n",
      "Important: If you use third-party products that integrate with Sage X3 or ISVs, check with the vendor of your third-party product to ensure their product is fully compatible with this release. If you integrate with other Sage products, check with your business partner or Sage to ensure that these components are compatible. \n",
      "It is highly recommended that you work with a certified partner or Sage Professional Services to install this patch.  \n",
      "Need more help? Visit ourâ€¯Sage City Customer Resourcesâ€¯page for additional resources, including links to support options like Online Case submission, the Sage Knowledgebase, Sage University, and more.\n",
      " \n",
      "\n",
      "\n",
      "During the upgrade of a customer from pu8 to v12.0.18, I receive the following error:\n",
      "Write STOLOTFCYPIT. Error = 3\n",
      "It is repeated over and over for about 2500 pages until the report maxes out. I found one article on the Knowledgebase with prerequisites, which I believe I've followed. It is KB 97574, How to run UTIPIT after upgrade. The General Parameters are set, the VLT activity code is active. I've left only one fiscal period open for each company. \n",
      "Has anyone encountered this and figured out what it means?  \n",
      "\n",
      "\n",
      "On the purchase orders screen, I have created a new checkbox field.\n",
      "When I create a new order record, if I type in the order lines block first and then after I try to uncheck the checkbox, the checkbox gets checked again the first time.\n",
      "If I uncheck the box before entering the lines, it doesn't do this?\n",
      "Why would this be? See issue below...\n",
      " \n",
      "\n",
      "\n",
      "I'm experimenting with Open Orders for purchasing. In the pic below, you can see that the full amount has been received and invoiced. However, the Open Order remains...open. I'm not sure if this is by design or not? I'd like for fully handled orders to be closed, so that I can effectively use inquiries.\n",
      "\n",
      " \n",
      "\n",
      "\n",
      "Hello, we have the requirement to allow negative NET pricing on certain lines on Sales Orders, Deliveries and Invoices without using the discount fields. I've been able to enter a negative amount on the GROSS price for a line item, but then Sage makes that line item's NET price zero instead of allowing the negative. Is there an option to turn this off somewhere, and allow the negative to carry through to the NET? The overall net of the document will always still be positive, just the single line item needs to be negative. \n",
      "\n",
      "\n",
      "Hello, \n",
      "I'm looking for the upgrade script that checks activity codes for an upgrade to V12.  I have heard of a script called XTOV12ACTRM but don't know where to find it.  If anyone knows about this script please let me know.  \n",
      "\n",
      "\n",
      "Hi\n",
      "We have upgraded a client from 6.5 to V12 Sage x3.\n",
      "All the Visual process flows work but the customised icons are missing.\n",
      "We located the folder and moved it but does anyone have the other steps required to make this icons visible or will I need to edit every visual process flow.\n",
      "\n",
      "Thanks\n",
      "Stacey \n",
      "\n",
      "\n",
      "In December, a receipt was vouched.  The purchase price is $25 too high.  This wasn't caught until now and the prior periods are all closed so I can't do an accounting cancellation to modify the invoice.  What can I do to remove the right amount from cash? \n",
      "\n",
      "\n",
      "I am getting the following error when i try to delete this copy endpoint. Can somebody explain what this error message means? \n",
      "\n",
      "\n",
      "Hi.\n",
      "I'm developing a C# application that interfaces with X3 via web services.\n",
      "\n",
      "Now I need to call a procedure (via web service) that will use an import template, but I'll pass a path of a file stored locally on the client computer.\n",
      "\n",
      "Is there a way to use IMPORTSIL with a local file instead of a file located on the endpoint?\n",
      "\n",
      "The same way you do when imports a file from X3:\n",
      "\n",
      "\n",
      "Thanks. \n",
      "\n",
      "\n",
      "Is there a way to cap the MRP qty increase suggested? If I have 2 firm work orders for 4000 each to satisfy the demand from a sales order line of 8000, all on same date, MRP is suggesting increase the first work order to 8000 and cancel the second. We have a work order limitation of 4000 max for the shop floors. \n",
      "\n",
      "\n",
      "Dear Sagians,\n",
      "Is there any way to send an automatic mail with respective pdf attachment in sales order. The mail should sent automatically when the sales order completely approve.\n",
      "Thanks In Advance,Shereef N \n",
      "\n",
      "\n",
      "Hello guys,\n",
      "We are in process of an upgrade from Sage X3 V11 to V12. The solution is already upgraded to V12 but the folders are not.We now following the steps here for the folder upgrade.http://online-help.sageerpx3.com/erp/12/staticpost/folder-upgrade-2/\n",
      "Here's what we did:Import the folder in management console(V11), then validate the folder again.We can see the release of the folder already upgraded but the folder version still in V11. We also tried another method:Create a new folder in V12 then reintegrate the SVG from V11 data extraction, then do the validation again.This result in an error for the view not found in some xml file.Any help on this would be much appreciated. \n",
      "\n",
      "\n",
      "To access this download, log into https://support.na.sage.com/ and in the search field type 103651. Click Search.\n",
      "For a complete list of available Sage X3 full-product downloads and patch updates, see the Sage X3 Download Portal. To access the Sage X3 Download Portal, go to https://support.na.sage.com/, enter your Log on credentials (in upper right corner), and type 23522 in the Search field. Click Search. \n",
      "Important: If you use third-party products that integrate with Sage X3 or ISVs, check with the vendor of your third-party product to ensure their product is fully compatible with this release. If you integrate with other Sage products, check with your business partner or Sage to ensure that these components are compatible. \n",
      "It is highly recommended that you work with a certified partner or Sage Professional Services to install this patch.  \n",
      "Need more help?  Visit ourâ€¯Sage City Customer Resourcesâ€¯page for additional resources, including links to support options like Online Case submission, the Sage Knowledgebase, Sage University, and more. \n",
      "\n",
      "\n",
      "To access this download, log into https://support.na.sage.com/ and in the search field type 103689. Click Search.\n",
      "For a complete list of available Sage X3 full-product downloads and patch updates, see the Sage X3 Download Portal. To access the Sage X3 Download Portal, go to https://support.na.sage.com/, enter your Log on credentials (in upper right corner), and type 23522 in the Search field. Click Search. \n",
      "Important: If you use third-party products that integrate with Sage X3 or ISVs, check with the vendor of your third-party product to ensure their product is fully compatible with this release. If you integrate with other Sage products, check with your business partner or Sage to ensure that these components are compatible. \n",
      "It is highly recommended that you work with a certified partner or Sage Professional Services to install this patch.  \n",
      "Need more help? Visit ourâ€¯Sage City Customer Resourcesâ€¯page for additional resources, including links to support options like Online Case submission, the Sage Knowledgebase, Sage University, and more. \n",
      "\n",
      "\n",
      "\n",
      "Hi\n",
      "Is it possible to prevent duplicate lines on a sales order? (duplication on Product (ITMREF)).  Can you use control tables for this, and if yes how?\n",
      "I am looking forward to your response.\n",
      "\n",
      "\n",
      "\n",
      "\n",
      "\n",
      "\n",
      " \n",
      "\n",
      "\n",
      "Hello,\n",
      "I know that SBCEM product versions have 3 lifecycle stages, can anyone tells me where can I see the information about the lifecycle for each version? \n",
      "At this moment I want to know wich stage is Version 9, and until when SAGE will be able to give support? \n",
      "Thanks\n",
      "BestRegards\n",
      "Sílvia Santos \n",
      "\n",
      "\n",
      "Good day\n",
      "Is it possible to calculate the purchase price in Sage X3 based on requested delivery date and not on order date? \n",
      "\n",
      "\n",
      "I am not very familiar with workflow functionality in SAGE - is it possible to set up so, that user is able to delegate invoice to another employee for confirmation/validation? \n",
      "\n",
      "\n",
      "Hi, \n",
      "At the moment when a sales invoice is found to be incorrect after it has been posted, we have to create a credit note for the whole invoice and then re-create then invoice from scratch. \n",
      "This has a few problems but in terms of resource, for invoices with over 50 lines, it can be very time consuming. I can't see an obvious solution to create a new invoice from the existing invoice as a draft/template. This seems very basic but not obvious.\n",
      "Any idea's?\n",
      "I can also live with downloading the csv, editting it and uploading it but again this is not obvious. \n",
      "Any help appreciated.\n",
      "Raj  \n",
      "\n",
      "\n",
      "We are looking to use this function in V11 however I don't see it on the ADMIN menu.  I'm able to access if I use F7 however do not see it displayed as it is in V6 : setup-ap/ar accounting-reminder-reminder charges\n",
      "has this function been changed?  Can anyone advise on this function as we would like to use and I cannot find any information on it.\n",
      "thanks\n",
      "C \n",
      "\n",
      "\n",
      "Hi,\n",
      "I Created a supplier BP Invoice, in the Pay Approval field I try to change from \"Pending\" to \"Authorized to Pay\"  system alerts an error message.\n",
      "\n",
      "\n",
      "\n",
      "I tried to update the status from \"Pending\" to \"Authorized to Pay\"  in the open item management display the same error message.\n",
      "\n",
      "Any advice, Thanks for your help. \n",
      "\n",
      "\n",
      "I'm new as Sage developer for accounting. I've taken sample reference from github.\n",
      "I'm missing file \"access_token.yml\", any idea how to configure this file? or where to get it from?\n",
      "I've API key and app credentials, which is updated in client_application.yml file already. \n",
      "\n",
      "\n",
      "I'm new to Sage PHP development.\n",
      "Can some one help me with template of access_token.yml file? \n",
      "I've APK key, and app credentials.\n",
      "Appreciate help in this matter. \n",
      "\n",
      "\n",
      "Hi,\n",
      "Purchase Invoice generated from Purchase Order, their's no Purchase Receipt concept.\n",
      "V12 - Created a Purchase Order for a Supplier A with 10 Qty (only one line item) and Raise the Purchase Invoice for the 0.20 Qty. Invoice is not posted. Again when I try to create a new invoice for the same purchase order and the remaining Qty 9.80 system alerts the pop message \"Previous Invoice not posted\". \n",
      "V6.5 -  Above concept works.\n",
      "Any Parameters or Settings missing. Please advise and thanks for your support. \n",
      "\n",
      "\n",
      "I am wondering if its possible to have the crystal report print based on what destination is selected.  Meaning I want to modify the report to print section if EXCEL is selected or another section if PDF is selected.   Is this possible? \n",
      "any info is appreciated.\n",
      "thanks\n",
      "Christine \n",
      "\n",
      "\n",
      "hi,\n",
      "How can I have a crystal report batch job automatically default the parameters to the current date?   As is now we have to manually change the task management every date to change the date range but we would like for the report to run automatically with the current date.  would I have to change the crystal report to point to 'currendate' parameter? \n",
      "would the job run then for each day?\n",
      "the report is a daily sales report that we want to send via email for each days sales order entries.\n",
      "hope i'm explaining this clear.\n",
      "any help is appreciated! thanks\n",
      "Christine\n",
      "\n",
      " \n",
      "\n",
      "\n",
      "Hi all,\n",
      "\n",
      "I am trying to create new SOH records using Soap Web service protocol but I notice that my specific object actions are not executed.\n",
      "I insert my Specific code as usual at SPESOH.\n",
      "\n",
      "When I create a new Sales order with a web interface, all my specific object actions are executed normally.\n",
      "\n",
      "Is there a particular setting to be done?\n",
      "\n",
      "Thanks for your replay \n",
      "\n",
      "\n",
      "Hi all,\n",
      "\n",
      "Is there any native mobile app (not web app) for sage X3? We would like to create sales orders using a mobile app for better UX.\n",
      "\n",
      "Thanks \n",
      "\n",
      "\n",
      "Hi\n",
      "In Payment / Receipt Entry, the \"Payment\" is created. When i click \"Post\"  button and enter the \"Value\" date  to create a journal entry but the payment journal entry is not created. giving following error.\n",
      "\n",
      "X3 application error\n",
      "Table: GACCTMPD [DAE]\n",
      "Key: AUREC*******\n",
      "Record Already Exists\n",
      "Transaction stopped.\n",
      "\n",
      "\n",
      "\n",
      "Thanks for your help and support. \n",
      "\n",
      "\n",
      "HelloI have to publish via syracuse some files present in a folder of the dossier (ATT folder). Nobody can tell me if there is a url, even dynamically created, that allows me to reach that document via browser? thanks \n",
      "\n",
      "\n",
      "I would like to copy a sale order (erase number) but also would like to change the order type.\n",
      "Anyone has done this\n",
      "\n",
      "Thanks \n",
      "\n",
      "\n",
      "I am trying to create a delivery with more than 100 lines and it is throwing an error message that says Error 8 : Index Incorrect ITMREF(100). Anybody have any ideas what this means? I checked the activity code, and it is set to have a max of 300 lines. \n",
      "\n",
      "Thanks,\n",
      "Chris \n",
      "\n",
      "\n",
      "To access this download, log into https://support.na.sage.com/ and in the search field type 104316. Click Search.\n",
      "For a complete list of available Sage X3 full-product downloads and patch updates, see the Sage X3 Download Portal. To access the Sage X3 Download Portal, go to https://support.na.sage.com/, enter your Log on credentials (in upper right corner), and type 23522 in the Search field. Click Search.\n",
      "Important: If you use third-party products that integrate with Sage X3 or ISVs, check with the vendor of your third-party product to ensure their product is fully compatible with this release. If you integrate with other Sage products, check with your business partner or Sage to ensure that these components are compatible.\n",
      "It is highly recommended that you work with a certified partner or Sage Professional Services to install this patch.\n",
      "Need more help? Visit ourâ€¯Sage City Customer Resourcesâ€¯page for additional resources, including links to support options like Online Case submission, the Sage Knowledgebase, Sage University, and more. \n",
      "\n",
      "\n",
      "HI guys, i'm new in this forum and i'm also a beginner in SAGE.A Client ask me to link X3 manufacture module with a your MES software.\n",
      "I think to operate in this mode:\n",
      "Use an Import Schedulate process.\n",
      "Make a frontier table.\n",
      "Create a file from new table, lunch a script to import files.\n",
      "What are the default Import Settings, to Import Production order progress? \n",
      "\n",
      "\n",
      "Hi,\n",
      "We are frequently having the File Lock Error error, attached image above the most recent.What could be the measures to determine the origin and any corrective measures.\n",
      "\n",
      " \n",
      "\n",
      "\n",
      "Hi,\n",
      "We need to block customer operations:\n",
      "\n",
      "Block the creation of new orders.\n",
      "Block the creation of deliveries of already created orders\n",
      "Block the creation of new Invoice from already created orders\n",
      "\n",
      "but on the other hand, we want to allow the creation of receipts.\n",
      "So, we use Credit Control and set it on \"HOLD\".\n",
      "But the existing sales orders are not blocked! \n",
      "How can we block them massively based on the new parameter??\n",
      " \n",
      "\n",
      "\n",
      "We are using X3 version 11.  I have been invoicing and posting for the same customer without issue until today.  Now I am unable to post any new invoices.  Seems to be with just this customer though.  Error message just says \"Unbalanced Journal Legal    Rollback following error in transaction\".  Note:  These are direct invoices and are not tied to actual shipments.  Any ideas on how I can fix this and how it occurred to prevent it from happening again?  Any help is appreciated!  Thanks. \n",
      "\n",
      "\n",
      "I am using Sage X3 v12 raising invoices using the Sales - Invoices function and making use of the intercompany account mapping function so that when we raise  sales invoice it automatically raises a purchase invoice.\n",
      "This is working fine except the date of the purchase invoice appears to default to the date of entry rather than the accounting date of the sales invoice. This obviously causes an issue if the sales invoice is raised after a month end, say 15th April, but dated 31st March. The sales invoice gets posted in to March but without manually amending the date on the purchase invoice it gets posted in to April.\n",
      "Is there a way of making the two transactions have the same accounting date?\n",
      "Thanks in advance. \n",
      "\n",
      "\n",
      "I found this great little command, delfile, for deleting files programaticaly from the X3 folders.\n",
      "I am in V12 Patch 20.\n",
      "I can run the command in the calculator and it works.\n",
      "When i tried to compile it using Eclipse... the source will not compile because it is \" Unknown Instruction; Illegal character.\"   I tried from process editor... same thing.\n",
      "So how can a command work in the calculator, but not be recognized by the runtime to be compiled?  Was it deprecated?\n",
      "\n",
      "Alternatively...  what are people using as a replacement since this command doesn't work?\n",
      "Test Case - place a file in your TRT directory,   TEST.txt for instance, then run Delfile(filpath(\"TRT\",\"TEST\",\"txt\",0))  in the calculator.thank you \n",
      "\n",
      "\n",
      "Hi,\n",
      "\n",
      "I encountered error messages \"Unbalanced distribution 2 (Line 2) (25)\" while importing a journal entry.\n",
      "Any ideas?\n",
      "\n",
      "  \n",
      "\n",
      "\n",
      "I have a sales order that has multiple lots allocated to the first SOQLIN. \n",
      "When i try to create a delivery via importing it, it is creating the delivery for one of the lots, and leaving the other lot allocated to the sales order. \n",
      "For example, if i have 40 units allocated to lot ABC and 20 units of lot DEF allocated for product TEST on the sales order. \n",
      "When I go to create the delivery, even if i say the total units for the delivery is 60 in the import, it would only take the units of 40 on lot ABC and apply it to the delivery, and then change the delivery quantity from 60 to 40 upon creation of the delivery. \n",
      "The 20 units from lot DEF is just sitting on the sales order waiting for a delivery to be created. \n",
      "Is this normal functionality of sage x3 for the sdh import to not account for multiple lots allocated to the sales order?\n",
      "I am currently using V11, Patch 14. \n",
      "Thanks,\n",
      "Chris  \n",
      "\n",
      "\n",
      "Hello,\n",
      "\n",
      "Does anyone knows what is the \"Filtered Entries\", Which comes as a line at the bottom of the report when export Finance --> Inquiries --> Accounts.\n",
      " \n",
      "\n",
      "Regards,\n",
      "Eranda \n",
      "\n",
      "\n",
      "To access this download, log into https://support.na.sage.com/ and in the search field type 104543. Click Search.\n",
      "\n",
      "For a complete list of available Sage X3 full-product downloads and patch updates, see the Sage X3 Download Portal. To access the Sage X3 Download Portal, go to https://support.na.sage.com/, enter your Log on credentials (in upper right corner), and type 23522 in the Search field. Click Search. \n",
      "Important: If you use third-party products that integrate with Sage X3 or ISVs, check with the vendor of your third-party product to ensure their product is fully compatible with this release. If you integrate with other Sage products, check with your business partner or Sage to ensure that these components are compatible. \n",
      "It is highly recommended that you work with a certified partner or Sage Professional Services to install this patch.  \n",
      "Need more help? Visit ourâ€¯Sage City Customer Resourcesâ€¯page for additional resources, including links to support options like Online Case submission, the Sage Knowledgebase, Sage University, and more. \n",
      " \n",
      "\n",
      "\n",
      "Can anyone advise what Yes-Optional selection means for this parameter?   It appears with this setting the quote will always be automatically approved- is this correct?\n",
      "would it be possible to have a signature required based on the conditions on the workflow?  Meaning- I only want approvals on quotes that are below 10% margin.   is that possible or would it be every quote would need approval? \n",
      "thanks\n",
      "c \n",
      "\n",
      "\n",
      "We are running v12; P18.  I would like users to be able to add attachments (under paperclip; like a text note) to an existing record (like sales orders; GESSOH) but what X3 rights are associated with this ability (to add an attachment)?  I assume the users need modify rights to GESSOH?  I do not want to give these users modify rights so if this is the answer; if anyone has a workaround - please advise.  Thanks in advance! \n",
      "\n",
      "\n",
      "Hi everyone,\n",
      " \n",
      "we have a situation with a customer that as a discrepency between the BPs Credit level total and the accounting balance.\n",
      "The crdit level total (from BPs -> Customer -> Management tab) shows a negative $7,413.54 amount\n",
      " \n",
      "Calculation details shows this:\n",
      "\n",
      "However, the accounting balance shows a positive balance of $159.53 CAD\n",
      "\n",
      " \n",
      "We have gone through every possible out of the box steps like the Account balance resync and the BP balances resync in succession. The credit level gets corrected, but it always come back to that large amount present in the first two screen caps. \n",
      "\n",
      "Any clues what could be causing this? \n",
      "\n",
      "\n",
      "Does anybody experience extreme slowness after application reboot on the Sage X3 front end?\n",
      "\n",
      "After every reboot, the system becomes very slow the next day.\n",
      "\n",
      "Any suggestions? \n",
      "\n",
      "\n",
      "Hi,\n",
      "I cannot set the item's Sales Unit when I register an order via SOAP.\n",
      "The POST request sends something like:...SAU: \"UN\",QTY: \"\",SAUSTUCOE: \"1\",STU: \"UN\",...\n",
      "But the order resets to the standard \"PCT\" sales unit.\n",
      "can anybody help me? \n",
      "\n",
      "\n",
      "I am looking to see if anyone is running X3 on Oracle 19c.  If so, were there any caveats to this? For example, did database compatibility settings come into play? \n",
      "\n",
      "\n",
      "we need to allocate specific version of products to order. \n",
      "2 Active versions\n",
      "Ex SKU1  qty 1 version A in stock\n",
      "     SKU2 qty 1 Version B in stock\n",
      "\n",
      "If I placed a customer order for SKU1 Version A for qty 2 , in any case I would like Sage to allocate Only Version A and leave 1 in Shortage. oth versions are active\n",
      "How can I do this?\n",
      "Versioin 11.9\n",
      "\n",
      "Thanks \n",
      "\n",
      "\n",
      "any know if there is a how to guide on this function?  I can't seem to locate any information and I'd like to know how it works.\n",
      "thanks\n",
      "c \n",
      "\n",
      "\n",
      "How can I show a quote in a string?\n",
      "I am not looking for answer like you can have a single quote and then the quotes inside the single quotes.\n",
      "Is there a 4GL command that will add a \" into a string without ending the string\n",
      "In java, we would put \\\" and it will not end the string. \n",
      "Example:\n",
      "local char test\n",
      "test = \"hello! mike said the following quote \"dsfsdfs\" \"\n",
      "in java, it would be written like this:\n",
      "test =  \"hello! mike said the following quote \\\"dsfsdfs \\\" \"\n",
      "\n",
      "Thanks!\n",
      "Chris  \n",
      "\n",
      "\n",
      "Hello,\n",
      "\n",
      "Does anyone have access to an HTG for 1099 processing?  There is one referenced on adonixhelp.com but it is not attached to the KB article.\n",
      "  I did check the year end processing Kroger feedback talktosonic talktowendys HTG but it doesn't seem to reference 1099s. \n",
      "\n",
      "thanks\n",
      "iosman \n",
      "\n",
      "\n",
      "Hello,\n",
      "\n",
      "Is there a parameter or allocation rule which controls the allocation of product built and sent to inventory from the Production Plan function so that product does not get auto allocated to a work order?\n",
      "\n",
      "thanks\n",
      "iosman \n",
      "\n",
      "\n",
      "Hi \n",
      "Is anyone using the Sage X3 STREAM Implementation Methodology toolkit .\n",
      "I am having trouble finding out information on it and checking out some samples before purchasing.\n",
      "\n",
      "Does anyone have any feedback on it \n",
      "\n",
      "\n",
      "So, I have a couple of V12.0.21 folders in a test environment, one of which I created by importing other data. (I think I originally imported it in 9.0.3, then upgraded them all to 12.) In the one I imported, one one process in particular process I get an error, \"Variable Non-existent GLONTAC\". In my other folder, I don't get the error. In each folder's TRT folder, there is a file named WWGLOBLON. In the folder that has the error - it is missing what looks like a variable declaration for GLONTAC. The folder that works has it, and it looks like this: \n",
      "Global Shortint GLONTAC : # Project task TACGLONTAC = 15\n",
      "\n",
      "I assume that some setting or activity code somewhere would enable this, but I don't know specifically what that would be. I also can't figure out what regenerates this file. Other WWGLOB* files seem to be regenerated with a dictionary validation, but this one doesn't. (So if I did change the setting, I'm not sure it would take.)\n",
      "\n",
      "There is an article in the online help that refers to WWGLOBON, but I need to be able to run an archive generation, but that option no longer works as-of V12 patch 20.\n",
      "\n",
      "Just curious to know if anyone had seen this, and if anything can be done.\n",
      "\n",
      "\n",
      " \n",
      "\n",
      "\n",
      "We are working with a 3rd party to integrate with X3 V12.  The 3rd party is not able to use basic authentication with pre-emptive authentication, which is required to call X3 SOAP web services.  Does anybody know a way around this, so pre-emptive authentication is not required to call X3 web services? \n",
      "\n",
      "\n",
      "Hello All!\n",
      "I have some code that imports a text file to generate an inter-site purchase order. I am getting an error for every line that is \"Inter-site: No product-site found, for the possible receipt sites!\". When I import the file through the Usage>Imports (GIMPOBJ) function the file imports without any errors and creates the purchase order perfectly because I do have the Product-Site records setup. We are using version 9.0.3. I was wondering if the problem is in my code or if there is a difference between the IMPORTSIL subprogram and the GIMPOBJ function that would cause this error?\n",
      "If !GSERVEUR Call OUVRE_TRACE(\"Import file\") From LECFIC Endif Link [ITM] With [ITF]ITF0 ~= [ITM]ITMREF;[M:ZPT0]STOFCY, [ITV]ITV0 ~= [ITM]ITMREF;[M:ZPT0]STOFCY As [ZITMS] Local Char CRITERE(250) Local Char AMOUNT(30) Local Char SEQCODE(30) Local Char MESSAGE(250) Local Integer STAT Local Integer COUNT Local Integer ZOK ZOK = 0 COUNT = 0 Openo filpath(\"TMP\",\"PACKAGINGREORDER\",\"txt\"),-1 Using [ABBR] Iomode adxifs \";\" Using [ABBR] Iomode adxirs chr$(13)+chr$(10) Using [ABBR]\n",
      "Call NUMERO(\"NAPOH\",[M:ZPT0]STOFCY,date$,\"null\",SEQCODE,STAT) From SUBANM Wrseq \"E\", [M:ZPT0]STOFCY, SEQCODE, date$, \"S003\",\"\",\"USD\",\"\",\"\",\"\",\"\" Using [ABBR]\n",
      "CRITERE = \"1=1\"\n",
      "If [M:ZPT0]STOFCY <> \"\" CRITERE += \" & [F:ITF]STOFCY = [M:ZPT0]STOFCY\" CRITERE += \" & [F:ITV]STOFCY = [M:ZPT0]STOFCY\" Endif\n",
      "Filter [ZITMS] Where evalue(CRITERE) For [ZITMS] If [F:ITV]PHYSTO+[F:ITV]CTLSTO+[F:ITV]REJSTO < [F:ITF]REOTSD AMOUNT = num$([F:ITF]MAXSTO - [F:ITF]REOTSD) Wrseq \"L\", [F:ITF]ITMREF, [F:ITM]ITMDES1, [M:ZPT0]STOFCY, [F:ITM]STU, AMOUNT, date$, [F:ITM]PURBASPRI,\"0\",\"0\",\"0\",\"\",\"\",\"\" Using [ABBR] COUNT += 1 Endif Next Filter [ZITMS] Openo Using [ABBR]\n",
      "If COUNT > 0 If clalev([M:IMP2])=0 : Local Mask IMPOBJ2 [IMP2] : Endif Raz [M:IMP2] [M:IMP2]MODIMP = \"ZPOH\" [M:IMP2]NOMIMP = filpath(\"TMP\",\"PACKAGINGREORDER\",\"txt\") [M:IMP2]TYPEXP = 2 Call IMPORTSIL([M:IMP2]MODIMP, [M:IMP2]NOMIMP) From GIMPOBJ Call ERR_IMPORT([M:IMP2]STAT,MESSAGE) From GIMPOBJ If [M:IMP2]STAT or GOK<1 ZOK = 1 Else ZOK = 0 Endif If clalev([M:IMP2])=1 : Close Local Mask [IMP2] : Endif Endif\n",
      "If !GSERVEUR Call FERME_TRACE From LECFIC If ZOK=1 Call LEC_TRACE From LECFIC Endif Endif\n",
      "\n",
      "Thanks for any responses! \n",
      "\n",
      "\n",
      "Hi Im doing a soap webservice call to object SIH that i published. Im entering the price (GROPRI)in the line of the sales invoice, but the webservice is defaulting the price to zero. I have no price lists and when i go to the saved invoice and check the price explanation it says standard price. All my standard prices are zero. If i go to the general parameters and disallow null prices: SIVNULL =NO , then i get an error saying null prices not allowed and the invoice doesnt save. Why doesnt the webservice pick up the GROPRI that im passing?(im searching for entry points, but i wanted to do all in one go)\n",
      "Code:\n",
      "Subprog CRE_INV(ZSFNUM)Local INTEGER ZLIN GBATCH = 1  GSERVEUR = 1\n",
      "If clalev ([F:ZSIH]) = 0 : Local File ZSIHFORCE[F:ZSIH] : EndifIf clalev ([F:ZSID]) = 0 : Local File ZSIDFORCE[F:ZSID] : EndifIf clalev ([F:ZSIU]) = 0 : Local File ZSIHFORCE[F:ZSIU] : Endif\n",
      "FOR [F:ZSIH] WHERE [F:ZSIH]INVREF = ZSFNUM if [F:ZSIH]STA = 1 Update [F:ZSIU] Where [F:ZSIU]INVREF = [F:ZSIH]INVREF With [F:ZSIU]STA = 6  ZLIN = 0 Gosub DEFVAR From WJZSIH Onerrgo ERREURWS From WJZSIH Gosub INITMAJ From WJZSIH\n",
      "WW_ACTION = \"CREATE\"\n",
      "SALFCY_A = [F:ZSIH]SALFCY SIVTYP_A = [F:ZSIH]SIVTYP INVREF_A = [F:ZSIH]INVREF INVDAT_A = [F:ZSIH]ACCDAT BPCINV_A = [F:ZSIH]BPCINV CUR_A = [F:ZSIH]CUR PTE_A = [F:ZSIH]PTE\n",
      "FOR [F:ZSID] WHERE [F:ZSID]INVREF = [F:ZSIH]INVREF ITMREF_3(ZLIN) = [F:ZSID]ITMREF QTY_3(ZLIN) = [F:ZSID]QTY VACITM1_3(ZLIN) = \"NIL\" ITMDES_3(ZLIN) = [F:ZSID]ITMDES ITMDES1_3(ZLIN) = [F:ZSID]ITMDES SAU_3(ZLIN) = [F:ZSID]SAU GROPRI_3(ZLIN) = [F:ZSID]GROPRI #CPRPRI_3(ZLIN) = [F:ZSID]GROPRI #NETPRI_3(ZLIN) = [F:ZSID]GROPRI DISCRGVAL1_3(ZLIN) = [F:ZSID]DISCRGVAL1 DISCRGVAL2_3(ZLIN) = [F:ZSID]DISCRGVAL2 DISCRGVAL3_3(ZLIN) = [F:ZSID]DISCRGVAL3\n",
      "ZLIN = ZLIN + 1 NEXT NBLIG_3 = ZLIN\n",
      " Gosub WEBSERV From WJZSIH\n",
      " If NUM_A = ''\n",
      "ZERROR = '' For X = 1 To len(WW_MESS) If WW_MESS(X) \"\" : ZERROR -= WW_MESS(X) : Endif Next #INFBOX \"ERROR MESSAGE - \" + [F:ZSIH]INVREF Update [F:ZSIU] Where [F:ZSIU]INVREF = [F:ZSIH]INVREF With [F:ZSIU]STA = 5, [F:ZSIU]STATEXT = ZERROR Call ECR_TRACE(\"Error Creating Sales invoice for reference \" + INVREF_A,1) From GESECRAN Gosub ANALRESOBJ From WJZSIH Else Update [F:ZSIU] Where [F:ZSIU]INVREF = [F:ZSIH]INVREF With [F:ZSIU]NUM = NUM_A, [F:ZSIU]STATEXT = '', [F:ZSIU]STA = 2  Call ECR_TRACE(\"Sales Invoice created \" + NUM_A + \" - \" + NUM$(TIME$) ,0) From GESECRAN Gosub ANALRESOBJ From WJZSIH EndifendifNEXT\n",
      "If clalev ([F:ZSIH]) 0 : CLOSE Local File [F:ZSIH] : EndifIf clalev ([F:ZSID]) 0 : CLOSE Local File [F:ZSID] : EndifIf clalev ([F:ZSIU]) 0 : CLOSE Local File [F:ZSIU] : Endif\n",
      "GBATCH = 0 # Batch set to no GSERVEUR = 0END \n",
      "\n",
      "\n",
      "Has anybody put the stock valuation report (FUNSTVA) on the batch server. \n",
      "I was wondering what the file box is used for and if somebody could give me an example path so I have an idea of what would go in there.  \n",
      "\n",
      "\n",
      "Hi,\n",
      "We are doing sage x3 migration from V7 to V12. We have successfully imported and validated the folder in to V12 before validation we truncate the APLLCK table. Then created the Plan from sequencing monitor to launch the script, the plan goes smoothly till the code “UUMGTRTPURO6” and after that it stopped working and displayed all the codes in pending status. Also, even after re-launching the same, the plan is not proceed further and we suspended that plan and created new one. But in the new plan the module which are already succeeded in previous plan are completed with error and some of the module like “Normal Order His.”, “Purchase Request” and “Normal Order” are still showing in process status even though the record of those module/screen is already been fetched in tables in previous plan and now the script is got stuck and not going further.\n",
      "Kindly suggest what we can do further. We have also validate the folder second time.\n",
      " \n",
      "\n",
      "\n",
      "To access this download, log into https://support.na.sage.com/ and in the search field type 105063. Click Search.\n",
      "For a complete list of available Sage X3 full-product downloads and patch updates, see the Sage X3 Download Portal. To access the Sage X3 Download Portal, go to https://support.na.sage.com/, enter your Log on credentials (in upper right corner), and type 23522 in the Search field. Click Search.\n",
      "Important: If you use third-party products that integrate with Sage X3 or ISVs, check with the vendor of your third-party product to ensure their product is fully compatible with this release. If you integrate with other Sage products, check with your business partner or Sage to ensure that these components are compatible.\n",
      "It is highly recommended that you work with a certified partner or Sage Professional Services to install this patch.\n",
      "Need more help? Visit ourâ€¯Sage City Customer Resourcesâ€¯page for additional resources, including links to support options like Online Case submission, the Sage Knowledgebase, Sage University, and more. \n",
      "\n",
      "\n",
      "To access this download, log into https://support.na.sage.com/ and in the search field type 105114. Click Search.\n",
      "\n",
      "For a complete list of available Sage X3 full-product downloads and patch updates, see the Sage X3 Download Portal. To access the Sage X3 Download Portal, go to https://support.na.sage.com/, enter your Log on credentials (in upper right corner), and type 23522 in the Search field. Click Search. \n",
      "Important: If you use third-party products that integrate with Sage X3 or ISVs, check with the vendor of your third-party product to ensure their product is fully compatible with this release. If you integrate with other Sage products, check with your business partner or Sage to ensure that these components are compatible. \n",
      "It is highly recommended that you work with a certified partner or Sage Professional Services to install this patch.  \n",
      "Need more help? Visit ourâ€¯Sage City Customer Resourcesâ€¯page for additional resources, including links to support options like Online Case submission, the Sage Knowledgebase, Sage University, and more.\n",
      " \n",
      "\n",
      "\n",
      "This is sort of different than another thread on null web service messaging, maybe they're related, I'm not sure. My issue is that in V9, when submitting a sales order via web services, if there was an error, the resultxml messages array would have helpful messages as to why the order didn't succeed.\n",
      "\n",
      "This is 9.0.3.\n",
      "\n",
      "In 12.0.21, that helpful message is gone, and all I get (essentially) is that it can't handle popups in web services. (Sorry about the picture, the text doesn't wrap.)\n",
      "\n",
      "\n",
      "Has anyone encountered this, and if so can it be returned to the way it was? Do I need to do something differently to get those better messages back?\n",
      "Thanks.\n",
      "\n",
      " \n",
      "\n",
      "\n",
      "Hi guys.\n",
      "I'm developing a map that aggregates a series of data by article (i.e. to the sum of the quantities in order).\n",
      "On the row I have a series of button actions, I would like to call consultations (created by GESALH) to show a details of data.\n",
      "at runtime I wish I could change the name of the consultation and pass the ITMREF parameter.\n",
      "\n",
      "Tks \n",
      "\n",
      "\n",
      "I need to create a process for generating debit notes in X3\n",
      "I already researched the system's help and I didn't find anything conclusive.\n",
      "As everyone knows, the debit note increases the value of an operation.\n",
      "I need to link a debit note to a sales or purchase invoice.\n",
      "Same as the credit note process that the system does the reconciliation automatically.\n",
      "I wonder if anyone has already done this process in the system?\n",
      "\n",
      "Emir Nelson \n",
      "\n",
      "\n",
      "In Classic X3 you can check every function that is being entered via the EXEFNC entry point. Is something similar possible with Syracuse (Representations)? \n",
      "\n",
      "\n",
      "Could anyone please let me know how register sage.com the customer portal.   \n",
      "Thanks\n",
      "\n",
      " \n",
      "\n",
      "\n",
      "www.sagecity.com/.../3441.The-error-comes-from-when-I-pull-313-lines-of-Purchase-Receive-line-items-to-purchase-invoice.pdf \n",
      "\n",
      "\n",
      "Why cant sage handle LIKE in the views? Has anybody found a way around this? \n",
      "\n",
      "\n",
      "I am using the same Product on multiple lines on a Purchase Invoice in V11.\n",
      "The Accounting Document groups this as one line (which is logical as the Products link to the same G/L Account).\n",
      "Is there a setting (Parameters, Screen, Accounting interface, etc) that will allow the Accounting Document to show the same number of lines as the Purchase invoice?\n",
      "A many-to-many relationship if you will, instead of a many-to-one.\n",
      "Or is there more to this in terms of setup? \n",
      "\n",
      "\n",
      "Hey, we are having some bank statements splitted with 62M and 60M segments, for MT940 file format. Any one knows how to configure the format and respective segment? \n",
      "\n",
      "\n",
      "As of July 1st 2020 the following transitions in support lifecycle status take effect:\n",
      "\n",
      "Sage X3 V6, V7 and PU8 transitions from “Lifeline” to “End of Maintenance”\n",
      "Sage X3 V11 transitions from “Current” to “Standard”\n",
      "\n",
      "Customers with valid support plans can still raise new cases with Sage X3 Support team for those products in “End of Maintenance” phase and receive access to existing patches, knowledgebase, online help, as well as support to help identify issues or problems raised.   You may also wish to consider migrating to the latest version of Sage X3 in order to receive the benefits and additional support this latest version provides.For future planning, Sage X3 PU9 transitions from “Lifeline” to “End of Maintenance” on July 1st 2021.Please refer to the Sage X3 Lifecycle Policy in Knowledgebase article KB 105518 for more information.This policy applies to all countries and all versions of Sage X3. \n",
      "\n",
      "\n",
      "Hello everyone,\n",
      "When using the imporrt advance statement, using the MT940 type files, we could configure all the flow accordingly.\n",
      "Import the statement to the new area of statements;\n",
      "Match the statement against open items and payments;\n",
      "Validate the statement, leaving the manual movements to be reconciled in the bank reconciliation function;\n",
      "But finally when we go to the bank reconciliation to reconcile the manual movements, the descriptions are not copied, it is not there;\n",
      "Anyone knows if this is lack of functionality or missing params? We kept most of the standard parameters, we could see how to map the bank statement columns to the new area fields, but we cannot identify where to map the statement into the classic statement fields.\n",
      "Anyone? \n",
      "\n",
      "\n",
      "We have a customer that needs to have a check cut for them.  It is not setup as a supplier in BP.  How do we modify? \n",
      "\n",
      "\n",
      "The SSL certificate for Sage Sales Tax will be updated on July 13, 2020.  Our testing has confirmed this change should be seamless for Sage X3 customers using Sage Sales Tax.\n",
      "For more information, refer to Knowledgebase article 105779.  Should you encounter an issue on or after July 13 when using Sage Sales Tax, please reach out to your Sage business partner or customer support to determine if it is related to the SSL certificate update. \n",
      "\n",
      "\n",
      "To access this download, log into https://support.na.sage.com/ and in the search field type 105818 Click Search.\n",
      "For a complete list of available Sage X3 full-product downloads and patch updates, see the Sage X3 Download Portal. To access the Sage X3 Download Portal, go to https://support.na.sage.com/, enter your Log on credentials (in upper right corner), and type 23522 in the Search field. Click Search.\n",
      "Important: If you use third-party products that integrate with Sage X3 or ISVs, check with the vendor of your third-party product to ensure their product is fully compatible with this release. If you integrate with other Sage products, check with your business partner or Sage to ensure that these components are compatible.\n",
      "It is highly recommended that you work with a certified partner or Sage Professional Services to install this patch.\n",
      "Need more help? Visit ourâ€¯Sage City Customer Resourcesâ€¯page for additional resources, including links to support options like Online Case submission, the Sage Knowledgebase, Sage University, and more. \n",
      "\n",
      "\n",
      "Hello,\n",
      "I have created a SQL query to show the top ten customers using SINVOICE table. Under Characteristics, Representation set to \"Character and Graph\". When it validates and run it shows the List and the graphs properly. But when it adds do dashboard only list shows. The graph does not appear. Can anyone help me to rectify this?\n",
      "Regards,\n",
      "Eranda  \n",
      "\n",
      "\n",
      "Hi Sage Community,\n",
      "I was looking at the Sage EDI Module, and it appears that it only works with a select few EDI Partners out of the box and only certain transactions are covered depending on which Partner is used.\n",
      "Is this correct?\n",
      "Or can it be set-up to use other EDI Partners that are not listed and to process the different message types for creating in Sage X3 Sales Orders, and then outbound Sales Invoices, plus possibly credit notes (Credit notes do not appear in any list for any EDI Partners in the system)\n",
      "I'm looking to see if this can be achieved using the Sage EDI Module and a EDI Partner of our choice, without the need for any other EDI Add-on's for Sage X3.\n",
      "The manual is not very clear on this but it seems to be hard coded for only particular messages with specified EDI Partners.\n",
      "Any help is appreciated.\n",
      "\n",
      "Many thanks. \n",
      "\n",
      "\n",
      "Hey guys,\n",
      "So here is the situation. I am from Turkmenistan, and here the official currency is turkmen manat. But foreign companies as for example Bouygues Construction may pay in dollars to certain positions. Anyways it is far better to get paid in USD for the reasons I wont discuss here.\n",
      "My main problem is this:\n",
      "3 employees were due to get transferred to USD on July 1st, however due to the technical error it was overlooked until 21st of July. The pay period closes on 25th for USD contracts and on the 1st of the following month for Manat contracts. Now while we are still in the same pay period technically we will be able to change it but because the specifics of their contract will change we would have to close their current contract, pay for the unused vacation and open new USD contract. Since their vacation days to be paid in Manats and at the same time as their USD new salary the system doesn't allow that.\n",
      " And now my question is how can we solve this situation because this doesn't make no sense.   Dear Sage community please help otherwise already underprivileged people will remain for another month and that one month of USD salary is the same as 3 months of  Manat salaries. \n",
      "Thank you. \n",
      "\n",
      "\n",
      "Hi\n",
      "We currently have packs set as Units of Measure for our products & then they are placed onto pallets (Packaging) for shipment.  Does anyone know if you can add multiple packs to a package using the packaging options in the Preparation/Delivery screens.  We have tested single products & they work, most of the time, but we cannot build a pallet with multiples & need to be able to do this in the real world.  Any suggestions would be much appreciated.  Thanks   \n",
      "\n",
      "\n",
      "How do create and update allergen?  I want to create a new allergen with two letters and update some. \n",
      "\n",
      "\n",
      "Hi.\n",
      "I am having issues with automating allocations on sales orders.  When I invoke the \"Auto allocation\" item on the right menu I get the message \"Line managed with a direct order: Nothing to allocate\"I have checked parametersINIALLORD is set to Yes - but no initialisation is done, even when the order is saved.ALLTYP is set to Global  but I can't change the lines from DetailedEntry transaction is \"ALL Full entry\"Any clues where I can go to track this down and allow auto allocation to happen?Thanks.  Garry \n",
      "\n",
      "\n",
      "Hello,\n",
      "Is there anyone in the US using Sage X3 people?  Any consultants in the States that work with the product?\n",
      "\n",
      "Thanks,\n",
      "Kevin \n",
      "\n",
      "\n",
      "Hello,\n",
      "When creating a Direct Sales invoice through SIH SOAP Webservice, the system returns the message below:\n",
      "<message>Line Number 1 \\ Product ITMMOB001 : The stock to issue has not been determined \\ Document line quantity 1 Processed quantity 0</message>\n",
      "How is possible to create an invoice and its stock line determination through SIH SOAP Webservice?\n",
      "Based on some old posts and Sage KB's, there is a problem related to open another screen during a SOAP call, but in my case, when creating it manually there are no secondary screens in the process and the stock issue line is created automatically based on the settings. (Direct Invoice type, STK movement flags, Transaction with stock determination auto)\n",
      "\n",
      "Sage X3 Version: V12.22 \n",
      "\n",
      "\n",
      "Hello everyone \n",
      "I need a small assistance please \n",
      "I want MRP to consider the first 4 months as firm sales orders and ignore forecasts in those months and then consider forecasts for month 5 onwards . What I noticed is that the MRP did not consider the forecast in the calculations for purchasing any components .. which is weird ? \n",
      "\n",
      "I put FOH =4  , POH =4 \n",
      "\n",
      "any ideas please  \n",
      "\n",
      "\n",
      "Hi, I'm facing a weird behaviour.\n",
      "In my specific, I've developed a routine that uses IMPORTSIL to add a new line to an existing sales order.\n",
      "This routine is simple:\n",
      "\n",
      "Reads current SOH data and generates a text file\n",
      "Add a new text line from parameters values\n",
      "Call IMPORTSIL\n",
      "Checks GOK, GERRTRACE\n",
      "Shows the trace\n",
      "\n",
      "\n",
      "How the routine is called:\n",
      "Local Integer NLIN : NLIN = nolign-1\n",
      "Infbox [M:ZADH1]ITMREF(NLIN)\n",
      "Local Char ITM(30) : ITM = [M:ZADH1]ITMREF(NLIN)\n",
      "Local Decimal QTY  : QTY = [M:ZADH1]QTY(NLIN)\n",
      "Local Char PJT(50) : PJT = [M:ZADH0]NUM + \"~T\" + num$([M:ZADH1]LIN(NLIN))\n",
      "Local Char TYP(5)  : TYP = \"5\"\n",
      "Local Decimal PRI  : PRI = [M:ZADH1]GROPRI(NLIN)\n",
      "Local Decimal DTE  : DTE = [M:ZADH1]DTE(NLIN)\n",
      "Local Integer LINCV(30) : LINCV = 0\n",
      "Local Integer STA  : STA = 0\n",
      "Local Char NPO(30) : NPO = \"ADH0000035\"\n",
      "Call ADD_SOH_LINE(ITM, QTY, PJT, TYP, NPO, PRI, DTE, LINCV, STA)\n",
      "If I call this routine from a right menu in $EXEBOUT it works perfectly, but if I call it from a contextual grid menu (B1_NBLIG) it simply doesn't add the line and there is no error returned from IMPORTSIL.\n",
      "Can't IMPORTSIL be used from a contextual grid menu?\n",
      "Should I set any global variable value before call IMPORTSIL?\n",
      "What Am I missing? \n",
      "\n",
      "\n",
      "Hello all,\n",
      "I found out that in X3 V12 P18, Sage has updated the list of shortcuts for all buttons on the right panel (New, Save, Create, Delete, Cancel, Print, etc).  I would like to use these shortcuts in a V11P8 environment. Only the shortcut Esc+N for new record works there.  I would need these shortcuts so the right panel would not be needed to show on the screen, leaving for space for the screen itself.  Can any of you help?\n",
      "Also, is there a shortcut available to close the function?\n",
      "\n",
      "Thank you,\n",
      "Marc-Olivier \n",
      "\n",
      "\n",
      "During recent proactive testing of our systems, we uncovered a potential critical security vulnerability in Sage X3, Sage X3 Warehousing, Sage X3 HR & Payroll versions 7, 11, 12, and product updates 8 and 9 that may affect Sage customers.\n",
      "Working quickly to address this issue, the team created a fix that’s available to you for immediate implementation. Please refer to Sage Knowledgebase article KB106227 for information on downloading and applying the update.\n",
      "We recommend you contact technical support or your Sage partner to apply this important platform update at your earliest opportunity.\n",
      "If you are a Sage cloud hosted X3 customer, we will apply the fix to your environment. We will communicate in advance for the planned interruption to your service, however we’ll endeavor to do this at a time that will not impact your working day.\n",
      "Should you have any further questions on this matter, please contact your Sage partner or Sage customer service representative. \n",
      "\n",
      "\n",
      "Is there a 'definitive guide' to using this with X3? Can one pull data from the database with that tool? \n",
      "\n",
      "\n",
      "To access this download, log into https://support.na.sage.com/ and in the search field type 106374. Click Search.\n",
      "\n",
      "For a complete list of available Sage X3 full-product downloads and patch updates, see the Sage X3 Download Portal. To access the Sage X3 Download Portal, go to https://support.na.sage.com/, enter your Log on credentials (in upper right corner), and type 23522 in the Search field. Click Search. \n",
      "Important: If you use third-party products that integrate with Sage X3 or ISVs, check with the vendor of your third-party product to ensure their product is fully compatible with this release. If you integrate with other Sage products, check with your business partner or Sage to ensure that these components are compatible. \n",
      "It is highly recommended that you work with a certified partner or Sage Professional Services to install this patch.  \n",
      "Need more help? Visit ourâ€¯Sage City Customer Resourcesâ€¯page for additional resources, including links to support options like Online Case submission, the Sage Knowledgebase, Sage University, and more.\n",
      " \n",
      "\n",
      "\n",
      "Hopefully this will make sense:\n",
      "Our company is trying to figure out how to code, or whatever, our Supplier BP invoices to show that we were not taxed and should have been so we can run a report to decided what we owe for sales tax. \n",
      "OR if we can somehow code the invoices to be marked as we didnt get charged tax so they show up in a report and we then decipher on our own from that list what we should have paid tax on.  \n",
      "\n",
      "\n",
      "We're running Update 9 Patch 10.\n",
      "\n",
      "We have an EDI project that calls for a (Sales) Order Confirmation;\n",
      "Scenario;\n",
      "- Customer sends Purchase Order\n",
      "- We create Sales Order and reference PO.\n",
      "- We need to be able to confirm or reject the PO from the customer based on Product, Qty, Ship Date, Price defined on PO.\n",
      "\n",
      "How do you support Order Confirmation/Rejection in X3?  \n",
      "\n",
      "\n",
      "We store full pallets in our warehouse along with partial pallets for picking.  Example of what we need help with.  Order calls for 55 cases.  Pallet qty is 50.  Would like Sage to direct order picker to full pallet location for qty 50 (full pallet) and then to partial pallet location for the remaining 5 cases.  Is there a way to do this? \n",
      "\n",
      "\n",
      "I think I found a Sage bug.\n",
      "I had two accountants who got vague Stat99 errors when trying to run the Stock Accounting Interface in both V11 and V12. Users with identical functional profiles and roles did not get the same errors and could run the SAI without error. It was as though it was entirely user-specific. Finally, I determined the problem! There's a user parameter that is supposed to pop the simulated entries when the entries error out. This was causing the problem. To be clear, there were NOT any entries in the accounting interface with errors, but the fact that the user's parameter was set to Yes-If Error caused them to not be able to run the Stock Accounting Interface. Once I changed it to No, they could run it and post without error.\n",
      "This parameter also caused problems with being about to post Sales Invoices in bulk or close a Fiscal Year.\n",
      "So I am just offering this as a troubleshooting option for someone. Would love it someone else could confirm this in their own environment as well.\n",
      "Here is a link about this parameter (it's a really cool one!) https://www.greytrix.com/blogs/sagex3/2018/05/04/how-to-generate-simulated-accounting-entries-in-sage-x3-version-11/\n",
      "\n",
      "Here's the error it was generating: \n",
      "\n",
      "Here is what it looked like once I changed the parameter:\n",
      " \n",
      "\n",
      "\n",
      "Dear Sagians,\n",
      "\n",
      "I am setting up reminder campaign for sending mail to all customers. Everything is set but the mails are not triggering. When i run the FUP report manually the below error is getting.\n",
      "Please let me know if any solutions for this.\n",
      "Version  - V11\n",
      "\n",
      " \n",
      "\n",
      "\n",
      "Good Afternoon,Initially, I created a storage volume on X3 and defined an access code for this volume, so that when a file was attached to that function, it automatically selected for the folder corresponding to the function.\n",
      "The result I got was, the user who has the volume access code, is able to attach files, and modify the lines (once I have set the Inquiry, Modification and Execution options to yes). However, if the user does not have the access code, he can add files, but he cannot change the lines.\n",
      "I would like to know what parameterizations are necessary so that you can effectively assign certain users the possibility of attaching files or not, depending on the access code they have.\n",
      "Best regards,\n",
      "Gonçalo Reis \n",
      "\n",
      "\n",
      "Hello,\n",
      "\n",
      "I am looking for help in using the \"PAC Complete\" function that is located in the \"Allocation and Rule\" section in sage.\n",
      "\n",
      "Could someone please explain what this check box is used for?\n",
      "\n",
      "\n",
      "\n",
      "thank you\n",
      "Mike \n",
      "\n",
      "\n",
      "Hello! I am looking for release notes for Syracuse updates but can't seem to find them anywhere. Can anyone tell me whether this  documentation is available anywhere? I am going from v11.14 to v11.22.  \n",
      "\n",
      "\n",
      "hi guys, can someone please help me i am in real frustration. i am trying to install sage x3 V12.0.19.  After Installing Syracuse Server i am trying to add demo folder using into folders using Sage X3 Management Console. But it says my FOLDERS.xml file is missing in X3 solution root folder. I am not able to add any folder because of this missing file. Can someone please help me and send me this FOLDERS.xml file or content of this file? I will be very thankful. \n",
      "\n",
      "\n",
      "In our system, we calculate freight overhead on our standard costs.  Then when the products are received the journal entry posts an amount to the freight account.  Sage is basing this calculation from the purchase price on the Purchase Order, not from the component cost of the standard cost. For example, product XYZ has a component cost of $2.85 with a freight overhead of 3%.  Therefore, the freight cost should be $0.0855/part.  However, on the PO, the purchase price is $2.96 so the 3% freight overhead calculates out to be $0.0888/part.  So the amount posting to the freight account in the journal entry is not correct.  Does anyone know how to get the freight to calculate from the standard cost on a receipt rather than from the PO purchase price? \n",
      "\n",
      "\n",
      "I am trying to create a Delivery via web services, and have it attached to an existing Order.  The order has been allocated, and ready for Delivery creation.I created a simple object web service using the SDH object. I am sending the order # in the header level (SDH0_1) and line level (SDH1_4), but the resulting Delivery has no order attached to it.  Even if I send a bad Order #, it still worked the same.The Delivery gets created with no problem, but it never attaches itself to the Order.Request...<PARAM>                <GRP ID=\"SDH0_1\">                                …                                <FLD NAME=\"SDHNUM\" TYPE=\"Char\"></FLD>                                <FLD NAME=\"SOHNUM\" TYPE=\"Char\">SONNA012/0058</FLD>                </GRP>                <TAB DIM=\"300\" ID=\"SDH1_4\" SIZE=\"1\">                                <LIN NUM=\"1\">                                                <FLD NAME=\"ITMREF\" TYPE=\"Char\">FIN901</FLD>                                                <FLD NAME=\"QTY\" TYPE=\"Decimal\">2</FLD>                                                …                                                <FLD NAME=\"XSOHNUM\" TYPE=\"Char\">SONNA012/0058</FLD>                                                <FLD NAME=\"VCRNUMORI\" TYPE=\"Char\">SONNA012/0058</FLD>                                                <FLD MENULAB=\"Normal\" MENULOCAL=\"423\" NAME=\"LINTYP\" TYPE=\"Integer\">1</FLD>                                </LIN>                </TAB></PARAM> But the resulting Delivery created does not show the Order #…<RESULT>                <GRP ID=\"SDH0_1\">                                …                                <FLD NAME=\"SDHNUM\" TYPE=\"Char\">SHPNA0120064</FLD>                                <FLD NAME=\"SOHNUM\" TYPE=\"Char\"></FLD>                </GRP>                <TAB DIM=\"300\" ID=\"SDH1_4\" SIZE=\"1\">                                <LIN NUM=\"1\">                                                <FLD NAME=\"ITMREF\" TYPE=\"Char\">FIN901</FLD>                                                <FLD NAME=\"QTY\" TYPE=\"Decimal\">2</FLD>                                                …                                                <FLD NAME=\"XSOHNUM\" TYPE=\"Char\"></FLD>                                                <FLD NAME=\"VCRNUMORI\" TYPE=\"Char\"></FLD>                                                <FLD MENULAB=\"Normal\" MENULOCAL=\"423\" NAME=\"LINTYP\" TYPE=\"Integer\">1</FLD>                                                <FLD NAME=\"SDDLIN\" TYPE=\"Integer\">1000</FLD>                                </LIN>                </TAB></RESULT>Anyone have a clue on what I am missing? \n",
      "\n",
      "\n",
      "Hi.\n",
      "I'm a new system manager into SageX3 system.\n",
      "\n",
      "I would to know, how can I check who lock an order.\n",
      "\n",
      "Thanks for your help.\n",
      "\n",
      "Regards.\n",
      "\n",
      "MS \n",
      "\n",
      "\n",
      "Hi, I've a problem with the configuration of Eclipse, to debug Sage X3 programs.\n",
      "I downloaded Eclipse Indigo, as suggested by the support center.\n",
      "I set up both Eclipse and Sage user for connect the IDE with the client. I chose the port 10000, and I set it to both Eclipse and Sage X3 user.\n",
      "Into Eclipse, I added new Sage X3 Project: during this operation, the connection to the Sage X3 server work correctly and Eclipse can reach the server and the programs file. Infact, I opened the sales order program file, from eclipse.\n",
      "Unfortunately, the last step didn't work: I tried to attach Eclipse to X3, choosing the session from the list shown by Eclipse, like the image below,\n",
      "\n",
      "I choose the session with my client name (matteos-nb) and, after press attach button, the result was the seguent:\n",
      "\n",
      "System error (25).\n",
      "What's mean?\n",
      "What can I do for resolve this problem and start debugging?\n",
      "My system reference are:\n",
      "- Windows 10\n",
      "- Sage ERP X3 v6.5\n",
      "- Client: CLI.116 25/9/2015, App. 165 rel. 35 patch 0 - 16v.003\n",
      "- Eclipse Indago 2019-03 (4.11.0) \n",
      "\n",
      "\n",
      "Hi, I've a problem with the configuration of Eclipse, to debug Sage X3 programs.\n",
      "I downloaded Eclipse Indigo, as suggested by the support center.\n",
      "I set up both Eclipse and Sage user for connect the IDE with the client. I chose the port 10000, and I set it to both Eclipse and Sage X3 user.\n",
      "Into Eclipse, I added new Sage X3 Project: during this operation, the connection to the Sage X3 server work correctly and Eclipse can reach the server and the programs file. Infact, I opened the sales order program file, from eclipse.\n",
      "Unfortunately, the last step didn't work: I tried to attach Eclipse to X3, choosing the session from the list shown by Eclipse, like the image below,\n",
      "\n",
      "I choose the session with my client name (matteos-nb) and, after press attach button, the result was the seguent:\n",
      "\n",
      "System error (25).\n",
      "What's mean?\n",
      "What can I do for resolve this problem and start debugging?\n",
      "My system reference are:\n",
      "- Windows 10\n",
      "- Sage ERP X3 v6.5\n",
      "- Client: CLI.116 25/9/2015, App. 165 rel. 35 patch 0 - 16v.003\n",
      "- Eclipse Indago 2019-03 (4.11.0) \n",
      "\n",
      "\n",
      "I have implemented the fixed asset in Sage X3 version PU9 as per the curriculum provided in the training by Fixed asset instructor from Sage University.  \n",
      "Performed every step as per his instruction. only problem that I found was I cannot see the any changes in Accounting Interface of Fixed asset for following entries, after performing Depreciation Calculation(FASCALC) and Generation of Accounting Entries(TRTCPTINT)\n",
      "Fixed Assets>Processing>Account.Interface>accounting entries, (GESGPC)\n",
      "But when I went to Fixed Assets>Processing>Status Of Contexts(SAISTACPY), I seen all the assets were posted and calculated. Found no change in the Financials>Journals>Journal Entry(GESGAS)\n",
      "Need Help.... \n",
      "Regards!\n",
      "Usman Khan \n",
      "\n",
      "\n",
      "'Pac complete' as an overall function does not allow smaller units to break into larger units when needed for picking. Those smaller units need to be made manually available (or already available). Our orders need to be shipped in cases and pallets. Pallets are preferred when possible so we want to utilize 'Pac complete' function so that system is not directing our pickers to combine partial pallets together for shipment or picking from a partial and a full pallet to make 1 full pallet. The problem with the function currently is - when a customer orders on a case level (less then a pallet) the system will not allocate to the order if those case units have not already been made available because 'PAC complete' overrides the ability of a case to be picked from a pallet.\n",
      "We do not want to constantly manually make units in order for this to work as it seems is currently the case. We also do not want to have to lock have our our stock in case units and the other half in pallet units.\n",
      "I've tried many different settings with the allocations rules and researched many different methods but cannot find a working solution.\n",
      "I believe if 'PAC complete' could be used on a line by line allocation/issue basis it would be a much more versatile system.\n",
      " \n",
      "\n",
      "\n",
      "Hello,\n",
      "Anyone coded their own system for Attachments menu ?\n",
      "Like Crystal Print goes automatically in Attachment menu list ?\n",
      "I tried to use the X3 standard, it was too slow to find + upload document via the Menu.\n",
      " \n",
      "\n",
      "\n",
      "I am looking for a way to import my credit card transactions into Sage X3 -\n",
      "I currently have my corporate card integrated into Expensify. \n",
      "My vision is to export a custom template that Sage X3 can digest from Expensify and upload - Anyone have guidance on this? \n",
      "\n",
      "\n",
      "I am on X3 V12\n",
      "I would like to be able to import a Sales Open Order (contract) and its associated Product information. Has anyone successfully done this and care to share the required fields so that X3 knows this SOH object is an open order and not a normal sales order? Appreciate any suggestions or advice! \n",
      "\n",
      "\n",
      "Does anyone have an example of how to set up the data model and then workflow to trigger an email based on the creation of a sales order, using a field in the itmmaster as a filter (and this data point isn't in any of the SORDER tables).\n",
      "I want the email to be sent to the SO creator immediately. \n",
      "\n",
      "\n",
      "Hi, I'm new with 4GL in SageX3.\n",
      "How I can check if a datetime field contains NULL value?Thanks for your support.\n",
      "Regards.\n",
      "MatteoS \n",
      "\n",
      "\n",
      "I was able to update BOMD with a line detail thru Usage>Import and the report indicated that the record was modified.  However, the Production BOM detail was not updated even though the properties showing that the record was modified? \n",
      "\n",
      "\n",
      "I am attempting to import sales orders where the ship-to address is not already defined in the customer record.  I added the following fields to the standard SOH import template:  BPDADDLIG, ADDLIN2, BPDCTY, BPDSAT, BPDPOSCOD, BPDCRY.   I expected that the values imported in these fields would be saved, but I found the default ship-to address information in these fields after import.  I then tried adding the BPAADD field to the import hoping that leaving that field blank would yield the expected result but no luck there.\n",
      "Is there a way to create an import of a sales order with a random ship-to address?   \n",
      "\n",
      "\n",
      "Hi!\n",
      "I'm editing a customization inside a sales order program (file SPESOH), of our Sage ERP.\n",
      "I'm not able to understand the meaning of variable \"status\": \n",
      "\n",
      "I think status is a \"system\" variable, but what kind of status it contains?\n",
      "Thanks for your support.\n",
      "Regards\n",
      "\n",
      "MatteoS \n",
      "\n",
      "\n",
      "Hello Teams,\n",
      "We are creating an Interface to Sage X3 PU11 and would like to know if Sage or any other provider has  created a common DLL library for the C# programming language. Will be used to call SOAP or REST in Sage X3.\n",
      "Thank you,\n",
      "Dennis  \n",
      "\n",
      "\n",
      "Good morning all\n",
      "Does anyone have the Excel template that's used to import 1099 Beginning Balances using the B9B import?\n",
      "Chris \n",
      "\n",
      "\n",
      "Is it possible to import purchase orders and assign the PO number at the time of import.  These PO's are coming over from the retired system and we do not want to use the sequence as part of the import.  Looking at KB 95260 it implies this is not possible.   \n",
      "\n",
      "\n",
      "Hi,\n",
      "I have an external file available in a web link: https://www.nubefact.com/cpe/22790c6d-111d-4879-a6af-03ac7566eac9-03bc4234-178e-4bf6-87a2-42ede2f83bc7.pdf\n",
      "And I want to bring it into some X3 folder, for example: C:\\Sage\\folders\\FOLDER\\tmp\\\n",
      "\n",
      "I was able to download it by opening a new tab in the browser allowing the user to download the file using this:\n",
      "Callui RETOUR=\"\" With \"UIAction=\"+chr$(1)+\"OpenFile\",\n",
      "& \"UILocalDir=\"+ chr$(1) +\"HTTPS\",\n",
      "& \"UILocalFile=\"+ chr$(1) +URL ,\n",
      "& \"UIAdxPubSubFile=\"+ chr$(1) + \"1\"\n",
      "But now I need to download it directly to an X3 folder.\n",
      "I tried to use this example as a base, but I couldn't get it to work:\n",
      "# Example 1: copy a file from the server to the client workstation\n",
      "Callui RETOUR=\"\" With \"UIAction=\"+chr$(1) + \"GetFileAlways\",\n",
      "& \"UIRemoteFile=\"+ chr$(1) + URL,\n",
      "& \"UILocalFile=\"+ chr$(1) + \"my_fyle.pdf\",\n",
      "& \"UILocalDir=\"+chr$(1) + \"C:\\Sage\\folders\\FOLDER\\tmp\\\"\n",
      "\n",
      "Does anyone know if it is possible to do this? \n",
      "\n",
      "\n",
      "Hello Everyone \n",
      "we updated a X3 system from v12.0.21 to v12.0.23 , but just the X3 folder was updated (not the other live folder)!\n",
      "and now we get these errors like this (and the .src files are not in the TRT folder) \n",
      "\n",
      "is it that we should just select the X3 folder for the update? and do we have to do validations ?? \n",
      "\n",
      "\n",
      "Hi everyone,\n",
      "We are kind of interested on creating and Invoice from the delivery, currently we are already validating the delivery but we would like also after to create the invoice.\n",
      "Is it possible to do this by code?\n",
      "We are currently validating the delivery with:\n",
      "Call VALIDATION([F:SDH]SDHNUM) From TRTVENLIVV\n",
      "Thanks for the help.\n",
      "Kind regards. \n",
      "\n",
      "\n",
      "Hi.\n",
      "I updated the order header view, adding a new field: allthing works correctly in Test environment!\n",
      "For publish this upgrade into PRODUCTION evnvironment, I used \"copy\" operation, from TEST to PROD: it was successful.\n",
      "When I tried to activate the view upgrade, with VALIDATION operation, SageX3 return this error:\n",
      "\n",
      "What's mean?\n",
      "What can I do for resolve this issue, and activate the view upgrade?\n",
      "Thanks for your support.\n",
      "MatteoS \n",
      "\n",
      "\n",
      "Hi All,\n",
      "\n",
      "I created a new folder from the front by using authorized Admin role access. But am not able to get full access rights to the newly created folder. it giving me an error while accessing the folder. \n",
      "needed suggestions on how to get full access to this folder. My user roles are ADMIN.\n",
      "\n",
      "am not able to access copied companies & sites. History of invoice and orders.\n",
      "\n",
      "Thanks,\n",
      "Srini   \n",
      "\n",
      "\n",
      "Is there a way to perform the time entry function in mobile application? Should I customize the app or utilize the standard one in sagex3 web? Thanks! \n",
      "\n",
      "\n",
      "A sales quote is created.\n",
      "The incorrect customer number was used.\n",
      "How do this get changed without copy it to a new quote or deleting the incorrect quote and create a new one? \n",
      "\n",
      "\n",
      "Calling all Sage X3 USERS! I am in the process of evaluating Sage X3 for my organization and am interested in finding the best partner for our business. If you have a company similar to ours, which I’ve detailed below, and are more than satisfied with your partner’s performance and willing to share who you’ve utilized, I would love to hear from you!\n",
      " Some background:\n",
      "We are a nutraceutical supplement manufacturer that also uses 3rd parties for manufacturing processes at times. We procure many of the materials ourselves and generate our of BOMs and Production Orders in-house and may send to third parties who charge a tolling fee. We are following GMP guidelines and are FDA compliant, therefore QC is imperative. We need solid production planning and scheduling implemented as well as license plate barcoding in our warehouses. We will be operating with 3 separate divisions within the system and require a robust intercompany solution.\n",
      "We are also interested in the potential of implementing certain features/modules slowly over time instead of all at once. This circumstance isn’t necessary for reaching out, but if it was something you did or were thinking of doing, I’d love to hear about that decision making as well.\n",
      "If you are a partner, please do NOT reach out. I would like a first-hand response from satisfied users on a manufacturing partner that has met or exceeded the needs that my business requires.\n",
      "I greatly look forward to hearing from you and any recommendations you may have. \n",
      "\n",
      "\n",
      "Hi, \n",
      "I am trying to do a misc issue by import the data in. I changed the file type for the import to be delimited and the date formatting, but everything else for the template is the same. Below is the error message i am getting returned when I try to import a misc issue. \n",
      "\n",
      "-------------------- Record No. 1 (Line Number 1)----------------------------------------------------------------------@ECOM3.TRT/WWI960541$adxError 7 Line Number 139<0001 [M:SOR] : Class Non-existent----------------------------------------------------------------------<0001 Table is full 1<0001 Line Number 1 <0001 Product F081612 : The stock to issue has not been determined <0001 Document line quantity 12 Processed quantity 0----------------------------------------------------------------------@ECOM3.TRT/ZIMPSMOS_POTENCY$adxError 6 Line Number 556<0001 GSTK_TRACE : Variable Non-existent--------------------------------------------------------------------------------------------------------------------------------------------@X3.TRT/SUBSMOA$adxError 6 Line Number 588<0001 GRELITSMO : Variable Non-existent--------------------------------------------------------------------------------------------------------------------------------------------@X3.TRT/STKIMP$adxError 6 Line Number 47<0001 GSTK_TRSTYP : Variable Non-existent--------------------------------------------------------------------------------------------------------------------------------------------@ECOM3.TRT/ZIMPSMOS_POTENCY$adxError 6 Line Number 561<0001 GSTK_BASTAB : Variable Non-existent----------------------------------------------------------------------\n",
      "\n",
      "Anybody have any insight on why I am getting these errors? \n",
      "\n",
      "\n",
      "Hi experts,\n",
      "We faced a problem in Sales Order workflow where the signed flag becomes BLANK when header condition not met. When creating a new sales order in LIVE folder, it doesn't trigger the workflow because the \"header condition was not met\", and the APPFLG flag changed automatically from 1 (No) to 0 (blank), where it should be \"5\" (Yes, Automatic Signed).\n",
      "\n",
      "I duplicated the folder from LIVE to TEST folder (using Data Extraction and Data integration function), so all basis setup information is the same (i.e. workflow rules, parameters, server environment, assignment value, sales order information).\n",
      "When creating new sales order in TEST, though the header condition is not met, the APPFLG changed from 1 to 5(Yes, automatic). This is working fine.\n",
      "\n",
      "Here is the conditions for our workflow rule\n",
      "\n",
      "I activated the debug mode for both folder. \n",
      "Below is the Debug log in LIVE folder.\n",
      "Notice that when creating new sales order , the default value for APPFLG is 1, but upon clicking \"Create\" it seems to have changed the APPFLG to 0 therefore it passed through the 3rd condition in the workflow rules. \n",
      "\n",
      "the following is the debug log for TEST folder. The APPFLG was not changed. \n",
      "\n",
      "\n",
      "I have checked the specifics of SOH, it does not have codes relevant to APPFLG assignment.\n",
      "Anyway I duplicated the complete folder using Data integration, i presume any specifics should also be copied to the TEST folder.\n",
      "This happens in X3 PU9 patch 3 (both folder has same patch).\n",
      "I checked also the TRT in both folders. some files are different.I tried to copy some related different files to TEST Folder but\n",
      "\n",
      "Any idea how to proceed troubleshooting / fixing this?\n",
      "Your valuable feedback is greatly appreciated. Thank you very much in advance.  \n",
      "\n",
      "\n",
      "To access this download, log into https://support.na.sage.com/ and in the search field type 107495. Click Search.\n",
      "\n",
      "For a complete list of available Sage X3 full-product downloads and patch updates, see the Sage X3 Download Portal. To access the Sage X3 Download Portal, go to https://support.na.sage.com/, enter your Log on credentials (in upper right corner), and type 23522 in the Search field. Click Search. \n",
      "Important: If you use third-party products that integrate with Sage X3 or ISVs, check with the vendor of your third-party product to ensure their product is fully compatible with this release. If you integrate with other Sage products, check with your business partner or Sage to ensure that these components are compatible. \n",
      "It is highly recommended that you work with a certified partner or Sage Professional Services to install this patch.  \n",
      "Need more help? Visit ourâ€¯Sage City Customer Resourcesâ€¯page for additional resources, including links to support options like Online Case submission, the Sage Knowledgebase, Sage University, and more.\n",
      " \n",
      "\n",
      "\n",
      "Internal constraints don't allow us to have a WOF of more than 5,000. If we have a SOF for 15,000 and 3 WOF's for 5,000 each, replanning wants us to increase the first WOF to 15,000 and cancel the other two WOF's in the same time bucket. Is there a way to get it to recognize the three WOF's = the one SOF? \n",
      "\n",
      "\n",
      "Does it send out at the beginning of the last day of the month, or the end of day ? \n",
      "How do I get it so that X3 sends me an accounting report at the end of the day, of the last day of the month? \n",
      "\n",
      "\n",
      "I have a new menu module and menu items which I added manually via the Authoring tools in X3.  Does anybody know if there is a way to include these in a patch to load to another system, so they don't have to be added manually? \n",
      "\n",
      "\n",
      "Hello.\n",
      "I'd like to customize a standard operation into CNSSPRSTD standard process, called by the specific processing CNSSPRSPE, about projected stock inventory.\n",
      "It's possible to:\n",
      "- copy the standard process CNSSPRSTD\n",
      "- create a new one, called (for example) YCNSSPRSTD and customize this one?\n",
      "Is it possible?\n",
      "Thanks for your support.\n",
      "BR\n",
      "\n",
      "MatteoS \n",
      "\n",
      "\n",
      "Hello-\n",
      "I came across this nugget during a DRYRUN that i created after having patched to V12P23.  As you know, there is a Dictionary copy (ACOPDIC) function that allows you to copy elements between folders, and as luck would have it--there is a bug in the code that has it calling a table abreviation that it hadn't yet opened.  I was able to write in a workaround within SUBAVW.src, and i have reported it to Sage support.\n",
      "I hope this saves you some headache?!? \n",
      "\n",
      "\n",
      "I would like to restrict a user from being able to create a sales invoice without restricting them from viewing them or creating sales orders.\n",
      "Is this possible? \n",
      "\n",
      "\n",
      "Is there no way to do bulk N/S posting for purchase receipts in X3? \n",
      "\n",
      "\n",
      "I am trying to get an idea of best practices for bank accounts in X3.  We are coming from Sage 500 where there is a Cash Management module and implementing Sage X3, where there is not.  Our partner believes we should not make our cash account a control account due to having to set up BPs for each one (we have over 250). \n",
      "Since all of our cash accounts use the same g/l account, the way we would designate the bank account in a journal entry would be by using the journal code and that this would cause the journal line to be available for bank reconciliation purposes.  Since in every other ERP I have worked with, cash has been a control account I am having a hard time getting my head around this practice.\n",
      "Also, using a specific journal code for each bank account would make it necessary to employ the use of a clearing account just to do a bank transfer entry (i.e., one journal to move funds out of bank account A offset with the clearing account and a second journal to move funds into bank account B offset with the clearing account).  In my experience, clearing accounts tend to be a reconciliation nightmare.  We have around fifty companies so that would be fifty more accounts to reconcile.\n",
      "I would be interested in hearing from companies that use BPs to handle their bank transactions with the Cash g/l account being a controlled account and also from those who don't have Cash set up as a controlled account and how they make their journal entries to allow bank reconciliation.  What are the pros and cons.\n",
      "Thank you very much for whatever insights you can provide.\n",
      "Cindy \n",
      "\n",
      "\n",
      "In PO enter the supplier X3 doc says 'When the entered supplier is a Normal supplier, you can view and potentially modify the address from the Actions icon, as soon as the supplier code has been entered.' Is this to allow the selection of one of the supplier addresses from supplier record? Want to order from a supplier but want to have supplier to specifically ship from one of the supplier addresses on the supplier.  the option is not available to select one of the supplier address? if not then why would a supplier have multiple addresses if only the default address is pulled from supplier? How on a PO can you indicate the supplier address you want the supplier to ship from? \n",
      "\n",
      "\n",
      "I have run a query, i can see that it has returned 174 lines. no matter what i view, it will only show me 100. besides that, on the page there is no way to go to page 2, and when i download it to excel, it only downloads what is on page 1, and not the entire query.\n",
      "Why would that occur?\n",
      " \n",
      "\n",
      "\n",
      "Hello,\n",
      "I'm trying to build an import template that allows me to create ITMMASTER and ITMFACILIT records at the same time. These are the fields I have listed below.\n",
      "\n",
      "When I attempt to import based on this template, the Product in ITMMASTER is created but there is no matching Product-Site in ITMFACILIT.\n",
      "Is this even possible? Being able to create both at once will speed things up significantly for me. \n",
      " \n",
      "\n",
      "\n",
      "Sage Knowledgebase (Sage KB) just got a major redesign—complete with an updated interface and additional features.   \n",
      "What’s new?  In addition to a cleaner look and easier navigation, the improved Sage KB now offers:\n",
      "\n",
      "Compliance with Web Content Accessibility Guidelines (WCAG) so content will be accessible to a wider range of customers and partners.\n",
      "Sortable search results by relevance, most helpful, or newest on top.\n",
      "Convenient voting buttons to help you provide article feedback and find the “most helpful” articles as rated by other users.\n",
      "Easy to use “answer wizards” to help you quickly find resolutions to the most frequently asked questions.\n",
      "Subscription options to get updates by email whenever articles are updated.\n",
      "Prominent “download” button on many product homepages for quick access to the latest version of your software. \n",
      "\n",
      "Bookmark Sage Support Resources today!\n",
      "We hope you’ll be just as excited about the upgrades to Sage KB as we are! Be sure to bookmark www.Sage.com/Resources today for quick access to Sage KB as well as all the ways you can take full advantage of everything your Sage X3 software can do for you. \n",
      "You may also be interested in:\n",
      "\n",
      " Video: The Fastest Way to Get Support\n",
      " Blog: Sage product alerts: subscribe now to get the latest notifications\n",
      " \n",
      "\n",
      "\n",
      "when i want to modify Script in any screens.\n",
      "i found the script editor cant not work.  in the follow picuture, i clicked the “Editor” button,  nothing happens. the script editor cant not open.\n",
      "but when i logined with the 'admin' account. it was in working order.\n",
      "\n",
      "could anyone help me? I'll be much appreciated .\n",
      "\n",
      " \n",
      "\n",
      "\n",
      "We get more that 30 seconds to be able to CREATE an invoice.\n",
      "After create we can work/change/validate/print the invoice with no problem or delay.Any ideas or same problem\\ solution ?\n",
      "\n",
      "Best Regards, \n",
      "\n",
      "\n",
      "To access this download, log into https://support.na.sage.com/ and in the search field type 107657. Click Search.\n",
      "\n",
      "For a complete list of available Sage X3 full-product downloads and patch updates, see the Sage X3 Download Portal. To access the Sage X3 Download Portal, go to https://support.na.sage.com/, enter your Log on credentials (in upper right corner), and type 23522 in the Search field. Click Search. \n",
      "Important: If you use third-party products that integrate with Sage X3 or ISVs, check with the vendor of your third-party product to ensure their product is fully compatible with this release. If you integrate with other Sage products, check with your business partner or Sage to ensure that these components are compatible. \n",
      "It is highly recommended that you work with a certified partner or Sage Professional Services to install this patch.  \n",
      "Need more help? Visit ourâ€¯Sage City Customer Resourcesâ€¯page for additional resources, including links to support options like Online Case submission, the Sage Knowledgebase, Sage University, and more.\n",
      " \n",
      "\n",
      "\n",
      "is there a way to bypass this error when entering a customer reference number on the product-customer tab?  I need to be able to enter the same code for multiple customers on the same product.  I cannot seem to find a setting anyplace. \n",
      "thanks\n",
      "Christine \n",
      "\n",
      "\n",
      "In SAGE X3 V12 it seems that we have double all of the landing pages, so as an example we have an A/R Manager landing page and a NA A/R Manager landing page that is the same.  I want to remove or hide the unneeded pages to clean up the user interface for our users but can't seem to figure out how to do this.  I found the landing pages under All >Administration>Authoring>Pages, but it does not seem to allow me to deactivate the unneeded pages.  I know these can be hidden by security, but as our system admin, I don't want to see the extra pages either and can't seem to remove system admin even from these pages.  Thank you for your help.\n",
      " \n",
      "\n",
      "\n",
      "I need to setup a process to manage short term rentals. I have investigated the lease contract option, but it requires Fixed Asset setup and a large amount of transaction overhead.\n",
      "The best option I have found thus far is to use a Loan sales order followed by a service charge sales order. It allows me to keep track of the inventory of the loan items, and charge a service fee for the rental. This process, however, requires generating two sales order documents for each rental transaction - one for keeping track of inventory, and one to invoice the customer.\n",
      "Has anyone come up with a more efficient way to deal with short term rental transactions? \n",
      "\n",
      "\n",
      "To access this download, log into https://support.na.sage.com/ and in the search field type 108059. Click Search.\n",
      "For a complete list of available Sage X3 full-product downloads and patch updates, see the Sage X3 Download Portal. To access the Sage X3 Download Portal, go to https://support.na.sage.com/, enter your Log on credentials (in upper right corner), and type 23522 in the Search field. Click Search. \n",
      "Important: If you use third-party products that integrate with Sage X3 or ISVs, check with the vendor of your third-party product to ensure their product is fully compatible with this release. If you integrate with other Sage products, check with your business partner or Sage to ensure that these components are compatible. \n",
      "It is highly recommended that you work with a certified partner or Sage Professional Services to install this patch.  \n",
      "Need more help? Visit ourâ€¯Sage City Customer Resourcesâ€¯page for additional resources, including links to support options like Online Case submission, the Sage Knowledgebase, Sage University, and more \n",
      "\n",
      "\n",
      "If my stored procedure contains the statement below. It works.\n",
      "select top 10 ITMREF_0 as ITMREF,ITMDES1_0 as ITMDES from ...ITMMASTER\n",
      "\n",
      "If I change to dynamic sql below,\n",
      "declare @sqlTextAll nvarchar(max)set @sqlTextAll='select top 10 ITMREF_0 as ITMREF,ITMDES1_0 as ITMDES from ...ITMMASTER'exec @sqlTextAll\n",
      "it say \"\n",
      "[Microsoft][SQL Server Native Client 11.0][SQL Server]EXECUTE statement failed because its WITH RESULT SETS clause specified 1 result set(s), but the statement only sent 0 result set(s) at run time. : SQL Server Error\n",
      "\"\n",
      "This is a sample to explain my problem. My case has to use dynamics table and field names. That is why dynamics sql is involved. \n",
      "\n",
      "\n",
      "Hi,\n",
      "I want to do delete many partner after a bad import. Do you know, how can i import into ADELETED any data ?\n",
      "When i fill the ADELETED s grid, i need to enter only OBJ et CLE but for the import it doesnt work with this two fields only.\n",
      "\n",
      "Thanks for your help \n",
      "\n",
      "\n",
      "Hello,\n",
      "\n",
      "My client uses Sage X3 and has set up webservices so i can send data to Sage.I'm currently using javascript (with the jQuery library) and using an ajax call to send data to the Sage webservice.The problem is that the Ajax query is blocked by the CORS Policy.This is a standard behavior because sage doesn't return the following header : \"Access-Control-Allow-Origin\" : \"<ORIGIN>\"The problem is that i and my client have no idea how to add this response header to sage.I understand that Sage X3 is using nodejs so we tried to configure the file nodelocale.js by adding in the security json the following data : \n",
      "      security: {\n",
      "                                            http: {\n",
      "                                                                                         \"x-frame-options\": \"SAMEORIGIN\"\n",
      "                                            },\n",
      "                                            cors: {\n",
      "                                                                          \"Access-Control-Allow-Origin\": \"*\",\n",
      "                                                                          \"Access-Control-Allow-Headers\": \"Origin, X-Requested-With, Content-Type, Accept, Authorization, SOAPAction\"\n",
      "                                                           }\n",
      "               },\n",
      "But still, the response header doesn't contain the desired value. Only the \"x-frame-options\" is currently sent : \n",
      "The \"cors\" part isn't transmitted at all.\n",
      "Does anyone have some input as to add the proper response header ?\n",
      "Thanks in advance.\n",
      "Regards \n",
      "\n",
      "\n",
      "I'm trying to get a notification when the signature flow on a purchase order is completed. So when the last person that signs off of an PO request then a notification would go out to a person so they know that the PO request is ready to be purchased. \n",
      "Here is what i have so far,but i can't get it to work. I need help with the setup. I don't know if i'm using the correct trigger or the conditions are right. \n",
      "\n",
      "\n",
      "\n",
      " \n",
      "\n",
      "\n",
      "Looking for a way to set up 1% discount until the 10th of the following month, net 11th.  I can do the net 11th but having issues with the 1% settlement discount.  Has anyone been able to accomplish this?  Thank you! \n",
      "\n",
      "\n",
      "I was banging on this for a bit today, but without luck.If you activate the template field while submitting a batch request, you can get a template file for submitting external batch process.My problem is though, the template field is deactivated, and i cannot find a way of activating it.I am logged in as admin, and i have checked the EXTBATCH parameter at folder and user level, and both are set to YES.I tried processing type and script type Tasks...  no luck.Anyone know what i might be missing?thank you. \n",
      "\n",
      "\n",
      "To access this download, log into https://sagekb.com/ and in the search field type 108395. Click Search\n",
      "For a complete list of available Sage X3 full-product downloads and patch updates, see the Sage X3 Download Portal. To access the Sage X3 Download Portal, go to https://sagekb.com/  enter your Log on credentials (in upper right corner), and type 23522 in the Search field. Click Search. \n",
      "\n",
      "Important: If you use third-party products that integrate with Sage X3 or ISVs, check with the vendor of your third-party product to ensure their product is fully compatible with this release. If you integrate with other Sage products, check with your business partner or Sage to ensure that these components are compatible. \n",
      "It is highly recommended that you work with a certified partner to install this patch.  \n",
      "Need more help? Visit ourâ€¯Sage City Customer Resourcesâ€¯page for additional resources, including links to support options like Online Case submission, the Sage Knowledgebase, Sage University, and more. \n",
      "\n",
      "  \n",
      "\n",
      "\n",
      "Is there a better way to write views with the plan of promoting from one folder to another?\n",
      "We regularly write views in a Dev folder for development and testing.  In doing so, we are required to include the folder name as part of the SQL statement then during promotion, modify the code to point to the correct folder.  If this is not included, when promoting from the Dev folder to the Prod folder, the query will retain the original folder as part of the view.  \n",
      "This is also problematic when copying a folder, we are required to then edit all the customized views to now point to the correct folder.  \n",
      "Here is an example: \n",
      "SELECT stmt as written in DEV on GESAVW\n",
      "SELECT STOFCY_0, SDHNUM_0, BPCORD_0, BPDNAM_0, BPAADD_0, DLVDAT_0 FROM SDELIVERYWHERE CFMFLG_0 = 1\n",
      "The SQL view will be as follows after validationSELECT STOFCY_0, SDHNUM_0, BPCORD_0, BPDNAM_0, BPAADD_0 AS BPADD_0, DLVDAT_0FROM DEV.SDELIVERYWHERE (CFMFLG_0 = 1)\n",
      "When copying to PROD from GESAVW and validating in PROD, the database retains the folder as DEV even though the code in the GESAVW does not contain the folder.  SELECT STOFCY_0, SDHNUM_0, BPCORD_0, BPDNAM_0, BPAADD_0 AS BPADD_0, DLVDAT_0FROM DEV.SDELIVERYWHERE (CFMFLG_0 = 1) \n",
      "\n",
      "\n",
      "When trying to generate the positive pay file - we experience the following error - file return error - no checks selected. There are checks generated and printed. \n",
      "\n",
      "\n",
      "We have many bank accounts that we generate positive pay files to.  All of the accounts are at the same bank and the bank has confirmed they would accept a file with multiple bank accounts as long as the account number was in the file.\n",
      "However, when I generate positive pay files for All companies I get a bunch of individual files.  I assume it is because there had to be a bank definition for each account for it to even work with positive pay.\n",
      "I saw something in the bank definition called Bank File Group, but it is greyed out on our screen.  Can anyone tell me what a Bank File Group is?\n",
      "Has anyone been successful in generating a positive pay file for multiple bank accounts?\n",
      "Thank you.\n",
      "Cindy \n",
      "\n",
      "\n",
      "When creating a Bank account under Common data->BP accounting tables I face the following error \"No interface code: RLB06 Bank without treasury tracking\"and I can't move away from this warning error and I can't add the Bank account.I have created the bank account under accounts, linked it to the right company, created the journal codes and linked the account to it and selected treasury. I have also opened the journal codes. When the employee tries to make a payment receipt entry, the bank does not show up. and because I cannot add it to the bank account under common data -> BP accounting tables I cannot fix his issue.\n",
      "\n",
      "Any help is greatly appreciated. \n",
      "\n",
      " \n",
      "\n",
      "\n",
      "hi all\n",
      "how do you write & debug code in V12 ?\n",
      "I was told that I can only use eclipse and it is very slow to debug + performance is bad + weird to attach eclipse to a process.\n",
      "eclipse also disconnect from unknown reason during debug.\n",
      "\n",
      "thx\n",
      "Barak \n",
      "\n",
      "\n",
      "Is there a variable or a call to get the path where Syracuse is installed? \n",
      "\n",
      "\n",
      "Changed AX3 Data Type from 30 to 140 Character but saving only 80 characters.Also updated Data Dictionary \n",
      "Table/View/Screen/Generated Screen.\n",
      "How this issue will be resolved. \n",
      "\n",
      "\n",
      "Changed AX3 Data Type from 30 to 140 Character but saving only 80 characters.Also updated Data Dictionary \n",
      "Table/View/Screen/Generated Screen.\n",
      "How this issue will be resolved. \n",
      "\n",
      "\n",
      "Good Morning, \n",
      "We are getting an error message when we try to set the reversal date to 01/01/2021. (The accounting date is 12/31/2020).\n",
      "This is only happening to some of our journal entries. \n",
      "Would anybody be able to tell me why this error message is triggering on some of our journal entries?\n",
      "I found the code that gets triggered to cause this:\n",
      "script: SUBGA1\n",
      "line 2026-2037\n",
      "\n",
      "If !clalev([F:DAE3]) : Local File GACCENTRYD [DAE3] : Endif For I=0 To [M:HAEF]NBRC-1 Call GETEXE([M]CPY,[M:HAEF]TYPC(I),VALEUR,OFIY) From CPTSUB If GREP<>\"D\" & [M:HAEF]FIY(I)<>OFIY Filter [DAE3] Where TYP=[M]TYP & NUM=[M]NUM & LEDTYP=[M:HAEF]TYPC(I) Read [DAE3]First If !fstat GMESSAGE = mess(5,106,1) : # Changement d'exercice interdit mkstat = 2 : Break Endif Endif Next\n",
      "We are currently on sage x3 v11, patch 14\n",
      "\n",
      "Thanks,\n",
      "Chris  \n",
      "\n",
      "\n",
      "Has anyone set up a credit card account as a bank to use when you are paying your supplier invoices with a credit card?  The g/l account would be the credit card liability instead of cash.\n",
      "When we pay our suppliers by credit card, we want the invoice to be on the Supplier for the history and to use credit card as a payment method. Would we need to set the credit card up as a bank to do this?\n",
      "Thank you.\n",
      "Cindy \n",
      "\n",
      "\n",
      "I have created a sale order , let  me know how I can create or get  Material Requirement.requirement.\n",
      "\n",
      "Regards\n",
      "Gautam \n",
      "\n",
      "\n",
      "D:\\Sage\\SAGEX3V7\\X3V71\\folders\\TEST\\TRT\\WGWMSFCSTD.adx : File Non-existent\n",
      "\n",
      "How to resolve this error.\n",
      "\n",
      "Regards\n",
      " \n",
      "\n",
      "\n",
      "Hello,\n",
      "\n",
      "When using order-delivery-sales invoice:\n",
      "We often find that Sales Invoices have been created and posted, (Using Auto-Delivery creation and Auto-Invoicing functionality due to large volumes) but they carry incorrect details or qty etc. As far as I know deliveries cannot be returned and open order set to YES if the invoice has been created already.\n",
      "The issue is that this means we currently credit the invoice and then have to re-start the entire order to delivery to invoice process to correct this and this takes enormous time due to large volumes.\n",
      "Is there a way to credit a Sales Invoice and be able to use the original orders to create new deliveries and a new invoice ? (Assuming the whole list of deliveries would need to be returned) or any other suggestions as this process also results in loss of traceability\n",
      "Thanks so much \n",
      "\n",
      "\n",
      "how to change \"Approve request signature\" for Supplier Order\n",
      "Regards \n",
      "\n",
      "\n",
      "Sage X3 Error - routing is in development (use not authorised) in sage x3\n",
      "While creating Work Order\n",
      "\n",
      "Regards \n",
      "\n",
      "\n",
      "Hello,\n",
      "I'm trying to install SageX3 v12, first time, on my windows computer with MSSQL DB.\n",
      "\n",
      "I'm having the following error ERR_CHECK_VALFILS , do you have any idea how to fix or find the cause ? Maybe a list of log files to check?\n",
      "\n",
      "1/18/2021 9:59:22 AM : INFO  - ---------------------------------------------------------------------\n",
      "1/18/2021 9:59:22 AM : INFO  - Sage Application setup 1/18/2021 9:59:22 AM\n",
      "1/18/2021 9:59:22 AM : INFO  - ---------------------------------------------------------------------\n",
      "1/18/2021 9:59:22 AM : INFO  - Starting application configuration\n",
      "1/18/2021 9:59:22 AM : INFO  - \n",
      "1/18/2021 9:59:22 AM : INFO  - *--- Sage Application setup ---*\n",
      "1/18/2021 9:59:22 AM : INFO  - Application : reading adxinstalls on localhost...\n",
      "1/18/2021 9:59:22 AM : INFO  - Information from adxinstalls.xml on application server retrieved.\n",
      "1/18/2021 9:59:22 AM : INFO  - Ok\n",
      "1/18/2021 9:59:22 AM : INFO  - Database : reading adxinstalls on localhost...\n",
      "1/18/2021 9:59:22 AM : INFO  - Information from adxinstalls.xml on data server retrieved.\n",
      "1/18/2021 9:59:22 AM : INFO  - Ok\n",
      "1/18/2021 9:59:22 AM : INFO  - Information from adxinstalls.xml retrieved.\n",
      "1/18/2021 9:59:22 AM : INFO  - Ok\n",
      "1/18/2021 9:59:22 AM : INFO  - Main runtime : reading adxinstalls on localhost...\n",
      "1/18/2021 9:59:22 AM : INFO  - Information from adxinstalls.xml on main runtime server retrieved.\n",
      "1/18/2021 9:59:22 AM : INFO  - Ok\n",
      "1/18/2021 9:59:22 AM : INFO  - Reading solution.xml on localhost...\n",
      "1/18/2021 9:59:22 AM : INFO  - Information from solution.xml retrieved.\n",
      "1/18/2021 9:59:22 AM : INFO  - Ok\n",
      "1/18/2021 9:59:22 AM : INFO  - Starting configuration from Runtime SAFEX3RUNTIME, localhost:\n",
      "1/18/2021 9:59:22 AM : INFO  - File c:\\Sage\\SAFEX3APPLICATION\\folders\\X3\\X3APPLI.ini retrieved from localhost. (LibAdm.GenerationScriptsAppliNT)\n",
      "1/18/2021 9:59:25 AM : INFO  - Database user X3 and roles are not available.  (LibAdm.RunVerifSchemaBaseSqlServer)\n",
      "1/18/2021 9:59:25 AM : INFO  - Database schema check failed.  (LibAdm.RunVerifSchemaBaseSqlServer)\n",
      "1/18/2021 9:59:25 AM : INFO  - User for folder X3 will be created. (LibAdm.GenerationScriptsAppliNT)\n",
      "1/18/2021 9:59:26 AM : INFO  - Directory c:\\Sage\\SAFEX3APPLICATION\\folders\\X3\\FIL initialized.\n",
      "1/18/2021 9:59:27 AM : INFO  - Creation of sagex3_CrUsr.bat done. \n",
      "1/18/2021 9:59:27 AM : INFO  - Creation of _adxmainfil.bat.\n",
      "1/18/2021 9:59:28 AM : INFO  - Tables list from FILPLAT in main folder created. (LibAdm.GenerationScriptsAppliNT)\n",
      "1/18/2021 9:59:29 AM : INFO  - Tables list from FILPLATSYS in main folder created. \n",
      "1/18/2021 9:59:29 AM : INFO  - Creation of _adxmainfil.bat done.\n",
      "1/18/2021 9:59:31 AM : INFO  - File c:\\Sage\\SAFEX3APPLICATION\\folders\\X3\\X3APPLI.ini sent on application server localhost.\n",
      "1/18/2021 9:59:31 AM : INFO  - File c:\\Sage\\SAFEX3APPLICATION\\folders\\X3\\FILPLAT\\sagex3_CrUsr.bat sent on application server localhost.\n",
      "1/18/2021 9:59:31 AM : INFO  - Launching sagex3_CrUsr.bat ... (LibAdm.RunCreateUserSQLMainNT)\n",
      "1/18/2021 9:59:34 AM : INFO  - Execution of sagex3_CrUsr.bat done.\n",
      "1/18/2021 9:59:37 AM : INFO  - Database schema X3 is available and storages are online (LibAdm.RunVerifSchemaBaseSqlServer)\n",
      "1/18/2021 9:59:46 AM : INFO  - Valfil test performed with success.\n",
      "1/18/2021 9:59:46 AM : INFO  - Database sagex3 loading... \n",
      "1/18/2021 9:59:46 AM : INFO  - 778 tables found\n",
      "1/18/2021 9:59:46 AM : INFO  - 0038 tables loaded - 05% - AABREV - ACLBSYS\n",
      "1/18/2021 9:59:57 AM : ERROR - Error No 76\n",
      "\n",
      "[Microsoft][SQL Server Native Client 11.0][SQL Server]The CREATE UNIQUE INDEX statement terminated because a duplicate key was found for the object name 'X3.ABITRAUNV' and the index name 'ABITRAUNV_ATV0'. The duplicate key value is (MFGCOST, MFC1-MFGCSTPE\n",
      "\n",
      "1/18/2021 9:59:57 AM : WARN  - Warning ! Following group or table could not be loaded into database : 0000-AABREV-ACLBSYS. (LibAdm.RunValFilMain)\n",
      "1/18/2021 9:59:57 AM : INFO  - 0076 tables loaded - 10% - ACLOB - ADOVALHIS\n",
      "1/18/2021 10:01:04 AM : INFO  - 0114 tables loaded - 15% - AELT - AMAINT\n",
      "1/18/2021 10:01:13 AM : INFO  - 0152 tables loaded - 20% - AMEMO - APLLCK\n",
      "1/18/2021 10:01:34 AM : INFO  - 0190 tables loaded - 25% - APLSTD - ASHWMET\n",
      "1/18/2021 10:02:08 AM : INFO  - 0228 tables loaded - 30% - ASHWOPT - AVIEWE\n",
      "1/18/2021 10:03:07 AM : ERROR - Error No 76\n",
      "\n",
      "[Microsoft][SQL Server Native Client 11.0][SQL Server]The CREATE UNIQUE INDEX statement terminated because a duplicate key was found for the object name 'X3.ATEXTRA' and the index name 'ATEXTRA_AXX0'. The duplicate key value is (AVOLUME, DES, CHI, zSVG,  \n",
      "\n",
      "1/18/2021 10:03:07 AM : WARN  - Warning ! Following group or table could not be loaded into database : 0005-ASHWOPT-AVIEWE. (LibAdm.RunValFilMain)\n",
      "1/18/2021 10:03:07 AM : INFO  - 0266 tables loaded - 35% - AVOCAB - AYTLINES\n",
      "1/18/2021 10:03:15 AM : INFO  - 0304 tables loaded - 40% - AYTMEN - CCMACTION\n",
      "1/18/2021 10:03:22 AM : INFO  - 0342 tables loaded - 44% - COMPANY - EDIFRM\n",
      "1/18/2021 10:03:29 AM : INFO  - 0380 tables loaded - 49% - EDIMSG - EMPLOCTRSTG\n",
      "1/18/2021 10:03:39 AM : INFO  - 0418 tables loaded - 54% - EMPLOCTRUKI - GACCOUNT\n",
      "1/18/2021 10:03:50 AM : INFO  - 0456 tables loaded - 59% - GACCOUNTA - HRDESCTRCOT\n",
      "1/18/2021 10:04:04 AM : INFO  - 0494 tables loaded - 64% - HRDSCFCY - HRDSNDMV5\n",
      "1/18/2021 10:04:11 AM : INFO  - 0532 tables loaded - 69% - HRDSNDMV6 - HRTAXCERTDED\n",
      "1/18/2021 10:04:18 AM : INFO  - 0570 tables loaded - 74% - HRTAXCERTINC - PARSTOACC\n",
      "1/18/2021 10:04:27 AM : INFO  - 0608 tables loaded - 79% - PARTRZL - PRTSCRWRK\n",
      "1/18/2021 10:05:44 AM : INFO  - 0646 tables loaded - 84% - PRVCLOB - SNPOPEAFF\n",
      "1/18/2021 10:05:52 AM : INFO  - 0684 tables loaded - 88% - SPREASON - TABSAFSTO\n",
      "1/18/2021 10:06:02 AM : INFO  - 0722 tables loaded - 93% - TABSDHTYP - TMPSRPTDET\n",
      "1/18/2021 10:06:33 AM : INFO  - 0760 tables loaded - 98% - TRAINER - AECLIDBG\n",
      "1/18/2021 10:06:58 AM : INFO  - Database sagex3 loaded in 00:07:20.5628553\n",
      "1/18/2021 10:06:58 AM : INFO  - Launching X3_misc.sql. (LibAdm.LaunchMisc)\n",
      "1/18/2021 10:06:59 AM : INFO  - c:\\Sage\\SAFEX3APPLICATION\\folders\\X3\\FILPLAT\\X3_Misc.sql executed.\n",
      "1/18/2021 10:06:59 AM : WARN  - Error(s) detected in sagex3 database loading. (LibAdm.RunValFilMain)\n",
      "1/18/2021 10:06:59 AM : FATAL - Configuration aborted\n",
      "1/18/2021 10:06:59 AM : FATAL - ERR_CHECK_VALFILS\n",
      "Thanks for your support.\n",
      "Alexandre \n",
      "\n",
      "\n",
      "Hi GuysI've implemented create report functionality. The following part is calling report creator:Call ETAT(\"ZLETTREVIRR\", \"FILEPDF\", \"\", 0, PROP, TPAR, TVAL) From AIMP3Where \"FILEPDF\" destination - output file type pdf.I also added FICHER for saving in the server directory: $ACTION\n",
      "\tCase ACTION\n",
      "\t\tWhen \"FICHIER\" : Gosub FICHIER\n",
      "\t\tWhen Default\n",
      "\tEndcase\n",
      "Return\n",
      "\n",
      "$FICHIER\n",
      "\tLocal Integer YTEMP\n",
      "\tFor YTEMP = 0 To 1\n",
      "\t\tIf [M:AIP]TBPAR(YTEMP) =\"filnam\"\n",
      "\t\t\t FICHIER =  filpath(\"tmp\", \"test\",\"pdf\",nomap(0),\"\"):  infbox FICHIER\n",
      "\t\t\t #Break\n",
      "\t\tEndif\n",
      "\tNext\n",
      "Return\n",
      "\n",
      "Subprog IMPRIME(NBPAR,PARAMETRE)\n",
      "Value    Integer NBPAR\n",
      "Variable Char PARAMETRE()()\n",
      "Call EXEC(NBPAR,PARAMETRE)\n",
      "End\n",
      "\n",
      "Subprog EXEC(NBPAR,PARAMETRE)\n",
      "Value Integer    NBPAR\n",
      "Variable Char    PARAMETRE()()\n",
      "End\n",
      "On my local environment report creation working and file saving in the TMP directory but on the client-server file not created in the corresponding TMP directory.So how can I solve this issue? Is it possible that ETAT not have access to the TMP directory to save file? \n",
      "\n",
      "\n",
      "When trying to run the depreciation calculation, I am getting Error 20: File nonexistent.  In the KnowledgeBase it suggest that I run process UCREDEPCUM before running the calculation again, but this hasn't worked.  Does anyone have any suggestions? \n",
      "\n",
      "\n",
      "I trying to validate my deliveries using the  VALIDATION() subprogram in the TRTVENLIVV file. \n",
      "Whenever, I successfully validate a delivery, the record is locked up. \n",
      "I added the Unlock = \"SDH\"+delivery_number command, but the record is still locked up. \n",
      "Anybody have any ideas? I am currently on version 11, patch 14. \n",
      "Call VALIDATION(SDHNUM) From TRTVENLIVV\n",
      "Unlock = \"SDH:\"+SDHNUM\n",
      "\n",
      "Thanks,\n",
      "Chris  \n",
      "\n",
      "\n",
      "Is there an easier way to adjust the Lot# after an invoice has been created?  The current process is to do a customer return, credit the invoice, create new SO, shipment and invoice with corrected batch.   I was wondering if there is a shortcut where we can use the same invoice number. \n",
      "\n",
      "\n",
      "Hi Sagiens,\n",
      "\n",
      "When i run CLOPER i am getting Revenue with apportionment not posted error. Please advise how to get rid of this\n",
      "\n",
      "Thanks \n",
      "\n",
      "\n",
      "We have many intercompany transactions. Right now we calculate our profit eliminations outside of X3 and adjust our financials in Excel. I'd like to look at consolidating using X3. Does anyone have any guidance or advice on this? I haven't had a lot of luck researching this topic. \n",
      "\n",
      "\n",
      "Is there a way to export or see the fields used on old Graphical Queries that are no longer visible. Will then use this to create new queries via the old graphical tool  \n",
      "\n",
      "\n",
      "We enter into a contract with a supplier that drop ships multiple trucks directly to the customer.  How is that done in X3?\n",
      "Example:\n",
      "A customer requests a quote for 1 million pounds of product which requires at least 25 shipments from the supplier to the customer.  We then negotiate a price with the supplier including drop ships to the customer and quote the customer.  The customer places the order and we place the order with the supplier.  So, I need to put a PO in for the 1 million pounds of product from the supplier and a Sales Order in for the customer for the 1 million pounds of product.  When the customer is ready for the first truck, we instruct the supplier where to send the product.\n",
      "\n",
      "What is a better way of entering this type of transaction in X3? \n",
      "\n",
      "\n",
      "For a stock sales order, I understand that X3 checks for sufficient stock on hand at time of creating Sales Delivery. If there is insufficient stock on hand then the Sales Delivery cannot be saved. Is it possible to delay this check until validation of sales delivery?  If it is possible, let me know if you're aware of any considerations/cautions relating to doing this. \n",
      "\n",
      "\n",
      "Every Sales Order we process (Stock and Back to Back sources) requires a carrier (truck/rail) service to ship product to customer.\n",
      "We're integrating with a Transport Management System to help us with carrier selection.\n",
      "What's the best way to represent Shipment Requests in X3?\n",
      "The Sales Delivery record seems logical to me but I understand that X3 requires stock to be on hand at the time the Sales Delivery is created (prior to validation). This isn't always true when booking trucks in advance of shipments.\n",
      "If you know how to send Shipment Requests from X3 to carriers, then I'd appreciate your point of view.\n",
      " \n",
      "\n",
      "\n",
      "We are looking to connect to a 3PL via API but need developer support.  Our assigned service provider has no options and we're still looking to build a team to support.  Anyone suggestions for individuals or agencies that may be able to help would be appreicated! \n",
      "\n",
      "\n",
      "I need import 101 for dummies as we have never used imports before.  Goal - to take an excel file containing supplier invoice information and import it into X3.  I am on v12; patch 18.  I have read the help from Setup>Usage>Imports/Exports>import/export templates but that really was no help to me at this point.  We do not have any customizations for the invoice screen so hopefully I can use a standard template.  Thanks in advance! \n",
      "\n",
      "\n",
      "Is there a reason I can edit PO and transfer suggestion but not work order suggestions? System design or is there a general parameter at play? \n",
      "\n",
      "\n",
      "We have many companies and many bank accounts.  We do an intercompany bank journal to record the transfers between the bank accounts of the different companies.\n",
      "For the most part, it is working and we see the transfers showing up as either deposits or withdrawals in the bank reconciliations, but I have noticed that if we had two lines for the same bank account it sums the two amounts together when it is posting.\n",
      "For example, Company A, Bank A had two different transfers of 200 to Company B, Bank B.  When you look at the reconciliations, Company A, Bank A has one withdrawal of 400 and Company B, Bank B has one deposit of 400.\n",
      "Is this just the way it is, or is there a setting where you can specify it to post in detail and not summary?\n",
      "Thank you for your help.\n",
      "Cindy \n",
      "\n",
      "\n",
      "To access this download, log into https://support.na.sage.com/ and in the search field type 109270. Click Search.\n",
      "\n",
      "For a complete list of available Sage X3 full-product downloads and patch updates, see the Sage X3 Download Portal. To access the Sage X3 Download Portal, go to https://support.na.sage.com/, enter your Log on credentials (in upper right corner), and type 23522 in the Search field. Click Search. \n",
      "Important: If you use third-party products that integrate with Sage X3 or ISVs, check with the vendor of your third-party product to ensure their product is fully compatible with this release. If you integrate with other Sage products, check with your business partner or Sage to ensure that these components are compatible. \n",
      "It is highly recommended that you work with a certified partner to install this patch.  \n",
      " \n",
      "\n",
      "\n",
      "To access this download, log into https://support.na.sage.com/ and in the search field type 109281. Click Search.\n",
      "For a complete list of available Sage X3 full-product downloads and patch updates, see the Sage X3 Download Portal. To access the Sage X3 Download Portal, go to https://support.na.sage.com/, enter your Log on credentials (in upper right corner), and type 23522 in the Search field. Click Search. \n",
      "Important: If you use third-party products that integrate with Sage X3 or ISVs, check with the vendor of your third-party product to ensure their product is fully compatible with this release. If you integrate with other Sage products, check with your business partner or Sage to ensure that these components are compatible. \n",
      "It is highly recommended that you work with a certified partner to install this patch.   \n",
      "\n",
      "\n",
      "I want my mobilisation fee to be on Total sum including taxes not on total sum excluding taxes. How to? \n",
      "\n",
      "\n",
      "Have you seen our new blog posting \"Where can I find additional information? (UKI)\"  If not, this may help you to find out useful hints and tips about using Sage X3 \n",
      "\n",
      "\n",
      "I want my prepayment to be paid on total including tax not total excluding tax. Please!! \n",
      "\n",
      "\n",
      "We are having an issue where a Purchase Receipt is done in Sage.\n",
      "The stock interface is run and the journal created is based on some lines and not all lines.\n",
      "Further investigation have shown that the missing line does not even exist in STOJOU table.\n",
      "\n",
      "Below are screenshots of PO, Receipt,  and Journal \n",
      "Purchase Order lines\n",
      "\n",
      "Purchase Receipt lines\n",
      "The line in red is in purchase receipt detail but not in STOJOU and hence not in GL Journal \n",
      "\n",
      "Journal lines\n",
      "there are 4 lines and the other one is missing.\n",
      "\n",
      "\n",
      "\n",
      "What causes this? How do we fix? \n",
      "\n",
      "\n",
      "Hi All,\n",
      "We have created customized signature approval workflow for purchase invoice and supplier invoice in version 12. We have set the operation of workflow to '2' as we want the workflow to trigger once the invoice is posted.The workflow works fine when the invoice is posted manually by clicking 'post' button from invoice screen. But when we do posting of multiple invoices from bulk invoice validation screen, the workflow do not get trigger.We tried triggering the workflow through code i.e. \"Call WORKFLOW(TYPEVT,CODEVT,OPERAT,CLEOBJ) from AWRK\", we can see the workflow is triggered in the log(debug mode is on) but we find no signature history for that particular invoice.\n",
      "\n",
      "Any inputs on the same will be highly appreciated. \n",
      "\n",
      "\n",
      "Hi,\n",
      "Just want to raise a question in terms of Sales order placing in Sage X3.\n",
      "When we enter a sales order for item X and get a free good of the same item, the free X will be entered through another line with price 0 and 100% discount ( this is pre-identified in the price list), knowing that items X has a price of $60 and cost of $10, then the margin should be $50.\n",
      "Once we enter a free good of the same item on the second line; the price will be zero and the discount is 100%, cost is $10 for the 2nd line but once you will see the margin it will stay $50 for the 2 items ( X+Fee X), that means that the system is not calculating the cost of the free item. and the margin will be 50 while it should be 40 (60-(10+10)).\n",
      "Is there a possible way to resolve this issue by having a built in formula to be adjusted for the way the system calculates the margin?\n",
      "Thanks in advance \n",
      "\n",
      "\n",
      "Hello,\n",
      "I'm curious to know what is the main reason to change the batch server from the application server to the syracuse server level. \n",
      "Any idea about the advantage or the improvement reason behind this major modification ?\n",
      "Can we always check by adonix code if the batch server is active or no ? (Example of using the STOP field of the table ABATPAR in the U9 version --> TRT : CPTBATCH)\n",
      "Thank you in advance for any help.\n",
      "Jean. \n",
      "\n",
      "\n",
      "Product design function - GESNPI and GESNPIPC, what do these do? i have NPI activity code on but i cant enter GESNPI and GESNPIPC does not show anywhere in the menus. Online help does not hold any informaion on this\n",
      "cant find anything in sage city or even sage U.\n",
      "Anyone knows where i can get some info on this?\n",
      "\n",
      "Many , many thanks \n",
      "\n",
      "\n",
      "Hi Sage Community!\n",
      "After struggling with this problem I decided to post it here just in case someone had or is having the same situation as we do.\n",
      "We have a system that manages the receipts thought import templates and is working just fine in different Sage X3 installations, but we kind of found an strange behaviour recently that we are not able to solve.\n",
      "When we launch the command IMPORTSIL with our RECEIPTS using the batch server it returns an error that says the \"Wrong stock transaction detail\"  but when we retry to import this file thought the import system that X3 has it doesn't return any error and works properly.\n",
      "This only happens with the receipts, deliveries are working properly and is more or less the same file format.\n",
      "Origin error:\n",
      "\n",
      "After we reprocess the same file not using the batch (is the same being executed the only difference is the environtment):\n",
      "\n",
      "\n",
      "Thanks in advance!\n",
      "Regards. \n",
      "\n",
      "\n",
      "I have a user that has a blank Product Status List.  My list comes up just fine but his is blank.  I'm trying to find the permissions that controls how that list is populated.  See the screen shot for the specific list I am referring to.\n",
      " \n",
      "\n",
      "\n",
      "I tried to figure out, how to get, that when a Purchase invoice is created from the Purchase order, the dimension of the purchase order invoice elements is automatically populated also in the purchase invoice.\n",
      "Any ideas how to achieve it? \n",
      "\n",
      "\n",
      "To access this download, log in to https://support.na.sage.com/ and in the search field type 109852. Click Search.\n",
      "\n",
      "For a complete list of available Sage X3 full-product downloads and patch updates, see the Sage X3 Download Portal. To access the Sage X3 Download Portal, go to https://support.na.sage.com/, enter your Log on credentials (in upper right corner), and type 23522 in the Search field. Click Search. \n",
      "Important: If you use third-party products that integrate with Sage X3 or ISVs, check with the vendor of your third-party product to ensure their product is fully compatible with this release. If you integrate with other Sage products, check with your business partner or Sage to ensure that these components are compatible. \n",
      "It is highly recommended that you work with a certified partner to install this patch.  \n",
      "Need more help? Visit ourâ€¯Sage City Customer Resourcesâ€¯page for additional resources, including links to support options like Online Case submission, the Sage Knowledgebase, Sage University, and more.\n",
      " \n",
      "\n",
      "\n",
      "Hi all,\n",
      "I'm importing journal entries using a treasury account on them.\n",
      "I'm getting an error in some of these journals on the group ledger:\n",
      "\n",
      "I have the journal setup with a treasury account of the legal ledger and it seems that the importing does a check on the group ledger somewhere even though it is not indicated on the import file (only legal ledger is). This treasury account is mapped to group ledger.\n",
      "Apparently it is random: it can happen on the first document to import, on the middle or even on the last document to import. Furthermore, some of these journal entires are being imported with the same treasury account but others are not.\n",
      "Any thoughts?\n",
      "Thank you,\n",
      "Vânia Cardoso  \n",
      "\n",
      "\n",
      "Since yesterday, I get the following exception every time I open eclipse editor to script code for x3:\n",
      "\n",
      "Does anyone else have the same issue?\n",
      "\n",
      "Regards, Benjamin \n",
      "\n",
      "\n",
      "Hi Sage X3 Community!\n",
      "Hope everyones doing well.\n",
      "\n",
      "I have an interesting scenario...  I have a label that I'm trying to get to print to 4x6, which is working.. however it keeps printing an extra blank page, and I believe its because the details section Width is set to 6\" - see screenshot below\n",
      "I boxed the gridline in yellow\n",
      "\n",
      "\n",
      "Any feedback on how this detail section managed to get its entire own width be great!! Thanks so much \n",
      "\n",
      "\n",
      "Is there any documentation on how to use Enterprise Planning and how it relates to Planning Workbench and Grouping Workbench? \n",
      "\n",
      "\n",
      "Is there a way to add a fee that is automatically calculated as a percentage of the order value onto a sales order or Invoice if the customer is paying with a credit card ?  \n",
      "\n",
      "\n",
      "Users are receiving the RECORD LOCKED issue from stock tables if any bulk upload is happing through batch\n",
      "This issue triggers when doing batch import of sales invoice and return.\n",
      "Every day end up to 6000 sales invoice and return entries imported into system by multiple batch process.\n",
      "While importing sales invoice and return for one product with same site even with different warehouse system locks the record and entry not created.\n",
      "Is there any way to update record lock logic ïƒ  while locking record , along with product and site system consider warehouse? \n",
      "\n",
      "\n",
      "I've worked with web-service and imports a lot, but not too much with exports. The requirement here is I need to export the SO whenever it is created in X3 to a particular 'ftp' location & also I need to know how to define that ftp location in x3. Is there a way to connect to an ftp site, and send the files there from within X3? With code or functinality... \n",
      "\n",
      "\n",
      "Hi\n",
      "\n",
      "I need to add a check for a User's Supervisor to enter his password in a certain scenario.  How can I have the system prompt for a User's password? This is in V12.\n",
      "\n",
      "This function accepts anything as correct, or doesn't work.\n",
      "Read [AUS]LOGIN=toupper(vireblc(USERCODE,0))Call CTLPAS(vireblc(PASSWORD,0), OK) From GESUSER\n",
      "\n",
      "The PASSE function doesn't work - that is for the classic user password, not Syracuse user password.\n",
      "\n",
      "Is there a Syracuse password check? \n",
      "\n",
      "\n",
      "As the subject says, which browser is best to use in an android barcode reader for functions used in an PDA? (ADC Sales Picking, etc.)\n",
      "We have some development going to use our PDA's to do everything warehouse related directly in Sage X3 V12 but we've been having some errors on transactions and since we are not having those errors testing in an Desktop browser, we are starting to think its the android browser that's making these problems happen. We are currently using Fully Kiosk Browser.\n",
      "\n",
      "Will be waiting for feedback!\n",
      "\n",
      "Best Regards,\n",
      "\n",
      "Alexandre \n",
      "\n",
      "\n",
      "Hi all\n",
      "\n",
      "I am trying to check if after making a Global Allocation in a Sales Order is possible to make a deallocation in Line Level. I am working with SAGE X3 and I have an orders with 15 lines and I need to deallocate just 4 of them. Has SAGE this functionality? \n",
      "\n",
      "\n",
      "Hi Sage Community!\n",
      "Recently we found in our Software an unexpected behaviour related with some articles that are set at Compound Kit.\n",
      "Through our development we manage to do deliveries and invoices that are related to those deliveries, both things we do via import template and they are working correctly so far.\n",
      "The problem comes when one of the articles is a Compound Kit, the delivery is done properly (import) but when we create the invoice of this delivery using the import template for invoices it duplicates the components in the invoice.\n",
      "Import\n",
      "\n",
      "Result:\n",
      "\n",
      "\n",
      "Does someone had the same situation?\n",
      "We are sure that we could be checking when we create the invoice file the articles and if some article appears to be a kit not to add the components checking the structure but is risky if the delivery has the component outside of the kit.\n",
      "Thanks for the assistance.\n",
      "Kind regards. \n",
      "\n",
      "\n",
      "Is there a way to have a misc. issue (or receipt) used to correct inventory but not have it affect product site totals? Our planners use those totals for procurement planning.\n",
      "\n",
      "Thanks\n",
      "Justin \n",
      "\n",
      "\n",
      "Hi all,\n",
      "Does anyone have any documentation related to DATEV implementation on Sage X3? Or any other useful information about DATEV?\n",
      "Thank you! \n",
      "\n",
      "\n",
      "We are in version V11 and are in need of creating purchase orders for services.  Would anyone know how to go about this process?  Would the service need to be configured as a product?  Would we be able to create a purchase invoice?  What about the purchase receipt since there is nothing to be received?  If anyone has any idea on how we can go about please let me know.\n",
      "regards,\n",
      "Christine \n",
      "\n",
      "\n",
      "To access this download, log into https://support.na.sage.com/ and in the search field type 110932. Click Search.\n",
      "\n",
      "For a complete list of available Sage X3 full-product downloads and patch updates, see the Sage X3 Download Portal. To access the Sage X3 Download Portal, go to https://support.na.sage.com/, enter your Log on credentials (in upper right corner), and type 23522 in the Search field. Click Search. \n",
      "Important: If you use third-party products that integrate with Sage X3 or ISVs, check with the vendor of your third-party product to ensure their product is fully compatible with this release. If you integrate with other Sage products, check with your business partner or Sage to ensure that these components are compatible. \n",
      "It is highly recommended that you work with a certified partner to install this patch.  \n",
      " \n",
      "\n",
      "\n",
      "I have seen this question come up before, but I have not seen a resolution.  We have a need to build a customer returns API for accepting returns through a WMS system.  X3 has no import template for customer returns (SRH), and the web service does not work because it issues a pop-up for the stock details entry, and that cause the SOAP web service to fail.  Has anybody found a way to do customer returns via web services or import? \n",
      "\n",
      "\n",
      "Is anyone aware of existing functionally (like on the product record) so an item does not print on external sales documents (order / pack slip / invoice)? Example - a non-inventory item like freight that there is NO charge for (which is why we have the desire for it to not print); but we want to capture the fact that we are paying for it.  I know I can totally create a quick and easy custom flag field and use this in our reports to suppress printing - but I like using standard functionally when I can.  It seems I have seen this function in the past but I cannot seem to find it now (of course).  Thanks! \n",
      "\n",
      "\n",
      "For a Customer we import Sales Invoices using a template based on the SIH import template.\n",
      "\n",
      "\n",
      "Importing new, multiline invoices works fine. But when trying to update an invoice but adding an extra line, the error below occurs. A work around, is to first import the update to add the line without the line 'C' line (for the dimensions) and then import the same update again, this time with the 'C' line.\n",
      "Does anyone have any idea why importing these dimensions gives an error?\n",
      "\n",
      "\n",
      "\n",
      "-------------------- Record No. 3 (Line Number 9)\n",
      "\n",
      "\n",
      "@X3.TRT/TRTX3CPT$adx (2058) Error 8 : Index Incorrect CCE1(-1)\n",
      "\n",
      "\n",
      "Error 0 Line Number 0\n",
      "\n",
      "\n",
      "Sage X3 errors\n",
      "\n",
      "\n",
      "\n",
      "Field ITMREF(2) : Mandatory field <I-CCC09170>\n",
      "\n",
      "\n",
      "\n",
      "\n",
      "Many thanks,\n",
      "Gianni \n",
      "\n",
      "\n",
      "Hi guys,Is anyone aware why JWT security token error  comes up as shown below, when we export something from Planner One to excel.TIA \n",
      "\n",
      "\n",
      "Am wondering, is there any possibility to enter a new line below not above the current line on, like example, Sales order using some keyboard shortcut and without TAB'bing through all the columns to the right side? \n",
      "\n",
      "\n",
      "Some of our suppliers send our AP team invoices in advance, such that we have an invoice dated 06/01/2021 on 05/25/2021. Normally our AP team has to wait to enter the invoices until the Doc. Origin Date (BPRDATVCR), or else they receive the error below:\n",
      "\n",
      "According to our Accounting team, in the past we were able to enter invoices in advance, so the Accounting Date (ACCDAT) is less than the Doc. Origin Date (BPRDATVCR). I've run queries that confirm this. Is there a setting somewhere that would allow our team to enter future Doc. Origin Dates? It's much more reliable for our AP team to enter invoices as they arrive, rather than waiting for days and having to remember. \n",
      "\n",
      "\n",
      "To access this hotfix, log in to https://support.na.sage.com/ and in the search field type 111156. Click Search.\n",
      "\n",
      "For a complete list of available Sage X3 full-product downloads and patch updates, see the Sage X3 Download Portal. To access the Sage X3 Download Portal, go to https://support.na.sage.com/, enter your Log on credentials (in upper right corner), and type 23522 in the Search field. Click Search. \n",
      "Important: If you use third-party products that integrate with Sage X3 or ISVs, check with the vendor of your third-party product to ensure their product is fully compatible with this release. If you integrate with other Sage products, check with your business partner or Sage to ensure that these components are compatible. \n",
      "It is highly recommended that you work with a certified partner to install this patch.  \n",
      "Need more help? Visit ourâ€¯Sage City Customer Resourcesâ€¯page for additional resources, including links to support options like Online Case submission, the Sage Knowledgebase, Sage University, and more.\n",
      " \n",
      "\n",
      "\n",
      "To access this hotfix, log in to https://support.na.sage.com/ and in the search field type 111157. Click Search.\n",
      "\n",
      "For a complete list of available Sage X3 full-product downloads and patch updates, see the Sage X3 Download Portal. To access the Sage X3 Download Portal, go to https://support.na.sage.com/, enter your Log on credentials (in upper right corner), and type 23522 in the Search field. Click Search. \n",
      "Important: If you use third-party products that integrate with Sage X3 or ISVs, check with the vendor of your third-party product to ensure their product is fully compatible with this release. If you integrate with other Sage products, check with your business partner or Sage to ensure that these components are compatible. \n",
      "It is highly recommended that you work with a certified partner to install this patch.  \n",
      "Need more help? Visit ourâ€¯Sage City Customer Resourcesâ€¯page for additional resources, including links to support options like Online Case submission, the Sage Knowledgebase, Sage University, and more.\n",
      " \n",
      "\n",
      "\n",
      "Hello,\n",
      "I have posted a payment to a supplier using the payment/receipt entry mode. However, the invoice was not yet posted because i have received the invoice 2 weeks later.  How can i allocate the payment to the invoice please.\n",
      "Thanks for your help. \n",
      "\n",
      "\n",
      "Hello,I am launching the standard MODIF action for picking tickets from a specific but I am getting errors that it does not find some variables inside TABLEAUX (ACTION, ABLIG, ZONLIG...).Is there any other way to execute the actions of the register button on the picking tickets?Thank you very much. \n",
      "\n",
      "\n",
      "I need a Visual Basic routine that would re-format a CSV file from one application to be imported into Sage X3 V11. The application is moving invoice and payment details from one system to another. The basic difference is that the source file has one record per product sold, which includes all information of the transaction (customer, product, quantity sold, price, tax, payment and payment type). The converted file to be imported all needs to be structured differently. Two files are needed, one with the sales order information and the other with the payment details. Furthermore both of these files need to be formatted with a header and detail records for each sale. Also the customer number needs to be changed prior to importing. The customer file would have to be downloaded prior to conversion and a routine developed to convert the customer number. All converted files in CSV \"flat file\" format. Source file is in Excel.  \n",
      "\n",
      "\n",
      "Hello Dears \n",
      "I'm facing a major issue with my sales invoices, the customer have found that he accidently created 2 invoices for the same delivery even though the delivery is completely invoiced at the first time but it sometimes appear on the list list when he working for example he created an invoice then after an hour he created the second invoice for the same delivery \n",
      "its like the invoice flag is not being updated the first time he create the invoice \n",
      "please help me with this issue   \n",
      "\n",
      "\n",
      "Hi Team,\n",
      "In Stock Module, created a intersite Stock transfer. For those transfers need to generate a picking ticket and print.\n",
      "Any recommendations please.\n",
      "\n",
      "Regards,\n",
      "Karthick.\n",
      "\n",
      " \n",
      "\n",
      "\n",
      "I am setting up a batch job to export some stock information to send out through my EDI program.  We've done this several times in the past and accounted for the name of the file being the same by timing of the various scheduled jobs needed to do this.\n",
      "I am hoping that someone has solved the name issue before and we just haven't found it yet.  What we want to do is generate the export file several times a day so are hoping to see a time stamp as each file is generated.  Chrono Management keeps the data from being exported more than once, however I would like to have each export have a separate file name.\n",
      "We are on V12 Patch 24, has anyone solved this yet? \n",
      "\n",
      "\n",
      "Anyone know how automatically show only the last 30 days data? \n",
      "\n",
      "\n",
      "Anyone know how to prevent a calculated column total? Would it be better to add the column in Design Process? Version 8 here. \n",
      "\n",
      "\n",
      "Hi Team,\n",
      "\n",
      "I have created a new dashboard to display the SEI data charts in X3.\n",
      "I'm using Chrome browser, i refer this article to fix the issue but it doesn't work.\n",
      "https://support.na.sage.com/selfservice/viewdocument.do?noCount=true&externalId=106440&sliceId=1&docLink=true&languageId=&isDocLink=true&currentmsID=MS_Customer&cmd=&openedFromDocument=true&ViewedDocsListHelper=com.kanisa.apps.common.BaseViewedDocsListHelperImpl\n",
      "\n",
      "\n",
      "\n",
      "IE browser,\n",
      "Central point changed to alphanumeric and when i click \"Sign in\" button there's no action\n",
      "\n",
      "\n",
      "Any recommendations to fix the issue.\n",
      "\n",
      "Thanks for your support.\n",
      "\n",
      "Regards,\n",
      "Karthick. \n",
      "\n",
      "\n",
      "HI\n",
      "We upgraded from X3 V11 to V12. SEI version is 8.2.7.24. We have been experiencing slow speed in spooling reports. A daily report to fetch sales transactions takes more than 5 mins to spool.\n",
      "It's really frustrating. Any idea on how the performance can be improved. Someone advised DB Optimisation.; I have no idea how that is done. Kindly assist.\n",
      "Thanks \n",
      "\n",
      "\n",
      "Hi all! Trying to build a worksheet for top 100 customer revenue YTD. I have the customer name as a group and the measures as columns. Any idea on how to get it to sort descending on revenue instead only at the group? \n",
      "\n",
      "\n",
      "Hi,\n",
      "Please can someone guide me to setup SAML2 in SEI. Also, after we complete the installation would we be able to login with admin user without using SAML2. \n",
      "\n",
      "\n",
      "Anyone know how to do this? \n",
      "\n",
      "\n",
      "I've created a new folder in Favorites. How do I move what's already there into the new folder? \n",
      "\n",
      "\n",
      "Hello,\n",
      "As the title suggests, my business' reports are now being sent out an hour earlier than they should due to DST. When looking at the admin guide in SEI, it suggests I set a Time Zone for the scheduled job. However, as you can see below the option does not appear. \n",
      "\n",
      "Similarly, I have checked the time on the server SEI is hosted on, and it is reflecting the correct time. The KB page about DST and SEI Scheduler doesn't tell me how to actually fix the issue. \n",
      "Does anyone have an idea how to update the scheduler to change with DST? \n",
      "\n",
      "\n",
      "In prior versions of SEI for X3, I could create a new process using the PINVOICE table and BPSINVLIG and BPSINVLIGA tables to see the details of BP supplier invoices.  Version 9 of SEI does not include the BPSINVLIG and BPSINVLIGA tables.  Any ideas on how I can get this information by supplier? \n",
      "\n",
      "\n",
      "\n",
      "I'm trying to automate reporting for my organization. However when utilizing SEI's pivot function, it staggers the groups from the data itself making the data useless upon exporting to Excel. I'm hoping there's some setting where I can have a more traditional pivot layout appear in SEI.\n",
      "Thank you in advance for any help.  \n",
      "\n",
      "\n",
      "I have a pivot of WIP status and the values I see are firm and suggested. How can I add the two pivot columns for planned qty to get a total firm + suggested? \n",
      "\n",
      "\n",
      "Has anyone calculated the week number from a date field? We're version 8.2.5.27 \n",
      "\n",
      "\n",
      "\n",
      "\n",
      "I installed SEI version8.2.6.2 and was trying to configure the environment.Once the script button was clicked I am getting this error. PLease can someone help me as ASAP? \n",
      "\n",
      "\n",
      "Hello, I run SVG all nigths at 21.00. When the proccess DOSSVG arrive to AUDITL table show this message:\n",
      "\n",
      "\\AUDITL.dat can`t delete.\n",
      "\n",
      "And the proccess SVG is locked.\n",
      "\n",
      "Any idea or suggestion?\n",
      "\n",
      "Thanks!!\n",
      "\n",
      "\n",
      "\n",
      " \n",
      "\n",
      "\n",
      "Hello guys, \n",
      "\n",
      "I hope you are well. \n",
      "\n",
      "I made some researches but surprisingly, i didn't find any answer.\n",
      "In the table PORDERQ, do you know, how the field  RETRCPDAT is populated and what its purpose ? \n",
      "\n",
      "Many thanks for your help,  \n",
      "\n",
      "\n",
      "It says all the lines are converted but it did not generate a DAT file.\n",
      "Any idea please?\n",
      "\n",
      " \n",
      "\n",
      "\n",
      " \n",
      "\n",
      "\n"
     ]
    },
    {
     "data": {
      "text/plain": [
       "2       None\n",
       "3       None\n",
       "5       None\n",
       "6       None\n",
       "7       None\n",
       "        ... \n",
       "1055    None\n",
       "1070    None\n",
       "1082    None\n",
       "1083    None\n",
       "1084    None\n",
       "Name: Forum_Post_Raw, Length: 311, dtype: object"
      ]
     },
     "execution_count": 364,
     "metadata": {},
     "output_type": "execute_result"
    }
   ],
   "source": [
    "dfLDA[dfLDA['topic0']==0].Forum_Post_Raw.apply(lambda t: print(t, '\\n\\n'))"
   ]
  },
  {
   "cell_type": "code",
   "execution_count": 370,
   "metadata": {},
   "outputs": [
    {
     "data": {
      "text/html": [
       "<div>\n",
       "<style scoped>\n",
       "    .dataframe tbody tr th:only-of-type {\n",
       "        vertical-align: middle;\n",
       "    }\n",
       "\n",
       "    .dataframe tbody tr th {\n",
       "        vertical-align: top;\n",
       "    }\n",
       "\n",
       "    .dataframe thead th {\n",
       "        text-align: right;\n",
       "    }\n",
       "</style>\n",
       "<table border=\"1\" class=\"dataframe\">\n",
       "  <thead>\n",
       "    <tr style=\"text-align: right;\">\n",
       "      <th></th>\n",
       "      <th>Forum Name</th>\n",
       "      <th>Forum_Post_Raw</th>\n",
       "      <th>topic0_pct</th>\n",
       "      <th>topic1_pct</th>\n",
       "      <th>topic2_pct</th>\n",
       "    </tr>\n",
       "  </thead>\n",
       "  <tbody>\n",
       "    <tr>\n",
       "      <th>0</th>\n",
       "      <td>Sage X3 General Discussion</td>\n",
       "      <td>Company upgraded to windows 10. Used to run an...</td>\n",
       "      <td>0.999445</td>\n",
       "      <td>0.0</td>\n",
       "      <td>0.0</td>\n",
       "    </tr>\n",
       "    <tr>\n",
       "      <th>1</th>\n",
       "      <td>Sage X3 General Discussion</td>\n",
       "      <td>Hello!\\n\\nI see that Sage V11 patch 14 was com...</td>\n",
       "      <td>0.796473</td>\n",
       "      <td>0.203224</td>\n",
       "      <td>0.0</td>\n",
       "    </tr>\n",
       "    <tr>\n",
       "      <th>2</th>\n",
       "      <td>Sage X3 Announcements, News, and Alerts</td>\n",
       "      <td>To access this download, log into https://supp...</td>\n",
       "      <td>0.998949</td>\n",
       "      <td>0.0</td>\n",
       "      <td>0.0</td>\n",
       "    </tr>\n",
       "    <tr>\n",
       "      <th>3</th>\n",
       "      <td>Sage X3 Announcements, News, and Alerts</td>\n",
       "      <td>To access this download, log into https://supp...</td>\n",
       "      <td>0.998949</td>\n",
       "      <td>0.0</td>\n",
       "      <td>0.0</td>\n",
       "    </tr>\n",
       "    <tr>\n",
       "      <th>4</th>\n",
       "      <td>Sage X3 General Discussion</td>\n",
       "      <td>I am trying to remove some of the columns on t...</td>\n",
       "      <td>0.849211</td>\n",
       "      <td>0.150335</td>\n",
       "      <td>0.0</td>\n",
       "    </tr>\n",
       "    <tr>\n",
       "      <th>...</th>\n",
       "      <td>...</td>\n",
       "      <td>...</td>\n",
       "      <td>...</td>\n",
       "      <td>...</td>\n",
       "      <td>...</td>\n",
       "    </tr>\n",
       "    <tr>\n",
       "      <th>1081</th>\n",
       "      <td>Sage Data &amp;amp; Analytics</td>\n",
       "      <td>\\nThe above pic is  carry forward selection ch...</td>\n",
       "      <td>0.999131</td>\n",
       "      <td>0.0</td>\n",
       "      <td>0.0</td>\n",
       "    </tr>\n",
       "    <tr>\n",
       "      <th>1082</th>\n",
       "      <td>Sage Data &amp;amp; Analytics</td>\n",
       "      <td>Hello guys, \\n\\nI hope you are well. \\n\\nI mad...</td>\n",
       "      <td>0.998186</td>\n",
       "      <td>0.0</td>\n",
       "      <td>0.0</td>\n",
       "    </tr>\n",
       "    <tr>\n",
       "      <th>1083</th>\n",
       "      <td>Sage Data &amp;amp; Analytics</td>\n",
       "      <td>It says all the lines are converted but it did...</td>\n",
       "      <td>0.996023</td>\n",
       "      <td>0.0</td>\n",
       "      <td>0.0</td>\n",
       "    </tr>\n",
       "    <tr>\n",
       "      <th>1084</th>\n",
       "      <td>Sage Data &amp;amp; Analytics</td>\n",
       "      <td></td>\n",
       "      <td>0.333333</td>\n",
       "      <td>0.333333</td>\n",
       "      <td>0.333333</td>\n",
       "    </tr>\n",
       "    <tr>\n",
       "      <th>1085</th>\n",
       "      <td>Sage Data &amp;amp; Analytics</td>\n",
       "      <td>requester links aren't my strong suit- I can h...</td>\n",
       "      <td>0.640902</td>\n",
       "      <td>0.358191</td>\n",
       "      <td>0.0</td>\n",
       "    </tr>\n",
       "  </tbody>\n",
       "</table>\n",
       "<p>1086 rows × 5 columns</p>\n",
       "</div>"
      ],
      "text/plain": [
       "                                   Forum Name  \\\n",
       "0                  Sage X3 General Discussion   \n",
       "1                  Sage X3 General Discussion   \n",
       "2     Sage X3 Announcements, News, and Alerts   \n",
       "3     Sage X3 Announcements, News, and Alerts   \n",
       "4                  Sage X3 General Discussion   \n",
       "...                                       ...   \n",
       "1081                Sage Data &amp; Analytics   \n",
       "1082                Sage Data &amp; Analytics   \n",
       "1083                Sage Data &amp; Analytics   \n",
       "1084                Sage Data &amp; Analytics   \n",
       "1085                Sage Data &amp; Analytics   \n",
       "\n",
       "                                         Forum_Post_Raw topic0_pct topic1_pct  \\\n",
       "0     Company upgraded to windows 10. Used to run an...   0.999445        0.0   \n",
       "1     Hello!\\n\\nI see that Sage V11 patch 14 was com...   0.796473   0.203224   \n",
       "2     To access this download, log into https://supp...   0.998949        0.0   \n",
       "3     To access this download, log into https://supp...   0.998949        0.0   \n",
       "4     I am trying to remove some of the columns on t...   0.849211   0.150335   \n",
       "...                                                 ...        ...        ...   \n",
       "1081  \\nThe above pic is  carry forward selection ch...   0.999131        0.0   \n",
       "1082  Hello guys, \\n\\nI hope you are well. \\n\\nI mad...   0.998186        0.0   \n",
       "1083  It says all the lines are converted but it did...   0.996023        0.0   \n",
       "1084                                                      0.333333   0.333333   \n",
       "1085  requester links aren't my strong suit- I can h...   0.640902   0.358191   \n",
       "\n",
       "     topic2_pct  \n",
       "0           0.0  \n",
       "1           0.0  \n",
       "2           0.0  \n",
       "3           0.0  \n",
       "4           0.0  \n",
       "...         ...  \n",
       "1081        0.0  \n",
       "1082        0.0  \n",
       "1083        0.0  \n",
       "1084   0.333333  \n",
       "1085        0.0  \n",
       "\n",
       "[1086 rows x 5 columns]"
      ]
     },
     "execution_count": 370,
     "metadata": {},
     "output_type": "execute_result"
    }
   ],
   "source": [
    "dfResults = dfLDA[['Forum Name','Forum_Post_Raw', 'topic0_pct', 'topic1_pct', 'topic2_pct']].copy()\n",
    "# dfResults = dfResults[dfResults['Forum_Post_Raw'].notna()]\n",
    "# dfResults = dfResults[dfResults['topic0'].notna()]\n",
    "dfResults"
   ]
  },
  {
   "cell_type": "code",
   "execution_count": 371,
   "metadata": {},
   "outputs": [
    {
     "data": {
      "text/html": [
       "<div>\n",
       "<style scoped>\n",
       "    .dataframe tbody tr th:only-of-type {\n",
       "        vertical-align: middle;\n",
       "    }\n",
       "\n",
       "    .dataframe tbody tr th {\n",
       "        vertical-align: top;\n",
       "    }\n",
       "\n",
       "    .dataframe thead th {\n",
       "        text-align: right;\n",
       "    }\n",
       "</style>\n",
       "<table border=\"1\" class=\"dataframe\">\n",
       "  <thead>\n",
       "    <tr style=\"text-align: right;\">\n",
       "      <th></th>\n",
       "      <th>level_0</th>\n",
       "      <th>index</th>\n",
       "      <th>Forum ID</th>\n",
       "      <th>Forum Name</th>\n",
       "      <th>Subject</th>\n",
       "      <th>Post Date</th>\n",
       "      <th>User DisplayName</th>\n",
       "      <th>Forum_Post_Raw</th>\n",
       "      <th>compound</th>\n",
       "      <th>neg</th>\n",
       "      <th>...</th>\n",
       "      <th>tokens_sentences</th>\n",
       "      <th>POS_tokens</th>\n",
       "      <th>tokens_sentences_lemmatized</th>\n",
       "      <th>tokens</th>\n",
       "      <th>topic0</th>\n",
       "      <th>topic0_pct</th>\n",
       "      <th>topic1</th>\n",
       "      <th>topic1_pct</th>\n",
       "      <th>topic2</th>\n",
       "      <th>topic2_pct</th>\n",
       "    </tr>\n",
       "  </thead>\n",
       "  <tbody>\n",
       "    <tr>\n",
       "      <th>2</th>\n",
       "      <td>2</td>\n",
       "      <td>62</td>\n",
       "      <td>673</td>\n",
       "      <td>Sage X3 Announcements, News, and Alerts</td>\n",
       "      <td>Sage X3 12.0.19 and Patch 19 Add-ons Updates h...</td>\n",
       "      <td>2019-10-10T14:56:52.947</td>\n",
       "      <td>Alecia</td>\n",
       "      <td>To access this download, log into https://supp...</td>\n",
       "      <td>0.9359</td>\n",
       "      <td>0.0</td>\n",
       "      <td>...</td>\n",
       "      <td>[[To, access, this, download, ,, log, into, ht...</td>\n",
       "      <td>[[(To, TO), (access, NN), (this, DT), (downloa...</td>\n",
       "      <td>[[To, access, this, download, ,, log, into, ht...</td>\n",
       "      <td>[access, download, log, http, search, field, t...</td>\n",
       "      <td>0</td>\n",
       "      <td>0.998949</td>\n",
       "      <td>1</td>\n",
       "      <td>0.0</td>\n",
       "      <td>2</td>\n",
       "      <td>0.0</td>\n",
       "    </tr>\n",
       "    <tr>\n",
       "      <th>3</th>\n",
       "      <td>3</td>\n",
       "      <td>63</td>\n",
       "      <td>673</td>\n",
       "      <td>Sage X3 Announcements, News, and Alerts</td>\n",
       "      <td>Sage X3 Warehousing (GEODE) v12.0.19 has been ...</td>\n",
       "      <td>2019-10-10T20:56:53.483</td>\n",
       "      <td>pnightingale</td>\n",
       "      <td>To access this download, log into https://supp...</td>\n",
       "      <td>0.9359</td>\n",
       "      <td>0.0</td>\n",
       "      <td>...</td>\n",
       "      <td>[[To, access, this, download, ,, log, into, ht...</td>\n",
       "      <td>[[(To, TO), (access, NN), (this, DT), (downloa...</td>\n",
       "      <td>[[To, access, this, download, ,, log, into, ht...</td>\n",
       "      <td>[access, download, log, http, search, field, t...</td>\n",
       "      <td>0</td>\n",
       "      <td>0.998949</td>\n",
       "      <td>1</td>\n",
       "      <td>0.0</td>\n",
       "      <td>2</td>\n",
       "      <td>0.0</td>\n",
       "    </tr>\n",
       "    <tr>\n",
       "      <th>5</th>\n",
       "      <td>5</td>\n",
       "      <td>95</td>\n",
       "      <td>40</td>\n",
       "      <td>Sage X3 General Discussion</td>\n",
       "      <td>Deliveries</td>\n",
       "      <td>2019-10-11T14:24:15.807</td>\n",
       "      <td>Juan Pablo G</td>\n",
       "      <td>Just to confirm, is not possible to change the...</td>\n",
       "      <td>0.0000</td>\n",
       "      <td>0.0</td>\n",
       "      <td>...</td>\n",
       "      <td>[[Just, to, confirm, ,, is, not, possible, to,...</td>\n",
       "      <td>[[(Just, RB), (to, TO), (confirm, VB), (,, ,),...</td>\n",
       "      <td>[[Just, to, confirm, ,, be, not, possible, to,...</td>\n",
       "      <td>[confirm, possible, change, uom, delivery, right]</td>\n",
       "      <td>0</td>\n",
       "      <td>0.995035</td>\n",
       "      <td>1</td>\n",
       "      <td>0.0</td>\n",
       "      <td>2</td>\n",
       "      <td>0.0</td>\n",
       "    </tr>\n",
       "    <tr>\n",
       "      <th>6</th>\n",
       "      <td>6</td>\n",
       "      <td>126</td>\n",
       "      <td>40</td>\n",
       "      <td>Sage X3 General Discussion</td>\n",
       "      <td>V12 Data Model</td>\n",
       "      <td>2019-10-11T16:02:41.787</td>\n",
       "      <td>Juan Pablo G</td>\n",
       "      <td>Is the online help data model correct for V12?...</td>\n",
       "      <td>0.4019</td>\n",
       "      <td>0.0</td>\n",
       "      <td>...</td>\n",
       "      <td>[[Is, the, online, help, data, model, correct,...</td>\n",
       "      <td>[[(Is, VBZ), (the, DT), (online, NN), (help, N...</td>\n",
       "      <td>[[Is, the, online, help, data, model, correct,...</td>\n",
       "      <td>[online, help, data, model, correct, file, show]</td>\n",
       "      <td>0</td>\n",
       "      <td>0.996023</td>\n",
       "      <td>1</td>\n",
       "      <td>0.0</td>\n",
       "      <td>2</td>\n",
       "      <td>0.0</td>\n",
       "    </tr>\n",
       "    <tr>\n",
       "      <th>7</th>\n",
       "      <td>7</td>\n",
       "      <td>157</td>\n",
       "      <td>40</td>\n",
       "      <td>Sage X3 General Discussion</td>\n",
       "      <td>Entering a manual check that is already in g/l</td>\n",
       "      <td>2019-10-13T20:01:08.897</td>\n",
       "      <td>JeffW-SageX3</td>\n",
       "      <td>Hi,\\nI am fairly new to X3 and I entered g/l d...</td>\n",
       "      <td>0.6124</td>\n",
       "      <td>0.0</td>\n",
       "      <td>...</td>\n",
       "      <td>[[Hi, ,, I, am, fairly, new, to, X3, and, I, e...</td>\n",
       "      <td>[[(Hi, NNP), (,, ,), (I, PRP), (am, VBP), (fai...</td>\n",
       "      <td>[[Hi, ,, I, be, fairly, new, to, X3, and, I, e...</td>\n",
       "      <td>[fairly, new, enter, data, payroll, already, e...</td>\n",
       "      <td>0</td>\n",
       "      <td>0.633222</td>\n",
       "      <td>2</td>\n",
       "      <td>0.365533</td>\n",
       "      <td>1</td>\n",
       "      <td>0.0</td>\n",
       "    </tr>\n",
       "    <tr>\n",
       "      <th>...</th>\n",
       "      <td>...</td>\n",
       "      <td>...</td>\n",
       "      <td>...</td>\n",
       "      <td>...</td>\n",
       "      <td>...</td>\n",
       "      <td>...</td>\n",
       "      <td>...</td>\n",
       "      <td>...</td>\n",
       "      <td>...</td>\n",
       "      <td>...</td>\n",
       "      <td>...</td>\n",
       "      <td>...</td>\n",
       "      <td>...</td>\n",
       "      <td>...</td>\n",
       "      <td>...</td>\n",
       "      <td>...</td>\n",
       "      <td>...</td>\n",
       "      <td>...</td>\n",
       "      <td>...</td>\n",
       "      <td>...</td>\n",
       "      <td>...</td>\n",
       "    </tr>\n",
       "    <tr>\n",
       "      <th>1055</th>\n",
       "      <td>1055</td>\n",
       "      <td>2858</td>\n",
       "      <td>294</td>\n",
       "      <td>Sage Enterprise Intelligence for Sage X3</td>\n",
       "      <td>Error while trying to create a New environment</td>\n",
       "      <td>2020-07-16T07:33:35.41</td>\n",
       "      <td>MC_SEI</td>\n",
       "      <td>\\n\\nI installed SEI version8.2.6.2 and was try...</td>\n",
       "      <td>0.2204</td>\n",
       "      <td>0.1</td>\n",
       "      <td>...</td>\n",
       "      <td>[[I, installed, SEI, version8.2.6.2, and, was,...</td>\n",
       "      <td>[[(I, PRP), (installed, VBD), (SEI, NNP), (ver...</td>\n",
       "      <td>[[I, instal, SEI, version8.2.6.2, and, be, try...</td>\n",
       "      <td>[instal, sei, configure, script, button, click...</td>\n",
       "      <td>0</td>\n",
       "      <td>0.997155</td>\n",
       "      <td>1</td>\n",
       "      <td>0.0</td>\n",
       "      <td>2</td>\n",
       "      <td>0.0</td>\n",
       "    </tr>\n",
       "    <tr>\n",
       "      <th>1070</th>\n",
       "      <td>1070</td>\n",
       "      <td>2873</td>\n",
       "      <td>294</td>\n",
       "      <td>Sage Enterprise Intelligence for Sage X3</td>\n",
       "      <td>SVG locked when arrived table AUDITL</td>\n",
       "      <td>2019-11-13T09:35:33.91</td>\n",
       "      <td>MarioSage</td>\n",
       "      <td>Hello, I run SVG all nigths at 21.00. When the...</td>\n",
       "      <td>0.5399</td>\n",
       "      <td>0.0</td>\n",
       "      <td>...</td>\n",
       "      <td>[[Hello, ,, I, run, SVG, all, nigths, at, 21.0...</td>\n",
       "      <td>[[(Hello, NNP), (,, ,), (I, PRP), (run, VBP), ...</td>\n",
       "      <td>[[Hello, ,, I, run, SVG, all, nigths, at, 21.0...</td>\n",
       "      <td>[run, svg, nigths, proccess, dossvg, arrive, a...</td>\n",
       "      <td>0</td>\n",
       "      <td>0.997155</td>\n",
       "      <td>1</td>\n",
       "      <td>0.0</td>\n",
       "      <td>2</td>\n",
       "      <td>0.0</td>\n",
       "    </tr>\n",
       "    <tr>\n",
       "      <th>1082</th>\n",
       "      <td>1082</td>\n",
       "      <td>2939</td>\n",
       "      <td>332</td>\n",
       "      <td>Sage Data &amp;amp; Analytics</td>\n",
       "      <td>PORDERQ - RETRCPDAT field ?</td>\n",
       "      <td>2020-04-23T11:51:48.66</td>\n",
       "      <td>Nicolasson</td>\n",
       "      <td>Hello guys, \\n\\nI hope you are well. \\n\\nI mad...</td>\n",
       "      <td>0.9136</td>\n",
       "      <td>0.0</td>\n",
       "      <td>...</td>\n",
       "      <td>[[Hello, guys, ,, I, hope, you, are, well, .],...</td>\n",
       "      <td>[[(Hello, NNP), (guys, NNS), (,, ,), (I, PRP),...</td>\n",
       "      <td>[[Hello, guy, ,, I, hope, you, be, well, .], [...</td>\n",
       "      <td>[guy, hope, well, research, surprisingly, find...</td>\n",
       "      <td>0</td>\n",
       "      <td>0.998186</td>\n",
       "      <td>1</td>\n",
       "      <td>0.0</td>\n",
       "      <td>2</td>\n",
       "      <td>0.0</td>\n",
       "    </tr>\n",
       "    <tr>\n",
       "      <th>1083</th>\n",
       "      <td>1083</td>\n",
       "      <td>2940</td>\n",
       "      <td>332</td>\n",
       "      <td>Sage Data &amp;amp; Analytics</td>\n",
       "      <td>Supplier Invoice/Memo Import</td>\n",
       "      <td>2020-04-23T19:33:37.777</td>\n",
       "      <td>Warren Guan</td>\n",
       "      <td>It says all the lines are converted but it did...</td>\n",
       "      <td>0.4497</td>\n",
       "      <td>0.0</td>\n",
       "      <td>...</td>\n",
       "      <td>[[It, says, all, the, lines, are, converted, b...</td>\n",
       "      <td>[[(It, PRP), (says, VBZ), (all, PDT), (the, DT...</td>\n",
       "      <td>[[It, say, all, the, line, be, convert, but, i...</td>\n",
       "      <td>[line, convert, generate, dat, file, idea, ple...</td>\n",
       "      <td>0</td>\n",
       "      <td>0.996023</td>\n",
       "      <td>1</td>\n",
       "      <td>0.0</td>\n",
       "      <td>2</td>\n",
       "      <td>0.0</td>\n",
       "    </tr>\n",
       "    <tr>\n",
       "      <th>1084</th>\n",
       "      <td>1084</td>\n",
       "      <td>2941</td>\n",
       "      <td>332</td>\n",
       "      <td>Sage Data &amp;amp; Analytics</td>\n",
       "      <td>year closing</td>\n",
       "      <td>2020-01-20T07:01:58.37</td>\n",
       "      <td>info@epochholland.nl</td>\n",
       "      <td></td>\n",
       "      <td>0.0000</td>\n",
       "      <td>0.0</td>\n",
       "      <td>...</td>\n",
       "      <td>[]</td>\n",
       "      <td>[]</td>\n",
       "      <td>[]</td>\n",
       "      <td>[]</td>\n",
       "      <td>0</td>\n",
       "      <td>0.333333</td>\n",
       "      <td>1</td>\n",
       "      <td>0.333333</td>\n",
       "      <td>2</td>\n",
       "      <td>0.333333</td>\n",
       "    </tr>\n",
       "  </tbody>\n",
       "</table>\n",
       "<p>311 rows × 29 columns</p>\n",
       "</div>"
      ],
      "text/plain": [
       "      level_0  index  Forum ID                                Forum Name  \\\n",
       "2           2     62       673   Sage X3 Announcements, News, and Alerts   \n",
       "3           3     63       673   Sage X3 Announcements, News, and Alerts   \n",
       "5           5     95        40                Sage X3 General Discussion   \n",
       "6           6    126        40                Sage X3 General Discussion   \n",
       "7           7    157        40                Sage X3 General Discussion   \n",
       "...       ...    ...       ...                                       ...   \n",
       "1055     1055   2858       294  Sage Enterprise Intelligence for Sage X3   \n",
       "1070     1070   2873       294  Sage Enterprise Intelligence for Sage X3   \n",
       "1082     1082   2939       332                 Sage Data &amp; Analytics   \n",
       "1083     1083   2940       332                 Sage Data &amp; Analytics   \n",
       "1084     1084   2941       332                 Sage Data &amp; Analytics   \n",
       "\n",
       "                                                Subject  \\\n",
       "2     Sage X3 12.0.19 and Patch 19 Add-ons Updates h...   \n",
       "3     Sage X3 Warehousing (GEODE) v12.0.19 has been ...   \n",
       "5                                            Deliveries   \n",
       "6                                        V12 Data Model   \n",
       "7        Entering a manual check that is already in g/l   \n",
       "...                                                 ...   \n",
       "1055     Error while trying to create a New environment   \n",
       "1070               SVG locked when arrived table AUDITL   \n",
       "1082                        PORDERQ - RETRCPDAT field ?   \n",
       "1083                       Supplier Invoice/Memo Import   \n",
       "1084                                       year closing   \n",
       "\n",
       "                    Post Date      User DisplayName  \\\n",
       "2     2019-10-10T14:56:52.947                Alecia   \n",
       "3     2019-10-10T20:56:53.483          pnightingale   \n",
       "5     2019-10-11T14:24:15.807          Juan Pablo G   \n",
       "6     2019-10-11T16:02:41.787          Juan Pablo G   \n",
       "7     2019-10-13T20:01:08.897          JeffW-SageX3   \n",
       "...                       ...                   ...   \n",
       "1055   2020-07-16T07:33:35.41                MC_SEI   \n",
       "1070   2019-11-13T09:35:33.91             MarioSage   \n",
       "1082   2020-04-23T11:51:48.66            Nicolasson   \n",
       "1083  2020-04-23T19:33:37.777           Warren Guan   \n",
       "1084   2020-01-20T07:01:58.37  info@epochholland.nl   \n",
       "\n",
       "                                         Forum_Post_Raw  compound  neg  ...  \\\n",
       "2     To access this download, log into https://supp...    0.9359  0.0  ...   \n",
       "3     To access this download, log into https://supp...    0.9359  0.0  ...   \n",
       "5     Just to confirm, is not possible to change the...    0.0000  0.0  ...   \n",
       "6     Is the online help data model correct for V12?...    0.4019  0.0  ...   \n",
       "7     Hi,\\nI am fairly new to X3 and I entered g/l d...    0.6124  0.0  ...   \n",
       "...                                                 ...       ...  ...  ...   \n",
       "1055  \\n\\nI installed SEI version8.2.6.2 and was try...    0.2204  0.1  ...   \n",
       "1070  Hello, I run SVG all nigths at 21.00. When the...    0.5399  0.0  ...   \n",
       "1082  Hello guys, \\n\\nI hope you are well. \\n\\nI mad...    0.9136  0.0  ...   \n",
       "1083  It says all the lines are converted but it did...    0.4497  0.0  ...   \n",
       "1084                                                       0.0000  0.0  ...   \n",
       "\n",
       "                                       tokens_sentences  \\\n",
       "2     [[To, access, this, download, ,, log, into, ht...   \n",
       "3     [[To, access, this, download, ,, log, into, ht...   \n",
       "5     [[Just, to, confirm, ,, is, not, possible, to,...   \n",
       "6     [[Is, the, online, help, data, model, correct,...   \n",
       "7     [[Hi, ,, I, am, fairly, new, to, X3, and, I, e...   \n",
       "...                                                 ...   \n",
       "1055  [[I, installed, SEI, version8.2.6.2, and, was,...   \n",
       "1070  [[Hello, ,, I, run, SVG, all, nigths, at, 21.0...   \n",
       "1082  [[Hello, guys, ,, I, hope, you, are, well, .],...   \n",
       "1083  [[It, says, all, the, lines, are, converted, b...   \n",
       "1084                                                 []   \n",
       "\n",
       "                                             POS_tokens  \\\n",
       "2     [[(To, TO), (access, NN), (this, DT), (downloa...   \n",
       "3     [[(To, TO), (access, NN), (this, DT), (downloa...   \n",
       "5     [[(Just, RB), (to, TO), (confirm, VB), (,, ,),...   \n",
       "6     [[(Is, VBZ), (the, DT), (online, NN), (help, N...   \n",
       "7     [[(Hi, NNP), (,, ,), (I, PRP), (am, VBP), (fai...   \n",
       "...                                                 ...   \n",
       "1055  [[(I, PRP), (installed, VBD), (SEI, NNP), (ver...   \n",
       "1070  [[(Hello, NNP), (,, ,), (I, PRP), (run, VBP), ...   \n",
       "1082  [[(Hello, NNP), (guys, NNS), (,, ,), (I, PRP),...   \n",
       "1083  [[(It, PRP), (says, VBZ), (all, PDT), (the, DT...   \n",
       "1084                                                 []   \n",
       "\n",
       "                            tokens_sentences_lemmatized  \\\n",
       "2     [[To, access, this, download, ,, log, into, ht...   \n",
       "3     [[To, access, this, download, ,, log, into, ht...   \n",
       "5     [[Just, to, confirm, ,, be, not, possible, to,...   \n",
       "6     [[Is, the, online, help, data, model, correct,...   \n",
       "7     [[Hi, ,, I, be, fairly, new, to, X3, and, I, e...   \n",
       "...                                                 ...   \n",
       "1055  [[I, instal, SEI, version8.2.6.2, and, be, try...   \n",
       "1070  [[Hello, ,, I, run, SVG, all, nigths, at, 21.0...   \n",
       "1082  [[Hello, guy, ,, I, hope, you, be, well, .], [...   \n",
       "1083  [[It, say, all, the, line, be, convert, but, i...   \n",
       "1084                                                 []   \n",
       "\n",
       "                                                 tokens topic0  topic0_pct  \\\n",
       "2     [access, download, log, http, search, field, t...      0    0.998949   \n",
       "3     [access, download, log, http, search, field, t...      0    0.998949   \n",
       "5     [confirm, possible, change, uom, delivery, right]      0    0.995035   \n",
       "6      [online, help, data, model, correct, file, show]      0    0.996023   \n",
       "7     [fairly, new, enter, data, payroll, already, e...      0    0.633222   \n",
       "...                                                 ...    ...         ...   \n",
       "1055  [instal, sei, configure, script, button, click...      0    0.997155   \n",
       "1070  [run, svg, nigths, proccess, dossvg, arrive, a...      0    0.997155   \n",
       "1082  [guy, hope, well, research, surprisingly, find...      0    0.998186   \n",
       "1083  [line, convert, generate, dat, file, idea, ple...      0    0.996023   \n",
       "1084                                                 []      0    0.333333   \n",
       "\n",
       "     topic1 topic1_pct topic2 topic2_pct  \n",
       "2         1        0.0      2        0.0  \n",
       "3         1        0.0      2        0.0  \n",
       "5         1        0.0      2        0.0  \n",
       "6         1        0.0      2        0.0  \n",
       "7         2   0.365533      1        0.0  \n",
       "...     ...        ...    ...        ...  \n",
       "1055      1        0.0      2        0.0  \n",
       "1070      1        0.0      2        0.0  \n",
       "1082      1        0.0      2        0.0  \n",
       "1083      1        0.0      2        0.0  \n",
       "1084      1   0.333333      2   0.333333  \n",
       "\n",
       "[311 rows x 29 columns]"
      ]
     },
     "execution_count": 371,
     "metadata": {},
     "output_type": "execute_result"
    }
   ],
   "source": [
    "dfLDA[dfLDA['topic0']==0]"
   ]
  },
  {
   "cell_type": "code",
   "execution_count": 372,
   "metadata": {
    "scrolled": true
   },
   "outputs": [],
   "source": [
    "# frame.Forum_Post_Raw, frame.neg, frame.neu, frame.pos\n",
    "dfResults.to_html(open('results.html', 'w'))\n"
   ]
  },
  {
   "cell_type": "code",
   "execution_count": 373,
   "metadata": {},
   "outputs": [
    {
     "data": {
      "text/html": [
       "<div>\n",
       "<style scoped>\n",
       "    .dataframe tbody tr th:only-of-type {\n",
       "        vertical-align: middle;\n",
       "    }\n",
       "\n",
       "    .dataframe tbody tr th {\n",
       "        vertical-align: top;\n",
       "    }\n",
       "\n",
       "    .dataframe thead th {\n",
       "        text-align: right;\n",
       "    }\n",
       "</style>\n",
       "<table border=\"1\" class=\"dataframe\">\n",
       "  <thead>\n",
       "    <tr style=\"text-align: right;\">\n",
       "      <th></th>\n",
       "      <th>Forum Name</th>\n",
       "      <th>Forum_Post_Raw</th>\n",
       "      <th>topic0_pct</th>\n",
       "      <th>topic1_pct</th>\n",
       "      <th>topic2_pct</th>\n",
       "    </tr>\n",
       "  </thead>\n",
       "  <tbody>\n",
       "    <tr>\n",
       "      <th>0</th>\n",
       "      <td>Sage X3 General Discussion</td>\n",
       "      <td>Company upgraded to windows 10. Used to run an...</td>\n",
       "      <td>0.999445</td>\n",
       "      <td>0.0</td>\n",
       "      <td>0.0</td>\n",
       "    </tr>\n",
       "    <tr>\n",
       "      <th>1</th>\n",
       "      <td>Sage X3 General Discussion</td>\n",
       "      <td>Hello!\\n\\nI see that Sage V11 patch 14 was com...</td>\n",
       "      <td>0.796473</td>\n",
       "      <td>0.203224</td>\n",
       "      <td>0.0</td>\n",
       "    </tr>\n",
       "    <tr>\n",
       "      <th>2</th>\n",
       "      <td>Sage X3 Announcements, News, and Alerts</td>\n",
       "      <td>To access this download, log into https://supp...</td>\n",
       "      <td>0.998949</td>\n",
       "      <td>0.0</td>\n",
       "      <td>0.0</td>\n",
       "    </tr>\n",
       "    <tr>\n",
       "      <th>3</th>\n",
       "      <td>Sage X3 Announcements, News, and Alerts</td>\n",
       "      <td>To access this download, log into https://supp...</td>\n",
       "      <td>0.998949</td>\n",
       "      <td>0.0</td>\n",
       "      <td>0.0</td>\n",
       "    </tr>\n",
       "    <tr>\n",
       "      <th>4</th>\n",
       "      <td>Sage X3 General Discussion</td>\n",
       "      <td>I am trying to remove some of the columns on t...</td>\n",
       "      <td>0.849211</td>\n",
       "      <td>0.150335</td>\n",
       "      <td>0.0</td>\n",
       "    </tr>\n",
       "    <tr>\n",
       "      <th>...</th>\n",
       "      <td>...</td>\n",
       "      <td>...</td>\n",
       "      <td>...</td>\n",
       "      <td>...</td>\n",
       "      <td>...</td>\n",
       "    </tr>\n",
       "    <tr>\n",
       "      <th>1081</th>\n",
       "      <td>Sage Data &amp;amp; Analytics</td>\n",
       "      <td>\\nThe above pic is  carry forward selection ch...</td>\n",
       "      <td>0.999131</td>\n",
       "      <td>0.0</td>\n",
       "      <td>0.0</td>\n",
       "    </tr>\n",
       "    <tr>\n",
       "      <th>1082</th>\n",
       "      <td>Sage Data &amp;amp; Analytics</td>\n",
       "      <td>Hello guys, \\n\\nI hope you are well. \\n\\nI mad...</td>\n",
       "      <td>0.998186</td>\n",
       "      <td>0.0</td>\n",
       "      <td>0.0</td>\n",
       "    </tr>\n",
       "    <tr>\n",
       "      <th>1083</th>\n",
       "      <td>Sage Data &amp;amp; Analytics</td>\n",
       "      <td>It says all the lines are converted but it did...</td>\n",
       "      <td>0.996023</td>\n",
       "      <td>0.0</td>\n",
       "      <td>0.0</td>\n",
       "    </tr>\n",
       "    <tr>\n",
       "      <th>1084</th>\n",
       "      <td>Sage Data &amp;amp; Analytics</td>\n",
       "      <td></td>\n",
       "      <td>0.333333</td>\n",
       "      <td>0.333333</td>\n",
       "      <td>0.333333</td>\n",
       "    </tr>\n",
       "    <tr>\n",
       "      <th>1085</th>\n",
       "      <td>Sage Data &amp;amp; Analytics</td>\n",
       "      <td>requester links aren't my strong suit- I can h...</td>\n",
       "      <td>0.640902</td>\n",
       "      <td>0.358191</td>\n",
       "      <td>0.0</td>\n",
       "    </tr>\n",
       "  </tbody>\n",
       "</table>\n",
       "<p>1086 rows × 5 columns</p>\n",
       "</div>"
      ],
      "text/plain": [
       "                                   Forum Name  \\\n",
       "0                  Sage X3 General Discussion   \n",
       "1                  Sage X3 General Discussion   \n",
       "2     Sage X3 Announcements, News, and Alerts   \n",
       "3     Sage X3 Announcements, News, and Alerts   \n",
       "4                  Sage X3 General Discussion   \n",
       "...                                       ...   \n",
       "1081                Sage Data &amp; Analytics   \n",
       "1082                Sage Data &amp; Analytics   \n",
       "1083                Sage Data &amp; Analytics   \n",
       "1084                Sage Data &amp; Analytics   \n",
       "1085                Sage Data &amp; Analytics   \n",
       "\n",
       "                                         Forum_Post_Raw topic0_pct topic1_pct  \\\n",
       "0     Company upgraded to windows 10. Used to run an...   0.999445        0.0   \n",
       "1     Hello!\\n\\nI see that Sage V11 patch 14 was com...   0.796473   0.203224   \n",
       "2     To access this download, log into https://supp...   0.998949        0.0   \n",
       "3     To access this download, log into https://supp...   0.998949        0.0   \n",
       "4     I am trying to remove some of the columns on t...   0.849211   0.150335   \n",
       "...                                                 ...        ...        ...   \n",
       "1081  \\nThe above pic is  carry forward selection ch...   0.999131        0.0   \n",
       "1082  Hello guys, \\n\\nI hope you are well. \\n\\nI mad...   0.998186        0.0   \n",
       "1083  It says all the lines are converted but it did...   0.996023        0.0   \n",
       "1084                                                      0.333333   0.333333   \n",
       "1085  requester links aren't my strong suit- I can h...   0.640902   0.358191   \n",
       "\n",
       "     topic2_pct  \n",
       "0           0.0  \n",
       "1           0.0  \n",
       "2           0.0  \n",
       "3           0.0  \n",
       "4           0.0  \n",
       "...         ...  \n",
       "1081        0.0  \n",
       "1082        0.0  \n",
       "1083        0.0  \n",
       "1084   0.333333  \n",
       "1085        0.0  \n",
       "\n",
       "[1086 rows x 5 columns]"
      ]
     },
     "execution_count": 373,
     "metadata": {},
     "output_type": "execute_result"
    }
   ],
   "source": [
    "dfResults"
   ]
  },
  {
   "cell_type": "code",
   "execution_count": null,
   "metadata": {},
   "outputs": [],
   "source": []
  }
 ],
 "metadata": {
  "interpreter": {
   "hash": "6a17a13407a242fa5e52f5f0d84ee969a8e600591a999235f1645da9e037e8a0"
  },
  "kernelspec": {
   "display_name": "Python 3",
   "language": "python",
   "name": "python3"
  },
  "language_info": {
   "codemirror_mode": {
    "name": "ipython",
    "version": 3
   },
   "file_extension": ".py",
   "mimetype": "text/x-python",
   "name": "python",
   "nbconvert_exporter": "python",
   "pygments_lexer": "ipython3",
   "version": "3.8.8"
  }
 },
 "nbformat": 4,
 "nbformat_minor": 2
}
