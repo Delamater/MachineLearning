{
 "cells": [
  {
   "cell_type": "markdown",
   "metadata": {},
   "source": [
    "# Read Sage City Forum Data And Output Topics"
   ]
  },
  {
   "cell_type": "markdown",
   "metadata": {},
   "source": [
    "## Requirements Setup"
   ]
  },
  {
   "cell_type": "code",
   "execution_count": 11,
   "metadata": {},
   "outputs": [
    {
     "name": "stdout",
     "output_type": "stream",
     "text": [
      "Requirement already satisfied: lxml in c:\\users\\bdelamater\\anaconda3\\lib\\site-packages (4.6.3)\n"
     ]
    },
    {
     "name": "stderr",
     "output_type": "stream",
     "text": [
      "[nltk_data] Downloading package wordnet to\n",
      "[nltk_data]     C:\\Users\\BDelamater\\AppData\\Roaming\\nltk_data...\n",
      "[nltk_data]   Package wordnet is already up-to-date!\n",
      "[nltk_data] Downloading package stopwords to\n",
      "[nltk_data]     C:\\Users\\BDelamater\\AppData\\Roaming\\nltk_data...\n",
      "[nltk_data]   Package stopwords is already up-to-date!\n",
      "[nltk_data] Downloading package punkt to\n",
      "[nltk_data]     C:\\Users\\BDelamater\\AppData\\Roaming\\nltk_data...\n",
      "[nltk_data]   Package punkt is already up-to-date!\n",
      "[nltk_data] Downloading package vader_lexicon to\n",
      "[nltk_data]     C:\\Users\\BDelamater\\AppData\\Roaming\\nltk_data...\n",
      "[nltk_data]   Package vader_lexicon is already up-to-date!\n"
     ]
    }
   ],
   "source": [
    "! pip install lxml\r\n",
    "import nltk\r\n",
    "nltk.download('wordnet')\r\n",
    "nltk.download('stopwords')\r\n",
    "nltk.download('punkt')\r\n",
    "nltk.download('vader_lexicon')\r\n",
    "\r\n",
    "import pandas as pd\r\n",
    "import numpy as np\r\n",
    "from sklearn.metrics import classification_report, confusion_matrix, accuracy_score, \\\r\n",
    "precision_score, recall_score\r\n",
    "import seaborn as sns\r\n",
    "import matplotlib.pyplot as plt\r\n",
    "\r\n",
    "# For graphing charts\r\n",
    "import plotly.graph_objects as go\r\n",
    "from plotly.subplots import make_subplots\r\n",
    "import re\r\n",
    "import plotly.express as px\r\n",
    "\r\n",
    "\r\n",
    "import pandas as pd\r\n",
    "import numpy as np\r\n",
    "import scipy as sp\r\n",
    "from sklearn.model_selection import train_test_split\r\n",
    "from sklearn.feature_extraction.text import CountVectorizer, TfidfVectorizer\r\n",
    "from sklearn.naive_bayes import MultinomialNB         # Naive Bayes\r\n",
    "from sklearn.linear_model import LogisticRegression\r\n",
    "from sklearn import metrics\r\n",
    "from textblob import TextBlob, Word\r\n",
    "from nltk.stem.snowball import SnowballStemmer\r\n",
    "from bs4 import BeautifulSoup\r\n",
    "\r\n",
    "# Dataset to process\r\n",
    "myFile = '../data/SageCityForumData.xlsx'\r\n",
    "GraphTitle = 'Sage City Forum Sentiment'"
   ]
  },
  {
   "cell_type": "markdown",
   "metadata": {},
   "source": [
    "## Data Exploration and Cleaning"
   ]
  },
  {
   "cell_type": "code",
   "execution_count": 12,
   "metadata": {},
   "outputs": [
    {
     "name": "stdout",
     "output_type": "stream",
     "text": [
      "(2943, 10)\n"
     ]
    },
    {
     "data": {
      "text/html": [
       "<div>\n",
       "<style scoped>\n",
       "    .dataframe tbody tr th:only-of-type {\n",
       "        vertical-align: middle;\n",
       "    }\n",
       "\n",
       "    .dataframe tbody tr th {\n",
       "        vertical-align: top;\n",
       "    }\n",
       "\n",
       "    .dataframe thead th {\n",
       "        text-align: right;\n",
       "    }\n",
       "</style>\n",
       "<table border=\"1\" class=\"dataframe\">\n",
       "  <thead>\n",
       "    <tr style=\"text-align: right;\">\n",
       "      <th></th>\n",
       "      <th>ID</th>\n",
       "      <th>Forum ID</th>\n",
       "      <th>Forum Name</th>\n",
       "      <th>Body</th>\n",
       "      <th>Subject</th>\n",
       "      <th>Post Date</th>\n",
       "      <th>User DisplayName</th>\n",
       "      <th>Is Question</th>\n",
       "      <th>Tags</th>\n",
       "      <th>Likes</th>\n",
       "    </tr>\n",
       "  </thead>\n",
       "  <tbody>\n",
       "    <tr>\n",
       "      <th>0</th>\n",
       "      <td>133741</td>\n",
       "      <td>40</td>\n",
       "      <td>Sage X3 General Discussion</td>\n",
       "      <td>&lt;p class=\"_1qeIAgB0cPwnLhDF9XSiJM\"&gt;Company upg...</td>\n",
       "      <td>ERP help urgently needed</td>\n",
       "      <td>2019-10-10T05:58:05.73</td>\n",
       "      <td>ChinusGomes</td>\n",
       "      <td>QuestionAndAnswer</td>\n",
       "      <td>NaN</td>\n",
       "      <td>NaN</td>\n",
       "    </tr>\n",
       "    <tr>\n",
       "      <th>1</th>\n",
       "      <td>133741</td>\n",
       "      <td>40</td>\n",
       "      <td>Sage X3 General Discussion</td>\n",
       "      <td>&lt;p class=\"_1qeIAgB0cPwnLhDF9XSiJM\"&gt;Company upg...</td>\n",
       "      <td>ERP help urgently needed</td>\n",
       "      <td>2019-10-10T05:58:05.73</td>\n",
       "      <td>ChinusGomes</td>\n",
       "      <td>QuestionAndAnswer</td>\n",
       "      <td>NaN</td>\n",
       "      <td>NaN</td>\n",
       "    </tr>\n",
       "    <tr>\n",
       "      <th>2</th>\n",
       "      <td>133741</td>\n",
       "      <td>40</td>\n",
       "      <td>Sage X3 General Discussion</td>\n",
       "      <td>&lt;p class=\"_1qeIAgB0cPwnLhDF9XSiJM\"&gt;Company upg...</td>\n",
       "      <td>ERP help urgently needed</td>\n",
       "      <td>2019-10-10T05:58:05.73</td>\n",
       "      <td>ChinusGomes</td>\n",
       "      <td>QuestionAndAnswer</td>\n",
       "      <td>NaN</td>\n",
       "      <td>NaN</td>\n",
       "    </tr>\n",
       "    <tr>\n",
       "      <th>3</th>\n",
       "      <td>133741</td>\n",
       "      <td>40</td>\n",
       "      <td>Sage X3 General Discussion</td>\n",
       "      <td>&lt;p class=\"_1qeIAgB0cPwnLhDF9XSiJM\"&gt;Company upg...</td>\n",
       "      <td>ERP help urgently needed</td>\n",
       "      <td>2019-10-10T05:58:05.73</td>\n",
       "      <td>ChinusGomes</td>\n",
       "      <td>QuestionAndAnswer</td>\n",
       "      <td>NaN</td>\n",
       "      <td>NaN</td>\n",
       "    </tr>\n",
       "    <tr>\n",
       "      <th>4</th>\n",
       "      <td>133741</td>\n",
       "      <td>40</td>\n",
       "      <td>Sage X3 General Discussion</td>\n",
       "      <td>&lt;p class=\"_1qeIAgB0cPwnLhDF9XSiJM\"&gt;Company upg...</td>\n",
       "      <td>ERP help urgently needed</td>\n",
       "      <td>2019-10-10T05:58:05.73</td>\n",
       "      <td>ChinusGomes</td>\n",
       "      <td>QuestionAndAnswer</td>\n",
       "      <td>NaN</td>\n",
       "      <td>NaN</td>\n",
       "    </tr>\n",
       "    <tr>\n",
       "      <th>5</th>\n",
       "      <td>133741</td>\n",
       "      <td>40</td>\n",
       "      <td>Sage X3 General Discussion</td>\n",
       "      <td>&lt;p class=\"_1qeIAgB0cPwnLhDF9XSiJM\"&gt;Company upg...</td>\n",
       "      <td>ERP help urgently needed</td>\n",
       "      <td>2019-10-10T05:58:05.73</td>\n",
       "      <td>ChinusGomes</td>\n",
       "      <td>QuestionAndAnswer</td>\n",
       "      <td>NaN</td>\n",
       "      <td>NaN</td>\n",
       "    </tr>\n",
       "    <tr>\n",
       "      <th>6</th>\n",
       "      <td>133741</td>\n",
       "      <td>40</td>\n",
       "      <td>Sage X3 General Discussion</td>\n",
       "      <td>&lt;p class=\"_1qeIAgB0cPwnLhDF9XSiJM\"&gt;Company upg...</td>\n",
       "      <td>ERP help urgently needed</td>\n",
       "      <td>2019-10-10T05:58:05.73</td>\n",
       "      <td>ChinusGomes</td>\n",
       "      <td>QuestionAndAnswer</td>\n",
       "      <td>NaN</td>\n",
       "      <td>NaN</td>\n",
       "    </tr>\n",
       "    <tr>\n",
       "      <th>7</th>\n",
       "      <td>133741</td>\n",
       "      <td>40</td>\n",
       "      <td>Sage X3 General Discussion</td>\n",
       "      <td>&lt;p class=\"_1qeIAgB0cPwnLhDF9XSiJM\"&gt;Company upg...</td>\n",
       "      <td>ERP help urgently needed</td>\n",
       "      <td>2019-10-10T05:58:05.73</td>\n",
       "      <td>ChinusGomes</td>\n",
       "      <td>QuestionAndAnswer</td>\n",
       "      <td>NaN</td>\n",
       "      <td>NaN</td>\n",
       "    </tr>\n",
       "    <tr>\n",
       "      <th>8</th>\n",
       "      <td>133741</td>\n",
       "      <td>40</td>\n",
       "      <td>Sage X3 General Discussion</td>\n",
       "      <td>&lt;p class=\"_1qeIAgB0cPwnLhDF9XSiJM\"&gt;Company upg...</td>\n",
       "      <td>ERP help urgently needed</td>\n",
       "      <td>2019-10-10T05:58:05.73</td>\n",
       "      <td>ChinusGomes</td>\n",
       "      <td>QuestionAndAnswer</td>\n",
       "      <td>NaN</td>\n",
       "      <td>NaN</td>\n",
       "    </tr>\n",
       "    <tr>\n",
       "      <th>9</th>\n",
       "      <td>133741</td>\n",
       "      <td>40</td>\n",
       "      <td>Sage X3 General Discussion</td>\n",
       "      <td>&lt;p class=\"_1qeIAgB0cPwnLhDF9XSiJM\"&gt;Company upg...</td>\n",
       "      <td>ERP help urgently needed</td>\n",
       "      <td>2019-10-10T05:58:05.73</td>\n",
       "      <td>ChinusGomes</td>\n",
       "      <td>QuestionAndAnswer</td>\n",
       "      <td>NaN</td>\n",
       "      <td>NaN</td>\n",
       "    </tr>\n",
       "  </tbody>\n",
       "</table>\n",
       "</div>"
      ],
      "text/plain": [
       "       ID  Forum ID                  Forum Name  \\\n",
       "0  133741        40  Sage X3 General Discussion   \n",
       "1  133741        40  Sage X3 General Discussion   \n",
       "2  133741        40  Sage X3 General Discussion   \n",
       "3  133741        40  Sage X3 General Discussion   \n",
       "4  133741        40  Sage X3 General Discussion   \n",
       "5  133741        40  Sage X3 General Discussion   \n",
       "6  133741        40  Sage X3 General Discussion   \n",
       "7  133741        40  Sage X3 General Discussion   \n",
       "8  133741        40  Sage X3 General Discussion   \n",
       "9  133741        40  Sage X3 General Discussion   \n",
       "\n",
       "                                                Body  \\\n",
       "0  <p class=\"_1qeIAgB0cPwnLhDF9XSiJM\">Company upg...   \n",
       "1  <p class=\"_1qeIAgB0cPwnLhDF9XSiJM\">Company upg...   \n",
       "2  <p class=\"_1qeIAgB0cPwnLhDF9XSiJM\">Company upg...   \n",
       "3  <p class=\"_1qeIAgB0cPwnLhDF9XSiJM\">Company upg...   \n",
       "4  <p class=\"_1qeIAgB0cPwnLhDF9XSiJM\">Company upg...   \n",
       "5  <p class=\"_1qeIAgB0cPwnLhDF9XSiJM\">Company upg...   \n",
       "6  <p class=\"_1qeIAgB0cPwnLhDF9XSiJM\">Company upg...   \n",
       "7  <p class=\"_1qeIAgB0cPwnLhDF9XSiJM\">Company upg...   \n",
       "8  <p class=\"_1qeIAgB0cPwnLhDF9XSiJM\">Company upg...   \n",
       "9  <p class=\"_1qeIAgB0cPwnLhDF9XSiJM\">Company upg...   \n",
       "\n",
       "                    Subject               Post Date User DisplayName  \\\n",
       "0  ERP help urgently needed  2019-10-10T05:58:05.73      ChinusGomes   \n",
       "1  ERP help urgently needed  2019-10-10T05:58:05.73      ChinusGomes   \n",
       "2  ERP help urgently needed  2019-10-10T05:58:05.73      ChinusGomes   \n",
       "3  ERP help urgently needed  2019-10-10T05:58:05.73      ChinusGomes   \n",
       "4  ERP help urgently needed  2019-10-10T05:58:05.73      ChinusGomes   \n",
       "5  ERP help urgently needed  2019-10-10T05:58:05.73      ChinusGomes   \n",
       "6  ERP help urgently needed  2019-10-10T05:58:05.73      ChinusGomes   \n",
       "7  ERP help urgently needed  2019-10-10T05:58:05.73      ChinusGomes   \n",
       "8  ERP help urgently needed  2019-10-10T05:58:05.73      ChinusGomes   \n",
       "9  ERP help urgently needed  2019-10-10T05:58:05.73      ChinusGomes   \n",
       "\n",
       "         Is Question Tags  Likes  \n",
       "0  QuestionAndAnswer  NaN    NaN  \n",
       "1  QuestionAndAnswer  NaN    NaN  \n",
       "2  QuestionAndAnswer  NaN    NaN  \n",
       "3  QuestionAndAnswer  NaN    NaN  \n",
       "4  QuestionAndAnswer  NaN    NaN  \n",
       "5  QuestionAndAnswer  NaN    NaN  \n",
       "6  QuestionAndAnswer  NaN    NaN  \n",
       "7  QuestionAndAnswer  NaN    NaN  \n",
       "8  QuestionAndAnswer  NaN    NaN  \n",
       "9  QuestionAndAnswer  NaN    NaN  "
      ]
     },
     "execution_count": 12,
     "metadata": {},
     "output_type": "execute_result"
    }
   ],
   "source": [
    "# Read yelp.csv into a DataFrame.\r\n",
    "df_Forum = pd.read_excel(myFile, sheet_name='Forum List')\r\n",
    "print(df_Forum.shape)\r\n",
    "df_Forum.head(10)"
   ]
  },
  {
   "cell_type": "markdown",
   "metadata": {},
   "source": [
    "# Clean the html"
   ]
  },
  {
   "cell_type": "markdown",
   "metadata": {},
   "source": [
    "## Option 1"
   ]
  },
  {
   "cell_type": "code",
   "execution_count": 13,
   "metadata": {},
   "outputs": [],
   "source": [
    "# def cleanhtml(raw_html):\r\n",
    "#     cleanr = re.compile('<.*?>')\r\n",
    "#     cleantext = re.sub(cleanr,'',raw_html)\r\n",
    "#     return cleantext\r\n",
    "# cleanhtml(df_Forum['Body'][0])"
   ]
  },
  {
   "cell_type": "markdown",
   "metadata": {},
   "source": [
    "## Option 2: BeautifulSoup"
   ]
  },
  {
   "cell_type": "code",
   "execution_count": 14,
   "metadata": {},
   "outputs": [],
   "source": [
    "def cleanhtml(raw_html):\r\n",
    "    return BeautifulSoup(raw_html, \"lxml\").text"
   ]
  },
  {
   "cell_type": "code",
   "execution_count": 15,
   "metadata": {},
   "outputs": [
    {
     "data": {
      "text/html": [
       "<div>\n",
       "<style scoped>\n",
       "    .dataframe tbody tr th:only-of-type {\n",
       "        vertical-align: middle;\n",
       "    }\n",
       "\n",
       "    .dataframe tbody tr th {\n",
       "        vertical-align: top;\n",
       "    }\n",
       "\n",
       "    .dataframe thead th {\n",
       "        text-align: right;\n",
       "    }\n",
       "</style>\n",
       "<table border=\"1\" class=\"dataframe\">\n",
       "  <thead>\n",
       "    <tr style=\"text-align: right;\">\n",
       "      <th></th>\n",
       "      <th>ID</th>\n",
       "      <th>Forum ID</th>\n",
       "      <th>Forum Name</th>\n",
       "      <th>Body</th>\n",
       "      <th>Subject</th>\n",
       "      <th>Post Date</th>\n",
       "      <th>User DisplayName</th>\n",
       "      <th>Is Question</th>\n",
       "      <th>Tags</th>\n",
       "      <th>Likes</th>\n",
       "      <th>Forum_Post_Raw</th>\n",
       "    </tr>\n",
       "  </thead>\n",
       "  <tbody>\n",
       "    <tr>\n",
       "      <th>0</th>\n",
       "      <td>133741</td>\n",
       "      <td>40</td>\n",
       "      <td>Sage X3 General Discussion</td>\n",
       "      <td>&lt;p class=\"_1qeIAgB0cPwnLhDF9XSiJM\"&gt;Company upg...</td>\n",
       "      <td>ERP help urgently needed</td>\n",
       "      <td>2019-10-10T05:58:05.73</td>\n",
       "      <td>ChinusGomes</td>\n",
       "      <td>QuestionAndAnswer</td>\n",
       "      <td>NaN</td>\n",
       "      <td>NaN</td>\n",
       "      <td>Company upgraded to windows 10. Used to run an...</td>\n",
       "    </tr>\n",
       "    <tr>\n",
       "      <th>1</th>\n",
       "      <td>133741</td>\n",
       "      <td>40</td>\n",
       "      <td>Sage X3 General Discussion</td>\n",
       "      <td>&lt;p class=\"_1qeIAgB0cPwnLhDF9XSiJM\"&gt;Company upg...</td>\n",
       "      <td>ERP help urgently needed</td>\n",
       "      <td>2019-10-10T05:58:05.73</td>\n",
       "      <td>ChinusGomes</td>\n",
       "      <td>QuestionAndAnswer</td>\n",
       "      <td>NaN</td>\n",
       "      <td>NaN</td>\n",
       "      <td>Company upgraded to windows 10. Used to run an...</td>\n",
       "    </tr>\n",
       "    <tr>\n",
       "      <th>2</th>\n",
       "      <td>133741</td>\n",
       "      <td>40</td>\n",
       "      <td>Sage X3 General Discussion</td>\n",
       "      <td>&lt;p class=\"_1qeIAgB0cPwnLhDF9XSiJM\"&gt;Company upg...</td>\n",
       "      <td>ERP help urgently needed</td>\n",
       "      <td>2019-10-10T05:58:05.73</td>\n",
       "      <td>ChinusGomes</td>\n",
       "      <td>QuestionAndAnswer</td>\n",
       "      <td>NaN</td>\n",
       "      <td>NaN</td>\n",
       "      <td>Company upgraded to windows 10. Used to run an...</td>\n",
       "    </tr>\n",
       "    <tr>\n",
       "      <th>3</th>\n",
       "      <td>133741</td>\n",
       "      <td>40</td>\n",
       "      <td>Sage X3 General Discussion</td>\n",
       "      <td>&lt;p class=\"_1qeIAgB0cPwnLhDF9XSiJM\"&gt;Company upg...</td>\n",
       "      <td>ERP help urgently needed</td>\n",
       "      <td>2019-10-10T05:58:05.73</td>\n",
       "      <td>ChinusGomes</td>\n",
       "      <td>QuestionAndAnswer</td>\n",
       "      <td>NaN</td>\n",
       "      <td>NaN</td>\n",
       "      <td>Company upgraded to windows 10. Used to run an...</td>\n",
       "    </tr>\n",
       "    <tr>\n",
       "      <th>4</th>\n",
       "      <td>133741</td>\n",
       "      <td>40</td>\n",
       "      <td>Sage X3 General Discussion</td>\n",
       "      <td>&lt;p class=\"_1qeIAgB0cPwnLhDF9XSiJM\"&gt;Company upg...</td>\n",
       "      <td>ERP help urgently needed</td>\n",
       "      <td>2019-10-10T05:58:05.73</td>\n",
       "      <td>ChinusGomes</td>\n",
       "      <td>QuestionAndAnswer</td>\n",
       "      <td>NaN</td>\n",
       "      <td>NaN</td>\n",
       "      <td>Company upgraded to windows 10. Used to run an...</td>\n",
       "    </tr>\n",
       "  </tbody>\n",
       "</table>\n",
       "</div>"
      ],
      "text/plain": [
       "       ID  Forum ID                  Forum Name  \\\n",
       "0  133741        40  Sage X3 General Discussion   \n",
       "1  133741        40  Sage X3 General Discussion   \n",
       "2  133741        40  Sage X3 General Discussion   \n",
       "3  133741        40  Sage X3 General Discussion   \n",
       "4  133741        40  Sage X3 General Discussion   \n",
       "\n",
       "                                                Body  \\\n",
       "0  <p class=\"_1qeIAgB0cPwnLhDF9XSiJM\">Company upg...   \n",
       "1  <p class=\"_1qeIAgB0cPwnLhDF9XSiJM\">Company upg...   \n",
       "2  <p class=\"_1qeIAgB0cPwnLhDF9XSiJM\">Company upg...   \n",
       "3  <p class=\"_1qeIAgB0cPwnLhDF9XSiJM\">Company upg...   \n",
       "4  <p class=\"_1qeIAgB0cPwnLhDF9XSiJM\">Company upg...   \n",
       "\n",
       "                    Subject               Post Date User DisplayName  \\\n",
       "0  ERP help urgently needed  2019-10-10T05:58:05.73      ChinusGomes   \n",
       "1  ERP help urgently needed  2019-10-10T05:58:05.73      ChinusGomes   \n",
       "2  ERP help urgently needed  2019-10-10T05:58:05.73      ChinusGomes   \n",
       "3  ERP help urgently needed  2019-10-10T05:58:05.73      ChinusGomes   \n",
       "4  ERP help urgently needed  2019-10-10T05:58:05.73      ChinusGomes   \n",
       "\n",
       "         Is Question Tags  Likes  \\\n",
       "0  QuestionAndAnswer  NaN    NaN   \n",
       "1  QuestionAndAnswer  NaN    NaN   \n",
       "2  QuestionAndAnswer  NaN    NaN   \n",
       "3  QuestionAndAnswer  NaN    NaN   \n",
       "4  QuestionAndAnswer  NaN    NaN   \n",
       "\n",
       "                                      Forum_Post_Raw  \n",
       "0  Company upgraded to windows 10. Used to run an...  \n",
       "1  Company upgraded to windows 10. Used to run an...  \n",
       "2  Company upgraded to windows 10. Used to run an...  \n",
       "3  Company upgraded to windows 10. Used to run an...  \n",
       "4  Company upgraded to windows 10. Used to run an...  "
      ]
     },
     "execution_count": 15,
     "metadata": {},
     "output_type": "execute_result"
    }
   ],
   "source": [
    "# Create a neutral, positive, negative column\r\n",
    "\r\n",
    "df_Forum['Forum_Post_Raw'] = df_Forum.apply(lambda row: cleanhtml(row['Body']), axis=1)\r\n",
    "df_Forum.head(5)"
   ]
  },
  {
   "cell_type": "code",
   "execution_count": 16,
   "metadata": {},
   "outputs": [
    {
     "name": "stdout",
     "output_type": "stream",
     "text": [
      "Distinct records:  (1086, 6)\n",
      "Original Dataset:  (2943, 11)\n"
     ]
    }
   ],
   "source": [
    "df_distinct = df_Forum[['Forum ID', 'Forum Name', 'Subject', 'Post Date', 'User DisplayName', 'Forum_Post_Raw']].drop_duplicates(inplace=False).copy()\r\n",
    "print('Distinct records: ', df_distinct.shape)\r\n",
    "print('Original Dataset: ', df_Forum.shape)\r\n"
   ]
  },
  {
   "cell_type": "markdown",
   "metadata": {},
   "source": [
    "# Sentiment Analysis \r\n",
    "Code to generate sentiment analysis"
   ]
  },
  {
   "cell_type": "code",
   "execution_count": 17,
   "metadata": {},
   "outputs": [],
   "source": [
    "from nltk.sentiment.vader import SentimentIntensityAnalyzer\r\n",
    "sia = SentimentIntensityAnalyzer()\r\n",
    "\r\n",
    "compound= []\r\n",
    "neg = []\r\n",
    "neu = []\r\n",
    "pos = []\r\n",
    "for entry in df_distinct['Forum_Post_Raw']:\r\n",
    "    sent = sia.polarity_scores(entry)\r\n",
    "    compound.append(sent['compound'])\r\n",
    "    neg.append(sent['neg'])\r\n",
    "    neu.append(sent['neu'])\r\n",
    "    pos.append(sent['pos'])"
   ]
  },
  {
   "cell_type": "code",
   "execution_count": 18,
   "metadata": {},
   "outputs": [
    {
     "data": {
      "text/html": [
       "<div>\n",
       "<style scoped>\n",
       "    .dataframe tbody tr th:only-of-type {\n",
       "        vertical-align: middle;\n",
       "    }\n",
       "\n",
       "    .dataframe tbody tr th {\n",
       "        vertical-align: top;\n",
       "    }\n",
       "\n",
       "    .dataframe thead th {\n",
       "        text-align: right;\n",
       "    }\n",
       "</style>\n",
       "<table border=\"1\" class=\"dataframe\">\n",
       "  <thead>\n",
       "    <tr style=\"text-align: right;\">\n",
       "      <th></th>\n",
       "      <th>Forum ID</th>\n",
       "      <th>Forum Name</th>\n",
       "      <th>Subject</th>\n",
       "      <th>Post Date</th>\n",
       "      <th>User DisplayName</th>\n",
       "      <th>Forum_Post_Raw</th>\n",
       "      <th>compound</th>\n",
       "      <th>neg</th>\n",
       "      <th>neu</th>\n",
       "      <th>pos</th>\n",
       "    </tr>\n",
       "  </thead>\n",
       "  <tbody>\n",
       "    <tr>\n",
       "      <th>0</th>\n",
       "      <td>40</td>\n",
       "      <td>Sage X3 General Discussion</td>\n",
       "      <td>ERP help urgently needed</td>\n",
       "      <td>2019-10-10T05:58:05.73</td>\n",
       "      <td>ChinusGomes</td>\n",
       "      <td>Company upgraded to windows 10. Used to run an...</td>\n",
       "      <td>0.0387</td>\n",
       "      <td>0.063</td>\n",
       "      <td>0.873</td>\n",
       "      <td>0.064</td>\n",
       "    </tr>\n",
       "    <tr>\n",
       "      <th>31</th>\n",
       "      <td>40</td>\n",
       "      <td>Sage X3 General Discussion</td>\n",
       "      <td>Sage V11 patch 14 - release soon?</td>\n",
       "      <td>2019-10-10T12:44:35.957</td>\n",
       "      <td>AnikB</td>\n",
       "      <td>Hello!\\n\\nI see that Sage V11 patch 14 was com...</td>\n",
       "      <td>0.7044</td>\n",
       "      <td>0.022</td>\n",
       "      <td>0.915</td>\n",
       "      <td>0.063</td>\n",
       "    </tr>\n",
       "    <tr>\n",
       "      <th>62</th>\n",
       "      <td>673</td>\n",
       "      <td>Sage X3 Announcements, News, and Alerts</td>\n",
       "      <td>Sage X3 12.0.19 and Patch 19 Add-ons Updates h...</td>\n",
       "      <td>2019-10-10T14:56:52.947</td>\n",
       "      <td>Alecia</td>\n",
       "      <td>To access this download, log into https://supp...</td>\n",
       "      <td>0.9359</td>\n",
       "      <td>0.000</td>\n",
       "      <td>0.898</td>\n",
       "      <td>0.102</td>\n",
       "    </tr>\n",
       "    <tr>\n",
       "      <th>63</th>\n",
       "      <td>673</td>\n",
       "      <td>Sage X3 Announcements, News, and Alerts</td>\n",
       "      <td>Sage X3 Warehousing (GEODE) v12.0.19 has been ...</td>\n",
       "      <td>2019-10-10T20:56:53.483</td>\n",
       "      <td>pnightingale</td>\n",
       "      <td>To access this download, log into https://supp...</td>\n",
       "      <td>0.9359</td>\n",
       "      <td>0.000</td>\n",
       "      <td>0.898</td>\n",
       "      <td>0.102</td>\n",
       "    </tr>\n",
       "    <tr>\n",
       "      <th>64</th>\n",
       "      <td>40</td>\n",
       "      <td>Sage X3 General Discussion</td>\n",
       "      <td>Modifying Stock Change ST2 object</td>\n",
       "      <td>2019-10-11T13:10:28.983</td>\n",
       "      <td>ChrisCC</td>\n",
       "      <td>I am trying to remove some of the columns on t...</td>\n",
       "      <td>0.5980</td>\n",
       "      <td>0.046</td>\n",
       "      <td>0.865</td>\n",
       "      <td>0.090</td>\n",
       "    </tr>\n",
       "  </tbody>\n",
       "</table>\n",
       "</div>"
      ],
      "text/plain": [
       "    Forum ID                               Forum Name  \\\n",
       "0         40               Sage X3 General Discussion   \n",
       "31        40               Sage X3 General Discussion   \n",
       "62       673  Sage X3 Announcements, News, and Alerts   \n",
       "63       673  Sage X3 Announcements, News, and Alerts   \n",
       "64        40               Sage X3 General Discussion   \n",
       "\n",
       "                                              Subject  \\\n",
       "0                            ERP help urgently needed   \n",
       "31                  Sage V11 patch 14 - release soon?   \n",
       "62  Sage X3 12.0.19 and Patch 19 Add-ons Updates h...   \n",
       "63  Sage X3 Warehousing (GEODE) v12.0.19 has been ...   \n",
       "64                  Modifying Stock Change ST2 object   \n",
       "\n",
       "                  Post Date User DisplayName  \\\n",
       "0    2019-10-10T05:58:05.73      ChinusGomes   \n",
       "31  2019-10-10T12:44:35.957            AnikB   \n",
       "62  2019-10-10T14:56:52.947           Alecia   \n",
       "63  2019-10-10T20:56:53.483     pnightingale   \n",
       "64  2019-10-11T13:10:28.983          ChrisCC   \n",
       "\n",
       "                                       Forum_Post_Raw  compound    neg    neu  \\\n",
       "0   Company upgraded to windows 10. Used to run an...    0.0387  0.063  0.873   \n",
       "31  Hello!\\n\\nI see that Sage V11 patch 14 was com...    0.7044  0.022  0.915   \n",
       "62  To access this download, log into https://supp...    0.9359  0.000  0.898   \n",
       "63  To access this download, log into https://supp...    0.9359  0.000  0.898   \n",
       "64  I am trying to remove some of the columns on t...    0.5980  0.046  0.865   \n",
       "\n",
       "      pos  \n",
       "0   0.064  \n",
       "31  0.063  \n",
       "62  0.102  \n",
       "63  0.102  \n",
       "64  0.090  "
      ]
     },
     "execution_count": 18,
     "metadata": {},
     "output_type": "execute_result"
    }
   ],
   "source": [
    "df_distinct['compound'] = compound\r\n",
    "df_distinct['neg'] = neg\r\n",
    "df_distinct['neu'] = neu\r\n",
    "df_distinct['pos'] = pos\r\n",
    "df_distinct.head()"
   ]
  },
  {
   "cell_type": "code",
   "execution_count": 19,
   "metadata": {},
   "outputs": [],
   "source": [
    "def getSentiment(compoundScore):\n",
    "    retVal = \"Neutral\"\n",
    "    if (compoundScore > 0.05):\n",
    "        retVal = \"Positive\"\n",
    "    elif (compoundScore <= - 0.05):\n",
    "        retVal = \"Negative\"\n",
    "    \n",
    "    return retVal"
   ]
  },
  {
   "cell_type": "code",
   "execution_count": 20,
   "metadata": {},
   "outputs": [
    {
     "data": {
      "text/html": [
       "<div>\n",
       "<style scoped>\n",
       "    .dataframe tbody tr th:only-of-type {\n",
       "        vertical-align: middle;\n",
       "    }\n",
       "\n",
       "    .dataframe tbody tr th {\n",
       "        vertical-align: top;\n",
       "    }\n",
       "\n",
       "    .dataframe thead th {\n",
       "        text-align: right;\n",
       "    }\n",
       "</style>\n",
       "<table border=\"1\" class=\"dataframe\">\n",
       "  <thead>\n",
       "    <tr style=\"text-align: right;\">\n",
       "      <th></th>\n",
       "      <th>Forum ID</th>\n",
       "      <th>Forum Name</th>\n",
       "      <th>Subject</th>\n",
       "      <th>Post Date</th>\n",
       "      <th>User DisplayName</th>\n",
       "      <th>Forum_Post_Raw</th>\n",
       "      <th>compound</th>\n",
       "      <th>neg</th>\n",
       "      <th>neu</th>\n",
       "      <th>pos</th>\n",
       "      <th>Sentiment</th>\n",
       "    </tr>\n",
       "  </thead>\n",
       "  <tbody>\n",
       "    <tr>\n",
       "      <th>0</th>\n",
       "      <td>40</td>\n",
       "      <td>Sage X3 General Discussion</td>\n",
       "      <td>ERP help urgently needed</td>\n",
       "      <td>2019-10-10T05:58:05.73</td>\n",
       "      <td>ChinusGomes</td>\n",
       "      <td>Company upgraded to windows 10. Used to run an...</td>\n",
       "      <td>0.0387</td>\n",
       "      <td>0.063</td>\n",
       "      <td>0.873</td>\n",
       "      <td>0.064</td>\n",
       "      <td>Neutral</td>\n",
       "    </tr>\n",
       "    <tr>\n",
       "      <th>31</th>\n",
       "      <td>40</td>\n",
       "      <td>Sage X3 General Discussion</td>\n",
       "      <td>Sage V11 patch 14 - release soon?</td>\n",
       "      <td>2019-10-10T12:44:35.957</td>\n",
       "      <td>AnikB</td>\n",
       "      <td>Hello!\\n\\nI see that Sage V11 patch 14 was com...</td>\n",
       "      <td>0.7044</td>\n",
       "      <td>0.022</td>\n",
       "      <td>0.915</td>\n",
       "      <td>0.063</td>\n",
       "      <td>Positive</td>\n",
       "    </tr>\n",
       "    <tr>\n",
       "      <th>62</th>\n",
       "      <td>673</td>\n",
       "      <td>Sage X3 Announcements, News, and Alerts</td>\n",
       "      <td>Sage X3 12.0.19 and Patch 19 Add-ons Updates h...</td>\n",
       "      <td>2019-10-10T14:56:52.947</td>\n",
       "      <td>Alecia</td>\n",
       "      <td>To access this download, log into https://supp...</td>\n",
       "      <td>0.9359</td>\n",
       "      <td>0.000</td>\n",
       "      <td>0.898</td>\n",
       "      <td>0.102</td>\n",
       "      <td>Positive</td>\n",
       "    </tr>\n",
       "    <tr>\n",
       "      <th>63</th>\n",
       "      <td>673</td>\n",
       "      <td>Sage X3 Announcements, News, and Alerts</td>\n",
       "      <td>Sage X3 Warehousing (GEODE) v12.0.19 has been ...</td>\n",
       "      <td>2019-10-10T20:56:53.483</td>\n",
       "      <td>pnightingale</td>\n",
       "      <td>To access this download, log into https://supp...</td>\n",
       "      <td>0.9359</td>\n",
       "      <td>0.000</td>\n",
       "      <td>0.898</td>\n",
       "      <td>0.102</td>\n",
       "      <td>Positive</td>\n",
       "    </tr>\n",
       "    <tr>\n",
       "      <th>64</th>\n",
       "      <td>40</td>\n",
       "      <td>Sage X3 General Discussion</td>\n",
       "      <td>Modifying Stock Change ST2 object</td>\n",
       "      <td>2019-10-11T13:10:28.983</td>\n",
       "      <td>ChrisCC</td>\n",
       "      <td>I am trying to remove some of the columns on t...</td>\n",
       "      <td>0.5980</td>\n",
       "      <td>0.046</td>\n",
       "      <td>0.865</td>\n",
       "      <td>0.090</td>\n",
       "      <td>Positive</td>\n",
       "    </tr>\n",
       "  </tbody>\n",
       "</table>\n",
       "</div>"
      ],
      "text/plain": [
       "    Forum ID                               Forum Name  \\\n",
       "0         40               Sage X3 General Discussion   \n",
       "31        40               Sage X3 General Discussion   \n",
       "62       673  Sage X3 Announcements, News, and Alerts   \n",
       "63       673  Sage X3 Announcements, News, and Alerts   \n",
       "64        40               Sage X3 General Discussion   \n",
       "\n",
       "                                              Subject  \\\n",
       "0                            ERP help urgently needed   \n",
       "31                  Sage V11 patch 14 - release soon?   \n",
       "62  Sage X3 12.0.19 and Patch 19 Add-ons Updates h...   \n",
       "63  Sage X3 Warehousing (GEODE) v12.0.19 has been ...   \n",
       "64                  Modifying Stock Change ST2 object   \n",
       "\n",
       "                  Post Date User DisplayName  \\\n",
       "0    2019-10-10T05:58:05.73      ChinusGomes   \n",
       "31  2019-10-10T12:44:35.957            AnikB   \n",
       "62  2019-10-10T14:56:52.947           Alecia   \n",
       "63  2019-10-10T20:56:53.483     pnightingale   \n",
       "64  2019-10-11T13:10:28.983          ChrisCC   \n",
       "\n",
       "                                       Forum_Post_Raw  compound    neg    neu  \\\n",
       "0   Company upgraded to windows 10. Used to run an...    0.0387  0.063  0.873   \n",
       "31  Hello!\\n\\nI see that Sage V11 patch 14 was com...    0.7044  0.022  0.915   \n",
       "62  To access this download, log into https://supp...    0.9359  0.000  0.898   \n",
       "63  To access this download, log into https://supp...    0.9359  0.000  0.898   \n",
       "64  I am trying to remove some of the columns on t...    0.5980  0.046  0.865   \n",
       "\n",
       "      pos Sentiment  \n",
       "0   0.064   Neutral  \n",
       "31  0.063  Positive  \n",
       "62  0.102  Positive  \n",
       "63  0.102  Positive  \n",
       "64  0.090  Positive  "
      ]
     },
     "execution_count": 20,
     "metadata": {},
     "output_type": "execute_result"
    }
   ],
   "source": [
    "# Create a neutral, positive, negative column\r\n",
    "\r\n",
    "df_distinct['Sentiment'] = df_distinct.apply(lambda row: getSentiment(row['compound']), axis=1)\r\n",
    "df_distinct.head(5)"
   ]
  },
  {
   "cell_type": "code",
   "execution_count": 21,
   "metadata": {},
   "outputs": [
    {
     "data": {
      "text/plain": [
       "Forum ID                     int64\n",
       "Forum Name                  object\n",
       "Subject                     object\n",
       "Post Date                   object\n",
       "User DisplayName            object\n",
       "Forum_Post_Raw              object\n",
       "compound                   float64\n",
       "neg                        float64\n",
       "neu                        float64\n",
       "pos                        float64\n",
       "Sentiment                   object\n",
       "PostDate            datetime64[ns]\n",
       "DayName                     object\n",
       "DayOfMonth                   int64\n",
       "dtype: object"
      ]
     },
     "execution_count": 21,
     "metadata": {},
     "output_type": "execute_result"
    }
   ],
   "source": [
    "# Make a day column in numeric format so we can use it for linear regression later\r\n",
    "df_distinct['PostDate'] = pd.to_datetime(df_Forum['Post Date'])\r\n",
    "df_distinct['DayName'] = df_distinct['PostDate'].dt.day_name()\r\n",
    "df_distinct['DayOfMonth'] = df_distinct['PostDate'].dt.day\r\n",
    "df_distinct.dtypes\r\n"
   ]
  },
  {
   "cell_type": "code",
   "execution_count": 22,
   "metadata": {},
   "outputs": [
    {
     "data": {
      "text/html": [
       "<div>\n",
       "<style scoped>\n",
       "    .dataframe tbody tr th:only-of-type {\n",
       "        vertical-align: middle;\n",
       "    }\n",
       "\n",
       "    .dataframe tbody tr th {\n",
       "        vertical-align: top;\n",
       "    }\n",
       "\n",
       "    .dataframe thead th {\n",
       "        text-align: right;\n",
       "    }\n",
       "</style>\n",
       "<table border=\"1\" class=\"dataframe\">\n",
       "  <thead>\n",
       "    <tr style=\"text-align: right;\">\n",
       "      <th></th>\n",
       "      <th>Forum ID</th>\n",
       "      <th>Forum Name</th>\n",
       "      <th>Subject</th>\n",
       "      <th>Post Date</th>\n",
       "      <th>User DisplayName</th>\n",
       "      <th>Forum_Post_Raw</th>\n",
       "      <th>compound</th>\n",
       "      <th>neg</th>\n",
       "      <th>neu</th>\n",
       "      <th>pos</th>\n",
       "      <th>Sentiment</th>\n",
       "      <th>PostDate</th>\n",
       "      <th>DayName</th>\n",
       "      <th>DayOfMonth</th>\n",
       "    </tr>\n",
       "  </thead>\n",
       "  <tbody>\n",
       "    <tr>\n",
       "      <th>0</th>\n",
       "      <td>40</td>\n",
       "      <td>Sage X3 General Discussion</td>\n",
       "      <td>ERP help urgently needed</td>\n",
       "      <td>2019-10-10T05:58:05.73</td>\n",
       "      <td>ChinusGomes</td>\n",
       "      <td>Company upgraded to windows 10. Used to run an...</td>\n",
       "      <td>0.0387</td>\n",
       "      <td>0.063</td>\n",
       "      <td>0.873</td>\n",
       "      <td>0.064</td>\n",
       "      <td>Neutral</td>\n",
       "      <td>2019-10-10 05:58:05.730</td>\n",
       "      <td>Thursday</td>\n",
       "      <td>10</td>\n",
       "    </tr>\n",
       "    <tr>\n",
       "      <th>31</th>\n",
       "      <td>40</td>\n",
       "      <td>Sage X3 General Discussion</td>\n",
       "      <td>Sage V11 patch 14 - release soon?</td>\n",
       "      <td>2019-10-10T12:44:35.957</td>\n",
       "      <td>AnikB</td>\n",
       "      <td>Hello!\\n\\nI see that Sage V11 patch 14 was com...</td>\n",
       "      <td>0.7044</td>\n",
       "      <td>0.022</td>\n",
       "      <td>0.915</td>\n",
       "      <td>0.063</td>\n",
       "      <td>Positive</td>\n",
       "      <td>2019-10-10 12:44:35.957</td>\n",
       "      <td>Thursday</td>\n",
       "      <td>10</td>\n",
       "    </tr>\n",
       "    <tr>\n",
       "      <th>62</th>\n",
       "      <td>673</td>\n",
       "      <td>Sage X3 Announcements, News, and Alerts</td>\n",
       "      <td>Sage X3 12.0.19 and Patch 19 Add-ons Updates h...</td>\n",
       "      <td>2019-10-10T14:56:52.947</td>\n",
       "      <td>Alecia</td>\n",
       "      <td>To access this download, log into https://supp...</td>\n",
       "      <td>0.9359</td>\n",
       "      <td>0.000</td>\n",
       "      <td>0.898</td>\n",
       "      <td>0.102</td>\n",
       "      <td>Positive</td>\n",
       "      <td>2019-10-10 14:56:52.947</td>\n",
       "      <td>Thursday</td>\n",
       "      <td>10</td>\n",
       "    </tr>\n",
       "  </tbody>\n",
       "</table>\n",
       "</div>"
      ],
      "text/plain": [
       "    Forum ID                               Forum Name  \\\n",
       "0         40               Sage X3 General Discussion   \n",
       "31        40               Sage X3 General Discussion   \n",
       "62       673  Sage X3 Announcements, News, and Alerts   \n",
       "\n",
       "                                              Subject  \\\n",
       "0                            ERP help urgently needed   \n",
       "31                  Sage V11 patch 14 - release soon?   \n",
       "62  Sage X3 12.0.19 and Patch 19 Add-ons Updates h...   \n",
       "\n",
       "                  Post Date User DisplayName  \\\n",
       "0    2019-10-10T05:58:05.73      ChinusGomes   \n",
       "31  2019-10-10T12:44:35.957            AnikB   \n",
       "62  2019-10-10T14:56:52.947           Alecia   \n",
       "\n",
       "                                       Forum_Post_Raw  compound    neg    neu  \\\n",
       "0   Company upgraded to windows 10. Used to run an...    0.0387  0.063  0.873   \n",
       "31  Hello!\\n\\nI see that Sage V11 patch 14 was com...    0.7044  0.022  0.915   \n",
       "62  To access this download, log into https://supp...    0.9359  0.000  0.898   \n",
       "\n",
       "      pos Sentiment                PostDate   DayName  DayOfMonth  \n",
       "0   0.064   Neutral 2019-10-10 05:58:05.730  Thursday          10  \n",
       "31  0.063  Positive 2019-10-10 12:44:35.957  Thursday          10  \n",
       "62  0.102  Positive 2019-10-10 14:56:52.947  Thursday          10  "
      ]
     },
     "execution_count": 22,
     "metadata": {},
     "output_type": "execute_result"
    }
   ],
   "source": [
    "df_distinct.head(3)"
   ]
  },
  {
   "cell_type": "markdown",
   "metadata": {},
   "source": [
    "## Train The Sentiment Analyzer"
   ]
  },
  {
   "cell_type": "code",
   "execution_count": 23,
   "metadata": {},
   "outputs": [
    {
     "data": {
      "text/plain": [
       "['01/01/2021 12:12:10']"
      ]
     },
     "execution_count": 23,
     "metadata": {},
     "output_type": "execute_result"
    }
   ],
   "source": [
    "p = re.compile(\" 00:00:00\")\r\n",
    "p.split('01/01/2021 12:12:10')"
   ]
  },
  {
   "cell_type": "code",
   "execution_count": 24,
   "metadata": {},
   "outputs": [],
   "source": [
    "y = df_distinct['Sentiment']\r\n",
    "X = df_distinct[['compound', 'neg', 'neu', 'pos']]"
   ]
  },
  {
   "cell_type": "code",
   "execution_count": 25,
   "metadata": {},
   "outputs": [],
   "source": [
    "from sklearn.ensemble import RandomForestClassifier\n",
    "rf = RandomForestClassifier()\n",
    "from sklearn.model_selection import cross_val_score, train_test_split"
   ]
  },
  {
   "cell_type": "code",
   "execution_count": 26,
   "metadata": {},
   "outputs": [
    {
     "data": {
      "text/plain": [
       "RandomForestClassifier()"
      ]
     },
     "execution_count": 26,
     "metadata": {},
     "output_type": "execute_result"
    }
   ],
   "source": [
    "rf.fit(X,y)"
   ]
  },
  {
   "cell_type": "code",
   "execution_count": 27,
   "metadata": {},
   "outputs": [
    {
     "data": {
      "text/plain": [
       "array([1.        , 1.        , 1.        , 0.99539171, 1.        ])"
      ]
     },
     "execution_count": 27,
     "metadata": {},
     "output_type": "execute_result"
    }
   ],
   "source": [
    "cross_val_score(rf, X, y)\n",
    "# versus the baseline (63%), this is a little weak."
   ]
  },
  {
   "cell_type": "code",
   "execution_count": 46,
   "metadata": {},
   "outputs": [
    {
     "data": {
      "text/plain": [
       "RandomForestClassifier()"
      ]
     },
     "execution_count": 46,
     "metadata": {},
     "output_type": "execute_result"
    }
   ],
   "source": [
    "X_train, X_test, y_train, y_test = train_test_split(X, y, \n",
    "                                                        test_size=0.30,\n",
    "                                                        random_state=14)\n",
    "rf.fit(X_train,y_train)"
   ]
  },
  {
   "cell_type": "code",
   "execution_count": 47,
   "metadata": {},
   "outputs": [
    {
     "data": {
      "image/png": "[encoded data removed]",
      "text/plain": [
       "<Figure size 432x432 with 1 Axes>"
      ]
     },
     "metadata": {
      "needs_background": "light"
     },
     "output_type": "display_data"
    }
   ],
   "source": [
    "\n",
    "conmat = np.array(confusion_matrix(y_test, rf.predict(X_test)))\n",
    "confusion = pd.DataFrame(conmat, index=['negative', 'neutral', 'positive'],\\\n",
    "                     columns=['Pred neg', 'Pred neutral', 'Pred pos'])\n",
    "\n",
    "plt.figure(figsize = (6,6))\n",
    "heat = sns.heatmap(confusion, annot=True, annot_kws={\"size\": 20},cmap='Blues',fmt='g', cbar=False)\n",
    "plt.xticks(rotation=0, fontsize=14)\n",
    "plt.yticks(fontsize=14)\n",
    "plt.title(\"Confusion Matrix\", fontsize=20)\n",
    "plt.savefig('ConfusionMatric.png')\n"
   ]
  },
  {
   "cell_type": "code",
   "execution_count": 48,
   "metadata": {},
   "outputs": [
    {
     "name": "stdout",
     "output_type": "stream",
     "text": [
      "              precision    recall  f1-score   support\n",
      "\n",
      "    Negative       0.98      1.00      0.99        50\n",
      "     Neutral       1.00      0.97      0.98        33\n",
      "    Positive       1.00      1.00      1.00       243\n",
      "\n",
      "    accuracy                           1.00       326\n",
      "   macro avg       0.99      0.99      0.99       326\n",
      "weighted avg       1.00      1.00      1.00       326\n",
      "\n"
     ]
    }
   ],
   "source": [
    "# SAVE THIS MANUALLY TO A PICTURE\n",
    "print(classification_report(y_test, rf.predict(X_test)))"
   ]
  },
  {
   "cell_type": "code",
   "execution_count": 189,
   "metadata": {},
   "outputs": [
    {
     "data": {
      "text/plain": [
       "Forum ID                     int64\n",
       "Forum Name                  object\n",
       "Subject                     object\n",
       "Post Date                   object\n",
       "User DisplayName            object\n",
       "Forum_Post_Raw              object\n",
       "compound                   float64\n",
       "neg                        float64\n",
       "neu                        float64\n",
       "pos                        float64\n",
       "Sentiment                   object\n",
       "PostDate            datetime64[ns]\n",
       "DayName                     object\n",
       "DayOfMonth                   int64\n",
       "ShortText                   object\n",
       "dtype: object"
      ]
     },
     "execution_count": 189,
     "metadata": {},
     "output_type": "execute_result"
    }
   ],
   "source": [
    "df = df_distinct.copy()\r\n",
    "df['ShortText'] = df['Forum_Post_Raw'].str[:50]\r\n",
    "df.dtypes"
   ]
  },
  {
   "cell_type": "code",
   "execution_count": 190,
   "metadata": {},
   "outputs": [],
   "source": [
    "df.set_index('PostDate', inplace=True)"
   ]
  },
  {
   "cell_type": "code",
   "execution_count": 191,
   "metadata": {},
   "outputs": [
    {
     "data": {
      "text/html": [
       "<div>\n",
       "<style scoped>\n",
       "    .dataframe tbody tr th:only-of-type {\n",
       "        vertical-align: middle;\n",
       "    }\n",
       "\n",
       "    .dataframe tbody tr th {\n",
       "        vertical-align: top;\n",
       "    }\n",
       "\n",
       "    .dataframe thead th {\n",
       "        text-align: right;\n",
       "    }\n",
       "</style>\n",
       "<table border=\"1\" class=\"dataframe\">\n",
       "  <thead>\n",
       "    <tr style=\"text-align: right;\">\n",
       "      <th></th>\n",
       "      <th>Forum ID</th>\n",
       "      <th>Forum Name</th>\n",
       "      <th>Subject</th>\n",
       "      <th>Post Date</th>\n",
       "      <th>User DisplayName</th>\n",
       "      <th>Forum_Post_Raw</th>\n",
       "      <th>compound</th>\n",
       "      <th>neg</th>\n",
       "      <th>neu</th>\n",
       "      <th>pos</th>\n",
       "      <th>Sentiment</th>\n",
       "      <th>DayName</th>\n",
       "      <th>DayOfMonth</th>\n",
       "      <th>ShortText</th>\n",
       "    </tr>\n",
       "    <tr>\n",
       "      <th>PostDate</th>\n",
       "      <th></th>\n",
       "      <th></th>\n",
       "      <th></th>\n",
       "      <th></th>\n",
       "      <th></th>\n",
       "      <th></th>\n",
       "      <th></th>\n",
       "      <th></th>\n",
       "      <th></th>\n",
       "      <th></th>\n",
       "      <th></th>\n",
       "      <th></th>\n",
       "      <th></th>\n",
       "      <th></th>\n",
       "    </tr>\n",
       "  </thead>\n",
       "  <tbody>\n",
       "    <tr>\n",
       "      <th>2019-10-10 05:58:05.730</th>\n",
       "      <td>40</td>\n",
       "      <td>Sage X3 General Discussion</td>\n",
       "      <td>ERP help urgently needed</td>\n",
       "      <td>2019-10-10T05:58:05.73</td>\n",
       "      <td>ChinusGomes</td>\n",
       "      <td>Company upgraded to windows 10. Used to run an...</td>\n",
       "      <td>0.0387</td>\n",
       "      <td>0.063</td>\n",
       "      <td>0.873</td>\n",
       "      <td>0.064</td>\n",
       "      <td>Neutral</td>\n",
       "      <td>Thursday</td>\n",
       "      <td>10</td>\n",
       "      <td>Company upgraded to windows 10. Used to run an...</td>\n",
       "    </tr>\n",
       "  </tbody>\n",
       "</table>\n",
       "</div>"
      ],
      "text/plain": [
       "                         Forum ID                  Forum Name  \\\n",
       "PostDate                                                        \n",
       "2019-10-10 05:58:05.730        40  Sage X3 General Discussion   \n",
       "\n",
       "                                          Subject               Post Date  \\\n",
       "PostDate                                                                    \n",
       "2019-10-10 05:58:05.730  ERP help urgently needed  2019-10-10T05:58:05.73   \n",
       "\n",
       "                        User DisplayName  \\\n",
       "PostDate                                   \n",
       "2019-10-10 05:58:05.730      ChinusGomes   \n",
       "\n",
       "                                                            Forum_Post_Raw  \\\n",
       "PostDate                                                                     \n",
       "2019-10-10 05:58:05.730  Company upgraded to windows 10. Used to run an...   \n",
       "\n",
       "                         compound    neg    neu    pos Sentiment   DayName  \\\n",
       "PostDate                                                                     \n",
       "2019-10-10 05:58:05.730    0.0387  0.063  0.873  0.064   Neutral  Thursday   \n",
       "\n",
       "                         DayOfMonth  \\\n",
       "PostDate                              \n",
       "2019-10-10 05:58:05.730          10   \n",
       "\n",
       "                                                                 ShortText  \n",
       "PostDate                                                                    \n",
       "2019-10-10 05:58:05.730  Company upgraded to windows 10. Used to run an...  "
      ]
     },
     "execution_count": 191,
     "metadata": {},
     "output_type": "execute_result"
    }
   ],
   "source": [
    "df.head(1)"
   ]
  },
  {
   "cell_type": "code",
   "execution_count": 192,
   "metadata": {},
   "outputs": [],
   "source": [
    "df2 = df.sort_values(['PostDate']).copy()\r\n"
   ]
  },
  {
   "cell_type": "code",
   "execution_count": 53,
   "metadata": {},
   "outputs": [
    {
     "data": {
      "application/vnd.plotly.v1+json": {
       "config": {
        "plotlyServerURL": "https://plot.ly"
       },
       "data": [
        {
         "hovertemplate": "Post Date=%{x}<br>neg=%{y}<extra></extra>",
         "legendgroup": "",
         "line": {
          "color": "#636efa",
          "dash": "solid"
         },
         "mode": "lines",
         "name": "",
         "showlegend": false,
         "type": "scattergl",
         "x": [
          "2019-10-10T05:58:05.73",
          "2019-10-10T12:44:35.957",
          "2019-10-10T14:56:52.947",
          "2019-10-10T15:41:06.877",
          "2019-10-10T20:56:53.483",
          "2019-10-11T13:10:28.983",
          "2019-10-11T14:24:15.807",
          "2019-10-11T16:02:41.787",
          "2019-10-13T20:01:08.897",
          "2019-10-14T05:55:32.553",
          "2019-10-14T08:33:18.01",
          "2019-10-14T22:38:08.26",
          "2019-10-16T11:20:54.023",
          "2019-10-16T14:12:45.5",
          "2019-10-17T09:14:34.753",
          "2019-10-17T10:16:15.513",
          "2019-10-17T12:09:02.91",
          "2019-10-17T23:59:14.523",
          "2019-10-18T14:58:06.717",
          "2019-10-21T06:08:38.347",
          "2019-10-21T09:43:33.513",
          "2019-10-21T12:40:40.86",
          "2019-10-21T16:06:55.323",
          "2019-10-22T08:16:13.563",
          "2019-10-22T16:27:23.92",
          "2019-10-22T18:07:48.827",
          "2019-10-23T03:37:35.103",
          "2019-10-23T06:23:11.657",
          "2019-10-23T08:20:38.087",
          "2019-10-23T11:38:26.887",
          "2019-10-23T12:09:17.84",
          "2019-10-24T04:42:08.237",
          "2019-10-24T06:19:46.603",
          "2019-10-24T09:59:56.077",
          "2019-10-24T14:04:33.85",
          "2019-10-24T16:34:04.713",
          "2019-10-25T11:54:33.85",
          "2019-10-28T15:36:47.907",
          "2019-10-29T06:01:19.783",
          "2019-10-29T10:29:47.95",
          "2019-10-29T16:46:32.203",
          "2019-10-29T17:04:40.463",
          "2019-10-30T04:45:07.257",
          "2019-10-30T08:21:45.053",
          "2019-10-30T15:33:07.45",
          "2019-10-30T18:41:07.37",
          "2019-10-30T18:45:20.75",
          "2019-10-31T12:35:06.993",
          "2019-10-31T23:57:45.833",
          "2019-11-01T07:44:02.54",
          "2019-11-01T07:45:56.387",
          "2019-11-04T17:47:37.86",
          "2019-11-06T06:04:59.007",
          "2019-11-06T10:08:50.95",
          "2019-11-06T10:27:39.52",
          "2019-11-08T20:33:59.89",
          "2019-11-09T11:37:29.693",
          "2019-11-10T01:44:11.28",
          "2019-11-11T05:59:42.987",
          "2019-11-11T11:39:44.857",
          "2019-11-11T13:02:34.017",
          "2019-11-12T00:41:34.433",
          "2019-11-12T18:42:03.247",
          "2019-11-13T03:30:36.293",
          "2019-11-13T09:35:33.91",
          "2019-11-13T23:52:26.683",
          "2019-11-14T03:28:57.637",
          "2019-11-14T06:03:35.53",
          "2019-11-14T09:45:03.713",
          "2019-11-14T11:29:20.21",
          "2019-11-14T13:10:08.303",
          "2019-11-18T04:12:03.657",
          "2019-11-18T10:12:47.987",
          "2019-11-18T15:17:49.503",
          "2019-11-18T16:11:15.36",
          "2019-11-18T17:18:32.137",
          "2019-11-18T19:25:44.17",
          "2019-11-19T02:48:28.417",
          "2019-11-19T10:27:37.423",
          "2019-11-19T11:00:35.74",
          "2019-11-19T20:00:10.803",
          "2019-11-20T05:47:36.783",
          "2019-11-20T10:36:40.83",
          "2019-11-20T12:24:54.847",
          "2019-11-21T00:07:58.053",
          "2019-11-21T13:38:42.807",
          "2019-11-21T14:08:12.47",
          "2019-11-21T18:13:29.69",
          "2019-11-22T07:29:58.45",
          "2019-11-22T12:44:01.59",
          "2019-11-23T12:26:35.197",
          "2019-11-26T08:17:12.663",
          "2019-11-27T10:39:18.173",
          "2019-11-27T21:15:11.89",
          "2019-11-28T04:58:07.76",
          "2019-11-29T02:39:25.357",
          "2019-12-02T07:06:03.57",
          "2019-12-02T15:42:44.927",
          "2019-12-02T21:04:51.46",
          "2019-12-03T07:56:40.55",
          "2019-12-03T10:45:44.023",
          "2019-12-03T14:56:05.093",
          "2019-12-03T16:06:57.23",
          "2019-12-04T11:59:55.687",
          "2019-12-05T11:04:33.51",
          "2019-12-05T12:28:17.997",
          "2019-12-09T07:10:55.167",
          "2019-12-09T07:25:39.22",
          "2019-12-09T10:45:09.32",
          "2019-12-09T10:53:03.993",
          "2019-12-09T12:45:56.217",
          "2019-12-10T07:50:29.637",
          "2019-12-10T08:52:36.997",
          "2019-12-10T10:14:02.33",
          "2019-12-10T10:55:22.36",
          "2019-12-10T11:53:33.71",
          "2019-12-10T18:25:49.657",
          "2019-12-11T11:26:46.79",
          "2019-12-11T11:57:54.773",
          "2019-12-12T10:17:39.717",
          "2019-12-12T11:05:43.68",
          "2019-12-13T09:43:03.027",
          "2019-12-17T03:54:27.833",
          "2019-12-17T05:30:55.173",
          "2019-12-17T09:31:11.343",
          "2019-12-17T11:21:51.1",
          "2019-12-17T12:36:10.797",
          "2019-12-17T22:05:31.297",
          "2019-12-18T02:18:53.803",
          "2019-12-18T04:43:33.147",
          "2019-12-18T07:43:12.083",
          "2019-12-18T14:19:48.24",
          "2019-12-20T08:29:43.793",
          "2019-12-20T14:25:22.243",
          "2019-12-21T07:25:05.07",
          "2019-12-21T07:31:20.647",
          "2019-12-24T06:44:49.68",
          "2019-12-24T07:53:51.783",
          "2019-12-26T08:18:44.133",
          "2019-12-26T11:59:21.053",
          "2019-12-27T18:14:34.557",
          "2019-12-28T03:55:55.687",
          "2019-12-30T13:08:12.05",
          "2019-12-30T13:53:51.783",
          "2020-01-02T06:49:33.107",
          "2020-01-02T09:53:02.633",
          "2020-01-02T16:36:17.35",
          "2020-01-03T04:40:24.317",
          "2020-01-03T12:08:04.033",
          "2020-01-03T16:41:12.803",
          "2020-01-05T08:26:52.923",
          "2020-01-06T12:19:26.157",
          "2020-01-06T17:04:29.283",
          "2020-01-06T17:40:07.413",
          "2020-01-07T04:10:45.22",
          "2020-01-07T04:51:00.893",
          "2020-01-07T10:24:06.313",
          "2020-01-07T11:18:19.473",
          "2020-01-07T13:43:06.053",
          "2020-01-07T15:38:23.8",
          "2020-01-07T16:18:56.733",
          "2020-01-08T16:28:49.287",
          "2020-01-09T01:31:01.17",
          "2020-01-09T06:33:51.44",
          "2020-01-09T12:05:38.153",
          "2020-01-10T15:06:17.673",
          "2020-01-10T15:54:12.933",
          "2020-01-11T05:17:09.423",
          "2020-01-13T12:21:50.72",
          "2020-01-13T13:00:29.71",
          "2020-01-14T07:18:24.06",
          "2020-01-14T07:36:27.793",
          "2020-01-14T15:06:33.63",
          "2020-01-15T04:12:20.593",
          "2020-01-15T09:52:42.417",
          "2020-01-15T13:11:10.033",
          "2020-01-15T19:14:38.547",
          "2020-01-16T01:35:18.87",
          "2020-01-16T10:00:09.903",
          "2020-01-16T17:27:43.697",
          "2020-01-16T20:37:57.323",
          "2020-01-18T01:12:31.457",
          "2020-01-18T07:43:39.573",
          "2020-01-20T00:07:25.07",
          "2020-01-20T06:57:25.193",
          "2020-01-20T06:59:28.963",
          "2020-01-20T07:01:58.37",
          "2020-01-20T14:25:20.393",
          "2020-01-20T14:45:16.097",
          "2020-01-20T17:44:58.307",
          "2020-01-22T15:07:27.347",
          "2020-01-22T15:21:03.853",
          "2020-01-23T08:30:02.617",
          "2020-01-23T09:12:43.07",
          "2020-01-24T06:49:45.39",
          "2020-01-24T15:38:37.98",
          "2020-01-25T16:27:33.3",
          "2020-01-27T12:47:35.913",
          "2020-01-27T13:06:07.103",
          "2020-01-27T19:11:17.547",
          "2020-01-29T01:21:00.2",
          "2020-01-29T10:26:02.32",
          "2020-01-30T18:43:33.303",
          "2020-01-31T00:48:04.5",
          "2020-01-31T08:03:58.81",
          "2020-02-01T05:35:29.75",
          "2020-02-02T13:10:27.66",
          "2020-02-02T17:09:13.667",
          "2020-02-03T04:12:16.153",
          "2020-02-03T09:59:10.557",
          "2020-02-03T13:33:12.313",
          "2020-02-04T09:46:39.103",
          "2020-02-04T20:18:44.27",
          "2020-02-05T11:30:08.943",
          "2020-02-05T12:57:51.92",
          "2020-02-05T15:34:55.653",
          "2020-02-07T10:19:14.993",
          "2020-02-10T12:07:23.167",
          "2020-02-10T12:23:06.927",
          "2020-02-10T12:51:43.717",
          "2020-02-10T17:12:39.753",
          "2020-02-11T17:09:02.48",
          "2020-02-11T17:58:49.54",
          "2020-02-12T06:28:17.963",
          "2020-02-12T09:04:32.27",
          "2020-02-12T14:03:31.393",
          "2020-02-12T14:51:42.37",
          "2020-02-12T15:16:51.137",
          "2020-02-12T18:31:25.547",
          "2020-02-13T04:33:31.503",
          "2020-02-13T07:03:33.427",
          "2020-02-14T10:24:51.933",
          "2020-02-14T11:00:46.067",
          "2020-02-17T16:50:09.627",
          "2020-02-18T02:27:54.503",
          "2020-02-18T09:57:28.06",
          "2020-02-18T10:33:31.103",
          "2020-02-18T11:09:26.847",
          "2020-02-20T09:07:37.297",
          "2020-02-20T18:55:20.497",
          "2020-02-21T04:19:57.7",
          "2020-02-21T06:32:06.093",
          "2020-02-21T12:36:02.74",
          "2020-02-21T13:01:12.36",
          "2020-02-21T18:07:34.15",
          "2020-02-23T02:07:04.06",
          "2020-02-24T05:14:04.183",
          "2020-02-24T09:39:05.69",
          "2020-02-24T15:46:47.507",
          "2020-02-25T03:52:03.343",
          "2020-02-26T09:59:17.067",
          "2020-02-26T12:34:35.337",
          "2020-02-26T16:38:14.707",
          "2020-02-27T12:11:29.997",
          "2020-02-28T04:40:42.623",
          "2020-02-28T10:58:22.157",
          "2020-02-28T12:00:12.227",
          "2020-02-28T12:41:38.88",
          "2020-02-29T01:03:40.683",
          "2020-03-01T02:40:06.913",
          "2020-03-01T10:01:48.487",
          "2020-03-01T23:59:56.043",
          "2020-03-02T14:28:29.457",
          "2020-03-03T00:00:27.147",
          "2020-03-03T04:30:14.143",
          "2020-03-03T06:44:29.51",
          "2020-03-03T07:23:34.21",
          "2020-03-04T03:34:45.237",
          "2020-03-04T10:43:21.66",
          "2020-03-04T20:50:43.727",
          "2020-03-05T20:40:47.497",
          "2020-03-06T16:53:23.053",
          "2020-03-07T06:36:24.19",
          "2020-03-08T12:22:18.35",
          "2020-03-08T18:22:20.403",
          "2020-03-09T07:47:26.907",
          "2020-03-10T02:49:49.197",
          "2020-03-10T07:07:09.317",
          "2020-03-10T11:43:30.047",
          "2020-03-10T13:47:55.803",
          "2020-03-11T12:02:24.97",
          "2020-03-12T03:22:56.907",
          "2020-03-12T05:01:18.27",
          "2020-03-12T09:32:11.43",
          "2020-03-12T16:24:51.943",
          "2020-03-13T02:20:48.573",
          "2020-03-13T18:05:09.727",
          "2020-03-16T05:51:59.12",
          "2020-03-16T13:41:01.863",
          "2020-03-17T01:11:48.753",
          "2020-03-17T02:14:25.67",
          "2020-03-17T10:57:57.617",
          "2020-03-17T11:01:28.317",
          "2020-03-17T12:46:10.82",
          "2020-03-17T17:40:54.64",
          "2020-03-18T06:06:20.797",
          "2020-03-19T09:31:32.573",
          "2020-03-20T09:02:42.493",
          "2020-03-20T09:52:08.827",
          "2020-03-22T12:10:06.073",
          "2020-03-22T23:11:53.447",
          "2020-03-23T11:06:50.057",
          "2020-03-23T23:34:21.613",
          "2020-03-24T16:40:36.357",
          "2020-03-25T05:31:26.553",
          "2020-03-25T13:28:17.627",
          "2020-03-25T13:53:46.49",
          "2020-03-27T09:21:56.483",
          "2020-03-28T01:28:47.883",
          "2020-03-30T04:21:56.913",
          "2020-03-30T09:08:24.897",
          "2020-03-30T15:21:41.037",
          "2020-03-30T21:20:56.607",
          "2020-03-31T11:25:34.507",
          "2020-03-31T13:27:36.39",
          "2020-04-01T16:02:10.643",
          "2020-04-02T00:43:12.03",
          "2020-04-03T01:06:02.82",
          "2020-04-07T12:32:04.843",
          "2020-04-07T16:29:10.43",
          "2020-04-08T00:15:17.853",
          "2020-04-08T03:50:11.817",
          "2020-04-08T10:13:33.427",
          "2020-04-08T18:27:22.337",
          "2020-04-09T23:22:33.47",
          "2020-04-10T09:08:10.833",
          "2020-04-10T19:21:56.537",
          "2020-04-13T10:16:13.573",
          "2020-04-13T12:45:52.543",
          "2020-04-13T14:36:36.72",
          "2020-04-14T04:48:03.713",
          "2020-04-14T08:25:03.7",
          "2020-04-14T11:03:59.167",
          "2020-04-15T05:26:43.887",
          "2020-04-16T08:10:59.29",
          "2020-04-16T16:12:38.977",
          "2020-04-16T16:41:02.65",
          "2020-04-16T17:32:12.887",
          "2020-04-17T17:21:10.267",
          "2020-04-17T18:09:09.38",
          "2020-04-17T19:28:32.667",
          "2020-04-20T06:46:13.263",
          "2020-04-20T09:45:40.793",
          "2020-04-21T06:43:58.953",
          "2020-04-22T17:52:12.143",
          "2020-04-23T02:31:29.827",
          "2020-04-23T11:51:48.66",
          "2020-04-23T12:48:56.067",
          "2020-04-23T13:42:27.423",
          "2020-04-23T17:09:27.673",
          "2020-04-23T19:33:37.777",
          "2020-04-24T09:15:41.46",
          "2020-04-24T12:08:53.497",
          "2020-04-24T17:33:44.47",
          "2020-04-27T03:25:15.807",
          "2020-04-27T11:04:11.827",
          "2020-04-27T12:09:32.6",
          "2020-04-28T14:16:24.483",
          "2020-04-28T14:23:25.457",
          "2020-04-28T14:54:09.24",
          "2020-04-28T15:58:10.627",
          "2020-04-29T06:42:53.09",
          "2020-04-29T11:08:12.53",
          "2020-04-30T10:03:05.167",
          "2020-05-01T07:55:41.06",
          "2020-05-01T13:27:08.093",
          "2020-05-01T18:13:11.793",
          "2020-05-03T16:49:31.43",
          "2020-05-05T07:56:04.453",
          "2020-05-05T08:43:05.083",
          "2020-05-05T10:32:52.917",
          "2020-05-05T19:02:17.003",
          "2020-05-06T01:58:51.927",
          "2020-05-06T07:12:28.073",
          "2020-05-06T09:55:41.613",
          "2020-05-06T10:17:41.447",
          "2020-05-06T11:33:27.64",
          "2020-05-07T03:54:23.82",
          "2020-05-07T07:48:02.343",
          "2020-05-07T10:30:47.55",
          "2020-05-07T14:40:24.16",
          "2020-05-07T17:22:42.663",
          "2020-05-07T17:58:50.36",
          "2020-05-08T11:05:30.22",
          "2020-05-08T18:50:29.917",
          "2020-05-10T15:38:34.823",
          "2020-05-10T22:06:56.483",
          "2020-05-11T04:18:33.723",
          "2020-05-11T10:39:05.677",
          "2020-05-11T18:12:14.043",
          "2020-05-12T06:46:53.073",
          "2020-05-12T07:44:49.72",
          "2020-05-12T23:39:37.837",
          "2020-05-13T09:12:49.927",
          "2020-05-13T12:09:34.583",
          "2020-05-13T14:43:08.657",
          "2020-05-13T15:13:24.907",
          "2020-05-14T03:52:10.373",
          "2020-05-14T09:38:15.473",
          "2020-05-14T13:46:07.237",
          "2020-05-14T17:51:27.473",
          "2020-05-19T01:36:19.2",
          "2020-05-19T10:58:19.68",
          "2020-05-19T13:23:05.93",
          "2020-05-19T22:05:27.747",
          "2020-05-19T22:57:51.593",
          "2020-05-19T23:57:36.38",
          "2020-05-20T07:46:08.763",
          "2020-05-21T08:01:48.667",
          "2020-05-21T16:17:26.79",
          "2020-05-22T09:04:36.597",
          "2020-05-22T12:43:12.977",
          "2020-05-22T13:38:46.373",
          "2020-05-24T07:44:59.96",
          "2020-05-25T11:51:41.683",
          "2020-05-25T12:12:56.96",
          "2020-05-26T04:19:19.857",
          "2020-05-26T05:29:41.38",
          "2020-05-27T08:09:30.657",
          "2020-05-27T09:42:57.963",
          "2020-05-27T11:51:09.957",
          "2020-05-27T16:13:12.423",
          "2020-05-28T04:33:45.413",
          "2020-05-28T10:50:38.12",
          "2020-05-28T11:43:06.343",
          "2020-05-28T13:55:04.59",
          "2020-05-28T13:55:17.233",
          "2020-05-28T15:02:38.937",
          "2020-05-28T21:23:28.48",
          "2020-05-31T11:34:13.967",
          "2020-05-31T21:49:48.113",
          "2020-06-01T02:08:55.463",
          "2020-06-01T03:45:36.143",
          "2020-06-01T07:06:15.03",
          "2020-06-01T23:54:24.347",
          "2020-06-02T05:15:07.377",
          "2020-06-02T06:25:02.487",
          "2020-06-03T08:38:37.627",
          "2020-06-04T08:46:29.137",
          "2020-06-04T08:47:30.443",
          "2020-06-05T08:37:45.887",
          "2020-06-08T10:15:40.8",
          "2020-06-08T11:30:52.127",
          "2020-06-10T15:48:56.787",
          "2020-06-11T05:44:23.893",
          "2020-06-11T10:48:33.063",
          "2020-06-11T16:44:25.303",
          "2020-06-12T04:26:21.537",
          "2020-06-13T20:34:20.54",
          "2020-06-15T00:18:26.877",
          "2020-06-15T18:21:18.607",
          "2020-06-17T07:44:27.62",
          "2020-06-17T09:23:08.72",
          "2020-06-17T10:39:43.347",
          "2020-06-17T10:47:18.047",
          "2020-06-17T18:17:42.787",
          "2020-06-17T21:20:44.363",
          "2020-06-18T03:41:34.283",
          "2020-06-18T18:45:45.943",
          "2020-06-19T05:28:43.413",
          "2020-06-19T05:37:59.09",
          "2020-06-19T07:23:48.88",
          "2020-06-19T13:04:31.18",
          "2020-06-19T13:05:50.277",
          "2020-06-20T20:04:07.61",
          "2020-06-21T05:58:52.79",
          "2020-06-22T07:57:18.433",
          "2020-06-22T15:20:53.23",
          "2020-06-22T17:32:37.193",
          "2020-06-25T03:09:04.55",
          "2020-06-26T07:38:55.12",
          "2020-06-29T17:02:31.54",
          "2020-07-01T03:24:12.553",
          "2020-07-01T08:43:32.99",
          "2020-07-02T09:20:12.7",
          "2020-07-02T10:21:06.57",
          "2020-07-02T16:17:26.273",
          "2020-07-06T05:50:50.78",
          "2020-07-06T09:19:59.403",
          "2020-07-08T09:33:24.407",
          "2020-07-08T16:56:19.757",
          "2020-07-09T15:25:26.863",
          "2020-07-09T16:22:26.66",
          "2020-07-09T16:28:26.983",
          "2020-07-10T08:52:51.04",
          "2020-07-10T15:53:37.277",
          "2020-07-10T18:57:48.173",
          "2020-07-11T20:29:03.777",
          "2020-07-13T02:40:11.35",
          "2020-07-14T05:01:01.39",
          "2020-07-15T03:11:16.5",
          "2020-07-15T06:32:14.56",
          "2020-07-15T17:54:55.167",
          "2020-07-16T04:35:29.63",
          "2020-07-16T07:33:35.41",
          "2020-07-16T11:36:35.183",
          "2020-07-16T16:31:52.563",
          "2020-07-17T14:17:43.9",
          "2020-07-20T13:16:24.25",
          "2020-07-20T23:00:15.057",
          "2020-07-21T04:25:05.703",
          "2020-07-21T06:17:01.253",
          "2020-07-21T10:23:05.597",
          "2020-07-21T11:25:17.723",
          "2020-07-21T15:20:11.183",
          "2020-07-22T05:55:52.447",
          "2020-07-22T16:48:52.953",
          "2020-07-22T23:35:16.743",
          "2020-07-23T15:51:45.183",
          "2020-07-23T16:46:00.053",
          "2020-07-24T02:00:04.097",
          "2020-07-24T15:17:29.263",
          "2020-07-27T13:56:35.087",
          "2020-07-28T11:16:57.777",
          "2020-07-28T11:20:26.603",
          "2020-07-28T11:47:30.707",
          "2020-07-29T08:18:11.907",
          "2020-07-29T09:13:44.577",
          "2020-07-29T10:45:28.61",
          "2020-07-30T14:51:34.69",
          "2020-07-30T16:20:18.783",
          "2020-07-31T03:00:29.553",
          "2020-08-01T06:40:03.033",
          "2020-08-02T08:21:09.453",
          "2020-08-03T14:31:32.377",
          "2020-08-03T15:16:16.62",
          "2020-08-05T12:27:19.103",
          "2020-08-05T13:19:23.943",
          "2020-08-06T12:04:03.013",
          "2020-08-06T16:30:31.317",
          "2020-08-07T15:34:48.087",
          "2020-08-10T12:13:23.673",
          "2020-08-11T03:18:56.48",
          "2020-08-11T06:23:35.727",
          "2020-08-11T20:18:22.113",
          "2020-08-12T07:54:44.907",
          "2020-08-13T05:21:38.977",
          "2020-08-13T09:27:35.497",
          "2020-08-13T13:58:17.28",
          "2020-08-13T14:00:56.303",
          "2020-08-13T19:32:19.49",
          "2020-08-14T04:43:10.42",
          "2020-08-14T06:48:55.553",
          "2020-08-14T10:33:47.637",
          "2020-08-14T14:39:35.21",
          "2020-08-17T10:09:37.347",
          "2020-08-17T17:09:22.07",
          "2020-08-18T07:01:56.34",
          "2020-08-18T10:10:32.407",
          "2020-08-19T10:47:49.9",
          "2020-08-19T14:31:13.88",
          "2020-08-20T16:16:04.203",
          "2020-08-20T18:20:03.123",
          "2020-08-21T02:02:10.857",
          "2020-08-21T14:50:21.077",
          "2020-08-21T15:36:03.473",
          "2020-08-24T02:26:12.913",
          "2020-08-24T03:55:16.187",
          "2020-08-24T07:30:08.877",
          "2020-08-24T09:13:29.1",
          "2020-08-25T09:37:23.29",
          "2020-08-25T13:34:40.817",
          "2020-08-26T02:11:50.003",
          "2020-08-26T10:34:15.32",
          "2020-08-26T11:13:50.613",
          "2020-08-27T04:28:56.903",
          "2020-08-27T11:25:26.827",
          "2020-08-27T11:40:36.677",
          "2020-08-27T14:20:01.203",
          "2020-08-27T14:59:03.177",
          "2020-08-28T04:12:14.89",
          "2020-08-28T12:20:32.08",
          "2020-08-31T09:41:46.203",
          "2020-09-01T08:29:04.687",
          "2020-09-01T12:00:23.027",
          "2020-09-02T13:28:25.653",
          "2020-09-03T02:01:33.75",
          "2020-09-03T09:26:58.127",
          "2020-09-03T11:55:40.83",
          "2020-09-03T14:53:10.197",
          "2020-09-03T15:16:17.96",
          "2020-09-04T02:35:33.15",
          "2020-09-04T08:34:40.003",
          "2020-09-07T03:14:01.783",
          "2020-09-08T03:24:11.603",
          "2020-09-08T05:00:37.097",
          "2020-09-08T05:40:25.34",
          "2020-09-08T10:35:57.717",
          "2020-09-08T12:13:05.57",
          "2020-09-08T14:17:04.713",
          "2020-09-09T04:14:26.247",
          "2020-09-09T07:05:09.473",
          "2020-09-09T14:46:03.91",
          "2020-09-09T15:33:09.883",
          "2020-09-09T19:09:12.01",
          "2020-09-10T06:00:56.927",
          "2020-09-10T06:34:35.72",
          "2020-09-10T12:15:08.11",
          "2020-09-10T16:25:03.4",
          "2020-09-11T11:54:43.767",
          "2020-09-11T14:32:09.763",
          "2020-09-11T17:57:16.44",
          "2020-09-13T05:09:37.187",
          "2020-09-13T12:40:21.163",
          "2020-09-14T08:48:44.357",
          "2020-09-15T08:11:30.217",
          "2020-09-15T11:40:17.6",
          "2020-09-15T19:54:20.857",
          "2020-09-16T06:13:11.593",
          "2020-09-16T08:15:45.44",
          "2020-09-16T09:57:44.517",
          "2020-09-16T12:02:57.383",
          "2020-09-16T14:20:14.03",
          "2020-09-16T16:01:59.473",
          "2020-09-16T16:33:38.75",
          "2020-09-16T16:52:38.42",
          "2020-09-17T11:41:44.053",
          "2020-09-17T14:55:23.447",
          "2020-09-17T16:37:00.077",
          "2020-09-18T07:33:41.723",
          "2020-09-18T10:46:34.367",
          "2020-09-20T12:16:21.403",
          "2020-09-21T09:58:43.167",
          "2020-09-21T16:37:39.7",
          "2020-09-21T16:47:19.263",
          "2020-09-22T00:02:42.337",
          "2020-09-22T03:04:06.773",
          "2020-09-22T06:17:08.973",
          "2020-09-22T12:21:03.637",
          "2020-09-22T12:56:21.417",
          "2020-09-23T07:34:25.193",
          "2020-09-23T12:45:54.313",
          "2020-09-23T14:50:02.017",
          "2020-09-23T14:50:53.77",
          "2020-09-23T14:51:39.347",
          "2020-09-23T15:15:00.187",
          "2020-09-24T13:12:57.107",
          "2020-09-24T19:12:48.583",
          "2020-09-25T06:21:34.47",
          "2020-09-25T15:10:56.223",
          "2020-09-25T21:10:47.287",
          "2020-09-27T00:39:00.507",
          "2020-09-27T03:01:48.877",
          "2020-09-28T07:28:53.443",
          "2020-09-28T13:41:47.603",
          "2020-09-29T10:42:52.203",
          "2020-09-29T10:58:24.237",
          "2020-09-29T11:43:39.463",
          "2020-09-29T18:14:05.84",
          "2020-09-29T18:29:04.81",
          "2020-09-30T11:28:12.57",
          "2020-10-01T04:05:51.267",
          "2020-10-01T15:18:19.523",
          "2020-10-02T09:26:32.68",
          "2020-10-04T06:57:42.663",
          "2020-10-05T01:11:31.057",
          "2020-10-05T22:58:21.4",
          "2020-10-06T10:36:52.983",
          "2020-10-06T12:46:04.483",
          "2020-10-07T04:36:43.39",
          "2020-10-07T04:49:35.287",
          "2020-10-07T06:19:26.927",
          "2020-10-07T16:31:35.887",
          "2020-10-07T16:43:08.117",
          "2020-10-08T07:26:39.637",
          "2020-10-08T08:52:50.623",
          "2020-10-08T16:26:59.76",
          "2020-10-09T02:01:00.407",
          "2020-10-09T19:17:29.443",
          "2020-10-12T09:03:36.163",
          "2020-10-12T20:34:39.057",
          "2020-10-13T13:02:42.213",
          "2020-10-13T18:32:15.773",
          "2020-10-14T06:43:01.837",
          "2020-10-14T09:31:09.873",
          "2020-10-14T13:41:44.907",
          "2020-10-14T13:52:09.94",
          "2020-10-15T06:57:57.13",
          "2020-10-15T14:35:43.96",
          "2020-10-16T10:01:41.817",
          "2020-10-16T12:33:29.753",
          "2020-10-16T13:34:13.343",
          "2020-10-16T18:36:31.273",
          "2020-10-17T11:21:17.997",
          "2020-10-17T21:00:48.037",
          "2020-10-19T15:39:33.853",
          "2020-10-19T22:07:22.383",
          "2020-10-19T22:07:38.62",
          "2020-10-20T03:00:27.94",
          "2020-10-20T16:35:09.947",
          "2020-10-21T04:53:38.967",
          "2020-10-21T06:22:02.867",
          "2020-10-21T09:30:56.74",
          "2020-10-21T10:44:23.66",
          "2020-10-21T12:58:42.72",
          "2020-10-21T13:33:08.743",
          "2020-10-21T14:06:01.427",
          "2020-10-22T13:47:42.993",
          "2020-10-22T14:31:26.257",
          "2020-10-22T17:17:54.993",
          "2020-10-22T17:19:54.477",
          "2020-10-23T07:50:08.56",
          "2020-10-23T12:09:06.92",
          "2020-10-23T16:06:11.243",
          "2020-10-24T16:03:56.137",
          "2020-10-25T08:22:12.38",
          "2020-10-25T16:01:58.43",
          "2020-10-26T05:46:15.347",
          "2020-10-27T16:57:39.52",
          "2020-10-28T05:57:09.547",
          "2020-10-28T13:28:28.833",
          "2020-10-28T15:58:04.637",
          "2020-10-29T01:39:26.437",
          "2020-10-29T02:25:33.677",
          "2020-10-29T11:10:06.717",
          "2020-10-29T14:45:52.203",
          "2020-10-30T15:24:32.273",
          "2020-11-02T09:41:44.807",
          "2020-11-02T16:14:49.56",
          "2020-11-03T09:15:35.397",
          "2020-11-03T14:16:21.633",
          "2020-11-04T08:18:34.06",
          "2020-11-05T12:22:50.65",
          "2020-11-05T13:57:09.393",
          "2020-11-06T03:12:33.02",
          "2020-11-07T02:30:08.94",
          "2020-11-08T12:42:54.723",
          "2020-11-08T12:48:07.61",
          "2020-11-09T08:23:02.983",
          "2020-11-09T10:51:40.613",
          "2020-11-11T05:50:59.56",
          "2020-11-11T06:00:38.383",
          "2020-11-11T09:58:05.707",
          "2020-11-11T11:27:29.283",
          "2020-11-11T15:13:05.847",
          "2020-11-11T16:53:07.01",
          "2020-11-12T05:28:55.913",
          "2020-11-12T14:47:17.27",
          "2020-11-12T18:39:57.223",
          "2020-11-13T03:08:25.797",
          "2020-11-13T18:33:05.46",
          "2020-11-14T14:04:27.383",
          "2020-11-16T02:39:45.893",
          "2020-11-16T11:23:16.327",
          "2020-11-16T11:25:19.08",
          "2020-11-18T06:54:44.173",
          "2020-11-18T11:32:37.993",
          "2020-11-18T11:41:37.49",
          "2020-11-18T12:30:24.143",
          "2020-11-18T12:37:55.147",
          "2020-11-18T19:18:53.403",
          "2020-11-19T09:30:41.29",
          "2020-11-19T12:44:09.52",
          "2020-11-19T16:56:39.44",
          "2020-11-20T10:05:42.53",
          "2020-11-20T14:00:44.387",
          "2020-11-20T16:00:00.39",
          "2020-11-21T05:08:51.133",
          "2020-11-22T23:21:07.067",
          "2020-11-23T01:58:09.64",
          "2020-11-24T10:58:17.443",
          "2020-11-24T15:09:06.143",
          "2020-11-24T16:02:26.117",
          "2020-11-24T20:48:57.933",
          "2020-11-25T11:17:47.587",
          "2020-11-25T11:59:22.583",
          "2020-11-25T12:40:55.58",
          "2020-11-25T13:13:05.463",
          "2020-11-25T14:28:28.507",
          "2020-11-25T15:43:04.867",
          "2020-11-26T11:43:14.277",
          "2020-11-30T16:32:19.377",
          "2020-12-02T09:26:16.583",
          "2020-12-02T15:54:46.727",
          "2020-12-03T15:45:18.923",
          "2020-12-04T18:13:27.287",
          "2020-12-06T07:13:50.297",
          "2020-12-06T08:25:07.433",
          "2020-12-06T22:33:26.473",
          "2020-12-08T06:45:13.323",
          "2020-12-08T11:32:56.12",
          "2020-12-08T12:43:05.35",
          "2020-12-08T12:43:52.023",
          "2020-12-08T15:13:24.93",
          "2020-12-09T10:04:40.567",
          "2020-12-10T03:32:44.07",
          "2020-12-10T16:03:19.67",
          "2020-12-10T16:45:56.92",
          "2020-12-11T09:05:13.287",
          "2020-12-15T11:43:28.143",
          "2020-12-15T13:24:34.04",
          "2020-12-16T05:04:16.433",
          "2020-12-16T11:24:45.933",
          "2020-12-16T13:34:06.637",
          "2020-12-16T16:31:08.12",
          "2020-12-16T21:46:56.413",
          "2020-12-18T03:06:14.177",
          "2020-12-18T11:11:07.787",
          "2020-12-21T08:30:12.503",
          "2020-12-21T17:49:39.223",
          "2020-12-22T04:59:41.42",
          "2020-12-22T05:06:26.697",
          "2020-12-23T09:59:10.2",
          "2020-12-23T10:59:14.423",
          "2020-12-24T00:03:53.283",
          "2020-12-26T15:56:58.257",
          "2020-12-27T01:57:08.607",
          "2020-12-27T11:57:47.007",
          "2020-12-27T14:12:00.18",
          "2020-12-28T02:51:24.99",
          "2020-12-28T10:34:01.52",
          "2020-12-28T11:57:21.447",
          "2020-12-28T15:09:46.85",
          "2020-12-29T08:45:35.597",
          "2020-12-29T11:55:09.773",
          "2020-12-29T15:13:04.71",
          "2020-12-29T17:22:22.603",
          "2020-12-30T10:05:14.57",
          "2020-12-31T18:03:21.66",
          "2021-01-01T07:00:15.443",
          "2021-01-03T22:55:07.463",
          "2021-01-04T07:41:29.507",
          "2021-01-04T07:48:38.72",
          "2021-01-04T08:49:11.093",
          "2021-01-04T12:26:12.183",
          "2021-01-05T09:54:38.063",
          "2021-01-05T10:07:21.227",
          "2021-01-05T20:16:38.75",
          "2021-01-06T12:25:16.487",
          "2021-01-06T14:50:39.423",
          "2021-01-07T00:43:54.317",
          "2021-01-08T03:57:53.35",
          "2021-01-09T23:27:17.513",
          "2021-01-11T05:30:23.477",
          "2021-01-11T16:25:58.88",
          "2021-01-11T22:44:21.93",
          "2021-01-12T06:59:45.843",
          "2021-01-12T07:40:27.073",
          "2021-01-12T08:16:59.57",
          "2021-01-12T09:52:23.923",
          "2021-01-12T23:48:05.1",
          "2021-01-14T13:55:54.143",
          "2021-01-15T06:20:18.943",
          "2021-01-15T11:36:31.313",
          "2021-01-16T04:10:22.447",
          "2021-01-16T07:56:33.363",
          "2021-01-16T19:32:13.78",
          "2021-01-18T00:23:54.957",
          "2021-01-18T05:59:41.04",
          "2021-01-19T13:53:44.657",
          "2021-01-19T14:58:12.793",
          "2021-01-20T07:11:18.693",
          "2021-01-20T07:58:12.823",
          "2021-01-20T15:38:36.633",
          "2021-01-20T16:13:02.5",
          "2021-01-21T09:00:33.853",
          "2021-01-21T17:46:44.013",
          "2021-01-22T13:54:36.95",
          "2021-01-22T15:20:52.107",
          "2021-01-23T00:52:07.6",
          "2021-01-25T03:57:52.733",
          "2021-01-25T10:05:26.427",
          "2021-01-25T12:51:33.14",
          "2021-01-25T17:07:17.423",
          "2021-01-27T01:26:58.78",
          "2021-01-27T09:22:55.277",
          "2021-01-27T09:22:55.547",
          "2021-01-27T09:28:32.857",
          "2021-01-27T13:06:46.71",
          "2021-01-28T11:33:34.887",
          "2021-01-29T05:09:45.457",
          "2021-01-29T09:32:23.31",
          "2021-01-30T02:44:24.313",
          "2021-02-01T14:35:54.11",
          "2021-02-02T02:54:29.54",
          "2021-02-02T09:15:33.837",
          "2021-02-03T04:07:38.773",
          "2021-02-03T06:28:55.87",
          "2021-02-03T14:28:38.48",
          "2021-02-04T18:52:41.68",
          "2021-02-05T01:44:05.203",
          "2021-02-05T09:38:55.053",
          "2021-02-07T01:35:51.77",
          "2021-02-07T03:45:35.85",
          "2021-02-07T22:47:17.563",
          "2021-02-08T04:21:46.14",
          "2021-02-08T14:35:14.027",
          "2021-02-08T20:23:34.343",
          "2021-02-09T05:36:55.147",
          "2021-02-09T07:28:04.943",
          "2021-02-10T06:07:45.91",
          "2021-02-10T11:48:40.4",
          "2021-02-10T13:30:52.19",
          "2021-02-10T17:28:34.27",
          "2021-02-11T16:40:26.987",
          "2021-02-11T21:31:20.58",
          "2021-02-12T05:54:48.23",
          "2021-02-12T09:56:04.773",
          "2021-02-12T15:06:05.92",
          "2021-02-12T15:07:52.33",
          "2021-02-13T02:53:30.073",
          "2021-02-14T04:45:31.08",
          "2021-02-14T15:10:09.8",
          "2021-02-15T21:50:52.64",
          "2021-02-16T06:32:23.97",
          "2021-02-16T09:44:47.337",
          "2021-02-16T14:37:14.58",
          "2021-02-17T00:44:34.993",
          "2021-02-17T01:00:17.45",
          "2021-02-17T01:25:49.423",
          "2021-02-17T17:57:59.497",
          "2021-02-18T04:41:42.563",
          "2021-02-19T11:17:25.39",
          "2021-02-22T01:18:39.76",
          "2021-02-22T10:22:26.3",
          "2021-02-23T05:30:07.697",
          "2021-02-23T08:25:50.447",
          "2021-02-23T15:53:46.57",
          "2021-02-24T07:45:06.977",
          "2021-02-24T12:36:00.77",
          "2021-02-25T08:53:44.637",
          "2021-02-25T10:29:48.393",
          "2021-02-25T16:43:06.273",
          "2021-02-26T09:23:09.993",
          "2021-02-26T11:57:02.543",
          "2021-02-26T18:47:43.037",
          "2021-02-27T07:31:29.457",
          "2021-02-27T11:08:57.667",
          "2021-03-01T09:13:33.787",
          "2021-03-01T19:39:59.55",
          "2021-03-02T09:23:36.847",
          "2021-03-02T11:18:39.363",
          "2021-03-02T16:31:12.837",
          "2021-03-03T03:05:35.877",
          "2021-03-03T05:13:37.897",
          "2021-03-03T06:44:32.35",
          "2021-03-03T08:54:25",
          "2021-03-03T09:20:39.307",
          "2021-03-03T16:19:15.397",
          "2021-03-04T02:36:22.257",
          "2021-03-04T11:01:28.96",
          "2021-03-05T08:22:11.3",
          "2021-03-06T06:54:56.57",
          "2021-03-09T07:01:54.71",
          "2021-03-09T11:05:19.053",
          "2021-03-09T11:09:19.763",
          "2021-03-09T14:55:21.58",
          "2021-03-09T17:00:23.213",
          "2021-03-10T04:36:07.837",
          "2021-03-10T15:24:21.857",
          "2021-03-10T16:00:02.613",
          "2021-03-11T04:20:04.103",
          "2021-03-11T09:00:30.913",
          "2021-03-11T17:30:43.753",
          "2021-03-12T02:34:21.683",
          "2021-03-12T03:28:33.083",
          "2021-03-12T11:48:47.203",
          "2021-03-13T10:25:21.143",
          "2021-03-14T17:29:30.287",
          "2021-03-15T10:13:43.667",
          "2021-03-15T10:53:54.233",
          "2021-03-16T07:06:57.6",
          "2021-03-16T15:19:27.047",
          "2021-03-17T17:02:54.86",
          "2021-03-18T02:51:39.69",
          "2021-03-18T13:51:25.81",
          "2021-03-19T07:21:13.43",
          "2021-03-19T11:31:47.557",
          "2021-03-20T01:34:53.61",
          "2021-03-22T03:47:12.6",
          "2021-03-23T12:14:18.863",
          "2021-03-24T09:04:13.813",
          "2021-03-24T12:58:46.5",
          "2021-03-25T03:17:53.38",
          "2021-03-25T14:46:51.637",
          "2021-03-25T16:39:59.577",
          "2021-03-26T14:27:14.173",
          "2021-03-30T12:29:47.413",
          "2021-03-30T12:53:22.887",
          "2021-03-31T05:04:42.15",
          "2021-03-31T06:38:42.34",
          "2021-04-01T08:14:49.057",
          "2021-04-06T19:28:50.28",
          "2021-04-07T14:44:07.22",
          "2021-04-08T17:31:25.08",
          "2021-04-09T14:10:26.533",
          "2021-04-09T18:43:03.997",
          "2021-04-10T02:53:00.28",
          "2021-04-10T03:29:32.747",
          "2021-04-10T15:57:59.943",
          "2021-04-12T10:52:25.73",
          "2021-04-12T12:12:10.283",
          "2021-04-12T15:13:07.097",
          "2021-04-14T03:27:41.803",
          "2021-04-15T08:57:58.05",
          "2021-04-15T12:20:03.933",
          "2021-04-19T09:41:09.173",
          "2021-04-20T07:00:28.707",
          "2021-04-20T11:43:36.217",
          "2021-04-20T15:43:56.607",
          "2021-04-21T11:38:15.18",
          "2021-04-22T04:29:17.66",
          "2021-04-22T04:48:51.64",
          "2021-04-22T06:55:40.56",
          "2021-04-22T07:32:19.79",
          "2021-04-22T16:37:41.357",
          "2021-04-22T16:43:27",
          "2021-04-23T00:03:22.743",
          "2021-04-23T09:14:59.607",
          "2021-04-23T11:09:05.35",
          "2021-04-27T07:40:14.087",
          "2021-04-27T10:25:08.213",
          "2021-04-27T13:53:38.607",
          "2021-04-27T14:05:34.707",
          "2021-04-27T16:17:23.083",
          "2021-04-27T16:38:41.177",
          "2021-04-28T06:07:57.33",
          "2021-04-28T11:44:20.84",
          "2021-04-28T14:08:31.08",
          "2021-04-28T14:15:54.817",
          "2021-04-29T02:16:11.49",
          "2021-04-30T07:03:44.607",
          "2021-04-30T08:43:37.07",
          "2021-04-30T15:41:33.667",
          "2021-05-04T03:26:26.993",
          "2021-05-04T09:31:18.373",
          "2021-05-05T10:48:30.583",
          "2021-05-05T14:59:26.737",
          "2021-05-06T04:52:27.5",
          "2021-05-06T05:44:31.317",
          "2021-05-06T06:08:48.817",
          "2021-05-06T10:55:46.883",
          "2021-05-06T14:47:18.237",
          "2021-05-06T15:36:56.423",
          "2021-05-06T19:21:40.677",
          "2021-05-07T11:58:25.423",
          "2021-05-07T12:44:00.26",
          "2021-05-10T14:33:41.143",
          "2021-05-11T11:11:22.967",
          "2021-05-11T14:33:52.803",
          "2021-05-11T16:15:01.67",
          "2021-05-12T19:29:45.887",
          "2021-05-14T08:27:02.38",
          "2021-05-14T10:04:28.7",
          "2021-05-17T00:14:13.58",
          "2021-05-17T05:24:41.617",
          "2021-05-17T10:22:56.957",
          "2021-05-17T10:44:03.017",
          "2021-05-17T12:12:39.573",
          "2021-05-17T12:41:24.27",
          "2021-05-18T00:14:22.057",
          "2021-05-19T09:46:33.497",
          "2021-05-20T08:11:58.513",
          "2021-05-21T02:17:15.373",
          "2021-05-23T15:49:03.797",
          "2021-05-24T03:14:14.447",
          "2021-05-24T05:55:56.8",
          "2021-05-24T14:55:23.877",
          "2021-05-25T10:09:32.81",
          "2021-05-25T16:41:37.953",
          "2021-05-25T23:18:10.647",
          "2021-05-25T23:21:55.333",
          "2021-05-26T05:39:30.67",
          "2021-05-27T07:12:50.66",
          "2021-05-28T11:21:25.033",
          "2021-05-28T13:33:13.153",
          "2021-05-29T21:45:02.2",
          "2021-05-30T01:41:31.68",
          "2021-05-30T08:11:59.69",
          "2021-06-02T07:44:14.63",
          "2021-06-02T12:18:46.267",
          "2021-06-02T13:14:26.307",
          "2021-06-02T13:40:25.58",
          "2021-06-02T13:53:43.85",
          "2021-06-02T15:54:57.997",
          "2021-06-02T16:37:04.77",
          "2021-06-03T02:17:04.61",
          "2021-06-03T04:46:03.063",
          "2021-06-03T04:52:06.57",
          "2021-06-03T09:19:09.593",
          "2021-06-03T19:44:17.527",
          "2021-06-04T05:25:16.927",
          "2021-06-04T10:11:48.013",
          "2021-06-04T19:14:13.09",
          "2021-06-08T04:53:56.6",
          "2021-06-08T10:57:39.363"
         ],
         "xaxis": "x",
         "y": [
          0.063,
          0.022,
          0,
          0.041,
          0,
          0.046,
          0,
          0,
          0,
          0.081,
          0.05,
          0.102,
          0.025,
          0,
          0.037,
          0,
          0.077,
          0.09,
          0,
          0,
          0.069,
          0.121,
          0.067,
          0.034,
          0.079,
          0,
          0,
          0.062,
          0,
          0.089,
          0.055,
          0,
          0.11,
          0,
          0.118,
          0,
          0.145,
          0,
          0,
          0.035,
          0,
          0.062,
          0,
          0.129,
          0,
          0.038,
          0.249,
          0,
          0.1,
          0.032,
          0.102,
          0,
          0,
          0,
          0.131,
          0,
          0,
          0.073,
          0.122,
          0,
          0.02,
          0,
          0,
          0,
          0,
          0,
          0.057,
          0,
          0,
          0,
          0.029,
          0.065,
          0.079,
          0.035,
          0,
          0,
          0,
          0.043,
          0.067,
          0,
          0,
          0.146,
          0.036,
          0,
          0.011,
          0,
          0.024,
          0,
          0,
          0.041,
          0.073,
          0,
          0,
          0,
          0.047,
          0.166,
          0.049,
          0.033,
          0,
          0,
          0,
          0.14,
          0.158,
          0,
          0,
          0.022,
          0.021,
          0.037,
          0,
          0.088,
          0,
          0.08,
          0.046,
          0,
          0.092,
          0,
          0,
          0,
          0,
          0.059,
          0,
          0,
          0.048,
          0,
          0.023,
          0,
          0,
          0,
          0.074,
          0.102,
          0.06,
          0,
          0.1,
          0,
          0.074,
          0.03,
          0.153,
          0,
          0.047,
          0.036,
          0,
          0.018,
          0,
          0.116,
          0.034,
          0,
          0,
          0.167,
          0.046,
          0.028,
          0.171,
          0,
          0,
          0.072,
          0.052,
          0.039,
          0,
          0,
          0,
          0.057,
          0,
          0.05,
          0,
          0.031,
          0.058,
          0.171,
          0.007,
          0,
          0.056,
          0.011,
          0.146,
          0,
          0.043,
          0,
          0.044,
          0,
          0.03,
          0.046,
          0,
          0,
          0,
          0,
          0.028,
          0.013,
          0.029,
          0,
          0,
          0.073,
          0.05,
          0.077,
          0.022,
          0.052,
          0.025,
          0,
          0.104,
          0,
          0.028,
          0,
          0,
          0,
          0,
          0.041,
          0.046,
          0.077,
          0,
          0,
          0,
          0.09,
          0.07,
          0.067,
          0.124,
          0.047,
          0,
          0.129,
          0.074,
          0,
          0,
          0,
          0,
          0.021,
          0,
          0.061,
          0,
          0.047,
          0.091,
          0,
          0.051,
          0.077,
          0.071,
          0.033,
          0,
          0.194,
          0.043,
          0.014,
          0,
          0,
          0,
          0.028,
          0,
          0.048,
          0.093,
          0.022,
          0.017,
          0.026,
          0,
          0,
          0.053,
          0.085,
          0.055,
          0,
          0,
          0.231,
          0,
          0,
          0,
          0.087,
          0,
          0,
          0,
          0,
          0.022,
          0.03,
          0,
          0,
          0,
          0,
          0.062,
          0,
          0,
          0.19,
          0.058,
          0,
          0,
          0,
          0.049,
          0,
          0,
          0,
          0.131,
          0,
          0,
          0.102,
          0.069,
          0.042,
          0.031,
          0.103,
          0.005,
          0,
          0.027,
          0,
          0.154,
          0.057,
          0,
          0.106,
          0.027,
          0.119,
          0,
          0,
          0,
          0.049,
          0,
          0,
          0.053,
          0.069,
          0,
          0.115,
          0,
          0,
          0.051,
          0.227,
          0,
          0,
          0.17,
          0,
          0,
          0.034,
          0.089,
          0,
          0.022,
          0,
          0.048,
          0.076,
          0.038,
          0.023,
          0.103,
          0,
          0,
          0.015,
          0.022,
          0,
          0.099,
          0,
          0.172,
          0.083,
          0.073,
          0.121,
          0.023,
          0.123,
          0.039,
          0,
          0.059,
          0,
          0,
          0,
          0.021,
          0.07,
          0,
          0,
          0,
          0.162,
          0,
          0,
          0,
          0,
          0,
          0,
          0.154,
          0,
          0,
          0,
          0,
          0,
          0.035,
          0.016,
          0.013,
          0.022,
          0.017,
          0,
          0,
          0,
          0.062,
          0,
          0,
          0.048,
          0,
          0.127,
          0,
          0.117,
          0.02,
          0.083,
          0,
          0,
          0.049,
          0,
          0,
          0,
          0.043,
          0,
          0,
          0,
          0.048,
          0.096,
          0,
          0.186,
          0,
          0.043,
          0,
          0.078,
          0,
          0.084,
          0.12,
          0,
          0.068,
          0,
          0.212,
          0,
          0.078,
          0.155,
          0.015,
          0,
          0.042,
          0.058,
          0,
          0.213,
          0.071,
          0.076,
          0.042,
          0.056,
          0,
          0,
          0.037,
          0,
          0.052,
          0.017,
          0,
          0,
          0.046,
          0.043,
          0.154,
          0.1,
          0.166,
          0.098,
          0.091,
          0,
          0.067,
          0.098,
          0.072,
          0,
          0,
          0,
          0,
          0.164,
          0.062,
          0.059,
          0,
          0.031,
          0,
          0.113,
          0,
          0,
          0.087,
          0,
          0.115,
          0,
          0.118,
          0.035,
          0,
          0,
          0,
          0,
          0.1,
          0.019,
          0,
          0,
          0,
          0,
          0,
          0.031,
          0.062,
          0,
          0.073,
          0.188,
          0,
          0,
          0,
          0.016,
          0,
          0.048,
          0.087,
          0,
          0.052,
          0,
          0.029,
          0,
          0.062,
          0,
          0,
          0.072,
          0.118,
          0,
          0.092,
          0.02,
          0,
          0,
          0.1,
          0.085,
          0,
          0.164,
          0.024,
          0,
          0.237,
          0.069,
          0,
          0.052,
          0.033,
          0,
          0,
          0.033,
          0,
          0.049,
          0.022,
          0.048,
          0,
          0.05,
          0.013,
          0,
          0,
          0,
          0,
          0,
          0.065,
          0.224,
          0.06,
          0.098,
          0,
          0,
          0,
          0.02,
          0.04,
          0.132,
          0,
          0,
          0.048,
          0,
          0.137,
          0.018,
          0.07,
          0.023,
          0.056,
          0,
          0,
          0.04,
          0.095,
          0,
          0.05,
          0.136,
          0.181,
          0,
          0.211,
          0,
          0,
          0,
          0.049,
          0.038,
          0.087,
          0,
          0,
          0.071,
          0.027,
          0,
          0.084,
          0,
          0.091,
          0,
          0.03,
          0,
          0,
          0,
          0.053,
          0.025,
          0.065,
          0,
          0,
          0,
          0,
          0.078,
          0,
          0.012,
          0,
          0.065,
          0,
          0,
          0.089,
          0.029,
          0,
          0,
          0,
          0.06,
          0,
          0,
          0.141,
          0.06,
          0,
          0.047,
          0.026,
          0.065,
          0.089,
          0,
          0.123,
          0,
          0.09,
          0.066,
          0.089,
          0,
          0,
          0,
          0.009,
          0.037,
          0,
          0,
          0,
          0,
          0,
          0,
          0,
          0,
          0.041,
          0.069,
          0,
          0,
          0,
          0,
          0.026,
          0,
          0,
          0,
          0.062,
          0,
          0,
          0.026,
          0.236,
          0.062,
          0,
          0,
          0,
          0.059,
          0.129,
          0,
          0,
          0.028,
          0,
          0.121,
          0,
          0.017,
          0,
          0,
          0,
          0,
          0,
          0,
          0.103,
          0,
          0.065,
          0,
          0.047,
          0.08,
          0.169,
          0,
          0.046,
          0.041,
          0.156,
          0.081,
          0.011,
          0,
          0.03,
          0,
          0.079,
          0,
          0.132,
          0.05,
          0.046,
          0.055,
          0.071,
          0,
          0.067,
          0,
          0.034,
          0,
          0,
          0.087,
          0,
          0,
          0.045,
          0.118,
          0.1,
          0.029,
          0,
          0.074,
          0,
          0.07,
          0,
          0,
          0.044,
          0.004,
          0.182,
          0.086,
          0.092,
          0,
          0,
          0,
          0,
          0.021,
          0,
          0,
          0,
          0.034,
          0.007,
          0.036,
          0,
          0.205,
          0.205,
          0.06,
          0.1,
          0,
          0,
          0,
          0.032,
          0,
          0.026,
          0,
          0,
          0,
          0,
          0,
          0.048,
          0,
          0,
          0.025,
          0.148,
          0.082,
          0.009,
          0.145,
          0.048,
          0.091,
          0,
          0.005,
          0,
          0.023,
          0.111,
          0.015,
          0.075,
          0,
          0,
          0.028,
          0,
          0.074,
          0,
          0.07,
          0.058,
          0,
          0.039,
          0,
          0,
          0.07,
          0.072,
          0.017,
          0,
          0,
          0.031,
          0,
          0.116,
          0,
          0.071,
          0.026,
          0.108,
          0,
          0.016,
          0.136,
          0,
          0,
          0.236,
          0,
          0.045,
          0.086,
          0.133,
          0.041,
          0.156,
          0.013,
          0,
          0.116,
          0.025,
          0.1,
          0.022,
          0,
          0,
          0.054,
          0.115,
          0,
          0.055,
          0.042,
          0.163,
          0.051,
          0.103,
          0,
          0.074,
          0,
          0,
          0.044,
          0.148,
          0.014,
          0.276,
          0,
          0.053,
          0.037,
          0,
          0,
          0.112,
          0,
          0,
          0.102,
          0,
          0,
          0.109,
          0.13,
          0,
          0.231,
          0,
          0.082,
          0.035,
          0,
          0,
          0.045,
          0,
          0.08,
          0,
          0,
          0.023,
          0,
          0,
          0,
          0.044,
          0.029,
          0.125,
          0,
          0.035,
          0,
          0.04,
          0,
          0.091,
          0.086,
          0.143,
          0,
          0.246,
          0.019,
          0,
          0.129,
          0.04,
          0.053,
          0,
          0.015,
          0,
          0.054,
          0.19,
          0,
          0.021,
          0.05,
          0,
          0,
          0,
          0.074,
          0.014,
          0,
          0,
          0,
          0.111,
          0,
          0,
          0,
          0.037,
          0,
          0.059,
          0,
          0.171,
          0,
          0.03,
          0.048,
          0.064,
          0.141,
          0.064,
          0,
          0,
          0.175,
          0.066,
          0.091,
          0,
          0.027,
          0.114,
          0,
          0.079,
          0.079,
          0.17,
          0.052,
          0.065,
          0.039,
          0.098,
          0.018,
          0.06,
          0.046,
          0,
          0,
          0.031,
          0,
          0.047,
          0,
          0.068,
          0,
          0.15,
          0.104,
          0.055,
          0,
          0,
          0.022,
          0,
          0,
          0.026,
          0,
          0.027,
          0,
          0,
          0.105,
          0.015,
          0.056,
          0.057,
          0,
          0.12,
          0,
          0.095,
          0,
          0,
          0.026,
          0.023,
          0,
          0.013,
          0.133,
          0,
          0.053,
          0,
          0.092,
          0.16,
          0,
          0.117,
          0,
          0.074,
          0,
          0.048,
          0,
          0,
          0.415,
          0,
          0.013,
          0.026,
          0,
          0.036,
          0,
          0.046,
          0.067,
          0,
          0,
          0,
          0,
          0,
          0.016,
          0.037,
          0.019,
          0,
          0,
          0,
          0.213,
          0,
          0.065,
          0,
          0.227,
          0.037,
          0.075,
          0,
          0,
          0,
          0,
          0.049,
          0.036,
          0,
          0,
          0,
          0.109,
          0.018,
          0.053,
          0.095,
          0,
          0.231,
          0.147,
          0.041,
          0,
          0.092,
          0.06,
          0.032,
          0.056,
          0,
          0,
          0.147,
          0,
          0,
          0.024,
          0,
          0.06,
          0.093,
          0,
          0.107,
          0.127,
          0,
          0.033,
          0.036,
          0.063,
          0,
          0,
          0,
          0,
          0,
          0.15,
          0.049,
          0.152,
          0.127,
          0,
          0.031,
          0.036,
          0.025,
          0,
          0,
          0,
          0.025,
          0.045,
          0.15,
          0.068,
          0,
          0.045,
          0.026,
          0,
          0,
          0,
          0.047,
          0.061,
          0.131,
          0,
          0.093,
          0.016,
          0.072,
          0,
          0.067,
          0.16,
          0.086,
          0.135,
          0.258,
          0.097,
          0,
          0.067,
          0.103,
          0,
          0,
          0.051,
          0.046,
          0.022,
          0,
          0,
          0,
          0.063,
          0.068,
          0.04,
          0.028,
          0,
          0,
          0,
          0,
          0.043,
          0.025,
          0,
          0,
          0,
          0,
          0.21,
          0.039,
          0,
          0,
          0,
          0,
          0.089,
          0,
          0
         ],
         "yaxis": "y"
        }
       ],
       "layout": {
        "legend": {
         "tracegroupgap": 0
        },
        "margin": {
         "t": 60
        },
        "template": {
         "data": {
          "bar": [
           {
            "error_x": {
             "color": "#2a3f5f"
            },
            "error_y": {
             "color": "#2a3f5f"
            },
            "marker": {
             "line": {
              "color": "#E5ECF6",
              "width": 0.5
             }
            },
            "type": "bar"
           }
          ],
          "barpolar": [
           {
            "marker": {
             "line": {
              "color": "#E5ECF6",
              "width": 0.5
             }
            },
            "type": "barpolar"
           }
          ],
          "carpet": [
           {
            "aaxis": {
             "endlinecolor": "#2a3f5f",
             "gridcolor": "white",
             "linecolor": "white",
             "minorgridcolor": "white",
             "startlinecolor": "#2a3f5f"
            },
            "baxis": {
             "endlinecolor": "#2a3f5f",
             "gridcolor": "white",
             "linecolor": "white",
             "minorgridcolor": "white",
             "startlinecolor": "#2a3f5f"
            },
            "type": "carpet"
           }
          ],
          "choropleth": [
           {
            "colorbar": {
             "outlinewidth": 0,
             "ticks": ""
            },
            "type": "choropleth"
           }
          ],
          "contour": [
           {
            "colorbar": {
             "outlinewidth": 0,
             "ticks": ""
            },
            "colorscale": [
             [
              0,
              "#0d0887"
             ],
             [
              0.1111111111111111,
              "#46039f"
             ],
             [
              0.2222222222222222,
              "#7201a8"
             ],
             [
              0.3333333333333333,
              "#9c179e"
             ],
             [
              0.4444444444444444,
              "#bd3786"
             ],
             [
              0.5555555555555556,
              "#d8576b"
             ],
             [
              0.6666666666666666,
              "#ed7953"
             ],
             [
              0.7777777777777778,
              "#fb9f3a"
             ],
             [
              0.8888888888888888,
              "#fdca26"
             ],
             [
              1,
              "#f0f921"
             ]
            ],
            "type": "contour"
           }
          ],
          "contourcarpet": [
           {
            "colorbar": {
             "outlinewidth": 0,
             "ticks": ""
            },
            "type": "contourcarpet"
           }
          ],
          "heatmap": [
           {
            "colorbar": {
             "outlinewidth": 0,
             "ticks": ""
            },
            "colorscale": [
             [
              0,
              "#0d0887"
             ],
             [
              0.1111111111111111,
              "#46039f"
             ],
             [
              0.2222222222222222,
              "#7201a8"
             ],
             [
              0.3333333333333333,
              "#9c179e"
             ],
             [
              0.4444444444444444,
              "#bd3786"
             ],
             [
              0.5555555555555556,
              "#d8576b"
             ],
             [
              0.6666666666666666,
              "#ed7953"
             ],
             [
              0.7777777777777778,
              "#fb9f3a"
             ],
             [
              0.8888888888888888,
              "#fdca26"
             ],
             [
              1,
              "#f0f921"
             ]
            ],
            "type": "heatmap"
           }
          ],
          "heatmapgl": [
           {
            "colorbar": {
             "outlinewidth": 0,
             "ticks": ""
            },
            "colorscale": [
             [
              0,
              "#0d0887"
             ],
             [
              0.1111111111111111,
              "#46039f"
             ],
             [
              0.2222222222222222,
              "#7201a8"
             ],
             [
              0.3333333333333333,
              "#9c179e"
             ],
             [
              0.4444444444444444,
              "#bd3786"
             ],
             [
              0.5555555555555556,
              "#d8576b"
             ],
             [
              0.6666666666666666,
              "#ed7953"
             ],
             [
              0.7777777777777778,
              "#fb9f3a"
             ],
             [
              0.8888888888888888,
              "#fdca26"
             ],
             [
              1,
              "#f0f921"
             ]
            ],
            "type": "heatmapgl"
           }
          ],
          "histogram": [
           {
            "marker": {
             "colorbar": {
              "outlinewidth": 0,
              "ticks": ""
             }
            },
            "type": "histogram"
           }
          ],
          "histogram2d": [
           {
            "colorbar": {
             "outlinewidth": 0,
             "ticks": ""
            },
            "colorscale": [
             [
              0,
              "#0d0887"
             ],
             [
              0.1111111111111111,
              "#46039f"
             ],
             [
              0.2222222222222222,
              "#7201a8"
             ],
             [
              0.3333333333333333,
              "#9c179e"
             ],
             [
              0.4444444444444444,
              "#bd3786"
             ],
             [
              0.5555555555555556,
              "#d8576b"
             ],
             [
              0.6666666666666666,
              "#ed7953"
             ],
             [
              0.7777777777777778,
              "#fb9f3a"
             ],
             [
              0.8888888888888888,
              "#fdca26"
             ],
             [
              1,
              "#f0f921"
             ]
            ],
            "type": "histogram2d"
           }
          ],
          "histogram2dcontour": [
           {
            "colorbar": {
             "outlinewidth": 0,
             "ticks": ""
            },
            "colorscale": [
             [
              0,
              "#0d0887"
             ],
             [
              0.1111111111111111,
              "#46039f"
             ],
             [
              0.2222222222222222,
              "#7201a8"
             ],
             [
              0.3333333333333333,
              "#9c179e"
             ],
             [
              0.4444444444444444,
              "#bd3786"
             ],
             [
              0.5555555555555556,
              "#d8576b"
             ],
             [
              0.6666666666666666,
              "#ed7953"
             ],
             [
              0.7777777777777778,
              "#fb9f3a"
             ],
             [
              0.8888888888888888,
              "#fdca26"
             ],
             [
              1,
              "#f0f921"
             ]
            ],
            "type": "histogram2dcontour"
           }
          ],
          "mesh3d": [
           {
            "colorbar": {
             "outlinewidth": 0,
             "ticks": ""
            },
            "type": "mesh3d"
           }
          ],
          "parcoords": [
           {
            "line": {
             "colorbar": {
              "outlinewidth": 0,
              "ticks": ""
             }
            },
            "type": "parcoords"
           }
          ],
          "pie": [
           {
            "automargin": true,
            "type": "pie"
           }
          ],
          "scatter": [
           {
            "marker": {
             "colorbar": {
              "outlinewidth": 0,
              "ticks": ""
             }
            },
            "type": "scatter"
           }
          ],
          "scatter3d": [
           {
            "line": {
             "colorbar": {
              "outlinewidth": 0,
              "ticks": ""
             }
            },
            "marker": {
             "colorbar": {
              "outlinewidth": 0,
              "ticks": ""
             }
            },
            "type": "scatter3d"
           }
          ],
          "scattercarpet": [
           {
            "marker": {
             "colorbar": {
              "outlinewidth": 0,
              "ticks": ""
             }
            },
            "type": "scattercarpet"
           }
          ],
          "scattergeo": [
           {
            "marker": {
             "colorbar": {
              "outlinewidth": 0,
              "ticks": ""
             }
            },
            "type": "scattergeo"
           }
          ],
          "scattergl": [
           {
            "marker": {
             "colorbar": {
              "outlinewidth": 0,
              "ticks": ""
             }
            },
            "type": "scattergl"
           }
          ],
          "scattermapbox": [
           {
            "marker": {
             "colorbar": {
              "outlinewidth": 0,
              "ticks": ""
             }
            },
            "type": "scattermapbox"
           }
          ],
          "scatterpolar": [
           {
            "marker": {
             "colorbar": {
              "outlinewidth": 0,
              "ticks": ""
             }
            },
            "type": "scatterpolar"
           }
          ],
          "scatterpolargl": [
           {
            "marker": {
             "colorbar": {
              "outlinewidth": 0,
              "ticks": ""
             }
            },
            "type": "scatterpolargl"
           }
          ],
          "scatterternary": [
           {
            "marker": {
             "colorbar": {
              "outlinewidth": 0,
              "ticks": ""
             }
            },
            "type": "scatterternary"
           }
          ],
          "surface": [
           {
            "colorbar": {
             "outlinewidth": 0,
             "ticks": ""
            },
            "colorscale": [
             [
              0,
              "#0d0887"
             ],
             [
              0.1111111111111111,
              "#46039f"
             ],
             [
              0.2222222222222222,
              "#7201a8"
             ],
             [
              0.3333333333333333,
              "#9c179e"
             ],
             [
              0.4444444444444444,
              "#bd3786"
             ],
             [
              0.5555555555555556,
              "#d8576b"
             ],
             [
              0.6666666666666666,
              "#ed7953"
             ],
             [
              0.7777777777777778,
              "#fb9f3a"
             ],
             [
              0.8888888888888888,
              "#fdca26"
             ],
             [
              1,
              "#f0f921"
             ]
            ],
            "type": "surface"
           }
          ],
          "table": [
           {
            "cells": {
             "fill": {
              "color": "#EBF0F8"
             },
             "line": {
              "color": "white"
             }
            },
            "header": {
             "fill": {
              "color": "#C8D4E3"
             },
             "line": {
              "color": "white"
             }
            },
            "type": "table"
           }
          ]
         },
         "layout": {
          "annotationdefaults": {
           "arrowcolor": "#2a3f5f",
           "arrowhead": 0,
           "arrowwidth": 1
          },
          "autotypenumbers": "strict",
          "coloraxis": {
           "colorbar": {
            "outlinewidth": 0,
            "ticks": ""
           }
          },
          "colorscale": {
           "diverging": [
            [
             0,
             "#8e0152"
            ],
            [
             0.1,
             "#c51b7d"
            ],
            [
             0.2,
             "#de77ae"
            ],
            [
             0.3,
             "#f1b6da"
            ],
            [
             0.4,
             "#fde0ef"
            ],
            [
             0.5,
             "#f7f7f7"
            ],
            [
             0.6,
             "#e6f5d0"
            ],
            [
             0.7,
             "#b8e186"
            ],
            [
             0.8,
             "#7fbc41"
            ],
            [
             0.9,
             "#4d9221"
            ],
            [
             1,
             "#276419"
            ]
           ],
           "sequential": [
            [
             0,
             "#0d0887"
            ],
            [
             0.1111111111111111,
             "#46039f"
            ],
            [
             0.2222222222222222,
             "#7201a8"
            ],
            [
             0.3333333333333333,
             "#9c179e"
            ],
            [
             0.4444444444444444,
             "#bd3786"
            ],
            [
             0.5555555555555556,
             "#d8576b"
            ],
            [
             0.6666666666666666,
             "#ed7953"
            ],
            [
             0.7777777777777778,
             "#fb9f3a"
            ],
            [
             0.8888888888888888,
             "#fdca26"
            ],
            [
             1,
             "#f0f921"
            ]
           ],
           "sequentialminus": [
            [
             0,
             "#0d0887"
            ],
            [
             0.1111111111111111,
             "#46039f"
            ],
            [
             0.2222222222222222,
             "#7201a8"
            ],
            [
             0.3333333333333333,
             "#9c179e"
            ],
            [
             0.4444444444444444,
             "#bd3786"
            ],
            [
             0.5555555555555556,
             "#d8576b"
            ],
            [
             0.6666666666666666,
             "#ed7953"
            ],
            [
             0.7777777777777778,
             "#fb9f3a"
            ],
            [
             0.8888888888888888,
             "#fdca26"
            ],
            [
             1,
             "#f0f921"
            ]
           ]
          },
          "colorway": [
           "#636efa",
           "#EF553B",
           "#00cc96",
           "#ab63fa",
           "#FFA15A",
           "#19d3f3",
           "#FF6692",
           "#B6E880",
           "#FF97FF",
           "#FECB52"
          ],
          "font": {
           "color": "#2a3f5f"
          },
          "geo": {
           "bgcolor": "white",
           "lakecolor": "white",
           "landcolor": "#E5ECF6",
           "showlakes": true,
           "showland": true,
           "subunitcolor": "white"
          },
          "hoverlabel": {
           "align": "left"
          },
          "hovermode": "closest",
          "mapbox": {
           "style": "light"
          },
          "paper_bgcolor": "white",
          "plot_bgcolor": "#E5ECF6",
          "polar": {
           "angularaxis": {
            "gridcolor": "white",
            "linecolor": "white",
            "ticks": ""
           },
           "bgcolor": "#E5ECF6",
           "radialaxis": {
            "gridcolor": "white",
            "linecolor": "white",
            "ticks": ""
           }
          },
          "scene": {
           "xaxis": {
            "backgroundcolor": "#E5ECF6",
            "gridcolor": "white",
            "gridwidth": 2,
            "linecolor": "white",
            "showbackground": true,
            "ticks": "",
            "zerolinecolor": "white"
           },
           "yaxis": {
            "backgroundcolor": "#E5ECF6",
            "gridcolor": "white",
            "gridwidth": 2,
            "linecolor": "white",
            "showbackground": true,
            "ticks": "",
            "zerolinecolor": "white"
           },
           "zaxis": {
            "backgroundcolor": "#E5ECF6",
            "gridcolor": "white",
            "gridwidth": 2,
            "linecolor": "white",
            "showbackground": true,
            "ticks": "",
            "zerolinecolor": "white"
           }
          },
          "shapedefaults": {
           "line": {
            "color": "#2a3f5f"
           }
          },
          "ternary": {
           "aaxis": {
            "gridcolor": "white",
            "linecolor": "white",
            "ticks": ""
           },
           "baxis": {
            "gridcolor": "white",
            "linecolor": "white",
            "ticks": ""
           },
           "bgcolor": "#E5ECF6",
           "caxis": {
            "gridcolor": "white",
            "linecolor": "white",
            "ticks": ""
           }
          },
          "title": {
           "x": 0.05
          },
          "xaxis": {
           "automargin": true,
           "gridcolor": "white",
           "linecolor": "white",
           "ticks": "",
           "title": {
            "standoff": 15
           },
           "zerolinecolor": "white",
           "zerolinewidth": 2
          },
          "yaxis": {
           "automargin": true,
           "gridcolor": "white",
           "linecolor": "white",
           "ticks": "",
           "title": {
            "standoff": 15
           },
           "zerolinecolor": "white",
           "zerolinewidth": 2
          }
         }
        },
        "xaxis": {
         "anchor": "y",
         "domain": [
          0,
          1
         ],
         "title": {
          "text": "Post Date"
         }
        },
        "yaxis": {
         "anchor": "x",
         "domain": [
          0,
          1
         ],
         "title": {
          "text": "neg"
         }
        }
       }
      }
     },
     "metadata": {},
     "output_type": "display_data"
    }
   ],
   "source": [
    "fig = px.line(df2, x='Post Date', y='neg')\r\n",
    "fig.show()"
   ]
  },
  {
   "cell_type": "code",
   "execution_count": 54,
   "metadata": {},
   "outputs": [
    {
     "data": {
      "application/vnd.plotly.v1+json": {
       "config": {
        "plotlyServerURL": "https://plot.ly"
       },
       "data": [
        {
         "hovertemplate": "Sentiment=Neutral<br>Post Date=%{x}<br>pos=%{y}<extra></extra>",
         "legendgroup": "Neutral",
         "line": {
          "color": "#636efa",
          "dash": "solid"
         },
         "mode": "lines",
         "name": "Neutral",
         "showlegend": true,
         "type": "scattergl",
         "x": [
          "2019-10-10T05:58:05.73",
          "2019-10-11T14:24:15.807",
          "2019-10-23T03:37:35.103",
          "2019-10-23T12:09:17.84",
          "2019-11-12T00:41:34.433",
          "2019-11-13T03:30:36.293",
          "2019-11-14T11:29:20.21",
          "2019-11-20T10:36:40.83",
          "2019-11-21T13:38:42.807",
          "2019-12-09T10:45:09.32",
          "2019-12-11T11:57:54.773",
          "2019-12-18T14:19:48.24",
          "2019-12-24T07:53:51.783",
          "2019-12-27T18:14:34.557",
          "2020-01-07T13:43:06.053",
          "2020-01-11T05:17:09.423",
          "2020-01-14T07:36:27.793",
          "2020-01-15T13:11:10.033",
          "2020-01-16T20:37:57.323",
          "2020-01-20T07:01:58.37",
          "2020-01-22T15:21:03.853",
          "2020-01-23T09:12:43.07",
          "2020-01-24T15:38:37.98",
          "2020-01-29T01:21:00.2",
          "2020-02-04T20:18:44.27",
          "2020-02-05T15:34:55.653",
          "2020-02-12T18:31:25.547",
          "2020-02-14T11:00:46.067",
          "2020-02-18T09:57:28.06",
          "2020-02-20T09:07:37.297",
          "2020-02-26T09:59:17.067",
          "2020-02-28T04:40:42.623",
          "2020-03-10T07:07:09.317",
          "2020-03-10T13:47:55.803",
          "2020-03-11T12:02:24.97",
          "2020-03-20T09:52:08.827",
          "2020-04-03T01:06:02.82",
          "2020-04-07T16:29:10.43",
          "2020-04-24T09:15:41.46",
          "2020-04-27T03:25:15.807",
          "2020-05-03T16:49:31.43",
          "2020-05-13T15:13:24.907",
          "2020-05-14T09:38:15.473",
          "2020-05-19T13:23:05.93",
          "2020-05-22T12:43:12.977",
          "2020-05-27T08:09:30.657",
          "2020-05-28T11:43:06.343",
          "2020-05-31T21:49:48.113",
          "2020-06-01T07:06:15.03",
          "2020-06-03T08:38:37.627",
          "2020-06-17T10:39:43.347",
          "2020-06-21T05:58:52.79",
          "2020-07-01T03:24:12.553",
          "2020-07-02T16:17:26.273",
          "2020-07-09T15:25:26.863",
          "2020-07-21T10:23:05.597",
          "2020-07-24T02:00:04.097",
          "2020-08-11T06:23:35.727",
          "2020-08-13T05:21:38.977",
          "2020-08-13T14:00:56.303",
          "2020-08-17T17:09:22.07",
          "2020-08-27T04:28:56.903",
          "2020-09-01T12:00:23.027",
          "2020-09-03T15:16:17.96",
          "2020-09-08T05:00:37.097",
          "2020-09-10T06:34:35.72",
          "2020-09-20T12:16:21.403",
          "2020-09-21T16:37:39.7",
          "2020-09-29T18:14:05.84",
          "2020-09-29T18:29:04.81",
          "2020-10-02T09:26:32.68",
          "2020-10-15T14:35:43.96",
          "2020-10-16T13:34:13.343",
          "2020-10-22T13:47:42.993",
          "2020-10-22T17:19:54.477",
          "2020-10-27T16:57:39.52",
          "2020-10-29T11:10:06.717",
          "2020-11-02T09:41:44.807",
          "2020-11-05T12:22:50.65",
          "2020-11-05T13:57:09.393",
          "2020-11-11T11:27:29.283",
          "2020-11-16T02:39:45.893",
          "2020-11-18T06:54:44.173",
          "2020-11-19T12:44:09.52",
          "2020-11-20T10:05:42.53",
          "2020-11-24T16:02:26.117",
          "2020-11-25T11:59:22.583",
          "2020-12-06T22:33:26.473",
          "2020-12-10T16:45:56.92",
          "2020-12-27T01:57:08.607",
          "2020-12-29T11:55:09.773",
          "2021-01-11T05:30:23.477",
          "2021-01-12T09:52:23.923",
          "2021-01-16T04:10:22.447",
          "2021-01-19T14:58:12.793",
          "2021-01-29T09:32:23.31",
          "2021-02-02T02:54:29.54",
          "2021-02-03T04:07:38.773",
          "2021-02-05T01:44:05.203",
          "2021-02-24T07:45:06.977",
          "2021-03-09T07:01:54.71",
          "2021-03-18T02:51:39.69",
          "2021-03-18T13:51:25.81",
          "2021-03-25T14:46:51.637",
          "2021-04-09T18:43:03.997",
          "2021-04-22T16:37:41.357",
          "2021-04-23T09:14:59.607",
          "2021-04-27T16:38:41.177",
          "2021-05-10T14:33:41.143"
         ],
         "xaxis": "x",
         "y": [
          0.064,
          0,
          0,
          0.056,
          0,
          0,
          0,
          0.038,
          0,
          0,
          0,
          0,
          0,
          0,
          0,
          0,
          0,
          0,
          0,
          0,
          0.052,
          0,
          0,
          0,
          0,
          0,
          0.055,
          0.043,
          0.022,
          0,
          0,
          0,
          0,
          0,
          0,
          0,
          0,
          0,
          0,
          0,
          0,
          0,
          0,
          0,
          0.054,
          0,
          0,
          0.16,
          0,
          0,
          0,
          0,
          0,
          0.032,
          0,
          0.022,
          0,
          0,
          0.051,
          0,
          0.179,
          0,
          0,
          0,
          0,
          0.112,
          0,
          0,
          0,
          0,
          0.01,
          0,
          0,
          0,
          0,
          0,
          0,
          0,
          0,
          0,
          0.11,
          0,
          0.056,
          0,
          0.055,
          0.095,
          0,
          0,
          0,
          0.103,
          0,
          0,
          0.09,
          0,
          0,
          0,
          0.025,
          0.061,
          0,
          0,
          0,
          0,
          0,
          0,
          0.092,
          0,
          0,
          0,
          0
         ],
         "yaxis": "y"
        },
        {
         "hovertemplate": "Sentiment=Positive<br>Post Date=%{x}<br>pos=%{y}<extra></extra>",
         "legendgroup": "Positive",
         "line": {
          "color": "#EF553B",
          "dash": "solid"
         },
         "mode": "lines",
         "name": "Positive",
         "showlegend": true,
         "type": "scattergl",
         "x": [
          "2019-10-10T12:44:35.957",
          "2019-10-10T14:56:52.947",
          "2019-10-10T15:41:06.877",
          "2019-10-10T20:56:53.483",
          "2019-10-11T13:10:28.983",
          "2019-10-11T16:02:41.787",
          "2019-10-13T20:01:08.897",
          "2019-10-14T08:33:18.01",
          "2019-10-16T11:20:54.023",
          "2019-10-16T14:12:45.5",
          "2019-10-17T09:14:34.753",
          "2019-10-17T10:16:15.513",
          "2019-10-17T12:09:02.91",
          "2019-10-17T23:59:14.523",
          "2019-10-18T14:58:06.717",
          "2019-10-21T06:08:38.347",
          "2019-10-21T16:06:55.323",
          "2019-10-22T08:16:13.563",
          "2019-10-22T16:27:23.92",
          "2019-10-22T18:07:48.827",
          "2019-10-23T08:20:38.087",
          "2019-10-23T11:38:26.887",
          "2019-10-24T04:42:08.237",
          "2019-10-24T09:59:56.077",
          "2019-10-24T16:34:04.713",
          "2019-10-28T15:36:47.907",
          "2019-10-29T06:01:19.783",
          "2019-10-29T10:29:47.95",
          "2019-10-29T16:46:32.203",
          "2019-10-29T17:04:40.463",
          "2019-10-30T04:45:07.257",
          "2019-10-30T15:33:07.45",
          "2019-10-30T18:41:07.37",
          "2019-10-31T12:35:06.993",
          "2019-11-01T07:44:02.54",
          "2019-11-04T17:47:37.86",
          "2019-11-06T06:04:59.007",
          "2019-11-06T10:08:50.95",
          "2019-11-06T10:27:39.52",
          "2019-11-08T20:33:59.89",
          "2019-11-09T11:37:29.693",
          "2019-11-11T05:59:42.987",
          "2019-11-11T11:39:44.857",
          "2019-11-11T13:02:34.017",
          "2019-11-12T18:42:03.247",
          "2019-11-13T09:35:33.91",
          "2019-11-13T23:52:26.683",
          "2019-11-14T06:03:35.53",
          "2019-11-14T09:45:03.713",
          "2019-11-14T13:10:08.303",
          "2019-11-18T04:12:03.657",
          "2019-11-18T15:17:49.503",
          "2019-11-18T16:11:15.36",
          "2019-11-18T17:18:32.137",
          "2019-11-18T19:25:44.17",
          "2019-11-19T02:48:28.417",
          "2019-11-19T10:27:37.423",
          "2019-11-19T11:00:35.74",
          "2019-11-19T20:00:10.803",
          "2019-11-20T12:24:54.847",
          "2019-11-21T00:07:58.053",
          "2019-11-21T14:08:12.47",
          "2019-11-21T18:13:29.69",
          "2019-11-22T07:29:58.45",
          "2019-11-22T12:44:01.59",
          "2019-11-23T12:26:35.197",
          "2019-11-26T08:17:12.663",
          "2019-11-27T10:39:18.173",
          "2019-11-27T21:15:11.89",
          "2019-11-28T04:58:07.76",
          "2019-12-02T07:06:03.57",
          "2019-12-02T15:42:44.927",
          "2019-12-02T21:04:51.46",
          "2019-12-03T07:56:40.55",
          "2019-12-03T10:45:44.023",
          "2019-12-04T11:59:55.687",
          "2019-12-05T11:04:33.51",
          "2019-12-05T12:28:17.997",
          "2019-12-09T07:25:39.22",
          "2019-12-09T10:53:03.993",
          "2019-12-09T12:45:56.217",
          "2019-12-10T08:52:36.997",
          "2019-12-10T10:14:02.33",
          "2019-12-10T11:53:33.71",
          "2019-12-10T18:25:49.657",
          "2019-12-11T11:26:46.79",
          "2019-12-12T11:05:43.68",
          "2019-12-13T09:43:03.027",
          "2019-12-17T03:54:27.833",
          "2019-12-17T05:30:55.173",
          "2019-12-17T09:31:11.343",
          "2019-12-17T11:21:51.1",
          "2019-12-17T12:36:10.797",
          "2019-12-17T22:05:31.297",
          "2019-12-18T02:18:53.803",
          "2019-12-18T04:43:33.147",
          "2019-12-18T07:43:12.083",
          "2019-12-20T14:25:22.243",
          "2019-12-21T07:31:20.647",
          "2019-12-26T08:18:44.133",
          "2019-12-26T11:59:21.053",
          "2019-12-28T03:55:55.687",
          "2019-12-30T13:08:12.05",
          "2019-12-30T13:53:51.783",
          "2020-01-02T06:49:33.107",
          "2020-01-02T09:53:02.633",
          "2020-01-02T16:36:17.35",
          "2020-01-03T12:08:04.033",
          "2020-01-03T16:41:12.803",
          "2020-01-06T12:19:26.157",
          "2020-01-06T17:04:29.283",
          "2020-01-06T17:40:07.413",
          "2020-01-07T04:10:45.22",
          "2020-01-07T04:51:00.893",
          "2020-01-07T10:24:06.313",
          "2020-01-07T11:18:19.473",
          "2020-01-07T15:38:23.8",
          "2020-01-07T16:18:56.733",
          "2020-01-08T16:28:49.287",
          "2020-01-09T01:31:01.17",
          "2020-01-09T06:33:51.44",
          "2020-01-09T12:05:38.153",
          "2020-01-10T15:06:17.673",
          "2020-01-10T15:54:12.933",
          "2020-01-13T12:21:50.72",
          "2020-01-13T13:00:29.71",
          "2020-01-14T15:06:33.63",
          "2020-01-15T04:12:20.593",
          "2020-01-15T09:52:42.417",
          "2020-01-15T19:14:38.547",
          "2020-01-16T10:00:09.903",
          "2020-01-16T17:27:43.697",
          "2020-01-18T01:12:31.457",
          "2020-01-18T07:43:39.573",
          "2020-01-20T00:07:25.07",
          "2020-01-20T06:57:25.193",
          "2020-01-20T06:59:28.963",
          "2020-01-20T14:25:20.393",
          "2020-01-20T14:45:16.097",
          "2020-01-22T15:07:27.347",
          "2020-01-23T08:30:02.617",
          "2020-01-25T16:27:33.3",
          "2020-01-27T12:47:35.913",
          "2020-01-27T13:06:07.103",
          "2020-01-27T19:11:17.547",
          "2020-01-30T18:43:33.303",
          "2020-01-31T00:48:04.5",
          "2020-01-31T08:03:58.81",
          "2020-02-01T05:35:29.75",
          "2020-02-02T13:10:27.66",
          "2020-02-02T17:09:13.667",
          "2020-02-03T04:12:16.153",
          "2020-02-04T09:46:39.103",
          "2020-02-05T12:57:51.92",
          "2020-02-07T10:19:14.993",
          "2020-02-10T12:07:23.167",
          "2020-02-10T12:23:06.927",
          "2020-02-10T12:51:43.717",
          "2020-02-10T17:12:39.753",
          "2020-02-11T17:58:49.54",
          "2020-02-12T06:28:17.963",
          "2020-02-12T14:03:31.393",
          "2020-02-12T15:16:51.137",
          "2020-02-13T04:33:31.503",
          "2020-02-13T07:03:33.427",
          "2020-02-17T16:50:09.627",
          "2020-02-18T02:27:54.503",
          "2020-02-18T10:33:31.103",
          "2020-02-18T11:09:26.847",
          "2020-02-20T18:55:20.497",
          "2020-02-21T04:19:57.7",
          "2020-02-21T06:32:06.093",
          "2020-02-21T12:36:02.74",
          "2020-02-21T13:01:12.36",
          "2020-02-21T18:07:34.15",
          "2020-02-23T02:07:04.06",
          "2020-02-24T05:14:04.183",
          "2020-02-24T09:39:05.69",
          "2020-02-24T15:46:47.507",
          "2020-02-25T03:52:03.343",
          "2020-02-26T16:38:14.707",
          "2020-02-27T12:11:29.997",
          "2020-02-28T10:58:22.157",
          "2020-02-28T12:00:12.227",
          "2020-02-28T12:41:38.88",
          "2020-02-29T01:03:40.683",
          "2020-03-01T02:40:06.913",
          "2020-03-01T10:01:48.487",
          "2020-03-01T23:59:56.043",
          "2020-03-02T14:28:29.457",
          "2020-03-03T00:00:27.147",
          "2020-03-03T04:30:14.143",
          "2020-03-03T06:44:29.51",
          "2020-03-03T07:23:34.21",
          "2020-03-04T03:34:45.237",
          "2020-03-04T10:43:21.66",
          "2020-03-05T20:40:47.497",
          "2020-03-06T16:53:23.053",
          "2020-03-07T06:36:24.19",
          "2020-03-08T12:22:18.35",
          "2020-03-08T18:22:20.403",
          "2020-03-09T07:47:26.907",
          "2020-03-10T02:49:49.197",
          "2020-03-12T03:22:56.907",
          "2020-03-12T05:01:18.27",
          "2020-03-12T09:32:11.43",
          "2020-03-12T16:24:51.943",
          "2020-03-13T02:20:48.573",
          "2020-03-13T18:05:09.727",
          "2020-03-16T05:51:59.12",
          "2020-03-16T13:41:01.863",
          "2020-03-17T01:11:48.753",
          "2020-03-17T02:14:25.67",
          "2020-03-17T11:01:28.317",
          "2020-03-18T06:06:20.797",
          "2020-03-19T09:31:32.573",
          "2020-03-20T09:02:42.493",
          "2020-03-22T12:10:06.073",
          "2020-03-22T23:11:53.447",
          "2020-03-23T11:06:50.057",
          "2020-03-23T23:34:21.613",
          "2020-03-24T16:40:36.357",
          "2020-03-25T05:31:26.553",
          "2020-03-25T13:28:17.627",
          "2020-03-25T13:53:46.49",
          "2020-03-27T09:21:56.483",
          "2020-03-28T01:28:47.883",
          "2020-03-30T09:08:24.897",
          "2020-03-30T15:21:41.037",
          "2020-03-30T21:20:56.607",
          "2020-03-31T11:25:34.507",
          "2020-03-31T13:27:36.39",
          "2020-04-01T16:02:10.643",
          "2020-04-02T00:43:12.03",
          "2020-04-07T12:32:04.843",
          "2020-04-08T00:15:17.853",
          "2020-04-08T03:50:11.817",
          "2020-04-08T10:13:33.427",
          "2020-04-08T18:27:22.337",
          "2020-04-10T09:08:10.833",
          "2020-04-10T19:21:56.537",
          "2020-04-13T10:16:13.573",
          "2020-04-13T12:45:52.543",
          "2020-04-13T14:36:36.72",
          "2020-04-14T08:25:03.7",
          "2020-04-15T05:26:43.887",
          "2020-04-16T17:32:12.887",
          "2020-04-17T17:21:10.267",
          "2020-04-17T18:09:09.38",
          "2020-04-17T19:28:32.667",
          "2020-04-20T06:46:13.263",
          "2020-04-20T09:45:40.793",
          "2020-04-21T06:43:58.953",
          "2020-04-22T17:52:12.143",
          "2020-04-23T11:51:48.66",
          "2020-04-23T12:48:56.067",
          "2020-04-23T13:42:27.423",
          "2020-04-23T19:33:37.777",
          "2020-04-24T12:08:53.497",
          "2020-04-24T17:33:44.47",
          "2020-04-27T11:04:11.827",
          "2020-04-27T12:09:32.6",
          "2020-04-28T14:16:24.483",
          "2020-04-28T14:23:25.457",
          "2020-04-28T14:54:09.24",
          "2020-04-28T15:58:10.627",
          "2020-04-29T06:42:53.09",
          "2020-04-29T11:08:12.53",
          "2020-04-30T10:03:05.167",
          "2020-05-01T07:55:41.06",
          "2020-05-01T13:27:08.093",
          "2020-05-01T18:13:11.793",
          "2020-05-05T07:56:04.453",
          "2020-05-05T08:43:05.083",
          "2020-05-05T19:02:17.003",
          "2020-05-06T01:58:51.927",
          "2020-05-06T09:55:41.613",
          "2020-05-06T11:33:27.64",
          "2020-05-07T07:48:02.343",
          "2020-05-07T14:40:24.16",
          "2020-05-07T17:22:42.663",
          "2020-05-07T17:58:50.36",
          "2020-05-08T11:05:30.22",
          "2020-05-08T18:50:29.917",
          "2020-05-10T15:38:34.823",
          "2020-05-10T22:06:56.483",
          "2020-05-11T04:18:33.723",
          "2020-05-11T10:39:05.677",
          "2020-05-11T18:12:14.043",
          "2020-05-12T06:46:53.073",
          "2020-05-12T23:39:37.837",
          "2020-05-13T12:09:34.583",
          "2020-05-14T13:46:07.237",
          "2020-05-19T01:36:19.2",
          "2020-05-19T10:58:19.68",
          "2020-05-19T22:57:51.593",
          "2020-05-19T23:57:36.38",
          "2020-05-21T08:01:48.667",
          "2020-05-21T16:17:26.79",
          "2020-05-22T13:38:46.373",
          "2020-05-26T04:19:19.857",
          "2020-05-26T05:29:41.38",
          "2020-05-27T09:42:57.963",
          "2020-05-27T11:51:09.957",
          "2020-05-27T16:13:12.423",
          "2020-05-28T10:50:38.12",
          "2020-05-28T13:55:04.59",
          "2020-05-28T13:55:17.233",
          "2020-05-28T15:02:38.937",
          "2020-06-01T03:45:36.143",
          "2020-06-01T23:54:24.347",
          "2020-06-02T06:25:02.487",
          "2020-06-04T08:46:29.137",
          "2020-06-04T08:47:30.443",
          "2020-06-05T08:37:45.887",
          "2020-06-08T11:30:52.127",
          "2020-06-10T15:48:56.787",
          "2020-06-11T05:44:23.893",
          "2020-06-11T10:48:33.063",
          "2020-06-11T16:44:25.303",
          "2020-06-12T04:26:21.537",
          "2020-06-13T20:34:20.54",
          "2020-06-15T00:18:26.877",
          "2020-06-15T18:21:18.607",
          "2020-06-17T07:44:27.62",
          "2020-06-17T18:17:42.787",
          "2020-06-17T21:20:44.363",
          "2020-06-18T03:41:34.283",
          "2020-06-18T18:45:45.943",
          "2020-06-19T05:28:43.413",
          "2020-06-19T07:23:48.88",
          "2020-06-19T13:04:31.18",
          "2020-06-19T13:05:50.277",
          "2020-06-20T20:04:07.61",
          "2020-06-22T07:57:18.433",
          "2020-06-22T15:20:53.23",
          "2020-06-22T17:32:37.193",
          "2020-06-25T03:09:04.55",
          "2020-06-26T07:38:55.12",
          "2020-07-01T08:43:32.99",
          "2020-07-02T09:20:12.7",
          "2020-07-02T10:21:06.57",
          "2020-07-08T09:33:24.407",
          "2020-07-08T16:56:19.757",
          "2020-07-09T16:22:26.66",
          "2020-07-09T16:28:26.983",
          "2020-07-10T15:53:37.277",
          "2020-07-10T18:57:48.173",
          "2020-07-14T05:01:01.39",
          "2020-07-15T03:11:16.5",
          "2020-07-15T06:32:14.56",
          "2020-07-15T17:54:55.167",
          "2020-07-16T04:35:29.63",
          "2020-07-16T07:33:35.41",
          "2020-07-16T11:36:35.183",
          "2020-07-16T16:31:52.563",
          "2020-07-20T23:00:15.057",
          "2020-07-21T06:17:01.253",
          "2020-07-21T15:20:11.183",
          "2020-07-22T05:55:52.447",
          "2020-07-22T16:48:52.953",
          "2020-07-22T23:35:16.743",
          "2020-07-23T15:51:45.183",
          "2020-07-23T16:46:00.053",
          "2020-07-27T13:56:35.087",
          "2020-07-28T11:16:57.777",
          "2020-07-28T11:20:26.603",
          "2020-07-28T11:47:30.707",
          "2020-07-29T08:18:11.907",
          "2020-07-29T09:13:44.577",
          "2020-07-29T10:45:28.61",
          "2020-07-30T14:51:34.69",
          "2020-07-30T16:20:18.783",
          "2020-08-03T14:31:32.377",
          "2020-08-03T15:16:16.62",
          "2020-08-05T12:27:19.103",
          "2020-08-05T13:19:23.943",
          "2020-08-06T12:04:03.013",
          "2020-08-07T15:34:48.087",
          "2020-08-10T12:13:23.673",
          "2020-08-11T03:18:56.48",
          "2020-08-12T07:54:44.907",
          "2020-08-13T09:27:35.497",
          "2020-08-13T13:58:17.28",
          "2020-08-13T19:32:19.49",
          "2020-08-14T04:43:10.42",
          "2020-08-14T10:33:47.637",
          "2020-08-14T14:39:35.21",
          "2020-08-18T07:01:56.34",
          "2020-08-19T10:47:49.9",
          "2020-08-19T14:31:13.88",
          "2020-08-20T16:16:04.203",
          "2020-08-20T18:20:03.123",
          "2020-08-21T02:02:10.857",
          "2020-08-21T14:50:21.077",
          "2020-08-21T15:36:03.473",
          "2020-08-24T02:26:12.913",
          "2020-08-24T03:55:16.187",
          "2020-08-24T07:30:08.877",
          "2020-08-24T09:13:29.1",
          "2020-08-25T09:37:23.29",
          "2020-08-25T13:34:40.817",
          "2020-08-26T02:11:50.003",
          "2020-08-26T10:34:15.32",
          "2020-08-26T11:13:50.613",
          "2020-08-27T11:25:26.827",
          "2020-08-27T11:40:36.677",
          "2020-08-27T14:20:01.203",
          "2020-08-27T14:59:03.177",
          "2020-08-28T04:12:14.89",
          "2020-08-28T12:20:32.08",
          "2020-08-31T09:41:46.203",
          "2020-09-01T08:29:04.687",
          "2020-09-02T13:28:25.653",
          "2020-09-03T02:01:33.75",
          "2020-09-03T09:26:58.127",
          "2020-09-03T11:55:40.83",
          "2020-09-04T02:35:33.15",
          "2020-09-07T03:14:01.783",
          "2020-09-08T03:24:11.603",
          "2020-09-08T05:40:25.34",
          "2020-09-08T12:13:05.57",
          "2020-09-08T14:17:04.713",
          "2020-09-09T14:46:03.91",
          "2020-09-09T15:33:09.883",
          "2020-09-10T06:00:56.927",
          "2020-09-10T12:15:08.11",
          "2020-09-10T16:25:03.4",
          "2020-09-11T11:54:43.767",
          "2020-09-11T17:57:16.44",
          "2020-09-13T05:09:37.187",
          "2020-09-13T12:40:21.163",
          "2020-09-14T08:48:44.357",
          "2020-09-15T08:11:30.217",
          "2020-09-15T11:40:17.6",
          "2020-09-15T19:54:20.857",
          "2020-09-16T06:13:11.593",
          "2020-09-16T08:15:45.44",
          "2020-09-16T09:57:44.517",
          "2020-09-16T12:02:57.383",
          "2020-09-16T14:20:14.03",
          "2020-09-16T16:01:59.473",
          "2020-09-16T16:33:38.75",
          "2020-09-16T16:52:38.42",
          "2020-09-17T11:41:44.053",
          "2020-09-17T14:55:23.447",
          "2020-09-17T16:37:00.077",
          "2020-09-18T07:33:41.723",
          "2020-09-18T10:46:34.367",
          "2020-09-21T09:58:43.167",
          "2020-09-21T16:47:19.263",
          "2020-09-22T00:02:42.337",
          "2020-09-22T06:17:08.973",
          "2020-09-22T12:21:03.637",
          "2020-09-23T12:45:54.313",
          "2020-09-23T14:50:02.017",
          "2020-09-23T14:50:53.77",
          "2020-09-23T14:51:39.347",
          "2020-09-23T15:15:00.187",
          "2020-09-24T13:12:57.107",
          "2020-09-24T19:12:48.583",
          "2020-09-25T06:21:34.47",
          "2020-09-25T15:10:56.223",
          "2020-09-25T21:10:47.287",
          "2020-09-27T03:01:48.877",
          "2020-09-28T07:28:53.443",
          "2020-09-28T13:41:47.603",
          "2020-09-29T10:42:52.203",
          "2020-09-29T10:58:24.237",
          "2020-09-29T11:43:39.463",
          "2020-10-01T04:05:51.267",
          "2020-10-01T15:18:19.523",
          "2020-10-04T06:57:42.663",
          "2020-10-06T10:36:52.983",
          "2020-10-06T12:46:04.483",
          "2020-10-07T04:36:43.39",
          "2020-10-07T16:31:35.887",
          "2020-10-07T16:43:08.117",
          "2020-10-08T08:52:50.623",
          "2020-10-09T02:01:00.407",
          "2020-10-12T09:03:36.163",
          "2020-10-12T20:34:39.057",
          "2020-10-14T06:43:01.837",
          "2020-10-14T09:31:09.873",
          "2020-10-14T13:41:44.907",
          "2020-10-14T13:52:09.94",
          "2020-10-15T06:57:57.13",
          "2020-10-16T10:01:41.817",
          "2020-10-16T12:33:29.753",
          "2020-10-17T11:21:17.997",
          "2020-10-17T21:00:48.037",
          "2020-10-19T15:39:33.853",
          "2020-10-19T22:07:22.383",
          "2020-10-20T03:00:27.94",
          "2020-10-21T04:53:38.967",
          "2020-10-21T06:22:02.867",
          "2020-10-21T09:30:56.74",
          "2020-10-21T10:44:23.66",
          "2020-10-22T14:31:26.257",
          "2020-10-22T17:17:54.993",
          "2020-10-23T07:50:08.56",
          "2020-10-23T12:09:06.92",
          "2020-10-23T16:06:11.243",
          "2020-10-24T16:03:56.137",
          "2020-10-25T08:22:12.38",
          "2020-10-25T16:01:58.43",
          "2020-10-26T05:46:15.347",
          "2020-10-29T02:25:33.677",
          "2020-10-29T14:45:52.203",
          "2020-10-30T15:24:32.273",
          "2020-11-03T09:15:35.397",
          "2020-11-03T14:16:21.633",
          "2020-11-04T08:18:34.06",
          "2020-11-06T03:12:33.02",
          "2020-11-07T02:30:08.94",
          "2020-11-08T12:42:54.723",
          "2020-11-08T12:48:07.61",
          "2020-11-09T10:51:40.613",
          "2020-11-11T05:50:59.56",
          "2020-11-11T09:58:05.707",
          "2020-11-11T15:13:05.847",
          "2020-11-11T16:53:07.01",
          "2020-11-12T05:28:55.913",
          "2020-11-12T14:47:17.27",
          "2020-11-13T03:08:25.797",
          "2020-11-14T14:04:27.383",
          "2020-11-16T11:23:16.327",
          "2020-11-16T11:25:19.08",
          "2020-11-18T11:32:37.993",
          "2020-11-18T12:30:24.143",
          "2020-11-18T12:37:55.147",
          "2020-11-18T19:18:53.403",
          "2020-11-19T09:30:41.29",
          "2020-11-20T14:00:44.387",
          "2020-11-20T16:00:00.39",
          "2020-11-21T05:08:51.133",
          "2020-11-22T23:21:07.067",
          "2020-11-23T01:58:09.64",
          "2020-11-24T10:58:17.443",
          "2020-11-24T15:09:06.143",
          "2020-11-24T20:48:57.933",
          "2020-11-25T12:40:55.58",
          "2020-11-25T14:28:28.507",
          "2020-11-25T15:43:04.867",
          "2020-11-30T16:32:19.377",
          "2020-12-02T09:26:16.583",
          "2020-12-04T18:13:27.287",
          "2020-12-06T08:25:07.433",
          "2020-12-08T11:32:56.12",
          "2020-12-08T12:43:52.023",
          "2020-12-08T15:13:24.93",
          "2020-12-09T10:04:40.567",
          "2020-12-10T03:32:44.07",
          "2020-12-10T16:03:19.67",
          "2020-12-15T11:43:28.143",
          "2020-12-15T13:24:34.04",
          "2020-12-16T05:04:16.433",
          "2020-12-16T13:34:06.637",
          "2020-12-16T21:46:56.413",
          "2020-12-18T03:06:14.177",
          "2020-12-18T11:11:07.787",
          "2020-12-21T17:49:39.223",
          "2020-12-22T05:06:26.697",
          "2020-12-23T10:59:14.423",
          "2020-12-24T00:03:53.283",
          "2020-12-26T15:56:58.257",
          "2020-12-27T11:57:47.007",
          "2020-12-27T14:12:00.18",
          "2020-12-28T10:34:01.52",
          "2020-12-28T11:57:21.447",
          "2020-12-29T17:22:22.603",
          "2020-12-30T10:05:14.57",
          "2020-12-31T18:03:21.66",
          "2021-01-01T07:00:15.443",
          "2021-01-03T22:55:07.463",
          "2021-01-04T07:41:29.507",
          "2021-01-04T07:48:38.72",
          "2021-01-04T08:49:11.093",
          "2021-01-04T12:26:12.183",
          "2021-01-05T09:54:38.063",
          "2021-01-05T10:07:21.227",
          "2021-01-05T20:16:38.75",
          "2021-01-06T12:25:16.487",
          "2021-01-06T14:50:39.423",
          "2021-01-07T00:43:54.317",
          "2021-01-08T03:57:53.35",
          "2021-01-11T16:25:58.88",
          "2021-01-11T22:44:21.93",
          "2021-01-12T07:40:27.073",
          "2021-01-14T13:55:54.143",
          "2021-01-15T11:36:31.313",
          "2021-01-16T19:32:13.78",
          "2021-01-18T05:59:41.04",
          "2021-01-19T13:53:44.657",
          "2021-01-20T07:11:18.693",
          "2021-01-20T15:38:36.633",
          "2021-01-20T16:13:02.5",
          "2021-01-21T17:46:44.013",
          "2021-01-22T13:54:36.95",
          "2021-01-22T15:20:52.107",
          "2021-01-23T00:52:07.6",
          "2021-01-25T03:57:52.733",
          "2021-01-25T10:05:26.427",
          "2021-01-25T12:51:33.14",
          "2021-01-25T17:07:17.423",
          "2021-01-27T09:22:55.277",
          "2021-01-27T09:22:55.547",
          "2021-01-27T09:28:32.857",
          "2021-01-28T11:33:34.887",
          "2021-01-29T05:09:45.457",
          "2021-01-30T02:44:24.313",
          "2021-02-01T14:35:54.11",
          "2021-02-02T09:15:33.837",
          "2021-02-04T18:52:41.68",
          "2021-02-07T01:35:51.77",
          "2021-02-07T03:45:35.85",
          "2021-02-07T22:47:17.563",
          "2021-02-08T04:21:46.14",
          "2021-02-08T20:23:34.343",
          "2021-02-09T05:36:55.147",
          "2021-02-09T07:28:04.943",
          "2021-02-10T11:48:40.4",
          "2021-02-10T17:28:34.27",
          "2021-02-11T16:40:26.987",
          "2021-02-11T21:31:20.58",
          "2021-02-12T05:54:48.23",
          "2021-02-12T09:56:04.773",
          "2021-02-12T15:06:05.92",
          "2021-02-12T15:07:52.33",
          "2021-02-13T02:53:30.073",
          "2021-02-14T04:45:31.08",
          "2021-02-14T15:10:09.8",
          "2021-02-15T21:50:52.64",
          "2021-02-16T06:32:23.97",
          "2021-02-16T09:44:47.337",
          "2021-02-17T01:00:17.45",
          "2021-02-17T01:25:49.423",
          "2021-02-17T17:57:59.497",
          "2021-02-18T04:41:42.563",
          "2021-02-19T11:17:25.39",
          "2021-02-22T01:18:39.76",
          "2021-02-22T10:22:26.3",
          "2021-02-23T05:30:07.697",
          "2021-02-23T08:25:50.447",
          "2021-02-23T15:53:46.57",
          "2021-02-24T12:36:00.77",
          "2021-02-25T08:53:44.637",
          "2021-02-25T10:29:48.393",
          "2021-02-25T16:43:06.273",
          "2021-02-26T09:23:09.993",
          "2021-02-26T18:47:43.037",
          "2021-02-27T11:08:57.667",
          "2021-03-01T09:13:33.787",
          "2021-03-01T19:39:59.55",
          "2021-03-02T09:23:36.847",
          "2021-03-02T11:18:39.363",
          "2021-03-02T16:31:12.837",
          "2021-03-03T05:13:37.897",
          "2021-03-03T06:44:32.35",
          "2021-03-03T08:54:25",
          "2021-03-04T02:36:22.257",
          "2021-03-05T08:22:11.3",
          "2021-03-09T11:09:19.763",
          "2021-03-09T14:55:21.58",
          "2021-03-10T04:36:07.837",
          "2021-03-10T15:24:21.857",
          "2021-03-10T16:00:02.613",
          "2021-03-11T04:20:04.103",
          "2021-03-11T09:00:30.913",
          "2021-03-11T17:30:43.753",
          "2021-03-12T02:34:21.683",
          "2021-03-12T03:28:33.083",
          "2021-03-12T11:48:47.203",
          "2021-03-13T10:25:21.143",
          "2021-03-14T17:29:30.287",
          "2021-03-15T10:13:43.667",
          "2021-03-15T10:53:54.233",
          "2021-03-17T17:02:54.86",
          "2021-03-19T07:21:13.43",
          "2021-03-20T01:34:53.61",
          "2021-03-23T12:14:18.863",
          "2021-03-24T12:58:46.5",
          "2021-03-25T03:17:53.38",
          "2021-03-25T16:39:59.577",
          "2021-03-26T14:27:14.173",
          "2021-03-30T12:29:47.413",
          "2021-03-30T12:53:22.887",
          "2021-03-31T05:04:42.15",
          "2021-03-31T06:38:42.34",
          "2021-04-01T08:14:49.057",
          "2021-04-06T19:28:50.28",
          "2021-04-08T17:31:25.08",
          "2021-04-10T02:53:00.28",
          "2021-04-12T10:52:25.73",
          "2021-04-12T12:12:10.283",
          "2021-04-12T15:13:07.097",
          "2021-04-14T03:27:41.803",
          "2021-04-15T08:57:58.05",
          "2021-04-15T12:20:03.933",
          "2021-04-19T09:41:09.173",
          "2021-04-20T07:00:28.707",
          "2021-04-20T15:43:56.607",
          "2021-04-21T11:38:15.18",
          "2021-04-22T04:29:17.66",
          "2021-04-22T04:48:51.64",
          "2021-04-22T06:55:40.56",
          "2021-04-22T16:43:27",
          "2021-04-23T00:03:22.743",
          "2021-04-23T11:09:05.35",
          "2021-04-27T07:40:14.087",
          "2021-04-27T10:25:08.213",
          "2021-04-27T13:53:38.607",
          "2021-04-27T14:05:34.707",
          "2021-04-27T16:17:23.083",
          "2021-04-28T06:07:57.33",
          "2021-04-28T11:44:20.84",
          "2021-04-28T14:08:31.08",
          "2021-04-28T14:15:54.817",
          "2021-04-29T02:16:11.49",
          "2021-04-30T07:03:44.607",
          "2021-04-30T08:43:37.07",
          "2021-05-04T03:26:26.993",
          "2021-05-04T09:31:18.373",
          "2021-05-05T10:48:30.583",
          "2021-05-05T14:59:26.737",
          "2021-05-06T04:52:27.5",
          "2021-05-06T05:44:31.317",
          "2021-05-06T14:47:18.237",
          "2021-05-06T15:36:56.423",
          "2021-05-06T19:21:40.677",
          "2021-05-07T11:58:25.423",
          "2021-05-07T12:44:00.26",
          "2021-05-11T11:11:22.967",
          "2021-05-11T14:33:52.803",
          "2021-05-12T19:29:45.887",
          "2021-05-14T10:04:28.7",
          "2021-05-17T00:14:13.58",
          "2021-05-17T05:24:41.617",
          "2021-05-17T10:22:56.957",
          "2021-05-17T12:12:39.573",
          "2021-05-20T08:11:58.513",
          "2021-05-21T02:17:15.373",
          "2021-05-24T03:14:14.447",
          "2021-05-24T05:55:56.8",
          "2021-05-24T14:55:23.877",
          "2021-05-25T10:09:32.81",
          "2021-05-25T23:18:10.647",
          "2021-05-25T23:21:55.333",
          "2021-05-26T05:39:30.67",
          "2021-05-28T11:21:25.033",
          "2021-05-28T13:33:13.153",
          "2021-05-29T21:45:02.2",
          "2021-05-30T01:41:31.68",
          "2021-05-30T08:11:59.69",
          "2021-06-02T07:44:14.63",
          "2021-06-02T12:18:46.267",
          "2021-06-02T13:14:26.307",
          "2021-06-02T13:40:25.58",
          "2021-06-02T13:53:43.85",
          "2021-06-02T15:54:57.997",
          "2021-06-02T16:37:04.77",
          "2021-06-03T02:17:04.61",
          "2021-06-03T04:52:06.57",
          "2021-06-03T09:19:09.593",
          "2021-06-03T19:44:17.527",
          "2021-06-04T05:25:16.927",
          "2021-06-04T10:11:48.013",
          "2021-06-08T04:53:56.6",
          "2021-06-08T10:57:39.363"
         ],
         "xaxis": "x",
         "y": [
          0.063,
          0.102,
          0.198,
          0.102,
          0.09,
          0.184,
          0.094,
          0.075,
          0.054,
          0.082,
          0.105,
          0.158,
          0.071,
          0.255,
          0.102,
          0.236,
          0.114,
          0.106,
          0.135,
          0.244,
          0.204,
          0.185,
          0.058,
          0.088,
          0.102,
          0.115,
          0.067,
          0.047,
          0.221,
          0.115,
          0.172,
          0.154,
          0.093,
          0.159,
          0.086,
          0.24,
          0.161,
          0.185,
          0.096,
          0.102,
          0.153,
          0.203,
          0.057,
          0.041,
          0.139,
          0.101,
          0.095,
          0.151,
          0.11,
          0.142,
          0.256,
          0.124,
          0.134,
          0.203,
          0.077,
          0.091,
          0.177,
          0.209,
          0.028,
          0.091,
          0.085,
          0.075,
          0.168,
          0.335,
          0.071,
          0.358,
          0.122,
          0.097,
          0.087,
          0.136,
          0.059,
          0.179,
          0.102,
          0.211,
          0.129,
          0.113,
          0.253,
          0.035,
          0.223,
          0.11,
          0.195,
          0.082,
          0.056,
          0.033,
          0.017,
          0.208,
          0.13,
          0.079,
          0.173,
          0.174,
          0.07,
          0.189,
          0.331,
          0.152,
          0.112,
          0.125,
          0.181,
          0.236,
          0.213,
          0.104,
          0.17,
          0.055,
          0.094,
          0.216,
          0.089,
          0.149,
          0.102,
          0.138,
          0.091,
          0.21,
          0.083,
          0.143,
          0.089,
          0.112,
          0.072,
          0.033,
          0.069,
          0.102,
          0.211,
          0.091,
          0.218,
          0.16,
          0.209,
          0.077,
          0.167,
          0.038,
          0.119,
          0.158,
          0.222,
          0.119,
          0.293,
          0.132,
          0.221,
          0.104,
          0.089,
          0.09,
          0.167,
          0.103,
          0.108,
          0.119,
          0.202,
          0.107,
          0.083,
          0.034,
          0.112,
          0.112,
          0.103,
          0.064,
          0.101,
          0.12,
          0.15,
          0.076,
          0.102,
          0.062,
          0.072,
          0.223,
          0.036,
          0.073,
          0.102,
          0.013,
          0.072,
          0.094,
          0.096,
          0.031,
          0.133,
          0.153,
          0.118,
          0.072,
          0.097,
          0.066,
          0.326,
          0.069,
          0.103,
          0.057,
          0.103,
          0.062,
          0.147,
          0.116,
          0.122,
          0.128,
          0.147,
          0.057,
          0.116,
          0.167,
          0.101,
          0.081,
          0.278,
          0.142,
          0.108,
          0.102,
          0.074,
          0.086,
          0.08,
          0.225,
          0.157,
          0.282,
          0.13,
          0.102,
          0.122,
          0.272,
          0.168,
          0.136,
          0.116,
          0.192,
          0.138,
          0.119,
          0.08,
          0.112,
          0.086,
          0.143,
          0.04,
          0.119,
          0.172,
          0.286,
          0.177,
          0.137,
          0.182,
          0.134,
          0.134,
          0.211,
          0.238,
          0.092,
          0.152,
          0.155,
          0.217,
          0.126,
          0.133,
          0.244,
          0.302,
          0.234,
          0.205,
          0.335,
          0.096,
          0.165,
          0.078,
          0.192,
          0.13,
          0.069,
          0.122,
          0.22,
          0.102,
          0.118,
          0.104,
          0.172,
          0.078,
          0.116,
          0.265,
          0.042,
          0.075,
          0.129,
          0.033,
          0.086,
          0.042,
          0.029,
          0.3,
          0.202,
          0.155,
          0.156,
          0.085,
          0.078,
          0.102,
          0.19,
          0.102,
          0.102,
          0.156,
          0.16,
          0.141,
          0.103,
          0.194,
          0.194,
          0.086,
          0.099,
          0.142,
          0.09,
          0.09,
          0.154,
          0.071,
          0.101,
          0.108,
          0.045,
          0.046,
          0.166,
          0.184,
          0.1,
          0.22,
          0.14,
          0.131,
          0.079,
          0.336,
          0.058,
          0.12,
          0.077,
          0.105,
          0.068,
          0.245,
          0.144,
          0.123,
          0.02,
          0.078,
          0.101,
          0.069,
          0.095,
          0.113,
          0.044,
          0.077,
          0.038,
          0.173,
          0.14,
          0.111,
          0.236,
          0.078,
          0.093,
          0.107,
          0.102,
          0.102,
          0.068,
          0.095,
          0.085,
          0.101,
          0.153,
          0.08,
          0.133,
          0.254,
          0.124,
          0.071,
          0.089,
          0.096,
          0.143,
          0.173,
          0.239,
          0.06,
          0.075,
          0.075,
          0.321,
          0.133,
          0.143,
          0.097,
          0.182,
          0.134,
          0.046,
          0.094,
          0.159,
          0.067,
          0.148,
          0.088,
          0.077,
          0.186,
          0.102,
          0.131,
          0.191,
          0.102,
          0.16,
          0.043,
          0.161,
          0.132,
          0.156,
          0.152,
          0.101,
          0.221,
          0.1,
          0.282,
          0.05,
          0.129,
          0.079,
          0.231,
          0.122,
          0.206,
          0.24,
          0.256,
          0.234,
          0.086,
          0.101,
          0.091,
          0.197,
          0.32,
          0.064,
          0.136,
          0.138,
          0.106,
          0.142,
          0.078,
          0.114,
          0.064,
          0.097,
          0.102,
          0.043,
          0.049,
          0.12,
          0.055,
          0.167,
          0.064,
          0.081,
          0.11,
          0.201,
          0.133,
          0.091,
          0.221,
          0.135,
          0.166,
          0.151,
          0.092,
          0.143,
          0.138,
          0.098,
          0.16,
          0.185,
          0.23,
          0.069,
          0.116,
          0.106,
          0.094,
          0.157,
          0.093,
          0.188,
          0.054,
          0.034,
          0.21,
          0.127,
          0.124,
          0.16,
          0.203,
          0.115,
          0.046,
          0.271,
          0.077,
          0.088,
          0.161,
          0.143,
          0.161,
          0.079,
          0.08,
          0.183,
          0.076,
          0.098,
          0.091,
          0.134,
          0.07,
          0.146,
          0.112,
          0.153,
          0.25,
          0.103,
          0.216,
          0.227,
          0.088,
          0.107,
          0.059,
          0.249,
          0.119,
          0.133,
          0.076,
          0.038,
          0.161,
          0.162,
          0.255,
          0.075,
          0.075,
          0.075,
          0.115,
          0.188,
          0.18,
          0.207,
          0.09,
          0.044,
          0.084,
          0.231,
          0.101,
          0.237,
          0.073,
          0.243,
          0.038,
          0.053,
          0.062,
          0.356,
          0.181,
          0.167,
          0.11,
          0.102,
          0.084,
          0.062,
          0.159,
          0.141,
          0.09,
          0.096,
          0.276,
          0.164,
          0.179,
          0.112,
          0.097,
          0.265,
          0.222,
          0.094,
          0.04,
          0.129,
          0.22,
          0.167,
          0.065,
          0.169,
          0.2,
          0.036,
          0.067,
          0.083,
          0.102,
          0.055,
          0.041,
          0.047,
          0.052,
          0.159,
          0.123,
          0.136,
          0.19,
          0.042,
          0.121,
          0.193,
          0.04,
          0.138,
          0.087,
          0.284,
          0.1,
          0.153,
          0.172,
          0.041,
          0.219,
          0.072,
          0.047,
          0.122,
          0.165,
          0.115,
          0.079,
          0.081,
          0.098,
          0.079,
          0.171,
          0.076,
          0.189,
          0.263,
          0.135,
          0.16,
          0.27,
          0.102,
          0.112,
          0.063,
          0.114,
          0.084,
          0.102,
          0.209,
          0.156,
          0.071,
          0.033,
          0.213,
          0.255,
          0.157,
          0.073,
          0.113,
          0.107,
          0.206,
          0.079,
          0.174,
          0.105,
          0.213,
          0.103,
          0.063,
          0.213,
          0.17,
          0.174,
          0.253,
          0.331,
          0.11,
          0.213,
          0.22,
          0.061,
          0.112,
          0.058,
          0.079,
          0.079,
          0.372,
          0.048,
          0.152,
          0.18,
          0.302,
          0.141,
          0.178,
          0.116,
          0.149,
          0.052,
          0.158,
          0.22,
          0.227,
          0.184,
          0.2,
          0.166,
          0.087,
          0.076,
          0.094,
          0.382,
          0.116,
          0.15,
          0.162,
          0.197,
          0.065,
          0.212,
          0.047,
          0.044,
          0.213,
          0.028,
          0.123,
          0.173,
          0.077,
          0.118,
          0.093,
          0.267,
          0.197,
          0.085,
          0.125,
          0.122,
          0.174,
          0.062,
          0.131,
          0.111,
          0.163,
          0.134,
          0.204,
          0.197,
          0.128,
          0.032,
          0.203,
          0.129,
          0.068,
          0.068,
          0.127,
          0.067,
          0.146,
          0.288,
          0.087,
          0.243,
          0.097,
          0.216,
          0.201,
          0.088,
          0.119,
          0.186,
          0.235,
          0.129,
          0.071,
          0.061,
          0.135,
          0.192,
          0.129,
          0.173,
          0.134,
          0.12,
          0.181,
          0.135,
          0.058,
          0.062,
          0.205,
          0.18,
          0.153,
          0.073,
          0.173,
          0.077,
          0.199,
          0.033,
          0.394,
          0.121,
          0.109,
          0.099,
          0.05,
          0.045,
          0.035,
          0.093,
          0.137,
          0.199,
          0.145,
          0.104,
          0.099,
          0.182,
          0.2,
          0.154,
          0.071,
          0.186,
          0.18,
          0.105,
          0.333,
          0.156,
          0.081,
          0.135,
          0.148,
          0.204,
          0.195,
          0.148,
          0.022,
          0.278,
          0.083,
          0.106,
          0.232,
          0.292,
          0.171,
          0.259,
          0.038,
          0.246,
          0.051,
          0.077,
          0.053,
          0.071,
          0.152,
          0.119,
          0.357,
          0.118,
          0.148,
          0.121,
          0.134,
          0.18,
          0.059,
          0.349,
          0.277,
          0.097,
          0.234,
          0.171,
          0.143,
          0.14,
          0.104,
          0.114,
          0.224,
          0.101,
          0.046,
          0.089,
          0.11,
          0.121,
          0.049,
          0.187,
          0.164,
          0.156,
          0.087,
          0.068,
          0.162,
          0.129,
          0.331,
          0.125,
          0.114,
          0.116,
          0.114,
          0.067,
          0.292,
          0.078,
          0.248,
          0.104,
          0.104,
          0.184,
          0.127,
          0.127,
          0.077,
          0.036,
          0.211,
          0.08,
          0.294,
          0.135,
          0.056,
          0.163,
          0.074,
          0.107,
          0.123,
          0.138,
          0.211,
          0.105,
          0.174,
          0.048,
          0.23,
          0.06
         ],
         "yaxis": "y"
        },
        {
         "hovertemplate": "Sentiment=Negative<br>Post Date=%{x}<br>pos=%{y}<extra></extra>",
         "legendgroup": "Negative",
         "line": {
          "color": "#00cc96",
          "dash": "solid"
         },
         "mode": "lines",
         "name": "Negative",
         "showlegend": true,
         "type": "scattergl",
         "x": [
          "2019-10-14T05:55:32.553",
          "2019-10-14T22:38:08.26",
          "2019-10-21T09:43:33.513",
          "2019-10-21T12:40:40.86",
          "2019-10-23T06:23:11.657",
          "2019-10-24T06:19:46.603",
          "2019-10-24T14:04:33.85",
          "2019-10-25T11:54:33.85",
          "2019-10-30T08:21:45.053",
          "2019-10-30T18:45:20.75",
          "2019-10-31T23:57:45.833",
          "2019-11-01T07:45:56.387",
          "2019-11-10T01:44:11.28",
          "2019-11-14T03:28:57.637",
          "2019-11-18T10:12:47.987",
          "2019-11-20T05:47:36.783",
          "2019-11-29T02:39:25.357",
          "2019-12-03T14:56:05.093",
          "2019-12-03T16:06:57.23",
          "2019-12-09T07:10:55.167",
          "2019-12-10T07:50:29.637",
          "2019-12-10T10:55:22.36",
          "2019-12-12T10:17:39.717",
          "2019-12-20T08:29:43.793",
          "2019-12-21T07:25:05.07",
          "2019-12-24T06:44:49.68",
          "2020-01-03T04:40:24.317",
          "2020-01-05T08:26:52.923",
          "2020-01-14T07:18:24.06",
          "2020-01-16T01:35:18.87",
          "2020-01-20T17:44:58.307",
          "2020-01-24T06:49:45.39",
          "2020-01-29T10:26:02.32",
          "2020-02-03T09:59:10.557",
          "2020-02-03T13:33:12.313",
          "2020-02-05T11:30:08.943",
          "2020-02-11T17:09:02.48",
          "2020-02-12T09:04:32.27",
          "2020-02-12T14:51:42.37",
          "2020-02-14T10:24:51.933",
          "2020-02-26T12:34:35.337",
          "2020-03-04T20:50:43.727",
          "2020-03-10T11:43:30.047",
          "2020-03-17T10:57:57.617",
          "2020-03-17T12:46:10.82",
          "2020-03-17T17:40:54.64",
          "2020-03-30T04:21:56.913",
          "2020-04-09T23:22:33.47",
          "2020-04-14T04:48:03.713",
          "2020-04-14T11:03:59.167",
          "2020-04-16T08:10:59.29",
          "2020-04-16T16:12:38.977",
          "2020-04-16T16:41:02.65",
          "2020-04-23T02:31:29.827",
          "2020-04-23T17:09:27.673",
          "2020-05-05T10:32:52.917",
          "2020-05-06T07:12:28.073",
          "2020-05-06T10:17:41.447",
          "2020-05-07T03:54:23.82",
          "2020-05-07T10:30:47.55",
          "2020-05-12T07:44:49.72",
          "2020-05-13T09:12:49.927",
          "2020-05-13T14:43:08.657",
          "2020-05-14T03:52:10.373",
          "2020-05-14T17:51:27.473",
          "2020-05-19T22:05:27.747",
          "2020-05-20T07:46:08.763",
          "2020-05-22T09:04:36.597",
          "2020-05-24T07:44:59.96",
          "2020-05-25T11:51:41.683",
          "2020-05-25T12:12:56.96",
          "2020-05-28T04:33:45.413",
          "2020-05-28T21:23:28.48",
          "2020-05-31T11:34:13.967",
          "2020-06-01T02:08:55.463",
          "2020-06-02T05:15:07.377",
          "2020-06-08T10:15:40.8",
          "2020-06-17T09:23:08.72",
          "2020-06-17T10:47:18.047",
          "2020-06-19T05:37:59.09",
          "2020-06-29T17:02:31.54",
          "2020-07-06T05:50:50.78",
          "2020-07-06T09:19:59.403",
          "2020-07-10T08:52:51.04",
          "2020-07-11T20:29:03.777",
          "2020-07-13T02:40:11.35",
          "2020-07-17T14:17:43.9",
          "2020-07-20T13:16:24.25",
          "2020-07-21T04:25:05.703",
          "2020-07-21T11:25:17.723",
          "2020-07-24T15:17:29.263",
          "2020-07-31T03:00:29.553",
          "2020-08-01T06:40:03.033",
          "2020-08-02T08:21:09.453",
          "2020-08-06T16:30:31.317",
          "2020-08-11T20:18:22.113",
          "2020-08-14T06:48:55.553",
          "2020-08-17T10:09:37.347",
          "2020-08-18T10:10:32.407",
          "2020-09-03T14:53:10.197",
          "2020-09-04T08:34:40.003",
          "2020-09-08T10:35:57.717",
          "2020-09-09T04:14:26.247",
          "2020-09-09T07:05:09.473",
          "2020-09-09T19:09:12.01",
          "2020-09-11T14:32:09.763",
          "2020-09-22T03:04:06.773",
          "2020-09-22T12:56:21.417",
          "2020-09-23T07:34:25.193",
          "2020-09-27T00:39:00.507",
          "2020-09-30T11:28:12.57",
          "2020-10-05T01:11:31.057",
          "2020-10-05T22:58:21.4",
          "2020-10-07T04:49:35.287",
          "2020-10-07T06:19:26.927",
          "2020-10-08T07:26:39.637",
          "2020-10-08T16:26:59.76",
          "2020-10-09T19:17:29.443",
          "2020-10-13T13:02:42.213",
          "2020-10-13T18:32:15.773",
          "2020-10-16T18:36:31.273",
          "2020-10-19T22:07:38.62",
          "2020-10-20T16:35:09.947",
          "2020-10-21T12:58:42.72",
          "2020-10-21T13:33:08.743",
          "2020-10-21T14:06:01.427",
          "2020-10-28T05:57:09.547",
          "2020-10-28T13:28:28.833",
          "2020-10-28T15:58:04.637",
          "2020-10-29T01:39:26.437",
          "2020-11-02T16:14:49.56",
          "2020-11-09T08:23:02.983",
          "2020-11-11T06:00:38.383",
          "2020-11-12T18:39:57.223",
          "2020-11-13T18:33:05.46",
          "2020-11-18T11:41:37.49",
          "2020-11-19T16:56:39.44",
          "2020-11-25T11:17:47.587",
          "2020-11-25T13:13:05.463",
          "2020-11-26T11:43:14.277",
          "2020-12-02T15:54:46.727",
          "2020-12-03T15:45:18.923",
          "2020-12-06T07:13:50.297",
          "2020-12-08T06:45:13.323",
          "2020-12-08T12:43:05.35",
          "2020-12-11T09:05:13.287",
          "2020-12-16T11:24:45.933",
          "2020-12-16T16:31:08.12",
          "2020-12-21T08:30:12.503",
          "2020-12-22T04:59:41.42",
          "2020-12-23T09:59:10.2",
          "2020-12-28T02:51:24.99",
          "2020-12-28T15:09:46.85",
          "2020-12-29T08:45:35.597",
          "2020-12-29T15:13:04.71",
          "2021-01-09T23:27:17.513",
          "2021-01-12T06:59:45.843",
          "2021-01-12T08:16:59.57",
          "2021-01-12T23:48:05.1",
          "2021-01-15T06:20:18.943",
          "2021-01-16T07:56:33.363",
          "2021-01-18T00:23:54.957",
          "2021-01-20T07:58:12.823",
          "2021-01-21T09:00:33.853",
          "2021-01-27T01:26:58.78",
          "2021-01-27T13:06:46.71",
          "2021-02-03T06:28:55.87",
          "2021-02-03T14:28:38.48",
          "2021-02-05T09:38:55.053",
          "2021-02-08T14:35:14.027",
          "2021-02-10T06:07:45.91",
          "2021-02-10T13:30:52.19",
          "2021-02-16T14:37:14.58",
          "2021-02-17T00:44:34.993",
          "2021-02-26T11:57:02.543",
          "2021-02-27T07:31:29.457",
          "2021-03-03T03:05:35.877",
          "2021-03-03T09:20:39.307",
          "2021-03-03T16:19:15.397",
          "2021-03-04T11:01:28.96",
          "2021-03-06T06:54:56.57",
          "2021-03-09T11:05:19.053",
          "2021-03-09T17:00:23.213",
          "2021-03-16T07:06:57.6",
          "2021-03-16T15:19:27.047",
          "2021-03-19T11:31:47.557",
          "2021-03-22T03:47:12.6",
          "2021-03-24T09:04:13.813",
          "2021-04-07T14:44:07.22",
          "2021-04-09T14:10:26.533",
          "2021-04-10T03:29:32.747",
          "2021-04-10T15:57:59.943",
          "2021-04-20T11:43:36.217",
          "2021-04-22T07:32:19.79",
          "2021-04-30T15:41:33.667",
          "2021-05-06T06:08:48.817",
          "2021-05-06T10:55:46.883",
          "2021-05-11T16:15:01.67",
          "2021-05-14T08:27:02.38",
          "2021-05-17T10:44:03.017",
          "2021-05-17T12:41:24.27",
          "2021-05-18T00:14:22.057",
          "2021-05-19T09:46:33.497",
          "2021-05-23T15:49:03.797",
          "2021-05-25T16:41:37.953",
          "2021-05-27T07:12:50.66",
          "2021-06-03T04:46:03.063",
          "2021-06-04T19:14:13.09"
         ],
         "xaxis": "x",
         "y": [
          0.017,
          0.052,
          0.034,
          0.021,
          0.044,
          0.049,
          0.106,
          0.057,
          0.11,
          0.058,
          0.027,
          0.052,
          0.038,
          0.028,
          0.038,
          0.055,
          0.107,
          0.066,
          0,
          0.026,
          0.049,
          0.042,
          0,
          0,
          0.031,
          0,
          0.113,
          0.038,
          0.102,
          0.016,
          0.079,
          0.046,
          0.033,
          0.058,
          0.017,
          0,
          0.03,
          0.031,
          0.017,
          0.09,
          0,
          0.061,
          0.101,
          0,
          0.073,
          0.022,
          0.078,
          0.095,
          0.068,
          0,
          0.029,
          0,
          0.014,
          0,
          0,
          0,
          0.031,
          0.049,
          0.12,
          0,
          0.115,
          0,
          0.026,
          0,
          0.046,
          0.198,
          0.113,
          0,
          0.065,
          0,
          0,
          0.027,
          0.074,
          0.047,
          0,
          0.029,
          0.045,
          0.028,
          0.046,
          0,
          0,
          0.014,
          0,
          0.015,
          0.043,
          0.051,
          0.092,
          0.039,
          0,
          0.065,
          0.028,
          0.058,
          0.041,
          0.091,
          0.048,
          0.142,
          0.106,
          0.056,
          0.064,
          0,
          0.052,
          0.049,
          0.053,
          0.049,
          0.026,
          0.053,
          0,
          0.018,
          0.042,
          0.04,
          0.024,
          0.065,
          0.077,
          0,
          0,
          0.034,
          0.036,
          0,
          0,
          0.037,
          0.012,
          0.045,
          0.033,
          0.043,
          0.082,
          0.077,
          0.159,
          0,
          0.038,
          0.048,
          0,
          0.041,
          0,
          0.027,
          0.043,
          0.066,
          0.042,
          0.103,
          0.059,
          0.126,
          0.092,
          0,
          0.107,
          0.066,
          0.063,
          0.014,
          0.062,
          0,
          0.041,
          0.11,
          0.032,
          0.087,
          0.052,
          0,
          0,
          0.069,
          0,
          0.079,
          0.094,
          0.204,
          0.105,
          0.055,
          0.14,
          0,
          0.059,
          0.034,
          0.107,
          0.039,
          0.058,
          0.059,
          0,
          0.049,
          0.192,
          0.015,
          0,
          0.107,
          0.03,
          0,
          0,
          0.054,
          0.048,
          0.024,
          0,
          0,
          0.066,
          0,
          0.057,
          0.108,
          0.066,
          0.035,
          0.07,
          0.039,
          0.129,
          0.078,
          0.03,
          0.115,
          0.072,
          0.092,
          0.042,
          0.076,
          0.032,
          0.102,
          0,
          0.092,
          0.016,
          0,
          0.1,
          0.02
         ],
         "yaxis": "y"
        }
       ],
       "layout": {
        "legend": {
         "title": {
          "text": "Sentiment"
         },
         "tracegroupgap": 0
        },
        "margin": {
         "t": 60
        },
        "template": {
         "data": {
          "bar": [
           {
            "error_x": {
             "color": "#2a3f5f"
            },
            "error_y": {
             "color": "#2a3f5f"
            },
            "marker": {
             "line": {
              "color": "#E5ECF6",
              "width": 0.5
             }
            },
            "type": "bar"
           }
          ],
          "barpolar": [
           {
            "marker": {
             "line": {
              "color": "#E5ECF6",
              "width": 0.5
             }
            },
            "type": "barpolar"
           }
          ],
          "carpet": [
           {
            "aaxis": {
             "endlinecolor": "#2a3f5f",
             "gridcolor": "white",
             "linecolor": "white",
             "minorgridcolor": "white",
             "startlinecolor": "#2a3f5f"
            },
            "baxis": {
             "endlinecolor": "#2a3f5f",
             "gridcolor": "white",
             "linecolor": "white",
             "minorgridcolor": "white",
             "startlinecolor": "#2a3f5f"
            },
            "type": "carpet"
           }
          ],
          "choropleth": [
           {
            "colorbar": {
             "outlinewidth": 0,
             "ticks": ""
            },
            "type": "choropleth"
           }
          ],
          "contour": [
           {
            "colorbar": {
             "outlinewidth": 0,
             "ticks": ""
            },
            "colorscale": [
             [
              0,
              "#0d0887"
             ],
             [
              0.1111111111111111,
              "#46039f"
             ],
             [
              0.2222222222222222,
              "#7201a8"
             ],
             [
              0.3333333333333333,
              "#9c179e"
             ],
             [
              0.4444444444444444,
              "#bd3786"
             ],
             [
              0.5555555555555556,
              "#d8576b"
             ],
             [
              0.6666666666666666,
              "#ed7953"
             ],
             [
              0.7777777777777778,
              "#fb9f3a"
             ],
             [
              0.8888888888888888,
              "#fdca26"
             ],
             [
              1,
              "#f0f921"
             ]
            ],
            "type": "contour"
           }
          ],
          "contourcarpet": [
           {
            "colorbar": {
             "outlinewidth": 0,
             "ticks": ""
            },
            "type": "contourcarpet"
           }
          ],
          "heatmap": [
           {
            "colorbar": {
             "outlinewidth": 0,
             "ticks": ""
            },
            "colorscale": [
             [
              0,
              "#0d0887"
             ],
             [
              0.1111111111111111,
              "#46039f"
             ],
             [
              0.2222222222222222,
              "#7201a8"
             ],
             [
              0.3333333333333333,
              "#9c179e"
             ],
             [
              0.4444444444444444,
              "#bd3786"
             ],
             [
              0.5555555555555556,
              "#d8576b"
             ],
             [
              0.6666666666666666,
              "#ed7953"
             ],
             [
              0.7777777777777778,
              "#fb9f3a"
             ],
             [
              0.8888888888888888,
              "#fdca26"
             ],
             [
              1,
              "#f0f921"
             ]
            ],
            "type": "heatmap"
           }
          ],
          "heatmapgl": [
           {
            "colorbar": {
             "outlinewidth": 0,
             "ticks": ""
            },
            "colorscale": [
             [
              0,
              "#0d0887"
             ],
             [
              0.1111111111111111,
              "#46039f"
             ],
             [
              0.2222222222222222,
              "#7201a8"
             ],
             [
              0.3333333333333333,
              "#9c179e"
             ],
             [
              0.4444444444444444,
              "#bd3786"
             ],
             [
              0.5555555555555556,
              "#d8576b"
             ],
             [
              0.6666666666666666,
              "#ed7953"
             ],
             [
              0.7777777777777778,
              "#fb9f3a"
             ],
             [
              0.8888888888888888,
              "#fdca26"
             ],
             [
              1,
              "#f0f921"
             ]
            ],
            "type": "heatmapgl"
           }
          ],
          "histogram": [
           {
            "marker": {
             "colorbar": {
              "outlinewidth": 0,
              "ticks": ""
             }
            },
            "type": "histogram"
           }
          ],
          "histogram2d": [
           {
            "colorbar": {
             "outlinewidth": 0,
             "ticks": ""
            },
            "colorscale": [
             [
              0,
              "#0d0887"
             ],
             [
              0.1111111111111111,
              "#46039f"
             ],
             [
              0.2222222222222222,
              "#7201a8"
             ],
             [
              0.3333333333333333,
              "#9c179e"
             ],
             [
              0.4444444444444444,
              "#bd3786"
             ],
             [
              0.5555555555555556,
              "#d8576b"
             ],
             [
              0.6666666666666666,
              "#ed7953"
             ],
             [
              0.7777777777777778,
              "#fb9f3a"
             ],
             [
              0.8888888888888888,
              "#fdca26"
             ],
             [
              1,
              "#f0f921"
             ]
            ],
            "type": "histogram2d"
           }
          ],
          "histogram2dcontour": [
           {
            "colorbar": {
             "outlinewidth": 0,
             "ticks": ""
            },
            "colorscale": [
             [
              0,
              "#0d0887"
             ],
             [
              0.1111111111111111,
              "#46039f"
             ],
             [
              0.2222222222222222,
              "#7201a8"
             ],
             [
              0.3333333333333333,
              "#9c179e"
             ],
             [
              0.4444444444444444,
              "#bd3786"
             ],
             [
              0.5555555555555556,
              "#d8576b"
             ],
             [
              0.6666666666666666,
              "#ed7953"
             ],
             [
              0.7777777777777778,
              "#fb9f3a"
             ],
             [
              0.8888888888888888,
              "#fdca26"
             ],
             [
              1,
              "#f0f921"
             ]
            ],
            "type": "histogram2dcontour"
           }
          ],
          "mesh3d": [
           {
            "colorbar": {
             "outlinewidth": 0,
             "ticks": ""
            },
            "type": "mesh3d"
           }
          ],
          "parcoords": [
           {
            "line": {
             "colorbar": {
              "outlinewidth": 0,
              "ticks": ""
             }
            },
            "type": "parcoords"
           }
          ],
          "pie": [
           {
            "automargin": true,
            "type": "pie"
           }
          ],
          "scatter": [
           {
            "marker": {
             "colorbar": {
              "outlinewidth": 0,
              "ticks": ""
             }
            },
            "type": "scatter"
           }
          ],
          "scatter3d": [
           {
            "line": {
             "colorbar": {
              "outlinewidth": 0,
              "ticks": ""
             }
            },
            "marker": {
             "colorbar": {
              "outlinewidth": 0,
              "ticks": ""
             }
            },
            "type": "scatter3d"
           }
          ],
          "scattercarpet": [
           {
            "marker": {
             "colorbar": {
              "outlinewidth": 0,
              "ticks": ""
             }
            },
            "type": "scattercarpet"
           }
          ],
          "scattergeo": [
           {
            "marker": {
             "colorbar": {
              "outlinewidth": 0,
              "ticks": ""
             }
            },
            "type": "scattergeo"
           }
          ],
          "scattergl": [
           {
            "marker": {
             "colorbar": {
              "outlinewidth": 0,
              "ticks": ""
             }
            },
            "type": "scattergl"
           }
          ],
          "scattermapbox": [
           {
            "marker": {
             "colorbar": {
              "outlinewidth": 0,
              "ticks": ""
             }
            },
            "type": "scattermapbox"
           }
          ],
          "scatterpolar": [
           {
            "marker": {
             "colorbar": {
              "outlinewidth": 0,
              "ticks": ""
             }
            },
            "type": "scatterpolar"
           }
          ],
          "scatterpolargl": [
           {
            "marker": {
             "colorbar": {
              "outlinewidth": 0,
              "ticks": ""
             }
            },
            "type": "scatterpolargl"
           }
          ],
          "scatterternary": [
           {
            "marker": {
             "colorbar": {
              "outlinewidth": 0,
              "ticks": ""
             }
            },
            "type": "scatterternary"
           }
          ],
          "surface": [
           {
            "colorbar": {
             "outlinewidth": 0,
             "ticks": ""
            },
            "colorscale": [
             [
              0,
              "#0d0887"
             ],
             [
              0.1111111111111111,
              "#46039f"
             ],
             [
              0.2222222222222222,
              "#7201a8"
             ],
             [
              0.3333333333333333,
              "#9c179e"
             ],
             [
              0.4444444444444444,
              "#bd3786"
             ],
             [
              0.5555555555555556,
              "#d8576b"
             ],
             [
              0.6666666666666666,
              "#ed7953"
             ],
             [
              0.7777777777777778,
              "#fb9f3a"
             ],
             [
              0.8888888888888888,
              "#fdca26"
             ],
             [
              1,
              "#f0f921"
             ]
            ],
            "type": "surface"
           }
          ],
          "table": [
           {
            "cells": {
             "fill": {
              "color": "#EBF0F8"
             },
             "line": {
              "color": "white"
             }
            },
            "header": {
             "fill": {
              "color": "#C8D4E3"
             },
             "line": {
              "color": "white"
             }
            },
            "type": "table"
           }
          ]
         },
         "layout": {
          "annotationdefaults": {
           "arrowcolor": "#2a3f5f",
           "arrowhead": 0,
           "arrowwidth": 1
          },
          "autotypenumbers": "strict",
          "coloraxis": {
           "colorbar": {
            "outlinewidth": 0,
            "ticks": ""
           }
          },
          "colorscale": {
           "diverging": [
            [
             0,
             "#8e0152"
            ],
            [
             0.1,
             "#c51b7d"
            ],
            [
             0.2,
             "#de77ae"
            ],
            [
             0.3,
             "#f1b6da"
            ],
            [
             0.4,
             "#fde0ef"
            ],
            [
             0.5,
             "#f7f7f7"
            ],
            [
             0.6,
             "#e6f5d0"
            ],
            [
             0.7,
             "#b8e186"
            ],
            [
             0.8,
             "#7fbc41"
            ],
            [
             0.9,
             "#4d9221"
            ],
            [
             1,
             "#276419"
            ]
           ],
           "sequential": [
            [
             0,
             "#0d0887"
            ],
            [
             0.1111111111111111,
             "#46039f"
            ],
            [
             0.2222222222222222,
             "#7201a8"
            ],
            [
             0.3333333333333333,
             "#9c179e"
            ],
            [
             0.4444444444444444,
             "#bd3786"
            ],
            [
             0.5555555555555556,
             "#d8576b"
            ],
            [
             0.6666666666666666,
             "#ed7953"
            ],
            [
             0.7777777777777778,
             "#fb9f3a"
            ],
            [
             0.8888888888888888,
             "#fdca26"
            ],
            [
             1,
             "#f0f921"
            ]
           ],
           "sequentialminus": [
            [
             0,
             "#0d0887"
            ],
            [
             0.1111111111111111,
             "#46039f"
            ],
            [
             0.2222222222222222,
             "#7201a8"
            ],
            [
             0.3333333333333333,
             "#9c179e"
            ],
            [
             0.4444444444444444,
             "#bd3786"
            ],
            [
             0.5555555555555556,
             "#d8576b"
            ],
            [
             0.6666666666666666,
             "#ed7953"
            ],
            [
             0.7777777777777778,
             "#fb9f3a"
            ],
            [
             0.8888888888888888,
             "#fdca26"
            ],
            [
             1,
             "#f0f921"
            ]
           ]
          },
          "colorway": [
           "#636efa",
           "#EF553B",
           "#00cc96",
           "#ab63fa",
           "#FFA15A",
           "#19d3f3",
           "#FF6692",
           "#B6E880",
           "#FF97FF",
           "#FECB52"
          ],
          "font": {
           "color": "#2a3f5f"
          },
          "geo": {
           "bgcolor": "white",
           "lakecolor": "white",
           "landcolor": "#E5ECF6",
           "showlakes": true,
           "showland": true,
           "subunitcolor": "white"
          },
          "hoverlabel": {
           "align": "left"
          },
          "hovermode": "closest",
          "mapbox": {
           "style": "light"
          },
          "paper_bgcolor": "white",
          "plot_bgcolor": "#E5ECF6",
          "polar": {
           "angularaxis": {
            "gridcolor": "white",
            "linecolor": "white",
            "ticks": ""
           },
           "bgcolor": "#E5ECF6",
           "radialaxis": {
            "gridcolor": "white",
            "linecolor": "white",
            "ticks": ""
           }
          },
          "scene": {
           "xaxis": {
            "backgroundcolor": "#E5ECF6",
            "gridcolor": "white",
            "gridwidth": 2,
            "linecolor": "white",
            "showbackground": true,
            "ticks": "",
            "zerolinecolor": "white"
           },
           "yaxis": {
            "backgroundcolor": "#E5ECF6",
            "gridcolor": "white",
            "gridwidth": 2,
            "linecolor": "white",
            "showbackground": true,
            "ticks": "",
            "zerolinecolor": "white"
           },
           "zaxis": {
            "backgroundcolor": "#E5ECF6",
            "gridcolor": "white",
            "gridwidth": 2,
            "linecolor": "white",
            "showbackground": true,
            "ticks": "",
            "zerolinecolor": "white"
           }
          },
          "shapedefaults": {
           "line": {
            "color": "#2a3f5f"
           }
          },
          "ternary": {
           "aaxis": {
            "gridcolor": "white",
            "linecolor": "white",
            "ticks": ""
           },
           "baxis": {
            "gridcolor": "white",
            "linecolor": "white",
            "ticks": ""
           },
           "bgcolor": "#E5ECF6",
           "caxis": {
            "gridcolor": "white",
            "linecolor": "white",
            "ticks": ""
           }
          },
          "title": {
           "x": 0.05
          },
          "xaxis": {
           "automargin": true,
           "gridcolor": "white",
           "linecolor": "white",
           "ticks": "",
           "title": {
            "standoff": 15
           },
           "zerolinecolor": "white",
           "zerolinewidth": 2
          },
          "yaxis": {
           "automargin": true,
           "gridcolor": "white",
           "linecolor": "white",
           "ticks": "",
           "title": {
            "standoff": 15
           },
           "zerolinecolor": "white",
           "zerolinewidth": 2
          }
         }
        },
        "xaxis": {
         "anchor": "y",
         "domain": [
          0,
          1
         ],
         "title": {
          "text": "Post Date"
         }
        },
        "yaxis": {
         "anchor": "x",
         "domain": [
          0,
          1
         ],
         "title": {
          "text": "pos"
         }
        }
       }
      }
     },
     "metadata": {},
     "output_type": "display_data"
    }
   ],
   "source": [
    "fig = px.line(df2, x='Post Date', y='pos', color='Sentiment')\r\n",
    "fig.show()"
   ]
  },
  {
   "cell_type": "code",
   "execution_count": 55,
   "metadata": {},
   "outputs": [
    {
     "ename": "KeyError",
     "evalue": "'PostDate'",
     "output_type": "error",
     "traceback": [
      "\u001b[1;31m---------------------------------------------------------------------------\u001b[0m",
      "\u001b[1;31mKeyError\u001b[0m                                  Traceback (most recent call last)",
      "\u001b[1;32m~\\Anaconda3\\lib\\site-packages\\pandas\\core\\indexes\\base.py\u001b[0m in \u001b[0;36mget_loc\u001b[1;34m(self, key, method, tolerance)\u001b[0m\n\u001b[0;32m   3079\u001b[0m             \u001b[1;32mtry\u001b[0m\u001b[1;33m:\u001b[0m\u001b[1;33m\u001b[0m\u001b[1;33m\u001b[0m\u001b[0m\n\u001b[1;32m-> 3080\u001b[1;33m                 \u001b[1;32mreturn\u001b[0m \u001b[0mself\u001b[0m\u001b[1;33m.\u001b[0m\u001b[0m_engine\u001b[0m\u001b[1;33m.\u001b[0m\u001b[0mget_loc\u001b[0m\u001b[1;33m(\u001b[0m\u001b[0mcasted_key\u001b[0m\u001b[1;33m)\u001b[0m\u001b[1;33m\u001b[0m\u001b[1;33m\u001b[0m\u001b[0m\n\u001b[0m\u001b[0;32m   3081\u001b[0m             \u001b[1;32mexcept\u001b[0m \u001b[0mKeyError\u001b[0m \u001b[1;32mas\u001b[0m \u001b[0merr\u001b[0m\u001b[1;33m:\u001b[0m\u001b[1;33m\u001b[0m\u001b[1;33m\u001b[0m\u001b[0m\n",
      "\u001b[1;32mpandas\\_libs\\index.pyx\u001b[0m in \u001b[0;36mpandas._libs.index.IndexEngine.get_loc\u001b[1;34m()\u001b[0m\n",
      "\u001b[1;32mpandas\\_libs\\index.pyx\u001b[0m in \u001b[0;36mpandas._libs.index.IndexEngine.get_loc\u001b[1;34m()\u001b[0m\n",
      "\u001b[1;32mpandas\\_libs\\hashtable_class_helper.pxi\u001b[0m in \u001b[0;36mpandas._libs.hashtable.PyObjectHashTable.get_item\u001b[1;34m()\u001b[0m\n",
      "\u001b[1;32mpandas\\_libs\\hashtable_class_helper.pxi\u001b[0m in \u001b[0;36mpandas._libs.hashtable.PyObjectHashTable.get_item\u001b[1;34m()\u001b[0m\n",
      "\u001b[1;31mKeyError\u001b[0m: 'PostDate'",
      "\nThe above exception was the direct cause of the following exception:\n",
      "\u001b[1;31mKeyError\u001b[0m                                  Traceback (most recent call last)",
      "\u001b[1;32m<ipython-input-55-82c90076bc36>\u001b[0m in \u001b[0;36m<module>\u001b[1;34m\u001b[0m\n\u001b[0;32m     31\u001b[0m                 \u001b[0mfill_color\u001b[0m\u001b[1;33m=\u001b[0m\u001b[0mheaderColor\u001b[0m\u001b[1;33m,\u001b[0m\u001b[1;33m\u001b[0m\u001b[1;33m\u001b[0m\u001b[0m\n\u001b[0;32m     32\u001b[0m                 align=alignment),\n\u001b[1;32m---> 33\u001b[1;33m     cells=dict(values=[df['PostDate'].dt.strftime(\"%m/%d/%y %H:%M:%S\"), df.Forum_Post_Raw, df['User DisplayName'], df.neg, df.neu, df.pos],\n\u001b[0m\u001b[0;32m     34\u001b[0m                \u001b[0mfill_color\u001b[0m \u001b[1;33m=\u001b[0m \u001b[1;33m[\u001b[0m\u001b[1;33m[\u001b[0m\u001b[0mrowOddColor\u001b[0m\u001b[1;33m,\u001b[0m\u001b[0mrowEvenColor\u001b[0m\u001b[1;33m]\u001b[0m\u001b[1;33m*\u001b[0m\u001b[0mdf\u001b[0m\u001b[1;33m.\u001b[0m\u001b[0mshape\u001b[0m\u001b[1;33m[\u001b[0m\u001b[1;36m0\u001b[0m\u001b[1;33m]\u001b[0m\u001b[1;33m]\u001b[0m\u001b[1;33m,\u001b[0m\u001b[1;33m\u001b[0m\u001b[1;33m\u001b[0m\u001b[0m\n\u001b[0;32m     35\u001b[0m                align=alignment))\n",
      "\u001b[1;32m~\\Anaconda3\\lib\\site-packages\\pandas\\core\\frame.py\u001b[0m in \u001b[0;36m__getitem__\u001b[1;34m(self, key)\u001b[0m\n\u001b[0;32m   3022\u001b[0m             \u001b[1;32mif\u001b[0m \u001b[0mself\u001b[0m\u001b[1;33m.\u001b[0m\u001b[0mcolumns\u001b[0m\u001b[1;33m.\u001b[0m\u001b[0mnlevels\u001b[0m \u001b[1;33m>\u001b[0m \u001b[1;36m1\u001b[0m\u001b[1;33m:\u001b[0m\u001b[1;33m\u001b[0m\u001b[1;33m\u001b[0m\u001b[0m\n\u001b[0;32m   3023\u001b[0m                 \u001b[1;32mreturn\u001b[0m \u001b[0mself\u001b[0m\u001b[1;33m.\u001b[0m\u001b[0m_getitem_multilevel\u001b[0m\u001b[1;33m(\u001b[0m\u001b[0mkey\u001b[0m\u001b[1;33m)\u001b[0m\u001b[1;33m\u001b[0m\u001b[1;33m\u001b[0m\u001b[0m\n\u001b[1;32m-> 3024\u001b[1;33m             \u001b[0mindexer\u001b[0m \u001b[1;33m=\u001b[0m \u001b[0mself\u001b[0m\u001b[1;33m.\u001b[0m\u001b[0mcolumns\u001b[0m\u001b[1;33m.\u001b[0m\u001b[0mget_loc\u001b[0m\u001b[1;33m(\u001b[0m\u001b[0mkey\u001b[0m\u001b[1;33m)\u001b[0m\u001b[1;33m\u001b[0m\u001b[1;33m\u001b[0m\u001b[0m\n\u001b[0m\u001b[0;32m   3025\u001b[0m             \u001b[1;32mif\u001b[0m \u001b[0mis_integer\u001b[0m\u001b[1;33m(\u001b[0m\u001b[0mindexer\u001b[0m\u001b[1;33m)\u001b[0m\u001b[1;33m:\u001b[0m\u001b[1;33m\u001b[0m\u001b[1;33m\u001b[0m\u001b[0m\n\u001b[0;32m   3026\u001b[0m                 \u001b[0mindexer\u001b[0m \u001b[1;33m=\u001b[0m \u001b[1;33m[\u001b[0m\u001b[0mindexer\u001b[0m\u001b[1;33m]\u001b[0m\u001b[1;33m\u001b[0m\u001b[1;33m\u001b[0m\u001b[0m\n",
      "\u001b[1;32m~\\Anaconda3\\lib\\site-packages\\pandas\\core\\indexes\\base.py\u001b[0m in \u001b[0;36mget_loc\u001b[1;34m(self, key, method, tolerance)\u001b[0m\n\u001b[0;32m   3080\u001b[0m                 \u001b[1;32mreturn\u001b[0m \u001b[0mself\u001b[0m\u001b[1;33m.\u001b[0m\u001b[0m_engine\u001b[0m\u001b[1;33m.\u001b[0m\u001b[0mget_loc\u001b[0m\u001b[1;33m(\u001b[0m\u001b[0mcasted_key\u001b[0m\u001b[1;33m)\u001b[0m\u001b[1;33m\u001b[0m\u001b[1;33m\u001b[0m\u001b[0m\n\u001b[0;32m   3081\u001b[0m             \u001b[1;32mexcept\u001b[0m \u001b[0mKeyError\u001b[0m \u001b[1;32mas\u001b[0m \u001b[0merr\u001b[0m\u001b[1;33m:\u001b[0m\u001b[1;33m\u001b[0m\u001b[1;33m\u001b[0m\u001b[0m\n\u001b[1;32m-> 3082\u001b[1;33m                 \u001b[1;32mraise\u001b[0m \u001b[0mKeyError\u001b[0m\u001b[1;33m(\u001b[0m\u001b[0mkey\u001b[0m\u001b[1;33m)\u001b[0m \u001b[1;32mfrom\u001b[0m \u001b[0merr\u001b[0m\u001b[1;33m\u001b[0m\u001b[1;33m\u001b[0m\u001b[0m\n\u001b[0m\u001b[0;32m   3083\u001b[0m \u001b[1;33m\u001b[0m\u001b[0m\n\u001b[0;32m   3084\u001b[0m         \u001b[1;32mif\u001b[0m \u001b[0mtolerance\u001b[0m \u001b[1;32mis\u001b[0m \u001b[1;32mnot\u001b[0m \u001b[1;32mNone\u001b[0m\u001b[1;33m:\u001b[0m\u001b[1;33m\u001b[0m\u001b[1;33m\u001b[0m\u001b[0m\n",
      "\u001b[1;31mKeyError\u001b[0m: 'PostDate'"
     ]
    }
   ],
   "source": [
    "# fig = go.figure(\r\n",
    "#     go.Table(\r\n",
    "#         columnwidth = [50,300,60,40,40],\r\n",
    "#         header=dict(\r\n",
    "#             values=[\"Timestamp\", \"Forum_Post_Raw\", \"User DisplayName\", \"Negative\", \"Neutral\", \"Positive\"],\r\n",
    "#             font=dict(size=10),\r\n",
    "#             align=\"left\"\r\n",
    "#         ),\r\n",
    "#         # cells=dict(\r\n",
    "#         #     values=[tweets[[\"created_at\",\"text\", \"screen_name\", \"neg\", \"neu\", \"pos\"]]],\r\n",
    "#         #     align = \"left\")\r\n",
    "#         cells=dict(values=[df['Post Date'], df.Forum_Post_Raw, df['User DisplayName'], df.neg, df.neu, df.pos],\r\n",
    "#                 fill_color = [[rowOddColor,rowEvenColor,rowOddColor, rowEvenColor,rowOddColor]*5],\r\n",
    "#                 align=['left', 'left', 'left', 'center', 'center', 'center'])        \r\n",
    "#     ),\r\n",
    "#     row=1, col=1\r\n",
    "# )\r\n",
    "# fig.update_layout(\r\n",
    "#     height=800,\r\n",
    "#     showlegend=False,\r\n",
    "#     title_text=\"Twitter Sentiment for \" + GraphTitle,\r\n",
    "# )\r\n",
    "headerColor = 'grey'\r\n",
    "rowEvenColor = 'lightgrey'\r\n",
    "rowOddColor = 'white'\r\n",
    "alignment = ['left', 'left', 'left', 'center', 'center', 'center']\r\n",
    "\r\n",
    "fig = go.Figure(data=[go.Table(\r\n",
    "    columnwidth = [30,300,60,40,40],\r\n",
    "    header=dict(values=[\"Timestamp\", \"Forum_Post_Raw\", \"User DisplayName\", \"Negative\", \"Neutral\", \"Positive\"],\r\n",
    "                fill_color=headerColor,\r\n",
    "                align=alignment),\r\n",
    "    cells=dict(values=[df['PostDate'].dt.strftime(\"%m/%d/%y %H:%M:%S\"), df.Forum_Post_Raw, df['User DisplayName'], df.neg, df.neu, df.pos],\r\n",
    "               fill_color = [[rowOddColor,rowEvenColor]*df.shape[0]],\r\n",
    "               align=alignment))\r\n",
    "])\r\n",
    "\r\n",
    "fig.show()"
   ]
  },
  {
   "cell_type": "code",
   "execution_count": 57,
   "metadata": {},
   "outputs": [],
   "source": [
    "# headerColor = 'grey'\r\n",
    "# rowEvenColor = 'lightgrey'\r\n",
    "# rowOddColor = 'white'\r\n",
    "\r\n",
    "# # for i, row in enumerate(df_Forum[\"Post Date\"]):\r\n",
    "# #     p = re.compile(\" 00:00:00\")\r\n",
    "# #     datetime = p.split(df[\"Post Date\"][i])[0]\r\n",
    "# #     df.iloc[i, 1] = datetime\r\n",
    "\r\n",
    "# fig = make_subplots(\r\n",
    "#     rows=3, cols=1,\r\n",
    "#     shared_xaxes=True,\r\n",
    "#     vertical_spacing=0.03,\r\n",
    "#     specs=[[{\"type\": \"table\"}],\r\n",
    "#            [{\"type\": \"scatter\"}],\r\n",
    "#            [{\"type\": \"scatter\"}]]\r\n",
    "# )\r\n",
    "\r\n",
    "# fig.add_trace(\r\n",
    "#     go.Scatter(\r\n",
    "#         x=df[\"Post Date\"],\r\n",
    "#         y=df[\"pos\"],\r\n",
    "#         mode=\"lines\",\r\n",
    "#         name=\"Positive Sentiment\"\r\n",
    "#     ),\r\n",
    "#     row=3, col=1\r\n",
    "# )\r\n",
    "\r\n",
    "# fig.add_trace(\r\n",
    "#     go.Scatter(\r\n",
    "#         x=df[\"Post Date\"],\r\n",
    "#         y=df[\"neg\"],\r\n",
    "#         mode=\"lines\",\r\n",
    "#         name=\"Negative Sentiment\"\r\n",
    "#     ),\r\n",
    "#     row=2, col=1\r\n",
    "# )\r\n",
    "\r\n",
    "# fig.add_trace(\r\n",
    "#     go.Table(\r\n",
    "#         columnwidth = [50,300,60,40,40],\r\n",
    "#         header=dict(\r\n",
    "#             values=[\"Timestamp\", \"Forum_Post_Raw\", \"User DisplayName\", \"Negative\", \"Neutral\", \"Positive\"],\r\n",
    "#             font=dict(size=10),\r\n",
    "#             align=\"left\"\r\n",
    "#         ),\r\n",
    "#         # cells=dict(\r\n",
    "#         #     values=[tweets[[\"created_at\",\"text\", \"screen_name\", \"neg\", \"neu\", \"pos\"]]],\r\n",
    "#         #     align = \"left\")\r\n",
    "#         cells=dict(values=[df['Post Date'], df.Forum_Post_Raw, df['User DisplayName'], df.neg, df.neu, df.pos],\r\n",
    "#                 fill_color = [[rowOddColor,rowEvenColor,rowOddColor, rowEvenColor,rowOddColor]*5],\r\n",
    "#                 align=['left', 'left', 'left', 'center', 'center', 'center'])        \r\n",
    "#     ),\r\n",
    "#     row=1, col=1\r\n",
    "# )\r\n",
    "# fig.update_layout(\r\n",
    "#     height=800,\r\n",
    "#     showlegend=False,\r\n",
    "#     title_text=\"Twitter Sentiment for \" + GraphTitle,\r\n",
    "# )\r\n",
    "\r\n",
    "# fig.write_html('Sentiment.html')\r\n",
    "# fig.show()"
   ]
  },
  {
   "cell_type": "code",
   "execution_count": 58,
   "metadata": {},
   "outputs": [],
   "source": [
    "features = ['Forum_Post_Raw','neg','neu','pos']\r\n",
    "\r\n",
    "# Top 5 Neutral Tweets\r\n",
    "dfNeu = df[features].sort_values(\"neu\", ascending=False).head(5)\r\n",
    "dfNeu.name = \"Neutral\"\r\n",
    "\r\n",
    "# Top 5 Negative Tweets\r\n",
    "dfNeg = df[features].sort_values(\"neg\", ascending=False).head(5)\r\n",
    "dfNeg.name = \"Negative\"\r\n",
    "\r\n",
    "# Top 5 Positive Tweets\r\n",
    "dfPos = df[features].sort_values(\"pos\", ascending=False).head(5)\r\n",
    "dfPos.name = \"Positive\"\r\n",
    "dataSets = [dfNeu,dfPos, dfNeg]\r\n"
   ]
  },
  {
   "cell_type": "code",
   "execution_count": 59,
   "metadata": {},
   "outputs": [
    {
     "data": {
      "text/html": [
       "<div>\n",
       "<style scoped>\n",
       "    .dataframe tbody tr th:only-of-type {\n",
       "        vertical-align: middle;\n",
       "    }\n",
       "\n",
       "    .dataframe tbody tr th {\n",
       "        vertical-align: top;\n",
       "    }\n",
       "\n",
       "    .dataframe thead th {\n",
       "        text-align: right;\n",
       "    }\n",
       "</style>\n",
       "<table border=\"1\" class=\"dataframe\">\n",
       "  <thead>\n",
       "    <tr style=\"text-align: right;\">\n",
       "      <th></th>\n",
       "      <th>Forum ID</th>\n",
       "      <th>compound</th>\n",
       "      <th>neg</th>\n",
       "      <th>neu</th>\n",
       "      <th>pos</th>\n",
       "      <th>DayOfMonth</th>\n",
       "    </tr>\n",
       "  </thead>\n",
       "  <tbody>\n",
       "    <tr>\n",
       "      <th>count</th>\n",
       "      <td>1086.000000</td>\n",
       "      <td>1086.000000</td>\n",
       "      <td>1086.000000</td>\n",
       "      <td>1086.000000</td>\n",
       "      <td>1086.000000</td>\n",
       "      <td>1086.000000</td>\n",
       "    </tr>\n",
       "    <tr>\n",
       "      <th>mean</th>\n",
       "      <td>91.429098</td>\n",
       "      <td>0.358396</td>\n",
       "      <td>0.039499</td>\n",
       "      <td>0.853801</td>\n",
       "      <td>0.105767</td>\n",
       "      <td>15.840700</td>\n",
       "    </tr>\n",
       "    <tr>\n",
       "      <th>std</th>\n",
       "      <td>155.599403</td>\n",
       "      <td>0.520617</td>\n",
       "      <td>0.053476</td>\n",
       "      <td>0.091070</td>\n",
       "      <td>0.076172</td>\n",
       "      <td>8.454238</td>\n",
       "    </tr>\n",
       "    <tr>\n",
       "      <th>min</th>\n",
       "      <td>40.000000</td>\n",
       "      <td>-0.997200</td>\n",
       "      <td>0.000000</td>\n",
       "      <td>0.000000</td>\n",
       "      <td>0.000000</td>\n",
       "      <td>1.000000</td>\n",
       "    </tr>\n",
       "    <tr>\n",
       "      <th>25%</th>\n",
       "      <td>40.000000</td>\n",
       "      <td>0.000000</td>\n",
       "      <td>0.000000</td>\n",
       "      <td>0.802000</td>\n",
       "      <td>0.050000</td>\n",
       "      <td>9.000000</td>\n",
       "    </tr>\n",
       "    <tr>\n",
       "      <th>50%</th>\n",
       "      <td>40.000000</td>\n",
       "      <td>0.495150</td>\n",
       "      <td>0.018000</td>\n",
       "      <td>0.862500</td>\n",
       "      <td>0.098000</td>\n",
       "      <td>16.000000</td>\n",
       "    </tr>\n",
       "    <tr>\n",
       "      <th>75%</th>\n",
       "      <td>40.000000</td>\n",
       "      <td>0.805275</td>\n",
       "      <td>0.064000</td>\n",
       "      <td>0.916000</td>\n",
       "      <td>0.152000</td>\n",
       "      <td>23.000000</td>\n",
       "    </tr>\n",
       "    <tr>\n",
       "      <th>max</th>\n",
       "      <td>673.000000</td>\n",
       "      <td>0.989500</td>\n",
       "      <td>0.415000</td>\n",
       "      <td>1.000000</td>\n",
       "      <td>0.394000</td>\n",
       "      <td>31.000000</td>\n",
       "    </tr>\n",
       "  </tbody>\n",
       "</table>\n",
       "</div>"
      ],
      "text/plain": [
       "          Forum ID     compound          neg          neu          pos  \\\n",
       "count  1086.000000  1086.000000  1086.000000  1086.000000  1086.000000   \n",
       "mean     91.429098     0.358396     0.039499     0.853801     0.105767   \n",
       "std     155.599403     0.520617     0.053476     0.091070     0.076172   \n",
       "min      40.000000    -0.997200     0.000000     0.000000     0.000000   \n",
       "25%      40.000000     0.000000     0.000000     0.802000     0.050000   \n",
       "50%      40.000000     0.495150     0.018000     0.862500     0.098000   \n",
       "75%      40.000000     0.805275     0.064000     0.916000     0.152000   \n",
       "max     673.000000     0.989500     0.415000     1.000000     0.394000   \n",
       "\n",
       "        DayOfMonth  \n",
       "count  1086.000000  \n",
       "mean     15.840700  \n",
       "std       8.454238  \n",
       "min       1.000000  \n",
       "25%       9.000000  \n",
       "50%      16.000000  \n",
       "75%      23.000000  \n",
       "max      31.000000  "
      ]
     },
     "execution_count": 59,
     "metadata": {},
     "output_type": "execute_result"
    }
   ],
   "source": [
    "df.describe()"
   ]
  },
  {
   "cell_type": "code",
   "execution_count": 60,
   "metadata": {},
   "outputs": [],
   "source": [
    "# Alternative way to make tables, doesn't work as well!\n",
    "# import plotly.figure_factory as ff\n",
    "\n",
    "# def WriteTable(dataSets):\n",
    "#     for frame in dataSets:\n",
    "#         fig =  ff.create_table(frame)\n",
    "#         fig.write_html(frame.name+\".html\")\n",
    "#         fig.show()\n",
    "\n",
    "# WriteTable(dataSets)"
   ]
  },
  {
   "cell_type": "code",
   "execution_count": 61,
   "metadata": {},
   "outputs": [
    {
     "data": {
      "application/vnd.plotly.v1+json": {
       "config": {
        "plotlyServerURL": "https://plot.ly"
       },
       "data": [
        {
         "cells": {
          "align": [
           "left",
           "center",
           "center",
           "center"
          ],
          "fill": {
           "color": [
            [
             "white",
             "lightgrey",
             "white",
             "lightgrey",
             "white",
             "white",
             "lightgrey",
             "white",
             "lightgrey",
             "white",
             "white",
             "lightgrey",
             "white",
             "lightgrey",
             "white",
             "white",
             "lightgrey",
             "white",
             "lightgrey",
             "white",
             "white",
             "lightgrey",
             "white",
             "lightgrey",
             "white"
            ]
           ]
          },
          "values": [
           [
            "Is there a way to force unique records only?",
            "I saw the posts about the parameter setting that would turn on this table being populated, but my parameters say \"no\", yet I'm seeing user transactions populate in this table.  Where are the settings that would prompt user transactions to populate in AESPION?",
            "Is there a way to reload all the default landing pages, for some reason I have a user that only shows a few, and he has admin rights so they should all be available.....",
            "Has anybody put the stock valuation report (FUNSTVA) on the batch server. \nI was wondering what the file box is used for and if somebody could give me an example path so I have an idea of what would go in there. ",
            "Hi,\nWhy does a purchase receipt take the closed state?"
           ],
           [
            0,
            0,
            0,
            0,
            0
           ],
           [
            1,
            1,
            1,
            1,
            1
           ],
           [
            0,
            0,
            0,
            0,
            0
           ]
          ]
         },
         "columnwidth": [
          300,
          40,
          40,
          40
         ],
         "header": {
          "align": [
           "left",
           "center",
           "center",
           "center"
          ],
          "fill": {
           "color": "#39416C"
          },
          "font": {
           "color": "white",
           "size": 12
          },
          "values": [
           "Forum_Post_Raw",
           "neg",
           "neu",
           "pos"
          ]
         },
         "type": "table"
        }
       ],
       "layout": {
        "height": 400,
        "template": {
         "data": {
          "bar": [
           {
            "error_x": {
             "color": "#2a3f5f"
            },
            "error_y": {
             "color": "#2a3f5f"
            },
            "marker": {
             "line": {
              "color": "#E5ECF6",
              "width": 0.5
             }
            },
            "type": "bar"
           }
          ],
          "barpolar": [
           {
            "marker": {
             "line": {
              "color": "#E5ECF6",
              "width": 0.5
             }
            },
            "type": "barpolar"
           }
          ],
          "carpet": [
           {
            "aaxis": {
             "endlinecolor": "#2a3f5f",
             "gridcolor": "white",
             "linecolor": "white",
             "minorgridcolor": "white",
             "startlinecolor": "#2a3f5f"
            },
            "baxis": {
             "endlinecolor": "#2a3f5f",
             "gridcolor": "white",
             "linecolor": "white",
             "minorgridcolor": "white",
             "startlinecolor": "#2a3f5f"
            },
            "type": "carpet"
           }
          ],
          "choropleth": [
           {
            "colorbar": {
             "outlinewidth": 0,
             "ticks": ""
            },
            "type": "choropleth"
           }
          ],
          "contour": [
           {
            "colorbar": {
             "outlinewidth": 0,
             "ticks": ""
            },
            "colorscale": [
             [
              0,
              "#0d0887"
             ],
             [
              0.1111111111111111,
              "#46039f"
             ],
             [
              0.2222222222222222,
              "#7201a8"
             ],
             [
              0.3333333333333333,
              "#9c179e"
             ],
             [
              0.4444444444444444,
              "#bd3786"
             ],
             [
              0.5555555555555556,
              "#d8576b"
             ],
             [
              0.6666666666666666,
              "#ed7953"
             ],
             [
              0.7777777777777778,
              "#fb9f3a"
             ],
             [
              0.8888888888888888,
              "#fdca26"
             ],
             [
              1,
              "#f0f921"
             ]
            ],
            "type": "contour"
           }
          ],
          "contourcarpet": [
           {
            "colorbar": {
             "outlinewidth": 0,
             "ticks": ""
            },
            "type": "contourcarpet"
           }
          ],
          "heatmap": [
           {
            "colorbar": {
             "outlinewidth": 0,
             "ticks": ""
            },
            "colorscale": [
             [
              0,
              "#0d0887"
             ],
             [
              0.1111111111111111,
              "#46039f"
             ],
             [
              0.2222222222222222,
              "#7201a8"
             ],
             [
              0.3333333333333333,
              "#9c179e"
             ],
             [
              0.4444444444444444,
              "#bd3786"
             ],
             [
              0.5555555555555556,
              "#d8576b"
             ],
             [
              0.6666666666666666,
              "#ed7953"
             ],
             [
              0.7777777777777778,
              "#fb9f3a"
             ],
             [
              0.8888888888888888,
              "#fdca26"
             ],
             [
              1,
              "#f0f921"
             ]
            ],
            "type": "heatmap"
           }
          ],
          "heatmapgl": [
           {
            "colorbar": {
             "outlinewidth": 0,
             "ticks": ""
            },
            "colorscale": [
             [
              0,
              "#0d0887"
             ],
             [
              0.1111111111111111,
              "#46039f"
             ],
             [
              0.2222222222222222,
              "#7201a8"
             ],
             [
              0.3333333333333333,
              "#9c179e"
             ],
             [
              0.4444444444444444,
              "#bd3786"
             ],
             [
              0.5555555555555556,
              "#d8576b"
             ],
             [
              0.6666666666666666,
              "#ed7953"
             ],
             [
              0.7777777777777778,
              "#fb9f3a"
             ],
             [
              0.8888888888888888,
              "#fdca26"
             ],
             [
              1,
              "#f0f921"
             ]
            ],
            "type": "heatmapgl"
           }
          ],
          "histogram": [
           {
            "marker": {
             "colorbar": {
              "outlinewidth": 0,
              "ticks": ""
             }
            },
            "type": "histogram"
           }
          ],
          "histogram2d": [
           {
            "colorbar": {
             "outlinewidth": 0,
             "ticks": ""
            },
            "colorscale": [
             [
              0,
              "#0d0887"
             ],
             [
              0.1111111111111111,
              "#46039f"
             ],
             [
              0.2222222222222222,
              "#7201a8"
             ],
             [
              0.3333333333333333,
              "#9c179e"
             ],
             [
              0.4444444444444444,
              "#bd3786"
             ],
             [
              0.5555555555555556,
              "#d8576b"
             ],
             [
              0.6666666666666666,
              "#ed7953"
             ],
             [
              0.7777777777777778,
              "#fb9f3a"
             ],
             [
              0.8888888888888888,
              "#fdca26"
             ],
             [
              1,
              "#f0f921"
             ]
            ],
            "type": "histogram2d"
           }
          ],
          "histogram2dcontour": [
           {
            "colorbar": {
             "outlinewidth": 0,
             "ticks": ""
            },
            "colorscale": [
             [
              0,
              "#0d0887"
             ],
             [
              0.1111111111111111,
              "#46039f"
             ],
             [
              0.2222222222222222,
              "#7201a8"
             ],
             [
              0.3333333333333333,
              "#9c179e"
             ],
             [
              0.4444444444444444,
              "#bd3786"
             ],
             [
              0.5555555555555556,
              "#d8576b"
             ],
             [
              0.6666666666666666,
              "#ed7953"
             ],
             [
              0.7777777777777778,
              "#fb9f3a"
             ],
             [
              0.8888888888888888,
              "#fdca26"
             ],
             [
              1,
              "#f0f921"
             ]
            ],
            "type": "histogram2dcontour"
           }
          ],
          "mesh3d": [
           {
            "colorbar": {
             "outlinewidth": 0,
             "ticks": ""
            },
            "type": "mesh3d"
           }
          ],
          "parcoords": [
           {
            "line": {
             "colorbar": {
              "outlinewidth": 0,
              "ticks": ""
             }
            },
            "type": "parcoords"
           }
          ],
          "pie": [
           {
            "automargin": true,
            "type": "pie"
           }
          ],
          "scatter": [
           {
            "marker": {
             "colorbar": {
              "outlinewidth": 0,
              "ticks": ""
             }
            },
            "type": "scatter"
           }
          ],
          "scatter3d": [
           {
            "line": {
             "colorbar": {
              "outlinewidth": 0,
              "ticks": ""
             }
            },
            "marker": {
             "colorbar": {
              "outlinewidth": 0,
              "ticks": ""
             }
            },
            "type": "scatter3d"
           }
          ],
          "scattercarpet": [
           {
            "marker": {
             "colorbar": {
              "outlinewidth": 0,
              "ticks": ""
             }
            },
            "type": "scattercarpet"
           }
          ],
          "scattergeo": [
           {
            "marker": {
             "colorbar": {
              "outlinewidth": 0,
              "ticks": ""
             }
            },
            "type": "scattergeo"
           }
          ],
          "scattergl": [
           {
            "marker": {
             "colorbar": {
              "outlinewidth": 0,
              "ticks": ""
             }
            },
            "type": "scattergl"
           }
          ],
          "scattermapbox": [
           {
            "marker": {
             "colorbar": {
              "outlinewidth": 0,
              "ticks": ""
             }
            },
            "type": "scattermapbox"
           }
          ],
          "scatterpolar": [
           {
            "marker": {
             "colorbar": {
              "outlinewidth": 0,
              "ticks": ""
             }
            },
            "type": "scatterpolar"
           }
          ],
          "scatterpolargl": [
           {
            "marker": {
             "colorbar": {
              "outlinewidth": 0,
              "ticks": ""
             }
            },
            "type": "scatterpolargl"
           }
          ],
          "scatterternary": [
           {
            "marker": {
             "colorbar": {
              "outlinewidth": 0,
              "ticks": ""
             }
            },
            "type": "scatterternary"
           }
          ],
          "surface": [
           {
            "colorbar": {
             "outlinewidth": 0,
             "ticks": ""
            },
            "colorscale": [
             [
              0,
              "#0d0887"
             ],
             [
              0.1111111111111111,
              "#46039f"
             ],
             [
              0.2222222222222222,
              "#7201a8"
             ],
             [
              0.3333333333333333,
              "#9c179e"
             ],
             [
              0.4444444444444444,
              "#bd3786"
             ],
             [
              0.5555555555555556,
              "#d8576b"
             ],
             [
              0.6666666666666666,
              "#ed7953"
             ],
             [
              0.7777777777777778,
              "#fb9f3a"
             ],
             [
              0.8888888888888888,
              "#fdca26"
             ],
             [
              1,
              "#f0f921"
             ]
            ],
            "type": "surface"
           }
          ],
          "table": [
           {
            "cells": {
             "fill": {
              "color": "#EBF0F8"
             },
             "line": {
              "color": "white"
             }
            },
            "header": {
             "fill": {
              "color": "#C8D4E3"
             },
             "line": {
              "color": "white"
             }
            },
            "type": "table"
           }
          ]
         },
         "layout": {
          "annotationdefaults": {
           "arrowcolor": "#2a3f5f",
           "arrowhead": 0,
           "arrowwidth": 1
          },
          "autotypenumbers": "strict",
          "coloraxis": {
           "colorbar": {
            "outlinewidth": 0,
            "ticks": ""
           }
          },
          "colorscale": {
           "diverging": [
            [
             0,
             "#8e0152"
            ],
            [
             0.1,
             "#c51b7d"
            ],
            [
             0.2,
             "#de77ae"
            ],
            [
             0.3,
             "#f1b6da"
            ],
            [
             0.4,
             "#fde0ef"
            ],
            [
             0.5,
             "#f7f7f7"
            ],
            [
             0.6,
             "#e6f5d0"
            ],
            [
             0.7,
             "#b8e186"
            ],
            [
             0.8,
             "#7fbc41"
            ],
            [
             0.9,
             "#4d9221"
            ],
            [
             1,
             "#276419"
            ]
           ],
           "sequential": [
            [
             0,
             "#0d0887"
            ],
            [
             0.1111111111111111,
             "#46039f"
            ],
            [
             0.2222222222222222,
             "#7201a8"
            ],
            [
             0.3333333333333333,
             "#9c179e"
            ],
            [
             0.4444444444444444,
             "#bd3786"
            ],
            [
             0.5555555555555556,
             "#d8576b"
            ],
            [
             0.6666666666666666,
             "#ed7953"
            ],
            [
             0.7777777777777778,
             "#fb9f3a"
            ],
            [
             0.8888888888888888,
             "#fdca26"
            ],
            [
             1,
             "#f0f921"
            ]
           ],
           "sequentialminus": [
            [
             0,
             "#0d0887"
            ],
            [
             0.1111111111111111,
             "#46039f"
            ],
            [
             0.2222222222222222,
             "#7201a8"
            ],
            [
             0.3333333333333333,
             "#9c179e"
            ],
            [
             0.4444444444444444,
             "#bd3786"
            ],
            [
             0.5555555555555556,
             "#d8576b"
            ],
            [
             0.6666666666666666,
             "#ed7953"
            ],
            [
             0.7777777777777778,
             "#fb9f3a"
            ],
            [
             0.8888888888888888,
             "#fdca26"
            ],
            [
             1,
             "#f0f921"
            ]
           ]
          },
          "colorway": [
           "#636efa",
           "#EF553B",
           "#00cc96",
           "#ab63fa",
           "#FFA15A",
           "#19d3f3",
           "#FF6692",
           "#B6E880",
           "#FF97FF",
           "#FECB52"
          ],
          "font": {
           "color": "#2a3f5f"
          },
          "geo": {
           "bgcolor": "white",
           "lakecolor": "white",
           "landcolor": "#E5ECF6",
           "showlakes": true,
           "showland": true,
           "subunitcolor": "white"
          },
          "hoverlabel": {
           "align": "left"
          },
          "hovermode": "closest",
          "mapbox": {
           "style": "light"
          },
          "paper_bgcolor": "white",
          "plot_bgcolor": "#E5ECF6",
          "polar": {
           "angularaxis": {
            "gridcolor": "white",
            "linecolor": "white",
            "ticks": ""
           },
           "bgcolor": "#E5ECF6",
           "radialaxis": {
            "gridcolor": "white",
            "linecolor": "white",
            "ticks": ""
           }
          },
          "scene": {
           "xaxis": {
            "backgroundcolor": "#E5ECF6",
            "gridcolor": "white",
            "gridwidth": 2,
            "linecolor": "white",
            "showbackground": true,
            "ticks": "",
            "zerolinecolor": "white"
           },
           "yaxis": {
            "backgroundcolor": "#E5ECF6",
            "gridcolor": "white",
            "gridwidth": 2,
            "linecolor": "white",
            "showbackground": true,
            "ticks": "",
            "zerolinecolor": "white"
           },
           "zaxis": {
            "backgroundcolor": "#E5ECF6",
            "gridcolor": "white",
            "gridwidth": 2,
            "linecolor": "white",
            "showbackground": true,
            "ticks": "",
            "zerolinecolor": "white"
           }
          },
          "shapedefaults": {
           "line": {
            "color": "#2a3f5f"
           }
          },
          "ternary": {
           "aaxis": {
            "gridcolor": "white",
            "linecolor": "white",
            "ticks": ""
           },
           "baxis": {
            "gridcolor": "white",
            "linecolor": "white",
            "ticks": ""
           },
           "bgcolor": "#E5ECF6",
           "caxis": {
            "gridcolor": "white",
            "linecolor": "white",
            "ticks": ""
           }
          },
          "title": {
           "x": 0.05
          },
          "xaxis": {
           "automargin": true,
           "gridcolor": "white",
           "linecolor": "white",
           "ticks": "",
           "title": {
            "standoff": 15
           },
           "zerolinecolor": "white",
           "zerolinewidth": 2
          },
          "yaxis": {
           "automargin": true,
           "gridcolor": "white",
           "linecolor": "white",
           "ticks": "",
           "title": {
            "standoff": 15
           },
           "zerolinecolor": "white",
           "zerolinewidth": 2
          }
         }
        },
        "title": {
         "text": "Neutral"
        },
        "width": 1000
       }
      }
     },
     "metadata": {},
     "output_type": "display_data"
    },
    {
     "data": {
      "application/vnd.plotly.v1+json": {
       "config": {
        "plotlyServerURL": "https://plot.ly"
       },
       "data": [
        {
         "cells": {
          "align": [
           "left",
           "center",
           "center",
           "center"
          ],
          "fill": {
           "color": [
            [
             "white",
             "lightgrey",
             "white",
             "lightgrey",
             "white",
             "white",
             "lightgrey",
             "white",
             "lightgrey",
             "white",
             "white",
             "lightgrey",
             "white",
             "lightgrey",
             "white",
             "white",
             "lightgrey",
             "white",
             "lightgrey",
             "white",
             "white",
             "lightgrey",
             "white",
             "lightgrey",
             "white"
            ]
           ]
          },
          "values": [
           [
            "Has anyone created an import template for overseas containers?  Thanks!",
            "Hello All,\nHappy new year.\nPlease i notice on payment screen E.g Bank transfer - if i try to search for a transaction using amount field i get an error message. \nPlease kindly find screen shot below..\n\n\nPlease help.\n\nThank you.",
            "Hi Everyone! Wish you all an great 2021!\nI'm new to SAGE X3.\nHow can I refresh a query on \"landing page\"?\nI've tried with parameters \"portview\" and \"frequency\" but no success. \n\nAm I using the parameters correctly?\nThank you, for your help.\nBest regards,\nDaniel",
            "\n\nI have a problem in the transport counter despite the counter has been well created and well affect the counter allocation level, thank you for helping me to find a solution\n\n\n",
            "EAM JOB CARD Error occurs when trying to save on step 4 'Create transactions'\nPlease advise\n\n'"
           ],
           [
            0,
            0.054,
            0.045,
            0.073,
            0.127
           ],
           [
            0.606,
            0.563,
            0.583,
            0.569,
            0.516
           ],
           [
            0.394,
            0.382,
            0.372,
            0.358,
            0.357
           ]
          ]
         },
         "columnwidth": [
          300,
          40,
          40,
          40
         ],
         "header": {
          "align": [
           "left",
           "center",
           "center",
           "center"
          ],
          "fill": {
           "color": "#39416C"
          },
          "font": {
           "color": "white",
           "size": 12
          },
          "values": [
           "Forum_Post_Raw",
           "neg",
           "neu",
           "pos"
          ]
         },
         "type": "table"
        }
       ],
       "layout": {
        "height": 400,
        "template": {
         "data": {
          "bar": [
           {
            "error_x": {
             "color": "#2a3f5f"
            },
            "error_y": {
             "color": "#2a3f5f"
            },
            "marker": {
             "line": {
              "color": "#E5ECF6",
              "width": 0.5
             }
            },
            "type": "bar"
           }
          ],
          "barpolar": [
           {
            "marker": {
             "line": {
              "color": "#E5ECF6",
              "width": 0.5
             }
            },
            "type": "barpolar"
           }
          ],
          "carpet": [
           {
            "aaxis": {
             "endlinecolor": "#2a3f5f",
             "gridcolor": "white",
             "linecolor": "white",
             "minorgridcolor": "white",
             "startlinecolor": "#2a3f5f"
            },
            "baxis": {
             "endlinecolor": "#2a3f5f",
             "gridcolor": "white",
             "linecolor": "white",
             "minorgridcolor": "white",
             "startlinecolor": "#2a3f5f"
            },
            "type": "carpet"
           }
          ],
          "choropleth": [
           {
            "colorbar": {
             "outlinewidth": 0,
             "ticks": ""
            },
            "type": "choropleth"
           }
          ],
          "contour": [
           {
            "colorbar": {
             "outlinewidth": 0,
             "ticks": ""
            },
            "colorscale": [
             [
              0,
              "#0d0887"
             ],
             [
              0.1111111111111111,
              "#46039f"
             ],
             [
              0.2222222222222222,
              "#7201a8"
             ],
             [
              0.3333333333333333,
              "#9c179e"
             ],
             [
              0.4444444444444444,
              "#bd3786"
             ],
             [
              0.5555555555555556,
              "#d8576b"
             ],
             [
              0.6666666666666666,
              "#ed7953"
             ],
             [
              0.7777777777777778,
              "#fb9f3a"
             ],
             [
              0.8888888888888888,
              "#fdca26"
             ],
             [
              1,
              "#f0f921"
             ]
            ],
            "type": "contour"
           }
          ],
          "contourcarpet": [
           {
            "colorbar": {
             "outlinewidth": 0,
             "ticks": ""
            },
            "type": "contourcarpet"
           }
          ],
          "heatmap": [
           {
            "colorbar": {
             "outlinewidth": 0,
             "ticks": ""
            },
            "colorscale": [
             [
              0,
              "#0d0887"
             ],
             [
              0.1111111111111111,
              "#46039f"
             ],
             [
              0.2222222222222222,
              "#7201a8"
             ],
             [
              0.3333333333333333,
              "#9c179e"
             ],
             [
              0.4444444444444444,
              "#bd3786"
             ],
             [
              0.5555555555555556,
              "#d8576b"
             ],
             [
              0.6666666666666666,
              "#ed7953"
             ],
             [
              0.7777777777777778,
              "#fb9f3a"
             ],
             [
              0.8888888888888888,
              "#fdca26"
             ],
             [
              1,
              "#f0f921"
             ]
            ],
            "type": "heatmap"
           }
          ],
          "heatmapgl": [
           {
            "colorbar": {
             "outlinewidth": 0,
             "ticks": ""
            },
            "colorscale": [
             [
              0,
              "#0d0887"
             ],
             [
              0.1111111111111111,
              "#46039f"
             ],
             [
              0.2222222222222222,
              "#7201a8"
             ],
             [
              0.3333333333333333,
              "#9c179e"
             ],
             [
              0.4444444444444444,
              "#bd3786"
             ],
             [
              0.5555555555555556,
              "#d8576b"
             ],
             [
              0.6666666666666666,
              "#ed7953"
             ],
             [
              0.7777777777777778,
              "#fb9f3a"
             ],
             [
              0.8888888888888888,
              "#fdca26"
             ],
             [
              1,
              "#f0f921"
             ]
            ],
            "type": "heatmapgl"
           }
          ],
          "histogram": [
           {
            "marker": {
             "colorbar": {
              "outlinewidth": 0,
              "ticks": ""
             }
            },
            "type": "histogram"
           }
          ],
          "histogram2d": [
           {
            "colorbar": {
             "outlinewidth": 0,
             "ticks": ""
            },
            "colorscale": [
             [
              0,
              "#0d0887"
             ],
             [
              0.1111111111111111,
              "#46039f"
             ],
             [
              0.2222222222222222,
              "#7201a8"
             ],
             [
              0.3333333333333333,
              "#9c179e"
             ],
             [
              0.4444444444444444,
              "#bd3786"
             ],
             [
              0.5555555555555556,
              "#d8576b"
             ],
             [
              0.6666666666666666,
              "#ed7953"
             ],
             [
              0.7777777777777778,
              "#fb9f3a"
             ],
             [
              0.8888888888888888,
              "#fdca26"
             ],
             [
              1,
              "#f0f921"
             ]
            ],
            "type": "histogram2d"
           }
          ],
          "histogram2dcontour": [
           {
            "colorbar": {
             "outlinewidth": 0,
             "ticks": ""
            },
            "colorscale": [
             [
              0,
              "#0d0887"
             ],
             [
              0.1111111111111111,
              "#46039f"
             ],
             [
              0.2222222222222222,
              "#7201a8"
             ],
             [
              0.3333333333333333,
              "#9c179e"
             ],
             [
              0.4444444444444444,
              "#bd3786"
             ],
             [
              0.5555555555555556,
              "#d8576b"
             ],
             [
              0.6666666666666666,
              "#ed7953"
             ],
             [
              0.7777777777777778,
              "#fb9f3a"
             ],
             [
              0.8888888888888888,
              "#fdca26"
             ],
             [
              1,
              "#f0f921"
             ]
            ],
            "type": "histogram2dcontour"
           }
          ],
          "mesh3d": [
           {
            "colorbar": {
             "outlinewidth": 0,
             "ticks": ""
            },
            "type": "mesh3d"
           }
          ],
          "parcoords": [
           {
            "line": {
             "colorbar": {
              "outlinewidth": 0,
              "ticks": ""
             }
            },
            "type": "parcoords"
           }
          ],
          "pie": [
           {
            "automargin": true,
            "type": "pie"
           }
          ],
          "scatter": [
           {
            "marker": {
             "colorbar": {
              "outlinewidth": 0,
              "ticks": ""
             }
            },
            "type": "scatter"
           }
          ],
          "scatter3d": [
           {
            "line": {
             "colorbar": {
              "outlinewidth": 0,
              "ticks": ""
             }
            },
            "marker": {
             "colorbar": {
              "outlinewidth": 0,
              "ticks": ""
             }
            },
            "type": "scatter3d"
           }
          ],
          "scattercarpet": [
           {
            "marker": {
             "colorbar": {
              "outlinewidth": 0,
              "ticks": ""
             }
            },
            "type": "scattercarpet"
           }
          ],
          "scattergeo": [
           {
            "marker": {
             "colorbar": {
              "outlinewidth": 0,
              "ticks": ""
             }
            },
            "type": "scattergeo"
           }
          ],
          "scattergl": [
           {
            "marker": {
             "colorbar": {
              "outlinewidth": 0,
              "ticks": ""
             }
            },
            "type": "scattergl"
           }
          ],
          "scattermapbox": [
           {
            "marker": {
             "colorbar": {
              "outlinewidth": 0,
              "ticks": ""
             }
            },
            "type": "scattermapbox"
           }
          ],
          "scatterpolar": [
           {
            "marker": {
             "colorbar": {
              "outlinewidth": 0,
              "ticks": ""
             }
            },
            "type": "scatterpolar"
           }
          ],
          "scatterpolargl": [
           {
            "marker": {
             "colorbar": {
              "outlinewidth": 0,
              "ticks": ""
             }
            },
            "type": "scatterpolargl"
           }
          ],
          "scatterternary": [
           {
            "marker": {
             "colorbar": {
              "outlinewidth": 0,
              "ticks": ""
             }
            },
            "type": "scatterternary"
           }
          ],
          "surface": [
           {
            "colorbar": {
             "outlinewidth": 0,
             "ticks": ""
            },
            "colorscale": [
             [
              0,
              "#0d0887"
             ],
             [
              0.1111111111111111,
              "#46039f"
             ],
             [
              0.2222222222222222,
              "#7201a8"
             ],
             [
              0.3333333333333333,
              "#9c179e"
             ],
             [
              0.4444444444444444,
              "#bd3786"
             ],
             [
              0.5555555555555556,
              "#d8576b"
             ],
             [
              0.6666666666666666,
              "#ed7953"
             ],
             [
              0.7777777777777778,
              "#fb9f3a"
             ],
             [
              0.8888888888888888,
              "#fdca26"
             ],
             [
              1,
              "#f0f921"
             ]
            ],
            "type": "surface"
           }
          ],
          "table": [
           {
            "cells": {
             "fill": {
              "color": "#EBF0F8"
             },
             "line": {
              "color": "white"
             }
            },
            "header": {
             "fill": {
              "color": "#C8D4E3"
             },
             "line": {
              "color": "white"
             }
            },
            "type": "table"
           }
          ]
         },
         "layout": {
          "annotationdefaults": {
           "arrowcolor": "#2a3f5f",
           "arrowhead": 0,
           "arrowwidth": 1
          },
          "autotypenumbers": "strict",
          "coloraxis": {
           "colorbar": {
            "outlinewidth": 0,
            "ticks": ""
           }
          },
          "colorscale": {
           "diverging": [
            [
             0,
             "#8e0152"
            ],
            [
             0.1,
             "#c51b7d"
            ],
            [
             0.2,
             "#de77ae"
            ],
            [
             0.3,
             "#f1b6da"
            ],
            [
             0.4,
             "#fde0ef"
            ],
            [
             0.5,
             "#f7f7f7"
            ],
            [
             0.6,
             "#e6f5d0"
            ],
            [
             0.7,
             "#b8e186"
            ],
            [
             0.8,
             "#7fbc41"
            ],
            [
             0.9,
             "#4d9221"
            ],
            [
             1,
             "#276419"
            ]
           ],
           "sequential": [
            [
             0,
             "#0d0887"
            ],
            [
             0.1111111111111111,
             "#46039f"
            ],
            [
             0.2222222222222222,
             "#7201a8"
            ],
            [
             0.3333333333333333,
             "#9c179e"
            ],
            [
             0.4444444444444444,
             "#bd3786"
            ],
            [
             0.5555555555555556,
             "#d8576b"
            ],
            [
             0.6666666666666666,
             "#ed7953"
            ],
            [
             0.7777777777777778,
             "#fb9f3a"
            ],
            [
             0.8888888888888888,
             "#fdca26"
            ],
            [
             1,
             "#f0f921"
            ]
           ],
           "sequentialminus": [
            [
             0,
             "#0d0887"
            ],
            [
             0.1111111111111111,
             "#46039f"
            ],
            [
             0.2222222222222222,
             "#7201a8"
            ],
            [
             0.3333333333333333,
             "#9c179e"
            ],
            [
             0.4444444444444444,
             "#bd3786"
            ],
            [
             0.5555555555555556,
             "#d8576b"
            ],
            [
             0.6666666666666666,
             "#ed7953"
            ],
            [
             0.7777777777777778,
             "#fb9f3a"
            ],
            [
             0.8888888888888888,
             "#fdca26"
            ],
            [
             1,
             "#f0f921"
            ]
           ]
          },
          "colorway": [
           "#636efa",
           "#EF553B",
           "#00cc96",
           "#ab63fa",
           "#FFA15A",
           "#19d3f3",
           "#FF6692",
           "#B6E880",
           "#FF97FF",
           "#FECB52"
          ],
          "font": {
           "color": "#2a3f5f"
          },
          "geo": {
           "bgcolor": "white",
           "lakecolor": "white",
           "landcolor": "#E5ECF6",
           "showlakes": true,
           "showland": true,
           "subunitcolor": "white"
          },
          "hoverlabel": {
           "align": "left"
          },
          "hovermode": "closest",
          "mapbox": {
           "style": "light"
          },
          "paper_bgcolor": "white",
          "plot_bgcolor": "#E5ECF6",
          "polar": {
           "angularaxis": {
            "gridcolor": "white",
            "linecolor": "white",
            "ticks": ""
           },
           "bgcolor": "#E5ECF6",
           "radialaxis": {
            "gridcolor": "white",
            "linecolor": "white",
            "ticks": ""
           }
          },
          "scene": {
           "xaxis": {
            "backgroundcolor": "#E5ECF6",
            "gridcolor": "white",
            "gridwidth": 2,
            "linecolor": "white",
            "showbackground": true,
            "ticks": "",
            "zerolinecolor": "white"
           },
           "yaxis": {
            "backgroundcolor": "#E5ECF6",
            "gridcolor": "white",
            "gridwidth": 2,
            "linecolor": "white",
            "showbackground": true,
            "ticks": "",
            "zerolinecolor": "white"
           },
           "zaxis": {
            "backgroundcolor": "#E5ECF6",
            "gridcolor": "white",
            "gridwidth": 2,
            "linecolor": "white",
            "showbackground": true,
            "ticks": "",
            "zerolinecolor": "white"
           }
          },
          "shapedefaults": {
           "line": {
            "color": "#2a3f5f"
           }
          },
          "ternary": {
           "aaxis": {
            "gridcolor": "white",
            "linecolor": "white",
            "ticks": ""
           },
           "baxis": {
            "gridcolor": "white",
            "linecolor": "white",
            "ticks": ""
           },
           "bgcolor": "#E5ECF6",
           "caxis": {
            "gridcolor": "white",
            "linecolor": "white",
            "ticks": ""
           }
          },
          "title": {
           "x": 0.05
          },
          "xaxis": {
           "automargin": true,
           "gridcolor": "white",
           "linecolor": "white",
           "ticks": "",
           "title": {
            "standoff": 15
           },
           "zerolinecolor": "white",
           "zerolinewidth": 2
          },
          "yaxis": {
           "automargin": true,
           "gridcolor": "white",
           "linecolor": "white",
           "ticks": "",
           "title": {
            "standoff": 15
           },
           "zerolinecolor": "white",
           "zerolinewidth": 2
          }
         }
        },
        "title": {
         "text": "Positive"
        },
        "width": 1000
       }
      }
     },
     "metadata": {},
     "output_type": "display_data"
    },
    {
     "data": {
      "application/vnd.plotly.v1+json": {
       "config": {
        "plotlyServerURL": "https://plot.ly"
       },
       "data": [
        {
         "cells": {
          "align": [
           "left",
           "center",
           "center",
           "center"
          ],
          "fill": {
           "color": [
            [
             "white",
             "lightgrey",
             "white",
             "lightgrey",
             "white",
             "white",
             "lightgrey",
             "white",
             "lightgrey",
             "white",
             "white",
             "lightgrey",
             "white",
             "lightgrey",
             "white",
             "white",
             "lightgrey",
             "white",
             "lightgrey",
             "white",
             "white",
             "lightgrey",
             "white",
             "lightgrey",
             "white"
            ]
           ]
          },
          "values": [
           [
            "Error message:\n@X3.TRT/SUBITM$adx (2569) Error 8 : Index Incorrect ISAU(500)\n\nGetting this error after adding a new site.\n",
            "When trying to generate the positive pay file - we experience the following error - file return error - no checks selected. There are checks generated and printed.",
            "Sage X3 allows a parameter to warn user for duplicate values in BPRVCR. \n\nHow can this warning be change to an error? \n",
            "We run Sage X3 Update 9 Patch 9.\n\nThe cost of a product we buy is going negative.\nThis occurs from time to time because the product is a by-product- sometimes the supplier can sell the by-product, but other times they have to pay us to take it.\nDepending on how extremely below zero the costs go, we may even start charging our customers a negative price. \nThis will occur in both back-to-back and stock orders.\n\nCan we support this in X3?\n\nThought process;\n(The following all reads bizarrely to me, but here goes...;)\n1. We raise PO to supplier with negative cost (-$20/ton)\n2. Supplier sends us their invoice with negative cost (-$20/ton)\n3. Supplier pays us based on their (negative) invoice. Is a supplier invoice therefore handled by Accounts Receivable rather than Accounts Payable functions in X3?\n4. We receive goods into inventory at a negative cost (-$20/ton). Average Unit Cost (AUC) goes negative.\n5. We create Sales Order with negative gross price (-$5) and negative cost ($-20) to Customer (Margin = +$15)\n6. We create Sales Delivery with negative gross price (-$5) to Customer.\n7. We create Sales Invoice with negative gross price (-$5) and negative cost ($-20) to Customer (Margin = +$15) \n8. We pay Customer based on our Sales Invoice with negative gross price. Is our Invoice to Customer therefore managed by our Accounts Payable rather than Accounts Receivable functions in X3?\n\nIs this high level process supportable/logical/sensible in X3?\nSteps 3 and 8 are standing out to me the most in consideration of \"How will that work?\"\nAny advice would be appreciated. Thanks in advance.",
            "D:\\Sage\\SAGEX3V7\\X3V71\\folders\\TEST\\TRT\\WGWMSFCSTD.adx : File Non-existent\n\nHow to resolve this error.\n\nRegards\n"
           ],
           [
            0.415,
            0.276,
            0.258,
            0.249,
            0.246
           ],
           [
            0.585,
            0.613,
            0.64,
            0.693,
            0.55
           ],
           [
            0,
            0.11,
            0.102,
            0.058,
            0.204
           ]
          ]
         },
         "columnwidth": [
          300,
          40,
          40,
          40
         ],
         "header": {
          "align": [
           "left",
           "center",
           "center",
           "center"
          ],
          "fill": {
           "color": "#39416C"
          },
          "font": {
           "color": "white",
           "size": 12
          },
          "values": [
           "Forum_Post_Raw",
           "neg",
           "neu",
           "pos"
          ]
         },
         "type": "table"
        }
       ],
       "layout": {
        "height": 400,
        "template": {
         "data": {
          "bar": [
           {
            "error_x": {
             "color": "#2a3f5f"
            },
            "error_y": {
             "color": "#2a3f5f"
            },
            "marker": {
             "line": {
              "color": "#E5ECF6",
              "width": 0.5
             }
            },
            "type": "bar"
           }
          ],
          "barpolar": [
           {
            "marker": {
             "line": {
              "color": "#E5ECF6",
              "width": 0.5
             }
            },
            "type": "barpolar"
           }
          ],
          "carpet": [
           {
            "aaxis": {
             "endlinecolor": "#2a3f5f",
             "gridcolor": "white",
             "linecolor": "white",
             "minorgridcolor": "white",
             "startlinecolor": "#2a3f5f"
            },
            "baxis": {
             "endlinecolor": "#2a3f5f",
             "gridcolor": "white",
             "linecolor": "white",
             "minorgridcolor": "white",
             "startlinecolor": "#2a3f5f"
            },
            "type": "carpet"
           }
          ],
          "choropleth": [
           {
            "colorbar": {
             "outlinewidth": 0,
             "ticks": ""
            },
            "type": "choropleth"
           }
          ],
          "contour": [
           {
            "colorbar": {
             "outlinewidth": 0,
             "ticks": ""
            },
            "colorscale": [
             [
              0,
              "#0d0887"
             ],
             [
              0.1111111111111111,
              "#46039f"
             ],
             [
              0.2222222222222222,
              "#7201a8"
             ],
             [
              0.3333333333333333,
              "#9c179e"
             ],
             [
              0.4444444444444444,
              "#bd3786"
             ],
             [
              0.5555555555555556,
              "#d8576b"
             ],
             [
              0.6666666666666666,
              "#ed7953"
             ],
             [
              0.7777777777777778,
              "#fb9f3a"
             ],
             [
              0.8888888888888888,
              "#fdca26"
             ],
             [
              1,
              "#f0f921"
             ]
            ],
            "type": "contour"
           }
          ],
          "contourcarpet": [
           {
            "colorbar": {
             "outlinewidth": 0,
             "ticks": ""
            },
            "type": "contourcarpet"
           }
          ],
          "heatmap": [
           {
            "colorbar": {
             "outlinewidth": 0,
             "ticks": ""
            },
            "colorscale": [
             [
              0,
              "#0d0887"
             ],
             [
              0.1111111111111111,
              "#46039f"
             ],
             [
              0.2222222222222222,
              "#7201a8"
             ],
             [
              0.3333333333333333,
              "#9c179e"
             ],
             [
              0.4444444444444444,
              "#bd3786"
             ],
             [
              0.5555555555555556,
              "#d8576b"
             ],
             [
              0.6666666666666666,
              "#ed7953"
             ],
             [
              0.7777777777777778,
              "#fb9f3a"
             ],
             [
              0.8888888888888888,
              "#fdca26"
             ],
             [
              1,
              "#f0f921"
             ]
            ],
            "type": "heatmap"
           }
          ],
          "heatmapgl": [
           {
            "colorbar": {
             "outlinewidth": 0,
             "ticks": ""
            },
            "colorscale": [
             [
              0,
              "#0d0887"
             ],
             [
              0.1111111111111111,
              "#46039f"
             ],
             [
              0.2222222222222222,
              "#7201a8"
             ],
             [
              0.3333333333333333,
              "#9c179e"
             ],
             [
              0.4444444444444444,
              "#bd3786"
             ],
             [
              0.5555555555555556,
              "#d8576b"
             ],
             [
              0.6666666666666666,
              "#ed7953"
             ],
             [
              0.7777777777777778,
              "#fb9f3a"
             ],
             [
              0.8888888888888888,
              "#fdca26"
             ],
             [
              1,
              "#f0f921"
             ]
            ],
            "type": "heatmapgl"
           }
          ],
          "histogram": [
           {
            "marker": {
             "colorbar": {
              "outlinewidth": 0,
              "ticks": ""
             }
            },
            "type": "histogram"
           }
          ],
          "histogram2d": [
           {
            "colorbar": {
             "outlinewidth": 0,
             "ticks": ""
            },
            "colorscale": [
             [
              0,
              "#0d0887"
             ],
             [
              0.1111111111111111,
              "#46039f"
             ],
             [
              0.2222222222222222,
              "#7201a8"
             ],
             [
              0.3333333333333333,
              "#9c179e"
             ],
             [
              0.4444444444444444,
              "#bd3786"
             ],
             [
              0.5555555555555556,
              "#d8576b"
             ],
             [
              0.6666666666666666,
              "#ed7953"
             ],
             [
              0.7777777777777778,
              "#fb9f3a"
             ],
             [
              0.8888888888888888,
              "#fdca26"
             ],
             [
              1,
              "#f0f921"
             ]
            ],
            "type": "histogram2d"
           }
          ],
          "histogram2dcontour": [
           {
            "colorbar": {
             "outlinewidth": 0,
             "ticks": ""
            },
            "colorscale": [
             [
              0,
              "#0d0887"
             ],
             [
              0.1111111111111111,
              "#46039f"
             ],
             [
              0.2222222222222222,
              "#7201a8"
             ],
             [
              0.3333333333333333,
              "#9c179e"
             ],
             [
              0.4444444444444444,
              "#bd3786"
             ],
             [
              0.5555555555555556,
              "#d8576b"
             ],
             [
              0.6666666666666666,
              "#ed7953"
             ],
             [
              0.7777777777777778,
              "#fb9f3a"
             ],
             [
              0.8888888888888888,
              "#fdca26"
             ],
             [
              1,
              "#f0f921"
             ]
            ],
            "type": "histogram2dcontour"
           }
          ],
          "mesh3d": [
           {
            "colorbar": {
             "outlinewidth": 0,
             "ticks": ""
            },
            "type": "mesh3d"
           }
          ],
          "parcoords": [
           {
            "line": {
             "colorbar": {
              "outlinewidth": 0,
              "ticks": ""
             }
            },
            "type": "parcoords"
           }
          ],
          "pie": [
           {
            "automargin": true,
            "type": "pie"
           }
          ],
          "scatter": [
           {
            "marker": {
             "colorbar": {
              "outlinewidth": 0,
              "ticks": ""
             }
            },
            "type": "scatter"
           }
          ],
          "scatter3d": [
           {
            "line": {
             "colorbar": {
              "outlinewidth": 0,
              "ticks": ""
             }
            },
            "marker": {
             "colorbar": {
              "outlinewidth": 0,
              "ticks": ""
             }
            },
            "type": "scatter3d"
           }
          ],
          "scattercarpet": [
           {
            "marker": {
             "colorbar": {
              "outlinewidth": 0,
              "ticks": ""
             }
            },
            "type": "scattercarpet"
           }
          ],
          "scattergeo": [
           {
            "marker": {
             "colorbar": {
              "outlinewidth": 0,
              "ticks": ""
             }
            },
            "type": "scattergeo"
           }
          ],
          "scattergl": [
           {
            "marker": {
             "colorbar": {
              "outlinewidth": 0,
              "ticks": ""
             }
            },
            "type": "scattergl"
           }
          ],
          "scattermapbox": [
           {
            "marker": {
             "colorbar": {
              "outlinewidth": 0,
              "ticks": ""
             }
            },
            "type": "scattermapbox"
           }
          ],
          "scatterpolar": [
           {
            "marker": {
             "colorbar": {
              "outlinewidth": 0,
              "ticks": ""
             }
            },
            "type": "scatterpolar"
           }
          ],
          "scatterpolargl": [
           {
            "marker": {
             "colorbar": {
              "outlinewidth": 0,
              "ticks": ""
             }
            },
            "type": "scatterpolargl"
           }
          ],
          "scatterternary": [
           {
            "marker": {
             "colorbar": {
              "outlinewidth": 0,
              "ticks": ""
             }
            },
            "type": "scatterternary"
           }
          ],
          "surface": [
           {
            "colorbar": {
             "outlinewidth": 0,
             "ticks": ""
            },
            "colorscale": [
             [
              0,
              "#0d0887"
             ],
             [
              0.1111111111111111,
              "#46039f"
             ],
             [
              0.2222222222222222,
              "#7201a8"
             ],
             [
              0.3333333333333333,
              "#9c179e"
             ],
             [
              0.4444444444444444,
              "#bd3786"
             ],
             [
              0.5555555555555556,
              "#d8576b"
             ],
             [
              0.6666666666666666,
              "#ed7953"
             ],
             [
              0.7777777777777778,
              "#fb9f3a"
             ],
             [
              0.8888888888888888,
              "#fdca26"
             ],
             [
              1,
              "#f0f921"
             ]
            ],
            "type": "surface"
           }
          ],
          "table": [
           {
            "cells": {
             "fill": {
              "color": "#EBF0F8"
             },
             "line": {
              "color": "white"
             }
            },
            "header": {
             "fill": {
              "color": "#C8D4E3"
             },
             "line": {
              "color": "white"
             }
            },
            "type": "table"
           }
          ]
         },
         "layout": {
          "annotationdefaults": {
           "arrowcolor": "#2a3f5f",
           "arrowhead": 0,
           "arrowwidth": 1
          },
          "autotypenumbers": "strict",
          "coloraxis": {
           "colorbar": {
            "outlinewidth": 0,
            "ticks": ""
           }
          },
          "colorscale": {
           "diverging": [
            [
             0,
             "#8e0152"
            ],
            [
             0.1,
             "#c51b7d"
            ],
            [
             0.2,
             "#de77ae"
            ],
            [
             0.3,
             "#f1b6da"
            ],
            [
             0.4,
             "#fde0ef"
            ],
            [
             0.5,
             "#f7f7f7"
            ],
            [
             0.6,
             "#e6f5d0"
            ],
            [
             0.7,
             "#b8e186"
            ],
            [
             0.8,
             "#7fbc41"
            ],
            [
             0.9,
             "#4d9221"
            ],
            [
             1,
             "#276419"
            ]
           ],
           "sequential": [
            [
             0,
             "#0d0887"
            ],
            [
             0.1111111111111111,
             "#46039f"
            ],
            [
             0.2222222222222222,
             "#7201a8"
            ],
            [
             0.3333333333333333,
             "#9c179e"
            ],
            [
             0.4444444444444444,
             "#bd3786"
            ],
            [
             0.5555555555555556,
             "#d8576b"
            ],
            [
             0.6666666666666666,
             "#ed7953"
            ],
            [
             0.7777777777777778,
             "#fb9f3a"
            ],
            [
             0.8888888888888888,
             "#fdca26"
            ],
            [
             1,
             "#f0f921"
            ]
           ],
           "sequentialminus": [
            [
             0,
             "#0d0887"
            ],
            [
             0.1111111111111111,
             "#46039f"
            ],
            [
             0.2222222222222222,
             "#7201a8"
            ],
            [
             0.3333333333333333,
             "#9c179e"
            ],
            [
             0.4444444444444444,
             "#bd3786"
            ],
            [
             0.5555555555555556,
             "#d8576b"
            ],
            [
             0.6666666666666666,
             "#ed7953"
            ],
            [
             0.7777777777777778,
             "#fb9f3a"
            ],
            [
             0.8888888888888888,
             "#fdca26"
            ],
            [
             1,
             "#f0f921"
            ]
           ]
          },
          "colorway": [
           "#636efa",
           "#EF553B",
           "#00cc96",
           "#ab63fa",
           "#FFA15A",
           "#19d3f3",
           "#FF6692",
           "#B6E880",
           "#FF97FF",
           "#FECB52"
          ],
          "font": {
           "color": "#2a3f5f"
          },
          "geo": {
           "bgcolor": "white",
           "lakecolor": "white",
           "landcolor": "#E5ECF6",
           "showlakes": true,
           "showland": true,
           "subunitcolor": "white"
          },
          "hoverlabel": {
           "align": "left"
          },
          "hovermode": "closest",
          "mapbox": {
           "style": "light"
          },
          "paper_bgcolor": "white",
          "plot_bgcolor": "#E5ECF6",
          "polar": {
           "angularaxis": {
            "gridcolor": "white",
            "linecolor": "white",
            "ticks": ""
           },
           "bgcolor": "#E5ECF6",
           "radialaxis": {
            "gridcolor": "white",
            "linecolor": "white",
            "ticks": ""
           }
          },
          "scene": {
           "xaxis": {
            "backgroundcolor": "#E5ECF6",
            "gridcolor": "white",
            "gridwidth": 2,
            "linecolor": "white",
            "showbackground": true,
            "ticks": "",
            "zerolinecolor": "white"
           },
           "yaxis": {
            "backgroundcolor": "#E5ECF6",
            "gridcolor": "white",
            "gridwidth": 2,
            "linecolor": "white",
            "showbackground": true,
            "ticks": "",
            "zerolinecolor": "white"
           },
           "zaxis": {
            "backgroundcolor": "#E5ECF6",
            "gridcolor": "white",
            "gridwidth": 2,
            "linecolor": "white",
            "showbackground": true,
            "ticks": "",
            "zerolinecolor": "white"
           }
          },
          "shapedefaults": {
           "line": {
            "color": "#2a3f5f"
           }
          },
          "ternary": {
           "aaxis": {
            "gridcolor": "white",
            "linecolor": "white",
            "ticks": ""
           },
           "baxis": {
            "gridcolor": "white",
            "linecolor": "white",
            "ticks": ""
           },
           "bgcolor": "#E5ECF6",
           "caxis": {
            "gridcolor": "white",
            "linecolor": "white",
            "ticks": ""
           }
          },
          "title": {
           "x": 0.05
          },
          "xaxis": {
           "automargin": true,
           "gridcolor": "white",
           "linecolor": "white",
           "ticks": "",
           "title": {
            "standoff": 15
           },
           "zerolinecolor": "white",
           "zerolinewidth": 2
          },
          "yaxis": {
           "automargin": true,
           "gridcolor": "white",
           "linecolor": "white",
           "ticks": "",
           "title": {
            "standoff": 15
           },
           "zerolinecolor": "white",
           "zerolinewidth": 2
          }
         }
        },
        "title": {
         "text": "Negative"
        },
        "width": 1000
       }
      }
     },
     "metadata": {},
     "output_type": "display_data"
    }
   ],
   "source": [
    "\r\n",
    "import plotly.graph_objects as go\r\n",
    "import pandas as pd\r\n",
    "\r\n",
    "def WriteMyTable(dataSets):\r\n",
    "    for frame in dataSets:\r\n",
    "        headerColor = 'grey'\r\n",
    "        rowEvenColor = 'lightgrey'\r\n",
    "        rowOddColor = 'white'\r\n",
    "\r\n",
    "        fig = go.Figure(data=[go.Table(\r\n",
    "            columnwidth = [300,40,40,40],\r\n",
    "            header=dict(values=[x for x in features],\r\n",
    "                        fill_color='#39416C',                \r\n",
    "                        font=dict(color='white', size=12),\r\n",
    "                        align=['left', 'center', 'center', 'center']),\r\n",
    "            cells=dict(values=[frame.Forum_Post_Raw, frame.neg, frame.neu, frame.pos],\r\n",
    "                    fill_color = [[rowOddColor,rowEvenColor,rowOddColor, rowEvenColor,rowOddColor]*5],\r\n",
    "                    align=['left', 'center', 'center', 'center']))\r\n",
    "        ])\r\n",
    "        fig.update_layout(title=frame.name, width=1000, height=400)\r\n",
    "        fig.write_html(frame.name+\".html\")\r\n",
    "        fig.show()\r\n",
    "\r\n",
    "WriteMyTable(dataSets)\r\n"
   ]
  },
  {
   "cell_type": "markdown",
   "metadata": {},
   "source": [
    "# Charting Ideas\r\n",
    "1. Top pos / neg post by user\r\n",
    "2. Trend line over time (SNS) color = user\r\n",
    "- Does it match up to release dates or seasonal timings? \r\n",
    "- Was there a bad release?\r\n",
    "- Was there a good release?\r\n",
    "- Can we classify based on tags?\r\n",
    "\r\n",
    "3. PCA analysis\r\n",
    "4. Felix analysis (lda): https://towardsdatascience.com/the-complete-guide-for-topics-extraction-in-python-a6aaa6cedbbc\r\n",
    "5. Prediction of nltk accuracy chart?"
   ]
  },
  {
   "cell_type": "markdown",
   "metadata": {},
   "source": [
    "# Latent Dirichlet Allocation (LDA) Analysis"
   ]
  },
  {
   "cell_type": "markdown",
   "metadata": {},
   "source": [
    "Three main parameters of the model\r\n",
    "1. Number of topics\r\n",
    "2. Number of words per topic\r\n",
    "3. Number of topics per document"
   ]
  },
  {
   "cell_type": "code",
   "execution_count": 145,
   "metadata": {},
   "outputs": [
    {
     "name": "stdout",
     "output_type": "stream",
     "text": [
      "Requirement already satisfied: gensim in c:\\users\\bdelamater\\anaconda3\\lib\\site-packages (4.0.1)\n",
      "Requirement already satisfied: smart-open>=1.8.1 in c:\\users\\bdelamater\\anaconda3\\lib\\site-packages (from gensim) (5.1.0)\n",
      "Requirement already satisfied: Cython==0.29.21 in c:\\users\\bdelamater\\anaconda3\\lib\\site-packages (from gensim) (0.29.21)\n",
      "Requirement already satisfied: numpy>=1.11.3 in c:\\users\\bdelamater\\anaconda3\\lib\\site-packages (from gensim) (1.20.1)\n",
      "Requirement already satisfied: scipy>=0.18.1 in c:\\users\\bdelamater\\anaconda3\\lib\\site-packages (from gensim) (1.6.2)\n",
      "Requirement already satisfied: langdetect in c:\\users\\bdelamater\\anaconda3\\lib\\site-packages (1.0.9)\n",
      "Requirement already satisfied: six in c:\\users\\bdelamater\\anaconda3\\lib\\site-packages (from langdetect) (1.15.0)\n"
     ]
    },
    {
     "name": "stderr",
     "output_type": "stream",
     "text": [
      "<ipython-input-145-2022bc752b0e>:6: TqdmDeprecationWarning:\n",
      "\n",
      "This function will be removed in tqdm==5.0.0\n",
      "Please use `tqdm.notebook.tqdm` instead of `tqdm.tqdm_notebook`\n",
      "\n"
     ]
    },
    {
     "data": {
      "application/vnd.jupyter.widget-view+json": {
       "model_id": "3d01ca0b5fc840d9a85f8423fc11b95f",
       "version_major": 2,
       "version_minor": 0
      },
      "text/plain": [
       "0it [00:00, ?it/s]"
      ]
     },
     "metadata": {},
     "output_type": "display_data"
    },
    {
     "name": "stderr",
     "output_type": "stream",
     "text": [
      "[nltk_data] Downloading package averaged_perceptron_tagger to\n",
      "[nltk_data]     C:\\Users\\BDelamater\\AppData\\Roaming\\nltk_data...\n",
      "[nltk_data]   Package averaged_perceptron_tagger is already up-to-\n",
      "[nltk_data]       date!\n"
     ]
    }
   ],
   "source": [
    "! pip install gensim\r\n",
    "! pip install langdetect\r\n",
    "from gensim import corpora, models\r\n",
    "from langdetect import detect\r\n",
    "from tqdm import tqdm_notebook\r\n",
    "tqdm_notebook().pandas()\r\n",
    "from nltk.tokenize import sent_tokenize\r\n",
    "from nltk.tokenize import word_tokenize\r\n",
    "from nltk import pos_tag\r\n",
    "from gensim.models import Phrases\r\n",
    "from gensim import corpora\r\n",
    "from gensim import models\r\n",
    "import numpy as np\r\n",
    "\r\n",
    "\r\n",
    "import nltk\r\n",
    "nltk.download('averaged_perceptron_tagger')\r\n",
    "from itertools import chain # to flatten list of sentences of tokens into list of tokens\r\n",
    "\r\n",
    "\r\n",
    "dfLDA = df2.copy()\r\n",
    "\r\n"
   ]
  },
  {
   "cell_type": "code",
   "execution_count": 146,
   "metadata": {},
   "outputs": [],
   "source": [
    "# dictionary_LDA = corpora.Dictionary(list_of_list_of_tokens)\r\n",
    "# dictionary_LDA.filter_extremes(no_below=3)\r\n",
    "# corpus = [dictionary_LDA.doc2bow(list_of_tokens) for list_of_tokens in list_of_list_of_tokens]\r\n",
    "\r\n",
    "# num_topics = 20\r\n",
    "# %time lda_model = models.LdaModel(corpus, num_topics=num_topics, \\\r\n",
    "#                                   id2word=dictionary_LDA, \\\r\n",
    "#                                   passes=4, alpha=[0.01]*num_topics, \\\r\n",
    "#                                   eta=[0.01]*len(dictionary_LDA.keys()))"
   ]
  },
  {
   "cell_type": "markdown",
   "metadata": {},
   "source": [
    "## Tokenization"
   ]
  },
  {
   "cell_type": "code",
   "execution_count": 147,
   "metadata": {},
   "outputs": [
    {
     "data": {
      "application/vnd.jupyter.widget-view+json": {
       "model_id": "2480fa15aca24c46a8d6a88a9b1ea658",
       "version_major": 2,
       "version_minor": 0
      },
      "text/plain": [
       "  0%|          | 0/1086 [00:00<?, ?it/s]"
      ]
     },
     "metadata": {},
     "output_type": "display_data"
    },
    {
     "data": {
      "text/plain": [
       "['Company upgraded to windows 10.',\n",
       " 'Used to run an ERP program which no one heard about, made by U8Soft (keep in mind that the company is in China).',\n",
       " 'They are now asking for an insanely high amount of money to get it to work on windows 10.']"
      ]
     },
     "execution_count": 147,
     "metadata": {},
     "output_type": "execute_result"
    }
   ],
   "source": [
    "dfLDA['sentences'] = dfLDA.Forum_Post_Raw.progress_map(sent_tokenize)\r\n",
    "dfLDA['sentences'].head(1).tolist()[0][:3]"
   ]
  },
  {
   "cell_type": "code",
   "execution_count": 148,
   "metadata": {},
   "outputs": [
    {
     "data": {
      "application/vnd.jupyter.widget-view+json": {
       "model_id": "c5dd8318925748a5b98324f84667eb74",
       "version_major": 2,
       "version_minor": 0
      },
      "text/plain": [
       "  0%|          | 0/1086 [00:00<?, ?it/s]"
      ]
     },
     "metadata": {},
     "output_type": "display_data"
    },
    {
     "name": "stdout",
     "output_type": "stream",
     "text": [
      "[['Company', 'upgraded', 'to', 'windows', '10', '.'], ['Used', 'to', 'run', 'an', 'ERP', 'program', 'which', 'no', 'one', 'heard', 'about', ',', 'made', 'by', 'U8Soft', '(', 'keep', 'in', 'mind', 'that', 'the', 'company', 'is', 'in', 'China', ')', '.'], ['They', 'are', 'now', 'asking', 'for', 'an', 'insanely', 'high', 'amount', 'of', 'money', 'to', 'get', 'it', 'to', 'work', 'on', 'windows', '10', '.']]\n"
     ]
    }
   ],
   "source": [
    "dfLDA['token_sentences'] = dfLDA['sentences'].progress_map(lambda sentences: [word_tokenize(sentence) for sentence in sentences])\r\n",
    "print(dfLDA['token_sentences'].head(1).tolist()[0][:3])"
   ]
  },
  {
   "cell_type": "code",
   "execution_count": 149,
   "metadata": {},
   "outputs": [
    {
     "data": {
      "application/vnd.jupyter.widget-view+json": {
       "model_id": "7d6d0637519c4557b4684375c157430e",
       "version_major": 2,
       "version_minor": 0
      },
      "text/plain": [
       "  0%|          | 0/1086 [00:00<?, ?it/s]"
      ]
     },
     "metadata": {},
     "output_type": "display_data"
    },
    {
     "name": "stdout",
     "output_type": "stream",
     "text": [
      "[['Company', 'upgraded', 'to', 'windows', '10', '.'], ['Used', 'to', 'run', 'an', 'ERP', 'program', 'which', 'no', 'one', 'heard', 'about', ',', 'made', 'by', 'U8Soft', '(', 'keep', 'in', 'mind', 'that', 'the', 'company', 'is', 'in', 'China', ')', '.'], ['They', 'are', 'now', 'asking', 'for', 'an', 'insanely', 'high', 'amount', 'of', 'money', 'to', 'get', 'it', 'to', 'work', 'on', 'windows', '10', '.']]\n"
     ]
    }
   ],
   "source": [
    "dfLDA['tokens_sentences'] = dfLDA['sentences'].progress_map(lambda sentences: [word_tokenize(sentence) for sentence in sentences])\r\n",
    "print(dfLDA['tokens_sentences'].head(1).tolist()[0][:3])"
   ]
  },
  {
   "cell_type": "markdown",
   "metadata": {},
   "source": [
    "## Lemmatize with POS tagging"
   ]
  },
  {
   "cell_type": "code",
   "execution_count": 150,
   "metadata": {},
   "outputs": [
    {
     "data": {
      "application/vnd.jupyter.widget-view+json": {
       "model_id": "76a43bb1a1194efda50fd31bdb77fbc2",
       "version_major": 2,
       "version_minor": 0
      },
      "text/plain": [
       "  0%|          | 0/1086 [00:00<?, ?it/s]"
      ]
     },
     "metadata": {},
     "output_type": "display_data"
    },
    {
     "name": "stdout",
     "output_type": "stream",
     "text": [
      "[[('Company', 'NN'), ('upgraded', 'VBD'), ('to', 'TO'), ('windows', 'VB'), ('10', 'CD'), ('.', '.')], [('Used', 'VBN'), ('to', 'TO'), ('run', 'VB'), ('an', 'DT'), ('ERP', 'NNP'), ('program', 'NN'), ('which', 'WDT'), ('no', 'DT'), ('one', 'NN'), ('heard', 'NN'), ('about', 'IN'), (',', ','), ('made', 'VBN'), ('by', 'IN'), ('U8Soft', 'NNP'), ('(', '('), ('keep', 'VB'), ('in', 'IN'), ('mind', 'NN'), ('that', 'IN'), ('the', 'DT'), ('company', 'NN'), ('is', 'VBZ'), ('in', 'IN'), ('China', 'NNP'), (')', ')'), ('.', '.')], [('They', 'PRP'), ('are', 'VBP'), ('now', 'RB'), ('asking', 'VBG'), ('for', 'IN'), ('an', 'DT'), ('insanely', 'RB'), ('high', 'JJ'), ('amount', 'NN'), ('of', 'IN'), ('money', 'NN'), ('to', 'TO'), ('get', 'VB'), ('it', 'PRP'), ('to', 'TO'), ('work', 'VB'), ('on', 'IN'), ('windows', 'NNS'), ('10', 'CD'), ('.', '.')]]\n"
     ]
    }
   ],
   "source": [
    "dfLDA['POS_tokens'] = dfLDA['tokens_sentences'].progress_map(lambda tokens_sentences: [pos_tag(tokens) for tokens in tokens_sentences])\r\n",
    "print(dfLDA['POS_tokens'].head(1).tolist()[0][:3])\r\n"
   ]
  },
  {
   "cell_type": "code",
   "execution_count": 151,
   "metadata": {},
   "outputs": [],
   "source": [
    "# Inspired from https://stackoverflow.com/a/15590384\r\n",
    "from nltk.corpus import wordnet\r\n",
    "\r\n",
    "def get_wordnet_pos(treebank_tag):\r\n",
    "\r\n",
    "    if treebank_tag.startswith('J'):\r\n",
    "        return wordnet.ADJ\r\n",
    "    elif treebank_tag.startswith('V'):\r\n",
    "        return wordnet.VERB\r\n",
    "    elif treebank_tag.startswith('N'):\r\n",
    "        return wordnet.NOUN\r\n",
    "    elif treebank_tag.startswith('R'):\r\n",
    "        return wordnet.ADV\r\n",
    "    else:\r\n",
    "        return ''\r\n",
    "\r\n",
    "from nltk.stem.wordnet import WordNetLemmatizer\r\n",
    "lemmatizer = WordNetLemmatizer()"
   ]
  },
  {
   "cell_type": "code",
   "execution_count": 152,
   "metadata": {},
   "outputs": [
    {
     "data": {
      "application/vnd.jupyter.widget-view+json": {
       "model_id": "4e26faa7c2b043eeac40720f7af067d0",
       "version_major": 2,
       "version_minor": 0
      },
      "text/plain": [
       "  0%|          | 0/1086 [00:00<?, ?it/s]"
      ]
     },
     "metadata": {},
     "output_type": "display_data"
    }
   ],
   "source": [
    "# Lemmatizing each word with its POS tag, in each sentence\r\n",
    "dfLDA['tokens_sentences_lemmatized'] = dfLDA['POS_tokens'].progress_map(\r\n",
    "    lambda list_tokens_POS: [\r\n",
    "        [\r\n",
    "            lemmatizer.lemmatize(el[0], get_wordnet_pos(el[1])) \r\n",
    "            if get_wordnet_pos(el[1]) != '' else el[0] for el in tokens_POS\r\n",
    "        ] \r\n",
    "        for tokens_POS in list_tokens_POS\r\n",
    "    ]\r\n",
    ")"
   ]
  },
  {
   "cell_type": "code",
   "execution_count": 153,
   "metadata": {},
   "outputs": [
    {
     "data": {
      "text/plain": [
       "[['Company', 'upgrade', 'to', 'windows', '10', '.'],\n",
       " ['Used',\n",
       "  'to',\n",
       "  'run',\n",
       "  'an',\n",
       "  'ERP',\n",
       "  'program',\n",
       "  'which',\n",
       "  'no',\n",
       "  'one',\n",
       "  'heard',\n",
       "  'about',\n",
       "  ',',\n",
       "  'make',\n",
       "  'by',\n",
       "  'U8Soft',\n",
       "  '(',\n",
       "  'keep',\n",
       "  'in',\n",
       "  'mind',\n",
       "  'that',\n",
       "  'the',\n",
       "  'company',\n",
       "  'be',\n",
       "  'in',\n",
       "  'China',\n",
       "  ')',\n",
       "  '.'],\n",
       " ['They',\n",
       "  'be',\n",
       "  'now',\n",
       "  'ask',\n",
       "  'for',\n",
       "  'an',\n",
       "  'insanely',\n",
       "  'high',\n",
       "  'amount',\n",
       "  'of',\n",
       "  'money',\n",
       "  'to',\n",
       "  'get',\n",
       "  'it',\n",
       "  'to',\n",
       "  'work',\n",
       "  'on',\n",
       "  'window',\n",
       "  '10',\n",
       "  '.']]"
      ]
     },
     "execution_count": 153,
     "metadata": {},
     "output_type": "execute_result"
    }
   ],
   "source": [
    "dfLDA['tokens_sentences_lemmatized'].head(1).tolist()[0][:3]\r\n"
   ]
  },
  {
   "cell_type": "markdown",
   "metadata": {},
   "source": [
    "## Regrouping tokens and removing stop words"
   ]
  },
  {
   "cell_type": "code",
   "execution_count": 154,
   "metadata": {},
   "outputs": [],
   "source": [
    "from nltk.corpus import stopwords\r\n",
    "stopwords_verbs = ['say', 'get', 'go', 'know', 'may', 'need', 'like', 'make', 'see', 'want', 'come', 'take', 'use', 'would', 'can']\r\n",
    "stopwords_other = ['one', 'mr', 'bbc', 'image', 'getty', 'de', 'en', 'caption', 'also', 'copyright', 'something']\r\n",
    "my_stopwords = stopwords.words('English') + stopwords_verbs + stopwords_other\r\n"
   ]
  },
  {
   "cell_type": "code",
   "execution_count": 155,
   "metadata": {},
   "outputs": [],
   "source": [
    "dfLDA['tokens'] = dfLDA['tokens_sentences_lemmatized'].map(lambda sentences: list(chain.from_iterable(sentences)))\r\n",
    "dfLDA['tokens'] = dfLDA['tokens'].map(lambda tokens: [token.lower() for token in tokens if token.isalpha() \r\n",
    "                                                    and token.lower() not in my_stopwords and len(token)>1])\r\n"
   ]
  },
  {
   "cell_type": "code",
   "execution_count": 156,
   "metadata": {},
   "outputs": [
    {
     "data": {
      "text/plain": [
       "['company',\n",
       " 'upgrade',\n",
       " 'windows',\n",
       " 'used',\n",
       " 'run',\n",
       " 'erp',\n",
       " 'program',\n",
       " 'heard',\n",
       " 'keep',\n",
       " 'mind',\n",
       " 'company',\n",
       " 'china',\n",
       " 'ask',\n",
       " 'insanely',\n",
       " 'high',\n",
       " 'amount',\n",
       " 'money',\n",
       " 'work',\n",
       " 'window',\n",
       " 'try',\n",
       " 'instal',\n",
       " 'window',\n",
       " 'ca',\n",
       " 'select',\n",
       " 'server',\n",
       " 'drop',\n",
       " 'menu',\n",
       " 'almost',\n",
       " 'network',\n",
       " 'list']"
      ]
     },
     "execution_count": 156,
     "metadata": {},
     "output_type": "execute_result"
    }
   ],
   "source": [
    "dfLDA['tokens'].head(1).tolist()[0][:30]\r\n"
   ]
  },
  {
   "cell_type": "markdown",
   "metadata": {},
   "source": [
    "## Data Preparation"
   ]
  },
  {
   "cell_type": "code",
   "execution_count": 157,
   "metadata": {},
   "outputs": [],
   "source": [
    "tokens = dfLDA['tokens'].tolist()\r\n",
    "bigram_model = Phrases(tokens)\r\n",
    "trigram_model = Phrases(bigram_model[tokens], min_count=1)\r\n",
    "tokens = list(trigram_model[bigram_model[tokens]])\r\n"
   ]
  },
  {
   "cell_type": "code",
   "execution_count": 158,
   "metadata": {},
   "outputs": [],
   "source": [
    "dictionary_LDA = corpora.Dictionary(tokens)\r\n",
    "dictionary_LDA.filter_extremes(no_below=3)\r\n",
    "corpus = [dictionary_LDA.doc2bow(tok) for tok in tokens]\r\n"
   ]
  },
  {
   "cell_type": "code",
   "execution_count": 165,
   "metadata": {},
   "outputs": [
    {
     "name": "stdout",
     "output_type": "stream",
     "text": [
      "Wall time: 2.67 s\n"
     ]
    }
   ],
   "source": [
    "np.random.seed(123456)\r\n",
    "num_topics = 20\r\n",
    "\r\n",
    "%time lda_model = models.LdaModel(corpus, num_topics=num_topics, id2word=dictionary_LDA, passes=4, alpha=[0.01]*num_topics, eta=[0.01]*len(dictionary_LDA.keys()))\r\n",
    "\r\n"
   ]
  },
  {
   "cell_type": "code",
   "execution_count": 166,
   "metadata": {},
   "outputs": [
    {
     "name": "stdout",
     "output_type": "stream",
     "text": [
      "0: 0.027*\"create\" + 0.016*\"error\" + 0.014*\"try\" + 0.014*\"supplier\" + 0.012*\"set\" + 0.010*\"view\" + 0.010*\"data\" + 0.010*\"base\" + 0.009*\"receipt\" + 0.009*\"customer\" + 0.008*\"type\" + 0.008*\"record\" + 0.008*\"run\" + 0.008*\"formula\" + 0.007*\"work\" + 0.007*\"product\" + 0.007*\"process\" + 0.007*\"table\" + 0.006*\"invoice\" + 0.006*\"import_template\"\n",
      "\n",
      "1: 0.029*\"create\" + 0.025*\"user\" + 0.014*\"field\" + 0.013*\"update\" + 0.013*\"order\" + 0.012*\"screen\" + 0.012*\"hi\" + 0.011*\"po\" + 0.009*\"thanks\" + 0.009*\"add\" + 0.008*\"table\" + 0.008*\"action\" + 0.008*\"able\" + 0.007*\"sage\" + 0.007*\"signature\" + 0.007*\"set\" + 0.007*\"new\" + 0.007*\"call\" + 0.007*\"error\" + 0.006*\"look\"\n",
      "\n",
      "2: 0.019*\"error\" + 0.019*\"system\" + 0.015*\"create\" + 0.013*\"change\" + 0.012*\"try\" + 0.011*\"product\" + 0.011*\"run\" + 0.011*\"show\" + 0.010*\"folder\" + 0.010*\"lot\" + 0.009*\"order\" + 0.008*\"date\" + 0.008*\"customer\" + 0.008*\"stock\" + 0.007*\"hi\" + 0.007*\"value\" + 0.007*\"task\" + 0.007*\"report\" + 0.007*\"update\" + 0.007*\"help\"\n",
      "\n",
      "3: 0.019*\"product\" + 0.017*\"order\" + 0.016*\"create\" + 0.013*\"value\" + 0.011*\"try\" + 0.011*\"sage\" + 0.010*\"user\" + 0.010*\"new\" + 0.010*\"code\" + 0.009*\"cost\" + 0.008*\"item\" + 0.008*\"customer\" + 0.008*\"set\" + 0.007*\"line\" + 0.007*\"work\" + 0.007*\"issue\" + 0.006*\"possible\" + 0.006*\"process\" + 0.006*\"change\" + 0.006*\"way\"\n",
      "\n",
      "4: 0.020*\"table\" + 0.018*\"create\" + 0.017*\"field\" + 0.013*\"error\" + 0.012*\"try\" + 0.012*\"update\" + 0.010*\"data\" + 0.009*\"site\" + 0.009*\"statement\" + 0.009*\"product\" + 0.008*\"version\" + 0.008*\"thanks\" + 0.008*\"change\" + 0.008*\"type_search_field_click\" + 0.008*\"portal_access_sage_download\" + 0.008*\"credential_upper_right_corner\" + 0.008*\"portal_https_enter_log\" + 0.007*\"run\" + 0.007*\"available_sage_downloads_patch\" + 0.007*\"update_sage_download\"\n",
      "\n",
      "5: 0.032*\"field\" + 0.018*\"screen\" + 0.014*\"import\" + 0.013*\"hi\" + 0.012*\"product\" + 0.010*\"find\" + 0.010*\"create\" + 0.010*\"sage\" + 0.009*\"sale_order\" + 0.009*\"possible\" + 0.009*\"however\" + 0.008*\"customer\" + 0.008*\"change\" + 0.007*\"thanks\" + 0.007*\"report\" + 0.007*\"try\" + 0.007*\"currently\" + 0.007*\"information\" + 0.007*\"anyone\" + 0.007*\"stock\"\n",
      "\n",
      "6: 0.017*\"product_fully_compatible_release\" + 0.017*\"product_integrate_sage_isvs\" + 0.016*\"check_vendor_product_ensure\" + 0.016*\"integrate_sage_product_check\" + 0.016*\"business_partner_sage_ensure\" + 0.015*\"enter_log_credential_upper\" + 0.015*\"component_compatible_highly_recommended\" + 0.015*\"field_click_search_important\" + 0.015*\"sage_download_portal_access\" + 0.015*\"sage_download_portal_https\" + 0.015*\"right_corner_type_search\" + 0.014*\"search_field_type_click\" + 0.014*\"sage_downloads_patch_update\" + 0.014*\"search_complete_list_available\" + 0.014*\"access_download_log_http\" + 0.013*\"support_option_online_case\" + 0.013*\"help_visit_city_customer\" + 0.013*\"submission_sage_knowledgebase_sage\" + 0.013*\"university\" + 0.013*\"additional_resource_include_link\"\n",
      "\n",
      "7: 0.020*\"field\" + 0.016*\"process\" + 0.015*\"customer\" + 0.014*\"sage\" + 0.012*\"change\" + 0.011*\"product\" + 0.010*\"number\" + 0.010*\"show\" + 0.010*\"error_message\" + 0.009*\"table\" + 0.009*\"try\" + 0.009*\"supplier\" + 0.008*\"user\" + 0.008*\"screen\" + 0.008*\"look\" + 0.007*\"hi\" + 0.007*\"example\" + 0.007*\"set\" + 0.007*\"transaction\" + 0.007*\"find\"\n",
      "\n",
      "8: 0.031*\"table\" + 0.021*\"change\" + 0.013*\"report\" + 0.010*\"system\" + 0.010*\"however\" + 0.009*\"update\" + 0.009*\"sage\" + 0.009*\"try\" + 0.009*\"return\" + 0.008*\"record\" + 0.007*\"value\" + 0.007*\"date\" + 0.007*\"quantity\" + 0.007*\"key\" + 0.007*\"custom\" + 0.007*\"invoice\" + 0.006*\"function\" + 0.006*\"error\" + 0.006*\"itmref\" + 0.006*\"time\"\n",
      "\n",
      "9: 0.033*\"try\" + 0.023*\"sage\" + 0.016*\"web_service\" + 0.014*\"error\" + 0.013*\"company\" + 0.012*\"version\" + 0.012*\"find\" + 0.012*\"create\" + 0.011*\"stock\" + 0.009*\"hello\" + 0.009*\"wos\" + 0.009*\"anybody\" + 0.009*\"help\" + 0.008*\"item\" + 0.008*\"return\" + 0.008*\"set\" + 0.008*\"setup\" + 0.008*\"modify\" + 0.008*\"purchase_request\" + 0.007*\"folder\"\n",
      "\n",
      "10: 0.019*\"error\" + 0.018*\"user\" + 0.018*\"sage\" + 0.012*\"create\" + 0.012*\"product\" + 0.012*\"try\" + 0.011*\"version\" + 0.011*\"sql\" + 0.009*\"issue\" + 0.009*\"stock\" + 0.008*\"function\" + 0.008*\"hello\" + 0.008*\"purchase_order\" + 0.007*\"able\" + 0.007*\"screen\" + 0.007*\"invoice\" + 0.007*\"run\" + 0.007*\"process\" + 0.007*\"set\" + 0.007*\"available\"\n",
      "\n",
      "11: 0.019*\"user\" + 0.018*\"run\" + 0.018*\"sage\" + 0.017*\"report\" + 0.013*\"table\" + 0.012*\"create\" + 0.012*\"try\" + 0.012*\"error\" + 0.010*\"new\" + 0.009*\"issue\" + 0.009*\"version\" + 0.009*\"thanks\" + 0.008*\"server\" + 0.008*\"call\" + 0.007*\"work\" + 0.007*\"add\" + 0.007*\"function\" + 0.007*\"code\" + 0.007*\"set\" + 0.006*\"hi\"\n",
      "\n",
      "12: 0.023*\"invoice\" + 0.020*\"create\" + 0.015*\"import\" + 0.015*\"delivery\" + 0.013*\"set\" + 0.012*\"user\" + 0.011*\"sage\" + 0.009*\"anyone\" + 0.009*\"find\" + 0.007*\"po\" + 0.007*\"allow\" + 0.006*\"example\" + 0.006*\"file\" + 0.006*\"issue\" + 0.006*\"day\" + 0.006*\"number\" + 0.006*\"display\" + 0.006*\"product\" + 0.006*\"table\" + 0.005*\"appear\"\n",
      "\n",
      "13: 0.022*\"line\" + 0.016*\"error\" + 0.013*\"product\" + 0.013*\"status\" + 0.012*\"try\" + 0.010*\"field\" + 0.010*\"hi\" + 0.010*\"number\" + 0.008*\"change\" + 0.008*\"import\" + 0.008*\"total\" + 0.008*\"help\" + 0.008*\"function\" + 0.007*\"example\" + 0.007*\"process\" + 0.007*\"please\" + 0.007*\"add\" + 0.007*\"account\" + 0.007*\"requirement\" + 0.007*\"rate\"\n",
      "\n",
      "14: 0.033*\"sage\" + 0.021*\"field\" + 0.017*\"date\" + 0.015*\"try\" + 0.015*\"user\" + 0.014*\"hi\" + 0.010*\"screen\" + 0.010*\"function\" + 0.009*\"find\" + 0.009*\"problem\" + 0.008*\"error\" + 0.008*\"description\" + 0.007*\"work\" + 0.007*\"way\" + 0.007*\"connection\" + 0.007*\"look\" + 0.007*\"example\" + 0.006*\"call\" + 0.006*\"system\" + 0.006*\"different\"\n",
      "\n",
      "15: 0.030*\"file\" + 0.016*\"folder\" + 0.016*\"sage\" + 0.016*\"create\" + 0.014*\"add\" + 0.014*\"issue\" + 0.013*\"error\" + 0.012*\"work\" + 0.012*\"try\" + 0.010*\"delete\" + 0.009*\"anyone\" + 0.009*\"thanks\" + 0.009*\"find\" + 0.008*\"endpoint\" + 0.007*\"product\" + 0.007*\"select\" + 0.007*\"reference\" + 0.007*\"run\" + 0.007*\"message\" + 0.006*\"import\"\n",
      "\n",
      "16: 0.022*\"customer\" + 0.019*\"change\" + 0.013*\"sage\" + 0.012*\"site\" + 0.011*\"way\" + 0.011*\"product\" + 0.011*\"new\" + 0.010*\"find\" + 0.009*\"company\" + 0.009*\"run\" + 0.009*\"record\" + 0.009*\"invoice\" + 0.009*\"try\" + 0.008*\"setup\" + 0.008*\"update\" + 0.008*\"hello\" + 0.008*\"number\" + 0.007*\"link\" + 0.007*\"file\" + 0.007*\"table\"\n",
      "\n",
      "17: 0.055*\"sage\" + 0.014*\"customer\" + 0.013*\"work\" + 0.013*\"create\" + 0.011*\"hi\" + 0.011*\"try\" + 0.009*\"code\" + 0.009*\"et\" + 0.009*\"error\" + 0.009*\"update\" + 0.008*\"different\" + 0.008*\"la\" + 0.008*\"server\" + 0.008*\"le\" + 0.007*\"question\" + 0.007*\"access\" + 0.006*\"patch\" + 0.006*\"company\" + 0.006*\"une\" + 0.006*\"thanks\"\n",
      "\n",
      "18: 0.022*\"error\" + 0.017*\"folder\" + 0.015*\"thanks\" + 0.014*\"work\" + 0.012*\"way\" + 0.012*\"sage\" + 0.010*\"file\" + 0.009*\"run\" + 0.009*\"line\" + 0.009*\"problem\" + 0.008*\"create\" + 0.008*\"set\" + 0.008*\"next\" + 0.007*\"report\" + 0.007*\"help\" + 0.007*\"hello\" + 0.007*\"action\" + 0.007*\"import\" + 0.007*\"code\" + 0.006*\"open\"\n",
      "\n",
      "19: 0.027*\"line\" + 0.025*\"invoice\" + 0.015*\"customer\" + 0.013*\"way\" + 0.013*\"hi\" + 0.012*\"sage\" + 0.011*\"run\" + 0.011*\"record\" + 0.010*\"anyone\" + 0.010*\"try\" + 0.010*\"seem\" + 0.010*\"post\" + 0.010*\"different\" + 0.008*\"error\" + 0.008*\"change\" + 0.008*\"function\" + 0.007*\"hello\" + 0.007*\"issue\" + 0.007*\"sale_order\" + 0.007*\"code\"\n",
      "\n"
     ]
    }
   ],
   "source": [
    "for i,topic in lda_model.show_topics(formatted=True, num_topics=num_topics, num_words=20):\r\n",
    "    print(str(i)+\": \"+ topic)\r\n",
    "    print()"
   ]
  },
  {
   "cell_type": "code",
   "execution_count": 174,
   "metadata": {},
   "outputs": [
    {
     "data": {
      "text/html": [
       "<div>\n",
       "<style scoped>\n",
       "    .dataframe tbody tr th:only-of-type {\n",
       "        vertical-align: middle;\n",
       "    }\n",
       "\n",
       "    .dataframe tbody tr th {\n",
       "        vertical-align: top;\n",
       "    }\n",
       "\n",
       "    .dataframe thead th {\n",
       "        text-align: right;\n",
       "    }\n",
       "</style>\n",
       "<table border=\"1\" class=\"dataframe\">\n",
       "  <thead>\n",
       "    <tr style=\"text-align: right;\">\n",
       "      <th></th>\n",
       "      <th>Forum ID</th>\n",
       "      <th>Forum Name</th>\n",
       "      <th>Subject</th>\n",
       "      <th>Post Date</th>\n",
       "      <th>User DisplayName</th>\n",
       "      <th>Forum_Post_Raw</th>\n",
       "      <th>compound</th>\n",
       "      <th>neg</th>\n",
       "      <th>neu</th>\n",
       "      <th>pos</th>\n",
       "      <th>Sentiment</th>\n",
       "      <th>DayName</th>\n",
       "      <th>DayOfMonth</th>\n",
       "      <th>ShortText</th>\n",
       "      <th>sentences</th>\n",
       "      <th>token_sentences</th>\n",
       "      <th>tokens_sentences</th>\n",
       "      <th>POS_tokens</th>\n",
       "      <th>tokens_sentences_lemmatized</th>\n",
       "      <th>tokens</th>\n",
       "    </tr>\n",
       "    <tr>\n",
       "      <th>PostDate</th>\n",
       "      <th></th>\n",
       "      <th></th>\n",
       "      <th></th>\n",
       "      <th></th>\n",
       "      <th></th>\n",
       "      <th></th>\n",
       "      <th></th>\n",
       "      <th></th>\n",
       "      <th></th>\n",
       "      <th></th>\n",
       "      <th></th>\n",
       "      <th></th>\n",
       "      <th></th>\n",
       "      <th></th>\n",
       "      <th></th>\n",
       "      <th></th>\n",
       "      <th></th>\n",
       "      <th></th>\n",
       "      <th></th>\n",
       "      <th></th>\n",
       "    </tr>\n",
       "  </thead>\n",
       "  <tbody>\n",
       "    <tr>\n",
       "      <th>2019-10-10 05:58:05.730</th>\n",
       "      <td>40</td>\n",
       "      <td>Sage X3 General Discussion</td>\n",
       "      <td>ERP help urgently needed</td>\n",
       "      <td>2019-10-10T05:58:05.73</td>\n",
       "      <td>ChinusGomes</td>\n",
       "      <td>Company upgraded to windows 10. Used to run an...</td>\n",
       "      <td>0.0387</td>\n",
       "      <td>0.063</td>\n",
       "      <td>0.873</td>\n",
       "      <td>0.064</td>\n",
       "      <td>Neutral</td>\n",
       "      <td>Thursday</td>\n",
       "      <td>10</td>\n",
       "      <td>Company upgraded to windows 10. Used to run an...</td>\n",
       "      <td>[Company upgraded to windows 10., Used to run ...</td>\n",
       "      <td>[[Company, upgraded, to, windows, 10, .], [Use...</td>\n",
       "      <td>[[Company, upgraded, to, windows, 10, .], [Use...</td>\n",
       "      <td>[[(Company, NN), (upgraded, VBD), (to, TO), (w...</td>\n",
       "      <td>[[Company, upgrade, to, windows, 10, .], [Used...</td>\n",
       "      <td>[company, upgrade, windows, used, run, erp, pr...</td>\n",
       "    </tr>\n",
       "  </tbody>\n",
       "</table>\n",
       "</div>"
      ],
      "text/plain": [
       "                         Forum ID                  Forum Name  \\\n",
       "PostDate                                                        \n",
       "2019-10-10 05:58:05.730        40  Sage X3 General Discussion   \n",
       "\n",
       "                                          Subject               Post Date  \\\n",
       "PostDate                                                                    \n",
       "2019-10-10 05:58:05.730  ERP help urgently needed  2019-10-10T05:58:05.73   \n",
       "\n",
       "                        User DisplayName  \\\n",
       "PostDate                                   \n",
       "2019-10-10 05:58:05.730      ChinusGomes   \n",
       "\n",
       "                                                            Forum_Post_Raw  \\\n",
       "PostDate                                                                     \n",
       "2019-10-10 05:58:05.730  Company upgraded to windows 10. Used to run an...   \n",
       "\n",
       "                         compound    neg    neu    pos Sentiment   DayName  \\\n",
       "PostDate                                                                     \n",
       "2019-10-10 05:58:05.730    0.0387  0.063  0.873  0.064   Neutral  Thursday   \n",
       "\n",
       "                         DayOfMonth  \\\n",
       "PostDate                              \n",
       "2019-10-10 05:58:05.730          10   \n",
       "\n",
       "                                                                 ShortText  \\\n",
       "PostDate                                                                     \n",
       "2019-10-10 05:58:05.730  Company upgraded to windows 10. Used to run an...   \n",
       "\n",
       "                                                                 sentences  \\\n",
       "PostDate                                                                     \n",
       "2019-10-10 05:58:05.730  [Company upgraded to windows 10., Used to run ...   \n",
       "\n",
       "                                                           token_sentences  \\\n",
       "PostDate                                                                     \n",
       "2019-10-10 05:58:05.730  [[Company, upgraded, to, windows, 10, .], [Use...   \n",
       "\n",
       "                                                          tokens_sentences  \\\n",
       "PostDate                                                                     \n",
       "2019-10-10 05:58:05.730  [[Company, upgraded, to, windows, 10, .], [Use...   \n",
       "\n",
       "                                                                POS_tokens  \\\n",
       "PostDate                                                                     \n",
       "2019-10-10 05:58:05.730  [[(Company, NN), (upgraded, VBD), (to, TO), (w...   \n",
       "\n",
       "                                               tokens_sentences_lemmatized  \\\n",
       "PostDate                                                                     \n",
       "2019-10-10 05:58:05.730  [[Company, upgrade, to, windows, 10, .], [Used...   \n",
       "\n",
       "                                                                    tokens  \n",
       "PostDate                                                                    \n",
       "2019-10-10 05:58:05.730  [company, upgrade, windows, used, run, erp, pr...  "
      ]
     },
     "execution_count": 174,
     "metadata": {},
     "output_type": "execute_result"
    }
   ],
   "source": [
    "## Allocation topics to documents\r\n",
    "dfLDA.head(1)\r\n"
   ]
  },
  {
   "cell_type": "code",
   "execution_count": 175,
   "metadata": {},
   "outputs": [
    {
     "data": {
      "text/plain": [
       "[(1, 0.39815605), (10, 0.42754552), (14, 0.16972747)]"
      ]
     },
     "execution_count": 175,
     "metadata": {},
     "output_type": "execute_result"
    }
   ],
   "source": [
    "lda_model[corpus[0]]"
   ]
  },
  {
   "cell_type": "markdown",
   "metadata": {},
   "source": [
    "## Predict based on input"
   ]
  },
  {
   "cell_type": "markdown",
   "metadata": {},
   "source": [
    "# Advanced exploration of LDA result\r\n",
    "## Allocation of topics in all documents"
   ]
  },
  {
   "cell_type": "code",
   "execution_count": 178,
   "metadata": {},
   "outputs": [],
   "source": [
    "topics = [lda_model[corpus[i]] for i in range(len(dfLDA))]"
   ]
  },
  {
   "cell_type": "code",
   "execution_count": 179,
   "metadata": {},
   "outputs": [],
   "source": [
    "\r\n",
    "def topics_document_to_dataframe(topics_document, num_topics):\r\n",
    "    res = pd.DataFrame(columns=range(num_topics))\r\n",
    "    for topic_weight in topics_document:\r\n",
    "        res.loc[0, topic_weight[0]] = topic_weight[1]\r\n",
    "    return res"
   ]
  },
  {
   "cell_type": "code",
   "execution_count": 180,
   "metadata": {},
   "outputs": [
    {
     "data": {
      "text/html": [
       "<div>\n",
       "<style scoped>\n",
       "    .dataframe tbody tr th:only-of-type {\n",
       "        vertical-align: middle;\n",
       "    }\n",
       "\n",
       "    .dataframe tbody tr th {\n",
       "        vertical-align: top;\n",
       "    }\n",
       "\n",
       "    .dataframe thead th {\n",
       "        text-align: right;\n",
       "    }\n",
       "</style>\n",
       "<table border=\"1\" class=\"dataframe\">\n",
       "  <thead>\n",
       "    <tr style=\"text-align: right;\">\n",
       "      <th></th>\n",
       "      <th>0</th>\n",
       "      <th>1</th>\n",
       "      <th>2</th>\n",
       "      <th>3</th>\n",
       "      <th>4</th>\n",
       "      <th>5</th>\n",
       "      <th>6</th>\n",
       "      <th>7</th>\n",
       "      <th>8</th>\n",
       "      <th>9</th>\n",
       "      <th>10</th>\n",
       "      <th>11</th>\n",
       "      <th>12</th>\n",
       "      <th>13</th>\n",
       "      <th>14</th>\n",
       "      <th>15</th>\n",
       "      <th>16</th>\n",
       "      <th>17</th>\n",
       "      <th>18</th>\n",
       "      <th>19</th>\n",
       "    </tr>\n",
       "  </thead>\n",
       "  <tbody>\n",
       "    <tr>\n",
       "      <th>0</th>\n",
       "      <td>NaN</td>\n",
       "      <td>NaN</td>\n",
       "      <td>NaN</td>\n",
       "      <td>NaN</td>\n",
       "      <td>NaN</td>\n",
       "      <td>NaN</td>\n",
       "      <td>NaN</td>\n",
       "      <td>NaN</td>\n",
       "      <td>NaN</td>\n",
       "      <td>0.038537</td>\n",
       "      <td>NaN</td>\n",
       "      <td>NaN</td>\n",
       "      <td>NaN</td>\n",
       "      <td>NaN</td>\n",
       "      <td>NaN</td>\n",
       "      <td>0.091301</td>\n",
       "      <td>NaN</td>\n",
       "      <td>NaN</td>\n",
       "      <td>0.869287</td>\n",
       "      <td>NaN</td>\n",
       "    </tr>\n",
       "  </tbody>\n",
       "</table>\n",
       "</div>"
      ],
      "text/plain": [
       "    0    1    2    3    4    5    6    7    8         9    10   11   12   13  \\\n",
       "0  NaN  NaN  NaN  NaN  NaN  NaN  NaN  NaN  NaN  0.038537  NaN  NaN  NaN  NaN   \n",
       "\n",
       "    14        15   16   17        18   19  \n",
       "0  NaN  0.091301  NaN  NaN  0.869287  NaN  "
      ]
     },
     "execution_count": 180,
     "metadata": {},
     "output_type": "execute_result"
    }
   ],
   "source": [
    "topics_document_to_dataframe([(9, 0.03853655432967504), (15, 0.09130117862212643), (18, 0.8692868808484044)], 20)\r\n"
   ]
  },
  {
   "cell_type": "code",
   "execution_count": 181,
   "metadata": {},
   "outputs": [],
   "source": [
    "\r\n",
    "# Like TF-IDF, create a matrix of topic weighting, with documents as rows and topics as columns\r\n",
    "document_topic = \\\r\n",
    "pd.concat([topics_document_to_dataframe(topics_document, num_topics=num_topics) for topics_document in topics]) \\\r\n",
    "  .reset_index(drop=True).fillna(0)"
   ]
  },
  {
   "cell_type": "code",
   "execution_count": 182,
   "metadata": {},
   "outputs": [
    {
     "data": {
      "text/plain": [
       "176     0.996289\n",
       "434     0.995796\n",
       "343     0.994751\n",
       "1030    0.994444\n",
       "153     0.993493\n",
       "659     0.992747\n",
       "642     0.992747\n",
       "764     0.992747\n",
       "591     0.992460\n",
       "587     0.992460\n",
       "338     0.992460\n",
       "576     0.992148\n",
       "282     0.991441\n",
       "914     0.991440\n",
       "558     0.990103\n",
       "152     0.990103\n",
       "384     0.990103\n",
       "41      0.989560\n",
       "119     0.989560\n",
       "551     0.988953\n",
       "Name: 14, dtype: float64"
      ]
     },
     "execution_count": 182,
     "metadata": {},
     "output_type": "execute_result"
    }
   ],
   "source": [
    "# Which document are about topic 14\r\n",
    "document_topic.sort_values(14, ascending=False)[14].head(20)"
   ]
  },
  {
   "cell_type": "code",
   "execution_count": 185,
   "metadata": {},
   "outputs": [
    {
     "ename": "AttributeError",
     "evalue": "'DataFrame' object has no attribute 'articles'",
     "output_type": "error",
     "traceback": [
      "\u001b[1;31m---------------------------------------------------------------------------\u001b[0m",
      "\u001b[1;31mAttributeError\u001b[0m                            Traceback (most recent call last)",
      "\u001b[1;32m<ipython-input-185-28ab6a705cea>\u001b[0m in \u001b[0;36m<module>\u001b[1;34m\u001b[0m\n\u001b[1;32m----> 1\u001b[1;33m \u001b[0mprint\u001b[0m\u001b[1;33m(\u001b[0m\u001b[0mdfLDA\u001b[0m\u001b[1;33m.\u001b[0m\u001b[0marticles\u001b[0m\u001b[1;33m.\u001b[0m\u001b[0mloc\u001b[0m\u001b[1;33m[\u001b[0m\u001b[1;36m176\u001b[0m\u001b[1;33m]\u001b[0m\u001b[1;33m[\u001b[0m\u001b[1;33m:\u001b[0m\u001b[1;36m1000\u001b[0m\u001b[1;33m]\u001b[0m\u001b[1;33m)\u001b[0m\u001b[1;33m\u001b[0m\u001b[1;33m\u001b[0m\u001b[0m\n\u001b[0m",
      "\u001b[1;32m~\\Anaconda3\\lib\\site-packages\\pandas\\core\\generic.py\u001b[0m in \u001b[0;36m__getattr__\u001b[1;34m(self, name)\u001b[0m\n\u001b[0;32m   5463\u001b[0m             \u001b[1;32mif\u001b[0m \u001b[0mself\u001b[0m\u001b[1;33m.\u001b[0m\u001b[0m_info_axis\u001b[0m\u001b[1;33m.\u001b[0m\u001b[0m_can_hold_identifiers_and_holds_name\u001b[0m\u001b[1;33m(\u001b[0m\u001b[0mname\u001b[0m\u001b[1;33m)\u001b[0m\u001b[1;33m:\u001b[0m\u001b[1;33m\u001b[0m\u001b[1;33m\u001b[0m\u001b[0m\n\u001b[0;32m   5464\u001b[0m                 \u001b[1;32mreturn\u001b[0m \u001b[0mself\u001b[0m\u001b[1;33m[\u001b[0m\u001b[0mname\u001b[0m\u001b[1;33m]\u001b[0m\u001b[1;33m\u001b[0m\u001b[1;33m\u001b[0m\u001b[0m\n\u001b[1;32m-> 5465\u001b[1;33m             \u001b[1;32mreturn\u001b[0m \u001b[0mobject\u001b[0m\u001b[1;33m.\u001b[0m\u001b[0m__getattribute__\u001b[0m\u001b[1;33m(\u001b[0m\u001b[0mself\u001b[0m\u001b[1;33m,\u001b[0m \u001b[0mname\u001b[0m\u001b[1;33m)\u001b[0m\u001b[1;33m\u001b[0m\u001b[1;33m\u001b[0m\u001b[0m\n\u001b[0m\u001b[0;32m   5466\u001b[0m \u001b[1;33m\u001b[0m\u001b[0m\n\u001b[0;32m   5467\u001b[0m     \u001b[1;32mdef\u001b[0m \u001b[0m__setattr__\u001b[0m\u001b[1;33m(\u001b[0m\u001b[0mself\u001b[0m\u001b[1;33m,\u001b[0m \u001b[0mname\u001b[0m\u001b[1;33m:\u001b[0m \u001b[0mstr\u001b[0m\u001b[1;33m,\u001b[0m \u001b[0mvalue\u001b[0m\u001b[1;33m)\u001b[0m \u001b[1;33m->\u001b[0m \u001b[1;32mNone\u001b[0m\u001b[1;33m:\u001b[0m\u001b[1;33m\u001b[0m\u001b[1;33m\u001b[0m\u001b[0m\n",
      "\u001b[1;31mAttributeError\u001b[0m: 'DataFrame' object has no attribute 'articles'"
     ]
    }
   ],
   "source": [
    "print(dfLDA.articles.loc[176][:1000])"
   ]
  },
  {
   "cell_type": "code",
   "execution_count": null,
   "metadata": {},
   "outputs": [],
   "source": []
  }
 ],
 "metadata": {
  "interpreter": {
   "hash": "6a17a13407a242fa5e52f5f0d84ee969a8e600591a999235f1645da9e037e8a0"
  },
  "kernelspec": {
   "display_name": "Python 3.8.8 64-bit ('base': conda)",
   "name": "python3"
  },
  "language_info": {
   "codemirror_mode": {
    "name": "ipython",
    "version": 3
   },
   "file_extension": ".py",
   "mimetype": "text/x-python",
   "name": "python",
   "nbconvert_exporter": "python",
   "pygments_lexer": "ipython3",
   "version": "3.8.8"
  },
  "orig_nbformat": 2
 },
 "nbformat": 4,
 "nbformat_minor": 2
}