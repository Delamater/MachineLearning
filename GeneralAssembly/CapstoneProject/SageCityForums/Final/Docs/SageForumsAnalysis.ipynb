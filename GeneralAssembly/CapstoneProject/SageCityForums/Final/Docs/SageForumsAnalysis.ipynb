{
 "cells": [
  {
   "cell_type": "markdown",
   "metadata": {},
   "source": [
    "# Read Sage City Forum Data And Output Topics"
   ]
  },
  {
   "cell_type": "markdown",
   "metadata": {},
   "source": [
    "## Requirements Setup"
   ]
  },
  {
   "cell_type": "code",
   "execution_count": 1,
   "metadata": {},
   "outputs": [
    {
     "name": "stdout",
     "output_type": "stream",
     "text": [
      "Requirement already satisfied: lxml in c:\\users\\bdelamater\\anaconda3\\lib\\site-packages (4.6.3)\n",
      "Requirement already satisfied: nltk in c:\\users\\bdelamater\\anaconda3\\lib\\site-packages (3.6.1)\n",
      "Requirement already satisfied: joblib in c:\\users\\bdelamater\\anaconda3\\lib\\site-packages (from nltk) (1.0.1)\n",
      "Requirement already satisfied: tqdm in c:\\users\\bdelamater\\anaconda3\\lib\\site-packages (from nltk) (4.59.0)\n",
      "Requirement already satisfied: regex in c:\\users\\bdelamater\\anaconda3\\lib\\site-packages (from nltk) (2021.4.4)\n",
      "Requirement already satisfied: click in c:\\users\\bdelamater\\anaconda3\\lib\\site-packages (from nltk) (7.1.2)\n",
      "Requirement already satisfied: seaborn in c:\\users\\bdelamater\\anaconda3\\lib\\site-packages (0.11.1)\n",
      "Requirement already satisfied: scipy>=1.0 in c:\\users\\bdelamater\\anaconda3\\lib\\site-packages (from seaborn) (1.6.2)\n",
      "Requirement already satisfied: matplotlib>=2.2 in c:\\users\\bdelamater\\anaconda3\\lib\\site-packages (from seaborn) (3.4.2)\n",
      "Requirement already satisfied: pandas>=0.23 in c:\\users\\bdelamater\\anaconda3\\lib\\site-packages (from seaborn) (1.2.4)\n",
      "Requirement already satisfied: numpy>=1.15 in c:\\users\\bdelamater\\anaconda3\\lib\\site-packages (from seaborn) (1.20.1)\n",
      "Requirement already satisfied: cycler>=0.10 in c:\\users\\bdelamater\\anaconda3\\lib\\site-packages (from matplotlib>=2.2->seaborn) (0.10.0)\n",
      "Requirement already satisfied: python-dateutil>=2.7 in c:\\users\\bdelamater\\anaconda3\\lib\\site-packages (from matplotlib>=2.2->seaborn) (2.8.1)\n",
      "Requirement already satisfied: pillow>=6.2.0 in c:\\users\\bdelamater\\anaconda3\\lib\\site-packages (from matplotlib>=2.2->seaborn) (8.2.0)\n",
      "Requirement already satisfied: pyparsing>=2.2.1 in c:\\users\\bdelamater\\anaconda3\\lib\\site-packages (from matplotlib>=2.2->seaborn) (2.4.7)\n",
      "Requirement already satisfied: kiwisolver>=1.0.1 in c:\\users\\bdelamater\\anaconda3\\lib\\site-packages (from matplotlib>=2.2->seaborn) (1.3.1)\n",
      "Requirement already satisfied: six in c:\\users\\bdelamater\\anaconda3\\lib\\site-packages (from cycler>=0.10->matplotlib>=2.2->seaborn) (1.15.0)\n",
      "Requirement already satisfied: pytz>=2017.3 in c:\\users\\bdelamater\\anaconda3\\lib\\site-packages (from pandas>=0.23->seaborn) (2021.1)\n",
      "Requirement already satisfied: textblob in c:\\users\\bdelamater\\anaconda3\\lib\\site-packages (0.15.3)\n",
      "Requirement already satisfied: nltk>=3.1 in c:\\users\\bdelamater\\anaconda3\\lib\\site-packages (from textblob) (3.6.1)\n",
      "Requirement already satisfied: click in c:\\users\\bdelamater\\anaconda3\\lib\\site-packages (from nltk>=3.1->textblob) (7.1.2)\n",
      "Requirement already satisfied: regex in c:\\users\\bdelamater\\anaconda3\\lib\\site-packages (from nltk>=3.1->textblob) (2021.4.4)\n",
      "Requirement already satisfied: tqdm in c:\\users\\bdelamater\\anaconda3\\lib\\site-packages (from nltk>=3.1->textblob) (4.59.0)\n",
      "Requirement already satisfied: joblib in c:\\users\\bdelamater\\anaconda3\\lib\\site-packages (from nltk>=3.1->textblob) (1.0.1)\n",
      "Requirement already satisfied: bs4 in c:\\users\\bdelamater\\anaconda3\\lib\\site-packages (0.0.1)\n",
      "Requirement already satisfied: beautifulsoup4 in c:\\users\\bdelamater\\anaconda3\\lib\\site-packages (from bs4) (4.9.3)\n",
      "Requirement already satisfied: soupsieve>1.2 in c:\\users\\bdelamater\\anaconda3\\lib\\site-packages (from beautifulsoup4->bs4) (2.2.1)\n",
      "Requirement already satisfied: xlrd in c:\\users\\bdelamater\\anaconda3\\lib\\site-packages (2.0.1)\n",
      "Requirement already satisfied: openpyxl in c:\\users\\bdelamater\\anaconda3\\lib\\site-packages (3.0.7)\n",
      "Requirement already satisfied: et-xmlfile in c:\\users\\bdelamater\\anaconda3\\lib\\site-packages (from openpyxl) (1.0.1)\n",
      "Requirement already satisfied: nbformat in c:\\users\\bdelamater\\anaconda3\\lib\\site-packages (5.1.3)\n",
      "Requirement already satisfied: ipython-genutils in c:\\users\\bdelamater\\anaconda3\\lib\\site-packages (from nbformat) (0.2.0)\n",
      "Requirement already satisfied: jupyter-core in c:\\users\\bdelamater\\anaconda3\\lib\\site-packages (from nbformat) (4.7.1)\n",
      "Requirement already satisfied: jsonschema!=2.5.0,>=2.4 in c:\\users\\bdelamater\\anaconda3\\lib\\site-packages (from nbformat) (3.2.0)\n",
      "Requirement already satisfied: traitlets>=4.1 in c:\\users\\bdelamater\\anaconda3\\lib\\site-packages (from nbformat) (5.0.5)\n",
      "Requirement already satisfied: attrs>=17.4.0 in c:\\users\\bdelamater\\anaconda3\\lib\\site-packages (from jsonschema!=2.5.0,>=2.4->nbformat) (20.3.0)\n",
      "Requirement already satisfied: setuptools in c:\\users\\bdelamater\\anaconda3\\lib\\site-packages (from jsonschema!=2.5.0,>=2.4->nbformat) (52.0.0.post20210125)\n",
      "Requirement already satisfied: pyrsistent>=0.14.0 in c:\\users\\bdelamater\\anaconda3\\lib\\site-packages (from jsonschema!=2.5.0,>=2.4->nbformat) (0.17.3)\n",
      "Requirement already satisfied: six>=1.11.0 in c:\\users\\bdelamater\\anaconda3\\lib\\site-packages (from jsonschema!=2.5.0,>=2.4->nbformat) (1.15.0)\n",
      "Requirement already satisfied: pywin32>=1.0 in c:\\users\\bdelamater\\anaconda3\\lib\\site-packages (from jupyter-core->nbformat) (227)\n",
      "Requirement already satisfied: gensim in c:\\users\\bdelamater\\anaconda3\\lib\\site-packages (4.0.1)\n",
      "Requirement already satisfied: smart-open>=1.8.1 in c:\\users\\bdelamater\\anaconda3\\lib\\site-packages (from gensim) (5.1.0)\n",
      "Requirement already satisfied: Cython==0.29.21 in c:\\users\\bdelamater\\anaconda3\\lib\\site-packages (from gensim) (0.29.21)\n",
      "Requirement already satisfied: scipy>=0.18.1 in c:\\users\\bdelamater\\anaconda3\\lib\\site-packages (from gensim) (1.6.2)\n",
      "Requirement already satisfied: numpy>=1.11.3 in c:\\users\\bdelamater\\anaconda3\\lib\\site-packages (from gensim) (1.20.1)\n",
      "Requirement already satisfied: langdetect in c:\\users\\bdelamater\\anaconda3\\lib\\site-packages (1.0.9)\n",
      "Requirement already satisfied: six in c:\\users\\bdelamater\\anaconda3\\lib\\site-packages (from langdetect) (1.15.0)\n",
      "Requirement already satisfied: ipywidgets in c:\\users\\bdelamater\\anaconda3\\lib\\site-packages (7.6.3)\n",
      "Requirement already satisfied: ipython>=4.0.0 in c:\\users\\bdelamater\\anaconda3\\lib\\site-packages (from ipywidgets) (7.22.0)\n",
      "Requirement already satisfied: ipykernel>=4.5.1 in c:\\users\\bdelamater\\anaconda3\\lib\\site-packages (from ipywidgets) (5.3.4)\n",
      "Requirement already satisfied: nbformat>=4.2.0 in c:\\users\\bdelamater\\anaconda3\\lib\\site-packages (from ipywidgets) (5.1.3)\n",
      "Requirement already satisfied: jupyterlab-widgets>=1.0.0 in c:\\users\\bdelamater\\anaconda3\\lib\\site-packages (from ipywidgets) (1.0.0)\n",
      "Requirement already satisfied: widgetsnbextension~=3.5.0 in c:\\users\\bdelamater\\anaconda3\\lib\\site-packages (from ipywidgets) (3.5.1)\n",
      "Requirement already satisfied: traitlets>=4.3.1 in c:\\users\\bdelamater\\anaconda3\\lib\\site-packages (from ipywidgets) (5.0.5)\n",
      "Requirement already satisfied: jupyter-client in c:\\users\\bdelamater\\anaconda3\\lib\\site-packages (from ipykernel>=4.5.1->ipywidgets) (6.1.12)\n",
      "Requirement already satisfied: tornado>=4.2 in c:\\users\\bdelamater\\anaconda3\\lib\\site-packages (from ipykernel>=4.5.1->ipywidgets) (6.1)\n",
      "Requirement already satisfied: prompt-toolkit!=3.0.0,!=3.0.1,<3.1.0,>=2.0.0 in c:\\users\\bdelamater\\anaconda3\\lib\\site-packages (from ipython>=4.0.0->ipywidgets) (3.0.17)\n",
      "Requirement already satisfied: jedi>=0.16 in c:\\users\\bdelamater\\anaconda3\\lib\\site-packages (from ipython>=4.0.0->ipywidgets) (0.17.2)\n",
      "Requirement already satisfied: pygments in c:\\users\\bdelamater\\anaconda3\\lib\\site-packages (from ipython>=4.0.0->ipywidgets) (2.8.1)\n",
      "Requirement already satisfied: decorator in c:\\users\\bdelamater\\anaconda3\\lib\\site-packages (from ipython>=4.0.0->ipywidgets) (5.0.6)\n",
      "Requirement already satisfied: setuptools>=18.5 in c:\\users\\bdelamater\\anaconda3\\lib\\site-packages (from ipython>=4.0.0->ipywidgets) (52.0.0.post20210125)\n",
      "Requirement already satisfied: backcall in c:\\users\\bdelamater\\anaconda3\\lib\\site-packages (from ipython>=4.0.0->ipywidgets) (0.2.0)\n",
      "Requirement already satisfied: colorama in c:\\users\\bdelamater\\anaconda3\\lib\\site-packages (from ipython>=4.0.0->ipywidgets) (0.4.4)\n",
      "Requirement already satisfied: pickleshare in c:\\users\\bdelamater\\anaconda3\\lib\\site-packages (from ipython>=4.0.0->ipywidgets) (0.7.5)\n",
      "Requirement already satisfied: parso<0.8.0,>=0.7.0 in c:\\users\\bdelamater\\anaconda3\\lib\\site-packages (from jedi>=0.16->ipython>=4.0.0->ipywidgets) (0.7.0)\n",
      "Requirement already satisfied: jupyter-core in c:\\users\\bdelamater\\anaconda3\\lib\\site-packages (from nbformat>=4.2.0->ipywidgets) (4.7.1)\n",
      "Requirement already satisfied: jsonschema!=2.5.0,>=2.4 in c:\\users\\bdelamater\\anaconda3\\lib\\site-packages (from nbformat>=4.2.0->ipywidgets) (3.2.0)\n",
      "Requirement already satisfied: ipython-genutils in c:\\users\\bdelamater\\anaconda3\\lib\\site-packages (from nbformat>=4.2.0->ipywidgets) (0.2.0)\n",
      "Requirement already satisfied: attrs>=17.4.0 in c:\\users\\bdelamater\\anaconda3\\lib\\site-packages (from jsonschema!=2.5.0,>=2.4->nbformat>=4.2.0->ipywidgets) (20.3.0)\n",
      "Requirement already satisfied: six>=1.11.0 in c:\\users\\bdelamater\\anaconda3\\lib\\site-packages (from jsonschema!=2.5.0,>=2.4->nbformat>=4.2.0->ipywidgets) (1.15.0)\n",
      "Requirement already satisfied: pyrsistent>=0.14.0 in c:\\users\\bdelamater\\anaconda3\\lib\\site-packages (from jsonschema!=2.5.0,>=2.4->nbformat>=4.2.0->ipywidgets) (0.17.3)\n",
      "Requirement already satisfied: wcwidth in c:\\users\\bdelamater\\anaconda3\\lib\\site-packages (from prompt-toolkit!=3.0.0,!=3.0.1,<3.1.0,>=2.0.0->ipython>=4.0.0->ipywidgets) (0.2.5)\n",
      "Requirement already satisfied: notebook>=4.4.1 in c:\\users\\bdelamater\\anaconda3\\lib\\site-packages (from widgetsnbextension~=3.5.0->ipywidgets) (6.3.0)\n",
      "Requirement already satisfied: Send2Trash>=1.5.0 in c:\\users\\bdelamater\\anaconda3\\lib\\site-packages (from notebook>=4.4.1->widgetsnbextension~=3.5.0->ipywidgets) (1.5.0)\n",
      "Requirement already satisfied: prometheus-client in c:\\users\\bdelamater\\anaconda3\\lib\\site-packages (from notebook>=4.4.1->widgetsnbextension~=3.5.0->ipywidgets) (0.10.1)\n",
      "Requirement already satisfied: terminado>=0.8.3 in c:\\users\\bdelamater\\anaconda3\\lib\\site-packages (from notebook>=4.4.1->widgetsnbextension~=3.5.0->ipywidgets) (0.9.4)\n",
      "Requirement already satisfied: jinja2 in c:\\users\\bdelamater\\anaconda3\\lib\\site-packages (from notebook>=4.4.1->widgetsnbextension~=3.5.0->ipywidgets) (2.11.3)\n",
      "Requirement already satisfied: pyzmq>=17 in c:\\users\\bdelamater\\anaconda3\\lib\\site-packages (from notebook>=4.4.1->widgetsnbextension~=3.5.0->ipywidgets) (20.0.0)\n",
      "Requirement already satisfied: nbconvert in c:\\users\\bdelamater\\anaconda3\\lib\\site-packages (from notebook>=4.4.1->widgetsnbextension~=3.5.0->ipywidgets) (6.0.7)\n",
      "Requirement already satisfied: argon2-cffi in c:\\users\\bdelamater\\anaconda3\\lib\\site-packages (from notebook>=4.4.1->widgetsnbextension~=3.5.0->ipywidgets) (20.1.0)\n",
      "Requirement already satisfied: python-dateutil>=2.1 in c:\\users\\bdelamater\\anaconda3\\lib\\site-packages (from jupyter-client->ipykernel>=4.5.1->ipywidgets) (2.8.1)\n",
      "Requirement already satisfied: pywin32>=1.0 in c:\\users\\bdelamater\\anaconda3\\lib\\site-packages (from jupyter-core->nbformat>=4.2.0->ipywidgets) (227)\n",
      "Requirement already satisfied: pywinpty>=0.5 in c:\\users\\bdelamater\\anaconda3\\lib\\site-packages (from terminado>=0.8.3->notebook>=4.4.1->widgetsnbextension~=3.5.0->ipywidgets) (0.5.7)\n",
      "Requirement already satisfied: cffi>=1.0.0 in c:\\users\\bdelamater\\anaconda3\\lib\\site-packages (from argon2-cffi->notebook>=4.4.1->widgetsnbextension~=3.5.0->ipywidgets) (1.14.5)\n",
      "Requirement already satisfied: pycparser in c:\\users\\bdelamater\\anaconda3\\lib\\site-packages (from cffi>=1.0.0->argon2-cffi->notebook>=4.4.1->widgetsnbextension~=3.5.0->ipywidgets) (2.20)\n",
      "Requirement already satisfied: MarkupSafe>=0.23 in c:\\users\\bdelamater\\anaconda3\\lib\\site-packages (from jinja2->notebook>=4.4.1->widgetsnbextension~=3.5.0->ipywidgets) (1.1.1)\n",
      "Requirement already satisfied: jupyterlab-pygments in c:\\users\\bdelamater\\anaconda3\\lib\\site-packages (from nbconvert->notebook>=4.4.1->widgetsnbextension~=3.5.0->ipywidgets) (0.1.2)\n",
      "Requirement already satisfied: nbclient<0.6.0,>=0.5.0 in c:\\users\\bdelamater\\anaconda3\\lib\\site-packages (from nbconvert->notebook>=4.4.1->widgetsnbextension~=3.5.0->ipywidgets) (0.5.3)\n",
      "Requirement already satisfied: mistune<2,>=0.8.1 in c:\\users\\bdelamater\\anaconda3\\lib\\site-packages (from nbconvert->notebook>=4.4.1->widgetsnbextension~=3.5.0->ipywidgets) (0.8.4)\n",
      "Requirement already satisfied: pandocfilters>=1.4.1 in c:\\users\\bdelamater\\anaconda3\\lib\\site-packages (from nbconvert->notebook>=4.4.1->widgetsnbextension~=3.5.0->ipywidgets) (1.4.3)\n",
      "Requirement already satisfied: testpath in c:\\users\\bdelamater\\anaconda3\\lib\\site-packages (from nbconvert->notebook>=4.4.1->widgetsnbextension~=3.5.0->ipywidgets) (0.4.4)\n",
      "Requirement already satisfied: entrypoints>=0.2.2 in c:\\users\\bdelamater\\anaconda3\\lib\\site-packages (from nbconvert->notebook>=4.4.1->widgetsnbextension~=3.5.0->ipywidgets) (0.3)\n",
      "Requirement already satisfied: bleach in c:\\users\\bdelamater\\anaconda3\\lib\\site-packages (from nbconvert->notebook>=4.4.1->widgetsnbextension~=3.5.0->ipywidgets) (3.3.0)\n",
      "Requirement already satisfied: defusedxml in c:\\users\\bdelamater\\anaconda3\\lib\\site-packages (from nbconvert->notebook>=4.4.1->widgetsnbextension~=3.5.0->ipywidgets) (0.7.1)\n",
      "Requirement already satisfied: async-generator in c:\\users\\bdelamater\\anaconda3\\lib\\site-packages (from nbclient<0.6.0,>=0.5.0->nbconvert->notebook>=4.4.1->widgetsnbextension~=3.5.0->ipywidgets) (1.10)\n",
      "Requirement already satisfied: nest-asyncio in c:\\users\\bdelamater\\anaconda3\\lib\\site-packages (from nbclient<0.6.0,>=0.5.0->nbconvert->notebook>=4.4.1->widgetsnbextension~=3.5.0->ipywidgets) (1.5.1)\n",
      "Requirement already satisfied: packaging in c:\\users\\bdelamater\\anaconda3\\lib\\site-packages (from bleach->nbconvert->notebook>=4.4.1->widgetsnbextension~=3.5.0->ipywidgets) (20.9)\n",
      "Requirement already satisfied: webencodings in c:\\users\\bdelamater\\anaconda3\\lib\\site-packages (from bleach->nbconvert->notebook>=4.4.1->widgetsnbextension~=3.5.0->ipywidgets) (0.5.1)\n",
      "Requirement already satisfied: pyparsing>=2.0.2 in c:\\users\\bdelamater\\anaconda3\\lib\\site-packages (from packaging->bleach->nbconvert->notebook>=4.4.1->widgetsnbextension~=3.5.0->ipywidgets) (2.4.7)\n"
     ]
    }
   ],
   "source": [
    "! pip install lxml\n",
    "! pip install nltk\n",
    "! pip install seaborn\n",
    "! pip install textblob\n",
    "! pip install bs4\n",
    "! pip install xlrd\n",
    "! pip install openpyxl \n",
    "! pip install --upgrade nbformat\n",
    "! pip install gensim\n",
    "! pip install langdetect\n",
    "! pip install ipywidgets\n",
    "\n",
    "import warnings\n",
    "warnings.filterwarnings('ignore')"
   ]
  },
  {
   "cell_type": "code",
   "execution_count": 2,
   "metadata": {},
   "outputs": [
    {
     "name": "stderr",
     "output_type": "stream",
     "text": [
      "[nltk_data] Downloading package wordnet to\n",
      "[nltk_data]     C:\\Users\\BDelamater\\AppData\\Roaming\\nltk_data...\n",
      "[nltk_data]   Package wordnet is already up-to-date!\n",
      "[nltk_data] Downloading package stopwords to\n",
      "[nltk_data]     C:\\Users\\BDelamater\\AppData\\Roaming\\nltk_data...\n",
      "[nltk_data]   Package stopwords is already up-to-date!\n",
      "[nltk_data] Downloading package punkt to\n",
      "[nltk_data]     C:\\Users\\BDelamater\\AppData\\Roaming\\nltk_data...\n",
      "[nltk_data]   Package punkt is already up-to-date!\n",
      "[nltk_data] Downloading package vader_lexicon to\n",
      "[nltk_data]     C:\\Users\\BDelamater\\AppData\\Roaming\\nltk_data...\n",
      "[nltk_data]   Package vader_lexicon is already up-to-date!\n"
     ]
    }
   ],
   "source": [
    "import nltk\n",
    "nltk.download('wordnet')\n",
    "nltk.download('stopwords')\n",
    "nltk.download('punkt')\n",
    "nltk.download('vader_lexicon')\n",
    "\n",
    "import pandas as pd\n",
    "import numpy as np\n",
    "from sklearn.metrics import classification_report, confusion_matrix, accuracy_score, \\\n",
    "precision_score, recall_score\n",
    "import seaborn as sns\n",
    "import matplotlib.pyplot as plt\n",
    "\n",
    "# For graphing charts\n",
    "import plotly.graph_objects as go\n",
    "from plotly.subplots import make_subplots\n",
    "import re\n",
    "import plotly.express as px\n",
    "\n",
    "\n",
    "import pandas as pd\n",
    "import numpy as np\n",
    "import scipy as sp\n",
    "from sklearn.model_selection import train_test_split\n",
    "from sklearn.feature_extraction.text import CountVectorizer, TfidfVectorizer\n",
    "from sklearn.naive_bayes import MultinomialNB         # Naive Bayes\n",
    "from sklearn.linear_model import LogisticRegression\n",
    "from sklearn import metrics\n",
    "from textblob import TextBlob, Word\n",
    "from nltk.stem.snowball import SnowballStemmer\n",
    "from bs4 import BeautifulSoup\n",
    "\n",
    "----\n",
    "import gensim\n",
    "import gensim.corpora as corpora\n",
    "from gensim.corpora import Dictionary\n",
    "from gensim.models.coherencemodel import CoherenceModel\n",
    "from gensim.models.ldamodel import LdaModel\n",
    "\n",
    "from pprint import pprint\n",
    "\n",
    "import spacy\n",
    "\n",
    "import pickle\n",
    "import re \n",
    "import pyLDAvis\n",
    "import pyLDAvis.gensim\n",
    "\n",
    "import matplotlib.pyplot as plt \n",
    "import pandas as pd\n",
    "----\n",
    "\n",
    "\n",
    "# Dataset to process\n",
    "myFile = '../data/SageCityForumData.xlsx'\n",
    "GraphTitle = 'Sage City Forum Sentiment'"
   ]
  },
  {
   "cell_type": "markdown",
   "metadata": {},
   "source": [
    "## Data Exploration and Cleaning"
   ]
  },
  {
   "cell_type": "code",
   "execution_count": 3,
   "metadata": {},
   "outputs": [
    {
     "name": "stdout",
     "output_type": "stream",
     "text": [
      "(2943, 10)\n"
     ]
    },
    {
     "data": {
      "text/html": [
       "<div>\n",
       "<style scoped>\n",
       "    .dataframe tbody tr th:only-of-type {\n",
       "        vertical-align: middle;\n",
       "    }\n",
       "\n",
       "    .dataframe tbody tr th {\n",
       "        vertical-align: top;\n",
       "    }\n",
       "\n",
       "    .dataframe thead th {\n",
       "        text-align: right;\n",
       "    }\n",
       "</style>\n",
       "<table border=\"1\" class=\"dataframe\">\n",
       "  <thead>\n",
       "    <tr style=\"text-align: right;\">\n",
       "      <th></th>\n",
       "      <th>ID</th>\n",
       "      <th>Forum ID</th>\n",
       "      <th>Forum Name</th>\n",
       "      <th>Body</th>\n",
       "      <th>Subject</th>\n",
       "      <th>Post Date</th>\n",
       "      <th>User DisplayName</th>\n",
       "      <th>Is Question</th>\n",
       "      <th>Tags</th>\n",
       "      <th>Likes</th>\n",
       "    </tr>\n",
       "  </thead>\n",
       "  <tbody>\n",
       "    <tr>\n",
       "      <th>0</th>\n",
       "      <td>133741</td>\n",
       "      <td>40</td>\n",
       "      <td>Sage X3 General Discussion</td>\n",
       "      <td>&lt;p class=\"_1qeIAgB0cPwnLhDF9XSiJM\"&gt;Company upg...</td>\n",
       "      <td>ERP help urgently needed</td>\n",
       "      <td>2019-10-10T05:58:05.73</td>\n",
       "      <td>ChinusGomes</td>\n",
       "      <td>QuestionAndAnswer</td>\n",
       "      <td>NaN</td>\n",
       "      <td>NaN</td>\n",
       "    </tr>\n",
       "    <tr>\n",
       "      <th>1</th>\n",
       "      <td>133741</td>\n",
       "      <td>40</td>\n",
       "      <td>Sage X3 General Discussion</td>\n",
       "      <td>&lt;p class=\"_1qeIAgB0cPwnLhDF9XSiJM\"&gt;Company upg...</td>\n",
       "      <td>ERP help urgently needed</td>\n",
       "      <td>2019-10-10T05:58:05.73</td>\n",
       "      <td>ChinusGomes</td>\n",
       "      <td>QuestionAndAnswer</td>\n",
       "      <td>NaN</td>\n",
       "      <td>NaN</td>\n",
       "    </tr>\n",
       "    <tr>\n",
       "      <th>2</th>\n",
       "      <td>133741</td>\n",
       "      <td>40</td>\n",
       "      <td>Sage X3 General Discussion</td>\n",
       "      <td>&lt;p class=\"_1qeIAgB0cPwnLhDF9XSiJM\"&gt;Company upg...</td>\n",
       "      <td>ERP help urgently needed</td>\n",
       "      <td>2019-10-10T05:58:05.73</td>\n",
       "      <td>ChinusGomes</td>\n",
       "      <td>QuestionAndAnswer</td>\n",
       "      <td>NaN</td>\n",
       "      <td>NaN</td>\n",
       "    </tr>\n",
       "    <tr>\n",
       "      <th>3</th>\n",
       "      <td>133741</td>\n",
       "      <td>40</td>\n",
       "      <td>Sage X3 General Discussion</td>\n",
       "      <td>&lt;p class=\"_1qeIAgB0cPwnLhDF9XSiJM\"&gt;Company upg...</td>\n",
       "      <td>ERP help urgently needed</td>\n",
       "      <td>2019-10-10T05:58:05.73</td>\n",
       "      <td>ChinusGomes</td>\n",
       "      <td>QuestionAndAnswer</td>\n",
       "      <td>NaN</td>\n",
       "      <td>NaN</td>\n",
       "    </tr>\n",
       "    <tr>\n",
       "      <th>4</th>\n",
       "      <td>133741</td>\n",
       "      <td>40</td>\n",
       "      <td>Sage X3 General Discussion</td>\n",
       "      <td>&lt;p class=\"_1qeIAgB0cPwnLhDF9XSiJM\"&gt;Company upg...</td>\n",
       "      <td>ERP help urgently needed</td>\n",
       "      <td>2019-10-10T05:58:05.73</td>\n",
       "      <td>ChinusGomes</td>\n",
       "      <td>QuestionAndAnswer</td>\n",
       "      <td>NaN</td>\n",
       "      <td>NaN</td>\n",
       "    </tr>\n",
       "    <tr>\n",
       "      <th>5</th>\n",
       "      <td>133741</td>\n",
       "      <td>40</td>\n",
       "      <td>Sage X3 General Discussion</td>\n",
       "      <td>&lt;p class=\"_1qeIAgB0cPwnLhDF9XSiJM\"&gt;Company upg...</td>\n",
       "      <td>ERP help urgently needed</td>\n",
       "      <td>2019-10-10T05:58:05.73</td>\n",
       "      <td>ChinusGomes</td>\n",
       "      <td>QuestionAndAnswer</td>\n",
       "      <td>NaN</td>\n",
       "      <td>NaN</td>\n",
       "    </tr>\n",
       "    <tr>\n",
       "      <th>6</th>\n",
       "      <td>133741</td>\n",
       "      <td>40</td>\n",
       "      <td>Sage X3 General Discussion</td>\n",
       "      <td>&lt;p class=\"_1qeIAgB0cPwnLhDF9XSiJM\"&gt;Company upg...</td>\n",
       "      <td>ERP help urgently needed</td>\n",
       "      <td>2019-10-10T05:58:05.73</td>\n",
       "      <td>ChinusGomes</td>\n",
       "      <td>QuestionAndAnswer</td>\n",
       "      <td>NaN</td>\n",
       "      <td>NaN</td>\n",
       "    </tr>\n",
       "    <tr>\n",
       "      <th>7</th>\n",
       "      <td>133741</td>\n",
       "      <td>40</td>\n",
       "      <td>Sage X3 General Discussion</td>\n",
       "      <td>&lt;p class=\"_1qeIAgB0cPwnLhDF9XSiJM\"&gt;Company upg...</td>\n",
       "      <td>ERP help urgently needed</td>\n",
       "      <td>2019-10-10T05:58:05.73</td>\n",
       "      <td>ChinusGomes</td>\n",
       "      <td>QuestionAndAnswer</td>\n",
       "      <td>NaN</td>\n",
       "      <td>NaN</td>\n",
       "    </tr>\n",
       "    <tr>\n",
       "      <th>8</th>\n",
       "      <td>133741</td>\n",
       "      <td>40</td>\n",
       "      <td>Sage X3 General Discussion</td>\n",
       "      <td>&lt;p class=\"_1qeIAgB0cPwnLhDF9XSiJM\"&gt;Company upg...</td>\n",
       "      <td>ERP help urgently needed</td>\n",
       "      <td>2019-10-10T05:58:05.73</td>\n",
       "      <td>ChinusGomes</td>\n",
       "      <td>QuestionAndAnswer</td>\n",
       "      <td>NaN</td>\n",
       "      <td>NaN</td>\n",
       "    </tr>\n",
       "    <tr>\n",
       "      <th>9</th>\n",
       "      <td>133741</td>\n",
       "      <td>40</td>\n",
       "      <td>Sage X3 General Discussion</td>\n",
       "      <td>&lt;p class=\"_1qeIAgB0cPwnLhDF9XSiJM\"&gt;Company upg...</td>\n",
       "      <td>ERP help urgently needed</td>\n",
       "      <td>2019-10-10T05:58:05.73</td>\n",
       "      <td>ChinusGomes</td>\n",
       "      <td>QuestionAndAnswer</td>\n",
       "      <td>NaN</td>\n",
       "      <td>NaN</td>\n",
       "    </tr>\n",
       "  </tbody>\n",
       "</table>\n",
       "</div>"
      ],
      "text/plain": [
       "       ID  Forum ID                  Forum Name  \\\n",
       "0  133741        40  Sage X3 General Discussion   \n",
       "1  133741        40  Sage X3 General Discussion   \n",
       "2  133741        40  Sage X3 General Discussion   \n",
       "3  133741        40  Sage X3 General Discussion   \n",
       "4  133741        40  Sage X3 General Discussion   \n",
       "5  133741        40  Sage X3 General Discussion   \n",
       "6  133741        40  Sage X3 General Discussion   \n",
       "7  133741        40  Sage X3 General Discussion   \n",
       "8  133741        40  Sage X3 General Discussion   \n",
       "9  133741        40  Sage X3 General Discussion   \n",
       "\n",
       "                                                Body  \\\n",
       "0  <p class=\"_1qeIAgB0cPwnLhDF9XSiJM\">Company upg...   \n",
       "1  <p class=\"_1qeIAgB0cPwnLhDF9XSiJM\">Company upg...   \n",
       "2  <p class=\"_1qeIAgB0cPwnLhDF9XSiJM\">Company upg...   \n",
       "3  <p class=\"_1qeIAgB0cPwnLhDF9XSiJM\">Company upg...   \n",
       "4  <p class=\"_1qeIAgB0cPwnLhDF9XSiJM\">Company upg...   \n",
       "5  <p class=\"_1qeIAgB0cPwnLhDF9XSiJM\">Company upg...   \n",
       "6  <p class=\"_1qeIAgB0cPwnLhDF9XSiJM\">Company upg...   \n",
       "7  <p class=\"_1qeIAgB0cPwnLhDF9XSiJM\">Company upg...   \n",
       "8  <p class=\"_1qeIAgB0cPwnLhDF9XSiJM\">Company upg...   \n",
       "9  <p class=\"_1qeIAgB0cPwnLhDF9XSiJM\">Company upg...   \n",
       "\n",
       "                    Subject               Post Date User DisplayName  \\\n",
       "0  ERP help urgently needed  2019-10-10T05:58:05.73      ChinusGomes   \n",
       "1  ERP help urgently needed  2019-10-10T05:58:05.73      ChinusGomes   \n",
       "2  ERP help urgently needed  2019-10-10T05:58:05.73      ChinusGomes   \n",
       "3  ERP help urgently needed  2019-10-10T05:58:05.73      ChinusGomes   \n",
       "4  ERP help urgently needed  2019-10-10T05:58:05.73      ChinusGomes   \n",
       "5  ERP help urgently needed  2019-10-10T05:58:05.73      ChinusGomes   \n",
       "6  ERP help urgently needed  2019-10-10T05:58:05.73      ChinusGomes   \n",
       "7  ERP help urgently needed  2019-10-10T05:58:05.73      ChinusGomes   \n",
       "8  ERP help urgently needed  2019-10-10T05:58:05.73      ChinusGomes   \n",
       "9  ERP help urgently needed  2019-10-10T05:58:05.73      ChinusGomes   \n",
       "\n",
       "         Is Question Tags  Likes  \n",
       "0  QuestionAndAnswer  NaN    NaN  \n",
       "1  QuestionAndAnswer  NaN    NaN  \n",
       "2  QuestionAndAnswer  NaN    NaN  \n",
       "3  QuestionAndAnswer  NaN    NaN  \n",
       "4  QuestionAndAnswer  NaN    NaN  \n",
       "5  QuestionAndAnswer  NaN    NaN  \n",
       "6  QuestionAndAnswer  NaN    NaN  \n",
       "7  QuestionAndAnswer  NaN    NaN  \n",
       "8  QuestionAndAnswer  NaN    NaN  \n",
       "9  QuestionAndAnswer  NaN    NaN  "
      ]
     },
     "execution_count": 3,
     "metadata": {},
     "output_type": "execute_result"
    }
   ],
   "source": [
    "# Read yelp.csv into a DataFrame.\n",
    "df_Forum = pd.read_excel(myFile, sheet_name='Forum List')\n",
    "print(df_Forum.shape)\n",
    "df_Forum.head(10)"
   ]
  },
  {
   "cell_type": "markdown",
   "metadata": {},
   "source": [
    "# Clean the html"
   ]
  },
  {
   "cell_type": "markdown",
   "metadata": {},
   "source": [
    "## Option 1"
   ]
  },
  {
   "cell_type": "code",
   "execution_count": 4,
   "metadata": {},
   "outputs": [],
   "source": [
    "# def cleanhtml(raw_html):\n",
    "#     cleanr = re.compile('<.*?>')\n",
    "#     cleantext = re.sub(cleanr,'',raw_html)\n",
    "#     return cleantext\n",
    "# cleanhtml(df_Forum['Body'][0])"
   ]
  },
  {
   "cell_type": "markdown",
   "metadata": {},
   "source": [
    "## Option 2: BeautifulSoup"
   ]
  },
  {
   "cell_type": "code",
   "execution_count": 5,
   "metadata": {},
   "outputs": [],
   "source": [
    "def cleanhtml(raw_html):\n",
    "    return BeautifulSoup(raw_html, \"lxml\").text"
   ]
  },
  {
   "cell_type": "code",
   "execution_count": 102,
   "metadata": {},
   "outputs": [
    {
     "name": "stderr",
     "output_type": "stream",
     "text": [
      "C:\\Users\\BDelamater\\Anaconda3\\lib\\site-packages\\ipykernel\\ipkernel.py:287: DeprecationWarning:\n",
      "\n",
      "`should_run_async` will not call `transform_cell` automatically in the future. Please pass the result to `transformed_cell` argument and any exception that happen during thetransform in `preprocessing_exc_tuple` in IPython 7.17 and above.\n",
      "\n"
     ]
    },
    {
     "data": {
      "text/html": [
       "<div>\n",
       "<style scoped>\n",
       "    .dataframe tbody tr th:only-of-type {\n",
       "        vertical-align: middle;\n",
       "    }\n",
       "\n",
       "    .dataframe tbody tr th {\n",
       "        vertical-align: top;\n",
       "    }\n",
       "\n",
       "    .dataframe thead th {\n",
       "        text-align: right;\n",
       "    }\n",
       "</style>\n",
       "<table border=\"1\" class=\"dataframe\">\n",
       "  <thead>\n",
       "    <tr style=\"text-align: right;\">\n",
       "      <th></th>\n",
       "      <th>ID</th>\n",
       "      <th>Forum ID</th>\n",
       "      <th>Forum Name</th>\n",
       "      <th>Body</th>\n",
       "      <th>Subject</th>\n",
       "      <th>Post Date</th>\n",
       "      <th>User DisplayName</th>\n",
       "      <th>Is Question</th>\n",
       "      <th>Tags</th>\n",
       "      <th>Likes</th>\n",
       "      <th>Forum_Post_Raw</th>\n",
       "    </tr>\n",
       "  </thead>\n",
       "  <tbody>\n",
       "    <tr>\n",
       "      <th>0</th>\n",
       "      <td>133741</td>\n",
       "      <td>40</td>\n",
       "      <td>Sage X3 General Discussion</td>\n",
       "      <td>&lt;p class=\"_1qeIAgB0cPwnLhDF9XSiJM\"&gt;Company upg...</td>\n",
       "      <td>ERP help urgently needed</td>\n",
       "      <td>2019-10-10T05:58:05.73</td>\n",
       "      <td>ChinusGomes</td>\n",
       "      <td>QuestionAndAnswer</td>\n",
       "      <td>NaN</td>\n",
       "      <td>NaN</td>\n",
       "      <td>Company upgraded to windows 10. Used to run an...</td>\n",
       "    </tr>\n",
       "    <tr>\n",
       "      <th>1</th>\n",
       "      <td>133741</td>\n",
       "      <td>40</td>\n",
       "      <td>Sage X3 General Discussion</td>\n",
       "      <td>&lt;p class=\"_1qeIAgB0cPwnLhDF9XSiJM\"&gt;Company upg...</td>\n",
       "      <td>ERP help urgently needed</td>\n",
       "      <td>2019-10-10T05:58:05.73</td>\n",
       "      <td>ChinusGomes</td>\n",
       "      <td>QuestionAndAnswer</td>\n",
       "      <td>NaN</td>\n",
       "      <td>NaN</td>\n",
       "      <td>Company upgraded to windows 10. Used to run an...</td>\n",
       "    </tr>\n",
       "    <tr>\n",
       "      <th>2</th>\n",
       "      <td>133741</td>\n",
       "      <td>40</td>\n",
       "      <td>Sage X3 General Discussion</td>\n",
       "      <td>&lt;p class=\"_1qeIAgB0cPwnLhDF9XSiJM\"&gt;Company upg...</td>\n",
       "      <td>ERP help urgently needed</td>\n",
       "      <td>2019-10-10T05:58:05.73</td>\n",
       "      <td>ChinusGomes</td>\n",
       "      <td>QuestionAndAnswer</td>\n",
       "      <td>NaN</td>\n",
       "      <td>NaN</td>\n",
       "      <td>Company upgraded to windows 10. Used to run an...</td>\n",
       "    </tr>\n",
       "    <tr>\n",
       "      <th>3</th>\n",
       "      <td>133741</td>\n",
       "      <td>40</td>\n",
       "      <td>Sage X3 General Discussion</td>\n",
       "      <td>&lt;p class=\"_1qeIAgB0cPwnLhDF9XSiJM\"&gt;Company upg...</td>\n",
       "      <td>ERP help urgently needed</td>\n",
       "      <td>2019-10-10T05:58:05.73</td>\n",
       "      <td>ChinusGomes</td>\n",
       "      <td>QuestionAndAnswer</td>\n",
       "      <td>NaN</td>\n",
       "      <td>NaN</td>\n",
       "      <td>Company upgraded to windows 10. Used to run an...</td>\n",
       "    </tr>\n",
       "    <tr>\n",
       "      <th>4</th>\n",
       "      <td>133741</td>\n",
       "      <td>40</td>\n",
       "      <td>Sage X3 General Discussion</td>\n",
       "      <td>&lt;p class=\"_1qeIAgB0cPwnLhDF9XSiJM\"&gt;Company upg...</td>\n",
       "      <td>ERP help urgently needed</td>\n",
       "      <td>2019-10-10T05:58:05.73</td>\n",
       "      <td>ChinusGomes</td>\n",
       "      <td>QuestionAndAnswer</td>\n",
       "      <td>NaN</td>\n",
       "      <td>NaN</td>\n",
       "      <td>Company upgraded to windows 10. Used to run an...</td>\n",
       "    </tr>\n",
       "  </tbody>\n",
       "</table>\n",
       "</div>"
      ],
      "text/plain": [
       "       ID  Forum ID                  Forum Name  \\\n",
       "0  133741        40  Sage X3 General Discussion   \n",
       "1  133741        40  Sage X3 General Discussion   \n",
       "2  133741        40  Sage X3 General Discussion   \n",
       "3  133741        40  Sage X3 General Discussion   \n",
       "4  133741        40  Sage X3 General Discussion   \n",
       "\n",
       "                                                Body  \\\n",
       "0  <p class=\"_1qeIAgB0cPwnLhDF9XSiJM\">Company upg...   \n",
       "1  <p class=\"_1qeIAgB0cPwnLhDF9XSiJM\">Company upg...   \n",
       "2  <p class=\"_1qeIAgB0cPwnLhDF9XSiJM\">Company upg...   \n",
       "3  <p class=\"_1qeIAgB0cPwnLhDF9XSiJM\">Company upg...   \n",
       "4  <p class=\"_1qeIAgB0cPwnLhDF9XSiJM\">Company upg...   \n",
       "\n",
       "                    Subject               Post Date User DisplayName  \\\n",
       "0  ERP help urgently needed  2019-10-10T05:58:05.73      ChinusGomes   \n",
       "1  ERP help urgently needed  2019-10-10T05:58:05.73      ChinusGomes   \n",
       "2  ERP help urgently needed  2019-10-10T05:58:05.73      ChinusGomes   \n",
       "3  ERP help urgently needed  2019-10-10T05:58:05.73      ChinusGomes   \n",
       "4  ERP help urgently needed  2019-10-10T05:58:05.73      ChinusGomes   \n",
       "\n",
       "         Is Question Tags  Likes  \\\n",
       "0  QuestionAndAnswer  NaN    NaN   \n",
       "1  QuestionAndAnswer  NaN    NaN   \n",
       "2  QuestionAndAnswer  NaN    NaN   \n",
       "3  QuestionAndAnswer  NaN    NaN   \n",
       "4  QuestionAndAnswer  NaN    NaN   \n",
       "\n",
       "                                      Forum_Post_Raw  \n",
       "0  Company upgraded to windows 10. Used to run an...  \n",
       "1  Company upgraded to windows 10. Used to run an...  \n",
       "2  Company upgraded to windows 10. Used to run an...  \n",
       "3  Company upgraded to windows 10. Used to run an...  \n",
       "4  Company upgraded to windows 10. Used to run an...  "
      ]
     },
     "execution_count": 102,
     "metadata": {},
     "output_type": "execute_result"
    }
   ],
   "source": [
    "# Create a neutral, positive, negative column\n",
    "\n",
    "df_Forum['Forum_Post_Raw'] = df_Forum.apply(lambda row: cleanhtml(row['Body']), axis=1)\n",
    "df_Forum.head(5)"
   ]
  },
  {
   "cell_type": "code",
   "execution_count": 103,
   "metadata": {},
   "outputs": [
    {
     "name": "stdout",
     "output_type": "stream",
     "text": [
      "Distinct records:  (1086, 6)\n",
      "Original Dataset:  (2943, 11)\n"
     ]
    },
    {
     "name": "stderr",
     "output_type": "stream",
     "text": [
      "C:\\Users\\BDelamater\\Anaconda3\\lib\\site-packages\\ipykernel\\ipkernel.py:287: DeprecationWarning:\n",
      "\n",
      "`should_run_async` will not call `transform_cell` automatically in the future. Please pass the result to `transformed_cell` argument and any exception that happen during thetransform in `preprocessing_exc_tuple` in IPython 7.17 and above.\n",
      "\n"
     ]
    }
   ],
   "source": [
    "df_distinct = df_Forum[['Forum ID', 'Forum Name', 'Subject', 'Post Date', 'User DisplayName', 'Forum_Post_Raw']].drop_duplicates(inplace=False).copy()\n",
    "print('Distinct records: ', df_distinct.shape)\n",
    "print('Original Dataset: ', df_Forum.shape)\n"
   ]
  },
  {
   "cell_type": "markdown",
   "metadata": {},
   "source": [
    "# Sentiment Analysis \n",
    "Code to generate sentiment analysis"
   ]
  },
  {
   "cell_type": "code",
   "execution_count": 104,
   "metadata": {},
   "outputs": [
    {
     "name": "stderr",
     "output_type": "stream",
     "text": [
      "C:\\Users\\BDelamater\\Anaconda3\\lib\\site-packages\\ipykernel\\ipkernel.py:287: DeprecationWarning:\n",
      "\n",
      "`should_run_async` will not call `transform_cell` automatically in the future. Please pass the result to `transformed_cell` argument and any exception that happen during thetransform in `preprocessing_exc_tuple` in IPython 7.17 and above.\n",
      "\n"
     ]
    }
   ],
   "source": [
    "from nltk.sentiment.vader import SentimentIntensityAnalyzer\n",
    "sia = SentimentIntensityAnalyzer()\n",
    "\n",
    "compound= []\n",
    "neg = []\n",
    "neu = []\n",
    "pos = []\n",
    "for entry in df_distinct['Forum_Post_Raw']:\n",
    "    sent = sia.polarity_scores(entry)\n",
    "    compound.append(sent['compound'])\n",
    "    neg.append(sent['neg'])\n",
    "    neu.append(sent['neu'])\n",
    "    pos.append(sent['pos'])"
   ]
  },
  {
   "cell_type": "code",
   "execution_count": 105,
   "metadata": {},
   "outputs": [
    {
     "name": "stderr",
     "output_type": "stream",
     "text": [
      "C:\\Users\\BDelamater\\Anaconda3\\lib\\site-packages\\ipykernel\\ipkernel.py:287: DeprecationWarning:\n",
      "\n",
      "`should_run_async` will not call `transform_cell` automatically in the future. Please pass the result to `transformed_cell` argument and any exception that happen during thetransform in `preprocessing_exc_tuple` in IPython 7.17 and above.\n",
      "\n"
     ]
    },
    {
     "data": {
      "text/html": [
       "<div>\n",
       "<style scoped>\n",
       "    .dataframe tbody tr th:only-of-type {\n",
       "        vertical-align: middle;\n",
       "    }\n",
       "\n",
       "    .dataframe tbody tr th {\n",
       "        vertical-align: top;\n",
       "    }\n",
       "\n",
       "    .dataframe thead th {\n",
       "        text-align: right;\n",
       "    }\n",
       "</style>\n",
       "<table border=\"1\" class=\"dataframe\">\n",
       "  <thead>\n",
       "    <tr style=\"text-align: right;\">\n",
       "      <th></th>\n",
       "      <th>Forum ID</th>\n",
       "      <th>Forum Name</th>\n",
       "      <th>Subject</th>\n",
       "      <th>Post Date</th>\n",
       "      <th>User DisplayName</th>\n",
       "      <th>Forum_Post_Raw</th>\n",
       "      <th>compound</th>\n",
       "      <th>neg</th>\n",
       "      <th>neu</th>\n",
       "      <th>pos</th>\n",
       "    </tr>\n",
       "  </thead>\n",
       "  <tbody>\n",
       "    <tr>\n",
       "      <th>0</th>\n",
       "      <td>40</td>\n",
       "      <td>Sage X3 General Discussion</td>\n",
       "      <td>ERP help urgently needed</td>\n",
       "      <td>2019-10-10T05:58:05.73</td>\n",
       "      <td>ChinusGomes</td>\n",
       "      <td>Company upgraded to windows 10. Used to run an...</td>\n",
       "      <td>0.0387</td>\n",
       "      <td>0.063</td>\n",
       "      <td>0.873</td>\n",
       "      <td>0.064</td>\n",
       "    </tr>\n",
       "    <tr>\n",
       "      <th>31</th>\n",
       "      <td>40</td>\n",
       "      <td>Sage X3 General Discussion</td>\n",
       "      <td>Sage V11 patch 14 - release soon?</td>\n",
       "      <td>2019-10-10T12:44:35.957</td>\n",
       "      <td>AnikB</td>\n",
       "      <td>Hello!\\n\\nI see that Sage V11 patch 14 was com...</td>\n",
       "      <td>0.7044</td>\n",
       "      <td>0.022</td>\n",
       "      <td>0.915</td>\n",
       "      <td>0.063</td>\n",
       "    </tr>\n",
       "    <tr>\n",
       "      <th>62</th>\n",
       "      <td>673</td>\n",
       "      <td>Sage X3 Announcements, News, and Alerts</td>\n",
       "      <td>Sage X3 12.0.19 and Patch 19 Add-ons Updates h...</td>\n",
       "      <td>2019-10-10T14:56:52.947</td>\n",
       "      <td>Alecia</td>\n",
       "      <td>To access this download, log into https://supp...</td>\n",
       "      <td>0.9359</td>\n",
       "      <td>0.000</td>\n",
       "      <td>0.898</td>\n",
       "      <td>0.102</td>\n",
       "    </tr>\n",
       "    <tr>\n",
       "      <th>63</th>\n",
       "      <td>673</td>\n",
       "      <td>Sage X3 Announcements, News, and Alerts</td>\n",
       "      <td>Sage X3 Warehousing (GEODE) v12.0.19 has been ...</td>\n",
       "      <td>2019-10-10T20:56:53.483</td>\n",
       "      <td>pnightingale</td>\n",
       "      <td>To access this download, log into https://supp...</td>\n",
       "      <td>0.9359</td>\n",
       "      <td>0.000</td>\n",
       "      <td>0.898</td>\n",
       "      <td>0.102</td>\n",
       "    </tr>\n",
       "    <tr>\n",
       "      <th>64</th>\n",
       "      <td>40</td>\n",
       "      <td>Sage X3 General Discussion</td>\n",
       "      <td>Modifying Stock Change ST2 object</td>\n",
       "      <td>2019-10-11T13:10:28.983</td>\n",
       "      <td>ChrisCC</td>\n",
       "      <td>I am trying to remove some of the columns on t...</td>\n",
       "      <td>0.5980</td>\n",
       "      <td>0.046</td>\n",
       "      <td>0.865</td>\n",
       "      <td>0.090</td>\n",
       "    </tr>\n",
       "  </tbody>\n",
       "</table>\n",
       "</div>"
      ],
      "text/plain": [
       "    Forum ID                               Forum Name  \\\n",
       "0         40               Sage X3 General Discussion   \n",
       "31        40               Sage X3 General Discussion   \n",
       "62       673  Sage X3 Announcements, News, and Alerts   \n",
       "63       673  Sage X3 Announcements, News, and Alerts   \n",
       "64        40               Sage X3 General Discussion   \n",
       "\n",
       "                                              Subject  \\\n",
       "0                            ERP help urgently needed   \n",
       "31                  Sage V11 patch 14 - release soon?   \n",
       "62  Sage X3 12.0.19 and Patch 19 Add-ons Updates h...   \n",
       "63  Sage X3 Warehousing (GEODE) v12.0.19 has been ...   \n",
       "64                  Modifying Stock Change ST2 object   \n",
       "\n",
       "                  Post Date User DisplayName  \\\n",
       "0    2019-10-10T05:58:05.73      ChinusGomes   \n",
       "31  2019-10-10T12:44:35.957            AnikB   \n",
       "62  2019-10-10T14:56:52.947           Alecia   \n",
       "63  2019-10-10T20:56:53.483     pnightingale   \n",
       "64  2019-10-11T13:10:28.983          ChrisCC   \n",
       "\n",
       "                                       Forum_Post_Raw  compound    neg    neu  \\\n",
       "0   Company upgraded to windows 10. Used to run an...    0.0387  0.063  0.873   \n",
       "31  Hello!\\n\\nI see that Sage V11 patch 14 was com...    0.7044  0.022  0.915   \n",
       "62  To access this download, log into https://supp...    0.9359  0.000  0.898   \n",
       "63  To access this download, log into https://supp...    0.9359  0.000  0.898   \n",
       "64  I am trying to remove some of the columns on t...    0.5980  0.046  0.865   \n",
       "\n",
       "      pos  \n",
       "0   0.064  \n",
       "31  0.063  \n",
       "62  0.102  \n",
       "63  0.102  \n",
       "64  0.090  "
      ]
     },
     "execution_count": 105,
     "metadata": {},
     "output_type": "execute_result"
    }
   ],
   "source": [
    "df_distinct['compound'] = compound\n",
    "df_distinct['neg'] = neg\n",
    "df_distinct['neu'] = neu\n",
    "df_distinct['pos'] = pos\n",
    "df_distinct.head()"
   ]
  },
  {
   "cell_type": "code",
   "execution_count": 106,
   "metadata": {},
   "outputs": [
    {
     "name": "stderr",
     "output_type": "stream",
     "text": [
      "C:\\Users\\BDelamater\\Anaconda3\\lib\\site-packages\\ipykernel\\ipkernel.py:287: DeprecationWarning:\n",
      "\n",
      "`should_run_async` will not call `transform_cell` automatically in the future. Please pass the result to `transformed_cell` argument and any exception that happen during thetransform in `preprocessing_exc_tuple` in IPython 7.17 and above.\n",
      "\n"
     ]
    }
   ],
   "source": [
    "def getSentiment(compoundScore):\n",
    "    retVal = \"Neutral\"\n",
    "    if (compoundScore > 0.05):\n",
    "        retVal = \"Positive\"\n",
    "    elif (compoundScore <= - 0.05):\n",
    "        retVal = \"Negative\"\n",
    "    \n",
    "    return retVal"
   ]
  },
  {
   "cell_type": "code",
   "execution_count": 107,
   "metadata": {},
   "outputs": [
    {
     "name": "stderr",
     "output_type": "stream",
     "text": [
      "C:\\Users\\BDelamater\\Anaconda3\\lib\\site-packages\\ipykernel\\ipkernel.py:287: DeprecationWarning:\n",
      "\n",
      "`should_run_async` will not call `transform_cell` automatically in the future. Please pass the result to `transformed_cell` argument and any exception that happen during thetransform in `preprocessing_exc_tuple` in IPython 7.17 and above.\n",
      "\n"
     ]
    },
    {
     "data": {
      "text/html": [
       "<div>\n",
       "<style scoped>\n",
       "    .dataframe tbody tr th:only-of-type {\n",
       "        vertical-align: middle;\n",
       "    }\n",
       "\n",
       "    .dataframe tbody tr th {\n",
       "        vertical-align: top;\n",
       "    }\n",
       "\n",
       "    .dataframe thead th {\n",
       "        text-align: right;\n",
       "    }\n",
       "</style>\n",
       "<table border=\"1\" class=\"dataframe\">\n",
       "  <thead>\n",
       "    <tr style=\"text-align: right;\">\n",
       "      <th></th>\n",
       "      <th>Forum ID</th>\n",
       "      <th>Forum Name</th>\n",
       "      <th>Subject</th>\n",
       "      <th>Post Date</th>\n",
       "      <th>User DisplayName</th>\n",
       "      <th>Forum_Post_Raw</th>\n",
       "      <th>compound</th>\n",
       "      <th>neg</th>\n",
       "      <th>neu</th>\n",
       "      <th>pos</th>\n",
       "      <th>Sentiment</th>\n",
       "    </tr>\n",
       "  </thead>\n",
       "  <tbody>\n",
       "    <tr>\n",
       "      <th>0</th>\n",
       "      <td>40</td>\n",
       "      <td>Sage X3 General Discussion</td>\n",
       "      <td>ERP help urgently needed</td>\n",
       "      <td>2019-10-10T05:58:05.73</td>\n",
       "      <td>ChinusGomes</td>\n",
       "      <td>Company upgraded to windows 10. Used to run an...</td>\n",
       "      <td>0.0387</td>\n",
       "      <td>0.063</td>\n",
       "      <td>0.873</td>\n",
       "      <td>0.064</td>\n",
       "      <td>Neutral</td>\n",
       "    </tr>\n",
       "    <tr>\n",
       "      <th>31</th>\n",
       "      <td>40</td>\n",
       "      <td>Sage X3 General Discussion</td>\n",
       "      <td>Sage V11 patch 14 - release soon?</td>\n",
       "      <td>2019-10-10T12:44:35.957</td>\n",
       "      <td>AnikB</td>\n",
       "      <td>Hello!\\n\\nI see that Sage V11 patch 14 was com...</td>\n",
       "      <td>0.7044</td>\n",
       "      <td>0.022</td>\n",
       "      <td>0.915</td>\n",
       "      <td>0.063</td>\n",
       "      <td>Positive</td>\n",
       "    </tr>\n",
       "    <tr>\n",
       "      <th>62</th>\n",
       "      <td>673</td>\n",
       "      <td>Sage X3 Announcements, News, and Alerts</td>\n",
       "      <td>Sage X3 12.0.19 and Patch 19 Add-ons Updates h...</td>\n",
       "      <td>2019-10-10T14:56:52.947</td>\n",
       "      <td>Alecia</td>\n",
       "      <td>To access this download, log into https://supp...</td>\n",
       "      <td>0.9359</td>\n",
       "      <td>0.000</td>\n",
       "      <td>0.898</td>\n",
       "      <td>0.102</td>\n",
       "      <td>Positive</td>\n",
       "    </tr>\n",
       "    <tr>\n",
       "      <th>63</th>\n",
       "      <td>673</td>\n",
       "      <td>Sage X3 Announcements, News, and Alerts</td>\n",
       "      <td>Sage X3 Warehousing (GEODE) v12.0.19 has been ...</td>\n",
       "      <td>2019-10-10T20:56:53.483</td>\n",
       "      <td>pnightingale</td>\n",
       "      <td>To access this download, log into https://supp...</td>\n",
       "      <td>0.9359</td>\n",
       "      <td>0.000</td>\n",
       "      <td>0.898</td>\n",
       "      <td>0.102</td>\n",
       "      <td>Positive</td>\n",
       "    </tr>\n",
       "    <tr>\n",
       "      <th>64</th>\n",
       "      <td>40</td>\n",
       "      <td>Sage X3 General Discussion</td>\n",
       "      <td>Modifying Stock Change ST2 object</td>\n",
       "      <td>2019-10-11T13:10:28.983</td>\n",
       "      <td>ChrisCC</td>\n",
       "      <td>I am trying to remove some of the columns on t...</td>\n",
       "      <td>0.5980</td>\n",
       "      <td>0.046</td>\n",
       "      <td>0.865</td>\n",
       "      <td>0.090</td>\n",
       "      <td>Positive</td>\n",
       "    </tr>\n",
       "  </tbody>\n",
       "</table>\n",
       "</div>"
      ],
      "text/plain": [
       "    Forum ID                               Forum Name  \\\n",
       "0         40               Sage X3 General Discussion   \n",
       "31        40               Sage X3 General Discussion   \n",
       "62       673  Sage X3 Announcements, News, and Alerts   \n",
       "63       673  Sage X3 Announcements, News, and Alerts   \n",
       "64        40               Sage X3 General Discussion   \n",
       "\n",
       "                                              Subject  \\\n",
       "0                            ERP help urgently needed   \n",
       "31                  Sage V11 patch 14 - release soon?   \n",
       "62  Sage X3 12.0.19 and Patch 19 Add-ons Updates h...   \n",
       "63  Sage X3 Warehousing (GEODE) v12.0.19 has been ...   \n",
       "64                  Modifying Stock Change ST2 object   \n",
       "\n",
       "                  Post Date User DisplayName  \\\n",
       "0    2019-10-10T05:58:05.73      ChinusGomes   \n",
       "31  2019-10-10T12:44:35.957            AnikB   \n",
       "62  2019-10-10T14:56:52.947           Alecia   \n",
       "63  2019-10-10T20:56:53.483     pnightingale   \n",
       "64  2019-10-11T13:10:28.983          ChrisCC   \n",
       "\n",
       "                                       Forum_Post_Raw  compound    neg    neu  \\\n",
       "0   Company upgraded to windows 10. Used to run an...    0.0387  0.063  0.873   \n",
       "31  Hello!\\n\\nI see that Sage V11 patch 14 was com...    0.7044  0.022  0.915   \n",
       "62  To access this download, log into https://supp...    0.9359  0.000  0.898   \n",
       "63  To access this download, log into https://supp...    0.9359  0.000  0.898   \n",
       "64  I am trying to remove some of the columns on t...    0.5980  0.046  0.865   \n",
       "\n",
       "      pos Sentiment  \n",
       "0   0.064   Neutral  \n",
       "31  0.063  Positive  \n",
       "62  0.102  Positive  \n",
       "63  0.102  Positive  \n",
       "64  0.090  Positive  "
      ]
     },
     "execution_count": 107,
     "metadata": {},
     "output_type": "execute_result"
    }
   ],
   "source": [
    "# Create a neutral, positive, negative column\n",
    "\n",
    "df_distinct['Sentiment'] = df_distinct.apply(lambda row: getSentiment(row['compound']), axis=1)\n",
    "df_distinct.head(5)"
   ]
  },
  {
   "cell_type": "code",
   "execution_count": 108,
   "metadata": {},
   "outputs": [
    {
     "name": "stderr",
     "output_type": "stream",
     "text": [
      "C:\\Users\\BDelamater\\Anaconda3\\lib\\site-packages\\ipykernel\\ipkernel.py:287: DeprecationWarning:\n",
      "\n",
      "`should_run_async` will not call `transform_cell` automatically in the future. Please pass the result to `transformed_cell` argument and any exception that happen during thetransform in `preprocessing_exc_tuple` in IPython 7.17 and above.\n",
      "\n"
     ]
    },
    {
     "data": {
      "text/plain": [
       "Forum ID                     int64\n",
       "Forum Name                  object\n",
       "Subject                     object\n",
       "Post Date                   object\n",
       "User DisplayName            object\n",
       "Forum_Post_Raw              object\n",
       "compound                   float64\n",
       "neg                        float64\n",
       "neu                        float64\n",
       "pos                        float64\n",
       "Sentiment                   object\n",
       "PostDate            datetime64[ns]\n",
       "DayName                     object\n",
       "DayOfMonth                   int64\n",
       "dtype: object"
      ]
     },
     "execution_count": 108,
     "metadata": {},
     "output_type": "execute_result"
    }
   ],
   "source": [
    "# Make a day column in numeric format so we can use it for linear regression later\n",
    "df_distinct['PostDate'] = pd.to_datetime(df_Forum['Post Date'])\n",
    "df_distinct['DayName'] = df_distinct['PostDate'].dt.day_name()\n",
    "df_distinct['DayOfMonth'] = df_distinct['PostDate'].dt.day\n",
    "df_distinct.dtypes\n"
   ]
  },
  {
   "cell_type": "code",
   "execution_count": 109,
   "metadata": {},
   "outputs": [
    {
     "name": "stderr",
     "output_type": "stream",
     "text": [
      "C:\\Users\\BDelamater\\Anaconda3\\lib\\site-packages\\ipykernel\\ipkernel.py:287: DeprecationWarning:\n",
      "\n",
      "`should_run_async` will not call `transform_cell` automatically in the future. Please pass the result to `transformed_cell` argument and any exception that happen during thetransform in `preprocessing_exc_tuple` in IPython 7.17 and above.\n",
      "\n"
     ]
    },
    {
     "data": {
      "text/html": [
       "<div>\n",
       "<style scoped>\n",
       "    .dataframe tbody tr th:only-of-type {\n",
       "        vertical-align: middle;\n",
       "    }\n",
       "\n",
       "    .dataframe tbody tr th {\n",
       "        vertical-align: top;\n",
       "    }\n",
       "\n",
       "    .dataframe thead th {\n",
       "        text-align: right;\n",
       "    }\n",
       "</style>\n",
       "<table border=\"1\" class=\"dataframe\">\n",
       "  <thead>\n",
       "    <tr style=\"text-align: right;\">\n",
       "      <th></th>\n",
       "      <th>Forum ID</th>\n",
       "      <th>Forum Name</th>\n",
       "      <th>Subject</th>\n",
       "      <th>Post Date</th>\n",
       "      <th>User DisplayName</th>\n",
       "      <th>Forum_Post_Raw</th>\n",
       "      <th>compound</th>\n",
       "      <th>neg</th>\n",
       "      <th>neu</th>\n",
       "      <th>pos</th>\n",
       "      <th>Sentiment</th>\n",
       "      <th>PostDate</th>\n",
       "      <th>DayName</th>\n",
       "      <th>DayOfMonth</th>\n",
       "    </tr>\n",
       "  </thead>\n",
       "  <tbody>\n",
       "    <tr>\n",
       "      <th>0</th>\n",
       "      <td>40</td>\n",
       "      <td>Sage X3 General Discussion</td>\n",
       "      <td>ERP help urgently needed</td>\n",
       "      <td>2019-10-10T05:58:05.73</td>\n",
       "      <td>ChinusGomes</td>\n",
       "      <td>Company upgraded to windows 10. Used to run an...</td>\n",
       "      <td>0.0387</td>\n",
       "      <td>0.063</td>\n",
       "      <td>0.873</td>\n",
       "      <td>0.064</td>\n",
       "      <td>Neutral</td>\n",
       "      <td>2019-10-10 05:58:05.730</td>\n",
       "      <td>Thursday</td>\n",
       "      <td>10</td>\n",
       "    </tr>\n",
       "    <tr>\n",
       "      <th>31</th>\n",
       "      <td>40</td>\n",
       "      <td>Sage X3 General Discussion</td>\n",
       "      <td>Sage V11 patch 14 - release soon?</td>\n",
       "      <td>2019-10-10T12:44:35.957</td>\n",
       "      <td>AnikB</td>\n",
       "      <td>Hello!\\n\\nI see that Sage V11 patch 14 was com...</td>\n",
       "      <td>0.7044</td>\n",
       "      <td>0.022</td>\n",
       "      <td>0.915</td>\n",
       "      <td>0.063</td>\n",
       "      <td>Positive</td>\n",
       "      <td>2019-10-10 12:44:35.957</td>\n",
       "      <td>Thursday</td>\n",
       "      <td>10</td>\n",
       "    </tr>\n",
       "    <tr>\n",
       "      <th>62</th>\n",
       "      <td>673</td>\n",
       "      <td>Sage X3 Announcements, News, and Alerts</td>\n",
       "      <td>Sage X3 12.0.19 and Patch 19 Add-ons Updates h...</td>\n",
       "      <td>2019-10-10T14:56:52.947</td>\n",
       "      <td>Alecia</td>\n",
       "      <td>To access this download, log into https://supp...</td>\n",
       "      <td>0.9359</td>\n",
       "      <td>0.000</td>\n",
       "      <td>0.898</td>\n",
       "      <td>0.102</td>\n",
       "      <td>Positive</td>\n",
       "      <td>2019-10-10 14:56:52.947</td>\n",
       "      <td>Thursday</td>\n",
       "      <td>10</td>\n",
       "    </tr>\n",
       "  </tbody>\n",
       "</table>\n",
       "</div>"
      ],
      "text/plain": [
       "    Forum ID                               Forum Name  \\\n",
       "0         40               Sage X3 General Discussion   \n",
       "31        40               Sage X3 General Discussion   \n",
       "62       673  Sage X3 Announcements, News, and Alerts   \n",
       "\n",
       "                                              Subject  \\\n",
       "0                            ERP help urgently needed   \n",
       "31                  Sage V11 patch 14 - release soon?   \n",
       "62  Sage X3 12.0.19 and Patch 19 Add-ons Updates h...   \n",
       "\n",
       "                  Post Date User DisplayName  \\\n",
       "0    2019-10-10T05:58:05.73      ChinusGomes   \n",
       "31  2019-10-10T12:44:35.957            AnikB   \n",
       "62  2019-10-10T14:56:52.947           Alecia   \n",
       "\n",
       "                                       Forum_Post_Raw  compound    neg    neu  \\\n",
       "0   Company upgraded to windows 10. Used to run an...    0.0387  0.063  0.873   \n",
       "31  Hello!\\n\\nI see that Sage V11 patch 14 was com...    0.7044  0.022  0.915   \n",
       "62  To access this download, log into https://supp...    0.9359  0.000  0.898   \n",
       "\n",
       "      pos Sentiment                PostDate   DayName  DayOfMonth  \n",
       "0   0.064   Neutral 2019-10-10 05:58:05.730  Thursday          10  \n",
       "31  0.063  Positive 2019-10-10 12:44:35.957  Thursday          10  \n",
       "62  0.102  Positive 2019-10-10 14:56:52.947  Thursday          10  "
      ]
     },
     "execution_count": 109,
     "metadata": {},
     "output_type": "execute_result"
    }
   ],
   "source": [
    "df_distinct.head(3)"
   ]
  },
  {
   "cell_type": "markdown",
   "metadata": {},
   "source": [
    "## Train The Sentiment Analyzer"
   ]
  },
  {
   "cell_type": "code",
   "execution_count": 110,
   "metadata": {},
   "outputs": [
    {
     "name": "stderr",
     "output_type": "stream",
     "text": [
      "C:\\Users\\BDelamater\\Anaconda3\\lib\\site-packages\\ipykernel\\ipkernel.py:287: DeprecationWarning:\n",
      "\n",
      "`should_run_async` will not call `transform_cell` automatically in the future. Please pass the result to `transformed_cell` argument and any exception that happen during thetransform in `preprocessing_exc_tuple` in IPython 7.17 and above.\n",
      "\n"
     ]
    },
    {
     "data": {
      "text/plain": [
       "['01/01/2021 12:12:10']"
      ]
     },
     "execution_count": 110,
     "metadata": {},
     "output_type": "execute_result"
    }
   ],
   "source": [
    "p = re.compile(\" 00:00:00\")\n",
    "p.split('01/01/2021 12:12:10')"
   ]
  },
  {
   "cell_type": "code",
   "execution_count": 111,
   "metadata": {},
   "outputs": [
    {
     "name": "stderr",
     "output_type": "stream",
     "text": [
      "C:\\Users\\BDelamater\\Anaconda3\\lib\\site-packages\\ipykernel\\ipkernel.py:287: DeprecationWarning:\n",
      "\n",
      "`should_run_async` will not call `transform_cell` automatically in the future. Please pass the result to `transformed_cell` argument and any exception that happen during thetransform in `preprocessing_exc_tuple` in IPython 7.17 and above.\n",
      "\n"
     ]
    }
   ],
   "source": [
    "y = df_distinct['Sentiment']\n",
    "X = df_distinct[['compound', 'neg', 'neu', 'pos']]"
   ]
  },
  {
   "cell_type": "code",
   "execution_count": 112,
   "metadata": {},
   "outputs": [
    {
     "name": "stderr",
     "output_type": "stream",
     "text": [
      "C:\\Users\\BDelamater\\Anaconda3\\lib\\site-packages\\ipykernel\\ipkernel.py:287: DeprecationWarning:\n",
      "\n",
      "`should_run_async` will not call `transform_cell` automatically in the future. Please pass the result to `transformed_cell` argument and any exception that happen during thetransform in `preprocessing_exc_tuple` in IPython 7.17 and above.\n",
      "\n"
     ]
    }
   ],
   "source": [
    "from sklearn.ensemble import RandomForestClassifier\n",
    "rf = RandomForestClassifier()\n",
    "from sklearn.model_selection import cross_val_score, train_test_split"
   ]
  },
  {
   "cell_type": "code",
   "execution_count": 113,
   "metadata": {},
   "outputs": [
    {
     "name": "stderr",
     "output_type": "stream",
     "text": [
      "C:\\Users\\BDelamater\\Anaconda3\\lib\\site-packages\\ipykernel\\ipkernel.py:287: DeprecationWarning:\n",
      "\n",
      "`should_run_async` will not call `transform_cell` automatically in the future. Please pass the result to `transformed_cell` argument and any exception that happen during thetransform in `preprocessing_exc_tuple` in IPython 7.17 and above.\n",
      "\n"
     ]
    },
    {
     "data": {
      "text/plain": [
       "RandomForestClassifier()"
      ]
     },
     "execution_count": 113,
     "metadata": {},
     "output_type": "execute_result"
    }
   ],
   "source": [
    "rf.fit(X,y)"
   ]
  },
  {
   "cell_type": "code",
   "execution_count": 114,
   "metadata": {},
   "outputs": [
    {
     "name": "stderr",
     "output_type": "stream",
     "text": [
      "C:\\Users\\BDelamater\\Anaconda3\\lib\\site-packages\\ipykernel\\ipkernel.py:287: DeprecationWarning:\n",
      "\n",
      "`should_run_async` will not call `transform_cell` automatically in the future. Please pass the result to `transformed_cell` argument and any exception that happen during thetransform in `preprocessing_exc_tuple` in IPython 7.17 and above.\n",
      "\n"
     ]
    },
    {
     "data": {
      "text/plain": [
       "array([1.        , 1.        , 1.        , 0.99539171, 1.        ])"
      ]
     },
     "execution_count": 114,
     "metadata": {},
     "output_type": "execute_result"
    }
   ],
   "source": [
    "cross_val_score(rf, X, y)\n",
    "# versus the baseline (63%), this is a little weak."
   ]
  },
  {
   "cell_type": "code",
   "execution_count": 115,
   "metadata": {},
   "outputs": [
    {
     "name": "stderr",
     "output_type": "stream",
     "text": [
      "C:\\Users\\BDelamater\\Anaconda3\\lib\\site-packages\\ipykernel\\ipkernel.py:287: DeprecationWarning:\n",
      "\n",
      "`should_run_async` will not call `transform_cell` automatically in the future. Please pass the result to `transformed_cell` argument and any exception that happen during thetransform in `preprocessing_exc_tuple` in IPython 7.17 and above.\n",
      "\n"
     ]
    },
    {
     "data": {
      "text/plain": [
       "RandomForestClassifier()"
      ]
     },
     "execution_count": 115,
     "metadata": {},
     "output_type": "execute_result"
    }
   ],
   "source": [
    "X_train, X_test, y_train, y_test = train_test_split(X, y, \n",
    "                                                        test_size=0.30,\n",
    "                                                        random_state=14)\n",
    "rf.fit(X_train,y_train)"
   ]
  },
  {
   "cell_type": "code",
   "execution_count": 116,
   "metadata": {},
   "outputs": [
    {
     "name": "stderr",
     "output_type": "stream",
     "text": [
      "C:\\Users\\BDelamater\\Anaconda3\\lib\\site-packages\\ipykernel\\ipkernel.py:287: DeprecationWarning:\n",
      "\n",
      "`should_run_async` will not call `transform_cell` automatically in the future. Please pass the result to `transformed_cell` argument and any exception that happen during thetransform in `preprocessing_exc_tuple` in IPython 7.17 and above.\n",
      "\n"
     ]
    },
    {
     "data": {
      "image/png": "[encoded data removed]",
      "text/plain": [
       "<Figure size 432x432 with 1 Axes>"
      ]
     },
     "metadata": {
      "needs_background": "light"
     },
     "output_type": "display_data"
    }
   ],
   "source": [
    "\n",
    "conmat = np.array(confusion_matrix(y_test, rf.predict(X_test)))\n",
    "confusion = pd.DataFrame(conmat, index=['negative', 'neutral', 'positive'],\\\n",
    "                     columns=['Pred neg', 'Pred neutral', 'Pred pos'])\n",
    "\n",
    "plt.figure(figsize = (6,6))\n",
    "heat = sns.heatmap(confusion, annot=True, annot_kws={\"size\": 20},cmap='Blues',fmt='g', cbar=False)\n",
    "plt.xticks(rotation=0, fontsize=14)\n",
    "plt.yticks(fontsize=14)\n",
    "plt.title(\"Confusion Matrix\", fontsize=20)\n",
    "plt.savefig('ConfusionMatric.png')\n"
   ]
  },
  {
   "cell_type": "code",
   "execution_count": 203,
   "metadata": {},
   "outputs": [
    {
     "name": "stdout",
     "output_type": "stream",
     "text": [
      "              precision    recall  f1-score   support\n",
      "\n",
      "    Negative       1.00      1.00      1.00        50\n",
      "     Neutral       1.00      1.00      1.00        33\n",
      "    Positive       1.00      1.00      1.00       243\n",
      "\n",
      "    accuracy                           1.00       326\n",
      "   macro avg       1.00      1.00      1.00       326\n",
      "weighted avg       1.00      1.00      1.00       326\n",
      "\n"
     ]
    },
    {
     "name": "stderr",
     "output_type": "stream",
     "text": [
      "C:\\Users\\BDelamater\\Anaconda3\\lib\\site-packages\\ipykernel\\ipkernel.py:287: DeprecationWarning:\n",
      "\n",
      "`should_run_async` will not call `transform_cell` automatically in the future. Please pass the result to `transformed_cell` argument and any exception that happen during thetransform in `preprocessing_exc_tuple` in IPython 7.17 and above.\n",
      "\n"
     ]
    }
   ],
   "source": [
    "# SAVE THIS MANUALLY TO A PICTURE\n",
    "print(classification_report(y_test, rf.predict(X_test)))"
   ]
  },
  {
   "cell_type": "code",
   "execution_count": 204,
   "metadata": {},
   "outputs": [
    {
     "name": "stderr",
     "output_type": "stream",
     "text": [
      "C:\\Users\\BDelamater\\Anaconda3\\lib\\site-packages\\ipykernel\\ipkernel.py:287: DeprecationWarning:\n",
      "\n",
      "`should_run_async` will not call `transform_cell` automatically in the future. Please pass the result to `transformed_cell` argument and any exception that happen during thetransform in `preprocessing_exc_tuple` in IPython 7.17 and above.\n",
      "\n"
     ]
    },
    {
     "data": {
      "text/plain": [
       "Forum ID            0\n",
       "Forum Name          0\n",
       "Subject             0\n",
       "Post Date           0\n",
       "User DisplayName    0\n",
       "Forum_Post_Raw      0\n",
       "compound            0\n",
       "neg                 0\n",
       "neu                 0\n",
       "pos                 0\n",
       "Sentiment           0\n",
       "PostDate            0\n",
       "DayName             0\n",
       "DayOfMonth          0\n",
       "dtype: int64"
      ]
     },
     "execution_count": 204,
     "metadata": {},
     "output_type": "execute_result"
    }
   ],
   "source": [
    "df_distinct.isnull().sum()"
   ]
  },
  {
   "cell_type": "code",
   "execution_count": 205,
   "metadata": {},
   "outputs": [
    {
     "name": "stderr",
     "output_type": "stream",
     "text": [
      "C:\\Users\\BDelamater\\Anaconda3\\lib\\site-packages\\ipykernel\\ipkernel.py:287: DeprecationWarning:\n",
      "\n",
      "`should_run_async` will not call `transform_cell` automatically in the future. Please pass the result to `transformed_cell` argument and any exception that happen during thetransform in `preprocessing_exc_tuple` in IPython 7.17 and above.\n",
      "\n"
     ]
    }
   ],
   "source": [
    "# df_distinct"
   ]
  },
  {
   "cell_type": "code",
   "execution_count": 206,
   "metadata": {},
   "outputs": [
    {
     "name": "stderr",
     "output_type": "stream",
     "text": [
      "C:\\Users\\BDelamater\\Anaconda3\\lib\\site-packages\\ipykernel\\ipkernel.py:287: DeprecationWarning:\n",
      "\n",
      "`should_run_async` will not call `transform_cell` automatically in the future. Please pass the result to `transformed_cell` argument and any exception that happen during thetransform in `preprocessing_exc_tuple` in IPython 7.17 and above.\n",
      "\n"
     ]
    }
   ],
   "source": [
    "df = df_distinct.copy()\n",
    "df['ShortText'] = df['Forum_Post_Raw'].str[:50]\n",
    "df.dtypes\n",
    "dfLDA = df.copy()"
   ]
  },
  {
   "cell_type": "code",
   "execution_count": 207,
   "metadata": {},
   "outputs": [
    {
     "name": "stderr",
     "output_type": "stream",
     "text": [
      "C:\\Users\\BDelamater\\Anaconda3\\lib\\site-packages\\ipykernel\\ipkernel.py:287: DeprecationWarning:\n",
      "\n",
      "`should_run_async` will not call `transform_cell` automatically in the future. Please pass the result to `transformed_cell` argument and any exception that happen during thetransform in `preprocessing_exc_tuple` in IPython 7.17 and above.\n",
      "\n"
     ]
    },
    {
     "data": {
      "text/plain": [
       "0"
      ]
     },
     "execution_count": 207,
     "metadata": {},
     "output_type": "execute_result"
    }
   ],
   "source": [
    "dfLDA['Forum_Post_Raw'].isnull().sum()"
   ]
  },
  {
   "cell_type": "code",
   "execution_count": 208,
   "metadata": {},
   "outputs": [
    {
     "name": "stderr",
     "output_type": "stream",
     "text": [
      "C:\\Users\\BDelamater\\Anaconda3\\lib\\site-packages\\ipykernel\\ipkernel.py:287: DeprecationWarning:\n",
      "\n",
      "`should_run_async` will not call `transform_cell` automatically in the future. Please pass the result to `transformed_cell` argument and any exception that happen during thetransform in `preprocessing_exc_tuple` in IPython 7.17 and above.\n",
      "\n"
     ]
    }
   ],
   "source": [
    "# dfLDA['Forum_Post_Raw'].dropna(inplace=True)"
   ]
  },
  {
   "cell_type": "code",
   "execution_count": 209,
   "metadata": {},
   "outputs": [
    {
     "name": "stderr",
     "output_type": "stream",
     "text": [
      "C:\\Users\\BDelamater\\Anaconda3\\lib\\site-packages\\ipykernel\\ipkernel.py:287: DeprecationWarning:\n",
      "\n",
      "`should_run_async` will not call `transform_cell` automatically in the future. Please pass the result to `transformed_cell` argument and any exception that happen during thetransform in `preprocessing_exc_tuple` in IPython 7.17 and above.\n",
      "\n"
     ]
    }
   ],
   "source": [
    "df.set_index('PostDate', inplace=True)"
   ]
  },
  {
   "cell_type": "code",
   "execution_count": 210,
   "metadata": {},
   "outputs": [
    {
     "name": "stderr",
     "output_type": "stream",
     "text": [
      "C:\\Users\\BDelamater\\Anaconda3\\lib\\site-packages\\ipykernel\\ipkernel.py:287: DeprecationWarning:\n",
      "\n",
      "`should_run_async` will not call `transform_cell` automatically in the future. Please pass the result to `transformed_cell` argument and any exception that happen during thetransform in `preprocessing_exc_tuple` in IPython 7.17 and above.\n",
      "\n"
     ]
    },
    {
     "data": {
      "text/html": [
       "<div>\n",
       "<style scoped>\n",
       "    .dataframe tbody tr th:only-of-type {\n",
       "        vertical-align: middle;\n",
       "    }\n",
       "\n",
       "    .dataframe tbody tr th {\n",
       "        vertical-align: top;\n",
       "    }\n",
       "\n",
       "    .dataframe thead th {\n",
       "        text-align: right;\n",
       "    }\n",
       "</style>\n",
       "<table border=\"1\" class=\"dataframe\">\n",
       "  <thead>\n",
       "    <tr style=\"text-align: right;\">\n",
       "      <th></th>\n",
       "      <th>Forum ID</th>\n",
       "      <th>Forum Name</th>\n",
       "      <th>Subject</th>\n",
       "      <th>Post Date</th>\n",
       "      <th>User DisplayName</th>\n",
       "      <th>Forum_Post_Raw</th>\n",
       "      <th>compound</th>\n",
       "      <th>neg</th>\n",
       "      <th>neu</th>\n",
       "      <th>pos</th>\n",
       "      <th>Sentiment</th>\n",
       "      <th>DayName</th>\n",
       "      <th>DayOfMonth</th>\n",
       "      <th>ShortText</th>\n",
       "    </tr>\n",
       "    <tr>\n",
       "      <th>PostDate</th>\n",
       "      <th></th>\n",
       "      <th></th>\n",
       "      <th></th>\n",
       "      <th></th>\n",
       "      <th></th>\n",
       "      <th></th>\n",
       "      <th></th>\n",
       "      <th></th>\n",
       "      <th></th>\n",
       "      <th></th>\n",
       "      <th></th>\n",
       "      <th></th>\n",
       "      <th></th>\n",
       "      <th></th>\n",
       "    </tr>\n",
       "  </thead>\n",
       "  <tbody>\n",
       "    <tr>\n",
       "      <th>2019-10-10 05:58:05.730</th>\n",
       "      <td>40</td>\n",
       "      <td>Sage X3 General Discussion</td>\n",
       "      <td>ERP help urgently needed</td>\n",
       "      <td>2019-10-10T05:58:05.73</td>\n",
       "      <td>ChinusGomes</td>\n",
       "      <td>Company upgraded to windows 10. Used to run an...</td>\n",
       "      <td>0.0387</td>\n",
       "      <td>0.063</td>\n",
       "      <td>0.873</td>\n",
       "      <td>0.064</td>\n",
       "      <td>Neutral</td>\n",
       "      <td>Thursday</td>\n",
       "      <td>10</td>\n",
       "      <td>Company upgraded to windows 10. Used to run an...</td>\n",
       "    </tr>\n",
       "  </tbody>\n",
       "</table>\n",
       "</div>"
      ],
      "text/plain": [
       "                         Forum ID                  Forum Name  \\\n",
       "PostDate                                                        \n",
       "2019-10-10 05:58:05.730        40  Sage X3 General Discussion   \n",
       "\n",
       "                                          Subject               Post Date  \\\n",
       "PostDate                                                                    \n",
       "2019-10-10 05:58:05.730  ERP help urgently needed  2019-10-10T05:58:05.73   \n",
       "\n",
       "                        User DisplayName  \\\n",
       "PostDate                                   \n",
       "2019-10-10 05:58:05.730      ChinusGomes   \n",
       "\n",
       "                                                            Forum_Post_Raw  \\\n",
       "PostDate                                                                     \n",
       "2019-10-10 05:58:05.730  Company upgraded to windows 10. Used to run an...   \n",
       "\n",
       "                         compound    neg    neu    pos Sentiment   DayName  \\\n",
       "PostDate                                                                     \n",
       "2019-10-10 05:58:05.730    0.0387  0.063  0.873  0.064   Neutral  Thursday   \n",
       "\n",
       "                         DayOfMonth  \\\n",
       "PostDate                              \n",
       "2019-10-10 05:58:05.730          10   \n",
       "\n",
       "                                                                 ShortText  \n",
       "PostDate                                                                    \n",
       "2019-10-10 05:58:05.730  Company upgraded to windows 10. Used to run an...  "
      ]
     },
     "execution_count": 210,
     "metadata": {},
     "output_type": "execute_result"
    }
   ],
   "source": [
    "df.head(1)"
   ]
  },
  {
   "cell_type": "code",
   "execution_count": 211,
   "metadata": {},
   "outputs": [
    {
     "name": "stderr",
     "output_type": "stream",
     "text": [
      "C:\\Users\\BDelamater\\Anaconda3\\lib\\site-packages\\ipykernel\\ipkernel.py:287: DeprecationWarning:\n",
      "\n",
      "`should_run_async` will not call `transform_cell` automatically in the future. Please pass the result to `transformed_cell` argument and any exception that happen during thetransform in `preprocessing_exc_tuple` in IPython 7.17 and above.\n",
      "\n"
     ]
    }
   ],
   "source": [
    "df2 = df.sort_values(['PostDate']).copy()\n"
   ]
  },
  {
   "cell_type": "code",
   "execution_count": 212,
   "metadata": {},
   "outputs": [
    {
     "name": "stderr",
     "output_type": "stream",
     "text": [
      "C:\\Users\\BDelamater\\Anaconda3\\lib\\site-packages\\ipykernel\\ipkernel.py:287: DeprecationWarning:\n",
      "\n",
      "`should_run_async` will not call `transform_cell` automatically in the future. Please pass the result to `transformed_cell` argument and any exception that happen during thetransform in `preprocessing_exc_tuple` in IPython 7.17 and above.\n",
      "\n"
     ]
    },
    {
     "data": {
      "application/vnd.plotly.v1+json": {
       "config": {
        "plotlyServerURL": "https://plot.ly"
       },
       "data": [
        {
         "hovertemplate": "Post Date=%{x}<br>neg=%{y}<extra></extra>",
         "legendgroup": "",
         "line": {
          "color": "#636efa",
          "dash": "solid"
         },
         "mode": "lines",
         "name": "",
         "showlegend": false,
         "type": "scattergl",
         "x": [
          "2019-10-10T05:58:05.73",
          "2019-10-10T12:44:35.957",
          "2019-10-10T14:56:52.947",
          "2019-10-10T15:41:06.877",
          "2019-10-10T20:56:53.483",
          "2019-10-11T13:10:28.983",
          "2019-10-11T14:24:15.807",
          "2019-10-11T16:02:41.787",
          "2019-10-13T20:01:08.897",
          "2019-10-14T05:55:32.553",
          "2019-10-14T08:33:18.01",
          "2019-10-14T22:38:08.26",
          "2019-10-16T11:20:54.023",
          "2019-10-16T14:12:45.5",
          "2019-10-17T09:14:34.753",
          "2019-10-17T10:16:15.513",
          "2019-10-17T12:09:02.91",
          "2019-10-17T23:59:14.523",
          "2019-10-18T14:58:06.717",
          "2019-10-21T06:08:38.347",
          "2019-10-21T09:43:33.513",
          "2019-10-21T12:40:40.86",
          "2019-10-21T16:06:55.323",
          "2019-10-22T08:16:13.563",
          "2019-10-22T16:27:23.92",
          "2019-10-22T18:07:48.827",
          "2019-10-23T03:37:35.103",
          "2019-10-23T06:23:11.657",
          "2019-10-23T08:20:38.087",
          "2019-10-23T11:38:26.887",
          "2019-10-23T12:09:17.84",
          "2019-10-24T04:42:08.237",
          "2019-10-24T06:19:46.603",
          "2019-10-24T09:59:56.077",
          "2019-10-24T14:04:33.85",
          "2019-10-24T16:34:04.713",
          "2019-10-25T11:54:33.85",
          "2019-10-28T15:36:47.907",
          "2019-10-29T06:01:19.783",
          "2019-10-29T10:29:47.95",
          "2019-10-29T16:46:32.203",
          "2019-10-29T17:04:40.463",
          "2019-10-30T04:45:07.257",
          "2019-10-30T08:21:45.053",
          "2019-10-30T15:33:07.45",
          "2019-10-30T18:41:07.37",
          "2019-10-30T18:45:20.75",
          "2019-10-31T12:35:06.993",
          "2019-10-31T23:57:45.833",
          "2019-11-01T07:44:02.54",
          "2019-11-01T07:45:56.387",
          "2019-11-04T17:47:37.86",
          "2019-11-06T06:04:59.007",
          "2019-11-06T10:08:50.95",
          "2019-11-06T10:27:39.52",
          "2019-11-08T20:33:59.89",
          "2019-11-09T11:37:29.693",
          "2019-11-10T01:44:11.28",
          "2019-11-11T05:59:42.987",
          "2019-11-11T11:39:44.857",
          "2019-11-11T13:02:34.017",
          "2019-11-12T00:41:34.433",
          "2019-11-12T18:42:03.247",
          "2019-11-13T03:30:36.293",
          "2019-11-13T09:35:33.91",
          "2019-11-13T23:52:26.683",
          "2019-11-14T03:28:57.637",
          "2019-11-14T06:03:35.53",
          "2019-11-14T09:45:03.713",
          "2019-11-14T11:29:20.21",
          "2019-11-14T13:10:08.303",
          "2019-11-18T04:12:03.657",
          "2019-11-18T10:12:47.987",
          "2019-11-18T15:17:49.503",
          "2019-11-18T16:11:15.36",
          "2019-11-18T17:18:32.137",
          "2019-11-18T19:25:44.17",
          "2019-11-19T02:48:28.417",
          "2019-11-19T10:27:37.423",
          "2019-11-19T11:00:35.74",
          "2019-11-19T20:00:10.803",
          "2019-11-20T05:47:36.783",
          "2019-11-20T10:36:40.83",
          "2019-11-20T12:24:54.847",
          "2019-11-21T00:07:58.053",
          "2019-11-21T13:38:42.807",
          "2019-11-21T14:08:12.47",
          "2019-11-21T18:13:29.69",
          "2019-11-22T07:29:58.45",
          "2019-11-22T12:44:01.59",
          "2019-11-23T12:26:35.197",
          "2019-11-26T08:17:12.663",
          "2019-11-27T10:39:18.173",
          "2019-11-27T21:15:11.89",
          "2019-11-28T04:58:07.76",
          "2019-11-29T02:39:25.357",
          "2019-12-02T07:06:03.57",
          "2019-12-02T15:42:44.927",
          "2019-12-02T21:04:51.46",
          "2019-12-03T07:56:40.55",
          "2019-12-03T10:45:44.023",
          "2019-12-03T14:56:05.093",
          "2019-12-03T16:06:57.23",
          "2019-12-04T11:59:55.687",
          "2019-12-05T11:04:33.51",
          "2019-12-05T12:28:17.997",
          "2019-12-09T07:10:55.167",
          "2019-12-09T07:25:39.22",
          "2019-12-09T10:45:09.32",
          "2019-12-09T10:53:03.993",
          "2019-12-09T12:45:56.217",
          "2019-12-10T07:50:29.637",
          "2019-12-10T08:52:36.997",
          "2019-12-10T10:14:02.33",
          "2019-12-10T10:55:22.36",
          "2019-12-10T11:53:33.71",
          "2019-12-10T18:25:49.657",
          "2019-12-11T11:26:46.79",
          "2019-12-11T11:57:54.773",
          "2019-12-12T10:17:39.717",
          "2019-12-12T11:05:43.68",
          "2019-12-13T09:43:03.027",
          "2019-12-17T03:54:27.833",
          "2019-12-17T05:30:55.173",
          "2019-12-17T09:31:11.343",
          "2019-12-17T11:21:51.1",
          "2019-12-17T12:36:10.797",
          "2019-12-17T22:05:31.297",
          "2019-12-18T02:18:53.803",
          "2019-12-18T04:43:33.147",
          "2019-12-18T07:43:12.083",
          "2019-12-18T14:19:48.24",
          "2019-12-20T08:29:43.793",
          "2019-12-20T14:25:22.243",
          "2019-12-21T07:25:05.07",
          "2019-12-21T07:31:20.647",
          "2019-12-24T06:44:49.68",
          "2019-12-24T07:53:51.783",
          "2019-12-26T08:18:44.133",
          "2019-12-26T11:59:21.053",
          "2019-12-27T18:14:34.557",
          "2019-12-28T03:55:55.687",
          "2019-12-30T13:08:12.05",
          "2019-12-30T13:53:51.783",
          "2020-01-02T06:49:33.107",
          "2020-01-02T09:53:02.633",
          "2020-01-02T16:36:17.35",
          "2020-01-03T04:40:24.317",
          "2020-01-03T12:08:04.033",
          "2020-01-03T16:41:12.803",
          "2020-01-05T08:26:52.923",
          "2020-01-06T12:19:26.157",
          "2020-01-06T17:04:29.283",
          "2020-01-06T17:40:07.413",
          "2020-01-07T04:10:45.22",
          "2020-01-07T04:51:00.893",
          "2020-01-07T10:24:06.313",
          "2020-01-07T11:18:19.473",
          "2020-01-07T13:43:06.053",
          "2020-01-07T15:38:23.8",
          "2020-01-07T16:18:56.733",
          "2020-01-08T16:28:49.287",
          "2020-01-09T01:31:01.17",
          "2020-01-09T06:33:51.44",
          "2020-01-09T12:05:38.153",
          "2020-01-10T15:06:17.673",
          "2020-01-10T15:54:12.933",
          "2020-01-11T05:17:09.423",
          "2020-01-13T12:21:50.72",
          "2020-01-13T13:00:29.71",
          "2020-01-14T07:18:24.06",
          "2020-01-14T07:36:27.793",
          "2020-01-14T15:06:33.63",
          "2020-01-15T04:12:20.593",
          "2020-01-15T09:52:42.417",
          "2020-01-15T13:11:10.033",
          "2020-01-15T19:14:38.547",
          "2020-01-16T01:35:18.87",
          "2020-01-16T10:00:09.903",
          "2020-01-16T17:27:43.697",
          "2020-01-16T20:37:57.323",
          "2020-01-18T01:12:31.457",
          "2020-01-18T07:43:39.573",
          "2020-01-20T00:07:25.07",
          "2020-01-20T06:57:25.193",
          "2020-01-20T06:59:28.963",
          "2020-01-20T07:01:58.37",
          "2020-01-20T14:25:20.393",
          "2020-01-20T14:45:16.097",
          "2020-01-20T17:44:58.307",
          "2020-01-22T15:07:27.347",
          "2020-01-22T15:21:03.853",
          "2020-01-23T08:30:02.617",
          "2020-01-23T09:12:43.07",
          "2020-01-24T06:49:45.39",
          "2020-01-24T15:38:37.98",
          "2020-01-25T16:27:33.3",
          "2020-01-27T12:47:35.913",
          "2020-01-27T13:06:07.103",
          "2020-01-27T19:11:17.547",
          "2020-01-29T01:21:00.2",
          "2020-01-29T10:26:02.32",
          "2020-01-30T18:43:33.303",
          "2020-01-31T00:48:04.5",
          "2020-01-31T08:03:58.81",
          "2020-02-01T05:35:29.75",
          "2020-02-02T13:10:27.66",
          "2020-02-02T17:09:13.667",
          "2020-02-03T04:12:16.153",
          "2020-02-03T09:59:10.557",
          "2020-02-03T13:33:12.313",
          "2020-02-04T09:46:39.103",
          "2020-02-04T20:18:44.27",
          "2020-02-05T11:30:08.943",
          "2020-02-05T12:57:51.92",
          "2020-02-05T15:34:55.653",
          "2020-02-07T10:19:14.993",
          "2020-02-10T12:07:23.167",
          "2020-02-10T12:23:06.927",
          "2020-02-10T12:51:43.717",
          "2020-02-10T17:12:39.753",
          "2020-02-11T17:09:02.48",
          "2020-02-11T17:58:49.54",
          "2020-02-12T06:28:17.963",
          "2020-02-12T09:04:32.27",
          "2020-02-12T14:03:31.393",
          "2020-02-12T14:51:42.37",
          "2020-02-12T15:16:51.137",
          "2020-02-12T18:31:25.547",
          "2020-02-13T04:33:31.503",
          "2020-02-13T07:03:33.427",
          "2020-02-14T10:24:51.933",
          "2020-02-14T11:00:46.067",
          "2020-02-17T16:50:09.627",
          "2020-02-18T02:27:54.503",
          "2020-02-18T09:57:28.06",
          "2020-02-18T10:33:31.103",
          "2020-02-18T11:09:26.847",
          "2020-02-20T09:07:37.297",
          "2020-02-20T18:55:20.497",
          "2020-02-21T04:19:57.7",
          "2020-02-21T06:32:06.093",
          "2020-02-21T12:36:02.74",
          "2020-02-21T13:01:12.36",
          "2020-02-21T18:07:34.15",
          "2020-02-23T02:07:04.06",
          "2020-02-24T05:14:04.183",
          "2020-02-24T09:39:05.69",
          "2020-02-24T15:46:47.507",
          "2020-02-25T03:52:03.343",
          "2020-02-26T09:59:17.067",
          "2020-02-26T12:34:35.337",
          "2020-02-26T16:38:14.707",
          "2020-02-27T12:11:29.997",
          "2020-02-28T04:40:42.623",
          "2020-02-28T10:58:22.157",
          "2020-02-28T12:00:12.227",
          "2020-02-28T12:41:38.88",
          "2020-02-29T01:03:40.683",
          "2020-03-01T02:40:06.913",
          "2020-03-01T10:01:48.487",
          "2020-03-01T23:59:56.043",
          "2020-03-02T14:28:29.457",
          "2020-03-03T00:00:27.147",
          "2020-03-03T04:30:14.143",
          "2020-03-03T06:44:29.51",
          "2020-03-03T07:23:34.21",
          "2020-03-04T03:34:45.237",
          "2020-03-04T10:43:21.66",
          "2020-03-04T20:50:43.727",
          "2020-03-05T20:40:47.497",
          "2020-03-06T16:53:23.053",
          "2020-03-07T06:36:24.19",
          "2020-03-08T12:22:18.35",
          "2020-03-08T18:22:20.403",
          "2020-03-09T07:47:26.907",
          "2020-03-10T02:49:49.197",
          "2020-03-10T07:07:09.317",
          "2020-03-10T11:43:30.047",
          "2020-03-10T13:47:55.803",
          "2020-03-11T12:02:24.97",
          "2020-03-12T03:22:56.907",
          "2020-03-12T05:01:18.27",
          "2020-03-12T09:32:11.43",
          "2020-03-12T16:24:51.943",
          "2020-03-13T02:20:48.573",
          "2020-03-13T18:05:09.727",
          "2020-03-16T05:51:59.12",
          "2020-03-16T13:41:01.863",
          "2020-03-17T01:11:48.753",
          "2020-03-17T02:14:25.67",
          "2020-03-17T10:57:57.617",
          "2020-03-17T11:01:28.317",
          "2020-03-17T12:46:10.82",
          "2020-03-17T17:40:54.64",
          "2020-03-18T06:06:20.797",
          "2020-03-19T09:31:32.573",
          "2020-03-20T09:02:42.493",
          "2020-03-20T09:52:08.827",
          "2020-03-22T12:10:06.073",
          "2020-03-22T23:11:53.447",
          "2020-03-23T11:06:50.057",
          "2020-03-23T23:34:21.613",
          "2020-03-24T16:40:36.357",
          "2020-03-25T05:31:26.553",
          "2020-03-25T13:28:17.627",
          "2020-03-25T13:53:46.49",
          "2020-03-27T09:21:56.483",
          "2020-03-28T01:28:47.883",
          "2020-03-30T04:21:56.913",
          "2020-03-30T09:08:24.897",
          "2020-03-30T15:21:41.037",
          "2020-03-30T21:20:56.607",
          "2020-03-31T11:25:34.507",
          "2020-03-31T13:27:36.39",
          "2020-04-01T16:02:10.643",
          "2020-04-02T00:43:12.03",
          "2020-04-03T01:06:02.82",
          "2020-04-07T12:32:04.843",
          "2020-04-07T16:29:10.43",
          "2020-04-08T00:15:17.853",
          "2020-04-08T03:50:11.817",
          "2020-04-08T10:13:33.427",
          "2020-04-08T18:27:22.337",
          "2020-04-09T23:22:33.47",
          "2020-04-10T09:08:10.833",
          "2020-04-10T19:21:56.537",
          "2020-04-13T10:16:13.573",
          "2020-04-13T12:45:52.543",
          "2020-04-13T14:36:36.72",
          "2020-04-14T04:48:03.713",
          "2020-04-14T08:25:03.7",
          "2020-04-14T11:03:59.167",
          "2020-04-15T05:26:43.887",
          "2020-04-16T08:10:59.29",
          "2020-04-16T16:12:38.977",
          "2020-04-16T16:41:02.65",
          "2020-04-16T17:32:12.887",
          "2020-04-17T17:21:10.267",
          "2020-04-17T18:09:09.38",
          "2020-04-17T19:28:32.667",
          "2020-04-20T06:46:13.263",
          "2020-04-20T09:45:40.793",
          "2020-04-21T06:43:58.953",
          "2020-04-22T17:52:12.143",
          "2020-04-23T02:31:29.827",
          "2020-04-23T11:51:48.66",
          "2020-04-23T12:48:56.067",
          "2020-04-23T13:42:27.423",
          "2020-04-23T17:09:27.673",
          "2020-04-23T19:33:37.777",
          "2020-04-24T09:15:41.46",
          "2020-04-24T12:08:53.497",
          "2020-04-24T17:33:44.47",
          "2020-04-27T03:25:15.807",
          "2020-04-27T11:04:11.827",
          "2020-04-27T12:09:32.6",
          "2020-04-28T14:16:24.483",
          "2020-04-28T14:23:25.457",
          "2020-04-28T14:54:09.24",
          "2020-04-28T15:58:10.627",
          "2020-04-29T06:42:53.09",
          "2020-04-29T11:08:12.53",
          "2020-04-30T10:03:05.167",
          "2020-05-01T07:55:41.06",
          "2020-05-01T13:27:08.093",
          "2020-05-01T18:13:11.793",
          "2020-05-03T16:49:31.43",
          "2020-05-05T07:56:04.453",
          "2020-05-05T08:43:05.083",
          "2020-05-05T10:32:52.917",
          "2020-05-05T19:02:17.003",
          "2020-05-06T01:58:51.927",
          "2020-05-06T07:12:28.073",
          "2020-05-06T09:55:41.613",
          "2020-05-06T10:17:41.447",
          "2020-05-06T11:33:27.64",
          "2020-05-07T03:54:23.82",
          "2020-05-07T07:48:02.343",
          "2020-05-07T10:30:47.55",
          "2020-05-07T14:40:24.16",
          "2020-05-07T17:22:42.663",
          "2020-05-07T17:58:50.36",
          "2020-05-08T11:05:30.22",
          "2020-05-08T18:50:29.917",
          "2020-05-10T15:38:34.823",
          "2020-05-10T22:06:56.483",
          "2020-05-11T04:18:33.723",
          "2020-05-11T10:39:05.677",
          "2020-05-11T18:12:14.043",
          "2020-05-12T06:46:53.073",
          "2020-05-12T07:44:49.72",
          "2020-05-12T23:39:37.837",
          "2020-05-13T09:12:49.927",
          "2020-05-13T12:09:34.583",
          "2020-05-13T14:43:08.657",
          "2020-05-13T15:13:24.907",
          "2020-05-14T03:52:10.373",
          "2020-05-14T09:38:15.473",
          "2020-05-14T13:46:07.237",
          "2020-05-14T17:51:27.473",
          "2020-05-19T01:36:19.2",
          "2020-05-19T10:58:19.68",
          "2020-05-19T13:23:05.93",
          "2020-05-19T22:05:27.747",
          "2020-05-19T22:57:51.593",
          "2020-05-19T23:57:36.38",
          "2020-05-20T07:46:08.763",
          "2020-05-21T08:01:48.667",
          "2020-05-21T16:17:26.79",
          "2020-05-22T09:04:36.597",
          "2020-05-22T12:43:12.977",
          "2020-05-22T13:38:46.373",
          "2020-05-24T07:44:59.96",
          "2020-05-25T11:51:41.683",
          "2020-05-25T12:12:56.96",
          "2020-05-26T04:19:19.857",
          "2020-05-26T05:29:41.38",
          "2020-05-27T08:09:30.657",
          "2020-05-27T09:42:57.963",
          "2020-05-27T11:51:09.957",
          "2020-05-27T16:13:12.423",
          "2020-05-28T04:33:45.413",
          "2020-05-28T10:50:38.12",
          "2020-05-28T11:43:06.343",
          "2020-05-28T13:55:04.59",
          "2020-05-28T13:55:17.233",
          "2020-05-28T15:02:38.937",
          "2020-05-28T21:23:28.48",
          "2020-05-31T11:34:13.967",
          "2020-05-31T21:49:48.113",
          "2020-06-01T02:08:55.463",
          "2020-06-01T03:45:36.143",
          "2020-06-01T07:06:15.03",
          "2020-06-01T23:54:24.347",
          "2020-06-02T05:15:07.377",
          "2020-06-02T06:25:02.487",
          "2020-06-03T08:38:37.627",
          "2020-06-04T08:46:29.137",
          "2020-06-04T08:47:30.443",
          "2020-06-05T08:37:45.887",
          "2020-06-08T10:15:40.8",
          "2020-06-08T11:30:52.127",
          "2020-06-10T15:48:56.787",
          "2020-06-11T05:44:23.893",
          "2020-06-11T10:48:33.063",
          "2020-06-11T16:44:25.303",
          "2020-06-12T04:26:21.537",
          "2020-06-13T20:34:20.54",
          "2020-06-15T00:18:26.877",
          "2020-06-15T18:21:18.607",
          "2020-06-17T07:44:27.62",
          "2020-06-17T09:23:08.72",
          "2020-06-17T10:39:43.347",
          "2020-06-17T10:47:18.047",
          "2020-06-17T18:17:42.787",
          "2020-06-17T21:20:44.363",
          "2020-06-18T03:41:34.283",
          "2020-06-18T18:45:45.943",
          "2020-06-19T05:28:43.413",
          "2020-06-19T05:37:59.09",
          "2020-06-19T07:23:48.88",
          "2020-06-19T13:04:31.18",
          "2020-06-19T13:05:50.277",
          "2020-06-20T20:04:07.61",
          "2020-06-21T05:58:52.79",
          "2020-06-22T07:57:18.433",
          "2020-06-22T15:20:53.23",
          "2020-06-22T17:32:37.193",
          "2020-06-25T03:09:04.55",
          "2020-06-26T07:38:55.12",
          "2020-06-29T17:02:31.54",
          "2020-07-01T03:24:12.553",
          "2020-07-01T08:43:32.99",
          "2020-07-02T09:20:12.7",
          "2020-07-02T10:21:06.57",
          "2020-07-02T16:17:26.273",
          "2020-07-06T05:50:50.78",
          "2020-07-06T09:19:59.403",
          "2020-07-08T09:33:24.407",
          "2020-07-08T16:56:19.757",
          "2020-07-09T15:25:26.863",
          "2020-07-09T16:22:26.66",
          "2020-07-09T16:28:26.983",
          "2020-07-10T08:52:51.04",
          "2020-07-10T15:53:37.277",
          "2020-07-10T18:57:48.173",
          "2020-07-11T20:29:03.777",
          "2020-07-13T02:40:11.35",
          "2020-07-14T05:01:01.39",
          "2020-07-15T03:11:16.5",
          "2020-07-15T06:32:14.56",
          "2020-07-15T17:54:55.167",
          "2020-07-16T04:35:29.63",
          "2020-07-16T07:33:35.41",
          "2020-07-16T11:36:35.183",
          "2020-07-16T16:31:52.563",
          "2020-07-17T14:17:43.9",
          "2020-07-20T13:16:24.25",
          "2020-07-20T23:00:15.057",
          "2020-07-21T04:25:05.703",
          "2020-07-21T06:17:01.253",
          "2020-07-21T10:23:05.597",
          "2020-07-21T11:25:17.723",
          "2020-07-21T15:20:11.183",
          "2020-07-22T05:55:52.447",
          "2020-07-22T16:48:52.953",
          "2020-07-22T23:35:16.743",
          "2020-07-23T15:51:45.183",
          "2020-07-23T16:46:00.053",
          "2020-07-24T02:00:04.097",
          "2020-07-24T15:17:29.263",
          "2020-07-27T13:56:35.087",
          "2020-07-28T11:16:57.777",
          "2020-07-28T11:20:26.603",
          "2020-07-28T11:47:30.707",
          "2020-07-29T08:18:11.907",
          "2020-07-29T09:13:44.577",
          "2020-07-29T10:45:28.61",
          "2020-07-30T14:51:34.69",
          "2020-07-30T16:20:18.783",
          "2020-07-31T03:00:29.553",
          "2020-08-01T06:40:03.033",
          "2020-08-02T08:21:09.453",
          "2020-08-03T14:31:32.377",
          "2020-08-03T15:16:16.62",
          "2020-08-05T12:27:19.103",
          "2020-08-05T13:19:23.943",
          "2020-08-06T12:04:03.013",
          "2020-08-06T16:30:31.317",
          "2020-08-07T15:34:48.087",
          "2020-08-10T12:13:23.673",
          "2020-08-11T03:18:56.48",
          "2020-08-11T06:23:35.727",
          "2020-08-11T20:18:22.113",
          "2020-08-12T07:54:44.907",
          "2020-08-13T05:21:38.977",
          "2020-08-13T09:27:35.497",
          "2020-08-13T13:58:17.28",
          "2020-08-13T14:00:56.303",
          "2020-08-13T19:32:19.49",
          "2020-08-14T04:43:10.42",
          "2020-08-14T06:48:55.553",
          "2020-08-14T10:33:47.637",
          "2020-08-14T14:39:35.21",
          "2020-08-17T10:09:37.347",
          "2020-08-17T17:09:22.07",
          "2020-08-18T07:01:56.34",
          "2020-08-18T10:10:32.407",
          "2020-08-19T10:47:49.9",
          "2020-08-19T14:31:13.88",
          "2020-08-20T16:16:04.203",
          "2020-08-20T18:20:03.123",
          "2020-08-21T02:02:10.857",
          "2020-08-21T14:50:21.077",
          "2020-08-21T15:36:03.473",
          "2020-08-24T02:26:12.913",
          "2020-08-24T03:55:16.187",
          "2020-08-24T07:30:08.877",
          "2020-08-24T09:13:29.1",
          "2020-08-25T09:37:23.29",
          "2020-08-25T13:34:40.817",
          "2020-08-26T02:11:50.003",
          "2020-08-26T10:34:15.32",
          "2020-08-26T11:13:50.613",
          "2020-08-27T04:28:56.903",
          "2020-08-27T11:25:26.827",
          "2020-08-27T11:40:36.677",
          "2020-08-27T14:20:01.203",
          "2020-08-27T14:59:03.177",
          "2020-08-28T04:12:14.89",
          "2020-08-28T12:20:32.08",
          "2020-08-31T09:41:46.203",
          "2020-09-01T08:29:04.687",
          "2020-09-01T12:00:23.027",
          "2020-09-02T13:28:25.653",
          "2020-09-03T02:01:33.75",
          "2020-09-03T09:26:58.127",
          "2020-09-03T11:55:40.83",
          "2020-09-03T14:53:10.197",
          "2020-09-03T15:16:17.96",
          "2020-09-04T02:35:33.15",
          "2020-09-04T08:34:40.003",
          "2020-09-07T03:14:01.783",
          "2020-09-08T03:24:11.603",
          "2020-09-08T05:00:37.097",
          "2020-09-08T05:40:25.34",
          "2020-09-08T10:35:57.717",
          "2020-09-08T12:13:05.57",
          "2020-09-08T14:17:04.713",
          "2020-09-09T04:14:26.247",
          "2020-09-09T07:05:09.473",
          "2020-09-09T14:46:03.91",
          "2020-09-09T15:33:09.883",
          "2020-09-09T19:09:12.01",
          "2020-09-10T06:00:56.927",
          "2020-09-10T06:34:35.72",
          "2020-09-10T12:15:08.11",
          "2020-09-10T16:25:03.4",
          "2020-09-11T11:54:43.767",
          "2020-09-11T14:32:09.763",
          "2020-09-11T17:57:16.44",
          "2020-09-13T05:09:37.187",
          "2020-09-13T12:40:21.163",
          "2020-09-14T08:48:44.357",
          "2020-09-15T08:11:30.217",
          "2020-09-15T11:40:17.6",
          "2020-09-15T19:54:20.857",
          "2020-09-16T06:13:11.593",
          "2020-09-16T08:15:45.44",
          "2020-09-16T09:57:44.517",
          "2020-09-16T12:02:57.383",
          "2020-09-16T14:20:14.03",
          "2020-09-16T16:01:59.473",
          "2020-09-16T16:33:38.75",
          "2020-09-16T16:52:38.42",
          "2020-09-17T11:41:44.053",
          "2020-09-17T14:55:23.447",
          "2020-09-17T16:37:00.077",
          "2020-09-18T07:33:41.723",
          "2020-09-18T10:46:34.367",
          "2020-09-20T12:16:21.403",
          "2020-09-21T09:58:43.167",
          "2020-09-21T16:37:39.7",
          "2020-09-21T16:47:19.263",
          "2020-09-22T00:02:42.337",
          "2020-09-22T03:04:06.773",
          "2020-09-22T06:17:08.973",
          "2020-09-22T12:21:03.637",
          "2020-09-22T12:56:21.417",
          "2020-09-23T07:34:25.193",
          "2020-09-23T12:45:54.313",
          "2020-09-23T14:50:02.017",
          "2020-09-23T14:50:53.77",
          "2020-09-23T14:51:39.347",
          "2020-09-23T15:15:00.187",
          "2020-09-24T13:12:57.107",
          "2020-09-24T19:12:48.583",
          "2020-09-25T06:21:34.47",
          "2020-09-25T15:10:56.223",
          "2020-09-25T21:10:47.287",
          "2020-09-27T00:39:00.507",
          "2020-09-27T03:01:48.877",
          "2020-09-28T07:28:53.443",
          "2020-09-28T13:41:47.603",
          "2020-09-29T10:42:52.203",
          "2020-09-29T10:58:24.237",
          "2020-09-29T11:43:39.463",
          "2020-09-29T18:14:05.84",
          "2020-09-29T18:29:04.81",
          "2020-09-30T11:28:12.57",
          "2020-10-01T04:05:51.267",
          "2020-10-01T15:18:19.523",
          "2020-10-02T09:26:32.68",
          "2020-10-04T06:57:42.663",
          "2020-10-05T01:11:31.057",
          "2020-10-05T22:58:21.4",
          "2020-10-06T10:36:52.983",
          "2020-10-06T12:46:04.483",
          "2020-10-07T04:36:43.39",
          "2020-10-07T04:49:35.287",
          "2020-10-07T06:19:26.927",
          "2020-10-07T16:31:35.887",
          "2020-10-07T16:43:08.117",
          "2020-10-08T07:26:39.637",
          "2020-10-08T08:52:50.623",
          "2020-10-08T16:26:59.76",
          "2020-10-09T02:01:00.407",
          "2020-10-09T19:17:29.443",
          "2020-10-12T09:03:36.163",
          "2020-10-12T20:34:39.057",
          "2020-10-13T13:02:42.213",
          "2020-10-13T18:32:15.773",
          "2020-10-14T06:43:01.837",
          "2020-10-14T09:31:09.873",
          "2020-10-14T13:41:44.907",
          "2020-10-14T13:52:09.94",
          "2020-10-15T06:57:57.13",
          "2020-10-15T14:35:43.96",
          "2020-10-16T10:01:41.817",
          "2020-10-16T12:33:29.753",
          "2020-10-16T13:34:13.343",
          "2020-10-16T18:36:31.273",
          "2020-10-17T11:21:17.997",
          "2020-10-17T21:00:48.037",
          "2020-10-19T15:39:33.853",
          "2020-10-19T22:07:22.383",
          "2020-10-19T22:07:38.62",
          "2020-10-20T03:00:27.94",
          "2020-10-20T16:35:09.947",
          "2020-10-21T04:53:38.967",
          "2020-10-21T06:22:02.867",
          "2020-10-21T09:30:56.74",
          "2020-10-21T10:44:23.66",
          "2020-10-21T12:58:42.72",
          "2020-10-21T13:33:08.743",
          "2020-10-21T14:06:01.427",
          "2020-10-22T13:47:42.993",
          "2020-10-22T14:31:26.257",
          "2020-10-22T17:17:54.993",
          "2020-10-22T17:19:54.477",
          "2020-10-23T07:50:08.56",
          "2020-10-23T12:09:06.92",
          "2020-10-23T16:06:11.243",
          "2020-10-24T16:03:56.137",
          "2020-10-25T08:22:12.38",
          "2020-10-25T16:01:58.43",
          "2020-10-26T05:46:15.347",
          "2020-10-27T16:57:39.52",
          "2020-10-28T05:57:09.547",
          "2020-10-28T13:28:28.833",
          "2020-10-28T15:58:04.637",
          "2020-10-29T01:39:26.437",
          "2020-10-29T02:25:33.677",
          "2020-10-29T11:10:06.717",
          "2020-10-29T14:45:52.203",
          "2020-10-30T15:24:32.273",
          "2020-11-02T09:41:44.807",
          "2020-11-02T16:14:49.56",
          "2020-11-03T09:15:35.397",
          "2020-11-03T14:16:21.633",
          "2020-11-04T08:18:34.06",
          "2020-11-05T12:22:50.65",
          "2020-11-05T13:57:09.393",
          "2020-11-06T03:12:33.02",
          "2020-11-07T02:30:08.94",
          "2020-11-08T12:42:54.723",
          "2020-11-08T12:48:07.61",
          "2020-11-09T08:23:02.983",
          "2020-11-09T10:51:40.613",
          "2020-11-11T05:50:59.56",
          "2020-11-11T06:00:38.383",
          "2020-11-11T09:58:05.707",
          "2020-11-11T11:27:29.283",
          "2020-11-11T15:13:05.847",
          "2020-11-11T16:53:07.01",
          "2020-11-12T05:28:55.913",
          "2020-11-12T14:47:17.27",
          "2020-11-12T18:39:57.223",
          "2020-11-13T03:08:25.797",
          "2020-11-13T18:33:05.46",
          "2020-11-14T14:04:27.383",
          "2020-11-16T02:39:45.893",
          "2020-11-16T11:23:16.327",
          "2020-11-16T11:25:19.08",
          "2020-11-18T06:54:44.173",
          "2020-11-18T11:32:37.993",
          "2020-11-18T11:41:37.49",
          "2020-11-18T12:30:24.143",
          "2020-11-18T12:37:55.147",
          "2020-11-18T19:18:53.403",
          "2020-11-19T09:30:41.29",
          "2020-11-19T12:44:09.52",
          "2020-11-19T16:56:39.44",
          "2020-11-20T10:05:42.53",
          "2020-11-20T14:00:44.387",
          "2020-11-20T16:00:00.39",
          "2020-11-21T05:08:51.133",
          "2020-11-22T23:21:07.067",
          "2020-11-23T01:58:09.64",
          "2020-11-24T10:58:17.443",
          "2020-11-24T15:09:06.143",
          "2020-11-24T16:02:26.117",
          "2020-11-24T20:48:57.933",
          "2020-11-25T11:17:47.587",
          "2020-11-25T11:59:22.583",
          "2020-11-25T12:40:55.58",
          "2020-11-25T13:13:05.463",
          "2020-11-25T14:28:28.507",
          "2020-11-25T15:43:04.867",
          "2020-11-26T11:43:14.277",
          "2020-11-30T16:32:19.377",
          "2020-12-02T09:26:16.583",
          "2020-12-02T15:54:46.727",
          "2020-12-03T15:45:18.923",
          "2020-12-04T18:13:27.287",
          "2020-12-06T07:13:50.297",
          "2020-12-06T08:25:07.433",
          "2020-12-06T22:33:26.473",
          "2020-12-08T06:45:13.323",
          "2020-12-08T11:32:56.12",
          "2020-12-08T12:43:05.35",
          "2020-12-08T12:43:52.023",
          "2020-12-08T15:13:24.93",
          "2020-12-09T10:04:40.567",
          "2020-12-10T03:32:44.07",
          "2020-12-10T16:03:19.67",
          "2020-12-10T16:45:56.92",
          "2020-12-11T09:05:13.287",
          "2020-12-15T11:43:28.143",
          "2020-12-15T13:24:34.04",
          "2020-12-16T05:04:16.433",
          "2020-12-16T11:24:45.933",
          "2020-12-16T13:34:06.637",
          "2020-12-16T16:31:08.12",
          "2020-12-16T21:46:56.413",
          "2020-12-18T03:06:14.177",
          "2020-12-18T11:11:07.787",
          "2020-12-21T08:30:12.503",
          "2020-12-21T17:49:39.223",
          "2020-12-22T04:59:41.42",
          "2020-12-22T05:06:26.697",
          "2020-12-23T09:59:10.2",
          "2020-12-23T10:59:14.423",
          "2020-12-24T00:03:53.283",
          "2020-12-26T15:56:58.257",
          "2020-12-27T01:57:08.607",
          "2020-12-27T11:57:47.007",
          "2020-12-27T14:12:00.18",
          "2020-12-28T02:51:24.99",
          "2020-12-28T10:34:01.52",
          "2020-12-28T11:57:21.447",
          "2020-12-28T15:09:46.85",
          "2020-12-29T08:45:35.597",
          "2020-12-29T11:55:09.773",
          "2020-12-29T15:13:04.71",
          "2020-12-29T17:22:22.603",
          "2020-12-30T10:05:14.57",
          "2020-12-31T18:03:21.66",
          "2021-01-01T07:00:15.443",
          "2021-01-03T22:55:07.463",
          "2021-01-04T07:41:29.507",
          "2021-01-04T07:48:38.72",
          "2021-01-04T08:49:11.093",
          "2021-01-04T12:26:12.183",
          "2021-01-05T09:54:38.063",
          "2021-01-05T10:07:21.227",
          "2021-01-05T20:16:38.75",
          "2021-01-06T12:25:16.487",
          "2021-01-06T14:50:39.423",
          "2021-01-07T00:43:54.317",
          "2021-01-08T03:57:53.35",
          "2021-01-09T23:27:17.513",
          "2021-01-11T05:30:23.477",
          "2021-01-11T16:25:58.88",
          "2021-01-11T22:44:21.93",
          "2021-01-12T06:59:45.843",
          "2021-01-12T07:40:27.073",
          "2021-01-12T08:16:59.57",
          "2021-01-12T09:52:23.923",
          "2021-01-12T23:48:05.1",
          "2021-01-14T13:55:54.143",
          "2021-01-15T06:20:18.943",
          "2021-01-15T11:36:31.313",
          "2021-01-16T04:10:22.447",
          "2021-01-16T07:56:33.363",
          "2021-01-16T19:32:13.78",
          "2021-01-18T00:23:54.957",
          "2021-01-18T05:59:41.04",
          "2021-01-19T13:53:44.657",
          "2021-01-19T14:58:12.793",
          "2021-01-20T07:11:18.693",
          "2021-01-20T07:58:12.823",
          "2021-01-20T15:38:36.633",
          "2021-01-20T16:13:02.5",
          "2021-01-21T09:00:33.853",
          "2021-01-21T17:46:44.013",
          "2021-01-22T13:54:36.95",
          "2021-01-22T15:20:52.107",
          "2021-01-23T00:52:07.6",
          "2021-01-25T03:57:52.733",
          "2021-01-25T10:05:26.427",
          "2021-01-25T12:51:33.14",
          "2021-01-25T17:07:17.423",
          "2021-01-27T01:26:58.78",
          "2021-01-27T09:22:55.277",
          "2021-01-27T09:22:55.547",
          "2021-01-27T09:28:32.857",
          "2021-01-27T13:06:46.71",
          "2021-01-28T11:33:34.887",
          "2021-01-29T05:09:45.457",
          "2021-01-29T09:32:23.31",
          "2021-01-30T02:44:24.313",
          "2021-02-01T14:35:54.11",
          "2021-02-02T02:54:29.54",
          "2021-02-02T09:15:33.837",
          "2021-02-03T04:07:38.773",
          "2021-02-03T06:28:55.87",
          "2021-02-03T14:28:38.48",
          "2021-02-04T18:52:41.68",
          "2021-02-05T01:44:05.203",
          "2021-02-05T09:38:55.053",
          "2021-02-07T01:35:51.77",
          "2021-02-07T03:45:35.85",
          "2021-02-07T22:47:17.563",
          "2021-02-08T04:21:46.14",
          "2021-02-08T14:35:14.027",
          "2021-02-08T20:23:34.343",
          "2021-02-09T05:36:55.147",
          "2021-02-09T07:28:04.943",
          "2021-02-10T06:07:45.91",
          "2021-02-10T11:48:40.4",
          "2021-02-10T13:30:52.19",
          "2021-02-10T17:28:34.27",
          "2021-02-11T16:40:26.987",
          "2021-02-11T21:31:20.58",
          "2021-02-12T05:54:48.23",
          "2021-02-12T09:56:04.773",
          "2021-02-12T15:06:05.92",
          "2021-02-12T15:07:52.33",
          "2021-02-13T02:53:30.073",
          "2021-02-14T04:45:31.08",
          "2021-02-14T15:10:09.8",
          "2021-02-15T21:50:52.64",
          "2021-02-16T06:32:23.97",
          "2021-02-16T09:44:47.337",
          "2021-02-16T14:37:14.58",
          "2021-02-17T00:44:34.993",
          "2021-02-17T01:00:17.45",
          "2021-02-17T01:25:49.423",
          "2021-02-17T17:57:59.497",
          "2021-02-18T04:41:42.563",
          "2021-02-19T11:17:25.39",
          "2021-02-22T01:18:39.76",
          "2021-02-22T10:22:26.3",
          "2021-02-23T05:30:07.697",
          "2021-02-23T08:25:50.447",
          "2021-02-23T15:53:46.57",
          "2021-02-24T07:45:06.977",
          "2021-02-24T12:36:00.77",
          "2021-02-25T08:53:44.637",
          "2021-02-25T10:29:48.393",
          "2021-02-25T16:43:06.273",
          "2021-02-26T09:23:09.993",
          "2021-02-26T11:57:02.543",
          "2021-02-26T18:47:43.037",
          "2021-02-27T07:31:29.457",
          "2021-02-27T11:08:57.667",
          "2021-03-01T09:13:33.787",
          "2021-03-01T19:39:59.55",
          "2021-03-02T09:23:36.847",
          "2021-03-02T11:18:39.363",
          "2021-03-02T16:31:12.837",
          "2021-03-03T03:05:35.877",
          "2021-03-03T05:13:37.897",
          "2021-03-03T06:44:32.35",
          "2021-03-03T08:54:25",
          "2021-03-03T09:20:39.307",
          "2021-03-03T16:19:15.397",
          "2021-03-04T02:36:22.257",
          "2021-03-04T11:01:28.96",
          "2021-03-05T08:22:11.3",
          "2021-03-06T06:54:56.57",
          "2021-03-09T07:01:54.71",
          "2021-03-09T11:05:19.053",
          "2021-03-09T11:09:19.763",
          "2021-03-09T14:55:21.58",
          "2021-03-09T17:00:23.213",
          "2021-03-10T04:36:07.837",
          "2021-03-10T15:24:21.857",
          "2021-03-10T16:00:02.613",
          "2021-03-11T04:20:04.103",
          "2021-03-11T09:00:30.913",
          "2021-03-11T17:30:43.753",
          "2021-03-12T02:34:21.683",
          "2021-03-12T03:28:33.083",
          "2021-03-12T11:48:47.203",
          "2021-03-13T10:25:21.143",
          "2021-03-14T17:29:30.287",
          "2021-03-15T10:13:43.667",
          "2021-03-15T10:53:54.233",
          "2021-03-16T07:06:57.6",
          "2021-03-16T15:19:27.047",
          "2021-03-17T17:02:54.86",
          "2021-03-18T02:51:39.69",
          "2021-03-18T13:51:25.81",
          "2021-03-19T07:21:13.43",
          "2021-03-19T11:31:47.557",
          "2021-03-20T01:34:53.61",
          "2021-03-22T03:47:12.6",
          "2021-03-23T12:14:18.863",
          "2021-03-24T09:04:13.813",
          "2021-03-24T12:58:46.5",
          "2021-03-25T03:17:53.38",
          "2021-03-25T14:46:51.637",
          "2021-03-25T16:39:59.577",
          "2021-03-26T14:27:14.173",
          "2021-03-30T12:29:47.413",
          "2021-03-30T12:53:22.887",
          "2021-03-31T05:04:42.15",
          "2021-03-31T06:38:42.34",
          "2021-04-01T08:14:49.057",
          "2021-04-06T19:28:50.28",
          "2021-04-07T14:44:07.22",
          "2021-04-08T17:31:25.08",
          "2021-04-09T14:10:26.533",
          "2021-04-09T18:43:03.997",
          "2021-04-10T02:53:00.28",
          "2021-04-10T03:29:32.747",
          "2021-04-10T15:57:59.943",
          "2021-04-12T10:52:25.73",
          "2021-04-12T12:12:10.283",
          "2021-04-12T15:13:07.097",
          "2021-04-14T03:27:41.803",
          "2021-04-15T08:57:58.05",
          "2021-04-15T12:20:03.933",
          "2021-04-19T09:41:09.173",
          "2021-04-20T07:00:28.707",
          "2021-04-20T11:43:36.217",
          "2021-04-20T15:43:56.607",
          "2021-04-21T11:38:15.18",
          "2021-04-22T04:29:17.66",
          "2021-04-22T04:48:51.64",
          "2021-04-22T06:55:40.56",
          "2021-04-22T07:32:19.79",
          "2021-04-22T16:37:41.357",
          "2021-04-22T16:43:27",
          "2021-04-23T00:03:22.743",
          "2021-04-23T09:14:59.607",
          "2021-04-23T11:09:05.35",
          "2021-04-27T07:40:14.087",
          "2021-04-27T10:25:08.213",
          "2021-04-27T13:53:38.607",
          "2021-04-27T14:05:34.707",
          "2021-04-27T16:17:23.083",
          "2021-04-27T16:38:41.177",
          "2021-04-28T06:07:57.33",
          "2021-04-28T11:44:20.84",
          "2021-04-28T14:08:31.08",
          "2021-04-28T14:15:54.817",
          "2021-04-29T02:16:11.49",
          "2021-04-30T07:03:44.607",
          "2021-04-30T08:43:37.07",
          "2021-04-30T15:41:33.667",
          "2021-05-04T03:26:26.993",
          "2021-05-04T09:31:18.373",
          "2021-05-05T10:48:30.583",
          "2021-05-05T14:59:26.737",
          "2021-05-06T04:52:27.5",
          "2021-05-06T05:44:31.317",
          "2021-05-06T06:08:48.817",
          "2021-05-06T10:55:46.883",
          "2021-05-06T14:47:18.237",
          "2021-05-06T15:36:56.423",
          "2021-05-06T19:21:40.677",
          "2021-05-07T11:58:25.423",
          "2021-05-07T12:44:00.26",
          "2021-05-10T14:33:41.143",
          "2021-05-11T11:11:22.967",
          "2021-05-11T14:33:52.803",
          "2021-05-11T16:15:01.67",
          "2021-05-12T19:29:45.887",
          "2021-05-14T08:27:02.38",
          "2021-05-14T10:04:28.7",
          "2021-05-17T00:14:13.58",
          "2021-05-17T05:24:41.617",
          "2021-05-17T10:22:56.957",
          "2021-05-17T10:44:03.017",
          "2021-05-17T12:12:39.573",
          "2021-05-17T12:41:24.27",
          "2021-05-18T00:14:22.057",
          "2021-05-19T09:46:33.497",
          "2021-05-20T08:11:58.513",
          "2021-05-21T02:17:15.373",
          "2021-05-23T15:49:03.797",
          "2021-05-24T03:14:14.447",
          "2021-05-24T05:55:56.8",
          "2021-05-24T14:55:23.877",
          "2021-05-25T10:09:32.81",
          "2021-05-25T16:41:37.953",
          "2021-05-25T23:18:10.647",
          "2021-05-25T23:21:55.333",
          "2021-05-26T05:39:30.67",
          "2021-05-27T07:12:50.66",
          "2021-05-28T11:21:25.033",
          "2021-05-28T13:33:13.153",
          "2021-05-29T21:45:02.2",
          "2021-05-30T01:41:31.68",
          "2021-05-30T08:11:59.69",
          "2021-06-02T07:44:14.63",
          "2021-06-02T12:18:46.267",
          "2021-06-02T13:14:26.307",
          "2021-06-02T13:40:25.58",
          "2021-06-02T13:53:43.85",
          "2021-06-02T15:54:57.997",
          "2021-06-02T16:37:04.77",
          "2021-06-03T02:17:04.61",
          "2021-06-03T04:46:03.063",
          "2021-06-03T04:52:06.57",
          "2021-06-03T09:19:09.593",
          "2021-06-03T19:44:17.527",
          "2021-06-04T05:25:16.927",
          "2021-06-04T10:11:48.013",
          "2021-06-04T19:14:13.09",
          "2021-06-08T04:53:56.6",
          "2021-06-08T10:57:39.363"
         ],
         "xaxis": "x",
         "y": [
          0.063,
          0.022,
          0,
          0.041,
          0,
          0.046,
          0,
          0,
          0,
          0.081,
          0.05,
          0.102,
          0.025,
          0,
          0.037,
          0,
          0.077,
          0.09,
          0,
          0,
          0.069,
          0.121,
          0.067,
          0.034,
          0.079,
          0,
          0,
          0.062,
          0,
          0.089,
          0.055,
          0,
          0.11,
          0,
          0.118,
          0,
          0.145,
          0,
          0,
          0.035,
          0,
          0.062,
          0,
          0.129,
          0,
          0.038,
          0.249,
          0,
          0.1,
          0.032,
          0.102,
          0,
          0,
          0,
          0.131,
          0,
          0,
          0.073,
          0.122,
          0,
          0.02,
          0,
          0,
          0,
          0,
          0,
          0.057,
          0,
          0,
          0,
          0.029,
          0.065,
          0.079,
          0.035,
          0,
          0,
          0,
          0.043,
          0.067,
          0,
          0,
          0.146,
          0.036,
          0,
          0.011,
          0,
          0.024,
          0,
          0,
          0.041,
          0.073,
          0,
          0,
          0,
          0.047,
          0.166,
          0.049,
          0.033,
          0,
          0,
          0,
          0.14,
          0.158,
          0,
          0,
          0.022,
          0.021,
          0.037,
          0,
          0.088,
          0,
          0.08,
          0.046,
          0,
          0.092,
          0,
          0,
          0,
          0,
          0.059,
          0,
          0,
          0.048,
          0,
          0.023,
          0,
          0,
          0,
          0.074,
          0.102,
          0.06,
          0,
          0.1,
          0,
          0.074,
          0.03,
          0.153,
          0,
          0.047,
          0.036,
          0,
          0.018,
          0,
          0.116,
          0.034,
          0,
          0,
          0.167,
          0.046,
          0.028,
          0.171,
          0,
          0,
          0.072,
          0.052,
          0.039,
          0,
          0,
          0,
          0.057,
          0,
          0.05,
          0,
          0.031,
          0.058,
          0.171,
          0.007,
          0,
          0.056,
          0.011,
          0.146,
          0,
          0.043,
          0,
          0.044,
          0,
          0.03,
          0.046,
          0,
          0,
          0,
          0,
          0.028,
          0.013,
          0.029,
          0,
          0,
          0.073,
          0.05,
          0.077,
          0.022,
          0.052,
          0.025,
          0,
          0.104,
          0,
          0.028,
          0,
          0,
          0,
          0,
          0.041,
          0.046,
          0.077,
          0,
          0,
          0,
          0.09,
          0.07,
          0.067,
          0.124,
          0.047,
          0,
          0.129,
          0.074,
          0,
          0,
          0,
          0,
          0.021,
          0,
          0.061,
          0,
          0.047,
          0.091,
          0,
          0.051,
          0.077,
          0.071,
          0.033,
          0,
          0.194,
          0.043,
          0.014,
          0,
          0,
          0,
          0.028,
          0,
          0.048,
          0.093,
          0.022,
          0.017,
          0.026,
          0,
          0,
          0.053,
          0.085,
          0.055,
          0,
          0,
          0.231,
          0,
          0,
          0,
          0.087,
          0,
          0,
          0,
          0,
          0.022,
          0.03,
          0,
          0,
          0,
          0,
          0.062,
          0,
          0,
          0.19,
          0.058,
          0,
          0,
          0,
          0.049,
          0,
          0,
          0,
          0.131,
          0,
          0,
          0.102,
          0.069,
          0.042,
          0.031,
          0.103,
          0.005,
          0,
          0.027,
          0,
          0.154,
          0.057,
          0,
          0.106,
          0.027,
          0.119,
          0,
          0,
          0,
          0.049,
          0,
          0,
          0.053,
          0.069,
          0,
          0.115,
          0,
          0,
          0.051,
          0.227,
          0,
          0,
          0.17,
          0,
          0,
          0.034,
          0.089,
          0,
          0.022,
          0,
          0.048,
          0.076,
          0.038,
          0.023,
          0.103,
          0,
          0,
          0.015,
          0.022,
          0,
          0.099,
          0,
          0.172,
          0.083,
          0.073,
          0.121,
          0.023,
          0.123,
          0.039,
          0,
          0.059,
          0,
          0,
          0,
          0.021,
          0.07,
          0,
          0,
          0,
          0.162,
          0,
          0,
          0,
          0,
          0,
          0,
          0.154,
          0,
          0,
          0,
          0,
          0,
          0.035,
          0.016,
          0.013,
          0.022,
          0.017,
          0,
          0,
          0,
          0.062,
          0,
          0,
          0.048,
          0,
          0.127,
          0,
          0.117,
          0.02,
          0.083,
          0,
          0,
          0.049,
          0,
          0,
          0,
          0.043,
          0,
          0,
          0,
          0.048,
          0.096,
          0,
          0.186,
          0,
          0.043,
          0,
          0.078,
          0,
          0.084,
          0.12,
          0,
          0.068,
          0,
          0.212,
          0,
          0.078,
          0.155,
          0.015,
          0,
          0.042,
          0.058,
          0,
          0.213,
          0.071,
          0.076,
          0.042,
          0.056,
          0,
          0,
          0.037,
          0,
          0.052,
          0.017,
          0,
          0,
          0.046,
          0.043,
          0.154,
          0.1,
          0.166,
          0.098,
          0.091,
          0,
          0.067,
          0.098,
          0.072,
          0,
          0,
          0,
          0,
          0.164,
          0.062,
          0.059,
          0,
          0.031,
          0,
          0.113,
          0,
          0,
          0.087,
          0,
          0.115,
          0,
          0.118,
          0.035,
          0,
          0,
          0,
          0,
          0.1,
          0.019,
          0,
          0,
          0,
          0,
          0,
          0.031,
          0.062,
          0,
          0.073,
          0.188,
          0,
          0,
          0,
          0.016,
          0,
          0.048,
          0.087,
          0,
          0.052,
          0,
          0.029,
          0,
          0.062,
          0,
          0,
          0.072,
          0.118,
          0,
          0.092,
          0.02,
          0,
          0,
          0.1,
          0.085,
          0,
          0.164,
          0.024,
          0,
          0.237,
          0.069,
          0,
          0.052,
          0.033,
          0,
          0,
          0.033,
          0,
          0.049,
          0.022,
          0.048,
          0,
          0.05,
          0.013,
          0,
          0,
          0,
          0,
          0,
          0.065,
          0.224,
          0.06,
          0.098,
          0,
          0,
          0,
          0.02,
          0.04,
          0.132,
          0,
          0,
          0.048,
          0,
          0.137,
          0.018,
          0.07,
          0.023,
          0.056,
          0,
          0,
          0.04,
          0.095,
          0,
          0.05,
          0.136,
          0.181,
          0,
          0.211,
          0,
          0,
          0,
          0.049,
          0.038,
          0.087,
          0,
          0,
          0.071,
          0.027,
          0,
          0.084,
          0,
          0.091,
          0,
          0.03,
          0,
          0,
          0,
          0.053,
          0.025,
          0.065,
          0,
          0,
          0,
          0,
          0.078,
          0,
          0.012,
          0,
          0.065,
          0,
          0,
          0.089,
          0.029,
          0,
          0,
          0,
          0.06,
          0,
          0,
          0.141,
          0.06,
          0,
          0.047,
          0.026,
          0.065,
          0.089,
          0,
          0.123,
          0,
          0.09,
          0.066,
          0.089,
          0,
          0,
          0,
          0.009,
          0.037,
          0,
          0,
          0,
          0,
          0,
          0,
          0,
          0,
          0.041,
          0.069,
          0,
          0,
          0,
          0,
          0.026,
          0,
          0,
          0,
          0.062,
          0,
          0,
          0.026,
          0.236,
          0.062,
          0,
          0,
          0,
          0.059,
          0.129,
          0,
          0,
          0.028,
          0,
          0.121,
          0,
          0.017,
          0,
          0,
          0,
          0,
          0,
          0,
          0.103,
          0,
          0.065,
          0,
          0.047,
          0.08,
          0.169,
          0,
          0.046,
          0.041,
          0.156,
          0.081,
          0.011,
          0,
          0.03,
          0,
          0.079,
          0,
          0.132,
          0.05,
          0.046,
          0.055,
          0.071,
          0,
          0.067,
          0,
          0.034,
          0,
          0,
          0.087,
          0,
          0,
          0.045,
          0.118,
          0.1,
          0.029,
          0,
          0.074,
          0,
          0.07,
          0,
          0,
          0.044,
          0.004,
          0.182,
          0.086,
          0.092,
          0,
          0,
          0,
          0,
          0.021,
          0,
          0,
          0,
          0.034,
          0.007,
          0.036,
          0,
          0.205,
          0.205,
          0.06,
          0.1,
          0,
          0,
          0,
          0.032,
          0,
          0.026,
          0,
          0,
          0,
          0,
          0,
          0.048,
          0,
          0,
          0.025,
          0.148,
          0.082,
          0.009,
          0.145,
          0.048,
          0.091,
          0,
          0.005,
          0,
          0.023,
          0.111,
          0.015,
          0.075,
          0,
          0,
          0.028,
          0,
          0.074,
          0,
          0.07,
          0.058,
          0,
          0.039,
          0,
          0,
          0.07,
          0.072,
          0.017,
          0,
          0,
          0.031,
          0,
          0.116,
          0,
          0.071,
          0.026,
          0.108,
          0,
          0.016,
          0.136,
          0,
          0,
          0.236,
          0,
          0.045,
          0.086,
          0.133,
          0.041,
          0.156,
          0.013,
          0,
          0.116,
          0.025,
          0.1,
          0.022,
          0,
          0,
          0.054,
          0.115,
          0,
          0.055,
          0.042,
          0.163,
          0.051,
          0.103,
          0,
          0.074,
          0,
          0,
          0.044,
          0.148,
          0.014,
          0.276,
          0,
          0.053,
          0.037,
          0,
          0,
          0.112,
          0,
          0,
          0.102,
          0,
          0,
          0.109,
          0.13,
          0,
          0.231,
          0,
          0.082,
          0.035,
          0,
          0,
          0.045,
          0,
          0.08,
          0,
          0,
          0.023,
          0,
          0,
          0,
          0.044,
          0.029,
          0.125,
          0,
          0.035,
          0,
          0.04,
          0,
          0.091,
          0.086,
          0.143,
          0,
          0.246,
          0.019,
          0,
          0.129,
          0.04,
          0.053,
          0,
          0.015,
          0,
          0.054,
          0.19,
          0,
          0.021,
          0.05,
          0,
          0,
          0,
          0.074,
          0.014,
          0,
          0,
          0,
          0.111,
          0,
          0,
          0,
          0.037,
          0,
          0.059,
          0,
          0.171,
          0,
          0.03,
          0.048,
          0.064,
          0.141,
          0.064,
          0,
          0,
          0.175,
          0.066,
          0.091,
          0,
          0.027,
          0.114,
          0,
          0.079,
          0.079,
          0.17,
          0.052,
          0.065,
          0.039,
          0.098,
          0.018,
          0.06,
          0.046,
          0,
          0,
          0.031,
          0,
          0.047,
          0,
          0.068,
          0,
          0.15,
          0.104,
          0.055,
          0,
          0,
          0.022,
          0,
          0,
          0.026,
          0,
          0.027,
          0,
          0,
          0.105,
          0.015,
          0.056,
          0.057,
          0,
          0.12,
          0,
          0.095,
          0,
          0,
          0.026,
          0.023,
          0,
          0.013,
          0.133,
          0,
          0.053,
          0,
          0.092,
          0.16,
          0,
          0.117,
          0,
          0.074,
          0,
          0.048,
          0,
          0,
          0.415,
          0,
          0.013,
          0.026,
          0,
          0.036,
          0,
          0.046,
          0.067,
          0,
          0,
          0,
          0,
          0,
          0.016,
          0.037,
          0.019,
          0,
          0,
          0,
          0.213,
          0,
          0.065,
          0,
          0.227,
          0.037,
          0.075,
          0,
          0,
          0,
          0,
          0.049,
          0.036,
          0,
          0,
          0,
          0.109,
          0.018,
          0.053,
          0.095,
          0,
          0.231,
          0.147,
          0.041,
          0,
          0.092,
          0.06,
          0.032,
          0.056,
          0,
          0,
          0.147,
          0,
          0,
          0.024,
          0,
          0.06,
          0.093,
          0,
          0.107,
          0.127,
          0,
          0.033,
          0.036,
          0.063,
          0,
          0,
          0,
          0,
          0,
          0.15,
          0.049,
          0.152,
          0.127,
          0,
          0.031,
          0.036,
          0.025,
          0,
          0,
          0,
          0.025,
          0.045,
          0.15,
          0.068,
          0,
          0.045,
          0.026,
          0,
          0,
          0,
          0.047,
          0.061,
          0.131,
          0,
          0.093,
          0.016,
          0.072,
          0,
          0.067,
          0.16,
          0.086,
          0.135,
          0.258,
          0.097,
          0,
          0.067,
          0.103,
          0,
          0,
          0.051,
          0.046,
          0.022,
          0,
          0,
          0,
          0.063,
          0.068,
          0.04,
          0.028,
          0,
          0,
          0,
          0,
          0.043,
          0.025,
          0,
          0,
          0,
          0,
          0.21,
          0.039,
          0,
          0,
          0,
          0,
          0.089,
          0,
          0
         ],
         "yaxis": "y"
        }
       ],
       "layout": {
        "legend": {
         "tracegroupgap": 0
        },
        "margin": {
         "t": 60
        },
        "template": {
         "data": {
          "bar": [
           {
            "error_x": {
             "color": "#2a3f5f"
            },
            "error_y": {
             "color": "#2a3f5f"
            },
            "marker": {
             "line": {
              "color": "#E5ECF6",
              "width": 0.5
             }
            },
            "type": "bar"
           }
          ],
          "barpolar": [
           {
            "marker": {
             "line": {
              "color": "#E5ECF6",
              "width": 0.5
             }
            },
            "type": "barpolar"
           }
          ],
          "carpet": [
           {
            "aaxis": {
             "endlinecolor": "#2a3f5f",
             "gridcolor": "white",
             "linecolor": "white",
             "minorgridcolor": "white",
             "startlinecolor": "#2a3f5f"
            },
            "baxis": {
             "endlinecolor": "#2a3f5f",
             "gridcolor": "white",
             "linecolor": "white",
             "minorgridcolor": "white",
             "startlinecolor": "#2a3f5f"
            },
            "type": "carpet"
           }
          ],
          "choropleth": [
           {
            "colorbar": {
             "outlinewidth": 0,
             "ticks": ""
            },
            "type": "choropleth"
           }
          ],
          "contour": [
           {
            "colorbar": {
             "outlinewidth": 0,
             "ticks": ""
            },
            "colorscale": [
             [
              0,
              "#0d0887"
             ],
             [
              0.1111111111111111,
              "#46039f"
             ],
             [
              0.2222222222222222,
              "#7201a8"
             ],
             [
              0.3333333333333333,
              "#9c179e"
             ],
             [
              0.4444444444444444,
              "#bd3786"
             ],
             [
              0.5555555555555556,
              "#d8576b"
             ],
             [
              0.6666666666666666,
              "#ed7953"
             ],
             [
              0.7777777777777778,
              "#fb9f3a"
             ],
             [
              0.8888888888888888,
              "#fdca26"
             ],
             [
              1,
              "#f0f921"
             ]
            ],
            "type": "contour"
           }
          ],
          "contourcarpet": [
           {
            "colorbar": {
             "outlinewidth": 0,
             "ticks": ""
            },
            "type": "contourcarpet"
           }
          ],
          "heatmap": [
           {
            "colorbar": {
             "outlinewidth": 0,
             "ticks": ""
            },
            "colorscale": [
             [
              0,
              "#0d0887"
             ],
             [
              0.1111111111111111,
              "#46039f"
             ],
             [
              0.2222222222222222,
              "#7201a8"
             ],
             [
              0.3333333333333333,
              "#9c179e"
             ],
             [
              0.4444444444444444,
              "#bd3786"
             ],
             [
              0.5555555555555556,
              "#d8576b"
             ],
             [
              0.6666666666666666,
              "#ed7953"
             ],
             [
              0.7777777777777778,
              "#fb9f3a"
             ],
             [
              0.8888888888888888,
              "#fdca26"
             ],
             [
              1,
              "#f0f921"
             ]
            ],
            "type": "heatmap"
           }
          ],
          "heatmapgl": [
           {
            "colorbar": {
             "outlinewidth": 0,
             "ticks": ""
            },
            "colorscale": [
             [
              0,
              "#0d0887"
             ],
             [
              0.1111111111111111,
              "#46039f"
             ],
             [
              0.2222222222222222,
              "#7201a8"
             ],
             [
              0.3333333333333333,
              "#9c179e"
             ],
             [
              0.4444444444444444,
              "#bd3786"
             ],
             [
              0.5555555555555556,
              "#d8576b"
             ],
             [
              0.6666666666666666,
              "#ed7953"
             ],
             [
              0.7777777777777778,
              "#fb9f3a"
             ],
             [
              0.8888888888888888,
              "#fdca26"
             ],
             [
              1,
              "#f0f921"
             ]
            ],
            "type": "heatmapgl"
           }
          ],
          "histogram": [
           {
            "marker": {
             "colorbar": {
              "outlinewidth": 0,
              "ticks": ""
             }
            },
            "type": "histogram"
           }
          ],
          "histogram2d": [
           {
            "colorbar": {
             "outlinewidth": 0,
             "ticks": ""
            },
            "colorscale": [
             [
              0,
              "#0d0887"
             ],
             [
              0.1111111111111111,
              "#46039f"
             ],
             [
              0.2222222222222222,
              "#7201a8"
             ],
             [
              0.3333333333333333,
              "#9c179e"
             ],
             [
              0.4444444444444444,
              "#bd3786"
             ],
             [
              0.5555555555555556,
              "#d8576b"
             ],
             [
              0.6666666666666666,
              "#ed7953"
             ],
             [
              0.7777777777777778,
              "#fb9f3a"
             ],
             [
              0.8888888888888888,
              "#fdca26"
             ],
             [
              1,
              "#f0f921"
             ]
            ],
            "type": "histogram2d"
           }
          ],
          "histogram2dcontour": [
           {
            "colorbar": {
             "outlinewidth": 0,
             "ticks": ""
            },
            "colorscale": [
             [
              0,
              "#0d0887"
             ],
             [
              0.1111111111111111,
              "#46039f"
             ],
             [
              0.2222222222222222,
              "#7201a8"
             ],
             [
              0.3333333333333333,
              "#9c179e"
             ],
             [
              0.4444444444444444,
              "#bd3786"
             ],
             [
              0.5555555555555556,
              "#d8576b"
             ],
             [
              0.6666666666666666,
              "#ed7953"
             ],
             [
              0.7777777777777778,
              "#fb9f3a"
             ],
             [
              0.8888888888888888,
              "#fdca26"
             ],
             [
              1,
              "#f0f921"
             ]
            ],
            "type": "histogram2dcontour"
           }
          ],
          "mesh3d": [
           {
            "colorbar": {
             "outlinewidth": 0,
             "ticks": ""
            },
            "type": "mesh3d"
           }
          ],
          "parcoords": [
           {
            "line": {
             "colorbar": {
              "outlinewidth": 0,
              "ticks": ""
             }
            },
            "type": "parcoords"
           }
          ],
          "pie": [
           {
            "automargin": true,
            "type": "pie"
           }
          ],
          "scatter": [
           {
            "marker": {
             "colorbar": {
              "outlinewidth": 0,
              "ticks": ""
             }
            },
            "type": "scatter"
           }
          ],
          "scatter3d": [
           {
            "line": {
             "colorbar": {
              "outlinewidth": 0,
              "ticks": ""
             }
            },
            "marker": {
             "colorbar": {
              "outlinewidth": 0,
              "ticks": ""
             }
            },
            "type": "scatter3d"
           }
          ],
          "scattercarpet": [
           {
            "marker": {
             "colorbar": {
              "outlinewidth": 0,
              "ticks": ""
             }
            },
            "type": "scattercarpet"
           }
          ],
          "scattergeo": [
           {
            "marker": {
             "colorbar": {
              "outlinewidth": 0,
              "ticks": ""
             }
            },
            "type": "scattergeo"
           }
          ],
          "scattergl": [
           {
            "marker": {
             "colorbar": {
              "outlinewidth": 0,
              "ticks": ""
             }
            },
            "type": "scattergl"
           }
          ],
          "scattermapbox": [
           {
            "marker": {
             "colorbar": {
              "outlinewidth": 0,
              "ticks": ""
             }
            },
            "type": "scattermapbox"
           }
          ],
          "scatterpolar": [
           {
            "marker": {
             "colorbar": {
              "outlinewidth": 0,
              "ticks": ""
             }
            },
            "type": "scatterpolar"
           }
          ],
          "scatterpolargl": [
           {
            "marker": {
             "colorbar": {
              "outlinewidth": 0,
              "ticks": ""
             }
            },
            "type": "scatterpolargl"
           }
          ],
          "scatterternary": [
           {
            "marker": {
             "colorbar": {
              "outlinewidth": 0,
              "ticks": ""
             }
            },
            "type": "scatterternary"
           }
          ],
          "surface": [
           {
            "colorbar": {
             "outlinewidth": 0,
             "ticks": ""
            },
            "colorscale": [
             [
              0,
              "#0d0887"
             ],
             [
              0.1111111111111111,
              "#46039f"
             ],
             [
              0.2222222222222222,
              "#7201a8"
             ],
             [
              0.3333333333333333,
              "#9c179e"
             ],
             [
              0.4444444444444444,
              "#bd3786"
             ],
             [
              0.5555555555555556,
              "#d8576b"
             ],
             [
              0.6666666666666666,
              "#ed7953"
             ],
             [
              0.7777777777777778,
              "#fb9f3a"
             ],
             [
              0.8888888888888888,
              "#fdca26"
             ],
             [
              1,
              "#f0f921"
             ]
            ],
            "type": "surface"
           }
          ],
          "table": [
           {
            "cells": {
             "fill": {
              "color": "#EBF0F8"
             },
             "line": {
              "color": "white"
             }
            },
            "header": {
             "fill": {
              "color": "#C8D4E3"
             },
             "line": {
              "color": "white"
             }
            },
            "type": "table"
           }
          ]
         },
         "layout": {
          "annotationdefaults": {
           "arrowcolor": "#2a3f5f",
           "arrowhead": 0,
           "arrowwidth": 1
          },
          "autotypenumbers": "strict",
          "coloraxis": {
           "colorbar": {
            "outlinewidth": 0,
            "ticks": ""
           }
          },
          "colorscale": {
           "diverging": [
            [
             0,
             "#8e0152"
            ],
            [
             0.1,
             "#c51b7d"
            ],
            [
             0.2,
             "#de77ae"
            ],
            [
             0.3,
             "#f1b6da"
            ],
            [
             0.4,
             "#fde0ef"
            ],
            [
             0.5,
             "#f7f7f7"
            ],
            [
             0.6,
             "#e6f5d0"
            ],
            [
             0.7,
             "#b8e186"
            ],
            [
             0.8,
             "#7fbc41"
            ],
            [
             0.9,
             "#4d9221"
            ],
            [
             1,
             "#276419"
            ]
           ],
           "sequential": [
            [
             0,
             "#0d0887"
            ],
            [
             0.1111111111111111,
             "#46039f"
            ],
            [
             0.2222222222222222,
             "#7201a8"
            ],
            [
             0.3333333333333333,
             "#9c179e"
            ],
            [
             0.4444444444444444,
             "#bd3786"
            ],
            [
             0.5555555555555556,
             "#d8576b"
            ],
            [
             0.6666666666666666,
             "#ed7953"
            ],
            [
             0.7777777777777778,
             "#fb9f3a"
            ],
            [
             0.8888888888888888,
             "#fdca26"
            ],
            [
             1,
             "#f0f921"
            ]
           ],
           "sequentialminus": [
            [
             0,
             "#0d0887"
            ],
            [
             0.1111111111111111,
             "#46039f"
            ],
            [
             0.2222222222222222,
             "#7201a8"
            ],
            [
             0.3333333333333333,
             "#9c179e"
            ],
            [
             0.4444444444444444,
             "#bd3786"
            ],
            [
             0.5555555555555556,
             "#d8576b"
            ],
            [
             0.6666666666666666,
             "#ed7953"
            ],
            [
             0.7777777777777778,
             "#fb9f3a"
            ],
            [
             0.8888888888888888,
             "#fdca26"
            ],
            [
             1,
             "#f0f921"
            ]
           ]
          },
          "colorway": [
           "#636efa",
           "#EF553B",
           "#00cc96",
           "#ab63fa",
           "#FFA15A",
           "#19d3f3",
           "#FF6692",
           "#B6E880",
           "#FF97FF",
           "#FECB52"
          ],
          "font": {
           "color": "#2a3f5f"
          },
          "geo": {
           "bgcolor": "white",
           "lakecolor": "white",
           "landcolor": "#E5ECF6",
           "showlakes": true,
           "showland": true,
           "subunitcolor": "white"
          },
          "hoverlabel": {
           "align": "left"
          },
          "hovermode": "closest",
          "mapbox": {
           "style": "light"
          },
          "paper_bgcolor": "white",
          "plot_bgcolor": "#E5ECF6",
          "polar": {
           "angularaxis": {
            "gridcolor": "white",
            "linecolor": "white",
            "ticks": ""
           },
           "bgcolor": "#E5ECF6",
           "radialaxis": {
            "gridcolor": "white",
            "linecolor": "white",
            "ticks": ""
           }
          },
          "scene": {
           "xaxis": {
            "backgroundcolor": "#E5ECF6",
            "gridcolor": "white",
            "gridwidth": 2,
            "linecolor": "white",
            "showbackground": true,
            "ticks": "",
            "zerolinecolor": "white"
           },
           "yaxis": {
            "backgroundcolor": "#E5ECF6",
            "gridcolor": "white",
            "gridwidth": 2,
            "linecolor": "white",
            "showbackground": true,
            "ticks": "",
            "zerolinecolor": "white"
           },
           "zaxis": {
            "backgroundcolor": "#E5ECF6",
            "gridcolor": "white",
            "gridwidth": 2,
            "linecolor": "white",
            "showbackground": true,
            "ticks": "",
            "zerolinecolor": "white"
           }
          },
          "shapedefaults": {
           "line": {
            "color": "#2a3f5f"
           }
          },
          "ternary": {
           "aaxis": {
            "gridcolor": "white",
            "linecolor": "white",
            "ticks": ""
           },
           "baxis": {
            "gridcolor": "white",
            "linecolor": "white",
            "ticks": ""
           },
           "bgcolor": "#E5ECF6",
           "caxis": {
            "gridcolor": "white",
            "linecolor": "white",
            "ticks": ""
           }
          },
          "title": {
           "x": 0.05
          },
          "xaxis": {
           "automargin": true,
           "gridcolor": "white",
           "linecolor": "white",
           "ticks": "",
           "title": {
            "standoff": 15
           },
           "zerolinecolor": "white",
           "zerolinewidth": 2
          },
          "yaxis": {
           "automargin": true,
           "gridcolor": "white",
           "linecolor": "white",
           "ticks": "",
           "title": {
            "standoff": 15
           },
           "zerolinecolor": "white",
           "zerolinewidth": 2
          }
         }
        },
        "xaxis": {
         "anchor": "y",
         "domain": [
          0,
          1
         ],
         "title": {
          "text": "Post Date"
         }
        },
        "yaxis": {
         "anchor": "x",
         "domain": [
          0,
          1
         ],
         "title": {
          "text": "neg"
         }
        }
       }
      },
      "text/html": [
       "<div>                            <div id=\"36b6eb32-0602-407d-ac53-7740f1bc457f\" class=\"plotly-graph-div\" style=\"height:525px; width:100%;\"></div>            <script type=\"text/javascript\">                require([\"plotly\"], function(Plotly) {                    window.PLOTLYENV=window.PLOTLYENV || {};                                    if (document.getElementById(\"36b6eb32-0602-407d-ac53-7740f1bc457f\")) {                    Plotly.newPlot(                        \"36b6eb32-0602-407d-ac53-7740f1bc457f\",                        [{\"hovertemplate\": \"Post Date=%{x}<br>neg=%{y}<extra></extra>\", \"legendgroup\": \"\", \"line\": {\"color\": \"#636efa\", \"dash\": \"solid\"}, \"mode\": \"lines\", \"name\": \"\", \"showlegend\": false, \"type\": \"scattergl\", \"x\": [\"2019-10-10T05:58:05.73\", \"2019-10-10T12:44:35.957\", \"2019-10-10T14:56:52.947\", \"2019-10-10T15:41:06.877\", \"2019-10-10T20:56:53.483\", \"2019-10-11T13:10:28.983\", \"2019-10-11T14:24:15.807\", \"2019-10-11T16:02:41.787\", \"2019-10-13T20:01:08.897\", \"2019-10-14T05:55:32.553\", \"2019-10-14T08:33:18.01\", \"2019-10-14T22:38:08.26\", \"2019-10-16T11:20:54.023\", \"2019-10-16T14:12:45.5\", \"2019-10-17T09:14:34.753\", \"2019-10-17T10:16:15.513\", \"2019-10-17T12:09:02.91\", \"2019-10-17T23:59:14.523\", \"2019-10-18T14:58:06.717\", \"2019-10-21T06:08:38.347\", \"2019-10-21T09:43:33.513\", \"2019-10-21T12:40:40.86\", \"2019-10-21T16:06:55.323\", \"2019-10-22T08:16:13.563\", \"2019-10-22T16:27:23.92\", \"2019-10-22T18:07:48.827\", \"2019-10-23T03:37:35.103\", \"2019-10-23T06:23:11.657\", \"2019-10-23T08:20:38.087\", \"2019-10-23T11:38:26.887\", \"2019-10-23T12:09:17.84\", \"2019-10-24T04:42:08.237\", \"2019-10-24T06:19:46.603\", \"2019-10-24T09:59:56.077\", \"2019-10-24T14:04:33.85\", \"2019-10-24T16:34:04.713\", \"2019-10-25T11:54:33.85\", \"2019-10-28T15:36:47.907\", \"2019-10-29T06:01:19.783\", \"2019-10-29T10:29:47.95\", \"2019-10-29T16:46:32.203\", \"2019-10-29T17:04:40.463\", \"2019-10-30T04:45:07.257\", \"2019-10-30T08:21:45.053\", \"2019-10-30T15:33:07.45\", \"2019-10-30T18:41:07.37\", \"2019-10-30T18:45:20.75\", \"2019-10-31T12:35:06.993\", \"2019-10-31T23:57:45.833\", \"2019-11-01T07:44:02.54\", \"2019-11-01T07:45:56.387\", \"2019-11-04T17:47:37.86\", \"2019-11-06T06:04:59.007\", \"2019-11-06T10:08:50.95\", \"2019-11-06T10:27:39.52\", \"2019-11-08T20:33:59.89\", \"2019-11-09T11:37:29.693\", \"2019-11-10T01:44:11.28\", \"2019-11-11T05:59:42.987\", \"2019-11-11T11:39:44.857\", \"2019-11-11T13:02:34.017\", \"2019-11-12T00:41:34.433\", \"2019-11-12T18:42:03.247\", \"2019-11-13T03:30:36.293\", \"2019-11-13T09:35:33.91\", \"2019-11-13T23:52:26.683\", \"2019-11-14T03:28:57.637\", \"2019-11-14T06:03:35.53\", \"2019-11-14T09:45:03.713\", \"2019-11-14T11:29:20.21\", \"2019-11-14T13:10:08.303\", \"2019-11-18T04:12:03.657\", \"2019-11-18T10:12:47.987\", \"2019-11-18T15:17:49.503\", \"2019-11-18T16:11:15.36\", \"2019-11-18T17:18:32.137\", \"2019-11-18T19:25:44.17\", \"2019-11-19T02:48:28.417\", \"2019-11-19T10:27:37.423\", \"2019-11-19T11:00:35.74\", \"2019-11-19T20:00:10.803\", \"2019-11-20T05:47:36.783\", \"2019-11-20T10:36:40.83\", \"2019-11-20T12:24:54.847\", \"2019-11-21T00:07:58.053\", \"2019-11-21T13:38:42.807\", \"2019-11-21T14:08:12.47\", \"2019-11-21T18:13:29.69\", \"2019-11-22T07:29:58.45\", \"2019-11-22T12:44:01.59\", \"2019-11-23T12:26:35.197\", \"2019-11-26T08:17:12.663\", \"2019-11-27T10:39:18.173\", \"2019-11-27T21:15:11.89\", \"2019-11-28T04:58:07.76\", \"2019-11-29T02:39:25.357\", \"2019-12-02T07:06:03.57\", \"2019-12-02T15:42:44.927\", \"2019-12-02T21:04:51.46\", \"2019-12-03T07:56:40.55\", \"2019-12-03T10:45:44.023\", \"2019-12-03T14:56:05.093\", \"2019-12-03T16:06:57.23\", \"2019-12-04T11:59:55.687\", \"2019-12-05T11:04:33.51\", \"2019-12-05T12:28:17.997\", \"2019-12-09T07:10:55.167\", \"2019-12-09T07:25:39.22\", \"2019-12-09T10:45:09.32\", \"2019-12-09T10:53:03.993\", \"2019-12-09T12:45:56.217\", \"2019-12-10T07:50:29.637\", \"2019-12-10T08:52:36.997\", \"2019-12-10T10:14:02.33\", \"2019-12-10T10:55:22.36\", \"2019-12-10T11:53:33.71\", \"2019-12-10T18:25:49.657\", \"2019-12-11T11:26:46.79\", \"2019-12-11T11:57:54.773\", \"2019-12-12T10:17:39.717\", \"2019-12-12T11:05:43.68\", \"2019-12-13T09:43:03.027\", \"2019-12-17T03:54:27.833\", \"2019-12-17T05:30:55.173\", \"2019-12-17T09:31:11.343\", \"2019-12-17T11:21:51.1\", \"2019-12-17T12:36:10.797\", \"2019-12-17T22:05:31.297\", \"2019-12-18T02:18:53.803\", \"2019-12-18T04:43:33.147\", \"2019-12-18T07:43:12.083\", \"2019-12-18T14:19:48.24\", \"2019-12-20T08:29:43.793\", \"2019-12-20T14:25:22.243\", \"2019-12-21T07:25:05.07\", \"2019-12-21T07:31:20.647\", \"2019-12-24T06:44:49.68\", \"2019-12-24T07:53:51.783\", \"2019-12-26T08:18:44.133\", \"2019-12-26T11:59:21.053\", \"2019-12-27T18:14:34.557\", \"2019-12-28T03:55:55.687\", \"2019-12-30T13:08:12.05\", \"2019-12-30T13:53:51.783\", \"2020-01-02T06:49:33.107\", \"2020-01-02T09:53:02.633\", \"2020-01-02T16:36:17.35\", \"2020-01-03T04:40:24.317\", \"2020-01-03T12:08:04.033\", \"2020-01-03T16:41:12.803\", \"2020-01-05T08:26:52.923\", \"2020-01-06T12:19:26.157\", \"2020-01-06T17:04:29.283\", \"2020-01-06T17:40:07.413\", \"2020-01-07T04:10:45.22\", \"2020-01-07T04:51:00.893\", \"2020-01-07T10:24:06.313\", \"2020-01-07T11:18:19.473\", \"2020-01-07T13:43:06.053\", \"2020-01-07T15:38:23.8\", \"2020-01-07T16:18:56.733\", \"2020-01-08T16:28:49.287\", \"2020-01-09T01:31:01.17\", \"2020-01-09T06:33:51.44\", \"2020-01-09T12:05:38.153\", \"2020-01-10T15:06:17.673\", \"2020-01-10T15:54:12.933\", \"2020-01-11T05:17:09.423\", \"2020-01-13T12:21:50.72\", \"2020-01-13T13:00:29.71\", \"2020-01-14T07:18:24.06\", \"2020-01-14T07:36:27.793\", \"2020-01-14T15:06:33.63\", \"2020-01-15T04:12:20.593\", \"2020-01-15T09:52:42.417\", \"2020-01-15T13:11:10.033\", \"2020-01-15T19:14:38.547\", \"2020-01-16T01:35:18.87\", \"2020-01-16T10:00:09.903\", \"2020-01-16T17:27:43.697\", \"2020-01-16T20:37:57.323\", \"2020-01-18T01:12:31.457\", \"2020-01-18T07:43:39.573\", \"2020-01-20T00:07:25.07\", \"2020-01-20T06:57:25.193\", \"2020-01-20T06:59:28.963\", \"2020-01-20T07:01:58.37\", \"2020-01-20T14:25:20.393\", \"2020-01-20T14:45:16.097\", \"2020-01-20T17:44:58.307\", \"2020-01-22T15:07:27.347\", \"2020-01-22T15:21:03.853\", \"2020-01-23T08:30:02.617\", \"2020-01-23T09:12:43.07\", \"2020-01-24T06:49:45.39\", \"2020-01-24T15:38:37.98\", \"2020-01-25T16:27:33.3\", \"2020-01-27T12:47:35.913\", \"2020-01-27T13:06:07.103\", \"2020-01-27T19:11:17.547\", \"2020-01-29T01:21:00.2\", \"2020-01-29T10:26:02.32\", \"2020-01-30T18:43:33.303\", \"2020-01-31T00:48:04.5\", \"2020-01-31T08:03:58.81\", \"2020-02-01T05:35:29.75\", \"2020-02-02T13:10:27.66\", \"2020-02-02T17:09:13.667\", \"2020-02-03T04:12:16.153\", \"2020-02-03T09:59:10.557\", \"2020-02-03T13:33:12.313\", \"2020-02-04T09:46:39.103\", \"2020-02-04T20:18:44.27\", \"2020-02-05T11:30:08.943\", \"2020-02-05T12:57:51.92\", \"2020-02-05T15:34:55.653\", \"2020-02-07T10:19:14.993\", \"2020-02-10T12:07:23.167\", \"2020-02-10T12:23:06.927\", \"2020-02-10T12:51:43.717\", \"2020-02-10T17:12:39.753\", \"2020-02-11T17:09:02.48\", \"2020-02-11T17:58:49.54\", \"2020-02-12T06:28:17.963\", \"2020-02-12T09:04:32.27\", \"2020-02-12T14:03:31.393\", \"2020-02-12T14:51:42.37\", \"2020-02-12T15:16:51.137\", \"2020-02-12T18:31:25.547\", \"2020-02-13T04:33:31.503\", \"2020-02-13T07:03:33.427\", \"2020-02-14T10:24:51.933\", \"2020-02-14T11:00:46.067\", \"2020-02-17T16:50:09.627\", \"2020-02-18T02:27:54.503\", \"2020-02-18T09:57:28.06\", \"2020-02-18T10:33:31.103\", \"2020-02-18T11:09:26.847\", \"2020-02-20T09:07:37.297\", \"2020-02-20T18:55:20.497\", \"2020-02-21T04:19:57.7\", \"2020-02-21T06:32:06.093\", \"2020-02-21T12:36:02.74\", \"2020-02-21T13:01:12.36\", \"2020-02-21T18:07:34.15\", \"2020-02-23T02:07:04.06\", \"2020-02-24T05:14:04.183\", \"2020-02-24T09:39:05.69\", \"2020-02-24T15:46:47.507\", \"2020-02-25T03:52:03.343\", \"2020-02-26T09:59:17.067\", \"2020-02-26T12:34:35.337\", \"2020-02-26T16:38:14.707\", \"2020-02-27T12:11:29.997\", \"2020-02-28T04:40:42.623\", \"2020-02-28T10:58:22.157\", \"2020-02-28T12:00:12.227\", \"2020-02-28T12:41:38.88\", \"2020-02-29T01:03:40.683\", \"2020-03-01T02:40:06.913\", \"2020-03-01T10:01:48.487\", \"2020-03-01T23:59:56.043\", \"2020-03-02T14:28:29.457\", \"2020-03-03T00:00:27.147\", \"2020-03-03T04:30:14.143\", \"2020-03-03T06:44:29.51\", \"2020-03-03T07:23:34.21\", \"2020-03-04T03:34:45.237\", \"2020-03-04T10:43:21.66\", \"2020-03-04T20:50:43.727\", \"2020-03-05T20:40:47.497\", \"2020-03-06T16:53:23.053\", \"2020-03-07T06:36:24.19\", \"2020-03-08T12:22:18.35\", \"2020-03-08T18:22:20.403\", \"2020-03-09T07:47:26.907\", \"2020-03-10T02:49:49.197\", \"2020-03-10T07:07:09.317\", \"2020-03-10T11:43:30.047\", \"2020-03-10T13:47:55.803\", \"2020-03-11T12:02:24.97\", \"2020-03-12T03:22:56.907\", \"2020-03-12T05:01:18.27\", \"2020-03-12T09:32:11.43\", \"2020-03-12T16:24:51.943\", \"2020-03-13T02:20:48.573\", \"2020-03-13T18:05:09.727\", \"2020-03-16T05:51:59.12\", \"2020-03-16T13:41:01.863\", \"2020-03-17T01:11:48.753\", \"2020-03-17T02:14:25.67\", \"2020-03-17T10:57:57.617\", \"2020-03-17T11:01:28.317\", \"2020-03-17T12:46:10.82\", \"2020-03-17T17:40:54.64\", \"2020-03-18T06:06:20.797\", \"2020-03-19T09:31:32.573\", \"2020-03-20T09:02:42.493\", \"2020-03-20T09:52:08.827\", \"2020-03-22T12:10:06.073\", \"2020-03-22T23:11:53.447\", \"2020-03-23T11:06:50.057\", \"2020-03-23T23:34:21.613\", \"2020-03-24T16:40:36.357\", \"2020-03-25T05:31:26.553\", \"2020-03-25T13:28:17.627\", \"2020-03-25T13:53:46.49\", \"2020-03-27T09:21:56.483\", \"2020-03-28T01:28:47.883\", \"2020-03-30T04:21:56.913\", \"2020-03-30T09:08:24.897\", \"2020-03-30T15:21:41.037\", \"2020-03-30T21:20:56.607\", \"2020-03-31T11:25:34.507\", \"2020-03-31T13:27:36.39\", \"2020-04-01T16:02:10.643\", \"2020-04-02T00:43:12.03\", \"2020-04-03T01:06:02.82\", \"2020-04-07T12:32:04.843\", \"2020-04-07T16:29:10.43\", \"2020-04-08T00:15:17.853\", \"2020-04-08T03:50:11.817\", \"2020-04-08T10:13:33.427\", \"2020-04-08T18:27:22.337\", \"2020-04-09T23:22:33.47\", \"2020-04-10T09:08:10.833\", \"2020-04-10T19:21:56.537\", \"2020-04-13T10:16:13.573\", \"2020-04-13T12:45:52.543\", \"2020-04-13T14:36:36.72\", \"2020-04-14T04:48:03.713\", \"2020-04-14T08:25:03.7\", \"2020-04-14T11:03:59.167\", \"2020-04-15T05:26:43.887\", \"2020-04-16T08:10:59.29\", \"2020-04-16T16:12:38.977\", \"2020-04-16T16:41:02.65\", \"2020-04-16T17:32:12.887\", \"2020-04-17T17:21:10.267\", \"2020-04-17T18:09:09.38\", \"2020-04-17T19:28:32.667\", \"2020-04-20T06:46:13.263\", \"2020-04-20T09:45:40.793\", \"2020-04-21T06:43:58.953\", \"2020-04-22T17:52:12.143\", \"2020-04-23T02:31:29.827\", \"2020-04-23T11:51:48.66\", \"2020-04-23T12:48:56.067\", \"2020-04-23T13:42:27.423\", \"2020-04-23T17:09:27.673\", \"2020-04-23T19:33:37.777\", \"2020-04-24T09:15:41.46\", \"2020-04-24T12:08:53.497\", \"2020-04-24T17:33:44.47\", \"2020-04-27T03:25:15.807\", \"2020-04-27T11:04:11.827\", \"2020-04-27T12:09:32.6\", \"2020-04-28T14:16:24.483\", \"2020-04-28T14:23:25.457\", \"2020-04-28T14:54:09.24\", \"2020-04-28T15:58:10.627\", \"2020-04-29T06:42:53.09\", \"2020-04-29T11:08:12.53\", \"2020-04-30T10:03:05.167\", \"2020-05-01T07:55:41.06\", \"2020-05-01T13:27:08.093\", \"2020-05-01T18:13:11.793\", \"2020-05-03T16:49:31.43\", \"2020-05-05T07:56:04.453\", \"2020-05-05T08:43:05.083\", \"2020-05-05T10:32:52.917\", \"2020-05-05T19:02:17.003\", \"2020-05-06T01:58:51.927\", \"2020-05-06T07:12:28.073\", \"2020-05-06T09:55:41.613\", \"2020-05-06T10:17:41.447\", \"2020-05-06T11:33:27.64\", \"2020-05-07T03:54:23.82\", \"2020-05-07T07:48:02.343\", \"2020-05-07T10:30:47.55\", \"2020-05-07T14:40:24.16\", \"2020-05-07T17:22:42.663\", \"2020-05-07T17:58:50.36\", \"2020-05-08T11:05:30.22\", \"2020-05-08T18:50:29.917\", \"2020-05-10T15:38:34.823\", \"2020-05-10T22:06:56.483\", \"2020-05-11T04:18:33.723\", \"2020-05-11T10:39:05.677\", \"2020-05-11T18:12:14.043\", \"2020-05-12T06:46:53.073\", \"2020-05-12T07:44:49.72\", \"2020-05-12T23:39:37.837\", \"2020-05-13T09:12:49.927\", \"2020-05-13T12:09:34.583\", \"2020-05-13T14:43:08.657\", \"2020-05-13T15:13:24.907\", \"2020-05-14T03:52:10.373\", \"2020-05-14T09:38:15.473\", \"2020-05-14T13:46:07.237\", \"2020-05-14T17:51:27.473\", \"2020-05-19T01:36:19.2\", \"2020-05-19T10:58:19.68\", \"2020-05-19T13:23:05.93\", \"2020-05-19T22:05:27.747\", \"2020-05-19T22:57:51.593\", \"2020-05-19T23:57:36.38\", \"2020-05-20T07:46:08.763\", \"2020-05-21T08:01:48.667\", \"2020-05-21T16:17:26.79\", \"2020-05-22T09:04:36.597\", \"2020-05-22T12:43:12.977\", \"2020-05-22T13:38:46.373\", \"2020-05-24T07:44:59.96\", \"2020-05-25T11:51:41.683\", \"2020-05-25T12:12:56.96\", \"2020-05-26T04:19:19.857\", \"2020-05-26T05:29:41.38\", \"2020-05-27T08:09:30.657\", \"2020-05-27T09:42:57.963\", \"2020-05-27T11:51:09.957\", \"2020-05-27T16:13:12.423\", \"2020-05-28T04:33:45.413\", \"2020-05-28T10:50:38.12\", \"2020-05-28T11:43:06.343\", \"2020-05-28T13:55:04.59\", \"2020-05-28T13:55:17.233\", \"2020-05-28T15:02:38.937\", \"2020-05-28T21:23:28.48\", \"2020-05-31T11:34:13.967\", \"2020-05-31T21:49:48.113\", \"2020-06-01T02:08:55.463\", \"2020-06-01T03:45:36.143\", \"2020-06-01T07:06:15.03\", \"2020-06-01T23:54:24.347\", \"2020-06-02T05:15:07.377\", \"2020-06-02T06:25:02.487\", \"2020-06-03T08:38:37.627\", \"2020-06-04T08:46:29.137\", \"2020-06-04T08:47:30.443\", \"2020-06-05T08:37:45.887\", \"2020-06-08T10:15:40.8\", \"2020-06-08T11:30:52.127\", \"2020-06-10T15:48:56.787\", \"2020-06-11T05:44:23.893\", \"2020-06-11T10:48:33.063\", \"2020-06-11T16:44:25.303\", \"2020-06-12T04:26:21.537\", \"2020-06-13T20:34:20.54\", \"2020-06-15T00:18:26.877\", \"2020-06-15T18:21:18.607\", \"2020-06-17T07:44:27.62\", \"2020-06-17T09:23:08.72\", \"2020-06-17T10:39:43.347\", \"2020-06-17T10:47:18.047\", \"2020-06-17T18:17:42.787\", \"2020-06-17T21:20:44.363\", \"2020-06-18T03:41:34.283\", \"2020-06-18T18:45:45.943\", \"2020-06-19T05:28:43.413\", \"2020-06-19T05:37:59.09\", \"2020-06-19T07:23:48.88\", \"2020-06-19T13:04:31.18\", \"2020-06-19T13:05:50.277\", \"2020-06-20T20:04:07.61\", \"2020-06-21T05:58:52.79\", \"2020-06-22T07:57:18.433\", \"2020-06-22T15:20:53.23\", \"2020-06-22T17:32:37.193\", \"2020-06-25T03:09:04.55\", \"2020-06-26T07:38:55.12\", \"2020-06-29T17:02:31.54\", \"2020-07-01T03:24:12.553\", \"2020-07-01T08:43:32.99\", \"2020-07-02T09:20:12.7\", \"2020-07-02T10:21:06.57\", \"2020-07-02T16:17:26.273\", \"2020-07-06T05:50:50.78\", \"2020-07-06T09:19:59.403\", \"2020-07-08T09:33:24.407\", \"2020-07-08T16:56:19.757\", \"2020-07-09T15:25:26.863\", \"2020-07-09T16:22:26.66\", \"2020-07-09T16:28:26.983\", \"2020-07-10T08:52:51.04\", \"2020-07-10T15:53:37.277\", \"2020-07-10T18:57:48.173\", \"2020-07-11T20:29:03.777\", \"2020-07-13T02:40:11.35\", \"2020-07-14T05:01:01.39\", \"2020-07-15T03:11:16.5\", \"2020-07-15T06:32:14.56\", \"2020-07-15T17:54:55.167\", \"2020-07-16T04:35:29.63\", \"2020-07-16T07:33:35.41\", \"2020-07-16T11:36:35.183\", \"2020-07-16T16:31:52.563\", \"2020-07-17T14:17:43.9\", \"2020-07-20T13:16:24.25\", \"2020-07-20T23:00:15.057\", \"2020-07-21T04:25:05.703\", \"2020-07-21T06:17:01.253\", \"2020-07-21T10:23:05.597\", \"2020-07-21T11:25:17.723\", \"2020-07-21T15:20:11.183\", \"2020-07-22T05:55:52.447\", \"2020-07-22T16:48:52.953\", \"2020-07-22T23:35:16.743\", \"2020-07-23T15:51:45.183\", \"2020-07-23T16:46:00.053\", \"2020-07-24T02:00:04.097\", \"2020-07-24T15:17:29.263\", \"2020-07-27T13:56:35.087\", \"2020-07-28T11:16:57.777\", \"2020-07-28T11:20:26.603\", \"2020-07-28T11:47:30.707\", \"2020-07-29T08:18:11.907\", \"2020-07-29T09:13:44.577\", \"2020-07-29T10:45:28.61\", \"2020-07-30T14:51:34.69\", \"2020-07-30T16:20:18.783\", \"2020-07-31T03:00:29.553\", \"2020-08-01T06:40:03.033\", \"2020-08-02T08:21:09.453\", \"2020-08-03T14:31:32.377\", \"2020-08-03T15:16:16.62\", \"2020-08-05T12:27:19.103\", \"2020-08-05T13:19:23.943\", \"2020-08-06T12:04:03.013\", \"2020-08-06T16:30:31.317\", \"2020-08-07T15:34:48.087\", \"2020-08-10T12:13:23.673\", \"2020-08-11T03:18:56.48\", \"2020-08-11T06:23:35.727\", \"2020-08-11T20:18:22.113\", \"2020-08-12T07:54:44.907\", \"2020-08-13T05:21:38.977\", \"2020-08-13T09:27:35.497\", \"2020-08-13T13:58:17.28\", \"2020-08-13T14:00:56.303\", \"2020-08-13T19:32:19.49\", \"2020-08-14T04:43:10.42\", \"2020-08-14T06:48:55.553\", \"2020-08-14T10:33:47.637\", \"2020-08-14T14:39:35.21\", \"2020-08-17T10:09:37.347\", \"2020-08-17T17:09:22.07\", \"2020-08-18T07:01:56.34\", \"2020-08-18T10:10:32.407\", \"2020-08-19T10:47:49.9\", \"2020-08-19T14:31:13.88\", \"2020-08-20T16:16:04.203\", \"2020-08-20T18:20:03.123\", \"2020-08-21T02:02:10.857\", \"2020-08-21T14:50:21.077\", \"2020-08-21T15:36:03.473\", \"2020-08-24T02:26:12.913\", \"2020-08-24T03:55:16.187\", \"2020-08-24T07:30:08.877\", \"2020-08-24T09:13:29.1\", \"2020-08-25T09:37:23.29\", \"2020-08-25T13:34:40.817\", \"2020-08-26T02:11:50.003\", \"2020-08-26T10:34:15.32\", \"2020-08-26T11:13:50.613\", \"2020-08-27T04:28:56.903\", \"2020-08-27T11:25:26.827\", \"2020-08-27T11:40:36.677\", \"2020-08-27T14:20:01.203\", \"2020-08-27T14:59:03.177\", \"2020-08-28T04:12:14.89\", \"2020-08-28T12:20:32.08\", \"2020-08-31T09:41:46.203\", \"2020-09-01T08:29:04.687\", \"2020-09-01T12:00:23.027\", \"2020-09-02T13:28:25.653\", \"2020-09-03T02:01:33.75\", \"2020-09-03T09:26:58.127\", \"2020-09-03T11:55:40.83\", \"2020-09-03T14:53:10.197\", \"2020-09-03T15:16:17.96\", \"2020-09-04T02:35:33.15\", \"2020-09-04T08:34:40.003\", \"2020-09-07T03:14:01.783\", \"2020-09-08T03:24:11.603\", \"2020-09-08T05:00:37.097\", \"2020-09-08T05:40:25.34\", \"2020-09-08T10:35:57.717\", \"2020-09-08T12:13:05.57\", \"2020-09-08T14:17:04.713\", \"2020-09-09T04:14:26.247\", \"2020-09-09T07:05:09.473\", \"2020-09-09T14:46:03.91\", \"2020-09-09T15:33:09.883\", \"2020-09-09T19:09:12.01\", \"2020-09-10T06:00:56.927\", \"2020-09-10T06:34:35.72\", \"2020-09-10T12:15:08.11\", \"2020-09-10T16:25:03.4\", \"2020-09-11T11:54:43.767\", \"2020-09-11T14:32:09.763\", \"2020-09-11T17:57:16.44\", \"2020-09-13T05:09:37.187\", \"2020-09-13T12:40:21.163\", \"2020-09-14T08:48:44.357\", \"2020-09-15T08:11:30.217\", \"2020-09-15T11:40:17.6\", \"2020-09-15T19:54:20.857\", \"2020-09-16T06:13:11.593\", \"2020-09-16T08:15:45.44\", \"2020-09-16T09:57:44.517\", \"2020-09-16T12:02:57.383\", \"2020-09-16T14:20:14.03\", \"2020-09-16T16:01:59.473\", \"2020-09-16T16:33:38.75\", \"2020-09-16T16:52:38.42\", \"2020-09-17T11:41:44.053\", \"2020-09-17T14:55:23.447\", \"2020-09-17T16:37:00.077\", \"2020-09-18T07:33:41.723\", \"2020-09-18T10:46:34.367\", \"2020-09-20T12:16:21.403\", \"2020-09-21T09:58:43.167\", \"2020-09-21T16:37:39.7\", \"2020-09-21T16:47:19.263\", \"2020-09-22T00:02:42.337\", \"2020-09-22T03:04:06.773\", \"2020-09-22T06:17:08.973\", \"2020-09-22T12:21:03.637\", \"2020-09-22T12:56:21.417\", \"2020-09-23T07:34:25.193\", \"2020-09-23T12:45:54.313\", \"2020-09-23T14:50:02.017\", \"2020-09-23T14:50:53.77\", \"2020-09-23T14:51:39.347\", \"2020-09-23T15:15:00.187\", \"2020-09-24T13:12:57.107\", \"2020-09-24T19:12:48.583\", \"2020-09-25T06:21:34.47\", \"2020-09-25T15:10:56.223\", \"2020-09-25T21:10:47.287\", \"2020-09-27T00:39:00.507\", \"2020-09-27T03:01:48.877\", \"2020-09-28T07:28:53.443\", \"2020-09-28T13:41:47.603\", \"2020-09-29T10:42:52.203\", \"2020-09-29T10:58:24.237\", \"2020-09-29T11:43:39.463\", \"2020-09-29T18:14:05.84\", \"2020-09-29T18:29:04.81\", \"2020-09-30T11:28:12.57\", \"2020-10-01T04:05:51.267\", \"2020-10-01T15:18:19.523\", \"2020-10-02T09:26:32.68\", \"2020-10-04T06:57:42.663\", \"2020-10-05T01:11:31.057\", \"2020-10-05T22:58:21.4\", \"2020-10-06T10:36:52.983\", \"2020-10-06T12:46:04.483\", \"2020-10-07T04:36:43.39\", \"2020-10-07T04:49:35.287\", \"2020-10-07T06:19:26.927\", \"2020-10-07T16:31:35.887\", \"2020-10-07T16:43:08.117\", \"2020-10-08T07:26:39.637\", \"2020-10-08T08:52:50.623\", \"2020-10-08T16:26:59.76\", \"2020-10-09T02:01:00.407\", \"2020-10-09T19:17:29.443\", \"2020-10-12T09:03:36.163\", \"2020-10-12T20:34:39.057\", \"2020-10-13T13:02:42.213\", \"2020-10-13T18:32:15.773\", \"2020-10-14T06:43:01.837\", \"2020-10-14T09:31:09.873\", \"2020-10-14T13:41:44.907\", \"2020-10-14T13:52:09.94\", \"2020-10-15T06:57:57.13\", \"2020-10-15T14:35:43.96\", \"2020-10-16T10:01:41.817\", \"2020-10-16T12:33:29.753\", \"2020-10-16T13:34:13.343\", \"2020-10-16T18:36:31.273\", \"2020-10-17T11:21:17.997\", \"2020-10-17T21:00:48.037\", \"2020-10-19T15:39:33.853\", \"2020-10-19T22:07:22.383\", \"2020-10-19T22:07:38.62\", \"2020-10-20T03:00:27.94\", \"2020-10-20T16:35:09.947\", \"2020-10-21T04:53:38.967\", \"2020-10-21T06:22:02.867\", \"2020-10-21T09:30:56.74\", \"2020-10-21T10:44:23.66\", \"2020-10-21T12:58:42.72\", \"2020-10-21T13:33:08.743\", \"2020-10-21T14:06:01.427\", \"2020-10-22T13:47:42.993\", \"2020-10-22T14:31:26.257\", \"2020-10-22T17:17:54.993\", \"2020-10-22T17:19:54.477\", \"2020-10-23T07:50:08.56\", \"2020-10-23T12:09:06.92\", \"2020-10-23T16:06:11.243\", \"2020-10-24T16:03:56.137\", \"2020-10-25T08:22:12.38\", \"2020-10-25T16:01:58.43\", \"2020-10-26T05:46:15.347\", \"2020-10-27T16:57:39.52\", \"2020-10-28T05:57:09.547\", \"2020-10-28T13:28:28.833\", \"2020-10-28T15:58:04.637\", \"2020-10-29T01:39:26.437\", \"2020-10-29T02:25:33.677\", \"2020-10-29T11:10:06.717\", \"2020-10-29T14:45:52.203\", \"2020-10-30T15:24:32.273\", \"2020-11-02T09:41:44.807\", \"2020-11-02T16:14:49.56\", \"2020-11-03T09:15:35.397\", \"2020-11-03T14:16:21.633\", \"2020-11-04T08:18:34.06\", \"2020-11-05T12:22:50.65\", \"2020-11-05T13:57:09.393\", \"2020-11-06T03:12:33.02\", \"2020-11-07T02:30:08.94\", \"2020-11-08T12:42:54.723\", \"2020-11-08T12:48:07.61\", \"2020-11-09T08:23:02.983\", \"2020-11-09T10:51:40.613\", \"2020-11-11T05:50:59.56\", \"2020-11-11T06:00:38.383\", \"2020-11-11T09:58:05.707\", \"2020-11-11T11:27:29.283\", \"2020-11-11T15:13:05.847\", \"2020-11-11T16:53:07.01\", \"2020-11-12T05:28:55.913\", \"2020-11-12T14:47:17.27\", \"2020-11-12T18:39:57.223\", \"2020-11-13T03:08:25.797\", \"2020-11-13T18:33:05.46\", \"2020-11-14T14:04:27.383\", \"2020-11-16T02:39:45.893\", \"2020-11-16T11:23:16.327\", \"2020-11-16T11:25:19.08\", \"2020-11-18T06:54:44.173\", \"2020-11-18T11:32:37.993\", \"2020-11-18T11:41:37.49\", \"2020-11-18T12:30:24.143\", \"2020-11-18T12:37:55.147\", \"2020-11-18T19:18:53.403\", \"2020-11-19T09:30:41.29\", \"2020-11-19T12:44:09.52\", \"2020-11-19T16:56:39.44\", \"2020-11-20T10:05:42.53\", \"2020-11-20T14:00:44.387\", \"2020-11-20T16:00:00.39\", \"2020-11-21T05:08:51.133\", \"2020-11-22T23:21:07.067\", \"2020-11-23T01:58:09.64\", \"2020-11-24T10:58:17.443\", \"2020-11-24T15:09:06.143\", \"2020-11-24T16:02:26.117\", \"2020-11-24T20:48:57.933\", \"2020-11-25T11:17:47.587\", \"2020-11-25T11:59:22.583\", \"2020-11-25T12:40:55.58\", \"2020-11-25T13:13:05.463\", \"2020-11-25T14:28:28.507\", \"2020-11-25T15:43:04.867\", \"2020-11-26T11:43:14.277\", \"2020-11-30T16:32:19.377\", \"2020-12-02T09:26:16.583\", \"2020-12-02T15:54:46.727\", \"2020-12-03T15:45:18.923\", \"2020-12-04T18:13:27.287\", \"2020-12-06T07:13:50.297\", \"2020-12-06T08:25:07.433\", \"2020-12-06T22:33:26.473\", \"2020-12-08T06:45:13.323\", \"2020-12-08T11:32:56.12\", \"2020-12-08T12:43:05.35\", \"2020-12-08T12:43:52.023\", \"2020-12-08T15:13:24.93\", \"2020-12-09T10:04:40.567\", \"2020-12-10T03:32:44.07\", \"2020-12-10T16:03:19.67\", \"2020-12-10T16:45:56.92\", \"2020-12-11T09:05:13.287\", \"2020-12-15T11:43:28.143\", \"2020-12-15T13:24:34.04\", \"2020-12-16T05:04:16.433\", \"2020-12-16T11:24:45.933\", \"2020-12-16T13:34:06.637\", \"2020-12-16T16:31:08.12\", \"2020-12-16T21:46:56.413\", \"2020-12-18T03:06:14.177\", \"2020-12-18T11:11:07.787\", \"2020-12-21T08:30:12.503\", \"2020-12-21T17:49:39.223\", \"2020-12-22T04:59:41.42\", \"2020-12-22T05:06:26.697\", \"2020-12-23T09:59:10.2\", \"2020-12-23T10:59:14.423\", \"2020-12-24T00:03:53.283\", \"2020-12-26T15:56:58.257\", \"2020-12-27T01:57:08.607\", \"2020-12-27T11:57:47.007\", \"2020-12-27T14:12:00.18\", \"2020-12-28T02:51:24.99\", \"2020-12-28T10:34:01.52\", \"2020-12-28T11:57:21.447\", \"2020-12-28T15:09:46.85\", \"2020-12-29T08:45:35.597\", \"2020-12-29T11:55:09.773\", \"2020-12-29T15:13:04.71\", \"2020-12-29T17:22:22.603\", \"2020-12-30T10:05:14.57\", \"2020-12-31T18:03:21.66\", \"2021-01-01T07:00:15.443\", \"2021-01-03T22:55:07.463\", \"2021-01-04T07:41:29.507\", \"2021-01-04T07:48:38.72\", \"2021-01-04T08:49:11.093\", \"2021-01-04T12:26:12.183\", \"2021-01-05T09:54:38.063\", \"2021-01-05T10:07:21.227\", \"2021-01-05T20:16:38.75\", \"2021-01-06T12:25:16.487\", \"2021-01-06T14:50:39.423\", \"2021-01-07T00:43:54.317\", \"2021-01-08T03:57:53.35\", \"2021-01-09T23:27:17.513\", \"2021-01-11T05:30:23.477\", \"2021-01-11T16:25:58.88\", \"2021-01-11T22:44:21.93\", \"2021-01-12T06:59:45.843\", \"2021-01-12T07:40:27.073\", \"2021-01-12T08:16:59.57\", \"2021-01-12T09:52:23.923\", \"2021-01-12T23:48:05.1\", \"2021-01-14T13:55:54.143\", \"2021-01-15T06:20:18.943\", \"2021-01-15T11:36:31.313\", \"2021-01-16T04:10:22.447\", \"2021-01-16T07:56:33.363\", \"2021-01-16T19:32:13.78\", \"2021-01-18T00:23:54.957\", \"2021-01-18T05:59:41.04\", \"2021-01-19T13:53:44.657\", \"2021-01-19T14:58:12.793\", \"2021-01-20T07:11:18.693\", \"2021-01-20T07:58:12.823\", \"2021-01-20T15:38:36.633\", \"2021-01-20T16:13:02.5\", \"2021-01-21T09:00:33.853\", \"2021-01-21T17:46:44.013\", \"2021-01-22T13:54:36.95\", \"2021-01-22T15:20:52.107\", \"2021-01-23T00:52:07.6\", \"2021-01-25T03:57:52.733\", \"2021-01-25T10:05:26.427\", \"2021-01-25T12:51:33.14\", \"2021-01-25T17:07:17.423\", \"2021-01-27T01:26:58.78\", \"2021-01-27T09:22:55.277\", \"2021-01-27T09:22:55.547\", \"2021-01-27T09:28:32.857\", \"2021-01-27T13:06:46.71\", \"2021-01-28T11:33:34.887\", \"2021-01-29T05:09:45.457\", \"2021-01-29T09:32:23.31\", \"2021-01-30T02:44:24.313\", \"2021-02-01T14:35:54.11\", \"2021-02-02T02:54:29.54\", \"2021-02-02T09:15:33.837\", \"2021-02-03T04:07:38.773\", \"2021-02-03T06:28:55.87\", \"2021-02-03T14:28:38.48\", \"2021-02-04T18:52:41.68\", \"2021-02-05T01:44:05.203\", \"2021-02-05T09:38:55.053\", \"2021-02-07T01:35:51.77\", \"2021-02-07T03:45:35.85\", \"2021-02-07T22:47:17.563\", \"2021-02-08T04:21:46.14\", \"2021-02-08T14:35:14.027\", \"2021-02-08T20:23:34.343\", \"2021-02-09T05:36:55.147\", \"2021-02-09T07:28:04.943\", \"2021-02-10T06:07:45.91\", \"2021-02-10T11:48:40.4\", \"2021-02-10T13:30:52.19\", \"2021-02-10T17:28:34.27\", \"2021-02-11T16:40:26.987\", \"2021-02-11T21:31:20.58\", \"2021-02-12T05:54:48.23\", \"2021-02-12T09:56:04.773\", \"2021-02-12T15:06:05.92\", \"2021-02-12T15:07:52.33\", \"2021-02-13T02:53:30.073\", \"2021-02-14T04:45:31.08\", \"2021-02-14T15:10:09.8\", \"2021-02-15T21:50:52.64\", \"2021-02-16T06:32:23.97\", \"2021-02-16T09:44:47.337\", \"2021-02-16T14:37:14.58\", \"2021-02-17T00:44:34.993\", \"2021-02-17T01:00:17.45\", \"2021-02-17T01:25:49.423\", \"2021-02-17T17:57:59.497\", \"2021-02-18T04:41:42.563\", \"2021-02-19T11:17:25.39\", \"2021-02-22T01:18:39.76\", \"2021-02-22T10:22:26.3\", \"2021-02-23T05:30:07.697\", \"2021-02-23T08:25:50.447\", \"2021-02-23T15:53:46.57\", \"2021-02-24T07:45:06.977\", \"2021-02-24T12:36:00.77\", \"2021-02-25T08:53:44.637\", \"2021-02-25T10:29:48.393\", \"2021-02-25T16:43:06.273\", \"2021-02-26T09:23:09.993\", \"2021-02-26T11:57:02.543\", \"2021-02-26T18:47:43.037\", \"2021-02-27T07:31:29.457\", \"2021-02-27T11:08:57.667\", \"2021-03-01T09:13:33.787\", \"2021-03-01T19:39:59.55\", \"2021-03-02T09:23:36.847\", \"2021-03-02T11:18:39.363\", \"2021-03-02T16:31:12.837\", \"2021-03-03T03:05:35.877\", \"2021-03-03T05:13:37.897\", \"2021-03-03T06:44:32.35\", \"2021-03-03T08:54:25\", \"2021-03-03T09:20:39.307\", \"2021-03-03T16:19:15.397\", \"2021-03-04T02:36:22.257\", \"2021-03-04T11:01:28.96\", \"2021-03-05T08:22:11.3\", \"2021-03-06T06:54:56.57\", \"2021-03-09T07:01:54.71\", \"2021-03-09T11:05:19.053\", \"2021-03-09T11:09:19.763\", \"2021-03-09T14:55:21.58\", \"2021-03-09T17:00:23.213\", \"2021-03-10T04:36:07.837\", \"2021-03-10T15:24:21.857\", \"2021-03-10T16:00:02.613\", \"2021-03-11T04:20:04.103\", \"2021-03-11T09:00:30.913\", \"2021-03-11T17:30:43.753\", \"2021-03-12T02:34:21.683\", \"2021-03-12T03:28:33.083\", \"2021-03-12T11:48:47.203\", \"2021-03-13T10:25:21.143\", \"2021-03-14T17:29:30.287\", \"2021-03-15T10:13:43.667\", \"2021-03-15T10:53:54.233\", \"2021-03-16T07:06:57.6\", \"2021-03-16T15:19:27.047\", \"2021-03-17T17:02:54.86\", \"2021-03-18T02:51:39.69\", \"2021-03-18T13:51:25.81\", \"2021-03-19T07:21:13.43\", \"2021-03-19T11:31:47.557\", \"2021-03-20T01:34:53.61\", \"2021-03-22T03:47:12.6\", \"2021-03-23T12:14:18.863\", \"2021-03-24T09:04:13.813\", \"2021-03-24T12:58:46.5\", \"2021-03-25T03:17:53.38\", \"2021-03-25T14:46:51.637\", \"2021-03-25T16:39:59.577\", \"2021-03-26T14:27:14.173\", \"2021-03-30T12:29:47.413\", \"2021-03-30T12:53:22.887\", \"2021-03-31T05:04:42.15\", \"2021-03-31T06:38:42.34\", \"2021-04-01T08:14:49.057\", \"2021-04-06T19:28:50.28\", \"2021-04-07T14:44:07.22\", \"2021-04-08T17:31:25.08\", \"2021-04-09T14:10:26.533\", \"2021-04-09T18:43:03.997\", \"2021-04-10T02:53:00.28\", \"2021-04-10T03:29:32.747\", \"2021-04-10T15:57:59.943\", \"2021-04-12T10:52:25.73\", \"2021-04-12T12:12:10.283\", \"2021-04-12T15:13:07.097\", \"2021-04-14T03:27:41.803\", \"2021-04-15T08:57:58.05\", \"2021-04-15T12:20:03.933\", \"2021-04-19T09:41:09.173\", \"2021-04-20T07:00:28.707\", \"2021-04-20T11:43:36.217\", \"2021-04-20T15:43:56.607\", \"2021-04-21T11:38:15.18\", \"2021-04-22T04:29:17.66\", \"2021-04-22T04:48:51.64\", \"2021-04-22T06:55:40.56\", \"2021-04-22T07:32:19.79\", \"2021-04-22T16:37:41.357\", \"2021-04-22T16:43:27\", \"2021-04-23T00:03:22.743\", \"2021-04-23T09:14:59.607\", \"2021-04-23T11:09:05.35\", \"2021-04-27T07:40:14.087\", \"2021-04-27T10:25:08.213\", \"2021-04-27T13:53:38.607\", \"2021-04-27T14:05:34.707\", \"2021-04-27T16:17:23.083\", \"2021-04-27T16:38:41.177\", \"2021-04-28T06:07:57.33\", \"2021-04-28T11:44:20.84\", \"2021-04-28T14:08:31.08\", \"2021-04-28T14:15:54.817\", \"2021-04-29T02:16:11.49\", \"2021-04-30T07:03:44.607\", \"2021-04-30T08:43:37.07\", \"2021-04-30T15:41:33.667\", \"2021-05-04T03:26:26.993\", \"2021-05-04T09:31:18.373\", \"2021-05-05T10:48:30.583\", \"2021-05-05T14:59:26.737\", \"2021-05-06T04:52:27.5\", \"2021-05-06T05:44:31.317\", \"2021-05-06T06:08:48.817\", \"2021-05-06T10:55:46.883\", \"2021-05-06T14:47:18.237\", \"2021-05-06T15:36:56.423\", \"2021-05-06T19:21:40.677\", \"2021-05-07T11:58:25.423\", \"2021-05-07T12:44:00.26\", \"2021-05-10T14:33:41.143\", \"2021-05-11T11:11:22.967\", \"2021-05-11T14:33:52.803\", \"2021-05-11T16:15:01.67\", \"2021-05-12T19:29:45.887\", \"2021-05-14T08:27:02.38\", \"2021-05-14T10:04:28.7\", \"2021-05-17T00:14:13.58\", \"2021-05-17T05:24:41.617\", \"2021-05-17T10:22:56.957\", \"2021-05-17T10:44:03.017\", \"2021-05-17T12:12:39.573\", \"2021-05-17T12:41:24.27\", \"2021-05-18T00:14:22.057\", \"2021-05-19T09:46:33.497\", \"2021-05-20T08:11:58.513\", \"2021-05-21T02:17:15.373\", \"2021-05-23T15:49:03.797\", \"2021-05-24T03:14:14.447\", \"2021-05-24T05:55:56.8\", \"2021-05-24T14:55:23.877\", \"2021-05-25T10:09:32.81\", \"2021-05-25T16:41:37.953\", \"2021-05-25T23:18:10.647\", \"2021-05-25T23:21:55.333\", \"2021-05-26T05:39:30.67\", \"2021-05-27T07:12:50.66\", \"2021-05-28T11:21:25.033\", \"2021-05-28T13:33:13.153\", \"2021-05-29T21:45:02.2\", \"2021-05-30T01:41:31.68\", \"2021-05-30T08:11:59.69\", \"2021-06-02T07:44:14.63\", \"2021-06-02T12:18:46.267\", \"2021-06-02T13:14:26.307\", \"2021-06-02T13:40:25.58\", \"2021-06-02T13:53:43.85\", \"2021-06-02T15:54:57.997\", \"2021-06-02T16:37:04.77\", \"2021-06-03T02:17:04.61\", \"2021-06-03T04:46:03.063\", \"2021-06-03T04:52:06.57\", \"2021-06-03T09:19:09.593\", \"2021-06-03T19:44:17.527\", \"2021-06-04T05:25:16.927\", \"2021-06-04T10:11:48.013\", \"2021-06-04T19:14:13.09\", \"2021-06-08T04:53:56.6\", \"2021-06-08T10:57:39.363\"], \"xaxis\": \"x\", \"y\": [0.063, 0.022, 0.0, 0.041, 0.0, 0.046, 0.0, 0.0, 0.0, 0.081, 0.05, 0.102, 0.025, 0.0, 0.037, 0.0, 0.077, 0.09, 0.0, 0.0, 0.069, 0.121, 0.067, 0.034, 0.079, 0.0, 0.0, 0.062, 0.0, 0.089, 0.055, 0.0, 0.11, 0.0, 0.118, 0.0, 0.145, 0.0, 0.0, 0.035, 0.0, 0.062, 0.0, 0.129, 0.0, 0.038, 0.249, 0.0, 0.1, 0.032, 0.102, 0.0, 0.0, 0.0, 0.131, 0.0, 0.0, 0.073, 0.122, 0.0, 0.02, 0.0, 0.0, 0.0, 0.0, 0.0, 0.057, 0.0, 0.0, 0.0, 0.029, 0.065, 0.079, 0.035, 0.0, 0.0, 0.0, 0.043, 0.067, 0.0, 0.0, 0.146, 0.036, 0.0, 0.011, 0.0, 0.024, 0.0, 0.0, 0.041, 0.073, 0.0, 0.0, 0.0, 0.047, 0.166, 0.049, 0.033, 0.0, 0.0, 0.0, 0.14, 0.158, 0.0, 0.0, 0.022, 0.021, 0.037, 0.0, 0.088, 0.0, 0.08, 0.046, 0.0, 0.092, 0.0, 0.0, 0.0, 0.0, 0.059, 0.0, 0.0, 0.048, 0.0, 0.023, 0.0, 0.0, 0.0, 0.074, 0.102, 0.06, 0.0, 0.1, 0.0, 0.074, 0.03, 0.153, 0.0, 0.047, 0.036, 0.0, 0.018, 0.0, 0.116, 0.034, 0.0, 0.0, 0.167, 0.046, 0.028, 0.171, 0.0, 0.0, 0.072, 0.052, 0.039, 0.0, 0.0, 0.0, 0.057, 0.0, 0.05, 0.0, 0.031, 0.058, 0.171, 0.007, 0.0, 0.056, 0.011, 0.146, 0.0, 0.043, 0.0, 0.044, 0.0, 0.03, 0.046, 0.0, 0.0, 0.0, 0.0, 0.028, 0.013, 0.029, 0.0, 0.0, 0.073, 0.05, 0.077, 0.022, 0.052, 0.025, 0.0, 0.104, 0.0, 0.028, 0.0, 0.0, 0.0, 0.0, 0.041, 0.046, 0.077, 0.0, 0.0, 0.0, 0.09, 0.07, 0.067, 0.124, 0.047, 0.0, 0.129, 0.074, 0.0, 0.0, 0.0, 0.0, 0.021, 0.0, 0.061, 0.0, 0.047, 0.091, 0.0, 0.051, 0.077, 0.071, 0.033, 0.0, 0.194, 0.043, 0.014, 0.0, 0.0, 0.0, 0.028, 0.0, 0.048, 0.093, 0.022, 0.017, 0.026, 0.0, 0.0, 0.053, 0.085, 0.055, 0.0, 0.0, 0.231, 0.0, 0.0, 0.0, 0.087, 0.0, 0.0, 0.0, 0.0, 0.022, 0.03, 0.0, 0.0, 0.0, 0.0, 0.062, 0.0, 0.0, 0.19, 0.058, 0.0, 0.0, 0.0, 0.049, 0.0, 0.0, 0.0, 0.131, 0.0, 0.0, 0.102, 0.069, 0.042, 0.031, 0.103, 0.005, 0.0, 0.027, 0.0, 0.154, 0.057, 0.0, 0.106, 0.027, 0.119, 0.0, 0.0, 0.0, 0.049, 0.0, 0.0, 0.053, 0.069, 0.0, 0.115, 0.0, 0.0, 0.051, 0.227, 0.0, 0.0, 0.17, 0.0, 0.0, 0.034, 0.089, 0.0, 0.022, 0.0, 0.048, 0.076, 0.038, 0.023, 0.103, 0.0, 0.0, 0.015, 0.022, 0.0, 0.099, 0.0, 0.172, 0.083, 0.073, 0.121, 0.023, 0.123, 0.039, 0.0, 0.059, 0.0, 0.0, 0.0, 0.021, 0.07, 0.0, 0.0, 0.0, 0.162, 0.0, 0.0, 0.0, 0.0, 0.0, 0.0, 0.154, 0.0, 0.0, 0.0, 0.0, 0.0, 0.035, 0.016, 0.013, 0.022, 0.017, 0.0, 0.0, 0.0, 0.062, 0.0, 0.0, 0.048, 0.0, 0.127, 0.0, 0.117, 0.02, 0.083, 0.0, 0.0, 0.049, 0.0, 0.0, 0.0, 0.043, 0.0, 0.0, 0.0, 0.048, 0.096, 0.0, 0.186, 0.0, 0.043, 0.0, 0.078, 0.0, 0.084, 0.12, 0.0, 0.068, 0.0, 0.212, 0.0, 0.078, 0.155, 0.015, 0.0, 0.042, 0.058, 0.0, 0.213, 0.071, 0.076, 0.042, 0.056, 0.0, 0.0, 0.037, 0.0, 0.052, 0.017, 0.0, 0.0, 0.046, 0.043, 0.154, 0.1, 0.166, 0.098, 0.091, 0.0, 0.067, 0.098, 0.072, 0.0, 0.0, 0.0, 0.0, 0.164, 0.062, 0.059, 0.0, 0.031, 0.0, 0.113, 0.0, 0.0, 0.087, 0.0, 0.115, 0.0, 0.118, 0.035, 0.0, 0.0, 0.0, 0.0, 0.1, 0.019, 0.0, 0.0, 0.0, 0.0, 0.0, 0.031, 0.062, 0.0, 0.073, 0.188, 0.0, 0.0, 0.0, 0.016, 0.0, 0.048, 0.087, 0.0, 0.052, 0.0, 0.029, 0.0, 0.062, 0.0, 0.0, 0.072, 0.118, 0.0, 0.092, 0.02, 0.0, 0.0, 0.1, 0.085, 0.0, 0.164, 0.024, 0.0, 0.237, 0.069, 0.0, 0.052, 0.033, 0.0, 0.0, 0.033, 0.0, 0.049, 0.022, 0.048, 0.0, 0.05, 0.013, 0.0, 0.0, 0.0, 0.0, 0.0, 0.065, 0.224, 0.06, 0.098, 0.0, 0.0, 0.0, 0.02, 0.04, 0.132, 0.0, 0.0, 0.048, 0.0, 0.137, 0.018, 0.07, 0.023, 0.056, 0.0, 0.0, 0.04, 0.095, 0.0, 0.05, 0.136, 0.181, 0.0, 0.211, 0.0, 0.0, 0.0, 0.049, 0.038, 0.087, 0.0, 0.0, 0.071, 0.027, 0.0, 0.084, 0.0, 0.091, 0.0, 0.03, 0.0, 0.0, 0.0, 0.053, 0.025, 0.065, 0.0, 0.0, 0.0, 0.0, 0.078, 0.0, 0.012, 0.0, 0.065, 0.0, 0.0, 0.089, 0.029, 0.0, 0.0, 0.0, 0.06, 0.0, 0.0, 0.141, 0.06, 0.0, 0.047, 0.026, 0.065, 0.089, 0.0, 0.123, 0.0, 0.09, 0.066, 0.089, 0.0, 0.0, 0.0, 0.009, 0.037, 0.0, 0.0, 0.0, 0.0, 0.0, 0.0, 0.0, 0.0, 0.041, 0.069, 0.0, 0.0, 0.0, 0.0, 0.026, 0.0, 0.0, 0.0, 0.062, 0.0, 0.0, 0.026, 0.236, 0.062, 0.0, 0.0, 0.0, 0.059, 0.129, 0.0, 0.0, 0.028, 0.0, 0.121, 0.0, 0.017, 0.0, 0.0, 0.0, 0.0, 0.0, 0.0, 0.103, 0.0, 0.065, 0.0, 0.047, 0.08, 0.169, 0.0, 0.046, 0.041, 0.156, 0.081, 0.011, 0.0, 0.03, 0.0, 0.079, 0.0, 0.132, 0.05, 0.046, 0.055, 0.071, 0.0, 0.067, 0.0, 0.034, 0.0, 0.0, 0.087, 0.0, 0.0, 0.045, 0.118, 0.1, 0.029, 0.0, 0.074, 0.0, 0.07, 0.0, 0.0, 0.044, 0.004, 0.182, 0.086, 0.092, 0.0, 0.0, 0.0, 0.0, 0.021, 0.0, 0.0, 0.0, 0.034, 0.007, 0.036, 0.0, 0.205, 0.205, 0.06, 0.1, 0.0, 0.0, 0.0, 0.032, 0.0, 0.026, 0.0, 0.0, 0.0, 0.0, 0.0, 0.048, 0.0, 0.0, 0.025, 0.148, 0.082, 0.009, 0.145, 0.048, 0.091, 0.0, 0.005, 0.0, 0.023, 0.111, 0.015, 0.075, 0.0, 0.0, 0.028, 0.0, 0.074, 0.0, 0.07, 0.058, 0.0, 0.039, 0.0, 0.0, 0.07, 0.072, 0.017, 0.0, 0.0, 0.031, 0.0, 0.116, 0.0, 0.071, 0.026, 0.108, 0.0, 0.016, 0.136, 0.0, 0.0, 0.236, 0.0, 0.045, 0.086, 0.133, 0.041, 0.156, 0.013, 0.0, 0.116, 0.025, 0.1, 0.022, 0.0, 0.0, 0.054, 0.115, 0.0, 0.055, 0.042, 0.163, 0.051, 0.103, 0.0, 0.074, 0.0, 0.0, 0.044, 0.148, 0.014, 0.276, 0.0, 0.053, 0.037, 0.0, 0.0, 0.112, 0.0, 0.0, 0.102, 0.0, 0.0, 0.109, 0.13, 0.0, 0.231, 0.0, 0.082, 0.035, 0.0, 0.0, 0.045, 0.0, 0.08, 0.0, 0.0, 0.023, 0.0, 0.0, 0.0, 0.044, 0.029, 0.125, 0.0, 0.035, 0.0, 0.04, 0.0, 0.091, 0.086, 0.143, 0.0, 0.246, 0.019, 0.0, 0.129, 0.04, 0.053, 0.0, 0.015, 0.0, 0.054, 0.19, 0.0, 0.021, 0.05, 0.0, 0.0, 0.0, 0.074, 0.014, 0.0, 0.0, 0.0, 0.111, 0.0, 0.0, 0.0, 0.037, 0.0, 0.059, 0.0, 0.171, 0.0, 0.03, 0.048, 0.064, 0.141, 0.064, 0.0, 0.0, 0.175, 0.066, 0.091, 0.0, 0.027, 0.114, 0.0, 0.079, 0.079, 0.17, 0.052, 0.065, 0.039, 0.098, 0.018, 0.06, 0.046, 0.0, 0.0, 0.031, 0.0, 0.047, 0.0, 0.068, 0.0, 0.15, 0.104, 0.055, 0.0, 0.0, 0.022, 0.0, 0.0, 0.026, 0.0, 0.027, 0.0, 0.0, 0.105, 0.015, 0.056, 0.057, 0.0, 0.12, 0.0, 0.095, 0.0, 0.0, 0.026, 0.023, 0.0, 0.013, 0.133, 0.0, 0.053, 0.0, 0.092, 0.16, 0.0, 0.117, 0.0, 0.074, 0.0, 0.048, 0.0, 0.0, 0.415, 0.0, 0.013, 0.026, 0.0, 0.036, 0.0, 0.046, 0.067, 0.0, 0.0, 0.0, 0.0, 0.0, 0.016, 0.037, 0.019, 0.0, 0.0, 0.0, 0.213, 0.0, 0.065, 0.0, 0.227, 0.037, 0.075, 0.0, 0.0, 0.0, 0.0, 0.049, 0.036, 0.0, 0.0, 0.0, 0.109, 0.018, 0.053, 0.095, 0.0, 0.231, 0.147, 0.041, 0.0, 0.092, 0.06, 0.032, 0.056, 0.0, 0.0, 0.147, 0.0, 0.0, 0.024, 0.0, 0.06, 0.093, 0.0, 0.107, 0.127, 0.0, 0.033, 0.036, 0.063, 0.0, 0.0, 0.0, 0.0, 0.0, 0.15, 0.049, 0.152, 0.127, 0.0, 0.031, 0.036, 0.025, 0.0, 0.0, 0.0, 0.025, 0.045, 0.15, 0.068, 0.0, 0.045, 0.026, 0.0, 0.0, 0.0, 0.047, 0.061, 0.131, 0.0, 0.093, 0.016, 0.072, 0.0, 0.067, 0.16, 0.086, 0.135, 0.258, 0.097, 0.0, 0.067, 0.103, 0.0, 0.0, 0.051, 0.046, 0.022, 0.0, 0.0, 0.0, 0.063, 0.068, 0.04, 0.028, 0.0, 0.0, 0.0, 0.0, 0.043, 0.025, 0.0, 0.0, 0.0, 0.0, 0.21, 0.039, 0.0, 0.0, 0.0, 0.0, 0.089, 0.0, 0.0], \"yaxis\": \"y\"}],                        {\"legend\": {\"tracegroupgap\": 0}, \"margin\": {\"t\": 60}, \"template\": {\"data\": {\"bar\": [{\"error_x\": {\"color\": \"#2a3f5f\"}, \"error_y\": {\"color\": \"#2a3f5f\"}, \"marker\": {\"line\": {\"color\": \"#E5ECF6\", \"width\": 0.5}}, \"type\": \"bar\"}], \"barpolar\": [{\"marker\": {\"line\": {\"color\": \"#E5ECF6\", \"width\": 0.5}}, \"type\": \"barpolar\"}], \"carpet\": [{\"aaxis\": {\"endlinecolor\": \"#2a3f5f\", \"gridcolor\": \"white\", \"linecolor\": \"white\", \"minorgridcolor\": \"white\", \"startlinecolor\": \"#2a3f5f\"}, \"baxis\": {\"endlinecolor\": \"#2a3f5f\", \"gridcolor\": \"white\", \"linecolor\": \"white\", \"minorgridcolor\": \"white\", \"startlinecolor\": \"#2a3f5f\"}, \"type\": \"carpet\"}], \"choropleth\": [{\"colorbar\": {\"outlinewidth\": 0, \"ticks\": \"\"}, \"type\": \"choropleth\"}], \"contour\": [{\"colorbar\": {\"outlinewidth\": 0, \"ticks\": \"\"}, \"colorscale\": [[0.0, \"#0d0887\"], [0.1111111111111111, \"#46039f\"], [0.2222222222222222, \"#7201a8\"], [0.3333333333333333, \"#9c179e\"], [0.4444444444444444, \"#bd3786\"], [0.5555555555555556, \"#d8576b\"], [0.6666666666666666, \"#ed7953\"], [0.7777777777777778, \"#fb9f3a\"], [0.8888888888888888, \"#fdca26\"], [1.0, \"#f0f921\"]], \"type\": \"contour\"}], \"contourcarpet\": [{\"colorbar\": {\"outlinewidth\": 0, \"ticks\": \"\"}, \"type\": \"contourcarpet\"}], \"heatmap\": [{\"colorbar\": {\"outlinewidth\": 0, \"ticks\": \"\"}, \"colorscale\": [[0.0, \"#0d0887\"], [0.1111111111111111, \"#46039f\"], [0.2222222222222222, \"#7201a8\"], [0.3333333333333333, \"#9c179e\"], [0.4444444444444444, \"#bd3786\"], [0.5555555555555556, \"#d8576b\"], [0.6666666666666666, \"#ed7953\"], [0.7777777777777778, \"#fb9f3a\"], [0.8888888888888888, \"#fdca26\"], [1.0, \"#f0f921\"]], \"type\": \"heatmap\"}], \"heatmapgl\": [{\"colorbar\": {\"outlinewidth\": 0, \"ticks\": \"\"}, \"colorscale\": [[0.0, \"#0d0887\"], [0.1111111111111111, \"#46039f\"], [0.2222222222222222, \"#7201a8\"], [0.3333333333333333, \"#9c179e\"], [0.4444444444444444, \"#bd3786\"], [0.5555555555555556, \"#d8576b\"], [0.6666666666666666, \"#ed7953\"], [0.7777777777777778, \"#fb9f3a\"], [0.8888888888888888, \"#fdca26\"], [1.0, \"#f0f921\"]], \"type\": \"heatmapgl\"}], \"histogram\": [{\"marker\": {\"colorbar\": {\"outlinewidth\": 0, \"ticks\": \"\"}}, \"type\": \"histogram\"}], \"histogram2d\": [{\"colorbar\": {\"outlinewidth\": 0, \"ticks\": \"\"}, \"colorscale\": [[0.0, \"#0d0887\"], [0.1111111111111111, \"#46039f\"], [0.2222222222222222, \"#7201a8\"], [0.3333333333333333, \"#9c179e\"], [0.4444444444444444, \"#bd3786\"], [0.5555555555555556, \"#d8576b\"], [0.6666666666666666, \"#ed7953\"], [0.7777777777777778, \"#fb9f3a\"], [0.8888888888888888, \"#fdca26\"], [1.0, \"#f0f921\"]], \"type\": \"histogram2d\"}], \"histogram2dcontour\": [{\"colorbar\": {\"outlinewidth\": 0, \"ticks\": \"\"}, \"colorscale\": [[0.0, \"#0d0887\"], [0.1111111111111111, \"#46039f\"], [0.2222222222222222, \"#7201a8\"], [0.3333333333333333, \"#9c179e\"], [0.4444444444444444, \"#bd3786\"], [0.5555555555555556, \"#d8576b\"], [0.6666666666666666, \"#ed7953\"], [0.7777777777777778, \"#fb9f3a\"], [0.8888888888888888, \"#fdca26\"], [1.0, \"#f0f921\"]], \"type\": \"histogram2dcontour\"}], \"mesh3d\": [{\"colorbar\": {\"outlinewidth\": 0, \"ticks\": \"\"}, \"type\": \"mesh3d\"}], \"parcoords\": [{\"line\": {\"colorbar\": {\"outlinewidth\": 0, \"ticks\": \"\"}}, \"type\": \"parcoords\"}], \"pie\": [{\"automargin\": true, \"type\": \"pie\"}], \"scatter\": [{\"marker\": {\"colorbar\": {\"outlinewidth\": 0, \"ticks\": \"\"}}, \"type\": \"scatter\"}], \"scatter3d\": [{\"line\": {\"colorbar\": {\"outlinewidth\": 0, \"ticks\": \"\"}}, \"marker\": {\"colorbar\": {\"outlinewidth\": 0, \"ticks\": \"\"}}, \"type\": \"scatter3d\"}], \"scattercarpet\": [{\"marker\": {\"colorbar\": {\"outlinewidth\": 0, \"ticks\": \"\"}}, \"type\": \"scattercarpet\"}], \"scattergeo\": [{\"marker\": {\"colorbar\": {\"outlinewidth\": 0, \"ticks\": \"\"}}, \"type\": \"scattergeo\"}], \"scattergl\": [{\"marker\": {\"colorbar\": {\"outlinewidth\": 0, \"ticks\": \"\"}}, \"type\": \"scattergl\"}], \"scattermapbox\": [{\"marker\": {\"colorbar\": {\"outlinewidth\": 0, \"ticks\": \"\"}}, \"type\": \"scattermapbox\"}], \"scatterpolar\": [{\"marker\": {\"colorbar\": {\"outlinewidth\": 0, \"ticks\": \"\"}}, \"type\": \"scatterpolar\"}], \"scatterpolargl\": [{\"marker\": {\"colorbar\": {\"outlinewidth\": 0, \"ticks\": \"\"}}, \"type\": \"scatterpolargl\"}], \"scatterternary\": [{\"marker\": {\"colorbar\": {\"outlinewidth\": 0, \"ticks\": \"\"}}, \"type\": \"scatterternary\"}], \"surface\": [{\"colorbar\": {\"outlinewidth\": 0, \"ticks\": \"\"}, \"colorscale\": [[0.0, \"#0d0887\"], [0.1111111111111111, \"#46039f\"], [0.2222222222222222, \"#7201a8\"], [0.3333333333333333, \"#9c179e\"], [0.4444444444444444, \"#bd3786\"], [0.5555555555555556, \"#d8576b\"], [0.6666666666666666, \"#ed7953\"], [0.7777777777777778, \"#fb9f3a\"], [0.8888888888888888, \"#fdca26\"], [1.0, \"#f0f921\"]], \"type\": \"surface\"}], \"table\": [{\"cells\": {\"fill\": {\"color\": \"#EBF0F8\"}, \"line\": {\"color\": \"white\"}}, \"header\": {\"fill\": {\"color\": \"#C8D4E3\"}, \"line\": {\"color\": \"white\"}}, \"type\": \"table\"}]}, \"layout\": {\"annotationdefaults\": {\"arrowcolor\": \"#2a3f5f\", \"arrowhead\": 0, \"arrowwidth\": 1}, \"autotypenumbers\": \"strict\", \"coloraxis\": {\"colorbar\": {\"outlinewidth\": 0, \"ticks\": \"\"}}, \"colorscale\": {\"diverging\": [[0, \"#8e0152\"], [0.1, \"#c51b7d\"], [0.2, \"#de77ae\"], [0.3, \"#f1b6da\"], [0.4, \"#fde0ef\"], [0.5, \"#f7f7f7\"], [0.6, \"#e6f5d0\"], [0.7, \"#b8e186\"], [0.8, \"#7fbc41\"], [0.9, \"#4d9221\"], [1, \"#276419\"]], \"sequential\": [[0.0, \"#0d0887\"], [0.1111111111111111, \"#46039f\"], [0.2222222222222222, \"#7201a8\"], [0.3333333333333333, \"#9c179e\"], [0.4444444444444444, \"#bd3786\"], [0.5555555555555556, \"#d8576b\"], [0.6666666666666666, \"#ed7953\"], [0.7777777777777778, \"#fb9f3a\"], [0.8888888888888888, \"#fdca26\"], [1.0, \"#f0f921\"]], \"sequentialminus\": [[0.0, \"#0d0887\"], [0.1111111111111111, \"#46039f\"], [0.2222222222222222, \"#7201a8\"], [0.3333333333333333, \"#9c179e\"], [0.4444444444444444, \"#bd3786\"], [0.5555555555555556, \"#d8576b\"], [0.6666666666666666, \"#ed7953\"], [0.7777777777777778, \"#fb9f3a\"], [0.8888888888888888, \"#fdca26\"], [1.0, \"#f0f921\"]]}, \"colorway\": [\"#636efa\", \"#EF553B\", \"#00cc96\", \"#ab63fa\", \"#FFA15A\", \"#19d3f3\", \"#FF6692\", \"#B6E880\", \"#FF97FF\", \"#FECB52\"], \"font\": {\"color\": \"#2a3f5f\"}, \"geo\": {\"bgcolor\": \"white\", \"lakecolor\": \"white\", \"landcolor\": \"#E5ECF6\", \"showlakes\": true, \"showland\": true, \"subunitcolor\": \"white\"}, \"hoverlabel\": {\"align\": \"left\"}, \"hovermode\": \"closest\", \"mapbox\": {\"style\": \"light\"}, \"paper_bgcolor\": \"white\", \"plot_bgcolor\": \"#E5ECF6\", \"polar\": {\"angularaxis\": {\"gridcolor\": \"white\", \"linecolor\": \"white\", \"ticks\": \"\"}, \"bgcolor\": \"#E5ECF6\", \"radialaxis\": {\"gridcolor\": \"white\", \"linecolor\": \"white\", \"ticks\": \"\"}}, \"scene\": {\"xaxis\": {\"backgroundcolor\": \"#E5ECF6\", \"gridcolor\": \"white\", \"gridwidth\": 2, \"linecolor\": \"white\", \"showbackground\": true, \"ticks\": \"\", \"zerolinecolor\": \"white\"}, \"yaxis\": {\"backgroundcolor\": \"#E5ECF6\", \"gridcolor\": \"white\", \"gridwidth\": 2, \"linecolor\": \"white\", \"showbackground\": true, \"ticks\": \"\", \"zerolinecolor\": \"white\"}, \"zaxis\": {\"backgroundcolor\": \"#E5ECF6\", \"gridcolor\": \"white\", \"gridwidth\": 2, \"linecolor\": \"white\", \"showbackground\": true, \"ticks\": \"\", \"zerolinecolor\": \"white\"}}, \"shapedefaults\": {\"line\": {\"color\": \"#2a3f5f\"}}, \"ternary\": {\"aaxis\": {\"gridcolor\": \"white\", \"linecolor\": \"white\", \"ticks\": \"\"}, \"baxis\": {\"gridcolor\": \"white\", \"linecolor\": \"white\", \"ticks\": \"\"}, \"bgcolor\": \"#E5ECF6\", \"caxis\": {\"gridcolor\": \"white\", \"linecolor\": \"white\", \"ticks\": \"\"}}, \"title\": {\"x\": 0.05}, \"xaxis\": {\"automargin\": true, \"gridcolor\": \"white\", \"linecolor\": \"white\", \"ticks\": \"\", \"title\": {\"standoff\": 15}, \"zerolinecolor\": \"white\", \"zerolinewidth\": 2}, \"yaxis\": {\"automargin\": true, \"gridcolor\": \"white\", \"linecolor\": \"white\", \"ticks\": \"\", \"title\": {\"standoff\": 15}, \"zerolinecolor\": \"white\", \"zerolinewidth\": 2}}}, \"xaxis\": {\"anchor\": \"y\", \"domain\": [0.0, 1.0], \"title\": {\"text\": \"Post Date\"}}, \"yaxis\": {\"anchor\": \"x\", \"domain\": [0.0, 1.0], \"title\": {\"text\": \"neg\"}}},                        {\"responsive\": true}                    ).then(function(){\n",
       "                            \n",
       "var gd = document.getElementById('36b6eb32-0602-407d-ac53-7740f1bc457f');\n",
       "var x = new MutationObserver(function (mutations, observer) {{\n",
       "        var display = window.getComputedStyle(gd).display;\n",
       "        if (!display || display === 'none') {{\n",
       "            console.log([gd, 'removed!']);\n",
       "            Plotly.purge(gd);\n",
       "            observer.disconnect();\n",
       "        }}\n",
       "}});\n",
       "\n",
       "// Listen for the removal of the full notebook cells\n",
       "var notebookContainer = gd.closest('#notebook-container');\n",
       "if (notebookContainer) {{\n",
       "    x.observe(notebookContainer, {childList: true});\n",
       "}}\n",
       "\n",
       "// Listen for the clearing of the current output cell\n",
       "var outputEl = gd.closest('.output');\n",
       "if (outputEl) {{\n",
       "    x.observe(outputEl, {childList: true});\n",
       "}}\n",
       "\n",
       "                        })                };                });            </script>        </div>"
      ]
     },
     "metadata": {},
     "output_type": "display_data"
    }
   ],
   "source": [
    "fig = px.line(df2, x='Post Date', y='neg')\n",
    "fig.show()"
   ]
  },
  {
   "cell_type": "code",
   "execution_count": 213,
   "metadata": {},
   "outputs": [
    {
     "name": "stderr",
     "output_type": "stream",
     "text": [
      "C:\\Users\\BDelamater\\Anaconda3\\lib\\site-packages\\ipykernel\\ipkernel.py:287: DeprecationWarning:\n",
      "\n",
      "`should_run_async` will not call `transform_cell` automatically in the future. Please pass the result to `transformed_cell` argument and any exception that happen during thetransform in `preprocessing_exc_tuple` in IPython 7.17 and above.\n",
      "\n"
     ]
    },
    {
     "data": {
      "application/vnd.plotly.v1+json": {
       "config": {
        "plotlyServerURL": "https://plot.ly"
       },
       "data": [
        {
         "hovertemplate": "Sentiment=Neutral<br>Post Date=%{x}<br>pos=%{y}<extra></extra>",
         "legendgroup": "Neutral",
         "line": {
          "color": "#636efa",
          "dash": "solid"
         },
         "mode": "lines",
         "name": "Neutral",
         "showlegend": true,
         "type": "scattergl",
         "x": [
          "2019-10-10T05:58:05.73",
          "2019-10-11T14:24:15.807",
          "2019-10-23T03:37:35.103",
          "2019-10-23T12:09:17.84",
          "2019-11-12T00:41:34.433",
          "2019-11-13T03:30:36.293",
          "2019-11-14T11:29:20.21",
          "2019-11-20T10:36:40.83",
          "2019-11-21T13:38:42.807",
          "2019-12-09T10:45:09.32",
          "2019-12-11T11:57:54.773",
          "2019-12-18T14:19:48.24",
          "2019-12-24T07:53:51.783",
          "2019-12-27T18:14:34.557",
          "2020-01-07T13:43:06.053",
          "2020-01-11T05:17:09.423",
          "2020-01-14T07:36:27.793",
          "2020-01-15T13:11:10.033",
          "2020-01-16T20:37:57.323",
          "2020-01-20T07:01:58.37",
          "2020-01-22T15:21:03.853",
          "2020-01-23T09:12:43.07",
          "2020-01-24T15:38:37.98",
          "2020-01-29T01:21:00.2",
          "2020-02-04T20:18:44.27",
          "2020-02-05T15:34:55.653",
          "2020-02-12T18:31:25.547",
          "2020-02-14T11:00:46.067",
          "2020-02-18T09:57:28.06",
          "2020-02-20T09:07:37.297",
          "2020-02-26T09:59:17.067",
          "2020-02-28T04:40:42.623",
          "2020-03-10T07:07:09.317",
          "2020-03-10T13:47:55.803",
          "2020-03-11T12:02:24.97",
          "2020-03-20T09:52:08.827",
          "2020-04-03T01:06:02.82",
          "2020-04-07T16:29:10.43",
          "2020-04-24T09:15:41.46",
          "2020-04-27T03:25:15.807",
          "2020-05-03T16:49:31.43",
          "2020-05-13T15:13:24.907",
          "2020-05-14T09:38:15.473",
          "2020-05-19T13:23:05.93",
          "2020-05-22T12:43:12.977",
          "2020-05-27T08:09:30.657",
          "2020-05-28T11:43:06.343",
          "2020-05-31T21:49:48.113",
          "2020-06-01T07:06:15.03",
          "2020-06-03T08:38:37.627",
          "2020-06-17T10:39:43.347",
          "2020-06-21T05:58:52.79",
          "2020-07-01T03:24:12.553",
          "2020-07-02T16:17:26.273",
          "2020-07-09T15:25:26.863",
          "2020-07-21T10:23:05.597",
          "2020-07-24T02:00:04.097",
          "2020-08-11T06:23:35.727",
          "2020-08-13T05:21:38.977",
          "2020-08-13T14:00:56.303",
          "2020-08-17T17:09:22.07",
          "2020-08-27T04:28:56.903",
          "2020-09-01T12:00:23.027",
          "2020-09-03T15:16:17.96",
          "2020-09-08T05:00:37.097",
          "2020-09-10T06:34:35.72",
          "2020-09-20T12:16:21.403",
          "2020-09-21T16:37:39.7",
          "2020-09-29T18:14:05.84",
          "2020-09-29T18:29:04.81",
          "2020-10-02T09:26:32.68",
          "2020-10-15T14:35:43.96",
          "2020-10-16T13:34:13.343",
          "2020-10-22T13:47:42.993",
          "2020-10-22T17:19:54.477",
          "2020-10-27T16:57:39.52",
          "2020-10-29T11:10:06.717",
          "2020-11-02T09:41:44.807",
          "2020-11-05T12:22:50.65",
          "2020-11-05T13:57:09.393",
          "2020-11-11T11:27:29.283",
          "2020-11-16T02:39:45.893",
          "2020-11-18T06:54:44.173",
          "2020-11-19T12:44:09.52",
          "2020-11-20T10:05:42.53",
          "2020-11-24T16:02:26.117",
          "2020-11-25T11:59:22.583",
          "2020-12-06T22:33:26.473",
          "2020-12-10T16:45:56.92",
          "2020-12-27T01:57:08.607",
          "2020-12-29T11:55:09.773",
          "2021-01-11T05:30:23.477",
          "2021-01-12T09:52:23.923",
          "2021-01-16T04:10:22.447",
          "2021-01-19T14:58:12.793",
          "2021-01-29T09:32:23.31",
          "2021-02-02T02:54:29.54",
          "2021-02-03T04:07:38.773",
          "2021-02-05T01:44:05.203",
          "2021-02-24T07:45:06.977",
          "2021-03-09T07:01:54.71",
          "2021-03-18T02:51:39.69",
          "2021-03-18T13:51:25.81",
          "2021-03-25T14:46:51.637",
          "2021-04-09T18:43:03.997",
          "2021-04-22T16:37:41.357",
          "2021-04-23T09:14:59.607",
          "2021-04-27T16:38:41.177",
          "2021-05-10T14:33:41.143"
         ],
         "xaxis": "x",
         "y": [
          0.064,
          0,
          0,
          0.056,
          0,
          0,
          0,
          0.038,
          0,
          0,
          0,
          0,
          0,
          0,
          0,
          0,
          0,
          0,
          0,
          0,
          0.052,
          0,
          0,
          0,
          0,
          0,
          0.055,
          0.043,
          0.022,
          0,
          0,
          0,
          0,
          0,
          0,
          0,
          0,
          0,
          0,
          0,
          0,
          0,
          0,
          0,
          0.054,
          0,
          0,
          0.16,
          0,
          0,
          0,
          0,
          0,
          0.032,
          0,
          0.022,
          0,
          0,
          0.051,
          0,
          0.179,
          0,
          0,
          0,
          0,
          0.112,
          0,
          0,
          0,
          0,
          0.01,
          0,
          0,
          0,
          0,
          0,
          0,
          0,
          0,
          0,
          0.11,
          0,
          0.056,
          0,
          0.055,
          0.095,
          0,
          0,
          0,
          0.103,
          0,
          0,
          0.09,
          0,
          0,
          0,
          0.025,
          0.061,
          0,
          0,
          0,
          0,
          0,
          0,
          0.092,
          0,
          0,
          0,
          0
         ],
         "yaxis": "y"
        },
        {
         "hovertemplate": "Sentiment=Positive<br>Post Date=%{x}<br>pos=%{y}<extra></extra>",
         "legendgroup": "Positive",
         "line": {
          "color": "#EF553B",
          "dash": "solid"
         },
         "mode": "lines",
         "name": "Positive",
         "showlegend": true,
         "type": "scattergl",
         "x": [
          "2019-10-10T12:44:35.957",
          "2019-10-10T14:56:52.947",
          "2019-10-10T15:41:06.877",
          "2019-10-10T20:56:53.483",
          "2019-10-11T13:10:28.983",
          "2019-10-11T16:02:41.787",
          "2019-10-13T20:01:08.897",
          "2019-10-14T08:33:18.01",
          "2019-10-16T11:20:54.023",
          "2019-10-16T14:12:45.5",
          "2019-10-17T09:14:34.753",
          "2019-10-17T10:16:15.513",
          "2019-10-17T12:09:02.91",
          "2019-10-17T23:59:14.523",
          "2019-10-18T14:58:06.717",
          "2019-10-21T06:08:38.347",
          "2019-10-21T16:06:55.323",
          "2019-10-22T08:16:13.563",
          "2019-10-22T16:27:23.92",
          "2019-10-22T18:07:48.827",
          "2019-10-23T08:20:38.087",
          "2019-10-23T11:38:26.887",
          "2019-10-24T04:42:08.237",
          "2019-10-24T09:59:56.077",
          "2019-10-24T16:34:04.713",
          "2019-10-28T15:36:47.907",
          "2019-10-29T06:01:19.783",
          "2019-10-29T10:29:47.95",
          "2019-10-29T16:46:32.203",
          "2019-10-29T17:04:40.463",
          "2019-10-30T04:45:07.257",
          "2019-10-30T15:33:07.45",
          "2019-10-30T18:41:07.37",
          "2019-10-31T12:35:06.993",
          "2019-11-01T07:44:02.54",
          "2019-11-04T17:47:37.86",
          "2019-11-06T06:04:59.007",
          "2019-11-06T10:08:50.95",
          "2019-11-06T10:27:39.52",
          "2019-11-08T20:33:59.89",
          "2019-11-09T11:37:29.693",
          "2019-11-11T05:59:42.987",
          "2019-11-11T11:39:44.857",
          "2019-11-11T13:02:34.017",
          "2019-11-12T18:42:03.247",
          "2019-11-13T09:35:33.91",
          "2019-11-13T23:52:26.683",
          "2019-11-14T06:03:35.53",
          "2019-11-14T09:45:03.713",
          "2019-11-14T13:10:08.303",
          "2019-11-18T04:12:03.657",
          "2019-11-18T15:17:49.503",
          "2019-11-18T16:11:15.36",
          "2019-11-18T17:18:32.137",
          "2019-11-18T19:25:44.17",
          "2019-11-19T02:48:28.417",
          "2019-11-19T10:27:37.423",
          "2019-11-19T11:00:35.74",
          "2019-11-19T20:00:10.803",
          "2019-11-20T12:24:54.847",
          "2019-11-21T00:07:58.053",
          "2019-11-21T14:08:12.47",
          "2019-11-21T18:13:29.69",
          "2019-11-22T07:29:58.45",
          "2019-11-22T12:44:01.59",
          "2019-11-23T12:26:35.197",
          "2019-11-26T08:17:12.663",
          "2019-11-27T10:39:18.173",
          "2019-11-27T21:15:11.89",
          "2019-11-28T04:58:07.76",
          "2019-12-02T07:06:03.57",
          "2019-12-02T15:42:44.927",
          "2019-12-02T21:04:51.46",
          "2019-12-03T07:56:40.55",
          "2019-12-03T10:45:44.023",
          "2019-12-04T11:59:55.687",
          "2019-12-05T11:04:33.51",
          "2019-12-05T12:28:17.997",
          "2019-12-09T07:25:39.22",
          "2019-12-09T10:53:03.993",
          "2019-12-09T12:45:56.217",
          "2019-12-10T08:52:36.997",
          "2019-12-10T10:14:02.33",
          "2019-12-10T11:53:33.71",
          "2019-12-10T18:25:49.657",
          "2019-12-11T11:26:46.79",
          "2019-12-12T11:05:43.68",
          "2019-12-13T09:43:03.027",
          "2019-12-17T03:54:27.833",
          "2019-12-17T05:30:55.173",
          "2019-12-17T09:31:11.343",
          "2019-12-17T11:21:51.1",
          "2019-12-17T12:36:10.797",
          "2019-12-17T22:05:31.297",
          "2019-12-18T02:18:53.803",
          "2019-12-18T04:43:33.147",
          "2019-12-18T07:43:12.083",
          "2019-12-20T14:25:22.243",
          "2019-12-21T07:31:20.647",
          "2019-12-26T08:18:44.133",
          "2019-12-26T11:59:21.053",
          "2019-12-28T03:55:55.687",
          "2019-12-30T13:08:12.05",
          "2019-12-30T13:53:51.783",
          "2020-01-02T06:49:33.107",
          "2020-01-02T09:53:02.633",
          "2020-01-02T16:36:17.35",
          "2020-01-03T12:08:04.033",
          "2020-01-03T16:41:12.803",
          "2020-01-06T12:19:26.157",
          "2020-01-06T17:04:29.283",
          "2020-01-06T17:40:07.413",
          "2020-01-07T04:10:45.22",
          "2020-01-07T04:51:00.893",
          "2020-01-07T10:24:06.313",
          "2020-01-07T11:18:19.473",
          "2020-01-07T15:38:23.8",
          "2020-01-07T16:18:56.733",
          "2020-01-08T16:28:49.287",
          "2020-01-09T01:31:01.17",
          "2020-01-09T06:33:51.44",
          "2020-01-09T12:05:38.153",
          "2020-01-10T15:06:17.673",
          "2020-01-10T15:54:12.933",
          "2020-01-13T12:21:50.72",
          "2020-01-13T13:00:29.71",
          "2020-01-14T15:06:33.63",
          "2020-01-15T04:12:20.593",
          "2020-01-15T09:52:42.417",
          "2020-01-15T19:14:38.547",
          "2020-01-16T10:00:09.903",
          "2020-01-16T17:27:43.697",
          "2020-01-18T01:12:31.457",
          "2020-01-18T07:43:39.573",
          "2020-01-20T00:07:25.07",
          "2020-01-20T06:57:25.193",
          "2020-01-20T06:59:28.963",
          "2020-01-20T14:25:20.393",
          "2020-01-20T14:45:16.097",
          "2020-01-22T15:07:27.347",
          "2020-01-23T08:30:02.617",
          "2020-01-25T16:27:33.3",
          "2020-01-27T12:47:35.913",
          "2020-01-27T13:06:07.103",
          "2020-01-27T19:11:17.547",
          "2020-01-30T18:43:33.303",
          "2020-01-31T00:48:04.5",
          "2020-01-31T08:03:58.81",
          "2020-02-01T05:35:29.75",
          "2020-02-02T13:10:27.66",
          "2020-02-02T17:09:13.667",
          "2020-02-03T04:12:16.153",
          "2020-02-04T09:46:39.103",
          "2020-02-05T12:57:51.92",
          "2020-02-07T10:19:14.993",
          "2020-02-10T12:07:23.167",
          "2020-02-10T12:23:06.927",
          "2020-02-10T12:51:43.717",
          "2020-02-10T17:12:39.753",
          "2020-02-11T17:58:49.54",
          "2020-02-12T06:28:17.963",
          "2020-02-12T14:03:31.393",
          "2020-02-12T15:16:51.137",
          "2020-02-13T04:33:31.503",
          "2020-02-13T07:03:33.427",
          "2020-02-17T16:50:09.627",
          "2020-02-18T02:27:54.503",
          "2020-02-18T10:33:31.103",
          "2020-02-18T11:09:26.847",
          "2020-02-20T18:55:20.497",
          "2020-02-21T04:19:57.7",
          "2020-02-21T06:32:06.093",
          "2020-02-21T12:36:02.74",
          "2020-02-21T13:01:12.36",
          "2020-02-21T18:07:34.15",
          "2020-02-23T02:07:04.06",
          "2020-02-24T05:14:04.183",
          "2020-02-24T09:39:05.69",
          "2020-02-24T15:46:47.507",
          "2020-02-25T03:52:03.343",
          "2020-02-26T16:38:14.707",
          "2020-02-27T12:11:29.997",
          "2020-02-28T10:58:22.157",
          "2020-02-28T12:00:12.227",
          "2020-02-28T12:41:38.88",
          "2020-02-29T01:03:40.683",
          "2020-03-01T02:40:06.913",
          "2020-03-01T10:01:48.487",
          "2020-03-01T23:59:56.043",
          "2020-03-02T14:28:29.457",
          "2020-03-03T00:00:27.147",
          "2020-03-03T04:30:14.143",
          "2020-03-03T06:44:29.51",
          "2020-03-03T07:23:34.21",
          "2020-03-04T03:34:45.237",
          "2020-03-04T10:43:21.66",
          "2020-03-05T20:40:47.497",
          "2020-03-06T16:53:23.053",
          "2020-03-07T06:36:24.19",
          "2020-03-08T12:22:18.35",
          "2020-03-08T18:22:20.403",
          "2020-03-09T07:47:26.907",
          "2020-03-10T02:49:49.197",
          "2020-03-12T03:22:56.907",
          "2020-03-12T05:01:18.27",
          "2020-03-12T09:32:11.43",
          "2020-03-12T16:24:51.943",
          "2020-03-13T02:20:48.573",
          "2020-03-13T18:05:09.727",
          "2020-03-16T05:51:59.12",
          "2020-03-16T13:41:01.863",
          "2020-03-17T01:11:48.753",
          "2020-03-17T02:14:25.67",
          "2020-03-17T11:01:28.317",
          "2020-03-18T06:06:20.797",
          "2020-03-19T09:31:32.573",
          "2020-03-20T09:02:42.493",
          "2020-03-22T12:10:06.073",
          "2020-03-22T23:11:53.447",
          "2020-03-23T11:06:50.057",
          "2020-03-23T23:34:21.613",
          "2020-03-24T16:40:36.357",
          "2020-03-25T05:31:26.553",
          "2020-03-25T13:28:17.627",
          "2020-03-25T13:53:46.49",
          "2020-03-27T09:21:56.483",
          "2020-03-28T01:28:47.883",
          "2020-03-30T09:08:24.897",
          "2020-03-30T15:21:41.037",
          "2020-03-30T21:20:56.607",
          "2020-03-31T11:25:34.507",
          "2020-03-31T13:27:36.39",
          "2020-04-01T16:02:10.643",
          "2020-04-02T00:43:12.03",
          "2020-04-07T12:32:04.843",
          "2020-04-08T00:15:17.853",
          "2020-04-08T03:50:11.817",
          "2020-04-08T10:13:33.427",
          "2020-04-08T18:27:22.337",
          "2020-04-10T09:08:10.833",
          "2020-04-10T19:21:56.537",
          "2020-04-13T10:16:13.573",
          "2020-04-13T12:45:52.543",
          "2020-04-13T14:36:36.72",
          "2020-04-14T08:25:03.7",
          "2020-04-15T05:26:43.887",
          "2020-04-16T17:32:12.887",
          "2020-04-17T17:21:10.267",
          "2020-04-17T18:09:09.38",
          "2020-04-17T19:28:32.667",
          "2020-04-20T06:46:13.263",
          "2020-04-20T09:45:40.793",
          "2020-04-21T06:43:58.953",
          "2020-04-22T17:52:12.143",
          "2020-04-23T11:51:48.66",
          "2020-04-23T12:48:56.067",
          "2020-04-23T13:42:27.423",
          "2020-04-23T19:33:37.777",
          "2020-04-24T12:08:53.497",
          "2020-04-24T17:33:44.47",
          "2020-04-27T11:04:11.827",
          "2020-04-27T12:09:32.6",
          "2020-04-28T14:16:24.483",
          "2020-04-28T14:23:25.457",
          "2020-04-28T14:54:09.24",
          "2020-04-28T15:58:10.627",
          "2020-04-29T06:42:53.09",
          "2020-04-29T11:08:12.53",
          "2020-04-30T10:03:05.167",
          "2020-05-01T07:55:41.06",
          "2020-05-01T13:27:08.093",
          "2020-05-01T18:13:11.793",
          "2020-05-05T07:56:04.453",
          "2020-05-05T08:43:05.083",
          "2020-05-05T19:02:17.003",
          "2020-05-06T01:58:51.927",
          "2020-05-06T09:55:41.613",
          "2020-05-06T11:33:27.64",
          "2020-05-07T07:48:02.343",
          "2020-05-07T14:40:24.16",
          "2020-05-07T17:22:42.663",
          "2020-05-07T17:58:50.36",
          "2020-05-08T11:05:30.22",
          "2020-05-08T18:50:29.917",
          "2020-05-10T15:38:34.823",
          "2020-05-10T22:06:56.483",
          "2020-05-11T04:18:33.723",
          "2020-05-11T10:39:05.677",
          "2020-05-11T18:12:14.043",
          "2020-05-12T06:46:53.073",
          "2020-05-12T23:39:37.837",
          "2020-05-13T12:09:34.583",
          "2020-05-14T13:46:07.237",
          "2020-05-19T01:36:19.2",
          "2020-05-19T10:58:19.68",
          "2020-05-19T22:57:51.593",
          "2020-05-19T23:57:36.38",
          "2020-05-21T08:01:48.667",
          "2020-05-21T16:17:26.79",
          "2020-05-22T13:38:46.373",
          "2020-05-26T04:19:19.857",
          "2020-05-26T05:29:41.38",
          "2020-05-27T09:42:57.963",
          "2020-05-27T11:51:09.957",
          "2020-05-27T16:13:12.423",
          "2020-05-28T10:50:38.12",
          "2020-05-28T13:55:04.59",
          "2020-05-28T13:55:17.233",
          "2020-05-28T15:02:38.937",
          "2020-06-01T03:45:36.143",
          "2020-06-01T23:54:24.347",
          "2020-06-02T06:25:02.487",
          "2020-06-04T08:46:29.137",
          "2020-06-04T08:47:30.443",
          "2020-06-05T08:37:45.887",
          "2020-06-08T11:30:52.127",
          "2020-06-10T15:48:56.787",
          "2020-06-11T05:44:23.893",
          "2020-06-11T10:48:33.063",
          "2020-06-11T16:44:25.303",
          "2020-06-12T04:26:21.537",
          "2020-06-13T20:34:20.54",
          "2020-06-15T00:18:26.877",
          "2020-06-15T18:21:18.607",
          "2020-06-17T07:44:27.62",
          "2020-06-17T18:17:42.787",
          "2020-06-17T21:20:44.363",
          "2020-06-18T03:41:34.283",
          "2020-06-18T18:45:45.943",
          "2020-06-19T05:28:43.413",
          "2020-06-19T07:23:48.88",
          "2020-06-19T13:04:31.18",
          "2020-06-19T13:05:50.277",
          "2020-06-20T20:04:07.61",
          "2020-06-22T07:57:18.433",
          "2020-06-22T15:20:53.23",
          "2020-06-22T17:32:37.193",
          "2020-06-25T03:09:04.55",
          "2020-06-26T07:38:55.12",
          "2020-07-01T08:43:32.99",
          "2020-07-02T09:20:12.7",
          "2020-07-02T10:21:06.57",
          "2020-07-08T09:33:24.407",
          "2020-07-08T16:56:19.757",
          "2020-07-09T16:22:26.66",
          "2020-07-09T16:28:26.983",
          "2020-07-10T15:53:37.277",
          "2020-07-10T18:57:48.173",
          "2020-07-14T05:01:01.39",
          "2020-07-15T03:11:16.5",
          "2020-07-15T06:32:14.56",
          "2020-07-15T17:54:55.167",
          "2020-07-16T04:35:29.63",
          "2020-07-16T07:33:35.41",
          "2020-07-16T11:36:35.183",
          "2020-07-16T16:31:52.563",
          "2020-07-20T23:00:15.057",
          "2020-07-21T06:17:01.253",
          "2020-07-21T15:20:11.183",
          "2020-07-22T05:55:52.447",
          "2020-07-22T16:48:52.953",
          "2020-07-22T23:35:16.743",
          "2020-07-23T15:51:45.183",
          "2020-07-23T16:46:00.053",
          "2020-07-27T13:56:35.087",
          "2020-07-28T11:16:57.777",
          "2020-07-28T11:20:26.603",
          "2020-07-28T11:47:30.707",
          "2020-07-29T08:18:11.907",
          "2020-07-29T09:13:44.577",
          "2020-07-29T10:45:28.61",
          "2020-07-30T14:51:34.69",
          "2020-07-30T16:20:18.783",
          "2020-08-03T14:31:32.377",
          "2020-08-03T15:16:16.62",
          "2020-08-05T12:27:19.103",
          "2020-08-05T13:19:23.943",
          "2020-08-06T12:04:03.013",
          "2020-08-07T15:34:48.087",
          "2020-08-10T12:13:23.673",
          "2020-08-11T03:18:56.48",
          "2020-08-12T07:54:44.907",
          "2020-08-13T09:27:35.497",
          "2020-08-13T13:58:17.28",
          "2020-08-13T19:32:19.49",
          "2020-08-14T04:43:10.42",
          "2020-08-14T10:33:47.637",
          "2020-08-14T14:39:35.21",
          "2020-08-18T07:01:56.34",
          "2020-08-19T10:47:49.9",
          "2020-08-19T14:31:13.88",
          "2020-08-20T16:16:04.203",
          "2020-08-20T18:20:03.123",
          "2020-08-21T02:02:10.857",
          "2020-08-21T14:50:21.077",
          "2020-08-21T15:36:03.473",
          "2020-08-24T02:26:12.913",
          "2020-08-24T03:55:16.187",
          "2020-08-24T07:30:08.877",
          "2020-08-24T09:13:29.1",
          "2020-08-25T09:37:23.29",
          "2020-08-25T13:34:40.817",
          "2020-08-26T02:11:50.003",
          "2020-08-26T10:34:15.32",
          "2020-08-26T11:13:50.613",
          "2020-08-27T11:25:26.827",
          "2020-08-27T11:40:36.677",
          "2020-08-27T14:20:01.203",
          "2020-08-27T14:59:03.177",
          "2020-08-28T04:12:14.89",
          "2020-08-28T12:20:32.08",
          "2020-08-31T09:41:46.203",
          "2020-09-01T08:29:04.687",
          "2020-09-02T13:28:25.653",
          "2020-09-03T02:01:33.75",
          "2020-09-03T09:26:58.127",
          "2020-09-03T11:55:40.83",
          "2020-09-04T02:35:33.15",
          "2020-09-07T03:14:01.783",
          "2020-09-08T03:24:11.603",
          "2020-09-08T05:40:25.34",
          "2020-09-08T12:13:05.57",
          "2020-09-08T14:17:04.713",
          "2020-09-09T14:46:03.91",
          "2020-09-09T15:33:09.883",
          "2020-09-10T06:00:56.927",
          "2020-09-10T12:15:08.11",
          "2020-09-10T16:25:03.4",
          "2020-09-11T11:54:43.767",
          "2020-09-11T17:57:16.44",
          "2020-09-13T05:09:37.187",
          "2020-09-13T12:40:21.163",
          "2020-09-14T08:48:44.357",
          "2020-09-15T08:11:30.217",
          "2020-09-15T11:40:17.6",
          "2020-09-15T19:54:20.857",
          "2020-09-16T06:13:11.593",
          "2020-09-16T08:15:45.44",
          "2020-09-16T09:57:44.517",
          "2020-09-16T12:02:57.383",
          "2020-09-16T14:20:14.03",
          "2020-09-16T16:01:59.473",
          "2020-09-16T16:33:38.75",
          "2020-09-16T16:52:38.42",
          "2020-09-17T11:41:44.053",
          "2020-09-17T14:55:23.447",
          "2020-09-17T16:37:00.077",
          "2020-09-18T07:33:41.723",
          "2020-09-18T10:46:34.367",
          "2020-09-21T09:58:43.167",
          "2020-09-21T16:47:19.263",
          "2020-09-22T00:02:42.337",
          "2020-09-22T06:17:08.973",
          "2020-09-22T12:21:03.637",
          "2020-09-23T12:45:54.313",
          "2020-09-23T14:50:02.017",
          "2020-09-23T14:50:53.77",
          "2020-09-23T14:51:39.347",
          "2020-09-23T15:15:00.187",
          "2020-09-24T13:12:57.107",
          "2020-09-24T19:12:48.583",
          "2020-09-25T06:21:34.47",
          "2020-09-25T15:10:56.223",
          "2020-09-25T21:10:47.287",
          "2020-09-27T03:01:48.877",
          "2020-09-28T07:28:53.443",
          "2020-09-28T13:41:47.603",
          "2020-09-29T10:42:52.203",
          "2020-09-29T10:58:24.237",
          "2020-09-29T11:43:39.463",
          "2020-10-01T04:05:51.267",
          "2020-10-01T15:18:19.523",
          "2020-10-04T06:57:42.663",
          "2020-10-06T10:36:52.983",
          "2020-10-06T12:46:04.483",
          "2020-10-07T04:36:43.39",
          "2020-10-07T16:31:35.887",
          "2020-10-07T16:43:08.117",
          "2020-10-08T08:52:50.623",
          "2020-10-09T02:01:00.407",
          "2020-10-12T09:03:36.163",
          "2020-10-12T20:34:39.057",
          "2020-10-14T06:43:01.837",
          "2020-10-14T09:31:09.873",
          "2020-10-14T13:41:44.907",
          "2020-10-14T13:52:09.94",
          "2020-10-15T06:57:57.13",
          "2020-10-16T10:01:41.817",
          "2020-10-16T12:33:29.753",
          "2020-10-17T11:21:17.997",
          "2020-10-17T21:00:48.037",
          "2020-10-19T15:39:33.853",
          "2020-10-19T22:07:22.383",
          "2020-10-20T03:00:27.94",
          "2020-10-21T04:53:38.967",
          "2020-10-21T06:22:02.867",
          "2020-10-21T09:30:56.74",
          "2020-10-21T10:44:23.66",
          "2020-10-22T14:31:26.257",
          "2020-10-22T17:17:54.993",
          "2020-10-23T07:50:08.56",
          "2020-10-23T12:09:06.92",
          "2020-10-23T16:06:11.243",
          "2020-10-24T16:03:56.137",
          "2020-10-25T08:22:12.38",
          "2020-10-25T16:01:58.43",
          "2020-10-26T05:46:15.347",
          "2020-10-29T02:25:33.677",
          "2020-10-29T14:45:52.203",
          "2020-10-30T15:24:32.273",
          "2020-11-03T09:15:35.397",
          "2020-11-03T14:16:21.633",
          "2020-11-04T08:18:34.06",
          "2020-11-06T03:12:33.02",
          "2020-11-07T02:30:08.94",
          "2020-11-08T12:42:54.723",
          "2020-11-08T12:48:07.61",
          "2020-11-09T10:51:40.613",
          "2020-11-11T05:50:59.56",
          "2020-11-11T09:58:05.707",
          "2020-11-11T15:13:05.847",
          "2020-11-11T16:53:07.01",
          "2020-11-12T05:28:55.913",
          "2020-11-12T14:47:17.27",
          "2020-11-13T03:08:25.797",
          "2020-11-14T14:04:27.383",
          "2020-11-16T11:23:16.327",
          "2020-11-16T11:25:19.08",
          "2020-11-18T11:32:37.993",
          "2020-11-18T12:30:24.143",
          "2020-11-18T12:37:55.147",
          "2020-11-18T19:18:53.403",
          "2020-11-19T09:30:41.29",
          "2020-11-20T14:00:44.387",
          "2020-11-20T16:00:00.39",
          "2020-11-21T05:08:51.133",
          "2020-11-22T23:21:07.067",
          "2020-11-23T01:58:09.64",
          "2020-11-24T10:58:17.443",
          "2020-11-24T15:09:06.143",
          "2020-11-24T20:48:57.933",
          "2020-11-25T12:40:55.58",
          "2020-11-25T14:28:28.507",
          "2020-11-25T15:43:04.867",
          "2020-11-30T16:32:19.377",
          "2020-12-02T09:26:16.583",
          "2020-12-04T18:13:27.287",
          "2020-12-06T08:25:07.433",
          "2020-12-08T11:32:56.12",
          "2020-12-08T12:43:52.023",
          "2020-12-08T15:13:24.93",
          "2020-12-09T10:04:40.567",
          "2020-12-10T03:32:44.07",
          "2020-12-10T16:03:19.67",
          "2020-12-15T11:43:28.143",
          "2020-12-15T13:24:34.04",
          "2020-12-16T05:04:16.433",
          "2020-12-16T13:34:06.637",
          "2020-12-16T21:46:56.413",
          "2020-12-18T03:06:14.177",
          "2020-12-18T11:11:07.787",
          "2020-12-21T17:49:39.223",
          "2020-12-22T05:06:26.697",
          "2020-12-23T10:59:14.423",
          "2020-12-24T00:03:53.283",
          "2020-12-26T15:56:58.257",
          "2020-12-27T11:57:47.007",
          "2020-12-27T14:12:00.18",
          "2020-12-28T10:34:01.52",
          "2020-12-28T11:57:21.447",
          "2020-12-29T17:22:22.603",
          "2020-12-30T10:05:14.57",
          "2020-12-31T18:03:21.66",
          "2021-01-01T07:00:15.443",
          "2021-01-03T22:55:07.463",
          "2021-01-04T07:41:29.507",
          "2021-01-04T07:48:38.72",
          "2021-01-04T08:49:11.093",
          "2021-01-04T12:26:12.183",
          "2021-01-05T09:54:38.063",
          "2021-01-05T10:07:21.227",
          "2021-01-05T20:16:38.75",
          "2021-01-06T12:25:16.487",
          "2021-01-06T14:50:39.423",
          "2021-01-07T00:43:54.317",
          "2021-01-08T03:57:53.35",
          "2021-01-11T16:25:58.88",
          "2021-01-11T22:44:21.93",
          "2021-01-12T07:40:27.073",
          "2021-01-14T13:55:54.143",
          "2021-01-15T11:36:31.313",
          "2021-01-16T19:32:13.78",
          "2021-01-18T05:59:41.04",
          "2021-01-19T13:53:44.657",
          "2021-01-20T07:11:18.693",
          "2021-01-20T15:38:36.633",
          "2021-01-20T16:13:02.5",
          "2021-01-21T17:46:44.013",
          "2021-01-22T13:54:36.95",
          "2021-01-22T15:20:52.107",
          "2021-01-23T00:52:07.6",
          "2021-01-25T03:57:52.733",
          "2021-01-25T10:05:26.427",
          "2021-01-25T12:51:33.14",
          "2021-01-25T17:07:17.423",
          "2021-01-27T09:22:55.277",
          "2021-01-27T09:22:55.547",
          "2021-01-27T09:28:32.857",
          "2021-01-28T11:33:34.887",
          "2021-01-29T05:09:45.457",
          "2021-01-30T02:44:24.313",
          "2021-02-01T14:35:54.11",
          "2021-02-02T09:15:33.837",
          "2021-02-04T18:52:41.68",
          "2021-02-07T01:35:51.77",
          "2021-02-07T03:45:35.85",
          "2021-02-07T22:47:17.563",
          "2021-02-08T04:21:46.14",
          "2021-02-08T20:23:34.343",
          "2021-02-09T05:36:55.147",
          "2021-02-09T07:28:04.943",
          "2021-02-10T11:48:40.4",
          "2021-02-10T17:28:34.27",
          "2021-02-11T16:40:26.987",
          "2021-02-11T21:31:20.58",
          "2021-02-12T05:54:48.23",
          "2021-02-12T09:56:04.773",
          "2021-02-12T15:06:05.92",
          "2021-02-12T15:07:52.33",
          "2021-02-13T02:53:30.073",
          "2021-02-14T04:45:31.08",
          "2021-02-14T15:10:09.8",
          "2021-02-15T21:50:52.64",
          "2021-02-16T06:32:23.97",
          "2021-02-16T09:44:47.337",
          "2021-02-17T01:00:17.45",
          "2021-02-17T01:25:49.423",
          "2021-02-17T17:57:59.497",
          "2021-02-18T04:41:42.563",
          "2021-02-19T11:17:25.39",
          "2021-02-22T01:18:39.76",
          "2021-02-22T10:22:26.3",
          "2021-02-23T05:30:07.697",
          "2021-02-23T08:25:50.447",
          "2021-02-23T15:53:46.57",
          "2021-02-24T12:36:00.77",
          "2021-02-25T08:53:44.637",
          "2021-02-25T10:29:48.393",
          "2021-02-25T16:43:06.273",
          "2021-02-26T09:23:09.993",
          "2021-02-26T18:47:43.037",
          "2021-02-27T11:08:57.667",
          "2021-03-01T09:13:33.787",
          "2021-03-01T19:39:59.55",
          "2021-03-02T09:23:36.847",
          "2021-03-02T11:18:39.363",
          "2021-03-02T16:31:12.837",
          "2021-03-03T05:13:37.897",
          "2021-03-03T06:44:32.35",
          "2021-03-03T08:54:25",
          "2021-03-04T02:36:22.257",
          "2021-03-05T08:22:11.3",
          "2021-03-09T11:09:19.763",
          "2021-03-09T14:55:21.58",
          "2021-03-10T04:36:07.837",
          "2021-03-10T15:24:21.857",
          "2021-03-10T16:00:02.613",
          "2021-03-11T04:20:04.103",
          "2021-03-11T09:00:30.913",
          "2021-03-11T17:30:43.753",
          "2021-03-12T02:34:21.683",
          "2021-03-12T03:28:33.083",
          "2021-03-12T11:48:47.203",
          "2021-03-13T10:25:21.143",
          "2021-03-14T17:29:30.287",
          "2021-03-15T10:13:43.667",
          "2021-03-15T10:53:54.233",
          "2021-03-17T17:02:54.86",
          "2021-03-19T07:21:13.43",
          "2021-03-20T01:34:53.61",
          "2021-03-23T12:14:18.863",
          "2021-03-24T12:58:46.5",
          "2021-03-25T03:17:53.38",
          "2021-03-25T16:39:59.577",
          "2021-03-26T14:27:14.173",
          "2021-03-30T12:29:47.413",
          "2021-03-30T12:53:22.887",
          "2021-03-31T05:04:42.15",
          "2021-03-31T06:38:42.34",
          "2021-04-01T08:14:49.057",
          "2021-04-06T19:28:50.28",
          "2021-04-08T17:31:25.08",
          "2021-04-10T02:53:00.28",
          "2021-04-12T10:52:25.73",
          "2021-04-12T12:12:10.283",
          "2021-04-12T15:13:07.097",
          "2021-04-14T03:27:41.803",
          "2021-04-15T08:57:58.05",
          "2021-04-15T12:20:03.933",
          "2021-04-19T09:41:09.173",
          "2021-04-20T07:00:28.707",
          "2021-04-20T15:43:56.607",
          "2021-04-21T11:38:15.18",
          "2021-04-22T04:29:17.66",
          "2021-04-22T04:48:51.64",
          "2021-04-22T06:55:40.56",
          "2021-04-22T16:43:27",
          "2021-04-23T00:03:22.743",
          "2021-04-23T11:09:05.35",
          "2021-04-27T07:40:14.087",
          "2021-04-27T10:25:08.213",
          "2021-04-27T13:53:38.607",
          "2021-04-27T14:05:34.707",
          "2021-04-27T16:17:23.083",
          "2021-04-28T06:07:57.33",
          "2021-04-28T11:44:20.84",
          "2021-04-28T14:08:31.08",
          "2021-04-28T14:15:54.817",
          "2021-04-29T02:16:11.49",
          "2021-04-30T07:03:44.607",
          "2021-04-30T08:43:37.07",
          "2021-05-04T03:26:26.993",
          "2021-05-04T09:31:18.373",
          "2021-05-05T10:48:30.583",
          "2021-05-05T14:59:26.737",
          "2021-05-06T04:52:27.5",
          "2021-05-06T05:44:31.317",
          "2021-05-06T14:47:18.237",
          "2021-05-06T15:36:56.423",
          "2021-05-06T19:21:40.677",
          "2021-05-07T11:58:25.423",
          "2021-05-07T12:44:00.26",
          "2021-05-11T11:11:22.967",
          "2021-05-11T14:33:52.803",
          "2021-05-12T19:29:45.887",
          "2021-05-14T10:04:28.7",
          "2021-05-17T00:14:13.58",
          "2021-05-17T05:24:41.617",
          "2021-05-17T10:22:56.957",
          "2021-05-17T12:12:39.573",
          "2021-05-20T08:11:58.513",
          "2021-05-21T02:17:15.373",
          "2021-05-24T03:14:14.447",
          "2021-05-24T05:55:56.8",
          "2021-05-24T14:55:23.877",
          "2021-05-25T10:09:32.81",
          "2021-05-25T23:18:10.647",
          "2021-05-25T23:21:55.333",
          "2021-05-26T05:39:30.67",
          "2021-05-28T11:21:25.033",
          "2021-05-28T13:33:13.153",
          "2021-05-29T21:45:02.2",
          "2021-05-30T01:41:31.68",
          "2021-05-30T08:11:59.69",
          "2021-06-02T07:44:14.63",
          "2021-06-02T12:18:46.267",
          "2021-06-02T13:14:26.307",
          "2021-06-02T13:40:25.58",
          "2021-06-02T13:53:43.85",
          "2021-06-02T15:54:57.997",
          "2021-06-02T16:37:04.77",
          "2021-06-03T02:17:04.61",
          "2021-06-03T04:52:06.57",
          "2021-06-03T09:19:09.593",
          "2021-06-03T19:44:17.527",
          "2021-06-04T05:25:16.927",
          "2021-06-04T10:11:48.013",
          "2021-06-08T04:53:56.6",
          "2021-06-08T10:57:39.363"
         ],
         "xaxis": "x",
         "y": [
          0.063,
          0.102,
          0.198,
          0.102,
          0.09,
          0.184,
          0.094,
          0.075,
          0.054,
          0.082,
          0.105,
          0.158,
          0.071,
          0.255,
          0.102,
          0.236,
          0.114,
          0.106,
          0.135,
          0.244,
          0.204,
          0.185,
          0.058,
          0.088,
          0.102,
          0.115,
          0.067,
          0.047,
          0.221,
          0.115,
          0.172,
          0.154,
          0.093,
          0.159,
          0.086,
          0.24,
          0.161,
          0.185,
          0.096,
          0.102,
          0.153,
          0.203,
          0.057,
          0.041,
          0.139,
          0.101,
          0.095,
          0.151,
          0.11,
          0.142,
          0.256,
          0.124,
          0.134,
          0.203,
          0.077,
          0.091,
          0.177,
          0.209,
          0.028,
          0.091,
          0.085,
          0.075,
          0.168,
          0.335,
          0.071,
          0.358,
          0.122,
          0.097,
          0.087,
          0.136,
          0.059,
          0.179,
          0.102,
          0.211,
          0.129,
          0.113,
          0.253,
          0.035,
          0.223,
          0.11,
          0.195,
          0.082,
          0.056,
          0.033,
          0.017,
          0.208,
          0.13,
          0.079,
          0.173,
          0.174,
          0.07,
          0.189,
          0.331,
          0.152,
          0.112,
          0.125,
          0.181,
          0.236,
          0.213,
          0.104,
          0.17,
          0.055,
          0.094,
          0.216,
          0.089,
          0.149,
          0.102,
          0.138,
          0.091,
          0.21,
          0.083,
          0.143,
          0.089,
          0.112,
          0.072,
          0.033,
          0.069,
          0.102,
          0.211,
          0.091,
          0.218,
          0.16,
          0.209,
          0.077,
          0.167,
          0.038,
          0.119,
          0.158,
          0.222,
          0.119,
          0.293,
          0.132,
          0.221,
          0.104,
          0.089,
          0.09,
          0.167,
          0.103,
          0.108,
          0.119,
          0.202,
          0.107,
          0.083,
          0.034,
          0.112,
          0.112,
          0.103,
          0.064,
          0.101,
          0.12,
          0.15,
          0.076,
          0.102,
          0.062,
          0.072,
          0.223,
          0.036,
          0.073,
          0.102,
          0.013,
          0.072,
          0.094,
          0.096,
          0.031,
          0.133,
          0.153,
          0.118,
          0.072,
          0.097,
          0.066,
          0.326,
          0.069,
          0.103,
          0.057,
          0.103,
          0.062,
          0.147,
          0.116,
          0.122,
          0.128,
          0.147,
          0.057,
          0.116,
          0.167,
          0.101,
          0.081,
          0.278,
          0.142,
          0.108,
          0.102,
          0.074,
          0.086,
          0.08,
          0.225,
          0.157,
          0.282,
          0.13,
          0.102,
          0.122,
          0.272,
          0.168,
          0.136,
          0.116,
          0.192,
          0.138,
          0.119,
          0.08,
          0.112,
          0.086,
          0.143,
          0.04,
          0.119,
          0.172,
          0.286,
          0.177,
          0.137,
          0.182,
          0.134,
          0.134,
          0.211,
          0.238,
          0.092,
          0.152,
          0.155,
          0.217,
          0.126,
          0.133,
          0.244,
          0.302,
          0.234,
          0.205,
          0.335,
          0.096,
          0.165,
          0.078,
          0.192,
          0.13,
          0.069,
          0.122,
          0.22,
          0.102,
          0.118,
          0.104,
          0.172,
          0.078,
          0.116,
          0.265,
          0.042,
          0.075,
          0.129,
          0.033,
          0.086,
          0.042,
          0.029,
          0.3,
          0.202,
          0.155,
          0.156,
          0.085,
          0.078,
          0.102,
          0.19,
          0.102,
          0.102,
          0.156,
          0.16,
          0.141,
          0.103,
          0.194,
          0.194,
          0.086,
          0.099,
          0.142,
          0.09,
          0.09,
          0.154,
          0.071,
          0.101,
          0.108,
          0.045,
          0.046,
          0.166,
          0.184,
          0.1,
          0.22,
          0.14,
          0.131,
          0.079,
          0.336,
          0.058,
          0.12,
          0.077,
          0.105,
          0.068,
          0.245,
          0.144,
          0.123,
          0.02,
          0.078,
          0.101,
          0.069,
          0.095,
          0.113,
          0.044,
          0.077,
          0.038,
          0.173,
          0.14,
          0.111,
          0.236,
          0.078,
          0.093,
          0.107,
          0.102,
          0.102,
          0.068,
          0.095,
          0.085,
          0.101,
          0.153,
          0.08,
          0.133,
          0.254,
          0.124,
          0.071,
          0.089,
          0.096,
          0.143,
          0.173,
          0.239,
          0.06,
          0.075,
          0.075,
          0.321,
          0.133,
          0.143,
          0.097,
          0.182,
          0.134,
          0.046,
          0.094,
          0.159,
          0.067,
          0.148,
          0.088,
          0.077,
          0.186,
          0.102,
          0.131,
          0.191,
          0.102,
          0.16,
          0.043,
          0.161,
          0.132,
          0.156,
          0.152,
          0.101,
          0.221,
          0.1,
          0.282,
          0.05,
          0.129,
          0.079,
          0.231,
          0.122,
          0.206,
          0.24,
          0.256,
          0.234,
          0.086,
          0.101,
          0.091,
          0.197,
          0.32,
          0.064,
          0.136,
          0.138,
          0.106,
          0.142,
          0.078,
          0.114,
          0.064,
          0.097,
          0.102,
          0.043,
          0.049,
          0.12,
          0.055,
          0.167,
          0.064,
          0.081,
          0.11,
          0.201,
          0.133,
          0.091,
          0.221,
          0.135,
          0.166,
          0.151,
          0.092,
          0.143,
          0.138,
          0.098,
          0.16,
          0.185,
          0.23,
          0.069,
          0.116,
          0.106,
          0.094,
          0.157,
          0.093,
          0.188,
          0.054,
          0.034,
          0.21,
          0.127,
          0.124,
          0.16,
          0.203,
          0.115,
          0.046,
          0.271,
          0.077,
          0.088,
          0.161,
          0.143,
          0.161,
          0.079,
          0.08,
          0.183,
          0.076,
          0.098,
          0.091,
          0.134,
          0.07,
          0.146,
          0.112,
          0.153,
          0.25,
          0.103,
          0.216,
          0.227,
          0.088,
          0.107,
          0.059,
          0.249,
          0.119,
          0.133,
          0.076,
          0.038,
          0.161,
          0.162,
          0.255,
          0.075,
          0.075,
          0.075,
          0.115,
          0.188,
          0.18,
          0.207,
          0.09,
          0.044,
          0.084,
          0.231,
          0.101,
          0.237,
          0.073,
          0.243,
          0.038,
          0.053,
          0.062,
          0.356,
          0.181,
          0.167,
          0.11,
          0.102,
          0.084,
          0.062,
          0.159,
          0.141,
          0.09,
          0.096,
          0.276,
          0.164,
          0.179,
          0.112,
          0.097,
          0.265,
          0.222,
          0.094,
          0.04,
          0.129,
          0.22,
          0.167,
          0.065,
          0.169,
          0.2,
          0.036,
          0.067,
          0.083,
          0.102,
          0.055,
          0.041,
          0.047,
          0.052,
          0.159,
          0.123,
          0.136,
          0.19,
          0.042,
          0.121,
          0.193,
          0.04,
          0.138,
          0.087,
          0.284,
          0.1,
          0.153,
          0.172,
          0.041,
          0.219,
          0.072,
          0.047,
          0.122,
          0.165,
          0.115,
          0.079,
          0.081,
          0.098,
          0.079,
          0.171,
          0.076,
          0.189,
          0.263,
          0.135,
          0.16,
          0.27,
          0.102,
          0.112,
          0.063,
          0.114,
          0.084,
          0.102,
          0.209,
          0.156,
          0.071,
          0.033,
          0.213,
          0.255,
          0.157,
          0.073,
          0.113,
          0.107,
          0.206,
          0.079,
          0.174,
          0.105,
          0.213,
          0.103,
          0.063,
          0.213,
          0.17,
          0.174,
          0.253,
          0.331,
          0.11,
          0.213,
          0.22,
          0.061,
          0.112,
          0.058,
          0.079,
          0.079,
          0.372,
          0.048,
          0.152,
          0.18,
          0.302,
          0.141,
          0.178,
          0.116,
          0.149,
          0.052,
          0.158,
          0.22,
          0.227,
          0.184,
          0.2,
          0.166,
          0.087,
          0.076,
          0.094,
          0.382,
          0.116,
          0.15,
          0.162,
          0.197,
          0.065,
          0.212,
          0.047,
          0.044,
          0.213,
          0.028,
          0.123,
          0.173,
          0.077,
          0.118,
          0.093,
          0.267,
          0.197,
          0.085,
          0.125,
          0.122,
          0.174,
          0.062,
          0.131,
          0.111,
          0.163,
          0.134,
          0.204,
          0.197,
          0.128,
          0.032,
          0.203,
          0.129,
          0.068,
          0.068,
          0.127,
          0.067,
          0.146,
          0.288,
          0.087,
          0.243,
          0.097,
          0.216,
          0.201,
          0.088,
          0.119,
          0.186,
          0.235,
          0.129,
          0.071,
          0.061,
          0.135,
          0.192,
          0.129,
          0.173,
          0.134,
          0.12,
          0.181,
          0.135,
          0.058,
          0.062,
          0.205,
          0.18,
          0.153,
          0.073,
          0.173,
          0.077,
          0.199,
          0.033,
          0.394,
          0.121,
          0.109,
          0.099,
          0.05,
          0.045,
          0.035,
          0.093,
          0.137,
          0.199,
          0.145,
          0.104,
          0.099,
          0.182,
          0.2,
          0.154,
          0.071,
          0.186,
          0.18,
          0.105,
          0.333,
          0.156,
          0.081,
          0.135,
          0.148,
          0.204,
          0.195,
          0.148,
          0.022,
          0.278,
          0.083,
          0.106,
          0.232,
          0.292,
          0.171,
          0.259,
          0.038,
          0.246,
          0.051,
          0.077,
          0.053,
          0.071,
          0.152,
          0.119,
          0.357,
          0.118,
          0.148,
          0.121,
          0.134,
          0.18,
          0.059,
          0.349,
          0.277,
          0.097,
          0.234,
          0.171,
          0.143,
          0.14,
          0.104,
          0.114,
          0.224,
          0.101,
          0.046,
          0.089,
          0.11,
          0.121,
          0.049,
          0.187,
          0.164,
          0.156,
          0.087,
          0.068,
          0.162,
          0.129,
          0.331,
          0.125,
          0.114,
          0.116,
          0.114,
          0.067,
          0.292,
          0.078,
          0.248,
          0.104,
          0.104,
          0.184,
          0.127,
          0.127,
          0.077,
          0.036,
          0.211,
          0.08,
          0.294,
          0.135,
          0.056,
          0.163,
          0.074,
          0.107,
          0.123,
          0.138,
          0.211,
          0.105,
          0.174,
          0.048,
          0.23,
          0.06
         ],
         "yaxis": "y"
        },
        {
         "hovertemplate": "Sentiment=Negative<br>Post Date=%{x}<br>pos=%{y}<extra></extra>",
         "legendgroup": "Negative",
         "line": {
          "color": "#00cc96",
          "dash": "solid"
         },
         "mode": "lines",
         "name": "Negative",
         "showlegend": true,
         "type": "scattergl",
         "x": [
          "2019-10-14T05:55:32.553",
          "2019-10-14T22:38:08.26",
          "2019-10-21T09:43:33.513",
          "2019-10-21T12:40:40.86",
          "2019-10-23T06:23:11.657",
          "2019-10-24T06:19:46.603",
          "2019-10-24T14:04:33.85",
          "2019-10-25T11:54:33.85",
          "2019-10-30T08:21:45.053",
          "2019-10-30T18:45:20.75",
          "2019-10-31T23:57:45.833",
          "2019-11-01T07:45:56.387",
          "2019-11-10T01:44:11.28",
          "2019-11-14T03:28:57.637",
          "2019-11-18T10:12:47.987",
          "2019-11-20T05:47:36.783",
          "2019-11-29T02:39:25.357",
          "2019-12-03T14:56:05.093",
          "2019-12-03T16:06:57.23",
          "2019-12-09T07:10:55.167",
          "2019-12-10T07:50:29.637",
          "2019-12-10T10:55:22.36",
          "2019-12-12T10:17:39.717",
          "2019-12-20T08:29:43.793",
          "2019-12-21T07:25:05.07",
          "2019-12-24T06:44:49.68",
          "2020-01-03T04:40:24.317",
          "2020-01-05T08:26:52.923",
          "2020-01-14T07:18:24.06",
          "2020-01-16T01:35:18.87",
          "2020-01-20T17:44:58.307",
          "2020-01-24T06:49:45.39",
          "2020-01-29T10:26:02.32",
          "2020-02-03T09:59:10.557",
          "2020-02-03T13:33:12.313",
          "2020-02-05T11:30:08.943",
          "2020-02-11T17:09:02.48",
          "2020-02-12T09:04:32.27",
          "2020-02-12T14:51:42.37",
          "2020-02-14T10:24:51.933",
          "2020-02-26T12:34:35.337",
          "2020-03-04T20:50:43.727",
          "2020-03-10T11:43:30.047",
          "2020-03-17T10:57:57.617",
          "2020-03-17T12:46:10.82",
          "2020-03-17T17:40:54.64",
          "2020-03-30T04:21:56.913",
          "2020-04-09T23:22:33.47",
          "2020-04-14T04:48:03.713",
          "2020-04-14T11:03:59.167",
          "2020-04-16T08:10:59.29",
          "2020-04-16T16:12:38.977",
          "2020-04-16T16:41:02.65",
          "2020-04-23T02:31:29.827",
          "2020-04-23T17:09:27.673",
          "2020-05-05T10:32:52.917",
          "2020-05-06T07:12:28.073",
          "2020-05-06T10:17:41.447",
          "2020-05-07T03:54:23.82",
          "2020-05-07T10:30:47.55",
          "2020-05-12T07:44:49.72",
          "2020-05-13T09:12:49.927",
          "2020-05-13T14:43:08.657",
          "2020-05-14T03:52:10.373",
          "2020-05-14T17:51:27.473",
          "2020-05-19T22:05:27.747",
          "2020-05-20T07:46:08.763",
          "2020-05-22T09:04:36.597",
          "2020-05-24T07:44:59.96",
          "2020-05-25T11:51:41.683",
          "2020-05-25T12:12:56.96",
          "2020-05-28T04:33:45.413",
          "2020-05-28T21:23:28.48",
          "2020-05-31T11:34:13.967",
          "2020-06-01T02:08:55.463",
          "2020-06-02T05:15:07.377",
          "2020-06-08T10:15:40.8",
          "2020-06-17T09:23:08.72",
          "2020-06-17T10:47:18.047",
          "2020-06-19T05:37:59.09",
          "2020-06-29T17:02:31.54",
          "2020-07-06T05:50:50.78",
          "2020-07-06T09:19:59.403",
          "2020-07-10T08:52:51.04",
          "2020-07-11T20:29:03.777",
          "2020-07-13T02:40:11.35",
          "2020-07-17T14:17:43.9",
          "2020-07-20T13:16:24.25",
          "2020-07-21T04:25:05.703",
          "2020-07-21T11:25:17.723",
          "2020-07-24T15:17:29.263",
          "2020-07-31T03:00:29.553",
          "2020-08-01T06:40:03.033",
          "2020-08-02T08:21:09.453",
          "2020-08-06T16:30:31.317",
          "2020-08-11T20:18:22.113",
          "2020-08-14T06:48:55.553",
          "2020-08-17T10:09:37.347",
          "2020-08-18T10:10:32.407",
          "2020-09-03T14:53:10.197",
          "2020-09-04T08:34:40.003",
          "2020-09-08T10:35:57.717",
          "2020-09-09T04:14:26.247",
          "2020-09-09T07:05:09.473",
          "2020-09-09T19:09:12.01",
          "2020-09-11T14:32:09.763",
          "2020-09-22T03:04:06.773",
          "2020-09-22T12:56:21.417",
          "2020-09-23T07:34:25.193",
          "2020-09-27T00:39:00.507",
          "2020-09-30T11:28:12.57",
          "2020-10-05T01:11:31.057",
          "2020-10-05T22:58:21.4",
          "2020-10-07T04:49:35.287",
          "2020-10-07T06:19:26.927",
          "2020-10-08T07:26:39.637",
          "2020-10-08T16:26:59.76",
          "2020-10-09T19:17:29.443",
          "2020-10-13T13:02:42.213",
          "2020-10-13T18:32:15.773",
          "2020-10-16T18:36:31.273",
          "2020-10-19T22:07:38.62",
          "2020-10-20T16:35:09.947",
          "2020-10-21T12:58:42.72",
          "2020-10-21T13:33:08.743",
          "2020-10-21T14:06:01.427",
          "2020-10-28T05:57:09.547",
          "2020-10-28T13:28:28.833",
          "2020-10-28T15:58:04.637",
          "2020-10-29T01:39:26.437",
          "2020-11-02T16:14:49.56",
          "2020-11-09T08:23:02.983",
          "2020-11-11T06:00:38.383",
          "2020-11-12T18:39:57.223",
          "2020-11-13T18:33:05.46",
          "2020-11-18T11:41:37.49",
          "2020-11-19T16:56:39.44",
          "2020-11-25T11:17:47.587",
          "2020-11-25T13:13:05.463",
          "2020-11-26T11:43:14.277",
          "2020-12-02T15:54:46.727",
          "2020-12-03T15:45:18.923",
          "2020-12-06T07:13:50.297",
          "2020-12-08T06:45:13.323",
          "2020-12-08T12:43:05.35",
          "2020-12-11T09:05:13.287",
          "2020-12-16T11:24:45.933",
          "2020-12-16T16:31:08.12",
          "2020-12-21T08:30:12.503",
          "2020-12-22T04:59:41.42",
          "2020-12-23T09:59:10.2",
          "2020-12-28T02:51:24.99",
          "2020-12-28T15:09:46.85",
          "2020-12-29T08:45:35.597",
          "2020-12-29T15:13:04.71",
          "2021-01-09T23:27:17.513",
          "2021-01-12T06:59:45.843",
          "2021-01-12T08:16:59.57",
          "2021-01-12T23:48:05.1",
          "2021-01-15T06:20:18.943",
          "2021-01-16T07:56:33.363",
          "2021-01-18T00:23:54.957",
          "2021-01-20T07:58:12.823",
          "2021-01-21T09:00:33.853",
          "2021-01-27T01:26:58.78",
          "2021-01-27T13:06:46.71",
          "2021-02-03T06:28:55.87",
          "2021-02-03T14:28:38.48",
          "2021-02-05T09:38:55.053",
          "2021-02-08T14:35:14.027",
          "2021-02-10T06:07:45.91",
          "2021-02-10T13:30:52.19",
          "2021-02-16T14:37:14.58",
          "2021-02-17T00:44:34.993",
          "2021-02-26T11:57:02.543",
          "2021-02-27T07:31:29.457",
          "2021-03-03T03:05:35.877",
          "2021-03-03T09:20:39.307",
          "2021-03-03T16:19:15.397",
          "2021-03-04T11:01:28.96",
          "2021-03-06T06:54:56.57",
          "2021-03-09T11:05:19.053",
          "2021-03-09T17:00:23.213",
          "2021-03-16T07:06:57.6",
          "2021-03-16T15:19:27.047",
          "2021-03-19T11:31:47.557",
          "2021-03-22T03:47:12.6",
          "2021-03-24T09:04:13.813",
          "2021-04-07T14:44:07.22",
          "2021-04-09T14:10:26.533",
          "2021-04-10T03:29:32.747",
          "2021-04-10T15:57:59.943",
          "2021-04-20T11:43:36.217",
          "2021-04-22T07:32:19.79",
          "2021-04-30T15:41:33.667",
          "2021-05-06T06:08:48.817",
          "2021-05-06T10:55:46.883",
          "2021-05-11T16:15:01.67",
          "2021-05-14T08:27:02.38",
          "2021-05-17T10:44:03.017",
          "2021-05-17T12:41:24.27",
          "2021-05-18T00:14:22.057",
          "2021-05-19T09:46:33.497",
          "2021-05-23T15:49:03.797",
          "2021-05-25T16:41:37.953",
          "2021-05-27T07:12:50.66",
          "2021-06-03T04:46:03.063",
          "2021-06-04T19:14:13.09"
         ],
         "xaxis": "x",
         "y": [
          0.017,
          0.052,
          0.034,
          0.021,
          0.044,
          0.049,
          0.106,
          0.057,
          0.11,
          0.058,
          0.027,
          0.052,
          0.038,
          0.028,
          0.038,
          0.055,
          0.107,
          0.066,
          0,
          0.026,
          0.049,
          0.042,
          0,
          0,
          0.031,
          0,
          0.113,
          0.038,
          0.102,
          0.016,
          0.079,
          0.046,
          0.033,
          0.058,
          0.017,
          0,
          0.03,
          0.031,
          0.017,
          0.09,
          0,
          0.061,
          0.101,
          0,
          0.073,
          0.022,
          0.078,
          0.095,
          0.068,
          0,
          0.029,
          0,
          0.014,
          0,
          0,
          0,
          0.031,
          0.049,
          0.12,
          0,
          0.115,
          0,
          0.026,
          0,
          0.046,
          0.198,
          0.113,
          0,
          0.065,
          0,
          0,
          0.027,
          0.074,
          0.047,
          0,
          0.029,
          0.045,
          0.028,
          0.046,
          0,
          0,
          0.014,
          0,
          0.015,
          0.043,
          0.051,
          0.092,
          0.039,
          0,
          0.065,
          0.028,
          0.058,
          0.041,
          0.091,
          0.048,
          0.142,
          0.106,
          0.056,
          0.064,
          0,
          0.052,
          0.049,
          0.053,
          0.049,
          0.026,
          0.053,
          0,
          0.018,
          0.042,
          0.04,
          0.024,
          0.065,
          0.077,
          0,
          0,
          0.034,
          0.036,
          0,
          0,
          0.037,
          0.012,
          0.045,
          0.033,
          0.043,
          0.082,
          0.077,
          0.159,
          0,
          0.038,
          0.048,
          0,
          0.041,
          0,
          0.027,
          0.043,
          0.066,
          0.042,
          0.103,
          0.059,
          0.126,
          0.092,
          0,
          0.107,
          0.066,
          0.063,
          0.014,
          0.062,
          0,
          0.041,
          0.11,
          0.032,
          0.087,
          0.052,
          0,
          0,
          0.069,
          0,
          0.079,
          0.094,
          0.204,
          0.105,
          0.055,
          0.14,
          0,
          0.059,
          0.034,
          0.107,
          0.039,
          0.058,
          0.059,
          0,
          0.049,
          0.192,
          0.015,
          0,
          0.107,
          0.03,
          0,
          0,
          0.054,
          0.048,
          0.024,
          0,
          0,
          0.066,
          0,
          0.057,
          0.108,
          0.066,
          0.035,
          0.07,
          0.039,
          0.129,
          0.078,
          0.03,
          0.115,
          0.072,
          0.092,
          0.042,
          0.076,
          0.032,
          0.102,
          0,
          0.092,
          0.016,
          0,
          0.1,
          0.02
         ],
         "yaxis": "y"
        }
       ],
       "layout": {
        "legend": {
         "title": {
          "text": "Sentiment"
         },
         "tracegroupgap": 0
        },
        "margin": {
         "t": 60
        },
        "template": {
         "data": {
          "bar": [
           {
            "error_x": {
             "color": "#2a3f5f"
            },
            "error_y": {
             "color": "#2a3f5f"
            },
            "marker": {
             "line": {
              "color": "#E5ECF6",
              "width": 0.5
             }
            },
            "type": "bar"
           }
          ],
          "barpolar": [
           {
            "marker": {
             "line": {
              "color": "#E5ECF6",
              "width": 0.5
             }
            },
            "type": "barpolar"
           }
          ],
          "carpet": [
           {
            "aaxis": {
             "endlinecolor": "#2a3f5f",
             "gridcolor": "white",
             "linecolor": "white",
             "minorgridcolor": "white",
             "startlinecolor": "#2a3f5f"
            },
            "baxis": {
             "endlinecolor": "#2a3f5f",
             "gridcolor": "white",
             "linecolor": "white",
             "minorgridcolor": "white",
             "startlinecolor": "#2a3f5f"
            },
            "type": "carpet"
           }
          ],
          "choropleth": [
           {
            "colorbar": {
             "outlinewidth": 0,
             "ticks": ""
            },
            "type": "choropleth"
           }
          ],
          "contour": [
           {
            "colorbar": {
             "outlinewidth": 0,
             "ticks": ""
            },
            "colorscale": [
             [
              0,
              "#0d0887"
             ],
             [
              0.1111111111111111,
              "#46039f"
             ],
             [
              0.2222222222222222,
              "#7201a8"
             ],
             [
              0.3333333333333333,
              "#9c179e"
             ],
             [
              0.4444444444444444,
              "#bd3786"
             ],
             [
              0.5555555555555556,
              "#d8576b"
             ],
             [
              0.6666666666666666,
              "#ed7953"
             ],
             [
              0.7777777777777778,
              "#fb9f3a"
             ],
             [
              0.8888888888888888,
              "#fdca26"
             ],
             [
              1,
              "#f0f921"
             ]
            ],
            "type": "contour"
           }
          ],
          "contourcarpet": [
           {
            "colorbar": {
             "outlinewidth": 0,
             "ticks": ""
            },
            "type": "contourcarpet"
           }
          ],
          "heatmap": [
           {
            "colorbar": {
             "outlinewidth": 0,
             "ticks": ""
            },
            "colorscale": [
             [
              0,
              "#0d0887"
             ],
             [
              0.1111111111111111,
              "#46039f"
             ],
             [
              0.2222222222222222,
              "#7201a8"
             ],
             [
              0.3333333333333333,
              "#9c179e"
             ],
             [
              0.4444444444444444,
              "#bd3786"
             ],
             [
              0.5555555555555556,
              "#d8576b"
             ],
             [
              0.6666666666666666,
              "#ed7953"
             ],
             [
              0.7777777777777778,
              "#fb9f3a"
             ],
             [
              0.8888888888888888,
              "#fdca26"
             ],
             [
              1,
              "#f0f921"
             ]
            ],
            "type": "heatmap"
           }
          ],
          "heatmapgl": [
           {
            "colorbar": {
             "outlinewidth": 0,
             "ticks": ""
            },
            "colorscale": [
             [
              0,
              "#0d0887"
             ],
             [
              0.1111111111111111,
              "#46039f"
             ],
             [
              0.2222222222222222,
              "#7201a8"
             ],
             [
              0.3333333333333333,
              "#9c179e"
             ],
             [
              0.4444444444444444,
              "#bd3786"
             ],
             [
              0.5555555555555556,
              "#d8576b"
             ],
             [
              0.6666666666666666,
              "#ed7953"
             ],
             [
              0.7777777777777778,
              "#fb9f3a"
             ],
             [
              0.8888888888888888,
              "#fdca26"
             ],
             [
              1,
              "#f0f921"
             ]
            ],
            "type": "heatmapgl"
           }
          ],
          "histogram": [
           {
            "marker": {
             "colorbar": {
              "outlinewidth": 0,
              "ticks": ""
             }
            },
            "type": "histogram"
           }
          ],
          "histogram2d": [
           {
            "colorbar": {
             "outlinewidth": 0,
             "ticks": ""
            },
            "colorscale": [
             [
              0,
              "#0d0887"
             ],
             [
              0.1111111111111111,
              "#46039f"
             ],
             [
              0.2222222222222222,
              "#7201a8"
             ],
             [
              0.3333333333333333,
              "#9c179e"
             ],
             [
              0.4444444444444444,
              "#bd3786"
             ],
             [
              0.5555555555555556,
              "#d8576b"
             ],
             [
              0.6666666666666666,
              "#ed7953"
             ],
             [
              0.7777777777777778,
              "#fb9f3a"
             ],
             [
              0.8888888888888888,
              "#fdca26"
             ],
             [
              1,
              "#f0f921"
             ]
            ],
            "type": "histogram2d"
           }
          ],
          "histogram2dcontour": [
           {
            "colorbar": {
             "outlinewidth": 0,
             "ticks": ""
            },
            "colorscale": [
             [
              0,
              "#0d0887"
             ],
             [
              0.1111111111111111,
              "#46039f"
             ],
             [
              0.2222222222222222,
              "#7201a8"
             ],
             [
              0.3333333333333333,
              "#9c179e"
             ],
             [
              0.4444444444444444,
              "#bd3786"
             ],
             [
              0.5555555555555556,
              "#d8576b"
             ],
             [
              0.6666666666666666,
              "#ed7953"
             ],
             [
              0.7777777777777778,
              "#fb9f3a"
             ],
             [
              0.8888888888888888,
              "#fdca26"
             ],
             [
              1,
              "#f0f921"
             ]
            ],
            "type": "histogram2dcontour"
           }
          ],
          "mesh3d": [
           {
            "colorbar": {
             "outlinewidth": 0,
             "ticks": ""
            },
            "type": "mesh3d"
           }
          ],
          "parcoords": [
           {
            "line": {
             "colorbar": {
              "outlinewidth": 0,
              "ticks": ""
             }
            },
            "type": "parcoords"
           }
          ],
          "pie": [
           {
            "automargin": true,
            "type": "pie"
           }
          ],
          "scatter": [
           {
            "marker": {
             "colorbar": {
              "outlinewidth": 0,
              "ticks": ""
             }
            },
            "type": "scatter"
           }
          ],
          "scatter3d": [
           {
            "line": {
             "colorbar": {
              "outlinewidth": 0,
              "ticks": ""
             }
            },
            "marker": {
             "colorbar": {
              "outlinewidth": 0,
              "ticks": ""
             }
            },
            "type": "scatter3d"
           }
          ],
          "scattercarpet": [
           {
            "marker": {
             "colorbar": {
              "outlinewidth": 0,
              "ticks": ""
             }
            },
            "type": "scattercarpet"
           }
          ],
          "scattergeo": [
           {
            "marker": {
             "colorbar": {
              "outlinewidth": 0,
              "ticks": ""
             }
            },
            "type": "scattergeo"
           }
          ],
          "scattergl": [
           {
            "marker": {
             "colorbar": {
              "outlinewidth": 0,
              "ticks": ""
             }
            },
            "type": "scattergl"
           }
          ],
          "scattermapbox": [
           {
            "marker": {
             "colorbar": {
              "outlinewidth": 0,
              "ticks": ""
             }
            },
            "type": "scattermapbox"
           }
          ],
          "scatterpolar": [
           {
            "marker": {
             "colorbar": {
              "outlinewidth": 0,
              "ticks": ""
             }
            },
            "type": "scatterpolar"
           }
          ],
          "scatterpolargl": [
           {
            "marker": {
             "colorbar": {
              "outlinewidth": 0,
              "ticks": ""
             }
            },
            "type": "scatterpolargl"
           }
          ],
          "scatterternary": [
           {
            "marker": {
             "colorbar": {
              "outlinewidth": 0,
              "ticks": ""
             }
            },
            "type": "scatterternary"
           }
          ],
          "surface": [
           {
            "colorbar": {
             "outlinewidth": 0,
             "ticks": ""
            },
            "colorscale": [
             [
              0,
              "#0d0887"
             ],
             [
              0.1111111111111111,
              "#46039f"
             ],
             [
              0.2222222222222222,
              "#7201a8"
             ],
             [
              0.3333333333333333,
              "#9c179e"
             ],
             [
              0.4444444444444444,
              "#bd3786"
             ],
             [
              0.5555555555555556,
              "#d8576b"
             ],
             [
              0.6666666666666666,
              "#ed7953"
             ],
             [
              0.7777777777777778,
              "#fb9f3a"
             ],
             [
              0.8888888888888888,
              "#fdca26"
             ],
             [
              1,
              "#f0f921"
             ]
            ],
            "type": "surface"
           }
          ],
          "table": [
           {
            "cells": {
             "fill": {
              "color": "#EBF0F8"
             },
             "line": {
              "color": "white"
             }
            },
            "header": {
             "fill": {
              "color": "#C8D4E3"
             },
             "line": {
              "color": "white"
             }
            },
            "type": "table"
           }
          ]
         },
         "layout": {
          "annotationdefaults": {
           "arrowcolor": "#2a3f5f",
           "arrowhead": 0,
           "arrowwidth": 1
          },
          "autotypenumbers": "strict",
          "coloraxis": {
           "colorbar": {
            "outlinewidth": 0,
            "ticks": ""
           }
          },
          "colorscale": {
           "diverging": [
            [
             0,
             "#8e0152"
            ],
            [
             0.1,
             "#c51b7d"
            ],
            [
             0.2,
             "#de77ae"
            ],
            [
             0.3,
             "#f1b6da"
            ],
            [
             0.4,
             "#fde0ef"
            ],
            [
             0.5,
             "#f7f7f7"
            ],
            [
             0.6,
             "#e6f5d0"
            ],
            [
             0.7,
             "#b8e186"
            ],
            [
             0.8,
             "#7fbc41"
            ],
            [
             0.9,
             "#4d9221"
            ],
            [
             1,
             "#276419"
            ]
           ],
           "sequential": [
            [
             0,
             "#0d0887"
            ],
            [
             0.1111111111111111,
             "#46039f"
            ],
            [
             0.2222222222222222,
             "#7201a8"
            ],
            [
             0.3333333333333333,
             "#9c179e"
            ],
            [
             0.4444444444444444,
             "#bd3786"
            ],
            [
             0.5555555555555556,
             "#d8576b"
            ],
            [
             0.6666666666666666,
             "#ed7953"
            ],
            [
             0.7777777777777778,
             "#fb9f3a"
            ],
            [
             0.8888888888888888,
             "#fdca26"
            ],
            [
             1,
             "#f0f921"
            ]
           ],
           "sequentialminus": [
            [
             0,
             "#0d0887"
            ],
            [
             0.1111111111111111,
             "#46039f"
            ],
            [
             0.2222222222222222,
             "#7201a8"
            ],
            [
             0.3333333333333333,
             "#9c179e"
            ],
            [
             0.4444444444444444,
             "#bd3786"
            ],
            [
             0.5555555555555556,
             "#d8576b"
            ],
            [
             0.6666666666666666,
             "#ed7953"
            ],
            [
             0.7777777777777778,
             "#fb9f3a"
            ],
            [
             0.8888888888888888,
             "#fdca26"
            ],
            [
             1,
             "#f0f921"
            ]
           ]
          },
          "colorway": [
           "#636efa",
           "#EF553B",
           "#00cc96",
           "#ab63fa",
           "#FFA15A",
           "#19d3f3",
           "#FF6692",
           "#B6E880",
           "#FF97FF",
           "#FECB52"
          ],
          "font": {
           "color": "#2a3f5f"
          },
          "geo": {
           "bgcolor": "white",
           "lakecolor": "white",
           "landcolor": "#E5ECF6",
           "showlakes": true,
           "showland": true,
           "subunitcolor": "white"
          },
          "hoverlabel": {
           "align": "left"
          },
          "hovermode": "closest",
          "mapbox": {
           "style": "light"
          },
          "paper_bgcolor": "white",
          "plot_bgcolor": "#E5ECF6",
          "polar": {
           "angularaxis": {
            "gridcolor": "white",
            "linecolor": "white",
            "ticks": ""
           },
           "bgcolor": "#E5ECF6",
           "radialaxis": {
            "gridcolor": "white",
            "linecolor": "white",
            "ticks": ""
           }
          },
          "scene": {
           "xaxis": {
            "backgroundcolor": "#E5ECF6",
            "gridcolor": "white",
            "gridwidth": 2,
            "linecolor": "white",
            "showbackground": true,
            "ticks": "",
            "zerolinecolor": "white"
           },
           "yaxis": {
            "backgroundcolor": "#E5ECF6",
            "gridcolor": "white",
            "gridwidth": 2,
            "linecolor": "white",
            "showbackground": true,
            "ticks": "",
            "zerolinecolor": "white"
           },
           "zaxis": {
            "backgroundcolor": "#E5ECF6",
            "gridcolor": "white",
            "gridwidth": 2,
            "linecolor": "white",
            "showbackground": true,
            "ticks": "",
            "zerolinecolor": "white"
           }
          },
          "shapedefaults": {
           "line": {
            "color": "#2a3f5f"
           }
          },
          "ternary": {
           "aaxis": {
            "gridcolor": "white",
            "linecolor": "white",
            "ticks": ""
           },
           "baxis": {
            "gridcolor": "white",
            "linecolor": "white",
            "ticks": ""
           },
           "bgcolor": "#E5ECF6",
           "caxis": {
            "gridcolor": "white",
            "linecolor": "white",
            "ticks": ""
           }
          },
          "title": {
           "x": 0.05
          },
          "xaxis": {
           "automargin": true,
           "gridcolor": "white",
           "linecolor": "white",
           "ticks": "",
           "title": {
            "standoff": 15
           },
           "zerolinecolor": "white",
           "zerolinewidth": 2
          },
          "yaxis": {
           "automargin": true,
           "gridcolor": "white",
           "linecolor": "white",
           "ticks": "",
           "title": {
            "standoff": 15
           },
           "zerolinecolor": "white",
           "zerolinewidth": 2
          }
         }
        },
        "xaxis": {
         "anchor": "y",
         "domain": [
          0,
          1
         ],
         "title": {
          "text": "Post Date"
         }
        },
        "yaxis": {
         "anchor": "x",
         "domain": [
          0,
          1
         ],
         "title": {
          "text": "pos"
         }
        }
       }
      },
      "text/html": [
       "<div>                            <div id=\"9f5d5f33-26b9-477e-aea2-6374557deb5b\" class=\"plotly-graph-div\" style=\"height:525px; width:100%;\"></div>            <script type=\"text/javascript\">                require([\"plotly\"], function(Plotly) {                    window.PLOTLYENV=window.PLOTLYENV || {};                                    if (document.getElementById(\"9f5d5f33-26b9-477e-aea2-6374557deb5b\")) {                    Plotly.newPlot(                        \"9f5d5f33-26b9-477e-aea2-6374557deb5b\",                        [{\"hovertemplate\": \"Sentiment=Neutral<br>Post Date=%{x}<br>pos=%{y}<extra></extra>\", \"legendgroup\": \"Neutral\", \"line\": {\"color\": \"#636efa\", \"dash\": \"solid\"}, \"mode\": \"lines\", \"name\": \"Neutral\", \"showlegend\": true, \"type\": \"scattergl\", \"x\": [\"2019-10-10T05:58:05.73\", \"2019-10-11T14:24:15.807\", \"2019-10-23T03:37:35.103\", \"2019-10-23T12:09:17.84\", \"2019-11-12T00:41:34.433\", \"2019-11-13T03:30:36.293\", \"2019-11-14T11:29:20.21\", \"2019-11-20T10:36:40.83\", \"2019-11-21T13:38:42.807\", \"2019-12-09T10:45:09.32\", \"2019-12-11T11:57:54.773\", \"2019-12-18T14:19:48.24\", \"2019-12-24T07:53:51.783\", \"2019-12-27T18:14:34.557\", \"2020-01-07T13:43:06.053\", \"2020-01-11T05:17:09.423\", \"2020-01-14T07:36:27.793\", \"2020-01-15T13:11:10.033\", \"2020-01-16T20:37:57.323\", \"2020-01-20T07:01:58.37\", \"2020-01-22T15:21:03.853\", \"2020-01-23T09:12:43.07\", \"2020-01-24T15:38:37.98\", \"2020-01-29T01:21:00.2\", \"2020-02-04T20:18:44.27\", \"2020-02-05T15:34:55.653\", \"2020-02-12T18:31:25.547\", \"2020-02-14T11:00:46.067\", \"2020-02-18T09:57:28.06\", \"2020-02-20T09:07:37.297\", \"2020-02-26T09:59:17.067\", \"2020-02-28T04:40:42.623\", \"2020-03-10T07:07:09.317\", \"2020-03-10T13:47:55.803\", \"2020-03-11T12:02:24.97\", \"2020-03-20T09:52:08.827\", \"2020-04-03T01:06:02.82\", \"2020-04-07T16:29:10.43\", \"2020-04-24T09:15:41.46\", \"2020-04-27T03:25:15.807\", \"2020-05-03T16:49:31.43\", \"2020-05-13T15:13:24.907\", \"2020-05-14T09:38:15.473\", \"2020-05-19T13:23:05.93\", \"2020-05-22T12:43:12.977\", \"2020-05-27T08:09:30.657\", \"2020-05-28T11:43:06.343\", \"2020-05-31T21:49:48.113\", \"2020-06-01T07:06:15.03\", \"2020-06-03T08:38:37.627\", \"2020-06-17T10:39:43.347\", \"2020-06-21T05:58:52.79\", \"2020-07-01T03:24:12.553\", \"2020-07-02T16:17:26.273\", \"2020-07-09T15:25:26.863\", \"2020-07-21T10:23:05.597\", \"2020-07-24T02:00:04.097\", \"2020-08-11T06:23:35.727\", \"2020-08-13T05:21:38.977\", \"2020-08-13T14:00:56.303\", \"2020-08-17T17:09:22.07\", \"2020-08-27T04:28:56.903\", \"2020-09-01T12:00:23.027\", \"2020-09-03T15:16:17.96\", \"2020-09-08T05:00:37.097\", \"2020-09-10T06:34:35.72\", \"2020-09-20T12:16:21.403\", \"2020-09-21T16:37:39.7\", \"2020-09-29T18:14:05.84\", \"2020-09-29T18:29:04.81\", \"2020-10-02T09:26:32.68\", \"2020-10-15T14:35:43.96\", \"2020-10-16T13:34:13.343\", \"2020-10-22T13:47:42.993\", \"2020-10-22T17:19:54.477\", \"2020-10-27T16:57:39.52\", \"2020-10-29T11:10:06.717\", \"2020-11-02T09:41:44.807\", \"2020-11-05T12:22:50.65\", \"2020-11-05T13:57:09.393\", \"2020-11-11T11:27:29.283\", \"2020-11-16T02:39:45.893\", \"2020-11-18T06:54:44.173\", \"2020-11-19T12:44:09.52\", \"2020-11-20T10:05:42.53\", \"2020-11-24T16:02:26.117\", \"2020-11-25T11:59:22.583\", \"2020-12-06T22:33:26.473\", \"2020-12-10T16:45:56.92\", \"2020-12-27T01:57:08.607\", \"2020-12-29T11:55:09.773\", \"2021-01-11T05:30:23.477\", \"2021-01-12T09:52:23.923\", \"2021-01-16T04:10:22.447\", \"2021-01-19T14:58:12.793\", \"2021-01-29T09:32:23.31\", \"2021-02-02T02:54:29.54\", \"2021-02-03T04:07:38.773\", \"2021-02-05T01:44:05.203\", \"2021-02-24T07:45:06.977\", \"2021-03-09T07:01:54.71\", \"2021-03-18T02:51:39.69\", \"2021-03-18T13:51:25.81\", \"2021-03-25T14:46:51.637\", \"2021-04-09T18:43:03.997\", \"2021-04-22T16:37:41.357\", \"2021-04-23T09:14:59.607\", \"2021-04-27T16:38:41.177\", \"2021-05-10T14:33:41.143\"], \"xaxis\": \"x\", \"y\": [0.064, 0.0, 0.0, 0.056, 0.0, 0.0, 0.0, 0.038, 0.0, 0.0, 0.0, 0.0, 0.0, 0.0, 0.0, 0.0, 0.0, 0.0, 0.0, 0.0, 0.052, 0.0, 0.0, 0.0, 0.0, 0.0, 0.055, 0.043, 0.022, 0.0, 0.0, 0.0, 0.0, 0.0, 0.0, 0.0, 0.0, 0.0, 0.0, 0.0, 0.0, 0.0, 0.0, 0.0, 0.054, 0.0, 0.0, 0.16, 0.0, 0.0, 0.0, 0.0, 0.0, 0.032, 0.0, 0.022, 0.0, 0.0, 0.051, 0.0, 0.179, 0.0, 0.0, 0.0, 0.0, 0.112, 0.0, 0.0, 0.0, 0.0, 0.01, 0.0, 0.0, 0.0, 0.0, 0.0, 0.0, 0.0, 0.0, 0.0, 0.11, 0.0, 0.056, 0.0, 0.055, 0.095, 0.0, 0.0, 0.0, 0.103, 0.0, 0.0, 0.09, 0.0, 0.0, 0.0, 0.025, 0.061, 0.0, 0.0, 0.0, 0.0, 0.0, 0.0, 0.092, 0.0, 0.0, 0.0, 0.0], \"yaxis\": \"y\"}, {\"hovertemplate\": \"Sentiment=Positive<br>Post Date=%{x}<br>pos=%{y}<extra></extra>\", \"legendgroup\": \"Positive\", \"line\": {\"color\": \"#EF553B\", \"dash\": \"solid\"}, \"mode\": \"lines\", \"name\": \"Positive\", \"showlegend\": true, \"type\": \"scattergl\", \"x\": [\"2019-10-10T12:44:35.957\", \"2019-10-10T14:56:52.947\", \"2019-10-10T15:41:06.877\", \"2019-10-10T20:56:53.483\", \"2019-10-11T13:10:28.983\", \"2019-10-11T16:02:41.787\", \"2019-10-13T20:01:08.897\", \"2019-10-14T08:33:18.01\", \"2019-10-16T11:20:54.023\", \"2019-10-16T14:12:45.5\", \"2019-10-17T09:14:34.753\", \"2019-10-17T10:16:15.513\", \"2019-10-17T12:09:02.91\", \"2019-10-17T23:59:14.523\", \"2019-10-18T14:58:06.717\", \"2019-10-21T06:08:38.347\", \"2019-10-21T16:06:55.323\", \"2019-10-22T08:16:13.563\", \"2019-10-22T16:27:23.92\", \"2019-10-22T18:07:48.827\", \"2019-10-23T08:20:38.087\", \"2019-10-23T11:38:26.887\", \"2019-10-24T04:42:08.237\", \"2019-10-24T09:59:56.077\", \"2019-10-24T16:34:04.713\", \"2019-10-28T15:36:47.907\", \"2019-10-29T06:01:19.783\", \"2019-10-29T10:29:47.95\", \"2019-10-29T16:46:32.203\", \"2019-10-29T17:04:40.463\", \"2019-10-30T04:45:07.257\", \"2019-10-30T15:33:07.45\", \"2019-10-30T18:41:07.37\", \"2019-10-31T12:35:06.993\", \"2019-11-01T07:44:02.54\", \"2019-11-04T17:47:37.86\", \"2019-11-06T06:04:59.007\", \"2019-11-06T10:08:50.95\", \"2019-11-06T10:27:39.52\", \"2019-11-08T20:33:59.89\", \"2019-11-09T11:37:29.693\", \"2019-11-11T05:59:42.987\", \"2019-11-11T11:39:44.857\", \"2019-11-11T13:02:34.017\", \"2019-11-12T18:42:03.247\", \"2019-11-13T09:35:33.91\", \"2019-11-13T23:52:26.683\", \"2019-11-14T06:03:35.53\", \"2019-11-14T09:45:03.713\", \"2019-11-14T13:10:08.303\", \"2019-11-18T04:12:03.657\", \"2019-11-18T15:17:49.503\", \"2019-11-18T16:11:15.36\", \"2019-11-18T17:18:32.137\", \"2019-11-18T19:25:44.17\", \"2019-11-19T02:48:28.417\", \"2019-11-19T10:27:37.423\", \"2019-11-19T11:00:35.74\", \"2019-11-19T20:00:10.803\", \"2019-11-20T12:24:54.847\", \"2019-11-21T00:07:58.053\", \"2019-11-21T14:08:12.47\", \"2019-11-21T18:13:29.69\", \"2019-11-22T07:29:58.45\", \"2019-11-22T12:44:01.59\", \"2019-11-23T12:26:35.197\", \"2019-11-26T08:17:12.663\", \"2019-11-27T10:39:18.173\", \"2019-11-27T21:15:11.89\", \"2019-11-28T04:58:07.76\", \"2019-12-02T07:06:03.57\", \"2019-12-02T15:42:44.927\", \"2019-12-02T21:04:51.46\", \"2019-12-03T07:56:40.55\", \"2019-12-03T10:45:44.023\", \"2019-12-04T11:59:55.687\", \"2019-12-05T11:04:33.51\", \"2019-12-05T12:28:17.997\", \"2019-12-09T07:25:39.22\", \"2019-12-09T10:53:03.993\", \"2019-12-09T12:45:56.217\", \"2019-12-10T08:52:36.997\", \"2019-12-10T10:14:02.33\", \"2019-12-10T11:53:33.71\", \"2019-12-10T18:25:49.657\", \"2019-12-11T11:26:46.79\", \"2019-12-12T11:05:43.68\", \"2019-12-13T09:43:03.027\", \"2019-12-17T03:54:27.833\", \"2019-12-17T05:30:55.173\", \"2019-12-17T09:31:11.343\", \"2019-12-17T11:21:51.1\", \"2019-12-17T12:36:10.797\", \"2019-12-17T22:05:31.297\", \"2019-12-18T02:18:53.803\", \"2019-12-18T04:43:33.147\", \"2019-12-18T07:43:12.083\", \"2019-12-20T14:25:22.243\", \"2019-12-21T07:31:20.647\", \"2019-12-26T08:18:44.133\", \"2019-12-26T11:59:21.053\", \"2019-12-28T03:55:55.687\", \"2019-12-30T13:08:12.05\", \"2019-12-30T13:53:51.783\", \"2020-01-02T06:49:33.107\", \"2020-01-02T09:53:02.633\", \"2020-01-02T16:36:17.35\", \"2020-01-03T12:08:04.033\", \"2020-01-03T16:41:12.803\", \"2020-01-06T12:19:26.157\", \"2020-01-06T17:04:29.283\", \"2020-01-06T17:40:07.413\", \"2020-01-07T04:10:45.22\", \"2020-01-07T04:51:00.893\", \"2020-01-07T10:24:06.313\", \"2020-01-07T11:18:19.473\", \"2020-01-07T15:38:23.8\", \"2020-01-07T16:18:56.733\", \"2020-01-08T16:28:49.287\", \"2020-01-09T01:31:01.17\", \"2020-01-09T06:33:51.44\", \"2020-01-09T12:05:38.153\", \"2020-01-10T15:06:17.673\", \"2020-01-10T15:54:12.933\", \"2020-01-13T12:21:50.72\", \"2020-01-13T13:00:29.71\", \"2020-01-14T15:06:33.63\", \"2020-01-15T04:12:20.593\", \"2020-01-15T09:52:42.417\", \"2020-01-15T19:14:38.547\", \"2020-01-16T10:00:09.903\", \"2020-01-16T17:27:43.697\", \"2020-01-18T01:12:31.457\", \"2020-01-18T07:43:39.573\", \"2020-01-20T00:07:25.07\", \"2020-01-20T06:57:25.193\", \"2020-01-20T06:59:28.963\", \"2020-01-20T14:25:20.393\", \"2020-01-20T14:45:16.097\", \"2020-01-22T15:07:27.347\", \"2020-01-23T08:30:02.617\", \"2020-01-25T16:27:33.3\", \"2020-01-27T12:47:35.913\", \"2020-01-27T13:06:07.103\", \"2020-01-27T19:11:17.547\", \"2020-01-30T18:43:33.303\", \"2020-01-31T00:48:04.5\", \"2020-01-31T08:03:58.81\", \"2020-02-01T05:35:29.75\", \"2020-02-02T13:10:27.66\", \"2020-02-02T17:09:13.667\", \"2020-02-03T04:12:16.153\", \"2020-02-04T09:46:39.103\", \"2020-02-05T12:57:51.92\", \"2020-02-07T10:19:14.993\", \"2020-02-10T12:07:23.167\", \"2020-02-10T12:23:06.927\", \"2020-02-10T12:51:43.717\", \"2020-02-10T17:12:39.753\", \"2020-02-11T17:58:49.54\", \"2020-02-12T06:28:17.963\", \"2020-02-12T14:03:31.393\", \"2020-02-12T15:16:51.137\", \"2020-02-13T04:33:31.503\", \"2020-02-13T07:03:33.427\", \"2020-02-17T16:50:09.627\", \"2020-02-18T02:27:54.503\", \"2020-02-18T10:33:31.103\", \"2020-02-18T11:09:26.847\", \"2020-02-20T18:55:20.497\", \"2020-02-21T04:19:57.7\", \"2020-02-21T06:32:06.093\", \"2020-02-21T12:36:02.74\", \"2020-02-21T13:01:12.36\", \"2020-02-21T18:07:34.15\", \"2020-02-23T02:07:04.06\", \"2020-02-24T05:14:04.183\", \"2020-02-24T09:39:05.69\", \"2020-02-24T15:46:47.507\", \"2020-02-25T03:52:03.343\", \"2020-02-26T16:38:14.707\", \"2020-02-27T12:11:29.997\", \"2020-02-28T10:58:22.157\", \"2020-02-28T12:00:12.227\", \"2020-02-28T12:41:38.88\", \"2020-02-29T01:03:40.683\", \"2020-03-01T02:40:06.913\", \"2020-03-01T10:01:48.487\", \"2020-03-01T23:59:56.043\", \"2020-03-02T14:28:29.457\", \"2020-03-03T00:00:27.147\", \"2020-03-03T04:30:14.143\", \"2020-03-03T06:44:29.51\", \"2020-03-03T07:23:34.21\", \"2020-03-04T03:34:45.237\", \"2020-03-04T10:43:21.66\", \"2020-03-05T20:40:47.497\", \"2020-03-06T16:53:23.053\", \"2020-03-07T06:36:24.19\", \"2020-03-08T12:22:18.35\", \"2020-03-08T18:22:20.403\", \"2020-03-09T07:47:26.907\", \"2020-03-10T02:49:49.197\", \"2020-03-12T03:22:56.907\", \"2020-03-12T05:01:18.27\", \"2020-03-12T09:32:11.43\", \"2020-03-12T16:24:51.943\", \"2020-03-13T02:20:48.573\", \"2020-03-13T18:05:09.727\", \"2020-03-16T05:51:59.12\", \"2020-03-16T13:41:01.863\", \"2020-03-17T01:11:48.753\", \"2020-03-17T02:14:25.67\", \"2020-03-17T11:01:28.317\", \"2020-03-18T06:06:20.797\", \"2020-03-19T09:31:32.573\", \"2020-03-20T09:02:42.493\", \"2020-03-22T12:10:06.073\", \"2020-03-22T23:11:53.447\", \"2020-03-23T11:06:50.057\", \"2020-03-23T23:34:21.613\", \"2020-03-24T16:40:36.357\", \"2020-03-25T05:31:26.553\", \"2020-03-25T13:28:17.627\", \"2020-03-25T13:53:46.49\", \"2020-03-27T09:21:56.483\", \"2020-03-28T01:28:47.883\", \"2020-03-30T09:08:24.897\", \"2020-03-30T15:21:41.037\", \"2020-03-30T21:20:56.607\", \"2020-03-31T11:25:34.507\", \"2020-03-31T13:27:36.39\", \"2020-04-01T16:02:10.643\", \"2020-04-02T00:43:12.03\", \"2020-04-07T12:32:04.843\", \"2020-04-08T00:15:17.853\", \"2020-04-08T03:50:11.817\", \"2020-04-08T10:13:33.427\", \"2020-04-08T18:27:22.337\", \"2020-04-10T09:08:10.833\", \"2020-04-10T19:21:56.537\", \"2020-04-13T10:16:13.573\", \"2020-04-13T12:45:52.543\", \"2020-04-13T14:36:36.72\", \"2020-04-14T08:25:03.7\", \"2020-04-15T05:26:43.887\", \"2020-04-16T17:32:12.887\", \"2020-04-17T17:21:10.267\", \"2020-04-17T18:09:09.38\", \"2020-04-17T19:28:32.667\", \"2020-04-20T06:46:13.263\", \"2020-04-20T09:45:40.793\", \"2020-04-21T06:43:58.953\", \"2020-04-22T17:52:12.143\", \"2020-04-23T11:51:48.66\", \"2020-04-23T12:48:56.067\", \"2020-04-23T13:42:27.423\", \"2020-04-23T19:33:37.777\", \"2020-04-24T12:08:53.497\", \"2020-04-24T17:33:44.47\", \"2020-04-27T11:04:11.827\", \"2020-04-27T12:09:32.6\", \"2020-04-28T14:16:24.483\", \"2020-04-28T14:23:25.457\", \"2020-04-28T14:54:09.24\", \"2020-04-28T15:58:10.627\", \"2020-04-29T06:42:53.09\", \"2020-04-29T11:08:12.53\", \"2020-04-30T10:03:05.167\", \"2020-05-01T07:55:41.06\", \"2020-05-01T13:27:08.093\", \"2020-05-01T18:13:11.793\", \"2020-05-05T07:56:04.453\", \"2020-05-05T08:43:05.083\", \"2020-05-05T19:02:17.003\", \"2020-05-06T01:58:51.927\", \"2020-05-06T09:55:41.613\", \"2020-05-06T11:33:27.64\", \"2020-05-07T07:48:02.343\", \"2020-05-07T14:40:24.16\", \"2020-05-07T17:22:42.663\", \"2020-05-07T17:58:50.36\", \"2020-05-08T11:05:30.22\", \"2020-05-08T18:50:29.917\", \"2020-05-10T15:38:34.823\", \"2020-05-10T22:06:56.483\", \"2020-05-11T04:18:33.723\", \"2020-05-11T10:39:05.677\", \"2020-05-11T18:12:14.043\", \"2020-05-12T06:46:53.073\", \"2020-05-12T23:39:37.837\", \"2020-05-13T12:09:34.583\", \"2020-05-14T13:46:07.237\", \"2020-05-19T01:36:19.2\", \"2020-05-19T10:58:19.68\", \"2020-05-19T22:57:51.593\", \"2020-05-19T23:57:36.38\", \"2020-05-21T08:01:48.667\", \"2020-05-21T16:17:26.79\", \"2020-05-22T13:38:46.373\", \"2020-05-26T04:19:19.857\", \"2020-05-26T05:29:41.38\", \"2020-05-27T09:42:57.963\", \"2020-05-27T11:51:09.957\", \"2020-05-27T16:13:12.423\", \"2020-05-28T10:50:38.12\", \"2020-05-28T13:55:04.59\", \"2020-05-28T13:55:17.233\", \"2020-05-28T15:02:38.937\", \"2020-06-01T03:45:36.143\", \"2020-06-01T23:54:24.347\", \"2020-06-02T06:25:02.487\", \"2020-06-04T08:46:29.137\", \"2020-06-04T08:47:30.443\", \"2020-06-05T08:37:45.887\", \"2020-06-08T11:30:52.127\", \"2020-06-10T15:48:56.787\", \"2020-06-11T05:44:23.893\", \"2020-06-11T10:48:33.063\", \"2020-06-11T16:44:25.303\", \"2020-06-12T04:26:21.537\", \"2020-06-13T20:34:20.54\", \"2020-06-15T00:18:26.877\", \"2020-06-15T18:21:18.607\", \"2020-06-17T07:44:27.62\", \"2020-06-17T18:17:42.787\", \"2020-06-17T21:20:44.363\", \"2020-06-18T03:41:34.283\", \"2020-06-18T18:45:45.943\", \"2020-06-19T05:28:43.413\", \"2020-06-19T07:23:48.88\", \"2020-06-19T13:04:31.18\", \"2020-06-19T13:05:50.277\", \"2020-06-20T20:04:07.61\", \"2020-06-22T07:57:18.433\", \"2020-06-22T15:20:53.23\", \"2020-06-22T17:32:37.193\", \"2020-06-25T03:09:04.55\", \"2020-06-26T07:38:55.12\", \"2020-07-01T08:43:32.99\", \"2020-07-02T09:20:12.7\", \"2020-07-02T10:21:06.57\", \"2020-07-08T09:33:24.407\", \"2020-07-08T16:56:19.757\", \"2020-07-09T16:22:26.66\", \"2020-07-09T16:28:26.983\", \"2020-07-10T15:53:37.277\", \"2020-07-10T18:57:48.173\", \"2020-07-14T05:01:01.39\", \"2020-07-15T03:11:16.5\", \"2020-07-15T06:32:14.56\", \"2020-07-15T17:54:55.167\", \"2020-07-16T04:35:29.63\", \"2020-07-16T07:33:35.41\", \"2020-07-16T11:36:35.183\", \"2020-07-16T16:31:52.563\", \"2020-07-20T23:00:15.057\", \"2020-07-21T06:17:01.253\", \"2020-07-21T15:20:11.183\", \"2020-07-22T05:55:52.447\", \"2020-07-22T16:48:52.953\", \"2020-07-22T23:35:16.743\", \"2020-07-23T15:51:45.183\", \"2020-07-23T16:46:00.053\", \"2020-07-27T13:56:35.087\", \"2020-07-28T11:16:57.777\", \"2020-07-28T11:20:26.603\", \"2020-07-28T11:47:30.707\", \"2020-07-29T08:18:11.907\", \"2020-07-29T09:13:44.577\", \"2020-07-29T10:45:28.61\", \"2020-07-30T14:51:34.69\", \"2020-07-30T16:20:18.783\", \"2020-08-03T14:31:32.377\", \"2020-08-03T15:16:16.62\", \"2020-08-05T12:27:19.103\", \"2020-08-05T13:19:23.943\", \"2020-08-06T12:04:03.013\", \"2020-08-07T15:34:48.087\", \"2020-08-10T12:13:23.673\", \"2020-08-11T03:18:56.48\", \"2020-08-12T07:54:44.907\", \"2020-08-13T09:27:35.497\", \"2020-08-13T13:58:17.28\", \"2020-08-13T19:32:19.49\", \"2020-08-14T04:43:10.42\", \"2020-08-14T10:33:47.637\", \"2020-08-14T14:39:35.21\", \"2020-08-18T07:01:56.34\", \"2020-08-19T10:47:49.9\", \"2020-08-19T14:31:13.88\", \"2020-08-20T16:16:04.203\", \"2020-08-20T18:20:03.123\", \"2020-08-21T02:02:10.857\", \"2020-08-21T14:50:21.077\", \"2020-08-21T15:36:03.473\", \"2020-08-24T02:26:12.913\", \"2020-08-24T03:55:16.187\", \"2020-08-24T07:30:08.877\", \"2020-08-24T09:13:29.1\", \"2020-08-25T09:37:23.29\", \"2020-08-25T13:34:40.817\", \"2020-08-26T02:11:50.003\", \"2020-08-26T10:34:15.32\", \"2020-08-26T11:13:50.613\", \"2020-08-27T11:25:26.827\", \"2020-08-27T11:40:36.677\", \"2020-08-27T14:20:01.203\", \"2020-08-27T14:59:03.177\", \"2020-08-28T04:12:14.89\", \"2020-08-28T12:20:32.08\", \"2020-08-31T09:41:46.203\", \"2020-09-01T08:29:04.687\", \"2020-09-02T13:28:25.653\", \"2020-09-03T02:01:33.75\", \"2020-09-03T09:26:58.127\", \"2020-09-03T11:55:40.83\", \"2020-09-04T02:35:33.15\", \"2020-09-07T03:14:01.783\", \"2020-09-08T03:24:11.603\", \"2020-09-08T05:40:25.34\", \"2020-09-08T12:13:05.57\", \"2020-09-08T14:17:04.713\", \"2020-09-09T14:46:03.91\", \"2020-09-09T15:33:09.883\", \"2020-09-10T06:00:56.927\", \"2020-09-10T12:15:08.11\", \"2020-09-10T16:25:03.4\", \"2020-09-11T11:54:43.767\", \"2020-09-11T17:57:16.44\", \"2020-09-13T05:09:37.187\", \"2020-09-13T12:40:21.163\", \"2020-09-14T08:48:44.357\", \"2020-09-15T08:11:30.217\", \"2020-09-15T11:40:17.6\", \"2020-09-15T19:54:20.857\", \"2020-09-16T06:13:11.593\", \"2020-09-16T08:15:45.44\", \"2020-09-16T09:57:44.517\", \"2020-09-16T12:02:57.383\", \"2020-09-16T14:20:14.03\", \"2020-09-16T16:01:59.473\", \"2020-09-16T16:33:38.75\", \"2020-09-16T16:52:38.42\", \"2020-09-17T11:41:44.053\", \"2020-09-17T14:55:23.447\", \"2020-09-17T16:37:00.077\", \"2020-09-18T07:33:41.723\", \"2020-09-18T10:46:34.367\", \"2020-09-21T09:58:43.167\", \"2020-09-21T16:47:19.263\", \"2020-09-22T00:02:42.337\", \"2020-09-22T06:17:08.973\", \"2020-09-22T12:21:03.637\", \"2020-09-23T12:45:54.313\", \"2020-09-23T14:50:02.017\", \"2020-09-23T14:50:53.77\", \"2020-09-23T14:51:39.347\", \"2020-09-23T15:15:00.187\", \"2020-09-24T13:12:57.107\", \"2020-09-24T19:12:48.583\", \"2020-09-25T06:21:34.47\", \"2020-09-25T15:10:56.223\", \"2020-09-25T21:10:47.287\", \"2020-09-27T03:01:48.877\", \"2020-09-28T07:28:53.443\", \"2020-09-28T13:41:47.603\", \"2020-09-29T10:42:52.203\", \"2020-09-29T10:58:24.237\", \"2020-09-29T11:43:39.463\", \"2020-10-01T04:05:51.267\", \"2020-10-01T15:18:19.523\", \"2020-10-04T06:57:42.663\", \"2020-10-06T10:36:52.983\", \"2020-10-06T12:46:04.483\", \"2020-10-07T04:36:43.39\", \"2020-10-07T16:31:35.887\", \"2020-10-07T16:43:08.117\", \"2020-10-08T08:52:50.623\", \"2020-10-09T02:01:00.407\", \"2020-10-12T09:03:36.163\", \"2020-10-12T20:34:39.057\", \"2020-10-14T06:43:01.837\", \"2020-10-14T09:31:09.873\", \"2020-10-14T13:41:44.907\", \"2020-10-14T13:52:09.94\", \"2020-10-15T06:57:57.13\", \"2020-10-16T10:01:41.817\", \"2020-10-16T12:33:29.753\", \"2020-10-17T11:21:17.997\", \"2020-10-17T21:00:48.037\", \"2020-10-19T15:39:33.853\", \"2020-10-19T22:07:22.383\", \"2020-10-20T03:00:27.94\", \"2020-10-21T04:53:38.967\", \"2020-10-21T06:22:02.867\", \"2020-10-21T09:30:56.74\", \"2020-10-21T10:44:23.66\", \"2020-10-22T14:31:26.257\", \"2020-10-22T17:17:54.993\", \"2020-10-23T07:50:08.56\", \"2020-10-23T12:09:06.92\", \"2020-10-23T16:06:11.243\", \"2020-10-24T16:03:56.137\", \"2020-10-25T08:22:12.38\", \"2020-10-25T16:01:58.43\", \"2020-10-26T05:46:15.347\", \"2020-10-29T02:25:33.677\", \"2020-10-29T14:45:52.203\", \"2020-10-30T15:24:32.273\", \"2020-11-03T09:15:35.397\", \"2020-11-03T14:16:21.633\", \"2020-11-04T08:18:34.06\", \"2020-11-06T03:12:33.02\", \"2020-11-07T02:30:08.94\", \"2020-11-08T12:42:54.723\", \"2020-11-08T12:48:07.61\", \"2020-11-09T10:51:40.613\", \"2020-11-11T05:50:59.56\", \"2020-11-11T09:58:05.707\", \"2020-11-11T15:13:05.847\", \"2020-11-11T16:53:07.01\", \"2020-11-12T05:28:55.913\", \"2020-11-12T14:47:17.27\", \"2020-11-13T03:08:25.797\", \"2020-11-14T14:04:27.383\", \"2020-11-16T11:23:16.327\", \"2020-11-16T11:25:19.08\", \"2020-11-18T11:32:37.993\", \"2020-11-18T12:30:24.143\", \"2020-11-18T12:37:55.147\", \"2020-11-18T19:18:53.403\", \"2020-11-19T09:30:41.29\", \"2020-11-20T14:00:44.387\", \"2020-11-20T16:00:00.39\", \"2020-11-21T05:08:51.133\", \"2020-11-22T23:21:07.067\", \"2020-11-23T01:58:09.64\", \"2020-11-24T10:58:17.443\", \"2020-11-24T15:09:06.143\", \"2020-11-24T20:48:57.933\", \"2020-11-25T12:40:55.58\", \"2020-11-25T14:28:28.507\", \"2020-11-25T15:43:04.867\", \"2020-11-30T16:32:19.377\", \"2020-12-02T09:26:16.583\", \"2020-12-04T18:13:27.287\", \"2020-12-06T08:25:07.433\", \"2020-12-08T11:32:56.12\", \"2020-12-08T12:43:52.023\", \"2020-12-08T15:13:24.93\", \"2020-12-09T10:04:40.567\", \"2020-12-10T03:32:44.07\", \"2020-12-10T16:03:19.67\", \"2020-12-15T11:43:28.143\", \"2020-12-15T13:24:34.04\", \"2020-12-16T05:04:16.433\", \"2020-12-16T13:34:06.637\", \"2020-12-16T21:46:56.413\", \"2020-12-18T03:06:14.177\", \"2020-12-18T11:11:07.787\", \"2020-12-21T17:49:39.223\", \"2020-12-22T05:06:26.697\", \"2020-12-23T10:59:14.423\", \"2020-12-24T00:03:53.283\", \"2020-12-26T15:56:58.257\", \"2020-12-27T11:57:47.007\", \"2020-12-27T14:12:00.18\", \"2020-12-28T10:34:01.52\", \"2020-12-28T11:57:21.447\", \"2020-12-29T17:22:22.603\", \"2020-12-30T10:05:14.57\", \"2020-12-31T18:03:21.66\", \"2021-01-01T07:00:15.443\", \"2021-01-03T22:55:07.463\", \"2021-01-04T07:41:29.507\", \"2021-01-04T07:48:38.72\", \"2021-01-04T08:49:11.093\", \"2021-01-04T12:26:12.183\", \"2021-01-05T09:54:38.063\", \"2021-01-05T10:07:21.227\", \"2021-01-05T20:16:38.75\", \"2021-01-06T12:25:16.487\", \"2021-01-06T14:50:39.423\", \"2021-01-07T00:43:54.317\", \"2021-01-08T03:57:53.35\", \"2021-01-11T16:25:58.88\", \"2021-01-11T22:44:21.93\", \"2021-01-12T07:40:27.073\", \"2021-01-14T13:55:54.143\", \"2021-01-15T11:36:31.313\", \"2021-01-16T19:32:13.78\", \"2021-01-18T05:59:41.04\", \"2021-01-19T13:53:44.657\", \"2021-01-20T07:11:18.693\", \"2021-01-20T15:38:36.633\", \"2021-01-20T16:13:02.5\", \"2021-01-21T17:46:44.013\", \"2021-01-22T13:54:36.95\", \"2021-01-22T15:20:52.107\", \"2021-01-23T00:52:07.6\", \"2021-01-25T03:57:52.733\", \"2021-01-25T10:05:26.427\", \"2021-01-25T12:51:33.14\", \"2021-01-25T17:07:17.423\", \"2021-01-27T09:22:55.277\", \"2021-01-27T09:22:55.547\", \"2021-01-27T09:28:32.857\", \"2021-01-28T11:33:34.887\", \"2021-01-29T05:09:45.457\", \"2021-01-30T02:44:24.313\", \"2021-02-01T14:35:54.11\", \"2021-02-02T09:15:33.837\", \"2021-02-04T18:52:41.68\", \"2021-02-07T01:35:51.77\", \"2021-02-07T03:45:35.85\", \"2021-02-07T22:47:17.563\", \"2021-02-08T04:21:46.14\", \"2021-02-08T20:23:34.343\", \"2021-02-09T05:36:55.147\", \"2021-02-09T07:28:04.943\", \"2021-02-10T11:48:40.4\", \"2021-02-10T17:28:34.27\", \"2021-02-11T16:40:26.987\", \"2021-02-11T21:31:20.58\", \"2021-02-12T05:54:48.23\", \"2021-02-12T09:56:04.773\", \"2021-02-12T15:06:05.92\", \"2021-02-12T15:07:52.33\", \"2021-02-13T02:53:30.073\", \"2021-02-14T04:45:31.08\", \"2021-02-14T15:10:09.8\", \"2021-02-15T21:50:52.64\", \"2021-02-16T06:32:23.97\", \"2021-02-16T09:44:47.337\", \"2021-02-17T01:00:17.45\", \"2021-02-17T01:25:49.423\", \"2021-02-17T17:57:59.497\", \"2021-02-18T04:41:42.563\", \"2021-02-19T11:17:25.39\", \"2021-02-22T01:18:39.76\", \"2021-02-22T10:22:26.3\", \"2021-02-23T05:30:07.697\", \"2021-02-23T08:25:50.447\", \"2021-02-23T15:53:46.57\", \"2021-02-24T12:36:00.77\", \"2021-02-25T08:53:44.637\", \"2021-02-25T10:29:48.393\", \"2021-02-25T16:43:06.273\", \"2021-02-26T09:23:09.993\", \"2021-02-26T18:47:43.037\", \"2021-02-27T11:08:57.667\", \"2021-03-01T09:13:33.787\", \"2021-03-01T19:39:59.55\", \"2021-03-02T09:23:36.847\", \"2021-03-02T11:18:39.363\", \"2021-03-02T16:31:12.837\", \"2021-03-03T05:13:37.897\", \"2021-03-03T06:44:32.35\", \"2021-03-03T08:54:25\", \"2021-03-04T02:36:22.257\", \"2021-03-05T08:22:11.3\", \"2021-03-09T11:09:19.763\", \"2021-03-09T14:55:21.58\", \"2021-03-10T04:36:07.837\", \"2021-03-10T15:24:21.857\", \"2021-03-10T16:00:02.613\", \"2021-03-11T04:20:04.103\", \"2021-03-11T09:00:30.913\", \"2021-03-11T17:30:43.753\", \"2021-03-12T02:34:21.683\", \"2021-03-12T03:28:33.083\", \"2021-03-12T11:48:47.203\", \"2021-03-13T10:25:21.143\", \"2021-03-14T17:29:30.287\", \"2021-03-15T10:13:43.667\", \"2021-03-15T10:53:54.233\", \"2021-03-17T17:02:54.86\", \"2021-03-19T07:21:13.43\", \"2021-03-20T01:34:53.61\", \"2021-03-23T12:14:18.863\", \"2021-03-24T12:58:46.5\", \"2021-03-25T03:17:53.38\", \"2021-03-25T16:39:59.577\", \"2021-03-26T14:27:14.173\", \"2021-03-30T12:29:47.413\", \"2021-03-30T12:53:22.887\", \"2021-03-31T05:04:42.15\", \"2021-03-31T06:38:42.34\", \"2021-04-01T08:14:49.057\", \"2021-04-06T19:28:50.28\", \"2021-04-08T17:31:25.08\", \"2021-04-10T02:53:00.28\", \"2021-04-12T10:52:25.73\", \"2021-04-12T12:12:10.283\", \"2021-04-12T15:13:07.097\", \"2021-04-14T03:27:41.803\", \"2021-04-15T08:57:58.05\", \"2021-04-15T12:20:03.933\", \"2021-04-19T09:41:09.173\", \"2021-04-20T07:00:28.707\", \"2021-04-20T15:43:56.607\", \"2021-04-21T11:38:15.18\", \"2021-04-22T04:29:17.66\", \"2021-04-22T04:48:51.64\", \"2021-04-22T06:55:40.56\", \"2021-04-22T16:43:27\", \"2021-04-23T00:03:22.743\", \"2021-04-23T11:09:05.35\", \"2021-04-27T07:40:14.087\", \"2021-04-27T10:25:08.213\", \"2021-04-27T13:53:38.607\", \"2021-04-27T14:05:34.707\", \"2021-04-27T16:17:23.083\", \"2021-04-28T06:07:57.33\", \"2021-04-28T11:44:20.84\", \"2021-04-28T14:08:31.08\", \"2021-04-28T14:15:54.817\", \"2021-04-29T02:16:11.49\", \"2021-04-30T07:03:44.607\", \"2021-04-30T08:43:37.07\", \"2021-05-04T03:26:26.993\", \"2021-05-04T09:31:18.373\", \"2021-05-05T10:48:30.583\", \"2021-05-05T14:59:26.737\", \"2021-05-06T04:52:27.5\", \"2021-05-06T05:44:31.317\", \"2021-05-06T14:47:18.237\", \"2021-05-06T15:36:56.423\", \"2021-05-06T19:21:40.677\", \"2021-05-07T11:58:25.423\", \"2021-05-07T12:44:00.26\", \"2021-05-11T11:11:22.967\", \"2021-05-11T14:33:52.803\", \"2021-05-12T19:29:45.887\", \"2021-05-14T10:04:28.7\", \"2021-05-17T00:14:13.58\", \"2021-05-17T05:24:41.617\", \"2021-05-17T10:22:56.957\", \"2021-05-17T12:12:39.573\", \"2021-05-20T08:11:58.513\", \"2021-05-21T02:17:15.373\", \"2021-05-24T03:14:14.447\", \"2021-05-24T05:55:56.8\", \"2021-05-24T14:55:23.877\", \"2021-05-25T10:09:32.81\", \"2021-05-25T23:18:10.647\", \"2021-05-25T23:21:55.333\", \"2021-05-26T05:39:30.67\", \"2021-05-28T11:21:25.033\", \"2021-05-28T13:33:13.153\", \"2021-05-29T21:45:02.2\", \"2021-05-30T01:41:31.68\", \"2021-05-30T08:11:59.69\", \"2021-06-02T07:44:14.63\", \"2021-06-02T12:18:46.267\", \"2021-06-02T13:14:26.307\", \"2021-06-02T13:40:25.58\", \"2021-06-02T13:53:43.85\", \"2021-06-02T15:54:57.997\", \"2021-06-02T16:37:04.77\", \"2021-06-03T02:17:04.61\", \"2021-06-03T04:52:06.57\", \"2021-06-03T09:19:09.593\", \"2021-06-03T19:44:17.527\", \"2021-06-04T05:25:16.927\", \"2021-06-04T10:11:48.013\", \"2021-06-08T04:53:56.6\", \"2021-06-08T10:57:39.363\"], \"xaxis\": \"x\", \"y\": [0.063, 0.102, 0.198, 0.102, 0.09, 0.184, 0.094, 0.075, 0.054, 0.082, 0.105, 0.158, 0.071, 0.255, 0.102, 0.236, 0.114, 0.106, 0.135, 0.244, 0.204, 0.185, 0.058, 0.088, 0.102, 0.115, 0.067, 0.047, 0.221, 0.115, 0.172, 0.154, 0.093, 0.159, 0.086, 0.24, 0.161, 0.185, 0.096, 0.102, 0.153, 0.203, 0.057, 0.041, 0.139, 0.101, 0.095, 0.151, 0.11, 0.142, 0.256, 0.124, 0.134, 0.203, 0.077, 0.091, 0.177, 0.209, 0.028, 0.091, 0.085, 0.075, 0.168, 0.335, 0.071, 0.358, 0.122, 0.097, 0.087, 0.136, 0.059, 0.179, 0.102, 0.211, 0.129, 0.113, 0.253, 0.035, 0.223, 0.11, 0.195, 0.082, 0.056, 0.033, 0.017, 0.208, 0.13, 0.079, 0.173, 0.174, 0.07, 0.189, 0.331, 0.152, 0.112, 0.125, 0.181, 0.236, 0.213, 0.104, 0.17, 0.055, 0.094, 0.216, 0.089, 0.149, 0.102, 0.138, 0.091, 0.21, 0.083, 0.143, 0.089, 0.112, 0.072, 0.033, 0.069, 0.102, 0.211, 0.091, 0.218, 0.16, 0.209, 0.077, 0.167, 0.038, 0.119, 0.158, 0.222, 0.119, 0.293, 0.132, 0.221, 0.104, 0.089, 0.09, 0.167, 0.103, 0.108, 0.119, 0.202, 0.107, 0.083, 0.034, 0.112, 0.112, 0.103, 0.064, 0.101, 0.12, 0.15, 0.076, 0.102, 0.062, 0.072, 0.223, 0.036, 0.073, 0.102, 0.013, 0.072, 0.094, 0.096, 0.031, 0.133, 0.153, 0.118, 0.072, 0.097, 0.066, 0.326, 0.069, 0.103, 0.057, 0.103, 0.062, 0.147, 0.116, 0.122, 0.128, 0.147, 0.057, 0.116, 0.167, 0.101, 0.081, 0.278, 0.142, 0.108, 0.102, 0.074, 0.086, 0.08, 0.225, 0.157, 0.282, 0.13, 0.102, 0.122, 0.272, 0.168, 0.136, 0.116, 0.192, 0.138, 0.119, 0.08, 0.112, 0.086, 0.143, 0.04, 0.119, 0.172, 0.286, 0.177, 0.137, 0.182, 0.134, 0.134, 0.211, 0.238, 0.092, 0.152, 0.155, 0.217, 0.126, 0.133, 0.244, 0.302, 0.234, 0.205, 0.335, 0.096, 0.165, 0.078, 0.192, 0.13, 0.069, 0.122, 0.22, 0.102, 0.118, 0.104, 0.172, 0.078, 0.116, 0.265, 0.042, 0.075, 0.129, 0.033, 0.086, 0.042, 0.029, 0.3, 0.202, 0.155, 0.156, 0.085, 0.078, 0.102, 0.19, 0.102, 0.102, 0.156, 0.16, 0.141, 0.103, 0.194, 0.194, 0.086, 0.099, 0.142, 0.09, 0.09, 0.154, 0.071, 0.101, 0.108, 0.045, 0.046, 0.166, 0.184, 0.1, 0.22, 0.14, 0.131, 0.079, 0.336, 0.058, 0.12, 0.077, 0.105, 0.068, 0.245, 0.144, 0.123, 0.02, 0.078, 0.101, 0.069, 0.095, 0.113, 0.044, 0.077, 0.038, 0.173, 0.14, 0.111, 0.236, 0.078, 0.093, 0.107, 0.102, 0.102, 0.068, 0.095, 0.085, 0.101, 0.153, 0.08, 0.133, 0.254, 0.124, 0.071, 0.089, 0.096, 0.143, 0.173, 0.239, 0.06, 0.075, 0.075, 0.321, 0.133, 0.143, 0.097, 0.182, 0.134, 0.046, 0.094, 0.159, 0.067, 0.148, 0.088, 0.077, 0.186, 0.102, 0.131, 0.191, 0.102, 0.16, 0.043, 0.161, 0.132, 0.156, 0.152, 0.101, 0.221, 0.1, 0.282, 0.05, 0.129, 0.079, 0.231, 0.122, 0.206, 0.24, 0.256, 0.234, 0.086, 0.101, 0.091, 0.197, 0.32, 0.064, 0.136, 0.138, 0.106, 0.142, 0.078, 0.114, 0.064, 0.097, 0.102, 0.043, 0.049, 0.12, 0.055, 0.167, 0.064, 0.081, 0.11, 0.201, 0.133, 0.091, 0.221, 0.135, 0.166, 0.151, 0.092, 0.143, 0.138, 0.098, 0.16, 0.185, 0.23, 0.069, 0.116, 0.106, 0.094, 0.157, 0.093, 0.188, 0.054, 0.034, 0.21, 0.127, 0.124, 0.16, 0.203, 0.115, 0.046, 0.271, 0.077, 0.088, 0.161, 0.143, 0.161, 0.079, 0.08, 0.183, 0.076, 0.098, 0.091, 0.134, 0.07, 0.146, 0.112, 0.153, 0.25, 0.103, 0.216, 0.227, 0.088, 0.107, 0.059, 0.249, 0.119, 0.133, 0.076, 0.038, 0.161, 0.162, 0.255, 0.075, 0.075, 0.075, 0.115, 0.188, 0.18, 0.207, 0.09, 0.044, 0.084, 0.231, 0.101, 0.237, 0.073, 0.243, 0.038, 0.053, 0.062, 0.356, 0.181, 0.167, 0.11, 0.102, 0.084, 0.062, 0.159, 0.141, 0.09, 0.096, 0.276, 0.164, 0.179, 0.112, 0.097, 0.265, 0.222, 0.094, 0.04, 0.129, 0.22, 0.167, 0.065, 0.169, 0.2, 0.036, 0.067, 0.083, 0.102, 0.055, 0.041, 0.047, 0.052, 0.159, 0.123, 0.136, 0.19, 0.042, 0.121, 0.193, 0.04, 0.138, 0.087, 0.284, 0.1, 0.153, 0.172, 0.041, 0.219, 0.072, 0.047, 0.122, 0.165, 0.115, 0.079, 0.081, 0.098, 0.079, 0.171, 0.076, 0.189, 0.263, 0.135, 0.16, 0.27, 0.102, 0.112, 0.063, 0.114, 0.084, 0.102, 0.209, 0.156, 0.071, 0.033, 0.213, 0.255, 0.157, 0.073, 0.113, 0.107, 0.206, 0.079, 0.174, 0.105, 0.213, 0.103, 0.063, 0.213, 0.17, 0.174, 0.253, 0.331, 0.11, 0.213, 0.22, 0.061, 0.112, 0.058, 0.079, 0.079, 0.372, 0.048, 0.152, 0.18, 0.302, 0.141, 0.178, 0.116, 0.149, 0.052, 0.158, 0.22, 0.227, 0.184, 0.2, 0.166, 0.087, 0.076, 0.094, 0.382, 0.116, 0.15, 0.162, 0.197, 0.065, 0.212, 0.047, 0.044, 0.213, 0.028, 0.123, 0.173, 0.077, 0.118, 0.093, 0.267, 0.197, 0.085, 0.125, 0.122, 0.174, 0.062, 0.131, 0.111, 0.163, 0.134, 0.204, 0.197, 0.128, 0.032, 0.203, 0.129, 0.068, 0.068, 0.127, 0.067, 0.146, 0.288, 0.087, 0.243, 0.097, 0.216, 0.201, 0.088, 0.119, 0.186, 0.235, 0.129, 0.071, 0.061, 0.135, 0.192, 0.129, 0.173, 0.134, 0.12, 0.181, 0.135, 0.058, 0.062, 0.205, 0.18, 0.153, 0.073, 0.173, 0.077, 0.199, 0.033, 0.394, 0.121, 0.109, 0.099, 0.05, 0.045, 0.035, 0.093, 0.137, 0.199, 0.145, 0.104, 0.099, 0.182, 0.2, 0.154, 0.071, 0.186, 0.18, 0.105, 0.333, 0.156, 0.081, 0.135, 0.148, 0.204, 0.195, 0.148, 0.022, 0.278, 0.083, 0.106, 0.232, 0.292, 0.171, 0.259, 0.038, 0.246, 0.051, 0.077, 0.053, 0.071, 0.152, 0.119, 0.357, 0.118, 0.148, 0.121, 0.134, 0.18, 0.059, 0.349, 0.277, 0.097, 0.234, 0.171, 0.143, 0.14, 0.104, 0.114, 0.224, 0.101, 0.046, 0.089, 0.11, 0.121, 0.049, 0.187, 0.164, 0.156, 0.087, 0.068, 0.162, 0.129, 0.331, 0.125, 0.114, 0.116, 0.114, 0.067, 0.292, 0.078, 0.248, 0.104, 0.104, 0.184, 0.127, 0.127, 0.077, 0.036, 0.211, 0.08, 0.294, 0.135, 0.056, 0.163, 0.074, 0.107, 0.123, 0.138, 0.211, 0.105, 0.174, 0.048, 0.23, 0.06], \"yaxis\": \"y\"}, {\"hovertemplate\": \"Sentiment=Negative<br>Post Date=%{x}<br>pos=%{y}<extra></extra>\", \"legendgroup\": \"Negative\", \"line\": {\"color\": \"#00cc96\", \"dash\": \"solid\"}, \"mode\": \"lines\", \"name\": \"Negative\", \"showlegend\": true, \"type\": \"scattergl\", \"x\": [\"2019-10-14T05:55:32.553\", \"2019-10-14T22:38:08.26\", \"2019-10-21T09:43:33.513\", \"2019-10-21T12:40:40.86\", \"2019-10-23T06:23:11.657\", \"2019-10-24T06:19:46.603\", \"2019-10-24T14:04:33.85\", \"2019-10-25T11:54:33.85\", \"2019-10-30T08:21:45.053\", \"2019-10-30T18:45:20.75\", \"2019-10-31T23:57:45.833\", \"2019-11-01T07:45:56.387\", \"2019-11-10T01:44:11.28\", \"2019-11-14T03:28:57.637\", \"2019-11-18T10:12:47.987\", \"2019-11-20T05:47:36.783\", \"2019-11-29T02:39:25.357\", \"2019-12-03T14:56:05.093\", \"2019-12-03T16:06:57.23\", \"2019-12-09T07:10:55.167\", \"2019-12-10T07:50:29.637\", \"2019-12-10T10:55:22.36\", \"2019-12-12T10:17:39.717\", \"2019-12-20T08:29:43.793\", \"2019-12-21T07:25:05.07\", \"2019-12-24T06:44:49.68\", \"2020-01-03T04:40:24.317\", \"2020-01-05T08:26:52.923\", \"2020-01-14T07:18:24.06\", \"2020-01-16T01:35:18.87\", \"2020-01-20T17:44:58.307\", \"2020-01-24T06:49:45.39\", \"2020-01-29T10:26:02.32\", \"2020-02-03T09:59:10.557\", \"2020-02-03T13:33:12.313\", \"2020-02-05T11:30:08.943\", \"2020-02-11T17:09:02.48\", \"2020-02-12T09:04:32.27\", \"2020-02-12T14:51:42.37\", \"2020-02-14T10:24:51.933\", \"2020-02-26T12:34:35.337\", \"2020-03-04T20:50:43.727\", \"2020-03-10T11:43:30.047\", \"2020-03-17T10:57:57.617\", \"2020-03-17T12:46:10.82\", \"2020-03-17T17:40:54.64\", \"2020-03-30T04:21:56.913\", \"2020-04-09T23:22:33.47\", \"2020-04-14T04:48:03.713\", \"2020-04-14T11:03:59.167\", \"2020-04-16T08:10:59.29\", \"2020-04-16T16:12:38.977\", \"2020-04-16T16:41:02.65\", \"2020-04-23T02:31:29.827\", \"2020-04-23T17:09:27.673\", \"2020-05-05T10:32:52.917\", \"2020-05-06T07:12:28.073\", \"2020-05-06T10:17:41.447\", \"2020-05-07T03:54:23.82\", \"2020-05-07T10:30:47.55\", \"2020-05-12T07:44:49.72\", \"2020-05-13T09:12:49.927\", \"2020-05-13T14:43:08.657\", \"2020-05-14T03:52:10.373\", \"2020-05-14T17:51:27.473\", \"2020-05-19T22:05:27.747\", \"2020-05-20T07:46:08.763\", \"2020-05-22T09:04:36.597\", \"2020-05-24T07:44:59.96\", \"2020-05-25T11:51:41.683\", \"2020-05-25T12:12:56.96\", \"2020-05-28T04:33:45.413\", \"2020-05-28T21:23:28.48\", \"2020-05-31T11:34:13.967\", \"2020-06-01T02:08:55.463\", \"2020-06-02T05:15:07.377\", \"2020-06-08T10:15:40.8\", \"2020-06-17T09:23:08.72\", \"2020-06-17T10:47:18.047\", \"2020-06-19T05:37:59.09\", \"2020-06-29T17:02:31.54\", \"2020-07-06T05:50:50.78\", \"2020-07-06T09:19:59.403\", \"2020-07-10T08:52:51.04\", \"2020-07-11T20:29:03.777\", \"2020-07-13T02:40:11.35\", \"2020-07-17T14:17:43.9\", \"2020-07-20T13:16:24.25\", \"2020-07-21T04:25:05.703\", \"2020-07-21T11:25:17.723\", \"2020-07-24T15:17:29.263\", \"2020-07-31T03:00:29.553\", \"2020-08-01T06:40:03.033\", \"2020-08-02T08:21:09.453\", \"2020-08-06T16:30:31.317\", \"2020-08-11T20:18:22.113\", \"2020-08-14T06:48:55.553\", \"2020-08-17T10:09:37.347\", \"2020-08-18T10:10:32.407\", \"2020-09-03T14:53:10.197\", \"2020-09-04T08:34:40.003\", \"2020-09-08T10:35:57.717\", \"2020-09-09T04:14:26.247\", \"2020-09-09T07:05:09.473\", \"2020-09-09T19:09:12.01\", \"2020-09-11T14:32:09.763\", \"2020-09-22T03:04:06.773\", \"2020-09-22T12:56:21.417\", \"2020-09-23T07:34:25.193\", \"2020-09-27T00:39:00.507\", \"2020-09-30T11:28:12.57\", \"2020-10-05T01:11:31.057\", \"2020-10-05T22:58:21.4\", \"2020-10-07T04:49:35.287\", \"2020-10-07T06:19:26.927\", \"2020-10-08T07:26:39.637\", \"2020-10-08T16:26:59.76\", \"2020-10-09T19:17:29.443\", \"2020-10-13T13:02:42.213\", \"2020-10-13T18:32:15.773\", \"2020-10-16T18:36:31.273\", \"2020-10-19T22:07:38.62\", \"2020-10-20T16:35:09.947\", \"2020-10-21T12:58:42.72\", \"2020-10-21T13:33:08.743\", \"2020-10-21T14:06:01.427\", \"2020-10-28T05:57:09.547\", \"2020-10-28T13:28:28.833\", \"2020-10-28T15:58:04.637\", \"2020-10-29T01:39:26.437\", \"2020-11-02T16:14:49.56\", \"2020-11-09T08:23:02.983\", \"2020-11-11T06:00:38.383\", \"2020-11-12T18:39:57.223\", \"2020-11-13T18:33:05.46\", \"2020-11-18T11:41:37.49\", \"2020-11-19T16:56:39.44\", \"2020-11-25T11:17:47.587\", \"2020-11-25T13:13:05.463\", \"2020-11-26T11:43:14.277\", \"2020-12-02T15:54:46.727\", \"2020-12-03T15:45:18.923\", \"2020-12-06T07:13:50.297\", \"2020-12-08T06:45:13.323\", \"2020-12-08T12:43:05.35\", \"2020-12-11T09:05:13.287\", \"2020-12-16T11:24:45.933\", \"2020-12-16T16:31:08.12\", \"2020-12-21T08:30:12.503\", \"2020-12-22T04:59:41.42\", \"2020-12-23T09:59:10.2\", \"2020-12-28T02:51:24.99\", \"2020-12-28T15:09:46.85\", \"2020-12-29T08:45:35.597\", \"2020-12-29T15:13:04.71\", \"2021-01-09T23:27:17.513\", \"2021-01-12T06:59:45.843\", \"2021-01-12T08:16:59.57\", \"2021-01-12T23:48:05.1\", \"2021-01-15T06:20:18.943\", \"2021-01-16T07:56:33.363\", \"2021-01-18T00:23:54.957\", \"2021-01-20T07:58:12.823\", \"2021-01-21T09:00:33.853\", \"2021-01-27T01:26:58.78\", \"2021-01-27T13:06:46.71\", \"2021-02-03T06:28:55.87\", \"2021-02-03T14:28:38.48\", \"2021-02-05T09:38:55.053\", \"2021-02-08T14:35:14.027\", \"2021-02-10T06:07:45.91\", \"2021-02-10T13:30:52.19\", \"2021-02-16T14:37:14.58\", \"2021-02-17T00:44:34.993\", \"2021-02-26T11:57:02.543\", \"2021-02-27T07:31:29.457\", \"2021-03-03T03:05:35.877\", \"2021-03-03T09:20:39.307\", \"2021-03-03T16:19:15.397\", \"2021-03-04T11:01:28.96\", \"2021-03-06T06:54:56.57\", \"2021-03-09T11:05:19.053\", \"2021-03-09T17:00:23.213\", \"2021-03-16T07:06:57.6\", \"2021-03-16T15:19:27.047\", \"2021-03-19T11:31:47.557\", \"2021-03-22T03:47:12.6\", \"2021-03-24T09:04:13.813\", \"2021-04-07T14:44:07.22\", \"2021-04-09T14:10:26.533\", \"2021-04-10T03:29:32.747\", \"2021-04-10T15:57:59.943\", \"2021-04-20T11:43:36.217\", \"2021-04-22T07:32:19.79\", \"2021-04-30T15:41:33.667\", \"2021-05-06T06:08:48.817\", \"2021-05-06T10:55:46.883\", \"2021-05-11T16:15:01.67\", \"2021-05-14T08:27:02.38\", \"2021-05-17T10:44:03.017\", \"2021-05-17T12:41:24.27\", \"2021-05-18T00:14:22.057\", \"2021-05-19T09:46:33.497\", \"2021-05-23T15:49:03.797\", \"2021-05-25T16:41:37.953\", \"2021-05-27T07:12:50.66\", \"2021-06-03T04:46:03.063\", \"2021-06-04T19:14:13.09\"], \"xaxis\": \"x\", \"y\": [0.017, 0.052, 0.034, 0.021, 0.044, 0.049, 0.106, 0.057, 0.11, 0.058, 0.027, 0.052, 0.038, 0.028, 0.038, 0.055, 0.107, 0.066, 0.0, 0.026, 0.049, 0.042, 0.0, 0.0, 0.031, 0.0, 0.113, 0.038, 0.102, 0.016, 0.079, 0.046, 0.033, 0.058, 0.017, 0.0, 0.03, 0.031, 0.017, 0.09, 0.0, 0.061, 0.101, 0.0, 0.073, 0.022, 0.078, 0.095, 0.068, 0.0, 0.029, 0.0, 0.014, 0.0, 0.0, 0.0, 0.031, 0.049, 0.12, 0.0, 0.115, 0.0, 0.026, 0.0, 0.046, 0.198, 0.113, 0.0, 0.065, 0.0, 0.0, 0.027, 0.074, 0.047, 0.0, 0.029, 0.045, 0.028, 0.046, 0.0, 0.0, 0.014, 0.0, 0.015, 0.043, 0.051, 0.092, 0.039, 0.0, 0.065, 0.028, 0.058, 0.041, 0.091, 0.048, 0.142, 0.106, 0.056, 0.064, 0.0, 0.052, 0.049, 0.053, 0.049, 0.026, 0.053, 0.0, 0.018, 0.042, 0.04, 0.024, 0.065, 0.077, 0.0, 0.0, 0.034, 0.036, 0.0, 0.0, 0.037, 0.012, 0.045, 0.033, 0.043, 0.082, 0.077, 0.159, 0.0, 0.038, 0.048, 0.0, 0.041, 0.0, 0.027, 0.043, 0.066, 0.042, 0.103, 0.059, 0.126, 0.092, 0.0, 0.107, 0.066, 0.063, 0.014, 0.062, 0.0, 0.041, 0.11, 0.032, 0.087, 0.052, 0.0, 0.0, 0.069, 0.0, 0.079, 0.094, 0.204, 0.105, 0.055, 0.14, 0.0, 0.059, 0.034, 0.107, 0.039, 0.058, 0.059, 0.0, 0.049, 0.192, 0.015, 0.0, 0.107, 0.03, 0.0, 0.0, 0.054, 0.048, 0.024, 0.0, 0.0, 0.066, 0.0, 0.057, 0.108, 0.066, 0.035, 0.07, 0.039, 0.129, 0.078, 0.03, 0.115, 0.072, 0.092, 0.042, 0.076, 0.032, 0.102, 0.0, 0.092, 0.016, 0.0, 0.1, 0.02], \"yaxis\": \"y\"}],                        {\"legend\": {\"title\": {\"text\": \"Sentiment\"}, \"tracegroupgap\": 0}, \"margin\": {\"t\": 60}, \"template\": {\"data\": {\"bar\": [{\"error_x\": {\"color\": \"#2a3f5f\"}, \"error_y\": {\"color\": \"#2a3f5f\"}, \"marker\": {\"line\": {\"color\": \"#E5ECF6\", \"width\": 0.5}}, \"type\": \"bar\"}], \"barpolar\": [{\"marker\": {\"line\": {\"color\": \"#E5ECF6\", \"width\": 0.5}}, \"type\": \"barpolar\"}], \"carpet\": [{\"aaxis\": {\"endlinecolor\": \"#2a3f5f\", \"gridcolor\": \"white\", \"linecolor\": \"white\", \"minorgridcolor\": \"white\", \"startlinecolor\": \"#2a3f5f\"}, \"baxis\": {\"endlinecolor\": \"#2a3f5f\", \"gridcolor\": \"white\", \"linecolor\": \"white\", \"minorgridcolor\": \"white\", \"startlinecolor\": \"#2a3f5f\"}, \"type\": \"carpet\"}], \"choropleth\": [{\"colorbar\": {\"outlinewidth\": 0, \"ticks\": \"\"}, \"type\": \"choropleth\"}], \"contour\": [{\"colorbar\": {\"outlinewidth\": 0, \"ticks\": \"\"}, \"colorscale\": [[0.0, \"#0d0887\"], [0.1111111111111111, \"#46039f\"], [0.2222222222222222, \"#7201a8\"], [0.3333333333333333, \"#9c179e\"], [0.4444444444444444, \"#bd3786\"], [0.5555555555555556, \"#d8576b\"], [0.6666666666666666, \"#ed7953\"], [0.7777777777777778, \"#fb9f3a\"], [0.8888888888888888, \"#fdca26\"], [1.0, \"#f0f921\"]], \"type\": \"contour\"}], \"contourcarpet\": [{\"colorbar\": {\"outlinewidth\": 0, \"ticks\": \"\"}, \"type\": \"contourcarpet\"}], \"heatmap\": [{\"colorbar\": {\"outlinewidth\": 0, \"ticks\": \"\"}, \"colorscale\": [[0.0, \"#0d0887\"], [0.1111111111111111, \"#46039f\"], [0.2222222222222222, \"#7201a8\"], [0.3333333333333333, \"#9c179e\"], [0.4444444444444444, \"#bd3786\"], [0.5555555555555556, \"#d8576b\"], [0.6666666666666666, \"#ed7953\"], [0.7777777777777778, \"#fb9f3a\"], [0.8888888888888888, \"#fdca26\"], [1.0, \"#f0f921\"]], \"type\": \"heatmap\"}], \"heatmapgl\": [{\"colorbar\": {\"outlinewidth\": 0, \"ticks\": \"\"}, \"colorscale\": [[0.0, \"#0d0887\"], [0.1111111111111111, \"#46039f\"], [0.2222222222222222, \"#7201a8\"], [0.3333333333333333, \"#9c179e\"], [0.4444444444444444, \"#bd3786\"], [0.5555555555555556, \"#d8576b\"], [0.6666666666666666, \"#ed7953\"], [0.7777777777777778, \"#fb9f3a\"], [0.8888888888888888, \"#fdca26\"], [1.0, \"#f0f921\"]], \"type\": \"heatmapgl\"}], \"histogram\": [{\"marker\": {\"colorbar\": {\"outlinewidth\": 0, \"ticks\": \"\"}}, \"type\": \"histogram\"}], \"histogram2d\": [{\"colorbar\": {\"outlinewidth\": 0, \"ticks\": \"\"}, \"colorscale\": [[0.0, \"#0d0887\"], [0.1111111111111111, \"#46039f\"], [0.2222222222222222, \"#7201a8\"], [0.3333333333333333, \"#9c179e\"], [0.4444444444444444, \"#bd3786\"], [0.5555555555555556, \"#d8576b\"], [0.6666666666666666, \"#ed7953\"], [0.7777777777777778, \"#fb9f3a\"], [0.8888888888888888, \"#fdca26\"], [1.0, \"#f0f921\"]], \"type\": \"histogram2d\"}], \"histogram2dcontour\": [{\"colorbar\": {\"outlinewidth\": 0, \"ticks\": \"\"}, \"colorscale\": [[0.0, \"#0d0887\"], [0.1111111111111111, \"#46039f\"], [0.2222222222222222, \"#7201a8\"], [0.3333333333333333, \"#9c179e\"], [0.4444444444444444, \"#bd3786\"], [0.5555555555555556, \"#d8576b\"], [0.6666666666666666, \"#ed7953\"], [0.7777777777777778, \"#fb9f3a\"], [0.8888888888888888, \"#fdca26\"], [1.0, \"#f0f921\"]], \"type\": \"histogram2dcontour\"}], \"mesh3d\": [{\"colorbar\": {\"outlinewidth\": 0, \"ticks\": \"\"}, \"type\": \"mesh3d\"}], \"parcoords\": [{\"line\": {\"colorbar\": {\"outlinewidth\": 0, \"ticks\": \"\"}}, \"type\": \"parcoords\"}], \"pie\": [{\"automargin\": true, \"type\": \"pie\"}], \"scatter\": [{\"marker\": {\"colorbar\": {\"outlinewidth\": 0, \"ticks\": \"\"}}, \"type\": \"scatter\"}], \"scatter3d\": [{\"line\": {\"colorbar\": {\"outlinewidth\": 0, \"ticks\": \"\"}}, \"marker\": {\"colorbar\": {\"outlinewidth\": 0, \"ticks\": \"\"}}, \"type\": \"scatter3d\"}], \"scattercarpet\": [{\"marker\": {\"colorbar\": {\"outlinewidth\": 0, \"ticks\": \"\"}}, \"type\": \"scattercarpet\"}], \"scattergeo\": [{\"marker\": {\"colorbar\": {\"outlinewidth\": 0, \"ticks\": \"\"}}, \"type\": \"scattergeo\"}], \"scattergl\": [{\"marker\": {\"colorbar\": {\"outlinewidth\": 0, \"ticks\": \"\"}}, \"type\": \"scattergl\"}], \"scattermapbox\": [{\"marker\": {\"colorbar\": {\"outlinewidth\": 0, \"ticks\": \"\"}}, \"type\": \"scattermapbox\"}], \"scatterpolar\": [{\"marker\": {\"colorbar\": {\"outlinewidth\": 0, \"ticks\": \"\"}}, \"type\": \"scatterpolar\"}], \"scatterpolargl\": [{\"marker\": {\"colorbar\": {\"outlinewidth\": 0, \"ticks\": \"\"}}, \"type\": \"scatterpolargl\"}], \"scatterternary\": [{\"marker\": {\"colorbar\": {\"outlinewidth\": 0, \"ticks\": \"\"}}, \"type\": \"scatterternary\"}], \"surface\": [{\"colorbar\": {\"outlinewidth\": 0, \"ticks\": \"\"}, \"colorscale\": [[0.0, \"#0d0887\"], [0.1111111111111111, \"#46039f\"], [0.2222222222222222, \"#7201a8\"], [0.3333333333333333, \"#9c179e\"], [0.4444444444444444, \"#bd3786\"], [0.5555555555555556, \"#d8576b\"], [0.6666666666666666, \"#ed7953\"], [0.7777777777777778, \"#fb9f3a\"], [0.8888888888888888, \"#fdca26\"], [1.0, \"#f0f921\"]], \"type\": \"surface\"}], \"table\": [{\"cells\": {\"fill\": {\"color\": \"#EBF0F8\"}, \"line\": {\"color\": \"white\"}}, \"header\": {\"fill\": {\"color\": \"#C8D4E3\"}, \"line\": {\"color\": \"white\"}}, \"type\": \"table\"}]}, \"layout\": {\"annotationdefaults\": {\"arrowcolor\": \"#2a3f5f\", \"arrowhead\": 0, \"arrowwidth\": 1}, \"autotypenumbers\": \"strict\", \"coloraxis\": {\"colorbar\": {\"outlinewidth\": 0, \"ticks\": \"\"}}, \"colorscale\": {\"diverging\": [[0, \"#8e0152\"], [0.1, \"#c51b7d\"], [0.2, \"#de77ae\"], [0.3, \"#f1b6da\"], [0.4, \"#fde0ef\"], [0.5, \"#f7f7f7\"], [0.6, \"#e6f5d0\"], [0.7, \"#b8e186\"], [0.8, \"#7fbc41\"], [0.9, \"#4d9221\"], [1, \"#276419\"]], \"sequential\": [[0.0, \"#0d0887\"], [0.1111111111111111, \"#46039f\"], [0.2222222222222222, \"#7201a8\"], [0.3333333333333333, \"#9c179e\"], [0.4444444444444444, \"#bd3786\"], [0.5555555555555556, \"#d8576b\"], [0.6666666666666666, \"#ed7953\"], [0.7777777777777778, \"#fb9f3a\"], [0.8888888888888888, \"#fdca26\"], [1.0, \"#f0f921\"]], \"sequentialminus\": [[0.0, \"#0d0887\"], [0.1111111111111111, \"#46039f\"], [0.2222222222222222, \"#7201a8\"], [0.3333333333333333, \"#9c179e\"], [0.4444444444444444, \"#bd3786\"], [0.5555555555555556, \"#d8576b\"], [0.6666666666666666, \"#ed7953\"], [0.7777777777777778, \"#fb9f3a\"], [0.8888888888888888, \"#fdca26\"], [1.0, \"#f0f921\"]]}, \"colorway\": [\"#636efa\", \"#EF553B\", \"#00cc96\", \"#ab63fa\", \"#FFA15A\", \"#19d3f3\", \"#FF6692\", \"#B6E880\", \"#FF97FF\", \"#FECB52\"], \"font\": {\"color\": \"#2a3f5f\"}, \"geo\": {\"bgcolor\": \"white\", \"lakecolor\": \"white\", \"landcolor\": \"#E5ECF6\", \"showlakes\": true, \"showland\": true, \"subunitcolor\": \"white\"}, \"hoverlabel\": {\"align\": \"left\"}, \"hovermode\": \"closest\", \"mapbox\": {\"style\": \"light\"}, \"paper_bgcolor\": \"white\", \"plot_bgcolor\": \"#E5ECF6\", \"polar\": {\"angularaxis\": {\"gridcolor\": \"white\", \"linecolor\": \"white\", \"ticks\": \"\"}, \"bgcolor\": \"#E5ECF6\", \"radialaxis\": {\"gridcolor\": \"white\", \"linecolor\": \"white\", \"ticks\": \"\"}}, \"scene\": {\"xaxis\": {\"backgroundcolor\": \"#E5ECF6\", \"gridcolor\": \"white\", \"gridwidth\": 2, \"linecolor\": \"white\", \"showbackground\": true, \"ticks\": \"\", \"zerolinecolor\": \"white\"}, \"yaxis\": {\"backgroundcolor\": \"#E5ECF6\", \"gridcolor\": \"white\", \"gridwidth\": 2, \"linecolor\": \"white\", \"showbackground\": true, \"ticks\": \"\", \"zerolinecolor\": \"white\"}, \"zaxis\": {\"backgroundcolor\": \"#E5ECF6\", \"gridcolor\": \"white\", \"gridwidth\": 2, \"linecolor\": \"white\", \"showbackground\": true, \"ticks\": \"\", \"zerolinecolor\": \"white\"}}, \"shapedefaults\": {\"line\": {\"color\": \"#2a3f5f\"}}, \"ternary\": {\"aaxis\": {\"gridcolor\": \"white\", \"linecolor\": \"white\", \"ticks\": \"\"}, \"baxis\": {\"gridcolor\": \"white\", \"linecolor\": \"white\", \"ticks\": \"\"}, \"bgcolor\": \"#E5ECF6\", \"caxis\": {\"gridcolor\": \"white\", \"linecolor\": \"white\", \"ticks\": \"\"}}, \"title\": {\"x\": 0.05}, \"xaxis\": {\"automargin\": true, \"gridcolor\": \"white\", \"linecolor\": \"white\", \"ticks\": \"\", \"title\": {\"standoff\": 15}, \"zerolinecolor\": \"white\", \"zerolinewidth\": 2}, \"yaxis\": {\"automargin\": true, \"gridcolor\": \"white\", \"linecolor\": \"white\", \"ticks\": \"\", \"title\": {\"standoff\": 15}, \"zerolinecolor\": \"white\", \"zerolinewidth\": 2}}}, \"xaxis\": {\"anchor\": \"y\", \"domain\": [0.0, 1.0], \"title\": {\"text\": \"Post Date\"}}, \"yaxis\": {\"anchor\": \"x\", \"domain\": [0.0, 1.0], \"title\": {\"text\": \"pos\"}}},                        {\"responsive\": true}                    ).then(function(){\n",
       "                            \n",
       "var gd = document.getElementById('9f5d5f33-26b9-477e-aea2-6374557deb5b');\n",
       "var x = new MutationObserver(function (mutations, observer) {{\n",
       "        var display = window.getComputedStyle(gd).display;\n",
       "        if (!display || display === 'none') {{\n",
       "            console.log([gd, 'removed!']);\n",
       "            Plotly.purge(gd);\n",
       "            observer.disconnect();\n",
       "        }}\n",
       "}});\n",
       "\n",
       "// Listen for the removal of the full notebook cells\n",
       "var notebookContainer = gd.closest('#notebook-container');\n",
       "if (notebookContainer) {{\n",
       "    x.observe(notebookContainer, {childList: true});\n",
       "}}\n",
       "\n",
       "// Listen for the clearing of the current output cell\n",
       "var outputEl = gd.closest('.output');\n",
       "if (outputEl) {{\n",
       "    x.observe(outputEl, {childList: true});\n",
       "}}\n",
       "\n",
       "                        })                };                });            </script>        </div>"
      ]
     },
     "metadata": {},
     "output_type": "display_data"
    }
   ],
   "source": [
    "fig = px.line(df2, x='Post Date', y='pos', color='Sentiment')\n",
    "fig.show()"
   ]
  },
  {
   "cell_type": "code",
   "execution_count": 214,
   "metadata": {},
   "outputs": [
    {
     "name": "stderr",
     "output_type": "stream",
     "text": [
      "C:\\Users\\BDelamater\\Anaconda3\\lib\\site-packages\\ipykernel\\ipkernel.py:287: DeprecationWarning:\n",
      "\n",
      "`should_run_async` will not call `transform_cell` automatically in the future. Please pass the result to `transformed_cell` argument and any exception that happen during thetransform in `preprocessing_exc_tuple` in IPython 7.17 and above.\n",
      "\n"
     ]
    }
   ],
   "source": [
    "# fig = go.figure(\n",
    "#     go.Table(\n",
    "#         columnwidth = [50,300,60,40,40],\n",
    "#         header=dict(\n",
    "#             values=[\"Timestamp\", \"Forum_Post_Raw\", \"User DisplayName\", \"Negative\", \"Neutral\", \"Positive\"],\n",
    "#             font=dict(size=10),\n",
    "#             align=\"left\"\n",
    "#         ),\n",
    "#         # cells=dict(\n",
    "#         #     values=[tweets[[\"created_at\",\"text\", \"screen_name\", \"neg\", \"neu\", \"pos\"]]],\n",
    "#         #     align = \"left\")\n",
    "#         cells=dict(values=[df['Post Date'], df.Forum_Post_Raw, df['User DisplayName'], df.neg, df.neu, df.pos],\n",
    "#                 fill_color = [[rowOddColor,rowEvenColor,rowOddColor, rowEvenColor,rowOddColor]*5],\n",
    "#                 align=['left', 'left', 'left', 'center', 'center', 'center'])        \n",
    "#     ),\n",
    "#     row=1, col=1\n",
    "# )\n",
    "# fig.update_layout(\n",
    "#     height=800,\n",
    "#     showlegend=False,\n",
    "#     title_text=\"Twitter Sentiment for \" + GraphTitle,\n",
    "# )\n",
    "\n",
    "\n",
    "\n",
    "\n",
    "# headerColor = 'grey'\n",
    "# rowEvenColor = 'lightgrey'\n",
    "# rowOddColor = 'white'\n",
    "# alignment = ['left', 'left', 'left', 'center', 'center', 'center']\n",
    "\n",
    "# fig = go.Figure(data=[go.Table(\n",
    "#     columnwidth = [30,300,60,40,40],\n",
    "#     header=dict(values=[\"Timestamp\", \"Forum_Post_Raw\", \"User DisplayName\", \"Negative\", \"Neutral\", \"Positive\"],\n",
    "#                 fill_color=headerColor,\n",
    "#                 align=alignment),\n",
    "#     cells=dict(values=[df['PostDate'].dt.strftime(\"%m/%d/%y %H:%M:%S\"), df.Forum_Post_Raw, df['User DisplayName'], df.neg, df.neu, df.pos],\n",
    "#                fill_color = [[rowOddColor,rowEvenColor]*df.shape[0]],\n",
    "#                align=alignment))\n",
    "# ])\n",
    "\n",
    "# fig.show()"
   ]
  },
  {
   "cell_type": "code",
   "execution_count": 215,
   "metadata": {},
   "outputs": [
    {
     "name": "stderr",
     "output_type": "stream",
     "text": [
      "C:\\Users\\BDelamater\\Anaconda3\\lib\\site-packages\\ipykernel\\ipkernel.py:287: DeprecationWarning:\n",
      "\n",
      "`should_run_async` will not call `transform_cell` automatically in the future. Please pass the result to `transformed_cell` argument and any exception that happen during thetransform in `preprocessing_exc_tuple` in IPython 7.17 and above.\n",
      "\n"
     ]
    }
   ],
   "source": [
    "# headerColor = 'grey'\n",
    "# rowEvenColor = 'lightgrey'\n",
    "# rowOddColor = 'white'\n",
    "\n",
    "# # for i, row in enumerate(df_Forum[\"Post Date\"]):\n",
    "# #     p = re.compile(\" 00:00:00\")\n",
    "# #     datetime = p.split(df[\"Post Date\"][i])[0]\n",
    "# #     df.iloc[i, 1] = datetime\n",
    "\n",
    "# fig = make_subplots(\n",
    "#     rows=3, cols=1,\n",
    "#     shared_xaxes=True,\n",
    "#     vertical_spacing=0.03,\n",
    "#     specs=[[{\"type\": \"table\"}],\n",
    "#            [{\"type\": \"scatter\"}],\n",
    "#            [{\"type\": \"scatter\"}]]\n",
    "# )\n",
    "\n",
    "# fig.add_trace(\n",
    "#     go.Scatter(\n",
    "#         x=df[\"Post Date\"],\n",
    "#         y=df[\"pos\"],\n",
    "#         mode=\"lines\",\n",
    "#         name=\"Positive Sentiment\"\n",
    "#     ),\n",
    "#     row=3, col=1\n",
    "# )\n",
    "\n",
    "# fig.add_trace(\n",
    "#     go.Scatter(\n",
    "#         x=df[\"Post Date\"],\n",
    "#         y=df[\"neg\"],\n",
    "#         mode=\"lines\",\n",
    "#         name=\"Negative Sentiment\"\n",
    "#     ),\n",
    "#     row=2, col=1\n",
    "# )\n",
    "\n",
    "# fig.add_trace(\n",
    "#     go.Table(\n",
    "#         columnwidth = [50,300,60,40,40],\n",
    "#         header=dict(\n",
    "#             values=[\"Timestamp\", \"Forum_Post_Raw\", \"User DisplayName\", \"Negative\", \"Neutral\", \"Positive\"],\n",
    "#             font=dict(size=10),\n",
    "#             align=\"left\"\n",
    "#         ),\n",
    "#         # cells=dict(\n",
    "#         #     values=[tweets[[\"created_at\",\"text\", \"screen_name\", \"neg\", \"neu\", \"pos\"]]],\n",
    "#         #     align = \"left\")\n",
    "#         cells=dict(values=[df['Post Date'], df.Forum_Post_Raw, df['User DisplayName'], df.neg, df.neu, df.pos],\n",
    "#                 fill_color = [[rowOddColor,rowEvenColor,rowOddColor, rowEvenColor,rowOddColor]*5],\n",
    "#                 align=['left', 'left', 'left', 'center', 'center', 'center'])        \n",
    "#     ),\n",
    "#     row=1, col=1\n",
    "# )\n",
    "# fig.update_layout(\n",
    "#     height=800,\n",
    "#     showlegend=False,\n",
    "#     title_text=\"Twitter Sentiment for \" + GraphTitle,\n",
    "# )\n",
    "\n",
    "# fig.write_html('Sentiment.html')\n",
    "# fig.show()"
   ]
  },
  {
   "cell_type": "code",
   "execution_count": 216,
   "metadata": {},
   "outputs": [
    {
     "name": "stderr",
     "output_type": "stream",
     "text": [
      "C:\\Users\\BDelamater\\Anaconda3\\lib\\site-packages\\ipykernel\\ipkernel.py:287: DeprecationWarning:\n",
      "\n",
      "`should_run_async` will not call `transform_cell` automatically in the future. Please pass the result to `transformed_cell` argument and any exception that happen during thetransform in `preprocessing_exc_tuple` in IPython 7.17 and above.\n",
      "\n"
     ]
    }
   ],
   "source": [
    "features = ['Forum_Post_Raw','neg','neu','pos']\n",
    "\n",
    "# Top 5 Neutral Posts\n",
    "dfNeu = df[features].sort_values(\"neu\", ascending=False).head(5)\n",
    "dfNeu.name = \"Neutral\"\n",
    "\n",
    "# Top 5 Negative Posts\n",
    "dfNeg = df[features].sort_values(\"neg\", ascending=False).head(5)\n",
    "dfNeg.name = \"Negative\"\n",
    "\n",
    "# Top 5 Positive Posts\n",
    "dfPos = df[features].sort_values(\"pos\", ascending=False).head(5)\n",
    "dfPos.name = \"Positive\"\n",
    "dataSets = [dfNeu,dfPos, dfNeg]\n"
   ]
  },
  {
   "cell_type": "code",
   "execution_count": 217,
   "metadata": {},
   "outputs": [
    {
     "name": "stderr",
     "output_type": "stream",
     "text": [
      "C:\\Users\\BDelamater\\Anaconda3\\lib\\site-packages\\ipykernel\\ipkernel.py:287: DeprecationWarning:\n",
      "\n",
      "`should_run_async` will not call `transform_cell` automatically in the future. Please pass the result to `transformed_cell` argument and any exception that happen during thetransform in `preprocessing_exc_tuple` in IPython 7.17 and above.\n",
      "\n"
     ]
    },
    {
     "data": {
      "text/html": [
       "<div>\n",
       "<style scoped>\n",
       "    .dataframe tbody tr th:only-of-type {\n",
       "        vertical-align: middle;\n",
       "    }\n",
       "\n",
       "    .dataframe tbody tr th {\n",
       "        vertical-align: top;\n",
       "    }\n",
       "\n",
       "    .dataframe thead th {\n",
       "        text-align: right;\n",
       "    }\n",
       "</style>\n",
       "<table border=\"1\" class=\"dataframe\">\n",
       "  <thead>\n",
       "    <tr style=\"text-align: right;\">\n",
       "      <th></th>\n",
       "      <th>Forum ID</th>\n",
       "      <th>compound</th>\n",
       "      <th>neg</th>\n",
       "      <th>neu</th>\n",
       "      <th>pos</th>\n",
       "      <th>DayOfMonth</th>\n",
       "    </tr>\n",
       "  </thead>\n",
       "  <tbody>\n",
       "    <tr>\n",
       "      <th>count</th>\n",
       "      <td>1086.000000</td>\n",
       "      <td>1086.000000</td>\n",
       "      <td>1086.000000</td>\n",
       "      <td>1086.000000</td>\n",
       "      <td>1086.000000</td>\n",
       "      <td>1086.000000</td>\n",
       "    </tr>\n",
       "    <tr>\n",
       "      <th>mean</th>\n",
       "      <td>91.429098</td>\n",
       "      <td>0.358396</td>\n",
       "      <td>0.039499</td>\n",
       "      <td>0.853801</td>\n",
       "      <td>0.105767</td>\n",
       "      <td>15.840700</td>\n",
       "    </tr>\n",
       "    <tr>\n",
       "      <th>std</th>\n",
       "      <td>155.599403</td>\n",
       "      <td>0.520617</td>\n",
       "      <td>0.053476</td>\n",
       "      <td>0.091070</td>\n",
       "      <td>0.076172</td>\n",
       "      <td>8.454238</td>\n",
       "    </tr>\n",
       "    <tr>\n",
       "      <th>min</th>\n",
       "      <td>40.000000</td>\n",
       "      <td>-0.997200</td>\n",
       "      <td>0.000000</td>\n",
       "      <td>0.000000</td>\n",
       "      <td>0.000000</td>\n",
       "      <td>1.000000</td>\n",
       "    </tr>\n",
       "    <tr>\n",
       "      <th>25%</th>\n",
       "      <td>40.000000</td>\n",
       "      <td>0.000000</td>\n",
       "      <td>0.000000</td>\n",
       "      <td>0.802000</td>\n",
       "      <td>0.050000</td>\n",
       "      <td>9.000000</td>\n",
       "    </tr>\n",
       "    <tr>\n",
       "      <th>50%</th>\n",
       "      <td>40.000000</td>\n",
       "      <td>0.495150</td>\n",
       "      <td>0.018000</td>\n",
       "      <td>0.862500</td>\n",
       "      <td>0.098000</td>\n",
       "      <td>16.000000</td>\n",
       "    </tr>\n",
       "    <tr>\n",
       "      <th>75%</th>\n",
       "      <td>40.000000</td>\n",
       "      <td>0.805275</td>\n",
       "      <td>0.064000</td>\n",
       "      <td>0.916000</td>\n",
       "      <td>0.152000</td>\n",
       "      <td>23.000000</td>\n",
       "    </tr>\n",
       "    <tr>\n",
       "      <th>max</th>\n",
       "      <td>673.000000</td>\n",
       "      <td>0.989500</td>\n",
       "      <td>0.415000</td>\n",
       "      <td>1.000000</td>\n",
       "      <td>0.394000</td>\n",
       "      <td>31.000000</td>\n",
       "    </tr>\n",
       "  </tbody>\n",
       "</table>\n",
       "</div>"
      ],
      "text/plain": [
       "          Forum ID     compound          neg          neu          pos  \\\n",
       "count  1086.000000  1086.000000  1086.000000  1086.000000  1086.000000   \n",
       "mean     91.429098     0.358396     0.039499     0.853801     0.105767   \n",
       "std     155.599403     0.520617     0.053476     0.091070     0.076172   \n",
       "min      40.000000    -0.997200     0.000000     0.000000     0.000000   \n",
       "25%      40.000000     0.000000     0.000000     0.802000     0.050000   \n",
       "50%      40.000000     0.495150     0.018000     0.862500     0.098000   \n",
       "75%      40.000000     0.805275     0.064000     0.916000     0.152000   \n",
       "max     673.000000     0.989500     0.415000     1.000000     0.394000   \n",
       "\n",
       "        DayOfMonth  \n",
       "count  1086.000000  \n",
       "mean     15.840700  \n",
       "std       8.454238  \n",
       "min       1.000000  \n",
       "25%       9.000000  \n",
       "50%      16.000000  \n",
       "75%      23.000000  \n",
       "max      31.000000  "
      ]
     },
     "execution_count": 217,
     "metadata": {},
     "output_type": "execute_result"
    }
   ],
   "source": [
    "df.describe()"
   ]
  },
  {
   "cell_type": "code",
   "execution_count": 218,
   "metadata": {},
   "outputs": [
    {
     "name": "stderr",
     "output_type": "stream",
     "text": [
      "C:\\Users\\BDelamater\\Anaconda3\\lib\\site-packages\\ipykernel\\ipkernel.py:287: DeprecationWarning:\n",
      "\n",
      "`should_run_async` will not call `transform_cell` automatically in the future. Please pass the result to `transformed_cell` argument and any exception that happen during thetransform in `preprocessing_exc_tuple` in IPython 7.17 and above.\n",
      "\n"
     ]
    }
   ],
   "source": [
    "# Alternative way to make tables, doesn't work as well!\n",
    "# import plotly.figure_factory as ff\n",
    "\n",
    "# def WriteTable(dataSets):\n",
    "#     for frame in dataSets:\n",
    "#         fig =  ff.create_table(frame)\n",
    "#         fig.write_html(frame.name+\".html\")\n",
    "#         fig.show()\n",
    "\n",
    "# WriteTable(dataSets)"
   ]
  },
  {
   "cell_type": "code",
   "execution_count": 219,
   "metadata": {},
   "outputs": [
    {
     "name": "stderr",
     "output_type": "stream",
     "text": [
      "C:\\Users\\BDelamater\\Anaconda3\\lib\\site-packages\\ipykernel\\ipkernel.py:287: DeprecationWarning:\n",
      "\n",
      "`should_run_async` will not call `transform_cell` automatically in the future. Please pass the result to `transformed_cell` argument and any exception that happen during thetransform in `preprocessing_exc_tuple` in IPython 7.17 and above.\n",
      "\n"
     ]
    },
    {
     "data": {
      "application/vnd.plotly.v1+json": {
       "config": {
        "plotlyServerURL": "https://plot.ly"
       },
       "data": [
        {
         "cells": {
          "align": [
           "left",
           "center",
           "center",
           "center"
          ],
          "fill": {
           "color": [
            [
             "white",
             "lightgrey",
             "white",
             "lightgrey",
             "white",
             "white",
             "lightgrey",
             "white",
             "lightgrey",
             "white",
             "white",
             "lightgrey",
             "white",
             "lightgrey",
             "white",
             "white",
             "lightgrey",
             "white",
             "lightgrey",
             "white",
             "white",
             "lightgrey",
             "white",
             "lightgrey",
             "white"
            ]
           ]
          },
          "values": [
           [
            "Is there a way to force unique records only?",
            "I saw the posts about the parameter setting that would turn on this table being populated, but my parameters say \"no\", yet I'm seeing user transactions populate in this table.  Where are the settings that would prompt user transactions to populate in AESPION?",
            "Is there a way to reload all the default landing pages, for some reason I have a user that only shows a few, and he has admin rights so they should all be available.....",
            "Has anybody put the stock valuation report (FUNSTVA) on the batch server. \nI was wondering what the file box is used for and if somebody could give me an example path so I have an idea of what would go in there. ",
            "Hi,\nWhy does a purchase receipt take the closed state?"
           ],
           [
            0,
            0,
            0,
            0,
            0
           ],
           [
            1,
            1,
            1,
            1,
            1
           ],
           [
            0,
            0,
            0,
            0,
            0
           ]
          ]
         },
         "columnwidth": [
          300,
          40,
          40,
          40
         ],
         "header": {
          "align": [
           "left",
           "center",
           "center",
           "center"
          ],
          "fill": {
           "color": "#39416C"
          },
          "font": {
           "color": "white",
           "size": 12
          },
          "values": [
           "Forum_Post_Raw",
           "neg",
           "neu",
           "pos"
          ]
         },
         "type": "table"
        }
       ],
       "layout": {
        "height": 400,
        "template": {
         "data": {
          "bar": [
           {
            "error_x": {
             "color": "#2a3f5f"
            },
            "error_y": {
             "color": "#2a3f5f"
            },
            "marker": {
             "line": {
              "color": "#E5ECF6",
              "width": 0.5
             }
            },
            "type": "bar"
           }
          ],
          "barpolar": [
           {
            "marker": {
             "line": {
              "color": "#E5ECF6",
              "width": 0.5
             }
            },
            "type": "barpolar"
           }
          ],
          "carpet": [
           {
            "aaxis": {
             "endlinecolor": "#2a3f5f",
             "gridcolor": "white",
             "linecolor": "white",
             "minorgridcolor": "white",
             "startlinecolor": "#2a3f5f"
            },
            "baxis": {
             "endlinecolor": "#2a3f5f",
             "gridcolor": "white",
             "linecolor": "white",
             "minorgridcolor": "white",
             "startlinecolor": "#2a3f5f"
            },
            "type": "carpet"
           }
          ],
          "choropleth": [
           {
            "colorbar": {
             "outlinewidth": 0,
             "ticks": ""
            },
            "type": "choropleth"
           }
          ],
          "contour": [
           {
            "colorbar": {
             "outlinewidth": 0,
             "ticks": ""
            },
            "colorscale": [
             [
              0,
              "#0d0887"
             ],
             [
              0.1111111111111111,
              "#46039f"
             ],
             [
              0.2222222222222222,
              "#7201a8"
             ],
             [
              0.3333333333333333,
              "#9c179e"
             ],
             [
              0.4444444444444444,
              "#bd3786"
             ],
             [
              0.5555555555555556,
              "#d8576b"
             ],
             [
              0.6666666666666666,
              "#ed7953"
             ],
             [
              0.7777777777777778,
              "#fb9f3a"
             ],
             [
              0.8888888888888888,
              "#fdca26"
             ],
             [
              1,
              "#f0f921"
             ]
            ],
            "type": "contour"
           }
          ],
          "contourcarpet": [
           {
            "colorbar": {
             "outlinewidth": 0,
             "ticks": ""
            },
            "type": "contourcarpet"
           }
          ],
          "heatmap": [
           {
            "colorbar": {
             "outlinewidth": 0,
             "ticks": ""
            },
            "colorscale": [
             [
              0,
              "#0d0887"
             ],
             [
              0.1111111111111111,
              "#46039f"
             ],
             [
              0.2222222222222222,
              "#7201a8"
             ],
             [
              0.3333333333333333,
              "#9c179e"
             ],
             [
              0.4444444444444444,
              "#bd3786"
             ],
             [
              0.5555555555555556,
              "#d8576b"
             ],
             [
              0.6666666666666666,
              "#ed7953"
             ],
             [
              0.7777777777777778,
              "#fb9f3a"
             ],
             [
              0.8888888888888888,
              "#fdca26"
             ],
             [
              1,
              "#f0f921"
             ]
            ],
            "type": "heatmap"
           }
          ],
          "heatmapgl": [
           {
            "colorbar": {
             "outlinewidth": 0,
             "ticks": ""
            },
            "colorscale": [
             [
              0,
              "#0d0887"
             ],
             [
              0.1111111111111111,
              "#46039f"
             ],
             [
              0.2222222222222222,
              "#7201a8"
             ],
             [
              0.3333333333333333,
              "#9c179e"
             ],
             [
              0.4444444444444444,
              "#bd3786"
             ],
             [
              0.5555555555555556,
              "#d8576b"
             ],
             [
              0.6666666666666666,
              "#ed7953"
             ],
             [
              0.7777777777777778,
              "#fb9f3a"
             ],
             [
              0.8888888888888888,
              "#fdca26"
             ],
             [
              1,
              "#f0f921"
             ]
            ],
            "type": "heatmapgl"
           }
          ],
          "histogram": [
           {
            "marker": {
             "colorbar": {
              "outlinewidth": 0,
              "ticks": ""
             }
            },
            "type": "histogram"
           }
          ],
          "histogram2d": [
           {
            "colorbar": {
             "outlinewidth": 0,
             "ticks": ""
            },
            "colorscale": [
             [
              0,
              "#0d0887"
             ],
             [
              0.1111111111111111,
              "#46039f"
             ],
             [
              0.2222222222222222,
              "#7201a8"
             ],
             [
              0.3333333333333333,
              "#9c179e"
             ],
             [
              0.4444444444444444,
              "#bd3786"
             ],
             [
              0.5555555555555556,
              "#d8576b"
             ],
             [
              0.6666666666666666,
              "#ed7953"
             ],
             [
              0.7777777777777778,
              "#fb9f3a"
             ],
             [
              0.8888888888888888,
              "#fdca26"
             ],
             [
              1,
              "#f0f921"
             ]
            ],
            "type": "histogram2d"
           }
          ],
          "histogram2dcontour": [
           {
            "colorbar": {
             "outlinewidth": 0,
             "ticks": ""
            },
            "colorscale": [
             [
              0,
              "#0d0887"
             ],
             [
              0.1111111111111111,
              "#46039f"
             ],
             [
              0.2222222222222222,
              "#7201a8"
             ],
             [
              0.3333333333333333,
              "#9c179e"
             ],
             [
              0.4444444444444444,
              "#bd3786"
             ],
             [
              0.5555555555555556,
              "#d8576b"
             ],
             [
              0.6666666666666666,
              "#ed7953"
             ],
             [
              0.7777777777777778,
              "#fb9f3a"
             ],
             [
              0.8888888888888888,
              "#fdca26"
             ],
             [
              1,
              "#f0f921"
             ]
            ],
            "type": "histogram2dcontour"
           }
          ],
          "mesh3d": [
           {
            "colorbar": {
             "outlinewidth": 0,
             "ticks": ""
            },
            "type": "mesh3d"
           }
          ],
          "parcoords": [
           {
            "line": {
             "colorbar": {
              "outlinewidth": 0,
              "ticks": ""
             }
            },
            "type": "parcoords"
           }
          ],
          "pie": [
           {
            "automargin": true,
            "type": "pie"
           }
          ],
          "scatter": [
           {
            "marker": {
             "colorbar": {
              "outlinewidth": 0,
              "ticks": ""
             }
            },
            "type": "scatter"
           }
          ],
          "scatter3d": [
           {
            "line": {
             "colorbar": {
              "outlinewidth": 0,
              "ticks": ""
             }
            },
            "marker": {
             "colorbar": {
              "outlinewidth": 0,
              "ticks": ""
             }
            },
            "type": "scatter3d"
           }
          ],
          "scattercarpet": [
           {
            "marker": {
             "colorbar": {
              "outlinewidth": 0,
              "ticks": ""
             }
            },
            "type": "scattercarpet"
           }
          ],
          "scattergeo": [
           {
            "marker": {
             "colorbar": {
              "outlinewidth": 0,
              "ticks": ""
             }
            },
            "type": "scattergeo"
           }
          ],
          "scattergl": [
           {
            "marker": {
             "colorbar": {
              "outlinewidth": 0,
              "ticks": ""
             }
            },
            "type": "scattergl"
           }
          ],
          "scattermapbox": [
           {
            "marker": {
             "colorbar": {
              "outlinewidth": 0,
              "ticks": ""
             }
            },
            "type": "scattermapbox"
           }
          ],
          "scatterpolar": [
           {
            "marker": {
             "colorbar": {
              "outlinewidth": 0,
              "ticks": ""
             }
            },
            "type": "scatterpolar"
           }
          ],
          "scatterpolargl": [
           {
            "marker": {
             "colorbar": {
              "outlinewidth": 0,
              "ticks": ""
             }
            },
            "type": "scatterpolargl"
           }
          ],
          "scatterternary": [
           {
            "marker": {
             "colorbar": {
              "outlinewidth": 0,
              "ticks": ""
             }
            },
            "type": "scatterternary"
           }
          ],
          "surface": [
           {
            "colorbar": {
             "outlinewidth": 0,
             "ticks": ""
            },
            "colorscale": [
             [
              0,
              "#0d0887"
             ],
             [
              0.1111111111111111,
              "#46039f"
             ],
             [
              0.2222222222222222,
              "#7201a8"
             ],
             [
              0.3333333333333333,
              "#9c179e"
             ],
             [
              0.4444444444444444,
              "#bd3786"
             ],
             [
              0.5555555555555556,
              "#d8576b"
             ],
             [
              0.6666666666666666,
              "#ed7953"
             ],
             [
              0.7777777777777778,
              "#fb9f3a"
             ],
             [
              0.8888888888888888,
              "#fdca26"
             ],
             [
              1,
              "#f0f921"
             ]
            ],
            "type": "surface"
           }
          ],
          "table": [
           {
            "cells": {
             "fill": {
              "color": "#EBF0F8"
             },
             "line": {
              "color": "white"
             }
            },
            "header": {
             "fill": {
              "color": "#C8D4E3"
             },
             "line": {
              "color": "white"
             }
            },
            "type": "table"
           }
          ]
         },
         "layout": {
          "annotationdefaults": {
           "arrowcolor": "#2a3f5f",
           "arrowhead": 0,
           "arrowwidth": 1
          },
          "autotypenumbers": "strict",
          "coloraxis": {
           "colorbar": {
            "outlinewidth": 0,
            "ticks": ""
           }
          },
          "colorscale": {
           "diverging": [
            [
             0,
             "#8e0152"
            ],
            [
             0.1,
             "#c51b7d"
            ],
            [
             0.2,
             "#de77ae"
            ],
            [
             0.3,
             "#f1b6da"
            ],
            [
             0.4,
             "#fde0ef"
            ],
            [
             0.5,
             "#f7f7f7"
            ],
            [
             0.6,
             "#e6f5d0"
            ],
            [
             0.7,
             "#b8e186"
            ],
            [
             0.8,
             "#7fbc41"
            ],
            [
             0.9,
             "#4d9221"
            ],
            [
             1,
             "#276419"
            ]
           ],
           "sequential": [
            [
             0,
             "#0d0887"
            ],
            [
             0.1111111111111111,
             "#46039f"
            ],
            [
             0.2222222222222222,
             "#7201a8"
            ],
            [
             0.3333333333333333,
             "#9c179e"
            ],
            [
             0.4444444444444444,
             "#bd3786"
            ],
            [
             0.5555555555555556,
             "#d8576b"
            ],
            [
             0.6666666666666666,
             "#ed7953"
            ],
            [
             0.7777777777777778,
             "#fb9f3a"
            ],
            [
             0.8888888888888888,
             "#fdca26"
            ],
            [
             1,
             "#f0f921"
            ]
           ],
           "sequentialminus": [
            [
             0,
             "#0d0887"
            ],
            [
             0.1111111111111111,
             "#46039f"
            ],
            [
             0.2222222222222222,
             "#7201a8"
            ],
            [
             0.3333333333333333,
             "#9c179e"
            ],
            [
             0.4444444444444444,
             "#bd3786"
            ],
            [
             0.5555555555555556,
             "#d8576b"
            ],
            [
             0.6666666666666666,
             "#ed7953"
            ],
            [
             0.7777777777777778,
             "#fb9f3a"
            ],
            [
             0.8888888888888888,
             "#fdca26"
            ],
            [
             1,
             "#f0f921"
            ]
           ]
          },
          "colorway": [
           "#636efa",
           "#EF553B",
           "#00cc96",
           "#ab63fa",
           "#FFA15A",
           "#19d3f3",
           "#FF6692",
           "#B6E880",
           "#FF97FF",
           "#FECB52"
          ],
          "font": {
           "color": "#2a3f5f"
          },
          "geo": {
           "bgcolor": "white",
           "lakecolor": "white",
           "landcolor": "#E5ECF6",
           "showlakes": true,
           "showland": true,
           "subunitcolor": "white"
          },
          "hoverlabel": {
           "align": "left"
          },
          "hovermode": "closest",
          "mapbox": {
           "style": "light"
          },
          "paper_bgcolor": "white",
          "plot_bgcolor": "#E5ECF6",
          "polar": {
           "angularaxis": {
            "gridcolor": "white",
            "linecolor": "white",
            "ticks": ""
           },
           "bgcolor": "#E5ECF6",
           "radialaxis": {
            "gridcolor": "white",
            "linecolor": "white",
            "ticks": ""
           }
          },
          "scene": {
           "xaxis": {
            "backgroundcolor": "#E5ECF6",
            "gridcolor": "white",
            "gridwidth": 2,
            "linecolor": "white",
            "showbackground": true,
            "ticks": "",
            "zerolinecolor": "white"
           },
           "yaxis": {
            "backgroundcolor": "#E5ECF6",
            "gridcolor": "white",
            "gridwidth": 2,
            "linecolor": "white",
            "showbackground": true,
            "ticks": "",
            "zerolinecolor": "white"
           },
           "zaxis": {
            "backgroundcolor": "#E5ECF6",
            "gridcolor": "white",
            "gridwidth": 2,
            "linecolor": "white",
            "showbackground": true,
            "ticks": "",
            "zerolinecolor": "white"
           }
          },
          "shapedefaults": {
           "line": {
            "color": "#2a3f5f"
           }
          },
          "ternary": {
           "aaxis": {
            "gridcolor": "white",
            "linecolor": "white",
            "ticks": ""
           },
           "baxis": {
            "gridcolor": "white",
            "linecolor": "white",
            "ticks": ""
           },
           "bgcolor": "#E5ECF6",
           "caxis": {
            "gridcolor": "white",
            "linecolor": "white",
            "ticks": ""
           }
          },
          "title": {
           "x": 0.05
          },
          "xaxis": {
           "automargin": true,
           "gridcolor": "white",
           "linecolor": "white",
           "ticks": "",
           "title": {
            "standoff": 15
           },
           "zerolinecolor": "white",
           "zerolinewidth": 2
          },
          "yaxis": {
           "automargin": true,
           "gridcolor": "white",
           "linecolor": "white",
           "ticks": "",
           "title": {
            "standoff": 15
           },
           "zerolinecolor": "white",
           "zerolinewidth": 2
          }
         }
        },
        "title": {
         "text": "Neutral"
        },
        "width": 1000
       }
      },
      "text/html": [
       "<div>                            <div id=\"5362d14f-5331-41b4-b16c-40a6563f3b44\" class=\"plotly-graph-div\" style=\"height:400px; width:1000px;\"></div>            <script type=\"text/javascript\">                require([\"plotly\"], function(Plotly) {                    window.PLOTLYENV=window.PLOTLYENV || {};                                    if (document.getElementById(\"5362d14f-5331-41b4-b16c-40a6563f3b44\")) {                    Plotly.newPlot(                        \"5362d14f-5331-41b4-b16c-40a6563f3b44\",                        [{\"cells\": {\"align\": [\"left\", \"center\", \"center\", \"center\"], \"fill\": {\"color\": [[\"white\", \"lightgrey\", \"white\", \"lightgrey\", \"white\", \"white\", \"lightgrey\", \"white\", \"lightgrey\", \"white\", \"white\", \"lightgrey\", \"white\", \"lightgrey\", \"white\", \"white\", \"lightgrey\", \"white\", \"lightgrey\", \"white\", \"white\", \"lightgrey\", \"white\", \"lightgrey\", \"white\"]]}, \"values\": [[\"Is there a way to force unique records only?\", \"I saw the posts about the parameter setting that would turn on this table being populated, but my parameters say \\\"no\\\", yet I'm seeing user transactions populate in this table.\\u00a0 Where are the settings that would prompt user transactions to populate in\\u00a0AESPION?\", \"Is there a way to reload all the default landing pages, for some reason I have a user that only shows a few, and he has admin rights so they should all be available.....\", \"Has anybody put the stock valuation report (FUNSTVA) on the batch server.\\u00a0\\nI was wondering what the file box is used for and if somebody could give me an example path so I have an idea of what would go in there.\\u00a0\", \"Hi,\\nWhy does a purchase receipt take the closed state?\"], [0.0, 0.0, 0.0, 0.0, 0.0], [1.0, 1.0, 1.0, 1.0, 1.0], [0.0, 0.0, 0.0, 0.0, 0.0]]}, \"columnwidth\": [300, 40, 40, 40], \"header\": {\"align\": [\"left\", \"center\", \"center\", \"center\"], \"fill\": {\"color\": \"#39416C\"}, \"font\": {\"color\": \"white\", \"size\": 12}, \"values\": [\"Forum_Post_Raw\", \"neg\", \"neu\", \"pos\"]}, \"type\": \"table\"}],                        {\"height\": 400, \"template\": {\"data\": {\"bar\": [{\"error_x\": {\"color\": \"#2a3f5f\"}, \"error_y\": {\"color\": \"#2a3f5f\"}, \"marker\": {\"line\": {\"color\": \"#E5ECF6\", \"width\": 0.5}}, \"type\": \"bar\"}], \"barpolar\": [{\"marker\": {\"line\": {\"color\": \"#E5ECF6\", \"width\": 0.5}}, \"type\": \"barpolar\"}], \"carpet\": [{\"aaxis\": {\"endlinecolor\": \"#2a3f5f\", \"gridcolor\": \"white\", \"linecolor\": \"white\", \"minorgridcolor\": \"white\", \"startlinecolor\": \"#2a3f5f\"}, \"baxis\": {\"endlinecolor\": \"#2a3f5f\", \"gridcolor\": \"white\", \"linecolor\": \"white\", \"minorgridcolor\": \"white\", \"startlinecolor\": \"#2a3f5f\"}, \"type\": \"carpet\"}], \"choropleth\": [{\"colorbar\": {\"outlinewidth\": 0, \"ticks\": \"\"}, \"type\": \"choropleth\"}], \"contour\": [{\"colorbar\": {\"outlinewidth\": 0, \"ticks\": \"\"}, \"colorscale\": [[0.0, \"#0d0887\"], [0.1111111111111111, \"#46039f\"], [0.2222222222222222, \"#7201a8\"], [0.3333333333333333, \"#9c179e\"], [0.4444444444444444, \"#bd3786\"], [0.5555555555555556, \"#d8576b\"], [0.6666666666666666, \"#ed7953\"], [0.7777777777777778, \"#fb9f3a\"], [0.8888888888888888, \"#fdca26\"], [1.0, \"#f0f921\"]], \"type\": \"contour\"}], \"contourcarpet\": [{\"colorbar\": {\"outlinewidth\": 0, \"ticks\": \"\"}, \"type\": \"contourcarpet\"}], \"heatmap\": [{\"colorbar\": {\"outlinewidth\": 0, \"ticks\": \"\"}, \"colorscale\": [[0.0, \"#0d0887\"], [0.1111111111111111, \"#46039f\"], [0.2222222222222222, \"#7201a8\"], [0.3333333333333333, \"#9c179e\"], [0.4444444444444444, \"#bd3786\"], [0.5555555555555556, \"#d8576b\"], [0.6666666666666666, \"#ed7953\"], [0.7777777777777778, \"#fb9f3a\"], [0.8888888888888888, \"#fdca26\"], [1.0, \"#f0f921\"]], \"type\": \"heatmap\"}], \"heatmapgl\": [{\"colorbar\": {\"outlinewidth\": 0, \"ticks\": \"\"}, \"colorscale\": [[0.0, \"#0d0887\"], [0.1111111111111111, \"#46039f\"], [0.2222222222222222, \"#7201a8\"], [0.3333333333333333, \"#9c179e\"], [0.4444444444444444, \"#bd3786\"], [0.5555555555555556, \"#d8576b\"], [0.6666666666666666, \"#ed7953\"], [0.7777777777777778, \"#fb9f3a\"], [0.8888888888888888, \"#fdca26\"], [1.0, \"#f0f921\"]], \"type\": \"heatmapgl\"}], \"histogram\": [{\"marker\": {\"colorbar\": {\"outlinewidth\": 0, \"ticks\": \"\"}}, \"type\": \"histogram\"}], \"histogram2d\": [{\"colorbar\": {\"outlinewidth\": 0, \"ticks\": \"\"}, \"colorscale\": [[0.0, \"#0d0887\"], [0.1111111111111111, \"#46039f\"], [0.2222222222222222, \"#7201a8\"], [0.3333333333333333, \"#9c179e\"], [0.4444444444444444, \"#bd3786\"], [0.5555555555555556, \"#d8576b\"], [0.6666666666666666, \"#ed7953\"], [0.7777777777777778, \"#fb9f3a\"], [0.8888888888888888, \"#fdca26\"], [1.0, \"#f0f921\"]], \"type\": \"histogram2d\"}], \"histogram2dcontour\": [{\"colorbar\": {\"outlinewidth\": 0, \"ticks\": \"\"}, \"colorscale\": [[0.0, \"#0d0887\"], [0.1111111111111111, \"#46039f\"], [0.2222222222222222, \"#7201a8\"], [0.3333333333333333, \"#9c179e\"], [0.4444444444444444, \"#bd3786\"], [0.5555555555555556, \"#d8576b\"], [0.6666666666666666, \"#ed7953\"], [0.7777777777777778, \"#fb9f3a\"], [0.8888888888888888, \"#fdca26\"], [1.0, \"#f0f921\"]], \"type\": \"histogram2dcontour\"}], \"mesh3d\": [{\"colorbar\": {\"outlinewidth\": 0, \"ticks\": \"\"}, \"type\": \"mesh3d\"}], \"parcoords\": [{\"line\": {\"colorbar\": {\"outlinewidth\": 0, \"ticks\": \"\"}}, \"type\": \"parcoords\"}], \"pie\": [{\"automargin\": true, \"type\": \"pie\"}], \"scatter\": [{\"marker\": {\"colorbar\": {\"outlinewidth\": 0, \"ticks\": \"\"}}, \"type\": \"scatter\"}], \"scatter3d\": [{\"line\": {\"colorbar\": {\"outlinewidth\": 0, \"ticks\": \"\"}}, \"marker\": {\"colorbar\": {\"outlinewidth\": 0, \"ticks\": \"\"}}, \"type\": \"scatter3d\"}], \"scattercarpet\": [{\"marker\": {\"colorbar\": {\"outlinewidth\": 0, \"ticks\": \"\"}}, \"type\": \"scattercarpet\"}], \"scattergeo\": [{\"marker\": {\"colorbar\": {\"outlinewidth\": 0, \"ticks\": \"\"}}, \"type\": \"scattergeo\"}], \"scattergl\": [{\"marker\": {\"colorbar\": {\"outlinewidth\": 0, \"ticks\": \"\"}}, \"type\": \"scattergl\"}], \"scattermapbox\": [{\"marker\": {\"colorbar\": {\"outlinewidth\": 0, \"ticks\": \"\"}}, \"type\": \"scattermapbox\"}], \"scatterpolar\": [{\"marker\": {\"colorbar\": {\"outlinewidth\": 0, \"ticks\": \"\"}}, \"type\": \"scatterpolar\"}], \"scatterpolargl\": [{\"marker\": {\"colorbar\": {\"outlinewidth\": 0, \"ticks\": \"\"}}, \"type\": \"scatterpolargl\"}], \"scatterternary\": [{\"marker\": {\"colorbar\": {\"outlinewidth\": 0, \"ticks\": \"\"}}, \"type\": \"scatterternary\"}], \"surface\": [{\"colorbar\": {\"outlinewidth\": 0, \"ticks\": \"\"}, \"colorscale\": [[0.0, \"#0d0887\"], [0.1111111111111111, \"#46039f\"], [0.2222222222222222, \"#7201a8\"], [0.3333333333333333, \"#9c179e\"], [0.4444444444444444, \"#bd3786\"], [0.5555555555555556, \"#d8576b\"], [0.6666666666666666, \"#ed7953\"], [0.7777777777777778, \"#fb9f3a\"], [0.8888888888888888, \"#fdca26\"], [1.0, \"#f0f921\"]], \"type\": \"surface\"}], \"table\": [{\"cells\": {\"fill\": {\"color\": \"#EBF0F8\"}, \"line\": {\"color\": \"white\"}}, \"header\": {\"fill\": {\"color\": \"#C8D4E3\"}, \"line\": {\"color\": \"white\"}}, \"type\": \"table\"}]}, \"layout\": {\"annotationdefaults\": {\"arrowcolor\": \"#2a3f5f\", \"arrowhead\": 0, \"arrowwidth\": 1}, \"autotypenumbers\": \"strict\", \"coloraxis\": {\"colorbar\": {\"outlinewidth\": 0, \"ticks\": \"\"}}, \"colorscale\": {\"diverging\": [[0, \"#8e0152\"], [0.1, \"#c51b7d\"], [0.2, \"#de77ae\"], [0.3, \"#f1b6da\"], [0.4, \"#fde0ef\"], [0.5, \"#f7f7f7\"], [0.6, \"#e6f5d0\"], [0.7, \"#b8e186\"], [0.8, \"#7fbc41\"], [0.9, \"#4d9221\"], [1, \"#276419\"]], \"sequential\": [[0.0, \"#0d0887\"], [0.1111111111111111, \"#46039f\"], [0.2222222222222222, \"#7201a8\"], [0.3333333333333333, \"#9c179e\"], [0.4444444444444444, \"#bd3786\"], [0.5555555555555556, \"#d8576b\"], [0.6666666666666666, \"#ed7953\"], [0.7777777777777778, \"#fb9f3a\"], [0.8888888888888888, \"#fdca26\"], [1.0, \"#f0f921\"]], \"sequentialminus\": [[0.0, \"#0d0887\"], [0.1111111111111111, \"#46039f\"], [0.2222222222222222, \"#7201a8\"], [0.3333333333333333, \"#9c179e\"], [0.4444444444444444, \"#bd3786\"], [0.5555555555555556, \"#d8576b\"], [0.6666666666666666, \"#ed7953\"], [0.7777777777777778, \"#fb9f3a\"], [0.8888888888888888, \"#fdca26\"], [1.0, \"#f0f921\"]]}, \"colorway\": [\"#636efa\", \"#EF553B\", \"#00cc96\", \"#ab63fa\", \"#FFA15A\", \"#19d3f3\", \"#FF6692\", \"#B6E880\", \"#FF97FF\", \"#FECB52\"], \"font\": {\"color\": \"#2a3f5f\"}, \"geo\": {\"bgcolor\": \"white\", \"lakecolor\": \"white\", \"landcolor\": \"#E5ECF6\", \"showlakes\": true, \"showland\": true, \"subunitcolor\": \"white\"}, \"hoverlabel\": {\"align\": \"left\"}, \"hovermode\": \"closest\", \"mapbox\": {\"style\": \"light\"}, \"paper_bgcolor\": \"white\", \"plot_bgcolor\": \"#E5ECF6\", \"polar\": {\"angularaxis\": {\"gridcolor\": \"white\", \"linecolor\": \"white\", \"ticks\": \"\"}, \"bgcolor\": \"#E5ECF6\", \"radialaxis\": {\"gridcolor\": \"white\", \"linecolor\": \"white\", \"ticks\": \"\"}}, \"scene\": {\"xaxis\": {\"backgroundcolor\": \"#E5ECF6\", \"gridcolor\": \"white\", \"gridwidth\": 2, \"linecolor\": \"white\", \"showbackground\": true, \"ticks\": \"\", \"zerolinecolor\": \"white\"}, \"yaxis\": {\"backgroundcolor\": \"#E5ECF6\", \"gridcolor\": \"white\", \"gridwidth\": 2, \"linecolor\": \"white\", \"showbackground\": true, \"ticks\": \"\", \"zerolinecolor\": \"white\"}, \"zaxis\": {\"backgroundcolor\": \"#E5ECF6\", \"gridcolor\": \"white\", \"gridwidth\": 2, \"linecolor\": \"white\", \"showbackground\": true, \"ticks\": \"\", \"zerolinecolor\": \"white\"}}, \"shapedefaults\": {\"line\": {\"color\": \"#2a3f5f\"}}, \"ternary\": {\"aaxis\": {\"gridcolor\": \"white\", \"linecolor\": \"white\", \"ticks\": \"\"}, \"baxis\": {\"gridcolor\": \"white\", \"linecolor\": \"white\", \"ticks\": \"\"}, \"bgcolor\": \"#E5ECF6\", \"caxis\": {\"gridcolor\": \"white\", \"linecolor\": \"white\", \"ticks\": \"\"}}, \"title\": {\"x\": 0.05}, \"xaxis\": {\"automargin\": true, \"gridcolor\": \"white\", \"linecolor\": \"white\", \"ticks\": \"\", \"title\": {\"standoff\": 15}, \"zerolinecolor\": \"white\", \"zerolinewidth\": 2}, \"yaxis\": {\"automargin\": true, \"gridcolor\": \"white\", \"linecolor\": \"white\", \"ticks\": \"\", \"title\": {\"standoff\": 15}, \"zerolinecolor\": \"white\", \"zerolinewidth\": 2}}}, \"title\": {\"text\": \"Neutral\"}, \"width\": 1000},                        {\"responsive\": true}                    ).then(function(){\n",
       "                            \n",
       "var gd = document.getElementById('5362d14f-5331-41b4-b16c-40a6563f3b44');\n",
       "var x = new MutationObserver(function (mutations, observer) {{\n",
       "        var display = window.getComputedStyle(gd).display;\n",
       "        if (!display || display === 'none') {{\n",
       "            console.log([gd, 'removed!']);\n",
       "            Plotly.purge(gd);\n",
       "            observer.disconnect();\n",
       "        }}\n",
       "}});\n",
       "\n",
       "// Listen for the removal of the full notebook cells\n",
       "var notebookContainer = gd.closest('#notebook-container');\n",
       "if (notebookContainer) {{\n",
       "    x.observe(notebookContainer, {childList: true});\n",
       "}}\n",
       "\n",
       "// Listen for the clearing of the current output cell\n",
       "var outputEl = gd.closest('.output');\n",
       "if (outputEl) {{\n",
       "    x.observe(outputEl, {childList: true});\n",
       "}}\n",
       "\n",
       "                        })                };                });            </script>        </div>"
      ]
     },
     "metadata": {},
     "output_type": "display_data"
    },
    {
     "data": {
      "application/vnd.plotly.v1+json": {
       "config": {
        "plotlyServerURL": "https://plot.ly"
       },
       "data": [
        {
         "cells": {
          "align": [
           "left",
           "center",
           "center",
           "center"
          ],
          "fill": {
           "color": [
            [
             "white",
             "lightgrey",
             "white",
             "lightgrey",
             "white",
             "white",
             "lightgrey",
             "white",
             "lightgrey",
             "white",
             "white",
             "lightgrey",
             "white",
             "lightgrey",
             "white",
             "white",
             "lightgrey",
             "white",
             "lightgrey",
             "white",
             "white",
             "lightgrey",
             "white",
             "lightgrey",
             "white"
            ]
           ]
          },
          "values": [
           [
            "Has anyone created an import template for overseas containers?  Thanks!",
            "Hello All,\nHappy new year.\nPlease i notice on payment screen E.g Bank transfer - if i try to search for a transaction using amount field i get an error message. \nPlease kindly find screen shot below..\n\n\nPlease help.\n\nThank you.",
            "Hi Everyone! Wish you all an great 2021!\nI'm new to SAGE X3.\nHow can I refresh a query on \"landing page\"?\nI've tried with parameters \"portview\" and \"frequency\" but no success. \n\nAm I using the parameters correctly?\nThank you, for your help.\nBest regards,\nDaniel",
            "\n\nI have a problem in the transport counter despite the counter has been well created and well affect the counter allocation level, thank you for helping me to find a solution\n\n\n",
            "EAM JOB CARD Error occurs when trying to save on step 4 'Create transactions'\nPlease advise\n\n'"
           ],
           [
            0,
            0.054,
            0.045,
            0.073,
            0.127
           ],
           [
            0.606,
            0.563,
            0.583,
            0.569,
            0.516
           ],
           [
            0.394,
            0.382,
            0.372,
            0.358,
            0.357
           ]
          ]
         },
         "columnwidth": [
          300,
          40,
          40,
          40
         ],
         "header": {
          "align": [
           "left",
           "center",
           "center",
           "center"
          ],
          "fill": {
           "color": "#39416C"
          },
          "font": {
           "color": "white",
           "size": 12
          },
          "values": [
           "Forum_Post_Raw",
           "neg",
           "neu",
           "pos"
          ]
         },
         "type": "table"
        }
       ],
       "layout": {
        "height": 400,
        "template": {
         "data": {
          "bar": [
           {
            "error_x": {
             "color": "#2a3f5f"
            },
            "error_y": {
             "color": "#2a3f5f"
            },
            "marker": {
             "line": {
              "color": "#E5ECF6",
              "width": 0.5
             }
            },
            "type": "bar"
           }
          ],
          "barpolar": [
           {
            "marker": {
             "line": {
              "color": "#E5ECF6",
              "width": 0.5
             }
            },
            "type": "barpolar"
           }
          ],
          "carpet": [
           {
            "aaxis": {
             "endlinecolor": "#2a3f5f",
             "gridcolor": "white",
             "linecolor": "white",
             "minorgridcolor": "white",
             "startlinecolor": "#2a3f5f"
            },
            "baxis": {
             "endlinecolor": "#2a3f5f",
             "gridcolor": "white",
             "linecolor": "white",
             "minorgridcolor": "white",
             "startlinecolor": "#2a3f5f"
            },
            "type": "carpet"
           }
          ],
          "choropleth": [
           {
            "colorbar": {
             "outlinewidth": 0,
             "ticks": ""
            },
            "type": "choropleth"
           }
          ],
          "contour": [
           {
            "colorbar": {
             "outlinewidth": 0,
             "ticks": ""
            },
            "colorscale": [
             [
              0,
              "#0d0887"
             ],
             [
              0.1111111111111111,
              "#46039f"
             ],
             [
              0.2222222222222222,
              "#7201a8"
             ],
             [
              0.3333333333333333,
              "#9c179e"
             ],
             [
              0.4444444444444444,
              "#bd3786"
             ],
             [
              0.5555555555555556,
              "#d8576b"
             ],
             [
              0.6666666666666666,
              "#ed7953"
             ],
             [
              0.7777777777777778,
              "#fb9f3a"
             ],
             [
              0.8888888888888888,
              "#fdca26"
             ],
             [
              1,
              "#f0f921"
             ]
            ],
            "type": "contour"
           }
          ],
          "contourcarpet": [
           {
            "colorbar": {
             "outlinewidth": 0,
             "ticks": ""
            },
            "type": "contourcarpet"
           }
          ],
          "heatmap": [
           {
            "colorbar": {
             "outlinewidth": 0,
             "ticks": ""
            },
            "colorscale": [
             [
              0,
              "#0d0887"
             ],
             [
              0.1111111111111111,
              "#46039f"
             ],
             [
              0.2222222222222222,
              "#7201a8"
             ],
             [
              0.3333333333333333,
              "#9c179e"
             ],
             [
              0.4444444444444444,
              "#bd3786"
             ],
             [
              0.5555555555555556,
              "#d8576b"
             ],
             [
              0.6666666666666666,
              "#ed7953"
             ],
             [
              0.7777777777777778,
              "#fb9f3a"
             ],
             [
              0.8888888888888888,
              "#fdca26"
             ],
             [
              1,
              "#f0f921"
             ]
            ],
            "type": "heatmap"
           }
          ],
          "heatmapgl": [
           {
            "colorbar": {
             "outlinewidth": 0,
             "ticks": ""
            },
            "colorscale": [
             [
              0,
              "#0d0887"
             ],
             [
              0.1111111111111111,
              "#46039f"
             ],
             [
              0.2222222222222222,
              "#7201a8"
             ],
             [
              0.3333333333333333,
              "#9c179e"
             ],
             [
              0.4444444444444444,
              "#bd3786"
             ],
             [
              0.5555555555555556,
              "#d8576b"
             ],
             [
              0.6666666666666666,
              "#ed7953"
             ],
             [
              0.7777777777777778,
              "#fb9f3a"
             ],
             [
              0.8888888888888888,
              "#fdca26"
             ],
             [
              1,
              "#f0f921"
             ]
            ],
            "type": "heatmapgl"
           }
          ],
          "histogram": [
           {
            "marker": {
             "colorbar": {
              "outlinewidth": 0,
              "ticks": ""
             }
            },
            "type": "histogram"
           }
          ],
          "histogram2d": [
           {
            "colorbar": {
             "outlinewidth": 0,
             "ticks": ""
            },
            "colorscale": [
             [
              0,
              "#0d0887"
             ],
             [
              0.1111111111111111,
              "#46039f"
             ],
             [
              0.2222222222222222,
              "#7201a8"
             ],
             [
              0.3333333333333333,
              "#9c179e"
             ],
             [
              0.4444444444444444,
              "#bd3786"
             ],
             [
              0.5555555555555556,
              "#d8576b"
             ],
             [
              0.6666666666666666,
              "#ed7953"
             ],
             [
              0.7777777777777778,
              "#fb9f3a"
             ],
             [
              0.8888888888888888,
              "#fdca26"
             ],
             [
              1,
              "#f0f921"
             ]
            ],
            "type": "histogram2d"
           }
          ],
          "histogram2dcontour": [
           {
            "colorbar": {
             "outlinewidth": 0,
             "ticks": ""
            },
            "colorscale": [
             [
              0,
              "#0d0887"
             ],
             [
              0.1111111111111111,
              "#46039f"
             ],
             [
              0.2222222222222222,
              "#7201a8"
             ],
             [
              0.3333333333333333,
              "#9c179e"
             ],
             [
              0.4444444444444444,
              "#bd3786"
             ],
             [
              0.5555555555555556,
              "#d8576b"
             ],
             [
              0.6666666666666666,
              "#ed7953"
             ],
             [
              0.7777777777777778,
              "#fb9f3a"
             ],
             [
              0.8888888888888888,
              "#fdca26"
             ],
             [
              1,
              "#f0f921"
             ]
            ],
            "type": "histogram2dcontour"
           }
          ],
          "mesh3d": [
           {
            "colorbar": {
             "outlinewidth": 0,
             "ticks": ""
            },
            "type": "mesh3d"
           }
          ],
          "parcoords": [
           {
            "line": {
             "colorbar": {
              "outlinewidth": 0,
              "ticks": ""
             }
            },
            "type": "parcoords"
           }
          ],
          "pie": [
           {
            "automargin": true,
            "type": "pie"
           }
          ],
          "scatter": [
           {
            "marker": {
             "colorbar": {
              "outlinewidth": 0,
              "ticks": ""
             }
            },
            "type": "scatter"
           }
          ],
          "scatter3d": [
           {
            "line": {
             "colorbar": {
              "outlinewidth": 0,
              "ticks": ""
             }
            },
            "marker": {
             "colorbar": {
              "outlinewidth": 0,
              "ticks": ""
             }
            },
            "type": "scatter3d"
           }
          ],
          "scattercarpet": [
           {
            "marker": {
             "colorbar": {
              "outlinewidth": 0,
              "ticks": ""
             }
            },
            "type": "scattercarpet"
           }
          ],
          "scattergeo": [
           {
            "marker": {
             "colorbar": {
              "outlinewidth": 0,
              "ticks": ""
             }
            },
            "type": "scattergeo"
           }
          ],
          "scattergl": [
           {
            "marker": {
             "colorbar": {
              "outlinewidth": 0,
              "ticks": ""
             }
            },
            "type": "scattergl"
           }
          ],
          "scattermapbox": [
           {
            "marker": {
             "colorbar": {
              "outlinewidth": 0,
              "ticks": ""
             }
            },
            "type": "scattermapbox"
           }
          ],
          "scatterpolar": [
           {
            "marker": {
             "colorbar": {
              "outlinewidth": 0,
              "ticks": ""
             }
            },
            "type": "scatterpolar"
           }
          ],
          "scatterpolargl": [
           {
            "marker": {
             "colorbar": {
              "outlinewidth": 0,
              "ticks": ""
             }
            },
            "type": "scatterpolargl"
           }
          ],
          "scatterternary": [
           {
            "marker": {
             "colorbar": {
              "outlinewidth": 0,
              "ticks": ""
             }
            },
            "type": "scatterternary"
           }
          ],
          "surface": [
           {
            "colorbar": {
             "outlinewidth": 0,
             "ticks": ""
            },
            "colorscale": [
             [
              0,
              "#0d0887"
             ],
             [
              0.1111111111111111,
              "#46039f"
             ],
             [
              0.2222222222222222,
              "#7201a8"
             ],
             [
              0.3333333333333333,
              "#9c179e"
             ],
             [
              0.4444444444444444,
              "#bd3786"
             ],
             [
              0.5555555555555556,
              "#d8576b"
             ],
             [
              0.6666666666666666,
              "#ed7953"
             ],
             [
              0.7777777777777778,
              "#fb9f3a"
             ],
             [
              0.8888888888888888,
              "#fdca26"
             ],
             [
              1,
              "#f0f921"
             ]
            ],
            "type": "surface"
           }
          ],
          "table": [
           {
            "cells": {
             "fill": {
              "color": "#EBF0F8"
             },
             "line": {
              "color": "white"
             }
            },
            "header": {
             "fill": {
              "color": "#C8D4E3"
             },
             "line": {
              "color": "white"
             }
            },
            "type": "table"
           }
          ]
         },
         "layout": {
          "annotationdefaults": {
           "arrowcolor": "#2a3f5f",
           "arrowhead": 0,
           "arrowwidth": 1
          },
          "autotypenumbers": "strict",
          "coloraxis": {
           "colorbar": {
            "outlinewidth": 0,
            "ticks": ""
           }
          },
          "colorscale": {
           "diverging": [
            [
             0,
             "#8e0152"
            ],
            [
             0.1,
             "#c51b7d"
            ],
            [
             0.2,
             "#de77ae"
            ],
            [
             0.3,
             "#f1b6da"
            ],
            [
             0.4,
             "#fde0ef"
            ],
            [
             0.5,
             "#f7f7f7"
            ],
            [
             0.6,
             "#e6f5d0"
            ],
            [
             0.7,
             "#b8e186"
            ],
            [
             0.8,
             "#7fbc41"
            ],
            [
             0.9,
             "#4d9221"
            ],
            [
             1,
             "#276419"
            ]
           ],
           "sequential": [
            [
             0,
             "#0d0887"
            ],
            [
             0.1111111111111111,
             "#46039f"
            ],
            [
             0.2222222222222222,
             "#7201a8"
            ],
            [
             0.3333333333333333,
             "#9c179e"
            ],
            [
             0.4444444444444444,
             "#bd3786"
            ],
            [
             0.5555555555555556,
             "#d8576b"
            ],
            [
             0.6666666666666666,
             "#ed7953"
            ],
            [
             0.7777777777777778,
             "#fb9f3a"
            ],
            [
             0.8888888888888888,
             "#fdca26"
            ],
            [
             1,
             "#f0f921"
            ]
           ],
           "sequentialminus": [
            [
             0,
             "#0d0887"
            ],
            [
             0.1111111111111111,
             "#46039f"
            ],
            [
             0.2222222222222222,
             "#7201a8"
            ],
            [
             0.3333333333333333,
             "#9c179e"
            ],
            [
             0.4444444444444444,
             "#bd3786"
            ],
            [
             0.5555555555555556,
             "#d8576b"
            ],
            [
             0.6666666666666666,
             "#ed7953"
            ],
            [
             0.7777777777777778,
             "#fb9f3a"
            ],
            [
             0.8888888888888888,
             "#fdca26"
            ],
            [
             1,
             "#f0f921"
            ]
           ]
          },
          "colorway": [
           "#636efa",
           "#EF553B",
           "#00cc96",
           "#ab63fa",
           "#FFA15A",
           "#19d3f3",
           "#FF6692",
           "#B6E880",
           "#FF97FF",
           "#FECB52"
          ],
          "font": {
           "color": "#2a3f5f"
          },
          "geo": {
           "bgcolor": "white",
           "lakecolor": "white",
           "landcolor": "#E5ECF6",
           "showlakes": true,
           "showland": true,
           "subunitcolor": "white"
          },
          "hoverlabel": {
           "align": "left"
          },
          "hovermode": "closest",
          "mapbox": {
           "style": "light"
          },
          "paper_bgcolor": "white",
          "plot_bgcolor": "#E5ECF6",
          "polar": {
           "angularaxis": {
            "gridcolor": "white",
            "linecolor": "white",
            "ticks": ""
           },
           "bgcolor": "#E5ECF6",
           "radialaxis": {
            "gridcolor": "white",
            "linecolor": "white",
            "ticks": ""
           }
          },
          "scene": {
           "xaxis": {
            "backgroundcolor": "#E5ECF6",
            "gridcolor": "white",
            "gridwidth": 2,
            "linecolor": "white",
            "showbackground": true,
            "ticks": "",
            "zerolinecolor": "white"
           },
           "yaxis": {
            "backgroundcolor": "#E5ECF6",
            "gridcolor": "white",
            "gridwidth": 2,
            "linecolor": "white",
            "showbackground": true,
            "ticks": "",
            "zerolinecolor": "white"
           },
           "zaxis": {
            "backgroundcolor": "#E5ECF6",
            "gridcolor": "white",
            "gridwidth": 2,
            "linecolor": "white",
            "showbackground": true,
            "ticks": "",
            "zerolinecolor": "white"
           }
          },
          "shapedefaults": {
           "line": {
            "color": "#2a3f5f"
           }
          },
          "ternary": {
           "aaxis": {
            "gridcolor": "white",
            "linecolor": "white",
            "ticks": ""
           },
           "baxis": {
            "gridcolor": "white",
            "linecolor": "white",
            "ticks": ""
           },
           "bgcolor": "#E5ECF6",
           "caxis": {
            "gridcolor": "white",
            "linecolor": "white",
            "ticks": ""
           }
          },
          "title": {
           "x": 0.05
          },
          "xaxis": {
           "automargin": true,
           "gridcolor": "white",
           "linecolor": "white",
           "ticks": "",
           "title": {
            "standoff": 15
           },
           "zerolinecolor": "white",
           "zerolinewidth": 2
          },
          "yaxis": {
           "automargin": true,
           "gridcolor": "white",
           "linecolor": "white",
           "ticks": "",
           "title": {
            "standoff": 15
           },
           "zerolinecolor": "white",
           "zerolinewidth": 2
          }
         }
        },
        "title": {
         "text": "Positive"
        },
        "width": 1000
       }
      },
      "text/html": [
       "<div>                            <div id=\"245828d0-6d3f-4d63-90a7-38874e9afb32\" class=\"plotly-graph-div\" style=\"height:400px; width:1000px;\"></div>            <script type=\"text/javascript\">                require([\"plotly\"], function(Plotly) {                    window.PLOTLYENV=window.PLOTLYENV || {};                                    if (document.getElementById(\"245828d0-6d3f-4d63-90a7-38874e9afb32\")) {                    Plotly.newPlot(                        \"245828d0-6d3f-4d63-90a7-38874e9afb32\",                        [{\"cells\": {\"align\": [\"left\", \"center\", \"center\", \"center\"], \"fill\": {\"color\": [[\"white\", \"lightgrey\", \"white\", \"lightgrey\", \"white\", \"white\", \"lightgrey\", \"white\", \"lightgrey\", \"white\", \"white\", \"lightgrey\", \"white\", \"lightgrey\", \"white\", \"white\", \"lightgrey\", \"white\", \"lightgrey\", \"white\", \"white\", \"lightgrey\", \"white\", \"lightgrey\", \"white\"]]}, \"values\": [[\"Has anyone created an import template for overseas containers?\\u00a0 Thanks!\", \"Hello All,\\nHappy new year.\\nPlease i notice on payment screen E.g Bank transfer - if i try to search for a transaction using amount field i get an error message.\\u00a0\\nPlease kindly find screen shot below..\\n\\n\\nPlease help.\\n\\nThank you.\", \"Hi Everyone! Wish you all an great 2021!\\nI'm new to SAGE X3.\\nHow can I refresh a query on \\\"landing page\\\"?\\nI've tried with parameters \\\"portview\\\" and \\\"frequency\\\" but no success.\\u00a0\\n\\nAm I using the parameters correctly?\\nThank you, for your help.\\nBest regards,\\nDaniel\", \"\\n\\nI have a problem in the transport counter despite the counter has been well created and well affect the counter allocation level, thank you for helping me to find a solution\\n\\n\\n\", \"EAM JOB CARD Error occurs when trying to save on step 4 'Create transactions'\\nPlease advise\\n\\n'\"], [0.0, 0.054, 0.045, 0.073, 0.127], [0.606, 0.563, 0.583, 0.569, 0.516], [0.394, 0.382, 0.372, 0.358, 0.357]]}, \"columnwidth\": [300, 40, 40, 40], \"header\": {\"align\": [\"left\", \"center\", \"center\", \"center\"], \"fill\": {\"color\": \"#39416C\"}, \"font\": {\"color\": \"white\", \"size\": 12}, \"values\": [\"Forum_Post_Raw\", \"neg\", \"neu\", \"pos\"]}, \"type\": \"table\"}],                        {\"height\": 400, \"template\": {\"data\": {\"bar\": [{\"error_x\": {\"color\": \"#2a3f5f\"}, \"error_y\": {\"color\": \"#2a3f5f\"}, \"marker\": {\"line\": {\"color\": \"#E5ECF6\", \"width\": 0.5}}, \"type\": \"bar\"}], \"barpolar\": [{\"marker\": {\"line\": {\"color\": \"#E5ECF6\", \"width\": 0.5}}, \"type\": \"barpolar\"}], \"carpet\": [{\"aaxis\": {\"endlinecolor\": \"#2a3f5f\", \"gridcolor\": \"white\", \"linecolor\": \"white\", \"minorgridcolor\": \"white\", \"startlinecolor\": \"#2a3f5f\"}, \"baxis\": {\"endlinecolor\": \"#2a3f5f\", \"gridcolor\": \"white\", \"linecolor\": \"white\", \"minorgridcolor\": \"white\", \"startlinecolor\": \"#2a3f5f\"}, \"type\": \"carpet\"}], \"choropleth\": [{\"colorbar\": {\"outlinewidth\": 0, \"ticks\": \"\"}, \"type\": \"choropleth\"}], \"contour\": [{\"colorbar\": {\"outlinewidth\": 0, \"ticks\": \"\"}, \"colorscale\": [[0.0, \"#0d0887\"], [0.1111111111111111, \"#46039f\"], [0.2222222222222222, \"#7201a8\"], [0.3333333333333333, \"#9c179e\"], [0.4444444444444444, \"#bd3786\"], [0.5555555555555556, \"#d8576b\"], [0.6666666666666666, \"#ed7953\"], [0.7777777777777778, \"#fb9f3a\"], [0.8888888888888888, \"#fdca26\"], [1.0, \"#f0f921\"]], \"type\": \"contour\"}], \"contourcarpet\": [{\"colorbar\": {\"outlinewidth\": 0, \"ticks\": \"\"}, \"type\": \"contourcarpet\"}], \"heatmap\": [{\"colorbar\": {\"outlinewidth\": 0, \"ticks\": \"\"}, \"colorscale\": [[0.0, \"#0d0887\"], [0.1111111111111111, \"#46039f\"], [0.2222222222222222, \"#7201a8\"], [0.3333333333333333, \"#9c179e\"], [0.4444444444444444, \"#bd3786\"], [0.5555555555555556, \"#d8576b\"], [0.6666666666666666, \"#ed7953\"], [0.7777777777777778, \"#fb9f3a\"], [0.8888888888888888, \"#fdca26\"], [1.0, \"#f0f921\"]], \"type\": \"heatmap\"}], \"heatmapgl\": [{\"colorbar\": {\"outlinewidth\": 0, \"ticks\": \"\"}, \"colorscale\": [[0.0, \"#0d0887\"], [0.1111111111111111, \"#46039f\"], [0.2222222222222222, \"#7201a8\"], [0.3333333333333333, \"#9c179e\"], [0.4444444444444444, \"#bd3786\"], [0.5555555555555556, \"#d8576b\"], [0.6666666666666666, \"#ed7953\"], [0.7777777777777778, \"#fb9f3a\"], [0.8888888888888888, \"#fdca26\"], [1.0, \"#f0f921\"]], \"type\": \"heatmapgl\"}], \"histogram\": [{\"marker\": {\"colorbar\": {\"outlinewidth\": 0, \"ticks\": \"\"}}, \"type\": \"histogram\"}], \"histogram2d\": [{\"colorbar\": {\"outlinewidth\": 0, \"ticks\": \"\"}, \"colorscale\": [[0.0, \"#0d0887\"], [0.1111111111111111, \"#46039f\"], [0.2222222222222222, \"#7201a8\"], [0.3333333333333333, \"#9c179e\"], [0.4444444444444444, \"#bd3786\"], [0.5555555555555556, \"#d8576b\"], [0.6666666666666666, \"#ed7953\"], [0.7777777777777778, \"#fb9f3a\"], [0.8888888888888888, \"#fdca26\"], [1.0, \"#f0f921\"]], \"type\": \"histogram2d\"}], \"histogram2dcontour\": [{\"colorbar\": {\"outlinewidth\": 0, \"ticks\": \"\"}, \"colorscale\": [[0.0, \"#0d0887\"], [0.1111111111111111, \"#46039f\"], [0.2222222222222222, \"#7201a8\"], [0.3333333333333333, \"#9c179e\"], [0.4444444444444444, \"#bd3786\"], [0.5555555555555556, \"#d8576b\"], [0.6666666666666666, \"#ed7953\"], [0.7777777777777778, \"#fb9f3a\"], [0.8888888888888888, \"#fdca26\"], [1.0, \"#f0f921\"]], \"type\": \"histogram2dcontour\"}], \"mesh3d\": [{\"colorbar\": {\"outlinewidth\": 0, \"ticks\": \"\"}, \"type\": \"mesh3d\"}], \"parcoords\": [{\"line\": {\"colorbar\": {\"outlinewidth\": 0, \"ticks\": \"\"}}, \"type\": \"parcoords\"}], \"pie\": [{\"automargin\": true, \"type\": \"pie\"}], \"scatter\": [{\"marker\": {\"colorbar\": {\"outlinewidth\": 0, \"ticks\": \"\"}}, \"type\": \"scatter\"}], \"scatter3d\": [{\"line\": {\"colorbar\": {\"outlinewidth\": 0, \"ticks\": \"\"}}, \"marker\": {\"colorbar\": {\"outlinewidth\": 0, \"ticks\": \"\"}}, \"type\": \"scatter3d\"}], \"scattercarpet\": [{\"marker\": {\"colorbar\": {\"outlinewidth\": 0, \"ticks\": \"\"}}, \"type\": \"scattercarpet\"}], \"scattergeo\": [{\"marker\": {\"colorbar\": {\"outlinewidth\": 0, \"ticks\": \"\"}}, \"type\": \"scattergeo\"}], \"scattergl\": [{\"marker\": {\"colorbar\": {\"outlinewidth\": 0, \"ticks\": \"\"}}, \"type\": \"scattergl\"}], \"scattermapbox\": [{\"marker\": {\"colorbar\": {\"outlinewidth\": 0, \"ticks\": \"\"}}, \"type\": \"scattermapbox\"}], \"scatterpolar\": [{\"marker\": {\"colorbar\": {\"outlinewidth\": 0, \"ticks\": \"\"}}, \"type\": \"scatterpolar\"}], \"scatterpolargl\": [{\"marker\": {\"colorbar\": {\"outlinewidth\": 0, \"ticks\": \"\"}}, \"type\": \"scatterpolargl\"}], \"scatterternary\": [{\"marker\": {\"colorbar\": {\"outlinewidth\": 0, \"ticks\": \"\"}}, \"type\": \"scatterternary\"}], \"surface\": [{\"colorbar\": {\"outlinewidth\": 0, \"ticks\": \"\"}, \"colorscale\": [[0.0, \"#0d0887\"], [0.1111111111111111, \"#46039f\"], [0.2222222222222222, \"#7201a8\"], [0.3333333333333333, \"#9c179e\"], [0.4444444444444444, \"#bd3786\"], [0.5555555555555556, \"#d8576b\"], [0.6666666666666666, \"#ed7953\"], [0.7777777777777778, \"#fb9f3a\"], [0.8888888888888888, \"#fdca26\"], [1.0, \"#f0f921\"]], \"type\": \"surface\"}], \"table\": [{\"cells\": {\"fill\": {\"color\": \"#EBF0F8\"}, \"line\": {\"color\": \"white\"}}, \"header\": {\"fill\": {\"color\": \"#C8D4E3\"}, \"line\": {\"color\": \"white\"}}, \"type\": \"table\"}]}, \"layout\": {\"annotationdefaults\": {\"arrowcolor\": \"#2a3f5f\", \"arrowhead\": 0, \"arrowwidth\": 1}, \"autotypenumbers\": \"strict\", \"coloraxis\": {\"colorbar\": {\"outlinewidth\": 0, \"ticks\": \"\"}}, \"colorscale\": {\"diverging\": [[0, \"#8e0152\"], [0.1, \"#c51b7d\"], [0.2, \"#de77ae\"], [0.3, \"#f1b6da\"], [0.4, \"#fde0ef\"], [0.5, \"#f7f7f7\"], [0.6, \"#e6f5d0\"], [0.7, \"#b8e186\"], [0.8, \"#7fbc41\"], [0.9, \"#4d9221\"], [1, \"#276419\"]], \"sequential\": [[0.0, \"#0d0887\"], [0.1111111111111111, \"#46039f\"], [0.2222222222222222, \"#7201a8\"], [0.3333333333333333, \"#9c179e\"], [0.4444444444444444, \"#bd3786\"], [0.5555555555555556, \"#d8576b\"], [0.6666666666666666, \"#ed7953\"], [0.7777777777777778, \"#fb9f3a\"], [0.8888888888888888, \"#fdca26\"], [1.0, \"#f0f921\"]], \"sequentialminus\": [[0.0, \"#0d0887\"], [0.1111111111111111, \"#46039f\"], [0.2222222222222222, \"#7201a8\"], [0.3333333333333333, \"#9c179e\"], [0.4444444444444444, \"#bd3786\"], [0.5555555555555556, \"#d8576b\"], [0.6666666666666666, \"#ed7953\"], [0.7777777777777778, \"#fb9f3a\"], [0.8888888888888888, \"#fdca26\"], [1.0, \"#f0f921\"]]}, \"colorway\": [\"#636efa\", \"#EF553B\", \"#00cc96\", \"#ab63fa\", \"#FFA15A\", \"#19d3f3\", \"#FF6692\", \"#B6E880\", \"#FF97FF\", \"#FECB52\"], \"font\": {\"color\": \"#2a3f5f\"}, \"geo\": {\"bgcolor\": \"white\", \"lakecolor\": \"white\", \"landcolor\": \"#E5ECF6\", \"showlakes\": true, \"showland\": true, \"subunitcolor\": \"white\"}, \"hoverlabel\": {\"align\": \"left\"}, \"hovermode\": \"closest\", \"mapbox\": {\"style\": \"light\"}, \"paper_bgcolor\": \"white\", \"plot_bgcolor\": \"#E5ECF6\", \"polar\": {\"angularaxis\": {\"gridcolor\": \"white\", \"linecolor\": \"white\", \"ticks\": \"\"}, \"bgcolor\": \"#E5ECF6\", \"radialaxis\": {\"gridcolor\": \"white\", \"linecolor\": \"white\", \"ticks\": \"\"}}, \"scene\": {\"xaxis\": {\"backgroundcolor\": \"#E5ECF6\", \"gridcolor\": \"white\", \"gridwidth\": 2, \"linecolor\": \"white\", \"showbackground\": true, \"ticks\": \"\", \"zerolinecolor\": \"white\"}, \"yaxis\": {\"backgroundcolor\": \"#E5ECF6\", \"gridcolor\": \"white\", \"gridwidth\": 2, \"linecolor\": \"white\", \"showbackground\": true, \"ticks\": \"\", \"zerolinecolor\": \"white\"}, \"zaxis\": {\"backgroundcolor\": \"#E5ECF6\", \"gridcolor\": \"white\", \"gridwidth\": 2, \"linecolor\": \"white\", \"showbackground\": true, \"ticks\": \"\", \"zerolinecolor\": \"white\"}}, \"shapedefaults\": {\"line\": {\"color\": \"#2a3f5f\"}}, \"ternary\": {\"aaxis\": {\"gridcolor\": \"white\", \"linecolor\": \"white\", \"ticks\": \"\"}, \"baxis\": {\"gridcolor\": \"white\", \"linecolor\": \"white\", \"ticks\": \"\"}, \"bgcolor\": \"#E5ECF6\", \"caxis\": {\"gridcolor\": \"white\", \"linecolor\": \"white\", \"ticks\": \"\"}}, \"title\": {\"x\": 0.05}, \"xaxis\": {\"automargin\": true, \"gridcolor\": \"white\", \"linecolor\": \"white\", \"ticks\": \"\", \"title\": {\"standoff\": 15}, \"zerolinecolor\": \"white\", \"zerolinewidth\": 2}, \"yaxis\": {\"automargin\": true, \"gridcolor\": \"white\", \"linecolor\": \"white\", \"ticks\": \"\", \"title\": {\"standoff\": 15}, \"zerolinecolor\": \"white\", \"zerolinewidth\": 2}}}, \"title\": {\"text\": \"Positive\"}, \"width\": 1000},                        {\"responsive\": true}                    ).then(function(){\n",
       "                            \n",
       "var gd = document.getElementById('245828d0-6d3f-4d63-90a7-38874e9afb32');\n",
       "var x = new MutationObserver(function (mutations, observer) {{\n",
       "        var display = window.getComputedStyle(gd).display;\n",
       "        if (!display || display === 'none') {{\n",
       "            console.log([gd, 'removed!']);\n",
       "            Plotly.purge(gd);\n",
       "            observer.disconnect();\n",
       "        }}\n",
       "}});\n",
       "\n",
       "// Listen for the removal of the full notebook cells\n",
       "var notebookContainer = gd.closest('#notebook-container');\n",
       "if (notebookContainer) {{\n",
       "    x.observe(notebookContainer, {childList: true});\n",
       "}}\n",
       "\n",
       "// Listen for the clearing of the current output cell\n",
       "var outputEl = gd.closest('.output');\n",
       "if (outputEl) {{\n",
       "    x.observe(outputEl, {childList: true});\n",
       "}}\n",
       "\n",
       "                        })                };                });            </script>        </div>"
      ]
     },
     "metadata": {},
     "output_type": "display_data"
    },
    {
     "data": {
      "application/vnd.plotly.v1+json": {
       "config": {
        "plotlyServerURL": "https://plot.ly"
       },
       "data": [
        {
         "cells": {
          "align": [
           "left",
           "center",
           "center",
           "center"
          ],
          "fill": {
           "color": [
            [
             "white",
             "lightgrey",
             "white",
             "lightgrey",
             "white",
             "white",
             "lightgrey",
             "white",
             "lightgrey",
             "white",
             "white",
             "lightgrey",
             "white",
             "lightgrey",
             "white",
             "white",
             "lightgrey",
             "white",
             "lightgrey",
             "white",
             "white",
             "lightgrey",
             "white",
             "lightgrey",
             "white"
            ]
           ]
          },
          "values": [
           [
            "Error message:\n@X3.TRT/SUBITM$adx (2569) Error 8 : Index Incorrect ISAU(500)\n\nGetting this error after adding a new site.\n",
            "When trying to generate the positive pay file - we experience the following error - file return error - no checks selected. There are checks generated and printed.",
            "Sage X3 allows a parameter to warn user for duplicate values in BPRVCR. \n\nHow can this warning be change to an error? \n",
            "We run Sage X3 Update 9 Patch 9.\n\nThe cost of a product we buy is going negative.\nThis occurs from time to time because the product is a by-product- sometimes the supplier can sell the by-product, but other times they have to pay us to take it.\nDepending on how extremely below zero the costs go, we may even start charging our customers a negative price. \nThis will occur in both back-to-back and stock orders.\n\nCan we support this in X3?\n\nThought process;\n(The following all reads bizarrely to me, but here goes...;)\n1. We raise PO to supplier with negative cost (-$20/ton)\n2. Supplier sends us their invoice with negative cost (-$20/ton)\n3. Supplier pays us based on their (negative) invoice. Is a supplier invoice therefore handled by Accounts Receivable rather than Accounts Payable functions in X3?\n4. We receive goods into inventory at a negative cost (-$20/ton). Average Unit Cost (AUC) goes negative.\n5. We create Sales Order with negative gross price (-$5) and negative cost ($-20) to Customer (Margin = +$15)\n6. We create Sales Delivery with negative gross price (-$5) to Customer.\n7. We create Sales Invoice with negative gross price (-$5) and negative cost ($-20) to Customer (Margin = +$15) \n8. We pay Customer based on our Sales Invoice with negative gross price. Is our Invoice to Customer therefore managed by our Accounts Payable rather than Accounts Receivable functions in X3?\n\nIs this high level process supportable/logical/sensible in X3?\nSteps 3 and 8 are standing out to me the most in consideration of \"How will that work?\"\nAny advice would be appreciated. Thanks in advance.",
            "D:\\Sage\\SAGEX3V7\\X3V71\\folders\\TEST\\TRT\\WGWMSFCSTD.adx : File Non-existent\n\nHow to resolve this error.\n\nRegards\n"
           ],
           [
            0.415,
            0.276,
            0.258,
            0.249,
            0.246
           ],
           [
            0.585,
            0.613,
            0.64,
            0.693,
            0.55
           ],
           [
            0,
            0.11,
            0.102,
            0.058,
            0.204
           ]
          ]
         },
         "columnwidth": [
          300,
          40,
          40,
          40
         ],
         "header": {
          "align": [
           "left",
           "center",
           "center",
           "center"
          ],
          "fill": {
           "color": "#39416C"
          },
          "font": {
           "color": "white",
           "size": 12
          },
          "values": [
           "Forum_Post_Raw",
           "neg",
           "neu",
           "pos"
          ]
         },
         "type": "table"
        }
       ],
       "layout": {
        "height": 400,
        "template": {
         "data": {
          "bar": [
           {
            "error_x": {
             "color": "#2a3f5f"
            },
            "error_y": {
             "color": "#2a3f5f"
            },
            "marker": {
             "line": {
              "color": "#E5ECF6",
              "width": 0.5
             }
            },
            "type": "bar"
           }
          ],
          "barpolar": [
           {
            "marker": {
             "line": {
              "color": "#E5ECF6",
              "width": 0.5
             }
            },
            "type": "barpolar"
           }
          ],
          "carpet": [
           {
            "aaxis": {
             "endlinecolor": "#2a3f5f",
             "gridcolor": "white",
             "linecolor": "white",
             "minorgridcolor": "white",
             "startlinecolor": "#2a3f5f"
            },
            "baxis": {
             "endlinecolor": "#2a3f5f",
             "gridcolor": "white",
             "linecolor": "white",
             "minorgridcolor": "white",
             "startlinecolor": "#2a3f5f"
            },
            "type": "carpet"
           }
          ],
          "choropleth": [
           {
            "colorbar": {
             "outlinewidth": 0,
             "ticks": ""
            },
            "type": "choropleth"
           }
          ],
          "contour": [
           {
            "colorbar": {
             "outlinewidth": 0,
             "ticks": ""
            },
            "colorscale": [
             [
              0,
              "#0d0887"
             ],
             [
              0.1111111111111111,
              "#46039f"
             ],
             [
              0.2222222222222222,
              "#7201a8"
             ],
             [
              0.3333333333333333,
              "#9c179e"
             ],
             [
              0.4444444444444444,
              "#bd3786"
             ],
             [
              0.5555555555555556,
              "#d8576b"
             ],
             [
              0.6666666666666666,
              "#ed7953"
             ],
             [
              0.7777777777777778,
              "#fb9f3a"
             ],
             [
              0.8888888888888888,
              "#fdca26"
             ],
             [
              1,
              "#f0f921"
             ]
            ],
            "type": "contour"
           }
          ],
          "contourcarpet": [
           {
            "colorbar": {
             "outlinewidth": 0,
             "ticks": ""
            },
            "type": "contourcarpet"
           }
          ],
          "heatmap": [
           {
            "colorbar": {
             "outlinewidth": 0,
             "ticks": ""
            },
            "colorscale": [
             [
              0,
              "#0d0887"
             ],
             [
              0.1111111111111111,
              "#46039f"
             ],
             [
              0.2222222222222222,
              "#7201a8"
             ],
             [
              0.3333333333333333,
              "#9c179e"
             ],
             [
              0.4444444444444444,
              "#bd3786"
             ],
             [
              0.5555555555555556,
              "#d8576b"
             ],
             [
              0.6666666666666666,
              "#ed7953"
             ],
             [
              0.7777777777777778,
              "#fb9f3a"
             ],
             [
              0.8888888888888888,
              "#fdca26"
             ],
             [
              1,
              "#f0f921"
             ]
            ],
            "type": "heatmap"
           }
          ],
          "heatmapgl": [
           {
            "colorbar": {
             "outlinewidth": 0,
             "ticks": ""
            },
            "colorscale": [
             [
              0,
              "#0d0887"
             ],
             [
              0.1111111111111111,
              "#46039f"
             ],
             [
              0.2222222222222222,
              "#7201a8"
             ],
             [
              0.3333333333333333,
              "#9c179e"
             ],
             [
              0.4444444444444444,
              "#bd3786"
             ],
             [
              0.5555555555555556,
              "#d8576b"
             ],
             [
              0.6666666666666666,
              "#ed7953"
             ],
             [
              0.7777777777777778,
              "#fb9f3a"
             ],
             [
              0.8888888888888888,
              "#fdca26"
             ],
             [
              1,
              "#f0f921"
             ]
            ],
            "type": "heatmapgl"
           }
          ],
          "histogram": [
           {
            "marker": {
             "colorbar": {
              "outlinewidth": 0,
              "ticks": ""
             }
            },
            "type": "histogram"
           }
          ],
          "histogram2d": [
           {
            "colorbar": {
             "outlinewidth": 0,
             "ticks": ""
            },
            "colorscale": [
             [
              0,
              "#0d0887"
             ],
             [
              0.1111111111111111,
              "#46039f"
             ],
             [
              0.2222222222222222,
              "#7201a8"
             ],
             [
              0.3333333333333333,
              "#9c179e"
             ],
             [
              0.4444444444444444,
              "#bd3786"
             ],
             [
              0.5555555555555556,
              "#d8576b"
             ],
             [
              0.6666666666666666,
              "#ed7953"
             ],
             [
              0.7777777777777778,
              "#fb9f3a"
             ],
             [
              0.8888888888888888,
              "#fdca26"
             ],
             [
              1,
              "#f0f921"
             ]
            ],
            "type": "histogram2d"
           }
          ],
          "histogram2dcontour": [
           {
            "colorbar": {
             "outlinewidth": 0,
             "ticks": ""
            },
            "colorscale": [
             [
              0,
              "#0d0887"
             ],
             [
              0.1111111111111111,
              "#46039f"
             ],
             [
              0.2222222222222222,
              "#7201a8"
             ],
             [
              0.3333333333333333,
              "#9c179e"
             ],
             [
              0.4444444444444444,
              "#bd3786"
             ],
             [
              0.5555555555555556,
              "#d8576b"
             ],
             [
              0.6666666666666666,
              "#ed7953"
             ],
             [
              0.7777777777777778,
              "#fb9f3a"
             ],
             [
              0.8888888888888888,
              "#fdca26"
             ],
             [
              1,
              "#f0f921"
             ]
            ],
            "type": "histogram2dcontour"
           }
          ],
          "mesh3d": [
           {
            "colorbar": {
             "outlinewidth": 0,
             "ticks": ""
            },
            "type": "mesh3d"
           }
          ],
          "parcoords": [
           {
            "line": {
             "colorbar": {
              "outlinewidth": 0,
              "ticks": ""
             }
            },
            "type": "parcoords"
           }
          ],
          "pie": [
           {
            "automargin": true,
            "type": "pie"
           }
          ],
          "scatter": [
           {
            "marker": {
             "colorbar": {
              "outlinewidth": 0,
              "ticks": ""
             }
            },
            "type": "scatter"
           }
          ],
          "scatter3d": [
           {
            "line": {
             "colorbar": {
              "outlinewidth": 0,
              "ticks": ""
             }
            },
            "marker": {
             "colorbar": {
              "outlinewidth": 0,
              "ticks": ""
             }
            },
            "type": "scatter3d"
           }
          ],
          "scattercarpet": [
           {
            "marker": {
             "colorbar": {
              "outlinewidth": 0,
              "ticks": ""
             }
            },
            "type": "scattercarpet"
           }
          ],
          "scattergeo": [
           {
            "marker": {
             "colorbar": {
              "outlinewidth": 0,
              "ticks": ""
             }
            },
            "type": "scattergeo"
           }
          ],
          "scattergl": [
           {
            "marker": {
             "colorbar": {
              "outlinewidth": 0,
              "ticks": ""
             }
            },
            "type": "scattergl"
           }
          ],
          "scattermapbox": [
           {
            "marker": {
             "colorbar": {
              "outlinewidth": 0,
              "ticks": ""
             }
            },
            "type": "scattermapbox"
           }
          ],
          "scatterpolar": [
           {
            "marker": {
             "colorbar": {
              "outlinewidth": 0,
              "ticks": ""
             }
            },
            "type": "scatterpolar"
           }
          ],
          "scatterpolargl": [
           {
            "marker": {
             "colorbar": {
              "outlinewidth": 0,
              "ticks": ""
             }
            },
            "type": "scatterpolargl"
           }
          ],
          "scatterternary": [
           {
            "marker": {
             "colorbar": {
              "outlinewidth": 0,
              "ticks": ""
             }
            },
            "type": "scatterternary"
           }
          ],
          "surface": [
           {
            "colorbar": {
             "outlinewidth": 0,
             "ticks": ""
            },
            "colorscale": [
             [
              0,
              "#0d0887"
             ],
             [
              0.1111111111111111,
              "#46039f"
             ],
             [
              0.2222222222222222,
              "#7201a8"
             ],
             [
              0.3333333333333333,
              "#9c179e"
             ],
             [
              0.4444444444444444,
              "#bd3786"
             ],
             [
              0.5555555555555556,
              "#d8576b"
             ],
             [
              0.6666666666666666,
              "#ed7953"
             ],
             [
              0.7777777777777778,
              "#fb9f3a"
             ],
             [
              0.8888888888888888,
              "#fdca26"
             ],
             [
              1,
              "#f0f921"
             ]
            ],
            "type": "surface"
           }
          ],
          "table": [
           {
            "cells": {
             "fill": {
              "color": "#EBF0F8"
             },
             "line": {
              "color": "white"
             }
            },
            "header": {
             "fill": {
              "color": "#C8D4E3"
             },
             "line": {
              "color": "white"
             }
            },
            "type": "table"
           }
          ]
         },
         "layout": {
          "annotationdefaults": {
           "arrowcolor": "#2a3f5f",
           "arrowhead": 0,
           "arrowwidth": 1
          },
          "autotypenumbers": "strict",
          "coloraxis": {
           "colorbar": {
            "outlinewidth": 0,
            "ticks": ""
           }
          },
          "colorscale": {
           "diverging": [
            [
             0,
             "#8e0152"
            ],
            [
             0.1,
             "#c51b7d"
            ],
            [
             0.2,
             "#de77ae"
            ],
            [
             0.3,
             "#f1b6da"
            ],
            [
             0.4,
             "#fde0ef"
            ],
            [
             0.5,
             "#f7f7f7"
            ],
            [
             0.6,
             "#e6f5d0"
            ],
            [
             0.7,
             "#b8e186"
            ],
            [
             0.8,
             "#7fbc41"
            ],
            [
             0.9,
             "#4d9221"
            ],
            [
             1,
             "#276419"
            ]
           ],
           "sequential": [
            [
             0,
             "#0d0887"
            ],
            [
             0.1111111111111111,
             "#46039f"
            ],
            [
             0.2222222222222222,
             "#7201a8"
            ],
            [
             0.3333333333333333,
             "#9c179e"
            ],
            [
             0.4444444444444444,
             "#bd3786"
            ],
            [
             0.5555555555555556,
             "#d8576b"
            ],
            [
             0.6666666666666666,
             "#ed7953"
            ],
            [
             0.7777777777777778,
             "#fb9f3a"
            ],
            [
             0.8888888888888888,
             "#fdca26"
            ],
            [
             1,
             "#f0f921"
            ]
           ],
           "sequentialminus": [
            [
             0,
             "#0d0887"
            ],
            [
             0.1111111111111111,
             "#46039f"
            ],
            [
             0.2222222222222222,
             "#7201a8"
            ],
            [
             0.3333333333333333,
             "#9c179e"
            ],
            [
             0.4444444444444444,
             "#bd3786"
            ],
            [
             0.5555555555555556,
             "#d8576b"
            ],
            [
             0.6666666666666666,
             "#ed7953"
            ],
            [
             0.7777777777777778,
             "#fb9f3a"
            ],
            [
             0.8888888888888888,
             "#fdca26"
            ],
            [
             1,
             "#f0f921"
            ]
           ]
          },
          "colorway": [
           "#636efa",
           "#EF553B",
           "#00cc96",
           "#ab63fa",
           "#FFA15A",
           "#19d3f3",
           "#FF6692",
           "#B6E880",
           "#FF97FF",
           "#FECB52"
          ],
          "font": {
           "color": "#2a3f5f"
          },
          "geo": {
           "bgcolor": "white",
           "lakecolor": "white",
           "landcolor": "#E5ECF6",
           "showlakes": true,
           "showland": true,
           "subunitcolor": "white"
          },
          "hoverlabel": {
           "align": "left"
          },
          "hovermode": "closest",
          "mapbox": {
           "style": "light"
          },
          "paper_bgcolor": "white",
          "plot_bgcolor": "#E5ECF6",
          "polar": {
           "angularaxis": {
            "gridcolor": "white",
            "linecolor": "white",
            "ticks": ""
           },
           "bgcolor": "#E5ECF6",
           "radialaxis": {
            "gridcolor": "white",
            "linecolor": "white",
            "ticks": ""
           }
          },
          "scene": {
           "xaxis": {
            "backgroundcolor": "#E5ECF6",
            "gridcolor": "white",
            "gridwidth": 2,
            "linecolor": "white",
            "showbackground": true,
            "ticks": "",
            "zerolinecolor": "white"
           },
           "yaxis": {
            "backgroundcolor": "#E5ECF6",
            "gridcolor": "white",
            "gridwidth": 2,
            "linecolor": "white",
            "showbackground": true,
            "ticks": "",
            "zerolinecolor": "white"
           },
           "zaxis": {
            "backgroundcolor": "#E5ECF6",
            "gridcolor": "white",
            "gridwidth": 2,
            "linecolor": "white",
            "showbackground": true,
            "ticks": "",
            "zerolinecolor": "white"
           }
          },
          "shapedefaults": {
           "line": {
            "color": "#2a3f5f"
           }
          },
          "ternary": {
           "aaxis": {
            "gridcolor": "white",
            "linecolor": "white",
            "ticks": ""
           },
           "baxis": {
            "gridcolor": "white",
            "linecolor": "white",
            "ticks": ""
           },
           "bgcolor": "#E5ECF6",
           "caxis": {
            "gridcolor": "white",
            "linecolor": "white",
            "ticks": ""
           }
          },
          "title": {
           "x": 0.05
          },
          "xaxis": {
           "automargin": true,
           "gridcolor": "white",
           "linecolor": "white",
           "ticks": "",
           "title": {
            "standoff": 15
           },
           "zerolinecolor": "white",
           "zerolinewidth": 2
          },
          "yaxis": {
           "automargin": true,
           "gridcolor": "white",
           "linecolor": "white",
           "ticks": "",
           "title": {
            "standoff": 15
           },
           "zerolinecolor": "white",
           "zerolinewidth": 2
          }
         }
        },
        "title": {
         "text": "Negative"
        },
        "width": 1000
       }
      },
      "text/html": [
       "<div>                            <div id=\"e3b751b6-7be0-4f12-91e6-7b63218a541e\" class=\"plotly-graph-div\" style=\"height:400px; width:1000px;\"></div>            <script type=\"text/javascript\">                require([\"plotly\"], function(Plotly) {                    window.PLOTLYENV=window.PLOTLYENV || {};                                    if (document.getElementById(\"e3b751b6-7be0-4f12-91e6-7b63218a541e\")) {                    Plotly.newPlot(                        \"e3b751b6-7be0-4f12-91e6-7b63218a541e\",                        [{\"cells\": {\"align\": [\"left\", \"center\", \"center\", \"center\"], \"fill\": {\"color\": [[\"white\", \"lightgrey\", \"white\", \"lightgrey\", \"white\", \"white\", \"lightgrey\", \"white\", \"lightgrey\", \"white\", \"white\", \"lightgrey\", \"white\", \"lightgrey\", \"white\", \"white\", \"lightgrey\", \"white\", \"lightgrey\", \"white\", \"white\", \"lightgrey\", \"white\", \"lightgrey\", \"white\"]]}, \"values\": [[\"Error message:\\n@X3.TRT/SUBITM$adx (2569) Error 8 : Index Incorrect ISAU(500)\\n\\nGetting this error after adding a new site.\\n\", \"When trying to generate the positive pay file - we experience the following error - file return error - no checks selected. There are checks generated and printed.\", \"Sage X3 allows a parameter to warn user for duplicate values in BPRVCR.\\u00a0\\n\\nHow can this warning be change to an error?\\u00a0\\n\", \"We run Sage X3 Update 9 Patch 9.\\n\\nThe cost of a product we buy is going negative.\\nThis occurs from time to time because the product is a by-product- sometimes the supplier can sell the by-product, but other times they have to pay us to take it.\\nDepending on how extremely below zero the costs go, we may even start charging our customers a negative price.\\u00a0\\nThis will occur in both back-to-back and stock orders.\\n\\nCan we support this in X3?\\n\\nThought process;\\n(The following all reads\\u00a0bizarrely to me, but\\u00a0here goes...;)\\n1. We raise PO to supplier with negative cost (-$20/ton)\\n2. Supplier sends us their invoice with negative cost (-$20/ton)\\n3. Supplier pays us based on their (negative) invoice. Is a supplier invoice therefore\\u00a0handled by Accounts Receivable rather than Accounts Payable functions in X3?\\n4. We receive goods into inventory at a negative cost (-$20/ton). Average Unit Cost (AUC) goes negative.\\n5. We create Sales Order with negative gross price (-$5) and negative cost ($-20) to Customer (Margin = +$15)\\n6.\\u00a0We create Sales Delivery with negative gross price (-$5) to Customer.\\n7. We create Sales Invoice with negative gross price (-$5) and negative cost ($-20) to Customer (Margin = +$15)\\u00a0\\n8. We pay Customer based on our Sales Invoice with negative gross price. Is our Invoice to\\u00a0Customer therefore\\u00a0managed\\u00a0by our Accounts Payable rather than Accounts Receivable functions in X3?\\n\\nIs this high level process supportable/logical/sensible in X3?\\nSteps 3 and 8 are standing out to me the most\\u00a0in consideration of \\\"How will that work?\\\"\\nAny advice would be appreciated. Thanks in advance.\", \"D:\\\\Sage\\\\SAGEX3V7\\\\X3V71\\\\folders\\\\TEST\\\\TRT\\\\WGWMSFCSTD.adx : File Non-existent\\n\\nHow to resolve this error.\\n\\nRegards\\n\"], [0.415, 0.276, 0.258, 0.249, 0.246], [0.585, 0.613, 0.64, 0.693, 0.55], [0.0, 0.11, 0.102, 0.058, 0.204]]}, \"columnwidth\": [300, 40, 40, 40], \"header\": {\"align\": [\"left\", \"center\", \"center\", \"center\"], \"fill\": {\"color\": \"#39416C\"}, \"font\": {\"color\": \"white\", \"size\": 12}, \"values\": [\"Forum_Post_Raw\", \"neg\", \"neu\", \"pos\"]}, \"type\": \"table\"}],                        {\"height\": 400, \"template\": {\"data\": {\"bar\": [{\"error_x\": {\"color\": \"#2a3f5f\"}, \"error_y\": {\"color\": \"#2a3f5f\"}, \"marker\": {\"line\": {\"color\": \"#E5ECF6\", \"width\": 0.5}}, \"type\": \"bar\"}], \"barpolar\": [{\"marker\": {\"line\": {\"color\": \"#E5ECF6\", \"width\": 0.5}}, \"type\": \"barpolar\"}], \"carpet\": [{\"aaxis\": {\"endlinecolor\": \"#2a3f5f\", \"gridcolor\": \"white\", \"linecolor\": \"white\", \"minorgridcolor\": \"white\", \"startlinecolor\": \"#2a3f5f\"}, \"baxis\": {\"endlinecolor\": \"#2a3f5f\", \"gridcolor\": \"white\", \"linecolor\": \"white\", \"minorgridcolor\": \"white\", \"startlinecolor\": \"#2a3f5f\"}, \"type\": \"carpet\"}], \"choropleth\": [{\"colorbar\": {\"outlinewidth\": 0, \"ticks\": \"\"}, \"type\": \"choropleth\"}], \"contour\": [{\"colorbar\": {\"outlinewidth\": 0, \"ticks\": \"\"}, \"colorscale\": [[0.0, \"#0d0887\"], [0.1111111111111111, \"#46039f\"], [0.2222222222222222, \"#7201a8\"], [0.3333333333333333, \"#9c179e\"], [0.4444444444444444, \"#bd3786\"], [0.5555555555555556, \"#d8576b\"], [0.6666666666666666, \"#ed7953\"], [0.7777777777777778, \"#fb9f3a\"], [0.8888888888888888, \"#fdca26\"], [1.0, \"#f0f921\"]], \"type\": \"contour\"}], \"contourcarpet\": [{\"colorbar\": {\"outlinewidth\": 0, \"ticks\": \"\"}, \"type\": \"contourcarpet\"}], \"heatmap\": [{\"colorbar\": {\"outlinewidth\": 0, \"ticks\": \"\"}, \"colorscale\": [[0.0, \"#0d0887\"], [0.1111111111111111, \"#46039f\"], [0.2222222222222222, \"#7201a8\"], [0.3333333333333333, \"#9c179e\"], [0.4444444444444444, \"#bd3786\"], [0.5555555555555556, \"#d8576b\"], [0.6666666666666666, \"#ed7953\"], [0.7777777777777778, \"#fb9f3a\"], [0.8888888888888888, \"#fdca26\"], [1.0, \"#f0f921\"]], \"type\": \"heatmap\"}], \"heatmapgl\": [{\"colorbar\": {\"outlinewidth\": 0, \"ticks\": \"\"}, \"colorscale\": [[0.0, \"#0d0887\"], [0.1111111111111111, \"#46039f\"], [0.2222222222222222, \"#7201a8\"], [0.3333333333333333, \"#9c179e\"], [0.4444444444444444, \"#bd3786\"], [0.5555555555555556, \"#d8576b\"], [0.6666666666666666, \"#ed7953\"], [0.7777777777777778, \"#fb9f3a\"], [0.8888888888888888, \"#fdca26\"], [1.0, \"#f0f921\"]], \"type\": \"heatmapgl\"}], \"histogram\": [{\"marker\": {\"colorbar\": {\"outlinewidth\": 0, \"ticks\": \"\"}}, \"type\": \"histogram\"}], \"histogram2d\": [{\"colorbar\": {\"outlinewidth\": 0, \"ticks\": \"\"}, \"colorscale\": [[0.0, \"#0d0887\"], [0.1111111111111111, \"#46039f\"], [0.2222222222222222, \"#7201a8\"], [0.3333333333333333, \"#9c179e\"], [0.4444444444444444, \"#bd3786\"], [0.5555555555555556, \"#d8576b\"], [0.6666666666666666, \"#ed7953\"], [0.7777777777777778, \"#fb9f3a\"], [0.8888888888888888, \"#fdca26\"], [1.0, \"#f0f921\"]], \"type\": \"histogram2d\"}], \"histogram2dcontour\": [{\"colorbar\": {\"outlinewidth\": 0, \"ticks\": \"\"}, \"colorscale\": [[0.0, \"#0d0887\"], [0.1111111111111111, \"#46039f\"], [0.2222222222222222, \"#7201a8\"], [0.3333333333333333, \"#9c179e\"], [0.4444444444444444, \"#bd3786\"], [0.5555555555555556, \"#d8576b\"], [0.6666666666666666, \"#ed7953\"], [0.7777777777777778, \"#fb9f3a\"], [0.8888888888888888, \"#fdca26\"], [1.0, \"#f0f921\"]], \"type\": \"histogram2dcontour\"}], \"mesh3d\": [{\"colorbar\": {\"outlinewidth\": 0, \"ticks\": \"\"}, \"type\": \"mesh3d\"}], \"parcoords\": [{\"line\": {\"colorbar\": {\"outlinewidth\": 0, \"ticks\": \"\"}}, \"type\": \"parcoords\"}], \"pie\": [{\"automargin\": true, \"type\": \"pie\"}], \"scatter\": [{\"marker\": {\"colorbar\": {\"outlinewidth\": 0, \"ticks\": \"\"}}, \"type\": \"scatter\"}], \"scatter3d\": [{\"line\": {\"colorbar\": {\"outlinewidth\": 0, \"ticks\": \"\"}}, \"marker\": {\"colorbar\": {\"outlinewidth\": 0, \"ticks\": \"\"}}, \"type\": \"scatter3d\"}], \"scattercarpet\": [{\"marker\": {\"colorbar\": {\"outlinewidth\": 0, \"ticks\": \"\"}}, \"type\": \"scattercarpet\"}], \"scattergeo\": [{\"marker\": {\"colorbar\": {\"outlinewidth\": 0, \"ticks\": \"\"}}, \"type\": \"scattergeo\"}], \"scattergl\": [{\"marker\": {\"colorbar\": {\"outlinewidth\": 0, \"ticks\": \"\"}}, \"type\": \"scattergl\"}], \"scattermapbox\": [{\"marker\": {\"colorbar\": {\"outlinewidth\": 0, \"ticks\": \"\"}}, \"type\": \"scattermapbox\"}], \"scatterpolar\": [{\"marker\": {\"colorbar\": {\"outlinewidth\": 0, \"ticks\": \"\"}}, \"type\": \"scatterpolar\"}], \"scatterpolargl\": [{\"marker\": {\"colorbar\": {\"outlinewidth\": 0, \"ticks\": \"\"}}, \"type\": \"scatterpolargl\"}], \"scatterternary\": [{\"marker\": {\"colorbar\": {\"outlinewidth\": 0, \"ticks\": \"\"}}, \"type\": \"scatterternary\"}], \"surface\": [{\"colorbar\": {\"outlinewidth\": 0, \"ticks\": \"\"}, \"colorscale\": [[0.0, \"#0d0887\"], [0.1111111111111111, \"#46039f\"], [0.2222222222222222, \"#7201a8\"], [0.3333333333333333, \"#9c179e\"], [0.4444444444444444, \"#bd3786\"], [0.5555555555555556, \"#d8576b\"], [0.6666666666666666, \"#ed7953\"], [0.7777777777777778, \"#fb9f3a\"], [0.8888888888888888, \"#fdca26\"], [1.0, \"#f0f921\"]], \"type\": \"surface\"}], \"table\": [{\"cells\": {\"fill\": {\"color\": \"#EBF0F8\"}, \"line\": {\"color\": \"white\"}}, \"header\": {\"fill\": {\"color\": \"#C8D4E3\"}, \"line\": {\"color\": \"white\"}}, \"type\": \"table\"}]}, \"layout\": {\"annotationdefaults\": {\"arrowcolor\": \"#2a3f5f\", \"arrowhead\": 0, \"arrowwidth\": 1}, \"autotypenumbers\": \"strict\", \"coloraxis\": {\"colorbar\": {\"outlinewidth\": 0, \"ticks\": \"\"}}, \"colorscale\": {\"diverging\": [[0, \"#8e0152\"], [0.1, \"#c51b7d\"], [0.2, \"#de77ae\"], [0.3, \"#f1b6da\"], [0.4, \"#fde0ef\"], [0.5, \"#f7f7f7\"], [0.6, \"#e6f5d0\"], [0.7, \"#b8e186\"], [0.8, \"#7fbc41\"], [0.9, \"#4d9221\"], [1, \"#276419\"]], \"sequential\": [[0.0, \"#0d0887\"], [0.1111111111111111, \"#46039f\"], [0.2222222222222222, \"#7201a8\"], [0.3333333333333333, \"#9c179e\"], [0.4444444444444444, \"#bd3786\"], [0.5555555555555556, \"#d8576b\"], [0.6666666666666666, \"#ed7953\"], [0.7777777777777778, \"#fb9f3a\"], [0.8888888888888888, \"#fdca26\"], [1.0, \"#f0f921\"]], \"sequentialminus\": [[0.0, \"#0d0887\"], [0.1111111111111111, \"#46039f\"], [0.2222222222222222, \"#7201a8\"], [0.3333333333333333, \"#9c179e\"], [0.4444444444444444, \"#bd3786\"], [0.5555555555555556, \"#d8576b\"], [0.6666666666666666, \"#ed7953\"], [0.7777777777777778, \"#fb9f3a\"], [0.8888888888888888, \"#fdca26\"], [1.0, \"#f0f921\"]]}, \"colorway\": [\"#636efa\", \"#EF553B\", \"#00cc96\", \"#ab63fa\", \"#FFA15A\", \"#19d3f3\", \"#FF6692\", \"#B6E880\", \"#FF97FF\", \"#FECB52\"], \"font\": {\"color\": \"#2a3f5f\"}, \"geo\": {\"bgcolor\": \"white\", \"lakecolor\": \"white\", \"landcolor\": \"#E5ECF6\", \"showlakes\": true, \"showland\": true, \"subunitcolor\": \"white\"}, \"hoverlabel\": {\"align\": \"left\"}, \"hovermode\": \"closest\", \"mapbox\": {\"style\": \"light\"}, \"paper_bgcolor\": \"white\", \"plot_bgcolor\": \"#E5ECF6\", \"polar\": {\"angularaxis\": {\"gridcolor\": \"white\", \"linecolor\": \"white\", \"ticks\": \"\"}, \"bgcolor\": \"#E5ECF6\", \"radialaxis\": {\"gridcolor\": \"white\", \"linecolor\": \"white\", \"ticks\": \"\"}}, \"scene\": {\"xaxis\": {\"backgroundcolor\": \"#E5ECF6\", \"gridcolor\": \"white\", \"gridwidth\": 2, \"linecolor\": \"white\", \"showbackground\": true, \"ticks\": \"\", \"zerolinecolor\": \"white\"}, \"yaxis\": {\"backgroundcolor\": \"#E5ECF6\", \"gridcolor\": \"white\", \"gridwidth\": 2, \"linecolor\": \"white\", \"showbackground\": true, \"ticks\": \"\", \"zerolinecolor\": \"white\"}, \"zaxis\": {\"backgroundcolor\": \"#E5ECF6\", \"gridcolor\": \"white\", \"gridwidth\": 2, \"linecolor\": \"white\", \"showbackground\": true, \"ticks\": \"\", \"zerolinecolor\": \"white\"}}, \"shapedefaults\": {\"line\": {\"color\": \"#2a3f5f\"}}, \"ternary\": {\"aaxis\": {\"gridcolor\": \"white\", \"linecolor\": \"white\", \"ticks\": \"\"}, \"baxis\": {\"gridcolor\": \"white\", \"linecolor\": \"white\", \"ticks\": \"\"}, \"bgcolor\": \"#E5ECF6\", \"caxis\": {\"gridcolor\": \"white\", \"linecolor\": \"white\", \"ticks\": \"\"}}, \"title\": {\"x\": 0.05}, \"xaxis\": {\"automargin\": true, \"gridcolor\": \"white\", \"linecolor\": \"white\", \"ticks\": \"\", \"title\": {\"standoff\": 15}, \"zerolinecolor\": \"white\", \"zerolinewidth\": 2}, \"yaxis\": {\"automargin\": true, \"gridcolor\": \"white\", \"linecolor\": \"white\", \"ticks\": \"\", \"title\": {\"standoff\": 15}, \"zerolinecolor\": \"white\", \"zerolinewidth\": 2}}}, \"title\": {\"text\": \"Negative\"}, \"width\": 1000},                        {\"responsive\": true}                    ).then(function(){\n",
       "                            \n",
       "var gd = document.getElementById('e3b751b6-7be0-4f12-91e6-7b63218a541e');\n",
       "var x = new MutationObserver(function (mutations, observer) {{\n",
       "        var display = window.getComputedStyle(gd).display;\n",
       "        if (!display || display === 'none') {{\n",
       "            console.log([gd, 'removed!']);\n",
       "            Plotly.purge(gd);\n",
       "            observer.disconnect();\n",
       "        }}\n",
       "}});\n",
       "\n",
       "// Listen for the removal of the full notebook cells\n",
       "var notebookContainer = gd.closest('#notebook-container');\n",
       "if (notebookContainer) {{\n",
       "    x.observe(notebookContainer, {childList: true});\n",
       "}}\n",
       "\n",
       "// Listen for the clearing of the current output cell\n",
       "var outputEl = gd.closest('.output');\n",
       "if (outputEl) {{\n",
       "    x.observe(outputEl, {childList: true});\n",
       "}}\n",
       "\n",
       "                        })                };                });            </script>        </div>"
      ]
     },
     "metadata": {},
     "output_type": "display_data"
    }
   ],
   "source": [
    "\n",
    "import plotly.graph_objects as go\n",
    "import pandas as pd\n",
    "\n",
    "def WriteMyTable(dataSets):\n",
    "    for frame in dataSets:\n",
    "        headerColor = 'grey'\n",
    "        rowEvenColor = 'lightgrey'\n",
    "        rowOddColor = 'white'\n",
    "\n",
    "        fig = go.Figure(data=[go.Table(\n",
    "            columnwidth = [300,40,40,40],\n",
    "            header=dict(values=[x for x in features],\n",
    "                        fill_color='#39416C',                \n",
    "                        font=dict(color='white', size=12),\n",
    "                        align=['left', 'center', 'center', 'center']),\n",
    "            cells=dict(values=[frame.Forum_Post_Raw, frame.neg, frame.neu, frame.pos],\n",
    "                    fill_color = [[rowOddColor,rowEvenColor,rowOddColor, rowEvenColor,rowOddColor]*5],\n",
    "                    align=['left', 'center', 'center', 'center']))\n",
    "        ])\n",
    "        fig.update_layout(title=frame.name, width=1000, height=400)\n",
    "        fig.write_html(frame.name+\".html\")\n",
    "        fig.show()\n",
    "\n",
    "WriteMyTable(dataSets)\n"
   ]
  },
  {
   "cell_type": "markdown",
   "metadata": {},
   "source": [
    "# Charting Ideas\n",
    "1. Top pos / neg post by user\n",
    "2. Trend line over time (SNS) color = user\n",
    "- Does it match up to release dates or seasonal timings? \n",
    "- Was there a bad release?\n",
    "- Was there a good release?\n",
    "- Can we classify based on tags?\n",
    "\n",
    "3. PCA analysis\n",
    "4. Felix analysis (lda): https://towardsdatascience.com/the-complete-guide-for-topics-extraction-in-python-a6aaa6cedbbc\n",
    "5. Prediction of nltk accuracy chart?"
   ]
  },
  {
   "cell_type": "markdown",
   "metadata": {},
   "source": [
    "# Latent Dirichlet Allocation (LDA) Analysis"
   ]
  },
  {
   "cell_type": "markdown",
   "metadata": {},
   "source": [
    "Three main parameters of the model\n",
    "1. Number of topics\n",
    "2. Number of words per topic\n",
    "3. Number of topics per document"
   ]
  },
  {
   "cell_type": "code",
   "execution_count": 220,
   "metadata": {},
   "outputs": [
    {
     "name": "stderr",
     "output_type": "stream",
     "text": [
      "C:\\Users\\BDelamater\\Anaconda3\\lib\\site-packages\\ipykernel\\ipkernel.py:287: DeprecationWarning:\n",
      "\n",
      "`should_run_async` will not call `transform_cell` automatically in the future. Please pass the result to `transformed_cell` argument and any exception that happen during thetransform in `preprocessing_exc_tuple` in IPython 7.17 and above.\n",
      "\n",
      "<ipython-input-220-6223f08b0e3e>:4: TqdmDeprecationWarning:\n",
      "\n",
      "This function will be removed in tqdm==5.0.0\n",
      "Please use `tqdm.notebook.tqdm` instead of `tqdm.tqdm_notebook`\n",
      "\n"
     ]
    },
    {
     "data": {
      "application/vnd.jupyter.widget-view+json": {
       "model_id": "34c8ed7db52348ff91d9e1e7eacb4e84",
       "version_major": 2,
       "version_minor": 0
      },
      "text/plain": [
       "0it [00:00, ?it/s]"
      ]
     },
     "metadata": {},
     "output_type": "display_data"
    },
    {
     "name": "stderr",
     "output_type": "stream",
     "text": [
      "[nltk_data] Downloading package averaged_perceptron_tagger to\n",
      "[nltk_data]     C:\\Users\\BDelamater\\AppData\\Roaming\\nltk_data...\n",
      "[nltk_data]   Package averaged_perceptron_tagger is already up-to-\n",
      "[nltk_data]       date!\n"
     ]
    }
   ],
   "source": [
    "from gensim import corpora, models\n",
    "from langdetect import detect\n",
    "from tqdm import tqdm_notebook\n",
    "tqdm_notebook().pandas()\n",
    "from nltk.tokenize import sent_tokenize\n",
    "from nltk.tokenize import word_tokenize\n",
    "from nltk import pos_tag\n",
    "from gensim.models import Phrases\n",
    "from gensim import corpora\n",
    "from gensim import models\n",
    "import numpy as np\n",
    "\n",
    "\n",
    "import nltk\n",
    "nltk.download('averaged_perceptron_tagger')\n",
    "from itertools import chain # to flatten list of sentences of tokens into list of tokens\n",
    "\n"
   ]
  },
  {
   "cell_type": "code",
   "execution_count": 221,
   "metadata": {},
   "outputs": [
    {
     "name": "stderr",
     "output_type": "stream",
     "text": [
      "C:\\Users\\BDelamater\\Anaconda3\\lib\\site-packages\\ipykernel\\ipkernel.py:287: DeprecationWarning:\n",
      "\n",
      "`should_run_async` will not call `transform_cell` automatically in the future. Please pass the result to `transformed_cell` argument and any exception that happen during thetransform in `preprocessing_exc_tuple` in IPython 7.17 and above.\n",
      "\n"
     ]
    }
   ],
   "source": [
    "# dictionary_LDA = corpora.Dictionary(list_of_list_of_tokens)\n",
    "# dictionary_LDA.filter_extremes(no_below=3)\n",
    "# corpus = [dictionary_LDA.doc2bow(list_of_tokens) for list_of_tokens in list_of_list_of_tokens]\n",
    "\n",
    "# num_topics = 20\n",
    "# %time lda_model = models.LdaModel(corpus, num_topics=num_topics, \\\n",
    "#                                   id2word=dictionary_LDA, \\\n",
    "#                                   passes=4, alpha=[0.01]*num_topics, \\\n",
    "#                                   eta=[0.01]*len(dictionary_LDA.keys()))"
   ]
  },
  {
   "cell_type": "markdown",
   "metadata": {},
   "source": [
    "## Tokenization"
   ]
  },
  {
   "cell_type": "code",
   "execution_count": 222,
   "metadata": {},
   "outputs": [
    {
     "name": "stderr",
     "output_type": "stream",
     "text": [
      "C:\\Users\\BDelamater\\Anaconda3\\lib\\site-packages\\ipykernel\\ipkernel.py:287: DeprecationWarning:\n",
      "\n",
      "`should_run_async` will not call `transform_cell` automatically in the future. Please pass the result to `transformed_cell` argument and any exception that happen during thetransform in `preprocessing_exc_tuple` in IPython 7.17 and above.\n",
      "\n"
     ]
    },
    {
     "data": {
      "text/plain": [
       "Forum ID            0\n",
       "Forum Name          0\n",
       "Subject             0\n",
       "Post Date           0\n",
       "User DisplayName    0\n",
       "Forum_Post_Raw      0\n",
       "compound            0\n",
       "neg                 0\n",
       "neu                 0\n",
       "pos                 0\n",
       "Sentiment           0\n",
       "PostDate            0\n",
       "DayName             0\n",
       "DayOfMonth          0\n",
       "ShortText           0\n",
       "dtype: int64"
      ]
     },
     "execution_count": 222,
     "metadata": {},
     "output_type": "execute_result"
    }
   ],
   "source": [
    "dfLDA.isna().sum()"
   ]
  },
  {
   "cell_type": "code",
   "execution_count": 223,
   "metadata": {},
   "outputs": [
    {
     "name": "stderr",
     "output_type": "stream",
     "text": [
      "C:\\Users\\BDelamater\\Anaconda3\\lib\\site-packages\\ipykernel\\ipkernel.py:287: DeprecationWarning:\n",
      "\n",
      "`should_run_async` will not call `transform_cell` automatically in the future. Please pass the result to `transformed_cell` argument and any exception that happen during thetransform in `preprocessing_exc_tuple` in IPython 7.17 and above.\n",
      "\n"
     ]
    },
    {
     "data": {
      "application/vnd.jupyter.widget-view+json": {
       "model_id": "44b71f1f093742b2ab478c3e24003b5b",
       "version_major": 2,
       "version_minor": 0
      },
      "text/plain": [
       "  0%|          | 0/1086 [00:00<?, ?it/s]"
      ]
     },
     "metadata": {},
     "output_type": "display_data"
    },
    {
     "data": {
      "text/plain": [
       "['Company upgraded to windows 10.',\n",
       " 'Used to run an ERP program which no one heard about, made by U8Soft (keep in mind that the company is in China).',\n",
       " 'They are now asking for an insanely high amount of money to get it to work on windows 10.']"
      ]
     },
     "execution_count": 223,
     "metadata": {},
     "output_type": "execute_result"
    }
   ],
   "source": [
    "dfLDA['sentences'] = dfLDA.Forum_Post_Raw.progress_map(sent_tokenize)\n",
    "dfLDA['sentences'].head(1).tolist()[0][:3]"
   ]
  },
  {
   "cell_type": "code",
   "execution_count": 224,
   "metadata": {},
   "outputs": [
    {
     "name": "stderr",
     "output_type": "stream",
     "text": [
      "C:\\Users\\BDelamater\\Anaconda3\\lib\\site-packages\\ipykernel\\ipkernel.py:287: DeprecationWarning:\n",
      "\n",
      "`should_run_async` will not call `transform_cell` automatically in the future. Please pass the result to `transformed_cell` argument and any exception that happen during thetransform in `preprocessing_exc_tuple` in IPython 7.17 and above.\n",
      "\n"
     ]
    },
    {
     "data": {
      "application/vnd.jupyter.widget-view+json": {
       "model_id": "7b05beb53dc84985b85f56012616cf98",
       "version_major": 2,
       "version_minor": 0
      },
      "text/plain": [
       "  0%|          | 0/1086 [00:00<?, ?it/s]"
      ]
     },
     "metadata": {},
     "output_type": "display_data"
    },
    {
     "name": "stdout",
     "output_type": "stream",
     "text": [
      "[['Company', 'upgraded', 'to', 'windows', '10', '.'], ['Used', 'to', 'run', 'an', 'ERP', 'program', 'which', 'no', 'one', 'heard', 'about', ',', 'made', 'by', 'U8Soft', '(', 'keep', 'in', 'mind', 'that', 'the', 'company', 'is', 'in', 'China', ')', '.'], ['They', 'are', 'now', 'asking', 'for', 'an', 'insanely', 'high', 'amount', 'of', 'money', 'to', 'get', 'it', 'to', 'work', 'on', 'windows', '10', '.']]\n"
     ]
    }
   ],
   "source": [
    "dfLDA['token_sentences'] = dfLDA['sentences'].progress_map(lambda sentences: [word_tokenize(sentence) for sentence in sentences])\n",
    "print(dfLDA['token_sentences'].head(1).tolist()[0][:3])"
   ]
  },
  {
   "cell_type": "code",
   "execution_count": 225,
   "metadata": {},
   "outputs": [
    {
     "name": "stderr",
     "output_type": "stream",
     "text": [
      "C:\\Users\\BDelamater\\Anaconda3\\lib\\site-packages\\ipykernel\\ipkernel.py:287: DeprecationWarning:\n",
      "\n",
      "`should_run_async` will not call `transform_cell` automatically in the future. Please pass the result to `transformed_cell` argument and any exception that happen during thetransform in `preprocessing_exc_tuple` in IPython 7.17 and above.\n",
      "\n"
     ]
    },
    {
     "data": {
      "application/vnd.jupyter.widget-view+json": {
       "model_id": "f199eb0fdd86483799f1cdad669c892a",
       "version_major": 2,
       "version_minor": 0
      },
      "text/plain": [
       "  0%|          | 0/1086 [00:00<?, ?it/s]"
      ]
     },
     "metadata": {},
     "output_type": "display_data"
    },
    {
     "name": "stdout",
     "output_type": "stream",
     "text": [
      "[['Company', 'upgraded', 'to', 'windows', '10', '.'], ['Used', 'to', 'run', 'an', 'ERP', 'program', 'which', 'no', 'one', 'heard', 'about', ',', 'made', 'by', 'U8Soft', '(', 'keep', 'in', 'mind', 'that', 'the', 'company', 'is', 'in', 'China', ')', '.'], ['They', 'are', 'now', 'asking', 'for', 'an', 'insanely', 'high', 'amount', 'of', 'money', 'to', 'get', 'it', 'to', 'work', 'on', 'windows', '10', '.']]\n"
     ]
    }
   ],
   "source": [
    "dfLDA['tokens_sentences'] = dfLDA['sentences'].progress_map(lambda sentences: [word_tokenize(sentence) for sentence in sentences])\n",
    "print(dfLDA['tokens_sentences'].head(1).tolist()[0][:3])"
   ]
  },
  {
   "cell_type": "markdown",
   "metadata": {},
   "source": [
    "## Lemmatize with POS tagging"
   ]
  },
  {
   "cell_type": "code",
   "execution_count": 226,
   "metadata": {},
   "outputs": [
    {
     "name": "stderr",
     "output_type": "stream",
     "text": [
      "C:\\Users\\BDelamater\\Anaconda3\\lib\\site-packages\\ipykernel\\ipkernel.py:287: DeprecationWarning:\n",
      "\n",
      "`should_run_async` will not call `transform_cell` automatically in the future. Please pass the result to `transformed_cell` argument and any exception that happen during thetransform in `preprocessing_exc_tuple` in IPython 7.17 and above.\n",
      "\n"
     ]
    },
    {
     "data": {
      "application/vnd.jupyter.widget-view+json": {
       "model_id": "7dca83592bc5455fa2def0b8f8bacb04",
       "version_major": 2,
       "version_minor": 0
      },
      "text/plain": [
       "  0%|          | 0/1086 [00:00<?, ?it/s]"
      ]
     },
     "metadata": {},
     "output_type": "display_data"
    },
    {
     "name": "stdout",
     "output_type": "stream",
     "text": [
      "[[('Company', 'NN'), ('upgraded', 'VBD'), ('to', 'TO'), ('windows', 'VB'), ('10', 'CD'), ('.', '.')], [('Used', 'VBN'), ('to', 'TO'), ('run', 'VB'), ('an', 'DT'), ('ERP', 'NNP'), ('program', 'NN'), ('which', 'WDT'), ('no', 'DT'), ('one', 'NN'), ('heard', 'NN'), ('about', 'IN'), (',', ','), ('made', 'VBN'), ('by', 'IN'), ('U8Soft', 'NNP'), ('(', '('), ('keep', 'VB'), ('in', 'IN'), ('mind', 'NN'), ('that', 'IN'), ('the', 'DT'), ('company', 'NN'), ('is', 'VBZ'), ('in', 'IN'), ('China', 'NNP'), (')', ')'), ('.', '.')], [('They', 'PRP'), ('are', 'VBP'), ('now', 'RB'), ('asking', 'VBG'), ('for', 'IN'), ('an', 'DT'), ('insanely', 'RB'), ('high', 'JJ'), ('amount', 'NN'), ('of', 'IN'), ('money', 'NN'), ('to', 'TO'), ('get', 'VB'), ('it', 'PRP'), ('to', 'TO'), ('work', 'VB'), ('on', 'IN'), ('windows', 'NNS'), ('10', 'CD'), ('.', '.')]]\n"
     ]
    }
   ],
   "source": [
    "dfLDA['POS_tokens'] = dfLDA['tokens_sentences'].progress_map(lambda tokens_sentences: [pos_tag(tokens) for tokens in tokens_sentences])\n",
    "print(dfLDA['POS_tokens'].head(1).tolist()[0][:3])\n"
   ]
  },
  {
   "cell_type": "code",
   "execution_count": 227,
   "metadata": {},
   "outputs": [
    {
     "name": "stderr",
     "output_type": "stream",
     "text": [
      "C:\\Users\\BDelamater\\Anaconda3\\lib\\site-packages\\ipykernel\\ipkernel.py:287: DeprecationWarning:\n",
      "\n",
      "`should_run_async` will not call `transform_cell` automatically in the future. Please pass the result to `transformed_cell` argument and any exception that happen during thetransform in `preprocessing_exc_tuple` in IPython 7.17 and above.\n",
      "\n"
     ]
    }
   ],
   "source": [
    "# Inspired from https://stackoverflow.com/a/15590384\n",
    "from nltk.corpus import wordnet\n",
    "\n",
    "def get_wordnet_pos(treebank_tag):\n",
    "\n",
    "    if treebank_tag.startswith('J'):\n",
    "        return wordnet.ADJ\n",
    "    elif treebank_tag.startswith('V'):\n",
    "        return wordnet.VERB\n",
    "    elif treebank_tag.startswith('N'):\n",
    "        return wordnet.NOUN\n",
    "    elif treebank_tag.startswith('R'):\n",
    "        return wordnet.ADV\n",
    "    else:\n",
    "        return ''\n",
    "\n",
    "from nltk.stem.wordnet import WordNetLemmatizer\n",
    "lemmatizer = WordNetLemmatizer()"
   ]
  },
  {
   "cell_type": "code",
   "execution_count": 228,
   "metadata": {},
   "outputs": [
    {
     "name": "stderr",
     "output_type": "stream",
     "text": [
      "C:\\Users\\BDelamater\\Anaconda3\\lib\\site-packages\\ipykernel\\ipkernel.py:287: DeprecationWarning:\n",
      "\n",
      "`should_run_async` will not call `transform_cell` automatically in the future. Please pass the result to `transformed_cell` argument and any exception that happen during thetransform in `preprocessing_exc_tuple` in IPython 7.17 and above.\n",
      "\n"
     ]
    },
    {
     "data": {
      "application/vnd.jupyter.widget-view+json": {
       "model_id": "9fa60b0428d641f88bf854b6125a4110",
       "version_major": 2,
       "version_minor": 0
      },
      "text/plain": [
       "  0%|          | 0/1086 [00:00<?, ?it/s]"
      ]
     },
     "metadata": {},
     "output_type": "display_data"
    }
   ],
   "source": [
    "# Lemmatizing each word with its POS tag, in each sentence\n",
    "dfLDA['tokens_sentences_lemmatized'] = dfLDA['POS_tokens'].progress_map(\n",
    "    lambda list_tokens_POS: [\n",
    "        [\n",
    "            lemmatizer.lemmatize(el[0], get_wordnet_pos(el[1])) \n",
    "            if get_wordnet_pos(el[1]) != '' else el[0] for el in tokens_POS\n",
    "        ] \n",
    "        for tokens_POS in list_tokens_POS\n",
    "    ]\n",
    ")"
   ]
  },
  {
   "cell_type": "code",
   "execution_count": 229,
   "metadata": {},
   "outputs": [
    {
     "name": "stderr",
     "output_type": "stream",
     "text": [
      "C:\\Users\\BDelamater\\Anaconda3\\lib\\site-packages\\ipykernel\\ipkernel.py:287: DeprecationWarning:\n",
      "\n",
      "`should_run_async` will not call `transform_cell` automatically in the future. Please pass the result to `transformed_cell` argument and any exception that happen during thetransform in `preprocessing_exc_tuple` in IPython 7.17 and above.\n",
      "\n"
     ]
    },
    {
     "data": {
      "text/plain": [
       "[['Company', 'upgrade', 'to', 'windows', '10', '.'],\n",
       " ['Used',\n",
       "  'to',\n",
       "  'run',\n",
       "  'an',\n",
       "  'ERP',\n",
       "  'program',\n",
       "  'which',\n",
       "  'no',\n",
       "  'one',\n",
       "  'heard',\n",
       "  'about',\n",
       "  ',',\n",
       "  'make',\n",
       "  'by',\n",
       "  'U8Soft',\n",
       "  '(',\n",
       "  'keep',\n",
       "  'in',\n",
       "  'mind',\n",
       "  'that',\n",
       "  'the',\n",
       "  'company',\n",
       "  'be',\n",
       "  'in',\n",
       "  'China',\n",
       "  ')',\n",
       "  '.'],\n",
       " ['They',\n",
       "  'be',\n",
       "  'now',\n",
       "  'ask',\n",
       "  'for',\n",
       "  'an',\n",
       "  'insanely',\n",
       "  'high',\n",
       "  'amount',\n",
       "  'of',\n",
       "  'money',\n",
       "  'to',\n",
       "  'get',\n",
       "  'it',\n",
       "  'to',\n",
       "  'work',\n",
       "  'on',\n",
       "  'window',\n",
       "  '10',\n",
       "  '.']]"
      ]
     },
     "execution_count": 229,
     "metadata": {},
     "output_type": "execute_result"
    }
   ],
   "source": [
    "dfLDA['tokens_sentences_lemmatized'].head(1).tolist()[0][:3]\n"
   ]
  },
  {
   "cell_type": "markdown",
   "metadata": {},
   "source": [
    "## Regrouping tokens and removing stop words"
   ]
  },
  {
   "cell_type": "code",
   "execution_count": 403,
   "metadata": {},
   "outputs": [],
   "source": [
    "from nltk.corpus import stopwords\n",
    "stopwords_verbs = ['say', 'get', 'go', 'know', 'may', 'need', 'like', 'make', 'see', 'want', 'come', 'take', 'use', 'would', 'can']\n",
    "stopwords_other = ['one', 'mr', 'bbc', 'image', 'getty', 'de', 'en', 'caption', 'also', 'copyright', 'something']\n",
    "stopwords_nonsense = ['hello', 'thanks', 'le', 'la', 'hi', 'try', 'sage', 'however', 'way', 'data', 'download']\n",
    "my_stopwords = stopwords.words('English') + stopwords_verbs + stopwords_other + stopwords_nonsense\n"
   ]
  },
  {
   "cell_type": "code",
   "execution_count": 404,
   "metadata": {},
   "outputs": [],
   "source": [
    "dfLDA['tokens'] = dfLDA['tokens_sentences_lemmatized'].map(lambda sentences: list(chain.from_iterable(sentences)))\n",
    "dfLDA['tokens'] = dfLDA['tokens'].map(lambda tokens: [token.lower() for token in tokens if token.isalpha() \n",
    "                                                    and token.lower() not in my_stopwords and len(token)>1])\n"
   ]
  },
  {
   "cell_type": "code",
   "execution_count": 405,
   "metadata": {},
   "outputs": [
    {
     "data": {
      "text/plain": [
       "(1086, 29)"
      ]
     },
     "execution_count": 405,
     "metadata": {},
     "output_type": "execute_result"
    }
   ],
   "source": [
    "dfLDA.shape"
   ]
  },
  {
   "cell_type": "code",
   "execution_count": 406,
   "metadata": {},
   "outputs": [
    {
     "data": {
      "text/plain": [
       "['company',\n",
       " 'upgrade',\n",
       " 'windows',\n",
       " 'used',\n",
       " 'run',\n",
       " 'erp',\n",
       " 'program',\n",
       " 'heard',\n",
       " 'keep',\n",
       " 'mind',\n",
       " 'company',\n",
       " 'china',\n",
       " 'ask',\n",
       " 'insanely',\n",
       " 'high',\n",
       " 'amount',\n",
       " 'money',\n",
       " 'work',\n",
       " 'window',\n",
       " 'instal',\n",
       " 'window',\n",
       " 'ca',\n",
       " 'select',\n",
       " 'server',\n",
       " 'drop',\n",
       " 'menu',\n",
       " 'almost',\n",
       " 'network',\n",
       " 'list',\n",
       " 'except']"
      ]
     },
     "execution_count": 406,
     "metadata": {},
     "output_type": "execute_result"
    }
   ],
   "source": [
    "dfLDA['tokens'].head(1).tolist()[0][:30]\n"
   ]
  },
  {
   "cell_type": "markdown",
   "metadata": {},
   "source": [
    "## Data Preparation"
   ]
  },
  {
   "cell_type": "code",
   "execution_count": 689,
   "metadata": {},
   "outputs": [],
   "source": [
    "tokens = dfLDA['tokens'].tolist()\n",
    "bigram_model = Phrases(tokens)\n",
    "trigram_model = Phrases(bigram_model[tokens], min_count=1)\n",
    "tokens = list(trigram_model[bigram_model[tokens]])\n"
   ]
  },
  {
   "cell_type": "code",
   "execution_count": 690,
   "metadata": {},
   "outputs": [
    {
     "data": {
      "text/plain": [
       "(1086, 29)"
      ]
     },
     "execution_count": 690,
     "metadata": {},
     "output_type": "execute_result"
    }
   ],
   "source": [
    "dfLDA.shape"
   ]
  },
  {
   "cell_type": "code",
   "execution_count": 691,
   "metadata": {},
   "outputs": [],
   "source": [
    "dictionary_LDA = corpora.Dictionary(tokens)\n",
    "dictionary_LDA.filter_extremes(no_below=3)\n",
    "corpus = [dictionary_LDA.doc2bow(tok) for tok in tokens]\n"
   ]
  },
  {
   "cell_type": "code",
   "execution_count": 692,
   "metadata": {},
   "outputs": [
    {
     "name": "stdout",
     "output_type": "stream",
     "text": [
      "Wall time: 5.74 s\n"
     ]
    }
   ],
   "source": [
    "np.random.seed(123456)\n",
    "num_topics = 4\n",
    "\n",
    "%time lda_model = models.LdaModel(corpus, num_topics=num_topics, id2word=dictionary_LDA, passes=10, alpha=[0.01]*num_topics, eta=[0.01]*len(dictionary_LDA.keys()))\n",
    "\n"
   ]
  },
  {
   "cell_type": "code",
   "execution_count": 693,
   "metadata": {},
   "outputs": [],
   "source": [
    "lda_model.save('myLdaModel.model')"
   ]
  },
  {
   "cell_type": "code",
   "execution_count": 694,
   "metadata": {},
   "outputs": [
    {
     "name": "stdout",
     "output_type": "stream",
     "text": [
      "0: 0.020*\"error\" + 0.018*\"create\" + 0.011*\"file\" + 0.010*\"table\" + 0.009*\"field\" + 0.008*\"call\" + 0.008*\"work\" + 0.008*\"customer\" + 0.007*\"line\" + 0.007*\"run\" + 0.007*\"function\" + 0.006*\"anyone\" + 0.006*\"set\" + 0.006*\"folder\" + 0.006*\"add\" + 0.005*\"example\" + 0.005*\"find\" + 0.005*\"process\" + 0.005*\"code\" + 0.005*\"date\" + 0.005*\"update\" + 0.005*\"view\" + 0.005*\"show\" + 0.005*\"issue\" + 0.004*\"change\" + 0.004*\"http\" + 0.004*\"receipt\" + 0.004*\"detail\" + 0.004*\"user\" + 0.004*\"server\" + 0.004*\"possible\" + 0.004*\"return\" + 0.004*\"client\" + 0.004*\"help\" + 0.004*\"sql\" + 0.004*\"select\" + 0.004*\"link\" + 0.004*\"version\" + 0.004*\"check\" + 0.004*\"problem\" + 0.004*\"click\" + 0.004*\"sale_order\" + 0.004*\"still\" + 0.003*\"object\" + 0.003*\"log\" + 0.003*\"type\" + 0.003*\"error_message\" + 0.003*\"different\" + 0.003*\"column\" + 0.003*\"database\"\n",
      "\n",
      "1: 0.016*\"user\" + 0.011*\"create\" + 0.009*\"run\" + 0.009*\"new\" + 0.009*\"change\" + 0.009*\"screen\" + 0.009*\"table\" + 0.009*\"find\" + 0.007*\"error\" + 0.007*\"product\" + 0.007*\"set\" + 0.007*\"report\" + 0.007*\"field\" + 0.006*\"issue\" + 0.006*\"anyone\" + 0.006*\"company\" + 0.006*\"value\" + 0.006*\"system\" + 0.006*\"add\" + 0.006*\"possible\" + 0.006*\"process\" + 0.005*\"help\" + 0.005*\"record\" + 0.005*\"problem\" + 0.005*\"able\" + 0.005*\"look\" + 0.005*\"order\" + 0.005*\"date\" + 0.004*\"work\" + 0.004*\"quantity\" + 0.004*\"number\" + 0.004*\"function\" + 0.004*\"stock\" + 0.004*\"server\" + 0.004*\"different\" + 0.004*\"default\" + 0.004*\"select\" + 0.004*\"question\" + 0.004*\"lot\" + 0.004*\"show\" + 0.004*\"version\" + 0.004*\"example\" + 0.004*\"could\" + 0.004*\"transaction\" + 0.004*\"list\" + 0.003*\"action\" + 0.003*\"invoice\" + 0.003*\"entry\" + 0.003*\"thank\" + 0.003*\"option\"\n",
      "\n",
      "2: 0.018*\"product\" + 0.017*\"create\" + 0.014*\"line\" + 0.014*\"import\" + 0.013*\"customer\" + 0.013*\"invoice\" + 0.012*\"field\" + 0.010*\"error\" + 0.008*\"file\" + 0.008*\"work\" + 0.007*\"update\" + 0.007*\"set\" + 0.006*\"screen\" + 0.006*\"number\" + 0.006*\"code\" + 0.005*\"folder\" + 0.005*\"supplier\" + 0.005*\"setup\" + 0.005*\"help\" + 0.005*\"enter\" + 0.005*\"find\" + 0.005*\"user\" + 0.005*\"change\" + 0.005*\"table\" + 0.005*\"site\" + 0.005*\"stock\" + 0.005*\"issue\" + 0.005*\"process\" + 0.004*\"po\" + 0.004*\"check\" + 0.004*\"patch\" + 0.004*\"time\" + 0.004*\"address\" + 0.004*\"version\" + 0.004*\"workflow\" + 0.004*\"value\" + 0.004*\"record\" + 0.004*\"report\" + 0.004*\"delivery\" + 0.004*\"two\" + 0.004*\"cost\" + 0.004*\"order\" + 0.004*\"company\" + 0.004*\"look\" + 0.004*\"post\" + 0.004*\"run\" + 0.004*\"work_order\" + 0.003*\"transaction\" + 0.003*\"material\" + 0.003*\"information\"\n",
      "\n",
      "3: 0.013*\"change\" + 0.011*\"order\" + 0.011*\"user\" + 0.010*\"function\" + 0.009*\"university\" + 0.009*\"field_type_click_search\" + 0.009*\"access_log_http_search\" + 0.009*\"business_partner_ensure_component\" + 0.009*\"ensure_product_fully_compatible\" + 0.009*\"isvs_check_vendor_product\" + 0.009*\"release_integrate_product_check\" + 0.009*\"credential_upper_right_corner\" + 0.009*\"type_search_field_click\" + 0.009*\"patch_update_portal_access\" + 0.009*\"complete_list_available_downloads\" + 0.009*\"portal_https_enter_log\" + 0.008*\"work\" + 0.007*\"search_important_product_integrate\" + 0.007*\"compatible_highly_recommended_work\" + 0.007*\"online_case_submission_knowledgebase\" + 0.007*\"include_link_support_option\" + 0.007*\"city_customer_additional_resource\" + 0.007*\"sale_order\" + 0.007*\"field\" + 0.007*\"item\" + 0.006*\"certified_partner_professional_services\" + 0.006*\"install_patch_help_visit\" + 0.006*\"system\" + 0.006*\"error\" + 0.006*\"report\" + 0.006*\"screen\" + 0.006*\"update\" + 0.005*\"create\" + 0.005*\"delete\" + 0.005*\"value\" + 0.005*\"payment\" + 0.005*\"link\" + 0.004*\"print\" + 0.004*\"purchase_order\" + 0.004*\"issue\" + 0.004*\"set\" + 0.004*\"customer\" + 0.004*\"label\" + 0.004*\"able\" + 0.004*\"shipment\" + 0.004*\"box\" + 0.004*\"description\" + 0.003*\"email\" + 0.003*\"sales_order\" + 0.003*\"information\"\n",
      "\n"
     ]
    }
   ],
   "source": [
    "for i,topic in lda_model.show_topics(formatted=True, num_topics=num_topics, num_words=50):\n",
    "    print(str(i)+\": \"+ topic)\n",
    "    print()"
   ]
  },
  {
   "cell_type": "code",
   "execution_count": 695,
   "metadata": {},
   "outputs": [],
   "source": [
    "# for i,topic in lda_model.show_topics(formatted=True, num_topics=num_topics, num_words=20):\n",
    "#     print(str(i)+\": \"+ topic)\n",
    "#     print()\n",
    "\n",
    "model_topic_words =[]\n",
    "for i,topic in lda_model.show_topics(formatted=True, num_topics=num_topics, num_words=20):\n",
    "    t_words =[]\n",
    "    ts =topic.split(\"+\")\n",
    "    for t in range(0, len(ts)):\n",
    "        # print(ts[t].split('*'))\n",
    "        t_words.append(ts[t].split('*')[1])\n",
    "\n",
    "    model_topic_words.append(t_words)\n",
    "\n",
    "# model_topic_words[:2]\n",
    "\n"
   ]
  },
  {
   "cell_type": "code",
   "execution_count": 696,
   "metadata": {},
   "outputs": [
    {
     "data": {
      "text/html": [
       "<div>\n",
       "<style scoped>\n",
       "    .dataframe tbody tr th:only-of-type {\n",
       "        vertical-align: middle;\n",
       "    }\n",
       "\n",
       "    .dataframe tbody tr th {\n",
       "        vertical-align: top;\n",
       "    }\n",
       "\n",
       "    .dataframe thead th {\n",
       "        text-align: right;\n",
       "    }\n",
       "</style>\n",
       "<table border=\"1\" class=\"dataframe\">\n",
       "  <thead>\n",
       "    <tr style=\"text-align: right;\">\n",
       "      <th></th>\n",
       "      <th>level_0</th>\n",
       "      <th>index</th>\n",
       "      <th>Forum ID</th>\n",
       "      <th>Forum Name</th>\n",
       "      <th>Subject</th>\n",
       "      <th>Post Date</th>\n",
       "      <th>User DisplayName</th>\n",
       "      <th>Forum_Post_Raw</th>\n",
       "      <th>compound</th>\n",
       "      <th>neg</th>\n",
       "      <th>...</th>\n",
       "      <th>tokens_sentences</th>\n",
       "      <th>POS_tokens</th>\n",
       "      <th>tokens_sentences_lemmatized</th>\n",
       "      <th>tokens</th>\n",
       "      <th>topic0</th>\n",
       "      <th>topic0_pct</th>\n",
       "      <th>topic1</th>\n",
       "      <th>topic1_pct</th>\n",
       "      <th>topic2</th>\n",
       "      <th>topic2_pct</th>\n",
       "    </tr>\n",
       "  </thead>\n",
       "  <tbody>\n",
       "    <tr>\n",
       "      <th>0</th>\n",
       "      <td>0</td>\n",
       "      <td>0</td>\n",
       "      <td>40</td>\n",
       "      <td>Sage X3 General Discussion</td>\n",
       "      <td>ERP help urgently needed</td>\n",
       "      <td>2019-10-10T05:58:05.73</td>\n",
       "      <td>ChinusGomes</td>\n",
       "      <td>Company upgraded to windows 10. Used to run an...</td>\n",
       "      <td>0.0387</td>\n",
       "      <td>0.063</td>\n",
       "      <td>...</td>\n",
       "      <td>[[Company, upgraded, to, windows, 10, .], [Use...</td>\n",
       "      <td>[[(Company, NN), (upgraded, VBD), (to, TO), (w...</td>\n",
       "      <td>[[Company, upgrade, to, windows, 10, .], [Used...</td>\n",
       "      <td>[company, upgrade, windows, used, run, erp, pr...</td>\n",
       "      <td>1</td>\n",
       "      <td>0.516503</td>\n",
       "      <td>6</td>\n",
       "      <td>0.304738</td>\n",
       "      <td>4</td>\n",
       "      <td>0.176968</td>\n",
       "    </tr>\n",
       "  </tbody>\n",
       "</table>\n",
       "<p>1 rows × 29 columns</p>\n",
       "</div>"
      ],
      "text/plain": [
       "   level_0  index  Forum ID                  Forum Name  \\\n",
       "0        0      0        40  Sage X3 General Discussion   \n",
       "\n",
       "                    Subject               Post Date User DisplayName  \\\n",
       "0  ERP help urgently needed  2019-10-10T05:58:05.73      ChinusGomes   \n",
       "\n",
       "                                      Forum_Post_Raw  compound    neg  ...  \\\n",
       "0  Company upgraded to windows 10. Used to run an...    0.0387  0.063  ...   \n",
       "\n",
       "                                    tokens_sentences  \\\n",
       "0  [[Company, upgraded, to, windows, 10, .], [Use...   \n",
       "\n",
       "                                          POS_tokens  \\\n",
       "0  [[(Company, NN), (upgraded, VBD), (to, TO), (w...   \n",
       "\n",
       "                         tokens_sentences_lemmatized  \\\n",
       "0  [[Company, upgrade, to, windows, 10, .], [Used...   \n",
       "\n",
       "                                              tokens topic0  topic0_pct  \\\n",
       "0  [company, upgrade, windows, used, run, erp, pr...      1    0.516503   \n",
       "\n",
       "  topic1 topic1_pct topic2 topic2_pct  \n",
       "0      6   0.304738      4   0.176968  \n",
       "\n",
       "[1 rows x 29 columns]"
      ]
     },
     "execution_count": 696,
     "metadata": {},
     "output_type": "execute_result"
    }
   ],
   "source": [
    "## Allocation topics to documents\n",
    "dfLDA.head(1)\n"
   ]
  },
  {
   "cell_type": "code",
   "execution_count": 697,
   "metadata": {},
   "outputs": [
    {
     "data": {
      "text/plain": [
       "(1086, 29)"
      ]
     },
     "execution_count": 697,
     "metadata": {},
     "output_type": "execute_result"
    }
   ],
   "source": [
    "dfLDA.shape"
   ]
  },
  {
   "cell_type": "code",
   "execution_count": 698,
   "metadata": {},
   "outputs": [
    {
     "data": {
      "text/plain": [
       "[(1, 0.9991674)]"
      ]
     },
     "execution_count": 698,
     "metadata": {},
     "output_type": "execute_result"
    }
   ],
   "source": [
    "lda_model[corpus[0]]"
   ]
  },
  {
   "cell_type": "markdown",
   "metadata": {},
   "source": [
    "## Predict based on input"
   ]
  },
  {
   "cell_type": "markdown",
   "metadata": {},
   "source": [
    "# Advanced exploration of LDA result\n",
    "## Allocation of topics in all documents"
   ]
  },
  {
   "cell_type": "code",
   "execution_count": 699,
   "metadata": {},
   "outputs": [],
   "source": [
    "topics = [lda_model[corpus[i]] for i in range(len(dfLDA))]"
   ]
  },
  {
   "cell_type": "code",
   "execution_count": 700,
   "metadata": {},
   "outputs": [],
   "source": [
    "\n",
    "def topics_document_to_dataframe(topics_document, num_topics):\n",
    "    res = pd.DataFrame(columns=range(num_topics))\n",
    "    for topic_weight in topics_document:\n",
    "        res.loc[0, topic_weight[0]] = topic_weight[1]\n",
    "    return res"
   ]
  },
  {
   "cell_type": "code",
   "execution_count": 701,
   "metadata": {},
   "outputs": [
    {
     "data": {
      "text/html": [
       "<div>\n",
       "<style scoped>\n",
       "    .dataframe tbody tr th:only-of-type {\n",
       "        vertical-align: middle;\n",
       "    }\n",
       "\n",
       "    .dataframe tbody tr th {\n",
       "        vertical-align: top;\n",
       "    }\n",
       "\n",
       "    .dataframe thead th {\n",
       "        text-align: right;\n",
       "    }\n",
       "</style>\n",
       "<table border=\"1\" class=\"dataframe\">\n",
       "  <thead>\n",
       "    <tr style=\"text-align: right;\">\n",
       "      <th></th>\n",
       "      <th>0</th>\n",
       "      <th>1</th>\n",
       "      <th>2</th>\n",
       "      <th>3</th>\n",
       "      <th>4</th>\n",
       "      <th>5</th>\n",
       "      <th>6</th>\n",
       "      <th>7</th>\n",
       "      <th>8</th>\n",
       "      <th>9</th>\n",
       "      <th>10</th>\n",
       "      <th>11</th>\n",
       "      <th>12</th>\n",
       "      <th>13</th>\n",
       "      <th>14</th>\n",
       "      <th>15</th>\n",
       "      <th>16</th>\n",
       "      <th>17</th>\n",
       "      <th>18</th>\n",
       "      <th>19</th>\n",
       "    </tr>\n",
       "  </thead>\n",
       "  <tbody>\n",
       "    <tr>\n",
       "      <th>0</th>\n",
       "      <td>NaN</td>\n",
       "      <td>NaN</td>\n",
       "      <td>NaN</td>\n",
       "      <td>NaN</td>\n",
       "      <td>NaN</td>\n",
       "      <td>NaN</td>\n",
       "      <td>NaN</td>\n",
       "      <td>NaN</td>\n",
       "      <td>NaN</td>\n",
       "      <td>0.038537</td>\n",
       "      <td>NaN</td>\n",
       "      <td>NaN</td>\n",
       "      <td>NaN</td>\n",
       "      <td>NaN</td>\n",
       "      <td>NaN</td>\n",
       "      <td>0.091301</td>\n",
       "      <td>NaN</td>\n",
       "      <td>NaN</td>\n",
       "      <td>0.869287</td>\n",
       "      <td>NaN</td>\n",
       "    </tr>\n",
       "  </tbody>\n",
       "</table>\n",
       "</div>"
      ],
      "text/plain": [
       "    0    1    2    3    4    5    6    7    8         9    10   11   12   13  \\\n",
       "0  NaN  NaN  NaN  NaN  NaN  NaN  NaN  NaN  NaN  0.038537  NaN  NaN  NaN  NaN   \n",
       "\n",
       "    14        15   16   17        18   19  \n",
       "0  NaN  0.091301  NaN  NaN  0.869287  NaN  "
      ]
     },
     "execution_count": 701,
     "metadata": {},
     "output_type": "execute_result"
    }
   ],
   "source": [
    "topics_document_to_dataframe([(9, 0.03853655432967504), (15, 0.09130117862212643), (18, 0.8692868808484044)], 20)\n"
   ]
  },
  {
   "cell_type": "code",
   "execution_count": 702,
   "metadata": {},
   "outputs": [],
   "source": [
    "\n",
    "# Like TF-IDF, create a matrix of topic weighting, with documents as rows and topics as columns\n",
    "document_topic = \\\n",
    "pd.concat([topics_document_to_dataframe(topics_document, num_topics=num_topics) for topics_document in topics]) \\\n",
    "  .reset_index(drop=True).fillna(0)"
   ]
  },
  {
   "cell_type": "code",
   "execution_count": 703,
   "metadata": {},
   "outputs": [
    {
     "data": {
      "text/html": [
       "<div>\n",
       "<style scoped>\n",
       "    .dataframe tbody tr th:only-of-type {\n",
       "        vertical-align: middle;\n",
       "    }\n",
       "\n",
       "    .dataframe tbody tr th {\n",
       "        vertical-align: top;\n",
       "    }\n",
       "\n",
       "    .dataframe thead th {\n",
       "        text-align: right;\n",
       "    }\n",
       "</style>\n",
       "<table border=\"1\" class=\"dataframe\">\n",
       "  <thead>\n",
       "    <tr style=\"text-align: right;\">\n",
       "      <th></th>\n",
       "      <th>0</th>\n",
       "      <th>1</th>\n",
       "      <th>2</th>\n",
       "      <th>3</th>\n",
       "    </tr>\n",
       "  </thead>\n",
       "  <tbody>\n",
       "    <tr>\n",
       "      <th>0</th>\n",
       "      <td>0.000000</td>\n",
       "      <td>0.999167</td>\n",
       "      <td>0.000000</td>\n",
       "      <td>0.000000</td>\n",
       "    </tr>\n",
       "    <tr>\n",
       "      <th>1</th>\n",
       "      <td>0.000000</td>\n",
       "      <td>0.523965</td>\n",
       "      <td>0.475429</td>\n",
       "      <td>0.000000</td>\n",
       "    </tr>\n",
       "    <tr>\n",
       "      <th>2</th>\n",
       "      <td>0.000000</td>\n",
       "      <td>0.000000</td>\n",
       "      <td>0.000000</td>\n",
       "      <td>0.998424</td>\n",
       "    </tr>\n",
       "    <tr>\n",
       "      <th>3</th>\n",
       "      <td>0.000000</td>\n",
       "      <td>0.000000</td>\n",
       "      <td>0.000000</td>\n",
       "      <td>0.998424</td>\n",
       "    </tr>\n",
       "    <tr>\n",
       "      <th>4</th>\n",
       "      <td>0.322044</td>\n",
       "      <td>0.000000</td>\n",
       "      <td>0.000000</td>\n",
       "      <td>0.677048</td>\n",
       "    </tr>\n",
       "    <tr>\n",
       "      <th>...</th>\n",
       "      <td>...</td>\n",
       "      <td>...</td>\n",
       "      <td>...</td>\n",
       "      <td>...</td>\n",
       "    </tr>\n",
       "    <tr>\n",
       "      <th>1081</th>\n",
       "      <td>0.000000</td>\n",
       "      <td>0.998698</td>\n",
       "      <td>0.000000</td>\n",
       "      <td>0.000000</td>\n",
       "    </tr>\n",
       "    <tr>\n",
       "      <th>1082</th>\n",
       "      <td>0.000000</td>\n",
       "      <td>0.433798</td>\n",
       "      <td>0.000000</td>\n",
       "      <td>0.564390</td>\n",
       "    </tr>\n",
       "    <tr>\n",
       "      <th>1083</th>\n",
       "      <td>0.000000</td>\n",
       "      <td>0.000000</td>\n",
       "      <td>0.994047</td>\n",
       "      <td>0.000000</td>\n",
       "    </tr>\n",
       "    <tr>\n",
       "      <th>1084</th>\n",
       "      <td>0.250000</td>\n",
       "      <td>0.250000</td>\n",
       "      <td>0.250000</td>\n",
       "      <td>0.250000</td>\n",
       "    </tr>\n",
       "    <tr>\n",
       "      <th>1085</th>\n",
       "      <td>0.455613</td>\n",
       "      <td>0.000000</td>\n",
       "      <td>0.542575</td>\n",
       "      <td>0.000000</td>\n",
       "    </tr>\n",
       "  </tbody>\n",
       "</table>\n",
       "<p>1086 rows × 4 columns</p>\n",
       "</div>"
      ],
      "text/plain": [
       "             0         1         2         3\n",
       "0     0.000000  0.999167  0.000000  0.000000\n",
       "1     0.000000  0.523965  0.475429  0.000000\n",
       "2     0.000000  0.000000  0.000000  0.998424\n",
       "3     0.000000  0.000000  0.000000  0.998424\n",
       "4     0.322044  0.000000  0.000000  0.677048\n",
       "...        ...       ...       ...       ...\n",
       "1081  0.000000  0.998698  0.000000  0.000000\n",
       "1082  0.000000  0.433798  0.000000  0.564390\n",
       "1083  0.000000  0.000000  0.994047  0.000000\n",
       "1084  0.250000  0.250000  0.250000  0.250000\n",
       "1085  0.455613  0.000000  0.542575  0.000000\n",
       "\n",
       "[1086 rows x 4 columns]"
      ]
     },
     "execution_count": 703,
     "metadata": {},
     "output_type": "execute_result"
    }
   ],
   "source": [
    "# Which document are about topic 14\n",
    "# document_topic.sort_values(num_topics-1, ascending=False)[num_topics-1].head(10)\n",
    "document_topic"
   ]
  },
  {
   "cell_type": "code",
   "execution_count": 704,
   "metadata": {},
   "outputs": [
    {
     "data": {
      "text/html": [
       "<div>\n",
       "<style scoped>\n",
       "    .dataframe tbody tr th:only-of-type {\n",
       "        vertical-align: middle;\n",
       "    }\n",
       "\n",
       "    .dataframe tbody tr th {\n",
       "        vertical-align: top;\n",
       "    }\n",
       "\n",
       "    .dataframe thead th {\n",
       "        text-align: right;\n",
       "    }\n",
       "</style>\n",
       "<table border=\"1\" class=\"dataframe\">\n",
       "  <thead>\n",
       "    <tr style=\"text-align: right;\">\n",
       "      <th></th>\n",
       "      <th>level_0</th>\n",
       "      <th>index</th>\n",
       "      <th>Forum ID</th>\n",
       "      <th>Forum Name</th>\n",
       "      <th>Subject</th>\n",
       "      <th>Post Date</th>\n",
       "      <th>User DisplayName</th>\n",
       "      <th>Forum_Post_Raw</th>\n",
       "      <th>compound</th>\n",
       "      <th>neg</th>\n",
       "      <th>...</th>\n",
       "      <th>tokens_sentences</th>\n",
       "      <th>POS_tokens</th>\n",
       "      <th>tokens_sentences_lemmatized</th>\n",
       "      <th>tokens</th>\n",
       "      <th>topic0</th>\n",
       "      <th>topic0_pct</th>\n",
       "      <th>topic1</th>\n",
       "      <th>topic1_pct</th>\n",
       "      <th>topic2</th>\n",
       "      <th>topic2_pct</th>\n",
       "    </tr>\n",
       "  </thead>\n",
       "  <tbody>\n",
       "    <tr>\n",
       "      <th>0</th>\n",
       "      <td>0</td>\n",
       "      <td>0</td>\n",
       "      <td>40</td>\n",
       "      <td>Sage X3 General Discussion</td>\n",
       "      <td>ERP help urgently needed</td>\n",
       "      <td>2019-10-10T05:58:05.73</td>\n",
       "      <td>ChinusGomes</td>\n",
       "      <td>Company upgraded to windows 10. Used to run an...</td>\n",
       "      <td>0.0387</td>\n",
       "      <td>0.063</td>\n",
       "      <td>...</td>\n",
       "      <td>[[Company, upgraded, to, windows, 10, .], [Use...</td>\n",
       "      <td>[[(Company, NN), (upgraded, VBD), (to, TO), (w...</td>\n",
       "      <td>[[Company, upgrade, to, windows, 10, .], [Used...</td>\n",
       "      <td>[company, upgrade, windows, used, run, erp, pr...</td>\n",
       "      <td>1</td>\n",
       "      <td>0.516503</td>\n",
       "      <td>6</td>\n",
       "      <td>0.304738</td>\n",
       "      <td>4</td>\n",
       "      <td>0.176968</td>\n",
       "    </tr>\n",
       "    <tr>\n",
       "      <th>1</th>\n",
       "      <td>1</td>\n",
       "      <td>31</td>\n",
       "      <td>40</td>\n",
       "      <td>Sage X3 General Discussion</td>\n",
       "      <td>Sage V11 patch 14 - release soon?</td>\n",
       "      <td>2019-10-10T12:44:35.957</td>\n",
       "      <td>AnikB</td>\n",
       "      <td>Hello!\\n\\nI see that Sage V11 patch 14 was com...</td>\n",
       "      <td>0.7044</td>\n",
       "      <td>0.022</td>\n",
       "      <td>...</td>\n",
       "      <td>[[Hello, !], [I, see, that, Sage, V11, patch, ...</td>\n",
       "      <td>[[(Hello, NN), (!, .)], [(I, PRP), (see, VBP),...</td>\n",
       "      <td>[[Hello, !], [I, see, that, Sage, V11, patch, ...</td>\n",
       "      <td>[patch, complete, october, least, patch, finde...</td>\n",
       "      <td>8</td>\n",
       "      <td>0.997698</td>\n",
       "      <td>0</td>\n",
       "      <td>0.0</td>\n",
       "      <td>1</td>\n",
       "      <td>0.0</td>\n",
       "    </tr>\n",
       "    <tr>\n",
       "      <th>2</th>\n",
       "      <td>2</td>\n",
       "      <td>62</td>\n",
       "      <td>673</td>\n",
       "      <td>Sage X3 Announcements, News, and Alerts</td>\n",
       "      <td>Sage X3 12.0.19 and Patch 19 Add-ons Updates h...</td>\n",
       "      <td>2019-10-10T14:56:52.947</td>\n",
       "      <td>Alecia</td>\n",
       "      <td>To access this download, log into https://supp...</td>\n",
       "      <td>0.9359</td>\n",
       "      <td>0.000</td>\n",
       "      <td>...</td>\n",
       "      <td>[[To, access, this, download, ,, log, into, ht...</td>\n",
       "      <td>[[(To, TO), (access, NN), (this, DT), (downloa...</td>\n",
       "      <td>[[To, access, this, download, ,, log, into, ht...</td>\n",
       "      <td>[access, log, http, search, field, type, click...</td>\n",
       "      <td>3</td>\n",
       "      <td>0.995288</td>\n",
       "      <td>0</td>\n",
       "      <td>0.0</td>\n",
       "      <td>1</td>\n",
       "      <td>0.0</td>\n",
       "    </tr>\n",
       "    <tr>\n",
       "      <th>3</th>\n",
       "      <td>3</td>\n",
       "      <td>63</td>\n",
       "      <td>673</td>\n",
       "      <td>Sage X3 Announcements, News, and Alerts</td>\n",
       "      <td>Sage X3 Warehousing (GEODE) v12.0.19 has been ...</td>\n",
       "      <td>2019-10-10T20:56:53.483</td>\n",
       "      <td>pnightingale</td>\n",
       "      <td>To access this download, log into https://supp...</td>\n",
       "      <td>0.9359</td>\n",
       "      <td>0.000</td>\n",
       "      <td>...</td>\n",
       "      <td>[[To, access, this, download, ,, log, into, ht...</td>\n",
       "      <td>[[(To, TO), (access, NN), (this, DT), (downloa...</td>\n",
       "      <td>[[To, access, this, download, ,, log, into, ht...</td>\n",
       "      <td>[access, log, http, search, field, type, click...</td>\n",
       "      <td>3</td>\n",
       "      <td>0.995288</td>\n",
       "      <td>0</td>\n",
       "      <td>0.0</td>\n",
       "      <td>1</td>\n",
       "      <td>0.0</td>\n",
       "    </tr>\n",
       "    <tr>\n",
       "      <th>4</th>\n",
       "      <td>4</td>\n",
       "      <td>64</td>\n",
       "      <td>40</td>\n",
       "      <td>Sage X3 General Discussion</td>\n",
       "      <td>Modifying Stock Change ST2 object</td>\n",
       "      <td>2019-10-11T13:10:28.983</td>\n",
       "      <td>ChrisCC</td>\n",
       "      <td>I am trying to remove some of the columns on t...</td>\n",
       "      <td>0.5980</td>\n",
       "      <td>0.046</td>\n",
       "      <td>...</td>\n",
       "      <td>[[I, am, trying, to, remove, some, of, the, co...</td>\n",
       "      <td>[[(I, PRP), (am, VBP), (trying, VBG), (to, TO)...</td>\n",
       "      <td>[[I, be, try, to, remove, some, of, the, colum...</td>\n",
       "      <td>[remove, column, object, stock, selection, bro...</td>\n",
       "      <td>7</td>\n",
       "      <td>0.72929</td>\n",
       "      <td>0</td>\n",
       "      <td>0.169804</td>\n",
       "      <td>8</td>\n",
       "      <td>0.098791</td>\n",
       "    </tr>\n",
       "  </tbody>\n",
       "</table>\n",
       "<p>5 rows × 29 columns</p>\n",
       "</div>"
      ],
      "text/plain": [
       "   level_0  index  Forum ID                               Forum Name  \\\n",
       "0        0      0        40               Sage X3 General Discussion   \n",
       "1        1     31        40               Sage X3 General Discussion   \n",
       "2        2     62       673  Sage X3 Announcements, News, and Alerts   \n",
       "3        3     63       673  Sage X3 Announcements, News, and Alerts   \n",
       "4        4     64        40               Sage X3 General Discussion   \n",
       "\n",
       "                                             Subject                Post Date  \\\n",
       "0                           ERP help urgently needed   2019-10-10T05:58:05.73   \n",
       "1                  Sage V11 patch 14 - release soon?  2019-10-10T12:44:35.957   \n",
       "2  Sage X3 12.0.19 and Patch 19 Add-ons Updates h...  2019-10-10T14:56:52.947   \n",
       "3  Sage X3 Warehousing (GEODE) v12.0.19 has been ...  2019-10-10T20:56:53.483   \n",
       "4                  Modifying Stock Change ST2 object  2019-10-11T13:10:28.983   \n",
       "\n",
       "  User DisplayName                                     Forum_Post_Raw  \\\n",
       "0      ChinusGomes  Company upgraded to windows 10. Used to run an...   \n",
       "1            AnikB  Hello!\\n\\nI see that Sage V11 patch 14 was com...   \n",
       "2           Alecia  To access this download, log into https://supp...   \n",
       "3     pnightingale  To access this download, log into https://supp...   \n",
       "4          ChrisCC  I am trying to remove some of the columns on t...   \n",
       "\n",
       "   compound    neg  ...                                   tokens_sentences  \\\n",
       "0    0.0387  0.063  ...  [[Company, upgraded, to, windows, 10, .], [Use...   \n",
       "1    0.7044  0.022  ...  [[Hello, !], [I, see, that, Sage, V11, patch, ...   \n",
       "2    0.9359  0.000  ...  [[To, access, this, download, ,, log, into, ht...   \n",
       "3    0.9359  0.000  ...  [[To, access, this, download, ,, log, into, ht...   \n",
       "4    0.5980  0.046  ...  [[I, am, trying, to, remove, some, of, the, co...   \n",
       "\n",
       "                                          POS_tokens  \\\n",
       "0  [[(Company, NN), (upgraded, VBD), (to, TO), (w...   \n",
       "1  [[(Hello, NN), (!, .)], [(I, PRP), (see, VBP),...   \n",
       "2  [[(To, TO), (access, NN), (this, DT), (downloa...   \n",
       "3  [[(To, TO), (access, NN), (this, DT), (downloa...   \n",
       "4  [[(I, PRP), (am, VBP), (trying, VBG), (to, TO)...   \n",
       "\n",
       "                         tokens_sentences_lemmatized  \\\n",
       "0  [[Company, upgrade, to, windows, 10, .], [Used...   \n",
       "1  [[Hello, !], [I, see, that, Sage, V11, patch, ...   \n",
       "2  [[To, access, this, download, ,, log, into, ht...   \n",
       "3  [[To, access, this, download, ,, log, into, ht...   \n",
       "4  [[I, be, try, to, remove, some, of, the, colum...   \n",
       "\n",
       "                                              tokens topic0  topic0_pct  \\\n",
       "0  [company, upgrade, windows, used, run, erp, pr...      1    0.516503   \n",
       "1  [patch, complete, october, least, patch, finde...      8    0.997698   \n",
       "2  [access, log, http, search, field, type, click...      3    0.995288   \n",
       "3  [access, log, http, search, field, type, click...      3    0.995288   \n",
       "4  [remove, column, object, stock, selection, bro...      7     0.72929   \n",
       "\n",
       "  topic1 topic1_pct topic2 topic2_pct  \n",
       "0      6   0.304738      4   0.176968  \n",
       "1      0        0.0      1        0.0  \n",
       "2      0        0.0      1        0.0  \n",
       "3      0        0.0      1        0.0  \n",
       "4      0   0.169804      8   0.098791  \n",
       "\n",
       "[5 rows x 29 columns]"
      ]
     },
     "execution_count": 704,
     "metadata": {},
     "output_type": "execute_result"
    }
   ],
   "source": [
    "dfLDA.head(5)"
   ]
  },
  {
   "cell_type": "code",
   "execution_count": 705,
   "metadata": {},
   "outputs": [
    {
     "name": "stdout",
     "output_type": "stream",
     "text": [
      "X3 v8 patch 10.\n",
      "We are UK based, and have been told to upgrade, but was wondering whether it is poss\n"
     ]
    }
   ],
   "source": [
    "print(dfLDA.Forum_Post_Raw.loc[31][:100])"
   ]
  },
  {
   "cell_type": "code",
   "execution_count": 706,
   "metadata": {},
   "outputs": [
    {
     "data": {
      "text/plain": [
       "<AxesSubplot:>"
      ]
     },
     "execution_count": 706,
     "metadata": {},
     "output_type": "execute_result"
    },
    {
     "data": {
      "image/png": "[encoded data removed]",
      "text/plain": [
       "<Figure size 720x1440 with 2 Axes>"
      ]
     },
     "metadata": {},
     "output_type": "display_data"
    }
   ],
   "source": [
    "%matplotlib inline\n",
    "import seaborn as sns; sns.set(rc={'figure.figsize':(10,20)})\n",
    "sns.heatmap(document_topic.loc[document_topic.idxmax(axis=1).sort_values().index])"
   ]
  },
  {
   "cell_type": "code",
   "execution_count": 707,
   "metadata": {},
   "outputs": [
    {
     "data": {
      "image/png": "[encoded data removed]",
      "text/plain": [
       "<Figure size 720x360 with 1 Axes>"
      ]
     },
     "metadata": {},
     "output_type": "display_data"
    }
   ],
   "source": [
    "sns.set(rc={'figure.figsize':(10,5)})\n",
    "ax = document_topic.idxmax(axis=1).value_counts().plot.bar(color='lightblue', title='Counts By Topic')\n",
    "ax.set_xlabel(\"Num of Topics Topics\")\n",
    "ax.set_ylabel(\"Value Counts\")\n",
    "ax.figure.savefig('TopicValueCounts.png')"
   ]
  },
  {
   "cell_type": "markdown",
   "metadata": {},
   "source": [
    "# Visualize the data"
   ]
  },
  {
   "cell_type": "code",
   "execution_count": 708,
   "metadata": {},
   "outputs": [],
   "source": [
    "# ! pip install pyLDAvis"
   ]
  },
  {
   "cell_type": "code",
   "execution_count": 709,
   "metadata": {},
   "outputs": [],
   "source": [
    "# import scipy\n",
    "# scipy.test()"
   ]
  },
  {
   "cell_type": "code",
   "execution_count": 710,
   "metadata": {},
   "outputs": [
    {
     "data": {
      "text/plain": [
       "(1086, 29)"
      ]
     },
     "execution_count": 710,
     "metadata": {},
     "output_type": "execute_result"
    }
   ],
   "source": [
    "dfLDA.shape"
   ]
  },
  {
   "cell_type": "code",
   "execution_count": 711,
   "metadata": {},
   "outputs": [
    {
     "data": {
      "text/html": [
       "\n",
       "<link rel=\"stylesheet\" type=\"text/css\" href=\"https://cdn.jsdelivr.net/gh/bmabey/pyLDAvis@3.2.2/pyLDAvis/js/ldavis.v1.0.0.css\">\n",
       "\n",
       "\n",
       "<div id=\"ldavis_el2420021091408483041212251176\"></div>\n",
       "<script type=\"text/javascript\">\n",
       "\n",
       "var ldavis_el2420021091408483041212251176_data = {\"mdsDat\": {\"x\": [0.041951614684724706, 0.05707430906286866, 0.08979510114794974, -0.18882102489554312], \"y\": [-0.013974927277349692, -0.10823715987754931, 0.10710092001594392, 0.015111167138955082], \"topics\": [1, 2, 3, 4], \"cluster\": [1, 1, 1, 1], \"Freq\": [35.23932346183522, 26.83533570042736, 24.020850915600615, 13.904489922136806]}, \"tinfo\": {\"Term\": [\"import\", \"product\", \"university\", \"field_type_click_search\", \"access_log_http_search\", \"business_partner_ensure_component\", \"ensure_product_fully_compatible\", \"isvs_check_vendor_product\", \"release_integrate_product_check\", \"line\", \"type_search_field_click\", \"credential_upper_right_corner\", \"patch_update_portal_access\", \"complete_list_available_downloads\", \"portal_https_enter_log\", \"order\", \"search_important_product_integrate\", \"compatible_highly_recommended_work\", \"online_case_submission_knowledgebase\", \"include_link_support_option\", \"city_customer_additional_resource\", \"function\", \"certified_partner_professional_services\", \"install_patch_help_visit\", \"change\", \"file\", \"user\", \"invoice\", \"item\", \"error\", \"comment\", \"core\", \"badge\", \"shortcut\", \"vat\", \"post_journal\", \"memory\", \"available_downloads_patch_update\", \"review_hotfix\", \"detail_access_log\", \"field_click_product_integrate\", \"right_corner_type_search\", \"click_complete_list\", \"enter_log_credential_upper\", \"http_search_field_type\", \"portal_access_portal_https\", \"left_list\", \"crm\", \"packaging\", \"real\", \"body\", \"secondary\", \"fixed_assets\", \"journal_entry\", \"user_assignment\", \"ar\", \"folder_validation\", \"ideas\", \"hard\", \"uk\", \"test_folder\", \"finish\", \"limit\", \"qc\", \"port\", \"regards_shereef\", \"accounting_task\", \"batch_server\", \"full\", \"quantity\", \"default\", \"new\", \"user\", \"developer\", \"highly_recommended_work_certified\", \"partner_professional_services_install\", \"company\", \"fix\", \"kb\", \"action\", \"find\", \"screen\", \"run\", \"entry\", \"question\", \"lot\", \"service\", \"table\", \"problem\", \"report\", \"plan\", \"change\", \"system\", \"record\", \"option\", \"anyone\", \"able\", \"issue\", \"possible\", \"server\", \"date\", \"look\", \"value\", \"set\", \"add\", \"create\", \"product\", \"process\", \"help\", \"field\", \"error\", \"order\", \"work\", \"three\", \"un\", \"assistance\", \"subcontractor\", \"directory\", \"subcontract\", \"warn\", \"extra\", \"anyone_else_today\", \"order_level\", \"tiered_pricing\", \"importing\", \"total_order\", \"others_handle\", \"pricing_groups\", \"could_resolve\", \"price_break\", \"versus_individual\", \"weight_suggestion\", \"reflect\", \"misc\", \"help_option\", \"somewhere\", \"consumption\", \"sur\", \"end_date\", \"relatively_new\", \"legal\", \"rollback\", \"give_error\", \"ca_seem\", \"kit\", \"available_stock\", \"appflg\", \"auto\", \"industry\", \"allocation_rule\", \"set_yes\", \"pro\", \"po_po\", \"upon\", \"bom\", \"pour\", \"info\", \"job_err\", \"avec\", \"import\", \"yet\", \"supplier\", \"une\", \"address\", \"import_template\", \"material\", \"pi\", \"standard_cost\", \"product\", \"line\", \"invoice\", \"endpoint\", \"budget\", \"template\", \"customer\", \"enter\", \"flag\", \"workflow\", \"po\", \"cost\", \"create\", \"field\", \"site\", \"qty\", \"file\", \"two\", \"either\", \"setup\", \"number\", \"patch\", \"update\", \"delivery\", \"work\", \"folder\", \"error\", \"code\", \"set\", \"screen\", \"help\", \"stock\", \"check\", \"find\", \"table\", \"change\", \"user\", \"process\", \"issue\", \"importsil\", \"refresh\", \"itm_itmref\", \"current_version\", \"search_help_visit\", \"continually_update\", \"enterprise_intelligence\", \"note_kb\", \"recommendation\", \"video\", \"index_incorrect\", \"alphanumeric\", \"parent\", \"facet\", \"serial_number\", \"common\", \"visible\", \"installed\", \"app_server\", \"getting_error\", \"description_field\", \"representation\", \"advance_regards\", \"string\", \"present\", \"webservices\", \"sdhnum_trtvenlivv\", \"click_ok\", \"help_greatly_appreciate\", \"within_system\", \"local_integer\", \"could_cause\", \"matteos\", \"support_regards\", \"retrieve\", \"addition\", \"statement\", \"publish\", \"trying\", \"creating\", \"domain\", \"row\", \"microsoft\", \"classic\", \"graph\", \"origin\", \"http\", \"password\", \"itmref\", \"policy\", \"local\", \"num\", \"itm\", \"error\", \"detail\", \"local_char\", \"xml\", \"command\", \"call\", \"file\", \"receipt\", \"view\", \"create\", \"tax\", \"follow\", \"connect\", \"log\", \"table\", \"column\", \"might\", \"folder\", \"sql\", \"error_message\", \"function\", \"object\", \"work\", \"example\", \"client\", \"line\", \"field\", \"anyone\", \"customer\", \"run\", \"date\", \"return\", \"add\", \"set\", \"show\", \"code\", \"process\", \"server\", \"find\", \"update\", \"issue\", \"change\", \"user\", \"certified_partner_professional_services\", \"install_patch_help_visit\", \"search_important_product_integrate\", \"compatible_highly_recommended_work\", \"field_type_click_search\", \"type_search_field_click\", \"credential_upper_right_corner\", \"patch_update_portal_access\", \"complete_list_available_downloads\", \"portal_https_enter_log\", \"access_log_http_search\", \"online_case_submission_knowledgebase\", \"include_link_support_option\", \"city_customer_additional_resource\", \"label_printer\", \"element\", \"course\", \"call_web_service\", \"back_back\", \"invoice_element\", \"adx\", \"business_partner_ensure_component\", \"ensure_product_fully_compatible\", \"isvs_check_vendor_product\", \"release_integrate_product_check\", \"anyone_advise\", \"certified_partner_install_patch\", \"graphical_query_tool\", \"work_certified_partner_install\", \"check_business_partner_ensure\", \"university\", \"open_order\", \"print_label\", \"label\", \"link_support_option_online\", \"customer_additional_resource_include\", \"net\", \"patch_help_visit_city\", \"case_submission_knowledgebase_university\", \"order\", \"discount\", \"box\", \"item\", \"delete\", \"change\", \"function\", \"sale_order\", \"user\", \"print\", \"work\", \"payment\", \"system\", \"field\", \"report\", \"screen\", \"error\"], \"Freq\": [102.0, 180.0, 28.0, 27.0, 27.0, 27.0, 27.0, 27.0, 27.0, 137.0, 26.0, 26.0, 26.0, 26.0, 26.0, 101.0, 22.0, 22.0, 22.0, 22.0, 22.0, 108.0, 18.0, 18.0, 163.0, 122.0, 208.0, 121.0, 53.0, 239.0, 8.94603983248375, 8.944064770457079, 6.961940359674009, 6.9598676297449185, 9.92109015395644, 5.966909717497425, 7.939488899484007, 4.9750198218495205, 4.975019369683306, 4.975018917517091, 4.975018917517091, 4.975018465350876, 4.975018013184661, 4.975016656686017, 4.975016204519802, 4.975016204519802, 8.920078257089191, 5.956690761040741, 7.927265038030466, 6.93928773664007, 3.9813501999797793, 3.9814026512607077, 4.966759197269557, 17.776185846759535, 3.976837128988887, 3.977515830477448, 4.9616266585642546, 4.95730078438633, 3.9733735357827715, 2.9886904913510115, 7.897791939811013, 6.9103052387637804, 8.837612182816173, 6.885898210816039, 6.864706084656221, 4.93359642273654, 5.861692900121835, 8.52552977429116, 11.709866934750664, 34.01186672067109, 32.331613448781994, 71.85060783649541, 123.61823515166668, 7.416498081682171, 6.629012184309787, 6.629009019146284, 48.457162910728236, 18.959770704880835, 14.447273965081111, 27.1826611098789, 69.75280981245103, 71.38706150230131, 72.71118504600734, 26.51807805921161, 31.205864266875814, 31.01774503482983, 20.83840919055894, 71.23747044909432, 39.74401761755448, 53.71927074924187, 16.335598755414754, 71.59226538261098, 43.8953990444857, 40.999317846023395, 26.267114957954302, 49.14781967401138, 38.92909472642833, 49.99910396347473, 42.99747290562323, 32.647286961385724, 35.21529444096695, 38.826532576900405, 44.62921416864839, 55.39687613577652, 43.720475831255285, 86.3080184637821, 57.18086718935227, 42.74108019245743, 41.414167687537905, 53.5641017736079, 57.73697737373049, 36.59962482051903, 34.893905547406916, 8.126339390138826, 7.107939166799704, 12.1482450084826, 6.092697846645557, 7.099564320139038, 6.074216162587312, 4.060865424291797, 4.060515927155024, 3.054596711418451, 3.054596711418451, 3.054596711418451, 3.054596711418451, 3.054596022754142, 3.0545949897576787, 3.0545949897576787, 3.0545943010933696, 3.054593612429061, 3.054593612429061, 3.054593612429061, 3.0544217906839877, 3.0537400130181656, 4.057486492860125, 5.062467059143653, 3.0517697444303713, 5.05918695104031, 5.059271656750306, 3.0505043237627474, 3.0501475956507313, 6.061748583938788, 4.053051494710738, 5.049287745931869, 4.052367995384144, 4.051862171449249, 5.0359038994203384, 5.034664647996453, 4.043465976195006, 4.042835504020198, 4.040520903277948, 4.039703803075425, 4.039696916432336, 5.973912894658735, 17.10795164544348, 4.968679932905991, 17.491919185534044, 4.001230538461649, 4.002352028288711, 84.0667286850433, 12.932152968644603, 30.946574161306977, 7.609080184394235, 24.289776917281937, 17.141481333315742, 20.042875027916615, 8.204879488577198, 7.379777695449067, 108.5786824816661, 84.7253066276266, 76.10091005866853, 13.991361372936865, 10.907787044728057, 15.355966228987413, 78.82691334974734, 30.38515848873932, 9.911518426284406, 23.659153236325963, 26.502441568526784, 21.963010231350868, 102.14286659574167, 72.80950235134486, 28.94824388025312, 15.114732630890362, 48.2652860091782, 21.965624401067494, 14.000681755693666, 30.577185644636064, 32.87485075420118, 25.619992632402706, 41.077178741513855, 22.587435933526642, 45.06352586693132, 32.004365294451496, 59.04002861873912, 32.78674579717634, 39.26417353530242, 35.10038240939371, 30.46097491983595, 28.611759744261974, 25.733233836702794, 29.570576042929805, 29.259170306411963, 29.399456735451604, 29.436975167001073, 26.87541940357574, 26.896498040742888, 6.1026882680676815, 8.108361436912684, 4.073118597897288, 4.071535895051899, 4.071535895051899, 4.0715355868332335, 4.0715340457399085, 4.071528806022601, 4.071737470058887, 7.093169907298862, 3.057247446126877, 3.0571278572848106, 3.05649446792799, 5.067834545149883, 3.0543683755759945, 4.059019135061391, 4.0597375927697845, 3.052916049225951, 5.0620101370351165, 3.0526210839634316, 4.055815818474802, 5.057930863002259, 3.049767595561754, 5.0568089470612225, 9.070296479817815, 3.0485532140211826, 3.0480622216876467, 3.046161128961189, 3.0465229776740395, 4.046494669604254, 9.050232677593186, 4.045291075716961, 4.042808682588088, 4.042327553251837, 6.005948908521241, 4.039741906870148, 16.467948209140403, 5.002659242661014, 4.0306895246755845, 4.031461612431709, 5.931398827114094, 15.106932255075698, 5.894831764684301, 4.954304049165055, 4.9465045758442026, 4.931093950806886, 22.933347585883542, 8.128479485622373, 11.0092970198988, 7.930989608821627, 9.185097453140266, 8.472709186699928, 9.067564429570194, 104.77095111111926, 22.144741775057764, 11.534345050180779, 8.371735519132075, 9.642125939091654, 41.42962858369122, 55.93576498934513, 22.53864769482998, 24.40472924667963, 93.74643795216083, 13.5566836022488, 16.25312596392532, 11.970670488396081, 18.462765300162562, 52.561875261980894, 17.88502174114241, 11.331660455998106, 31.22079269735336, 20.831722864400145, 18.30027365278615, 35.24968654008596, 18.52912477876282, 40.74716095238603, 27.664299438276327, 21.53047183847161, 38.509372621900745, 46.00149275564517, 33.02795516917874, 39.81928715416327, 35.963528365750996, 25.270397121033284, 21.711901673507633, 29.223178213726577, 31.418198122239865, 24.141786670591404, 25.578191677269714, 25.7915258427696, 21.84864473359995, 25.79438611198191, 24.45478642364438, 23.87911532692849, 23.58854402969894, 22.002749134661126, 18.886927179313524, 18.886895778689645, 22.65426841197814, 22.654266984677054, 27.331060204832017, 26.38973230220172, 26.3897437206104, 26.389675210158302, 26.389660937147447, 26.3896266819214, 27.330223806395978, 22.621287765798094, 22.621274920088325, 22.62118785472212, 6.615718229755326, 8.4844528538796, 5.6597976008280275, 3.7841259366035005, 4.7199255453048234, 3.782390695308941, 3.779561427732432, 27.16553895256182, 27.165530388755307, 27.16546473290538, 27.16546187830321, 3.7751967410133176, 3.7762625780988306, 2.840633353464576, 2.8396686763434897, 2.839634599530076, 27.938182703716706, 6.574539166140816, 3.77186720440638, 12.586451944733893, 4.529992805745977, 4.529593161442068, 9.194860568507256, 4.529413678330581, 4.529289503136152, 34.44091506590223, 7.205025870142753, 11.177095602242613, 20.692206138133105, 16.235559837388283, 38.49250330972173, 29.960699742334405, 20.903205484886996, 33.91110946681297, 13.64967706926061, 23.03684076760427, 14.13929986089296, 17.77422323536077, 20.863923304414968, 17.298715024161815, 17.18589829177063, 17.575815538782166], \"Total\": [102.0, 180.0, 28.0, 27.0, 27.0, 27.0, 27.0, 27.0, 27.0, 137.0, 26.0, 26.0, 26.0, 26.0, 26.0, 101.0, 22.0, 22.0, 22.0, 22.0, 22.0, 108.0, 18.0, 18.0, 163.0, 122.0, 208.0, 121.0, 53.0, 239.0, 8.977823857859375, 8.978045345691038, 6.991689749625042, 6.991562070068517, 9.971541119616127, 5.998225004487092, 7.984732472522976, 5.004769211800554, 5.004768759634339, 5.004768307468124, 5.004768307468124, 5.0047678553019095, 5.004767403135694, 5.00476604663705, 5.004765594470835, 5.004765594470835, 8.977866567201879, 5.998409391567144, 7.985274718173705, 6.991119334798489, 4.0110995899308115, 4.011376950635736, 5.005046251263867, 17.91886865659152, 4.010936767771503, 4.01186566950556, 5.004493480406161, 5.00479367248697, 4.0114734500051705, 3.0184398813020445, 7.982025959513098, 6.990027819244363, 8.978995171220152, 6.99045448017331, 6.990387115488653, 5.005198252247599, 6.0001044493633735, 8.9656094043441, 12.891294915153157, 42.83835375958046, 41.80328959795891, 109.43847093040046, 208.96906892014184, 7.958762827893845, 6.99773727402258, 6.997734725296406, 72.97262885427484, 24.793073592379606, 17.922187845747512, 38.65769458716793, 125.39382711774752, 131.172783146944, 135.1381292296859, 38.8833792898569, 48.0763737877729, 47.90998756319977, 29.838298853346103, 154.71676886991364, 72.19322439738882, 109.22665743504339, 22.008425488465743, 163.07276945748325, 84.02476034902534, 77.00724852444044, 42.49097875346601, 106.11049353656651, 76.41055408007185, 113.70521449330828, 91.91451129675191, 61.25768590815332, 68.8523950829736, 80.06825927653918, 99.3582363607279, 138.9730361988659, 97.00801564707643, 298.47548350456844, 180.96076131316042, 104.03951456859572, 102.93963255916906, 193.23902018501292, 239.12377264237105, 101.19806420717872, 143.74143313432853, 8.159374864797822, 7.144325443520726, 12.218522713358894, 6.129228970329531, 7.143143490355111, 6.128170832820934, 4.0992443649338695, 4.099096514510517, 3.084128087188829, 3.084128087188829, 3.084128087188829, 3.084128087188829, 3.08412739852452, 3.0841263655280566, 3.0841263655280566, 3.0841256768637475, 3.084124988199439, 3.084124988199439, 3.084124988199439, 3.0839531664543656, 3.08411641464007, 4.098385789552934, 5.113519981959446, 3.08400017505241, 5.113595731481114, 5.113779835208803, 3.083910399259159, 3.084021268417261, 6.129204621411567, 4.0983088369848355, 5.113860279299665, 4.097989582849142, 4.0982242684257395, 5.111060497516065, 5.1130033861404955, 4.097847574215855, 4.0977435652429905, 4.097726008846951, 4.09706524089673, 4.0985777188199, 6.127651812479911, 18.28406762685629, 5.111895500429395, 19.284149631321228, 4.093579242613556, 4.097494798078161, 102.36235615529759, 14.15945413031806, 37.41171950938487, 8.147903819016296, 29.377320176047842, 20.32519469026515, 24.34291361262336, 9.153717502304062, 8.142920640468242, 180.96076131316042, 137.41792430950048, 121.831005138583, 17.20868062696485, 13.209087988080462, 20.233655228513214, 154.92363847678078, 50.29304276590297, 12.11830880782694, 38.37922752127653, 46.11767874309228, 36.2088732807216, 298.47548350456844, 193.23902018501292, 54.01634355866545, 22.266823203772937, 122.22863807156023, 39.387705419061476, 20.136875419579308, 66.3539693574003, 75.12795648267569, 51.279168025839056, 107.85487505841031, 44.09679388543712, 143.74143313432853, 79.78712542636272, 239.12377264237105, 94.14612245162814, 138.9730361988659, 131.172783146944, 102.93963255916906, 86.98648807174484, 65.33311428949416, 125.39382711774752, 154.71676886991364, 163.07276945748325, 208.96906892014184, 104.03951456859572, 113.70521449330828, 6.134443472357486, 8.165168320843899, 4.102641454504841, 4.101058751659452, 4.101058751659452, 4.101058443440786, 4.1010569023474615, 4.101051662630154, 4.1026282200630355, 7.149776858629861, 3.0867703027344304, 3.086650713892364, 3.0867164135406986, 5.118134091510244, 3.0856659167449925, 4.101430181089279, 4.102534799912671, 3.086665507448831, 5.1180216942678625, 3.0866560365784768, 4.101826069229485, 5.117936643755648, 3.086368492676396, 5.117716123697435, 9.180413662866714, 3.0864452508205606, 3.08637286509586, 3.0858616400680328, 3.0863932934110796, 4.101455002903433, 9.18152829916164, 4.101691771474205, 4.101065394535818, 4.100584846467336, 6.132204570472206, 4.101065611268535, 17.262918661256634, 5.117777311247371, 4.101003851943622, 4.101992758718006, 6.132142151383694, 16.28757600673134, 6.129426209584424, 5.115081771802581, 5.118116519005248, 5.117949671315671, 29.264654987798572, 9.158116540793564, 13.243142962483025, 9.154035458040301, 11.117631986734372, 10.194271060251534, 11.139094732585313, 239.12377264237105, 34.49174395788272, 15.144233292497868, 10.180903861516562, 12.22701271066265, 80.53305996256681, 122.22863807156023, 39.38346005940655, 45.00613245478553, 298.47548350456844, 20.133311559220544, 26.337368818871298, 17.23550338776264, 32.21796814373845, 154.71676886991364, 32.12041020274279, 16.168390609798376, 79.78712542636272, 43.24317694931027, 35.23465180414642, 108.74658111829595, 36.85021602129822, 143.74143313432853, 76.19191370694251, 49.23330680291086, 137.41792430950048, 193.23902018501292, 106.11049353656651, 154.92363847678078, 135.1381292296859, 68.8523950829736, 52.40328064466572, 97.00801564707643, 138.9730361988659, 77.23626619308794, 94.14612245162814, 104.03951456859572, 61.25768590815332, 125.39382711774752, 107.85487505841031, 113.70521449330828, 163.07276945748325, 208.96906892014184, 18.917391598001693, 18.917386676491496, 22.693648362315084, 22.693648783448253, 27.416400770775954, 26.47225796905652, 26.472296306985417, 26.472295545022615, 26.472281431226968, 26.4722924938549, 27.416457911579123, 22.696121440025834, 22.69613545268318, 22.696124859257342, 6.646640053647311, 8.535115801033172, 5.70319487007628, 3.8149029275454347, 4.759255983523888, 3.8149767191187745, 3.8142305955496427, 27.42376845413154, 27.423799370520136, 27.423770987303303, 27.423793049283972, 3.8139399206051388, 3.815486878380199, 2.870876551817793, 2.8709929228679107, 2.8709954052826183, 28.376880546964937, 6.648023246583133, 3.815315860764599, 13.299127267000669, 4.77367058935785, 4.773688338839275, 11.476045681376286, 4.773698053132331, 4.773706442056774, 101.19806420717872, 9.59486107458254, 19.42717694211605, 53.04087287931789, 36.200774899384996, 163.07276945748325, 108.74658111829595, 66.31548322570981, 208.96906892014184, 30.363219654942036, 143.74143313432853, 40.39016797430602, 84.02476034902534, 193.23902018501292, 109.22665743504339, 131.172783146944, 239.12377264237105], \"Category\": [\"Default\", \"Default\", \"Default\", \"Default\", \"Default\", \"Default\", \"Default\", \"Default\", \"Default\", \"Default\", \"Default\", \"Default\", \"Default\", \"Default\", \"Default\", \"Default\", \"Default\", \"Default\", \"Default\", \"Default\", \"Default\", \"Default\", \"Default\", \"Default\", \"Default\", \"Default\", \"Default\", \"Default\", \"Default\", \"Default\", \"Topic1\", \"Topic1\", \"Topic1\", \"Topic1\", \"Topic1\", \"Topic1\", \"Topic1\", \"Topic1\", \"Topic1\", \"Topic1\", \"Topic1\", \"Topic1\", \"Topic1\", \"Topic1\", \"Topic1\", \"Topic1\", \"Topic1\", \"Topic1\", \"Topic1\", \"Topic1\", \"Topic1\", \"Topic1\", \"Topic1\", \"Topic1\", \"Topic1\", \"Topic1\", \"Topic1\", \"Topic1\", \"Topic1\", \"Topic1\", \"Topic1\", \"Topic1\", \"Topic1\", \"Topic1\", \"Topic1\", \"Topic1\", \"Topic1\", \"Topic1\", \"Topic1\", \"Topic1\", \"Topic1\", \"Topic1\", \"Topic1\", \"Topic1\", \"Topic1\", \"Topic1\", \"Topic1\", \"Topic1\", \"Topic1\", \"Topic1\", \"Topic1\", \"Topic1\", \"Topic1\", \"Topic1\", \"Topic1\", \"Topic1\", \"Topic1\", \"Topic1\", \"Topic1\", \"Topic1\", \"Topic1\", \"Topic1\", \"Topic1\", \"Topic1\", \"Topic1\", \"Topic1\", \"Topic1\", \"Topic1\", \"Topic1\", \"Topic1\", \"Topic1\", \"Topic1\", \"Topic1\", \"Topic1\", \"Topic1\", \"Topic1\", \"Topic1\", \"Topic1\", \"Topic1\", \"Topic1\", \"Topic1\", \"Topic1\", \"Topic1\", \"Topic2\", \"Topic2\", \"Topic2\", \"Topic2\", \"Topic2\", \"Topic2\", \"Topic2\", \"Topic2\", \"Topic2\", \"Topic2\", \"Topic2\", \"Topic2\", \"Topic2\", \"Topic2\", \"Topic2\", \"Topic2\", \"Topic2\", \"Topic2\", \"Topic2\", \"Topic2\", \"Topic2\", \"Topic2\", \"Topic2\", \"Topic2\", \"Topic2\", \"Topic2\", \"Topic2\", \"Topic2\", \"Topic2\", \"Topic2\", \"Topic2\", \"Topic2\", \"Topic2\", \"Topic2\", \"Topic2\", \"Topic2\", \"Topic2\", \"Topic2\", \"Topic2\", \"Topic2\", \"Topic2\", \"Topic2\", \"Topic2\", \"Topic2\", \"Topic2\", \"Topic2\", \"Topic2\", \"Topic2\", \"Topic2\", \"Topic2\", \"Topic2\", \"Topic2\", \"Topic2\", \"Topic2\", \"Topic2\", \"Topic2\", \"Topic2\", \"Topic2\", \"Topic2\", \"Topic2\", \"Topic2\", \"Topic2\", \"Topic2\", \"Topic2\", \"Topic2\", \"Topic2\", \"Topic2\", \"Topic2\", \"Topic2\", \"Topic2\", \"Topic2\", \"Topic2\", \"Topic2\", \"Topic2\", \"Topic2\", \"Topic2\", \"Topic2\", \"Topic2\", \"Topic2\", \"Topic2\", \"Topic2\", \"Topic2\", \"Topic2\", \"Topic2\", \"Topic2\", \"Topic2\", \"Topic2\", \"Topic2\", \"Topic2\", \"Topic2\", \"Topic2\", \"Topic2\", \"Topic2\", \"Topic2\", \"Topic3\", \"Topic3\", \"Topic3\", \"Topic3\", \"Topic3\", \"Topic3\", \"Topic3\", \"Topic3\", \"Topic3\", \"Topic3\", \"Topic3\", \"Topic3\", \"Topic3\", \"Topic3\", \"Topic3\", \"Topic3\", \"Topic3\", \"Topic3\", \"Topic3\", \"Topic3\", \"Topic3\", \"Topic3\", \"Topic3\", \"Topic3\", \"Topic3\", \"Topic3\", \"Topic3\", \"Topic3\", \"Topic3\", \"Topic3\", \"Topic3\", \"Topic3\", \"Topic3\", \"Topic3\", \"Topic3\", \"Topic3\", \"Topic3\", \"Topic3\", \"Topic3\", \"Topic3\", \"Topic3\", \"Topic3\", \"Topic3\", \"Topic3\", \"Topic3\", \"Topic3\", \"Topic3\", \"Topic3\", \"Topic3\", \"Topic3\", \"Topic3\", \"Topic3\", \"Topic3\", \"Topic3\", \"Topic3\", \"Topic3\", \"Topic3\", \"Topic3\", \"Topic3\", \"Topic3\", \"Topic3\", \"Topic3\", \"Topic3\", \"Topic3\", \"Topic3\", \"Topic3\", \"Topic3\", \"Topic3\", \"Topic3\", \"Topic3\", \"Topic3\", \"Topic3\", \"Topic3\", \"Topic3\", \"Topic3\", \"Topic3\", \"Topic3\", \"Topic3\", \"Topic3\", \"Topic3\", \"Topic3\", \"Topic3\", \"Topic3\", \"Topic3\", \"Topic3\", \"Topic3\", \"Topic3\", \"Topic3\", \"Topic3\", \"Topic3\", \"Topic3\", \"Topic3\", \"Topic3\", \"Topic3\", \"Topic3\", \"Topic3\", \"Topic4\", \"Topic4\", \"Topic4\", \"Topic4\", \"Topic4\", \"Topic4\", \"Topic4\", \"Topic4\", \"Topic4\", \"Topic4\", \"Topic4\", \"Topic4\", \"Topic4\", \"Topic4\", \"Topic4\", \"Topic4\", \"Topic4\", \"Topic4\", \"Topic4\", \"Topic4\", \"Topic4\", \"Topic4\", \"Topic4\", \"Topic4\", \"Topic4\", \"Topic4\", \"Topic4\", \"Topic4\", \"Topic4\", \"Topic4\", \"Topic4\", \"Topic4\", \"Topic4\", \"Topic4\", \"Topic4\", \"Topic4\", \"Topic4\", \"Topic4\", \"Topic4\", \"Topic4\", \"Topic4\", \"Topic4\", \"Topic4\", \"Topic4\", \"Topic4\", \"Topic4\", \"Topic4\", \"Topic4\", \"Topic4\", \"Topic4\", \"Topic4\", \"Topic4\", \"Topic4\", \"Topic4\", \"Topic4\", \"Topic4\"], \"logprob\": [30.0, 29.0, 28.0, 27.0, 26.0, 25.0, 24.0, 23.0, 22.0, 21.0, 20.0, 19.0, 18.0, 17.0, 16.0, 15.0, 14.0, 13.0, 12.0, 11.0, 10.0, 9.0, 8.0, 7.0, 6.0, 5.0, 4.0, 3.0, 2.0, 1.0, -6.7666, -6.7668, -7.0173, -7.0176, -6.6631, -7.1716, -6.8859, -7.3534, -7.3534, -7.3534, -7.3534, -7.3534, -7.3534, -7.3534, -7.3534, -7.3534, -6.7695, -7.1733, -6.8875, -7.0206, -7.5762, -7.5762, -7.355, -6.0799, -7.5773, -7.5771, -7.3561, -7.3569, -7.5782, -7.863, -6.8912, -7.0248, -6.7788, -7.0283, -7.0314, -7.3617, -7.1893, -6.8147, -6.4974, -5.4311, -5.4817, -4.6832, -4.1406, -6.9541, -7.0663, -7.0663, -5.0771, -6.0155, -6.2873, -5.6552, -4.7128, -4.6897, -4.6713, -5.68, -5.5172, -5.5232, -5.921, -4.6918, -5.2753, -4.974, -6.1644, -4.6868, -5.176, -5.2442, -5.6895, -5.063, -5.296, -5.0458, -5.1966, -5.472, -5.3963, -5.2987, -5.1594, -4.9433, -5.18, -4.4999, -4.9116, -5.2026, -5.2342, -4.9769, -4.9019, -5.3578, -5.4055, -6.5902, -6.7241, -6.1882, -6.8783, -6.7253, -6.8813, -7.2839, -7.284, -7.5687, -7.5687, -7.5687, -7.5687, -7.5687, -7.5687, -7.5687, -7.5687, -7.5687, -7.5687, -7.5687, -7.5688, -7.569, -7.2848, -7.0635, -7.5696, -7.0641, -7.0641, -7.57, -7.5702, -6.8833, -7.2859, -7.0661, -7.286, -7.2862, -7.0688, -7.069, -7.2882, -7.2884, -7.289, -7.2892, -7.2892, -6.8979, -5.8458, -7.0822, -5.8236, -7.2987, -7.2985, -4.2537, -6.1256, -5.2531, -6.656, -5.4953, -5.8438, -5.6875, -6.5806, -6.6866, -3.9979, -4.2459, -4.3533, -6.0469, -6.2959, -5.9538, -4.3181, -5.2714, -6.3916, -5.5216, -5.4081, -5.596, -4.059, -4.3975, -5.3198, -5.9697, -4.8086, -5.5959, -6.0462, -5.2651, -5.1926, -5.442, -4.9699, -5.568, -4.8773, -5.2195, -4.6071, -5.1953, -5.015, -5.1271, -5.2689, -5.3315, -5.4376, -5.2986, -5.3092, -5.3044, -5.3031, -5.3941, -5.3933, -6.7658, -6.4817, -7.1701, -7.1705, -7.1705, -7.1705, -7.1705, -7.1705, -7.1705, -6.6154, -7.457, -7.4571, -7.4573, -6.9516, -7.458, -7.1736, -7.1734, -7.4585, -6.9528, -7.4585, -7.1744, -6.9536, -7.4595, -6.9538, -6.3695, -7.4599, -7.46, -7.4607, -7.4605, -7.1767, -6.3718, -7.177, -7.1776, -7.1777, -6.7818, -7.1784, -5.7731, -6.9646, -7.1806, -7.1804, -6.7943, -5.8594, -6.8005, -6.9743, -6.9759, -6.979, -5.442, -6.4792, -6.1758, -6.5038, -6.357, -6.4377, -6.3698, -3.9228, -5.4769, -6.1292, -6.4497, -6.3084, -4.8506, -4.5503, -5.4593, -5.3798, -4.034, -5.9677, -5.7863, -6.0921, -5.6588, -4.6126, -5.6906, -6.1469, -5.1335, -5.5381, -5.6676, -5.0121, -5.6552, -4.8672, -5.2544, -5.5051, -4.9236, -4.7459, -5.0772, -4.8902, -4.992, -5.3449, -5.4967, -5.1996, -5.1272, -5.3906, -5.3328, -5.3245, -5.4904, -5.3244, -5.3777, -5.4015, -5.4138, -5.4834, -5.0894, -5.0894, -4.9075, -4.9075, -4.7198, -4.7549, -4.7549, -4.7549, -4.7549, -4.7549, -4.7198, -4.9089, -4.9089, -4.909, -6.1384, -5.8896, -6.2944, -6.697, -6.476, -6.6975, -6.6982, -4.7259, -4.7259, -4.7259, -4.7259, -6.6994, -6.6991, -6.9838, -6.9841, -6.9842, -4.6978, -6.1446, -6.7003, -5.4952, -6.5171, -6.5172, -5.8092, -6.5172, -6.5173, -4.4886, -6.0531, -5.614, -4.9981, -5.2406, -4.3774, -4.628, -4.9879, -4.5041, -5.4141, -4.8907, -5.3789, -5.1501, -4.9898, -5.1772, -5.1837, -5.1613], \"loglift\": [30.0, 29.0, 28.0, 27.0, 26.0, 25.0, 24.0, 23.0, 22.0, 21.0, 20.0, 19.0, 18.0, 17.0, 16.0, 15.0, 14.0, 13.0, 12.0, 11.0, 10.0, 9.0, 8.0, 7.0, 6.0, 5.0, 4.0, 3.0, 2.0, 1.0, 1.0395, 1.0392, 1.0387, 1.0385, 1.0379, 1.0378, 1.0373, 1.037, 1.037, 1.037, 1.037, 1.037, 1.037, 1.037, 1.037, 1.037, 1.0366, 1.036, 1.0357, 1.0356, 1.0356, 1.0355, 1.0353, 1.035, 1.0345, 1.0344, 1.0344, 1.0335, 1.0335, 1.0331, 1.0324, 1.0315, 1.0271, 1.0279, 1.0249, 1.0286, 1.0197, 0.9927, 0.9469, 0.8123, 0.7861, 0.6222, 0.518, 0.9724, 0.9889, 0.9889, 0.6336, 0.7748, 0.8275, 0.6908, 0.4565, 0.4346, 0.4232, 0.6603, 0.6108, 0.6082, 0.684, 0.2674, 0.4461, 0.3334, 0.7449, 0.2198, 0.3937, 0.4127, 0.562, 0.2734, 0.3686, 0.2214, 0.2833, 0.4137, 0.3725, 0.3192, 0.2427, 0.1233, 0.246, -0.1978, -0.1091, 0.1534, 0.1325, -0.24, -0.3781, 0.026, -0.3727, 1.3114, 1.3103, 1.3097, 1.3095, 1.3093, 1.3066, 1.306, 1.306, 1.3058, 1.3058, 1.3058, 1.3058, 1.3058, 1.3058, 1.3058, 1.3058, 1.3058, 1.3058, 1.3058, 1.3058, 1.3056, 1.3054, 1.3054, 1.3049, 1.3048, 1.3047, 1.3046, 1.3044, 1.3044, 1.3043, 1.3027, 1.3043, 1.3041, 1.3006, 1.3, 1.3021, 1.302, 1.3014, 1.3014, 1.301, 1.29, 1.249, 1.287, 1.2179, 1.2926, 1.292, 1.1185, 1.2248, 1.1257, 1.247, 1.1253, 1.1451, 1.1211, 1.206, 1.217, 0.8046, 0.8318, 0.8449, 1.1085, 1.124, 1.0396, 0.6398, 0.8115, 1.1144, 0.8317, 0.7615, 0.8155, 0.2431, 0.3394, 0.6917, 0.928, 0.3863, 0.7315, 0.952, 0.5407, 0.489, 0.6215, 0.3501, 0.6465, 0.1555, 0.402, -0.0833, 0.2606, 0.0515, -0.0029, 0.0978, 0.2035, 0.3837, -0.1292, -0.35, -0.3978, -0.6445, -0.0381, -0.1262, 1.4211, 1.4193, 1.419, 1.419, 1.419, 1.419, 1.419, 1.419, 1.4187, 1.4183, 1.4166, 1.4166, 1.4164, 1.4164, 1.4161, 1.4159, 1.4158, 1.4153, 1.4152, 1.4152, 1.415, 1.4145, 1.4143, 1.4143, 1.4142, 1.4139, 1.4138, 1.4133, 1.4132, 1.4128, 1.4118, 1.4124, 1.4119, 1.4119, 1.4054, 1.4112, 1.3791, 1.4035, 1.409, 1.4089, 1.393, 1.351, 1.3872, 1.3943, 1.3921, 1.3891, 1.1825, 1.307, 1.2415, 1.2828, 1.2353, 1.2413, 1.2205, 0.601, 0.9831, 1.154, 1.2306, 1.1887, 0.7616, 0.6446, 0.8681, 0.8142, 0.2682, 1.0308, 0.9435, 1.0617, 0.8695, 0.3466, 0.8407, 1.0708, 0.488, 0.6959, 0.7711, 0.2997, 0.7387, 0.1656, 0.4131, 0.5991, 0.1541, -0.009, 0.2591, 0.0677, 0.1025, 0.4239, 0.5451, 0.2264, -0.0606, 0.2633, 0.1231, 0.0315, 0.3953, -0.1551, -0.0577, -0.1344, -0.5072, -0.8248, 1.9713, 1.9713, 1.9712, 1.9712, 1.9698, 1.9698, 1.9698, 1.9698, 1.9698, 1.9698, 1.9698, 1.9697, 1.9697, 1.9697, 1.9683, 1.967, 1.9653, 1.9649, 1.9647, 1.9644, 1.9638, 1.9635, 1.9635, 1.9635, 1.9635, 1.9627, 1.9626, 1.9624, 1.962, 1.962, 1.9574, 1.9618, 1.9615, 1.9179, 1.9206, 1.9205, 1.7513, 1.9204, 1.9204, 0.8951, 1.6865, 1.4202, 1.0317, 1.1711, 0.5292, 0.6838, 0.8184, 0.1545, 1.1734, 0.142, 0.9233, 0.4196, -0.2529, 0.1302, -0.0595, -0.6375]}, \"token.table\": {\"Topic\": [1, 2, 3, 4, 4, 1, 1, 2, 3, 4, 1, 2, 3, 4, 3, 1, 2, 3, 3, 4, 2, 3, 1, 2, 3, 4, 4, 2, 3, 2, 1, 2, 2, 1, 2, 2, 4, 1, 1, 1, 1, 2, 1, 2, 4, 1, 2, 3, 4, 2, 1, 2, 3, 4, 4, 4, 4, 4, 1, 2, 3, 4, 1, 2, 3, 4, 4, 4, 3, 1, 3, 1, 2, 3, 4, 1, 2, 3, 4, 1, 2, 3, 4, 2, 3, 1, 3, 1, 2, 3, 4, 4, 4, 1, 2, 3, 2, 3, 1, 1, 2, 4, 3, 2, 4, 1, 2, 3, 4, 3, 4, 1, 3, 1, 2, 3, 4, 4, 1, 2, 3, 4, 1, 2, 4, 1, 2, 3, 4, 1, 2, 3, 4, 3, 1, 2, 3, 1, 1, 4, 2, 1, 4, 3, 1, 2, 4, 4, 2, 1, 2, 4, 1, 2, 3, 4, 1, 3, 1, 2, 3, 4, 1, 2, 3, 4, 1, 2, 3, 4, 1, 2, 3, 4, 2, 3, 1, 2, 3, 4, 1, 4, 1, 2, 3, 4, 1, 2, 3, 1, 1, 2, 4, 1, 1, 2, 4, 1, 2, 3, 4, 1, 1, 2, 3, 1, 4, 1, 2, 3, 4, 3, 2, 3, 4, 1, 1, 2, 3, 4, 3, 2, 1, 1, 3, 4, 1, 1, 1, 2, 3, 4, 1, 2, 3, 2, 3, 4, 3, 2, 1, 2, 4, 3, 1, 2, 3, 4, 4, 1, 2, 3, 4, 4, 1, 2, 3, 4, 2, 3, 4, 3, 2, 3, 2, 1, 1, 3, 4, 2, 2, 4, 4, 1, 2, 1, 1, 2, 3, 4, 4, 1, 3, 4, 1, 3, 4, 3, 1, 2, 3, 4, 1, 2, 3, 4, 1, 2, 3, 4, 1, 2, 3, 3, 1, 3, 1, 3, 2, 1, 4, 1, 2, 3, 4, 3, 2, 3, 1, 2, 3, 4, 1, 3, 4, 4, 4, 1, 2, 3, 4, 1, 2, 3, 4, 2, 3, 2, 1, 3, 1, 1, 3, 1, 2, 3, 4, 4, 4, 1, 2, 3, 4, 1, 2, 1, 2, 3, 1, 2, 3, 4, 2, 1, 3, 1, 1, 4, 1, 2, 3, 4, 1, 2, 3, 2, 2, 1, 2, 3, 4, 4, 2, 1, 2, 3, 4, 1, 2, 3, 4, 1, 2, 3, 4, 3, 1, 2, 3, 4, 1, 2, 4, 1, 2, 3, 1, 1, 2, 3, 4, 3, 1, 2, 3, 4, 2, 3, 1, 2, 4, 1, 2, 3, 4, 3, 3, 1, 2, 3, 1, 1, 2, 2, 3, 1, 2, 3, 4, 1, 2, 3, 4, 1, 2, 3, 4, 3, 3, 4, 1, 3, 1, 2, 3, 1, 2, 3, 4, 1, 2, 3, 4, 2, 1, 2, 3, 4, 1, 1, 2, 3, 4, 1, 2, 3, 4, 2, 1, 2, 3, 4, 1, 2, 3, 4, 1, 2, 3, 4, 3, 2, 2, 1, 2, 3, 4, 3, 2, 1, 2, 3, 4, 1, 2, 3, 4, 2, 3, 4, 1, 2, 1, 2, 2, 2, 3, 1, 2, 3, 4, 4, 1, 2, 1, 2, 4, 1, 2, 3, 4, 2, 1, 2, 3, 4, 1, 1, 2, 3, 4, 1, 2, 3, 1, 2, 3, 4, 3, 2, 3, 2, 3, 1, 2, 3, 4, 4, 1, 2, 3, 2, 3, 2, 4], \"Freq\": [0.5104006962065905, 0.24865674943397995, 0.07852318403178314, 0.15704636806356628, 0.9848099301185353, 0.9999825920758122, 0.698437925187665, 0.12934035651623427, 0.05173614260649371, 0.12934035651623427, 0.4535707663588936, 0.17524325063866344, 0.2989443687365435, 0.07215898555709671, 0.975356255947031, 0.10211959368730932, 0.8169567494984745, 0.03403986456243644, 0.972016143606527, 1.0487042929882395, 0.9761469785293423, 0.9719272694178297, 0.461782792322177, 0.16963449513875892, 0.310996574421058, 0.05654483171291964, 1.0487842187522818, 0.9727222460252903, 0.9769399777261504, 0.9782705570458343, 0.9970423562294841, 0.9821154554862859, 0.9778988243100314, 0.9990470665881439, 0.9760324809009365, 0.9762062423791511, 1.0505843806909203, 1.0011885896932717, 1.0038358346995617, 0.9972327812655973, 0.05469242514347104, 0.9297712274390078, 0.1544228484117175, 0.2573714140195292, 0.5662171108429641, 0.07570545376807043, 0.8327599914487749, 0.07570545376807043, 0.9845474025628416, 0.977734964766136, 0.22351069248289732, 0.211093431789403, 0.5091076884332661, 0.062086303467471474, 1.048519471129416, 1.0474041629266433, 1.048358997816324, 1.0043667966363308, 0.44152067962991226, 0.1778347181842702, 0.1471735598766374, 0.23302480313800925, 0.22959260649254037, 0.3979605179204033, 0.2908173015572178, 0.0765308688308468, 1.0449337517155248, 1.0133888557023298, 0.9775014795585515, 0.9990474276321599, 0.9721757972058204, 0.2843603428070419, 0.2031145305764585, 0.4468519672682087, 0.06093435917293755, 0.27616644555232406, 0.35051895012410367, 0.27616644555232406, 0.1062178636739708, 0.31132852715393067, 0.031132852715393067, 0.5603913488770752, 0.062265705430786134, 0.2453583774705517, 0.8178612582351723, 1.0024701021641464, 0.9752695580295503, 0.6577808796755181, 0.30148290318461246, 0.013703768326573293, 0.013703768326573293, 1.0134994253006677, 0.9821593982198353, 0.1740593200271729, 0.11603954668478192, 0.6962372801086916, 0.9727625906989508, 0.9753579606741721, 1.0024453712878048, 0.35902801777931836, 0.6075858762419234, 0.027617539829178337, 0.975207359026479, 0.97272300623323, 1.0520419057537393, 0.2881308675346653, 0.34173661033181235, 0.31493373893323884, 0.05360574279714704, 0.9751358023484464, 0.9821588463082899, 1.0002651717028672, 0.9753578873702895, 0.15491502933941875, 0.5099286382422534, 0.2581917155656979, 0.08391230755885183, 1.047408134988501, 0.508333805350151, 0.02904764602000863, 0.3630955752501079, 0.08714293806002589, 0.7654899963079086, 0.167450936692355, 0.04784312476924429, 0.22098974461830953, 0.3038608988501756, 0.02762371807728869, 0.44197948923661906, 0.09070954252120791, 0.5215798694969456, 0.2267738563030198, 0.15874169941211386, 0.9751754297937326, 0.08697733589995475, 0.26093200769986424, 0.6378337965996682, 0.9990472471101192, 0.8795336852439457, 0.12564766932056368, 0.9799607146981734, 0.20844491488241976, 0.7295572020884692, 0.97845089886674, 0.24830068696449523, 0.6952419235005866, 0.04966013739289904, 0.937304213146306, 0.9777503453657862, 0.11622041476358938, 0.8135429033451256, 0.9845462926272823, 0.2187181247156046, 0.5965039764971034, 0.0994173294161839, 0.05965039764971034, 0.999047698415343, 0.9753583271937495, 0.6943840914321767, 0.10287171724921138, 0.15430757587381705, 0.05143585862460569, 0.24255221201592403, 0.24673414670585375, 0.4391031424426211, 0.07527482441873505, 0.22704921406541498, 0.1986680623072381, 0.5108607316471837, 0.056762303516353745, 0.38061781872998884, 0.19687128554999425, 0.36749306635998924, 0.06562376184999807, 0.9758247911070836, 0.9769185235482204, 0.27944666635288645, 0.37777049340297614, 0.2380471602265329, 0.10867370358167808, 0.9990472471101192, 0.9848119826428927, 0.10635805327708056, 0.39270665825383594, 0.45815776796280855, 0.04090694356810791, 0.5582411958307045, 0.23924622678458765, 0.20734672987997596, 1.0014266296234449, 0.7663430646952879, 0.12100153653083494, 0.12100153653083494, 0.9989917673063275, 0.08251976541100543, 0.8251976541100543, 0.08251976541100543, 0.18800025592905747, 0.4010672126486559, 0.38853386225338543, 0.025066700790540995, 0.9991021108482299, 0.11390659487026794, 0.22781318974053588, 0.6075018393080956, 0.9308607148452186, 0.07757172623710155, 0.30345781596666627, 0.1011526053222221, 0.3218491987525249, 0.27587074178787846, 0.9719255934086735, 0.9760123404811136, 0.9769218776933579, 1.0449770116727757, 0.9971398414701821, 0.398291687863112, 0.2914329423388624, 0.2040030596372037, 0.09714431411295414, 0.9720083329640735, 0.9759940145694127, 1.000323351090333, 0.17085456849174097, 0.7859310150620085, 0.06834182739669639, 0.9990477886764367, 0.9990421837940447, 0.0488460815850538, 0.8206141706289038, 0.11723059580412912, 0.00976921631701076, 0.0492000207249653, 0.8364003523244101, 0.0984000414499306, 0.9727222460252903, 0.9780838354834789, 1.0133883827028753, 0.9718896146378094, 0.9761222025847122, 0.10371211789145264, 0.8815530020773474, 1.0043670579304258, 0.9719226112321898, 0.2216184621417795, 0.6238149304731572, 0.10670518547567161, 0.04924854714261767, 1.048499190035415, 0.4397335709079778, 0.23745612829030802, 0.21107211403582934, 0.11433072843607422, 0.9845473116188324, 0.22624062064934708, 0.35821431602813286, 0.03770677010822451, 0.3959210861363574, 0.08977390209948473, 0.8079651188953626, 0.08977390209948473, 0.9749816171744335, 0.15102155173178086, 0.8306185345247948, 0.9771399948388907, 1.0045277045645755, 0.781154629138755, 0.11159351844839357, 0.05579675922419679, 0.9760883767837656, 0.07519290400967255, 0.977507752125743, 1.053163695265668, 1.0024653332317257, 0.9727559374256906, 1.0023393295551792, 0.050939497413992375, 0.6185510400270503, 0.28380577130652895, 0.050939497413992375, 1.047412029465694, 0.08994721188767593, 0.8095249069890833, 0.08994721188767593, 0.19809520508946046, 0.7923808203578419, 0.06603173502982015, 0.98022896698165, 0.1551929028451705, 0.1862314834142046, 0.5586944502426138, 0.0931157417071023, 0.48708439964083744, 0.27476555877175446, 0.1873401537080144, 0.04995737432213718, 0.6470467135710857, 0.16697979705060276, 0.1461073224192774, 0.04174494926265069, 0.12323915073355508, 0.8215943382237005, 0.08215943382237005, 0.9753563074925662, 1.0019120900455416, 0.9788844493499174, 0.3092453739316452, 0.6803398226496195, 0.9727259275166217, 0.1742760577579146, 0.7842422599106157, 0.6579039289190162, 0.1187882093881557, 0.13706331852479503, 0.08223799111487702, 0.9753595733623736, 0.19618862282347943, 0.7847544912939177, 0.4392506005086098, 0.4392506005086098, 0.06655312128918331, 0.05324249703134664, 0.29850571279262944, 0.5156007766418145, 0.18995818086803692, 1.0133890083720762, 1.052944573200428, 0.6118945894575132, 0.04706881457365486, 0.14120644372096458, 0.18827525829461944, 0.36561964193555513, 0.21739546277249225, 0.07905289555363354, 0.33597480610294256, 0.9727222460252903, 0.9769537258295568, 0.9727227890308403, 1.001844054506075, 0.9719065822955766, 1.0003237154297098, 0.10919275765334915, 0.8735420612267932, 0.3705208319765658, 0.5070285069153007, 0.09750548209909628, 0.019501096419819255, 1.047406003552985, 0.9821588745781656, 0.22282650583986927, 0.2971020077864923, 0.12379250324437181, 0.3466190090842411, 0.10924523285193062, 0.873961862815445, 0.726994305357525, 0.18174857633938124, 0.09087428816969062, 0.2385202442923828, 0.5854587814449397, 0.08673463428813921, 0.108418292860174, 0.9759483104670067, 0.10924143833435405, 0.8739315066748324, 1.0013751576776124, 0.9990477886764367, 0.9821589877807321, 0.4678260199977753, 0.20671382278971465, 0.23935284744072222, 0.08703739906935354, 1.0002959201283013, 0.9781107613760891, 0.9803479810940918, 0.9727232234357167, 0.9727227890308403, 0.19760750237247704, 0.03293458372874617, 0.32934583728746175, 0.46108417220244646, 1.0484059894318658, 0.9763085928122821, 0.5540686170189508, 0.16622058510568524, 0.2631825930840016, 0.01385171542547377, 0.41330450433473603, 0.25951678179157844, 0.24990504913263106, 0.08650559393052615, 0.31498541223176574, 0.6023405251449555, 0.04420847890972151, 0.03868241904600632, 0.9769866283574842, 1.0013655077582957, 0.6736479587918213, 0.2694591835167285, 0.04490986391945475, 0.7936812929557586, 0.16340497207912677, 0.023343567439875253, 0.6448073670623662, 0.2704030894132503, 0.08320095058869241, 1.0012702780164697, 0.10156547936535655, 0.2793050682547305, 0.5840015063508002, 0.050782739682678275, 0.9749847623137885, 0.5324174124593931, 0.29867318259917175, 0.11687211493011068, 0.051943162191160304, 0.9727774184875554, 0.9797715963279949, 0.9989614293009743, 0.9727909088152118, 0.9845465195670648, 0.49438480740943264, 0.21057130685957315, 0.13732911316928684, 0.1556396615918584, 0.9769562126370709, 0.9784409393142561, 0.3816554947316234, 0.20991052210239286, 0.4198210442047857, 0.9990471568491234, 0.9990473373711313, 0.9789198388058039, 0.061396490158309586, 0.9209473523746438, 0.5401880314320945, 0.16279639303432983, 0.26639409769253974, 0.03699918023507496, 0.12063547773257399, 0.28650925961486323, 0.28650925961486323, 0.31666812904800673, 0.5412708207956791, 0.266823644054208, 0.0533647288108416, 0.12960005568347246, 0.9720147665654203, 0.9753578873702895, 1.0134994441084952, 0.9971638290851892, 0.9722374621697997, 0.5387079108649082, 0.11427137503195021, 0.3591386072432721, 0.7037934737236213, 0.1675698746961003, 0.06702794987844013, 0.10054192481766018, 0.39576022446035347, 0.28062997734461426, 0.22306485378674468, 0.0935433257815381, 0.9761511607569755, 0.3315551460305576, 0.4671913421339675, 0.1657775730152788, 0.045212065367803304, 1.001206873349177, 0.38841856913436307, 0.23305114148061787, 0.31073485530749045, 0.05178914255124841, 0.16661623884677393, 0.5368745473951604, 0.1481033234193546, 0.16661623884677393, 0.9778000316103299, 0.37000056722833363, 0.11562517725885425, 0.48562574448718787, 0.046250070903541704, 0.12280605990806967, 0.8596424193564877, 0.9268421125049371, 0.05792763203155857, 0.3793692644860224, 0.33338511121498937, 0.1954326514018903, 0.10346434485982428, 0.9769983092355682, 0.9790849771787556, 0.9789159499579629, 0.10691836815991805, 0.8286173532393649, 0.026729592039979513, 0.026729592039979513, 0.9754706096243833, 0.9777855471089006, 0.5236551680389337, 0.1428150458288001, 0.11901253819066675, 0.21422256874320014, 0.458903068611115, 0.187439281545385, 0.342561445582945, 0.01292684700313, 0.19867571155566316, 0.6953649904448211, 0.14900678366674738, 0.24711303733959117, 0.7413391120187736, 1.0022518143361185, 0.9804672701722019, 0.9727222460252903, 0.9727224632274375, 0.9753709443857869, 0.1777204314271221, 0.5585499273423837, 0.22849769754915697, 0.025388633061017442, 0.9821602687005943, 0.9938909231168486, 0.9797985905511042, 0.12273095291897186, 0.9818476233517749, 0.9867187463984569, 0.23179295313689716, 0.38014044314451134, 0.22252123501142126, 0.15761920813309008, 0.9791679069917242, 0.5933892544038992, 0.13877651917510547, 0.10527873868456276, 0.16270350523977883, 0.9972732634781526, 0.4529065898132889, 0.2415501812337541, 0.15096886327109632, 0.16103345415583606, 1.0028540102319679, 0.9727232234357167, 0.9790515338322652, 0.11109597131064629, 0.1555343598349048, 0.5332606622911021, 0.17775355409703406, 0.9750069640079949, 0.9757895953257057, 0.9719919701159195, 0.9727232234357167, 0.975263655743727, 0.24349277196430882, 0.31306213538268274, 0.2852343900153332, 0.16000953586226008, 1.0449346552213792, 0.2866133768300016, 0.6253382767200035, 0.10422304612000059, 0.09822310608196222, 0.7857848486556978, 0.9181144894678213, 0.07062419149752472], \"Term\": [\"able\", \"able\", \"able\", \"able\", \"access_log_http_search\", \"accounting_task\", \"action\", \"action\", \"action\", \"action\", \"add\", \"add\", \"add\", \"add\", \"addition\", \"address\", \"address\", \"address\", \"advance_regards\", \"adx\", \"allocation_rule\", \"alphanumeric\", \"anyone\", \"anyone\", \"anyone\", \"anyone\", \"anyone_advise\", \"anyone_else_today\", \"app_server\", \"appflg\", \"ar\", \"assistance\", \"auto\", \"available_downloads_patch_update\", \"available_stock\", \"avec\", \"back_back\", \"badge\", \"batch_server\", \"body\", \"bom\", \"bom\", \"box\", \"box\", \"box\", \"budget\", \"budget\", \"budget\", \"business_partner_ensure_component\", \"ca_seem\", \"call\", \"call\", \"call\", \"call\", \"call_web_service\", \"case_submission_knowledgebase_university\", \"certified_partner_install_patch\", \"certified_partner_professional_services\", \"change\", \"change\", \"change\", \"change\", \"check\", \"check\", \"check\", \"check\", \"check_business_partner_ensure\", \"city_customer_additional_resource\", \"classic\", \"click_complete_list\", \"click_ok\", \"client\", \"client\", \"client\", \"client\", \"code\", \"code\", \"code\", \"code\", \"column\", \"column\", \"column\", \"column\", \"command\", \"command\", \"comment\", \"common\", \"company\", \"company\", \"company\", \"company\", \"compatible_highly_recommended_work\", \"complete_list_available_downloads\", \"connect\", \"connect\", \"connect\", \"consumption\", \"continually_update\", \"core\", \"cost\", \"cost\", \"cost\", \"could_cause\", \"could_resolve\", \"course\", \"create\", \"create\", \"create\", \"create\", \"creating\", \"credential_upper_right_corner\", \"crm\", \"current_version\", \"customer\", \"customer\", \"customer\", \"customer\", \"customer_additional_resource_include\", \"date\", \"date\", \"date\", \"date\", \"default\", \"default\", \"default\", \"delete\", \"delete\", \"delete\", \"delete\", \"delivery\", \"delivery\", \"delivery\", \"delivery\", \"description_field\", \"detail\", \"detail\", \"detail\", \"detail_access_log\", \"developer\", \"developer\", \"directory\", \"discount\", \"discount\", \"domain\", \"either\", \"either\", \"either\", \"element\", \"end_date\", \"endpoint\", \"endpoint\", \"ensure_product_fully_compatible\", \"enter\", \"enter\", \"enter\", \"enter\", \"enter_log_credential_upper\", \"enterprise_intelligence\", \"entry\", \"entry\", \"entry\", \"entry\", \"error\", \"error\", \"error\", \"error\", \"error_message\", \"error_message\", \"error_message\", \"error_message\", \"example\", \"example\", \"example\", \"example\", \"extra\", \"facet\", \"field\", \"field\", \"field\", \"field\", \"field_click_product_integrate\", \"field_type_click_search\", \"file\", \"file\", \"file\", \"file\", \"find\", \"find\", \"find\", \"finish\", \"fix\", \"fix\", \"fix\", \"fixed_assets\", \"flag\", \"flag\", \"flag\", \"folder\", \"folder\", \"folder\", \"folder\", \"folder_validation\", \"follow\", \"follow\", \"follow\", \"full\", \"full\", \"function\", \"function\", \"function\", \"function\", \"getting_error\", \"give_error\", \"graph\", \"graphical_query_tool\", \"hard\", \"help\", \"help\", \"help\", \"help\", \"help_greatly_appreciate\", \"help_option\", \"highly_recommended_work_certified\", \"http\", \"http\", \"http\", \"http_search_field_type\", \"ideas\", \"import\", \"import\", \"import\", \"import\", \"import_template\", \"import_template\", \"import_template\", \"importing\", \"importsil\", \"include_link_support_option\", \"index_incorrect\", \"industry\", \"info\", \"info\", \"install_patch_help_visit\", \"installed\", \"invoice\", \"invoice\", \"invoice\", \"invoice\", \"invoice_element\", \"issue\", \"issue\", \"issue\", \"issue\", \"isvs_check_vendor_product\", \"item\", \"item\", \"item\", \"item\", \"itm\", \"itm\", \"itm\", \"itm_itmref\", \"itmref\", \"itmref\", \"job_err\", \"journal_entry\", \"kb\", \"kb\", \"kb\", \"kit\", \"label\", \"label\", \"label_printer\", \"left_list\", \"legal\", \"limit\", \"line\", \"line\", \"line\", \"line\", \"link_support_option_online\", \"local\", \"local\", \"local\", \"local_char\", \"local_char\", \"local_char\", \"local_integer\", \"log\", \"log\", \"log\", \"log\", \"look\", \"look\", \"look\", \"look\", \"lot\", \"lot\", \"lot\", \"lot\", \"material\", \"material\", \"material\", \"matteos\", \"memory\", \"microsoft\", \"might\", \"might\", \"misc\", \"net\", \"net\", \"new\", \"new\", \"new\", \"new\", \"note_kb\", \"num\", \"num\", \"number\", \"number\", \"number\", \"number\", \"object\", \"object\", \"object\", \"online_case_submission_knowledgebase\", \"open_order\", \"option\", \"option\", \"option\", \"option\", \"order\", \"order\", \"order\", \"order\", \"order_level\", \"origin\", \"others_handle\", \"packaging\", \"parent\", \"partner_professional_services_install\", \"password\", \"password\", \"patch\", \"patch\", \"patch\", \"patch\", \"patch_help_visit_city\", \"patch_update_portal_access\", \"payment\", \"payment\", \"payment\", \"payment\", \"pi\", \"pi\", \"plan\", \"plan\", \"plan\", \"po\", \"po\", \"po\", \"po\", \"po_po\", \"policy\", \"policy\", \"port\", \"portal_access_portal_https\", \"portal_https_enter_log\", \"possible\", \"possible\", \"possible\", \"possible\", \"post_journal\", \"pour\", \"present\", \"price_break\", \"pricing_groups\", \"print\", \"print\", \"print\", \"print\", \"print_label\", \"pro\", \"problem\", \"problem\", \"problem\", \"problem\", \"process\", \"process\", \"process\", \"process\", \"product\", \"product\", \"product\", \"product\", \"publish\", \"qc\", \"qty\", \"qty\", \"qty\", \"quantity\", \"quantity\", \"quantity\", \"question\", \"question\", \"question\", \"real\", \"receipt\", \"receipt\", \"receipt\", \"receipt\", \"recommendation\", \"record\", \"record\", \"record\", \"record\", \"reflect\", \"refresh\", \"regards_shereef\", \"relatively_new\", \"release_integrate_product_check\", \"report\", \"report\", \"report\", \"report\", \"representation\", \"retrieve\", \"return\", \"return\", \"return\", \"review_hotfix\", \"right_corner_type_search\", \"rollback\", \"row\", \"row\", \"run\", \"run\", \"run\", \"run\", \"sale_order\", \"sale_order\", \"sale_order\", \"sale_order\", \"screen\", \"screen\", \"screen\", \"screen\", \"sdhnum_trtvenlivv\", \"search_help_visit\", \"search_important_product_integrate\", \"secondary\", \"serial_number\", \"server\", \"server\", \"server\", \"service\", \"service\", \"service\", \"service\", \"set\", \"set\", \"set\", \"set\", \"set_yes\", \"setup\", \"setup\", \"setup\", \"setup\", \"shortcut\", \"show\", \"show\", \"show\", \"show\", \"site\", \"site\", \"site\", \"site\", \"somewhere\", \"sql\", \"sql\", \"sql\", \"sql\", \"standard_cost\", \"standard_cost\", \"statement\", \"statement\", \"stock\", \"stock\", \"stock\", \"stock\", \"string\", \"subcontract\", \"subcontractor\", \"supplier\", \"supplier\", \"supplier\", \"supplier\", \"support_regards\", \"sur\", \"system\", \"system\", \"system\", \"system\", \"table\", \"table\", \"table\", \"table\", \"tax\", \"tax\", \"tax\", \"template\", \"template\", \"test_folder\", \"three\", \"tiered_pricing\", \"total_order\", \"trying\", \"two\", \"two\", \"two\", \"two\", \"type_search_field_click\", \"uk\", \"un\", \"une\", \"une\", \"university\", \"update\", \"update\", \"update\", \"update\", \"upon\", \"user\", \"user\", \"user\", \"user\", \"user_assignment\", \"value\", \"value\", \"value\", \"value\", \"vat\", \"versus_individual\", \"video\", \"view\", \"view\", \"view\", \"view\", \"visible\", \"warn\", \"webservices\", \"weight_suggestion\", \"within_system\", \"work\", \"work\", \"work\", \"work\", \"work_certified_partner_install\", \"workflow\", \"workflow\", \"workflow\", \"xml\", \"xml\", \"yet\", \"yet\"]}, \"R\": 30, \"lambda.step\": 0.01, \"plot.opts\": {\"xlab\": \"PC1\", \"ylab\": \"PC2\"}, \"topic.order\": [2, 3, 1, 4]};\n",
       "\n",
       "function LDAvis_load_lib(url, callback){\n",
       "  var s = document.createElement('script');\n",
       "  s.src = url;\n",
       "  s.async = true;\n",
       "  s.onreadystatechange = s.onload = callback;\n",
       "  s.onerror = function(){console.warn(\"failed to load library \" + url);};\n",
       "  document.getElementsByTagName(\"head\")[0].appendChild(s);\n",
       "}\n",
       "\n",
       "if(typeof(LDAvis) !== \"undefined\"){\n",
       "   // already loaded: just create the visualization\n",
       "   !function(LDAvis){\n",
       "       new LDAvis(\"#\" + \"ldavis_el2420021091408483041212251176\", ldavis_el2420021091408483041212251176_data);\n",
       "   }(LDAvis);\n",
       "}else if(typeof define === \"function\" && define.amd){\n",
       "   // require.js is available: use it to load d3/LDAvis\n",
       "   require.config({paths: {d3: \"https://d3js.org/d3.v5\"}});\n",
       "   require([\"d3\"], function(d3){\n",
       "      window.d3 = d3;\n",
       "      LDAvis_load_lib(\"https://cdn.jsdelivr.net/gh/bmabey/pyLDAvis@3.2.2/pyLDAvis/js/ldavis.v3.0.0.js\", function(){\n",
       "        new LDAvis(\"#\" + \"ldavis_el2420021091408483041212251176\", ldavis_el2420021091408483041212251176_data);\n",
       "      });\n",
       "    });\n",
       "}else{\n",
       "    // require.js not available: dynamically load d3 & LDAvis\n",
       "    LDAvis_load_lib(\"https://d3js.org/d3.v5.js\", function(){\n",
       "         LDAvis_load_lib(\"https://cdn.jsdelivr.net/gh/bmabey/pyLDAvis@3.2.2/pyLDAvis/js/ldavis.v3.0.0.js\", function(){\n",
       "                 new LDAvis(\"#\" + \"ldavis_el2420021091408483041212251176\", ldavis_el2420021091408483041212251176_data);\n",
       "            })\n",
       "         });\n",
       "}\n",
       "</script>"
      ],
      "text/plain": [
       "<IPython.core.display.HTML object>"
      ]
     },
     "execution_count": 711,
     "metadata": {},
     "output_type": "execute_result"
    }
   ],
   "source": [
    "# https://cran.r-project.org/web/packages/LDAvis/vignettes/details.pdf\n",
    "# Here a short legend to explain the vis:\n",
    "# size of bubble: proportional to the proportions of the topics across the N total tokens in the corpus\n",
    "# red bars: estimated number of times a given term was generated by a given topic\n",
    "# blue bars: overall frequency of each term in the corpus\n",
    "# -- Relevance of words is computed with a    parameter lambda\n",
    "# -- Lambda optimal value ~0.6 (https://nlp.stanford.edu/events/illvi2014/papers/sievert-illvi2014.pdf)\n",
    "\n",
    "\n",
    "%matplotlib inline\n",
    "import pyLDAvis\n",
    "import pyLDAvis.gensim\n",
    "vis = pyLDAvis.gensim.prepare(topic_model=lda_model, corpus=corpus, dictionary=dictionary_LDA)\n",
    "pyLDAvis.enable_notebook()\n",
    "pyLDAvis.save_html(vis, 'myBook.html')\n",
    "pyLDAvis.display(vis)"
   ]
  },
  {
   "cell_type": "code",
   "execution_count": 712,
   "metadata": {},
   "outputs": [
    {
     "ename": "TypeError",
     "evalue": "cannot unpack non-iterable int object",
     "output_type": "error",
     "traceback": [
      "\u001b[1;31m---------------------------------------------------------------------------\u001b[0m",
      "\u001b[1;31mTypeError\u001b[0m                                 Traceback (most recent call last)",
      "\u001b[1;32m<ipython-input-712-2651b3e09edf>\u001b[0m in \u001b[0;36m<module>\u001b[1;34m\u001b[0m\n\u001b[0;32m      8\u001b[0m \u001b[0mtopic_weights\u001b[0m \u001b[1;33m=\u001b[0m \u001b[1;33m[\u001b[0m\u001b[1;33m]\u001b[0m\u001b[1;33m\u001b[0m\u001b[1;33m\u001b[0m\u001b[0m\n\u001b[0;32m      9\u001b[0m \u001b[1;32mfor\u001b[0m \u001b[0mi\u001b[0m\u001b[1;33m,\u001b[0m \u001b[0mrow_list\u001b[0m \u001b[1;32min\u001b[0m \u001b[0menumerate\u001b[0m\u001b[1;33m(\u001b[0m\u001b[0mlda_model\u001b[0m\u001b[1;33m[\u001b[0m\u001b[0mcorpus\u001b[0m\u001b[1;33m]\u001b[0m\u001b[1;33m)\u001b[0m\u001b[1;33m:\u001b[0m\u001b[1;33m\u001b[0m\u001b[1;33m\u001b[0m\u001b[0m\n\u001b[1;32m---> 10\u001b[1;33m     \u001b[0mtopic_weights\u001b[0m\u001b[1;33m.\u001b[0m\u001b[0mappend\u001b[0m\u001b[1;33m(\u001b[0m\u001b[1;33m[\u001b[0m\u001b[0mw\u001b[0m \u001b[1;32mfor\u001b[0m \u001b[0mi\u001b[0m\u001b[1;33m,\u001b[0m \u001b[0mw\u001b[0m \u001b[1;32min\u001b[0m \u001b[0mrow_list\u001b[0m\u001b[1;33m[\u001b[0m\u001b[1;36m0\u001b[0m\u001b[1;33m]\u001b[0m\u001b[1;33m]\u001b[0m\u001b[1;33m)\u001b[0m\u001b[1;33m\u001b[0m\u001b[1;33m\u001b[0m\u001b[0m\n\u001b[0m\u001b[0;32m     11\u001b[0m \u001b[1;33m\u001b[0m\u001b[0m\n\u001b[0;32m     12\u001b[0m \u001b[1;31m# Array of topic weights\u001b[0m\u001b[1;33m\u001b[0m\u001b[1;33m\u001b[0m\u001b[1;33m\u001b[0m\u001b[0m\n",
      "\u001b[1;32m<ipython-input-712-2651b3e09edf>\u001b[0m in \u001b[0;36m<listcomp>\u001b[1;34m(.0)\u001b[0m\n\u001b[0;32m      8\u001b[0m \u001b[0mtopic_weights\u001b[0m \u001b[1;33m=\u001b[0m \u001b[1;33m[\u001b[0m\u001b[1;33m]\u001b[0m\u001b[1;33m\u001b[0m\u001b[1;33m\u001b[0m\u001b[0m\n\u001b[0;32m      9\u001b[0m \u001b[1;32mfor\u001b[0m \u001b[0mi\u001b[0m\u001b[1;33m,\u001b[0m \u001b[0mrow_list\u001b[0m \u001b[1;32min\u001b[0m \u001b[0menumerate\u001b[0m\u001b[1;33m(\u001b[0m\u001b[0mlda_model\u001b[0m\u001b[1;33m[\u001b[0m\u001b[0mcorpus\u001b[0m\u001b[1;33m]\u001b[0m\u001b[1;33m)\u001b[0m\u001b[1;33m:\u001b[0m\u001b[1;33m\u001b[0m\u001b[1;33m\u001b[0m\u001b[0m\n\u001b[1;32m---> 10\u001b[1;33m     \u001b[0mtopic_weights\u001b[0m\u001b[1;33m.\u001b[0m\u001b[0mappend\u001b[0m\u001b[1;33m(\u001b[0m\u001b[1;33m[\u001b[0m\u001b[0mw\u001b[0m \u001b[1;32mfor\u001b[0m \u001b[0mi\u001b[0m\u001b[1;33m,\u001b[0m \u001b[0mw\u001b[0m \u001b[1;32min\u001b[0m \u001b[0mrow_list\u001b[0m\u001b[1;33m[\u001b[0m\u001b[1;36m0\u001b[0m\u001b[1;33m]\u001b[0m\u001b[1;33m]\u001b[0m\u001b[1;33m)\u001b[0m\u001b[1;33m\u001b[0m\u001b[1;33m\u001b[0m\u001b[0m\n\u001b[0m\u001b[0;32m     11\u001b[0m \u001b[1;33m\u001b[0m\u001b[0m\n\u001b[0;32m     12\u001b[0m \u001b[1;31m# Array of topic weights\u001b[0m\u001b[1;33m\u001b[0m\u001b[1;33m\u001b[0m\u001b[1;33m\u001b[0m\u001b[0m\n",
      "\u001b[1;31mTypeError\u001b[0m: cannot unpack non-iterable int object"
     ]
    }
   ],
   "source": [
    "# Get topic weights and dominant topics ------------\n",
    "from sklearn.manifold import TSNE\n",
    "from bokeh.plotting import figure, output_file, show\n",
    "from bokeh.models import Label\n",
    "from bokeh.io import output_notebook\n",
    "\n",
    "# Get topic weights\n",
    "topic_weights = []\n",
    "for i, row_list in enumerate(lda_model[corpus]):\n",
    "    topic_weights.append([w for i, w in row_list[0]])\n",
    "\n",
    "# Array of topic weights    \n",
    "arr = pd.DataFrame(topic_weights).fillna(0).values\n",
    "\n",
    "# Keep the well separated points (optional)\n",
    "arr = arr[np.amax(arr, axis=1) > 0.35]\n",
    "\n",
    "# Dominant topic number in each doc\n",
    "topic_num = np.argmax(arr, axis=1)\n",
    "\n",
    "# tSNE Dimension Reduction\n",
    "tsne_model = TSNE(n_components=2, verbose=1, random_state=0, angle=.99, init='pca')\n",
    "tsne_lda = tsne_model.fit_transform(arr)\n",
    "\n",
    "# Plot the Topic Clusters using Bokeh\n",
    "output_notebook()\n",
    "n_topics = 4\n",
    "mycolors = np.array([color for name, color in mcolors.TABLEAU_COLORS.items()])\n",
    "plot = figure(title=\"t-SNE Clustering of {} LDA Topics\".format(n_topics), \n",
    "              plot_width=900, plot_height=700)\n",
    "plot.scatter(x=tsne_lda[:,0], y=tsne_lda[:,1], color=mycolors[topic_num])\n",
    "show(plot)"
   ]
  },
  {
   "cell_type": "code",
   "execution_count": 713,
   "metadata": {},
   "outputs": [
    {
     "data": {
      "text/html": [
       "<div>\n",
       "<style scoped>\n",
       "    .dataframe tbody tr th:only-of-type {\n",
       "        vertical-align: middle;\n",
       "    }\n",
       "\n",
       "    .dataframe tbody tr th {\n",
       "        vertical-align: top;\n",
       "    }\n",
       "\n",
       "    .dataframe thead th {\n",
       "        text-align: right;\n",
       "    }\n",
       "</style>\n",
       "<table border=\"1\" class=\"dataframe\">\n",
       "  <thead>\n",
       "    <tr style=\"text-align: right;\">\n",
       "      <th></th>\n",
       "      <th>level_0</th>\n",
       "      <th>index</th>\n",
       "      <th>Forum ID</th>\n",
       "      <th>Forum Name</th>\n",
       "      <th>Subject</th>\n",
       "      <th>Post Date</th>\n",
       "      <th>User DisplayName</th>\n",
       "      <th>Forum_Post_Raw</th>\n",
       "      <th>compound</th>\n",
       "      <th>neg</th>\n",
       "      <th>...</th>\n",
       "      <th>tokens_sentences</th>\n",
       "      <th>POS_tokens</th>\n",
       "      <th>tokens_sentences_lemmatized</th>\n",
       "      <th>tokens</th>\n",
       "      <th>topic0</th>\n",
       "      <th>topic0_pct</th>\n",
       "      <th>topic1</th>\n",
       "      <th>topic1_pct</th>\n",
       "      <th>topic2</th>\n",
       "      <th>topic2_pct</th>\n",
       "    </tr>\n",
       "  </thead>\n",
       "  <tbody>\n",
       "    <tr>\n",
       "      <th>0</th>\n",
       "      <td>0</td>\n",
       "      <td>0</td>\n",
       "      <td>40</td>\n",
       "      <td>Sage X3 General Discussion</td>\n",
       "      <td>ERP help urgently needed</td>\n",
       "      <td>2019-10-10T05:58:05.73</td>\n",
       "      <td>ChinusGomes</td>\n",
       "      <td>Company upgraded to windows 10. Used to run an...</td>\n",
       "      <td>0.0387</td>\n",
       "      <td>0.063</td>\n",
       "      <td>...</td>\n",
       "      <td>[[Company, upgraded, to, windows, 10, .], [Use...</td>\n",
       "      <td>[[(Company, NN), (upgraded, VBD), (to, TO), (w...</td>\n",
       "      <td>[[Company, upgrade, to, windows, 10, .], [Used...</td>\n",
       "      <td>[company, upgrade, windows, used, run, erp, pr...</td>\n",
       "      <td>1</td>\n",
       "      <td>0.516503</td>\n",
       "      <td>6</td>\n",
       "      <td>0.304738</td>\n",
       "      <td>4</td>\n",
       "      <td>0.176968</td>\n",
       "    </tr>\n",
       "    <tr>\n",
       "      <th>1</th>\n",
       "      <td>1</td>\n",
       "      <td>31</td>\n",
       "      <td>40</td>\n",
       "      <td>Sage X3 General Discussion</td>\n",
       "      <td>Sage V11 patch 14 - release soon?</td>\n",
       "      <td>2019-10-10T12:44:35.957</td>\n",
       "      <td>AnikB</td>\n",
       "      <td>Hello!\\n\\nI see that Sage V11 patch 14 was com...</td>\n",
       "      <td>0.7044</td>\n",
       "      <td>0.022</td>\n",
       "      <td>...</td>\n",
       "      <td>[[Hello, !], [I, see, that, Sage, V11, patch, ...</td>\n",
       "      <td>[[(Hello, NN), (!, .)], [(I, PRP), (see, VBP),...</td>\n",
       "      <td>[[Hello, !], [I, see, that, Sage, V11, patch, ...</td>\n",
       "      <td>[patch, complete, october, least, patch, finde...</td>\n",
       "      <td>8</td>\n",
       "      <td>0.997698</td>\n",
       "      <td>0</td>\n",
       "      <td>0.0</td>\n",
       "      <td>1</td>\n",
       "      <td>0.0</td>\n",
       "    </tr>\n",
       "    <tr>\n",
       "      <th>2</th>\n",
       "      <td>2</td>\n",
       "      <td>62</td>\n",
       "      <td>673</td>\n",
       "      <td>Sage X3 Announcements, News, and Alerts</td>\n",
       "      <td>Sage X3 12.0.19 and Patch 19 Add-ons Updates h...</td>\n",
       "      <td>2019-10-10T14:56:52.947</td>\n",
       "      <td>Alecia</td>\n",
       "      <td>To access this download, log into https://supp...</td>\n",
       "      <td>0.9359</td>\n",
       "      <td>0.000</td>\n",
       "      <td>...</td>\n",
       "      <td>[[To, access, this, download, ,, log, into, ht...</td>\n",
       "      <td>[[(To, TO), (access, NN), (this, DT), (downloa...</td>\n",
       "      <td>[[To, access, this, download, ,, log, into, ht...</td>\n",
       "      <td>[access, log, http, search, field, type, click...</td>\n",
       "      <td>3</td>\n",
       "      <td>0.995288</td>\n",
       "      <td>0</td>\n",
       "      <td>0.0</td>\n",
       "      <td>1</td>\n",
       "      <td>0.0</td>\n",
       "    </tr>\n",
       "    <tr>\n",
       "      <th>3</th>\n",
       "      <td>3</td>\n",
       "      <td>63</td>\n",
       "      <td>673</td>\n",
       "      <td>Sage X3 Announcements, News, and Alerts</td>\n",
       "      <td>Sage X3 Warehousing (GEODE) v12.0.19 has been ...</td>\n",
       "      <td>2019-10-10T20:56:53.483</td>\n",
       "      <td>pnightingale</td>\n",
       "      <td>To access this download, log into https://supp...</td>\n",
       "      <td>0.9359</td>\n",
       "      <td>0.000</td>\n",
       "      <td>...</td>\n",
       "      <td>[[To, access, this, download, ,, log, into, ht...</td>\n",
       "      <td>[[(To, TO), (access, NN), (this, DT), (downloa...</td>\n",
       "      <td>[[To, access, this, download, ,, log, into, ht...</td>\n",
       "      <td>[access, log, http, search, field, type, click...</td>\n",
       "      <td>3</td>\n",
       "      <td>0.995288</td>\n",
       "      <td>0</td>\n",
       "      <td>0.0</td>\n",
       "      <td>1</td>\n",
       "      <td>0.0</td>\n",
       "    </tr>\n",
       "    <tr>\n",
       "      <th>4</th>\n",
       "      <td>4</td>\n",
       "      <td>64</td>\n",
       "      <td>40</td>\n",
       "      <td>Sage X3 General Discussion</td>\n",
       "      <td>Modifying Stock Change ST2 object</td>\n",
       "      <td>2019-10-11T13:10:28.983</td>\n",
       "      <td>ChrisCC</td>\n",
       "      <td>I am trying to remove some of the columns on t...</td>\n",
       "      <td>0.5980</td>\n",
       "      <td>0.046</td>\n",
       "      <td>...</td>\n",
       "      <td>[[I, am, trying, to, remove, some, of, the, co...</td>\n",
       "      <td>[[(I, PRP), (am, VBP), (trying, VBG), (to, TO)...</td>\n",
       "      <td>[[I, be, try, to, remove, some, of, the, colum...</td>\n",
       "      <td>[remove, column, object, stock, selection, bro...</td>\n",
       "      <td>7</td>\n",
       "      <td>0.72929</td>\n",
       "      <td>0</td>\n",
       "      <td>0.169804</td>\n",
       "      <td>8</td>\n",
       "      <td>0.098791</td>\n",
       "    </tr>\n",
       "  </tbody>\n",
       "</table>\n",
       "<p>5 rows × 29 columns</p>\n",
       "</div>"
      ],
      "text/plain": [
       "   level_0  index  Forum ID                               Forum Name  \\\n",
       "0        0      0        40               Sage X3 General Discussion   \n",
       "1        1     31        40               Sage X3 General Discussion   \n",
       "2        2     62       673  Sage X3 Announcements, News, and Alerts   \n",
       "3        3     63       673  Sage X3 Announcements, News, and Alerts   \n",
       "4        4     64        40               Sage X3 General Discussion   \n",
       "\n",
       "                                             Subject                Post Date  \\\n",
       "0                           ERP help urgently needed   2019-10-10T05:58:05.73   \n",
       "1                  Sage V11 patch 14 - release soon?  2019-10-10T12:44:35.957   \n",
       "2  Sage X3 12.0.19 and Patch 19 Add-ons Updates h...  2019-10-10T14:56:52.947   \n",
       "3  Sage X3 Warehousing (GEODE) v12.0.19 has been ...  2019-10-10T20:56:53.483   \n",
       "4                  Modifying Stock Change ST2 object  2019-10-11T13:10:28.983   \n",
       "\n",
       "  User DisplayName                                     Forum_Post_Raw  \\\n",
       "0      ChinusGomes  Company upgraded to windows 10. Used to run an...   \n",
       "1            AnikB  Hello!\\n\\nI see that Sage V11 patch 14 was com...   \n",
       "2           Alecia  To access this download, log into https://supp...   \n",
       "3     pnightingale  To access this download, log into https://supp...   \n",
       "4          ChrisCC  I am trying to remove some of the columns on t...   \n",
       "\n",
       "   compound    neg  ...                                   tokens_sentences  \\\n",
       "0    0.0387  0.063  ...  [[Company, upgraded, to, windows, 10, .], [Use...   \n",
       "1    0.7044  0.022  ...  [[Hello, !], [I, see, that, Sage, V11, patch, ...   \n",
       "2    0.9359  0.000  ...  [[To, access, this, download, ,, log, into, ht...   \n",
       "3    0.9359  0.000  ...  [[To, access, this, download, ,, log, into, ht...   \n",
       "4    0.5980  0.046  ...  [[I, am, trying, to, remove, some, of, the, co...   \n",
       "\n",
       "                                          POS_tokens  \\\n",
       "0  [[(Company, NN), (upgraded, VBD), (to, TO), (w...   \n",
       "1  [[(Hello, NN), (!, .)], [(I, PRP), (see, VBP),...   \n",
       "2  [[(To, TO), (access, NN), (this, DT), (downloa...   \n",
       "3  [[(To, TO), (access, NN), (this, DT), (downloa...   \n",
       "4  [[(I, PRP), (am, VBP), (trying, VBG), (to, TO)...   \n",
       "\n",
       "                         tokens_sentences_lemmatized  \\\n",
       "0  [[Company, upgrade, to, windows, 10, .], [Used...   \n",
       "1  [[Hello, !], [I, see, that, Sage, V11, patch, ...   \n",
       "2  [[To, access, this, download, ,, log, into, ht...   \n",
       "3  [[To, access, this, download, ,, log, into, ht...   \n",
       "4  [[I, be, try, to, remove, some, of, the, colum...   \n",
       "\n",
       "                                              tokens topic0  topic0_pct  \\\n",
       "0  [company, upgrade, windows, used, run, erp, pr...      1    0.516503   \n",
       "1  [patch, complete, october, least, patch, finde...      8    0.997698   \n",
       "2  [access, log, http, search, field, type, click...      3    0.995288   \n",
       "3  [access, log, http, search, field, type, click...      3    0.995288   \n",
       "4  [remove, column, object, stock, selection, bro...      7     0.72929   \n",
       "\n",
       "  topic1 topic1_pct topic2 topic2_pct  \n",
       "0      6   0.304738      4   0.176968  \n",
       "1      0        0.0      1        0.0  \n",
       "2      0        0.0      1        0.0  \n",
       "3      0        0.0      1        0.0  \n",
       "4      0   0.169804      8   0.098791  \n",
       "\n",
       "[5 rows x 29 columns]"
      ]
     },
     "execution_count": 713,
     "metadata": {},
     "output_type": "execute_result"
    }
   ],
   "source": [
    "dfLDA.head()"
   ]
  },
  {
   "cell_type": "code",
   "execution_count": 714,
   "metadata": {},
   "outputs": [
    {
     "name": "stdout",
     "output_type": "stream",
     "text": [
      "(1086, 29)\n",
      "1086\n"
     ]
    }
   ],
   "source": [
    "print(dfLDA.shape)\n",
    "print(len(document_topic))"
   ]
  },
  {
   "cell_type": "code",
   "execution_count": 715,
   "metadata": {},
   "outputs": [],
   "source": [
    "dfBob = dfLDA.copy()"
   ]
  },
  {
   "cell_type": "code",
   "execution_count": 716,
   "metadata": {},
   "outputs": [
    {
     "ename": "ValueError",
     "evalue": "cannot insert level_0, already exists",
     "output_type": "error",
     "traceback": [
      "\u001b[1;31m---------------------------------------------------------------------------\u001b[0m",
      "\u001b[1;31mValueError\u001b[0m                                Traceback (most recent call last)",
      "\u001b[1;32m<ipython-input-716-fc6903e281c4>\u001b[0m in \u001b[0;36m<module>\u001b[1;34m\u001b[0m\n\u001b[1;32m----> 1\u001b[1;33m \u001b[0mdfBob\u001b[0m \u001b[1;33m=\u001b[0m \u001b[0mdfBob\u001b[0m\u001b[1;33m.\u001b[0m\u001b[0mreset_index\u001b[0m\u001b[1;33m(\u001b[0m\u001b[1;33m)\u001b[0m\u001b[1;33m\u001b[0m\u001b[1;33m\u001b[0m\u001b[0m\n\u001b[0m\u001b[0;32m      2\u001b[0m \u001b[0mdfBob\u001b[0m\u001b[1;33m\u001b[0m\u001b[1;33m\u001b[0m\u001b[0m\n",
      "\u001b[1;32m~\\Anaconda3\\lib\\site-packages\\pandas\\core\\frame.py\u001b[0m in \u001b[0;36mreset_index\u001b[1;34m(self, level, drop, inplace, col_level, col_fill)\u001b[0m\n\u001b[0;32m   5014\u001b[0m                 \u001b[1;31m# to ndarray and maybe infer different dtype\u001b[0m\u001b[1;33m\u001b[0m\u001b[1;33m\u001b[0m\u001b[1;33m\u001b[0m\u001b[0m\n\u001b[0;32m   5015\u001b[0m                 \u001b[0mlevel_values\u001b[0m \u001b[1;33m=\u001b[0m \u001b[0mmaybe_casted_values\u001b[0m\u001b[1;33m(\u001b[0m\u001b[0mlev\u001b[0m\u001b[1;33m,\u001b[0m \u001b[0mlab\u001b[0m\u001b[1;33m)\u001b[0m\u001b[1;33m\u001b[0m\u001b[1;33m\u001b[0m\u001b[0m\n\u001b[1;32m-> 5016\u001b[1;33m                 \u001b[0mnew_obj\u001b[0m\u001b[1;33m.\u001b[0m\u001b[0minsert\u001b[0m\u001b[1;33m(\u001b[0m\u001b[1;36m0\u001b[0m\u001b[1;33m,\u001b[0m \u001b[0mname\u001b[0m\u001b[1;33m,\u001b[0m \u001b[0mlevel_values\u001b[0m\u001b[1;33m)\u001b[0m\u001b[1;33m\u001b[0m\u001b[1;33m\u001b[0m\u001b[0m\n\u001b[0m\u001b[0;32m   5017\u001b[0m \u001b[1;33m\u001b[0m\u001b[0m\n\u001b[0;32m   5018\u001b[0m         \u001b[0mnew_obj\u001b[0m\u001b[1;33m.\u001b[0m\u001b[0mindex\u001b[0m \u001b[1;33m=\u001b[0m \u001b[0mnew_index\u001b[0m\u001b[1;33m\u001b[0m\u001b[1;33m\u001b[0m\u001b[0m\n",
      "\u001b[1;32m~\\Anaconda3\\lib\\site-packages\\pandas\\core\\frame.py\u001b[0m in \u001b[0;36minsert\u001b[1;34m(self, loc, column, value, allow_duplicates)\u001b[0m\n\u001b[0;32m   3761\u001b[0m         \u001b[0mself\u001b[0m\u001b[1;33m.\u001b[0m\u001b[0m_ensure_valid_index\u001b[0m\u001b[1;33m(\u001b[0m\u001b[0mvalue\u001b[0m\u001b[1;33m)\u001b[0m\u001b[1;33m\u001b[0m\u001b[1;33m\u001b[0m\u001b[0m\n\u001b[0;32m   3762\u001b[0m         \u001b[0mvalue\u001b[0m \u001b[1;33m=\u001b[0m \u001b[0mself\u001b[0m\u001b[1;33m.\u001b[0m\u001b[0m_sanitize_column\u001b[0m\u001b[1;33m(\u001b[0m\u001b[0mcolumn\u001b[0m\u001b[1;33m,\u001b[0m \u001b[0mvalue\u001b[0m\u001b[1;33m,\u001b[0m \u001b[0mbroadcast\u001b[0m\u001b[1;33m=\u001b[0m\u001b[1;32mFalse\u001b[0m\u001b[1;33m)\u001b[0m\u001b[1;33m\u001b[0m\u001b[1;33m\u001b[0m\u001b[0m\n\u001b[1;32m-> 3763\u001b[1;33m         \u001b[0mself\u001b[0m\u001b[1;33m.\u001b[0m\u001b[0m_mgr\u001b[0m\u001b[1;33m.\u001b[0m\u001b[0minsert\u001b[0m\u001b[1;33m(\u001b[0m\u001b[0mloc\u001b[0m\u001b[1;33m,\u001b[0m \u001b[0mcolumn\u001b[0m\u001b[1;33m,\u001b[0m \u001b[0mvalue\u001b[0m\u001b[1;33m,\u001b[0m \u001b[0mallow_duplicates\u001b[0m\u001b[1;33m=\u001b[0m\u001b[0mallow_duplicates\u001b[0m\u001b[1;33m)\u001b[0m\u001b[1;33m\u001b[0m\u001b[1;33m\u001b[0m\u001b[0m\n\u001b[0m\u001b[0;32m   3764\u001b[0m \u001b[1;33m\u001b[0m\u001b[0m\n\u001b[0;32m   3765\u001b[0m     \u001b[1;32mdef\u001b[0m \u001b[0massign\u001b[0m\u001b[1;33m(\u001b[0m\u001b[0mself\u001b[0m\u001b[1;33m,\u001b[0m \u001b[1;33m**\u001b[0m\u001b[0mkwargs\u001b[0m\u001b[1;33m)\u001b[0m \u001b[1;33m->\u001b[0m \u001b[0mDataFrame\u001b[0m\u001b[1;33m:\u001b[0m\u001b[1;33m\u001b[0m\u001b[1;33m\u001b[0m\u001b[0m\n",
      "\u001b[1;32m~\\Anaconda3\\lib\\site-packages\\pandas\\core\\internals\\managers.py\u001b[0m in \u001b[0;36minsert\u001b[1;34m(self, loc, item, value, allow_duplicates)\u001b[0m\n\u001b[0;32m   1189\u001b[0m         \u001b[1;32mif\u001b[0m \u001b[1;32mnot\u001b[0m \u001b[0mallow_duplicates\u001b[0m \u001b[1;32mand\u001b[0m \u001b[0mitem\u001b[0m \u001b[1;32min\u001b[0m \u001b[0mself\u001b[0m\u001b[1;33m.\u001b[0m\u001b[0mitems\u001b[0m\u001b[1;33m:\u001b[0m\u001b[1;33m\u001b[0m\u001b[1;33m\u001b[0m\u001b[0m\n\u001b[0;32m   1190\u001b[0m             \u001b[1;31m# Should this be a different kind of error??\u001b[0m\u001b[1;33m\u001b[0m\u001b[1;33m\u001b[0m\u001b[1;33m\u001b[0m\u001b[0m\n\u001b[1;32m-> 1191\u001b[1;33m             \u001b[1;32mraise\u001b[0m \u001b[0mValueError\u001b[0m\u001b[1;33m(\u001b[0m\u001b[1;34mf\"cannot insert {item}, already exists\"\u001b[0m\u001b[1;33m)\u001b[0m\u001b[1;33m\u001b[0m\u001b[1;33m\u001b[0m\u001b[0m\n\u001b[0m\u001b[0;32m   1192\u001b[0m \u001b[1;33m\u001b[0m\u001b[0m\n\u001b[0;32m   1193\u001b[0m         \u001b[1;32mif\u001b[0m \u001b[1;32mnot\u001b[0m \u001b[0misinstance\u001b[0m\u001b[1;33m(\u001b[0m\u001b[0mloc\u001b[0m\u001b[1;33m,\u001b[0m \u001b[0mint\u001b[0m\u001b[1;33m)\u001b[0m\u001b[1;33m:\u001b[0m\u001b[1;33m\u001b[0m\u001b[1;33m\u001b[0m\u001b[0m\n",
      "\u001b[1;31mValueError\u001b[0m: cannot insert level_0, already exists"
     ]
    }
   ],
   "source": [
    "dfBob = dfBob.reset_index()\n",
    "dfBob"
   ]
  },
  {
   "cell_type": "code",
   "execution_count": 717,
   "metadata": {},
   "outputs": [
    {
     "data": {
      "text/html": [
       "<div>\n",
       "<style scoped>\n",
       "    .dataframe tbody tr th:only-of-type {\n",
       "        vertical-align: middle;\n",
       "    }\n",
       "\n",
       "    .dataframe tbody tr th {\n",
       "        vertical-align: top;\n",
       "    }\n",
       "\n",
       "    .dataframe thead th {\n",
       "        text-align: right;\n",
       "    }\n",
       "</style>\n",
       "<table border=\"1\" class=\"dataframe\">\n",
       "  <thead>\n",
       "    <tr style=\"text-align: right;\">\n",
       "      <th></th>\n",
       "      <th>0</th>\n",
       "      <th>1</th>\n",
       "      <th>2</th>\n",
       "      <th>3</th>\n",
       "    </tr>\n",
       "  </thead>\n",
       "  <tbody>\n",
       "    <tr>\n",
       "      <th>0</th>\n",
       "      <td>0.000000</td>\n",
       "      <td>0.999167</td>\n",
       "      <td>0.000000</td>\n",
       "      <td>0.000000</td>\n",
       "    </tr>\n",
       "    <tr>\n",
       "      <th>1</th>\n",
       "      <td>0.000000</td>\n",
       "      <td>0.523965</td>\n",
       "      <td>0.475429</td>\n",
       "      <td>0.000000</td>\n",
       "    </tr>\n",
       "    <tr>\n",
       "      <th>2</th>\n",
       "      <td>0.000000</td>\n",
       "      <td>0.000000</td>\n",
       "      <td>0.000000</td>\n",
       "      <td>0.998424</td>\n",
       "    </tr>\n",
       "    <tr>\n",
       "      <th>3</th>\n",
       "      <td>0.000000</td>\n",
       "      <td>0.000000</td>\n",
       "      <td>0.000000</td>\n",
       "      <td>0.998424</td>\n",
       "    </tr>\n",
       "    <tr>\n",
       "      <th>4</th>\n",
       "      <td>0.322044</td>\n",
       "      <td>0.000000</td>\n",
       "      <td>0.000000</td>\n",
       "      <td>0.677048</td>\n",
       "    </tr>\n",
       "    <tr>\n",
       "      <th>...</th>\n",
       "      <td>...</td>\n",
       "      <td>...</td>\n",
       "      <td>...</td>\n",
       "      <td>...</td>\n",
       "    </tr>\n",
       "    <tr>\n",
       "      <th>1081</th>\n",
       "      <td>0.000000</td>\n",
       "      <td>0.998698</td>\n",
       "      <td>0.000000</td>\n",
       "      <td>0.000000</td>\n",
       "    </tr>\n",
       "    <tr>\n",
       "      <th>1082</th>\n",
       "      <td>0.000000</td>\n",
       "      <td>0.433798</td>\n",
       "      <td>0.000000</td>\n",
       "      <td>0.564390</td>\n",
       "    </tr>\n",
       "    <tr>\n",
       "      <th>1083</th>\n",
       "      <td>0.000000</td>\n",
       "      <td>0.000000</td>\n",
       "      <td>0.994047</td>\n",
       "      <td>0.000000</td>\n",
       "    </tr>\n",
       "    <tr>\n",
       "      <th>1084</th>\n",
       "      <td>0.250000</td>\n",
       "      <td>0.250000</td>\n",
       "      <td>0.250000</td>\n",
       "      <td>0.250000</td>\n",
       "    </tr>\n",
       "    <tr>\n",
       "      <th>1085</th>\n",
       "      <td>0.455613</td>\n",
       "      <td>0.000000</td>\n",
       "      <td>0.542575</td>\n",
       "      <td>0.000000</td>\n",
       "    </tr>\n",
       "  </tbody>\n",
       "</table>\n",
       "<p>1086 rows × 4 columns</p>\n",
       "</div>"
      ],
      "text/plain": [
       "             0         1         2         3\n",
       "0     0.000000  0.999167  0.000000  0.000000\n",
       "1     0.000000  0.523965  0.475429  0.000000\n",
       "2     0.000000  0.000000  0.000000  0.998424\n",
       "3     0.000000  0.000000  0.000000  0.998424\n",
       "4     0.322044  0.000000  0.000000  0.677048\n",
       "...        ...       ...       ...       ...\n",
       "1081  0.000000  0.998698  0.000000  0.000000\n",
       "1082  0.000000  0.433798  0.000000  0.564390\n",
       "1083  0.000000  0.000000  0.994047  0.000000\n",
       "1084  0.250000  0.250000  0.250000  0.250000\n",
       "1085  0.455613  0.000000  0.542575  0.000000\n",
       "\n",
       "[1086 rows x 4 columns]"
      ]
     },
     "execution_count": 717,
     "metadata": {},
     "output_type": "execute_result"
    }
   ],
   "source": [
    "document_topic"
   ]
  },
  {
   "cell_type": "code",
   "execution_count": 718,
   "metadata": {},
   "outputs": [
    {
     "name": "stdout",
     "output_type": "stream",
     "text": [
      "(1086, 29)\n"
     ]
    }
   ],
   "source": [
    "dfLDA = dfBob.copy()\n",
    "print(dfLDA.shape)"
   ]
  },
  {
   "cell_type": "code",
   "execution_count": 719,
   "metadata": {},
   "outputs": [
    {
     "name": "stdout",
     "output_type": "stream",
     "text": [
      "[1, 0, 2]\n",
      "[1, 2, 0]\n",
      "[3, 0, 1]\n",
      "[3, 0, 1]\n",
      "[3, 0, 1]\n",
      "[1, 0, 2]\n",
      "[0, 1, 2]\n",
      "[1, 2, 0]\n",
      "[1, 3, 0]\n",
      "[2, 0, 1]\n",
      "[0, 1, 2]\n",
      "[1, 0, 2]\n",
      "[1, 0, 2]\n",
      "[3, 1, 0]\n",
      "[2, 0, 1]\n",
      "[3, 0, 1]\n",
      "[2, 0, 1]\n",
      "[3, 0, 1]\n",
      "[1, 0, 2]\n",
      "[1, 0, 2]\n",
      "[1, 0, 2]\n",
      "[2, 0, 1]\n",
      "[2, 0, 1]\n",
      "[3, 0, 1]\n",
      "[2, 0, 1]\n",
      "[3, 1, 0]\n",
      "[0, 1, 2]\n",
      "[1, 0, 2]\n",
      "[3, 0, 1]\n",
      "[1, 0, 2]\n",
      "[3, 0, 1]\n",
      "[1, 0, 2]\n",
      "[3, 0, 1]\n",
      "[1, 0, 2]\n",
      "[1, 0, 2]\n",
      "[0, 1, 2]\n",
      "[1, 0, 2]\n",
      "[0, 1, 2]\n",
      "[2, 0, 3]\n",
      "[3, 0, 1]\n",
      "[2, 0, 1]\n",
      "[2, 0, 1]\n",
      "[0, 3, 1]\n",
      "[1, 0, 2]\n",
      "[0, 1, 2]\n",
      "[1, 0, 2]\n",
      "[1, 0, 2]\n",
      "[1, 0, 2]\n",
      "[3, 0, 1]\n",
      "[3, 1, 0]\n",
      "[2, 1, 0]\n",
      "[2, 0, 1]\n",
      "[3, 0, 1]\n",
      "[0, 2, 1]\n",
      "[2, 0, 1]\n",
      "[3, 0, 1]\n",
      "[1, 0, 2]\n",
      "[2, 0, 1]\n",
      "[1, 0, 2]\n",
      "[1, 0, 2]\n",
      "[3, 2, 0]\n",
      "[1, 0, 2]\n",
      "[1, 2, 0]\n",
      "[2, 0, 1]\n",
      "[0, 1, 2]\n",
      "[1, 0, 2]\n",
      "[1, 2, 0]\n",
      "[2, 0, 1]\n",
      "[0, 3, 1]\n",
      "[2, 0, 1]\n",
      "[2, 0, 1]\n",
      "[0, 1, 2]\n",
      "[2, 0, 1]\n",
      "[1, 0, 2]\n",
      "[0, 1, 2]\n",
      "[1, 0, 2]\n",
      "[3, 0, 1]\n",
      "[3, 0, 1]\n",
      "[1, 0, 2]\n",
      "[0, 2, 1]\n",
      "[1, 0, 2]\n",
      "[1, 0, 2]\n",
      "[1, 0, 2]\n",
      "[2, 0, 1]\n",
      "[1, 2, 0]\n",
      "[1, 0, 2]\n",
      "[1, 0, 2]\n",
      "[2, 0, 1]\n",
      "[3, 0, 1]\n",
      "[2, 0, 1]\n",
      "[1, 0, 2]\n",
      "[3, 0, 1]\n",
      "[1, 2, 0]\n",
      "[1, 3, 0]\n",
      "[2, 0, 1]\n",
      "[2, 0, 1]\n",
      "[0, 2, 1]\n",
      "[0, 2, 1]\n",
      "[2, 0, 1]\n",
      "[0, 1, 2]\n",
      "[0, 1, 2]\n",
      "[3, 0, 1]\n",
      "[3, 0, 1]\n",
      "[2, 0, 1]\n",
      "[1, 0, 2]\n",
      "[2, 3, 1]\n",
      "[3, 2, 0]\n",
      "[1, 0, 2]\n",
      "[1, 0, 2]\n",
      "[1, 0, 2]\n",
      "[2, 1, 0]\n",
      "[1, 0, 2]\n",
      "[1, 0, 2]\n",
      "[2, 0, 1]\n",
      "[2, 0, 1]\n",
      "[0, 3, 1]\n",
      "[1, 0, 2]\n",
      "[2, 0, 1]\n",
      "[0, 1, 2]\n",
      "[2, 0, 1]\n",
      "[1, 0, 2]\n",
      "[0, 3, 1]\n",
      "[1, 0, 2]\n",
      "[0, 1, 2]\n",
      "[2, 0, 1]\n",
      "[3, 0, 1]\n",
      "[0, 1, 2]\n",
      "[2, 1, 0]\n",
      "[1, 0, 2]\n",
      "[0, 2, 1]\n",
      "[2, 0, 1]\n",
      "[1, 3, 0]\n",
      "[1, 2, 0]\n",
      "[2, 0, 1]\n",
      "[3, 0, 1]\n",
      "[0, 1, 2]\n",
      "[2, 0, 1]\n",
      "[3, 0, 1]\n",
      "[0, 1, 2]\n",
      "[0, 1, 2]\n",
      "[1, 0, 2]\n",
      "[1, 0, 2]\n",
      "[0, 1, 2]\n",
      "[2, 0, 1]\n",
      "[0, 3, 1]\n",
      "[2, 1, 0]\n",
      "[1, 0, 2]\n",
      "[1, 0, 2]\n",
      "[2, 0, 1]\n",
      "[1, 2, 0]\n",
      "[1, 0, 2]\n",
      "[2, 0, 1]\n",
      "[0, 1, 2]\n",
      "[3, 0, 1]\n",
      "[0, 2, 1]\n",
      "[1, 0, 2]\n",
      "[2, 0, 1]\n",
      "[1, 3, 0]\n",
      "[1, 0, 2]\n",
      "[1, 0, 2]\n",
      "[0, 1, 2]\n",
      "[2, 1, 0]\n",
      "[0, 1, 2]\n",
      "[1, 0, 2]\n",
      "[1, 0, 2]\n",
      "[2, 0, 1]\n",
      "[0, 1, 2]\n",
      "[2, 0, 1]\n",
      "[1, 0, 2]\n",
      "[2, 0, 1]\n",
      "[2, 0, 1]\n",
      "[1, 0, 2]\n",
      "[3, 0, 1]\n",
      "[1, 0, 2]\n",
      "[2, 0, 1]\n",
      "[1, 0, 2]\n",
      "[2, 0, 1]\n",
      "[2, 3, 0]\n",
      "[2, 0, 1]\n",
      "[0, 1, 2]\n",
      "[0, 1, 2]\n",
      "[0, 1, 2]\n",
      "[2, 0, 1]\n",
      "[2, 0, 1]\n",
      "[3, 0, 1]\n",
      "[2, 0, 1]\n",
      "[0, 1, 2]\n",
      "[1, 2, 0]\n",
      "[0, 1, 2]\n",
      "[2, 0, 1]\n",
      "[0, 2, 1]\n",
      "[0, 1, 2]\n",
      "[2, 0, 1]\n",
      "[2, 0, 1]\n",
      "[1, 2, 0]\n",
      "[3, 0, 1]\n",
      "[1, 0, 2]\n",
      "[0, 1, 2]\n",
      "[0, 1, 2]\n",
      "[1, 0, 2]\n",
      "[1, 0, 2]\n",
      "[3, 0, 1]\n",
      "[2, 0, 1]\n",
      "[0, 1, 2]\n",
      "[2, 0, 1]\n",
      "[1, 2, 0]\n",
      "[3, 0, 1]\n",
      "[1, 2, 0]\n",
      "[1, 0, 2]\n",
      "[2, 0, 1]\n",
      "[1, 0, 2]\n",
      "[1, 0, 2]\n",
      "[1, 3, 0]\n",
      "[1, 0, 2]\n",
      "[2, 0, 1]\n",
      "[3, 0, 1]\n",
      "[1, 2, 0]\n",
      "[0, 2, 1]\n",
      "[0, 1, 2]\n",
      "[0, 1, 2]\n",
      "[1, 0, 2]\n",
      "[1, 0, 2]\n",
      "[3, 0, 1]\n",
      "[0, 1, 2]\n",
      "[0, 1, 2]\n",
      "[2, 0, 1]\n",
      "[0, 1, 2]\n",
      "[1, 0, 2]\n",
      "[0, 2, 1]\n",
      "[1, 0, 2]\n",
      "[0, 1, 2]\n",
      "[0, 3, 1]\n",
      "[1, 0, 2]\n",
      "[3, 0, 2]\n",
      "[0, 1, 2]\n",
      "[3, 2, 0]\n",
      "[0, 1, 2]\n",
      "[0, 1, 2]\n",
      "[0, 1, 2]\n",
      "[2, 0, 1]\n",
      "[1, 0, 2]\n",
      "[3, 0, 1]\n",
      "[1, 2, 0]\n",
      "[0, 1, 2]\n",
      "[3, 0, 1]\n",
      "[0, 1, 2]\n",
      "[3, 0, 1]\n",
      "[1, 0, 2]\n",
      "[0, 1, 2]\n",
      "[2, 3, 0]\n",
      "[1, 0, 2]\n",
      "[0, 1, 2]\n",
      "[1, 2, 0]\n",
      "[3, 0, 1]\n",
      "[2, 0, 1]\n",
      "[1, 0, 2]\n",
      "[1, 0, 2]\n",
      "[3, 0, 1]\n",
      "[0, 1, 2]\n",
      "[1, 0, 2]\n",
      "[1, 0, 2]\n",
      "[1, 0, 2]\n",
      "[2, 0, 1]\n",
      "[3, 0, 1]\n",
      "[2, 1, 0]\n",
      "[3, 1, 0]\n",
      "[1, 0, 2]\n",
      "[2, 1, 3]\n",
      "[2, 0, 1]\n",
      "[1, 0, 2]\n",
      "[3, 0, 1]\n",
      "[0, 1, 2]\n",
      "[1, 0, 2]\n",
      "[1, 0, 2]\n",
      "[1, 0, 2]\n",
      "[0, 3, 1]\n",
      "[1, 0, 2]\n",
      "[2, 0, 1]\n",
      "[2, 0, 1]\n",
      "[1, 0, 2]\n",
      "[2, 1, 0]\n",
      "[1, 0, 2]\n",
      "[1, 2, 0]\n",
      "[1, 0, 2]\n",
      "[0, 1, 2]\n",
      "[2, 0, 1]\n",
      "[0, 1, 2]\n",
      "[1, 3, 0]\n",
      "[0, 1, 2]\n",
      "[1, 0, 2]\n",
      "[2, 1, 0]\n",
      "[1, 0, 2]\n",
      "[0, 1, 2]\n",
      "[1, 0, 2]\n",
      "[0, 1, 2]\n",
      "[3, 0, 1]\n",
      "[1, 0, 2]\n",
      "[2, 0, 1]\n",
      "[1, 0, 2]\n",
      "[1, 3, 0]\n",
      "[0, 1, 2]\n",
      "[3, 0, 1]\n",
      "[1, 0, 2]\n",
      "[2, 0, 1]\n",
      "[1, 0, 2]\n",
      "[0, 1, 2]\n",
      "[2, 0, 1]\n",
      "[3, 0, 1]\n",
      "[3, 0, 1]\n",
      "[1, 0, 2]\n",
      "[1, 0, 2]\n",
      "[1, 0, 2]\n",
      "[2, 1, 0]\n",
      "[0, 1, 2]\n",
      "[2, 3, 0]\n",
      "[1, 0, 2]\n",
      "[0, 1, 2]\n",
      "[1, 0, 2]\n",
      "[1, 0, 2]\n",
      "[1, 2, 0]\n",
      "[2, 0, 1]\n",
      "[1, 3, 0]\n",
      "[1, 2, 0]\n",
      "[1, 0, 2]\n",
      "[2, 0, 1]\n",
      "[2, 0, 1]\n",
      "[0, 1, 2]\n",
      "[0, 1, 2]\n",
      "[2, 0, 1]\n",
      "[1, 0, 2]\n",
      "[1, 0, 2]\n",
      "[2, 0, 1]\n",
      "[0, 1, 2]\n",
      "[3, 0, 1]\n",
      "[2, 0, 1]\n",
      "[3, 1, 0]\n",
      "[3, 1, 0]\n",
      "[3, 0, 1]\n",
      "[2, 0, 1]\n",
      "[1, 0, 2]\n",
      "[1, 3, 0]\n",
      "[0, 1, 2]\n",
      "[0, 3, 1]\n",
      "[1, 0, 2]\n",
      "[3, 0, 1]\n",
      "[1, 0, 2]\n",
      "[2, 0, 1]\n",
      "[1, 0, 2]\n",
      "[2, 0, 1]\n",
      "[0, 3, 1]\n",
      "[2, 0, 1]\n",
      "[1, 0, 2]\n",
      "[2, 3, 0]\n",
      "[3, 0, 1]\n",
      "[0, 3, 1]\n",
      "[3, 0, 1]\n",
      "[2, 0, 1]\n",
      "[0, 1, 2]\n",
      "[1, 0, 2]\n",
      "[2, 0, 1]\n",
      "[2, 0, 1]\n",
      "[0, 1, 2]\n",
      "[3, 0, 1]\n",
      "[0, 1, 2]\n",
      "[3, 0, 1]\n",
      "[0, 1, 2]\n",
      "[0, 1, 2]\n",
      "[3, 0, 1]\n",
      "[0, 2, 1]\n",
      "[1, 2, 0]\n",
      "[1, 0, 2]\n",
      "[2, 0, 1]\n",
      "[2, 0, 1]\n",
      "[1, 0, 2]\n",
      "[0, 1, 2]\n",
      "[2, 0, 1]\n",
      "[0, 1, 2]\n",
      "[0, 1, 2]\n",
      "[1, 0, 2]\n",
      "[0, 1, 2]\n",
      "[3, 0, 1]\n",
      "[1, 0, 2]\n",
      "[3, 0, 1]\n",
      "[1, 0, 2]\n",
      "[3, 0, 1]\n",
      "[0, 1, 2]\n",
      "[1, 0, 2]\n",
      "[2, 0, 1]\n",
      "[3, 0, 1]\n",
      "[0, 2, 1]\n",
      "[2, 0, 1]\n",
      "[1, 0, 2]\n",
      "[1, 0, 2]\n",
      "[1, 0, 2]\n",
      "[3, 0, 1]\n",
      "[1, 2, 0]\n",
      "[0, 1, 2]\n",
      "[1, 0, 2]\n",
      "[0, 2, 1]\n",
      "[1, 0, 2]\n",
      "[1, 0, 3]\n",
      "[0, 1, 2]\n",
      "[1, 0, 2]\n",
      "[1, 0, 2]\n",
      "[3, 0, 1]\n",
      "[2, 0, 1]\n",
      "[0, 1, 2]\n",
      "[0, 1, 2]\n",
      "[2, 0, 1]\n",
      "[1, 0, 2]\n",
      "[1, 0, 2]\n",
      "[2, 0, 1]\n",
      "[1, 2, 0]\n",
      "[1, 0, 2]\n",
      "[2, 1, 0]\n",
      "[3, 0, 1]\n",
      "[3, 0, 1]\n",
      "[1, 0, 2]\n",
      "[2, 0, 1]\n",
      "[0, 1, 3]\n",
      "[0, 1, 2]\n",
      "[1, 0, 2]\n",
      "[2, 3, 0]\n",
      "[0, 1, 2]\n",
      "[3, 0, 1]\n",
      "[1, 0, 2]\n",
      "[0, 1, 2]\n",
      "[1, 0, 2]\n",
      "[3, 0, 1]\n",
      "[0, 1, 2]\n",
      "[1, 0, 2]\n",
      "[0, 1, 2]\n",
      "[3, 0, 1]\n",
      "[2, 0, 1]\n",
      "[1, 0, 2]\n",
      "[1, 0, 2]\n",
      "[1, 0, 2]\n",
      "[3, 0, 1]\n",
      "[1, 3, 0]\n",
      "[1, 3, 0]\n",
      "[1, 0, 2]\n",
      "[0, 1, 2]\n",
      "[1, 0, 2]\n",
      "[1, 0, 2]\n",
      "[1, 0, 2]\n",
      "[3, 0, 1]\n",
      "[1, 0, 2]\n",
      "[1, 0, 2]\n",
      "[2, 1, 0]\n",
      "[0, 1, 2]\n",
      "[1, 0, 2]\n",
      "[1, 2, 0]\n",
      "[0, 1, 2]\n",
      "[0, 1, 2]\n",
      "[2, 0, 1]\n",
      "[1, 0, 2]\n",
      "[2, 0, 1]\n",
      "[0, 1, 2]\n",
      "[2, 1, 0]\n",
      "[3, 0, 1]\n",
      "[2, 0, 1]\n",
      "[2, 0, 1]\n",
      "[0, 1, 2]\n",
      "[1, 0, 2]\n",
      "[1, 0, 2]\n",
      "[2, 3, 0]\n",
      "[3, 0, 1]\n",
      "[3, 0, 1]\n",
      "[0, 1, 2]\n",
      "[0, 1, 2]\n",
      "[1, 0, 2]\n",
      "[0, 1, 2]\n",
      "[1, 0, 2]\n",
      "[1, 0, 2]\n",
      "[1, 0, 2]\n",
      "[2, 0, 1]\n",
      "[1, 0, 2]\n",
      "[2, 0, 1]\n",
      "[2, 1, 0]\n",
      "[2, 0, 1]\n",
      "[1, 0, 2]\n",
      "[1, 0, 2]\n",
      "[2, 0, 1]\n",
      "[0, 1, 2]\n",
      "[2, 1, 0]\n",
      "[1, 2, 0]\n",
      "[1, 0, 2]\n",
      "[0, 1, 2]\n",
      "[1, 0, 2]\n",
      "[1, 0, 2]\n",
      "[3, 0, 1]\n",
      "[0, 1, 2]\n",
      "[2, 0, 1]\n",
      "[0, 1, 2]\n",
      "[0, 1, 2]\n",
      "[1, 0, 2]\n",
      "[0, 1, 2]\n",
      "[1, 0, 2]\n",
      "[1, 0, 2]\n",
      "[1, 0, 2]\n",
      "[0, 1, 2]\n",
      "[3, 0, 1]\n",
      "[2, 0, 1]\n",
      "[0, 3, 1]\n",
      "[0, 1, 2]\n",
      "[1, 3, 0]\n",
      "[1, 0, 2]\n",
      "[0, 2, 1]\n",
      "[1, 0, 2]\n",
      "[2, 0, 1]\n",
      "[3, 0, 1]\n",
      "[3, 1, 0]\n",
      "[1, 0, 2]\n",
      "[0, 2, 1]\n",
      "[2, 1, 3]\n",
      "[2, 0, 1]\n",
      "[1, 0, 2]\n",
      "[1, 3, 0]\n",
      "[3, 2, 0]\n",
      "[1, 0, 3]\n",
      "[0, 1, 2]\n",
      "[2, 1, 0]\n",
      "[1, 0, 2]\n",
      "[2, 0, 1]\n",
      "[0, 1, 2]\n",
      "[1, 0, 2]\n",
      "[1, 0, 2]\n",
      "[0, 3, 1]\n",
      "[2, 1, 0]\n",
      "[2, 1, 0]\n",
      "[0, 1, 2]\n",
      "[2, 0, 1]\n",
      "[3, 0, 1]\n",
      "[1, 2, 0]\n",
      "[2, 0, 1]\n",
      "[1, 0, 2]\n",
      "[1, 2, 0]\n",
      "[3, 0, 1]\n",
      "[0, 1, 2]\n",
      "[3, 0, 1]\n",
      "[1, 0, 2]\n",
      "[0, 1, 2]\n",
      "[2, 1, 0]\n",
      "[2, 0, 1]\n",
      "[0, 1, 2]\n",
      "[3, 2, 0]\n",
      "[0, 1, 2]\n",
      "[0, 2, 1]\n",
      "[1, 0, 2]\n",
      "[3, 0, 1]\n",
      "[1, 0, 2]\n",
      "[1, 0, 2]\n",
      "[1, 2, 0]\n",
      "[1, 0, 2]\n",
      "[1, 0, 2]\n",
      "[1, 0, 2]\n",
      "[1, 3, 0]\n",
      "[1, 2, 0]\n",
      "[1, 0, 2]\n",
      "[1, 3, 0]\n",
      "[3, 1, 0]\n",
      "[1, 2, 0]\n",
      "[0, 1, 2]\n",
      "[1, 0, 2]\n",
      "[2, 0, 1]\n",
      "[2, 3, 0]\n",
      "[1, 0, 2]\n",
      "[2, 0, 1]\n",
      "[1, 0, 2]\n",
      "[0, 1, 2]\n",
      "[1, 0, 2]\n",
      "[2, 0, 1]\n",
      "[1, 0, 2]\n",
      "[0, 1, 2]\n",
      "[1, 0, 2]\n",
      "[1, 0, 2]\n",
      "[2, 0, 1]\n",
      "[1, 0, 2]\n",
      "[3, 2, 0]\n",
      "[2, 0, 1]\n",
      "[3, 0, 1]\n",
      "[0, 1, 2]\n",
      "[1, 0, 2]\n",
      "[0, 1, 2]\n",
      "[0, 1, 2]\n",
      "[2, 0, 1]\n",
      "[0, 1, 2]\n",
      "[3, 1, 0]\n",
      "[1, 0, 2]\n",
      "[1, 0, 2]\n",
      "[0, 1, 2]\n",
      "[3, 0, 1]\n",
      "[1, 0, 2]\n",
      "[2, 1, 0]\n",
      "[2, 0, 1]\n",
      "[1, 3, 0]\n",
      "[1, 3, 0]\n",
      "[1, 3, 0]\n",
      "[1, 0, 2]\n",
      "[2, 0, 1]\n",
      "[0, 2, 1]\n",
      "[0, 1, 2]\n",
      "[3, 2, 0]\n",
      "[0, 1, 2]\n",
      "[1, 0, 2]\n",
      "[1, 2, 0]\n",
      "[2, 0, 1]\n",
      "[3, 0, 1]\n",
      "[2, 0, 1]\n",
      "[2, 0, 1]\n",
      "[1, 0, 2]\n",
      "[2, 0, 1]\n",
      "[2, 1, 0]\n",
      "[1, 0, 2]\n",
      "[1, 0, 2]\n",
      "[0, 1, 2]\n",
      "[2, 0, 1]\n",
      "[1, 0, 2]\n",
      "[1, 0, 2]\n",
      "[0, 2, 1]\n",
      "[0, 1, 2]\n",
      "[1, 2, 3]\n",
      "[0, 1, 2]\n",
      "[1, 0, 2]\n",
      "[1, 3, 0]\n",
      "[1, 3, 0]\n",
      "[3, 0, 1]\n",
      "[0, 1, 2]\n",
      "[1, 2, 0]\n",
      "[3, 1, 0]\n",
      "[2, 0, 1]\n",
      "[3, 0, 1]\n",
      "[2, 0, 1]\n",
      "[1, 0, 2]\n",
      "[1, 0, 2]\n",
      "[2, 0, 1]\n",
      "[2, 0, 1]\n",
      "[3, 0, 1]\n",
      "[2, 1, 0]\n",
      "[1, 0, 2]\n",
      "[2, 1, 0]\n",
      "[1, 0, 2]\n",
      "[1, 2, 0]\n",
      "[0, 2, 1]\n",
      "[3, 2, 0]\n",
      "[2, 1, 0]\n",
      "[3, 0, 2]\n",
      "[3, 0, 1]\n",
      "[0, 1, 2]\n",
      "[2, 1, 3]\n",
      "[1, 0, 2]\n",
      "[3, 2, 0]\n",
      "[3, 0, 1]\n",
      "[0, 1, 2]\n",
      "[2, 1, 0]\n",
      "[0, 1, 2]\n",
      "[2, 1, 0]\n",
      "[2, 1, 0]\n",
      "[1, 0, 2]\n",
      "[3, 0, 1]\n",
      "[1, 0, 2]\n",
      "[2, 1, 0]\n",
      "[2, 0, 1]\n",
      "[3, 0, 1]\n",
      "[1, 0, 2]\n",
      "[1, 0, 2]\n",
      "[2, 0, 1]\n",
      "[3, 0, 1]\n",
      "[1, 0, 2]\n",
      "[3, 2, 0]\n",
      "[3, 0, 1]\n",
      "[2, 0, 1]\n",
      "[3, 0, 1]\n",
      "[1, 2, 0]\n",
      "[3, 0, 1]\n",
      "[1, 0, 2]\n",
      "[3, 0, 1]\n",
      "[2, 0, 1]\n",
      "[1, 2, 0]\n",
      "[0, 1, 2]\n",
      "[0, 1, 2]\n",
      "[1, 0, 2]\n",
      "[0, 2, 1]\n",
      "[3, 0, 1]\n",
      "[2, 3, 1]\n",
      "[0, 1, 2]\n",
      "[2, 0, 1]\n",
      "[3, 0, 1]\n",
      "[2, 0, 1]\n",
      "[2, 0, 1]\n",
      "[0, 1, 2]\n",
      "[1, 0, 2]\n",
      "[2, 0, 1]\n",
      "[1, 2, 0]\n",
      "[2, 0, 1]\n",
      "[3, 0, 1]\n",
      "[1, 0, 2]\n",
      "[2, 1, 0]\n",
      "[2, 0, 1]\n",
      "[1, 0, 2]\n",
      "[3, 0, 1]\n",
      "[1, 0, 2]\n",
      "[0, 1, 2]\n",
      "[1, 0, 2]\n",
      "[2, 0, 1]\n",
      "[0, 1, 2]\n",
      "[0, 1, 2]\n",
      "[0, 1, 2]\n",
      "[1, 2, 0]\n",
      "[1, 2, 0]\n",
      "[0, 1, 2]\n",
      "[1, 0, 2]\n",
      "[1, 0, 2]\n",
      "[2, 1, 0]\n",
      "[1, 0, 2]\n",
      "[3, 0, 1]\n",
      "[2, 0, 1]\n",
      "[1, 0, 2]\n",
      "[1, 0, 2]\n",
      "[3, 0, 1]\n",
      "[2, 0, 1]\n",
      "[2, 0, 1]\n",
      "[1, 0, 2]\n",
      "[0, 1, 2]\n",
      "[1, 0, 2]\n",
      "[2, 3, 0]\n",
      "[0, 1, 2]\n",
      "[2, 0, 1]\n",
      "[3, 0, 1]\n",
      "[1, 0, 2]\n",
      "[0, 1, 2]\n",
      "[1, 0, 2]\n",
      "[2, 0, 1]\n",
      "[1, 0, 2]\n",
      "[1, 0, 2]\n",
      "[0, 1, 2]\n",
      "[2, 3, 0]\n",
      "[1, 0, 2]\n",
      "[2, 0, 1]\n",
      "[1, 0, 2]\n",
      "[3, 0, 1]\n",
      "[0, 1, 2]\n",
      "[1, 0, 2]\n",
      "[1, 0, 2]\n",
      "[2, 0, 1]\n",
      "[1, 0, 2]\n",
      "[1, 3, 0]\n",
      "[2, 0, 1]\n",
      "[1, 3, 0]\n",
      "[1, 2, 0]\n",
      "[3, 0, 1]\n",
      "[1, 0, 2]\n",
      "[1, 0, 2]\n",
      "[0, 1, 2]\n",
      "[0, 1, 2]\n",
      "[0, 1, 2]\n",
      "[1, 0, 2]\n",
      "[2, 0, 1]\n",
      "[0, 1, 3]\n",
      "[1, 0, 2]\n",
      "[1, 0, 2]\n",
      "[0, 1, 2]\n",
      "[1, 0, 2]\n",
      "[2, 0, 1]\n",
      "[1, 0, 2]\n",
      "[2, 1, 0]\n",
      "[2, 0, 1]\n",
      "[1, 0, 2]\n",
      "[0, 1, 2]\n",
      "[2, 0, 1]\n",
      "[1, 0, 2]\n",
      "[0, 1, 2]\n",
      "[3, 0, 1]\n",
      "[1, 0, 2]\n",
      "[1, 0, 2]\n",
      "[0, 1, 2]\n",
      "[0, 1, 2]\n",
      "[3, 0, 1]\n",
      "[2, 0, 1]\n",
      "[1, 0, 2]\n",
      "[0, 1, 3]\n",
      "[0, 1, 2]\n",
      "[1, 0, 2]\n",
      "[2, 0, 1]\n",
      "[0, 1, 2]\n",
      "[2, 0, 1]\n",
      "[1, 2, 0]\n",
      "[2, 0, 1]\n",
      "[0, 2, 1]\n",
      "[0, 2, 1]\n",
      "[0, 1, 2]\n",
      "[2, 0, 1]\n",
      "[3, 0, 1]\n",
      "[1, 0, 2]\n",
      "[3, 0, 1]\n",
      "[2, 0, 1]\n",
      "[3, 0, 1]\n",
      "[2, 0, 3]\n",
      "[3, 0, 1]\n",
      "[0, 1, 2]\n",
      "[1, 2, 0]\n",
      "[0, 2, 1]\n",
      "[0, 1, 2]\n",
      "[0, 1, 2]\n",
      "[3, 0, 1]\n",
      "[2, 0, 1]\n",
      "[1, 3, 0]\n",
      "[2, 0, 1]\n",
      "[1, 0, 2]\n",
      "[0, 1, 2]\n",
      "[1, 0, 2]\n",
      "[2, 0, 1]\n",
      "[0, 1, 2]\n",
      "[0, 1, 2]\n",
      "[1, 0, 2]\n",
      "[2, 0, 1]\n",
      "[0, 1, 2]\n",
      "[0, 1, 2]\n",
      "[2, 0, 1]\n",
      "[1, 0, 2]\n",
      "[1, 0, 2]\n",
      "[0, 3, 1]\n",
      "[1, 0, 2]\n",
      "[0, 1, 2]\n",
      "[1, 0, 2]\n",
      "[2, 0, 1]\n",
      "[1, 0, 2]\n",
      "[2, 0, 1]\n",
      "[1, 0, 2]\n",
      "[0, 2, 1]\n",
      "[1, 0, 2]\n",
      "[2, 0, 1]\n",
      "[2, 0, 1]\n",
      "[1, 0, 2]\n",
      "[0, 2, 1]\n",
      "[1, 0, 2]\n",
      "[0, 1, 2]\n",
      "[3, 2, 0]\n",
      "[1, 3, 0]\n",
      "[1, 0, 2]\n",
      "[2, 0, 1]\n",
      "[0, 1, 2]\n",
      "[1, 0, 2]\n",
      "[2, 0, 1]\n",
      "[2, 0, 1]\n",
      "[3, 2, 0]\n",
      "[2, 0, 1]\n",
      "[0, 1, 2]\n",
      "[1, 0, 2]\n",
      "[3, 0, 1]\n",
      "[3, 0, 1]\n",
      "[0, 2, 1]\n",
      "[3, 0, 1]\n",
      "[1, 0, 2]\n",
      "[3, 0, 1]\n",
      "[1, 0, 2]\n",
      "[3, 0, 1]\n",
      "[2, 0, 1]\n",
      "[2, 0, 1]\n",
      "[1, 0, 2]\n",
      "[0, 1, 2]\n",
      "[0, 1, 2]\n",
      "[2, 0, 1]\n",
      "[0, 1, 2]\n",
      "[1, 0, 2]\n",
      "[2, 3, 0]\n",
      "[1, 0, 2]\n",
      "[1, 0, 2]\n",
      "[2, 0, 1]\n",
      "[2, 1, 0]\n",
      "[1, 0, 2]\n",
      "[0, 2, 1]\n",
      "[1, 0, 2]\n",
      "[2, 3, 0]\n",
      "[3, 2, 0]\n",
      "[3, 0, 1]\n",
      "[1, 0, 2]\n",
      "[0, 1, 2]\n",
      "[1, 0, 2]\n",
      "[0, 1, 2]\n",
      "[3, 0, 1]\n",
      "[0, 2, 1]\n",
      "[0, 1, 2]\n",
      "[0, 1, 2]\n",
      "[0, 1, 2]\n",
      "[2, 0, 1]\n",
      "[3, 0, 1]\n",
      "[3, 0, 1]\n",
      "[1, 0, 2]\n",
      "[2, 3, 0]\n",
      "[1, 3, 0]\n",
      "[2, 0, 1]\n",
      "[1, 0, 2]\n",
      "[1, 0, 2]\n",
      "[1, 0, 2]\n",
      "[0, 1, 2]\n",
      "[3, 0, 1]\n",
      "[0, 2, 1]\n",
      "[1, 2, 0]\n",
      "[3, 0, 1]\n",
      "[3, 2, 1]\n",
      "[3, 0, 1]\n",
      "[2, 0, 1]\n",
      "[0, 1, 2]\n",
      "[2, 0, 1]\n",
      "[2, 0, 1]\n",
      "[3, 0, 1]\n",
      "[0, 3, 1]\n",
      "[2, 0, 1]\n",
      "[2, 0, 1]\n",
      "[0, 1, 2]\n",
      "[1, 2, 0]\n",
      "[0, 1, 2]\n",
      "[0, 1, 2]\n",
      "[3, 0, 1]\n",
      "[0, 1, 2]\n",
      "[1, 0, 2]\n",
      "[2, 0, 1]\n",
      "[2, 0, 1]\n",
      "[1, 0, 2]\n",
      "[1, 0, 2]\n",
      "[2, 0, 1]\n",
      "[0, 1, 2]\n",
      "[3, 0, 1]\n",
      "[0, 1, 2]\n",
      "[2, 1, 0]\n"
     ]
    },
    {
     "name": "stdout",
     "output_type": "stream",
     "text": [
      "[1, 0, 2]\n",
      "[0, 1, 2]\n",
      "[2, 0, 1]\n",
      "[1, 0, 2]\n",
      "[2, 0, 1]\n",
      "[1, 0, 2]\n",
      "[1, 3, 0]\n",
      "[2, 0, 1]\n",
      "[0, 2, 1]\n",
      "[1, 0, 2]\n",
      "[3, 0, 1]\n",
      "[2, 0, 1]\n",
      "[0, 1, 2]\n",
      "[2, 0, 1]\n",
      "[0, 3, 1]\n",
      "[2, 0, 1]\n",
      "[0, 2, 1]\n",
      "[2, 0, 1]\n",
      "[1, 0, 2]\n",
      "[1, 0, 2]\n",
      "[0, 1, 2]\n",
      "[0, 1, 2]\n",
      "[0, 1, 2]\n",
      "[2, 0, 1]\n",
      "[0, 2, 1]\n",
      "[0, 1, 2]\n",
      "[0, 2, 1]\n",
      "[0, 1, 2]\n",
      "[2, 0, 1]\n",
      "[3, 0, 1]\n",
      "[3, 0, 1]\n",
      "[1, 0, 2]\n",
      "[0, 1, 2]\n",
      "[0, 1, 2]\n",
      "[3, 0, 1]\n",
      "[0, 1, 2]\n",
      "[0, 2, 1]\n",
      "[1, 2, 0]\n",
      "[1, 0, 2]\n",
      "[0, 1, 2]\n",
      "[1, 2, 0]\n",
      "[2, 0, 1]\n",
      "[2, 0, 1]\n",
      "[3, 0, 1]\n",
      "[2, 0, 1]\n",
      "[1, 0, 2]\n",
      "[2, 0, 1]\n",
      "[2, 1, 0]\n",
      "[1, 0, 2]\n",
      "[1, 0, 2]\n",
      "[2, 0, 1]\n",
      "[2, 1, 0]\n",
      "[3, 0, 1]\n",
      "[1, 0, 2]\n",
      "[2, 0, 1]\n",
      "[2, 0, 1]\n",
      "[3, 0, 1]\n",
      "[0, 1, 2]\n",
      "[3, 0, 1]\n",
      "[1, 0, 2]\n",
      "[3, 0, 1]\n",
      "[2, 0, 1]\n",
      "[2, 0, 1]\n",
      "[1, 2, 0]\n",
      "[0, 1, 2]\n",
      "[2, 0, 1]\n",
      "[3, 0, 1]\n",
      "[2, 0, 1]\n",
      "[1, 0, 2]\n",
      "[0, 1, 2]\n",
      "[1, 2, 0]\n",
      "[3, 1, 0]\n",
      "[1, 0, 2]\n",
      "[1, 2, 0]\n",
      "[3, 0, 1]\n",
      "[3, 0, 1]\n",
      "[2, 0, 1]\n",
      "[1, 0, 2]\n",
      "[2, 0, 1]\n",
      "[2, 0, 1]\n",
      "[1, 0, 2]\n",
      "[2, 0, 1]\n",
      "[2, 0, 1]\n",
      "[2, 0, 1]\n",
      "[0, 1, 2]\n",
      "[0, 1, 2]\n",
      "[2, 1, 0]\n",
      "[1, 0, 2]\n",
      "[0, 1, 2]\n",
      "[1, 2, 0]\n",
      "[2, 0, 1]\n",
      "[0, 1, 2]\n",
      "[0, 1, 2]\n",
      "[2, 0, 1]\n",
      "[1, 0, 2]\n",
      "[2, 0, 1]\n",
      "[0, 1, 2]\n",
      "[3, 0, 1]\n",
      "[1, 0, 2]\n",
      "[1, 3, 0]\n",
      "[0, 1, 2]\n",
      "[3, 0, 1]\n",
      "[2, 0, 1]\n",
      "[1, 0, 2]\n",
      "[3, 0, 1]\n",
      "[0, 1, 2]\n",
      "[0, 1, 2]\n",
      "[0, 1, 2]\n",
      "[2, 0, 1]\n",
      "[0, 1, 2]\n",
      "[1, 0, 2]\n",
      "[1, 0, 3]\n",
      "[0, 1, 2]\n",
      "[1, 0, 2]\n",
      "[1, 0, 2]\n",
      "[2, 1, 0]\n",
      "[0, 2, 1]\n",
      "[0, 2, 1]\n",
      "[2, 0, 1]\n",
      "[0, 1, 2]\n",
      "[3, 0, 1]\n",
      "[0, 1, 2]\n",
      "[1, 0, 2]\n",
      "[0, 1, 2]\n",
      "[2, 0, 1]\n",
      "[2, 0, 1]\n",
      "[3, 0, 1]\n",
      "[1, 0, 2]\n",
      "[0, 1, 2]\n",
      "[0, 1, 2]\n",
      "[0, 1, 2]\n",
      "[1, 0, 2]\n",
      "[2, 0, 1]\n",
      "[0, 1, 2]\n",
      "[1, 3, 0]\n",
      "[1, 0, 2]\n",
      "[1, 0, 2]\n",
      "[0, 2, 1]\n",
      "[0, 1, 2]\n",
      "[2, 0, 1]\n",
      "[0, 1, 2]\n",
      "[3, 0, 1]\n",
      "[0, 1, 2]\n",
      "[0, 1, 2]\n",
      "[1, 0, 2]\n",
      "[2, 0, 1]\n",
      "[1, 0, 2]\n",
      "[0, 1, 2]\n",
      "[2, 0, 1]\n",
      "[1, 0, 2]\n",
      "[2, 0, 1]\n",
      "[2, 0, 1]\n",
      "[2, 0, 1]\n",
      "[0, 1, 2]\n",
      "[0, 1, 2]\n",
      "[1, 0, 2]\n",
      "[3, 1, 0]\n",
      "[2, 0, 1]\n",
      "[0, 1, 2]\n",
      "[2, 0, 1]\n"
     ]
    }
   ],
   "source": [
    "for i in range(0,3):\n",
    "    dfLDA['topic'+ str(i)]=None\n",
    "    dfLDA['topic'+str(i)+'_pct']=None\n",
    "\n",
    "for r in range(0,len(document_topic)):\n",
    "    ts = document_topic.loc[r].sort_values(ascending=False)[:3]\n",
    "#     print(ts)\n",
    "    topic_nums = list(ts.index)\n",
    "    print(topic_nums)\n",
    "    topic_pcts = list(ts)\n",
    "#     print(topic_pcts)\n",
    "    for i in range(0,3):\n",
    "        dfLDA.at[r,'topic'+ str(i)]=topic_nums[i]\n",
    "        dfLDA.at[r,'topic'+ str(i)+'_pct']=topic_pcts[i]\n",
    "\n",
    "# dfLDA.head(5)"
   ]
  },
  {
   "cell_type": "code",
   "execution_count": 720,
   "metadata": {},
   "outputs": [
    {
     "data": {
      "text/plain": [
       "Index(['level_0', 'index', 'Forum ID', 'Forum Name', 'Subject', 'Post Date',\n",
       "       'User DisplayName', 'Forum_Post_Raw', 'compound', 'neg', 'neu', 'pos',\n",
       "       'Sentiment', 'PostDate', 'DayName', 'DayOfMonth', 'ShortText',\n",
       "       'sentences', 'token_sentences', 'tokens_sentences', 'POS_tokens',\n",
       "       'tokens_sentences_lemmatized', 'tokens', 'topic0', 'topic0_pct',\n",
       "       'topic1', 'topic1_pct', 'topic2', 'topic2_pct'],\n",
       "      dtype='object')"
      ]
     },
     "execution_count": 720,
     "metadata": {},
     "output_type": "execute_result"
    }
   ],
   "source": [
    "dfLDA.columns"
   ]
  },
  {
   "cell_type": "code",
   "execution_count": 721,
   "metadata": {},
   "outputs": [
    {
     "data": {
      "text/html": [
       "<div>\n",
       "<style scoped>\n",
       "    .dataframe tbody tr th:only-of-type {\n",
       "        vertical-align: middle;\n",
       "    }\n",
       "\n",
       "    .dataframe tbody tr th {\n",
       "        vertical-align: top;\n",
       "    }\n",
       "\n",
       "    .dataframe thead th {\n",
       "        text-align: right;\n",
       "    }\n",
       "</style>\n",
       "<table border=\"1\" class=\"dataframe\">\n",
       "  <thead>\n",
       "    <tr style=\"text-align: right;\">\n",
       "      <th></th>\n",
       "      <th>level_0</th>\n",
       "      <th>index</th>\n",
       "      <th>Forum ID</th>\n",
       "      <th>Forum Name</th>\n",
       "      <th>Subject</th>\n",
       "      <th>Post Date</th>\n",
       "      <th>User DisplayName</th>\n",
       "      <th>Forum_Post_Raw</th>\n",
       "      <th>compound</th>\n",
       "      <th>neg</th>\n",
       "      <th>...</th>\n",
       "      <th>tokens_sentences</th>\n",
       "      <th>POS_tokens</th>\n",
       "      <th>tokens_sentences_lemmatized</th>\n",
       "      <th>tokens</th>\n",
       "      <th>topic0</th>\n",
       "      <th>topic0_pct</th>\n",
       "      <th>topic1</th>\n",
       "      <th>topic1_pct</th>\n",
       "      <th>topic2</th>\n",
       "      <th>topic2_pct</th>\n",
       "    </tr>\n",
       "  </thead>\n",
       "  <tbody>\n",
       "    <tr>\n",
       "      <th>1084</th>\n",
       "      <td>1084</td>\n",
       "      <td>2941</td>\n",
       "      <td>332</td>\n",
       "      <td>Sage Data &amp;amp; Analytics</td>\n",
       "      <td>year closing</td>\n",
       "      <td>2020-01-20T07:01:58.37</td>\n",
       "      <td>info@epochholland.nl</td>\n",
       "      <td></td>\n",
       "      <td>0.0000</td>\n",
       "      <td>0.000</td>\n",
       "      <td>...</td>\n",
       "      <td>[]</td>\n",
       "      <td>[]</td>\n",
       "      <td>[]</td>\n",
       "      <td>[]</td>\n",
       "      <td>0</td>\n",
       "      <td>0.25</td>\n",
       "      <td>1</td>\n",
       "      <td>0.25</td>\n",
       "      <td>2</td>\n",
       "      <td>0.25</td>\n",
       "    </tr>\n",
       "    <tr>\n",
       "      <th>1085</th>\n",
       "      <td>1085</td>\n",
       "      <td>2942</td>\n",
       "      <td>332</td>\n",
       "      <td>Sage Data &amp;amp; Analytics</td>\n",
       "      <td>add CPTANALIN table to requester</td>\n",
       "      <td>2019-10-10T15:41:06.877</td>\n",
       "      <td>Christine T.</td>\n",
       "      <td>requester links aren't my strong suit- I can h...</td>\n",
       "      <td>0.7905</td>\n",
       "      <td>0.041</td>\n",
       "      <td>...</td>\n",
       "      <td>[[requester, links, are, n't, my, strong, suit...</td>\n",
       "      <td>[[(requester, NN), (links, NNS), (are, VBP), (...</td>\n",
       "      <td>[[requester, link, be, n't, my, strong, suit-,...</td>\n",
       "      <td>[requester, link, strong, handle, crystal, rep...</td>\n",
       "      <td>2</td>\n",
       "      <td>0.542575</td>\n",
       "      <td>0</td>\n",
       "      <td>0.455613</td>\n",
       "      <td>1</td>\n",
       "      <td>0.0</td>\n",
       "    </tr>\n",
       "  </tbody>\n",
       "</table>\n",
       "<p>2 rows × 29 columns</p>\n",
       "</div>"
      ],
      "text/plain": [
       "      level_0  index  Forum ID                 Forum Name  \\\n",
       "1084     1084   2941       332  Sage Data &amp; Analytics   \n",
       "1085     1085   2942       332  Sage Data &amp; Analytics   \n",
       "\n",
       "                               Subject                Post Date  \\\n",
       "1084                      year closing   2020-01-20T07:01:58.37   \n",
       "1085  add CPTANALIN table to requester  2019-10-10T15:41:06.877   \n",
       "\n",
       "          User DisplayName                                     Forum_Post_Raw  \\\n",
       "1084  info@epochholland.nl                                                      \n",
       "1085          Christine T.  requester links aren't my strong suit- I can h...   \n",
       "\n",
       "      compound    neg  ...                                   tokens_sentences  \\\n",
       "1084    0.0000  0.000  ...                                                 []   \n",
       "1085    0.7905  0.041  ...  [[requester, links, are, n't, my, strong, suit...   \n",
       "\n",
       "                                             POS_tokens  \\\n",
       "1084                                                 []   \n",
       "1085  [[(requester, NN), (links, NNS), (are, VBP), (...   \n",
       "\n",
       "                            tokens_sentences_lemmatized  \\\n",
       "1084                                                 []   \n",
       "1085  [[requester, link, be, n't, my, strong, suit-,...   \n",
       "\n",
       "                                                 tokens topic0  topic0_pct  \\\n",
       "1084                                                 []      0        0.25   \n",
       "1085  [requester, link, strong, handle, crystal, rep...      2    0.542575   \n",
       "\n",
       "     topic1 topic1_pct topic2 topic2_pct  \n",
       "1084      1       0.25      2       0.25  \n",
       "1085      0   0.455613      1        0.0  \n",
       "\n",
       "[2 rows x 29 columns]"
      ]
     },
     "execution_count": 721,
     "metadata": {},
     "output_type": "execute_result"
    }
   ],
   "source": [
    "dfLDA.tail(2)\n"
   ]
  },
  {
   "cell_type": "code",
   "execution_count": 722,
   "metadata": {},
   "outputs": [
    {
     "data": {
      "text/plain": [
       "(1086, 29)"
      ]
     },
     "execution_count": 722,
     "metadata": {},
     "output_type": "execute_result"
    }
   ],
   "source": [
    "dfLDA.shape"
   ]
  },
  {
   "cell_type": "code",
   "execution_count": 723,
   "metadata": {},
   "outputs": [
    {
     "data": {
      "text/plain": [
       "Index(['level_0', 'index', 'Forum ID', 'Forum Name', 'Subject', 'Post Date',\n",
       "       'User DisplayName', 'Forum_Post_Raw', 'compound', 'neg', 'neu', 'pos',\n",
       "       'Sentiment', 'PostDate', 'DayName', 'DayOfMonth', 'ShortText',\n",
       "       'sentences', 'token_sentences', 'tokens_sentences', 'POS_tokens',\n",
       "       'tokens_sentences_lemmatized', 'tokens', 'topic0', 'topic0_pct',\n",
       "       'topic1', 'topic1_pct', 'topic2', 'topic2_pct'],\n",
       "      dtype='object')"
      ]
     },
     "execution_count": 723,
     "metadata": {},
     "output_type": "execute_result"
    }
   ],
   "source": [
    "dfLDA[dfLDA['topic0']==2].columns"
   ]
  },
  {
   "cell_type": "code",
   "execution_count": 724,
   "metadata": {},
   "outputs": [],
   "source": [
    "# dfLDA[dfLDA['topic0']==0].Forum_Post_Raw.apply(lambda t: print(t, '\\n\\n'))"
   ]
  },
  {
   "cell_type": "code",
   "execution_count": 725,
   "metadata": {},
   "outputs": [
    {
     "data": {
      "text/html": [
       "<div>\n",
       "<style scoped>\n",
       "    .dataframe tbody tr th:only-of-type {\n",
       "        vertical-align: middle;\n",
       "    }\n",
       "\n",
       "    .dataframe tbody tr th {\n",
       "        vertical-align: top;\n",
       "    }\n",
       "\n",
       "    .dataframe thead th {\n",
       "        text-align: right;\n",
       "    }\n",
       "</style>\n",
       "<table border=\"1\" class=\"dataframe\">\n",
       "  <thead>\n",
       "    <tr style=\"text-align: right;\">\n",
       "      <th></th>\n",
       "      <th>Forum Name</th>\n",
       "      <th>Forum_Post_Raw</th>\n",
       "      <th>topic0_pct</th>\n",
       "      <th>topic1_pct</th>\n",
       "      <th>topic2_pct</th>\n",
       "    </tr>\n",
       "  </thead>\n",
       "  <tbody>\n",
       "    <tr>\n",
       "      <th>0</th>\n",
       "      <td>Sage X3 General Discussion</td>\n",
       "      <td>Company upgraded to windows 10. Used to run an...</td>\n",
       "      <td>0.999167</td>\n",
       "      <td>0.0</td>\n",
       "      <td>0.0</td>\n",
       "    </tr>\n",
       "    <tr>\n",
       "      <th>1</th>\n",
       "      <td>Sage X3 General Discussion</td>\n",
       "      <td>Hello!\\n\\nI see that Sage V11 patch 14 was com...</td>\n",
       "      <td>0.523965</td>\n",
       "      <td>0.475429</td>\n",
       "      <td>0.0</td>\n",
       "    </tr>\n",
       "    <tr>\n",
       "      <th>2</th>\n",
       "      <td>Sage X3 Announcements, News, and Alerts</td>\n",
       "      <td>To access this download, log into https://supp...</td>\n",
       "      <td>0.998424</td>\n",
       "      <td>0.0</td>\n",
       "      <td>0.0</td>\n",
       "    </tr>\n",
       "    <tr>\n",
       "      <th>3</th>\n",
       "      <td>Sage X3 Announcements, News, and Alerts</td>\n",
       "      <td>To access this download, log into https://supp...</td>\n",
       "      <td>0.998424</td>\n",
       "      <td>0.0</td>\n",
       "      <td>0.0</td>\n",
       "    </tr>\n",
       "    <tr>\n",
       "      <th>4</th>\n",
       "      <td>Sage X3 General Discussion</td>\n",
       "      <td>I am trying to remove some of the columns on t...</td>\n",
       "      <td>0.677048</td>\n",
       "      <td>0.322044</td>\n",
       "      <td>0.0</td>\n",
       "    </tr>\n",
       "    <tr>\n",
       "      <th>...</th>\n",
       "      <td>...</td>\n",
       "      <td>...</td>\n",
       "      <td>...</td>\n",
       "      <td>...</td>\n",
       "      <td>...</td>\n",
       "    </tr>\n",
       "    <tr>\n",
       "      <th>1081</th>\n",
       "      <td>Sage Data &amp;amp; Analytics</td>\n",
       "      <td>\\nThe above pic is  carry forward selection ch...</td>\n",
       "      <td>0.998698</td>\n",
       "      <td>0.0</td>\n",
       "      <td>0.0</td>\n",
       "    </tr>\n",
       "    <tr>\n",
       "      <th>1082</th>\n",
       "      <td>Sage Data &amp;amp; Analytics</td>\n",
       "      <td>Hello guys, \\n\\nI hope you are well. \\n\\nI mad...</td>\n",
       "      <td>0.56439</td>\n",
       "      <td>0.433798</td>\n",
       "      <td>0.0</td>\n",
       "    </tr>\n",
       "    <tr>\n",
       "      <th>1083</th>\n",
       "      <td>Sage Data &amp;amp; Analytics</td>\n",
       "      <td>It says all the lines are converted but it did...</td>\n",
       "      <td>0.994047</td>\n",
       "      <td>0.0</td>\n",
       "      <td>0.0</td>\n",
       "    </tr>\n",
       "    <tr>\n",
       "      <th>1084</th>\n",
       "      <td>Sage Data &amp;amp; Analytics</td>\n",
       "      <td></td>\n",
       "      <td>0.25</td>\n",
       "      <td>0.25</td>\n",
       "      <td>0.25</td>\n",
       "    </tr>\n",
       "    <tr>\n",
       "      <th>1085</th>\n",
       "      <td>Sage Data &amp;amp; Analytics</td>\n",
       "      <td>requester links aren't my strong suit- I can h...</td>\n",
       "      <td>0.542575</td>\n",
       "      <td>0.455613</td>\n",
       "      <td>0.0</td>\n",
       "    </tr>\n",
       "  </tbody>\n",
       "</table>\n",
       "<p>1086 rows × 5 columns</p>\n",
       "</div>"
      ],
      "text/plain": [
       "                                   Forum Name  \\\n",
       "0                  Sage X3 General Discussion   \n",
       "1                  Sage X3 General Discussion   \n",
       "2     Sage X3 Announcements, News, and Alerts   \n",
       "3     Sage X3 Announcements, News, and Alerts   \n",
       "4                  Sage X3 General Discussion   \n",
       "...                                       ...   \n",
       "1081                Sage Data &amp; Analytics   \n",
       "1082                Sage Data &amp; Analytics   \n",
       "1083                Sage Data &amp; Analytics   \n",
       "1084                Sage Data &amp; Analytics   \n",
       "1085                Sage Data &amp; Analytics   \n",
       "\n",
       "                                         Forum_Post_Raw topic0_pct topic1_pct  \\\n",
       "0     Company upgraded to windows 10. Used to run an...   0.999167        0.0   \n",
       "1     Hello!\\n\\nI see that Sage V11 patch 14 was com...   0.523965   0.475429   \n",
       "2     To access this download, log into https://supp...   0.998424        0.0   \n",
       "3     To access this download, log into https://supp...   0.998424        0.0   \n",
       "4     I am trying to remove some of the columns on t...   0.677048   0.322044   \n",
       "...                                                 ...        ...        ...   \n",
       "1081  \\nThe above pic is  carry forward selection ch...   0.998698        0.0   \n",
       "1082  Hello guys, \\n\\nI hope you are well. \\n\\nI mad...    0.56439   0.433798   \n",
       "1083  It says all the lines are converted but it did...   0.994047        0.0   \n",
       "1084                                                          0.25       0.25   \n",
       "1085  requester links aren't my strong suit- I can h...   0.542575   0.455613   \n",
       "\n",
       "     topic2_pct  \n",
       "0           0.0  \n",
       "1           0.0  \n",
       "2           0.0  \n",
       "3           0.0  \n",
       "4           0.0  \n",
       "...         ...  \n",
       "1081        0.0  \n",
       "1082        0.0  \n",
       "1083        0.0  \n",
       "1084       0.25  \n",
       "1085        0.0  \n",
       "\n",
       "[1086 rows x 5 columns]"
      ]
     },
     "execution_count": 725,
     "metadata": {},
     "output_type": "execute_result"
    }
   ],
   "source": [
    "dfResults = dfLDA[['Forum Name','Forum_Post_Raw', 'topic0_pct', 'topic1_pct', 'topic2_pct']].copy()\n",
    "# dfResults = dfResults[dfResults['Forum_Post_Raw'].notna()]\n",
    "# dfResults = dfResults[dfResults['topic0'].notna()]\n",
    "dfResults"
   ]
  },
  {
   "cell_type": "code",
   "execution_count": 726,
   "metadata": {},
   "outputs": [
    {
     "data": {
      "text/html": [
       "<div>\n",
       "<style scoped>\n",
       "    .dataframe tbody tr th:only-of-type {\n",
       "        vertical-align: middle;\n",
       "    }\n",
       "\n",
       "    .dataframe tbody tr th {\n",
       "        vertical-align: top;\n",
       "    }\n",
       "\n",
       "    .dataframe thead th {\n",
       "        text-align: right;\n",
       "    }\n",
       "</style>\n",
       "<table border=\"1\" class=\"dataframe\">\n",
       "  <thead>\n",
       "    <tr style=\"text-align: right;\">\n",
       "      <th></th>\n",
       "      <th>level_0</th>\n",
       "      <th>index</th>\n",
       "      <th>Forum ID</th>\n",
       "      <th>Forum Name</th>\n",
       "      <th>Subject</th>\n",
       "      <th>Post Date</th>\n",
       "      <th>User DisplayName</th>\n",
       "      <th>Forum_Post_Raw</th>\n",
       "      <th>compound</th>\n",
       "      <th>neg</th>\n",
       "      <th>...</th>\n",
       "      <th>tokens_sentences</th>\n",
       "      <th>POS_tokens</th>\n",
       "      <th>tokens_sentences_lemmatized</th>\n",
       "      <th>tokens</th>\n",
       "      <th>topic0</th>\n",
       "      <th>topic0_pct</th>\n",
       "      <th>topic1</th>\n",
       "      <th>topic1_pct</th>\n",
       "      <th>topic2</th>\n",
       "      <th>topic2_pct</th>\n",
       "    </tr>\n",
       "  </thead>\n",
       "  <tbody>\n",
       "    <tr>\n",
       "      <th>6</th>\n",
       "      <td>6</td>\n",
       "      <td>126</td>\n",
       "      <td>40</td>\n",
       "      <td>Sage X3 General Discussion</td>\n",
       "      <td>V12 Data Model</td>\n",
       "      <td>2019-10-11T16:02:41.787</td>\n",
       "      <td>Juan Pablo G</td>\n",
       "      <td>Is the online help data model correct for V12?...</td>\n",
       "      <td>0.4019</td>\n",
       "      <td>0.000</td>\n",
       "      <td>...</td>\n",
       "      <td>[[Is, the, online, help, data, model, correct,...</td>\n",
       "      <td>[[(Is, VBZ), (the, DT), (online, NN), (help, N...</td>\n",
       "      <td>[[Is, the, online, help, data, model, correct,...</td>\n",
       "      <td>[online, help, model, correct, file, show]</td>\n",
       "      <td>0</td>\n",
       "      <td>0.994047</td>\n",
       "      <td>1</td>\n",
       "      <td>0.0</td>\n",
       "      <td>2</td>\n",
       "      <td>0.0</td>\n",
       "    </tr>\n",
       "    <tr>\n",
       "      <th>10</th>\n",
       "      <td>10</td>\n",
       "      <td>250</td>\n",
       "      <td>40</td>\n",
       "      <td>Sage X3 General Discussion</td>\n",
       "      <td>X3 Price list activation/deactivation</td>\n",
       "      <td>2019-10-14T22:38:08.26</td>\n",
       "      <td>garry@kbm.net.au</td>\n",
       "      <td>Hi all.\\nI have unchecked the Active box on a ...</td>\n",
       "      <td>-0.3818</td>\n",
       "      <td>0.102</td>\n",
       "      <td>...</td>\n",
       "      <td>[[Hi, all, .], [I, have, unchecked, the, Activ...</td>\n",
       "      <td>[[(Hi, NNP), (all, DT), (., .)], [(I, PRP), (h...</td>\n",
       "      <td>[[Hi, all, .], [I, have, unchecked, the, Activ...</td>\n",
       "      <td>[unchecked, active, box, sale, price, list, ve...</td>\n",
       "      <td>0</td>\n",
       "      <td>0.719807</td>\n",
       "      <td>1</td>\n",
       "      <td>0.2782</td>\n",
       "      <td>2</td>\n",
       "      <td>0.0</td>\n",
       "    </tr>\n",
       "    <tr>\n",
       "      <th>26</th>\n",
       "      <td>26</td>\n",
       "      <td>656</td>\n",
       "      <td>40</td>\n",
       "      <td>Sage X3 General Discussion</td>\n",
       "      <td>web service X3 V11 Cannot read property &amp;#39;G...</td>\n",
       "      <td>2019-10-23T12:09:17.84</td>\n",
       "      <td>Alec6</td>\n",
       "      <td>Hi,\\nI see this question without solution post...</td>\n",
       "      <td>0.0098</td>\n",
       "      <td>0.055</td>\n",
       "      <td>...</td>\n",
       "      <td>[[Hi, ,, I, see, this, question, without, solu...</td>\n",
       "      <td>[[(Hi, NNP), (,, ,), (I, PRP), (see, VBP), (th...</td>\n",
       "      <td>[[Hi, ,, I, see, this, question, without, solu...</td>\n",
       "      <td>[question, without, solution, post, year, ago,...</td>\n",
       "      <td>0</td>\n",
       "      <td>0.996681</td>\n",
       "      <td>1</td>\n",
       "      <td>0.0</td>\n",
       "      <td>2</td>\n",
       "      <td>0.0</td>\n",
       "    </tr>\n",
       "    <tr>\n",
       "      <th>35</th>\n",
       "      <td>35</td>\n",
       "      <td>845</td>\n",
       "      <td>40</td>\n",
       "      <td>Sage X3 General Discussion</td>\n",
       "      <td>XML Example of deleteLines and InsertLines</td>\n",
       "      <td>2019-10-29T16:46:32.203</td>\n",
       "      <td>ChrisCC</td>\n",
       "      <td>Can I get an example XML view of how the delet...</td>\n",
       "      <td>0.6597</td>\n",
       "      <td>0.000</td>\n",
       "      <td>...</td>\n",
       "      <td>[[Can, I, get, an, example, XML, view, of, how...</td>\n",
       "      <td>[[(Can, MD), (I, PRP), (get, VB), (an, DT), (e...</td>\n",
       "      <td>[[Can, I, get, an, example, XML, view, of, how...</td>\n",
       "      <td>[example, xml, view, deletelines, insertlines,...</td>\n",
       "      <td>0</td>\n",
       "      <td>0.995033</td>\n",
       "      <td>1</td>\n",
       "      <td>0.0</td>\n",
       "      <td>2</td>\n",
       "      <td>0.0</td>\n",
       "    </tr>\n",
       "    <tr>\n",
       "      <th>37</th>\n",
       "      <td>37</td>\n",
       "      <td>877</td>\n",
       "      <td>40</td>\n",
       "      <td>Sage X3 General Discussion</td>\n",
       "      <td>Production Planner</td>\n",
       "      <td>2019-10-30T08:21:45.053</td>\n",
       "      <td>Mikael</td>\n",
       "      <td>\\n\\nAny Clues?  The Application Error \"The map...</td>\n",
       "      <td>-0.1027</td>\n",
       "      <td>0.129</td>\n",
       "      <td>...</td>\n",
       "      <td>[[Any, Clues, ?], [The, Application, Error, ``...</td>\n",
       "      <td>[[(Any, DT), (Clues, NNP), (?, .)], [(The, DT)...</td>\n",
       "      <td>[[Any, Clues, ?], [The, Application, Error, ``...</td>\n",
       "      <td>[clues, application, error, mapping, productio...</td>\n",
       "      <td>0</td>\n",
       "      <td>0.995738</td>\n",
       "      <td>1</td>\n",
       "      <td>0.0</td>\n",
       "      <td>2</td>\n",
       "      <td>0.0</td>\n",
       "    </tr>\n",
       "    <tr>\n",
       "      <th>...</th>\n",
       "      <td>...</td>\n",
       "      <td>...</td>\n",
       "      <td>...</td>\n",
       "      <td>...</td>\n",
       "      <td>...</td>\n",
       "      <td>...</td>\n",
       "      <td>...</td>\n",
       "      <td>...</td>\n",
       "      <td>...</td>\n",
       "      <td>...</td>\n",
       "      <td>...</td>\n",
       "      <td>...</td>\n",
       "      <td>...</td>\n",
       "      <td>...</td>\n",
       "      <td>...</td>\n",
       "      <td>...</td>\n",
       "      <td>...</td>\n",
       "      <td>...</td>\n",
       "      <td>...</td>\n",
       "      <td>...</td>\n",
       "      <td>...</td>\n",
       "    </tr>\n",
       "    <tr>\n",
       "      <th>1069</th>\n",
       "      <td>1069</td>\n",
       "      <td>2872</td>\n",
       "      <td>294</td>\n",
       "      <td>Sage Enterprise Intelligence for Sage X3</td>\n",
       "      <td>Sage Enterprise Intelligence Error: Object ref...</td>\n",
       "      <td>2019-12-18T02:18:53.803</td>\n",
       "      <td>Efekpokpor Oke</td>\n",
       "      <td>Hello Guys,\\n\\nI'm getting the below error mes...</td>\n",
       "      <td>0.4019</td>\n",
       "      <td>0.074</td>\n",
       "      <td>...</td>\n",
       "      <td>[[Hello, Guys, ,, I, 'm, getting, the, below, ...</td>\n",
       "      <td>[[(Hello, NNP), (Guys, NNP), (,, ,), (I, PRP),...</td>\n",
       "      <td>[[Hello, Guys, ,, I, 'm, get, the, below, erro...</td>\n",
       "      <td>[guys, error, message, change, reporting, code...</td>\n",
       "      <td>0</td>\n",
       "      <td>0.998129</td>\n",
       "      <td>1</td>\n",
       "      <td>0.0</td>\n",
       "      <td>2</td>\n",
       "      <td>0.0</td>\n",
       "    </tr>\n",
       "    <tr>\n",
       "      <th>1073</th>\n",
       "      <td>1073</td>\n",
       "      <td>2876</td>\n",
       "      <td>294</td>\n",
       "      <td>Sage Enterprise Intelligence for Sage X3</td>\n",
       "      <td>Joining Tables with Mismatched Data Types</td>\n",
       "      <td>2019-10-24T14:04:33.85</td>\n",
       "      <td>Corey Milbert</td>\n",
       "      <td>I am trying to create view that shows the numb...</td>\n",
       "      <td>-0.4398</td>\n",
       "      <td>0.118</td>\n",
       "      <td>...</td>\n",
       "      <td>[[I, am, trying, to, create, view, that, shows...</td>\n",
       "      <td>[[(I, PRP), (am, VBP), (trying, VBG), (to, TO)...</td>\n",
       "      <td>[[I, be, try, to, create, view, that, show, th...</td>\n",
       "      <td>[create, view, show, number, po, receipt, per,...</td>\n",
       "      <td>0</td>\n",
       "      <td>0.999092</td>\n",
       "      <td>1</td>\n",
       "      <td>0.0</td>\n",
       "      <td>2</td>\n",
       "      <td>0.0</td>\n",
       "    </tr>\n",
       "    <tr>\n",
       "      <th>1079</th>\n",
       "      <td>1079</td>\n",
       "      <td>2936</td>\n",
       "      <td>332</td>\n",
       "      <td>Sage Data &amp;amp; Analytics</td>\n",
       "      <td>Script Dictionary &amp;gt; Screen &amp;gt; Field &amp;gt; ...</td>\n",
       "      <td>2020-07-15T03:11:16.5</td>\n",
       "      <td>jacksonsageuser</td>\n",
       "      <td>Could someone help me how can do the display o...</td>\n",
       "      <td>0.4404</td>\n",
       "      <td>0.092</td>\n",
       "      <td>...</td>\n",
       "      <td>[[Could, someone, help, me, how, can, do, the,...</td>\n",
       "      <td>[[(Could, NNP), (someone, NN), (help, VB), (me...</td>\n",
       "      <td>[[Could, someone, help, me, how, can, do, the,...</td>\n",
       "      <td>[could, someone, help, display, output, add, d...</td>\n",
       "      <td>0</td>\n",
       "      <td>0.995738</td>\n",
       "      <td>1</td>\n",
       "      <td>0.0</td>\n",
       "      <td>2</td>\n",
       "      <td>0.0</td>\n",
       "    </tr>\n",
       "    <tr>\n",
       "      <th>1080</th>\n",
       "      <td>1080</td>\n",
       "      <td>2937</td>\n",
       "      <td>332</td>\n",
       "      <td>Sage Data &amp;amp; Analytics</td>\n",
       "      <td>Landing page error in version 12 - After Migra...</td>\n",
       "      <td>2020-06-26T07:38:55.12</td>\n",
       "      <td>Greytrix</td>\n",
       "      <td>Hi All,\\nWe have migrated the data from versio...</td>\n",
       "      <td>0.7328</td>\n",
       "      <td>0.073</td>\n",
       "      <td>...</td>\n",
       "      <td>[[Hi, All, ,, We, have, migrated, the, data, f...</td>\n",
       "      <td>[[(Hi, NNP), (All, NNP), (,, ,), (We, PRP), (h...</td>\n",
       "      <td>[[Hi, All, ,, We, have, migrate, the, data, fr...</td>\n",
       "      <td>[migrate, version, version, environment, patch...</td>\n",
       "      <td>0</td>\n",
       "      <td>0.998848</td>\n",
       "      <td>1</td>\n",
       "      <td>0.0</td>\n",
       "      <td>2</td>\n",
       "      <td>0.0</td>\n",
       "    </tr>\n",
       "    <tr>\n",
       "      <th>1084</th>\n",
       "      <td>1084</td>\n",
       "      <td>2941</td>\n",
       "      <td>332</td>\n",
       "      <td>Sage Data &amp;amp; Analytics</td>\n",
       "      <td>year closing</td>\n",
       "      <td>2020-01-20T07:01:58.37</td>\n",
       "      <td>info@epochholland.nl</td>\n",
       "      <td></td>\n",
       "      <td>0.0000</td>\n",
       "      <td>0.000</td>\n",
       "      <td>...</td>\n",
       "      <td>[]</td>\n",
       "      <td>[]</td>\n",
       "      <td>[]</td>\n",
       "      <td>[]</td>\n",
       "      <td>0</td>\n",
       "      <td>0.25</td>\n",
       "      <td>1</td>\n",
       "      <td>0.25</td>\n",
       "      <td>2</td>\n",
       "      <td>0.25</td>\n",
       "    </tr>\n",
       "  </tbody>\n",
       "</table>\n",
       "<p>268 rows × 29 columns</p>\n",
       "</div>"
      ],
      "text/plain": [
       "      level_0  index  Forum ID                                Forum Name  \\\n",
       "6           6    126        40                Sage X3 General Discussion   \n",
       "10         10    250        40                Sage X3 General Discussion   \n",
       "26         26    656        40                Sage X3 General Discussion   \n",
       "35         35    845        40                Sage X3 General Discussion   \n",
       "37         37    877        40                Sage X3 General Discussion   \n",
       "...       ...    ...       ...                                       ...   \n",
       "1069     1069   2872       294  Sage Enterprise Intelligence for Sage X3   \n",
       "1073     1073   2876       294  Sage Enterprise Intelligence for Sage X3   \n",
       "1079     1079   2936       332                 Sage Data &amp; Analytics   \n",
       "1080     1080   2937       332                 Sage Data &amp; Analytics   \n",
       "1084     1084   2941       332                 Sage Data &amp; Analytics   \n",
       "\n",
       "                                                Subject  \\\n",
       "6                                        V12 Data Model   \n",
       "10                X3 Price list activation/deactivation   \n",
       "26    web service X3 V11 Cannot read property &#39;G...   \n",
       "35           XML Example of deleteLines and InsertLines   \n",
       "37                                   Production Planner   \n",
       "...                                                 ...   \n",
       "1069  Sage Enterprise Intelligence Error: Object ref...   \n",
       "1073          Joining Tables with Mismatched Data Types   \n",
       "1079  Script Dictionary &gt; Screen &gt; Field &gt; ...   \n",
       "1080  Landing page error in version 12 - After Migra...   \n",
       "1084                                       year closing   \n",
       "\n",
       "                    Post Date      User DisplayName  \\\n",
       "6     2019-10-11T16:02:41.787          Juan Pablo G   \n",
       "10     2019-10-14T22:38:08.26      garry@kbm.net.au   \n",
       "26     2019-10-23T12:09:17.84                 Alec6   \n",
       "35    2019-10-29T16:46:32.203               ChrisCC   \n",
       "37    2019-10-30T08:21:45.053                Mikael   \n",
       "...                       ...                   ...   \n",
       "1069  2019-12-18T02:18:53.803        Efekpokpor Oke   \n",
       "1073   2019-10-24T14:04:33.85         Corey Milbert   \n",
       "1079    2020-07-15T03:11:16.5       jacksonsageuser   \n",
       "1080   2020-06-26T07:38:55.12              Greytrix   \n",
       "1084   2020-01-20T07:01:58.37  info@epochholland.nl   \n",
       "\n",
       "                                         Forum_Post_Raw  compound    neg  ...  \\\n",
       "6     Is the online help data model correct for V12?...    0.4019  0.000  ...   \n",
       "10    Hi all.\\nI have unchecked the Active box on a ...   -0.3818  0.102  ...   \n",
       "26    Hi,\\nI see this question without solution post...    0.0098  0.055  ...   \n",
       "35    Can I get an example XML view of how the delet...    0.6597  0.000  ...   \n",
       "37    \\n\\nAny Clues?  The Application Error \"The map...   -0.1027  0.129  ...   \n",
       "...                                                 ...       ...    ...  ...   \n",
       "1069  Hello Guys,\\n\\nI'm getting the below error mes...    0.4019  0.074  ...   \n",
       "1073  I am trying to create view that shows the numb...   -0.4398  0.118  ...   \n",
       "1079  Could someone help me how can do the display o...    0.4404  0.092  ...   \n",
       "1080  Hi All,\\nWe have migrated the data from versio...    0.7328  0.073  ...   \n",
       "1084                                                       0.0000  0.000  ...   \n",
       "\n",
       "                                       tokens_sentences  \\\n",
       "6     [[Is, the, online, help, data, model, correct,...   \n",
       "10    [[Hi, all, .], [I, have, unchecked, the, Activ...   \n",
       "26    [[Hi, ,, I, see, this, question, without, solu...   \n",
       "35    [[Can, I, get, an, example, XML, view, of, how...   \n",
       "37    [[Any, Clues, ?], [The, Application, Error, ``...   \n",
       "...                                                 ...   \n",
       "1069  [[Hello, Guys, ,, I, 'm, getting, the, below, ...   \n",
       "1073  [[I, am, trying, to, create, view, that, shows...   \n",
       "1079  [[Could, someone, help, me, how, can, do, the,...   \n",
       "1080  [[Hi, All, ,, We, have, migrated, the, data, f...   \n",
       "1084                                                 []   \n",
       "\n",
       "                                             POS_tokens  \\\n",
       "6     [[(Is, VBZ), (the, DT), (online, NN), (help, N...   \n",
       "10    [[(Hi, NNP), (all, DT), (., .)], [(I, PRP), (h...   \n",
       "26    [[(Hi, NNP), (,, ,), (I, PRP), (see, VBP), (th...   \n",
       "35    [[(Can, MD), (I, PRP), (get, VB), (an, DT), (e...   \n",
       "37    [[(Any, DT), (Clues, NNP), (?, .)], [(The, DT)...   \n",
       "...                                                 ...   \n",
       "1069  [[(Hello, NNP), (Guys, NNP), (,, ,), (I, PRP),...   \n",
       "1073  [[(I, PRP), (am, VBP), (trying, VBG), (to, TO)...   \n",
       "1079  [[(Could, NNP), (someone, NN), (help, VB), (me...   \n",
       "1080  [[(Hi, NNP), (All, NNP), (,, ,), (We, PRP), (h...   \n",
       "1084                                                 []   \n",
       "\n",
       "                            tokens_sentences_lemmatized  \\\n",
       "6     [[Is, the, online, help, data, model, correct,...   \n",
       "10    [[Hi, all, .], [I, have, unchecked, the, Activ...   \n",
       "26    [[Hi, ,, I, see, this, question, without, solu...   \n",
       "35    [[Can, I, get, an, example, XML, view, of, how...   \n",
       "37    [[Any, Clues, ?], [The, Application, Error, ``...   \n",
       "...                                                 ...   \n",
       "1069  [[Hello, Guys, ,, I, 'm, get, the, below, erro...   \n",
       "1073  [[I, be, try, to, create, view, that, show, th...   \n",
       "1079  [[Could, someone, help, me, how, can, do, the,...   \n",
       "1080  [[Hi, All, ,, We, have, migrate, the, data, fr...   \n",
       "1084                                                 []   \n",
       "\n",
       "                                                 tokens topic0  topic0_pct  \\\n",
       "6            [online, help, model, correct, file, show]      0    0.994047   \n",
       "10    [unchecked, active, box, sale, price, list, ve...      0    0.719807   \n",
       "26    [question, without, solution, post, year, ago,...      0    0.996681   \n",
       "35    [example, xml, view, deletelines, insertlines,...      0    0.995033   \n",
       "37    [clues, application, error, mapping, productio...      0    0.995738   \n",
       "...                                                 ...    ...         ...   \n",
       "1069  [guys, error, message, change, reporting, code...      0    0.998129   \n",
       "1073  [create, view, show, number, po, receipt, per,...      0    0.999092   \n",
       "1079  [could, someone, help, display, output, add, d...      0    0.995738   \n",
       "1080  [migrate, version, version, environment, patch...      0    0.998848   \n",
       "1084                                                 []      0        0.25   \n",
       "\n",
       "     topic1 topic1_pct topic2 topic2_pct  \n",
       "6         1        0.0      2        0.0  \n",
       "10        1     0.2782      2        0.0  \n",
       "26        1        0.0      2        0.0  \n",
       "35        1        0.0      2        0.0  \n",
       "37        1        0.0      2        0.0  \n",
       "...     ...        ...    ...        ...  \n",
       "1069      1        0.0      2        0.0  \n",
       "1073      1        0.0      2        0.0  \n",
       "1079      1        0.0      2        0.0  \n",
       "1080      1        0.0      2        0.0  \n",
       "1084      1       0.25      2       0.25  \n",
       "\n",
       "[268 rows x 29 columns]"
      ]
     },
     "execution_count": 726,
     "metadata": {},
     "output_type": "execute_result"
    }
   ],
   "source": [
    "dfLDA[dfLDA['topic0']==0]"
   ]
  },
  {
   "cell_type": "code",
   "execution_count": 727,
   "metadata": {
    "scrolled": true
   },
   "outputs": [],
   "source": [
    "# frame.Forum_Post_Raw, frame.neg, frame.neu, frame.pos\n",
    "dfResults.to_html(open('results.html', 'w'))\n"
   ]
  },
  {
   "cell_type": "code",
   "execution_count": 728,
   "metadata": {},
   "outputs": [
    {
     "data": {
      "text/html": [
       "<div>\n",
       "<style scoped>\n",
       "    .dataframe tbody tr th:only-of-type {\n",
       "        vertical-align: middle;\n",
       "    }\n",
       "\n",
       "    .dataframe tbody tr th {\n",
       "        vertical-align: top;\n",
       "    }\n",
       "\n",
       "    .dataframe thead th {\n",
       "        text-align: right;\n",
       "    }\n",
       "</style>\n",
       "<table border=\"1\" class=\"dataframe\">\n",
       "  <thead>\n",
       "    <tr style=\"text-align: right;\">\n",
       "      <th></th>\n",
       "      <th>Forum Name</th>\n",
       "      <th>Forum_Post_Raw</th>\n",
       "      <th>topic0_pct</th>\n",
       "      <th>topic1_pct</th>\n",
       "      <th>topic2_pct</th>\n",
       "    </tr>\n",
       "  </thead>\n",
       "  <tbody>\n",
       "    <tr>\n",
       "      <th>0</th>\n",
       "      <td>Sage X3 General Discussion</td>\n",
       "      <td>Company upgraded to windows 10. Used to run an...</td>\n",
       "      <td>0.999167</td>\n",
       "      <td>0.0</td>\n",
       "      <td>0.0</td>\n",
       "    </tr>\n",
       "    <tr>\n",
       "      <th>1</th>\n",
       "      <td>Sage X3 General Discussion</td>\n",
       "      <td>Hello!\\n\\nI see that Sage V11 patch 14 was com...</td>\n",
       "      <td>0.523965</td>\n",
       "      <td>0.475429</td>\n",
       "      <td>0.0</td>\n",
       "    </tr>\n",
       "    <tr>\n",
       "      <th>2</th>\n",
       "      <td>Sage X3 Announcements, News, and Alerts</td>\n",
       "      <td>To access this download, log into https://supp...</td>\n",
       "      <td>0.998424</td>\n",
       "      <td>0.0</td>\n",
       "      <td>0.0</td>\n",
       "    </tr>\n",
       "    <tr>\n",
       "      <th>3</th>\n",
       "      <td>Sage X3 Announcements, News, and Alerts</td>\n",
       "      <td>To access this download, log into https://supp...</td>\n",
       "      <td>0.998424</td>\n",
       "      <td>0.0</td>\n",
       "      <td>0.0</td>\n",
       "    </tr>\n",
       "    <tr>\n",
       "      <th>4</th>\n",
       "      <td>Sage X3 General Discussion</td>\n",
       "      <td>I am trying to remove some of the columns on t...</td>\n",
       "      <td>0.677048</td>\n",
       "      <td>0.322044</td>\n",
       "      <td>0.0</td>\n",
       "    </tr>\n",
       "    <tr>\n",
       "      <th>...</th>\n",
       "      <td>...</td>\n",
       "      <td>...</td>\n",
       "      <td>...</td>\n",
       "      <td>...</td>\n",
       "      <td>...</td>\n",
       "    </tr>\n",
       "    <tr>\n",
       "      <th>1081</th>\n",
       "      <td>Sage Data &amp;amp; Analytics</td>\n",
       "      <td>\\nThe above pic is  carry forward selection ch...</td>\n",
       "      <td>0.998698</td>\n",
       "      <td>0.0</td>\n",
       "      <td>0.0</td>\n",
       "    </tr>\n",
       "    <tr>\n",
       "      <th>1082</th>\n",
       "      <td>Sage Data &amp;amp; Analytics</td>\n",
       "      <td>Hello guys, \\n\\nI hope you are well. \\n\\nI mad...</td>\n",
       "      <td>0.56439</td>\n",
       "      <td>0.433798</td>\n",
       "      <td>0.0</td>\n",
       "    </tr>\n",
       "    <tr>\n",
       "      <th>1083</th>\n",
       "      <td>Sage Data &amp;amp; Analytics</td>\n",
       "      <td>It says all the lines are converted but it did...</td>\n",
       "      <td>0.994047</td>\n",
       "      <td>0.0</td>\n",
       "      <td>0.0</td>\n",
       "    </tr>\n",
       "    <tr>\n",
       "      <th>1084</th>\n",
       "      <td>Sage Data &amp;amp; Analytics</td>\n",
       "      <td></td>\n",
       "      <td>0.25</td>\n",
       "      <td>0.25</td>\n",
       "      <td>0.25</td>\n",
       "    </tr>\n",
       "    <tr>\n",
       "      <th>1085</th>\n",
       "      <td>Sage Data &amp;amp; Analytics</td>\n",
       "      <td>requester links aren't my strong suit- I can h...</td>\n",
       "      <td>0.542575</td>\n",
       "      <td>0.455613</td>\n",
       "      <td>0.0</td>\n",
       "    </tr>\n",
       "  </tbody>\n",
       "</table>\n",
       "<p>1086 rows × 5 columns</p>\n",
       "</div>"
      ],
      "text/plain": [
       "                                   Forum Name  \\\n",
       "0                  Sage X3 General Discussion   \n",
       "1                  Sage X3 General Discussion   \n",
       "2     Sage X3 Announcements, News, and Alerts   \n",
       "3     Sage X3 Announcements, News, and Alerts   \n",
       "4                  Sage X3 General Discussion   \n",
       "...                                       ...   \n",
       "1081                Sage Data &amp; Analytics   \n",
       "1082                Sage Data &amp; Analytics   \n",
       "1083                Sage Data &amp; Analytics   \n",
       "1084                Sage Data &amp; Analytics   \n",
       "1085                Sage Data &amp; Analytics   \n",
       "\n",
       "                                         Forum_Post_Raw topic0_pct topic1_pct  \\\n",
       "0     Company upgraded to windows 10. Used to run an...   0.999167        0.0   \n",
       "1     Hello!\\n\\nI see that Sage V11 patch 14 was com...   0.523965   0.475429   \n",
       "2     To access this download, log into https://supp...   0.998424        0.0   \n",
       "3     To access this download, log into https://supp...   0.998424        0.0   \n",
       "4     I am trying to remove some of the columns on t...   0.677048   0.322044   \n",
       "...                                                 ...        ...        ...   \n",
       "1081  \\nThe above pic is  carry forward selection ch...   0.998698        0.0   \n",
       "1082  Hello guys, \\n\\nI hope you are well. \\n\\nI mad...    0.56439   0.433798   \n",
       "1083  It says all the lines are converted but it did...   0.994047        0.0   \n",
       "1084                                                          0.25       0.25   \n",
       "1085  requester links aren't my strong suit- I can h...   0.542575   0.455613   \n",
       "\n",
       "     topic2_pct  \n",
       "0           0.0  \n",
       "1           0.0  \n",
       "2           0.0  \n",
       "3           0.0  \n",
       "4           0.0  \n",
       "...         ...  \n",
       "1081        0.0  \n",
       "1082        0.0  \n",
       "1083        0.0  \n",
       "1084       0.25  \n",
       "1085        0.0  \n",
       "\n",
       "[1086 rows x 5 columns]"
      ]
     },
     "execution_count": 728,
     "metadata": {},
     "output_type": "execute_result"
    }
   ],
   "source": [
    "dfResults"
   ]
  },
  {
   "cell_type": "markdown",
   "metadata": {},
   "source": [
    "# Obtaining A Coherence Score"
   ]
  },
  {
   "cell_type": "code",
   "execution_count": 729,
   "metadata": {
    "scrolled": true
   },
   "outputs": [],
   "source": [
    "# ! pip install spacy"
   ]
  },
  {
   "cell_type": "code",
   "execution_count": 730,
   "metadata": {},
   "outputs": [
    {
     "data": {
      "text/plain": [
       "0       [company, upgrade, windows, used, run, erp, pr...\n",
       "1       [patch, complete, october, least, patch, finde...\n",
       "2       [access, log, http, search, field, type, click...\n",
       "3       [access, log, http, search, field, type, click...\n",
       "4       [remove, column, object, stock, selection, bro...\n",
       "                              ...                        \n",
       "1081    [pic, carry, forward, selection, check, unchec...\n",
       "1082    [guy, hope, well, research, surprisingly, find...\n",
       "1083    [line, convert, generate, dat, file, idea, ple...\n",
       "1084                                                   []\n",
       "1085    [requester, link, strong, handle, crystal, rep...\n",
       "Name: tokens, Length: 1086, dtype: object"
      ]
     },
     "execution_count": 730,
     "metadata": {},
     "output_type": "execute_result"
    }
   ],
   "source": [
    "dfLDA.tokens"
   ]
  },
  {
   "cell_type": "code",
   "execution_count": 731,
   "metadata": {},
   "outputs": [
    {
     "data": {
      "text/plain": [
       "<gensim.corpora.dictionary.Dictionary at 0x1eb13463cd0>"
      ]
     },
     "execution_count": 731,
     "metadata": {},
     "output_type": "execute_result"
    }
   ],
   "source": [
    "id2word = Dictionary(tokens)\n",
    "id2word"
   ]
  },
  {
   "cell_type": "code",
   "execution_count": 745,
   "metadata": {},
   "outputs": [
    {
     "data": {
      "text/plain": [
       "-4.46218360875975"
      ]
     },
     "execution_count": 745,
     "metadata": {},
     "output_type": "execute_result"
    }
   ],
   "source": [
    "# https://towardsdatascience.com/evaluate-topic-model-in-python-latent-dirichlet-allocation-lda-7d57484bb5d0\n",
    "\n",
    "# C_v measure is based on a sliding window, one-set segmentation of the top words and an indirect confirmation measure that uses normalized pointwise mutual information (NPMI) and the cosine similarity\n",
    "# C_p is based on a sliding window, one-preceding segmentation of the top words and the confirmation measure of Fitelson’s coherence\n",
    "# C_uci measure is based on a sliding window and the pointwise mutual information (PMI) of all word pairs of the given top words\n",
    "# C_umass is based on document cooccurrence counts, a one-preceding segmentation and a logarithmic conditional probability as confirmation measure\n",
    "# C_npmi is an enhanced version of the C_uci coherence using the normalized pointwise mutual information (NPMI)\n",
    "# C_a is baseed on a context window, a pairwise comparison of the top words and an indirect confirmation measure that uses normalized pointwise mutual information (NPMI) and the cosine similarity\n",
    "\n",
    "cm = CoherenceModel(model=lda_model, corpus=corpus, texts=dfLDA['Forum_Post_Raw'], coherence='u_mass')\n",
    "cm.get_coherence()"
   ]
  },
  {
   "cell_type": "code",
   "execution_count": 733,
   "metadata": {},
   "outputs": [
    {
     "data": {
      "text/plain": [
       "0    [[Company, upgrade, to, windows, 10, .], [Used...\n",
       "1    [[Hello, !], [I, see, that, Sage, V11, patch, ...\n",
       "2    [[To, access, this, download, ,, log, into, ht...\n",
       "3    [[To, access, this, download, ,, log, into, ht...\n",
       "4    [[I, be, try, to, remove, some, of, the, colum...\n",
       "Name: tokens_sentences_lemmatized, dtype: object"
      ]
     },
     "execution_count": 733,
     "metadata": {},
     "output_type": "execute_result"
    }
   ],
   "source": [
    "dfLDA['tokens_sentences_lemmatized'].head()"
   ]
  },
  {
   "cell_type": "code",
   "execution_count": 734,
   "metadata": {},
   "outputs": [],
   "source": [
    "def compute_coherence_values(dictionary, corpus, texts, limit, start=2, step=3):\n",
    "    \"\"\"\n",
    "    Compute c_v coherence for various number of topics\n",
    "\n",
    "    Parameters:\n",
    "    ----------\n",
    "    dictionary : Gensim dictionary\n",
    "    corpus : Gensim corpus\n",
    "    texts : List of input texts\n",
    "    limit : Max num of topics\n",
    "\n",
    "    Returns:\n",
    "    -------\n",
    "    model_list : List of LDA topic models\n",
    "    coherence_values : Coherence values corresponding to the LDA model with respective number of topics\n",
    "    \"\"\"\n",
    "    coherence_values = []\n",
    "    model_list = []\n",
    "    for num_topics in range(start, limit, step):\n",
    "        model=LdaModel(corpus=corpus, id2word=dictionary, num_topics=num_topics)\n",
    "#         model=lda_model\n",
    "        model_list.append(model)\n",
    "        coherencemodel = CoherenceModel(model=model, texts=texts, dictionary=dictionary, coherence='u_mass')\n",
    "        coherence_values.append(coherencemodel.get_coherence())\n",
    "\n",
    "    return model_list, coherence_values\n"
   ]
  },
  {
   "cell_type": "code",
   "execution_count": 735,
   "metadata": {},
   "outputs": [],
   "source": [
    "# dfLDA['tokens'][:3].to_list()"
   ]
  },
  {
   "cell_type": "code",
   "execution_count": 736,
   "metadata": {},
   "outputs": [
    {
     "data": {
      "image/png": "[encoded data removed]",
      "text/plain": [
       "<Figure size 640x480 with 1 Axes>"
      ]
     },
     "metadata": {
      "needs_background": "light"
     },
     "output_type": "display_data"
    }
   ],
   "source": [
    "model_list, coherence_values = compute_coherence_values(dictionary=id2word , corpus=corpus, texts=dfLDA['tokens'].to_list(), start=2, limit=40, step=6)\n",
    "# Show graph\n",
    "import matplotlib.pyplot as plt\n",
    "from matplotlib.pyplot import figure\n",
    "\n",
    "figure(figsize=(8, 6), dpi=80)\n",
    "\n",
    "limit=40; start=2; step=6;\n",
    "x = range(start, limit, step)\n",
    "plt.plot(x, coherence_values)\n",
    "plt.xlabel(\"Num Topics\")\n",
    "plt.ylabel(\"Coherence score\")\n",
    "plt.legend((\"coherence_values\"), loc='best')\n",
    "plt.show()"
   ]
  },
  {
   "cell_type": "code",
   "execution_count": 587,
   "metadata": {},
   "outputs": [],
   "source": [
    "# data = pd.DataFrame({\"Num Topics\": x, \"Coherence score\": coherence_values})\n",
    "# sns.lineplot(data=data, x='Num Topics', y='Coherence score', markers=True)"
   ]
  },
  {
   "cell_type": "code",
   "execution_count": null,
   "metadata": {},
   "outputs": [],
   "source": []
  },
  {
   "cell_type": "code",
   "execution_count": null,
   "metadata": {},
   "outputs": [],
   "source": []
  }
 ],
 "metadata": {
  "interpreter": {
   "hash": "6a17a13407a242fa5e52f5f0d84ee969a8e600591a999235f1645da9e037e8a0"
  },
  "kernelspec": {
   "display_name": "Python 3",
   "language": "python",
   "name": "python3"
  },
  "language_info": {
   "codemirror_mode": {
    "name": "ipython",
    "version": 3
   },
   "file_extension": ".py",
   "mimetype": "text/x-python",
   "name": "python",
   "nbconvert_exporter": "python",
   "pygments_lexer": "ipython3",
   "version": "3.8.8"
  }
 },
 "nbformat": 4,
 "nbformat_minor": 2
}
